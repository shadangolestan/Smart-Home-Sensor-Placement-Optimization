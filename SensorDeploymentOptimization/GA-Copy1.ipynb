{
 "cells": [
  {
   "cell_type": "code",
   "execution_count": 1,
   "metadata": {
    "executionInfo": {
     "elapsed": 2228,
     "status": "ok",
     "timestamp": 1635471051205,
     "user": {
      "displayName": "Shadan Golestan-Irani",
      "photoUrl": "https://lh3.googleusercontent.com/a-/AOh14GjzIpBx-tX-xncT2d8sC4323jdDLC4K-HcuzJgpIA=s64",
      "userId": "05022969837639573312"
     },
     "user_tz": 360
    },
    "id": "j9zzrlSIv5tq",
    "scrolled": false
   },
   "outputs": [
    {
     "name": "stdout",
     "output_type": "stream",
     "text": [
      "-----  Running Genetic Algorithm # 1 :\n",
      "----- Running GA for epsilon = 0.5\n"
     ]
    },
    {
     "data": {
      "application/vnd.jupyter.widget-view+json": {
       "model_id": "eb8f66266fd540aca9ab4806239e3cab",
       "version_major": 2,
       "version_minor": 0
      },
      "text/plain": [
       "IntProgress(value=0)"
      ]
     },
     "metadata": {},
     "output_type": "display_data"
    },
    {
     "name": "stdout",
     "output_type": "stream",
     "text": [
      "(epoch 1) ----- The best answer: {56.179317} with (15) number of sensors (average fitness is: 34.913802)\n",
      "(epoch 2) ----- The best answer: {56.179317} with (15) number of sensors (average fitness is: 37.268902)\n",
      "(epoch 3) ----- The best answer: {56.179317} with (15) number of sensors (average fitness is: 37.401784)\n",
      "(epoch 4) ----- The best answer: {56.179317} with (15) number of sensors (average fitness is: 37.172383)\n",
      "(epoch 5) ----- The best answer: {57.146681} with (15) number of sensors (average fitness is: 37.875404)\n",
      "(epoch 6) ----- The best answer: {57.146681} with (15) number of sensors (average fitness is: 38.686713)\n",
      "(epoch 7) ----- The best answer: {57.146681} with (15) number of sensors (average fitness is: 38.387494)\n",
      "(epoch 8) ----- The best answer: {57.739549} with (15) number of sensors (average fitness is: 39.193390)\n",
      "(epoch 9) ----- The best answer: {57.739549} with (15) number of sensors (average fitness is: 39.450840)\n",
      "(epoch 10) ----- The best answer: {57.739549} with (15) number of sensors (average fitness is: 39.144918)\n",
      "(epoch 11) ----- The best answer: {57.739549} with (15) number of sensors (average fitness is: 38.352566)\n",
      "(epoch 12) ----- The best answer: {57.739549} with (15) number of sensors (average fitness is: 39.181488)\n",
      "(epoch 13) ----- The best answer: {57.739549} with (15) number of sensors (average fitness is: 39.116936)\n",
      "(epoch 14) ----- The best answer: {57.739549} with (15) number of sensors (average fitness is: 38.805876)\n",
      "(epoch 15) ----- The best answer: {57.739549} with (15) number of sensors (average fitness is: 38.812957)\n",
      "(epoch 16) ----- The best answer: {57.739549} with (15) number of sensors (average fitness is: 39.740477)\n",
      "(epoch 17) ----- The best answer: {57.739549} with (15) number of sensors (average fitness is: 38.773500)\n",
      "(epoch 18) ----- The best answer: {57.739549} with (15) number of sensors (average fitness is: 39.274269)\n",
      "(epoch 19) ----- The best answer: {57.739549} with (15) number of sensors (average fitness is: 39.496631)\n",
      "(epoch 20) ----- The best answer: {57.739549} with (15) number of sensors (average fitness is: 39.244895)\n",
      "(epoch 21) ----- The best answer: {57.846970} with (15) number of sensors (average fitness is: 40.108768)\n",
      "(epoch 22) ----- The best answer: {57.533615} with (14) number of sensors (average fitness is: 38.922452)\n",
      "(epoch 23) ----- The best answer: {57.533615} with (14) number of sensors (average fitness is: 38.634568)\n",
      "(epoch 24) ----- The best answer: {57.533615} with (14) number of sensors (average fitness is: 39.104725)\n",
      "(epoch 25) ----- The best answer: {57.533615} with (14) number of sensors (average fitness is: 38.466856)\n",
      "(epoch 26) ----- The best answer: {57.533615} with (14) number of sensors (average fitness is: 40.060290)\n",
      "(epoch 27) ----- The best answer: {57.533615} with (14) number of sensors (average fitness is: 39.109924)\n",
      "(epoch 28) ----- The best answer: {57.533615} with (14) number of sensors (average fitness is: 38.538596)\n",
      "(epoch 29) ----- The best answer: {57.533615} with (14) number of sensors (average fitness is: 39.216162)\n",
      "(epoch 30) ----- The best answer: {57.533615} with (14) number of sensors (average fitness is: 38.244598)\n",
      "(epoch 31) ----- The best answer: {57.533615} with (14) number of sensors (average fitness is: 39.288098)\n",
      "(epoch 32) ----- The best answer: {57.533615} with (14) number of sensors (average fitness is: 39.178674)\n",
      "(epoch 33) ----- The best answer: {57.533615} with (14) number of sensors (average fitness is: 39.633923)\n",
      "(epoch 34) ----- The best answer: {57.533615} with (14) number of sensors (average fitness is: 39.284453)\n",
      "(epoch 35) ----- The best answer: {57.533615} with (14) number of sensors (average fitness is: 40.070369)\n",
      "(epoch 36) ----- The best answer: {57.533615} with (14) number of sensors (average fitness is: 39.516992)\n",
      "(epoch 37) ----- The best answer: {57.533615} with (14) number of sensors (average fitness is: 39.546169)\n",
      "(epoch 38) ----- The best answer: {57.533615} with (14) number of sensors (average fitness is: 40.364504)\n",
      "(epoch 39) ----- The best answer: {57.533615} with (14) number of sensors (average fitness is: 39.846642)\n",
      "(epoch 40) ----- The best answer: {58.563579} with (15) number of sensors (average fitness is: 39.703044)\n",
      "(epoch 41) ----- The best answer: {58.563579} with (15) number of sensors (average fitness is: 40.454673)\n",
      "(epoch 42) ----- The best answer: {58.563579} with (15) number of sensors (average fitness is: 40.433206)\n",
      "(epoch 43) ----- The best answer: {58.563579} with (15) number of sensors (average fitness is: 39.608216)\n",
      "(epoch 44) ----- The best answer: {58.563579} with (15) number of sensors (average fitness is: 40.608391)\n",
      "(epoch 45) ----- The best answer: {58.563579} with (15) number of sensors (average fitness is: 40.925389)\n",
      "(epoch 46) ----- The best answer: {58.563579} with (15) number of sensors (average fitness is: 40.106937)\n",
      "(epoch 47) ----- The best answer: {58.563579} with (15) number of sensors (average fitness is: 40.076117)\n",
      "(epoch 48) ----- The best answer: {58.563579} with (15) number of sensors (average fitness is: 40.465076)\n",
      "(epoch 49) ----- The best answer: {58.563579} with (15) number of sensors (average fitness is: 39.258029)\n",
      "(epoch 50) ----- The best answer: {58.563579} with (15) number of sensors (average fitness is: 40.149162)\n",
      "(epoch 51) ----- The best answer: {58.563579} with (15) number of sensors (average fitness is: 40.291262)\n",
      "(epoch 52) ----- The best answer: {58.563579} with (15) number of sensors (average fitness is: 40.825843)\n",
      "(epoch 53) ----- The best answer: {58.563579} with (15) number of sensors (average fitness is: 40.487433)\n",
      "(epoch 54) ----- The best answer: {58.563579} with (15) number of sensors (average fitness is: 39.031549)\n",
      "(epoch 55) ----- The best answer: {58.563579} with (15) number of sensors (average fitness is: 39.778701)\n",
      "(epoch 56) ----- The best answer: {58.563579} with (15) number of sensors (average fitness is: 39.863828)\n",
      "(epoch 57) ----- The best answer: {58.563579} with (15) number of sensors (average fitness is: 40.497846)\n",
      "(epoch 58) ----- The best answer: {58.563579} with (15) number of sensors (average fitness is: 40.164123)\n",
      "(epoch 59) ----- The best answer: {58.563579} with (15) number of sensors (average fitness is: 41.209737)\n",
      "(epoch 60) ----- The best answer: {58.563579} with (15) number of sensors (average fitness is: 39.957520)\n",
      "(epoch 61) ----- The best answer: {58.563579} with (15) number of sensors (average fitness is: 39.575912)\n",
      "(epoch 62) ----- The best answer: {58.563579} with (15) number of sensors (average fitness is: 38.989818)\n",
      "(epoch 63) ----- The best answer: {58.563579} with (15) number of sensors (average fitness is: 39.948955)\n",
      "(epoch 64) ----- The best answer: {58.563579} with (15) number of sensors (average fitness is: 40.081797)\n",
      "(epoch 65) ----- The best answer: {58.563579} with (15) number of sensors (average fitness is: 40.097639)\n",
      "(epoch 66) ----- The best answer: {58.563579} with (15) number of sensors (average fitness is: 40.166175)\n",
      "(epoch 67) ----- The best answer: {58.563579} with (15) number of sensors (average fitness is: 39.914244)\n",
      "(epoch 68) ----- The best answer: {58.563579} with (15) number of sensors (average fitness is: 39.009323)\n",
      "(epoch 69) ----- The best answer: {58.563579} with (15) number of sensors (average fitness is: 41.119360)\n",
      "(epoch 70) ----- The best answer: {58.563579} with (15) number of sensors (average fitness is: 40.326296)\n",
      "(epoch 71) ----- The best answer: {59.151527} with (15) number of sensors (average fitness is: 40.923127)\n",
      "(epoch 72) ----- The best answer: {59.151527} with (15) number of sensors (average fitness is: 39.933010)\n",
      "(epoch 73) ----- The best answer: {59.151527} with (15) number of sensors (average fitness is: 39.729822)\n",
      "(epoch 74) ----- The best answer: {59.151527} with (15) number of sensors (average fitness is: 40.316805)\n",
      "(epoch 75) ----- The best answer: {59.151527} with (15) number of sensors (average fitness is: 39.778977)\n",
      "(epoch 76) ----- The best answer: {59.151527} with (15) number of sensors (average fitness is: 39.280153)\n",
      "(epoch 77) ----- The best answer: {59.151527} with (15) number of sensors (average fitness is: 40.431609)\n",
      "(epoch 78) ----- The best answer: {59.151527} with (15) number of sensors (average fitness is: 40.352663)\n"
     ]
    },
    {
     "name": "stdout",
     "output_type": "stream",
     "text": [
      "(epoch 79) ----- The best answer: {59.151527} with (15) number of sensors (average fitness is: 40.798266)\n",
      "(epoch 80) ----- The best answer: {59.151527} with (15) number of sensors (average fitness is: 40.236960)\n",
      "(epoch 81) ----- The best answer: {59.151527} with (15) number of sensors (average fitness is: 40.537634)\n",
      "(epoch 82) ----- The best answer: {59.151527} with (15) number of sensors (average fitness is: 39.474636)\n",
      "(epoch 83) ----- The best answer: {59.151527} with (15) number of sensors (average fitness is: 39.028403)\n",
      "(epoch 84) ----- The best answer: {59.151527} with (15) number of sensors (average fitness is: 39.315824)\n",
      "(epoch 85) ----- The best answer: {59.151527} with (15) number of sensors (average fitness is: 40.327631)\n",
      "(epoch 86) ----- The best answer: {59.151527} with (15) number of sensors (average fitness is: 40.918570)\n",
      "(epoch 87) ----- The best answer: {59.151527} with (15) number of sensors (average fitness is: 40.002364)\n",
      "(epoch 88) ----- The best answer: {59.151527} with (15) number of sensors (average fitness is: 40.535238)\n",
      "(epoch 89) ----- The best answer: {59.151527} with (15) number of sensors (average fitness is: 40.534114)\n",
      "(epoch 90) ----- The best answer: {59.151527} with (15) number of sensors (average fitness is: 40.891581)\n",
      "(epoch 91) ----- The best answer: {59.151527} with (15) number of sensors (average fitness is: 39.991640)\n",
      "(epoch 92) ----- The best answer: {59.151527} with (15) number of sensors (average fitness is: 40.914335)\n",
      "(epoch 93) ----- The best answer: {59.151527} with (15) number of sensors (average fitness is: 39.854834)\n",
      "(epoch 94) ----- The best answer: {59.151527} with (15) number of sensors (average fitness is: 40.053352)\n",
      "(epoch 95) ----- The best answer: {59.151527} with (15) number of sensors (average fitness is: 40.206881)\n",
      "(epoch 96) ----- The best answer: {59.151527} with (15) number of sensors (average fitness is: 40.864876)\n",
      "(epoch 97) ----- The best answer: {59.151527} with (15) number of sensors (average fitness is: 40.963113)\n",
      "(epoch 98) ----- The best answer: {59.151527} with (15) number of sensors (average fitness is: 41.010814)\n",
      "(epoch 99) ----- The best answer: {59.151527} with (15) number of sensors (average fitness is: 40.192048)\n",
      "(epoch 100) ----- The best answer: {59.151527} with (15) number of sensors (average fitness is: 41.246753)\n",
      "\t Best accuracy found: 59.151526974305014  sensors num used: 15.0\n"
     ]
    }
   ],
   "source": [
    "import SensorOptimizers.GeneticAlgorithm as ga\n",
    "import numpy as np\n",
    "import pickle\n",
    "\n",
    "for i in range(1, 2):\n",
    "    print('----- ', 'Running Genetic Algorithm #', i, ':')\n",
    "    result, best_configuration_history = ga.run(iteration = 100, \n",
    "                                                population = 10,\n",
    "                                                epsilon = 0.5, \n",
    "                                                initSensorNum = 15, \n",
    "                                                maxSensorNum = 15,  \n",
    "                                                radius = 1, \n",
    "                                                mutation_rate = 0.005, \n",
    "                                                crossover = 2,\n",
    "                                                survival_rate = 0.1, \n",
    "                                                reproduction_rate = 0.2,\n",
    "                                                print_epochs = True,\n",
    "                                                ROS = True\n",
    "                                               )\n",
    "\n",
    "    with open('GA_results/history' + str(i + 1), 'wb') as handle:\n",
    "        pickle.dump([result, best_configuration_history], handle, protocol=pickle.HIGHEST_PROTOCOL)\n",
    "    \n",
    "    print('\\t', 'Best accuracy found:', max(result[len(result) - 1])[0], ' sensors num used:', max(result[len(result) - 1])[1])\n",
    "\n"
   ]
  },
  {
   "cell_type": "code",
   "execution_count": null,
   "metadata": {},
   "outputs": [],
   "source": []
  }
 ],
 "metadata": {
  "colab": {
   "collapsed_sections": [],
   "name": "GA.ipynb",
   "provenance": [],
   "toc_visible": true
  },
  "kernelspec": {
   "display_name": "Python 3",
   "language": "python",
   "name": "python3"
  },
  "language_info": {
   "codemirror_mode": {
    "name": "ipython",
    "version": 3
   },
   "file_extension": ".py",
   "mimetype": "text/x-python",
   "name": "python",
   "nbconvert_exporter": "python",
   "pygments_lexer": "ipython3",
   "version": "3.9.0"
  },
  "widgets": {
   "application/vnd.jupyter.widget-state+json": {
    "208ae3a7e6b84f90ad9e6b284aa3721c": {
     "model_module": "@jupyter-widgets/controls",
     "model_module_version": "1.5.0",
     "model_name": "ProgressStyleModel",
     "state": {
      "_model_module": "@jupyter-widgets/controls",
      "_model_module_version": "1.5.0",
      "_model_name": "ProgressStyleModel",
      "_view_count": null,
      "_view_module": "@jupyter-widgets/base",
      "_view_module_version": "1.2.0",
      "_view_name": "StyleView",
      "bar_color": null,
      "description_width": ""
     }
    },
    "441b254622df4958a7d151ad59bb4624": {
     "model_module": "@jupyter-widgets/base",
     "model_module_version": "1.2.0",
     "model_name": "LayoutModel",
     "state": {
      "_model_module": "@jupyter-widgets/base",
      "_model_module_version": "1.2.0",
      "_model_name": "LayoutModel",
      "_view_count": null,
      "_view_module": "@jupyter-widgets/base",
      "_view_module_version": "1.2.0",
      "_view_name": "LayoutView",
      "align_content": null,
      "align_items": null,
      "align_self": null,
      "border": null,
      "bottom": null,
      "display": null,
      "flex": null,
      "flex_flow": null,
      "grid_area": null,
      "grid_auto_columns": null,
      "grid_auto_flow": null,
      "grid_auto_rows": null,
      "grid_column": null,
      "grid_gap": null,
      "grid_row": null,
      "grid_template_areas": null,
      "grid_template_columns": null,
      "grid_template_rows": null,
      "height": null,
      "justify_content": null,
      "justify_items": null,
      "left": null,
      "margin": null,
      "max_height": null,
      "max_width": null,
      "min_height": null,
      "min_width": null,
      "object_fit": null,
      "object_position": null,
      "order": null,
      "overflow": null,
      "overflow_x": null,
      "overflow_y": null,
      "padding": null,
      "right": null,
      "top": null,
      "visibility": null,
      "width": null
     }
    },
    "650f914388934a949db3e622810c6f6e": {
     "model_module": "@jupyter-widgets/controls",
     "model_module_version": "1.5.0",
     "model_name": "IntProgressModel",
     "state": {
      "_dom_classes": [],
      "_model_module": "@jupyter-widgets/controls",
      "_model_module_version": "1.5.0",
      "_model_name": "IntProgressModel",
      "_view_count": null,
      "_view_module": "@jupyter-widgets/controls",
      "_view_module_version": "1.5.0",
      "_view_name": "ProgressView",
      "bar_style": "",
      "description": "",
      "description_tooltip": null,
      "layout": "IPY_MODEL_441b254622df4958a7d151ad59bb4624",
      "max": 100,
      "min": 0,
      "orientation": "horizontal",
      "style": "IPY_MODEL_208ae3a7e6b84f90ad9e6b284aa3721c",
      "value": 41
     }
    }
   }
  }
 },
 "nbformat": 4,
 "nbformat_minor": 1
}
