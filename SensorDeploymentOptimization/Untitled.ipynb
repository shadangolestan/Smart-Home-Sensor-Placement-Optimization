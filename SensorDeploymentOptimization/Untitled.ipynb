{
 "cells": [
  {
   "cell_type": "code",
   "execution_count": 1,
   "metadata": {},
   "outputs": [
    {
     "name": "stdout",
     "output_type": "stream",
     "text": [
      "['Toilet', 'Wash_Hands', 'Sit', 'Entertainment', 'Exercise', 'Sit', 'Entertainment', 'Exercise', 'Exercise', 'Exercise', 'Undressing', 'Dressing', 'Iron', 'Bath', 'Dressing', 'Make_Tea', 'Grab_Ingredients', 'Toast_Bread', 'Grab_Utensils', 'Wash_Dishes', 'Clean_Kitchen', 'Clean', 'Make_Tea', 'Grab_Ingredients', 'Toast_Bread', 'Grab_Utensils', 'Clean_Kitchen', 'Clean', 'Fry_Eggs', 'Eat', 'Take_Medicine', 'Eat', 'Take_Medicine', 'Eat', 'Take_Medicine', 'Eat', 'Take_Medicine', 'Take_Medicine', 'Take_Medicine', 'Take_Medicine', 'Take_Medicine', 'Sleep', 'Clean_table', 'Clean', 'Clean', 'Grab_Groom', 'Leave_Groom', 'Leave_Groom']\n"
     ]
    }
   ],
   "source": [
    "file_path = 'TestCase/SPO_revit_version_actionable_Objects.txt'\n",
    "\n",
    "with open(file_path) as f:\n",
    "    lines = f.readlines()\n",
    "    \n",
    "functions_list = []\n",
    "actions_list = []\n",
    "for line in lines:\n",
    "    try:        \n",
    "        if 'action' in line:\n",
    "            # print(line)\n",
    "            actions = line.split('IFCLABEL')[1].split(')')[0].replace('(', '').replace(\"'\", '').split(',')\n",
    "            for a in actions:\n",
    "                a = a.replace(\" \", '')\n",
    "                if len(a) > 0:\n",
    "                    actions_list.append(a)\n",
    "                \n",
    "            \n",
    "    except:\n",
    "        pass\n",
    "    \n",
    "print(actions_list)"
   ]
  },
  {
   "cell_type": "code",
   "execution_count": 2,
   "metadata": {
    "scrolled": false
   },
   "outputs": [
    {
     "name": "stdout",
     "output_type": "stream",
     "text": [
      "['Toilet', 'Wash_Hands', 'Sit', 'Entertainment', 'Exercise', 'Sit', 'Entertainment', 'Exercise', 'Exercise', 'Exercise', 'Undressing', 'Dressing', 'Iron', 'Bath', 'Dressing', 'Make_Tea', 'Grab_Ingredients', 'Toast_Bread', 'Grab_Utensils', 'Wash_Dishes', 'Clean_Kitchen', 'Clean', 'Make_Tea', 'Grab_Ingredients', 'Toast_Bread', 'Grab_Utensils', 'Clean_Kitchen', 'Clean', 'Fry_Eggs', 'Eat', 'Take_Medicine', 'Eat', 'Take_Medicine', 'Eat', 'Take_Medicine', 'Eat', 'Take_Medicine', 'Take_Medicine', 'Take_Medicine', 'Take_Medicine', 'Take_Medicine', 'Sleep', 'Clean_table', 'Clean', 'Clean', 'Grab_Groom', 'Leave_Groom', 'Leave_Groom']\n"
     ]
    }
   ],
   "source": [
    "functions_list = []\n",
    "actions_list = []\n",
    "for line in lines:\n",
    "    try:        \n",
    "        if 'action' in line:\n",
    "            # print(line)\n",
    "            actions = line.split('IFCLABEL')[1].split(')')[0].replace('(', '').replace(\"'\", '').split(',')\n",
    "            for a in actions:\n",
    "                a = a.replace(\" \", '')\n",
    "                if len(a) > 0:\n",
    "                    actions_list.append(a)\n",
    "                \n",
    "            \n",
    "    except:\n",
    "        pass\n",
    "    \n",
    "print(actions_list)"
   ]
  },
  {
   "cell_type": "code",
   "execution_count": 3,
   "metadata": {},
   "outputs": [],
   "source": [
    "actions = set(actions_list)"
   ]
  },
  {
   "cell_type": "code",
   "execution_count": 4,
   "metadata": {},
   "outputs": [],
   "source": [
    "actions = list(actions)"
   ]
  },
  {
   "cell_type": "code",
   "execution_count": 5,
   "metadata": {},
   "outputs": [
    {
     "data": {
      "text/plain": [
       "['Sleep',\n",
       " 'Toilet',\n",
       " 'Toast_Bread',\n",
       " 'Wash_Hands',\n",
       " 'Eat',\n",
       " 'Bath',\n",
       " 'Undressing',\n",
       " 'Exercise',\n",
       " 'Grab_Utensils',\n",
       " 'Entertainment',\n",
       " 'Make_Tea',\n",
       " 'Fry_Eggs',\n",
       " 'Clean_Kitchen',\n",
       " 'Wash_Dishes',\n",
       " 'Iron',\n",
       " 'Clean_table',\n",
       " 'Clean',\n",
       " 'Dressing',\n",
       " 'Leave_Groom',\n",
       " 'Take_Medicine',\n",
       " 'Sit',\n",
       " 'Grab_Groom',\n",
       " 'Grab_Ingredients']"
      ]
     },
     "execution_count": 5,
     "metadata": {},
     "output_type": "execute_result"
    }
   ],
   "source": [
    "actions"
   ]
  },
  {
   "cell_type": "code",
   "execution_count": 6,
   "metadata": {},
   "outputs": [],
   "source": [
    "IS = {\n",
    "    'pressure':[],\n",
    "    'electricity':[],\n",
    "    'accelerometer':[]\n",
    "}\n",
    "\n",
    "for a in actions:\n",
    "    if ('eat' in a.lower() or \n",
    "        'sit' in a.lower() or \n",
    "        'bath' in a.lower() or \n",
    "        'take_medicine' in a.lower() or \n",
    "        'toilet' in a.lower() or \n",
    "        'sleep' in a.lower()):\n",
    "        IS['pressure'].append(a)\n",
    "        \n",
    "    elif ('wash_hands' in a.lower() or \n",
    "          'grab_utensils' in a.lower() or \n",
    "          'make_tea' in a.lower() or \n",
    "          'wash_dishes' in a.lower() or \n",
    "          'grab_ingredients' in a.lower() or \n",
    "          'leave_groom' in a.lower() or \n",
    "          'grab_groom' in a.lower() or \n",
    "          'dressing' in a.lower() or \n",
    "          'undressing' in a.lower()):\n",
    "        IS['accelerometer'].append(a)\n",
    "        \n",
    "    elif ('toast_bread' in a.lower() or \n",
    "          'iron' in a.lower() or \n",
    "          'fry_eggs' in a.lower() or \n",
    "          'entertainment' in a.lower()):\n",
    "        IS['electricity'].append(a)"
   ]
  },
  {
   "cell_type": "code",
   "execution_count": 11,
   "metadata": {},
   "outputs": [
    {
     "data": {
      "text/plain": [
       "{'pressure': ['Sleep', 'Toilet', 'Eat', 'Bath', 'Take_Medicine', 'Sit'],\n",
       " 'electricity': ['Toast_Bread', 'Entertainment', 'Fry_Eggs', 'Iron'],\n",
       " 'accelerometer': ['Wash_Hands',\n",
       "  'Undressing',\n",
       "  'Grab_Utensils',\n",
       "  'Make_Tea',\n",
       "  'Wash_Dishes',\n",
       "  'Dressing',\n",
       "  'Leave_Groom',\n",
       "  'Grab_Groom',\n",
       "  'Grab_Ingredients']}"
      ]
     },
     "execution_count": 11,
     "metadata": {},
     "output_type": "execute_result"
    }
   ],
   "source": [
    "IS"
   ]
  },
  {
   "cell_type": "code",
   "execution_count": 18,
   "metadata": {},
   "outputs": [
    {
     "name": "stdout",
     "output_type": "stream",
     "text": [
      "pressure\n",
      "accelerometer\n",
      "None\n"
     ]
    }
   ],
   "source": [
    "def get_key(val, IS):\n",
    "    for key, items in IS.items():\n",
    "        for item in items:\n",
    "            if val == item:\n",
    "                 return key\n",
    " \n",
    "    return \"None\"\n",
    "   \n",
    "print(get_key('Eat', IS))\n",
    "print(get_key('Dressing', IS))\n",
    "print(get_key('Clean', IS))"
   ]
  },
  {
   "cell_type": "code",
   "execution_count": null,
   "metadata": {},
   "outputs": [],
   "source": []
  }
 ],
 "metadata": {
  "kernelspec": {
   "display_name": "Python 3 (ipykernel)",
   "language": "python",
   "name": "python3"
  },
  "language_info": {
   "codemirror_mode": {
    "name": "ipython",
    "version": 3
   },
   "file_extension": ".py",
   "mimetype": "text/x-python",
   "name": "python",
   "nbconvert_exporter": "python",
   "pygments_lexer": "ipython3",
   "version": "3.9.7"
  }
 },
 "nbformat": 4,
 "nbformat_minor": 4
}
