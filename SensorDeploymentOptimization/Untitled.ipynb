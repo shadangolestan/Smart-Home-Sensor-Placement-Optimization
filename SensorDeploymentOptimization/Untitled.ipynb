{
 "cells": [
  {
   "cell_type": "code",
   "execution_count": 3,
   "metadata": {},
   "outputs": [],
   "source": [
    "file_path = 'TestCase/SPO_revit_version_actionable_Objects.txt'\n",
    "\n",
    "with open(file_path) as f:\n",
    "    lines = f.readlines()"
   ]
  },
  {
   "cell_type": "code",
   "execution_count": 21,
   "metadata": {
    "scrolled": false
   },
   "outputs": [
    {
     "name": "stdout",
     "output_type": "stream",
     "text": [
      "#521139= IFCFURNISHINGELEMENT('1cyCgWq2T1Q9vXfX$wU71C',#41,'Furniture_Sofas-Armchairs_NC-Nordic-Care_Stop-572-2:Stop 572-2:378043',$,'Furniture_Sofas-Armchairs_NC-Nordic-Care_Stop-572-2:Stop 572-2',#521138,#521131,'378043');\n",
      "\n",
      "#521192= IFCFURNISHINGELEMENT('1cyCgWq2T1Q9vXfX$wU70F',#41,'Furniture_Sofas-Armchairs_NC-Nordic-Care_Stop-572-2:Stop 572-2:378104',$,'Furniture_Sofas-Armchairs_NC-Nordic-Care_Stop-572-2:Stop 572-2',#521191,#521186,'378104');\n",
      "\n",
      "#565442= IFCFURNISHINGELEMENT('3RnxPMzaP2BfSSUTNj3cAR',#41,'Doors-Other- SOGAL-SOG020029:Doors-Other- SOGAL-SOG020029:417217',$,'Doors-Other- SOGAL-SOG020029:Doors-Other- SOGAL-SOG020029',#565441,#565436,'417217');\n",
      "\n",
      "#592717= IFCFURNISHINGELEMENT('3RnxPMzaP2BfSSUTNj3c4n',#41,'Doors-Other- SOGAL-SOG020031:Doors-Other- SOGAL-SOG020031:417387',$,'Doors-Other- SOGAL-SOG020031:Doors-Other- SOGAL-SOG020031',#592716,#592711,'417387');\n",
      "\n",
      "#610011= IFCFURNISHINGELEMENT('3RnxPMzaP2BfSSUTNj3brj',#41,'Furniture_Tables_Icons-of-Denmark_Change-side-table:Default:418359',$,'Furniture_Tables_Icons-of-Denmark_Change-side-table:Default',#610010,#610005,'418359');\n",
      "\n",
      "#610053= IFCFURNISHINGELEMENT('3RnxPMzaP2BfSSUTNj3bq0',#41,'Furniture_Tables_Icons-of-Denmark_Change-side-table:Default:418394',$,'Furniture_Tables_Icons-of-Denmark_Change-side-table:Default',#610052,#610047,'418394');\n",
      "\n",
      "#610079= IFCFURNISHINGELEMENT('3RnxPMzaP2BfSSUTNj3bt1',#41,'Furniture_Tables_Icons-of-Denmark_Change-side-table:Default:418459',$,'Furniture_Tables_Icons-of-Denmark_Change-side-table:Default',#610078,#610073,'418459');\n",
      "\n",
      "#889437= IFCFURNISHINGELEMENT('1W1csqYh59IxEGoGOZTCXq',#41,'Mahasamut Coffee Table Polar:White-Natural Brown 60x120 CT01:442679',$,'Mahasamut Coffee Table Polar:White-Natural Brown 60x120 CT01',#889436,#889431,'442679');\n",
      "\n",
      "#937561= IFCFURNISHINGELEMENT('1W1csqYh59IxEGoGOZTCiO',#41,'Kitchen_Cabinets_FINSA_Pro-Base-Drawer-unit-600:Front variables - (Four drawers):442971',$,'Kitchen_Cabinets_FINSA_Pro-Base-Drawer-unit-600:Front variables - (Four drawers)',#937560,#937555,'442971');\n",
      "\n",
      "#962633= IFCFURNISHINGELEMENT('1W1csqYh59IxEGoGOZTClZ',#41,'Kitchen_Cabinets_FINSA_Pro-Base-Drawer-unit-600:Front variables - (One left hinged door + 1 drawer):443040',$,'Kitchen_Cabinets_FINSA_Pro-Base-Drawer-unit-600:Front variables - (One left hinged door + 1 drawer)',#962632,#962627,'443040');\n",
      "\n",
      "#967050= IFCFURNISHINGELEMENT('1W1csqYh59IxEGoGOZTCrv',#41,'Kitchen_Cabinets_FINSA_Pro-Wall-unit-900:Height variables - (900 mm) Front variables - (One right hinged door ):443450',$,'Kitchen_Cabinets_FINSA_Pro-Wall-unit-900:Height variables - (900 mm) Front variables - (One right hinged door )',#967049,#967044,'443450');\n",
      "\n",
      "#1395858= IFCFURNISHINGELEMENT('1W1csqYh59IxEGoGOZTCn$',#41,'Furniture_Chairs-Stools-Benches_Swedese_Amstelle-Chair:Seat - (Fabric) Base - (Oak):443708',$,'Furniture_Chairs-Stools-Benches_Swedese_Amstelle-Chair:Seat - (Fabric) Base - (Oak)',#1395857,#1395852,'443708');\n",
      "\n",
      "#1395900= IFCFURNISHINGELEMENT('1W1csqYh59IxEGoGOZTCmc',#41,'Furniture_Chairs-Stools-Benches_Swedese_Amstelle-Chair:Seat - (Fabric) Base - (Oak):443749',$,'Furniture_Chairs-Stools-Benches_Swedese_Amstelle-Chair:Seat - (Fabric) Base - (Oak)',#1395899,#1395894,'443749');\n",
      "\n",
      "#1395928= IFCFURNISHINGELEMENT('1W1csqYh59IxEGoGOZTCpf',#41,'Furniture_Chairs-Stools-Benches_Swedese_Amstelle-Chair:Seat - (Fabric) Base - (Oak):443818',$,'Furniture_Chairs-Stools-Benches_Swedese_Amstelle-Chair:Seat - (Fabric) Base - (Oak)',#1395927,#1395920,'443818');\n",
      "\n",
      "#1395954= IFCFURNISHINGELEMENT('1W1csqYh59IxEGoGOZTCo8',#41,'Furniture_Chairs-Stools-Benches_Swedese_Amstelle-Chair:Seat - (Fabric) Base - (Oak):443851',$,'Furniture_Chairs-Stools-Benches_Swedese_Amstelle-Chair:Seat - (Fabric) Base - (Oak)',#1395953,#1395948,'443851');\n",
      "\n",
      "#1485220= IFCFURNISHINGELEMENT('0sd7mU3SX0fQxX71gD$lBY',#41,'Furniture_Tables_Fritz-Hansen_FH125-FH125:Default:449981',$,'Furniture_Tables_Fritz-Hansen_FH125-FH125:Default',#1485219,#1485214,'449981');\n",
      "\n",
      "#1508092= IFCFURNISHINGELEMENT('2MpTvIfpDCpxDzjgElRsvY',#41,'BenchUnit-130cm-WithDrawer-Vitra-MemoriaElementsSeries-61276:BenchUnit-130cm-WithDrawer-Vitra-MemoriaElementsSeries-61276:452800',$,'BenchUnit-130cm-WithDrawer-Vitra-MemoriaElementsSeries-61276:BenchUnit-130cm-WithDrawer-Vitra-MemoriaElementsSeries-61276',#1508091,#1508086,'452800');\n",
      "\n",
      "#1509509= IFCFURNISHINGELEMENT('2MpTvIfpDCpxDzjgElRtf8',#41,'BenchUnit-130cm-WithDrawer-Vitra-MemoriaElementsSeries-61276:BenchUnit-130cm-WithDrawer-Vitra-MemoriaElementsSeries-61276:457962',$,'BenchUnit-130cm-WithDrawer-Vitra-MemoriaElementsSeries-61276:BenchUnit-130cm-WithDrawer-Vitra-MemoriaElementsSeries-61276',#1509508,#1509503,'457962');\n",
      "\n",
      "#1517025= IFCFURNISHINGELEMENT('2MpTvIfpDCpxDzjgElRhr_',#41,'FG3L2000GRAY:Garage Cabinet Upper With Doors:474076',$,'FG3L2000GRAY:Garage Cabinet Upper With Doors',#1517024,#1517019,'474076');\n",
      "\n",
      "#1536615= IFCFURNISHINGELEMENT('2pej3B_q59m9Np7iFd9Trw',#41,'Furniture_Shelving-Storage_Alterna_Isella-Vanity-unit-with-basin:Handle - (C2) Type - (Isella 90 Sandy Grey 8915600):480779',$,'Furniture_Shelving-Storage_Alterna_Isella-Vanity-unit-with-basin:Handle - (C2) Type - (Isella 90 Sandy Grey 8915600)',#1536614,#1536607,'480779');\n",
      "\n"
     ]
    }
   ],
   "source": [
    "functions_list = []\n",
    "for line in lines:\n",
    "    try:\n",
    "        # function = line.split('=')[1].split('(')[0]\n",
    "\n",
    "        # if not function in functions_list:\n",
    "        #     functions_list.append(function)\n",
    "        #     print(line)\n",
    "        #     print(function)\n",
    "        #     print('-'*20)\n",
    "        \n",
    "        if 'FURNISH' in line:\n",
    "            print(line)\n",
    "            \n",
    "    except:\n",
    "        pass"
   ]
  },
  {
   "cell_type": "code",
   "execution_count": null,
   "metadata": {},
   "outputs": [],
   "source": []
  }
 ],
 "metadata": {
  "kernelspec": {
   "display_name": "Python 3",
   "language": "python",
   "name": "python3"
  },
  "language_info": {
   "codemirror_mode": {
    "name": "ipython",
    "version": 3
   },
   "file_extension": ".py",
   "mimetype": "text/x-python",
   "name": "python",
   "nbconvert_exporter": "python",
   "pygments_lexer": "ipython3",
   "version": "3.9.0"
  }
 },
 "nbformat": 4,
 "nbformat_minor": 4
}
