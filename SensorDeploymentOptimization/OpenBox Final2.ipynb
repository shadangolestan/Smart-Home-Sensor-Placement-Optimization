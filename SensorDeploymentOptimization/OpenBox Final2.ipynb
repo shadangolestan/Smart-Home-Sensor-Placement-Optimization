{
 "cells": [
  {
   "cell_type": "code",
   "execution_count": 1,
   "metadata": {
    "colab": {
     "base_uri": "https://localhost:8080/"
    },
    "executionInfo": {
     "elapsed": 10091,
     "status": "ok",
     "timestamp": 1635790032180,
     "user": {
      "displayName": "Shadan Golestan-Irani",
      "photoUrl": "https://lh3.googleusercontent.com/a-/AOh14GjzIpBx-tX-xncT2d8sC4323jdDLC4K-HcuzJgpIA=s64",
      "userId": "05022969837639573312"
     },
     "user_tz": 360
    },
    "id": "PPw6X0y6ck1o",
    "outputId": "8bd03981-99f3-4aef-ac7a-5175e5d136f1"
   },
   "outputs": [
    {
     "name": "stdout",
     "output_type": "stream",
     "text": [
      "Requirement already satisfied: openbox in c:\\users\\shada\\anaconda3\\lib\\site-packages (0.7.14)\n",
      "Requirement already satisfied: dill in c:\\users\\shada\\anaconda3\\lib\\site-packages (from openbox) (0.3.4)\n",
      "Requirement already satisfied: pandas in c:\\users\\shada\\anaconda3\\lib\\site-packages (from openbox) (1.2.4)\n",
      "Requirement already satisfied: terminaltables in c:\\users\\shada\\anaconda3\\lib\\site-packages (from openbox) (3.1.0)\n",
      "Requirement already satisfied: numpy>=1.7.1 in c:\\users\\shada\\anaconda3\\lib\\site-packages (from openbox) (1.20.1)\n",
      "Requirement already satisfied: matplotlib in c:\\users\\shada\\anaconda3\\lib\\site-packages (from openbox) (3.3.4)\n",
      "Requirement already satisfied: setuptools in c:\\users\\shada\\anaconda3\\lib\\site-packages (from openbox) (52.0.0.post20210125)\n",
      "Requirement already satisfied: requests in c:\\users\\shada\\anaconda3\\lib\\site-packages (from openbox) (2.25.1)\n",
      "Requirement already satisfied: ConfigSpace<0.5,>=0.4.12 in c:\\users\\shada\\anaconda3\\lib\\site-packages (from openbox) (0.4.20)\n",
      "Requirement already satisfied: tqdm in c:\\users\\shada\\anaconda3\\lib\\site-packages (from openbox) (4.59.0)\n",
      "Requirement already satisfied: scikit-learn>=0.21.3 in c:\\users\\shada\\anaconda3\\lib\\site-packages (from openbox) (0.24.1)\n",
      "Requirement already satisfied: pyyaml in c:\\users\\shada\\anaconda3\\lib\\site-packages (from openbox) (5.4.1)\n",
      "Requirement already satisfied: statsmodels in c:\\users\\shada\\anaconda3\\lib\\site-packages (from openbox) (0.12.2)\n",
      "Requirement already satisfied: scipy>=0.18.1 in c:\\users\\shada\\anaconda3\\lib\\site-packages (from openbox) (1.6.2)\n",
      "Requirement already satisfied: platypus-opt==1.0.4 in c:\\users\\shada\\anaconda3\\lib\\site-packages (from openbox) (1.0.4)\n",
      "Requirement already satisfied: psutil in c:\\users\\shada\\anaconda3\\lib\\site-packages (from openbox) (5.8.0)\n",
      "Requirement already satisfied: django>=2.2.17 in c:\\users\\shada\\anaconda3\\lib\\site-packages (from openbox) (3.2.9)\n",
      "Requirement already satisfied: emcee in c:\\users\\shada\\anaconda3\\lib\\site-packages (from openbox) (3.1.1)\n",
      "Requirement already satisfied: cython in c:\\users\\shada\\anaconda3\\lib\\site-packages (from openbox) (0.29.23)\n",
      "Requirement already satisfied: scikit-optimize>=0.8 in c:\\users\\shada\\anaconda3\\lib\\site-packages (from openbox) (0.9.0)\n",
      "Requirement already satisfied: six in c:\\users\\shada\\anaconda3\\lib\\site-packages (from platypus-opt==1.0.4->openbox) (1.15.0)\n",
      "Requirement already satisfied: pyparsing in c:\\users\\shada\\anaconda3\\lib\\site-packages (from ConfigSpace<0.5,>=0.4.12->openbox) (2.4.7)\n",
      "Requirement already satisfied: sqlparse>=0.2.2 in c:\\users\\shada\\anaconda3\\lib\\site-packages (from django>=2.2.17->openbox) (0.4.2)\n",
      "Requirement already satisfied: pytz in c:\\users\\shada\\anaconda3\\lib\\site-packages (from django>=2.2.17->openbox) (2021.1)\n",
      "Requirement already satisfied: asgiref<4,>=3.3.2 in c:\\users\\shada\\anaconda3\\lib\\site-packages (from django>=2.2.17->openbox) (3.4.1)\n",
      "Requirement already satisfied: threadpoolctl>=2.0.0 in c:\\users\\shada\\anaconda3\\lib\\site-packages (from scikit-learn>=0.21.3->openbox) (2.1.0)\n",
      "Requirement already satisfied: joblib>=0.11 in c:\\users\\shada\\anaconda3\\lib\\site-packages (from scikit-learn>=0.21.3->openbox) (1.0.1)\n",
      "Requirement already satisfied: pyaml>=16.9 in c:\\users\\shada\\anaconda3\\lib\\site-packages (from scikit-optimize>=0.8->openbox) (21.10.1)\n",
      "Requirement already satisfied: kiwisolver>=1.0.1 in c:\\users\\shada\\anaconda3\\lib\\site-packages (from matplotlib->openbox) (1.3.1)\n",
      "Requirement already satisfied: cycler>=0.10 in c:\\users\\shada\\anaconda3\\lib\\site-packages (from matplotlib->openbox) (0.10.0)\n",
      "Requirement already satisfied: python-dateutil>=2.1 in c:\\users\\shada\\anaconda3\\lib\\site-packages (from matplotlib->openbox) (2.8.1)\n",
      "Requirement already satisfied: pillow>=6.2.0 in c:\\users\\shada\\anaconda3\\lib\\site-packages (from matplotlib->openbox) (8.2.0)\n",
      "Requirement already satisfied: chardet<5,>=3.0.2 in c:\\users\\shada\\anaconda3\\lib\\site-packages (from requests->openbox) (4.0.0)\n",
      "Requirement already satisfied: certifi>=2017.4.17 in c:\\users\\shada\\anaconda3\\lib\\site-packages (from requests->openbox) (2020.12.5)\n",
      "Requirement already satisfied: idna<3,>=2.5 in c:\\users\\shada\\anaconda3\\lib\\site-packages (from requests->openbox) (2.10)\n",
      "Requirement already satisfied: urllib3<1.27,>=1.21.1 in c:\\users\\shada\\anaconda3\\lib\\site-packages (from requests->openbox) (1.26.4)\n",
      "Requirement already satisfied: patsy>=0.5 in c:\\users\\shada\\anaconda3\\lib\\site-packages (from statsmodels->openbox) (0.5.1)\n",
      "Requirement already satisfied: shapely in c:\\users\\shada\\anaconda3\\lib\\site-packages (1.8.0)\n",
      "Requirement already satisfied: plotly in c:\\users\\shada\\anaconda3\\lib\\site-packages (5.3.1)\n",
      "Requirement already satisfied: six in c:\\users\\shada\\anaconda3\\lib\\site-packages (from plotly) (1.15.0)\n",
      "Requirement already satisfied: tenacity>=6.2.0 in c:\\users\\shada\\anaconda3\\lib\\site-packages (from plotly) (8.0.1)\n",
      "Requirement already satisfied: torch in c:\\users\\shada\\anaconda3\\lib\\site-packages (1.10.0)\n",
      "Requirement already satisfied: typing-extensions in c:\\users\\shada\\anaconda3\\lib\\site-packages (from torch) (3.7.4.3)\n"
     ]
    }
   ],
   "source": [
    "!pip install openbox\n",
    "!pip install shapely\n",
    "!pip install plotly\n",
    "!pip install torch"
   ]
  },
  {
   "cell_type": "code",
   "execution_count": 2,
   "metadata": {
    "executionInfo": {
     "elapsed": 755,
     "status": "ok",
     "timestamp": 1635790032929,
     "user": {
      "displayName": "Shadan Golestan-Irani",
      "photoUrl": "https://lh3.googleusercontent.com/a-/AOh14GjzIpBx-tX-xncT2d8sC4323jdDLC4K-HcuzJgpIA=s64",
      "userId": "05022969837639573312"
     },
     "user_tz": 360
    },
    "id": "VWSmt5dJxKDk"
   },
   "outputs": [],
   "source": [
    "class Data:\n",
    "    def __init__(self, sensorPositions, space, epsilon):\n",
    "        self.radius = 1\n",
    "        self.placeHolders = sensorPositions\n",
    "        self.epsilon = epsilon\n",
    "        self.space = space\n",
    "        # self.SensorPlaceHolderSetup()\n",
    "        \n",
    "    def frange(self, start, stop, step):\n",
    "        steps = []\n",
    "        while start <= stop:\n",
    "            steps.append(start)\n",
    "            start +=step\n",
    "            \n",
    "        return steps\n",
    "\n",
    "    # def SensorPlaceHolderSetup(self):\n",
    "    #     Xs = self.frange(0, self.space[0], self.epsilon)\n",
    "    #     Ys = self.frange(0, self.space[1], self.epsilon)\n",
    "            \n",
    "    #     for x in Xs:\n",
    "    #       for y in Ys:\n",
    "    #         self.placeHolders.append([x, y])\n",
    "\n",
    "    def GetSensorConfiguration(self):\n",
    "        from collections import Counter\n",
    "        sensorLocations, sensorTypes = self.GetSensorLocations()\n",
    "        \n",
    "        _, rooms = pf.ParseWorld(simworldname = '')\n",
    "        \n",
    "        summaryDict = Counter(sensorTypes)\n",
    "\n",
    "        # TODO: DIFFERENT SENSOR TYPE DEFINITIONS SHOULD BE ADDED HERE:\n",
    "        configurationSummary = []\n",
    "        for key in summaryDict:\n",
    "            if (key == 1):\n",
    "                configurationSummary.append(['motion sensors', summaryDict[key]])\n",
    "\n",
    "            elif (key == 2):\n",
    "                configurationSummary.append(['beacon sensors', summaryDict[key]])\n",
    "\n",
    "        configurationDetails = []\n",
    "        for index, loc in enumerate(sensorLocations):\n",
    "            room = \"\"\n",
    "            for r in rooms:\n",
    "                if loc[0] >= rooms[r][0][0] and loc[0] <= rooms[r][1][0] and loc[1] >= rooms[r][0][1] and loc[1] <= rooms[r][1][1]:\n",
    "                    room = r\n",
    "                    break\n",
    "\n",
    "            if (sensorTypes[index] == 1):\n",
    "                configurationDetails.append(tuple([loc, room, 'motion sensors']))\n",
    "\n",
    "            elif (sensorTypes[index] == 2):\n",
    "                configurationDetails.append(tuple([loc, room, 'beacon sensors']))\n",
    "\n",
    "        return [[configurationSummary, [tuple(configurationDetails)]], self.radius]\n",
    "\n",
    "\n",
    "    def GetSensorLocations(self):\n",
    "        sensorLocations = []\n",
    "        sensorTypes = []\n",
    "        for index, sensorIndicator in enumerate(self.placeHolders):\n",
    "            sensorLocations.append(self.placeHolders[index])\n",
    "\n",
    "            # TODO: DIFFERENT SENSOR TYPE DEFINITIONS SHOULD BE ADDED HERE:\n",
    "            sensorTypes.append(1)\n",
    "\n",
    "\n",
    "        return sensorLocations, sensorTypes\n",
    "\n",
    "\n",
    "class BOVariables:\n",
    "    def __init__(self, Data_path, epsilon, initSensorNum, maxSensorNum, radius, sampleSize):\n",
    "        self.epsilon = epsilon\n",
    "        self.Data_path = Data_path\n",
    "        self.initSensorNum = initSensorNum\n",
    "        self.maxSensorNum = maxSensorNum\n",
    "        self.radius = radius\n",
    "        self.sensor_distribution, self.types, self.space, self.rooms, self.agentTraces = self.ModelsInitializations()\n",
    "\n",
    "    def ModelsInitializations(self):\n",
    "        #----- Space and agent models -----: \n",
    "        # simworldname = self.Data_path + '/Configuration Files/simulationWorld2.xml'\n",
    "        simworldname = ''\n",
    "        agentTraces = []\n",
    "        directory = os.fsencode(self.Data_path + 'Agent Trace Files/')\n",
    "            \n",
    "        for file in os.listdir(directory):\n",
    "            filename = os.fsdecode(file)\n",
    "            if filename.endswith(\".csv\"): \n",
    "                agentTraces.append(self.Data_path + 'Agent Trace Files/' + filename)\n",
    "\n",
    "        # Parsing the space model: \n",
    "        space, rooms = pf.ParseWorld(simworldname)\n",
    "\n",
    "        xs = []\n",
    "        for i in space:\n",
    "          for j in i:\n",
    "            xs.append(j)\n",
    "        A = list(set(xs))\n",
    "        A.sort()\n",
    "        space = [A[-1], A[-2]]\n",
    "\n",
    "        # User parameters \n",
    "        types, sensor_distribution = pf.GetUsersParameters()\n",
    "\n",
    "        roomsList = []\n",
    "        for room in sensor_distribution:\n",
    "            roomsList.append(room)\n",
    "              \n",
    "        return sensor_distribution, types, space, rooms, agentTraces\n",
    "\n",
    "\n",
    "def frange(start, stop, step):\n",
    "    steps = []\n",
    "    while start <= stop:\n",
    "        steps.append(start)\n",
    "        start +=step\n",
    "        \n",
    "    return steps\n",
    "\n",
    "def MakeSensorCombinations(start, end, epsilon, sensorType, room):\n",
    "    a1, b1 = makeBoundaries(epsilon, start[0], end[0])\n",
    "    a2, b2 = makeBoundaries(epsilon, start[1], end[1])    \n",
    "    Xs = frange(a1, b1, epsilon)\n",
    "    Ys = frange(a2, b2, epsilon)\n",
    "    \n",
    "    points = list(itertools.product(list(itertools.product(Xs, Ys)), [room], [sensorType[0]])) \n",
    "    C = itertools.combinations(points, distribution[room][types.index(sensorType)])\n",
    "\n",
    "    return C\n",
    "\n",
    "def PreProcessor(df):\n",
    "    # df['motion sensors'] = df['motion sensors'].apply(ast.literal_eval)\n",
    "    df['motion sensors'] = df['motion sensors'].apply(lambda s: list(map(int, s)))\n",
    "    # df['beacon sensors'] = df['beacon sensors'].apply(ast.literal_eval)\n",
    "    try:\n",
    "      df['beacon sensors'] = df['beacon sensors'].apply(lambda s: list(map(int, s)))\n",
    "    except:\n",
    "      pass\n",
    "\n",
    "    sensors = set([])\n",
    "\n",
    "    previous_M = None\n",
    "    previous_B = None\n",
    "    output_file = []\n",
    "\n",
    "    for index, row in df.iterrows():\n",
    "      T = row['time']\n",
    "      M = row['motion sensors']\n",
    "      try:\n",
    "        B = row['beacon sensors']\n",
    "      except:\n",
    "        pass\n",
    "\n",
    "      Activity = row['activity']\n",
    "      Activity = Activity.replace(' ', '_')\n",
    "      MotionSensor_Names = []\n",
    "      sensorNames = []\n",
    "      MotionSensor_Message = []\n",
    "      BeaconSensor_Names = []\n",
    "      BeaconSensor_Message = []\n",
    "      \n",
    "\n",
    "      # time = convertTime(T)\n",
    "      time = \"2020-06-16 \" + T + \".00\"\n",
    "\n",
    "      # Motion Sensor\n",
    "      for i in range(len(M)):\n",
    "        sensorNames.append(Name(i, 'M'))\n",
    "        if M[i] == 1:\n",
    "          if (previous_M != None):\n",
    "            if (previous_M[i] == 0):\n",
    "              MotionSensor_Names.append(Name(i,'M'))\n",
    "              MotionSensor_Message.append('ON')\n",
    "\n",
    "          else:\n",
    "            MotionSensor_Names.append(Name(i,'M'))\n",
    "            MotionSensor_Message.append('ON')\n",
    "\n",
    "        if previous_M != None:\n",
    "          if M[i] == 0 and previous_M[i] == 1:\n",
    "            MotionSensor_Names.append(Name(i,'M'))\n",
    "            MotionSensor_Message.append('OFF')\n",
    "\n",
    "      previous_M = M\n",
    "      # Beacon Sensor\n",
    "\n",
    "      try:\n",
    "        for i in range(len(B)):\n",
    "          sensorNames.append(Name(i, 'B'))\n",
    "          if B[i] == 1:\n",
    "            BeaconSensor_Names.append(Name(i,'B'))\n",
    "            BeaconSensor_Message.append('ON')\n",
    "          if previous_B != None:\n",
    "            if B[i] == 0 and previous_B[i] == 1: \n",
    "              BeaconSensor_Names.append(Name(i,'B'))\n",
    "              BeaconSensor_Message.append('OFF')\n",
    "        previous_B = B\n",
    "\n",
    "      except:\n",
    "        pass\n",
    "\n",
    "      for m in range(len(MotionSensor_Names)):\n",
    "        output_file.append(time +' '+ MotionSensor_Names[m] + ' ' + MotionSensor_Names[m] + ' ' + MotionSensor_Message[m] + ' ' + Activity)\n",
    "        \n",
    "      for s in sensorNames:\n",
    "          sensors.add(s)\n",
    "\n",
    "    return output_file, list(sensors)\n",
    "\n",
    "#returns the name of the sensor\n",
    "def Name(number, typeSensor):\n",
    "    if number < 10:\n",
    "      return typeSensor + str(0) + str(number)\n",
    "    else:\n",
    "      return typeSensor + str(number)\n",
    "\n",
    "#converts epoch time to human readable\n",
    "def convertTime(posix_timestamp):\n",
    "    tz = pytz.timezone('MST')\n",
    "    dt = datetime.fromtimestamp(posix_timestamp, tz)\n",
    "    time = dt.strftime('%Y-%m-%d %H:%M:%S.%f')[:-3]\n",
    "    return time\n",
    "\n",
    "def MakeDataBoundaries(height = 10.5, width = 6.6, MaxSensors = 15):\n",
    "    from collections import defaultdict, OrderedDict\n",
    "\n",
    "    d = dict()\n",
    "\n",
    "    for idx in range(MaxSensors):\n",
    "            d['x' + str(idx)] = (0.5, width - 0.5)\n",
    "            d['y' + str(idx)] = (0.5, height - 0.5)\n",
    "\n",
    "    return d\n",
    "\n",
    "def black_box_function(sample, simulateMotionSensors = True, simulateEstimotes = False, Plotting = False):       \n",
    "    files = []\n",
    "\n",
    "    import sys\n",
    "    if (runningOnGoogleColab == True):\n",
    "        sys.path.append('gdrive/My Drive/PhD/Thesis/Ideas/Codes/SensorDeploymentOptimization/')\n",
    "        Data_path = 'gdrive/My Drive/PhD/Thesis/Ideas/Codes/SensorDeploymentOptimization/'\n",
    "\n",
    "    else:\n",
    "        # sys.path.append('../../Codes/SensorDeploymentOptimization/')\n",
    "        sys.path.append('..')\n",
    "        Data_path = '../../Codes/SensorDeploymentOptimization/'\n",
    "\n",
    "    all_sensors = set([])\n",
    "\n",
    "    for agentTrace in BOV.agentTraces:\n",
    "        df_ = sim_sis.RunSimulator(BOV.space, BOV.rooms, agentTrace, sample.GetSensorConfiguration(), simulateMotionSensors, simulateEstimotes, Plotting, BOV.Data_path)\n",
    "        dataFile, sensors = PreProcessor(df_)\n",
    "        all_sensors.update(sensors)\n",
    "        files.append(dataFile)\n",
    "        \n",
    "    \n",
    "    if (runningOnGoogleColab == True):\n",
    "        sys.path.append('gdrive/My Drive/PhD/Thesis/Ideas/Codes/CASAS/AL-Smarthome')\n",
    "\n",
    "    else:\n",
    "        sys.path.append('../../Codes/CASAS/AL-Smarthome')\n",
    "\n",
    "    import al\n",
    "    import imp\n",
    "    imp.reload(al)\n",
    "    all_sensors = list(all_sensors)\n",
    "\n",
    "    # print('files are')\n",
    "    # print(files)\n",
    "    accuracy = (al.leave_one_out(files, all_sensors)[0]) * 100\n",
    "\n",
    "    if accuracy < 0:\n",
    "        accuracy = 0\n",
    "\n",
    "    return 100 - accuracy\n",
    "\n",
    "def function_to_be_optimized(config):\n",
    "    sensorPositions = []\n",
    "    sensor_xy = []\n",
    "    for i in range(1, 16):\n",
    "      # print(config['x' + str(i)])\n",
    "      # print(config['y' + str(i)])\n",
    "      \n",
    "      sensor_xy.append(config['x' + str(i)])\n",
    "      sensor_xy.append(config['y' + str(i)])\n",
    "      sensorPositions.append(sensor_xy)\n",
    "      sensor_xy = []\n",
    "\n",
    "    # print(sensorPositions)\n",
    "    data = Data(sensorPositions, BOV.space, CONSTANTS['epsilon'])\n",
    "    return black_box_function(data)"
   ]
  },
  {
   "cell_type": "code",
   "execution_count": null,
   "metadata": {
    "colab": {
     "background_save": true,
     "base_uri": "https://localhost:8080/"
    },
    "id": "UZjfE2cPwhkE",
    "scrolled": false
   },
   "outputs": [
    {
     "name": "stderr",
     "output_type": "stream",
     "text": [
      "\r",
      "  0%|                                                                                         | 0/1000 [00:00<?, ?it/s]"
     ]
    },
    {
     "name": "stdout",
     "output_type": "stream",
     "text": [
      "[Build Surrogate] Use probabilistic random forest based on scikit-learn. For better performance, please install pyrfr: https://open-box.readthedocs.io/en/latest/installation/install_pyrfr.html\n",
      "[INFO] [2021-11-16 22:05:40,875] [OpenBox-Shadan] Iteration 1, objective value: [100.0].\n"
     ]
    },
    {
     "name": "stderr",
     "output_type": "stream",
     "text": [
      "\r",
      "  0%|                                                                              | 1/1000 [00:39<10:58:19, 39.54s/it]"
     ]
    },
    {
     "name": "stdout",
     "output_type": "stream",
     "text": [
      "[INFO] [2021-11-16 22:06:54,043] [OpenBox-Shadan] Iteration 2, objective value: [31.145476483531297].\n"
     ]
    },
    {
     "name": "stderr",
     "output_type": "stream",
     "text": [
      "\r",
      "  0%|▏                                                                             | 2/1000 [01:52<16:26:42, 59.32s/it]"
     ]
    },
    {
     "name": "stdout",
     "output_type": "stream",
     "text": [
      "[INFO] [2021-11-16 22:07:58,683] [OpenBox-Shadan] Iteration 3, objective value: [54.56356230001169].\n"
     ]
    },
    {
     "name": "stderr",
     "output_type": "stream",
     "text": [
      "\r",
      "  0%|▏                                                                             | 3/1000 [02:57<17:06:04, 61.75s/it]"
     ]
    },
    {
     "name": "stdout",
     "output_type": "stream",
     "text": [
      "[INFO] [2021-11-16 22:08:53,627] [OpenBox-Shadan] Iteration 4, objective value: [42.33790086192428].\n"
     ]
    },
    {
     "name": "stderr",
     "output_type": "stream",
     "text": [
      "\r",
      "  0%|▎                                                                             | 4/1000 [03:52<16:20:26, 59.06s/it]"
     ]
    },
    {
     "name": "stdout",
     "output_type": "stream",
     "text": [
      "[INFO] [2021-11-16 22:09:49,626] [OpenBox-Shadan] Iteration 5, objective value: [24.31420557281548].\n"
     ]
    },
    {
     "name": "stderr",
     "output_type": "stream",
     "text": [
      "\r",
      "  0%|▍                                                                             | 5/1000 [04:48<16:01:08, 57.96s/it]"
     ]
    },
    {
     "name": "stdout",
     "output_type": "stream",
     "text": [
      "[INFO] [2021-11-16 22:10:59,301] [OpenBox-Shadan] Iteration 6, objective value: [48.75403527584103].\n"
     ]
    },
    {
     "name": "stderr",
     "output_type": "stream",
     "text": [
      "\r",
      "  1%|▍                                                                             | 6/1000 [05:57<17:06:10, 61.94s/it]"
     ]
    },
    {
     "name": "stdout",
     "output_type": "stream",
     "text": [
      "[INFO] [2021-11-16 22:12:04,811] [OpenBox-Shadan] Iteration 7, objective value: [31.982934412514183].\n"
     ]
    },
    {
     "name": "stderr",
     "output_type": "stream",
     "text": [
      "\r",
      "  1%|▌                                                                             | 7/1000 [07:03<17:24:26, 63.11s/it]"
     ]
    },
    {
     "name": "stdout",
     "output_type": "stream",
     "text": [
      "[INFO] [2021-11-16 22:12:59,831] [OpenBox-Shadan] Iteration 8, objective value: [19.51687739717653].\n"
     ]
    },
    {
     "name": "stderr",
     "output_type": "stream",
     "text": [
      "\r",
      "  1%|▌                                                                             | 8/1000 [07:58<16:40:49, 60.53s/it]"
     ]
    },
    {
     "name": "stdout",
     "output_type": "stream",
     "text": [
      "[INFO] [2021-11-16 22:14:05,041] [OpenBox-Shadan] Iteration 9, objective value: [30.529483863123502].\n"
     ]
    },
    {
     "name": "stderr",
     "output_type": "stream",
     "text": [
      "\r",
      "  1%|▋                                                                             | 9/1000 [09:03<17:03:57, 62.00s/it]"
     ]
    },
    {
     "name": "stdout",
     "output_type": "stream",
     "text": [
      "[INFO] [2021-11-16 22:15:15,421] [OpenBox-Shadan] Iteration 10, objective value: [35.83095131443555].\n"
     ]
    },
    {
     "name": "stderr",
     "output_type": "stream",
     "text": [
      "\r",
      "  1%|▊                                                                            | 10/1000 [10:14<17:45:37, 64.58s/it]"
     ]
    },
    {
     "name": "stdout",
     "output_type": "stream",
     "text": [
      "[INFO] [2021-11-16 22:16:30,257] [OpenBox-Shadan] Iteration 11, objective value: [42.72450753173839].\n"
     ]
    },
    {
     "name": "stderr",
     "output_type": "stream",
     "text": [
      "\r",
      "  1%|▊                                                                            | 11/1000 [11:28<18:36:16, 67.72s/it]"
     ]
    },
    {
     "name": "stdout",
     "output_type": "stream",
     "text": [
      "[INFO] [2021-11-16 22:17:28,807] [OpenBox-Shadan] Iteration 12, objective value: [29.883972079852413].\n"
     ]
    },
    {
     "name": "stderr",
     "output_type": "stream",
     "text": [
      "\r",
      "  1%|▉                                                                            | 12/1000 [12:27<17:49:12, 64.93s/it]"
     ]
    },
    {
     "name": "stdout",
     "output_type": "stream",
     "text": [
      "[INFO] [2021-11-16 22:18:29,516] [OpenBox-Shadan] Iteration 13, objective value: [37.72545116128991].\n"
     ]
    },
    {
     "name": "stderr",
     "output_type": "stream",
     "text": [
      "\r",
      "  1%|█                                                                            | 13/1000 [13:28<17:27:04, 63.65s/it]"
     ]
    },
    {
     "name": "stdout",
     "output_type": "stream",
     "text": [
      "[INFO] [2021-11-16 22:19:41,149] [OpenBox-Shadan] Iteration 14, objective value: [35.77572833451205].\n"
     ]
    },
    {
     "name": "stderr",
     "output_type": "stream",
     "text": [
      "\r",
      "  1%|█                                                                            | 14/1000 [14:39<18:05:38, 66.06s/it]"
     ]
    },
    {
     "name": "stdout",
     "output_type": "stream",
     "text": [
      "[INFO] [2021-11-16 22:20:53,540] [OpenBox-Shadan] Iteration 15, objective value: [36.55034022512638].\n"
     ]
    },
    {
     "name": "stderr",
     "output_type": "stream",
     "text": [
      "\r",
      "  2%|█▏                                                                           | 15/1000 [15:52<18:35:50, 67.97s/it]"
     ]
    },
    {
     "name": "stdout",
     "output_type": "stream",
     "text": [
      "[INFO] [2021-11-16 22:22:04,685] [OpenBox-Shadan] Iteration 16, objective value: [39.50305401380655].\n"
     ]
    },
    {
     "name": "stderr",
     "output_type": "stream",
     "text": [
      "\r",
      "  2%|█▏                                                                           | 16/1000 [17:03<18:50:23, 68.93s/it]"
     ]
    },
    {
     "name": "stdout",
     "output_type": "stream",
     "text": [
      "[INFO] [2021-11-16 22:23:04,786] [OpenBox-Shadan] Iteration 17, objective value: [35.7604937048545].\n"
     ]
    },
    {
     "name": "stderr",
     "output_type": "stream",
     "text": [
      "\r",
      "  2%|█▎                                                                           | 17/1000 [18:03<18:05:45, 66.27s/it]"
     ]
    },
    {
     "name": "stdout",
     "output_type": "stream",
     "text": [
      "[INFO] [2021-11-16 22:24:29,036] [OpenBox-Shadan] Iteration 18, objective value: [35.39553789051038].\n"
     ]
    },
    {
     "name": "stderr",
     "output_type": "stream",
     "text": [
      "\r",
      "  2%|█▍                                                                           | 18/1000 [19:27<19:33:04, 71.67s/it]"
     ]
    },
    {
     "name": "stdout",
     "output_type": "stream",
     "text": [
      "[INFO] [2021-11-16 22:25:38,839] [OpenBox-Shadan] Iteration 19, objective value: [35.033818333332675].\n"
     ]
    },
    {
     "name": "stderr",
     "output_type": "stream",
     "text": [
      "\r",
      "  2%|█▍                                                                           | 19/1000 [20:37<19:22:41, 71.11s/it]"
     ]
    },
    {
     "name": "stdout",
     "output_type": "stream",
     "text": [
      "[INFO] [2021-11-16 22:26:38,473] [OpenBox-Shadan] Iteration 20, objective value: [37.3166864304531].\n"
     ]
    },
    {
     "name": "stderr",
     "output_type": "stream",
     "text": [
      "\r",
      "  2%|█▌                                                                           | 20/1000 [21:37<18:25:12, 67.67s/it]"
     ]
    },
    {
     "name": "stdout",
     "output_type": "stream",
     "text": [
      "[INFO] [2021-11-16 22:27:43,922] [OpenBox-Shadan] Iteration 21, objective value: [32.6172229356994].\n"
     ]
    },
    {
     "name": "stderr",
     "output_type": "stream",
     "text": [
      "\r",
      "  2%|█▌                                                                           | 21/1000 [22:42<18:13:13, 67.00s/it]"
     ]
    },
    {
     "name": "stdout",
     "output_type": "stream",
     "text": [
      "[INFO] [2021-11-16 22:28:44,540] [OpenBox-Shadan] Iteration 22, objective value: [23.34266013731269].\n"
     ]
    },
    {
     "name": "stderr",
     "output_type": "stream",
     "text": [
      "\r",
      "  2%|█▋                                                                           | 22/1000 [23:43<17:40:53, 65.09s/it]"
     ]
    },
    {
     "name": "stdout",
     "output_type": "stream",
     "text": [
      "[INFO] [2021-11-16 22:30:00,950] [OpenBox-Shadan] Iteration 23, objective value: [32.38471317546032].\n"
     ]
    },
    {
     "name": "stderr",
     "output_type": "stream",
     "text": [
      "\r",
      "  2%|█▊                                                                           | 23/1000 [24:59<18:35:08, 68.48s/it]"
     ]
    },
    {
     "name": "stdout",
     "output_type": "stream",
     "text": [
      "[INFO] [2021-11-16 22:31:05,031] [OpenBox-Shadan] Iteration 24, objective value: [44.897939397374884].\n"
     ]
    },
    {
     "name": "stderr",
     "output_type": "stream",
     "text": [
      "\r",
      "  2%|█▊                                                                           | 24/1000 [26:03<18:12:30, 67.16s/it]"
     ]
    },
    {
     "name": "stdout",
     "output_type": "stream",
     "text": [
      "[INFO] [2021-11-16 22:32:08,834] [OpenBox-Shadan] Iteration 25, objective value: [32.21133891641401].\n"
     ]
    },
    {
     "name": "stderr",
     "output_type": "stream",
     "text": [
      "\r",
      "  2%|█▉                                                                           | 25/1000 [27:07<17:55:00, 66.15s/it]"
     ]
    },
    {
     "name": "stdout",
     "output_type": "stream",
     "text": [
      "[INFO] [2021-11-16 22:33:12,209] [OpenBox-Shadan] Iteration 26, objective value: [41.09248957241143].\n"
     ]
    },
    {
     "name": "stderr",
     "output_type": "stream",
     "text": [
      "\r",
      "  3%|██                                                                           | 26/1000 [28:10<17:40:22, 65.32s/it]"
     ]
    },
    {
     "name": "stdout",
     "output_type": "stream",
     "text": [
      "[INFO] [2021-11-16 22:34:16,438] [OpenBox-Shadan] Iteration 27, objective value: [28.960417525450936].\n"
     ]
    },
    {
     "name": "stderr",
     "output_type": "stream",
     "text": [
      "\r",
      "  3%|██                                                                           | 27/1000 [29:15<17:33:58, 64.99s/it]"
     ]
    },
    {
     "name": "stdout",
     "output_type": "stream",
     "text": [
      "[INFO] [2021-11-16 22:35:17,138] [OpenBox-Shadan] Iteration 28, objective value: [27.803499507699357].\n"
     ]
    },
    {
     "name": "stderr",
     "output_type": "stream",
     "text": [
      "\r",
      "  3%|██▏                                                                          | 28/1000 [30:15<17:12:01, 63.71s/it]"
     ]
    },
    {
     "name": "stdout",
     "output_type": "stream",
     "text": [
      "[INFO] [2021-11-16 22:36:15,634] [OpenBox-Shadan] Iteration 29, objective value: [25.5953492783448].\n"
     ]
    },
    {
     "name": "stderr",
     "output_type": "stream",
     "text": [
      "\r",
      "  3%|██▏                                                                          | 29/1000 [31:14<16:45:40, 62.14s/it]"
     ]
    },
    {
     "name": "stdout",
     "output_type": "stream",
     "text": [
      "[INFO] [2021-11-16 22:37:13,530] [OpenBox-Shadan] Iteration 30, objective value: [44.96966300568283].\n"
     ]
    },
    {
     "name": "stderr",
     "output_type": "stream",
     "text": [
      "\r",
      "  3%|██▎                                                                          | 30/1000 [32:12<16:24:02, 60.87s/it]"
     ]
    },
    {
     "name": "stdout",
     "output_type": "stream",
     "text": [
      "[INFO] [2021-11-16 22:38:22,595] [OpenBox-Shadan] Iteration 31, objective value: [32.24886737898508].\n"
     ]
    },
    {
     "name": "stderr",
     "output_type": "stream",
     "text": [
      "\r",
      "  3%|██▍                                                                          | 31/1000 [33:21<17:02:44, 63.33s/it]"
     ]
    },
    {
     "name": "stdout",
     "output_type": "stream",
     "text": [
      "[INFO] [2021-11-16 22:39:18,972] [OpenBox-Shadan] Iteration 32, objective value: [26.957891910198725].\n"
     ]
    },
    {
     "name": "stderr",
     "output_type": "stream",
     "text": [
      "\r",
      "  3%|██▍                                                                          | 32/1000 [34:17<16:28:02, 61.24s/it]"
     ]
    },
    {
     "name": "stdout",
     "output_type": "stream",
     "text": [
      "[INFO] [2021-11-16 22:40:22,769] [OpenBox-Shadan] Iteration 33, objective value: [25.433293850244382].\n"
     ]
    },
    {
     "name": "stderr",
     "output_type": "stream",
     "text": [
      "\r",
      "  3%|██▌                                                                          | 33/1000 [35:21<16:39:22, 62.01s/it]"
     ]
    },
    {
     "name": "stdout",
     "output_type": "stream",
     "text": [
      "[INFO] [2021-11-16 22:41:24,196] [OpenBox-Shadan] Iteration 34, objective value: [33.552952192226414].\n"
     ]
    },
    {
     "name": "stderr",
     "output_type": "stream",
     "text": [
      "\r",
      "  3%|██▌                                                                          | 34/1000 [36:22<16:35:31, 61.83s/it]"
     ]
    },
    {
     "name": "stdout",
     "output_type": "stream",
     "text": [
      "[INFO] [2021-11-16 22:42:32,878] [OpenBox-Shadan] Iteration 35, objective value: [41.67683336004511].\n"
     ]
    },
    {
     "name": "stderr",
     "output_type": "stream",
     "text": [
      "\r",
      "  4%|██▋                                                                          | 35/1000 [37:31<17:07:32, 63.89s/it]"
     ]
    },
    {
     "name": "stdout",
     "output_type": "stream",
     "text": [
      "[INFO] [2021-11-16 22:43:38,730] [OpenBox-Shadan] Iteration 36, objective value: [40.50001711024822].\n"
     ]
    },
    {
     "name": "stderr",
     "output_type": "stream",
     "text": [
      "\r",
      "  4%|██▊                                                                          | 36/1000 [38:37<17:15:56, 64.48s/it]"
     ]
    },
    {
     "name": "stdout",
     "output_type": "stream",
     "text": [
      "[INFO] [2021-11-16 22:45:00,624] [OpenBox-Shadan] Iteration 37, objective value: [37.266548214744624].\n"
     ]
    },
    {
     "name": "stderr",
     "output_type": "stream",
     "text": [
      "\r",
      "  4%|██▊                                                                          | 37/1000 [39:59<18:38:43, 69.70s/it]"
     ]
    },
    {
     "name": "stdout",
     "output_type": "stream",
     "text": [
      "[INFO] [2021-11-16 22:45:59,466] [OpenBox-Shadan] Iteration 38, objective value: [17.22948932227935].\n"
     ]
    },
    {
     "name": "stderr",
     "output_type": "stream",
     "text": [
      "\r",
      "  4%|██▉                                                                          | 38/1000 [40:58<17:45:19, 66.44s/it]"
     ]
    },
    {
     "name": "stdout",
     "output_type": "stream",
     "text": [
      "[INFO] [2021-11-16 22:47:03,796] [OpenBox-Shadan] Iteration 39, objective value: [39.83142556650894].\n"
     ]
    },
    {
     "name": "stderr",
     "output_type": "stream",
     "text": [
      "\r",
      "  4%|███                                                                          | 39/1000 [42:02<17:34:03, 65.81s/it]"
     ]
    },
    {
     "name": "stdout",
     "output_type": "stream",
     "text": [
      "[INFO] [2021-11-16 22:48:03,363] [OpenBox-Shadan] Iteration 40, objective value: [23.231206910394064].\n"
     ]
    },
    {
     "name": "stderr",
     "output_type": "stream",
     "text": [
      "\r",
      "  4%|███                                                                          | 40/1000 [43:02<17:02:59, 63.94s/it]"
     ]
    },
    {
     "name": "stdout",
     "output_type": "stream",
     "text": [
      "[INFO] [2021-11-16 22:49:00,988] [OpenBox-Shadan] Iteration 41, objective value: [37.49649483793971].\n"
     ]
    },
    {
     "name": "stderr",
     "output_type": "stream",
     "text": [
      "\r",
      "  4%|███▏                                                                         | 41/1000 [43:59<16:31:39, 62.04s/it]"
     ]
    },
    {
     "name": "stdout",
     "output_type": "stream",
     "text": [
      "[INFO] [2021-11-16 22:49:58,564] [OpenBox-Shadan] Iteration 42, objective value: [16.008533411553287].\n"
     ]
    },
    {
     "name": "stderr",
     "output_type": "stream",
     "text": [
      "\r",
      "  4%|███▏                                                                         | 42/1000 [44:57<16:09:13, 60.70s/it]"
     ]
    },
    {
     "name": "stdout",
     "output_type": "stream",
     "text": [
      "[INFO] [2021-11-16 22:50:54,319] [OpenBox-Shadan] Iteration 43, objective value: [30.73582062713433].\n"
     ]
    },
    {
     "name": "stderr",
     "output_type": "stream",
     "text": [
      "\r",
      "  4%|███▎                                                                         | 43/1000 [45:52<15:44:32, 59.22s/it]"
     ]
    },
    {
     "name": "stdout",
     "output_type": "stream",
     "text": [
      "[INFO] [2021-11-16 22:51:51,770] [OpenBox-Shadan] Iteration 44, objective value: [11.98630993791771].\n"
     ]
    },
    {
     "name": "stderr",
     "output_type": "stream",
     "text": [
      "\r",
      "  4%|███▍                                                                         | 44/1000 [46:50<15:35:06, 58.69s/it]"
     ]
    },
    {
     "name": "stdout",
     "output_type": "stream",
     "text": [
      "[INFO] [2021-11-16 22:52:53,632] [OpenBox-Shadan] Iteration 45, objective value: [18.931098757568563].\n"
     ]
    },
    {
     "name": "stderr",
     "output_type": "stream",
     "text": [
      "\r",
      "  4%|███▍                                                                         | 45/1000 [47:52<15:49:16, 59.64s/it]"
     ]
    },
    {
     "name": "stdout",
     "output_type": "stream",
     "text": [
      "[INFO] [2021-11-16 22:53:50,391] [OpenBox-Shadan] Iteration 46, objective value: [11.467562733261644].\n"
     ]
    },
    {
     "name": "stderr",
     "output_type": "stream",
     "text": [
      "\r",
      "  5%|███▌                                                                         | 46/1000 [48:49<15:34:32, 58.78s/it]"
     ]
    },
    {
     "name": "stdout",
     "output_type": "stream",
     "text": [
      "[INFO] [2021-11-16 22:54:48,589] [OpenBox-Shadan] Iteration 47, objective value: [21.442183912604023].\n"
     ]
    },
    {
     "name": "stderr",
     "output_type": "stream",
     "text": [
      "\r",
      "  5%|███▌                                                                         | 47/1000 [49:47<15:30:48, 58.60s/it]"
     ]
    },
    {
     "name": "stdout",
     "output_type": "stream",
     "text": [
      "[INFO] [2021-11-16 22:55:44,002] [OpenBox-Shadan] Iteration 48, objective value: [13.802599552610886].\n"
     ]
    },
    {
     "name": "stderr",
     "output_type": "stream",
     "text": [
      "\r",
      "  5%|███▋                                                                         | 48/1000 [50:42<15:14:38, 57.65s/it]"
     ]
    },
    {
     "name": "stdout",
     "output_type": "stream",
     "text": [
      "[INFO] [2021-11-16 22:56:51,274] [OpenBox-Shadan] Iteration 49, objective value: [34.69148473463706].\n"
     ]
    },
    {
     "name": "stderr",
     "output_type": "stream",
     "text": [
      "\r",
      "  5%|███▊                                                                         | 49/1000 [51:49<15:59:27, 60.53s/it]"
     ]
    },
    {
     "name": "stdout",
     "output_type": "stream",
     "text": [
      "[INFO] [2021-11-16 22:57:47,729] [OpenBox-Shadan] Iteration 50, objective value: [11.513385625793688].\n"
     ]
    },
    {
     "name": "stderr",
     "output_type": "stream",
     "text": [
      "\r",
      "  5%|███▊                                                                         | 50/1000 [52:46<15:39:04, 59.31s/it]"
     ]
    },
    {
     "name": "stdout",
     "output_type": "stream",
     "text": [
      "[INFO] [2021-11-16 22:58:47,378] [OpenBox-Shadan] Iteration 51, objective value: [32.14081870018906].\n"
     ]
    },
    {
     "name": "stderr",
     "output_type": "stream",
     "text": [
      "\r",
      "  5%|███▉                                                                         | 51/1000 [53:46<15:39:41, 59.41s/it]"
     ]
    },
    {
     "name": "stdout",
     "output_type": "stream",
     "text": [
      "[INFO] [2021-11-16 22:59:45,072] [OpenBox-Shadan] Iteration 52, objective value: [22.486706160909065].\n"
     ]
    },
    {
     "name": "stderr",
     "output_type": "stream",
     "text": [
      "\r",
      "  5%|████                                                                         | 52/1000 [54:43<15:30:33, 58.90s/it]"
     ]
    },
    {
     "name": "stdout",
     "output_type": "stream",
     "text": [
      "[INFO] [2021-11-16 23:00:43,331] [OpenBox-Shadan] Iteration 53, objective value: [18.8955558870757].\n"
     ]
    },
    {
     "name": "stderr",
     "output_type": "stream",
     "text": [
      "\r",
      "  5%|████                                                                         | 53/1000 [55:41<15:26:33, 58.71s/it]"
     ]
    },
    {
     "name": "stdout",
     "output_type": "stream",
     "text": [
      "[INFO] [2021-11-16 23:01:41,650] [OpenBox-Shadan] Iteration 54, objective value: [41.22949138312105].\n"
     ]
    },
    {
     "name": "stderr",
     "output_type": "stream",
     "text": [
      "\r",
      "  5%|████▏                                                                        | 54/1000 [56:40<15:23:45, 58.59s/it]"
     ]
    },
    {
     "name": "stdout",
     "output_type": "stream",
     "text": [
      "[INFO] [2021-11-16 23:02:39,747] [OpenBox-Shadan] Iteration 55, objective value: [21.88626476584517].\n"
     ]
    },
    {
     "name": "stderr",
     "output_type": "stream",
     "text": [
      "\r",
      "  6%|████▏                                                                        | 55/1000 [57:38<15:20:27, 58.44s/it]"
     ]
    },
    {
     "name": "stdout",
     "output_type": "stream",
     "text": [
      "[INFO] [2021-11-16 23:03:42,194] [OpenBox-Shadan] Iteration 56, objective value: [32.06781206098054].\n"
     ]
    },
    {
     "name": "stderr",
     "output_type": "stream",
     "text": [
      "\r",
      "  6%|████▎                                                                        | 56/1000 [58:40<15:38:23, 59.64s/it]"
     ]
    },
    {
     "name": "stdout",
     "output_type": "stream",
     "text": [
      "[INFO] [2021-11-16 23:04:36,307] [OpenBox-Shadan] Iteration 57, objective value: [10.989934503172648].\n"
     ]
    },
    {
     "name": "stderr",
     "output_type": "stream",
     "text": [
      "\r",
      "  6%|████▍                                                                        | 57/1000 [59:34<15:11:19, 57.98s/it]"
     ]
    },
    {
     "name": "stdout",
     "output_type": "stream",
     "text": [
      "[INFO] [2021-11-16 23:05:30,264] [OpenBox-Shadan] Iteration 58, objective value: [21.593489854038637].\n"
     ]
    },
    {
     "name": "stderr",
     "output_type": "stream",
     "text": [
      "\r",
      "  6%|████▎                                                                      | 58/1000 [1:00:28<14:51:22, 56.78s/it]"
     ]
    },
    {
     "name": "stdout",
     "output_type": "stream",
     "text": [
      "[INFO] [2021-11-16 23:06:28,263] [OpenBox-Shadan] Iteration 59, objective value: [27.675992203347448].\n"
     ]
    },
    {
     "name": "stderr",
     "output_type": "stream",
     "text": [
      "\r",
      "  6%|████▍                                                                      | 59/1000 [1:01:26<14:56:11, 57.14s/it]"
     ]
    },
    {
     "name": "stdout",
     "output_type": "stream",
     "text": [
      "[INFO] [2021-11-16 23:07:22,368] [OpenBox-Shadan] Iteration 60, objective value: [36.71266412446177].\n"
     ]
    },
    {
     "name": "stderr",
     "output_type": "stream",
     "text": [
      "\r",
      "  6%|████▌                                                                      | 60/1000 [1:02:21<14:40:57, 56.23s/it]"
     ]
    },
    {
     "name": "stdout",
     "output_type": "stream",
     "text": [
      "[INFO] [2021-11-16 23:08:20,320] [OpenBox-Shadan] Iteration 61, objective value: [30.677857328947596].\n"
     ]
    },
    {
     "name": "stderr",
     "output_type": "stream",
     "text": [
      "\r",
      "  6%|████▌                                                                      | 61/1000 [1:03:18<14:48:05, 56.75s/it]"
     ]
    },
    {
     "name": "stdout",
     "output_type": "stream",
     "text": [
      "[INFO] [2021-11-16 23:09:14,733] [OpenBox-Shadan] Iteration 62, objective value: [21.63572095553326].\n"
     ]
    },
    {
     "name": "stderr",
     "output_type": "stream",
     "text": [
      "\r",
      "  6%|████▋                                                                      | 62/1000 [1:04:13<14:36:12, 56.05s/it]"
     ]
    },
    {
     "name": "stdout",
     "output_type": "stream",
     "text": [
      "[INFO] [2021-11-16 23:10:12,797] [OpenBox-Shadan] Iteration 63, objective value: [13.733079774179984].\n"
     ]
    },
    {
     "name": "stderr",
     "output_type": "stream",
     "text": [
      "\r",
      "  6%|████▋                                                                      | 63/1000 [1:05:11<14:44:43, 56.65s/it]"
     ]
    },
    {
     "name": "stdout",
     "output_type": "stream",
     "text": [
      "[INFO] [2021-11-16 23:11:08,851] [OpenBox-Shadan] Iteration 64, objective value: [17.72857267589997].\n"
     ]
    },
    {
     "name": "stderr",
     "output_type": "stream",
     "text": [
      "\r",
      "  6%|████▊                                                                      | 64/1000 [1:06:07<14:40:58, 56.47s/it]"
     ]
    },
    {
     "name": "stdout",
     "output_type": "stream",
     "text": [
      "[INFO] [2021-11-16 23:12:04,115] [OpenBox-Shadan] Iteration 65, objective value: [19.77607966693617].\n"
     ]
    },
    {
     "name": "stderr",
     "output_type": "stream",
     "text": [
      "\r",
      "  6%|████▉                                                                      | 65/1000 [1:07:02<14:34:23, 56.11s/it]"
     ]
    },
    {
     "name": "stdout",
     "output_type": "stream",
     "text": [
      "[INFO] [2021-11-16 23:12:59,326] [OpenBox-Shadan] Iteration 66, objective value: [16.457625528996843].\n"
     ]
    },
    {
     "name": "stderr",
     "output_type": "stream",
     "text": [
      "\r",
      "  7%|████▉                                                                      | 66/1000 [1:07:57<14:29:15, 55.84s/it]"
     ]
    },
    {
     "name": "stdout",
     "output_type": "stream",
     "text": [
      "[INFO] [2021-11-16 23:14:00,744] [OpenBox-Shadan] Iteration 67, objective value: [35.64569596207811].\n"
     ]
    },
    {
     "name": "stderr",
     "output_type": "stream",
     "text": [
      "\r",
      "  7%|█████                                                                      | 67/1000 [1:08:59<14:54:20, 57.51s/it]"
     ]
    },
    {
     "name": "stdout",
     "output_type": "stream",
     "text": [
      "[INFO] [2021-11-16 23:15:00,580] [OpenBox-Shadan] Iteration 68, objective value: [23.274749730943014].\n"
     ]
    },
    {
     "name": "stderr",
     "output_type": "stream",
     "text": [
      "\r",
      "  7%|█████                                                                      | 68/1000 [1:09:59<15:04:12, 58.21s/it]"
     ]
    },
    {
     "name": "stdout",
     "output_type": "stream",
     "text": [
      "[INFO] [2021-11-16 23:16:03,528] [OpenBox-Shadan] Iteration 69, objective value: [36.1664860970064].\n"
     ]
    },
    {
     "name": "stderr",
     "output_type": "stream",
     "text": [
      "\r",
      "  7%|█████▏                                                                     | 69/1000 [1:11:02<15:25:16, 59.63s/it]"
     ]
    },
    {
     "name": "stdout",
     "output_type": "stream",
     "text": [
      "[INFO] [2021-11-16 23:16:56,639] [OpenBox-Shadan] Iteration 70, objective value: [23.456888657095988].\n"
     ]
    },
    {
     "name": "stderr",
     "output_type": "stream",
     "text": [
      "\r",
      "  7%|█████▎                                                                     | 70/1000 [1:11:55<14:53:58, 57.68s/it]"
     ]
    },
    {
     "name": "stdout",
     "output_type": "stream",
     "text": [
      "[INFO] [2021-11-16 23:18:00,312] [OpenBox-Shadan] Iteration 71, objective value: [34.86752945666366].\n"
     ]
    },
    {
     "name": "stderr",
     "output_type": "stream",
     "text": [
      "\r",
      "  7%|█████▎                                                                     | 71/1000 [1:12:58<15:20:51, 59.47s/it]"
     ]
    },
    {
     "name": "stdout",
     "output_type": "stream",
     "text": [
      "[INFO] [2021-11-16 23:18:53,395] [OpenBox-Shadan] Iteration 72, objective value: [10.752888845345367].\n"
     ]
    },
    {
     "name": "stderr",
     "output_type": "stream",
     "text": [
      "\r",
      "  7%|█████▍                                                                     | 72/1000 [1:13:52<14:50:12, 57.56s/it]"
     ]
    },
    {
     "name": "stdout",
     "output_type": "stream",
     "text": [
      "[INFO] [2021-11-16 23:19:50,695] [OpenBox-Shadan] Iteration 73, objective value: [23.366910377153147].\n"
     ]
    },
    {
     "name": "stderr",
     "output_type": "stream",
     "text": [
      "\r",
      "  7%|█████▍                                                                     | 73/1000 [1:14:49<14:48:03, 57.48s/it]"
     ]
    },
    {
     "name": "stdout",
     "output_type": "stream",
     "text": [
      "[INFO] [2021-11-16 23:20:43,769] [OpenBox-Shadan] Iteration 74, objective value: [21.262836753182796].\n"
     ]
    },
    {
     "name": "stderr",
     "output_type": "stream",
     "text": [
      "\r",
      "  7%|█████▌                                                                     | 74/1000 [1:15:42<14:26:42, 56.16s/it]"
     ]
    },
    {
     "name": "stdout",
     "output_type": "stream",
     "text": [
      "[INFO] [2021-11-16 23:21:37,755] [OpenBox-Shadan] Iteration 75, objective value: [11.070861007818309].\n"
     ]
    },
    {
     "name": "stderr",
     "output_type": "stream",
     "text": [
      "\r",
      "  8%|█████▋                                                                     | 75/1000 [1:16:36<14:15:43, 55.51s/it]"
     ]
    },
    {
     "name": "stdout",
     "output_type": "stream",
     "text": [
      "[INFO] [2021-11-16 23:22:31,396] [OpenBox-Shadan] Iteration 76, objective value: [26.043230309431422].\n"
     ]
    },
    {
     "name": "stderr",
     "output_type": "stream",
     "text": [
      "\r",
      "  8%|█████▋                                                                     | 76/1000 [1:17:30<14:06:11, 54.95s/it]"
     ]
    },
    {
     "name": "stdout",
     "output_type": "stream",
     "text": [
      "[INFO] [2021-11-16 23:23:27,901] [OpenBox-Shadan] Iteration 77, objective value: [26.839817299019117].\n"
     ]
    },
    {
     "name": "stderr",
     "output_type": "stream",
     "text": [
      "\r",
      "  8%|█████▊                                                                     | 77/1000 [1:18:26<14:12:27, 55.41s/it]"
     ]
    },
    {
     "name": "stdout",
     "output_type": "stream",
     "text": [
      "[INFO] [2021-11-16 23:24:22,823] [OpenBox-Shadan] Iteration 78, objective value: [14.51476595304797].\n"
     ]
    },
    {
     "name": "stderr",
     "output_type": "stream",
     "text": [
      "\r",
      "  8%|█████▊                                                                     | 78/1000 [1:19:21<14:09:15, 55.27s/it]"
     ]
    },
    {
     "name": "stdout",
     "output_type": "stream",
     "text": [
      "[INFO] [2021-11-16 23:25:17,477] [OpenBox-Shadan] Iteration 79, objective value: [22.209616248084643].\n"
     ]
    },
    {
     "name": "stderr",
     "output_type": "stream",
     "text": [
      "\r",
      "  8%|█████▉                                                                     | 79/1000 [1:20:16<14:05:30, 55.08s/it]"
     ]
    },
    {
     "name": "stdout",
     "output_type": "stream",
     "text": [
      "[INFO] [2021-11-16 23:26:13,021] [OpenBox-Shadan] Iteration 80, objective value: [10.527156062900374].\n"
     ]
    },
    {
     "name": "stderr",
     "output_type": "stream",
     "text": [
      "\r",
      "  8%|██████                                                                     | 80/1000 [1:21:11<14:06:43, 55.22s/it]"
     ]
    },
    {
     "name": "stdout",
     "output_type": "stream",
     "text": [
      "[INFO] [2021-11-16 23:27:07,502] [OpenBox-Shadan] Iteration 81, objective value: [36.011859540867306].\n"
     ]
    },
    {
     "name": "stderr",
     "output_type": "stream",
     "text": [
      "\r",
      "  8%|██████                                                                     | 81/1000 [1:22:06<14:02:24, 55.00s/it]"
     ]
    },
    {
     "name": "stdout",
     "output_type": "stream",
     "text": [
      "[INFO] [2021-11-16 23:28:05,312] [OpenBox-Shadan] Iteration 82, objective value: [37.2259702902434].\n"
     ]
    },
    {
     "name": "stderr",
     "output_type": "stream",
     "text": [
      "\r",
      "  8%|██████▏                                                                    | 82/1000 [1:23:03<14:14:23, 55.84s/it]"
     ]
    },
    {
     "name": "stdout",
     "output_type": "stream",
     "text": [
      "[INFO] [2021-11-16 23:29:01,984] [OpenBox-Shadan] Iteration 83, objective value: [17.24106877548367].\n"
     ]
    },
    {
     "name": "stderr",
     "output_type": "stream",
     "text": [
      "\r",
      "  8%|██████▏                                                                    | 83/1000 [1:24:00<14:17:15, 56.09s/it]"
     ]
    },
    {
     "name": "stdout",
     "output_type": "stream",
     "text": [
      "[INFO] [2021-11-16 23:29:55,237] [OpenBox-Shadan] Iteration 84, objective value: [14.532555107980343].\n"
     ]
    },
    {
     "name": "stderr",
     "output_type": "stream",
     "text": [
      "\r",
      "  8%|██████▎                                                                    | 84/1000 [1:24:53<14:03:19, 55.24s/it]"
     ]
    },
    {
     "name": "stdout",
     "output_type": "stream",
     "text": [
      "[INFO] [2021-11-16 23:30:49,806] [OpenBox-Shadan] Iteration 85, objective value: [23.247459202961267].\n"
     ]
    },
    {
     "name": "stderr",
     "output_type": "stream",
     "text": [
      "\r",
      "  8%|██████▍                                                                    | 85/1000 [1:25:48<13:59:20, 55.04s/it]"
     ]
    },
    {
     "name": "stdout",
     "output_type": "stream",
     "text": [
      "[INFO] [2021-11-16 23:31:51,290] [OpenBox-Shadan] Iteration 86, objective value: [43.4208241377666].\n"
     ]
    },
    {
     "name": "stderr",
     "output_type": "stream",
     "text": [
      "\r",
      "  9%|██████▍                                                                    | 86/1000 [1:26:49<14:27:52, 56.97s/it]"
     ]
    },
    {
     "name": "stdout",
     "output_type": "stream",
     "text": [
      "[INFO] [2021-11-16 23:32:48,091] [OpenBox-Shadan] Iteration 87, objective value: [26.15614375031744].\n"
     ]
    },
    {
     "name": "stderr",
     "output_type": "stream",
     "text": [
      "\r",
      "  9%|██████▌                                                                    | 87/1000 [1:27:46<14:26:08, 56.92s/it]"
     ]
    },
    {
     "name": "stdout",
     "output_type": "stream",
     "text": [
      "[INFO] [2021-11-16 23:33:44,492] [OpenBox-Shadan] Iteration 88, objective value: [10.850195663808861].\n"
     ]
    },
    {
     "name": "stderr",
     "output_type": "stream",
     "text": [
      "\r",
      "  9%|██████▌                                                                    | 88/1000 [1:28:43<14:22:49, 56.76s/it]"
     ]
    },
    {
     "name": "stdout",
     "output_type": "stream",
     "text": [
      "[INFO] [2021-11-16 23:34:37,560] [OpenBox-Shadan] Iteration 89, objective value: [35.78308833693471].\n"
     ]
    },
    {
     "name": "stderr",
     "output_type": "stream",
     "text": [
      "\r",
      "  9%|██████▋                                                                    | 89/1000 [1:29:36<14:05:02, 55.66s/it]"
     ]
    },
    {
     "name": "stdout",
     "output_type": "stream",
     "text": [
      "[INFO] [2021-11-16 23:35:42,953] [OpenBox-Shadan] Iteration 90, objective value: [25.307621668622573].\n"
     ]
    },
    {
     "name": "stderr",
     "output_type": "stream",
     "text": [
      "\r",
      "  9%|██████▊                                                                    | 90/1000 [1:30:41<14:48:25, 58.58s/it]"
     ]
    },
    {
     "name": "stdout",
     "output_type": "stream",
     "text": [
      "[INFO] [2021-11-16 23:36:36,181] [OpenBox-Shadan] Iteration 91, objective value: [18.78048126691651].\n"
     ]
    },
    {
     "name": "stderr",
     "output_type": "stream",
     "text": [
      "\r",
      "  9%|██████▊                                                                    | 91/1000 [1:31:34<14:23:07, 56.97s/it]"
     ]
    },
    {
     "name": "stdout",
     "output_type": "stream",
     "text": [
      "[INFO] [2021-11-16 23:37:30,764] [OpenBox-Shadan] Iteration 92, objective value: [20.858069427411408].\n"
     ]
    },
    {
     "name": "stderr",
     "output_type": "stream",
     "text": [
      "\r",
      "  9%|██████▉                                                                    | 92/1000 [1:32:29<14:11:20, 56.26s/it]"
     ]
    },
    {
     "name": "stdout",
     "output_type": "stream",
     "text": [
      "[INFO] [2021-11-16 23:38:33,790] [OpenBox-Shadan] Iteration 93, objective value: [42.77481908934375].\n"
     ]
    },
    {
     "name": "stderr",
     "output_type": "stream",
     "text": [
      "\r",
      "  9%|██████▉                                                                    | 93/1000 [1:33:32<14:41:06, 58.29s/it]"
     ]
    },
    {
     "name": "stdout",
     "output_type": "stream",
     "text": [
      "[INFO] [2021-11-16 23:39:25,885] [OpenBox-Shadan] Iteration 94, objective value: [17.193238156530313].\n"
     ]
    },
    {
     "name": "stderr",
     "output_type": "stream",
     "text": [
      "\r",
      "  9%|███████                                                                    | 94/1000 [1:34:24<14:12:04, 56.43s/it]"
     ]
    },
    {
     "name": "stdout",
     "output_type": "stream",
     "text": [
      "[INFO] [2021-11-16 23:40:18,248] [OpenBox-Shadan] Iteration 95, objective value: [12.146799065968196].\n"
     ]
    },
    {
     "name": "stderr",
     "output_type": "stream",
     "text": [
      "\r",
      " 10%|███████▏                                                                   | 95/1000 [1:35:16<13:52:44, 55.21s/it]"
     ]
    },
    {
     "name": "stdout",
     "output_type": "stream",
     "text": [
      "[INFO] [2021-11-16 23:41:15,944] [OpenBox-Shadan] Iteration 96, objective value: [35.06965328181259].\n"
     ]
    },
    {
     "name": "stderr",
     "output_type": "stream",
     "text": [
      "\r",
      " 10%|███████▏                                                                   | 96/1000 [1:36:14<14:03:03, 55.96s/it]"
     ]
    },
    {
     "name": "stdout",
     "output_type": "stream",
     "text": [
      "[INFO] [2021-11-16 23:42:08,912] [OpenBox-Shadan] Iteration 97, objective value: [12.80455001735514].\n"
     ]
    },
    {
     "name": "stderr",
     "output_type": "stream",
     "text": [
      "\r",
      " 10%|███████▎                                                                   | 97/1000 [1:37:07<13:48:38, 55.06s/it]"
     ]
    },
    {
     "name": "stdout",
     "output_type": "stream",
     "text": [
      "[INFO] [2021-11-16 23:43:03,046] [OpenBox-Shadan] Iteration 98, objective value: [12.520824903883891].\n"
     ]
    },
    {
     "name": "stderr",
     "output_type": "stream",
     "text": [
      "\r",
      " 10%|███████▎                                                                   | 98/1000 [1:38:01<13:43:32, 54.78s/it]"
     ]
    },
    {
     "name": "stdout",
     "output_type": "stream",
     "text": [
      "[INFO] [2021-11-16 23:43:54,897] [OpenBox-Shadan] Iteration 99, objective value: [15.214992500899953].\n"
     ]
    },
    {
     "name": "stderr",
     "output_type": "stream",
     "text": [
      "\r",
      " 10%|███████▍                                                                   | 99/1000 [1:38:53<13:29:26, 53.90s/it]"
     ]
    },
    {
     "name": "stdout",
     "output_type": "stream",
     "text": [
      "[INFO] [2021-11-16 23:44:50,380] [OpenBox-Shadan] Iteration 100, objective value: [27.967905386681636].\n"
     ]
    },
    {
     "name": "stderr",
     "output_type": "stream",
     "text": [
      "\r",
      " 10%|███████▍                                                                  | 100/1000 [1:39:49<13:35:39, 54.38s/it]"
     ]
    },
    {
     "name": "stdout",
     "output_type": "stream",
     "text": [
      "[INFO] [2021-11-16 23:45:45,530] [OpenBox-Shadan] Iteration 101, objective value: [35.2558330439155].\n"
     ]
    },
    {
     "name": "stderr",
     "output_type": "stream",
     "text": [
      "\r",
      " 10%|███████▍                                                                  | 101/1000 [1:40:44<13:38:13, 54.61s/it]"
     ]
    },
    {
     "name": "stdout",
     "output_type": "stream",
     "text": [
      "[INFO] [2021-11-16 23:46:41,009] [OpenBox-Shadan] Iteration 102, objective value: [39.74158968242592].\n"
     ]
    },
    {
     "name": "stderr",
     "output_type": "stream",
     "text": [
      "\r",
      " 10%|███████▌                                                                  | 102/1000 [1:41:39<13:41:13, 54.87s/it]"
     ]
    },
    {
     "name": "stdout",
     "output_type": "stream",
     "text": [
      "[INFO] [2021-11-16 23:47:38,205] [OpenBox-Shadan] Iteration 103, objective value: [20.218296843984803].\n"
     ]
    },
    {
     "name": "stderr",
     "output_type": "stream",
     "text": [
      "\r",
      " 10%|███████▌                                                                  | 103/1000 [1:42:36<13:50:44, 55.57s/it]"
     ]
    },
    {
     "name": "stdout",
     "output_type": "stream",
     "text": [
      "[INFO] [2021-11-16 23:48:36,192] [OpenBox-Shadan] Iteration 104, objective value: [33.15773816054934].\n"
     ]
    },
    {
     "name": "stderr",
     "output_type": "stream",
     "text": [
      "\r",
      " 10%|███████▋                                                                  | 104/1000 [1:43:34<14:00:38, 56.29s/it]"
     ]
    },
    {
     "name": "stdout",
     "output_type": "stream",
     "text": [
      "[INFO] [2021-11-16 23:49:27,667] [OpenBox-Shadan] Iteration 105, objective value: [11.000494460003665].\n"
     ]
    },
    {
     "name": "stderr",
     "output_type": "stream",
     "text": [
      "\r",
      " 10%|███████▊                                                                  | 105/1000 [1:44:26<13:38:09, 54.85s/it]"
     ]
    },
    {
     "name": "stdout",
     "output_type": "stream",
     "text": [
      "[INFO] [2021-11-16 23:50:17,324] [OpenBox-Shadan] Iteration 106, objective value: [18.345701802538628].\n"
     ]
    },
    {
     "name": "stderr",
     "output_type": "stream",
     "text": [
      "\r",
      " 11%|███████▊                                                                  | 106/1000 [1:45:15<13:14:01, 53.29s/it]"
     ]
    },
    {
     "name": "stdout",
     "output_type": "stream",
     "text": [
      "[INFO] [2021-11-16 23:51:10,357] [OpenBox-Shadan] Iteration 107, objective value: [21.926676450503052].\n"
     ]
    },
    {
     "name": "stderr",
     "output_type": "stream",
     "text": [
      "\r",
      " 11%|███████▉                                                                  | 107/1000 [1:46:09<13:11:59, 53.21s/it]"
     ]
    },
    {
     "name": "stdout",
     "output_type": "stream",
     "text": [
      "[INFO] [2021-11-16 23:52:02,063] [OpenBox-Shadan] Iteration 108, objective value: [29.707609663570622].\n"
     ]
    },
    {
     "name": "stderr",
     "output_type": "stream",
     "text": [
      "\r",
      " 11%|███████▉                                                                  | 108/1000 [1:47:00<13:04:22, 52.76s/it]"
     ]
    },
    {
     "name": "stdout",
     "output_type": "stream",
     "text": [
      "[INFO] [2021-11-16 23:52:59,313] [OpenBox-Shadan] Iteration 109, objective value: [25.30541735745706].\n"
     ]
    },
    {
     "name": "stderr",
     "output_type": "stream",
     "text": [
      "\r",
      " 11%|████████                                                                  | 109/1000 [1:47:57<13:23:30, 54.11s/it]"
     ]
    },
    {
     "name": "stdout",
     "output_type": "stream",
     "text": [
      "[INFO] [2021-11-16 23:53:52,345] [OpenBox-Shadan] Iteration 110, objective value: [19.499800342186674].\n"
     ]
    },
    {
     "name": "stderr",
     "output_type": "stream",
     "text": [
      "\r",
      " 11%|████████▏                                                                 | 110/1000 [1:48:51<13:17:48, 53.79s/it]"
     ]
    },
    {
     "name": "stdout",
     "output_type": "stream",
     "text": [
      "[INFO] [2021-11-16 23:54:46,849] [OpenBox-Shadan] Iteration 111, objective value: [10.545311561711188].\n"
     ]
    },
    {
     "name": "stderr",
     "output_type": "stream",
     "text": [
      "\r",
      " 11%|████████▏                                                                 | 111/1000 [1:49:45<13:20:06, 54.00s/it]"
     ]
    },
    {
     "name": "stdout",
     "output_type": "stream",
     "text": [
      "[INFO] [2021-11-16 23:55:38,984] [OpenBox-Shadan] Iteration 112, objective value: [22.217040701975492].\n"
     ]
    },
    {
     "name": "stderr",
     "output_type": "stream",
     "text": [
      "\r",
      " 11%|████████▎                                                                 | 112/1000 [1:50:37<13:10:55, 53.44s/it]"
     ]
    },
    {
     "name": "stdout",
     "output_type": "stream",
     "text": [
      "[INFO] [2021-11-16 23:56:33,246] [OpenBox-Shadan] Iteration 113, objective value: [17.19789477907743].\n"
     ]
    },
    {
     "name": "stderr",
     "output_type": "stream",
     "text": [
      "\r",
      " 11%|████████▎                                                                 | 113/1000 [1:51:31<13:13:40, 53.69s/it]"
     ]
    },
    {
     "name": "stdout",
     "output_type": "stream",
     "text": [
      "[INFO] [2021-11-16 23:57:29,218] [OpenBox-Shadan] Iteration 114, objective value: [17.530863860394632].\n"
     ]
    },
    {
     "name": "stderr",
     "output_type": "stream",
     "text": [
      "\r",
      " 11%|████████▍                                                                 | 114/1000 [1:52:27<13:22:53, 54.37s/it]"
     ]
    },
    {
     "name": "stdout",
     "output_type": "stream",
     "text": [
      "[INFO] [2021-11-16 23:58:26,100] [OpenBox-Shadan] Iteration 115, objective value: [19.18539880257623].\n"
     ]
    },
    {
     "name": "stderr",
     "output_type": "stream",
     "text": [
      "\r",
      " 12%|████████▌                                                                 | 115/1000 [1:53:24<13:33:06, 55.13s/it]"
     ]
    },
    {
     "name": "stdout",
     "output_type": "stream",
     "text": [
      "[INFO] [2021-11-16 23:59:16,808] [OpenBox-Shadan] Iteration 116, objective value: [21.573002293489168].\n"
     ]
    },
    {
     "name": "stderr",
     "output_type": "stream",
     "text": [
      "\r",
      " 12%|████████▌                                                                 | 116/1000 [1:54:15<13:12:39, 53.80s/it]"
     ]
    },
    {
     "name": "stdout",
     "output_type": "stream",
     "text": [
      "[INFO] [2021-11-17 00:00:16,931] [OpenBox-Shadan] Iteration 117, objective value: [33.60223292082536].\n"
     ]
    },
    {
     "name": "stderr",
     "output_type": "stream",
     "text": [
      "\r",
      " 12%|████████▋                                                                 | 117/1000 [1:55:15<13:39:40, 55.70s/it]"
     ]
    },
    {
     "name": "stdout",
     "output_type": "stream",
     "text": [
      "[INFO] [2021-11-17 00:01:12,270] [OpenBox-Shadan] Iteration 118, objective value: [28.490044628583917].\n"
     ]
    },
    {
     "name": "stderr",
     "output_type": "stream",
     "text": [
      "\r",
      " 12%|████████▋                                                                 | 118/1000 [1:56:10<13:37:09, 55.59s/it]"
     ]
    },
    {
     "name": "stdout",
     "output_type": "stream",
     "text": [
      "[INFO] [2021-11-17 00:02:10,077] [OpenBox-Shadan] Iteration 119, objective value: [15.115431559059815].\n"
     ]
    },
    {
     "name": "stderr",
     "output_type": "stream",
     "text": [
      "\r",
      " 12%|████████▊                                                                 | 119/1000 [1:57:08<13:46:00, 56.25s/it]"
     ]
    },
    {
     "name": "stdout",
     "output_type": "stream",
     "text": [
      "[INFO] [2021-11-17 00:03:08,071] [OpenBox-Shadan] Iteration 120, objective value: [11.628224518260112].\n"
     ]
    },
    {
     "name": "stderr",
     "output_type": "stream",
     "text": [
      "\r",
      " 12%|████████▉                                                                 | 120/1000 [1:58:06<13:52:43, 56.78s/it]"
     ]
    },
    {
     "name": "stdout",
     "output_type": "stream",
     "text": [
      "[INFO] [2021-11-17 00:04:01,717] [OpenBox-Shadan] Iteration 121, objective value: [20.11409222286514].\n"
     ]
    },
    {
     "name": "stderr",
     "output_type": "stream",
     "text": [
      "\r",
      " 12%|████████▉                                                                 | 121/1000 [1:59:00<13:38:01, 55.84s/it]"
     ]
    },
    {
     "name": "stdout",
     "output_type": "stream",
     "text": [
      "[INFO] [2021-11-17 00:05:01,731] [OpenBox-Shadan] Iteration 122, objective value: [14.766235458420269].\n"
     ]
    },
    {
     "name": "stderr",
     "output_type": "stream",
     "text": [
      "\r",
      " 12%|█████████                                                                 | 122/1000 [2:00:00<13:55:25, 57.09s/it]"
     ]
    },
    {
     "name": "stdout",
     "output_type": "stream",
     "text": [
      "[INFO] [2021-11-17 00:05:52,821] [OpenBox-Shadan] Iteration 123, objective value: [22.643079013719927].\n"
     ]
    },
    {
     "name": "stderr",
     "output_type": "stream",
     "text": [
      "\r",
      " 12%|█████████                                                                 | 123/1000 [2:00:51<13:28:09, 55.29s/it]"
     ]
    },
    {
     "name": "stdout",
     "output_type": "stream",
     "text": [
      "[INFO] [2021-11-17 00:06:47,019] [OpenBox-Shadan] Iteration 124, objective value: [9.516901586079314].\n"
     ]
    },
    {
     "name": "stderr",
     "output_type": "stream",
     "text": [
      "\r",
      " 12%|█████████▏                                                                | 124/1000 [2:01:45<13:22:27, 54.96s/it]"
     ]
    },
    {
     "name": "stdout",
     "output_type": "stream",
     "text": [
      "[INFO] [2021-11-17 00:07:46,134] [OpenBox-Shadan] Iteration 125, objective value: [25.331742612890068].\n"
     ]
    },
    {
     "name": "stderr",
     "output_type": "stream",
     "text": [
      "\r",
      " 12%|█████████▎                                                                | 125/1000 [2:02:44<13:39:41, 56.21s/it]"
     ]
    },
    {
     "name": "stdout",
     "output_type": "stream",
     "text": [
      "[INFO] [2021-11-17 00:08:38,655] [OpenBox-Shadan] Iteration 126, objective value: [14.131141075397451].\n"
     ]
    },
    {
     "name": "stderr",
     "output_type": "stream",
     "text": [
      "\r",
      " 13%|█████████▎                                                                | 126/1000 [2:03:37<13:22:39, 55.10s/it]"
     ]
    },
    {
     "name": "stdout",
     "output_type": "stream",
     "text": [
      "[INFO] [2021-11-17 00:09:35,856] [OpenBox-Shadan] Iteration 127, objective value: [26.215264914368163].\n"
     ]
    },
    {
     "name": "stderr",
     "output_type": "stream",
     "text": [
      "\r",
      " 13%|█████████▍                                                                | 127/1000 [2:04:34<13:30:53, 55.73s/it]"
     ]
    },
    {
     "name": "stdout",
     "output_type": "stream",
     "text": [
      "[INFO] [2021-11-17 00:10:31,481] [OpenBox-Shadan] Iteration 128, objective value: [9.005873642316189].\n"
     ]
    },
    {
     "name": "stderr",
     "output_type": "stream",
     "text": [
      "\r",
      " 13%|█████████▍                                                                | 128/1000 [2:05:30<13:29:30, 55.70s/it]"
     ]
    },
    {
     "name": "stdout",
     "output_type": "stream",
     "text": [
      "[INFO] [2021-11-17 00:11:25,431] [OpenBox-Shadan] Iteration 129, objective value: [10.37044064632525].\n"
     ]
    },
    {
     "name": "stderr",
     "output_type": "stream",
     "text": [
      "\r",
      " 13%|█████████▌                                                                | 129/1000 [2:06:24<13:20:57, 55.17s/it]"
     ]
    },
    {
     "name": "stdout",
     "output_type": "stream",
     "text": [
      "[INFO] [2021-11-17 00:12:23,214] [OpenBox-Shadan] Iteration 130, objective value: [4.804967162560672].\n"
     ]
    },
    {
     "name": "stderr",
     "output_type": "stream",
     "text": [
      "\r",
      " 13%|█████████▌                                                                | 130/1000 [2:07:21<13:31:22, 55.96s/it]"
     ]
    },
    {
     "name": "stdout",
     "output_type": "stream",
     "text": [
      "[INFO] [2021-11-17 00:13:20,941] [OpenBox-Shadan] Iteration 131, objective value: [13.099946708228288].\n"
     ]
    },
    {
     "name": "stderr",
     "output_type": "stream",
     "text": [
      "\r",
      " 13%|█████████▋                                                                | 131/1000 [2:08:19<13:38:08, 56.49s/it]"
     ]
    },
    {
     "name": "stdout",
     "output_type": "stream",
     "text": [
      "[INFO] [2021-11-17 00:14:19,170] [OpenBox-Shadan] Iteration 132, objective value: [16.17834537389153].\n"
     ]
    },
    {
     "name": "stderr",
     "output_type": "stream",
     "text": [
      "\r",
      " 13%|█████████▊                                                                | 132/1000 [2:09:17<13:44:45, 57.01s/it]"
     ]
    },
    {
     "name": "stdout",
     "output_type": "stream",
     "text": [
      "[INFO] [2021-11-17 00:15:14,442] [OpenBox-Shadan] Iteration 133, objective value: [17.10616920302715].\n"
     ]
    },
    {
     "name": "stderr",
     "output_type": "stream",
     "text": [
      "\r",
      " 13%|█████████▊                                                                | 133/1000 [2:10:13<13:36:16, 56.49s/it]"
     ]
    },
    {
     "name": "stdout",
     "output_type": "stream",
     "text": [
      "[INFO] [2021-11-17 00:16:08,192] [OpenBox-Shadan] Iteration 134, objective value: [5.729880905153593].\n"
     ]
    },
    {
     "name": "stderr",
     "output_type": "stream",
     "text": [
      "\r",
      " 13%|█████████▉                                                                | 134/1000 [2:11:06<13:23:27, 55.67s/it]"
     ]
    },
    {
     "name": "stdout",
     "output_type": "stream",
     "text": [
      "[INFO] [2021-11-17 00:17:06,231] [OpenBox-Shadan] Iteration 135, objective value: [12.075593025857827].\n"
     ]
    },
    {
     "name": "stderr",
     "output_type": "stream",
     "text": [
      "\r",
      " 14%|█████████▉                                                                | 135/1000 [2:12:04<13:32:47, 56.38s/it]"
     ]
    },
    {
     "name": "stdout",
     "output_type": "stream",
     "text": [
      "[INFO] [2021-11-17 00:18:02,728] [OpenBox-Shadan] Iteration 136, objective value: [7.814589764366701].\n"
     ]
    },
    {
     "name": "stderr",
     "output_type": "stream",
     "text": [
      "\r",
      " 14%|██████████                                                                | 136/1000 [2:13:01<13:32:21, 56.41s/it]"
     ]
    },
    {
     "name": "stdout",
     "output_type": "stream",
     "text": [
      "[INFO] [2021-11-17 00:18:58,565] [OpenBox-Shadan] Iteration 137, objective value: [7.686097189550779].\n"
     ]
    },
    {
     "name": "stderr",
     "output_type": "stream",
     "text": [
      "\r",
      " 14%|██████████▏                                                               | 137/1000 [2:13:57<13:28:55, 56.24s/it]"
     ]
    },
    {
     "name": "stdout",
     "output_type": "stream",
     "text": [
      "[INFO] [2021-11-17 00:19:54,147] [OpenBox-Shadan] Iteration 138, objective value: [6.365726509294944].\n"
     ]
    },
    {
     "name": "stderr",
     "output_type": "stream",
     "text": [
      "\r",
      " 14%|██████████▏                                                               | 138/1000 [2:14:52<13:25:09, 56.04s/it]"
     ]
    },
    {
     "name": "stdout",
     "output_type": "stream",
     "text": [
      "[INFO] [2021-11-17 00:20:46,811] [OpenBox-Shadan] Iteration 139, objective value: [5.236658935210031].\n"
     ]
    },
    {
     "name": "stderr",
     "output_type": "stream",
     "text": [
      "\r",
      " 14%|██████████▎                                                               | 139/1000 [2:15:45<13:09:40, 55.03s/it]"
     ]
    },
    {
     "name": "stdout",
     "output_type": "stream",
     "text": [
      "[INFO] [2021-11-17 00:21:42,759] [OpenBox-Shadan] Iteration 140, objective value: [20.282842428884365].\n"
     ]
    },
    {
     "name": "stderr",
     "output_type": "stream",
     "text": [
      "\r",
      " 14%|██████████▎                                                               | 140/1000 [2:16:41<13:12:42, 55.30s/it]"
     ]
    },
    {
     "name": "stdout",
     "output_type": "stream",
     "text": [
      "[INFO] [2021-11-17 00:22:50,352] [OpenBox-Shadan] Iteration 141, objective value: [42.316804654484464].\n"
     ]
    },
    {
     "name": "stderr",
     "output_type": "stream",
     "text": [
      "\r",
      " 14%|██████████▍                                                               | 141/1000 [2:17:49<14:04:33, 58.99s/it]"
     ]
    },
    {
     "name": "stdout",
     "output_type": "stream",
     "text": [
      "[INFO] [2021-11-17 00:23:41,107] [OpenBox-Shadan] Iteration 142, objective value: [6.617691979948006].\n"
     ]
    },
    {
     "name": "stderr",
     "output_type": "stream",
     "text": [
      "\r",
      " 14%|██████████▌                                                               | 142/1000 [2:18:39<13:28:14, 56.52s/it]"
     ]
    },
    {
     "name": "stdout",
     "output_type": "stream",
     "text": [
      "[INFO] [2021-11-17 00:24:39,372] [OpenBox-Shadan] Iteration 143, objective value: [19.405126177480682].\n"
     ]
    },
    {
     "name": "stderr",
     "output_type": "stream",
     "text": [
      "\r",
      " 14%|██████████▌                                                               | 143/1000 [2:19:38<13:34:46, 57.04s/it]"
     ]
    },
    {
     "name": "stdout",
     "output_type": "stream",
     "text": [
      "[INFO] [2021-11-17 00:25:36,900] [OpenBox-Shadan] Iteration 144, objective value: [13.80707383903686].\n"
     ]
    },
    {
     "name": "stderr",
     "output_type": "stream",
     "text": [
      "\r",
      " 14%|██████████▋                                                               | 144/1000 [2:20:35<13:35:53, 57.19s/it]"
     ]
    },
    {
     "name": "stdout",
     "output_type": "stream",
     "text": [
      "[INFO] [2021-11-17 00:26:31,650] [OpenBox-Shadan] Iteration 145, objective value: [7.917674765106639].\n"
     ]
    },
    {
     "name": "stderr",
     "output_type": "stream",
     "text": [
      "\r",
      " 14%|██████████▋                                                               | 145/1000 [2:21:30<13:24:31, 56.46s/it]"
     ]
    },
    {
     "name": "stdout",
     "output_type": "stream",
     "text": [
      "[INFO] [2021-11-17 00:27:27,778] [OpenBox-Shadan] Iteration 146, objective value: [5.993372499391143].\n"
     ]
    },
    {
     "name": "stderr",
     "output_type": "stream",
     "text": [
      "\r",
      " 15%|██████████▊                                                               | 146/1000 [2:22:26<13:22:10, 56.36s/it]"
     ]
    },
    {
     "name": "stdout",
     "output_type": "stream",
     "text": [
      "[INFO] [2021-11-17 00:28:20,937] [OpenBox-Shadan] Iteration 147, objective value: [5.485666785284266].\n"
     ]
    },
    {
     "name": "stderr",
     "output_type": "stream",
     "text": [
      "\r",
      " 15%|██████████▉                                                               | 147/1000 [2:23:19<13:07:35, 55.40s/it]"
     ]
    },
    {
     "name": "stdout",
     "output_type": "stream",
     "text": [
      "[INFO] [2021-11-17 00:29:16,314] [OpenBox-Shadan] Iteration 148, objective value: [22.100092814448374].\n"
     ]
    },
    {
     "name": "stderr",
     "output_type": "stream",
     "text": [
      "\r",
      " 15%|██████████▉                                                               | 148/1000 [2:24:14<13:06:33, 55.39s/it]"
     ]
    },
    {
     "name": "stdout",
     "output_type": "stream",
     "text": [
      "[INFO] [2021-11-17 00:30:15,269] [OpenBox-Shadan] Iteration 149, objective value: [24.81061714346889].\n"
     ]
    },
    {
     "name": "stderr",
     "output_type": "stream",
     "text": [
      "\r",
      " 15%|███████████                                                               | 149/1000 [2:25:13<13:20:48, 56.46s/it]"
     ]
    },
    {
     "name": "stdout",
     "output_type": "stream",
     "text": [
      "[INFO] [2021-11-17 00:31:14,095] [OpenBox-Shadan] Iteration 150, objective value: [17.47413252409835].\n"
     ]
    },
    {
     "name": "stderr",
     "output_type": "stream",
     "text": [
      "\r",
      " 15%|███████████                                                               | 150/1000 [2:26:12<13:29:55, 57.17s/it]"
     ]
    },
    {
     "name": "stdout",
     "output_type": "stream",
     "text": [
      "[INFO] [2021-11-17 00:32:15,197] [OpenBox-Shadan] Iteration 151, objective value: [27.08064219440483].\n"
     ]
    },
    {
     "name": "stderr",
     "output_type": "stream",
     "text": [
      "\r",
      " 15%|███████████▏                                                              | 151/1000 [2:27:13<13:45:39, 58.35s/it]"
     ]
    },
    {
     "name": "stdout",
     "output_type": "stream",
     "text": [
      "[INFO] [2021-11-17 00:33:15,303] [OpenBox-Shadan] Iteration 152, objective value: [14.946367663733568].\n"
     ]
    },
    {
     "name": "stderr",
     "output_type": "stream",
     "text": [
      "\r",
      " 15%|███████████▏                                                              | 152/1000 [2:28:13<13:52:07, 58.88s/it]"
     ]
    },
    {
     "name": "stdout",
     "output_type": "stream",
     "text": [
      "[INFO] [2021-11-17 00:34:06,662] [OpenBox-Shadan] Iteration 153, objective value: [11.066741680240213].\n"
     ]
    },
    {
     "name": "stderr",
     "output_type": "stream",
     "text": [
      "\r",
      " 15%|███████████▎                                                              | 153/1000 [2:29:05<13:19:18, 56.62s/it]"
     ]
    },
    {
     "name": "stdout",
     "output_type": "stream",
     "text": [
      "[INFO] [2021-11-17 00:35:01,130] [OpenBox-Shadan] Iteration 154, objective value: [6.264261471035198].\n"
     ]
    },
    {
     "name": "stderr",
     "output_type": "stream",
     "text": [
      "\r",
      " 15%|███████████▍                                                              | 154/1000 [2:29:59<13:09:15, 55.98s/it]"
     ]
    },
    {
     "name": "stdout",
     "output_type": "stream",
     "text": [
      "[INFO] [2021-11-17 00:35:59,481] [OpenBox-Shadan] Iteration 155, objective value: [10.16133078454233].\n"
     ]
    },
    {
     "name": "stderr",
     "output_type": "stream",
     "text": [
      "\r",
      " 16%|███████████▍                                                              | 155/1000 [2:30:58<13:18:21, 56.69s/it]"
     ]
    },
    {
     "name": "stdout",
     "output_type": "stream",
     "text": [
      "[INFO] [2021-11-17 00:36:55,823] [OpenBox-Shadan] Iteration 156, objective value: [34.530929287387636].\n"
     ]
    },
    {
     "name": "stderr",
     "output_type": "stream",
     "text": [
      "\r",
      " 16%|███████████▌                                                              | 156/1000 [2:31:54<13:15:57, 56.58s/it]"
     ]
    },
    {
     "name": "stdout",
     "output_type": "stream",
     "text": [
      "[INFO] [2021-11-17 00:37:48,619] [OpenBox-Shadan] Iteration 157, objective value: [8.254701747420754].\n"
     ]
    },
    {
     "name": "stderr",
     "output_type": "stream",
     "text": [
      "\r",
      " 16%|███████████▌                                                              | 157/1000 [2:32:47<12:59:02, 55.45s/it]"
     ]
    },
    {
     "name": "stdout",
     "output_type": "stream",
     "text": [
      "[INFO] [2021-11-17 00:38:41,872] [OpenBox-Shadan] Iteration 158, objective value: [9.190427358092577].\n"
     ]
    },
    {
     "name": "stderr",
     "output_type": "stream",
     "text": [
      "\r",
      " 16%|███████████▋                                                              | 158/1000 [2:33:40<12:48:52, 54.79s/it]"
     ]
    },
    {
     "name": "stdout",
     "output_type": "stream",
     "text": [
      "[INFO] [2021-11-17 00:39:38,614] [OpenBox-Shadan] Iteration 159, objective value: [15.208971413743683].\n"
     ]
    },
    {
     "name": "stderr",
     "output_type": "stream",
     "text": [
      "\r",
      " 16%|███████████▊                                                              | 159/1000 [2:34:37<12:56:10, 55.38s/it]"
     ]
    },
    {
     "name": "stdout",
     "output_type": "stream",
     "text": [
      "[INFO] [2021-11-17 00:40:34,769] [OpenBox-Shadan] Iteration 160, objective value: [6.558986945059672].\n"
     ]
    },
    {
     "name": "stderr",
     "output_type": "stream",
     "text": [
      "\r",
      " 16%|███████████▊                                                              | 160/1000 [2:35:33<12:58:31, 55.61s/it]"
     ]
    },
    {
     "name": "stdout",
     "output_type": "stream",
     "text": [
      "[INFO] [2021-11-17 00:41:32,410] [OpenBox-Shadan] Iteration 161, objective value: [24.294354522113863].\n"
     ]
    },
    {
     "name": "stderr",
     "output_type": "stream",
     "text": [
      "\r",
      " 16%|███████████▉                                                              | 161/1000 [2:36:31<13:06:07, 56.22s/it]"
     ]
    },
    {
     "name": "stdout",
     "output_type": "stream",
     "text": [
      "[INFO] [2021-11-17 00:42:24,102] [OpenBox-Shadan] Iteration 162, objective value: [13.782923036271313].\n"
     ]
    },
    {
     "name": "stderr",
     "output_type": "stream",
     "text": [
      "\r",
      " 16%|███████████▉                                                              | 162/1000 [2:37:22<12:46:13, 54.86s/it]"
     ]
    },
    {
     "name": "stdout",
     "output_type": "stream",
     "text": [
      "[INFO] [2021-11-17 00:43:16,414] [OpenBox-Shadan] Iteration 163, objective value: [8.759842518774263].\n"
     ]
    },
    {
     "name": "stderr",
     "output_type": "stream",
     "text": [
      "\r",
      " 16%|████████████                                                              | 163/1000 [2:38:15<12:34:38, 54.10s/it]"
     ]
    },
    {
     "name": "stdout",
     "output_type": "stream",
     "text": [
      "[INFO] [2021-11-17 00:44:07,851] [OpenBox-Shadan] Iteration 164, objective value: [21.815636001599273].\n"
     ]
    },
    {
     "name": "stderr",
     "output_type": "stream",
     "text": [
      "\r",
      " 16%|████████████▏                                                             | 164/1000 [2:39:06<12:22:37, 53.30s/it]"
     ]
    },
    {
     "name": "stdout",
     "output_type": "stream",
     "text": [
      "[INFO] [2021-11-17 00:44:52,479] [OpenBox-Shadan] Iteration 165, objective value: [100.0].\n"
     ]
    },
    {
     "name": "stderr",
     "output_type": "stream",
     "text": [
      "\r",
      " 16%|████████████▏                                                             | 165/1000 [2:39:51<11:45:31, 50.70s/it]"
     ]
    },
    {
     "name": "stdout",
     "output_type": "stream",
     "text": [
      "[INFO] [2021-11-17 00:45:57,728] [OpenBox-Shadan] Iteration 166, objective value: [27.38442662668966].\n"
     ]
    },
    {
     "name": "stderr",
     "output_type": "stream",
     "text": [
      "\r",
      " 17%|████████████▎                                                             | 166/1000 [2:40:56<12:45:22, 55.06s/it]"
     ]
    },
    {
     "name": "stdout",
     "output_type": "stream",
     "text": [
      "[INFO] [2021-11-17 00:46:49,197] [OpenBox-Shadan] Iteration 167, objective value: [14.912469003122311].\n"
     ]
    },
    {
     "name": "stderr",
     "output_type": "stream",
     "text": [
      "\r",
      " 17%|████████████▎                                                             | 167/1000 [2:41:47<12:29:29, 53.98s/it]"
     ]
    },
    {
     "name": "stdout",
     "output_type": "stream",
     "text": [
      "[INFO] [2021-11-17 00:47:48,053] [OpenBox-Shadan] Iteration 168, objective value: [28.492526471989052].\n"
     ]
    },
    {
     "name": "stderr",
     "output_type": "stream",
     "text": [
      "\r",
      " 17%|████████████▍                                                             | 168/1000 [2:42:46<12:48:51, 55.45s/it]"
     ]
    },
    {
     "name": "stdout",
     "output_type": "stream",
     "text": [
      "[INFO] [2021-11-17 00:48:47,520] [OpenBox-Shadan] Iteration 169, objective value: [20.247197760079345].\n"
     ]
    },
    {
     "name": "stderr",
     "output_type": "stream",
     "text": [
      "\r",
      " 17%|████████████▌                                                             | 169/1000 [2:43:46<13:04:38, 56.65s/it]"
     ]
    },
    {
     "name": "stdout",
     "output_type": "stream",
     "text": [
      "[INFO] [2021-11-17 00:49:41,746] [OpenBox-Shadan] Iteration 170, objective value: [6.333448717097838].\n"
     ]
    },
    {
     "name": "stderr",
     "output_type": "stream",
     "text": [
      "\r",
      " 17%|████████████▌                                                             | 170/1000 [2:44:40<12:53:37, 55.92s/it]"
     ]
    },
    {
     "name": "stdout",
     "output_type": "stream",
     "text": [
      "[INFO] [2021-11-17 00:50:41,025] [OpenBox-Shadan] Iteration 171, objective value: [10.031937957618837].\n"
     ]
    },
    {
     "name": "stderr",
     "output_type": "stream",
     "text": [
      "\r",
      " 17%|████████████▋                                                             | 171/1000 [2:45:39<13:06:35, 56.93s/it]"
     ]
    },
    {
     "name": "stdout",
     "output_type": "stream",
     "text": [
      "[INFO] [2021-11-17 00:51:34,699] [OpenBox-Shadan] Iteration 172, objective value: [5.714509866142464].\n"
     ]
    },
    {
     "name": "stderr",
     "output_type": "stream",
     "text": [
      "\r",
      " 17%|████████████▋                                                             | 172/1000 [2:46:33<12:52:09, 55.95s/it]"
     ]
    },
    {
     "name": "stdout",
     "output_type": "stream",
     "text": [
      "[INFO] [2021-11-17 00:52:25,624] [OpenBox-Shadan] Iteration 173, objective value: [9.403008306700968].\n"
     ]
    },
    {
     "name": "stderr",
     "output_type": "stream",
     "text": [
      "\r",
      " 17%|████████████▊                                                             | 173/1000 [2:47:24<12:30:26, 54.45s/it]"
     ]
    },
    {
     "name": "stdout",
     "output_type": "stream",
     "text": [
      "[INFO] [2021-11-17 00:53:15,471] [OpenBox-Shadan] Iteration 174, objective value: [10.237510237417936].\n"
     ]
    },
    {
     "name": "stderr",
     "output_type": "stream",
     "text": [
      "\r",
      " 17%|████████████▉                                                             | 174/1000 [2:48:14<12:10:32, 53.07s/it]"
     ]
    },
    {
     "name": "stdout",
     "output_type": "stream",
     "text": [
      "[INFO] [2021-11-17 00:54:09,607] [OpenBox-Shadan] Iteration 175, objective value: [5.714081641289084].\n"
     ]
    },
    {
     "name": "stderr",
     "output_type": "stream",
     "text": [
      "\r",
      " 18%|████████████▉                                                             | 175/1000 [2:49:08<12:14:03, 53.39s/it]"
     ]
    },
    {
     "name": "stdout",
     "output_type": "stream",
     "text": [
      "[INFO] [2021-11-17 00:55:04,717] [OpenBox-Shadan] Iteration 176, objective value: [8.665965025488092].\n"
     ]
    },
    {
     "name": "stderr",
     "output_type": "stream",
     "text": [
      "\r",
      " 18%|█████████████                                                             | 176/1000 [2:50:03<12:20:16, 53.90s/it]"
     ]
    },
    {
     "name": "stdout",
     "output_type": "stream",
     "text": [
      "[INFO] [2021-11-17 00:55:55,963] [OpenBox-Shadan] Iteration 177, objective value: [8.08942955369038].\n"
     ]
    },
    {
     "name": "stderr",
     "output_type": "stream",
     "text": [
      "\r",
      " 18%|█████████████                                                             | 177/1000 [2:50:54<12:08:26, 53.11s/it]"
     ]
    },
    {
     "name": "stdout",
     "output_type": "stream",
     "text": [
      "[INFO] [2021-11-17 00:56:54,843] [OpenBox-Shadan] Iteration 178, objective value: [13.321891985758327].\n"
     ]
    },
    {
     "name": "stderr",
     "output_type": "stream",
     "text": [
      "\r",
      " 18%|█████████████▏                                                            | 178/1000 [2:51:53<12:31:17, 54.84s/it]"
     ]
    },
    {
     "name": "stdout",
     "output_type": "stream",
     "text": [
      "[INFO] [2021-11-17 00:57:54,997] [OpenBox-Shadan] Iteration 179, objective value: [21.8931406625628].\n"
     ]
    },
    {
     "name": "stderr",
     "output_type": "stream",
     "text": [
      "\r",
      " 18%|█████████████▏                                                            | 179/1000 [2:52:53<12:52:11, 56.43s/it]"
     ]
    },
    {
     "name": "stdout",
     "output_type": "stream",
     "text": [
      "[INFO] [2021-11-17 00:58:51,412] [OpenBox-Shadan] Iteration 180, objective value: [20.072063340015518].\n"
     ]
    },
    {
     "name": "stderr",
     "output_type": "stream",
     "text": [
      "\r",
      " 18%|█████████████▎                                                            | 180/1000 [2:53:50<12:51:10, 56.43s/it]"
     ]
    },
    {
     "name": "stdout",
     "output_type": "stream",
     "text": [
      "[INFO] [2021-11-17 00:59:42,036] [OpenBox-Shadan] Iteration 181, objective value: [25.96433317221873].\n"
     ]
    },
    {
     "name": "stderr",
     "output_type": "stream",
     "text": [
      "\r",
      " 18%|█████████████▍                                                            | 181/1000 [2:54:40<12:26:28, 54.69s/it]"
     ]
    },
    {
     "name": "stdout",
     "output_type": "stream",
     "text": [
      "[INFO] [2021-11-17 01:00:41,959] [OpenBox-Shadan] Iteration 182, objective value: [36.27199456264154].\n"
     ]
    },
    {
     "name": "stderr",
     "output_type": "stream",
     "text": [
      "\r",
      " 18%|█████████████▍                                                            | 182/1000 [2:55:40<12:46:58, 56.26s/it]"
     ]
    },
    {
     "name": "stdout",
     "output_type": "stream",
     "text": [
      "[INFO] [2021-11-17 01:01:46,731] [OpenBox-Shadan] Iteration 183, objective value: [23.585731779168455].\n"
     ]
    },
    {
     "name": "stderr",
     "output_type": "stream",
     "text": [
      "\r",
      " 18%|█████████████▌                                                            | 183/1000 [2:56:45<13:20:49, 58.81s/it]"
     ]
    },
    {
     "name": "stdout",
     "output_type": "stream",
     "text": [
      "[INFO] [2021-11-17 01:02:45,882] [OpenBox-Shadan] Iteration 184, objective value: [6.67903872561763].\n"
     ]
    },
    {
     "name": "stderr",
     "output_type": "stream",
     "text": [
      "\r",
      " 18%|█████████████▌                                                            | 184/1000 [2:57:44<13:21:13, 58.91s/it]"
     ]
    },
    {
     "name": "stdout",
     "output_type": "stream",
     "text": [
      "[INFO] [2021-11-17 01:03:40,676] [OpenBox-Shadan] Iteration 185, objective value: [17.123912333175312].\n"
     ]
    },
    {
     "name": "stderr",
     "output_type": "stream",
     "text": [
      "\r",
      " 18%|█████████████▋                                                            | 185/1000 [2:58:39<13:03:27, 57.68s/it]"
     ]
    },
    {
     "name": "stdout",
     "output_type": "stream",
     "text": [
      "[INFO] [2021-11-17 01:04:37,603] [OpenBox-Shadan] Iteration 186, objective value: [5.389672775776546].\n"
     ]
    },
    {
     "name": "stderr",
     "output_type": "stream",
     "text": [
      "\r",
      " 19%|█████████████▊                                                            | 186/1000 [2:59:36<12:59:26, 57.45s/it]"
     ]
    },
    {
     "name": "stdout",
     "output_type": "stream",
     "text": [
      "[INFO] [2021-11-17 01:05:28,780] [OpenBox-Shadan] Iteration 187, objective value: [25.594778963608448].\n"
     ]
    },
    {
     "name": "stderr",
     "output_type": "stream",
     "text": [
      "\r",
      " 19%|█████████████▊                                                            | 187/1000 [3:00:27<12:32:57, 55.57s/it]"
     ]
    },
    {
     "name": "stdout",
     "output_type": "stream",
     "text": [
      "[INFO] [2021-11-17 01:06:26,981] [OpenBox-Shadan] Iteration 188, objective value: [9.403407528813815].\n"
     ]
    },
    {
     "name": "stderr",
     "output_type": "stream",
     "text": [
      "\r",
      " 19%|█████████████▉                                                            | 188/1000 [3:01:25<12:42:43, 56.36s/it]"
     ]
    },
    {
     "name": "stdout",
     "output_type": "stream",
     "text": [
      "[INFO] [2021-11-17 01:07:22,022] [OpenBox-Shadan] Iteration 189, objective value: [7.0491286218513665].\n"
     ]
    },
    {
     "name": "stderr",
     "output_type": "stream",
     "text": [
      "\r",
      " 19%|█████████████▉                                                            | 189/1000 [3:02:20<12:36:26, 55.96s/it]"
     ]
    },
    {
     "name": "stdout",
     "output_type": "stream",
     "text": [
      "[INFO] [2021-11-17 01:08:15,705] [OpenBox-Shadan] Iteration 190, objective value: [8.079034094536468].\n"
     ]
    },
    {
     "name": "stderr",
     "output_type": "stream",
     "text": [
      "\r",
      " 19%|██████████████                                                            | 190/1000 [3:03:14<12:26:16, 55.28s/it]"
     ]
    },
    {
     "name": "stdout",
     "output_type": "stream",
     "text": [
      "[INFO] [2021-11-17 01:09:14,551] [OpenBox-Shadan] Iteration 191, objective value: [5.742700062872245].\n"
     ]
    },
    {
     "name": "stderr",
     "output_type": "stream",
     "text": [
      "\r",
      " 19%|██████████████▏                                                           | 191/1000 [3:04:13<12:39:46, 56.35s/it]"
     ]
    },
    {
     "name": "stdout",
     "output_type": "stream",
     "text": [
      "[INFO] [2021-11-17 01:10:10,317] [OpenBox-Shadan] Iteration 192, objective value: [12.704955836294062].\n"
     ]
    },
    {
     "name": "stderr",
     "output_type": "stream",
     "text": [
      "\r",
      " 19%|██████████████▏                                                           | 192/1000 [3:05:08<12:36:29, 56.17s/it]"
     ]
    },
    {
     "name": "stdout",
     "output_type": "stream",
     "text": [
      "[INFO] [2021-11-17 01:11:04,920] [OpenBox-Shadan] Iteration 193, objective value: [4.6261739496809895].\n"
     ]
    },
    {
     "name": "stderr",
     "output_type": "stream",
     "text": [
      "\r",
      " 19%|██████████████▎                                                           | 193/1000 [3:06:03<12:29:12, 55.70s/it]"
     ]
    },
    {
     "name": "stdout",
     "output_type": "stream",
     "text": [
      "[INFO] [2021-11-17 01:12:06,040] [OpenBox-Shadan] Iteration 194, objective value: [39.838277929220624].\n"
     ]
    },
    {
     "name": "stderr",
     "output_type": "stream",
     "text": [
      "\r",
      " 19%|██████████████▎                                                           | 194/1000 [3:07:04<12:50:06, 57.33s/it]"
     ]
    },
    {
     "name": "stdout",
     "output_type": "stream",
     "text": [
      "[INFO] [2021-11-17 01:13:05,289] [OpenBox-Shadan] Iteration 195, objective value: [4.513190056259347].\n"
     ]
    },
    {
     "name": "stderr",
     "output_type": "stream",
     "text": [
      "\r",
      " 20%|██████████████▍                                                           | 195/1000 [3:08:03<12:56:53, 57.90s/it]"
     ]
    },
    {
     "name": "stdout",
     "output_type": "stream",
     "text": [
      "[INFO] [2021-11-17 01:14:01,934] [OpenBox-Shadan] Iteration 196, objective value: [5.635749680949971].\n"
     ]
    },
    {
     "name": "stderr",
     "output_type": "stream",
     "text": [
      "\r",
      " 20%|██████████████▌                                                           | 196/1000 [3:09:00<12:50:51, 57.53s/it]"
     ]
    },
    {
     "name": "stdout",
     "output_type": "stream",
     "text": [
      "[INFO] [2021-11-17 01:14:56,011] [OpenBox-Shadan] Iteration 197, objective value: [12.917317921852302].\n"
     ]
    },
    {
     "name": "stderr",
     "output_type": "stream",
     "text": [
      "\r",
      " 20%|██████████████▌                                                           | 197/1000 [3:09:54<12:36:02, 56.49s/it]"
     ]
    },
    {
     "name": "stdout",
     "output_type": "stream",
     "text": [
      "[INFO] [2021-11-17 01:15:55,395] [OpenBox-Shadan] Iteration 198, objective value: [7.498754888080029].\n"
     ]
    },
    {
     "name": "stderr",
     "output_type": "stream",
     "text": [
      "\r",
      " 20%|██████████████▋                                                           | 198/1000 [3:10:54<12:46:42, 57.36s/it]"
     ]
    },
    {
     "name": "stdout",
     "output_type": "stream",
     "text": [
      "[INFO] [2021-11-17 01:16:51,768] [OpenBox-Shadan] Iteration 199, objective value: [4.86041272043542].\n"
     ]
    },
    {
     "name": "stderr",
     "output_type": "stream",
     "text": [
      "\r",
      " 20%|██████████████▋                                                           | 199/1000 [3:11:50<12:41:47, 57.06s/it]"
     ]
    },
    {
     "name": "stdout",
     "output_type": "stream",
     "text": [
      "[INFO] [2021-11-17 01:17:51,513] [OpenBox-Shadan] Iteration 200, objective value: [5.577215251345891].\n"
     ]
    },
    {
     "name": "stderr",
     "output_type": "stream",
     "text": [
      "\r",
      " 20%|██████████████▊                                                           | 200/1000 [3:12:50<12:51:34, 57.87s/it]"
     ]
    },
    {
     "name": "stdout",
     "output_type": "stream",
     "text": [
      "[INFO] [2021-11-17 01:18:48,011] [OpenBox-Shadan] Iteration 201, objective value: [24.99229500161448].\n"
     ]
    },
    {
     "name": "stderr",
     "output_type": "stream",
     "text": [
      "\r",
      " 20%|██████████████▊                                                           | 201/1000 [3:13:46<12:45:08, 57.46s/it]"
     ]
    },
    {
     "name": "stdout",
     "output_type": "stream",
     "text": [
      "[INFO] [2021-11-17 01:19:45,425] [OpenBox-Shadan] Iteration 202, objective value: [11.201861131516878].\n"
     ]
    },
    {
     "name": "stderr",
     "output_type": "stream",
     "text": [
      "\r",
      " 20%|██████████████▉                                                           | 202/1000 [3:14:44<12:44:00, 57.44s/it]"
     ]
    },
    {
     "name": "stdout",
     "output_type": "stream",
     "text": [
      "[INFO] [2021-11-17 01:20:47,280] [OpenBox-Shadan] Iteration 203, objective value: [7.881033627919436].\n"
     ]
    },
    {
     "name": "stderr",
     "output_type": "stream",
     "text": [
      "\r",
      " 20%|███████████████                                                           | 203/1000 [3:15:45<13:00:37, 58.77s/it]"
     ]
    },
    {
     "name": "stdout",
     "output_type": "stream",
     "text": [
      "[INFO] [2021-11-17 01:21:47,010] [OpenBox-Shadan] Iteration 204, objective value: [10.511966525576142].\n"
     ]
    },
    {
     "name": "stderr",
     "output_type": "stream",
     "text": [
      "\r",
      " 20%|███████████████                                                           | 204/1000 [3:16:45<13:03:28, 59.06s/it]"
     ]
    },
    {
     "name": "stdout",
     "output_type": "stream",
     "text": [
      "[INFO] [2021-11-17 01:22:43,024] [OpenBox-Shadan] Iteration 205, objective value: [28.30436251342421].\n"
     ]
    },
    {
     "name": "stderr",
     "output_type": "stream",
     "text": [
      "\r",
      " 20%|███████████████▏                                                          | 205/1000 [3:17:41<12:50:23, 58.14s/it]"
     ]
    },
    {
     "name": "stdout",
     "output_type": "stream",
     "text": [
      "[INFO] [2021-11-17 01:23:42,143] [OpenBox-Shadan] Iteration 206, objective value: [6.205015654506369].\n"
     ]
    },
    {
     "name": "stderr",
     "output_type": "stream",
     "text": [
      "\r",
      " 21%|███████████████▏                                                          | 206/1000 [3:18:40<12:53:18, 58.44s/it]"
     ]
    },
    {
     "name": "stdout",
     "output_type": "stream",
     "text": [
      "[INFO] [2021-11-17 01:24:35,497] [OpenBox-Shadan] Iteration 207, objective value: [9.271710361490847].\n"
     ]
    },
    {
     "name": "stderr",
     "output_type": "stream",
     "text": [
      "\r",
      " 21%|███████████████▎                                                          | 207/1000 [3:19:34<12:32:10, 56.91s/it]"
     ]
    },
    {
     "name": "stdout",
     "output_type": "stream",
     "text": [
      "[INFO] [2021-11-17 01:25:35,808] [OpenBox-Shadan] Iteration 208, objective value: [22.473921866446332].\n"
     ]
    },
    {
     "name": "stderr",
     "output_type": "stream",
     "text": [
      "\r",
      " 21%|███████████████▍                                                          | 208/1000 [3:20:34<12:44:41, 57.93s/it]"
     ]
    },
    {
     "name": "stdout",
     "output_type": "stream",
     "text": [
      "[INFO] [2021-11-17 01:26:36,436] [OpenBox-Shadan] Iteration 209, objective value: [16.074394164806733].\n"
     ]
    },
    {
     "name": "stderr",
     "output_type": "stream",
     "text": [
      "\r",
      " 21%|███████████████▍                                                          | 209/1000 [3:21:35<12:54:23, 58.74s/it]"
     ]
    },
    {
     "name": "stdout",
     "output_type": "stream",
     "text": [
      "[INFO] [2021-11-17 01:27:35,105] [OpenBox-Shadan] Iteration 210, objective value: [6.661207328361371].\n"
     ]
    },
    {
     "name": "stderr",
     "output_type": "stream",
     "text": [
      "\r",
      " 21%|███████████████▌                                                          | 210/1000 [3:22:33<12:53:07, 58.72s/it]"
     ]
    },
    {
     "name": "stdout",
     "output_type": "stream",
     "text": [
      "[INFO] [2021-11-17 01:28:28,746] [OpenBox-Shadan] Iteration 211, objective value: [4.238647120682728].\n"
     ]
    },
    {
     "name": "stderr",
     "output_type": "stream",
     "text": [
      "\r",
      " 21%|███████████████▌                                                          | 211/1000 [3:23:27<12:32:06, 57.20s/it]"
     ]
    },
    {
     "name": "stdout",
     "output_type": "stream",
     "text": [
      "[INFO] [2021-11-17 01:29:27,624] [OpenBox-Shadan] Iteration 212, objective value: [8.487659088235404].\n"
     ]
    },
    {
     "name": "stderr",
     "output_type": "stream",
     "text": [
      "\r",
      " 21%|███████████████▋                                                          | 212/1000 [3:24:26<12:37:47, 57.70s/it]"
     ]
    },
    {
     "name": "stdout",
     "output_type": "stream",
     "text": [
      "[INFO] [2021-11-17 01:30:17,830] [OpenBox-Shadan] Iteration 213, objective value: [23.785887820211357].\n"
     ]
    },
    {
     "name": "stderr",
     "output_type": "stream",
     "text": [
      "\r",
      " 21%|███████████████▊                                                          | 213/1000 [3:25:16<12:07:20, 55.45s/it]"
     ]
    },
    {
     "name": "stdout",
     "output_type": "stream",
     "text": [
      "[INFO] [2021-11-17 01:31:14,539] [OpenBox-Shadan] Iteration 214, objective value: [16.595871938055822].\n"
     ]
    },
    {
     "name": "stderr",
     "output_type": "stream",
     "text": [
      "\r",
      " 21%|███████████████▊                                                          | 214/1000 [3:26:13<12:11:21, 55.83s/it]"
     ]
    },
    {
     "name": "stdout",
     "output_type": "stream",
     "text": [
      "[INFO] [2021-11-17 01:32:10,271] [OpenBox-Shadan] Iteration 215, objective value: [23.254225985020526].\n"
     ]
    },
    {
     "name": "stderr",
     "output_type": "stream",
     "text": [
      "\r",
      " 22%|███████████████▉                                                          | 215/1000 [3:27:08<12:10:03, 55.80s/it]"
     ]
    },
    {
     "name": "stdout",
     "output_type": "stream",
     "text": [
      "[INFO] [2021-11-17 01:33:12,966] [OpenBox-Shadan] Iteration 216, objective value: [18.023580451194533].\n"
     ]
    },
    {
     "name": "stderr",
     "output_type": "stream",
     "text": [
      "\r",
      " 22%|███████████████▉                                                          | 216/1000 [3:28:11<12:36:08, 57.87s/it]"
     ]
    },
    {
     "name": "stdout",
     "output_type": "stream",
     "text": [
      "[INFO] [2021-11-17 01:34:08,422] [OpenBox-Shadan] Iteration 217, objective value: [9.978371417614625].\n"
     ]
    },
    {
     "name": "stderr",
     "output_type": "stream",
     "text": [
      "\r",
      " 22%|████████████████                                                          | 217/1000 [3:29:07<12:25:44, 57.14s/it]"
     ]
    },
    {
     "name": "stdout",
     "output_type": "stream",
     "text": [
      "[INFO] [2021-11-17 01:35:02,098] [OpenBox-Shadan] Iteration 218, objective value: [5.548080770218462].\n"
     ]
    },
    {
     "name": "stderr",
     "output_type": "stream",
     "text": [
      "\r",
      " 22%|████████████████▏                                                         | 218/1000 [3:30:00<12:11:13, 56.10s/it]"
     ]
    },
    {
     "name": "stdout",
     "output_type": "stream",
     "text": [
      "[INFO] [2021-11-17 01:36:04,935] [OpenBox-Shadan] Iteration 219, objective value: [7.227318018052003].\n"
     ]
    },
    {
     "name": "stderr",
     "output_type": "stream",
     "text": [
      "\r",
      " 22%|████████████████▏                                                         | 219/1000 [3:31:03<12:36:34, 58.12s/it]"
     ]
    },
    {
     "name": "stdout",
     "output_type": "stream",
     "text": [
      "[INFO] [2021-11-17 01:37:00,404] [OpenBox-Shadan] Iteration 220, objective value: [7.135054815839084].\n"
     ]
    },
    {
     "name": "stderr",
     "output_type": "stream",
     "text": [
      "\r",
      " 22%|████████████████▎                                                         | 220/1000 [3:31:59<12:25:15, 57.33s/it]"
     ]
    },
    {
     "name": "stdout",
     "output_type": "stream",
     "text": [
      "[INFO] [2021-11-17 01:37:55,049] [OpenBox-Shadan] Iteration 221, objective value: [11.433075919729916].\n"
     ]
    },
    {
     "name": "stderr",
     "output_type": "stream",
     "text": [
      "\r",
      " 22%|████████████████▎                                                         | 221/1000 [3:32:53<12:13:51, 56.52s/it]"
     ]
    },
    {
     "name": "stdout",
     "output_type": "stream",
     "text": [
      "[INFO] [2021-11-17 01:38:54,687] [OpenBox-Shadan] Iteration 222, objective value: [15.27645041262467].\n"
     ]
    },
    {
     "name": "stderr",
     "output_type": "stream",
     "text": [
      "\r",
      " 22%|████████████████▍                                                         | 222/1000 [3:33:53<12:25:01, 57.46s/it]"
     ]
    },
    {
     "name": "stdout",
     "output_type": "stream",
     "text": [
      "[INFO] [2021-11-17 01:39:49,103] [OpenBox-Shadan] Iteration 223, objective value: [10.916045480578376].\n"
     ]
    },
    {
     "name": "stderr",
     "output_type": "stream",
     "text": [
      "\r",
      " 22%|████████████████▌                                                         | 223/1000 [3:34:47<12:12:15, 56.54s/it]"
     ]
    },
    {
     "name": "stdout",
     "output_type": "stream",
     "text": [
      "[INFO] [2021-11-17 01:40:42,517] [OpenBox-Shadan] Iteration 224, objective value: [6.941525513716499].\n"
     ]
    },
    {
     "name": "stderr",
     "output_type": "stream",
     "text": [
      "\r",
      " 22%|████████████████▌                                                         | 224/1000 [3:35:41<11:59:10, 55.61s/it]"
     ]
    },
    {
     "name": "stdout",
     "output_type": "stream",
     "text": [
      "[INFO] [2021-11-17 01:41:37,500] [OpenBox-Shadan] Iteration 225, objective value: [14.029961713123683].\n"
     ]
    },
    {
     "name": "stderr",
     "output_type": "stream",
     "text": [
      "\r",
      " 22%|████████████████▋                                                         | 225/1000 [3:36:36<11:55:49, 55.42s/it]"
     ]
    },
    {
     "name": "stdout",
     "output_type": "stream",
     "text": [
      "[INFO] [2021-11-17 01:42:29,855] [OpenBox-Shadan] Iteration 226, objective value: [18.208486389379587].\n"
     ]
    },
    {
     "name": "stderr",
     "output_type": "stream",
     "text": [
      "\r",
      " 23%|████████████████▋                                                         | 226/1000 [3:37:28<11:43:02, 54.50s/it]"
     ]
    },
    {
     "name": "stdout",
     "output_type": "stream",
     "text": [
      "[INFO] [2021-11-17 01:43:32,487] [OpenBox-Shadan] Iteration 227, objective value: [13.640089732921496].\n"
     ]
    },
    {
     "name": "stderr",
     "output_type": "stream",
     "text": [
      "\r",
      " 23%|████████████████▊                                                         | 227/1000 [3:38:31<12:13:34, 56.94s/it]"
     ]
    },
    {
     "name": "stdout",
     "output_type": "stream",
     "text": [
      "[INFO] [2021-11-17 01:44:33,230] [OpenBox-Shadan] Iteration 228, objective value: [10.271337990043605].\n"
     ]
    },
    {
     "name": "stderr",
     "output_type": "stream",
     "text": [
      "\r",
      " 23%|████████████████▊                                                         | 228/1000 [3:39:31<12:27:18, 58.08s/it]"
     ]
    },
    {
     "name": "stdout",
     "output_type": "stream",
     "text": [
      "[INFO] [2021-11-17 01:45:33,853] [OpenBox-Shadan] Iteration 229, objective value: [5.387311839046603].\n"
     ]
    },
    {
     "name": "stderr",
     "output_type": "stream",
     "text": [
      "\r",
      " 23%|████████████████▉                                                         | 229/1000 [3:40:32<12:36:08, 58.84s/it]"
     ]
    },
    {
     "name": "stdout",
     "output_type": "stream",
     "text": [
      "[INFO] [2021-11-17 01:46:25,375] [OpenBox-Shadan] Iteration 230, objective value: [10.029966575406974].\n"
     ]
    },
    {
     "name": "stderr",
     "output_type": "stream",
     "text": [
      "\r",
      " 23%|█████████████████                                                         | 230/1000 [3:41:24<12:06:57, 56.65s/it]"
     ]
    },
    {
     "name": "stdout",
     "output_type": "stream",
     "text": [
      "[INFO] [2021-11-17 01:47:20,358] [OpenBox-Shadan] Iteration 231, objective value: [8.544789571638077].\n"
     ]
    },
    {
     "name": "stderr",
     "output_type": "stream",
     "text": [
      "\r",
      " 23%|█████████████████                                                         | 231/1000 [3:42:19<11:59:37, 56.15s/it]"
     ]
    },
    {
     "name": "stdout",
     "output_type": "stream",
     "text": [
      "[INFO] [2021-11-17 01:48:16,712] [OpenBox-Shadan] Iteration 232, objective value: [7.059770011366595].\n"
     ]
    },
    {
     "name": "stderr",
     "output_type": "stream",
     "text": [
      "\r",
      " 23%|█████████████████▏                                                        | 232/1000 [3:43:15<11:59:29, 56.21s/it]"
     ]
    },
    {
     "name": "stdout",
     "output_type": "stream",
     "text": [
      "[INFO] [2021-11-17 01:49:08,978] [OpenBox-Shadan] Iteration 233, objective value: [23.392539000001094].\n"
     ]
    },
    {
     "name": "stderr",
     "output_type": "stream",
     "text": [
      "\r",
      " 23%|█████████████████▏                                                        | 233/1000 [3:44:07<11:43:25, 55.03s/it]"
     ]
    },
    {
     "name": "stdout",
     "output_type": "stream",
     "text": [
      "[INFO] [2021-11-17 01:49:59,730] [OpenBox-Shadan] Iteration 234, objective value: [19.258370315603784].\n"
     ]
    },
    {
     "name": "stderr",
     "output_type": "stream",
     "text": [
      "\r",
      " 23%|█████████████████▎                                                        | 234/1000 [3:44:58<11:26:07, 53.74s/it]"
     ]
    },
    {
     "name": "stdout",
     "output_type": "stream",
     "text": [
      "[INFO] [2021-11-17 01:50:56,277] [OpenBox-Shadan] Iteration 235, objective value: [14.415389503720093].\n"
     ]
    },
    {
     "name": "stderr",
     "output_type": "stream",
     "text": [
      "\r",
      " 24%|█████████████████▍                                                        | 235/1000 [3:45:54<11:35:57, 54.59s/it]"
     ]
    },
    {
     "name": "stdout",
     "output_type": "stream",
     "text": [
      "[INFO] [2021-11-17 01:51:52,573] [OpenBox-Shadan] Iteration 236, objective value: [17.161860056153188].\n"
     ]
    },
    {
     "name": "stderr",
     "output_type": "stream",
     "text": [
      "\r",
      " 24%|█████████████████▍                                                        | 236/1000 [3:46:51<11:41:35, 55.10s/it]"
     ]
    },
    {
     "name": "stdout",
     "output_type": "stream",
     "text": [
      "[INFO] [2021-11-17 01:52:48,567] [OpenBox-Shadan] Iteration 237, objective value: [13.48620411561707].\n"
     ]
    },
    {
     "name": "stderr",
     "output_type": "stream",
     "text": [
      "\r",
      " 24%|█████████████████▌                                                        | 237/1000 [3:47:47<11:44:05, 55.37s/it]"
     ]
    },
    {
     "name": "stdout",
     "output_type": "stream",
     "text": [
      "[INFO] [2021-11-17 01:53:45,292] [OpenBox-Shadan] Iteration 238, objective value: [17.86962031282296].\n"
     ]
    },
    {
     "name": "stderr",
     "output_type": "stream",
     "text": [
      "\r",
      " 24%|█████████████████▌                                                        | 238/1000 [3:48:43<11:48:20, 55.77s/it]"
     ]
    },
    {
     "name": "stdout",
     "output_type": "stream",
     "text": [
      "[INFO] [2021-11-17 01:54:41,868] [OpenBox-Shadan] Iteration 239, objective value: [4.882248453210963].\n"
     ]
    },
    {
     "name": "stderr",
     "output_type": "stream",
     "text": [
      "\r",
      " 24%|█████████████████▋                                                        | 239/1000 [3:49:40<11:50:27, 56.01s/it]"
     ]
    },
    {
     "name": "stdout",
     "output_type": "stream",
     "text": [
      "[INFO] [2021-11-17 01:55:38,492] [OpenBox-Shadan] Iteration 240, objective value: [7.7419328587871235].\n"
     ]
    },
    {
     "name": "stderr",
     "output_type": "stream",
     "text": [
      "\r",
      " 24%|█████████████████▊                                                        | 240/1000 [3:50:37<11:51:50, 56.20s/it]"
     ]
    },
    {
     "name": "stdout",
     "output_type": "stream",
     "text": [
      "[INFO] [2021-11-17 01:56:26,683] [OpenBox-Shadan] Iteration 241, objective value: [23.605151235783282].\n"
     ]
    },
    {
     "name": "stderr",
     "output_type": "stream",
     "text": [
      "\r",
      " 24%|█████████████████▊                                                        | 241/1000 [3:51:25<11:20:30, 53.80s/it]"
     ]
    },
    {
     "name": "stdout",
     "output_type": "stream",
     "text": [
      "[INFO] [2021-11-17 01:57:21,367] [OpenBox-Shadan] Iteration 242, objective value: [14.161292662062792].\n"
     ]
    },
    {
     "name": "stderr",
     "output_type": "stream",
     "text": [
      "\r",
      " 24%|█████████████████▉                                                        | 242/1000 [3:52:20<11:22:59, 54.06s/it]"
     ]
    },
    {
     "name": "stdout",
     "output_type": "stream",
     "text": [
      "[INFO] [2021-11-17 01:58:16,378] [OpenBox-Shadan] Iteration 243, objective value: [11.801374563520497].\n"
     ]
    },
    {
     "name": "stderr",
     "output_type": "stream",
     "text": [
      "\r",
      " 24%|█████████████████▉                                                        | 243/1000 [3:53:15<11:25:40, 54.35s/it]"
     ]
    },
    {
     "name": "stdout",
     "output_type": "stream",
     "text": [
      "[INFO] [2021-11-17 01:59:09,489] [OpenBox-Shadan] Iteration 244, objective value: [11.744018678716884].\n"
     ]
    },
    {
     "name": "stderr",
     "output_type": "stream",
     "text": [
      "\r",
      " 24%|██████████████████                                                        | 244/1000 [3:54:08<11:20:05, 53.98s/it]"
     ]
    },
    {
     "name": "stdout",
     "output_type": "stream",
     "text": [
      "[INFO] [2021-11-17 02:00:04,621] [OpenBox-Shadan] Iteration 245, objective value: [11.30076196952379].\n"
     ]
    },
    {
     "name": "stderr",
     "output_type": "stream",
     "text": [
      "\r",
      " 24%|██████████████████▏                                                       | 245/1000 [3:55:03<11:23:33, 54.32s/it]"
     ]
    },
    {
     "name": "stdout",
     "output_type": "stream",
     "text": [
      "[INFO] [2021-11-17 02:00:55,808] [OpenBox-Shadan] Iteration 246, objective value: [25.73774330872196].\n"
     ]
    },
    {
     "name": "stderr",
     "output_type": "stream",
     "text": [
      "\r",
      " 25%|██████████████████▏                                                       | 246/1000 [3:55:54<11:10:50, 53.38s/it]"
     ]
    },
    {
     "name": "stdout",
     "output_type": "stream",
     "text": [
      "[INFO] [2021-11-17 02:01:52,806] [OpenBox-Shadan] Iteration 247, objective value: [16.387178033026444].\n"
     ]
    },
    {
     "name": "stderr",
     "output_type": "stream",
     "text": [
      "\r",
      " 25%|██████████████████▎                                                       | 247/1000 [3:56:51<11:23:33, 54.47s/it]"
     ]
    },
    {
     "name": "stdout",
     "output_type": "stream",
     "text": [
      "[INFO] [2021-11-17 02:02:53,174] [OpenBox-Shadan] Iteration 248, objective value: [25.848746231785853].\n"
     ]
    },
    {
     "name": "stderr",
     "output_type": "stream",
     "text": [
      "\r",
      " 25%|██████████████████▎                                                       | 248/1000 [3:57:51<11:44:50, 56.24s/it]"
     ]
    },
    {
     "name": "stdout",
     "output_type": "stream",
     "text": [
      "[INFO] [2021-11-17 02:03:45,159] [OpenBox-Shadan] Iteration 249, objective value: [8.220635300151002].\n"
     ]
    },
    {
     "name": "stderr",
     "output_type": "stream",
     "text": [
      "\r",
      " 25%|██████████████████▍                                                       | 249/1000 [3:58:43<11:27:55, 54.96s/it]"
     ]
    },
    {
     "name": "stdout",
     "output_type": "stream",
     "text": [
      "[INFO] [2021-11-17 02:04:43,383] [OpenBox-Shadan] Iteration 250, objective value: [19.143727439997065].\n"
     ]
    },
    {
     "name": "stderr",
     "output_type": "stream",
     "text": [
      "\r",
      " 25%|██████████████████▌                                                       | 250/1000 [3:59:42<11:39:15, 55.94s/it]"
     ]
    },
    {
     "name": "stdout",
     "output_type": "stream",
     "text": [
      "[INFO] [2021-11-17 02:05:40,180] [OpenBox-Shadan] Iteration 251, objective value: [4.551672407182338].\n"
     ]
    },
    {
     "name": "stderr",
     "output_type": "stream",
     "text": [
      "\r",
      " 25%|██████████████████▌                                                       | 251/1000 [4:00:38<11:41:31, 56.20s/it]"
     ]
    },
    {
     "name": "stdout",
     "output_type": "stream",
     "text": [
      "[INFO] [2021-11-17 02:06:35,067] [OpenBox-Shadan] Iteration 252, objective value: [16.201661889886935].\n"
     ]
    },
    {
     "name": "stderr",
     "output_type": "stream",
     "text": [
      "\r",
      " 25%|██████████████████▋                                                       | 252/1000 [4:01:33<11:35:41, 55.80s/it]"
     ]
    },
    {
     "name": "stdout",
     "output_type": "stream",
     "text": [
      "[INFO] [2021-11-17 02:07:30,771] [OpenBox-Shadan] Iteration 253, objective value: [13.725281687951679].\n"
     ]
    },
    {
     "name": "stderr",
     "output_type": "stream",
     "text": [
      "\r",
      " 25%|██████████████████▋                                                       | 253/1000 [4:02:29<11:34:23, 55.77s/it]"
     ]
    },
    {
     "name": "stdout",
     "output_type": "stream",
     "text": [
      "[INFO] [2021-11-17 02:08:32,462] [OpenBox-Shadan] Iteration 254, objective value: [24.462641986091583].\n"
     ]
    },
    {
     "name": "stderr",
     "output_type": "stream",
     "text": [
      "\r",
      " 25%|██████████████████▊                                                       | 254/1000 [4:03:31<11:55:31, 57.55s/it]"
     ]
    },
    {
     "name": "stdout",
     "output_type": "stream",
     "text": [
      "[INFO] [2021-11-17 02:09:27,961] [OpenBox-Shadan] Iteration 255, objective value: [42.44307148167087].\n"
     ]
    },
    {
     "name": "stderr",
     "output_type": "stream",
     "text": [
      "\r",
      " 26%|██████████████████▊                                                       | 255/1000 [4:04:26<11:46:56, 56.93s/it]"
     ]
    },
    {
     "name": "stdout",
     "output_type": "stream",
     "text": [
      "[INFO] [2021-11-17 02:10:23,394] [OpenBox-Shadan] Iteration 256, objective value: [31.92422819739376].\n"
     ]
    },
    {
     "name": "stderr",
     "output_type": "stream",
     "text": [
      "\r",
      " 26%|██████████████████▉                                                       | 256/1000 [4:05:22<11:40:23, 56.48s/it]"
     ]
    },
    {
     "name": "stdout",
     "output_type": "stream",
     "text": [
      "[INFO] [2021-11-17 02:11:20,232] [OpenBox-Shadan] Iteration 257, objective value: [8.59865204115529].\n"
     ]
    },
    {
     "name": "stderr",
     "output_type": "stream",
     "text": [
      "\r",
      " 26%|███████████████████                                                       | 257/1000 [4:06:18<11:40:46, 56.59s/it]"
     ]
    },
    {
     "name": "stdout",
     "output_type": "stream",
     "text": [
      "[INFO] [2021-11-17 02:12:18,084] [OpenBox-Shadan] Iteration 258, objective value: [14.253612564682456].\n"
     ]
    },
    {
     "name": "stderr",
     "output_type": "stream",
     "text": [
      "\r",
      " 26%|███████████████████                                                       | 258/1000 [4:07:16<11:44:30, 56.97s/it]"
     ]
    },
    {
     "name": "stdout",
     "output_type": "stream",
     "text": [
      "[INFO] [2021-11-17 02:13:10,102] [OpenBox-Shadan] Iteration 259, objective value: [24.546077645191133].\n"
     ]
    },
    {
     "name": "stderr",
     "output_type": "stream",
     "text": [
      "\r",
      " 26%|███████████████████▏                                                      | 259/1000 [4:08:08<11:25:13, 55.48s/it]"
     ]
    },
    {
     "name": "stdout",
     "output_type": "stream",
     "text": [
      "[INFO] [2021-11-17 02:14:04,694] [OpenBox-Shadan] Iteration 260, objective value: [9.228759529731008].\n"
     ]
    },
    {
     "name": "stderr",
     "output_type": "stream",
     "text": [
      "\r",
      " 26%|███████████████████▏                                                      | 260/1000 [4:09:03<11:20:59, 55.22s/it]"
     ]
    },
    {
     "name": "stdout",
     "output_type": "stream",
     "text": [
      "[INFO] [2021-11-17 02:15:02,312] [OpenBox-Shadan] Iteration 261, objective value: [17.319457651559418].\n"
     ]
    },
    {
     "name": "stderr",
     "output_type": "stream",
     "text": [
      "\r",
      " 26%|███████████████████▎                                                      | 261/1000 [4:10:00<11:28:57, 55.94s/it]"
     ]
    },
    {
     "name": "stdout",
     "output_type": "stream",
     "text": [
      "[INFO] [2021-11-17 02:16:00,459] [OpenBox-Shadan] Iteration 262, objective value: [13.012737258175605].\n"
     ]
    },
    {
     "name": "stderr",
     "output_type": "stream",
     "text": [
      "\r",
      " 26%|███████████████████▍                                                      | 262/1000 [4:10:59<11:36:10, 56.60s/it]"
     ]
    },
    {
     "name": "stdout",
     "output_type": "stream",
     "text": [
      "[INFO] [2021-11-17 02:16:51,351] [OpenBox-Shadan] Iteration 263, objective value: [17.122872645274498].\n"
     ]
    },
    {
     "name": "stderr",
     "output_type": "stream",
     "text": [
      "\r",
      " 26%|███████████████████▍                                                      | 263/1000 [4:11:50<11:14:12, 54.89s/it]"
     ]
    },
    {
     "name": "stdout",
     "output_type": "stream",
     "text": [
      "[INFO] [2021-11-17 02:17:47,874] [OpenBox-Shadan] Iteration 264, objective value: [3.6809177242671325].\n"
     ]
    },
    {
     "name": "stderr",
     "output_type": "stream",
     "text": [
      "\r",
      " 26%|███████████████████▌                                                      | 264/1000 [4:12:46<11:19:18, 55.38s/it]"
     ]
    },
    {
     "name": "stdout",
     "output_type": "stream",
     "text": [
      "[INFO] [2021-11-17 02:18:43,151] [OpenBox-Shadan] Iteration 265, objective value: [10.989377855234977].\n"
     ]
    },
    {
     "name": "stderr",
     "output_type": "stream",
     "text": [
      "\r",
      " 26%|███████████████████▌                                                      | 265/1000 [4:13:41<11:18:00, 55.35s/it]"
     ]
    },
    {
     "name": "stdout",
     "output_type": "stream",
     "text": [
      "[INFO] [2021-11-17 02:19:34,590] [OpenBox-Shadan] Iteration 266, objective value: [11.917705236876202].\n"
     ]
    },
    {
     "name": "stderr",
     "output_type": "stream",
     "text": [
      "\r",
      " 27%|███████████████████▋                                                      | 266/1000 [4:14:33<11:02:44, 54.17s/it]"
     ]
    },
    {
     "name": "stdout",
     "output_type": "stream",
     "text": [
      "[INFO] [2021-11-17 02:20:33,893] [OpenBox-Shadan] Iteration 267, objective value: [28.609945708766332].\n"
     ]
    },
    {
     "name": "stderr",
     "output_type": "stream",
     "text": [
      "\r",
      " 27%|███████████████████▊                                                      | 267/1000 [4:15:32<11:20:38, 55.71s/it]"
     ]
    },
    {
     "name": "stdout",
     "output_type": "stream",
     "text": [
      "[INFO] [2021-11-17 02:21:26,000] [OpenBox-Shadan] Iteration 268, objective value: [11.08980167767784].\n"
     ]
    },
    {
     "name": "stderr",
     "output_type": "stream",
     "text": [
      "\r",
      " 27%|███████████████████▊                                                      | 268/1000 [4:16:24<11:06:30, 54.63s/it]"
     ]
    },
    {
     "name": "stdout",
     "output_type": "stream",
     "text": [
      "[INFO] [2021-11-17 02:22:21,559] [OpenBox-Shadan] Iteration 269, objective value: [24.78095077880407].\n"
     ]
    },
    {
     "name": "stderr",
     "output_type": "stream",
     "text": [
      "\r",
      " 27%|███████████████████▉                                                      | 269/1000 [4:17:20<11:08:59, 54.91s/it]"
     ]
    },
    {
     "name": "stdout",
     "output_type": "stream",
     "text": [
      "[INFO] [2021-11-17 02:23:20,278] [OpenBox-Shadan] Iteration 270, objective value: [26.163380631694594].\n"
     ]
    },
    {
     "name": "stderr",
     "output_type": "stream",
     "text": [
      "\r",
      " 27%|███████████████████▉                                                      | 270/1000 [4:18:18<11:21:58, 56.05s/it]"
     ]
    },
    {
     "name": "stdout",
     "output_type": "stream",
     "text": [
      "[INFO] [2021-11-17 02:24:26,898] [OpenBox-Shadan] Iteration 271, objective value: [13.65993879971559].\n"
     ]
    },
    {
     "name": "stderr",
     "output_type": "stream",
     "text": [
      "\r",
      " 27%|████████████████████                                                      | 271/1000 [4:19:25<11:59:33, 59.22s/it]"
     ]
    },
    {
     "name": "stdout",
     "output_type": "stream",
     "text": [
      "[INFO] [2021-11-17 02:25:18,982] [OpenBox-Shadan] Iteration 272, objective value: [14.102737460959133].\n"
     ]
    },
    {
     "name": "stderr",
     "output_type": "stream",
     "text": [
      "\r",
      " 27%|████████████████████▏                                                     | 272/1000 [4:20:17<11:32:34, 57.08s/it]"
     ]
    },
    {
     "name": "stdout",
     "output_type": "stream",
     "text": [
      "[INFO] [2021-11-17 02:26:11,974] [OpenBox-Shadan] Iteration 273, objective value: [19.57143941877284].\n"
     ]
    },
    {
     "name": "stderr",
     "output_type": "stream",
     "text": [
      "\r",
      " 27%|████████████████████▏                                                     | 273/1000 [4:21:10<11:16:46, 55.85s/it]"
     ]
    },
    {
     "name": "stdout",
     "output_type": "stream",
     "text": [
      "[INFO] [2021-11-17 02:27:08,414] [OpenBox-Shadan] Iteration 274, objective value: [12.74960147096202].\n"
     ]
    },
    {
     "name": "stderr",
     "output_type": "stream",
     "text": [
      "\r",
      " 27%|████████████████████▎                                                     | 274/1000 [4:22:07<11:17:57, 56.03s/it]"
     ]
    },
    {
     "name": "stdout",
     "output_type": "stream",
     "text": [
      "[INFO] [2021-11-17 02:28:05,870] [OpenBox-Shadan] Iteration 275, objective value: [5.319879100507379].\n"
     ]
    },
    {
     "name": "stderr",
     "output_type": "stream",
     "text": [
      "\r",
      " 28%|████████████████████▎                                                     | 275/1000 [4:23:04<11:22:12, 56.46s/it]"
     ]
    },
    {
     "name": "stdout",
     "output_type": "stream",
     "text": [
      "[INFO] [2021-11-17 02:29:03,077] [OpenBox-Shadan] Iteration 276, objective value: [26.922652215698974].\n"
     ]
    },
    {
     "name": "stderr",
     "output_type": "stream",
     "text": [
      "\r",
      " 28%|████████████████████▍                                                     | 276/1000 [4:24:01<11:23:58, 56.68s/it]"
     ]
    },
    {
     "name": "stdout",
     "output_type": "stream",
     "text": [
      "[INFO] [2021-11-17 02:29:57,120] [OpenBox-Shadan] Iteration 277, objective value: [5.907807861201576].\n"
     ]
    },
    {
     "name": "stderr",
     "output_type": "stream",
     "text": [
      "\r",
      " 28%|████████████████████▍                                                     | 277/1000 [4:24:55<11:13:29, 55.89s/it]"
     ]
    },
    {
     "name": "stdout",
     "output_type": "stream",
     "text": [
      "[INFO] [2021-11-17 02:30:55,493] [OpenBox-Shadan] Iteration 278, objective value: [18.82897368769227].\n"
     ]
    },
    {
     "name": "stderr",
     "output_type": "stream",
     "text": [
      "\r",
      " 28%|████████████████████▌                                                     | 278/1000 [4:25:54<11:21:30, 56.64s/it]"
     ]
    },
    {
     "name": "stdout",
     "output_type": "stream",
     "text": [
      "[INFO] [2021-11-17 02:32:00,588] [OpenBox-Shadan] Iteration 279, objective value: [16.262166408790932].\n"
     ]
    },
    {
     "name": "stderr",
     "output_type": "stream",
     "text": [
      "\r",
      " 28%|████████████████████▋                                                     | 279/1000 [4:26:59<11:51:04, 59.17s/it]"
     ]
    },
    {
     "name": "stdout",
     "output_type": "stream",
     "text": [
      "[INFO] [2021-11-17 02:33:07,300] [OpenBox-Shadan] Iteration 280, objective value: [29.406736688168223].\n"
     ]
    },
    {
     "name": "stderr",
     "output_type": "stream",
     "text": [
      "\r",
      " 28%|████████████████████▋                                                     | 280/1000 [4:28:05<12:17:13, 61.43s/it]"
     ]
    },
    {
     "name": "stdout",
     "output_type": "stream",
     "text": [
      "[INFO] [2021-11-17 02:34:01,972] [OpenBox-Shadan] Iteration 281, objective value: [14.411343940047388].\n"
     ]
    },
    {
     "name": "stderr",
     "output_type": "stream",
     "text": [
      "\r",
      " 28%|████████████████████▊                                                     | 281/1000 [4:29:00<11:51:52, 59.41s/it]"
     ]
    },
    {
     "name": "stdout",
     "output_type": "stream",
     "text": [
      "[INFO] [2021-11-17 02:35:05,018] [OpenBox-Shadan] Iteration 282, objective value: [28.505372404805].\n"
     ]
    },
    {
     "name": "stderr",
     "output_type": "stream",
     "text": [
      "\r",
      " 28%|████████████████████▊                                                     | 282/1000 [4:30:03<12:03:57, 60.50s/it]"
     ]
    },
    {
     "name": "stdout",
     "output_type": "stream",
     "text": [
      "[INFO] [2021-11-17 02:35:56,563] [OpenBox-Shadan] Iteration 283, objective value: [8.090970261773037].\n"
     ]
    },
    {
     "name": "stderr",
     "output_type": "stream",
     "text": [
      "\r",
      " 28%|████████████████████▉                                                     | 283/1000 [4:30:55<11:30:51, 57.81s/it]"
     ]
    },
    {
     "name": "stdout",
     "output_type": "stream",
     "text": [
      "[INFO] [2021-11-17 02:36:49,070] [OpenBox-Shadan] Iteration 284, objective value: [7.9521392461169].\n"
     ]
    },
    {
     "name": "stderr",
     "output_type": "stream",
     "text": [
      "\r",
      " 28%|█████████████████████                                                     | 284/1000 [4:31:47<11:10:54, 56.22s/it]"
     ]
    },
    {
     "name": "stdout",
     "output_type": "stream",
     "text": [
      "[INFO] [2021-11-17 02:37:51,296] [OpenBox-Shadan] Iteration 285, objective value: [26.41558064014869].\n"
     ]
    },
    {
     "name": "stderr",
     "output_type": "stream",
     "text": [
      "\r",
      " 28%|█████████████████████                                                     | 285/1000 [4:32:49<11:31:25, 58.02s/it]"
     ]
    },
    {
     "name": "stdout",
     "output_type": "stream",
     "text": [
      "[INFO] [2021-11-17 02:38:44,851] [OpenBox-Shadan] Iteration 286, objective value: [11.69232247212102].\n"
     ]
    },
    {
     "name": "stderr",
     "output_type": "stream",
     "text": [
      "\r",
      " 29%|█████████████████████▏                                                    | 286/1000 [4:33:43<11:14:30, 56.68s/it]"
     ]
    },
    {
     "name": "stdout",
     "output_type": "stream",
     "text": [
      "[INFO] [2021-11-17 02:39:43,323] [OpenBox-Shadan] Iteration 287, objective value: [10.575845979881976].\n"
     ]
    },
    {
     "name": "stderr",
     "output_type": "stream",
     "text": [
      "\r",
      " 29%|█████████████████████▏                                                    | 287/1000 [4:34:41<11:19:57, 57.22s/it]"
     ]
    },
    {
     "name": "stdout",
     "output_type": "stream",
     "text": [
      "[INFO] [2021-11-17 02:40:37,904] [OpenBox-Shadan] Iteration 288, objective value: [10.287068518812461].\n"
     ]
    },
    {
     "name": "stderr",
     "output_type": "stream",
     "text": [
      "\r",
      " 29%|█████████████████████▎                                                    | 288/1000 [4:35:36<11:09:36, 56.43s/it]"
     ]
    },
    {
     "name": "stdout",
     "output_type": "stream",
     "text": [
      "[INFO] [2021-11-17 02:41:29,935] [OpenBox-Shadan] Iteration 289, objective value: [11.86925422658092].\n"
     ]
    },
    {
     "name": "stderr",
     "output_type": "stream",
     "text": [
      "\r",
      " 29%|█████████████████████▍                                                    | 289/1000 [4:36:28<10:53:02, 55.11s/it]"
     ]
    },
    {
     "name": "stdout",
     "output_type": "stream",
     "text": [
      "[INFO] [2021-11-17 02:42:27,401] [OpenBox-Shadan] Iteration 290, objective value: [12.913837441641576].\n"
     ]
    },
    {
     "name": "stderr",
     "output_type": "stream",
     "text": [
      "\r",
      " 29%|█████████████████████▍                                                    | 290/1000 [4:37:26<11:00:28, 55.82s/it]"
     ]
    },
    {
     "name": "stdout",
     "output_type": "stream",
     "text": [
      "[INFO] [2021-11-17 02:43:18,290] [OpenBox-Shadan] Iteration 291, objective value: [41.125562924828294].\n"
     ]
    },
    {
     "name": "stderr",
     "output_type": "stream",
     "text": [
      "\r",
      " 29%|█████████████████████▌                                                    | 291/1000 [4:38:16<10:42:05, 54.34s/it]"
     ]
    },
    {
     "name": "stdout",
     "output_type": "stream",
     "text": [
      "[INFO] [2021-11-17 02:44:13,142] [OpenBox-Shadan] Iteration 292, objective value: [28.923986045878067].\n"
     ]
    },
    {
     "name": "stderr",
     "output_type": "stream",
     "text": [
      "\r",
      " 29%|█████████████████████▌                                                    | 292/1000 [4:39:11<10:43:00, 54.49s/it]"
     ]
    },
    {
     "name": "stdout",
     "output_type": "stream",
     "text": [
      "[INFO] [2021-11-17 02:45:06,875] [OpenBox-Shadan] Iteration 293, objective value: [21.378279865581646].\n"
     ]
    },
    {
     "name": "stderr",
     "output_type": "stream",
     "text": [
      "\r",
      " 29%|█████████████████████▋                                                    | 293/1000 [4:40:05<10:39:24, 54.26s/it]"
     ]
    },
    {
     "name": "stdout",
     "output_type": "stream",
     "text": [
      "[INFO] [2021-11-17 02:45:57,902] [OpenBox-Shadan] Iteration 294, objective value: [7.997479658805986].\n"
     ]
    },
    {
     "name": "stderr",
     "output_type": "stream",
     "text": [
      "\r",
      " 29%|█████████████████████▊                                                    | 294/1000 [4:40:56<10:27:05, 53.29s/it]"
     ]
    },
    {
     "name": "stdout",
     "output_type": "stream",
     "text": [
      "[INFO] [2021-11-17 02:46:52,316] [OpenBox-Shadan] Iteration 295, objective value: [35.78221962609156].\n"
     ]
    },
    {
     "name": "stderr",
     "output_type": "stream",
     "text": [
      "\r",
      " 30%|█████████████████████▊                                                    | 295/1000 [4:41:50<10:30:08, 53.63s/it]"
     ]
    },
    {
     "name": "stdout",
     "output_type": "stream",
     "text": [
      "[INFO] [2021-11-17 02:47:46,525] [OpenBox-Shadan] Iteration 296, objective value: [13.825030522499631].\n"
     ]
    },
    {
     "name": "stderr",
     "output_type": "stream",
     "text": [
      "\r",
      " 30%|█████████████████████▉                                                    | 296/1000 [4:42:45<10:31:17, 53.80s/it]"
     ]
    },
    {
     "name": "stdout",
     "output_type": "stream",
     "text": [
      "[INFO] [2021-11-17 02:48:43,056] [OpenBox-Shadan] Iteration 297, objective value: [9.742660395951688].\n"
     ]
    },
    {
     "name": "stderr",
     "output_type": "stream",
     "text": [
      "\r",
      " 30%|█████████████████████▉                                                    | 297/1000 [4:43:41<10:39:59, 54.62s/it]"
     ]
    },
    {
     "name": "stdout",
     "output_type": "stream",
     "text": [
      "[INFO] [2021-11-17 02:49:43,756] [OpenBox-Shadan] Iteration 298, objective value: [33.651665515265734].\n"
     ]
    },
    {
     "name": "stderr",
     "output_type": "stream",
     "text": [
      "\r",
      " 30%|██████████████████████                                                    | 298/1000 [4:44:42<11:00:24, 56.44s/it]"
     ]
    },
    {
     "name": "stdout",
     "output_type": "stream",
     "text": [
      "[INFO] [2021-11-17 02:50:42,868] [OpenBox-Shadan] Iteration 299, objective value: [14.437022958641222].\n"
     ]
    },
    {
     "name": "stderr",
     "output_type": "stream",
     "text": [
      "\r",
      " 30%|██████████████████████▏                                                   | 299/1000 [4:45:41<11:08:48, 57.25s/it]"
     ]
    },
    {
     "name": "stdout",
     "output_type": "stream",
     "text": [
      "[INFO] [2021-11-17 02:51:41,228] [OpenBox-Shadan] Iteration 300, objective value: [6.8677153707727].\n"
     ]
    },
    {
     "name": "stderr",
     "output_type": "stream",
     "text": [
      "\r",
      " 30%|██████████████████████▏                                                   | 300/1000 [4:46:39<11:11:45, 57.58s/it]"
     ]
    },
    {
     "name": "stdout",
     "output_type": "stream",
     "text": [
      "[INFO] [2021-11-17 02:52:37,850] [OpenBox-Shadan] Iteration 301, objective value: [37.79607649201551].\n"
     ]
    },
    {
     "name": "stderr",
     "output_type": "stream",
     "text": [
      "\r",
      " 30%|██████████████████████▎                                                   | 301/1000 [4:47:36<11:07:27, 57.29s/it]"
     ]
    },
    {
     "name": "stdout",
     "output_type": "stream",
     "text": [
      "[INFO] [2021-11-17 02:53:35,085] [OpenBox-Shadan] Iteration 302, objective value: [10.893523084952577].\n"
     ]
    },
    {
     "name": "stderr",
     "output_type": "stream",
     "text": [
      "\r",
      " 30%|██████████████████████▎                                                   | 302/1000 [4:48:33<11:06:17, 57.27s/it]"
     ]
    },
    {
     "name": "stdout",
     "output_type": "stream",
     "text": [
      "[INFO] [2021-11-17 02:54:27,406] [OpenBox-Shadan] Iteration 303, objective value: [14.997831847141398].\n"
     ]
    },
    {
     "name": "stderr",
     "output_type": "stream",
     "text": [
      "\r",
      " 30%|██████████████████████▍                                                   | 303/1000 [4:49:26<10:48:04, 55.79s/it]"
     ]
    },
    {
     "name": "stdout",
     "output_type": "stream",
     "text": [
      "[INFO] [2021-11-17 02:55:27,692] [OpenBox-Shadan] Iteration 304, objective value: [17.99551288532409].\n"
     ]
    },
    {
     "name": "stderr",
     "output_type": "stream",
     "text": [
      "\r",
      " 30%|██████████████████████▍                                                   | 304/1000 [4:50:26<11:02:47, 57.14s/it]"
     ]
    },
    {
     "name": "stdout",
     "output_type": "stream",
     "text": [
      "[INFO] [2021-11-17 02:56:22,562] [OpenBox-Shadan] Iteration 305, objective value: [40.88986378729666].\n"
     ]
    },
    {
     "name": "stderr",
     "output_type": "stream",
     "text": [
      "\r",
      " 30%|██████████████████████▌                                                   | 305/1000 [4:51:21<10:53:57, 56.46s/it]"
     ]
    },
    {
     "name": "stdout",
     "output_type": "stream",
     "text": [
      "[INFO] [2021-11-17 02:57:16,292] [OpenBox-Shadan] Iteration 306, objective value: [13.72302484699199].\n"
     ]
    },
    {
     "name": "stderr",
     "output_type": "stream",
     "text": [
      "\r",
      " 31%|██████████████████████▋                                                   | 306/1000 [4:52:14<10:43:33, 55.64s/it]"
     ]
    },
    {
     "name": "stdout",
     "output_type": "stream",
     "text": [
      "[INFO] [2021-11-17 02:58:15,873] [OpenBox-Shadan] Iteration 307, objective value: [5.374990435381804].\n"
     ]
    },
    {
     "name": "stderr",
     "output_type": "stream",
     "text": [
      "\r",
      " 31%|██████████████████████▋                                                   | 307/1000 [4:53:14<10:56:17, 56.82s/it]"
     ]
    },
    {
     "name": "stdout",
     "output_type": "stream",
     "text": [
      "[INFO] [2021-11-17 02:59:12,469] [OpenBox-Shadan] Iteration 308, objective value: [3.6357568670936473].\n"
     ]
    },
    {
     "name": "stderr",
     "output_type": "stream",
     "text": [
      "\r",
      " 31%|██████████████████████▊                                                   | 308/1000 [4:54:11<10:54:33, 56.75s/it]"
     ]
    },
    {
     "name": "stdout",
     "output_type": "stream",
     "text": [
      "[INFO] [2021-11-17 03:00:05,182] [OpenBox-Shadan] Iteration 309, objective value: [10.043426830123067].\n"
     ]
    },
    {
     "name": "stderr",
     "output_type": "stream",
     "text": [
      "\r",
      " 31%|██████████████████████▊                                                   | 309/1000 [4:55:03<10:39:39, 55.54s/it]"
     ]
    },
    {
     "name": "stdout",
     "output_type": "stream",
     "text": [
      "[INFO] [2021-11-17 03:01:02,238] [OpenBox-Shadan] Iteration 310, objective value: [9.757584633151481].\n"
     ]
    },
    {
     "name": "stderr",
     "output_type": "stream",
     "text": [
      "\r",
      " 31%|██████████████████████▉                                                   | 310/1000 [4:56:00<10:43:57, 56.00s/it]"
     ]
    },
    {
     "name": "stdout",
     "output_type": "stream",
     "text": [
      "[INFO] [2021-11-17 03:02:01,589] [OpenBox-Shadan] Iteration 311, objective value: [15.090004613755895].\n"
     ]
    },
    {
     "name": "stderr",
     "output_type": "stream",
     "text": [
      "\r",
      " 31%|███████████████████████                                                   | 311/1000 [4:57:00<10:54:34, 57.00s/it]"
     ]
    },
    {
     "name": "stdout",
     "output_type": "stream",
     "text": [
      "[INFO] [2021-11-17 03:03:01,328] [OpenBox-Shadan] Iteration 312, objective value: [8.229802963751993].\n"
     ]
    },
    {
     "name": "stderr",
     "output_type": "stream",
     "text": [
      "\r",
      " 31%|███████████████████████                                                   | 312/1000 [4:57:59<11:03:02, 57.82s/it]"
     ]
    },
    {
     "name": "stdout",
     "output_type": "stream",
     "text": [
      "[INFO] [2021-11-17 03:04:00,305] [OpenBox-Shadan] Iteration 313, objective value: [28.86236970019212].\n"
     ]
    },
    {
     "name": "stderr",
     "output_type": "stream",
     "text": [
      "\r",
      " 31%|███████████████████████▏                                                  | 313/1000 [4:58:58<11:06:02, 58.17s/it]"
     ]
    },
    {
     "name": "stdout",
     "output_type": "stream",
     "text": [
      "[INFO] [2021-11-17 03:04:52,188] [OpenBox-Shadan] Iteration 314, objective value: [7.0898948628537255].\n"
     ]
    },
    {
     "name": "stderr",
     "output_type": "stream",
     "text": [
      "\r",
      " 31%|███████████████████████▏                                                  | 314/1000 [4:59:50<10:43:30, 56.28s/it]"
     ]
    },
    {
     "name": "stdout",
     "output_type": "stream",
     "text": [
      "[INFO] [2021-11-17 03:05:47,973] [OpenBox-Shadan] Iteration 315, objective value: [25.288429162076298].\n"
     ]
    },
    {
     "name": "stderr",
     "output_type": "stream",
     "text": [
      "\r",
      " 32%|███████████████████████▎                                                  | 315/1000 [5:00:46<10:40:51, 56.13s/it]"
     ]
    },
    {
     "name": "stdout",
     "output_type": "stream",
     "text": [
      "[INFO] [2021-11-17 03:06:44,827] [OpenBox-Shadan] Iteration 316, objective value: [11.68034528225894].\n"
     ]
    },
    {
     "name": "stderr",
     "output_type": "stream",
     "text": [
      "\r",
      " 32%|███████████████████████▍                                                  | 316/1000 [5:01:43<10:42:23, 56.35s/it]"
     ]
    },
    {
     "name": "stdout",
     "output_type": "stream",
     "text": [
      "[INFO] [2021-11-17 03:07:39,508] [OpenBox-Shadan] Iteration 317, objective value: [9.878063806709122].\n"
     ]
    },
    {
     "name": "stderr",
     "output_type": "stream",
     "text": [
      "\r",
      " 32%|███████████████████████▍                                                  | 317/1000 [5:02:38<10:35:45, 55.85s/it]"
     ]
    },
    {
     "name": "stdout",
     "output_type": "stream",
     "text": [
      "[INFO] [2021-11-17 03:08:37,287] [OpenBox-Shadan] Iteration 318, objective value: [10.688776121748518].\n"
     ]
    },
    {
     "name": "stderr",
     "output_type": "stream",
     "text": [
      "\r",
      " 32%|███████████████████████▌                                                  | 318/1000 [5:03:35<10:41:23, 56.43s/it]"
     ]
    },
    {
     "name": "stdout",
     "output_type": "stream",
     "text": [
      "[INFO] [2021-11-17 03:09:29,481] [OpenBox-Shadan] Iteration 319, objective value: [16.676006171389773].\n"
     ]
    },
    {
     "name": "stderr",
     "output_type": "stream",
     "text": [
      "\r",
      " 32%|███████████████████████▌                                                  | 319/1000 [5:04:28<10:26:02, 55.16s/it]"
     ]
    },
    {
     "name": "stdout",
     "output_type": "stream",
     "text": [
      "[INFO] [2021-11-17 03:10:27,359] [OpenBox-Shadan] Iteration 320, objective value: [14.43734017555181].\n"
     ]
    },
    {
     "name": "stderr",
     "output_type": "stream",
     "text": [
      "\r",
      " 32%|███████████████████████▋                                                  | 320/1000 [5:05:26<10:34:22, 55.97s/it]"
     ]
    },
    {
     "name": "stdout",
     "output_type": "stream",
     "text": [
      "[INFO] [2021-11-17 03:11:21,497] [OpenBox-Shadan] Iteration 321, objective value: [6.942912977999924].\n"
     ]
    },
    {
     "name": "stderr",
     "output_type": "stream",
     "text": [
      "\r",
      " 32%|███████████████████████▊                                                  | 321/1000 [5:06:20<10:27:12, 55.42s/it]"
     ]
    },
    {
     "name": "stdout",
     "output_type": "stream",
     "text": [
      "[INFO] [2021-11-17 03:12:19,584] [OpenBox-Shadan] Iteration 322, objective value: [16.381097901650392].\n"
     ]
    },
    {
     "name": "stderr",
     "output_type": "stream",
     "text": [
      "\r",
      " 32%|███████████████████████▊                                                  | 322/1000 [5:07:18<10:35:18, 56.22s/it]"
     ]
    },
    {
     "name": "stdout",
     "output_type": "stream",
     "text": [
      "[INFO] [2021-11-17 03:13:17,593] [OpenBox-Shadan] Iteration 323, objective value: [26.23839882916998].\n"
     ]
    },
    {
     "name": "stderr",
     "output_type": "stream",
     "text": [
      "\r",
      " 32%|███████████████████████▉                                                  | 323/1000 [5:08:16<10:40:25, 56.76s/it]"
     ]
    },
    {
     "name": "stdout",
     "output_type": "stream",
     "text": [
      "[INFO] [2021-11-17 03:14:09,731] [OpenBox-Shadan] Iteration 324, objective value: [2.2949778434999075].\n"
     ]
    },
    {
     "name": "stderr",
     "output_type": "stream",
     "text": [
      "\r",
      " 32%|███████████████████████▉                                                  | 324/1000 [5:09:08<10:23:51, 55.37s/it]"
     ]
    },
    {
     "name": "stdout",
     "output_type": "stream",
     "text": [
      "[INFO] [2021-11-17 03:15:06,902] [OpenBox-Shadan] Iteration 325, objective value: [15.003856290866082].\n"
     ]
    },
    {
     "name": "stderr",
     "output_type": "stream",
     "text": [
      "\r",
      " 32%|████████████████████████                                                  | 325/1000 [5:10:05<10:29:00, 55.91s/it]"
     ]
    },
    {
     "name": "stdout",
     "output_type": "stream",
     "text": [
      "[INFO] [2021-11-17 03:16:03,650] [OpenBox-Shadan] Iteration 326, objective value: [5.934016923969381].\n"
     ]
    },
    {
     "name": "stderr",
     "output_type": "stream",
     "text": [
      "\r",
      " 33%|████████████████████████                                                  | 326/1000 [5:11:02<10:30:53, 56.16s/it]"
     ]
    },
    {
     "name": "stdout",
     "output_type": "stream",
     "text": [
      "[INFO] [2021-11-17 03:16:57,420] [OpenBox-Shadan] Iteration 327, objective value: [15.343446163797978].\n"
     ]
    },
    {
     "name": "stderr",
     "output_type": "stream",
     "text": [
      "\r",
      " 33%|████████████████████████▏                                                 | 327/1000 [5:11:56<10:21:54, 55.44s/it]"
     ]
    },
    {
     "name": "stdout",
     "output_type": "stream",
     "text": [
      "[INFO] [2021-11-17 03:17:51,854] [OpenBox-Shadan] Iteration 328, objective value: [8.06249117458134].\n"
     ]
    },
    {
     "name": "stderr",
     "output_type": "stream",
     "text": [
      "\r",
      " 33%|████████████████████████▎                                                 | 328/1000 [5:12:50<10:17:35, 55.14s/it]"
     ]
    },
    {
     "name": "stdout",
     "output_type": "stream",
     "text": [
      "[INFO] [2021-11-17 03:18:42,570] [OpenBox-Shadan] Iteration 329, objective value: [8.471382714515101].\n"
     ]
    },
    {
     "name": "stderr",
     "output_type": "stream",
     "text": [
      "\r",
      " 33%|████████████████████████▎                                                 | 329/1000 [5:13:41<10:01:49, 53.81s/it]"
     ]
    },
    {
     "name": "stdout",
     "output_type": "stream",
     "text": [
      "[INFO] [2021-11-17 03:19:36,704] [OpenBox-Shadan] Iteration 330, objective value: [26.307492567100468].\n"
     ]
    },
    {
     "name": "stderr",
     "output_type": "stream",
     "text": [
      "\r",
      " 33%|████████████████████████▍                                                 | 330/1000 [5:14:35<10:01:59, 53.91s/it]"
     ]
    },
    {
     "name": "stdout",
     "output_type": "stream",
     "text": [
      "[INFO] [2021-11-17 03:20:32,043] [OpenBox-Shadan] Iteration 331, objective value: [14.340124330676545].\n"
     ]
    },
    {
     "name": "stderr",
     "output_type": "stream",
     "text": [
      "\r",
      " 33%|████████████████████████▍                                                 | 331/1000 [5:15:30<10:05:52, 54.34s/it]"
     ]
    },
    {
     "name": "stdout",
     "output_type": "stream",
     "text": [
      "[INFO] [2021-11-17 03:21:24,278] [OpenBox-Shadan] Iteration 332, objective value: [27.383603374835772].\n"
     ]
    },
    {
     "name": "stderr",
     "output_type": "stream",
     "text": [
      "\r",
      " 33%|████████████████████████▉                                                  | 332/1000 [5:16:22<9:57:56, 53.71s/it]"
     ]
    },
    {
     "name": "stdout",
     "output_type": "stream",
     "text": [
      "[INFO] [2021-11-17 03:22:24,404] [OpenBox-Shadan] Iteration 333, objective value: [14.436441354842827].\n"
     ]
    },
    {
     "name": "stderr",
     "output_type": "stream",
     "text": [
      "\r",
      " 33%|████████████████████████▋                                                 | 333/1000 [5:17:23<10:18:27, 55.63s/it]"
     ]
    },
    {
     "name": "stdout",
     "output_type": "stream",
     "text": [
      "[INFO] [2021-11-17 03:23:15,777] [OpenBox-Shadan] Iteration 334, objective value: [46.751966322202065].\n"
     ]
    },
    {
     "name": "stderr",
     "output_type": "stream",
     "text": [
      "\r",
      " 33%|████████████████████████▋                                                 | 334/1000 [5:18:14<10:03:20, 54.35s/it]"
     ]
    },
    {
     "name": "stdout",
     "output_type": "stream",
     "text": [
      "[INFO] [2021-11-17 03:24:13,428] [OpenBox-Shadan] Iteration 335, objective value: [38.49691372080739].\n"
     ]
    },
    {
     "name": "stderr",
     "output_type": "stream",
     "text": [
      "\r",
      " 34%|████████████████████████▊                                                 | 335/1000 [5:19:12<10:13:23, 55.34s/it]"
     ]
    },
    {
     "name": "stdout",
     "output_type": "stream",
     "text": [
      "[INFO] [2021-11-17 03:25:07,476] [OpenBox-Shadan] Iteration 336, objective value: [10.96851364264117].\n"
     ]
    },
    {
     "name": "stderr",
     "output_type": "stream",
     "text": [
      "\r",
      " 34%|████████████████████████▊                                                 | 336/1000 [5:20:06<10:08:10, 54.96s/it]"
     ]
    },
    {
     "name": "stdout",
     "output_type": "stream",
     "text": [
      "[INFO] [2021-11-17 03:26:00,484] [OpenBox-Shadan] Iteration 337, objective value: [21.13240985985317].\n"
     ]
    },
    {
     "name": "stderr",
     "output_type": "stream",
     "text": [
      "\r",
      " 34%|████████████████████████▉                                                 | 337/1000 [5:20:59<10:00:48, 54.37s/it]"
     ]
    },
    {
     "name": "stdout",
     "output_type": "stream",
     "text": [
      "[INFO] [2021-11-17 03:26:52,184] [OpenBox-Shadan] Iteration 338, objective value: [8.30115820033356].\n"
     ]
    },
    {
     "name": "stderr",
     "output_type": "stream",
     "text": [
      "\r",
      " 34%|█████████████████████████▎                                                 | 338/1000 [5:21:50<9:51:02, 53.57s/it]"
     ]
    },
    {
     "name": "stdout",
     "output_type": "stream",
     "text": [
      "[INFO] [2021-11-17 03:27:46,258] [OpenBox-Shadan] Iteration 339, objective value: [26.173981742031074].\n"
     ]
    },
    {
     "name": "stderr",
     "output_type": "stream",
     "text": [
      "\r",
      " 34%|█████████████████████████▍                                                 | 339/1000 [5:22:44<9:51:49, 53.72s/it]"
     ]
    },
    {
     "name": "stdout",
     "output_type": "stream",
     "text": [
      "[INFO] [2021-11-17 03:28:42,188] [OpenBox-Shadan] Iteration 340, objective value: [10.328439059888751].\n"
     ]
    },
    {
     "name": "stderr",
     "output_type": "stream",
     "text": [
      "\r",
      " 34%|█████████████████████████▌                                                 | 340/1000 [5:23:40<9:58:13, 54.38s/it]"
     ]
    },
    {
     "name": "stdout",
     "output_type": "stream",
     "text": [
      "[INFO] [2021-11-17 03:29:36,585] [OpenBox-Shadan] Iteration 341, objective value: [6.278493369350684].\n"
     ]
    },
    {
     "name": "stderr",
     "output_type": "stream",
     "text": [
      "\r",
      " 34%|█████████████████████████▌                                                 | 341/1000 [5:24:35<9:57:21, 54.39s/it]"
     ]
    },
    {
     "name": "stdout",
     "output_type": "stream",
     "text": [
      "[INFO] [2021-11-17 03:30:27,432] [OpenBox-Shadan] Iteration 342, objective value: [46.418131534854446].\n"
     ]
    },
    {
     "name": "stderr",
     "output_type": "stream",
     "text": [
      "\r",
      " 34%|█████████████████████████▋                                                 | 342/1000 [5:25:26<9:44:48, 53.33s/it]"
     ]
    },
    {
     "name": "stdout",
     "output_type": "stream",
     "text": [
      "[INFO] [2021-11-17 03:31:26,732] [OpenBox-Shadan] Iteration 343, objective value: [7.385019607561702].\n"
     ]
    },
    {
     "name": "stderr",
     "output_type": "stream",
     "text": [
      "\r",
      " 34%|█████████████████████████▍                                                | 343/1000 [5:26:25<10:03:32, 55.12s/it]"
     ]
    },
    {
     "name": "stdout",
     "output_type": "stream",
     "text": [
      "[INFO] [2021-11-17 03:32:21,075] [OpenBox-Shadan] Iteration 344, objective value: [4.521189037238457].\n"
     ]
    },
    {
     "name": "stderr",
     "output_type": "stream",
     "text": [
      "\r",
      " 34%|█████████████████████████▍                                                | 344/1000 [5:27:19<10:00:04, 54.89s/it]"
     ]
    },
    {
     "name": "stdout",
     "output_type": "stream",
     "text": [
      "[INFO] [2021-11-17 03:33:13,534] [OpenBox-Shadan] Iteration 345, objective value: [12.386760712258749].\n"
     ]
    },
    {
     "name": "stderr",
     "output_type": "stream",
     "text": [
      "\r",
      " 34%|█████████████████████████▊                                                 | 345/1000 [5:28:12<9:51:12, 54.16s/it]"
     ]
    },
    {
     "name": "stdout",
     "output_type": "stream",
     "text": [
      "[INFO] [2021-11-17 03:34:05,643] [OpenBox-Shadan] Iteration 346, objective value: [6.431158284713007].\n"
     ]
    },
    {
     "name": "stderr",
     "output_type": "stream",
     "text": [
      "\r",
      " 35%|█████████████████████████▉                                                 | 346/1000 [5:29:04<9:43:37, 53.54s/it]"
     ]
    },
    {
     "name": "stdout",
     "output_type": "stream",
     "text": [
      "[INFO] [2021-11-17 03:35:03,744] [OpenBox-Shadan] Iteration 347, objective value: [23.94418857499771].\n"
     ]
    },
    {
     "name": "stderr",
     "output_type": "stream",
     "text": [
      "\r",
      " 35%|██████████████████████████                                                 | 347/1000 [5:30:02<9:57:36, 54.91s/it]"
     ]
    },
    {
     "name": "stdout",
     "output_type": "stream",
     "text": [
      "[INFO] [2021-11-17 03:35:58,835] [OpenBox-Shadan] Iteration 348, objective value: [20.981429353860378].\n"
     ]
    },
    {
     "name": "stderr",
     "output_type": "stream",
     "text": [
      "\r",
      " 35%|██████████████████████████                                                 | 348/1000 [5:30:57<9:57:17, 54.96s/it]"
     ]
    },
    {
     "name": "stdout",
     "output_type": "stream",
     "text": [
      "[INFO] [2021-11-17 03:36:53,010] [OpenBox-Shadan] Iteration 349, objective value: [11.80878538661834].\n"
     ]
    },
    {
     "name": "stderr",
     "output_type": "stream",
     "text": [
      "\r",
      " 35%|██████████████████████████▏                                                | 349/1000 [5:31:51<9:53:47, 54.73s/it]"
     ]
    },
    {
     "name": "stdout",
     "output_type": "stream",
     "text": [
      "[INFO] [2021-11-17 03:37:53,570] [OpenBox-Shadan] Iteration 350, objective value: [23.71317854053612].\n"
     ]
    },
    {
     "name": "stderr",
     "output_type": "stream",
     "text": [
      "\r",
      " 35%|█████████████████████████▉                                                | 350/1000 [5:32:52<10:11:50, 56.48s/it]"
     ]
    },
    {
     "name": "stdout",
     "output_type": "stream",
     "text": [
      "[INFO] [2021-11-17 03:38:50,321] [OpenBox-Shadan] Iteration 351, objective value: [8.165464948022276].\n"
     ]
    },
    {
     "name": "stderr",
     "output_type": "stream",
     "text": [
      "\r",
      " 35%|█████████████████████████▉                                                | 351/1000 [5:33:48<10:11:47, 56.56s/it]"
     ]
    },
    {
     "name": "stdout",
     "output_type": "stream",
     "text": [
      "[INFO] [2021-11-17 03:39:44,533] [OpenBox-Shadan] Iteration 352, objective value: [20.605034238647306].\n"
     ]
    },
    {
     "name": "stderr",
     "output_type": "stream",
     "text": [
      "\r",
      " 35%|██████████████████████████                                                | 352/1000 [5:34:43<10:03:14, 55.86s/it]"
     ]
    },
    {
     "name": "stdout",
     "output_type": "stream",
     "text": [
      "[INFO] [2021-11-17 03:40:33,856] [OpenBox-Shadan] Iteration 353, objective value: [10.423742009561238].\n"
     ]
    },
    {
     "name": "stderr",
     "output_type": "stream",
     "text": [
      "\r",
      " 35%|██████████████████████████▍                                                | 353/1000 [5:35:32<9:41:10, 53.90s/it]"
     ]
    },
    {
     "name": "stdout",
     "output_type": "stream",
     "text": [
      "[INFO] [2021-11-17 03:41:26,975] [OpenBox-Shadan] Iteration 354, objective value: [5.914028769285309].\n"
     ]
    },
    {
     "name": "stderr",
     "output_type": "stream",
     "text": [
      "\r",
      " 35%|██████████████████████████▌                                                | 354/1000 [5:36:25<9:37:46, 53.66s/it]"
     ]
    },
    {
     "name": "stdout",
     "output_type": "stream",
     "text": [
      "[INFO] [2021-11-17 03:42:17,757] [OpenBox-Shadan] Iteration 355, objective value: [11.775920791903843].\n"
     ]
    },
    {
     "name": "stderr",
     "output_type": "stream",
     "text": [
      "\r",
      " 36%|██████████████████████████▋                                                | 355/1000 [5:37:16<9:27:34, 52.80s/it]"
     ]
    },
    {
     "name": "stdout",
     "output_type": "stream",
     "text": [
      "[INFO] [2021-11-17 03:43:11,309] [OpenBox-Shadan] Iteration 356, objective value: [59.78591651299268].\n"
     ]
    },
    {
     "name": "stderr",
     "output_type": "stream",
     "text": [
      "\r",
      " 36%|██████████████████████████▋                                                | 356/1000 [5:38:09<9:29:07, 53.02s/it]"
     ]
    },
    {
     "name": "stdout",
     "output_type": "stream",
     "text": [
      "[INFO] [2021-11-17 03:44:04,578] [OpenBox-Shadan] Iteration 357, objective value: [22.939680870248395].\n"
     ]
    },
    {
     "name": "stderr",
     "output_type": "stream",
     "text": [
      "\r",
      " 36%|██████████████████████████▊                                                | 357/1000 [5:39:03<9:29:02, 53.10s/it]"
     ]
    },
    {
     "name": "stdout",
     "output_type": "stream",
     "text": [
      "[INFO] [2021-11-17 03:44:59,282] [OpenBox-Shadan] Iteration 358, objective value: [5.189625845989369].\n"
     ]
    },
    {
     "name": "stderr",
     "output_type": "stream",
     "text": [
      "\r",
      " 36%|██████████████████████████▊                                                | 358/1000 [5:39:57<9:33:18, 53.58s/it]"
     ]
    },
    {
     "name": "stdout",
     "output_type": "stream",
     "text": [
      "[INFO] [2021-11-17 03:45:52,178] [OpenBox-Shadan] Iteration 359, objective value: [4.568525010042663].\n"
     ]
    },
    {
     "name": "stderr",
     "output_type": "stream",
     "text": [
      "\r",
      " 36%|██████████████████████████▉                                                | 359/1000 [5:40:50<9:30:13, 53.37s/it]"
     ]
    },
    {
     "name": "stdout",
     "output_type": "stream",
     "text": [
      "[INFO] [2021-11-17 03:46:46,392] [OpenBox-Shadan] Iteration 360, objective value: [13.009628187047156].\n"
     ]
    },
    {
     "name": "stderr",
     "output_type": "stream",
     "text": [
      "\r",
      " 36%|███████████████████████████                                                | 360/1000 [5:41:45<9:32:00, 53.63s/it]"
     ]
    },
    {
     "name": "stdout",
     "output_type": "stream",
     "text": [
      "[INFO] [2021-11-17 03:47:42,135] [OpenBox-Shadan] Iteration 361, objective value: [4.11189632021582].\n"
     ]
    },
    {
     "name": "stderr",
     "output_type": "stream",
     "text": [
      "\r",
      " 36%|███████████████████████████                                                | 361/1000 [5:42:40<9:37:53, 54.26s/it]"
     ]
    },
    {
     "name": "stdout",
     "output_type": "stream",
     "text": [
      "[INFO] [2021-11-17 03:48:37,653] [OpenBox-Shadan] Iteration 362, objective value: [11.77519700246637].\n"
     ]
    },
    {
     "name": "stderr",
     "output_type": "stream",
     "text": [
      "\r",
      " 36%|███████████████████████████▏                                               | 362/1000 [5:43:36<9:40:59, 54.64s/it]"
     ]
    },
    {
     "name": "stdout",
     "output_type": "stream",
     "text": [
      "[INFO] [2021-11-17 03:49:32,642] [OpenBox-Shadan] Iteration 363, objective value: [21.438676496410807].\n"
     ]
    },
    {
     "name": "stderr",
     "output_type": "stream",
     "text": [
      "\r",
      " 36%|███████████████████████████▏                                               | 363/1000 [5:44:31<9:41:11, 54.74s/it]"
     ]
    },
    {
     "name": "stdout",
     "output_type": "stream",
     "text": [
      "[INFO] [2021-11-17 03:50:24,158] [OpenBox-Shadan] Iteration 364, objective value: [9.750070331986521].\n"
     ]
    },
    {
     "name": "stderr",
     "output_type": "stream",
     "text": [
      "\r",
      " 36%|███████████████████████████▎                                               | 364/1000 [5:45:22<9:30:00, 53.78s/it]"
     ]
    },
    {
     "name": "stdout",
     "output_type": "stream",
     "text": [
      "[INFO] [2021-11-17 03:51:19,668] [OpenBox-Shadan] Iteration 365, objective value: [7.916305627050562].\n"
     ]
    },
    {
     "name": "stderr",
     "output_type": "stream",
     "text": [
      "\r",
      " 36%|███████████████████████████▍                                               | 365/1000 [5:46:18<9:34:37, 54.30s/it]"
     ]
    },
    {
     "name": "stdout",
     "output_type": "stream",
     "text": [
      "[INFO] [2021-11-17 03:52:13,381] [OpenBox-Shadan] Iteration 366, objective value: [20.4383551793741].\n"
     ]
    },
    {
     "name": "stderr",
     "output_type": "stream",
     "text": [
      "\r",
      " 37%|███████████████████████████▍                                               | 366/1000 [5:47:12<9:31:52, 54.12s/it]"
     ]
    },
    {
     "name": "stdout",
     "output_type": "stream",
     "text": [
      "[INFO] [2021-11-17 03:53:07,304] [OpenBox-Shadan] Iteration 367, objective value: [3.179407544233328].\n"
     ]
    },
    {
     "name": "stderr",
     "output_type": "stream",
     "text": [
      "\r",
      " 37%|███████████████████████████▌                                               | 367/1000 [5:48:05<9:30:21, 54.06s/it]"
     ]
    },
    {
     "name": "stdout",
     "output_type": "stream",
     "text": [
      "[INFO] [2021-11-17 03:54:01,113] [OpenBox-Shadan] Iteration 368, objective value: [7.507681101635853].\n"
     ]
    },
    {
     "name": "stderr",
     "output_type": "stream",
     "text": [
      "\r",
      " 37%|███████████████████████████▌                                               | 368/1000 [5:48:59<9:28:38, 53.99s/it]"
     ]
    },
    {
     "name": "stdout",
     "output_type": "stream",
     "text": [
      "[INFO] [2021-11-17 03:54:50,784] [OpenBox-Shadan] Iteration 369, objective value: [29.690731472324956].\n"
     ]
    },
    {
     "name": "stderr",
     "output_type": "stream",
     "text": [
      "\r",
      " 37%|███████████████████████████▋                                               | 369/1000 [5:49:49<9:14:08, 52.69s/it]"
     ]
    },
    {
     "name": "stdout",
     "output_type": "stream",
     "text": [
      "[INFO] [2021-11-17 03:55:47,774] [OpenBox-Shadan] Iteration 370, objective value: [16.582053612262612].\n"
     ]
    },
    {
     "name": "stderr",
     "output_type": "stream",
     "text": [
      "\r",
      " 37%|███████████████████████████▊                                               | 370/1000 [5:50:46<9:26:47, 53.98s/it]"
     ]
    },
    {
     "name": "stdout",
     "output_type": "stream",
     "text": [
      "[INFO] [2021-11-17 03:56:40,952] [OpenBox-Shadan] Iteration 371, objective value: [6.412702394318316].\n"
     ]
    },
    {
     "name": "stderr",
     "output_type": "stream",
     "text": [
      "\r",
      " 37%|███████████████████████████▊                                               | 371/1000 [5:51:39<9:23:22, 53.74s/it]"
     ]
    },
    {
     "name": "stdout",
     "output_type": "stream",
     "text": [
      "[INFO] [2021-11-17 03:57:40,843] [OpenBox-Shadan] Iteration 372, objective value: [33.36146121029529].\n"
     ]
    },
    {
     "name": "stderr",
     "output_type": "stream",
     "text": [
      "\r",
      " 37%|███████████████████████████▉                                               | 372/1000 [5:52:39<9:41:47, 55.59s/it]"
     ]
    },
    {
     "name": "stdout",
     "output_type": "stream",
     "text": [
      "[INFO] [2021-11-17 03:58:32,699] [OpenBox-Shadan] Iteration 373, objective value: [9.958206029325908].\n"
     ]
    },
    {
     "name": "stderr",
     "output_type": "stream",
     "text": [
      "\r",
      " 37%|███████████████████████████▉                                               | 373/1000 [5:53:31<9:29:10, 54.47s/it]"
     ]
    },
    {
     "name": "stdout",
     "output_type": "stream",
     "text": [
      "[INFO] [2021-11-17 03:59:22,351] [OpenBox-Shadan] Iteration 374, objective value: [7.602575908000205].\n"
     ]
    },
    {
     "name": "stderr",
     "output_type": "stream",
     "text": [
      "\r",
      " 37%|████████████████████████████                                               | 374/1000 [5:54:21<9:13:11, 53.02s/it]"
     ]
    },
    {
     "name": "stdout",
     "output_type": "stream",
     "text": [
      "[INFO] [2021-11-17 04:00:20,333] [OpenBox-Shadan] Iteration 375, objective value: [24.529389617912884].\n"
     ]
    },
    {
     "name": "stderr",
     "output_type": "stream",
     "text": [
      "\r",
      " 38%|████████████████████████████▏                                              | 375/1000 [5:55:18<9:27:48, 54.51s/it]"
     ]
    },
    {
     "name": "stdout",
     "output_type": "stream",
     "text": [
      "[INFO] [2021-11-17 04:01:12,134] [OpenBox-Shadan] Iteration 376, objective value: [8.938913485751002].\n"
     ]
    },
    {
     "name": "stderr",
     "output_type": "stream",
     "text": [
      "\r",
      " 38%|████████████████████████████▏                                              | 376/1000 [5:56:10<9:18:27, 53.70s/it]"
     ]
    },
    {
     "name": "stdout",
     "output_type": "stream",
     "text": [
      "[INFO] [2021-11-17 04:02:08,010] [OpenBox-Shadan] Iteration 377, objective value: [30.947412910190877].\n"
     ]
    },
    {
     "name": "stderr",
     "output_type": "stream",
     "text": [
      "\r",
      " 38%|████████████████████████████▎                                              | 377/1000 [5:57:06<9:24:20, 54.35s/it]"
     ]
    },
    {
     "name": "stdout",
     "output_type": "stream",
     "text": [
      "[INFO] [2021-11-17 04:03:04,325] [OpenBox-Shadan] Iteration 378, objective value: [11.792026008451757].\n"
     ]
    },
    {
     "name": "stderr",
     "output_type": "stream",
     "text": [
      "\r",
      " 38%|████████████████████████████▎                                              | 378/1000 [5:58:02<9:29:32, 54.94s/it]"
     ]
    },
    {
     "name": "stdout",
     "output_type": "stream",
     "text": [
      "[INFO] [2021-11-17 04:03:56,999] [OpenBox-Shadan] Iteration 379, objective value: [19.714515425580572].\n"
     ]
    },
    {
     "name": "stderr",
     "output_type": "stream",
     "text": [
      "\r",
      " 38%|████████████████████████████▍                                              | 379/1000 [5:58:55<9:21:35, 54.26s/it]"
     ]
    },
    {
     "name": "stdout",
     "output_type": "stream",
     "text": [
      "[INFO] [2021-11-17 04:04:48,677] [OpenBox-Shadan] Iteration 380, objective value: [7.193643131425091].\n"
     ]
    },
    {
     "name": "stderr",
     "output_type": "stream",
     "text": [
      "\r",
      " 38%|████████████████████████████▌                                              | 380/1000 [5:59:47<9:12:41, 53.49s/it]"
     ]
    },
    {
     "name": "stdout",
     "output_type": "stream",
     "text": [
      "[INFO] [2021-11-17 04:05:41,256] [OpenBox-Shadan] Iteration 381, objective value: [16.225191636280073].\n"
     ]
    },
    {
     "name": "stderr",
     "output_type": "stream",
     "text": [
      "\r",
      " 38%|████████████████████████████▌                                              | 381/1000 [6:00:39<9:08:59, 53.21s/it]"
     ]
    },
    {
     "name": "stdout",
     "output_type": "stream",
     "text": [
      "[INFO] [2021-11-17 04:06:40,867] [OpenBox-Shadan] Iteration 382, objective value: [2.6871731100446965].\n"
     ]
    },
    {
     "name": "stderr",
     "output_type": "stream",
     "text": [
      "\r",
      " 38%|████████████████████████████▋                                              | 382/1000 [6:01:39<9:27:52, 55.13s/it]"
     ]
    },
    {
     "name": "stdout",
     "output_type": "stream",
     "text": [
      "[INFO] [2021-11-17 04:07:38,061] [OpenBox-Shadan] Iteration 383, objective value: [30.62641989385].\n"
     ]
    },
    {
     "name": "stderr",
     "output_type": "stream",
     "text": [
      "\r",
      " 38%|████████████████████████████▋                                              | 383/1000 [6:02:36<9:33:18, 55.75s/it]"
     ]
    },
    {
     "name": "stdout",
     "output_type": "stream",
     "text": [
      "[INFO] [2021-11-17 04:08:30,850] [OpenBox-Shadan] Iteration 384, objective value: [11.1134742103187].\n"
     ]
    },
    {
     "name": "stderr",
     "output_type": "stream",
     "text": [
      "\r",
      " 38%|████████████████████████████▊                                              | 384/1000 [6:03:29<9:23:15, 54.86s/it]"
     ]
    },
    {
     "name": "stdout",
     "output_type": "stream",
     "text": [
      "[INFO] [2021-11-17 04:09:24,787] [OpenBox-Shadan] Iteration 385, objective value: [29.068634296096846].\n"
     ]
    },
    {
     "name": "stderr",
     "output_type": "stream",
     "text": [
      "\r",
      " 38%|████████████████████████████▉                                              | 385/1000 [6:04:23<9:19:29, 54.58s/it]"
     ]
    },
    {
     "name": "stdout",
     "output_type": "stream",
     "text": [
      "[INFO] [2021-11-17 04:10:18,488] [OpenBox-Shadan] Iteration 386, objective value: [20.652446103315384].\n"
     ]
    },
    {
     "name": "stderr",
     "output_type": "stream",
     "text": [
      "\r",
      " 39%|████████████████████████████▉                                              | 386/1000 [6:05:17<9:15:52, 54.32s/it]"
     ]
    },
    {
     "name": "stdout",
     "output_type": "stream",
     "text": [
      "[INFO] [2021-11-17 04:11:14,166] [OpenBox-Shadan] Iteration 387, objective value: [8.688596953279585].\n"
     ]
    },
    {
     "name": "stderr",
     "output_type": "stream",
     "text": [
      "\r",
      " 39%|█████████████████████████████                                              | 387/1000 [6:06:12<9:19:07, 54.73s/it]"
     ]
    },
    {
     "name": "stdout",
     "output_type": "stream",
     "text": [
      "[INFO] [2021-11-17 04:12:12,299] [OpenBox-Shadan] Iteration 388, objective value: [21.15498310722957].\n"
     ]
    },
    {
     "name": "stderr",
     "output_type": "stream",
     "text": [
      "\r",
      " 39%|█████████████████████████████                                              | 388/1000 [6:07:10<9:28:38, 55.75s/it]"
     ]
    },
    {
     "name": "stdout",
     "output_type": "stream",
     "text": [
      "[INFO] [2021-11-17 04:13:08,730] [OpenBox-Shadan] Iteration 389, objective value: [1.7496949877835277].\n"
     ]
    },
    {
     "name": "stderr",
     "output_type": "stream",
     "text": [
      "\r",
      " 39%|█████████████████████████████▏                                             | 389/1000 [6:08:07<9:29:47, 55.95s/it]"
     ]
    },
    {
     "name": "stdout",
     "output_type": "stream",
     "text": [
      "[INFO] [2021-11-17 04:14:01,298] [OpenBox-Shadan] Iteration 390, objective value: [19.858014296553762].\n"
     ]
    },
    {
     "name": "stderr",
     "output_type": "stream",
     "text": [
      "\r",
      " 39%|█████████████████████████████▎                                             | 390/1000 [6:08:59<9:18:32, 54.94s/it]"
     ]
    },
    {
     "name": "stdout",
     "output_type": "stream",
     "text": [
      "[INFO] [2021-11-17 04:15:04,667] [OpenBox-Shadan] Iteration 391, objective value: [31.70285517210459].\n"
     ]
    },
    {
     "name": "stderr",
     "output_type": "stream",
     "text": [
      "\r",
      " 39%|█████████████████████████████▎                                             | 391/1000 [6:10:03<9:43:17, 57.47s/it]"
     ]
    },
    {
     "name": "stdout",
     "output_type": "stream",
     "text": [
      "[INFO] [2021-11-17 04:15:59,524] [OpenBox-Shadan] Iteration 392, objective value: [6.467299631011159].\n"
     ]
    },
    {
     "name": "stderr",
     "output_type": "stream",
     "text": [
      "\r",
      " 39%|█████████████████████████████▍                                             | 392/1000 [6:10:58<9:34:24, 56.68s/it]"
     ]
    },
    {
     "name": "stdout",
     "output_type": "stream",
     "text": [
      "[INFO] [2021-11-17 04:16:50,575] [OpenBox-Shadan] Iteration 393, objective value: [8.848693628727432].\n"
     ]
    },
    {
     "name": "stderr",
     "output_type": "stream",
     "text": [
      "\r",
      " 39%|█████████████████████████████▍                                             | 393/1000 [6:11:49<9:16:21, 54.99s/it]"
     ]
    },
    {
     "name": "stdout",
     "output_type": "stream",
     "text": [
      "[INFO] [2021-11-17 04:17:38,211] [OpenBox-Shadan] Iteration 394, objective value: [45.97249295029644].\n"
     ]
    },
    {
     "name": "stderr",
     "output_type": "stream",
     "text": [
      "\r",
      " 39%|█████████████████████████████▌                                             | 394/1000 [6:12:36<8:53:08, 52.79s/it]"
     ]
    },
    {
     "name": "stdout",
     "output_type": "stream",
     "text": [
      "[INFO] [2021-11-17 04:18:38,590] [OpenBox-Shadan] Iteration 395, objective value: [28.744536832825233].\n"
     ]
    },
    {
     "name": "stderr",
     "output_type": "stream",
     "text": [
      "\r",
      " 40%|█████████████████████████████▋                                             | 395/1000 [6:13:37<9:15:13, 55.06s/it]"
     ]
    },
    {
     "name": "stdout",
     "output_type": "stream",
     "text": [
      "[INFO] [2021-11-17 04:19:37,348] [OpenBox-Shadan] Iteration 396, objective value: [29.778579332056026].\n"
     ]
    },
    {
     "name": "stderr",
     "output_type": "stream",
     "text": [
      "\r",
      " 40%|█████████████████████████████▋                                             | 396/1000 [6:14:36<9:25:28, 56.17s/it]"
     ]
    },
    {
     "name": "stdout",
     "output_type": "stream",
     "text": [
      "[INFO] [2021-11-17 04:20:30,210] [OpenBox-Shadan] Iteration 397, objective value: [25.438225926880236].\n"
     ]
    },
    {
     "name": "stderr",
     "output_type": "stream",
     "text": [
      "\r",
      " 40%|█████████████████████████████▊                                             | 397/1000 [6:15:28<9:14:33, 55.18s/it]"
     ]
    },
    {
     "name": "stdout",
     "output_type": "stream",
     "text": [
      "[INFO] [2021-11-17 04:21:26,242] [OpenBox-Shadan] Iteration 398, objective value: [18.983432725224603].\n"
     ]
    },
    {
     "name": "stderr",
     "output_type": "stream",
     "text": [
      "\r",
      " 40%|█████████████████████████████▊                                             | 398/1000 [6:16:24<9:16:12, 55.44s/it]"
     ]
    },
    {
     "name": "stdout",
     "output_type": "stream",
     "text": [
      "[INFO] [2021-11-17 04:22:17,570] [OpenBox-Shadan] Iteration 399, objective value: [8.73662775126806].\n"
     ]
    },
    {
     "name": "stderr",
     "output_type": "stream",
     "text": [
      "\r",
      " 40%|█████████████████████████████▉                                             | 399/1000 [6:17:16<9:02:56, 54.20s/it]"
     ]
    },
    {
     "name": "stdout",
     "output_type": "stream",
     "text": [
      "[INFO] [2021-11-17 04:23:11,381] [OpenBox-Shadan] Iteration 400, objective value: [6.862609096533646].\n"
     ]
    },
    {
     "name": "stderr",
     "output_type": "stream",
     "text": [
      "\r",
      " 40%|██████████████████████████████                                             | 400/1000 [6:18:10<9:00:51, 54.09s/it]"
     ]
    },
    {
     "name": "stdout",
     "output_type": "stream",
     "text": [
      "[INFO] [2021-11-17 04:24:07,149] [OpenBox-Shadan] Iteration 401, objective value: [25.93392203514398].\n"
     ]
    },
    {
     "name": "stderr",
     "output_type": "stream",
     "text": [
      "\r",
      " 40%|██████████████████████████████                                             | 401/1000 [6:19:05<9:04:59, 54.59s/it]"
     ]
    },
    {
     "name": "stdout",
     "output_type": "stream",
     "text": [
      "[INFO] [2021-11-17 04:25:00,403] [OpenBox-Shadan] Iteration 402, objective value: [4.405652896999726].\n"
     ]
    },
    {
     "name": "stderr",
     "output_type": "stream",
     "text": [
      "\r",
      " 40%|██████████████████████████████▏                                            | 402/1000 [6:19:59<9:00:05, 54.19s/it]"
     ]
    },
    {
     "name": "stdout",
     "output_type": "stream",
     "text": [
      "[INFO] [2021-11-17 04:25:53,499] [OpenBox-Shadan] Iteration 403, objective value: [12.812090828247818].\n"
     ]
    },
    {
     "name": "stderr",
     "output_type": "stream",
     "text": [
      "\r",
      " 40%|██████████████████████████████▏                                            | 403/1000 [6:20:52<8:55:55, 53.86s/it]"
     ]
    },
    {
     "name": "stdout",
     "output_type": "stream",
     "text": [
      "[INFO] [2021-11-17 04:26:50,293] [OpenBox-Shadan] Iteration 404, objective value: [27.117086281311444].\n"
     ]
    },
    {
     "name": "stderr",
     "output_type": "stream",
     "text": [
      "\r",
      " 40%|██████████████████████████████▎                                            | 404/1000 [6:21:48<9:03:45, 54.74s/it]"
     ]
    },
    {
     "name": "stdout",
     "output_type": "stream",
     "text": [
      "[INFO] [2021-11-17 04:27:46,417] [OpenBox-Shadan] Iteration 405, objective value: [12.573835868468237].\n"
     ]
    },
    {
     "name": "stderr",
     "output_type": "stream",
     "text": [
      "\r",
      " 40%|██████████████████████████████▍                                            | 405/1000 [6:22:45<9:06:57, 55.16s/it]"
     ]
    },
    {
     "name": "stdout",
     "output_type": "stream",
     "text": [
      "[INFO] [2021-11-17 04:28:39,060] [OpenBox-Shadan] Iteration 406, objective value: [2.7217154265202907].\n"
     ]
    },
    {
     "name": "stderr",
     "output_type": "stream",
     "text": [
      "\r",
      " 41%|██████████████████████████████▍                                            | 406/1000 [6:23:37<8:58:34, 54.40s/it]"
     ]
    },
    {
     "name": "stdout",
     "output_type": "stream",
     "text": [
      "[INFO] [2021-11-17 04:29:34,460] [OpenBox-Shadan] Iteration 407, objective value: [21.783290412689354].\n"
     ]
    },
    {
     "name": "stderr",
     "output_type": "stream",
     "text": [
      "\r",
      " 41%|██████████████████████████████▌                                            | 407/1000 [6:24:33<9:00:37, 54.70s/it]"
     ]
    },
    {
     "name": "stdout",
     "output_type": "stream",
     "text": [
      "[INFO] [2021-11-17 04:30:25,123] [OpenBox-Shadan] Iteration 408, objective value: [11.05497709346534].\n"
     ]
    },
    {
     "name": "stderr",
     "output_type": "stream",
     "text": [
      "\r",
      " 41%|██████████████████████████████▌                                            | 408/1000 [6:25:23<8:47:45, 53.49s/it]"
     ]
    },
    {
     "name": "stdout",
     "output_type": "stream",
     "text": [
      "[INFO] [2021-11-17 04:31:25,958] [OpenBox-Shadan] Iteration 409, objective value: [32.70395085784044].\n"
     ]
    },
    {
     "name": "stderr",
     "output_type": "stream",
     "text": [
      "\r",
      " 41%|██████████████████████████████▋                                            | 409/1000 [6:26:24<9:08:34, 55.69s/it]"
     ]
    },
    {
     "name": "stdout",
     "output_type": "stream",
     "text": [
      "[INFO] [2021-11-17 04:32:24,581] [OpenBox-Shadan] Iteration 410, objective value: [21.285593367456173].\n"
     ]
    },
    {
     "name": "stderr",
     "output_type": "stream",
     "text": [
      "\r",
      " 41%|██████████████████████████████▋                                            | 410/1000 [6:27:23<9:16:17, 56.57s/it]"
     ]
    },
    {
     "name": "stdout",
     "output_type": "stream",
     "text": [
      "[INFO] [2021-11-17 04:33:24,591] [OpenBox-Shadan] Iteration 411, objective value: [28.631455215287204].\n"
     ]
    },
    {
     "name": "stderr",
     "output_type": "stream",
     "text": [
      "\r",
      " 41%|██████████████████████████████▊                                            | 411/1000 [6:28:23<9:25:28, 57.60s/it]"
     ]
    },
    {
     "name": "stdout",
     "output_type": "stream",
     "text": [
      "[INFO] [2021-11-17 04:34:20,150] [OpenBox-Shadan] Iteration 412, objective value: [10.24816222044187].\n"
     ]
    },
    {
     "name": "stderr",
     "output_type": "stream",
     "text": [
      "\r",
      " 41%|██████████████████████████████▉                                            | 412/1000 [6:29:18<9:18:30, 56.99s/it]"
     ]
    },
    {
     "name": "stdout",
     "output_type": "stream",
     "text": [
      "[INFO] [2021-11-17 04:35:18,487] [OpenBox-Shadan] Iteration 413, objective value: [50.3655985811241].\n"
     ]
    },
    {
     "name": "stderr",
     "output_type": "stream",
     "text": [
      "\r",
      " 41%|██████████████████████████████▉                                            | 413/1000 [6:30:17<9:21:30, 57.39s/it]"
     ]
    },
    {
     "name": "stdout",
     "output_type": "stream",
     "text": [
      "[INFO] [2021-11-17 04:36:18,707] [OpenBox-Shadan] Iteration 414, objective value: [15.87349927043482].\n"
     ]
    },
    {
     "name": "stderr",
     "output_type": "stream",
     "text": [
      "\r",
      " 41%|███████████████████████████████                                            | 414/1000 [6:31:17<9:28:49, 58.24s/it]"
     ]
    },
    {
     "name": "stdout",
     "output_type": "stream",
     "text": [
      "[INFO] [2021-11-17 04:37:13,814] [OpenBox-Shadan] Iteration 415, objective value: [7.522567872830365].\n"
     ]
    },
    {
     "name": "stderr",
     "output_type": "stream",
     "text": [
      "\r",
      " 42%|███████████████████████████████▏                                           | 415/1000 [6:32:12<9:18:41, 57.30s/it]"
     ]
    },
    {
     "name": "stdout",
     "output_type": "stream",
     "text": [
      "[INFO] [2021-11-17 04:38:06,925] [OpenBox-Shadan] Iteration 416, objective value: [1.395327228705085].\n"
     ]
    },
    {
     "name": "stderr",
     "output_type": "stream",
     "text": [
      "\r",
      " 42%|███████████████████████████████▏                                           | 416/1000 [6:33:05<9:05:29, 56.04s/it]"
     ]
    },
    {
     "name": "stdout",
     "output_type": "stream",
     "text": [
      "[INFO] [2021-11-17 04:38:58,437] [OpenBox-Shadan] Iteration 417, objective value: [6.728306423306222].\n"
     ]
    },
    {
     "name": "stderr",
     "output_type": "stream",
     "text": [
      "\r",
      " 42%|███████████████████████████████▎                                           | 417/1000 [6:33:57<8:51:21, 54.68s/it]"
     ]
    },
    {
     "name": "stdout",
     "output_type": "stream",
     "text": [
      "[INFO] [2021-11-17 04:39:54,931] [OpenBox-Shadan] Iteration 418, objective value: [7.869633797555963].\n"
     ]
    },
    {
     "name": "stderr",
     "output_type": "stream",
     "text": [
      "\r",
      " 42%|███████████████████████████████▎                                           | 418/1000 [6:34:53<8:55:42, 55.23s/it]"
     ]
    },
    {
     "name": "stdout",
     "output_type": "stream",
     "text": [
      "[INFO] [2021-11-17 04:40:45,398] [OpenBox-Shadan] Iteration 419, objective value: [7.036310281378405].\n"
     ]
    },
    {
     "name": "stderr",
     "output_type": "stream",
     "text": [
      "\r",
      " 42%|███████████████████████████████▍                                           | 419/1000 [6:35:44<8:40:57, 53.80s/it]"
     ]
    },
    {
     "name": "stdout",
     "output_type": "stream",
     "text": [
      "[INFO] [2021-11-17 04:41:44,276] [OpenBox-Shadan] Iteration 420, objective value: [21.53949746311629].\n"
     ]
    },
    {
     "name": "stderr",
     "output_type": "stream",
     "text": [
      "\r",
      " 42%|███████████████████████████████▌                                           | 420/1000 [6:36:42<8:54:47, 55.32s/it]"
     ]
    },
    {
     "name": "stdout",
     "output_type": "stream",
     "text": [
      "[INFO] [2021-11-17 04:42:36,488] [OpenBox-Shadan] Iteration 421, objective value: [6.9864218180411655].\n"
     ]
    },
    {
     "name": "stderr",
     "output_type": "stream",
     "text": [
      "\r",
      " 42%|███████████████████████████████▌                                           | 421/1000 [6:37:35<8:44:51, 54.39s/it]"
     ]
    },
    {
     "name": "stdout",
     "output_type": "stream",
     "text": [
      "[INFO] [2021-11-17 04:43:33,872] [OpenBox-Shadan] Iteration 422, objective value: [33.387680847232645].\n"
     ]
    },
    {
     "name": "stderr",
     "output_type": "stream",
     "text": [
      "\r",
      " 42%|███████████████████████████████▋                                           | 422/1000 [6:38:32<8:52:36, 55.29s/it]"
     ]
    },
    {
     "name": "stdout",
     "output_type": "stream",
     "text": [
      "[INFO] [2021-11-17 04:44:26,145] [OpenBox-Shadan] Iteration 423, objective value: [7.234967558655313].\n"
     ]
    },
    {
     "name": "stderr",
     "output_type": "stream",
     "text": [
      "\r",
      " 42%|███████████████████████████████▋                                           | 423/1000 [6:39:24<8:42:59, 54.38s/it]"
     ]
    },
    {
     "name": "stdout",
     "output_type": "stream",
     "text": [
      "[INFO] [2021-11-17 04:45:23,284] [OpenBox-Shadan] Iteration 424, objective value: [51.451830613463876].\n"
     ]
    },
    {
     "name": "stderr",
     "output_type": "stream",
     "text": [
      "\r",
      " 42%|███████████████████████████████▊                                           | 424/1000 [6:40:21<8:50:01, 55.21s/it]"
     ]
    },
    {
     "name": "stdout",
     "output_type": "stream",
     "text": [
      "[INFO] [2021-11-17 04:46:15,507] [OpenBox-Shadan] Iteration 425, objective value: [6.560775331354023].\n"
     ]
    },
    {
     "name": "stderr",
     "output_type": "stream",
     "text": [
      "\r",
      " 42%|███████████████████████████████▉                                           | 425/1000 [6:41:14<8:40:30, 54.31s/it]"
     ]
    },
    {
     "name": "stdout",
     "output_type": "stream",
     "text": [
      "[INFO] [2021-11-17 04:47:08,960] [OpenBox-Shadan] Iteration 426, objective value: [29.95699829462731].\n"
     ]
    },
    {
     "name": "stderr",
     "output_type": "stream",
     "text": [
      "\r",
      " 43%|███████████████████████████████▉                                           | 426/1000 [6:42:07<8:37:07, 54.06s/it]"
     ]
    },
    {
     "name": "stdout",
     "output_type": "stream",
     "text": [
      "[INFO] [2021-11-17 04:48:03,572] [OpenBox-Shadan] Iteration 427, objective value: [7.947855662750797].\n"
     ]
    },
    {
     "name": "stderr",
     "output_type": "stream",
     "text": [
      "\r",
      " 43%|████████████████████████████████                                           | 427/1000 [6:43:02<8:37:49, 54.22s/it]"
     ]
    },
    {
     "name": "stdout",
     "output_type": "stream",
     "text": [
      "[INFO] [2021-11-17 04:49:02,148] [OpenBox-Shadan] Iteration 428, objective value: [17.895148390336743].\n"
     ]
    },
    {
     "name": "stderr",
     "output_type": "stream",
     "text": [
      "\r",
      " 43%|████████████████████████████████                                           | 428/1000 [6:44:00<8:49:22, 55.53s/it]"
     ]
    },
    {
     "name": "stdout",
     "output_type": "stream",
     "text": [
      "[INFO] [2021-11-17 04:50:05,985] [OpenBox-Shadan] Iteration 429, objective value: [31.886542793041144].\n"
     ]
    },
    {
     "name": "stderr",
     "output_type": "stream",
     "text": [
      "\r",
      " 43%|████████████████████████████████▏                                          | 429/1000 [6:45:04<9:12:10, 58.02s/it]"
     ]
    },
    {
     "name": "stdout",
     "output_type": "stream",
     "text": [
      "[INFO] [2021-11-17 04:50:59,340] [OpenBox-Shadan] Iteration 430, objective value: [3.3684040381790794].\n"
     ]
    },
    {
     "name": "stderr",
     "output_type": "stream",
     "text": [
      "\r",
      " 43%|████████████████████████████████▎                                          | 430/1000 [6:45:58<8:57:54, 56.62s/it]"
     ]
    },
    {
     "name": "stdout",
     "output_type": "stream",
     "text": [
      "[INFO] [2021-11-17 04:51:55,794] [OpenBox-Shadan] Iteration 431, objective value: [13.11291047073479].\n"
     ]
    },
    {
     "name": "stderr",
     "output_type": "stream",
     "text": [
      "\r",
      " 43%|████████████████████████████████▎                                          | 431/1000 [6:46:54<8:56:28, 56.57s/it]"
     ]
    },
    {
     "name": "stdout",
     "output_type": "stream",
     "text": [
      "[INFO] [2021-11-17 04:52:50,253] [OpenBox-Shadan] Iteration 432, objective value: [23.942100600901185].\n"
     ]
    },
    {
     "name": "stderr",
     "output_type": "stream",
     "text": [
      "\r",
      " 43%|████████████████████████████████▍                                          | 432/1000 [6:47:48<8:49:32, 55.94s/it]"
     ]
    },
    {
     "name": "stdout",
     "output_type": "stream",
     "text": [
      "[INFO] [2021-11-17 04:53:47,994] [OpenBox-Shadan] Iteration 433, objective value: [13.647018565155136].\n"
     ]
    },
    {
     "name": "stderr",
     "output_type": "stream",
     "text": [
      "\r",
      " 43%|████████████████████████████████▍                                          | 433/1000 [6:48:46<8:53:43, 56.48s/it]"
     ]
    },
    {
     "name": "stdout",
     "output_type": "stream",
     "text": [
      "[INFO] [2021-11-17 04:54:46,683] [OpenBox-Shadan] Iteration 434, objective value: [14.971521673473106].\n"
     ]
    },
    {
     "name": "stderr",
     "output_type": "stream",
     "text": [
      "\r",
      " 43%|████████████████████████████████▌                                          | 434/1000 [6:49:45<8:59:02, 57.14s/it]"
     ]
    },
    {
     "name": "stdout",
     "output_type": "stream",
     "text": [
      "[INFO] [2021-11-17 04:55:42,653] [OpenBox-Shadan] Iteration 435, objective value: [9.211308916494772].\n"
     ]
    },
    {
     "name": "stderr",
     "output_type": "stream",
     "text": [
      "\r",
      " 44%|████████████████████████████████▋                                          | 435/1000 [6:50:41<8:54:46, 56.79s/it]"
     ]
    },
    {
     "name": "stdout",
     "output_type": "stream",
     "text": [
      "[INFO] [2021-11-17 04:56:40,494] [OpenBox-Shadan] Iteration 436, objective value: [27.949489158746687].\n"
     ]
    },
    {
     "name": "stderr",
     "output_type": "stream",
     "text": [
      "\r",
      " 44%|████████████████████████████████▋                                          | 436/1000 [6:51:39<8:56:47, 57.11s/it]"
     ]
    },
    {
     "name": "stdout",
     "output_type": "stream",
     "text": [
      "[INFO] [2021-11-17 04:57:30,436] [OpenBox-Shadan] Iteration 437, objective value: [4.597490548289741].\n"
     ]
    },
    {
     "name": "stderr",
     "output_type": "stream",
     "text": [
      "\r",
      " 44%|████████████████████████████████▊                                          | 437/1000 [6:52:29<8:35:40, 54.96s/it]"
     ]
    },
    {
     "name": "stdout",
     "output_type": "stream",
     "text": [
      "[INFO] [2021-11-17 04:58:23,736] [OpenBox-Shadan] Iteration 438, objective value: [7.569443418598283].\n"
     ]
    },
    {
     "name": "stderr",
     "output_type": "stream",
     "text": [
      "\r",
      " 44%|████████████████████████████████▊                                          | 438/1000 [6:53:22<8:30:06, 54.46s/it]"
     ]
    },
    {
     "name": "stdout",
     "output_type": "stream",
     "text": [
      "[INFO] [2021-11-17 04:59:13,897] [OpenBox-Shadan] Iteration 439, objective value: [9.251673652297669].\n"
     ]
    },
    {
     "name": "stderr",
     "output_type": "stream",
     "text": [
      "\r",
      " 44%|████████████████████████████████▉                                          | 439/1000 [6:54:12<8:17:08, 53.17s/it]"
     ]
    },
    {
     "name": "stdout",
     "output_type": "stream",
     "text": [
      "[INFO] [2021-11-17 05:00:10,892] [OpenBox-Shadan] Iteration 440, objective value: [31.462338047055482].\n"
     ]
    },
    {
     "name": "stderr",
     "output_type": "stream",
     "text": [
      "\r",
      " 44%|█████████████████████████████████                                          | 440/1000 [6:55:09<8:26:57, 54.32s/it]"
     ]
    },
    {
     "name": "stdout",
     "output_type": "stream",
     "text": [
      "[INFO] [2021-11-17 05:01:02,963] [OpenBox-Shadan] Iteration 441, objective value: [3.5844344016401095].\n"
     ]
    },
    {
     "name": "stderr",
     "output_type": "stream",
     "text": [
      "\r",
      " 44%|█████████████████████████████████                                          | 441/1000 [6:56:01<8:19:46, 53.64s/it]"
     ]
    },
    {
     "name": "stdout",
     "output_type": "stream",
     "text": [
      "[INFO] [2021-11-17 05:01:52,450] [OpenBox-Shadan] Iteration 442, objective value: [4.860080525850179].\n"
     ]
    },
    {
     "name": "stderr",
     "output_type": "stream",
     "text": [
      "\r",
      " 44%|█████████████████████████████████▏                                         | 442/1000 [6:56:51<8:07:17, 52.40s/it]"
     ]
    },
    {
     "name": "stdout",
     "output_type": "stream",
     "text": [
      "[INFO] [2021-11-17 05:02:50,174] [OpenBox-Shadan] Iteration 443, objective value: [29.931116265968612].\n"
     ]
    },
    {
     "name": "stderr",
     "output_type": "stream",
     "text": [
      "\r",
      " 44%|█████████████████████████████████▏                                         | 443/1000 [6:57:48<8:21:14, 53.99s/it]"
     ]
    },
    {
     "name": "stdout",
     "output_type": "stream",
     "text": [
      "[INFO] [2021-11-17 05:03:43,302] [OpenBox-Shadan] Iteration 444, objective value: [7.724308227423506].\n"
     ]
    },
    {
     "name": "stderr",
     "output_type": "stream",
     "text": [
      "\r",
      " 44%|█████████████████████████████████▎                                         | 444/1000 [6:58:41<8:17:56, 53.73s/it]"
     ]
    },
    {
     "name": "stdout",
     "output_type": "stream",
     "text": [
      "[INFO] [2021-11-17 05:04:32,185] [OpenBox-Shadan] Iteration 445, objective value: [4.222051524684886].\n"
     ]
    },
    {
     "name": "stderr",
     "output_type": "stream",
     "text": [
      "\r",
      " 44%|█████████████████████████████████▍                                         | 445/1000 [6:59:30<8:03:35, 52.28s/it]"
     ]
    },
    {
     "name": "stdout",
     "output_type": "stream",
     "text": [
      "[INFO] [2021-11-17 05:05:24,070] [OpenBox-Shadan] Iteration 446, objective value: [4.171391317225925].\n"
     ]
    },
    {
     "name": "stderr",
     "output_type": "stream",
     "text": [
      "\r",
      " 45%|█████████████████████████████████▍                                         | 446/1000 [7:00:22<8:01:37, 52.16s/it]"
     ]
    },
    {
     "name": "stdout",
     "output_type": "stream",
     "text": [
      "[INFO] [2021-11-17 05:06:15,350] [OpenBox-Shadan] Iteration 447, objective value: [6.638052578608651].\n"
     ]
    },
    {
     "name": "stderr",
     "output_type": "stream",
     "text": [
      "\r",
      " 45%|█████████████████████████████████▌                                         | 447/1000 [7:01:14<7:58:18, 51.90s/it]"
     ]
    },
    {
     "name": "stdout",
     "output_type": "stream",
     "text": [
      "[INFO] [2021-11-17 05:07:09,268] [OpenBox-Shadan] Iteration 448, objective value: [17.5741744947713].\n"
     ]
    },
    {
     "name": "stderr",
     "output_type": "stream",
     "text": [
      "\r",
      " 45%|█████████████████████████████████▌                                         | 448/1000 [7:02:07<8:03:01, 52.50s/it]"
     ]
    },
    {
     "name": "stdout",
     "output_type": "stream",
     "text": [
      "[INFO] [2021-11-17 05:08:00,632] [OpenBox-Shadan] Iteration 449, objective value: [10.407494554604298].\n"
     ]
    },
    {
     "name": "stderr",
     "output_type": "stream",
     "text": [
      "\r",
      " 45%|█████████████████████████████████▋                                         | 449/1000 [7:02:59<7:59:01, 52.16s/it]"
     ]
    },
    {
     "name": "stdout",
     "output_type": "stream",
     "text": [
      "[INFO] [2021-11-17 05:08:52,977] [OpenBox-Shadan] Iteration 450, objective value: [31.047547834304837].\n"
     ]
    },
    {
     "name": "stderr",
     "output_type": "stream",
     "text": [
      "\r",
      " 45%|█████████████████████████████████▊                                         | 450/1000 [7:03:51<7:58:39, 52.22s/it]"
     ]
    },
    {
     "name": "stdout",
     "output_type": "stream",
     "text": [
      "[INFO] [2021-11-17 05:09:47,338] [OpenBox-Shadan] Iteration 451, objective value: [3.034896781391325].\n"
     ]
    },
    {
     "name": "stderr",
     "output_type": "stream",
     "text": [
      "\r",
      " 45%|█████████████████████████████████▊                                         | 451/1000 [7:04:46<8:03:40, 52.86s/it]"
     ]
    },
    {
     "name": "stdout",
     "output_type": "stream",
     "text": [
      "[INFO] [2021-11-17 05:10:41,771] [OpenBox-Shadan] Iteration 452, objective value: [8.084549286280065].\n"
     ]
    },
    {
     "name": "stderr",
     "output_type": "stream",
     "text": [
      "\r",
      " 45%|█████████████████████████████████▉                                         | 452/1000 [7:05:40<8:07:05, 53.33s/it]"
     ]
    },
    {
     "name": "stdout",
     "output_type": "stream",
     "text": [
      "[INFO] [2021-11-17 05:11:36,386] [OpenBox-Shadan] Iteration 453, objective value: [7.738713545039545].\n"
     ]
    },
    {
     "name": "stderr",
     "output_type": "stream",
     "text": [
      "\r",
      " 45%|█████████████████████████████████▉                                         | 453/1000 [7:06:35<8:09:43, 53.72s/it]"
     ]
    },
    {
     "name": "stdout",
     "output_type": "stream",
     "text": [
      "[INFO] [2021-11-17 05:12:27,747] [OpenBox-Shadan] Iteration 454, objective value: [11.235187825650186].\n"
     ]
    },
    {
     "name": "stderr",
     "output_type": "stream",
     "text": [
      "\r",
      " 45%|██████████████████████████████████                                         | 454/1000 [7:07:26<8:02:23, 53.01s/it]"
     ]
    },
    {
     "name": "stdout",
     "output_type": "stream",
     "text": [
      "[INFO] [2021-11-17 05:13:19,305] [OpenBox-Shadan] Iteration 455, objective value: [2.8107351743463624].\n"
     ]
    },
    {
     "name": "stderr",
     "output_type": "stream",
     "text": [
      "\r",
      " 46%|██████████████████████████████████▏                                        | 455/1000 [7:08:17<7:57:32, 52.57s/it]"
     ]
    },
    {
     "name": "stdout",
     "output_type": "stream",
     "text": [
      "[INFO] [2021-11-17 05:14:19,613] [OpenBox-Shadan] Iteration 456, objective value: [15.067561495213155].\n"
     ]
    },
    {
     "name": "stderr",
     "output_type": "stream",
     "text": [
      "\r",
      " 46%|██████████████████████████████████▏                                        | 456/1000 [7:09:18<8:17:42, 54.89s/it]"
     ]
    },
    {
     "name": "stdout",
     "output_type": "stream",
     "text": [
      "[INFO] [2021-11-17 05:15:16,517] [OpenBox-Shadan] Iteration 457, objective value: [7.473866488220651].\n"
     ]
    },
    {
     "name": "stderr",
     "output_type": "stream",
     "text": [
      "\r",
      " 46%|██████████████████████████████████▎                                        | 457/1000 [7:10:15<8:22:15, 55.50s/it]"
     ]
    },
    {
     "name": "stdout",
     "output_type": "stream",
     "text": [
      "[INFO] [2021-11-17 05:16:10,508] [OpenBox-Shadan] Iteration 458, objective value: [13.541877907382485].\n"
     ]
    },
    {
     "name": "stderr",
     "output_type": "stream",
     "text": [
      "\r",
      " 46%|██████████████████████████████████▎                                        | 458/1000 [7:11:09<8:17:14, 55.05s/it]"
     ]
    },
    {
     "name": "stdout",
     "output_type": "stream",
     "text": [
      "[INFO] [2021-11-17 05:17:13,095] [OpenBox-Shadan] Iteration 459, objective value: [20.752767844008815].\n"
     ]
    },
    {
     "name": "stderr",
     "output_type": "stream",
     "text": [
      "\r",
      " 46%|██████████████████████████████████▍                                        | 459/1000 [7:12:11<8:36:43, 57.31s/it]"
     ]
    },
    {
     "name": "stdout",
     "output_type": "stream",
     "text": [
      "[INFO] [2021-11-17 05:18:05,054] [OpenBox-Shadan] Iteration 460, objective value: [2.152468487818794].\n"
     ]
    },
    {
     "name": "stderr",
     "output_type": "stream",
     "text": [
      "\r",
      " 46%|██████████████████████████████████▌                                        | 460/1000 [7:13:03<8:21:19, 55.70s/it]"
     ]
    },
    {
     "name": "stdout",
     "output_type": "stream",
     "text": [
      "[INFO] [2021-11-17 05:19:01,134] [OpenBox-Shadan] Iteration 461, objective value: [27.704514578429].\n"
     ]
    },
    {
     "name": "stderr",
     "output_type": "stream",
     "text": [
      "\r",
      " 46%|██████████████████████████████████▌                                        | 461/1000 [7:13:59<8:21:24, 55.82s/it]"
     ]
    },
    {
     "name": "stdout",
     "output_type": "stream",
     "text": [
      "[INFO] [2021-11-17 05:19:51,643] [OpenBox-Shadan] Iteration 462, objective value: [13.739693895016728].\n"
     ]
    },
    {
     "name": "stderr",
     "output_type": "stream",
     "text": [
      "\r",
      " 46%|██████████████████████████████████▋                                        | 462/1000 [7:14:50<8:06:12, 54.22s/it]"
     ]
    },
    {
     "name": "stdout",
     "output_type": "stream",
     "text": [
      "[INFO] [2021-11-17 05:20:45,843] [OpenBox-Shadan] Iteration 463, objective value: [8.47275717839814].\n"
     ]
    },
    {
     "name": "stderr",
     "output_type": "stream",
     "text": [
      "\r",
      " 46%|██████████████████████████████████▋                                        | 463/1000 [7:15:44<8:05:14, 54.22s/it]"
     ]
    },
    {
     "name": "stdout",
     "output_type": "stream",
     "text": [
      "[INFO] [2021-11-17 05:21:43,381] [OpenBox-Shadan] Iteration 464, objective value: [28.994099191297636].\n"
     ]
    },
    {
     "name": "stderr",
     "output_type": "stream",
     "text": [
      "\r",
      " 46%|██████████████████████████████████▊                                        | 464/1000 [7:16:42<8:13:14, 55.21s/it]"
     ]
    },
    {
     "name": "stdout",
     "output_type": "stream",
     "text": [
      "[INFO] [2021-11-17 05:22:37,682] [OpenBox-Shadan] Iteration 465, objective value: [17.912298197441572].\n"
     ]
    },
    {
     "name": "stderr",
     "output_type": "stream",
     "text": [
      "\r",
      " 46%|██████████████████████████████████▉                                        | 465/1000 [7:17:36<8:09:52, 54.94s/it]"
     ]
    },
    {
     "name": "stdout",
     "output_type": "stream",
     "text": [
      "[INFO] [2021-11-17 05:23:34,473] [OpenBox-Shadan] Iteration 466, objective value: [27.51795277584887].\n"
     ]
    },
    {
     "name": "stderr",
     "output_type": "stream",
     "text": [
      "\r",
      " 47%|██████████████████████████████████▉                                        | 466/1000 [7:18:33<8:13:54, 55.50s/it]"
     ]
    },
    {
     "name": "stdout",
     "output_type": "stream",
     "text": [
      "[INFO] [2021-11-17 05:24:26,788] [OpenBox-Shadan] Iteration 467, objective value: [11.931210282961956].\n"
     ]
    },
    {
     "name": "stderr",
     "output_type": "stream",
     "text": [
      "\r",
      " 47%|███████████████████████████████████                                        | 467/1000 [7:19:25<8:04:30, 54.54s/it]"
     ]
    },
    {
     "name": "stdout",
     "output_type": "stream",
     "text": [
      "[INFO] [2021-11-17 05:25:22,819] [OpenBox-Shadan] Iteration 468, objective value: [49.62654075871649].\n"
     ]
    },
    {
     "name": "stderr",
     "output_type": "stream",
     "text": [
      "\r",
      " 47%|███████████████████████████████████                                        | 468/1000 [7:20:21<8:07:33, 54.99s/it]"
     ]
    },
    {
     "name": "stdout",
     "output_type": "stream",
     "text": [
      "[INFO] [2021-11-17 05:26:13,982] [OpenBox-Shadan] Iteration 469, objective value: [6.092307504778802].\n"
     ]
    },
    {
     "name": "stderr",
     "output_type": "stream",
     "text": [
      "\r",
      " 47%|███████████████████████████████████▏                                       | 469/1000 [7:21:12<7:56:29, 53.84s/it]"
     ]
    },
    {
     "name": "stdout",
     "output_type": "stream",
     "text": [
      "[INFO] [2021-11-17 05:27:03,864] [OpenBox-Shadan] Iteration 470, objective value: [5.538289230703896].\n"
     ]
    },
    {
     "name": "stderr",
     "output_type": "stream",
     "text": [
      "\r",
      " 47%|███████████████████████████████████▎                                       | 470/1000 [7:22:02<7:45:06, 52.65s/it]"
     ]
    },
    {
     "name": "stdout",
     "output_type": "stream",
     "text": [
      "[INFO] [2021-11-17 05:27:57,063] [OpenBox-Shadan] Iteration 471, objective value: [5.084880029663964].\n"
     ]
    },
    {
     "name": "stderr",
     "output_type": "stream",
     "text": [
      "\r",
      " 47%|███████████████████████████████████▎                                       | 471/1000 [7:22:55<7:45:40, 52.82s/it]"
     ]
    },
    {
     "name": "stdout",
     "output_type": "stream",
     "text": [
      "[INFO] [2021-11-17 05:28:49,363] [OpenBox-Shadan] Iteration 472, objective value: [2.248178553162788].\n"
     ]
    },
    {
     "name": "stderr",
     "output_type": "stream",
     "text": [
      "\r",
      " 47%|███████████████████████████████████▍                                       | 472/1000 [7:23:48<7:43:25, 52.66s/it]"
     ]
    },
    {
     "name": "stdout",
     "output_type": "stream",
     "text": [
      "[INFO] [2021-11-17 05:29:41,080] [OpenBox-Shadan] Iteration 473, objective value: [1.9775737009711065].\n"
     ]
    },
    {
     "name": "stderr",
     "output_type": "stream",
     "text": [
      "\r",
      " 47%|███████████████████████████████████▍                                       | 473/1000 [7:24:39<7:40:03, 52.38s/it]"
     ]
    },
    {
     "name": "stdout",
     "output_type": "stream",
     "text": [
      "[INFO] [2021-11-17 05:30:34,867] [OpenBox-Shadan] Iteration 474, objective value: [16.195364839815042].\n"
     ]
    },
    {
     "name": "stderr",
     "output_type": "stream",
     "text": [
      "\r",
      " 47%|███████████████████████████████████▌                                       | 474/1000 [7:25:33<7:42:53, 52.80s/it]"
     ]
    },
    {
     "name": "stdout",
     "output_type": "stream",
     "text": [
      "[INFO] [2021-11-17 05:31:30,369] [OpenBox-Shadan] Iteration 475, objective value: [9.226982480187317].\n"
     ]
    },
    {
     "name": "stderr",
     "output_type": "stream",
     "text": [
      "\r",
      " 48%|███████████████████████████████████▋                                       | 475/1000 [7:26:29<7:49:05, 53.61s/it]"
     ]
    },
    {
     "name": "stdout",
     "output_type": "stream",
     "text": [
      "[INFO] [2021-11-17 05:32:25,459] [OpenBox-Shadan] Iteration 476, objective value: [7.954349984619014].\n"
     ]
    },
    {
     "name": "stderr",
     "output_type": "stream",
     "text": [
      "\r",
      " 48%|███████████████████████████████████▋                                       | 476/1000 [7:27:24<7:52:04, 54.05s/it]"
     ]
    },
    {
     "name": "stdout",
     "output_type": "stream",
     "text": [
      "[INFO] [2021-11-17 05:33:21,366] [OpenBox-Shadan] Iteration 477, objective value: [19.160916865133757].\n"
     ]
    },
    {
     "name": "stderr",
     "output_type": "stream",
     "text": [
      "\r",
      " 48%|███████████████████████████████████▊                                       | 477/1000 [7:28:20<7:56:01, 54.61s/it]"
     ]
    },
    {
     "name": "stdout",
     "output_type": "stream",
     "text": [
      "[INFO] [2021-11-17 05:34:15,789] [OpenBox-Shadan] Iteration 478, objective value: [10.463694777244683].\n"
     ]
    },
    {
     "name": "stderr",
     "output_type": "stream",
     "text": [
      "\r",
      " 48%|███████████████████████████████████▊                                       | 478/1000 [7:29:14<7:54:37, 54.55s/it]"
     ]
    },
    {
     "name": "stdout",
     "output_type": "stream",
     "text": [
      "[INFO] [2021-11-17 05:35:10,368] [OpenBox-Shadan] Iteration 479, objective value: [9.312550316877974].\n"
     ]
    },
    {
     "name": "stderr",
     "output_type": "stream",
     "text": [
      "\r",
      " 48%|███████████████████████████████████▉                                       | 479/1000 [7:30:09<7:53:46, 54.56s/it]"
     ]
    },
    {
     "name": "stdout",
     "output_type": "stream",
     "text": [
      "[INFO] [2021-11-17 05:35:58,377] [OpenBox-Shadan] Iteration 480, objective value: [26.627920785805586].\n"
     ]
    },
    {
     "name": "stderr",
     "output_type": "stream",
     "text": [
      "\r",
      " 48%|████████████████████████████████████                                       | 480/1000 [7:30:57<7:35:49, 52.60s/it]"
     ]
    },
    {
     "name": "stdout",
     "output_type": "stream",
     "text": [
      "[INFO] [2021-11-17 05:36:52,146] [OpenBox-Shadan] Iteration 481, objective value: [2.212362545063854].\n"
     ]
    },
    {
     "name": "stderr",
     "output_type": "stream",
     "text": [
      "\r",
      " 48%|████████████████████████████████████                                       | 481/1000 [7:31:50<7:37:59, 52.95s/it]"
     ]
    },
    {
     "name": "stdout",
     "output_type": "stream",
     "text": [
      "[INFO] [2021-11-17 05:37:54,290] [OpenBox-Shadan] Iteration 482, objective value: [22.93263182444221].\n"
     ]
    },
    {
     "name": "stderr",
     "output_type": "stream",
     "text": [
      "\r",
      " 48%|████████████████████████████████████▏                                      | 482/1000 [7:32:52<8:00:55, 55.71s/it]"
     ]
    },
    {
     "name": "stdout",
     "output_type": "stream",
     "text": [
      "[INFO] [2021-11-17 05:38:44,351] [OpenBox-Shadan] Iteration 483, objective value: [5.9546331652803275].\n"
     ]
    },
    {
     "name": "stderr",
     "output_type": "stream",
     "text": [
      "\r",
      " 48%|████████████████████████████████████▏                                      | 483/1000 [7:33:43<7:45:24, 54.01s/it]"
     ]
    },
    {
     "name": "stdout",
     "output_type": "stream",
     "text": [
      "[INFO] [2021-11-17 05:39:39,461] [OpenBox-Shadan] Iteration 484, objective value: [16.05687478939622].\n"
     ]
    },
    {
     "name": "stderr",
     "output_type": "stream",
     "text": [
      "\r",
      " 48%|████████████████████████████████████▎                                      | 484/1000 [7:34:38<7:47:20, 54.34s/it]"
     ]
    },
    {
     "name": "stdout",
     "output_type": "stream",
     "text": [
      "[INFO] [2021-11-17 05:40:32,628] [OpenBox-Shadan] Iteration 485, objective value: [11.564123629615636].\n"
     ]
    },
    {
     "name": "stderr",
     "output_type": "stream",
     "text": [
      "\r",
      " 48%|████████████████████████████████████▍                                      | 485/1000 [7:35:31<7:43:24, 53.99s/it]"
     ]
    },
    {
     "name": "stdout",
     "output_type": "stream",
     "text": [
      "[INFO] [2021-11-17 05:41:20,790] [OpenBox-Shadan] Iteration 486, objective value: [35.501533073536976].\n"
     ]
    },
    {
     "name": "stderr",
     "output_type": "stream",
     "text": [
      "\r",
      " 49%|████████████████████████████████████▍                                      | 486/1000 [7:36:19<7:27:31, 52.24s/it]"
     ]
    },
    {
     "name": "stdout",
     "output_type": "stream",
     "text": [
      "[INFO] [2021-11-17 05:42:16,302] [OpenBox-Shadan] Iteration 487, objective value: [7.0989434232493664].\n"
     ]
    },
    {
     "name": "stderr",
     "output_type": "stream",
     "text": [
      "\r",
      " 49%|████████████████████████████████████▌                                      | 487/1000 [7:37:14<7:35:03, 53.22s/it]"
     ]
    },
    {
     "name": "stdout",
     "output_type": "stream",
     "text": [
      "[INFO] [2021-11-17 05:43:05,505] [OpenBox-Shadan] Iteration 488, objective value: [2.6912204471526877].\n"
     ]
    },
    {
     "name": "stderr",
     "output_type": "stream",
     "text": [
      "\r",
      " 49%|████████████████████████████████████▌                                      | 488/1000 [7:38:04<7:23:52, 52.02s/it]"
     ]
    },
    {
     "name": "stdout",
     "output_type": "stream",
     "text": [
      "[INFO] [2021-11-17 05:43:55,969] [OpenBox-Shadan] Iteration 489, objective value: [20.677349186640626].\n"
     ]
    },
    {
     "name": "stderr",
     "output_type": "stream",
     "text": [
      "\r",
      " 49%|████████████████████████████████████▋                                      | 489/1000 [7:38:54<7:19:02, 51.55s/it]"
     ]
    },
    {
     "name": "stdout",
     "output_type": "stream",
     "text": [
      "[INFO] [2021-11-17 05:44:51,041] [OpenBox-Shadan] Iteration 490, objective value: [7.744410750012008].\n"
     ]
    },
    {
     "name": "stderr",
     "output_type": "stream",
     "text": [
      "\r",
      " 49%|████████████████████████████████████▊                                      | 490/1000 [7:39:49<7:27:09, 52.61s/it]"
     ]
    },
    {
     "name": "stdout",
     "output_type": "stream",
     "text": [
      "[INFO] [2021-11-17 05:45:44,972] [OpenBox-Shadan] Iteration 491, objective value: [31.676142479370625].\n"
     ]
    },
    {
     "name": "stderr",
     "output_type": "stream",
     "text": [
      "\r",
      " 49%|████████████████████████████████████▊                                      | 491/1000 [7:40:43<7:29:39, 53.00s/it]"
     ]
    },
    {
     "name": "stdout",
     "output_type": "stream",
     "text": [
      "[INFO] [2021-11-17 05:46:30,587] [OpenBox-Shadan] Iteration 492, objective value: [14.94515239507038].\n"
     ]
    },
    {
     "name": "stderr",
     "output_type": "stream",
     "text": [
      "\r",
      " 49%|████████████████████████████████████▉                                      | 492/1000 [7:41:29<7:10:00, 50.79s/it]"
     ]
    },
    {
     "name": "stdout",
     "output_type": "stream",
     "text": [
      "[INFO] [2021-11-17 05:47:21,620] [OpenBox-Shadan] Iteration 493, objective value: [9.787960365551896].\n"
     ]
    },
    {
     "name": "stderr",
     "output_type": "stream",
     "text": [
      "\r",
      " 49%|████████████████████████████████████▉                                      | 493/1000 [7:42:20<7:09:46, 50.86s/it]"
     ]
    },
    {
     "name": "stdout",
     "output_type": "stream",
     "text": [
      "[INFO] [2021-11-17 05:48:16,103] [OpenBox-Shadan] Iteration 494, objective value: [17.304032868121027].\n"
     ]
    },
    {
     "name": "stderr",
     "output_type": "stream",
     "text": [
      "\r",
      " 49%|█████████████████████████████████████                                      | 494/1000 [7:43:14<7:18:05, 51.95s/it]"
     ]
    },
    {
     "name": "stdout",
     "output_type": "stream",
     "text": [
      "[INFO] [2021-11-17 05:49:07,466] [OpenBox-Shadan] Iteration 495, objective value: [8.737786883136309].\n"
     ]
    },
    {
     "name": "stderr",
     "output_type": "stream",
     "text": [
      "\r",
      " 50%|█████████████████████████████████████▏                                     | 495/1000 [7:44:06<7:15:45, 51.77s/it]"
     ]
    },
    {
     "name": "stdout",
     "output_type": "stream",
     "text": [
      "[INFO] [2021-11-17 05:49:59,710] [OpenBox-Shadan] Iteration 496, objective value: [12.396880895027593].\n"
     ]
    },
    {
     "name": "stderr",
     "output_type": "stream",
     "text": [
      "\r",
      " 50%|█████████████████████████████████████▏                                     | 496/1000 [7:44:58<7:16:04, 51.91s/it]"
     ]
    },
    {
     "name": "stdout",
     "output_type": "stream",
     "text": [
      "[INFO] [2021-11-17 05:50:50,533] [OpenBox-Shadan] Iteration 497, objective value: [6.603779808673082].\n"
     ]
    },
    {
     "name": "stderr",
     "output_type": "stream",
     "text": [
      "\r",
      " 50%|█████████████████████████████████████▎                                     | 497/1000 [7:45:49<7:12:28, 51.59s/it]"
     ]
    },
    {
     "name": "stdout",
     "output_type": "stream",
     "text": [
      "[INFO] [2021-11-17 05:51:39,704] [OpenBox-Shadan] Iteration 498, objective value: [25.748117722475115].\n"
     ]
    },
    {
     "name": "stderr",
     "output_type": "stream",
     "text": [
      "\r",
      " 50%|█████████████████████████████████████▎                                     | 498/1000 [7:46:38<7:05:32, 50.86s/it]"
     ]
    },
    {
     "name": "stdout",
     "output_type": "stream",
     "text": [
      "[INFO] [2021-11-17 05:52:36,671] [OpenBox-Shadan] Iteration 499, objective value: [10.381136540421153].\n"
     ]
    },
    {
     "name": "stderr",
     "output_type": "stream",
     "text": [
      "\r",
      " 50%|█████████████████████████████████████▍                                     | 499/1000 [7:47:35<7:19:59, 52.69s/it]"
     ]
    },
    {
     "name": "stdout",
     "output_type": "stream",
     "text": [
      "[INFO] [2021-11-17 05:53:30,884] [OpenBox-Shadan] Iteration 500, objective value: [4.719747670966555].\n"
     ]
    },
    {
     "name": "stderr",
     "output_type": "stream",
     "text": [
      "\r",
      " 50%|█████████████████████████████████████▌                                     | 500/1000 [7:48:29<7:22:54, 53.15s/it]"
     ]
    },
    {
     "name": "stdout",
     "output_type": "stream",
     "text": [
      "[INFO] [2021-11-17 05:54:24,622] [OpenBox-Shadan] Iteration 501, objective value: [4.737572333469657].\n"
     ]
    },
    {
     "name": "stderr",
     "output_type": "stream",
     "text": [
      "\r",
      " 50%|█████████████████████████████████████▌                                     | 501/1000 [7:49:23<7:23:29, 53.33s/it]"
     ]
    },
    {
     "name": "stdout",
     "output_type": "stream",
     "text": [
      "[INFO] [2021-11-17 05:55:22,395] [OpenBox-Shadan] Iteration 502, objective value: [18.077201907007208].\n"
     ]
    },
    {
     "name": "stderr",
     "output_type": "stream",
     "text": [
      "\r",
      " 50%|█████████████████████████████████████▋                                     | 502/1000 [7:50:21<7:33:40, 54.66s/it]"
     ]
    },
    {
     "name": "stdout",
     "output_type": "stream",
     "text": [
      "[INFO] [2021-11-17 05:56:20,491] [OpenBox-Shadan] Iteration 503, objective value: [16.14322433675038].\n"
     ]
    },
    {
     "name": "stderr",
     "output_type": "stream",
     "text": [
      "\r",
      " 50%|█████████████████████████████████████▋                                     | 503/1000 [7:51:19<7:41:18, 55.69s/it]"
     ]
    },
    {
     "name": "stdout",
     "output_type": "stream",
     "text": [
      "[INFO] [2021-11-17 05:57:16,848] [OpenBox-Shadan] Iteration 504, objective value: [22.195655063542546].\n"
     ]
    },
    {
     "name": "stderr",
     "output_type": "stream",
     "text": [
      "\r",
      " 50%|█████████████████████████████████████▊                                     | 504/1000 [7:52:15<7:42:01, 55.89s/it]"
     ]
    },
    {
     "name": "stdout",
     "output_type": "stream",
     "text": [
      "[INFO] [2021-11-17 05:58:07,618] [OpenBox-Shadan] Iteration 505, objective value: [11.233208452606874].\n"
     ]
    },
    {
     "name": "stderr",
     "output_type": "stream",
     "text": [
      "\r",
      " 50%|█████████████████████████████████████▉                                     | 505/1000 [7:53:06<7:28:25, 54.35s/it]"
     ]
    },
    {
     "name": "stdout",
     "output_type": "stream",
     "text": [
      "[INFO] [2021-11-17 05:59:02,003] [OpenBox-Shadan] Iteration 506, objective value: [6.213487370623838].\n"
     ]
    },
    {
     "name": "stderr",
     "output_type": "stream",
     "text": [
      "\r",
      " 51%|█████████████████████████████████████▉                                     | 506/1000 [7:54:00<7:27:35, 54.36s/it]"
     ]
    },
    {
     "name": "stdout",
     "output_type": "stream",
     "text": [
      "[INFO] [2021-11-17 05:59:52,024] [OpenBox-Shadan] Iteration 507, objective value: [1.7248117896707669].\n"
     ]
    },
    {
     "name": "stderr",
     "output_type": "stream",
     "text": [
      "\r",
      " 51%|██████████████████████████████████████                                     | 507/1000 [7:54:50<7:15:59, 53.06s/it]"
     ]
    },
    {
     "name": "stdout",
     "output_type": "stream",
     "text": [
      "[INFO] [2021-11-17 06:00:41,230] [OpenBox-Shadan] Iteration 508, objective value: [51.077903351286245].\n"
     ]
    },
    {
     "name": "stderr",
     "output_type": "stream",
     "text": [
      "\r",
      " 51%|██████████████████████████████████████                                     | 508/1000 [7:55:39<7:05:36, 51.90s/it]"
     ]
    },
    {
     "name": "stdout",
     "output_type": "stream",
     "text": [
      "[INFO] [2021-11-17 06:01:42,362] [OpenBox-Shadan] Iteration 509, objective value: [23.01674062313917].\n"
     ]
    },
    {
     "name": "stderr",
     "output_type": "stream",
     "text": [
      "\r",
      " 51%|██████████████████████████████████████▏                                    | 509/1000 [7:56:41<7:27:24, 54.67s/it]"
     ]
    },
    {
     "name": "stdout",
     "output_type": "stream",
     "text": [
      "[INFO] [2021-11-17 06:02:30,239] [OpenBox-Shadan] Iteration 510, objective value: [40.711531745497254].\n"
     ]
    },
    {
     "name": "stderr",
     "output_type": "stream",
     "text": [
      "\r",
      " 51%|██████████████████████████████████████▎                                    | 510/1000 [7:57:28<7:09:50, 52.63s/it]"
     ]
    },
    {
     "name": "stdout",
     "output_type": "stream",
     "text": [
      "[INFO] [2021-11-17 06:03:19,215] [OpenBox-Shadan] Iteration 511, objective value: [2.69982847767794].\n"
     ]
    },
    {
     "name": "stderr",
     "output_type": "stream",
     "text": [
      "\r",
      " 51%|██████████████████████████████████████▎                                    | 511/1000 [7:58:17<7:00:01, 51.54s/it]"
     ]
    },
    {
     "name": "stdout",
     "output_type": "stream",
     "text": [
      "[INFO] [2021-11-17 06:04:12,450] [OpenBox-Shadan] Iteration 512, objective value: [1.385694931761222].\n"
     ]
    },
    {
     "name": "stderr",
     "output_type": "stream",
     "text": [
      "\r",
      " 51%|██████████████████████████████████████▍                                    | 512/1000 [7:59:11<7:03:18, 52.05s/it]"
     ]
    },
    {
     "name": "stdout",
     "output_type": "stream",
     "text": [
      "[INFO] [2021-11-17 06:05:03,959] [OpenBox-Shadan] Iteration 513, objective value: [27.5448901396486].\n"
     ]
    },
    {
     "name": "stderr",
     "output_type": "stream",
     "text": [
      "\r",
      " 51%|██████████████████████████████████████▍                                    | 513/1000 [8:00:02<7:01:08, 51.89s/it]"
     ]
    },
    {
     "name": "stdout",
     "output_type": "stream",
     "text": [
      "[INFO] [2021-11-17 06:05:56,051] [OpenBox-Shadan] Iteration 514, objective value: [2.5907885844913636].\n"
     ]
    },
    {
     "name": "stderr",
     "output_type": "stream",
     "text": [
      "\r",
      " 51%|██████████████████████████████████████▌                                    | 514/1000 [8:00:54<7:00:46, 51.95s/it]"
     ]
    },
    {
     "name": "stdout",
     "output_type": "stream",
     "text": [
      "[INFO] [2021-11-17 06:06:53,035] [OpenBox-Shadan] Iteration 515, objective value: [27.8159372677365].\n"
     ]
    },
    {
     "name": "stderr",
     "output_type": "stream",
     "text": [
      "\r",
      " 52%|██████████████████████████████████████▋                                    | 515/1000 [8:01:51<7:12:07, 53.46s/it]"
     ]
    },
    {
     "name": "stdout",
     "output_type": "stream",
     "text": [
      "[INFO] [2021-11-17 06:07:43,521] [OpenBox-Shadan] Iteration 516, objective value: [29.42495101925519].\n"
     ]
    },
    {
     "name": "stderr",
     "output_type": "stream",
     "text": [
      "\r",
      " 52%|██████████████████████████████████████▋                                    | 516/1000 [8:02:42<7:04:02, 52.57s/it]"
     ]
    },
    {
     "name": "stdout",
     "output_type": "stream",
     "text": [
      "[INFO] [2021-11-17 06:08:34,021] [OpenBox-Shadan] Iteration 517, objective value: [8.542901715884682].\n"
     ]
    },
    {
     "name": "stderr",
     "output_type": "stream",
     "text": [
      "\r",
      " 52%|██████████████████████████████████████▊                                    | 517/1000 [8:03:32<6:58:10, 51.95s/it]"
     ]
    },
    {
     "name": "stdout",
     "output_type": "stream",
     "text": [
      "[INFO] [2021-11-17 06:09:24,180] [OpenBox-Shadan] Iteration 518, objective value: [5.561124452383098].\n"
     ]
    },
    {
     "name": "stderr",
     "output_type": "stream",
     "text": [
      "\r",
      " 52%|██████████████████████████████████████▊                                    | 518/1000 [8:04:22<6:52:59, 51.41s/it]"
     ]
    },
    {
     "name": "stdout",
     "output_type": "stream",
     "text": [
      "[INFO] [2021-11-17 06:10:13,369] [OpenBox-Shadan] Iteration 519, objective value: [3.6838923425701893].\n"
     ]
    },
    {
     "name": "stderr",
     "output_type": "stream",
     "text": [
      "\r",
      " 52%|██████████████████████████████████████▉                                    | 519/1000 [8:05:12<6:46:47, 50.74s/it]"
     ]
    },
    {
     "name": "stdout",
     "output_type": "stream",
     "text": [
      "[INFO] [2021-11-17 06:11:07,001] [OpenBox-Shadan] Iteration 520, objective value: [4.992210793119895].\n"
     ]
    },
    {
     "name": "stderr",
     "output_type": "stream",
     "text": [
      "\r",
      " 52%|███████████████████████████████████████                                    | 520/1000 [8:06:05<6:52:53, 51.61s/it]"
     ]
    },
    {
     "name": "stdout",
     "output_type": "stream",
     "text": [
      "[INFO] [2021-11-17 06:12:01,755] [OpenBox-Shadan] Iteration 521, objective value: [2.351639613074937].\n"
     ]
    },
    {
     "name": "stderr",
     "output_type": "stream",
     "text": [
      "\r",
      " 52%|███████████████████████████████████████                                    | 521/1000 [8:07:00<6:59:33, 52.55s/it]"
     ]
    },
    {
     "name": "stdout",
     "output_type": "stream",
     "text": [
      "[INFO] [2021-11-17 06:12:52,538] [OpenBox-Shadan] Iteration 522, objective value: [3.777713136141031].\n"
     ]
    },
    {
     "name": "stderr",
     "output_type": "stream",
     "text": [
      "\r",
      " 52%|███████████████████████████████████████▏                                   | 522/1000 [8:07:51<6:54:26, 52.02s/it]"
     ]
    },
    {
     "name": "stdout",
     "output_type": "stream",
     "text": [
      "[INFO] [2021-11-17 06:13:44,361] [OpenBox-Shadan] Iteration 523, objective value: [4.693027769780457].\n"
     ]
    },
    {
     "name": "stderr",
     "output_type": "stream",
     "text": [
      "\r",
      " 52%|███████████████████████████████████████▏                                   | 523/1000 [8:08:43<6:53:06, 51.96s/it]"
     ]
    },
    {
     "name": "stdout",
     "output_type": "stream",
     "text": [
      "[INFO] [2021-11-17 06:14:34,250] [OpenBox-Shadan] Iteration 524, objective value: [1.4950471696695047].\n"
     ]
    },
    {
     "name": "stderr",
     "output_type": "stream",
     "text": [
      "\r",
      " 52%|███████████████████████████████████████▎                                   | 524/1000 [8:09:32<6:47:17, 51.34s/it]"
     ]
    },
    {
     "name": "stdout",
     "output_type": "stream",
     "text": [
      "[INFO] [2021-11-17 06:15:27,530] [OpenBox-Shadan] Iteration 525, objective value: [19.993637871381296].\n"
     ]
    },
    {
     "name": "stderr",
     "output_type": "stream",
     "text": [
      "\r",
      " 52%|███████████████████████████████████████▍                                   | 525/1000 [8:10:26<6:51:03, 51.92s/it]"
     ]
    },
    {
     "name": "stdout",
     "output_type": "stream",
     "text": [
      "[INFO] [2021-11-17 06:16:21,713] [OpenBox-Shadan] Iteration 526, objective value: [1.3341587226757525].\n"
     ]
    },
    {
     "name": "stderr",
     "output_type": "stream",
     "text": [
      "\r",
      " 53%|███████████████████████████████████████▍                                   | 526/1000 [8:11:20<6:55:32, 52.60s/it]"
     ]
    },
    {
     "name": "stdout",
     "output_type": "stream",
     "text": [
      "[INFO] [2021-11-17 06:17:20,089] [OpenBox-Shadan] Iteration 527, objective value: [21.853904142421825].\n"
     ]
    },
    {
     "name": "stderr",
     "output_type": "stream",
     "text": [
      "\r",
      " 53%|███████████████████████████████████████▌                                   | 527/1000 [8:12:18<7:08:19, 54.33s/it]"
     ]
    },
    {
     "name": "stdout",
     "output_type": "stream",
     "text": [
      "[INFO] [2021-11-17 06:18:13,371] [OpenBox-Shadan] Iteration 528, objective value: [9.585762296083118].\n"
     ]
    },
    {
     "name": "stderr",
     "output_type": "stream",
     "text": [
      "\r",
      " 53%|███████████████████████████████████████▌                                   | 528/1000 [8:13:12<7:04:56, 54.02s/it]"
     ]
    },
    {
     "name": "stdout",
     "output_type": "stream",
     "text": [
      "[INFO] [2021-11-17 06:19:14,713] [OpenBox-Shadan] Iteration 529, objective value: [17.934408313498068].\n"
     ]
    },
    {
     "name": "stderr",
     "output_type": "stream",
     "text": [
      "\r",
      " 53%|███████████████████████████████████████▋                                   | 529/1000 [8:14:13<7:21:17, 56.21s/it]"
     ]
    },
    {
     "name": "stdout",
     "output_type": "stream",
     "text": [
      "[INFO] [2021-11-17 06:20:08,024] [OpenBox-Shadan] Iteration 530, objective value: [27.291838611628833].\n"
     ]
    },
    {
     "name": "stderr",
     "output_type": "stream",
     "text": [
      "\r",
      " 53%|███████████████████████████████████████▊                                   | 530/1000 [8:15:06<7:13:31, 55.34s/it]"
     ]
    },
    {
     "name": "stdout",
     "output_type": "stream",
     "text": [
      "[INFO] [2021-11-17 06:21:08,586] [OpenBox-Shadan] Iteration 531, objective value: [27.552824097098707].\n"
     ]
    },
    {
     "name": "stderr",
     "output_type": "stream",
     "text": [
      "\r",
      " 53%|███████████████████████████████████████▊                                   | 531/1000 [8:16:07<7:24:50, 56.91s/it]"
     ]
    },
    {
     "name": "stdout",
     "output_type": "stream",
     "text": [
      "[INFO] [2021-11-17 06:21:55,903] [OpenBox-Shadan] Iteration 532, objective value: [19.175488095542974].\n"
     ]
    },
    {
     "name": "stderr",
     "output_type": "stream",
     "text": [
      "\r",
      " 53%|███████████████████████████████████████▉                                   | 532/1000 [8:16:54<7:01:26, 54.03s/it]"
     ]
    },
    {
     "name": "stdout",
     "output_type": "stream",
     "text": [
      "[INFO] [2021-11-17 06:22:51,112] [OpenBox-Shadan] Iteration 533, objective value: [14.164110648210269].\n"
     ]
    },
    {
     "name": "stderr",
     "output_type": "stream",
     "text": [
      "\r",
      " 53%|███████████████████████████████████████▉                                   | 533/1000 [8:17:49<7:03:17, 54.38s/it]"
     ]
    },
    {
     "name": "stdout",
     "output_type": "stream",
     "text": [
      "[INFO] [2021-11-17 06:23:43,965] [OpenBox-Shadan] Iteration 534, objective value: [5.122387492129761].\n"
     ]
    },
    {
     "name": "stderr",
     "output_type": "stream",
     "text": [
      "\r",
      " 53%|████████████████████████████████████████                                   | 534/1000 [8:18:42<6:58:49, 53.93s/it]"
     ]
    },
    {
     "name": "stdout",
     "output_type": "stream",
     "text": [
      "[INFO] [2021-11-17 06:24:33,947] [OpenBox-Shadan] Iteration 535, objective value: [4.326320978608678].\n"
     ]
    },
    {
     "name": "stderr",
     "output_type": "stream",
     "text": [
      "\r",
      " 54%|████████████████████████████████████████▏                                  | 535/1000 [8:19:32<6:48:45, 52.74s/it]"
     ]
    },
    {
     "name": "stdout",
     "output_type": "stream",
     "text": [
      "[INFO] [2021-11-17 06:25:25,531] [OpenBox-Shadan] Iteration 536, objective value: [9.87401156467655].\n"
     ]
    },
    {
     "name": "stderr",
     "output_type": "stream",
     "text": [
      "\r",
      " 54%|████████████████████████████████████████▏                                  | 536/1000 [8:20:24<6:45:11, 52.39s/it]"
     ]
    },
    {
     "name": "stdout",
     "output_type": "stream",
     "text": [
      "[INFO] [2021-11-17 06:26:19,516] [OpenBox-Shadan] Iteration 537, objective value: [4.404159864327184].\n"
     ]
    },
    {
     "name": "stderr",
     "output_type": "stream",
     "text": [
      "\r",
      " 54%|████████████████████████████████████████▎                                  | 537/1000 [8:21:18<6:47:59, 52.87s/it]"
     ]
    },
    {
     "name": "stdout",
     "output_type": "stream",
     "text": [
      "[INFO] [2021-11-17 06:27:11,986] [OpenBox-Shadan] Iteration 538, objective value: [17.575205756548726].\n"
     ]
    },
    {
     "name": "stderr",
     "output_type": "stream",
     "text": [
      "\r",
      " 54%|████████████████████████████████████████▎                                  | 538/1000 [8:22:10<6:46:11, 52.75s/it]"
     ]
    },
    {
     "name": "stdout",
     "output_type": "stream",
     "text": [
      "[INFO] [2021-11-17 06:28:00,819] [OpenBox-Shadan] Iteration 539, objective value: [17.464054037398952].\n"
     ]
    },
    {
     "name": "stderr",
     "output_type": "stream",
     "text": [
      "\r",
      " 54%|████████████████████████████████████████▍                                  | 539/1000 [8:22:59<6:36:16, 51.58s/it]"
     ]
    },
    {
     "name": "stdout",
     "output_type": "stream",
     "text": [
      "[INFO] [2021-11-17 06:28:52,445] [OpenBox-Shadan] Iteration 540, objective value: [5.983427565274781].\n"
     ]
    },
    {
     "name": "stderr",
     "output_type": "stream",
     "text": [
      "\r",
      " 54%|████████████████████████████████████████▌                                  | 540/1000 [8:23:51<6:35:31, 51.59s/it]"
     ]
    },
    {
     "name": "stdout",
     "output_type": "stream",
     "text": [
      "[INFO] [2021-11-17 06:29:45,274] [OpenBox-Shadan] Iteration 541, objective value: [1.4164587267376305].\n"
     ]
    },
    {
     "name": "stderr",
     "output_type": "stream",
     "text": [
      "\r",
      " 54%|████████████████████████████████████████▌                                  | 541/1000 [8:24:43<6:37:30, 51.96s/it]"
     ]
    },
    {
     "name": "stdout",
     "output_type": "stream",
     "text": [
      "[INFO] [2021-11-17 06:30:40,990] [OpenBox-Shadan] Iteration 542, objective value: [3.4390573744360893].\n"
     ]
    },
    {
     "name": "stderr",
     "output_type": "stream",
     "text": [
      "\r",
      " 54%|████████████████████████████████████████▋                                  | 542/1000 [8:25:39<6:45:14, 53.09s/it]"
     ]
    },
    {
     "name": "stdout",
     "output_type": "stream",
     "text": [
      "[INFO] [2021-11-17 06:31:32,384] [OpenBox-Shadan] Iteration 543, objective value: [8.286532215370727].\n"
     ]
    },
    {
     "name": "stderr",
     "output_type": "stream",
     "text": [
      "\r",
      " 54%|████████████████████████████████████████▋                                  | 543/1000 [8:26:31<6:40:29, 52.58s/it]"
     ]
    },
    {
     "name": "stdout",
     "output_type": "stream",
     "text": [
      "[INFO] [2021-11-17 06:32:27,353] [OpenBox-Shadan] Iteration 544, objective value: [21.025413008231055].\n"
     ]
    },
    {
     "name": "stderr",
     "output_type": "stream",
     "text": [
      "\r",
      " 54%|████████████████████████████████████████▊                                  | 544/1000 [8:27:26<6:45:03, 53.30s/it]"
     ]
    },
    {
     "name": "stdout",
     "output_type": "stream",
     "text": [
      "[INFO] [2021-11-17 06:33:18,545] [OpenBox-Shadan] Iteration 545, objective value: [3.525983729286736].\n"
     ]
    },
    {
     "name": "stderr",
     "output_type": "stream",
     "text": [
      "\r",
      " 55%|████████████████████████████████████████▉                                  | 545/1000 [8:28:17<6:39:22, 52.67s/it]"
     ]
    },
    {
     "name": "stdout",
     "output_type": "stream",
     "text": [
      "[INFO] [2021-11-17 06:34:10,195] [OpenBox-Shadan] Iteration 546, objective value: [20.027485874581203].\n"
     ]
    },
    {
     "name": "stderr",
     "output_type": "stream",
     "text": [
      "\r",
      " 55%|████████████████████████████████████████▉                                  | 546/1000 [8:29:08<6:36:11, 52.36s/it]"
     ]
    },
    {
     "name": "stdout",
     "output_type": "stream",
     "text": [
      "[INFO] [2021-11-17 06:35:00,677] [OpenBox-Shadan] Iteration 547, objective value: [11.329719654774678].\n"
     ]
    },
    {
     "name": "stderr",
     "output_type": "stream",
     "text": [
      "\r",
      " 55%|█████████████████████████████████████████                                  | 547/1000 [8:29:59<6:31:03, 51.80s/it]"
     ]
    },
    {
     "name": "stdout",
     "output_type": "stream",
     "text": [
      "[INFO] [2021-11-17 06:35:53,590] [OpenBox-Shadan] Iteration 548, objective value: [6.1986629075289414].\n"
     ]
    },
    {
     "name": "stderr",
     "output_type": "stream",
     "text": [
      "\r",
      " 55%|█████████████████████████████████████████                                  | 548/1000 [8:30:52<6:32:43, 52.13s/it]"
     ]
    },
    {
     "name": "stdout",
     "output_type": "stream",
     "text": [
      "[INFO] [2021-11-17 06:36:52,451] [OpenBox-Shadan] Iteration 549, objective value: [15.434758833486356].\n"
     ]
    },
    {
     "name": "stderr",
     "output_type": "stream",
     "text": [
      "\r",
      " 55%|█████████████████████████████████████████▏                                 | 549/1000 [8:31:51<6:47:01, 54.15s/it]"
     ]
    },
    {
     "name": "stdout",
     "output_type": "stream",
     "text": [
      "[INFO] [2021-11-17 06:37:48,001] [OpenBox-Shadan] Iteration 550, objective value: [22.27939775132512].\n"
     ]
    },
    {
     "name": "stderr",
     "output_type": "stream",
     "text": [
      "\r",
      " 55%|█████████████████████████████████████████▎                                 | 550/1000 [8:32:46<6:49:16, 54.57s/it]"
     ]
    },
    {
     "name": "stdout",
     "output_type": "stream",
     "text": [
      "[INFO] [2021-11-17 06:38:36,098] [OpenBox-Shadan] Iteration 551, objective value: [6.3374552115077165].\n"
     ]
    },
    {
     "name": "stderr",
     "output_type": "stream",
     "text": [
      "\r",
      " 55%|█████████████████████████████████████████▎                                 | 551/1000 [8:33:34<6:33:50, 52.63s/it]"
     ]
    },
    {
     "name": "stdout",
     "output_type": "stream",
     "text": [
      "[INFO] [2021-11-17 06:39:27,132] [OpenBox-Shadan] Iteration 552, objective value: [31.22011242860627].\n"
     ]
    },
    {
     "name": "stderr",
     "output_type": "stream",
     "text": [
      "\r",
      " 55%|█████████████████████████████████████████▍                                 | 552/1000 [8:34:25<6:29:23, 52.15s/it]"
     ]
    },
    {
     "name": "stdout",
     "output_type": "stream",
     "text": [
      "[INFO] [2021-11-17 06:40:21,475] [OpenBox-Shadan] Iteration 553, objective value: [15.725328992575655].\n"
     ]
    },
    {
     "name": "stderr",
     "output_type": "stream",
     "text": [
      "\r",
      " 55%|█████████████████████████████████████████▍                                 | 553/1000 [8:35:20<6:33:25, 52.81s/it]"
     ]
    },
    {
     "name": "stdout",
     "output_type": "stream",
     "text": [
      "[INFO] [2021-11-17 06:41:14,087] [OpenBox-Shadan] Iteration 554, objective value: [1.5606548817604704].\n"
     ]
    },
    {
     "name": "stderr",
     "output_type": "stream",
     "text": [
      "\r",
      " 55%|█████████████████████████████████████████▌                                 | 554/1000 [8:36:12<6:32:06, 52.75s/it]"
     ]
    },
    {
     "name": "stdout",
     "output_type": "stream",
     "text": [
      "[INFO] [2021-11-17 06:42:07,883] [OpenBox-Shadan] Iteration 555, objective value: [5.086371223763422].\n"
     ]
    },
    {
     "name": "stderr",
     "output_type": "stream",
     "text": [
      "\r",
      " 56%|█████████████████████████████████████████▋                                 | 555/1000 [8:37:06<6:33:33, 53.06s/it]"
     ]
    },
    {
     "name": "stdout",
     "output_type": "stream",
     "text": [
      "[INFO] [2021-11-17 06:43:00,409] [OpenBox-Shadan] Iteration 556, objective value: [13.473728618532235].\n"
     ]
    },
    {
     "name": "stderr",
     "output_type": "stream",
     "text": [
      "\r",
      " 56%|█████████████████████████████████████████▋                                 | 556/1000 [8:37:59<6:31:28, 52.90s/it]"
     ]
    },
    {
     "name": "stdout",
     "output_type": "stream",
     "text": [
      "[INFO] [2021-11-17 06:43:54,063] [OpenBox-Shadan] Iteration 557, objective value: [8.525097069624039].\n"
     ]
    },
    {
     "name": "stderr",
     "output_type": "stream",
     "text": [
      "\r",
      " 56%|█████████████████████████████████████████▊                                 | 557/1000 [8:38:52<6:32:15, 53.13s/it]"
     ]
    },
    {
     "name": "stdout",
     "output_type": "stream",
     "text": [
      "[INFO] [2021-11-17 06:44:48,204] [OpenBox-Shadan] Iteration 558, objective value: [26.360970343736795].\n"
     ]
    },
    {
     "name": "stderr",
     "output_type": "stream",
     "text": [
      "\r",
      " 56%|█████████████████████████████████████████▊                                 | 558/1000 [8:39:46<6:33:36, 53.43s/it]"
     ]
    },
    {
     "name": "stdout",
     "output_type": "stream",
     "text": [
      "[INFO] [2021-11-17 06:45:38,479] [OpenBox-Shadan] Iteration 559, objective value: [4.800864007798822].\n"
     ]
    },
    {
     "name": "stderr",
     "output_type": "stream",
     "text": [
      "\r",
      " 56%|█████████████████████████████████████████▉                                 | 559/1000 [8:40:37<6:25:45, 52.48s/it]"
     ]
    },
    {
     "name": "stdout",
     "output_type": "stream",
     "text": [
      "[INFO] [2021-11-17 06:46:36,147] [OpenBox-Shadan] Iteration 560, objective value: [32.21004516214536].\n"
     ]
    },
    {
     "name": "stderr",
     "output_type": "stream",
     "text": [
      "\r",
      " 56%|██████████████████████████████████████████                                 | 560/1000 [8:41:34<6:36:17, 54.04s/it]"
     ]
    },
    {
     "name": "stdout",
     "output_type": "stream",
     "text": [
      "[INFO] [2021-11-17 06:47:25,997] [OpenBox-Shadan] Iteration 561, objective value: [9.557583313969374].\n"
     ]
    },
    {
     "name": "stderr",
     "output_type": "stream",
     "text": [
      "\r",
      " 56%|██████████████████████████████████████████                                 | 561/1000 [8:42:24<6:26:11, 52.78s/it]"
     ]
    },
    {
     "name": "stdout",
     "output_type": "stream",
     "text": [
      "[INFO] [2021-11-17 06:48:17,203] [OpenBox-Shadan] Iteration 562, objective value: [7.838688668607901].\n"
     ]
    },
    {
     "name": "stderr",
     "output_type": "stream",
     "text": [
      "\r",
      " 56%|██████████████████████████████████████████▏                                | 562/1000 [8:43:15<6:21:51, 52.31s/it]"
     ]
    },
    {
     "name": "stdout",
     "output_type": "stream",
     "text": [
      "[INFO] [2021-11-17 06:49:10,216] [OpenBox-Shadan] Iteration 563, objective value: [3.592343652477254].\n"
     ]
    },
    {
     "name": "stderr",
     "output_type": "stream",
     "text": [
      "\r",
      " 56%|██████████████████████████████████████████▏                                | 563/1000 [8:44:08<6:22:31, 52.52s/it]"
     ]
    },
    {
     "name": "stdout",
     "output_type": "stream",
     "text": [
      "[INFO] [2021-11-17 06:50:02,965] [OpenBox-Shadan] Iteration 564, objective value: [5.969110864089416].\n"
     ]
    },
    {
     "name": "stderr",
     "output_type": "stream",
     "text": [
      "\r",
      " 56%|██████████████████████████████████████████▎                                | 564/1000 [8:45:01<6:22:08, 52.59s/it]"
     ]
    },
    {
     "name": "stdout",
     "output_type": "stream",
     "text": [
      "[INFO] [2021-11-17 06:51:01,522] [OpenBox-Shadan] Iteration 565, objective value: [29.5830937218643].\n"
     ]
    },
    {
     "name": "stderr",
     "output_type": "stream",
     "text": [
      "\r",
      " 56%|██████████████████████████████████████████▎                                | 565/1000 [8:46:00<6:34:15, 54.38s/it]"
     ]
    },
    {
     "name": "stdout",
     "output_type": "stream",
     "text": [
      "[INFO] [2021-11-17 06:51:59,241] [OpenBox-Shadan] Iteration 566, objective value: [20.144605398354983].\n"
     ]
    },
    {
     "name": "stderr",
     "output_type": "stream",
     "text": [
      "\r",
      " 57%|██████████████████████████████████████████▍                                | 566/1000 [8:46:57<6:40:35, 55.38s/it]"
     ]
    },
    {
     "name": "stdout",
     "output_type": "stream",
     "text": [
      "[INFO] [2021-11-17 06:52:51,550] [OpenBox-Shadan] Iteration 567, objective value: [8.744967217823373].\n"
     ]
    },
    {
     "name": "stderr",
     "output_type": "stream",
     "text": [
      "\r",
      " 57%|██████████████████████████████████████████▌                                | 567/1000 [8:47:50<6:33:01, 54.46s/it]"
     ]
    },
    {
     "name": "stdout",
     "output_type": "stream",
     "text": [
      "[INFO] [2021-11-17 06:53:48,002] [OpenBox-Shadan] Iteration 568, objective value: [3.118631779622632].\n"
     ]
    },
    {
     "name": "stderr",
     "output_type": "stream",
     "text": [
      "\r",
      " 57%|██████████████████████████████████████████▌                                | 568/1000 [8:48:46<6:36:24, 55.06s/it]"
     ]
    },
    {
     "name": "stdout",
     "output_type": "stream",
     "text": [
      "[INFO] [2021-11-17 06:54:41,856] [OpenBox-Shadan] Iteration 569, objective value: [17.12279813141386].\n"
     ]
    },
    {
     "name": "stderr",
     "output_type": "stream",
     "text": [
      "\r",
      " 57%|██████████████████████████████████████████▋                                | 569/1000 [8:49:40<6:32:54, 54.70s/it]"
     ]
    },
    {
     "name": "stdout",
     "output_type": "stream",
     "text": [
      "[INFO] [2021-11-17 06:55:37,336] [OpenBox-Shadan] Iteration 570, objective value: [5.850395993672706].\n"
     ]
    },
    {
     "name": "stderr",
     "output_type": "stream",
     "text": [
      "\r",
      " 57%|██████████████████████████████████████████▋                                | 570/1000 [8:50:36<6:33:40, 54.93s/it]"
     ]
    },
    {
     "name": "stdout",
     "output_type": "stream",
     "text": [
      "[INFO] [2021-11-17 06:56:26,042] [OpenBox-Shadan] Iteration 571, objective value: [12.04695213846945].\n"
     ]
    },
    {
     "name": "stderr",
     "output_type": "stream",
     "text": [
      "\r",
      " 57%|██████████████████████████████████████████▊                                | 571/1000 [8:51:24<6:19:24, 53.06s/it]"
     ]
    },
    {
     "name": "stdout",
     "output_type": "stream",
     "text": [
      "[INFO] [2021-11-17 06:57:21,299] [OpenBox-Shadan] Iteration 572, objective value: [43.49415146324988].\n"
     ]
    },
    {
     "name": "stderr",
     "output_type": "stream",
     "text": [
      "\r",
      " 57%|██████████████████████████████████████████▉                                | 572/1000 [8:52:19<6:23:12, 53.72s/it]"
     ]
    },
    {
     "name": "stdout",
     "output_type": "stream",
     "text": [
      "[INFO] [2021-11-17 06:58:10,189] [OpenBox-Shadan] Iteration 573, objective value: [5.835547276674774].\n"
     ]
    },
    {
     "name": "stderr",
     "output_type": "stream",
     "text": [
      "\r",
      " 57%|██████████████████████████████████████████▉                                | 573/1000 [8:53:08<6:12:00, 52.27s/it]"
     ]
    },
    {
     "name": "stdout",
     "output_type": "stream",
     "text": [
      "[INFO] [2021-11-17 06:59:01,357] [OpenBox-Shadan] Iteration 574, objective value: [5.862982465456028].\n"
     ]
    },
    {
     "name": "stderr",
     "output_type": "stream",
     "text": [
      "\r",
      " 57%|███████████████████████████████████████████                                | 574/1000 [8:54:00<6:08:46, 51.94s/it]"
     ]
    },
    {
     "name": "stdout",
     "output_type": "stream",
     "text": [
      "[INFO] [2021-11-17 06:59:49,884] [OpenBox-Shadan] Iteration 575, objective value: [2.4820521597939518].\n"
     ]
    },
    {
     "name": "stderr",
     "output_type": "stream",
     "text": [
      "\r",
      " 57%|███████████████████████████████████████████▏                               | 575/1000 [8:54:48<6:00:39, 50.92s/it]"
     ]
    },
    {
     "name": "stdout",
     "output_type": "stream",
     "text": [
      "[INFO] [2021-11-17 07:00:41,847] [OpenBox-Shadan] Iteration 576, objective value: [12.742188086803125].\n"
     ]
    },
    {
     "name": "stderr",
     "output_type": "stream",
     "text": [
      "\r",
      " 58%|███████████████████████████████████████████▏                               | 576/1000 [8:55:40<6:02:01, 51.23s/it]"
     ]
    },
    {
     "name": "stdout",
     "output_type": "stream",
     "text": [
      "[INFO] [2021-11-17 07:01:28,943] [OpenBox-Shadan] Iteration 577, objective value: [100.0].\n"
     ]
    },
    {
     "name": "stderr",
     "output_type": "stream",
     "text": [
      "\r",
      " 58%|███████████████████████████████████████████▎                               | 577/1000 [8:56:27<5:52:25, 49.99s/it]"
     ]
    },
    {
     "name": "stdout",
     "output_type": "stream",
     "text": [
      "[INFO] [2021-11-17 07:02:15,847] [OpenBox-Shadan] Iteration 578, objective value: [100.0].\n"
     ]
    },
    {
     "name": "stderr",
     "output_type": "stream",
     "text": [
      "\r",
      " 58%|███████████████████████████████████████████▎                               | 578/1000 [8:57:14<5:45:05, 49.06s/it]"
     ]
    },
    {
     "name": "stdout",
     "output_type": "stream",
     "text": [
      "[INFO] [2021-11-17 07:03:02,645] [OpenBox-Shadan] Iteration 579, objective value: [100.0].\n"
     ]
    },
    {
     "name": "stderr",
     "output_type": "stream",
     "text": [
      "\r",
      " 58%|███████████████████████████████████████████▍                               | 579/1000 [8:58:01<5:39:29, 48.38s/it]"
     ]
    },
    {
     "name": "stdout",
     "output_type": "stream",
     "text": [
      "[INFO] [2021-11-17 07:03:53,412] [OpenBox-Shadan] Iteration 580, objective value: [2.237907620145336].\n"
     ]
    },
    {
     "name": "stderr",
     "output_type": "stream",
     "text": [
      "\r",
      " 58%|███████████████████████████████████████████▌                               | 580/1000 [8:58:52<5:43:41, 49.10s/it]"
     ]
    },
    {
     "name": "stdout",
     "output_type": "stream",
     "text": [
      "[INFO] [2021-11-17 07:04:46,062] [OpenBox-Shadan] Iteration 581, objective value: [6.469013919609139].\n"
     ]
    },
    {
     "name": "stderr",
     "output_type": "stream",
     "text": [
      "\r",
      " 58%|███████████████████████████████████████████▌                               | 581/1000 [8:59:44<5:50:18, 50.16s/it]"
     ]
    },
    {
     "name": "stdout",
     "output_type": "stream",
     "text": [
      "[INFO] [2021-11-17 07:05:37,516] [OpenBox-Shadan] Iteration 582, objective value: [5.437819953714396].\n"
     ]
    },
    {
     "name": "stderr",
     "output_type": "stream",
     "text": [
      "\r",
      " 58%|███████████████████████████████████████████▋                               | 582/1000 [9:00:36<5:52:10, 50.55s/it]"
     ]
    },
    {
     "name": "stdout",
     "output_type": "stream",
     "text": [
      "[INFO] [2021-11-17 07:06:24,683] [OpenBox-Shadan] Iteration 583, objective value: [100.0].\n"
     ]
    },
    {
     "name": "stderr",
     "output_type": "stream",
     "text": [
      "\r",
      " 58%|███████████████████████████████████████████▋                               | 583/1000 [9:01:23<5:44:16, 49.54s/it]"
     ]
    },
    {
     "name": "stdout",
     "output_type": "stream",
     "text": [
      "[INFO] [2021-11-17 07:07:11,845] [OpenBox-Shadan] Iteration 584, objective value: [100.0].\n"
     ]
    },
    {
     "name": "stderr",
     "output_type": "stream",
     "text": [
      "\r",
      " 58%|███████████████████████████████████████████▊                               | 584/1000 [9:02:10<5:38:30, 48.82s/it]"
     ]
    },
    {
     "name": "stdout",
     "output_type": "stream",
     "text": [
      "[INFO] [2021-11-17 07:08:04,832] [OpenBox-Shadan] Iteration 585, objective value: [35.52712187059085].\n"
     ]
    },
    {
     "name": "stderr",
     "output_type": "stream",
     "text": [
      "\r",
      " 58%|███████████████████████████████████████████▉                               | 585/1000 [9:03:03<5:46:20, 50.07s/it]"
     ]
    },
    {
     "name": "stdout",
     "output_type": "stream",
     "text": [
      "[INFO] [2021-11-17 07:08:56,205] [OpenBox-Shadan] Iteration 586, objective value: [4.252129031131844].\n"
     ]
    },
    {
     "name": "stderr",
     "output_type": "stream",
     "text": [
      "\r",
      " 59%|███████████████████████████████████████████▉                               | 586/1000 [9:03:54<5:48:11, 50.46s/it]"
     ]
    },
    {
     "name": "stdout",
     "output_type": "stream",
     "text": [
      "[INFO] [2021-11-17 07:09:42,630] [OpenBox-Shadan] Iteration 587, objective value: [51.11244067169092].\n"
     ]
    },
    {
     "name": "stderr",
     "output_type": "stream",
     "text": [
      "\r",
      " 59%|████████████████████████████████████████████                               | 587/1000 [9:04:41<5:39:00, 49.25s/it]"
     ]
    },
    {
     "name": "stdout",
     "output_type": "stream",
     "text": [
      "[INFO] [2021-11-17 07:10:35,946] [OpenBox-Shadan] Iteration 588, objective value: [23.597137801949685].\n"
     ]
    },
    {
     "name": "stderr",
     "output_type": "stream",
     "text": [
      "\r",
      " 59%|████████████████████████████████████████████                               | 588/1000 [9:05:34<5:46:33, 50.47s/it]"
     ]
    },
    {
     "name": "stdout",
     "output_type": "stream",
     "text": [
      "[INFO] [2021-11-17 07:11:27,416] [OpenBox-Shadan] Iteration 589, objective value: [6.232713095916736].\n"
     ]
    },
    {
     "name": "stderr",
     "output_type": "stream",
     "text": [
      "\r",
      " 59%|████████████████████████████████████████████▏                              | 589/1000 [9:06:26<5:47:46, 50.77s/it]"
     ]
    },
    {
     "name": "stdout",
     "output_type": "stream",
     "text": [
      "[INFO] [2021-11-17 07:12:16,194] [OpenBox-Shadan] Iteration 590, objective value: [6.072423552344773].\n"
     ]
    },
    {
     "name": "stderr",
     "output_type": "stream",
     "text": [
      "\r",
      " 59%|████████████████████████████████████████████▎                              | 590/1000 [9:07:14<5:42:50, 50.17s/it]"
     ]
    },
    {
     "name": "stdout",
     "output_type": "stream",
     "text": [
      "[INFO] [2021-11-17 07:13:13,531] [OpenBox-Shadan] Iteration 591, objective value: [20.048253671879436].\n"
     ]
    },
    {
     "name": "stderr",
     "output_type": "stream",
     "text": [
      "\r",
      " 59%|████████████████████████████████████████████▎                              | 591/1000 [9:08:12<5:56:39, 52.32s/it]"
     ]
    },
    {
     "name": "stdout",
     "output_type": "stream",
     "text": [
      "[INFO] [2021-11-17 07:14:04,242] [OpenBox-Shadan] Iteration 592, objective value: [32.141878193518295].\n"
     ]
    },
    {
     "name": "stderr",
     "output_type": "stream",
     "text": [
      "\r",
      " 59%|████████████████████████████████████████████▍                              | 592/1000 [9:09:02<5:52:30, 51.84s/it]"
     ]
    },
    {
     "name": "stdout",
     "output_type": "stream",
     "text": [
      "[INFO] [2021-11-17 07:14:55,865] [OpenBox-Shadan] Iteration 593, objective value: [5.2911143790592945].\n"
     ]
    },
    {
     "name": "stderr",
     "output_type": "stream",
     "text": [
      "\r",
      " 59%|████████████████████████████████████████████▍                              | 593/1000 [9:09:54<5:51:12, 51.77s/it]"
     ]
    },
    {
     "name": "stdout",
     "output_type": "stream",
     "text": [
      "[INFO] [2021-11-17 07:15:50,636] [OpenBox-Shadan] Iteration 594, objective value: [18.77908867565162].\n"
     ]
    },
    {
     "name": "stderr",
     "output_type": "stream",
     "text": [
      "\r",
      " 59%|████████████████████████████████████████████▌                              | 594/1000 [9:10:49<5:56:25, 52.67s/it]"
     ]
    },
    {
     "name": "stdout",
     "output_type": "stream",
     "text": [
      "[INFO] [2021-11-17 07:16:42,070] [OpenBox-Shadan] Iteration 595, objective value: [24.331592503105398].\n"
     ]
    },
    {
     "name": "stderr",
     "output_type": "stream",
     "text": [
      "\r",
      " 60%|████████████████████████████████████████████▋                              | 595/1000 [9:11:40<5:53:02, 52.30s/it]"
     ]
    },
    {
     "name": "stdout",
     "output_type": "stream",
     "text": [
      "[INFO] [2021-11-17 07:17:32,966] [OpenBox-Shadan] Iteration 596, objective value: [10.677134237170634].\n"
     ]
    },
    {
     "name": "stderr",
     "output_type": "stream",
     "text": [
      "\r",
      " 60%|████████████████████████████████████████████▋                              | 596/1000 [9:12:31<5:49:19, 51.88s/it]"
     ]
    },
    {
     "name": "stdout",
     "output_type": "stream",
     "text": [
      "[INFO] [2021-11-17 07:18:25,460] [OpenBox-Shadan] Iteration 597, objective value: [4.658103285147575].\n"
     ]
    },
    {
     "name": "stderr",
     "output_type": "stream",
     "text": [
      "\r",
      " 60%|████████████████████████████████████████████▊                              | 597/1000 [9:13:24<5:49:41, 52.06s/it]"
     ]
    },
    {
     "name": "stdout",
     "output_type": "stream",
     "text": [
      "[INFO] [2021-11-17 07:19:12,492] [OpenBox-Shadan] Iteration 598, objective value: [5.933899354441564].\n"
     ]
    },
    {
     "name": "stderr",
     "output_type": "stream",
     "text": [
      "\r",
      " 60%|████████████████████████████████████████████▊                              | 598/1000 [9:14:11<5:38:42, 50.55s/it]"
     ]
    },
    {
     "name": "stdout",
     "output_type": "stream",
     "text": [
      "[INFO] [2021-11-17 07:19:59,516] [OpenBox-Shadan] Iteration 599, objective value: [100.0].\n"
     ]
    },
    {
     "name": "stderr",
     "output_type": "stream",
     "text": [
      "\r",
      " 60%|████████████████████████████████████████████▉                              | 599/1000 [9:14:58<5:30:47, 49.50s/it]"
     ]
    },
    {
     "name": "stdout",
     "output_type": "stream",
     "text": [
      "[INFO] [2021-11-17 07:20:47,214] [OpenBox-Shadan] Iteration 600, objective value: [1.4914621152011165].\n"
     ]
    },
    {
     "name": "stderr",
     "output_type": "stream",
     "text": [
      "\r",
      " 60%|█████████████████████████████████████████████                              | 600/1000 [9:15:45<5:26:22, 48.96s/it]"
     ]
    },
    {
     "name": "stdout",
     "output_type": "stream",
     "text": [
      "[INFO] [2021-11-17 07:21:39,925] [OpenBox-Shadan] Iteration 601, objective value: [3.523748215734031].\n"
     ]
    },
    {
     "name": "stderr",
     "output_type": "stream",
     "text": [
      "\r",
      " 60%|█████████████████████████████████████████████                              | 601/1000 [9:16:38<5:33:02, 50.08s/it]"
     ]
    },
    {
     "name": "stdout",
     "output_type": "stream",
     "text": [
      "[INFO] [2021-11-17 07:22:30,928] [OpenBox-Shadan] Iteration 602, objective value: [48.553148732750806].\n"
     ]
    },
    {
     "name": "stderr",
     "output_type": "stream",
     "text": [
      "\r",
      " 60%|█████████████████████████████████████████████▏                             | 602/1000 [9:17:29<5:34:02, 50.36s/it]"
     ]
    },
    {
     "name": "stdout",
     "output_type": "stream",
     "text": [
      "[INFO] [2021-11-17 07:23:21,625] [OpenBox-Shadan] Iteration 603, objective value: [4.617917278523919].\n"
     ]
    },
    {
     "name": "stderr",
     "output_type": "stream",
     "text": [
      "\r",
      " 60%|█████████████████████████████████████████████▏                             | 603/1000 [9:18:20<5:33:52, 50.46s/it]"
     ]
    },
    {
     "name": "stdout",
     "output_type": "stream",
     "text": [
      "[INFO] [2021-11-17 07:24:17,991] [OpenBox-Shadan] Iteration 604, objective value: [34.50903398481728].\n"
     ]
    },
    {
     "name": "stderr",
     "output_type": "stream",
     "text": [
      "\r",
      " 60%|█████████████████████████████████████████████▎                             | 604/1000 [9:19:16<5:44:43, 52.23s/it]"
     ]
    },
    {
     "name": "stdout",
     "output_type": "stream",
     "text": [
      "[INFO] [2021-11-17 07:25:04,214] [OpenBox-Shadan] Iteration 605, objective value: [7.192473493777584].\n"
     ]
    },
    {
     "name": "stderr",
     "output_type": "stream",
     "text": [
      "\r",
      " 60%|█████████████████████████████████████████████▍                             | 605/1000 [9:20:02<5:31:59, 50.43s/it]"
     ]
    },
    {
     "name": "stdout",
     "output_type": "stream",
     "text": [
      "[INFO] [2021-11-17 07:25:52,066] [OpenBox-Shadan] Iteration 606, objective value: [1.4944869746801714].\n"
     ]
    },
    {
     "name": "stderr",
     "output_type": "stream",
     "text": [
      "\r",
      " 61%|█████████████████████████████████████████████▍                             | 606/1000 [9:20:50<5:26:04, 49.66s/it]"
     ]
    },
    {
     "name": "stdout",
     "output_type": "stream",
     "text": [
      "[INFO] [2021-11-17 07:26:43,344] [OpenBox-Shadan] Iteration 607, objective value: [9.97722768200427].\n"
     ]
    },
    {
     "name": "stderr",
     "output_type": "stream",
     "text": [
      "\r",
      " 61%|█████████████████████████████████████████████▌                             | 607/1000 [9:21:42<5:28:25, 50.14s/it]"
     ]
    },
    {
     "name": "stdout",
     "output_type": "stream",
     "text": [
      "[INFO] [2021-11-17 07:27:32,115] [OpenBox-Shadan] Iteration 608, objective value: [11.019252817467901].\n"
     ]
    },
    {
     "name": "stderr",
     "output_type": "stream",
     "text": [
      "\r",
      " 61%|█████████████████████████████████████████████▌                             | 608/1000 [9:22:30<5:24:54, 49.73s/it]"
     ]
    },
    {
     "name": "stdout",
     "output_type": "stream",
     "text": [
      "[INFO] [2021-11-17 07:28:18,689] [OpenBox-Shadan] Iteration 609, objective value: [100.0].\n"
     ]
    },
    {
     "name": "stderr",
     "output_type": "stream",
     "text": [
      "\r",
      " 61%|█████████████████████████████████████████████▋                             | 609/1000 [9:23:17<5:17:54, 48.78s/it]"
     ]
    },
    {
     "name": "stdout",
     "output_type": "stream",
     "text": [
      "[INFO] [2021-11-17 07:29:08,414] [OpenBox-Shadan] Iteration 610, objective value: [12.005736248478073].\n"
     ]
    },
    {
     "name": "stderr",
     "output_type": "stream",
     "text": [
      "\r",
      " 61%|█████████████████████████████████████████████▊                             | 610/1000 [9:24:07<5:18:55, 49.07s/it]"
     ]
    },
    {
     "name": "stdout",
     "output_type": "stream",
     "text": [
      "[INFO] [2021-11-17 07:29:57,305] [OpenBox-Shadan] Iteration 611, objective value: [9.89312125845025].\n"
     ]
    },
    {
     "name": "stderr",
     "output_type": "stream",
     "text": [
      "\r",
      " 61%|█████████████████████████████████████████████▊                             | 611/1000 [9:24:55<5:17:46, 49.01s/it]"
     ]
    },
    {
     "name": "stdout",
     "output_type": "stream",
     "text": [
      "[INFO] [2021-11-17 07:30:46,512] [OpenBox-Shadan] Iteration 612, objective value: [8.398136435077461].\n"
     ]
    },
    {
     "name": "stderr",
     "output_type": "stream",
     "text": [
      "\r",
      " 61%|█████████████████████████████████████████████▉                             | 612/1000 [9:25:45<5:17:19, 49.07s/it]"
     ]
    },
    {
     "name": "stdout",
     "output_type": "stream",
     "text": [
      "[INFO] [2021-11-17 07:31:36,561] [OpenBox-Shadan] Iteration 613, objective value: [3.4495135024189523].\n"
     ]
    },
    {
     "name": "stderr",
     "output_type": "stream",
     "text": [
      "\r",
      " 61%|█████████████████████████████████████████████▉                             | 613/1000 [9:26:35<5:18:24, 49.37s/it]"
     ]
    },
    {
     "name": "stdout",
     "output_type": "stream",
     "text": [
      "[INFO] [2021-11-17 07:32:31,852] [OpenBox-Shadan] Iteration 614, objective value: [4.459710599559145].\n"
     ]
    },
    {
     "name": "stderr",
     "output_type": "stream",
     "text": [
      "\r",
      " 61%|██████████████████████████████████████████████                             | 614/1000 [9:27:30<5:29:01, 51.14s/it]"
     ]
    },
    {
     "name": "stdout",
     "output_type": "stream",
     "text": [
      "[INFO] [2021-11-17 07:33:24,120] [OpenBox-Shadan] Iteration 615, objective value: [24.375977120319945].\n"
     ]
    },
    {
     "name": "stderr",
     "output_type": "stream",
     "text": [
      "\r",
      " 62%|██████████████████████████████████████████████▏                            | 615/1000 [9:28:22<5:30:20, 51.48s/it]"
     ]
    },
    {
     "name": "stdout",
     "output_type": "stream",
     "text": [
      "[INFO] [2021-11-17 07:34:16,333] [OpenBox-Shadan] Iteration 616, objective value: [19.973143727751832].\n"
     ]
    },
    {
     "name": "stderr",
     "output_type": "stream",
     "text": [
      "\r",
      " 62%|██████████████████████████████████████████████▏                            | 616/1000 [9:29:14<5:30:52, 51.70s/it]"
     ]
    },
    {
     "name": "stdout",
     "output_type": "stream",
     "text": [
      "[INFO] [2021-11-17 07:35:05,760] [OpenBox-Shadan] Iteration 617, objective value: [6.162543651408797].\n"
     ]
    },
    {
     "name": "stderr",
     "output_type": "stream",
     "text": [
      "\r",
      " 62%|██████████████████████████████████████████████▎                            | 617/1000 [9:30:04<5:25:40, 51.02s/it]"
     ]
    },
    {
     "name": "stdout",
     "output_type": "stream",
     "text": [
      "[INFO] [2021-11-17 07:35:58,153] [OpenBox-Shadan] Iteration 618, objective value: [9.179748767381].\n"
     ]
    },
    {
     "name": "stderr",
     "output_type": "stream",
     "text": [
      "\r",
      " 62%|██████████████████████████████████████████████▎                            | 618/1000 [9:30:56<5:27:26, 51.43s/it]"
     ]
    },
    {
     "name": "stdout",
     "output_type": "stream",
     "text": [
      "[INFO] [2021-11-17 07:36:50,458] [OpenBox-Shadan] Iteration 619, objective value: [14.848566381289203].\n"
     ]
    },
    {
     "name": "stderr",
     "output_type": "stream",
     "text": [
      "\r",
      " 62%|██████████████████████████████████████████████▍                            | 619/1000 [9:31:49<5:28:14, 51.69s/it]"
     ]
    },
    {
     "name": "stdout",
     "output_type": "stream",
     "text": [
      "[INFO] [2021-11-17 07:37:42,731] [OpenBox-Shadan] Iteration 620, objective value: [2.8380112757510005].\n"
     ]
    },
    {
     "name": "stderr",
     "output_type": "stream",
     "text": [
      "\r",
      " 62%|██████████████████████████████████████████████▌                            | 620/1000 [9:32:41<5:28:29, 51.87s/it]"
     ]
    },
    {
     "name": "stdout",
     "output_type": "stream",
     "text": [
      "[INFO] [2021-11-17 07:38:33,618] [OpenBox-Shadan] Iteration 621, objective value: [8.598098678776608].\n"
     ]
    },
    {
     "name": "stderr",
     "output_type": "stream",
     "text": [
      "\r",
      " 62%|██████████████████████████████████████████████▌                            | 621/1000 [9:33:32<5:25:46, 51.57s/it]"
     ]
    },
    {
     "name": "stdout",
     "output_type": "stream",
     "text": [
      "[INFO] [2021-11-17 07:39:24,445] [OpenBox-Shadan] Iteration 622, objective value: [2.953001880598265].\n"
     ]
    },
    {
     "name": "stderr",
     "output_type": "stream",
     "text": [
      "\r",
      " 62%|██████████████████████████████████████████████▋                            | 622/1000 [9:34:23<5:23:30, 51.35s/it]"
     ]
    },
    {
     "name": "stdout",
     "output_type": "stream",
     "text": [
      "[INFO] [2021-11-17 07:40:11,592] [OpenBox-Shadan] Iteration 623, objective value: [100.0].\n"
     ]
    },
    {
     "name": "stderr",
     "output_type": "stream",
     "text": [
      "\r",
      " 62%|██████████████████████████████████████████████▋                            | 623/1000 [9:35:10<5:14:43, 50.09s/it]"
     ]
    },
    {
     "name": "stdout",
     "output_type": "stream",
     "text": [
      "[INFO] [2021-11-17 07:40:59,243] [OpenBox-Shadan] Iteration 624, objective value: [12.660041649661366].\n"
     ]
    },
    {
     "name": "stderr",
     "output_type": "stream",
     "text": [
      "\r",
      " 62%|██████████████████████████████████████████████▊                            | 624/1000 [9:35:57<5:09:18, 49.36s/it]"
     ]
    },
    {
     "name": "stdout",
     "output_type": "stream",
     "text": [
      "[INFO] [2021-11-17 07:41:49,897] [OpenBox-Shadan] Iteration 625, objective value: [2.107379303713074].\n"
     ]
    },
    {
     "name": "stderr",
     "output_type": "stream",
     "text": [
      "\r",
      " 62%|██████████████████████████████████████████████▉                            | 625/1000 [9:36:48<5:10:54, 49.75s/it]"
     ]
    },
    {
     "name": "stdout",
     "output_type": "stream",
     "text": [
      "[INFO] [2021-11-17 07:42:40,623] [OpenBox-Shadan] Iteration 626, objective value: [4.017776541565524].\n"
     ]
    },
    {
     "name": "stderr",
     "output_type": "stream",
     "text": [
      "\r",
      " 63%|██████████████████████████████████████████████▉                            | 626/1000 [9:37:39<5:11:55, 50.04s/it]"
     ]
    },
    {
     "name": "stdout",
     "output_type": "stream",
     "text": [
      "[INFO] [2021-11-17 07:43:31,266] [OpenBox-Shadan] Iteration 627, objective value: [8.585969190333671].\n"
     ]
    },
    {
     "name": "stderr",
     "output_type": "stream",
     "text": [
      "\r",
      " 63%|███████████████████████████████████████████████                            | 627/1000 [9:38:29<5:12:12, 50.22s/it]"
     ]
    },
    {
     "name": "stdout",
     "output_type": "stream",
     "text": [
      "[INFO] [2021-11-17 07:44:22,905] [OpenBox-Shadan] Iteration 628, objective value: [22.878604631907578].\n"
     ]
    },
    {
     "name": "stderr",
     "output_type": "stream",
     "text": [
      "\r",
      " 63%|███████████████████████████████████████████████                            | 628/1000 [9:39:21<5:14:00, 50.65s/it]"
     ]
    },
    {
     "name": "stdout",
     "output_type": "stream",
     "text": [
      "[INFO] [2021-11-17 07:45:15,405] [OpenBox-Shadan] Iteration 629, objective value: [2.5139717685328975].\n"
     ]
    },
    {
     "name": "stderr",
     "output_type": "stream",
     "text": [
      "\r",
      " 63%|███████████████████████████████████████████████▏                           | 629/1000 [9:40:14<5:16:36, 51.20s/it]"
     ]
    },
    {
     "name": "stdout",
     "output_type": "stream",
     "text": [
      "[INFO] [2021-11-17 07:46:06,571] [OpenBox-Shadan] Iteration 630, objective value: [23.97358631125617].\n"
     ]
    },
    {
     "name": "stderr",
     "output_type": "stream",
     "text": [
      "\r",
      " 63%|███████████████████████████████████████████████▎                           | 630/1000 [9:41:05<5:15:40, 51.19s/it]"
     ]
    },
    {
     "name": "stdout",
     "output_type": "stream",
     "text": [
      "[INFO] [2021-11-17 07:46:56,854] [OpenBox-Shadan] Iteration 631, objective value: [3.2915558788197075].\n"
     ]
    },
    {
     "name": "stderr",
     "output_type": "stream",
     "text": [
      "\r",
      " 63%|███████████████████████████████████████████████▎                           | 631/1000 [9:41:55<5:13:09, 50.92s/it]"
     ]
    },
    {
     "name": "stdout",
     "output_type": "stream",
     "text": [
      "[INFO] [2021-11-17 07:47:56,871] [OpenBox-Shadan] Iteration 632, objective value: [40.120429338500664].\n"
     ]
    },
    {
     "name": "stderr",
     "output_type": "stream",
     "text": [
      "\r",
      " 63%|███████████████████████████████████████████████▍                           | 632/1000 [9:42:55<5:29:02, 53.65s/it]"
     ]
    },
    {
     "name": "stdout",
     "output_type": "stream",
     "text": [
      "[INFO] [2021-11-17 07:48:50,569] [OpenBox-Shadan] Iteration 633, objective value: [24.32156032600365].\n"
     ]
    },
    {
     "name": "stderr",
     "output_type": "stream",
     "text": [
      "\r",
      " 63%|███████████████████████████████████████████████▍                           | 633/1000 [9:43:49<5:28:14, 53.66s/it]"
     ]
    },
    {
     "name": "stdout",
     "output_type": "stream",
     "text": [
      "[INFO] [2021-11-17 07:49:38,837] [OpenBox-Shadan] Iteration 634, objective value: [10.784042260782272].\n"
     ]
    },
    {
     "name": "stderr",
     "output_type": "stream",
     "text": [
      "\r",
      " 63%|███████████████████████████████████████████████▌                           | 634/1000 [9:44:37<5:17:28, 52.04s/it]"
     ]
    },
    {
     "name": "stdout",
     "output_type": "stream",
     "text": [
      "[INFO] [2021-11-17 07:50:30,729] [OpenBox-Shadan] Iteration 635, objective value: [4.86918149842441].\n"
     ]
    },
    {
     "name": "stderr",
     "output_type": "stream",
     "text": [
      "\r",
      " 64%|███████████████████████████████████████████████▋                           | 635/1000 [9:45:29<5:16:19, 52.00s/it]"
     ]
    },
    {
     "name": "stdout",
     "output_type": "stream",
     "text": [
      "[INFO] [2021-11-17 07:51:20,468] [OpenBox-Shadan] Iteration 636, objective value: [40.83785216073049].\n"
     ]
    },
    {
     "name": "stderr",
     "output_type": "stream",
     "text": [
      "\r",
      " 64%|███████████████████████████████████████████████▋                           | 636/1000 [9:46:19<5:11:20, 51.32s/it]"
     ]
    },
    {
     "name": "stdout",
     "output_type": "stream",
     "text": [
      "[INFO] [2021-11-17 07:52:13,174] [OpenBox-Shadan] Iteration 637, objective value: [21.82824593207401].\n"
     ]
    },
    {
     "name": "stderr",
     "output_type": "stream",
     "text": [
      "\r",
      " 64%|███████████████████████████████████████████████▊                           | 637/1000 [9:47:11<5:13:00, 51.74s/it]"
     ]
    },
    {
     "name": "stdout",
     "output_type": "stream",
     "text": [
      "[INFO] [2021-11-17 07:53:01,334] [OpenBox-Shadan] Iteration 638, objective value: [5.06481203802403].\n"
     ]
    },
    {
     "name": "stderr",
     "output_type": "stream",
     "text": [
      "\r",
      " 64%|███████████████████████████████████████████████▊                           | 638/1000 [9:47:59<5:05:40, 50.66s/it]"
     ]
    },
    {
     "name": "stdout",
     "output_type": "stream",
     "text": [
      "[INFO] [2021-11-17 07:53:50,859] [OpenBox-Shadan] Iteration 639, objective value: [1.829292552769843].\n"
     ]
    },
    {
     "name": "stderr",
     "output_type": "stream",
     "text": [
      "\r",
      " 64%|███████████████████████████████████████████████▉                           | 639/1000 [9:48:49<5:02:46, 50.32s/it]"
     ]
    },
    {
     "name": "stdout",
     "output_type": "stream",
     "text": [
      "[INFO] [2021-11-17 07:54:43,526] [OpenBox-Shadan] Iteration 640, objective value: [13.673013682935604].\n"
     ]
    },
    {
     "name": "stderr",
     "output_type": "stream",
     "text": [
      "\r",
      " 64%|████████████████████████████████████████████████                           | 640/1000 [9:49:42<5:06:09, 51.03s/it]"
     ]
    },
    {
     "name": "stdout",
     "output_type": "stream",
     "text": [
      "[INFO] [2021-11-17 07:55:29,712] [OpenBox-Shadan] Iteration 641, objective value: [100.0].\n"
     ]
    },
    {
     "name": "stderr",
     "output_type": "stream",
     "text": [
      "\r",
      " 64%|████████████████████████████████████████████████                           | 641/1000 [9:50:28<4:56:36, 49.57s/it]"
     ]
    },
    {
     "name": "stdout",
     "output_type": "stream",
     "text": [
      "[INFO] [2021-11-17 07:56:18,597] [OpenBox-Shadan] Iteration 642, objective value: [11.008842945823787].\n"
     ]
    },
    {
     "name": "stderr",
     "output_type": "stream",
     "text": [
      "\r",
      " 64%|████████████████████████████████████████████████▏                          | 642/1000 [9:51:17<4:54:33, 49.37s/it]"
     ]
    },
    {
     "name": "stdout",
     "output_type": "stream",
     "text": [
      "[INFO] [2021-11-17 07:57:10,719] [OpenBox-Shadan] Iteration 643, objective value: [2.168637494220576].\n"
     ]
    },
    {
     "name": "stderr",
     "output_type": "stream",
     "text": [
      "\r",
      " 64%|████████████████████████████████████████████████▏                          | 643/1000 [9:52:09<4:58:39, 50.19s/it]"
     ]
    },
    {
     "name": "stdout",
     "output_type": "stream",
     "text": [
      "[INFO] [2021-11-17 07:58:02,196] [OpenBox-Shadan] Iteration 644, objective value: [24.927033909543013].\n"
     ]
    },
    {
     "name": "stderr",
     "output_type": "stream",
     "text": [
      "\r",
      " 64%|████████████████████████████████████████████████▎                          | 644/1000 [9:53:00<5:00:05, 50.58s/it]"
     ]
    },
    {
     "name": "stdout",
     "output_type": "stream",
     "text": [
      "[INFO] [2021-11-17 07:58:51,422] [OpenBox-Shadan] Iteration 645, objective value: [1.451183770486395].\n"
     ]
    },
    {
     "name": "stderr",
     "output_type": "stream",
     "text": [
      "\r",
      " 64%|████████████████████████████████████████████████▍                          | 645/1000 [9:53:50<4:56:51, 50.17s/it]"
     ]
    },
    {
     "name": "stdout",
     "output_type": "stream",
     "text": [
      "[INFO] [2021-11-17 07:59:43,709] [OpenBox-Shadan] Iteration 646, objective value: [1.4282675719456677].\n"
     ]
    },
    {
     "name": "stderr",
     "output_type": "stream",
     "text": [
      "\r",
      " 65%|████████████████████████████████████████████████▍                          | 646/1000 [9:54:42<4:59:45, 50.81s/it]"
     ]
    },
    {
     "name": "stdout",
     "output_type": "stream",
     "text": [
      "[INFO] [2021-11-17 08:00:33,016] [OpenBox-Shadan] Iteration 647, objective value: [3.438149195346824].\n"
     ]
    },
    {
     "name": "stderr",
     "output_type": "stream",
     "text": [
      "\r",
      " 65%|████████████████████████████████████████████████▌                          | 647/1000 [9:55:31<4:56:16, 50.36s/it]"
     ]
    },
    {
     "name": "stdout",
     "output_type": "stream",
     "text": [
      "[INFO] [2021-11-17 08:01:22,329] [OpenBox-Shadan] Iteration 648, objective value: [2.94759141445752].\n"
     ]
    },
    {
     "name": "stderr",
     "output_type": "stream",
     "text": [
      "\r",
      " 65%|████████████████████████████████████████████████▌                          | 648/1000 [9:56:20<4:53:35, 50.04s/it]"
     ]
    },
    {
     "name": "stdout",
     "output_type": "stream",
     "text": [
      "[INFO] [2021-11-17 08:02:11,855] [OpenBox-Shadan] Iteration 649, objective value: [13.55190286344336].\n"
     ]
    },
    {
     "name": "stderr",
     "output_type": "stream",
     "text": [
      "\r",
      " 65%|████████████████████████████████████████████████▋                          | 649/1000 [9:57:10<4:51:50, 49.89s/it]"
     ]
    },
    {
     "name": "stdout",
     "output_type": "stream",
     "text": [
      "[INFO] [2021-11-17 08:03:01,269] [OpenBox-Shadan] Iteration 650, objective value: [1.9445140534440952].\n"
     ]
    },
    {
     "name": "stderr",
     "output_type": "stream",
     "text": [
      "\r",
      " 65%|████████████████████████████████████████████████▊                          | 650/1000 [9:57:59<4:50:11, 49.75s/it]"
     ]
    },
    {
     "name": "stdout",
     "output_type": "stream",
     "text": [
      "[INFO] [2021-11-17 08:03:54,046] [OpenBox-Shadan] Iteration 651, objective value: [8.727016055481826].\n"
     ]
    },
    {
     "name": "stderr",
     "output_type": "stream",
     "text": [
      "\r",
      " 65%|████████████████████████████████████████████████▊                          | 651/1000 [9:58:52<4:54:38, 50.66s/it]"
     ]
    },
    {
     "name": "stdout",
     "output_type": "stream",
     "text": [
      "[INFO] [2021-11-17 08:04:48,757] [OpenBox-Shadan] Iteration 652, objective value: [6.237011681643992].\n"
     ]
    },
    {
     "name": "stderr",
     "output_type": "stream",
     "text": [
      "\r",
      " 65%|████████████████████████████████████████████████▉                          | 652/1000 [9:59:47<5:00:51, 51.87s/it]"
     ]
    },
    {
     "name": "stdout",
     "output_type": "stream",
     "text": [
      "[INFO] [2021-11-17 08:05:37,199] [OpenBox-Shadan] Iteration 653, objective value: [2.5490217162034554].\n"
     ]
    },
    {
     "name": "stderr",
     "output_type": "stream",
     "text": [
      "\r",
      " 65%|████████████████████████████████████████████████▎                         | 653/1000 [10:00:35<4:54:02, 50.84s/it]"
     ]
    },
    {
     "name": "stdout",
     "output_type": "stream",
     "text": [
      "[INFO] [2021-11-17 08:06:23,582] [OpenBox-Shadan] Iteration 654, objective value: [100.0].\n"
     ]
    },
    {
     "name": "stderr",
     "output_type": "stream",
     "text": [
      "\r",
      " 65%|████████████████████████████████████████████████▍                         | 654/1000 [10:01:22<4:45:28, 49.50s/it]"
     ]
    },
    {
     "name": "stdout",
     "output_type": "stream",
     "text": [
      "[INFO] [2021-11-17 08:07:18,390] [OpenBox-Shadan] Iteration 655, objective value: [2.421004786354999].\n"
     ]
    },
    {
     "name": "stderr",
     "output_type": "stream",
     "text": [
      "\r",
      " 66%|████████████████████████████████████████████████▍                         | 655/1000 [10:02:17<4:53:48, 51.10s/it]"
     ]
    },
    {
     "name": "stdout",
     "output_type": "stream",
     "text": [
      "[INFO] [2021-11-17 08:08:05,103] [OpenBox-Shadan] Iteration 656, objective value: [2.043415390686647].\n"
     ]
    },
    {
     "name": "stderr",
     "output_type": "stream",
     "text": [
      "\r",
      " 66%|████████████████████████████████████████████████▌                         | 656/1000 [10:03:03<4:45:24, 49.78s/it]"
     ]
    },
    {
     "name": "stdout",
     "output_type": "stream",
     "text": [
      "[INFO] [2021-11-17 08:08:55,514] [OpenBox-Shadan] Iteration 657, objective value: [10.863277520545282].\n"
     ]
    },
    {
     "name": "stderr",
     "output_type": "stream",
     "text": [
      "\r",
      " 66%|████████████████████████████████████████████████▌                         | 657/1000 [10:03:54<4:45:39, 49.97s/it]"
     ]
    },
    {
     "name": "stdout",
     "output_type": "stream",
     "text": [
      "[INFO] [2021-11-17 08:09:43,553] [OpenBox-Shadan] Iteration 658, objective value: [18.15952490061396].\n"
     ]
    },
    {
     "name": "stderr",
     "output_type": "stream",
     "text": [
      "\r",
      " 66%|████████████████████████████████████████████████▋                         | 658/1000 [10:04:42<4:41:31, 49.39s/it]"
     ]
    },
    {
     "name": "stdout",
     "output_type": "stream",
     "text": [
      "[INFO] [2021-11-17 08:10:35,858] [OpenBox-Shadan] Iteration 659, objective value: [2.2417395970289107].\n"
     ]
    },
    {
     "name": "stderr",
     "output_type": "stream",
     "text": [
      "\r",
      " 66%|████████████████████████████████████████████████▊                         | 659/1000 [10:05:34<4:45:40, 50.27s/it]"
     ]
    },
    {
     "name": "stdout",
     "output_type": "stream",
     "text": [
      "[INFO] [2021-11-17 08:11:24,308] [OpenBox-Shadan] Iteration 660, objective value: [2.6415482830867205].\n"
     ]
    },
    {
     "name": "stderr",
     "output_type": "stream",
     "text": [
      "\r",
      " 66%|████████████████████████████████████████████████▊                         | 660/1000 [10:06:22<4:41:44, 49.72s/it]"
     ]
    },
    {
     "name": "stdout",
     "output_type": "stream",
     "text": [
      "[INFO] [2021-11-17 08:12:15,808] [OpenBox-Shadan] Iteration 661, objective value: [1.1471321207879583].\n"
     ]
    },
    {
     "name": "stderr",
     "output_type": "stream",
     "text": [
      "\r",
      " 66%|████████████████████████████████████████████████▉                         | 661/1000 [10:07:14<4:43:56, 50.25s/it]"
     ]
    },
    {
     "name": "stdout",
     "output_type": "stream",
     "text": [
      "[INFO] [2021-11-17 08:13:03,091] [OpenBox-Shadan] Iteration 662, objective value: [8.430170661278211].\n"
     ]
    },
    {
     "name": "stderr",
     "output_type": "stream",
     "text": [
      "\r",
      " 66%|████████████████████████████████████████████████▉                         | 662/1000 [10:08:01<4:38:04, 49.36s/it]"
     ]
    },
    {
     "name": "stdout",
     "output_type": "stream",
     "text": [
      "[INFO] [2021-11-17 08:13:55,275] [OpenBox-Shadan] Iteration 663, objective value: [10.131006664726286].\n"
     ]
    },
    {
     "name": "stderr",
     "output_type": "stream",
     "text": [
      "\r",
      " 66%|█████████████████████████████████████████████████                         | 663/1000 [10:08:53<4:42:00, 50.21s/it]"
     ]
    },
    {
     "name": "stdout",
     "output_type": "stream",
     "text": [
      "[INFO] [2021-11-17 08:14:48,751] [OpenBox-Shadan] Iteration 664, objective value: [7.841338992233702].\n"
     ]
    },
    {
     "name": "stderr",
     "output_type": "stream",
     "text": [
      "\r",
      " 66%|█████████████████████████████████████████████████▏                        | 664/1000 [10:09:47<4:46:39, 51.19s/it]"
     ]
    },
    {
     "name": "stdout",
     "output_type": "stream",
     "text": [
      "[INFO] [2021-11-17 08:15:38,511] [OpenBox-Shadan] Iteration 665, objective value: [35.879502751551655].\n"
     ]
    },
    {
     "name": "stderr",
     "output_type": "stream",
     "text": [
      "\r",
      " 66%|█████████████████████████████████████████████████▏                        | 665/1000 [10:10:37<4:43:24, 50.76s/it]"
     ]
    },
    {
     "name": "stdout",
     "output_type": "stream",
     "text": [
      "[INFO] [2021-11-17 08:16:31,766] [OpenBox-Shadan] Iteration 666, objective value: [10.836867703045144].\n"
     ]
    },
    {
     "name": "stderr",
     "output_type": "stream",
     "text": [
      "\r",
      " 67%|█████████████████████████████████████████████████▎                        | 666/1000 [10:11:30<4:46:43, 51.51s/it]"
     ]
    },
    {
     "name": "stdout",
     "output_type": "stream",
     "text": [
      "[INFO] [2021-11-17 08:17:23,022] [OpenBox-Shadan] Iteration 667, objective value: [2.7169558430886696].\n"
     ]
    },
    {
     "name": "stderr",
     "output_type": "stream",
     "text": [
      "\r",
      " 67%|█████████████████████████████████████████████████▎                        | 667/1000 [10:12:21<4:45:27, 51.43s/it]"
     ]
    },
    {
     "name": "stdout",
     "output_type": "stream",
     "text": [
      "[INFO] [2021-11-17 08:18:15,419] [OpenBox-Shadan] Iteration 668, objective value: [4.411829601312817].\n"
     ]
    },
    {
     "name": "stderr",
     "output_type": "stream",
     "text": [
      "\r",
      " 67%|█████████████████████████████████████████████████▍                        | 668/1000 [10:13:14<4:46:11, 51.72s/it]"
     ]
    },
    {
     "name": "stdout",
     "output_type": "stream",
     "text": [
      "[INFO] [2021-11-17 08:19:06,683] [OpenBox-Shadan] Iteration 669, objective value: [2.2782909504904865].\n"
     ]
    },
    {
     "name": "stderr",
     "output_type": "stream",
     "text": [
      "\r",
      " 67%|█████████████████████████████████████████████████▌                        | 669/1000 [10:14:05<4:44:34, 51.58s/it]"
     ]
    },
    {
     "name": "stdout",
     "output_type": "stream",
     "text": [
      "[INFO] [2021-11-17 08:19:56,420] [OpenBox-Shadan] Iteration 670, objective value: [1.8412369786697411].\n"
     ]
    },
    {
     "name": "stderr",
     "output_type": "stream",
     "text": [
      "\r",
      " 67%|█████████████████████████████████████████████████▌                        | 670/1000 [10:14:55<4:40:40, 51.03s/it]"
     ]
    },
    {
     "name": "stdout",
     "output_type": "stream",
     "text": [
      "[INFO] [2021-11-17 08:20:46,175] [OpenBox-Shadan] Iteration 671, objective value: [2.7613518904464485].\n"
     ]
    },
    {
     "name": "stderr",
     "output_type": "stream",
     "text": [
      "\r",
      " 67%|█████████████████████████████████████████████████▋                        | 671/1000 [10:15:44<4:37:43, 50.65s/it]"
     ]
    },
    {
     "name": "stdout",
     "output_type": "stream",
     "text": [
      "[INFO] [2021-11-17 08:21:34,639] [OpenBox-Shadan] Iteration 672, objective value: [2.576244926223012].\n"
     ]
    },
    {
     "name": "stderr",
     "output_type": "stream",
     "text": [
      "\r",
      " 67%|█████████████████████████████████████████████████▋                        | 672/1000 [10:16:33<4:33:17, 49.99s/it]"
     ]
    },
    {
     "name": "stdout",
     "output_type": "stream",
     "text": [
      "[INFO] [2021-11-17 08:22:22,334] [OpenBox-Shadan] Iteration 673, objective value: [1.4020804718337132].\n"
     ]
    },
    {
     "name": "stderr",
     "output_type": "stream",
     "text": [
      "\r",
      " 67%|█████████████████████████████████████████████████▊                        | 673/1000 [10:17:20<4:28:42, 49.30s/it]"
     ]
    },
    {
     "name": "stdout",
     "output_type": "stream",
     "text": [
      "[INFO] [2021-11-17 08:23:07,769] [OpenBox-Shadan] Iteration 674, objective value: [100.0].\n"
     ]
    },
    {
     "name": "stderr",
     "output_type": "stream",
     "text": [
      "\r",
      " 67%|█████████████████████████████████████████████████▉                        | 674/1000 [10:18:06<4:21:34, 48.14s/it]"
     ]
    },
    {
     "name": "stdout",
     "output_type": "stream",
     "text": [
      "[INFO] [2021-11-17 08:23:54,423] [OpenBox-Shadan] Iteration 675, objective value: [4.05670853310734].\n"
     ]
    },
    {
     "name": "stderr",
     "output_type": "stream",
     "text": [
      "\r",
      " 68%|█████████████████████████████████████████████████▉                        | 675/1000 [10:18:53<4:18:21, 47.70s/it]"
     ]
    },
    {
     "name": "stdout",
     "output_type": "stream",
     "text": [
      "[INFO] [2021-11-17 08:24:43,450] [OpenBox-Shadan] Iteration 676, objective value: [5.014803316888248].\n"
     ]
    },
    {
     "name": "stderr",
     "output_type": "stream",
     "text": [
      "\r",
      " 68%|██████████████████████████████████████████████████                        | 676/1000 [10:19:42<4:19:42, 48.10s/it]"
     ]
    },
    {
     "name": "stdout",
     "output_type": "stream",
     "text": [
      "[INFO] [2021-11-17 08:25:29,557] [OpenBox-Shadan] Iteration 677, objective value: [100.0].\n"
     ]
    },
    {
     "name": "stderr",
     "output_type": "stream",
     "text": [
      "\r",
      " 68%|██████████████████████████████████████████████████                        | 677/1000 [10:20:28<4:15:42, 47.50s/it]"
     ]
    },
    {
     "name": "stdout",
     "output_type": "stream",
     "text": [
      "[INFO] [2021-11-17 08:26:17,258] [OpenBox-Shadan] Iteration 678, objective value: [9.767163001201041].\n"
     ]
    },
    {
     "name": "stderr",
     "output_type": "stream",
     "text": [
      "\r",
      " 68%|██████████████████████████████████████████████████▏                       | 678/1000 [10:21:15<4:15:14, 47.56s/it]"
     ]
    },
    {
     "name": "stdout",
     "output_type": "stream",
     "text": [
      "[INFO] [2021-11-17 08:27:06,808] [OpenBox-Shadan] Iteration 679, objective value: [3.6320403736482376].\n"
     ]
    },
    {
     "name": "stderr",
     "output_type": "stream",
     "text": [
      "\r",
      " 68%|██████████████████████████████████████████████████▏                       | 679/1000 [10:22:05<4:17:38, 48.16s/it]"
     ]
    },
    {
     "name": "stdout",
     "output_type": "stream",
     "text": [
      "[INFO] [2021-11-17 08:27:54,480] [OpenBox-Shadan] Iteration 680, objective value: [100.0].\n"
     ]
    },
    {
     "name": "stderr",
     "output_type": "stream",
     "text": [
      "\r",
      " 68%|██████████████████████████████████████████████████▎                       | 680/1000 [10:22:53<4:16:03, 48.01s/it]"
     ]
    },
    {
     "name": "stdout",
     "output_type": "stream",
     "text": [
      "[INFO] [2021-11-17 08:28:43,674] [OpenBox-Shadan] Iteration 681, objective value: [0.7909328034221801].\n"
     ]
    },
    {
     "name": "stderr",
     "output_type": "stream",
     "text": [
      "\r",
      " 68%|██████████████████████████████████████████████████▍                       | 681/1000 [10:23:42<4:17:08, 48.37s/it]"
     ]
    },
    {
     "name": "stdout",
     "output_type": "stream",
     "text": [
      "[INFO] [2021-11-17 08:29:32,862] [OpenBox-Shadan] Iteration 682, objective value: [22.89531531815659].\n"
     ]
    },
    {
     "name": "stderr",
     "output_type": "stream",
     "text": [
      "\r",
      " 68%|██████████████████████████████████████████████████▍                       | 682/1000 [10:24:31<4:17:38, 48.61s/it]"
     ]
    },
    {
     "name": "stdout",
     "output_type": "stream",
     "text": [
      "[INFO] [2021-11-17 08:30:25,130] [OpenBox-Shadan] Iteration 683, objective value: [3.340517300374003].\n"
     ]
    },
    {
     "name": "stderr",
     "output_type": "stream",
     "text": [
      "\r",
      " 68%|██████████████████████████████████████████████████▌                       | 683/1000 [10:25:23<4:22:37, 49.71s/it]"
     ]
    },
    {
     "name": "stdout",
     "output_type": "stream",
     "text": [
      "[INFO] [2021-11-17 08:31:13,802] [OpenBox-Shadan] Iteration 684, objective value: [31.146304675716436].\n"
     ]
    },
    {
     "name": "stderr",
     "output_type": "stream",
     "text": [
      "\r",
      " 68%|██████████████████████████████████████████████████▌                       | 684/1000 [10:26:12<4:20:09, 49.40s/it]"
     ]
    },
    {
     "name": "stdout",
     "output_type": "stream",
     "text": [
      "[INFO] [2021-11-17 08:32:02,419] [OpenBox-Shadan] Iteration 685, objective value: [0.603719653507298].\n"
     ]
    },
    {
     "name": "stderr",
     "output_type": "stream",
     "text": [
      "\r",
      " 68%|██████████████████████████████████████████████████▋                       | 685/1000 [10:27:01<4:18:06, 49.16s/it]"
     ]
    },
    {
     "name": "stdout",
     "output_type": "stream",
     "text": [
      "[INFO] [2021-11-17 08:32:51,896] [OpenBox-Shadan] Iteration 686, objective value: [6.887336015181262].\n"
     ]
    },
    {
     "name": "stderr",
     "output_type": "stream",
     "text": [
      "\r",
      " 69%|██████████████████████████████████████████████████▊                       | 686/1000 [10:27:50<4:17:46, 49.26s/it]"
     ]
    },
    {
     "name": "stdout",
     "output_type": "stream",
     "text": [
      "[INFO] [2021-11-17 08:33:39,267] [OpenBox-Shadan] Iteration 687, objective value: [1.7543796193172057].\n"
     ]
    },
    {
     "name": "stderr",
     "output_type": "stream",
     "text": [
      "\r",
      " 69%|██████████████████████████████████████████████████▊                       | 687/1000 [10:28:37<4:14:00, 48.69s/it]"
     ]
    },
    {
     "name": "stdout",
     "output_type": "stream",
     "text": [
      "[INFO] [2021-11-17 08:34:29,333] [OpenBox-Shadan] Iteration 688, objective value: [3.923482368059311].\n"
     ]
    },
    {
     "name": "stderr",
     "output_type": "stream",
     "text": [
      "\r",
      " 69%|██████████████████████████████████████████████████▉                       | 688/1000 [10:29:27<4:15:20, 49.10s/it]"
     ]
    },
    {
     "name": "stdout",
     "output_type": "stream",
     "text": [
      "[INFO] [2021-11-17 08:35:22,930] [OpenBox-Shadan] Iteration 689, objective value: [48.32352440133051].\n"
     ]
    },
    {
     "name": "stderr",
     "output_type": "stream",
     "text": [
      "\r",
      " 69%|██████████████████████████████████████████████████▉                       | 689/1000 [10:30:21<4:21:30, 50.45s/it]"
     ]
    },
    {
     "name": "stdout",
     "output_type": "stream",
     "text": [
      "[INFO] [2021-11-17 08:36:14,730] [OpenBox-Shadan] Iteration 690, objective value: [1.3427681140206857].\n"
     ]
    },
    {
     "name": "stderr",
     "output_type": "stream",
     "text": [
      "\r",
      " 69%|███████████████████████████████████████████████████                       | 690/1000 [10:31:13<4:22:45, 50.86s/it]"
     ]
    },
    {
     "name": "stdout",
     "output_type": "stream",
     "text": [
      "[INFO] [2021-11-17 08:37:02,238] [OpenBox-Shadan] Iteration 691, objective value: [2.840391460377006].\n"
     ]
    },
    {
     "name": "stderr",
     "output_type": "stream",
     "text": [
      "\r",
      " 69%|███████████████████████████████████████████████████▏                      | 691/1000 [10:32:00<4:16:44, 49.85s/it]"
     ]
    },
    {
     "name": "stdout",
     "output_type": "stream",
     "text": [
      "[INFO] [2021-11-17 08:37:50,176] [OpenBox-Shadan] Iteration 692, objective value: [14.803098650448504].\n"
     ]
    },
    {
     "name": "stderr",
     "output_type": "stream",
     "text": [
      "\r",
      " 69%|███████████████████████████████████████████████████▏                      | 692/1000 [10:32:48<4:12:57, 49.28s/it]"
     ]
    },
    {
     "name": "stdout",
     "output_type": "stream",
     "text": [
      "[INFO] [2021-11-17 08:38:39,022] [OpenBox-Shadan] Iteration 693, objective value: [3.026923152065123].\n"
     ]
    },
    {
     "name": "stderr",
     "output_type": "stream",
     "text": [
      "\r",
      " 69%|███████████████████████████████████████████████████▎                      | 693/1000 [10:33:37<4:11:28, 49.15s/it]"
     ]
    },
    {
     "name": "stdout",
     "output_type": "stream",
     "text": [
      "[INFO] [2021-11-17 08:39:27,801] [OpenBox-Shadan] Iteration 694, objective value: [1.1736463113546307].\n"
     ]
    },
    {
     "name": "stderr",
     "output_type": "stream",
     "text": [
      "\r",
      " 69%|███████████████████████████████████████████████████▎                      | 694/1000 [10:34:26<4:10:05, 49.04s/it]"
     ]
    },
    {
     "name": "stdout",
     "output_type": "stream",
     "text": [
      "[INFO] [2021-11-17 08:40:17,258] [OpenBox-Shadan] Iteration 695, objective value: [2.131998838503222].\n"
     ]
    },
    {
     "name": "stderr",
     "output_type": "stream",
     "text": [
      "\r",
      " 70%|███████████████████████████████████████████████████▍                      | 695/1000 [10:35:15<4:09:54, 49.16s/it]"
     ]
    },
    {
     "name": "stdout",
     "output_type": "stream",
     "text": [
      "[INFO] [2021-11-17 08:41:06,463] [OpenBox-Shadan] Iteration 696, objective value: [5.109827937153852].\n"
     ]
    },
    {
     "name": "stderr",
     "output_type": "stream",
     "text": [
      "\r",
      " 70%|███████████████████████████████████████████████████▌                      | 696/1000 [10:36:05<4:09:09, 49.18s/it]"
     ]
    },
    {
     "name": "stdout",
     "output_type": "stream",
     "text": [
      "[INFO] [2021-11-17 08:41:56,608] [OpenBox-Shadan] Iteration 697, objective value: [3.5744996876368873].\n"
     ]
    },
    {
     "name": "stderr",
     "output_type": "stream",
     "text": [
      "\r",
      " 70%|███████████████████████████████████████████████████▌                      | 697/1000 [10:36:55<4:09:48, 49.47s/it]"
     ]
    },
    {
     "name": "stdout",
     "output_type": "stream",
     "text": [
      "[INFO] [2021-11-17 08:42:45,664] [OpenBox-Shadan] Iteration 698, objective value: [1.3566187074548708].\n"
     ]
    },
    {
     "name": "stderr",
     "output_type": "stream",
     "text": [
      "\r",
      " 70%|███████████████████████████████████████████████████▋                      | 698/1000 [10:37:44<4:08:21, 49.34s/it]"
     ]
    },
    {
     "name": "stdout",
     "output_type": "stream",
     "text": [
      "[INFO] [2021-11-17 08:43:35,769] [OpenBox-Shadan] Iteration 699, objective value: [4.87411169690877].\n"
     ]
    },
    {
     "name": "stderr",
     "output_type": "stream",
     "text": [
      "\r",
      " 70%|███████████████████████████████████████████████████▋                      | 699/1000 [10:38:34<4:08:41, 49.57s/it]"
     ]
    },
    {
     "name": "stdout",
     "output_type": "stream",
     "text": [
      "[INFO] [2021-11-17 08:44:25,357] [OpenBox-Shadan] Iteration 700, objective value: [3.4420410117991196].\n"
     ]
    },
    {
     "name": "stderr",
     "output_type": "stream",
     "text": [
      "\r",
      " 70%|███████████████████████████████████████████████████▊                      | 700/1000 [10:39:24<4:07:53, 49.58s/it]"
     ]
    },
    {
     "name": "stdout",
     "output_type": "stream",
     "text": [
      "[INFO] [2021-11-17 08:45:15,074] [OpenBox-Shadan] Iteration 701, objective value: [7.38164689577809].\n"
     ]
    },
    {
     "name": "stderr",
     "output_type": "stream",
     "text": [
      "\r",
      " 70%|███████████████████████████████████████████████████▊                      | 701/1000 [10:40:13<4:07:16, 49.62s/it]"
     ]
    },
    {
     "name": "stdout",
     "output_type": "stream",
     "text": [
      "[INFO] [2021-11-17 08:46:10,123] [OpenBox-Shadan] Iteration 702, objective value: [30.730566042286384].\n"
     ]
    },
    {
     "name": "stderr",
     "output_type": "stream",
     "text": [
      "\r",
      " 70%|███████████████████████████████████████████████████▉                      | 702/1000 [10:41:08<4:14:31, 51.25s/it]"
     ]
    },
    {
     "name": "stdout",
     "output_type": "stream",
     "text": [
      "[INFO] [2021-11-17 08:46:57,645] [OpenBox-Shadan] Iteration 703, objective value: [3.603663998379375].\n"
     ]
    },
    {
     "name": "stderr",
     "output_type": "stream",
     "text": [
      "\r",
      " 70%|████████████████████████████████████████████████████                      | 703/1000 [10:41:56<4:08:08, 50.13s/it]"
     ]
    },
    {
     "name": "stdout",
     "output_type": "stream",
     "text": [
      "[INFO] [2021-11-17 08:47:49,247] [OpenBox-Shadan] Iteration 704, objective value: [36.14694999580102].\n"
     ]
    },
    {
     "name": "stderr",
     "output_type": "stream",
     "text": [
      "\r",
      " 70%|████████████████████████████████████████████████████                      | 704/1000 [10:42:47<4:09:29, 50.57s/it]"
     ]
    },
    {
     "name": "stdout",
     "output_type": "stream",
     "text": [
      "[INFO] [2021-11-17 08:48:38,013] [OpenBox-Shadan] Iteration 705, objective value: [1.7566730699810904].\n"
     ]
    },
    {
     "name": "stderr",
     "output_type": "stream",
     "text": [
      "\r",
      " 70%|████████████████████████████████████████████████████▏                     | 705/1000 [10:43:36<4:05:58, 50.03s/it]"
     ]
    },
    {
     "name": "stdout",
     "output_type": "stream",
     "text": [
      "[INFO] [2021-11-17 08:49:30,229] [OpenBox-Shadan] Iteration 706, objective value: [9.235967640670495].\n"
     ]
    },
    {
     "name": "stderr",
     "output_type": "stream",
     "text": [
      "\r",
      " 71%|████████████████████████████████████████████████████▏                     | 706/1000 [10:44:28<4:08:21, 50.69s/it]"
     ]
    },
    {
     "name": "stdout",
     "output_type": "stream",
     "text": [
      "[INFO] [2021-11-17 08:50:16,566] [OpenBox-Shadan] Iteration 707, objective value: [11.225390458795118].\n"
     ]
    },
    {
     "name": "stderr",
     "output_type": "stream",
     "text": [
      "\r",
      " 71%|████████████████████████████████████████████████████▎                     | 707/1000 [10:45:15<4:01:08, 49.38s/it]"
     ]
    },
    {
     "name": "stdout",
     "output_type": "stream",
     "text": [
      "[INFO] [2021-11-17 08:51:03,366] [OpenBox-Shadan] Iteration 708, objective value: [2.296657317612656].\n"
     ]
    },
    {
     "name": "stderr",
     "output_type": "stream",
     "text": [
      "\r",
      " 71%|████████████████████████████████████████████████████▍                     | 708/1000 [10:46:02<3:56:33, 48.61s/it]"
     ]
    },
    {
     "name": "stdout",
     "output_type": "stream",
     "text": [
      "[INFO] [2021-11-17 08:51:50,582] [OpenBox-Shadan] Iteration 709, objective value: [5.670003196181682].\n"
     ]
    },
    {
     "name": "stderr",
     "output_type": "stream",
     "text": [
      "\r",
      " 71%|████████████████████████████████████████████████████▍                     | 709/1000 [10:46:49<3:53:43, 48.19s/it]"
     ]
    },
    {
     "name": "stdout",
     "output_type": "stream",
     "text": [
      "[INFO] [2021-11-17 08:52:41,411] [OpenBox-Shadan] Iteration 710, objective value: [4.0778362643526975].\n"
     ]
    },
    {
     "name": "stderr",
     "output_type": "stream",
     "text": [
      "\r",
      " 71%|████████████████████████████████████████████████████▌                     | 710/1000 [10:47:40<3:56:44, 48.98s/it]"
     ]
    },
    {
     "name": "stdout",
     "output_type": "stream",
     "text": [
      "[INFO] [2021-11-17 08:53:31,518] [OpenBox-Shadan] Iteration 711, objective value: [3.9341665274987037].\n"
     ]
    },
    {
     "name": "stderr",
     "output_type": "stream",
     "text": [
      "\r",
      " 71%|████████████████████████████████████████████████████▌                     | 711/1000 [10:48:30<3:57:33, 49.32s/it]"
     ]
    },
    {
     "name": "stdout",
     "output_type": "stream",
     "text": [
      "[INFO] [2021-11-17 08:54:21,143] [OpenBox-Shadan] Iteration 712, objective value: [16.20547408905307].\n"
     ]
    },
    {
     "name": "stderr",
     "output_type": "stream",
     "text": [
      "\r",
      " 71%|████████████████████████████████████████████████████▋                     | 712/1000 [10:49:19<3:57:10, 49.41s/it]"
     ]
    },
    {
     "name": "stdout",
     "output_type": "stream",
     "text": [
      "[INFO] [2021-11-17 08:55:17,546] [OpenBox-Shadan] Iteration 713, objective value: [28.062626297581758].\n"
     ]
    },
    {
     "name": "stderr",
     "output_type": "stream",
     "text": [
      "\r",
      " 71%|████████████████████████████████████████████████████▊                     | 713/1000 [10:50:16<4:06:22, 51.51s/it]"
     ]
    },
    {
     "name": "stdout",
     "output_type": "stream",
     "text": [
      "[INFO] [2021-11-17 08:56:10,582] [OpenBox-Shadan] Iteration 714, objective value: [28.000884110527764].\n"
     ]
    },
    {
     "name": "stderr",
     "output_type": "stream",
     "text": [
      "\r",
      " 71%|████████████████████████████████████████████████████▊                     | 714/1000 [10:51:09<4:07:42, 51.97s/it]"
     ]
    },
    {
     "name": "stdout",
     "output_type": "stream",
     "text": [
      "[INFO] [2021-11-17 08:56:58,381] [OpenBox-Shadan] Iteration 715, objective value: [1.0023396012848877].\n"
     ]
    },
    {
     "name": "stderr",
     "output_type": "stream",
     "text": [
      "\r",
      " 72%|████████████████████████████████████████████████████▉                     | 715/1000 [10:51:57<4:00:54, 50.72s/it]"
     ]
    },
    {
     "name": "stdout",
     "output_type": "stream",
     "text": [
      "[INFO] [2021-11-17 08:57:48,196] [OpenBox-Shadan] Iteration 716, objective value: [2.232724428802868].\n"
     ]
    },
    {
     "name": "stderr",
     "output_type": "stream",
     "text": [
      "\r",
      " 72%|████████████████████████████████████████████████████▉                     | 716/1000 [10:52:46<3:58:46, 50.45s/it]"
     ]
    },
    {
     "name": "stdout",
     "output_type": "stream",
     "text": [
      "[INFO] [2021-11-17 08:58:40,898] [OpenBox-Shadan] Iteration 717, objective value: [1.4018488655254515].\n"
     ]
    },
    {
     "name": "stderr",
     "output_type": "stream",
     "text": [
      "\r",
      " 72%|█████████████████████████████████████████████████████                     | 717/1000 [10:53:39<4:01:07, 51.12s/it]"
     ]
    },
    {
     "name": "stdout",
     "output_type": "stream",
     "text": [
      "[INFO] [2021-11-17 08:59:33,296] [OpenBox-Shadan] Iteration 718, objective value: [19.445112761994437].\n"
     ]
    },
    {
     "name": "stderr",
     "output_type": "stream",
     "text": [
      "\r",
      " 72%|█████████████████████████████████████████████████████▏                    | 718/1000 [10:54:31<4:02:04, 51.51s/it]"
     ]
    },
    {
     "name": "stdout",
     "output_type": "stream",
     "text": [
      "[INFO] [2021-11-17 09:00:25,542] [OpenBox-Shadan] Iteration 719, objective value: [1.2160669162922488].\n"
     ]
    },
    {
     "name": "stderr",
     "output_type": "stream",
     "text": [
      "\r",
      " 72%|█████████████████████████████████████████████████████▏                    | 719/1000 [10:55:24<4:02:15, 51.73s/it]"
     ]
    },
    {
     "name": "stdout",
     "output_type": "stream",
     "text": [
      "[INFO] [2021-11-17 09:01:14,669] [OpenBox-Shadan] Iteration 720, objective value: [1.7573653244865].\n"
     ]
    },
    {
     "name": "stderr",
     "output_type": "stream",
     "text": [
      "\r",
      " 72%|█████████████████████████████████████████████████████▎                    | 720/1000 [10:56:13<3:57:45, 50.95s/it]"
     ]
    },
    {
     "name": "stdout",
     "output_type": "stream",
     "text": [
      "[INFO] [2021-11-17 09:02:05,979] [OpenBox-Shadan] Iteration 721, objective value: [1.9384531116740504].\n"
     ]
    },
    {
     "name": "stderr",
     "output_type": "stream",
     "text": [
      "\r",
      " 72%|█████████████████████████████████████████████████████▎                    | 721/1000 [10:57:04<3:57:24, 51.06s/it]"
     ]
    },
    {
     "name": "stdout",
     "output_type": "stream",
     "text": [
      "[INFO] [2021-11-17 09:03:02,083] [OpenBox-Shadan] Iteration 722, objective value: [48.588605838252676].\n"
     ]
    },
    {
     "name": "stderr",
     "output_type": "stream",
     "text": [
      "\r",
      " 72%|█████████████████████████████████████████████████████▍                    | 722/1000 [10:58:00<4:03:34, 52.57s/it]"
     ]
    },
    {
     "name": "stdout",
     "output_type": "stream",
     "text": [
      "[INFO] [2021-11-17 09:03:53,781] [OpenBox-Shadan] Iteration 723, objective value: [1.9846332545734526].\n"
     ]
    },
    {
     "name": "stderr",
     "output_type": "stream",
     "text": [
      "\r",
      " 72%|█████████████████████████████████████████████████████▌                    | 723/1000 [10:58:52<4:01:29, 52.31s/it]"
     ]
    },
    {
     "name": "stdout",
     "output_type": "stream",
     "text": [
      "[INFO] [2021-11-17 09:04:44,300] [OpenBox-Shadan] Iteration 724, objective value: [2.078256960192647].\n"
     ]
    },
    {
     "name": "stderr",
     "output_type": "stream",
     "text": [
      "\r",
      " 72%|█████████████████████████████████████████████████████▌                    | 724/1000 [10:59:42<3:58:09, 51.77s/it]"
     ]
    },
    {
     "name": "stdout",
     "output_type": "stream",
     "text": [
      "[INFO] [2021-11-17 09:05:32,004] [OpenBox-Shadan] Iteration 725, objective value: [3.2606732378298773].\n"
     ]
    },
    {
     "name": "stderr",
     "output_type": "stream",
     "text": [
      "\r",
      " 72%|█████████████████████████████████████████████████████▋                    | 725/1000 [11:00:30<3:51:41, 50.55s/it]"
     ]
    },
    {
     "name": "stdout",
     "output_type": "stream",
     "text": [
      "[INFO] [2021-11-17 09:06:26,052] [OpenBox-Shadan] Iteration 726, objective value: [19.45905177088102].\n"
     ]
    },
    {
     "name": "stderr",
     "output_type": "stream",
     "text": [
      "\r",
      " 73%|█████████████████████████████████████████████████████▋                    | 726/1000 [11:01:24<3:55:38, 51.60s/it]"
     ]
    },
    {
     "name": "stdout",
     "output_type": "stream",
     "text": [
      "[INFO] [2021-11-17 09:07:16,446] [OpenBox-Shadan] Iteration 727, objective value: [3.614969628512071].\n"
     ]
    },
    {
     "name": "stderr",
     "output_type": "stream",
     "text": [
      "\r",
      " 73%|█████████████████████████████████████████████████████▊                    | 727/1000 [11:02:15<3:53:08, 51.24s/it]"
     ]
    },
    {
     "name": "stdout",
     "output_type": "stream",
     "text": [
      "[INFO] [2021-11-17 09:08:04,111] [OpenBox-Shadan] Iteration 728, objective value: [3.4102615398917777].\n"
     ]
    },
    {
     "name": "stderr",
     "output_type": "stream",
     "text": [
      "\r",
      " 73%|█████████████████████████████████████████████████████▊                    | 728/1000 [11:03:02<3:47:25, 50.17s/it]"
     ]
    },
    {
     "name": "stdout",
     "output_type": "stream",
     "text": [
      "[INFO] [2021-11-17 09:08:54,784] [OpenBox-Shadan] Iteration 729, objective value: [11.963646897186067].\n"
     ]
    },
    {
     "name": "stderr",
     "output_type": "stream",
     "text": [
      "\r",
      " 73%|█████████████████████████████████████████████████████▉                    | 729/1000 [11:03:53<3:47:16, 50.32s/it]"
     ]
    },
    {
     "name": "stdout",
     "output_type": "stream",
     "text": [
      "[INFO] [2021-11-17 09:09:43,592] [OpenBox-Shadan] Iteration 730, objective value: [2.4365211459097225].\n"
     ]
    },
    {
     "name": "stderr",
     "output_type": "stream",
     "text": [
      "\r",
      " 73%|██████████████████████████████████████████████████████                    | 730/1000 [11:04:42<3:44:23, 49.87s/it]"
     ]
    },
    {
     "name": "stdout",
     "output_type": "stream",
     "text": [
      "[INFO] [2021-11-17 09:10:30,268] [OpenBox-Shadan] Iteration 731, objective value: [100.0].\n"
     ]
    },
    {
     "name": "stderr",
     "output_type": "stream",
     "text": [
      "\r",
      " 73%|██████████████████████████████████████████████████████                    | 731/1000 [11:05:28<3:39:16, 48.91s/it]"
     ]
    },
    {
     "name": "stdout",
     "output_type": "stream",
     "text": [
      "[INFO] [2021-11-17 09:11:18,911] [OpenBox-Shadan] Iteration 732, objective value: [9.639292715359431].\n"
     ]
    },
    {
     "name": "stderr",
     "output_type": "stream",
     "text": [
      "\r",
      " 73%|██████████████████████████████████████████████████████▏                   | 732/1000 [11:06:17<3:38:06, 48.83s/it]"
     ]
    },
    {
     "name": "stdout",
     "output_type": "stream",
     "text": [
      "[INFO] [2021-11-17 09:12:06,495] [OpenBox-Shadan] Iteration 733, objective value: [2.4189758224670044].\n"
     ]
    },
    {
     "name": "stderr",
     "output_type": "stream",
     "text": [
      "\r",
      " 73%|██████████████████████████████████████████████████████▏                   | 733/1000 [11:07:05<3:35:37, 48.46s/it]"
     ]
    },
    {
     "name": "stdout",
     "output_type": "stream",
     "text": [
      "[INFO] [2021-11-17 09:12:54,553] [OpenBox-Shadan] Iteration 734, objective value: [17.904786780722915].\n"
     ]
    },
    {
     "name": "stderr",
     "output_type": "stream",
     "text": [
      "\r",
      " 73%|██████████████████████████████████████████████████████▎                   | 734/1000 [11:07:53<3:34:17, 48.34s/it]"
     ]
    },
    {
     "name": "stdout",
     "output_type": "stream",
     "text": [
      "[INFO] [2021-11-17 09:13:43,970] [OpenBox-Shadan] Iteration 735, objective value: [22.986638546439025].\n"
     ]
    },
    {
     "name": "stderr",
     "output_type": "stream",
     "text": [
      "\r",
      " 74%|██████████████████████████████████████████████████████▍                   | 735/1000 [11:08:42<3:34:55, 48.66s/it]"
     ]
    },
    {
     "name": "stdout",
     "output_type": "stream",
     "text": [
      "[INFO] [2021-11-17 09:14:30,632] [OpenBox-Shadan] Iteration 736, objective value: [3.6422565696531137].\n"
     ]
    },
    {
     "name": "stderr",
     "output_type": "stream",
     "text": [
      "\r",
      " 74%|██████████████████████████████████████████████████████▍                   | 736/1000 [11:09:29<3:31:28, 48.06s/it]"
     ]
    },
    {
     "name": "stdout",
     "output_type": "stream",
     "text": [
      "[INFO] [2021-11-17 09:15:16,303] [OpenBox-Shadan] Iteration 737, objective value: [8.33869298134455].\n"
     ]
    },
    {
     "name": "stderr",
     "output_type": "stream",
     "text": [
      "\r",
      " 74%|██████████████████████████████████████████████████████▌                   | 737/1000 [11:10:14<3:27:31, 47.34s/it]"
     ]
    },
    {
     "name": "stdout",
     "output_type": "stream",
     "text": [
      "[INFO] [2021-11-17 09:16:07,275] [OpenBox-Shadan] Iteration 738, objective value: [59.05492784618143].\n"
     ]
    },
    {
     "name": "stderr",
     "output_type": "stream",
     "text": [
      "\r",
      " 74%|██████████████████████████████████████████████████████▌                   | 738/1000 [11:11:05<3:31:29, 48.43s/it]"
     ]
    },
    {
     "name": "stdout",
     "output_type": "stream",
     "text": [
      "[INFO] [2021-11-17 09:16:54,064] [OpenBox-Shadan] Iteration 739, objective value: [17.14156410046654].\n"
     ]
    },
    {
     "name": "stderr",
     "output_type": "stream",
     "text": [
      "\r",
      " 74%|██████████████████████████████████████████████████████▋                   | 739/1000 [11:11:52<3:28:32, 47.94s/it]"
     ]
    },
    {
     "name": "stdout",
     "output_type": "stream",
     "text": [
      "[INFO] [2021-11-17 09:17:46,933] [OpenBox-Shadan] Iteration 740, objective value: [1.6841644839073098].\n"
     ]
    },
    {
     "name": "stderr",
     "output_type": "stream",
     "text": [
      "\r",
      " 74%|██████████████████████████████████████████████████████▊                   | 740/1000 [11:12:45<3:34:08, 49.42s/it]"
     ]
    },
    {
     "name": "stdout",
     "output_type": "stream",
     "text": [
      "[INFO] [2021-11-17 09:18:35,081] [OpenBox-Shadan] Iteration 741, objective value: [1.7053123939837889].\n"
     ]
    },
    {
     "name": "stderr",
     "output_type": "stream",
     "text": [
      "\r",
      " 74%|██████████████████████████████████████████████████████▊                   | 741/1000 [11:13:33<3:31:40, 49.04s/it]"
     ]
    },
    {
     "name": "stdout",
     "output_type": "stream",
     "text": [
      "[INFO] [2021-11-17 09:19:22,806] [OpenBox-Shadan] Iteration 742, objective value: [3.4879822808201197].\n"
     ]
    },
    {
     "name": "stderr",
     "output_type": "stream",
     "text": [
      "\r",
      " 74%|██████████████████████████████████████████████████████▉                   | 742/1000 [11:14:21<3:29:09, 48.64s/it]"
     ]
    },
    {
     "name": "stdout",
     "output_type": "stream",
     "text": [
      "[INFO] [2021-11-17 09:20:14,219] [OpenBox-Shadan] Iteration 743, objective value: [6.745362429655685].\n"
     ]
    },
    {
     "name": "stderr",
     "output_type": "stream",
     "text": [
      "\r",
      " 74%|██████████████████████████████████████████████████████▉                   | 743/1000 [11:15:12<3:31:54, 49.47s/it]"
     ]
    },
    {
     "name": "stdout",
     "output_type": "stream",
     "text": [
      "[INFO] [2021-11-17 09:21:03,535] [OpenBox-Shadan] Iteration 744, objective value: [5.823489489300641].\n"
     ]
    },
    {
     "name": "stderr",
     "output_type": "stream",
     "text": [
      "\r",
      " 74%|███████████████████████████████████████████████████████                   | 744/1000 [11:16:02<3:30:53, 49.43s/it]"
     ]
    },
    {
     "name": "stdout",
     "output_type": "stream",
     "text": [
      "[INFO] [2021-11-17 09:21:53,531] [OpenBox-Shadan] Iteration 745, objective value: [33.86879465453303].\n"
     ]
    },
    {
     "name": "stderr",
     "output_type": "stream",
     "text": [
      "\r",
      " 74%|███████████████████████████████████████████████████████▏                  | 745/1000 [11:16:52<3:30:47, 49.60s/it]"
     ]
    },
    {
     "name": "stdout",
     "output_type": "stream",
     "text": [
      "[INFO] [2021-11-17 09:22:39,691] [OpenBox-Shadan] Iteration 746, objective value: [31.724867724867735].\n"
     ]
    },
    {
     "name": "stderr",
     "output_type": "stream",
     "text": [
      "\r",
      " 75%|███████████████████████████████████████████████████████▏                  | 746/1000 [11:17:38<3:25:35, 48.57s/it]"
     ]
    },
    {
     "name": "stdout",
     "output_type": "stream",
     "text": [
      "[INFO] [2021-11-17 09:23:29,152] [OpenBox-Shadan] Iteration 747, objective value: [0.2116416851960281].\n"
     ]
    },
    {
     "name": "stderr",
     "output_type": "stream",
     "text": [
      "\r",
      " 75%|███████████████████████████████████████████████████████▎                  | 747/1000 [11:18:27<3:25:55, 48.83s/it]"
     ]
    },
    {
     "name": "stdout",
     "output_type": "stream",
     "text": [
      "[INFO] [2021-11-17 09:24:20,120] [OpenBox-Shadan] Iteration 748, objective value: [1.1435056795637735].\n"
     ]
    },
    {
     "name": "stderr",
     "output_type": "stream",
     "text": [
      "\r",
      " 75%|███████████████████████████████████████████████████████▎                  | 748/1000 [11:19:18<3:27:47, 49.47s/it]"
     ]
    },
    {
     "name": "stdout",
     "output_type": "stream",
     "text": [
      "[INFO] [2021-11-17 09:25:13,695] [OpenBox-Shadan] Iteration 749, objective value: [2.188266793900482].\n"
     ]
    },
    {
     "name": "stderr",
     "output_type": "stream",
     "text": [
      "\r",
      " 75%|███████████████████████████████████████████████████████▍                  | 749/1000 [11:20:12<3:32:06, 50.70s/it]"
     ]
    },
    {
     "name": "stdout",
     "output_type": "stream",
     "text": [
      "[INFO] [2021-11-17 09:26:05,913] [OpenBox-Shadan] Iteration 750, objective value: [4.187927137178974].\n"
     ]
    },
    {
     "name": "stderr",
     "output_type": "stream",
     "text": [
      "\r",
      " 75%|███████████████████████████████████████████████████████▌                  | 750/1000 [11:21:04<3:33:09, 51.16s/it]"
     ]
    },
    {
     "name": "stdout",
     "output_type": "stream",
     "text": [
      "[INFO] [2021-11-17 09:27:04,752] [OpenBox-Shadan] Iteration 751, objective value: [15.435366738705909].\n"
     ]
    },
    {
     "name": "stderr",
     "output_type": "stream",
     "text": [
      "\r",
      " 75%|███████████████████████████████████████████████████████▌                  | 751/1000 [11:22:03<3:41:52, 53.46s/it]"
     ]
    },
    {
     "name": "stdout",
     "output_type": "stream",
     "text": [
      "[INFO] [2021-11-17 09:27:58,479] [OpenBox-Shadan] Iteration 752, objective value: [20.161358067912403].\n"
     ]
    },
    {
     "name": "stderr",
     "output_type": "stream",
     "text": [
      "\r",
      " 75%|███████████████████████████████████████████████████████▋                  | 752/1000 [11:22:57<3:41:18, 53.54s/it]"
     ]
    },
    {
     "name": "stdout",
     "output_type": "stream",
     "text": [
      "[INFO] [2021-11-17 09:28:49,107] [OpenBox-Shadan] Iteration 753, objective value: [1.5312096534384523].\n"
     ]
    },
    {
     "name": "stderr",
     "output_type": "stream",
     "text": [
      "\r",
      " 75%|███████████████████████████████████████████████████████▋                  | 753/1000 [11:23:47<3:36:48, 52.67s/it]"
     ]
    },
    {
     "name": "stdout",
     "output_type": "stream",
     "text": [
      "[INFO] [2021-11-17 09:29:37,683] [OpenBox-Shadan] Iteration 754, objective value: [2.6699774135484944].\n"
     ]
    },
    {
     "name": "stderr",
     "output_type": "stream",
     "text": [
      "\r",
      " 75%|███████████████████████████████████████████████████████▊                  | 754/1000 [11:24:36<3:30:54, 51.44s/it]"
     ]
    },
    {
     "name": "stdout",
     "output_type": "stream",
     "text": [
      "[INFO] [2021-11-17 09:30:23,128] [OpenBox-Shadan] Iteration 755, objective value: [20.44697970119317].\n"
     ]
    },
    {
     "name": "stderr",
     "output_type": "stream",
     "text": [
      "\r",
      " 76%|███████████████████████████████████████████████████████▊                  | 755/1000 [11:25:21<3:22:42, 49.64s/it]"
     ]
    },
    {
     "name": "stdout",
     "output_type": "stream",
     "text": [
      "[INFO] [2021-11-17 09:31:04,679] [OpenBox-Shadan] Iteration 756, objective value: [5.545162341775892].\n"
     ]
    },
    {
     "name": "stderr",
     "output_type": "stream",
     "text": [
      "\r",
      " 76%|███████████████████████████████████████████████████████▉                  | 756/1000 [11:26:03<3:12:00, 47.21s/it]"
     ]
    },
    {
     "name": "stdout",
     "output_type": "stream",
     "text": [
      "[INFO] [2021-11-17 09:31:46,327] [OpenBox-Shadan] Iteration 757, objective value: [4.695024677617866].\n"
     ]
    },
    {
     "name": "stderr",
     "output_type": "stream",
     "text": [
      "\r",
      " 76%|████████████████████████████████████████████████████████                  | 757/1000 [11:26:44<3:04:27, 45.54s/it]"
     ]
    },
    {
     "name": "stdout",
     "output_type": "stream",
     "text": [
      "[INFO] [2021-11-17 09:32:27,296] [OpenBox-Shadan] Iteration 758, objective value: [4.942683941850049].\n"
     ]
    },
    {
     "name": "stderr",
     "output_type": "stream",
     "text": [
      "\r",
      " 76%|████████████████████████████████████████████████████████                  | 758/1000 [11:27:25<2:58:09, 44.17s/it]"
     ]
    },
    {
     "name": "stdout",
     "output_type": "stream",
     "text": [
      "[INFO] [2021-11-17 09:33:14,697] [OpenBox-Shadan] Iteration 759, objective value: [4.469956128490239].\n"
     ]
    },
    {
     "name": "stderr",
     "output_type": "stream",
     "text": [
      "\r",
      " 76%|████████████████████████████████████████████████████████▏                 | 759/1000 [11:28:13<3:01:18, 45.14s/it]"
     ]
    },
    {
     "name": "stdout",
     "output_type": "stream",
     "text": [
      "[INFO] [2021-11-17 09:34:00,563] [OpenBox-Shadan] Iteration 760, objective value: [55.29282904959595].\n"
     ]
    },
    {
     "name": "stderr",
     "output_type": "stream",
     "text": [
      "\r",
      " 76%|████████████████████████████████████████████████████████▏                 | 760/1000 [11:28:59<3:01:26, 45.36s/it]"
     ]
    },
    {
     "name": "stdout",
     "output_type": "stream",
     "text": [
      "[INFO] [2021-11-17 09:34:41,029] [OpenBox-Shadan] Iteration 761, objective value: [100.0].\n"
     ]
    },
    {
     "name": "stderr",
     "output_type": "stream",
     "text": [
      "\r",
      " 76%|████████████████████████████████████████████████████████▎                 | 761/1000 [11:29:39<2:54:49, 43.89s/it]"
     ]
    },
    {
     "name": "stdout",
     "output_type": "stream",
     "text": [
      "[INFO] [2021-11-17 09:35:22,833] [OpenBox-Shadan] Iteration 762, objective value: [100.0].\n"
     ]
    },
    {
     "name": "stderr",
     "output_type": "stream",
     "text": [
      "\r",
      " 76%|████████████████████████████████████████████████████████▍                 | 762/1000 [11:30:21<2:51:37, 43.26s/it]"
     ]
    },
    {
     "name": "stdout",
     "output_type": "stream",
     "text": [
      "[INFO] [2021-11-17 09:36:06,916] [OpenBox-Shadan] Iteration 763, objective value: [24.767502705513778].\n"
     ]
    },
    {
     "name": "stderr",
     "output_type": "stream",
     "text": [
      "\r",
      " 76%|████████████████████████████████████████████████████████▍                 | 763/1000 [11:31:05<2:51:51, 43.51s/it]"
     ]
    },
    {
     "name": "stdout",
     "output_type": "stream",
     "text": [
      "[INFO] [2021-11-17 09:36:49,491] [OpenBox-Shadan] Iteration 764, objective value: [1.0944830683441467].\n"
     ]
    },
    {
     "name": "stderr",
     "output_type": "stream",
     "text": [
      "\r",
      " 76%|████████████████████████████████████████████████████████▌                 | 764/1000 [11:31:48<2:50:02, 43.23s/it]"
     ]
    },
    {
     "name": "stdout",
     "output_type": "stream",
     "text": [
      "[INFO] [2021-11-17 09:37:34,174] [OpenBox-Shadan] Iteration 765, objective value: [18.033483651271922].\n"
     ]
    },
    {
     "name": "stderr",
     "output_type": "stream",
     "text": [
      "\r",
      " 76%|████████████████████████████████████████████████████████▌                 | 765/1000 [11:32:32<2:51:01, 43.67s/it]"
     ]
    },
    {
     "name": "stdout",
     "output_type": "stream",
     "text": [
      "[INFO] [2021-11-17 09:38:20,139] [OpenBox-Shadan] Iteration 766, objective value: [0.5860136146920638].\n"
     ]
    },
    {
     "name": "stderr",
     "output_type": "stream",
     "text": [
      "\r",
      " 77%|████████████████████████████████████████████████████████▋                 | 766/1000 [11:33:18<2:52:59, 44.36s/it]"
     ]
    },
    {
     "name": "stdout",
     "output_type": "stream",
     "text": [
      "[INFO] [2021-11-17 09:39:04,955] [OpenBox-Shadan] Iteration 767, objective value: [6.929654134192461].\n"
     ]
    },
    {
     "name": "stderr",
     "output_type": "stream",
     "text": [
      "\r",
      " 77%|████████████████████████████████████████████████████████▊                 | 767/1000 [11:34:03<2:52:46, 44.49s/it]"
     ]
    },
    {
     "name": "stdout",
     "output_type": "stream",
     "text": [
      "[INFO] [2021-11-17 09:39:46,258] [OpenBox-Shadan] Iteration 768, objective value: [1.204278933917493].\n"
     ]
    },
    {
     "name": "stderr",
     "output_type": "stream",
     "text": [
      "\r",
      " 77%|████████████████████████████████████████████████████████▊                 | 768/1000 [11:34:44<2:48:20, 43.54s/it]"
     ]
    },
    {
     "name": "stdout",
     "output_type": "stream",
     "text": [
      "[INFO] [2021-11-17 09:40:29,176] [OpenBox-Shadan] Iteration 769, objective value: [5.304099357356179].\n"
     ]
    },
    {
     "name": "stderr",
     "output_type": "stream",
     "text": [
      "\r",
      " 77%|████████████████████████████████████████████████████████▉                 | 769/1000 [11:35:27<2:46:54, 43.35s/it]"
     ]
    },
    {
     "name": "stdout",
     "output_type": "stream",
     "text": [
      "[INFO] [2021-11-17 09:41:14,698] [OpenBox-Shadan] Iteration 770, objective value: [1.1310400444829156].\n"
     ]
    },
    {
     "name": "stderr",
     "output_type": "stream",
     "text": [
      "\r",
      " 77%|████████████████████████████████████████████████████████▉                 | 770/1000 [11:36:13<2:48:40, 44.00s/it]"
     ]
    },
    {
     "name": "stdout",
     "output_type": "stream",
     "text": [
      "[INFO] [2021-11-17 09:41:56,320] [OpenBox-Shadan] Iteration 771, objective value: [5.321768170032243].\n"
     ]
    },
    {
     "name": "stderr",
     "output_type": "stream",
     "text": [
      "\r",
      " 77%|█████████████████████████████████████████████████████████                 | 771/1000 [11:36:54<2:45:13, 43.29s/it]"
     ]
    },
    {
     "name": "stdout",
     "output_type": "stream",
     "text": [
      "[INFO] [2021-11-17 09:42:45,042] [OpenBox-Shadan] Iteration 772, objective value: [24.32804188309673].\n"
     ]
    },
    {
     "name": "stderr",
     "output_type": "stream",
     "text": [
      "\r",
      " 77%|█████████████████████████████████████████████████████████▏                | 772/1000 [11:37:43<2:50:41, 44.92s/it]"
     ]
    },
    {
     "name": "stdout",
     "output_type": "stream",
     "text": [
      "[INFO] [2021-11-17 09:43:26,619] [OpenBox-Shadan] Iteration 773, objective value: [4.574532525717174].\n"
     ]
    },
    {
     "name": "stderr",
     "output_type": "stream",
     "text": [
      "\r",
      " 77%|█████████████████████████████████████████████████████████▏                | 773/1000 [11:38:25<2:46:08, 43.92s/it]"
     ]
    },
    {
     "name": "stdout",
     "output_type": "stream",
     "text": [
      "[INFO] [2021-11-17 09:44:11,061] [OpenBox-Shadan] Iteration 774, objective value: [3.980996629051546].\n"
     ]
    },
    {
     "name": "stderr",
     "output_type": "stream",
     "text": [
      "\r",
      " 77%|█████████████████████████████████████████████████████████▎                | 774/1000 [11:39:09<2:46:00, 44.07s/it]"
     ]
    },
    {
     "name": "stdout",
     "output_type": "stream",
     "text": [
      "[INFO] [2021-11-17 09:44:54,284] [OpenBox-Shadan] Iteration 775, objective value: [0.7411590042081571].\n"
     ]
    },
    {
     "name": "stderr",
     "output_type": "stream",
     "text": [
      "\r",
      " 78%|█████████████████████████████████████████████████████████▎                | 775/1000 [11:39:52<2:44:19, 43.82s/it]"
     ]
    },
    {
     "name": "stdout",
     "output_type": "stream",
     "text": [
      "[INFO] [2021-11-17 09:45:37,339] [OpenBox-Shadan] Iteration 776, objective value: [3.7311897595679113].\n"
     ]
    },
    {
     "name": "stderr",
     "output_type": "stream",
     "text": [
      "\r",
      " 78%|█████████████████████████████████████████████████████████▍                | 776/1000 [11:40:36<2:42:43, 43.59s/it]"
     ]
    },
    {
     "name": "stdout",
     "output_type": "stream",
     "text": [
      "[INFO] [2021-11-17 09:46:22,799] [OpenBox-Shadan] Iteration 777, objective value: [32.079190949946906].\n"
     ]
    },
    {
     "name": "stderr",
     "output_type": "stream",
     "text": [
      "\r",
      " 78%|█████████████████████████████████████████████████████████▍                | 777/1000 [11:41:21<2:44:05, 44.15s/it]"
     ]
    },
    {
     "name": "stdout",
     "output_type": "stream",
     "text": [
      "[INFO] [2021-11-17 09:47:08,799] [OpenBox-Shadan] Iteration 778, objective value: [22.00091969456082].\n"
     ]
    },
    {
     "name": "stderr",
     "output_type": "stream",
     "text": [
      "\r",
      " 78%|█████████████████████████████████████████████████████████▌                | 778/1000 [11:42:07<2:45:24, 44.71s/it]"
     ]
    },
    {
     "name": "stdout",
     "output_type": "stream",
     "text": [
      "[INFO] [2021-11-17 09:47:55,137] [OpenBox-Shadan] Iteration 779, objective value: [4.751718545129464].\n"
     ]
    },
    {
     "name": "stderr",
     "output_type": "stream",
     "text": [
      "\r",
      " 78%|█████████████████████████████████████████████████████████▋                | 779/1000 [11:42:53<2:46:28, 45.20s/it]"
     ]
    },
    {
     "name": "stdout",
     "output_type": "stream",
     "text": [
      "[INFO] [2021-11-17 09:48:38,040] [OpenBox-Shadan] Iteration 780, objective value: [0.7190840732965569].\n"
     ]
    },
    {
     "name": "stderr",
     "output_type": "stream",
     "text": [
      "\r",
      " 78%|█████████████████████████████████████████████████████████▋                | 780/1000 [11:43:36<2:43:11, 44.51s/it]"
     ]
    },
    {
     "name": "stdout",
     "output_type": "stream",
     "text": [
      "[INFO] [2021-11-17 09:49:23,261] [OpenBox-Shadan] Iteration 781, objective value: [4.042342219747283].\n"
     ]
    },
    {
     "name": "stderr",
     "output_type": "stream",
     "text": [
      "\r",
      " 78%|█████████████████████████████████████████████████████████▊                | 781/1000 [11:44:21<2:43:14, 44.72s/it]"
     ]
    },
    {
     "name": "stdout",
     "output_type": "stream",
     "text": [
      "[INFO] [2021-11-17 09:50:12,017] [OpenBox-Shadan] Iteration 782, objective value: [34.21551353952785].\n"
     ]
    },
    {
     "name": "stderr",
     "output_type": "stream",
     "text": [
      "\r",
      " 78%|█████████████████████████████████████████████████████████▊                | 782/1000 [11:45:10<2:46:53, 45.93s/it]"
     ]
    },
    {
     "name": "stdout",
     "output_type": "stream",
     "text": [
      "[INFO] [2021-11-17 09:50:54,360] [OpenBox-Shadan] Iteration 783, objective value: [9.266608810019292].\n"
     ]
    },
    {
     "name": "stderr",
     "output_type": "stream",
     "text": [
      "\r",
      " 78%|█████████████████████████████████████████████████████████▉                | 783/1000 [11:45:53<2:42:13, 44.86s/it]"
     ]
    },
    {
     "name": "stdout",
     "output_type": "stream",
     "text": [
      "[INFO] [2021-11-17 09:51:36,732] [OpenBox-Shadan] Iteration 784, objective value: [3.290280011200352].\n"
     ]
    },
    {
     "name": "stderr",
     "output_type": "stream",
     "text": [
      "\r",
      " 78%|██████████████████████████████████████████████████████████                | 784/1000 [11:46:35<2:38:47, 44.11s/it]"
     ]
    },
    {
     "name": "stdout",
     "output_type": "stream",
     "text": [
      "[INFO] [2021-11-17 09:52:22,396] [OpenBox-Shadan] Iteration 785, objective value: [19.21061461283017].\n"
     ]
    },
    {
     "name": "stderr",
     "output_type": "stream",
     "text": [
      "\r",
      " 78%|██████████████████████████████████████████████████████████                | 785/1000 [11:47:21<2:39:43, 44.58s/it]"
     ]
    },
    {
     "name": "stdout",
     "output_type": "stream",
     "text": [
      "[INFO] [2021-11-17 09:53:03,710] [OpenBox-Shadan] Iteration 786, objective value: [5.62187921666559].\n"
     ]
    },
    {
     "name": "stderr",
     "output_type": "stream",
     "text": [
      "\r",
      " 79%|██████████████████████████████████████████████████████████▏               | 786/1000 [11:48:02<2:35:29, 43.60s/it]"
     ]
    },
    {
     "name": "stdout",
     "output_type": "stream",
     "text": [
      "[INFO] [2021-11-17 09:53:47,049] [OpenBox-Shadan] Iteration 787, objective value: [32.498200759834916].\n"
     ]
    },
    {
     "name": "stderr",
     "output_type": "stream",
     "text": [
      "\r",
      " 79%|██████████████████████████████████████████████████████████▏               | 787/1000 [11:48:45<2:34:29, 43.52s/it]"
     ]
    },
    {
     "name": "stdout",
     "output_type": "stream",
     "text": [
      "[INFO] [2021-11-17 09:54:28,549] [OpenBox-Shadan] Iteration 788, objective value: [26.290698995009464].\n"
     ]
    },
    {
     "name": "stderr",
     "output_type": "stream",
     "text": [
      "\r",
      " 79%|██████████████████████████████████████████████████████████▎               | 788/1000 [11:49:27<2:31:37, 42.91s/it]"
     ]
    },
    {
     "name": "stdout",
     "output_type": "stream",
     "text": [
      "[INFO] [2021-11-17 09:55:13,717] [OpenBox-Shadan] Iteration 789, objective value: [6.593873553762279].\n"
     ]
    },
    {
     "name": "stderr",
     "output_type": "stream",
     "text": [
      "\r",
      " 79%|██████████████████████████████████████████████████████████▍               | 789/1000 [11:50:12<2:33:17, 43.59s/it]"
     ]
    },
    {
     "name": "stdout",
     "output_type": "stream",
     "text": [
      "[INFO] [2021-11-17 09:55:58,720] [OpenBox-Shadan] Iteration 790, objective value: [2.0406019841340424].\n"
     ]
    },
    {
     "name": "stderr",
     "output_type": "stream",
     "text": [
      "\r",
      " 79%|██████████████████████████████████████████████████████████▍               | 790/1000 [11:50:57<2:34:02, 44.01s/it]"
     ]
    },
    {
     "name": "stdout",
     "output_type": "stream",
     "text": [
      "[INFO] [2021-11-17 09:56:47,461] [OpenBox-Shadan] Iteration 791, objective value: [18.656795568398906].\n"
     ]
    },
    {
     "name": "stderr",
     "output_type": "stream",
     "text": [
      "\r",
      " 79%|██████████████████████████████████████████████████████████▌               | 791/1000 [11:51:46<2:38:15, 45.43s/it]"
     ]
    },
    {
     "name": "stdout",
     "output_type": "stream",
     "text": [
      "[INFO] [2021-11-17 09:57:31,071] [OpenBox-Shadan] Iteration 792, objective value: [10.399475470656085].\n"
     ]
    },
    {
     "name": "stderr",
     "output_type": "stream",
     "text": [
      "\r",
      " 79%|██████████████████████████████████████████████████████████▌               | 792/1000 [11:52:29<2:35:36, 44.89s/it]"
     ]
    },
    {
     "name": "stdout",
     "output_type": "stream",
     "text": [
      "[INFO] [2021-11-17 09:58:13,654] [OpenBox-Shadan] Iteration 793, objective value: [5.797583751849572].\n"
     ]
    },
    {
     "name": "stderr",
     "output_type": "stream",
     "text": [
      "\r",
      " 79%|██████████████████████████████████████████████████████████▋               | 793/1000 [11:53:12<2:32:28, 44.19s/it]"
     ]
    },
    {
     "name": "stdout",
     "output_type": "stream",
     "text": [
      "[INFO] [2021-11-17 09:59:02,521] [OpenBox-Shadan] Iteration 794, objective value: [7.150063233378162].\n"
     ]
    },
    {
     "name": "stderr",
     "output_type": "stream",
     "text": [
      "\r",
      " 79%|██████████████████████████████████████████████████████████▊               | 794/1000 [11:54:01<2:36:32, 45.60s/it]"
     ]
    },
    {
     "name": "stdout",
     "output_type": "stream",
     "text": [
      "[INFO] [2021-11-17 09:59:45,545] [OpenBox-Shadan] Iteration 795, objective value: [3.1109457782643943].\n"
     ]
    },
    {
     "name": "stderr",
     "output_type": "stream",
     "text": [
      "\r",
      " 80%|██████████████████████████████████████████████████████████▊               | 795/1000 [11:54:44<2:33:09, 44.82s/it]"
     ]
    },
    {
     "name": "stdout",
     "output_type": "stream",
     "text": [
      "[INFO] [2021-11-17 10:00:29,018] [OpenBox-Shadan] Iteration 796, objective value: [2.78029089843146].\n"
     ]
    },
    {
     "name": "stderr",
     "output_type": "stream",
     "text": [
      "\r",
      " 80%|██████████████████████████████████████████████████████████▉               | 796/1000 [11:55:27<2:31:01, 44.42s/it]"
     ]
    },
    {
     "name": "stdout",
     "output_type": "stream",
     "text": [
      "[INFO] [2021-11-17 10:01:12,532] [OpenBox-Shadan] Iteration 797, objective value: [2.230252327419066].\n"
     ]
    },
    {
     "name": "stderr",
     "output_type": "stream",
     "text": [
      "\r",
      " 80%|██████████████████████████████████████████████████████████▉               | 797/1000 [11:56:11<2:29:21, 44.15s/it]"
     ]
    },
    {
     "name": "stdout",
     "output_type": "stream",
     "text": [
      "[INFO] [2021-11-17 10:01:56,711] [OpenBox-Shadan] Iteration 798, objective value: [1.2314429424596938].\n"
     ]
    },
    {
     "name": "stderr",
     "output_type": "stream",
     "text": [
      "\r",
      " 80%|███████████████████████████████████████████████████████████               | 798/1000 [11:56:55<2:28:39, 44.16s/it]"
     ]
    },
    {
     "name": "stdout",
     "output_type": "stream",
     "text": [
      "[INFO] [2021-11-17 10:02:40,285] [OpenBox-Shadan] Iteration 799, objective value: [6.077587378202125].\n"
     ]
    },
    {
     "name": "stderr",
     "output_type": "stream",
     "text": [
      "\r",
      " 80%|███████████████████████████████████████████████████████████▏              | 799/1000 [11:57:38<2:27:20, 43.98s/it]"
     ]
    },
    {
     "name": "stdout",
     "output_type": "stream",
     "text": [
      "[INFO] [2021-11-17 10:03:24,086] [OpenBox-Shadan] Iteration 800, objective value: [3.041062162800557].\n"
     ]
    },
    {
     "name": "stderr",
     "output_type": "stream",
     "text": [
      "\r",
      " 80%|███████████████████████████████████████████████████████████▏              | 800/1000 [11:58:22<2:26:25, 43.93s/it]"
     ]
    },
    {
     "name": "stdout",
     "output_type": "stream",
     "text": [
      "[INFO] [2021-11-17 10:04:07,715] [OpenBox-Shadan] Iteration 801, objective value: [2.7733161847966272].\n"
     ]
    },
    {
     "name": "stderr",
     "output_type": "stream",
     "text": [
      "\r",
      " 80%|███████████████████████████████████████████████████████████▎              | 801/1000 [11:59:06<2:25:23, 43.84s/it]"
     ]
    },
    {
     "name": "stdout",
     "output_type": "stream",
     "text": [
      "[INFO] [2021-11-17 10:04:50,256] [OpenBox-Shadan] Iteration 802, objective value: [0.49011620660890287].\n"
     ]
    },
    {
     "name": "stderr",
     "output_type": "stream",
     "text": [
      "\r",
      " 80%|███████████████████████████████████████████████████████████▎              | 802/1000 [11:59:48<2:23:22, 43.45s/it]"
     ]
    },
    {
     "name": "stdout",
     "output_type": "stream",
     "text": [
      "[INFO] [2021-11-17 10:05:32,123] [OpenBox-Shadan] Iteration 803, objective value: [1.9003962898759141].\n"
     ]
    },
    {
     "name": "stderr",
     "output_type": "stream",
     "text": [
      "\r",
      " 80%|███████████████████████████████████████████████████████████▍              | 803/1000 [12:00:30<2:21:06, 42.97s/it]"
     ]
    },
    {
     "name": "stdout",
     "output_type": "stream",
     "text": [
      "[INFO] [2021-11-17 10:06:16,279] [OpenBox-Shadan] Iteration 804, objective value: [5.637823503055728].\n"
     ]
    },
    {
     "name": "stderr",
     "output_type": "stream",
     "text": [
      "\r",
      " 80%|███████████████████████████████████████████████████████████▍              | 804/1000 [12:01:14<2:21:32, 43.33s/it]"
     ]
    },
    {
     "name": "stdout",
     "output_type": "stream",
     "text": [
      "[INFO] [2021-11-17 10:07:03,077] [OpenBox-Shadan] Iteration 805, objective value: [23.420567789892814].\n"
     ]
    },
    {
     "name": "stderr",
     "output_type": "stream",
     "text": [
      "\r",
      " 80%|███████████████████████████████████████████████████████████▌              | 805/1000 [12:02:01<2:24:12, 44.37s/it]"
     ]
    },
    {
     "name": "stdout",
     "output_type": "stream",
     "text": [
      "[INFO] [2021-11-17 10:07:45,782] [OpenBox-Shadan] Iteration 806, objective value: [0.8972708928893098].\n"
     ]
    },
    {
     "name": "stderr",
     "output_type": "stream",
     "text": [
      "\r",
      " 81%|███████████████████████████████████████████████████████████▋              | 806/1000 [12:02:44<2:21:50, 43.87s/it]"
     ]
    },
    {
     "name": "stdout",
     "output_type": "stream",
     "text": [
      "[INFO] [2021-11-17 10:08:32,776] [OpenBox-Shadan] Iteration 807, objective value: [29.79190448342915].\n"
     ]
    },
    {
     "name": "stderr",
     "output_type": "stream",
     "text": [
      "\r",
      " 81%|███████████████████████████████████████████████████████████▋              | 807/1000 [12:03:31<2:24:07, 44.81s/it]"
     ]
    },
    {
     "name": "stdout",
     "output_type": "stream",
     "text": [
      "[INFO] [2021-11-17 10:09:17,114] [OpenBox-Shadan] Iteration 808, objective value: [0.948860788109755].\n"
     ]
    },
    {
     "name": "stderr",
     "output_type": "stream",
     "text": [
      "\r",
      " 81%|███████████████████████████████████████████████████████████▊              | 808/1000 [12:04:15<2:22:55, 44.67s/it]"
     ]
    },
    {
     "name": "stdout",
     "output_type": "stream",
     "text": [
      "[INFO] [2021-11-17 10:10:00,222] [OpenBox-Shadan] Iteration 809, objective value: [0.43221876380937374].\n"
     ]
    },
    {
     "name": "stderr",
     "output_type": "stream",
     "text": [
      "\r",
      " 81%|███████████████████████████████████████████████████████████▊              | 809/1000 [12:04:58<2:20:42, 44.20s/it]"
     ]
    },
    {
     "name": "stdout",
     "output_type": "stream",
     "text": [
      "[INFO] [2021-11-17 10:10:44,223] [OpenBox-Shadan] Iteration 810, objective value: [3.7863013512393024].\n"
     ]
    },
    {
     "name": "stderr",
     "output_type": "stream",
     "text": [
      "\r",
      " 81%|███████████████████████████████████████████████████████████▉              | 810/1000 [12:05:42<2:19:46, 44.14s/it]"
     ]
    },
    {
     "name": "stdout",
     "output_type": "stream",
     "text": [
      "[INFO] [2021-11-17 10:11:27,389] [OpenBox-Shadan] Iteration 811, objective value: [2.1033482461884745].\n"
     ]
    },
    {
     "name": "stderr",
     "output_type": "stream",
     "text": [
      "\r",
      " 81%|████████████████████████████████████████████████████████████              | 811/1000 [12:06:26<2:18:07, 43.85s/it]"
     ]
    },
    {
     "name": "stdout",
     "output_type": "stream",
     "text": [
      "[INFO] [2021-11-17 10:12:08,441] [OpenBox-Shadan] Iteration 812, objective value: [16.235386503364268].\n"
     ]
    },
    {
     "name": "stderr",
     "output_type": "stream",
     "text": [
      "\r",
      " 81%|████████████████████████████████████████████████████████████              | 812/1000 [12:07:07<2:14:45, 43.01s/it]"
     ]
    },
    {
     "name": "stdout",
     "output_type": "stream",
     "text": [
      "[INFO] [2021-11-17 10:13:01,295] [OpenBox-Shadan] Iteration 813, objective value: [1.6899749292907842].\n"
     ]
    },
    {
     "name": "stderr",
     "output_type": "stream",
     "text": [
      "\r",
      " 81%|████████████████████████████████████████████████████████████▏             | 813/1000 [12:07:59<2:23:14, 45.96s/it]"
     ]
    },
    {
     "name": "stdout",
     "output_type": "stream",
     "text": [
      "[INFO] [2021-11-17 10:13:53,676] [OpenBox-Shadan] Iteration 814, objective value: [4.318038166210613].\n"
     ]
    },
    {
     "name": "stderr",
     "output_type": "stream",
     "text": [
      "\r",
      " 81%|████████████████████████████████████████████████████████████▏             | 814/1000 [12:08:52<2:28:27, 47.89s/it]"
     ]
    },
    {
     "name": "stdout",
     "output_type": "stream",
     "text": [
      "[INFO] [2021-11-17 10:14:42,590] [OpenBox-Shadan] Iteration 815, objective value: [0.6955946232629628].\n"
     ]
    },
    {
     "name": "stderr",
     "output_type": "stream",
     "text": [
      "\r",
      " 82%|████████████████████████████████████████████████████████████▎             | 815/1000 [12:09:41<2:28:36, 48.20s/it]"
     ]
    },
    {
     "name": "stdout",
     "output_type": "stream",
     "text": [
      "[INFO] [2021-11-17 10:15:31,586] [OpenBox-Shadan] Iteration 816, objective value: [8.346587117016426].\n"
     ]
    },
    {
     "name": "stderr",
     "output_type": "stream",
     "text": [
      "\r",
      " 82%|████████████████████████████████████████████████████████████▍             | 816/1000 [12:10:30<2:28:32, 48.44s/it]"
     ]
    },
    {
     "name": "stdout",
     "output_type": "stream",
     "text": [
      "[INFO] [2021-11-17 10:16:19,666] [OpenBox-Shadan] Iteration 817, objective value: [32.90197979914875].\n"
     ]
    },
    {
     "name": "stderr",
     "output_type": "stream",
     "text": [
      "\r",
      " 82%|████████████████████████████████████████████████████████████▍             | 817/1000 [12:11:18<2:27:24, 48.33s/it]"
     ]
    },
    {
     "name": "stdout",
     "output_type": "stream",
     "text": [
      "[INFO] [2021-11-17 10:17:05,754] [OpenBox-Shadan] Iteration 818, objective value: [5.1573853541929395].\n"
     ]
    },
    {
     "name": "stderr",
     "output_type": "stream",
     "text": [
      "\r",
      " 82%|████████████████████████████████████████████████████████████▌             | 818/1000 [12:12:04<2:24:33, 47.66s/it]"
     ]
    },
    {
     "name": "stdout",
     "output_type": "stream",
     "text": [
      "[INFO] [2021-11-17 10:17:58,194] [OpenBox-Shadan] Iteration 819, objective value: [0.27479863892835965].\n"
     ]
    },
    {
     "name": "stderr",
     "output_type": "stream",
     "text": [
      "\r",
      " 82%|████████████████████████████████████████████████████████████▌             | 819/1000 [12:12:56<2:28:05, 49.09s/it]"
     ]
    }
   ],
   "source": [
    "CONSTANTS = {\n",
    "    'iterations': 100,\n",
    "    'initial_samples': 10,\n",
    "    'restarts_number': 10,\n",
    "    'raw_samples': 10,\n",
    "    'candidates_num': 1,\n",
    "    'sequential': True,\n",
    "    'epsilon': 1,\n",
    "    'radius': 1,\n",
    "    'height': 8.0,\n",
    "    'width': 8.0,\n",
    "    'max_sensors': 15  \n",
    "}\n",
    "\n",
    "runningOnGoogleColab = False\n",
    "    \n",
    "if __name__ ==  '__main__':\n",
    "    import sys\n",
    "\n",
    "    # if (runningOnGoogleColab == True):\n",
    "    #     from google.colab import drive    \n",
    "    #     drive.mount('/content/gdrive', force_remount=True)\n",
    "    #     Data_path = 'gdrive/My Drive/PhD/Thesis/Ideas/Codes/Sensor Simulator/'\n",
    "    #     sys.path.append('gdrive/My Drive/PhD/Thesis/Ideas/Codes/Sensor Simulator/')\n",
    "        \n",
    "    # else:\n",
    "    #     Data_path = '../../Codes/Sensor Simulator/'\n",
    "    #     sys.path.append('../../Codes/Sensor Simulator/')\n",
    "\n",
    "    if (runningOnGoogleColab == True):\n",
    "        from google.colab import drive    \n",
    "        drive.mount('/content/gdrive', force_remount=True)\n",
    "        Data_path = 'gdrive/My Drive/PhD/Thesis/Ideas/Codes/SensorDeploymentOptimization/'\n",
    "        sys.path.append('gdrive/My Drive/PhD/Thesis/Ideas/Codes/SensorDeploymentOptimization/')\n",
    "\n",
    "    else:\n",
    "        Data_path = '../../Codes/SensorDeploymentOptimization/'\n",
    "        # sys.path.append('../../Codes/SensorDeploymentOptimization/')\n",
    "        sys.path.append('..')\n",
    "    \n",
    "    # from ax import optimize, ChoiceParameter\n",
    "    from scipy.stats import norm\n",
    "    from numpy import argmax\n",
    "    import SIM_SIS_Libraries.SensorsClass\n",
    "    import SIM_SIS_Libraries.SIM_SIS_Simulator as sim_sis\n",
    "    import SIM_SIS_Libraries.ParseFunctions as pf\n",
    "    import itertools\n",
    "    import numpy as np\n",
    "    import pandas as pd\n",
    "    import SIM_SIS_Libraries.PreDeploymentEvaluation as pde\n",
    "    import copy\n",
    "    from datetime import datetime\n",
    "    import pytz\n",
    "    import ast\n",
    "    import os\n",
    "    import random\n",
    "    import plotly\n",
    "    import torch\n",
    "\n",
    "    finalResults = []\n",
    "    w = CONSTANTS['width'] - 0.5\n",
    "    h = CONSTANTS['height'] - 0.5\n",
    "\n",
    "    dataBoundaries = MakeDataBoundaries(\n",
    "                                        height = CONSTANTS['height'], \n",
    "                                        width = CONSTANTS['width'], \n",
    "                                        MaxSensors = CONSTANTS['max_sensors']\n",
    "                                       )\n",
    "\n",
    "    BOV =  BOVariables(\n",
    "                       Data_path, \n",
    "                       CONSTANTS['epsilon'], \n",
    "                       CONSTANTS['max_sensors'], \n",
    "                       CONSTANTS['max_sensors'], \n",
    "                       CONSTANTS['radius'],\n",
    "                       CONSTANTS['initial_samples']\n",
    "                      )\n",
    "\n",
    "    from openbox import sp\n",
    "    \n",
    "\n",
    "    # Define Search Space\n",
    "    space = sp.Space()\n",
    "\n",
    "    list_of_variables = []\n",
    "    for i in range(1, 16):\n",
    "        x = sp.Int(\"x\" + str(i), 0, CONSTANTS['width'], default_value=0)\n",
    "        y = sp.Int(\"y\" + str(i), 0, CONSTANTS['height'], default_value=0)\n",
    "        list_of_variables.append(x)\n",
    "        list_of_variables.append(y)\n",
    "    \n",
    "    space.add_variables(list_of_variables)\n",
    "\n",
    "    from openbox import Optimizer\n",
    "\n",
    "    history_list = []\n",
    "    for _ in range(10):\n",
    "        opt = Optimizer(\n",
    "            function_to_be_optimized,\n",
    "            space,\n",
    "            max_runs=1000,\n",
    "            surrogate_type='prf',\n",
    "            acq_optimizer_type='random_scipy',\n",
    "            time_limit_per_trial=31000,\n",
    "            task_id='Shadan',\n",
    "        )\n",
    "        history = opt.run()\n",
    "        history_list.append(history)"
   ]
  },
  {
   "cell_type": "code",
   "execution_count": null,
   "metadata": {},
   "outputs": [],
   "source": [
    "for index, history in enumerate(history_list):\n",
    "    history.save_json(fn = '.\\openbox_results\\history' + str(index) + '.json')"
   ]
  },
  {
   "cell_type": "code",
   "execution_count": null,
   "metadata": {},
   "outputs": [],
   "source": [
    "def my_plot_convergence(\n",
    "            results,\n",
    "            xlabel=\"Number of iterations $n$\",\n",
    "            ylabel=r\"Min objective value after $n$ iterations\",\n",
    "            ax=None, name=None, alpha=0.2, yscale=None,\n",
    "            color=None, true_minimum=None,\n",
    "            **kwargs):\n",
    "        \"\"\"Plot one or several convergence traces.\n",
    "        Parameters\n",
    "        ----------\n",
    "        args[i] :  `OptimizeResult`, list of `OptimizeResult`, or tuple\n",
    "            The result(s) for which to plot the convergence trace.\n",
    "            - if `OptimizeResult`, then draw the corresponding single trace;\n",
    "            - if list of `OptimizeResult`, then draw the corresponding convergence\n",
    "              traces in transparency, along with the average convergence trace;\n",
    "            - if tuple, then `args[i][0]` should be a string label and `args[i][1]`\n",
    "              an `OptimizeResult` or a list of `OptimizeResult`.\n",
    "        ax : `Axes`, optional\n",
    "            The matplotlib axes on which to draw the plot, or `None` to create\n",
    "            a new one.\n",
    "        true_minimum : float, optional\n",
    "            The true minimum value of the function, if known.\n",
    "        yscale : None or string, optional\n",
    "            The scale for the y-axis.\n",
    "        Returns\n",
    "        -------\n",
    "        ax : `Axes`\n",
    "            The matplotlib axes.\n",
    "        \"\"\"\n",
    "        losses = list(results)\n",
    "\n",
    "        n_calls = len(losses)\n",
    "        iterations = range(1, n_calls + 1)\n",
    "        maxs = [np.max(losses[:i]) for i in iterations]\n",
    "        min_maxs = min(maxs)\n",
    "        cliped_losses = np.clip(losses, min_maxs, None)\n",
    "        return plot_convergence(iterations, maxs, cliped_losses, xlabel, ylabel, ax, name, alpha, yscale, color,\n",
    "                                true_minimum, **kwargs)\n",
    "    \n",
    "def plot_convergence(\n",
    "        x, y1, y2,\n",
    "        xlabel=\"Number of iterations $n$\",\n",
    "        ylabel=r\"Min objective value after $n$ iterations\",\n",
    "        ax=None, name=None, alpha=0.2, yscale=None,\n",
    "        color=None, true_minimum=None,\n",
    "        **kwargs):\n",
    "    \"\"\"Plot one or several convergence traces.\n",
    "    Parameters\n",
    "    ----------\n",
    "    args[i] :  `OptimizeResult`, list of `OptimizeResult`, or tuple\n",
    "        The result(s) for which to plot the convergence trace.\n",
    "        - if `OptimizeResult`, then draw the corresponding single trace;\n",
    "        - if list of `OptimizeResult`, then draw the corresponding convergence\n",
    "          traces in transparency, along with the average convergence trace;\n",
    "        - if tuple, then `args[i][0]` should be a string label and `args[i][1]`\n",
    "          an `OptimizeResult` or a list of `OptimizeResult`.\n",
    "    ax : `Axes`, optional\n",
    "        The matplotlib axes on which to draw the plot, or `None` to create\n",
    "        a new one.\n",
    "    true_minimum : float, optional\n",
    "        The true minimum value of the function, if known.\n",
    "    yscale : None or string, optional\n",
    "        The scale for the y-axis.\n",
    "    Returns\n",
    "    -------\n",
    "    ax : `Axes`\n",
    "        The matplotlib axes.\n",
    "    \"\"\"\n",
    "    if ax is None:\n",
    "        ax = plt.gca()\n",
    "\n",
    "    ax.set_title(\"Convergence plot\")\n",
    "    ax.set_xlabel(xlabel)\n",
    "    ax.set_ylabel(ylabel)\n",
    "    ax.grid()\n",
    "\n",
    "    if yscale is not None:\n",
    "        ax.set_yscale(yscale)\n",
    "\n",
    "    ax.plot(x, y1, c=color, label=name, **kwargs)\n",
    "    ax.scatter(x, y2, c=color, alpha=alpha)\n",
    "\n",
    "    if true_minimum is not None:\n",
    "        ax.axhline(true_minimum, linestyle=\"--\",\n",
    "                   color=\"r\", lw=1,\n",
    "                   label=\"True minimum\")\n",
    "\n",
    "    if true_minimum is not None or name is not None:\n",
    "        ax.legend(loc=\"upper right\")\n",
    "    return ax"
   ]
  },
  {
   "cell_type": "code",
   "execution_count": null,
   "metadata": {},
   "outputs": [],
   "source": [
    "import os\n",
    "from openbox.utils import history_container\n",
    "\n",
    "history_list = []\n",
    "\n",
    "\n",
    "for filename in os.listdir('.\\openbox_results'):\n",
    "    history = history_container.HistoryContainer(task_id = 'SPO')\n",
    "    hist = history.load_history_from_json(cs = space, fn = '.\\openbox_results\\\\' + filename)\n",
    "    history_list.append(hist)"
   ]
  },
  {
   "cell_type": "code",
   "execution_count": null,
   "metadata": {},
   "outputs": [],
   "source": [
    "for c in history_list[0].items():\n",
    "    print(c[1])"
   ]
  },
  {
   "cell_type": "code",
   "execution_count": null,
   "metadata": {},
   "outputs": [],
   "source": []
  },
  {
   "cell_type": "code",
   "execution_count": null,
   "metadata": {
    "id": "uzoAtQ3G0Hcs",
    "scrolled": true
   },
   "outputs": [],
   "source": [
    "import matplotlib.pyplot as plt\n",
    "from matplotlib.pyplot import figure\n",
    "\n",
    "for i in range(len(history_list)):\n",
    "    # print(hist)\n",
    "    # for c in history_list[0].items():\n",
    "    # print(c[1])\n",
    "    # hist.plot_convergence()\n",
    "    # l = [100 - p for p in hist.perfs]\n",
    "    # figure(figsize=(8, 6), dpi=80)\n",
    "    # print(max(l))\n",
    "    # print(min(l))\n",
    "    # data = history_list[i].items()\n",
    "    # print(data[1])\n",
    "    # my_plot_convergence(results = data) \n",
    "    # plt.show()\n",
    "    data = []\n",
    "    for c in history_list[i].items():\n",
    "        data.append(100 - c[1])\n",
    "    \n",
    "    # print(data)\n",
    "    my_plot_convergence(results = data)\n",
    "    plt.show()\n"
   ]
  },
  {
   "cell_type": "code",
   "execution_count": null,
   "metadata": {},
   "outputs": [],
   "source": [
    "history_list"
   ]
  },
  {
   "cell_type": "code",
   "execution_count": null,
   "metadata": {
    "scrolled": true
   },
   "outputs": [],
   "source": [
    "    \n",
    "for index, history in enumerate(history_list):\n",
    "    # print(history.perfs)\n",
    "    figure(figsize=(8, 6), dpi=80)\n",
    "    history.plot_convergence()\n",
    "    print(history.min_y)\n",
    "    plt.show()"
   ]
  },
  {
   "cell_type": "code",
   "execution_count": null,
   "metadata": {},
   "outputs": [],
   "source": [
    "rooms = {'bedroom': [(3.9, 0.0), (8.0, 4.1)],\n",
    "         'livingroom': [(0.0, 1.9), (6.3, 4.3)],\n",
    "         'diningroom': [(0.0, 3.0), (2.6, 8.0)],\n",
    "         'kitchen': [(0.0, 3.0), (2.6, 8.0)],\n",
    "         'bathroom': [(6.1, 3.3), (8.0, 6.4)],\n",
    "\t\t 'storage': [(2.8, 6.7), (8.0, 8.0)]} "
   ]
  },
  {
   "cell_type": "code",
   "execution_count": null,
   "metadata": {},
   "outputs": [],
   "source": [
    "A = [(([4, 8], 'storage', 'motion sensors'), ([6, 4], 'bedroom', 'motion sensors'), ([7, 5], 'bathroom', 'motion sensors'), ([3, 8], 'storage', 'motion sensors'), ([4, 8], 'storage', 'motion sensors'), ([8, 6], 'bathroom', 'motion sensors'), ([8, 0], 'bedroom', 'motion sensors'), ([8, 5], 'bathroom', 'motion sensors'), ([8, 4], 'bedroom', 'motion sensors'), ([3, 3], 'livingroom', 'motion sensors'), ([8, 4], 'bedroom', 'motion sensors'), ([3, 3], 'livingroom', 'motion sensors'), ([5, 6], 'livingroom', 'motion sensors'), ([1, 8], 'diningroom', 'motion sensors'), ([1, 8], 'diningroom', 'motion sensors'))]"
   ]
  },
  {
   "cell_type": "code",
   "execution_count": null,
   "metadata": {},
   "outputs": [],
   "source": [
    "A"
   ]
  },
  {
   "cell_type": "code",
   "execution_count": null,
   "metadata": {},
   "outputs": [],
   "source": [
    "for a in A:\n",
    "    for aa in a:\n",
    "        print(aa)\n",
    "        print('----')"
   ]
  },
  {
   "cell_type": "code",
   "execution_count": null,
   "metadata": {},
   "outputs": [],
   "source": []
  }
 ],
 "metadata": {
  "colab": {
   "authorship_tag": "ABX9TyMfsagwc2RmakidRJtptGPX",
   "collapsed_sections": [],
   "machine_shape": "hm",
   "name": "Copy of OpenBox.ipynb",
   "provenance": [
    {
     "file_id": "1swbtZSRLMPhKLusMYl4JguoWZEapxz9K",
     "timestamp": 1635560559445
    }
   ],
   "version": ""
  },
  "kernelspec": {
   "display_name": "Python 3",
   "language": "python",
   "name": "python3"
  },
  "language_info": {
   "codemirror_mode": {
    "name": "ipython",
    "version": 3
   },
   "file_extension": ".py",
   "mimetype": "text/x-python",
   "name": "python",
   "nbconvert_exporter": "python",
   "pygments_lexer": "ipython3",
   "version": "3.8.8"
  }
 },
 "nbformat": 4,
 "nbformat_minor": 1
}
