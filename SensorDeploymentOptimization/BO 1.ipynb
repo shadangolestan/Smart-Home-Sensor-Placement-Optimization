{
 "cells": [
  {
   "cell_type": "code",
   "execution_count": 1,
   "metadata": {
    "scrolled": true
   },
   "outputs": [
    {
     "name": "stdout",
     "output_type": "stream",
     "text": [
      "----- Running BO with: \n",
      " \t - epsilon:  0.5 \n",
      " \t - LS sensors #: 11 \n",
      " \t - IS sensors #: 10  \n",
      " \t - initial state:  random\n",
      "Processing Region of Similarity... [COMPLETED]\n",
      "here 1\n",
      "[INFO] [2022-11-07 19:15:20,512] [Advisor] === [BO auto selection] === surrogate_type: prf. acq_optimizer_type: local_random.\n",
      "**************************************************\n",
      "self.acq_type  ei\n",
      "acq_optimizer_type  local_random\n",
      "self.num_objs  1\n",
      "self.surrogate_model  None\n",
      "self.num_constraints  0\n",
      "**************************************************\n",
      "[Build Surrogate] Use probabilistic random forest based on scikit-learn. For better performance, please install pyrfr: https://open-box.readthedocs.io/en/latest/installation/install_pyrfr.html\n",
      "<class 'openbox.core.generic_advisor.Advisor'>\n"
     ]
    },
    {
     "name": "stderr",
     "output_type": "stream",
     "text": [
      "  0%|          | 0/1000 [00:00<?, ?it/s]"
     ]
    },
    {
     "name": "stdout",
     "output_type": "stream",
     "text": [
      "[INFO] [2022-11-07 19:16:20,019] [OpenBox-SPO] Iteration 1, objective value: [39.29658124138983].\n"
     ]
    },
    {
     "name": "stderr",
     "output_type": "stream",
     "text": [
      "  0%|          | 1/1000 [00:59<16:30:27, 59.49s/it]"
     ]
    },
    {
     "name": "stdout",
     "output_type": "stream",
     "text": [
      "[INFO] [2022-11-07 19:17:11,738] [OpenBox-SPO] Iteration 2, objective value: [48.530718254716774].\n"
     ]
    },
    {
     "name": "stderr",
     "output_type": "stream",
     "text": [
      "  0%|          | 2/1000 [01:51<15:13:27, 54.92s/it]"
     ]
    },
    {
     "name": "stdout",
     "output_type": "stream",
     "text": [
      "[INFO] [2022-11-07 19:18:20,161] [OpenBox-SPO] Iteration 3, objective value: [51.66755865666566].\n"
     ]
    },
    {
     "name": "stderr",
     "output_type": "stream",
     "text": [
      "  0%|          | 3/1000 [02:59<16:55:01, 61.08s/it]"
     ]
    },
    {
     "name": "stdout",
     "output_type": "stream",
     "text": [
      "[INFO] [2022-11-07 19:19:25,309] [OpenBox-SPO] Iteration 4, objective value: [47.26498994358097].\n"
     ]
    },
    {
     "name": "stderr",
     "output_type": "stream",
     "text": [
      "  0%|          | 4/1000 [04:04<17:20:37, 62.69s/it]"
     ]
    },
    {
     "name": "stdout",
     "output_type": "stream",
     "text": [
      "[INFO] [2022-11-07 19:20:26,558] [OpenBox-SPO] Iteration 5, objective value: [42.88806490928175].\n"
     ]
    },
    {
     "name": "stderr",
     "output_type": "stream",
     "text": [
      "  0%|          | 5/1000 [05:06<17:10:58, 62.17s/it]"
     ]
    },
    {
     "name": "stdout",
     "output_type": "stream",
     "text": [
      "[INFO] [2022-11-07 19:21:48,487] [OpenBox-SPO] Iteration 6, objective value: [54.53684882742554].\n"
     ]
    },
    {
     "name": "stderr",
     "output_type": "stream",
     "text": [
      "  1%|          | 6/1000 [06:27<19:01:14, 68.89s/it]"
     ]
    },
    {
     "name": "stdout",
     "output_type": "stream",
     "text": [
      "[INFO] [2022-11-07 19:21:48,490] [Advisor] Sample random config. rand_prob=0.100000.\n",
      "[INFO] [2022-11-07 19:22:44,448] [OpenBox-SPO] Iteration 7, objective value: [46.22444238500548].\n"
     ]
    },
    {
     "name": "stderr",
     "output_type": "stream",
     "text": [
      "  1%|          | 7/1000 [07:23<17:50:08, 64.66s/it]"
     ]
    },
    {
     "name": "stdout",
     "output_type": "stream",
     "text": [
      "[INFO] [2022-11-07 19:23:54,089] [OpenBox-SPO] Iteration 8, objective value: [51.1669900321704].\n"
     ]
    },
    {
     "name": "stderr",
     "output_type": "stream",
     "text": [
      "  1%|          | 8/1000 [08:33<18:15:17, 66.25s/it]"
     ]
    },
    {
     "name": "stdout",
     "output_type": "stream",
     "text": [
      "[INFO] [2022-11-07 19:25:12,023] [OpenBox-SPO] Iteration 9, objective value: [51.886909658110504].\n"
     ]
    },
    {
     "name": "stderr",
     "output_type": "stream",
     "text": [
      "  1%|          | 9/1000 [09:51<19:14:31, 69.90s/it]"
     ]
    },
    {
     "name": "stdout",
     "output_type": "stream",
     "text": [
      "[INFO] [2022-11-07 19:26:38,250] [OpenBox-SPO] Iteration 10, objective value: [57.584734702410536].\n"
     ]
    },
    {
     "name": "stderr",
     "output_type": "stream",
     "text": [
      "  1%|          | 10/1000 [11:17<20:36:31, 74.94s/it]"
     ]
    },
    {
     "name": "stdout",
     "output_type": "stream",
     "text": [
      "[INFO] [2022-11-07 19:28:01,309] [OpenBox-SPO] Iteration 11, objective value: [48.074955445831804].\n"
     ]
    },
    {
     "name": "stderr",
     "output_type": "stream",
     "text": [
      "  1%|          | 11/1000 [12:40<21:16:13, 77.43s/it]"
     ]
    },
    {
     "name": "stdout",
     "output_type": "stream",
     "text": [
      "[INFO] [2022-11-07 19:29:24,088] [OpenBox-SPO] Iteration 12, objective value: [48.04236426745294].\n"
     ]
    },
    {
     "name": "stderr",
     "output_type": "stream",
     "text": [
      "  1%|          | 12/1000 [14:03<21:41:45, 79.05s/it]"
     ]
    },
    {
     "name": "stdout",
     "output_type": "stream",
     "text": [
      "[INFO] [2022-11-07 19:30:31,057] [OpenBox-SPO] Iteration 13, objective value: [50.66144661648422].\n"
     ]
    },
    {
     "name": "stderr",
     "output_type": "stream",
     "text": [
      "  1%|▏         | 13/1000 [15:10<20:40:12, 75.39s/it]"
     ]
    },
    {
     "name": "stdout",
     "output_type": "stream",
     "text": [
      "[INFO] [2022-11-07 19:31:55,579] [OpenBox-SPO] Iteration 14, objective value: [43.39969292806802].\n"
     ]
    },
    {
     "name": "stderr",
     "output_type": "stream",
     "text": [
      "  1%|▏         | 14/1000 [16:35<21:24:16, 78.15s/it]"
     ]
    },
    {
     "name": "stdout",
     "output_type": "stream",
     "text": [
      "[INFO] [2022-11-07 19:33:19,867] [OpenBox-SPO] Iteration 15, objective value: [51.38991142069883].\n"
     ]
    },
    {
     "name": "stderr",
     "output_type": "stream",
     "text": [
      "  2%|▏         | 15/1000 [17:59<21:53:20, 80.00s/it]"
     ]
    },
    {
     "name": "stdout",
     "output_type": "stream",
     "text": [
      "[INFO] [2022-11-07 19:34:41,255] [OpenBox-SPO] Iteration 16, objective value: [43.93069040941976].\n"
     ]
    },
    {
     "name": "stderr",
     "output_type": "stream",
     "text": [
      "  2%|▏         | 16/1000 [19:20<21:58:51, 80.42s/it]"
     ]
    },
    {
     "name": "stdout",
     "output_type": "stream",
     "text": [
      "[INFO] [2022-11-07 19:34:41,256] [Advisor] Sample random config. rand_prob=0.100000.\n",
      "[INFO] [2022-11-07 19:35:46,839] [OpenBox-SPO] Iteration 17, objective value: [45.558907217641355].\n"
     ]
    },
    {
     "name": "stderr",
     "output_type": "stream",
     "text": [
      "  2%|▏         | 17/1000 [20:26<20:44:26, 75.96s/it]"
     ]
    },
    {
     "name": "stdout",
     "output_type": "stream",
     "text": [
      "[INFO] [2022-11-07 19:35:46,840] [Advisor] Sample random config. rand_prob=0.100000.\n",
      "[INFO] [2022-11-07 19:36:36,599] [OpenBox-SPO] Iteration 18, objective value: [47.88972542557064].\n"
     ]
    },
    {
     "name": "stderr",
     "output_type": "stream",
     "text": [
      "  2%|▏         | 18/1000 [21:16<18:34:19, 68.09s/it]"
     ]
    },
    {
     "name": "stdout",
     "output_type": "stream",
     "text": [
      "[INFO] [2022-11-07 19:37:44,730] [OpenBox-SPO] Iteration 19, objective value: [50.21956750859052].\n"
     ]
    },
    {
     "name": "stderr",
     "output_type": "stream",
     "text": [
      "  2%|▏         | 19/1000 [22:24<18:33:25, 68.10s/it]"
     ]
    },
    {
     "name": "stdout",
     "output_type": "stream",
     "text": [
      "[INFO] [2022-11-07 19:39:03,909] [OpenBox-SPO] Iteration 20, objective value: [47.705653016693304].\n"
     ]
    },
    {
     "name": "stderr",
     "output_type": "stream",
     "text": [
      "  2%|▏         | 20/1000 [23:43<19:26:37, 71.43s/it]"
     ]
    },
    {
     "name": "stdout",
     "output_type": "stream",
     "text": [
      "[INFO] [2022-11-07 19:40:22,041] [OpenBox-SPO] Iteration 21, objective value: [46.51894559502077].\n"
     ]
    },
    {
     "name": "stderr",
     "output_type": "stream",
     "text": [
      "  2%|▏         | 21/1000 [25:01<19:58:16, 73.44s/it]"
     ]
    },
    {
     "name": "stdout",
     "output_type": "stream",
     "text": [
      "[INFO] [2022-11-07 19:41:31,805] [OpenBox-SPO] Iteration 22, objective value: [48.9075915783056].\n"
     ]
    },
    {
     "name": "stderr",
     "output_type": "stream",
     "text": [
      "  2%|▏         | 22/1000 [26:11<19:39:04, 72.34s/it]"
     ]
    },
    {
     "name": "stdout",
     "output_type": "stream",
     "text": [
      "[INFO] [2022-11-07 19:42:58,205] [OpenBox-SPO] Iteration 23, objective value: [52.488717466022].\n"
     ]
    },
    {
     "name": "stderr",
     "output_type": "stream",
     "text": [
      "  2%|▏         | 23/1000 [27:37<20:46:35, 76.56s/it]"
     ]
    },
    {
     "name": "stdout",
     "output_type": "stream",
     "text": [
      "[INFO] [2022-11-07 19:44:15,619] [OpenBox-SPO] Iteration 24, objective value: [51.52271395158293].\n"
     ]
    },
    {
     "name": "stderr",
     "output_type": "stream",
     "text": [
      "  2%|▏         | 24/1000 [28:55<20:49:30, 76.81s/it]"
     ]
    },
    {
     "name": "stdout",
     "output_type": "stream",
     "text": [
      "[INFO] [2022-11-07 19:45:24,056] [OpenBox-SPO] Iteration 25, objective value: [47.25305890826756].\n"
     ]
    },
    {
     "name": "stderr",
     "output_type": "stream",
     "text": [
      "  2%|▎         | 25/1000 [30:56<20:06:55, 74.27s/it]\n"
     ]
    },
    {
     "ename": "KeyboardInterrupt",
     "evalue": "",
     "output_type": "error",
     "traceback": [
      "\u001b[0;31m---------------------------------------------------------------------------\u001b[0m",
      "\u001b[0;31mKeyboardInterrupt\u001b[0m                         Traceback (most recent call last)",
      "Cell \u001b[0;32mIn [1], line 46\u001b[0m\n\u001b[1;32m     33\u001b[0m \u001b[39mfor\u001b[39;00m i \u001b[39min\u001b[39;00m \u001b[39mrange\u001b[39m(\u001b[39m0\u001b[39m, \u001b[39m1\u001b[39m):\n\u001b[1;32m     34\u001b[0m     BO \u001b[39m=\u001b[39m bo\u001b[39m.\u001b[39mBayesianOptimization(testbed \u001b[39m=\u001b[39m testbed,\n\u001b[1;32m     35\u001b[0m                                  iteration \u001b[39m=\u001b[39m \u001b[39m1000\u001b[39m, \n\u001b[1;32m     36\u001b[0m                                  epsilon \u001b[39m=\u001b[39m epsilon, \n\u001b[0;32m   (...)\u001b[0m\n\u001b[1;32m     43\u001b[0m                                  acquisition_function \u001b[39m=\u001b[39m acquisition_function,\n\u001b[1;32m     44\u001b[0m                                  acq_optimizer_type \u001b[39m=\u001b[39m acq_optimizer_type)\n\u001b[0;32m---> 46\u001b[0m     history \u001b[39m=\u001b[39m BO\u001b[39m.\u001b[39;49mrun()\n\u001b[1;32m     48\u001b[0m     \u001b[39mwith\u001b[39;00m \u001b[39mopen\u001b[39m(\u001b[39m'\u001b[39m\u001b[39mResults_BO/history(LS\u001b[39m\u001b[39m'\u001b[39m \u001b[39m+\u001b[39m \u001b[39mstr\u001b[39m(LSsensorsNum) \u001b[39m+\u001b[39m  \u001b[39m'\u001b[39m\u001b[39mIS\u001b[39m\u001b[39m'\u001b[39m \u001b[39m+\u001b[39m \u001b[39mstr\u001b[39m(ISsensorsNum) \u001b[39m+\u001b[39m \u001b[39m'\u001b[39m\u001b[39m)_\u001b[39m\u001b[39m'\u001b[39m \u001b[39m+\u001b[39m \u001b[39mstr\u001b[39m(i), \u001b[39m'\u001b[39m\u001b[39mwb\u001b[39m\u001b[39m'\u001b[39m) \u001b[39mas\u001b[39;00m handle:\n\u001b[1;32m     49\u001b[0m         pickle\u001b[39m.\u001b[39mdump(history, handle, protocol\u001b[39m=\u001b[39mpickle\u001b[39m.\u001b[39mHIGHEST_PROTOCOL)\n",
      "File \u001b[0;32m~/Library/CloudStorage/GoogleDrive-golestan@ualberta.ca/My Drive/PhD/Thesis/GreyBox Optimization Project/Codes/Smart-Home-Sensor-Placement-Optimization/SensorDeploymentOptimization/SensorOptimizers/BayesianOptimization.py:723\u001b[0m, in \u001b[0;36mBayesianOptimization.run\u001b[0;34m(self)\u001b[0m\n\u001b[1;32m    710\u001b[0m history_list \u001b[39m=\u001b[39m []\n\u001b[1;32m    712\u001b[0m opt \u001b[39m=\u001b[39m Optimizer(\n\u001b[1;32m    713\u001b[0m     \u001b[39mself\u001b[39m\u001b[39m.\u001b[39mfunction_to_be_optimized,\n\u001b[1;32m    714\u001b[0m     \u001b[39mself\u001b[39m\u001b[39m.\u001b[39mspace,\n\u001b[0;32m   (...)\u001b[0m\n\u001b[1;32m    721\u001b[0m     error \u001b[39m=\u001b[39m \u001b[39mself\u001b[39m\u001b[39m.\u001b[39mCONSTANTS[\u001b[39m'\u001b[39m\u001b[39merror\u001b[39m\u001b[39m'\u001b[39m]\n\u001b[1;32m    722\u001b[0m )\n\u001b[0;32m--> 723\u001b[0m history \u001b[39m=\u001b[39m opt\u001b[39m.\u001b[39;49mrun()\n\u001b[1;32m    726\u001b[0m \u001b[39mreturn\u001b[39;00m history\n",
      "File \u001b[0;32m~/Library/CloudStorage/GoogleDrive-golestan@ualberta.ca/My Drive/PhD/Thesis/GreyBox Optimization Project/Codes/Smart-Home-Sensor-Placement-Optimization/SensorDeploymentOptimization/openbox/optimizer/generic_smbo.py:221\u001b[0m, in \u001b[0;36mSMBO.run\u001b[0;34m(self)\u001b[0m\n\u001b[1;32m    219\u001b[0m     \u001b[39mbreak\u001b[39;00m\n\u001b[1;32m    220\u001b[0m start_time \u001b[39m=\u001b[39m time\u001b[39m.\u001b[39mtime()\n\u001b[0;32m--> 221\u001b[0m \u001b[39mself\u001b[39;49m\u001b[39m.\u001b[39;49miterate(budget_left\u001b[39m=\u001b[39;49m\u001b[39mself\u001b[39;49m\u001b[39m.\u001b[39;49mbudget_left)\n\u001b[1;32m    222\u001b[0m runtime \u001b[39m=\u001b[39m time\u001b[39m.\u001b[39mtime() \u001b[39m-\u001b[39m start_time\n\u001b[1;32m    223\u001b[0m \u001b[39mself\u001b[39m\u001b[39m.\u001b[39mbudget_left \u001b[39m-\u001b[39m\u001b[39m=\u001b[39m runtime\n",
      "File \u001b[0;32m~/Library/CloudStorage/GoogleDrive-golestan@ualberta.ca/My Drive/PhD/Thesis/GreyBox Optimization Project/Codes/Smart-Home-Sensor-Placement-Optimization/SensorDeploymentOptimization/openbox/optimizer/generic_smbo.py:240\u001b[0m, in \u001b[0;36mSMBO.iterate\u001b[0;34m(self, budget_left)\u001b[0m\n\u001b[1;32m    237\u001b[0m \u001b[39mtry\u001b[39;00m:\n\u001b[1;32m    238\u001b[0m     \u001b[39m# evaluate configuration on objective_function within time_limit_per_trial\u001b[39;00m\n\u001b[1;32m    239\u001b[0m     args, kwargs \u001b[39m=\u001b[39m (config,), \u001b[39mdict\u001b[39m()\n\u001b[0;32m--> 240\u001b[0m     timeout_status, _result \u001b[39m=\u001b[39m time_limit(\u001b[39mself\u001b[39;49m\u001b[39m.\u001b[39;49mobjective_function,\n\u001b[1;32m    241\u001b[0m                                          _time_limit_per_trial,\n\u001b[1;32m    242\u001b[0m                                          args\u001b[39m=\u001b[39;49margs, kwargs\u001b[39m=\u001b[39;49mkwargs)\n\u001b[1;32m    243\u001b[0m     \u001b[39mif\u001b[39;00m timeout_status:\n\u001b[1;32m    244\u001b[0m         \u001b[39mraise\u001b[39;00m TimeoutException(\n\u001b[1;32m    245\u001b[0m             \u001b[39m'\u001b[39m\u001b[39mTimeout: time limit for this evaluation is \u001b[39m\u001b[39m%.1f\u001b[39;00m\u001b[39ms\u001b[39m\u001b[39m'\u001b[39m \u001b[39m%\u001b[39m _time_limit_per_trial)\n",
      "File \u001b[0;32m~/Library/CloudStorage/GoogleDrive-golestan@ualberta.ca/My Drive/PhD/Thesis/GreyBox Optimization Project/Codes/Smart-Home-Sensor-Placement-Optimization/SensorDeploymentOptimization/openbox/utils/limit.py:84\u001b[0m, in \u001b[0;36mtime_limit\u001b[0;34m(func, time, *args, **kwargs)\u001b[0m\n\u001b[1;32m     81\u001b[0m     \u001b[39mreturn\u001b[39;00m no_time_limit_func(func, time, \u001b[39m*\u001b[39margs, \u001b[39m*\u001b[39m\u001b[39m*\u001b[39mkwargs)\n\u001b[1;32m     83\u001b[0m \u001b[39mif\u001b[39;00m _platform \u001b[39m==\u001b[39m \u001b[39m'\u001b[39m\u001b[39mOSX\u001b[39m\u001b[39m'\u001b[39m \u001b[39mand\u001b[39;00m sys\u001b[39m.\u001b[39mversion_info \u001b[39m>\u001b[39m\u001b[39m=\u001b[39m (\u001b[39m3\u001b[39m, \u001b[39m8\u001b[39m):\n\u001b[0;32m---> 84\u001b[0m     \u001b[39mreturn\u001b[39;00m no_time_limit_func(func, time, \u001b[39m*\u001b[39;49margs, \u001b[39m*\u001b[39;49m\u001b[39m*\u001b[39;49mkwargs)\n\u001b[1;32m     86\u001b[0m parent_conn, child_conn \u001b[39m=\u001b[39m Pipe(\u001b[39mFalse\u001b[39;00m)\n\u001b[1;32m     88\u001b[0m func \u001b[39m=\u001b[39m dill\u001b[39m.\u001b[39mdumps(func)\n",
      "File \u001b[0;32m~/Library/CloudStorage/GoogleDrive-golestan@ualberta.ca/My Drive/PhD/Thesis/GreyBox Optimization Project/Codes/Smart-Home-Sensor-Placement-Optimization/SensorDeploymentOptimization/openbox/utils/limit.py:70\u001b[0m, in \u001b[0;36mno_time_limit_func\u001b[0;34m(objective_function, time, *args, **kwargs)\u001b[0m\n\u001b[1;32m     69\u001b[0m \u001b[39mdef\u001b[39;00m \u001b[39mno_time_limit_func\u001b[39m(objective_function, time, \u001b[39m*\u001b[39margs, \u001b[39m*\u001b[39m\u001b[39m*\u001b[39mkwargs):\n\u001b[0;32m---> 70\u001b[0m     ret \u001b[39m=\u001b[39m objective_function(\u001b[39m*\u001b[39;49margs, \u001b[39m*\u001b[39;49m\u001b[39m*\u001b[39;49mkwargs)\n\u001b[1;32m     71\u001b[0m     \u001b[39mreturn\u001b[39;00m Returns(timeout_status\u001b[39m=\u001b[39m\u001b[39mFalse\u001b[39;00m, results\u001b[39m=\u001b[39mret)\n",
      "File \u001b[0;32m~/Library/CloudStorage/GoogleDrive-golestan@ualberta.ca/My Drive/PhD/Thesis/GreyBox Optimization Project/Codes/Smart-Home-Sensor-Placement-Optimization/SensorDeploymentOptimization/SensorOptimizers/BayesianOptimization.py:513\u001b[0m, in \u001b[0;36mBayesianOptimization.function_to_be_optimized\u001b[0;34m(self, config)\u001b[0m\n\u001b[1;32m    509\u001b[0m         sensorTypes\u001b[39m.\u001b[39mappend(\u001b[39m1\u001b[39m)\n\u001b[1;32m    511\u001b[0m data \u001b[39m=\u001b[39m Data(sensorPositions, sensorTypes, \u001b[39mself\u001b[39m\u001b[39m.\u001b[39mBOV\u001b[39m.\u001b[39mspace, \u001b[39mself\u001b[39m\u001b[39m.\u001b[39mCONSTANTS[\u001b[39m'\u001b[39m\u001b[39mepsilon\u001b[39m\u001b[39m'\u001b[39m])\n\u001b[0;32m--> 513\u001b[0m \u001b[39mreturn\u001b[39;00m \u001b[39m100\u001b[39m \u001b[39m-\u001b[39m \u001b[39mself\u001b[39;49m\u001b[39m.\u001b[39;49mblack_box_function(data, \n\u001b[1;32m    514\u001b[0m                                      simulateMotionSensors \u001b[39m=\u001b[39;49m \u001b[39mself\u001b[39;49m\u001b[39m.\u001b[39;49msensor_types[\u001b[39m'\u001b[39;49m\u001b[39mmodel_motion_sensor\u001b[39;49m\u001b[39m'\u001b[39;49m],\n\u001b[1;32m    515\u001b[0m                                      simulateEstimotes \u001b[39m=\u001b[39;49m \u001b[39mself\u001b[39;49m\u001b[39m.\u001b[39;49msensor_types[\u001b[39m'\u001b[39;49m\u001b[39mmodel_beacon_sensor\u001b[39;49m\u001b[39m'\u001b[39;49m],\n\u001b[1;32m    516\u001b[0m                                      simulateIS \u001b[39m=\u001b[39;49m (\u001b[39mself\u001b[39;49m\u001b[39m.\u001b[39;49msensor_types[\u001b[39m'\u001b[39;49m\u001b[39mmodel_pressure_sensor\u001b[39;49m\u001b[39m'\u001b[39;49m] \u001b[39mand\u001b[39;49;00m\n\u001b[1;32m    517\u001b[0m                                                    \u001b[39mself\u001b[39;49m\u001b[39m.\u001b[39;49msensor_types[\u001b[39m'\u001b[39;49m\u001b[39mmodel_accelerometer\u001b[39;49m\u001b[39m'\u001b[39;49m] \u001b[39mand\u001b[39;49;00m\n\u001b[1;32m    518\u001b[0m                                                    \u001b[39mself\u001b[39;49m\u001b[39m.\u001b[39;49msensor_types[\u001b[39m'\u001b[39;49m\u001b[39mmodel_electricity_sensor\u001b[39;49m\u001b[39m'\u001b[39;49m]))\n\u001b[1;32m    520\u001b[0m \u001b[39m'''\u001b[39;00m\n\u001b[1;32m    521\u001b[0m \u001b[39msensorPositions = []\u001b[39;00m\n\u001b[1;32m    522\u001b[0m \u001b[39msensorTypes = []\u001b[39;00m\n\u001b[0;32m   (...)\u001b[0m\n\u001b[1;32m    553\u001b[0m \u001b[39m                                                   self.sensor_types['model_electricity_sensor']))\u001b[39;00m\n\u001b[1;32m    554\u001b[0m \u001b[39m'''\u001b[39;00m\n",
      "File \u001b[0;32m~/Library/CloudStorage/GoogleDrive-golestan@ualberta.ca/My Drive/PhD/Thesis/GreyBox Optimization Project/Codes/Smart-Home-Sensor-Placement-Optimization/SensorDeploymentOptimization/SensorOptimizers/BayesianOptimization.py:277\u001b[0m, in \u001b[0;36mBayesianOptimization.black_box_function\u001b[0;34m(self, sample, simulateMotionSensors, simulateEstimotes, simulateIS, Plotting)\u001b[0m\n\u001b[1;32m    274\u001b[0m all_sensors \u001b[39m=\u001b[39m \u001b[39mset\u001b[39m([])\n\u001b[1;32m    276\u001b[0m \u001b[39mfor\u001b[39;00m agentTrace \u001b[39min\u001b[39;00m \u001b[39mself\u001b[39m\u001b[39m.\u001b[39mBOV\u001b[39m.\u001b[39magentTraces:\n\u001b[0;32m--> 277\u001b[0m     df_ \u001b[39m=\u001b[39m sim_sis\u001b[39m.\u001b[39;49mRunSimulator(\u001b[39mself\u001b[39;49m\u001b[39m.\u001b[39;49mBOV\u001b[39m.\u001b[39;49mspace, \n\u001b[1;32m    278\u001b[0m                                \u001b[39mself\u001b[39;49m\u001b[39m.\u001b[39;49mBOV\u001b[39m.\u001b[39;49mrooms, \n\u001b[1;32m    279\u001b[0m                                agentTrace,\n\u001b[1;32m    280\u001b[0m                                sample\u001b[39m.\u001b[39;49mGetSensorConfiguration(), \n\u001b[1;32m    281\u001b[0m                                simulateMotionSensors, \n\u001b[1;32m    282\u001b[0m                                simulateEstimotes,\n\u001b[1;32m    283\u001b[0m                                simulateIS,\n\u001b[1;32m    284\u001b[0m                                Plotting, \n\u001b[1;32m    285\u001b[0m                                \u001b[39mself\u001b[39;49m\u001b[39m.\u001b[39;49mBOV\u001b[39m.\u001b[39;49mData_path)\n\u001b[1;32m    287\u001b[0m     dataFile, sensors \u001b[39m=\u001b[39m \u001b[39mself\u001b[39m\u001b[39m.\u001b[39mPreProcessor(df_)\n\u001b[1;32m    288\u001b[0m     all_sensors\u001b[39m.\u001b[39mupdate(sensors)\n",
      "File \u001b[0;32m~/Library/CloudStorage/GoogleDrive-golestan@ualberta.ca/My Drive/PhD/Thesis/GreyBox Optimization Project/Codes/Smart-Home-Sensor-Placement-Optimization/SensorDeploymentOptimization/SIM_SIS_Libraries/SIM_SIS_Simulator.py:537\u001b[0m, in \u001b[0;36mRunSimulator\u001b[0;34m(space, Rooms, agentTrace, sensorsConfiguration, simulateMotionSensorsflag, simulateEstimotesflag, simulateIS, plottingflag, Data_path)\u001b[0m\n\u001b[1;32m    534\u001b[0m     \u001b[39mif\u001b[39;00m (plotflag):\n\u001b[1;32m    535\u001b[0m         fig, ax \u001b[39m=\u001b[39m plt\u001b[39m.\u001b[39msubplots(figsize \u001b[39m=\u001b[39m (\u001b[39m8.5\u001b[39m, \u001b[39m8.5\u001b[39m))\n\u001b[0;32m--> 537\u001b[0m     RunSimulation(FDN, simulateMotionSensors, simulateEstimotes, simulateISSensors)\n\u001b[1;32m    539\u001b[0m CreateUltimateDataset(UDN, Epoch)\n\u001b[1;32m    541\u001b[0m \u001b[39mreturn\u001b[39;00m df_\n",
      "File \u001b[0;32m~/Library/CloudStorage/GoogleDrive-golestan@ualberta.ca/My Drive/PhD/Thesis/GreyBox Optimization Project/Codes/Smart-Home-Sensor-Placement-Optimization/SensorDeploymentOptimization/SIM_SIS_Libraries/SIM_SIS_Simulator.py:422\u001b[0m, in \u001b[0;36mRunSimulation\u001b[0;34m(FDN, simulateMotionSensors, simulateEstimotes, simulateISSensors)\u001b[0m\n\u001b[1;32m    418\u001b[0m agent1Loc_previous \u001b[39m=\u001b[39m [\u001b[39m0\u001b[39m, \u001b[39m0\u001b[39m]\n\u001b[1;32m    420\u001b[0m timetoadd \u001b[39m=\u001b[39m df_\u001b[39m.\u001b[39mtime[i]\n\u001b[0;32m--> 422\u001b[0m SimulateSensorReadings(simulateMotionSensors, simulateEstimotes, simulateISSensors, timetoadd, i, agent1Loc, action,  \u001b[39mNone\u001b[39;49;00m)\n",
      "File \u001b[0;32m~/Library/CloudStorage/GoogleDrive-golestan@ualberta.ca/My Drive/PhD/Thesis/GreyBox Optimization Project/Codes/Smart-Home-Sensor-Placement-Optimization/SensorDeploymentOptimization/SIM_SIS_Libraries/SIM_SIS_Simulator.py:310\u001b[0m, in \u001b[0;36mSimulateSensorReadings\u001b[0;34m(simulateMotionSensors, simulateEstimotes, simulateISSensors, t, i, agent1Loc, action, agent2Loc)\u001b[0m\n\u001b[1;32m    307\u001b[0m \u001b[39mif\u001b[39;00m (plotflag):\n\u001b[1;32m    308\u001b[0m     pp \u001b[39m=\u001b[39m ax\u001b[39m.\u001b[39mplot(\u001b[39mfloat\u001b[39m(sensor\u001b[39m.\u001b[39mx) \u001b[39m/\u001b[39m \u001b[39m100\u001b[39m, \u001b[39mfloat\u001b[39m(sensor\u001b[39m.\u001b[39my) \u001b[39m/\u001b[39m \u001b[39m100\u001b[39m , marker\u001b[39m=\u001b[39m\u001b[39m'\u001b[39m\u001b[39m.\u001b[39m\u001b[39m'\u001b[39m, color\u001b[39m=\u001b[39m\u001b[39m'\u001b[39m\u001b[39mk\u001b[39m\u001b[39m'\u001b[39m, lw\u001b[39m=\u001b[39m\u001b[39m5\u001b[39m)\n\u001b[0;32m--> 310\u001b[0m circ \u001b[39m=\u001b[39m Circle((\u001b[39mfloat\u001b[39;49m(\u001b[39mfloat\u001b[39;49m(sensor\u001b[39m.\u001b[39;49mx) \u001b[39m/\u001b[39;49m \u001b[39m100\u001b[39;49m), \u001b[39mfloat\u001b[39;49m(\u001b[39mfloat\u001b[39;49m(sensor\u001b[39m.\u001b[39;49my) \u001b[39m/\u001b[39;49m \u001b[39m100\u001b[39;49m)), \u001b[39mfloat\u001b[39;49m(\u001b[39mfloat\u001b[39;49m(sensor\u001b[39m.\u001b[39;49msensing_area) \u001b[39m/\u001b[39;49m \u001b[39m100\u001b[39;49m))\n\u001b[1;32m    312\u001b[0m \u001b[39mif\u001b[39;00m (circ\u001b[39m.\u001b[39mcontains_point([agent1Loc[\u001b[39m0\u001b[39m], agent1Loc[\u001b[39m1\u001b[39m]]) \u001b[39mand\u001b[39;00m (RecContains(agent1Loc[\u001b[39m0\u001b[39m], agent1Loc[\u001b[39m1\u001b[39m], sensor\u001b[39m.\u001b[39mroom))):\n\u001b[1;32m    313\u001b[0m     no_event_flag \u001b[39m=\u001b[39m \u001b[39m0\u001b[39m\n",
      "File \u001b[0;32m/usr/local/lib/python3.10/site-packages/matplotlib/patches.py:1877\u001b[0m, in \u001b[0;36mCircle.__init__\u001b[0;34m(self, xy, radius, **kwargs)\u001b[0m\n\u001b[1;32m   1865\u001b[0m \u001b[39m@_docstring\u001b[39m\u001b[39m.\u001b[39mdedent_interpd\n\u001b[1;32m   1866\u001b[0m \u001b[39mdef\u001b[39;00m \u001b[39m__init__\u001b[39m(\u001b[39mself\u001b[39m, xy, radius\u001b[39m=\u001b[39m\u001b[39m5\u001b[39m, \u001b[39m*\u001b[39m\u001b[39m*\u001b[39mkwargs):\n\u001b[1;32m   1867\u001b[0m     \u001b[39m\"\"\"\u001b[39;00m\n\u001b[1;32m   1868\u001b[0m \u001b[39m    Create a true circle at center *xy* = (*x*, *y*) with given *radius*.\u001b[39;00m\n\u001b[1;32m   1869\u001b[0m \n\u001b[0;32m   (...)\u001b[0m\n\u001b[1;32m   1875\u001b[0m \u001b[39m    %(Patch:kwdoc)s\u001b[39;00m\n\u001b[1;32m   1876\u001b[0m \u001b[39m    \"\"\"\u001b[39;00m\n\u001b[0;32m-> 1877\u001b[0m     \u001b[39msuper\u001b[39;49m()\u001b[39m.\u001b[39;49m\u001b[39m__init__\u001b[39;49m(xy, radius \u001b[39m*\u001b[39;49m \u001b[39m2\u001b[39;49m, radius \u001b[39m*\u001b[39;49m \u001b[39m2\u001b[39;49m, \u001b[39m*\u001b[39;49m\u001b[39m*\u001b[39;49mkwargs)\n\u001b[1;32m   1878\u001b[0m     \u001b[39mself\u001b[39m\u001b[39m.\u001b[39mradius \u001b[39m=\u001b[39m radius\n",
      "File \u001b[0;32m/usr/local/lib/python3.10/site-packages/matplotlib/_api/deprecation.py:454\u001b[0m, in \u001b[0;36mmake_keyword_only.<locals>.wrapper\u001b[0;34m(*args, **kwargs)\u001b[0m\n\u001b[1;32m    448\u001b[0m \u001b[39mif\u001b[39;00m \u001b[39mlen\u001b[39m(args) \u001b[39m>\u001b[39m name_idx:\n\u001b[1;32m    449\u001b[0m     warn_deprecated(\n\u001b[1;32m    450\u001b[0m         since, message\u001b[39m=\u001b[39m\u001b[39m\"\u001b[39m\u001b[39mPassing the \u001b[39m\u001b[39m%(name)s\u001b[39;00m\u001b[39m \u001b[39m\u001b[39m%(obj_type)s\u001b[39;00m\u001b[39m \u001b[39m\u001b[39m\"\u001b[39m\n\u001b[1;32m    451\u001b[0m         \u001b[39m\"\u001b[39m\u001b[39mpositionally is deprecated since Matplotlib \u001b[39m\u001b[39m%(since)s\u001b[39;00m\u001b[39m; the \u001b[39m\u001b[39m\"\u001b[39m\n\u001b[1;32m    452\u001b[0m         \u001b[39m\"\u001b[39m\u001b[39mparameter will become keyword-only \u001b[39m\u001b[39m%(removal)s\u001b[39;00m\u001b[39m.\u001b[39m\u001b[39m\"\u001b[39m,\n\u001b[1;32m    453\u001b[0m         name\u001b[39m=\u001b[39mname, obj_type\u001b[39m=\u001b[39m\u001b[39mf\u001b[39m\u001b[39m\"\u001b[39m\u001b[39mparameter of \u001b[39m\u001b[39m{\u001b[39;00mfunc\u001b[39m.\u001b[39m\u001b[39m__name__\u001b[39m\u001b[39m}\u001b[39;00m\u001b[39m()\u001b[39m\u001b[39m\"\u001b[39m)\n\u001b[0;32m--> 454\u001b[0m \u001b[39mreturn\u001b[39;00m func(\u001b[39m*\u001b[39;49margs, \u001b[39m*\u001b[39;49m\u001b[39m*\u001b[39;49mkwargs)\n",
      "File \u001b[0;32m/usr/local/lib/python3.10/site-packages/matplotlib/patches.py:1551\u001b[0m, in \u001b[0;36mEllipse.__init__\u001b[0;34m(self, xy, width, height, angle, **kwargs)\u001b[0m\n\u001b[1;32m   1549\u001b[0m \u001b[39mself\u001b[39m\u001b[39m.\u001b[39m_width, \u001b[39mself\u001b[39m\u001b[39m.\u001b[39m_height \u001b[39m=\u001b[39m width, height\n\u001b[1;32m   1550\u001b[0m \u001b[39mself\u001b[39m\u001b[39m.\u001b[39m_angle \u001b[39m=\u001b[39m angle\n\u001b[0;32m-> 1551\u001b[0m \u001b[39mself\u001b[39m\u001b[39m.\u001b[39m_path \u001b[39m=\u001b[39m Path\u001b[39m.\u001b[39;49munit_circle()\n\u001b[1;32m   1552\u001b[0m \u001b[39m# Required for EllipseSelector with axes aspect ratio != 1\u001b[39;00m\n\u001b[1;32m   1553\u001b[0m \u001b[39m# The patch is defined in data coordinates and when changing the\u001b[39;00m\n\u001b[1;32m   1554\u001b[0m \u001b[39m# selector with square modifier and not in data coordinates, we need\u001b[39;00m\n\u001b[1;32m   1555\u001b[0m \u001b[39m# to correct for the aspect ratio difference between the data and\u001b[39;00m\n\u001b[1;32m   1556\u001b[0m \u001b[39m# display coordinate systems.\u001b[39;00m\n\u001b[1;32m   1557\u001b[0m \u001b[39mself\u001b[39m\u001b[39m.\u001b[39m_aspect_ratio_correction \u001b[39m=\u001b[39m \u001b[39m1.0\u001b[39m\n",
      "File \u001b[0;32m/usr/local/lib/python3.10/site-packages/matplotlib/path.py:801\u001b[0m, in \u001b[0;36mPath.unit_circle\u001b[0;34m(cls)\u001b[0m\n\u001b[1;32m    797\u001b[0m     \u001b[39mreturn\u001b[39;00m \u001b[39mcls\u001b[39m\u001b[39m.\u001b[39munit_regular_star(numVertices, \u001b[39m0.0\u001b[39m)\n\u001b[1;32m    799\u001b[0m _unit_circle \u001b[39m=\u001b[39m \u001b[39mNone\u001b[39;00m\n\u001b[0;32m--> 801\u001b[0m \u001b[39m@classmethod\u001b[39m\n\u001b[1;32m    802\u001b[0m \u001b[39mdef\u001b[39;00m \u001b[39munit_circle\u001b[39m(\u001b[39mcls\u001b[39m):\n\u001b[1;32m    803\u001b[0m     \u001b[39m\"\"\"\u001b[39;00m\n\u001b[1;32m    804\u001b[0m \u001b[39m    Return the readonly :class:`Path` of the unit circle.\u001b[39;00m\n\u001b[1;32m    805\u001b[0m \n\u001b[1;32m    806\u001b[0m \u001b[39m    For most cases, :func:`Path.circle` will be what you want.\u001b[39;00m\n\u001b[1;32m    807\u001b[0m \u001b[39m    \"\"\"\u001b[39;00m\n\u001b[1;32m    808\u001b[0m     \u001b[39mif\u001b[39;00m \u001b[39mcls\u001b[39m\u001b[39m.\u001b[39m_unit_circle \u001b[39mis\u001b[39;00m \u001b[39mNone\u001b[39;00m:\n",
      "\u001b[0;31mKeyboardInterrupt\u001b[0m: "
     ]
    }
   ],
   "source": [
    "import SensorOptimizers.BayesianOptimization as bo\n",
    "import numpy as np\n",
    "import pickle\n",
    "\n",
    "acquisition_function = 'ei'\n",
    "acq_optimizer_type = 'auto'\n",
    "ROS = True\n",
    "epsilon = 0.5\n",
    "error = 0.0\n",
    "multi_objective = False\n",
    "LSsensorsNum = 11\n",
    "ISsensorsNum = 1\n",
    "initial_state = 'random'\n",
    "\n",
    "sensor_types = {\n",
    "    'model_motion_sensor': True,\n",
    "    'model_beacon_sensor': False,\n",
    "    'model_pressure_sensor': True,\n",
    "    'model_accelerometer': False,\n",
    "    'model_electricity_sensor': False\n",
    "}\n",
    "\n",
    "testbed = 'Testbed2/'\n",
    "maxSensorNum = int(np.min([(5.3 / epsilon) * (8 / epsilon), LSsensorsNum]))\n",
    "\n",
    "# print(maxSensorNum)\n",
    "\n",
    "print('----- Running BO with: \\n \\t - epsilon: ', epsilon, \n",
    "      '\\n \\t - LS sensors #:', LSsensorsNum, \n",
    "      '\\n \\t - IS sensors #:', ISsensorsNum, \n",
    "      ' \\n \\t - initial state: ', initial_state)\n",
    "\n",
    "for i in range(0, 1):\n",
    "    BO = bo.BayesianOptimization(testbed = testbed,\n",
    "                                 iteration = 1000, \n",
    "                                 epsilon = epsilon, \n",
    "                                 error = error,\n",
    "                                 ROS = True, \n",
    "                                 LSmaxSensorNum = maxSensorNum,\n",
    "                                 ISmaxSensorNum = ISsensorsNum, \n",
    "                                 initial_state = initial_state,\n",
    "                                 input_sensor_types = sensor_types,\n",
    "                                 acquisition_function = acquisition_function,\n",
    "                                 acq_optimizer_type = acq_optimizer_type)\n",
    "\n",
    "    history = BO.run()\n",
    "\n",
    "    with open('Results_BO/history(LS' + str(LSsensorsNum) +  'IS' + str(ISsensorsNum) + ')_' + str(i), 'wb') as handle:\n",
    "        pickle.dump(history, handle, protocol=pickle.HIGHEST_PROTOCOL)\n",
    "            \n",
    "    print(history)"
   ]
  },
  {
   "cell_type": "code",
   "execution_count": null,
   "metadata": {},
   "outputs": [],
   "source": []
  }
 ],
 "metadata": {
  "kernelspec": {
   "display_name": "Python 3.10.7 64-bit",
   "language": "python",
   "name": "python3"
  },
  "language_info": {
   "codemirror_mode": {
    "name": "ipython",
    "version": 3
   },
   "file_extension": ".py",
   "mimetype": "text/x-python",
   "name": "python",
   "nbconvert_exporter": "python",
   "pygments_lexer": "ipython3",
   "version": "3.10.7"
  },
  "vscode": {
   "interpreter": {
    "hash": "aee8b7b246df8f9039afb4144a1f6fd8d2ca17a180786b69acc140d282b71a49"
   }
  }
 },
 "nbformat": 4,
 "nbformat_minor": 4
}
