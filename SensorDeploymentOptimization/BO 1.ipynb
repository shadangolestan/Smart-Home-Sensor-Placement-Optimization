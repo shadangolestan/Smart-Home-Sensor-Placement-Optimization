{
 "cells": [
  {
   "cell_type": "code",
   "execution_count": 1,
   "metadata": {
    "scrolled": true
   },
   "outputs": [
    {
     "name": "stdout",
     "output_type": "stream",
     "text": [
      "----- Running BO with: \n",
      " \t - epsilon:  0.5 \n",
      " \t - LS sensors #: 11 \n",
      " \t - IS sensors #: 3  \n",
      " \t - initial state:  random\n",
      "Processing Region of Similarity... [COMPLETED]\n",
      "here 1\n",
      "[INFO] [2022-11-21 17:16:45,261] [Advisor] === [BO auto selection] === surrogate_type: prf. acq_optimizer_type: local_random.\n",
      "**************************************************\n",
      "self.acq_type  ei\n",
      "acq_optimizer_type  local_random\n",
      "self.num_objs  1\n",
      "self.surrogate_model  None\n",
      "self.num_constraints  0\n",
      "**************************************************\n",
      "[Build Surrogate] Use probabilistic random forest based on scikit-learn. For better performance, please install pyrfr: https://open-box.readthedocs.io/en/latest/installation/install_pyrfr.html\n",
      "<class 'openbox.core.generic_advisor.Advisor'>\n"
     ]
    },
    {
     "name": "stderr",
     "output_type": "stream",
     "text": [
      "  0%|          | 0/1000 [00:00<?, ?it/s]"
     ]
    },
    {
     "name": "stdout",
     "output_type": "stream",
     "text": [
      "[[7.5, 7.5], [4.5, 6.5], [2.5, 7.0], [7.5, 1.5], [7.5, 3.0], [7.0, 6.5], [7.5, 5.0], [2.0, 7.5], [5.0, 1.5], [2.0, 5.5], [7.0, 6.0], (0.5, 7.1), (6.7, 1.4), (1.7, 6.0)]\n",
      "[1, 1, 1, 1, 1, 1, 1, 1, 1, 1, 1, 3, 3, 4]\n",
      "[INFO] [2022-11-21 17:17:42,886] [OpenBox-SPO] Iteration 1, objective value: [39.54428698521072].\n"
     ]
    },
    {
     "name": "stderr",
     "output_type": "stream",
     "text": [
      "  0%|          | 1/1000 [00:57<15:56:03, 57.42s/it]"
     ]
    },
    {
     "name": "stdout",
     "output_type": "stream",
     "text": [
      "[[6.5, 6.0], [3.0, 0.5], [6.0, 4.5], [2.5, 6.5], [2.0, 3.0], [3.0, 7.5], [1.5, 7.0], [7.5, 0.5], [1.5, 5.5], [6.5, 4.0], [0.5, 6.5], (6.0, 3.6), (6.7, 1.4), (2.2, 7.1)]\n",
      "[1, 1, 1, 1, 1, 1, 1, 1, 1, 1, 1, 4, 3, 4]\n",
      "[INFO] [2022-11-21 17:18:37,339] [OpenBox-SPO] Iteration 2, objective value: [37.83970443821843].\n"
     ]
    },
    {
     "name": "stderr",
     "output_type": "stream",
     "text": [
      "  0%|          | 2/1000 [01:51<15:26:03, 55.68s/it]"
     ]
    },
    {
     "name": "stdout",
     "output_type": "stream",
     "text": [
      "[[2.0, 6.0], [6.5, 4.5], [7.0, 7.0], [1.0, 5.0], [3.0, 1.5], [7.5, 5.0], [6.5, 5.5], [3.5, 4.0], [6.0, 5.0], [7.5, 4.0], [5.0, 7.5], (6.8, 5.5), (3.5, 2.7), (6.7, 1.4)]\n",
      "[1, 1, 1, 1, 1, 1, 1, 1, 1, 1, 1, 3, 4, 4]\n",
      "[INFO] [2022-11-21 17:19:25,362] [OpenBox-SPO] Iteration 3, objective value: [46.21813062002713].\n"
     ]
    },
    {
     "name": "stderr",
     "output_type": "stream",
     "text": [
      "  0%|          | 3/1000 [02:39<14:27:04, 52.18s/it]"
     ]
    },
    {
     "name": "stdout",
     "output_type": "stream",
     "text": [
      "[[5.5, 5.0], [4.0, 4.5], [3.5, 3.5], [2.0, 3.5], [4.0, 7.0], [1.0, 6.0], [0.5, 6.0], [3.5, 4.0], [7.0, 2.0], [7.0, 3.0], [2.0, 5.5], (3.5, 2.7), (0.5, 7.1), (7.4, 3.6)]\n",
      "[1, 1, 1, 1, 1, 1, 1, 1, 1, 1, 1, 4, 3, 4]\n",
      "[INFO] [2022-11-21 17:20:28,339] [OpenBox-SPO] Iteration 4, objective value: [55.655015662235975].\n"
     ]
    },
    {
     "name": "stderr",
     "output_type": "stream",
     "text": [
      "  0%|          | 4/1000 [03:42<15:36:57, 56.44s/it]"
     ]
    },
    {
     "name": "stdout",
     "output_type": "stream",
     "text": [
      "[[4.0, 7.5], [2.0, 7.5], [7.5, 4.0], [1.0, 7.5], [5.5, 4.0], [6.5, 7.0], [4.0, 7.0], [4.5, 4.5], [4.0, 3.0], [5.0, 6.0], [2.5, 0.5], (2.2, 7.1), (1.7, 6.0), (1.0, 5.5)]\n",
      "[1, 1, 1, 1, 1, 1, 1, 1, 1, 1, 1, 4, 3, 3]\n",
      "[INFO] [2022-11-21 17:21:31,354] [OpenBox-SPO] Iteration 5, objective value: [51.327298389417706].\n"
     ]
    },
    {
     "name": "stderr",
     "output_type": "stream",
     "text": [
      "  0%|          | 5/1000 [04:45<16:15:19, 58.81s/it]"
     ]
    },
    {
     "name": "stdout",
     "output_type": "stream",
     "text": [
      "[[5.0, 2.5], [4.5, 3.0], [1.5, 6.5], [3.0, 7.5], [4.0, 4.5], [6.5, 3.5], [7.5, 4.5], [6.5, 7.5], [2.0, 4.0], [7.5, 6.5], [6.5, 0.5], (1.0, 5.5), (2.2, 7.1), (1.0, 5.5)]\n",
      "[1, 1, 1, 1, 1, 1, 1, 1, 1, 1, 1, 3, 4, 4]\n",
      "[INFO] [2022-11-21 17:22:36,507] [OpenBox-SPO] Iteration 6, objective value: [35.11893821541578].\n"
     ]
    },
    {
     "name": "stderr",
     "output_type": "stream",
     "text": [
      "  1%|          | 6/1000 [05:51<16:50:02, 60.97s/it]"
     ]
    },
    {
     "name": "stdout",
     "output_type": "stream",
     "text": [
      "[[5.5, 4.0], [7.0, 6.0], [1.5, 5.5], [2.0, 6.0], [6.0, 6.0], [6.0, 1.0], [2.5, 6.5], [7.5, 5.0], [5.0, 6.5], [7.5, 2.5], [2.0, 5.5], (1.7, 6.0), (1.0, 5.5), (6.8, 5.5)]\n",
      "[1, 1, 1, 1, 1, 1, 1, 1, 1, 1, 1, 4, 4, 3]\n",
      "[INFO] [2022-11-21 17:23:52,894] [OpenBox-SPO] Iteration 7, objective value: [46.48217748670703].\n"
     ]
    },
    {
     "name": "stderr",
     "output_type": "stream",
     "text": [
      "  1%|          | 7/1000 [07:14<17:07:43, 62.10s/it]\n"
     ]
    },
    {
     "ename": "KeyboardInterrupt",
     "evalue": "",
     "output_type": "error",
     "traceback": [
      "\u001b[0;31m---------------------------------------------------------------------------\u001b[0m",
      "\u001b[0;31mKeyboardInterrupt\u001b[0m                         Traceback (most recent call last)",
      "Cell \u001b[0;32mIn [1], line 49\u001b[0m\n\u001b[1;32m     36\u001b[0m \u001b[39mfor\u001b[39;00m i \u001b[39min\u001b[39;00m \u001b[39mrange\u001b[39m(\u001b[39m0\u001b[39m, \u001b[39m1\u001b[39m):\n\u001b[1;32m     37\u001b[0m     BO \u001b[39m=\u001b[39m bo\u001b[39m.\u001b[39mBayesianOptimization(testbed \u001b[39m=\u001b[39m testbed,\n\u001b[1;32m     38\u001b[0m                                  iteration \u001b[39m=\u001b[39m \u001b[39m1000\u001b[39m, \n\u001b[1;32m     39\u001b[0m                                  epsilon \u001b[39m=\u001b[39m epsilon, \n\u001b[0;32m   (...)\u001b[0m\n\u001b[1;32m     46\u001b[0m                                  acquisition_function \u001b[39m=\u001b[39m acquisition_function,\n\u001b[1;32m     47\u001b[0m                                  acq_optimizer_type \u001b[39m=\u001b[39m acq_optimizer_type)\n\u001b[0;32m---> 49\u001b[0m     history \u001b[39m=\u001b[39m BO\u001b[39m.\u001b[39;49mrun()\n\u001b[1;32m     51\u001b[0m     \u001b[39mwith\u001b[39;00m \u001b[39mopen\u001b[39m(\u001b[39m'\u001b[39m\u001b[39mResults_BO/history(LS\u001b[39m\u001b[39m'\u001b[39m \u001b[39m+\u001b[39m \u001b[39mstr\u001b[39m(LSsensorsNum) \u001b[39m+\u001b[39m  \u001b[39m'\u001b[39m\u001b[39mIS\u001b[39m\u001b[39m'\u001b[39m \u001b[39m+\u001b[39m \u001b[39mstr\u001b[39m(ISsensorsNum) \u001b[39m+\u001b[39m \u001b[39m'\u001b[39m\u001b[39m)_\u001b[39m\u001b[39m'\u001b[39m \u001b[39m+\u001b[39m \u001b[39mstr\u001b[39m(i), \u001b[39m'\u001b[39m\u001b[39mwb\u001b[39m\u001b[39m'\u001b[39m) \u001b[39mas\u001b[39;00m handle:\n\u001b[1;32m     52\u001b[0m         pickle\u001b[39m.\u001b[39mdump(history, handle, protocol\u001b[39m=\u001b[39mpickle\u001b[39m.\u001b[39mHIGHEST_PROTOCOL)\n",
      "File \u001b[0;32m~/Library/CloudStorage/GoogleDrive-golestan@ualberta.ca/My Drive/PhD/Thesis/GreyBox Optimization Project/Codes/Smart-Home-Sensor-Placement-Optimization/SensorDeploymentOptimization/SensorOptimizers/BayesianOptimization.py:744\u001b[0m, in \u001b[0;36mBayesianOptimization.run\u001b[0;34m(self)\u001b[0m\n\u001b[1;32m    731\u001b[0m history_list \u001b[39m=\u001b[39m []\n\u001b[1;32m    733\u001b[0m opt \u001b[39m=\u001b[39m Optimizer(\n\u001b[1;32m    734\u001b[0m     \u001b[39mself\u001b[39m\u001b[39m.\u001b[39mfunction_to_be_optimized,\n\u001b[1;32m    735\u001b[0m     \u001b[39mself\u001b[39m\u001b[39m.\u001b[39mspace,\n\u001b[0;32m   (...)\u001b[0m\n\u001b[1;32m    742\u001b[0m     error \u001b[39m=\u001b[39m \u001b[39mself\u001b[39m\u001b[39m.\u001b[39mCONSTANTS[\u001b[39m'\u001b[39m\u001b[39merror\u001b[39m\u001b[39m'\u001b[39m]\n\u001b[1;32m    743\u001b[0m )\n\u001b[0;32m--> 744\u001b[0m history \u001b[39m=\u001b[39m opt\u001b[39m.\u001b[39;49mrun()\n\u001b[1;32m    747\u001b[0m \u001b[39mreturn\u001b[39;00m history\n",
      "File \u001b[0;32m~/Library/CloudStorage/GoogleDrive-golestan@ualberta.ca/My Drive/PhD/Thesis/GreyBox Optimization Project/Codes/Smart-Home-Sensor-Placement-Optimization/SensorDeploymentOptimization/openbox/optimizer/generic_smbo.py:221\u001b[0m, in \u001b[0;36mSMBO.run\u001b[0;34m(self)\u001b[0m\n\u001b[1;32m    219\u001b[0m     \u001b[39mbreak\u001b[39;00m\n\u001b[1;32m    220\u001b[0m start_time \u001b[39m=\u001b[39m time\u001b[39m.\u001b[39mtime()\n\u001b[0;32m--> 221\u001b[0m \u001b[39mself\u001b[39;49m\u001b[39m.\u001b[39;49miterate(budget_left\u001b[39m=\u001b[39;49m\u001b[39mself\u001b[39;49m\u001b[39m.\u001b[39;49mbudget_left)\n\u001b[1;32m    222\u001b[0m runtime \u001b[39m=\u001b[39m time\u001b[39m.\u001b[39mtime() \u001b[39m-\u001b[39m start_time\n\u001b[1;32m    223\u001b[0m \u001b[39mself\u001b[39m\u001b[39m.\u001b[39mbudget_left \u001b[39m-\u001b[39m\u001b[39m=\u001b[39m runtime\n",
      "File \u001b[0;32m~/Library/CloudStorage/GoogleDrive-golestan@ualberta.ca/My Drive/PhD/Thesis/GreyBox Optimization Project/Codes/Smart-Home-Sensor-Placement-Optimization/SensorDeploymentOptimization/openbox/optimizer/generic_smbo.py:228\u001b[0m, in \u001b[0;36mSMBO.iterate\u001b[0;34m(self, budget_left)\u001b[0m\n\u001b[1;32m    226\u001b[0m \u001b[39mdef\u001b[39;00m \u001b[39miterate\u001b[39m(\u001b[39mself\u001b[39m, budget_left\u001b[39m=\u001b[39m\u001b[39mNone\u001b[39;00m):\n\u001b[1;32m    227\u001b[0m     \u001b[39m# get configuration suggestion from advisor\u001b[39;00m\n\u001b[0;32m--> 228\u001b[0m     config \u001b[39m=\u001b[39m \u001b[39mself\u001b[39;49m\u001b[39m.\u001b[39;49mconfig_advisor\u001b[39m.\u001b[39;49mget_suggestion()\n\u001b[1;32m    230\u001b[0m     trial_state \u001b[39m=\u001b[39m SUCCESS\n\u001b[1;32m    231\u001b[0m     _budget_left \u001b[39m=\u001b[39m \u001b[39mint\u001b[39m(\u001b[39m1e10\u001b[39m) \u001b[39mif\u001b[39;00m budget_left \u001b[39mis\u001b[39;00m \u001b[39mNone\u001b[39;00m \u001b[39melse\u001b[39;00m budget_left\n",
      "File \u001b[0;32m~/Library/CloudStorage/GoogleDrive-golestan@ualberta.ca/My Drive/PhD/Thesis/GreyBox Optimization Project/Codes/Smart-Home-Sensor-Placement-Optimization/SensorDeploymentOptimization/openbox/core/generic_advisor.py:413\u001b[0m, in \u001b[0;36mAdvisor.get_suggestion\u001b[0;34m(self, history_container, return_list)\u001b[0m\n\u001b[1;32m    405\u001b[0m         \u001b[39mself\u001b[39m\u001b[39m.\u001b[39macquisition_function\u001b[39m.\u001b[39mupdate(model\u001b[39m=\u001b[39m\u001b[39mself\u001b[39m\u001b[39m.\u001b[39msurrogate_model,\n\u001b[1;32m    406\u001b[0m                                          constraint_models\u001b[39m=\u001b[39m\u001b[39mself\u001b[39m\u001b[39m.\u001b[39mconstraint_models,\n\u001b[1;32m    407\u001b[0m                                          constraint_perfs\u001b[39m=\u001b[39mcY,  \u001b[39m# for MESMOC\u001b[39;00m\n\u001b[1;32m    408\u001b[0m                                          eta\u001b[39m=\u001b[39mmo_incumbent_value,\n\u001b[1;32m    409\u001b[0m                                          num_data\u001b[39m=\u001b[39mnum_config_evaluated,\n\u001b[1;32m    410\u001b[0m                                          X\u001b[39m=\u001b[39mX, Y\u001b[39m=\u001b[39mY)\n\u001b[1;32m    412\u001b[0m \u001b[39m# optimize acquisition function\u001b[39;00m\n\u001b[0;32m--> 413\u001b[0m challengers \u001b[39m=\u001b[39m \u001b[39mself\u001b[39;49m\u001b[39m.\u001b[39;49moptimizer\u001b[39m.\u001b[39;49mmaximize(runhistory\u001b[39m=\u001b[39;49mhistory_container,\n\u001b[1;32m    414\u001b[0m                                       num_points\u001b[39m=\u001b[39;49m\u001b[39m5000\u001b[39;49m)\n\u001b[1;32m    415\u001b[0m \u001b[39mif\u001b[39;00m return_list:\n\u001b[1;32m    416\u001b[0m     \u001b[39m# Caution: return_list doesn't contain random configs sampled according to rand_prob\u001b[39;00m\n\u001b[1;32m    417\u001b[0m     \u001b[39mreturn\u001b[39;00m challengers\u001b[39m.\u001b[39mchallengers\n",
      "File \u001b[0;32m~/Library/CloudStorage/GoogleDrive-golestan@ualberta.ca/My Drive/PhD/Thesis/GreyBox Optimization Project/Codes/Smart-Home-Sensor-Placement-Optimization/SensorDeploymentOptimization/openbox/acq_maximizer/ei_optimization.py:519\u001b[0m, in \u001b[0;36mInterleavedLocalAndRandomSearch.maximize\u001b[0;34m(self, runhistory, num_points, random_configuration_chooser, **kwargs)\u001b[0m\n\u001b[1;32m    489\u001b[0m \u001b[39mdef\u001b[39;00m \u001b[39mmaximize\u001b[39m(\n\u001b[1;32m    490\u001b[0m         \u001b[39mself\u001b[39m,\n\u001b[1;32m    491\u001b[0m         runhistory: HistoryContainer,\n\u001b[0;32m   (...)\u001b[0m\n\u001b[1;32m    494\u001b[0m         \u001b[39m*\u001b[39m\u001b[39m*\u001b[39mkwargs\n\u001b[1;32m    495\u001b[0m ) \u001b[39m-\u001b[39m\u001b[39m>\u001b[39m Iterable[Configuration]:\n\u001b[1;32m    496\u001b[0m     \u001b[39m\"\"\"Maximize acquisition function using ``_maximize``.\u001b[39;00m\n\u001b[1;32m    497\u001b[0m \n\u001b[1;32m    498\u001b[0m \u001b[39m    Parameters\u001b[39;00m\n\u001b[0;32m   (...)\u001b[0m\n\u001b[1;32m    516\u001b[0m \u001b[39m        to be concrete: ~openbox.ei_optimization.ChallengerList\u001b[39;00m\n\u001b[1;32m    517\u001b[0m \u001b[39m    \"\"\"\u001b[39;00m\n\u001b[0;32m--> 519\u001b[0m     next_configs_by_local_search \u001b[39m=\u001b[39m \u001b[39mself\u001b[39;49m\u001b[39m.\u001b[39;49mlocal_search\u001b[39m.\u001b[39;49m_maximize(\n\u001b[1;32m    520\u001b[0m         runhistory, \u001b[39mself\u001b[39;49m\u001b[39m.\u001b[39;49mn_sls_iterations, \u001b[39m*\u001b[39;49m\u001b[39m*\u001b[39;49mkwargs\n\u001b[1;32m    521\u001b[0m     )\n\u001b[1;32m    523\u001b[0m     \u001b[39m# Get configurations sorted by EI\u001b[39;00m\n\u001b[1;32m    524\u001b[0m     next_configs_by_random_search_sorted \u001b[39m=\u001b[39m \u001b[39mself\u001b[39m\u001b[39m.\u001b[39mrandom_search\u001b[39m.\u001b[39m_maximize(\n\u001b[1;32m    525\u001b[0m         runhistory,\n\u001b[1;32m    526\u001b[0m         num_points \u001b[39m-\u001b[39m \u001b[39mlen\u001b[39m(next_configs_by_local_search),\n\u001b[1;32m    527\u001b[0m         _sorted\u001b[39m=\u001b[39m\u001b[39mTrue\u001b[39;00m,\n\u001b[1;32m    528\u001b[0m     )\n",
      "File \u001b[0;32m~/Library/CloudStorage/GoogleDrive-golestan@ualberta.ca/My Drive/PhD/Thesis/GreyBox Optimization Project/Codes/Smart-Home-Sensor-Placement-Optimization/SensorDeploymentOptimization/openbox/acq_maximizer/ei_optimization.py:281\u001b[0m, in \u001b[0;36mLocalSearch._maximize\u001b[0;34m(self, runhistory, num_points, **kwargs)\u001b[0m\n\u001b[1;32m    279\u001b[0m \u001b[39m# Start N local search from different random start points\u001b[39;00m\n\u001b[1;32m    280\u001b[0m \u001b[39mfor\u001b[39;00m start_point \u001b[39min\u001b[39;00m init_points:\n\u001b[0;32m--> 281\u001b[0m     acq_val, configuration \u001b[39m=\u001b[39m \u001b[39mself\u001b[39;49m\u001b[39m.\u001b[39;49m_one_iter(\n\u001b[1;32m    282\u001b[0m         start_point, \u001b[39m*\u001b[39;49m\u001b[39m*\u001b[39;49mkwargs)\n\u001b[1;32m    284\u001b[0m     configuration\u001b[39m.\u001b[39morigin \u001b[39m=\u001b[39m \u001b[39m\"\u001b[39m\u001b[39mLocal Search\u001b[39m\u001b[39m\"\u001b[39m\n\u001b[1;32m    285\u001b[0m     acq_configs\u001b[39m.\u001b[39mappend((acq_val, configuration))\n",
      "File \u001b[0;32m~/Library/CloudStorage/GoogleDrive-golestan@ualberta.ca/My Drive/PhD/Thesis/GreyBox Optimization Project/Codes/Smart-Home-Sensor-Placement-Optimization/SensorDeploymentOptimization/openbox/acq_maximizer/ei_optimization.py:349\u001b[0m, in \u001b[0;36mLocalSearch._one_iter\u001b[0;34m(self, start_point, **kwargs)\u001b[0m\n\u001b[1;32m    347\u001b[0m \u001b[39mfor\u001b[39;00m neighbor \u001b[39min\u001b[39;00m all_neighbors:\n\u001b[1;32m    348\u001b[0m     s_time \u001b[39m=\u001b[39m time\u001b[39m.\u001b[39mtime()\n\u001b[0;32m--> 349\u001b[0m     acq_val \u001b[39m=\u001b[39m \u001b[39mself\u001b[39;49m\u001b[39m.\u001b[39;49macquisition_function([neighbor], \u001b[39m*\u001b[39;49m\u001b[39m*\u001b[39;49mkwargs)\n\u001b[1;32m    350\u001b[0m     neighbors_looked_at \u001b[39m+\u001b[39m\u001b[39m=\u001b[39m \u001b[39m1\u001b[39m\n\u001b[1;32m    351\u001b[0m     time_n\u001b[39m.\u001b[39mappend(time\u001b[39m.\u001b[39mtime() \u001b[39m-\u001b[39m s_time)\n",
      "File \u001b[0;32m~/Library/CloudStorage/GoogleDrive-golestan@ualberta.ca/My Drive/PhD/Thesis/GreyBox Optimization Project/Codes/Smart-Home-Sensor-Placement-Optimization/SensorDeploymentOptimization/openbox/acquisition_function/acquisition.py:82\u001b[0m, in \u001b[0;36mAbstractAcquisitionFunction.__call__\u001b[0;34m(self, configurations, convert, **kwargs)\u001b[0m\n\u001b[1;32m     67\u001b[0m \u001b[39m\"\"\"Computes the acquisition value for a given X\u001b[39;00m\n\u001b[1;32m     68\u001b[0m \n\u001b[1;32m     69\u001b[0m \u001b[39mParameters\u001b[39;00m\n\u001b[0;32m   (...)\u001b[0m\n\u001b[1;32m     79\u001b[0m \u001b[39m    acquisition values for X\u001b[39;00m\n\u001b[1;32m     80\u001b[0m \u001b[39m\"\"\"\u001b[39;00m\n\u001b[1;32m     81\u001b[0m \u001b[39mif\u001b[39;00m convert:\n\u001b[0;32m---> 82\u001b[0m     X \u001b[39m=\u001b[39m convert_configurations_to_array(configurations)\n\u001b[1;32m     83\u001b[0m \u001b[39melse\u001b[39;00m:\n\u001b[1;32m     84\u001b[0m     X \u001b[39m=\u001b[39m configurations  \u001b[39m# to be compatible with multi-objective acq to call single acq\u001b[39;00m\n",
      "File \u001b[0;32m~/Library/CloudStorage/GoogleDrive-golestan@ualberta.ca/My Drive/PhD/Thesis/GreyBox Optimization Project/Codes/Smart-Home-Sensor-Placement-Optimization/SensorDeploymentOptimization/openbox/utils/config_space/util.py:31\u001b[0m, in \u001b[0;36mconvert_configurations_to_array\u001b[0;34m(configs)\u001b[0m\n\u001b[1;32m     27\u001b[0m configs_array \u001b[39m=\u001b[39m np\u001b[39m.\u001b[39marray([config\u001b[39m.\u001b[39mget_array() \u001b[39mfor\u001b[39;00m config \u001b[39min\u001b[39;00m configs],\n\u001b[1;32m     28\u001b[0m                          dtype\u001b[39m=\u001b[39mnp\u001b[39m.\u001b[39mfloat64)\n\u001b[1;32m     29\u001b[0m configuration_space \u001b[39m=\u001b[39m configs[\u001b[39m0\u001b[39m]\u001b[39m.\u001b[39mconfiguration_space\n\u001b[0;32m---> 31\u001b[0m \u001b[39mreturn\u001b[39;00m impute_default_values(configuration_space, configs_array)\n",
      "File \u001b[0;32m~/Library/CloudStorage/GoogleDrive-golestan@ualberta.ca/My Drive/PhD/Thesis/GreyBox Optimization Project/Codes/Smart-Home-Sensor-Placement-Optimization/SensorDeploymentOptimization/openbox/utils/config_space/util.py:59\u001b[0m, in \u001b[0;36mimpute_default_values\u001b[0;34m(configuration_space, configs_array)\u001b[0m\n\u001b[1;32m     57\u001b[0m     idx \u001b[39m=\u001b[39m configuration_space\u001b[39m.\u001b[39mget_idx_by_hyperparameter_name(hp\u001b[39m.\u001b[39mname)\n\u001b[1;32m     58\u001b[0m     nonfinite_mask \u001b[39m=\u001b[39m \u001b[39m~\u001b[39mnp\u001b[39m.\u001b[39misfinite(configs_array[:, idx])\n\u001b[0;32m---> 59\u001b[0m     configs_array[nonfinite_mask, idx] \u001b[39m=\u001b[39m default\n\u001b[1;32m     61\u001b[0m \u001b[39mreturn\u001b[39;00m configs_array\n",
      "\u001b[0;31mKeyboardInterrupt\u001b[0m: "
     ]
    }
   ],
   "source": [
    "import SensorOptimizers.BayesianOptimization as bo\n",
    "import numpy as np\n",
    "import pickle\n",
    "\n",
    "acquisition_function = 'ei'\n",
    "acq_optimizer_type = 'auto'\n",
    "ROS = True\n",
    "epsilon = 0.5\n",
    "error = 0.0\n",
    "multi_objective = False\n",
    "LSsensorsNum = 7\n",
    "ISsensorsNum = 1\n",
    "initial_state = 'random'\n",
    "\n",
    "sensor_types = {\n",
    "    'model_motion_sensor': True,\n",
    "    'model_beacon_sensor': False,\n",
    "    'model_pressure_sensor': True,\n",
    "    'model_accelerometer': False,\n",
    "    'model_electricity_sensor': True\n",
    "}\n",
    "\n",
    "# testbed = 'Testbed2/'\n",
    "# maxSensorNum = int(np.min([(8 / epsilon) * (8 / epsilon), LSsensorsNum]))\n",
    "\n",
    "testbed = 'Testbed1/'\n",
    "maxSensorNum = int(np.min([(8 / epsilon) * (8 / epsilon), LSsensorsNum]))\n",
    "\n",
    "# print(maxSensorNum)\n",
    "\n",
    "print('----- Running BO with: \\n \\t - epsilon: ', epsilon, \n",
    "      '\\n \\t - LS sensors #:', LSsensorsNum, \n",
    "      '\\n \\t - IS sensors #:', ISsensorsNum, \n",
    "      ' \\n \\t - initial state: ', initial_state)\n",
    "\n",
    "for i in range(0, 1):\n",
    "    BO = bo.BayesianOptimization(testbed = testbed,\n",
    "                                 iteration = 1000, \n",
    "                                 epsilon = epsilon, \n",
    "                                 error = error,\n",
    "                                 ROS = True, \n",
    "                                 LSmaxSensorNum = maxSensorNum,\n",
    "                                 ISmaxSensorNum = ISsensorsNum, \n",
    "                                 initial_state = initial_state,\n",
    "                                 input_sensor_types = sensor_types,\n",
    "                                 acquisition_function = acquisition_function,\n",
    "                                 acq_optimizer_type = acq_optimizer_type)\n",
    "\n",
    "    history = BO.run()\n",
    "\n",
    "    with open('Results_BO/history(LS' + str(LSsensorsNum) +  'IS' + str(ISsensorsNum) + ')_' + str(i), 'wb') as handle:\n",
    "        pickle.dump(history, handle, protocol=pickle.HIGHEST_PROTOCOL)\n",
    "            \n",
    "    print(history)"
   ]
  },
  {
   "cell_type": "code",
   "execution_count": null,
   "metadata": {},
   "outputs": [],
   "source": []
  }
 ],
 "metadata": {
  "kernelspec": {
   "display_name": "Python 3.10.7 64-bit",
   "language": "python",
   "name": "python3"
  },
  "language_info": {
   "codemirror_mode": {
    "name": "ipython",
    "version": 3
   },
   "file_extension": ".py",
   "mimetype": "text/x-python",
   "name": "python",
   "nbconvert_exporter": "python",
   "pygments_lexer": "ipython3",
   "version": "3.10.7"
  },
  "vscode": {
   "interpreter": {
    "hash": "aee8b7b246df8f9039afb4144a1f6fd8d2ca17a180786b69acc140d282b71a49"
   }
  }
 },
 "nbformat": 4,
 "nbformat_minor": 4
}
