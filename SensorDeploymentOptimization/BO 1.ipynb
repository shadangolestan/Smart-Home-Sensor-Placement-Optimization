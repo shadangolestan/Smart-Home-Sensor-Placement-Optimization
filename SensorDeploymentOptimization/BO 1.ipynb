{
 "cells": [
  {
   "cell_type": "code",
   "execution_count": null,
   "metadata": {
    "scrolled": false
   },
   "outputs": [
    {
     "name": "stdout",
     "output_type": "stream",
     "text": [
      "----- Running BO with: \n",
      " \t - epsilon:  0.25 \n",
      " \t - LS sensors #: 5 \n",
      " \t - IS sensors #: 0  \n",
      " \t - initial state:  random\n",
      "Processing Region of Similarity... [COMPLETED]\n",
      "adviser type is default...\n",
      "[INFO] [2022-12-21 13:59:26,830] [Advisor] === [BO auto selection] === surrogate_type: prf. acq_optimizer_type: local_random.\n",
      "--------------------------------------------------\n",
      "self.acq_type  ei\n",
      "acq_optimizer_type  local_random\n",
      "self.num_objs  1\n",
      "self.surrogate_model  None\n",
      "self.num_constraints  0\n",
      "--------------------------------------------------\n",
      "[Build Surrogate] Use probabilistic random forest based on scikit-learn. For better performance, please install pyrfr: https://open-box.readthedocs.io/en/latest/installation/install_pyrfr.html\n"
     ]
    },
    {
     "name": "stderr",
     "output_type": "stream",
     "text": [
      "\r",
      "  0%|                                                                                                                                                        | 0/1000 [00:00<?, ?it/s]"
     ]
    },
    {
     "name": "stdout",
     "output_type": "stream",
     "text": [
      "[INFO] [2022-12-21 14:00:11,939] [OpenBox-SPO] Iteration 1, objective value: [58.01112487034591].\n"
     ]
    },
    {
     "name": "stderr",
     "output_type": "stream",
     "text": [
      "\r",
      "  0%|▏                                                                                                                                            | 1/1000 [00:45<12:30:45, 45.09s/it]"
     ]
    },
    {
     "name": "stdout",
     "output_type": "stream",
     "text": [
      "[INFO] [2022-12-21 14:01:03,898] [OpenBox-SPO] Iteration 2, objective value: [51.97416880378129].\n"
     ]
    },
    {
     "name": "stderr",
     "output_type": "stream",
     "text": [
      "\r",
      "  0%|▎                                                                                                                                            | 2/1000 [01:37<13:37:13, 49.13s/it]"
     ]
    },
    {
     "name": "stdout",
     "output_type": "stream",
     "text": [
      "[INFO] [2022-12-21 14:01:47,007] [OpenBox-SPO] Iteration 3, objective value: [53.3335493420972].\n"
     ]
    },
    {
     "name": "stderr",
     "output_type": "stream",
     "text": [
      "\r",
      "  0%|▍                                                                                                                                            | 3/1000 [02:20<12:50:41, 46.38s/it]"
     ]
    },
    {
     "name": "stdout",
     "output_type": "stream",
     "text": [
      "[INFO] [2022-12-21 14:02:48,352] [OpenBox-SPO] Iteration 4, objective value: [57.18544306118115].\n"
     ]
    },
    {
     "name": "stderr",
     "output_type": "stream",
     "text": [
      "\r",
      "  0%|▌                                                                                                                                            | 4/1000 [03:21<14:28:00, 52.29s/it]"
     ]
    },
    {
     "name": "stdout",
     "output_type": "stream",
     "text": [
      "[INFO] [2022-12-21 14:03:43,625] [OpenBox-SPO] Iteration 5, objective value: [76.80869588452529].\n"
     ]
    },
    {
     "name": "stderr",
     "output_type": "stream",
     "text": [
      "\r",
      "  0%|▋                                                                                                                                            | 5/1000 [04:16<14:44:57, 53.36s/it]"
     ]
    },
    {
     "name": "stdout",
     "output_type": "stream",
     "text": [
      "[INFO] [2022-12-21 14:04:51,289] [OpenBox-SPO] Iteration 6, objective value: [62.61644049261644].\n"
     ]
    },
    {
     "name": "stderr",
     "output_type": "stream",
     "text": [
      "\r",
      "  1%|▊                                                                                                                                            | 6/1000 [05:24<16:04:36, 58.23s/it]"
     ]
    }
   ],
   "source": [
    "import SensorOptimizers.BayesianOptimization as bo\n",
    "import numpy as np\n",
    "import pickle\n",
    "\n",
    "acquisition_function = 'ei'\n",
    "acq_optimizer_type = 'auto'\n",
    "ROS = True\n",
    "epsilon = 0.25\n",
    "error = 0.0\n",
    "multi_objective = False\n",
    "LSsensorsNum = 5\n",
    "ISsensorsNum = 0\n",
    "initial_state = 'random'\n",
    "RLBO = False\n",
    "\n",
    "sensor_types = {\n",
    "    'model_motion_sensor': True,\n",
    "    'model_beacon_sensor': False,\n",
    "    'model_pressure_sensor': False,\n",
    "    'model_accelerometer': False,\n",
    "    'model_electricity_sensor': False\n",
    "}\n",
    "\n",
    "\n",
    "# testbed = 'Testbed2/'\n",
    "# maxSensorNum = int(np.min([(5.3 / epsilon) * (8 / epsilon), LSsensorsNum]))\n",
    "\n",
    "testbed = 'Testbed1/'\n",
    "maxSensorNum = int(np.min([(8 / epsilon) * (8 / epsilon), LSsensorsNum]))\n",
    "\n",
    "print('----- Running BO with: \\n \\t - epsilon: ', epsilon, \n",
    "      '\\n \\t - LS sensors #:', LSsensorsNum, \n",
    "      '\\n \\t - IS sensors #:', ISsensorsNum, \n",
    "      ' \\n \\t - initial state: ', initial_state)\n",
    "\n",
    "for i in range(0, 1):\n",
    "    BO = bo.BayesianOptimization(testbed = testbed,\n",
    "                                 iteration = 1000, \n",
    "                                 epsilon = epsilon, \n",
    "                                 error = error,\n",
    "                                 ROS = True, \n",
    "                                 LSmaxSensorNum = maxSensorNum,\n",
    "                                 ISmaxSensorNum = ISsensorsNum, \n",
    "                                 initial_state = initial_state,\n",
    "                                 input_sensor_types = sensor_types,\n",
    "                                 acquisition_function = acquisition_function,\n",
    "                                 acq_optimizer_type = acq_optimizer_type)\n",
    "\n",
    "    history, states, actions, rewards = BO.run(RLBO = RLBO)\n",
    "\n",
    "    with open('Results_BO/history(LS' + str(LSsensorsNum) +  'IS' + str(ISsensorsNum) + ')_' + str(i), 'wb') as handle:\n",
    "        pickle.dump(history, handle, protocol=pickle.HIGHEST_PROTOCOL)\n",
    "            \n",
    "    print(history)"
   ]
  },
  {
   "cell_type": "code",
   "execution_count": null,
   "metadata": {},
   "outputs": [],
   "source": []
  }
 ],
 "metadata": {
  "kernelspec": {
   "display_name": "Python 3 (ipykernel)",
   "language": "python",
   "name": "python3"
  },
  "language_info": {
   "codemirror_mode": {
    "name": "ipython",
    "version": 3
   },
   "file_extension": ".py",
   "mimetype": "text/x-python",
   "name": "python",
   "nbconvert_exporter": "python",
   "pygments_lexer": "ipython3",
   "version": "3.10.7"
  },
  "vscode": {
   "interpreter": {
    "hash": "aee8b7b246df8f9039afb4144a1f6fd8d2ca17a180786b69acc140d282b71a49"
   }
  }
 },
 "nbformat": 4,
 "nbformat_minor": 4
}
