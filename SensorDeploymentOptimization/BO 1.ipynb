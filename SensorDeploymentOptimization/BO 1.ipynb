{
 "cells": [
  {
   "cell_type": "code",
   "execution_count": 1,
   "metadata": {
    "scrolled": true
   },
   "outputs": [
    {
     "name": "stdout",
     "output_type": "stream",
     "text": [
      "----- Running BO with: \n",
      " \t - epsilon:  0.5 \n",
      " \t - LS sensors #: 11 \n",
      " \t - IS sensors #: 3  \n",
      " \t - initial state:  random\n",
      "Processing Region of Similarity... [COMPLETED]\n",
      "here 1\n",
      "[INFO] [2022-11-21 17:11:22,961] [Advisor] === [BO auto selection] === surrogate_type: prf. acq_optimizer_type: local_random.\n",
      "**************************************************\n",
      "self.acq_type  ei\n",
      "acq_optimizer_type  local_random\n",
      "self.num_objs  1\n",
      "self.surrogate_model  None\n",
      "self.num_constraints  0\n",
      "**************************************************\n",
      "[Build Surrogate] Use probabilistic random forest based on scikit-learn. For better performance, please install pyrfr: https://open-box.readthedocs.io/en/latest/installation/install_pyrfr.html\n",
      "<class 'openbox.core.generic_advisor.Advisor'>\n"
     ]
    },
    {
     "name": "stderr",
     "output_type": "stream",
     "text": [
      "  0%|          | 0/1000 [00:00<?, ?it/s]"
     ]
    },
    {
     "name": "stdout",
     "output_type": "stream",
     "text": [
      "[[7.5, 3.0], [4.0, 1.0], [1.0, 7.5], [3.0, 7.0], [6.0, 6.0], [2.0, 3.0], [5.0, 7.5], [6.0, 1.5], [2.0, 2.5], [5.5, 2.0], [2.5, 1.0], (1.7, 6.0), (0.5, 7.1), (4.2, 3.2)]\n",
      "[1, 1, 1, 1, 1, 1, 1, 1, 1, 1, 1, 1, 1, 1]\n"
     ]
    },
    {
     "name": "stderr",
     "output_type": "stream",
     "text": [
      "  0%|          | 0/1000 [00:04<?, ?it/s]\n"
     ]
    },
    {
     "ename": "KeyboardInterrupt",
     "evalue": "",
     "output_type": "error",
     "traceback": [
      "\u001b[0;31m---------------------------------------------------------------------------\u001b[0m",
      "\u001b[0;31mKeyboardInterrupt\u001b[0m                         Traceback (most recent call last)",
      "Cell \u001b[0;32mIn [1], line 49\u001b[0m\n\u001b[1;32m     36\u001b[0m \u001b[39mfor\u001b[39;00m i \u001b[39min\u001b[39;00m \u001b[39mrange\u001b[39m(\u001b[39m0\u001b[39m, \u001b[39m1\u001b[39m):\n\u001b[1;32m     37\u001b[0m     BO \u001b[39m=\u001b[39m bo\u001b[39m.\u001b[39mBayesianOptimization(testbed \u001b[39m=\u001b[39m testbed,\n\u001b[1;32m     38\u001b[0m                                  iteration \u001b[39m=\u001b[39m \u001b[39m1000\u001b[39m, \n\u001b[1;32m     39\u001b[0m                                  epsilon \u001b[39m=\u001b[39m epsilon, \n\u001b[0;32m   (...)\u001b[0m\n\u001b[1;32m     46\u001b[0m                                  acquisition_function \u001b[39m=\u001b[39m acquisition_function,\n\u001b[1;32m     47\u001b[0m                                  acq_optimizer_type \u001b[39m=\u001b[39m acq_optimizer_type)\n\u001b[0;32m---> 49\u001b[0m     history \u001b[39m=\u001b[39m BO\u001b[39m.\u001b[39;49mrun()\n\u001b[1;32m     51\u001b[0m     \u001b[39mwith\u001b[39;00m \u001b[39mopen\u001b[39m(\u001b[39m'\u001b[39m\u001b[39mResults_BO/history(LS\u001b[39m\u001b[39m'\u001b[39m \u001b[39m+\u001b[39m \u001b[39mstr\u001b[39m(LSsensorsNum) \u001b[39m+\u001b[39m  \u001b[39m'\u001b[39m\u001b[39mIS\u001b[39m\u001b[39m'\u001b[39m \u001b[39m+\u001b[39m \u001b[39mstr\u001b[39m(ISsensorsNum) \u001b[39m+\u001b[39m \u001b[39m'\u001b[39m\u001b[39m)_\u001b[39m\u001b[39m'\u001b[39m \u001b[39m+\u001b[39m \u001b[39mstr\u001b[39m(i), \u001b[39m'\u001b[39m\u001b[39mwb\u001b[39m\u001b[39m'\u001b[39m) \u001b[39mas\u001b[39;00m handle:\n\u001b[1;32m     52\u001b[0m         pickle\u001b[39m.\u001b[39mdump(history, handle, protocol\u001b[39m=\u001b[39mpickle\u001b[39m.\u001b[39mHIGHEST_PROTOCOL)\n",
      "File \u001b[0;32m~/Library/CloudStorage/GoogleDrive-golestan@ualberta.ca/My Drive/PhD/Thesis/GreyBox Optimization Project/Codes/Smart-Home-Sensor-Placement-Optimization/SensorDeploymentOptimization/SensorOptimizers/BayesianOptimization.py:744\u001b[0m, in \u001b[0;36mBayesianOptimization.run\u001b[0;34m(self)\u001b[0m\n\u001b[1;32m    731\u001b[0m history_list \u001b[39m=\u001b[39m []\n\u001b[1;32m    733\u001b[0m opt \u001b[39m=\u001b[39m Optimizer(\n\u001b[1;32m    734\u001b[0m     \u001b[39mself\u001b[39m\u001b[39m.\u001b[39mfunction_to_be_optimized,\n\u001b[1;32m    735\u001b[0m     \u001b[39mself\u001b[39m\u001b[39m.\u001b[39mspace,\n\u001b[0;32m   (...)\u001b[0m\n\u001b[1;32m    742\u001b[0m     error \u001b[39m=\u001b[39m \u001b[39mself\u001b[39m\u001b[39m.\u001b[39mCONSTANTS[\u001b[39m'\u001b[39m\u001b[39merror\u001b[39m\u001b[39m'\u001b[39m]\n\u001b[1;32m    743\u001b[0m )\n\u001b[0;32m--> 744\u001b[0m history \u001b[39m=\u001b[39m opt\u001b[39m.\u001b[39;49mrun()\n\u001b[1;32m    747\u001b[0m \u001b[39mreturn\u001b[39;00m history\n",
      "File \u001b[0;32m~/Library/CloudStorage/GoogleDrive-golestan@ualberta.ca/My Drive/PhD/Thesis/GreyBox Optimization Project/Codes/Smart-Home-Sensor-Placement-Optimization/SensorDeploymentOptimization/openbox/optimizer/generic_smbo.py:221\u001b[0m, in \u001b[0;36mSMBO.run\u001b[0;34m(self)\u001b[0m\n\u001b[1;32m    219\u001b[0m     \u001b[39mbreak\u001b[39;00m\n\u001b[1;32m    220\u001b[0m start_time \u001b[39m=\u001b[39m time\u001b[39m.\u001b[39mtime()\n\u001b[0;32m--> 221\u001b[0m \u001b[39mself\u001b[39;49m\u001b[39m.\u001b[39;49miterate(budget_left\u001b[39m=\u001b[39;49m\u001b[39mself\u001b[39;49m\u001b[39m.\u001b[39;49mbudget_left)\n\u001b[1;32m    222\u001b[0m runtime \u001b[39m=\u001b[39m time\u001b[39m.\u001b[39mtime() \u001b[39m-\u001b[39m start_time\n\u001b[1;32m    223\u001b[0m \u001b[39mself\u001b[39m\u001b[39m.\u001b[39mbudget_left \u001b[39m-\u001b[39m\u001b[39m=\u001b[39m runtime\n",
      "File \u001b[0;32m~/Library/CloudStorage/GoogleDrive-golestan@ualberta.ca/My Drive/PhD/Thesis/GreyBox Optimization Project/Codes/Smart-Home-Sensor-Placement-Optimization/SensorDeploymentOptimization/openbox/optimizer/generic_smbo.py:240\u001b[0m, in \u001b[0;36mSMBO.iterate\u001b[0;34m(self, budget_left)\u001b[0m\n\u001b[1;32m    237\u001b[0m \u001b[39mtry\u001b[39;00m:\n\u001b[1;32m    238\u001b[0m     \u001b[39m# evaluate configuration on objective_function within time_limit_per_trial\u001b[39;00m\n\u001b[1;32m    239\u001b[0m     args, kwargs \u001b[39m=\u001b[39m (config,), \u001b[39mdict\u001b[39m()\n\u001b[0;32m--> 240\u001b[0m     timeout_status, _result \u001b[39m=\u001b[39m time_limit(\u001b[39mself\u001b[39;49m\u001b[39m.\u001b[39;49mobjective_function,\n\u001b[1;32m    241\u001b[0m                                          _time_limit_per_trial,\n\u001b[1;32m    242\u001b[0m                                          args\u001b[39m=\u001b[39;49margs, kwargs\u001b[39m=\u001b[39;49mkwargs)\n\u001b[1;32m    243\u001b[0m     \u001b[39mif\u001b[39;00m timeout_status:\n\u001b[1;32m    244\u001b[0m         \u001b[39mraise\u001b[39;00m TimeoutException(\n\u001b[1;32m    245\u001b[0m             \u001b[39m'\u001b[39m\u001b[39mTimeout: time limit for this evaluation is \u001b[39m\u001b[39m%.1f\u001b[39;00m\u001b[39ms\u001b[39m\u001b[39m'\u001b[39m \u001b[39m%\u001b[39m _time_limit_per_trial)\n",
      "File \u001b[0;32m~/Library/CloudStorage/GoogleDrive-golestan@ualberta.ca/My Drive/PhD/Thesis/GreyBox Optimization Project/Codes/Smart-Home-Sensor-Placement-Optimization/SensorDeploymentOptimization/openbox/utils/limit.py:84\u001b[0m, in \u001b[0;36mtime_limit\u001b[0;34m(func, time, *args, **kwargs)\u001b[0m\n\u001b[1;32m     81\u001b[0m     \u001b[39mreturn\u001b[39;00m no_time_limit_func(func, time, \u001b[39m*\u001b[39margs, \u001b[39m*\u001b[39m\u001b[39m*\u001b[39mkwargs)\n\u001b[1;32m     83\u001b[0m \u001b[39mif\u001b[39;00m _platform \u001b[39m==\u001b[39m \u001b[39m'\u001b[39m\u001b[39mOSX\u001b[39m\u001b[39m'\u001b[39m \u001b[39mand\u001b[39;00m sys\u001b[39m.\u001b[39mversion_info \u001b[39m>\u001b[39m\u001b[39m=\u001b[39m (\u001b[39m3\u001b[39m, \u001b[39m8\u001b[39m):\n\u001b[0;32m---> 84\u001b[0m     \u001b[39mreturn\u001b[39;00m no_time_limit_func(func, time, \u001b[39m*\u001b[39;49margs, \u001b[39m*\u001b[39;49m\u001b[39m*\u001b[39;49mkwargs)\n\u001b[1;32m     86\u001b[0m parent_conn, child_conn \u001b[39m=\u001b[39m Pipe(\u001b[39mFalse\u001b[39;00m)\n\u001b[1;32m     88\u001b[0m func \u001b[39m=\u001b[39m dill\u001b[39m.\u001b[39mdumps(func)\n",
      "File \u001b[0;32m~/Library/CloudStorage/GoogleDrive-golestan@ualberta.ca/My Drive/PhD/Thesis/GreyBox Optimization Project/Codes/Smart-Home-Sensor-Placement-Optimization/SensorDeploymentOptimization/openbox/utils/limit.py:70\u001b[0m, in \u001b[0;36mno_time_limit_func\u001b[0;34m(objective_function, time, *args, **kwargs)\u001b[0m\n\u001b[1;32m     69\u001b[0m \u001b[39mdef\u001b[39;00m \u001b[39mno_time_limit_func\u001b[39m(objective_function, time, \u001b[39m*\u001b[39margs, \u001b[39m*\u001b[39m\u001b[39m*\u001b[39mkwargs):\n\u001b[0;32m---> 70\u001b[0m     ret \u001b[39m=\u001b[39m objective_function(\u001b[39m*\u001b[39;49margs, \u001b[39m*\u001b[39;49m\u001b[39m*\u001b[39;49mkwargs)\n\u001b[1;32m     71\u001b[0m     \u001b[39mreturn\u001b[39;00m Returns(timeout_status\u001b[39m=\u001b[39m\u001b[39mFalse\u001b[39;00m, results\u001b[39m=\u001b[39mret)\n",
      "File \u001b[0;32m~/Library/CloudStorage/GoogleDrive-golestan@ualberta.ca/My Drive/PhD/Thesis/GreyBox Optimization Project/Codes/Smart-Home-Sensor-Placement-Optimization/SensorDeploymentOptimization/SensorOptimizers/BayesianOptimization.py:523\u001b[0m, in \u001b[0;36mBayesianOptimization.function_to_be_optimized\u001b[0;34m(self, config)\u001b[0m\n\u001b[1;32m    519\u001b[0m \u001b[39mprint\u001b[39m(sensorTypes)\n\u001b[1;32m    521\u001b[0m data \u001b[39m=\u001b[39m Data(sensorPositions, sensorTypes, \u001b[39mself\u001b[39m\u001b[39m.\u001b[39mBOV\u001b[39m.\u001b[39mspace, \u001b[39mself\u001b[39m\u001b[39m.\u001b[39mCONSTANTS[\u001b[39m'\u001b[39m\u001b[39mepsilon\u001b[39m\u001b[39m'\u001b[39m])\n\u001b[0;32m--> 523\u001b[0m \u001b[39mreturn\u001b[39;00m \u001b[39m100\u001b[39m \u001b[39m-\u001b[39m \u001b[39mself\u001b[39;49m\u001b[39m.\u001b[39;49mblack_box_function(data, \n\u001b[1;32m    524\u001b[0m                                      simulateMotionSensors \u001b[39m=\u001b[39;49m \u001b[39mself\u001b[39;49m\u001b[39m.\u001b[39;49msensor_types[\u001b[39m'\u001b[39;49m\u001b[39mmodel_motion_sensor\u001b[39;49m\u001b[39m'\u001b[39;49m],\n\u001b[1;32m    525\u001b[0m                                      simulateEstimotes \u001b[39m=\u001b[39;49m \u001b[39mself\u001b[39;49m\u001b[39m.\u001b[39;49msensor_types[\u001b[39m'\u001b[39;49m\u001b[39mmodel_beacon_sensor\u001b[39;49m\u001b[39m'\u001b[39;49m],\n\u001b[1;32m    526\u001b[0m                                      simulateIS \u001b[39m=\u001b[39;49m (\u001b[39mself\u001b[39;49m\u001b[39m.\u001b[39;49msensor_types[\u001b[39m'\u001b[39;49m\u001b[39mmodel_pressure_sensor\u001b[39;49m\u001b[39m'\u001b[39;49m] \u001b[39mand\u001b[39;49;00m\n\u001b[1;32m    527\u001b[0m                                                    \u001b[39mself\u001b[39;49m\u001b[39m.\u001b[39;49msensor_types[\u001b[39m'\u001b[39;49m\u001b[39mmodel_accelerometer\u001b[39;49m\u001b[39m'\u001b[39;49m] \u001b[39mand\u001b[39;49;00m\n\u001b[1;32m    528\u001b[0m                                                    \u001b[39mself\u001b[39;49m\u001b[39m.\u001b[39;49msensor_types[\u001b[39m'\u001b[39;49m\u001b[39mmodel_electricity_sensor\u001b[39;49m\u001b[39m'\u001b[39;49m]))\n\u001b[1;32m    530\u001b[0m \u001b[39m'''\u001b[39;00m\n\u001b[1;32m    531\u001b[0m \u001b[39msensorPositions = []\u001b[39;00m\n\u001b[1;32m    532\u001b[0m \u001b[39msensorTypes = []\u001b[39;00m\n\u001b[0;32m   (...)\u001b[0m\n\u001b[1;32m    563\u001b[0m \u001b[39m                                                   self.sensor_types['model_electricity_sensor']))\u001b[39;00m\n\u001b[1;32m    564\u001b[0m \u001b[39m'''\u001b[39;00m\n",
      "File \u001b[0;32m~/Library/CloudStorage/GoogleDrive-golestan@ualberta.ca/My Drive/PhD/Thesis/GreyBox Optimization Project/Codes/Smart-Home-Sensor-Placement-Optimization/SensorDeploymentOptimization/SensorOptimizers/BayesianOptimization.py:277\u001b[0m, in \u001b[0;36mBayesianOptimization.black_box_function\u001b[0;34m(self, sample, simulateMotionSensors, simulateEstimotes, simulateIS, Plotting)\u001b[0m\n\u001b[1;32m    274\u001b[0m all_sensors \u001b[39m=\u001b[39m \u001b[39mset\u001b[39m([])\n\u001b[1;32m    276\u001b[0m \u001b[39mfor\u001b[39;00m agentTrace \u001b[39min\u001b[39;00m \u001b[39mself\u001b[39m\u001b[39m.\u001b[39mBOV\u001b[39m.\u001b[39magentTraces:\n\u001b[0;32m--> 277\u001b[0m     df_ \u001b[39m=\u001b[39m sim_sis\u001b[39m.\u001b[39;49mRunSimulator(\u001b[39mself\u001b[39;49m\u001b[39m.\u001b[39;49mBOV\u001b[39m.\u001b[39;49mspace, \n\u001b[1;32m    278\u001b[0m                                \u001b[39mself\u001b[39;49m\u001b[39m.\u001b[39;49mBOV\u001b[39m.\u001b[39;49mrooms, \n\u001b[1;32m    279\u001b[0m                                agentTrace,\n\u001b[1;32m    280\u001b[0m                                sample\u001b[39m.\u001b[39;49mGetSensorConfiguration(), \n\u001b[1;32m    281\u001b[0m                                simulateMotionSensors, \n\u001b[1;32m    282\u001b[0m                                simulateEstimotes,\n\u001b[1;32m    283\u001b[0m                                simulateIS,\n\u001b[1;32m    284\u001b[0m                                Plotting, \n\u001b[1;32m    285\u001b[0m                                \u001b[39mself\u001b[39;49m\u001b[39m.\u001b[39;49mBOV\u001b[39m.\u001b[39;49mData_path)\n\u001b[1;32m    287\u001b[0m     dataFile, sensors \u001b[39m=\u001b[39m \u001b[39mself\u001b[39m\u001b[39m.\u001b[39mPreProcessor(df_)\n\u001b[1;32m    288\u001b[0m     all_sensors\u001b[39m.\u001b[39mupdate(sensors)\n",
      "File \u001b[0;32m~/Library/CloudStorage/GoogleDrive-golestan@ualberta.ca/My Drive/PhD/Thesis/GreyBox Optimization Project/Codes/Smart-Home-Sensor-Placement-Optimization/SensorDeploymentOptimization/SIM_SIS_Libraries/SIM_SIS_Simulator.py:537\u001b[0m, in \u001b[0;36mRunSimulator\u001b[0;34m(space, Rooms, agentTrace, sensorsConfiguration, simulateMotionSensorsflag, simulateEstimotesflag, simulateIS, plottingflag, Data_path)\u001b[0m\n\u001b[1;32m    534\u001b[0m     \u001b[39mif\u001b[39;00m (plotflag):\n\u001b[1;32m    535\u001b[0m         fig, ax \u001b[39m=\u001b[39m plt\u001b[39m.\u001b[39msubplots(figsize \u001b[39m=\u001b[39m (\u001b[39m8.5\u001b[39m, \u001b[39m8.5\u001b[39m))\n\u001b[0;32m--> 537\u001b[0m     RunSimulation(FDN, simulateMotionSensors, simulateEstimotes, simulateISSensors)\n\u001b[1;32m    539\u001b[0m CreateUltimateDataset(UDN, Epoch)\n\u001b[1;32m    541\u001b[0m \u001b[39mreturn\u001b[39;00m df_\n",
      "File \u001b[0;32m~/Library/CloudStorage/GoogleDrive-golestan@ualberta.ca/My Drive/PhD/Thesis/GreyBox Optimization Project/Codes/Smart-Home-Sensor-Placement-Optimization/SensorDeploymentOptimization/SIM_SIS_Libraries/SIM_SIS_Simulator.py:422\u001b[0m, in \u001b[0;36mRunSimulation\u001b[0;34m(FDN, simulateMotionSensors, simulateEstimotes, simulateISSensors)\u001b[0m\n\u001b[1;32m    418\u001b[0m agent1Loc_previous \u001b[39m=\u001b[39m [\u001b[39m0\u001b[39m, \u001b[39m0\u001b[39m]\n\u001b[1;32m    420\u001b[0m timetoadd \u001b[39m=\u001b[39m df_\u001b[39m.\u001b[39mtime[i]\n\u001b[0;32m--> 422\u001b[0m SimulateSensorReadings(simulateMotionSensors, simulateEstimotes, simulateISSensors, timetoadd, i, agent1Loc, action,  \u001b[39mNone\u001b[39;49;00m)\n",
      "File \u001b[0;32m~/Library/CloudStorage/GoogleDrive-golestan@ualberta.ca/My Drive/PhD/Thesis/GreyBox Optimization Project/Codes/Smart-Home-Sensor-Placement-Optimization/SensorDeploymentOptimization/SIM_SIS_Libraries/SIM_SIS_Simulator.py:312\u001b[0m, in \u001b[0;36mSimulateSensorReadings\u001b[0;34m(simulateMotionSensors, simulateEstimotes, simulateISSensors, t, i, agent1Loc, action, agent2Loc)\u001b[0m\n\u001b[1;32m    308\u001b[0m     pp \u001b[39m=\u001b[39m ax\u001b[39m.\u001b[39mplot(\u001b[39mfloat\u001b[39m(sensor\u001b[39m.\u001b[39mx) \u001b[39m/\u001b[39m \u001b[39m100\u001b[39m, \u001b[39mfloat\u001b[39m(sensor\u001b[39m.\u001b[39my) \u001b[39m/\u001b[39m \u001b[39m100\u001b[39m , marker\u001b[39m=\u001b[39m\u001b[39m'\u001b[39m\u001b[39m.\u001b[39m\u001b[39m'\u001b[39m, color\u001b[39m=\u001b[39m\u001b[39m'\u001b[39m\u001b[39mk\u001b[39m\u001b[39m'\u001b[39m, lw\u001b[39m=\u001b[39m\u001b[39m5\u001b[39m)\n\u001b[1;32m    310\u001b[0m circ \u001b[39m=\u001b[39m Circle((\u001b[39mfloat\u001b[39m(\u001b[39mfloat\u001b[39m(sensor\u001b[39m.\u001b[39mx) \u001b[39m/\u001b[39m \u001b[39m100\u001b[39m), \u001b[39mfloat\u001b[39m(\u001b[39mfloat\u001b[39m(sensor\u001b[39m.\u001b[39my) \u001b[39m/\u001b[39m \u001b[39m100\u001b[39m)), \u001b[39mfloat\u001b[39m(\u001b[39mfloat\u001b[39m(sensor\u001b[39m.\u001b[39msensing_area) \u001b[39m/\u001b[39m \u001b[39m100\u001b[39m))\n\u001b[0;32m--> 312\u001b[0m \u001b[39mif\u001b[39;00m (circ\u001b[39m.\u001b[39;49mcontains_point([agent1Loc[\u001b[39m0\u001b[39;49m], agent1Loc[\u001b[39m1\u001b[39;49m]]) \u001b[39mand\u001b[39;00m (RecContains(agent1Loc[\u001b[39m0\u001b[39m], agent1Loc[\u001b[39m1\u001b[39m], sensor\u001b[39m.\u001b[39mroom))):\n\u001b[1;32m    313\u001b[0m     no_event_flag \u001b[39m=\u001b[39m \u001b[39m0\u001b[39m\n\u001b[1;32m    314\u001b[0m     event \u001b[39m=\u001b[39m ec\u001b[39m.\u001b[39mEvent()\n",
      "File \u001b[0;32m/usr/local/lib/python3.10/site-packages/matplotlib/patches.py:203\u001b[0m, in \u001b[0;36mPatch.contains_point\u001b[0;34m(self, point, radius)\u001b[0m\n\u001b[1;32m    157\u001b[0m \u001b[39m\"\"\"\u001b[39;00m\n\u001b[1;32m    158\u001b[0m \u001b[39mReturn whether the given point is inside the patch.\u001b[39;00m\n\u001b[1;32m    159\u001b[0m \n\u001b[0;32m   (...)\u001b[0m\n\u001b[1;32m    199\u001b[0m \n\u001b[1;32m    200\u001b[0m \u001b[39m\"\"\"\u001b[39;00m\n\u001b[1;32m    201\u001b[0m radius \u001b[39m=\u001b[39m \u001b[39mself\u001b[39m\u001b[39m.\u001b[39m_process_radius(radius)\n\u001b[1;32m    202\u001b[0m \u001b[39mreturn\u001b[39;00m \u001b[39mself\u001b[39m\u001b[39m.\u001b[39mget_path()\u001b[39m.\u001b[39mcontains_point(point,\n\u001b[0;32m--> 203\u001b[0m                                       \u001b[39mself\u001b[39;49m\u001b[39m.\u001b[39;49mget_transform(),\n\u001b[1;32m    204\u001b[0m                                       radius)\n",
      "File \u001b[0;32m/usr/local/lib/python3.10/site-packages/matplotlib/patches.py:262\u001b[0m, in \u001b[0;36mPatch.get_transform\u001b[0;34m(self)\u001b[0m\n\u001b[1;32m    260\u001b[0m \u001b[39mdef\u001b[39;00m \u001b[39mget_transform\u001b[39m(\u001b[39mself\u001b[39m):\n\u001b[1;32m    261\u001b[0m     \u001b[39m\"\"\"Return the `~.transforms.Transform` applied to the `Patch`.\"\"\"\u001b[39;00m\n\u001b[0;32m--> 262\u001b[0m     \u001b[39mreturn\u001b[39;00m \u001b[39mself\u001b[39;49m\u001b[39m.\u001b[39;49mget_patch_transform() \u001b[39m+\u001b[39m artist\u001b[39m.\u001b[39mArtist\u001b[39m.\u001b[39mget_transform(\u001b[39mself\u001b[39m)\n",
      "File \u001b[0;32m/usr/local/lib/python3.10/site-packages/matplotlib/patches.py:1585\u001b[0m, in \u001b[0;36mEllipse.get_patch_transform\u001b[0;34m(self)\u001b[0m\n\u001b[1;32m   1584\u001b[0m \u001b[39mdef\u001b[39;00m \u001b[39mget_patch_transform\u001b[39m(\u001b[39mself\u001b[39m):\n\u001b[0;32m-> 1585\u001b[0m     \u001b[39mself\u001b[39;49m\u001b[39m.\u001b[39;49m_recompute_transform()\n\u001b[1;32m   1586\u001b[0m     \u001b[39mreturn\u001b[39;00m \u001b[39mself\u001b[39m\u001b[39m.\u001b[39m_patch_transform\n",
      "File \u001b[0;32m/usr/local/lib/python3.10/site-packages/matplotlib/patches.py:1577\u001b[0m, in \u001b[0;36mEllipse._recompute_transform\u001b[0;34m(self)\u001b[0m\n\u001b[1;32m   1572\u001b[0m width \u001b[39m=\u001b[39m \u001b[39mself\u001b[39m\u001b[39m.\u001b[39mconvert_xunits(\u001b[39mself\u001b[39m\u001b[39m.\u001b[39m_width)\n\u001b[1;32m   1573\u001b[0m height \u001b[39m=\u001b[39m \u001b[39mself\u001b[39m\u001b[39m.\u001b[39mconvert_yunits(\u001b[39mself\u001b[39m\u001b[39m.\u001b[39m_height)\n\u001b[1;32m   1574\u001b[0m \u001b[39mself\u001b[39m\u001b[39m.\u001b[39m_patch_transform \u001b[39m=\u001b[39m transforms\u001b[39m.\u001b[39;49mAffine2D() \\\n\u001b[1;32m   1575\u001b[0m     \u001b[39m.\u001b[39;49mscale(width \u001b[39m*\u001b[39;49m \u001b[39m0.5\u001b[39;49m, height \u001b[39m*\u001b[39;49m \u001b[39m0.5\u001b[39;49m \u001b[39m*\u001b[39;49m \u001b[39mself\u001b[39;49m\u001b[39m.\u001b[39;49m_aspect_ratio_correction) \\\n\u001b[1;32m   1576\u001b[0m     \u001b[39m.\u001b[39;49mrotate_deg(\u001b[39mself\u001b[39;49m\u001b[39m.\u001b[39;49mangle) \\\n\u001b[0;32m-> 1577\u001b[0m     \u001b[39m.\u001b[39;49mscale(\u001b[39m1\u001b[39;49m, \u001b[39m1\u001b[39;49m \u001b[39m/\u001b[39;49m \u001b[39mself\u001b[39;49m\u001b[39m.\u001b[39;49m_aspect_ratio_correction) \\\n\u001b[1;32m   1578\u001b[0m     \u001b[39m.\u001b[39mtranslate(\u001b[39m*\u001b[39mcenter)\n",
      "File \u001b[0;32m/usr/local/lib/python3.10/site-packages/matplotlib/transforms.py:2071\u001b[0m, in \u001b[0;36mAffine2D.scale\u001b[0;34m(self, sx, sy)\u001b[0m\n\u001b[1;32m   2069\u001b[0m \u001b[39mself\u001b[39m\u001b[39m.\u001b[39m_mtx[\u001b[39m1\u001b[39m, \u001b[39m1\u001b[39m] \u001b[39m*\u001b[39m\u001b[39m=\u001b[39m sy\n\u001b[1;32m   2070\u001b[0m \u001b[39mself\u001b[39m\u001b[39m.\u001b[39m_mtx[\u001b[39m1\u001b[39m, \u001b[39m2\u001b[39m] \u001b[39m*\u001b[39m\u001b[39m=\u001b[39m sy\n\u001b[0;32m-> 2071\u001b[0m \u001b[39mself\u001b[39;49m\u001b[39m.\u001b[39;49minvalidate()\n\u001b[1;32m   2072\u001b[0m \u001b[39mreturn\u001b[39;00m \u001b[39mself\u001b[39m\n",
      "File \u001b[0;32m/usr/local/lib/python3.10/site-packages/matplotlib/transforms.py:157\u001b[0m, in \u001b[0;36mTransformNode.invalidate\u001b[0;34m(self)\u001b[0m\n\u001b[1;32m    154\u001b[0m             other\u001b[39m.\u001b[39mset_children(val)  \u001b[39m# val == getattr(other, key)\u001b[39;00m\n\u001b[1;32m    155\u001b[0m     \u001b[39mreturn\u001b[39;00m other\n\u001b[0;32m--> 157\u001b[0m \u001b[39mdef\u001b[39;00m \u001b[39minvalidate\u001b[39m(\u001b[39mself\u001b[39m):\n\u001b[1;32m    158\u001b[0m     \u001b[39m\"\"\"\u001b[39;00m\n\u001b[1;32m    159\u001b[0m \u001b[39m    Invalidate this `TransformNode` and triggers an invalidation of its\u001b[39;00m\n\u001b[1;32m    160\u001b[0m \u001b[39m    ancestors.  Should be called any time the transform changes.\u001b[39;00m\n\u001b[1;32m    161\u001b[0m \u001b[39m    \"\"\"\u001b[39;00m\n\u001b[1;32m    162\u001b[0m     value \u001b[39m=\u001b[39m \u001b[39mself\u001b[39m\u001b[39m.\u001b[39mINVALID\n",
      "\u001b[0;31mKeyboardInterrupt\u001b[0m: "
     ]
    }
   ],
   "source": [
    "import SensorOptimizers.BayesianOptimization as bo\n",
    "import numpy as np\n",
    "import pickle\n",
    "\n",
    "acquisition_function = 'ei'\n",
    "acq_optimizer_type = 'auto'\n",
    "ROS = True\n",
    "epsilon = 0.5\n",
    "error = 0.0\n",
    "multi_objective = False\n",
    "LSsensorsNum = 11\n",
    "ISsensorsNum = 3\n",
    "initial_state = 'random'\n",
    "\n",
    "sensor_types = {\n",
    "    'model_motion_sensor': True,\n",
    "    'model_beacon_sensor': False,\n",
    "    'model_pressure_sensor': True,\n",
    "    'model_accelerometer': False,\n",
    "    'model_electricity_sensor': True\n",
    "}\n",
    "\n",
    "# testbed = 'Testbed2/'\n",
    "# maxSensorNum = int(np.min([(8 / epsilon) * (8 / epsilon), LSsensorsNum]))\n",
    "\n",
    "testbed = 'Testbed1/'\n",
    "maxSensorNum = int(np.min([(5.3 / epsilon) * (8 / epsilon), LSsensorsNum]))\n",
    "\n",
    "# print(maxSensorNum)\n",
    "\n",
    "print('----- Running BO with: \\n \\t - epsilon: ', epsilon, \n",
    "      '\\n \\t - LS sensors #:', LSsensorsNum, \n",
    "      '\\n \\t - IS sensors #:', ISsensorsNum, \n",
    "      ' \\n \\t - initial state: ', initial_state)\n",
    "\n",
    "for i in range(0, 1):\n",
    "    BO = bo.BayesianOptimization(testbed = testbed,\n",
    "                                 iteration = 1000, \n",
    "                                 epsilon = epsilon, \n",
    "                                 error = error,\n",
    "                                 ROS = True, \n",
    "                                 LSmaxSensorNum = maxSensorNum,\n",
    "                                 ISmaxSensorNum = ISsensorsNum, \n",
    "                                 initial_state = initial_state,\n",
    "                                 input_sensor_types = sensor_types,\n",
    "                                 acquisition_function = acquisition_function,\n",
    "                                 acq_optimizer_type = acq_optimizer_type)\n",
    "\n",
    "    history = BO.run()\n",
    "\n",
    "    with open('Results_BO/history(LS' + str(LSsensorsNum) +  'IS' + str(ISsensorsNum) + ')_' + str(i), 'wb') as handle:\n",
    "        pickle.dump(history, handle, protocol=pickle.HIGHEST_PROTOCOL)\n",
    "            \n",
    "    print(history)"
   ]
  },
  {
   "cell_type": "code",
   "execution_count": null,
   "metadata": {},
   "outputs": [],
   "source": []
  }
 ],
 "metadata": {
  "kernelspec": {
   "display_name": "Python 3.10.7 64-bit",
   "language": "python",
   "name": "python3"
  },
  "language_info": {
   "codemirror_mode": {
    "name": "ipython",
    "version": 3
   },
   "file_extension": ".py",
   "mimetype": "text/x-python",
   "name": "python",
   "nbconvert_exporter": "python",
   "pygments_lexer": "ipython3",
   "version": "3.10.7"
  },
  "vscode": {
   "interpreter": {
    "hash": "aee8b7b246df8f9039afb4144a1f6fd8d2ca17a180786b69acc140d282b71a49"
   }
  }
 },
 "nbformat": 4,
 "nbformat_minor": 4
}
