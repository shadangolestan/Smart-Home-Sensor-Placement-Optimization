{
 "cells": [
  {
   "cell_type": "code",
   "execution_count": null,
   "metadata": {
    "scrolled": false
   },
   "outputs": [
    {
     "name": "stdout",
     "output_type": "stream",
     "text": [
      "----- Running BO with: \n",
      " \t - epsilon:  0.5 \n",
      " \t - LS sensors #: 11 \n",
      " \t - IS sensors #: 0  \n",
      " \t - initial state:  random\n",
      "Processing Region of Similarity... [COMPLETED]\n",
      "adviser type is default...\n",
      "[INFO] [2022-12-17 12:05:52,847] [Advisor] === [BO auto selection] === surrogate_type: prf. acq_optimizer_type: local_random.\n",
      "--------------------------------------------------\n",
      "self.acq_type  kg\n",
      "acq_optimizer_type  local_random\n",
      "self.num_objs  1\n",
      "self.surrogate_model  None\n",
      "self.num_constraints  0\n",
      "--------------------------------------------------\n",
      "[Build Surrogate] Use probabilistic random forest based on scikit-learn. For better performance, please install pyrfr: https://open-box.readthedocs.io/en/latest/installation/install_pyrfr.html\n"
     ]
    },
    {
     "name": "stderr",
     "output_type": "stream",
     "text": [
      "\r",
      "  0%|                                                                                                                                                 | 0/1000 [00:00<?, ?it/s]"
     ]
    },
    {
     "name": "stdout",
     "output_type": "stream",
     "text": [
      "[INFO] [2022-12-17 12:06:46,515] [OpenBox-SPO] Iteration 1, objective value: [50.93674292817177].\n"
     ]
    },
    {
     "name": "stderr",
     "output_type": "stream",
     "text": [
      "\r",
      "  0%|▏                                                                                                                                     | 1/1000 [00:53<14:53:10, 53.64s/it]"
     ]
    },
    {
     "name": "stdout",
     "output_type": "stream",
     "text": [
      "\n",
      "\t ----- tradeoff_buffer: 1 ----- \n",
      "\t ----- reward: -0.49063257071828237 for f_star and f_minus: 100 , 50.93674292817177\n",
      "[INFO] [2022-12-17 12:07:55,285] [OpenBox-SPO] Iteration 2, objective value: [40.292884310354246].\n"
     ]
    },
    {
     "name": "stderr",
     "output_type": "stream",
     "text": [
      "\r",
      "  0%|▎                                                                                                                                     | 2/1000 [02:02<17:20:18, 62.54s/it]"
     ]
    },
    {
     "name": "stdout",
     "output_type": "stream",
     "text": [
      "\n",
      "\t ----- tradeoff_buffer: 0 ----- \n",
      "\t ----- reward: -35.05232548287096 for f_star and f_minus: 100 , 40.292884310354246\n",
      "[INFO] [2022-12-17 12:08:53,208] [OpenBox-SPO] Iteration 3, objective value: [49.920550092263625].\n"
     ]
    },
    {
     "name": "stderr",
     "output_type": "stream",
     "text": [
      "\r",
      "  0%|▍                                                                                                                                     | 3/1000 [03:00<16:44:10, 60.43s/it]"
     ]
    },
    {
     "name": "stdout",
     "output_type": "stream",
     "text": [
      "\n",
      "\t ----- tradeoff_buffer: 0 ----- \n",
      "\t ----- reward: -24.578718531537405 for f_star and f_minus: 100 , 49.920550092263625\n"
     ]
    }
   ],
   "source": [
    "import SensorOptimizers.BayesianOptimization as bo\n",
    "import numpy as np\n",
    "import pickle\n",
    "\n",
    "acquisition_function = 'kg'\n",
    "acq_optimizer_type = 'auto'\n",
    "ROS = True\n",
    "epsilon = 0.5\n",
    "error = 0.0\n",
    "multi_objective = False\n",
    "LSsensorsNum = 11\n",
    "ISsensorsNum = 0\n",
    "initial_state = 'random'\n",
    "RLBO = True\n",
    "\n",
    "sensor_types = {\n",
    "    'model_motion_sensor': True,\n",
    "    'model_beacon_sensor': False,\n",
    "    'model_pressure_sensor': False,\n",
    "    'model_accelerometer': False,\n",
    "    'model_electricity_sensor': False\n",
    "}\n",
    "\n",
    "\n",
    "# testbed = 'Testbed2/'\n",
    "# maxSensorNum = int(np.min([(5.3 / epsilon) * (8 / epsilon), LSsensorsNum]))\n",
    "\n",
    "testbed = 'Testbed1/'\n",
    "maxSensorNum = int(np.min([(8 / epsilon) * (8 / epsilon), LSsensorsNum]))\n",
    "\n",
    "print('----- Running BO with: \\n \\t - epsilon: ', epsilon, \n",
    "      '\\n \\t - LS sensors #:', LSsensorsNum, \n",
    "      '\\n \\t - IS sensors #:', ISsensorsNum, \n",
    "      ' \\n \\t - initial state: ', initial_state)\n",
    "\n",
    "for i in range(0, 1):\n",
    "    BO = bo.BayesianOptimization(testbed = testbed,\n",
    "                                 iteration = 1000, \n",
    "                                 epsilon = epsilon, \n",
    "                                 error = error,\n",
    "                                 ROS = True, \n",
    "                                 LSmaxSensorNum = maxSensorNum,\n",
    "                                 ISmaxSensorNum = ISsensorsNum, \n",
    "                                 initial_state = initial_state,\n",
    "                                 input_sensor_types = sensor_types,\n",
    "                                 acquisition_function = acquisition_function,\n",
    "                                 acq_optimizer_type = acq_optimizer_type)\n",
    "\n",
    "    history, states, actions, rewards = BO.run(RLBO = RLBO)\n",
    "\n",
    "    with open('Results_BO/history(LS' + str(LSsensorsNum) +  'IS' + str(ISsensorsNum) + ')_' + str(i), 'wb') as handle:\n",
    "        pickle.dump(history, handle, protocol=pickle.HIGHEST_PROTOCOL)\n",
    "            \n",
    "    print(history)"
   ]
  }
 ],
 "metadata": {
  "kernelspec": {
   "display_name": "Python 3 (ipykernel)",
   "language": "python",
   "name": "python3"
  },
  "language_info": {
   "codemirror_mode": {
    "name": "ipython",
    "version": 3
   },
   "file_extension": ".py",
   "mimetype": "text/x-python",
   "name": "python",
   "nbconvert_exporter": "python",
   "pygments_lexer": "ipython3",
   "version": "3.10.7"
  },
  "vscode": {
   "interpreter": {
    "hash": "aee8b7b246df8f9039afb4144a1f6fd8d2ca17a180786b69acc140d282b71a49"
   }
  }
 },
 "nbformat": 4,
 "nbformat_minor": 4
}
