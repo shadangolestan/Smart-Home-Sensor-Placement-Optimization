{
 "cells": [
  {
   "cell_type": "code",
   "execution_count": 1,
   "metadata": {
    "colab": {
     "base_uri": "https://localhost:8080/"
    },
    "id": "PPw6X0y6ck1o",
    "outputId": "9d2c80d3-f638-48ff-f168-78ac81a47215",
    "scrolled": true
   },
   "outputs": [
    {
     "name": "stdout",
     "output_type": "stream",
     "text": [
      "Requirement already satisfied: openbox in c:\\users\\shada\\anaconda3\\lib\\site-packages (0.7.14)\n",
      "Requirement already satisfied: requests in c:\\users\\shada\\anaconda3\\lib\\site-packages (from openbox) (2.25.1)\n",
      "Requirement already satisfied: django>=2.2.17 in c:\\users\\shada\\anaconda3\\lib\\site-packages (from openbox) (3.2.9)\n",
      "Requirement already satisfied: scikit-learn>=0.21.3 in c:\\users\\shada\\anaconda3\\lib\\site-packages (from openbox) (0.24.1)\n",
      "Requirement already satisfied: statsmodels in c:\\users\\shada\\anaconda3\\lib\\site-packages (from openbox) (0.12.2)\n",
      "Requirement already satisfied: tqdm in c:\\users\\shada\\anaconda3\\lib\\site-packages (from openbox) (4.59.0)\n",
      "Requirement already satisfied: numpy>=1.7.1 in c:\\users\\shada\\anaconda3\\lib\\site-packages (from openbox) (1.20.1)\n",
      "Requirement already satisfied: ConfigSpace<0.5,>=0.4.12 in c:\\users\\shada\\anaconda3\\lib\\site-packages (from openbox) (0.4.20)\n",
      "Requirement already satisfied: scipy>=0.18.1 in c:\\users\\shada\\anaconda3\\lib\\site-packages (from openbox) (1.6.2)\n",
      "Requirement already satisfied: emcee in c:\\users\\shada\\anaconda3\\lib\\site-packages (from openbox) (3.1.1)\n",
      "Requirement already satisfied: scikit-optimize>=0.8 in c:\\users\\shada\\anaconda3\\lib\\site-packages (from openbox) (0.9.0)\n",
      "Requirement already satisfied: pandas in c:\\users\\shada\\anaconda3\\lib\\site-packages (from openbox) (1.2.4)\n",
      "Requirement already satisfied: pyyaml in c:\\users\\shada\\anaconda3\\lib\\site-packages (from openbox) (5.4.1)\n",
      "Requirement already satisfied: dill in c:\\users\\shada\\anaconda3\\lib\\site-packages (from openbox) (0.3.4)\n",
      "Requirement already satisfied: cython in c:\\users\\shada\\anaconda3\\lib\\site-packages (from openbox) (0.29.23)\n",
      "Requirement already satisfied: platypus-opt==1.0.4 in c:\\users\\shada\\anaconda3\\lib\\site-packages (from openbox) (1.0.4)\n",
      "Requirement already satisfied: psutil in c:\\users\\shada\\anaconda3\\lib\\site-packages (from openbox) (5.8.0)\n",
      "Requirement already satisfied: terminaltables in c:\\users\\shada\\anaconda3\\lib\\site-packages (from openbox) (3.1.0)\n",
      "Requirement already satisfied: matplotlib in c:\\users\\shada\\anaconda3\\lib\\site-packages (from openbox) (3.3.4)\n",
      "Requirement already satisfied: setuptools in c:\\users\\shada\\anaconda3\\lib\\site-packages (from openbox) (52.0.0.post20210125)\n",
      "Requirement already satisfied: six in c:\\users\\shada\\anaconda3\\lib\\site-packages (from platypus-opt==1.0.4->openbox) (1.15.0)\n",
      "Requirement already satisfied: pyparsing in c:\\users\\shada\\anaconda3\\lib\\site-packages (from ConfigSpace<0.5,>=0.4.12->openbox) (2.4.7)\n",
      "Requirement already satisfied: asgiref<4,>=3.3.2 in c:\\users\\shada\\anaconda3\\lib\\site-packages (from django>=2.2.17->openbox) (3.4.1)\n",
      "Requirement already satisfied: sqlparse>=0.2.2 in c:\\users\\shada\\anaconda3\\lib\\site-packages (from django>=2.2.17->openbox) (0.4.2)\n",
      "Requirement already satisfied: pytz in c:\\users\\shada\\anaconda3\\lib\\site-packages (from django>=2.2.17->openbox) (2021.1)\n",
      "Requirement already satisfied: threadpoolctl>=2.0.0 in c:\\users\\shada\\anaconda3\\lib\\site-packages (from scikit-learn>=0.21.3->openbox) (2.1.0)\n",
      "Requirement already satisfied: joblib>=0.11 in c:\\users\\shada\\anaconda3\\lib\\site-packages (from scikit-learn>=0.21.3->openbox) (1.0.1)\n",
      "Requirement already satisfied: pyaml>=16.9 in c:\\users\\shada\\anaconda3\\lib\\site-packages (from scikit-optimize>=0.8->openbox) (21.10.1)\n",
      "Requirement already satisfied: pillow>=6.2.0 in c:\\users\\shada\\anaconda3\\lib\\site-packages (from matplotlib->openbox) (8.2.0)\n",
      "Requirement already satisfied: python-dateutil>=2.1 in c:\\users\\shada\\anaconda3\\lib\\site-packages (from matplotlib->openbox) (2.8.1)\n",
      "Requirement already satisfied: kiwisolver>=1.0.1 in c:\\users\\shada\\anaconda3\\lib\\site-packages (from matplotlib->openbox) (1.3.1)\n",
      "Requirement already satisfied: cycler>=0.10 in c:\\users\\shada\\anaconda3\\lib\\site-packages (from matplotlib->openbox) (0.10.0)\n",
      "Requirement already satisfied: idna<3,>=2.5 in c:\\users\\shada\\anaconda3\\lib\\site-packages (from requests->openbox) (2.10)\n",
      "Requirement already satisfied: chardet<5,>=3.0.2 in c:\\users\\shada\\anaconda3\\lib\\site-packages (from requests->openbox) (4.0.0)\n",
      "Requirement already satisfied: urllib3<1.27,>=1.21.1 in c:\\users\\shada\\anaconda3\\lib\\site-packages (from requests->openbox) (1.26.4)\n",
      "Requirement already satisfied: certifi>=2017.4.17 in c:\\users\\shada\\anaconda3\\lib\\site-packages (from requests->openbox) (2020.12.5)\n",
      "Requirement already satisfied: patsy>=0.5 in c:\\users\\shada\\anaconda3\\lib\\site-packages (from statsmodels->openbox) (0.5.1)\n",
      "Requirement already satisfied: shapely in c:\\users\\shada\\anaconda3\\lib\\site-packages (1.8.0)\n",
      "Requirement already satisfied: plotly in c:\\users\\shada\\anaconda3\\lib\\site-packages (5.3.1)\n",
      "Requirement already satisfied: six in c:\\users\\shada\\anaconda3\\lib\\site-packages (from plotly) (1.15.0)\n",
      "Requirement already satisfied: tenacity>=6.2.0 in c:\\users\\shada\\anaconda3\\lib\\site-packages (from plotly) (8.0.1)\n",
      "Requirement already satisfied: torch in c:\\users\\shada\\anaconda3\\lib\\site-packages (1.10.0)\n",
      "Requirement already satisfied: typing-extensions in c:\\users\\shada\\anaconda3\\lib\\site-packages (from torch) (3.7.4.3)\n"
     ]
    }
   ],
   "source": [
    "!pip install openbox\n",
    "!pip install shapely\n",
    "!pip install plotly\n",
    "!pip install torch"
   ]
  },
  {
   "cell_type": "code",
   "execution_count": 2,
   "metadata": {
    "id": "VWSmt5dJxKDk"
   },
   "outputs": [],
   "source": [
    "class Data:\n",
    "    def __init__(self, sensorPositions, space, epsilon):\n",
    "        self.radius = 1\n",
    "        self.placeHolders = sensorPositions\n",
    "        self.epsilon = epsilon\n",
    "        self.space = space\n",
    "        # self.SensorPlaceHolderSetup()\n",
    "        \n",
    "    def frange(self, start, stop, step):\n",
    "        steps = []\n",
    "        while start <= stop:\n",
    "            steps.append(start)\n",
    "            start +=step\n",
    "            \n",
    "        return steps\n",
    "\n",
    "    # def SensorPlaceHolderSetup(self):\n",
    "    #     Xs = self.frange(0, self.space[0], self.epsilon)\n",
    "    #     Ys = self.frange(0, self.space[1], self.epsilon)\n",
    "            \n",
    "    #     for x in Xs:\n",
    "    #       for y in Ys:\n",
    "    #         self.placeHolders.append([x, y])\n",
    "\n",
    "    def GetSensorConfiguration(self):\n",
    "        from collections import Counter\n",
    "        sensorLocations, sensorTypes = self.GetSensorLocations()\n",
    "        \n",
    "        _, rooms = pf.ParseWorld(simworldname = '')\n",
    "        \n",
    "        summaryDict = Counter(sensorTypes)\n",
    "\n",
    "        # TODO: DIFFERENT SENSOR TYPE DEFINITIONS SHOULD BE ADDED HERE:\n",
    "        configurationSummary = []\n",
    "        for key in summaryDict:\n",
    "            if (key == 1):\n",
    "                configurationSummary.append(['motion sensors', summaryDict[key]])\n",
    "\n",
    "            elif (key == 2):\n",
    "                configurationSummary.append(['beacon sensors', summaryDict[key]])\n",
    "\n",
    "        configurationDetails = []\n",
    "        for index, loc in enumerate(sensorLocations):\n",
    "            room = \"\"\n",
    "            for r in rooms:\n",
    "                if loc[0] >= rooms[r][0][0] and loc[0] <= rooms[r][1][0] and loc[1] >= rooms[r][0][1] and loc[1] <= rooms[r][1][1]:\n",
    "                    room = r\n",
    "                    break\n",
    "\n",
    "            if (sensorTypes[index] == 1):\n",
    "                configurationDetails.append(tuple([loc, room, 'motion sensors']))\n",
    "\n",
    "            elif (sensorTypes[index] == 2):\n",
    "                configurationDetails.append(tuple([loc, room, 'beacon sensors']))\n",
    "\n",
    "        return [[configurationSummary, [tuple(configurationDetails)]], self.radius]\n",
    "\n",
    "\n",
    "    def GetSensorLocations(self):\n",
    "        sensorLocations = []\n",
    "        sensorTypes = []\n",
    "        for index, sensorIndicator in enumerate(self.placeHolders):\n",
    "            sensorLocations.append(self.placeHolders[index])\n",
    "\n",
    "            # TODO: DIFFERENT SENSOR TYPE DEFINITIONS SHOULD BE ADDED HERE:\n",
    "            sensorTypes.append(1)\n",
    "\n",
    "\n",
    "        return sensorLocations, sensorTypes\n",
    "\n",
    "\n",
    "class BOVariables:\n",
    "    def __init__(self, Data_path, epsilon, initSensorNum, maxSensorNum, radius, sampleSize, ROS):\n",
    "        self.epsilon = epsilon\n",
    "        self.Data_path = Data_path\n",
    "        self.initSensorNum = initSensorNum\n",
    "        self.maxSensorNum = maxSensorNum\n",
    "        self.radius = radius\n",
    "        self.sensor_distribution, self.types, self.space, self.rooms, self.agentTraces = self.ModelsInitializations(ROS)\n",
    "\n",
    "    def ModelsInitializations(self, ROS):\n",
    "        #----- Space and agent models -----: \n",
    "        # simworldname = self.Data_path + '/Configuration Files/simulationWorld2.xml'\n",
    "        simworldname = ''\n",
    "        agentTraces = []\n",
    "        \n",
    "        if ROS:\n",
    "            directory = os.fsencode(self.Data_path + 'Agent Trace Files ROS/')\n",
    "        else:\n",
    "            directory = os.fsencode(self.Data_path + 'Agent Trace Files/')\n",
    "            \n",
    "        for file in os.listdir(directory):\n",
    "            filename = os.fsdecode(file)\n",
    "            if filename.endswith(\".csv\"): \n",
    "                if ROS:\n",
    "                    agentTraces.append(self.Data_path + 'Agent Trace Files ROS/' + filename)\n",
    "                else:\n",
    "                    agentTraces.append(self.Data_path + 'Agent Trace Files/' + filename)\n",
    "\n",
    "        # Parsing the space model: \n",
    "        space, rooms = pf.ParseWorld(simworldname)\n",
    "\n",
    "        xs = []\n",
    "        for i in space:\n",
    "          for j in i:\n",
    "            xs.append(j)\n",
    "        A = list(set(xs))\n",
    "        A.sort()\n",
    "        space = [A[-1], A[-2]]\n",
    "\n",
    "        # User parameters \n",
    "        types, sensor_distribution = pf.GetUsersParameters()\n",
    "\n",
    "        roomsList = []\n",
    "        for room in sensor_distribution:\n",
    "            roomsList.append(room)\n",
    "              \n",
    "        return sensor_distribution, types, space, rooms, agentTraces\n",
    "\n",
    "\n",
    "def frange(start, stop, step):\n",
    "    steps = []\n",
    "    while start <= stop:\n",
    "        steps.append(start)\n",
    "        start +=step\n",
    "        \n",
    "    return steps\n",
    "\n",
    "def MakeSensorCombinations(start, end, epsilon, sensorType, room):\n",
    "    a1, b1 = makeBoundaries(epsilon, start[0], end[0])\n",
    "    a2, b2 = makeBoundaries(epsilon, start[1], end[1])    \n",
    "    Xs = frange(a1, b1, epsilon)\n",
    "    Ys = frange(a2, b2, epsilon)\n",
    "    \n",
    "    points = list(itertools.product(list(itertools.product(Xs, Ys)), [room], [sensorType[0]])) \n",
    "    C = itertools.combinations(points, distribution[room][types.index(sensorType)])\n",
    "\n",
    "    return C\n",
    "\n",
    "def PreProcessor(df):\n",
    "    # df['motion sensors'] = df['motion sensors'].apply(ast.literal_eval)\n",
    "    df['motion sensors'] = df['motion sensors'].apply(lambda s: list(map(int, s)))\n",
    "    #df['motion sensors'] = df['motion sensors'].apply(lambda s: s + [1])\n",
    "    # df['beacon sensors'] = df['beacon sensors'].apply(ast.literal_eval)\n",
    "    try:\n",
    "      df['beacon sensors'] = df['beacon sensors'].apply(lambda s: list(map(int, s)))\n",
    "    except:\n",
    "      pass\n",
    "\n",
    "    pre_activity = ''\n",
    "    save_index = 0\n",
    "\n",
    "    for index, row in df.iterrows():\n",
    "        save_index = index\n",
    "        Activity = row['activity']\n",
    "\n",
    "        if Activity != pre_activity:\n",
    "            if pre_activity != '':\n",
    "                df.at[index - 1, 'motion sensors'] += [0]\n",
    "            else:\n",
    "                df.at[index, 'motion sensors'] += [1]\n",
    "\n",
    "            pre_activity = Activity\n",
    "        else:\n",
    "            df.at[index - 1, 'motion sensors'] += [1]\n",
    "\n",
    "    df.at[save_index, 'motion sensors'] += [0]\n",
    "\n",
    "    sensors = set([])\n",
    "\n",
    "    previous_M = None\n",
    "    previous_B = None\n",
    "    output_file = []\n",
    "\n",
    "    for index, row in df.iterrows():\n",
    "      T = row['time']\n",
    "      M = row['motion sensors']\n",
    "      try:\n",
    "        B = row['beacon sensors']\n",
    "      except:\n",
    "        pass\n",
    "\n",
    "      Activity = row['activity']\n",
    "      Activity = Activity.replace(' ', '_')\n",
    "      MotionSensor_Names = []\n",
    "      sensorNames = []\n",
    "      MotionSensor_Message = []\n",
    "      BeaconSensor_Names = []\n",
    "      BeaconSensor_Message = []\n",
    "      \n",
    "\n",
    "      # time = convertTime(T)\n",
    "      time = \"2020-06-16 \" + T + \".00\"\n",
    "\n",
    "      # Motion Sensor\n",
    "      for i in range(len(M)):\n",
    "        sensorNames.append(Name(i, 'M'))\n",
    "        if M[i] == 1:\n",
    "          if (previous_M != None):\n",
    "            if (previous_M[i] == 0):\n",
    "              MotionSensor_Names.append(Name(i,'M'))\n",
    "              MotionSensor_Message.append('ON')\n",
    "\n",
    "          else:\n",
    "            MotionSensor_Names.append(Name(i,'M'))\n",
    "            MotionSensor_Message.append('ON')\n",
    "\n",
    "        if previous_M != None:\n",
    "          if M[i] == 0 and previous_M[i] == 1:\n",
    "            MotionSensor_Names.append(Name(i,'M'))\n",
    "            MotionSensor_Message.append('OFF')\n",
    "\n",
    "      previous_M = M\n",
    "      # Beacon Sensor\n",
    "\n",
    "      try:\n",
    "        for i in range(len(B)):\n",
    "          sensorNames.append(Name(i, 'B'))\n",
    "          if B[i] == 1:\n",
    "            BeaconSensor_Names.append(Name(i,'B'))\n",
    "            BeaconSensor_Message.append('ON')\n",
    "          if previous_B != None:\n",
    "            if B[i] == 0 and previous_B[i] == 1: \n",
    "              BeaconSensor_Names.append(Name(i,'B'))\n",
    "              BeaconSensor_Message.append('OFF')\n",
    "        previous_B = B\n",
    "\n",
    "      except:\n",
    "        pass\n",
    "\n",
    "      for m in range(len(MotionSensor_Names)):\n",
    "        output_file.append(time +' '+ MotionSensor_Names[m] + ' ' + MotionSensor_Names[m] + ' ' + MotionSensor_Message[m] + ' ' + Activity)\n",
    "        \n",
    "      for s in sensorNames:\n",
    "          sensors.add(s)\n",
    "\n",
    "    return output_file, list(sensors)\n",
    "\n",
    "#returns the name of the sensor\n",
    "def Name(number, typeSensor):\n",
    "    if number < 10:\n",
    "      return typeSensor + str(0) + str(number)\n",
    "    else:\n",
    "      return typeSensor + str(number)\n",
    "\n",
    "#converts epoch time to human readable\n",
    "def convertTime(posix_timestamp):\n",
    "    tz = pytz.timezone('MST')\n",
    "    dt = datetime.fromtimestamp(posix_timestamp, tz)\n",
    "    time = dt.strftime('%Y-%m-%d %H:%M:%S.%f')[:-3]\n",
    "    return time\n",
    "\n",
    "def MakeDataBoundaries(height = 10.5, width = 6.6, MaxSensors = 15):\n",
    "    from collections import defaultdict, OrderedDict\n",
    "\n",
    "    d = dict()\n",
    "\n",
    "    for idx in range(MaxSensors):\n",
    "            d['x' + str(idx)] = (0.5, width - 0.5)\n",
    "            d['y' + str(idx)] = (0.5, height - 0.5)\n",
    "\n",
    "    return d\n",
    "\n",
    "def black_box_function(sample, simulateMotionSensors = True, simulateEstimotes = False, Plotting = False):       \n",
    "    files = []\n",
    "\n",
    "    import sys\n",
    "    if (runningOnGoogleColab == True):\n",
    "        sys.path.append('gdrive/My Drive/PhD/Thesis/Ideas/Codes/SensorDeploymentOptimization/')\n",
    "        Data_path = 'gdrive/My Drive/PhD/Thesis/Ideas/Codes/SensorDeploymentOptimization/'\n",
    "\n",
    "    else:\n",
    "        # sys.path.append('../../Codes/SensorDeploymentOptimization/')\n",
    "        sys.path.append('..')\n",
    "        Data_path = '../../Codes/SensorDeploymentOptimization/'\n",
    "\n",
    "    all_sensors = set([])\n",
    "\n",
    "    for agentTrace in BOV.agentTraces:\n",
    "        df_ = sim_sis.RunSimulator(BOV.space, \n",
    "                                   BOV.rooms, \n",
    "                                   agentTrace,\n",
    "                                   sample.GetSensorConfiguration(), \n",
    "                                   simulateMotionSensors, \n",
    "                                   simulateEstimotes, \n",
    "                                   Plotting, \n",
    "                                   BOV.Data_path)\n",
    "        \n",
    "        dataFile, sensors = PreProcessor(df_)\n",
    "        all_sensors.update(sensors)\n",
    "        files.append(dataFile)\n",
    "        \n",
    "    \n",
    "    if (runningOnGoogleColab == True):\n",
    "        sys.path.append('gdrive/My Drive/PhD/Thesis/Ideas/Codes/CASAS/AL-Smarthome')\n",
    "\n",
    "    else:\n",
    "        sys.path.append('../../Codes/CASAS/AL-Smarthome')\n",
    "\n",
    "    import al\n",
    "    import imp\n",
    "    imp.reload(al)\n",
    "    all_sensors = list(all_sensors)\n",
    "\n",
    "    f1_score = (al.leave_one_out(files, all_sensors)[0]) * 100\n",
    "\n",
    "    if f1_score < 0:\n",
    "        f1_score = 0\n",
    "\n",
    "    return 100 - f1_score\n",
    "\n",
    "def function_to_be_optimized(config):\n",
    "    sensorPositions = []\n",
    "    sensor_xy = []\n",
    "\n",
    "    for i in range(1, CONSTANTS['max_sensors'] + 1):\n",
    "        # if (config['x' + str(i)] > 0):\n",
    "        sensor_xy.append(config['x' + str(i)])\n",
    "        sensor_xy.append(config['y' + str(i)])\n",
    "        sensorPositions.append(sensor_xy)\n",
    "        sensor_xy = []\n",
    "\n",
    "          \n",
    "    # print(sensorPositions)\n",
    "    data = Data(sensorPositions, BOV.space, CONSTANTS['epsilon'])\n",
    "    \n",
    "    # print(data.GetSensorConfiguration())\n",
    "    # result = dict()\n",
    "\n",
    "    # result['objs'] = np.stack([black_box_function(data), len(sensorPositions)], axis=-1)\n",
    "    \n",
    "    return black_box_function(data)"
   ]
  },
  {
   "cell_type": "code",
   "execution_count": null,
   "metadata": {
    "id": "UZjfE2cPwhkE",
    "scrolled": true
   },
   "outputs": [
    {
     "name": "stderr",
     "output_type": "stream",
     "text": [
      "\r",
      "  0%|                                                                                         | 0/1000 [00:00<?, ?it/s]"
     ]
    },
    {
     "name": "stdout",
     "output_type": "stream",
     "text": [
      "[Build Surrogate] Use probabilistic random forest based on scikit-learn. For better performance, please install pyrfr: https://open-box.readthedocs.io/en/latest/installation/install_pyrfr.html\n",
      "[INFO] [2021-11-21 15:09:32,772] [OpenBox-Shadan] Iteration 1, objective value: [81.8072068553352].\n"
     ]
    },
    {
     "name": "stderr",
     "output_type": "stream",
     "text": [
      "\r",
      "  0%|                                                                              | 1/1000 [00:48<13:34:22, 48.91s/it]"
     ]
    },
    {
     "name": "stdout",
     "output_type": "stream",
     "text": [
      "[INFO] [2021-11-21 15:10:52,544] [OpenBox-Shadan] Iteration 2, objective value: [45.0837498322483].\n"
     ]
    },
    {
     "name": "stderr",
     "output_type": "stream",
     "text": [
      "\r",
      "  0%|▏                                                                             | 2/1000 [02:08<18:35:30, 67.06s/it]"
     ]
    },
    {
     "name": "stdout",
     "output_type": "stream",
     "text": [
      "[INFO] [2021-11-21 15:12:07,875] [OpenBox-Shadan] Iteration 3, objective value: [45.99155535005306].\n"
     ]
    },
    {
     "name": "stderr",
     "output_type": "stream",
     "text": [
      "\r",
      "  0%|▏                                                                             | 3/1000 [03:24<19:37:06, 70.84s/it]"
     ]
    },
    {
     "name": "stdout",
     "output_type": "stream",
     "text": [
      "[INFO] [2021-11-21 15:13:35,609] [OpenBox-Shadan] Iteration 4, objective value: [53.54604472179044].\n"
     ]
    },
    {
     "name": "stderr",
     "output_type": "stream",
     "text": [
      "\r",
      "  0%|▎                                                                             | 4/1000 [04:51<21:26:39, 77.51s/it]"
     ]
    },
    {
     "name": "stdout",
     "output_type": "stream",
     "text": [
      "[INFO] [2021-11-21 15:14:40,184] [OpenBox-Shadan] Iteration 5, objective value: [47.48710292058394].\n"
     ]
    },
    {
     "name": "stderr",
     "output_type": "stream",
     "text": [
      "\r",
      "  0%|▍                                                                             | 5/1000 [05:56<20:08:00, 72.84s/it]"
     ]
    },
    {
     "name": "stdout",
     "output_type": "stream",
     "text": [
      "[INFO] [2021-11-21 15:16:12,259] [OpenBox-Shadan] Iteration 6, objective value: [47.620593670248546].\n"
     ]
    },
    {
     "name": "stderr",
     "output_type": "stream",
     "text": [
      "\r",
      "  1%|▍                                                                             | 6/1000 [07:28<21:55:07, 79.38s/it]"
     ]
    },
    {
     "name": "stdout",
     "output_type": "stream",
     "text": [
      "[INFO] [2021-11-21 15:17:38,528] [OpenBox-Shadan] Iteration 7, objective value: [43.74543129014064].\n"
     ]
    },
    {
     "name": "stderr",
     "output_type": "stream",
     "text": [
      "\r",
      "  1%|▌                                                                             | 7/1000 [08:54<22:31:02, 81.63s/it]"
     ]
    },
    {
     "name": "stdout",
     "output_type": "stream",
     "text": [
      "[INFO] [2021-11-21 15:19:04,579] [OpenBox-Shadan] Iteration 8, objective value: [48.71561149386824].\n"
     ]
    },
    {
     "name": "stderr",
     "output_type": "stream",
     "text": [
      "\r",
      "  1%|▌                                                                             | 8/1000 [10:20<22:52:56, 83.04s/it]"
     ]
    },
    {
     "name": "stdout",
     "output_type": "stream",
     "text": [
      "[INFO] [2021-11-21 15:20:40,999] [OpenBox-Shadan] Iteration 9, objective value: [54.79950842256851].\n"
     ]
    },
    {
     "name": "stderr",
     "output_type": "stream",
     "text": [
      "\r",
      "  1%|▋                                                                             | 9/1000 [11:57<24:00:37, 87.22s/it]"
     ]
    },
    {
     "name": "stdout",
     "output_type": "stream",
     "text": [
      "[INFO] [2021-11-21 15:21:58,151] [OpenBox-Shadan] Iteration 10, objective value: [49.82738501775892].\n"
     ]
    },
    {
     "name": "stderr",
     "output_type": "stream",
     "text": [
      "\r",
      "  1%|▊                                                                            | 10/1000 [13:14<23:07:52, 84.11s/it]"
     ]
    },
    {
     "name": "stdout",
     "output_type": "stream",
     "text": [
      "[INFO] [2021-11-21 15:23:25,421] [OpenBox-Shadan] Iteration 11, objective value: [32.30605916972658].\n"
     ]
    },
    {
     "name": "stderr",
     "output_type": "stream",
     "text": [
      "\r",
      "  1%|▊                                                                            | 11/1000 [14:41<23:22:23, 85.08s/it]"
     ]
    },
    {
     "name": "stdout",
     "output_type": "stream",
     "text": [
      "[INFO] [2021-11-21 15:25:01,643] [OpenBox-Shadan] Iteration 12, objective value: [46.65837250695488].\n"
     ]
    },
    {
     "name": "stderr",
     "output_type": "stream",
     "text": [
      "\r",
      "  1%|▉                                                                            | 12/1000 [16:17<24:16:47, 88.47s/it]"
     ]
    },
    {
     "name": "stdout",
     "output_type": "stream",
     "text": [
      "[INFO] [2021-11-21 15:26:26,671] [OpenBox-Shadan] Iteration 13, objective value: [44.18110614161056].\n"
     ]
    },
    {
     "name": "stderr",
     "output_type": "stream",
     "text": [
      "\r",
      "  1%|█                                                                            | 13/1000 [17:42<23:58:10, 87.43s/it]"
     ]
    },
    {
     "name": "stdout",
     "output_type": "stream",
     "text": [
      "[INFO] [2021-11-21 15:27:55,775] [OpenBox-Shadan] Iteration 14, objective value: [44.35530397344352].\n"
     ]
    },
    {
     "name": "stderr",
     "output_type": "stream",
     "text": [
      "\r",
      "  1%|█                                                                            | 14/1000 [19:11<24:05:02, 87.93s/it]"
     ]
    },
    {
     "name": "stdout",
     "output_type": "stream",
     "text": [
      "[INFO] [2021-11-21 15:29:26,555] [OpenBox-Shadan] Iteration 15, objective value: [37.967841489472946].\n"
     ]
    },
    {
     "name": "stderr",
     "output_type": "stream",
     "text": [
      "\r",
      "  2%|█▏                                                                           | 15/1000 [20:42<24:17:39, 88.79s/it]"
     ]
    },
    {
     "name": "stdout",
     "output_type": "stream",
     "text": [
      "[INFO] [2021-11-21 15:30:45,741] [OpenBox-Shadan] Iteration 16, objective value: [42.22509264553583].\n"
     ]
    },
    {
     "name": "stderr",
     "output_type": "stream",
     "text": [
      "\r",
      "  2%|█▏                                                                           | 16/1000 [22:01<23:28:46, 85.90s/it]"
     ]
    },
    {
     "name": "stdout",
     "output_type": "stream",
     "text": [
      "[INFO] [2021-11-21 15:32:06,380] [OpenBox-Shadan] Iteration 17, objective value: [40.55569454226503].\n"
     ]
    },
    {
     "name": "stderr",
     "output_type": "stream",
     "text": [
      "\r",
      "  2%|█▎                                                                           | 17/1000 [23:22<23:01:24, 84.32s/it]"
     ]
    },
    {
     "name": "stdout",
     "output_type": "stream",
     "text": [
      "[INFO] [2021-11-21 15:33:31,804] [OpenBox-Shadan] Iteration 18, objective value: [54.01740223648163].\n"
     ]
    },
    {
     "name": "stderr",
     "output_type": "stream",
     "text": [
      "\r",
      "  2%|█▍                                                                           | 18/1000 [24:47<23:05:27, 84.65s/it]"
     ]
    },
    {
     "name": "stdout",
     "output_type": "stream",
     "text": [
      "[INFO] [2021-11-21 15:35:00,875] [OpenBox-Shadan] Iteration 19, objective value: [45.90304224401947].\n"
     ]
    },
    {
     "name": "stderr",
     "output_type": "stream",
     "text": [
      "\r",
      "  2%|█▍                                                                           | 19/1000 [26:17<23:25:44, 85.98s/it]"
     ]
    },
    {
     "name": "stdout",
     "output_type": "stream",
     "text": [
      "[INFO] [2021-11-21 15:36:30,297] [OpenBox-Shadan] Iteration 20, objective value: [51.12972488905009].\n"
     ]
    },
    {
     "name": "stderr",
     "output_type": "stream",
     "text": [
      "\r",
      "  2%|█▌                                                                           | 20/1000 [27:46<23:41:11, 87.01s/it]"
     ]
    },
    {
     "name": "stdout",
     "output_type": "stream",
     "text": [
      "[INFO] [2021-11-21 15:37:49,548] [OpenBox-Shadan] Iteration 21, objective value: [49.09813460112022].\n"
     ]
    },
    {
     "name": "stderr",
     "output_type": "stream",
     "text": [
      "\r",
      "  2%|█▌                                                                           | 21/1000 [29:05<23:01:43, 84.68s/it]"
     ]
    },
    {
     "name": "stdout",
     "output_type": "stream",
     "text": [
      "[INFO] [2021-11-21 15:39:14,004] [OpenBox-Shadan] Iteration 22, objective value: [49.201169189613836].\n"
     ]
    },
    {
     "name": "stderr",
     "output_type": "stream",
     "text": [
      "\r",
      "  2%|█▋                                                                           | 22/1000 [30:30<22:59:12, 84.61s/it]"
     ]
    },
    {
     "name": "stdout",
     "output_type": "stream",
     "text": [
      "[INFO] [2021-11-21 15:40:12,706] [OpenBox-Shadan] Iteration 23, objective value: [63.43059389641626].\n"
     ]
    },
    {
     "name": "stderr",
     "output_type": "stream",
     "text": [
      "\r",
      "  2%|█▊                                                                           | 23/1000 [31:28<20:51:11, 76.84s/it]"
     ]
    },
    {
     "name": "stdout",
     "output_type": "stream",
     "text": [
      "[INFO] [2021-11-21 15:41:36,491] [OpenBox-Shadan] Iteration 24, objective value: [50.57005664920425].\n"
     ]
    },
    {
     "name": "stderr",
     "output_type": "stream",
     "text": [
      "\r",
      "  2%|█▊                                                                           | 24/1000 [32:52<21:23:48, 78.92s/it]"
     ]
    },
    {
     "name": "stdout",
     "output_type": "stream",
     "text": [
      "[INFO] [2021-11-21 15:43:23,000] [OpenBox-Shadan] Iteration 25, objective value: [36.17918445954934].\n"
     ]
    },
    {
     "name": "stderr",
     "output_type": "stream",
     "text": [
      "\r",
      "  2%|█▉                                                                           | 25/1000 [34:39<23:37:00, 87.20s/it]"
     ]
    },
    {
     "name": "stdout",
     "output_type": "stream",
     "text": [
      "[INFO] [2021-11-21 15:44:36,542] [OpenBox-Shadan] Iteration 26, objective value: [50.86806966884324].\n"
     ]
    },
    {
     "name": "stderr",
     "output_type": "stream",
     "text": [
      "\r",
      "  3%|██                                                                           | 26/1000 [35:52<22:29:01, 83.10s/it]"
     ]
    },
    {
     "name": "stdout",
     "output_type": "stream",
     "text": [
      "[INFO] [2021-11-21 15:46:04,118] [OpenBox-Shadan] Iteration 27, objective value: [37.65020080823233].\n"
     ]
    },
    {
     "name": "stderr",
     "output_type": "stream",
     "text": [
      "\r",
      "  3%|██                                                                           | 27/1000 [37:20<22:49:24, 84.44s/it]"
     ]
    },
    {
     "name": "stdout",
     "output_type": "stream",
     "text": [
      "[INFO] [2021-11-21 15:47:42,964] [OpenBox-Shadan] Iteration 28, objective value: [44.31801027014116].\n"
     ]
    },
    {
     "name": "stderr",
     "output_type": "stream",
     "text": [
      "\r",
      "  3%|██▏                                                                          | 28/1000 [38:59<23:57:59, 88.77s/it]"
     ]
    },
    {
     "name": "stdout",
     "output_type": "stream",
     "text": [
      "[INFO] [2021-11-21 15:49:13,995] [OpenBox-Shadan] Iteration 29, objective value: [40.02018083622969].\n"
     ]
    },
    {
     "name": "stderr",
     "output_type": "stream",
     "text": [
      "\r",
      "  3%|██▏                                                                          | 29/1000 [40:30<24:07:30, 89.44s/it]"
     ]
    },
    {
     "name": "stdout",
     "output_type": "stream",
     "text": [
      "[INFO] [2021-11-21 15:50:39,618] [OpenBox-Shadan] Iteration 30, objective value: [42.218733907178596].\n"
     ]
    },
    {
     "name": "stderr",
     "output_type": "stream",
     "text": [
      "\r",
      "  3%|██▎                                                                          | 30/1000 [41:55<23:47:29, 88.30s/it]"
     ]
    },
    {
     "name": "stdout",
     "output_type": "stream",
     "text": [
      "[INFO] [2021-11-21 15:52:18,434] [OpenBox-Shadan] Iteration 31, objective value: [34.9192059659963].\n"
     ]
    },
    {
     "name": "stderr",
     "output_type": "stream",
     "text": [
      "\r",
      "  3%|██▍                                                                          | 31/1000 [43:34<24:36:58, 91.45s/it]"
     ]
    },
    {
     "name": "stdout",
     "output_type": "stream",
     "text": [
      "[INFO] [2021-11-21 15:53:39,974] [OpenBox-Shadan] Iteration 32, objective value: [35.4717343474241].\n"
     ]
    },
    {
     "name": "stderr",
     "output_type": "stream",
     "text": [
      "\r",
      "  3%|██▍                                                                          | 32/1000 [44:56<23:47:28, 88.48s/it]"
     ]
    },
    {
     "name": "stdout",
     "output_type": "stream",
     "text": [
      "[INFO] [2021-11-21 15:55:18,413] [OpenBox-Shadan] Iteration 33, objective value: [37.69198489226395].\n"
     ]
    },
    {
     "name": "stderr",
     "output_type": "stream",
     "text": [
      "\r",
      "  3%|██▌                                                                          | 33/1000 [46:34<24:34:09, 91.47s/it]"
     ]
    },
    {
     "name": "stdout",
     "output_type": "stream",
     "text": [
      "[INFO] [2021-11-21 15:56:54,254] [OpenBox-Shadan] Iteration 34, objective value: [36.03485467790456].\n"
     ]
    },
    {
     "name": "stderr",
     "output_type": "stream",
     "text": [
      "\r",
      "  3%|██▌                                                                          | 34/1000 [48:10<24:53:45, 92.78s/it]"
     ]
    },
    {
     "name": "stdout",
     "output_type": "stream",
     "text": [
      "[INFO] [2021-11-21 15:58:23,307] [OpenBox-Shadan] Iteration 35, objective value: [37.1222543195119].\n"
     ]
    },
    {
     "name": "stderr",
     "output_type": "stream",
     "text": [
      "\r",
      "  4%|██▋                                                                          | 35/1000 [49:39<24:34:13, 91.66s/it]"
     ]
    },
    {
     "name": "stdout",
     "output_type": "stream",
     "text": [
      "[INFO] [2021-11-21 16:00:01,863] [OpenBox-Shadan] Iteration 36, objective value: [41.07702377585881].\n"
     ]
    },
    {
     "name": "stderr",
     "output_type": "stream",
     "text": [
      "\r",
      "  4%|██▊                                                                          | 36/1000 [51:18<25:05:55, 93.73s/it]"
     ]
    },
    {
     "name": "stdout",
     "output_type": "stream",
     "text": [
      "[INFO] [2021-11-21 16:01:25,165] [OpenBox-Shadan] Iteration 37, objective value: [34.55033700485514].\n"
     ]
    },
    {
     "name": "stderr",
     "output_type": "stream",
     "text": [
      "\r",
      "  4%|██▊                                                                          | 37/1000 [52:41<24:14:08, 90.60s/it]"
     ]
    },
    {
     "name": "stdout",
     "output_type": "stream",
     "text": [
      "[INFO] [2021-11-21 16:02:48,747] [OpenBox-Shadan] Iteration 38, objective value: [35.14482767940592].\n"
     ]
    },
    {
     "name": "stderr",
     "output_type": "stream",
     "text": [
      "\r",
      "  4%|██▉                                                                          | 38/1000 [54:04<23:38:52, 88.50s/it]"
     ]
    },
    {
     "name": "stdout",
     "output_type": "stream",
     "text": [
      "[INFO] [2021-11-21 16:04:02,476] [OpenBox-Shadan] Iteration 39, objective value: [46.49584433370671].\n"
     ]
    },
    {
     "name": "stderr",
     "output_type": "stream",
     "text": [
      "\r",
      "  4%|███                                                                          | 39/1000 [55:18<22:26:27, 84.07s/it]"
     ]
    },
    {
     "name": "stdout",
     "output_type": "stream",
     "text": [
      "[INFO] [2021-11-21 16:05:27,395] [OpenBox-Shadan] Iteration 40, objective value: [38.41181365882088].\n"
     ]
    },
    {
     "name": "stderr",
     "output_type": "stream",
     "text": [
      "\r",
      "  4%|███                                                                          | 40/1000 [56:43<22:29:08, 84.32s/it]"
     ]
    },
    {
     "name": "stdout",
     "output_type": "stream",
     "text": [
      "[INFO] [2021-11-21 16:06:53,868] [OpenBox-Shadan] Iteration 41, objective value: [34.324586030018494].\n"
     ]
    },
    {
     "name": "stderr",
     "output_type": "stream",
     "text": [
      "\r",
      "  4%|███▏                                                                         | 41/1000 [58:10<22:38:03, 84.97s/it]"
     ]
    },
    {
     "name": "stdout",
     "output_type": "stream",
     "text": [
      "[INFO] [2021-11-21 16:08:31,200] [OpenBox-Shadan] Iteration 42, objective value: [44.94956942151498].\n"
     ]
    },
    {
     "name": "stderr",
     "output_type": "stream",
     "text": [
      "\r",
      "  4%|███▏                                                                         | 42/1000 [59:47<23:35:51, 88.68s/it]"
     ]
    },
    {
     "name": "stdout",
     "output_type": "stream",
     "text": [
      "[INFO] [2021-11-21 16:09:59,299] [OpenBox-Shadan] Iteration 43, objective value: [39.959442537356374].\n"
     ]
    },
    {
     "name": "stderr",
     "output_type": "stream",
     "text": [
      "\r",
      "  4%|███▏                                                                       | 43/1000 [1:01:15<23:31:37, 88.50s/it]"
     ]
    },
    {
     "name": "stdout",
     "output_type": "stream",
     "text": [
      "[INFO] [2021-11-21 16:11:38,437] [OpenBox-Shadan] Iteration 44, objective value: [39.25203084132961].\n"
     ]
    },
    {
     "name": "stderr",
     "output_type": "stream",
     "text": [
      "\r",
      "  4%|███▎                                                                       | 44/1000 [1:02:54<24:20:59, 91.69s/it]"
     ]
    },
    {
     "name": "stdout",
     "output_type": "stream",
     "text": [
      "[INFO] [2021-11-21 16:12:58,837] [OpenBox-Shadan] Iteration 45, objective value: [45.916217812411645].\n"
     ]
    },
    {
     "name": "stderr",
     "output_type": "stream",
     "text": [
      "\r",
      "  4%|███▍                                                                       | 45/1000 [1:04:14<23:25:32, 88.31s/it]"
     ]
    },
    {
     "name": "stdout",
     "output_type": "stream",
     "text": [
      "[INFO] [2021-11-21 16:14:21,843] [OpenBox-Shadan] Iteration 46, objective value: [33.808840506613464].\n"
     ]
    },
    {
     "name": "stderr",
     "output_type": "stream",
     "text": [
      "\r",
      "  5%|███▍                                                                       | 46/1000 [1:05:37<22:58:46, 86.72s/it]"
     ]
    },
    {
     "name": "stdout",
     "output_type": "stream",
     "text": [
      "[INFO] [2021-11-21 16:15:39,905] [OpenBox-Shadan] Iteration 47, objective value: [41.34533567758151].\n"
     ]
    },
    {
     "name": "stderr",
     "output_type": "stream",
     "text": [
      "\r",
      "  5%|███▌                                                                       | 47/1000 [1:06:56<22:16:06, 84.12s/it]"
     ]
    },
    {
     "name": "stdout",
     "output_type": "stream",
     "text": [
      "[INFO] [2021-11-21 16:17:02,930] [OpenBox-Shadan] Iteration 48, objective value: [35.90482827543158].\n"
     ]
    },
    {
     "name": "stderr",
     "output_type": "stream",
     "text": [
      "\r",
      "  5%|███▌                                                                       | 48/1000 [1:08:19<22:09:29, 83.79s/it]"
     ]
    },
    {
     "name": "stdout",
     "output_type": "stream",
     "text": [
      "[INFO] [2021-11-21 16:18:20,188] [OpenBox-Shadan] Iteration 49, objective value: [42.403213348182476].\n"
     ]
    },
    {
     "name": "stderr",
     "output_type": "stream",
     "text": [
      "\r",
      "  5%|███▋                                                                       | 49/1000 [1:09:36<21:37:01, 81.83s/it]"
     ]
    },
    {
     "name": "stdout",
     "output_type": "stream",
     "text": [
      "[INFO] [2021-11-21 16:19:54,478] [OpenBox-Shadan] Iteration 50, objective value: [35.1184610855442].\n"
     ]
    },
    {
     "name": "stderr",
     "output_type": "stream",
     "text": [
      "\r",
      "  5%|███▊                                                                       | 50/1000 [1:11:10<22:34:50, 85.57s/it]"
     ]
    },
    {
     "name": "stdout",
     "output_type": "stream",
     "text": [
      "[INFO] [2021-11-21 16:21:19,671] [OpenBox-Shadan] Iteration 51, objective value: [38.42336151775887].\n"
     ]
    },
    {
     "name": "stderr",
     "output_type": "stream",
     "text": [
      "\r",
      "  5%|███▊                                                                       | 51/1000 [1:12:35<22:31:37, 85.46s/it]"
     ]
    },
    {
     "name": "stdout",
     "output_type": "stream",
     "text": [
      "[INFO] [2021-11-21 16:22:53,344] [OpenBox-Shadan] Iteration 52, objective value: [30.568026609845788].\n"
     ]
    },
    {
     "name": "stderr",
     "output_type": "stream",
     "text": [
      "\r",
      "  5%|███▉                                                                       | 52/1000 [1:14:09<23:09:09, 87.92s/it]"
     ]
    },
    {
     "name": "stdout",
     "output_type": "stream",
     "text": [
      "[INFO] [2021-11-21 16:24:13,787] [OpenBox-Shadan] Iteration 53, objective value: [49.44804592116954].\n"
     ]
    },
    {
     "name": "stderr",
     "output_type": "stream",
     "text": [
      "\r",
      "  5%|███▉                                                                       | 53/1000 [1:15:29<22:32:17, 85.68s/it]"
     ]
    },
    {
     "name": "stdout",
     "output_type": "stream",
     "text": [
      "[INFO] [2021-11-21 16:25:46,057] [OpenBox-Shadan] Iteration 54, objective value: [33.47679636385894].\n"
     ]
    },
    {
     "name": "stderr",
     "output_type": "stream",
     "text": [
      "\r",
      "  5%|████                                                                       | 54/1000 [1:17:02<23:02:01, 87.66s/it]"
     ]
    },
    {
     "name": "stdout",
     "output_type": "stream",
     "text": [
      "[INFO] [2021-11-21 16:27:13,189] [OpenBox-Shadan] Iteration 55, objective value: [36.4323377987326].\n"
     ]
    },
    {
     "name": "stderr",
     "output_type": "stream",
     "text": [
      "\r",
      "  6%|████▏                                                                      | 55/1000 [1:18:29<22:58:05, 87.50s/it]"
     ]
    },
    {
     "name": "stdout",
     "output_type": "stream",
     "text": [
      "[INFO] [2021-11-21 16:28:49,867] [OpenBox-Shadan] Iteration 56, objective value: [35.275433169661696].\n"
     ]
    },
    {
     "name": "stderr",
     "output_type": "stream",
     "text": [
      "\r",
      "  6%|████▏                                                                      | 56/1000 [1:20:06<23:39:58, 90.25s/it]"
     ]
    },
    {
     "name": "stdout",
     "output_type": "stream",
     "text": [
      "[INFO] [2021-11-21 16:30:25,509] [OpenBox-Shadan] Iteration 57, objective value: [34.3219302047916].\n"
     ]
    },
    {
     "name": "stderr",
     "output_type": "stream",
     "text": [
      "\r",
      "  6%|████▎                                                                      | 57/1000 [1:21:41<24:03:52, 91.87s/it]"
     ]
    },
    {
     "name": "stdout",
     "output_type": "stream",
     "text": [
      "[INFO] [2021-11-21 16:32:00,818] [OpenBox-Shadan] Iteration 58, objective value: [37.67810528973887].\n"
     ]
    },
    {
     "name": "stderr",
     "output_type": "stream",
     "text": [
      "\r",
      "  6%|████▎                                                                      | 58/1000 [1:23:16<24:18:32, 92.90s/it]"
     ]
    },
    {
     "name": "stdout",
     "output_type": "stream",
     "text": [
      "[INFO] [2021-11-21 16:33:21,939] [OpenBox-Shadan] Iteration 59, objective value: [43.74158464914262].\n"
     ]
    },
    {
     "name": "stderr",
     "output_type": "stream",
     "text": [
      "\r",
      "  6%|████▍                                                                      | 59/1000 [1:24:38<23:21:34, 89.37s/it]"
     ]
    },
    {
     "name": "stdout",
     "output_type": "stream",
     "text": [
      "[INFO] [2021-11-21 16:35:05,226] [OpenBox-Shadan] Iteration 60, objective value: [31.6793006272532].\n"
     ]
    },
    {
     "name": "stderr",
     "output_type": "stream",
     "text": [
      "\r",
      "  6%|████▌                                                                      | 60/1000 [1:26:21<24:25:30, 93.54s/it]"
     ]
    },
    {
     "name": "stdout",
     "output_type": "stream",
     "text": [
      "[INFO] [2021-11-21 16:36:39,681] [OpenBox-Shadan] Iteration 61, objective value: [30.93634756798079].\n"
     ]
    },
    {
     "name": "stderr",
     "output_type": "stream",
     "text": [
      "\r",
      "  6%|████▌                                                                      | 61/1000 [1:27:55<24:28:14, 93.82s/it]"
     ]
    },
    {
     "name": "stdout",
     "output_type": "stream",
     "text": [
      "[INFO] [2021-11-21 16:38:17,037] [OpenBox-Shadan] Iteration 62, objective value: [42.829198525831416].\n"
     ]
    },
    {
     "name": "stderr",
     "output_type": "stream",
     "text": [
      "\r",
      "  6%|████▋                                                                      | 62/1000 [1:29:33<24:43:15, 94.88s/it]"
     ]
    },
    {
     "name": "stdout",
     "output_type": "stream",
     "text": [
      "[INFO] [2021-11-21 16:39:53,314] [OpenBox-Shadan] Iteration 63, objective value: [42.90773203933262].\n"
     ]
    },
    {
     "name": "stderr",
     "output_type": "stream",
     "text": [
      "\r",
      "  6%|████▋                                                                      | 63/1000 [1:31:09<24:48:14, 95.30s/it]"
     ]
    },
    {
     "name": "stdout",
     "output_type": "stream",
     "text": [
      "[INFO] [2021-11-21 16:41:25,924] [OpenBox-Shadan] Iteration 64, objective value: [41.10030667329403].\n"
     ]
    },
    {
     "name": "stderr",
     "output_type": "stream",
     "text": [
      "\r",
      "  6%|████▊                                                                      | 64/1000 [1:32:42<24:34:04, 94.49s/it]"
     ]
    },
    {
     "name": "stdout",
     "output_type": "stream",
     "text": [
      "[INFO] [2021-11-21 16:43:09,892] [OpenBox-Shadan] Iteration 65, objective value: [40.62703375476033].\n"
     ]
    },
    {
     "name": "stderr",
     "output_type": "stream",
     "text": [
      "\r",
      "  6%|████▉                                                                      | 65/1000 [1:34:26<25:16:47, 97.33s/it]"
     ]
    },
    {
     "name": "stdout",
     "output_type": "stream",
     "text": [
      "[INFO] [2021-11-21 16:44:30,746] [OpenBox-Shadan] Iteration 66, objective value: [44.23146657330601].\n"
     ]
    },
    {
     "name": "stderr",
     "output_type": "stream",
     "text": [
      "\r",
      "  7%|████▉                                                                      | 66/1000 [1:35:46<23:58:12, 92.39s/it]"
     ]
    },
    {
     "name": "stdout",
     "output_type": "stream",
     "text": [
      "[INFO] [2021-11-21 16:45:51,804] [OpenBox-Shadan] Iteration 67, objective value: [33.462210719176625].\n"
     ]
    },
    {
     "name": "stderr",
     "output_type": "stream",
     "text": [
      "\r",
      "  7%|█████                                                                      | 67/1000 [1:37:07<23:03:48, 88.99s/it]"
     ]
    },
    {
     "name": "stdout",
     "output_type": "stream",
     "text": [
      "[INFO] [2021-11-21 16:47:15,379] [OpenBox-Shadan] Iteration 68, objective value: [48.6114044969977].\n"
     ]
    },
    {
     "name": "stderr",
     "output_type": "stream",
     "text": [
      "\r",
      "  7%|█████                                                                      | 68/1000 [1:38:31<22:37:04, 87.37s/it]"
     ]
    },
    {
     "name": "stdout",
     "output_type": "stream",
     "text": [
      "[INFO] [2021-11-21 16:48:43,445] [OpenBox-Shadan] Iteration 69, objective value: [30.695227746405223].\n"
     ]
    },
    {
     "name": "stderr",
     "output_type": "stream",
     "text": [
      "\r",
      "  7%|█████▏                                                                     | 69/1000 [1:39:59<22:38:53, 87.58s/it]"
     ]
    },
    {
     "name": "stdout",
     "output_type": "stream",
     "text": [
      "[INFO] [2021-11-21 16:50:14,942] [OpenBox-Shadan] Iteration 70, objective value: [34.50250442818616].\n"
     ]
    },
    {
     "name": "stderr",
     "output_type": "stream",
     "text": [
      "\r",
      "  7%|█████▎                                                                     | 70/1000 [1:41:31<22:55:39, 88.75s/it]"
     ]
    },
    {
     "name": "stdout",
     "output_type": "stream",
     "text": [
      "[INFO] [2021-11-21 16:51:51,719] [OpenBox-Shadan] Iteration 71, objective value: [28.06359151244976].\n"
     ]
    },
    {
     "name": "stderr",
     "output_type": "stream",
     "text": [
      "\r",
      "  7%|█████▎                                                                     | 71/1000 [1:43:07<23:31:27, 91.16s/it]"
     ]
    },
    {
     "name": "stdout",
     "output_type": "stream",
     "text": [
      "[INFO] [2021-11-21 16:53:19,110] [OpenBox-Shadan] Iteration 72, objective value: [37.77085666791392].\n"
     ]
    },
    {
     "name": "stderr",
     "output_type": "stream",
     "text": [
      "\r",
      "  7%|█████▍                                                                     | 72/1000 [1:44:35<23:12:26, 90.03s/it]"
     ]
    },
    {
     "name": "stdout",
     "output_type": "stream",
     "text": [
      "[INFO] [2021-11-21 16:54:58,164] [OpenBox-Shadan] Iteration 73, objective value: [29.654361662843726].\n"
     ]
    },
    {
     "name": "stderr",
     "output_type": "stream",
     "text": [
      "\r",
      "  7%|█████▍                                                                     | 73/1000 [1:46:14<23:52:46, 92.74s/it]"
     ]
    },
    {
     "name": "stdout",
     "output_type": "stream",
     "text": [
      "[INFO] [2021-11-21 16:56:22,559] [OpenBox-Shadan] Iteration 74, objective value: [35.83392225801198].\n"
     ]
    },
    {
     "name": "stderr",
     "output_type": "stream",
     "text": [
      "\r",
      "  7%|█████▌                                                                     | 74/1000 [1:47:38<23:12:36, 90.23s/it]"
     ]
    },
    {
     "name": "stdout",
     "output_type": "stream",
     "text": [
      "[INFO] [2021-11-21 16:57:53,587] [OpenBox-Shadan] Iteration 75, objective value: [42.006485213150825].\n"
     ]
    },
    {
     "name": "stderr",
     "output_type": "stream",
     "text": [
      "\r",
      "  8%|█████▋                                                                     | 75/1000 [1:49:09<23:14:46, 90.47s/it]"
     ]
    },
    {
     "name": "stdout",
     "output_type": "stream",
     "text": [
      "[INFO] [2021-11-21 16:59:33,089] [OpenBox-Shadan] Iteration 76, objective value: [38.318767280470546].\n"
     ]
    },
    {
     "name": "stderr",
     "output_type": "stream",
     "text": [
      "\r",
      "  8%|█████▋                                                                     | 76/1000 [1:50:49<23:54:59, 93.18s/it]"
     ]
    },
    {
     "name": "stdout",
     "output_type": "stream",
     "text": [
      "[INFO] [2021-11-21 17:01:08,806] [OpenBox-Shadan] Iteration 77, objective value: [43.25875820055085].\n"
     ]
    },
    {
     "name": "stderr",
     "output_type": "stream",
     "text": [
      "\r",
      "  8%|█████▊                                                                     | 77/1000 [1:52:24<24:05:08, 93.94s/it]"
     ]
    },
    {
     "name": "stdout",
     "output_type": "stream",
     "text": [
      "[INFO] [2021-11-21 17:02:39,607] [OpenBox-Shadan] Iteration 78, objective value: [40.367505071105604].\n"
     ]
    },
    {
     "name": "stderr",
     "output_type": "stream",
     "text": [
      "\r",
      "  8%|█████▊                                                                     | 78/1000 [1:53:55<23:49:05, 93.00s/it]"
     ]
    },
    {
     "name": "stdout",
     "output_type": "stream",
     "text": [
      "[INFO] [2021-11-21 17:04:14,162] [OpenBox-Shadan] Iteration 79, objective value: [34.93167501155018].\n"
     ]
    },
    {
     "name": "stderr",
     "output_type": "stream",
     "text": [
      "\r",
      "  8%|█████▉                                                                     | 79/1000 [1:55:30<23:54:42, 93.47s/it]"
     ]
    },
    {
     "name": "stdout",
     "output_type": "stream",
     "text": [
      "[INFO] [2021-11-21 17:05:41,533] [OpenBox-Shadan] Iteration 80, objective value: [47.15378276223788].\n"
     ]
    },
    {
     "name": "stderr",
     "output_type": "stream",
     "text": [
      "\r",
      "  8%|██████                                                                     | 80/1000 [1:56:57<23:25:06, 91.64s/it]"
     ]
    },
    {
     "name": "stdout",
     "output_type": "stream",
     "text": [
      "[INFO] [2021-11-21 17:07:24,471] [OpenBox-Shadan] Iteration 81, objective value: [26.327629087884503].\n"
     ]
    },
    {
     "name": "stderr",
     "output_type": "stream",
     "text": [
      "\r",
      "  8%|██████                                                                     | 81/1000 [1:58:40<24:15:30, 95.03s/it]"
     ]
    },
    {
     "name": "stdout",
     "output_type": "stream",
     "text": [
      "[INFO] [2021-11-21 17:08:47,742] [OpenBox-Shadan] Iteration 82, objective value: [44.302067041953684].\n"
     ]
    },
    {
     "name": "stderr",
     "output_type": "stream",
     "text": [
      "\r",
      "  8%|██████▏                                                                    | 82/1000 [2:00:03<23:19:57, 91.50s/it]"
     ]
    },
    {
     "name": "stdout",
     "output_type": "stream",
     "text": [
      "[INFO] [2021-11-21 17:10:12,060] [OpenBox-Shadan] Iteration 83, objective value: [33.45179700827255].\n"
     ]
    },
    {
     "name": "stderr",
     "output_type": "stream",
     "text": [
      "\r",
      "  8%|██████▏                                                                    | 83/1000 [2:01:28<22:45:30, 89.35s/it]"
     ]
    },
    {
     "name": "stdout",
     "output_type": "stream",
     "text": [
      "[INFO] [2021-11-21 17:11:32,878] [OpenBox-Shadan] Iteration 84, objective value: [34.839472207186475].\n"
     ]
    },
    {
     "name": "stderr",
     "output_type": "stream",
     "text": [
      "\r",
      "  8%|██████▎                                                                    | 84/1000 [2:02:49<22:04:57, 86.79s/it]"
     ]
    },
    {
     "name": "stdout",
     "output_type": "stream",
     "text": [
      "[INFO] [2021-11-21 17:13:04,801] [OpenBox-Shadan] Iteration 85, objective value: [32.63699415001733].\n"
     ]
    },
    {
     "name": "stderr",
     "output_type": "stream",
     "text": [
      "\r",
      "  8%|██████▍                                                                    | 85/1000 [2:04:20<22:27:00, 88.33s/it]"
     ]
    },
    {
     "name": "stdout",
     "output_type": "stream",
     "text": [
      "[INFO] [2021-11-21 17:14:21,450] [OpenBox-Shadan] Iteration 86, objective value: [46.983393686619515].\n"
     ]
    },
    {
     "name": "stderr",
     "output_type": "stream",
     "text": [
      "\r",
      "  9%|██████▍                                                                    | 86/1000 [2:05:37<21:32:09, 84.82s/it]"
     ]
    },
    {
     "name": "stdout",
     "output_type": "stream",
     "text": [
      "[INFO] [2021-11-21 17:15:55,223] [OpenBox-Shadan] Iteration 87, objective value: [37.49403147546527].\n"
     ]
    },
    {
     "name": "stderr",
     "output_type": "stream",
     "text": [
      "\r",
      "  9%|██████▌                                                                    | 87/1000 [2:07:11<22:11:35, 87.51s/it]"
     ]
    },
    {
     "name": "stdout",
     "output_type": "stream",
     "text": [
      "[INFO] [2021-11-21 17:17:38,865] [OpenBox-Shadan] Iteration 88, objective value: [32.99247493198956].\n"
     ]
    },
    {
     "name": "stderr",
     "output_type": "stream",
     "text": [
      "\r",
      "  9%|██████▌                                                                    | 88/1000 [2:08:55<23:23:42, 92.35s/it]"
     ]
    },
    {
     "name": "stdout",
     "output_type": "stream",
     "text": [
      "[INFO] [2021-11-21 17:19:14,965] [OpenBox-Shadan] Iteration 89, objective value: [32.633860602619876].\n"
     ]
    },
    {
     "name": "stderr",
     "output_type": "stream",
     "text": [
      "\r",
      "  9%|██████▋                                                                    | 89/1000 [2:10:31<23:39:14, 93.47s/it]"
     ]
    },
    {
     "name": "stdout",
     "output_type": "stream",
     "text": [
      "[INFO] [2021-11-21 17:20:41,896] [OpenBox-Shadan] Iteration 90, objective value: [33.734363373981154].\n"
     ]
    },
    {
     "name": "stderr",
     "output_type": "stream",
     "text": [
      "\r",
      "  9%|██████▊                                                                    | 90/1000 [2:11:58<23:07:55, 91.51s/it]"
     ]
    },
    {
     "name": "stdout",
     "output_type": "stream",
     "text": [
      "[INFO] [2021-11-21 17:22:08,887] [OpenBox-Shadan] Iteration 91, objective value: [35.80579349022902].\n"
     ]
    },
    {
     "name": "stderr",
     "output_type": "stream",
     "text": [
      "\r",
      "  9%|██████▊                                                                    | 91/1000 [2:13:25<22:45:50, 90.16s/it]"
     ]
    },
    {
     "name": "stdout",
     "output_type": "stream",
     "text": [
      "[INFO] [2021-11-21 17:23:46,414] [OpenBox-Shadan] Iteration 92, objective value: [43.07424735439548].\n"
     ]
    },
    {
     "name": "stderr",
     "output_type": "stream",
     "text": [
      "\r",
      "  9%|██████▉                                                                    | 92/1000 [2:15:02<23:17:49, 92.37s/it]"
     ]
    },
    {
     "name": "stdout",
     "output_type": "stream",
     "text": [
      "[INFO] [2021-11-21 17:25:21,865] [OpenBox-Shadan] Iteration 93, objective value: [29.178896864932796].\n"
     ]
    },
    {
     "name": "stderr",
     "output_type": "stream",
     "text": [
      "\r",
      "  9%|██████▉                                                                    | 93/1000 [2:16:38<23:30:15, 93.29s/it]"
     ]
    },
    {
     "name": "stdout",
     "output_type": "stream",
     "text": [
      "[INFO] [2021-11-21 17:26:48,607] [OpenBox-Shadan] Iteration 94, objective value: [50.555448299430786].\n"
     ]
    },
    {
     "name": "stderr",
     "output_type": "stream",
     "text": [
      "\r",
      "  9%|███████                                                                    | 94/1000 [2:18:04<22:59:02, 91.33s/it]"
     ]
    },
    {
     "name": "stdout",
     "output_type": "stream",
     "text": [
      "[INFO] [2021-11-21 17:28:14,299] [OpenBox-Shadan] Iteration 95, objective value: [40.93963740485223].\n"
     ]
    },
    {
     "name": "stderr",
     "output_type": "stream",
     "text": [
      "\r",
      " 10%|███████▏                                                                   | 95/1000 [2:19:30<22:32:01, 89.64s/it]"
     ]
    },
    {
     "name": "stdout",
     "output_type": "stream",
     "text": [
      "[INFO] [2021-11-21 17:29:52,808] [OpenBox-Shadan] Iteration 96, objective value: [31.18629833969061].\n"
     ]
    },
    {
     "name": "stderr",
     "output_type": "stream",
     "text": [
      "\r",
      " 10%|███████▏                                                                   | 96/1000 [2:21:08<23:10:37, 92.30s/it]"
     ]
    },
    {
     "name": "stdout",
     "output_type": "stream",
     "text": [
      "[INFO] [2021-11-21 17:31:28,924] [OpenBox-Shadan] Iteration 97, objective value: [40.2263471220309].\n"
     ]
    },
    {
     "name": "stderr",
     "output_type": "stream",
     "text": [
      "\r",
      " 10%|███████▎                                                                   | 97/1000 [2:22:45<23:26:19, 93.44s/it]"
     ]
    },
    {
     "name": "stdout",
     "output_type": "stream",
     "text": [
      "[INFO] [2021-11-21 17:32:57,888] [OpenBox-Shadan] Iteration 98, objective value: [38.07069380394192].\n"
     ]
    },
    {
     "name": "stderr",
     "output_type": "stream",
     "text": [
      "\r",
      " 10%|███████▎                                                                   | 98/1000 [2:24:14<23:04:34, 92.10s/it]"
     ]
    },
    {
     "name": "stdout",
     "output_type": "stream",
     "text": [
      "[INFO] [2021-11-21 17:34:33,490] [OpenBox-Shadan] Iteration 99, objective value: [40.29577685592817].\n"
     ]
    },
    {
     "name": "stderr",
     "output_type": "stream",
     "text": [
      "\r",
      " 10%|███████▍                                                                   | 99/1000 [2:25:49<23:18:48, 93.15s/it]"
     ]
    },
    {
     "name": "stdout",
     "output_type": "stream",
     "text": [
      "[INFO] [2021-11-21 17:36:01,180] [OpenBox-Shadan] Iteration 100, objective value: [38.8562769084204].\n"
     ]
    },
    {
     "name": "stderr",
     "output_type": "stream",
     "text": [
      "\r",
      " 10%|███████▍                                                                  | 100/1000 [2:27:17<22:52:41, 91.51s/it]"
     ]
    },
    {
     "name": "stdout",
     "output_type": "stream",
     "text": [
      "[INFO] [2021-11-21 17:37:35,106] [OpenBox-Shadan] Iteration 101, objective value: [32.36616887872624].\n"
     ]
    },
    {
     "name": "stderr",
     "output_type": "stream",
     "text": [
      "\r",
      " 10%|███████▍                                                                  | 101/1000 [2:28:51<23:02:00, 92.24s/it]"
     ]
    },
    {
     "name": "stdout",
     "output_type": "stream",
     "text": [
      "[INFO] [2021-11-21 17:39:00,946] [OpenBox-Shadan] Iteration 102, objective value: [35.48935432136547].\n"
     ]
    },
    {
     "name": "stderr",
     "output_type": "stream",
     "text": [
      "\r",
      " 10%|███████▌                                                                  | 102/1000 [2:30:17<22:31:44, 90.32s/it]"
     ]
    },
    {
     "name": "stdout",
     "output_type": "stream",
     "text": [
      "[INFO] [2021-11-21 17:40:26,988] [OpenBox-Shadan] Iteration 103, objective value: [39.184246352092266].\n"
     ]
    },
    {
     "name": "stderr",
     "output_type": "stream",
     "text": [
      "\r",
      " 10%|███████▌                                                                  | 103/1000 [2:31:43<22:11:04, 89.03s/it]"
     ]
    },
    {
     "name": "stdout",
     "output_type": "stream",
     "text": [
      "[INFO] [2021-11-21 17:42:06,436] [OpenBox-Shadan] Iteration 104, objective value: [30.981496354686456].\n"
     ]
    },
    {
     "name": "stderr",
     "output_type": "stream",
     "text": [
      "\r",
      " 10%|███████▋                                                                  | 104/1000 [2:33:22<22:56:14, 92.16s/it]"
     ]
    },
    {
     "name": "stdout",
     "output_type": "stream",
     "text": [
      "[INFO] [2021-11-21 17:43:42,388] [OpenBox-Shadan] Iteration 105, objective value: [32.27028880455937].\n"
     ]
    },
    {
     "name": "stderr",
     "output_type": "stream",
     "text": [
      "\r",
      " 10%|███████▊                                                                  | 105/1000 [2:34:58<23:11:40, 93.30s/it]"
     ]
    },
    {
     "name": "stdout",
     "output_type": "stream",
     "text": [
      "[INFO] [2021-11-21 17:45:16,085] [OpenBox-Shadan] Iteration 106, objective value: [48.862943146277146].\n"
     ]
    },
    {
     "name": "stderr",
     "output_type": "stream",
     "text": [
      "\r",
      " 11%|███████▊                                                                  | 106/1000 [2:36:32<23:11:54, 93.42s/it]"
     ]
    },
    {
     "name": "stdout",
     "output_type": "stream",
     "text": [
      "[INFO] [2021-11-21 17:46:46,738] [OpenBox-Shadan] Iteration 107, objective value: [45.1113798812154].\n"
     ]
    },
    {
     "name": "stderr",
     "output_type": "stream",
     "text": [
      "\r",
      " 11%|███████▉                                                                  | 107/1000 [2:38:02<22:58:00, 92.59s/it]"
     ]
    },
    {
     "name": "stdout",
     "output_type": "stream",
     "text": [
      "[INFO] [2021-11-21 17:48:28,011] [OpenBox-Shadan] Iteration 108, objective value: [35.8356815907827].\n"
     ]
    },
    {
     "name": "stderr",
     "output_type": "stream",
     "text": [
      "\r",
      " 11%|███████▉                                                                  | 108/1000 [2:39:44<23:35:12, 95.19s/it]"
     ]
    },
    {
     "name": "stdout",
     "output_type": "stream",
     "text": [
      "[INFO] [2021-11-21 17:50:07,436] [OpenBox-Shadan] Iteration 109, objective value: [38.35064455612708].\n"
     ]
    },
    {
     "name": "stderr",
     "output_type": "stream",
     "text": [
      "\r",
      " 11%|████████                                                                  | 109/1000 [2:41:23<23:52:28, 96.46s/it]"
     ]
    },
    {
     "name": "stdout",
     "output_type": "stream",
     "text": [
      "[INFO] [2021-11-21 17:51:50,010] [OpenBox-Shadan] Iteration 110, objective value: [31.174661211707217].\n"
     ]
    },
    {
     "name": "stderr",
     "output_type": "stream",
     "text": [
      "\r",
      " 11%|████████▏                                                                 | 110/1000 [2:43:06<24:18:03, 98.30s/it]"
     ]
    },
    {
     "name": "stdout",
     "output_type": "stream",
     "text": [
      "[INFO] [2021-11-21 17:53:29,023] [OpenBox-Shadan] Iteration 111, objective value: [34.38453884583397].\n"
     ]
    },
    {
     "name": "stderr",
     "output_type": "stream",
     "text": [
      "\r",
      " 11%|████████▏                                                                 | 111/1000 [2:44:45<24:19:36, 98.51s/it]"
     ]
    },
    {
     "name": "stdout",
     "output_type": "stream",
     "text": [
      "[INFO] [2021-11-21 17:55:11,515] [OpenBox-Shadan] Iteration 112, objective value: [30.81233794211944].\n"
     ]
    },
    {
     "name": "stderr",
     "output_type": "stream",
     "text": [
      "\r",
      " 11%|████████▎                                                                 | 112/1000 [2:46:27<24:35:38, 99.71s/it]"
     ]
    },
    {
     "name": "stdout",
     "output_type": "stream",
     "text": [
      "[INFO] [2021-11-21 17:57:03,572] [OpenBox-Shadan] Iteration 113, objective value: [33.15015168637656].\n"
     ]
    },
    {
     "name": "stderr",
     "output_type": "stream",
     "text": [
      "\r",
      " 11%|████████▏                                                                | 113/1000 [2:48:19<25:28:45, 103.41s/it]"
     ]
    },
    {
     "name": "stdout",
     "output_type": "stream",
     "text": [
      "[INFO] [2021-11-21 17:58:47,856] [OpenBox-Shadan] Iteration 114, objective value: [39.503163319073785].\n"
     ]
    },
    {
     "name": "stderr",
     "output_type": "stream",
     "text": [
      "\r",
      " 11%|████████▎                                                                | 114/1000 [2:50:03<25:30:54, 103.67s/it]"
     ]
    },
    {
     "name": "stdout",
     "output_type": "stream",
     "text": [
      "[INFO] [2021-11-21 18:00:33,415] [OpenBox-Shadan] Iteration 115, objective value: [33.76765172575786].\n"
     ]
    },
    {
     "name": "stderr",
     "output_type": "stream",
     "text": [
      "\r",
      " 12%|████████▍                                                                | 115/1000 [2:51:49<25:37:31, 104.24s/it]"
     ]
    },
    {
     "name": "stdout",
     "output_type": "stream",
     "text": [
      "[INFO] [2021-11-21 18:02:11,880] [OpenBox-Shadan] Iteration 116, objective value: [28.492771288110347].\n"
     ]
    },
    {
     "name": "stderr",
     "output_type": "stream",
     "text": [
      "\r",
      " 12%|████████▍                                                                | 116/1000 [2:53:28<25:10:16, 102.51s/it]"
     ]
    },
    {
     "name": "stdout",
     "output_type": "stream",
     "text": [
      "[INFO] [2021-11-21 18:03:56,121] [OpenBox-Shadan] Iteration 117, objective value: [37.2178789521166].\n"
     ]
    },
    {
     "name": "stderr",
     "output_type": "stream",
     "text": [
      "\r",
      " 12%|████████▌                                                                | 117/1000 [2:55:12<25:16:12, 103.03s/it]"
     ]
    },
    {
     "name": "stdout",
     "output_type": "stream",
     "text": [
      "[INFO] [2021-11-21 18:05:26,318] [OpenBox-Shadan] Iteration 118, objective value: [38.346686822115764].\n"
     ]
    },
    {
     "name": "stderr",
     "output_type": "stream",
     "text": [
      "\r",
      " 12%|████████▋                                                                 | 118/1000 [2:56:42<24:17:54, 99.18s/it]"
     ]
    },
    {
     "name": "stdout",
     "output_type": "stream",
     "text": [
      "[INFO] [2021-11-21 18:06:51,819] [OpenBox-Shadan] Iteration 119, objective value: [33.79279634717277].\n"
     ]
    },
    {
     "name": "stderr",
     "output_type": "stream",
     "text": [
      "\r",
      " 12%|████████▊                                                                 | 119/1000 [2:58:07<23:16:00, 95.07s/it]"
     ]
    },
    {
     "name": "stdout",
     "output_type": "stream",
     "text": [
      "[INFO] [2021-11-21 18:08:41,493] [OpenBox-Shadan] Iteration 120, objective value: [41.21175521630107].\n"
     ]
    },
    {
     "name": "stderr",
     "output_type": "stream",
     "text": [
      "\r",
      " 12%|████████▉                                                                 | 120/1000 [2:59:57<24:18:40, 99.45s/it]"
     ]
    },
    {
     "name": "stdout",
     "output_type": "stream",
     "text": [
      "[INFO] [2021-11-21 18:10:18,826] [OpenBox-Shadan] Iteration 121, objective value: [40.69479798111809].\n"
     ]
    },
    {
     "name": "stderr",
     "output_type": "stream",
     "text": [
      "\r",
      " 12%|████████▉                                                                 | 121/1000 [3:01:34<24:07:41, 98.82s/it]"
     ]
    },
    {
     "name": "stdout",
     "output_type": "stream",
     "text": [
      "[INFO] [2021-11-21 18:11:54,818] [OpenBox-Shadan] Iteration 122, objective value: [34.98806310996051].\n"
     ]
    },
    {
     "name": "stderr",
     "output_type": "stream",
     "text": [
      "\r",
      " 12%|█████████                                                                 | 122/1000 [3:03:10<23:53:37, 97.97s/it]"
     ]
    },
    {
     "name": "stdout",
     "output_type": "stream",
     "text": [
      "[INFO] [2021-11-21 18:13:43,296] [OpenBox-Shadan] Iteration 123, objective value: [45.51716928658303].\n"
     ]
    },
    {
     "name": "stderr",
     "output_type": "stream",
     "text": [
      "\r",
      " 12%|████████▉                                                                | 123/1000 [3:04:59<24:38:04, 101.12s/it]"
     ]
    },
    {
     "name": "stdout",
     "output_type": "stream",
     "text": [
      "[INFO] [2021-11-21 18:15:14,912] [OpenBox-Shadan] Iteration 124, objective value: [37.533955870596046].\n"
     ]
    },
    {
     "name": "stderr",
     "output_type": "stream",
     "text": [
      "\r",
      " 12%|█████████▏                                                                | 124/1000 [3:06:31<23:54:44, 98.27s/it]"
     ]
    },
    {
     "name": "stdout",
     "output_type": "stream",
     "text": [
      "[INFO] [2021-11-21 18:16:51,683] [OpenBox-Shadan] Iteration 125, objective value: [33.3213162046183].\n"
     ]
    },
    {
     "name": "stderr",
     "output_type": "stream",
     "text": [
      "\r",
      " 12%|█████████▎                                                                | 125/1000 [3:08:07<23:46:33, 97.82s/it]"
     ]
    },
    {
     "name": "stdout",
     "output_type": "stream",
     "text": [
      "[INFO] [2021-11-21 18:18:19,920] [OpenBox-Shadan] Iteration 126, objective value: [32.26212209903119].\n"
     ]
    },
    {
     "name": "stderr",
     "output_type": "stream",
     "text": [
      "\r",
      " 13%|█████████▎                                                                | 126/1000 [3:09:36<23:03:02, 94.95s/it]"
     ]
    },
    {
     "name": "stdout",
     "output_type": "stream",
     "text": [
      "[INFO] [2021-11-21 18:19:55,897] [OpenBox-Shadan] Iteration 127, objective value: [32.96798166283381].\n"
     ]
    },
    {
     "name": "stderr",
     "output_type": "stream",
     "text": [
      "\r",
      " 13%|█████████▍                                                                | 127/1000 [3:11:12<23:05:57, 95.25s/it]"
     ]
    },
    {
     "name": "stdout",
     "output_type": "stream",
     "text": [
      "[INFO] [2021-11-21 18:21:29,760] [OpenBox-Shadan] Iteration 128, objective value: [40.48315743500519].\n"
     ]
    },
    {
     "name": "stderr",
     "output_type": "stream",
     "text": [
      "\r",
      " 13%|█████████▍                                                                | 128/1000 [3:12:45<22:58:18, 94.84s/it]"
     ]
    },
    {
     "name": "stdout",
     "output_type": "stream",
     "text": [
      "[INFO] [2021-11-21 18:22:58,885] [OpenBox-Shadan] Iteration 129, objective value: [47.84285852084938].\n"
     ]
    },
    {
     "name": "stderr",
     "output_type": "stream",
     "text": [
      "\r",
      " 13%|█████████▌                                                                | 129/1000 [3:14:15<22:31:50, 93.12s/it]"
     ]
    },
    {
     "name": "stdout",
     "output_type": "stream",
     "text": [
      "[INFO] [2021-11-21 18:24:35,055] [OpenBox-Shadan] Iteration 130, objective value: [36.16836984428701].\n"
     ]
    },
    {
     "name": "stderr",
     "output_type": "stream",
     "text": [
      "\r",
      " 13%|█████████▌                                                                | 130/1000 [3:15:51<22:43:32, 94.04s/it]"
     ]
    },
    {
     "name": "stdout",
     "output_type": "stream",
     "text": [
      "[INFO] [2021-11-21 18:26:11,471] [OpenBox-Shadan] Iteration 131, objective value: [45.82826967581652].\n"
     ]
    },
    {
     "name": "stderr",
     "output_type": "stream",
     "text": [
      "\r",
      " 13%|█████████▋                                                                | 131/1000 [3:17:27<22:52:18, 94.75s/it]"
     ]
    },
    {
     "name": "stdout",
     "output_type": "stream",
     "text": [
      "[INFO] [2021-11-21 18:27:38,136] [OpenBox-Shadan] Iteration 132, objective value: [45.07176527041889].\n"
     ]
    },
    {
     "name": "stderr",
     "output_type": "stream",
     "text": [
      "\r",
      " 13%|█████████▊                                                                | 132/1000 [3:18:54<22:15:38, 92.33s/it]"
     ]
    },
    {
     "name": "stdout",
     "output_type": "stream",
     "text": [
      "[INFO] [2021-11-21 18:29:09,984] [OpenBox-Shadan] Iteration 133, objective value: [27.924141646673306].\n"
     ]
    },
    {
     "name": "stderr",
     "output_type": "stream",
     "text": [
      "\r",
      " 13%|█████████▊                                                                | 133/1000 [3:20:26<22:12:01, 92.18s/it]"
     ]
    },
    {
     "name": "stdout",
     "output_type": "stream",
     "text": [
      "[INFO] [2021-11-21 18:30:50,369] [OpenBox-Shadan] Iteration 134, objective value: [28.33946771817152].\n"
     ]
    },
    {
     "name": "stderr",
     "output_type": "stream",
     "text": [
      "\r",
      " 13%|█████████▉                                                                | 134/1000 [3:22:06<22:46:00, 94.64s/it]"
     ]
    },
    {
     "name": "stdout",
     "output_type": "stream",
     "text": [
      "[INFO] [2021-11-21 18:32:13,487] [OpenBox-Shadan] Iteration 135, objective value: [33.810457125416775].\n"
     ]
    },
    {
     "name": "stderr",
     "output_type": "stream",
     "text": [
      "\r",
      " 14%|█████████▉                                                                | 135/1000 [3:23:29<21:54:35, 91.19s/it]"
     ]
    },
    {
     "name": "stdout",
     "output_type": "stream",
     "text": [
      "[INFO] [2021-11-21 18:33:57,013] [OpenBox-Shadan] Iteration 136, objective value: [27.373431822222003].\n"
     ]
    },
    {
     "name": "stderr",
     "output_type": "stream",
     "text": [
      "\r",
      " 14%|██████████                                                                | 136/1000 [3:25:13<22:46:23, 94.89s/it]"
     ]
    },
    {
     "name": "stdout",
     "output_type": "stream",
     "text": [
      "[INFO] [2021-11-21 18:35:47,958] [OpenBox-Shadan] Iteration 137, objective value: [50.314038607117276].\n"
     ]
    },
    {
     "name": "stderr",
     "output_type": "stream",
     "text": [
      "\r",
      " 14%|██████████▏                                                               | 137/1000 [3:27:04<23:54:05, 99.71s/it]"
     ]
    },
    {
     "name": "stdout",
     "output_type": "stream",
     "text": [
      "[INFO] [2021-11-21 18:37:13,954] [OpenBox-Shadan] Iteration 138, objective value: [32.05192602058274].\n"
     ]
    },
    {
     "name": "stderr",
     "output_type": "stream",
     "text": [
      "\r",
      " 14%|██████████▏                                                               | 138/1000 [3:28:30<22:53:20, 95.59s/it]"
     ]
    },
    {
     "name": "stdout",
     "output_type": "stream",
     "text": [
      "[INFO] [2021-11-21 18:39:06,650] [OpenBox-Shadan] Iteration 139, objective value: [39.06596084021824].\n"
     ]
    },
    {
     "name": "stderr",
     "output_type": "stream",
     "text": [
      "\r",
      " 14%|██████████▏                                                              | 139/1000 [3:30:22<24:05:22, 100.72s/it]"
     ]
    },
    {
     "name": "stdout",
     "output_type": "stream",
     "text": [
      "[INFO] [2021-11-21 18:40:41,424] [OpenBox-Shadan] Iteration 140, objective value: [43.692237341520546].\n"
     ]
    },
    {
     "name": "stderr",
     "output_type": "stream",
     "text": [
      "\r",
      " 14%|██████████▎                                                               | 140/1000 [3:31:57<23:38:06, 98.94s/it]"
     ]
    },
    {
     "name": "stdout",
     "output_type": "stream",
     "text": [
      "[INFO] [2021-11-21 18:42:18,164] [OpenBox-Shadan] Iteration 141, objective value: [32.86207695436261].\n"
     ]
    },
    {
     "name": "stderr",
     "output_type": "stream",
     "text": [
      "\r",
      " 14%|██████████▍                                                               | 141/1000 [3:33:34<23:27:01, 98.28s/it]"
     ]
    },
    {
     "name": "stdout",
     "output_type": "stream",
     "text": [
      "[INFO] [2021-11-21 18:43:54,262] [OpenBox-Shadan] Iteration 142, objective value: [36.76683206563634].\n"
     ]
    },
    {
     "name": "stderr",
     "output_type": "stream",
     "text": [
      "\r",
      " 14%|██████████▌                                                               | 142/1000 [3:35:10<23:16:02, 97.62s/it]"
     ]
    },
    {
     "name": "stdout",
     "output_type": "stream",
     "text": [
      "[INFO] [2021-11-21 18:45:31,814] [OpenBox-Shadan] Iteration 143, objective value: [31.389264774171295].\n"
     ]
    },
    {
     "name": "stderr",
     "output_type": "stream",
     "text": [
      "\r",
      " 14%|██████████▌                                                               | 143/1000 [3:36:47<23:14:05, 97.60s/it]"
     ]
    },
    {
     "name": "stdout",
     "output_type": "stream",
     "text": [
      "[INFO] [2021-11-21 18:47:15,229] [OpenBox-Shadan] Iteration 144, objective value: [31.122062456193888].\n"
     ]
    },
    {
     "name": "stderr",
     "output_type": "stream",
     "text": [
      "\r",
      " 14%|██████████▋                                                               | 144/1000 [3:38:31<23:37:20, 99.35s/it]"
     ]
    },
    {
     "name": "stdout",
     "output_type": "stream",
     "text": [
      "[INFO] [2021-11-21 18:48:51,464] [OpenBox-Shadan] Iteration 145, objective value: [39.269622381283206].\n"
     ]
    },
    {
     "name": "stderr",
     "output_type": "stream",
     "text": [
      "\r",
      " 14%|██████████▋                                                               | 145/1000 [3:40:07<23:22:23, 98.41s/it]"
     ]
    },
    {
     "name": "stdout",
     "output_type": "stream",
     "text": [
      "[INFO] [2021-11-21 18:50:34,660] [OpenBox-Shadan] Iteration 146, objective value: [30.308784952499863].\n"
     ]
    },
    {
     "name": "stderr",
     "output_type": "stream",
     "text": [
      "\r",
      " 15%|██████████▊                                                               | 146/1000 [3:41:50<23:41:09, 99.85s/it]"
     ]
    },
    {
     "name": "stdout",
     "output_type": "stream",
     "text": [
      "[INFO] [2021-11-21 18:52:17,182] [OpenBox-Shadan] Iteration 147, objective value: [33.38409739321145].\n"
     ]
    },
    {
     "name": "stderr",
     "output_type": "stream",
     "text": [
      "\r",
      " 15%|██████████▋                                                              | 147/1000 [3:43:33<23:50:54, 100.65s/it]"
     ]
    },
    {
     "name": "stdout",
     "output_type": "stream",
     "text": [
      "[INFO] [2021-11-21 18:53:46,747] [OpenBox-Shadan] Iteration 148, objective value: [28.687687147538767].\n"
     ]
    },
    {
     "name": "stderr",
     "output_type": "stream",
     "text": [
      "\r",
      " 15%|██████████▉                                                               | 148/1000 [3:45:02<23:02:00, 97.32s/it]"
     ]
    },
    {
     "name": "stdout",
     "output_type": "stream",
     "text": [
      "[INFO] [2021-11-21 18:55:15,054] [OpenBox-Shadan] Iteration 149, objective value: [32.44051203922797].\n"
     ]
    },
    {
     "name": "stderr",
     "output_type": "stream",
     "text": [
      "\r",
      " 15%|███████████                                                               | 149/1000 [3:46:31<22:22:00, 94.62s/it]"
     ]
    }
   ],
   "source": [
    "CONSTANTS = {\n",
    "    'iterations': 100,\n",
    "    'initial_samples': 10,\n",
    "    'restarts_number': 10,\n",
    "    'raw_samples': 10,\n",
    "    'candidates_num': 1,\n",
    "    'sequential': True,\n",
    "    'epsilon': 1,\n",
    "    'radius': 1,\n",
    "    'height': 8.0,\n",
    "    'width': 8.0,\n",
    "    'max_sensors': 15\n",
    "}\n",
    "\n",
    "runningOnGoogleColab = False\n",
    "    \n",
    "if __name__ ==  '__main__':\n",
    "    import sys\n",
    "\n",
    "    # if (runningOnGoogleColab == True):\n",
    "    #     from google.colab import drive    \n",
    "    #     drive.mount('/content/gdrive', force_remount=True)\n",
    "    #     Data_path = 'gdrive/My Drive/PhD/Thesis/Ideas/Codes/Sensor Simulator/'\n",
    "    #     sys.path.append('gdrive/My Drive/PhD/Thesis/Ideas/Codes/Sensor Simulator/')\n",
    "        \n",
    "    # else:\n",
    "    #     Data_path = '../../Codes/Sensor Simulator/'\n",
    "    #     sys.path.append('../../Codes/Sensor Simulator/')\n",
    "\n",
    "    if (runningOnGoogleColab == True):\n",
    "        from google.colab import drive    \n",
    "        drive.mount('/content/gdrive', force_remount=True)\n",
    "        Data_path = 'gdrive/My Drive/PhD/Thesis/Ideas/Codes/SensorDeploymentOptimization/'\n",
    "        sys.path.append('gdrive/My Drive/PhD/Thesis/Ideas/Codes/SensorDeploymentOptimization/')\n",
    "\n",
    "    else:\n",
    "        Data_path = '../../Codes/SensorDeploymentOptimization/'\n",
    "        # sys.path.append('../../Codes/SensorDeploymentOptimization/')\n",
    "        sys.path.append('..')\n",
    "    \n",
    "    # from ax import optimize, ChoiceParameter\n",
    "    from scipy.stats import norm\n",
    "    from numpy import argmax\n",
    "    import SIM_SIS_Libraries.SensorsClass\n",
    "    import SIM_SIS_Libraries.SIM_SIS_Simulator as sim_sis\n",
    "    import SIM_SIS_Libraries.ParseFunctions as pf\n",
    "    import itertools\n",
    "    import numpy as np\n",
    "    import pandas as pd\n",
    "    import SIM_SIS_Libraries.PreDeploymentEvaluation as pde\n",
    "    import copy\n",
    "    from datetime import datetime\n",
    "    import pytz\n",
    "    import ast\n",
    "    import os\n",
    "    import random\n",
    "    import plotly\n",
    "    import torch\n",
    "\n",
    "    finalResults = []\n",
    "    w = CONSTANTS['width'] - 0.5\n",
    "    h = CONSTANTS['height'] - 0.5\n",
    "\n",
    "    dataBoundaries = MakeDataBoundaries(\n",
    "                                        height = CONSTANTS['height'], \n",
    "                                        width = CONSTANTS['width'], \n",
    "                                        MaxSensors = CONSTANTS['max_sensors']\n",
    "                                       )\n",
    "\n",
    "    BOV =  BOVariables(\n",
    "                       Data_path, \n",
    "                       CONSTANTS['epsilon'], \n",
    "                       CONSTANTS['max_sensors'], \n",
    "                       CONSTANTS['max_sensors'], \n",
    "                       CONSTANTS['radius'],\n",
    "                       CONSTANTS['initial_samples'],\n",
    "                       ROS = True\n",
    "                      )\n",
    "\n",
    "    from openbox import sp\n",
    "    \n",
    "\n",
    "    # Define Search Space\n",
    "    space = sp.Space()\n",
    "\n",
    "    list_of_variables = []\n",
    "    for i in range(1, CONSTANTS['max_sensors'] + 1):\n",
    "        x = sp.Int(\"x\" + str(i), 1, CONSTANTS['width'] - 1, default_value=1)\n",
    "        y = sp.Int(\"y\" + str(i), 1, CONSTANTS['height'] - 1, default_value=1)\n",
    "        list_of_variables.append(x)\n",
    "        list_of_variables.append(y)\n",
    "    \n",
    "    space.add_variables(list_of_variables)\n",
    "\n",
    "    from openbox import Optimizer\n",
    "\n",
    "    history_list = []\n",
    "    for index in range(10):\n",
    "        opt = Optimizer(\n",
    "            function_to_be_optimized,\n",
    "            space,\n",
    "            # num_objs=2,\n",
    "            max_runs=1000,\n",
    "            surrogate_type='prf',\n",
    "            # acq_type = 'ehvi',\n",
    "            acq_optimizer_type='random_scipy',\n",
    "            time_limit_per_trial=31000,\n",
    "            task_id='Shadan',\n",
    "            # init_strategy='sobol',\n",
    "            # ref_point=[100, 15]\n",
    "        )\n",
    "        history = opt.run()\n",
    "        \n",
    "        import pickle\n",
    "\n",
    "        with open('.\\openbox_results_single_objective_ROS\\history1_' + str(index), 'wb') as handle:\n",
    "            pickle.dump(history, handle, protocol=pickle.HIGHEST_PROTOCOL)\n",
    "        \n",
    "        history_list.append(history)"
   ]
  },
  {
   "cell_type": "code",
   "execution_count": null,
   "metadata": {
    "id": "BtPTAKm8vYAB"
   },
   "outputs": [],
   "source": [
    "def my_plot_convergence(\n",
    "            results,\n",
    "            xlabel=\"Number of iterations $n$\",\n",
    "            ylabel=r\"Min objective value after $n$ iterations\",\n",
    "            ax=None, name=None, alpha=0.2, yscale=None,\n",
    "            color=None, true_minimum=None,\n",
    "            **kwargs):\n",
    "        \"\"\"Plot one or several convergence traces.\n",
    "        Parameters\n",
    "        ----------\n",
    "        args[i] :  `OptimizeResult`, list of `OptimizeResult`, or tuple\n",
    "            The result(s) for which to plot the convergence trace.\n",
    "            - if `OptimizeResult`, then draw the corresponding single trace;\n",
    "            - if list of `OptimizeResult`, then draw the corresponding convergence\n",
    "              traces in transparency, along with the average convergence trace;\n",
    "            - if tuple, then `args[i][0]` should be a string label and `args[i][1]`\n",
    "              an `OptimizeResult` or a list of `OptimizeResult`.\n",
    "        ax : `Axes`, optional\n",
    "            The matplotlib axes on which to draw the plot, or `None` to create\n",
    "            a new one.\n",
    "        true_minimum : float, optional\n",
    "            The true minimum value of the function, if known.\n",
    "        yscale : None or string, optional\n",
    "            The scale for the y-axis.\n",
    "        Returns\n",
    "        -------\n",
    "        ax : `Axes`\n",
    "            The matplotlib axes.\n",
    "        \"\"\"\n",
    "        losses = list(results)\n",
    "\n",
    "        n_calls = len(losses)\n",
    "        iterations = range(1, n_calls + 1)\n",
    "        maxs = [np.max(losses[:i]) for i in iterations]\n",
    "        min_maxs = min(maxs)\n",
    "        cliped_losses = np.clip(losses, min_maxs, None)\n",
    "        return plot_convergence(iterations, maxs, cliped_losses, xlabel, ylabel, ax, name, alpha, yscale, color,\n",
    "                                true_minimum, **kwargs)\n",
    "    \n",
    "def plot_convergence(\n",
    "        x, y1, y2,\n",
    "        xlabel=\"Number of iterations $n$\",\n",
    "        ylabel=r\"Min objective value after $n$ iterations\",\n",
    "        ax=None, name=None, alpha=0.2, yscale=None,\n",
    "        color=None, true_minimum=None,\n",
    "        **kwargs):\n",
    "    \"\"\"Plot one or several convergence traces.\n",
    "    Parameters\n",
    "    ----------\n",
    "    args[i] :  `OptimizeResult`, list of `OptimizeResult`, or tuple\n",
    "        The result(s) for which to plot the convergence trace.\n",
    "        - if `OptimizeResult`, then draw the corresponding single trace;\n",
    "        - if list of `OptimizeResult`, then draw the corresponding convergence\n",
    "          traces in transparency, along with the average convergence trace;\n",
    "        - if tuple, then `args[i][0]` should be a string label and `args[i][1]`\n",
    "          an `OptimizeResult` or a list of `OptimizeResult`.\n",
    "    ax : `Axes`, optional\n",
    "        The matplotlib axes on which to draw the plot, or `None` to create\n",
    "        a new one.\n",
    "    true_minimum : float, optional\n",
    "        The true minimum value of the function, if known.\n",
    "    yscale : None or string, optional\n",
    "        The scale for the y-axis.\n",
    "    Returns\n",
    "    -------\n",
    "    ax : `Axes`\n",
    "        The matplotlib axes.\n",
    "    \"\"\"\n",
    "    if ax is None:\n",
    "        ax = plt.gca()\n",
    "\n",
    "    ax.set_title(\"Convergence plot\")\n",
    "    ax.set_xlabel(xlabel)\n",
    "    ax.set_ylabel(ylabel)\n",
    "    ax.grid()\n",
    "\n",
    "    if yscale is not None:\n",
    "        ax.set_yscale(yscale)\n",
    "\n",
    "    ax.plot(x, y1, c=color, label=name, **kwargs)\n",
    "    ax.scatter(x, y2, c=color, alpha=alpha)\n",
    "\n",
    "    if true_minimum is not None:\n",
    "        ax.axhline(true_minimum, linestyle=\"--\",\n",
    "                   color=\"r\", lw=1,\n",
    "                   label=\"True minimum\")\n",
    "\n",
    "    if true_minimum is not None or name is not None:\n",
    "        ax.legend(loc=\"upper right\")\n",
    "    return ax"
   ]
  },
  {
   "cell_type": "code",
   "execution_count": null,
   "metadata": {
    "id": "yL1BHDiqvYAC"
   },
   "outputs": [],
   "source": [
    "import os\n",
    "from openbox.utils import history_container\n",
    "\n",
    "history_list = []\n",
    "\n",
    "\n",
    "for filename in os.listdir('.\\openbox_results'):\n",
    "    history = history_container.HistoryContainer(task_id = 'SPO')\n",
    "    hist = history.load_history_from_json(cs = space, fn = '.\\openbox_results\\\\' + filename)\n",
    "    history_list.append(hist)"
   ]
  },
  {
   "cell_type": "code",
   "execution_count": null,
   "metadata": {
    "id": "5zfQ20GVvYAC"
   },
   "outputs": [],
   "source": [
    "for c in history_list[0].items():\n",
    "    print(c[1])"
   ]
  },
  {
   "cell_type": "code",
   "execution_count": null,
   "metadata": {
    "id": "q9gem00-vYAD"
   },
   "outputs": [],
   "source": []
  },
  {
   "cell_type": "code",
   "execution_count": null,
   "metadata": {
    "id": "uzoAtQ3G0Hcs",
    "scrolled": true
   },
   "outputs": [],
   "source": [
    "import matplotlib.pyplot as plt\n",
    "from matplotlib.pyplot import figure\n",
    "\n",
    "for i in range(len(history_list)):\n",
    "    # print(hist)\n",
    "    # for c in history_list[0].items():\n",
    "    # print(c[1])\n",
    "    # hist.plot_convergence()\n",
    "    # l = [100 - p for p in hist.perfs]\n",
    "    # figure(figsize=(8, 6), dpi=80)\n",
    "    # print(max(l))\n",
    "    # print(min(l))\n",
    "    # data = history_list[i].items()\n",
    "    # print(data[1])\n",
    "    # my_plot_convergence(results = data) \n",
    "    # plt.show()\n",
    "    data = []\n",
    "    for c in history_list[i].items():\n",
    "        data.append(100 - c[1])\n",
    "    \n",
    "    # print(data)\n",
    "    my_plot_convergence(results = data)\n",
    "    plt.show()\n"
   ]
  },
  {
   "cell_type": "code",
   "execution_count": null,
   "metadata": {
    "id": "ABM9t2BYvYAD"
   },
   "outputs": [],
   "source": [
    "history_list"
   ]
  },
  {
   "cell_type": "code",
   "execution_count": null,
   "metadata": {
    "id": "HJS1MYZlvYAD",
    "scrolled": true
   },
   "outputs": [],
   "source": [
    "    \n",
    "for index, history in enumerate(history_list):\n",
    "    # print(history.perfs)\n",
    "    figure(figsize=(8, 6), dpi=80)\n",
    "    history.plot_convergence()\n",
    "    print(history.min_y)\n",
    "    plt.show()"
   ]
  },
  {
   "cell_type": "code",
   "execution_count": null,
   "metadata": {
    "id": "9FssGdbTvYAE"
   },
   "outputs": [],
   "source": [
    "rooms = {'bedroom': [(3.9, 0.0), (8.0, 4.1)],\n",
    "         'livingroom': [(0.0, 1.9), (6.3, 4.3)],\n",
    "         'diningroom': [(0.0, 3.0), (2.6, 8.0)],\n",
    "         'kitchen': [(0.0, 3.0), (2.6, 8.0)],\n",
    "         'bathroom': [(6.1, 3.3), (8.0, 6.4)],\n",
    "\t\t 'storage': [(2.8, 6.7), (8.0, 8.0)]} "
   ]
  },
  {
   "cell_type": "code",
   "execution_count": null,
   "metadata": {
    "id": "aLur5sDgvYAE"
   },
   "outputs": [],
   "source": [
    "A = [(([4, 8], 'storage', 'motion sensors'), ([6, 4], 'bedroom', 'motion sensors'), ([7, 5], 'bathroom', 'motion sensors'), ([3, 8], 'storage', 'motion sensors'), ([4, 8], 'storage', 'motion sensors'), ([8, 6], 'bathroom', 'motion sensors'), ([8, 0], 'bedroom', 'motion sensors'), ([8, 5], 'bathroom', 'motion sensors'), ([8, 4], 'bedroom', 'motion sensors'), ([3, 3], 'livingroom', 'motion sensors'), ([8, 4], 'bedroom', 'motion sensors'), ([3, 3], 'livingroom', 'motion sensors'), ([5, 6], 'livingroom', 'motion sensors'), ([1, 8], 'diningroom', 'motion sensors'), ([1, 8], 'diningroom', 'motion sensors'))]"
   ]
  },
  {
   "cell_type": "code",
   "execution_count": null,
   "metadata": {
    "id": "g_VJlxKGvYAE"
   },
   "outputs": [],
   "source": [
    "A"
   ]
  },
  {
   "cell_type": "code",
   "execution_count": null,
   "metadata": {
    "id": "IhfVhpSzvYAE"
   },
   "outputs": [],
   "source": [
    "for a in A:\n",
    "    for aa in a:\n",
    "        print(aa)\n",
    "        print('----')"
   ]
  },
  {
   "cell_type": "code",
   "execution_count": null,
   "metadata": {
    "id": "AjImTJpQDoTO"
   },
   "outputs": [],
   "source": [
    "df = pd.DataFrame(np.random.randint(0,100,size=(100, 4)), columns=list('ABCD'))"
   ]
  },
  {
   "cell_type": "code",
   "execution_count": null,
   "metadata": {
    "id": "1eUlZ-CeD0uM"
   },
   "outputs": [],
   "source": [
    "df"
   ]
  },
  {
   "cell_type": "code",
   "execution_count": null,
   "metadata": {
    "id": "wPQRBUTNvYAF"
   },
   "outputs": [],
   "source": []
  },
  {
   "cell_type": "code",
   "execution_count": null,
   "metadata": {
    "id": "narqJZSiDnaE"
   },
   "outputs": [],
   "source": [
    "df"
   ]
  },
  {
   "cell_type": "code",
   "execution_count": null,
   "metadata": {
    "id": "0JS8u62tERjp"
   },
   "outputs": [],
   "source": []
  }
 ],
 "metadata": {
  "colab": {
   "collapsed_sections": [],
   "machine_shape": "hm",
   "name": "OpenBox Final2.ipynb",
   "provenance": [
    {
     "file_id": "1swbtZSRLMPhKLusMYl4JguoWZEapxz9K",
     "timestamp": 1635560559445
    }
   ],
   "toc_visible": true
  },
  "kernelspec": {
   "display_name": "Python 3",
   "language": "python",
   "name": "python3"
  },
  "language_info": {
   "codemirror_mode": {
    "name": "ipython",
    "version": 3
   },
   "file_extension": ".py",
   "mimetype": "text/x-python",
   "name": "python",
   "nbconvert_exporter": "python",
   "pygments_lexer": "ipython3",
   "version": "3.9.0"
  }
 },
 "nbformat": 4,
 "nbformat_minor": 1
}
