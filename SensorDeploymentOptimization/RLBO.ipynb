{
 "cells": [
  {
   "cell_type": "code",
   "execution_count": null,
   "metadata": {
    "scrolled": false
   },
   "outputs": [
    {
     "name": "stdout",
     "output_type": "stream",
     "text": [
      "----- Running BO with: \n",
      " \t - epsilon:  0.5 \n",
      " \t - LS sensors #: 11 \n",
      " \t - IS sensors #: 0  \n",
      " \t - initial state:  random\n",
      "Processing Region of Similarity... [COMPLETED]\n",
      "adviser type is default...\n",
      "[INFO] [2022-12-16 18:08:49,923] [Advisor] === [BO auto selection] === surrogate_type: prf. acq_optimizer_type: local_random.\n",
      "--------------------------------------------------\n",
      "self.acq_type  kg\n",
      "acq_optimizer_type  local_random\n",
      "self.num_objs  1\n",
      "self.surrogate_model  None\n",
      "self.num_constraints  0\n",
      "--------------------------------------------------\n",
      "[Build Surrogate] Use probabilistic random forest based on scikit-learn. For better performance, please install pyrfr: https://open-box.readthedocs.io/en/latest/installation/install_pyrfr.html\n"
     ]
    },
    {
     "name": "stderr",
     "output_type": "stream",
     "text": [
      "\r",
      "  0%|                                                                                                                                                                                           | 0/1000 [00:00<?, ?it/s]"
     ]
    },
    {
     "name": "stdout",
     "output_type": "stream",
     "text": [
      "[INFO] [2022-12-16 18:09:32,643] [OpenBox-SPO] Iteration 1, objective value: [42.22514116943952].\n"
     ]
    },
    {
     "name": "stderr",
     "output_type": "stream",
     "text": [
      "\r",
      "  0%|▏                                                                                                                                                                               | 1/1000 [00:42<11:50:52, 42.70s/it]"
     ]
    },
    {
     "name": "stdout",
     "output_type": "stream",
     "text": [
      "\n",
      "\t ----- tradeoff_buffer: 0 ----- \n",
      "\t ----- reward: 0.5777485883056048 for f_star and f_minus: 100 , 42.22514116943952\n",
      "[INFO] [2022-12-16 18:10:30,898] [OpenBox-SPO] Iteration 2, objective value: [40.65061947758135].\n"
     ]
    },
    {
     "name": "stderr",
     "output_type": "stream",
     "text": [
      "\r",
      "  0%|▎                                                                                                                                                                               | 2/1000 [01:40<14:22:22, 51.85s/it]"
     ]
    },
    {
     "name": "stdout",
     "output_type": "stream",
     "text": [
      "\n",
      "\t ----- tradeoff_buffer: 1 ----- \n",
      "\t ----- reward: 0.5934938052241865 for f_star and f_minus: 100 , 40.65061947758135\n",
      "[INFO] [2022-12-16 18:11:22,764] [OpenBox-SPO] Iteration 3, objective value: [52.36020402882463].\n"
     ]
    },
    {
     "name": "stderr",
     "output_type": "stream",
     "text": [
      "\r",
      "  0%|▌                                                                                                                                                                               | 3/1000 [02:32<14:21:39, 51.86s/it]"
     ]
    },
    {
     "name": "stdout",
     "output_type": "stream",
     "text": [
      "\n",
      "\t ----- tradeoff_buffer: 4 ----- \n",
      "\t ----- reward: -1 for f_star and f_minus: 100 , 52.36020402882463\n",
      "[INFO] [2022-12-16 18:12:09,380] [OpenBox-SPO] Iteration 4, objective value: [52.778085714186595].\n"
     ]
    },
    {
     "name": "stderr",
     "output_type": "stream",
     "text": [
      "\r",
      "  0%|▋                                                                                                                                                                               | 4/1000 [03:19<13:46:28, 49.79s/it]"
     ]
    },
    {
     "name": "stdout",
     "output_type": "stream",
     "text": [
      "\n",
      "\t ----- tradeoff_buffer: 8 ----- \n",
      "\t ----- reward: -1 for f_star and f_minus: 100 , 52.778085714186595\n",
      "[INFO] [2022-12-16 18:13:01,112] [OpenBox-SPO] Iteration 5, objective value: [50.052148549080385].\n"
     ]
    },
    {
     "name": "stderr",
     "output_type": "stream",
     "text": [
      "\r",
      "  0%|▉                                                                                                                                                                               | 5/1000 [04:11<13:57:16, 50.49s/it]"
     ]
    },
    {
     "name": "stdout",
     "output_type": "stream",
     "text": [
      "\n",
      "\t ----- tradeoff_buffer: 7 ----- \n",
      "\t ----- reward: -1 for f_star and f_minus: 40.65061947758135 , 50.052148549080385\n",
      "[INFO] [2022-12-16 18:13:51,282] [OpenBox-SPO] Iteration 6, objective value: [54.35639647784627].\n"
     ]
    },
    {
     "name": "stderr",
     "output_type": "stream",
     "text": [
      "\r",
      "  1%|█                                                                                                                                                                               | 6/1000 [05:01<13:54:38, 50.38s/it]"
     ]
    },
    {
     "name": "stdout",
     "output_type": "stream",
     "text": [
      "\n",
      "\t ----- tradeoff_buffer: 10 ----- \n",
      "\t ----- reward: -1 for f_star and f_minus: 40.65061947758135 , 54.35639647784627\n",
      "[INFO] [2022-12-16 18:14:52,766] [OpenBox-SPO] Iteration 7, objective value: [51.20828533929151].\n"
     ]
    },
    {
     "name": "stderr",
     "output_type": "stream",
     "text": [
      "\r",
      "  1%|█▏                                                                                                                                                                              | 7/1000 [06:02<14:53:52, 54.01s/it]"
     ]
    },
    {
     "name": "stdout",
     "output_type": "stream",
     "text": [
      "\n",
      "\t ----- tradeoff_buffer: 10 ----- \n",
      "\t ----- reward: -1 for f_star and f_minus: 40.65061947758135 , 51.20828533929151\n",
      "[INFO] [2022-12-16 18:15:53,738] [OpenBox-SPO] Iteration 8, objective value: [56.72017235092922].\n"
     ]
    },
    {
     "name": "stderr",
     "output_type": "stream",
     "text": [
      "\r",
      "  1%|█▍                                                                                                                                                                              | 8/1000 [07:03<15:29:36, 56.23s/it]"
     ]
    },
    {
     "name": "stdout",
     "output_type": "stream",
     "text": [
      "\n",
      "\t ----- tradeoff_buffer: 15 ----- \n",
      "\t ----- reward: -1 for f_star and f_minus: 40.65061947758135 , 56.72017235092922\n",
      "[INFO] [2022-12-16 18:17:05,964] [OpenBox-SPO] Iteration 9, objective value: [49.5282866318698].\n"
     ]
    },
    {
     "name": "stderr",
     "output_type": "stream",
     "text": [
      "\r",
      "  1%|█▌                                                                                                                                                                              | 9/1000 [08:16<16:51:17, 61.23s/it]"
     ]
    },
    {
     "name": "stdout",
     "output_type": "stream",
     "text": [
      "\n",
      "\t ----- tradeoff_buffer: 10 ----- \n",
      "\t ----- reward: 0.5047171336813021 for f_star and f_minus: 40.65061947758135 , 49.5282866318698\n",
      "[INFO] [2022-12-16 18:18:13,742] [OpenBox-SPO] Iteration 10, objective value: [58.73323416509027].\n"
     ]
    },
    {
     "name": "stderr",
     "output_type": "stream",
     "text": [
      "\r",
      "  1%|█▊                                                                                                                                                                             | 10/1000 [09:23<17:23:37, 63.25s/it]"
     ]
    },
    {
     "name": "stdout",
     "output_type": "stream",
     "text": [
      "\n",
      "\t ----- tradeoff_buffer: 15 ----- \n",
      "\t ----- reward: -1 for f_star and f_minus: 40.65061947758135 , 58.73323416509027\n",
      "[INFO] [2022-12-16 18:19:16,439] [OpenBox-SPO] Iteration 11, objective value: [55.73668493841518].\n"
     ]
    },
    {
     "name": "stderr",
     "output_type": "stream",
     "text": [
      "\r",
      "  1%|█▉                                                                                                                                                                             | 11/1000 [10:26<17:19:47, 63.08s/it]"
     ]
    },
    {
     "name": "stdout",
     "output_type": "stream",
     "text": [
      "\n",
      "\t ----- tradeoff_buffer: 11 ----- \n",
      "\t ----- reward: -1 for f_star and f_minus: 40.65061947758135 , 55.73668493841518\n",
      "[INFO] [2022-12-16 18:20:30,628] [OpenBox-SPO] Iteration 12, objective value: [47.51606565528373].\n"
     ]
    },
    {
     "name": "stderr",
     "output_type": "stream",
     "text": [
      "\r",
      "  1%|██                                                                                                                                                                             | 12/1000 [11:40<18:14:22, 66.46s/it]"
     ]
    },
    {
     "name": "stdout",
     "output_type": "stream",
     "text": [
      "\n",
      "\t ----- tradeoff_buffer: 15 ----- \n",
      "\t ----- reward: 0.5248393434471627 for f_star and f_minus: 40.65061947758135 , 47.51606565528373\n",
      "[INFO] [2022-12-16 18:21:41,716] [OpenBox-SPO] Iteration 13, objective value: [43.541983408528026].\n"
     ]
    },
    {
     "name": "stderr",
     "output_type": "stream",
     "text": [
      "\r",
      "  1%|██▎                                                                                                                                                                            | 13/1000 [12:51<18:36:19, 67.86s/it]"
     ]
    },
    {
     "name": "stdout",
     "output_type": "stream",
     "text": [
      "\n",
      "\t ----- tradeoff_buffer: 10 ----- \n",
      "\t ----- reward: 0.5645801659147198 for f_star and f_minus: 40.65061947758135 , 43.541983408528026\n",
      "[INFO] [2022-12-16 18:22:59,768] [OpenBox-SPO] Iteration 14, objective value: [41.25669387295214].\n"
     ]
    },
    {
     "name": "stderr",
     "output_type": "stream",
     "text": [
      "\r",
      "  1%|██▍                                                                                                                                                                            | 14/1000 [14:09<19:25:46, 70.94s/it]"
     ]
    },
    {
     "name": "stdout",
     "output_type": "stream",
     "text": [
      "\n",
      "\t ----- tradeoff_buffer: 5 ----- \n",
      "\t ----- reward: 0.5874330612704786 for f_star and f_minus: 40.65061947758135 , 41.25669387295214\n",
      "[INFO] [2022-12-16 18:24:06,067] [OpenBox-SPO] Iteration 15, objective value: [52.00650407352248].\n"
     ]
    },
    {
     "name": "stderr",
     "output_type": "stream",
     "text": [
      "\r",
      "  2%|██▋                                                                                                                                                                            | 15/1000 [15:16<19:01:37, 69.54s/it]"
     ]
    },
    {
     "name": "stdout",
     "output_type": "stream",
     "text": [
      "\n",
      "\t ----- tradeoff_buffer: 8 ----- \n",
      "\t ----- reward: -1 for f_star and f_minus: 40.65061947758135 , 52.00650407352248\n",
      "[INFO] [2022-12-16 18:24:06,069] [Advisor] Sample random config. rand_prob=0.100000.\n",
      "[INFO] [2022-12-16 18:24:41,391] [OpenBox-SPO] Iteration 16, objective value: [49.49845188850412].\n"
     ]
    },
    {
     "name": "stderr",
     "output_type": "stream",
     "text": [
      "\r",
      "  2%|██▊                                                                                                                                                                            | 16/1000 [15:51<16:11:33, 59.24s/it]"
     ]
    },
    {
     "name": "stdout",
     "output_type": "stream",
     "text": [
      "\n",
      "\t ----- tradeoff_buffer: 13 ----- \n",
      "\t ----- reward: 0.5050154811149588 for f_star and f_minus: 40.65061947758135 , 49.49845188850412\n",
      "[INFO] [2022-12-16 18:25:55,280] [OpenBox-SPO] Iteration 17, objective value: [39.51836135155996].\n"
     ]
    },
    {
     "name": "stderr",
     "output_type": "stream",
     "text": [
      "\r",
      "  2%|██▉                                                                                                                                                                            | 17/1000 [17:05<17:22:44, 63.65s/it]"
     ]
    },
    {
     "name": "stdout",
     "output_type": "stream",
     "text": [
      "\n",
      "\t ----- tradeoff_buffer: 9 ----- \n",
      "\t ----- reward: 0.6048163864844004 for f_star and f_minus: 40.65061947758135 , 39.51836135155996\n",
      "[INFO] [2022-12-16 18:27:09,209] [OpenBox-SPO] Iteration 18, objective value: [55.15338531101014].\n"
     ]
    },
    {
     "name": "stderr",
     "output_type": "stream",
     "text": [
      "\r",
      "  2%|███▏                                                                                                                                                                           | 18/1000 [18:19<18:12:14, 66.74s/it]"
     ]
    },
    {
     "name": "stdout",
     "output_type": "stream",
     "text": [
      "\n",
      "\t ----- tradeoff_buffer: 14 ----- \n",
      "\t ----- reward: -1 for f_star and f_minus: 40.65061947758135 , 55.15338531101014\n",
      "[INFO] [2022-12-16 18:28:21,787] [OpenBox-SPO] Iteration 19, objective value: [46.71940681887189].\n"
     ]
    },
    {
     "name": "stderr",
     "output_type": "stream",
     "text": [
      "\r",
      "  2%|███▎                                                                                                                                                                           | 19/1000 [19:31<18:39:49, 68.49s/it]"
     ]
    },
    {
     "name": "stdout",
     "output_type": "stream",
     "text": [
      "\n",
      "\t ----- tradeoff_buffer: 12 ----- \n",
      "\t ----- reward: 0.5328059318112811 for f_star and f_minus: 39.51836135155996 , 46.71940681887189\n",
      "[INFO] [2022-12-16 18:29:41,998] [OpenBox-SPO] Iteration 20, objective value: [40.31716348588841].\n"
     ]
    },
    {
     "name": "stderr",
     "output_type": "stream",
     "text": [
      "\r",
      "  2%|███▌                                                                                                                                                                           | 20/1000 [20:52<19:36:09, 72.01s/it]"
     ]
    },
    {
     "name": "stdout",
     "output_type": "stream",
     "text": [
      "\n",
      "\t ----- tradeoff_buffer: 7 ----- \n",
      "\t ----- reward: 0.5968283651411159 for f_star and f_minus: 39.51836135155996 , 40.31716348588841\n",
      "[INFO] [2022-12-16 18:29:42,000] [Advisor] Sample random config. rand_prob=0.100000.\n",
      "[INFO] [2022-12-16 18:30:23,328] [OpenBox-SPO] Iteration 21, objective value: [49.10263723360355].\n"
     ]
    },
    {
     "name": "stderr",
     "output_type": "stream",
     "text": [
      "\r",
      "  2%|███▋                                                                                                                                                                           | 21/1000 [21:33<17:04:42, 62.80s/it]"
     ]
    },
    {
     "name": "stdout",
     "output_type": "stream",
     "text": [
      "\n",
      "\t ----- tradeoff_buffer: 11 ----- \n",
      "\t ----- reward: 0.5089736276639645 for f_star and f_minus: 39.51836135155996 , 49.10263723360355\n",
      "[INFO] [2022-12-16 18:31:35,235] [OpenBox-SPO] Iteration 22, objective value: [47.88064299152006].\n"
     ]
    },
    {
     "name": "stderr",
     "output_type": "stream",
     "text": [
      "\r",
      "  2%|███▊                                                                                                                                                                           | 22/1000 [22:45<17:48:11, 65.53s/it]"
     ]
    },
    {
     "name": "stdout",
     "output_type": "stream",
     "text": [
      "\n",
      "\t ----- tradeoff_buffer: 14 ----- \n",
      "\t ----- reward: 0.5211935700847994 for f_star and f_minus: 39.51836135155996 , 47.88064299152006\n",
      "[INFO] [2022-12-16 18:32:57,777] [OpenBox-SPO] Iteration 23, objective value: [44.46569171232299].\n"
     ]
    },
    {
     "name": "stderr",
     "output_type": "stream",
     "text": [
      "\r",
      "  2%|████                                                                                                                                                                           | 23/1000 [24:07<19:10:13, 70.64s/it]"
     ]
    },
    {
     "name": "stdout",
     "output_type": "stream",
     "text": [
      "\n",
      "\t ----- tradeoff_buffer: 19 ----- \n",
      "\t ----- reward: 0.55534308287677 for f_star and f_minus: 39.51836135155996 , 44.46569171232299\n",
      "[INFO] [2022-12-16 18:34:25,986] [OpenBox-SPO] Iteration 24, objective value: [34.582677980079595].\n"
     ]
    },
    {
     "name": "stderr",
     "output_type": "stream",
     "text": [
      "\r",
      "  2%|████▏                                                                                                                                                                          | 24/1000 [25:36<20:34:48, 75.91s/it]"
     ]
    },
    {
     "name": "stdout",
     "output_type": "stream",
     "text": [
      "\n",
      "\t ----- tradeoff_buffer: 23 ----- \n",
      "\t ----- reward: 0.6541732201992041 for f_star and f_minus: 39.51836135155996 , 34.582677980079595\n",
      "[INFO] [2022-12-16 18:35:36,715] [OpenBox-SPO] Iteration 25, objective value: [40.124685220063114].\n"
     ]
    },
    {
     "name": "stderr",
     "output_type": "stream",
     "text": [
      "\r",
      "  2%|████▍                                                                                                                                                                          | 25/1000 [26:46<20:08:16, 74.36s/it]"
     ]
    },
    {
     "name": "stdout",
     "output_type": "stream",
     "text": [
      "\n",
      "\t ----- tradeoff_buffer: 27 ----- \n",
      "\t ----- reward: 0.5987531477993688 for f_star and f_minus: 39.51836135155996 , 40.124685220063114\n",
      "[INFO] [2022-12-16 18:36:55,029] [OpenBox-SPO] Iteration 26, objective value: [51.36747590156509].\n"
     ]
    },
    {
     "name": "stderr",
     "output_type": "stream",
     "text": [
      "\r",
      "  3%|████▌                                                                                                                                                                          | 26/1000 [28:05<20:26:18, 75.54s/it]"
     ]
    },
    {
     "name": "stdout",
     "output_type": "stream",
     "text": [
      "\n",
      "\t ----- tradeoff_buffer: 32 ----- \n",
      "\t ----- reward: -1 for f_star and f_minus: 34.582677980079595 , 51.36747590156509\n",
      "[INFO] [2022-12-16 18:38:14,338] [OpenBox-SPO] Iteration 27, objective value: [40.64527310389604].\n"
     ]
    },
    {
     "name": "stderr",
     "output_type": "stream",
     "text": [
      "\r",
      "  3%|████▋                                                                                                                                                                          | 27/1000 [29:24<20:43:22, 76.67s/it]"
     ]
    },
    {
     "name": "stdout",
     "output_type": "stream",
     "text": [
      "\n",
      "\t ----- tradeoff_buffer: 35 ----- \n",
      "\t ----- reward: 0.5935472689610396 for f_star and f_minus: 34.582677980079595 , 40.64527310389604\n",
      "[INFO] [2022-12-16 18:39:19,827] [OpenBox-SPO] Iteration 28, objective value: [49.393175614816464].\n"
     ]
    },
    {
     "name": "stderr",
     "output_type": "stream",
     "text": [
      "\r",
      "  3%|████▉                                                                                                                                                                          | 28/1000 [30:29<19:47:44, 73.32s/it]"
     ]
    },
    {
     "name": "stdout",
     "output_type": "stream",
     "text": [
      "\n",
      "\t ----- tradeoff_buffer: 31 ----- \n",
      "\t ----- reward: 0.5060682438518354 for f_star and f_minus: 34.582677980079595 , 49.393175614816464\n",
      "[INFO] [2022-12-16 18:40:32,803] [OpenBox-SPO] Iteration 29, objective value: [48.02200459927519].\n"
     ]
    },
    {
     "name": "stderr",
     "output_type": "stream",
     "text": [
      "\r",
      "  3%|█████                                                                                                                                                                          | 29/1000 [31:42<19:44:52, 73.22s/it]"
     ]
    },
    {
     "name": "stdout",
     "output_type": "stream",
     "text": [
      "\n",
      "\t ----- tradeoff_buffer: 36 ----- \n",
      "\t ----- reward: 0.5197799540072481 for f_star and f_minus: 34.582677980079595 , 48.02200459927519\n",
      "[INFO] [2022-12-16 18:41:56,606] [OpenBox-SPO] Iteration 30, objective value: [42.69431311922146].\n"
     ]
    },
    {
     "name": "stderr",
     "output_type": "stream",
     "text": [
      "\r",
      "  3%|█████▎                                                                                                                                                                         | 30/1000 [33:06<20:35:00, 76.39s/it]"
     ]
    },
    {
     "name": "stdout",
     "output_type": "stream",
     "text": [
      "\n",
      "\t ----- tradeoff_buffer: 37 ----- \n",
      "\t ----- reward: 0.5730568688077854 for f_star and f_minus: 34.582677980079595 , 42.69431311922146\n",
      "[INFO] [2022-12-16 18:43:10,910] [OpenBox-SPO] Iteration 31, objective value: [49.231986474173894].\n"
     ]
    },
    {
     "name": "stderr",
     "output_type": "stream",
     "text": [
      "\r",
      "  3%|█████▍                                                                                                                                                                         | 31/1000 [34:20<20:23:36, 75.77s/it]"
     ]
    },
    {
     "name": "stdout",
     "output_type": "stream",
     "text": [
      "\n",
      "\t ----- tradeoff_buffer: 34 ----- \n",
      "\t ----- reward: 0.5076801352582611 for f_star and f_minus: 34.582677980079595 , 49.231986474173894\n",
      "[INFO] [2022-12-16 18:44:27,161] [OpenBox-SPO] Iteration 32, objective value: [42.36089954005507].\n"
     ]
    },
    {
     "name": "stderr",
     "output_type": "stream",
     "text": [
      "\r",
      "  3%|█████▌                                                                                                                                                                         | 32/1000 [35:37<20:24:41, 75.91s/it]"
     ]
    },
    {
     "name": "stdout",
     "output_type": "stream",
     "text": [
      "\n",
      "\t ----- tradeoff_buffer: 33 ----- \n",
      "\t ----- reward: 0.5763910045994493 for f_star and f_minus: 34.582677980079595 , 42.36089954005507\n",
      "[INFO] [2022-12-16 18:45:44,024] [OpenBox-SPO] Iteration 33, objective value: [50.35267631682131].\n"
     ]
    },
    {
     "name": "stderr",
     "output_type": "stream",
     "text": [
      "\r",
      "  3%|█████▊                                                                                                                                                                         | 33/1000 [36:54<20:28:02, 76.20s/it]"
     ]
    },
    {
     "name": "stdout",
     "output_type": "stream",
     "text": [
      "\n",
      "\t ----- tradeoff_buffer: 34 ----- \n",
      "\t ----- reward: -1 for f_star and f_minus: 34.582677980079595 , 50.35267631682131\n",
      "[INFO] [2022-12-16 18:45:44,026] [Advisor] Sample random config. rand_prob=0.100000.\n",
      "[INFO] [2022-12-16 18:46:19,760] [OpenBox-SPO] Iteration 34, objective value: [61.03830582141213].\n"
     ]
    },
    {
     "name": "stderr",
     "output_type": "stream",
     "text": [
      "\r",
      "  3%|█████▉                                                                                                                                                                         | 34/1000 [37:29<17:11:20, 64.06s/it]"
     ]
    },
    {
     "name": "stdout",
     "output_type": "stream",
     "text": [
      "\n",
      "\t ----- tradeoff_buffer: 31 ----- \n",
      "\t ----- reward: -1 for f_star and f_minus: 34.582677980079595 , 61.03830582141213\n",
      "[INFO] [2022-12-16 18:47:41,190] [OpenBox-SPO] Iteration 35, objective value: [39.10365602321981].\n"
     ]
    },
    {
     "name": "stderr",
     "output_type": "stream",
     "text": [
      "\r",
      "  4%|██████▏                                                                                                                                                                        | 35/1000 [38:51<18:34:05, 69.27s/it]"
     ]
    },
    {
     "name": "stdout",
     "output_type": "stream",
     "text": [
      "\n",
      "\t ----- tradeoff_buffer: 30 ----- \n",
      "\t ----- reward: 0.6089634397678019 for f_star and f_minus: 34.582677980079595 , 39.10365602321981\n",
      "[INFO] [2022-12-16 18:48:56,342] [OpenBox-SPO] Iteration 36, objective value: [42.754726314487556].\n"
     ]
    },
    {
     "name": "stderr",
     "output_type": "stream",
     "text": [
      "\r",
      "  4%|██████▎                                                                                                                                                                        | 36/1000 [40:06<19:01:17, 71.03s/it]"
     ]
    },
    {
     "name": "stdout",
     "output_type": "stream",
     "text": [
      "\n",
      "\t ----- tradeoff_buffer: 35 ----- \n",
      "\t ----- reward: 0.5724527368551244 for f_star and f_minus: 34.582677980079595 , 42.754726314487556\n",
      "[INFO] [2022-12-16 18:50:19,162] [OpenBox-SPO] Iteration 37, objective value: [39.23285545973234].\n"
     ]
    },
    {
     "name": "stderr",
     "output_type": "stream",
     "text": [
      "\r",
      "  4%|██████▍                                                                                                                                                                        | 37/1000 [41:29<19:56:50, 74.57s/it]"
     ]
    },
    {
     "name": "stdout",
     "output_type": "stream",
     "text": [
      "\n",
      "\t ----- tradeoff_buffer: 30 ----- \n",
      "\t ----- reward: 0.6076714454026766 for f_star and f_minus: 34.582677980079595 , 39.23285545973234\n",
      "[INFO] [2022-12-16 18:51:36,967] [OpenBox-SPO] Iteration 38, objective value: [43.95163954174549].\n"
     ]
    },
    {
     "name": "stderr",
     "output_type": "stream",
     "text": [
      "\r",
      "  4%|██████▋                                                                                                                                                                        | 38/1000 [42:47<20:11:10, 75.54s/it]"
     ]
    },
    {
     "name": "stdout",
     "output_type": "stream",
     "text": [
      "\n",
      "\t ----- tradeoff_buffer: 35 ----- \n",
      "\t ----- reward: 0.5604836045825451 for f_star and f_minus: 34.582677980079595 , 43.95163954174549\n",
      "[INFO] [2022-12-16 18:53:08,396] [OpenBox-SPO] Iteration 39, objective value: [40.65032333989276].\n"
     ]
    },
    {
     "name": "stderr",
     "output_type": "stream",
     "text": [
      "\r",
      "  4%|██████▊                                                                                                                                                                        | 39/1000 [44:18<21:26:15, 80.31s/it]"
     ]
    },
    {
     "name": "stdout",
     "output_type": "stream",
     "text": [
      "\n",
      "\t ----- tradeoff_buffer: 36 ----- \n",
      "\t ----- reward: 0.5934967666010724 for f_star and f_minus: 34.582677980079595 , 40.65032333989276\n",
      "[INFO] [2022-12-16 18:54:40,213] [OpenBox-SPO] Iteration 40, objective value: [35.96964205175627].\n"
     ]
    },
    {
     "name": "stderr",
     "output_type": "stream",
     "text": [
      "\r",
      "  4%|███████                                                                                                                                                                        | 40/1000 [45:50<22:20:09, 83.76s/it]"
     ]
    },
    {
     "name": "stdout",
     "output_type": "stream",
     "text": [
      "\n",
      "\t ----- tradeoff_buffer: 40 ----- \n",
      "\t ----- reward: 0.6403035794824373 for f_star and f_minus: 34.582677980079595 , 35.96964205175627\n",
      "[INFO] [2022-12-16 18:55:47,167] [OpenBox-SPO] Iteration 41, objective value: [46.14548308354627].\n"
     ]
    },
    {
     "name": "stderr",
     "output_type": "stream",
     "text": [
      "\r",
      "  4%|███████▏                                                                                                                                                                       | 41/1000 [46:57<20:58:11, 78.72s/it]"
     ]
    },
    {
     "name": "stdout",
     "output_type": "stream",
     "text": [
      "\n",
      "\t ----- tradeoff_buffer: 40 ----- \n",
      "\t ----- reward: 0.5385451691645373 for f_star and f_minus: 34.582677980079595 , 46.14548308354627\n",
      "[INFO] [2022-12-16 18:57:12,641] [OpenBox-SPO] Iteration 42, objective value: [49.30476872901048].\n"
     ]
    },
    {
     "name": "stderr",
     "output_type": "stream",
     "text": [
      "\r",
      "  4%|███████▎                                                                                                                                                                       | 42/1000 [48:22<21:29:13, 80.74s/it]"
     ]
    },
    {
     "name": "stdout",
     "output_type": "stream",
     "text": [
      "\n",
      "\t ----- tradeoff_buffer: 36 ----- \n",
      "\t ----- reward: 0.5069523127098952 for f_star and f_minus: 34.582677980079595 , 49.30476872901048\n",
      "[INFO] [2022-12-16 18:58:29,195] [OpenBox-SPO] Iteration 43, objective value: [36.196739748824434].\n"
     ]
    },
    {
     "name": "stderr",
     "output_type": "stream",
     "text": [
      "\r",
      "  4%|███████▌                                                                                                                                                                       | 43/1000 [49:39<21:07:50, 79.49s/it]"
     ]
    },
    {
     "name": "stdout",
     "output_type": "stream",
     "text": [
      "\n",
      "\t ----- tradeoff_buffer: 34 ----- \n",
      "\t ----- reward: 0.6380326025117556 for f_star and f_minus: 34.582677980079595 , 36.196739748824434\n",
      "[INFO] [2022-12-16 18:59:57,952] [OpenBox-SPO] Iteration 44, objective value: [49.683311847116485].\n"
     ]
    },
    {
     "name": "stderr",
     "output_type": "stream",
     "text": [
      "\r",
      "  4%|███████▋                                                                                                                                                                       | 44/1000 [51:08<21:50:48, 82.27s/it]"
     ]
    },
    {
     "name": "stdout",
     "output_type": "stream",
     "text": [
      "\n",
      "\t ----- tradeoff_buffer: 37 ----- \n",
      "\t ----- reward: 0.5031668815288352 for f_star and f_minus: 34.582677980079595 , 49.683311847116485\n",
      "[INFO] [2022-12-16 18:59:57,955] [Advisor] Sample random config. rand_prob=0.100000.\n",
      "[INFO] [2022-12-16 19:00:45,670] [OpenBox-SPO] Iteration 45, objective value: [48.431298892832174].\n"
     ]
    },
    {
     "name": "stderr",
     "output_type": "stream",
     "text": [
      "\r",
      "  4%|███████▉                                                                                                                                                                       | 45/1000 [51:55<19:04:27, 71.90s/it]"
     ]
    },
    {
     "name": "stdout",
     "output_type": "stream",
     "text": [
      "\n",
      "\t ----- tradeoff_buffer: 42 ----- \n",
      "\t ----- reward: 0.5156870110716782 for f_star and f_minus: 34.582677980079595 , 48.431298892832174\n",
      "[INFO] [2022-12-16 19:02:07,226] [OpenBox-SPO] Iteration 46, objective value: [42.241216223838705].\n"
     ]
    },
    {
     "name": "stderr",
     "output_type": "stream",
     "text": [
      "\r",
      "  5%|████████                                                                                                                                                                       | 46/1000 [53:17<19:49:18, 74.80s/it]"
     ]
    },
    {
     "name": "stdout",
     "output_type": "stream",
     "text": [
      "\n",
      "\t ----- tradeoff_buffer: 43 ----- \n",
      "\t ----- reward: 0.5775878377616129 for f_star and f_minus: 34.582677980079595 , 42.241216223838705\n",
      "[INFO] [2022-12-16 19:03:39,545] [OpenBox-SPO] Iteration 47, objective value: [43.53029958550901].\n"
     ]
    },
    {
     "name": "stderr",
     "output_type": "stream",
     "text": [
      "\r",
      "  5%|████████▏                                                                                                                                                                      | 47/1000 [54:49<21:11:32, 80.06s/it]"
     ]
    },
    {
     "name": "stdout",
     "output_type": "stream",
     "text": [
      "\n",
      "\t ----- tradeoff_buffer: 47 ----- \n",
      "\t ----- reward: 0.5646970041449099 for f_star and f_minus: 34.582677980079595 , 43.53029958550901\n",
      "[INFO] [2022-12-16 19:05:08,174] [OpenBox-SPO] Iteration 48, objective value: [34.12363297035077].\n"
     ]
    },
    {
     "name": "stderr",
     "output_type": "stream",
     "text": [
      "\r",
      "  5%|████████▍                                                                                                                                                                      | 48/1000 [56:18<21:51:01, 82.63s/it]"
     ]
    },
    {
     "name": "stdout",
     "output_type": "stream",
     "text": [
      "\n",
      "\t ----- tradeoff_buffer: 50 ----- \n",
      "\t ----- reward: 0.6587636702964923 for f_star and f_minus: 34.582677980079595 , 34.12363297035077\n",
      "[INFO] [2022-12-16 19:06:27,330] [OpenBox-SPO] Iteration 49, objective value: [45.4288993635357].\n"
     ]
    },
    {
     "name": "stderr",
     "output_type": "stream",
     "text": [
      "\r",
      "  5%|████████▌                                                                                                                                                                      | 49/1000 [57:37<21:33:08, 81.59s/it]"
     ]
    },
    {
     "name": "stdout",
     "output_type": "stream",
     "text": [
      "\n",
      "\t ----- tradeoff_buffer: 50 ----- \n",
      "\t ----- reward: 0.5457110063646431 for f_star and f_minus: 34.582677980079595 , 45.4288993635357\n",
      "[INFO] [2022-12-16 19:07:57,003] [OpenBox-SPO] Iteration 50, objective value: [37.95779589606558].\n"
     ]
    },
    {
     "name": "stderr",
     "output_type": "stream",
     "text": [
      "\r",
      "  5%|████████▊                                                                                                                                                                      | 50/1000 [59:07<22:10:11, 84.01s/it]"
     ]
    },
    {
     "name": "stdout",
     "output_type": "stream",
     "text": [
      "\n",
      "\t ----- tradeoff_buffer: 50 ----- \n",
      "\t ----- reward: 0.6204220410393442 for f_star and f_minus: 34.12363297035077 , 37.95779589606558\n",
      "[INFO] [2022-12-16 19:09:23,350] [OpenBox-SPO] Iteration 51, objective value: [43.73655651373182].\n"
     ]
    },
    {
     "name": "stderr",
     "output_type": "stream",
     "text": [
      "\r",
      "  5%|████████▊                                                                                                                                                                    | 51/1000 [1:00:33<22:19:52, 84.71s/it]"
     ]
    },
    {
     "name": "stdout",
     "output_type": "stream",
     "text": [
      "\n",
      "\t ----- tradeoff_buffer: 49 ----- \n",
      "\t ----- reward: 0.5626344348626817 for f_star and f_minus: 34.12363297035077 , 43.73655651373182\n",
      "[INFO] [2022-12-16 19:10:42,893] [OpenBox-SPO] Iteration 52, objective value: [41.20388999200089].\n"
     ]
    },
    {
     "name": "stderr",
     "output_type": "stream",
     "text": [
      "\r",
      "  5%|████████▉                                                                                                                                                                    | 52/1000 [1:01:52<21:53:57, 83.16s/it]"
     ]
    },
    {
     "name": "stdout",
     "output_type": "stream",
     "text": [
      "\n",
      "\t ----- tradeoff_buffer: 47 ----- \n",
      "\t ----- reward: 0.5879611000799911 for f_star and f_minus: 34.12363297035077 , 41.20388999200089\n",
      "[INFO] [2022-12-16 19:12:02,921] [OpenBox-SPO] Iteration 53, objective value: [41.76590242529594].\n"
     ]
    },
    {
     "name": "stderr",
     "output_type": "stream",
     "text": [
      "\r",
      "  5%|█████████▏                                                                                                                                                                   | 53/1000 [1:03:12<21:37:43, 82.22s/it]"
     ]
    },
    {
     "name": "stdout",
     "output_type": "stream",
     "text": [
      "\n",
      "\t ----- tradeoff_buffer: 44 ----- \n",
      "\t ----- reward: 0.5823409757470406 for f_star and f_minus: 34.12363297035077 , 41.76590242529594\n",
      "[INFO] [2022-12-16 19:13:33,520] [OpenBox-SPO] Iteration 54, objective value: [40.7111381537524].\n"
     ]
    },
    {
     "name": "stderr",
     "output_type": "stream",
     "text": [
      "\r",
      "  5%|█████████▎                                                                                                                                                                   | 54/1000 [1:04:43<22:15:59, 84.73s/it]"
     ]
    },
    {
     "name": "stdout",
     "output_type": "stream",
     "text": [
      "\n",
      "\t ----- tradeoff_buffer: 41 ----- \n",
      "\t ----- reward: 0.592888618462476 for f_star and f_minus: 34.12363297035077 , 40.7111381537524\n",
      "[INFO] [2022-12-16 19:13:33,522] [Advisor] Sample random config. rand_prob=0.100000.\n",
      "[INFO] [2022-12-16 19:14:16,479] [OpenBox-SPO] Iteration 55, objective value: [51.29172891299838].\n"
     ]
    },
    {
     "name": "stderr",
     "output_type": "stream",
     "text": [
      "\r",
      "  6%|█████████▌                                                                                                                                                                   | 55/1000 [1:05:26<18:57:10, 72.20s/it]"
     ]
    },
    {
     "name": "stdout",
     "output_type": "stream",
     "text": [
      "\n",
      "\t ----- tradeoff_buffer: 40 ----- \n",
      "\t ----- reward: -1 for f_star and f_minus: 34.12363297035077 , 51.29172891299838\n",
      "[INFO] [2022-12-16 19:15:46,630] [OpenBox-SPO] Iteration 56, objective value: [44.880130238177415].\n"
     ]
    },
    {
     "name": "stderr",
     "output_type": "stream",
     "text": [
      "\r",
      "  6%|█████████▋                                                                                                                                                                   | 56/1000 [1:06:56<20:20:41, 77.59s/it]"
     ]
    },
    {
     "name": "stdout",
     "output_type": "stream",
     "text": [
      "\n",
      "\t ----- tradeoff_buffer: 35 ----- \n",
      "\t ----- reward: 0.5511986976182259 for f_star and f_minus: 34.12363297035077 , 44.880130238177415\n",
      "[INFO] [2022-12-16 19:15:46,632] [Advisor] Sample random config. rand_prob=0.100000.\n",
      "[INFO] [2022-12-16 19:16:27,879] [OpenBox-SPO] Iteration 57, objective value: [47.10228439349897].\n"
     ]
    },
    {
     "name": "stderr",
     "output_type": "stream",
     "text": [
      "\r",
      "  6%|█████████▊                                                                                                                                                                   | 57/1000 [1:07:37<17:28:04, 66.69s/it]"
     ]
    },
    {
     "name": "stdout",
     "output_type": "stream",
     "text": [
      "\n",
      "\t ----- tradeoff_buffer: 34 ----- \n",
      "\t ----- reward: 0.5289771560650103 for f_star and f_minus: 34.12363297035077 , 47.10228439349897\n",
      "[INFO] [2022-12-16 19:17:54,724] [OpenBox-SPO] Iteration 58, objective value: [43.03953435616368].\n"
     ]
    },
    {
     "name": "stderr",
     "output_type": "stream",
     "text": [
      "\r",
      "  6%|██████████                                                                                                                                                                   | 58/1000 [1:09:04<19:01:54, 72.73s/it]"
     ]
    },
    {
     "name": "stdout",
     "output_type": "stream",
     "text": [
      "\n",
      "\t ----- tradeoff_buffer: 32 ----- \n",
      "\t ----- reward: 0.5696046564383632 for f_star and f_minus: 34.12363297035077 , 43.03953435616368\n",
      "[INFO] [2022-12-16 19:19:03,531] [OpenBox-SPO] Iteration 59, objective value: [43.404483021826664].\n"
     ]
    },
    {
     "name": "stderr",
     "output_type": "stream",
     "text": [
      "\r",
      "  6%|██████████▏                                                                                                                                                                  | 59/1000 [1:10:13<18:42:13, 71.56s/it]"
     ]
    },
    {
     "name": "stdout",
     "output_type": "stream",
     "text": [
      "\n",
      "\t ----- tradeoff_buffer: 29 ----- \n",
      "\t ----- reward: 0.5659551697817333 for f_star and f_minus: 34.12363297035077 , 43.404483021826664\n",
      "[INFO] [2022-12-16 19:20:29,009] [OpenBox-SPO] Iteration 60, objective value: [52.69881300078049].\n"
     ]
    },
    {
     "name": "stderr",
     "output_type": "stream",
     "text": [
      "\r",
      "  6%|██████████▍                                                                                                                                                                  | 60/1000 [1:11:39<19:46:28, 75.73s/it]"
     ]
    },
    {
     "name": "stdout",
     "output_type": "stream",
     "text": [
      "\n",
      "\t ----- tradeoff_buffer: 29 ----- \n",
      "\t ----- reward: -1 for f_star and f_minus: 34.12363297035077 , 52.69881300078049\n",
      "[INFO] [2022-12-16 19:20:29,013] [Advisor] Sample random config. rand_prob=0.100000.\n",
      "[INFO] [2022-12-16 19:21:06,734] [OpenBox-SPO] Iteration 61, objective value: [49.83932159737934].\n"
     ]
    },
    {
     "name": "stderr",
     "output_type": "stream",
     "text": [
      "\r",
      "  6%|██████████▌                                                                                                                                                                  | 61/1000 [1:12:16<16:46:45, 64.33s/it]"
     ]
    },
    {
     "name": "stdout",
     "output_type": "stream",
     "text": [
      "\n",
      "\t ----- tradeoff_buffer: 30 ----- \n",
      "\t ----- reward: 0.5016067840262066 for f_star and f_minus: 34.12363297035077 , 49.83932159737934\n",
      "[INFO] [2022-12-16 19:22:26,132] [OpenBox-SPO] Iteration 62, objective value: [43.0118066904045].\n"
     ]
    },
    {
     "name": "stderr",
     "output_type": "stream",
     "text": [
      "\r",
      "  6%|██████████▋                                                                                                                                                                  | 62/1000 [1:13:36<17:56:21, 68.85s/it]"
     ]
    },
    {
     "name": "stdout",
     "output_type": "stream",
     "text": [
      "\n",
      "\t ----- tradeoff_buffer: 32 ----- \n",
      "\t ----- reward: 0.569881933095955 for f_star and f_minus: 34.12363297035077 , 43.0118066904045\n",
      "[INFO] [2022-12-16 19:23:52,698] [OpenBox-SPO] Iteration 63, objective value: [39.79405998392899].\n"
     ]
    },
    {
     "name": "stderr",
     "output_type": "stream",
     "text": [
      "\r",
      "  6%|██████████▉                                                                                                                                                                  | 63/1000 [1:15:02<19:18:12, 74.16s/it]"
     ]
    },
    {
     "name": "stdout",
     "output_type": "stream",
     "text": [
      "\n",
      "\t ----- tradeoff_buffer: 29 ----- \n",
      "\t ----- reward: 0.6020594001607101 for f_star and f_minus: 34.12363297035077 , 39.79405998392899\n",
      "[INFO] [2022-12-16 19:25:26,433] [OpenBox-SPO] Iteration 64, objective value: [42.729674203061165].\n"
     ]
    },
    {
     "name": "stderr",
     "output_type": "stream",
     "text": [
      "\r",
      "  6%|███████████                                                                                                                                                                  | 64/1000 [1:16:36<20:48:33, 80.04s/it]"
     ]
    },
    {
     "name": "stdout",
     "output_type": "stream",
     "text": [
      "\n",
      "\t ----- tradeoff_buffer: 26 ----- \n",
      "\t ----- reward: 0.5727032579693884 for f_star and f_minus: 34.12363297035077 , 42.729674203061165\n",
      "[INFO] [2022-12-16 19:26:56,434] [OpenBox-SPO] Iteration 65, objective value: [46.31309864701023].\n"
     ]
    },
    {
     "name": "stderr",
     "output_type": "stream",
     "text": [
      "\r",
      "  6%|███████████▏                                                                                                                                                                 | 65/1000 [1:18:06<21:33:48, 83.03s/it]"
     ]
    },
    {
     "name": "stdout",
     "output_type": "stream",
     "text": [
      "\n",
      "\t ----- tradeoff_buffer: 21 ----- \n",
      "\t ----- reward: 0.5368690135298977 for f_star and f_minus: 34.12363297035077 , 46.31309864701023\n",
      "[INFO] [2022-12-16 19:28:25,225] [OpenBox-SPO] Iteration 66, objective value: [37.992341524156934].\n"
     ]
    },
    {
     "name": "stderr",
     "output_type": "stream",
     "text": [
      "\r",
      "  7%|███████████▍                                                                                                                                                                 | 66/1000 [1:19:35<21:59:21, 84.76s/it]"
     ]
    },
    {
     "name": "stdout",
     "output_type": "stream",
     "text": [
      "\n",
      "\t ----- tradeoff_buffer: 16 ----- \n",
      "\t ----- reward: 0.6200765847584306 for f_star and f_minus: 34.12363297035077 , 37.992341524156934\n",
      "[INFO] [2022-12-16 19:29:43,031] [OpenBox-SPO] Iteration 67, objective value: [39.12447969746691].\n"
     ]
    },
    {
     "name": "stderr",
     "output_type": "stream",
     "text": [
      "\r",
      "  7%|███████████▌                                                                                                                                                                 | 67/1000 [1:20:53<21:25:31, 82.67s/it]"
     ]
    },
    {
     "name": "stdout",
     "output_type": "stream",
     "text": [
      "\n",
      "\t ----- tradeoff_buffer: 14 ----- \n",
      "\t ----- reward: 0.6087552030253309 for f_star and f_minus: 34.12363297035077 , 39.12447969746691\n",
      "[INFO] [2022-12-16 19:31:15,804] [OpenBox-SPO] Iteration 68, objective value: [34.57984933915587].\n"
     ]
    },
    {
     "name": "stderr",
     "output_type": "stream",
     "text": [
      "\r",
      "  7%|███████████▊                                                                                                                                                                 | 68/1000 [1:22:25<22:11:13, 85.70s/it]"
     ]
    },
    {
     "name": "stdout",
     "output_type": "stream",
     "text": [
      "\n",
      "\t ----- tradeoff_buffer: 13 ----- \n",
      "\t ----- reward: 0.6542015066084412 for f_star and f_minus: 34.12363297035077 , 34.57984933915587\n",
      "[INFO] [2022-12-16 19:32:45,108] [OpenBox-SPO] Iteration 69, objective value: [36.504762747176855].\n"
     ]
    },
    {
     "name": "stderr",
     "output_type": "stream",
     "text": [
      "\r",
      "  7%|███████████▉                                                                                                                                                                 | 69/1000 [1:23:55<22:26:34, 86.78s/it]"
     ]
    },
    {
     "name": "stdout",
     "output_type": "stream",
     "text": [
      "\n",
      "\t ----- tradeoff_buffer: 14 ----- \n",
      "\t ----- reward: 0.6349523725282314 for f_star and f_minus: 34.12363297035077 , 36.504762747176855\n",
      "[INFO] [2022-12-16 19:32:45,110] [Advisor] Sample random config. rand_prob=0.100000.\n",
      "[INFO] [2022-12-16 19:33:19,488] [OpenBox-SPO] Iteration 70, objective value: [56.6123677336576].\n"
     ]
    },
    {
     "name": "stderr",
     "output_type": "stream",
     "text": [
      "\r",
      "  7%|████████████                                                                                                                                                                 | 70/1000 [1:24:29<18:21:26, 71.06s/it]"
     ]
    },
    {
     "name": "stdout",
     "output_type": "stream",
     "text": [
      "\n",
      "\t ----- tradeoff_buffer: 10 ----- \n",
      "\t ----- reward: -1 for f_star and f_minus: 34.12363297035077 , 56.6123677336576\n",
      "[INFO] [2022-12-16 19:34:51,438] [OpenBox-SPO] Iteration 71, objective value: [43.45838771332625].\n"
     ]
    },
    {
     "name": "stderr",
     "output_type": "stream",
     "text": [
      "\r",
      "  7%|████████████▎                                                                                                                                                                | 71/1000 [1:26:01<19:57:17, 77.33s/it]"
     ]
    },
    {
     "name": "stdout",
     "output_type": "stream",
     "text": [
      "\n",
      "\t ----- tradeoff_buffer: 6 ----- \n",
      "\t ----- reward: 0.5654161228667375 for f_star and f_minus: 34.12363297035077 , 43.45838771332625\n",
      "[INFO] [2022-12-16 19:36:07,422] [OpenBox-SPO] Iteration 72, objective value: [42.38643863766545].\n"
     ]
    },
    {
     "name": "stderr",
     "output_type": "stream",
     "text": [
      "\r",
      "  7%|████████████▍                                                                                                                                                                | 72/1000 [1:27:17<19:49:46, 76.92s/it]"
     ]
    },
    {
     "name": "stdout",
     "output_type": "stream",
     "text": [
      "\n",
      "\t ----- tradeoff_buffer: 10 ----- \n",
      "\t ----- reward: 0.5761356136233455 for f_star and f_minus: 34.12363297035077 , 42.38643863766545\n",
      "[INFO] [2022-12-16 19:37:39,546] [OpenBox-SPO] Iteration 73, objective value: [45.60544190644489].\n"
     ]
    },
    {
     "name": "stderr",
     "output_type": "stream",
     "text": [
      "\r",
      "  7%|████████████▋                                                                                                                                                                | 73/1000 [1:28:49<20:58:56, 81.48s/it]"
     ]
    },
    {
     "name": "stdout",
     "output_type": "stream",
     "text": [
      "\n",
      "\t ----- tradeoff_buffer: 7 ----- \n",
      "\t ----- reward: 0.5439455809355511 for f_star and f_minus: 34.12363297035077 , 45.60544190644489\n",
      "[INFO] [2022-12-16 19:38:53,724] [OpenBox-SPO] Iteration 74, objective value: [44.6453197807375].\n"
     ]
    },
    {
     "name": "stderr",
     "output_type": "stream",
     "text": [
      "\r",
      "  7%|████████████▊                                                                                                                                                                | 74/1000 [1:30:03<20:23:45, 79.29s/it]"
     ]
    },
    {
     "name": "stdout",
     "output_type": "stream",
     "text": [
      "\n",
      "\t ----- tradeoff_buffer: 9 ----- \n",
      "\t ----- reward: 0.553546802192625 for f_star and f_minus: 34.12363297035077 , 44.6453197807375\n",
      "[INFO] [2022-12-16 19:40:22,257] [OpenBox-SPO] Iteration 75, objective value: [36.29497036775786].\n"
     ]
    },
    {
     "name": "stderr",
     "output_type": "stream",
     "text": [
      "\r",
      "  8%|████████████▉                                                                                                                                                                | 75/1000 [1:31:32<21:05:09, 82.06s/it]"
     ]
    },
    {
     "name": "stdout",
     "output_type": "stream",
     "text": [
      "\n",
      "\t ----- tradeoff_buffer: 14 ----- \n",
      "\t ----- reward: 0.6370502963224214 for f_star and f_minus: 34.12363297035077 , 36.29497036775786\n",
      "[INFO] [2022-12-16 19:41:52,241] [OpenBox-SPO] Iteration 76, objective value: [34.37873168397792].\n"
     ]
    },
    {
     "name": "stderr",
     "output_type": "stream",
     "text": [
      "\r",
      "  8%|█████████████▏                                                                                                                                                               | 76/1000 [1:33:02<21:40:22, 84.44s/it]"
     ]
    },
    {
     "name": "stdout",
     "output_type": "stream",
     "text": [
      "\n",
      "\t ----- tradeoff_buffer: 15 ----- \n",
      "\t ----- reward: 0.6562126831602209 for f_star and f_minus: 34.12363297035077 , 34.37873168397792\n",
      "[INFO] [2022-12-16 19:43:19,210] [OpenBox-SPO] Iteration 77, objective value: [43.97110314380621].\n"
     ]
    },
    {
     "name": "stderr",
     "output_type": "stream",
     "text": [
      "\r",
      "  8%|█████████████▎                                                                                                                                                               | 77/1000 [1:34:29<21:50:38, 85.20s/it]"
     ]
    },
    {
     "name": "stdout",
     "output_type": "stream",
     "text": [
      "\n",
      "\t ----- tradeoff_buffer: 18 ----- \n",
      "\t ----- reward: 0.5602889685619379 for f_star and f_minus: 34.12363297035077 , 43.97110314380621\n",
      "[INFO] [2022-12-16 19:44:38,854] [OpenBox-SPO] Iteration 78, objective value: [41.337453528037].\n"
     ]
    },
    {
     "name": "stderr",
     "output_type": "stream",
     "text": [
      "\r",
      "  8%|█████████████▍                                                                                                                                                               | 78/1000 [1:35:48<21:23:36, 83.53s/it]"
     ]
    },
    {
     "name": "stdout",
     "output_type": "stream",
     "text": [
      "\n",
      "\t ----- tradeoff_buffer: 23 ----- \n",
      "\t ----- reward: 0.58662546471963 for f_star and f_minus: 34.12363297035077 , 41.337453528037\n",
      "[INFO] [2022-12-16 19:46:18,314] [OpenBox-SPO] Iteration 79, objective value: [35.877763691746196].\n"
     ]
    },
    {
     "name": "stderr",
     "output_type": "stream",
     "text": [
      "\r",
      "  8%|█████████████▋                                                                                                                                                               | 79/1000 [1:37:28<22:35:34, 88.31s/it]"
     ]
    },
    {
     "name": "stdout",
     "output_type": "stream",
     "text": [
      "\n",
      "\t ----- tradeoff_buffer: 19 ----- \n",
      "\t ----- reward: 0.641222363082538 for f_star and f_minus: 34.12363297035077 , 35.877763691746196\n",
      "[INFO] [2022-12-16 19:47:41,136] [OpenBox-SPO] Iteration 80, objective value: [35.48252457461044].\n"
     ]
    },
    {
     "name": "stderr",
     "output_type": "stream",
     "text": [
      "\r",
      "  8%|█████████████▊                                                                                                                                                               | 80/1000 [1:38:51<22:08:50, 86.66s/it]"
     ]
    },
    {
     "name": "stdout",
     "output_type": "stream",
     "text": [
      "\n",
      "\t ----- tradeoff_buffer: 17 ----- \n",
      "\t ----- reward: 0.6451747542538957 for f_star and f_minus: 34.12363297035077 , 35.48252457461044\n",
      "[INFO] [2022-12-16 19:49:07,066] [OpenBox-SPO] Iteration 81, objective value: [47.58852833307357].\n"
     ]
    },
    {
     "name": "stderr",
     "output_type": "stream",
     "text": [
      "\r",
      "  8%|██████████████                                                                                                                                                               | 81/1000 [1:40:17<22:04:01, 86.44s/it]"
     ]
    },
    {
     "name": "stdout",
     "output_type": "stream",
     "text": [
      "\n",
      "\t ----- tradeoff_buffer: 15 ----- \n",
      "\t ----- reward: 0.5241147166692643 for f_star and f_minus: 34.12363297035077 , 47.58852833307357\n",
      "[INFO] [2022-12-16 19:50:30,173] [OpenBox-SPO] Iteration 82, objective value: [41.70105720205575].\n"
     ]
    },
    {
     "name": "stderr",
     "output_type": "stream",
     "text": [
      "\r",
      "  8%|██████████████▏                                                                                                                                                              | 82/1000 [1:41:40<21:47:16, 85.44s/it]"
     ]
    },
    {
     "name": "stdout",
     "output_type": "stream",
     "text": [
      "\n",
      "\t ----- tradeoff_buffer: 19 ----- \n",
      "\t ----- reward: 0.5829894279794425 for f_star and f_minus: 34.12363297035077 , 41.70105720205575\n",
      "[INFO] [2022-12-16 19:52:03,963] [OpenBox-SPO] Iteration 83, objective value: [42.994467429935426].\n"
     ]
    },
    {
     "name": "stderr",
     "output_type": "stream",
     "text": [
      "\r",
      "  8%|██████████████▎                                                                                                                                                              | 83/1000 [1:43:14<22:24:07, 87.95s/it]"
     ]
    },
    {
     "name": "stdout",
     "output_type": "stream",
     "text": [
      "\n",
      "\t ----- tradeoff_buffer: 15 ----- \n",
      "\t ----- reward: 0.5700553257006458 for f_star and f_minus: 34.12363297035077 , 42.994467429935426\n",
      "[INFO] [2022-12-16 19:53:36,666] [OpenBox-SPO] Iteration 84, objective value: [42.938434607274964].\n"
     ]
    },
    {
     "name": "stderr",
     "output_type": "stream",
     "text": [
      "\r",
      "  8%|██████████████▌                                                                                                                                                              | 84/1000 [1:44:46<22:44:26, 89.37s/it]"
     ]
    },
    {
     "name": "stdout",
     "output_type": "stream",
     "text": [
      "\n",
      "\t ----- tradeoff_buffer: 17 ----- \n",
      "\t ----- reward: 0.5706156539272504 for f_star and f_minus: 34.12363297035077 , 42.938434607274964\n",
      "[INFO] [2022-12-16 19:55:00,200] [OpenBox-SPO] Iteration 85, objective value: [37.83526940618302].\n"
     ]
    },
    {
     "name": "stderr",
     "output_type": "stream",
     "text": [
      "\r",
      "  8%|██████████████▋                                                                                                                                                              | 85/1000 [1:46:10<22:16:14, 87.62s/it]"
     ]
    },
    {
     "name": "stdout",
     "output_type": "stream",
     "text": [
      "\n",
      "\t ----- tradeoff_buffer: 18 ----- \n",
      "\t ----- reward: 0.6216473059381697 for f_star and f_minus: 34.12363297035077 , 37.83526940618302\n",
      "[INFO] [2022-12-16 19:56:52,891] [OpenBox-SPO] Iteration 86, objective value: [37.10176962767962].\n"
     ]
    },
    {
     "name": "stderr",
     "output_type": "stream",
     "text": [
      "\r",
      "  9%|██████████████▉                                                                                                                                                              | 86/1000 [1:48:02<24:09:20, 95.14s/it]"
     ]
    },
    {
     "name": "stdout",
     "output_type": "stream",
     "text": [
      "\n",
      "\t ----- tradeoff_buffer: 14 ----- \n",
      "\t ----- reward: 0.6289823037232039 for f_star and f_minus: 34.12363297035077 , 37.10176962767962\n",
      "[INFO] [2022-12-16 19:58:15,673] [OpenBox-SPO] Iteration 87, objective value: [47.8980757733275].\n"
     ]
    },
    {
     "name": "stderr",
     "output_type": "stream",
     "text": [
      "\r",
      "  9%|███████████████                                                                                                                                                              | 87/1000 [1:49:25<23:11:19, 91.43s/it]"
     ]
    },
    {
     "name": "stdout",
     "output_type": "stream",
     "text": [
      "\n",
      "\t ----- tradeoff_buffer: 17 ----- \n",
      "\t ----- reward: 0.521019242266725 for f_star and f_minus: 34.12363297035077 , 47.8980757733275\n",
      "[INFO] [2022-12-16 19:59:46,444] [OpenBox-SPO] Iteration 88, objective value: [45.963279191622476].\n"
     ]
    },
    {
     "name": "stderr",
     "output_type": "stream",
     "text": [
      "\r",
      "  9%|███████████████▏                                                                                                                                                             | 88/1000 [1:50:56<23:06:46, 91.24s/it]"
     ]
    },
    {
     "name": "stdout",
     "output_type": "stream",
     "text": [
      "\n",
      "\t ----- tradeoff_buffer: 14 ----- \n",
      "\t ----- reward: 0.5403672080837753 for f_star and f_minus: 34.12363297035077 , 45.963279191622476\n",
      "[INFO] [2022-12-16 20:01:09,071] [OpenBox-SPO] Iteration 89, objective value: [51.46562454636031].\n"
     ]
    },
    {
     "name": "stderr",
     "output_type": "stream",
     "text": [
      "\r",
      "  9%|███████████████▍                                                                                                                                                             | 89/1000 [1:52:19<22:26:02, 88.65s/it]"
     ]
    },
    {
     "name": "stdout",
     "output_type": "stream",
     "text": [
      "\n",
      "\t ----- tradeoff_buffer: 15 ----- \n",
      "\t ----- reward: -1 for f_star and f_minus: 34.12363297035077 , 51.46562454636031\n",
      "[INFO] [2022-12-16 20:02:50,430] [OpenBox-SPO] Iteration 90, objective value: [47.29705329903469].\n"
     ]
    },
    {
     "name": "stderr",
     "output_type": "stream",
     "text": [
      "\r",
      "  9%|███████████████▌                                                                                                                                                             | 90/1000 [1:54:00<23:22:22, 92.46s/it]"
     ]
    },
    {
     "name": "stdout",
     "output_type": "stream",
     "text": [
      "\n",
      "\t ----- tradeoff_buffer: 15 ----- \n",
      "\t ----- reward: 0.5270294670096531 for f_star and f_minus: 34.12363297035077 , 47.29705329903469\n",
      "[INFO] [2022-12-16 20:04:41,837] [OpenBox-SPO] Iteration 91, objective value: [41.8184412957722].\n"
     ]
    },
    {
     "name": "stderr",
     "output_type": "stream",
     "text": [
      "\r",
      "  9%|███████████████▋                                                                                                                                                             | 91/1000 [1:55:51<24:46:56, 98.15s/it]"
     ]
    },
    {
     "name": "stdout",
     "output_type": "stream",
     "text": [
      "\n",
      "\t ----- tradeoff_buffer: 12 ----- \n",
      "\t ----- reward: 0.581815587042278 for f_star and f_minus: 34.12363297035077 , 41.8184412957722\n",
      "[INFO] [2022-12-16 20:06:28,295] [OpenBox-SPO] Iteration 92, objective value: [51.52475611664058].\n"
     ]
    },
    {
     "name": "stderr",
     "output_type": "stream",
     "text": [
      "\r",
      "  9%|███████████████▊                                                                                                                                                            | 92/1000 [1:57:38<25:23:01, 100.64s/it]"
     ]
    },
    {
     "name": "stdout",
     "output_type": "stream",
     "text": [
      "\n",
      "\t ----- tradeoff_buffer: 13 ----- \n",
      "\t ----- reward: -1 for f_star and f_minus: 34.12363297035077 , 51.52475611664058\n",
      "[INFO] [2022-12-16 20:08:05,577] [OpenBox-SPO] Iteration 93, objective value: [46.70075031777662].\n"
     ]
    },
    {
     "name": "stderr",
     "output_type": "stream",
     "text": [
      "\r",
      "  9%|████████████████                                                                                                                                                             | 93/1000 [1:59:15<25:06:07, 99.63s/it]"
     ]
    },
    {
     "name": "stdout",
     "output_type": "stream",
     "text": [
      "\n",
      "\t ----- tradeoff_buffer: 17 ----- \n",
      "\t ----- reward: 0.5329924968222338 for f_star and f_minus: 34.12363297035077 , 46.70075031777662\n",
      "[INFO] [2022-12-16 20:10:07,733] [OpenBox-SPO] Iteration 94, objective value: [48.995498085631].\n"
     ]
    },
    {
     "name": "stderr",
     "output_type": "stream",
     "text": [
      "\r",
      "  9%|████████████████▏                                                                                                                                                           | 94/1000 [2:01:17<26:46:29, 106.39s/it]"
     ]
    },
    {
     "name": "stdout",
     "output_type": "stream",
     "text": [
      "\n",
      "\t ----- tradeoff_buffer: 22 ----- \n",
      "\t ----- reward: 0.51004501914369 for f_star and f_minus: 34.12363297035077 , 48.995498085631\n",
      "[INFO] [2022-12-16 20:10:07,737] [Advisor] Sample random config. rand_prob=0.100000.\n",
      "[INFO] [2022-12-16 20:10:58,463] [OpenBox-SPO] Iteration 95, objective value: [41.84144296490773].\n"
     ]
    },
    {
     "name": "stderr",
     "output_type": "stream",
     "text": [
      "\r",
      " 10%|████████████████▍                                                                                                                                                            | 95/1000 [2:02:08<22:32:50, 89.69s/it]"
     ]
    },
    {
     "name": "stdout",
     "output_type": "stream",
     "text": [
      "\n",
      "\t ----- tradeoff_buffer: 22 ----- \n",
      "\t ----- reward: 0.5815855703509227 for f_star and f_minus: 34.12363297035077 , 41.84144296490773\n",
      "[INFO] [2022-12-16 20:12:52,801] [OpenBox-SPO] Iteration 96, objective value: [44.1418070175916].\n"
     ]
    },
    {
     "name": "stderr",
     "output_type": "stream",
     "text": [
      "\r",
      " 10%|████████████████▌                                                                                                                                                            | 96/1000 [2:04:02<24:22:45, 97.09s/it]"
     ]
    },
    {
     "name": "stdout",
     "output_type": "stream",
     "text": [
      "\n",
      "\t ----- tradeoff_buffer: 22 ----- \n",
      "\t ----- reward: 0.558581929824084 for f_star and f_minus: 34.12363297035077 , 44.1418070175916\n",
      "[INFO] [2022-12-16 20:14:24,928] [OpenBox-SPO] Iteration 97, objective value: [42.202741492727554].\n"
     ]
    },
    {
     "name": "stderr",
     "output_type": "stream",
     "text": [
      "\r",
      " 10%|████████████████▊                                                                                                                                                            | 97/1000 [2:05:34<23:58:44, 95.60s/it]"
     ]
    },
    {
     "name": "stdout",
     "output_type": "stream",
     "text": [
      "\n",
      "\t ----- tradeoff_buffer: 22 ----- \n",
      "\t ----- reward: 0.5779725850727244 for f_star and f_minus: 34.12363297035077 , 42.202741492727554\n",
      "[INFO] [2022-12-16 20:16:05,851] [OpenBox-SPO] Iteration 98, objective value: [35.16696284211824].\n"
     ]
    },
    {
     "name": "stderr",
     "output_type": "stream",
     "text": [
      "\r",
      " 10%|████████████████▉                                                                                                                                                            | 98/1000 [2:07:15<24:21:10, 97.20s/it]"
     ]
    },
    {
     "name": "stdout",
     "output_type": "stream",
     "text": [
      "\n",
      "\t ----- tradeoff_buffer: 27 ----- \n",
      "\t ----- reward: 0.6483303715788176 for f_star and f_minus: 34.12363297035077 , 35.16696284211824\n",
      "[INFO] [2022-12-16 20:17:52,709] [OpenBox-SPO] Iteration 99, objective value: [44.69635030933624].\n"
     ]
    },
    {
     "name": "stderr",
     "output_type": "stream",
     "text": [
      "\r",
      " 10%|█████████████████                                                                                                                                                           | 99/1000 [2:09:02<25:03:04, 100.09s/it]"
     ]
    },
    {
     "name": "stdout",
     "output_type": "stream",
     "text": [
      "\n",
      "\t ----- tradeoff_buffer: 29 ----- \n",
      "\t ----- reward: 0.5530364969066376 for f_star and f_minus: 34.12363297035077 , 44.69635030933624\n",
      "[INFO] [2022-12-16 20:19:39,359] [OpenBox-SPO] Iteration 100, objective value: [51.017400136904875].\n"
     ]
    },
    {
     "name": "stderr",
     "output_type": "stream",
     "text": [
      "\r",
      " 10%|█████████████████                                                                                                                                                          | 100/1000 [2:10:49<25:30:54, 102.06s/it]"
     ]
    },
    {
     "name": "stdout",
     "output_type": "stream",
     "text": [
      "\n",
      "\t ----- tradeoff_buffer: 34 ----- \n",
      "\t ----- reward: -1 for f_star and f_minus: 34.12363297035077 , 51.017400136904875\n",
      "[INFO] [2022-12-16 20:21:30,571] [OpenBox-SPO] Iteration 101, objective value: [43.13980921191587].\n"
     ]
    },
    {
     "name": "stderr",
     "output_type": "stream",
     "text": [
      "\r",
      " 10%|█████████████████▎                                                                                                                                                         | 101/1000 [2:12:40<26:10:20, 104.81s/it]"
     ]
    },
    {
     "name": "stdout",
     "output_type": "stream",
     "text": [
      "\n",
      "\t ----- tradeoff_buffer: 30 ----- \n",
      "\t ----- reward: 0.5686019078808413 for f_star and f_minus: 34.12363297035077 , 43.13980921191587\n",
      "[INFO] [2022-12-16 20:23:33,954] [OpenBox-SPO] Iteration 102, objective value: [44.8730218717501].\n"
     ]
    },
    {
     "name": "stderr",
     "output_type": "stream",
     "text": [
      "\r",
      " 10%|█████████████████▍                                                                                                                                                         | 102/1000 [2:14:44<27:32:00, 110.38s/it]"
     ]
    },
    {
     "name": "stdout",
     "output_type": "stream",
     "text": [
      "\n",
      "\t ----- tradeoff_buffer: 31 ----- \n",
      "\t ----- reward: 0.551269781282499 for f_star and f_minus: 34.12363297035077 , 44.8730218717501\n",
      "[INFO] [2022-12-16 20:23:33,956] [Advisor] Sample random config. rand_prob=0.100000.\n",
      "[INFO] [2022-12-16 20:24:31,499] [OpenBox-SPO] Iteration 103, objective value: [54.23351807386683].\n"
     ]
    },
    {
     "name": "stderr",
     "output_type": "stream",
     "text": [
      "\r",
      " 10%|█████████████████▋                                                                                                                                                          | 103/1000 [2:15:41<23:33:12, 94.53s/it]"
     ]
    },
    {
     "name": "stdout",
     "output_type": "stream",
     "text": [
      "\n",
      "\t ----- tradeoff_buffer: 30 ----- \n",
      "\t ----- reward: -1 for f_star and f_minus: 34.12363297035077 , 54.23351807386683\n",
      "[INFO] [2022-12-16 20:24:31,502] [Advisor] Sample random config. rand_prob=0.100000.\n",
      "[INFO] [2022-12-16 20:25:20,504] [OpenBox-SPO] Iteration 104, objective value: [54.727920456649656].\n"
     ]
    },
    {
     "name": "stderr",
     "output_type": "stream",
     "text": [
      "\r",
      " 10%|█████████████████▉                                                                                                                                                          | 104/1000 [2:16:30<20:07:41, 80.87s/it]"
     ]
    },
    {
     "name": "stdout",
     "output_type": "stream",
     "text": [
      "\n",
      "\t ----- tradeoff_buffer: 28 ----- \n",
      "\t ----- reward: -1 for f_star and f_minus: 34.12363297035077 , 54.727920456649656\n",
      "[INFO] [2022-12-16 20:27:37,475] [OpenBox-SPO] Iteration 105, objective value: [35.224816560346994].\n"
     ]
    },
    {
     "name": "stderr",
     "output_type": "stream",
     "text": [
      "\r",
      " 10%|██████████████████                                                                                                                                                          | 105/1000 [2:18:47<24:17:22, 97.70s/it]"
     ]
    },
    {
     "name": "stdout",
     "output_type": "stream",
     "text": [
      "\n",
      "\t ----- tradeoff_buffer: 29 ----- \n",
      "\t ----- reward: 0.6477518343965301 for f_star and f_minus: 34.12363297035077 , 35.224816560346994\n",
      "[INFO] [2022-12-16 20:29:40,912] [OpenBox-SPO] Iteration 106, objective value: [46.62754302552889].\n"
     ]
    },
    {
     "name": "stderr",
     "output_type": "stream",
     "text": [
      "\r",
      " 11%|██████████████████▏                                                                                                                                                        | 106/1000 [2:20:50<26:10:47, 105.42s/it]"
     ]
    },
    {
     "name": "stdout",
     "output_type": "stream",
     "text": [
      "\n",
      "\t ----- tradeoff_buffer: 31 ----- \n",
      "\t ----- reward: 0.533724569744711 for f_star and f_minus: 34.12363297035077 , 46.62754302552889\n",
      "[INFO] [2022-12-16 20:31:39,125] [OpenBox-SPO] Iteration 107, objective value: [47.278009688137004].\n"
     ]
    },
    {
     "name": "stderr",
     "output_type": "stream",
     "text": [
      "\r",
      " 11%|██████████████████▎                                                                                                                                                        | 107/1000 [2:22:49<27:06:08, 109.26s/it]"
     ]
    },
    {
     "name": "stdout",
     "output_type": "stream",
     "text": [
      "\n",
      "\t ----- tradeoff_buffer: 34 ----- \n",
      "\t ----- reward: 0.52721990311863 for f_star and f_minus: 34.12363297035077 , 47.278009688137004\n",
      "[INFO] [2022-12-16 20:33:46,744] [OpenBox-SPO] Iteration 108, objective value: [43.59270611774683].\n"
     ]
    },
    {
     "name": "stderr",
     "output_type": "stream",
     "text": [
      "\r",
      " 11%|██████████████████▍                                                                                                                                                        | 108/1000 [2:24:56<28:26:12, 114.77s/it]"
     ]
    },
    {
     "name": "stdout",
     "output_type": "stream",
     "text": [
      "\n",
      "\t ----- tradeoff_buffer: 30 ----- \n",
      "\t ----- reward: 0.5640729388225317 for f_star and f_minus: 34.12363297035077 , 43.59270611774683\n",
      "[INFO] [2022-12-16 20:36:02,029] [OpenBox-SPO] Iteration 109, objective value: [38.81832952902711].\n"
     ]
    },
    {
     "name": "stderr",
     "output_type": "stream",
     "text": [
      "\r",
      " 11%|██████████████████▋                                                                                                                                                        | 109/1000 [2:27:12<29:55:42, 120.92s/it]"
     ]
    },
    {
     "name": "stdout",
     "output_type": "stream",
     "text": [
      "\n",
      "\t ----- tradeoff_buffer: 26 ----- \n",
      "\t ----- reward: 0.6118167047097289 for f_star and f_minus: 34.12363297035077 , 38.81832952902711\n",
      "[INFO] [2022-12-16 20:37:49,797] [OpenBox-SPO] Iteration 110, objective value: [37.964247199064594].\n"
     ]
    },
    {
     "name": "stderr",
     "output_type": "stream",
     "text": [
      "\r",
      " 11%|██████████████████▊                                                                                                                                                        | 110/1000 [2:28:59<28:55:08, 116.98s/it]"
     ]
    },
    {
     "name": "stdout",
     "output_type": "stream",
     "text": [
      "\n",
      "\t ----- tradeoff_buffer: 26 ----- \n",
      "\t ----- reward: 0.6203575280093541 for f_star and f_minus: 34.12363297035077 , 37.964247199064594\n",
      "[INFO] [2022-12-16 20:39:43,627] [OpenBox-SPO] Iteration 111, objective value: [45.82609924263337].\n"
     ]
    },
    {
     "name": "stderr",
     "output_type": "stream",
     "text": [
      "\r",
      " 11%|██████████████████▉                                                                                                                                                        | 111/1000 [2:30:53<28:39:12, 116.03s/it]"
     ]
    },
    {
     "name": "stdout",
     "output_type": "stream",
     "text": [
      "\n",
      "\t ----- tradeoff_buffer: 23 ----- \n",
      "\t ----- reward: 0.5417390075736663 for f_star and f_minus: 34.12363297035077 , 45.82609924263337\n",
      "[INFO] [2022-12-16 20:41:55,208] [OpenBox-SPO] Iteration 112, objective value: [47.60238228488228].\n"
     ]
    },
    {
     "name": "stderr",
     "output_type": "stream",
     "text": [
      "\r",
      " 11%|███████████████████▏                                                                                                                                                       | 112/1000 [2:33:05<29:46:19, 120.70s/it]"
     ]
    },
    {
     "name": "stdout",
     "output_type": "stream",
     "text": [
      "\n",
      "\t ----- tradeoff_buffer: 22 ----- \n",
      "\t ----- reward: 0.5239761771511772 for f_star and f_minus: 34.12363297035077 , 47.60238228488228\n",
      "[INFO] [2022-12-16 20:44:01,831] [OpenBox-SPO] Iteration 113, objective value: [51.32412025898931].\n"
     ]
    },
    {
     "name": "stderr",
     "output_type": "stream",
     "text": [
      "\r",
      " 11%|███████████████████▎                                                                                                                                                       | 113/1000 [2:35:11<30:10:35, 122.47s/it]"
     ]
    },
    {
     "name": "stdout",
     "output_type": "stream",
     "text": [
      "\n",
      "\t ----- tradeoff_buffer: 24 ----- \n",
      "\t ----- reward: -1 for f_star and f_minus: 34.12363297035077 , 51.32412025898931\n",
      "[INFO] [2022-12-16 20:46:01,499] [OpenBox-SPO] Iteration 114, objective value: [39.07693654496993].\n"
     ]
    },
    {
     "name": "stderr",
     "output_type": "stream",
     "text": [
      "\r",
      " 11%|███████████████████▍                                                                                                                                                       | 114/1000 [2:37:11<29:56:06, 121.63s/it]"
     ]
    },
    {
     "name": "stdout",
     "output_type": "stream",
     "text": [
      "\n",
      "\t ----- tradeoff_buffer: 22 ----- \n",
      "\t ----- reward: 0.6092306345503007 for f_star and f_minus: 34.12363297035077 , 39.07693654496993\n",
      "[INFO] [2022-12-16 20:46:01,501] [Advisor] Sample random config. rand_prob=0.100000.\n",
      "[INFO] [2022-12-16 20:47:09,001] [OpenBox-SPO] Iteration 115, objective value: [46.84767617934609].\n"
     ]
    },
    {
     "name": "stderr",
     "output_type": "stream",
     "text": [
      "\r",
      " 12%|███████████████████▋                                                                                                                                                       | 115/1000 [2:38:19<25:54:33, 105.39s/it]"
     ]
    },
    {
     "name": "stdout",
     "output_type": "stream",
     "text": [
      "\n",
      "\t ----- tradeoff_buffer: 22 ----- \n",
      "\t ----- reward: 0.5315232382065391 for f_star and f_minus: 34.12363297035077 , 46.84767617934609\n",
      "[INFO] [2022-12-16 20:49:20,890] [OpenBox-SPO] Iteration 116, objective value: [42.459963303010305].\n"
     ]
    },
    {
     "name": "stderr",
     "output_type": "stream",
     "text": [
      "\r",
      " 12%|███████████████████▊                                                                                                                                                       | 116/1000 [2:40:30<27:49:54, 113.34s/it]"
     ]
    },
    {
     "name": "stdout",
     "output_type": "stream",
     "text": [
      "\n",
      "\t ----- tradeoff_buffer: 22 ----- \n",
      "\t ----- reward: 0.5754003669698969 for f_star and f_minus: 34.12363297035077 , 42.459963303010305\n",
      "[INFO] [2022-12-16 20:49:20,892] [Advisor] Sample random config. rand_prob=0.100000.\n",
      "[INFO] [2022-12-16 20:50:11,851] [OpenBox-SPO] Iteration 117, objective value: [51.72887446934117].\n"
     ]
    },
    {
     "name": "stderr",
     "output_type": "stream",
     "text": [
      "\r",
      " 12%|████████████████████                                                                                                                                                        | 117/1000 [2:41:21<23:12:36, 94.63s/it]"
     ]
    },
    {
     "name": "stdout",
     "output_type": "stream",
     "text": [
      "\n",
      "\t ----- tradeoff_buffer: 20 ----- \n",
      "\t ----- reward: -1 for f_star and f_minus: 34.12363297035077 , 51.72887446934117\n",
      "[INFO] [2022-12-16 20:50:11,853] [Advisor] Sample random config. rand_prob=0.100000.\n",
      "[INFO] [2022-12-16 20:51:19,685] [OpenBox-SPO] Iteration 118, objective value: [47.41338138653843].\n"
     ]
    },
    {
     "name": "stderr",
     "output_type": "stream",
     "text": [
      "\r",
      " 12%|████████████████████▎                                                                                                                                                       | 118/1000 [2:42:29<21:12:52, 86.59s/it]"
     ]
    },
    {
     "name": "stdout",
     "output_type": "stream",
     "text": [
      "\n",
      "\t ----- tradeoff_buffer: 18 ----- \n",
      "\t ----- reward: 0.5258661861346157 for f_star and f_minus: 34.12363297035077 , 47.41338138653843\n",
      "[INFO] [2022-12-16 20:53:40,535] [OpenBox-SPO] Iteration 119, objective value: [36.7190861646054].\n"
     ]
    },
    {
     "name": "stderr",
     "output_type": "stream",
     "text": [
      "\r",
      " 12%|████████████████████▎                                                                                                                                                      | 119/1000 [2:44:50<25:10:26, 102.87s/it]"
     ]
    },
    {
     "name": "stdout",
     "output_type": "stream",
     "text": [
      "\n",
      "\t ----- tradeoff_buffer: 18 ----- \n",
      "\t ----- reward: 0.632809138353946 for f_star and f_minus: 34.12363297035077 , 36.7190861646054\n",
      "[INFO] [2022-12-16 20:55:49,353] [OpenBox-SPO] Iteration 120, objective value: [41.85487495357072].\n"
     ]
    },
    {
     "name": "stderr",
     "output_type": "stream",
     "text": [
      "\r",
      " 12%|████████████████████▌                                                                                                                                                      | 120/1000 [2:46:59<27:02:54, 110.65s/it]"
     ]
    },
    {
     "name": "stdout",
     "output_type": "stream",
     "text": [
      "\n",
      "\t ----- tradeoff_buffer: 19 ----- \n",
      "\t ----- reward: 0.5814512504642928 for f_star and f_minus: 34.12363297035077 , 41.85487495357072\n",
      "[INFO] [2022-12-16 20:57:48,822] [OpenBox-SPO] Iteration 121, objective value: [46.78290127904465].\n"
     ]
    },
    {
     "name": "stderr",
     "output_type": "stream",
     "text": [
      "\r",
      " 12%|████████████████████▋                                                                                                                                                      | 121/1000 [2:48:58<27:39:48, 113.30s/it]"
     ]
    },
    {
     "name": "stdout",
     "output_type": "stream",
     "text": [
      "\n",
      "\t ----- tradeoff_buffer: 15 ----- \n",
      "\t ----- reward: 0.5321709872095535 for f_star and f_minus: 34.12363297035077 , 46.78290127904465\n",
      "[INFO] [2022-12-16 20:57:48,826] [Advisor] Sample random config. rand_prob=0.100000.\n",
      "[INFO] [2022-12-16 20:59:07,404] [OpenBox-SPO] Iteration 122, objective value: [43.25874290843619].\n"
     ]
    },
    {
     "name": "stderr",
     "output_type": "stream",
     "text": [
      "\r",
      " 12%|████████████████████▊                                                                                                                                                      | 122/1000 [2:50:17<25:05:31, 102.88s/it]"
     ]
    },
    {
     "name": "stdout",
     "output_type": "stream",
     "text": [
      "\n",
      "\t ----- tradeoff_buffer: 18 ----- \n",
      "\t ----- reward: 0.5674125709156381 for f_star and f_minus: 34.12363297035077 , 43.25874290843619\n",
      "[INFO] [2022-12-16 21:01:25,791] [OpenBox-SPO] Iteration 123, objective value: [44.19093853200901].\n"
     ]
    },
    {
     "name": "stderr",
     "output_type": "stream",
     "text": [
      "\r",
      " 12%|█████████████████████                                                                                                                                                      | 123/1000 [2:52:35<27:39:29, 113.53s/it]"
     ]
    },
    {
     "name": "stdout",
     "output_type": "stream",
     "text": [
      "\n",
      "\t ----- tradeoff_buffer: 17 ----- \n",
      "\t ----- reward: 0.55809061467991 for f_star and f_minus: 34.12363297035077 , 44.19093853200901\n",
      "[INFO] [2022-12-16 21:03:10,006] [OpenBox-SPO] Iteration 124, objective value: [46.45611132632395].\n"
     ]
    },
    {
     "name": "stderr",
     "output_type": "stream",
     "text": [
      "\r",
      " 12%|█████████████████████▏                                                                                                                                                     | 124/1000 [2:54:20<26:56:46, 110.74s/it]"
     ]
    },
    {
     "name": "stdout",
     "output_type": "stream",
     "text": [
      "\n",
      "\t ----- tradeoff_buffer: 14 ----- \n",
      "\t ----- reward: 0.5354388867367605 for f_star and f_minus: 34.12363297035077 , 46.45611132632395\n",
      "[INFO] [2022-12-16 21:05:09,922] [OpenBox-SPO] Iteration 125, objective value: [37.438376337923906].\n"
     ]
    },
    {
     "name": "stderr",
     "output_type": "stream",
     "text": [
      "\r",
      " 12%|█████████████████████▍                                                                                                                                                     | 125/1000 [2:56:19<27:35:05, 113.49s/it]"
     ]
    },
    {
     "name": "stdout",
     "output_type": "stream",
     "text": [
      "\n",
      "\t ----- tradeoff_buffer: 9 ----- \n",
      "\t ----- reward: 0.6256162366207609 for f_star and f_minus: 34.12363297035077 , 37.438376337923906\n",
      "[INFO] [2022-12-16 21:06:58,343] [OpenBox-SPO] Iteration 126, objective value: [43.8909692884655].\n"
     ]
    },
    {
     "name": "stderr",
     "output_type": "stream",
     "text": [
      "\r",
      " 13%|█████████████████████▌                                                                                                                                                     | 126/1000 [2:58:08<27:11:02, 111.97s/it]"
     ]
    },
    {
     "name": "stdout",
     "output_type": "stream",
     "text": [
      "\n",
      "\t ----- tradeoff_buffer: 9 ----- \n",
      "\t ----- reward: 0.561090307115345 for f_star and f_minus: 34.12363297035077 , 43.8909692884655\n",
      "[INFO] [2022-12-16 21:08:52,270] [OpenBox-SPO] Iteration 127, objective value: [37.62483223815416].\n"
     ]
    },
    {
     "name": "stderr",
     "output_type": "stream",
     "text": [
      "\r",
      " 13%|█████████████████████▋                                                                                                                                                     | 127/1000 [3:00:02<27:17:42, 112.56s/it]"
     ]
    },
    {
     "name": "stdout",
     "output_type": "stream",
     "text": [
      "\n",
      "\t ----- tradeoff_buffer: 11 ----- \n",
      "\t ----- reward: 0.6237516776184584 for f_star and f_minus: 34.12363297035077 , 37.62483223815416\n",
      "[INFO] [2022-12-16 21:10:39,697] [OpenBox-SPO] Iteration 128, objective value: [47.79074143034844].\n"
     ]
    },
    {
     "name": "stderr",
     "output_type": "stream",
     "text": [
      "\r",
      " 13%|█████████████████████▉                                                                                                                                                     | 128/1000 [3:01:49<26:53:28, 111.02s/it]"
     ]
    },
    {
     "name": "stdout",
     "output_type": "stream",
     "text": [
      "\n",
      "\t ----- tradeoff_buffer: 15 ----- \n",
      "\t ----- reward: 0.5220925856965156 for f_star and f_minus: 34.12363297035077 , 47.79074143034844\n",
      "[INFO] [2022-12-16 21:12:22,635] [OpenBox-SPO] Iteration 129, objective value: [39.1989605318902].\n"
     ]
    },
    {
     "name": "stderr",
     "output_type": "stream",
     "text": [
      "\r",
      " 13%|██████████████████████                                                                                                                                                     | 129/1000 [3:03:32<26:16:25, 108.59s/it]"
     ]
    },
    {
     "name": "stdout",
     "output_type": "stream",
     "text": [
      "\n",
      "\t ----- tradeoff_buffer: 12 ----- \n",
      "\t ----- reward: 0.608010394681098 for f_star and f_minus: 34.12363297035077 , 39.1989605318902\n",
      "[INFO] [2022-12-16 21:12:22,637] [Advisor] Sample random config. rand_prob=0.100000.\n",
      "[INFO] [2022-12-16 21:13:08,297] [OpenBox-SPO] Iteration 130, objective value: [58.51971523366317].\n"
     ]
    },
    {
     "name": "stderr",
     "output_type": "stream",
     "text": [
      "\r",
      " 13%|██████████████████████▎                                                                                                                                                     | 130/1000 [3:04:18<21:40:51, 89.71s/it]"
     ]
    },
    {
     "name": "stdout",
     "output_type": "stream",
     "text": [
      "\n",
      "\t ----- tradeoff_buffer: 15 ----- \n",
      "\t ----- reward: -1 for f_star and f_minus: 34.12363297035077 , 58.51971523366317\n",
      "[INFO] [2022-12-16 21:15:02,497] [OpenBox-SPO] Iteration 131, objective value: [39.50436889103442].\n"
     ]
    },
    {
     "name": "stderr",
     "output_type": "stream",
     "text": [
      "\r",
      " 13%|██████████████████████▌                                                                                                                                                     | 131/1000 [3:06:12<23:25:45, 97.06s/it]"
     ]
    },
    {
     "name": "stdout",
     "output_type": "stream",
     "text": [
      "\n",
      "\t ----- tradeoff_buffer: 18 ----- \n",
      "\t ----- reward: 0.6049563110896559 for f_star and f_minus: 34.12363297035077 , 39.50436889103442\n",
      "[INFO] [2022-12-16 21:16:37,271] [OpenBox-SPO] Iteration 132, objective value: [43.34538512871915].\n"
     ]
    },
    {
     "name": "stderr",
     "output_type": "stream",
     "text": [
      "\r",
      " 13%|██████████████████████▋                                                                                                                                                     | 132/1000 [3:07:47<23:14:13, 96.37s/it]"
     ]
    },
    {
     "name": "stdout",
     "output_type": "stream",
     "text": [
      "\n",
      "\t ----- tradeoff_buffer: 19 ----- \n",
      "\t ----- reward: 0.5665461487128085 for f_star and f_minus: 34.12363297035077 , 43.34538512871915\n",
      "[INFO] [2022-12-16 21:18:18,349] [OpenBox-SPO] Iteration 133, objective value: [51.006366424795715].\n"
     ]
    },
    {
     "name": "stderr",
     "output_type": "stream",
     "text": [
      "\r",
      " 13%|██████████████████████▉                                                                                                                                                     | 133/1000 [3:09:28<23:32:59, 97.79s/it]"
     ]
    },
    {
     "name": "stdout",
     "output_type": "stream",
     "text": [
      "\n",
      "\t ----- tradeoff_buffer: 19 ----- \n",
      "\t ----- reward: -1 for f_star and f_minus: 34.12363297035077 , 51.006366424795715\n",
      "[INFO] [2022-12-16 21:19:58,511] [OpenBox-SPO] Iteration 134, objective value: [37.45761451325645].\n"
     ]
    },
    {
     "name": "stderr",
     "output_type": "stream",
     "text": [
      "\r",
      " 13%|███████████████████████                                                                                                                                                     | 134/1000 [3:11:08<23:41:39, 98.50s/it]"
     ]
    },
    {
     "name": "stdout",
     "output_type": "stream",
     "text": [
      "\n",
      "\t ----- tradeoff_buffer: 16 ----- \n",
      "\t ----- reward: 0.6254238548674355 for f_star and f_minus: 34.12363297035077 , 37.45761451325645\n",
      "[INFO] [2022-12-16 21:21:50,444] [OpenBox-SPO] Iteration 135, objective value: [40.06216812418813].\n"
     ]
    },
    {
     "name": "stderr",
     "output_type": "stream",
     "text": [
      "\r",
      " 14%|███████████████████████                                                                                                                                                    | 135/1000 [3:13:00<24:38:07, 102.53s/it]"
     ]
    },
    {
     "name": "stdout",
     "output_type": "stream",
     "text": [
      "\n",
      "\t ----- tradeoff_buffer: 13 ----- \n",
      "\t ----- reward: 0.5993783187581186 for f_star and f_minus: 34.12363297035077 , 40.06216812418813\n",
      "[INFO] [2022-12-16 21:31:22,306] [OpenBox-SPO] Iteration 136, objective value: [44.7370211050028].\n"
     ]
    },
    {
     "name": "stderr",
     "output_type": "stream",
     "text": [
      "\r",
      " 14%|███████████████████████▎                                                                                                                                                   | 136/1000 [3:22:32<58:23:55, 243.33s/it]"
     ]
    },
    {
     "name": "stdout",
     "output_type": "stream",
     "text": [
      "\n",
      "\t ----- tradeoff_buffer: 12 ----- \n",
      "\t ----- reward: 0.552629788949972 for f_star and f_minus: 34.12363297035077 , 44.7370211050028\n",
      "[INFO] [2022-12-16 21:34:06,147] [OpenBox-SPO] Iteration 137, objective value: [46.1024831887614].\n"
     ]
    },
    {
     "name": "stderr",
     "output_type": "stream",
     "text": [
      "\r",
      " 14%|███████████████████████▍                                                                                                                                                   | 137/1000 [3:25:16<52:36:53, 219.48s/it]"
     ]
    },
    {
     "name": "stdout",
     "output_type": "stream",
     "text": [
      "\n",
      "\t ----- tradeoff_buffer: 16 ----- \n",
      "\t ----- reward: 0.538975168112386 for f_star and f_minus: 34.12363297035077 , 46.1024831887614\n",
      "[INFO] [2022-12-16 21:35:30,529] [OpenBox-SPO] Iteration 138, objective value: [42.686313423417985].\n"
     ]
    },
    {
     "name": "stderr",
     "output_type": "stream",
     "text": [
      "\r",
      " 14%|███████████████████████▌                                                                                                                                                   | 138/1000 [3:26:40<42:50:56, 178.95s/it]"
     ]
    },
    {
     "name": "stdout",
     "output_type": "stream",
     "text": [
      "\n",
      "\t ----- tradeoff_buffer: 17 ----- \n",
      "\t ----- reward: 0.5731368657658201 for f_star and f_minus: 34.12363297035077 , 42.686313423417985\n",
      "[INFO] [2022-12-16 21:49:07,573] [OpenBox-SPO] Iteration 139, objective value: [38.131350812819775].\n"
     ]
    },
    {
     "name": "stderr",
     "output_type": "stream",
     "text": [
      "\r",
      " 14%|███████████████████████▊                                                                                                                                                   | 139/1000 [3:40:17<88:34:56, 370.38s/it]"
     ]
    },
    {
     "name": "stdout",
     "output_type": "stream",
     "text": [
      "\n",
      "\t ----- tradeoff_buffer: 21 ----- \n",
      "\t ----- reward: 0.6186864918718022 for f_star and f_minus: 34.12363297035077 , 38.131350812819775\n",
      "[INFO] [2022-12-16 21:49:07,574] [Advisor] Sample random config. rand_prob=0.100000.\n",
      "[INFO] [2022-12-16 21:49:52,891] [OpenBox-SPO] Iteration 140, objective value: [54.25104782415182].\n"
     ]
    },
    {
     "name": "stderr",
     "output_type": "stream",
     "text": [
      "\r",
      " 14%|███████████████████████▉                                                                                                                                                   | 140/1000 [3:41:02<65:11:00, 272.86s/it]"
     ]
    },
    {
     "name": "stdout",
     "output_type": "stream",
     "text": [
      "\n",
      "\t ----- tradeoff_buffer: 22 ----- \n",
      "\t ----- reward: -1 for f_star and f_minus: 34.12363297035077 , 54.25104782415182\n",
      "[INFO] [2022-12-16 21:53:24,196] [OpenBox-SPO] Iteration 141, objective value: [46.24774725714573].\n"
     ]
    },
    {
     "name": "stderr",
     "output_type": "stream",
     "text": [
      "\r",
      " 14%|████████████████████████                                                                                                                                                   | 141/1000 [3:44:34<60:42:04, 254.39s/it]"
     ]
    },
    {
     "name": "stdout",
     "output_type": "stream",
     "text": [
      "\n",
      "\t ----- tradeoff_buffer: 22 ----- \n",
      "\t ----- reward: 0.5375225274285427 for f_star and f_minus: 34.12363297035077 , 46.24774725714573\n",
      "[INFO] [2022-12-16 21:55:43,187] [OpenBox-SPO] Iteration 142, objective value: [36.786952582345556].\n"
     ]
    },
    {
     "name": "stderr",
     "output_type": "stream",
     "text": [
      "\r",
      " 14%|████████████████████████▎                                                                                                                                                  | 142/1000 [3:46:53<52:22:45, 219.77s/it]"
     ]
    },
    {
     "name": "stdout",
     "output_type": "stream",
     "text": [
      "\n",
      "\t ----- tradeoff_buffer: 22 ----- \n",
      "\t ----- reward: 0.6321304741765444 for f_star and f_minus: 34.12363297035077 , 36.786952582345556\n",
      "[INFO] [2022-12-16 22:04:14,132] [OpenBox-SPO] Iteration 143, objective value: [50.82757573438571].\n"
     ]
    },
    {
     "name": "stderr",
     "output_type": "stream",
     "text": [
      "\r",
      " 14%|████████████████████████▍                                                                                                                                                  | 143/1000 [3:55:24<73:06:46, 307.12s/it]"
     ]
    },
    {
     "name": "stdout",
     "output_type": "stream",
     "text": [
      "\n",
      "\t ----- tradeoff_buffer: 27 ----- \n",
      "\t ----- reward: -1 for f_star and f_minus: 34.12363297035077 , 50.82757573438571\n",
      "[INFO] [2022-12-16 22:06:16,694] [OpenBox-SPO] Iteration 144, objective value: [40.166379467886316].\n"
     ]
    },
    {
     "name": "stderr",
     "output_type": "stream",
     "text": [
      "\r",
      " 14%|████████████████████████▌                                                                                                                                                  | 144/1000 [3:57:26<59:51:43, 251.76s/it]"
     ]
    },
    {
     "name": "stdout",
     "output_type": "stream",
     "text": [
      "\n",
      "\t ----- tradeoff_buffer: 31 ----- \n",
      "\t ----- reward: 0.5983362053211368 for f_star and f_minus: 34.12363297035077 , 40.166379467886316\n",
      "[INFO] [2022-12-16 22:08:19,979] [OpenBox-SPO] Iteration 145, objective value: [40.53655988745186].\n"
     ]
    },
    {
     "name": "stderr",
     "output_type": "stream",
     "text": [
      "\r",
      " 14%|████████████████████████▊                                                                                                                                                  | 145/1000 [3:59:30<50:38:18, 213.21s/it]"
     ]
    },
    {
     "name": "stdout",
     "output_type": "stream",
     "text": [
      "\n",
      "\t ----- tradeoff_buffer: 29 ----- \n",
      "\t ----- reward: 0.5946344011254814 for f_star and f_minus: 34.12363297035077 , 40.53655988745186\n",
      "[INFO] [2022-12-16 22:10:11,187] [OpenBox-SPO] Iteration 146, objective value: [50.18865123598036].\n"
     ]
    },
    {
     "name": "stderr",
     "output_type": "stream",
     "text": [
      "\r",
      " 15%|████████████████████████▉                                                                                                                                                  | 146/1000 [4:01:21<43:19:11, 182.61s/it]"
     ]
    },
    {
     "name": "stdout",
     "output_type": "stream",
     "text": [
      "\n",
      "\t ----- tradeoff_buffer: 30 ----- \n",
      "\t ----- reward: -1 for f_star and f_minus: 34.12363297035077 , 50.18865123598036\n",
      "[INFO] [2022-12-16 22:10:11,191] [Advisor] Sample random config. rand_prob=0.100000.\n",
      "[INFO] [2022-12-16 22:11:06,882] [OpenBox-SPO] Iteration 147, objective value: [54.73949745777272].\n"
     ]
    },
    {
     "name": "stderr",
     "output_type": "stream",
     "text": [
      "\r",
      " 15%|█████████████████████████▏                                                                                                                                                 | 147/1000 [4:02:16<34:14:50, 144.54s/it]"
     ]
    },
    {
     "name": "stdout",
     "output_type": "stream",
     "text": [
      "\n",
      "\t ----- tradeoff_buffer: 25 ----- \n",
      "\t ----- reward: -1 for f_star and f_minus: 34.12363297035077 , 54.73949745777272\n",
      "[INFO] [2022-12-16 22:12:43,294] [OpenBox-SPO] Iteration 148, objective value: [38.85996997081753].\n"
     ]
    },
    {
     "name": "stderr",
     "output_type": "stream",
     "text": [
      "\r",
      " 15%|█████████████████████████▎                                                                                                                                                 | 148/1000 [4:03:53<30:47:25, 130.10s/it]"
     ]
    },
    {
     "name": "stdout",
     "output_type": "stream",
     "text": [
      "\n",
      "\t ----- tradeoff_buffer: 30 ----- \n",
      "\t ----- reward: 0.6114003002918247 for f_star and f_minus: 34.12363297035077 , 38.85996997081753\n",
      "[INFO] [2022-12-16 22:14:27,438] [OpenBox-SPO] Iteration 149, objective value: [58.36986265503008].\n"
     ]
    },
    {
     "name": "stderr",
     "output_type": "stream",
     "text": [
      "\r",
      " 15%|█████████████████████████▍                                                                                                                                                 | 149/1000 [4:05:37<28:54:48, 122.31s/it]"
     ]
    },
    {
     "name": "stdout",
     "output_type": "stream",
     "text": [
      "\n",
      "\t ----- tradeoff_buffer: 33 ----- \n",
      "\t ----- reward: -1 for f_star and f_minus: 34.12363297035077 , 58.36986265503008\n",
      "[INFO] [2022-12-16 22:16:17,771] [OpenBox-SPO] Iteration 150, objective value: [37.46449331414935].\n"
     ]
    },
    {
     "name": "stderr",
     "output_type": "stream",
     "text": [
      "\r",
      " 15%|█████████████████████████▋                                                                                                                                                 | 150/1000 [4:07:27<28:01:51, 118.72s/it]"
     ]
    },
    {
     "name": "stdout",
     "output_type": "stream",
     "text": [
      "\n",
      "\t ----- tradeoff_buffer: 28 ----- \n",
      "\t ----- reward: 0.6253550668585065 for f_star and f_minus: 34.12363297035077 , 37.46449331414935\n",
      "[INFO] [2022-12-16 22:17:58,426] [OpenBox-SPO] Iteration 151, objective value: [40.28411523787461].\n"
     ]
    },
    {
     "name": "stderr",
     "output_type": "stream",
     "text": [
      "\r",
      " 15%|█████████████████████████▊                                                                                                                                                 | 151/1000 [4:09:08<26:43:11, 113.30s/it]"
     ]
    },
    {
     "name": "stdout",
     "output_type": "stream",
     "text": [
      "\n",
      "\t ----- tradeoff_buffer: 25 ----- \n",
      "\t ----- reward: 0.5971588476212539 for f_star and f_minus: 34.12363297035077 , 40.28411523787461\n",
      "[INFO] [2022-12-16 22:19:53,664] [OpenBox-SPO] Iteration 152, objective value: [46.426970171138805].\n"
     ]
    },
    {
     "name": "stderr",
     "output_type": "stream",
     "text": [
      "\r",
      " 15%|█████████████████████████▉                                                                                                                                                 | 152/1000 [4:11:03<26:49:30, 113.88s/it]"
     ]
    },
    {
     "name": "stdout",
     "output_type": "stream",
     "text": [
      "\n",
      "\t ----- tradeoff_buffer: 23 ----- \n",
      "\t ----- reward: 0.535730298288612 for f_star and f_minus: 34.12363297035077 , 46.426970171138805\n",
      "[INFO] [2022-12-16 22:22:00,743] [OpenBox-SPO] Iteration 153, objective value: [39.87502017318878].\n"
     ]
    },
    {
     "name": "stderr",
     "output_type": "stream",
     "text": [
      "\r",
      " 15%|██████████████████████████▏                                                                                                                                                | 153/1000 [4:13:10<27:43:30, 117.84s/it]"
     ]
    },
    {
     "name": "stdout",
     "output_type": "stream",
     "text": [
      "\n",
      "\t ----- tradeoff_buffer: 22 ----- \n",
      "\t ----- reward: 0.6012497982681122 for f_star and f_minus: 34.12363297035077 , 39.87502017318878\n",
      "[INFO] [2022-12-16 22:23:42,035] [OpenBox-SPO] Iteration 154, objective value: [38.86189526603508].\n"
     ]
    },
    {
     "name": "stderr",
     "output_type": "stream",
     "text": [
      "\r",
      " 15%|██████████████████████████▎                                                                                                                                                | 154/1000 [4:14:52<26:31:33, 112.88s/it]"
     ]
    },
    {
     "name": "stdout",
     "output_type": "stream",
     "text": [
      "\n",
      "\t ----- tradeoff_buffer: 22 ----- \n",
      "\t ----- reward: 0.6113810473396493 for f_star and f_minus: 34.12363297035077 , 38.86189526603508\n",
      "[INFO] [2022-12-16 22:25:17,070] [OpenBox-SPO] Iteration 155, objective value: [44.182027243591946].\n"
     ]
    },
    {
     "name": "stderr",
     "output_type": "stream",
     "text": [
      "\r",
      " 16%|██████████████████████████▌                                                                                                                                                | 155/1000 [4:16:27<25:14:17, 107.52s/it]"
     ]
    },
    {
     "name": "stdout",
     "output_type": "stream",
     "text": [
      "\n",
      "\t ----- tradeoff_buffer: 21 ----- \n",
      "\t ----- reward: 0.5581797275640805 for f_star and f_minus: 34.12363297035077 , 44.182027243591946\n",
      "[INFO] [2022-12-16 22:27:10,170] [OpenBox-SPO] Iteration 156, objective value: [33.35737807377008].\n"
     ]
    },
    {
     "name": "stderr",
     "output_type": "stream",
     "text": [
      "\r",
      " 16%|██████████████████████████▋                                                                                                                                                | 156/1000 [4:18:20<25:36:01, 109.20s/it]"
     ]
    },
    {
     "name": "stdout",
     "output_type": "stream",
     "text": [
      "\n",
      "\t ----- tradeoff_buffer: 26 ----- \n",
      "\t ----- reward: 0.6664262192622992 for f_star and f_minus: 34.12363297035077 , 33.35737807377008\n",
      "[INFO] [2022-12-16 22:29:15,615] [OpenBox-SPO] Iteration 157, objective value: [49.64002610404765].\n"
     ]
    },
    {
     "name": "stderr",
     "output_type": "stream",
     "text": [
      "\r",
      " 16%|██████████████████████████▊                                                                                                                                                | 157/1000 [4:20:25<26:42:42, 114.07s/it]"
     ]
    },
    {
     "name": "stdout",
     "output_type": "stream",
     "text": [
      "\n",
      "\t ----- tradeoff_buffer: 31 ----- \n",
      "\t ----- reward: 0.5035997389595235 for f_star and f_minus: 34.12363297035077 , 49.64002610404765\n",
      "[INFO] [2022-12-16 22:31:48,159] [OpenBox-SPO] Iteration 158, objective value: [36.58820348496394].\n"
     ]
    },
    {
     "name": "stderr",
     "output_type": "stream",
     "text": [
      "\r",
      " 16%|███████████████████████████                                                                                                                                                | 158/1000 [4:22:58<29:22:46, 125.61s/it]"
     ]
    },
    {
     "name": "stdout",
     "output_type": "stream",
     "text": [
      "\n",
      "\t ----- tradeoff_buffer: 26 ----- \n",
      "\t ----- reward: 0.6341179651503606 for f_star and f_minus: 33.35737807377008 , 36.58820348496394\n",
      "[INFO] [2022-12-16 22:31:48,163] [Advisor] Sample random config. rand_prob=0.100000.\n",
      "[INFO] [2022-12-16 22:33:04,769] [OpenBox-SPO] Iteration 159, objective value: [56.86764122687159].\n"
     ]
    },
    {
     "name": "stderr",
     "output_type": "stream",
     "text": [
      "\r",
      " 16%|███████████████████████████▏                                                                                                                                               | 159/1000 [4:24:14<25:54:37, 110.91s/it]"
     ]
    },
    {
     "name": "stdout",
     "output_type": "stream",
     "text": [
      "\n",
      "\t ----- tradeoff_buffer: 27 ----- \n",
      "\t ----- reward: -1 for f_star and f_minus: 33.35737807377008 , 56.86764122687159\n",
      "[INFO] [2022-12-16 22:34:41,299] [OpenBox-SPO] Iteration 160, objective value: [47.34783683771222].\n"
     ]
    },
    {
     "name": "stderr",
     "output_type": "stream",
     "text": [
      "\r",
      " 16%|███████████████████████████▎                                                                                                                                               | 160/1000 [4:25:51<24:52:21, 106.60s/it]"
     ]
    },
    {
     "name": "stdout",
     "output_type": "stream",
     "text": [
      "\n",
      "\t ----- tradeoff_buffer: 24 ----- \n",
      "\t ----- reward: 0.5265216316228778 for f_star and f_minus: 33.35737807377008 , 47.34783683771222\n",
      "[INFO] [2022-12-16 22:34:41,301] [Advisor] Sample random config. rand_prob=0.100000.\n",
      "[INFO] [2022-12-16 22:35:27,541] [OpenBox-SPO] Iteration 161, objective value: [54.80033966514218].\n"
     ]
    },
    {
     "name": "stderr",
     "output_type": "stream",
     "text": [
      "\r",
      " 16%|███████████████████████████▋                                                                                                                                                | 161/1000 [4:26:37<20:37:23, 88.49s/it]"
     ]
    },
    {
     "name": "stdout",
     "output_type": "stream",
     "text": [
      "\n",
      "\t ----- tradeoff_buffer: 19 ----- \n",
      "\t ----- reward: -1 for f_star and f_minus: 33.35737807377008 , 54.80033966514218\n",
      "[INFO] [2022-12-16 22:36:49,758] [OpenBox-SPO] Iteration 162, objective value: [46.5283097971666].\n"
     ]
    },
    {
     "name": "stderr",
     "output_type": "stream",
     "text": [
      "\r",
      " 16%|███████████████████████████▊                                                                                                                                                | 162/1000 [4:27:59<20:09:38, 86.61s/it]"
     ]
    },
    {
     "name": "stdout",
     "output_type": "stream",
     "text": [
      "\n",
      "\t ----- tradeoff_buffer: 19 ----- \n",
      "\t ----- reward: 0.534716902028334 for f_star and f_minus: 33.35737807377008 , 46.5283097971666\n",
      "[INFO] [2022-12-16 22:38:10,003] [OpenBox-SPO] Iteration 163, objective value: [46.6491484477804].\n"
     ]
    },
    {
     "name": "stderr",
     "output_type": "stream",
     "text": [
      "\r",
      " 16%|████████████████████████████                                                                                                                                                | 163/1000 [4:29:20<19:41:33, 84.70s/it]"
     ]
    },
    {
     "name": "stdout",
     "output_type": "stream",
     "text": [
      "\n",
      "\t ----- tradeoff_buffer: 19 ----- \n",
      "\t ----- reward: 0.533508515522196 for f_star and f_minus: 33.35737807377008 , 46.6491484477804\n",
      "[INFO] [2022-12-16 22:39:31,771] [OpenBox-SPO] Iteration 164, objective value: [54.675398646626306].\n"
     ]
    },
    {
     "name": "stderr",
     "output_type": "stream",
     "text": [
      "\r",
      " 16%|████████████████████████████▏                                                                                                                                               | 164/1000 [4:30:41<19:27:53, 83.82s/it]"
     ]
    },
    {
     "name": "stdout",
     "output_type": "stream",
     "text": [
      "\n",
      "\t ----- tradeoff_buffer: 17 ----- \n",
      "\t ----- reward: -1 for f_star and f_minus: 33.35737807377008 , 54.675398646626306\n",
      "[INFO] [2022-12-16 22:40:58,431] [OpenBox-SPO] Iteration 165, objective value: [36.187833138038386].\n"
     ]
    },
    {
     "name": "stderr",
     "output_type": "stream",
     "text": [
      "\r",
      " 16%|████████████████████████████▍                                                                                                                                               | 165/1000 [4:32:08<19:38:21, 84.67s/it]"
     ]
    },
    {
     "name": "stdout",
     "output_type": "stream",
     "text": [
      "\n",
      "\t ----- tradeoff_buffer: 15 ----- \n",
      "\t ----- reward: 0.6381216686196162 for f_star and f_minus: 33.35737807377008 , 36.187833138038386\n",
      "[INFO] [2022-12-16 22:42:22,960] [OpenBox-SPO] Iteration 166, objective value: [34.48120288609883].\n"
     ]
    },
    {
     "name": "stderr",
     "output_type": "stream",
     "text": [
      "\r",
      " 17%|████████████████████████████▌                                                                                                                                               | 166/1000 [4:33:33<19:36:20, 84.63s/it]"
     ]
    },
    {
     "name": "stdout",
     "output_type": "stream",
     "text": [
      "\n",
      "\t ----- tradeoff_buffer: 16 ----- \n",
      "\t ----- reward: 0.6551879711390117 for f_star and f_minus: 33.35737807377008 , 34.48120288609883\n",
      "[INFO] [2022-12-16 22:43:52,631] [OpenBox-SPO] Iteration 167, objective value: [40.30315996549717].\n"
     ]
    },
    {
     "name": "stderr",
     "output_type": "stream",
     "text": [
      "\r",
      " 17%|████████████████████████████▋                                                                                                                                               | 167/1000 [4:35:02<19:55:55, 86.14s/it]"
     ]
    },
    {
     "name": "stdout",
     "output_type": "stream",
     "text": [
      "\n",
      "\t ----- tradeoff_buffer: 11 ----- \n",
      "\t ----- reward: 0.5969684003450283 for f_star and f_minus: 33.35737807377008 , 40.30315996549717\n",
      "[INFO] [2022-12-16 22:45:11,086] [OpenBox-SPO] Iteration 168, objective value: [38.819439798846304].\n"
     ]
    },
    {
     "name": "stderr",
     "output_type": "stream",
     "text": [
      "\r",
      " 17%|████████████████████████████▉                                                                                                                                               | 168/1000 [4:36:21<19:22:31, 83.84s/it]"
     ]
    },
    {
     "name": "stdout",
     "output_type": "stream",
     "text": [
      "\n",
      "\t ----- tradeoff_buffer: 16 ----- \n",
      "\t ----- reward: 0.611805602011537 for f_star and f_minus: 33.35737807377008 , 38.819439798846304\n",
      "[INFO] [2022-12-16 22:46:42,520] [OpenBox-SPO] Iteration 169, objective value: [42.93974546125063].\n"
     ]
    },
    {
     "name": "stderr",
     "output_type": "stream",
     "text": [
      "\r",
      " 17%|█████████████████████████████                                                                                                                                               | 169/1000 [4:37:52<19:52:41, 86.12s/it]"
     ]
    },
    {
     "name": "stdout",
     "output_type": "stream",
     "text": [
      "\n",
      "\t ----- tradeoff_buffer: 11 ----- \n",
      "\t ----- reward: 0.5706025453874937 for f_star and f_minus: 33.35737807377008 , 42.93974546125063\n",
      "[INFO] [2022-12-16 22:48:16,038] [OpenBox-SPO] Iteration 170, objective value: [32.97580362120989].\n"
     ]
    },
    {
     "name": "stderr",
     "output_type": "stream",
     "text": [
      "\r",
      " 17%|█████████████████████████████▏                                                                                                                                              | 170/1000 [4:39:26<20:21:59, 88.34s/it]"
     ]
    },
    {
     "name": "stdout",
     "output_type": "stream",
     "text": [
      "\n",
      "\t ----- tradeoff_buffer: 6 ----- \n",
      "\t ----- reward: 0.6702419637879011 for f_star and f_minus: 33.35737807377008 , 32.97580362120989\n",
      "[INFO] [2022-12-16 22:49:39,272] [OpenBox-SPO] Iteration 171, objective value: [42.04495318355097].\n"
     ]
    },
    {
     "name": "stderr",
     "output_type": "stream",
     "text": [
      "\r",
      " 17%|█████████████████████████████▍                                                                                                                                              | 171/1000 [4:40:49<19:59:21, 86.81s/it]"
     ]
    },
    {
     "name": "stdout",
     "output_type": "stream",
     "text": [
      "\n",
      "\t ----- tradeoff_buffer: 2 ----- \n",
      "\t ----- reward: 0.5795504681644903 for f_star and f_minus: 33.35737807377008 , 42.04495318355097\n",
      "[INFO] [2022-12-16 22:51:05,212] [OpenBox-SPO] Iteration 172, objective value: [46.99419820170979].\n"
     ]
    },
    {
     "name": "stderr",
     "output_type": "stream",
     "text": [
      "\r",
      " 17%|█████████████████████████████▌                                                                                                                                              | 172/1000 [4:42:15<19:54:19, 86.55s/it]"
     ]
    },
    {
     "name": "stdout",
     "output_type": "stream",
     "text": [
      "\n",
      "\t ----- tradeoff_buffer: 2 ----- \n",
      "\t ----- reward: 0.5300580179829021 for f_star and f_minus: 32.97580362120989 , 46.99419820170979\n",
      "[INFO] [2022-12-16 22:52:29,529] [OpenBox-SPO] Iteration 173, objective value: [38.95200518281625].\n"
     ]
    },
    {
     "name": "stderr",
     "output_type": "stream",
     "text": [
      "\r",
      " 17%|█████████████████████████████▊                                                                                                                                              | 173/1000 [4:43:39<19:43:40, 85.88s/it]"
     ]
    },
    {
     "name": "stdout",
     "output_type": "stream",
     "text": [
      "\n",
      "\t ----- tradeoff_buffer: 2 ----- \n",
      "\t ----- reward: 0.6104799481718375 for f_star and f_minus: 32.97580362120989 , 38.95200518281625\n",
      "[INFO] [2022-12-16 22:53:56,171] [OpenBox-SPO] Iteration 174, objective value: [41.64644128764412].\n"
     ]
    },
    {
     "name": "stderr",
     "output_type": "stream",
     "text": [
      "\r",
      " 17%|█████████████████████████████▉                                                                                                                                              | 174/1000 [4:45:06<19:45:23, 86.11s/it]"
     ]
    },
    {
     "name": "stdout",
     "output_type": "stream",
     "text": [
      "\n",
      "\t ----- tradeoff_buffer: 2 ----- \n",
      "\t ----- reward: 0.5835355871235588 for f_star and f_minus: 32.97580362120989 , 41.64644128764412\n",
      "[INFO] [2022-12-16 22:55:14,803] [OpenBox-SPO] Iteration 175, objective value: [45.812878109985114].\n"
     ]
    },
    {
     "name": "stderr",
     "output_type": "stream",
     "text": [
      "\r",
      " 18%|██████████████████████████████                                                                                                                                              | 175/1000 [4:46:24<19:13:07, 83.86s/it]"
     ]
    },
    {
     "name": "stdout",
     "output_type": "stream",
     "text": [
      "\n",
      "\t ----- tradeoff_buffer: 2 ----- \n",
      "\t ----- reward: 0.5418712189001489 for f_star and f_minus: 32.97580362120989 , 45.812878109985114\n",
      "[INFO] [2022-12-16 22:56:24,478] [OpenBox-SPO] Iteration 176, objective value: [52.777093339646456].\n"
     ]
    },
    {
     "name": "stderr",
     "output_type": "stream",
     "text": [
      "\r",
      " 18%|██████████████████████████████▎                                                                                                                                             | 176/1000 [4:47:34<18:13:16, 79.61s/it]"
     ]
    },
    {
     "name": "stdout",
     "output_type": "stream",
     "text": [
      "\n",
      "\t ----- tradeoff_buffer: 2 ----- \n",
      "\t ----- reward: -1 for f_star and f_minus: 32.97580362120989 , 52.777093339646456\n",
      "[INFO] [2022-12-16 22:57:48,936] [OpenBox-SPO] Iteration 177, objective value: [37.43730706540772].\n"
     ]
    },
    {
     "name": "stderr",
     "output_type": "stream",
     "text": [
      "\r",
      " 18%|██████████████████████████████▍                                                                                                                                             | 177/1000 [4:48:58<18:31:54, 81.06s/it]"
     ]
    },
    {
     "name": "stdout",
     "output_type": "stream",
     "text": [
      "\n",
      "\t ----- tradeoff_buffer: 2 ----- \n",
      "\t ----- reward: 0.6256269293459228 for f_star and f_minus: 32.97580362120989 , 37.43730706540772\n",
      "[INFO] [2022-12-16 22:59:30,365] [OpenBox-SPO] Iteration 178, objective value: [42.639454550960586].\n"
     ]
    },
    {
     "name": "stderr",
     "output_type": "stream",
     "text": [
      "\r",
      " 18%|██████████████████████████████▌                                                                                                                                             | 178/1000 [4:50:40<19:54:15, 87.17s/it]"
     ]
    },
    {
     "name": "stdout",
     "output_type": "stream",
     "text": [
      "\n",
      "\t ----- tradeoff_buffer: 1 ----- \n",
      "\t ----- reward: 0.5736054544903941 for f_star and f_minus: 32.97580362120989 , 42.639454550960586\n",
      "[INFO] [2022-12-16 23:00:53,559] [OpenBox-SPO] Iteration 179, objective value: [39.51646624141887].\n"
     ]
    },
    {
     "name": "stderr",
     "output_type": "stream",
     "text": [
      "\r",
      " 18%|██████████████████████████████▊                                                                                                                                             | 179/1000 [4:52:03<19:36:28, 85.98s/it]"
     ]
    },
    {
     "name": "stdout",
     "output_type": "stream",
     "text": [
      "\n",
      "\t ----- tradeoff_buffer: 1 ----- \n",
      "\t ----- reward: 0.6048353375858113 for f_star and f_minus: 32.97580362120989 , 39.51646624141887\n",
      "[INFO] [2022-12-16 23:02:18,594] [OpenBox-SPO] Iteration 180, objective value: [41.37954310294969].\n"
     ]
    },
    {
     "name": "stderr",
     "output_type": "stream",
     "text": [
      "\r",
      " 18%|██████████████████████████████▉                                                                                                                                             | 180/1000 [4:53:28<19:31:10, 85.70s/it]"
     ]
    },
    {
     "name": "stdout",
     "output_type": "stream",
     "text": [
      "\n",
      "\t ----- tradeoff_buffer: 1 ----- \n",
      "\t ----- reward: 0.5862045689705031 for f_star and f_minus: 32.97580362120989 , 41.37954310294969\n",
      "[INFO] [2022-12-16 23:03:52,097] [OpenBox-SPO] Iteration 181, objective value: [37.4891929934704].\n"
     ]
    },
    {
     "name": "stderr",
     "output_type": "stream",
     "text": [
      "\r",
      " 18%|███████████████████████████████▏                                                                                                                                            | 181/1000 [4:55:02<20:01:43, 88.04s/it]"
     ]
    },
    {
     "name": "stdout",
     "output_type": "stream",
     "text": [
      "\n",
      "\t ----- tradeoff_buffer: 1 ----- \n",
      "\t ----- reward: 0.625108070065296 for f_star and f_minus: 32.97580362120989 , 37.4891929934704\n",
      "[INFO] [2022-12-16 23:05:21,889] [OpenBox-SPO] Iteration 182, objective value: [41.041034096214965].\n"
     ]
    },
    {
     "name": "stderr",
     "output_type": "stream",
     "text": [
      "\r",
      " 18%|███████████████████████████████▎                                                                                                                                            | 182/1000 [4:56:31<20:07:25, 88.56s/it]"
     ]
    },
    {
     "name": "stdout",
     "output_type": "stream",
     "text": [
      "\n",
      "\t ----- tradeoff_buffer: 0 ----- \n",
      "\t ----- reward: 0.5895896590378504 for f_star and f_minus: 32.97580362120989 , 41.041034096214965\n",
      "[INFO] [2022-12-16 23:06:43,310] [OpenBox-SPO] Iteration 183, objective value: [39.603653104068506].\n"
     ]
    },
    {
     "name": "stderr",
     "output_type": "stream",
     "text": [
      "\r",
      " 18%|███████████████████████████████▍                                                                                                                                            | 183/1000 [4:57:53<19:36:46, 86.42s/it]"
     ]
    },
    {
     "name": "stdout",
     "output_type": "stream",
     "text": [
      "\n",
      "\t ----- tradeoff_buffer: 1 ----- \n",
      "\t ----- reward: 0.603963468959315 for f_star and f_minus: 32.97580362120989 , 39.603653104068506\n",
      "[INFO] [2022-12-16 23:08:10,883] [OpenBox-SPO] Iteration 184, objective value: [50.14262927837913].\n"
     ]
    },
    {
     "name": "stderr",
     "output_type": "stream",
     "text": [
      "\r",
      " 18%|███████████████████████████████▋                                                                                                                                            | 184/1000 [4:59:20<19:40:01, 86.77s/it]"
     ]
    },
    {
     "name": "stdout",
     "output_type": "stream",
     "text": [
      "\n",
      "\t ----- tradeoff_buffer: 1 ----- \n",
      "\t ----- reward: -1 for f_star and f_minus: 32.97580362120989 , 50.14262927837913\n",
      "[INFO] [2022-12-16 23:09:39,745] [OpenBox-SPO] Iteration 185, objective value: [47.143178876922235].\n"
     ]
    },
    {
     "name": "stderr",
     "output_type": "stream",
     "text": [
      "\r",
      " 18%|███████████████████████████████▊                                                                                                                                            | 185/1000 [5:00:49<19:47:07, 87.40s/it]"
     ]
    },
    {
     "name": "stdout",
     "output_type": "stream",
     "text": [
      "\n",
      "\t ----- tradeoff_buffer: 0 ----- \n",
      "\t ----- reward: 0.5285682112307777 for f_star and f_minus: 32.97580362120989 , 47.143178876922235\n",
      "[INFO] [2022-12-16 23:11:06,128] [OpenBox-SPO] Iteration 186, objective value: [42.74105462826307].\n"
     ]
    },
    {
     "name": "stderr",
     "output_type": "stream",
     "text": [
      "\r",
      " 19%|███████████████████████████████▉                                                                                                                                            | 186/1000 [5:02:16<19:41:32, 87.09s/it]"
     ]
    },
    {
     "name": "stdout",
     "output_type": "stream",
     "text": [
      "\n",
      "\t ----- tradeoff_buffer: 0 ----- \n",
      "\t ----- reward: 0.5725894537173692 for f_star and f_minus: 32.97580362120989 , 42.74105462826307\n",
      "[INFO] [2022-12-16 23:12:28,274] [OpenBox-SPO] Iteration 187, objective value: [37.042558324034424].\n"
     ]
    },
    {
     "name": "stderr",
     "output_type": "stream",
     "text": [
      "\r",
      " 19%|████████████████████████████████▏                                                                                                                                           | 187/1000 [5:03:38<19:19:59, 85.61s/it]"
     ]
    },
    {
     "name": "stdout",
     "output_type": "stream",
     "text": [
      "\n",
      "\t ----- tradeoff_buffer: 4 ----- \n",
      "\t ----- reward: 0.6295744167596558 for f_star and f_minus: 32.97580362120989 , 37.042558324034424\n",
      "[INFO] [2022-12-16 23:13:45,129] [OpenBox-SPO] Iteration 188, objective value: [47.130518211850024].\n"
     ]
    },
    {
     "name": "stderr",
     "output_type": "stream",
     "text": [
      "\r",
      " 19%|████████████████████████████████▎                                                                                                                                           | 188/1000 [5:04:55<18:43:01, 82.98s/it]"
     ]
    },
    {
     "name": "stdout",
     "output_type": "stream",
     "text": [
      "\n",
      "\t ----- tradeoff_buffer: 7 ----- \n",
      "\t ----- reward: 0.5286948178814997 for f_star and f_minus: 32.97580362120989 , 47.130518211850024\n",
      "[INFO] [2022-12-16 23:15:04,309] [OpenBox-SPO] Iteration 189, objective value: [38.90401102431513].\n"
     ]
    },
    {
     "name": "stderr",
     "output_type": "stream",
     "text": [
      "\r",
      " 19%|████████████████████████████████▌                                                                                                                                           | 189/1000 [5:06:14<18:26:13, 81.84s/it]"
     ]
    },
    {
     "name": "stdout",
     "output_type": "stream",
     "text": [
      "\n",
      "\t ----- tradeoff_buffer: 7 ----- \n",
      "\t ----- reward: 0.6109598897568487 for f_star and f_minus: 32.97580362120989 , 38.90401102431513\n",
      "[INFO] [2022-12-16 23:16:25,243] [OpenBox-SPO] Iteration 190, objective value: [37.01234165133069].\n"
     ]
    },
    {
     "name": "stderr",
     "output_type": "stream",
     "text": [
      "\r",
      " 19%|████████████████████████████████▋                                                                                                                                           | 190/1000 [5:07:35<18:21:11, 81.57s/it]"
     ]
    },
    {
     "name": "stdout",
     "output_type": "stream",
     "text": [
      "\n",
      "\t ----- tradeoff_buffer: 10 ----- \n",
      "\t ----- reward: 0.6298765834866931 for f_star and f_minus: 32.97580362120989 , 37.01234165133069\n",
      "[INFO] [2022-12-16 23:17:49,227] [OpenBox-SPO] Iteration 191, objective value: [35.52261650320084].\n"
     ]
    },
    {
     "name": "stderr",
     "output_type": "stream",
     "text": [
      "\r",
      " 19%|████████████████████████████████▊                                                                                                                                           | 191/1000 [5:08:59<18:29:35, 82.29s/it]"
     ]
    },
    {
     "name": "stdout",
     "output_type": "stream",
     "text": [
      "\n",
      "\t ----- tradeoff_buffer: 9 ----- \n",
      "\t ----- reward: 0.6447738349679917 for f_star and f_minus: 32.97580362120989 , 35.52261650320084\n",
      "[INFO] [2022-12-16 23:19:19,224] [OpenBox-SPO] Iteration 192, objective value: [42.25834040659855].\n"
     ]
    },
    {
     "name": "stderr",
     "output_type": "stream",
     "text": [
      "\r",
      " 19%|█████████████████████████████████                                                                                                                                           | 192/1000 [5:10:29<18:59:20, 84.60s/it]"
     ]
    },
    {
     "name": "stdout",
     "output_type": "stream",
     "text": [
      "\n",
      "\t ----- tradeoff_buffer: 13 ----- \n",
      "\t ----- reward: 0.5774165959340145 for f_star and f_minus: 32.97580362120989 , 42.25834040659855\n",
      "[INFO] [2022-12-16 23:20:40,258] [OpenBox-SPO] Iteration 193, objective value: [40.0946738723556].\n"
     ]
    },
    {
     "name": "stderr",
     "output_type": "stream",
     "text": [
      "\r",
      " 19%|█████████████████████████████████▏                                                                                                                                          | 193/1000 [5:11:50<18:43:31, 83.53s/it]"
     ]
    },
    {
     "name": "stdout",
     "output_type": "stream",
     "text": [
      "\n",
      "\t ----- tradeoff_buffer: 10 ----- \n",
      "\t ----- reward: 0.599053261276444 for f_star and f_minus: 32.97580362120989 , 40.0946738723556\n",
      "[INFO] [2022-12-16 23:21:58,407] [OpenBox-SPO] Iteration 194, objective value: [56.64203632014912].\n"
     ]
    },
    {
     "name": "stderr",
     "output_type": "stream",
     "text": [
      "\r",
      " 19%|█████████████████████████████████▎                                                                                                                                          | 194/1000 [5:13:08<18:20:25, 81.92s/it]"
     ]
    },
    {
     "name": "stdout",
     "output_type": "stream",
     "text": [
      "\n",
      "\t ----- tradeoff_buffer: 9 ----- \n",
      "\t ----- reward: -1 for f_star and f_minus: 32.97580362120989 , 56.64203632014912\n",
      "[INFO] [2022-12-16 23:23:17,879] [OpenBox-SPO] Iteration 195, objective value: [43.837277277355014].\n"
     ]
    },
    {
     "name": "stderr",
     "output_type": "stream",
     "text": [
      "\r",
      " 20%|█████████████████████████████████▌                                                                                                                                          | 195/1000 [5:14:27<18:09:13, 81.18s/it]"
     ]
    },
    {
     "name": "stdout",
     "output_type": "stream",
     "text": [
      "\n",
      "\t ----- tradeoff_buffer: 8 ----- \n",
      "\t ----- reward: 0.5616272272264499 for f_star and f_minus: 32.97580362120989 , 43.837277277355014\n",
      "[INFO] [2022-12-16 23:24:44,195] [OpenBox-SPO] Iteration 196, objective value: [42.2829039516093].\n"
     ]
    },
    {
     "name": "stderr",
     "output_type": "stream",
     "text": [
      "\r",
      " 20%|█████████████████████████████████▋                                                                                                                                          | 196/1000 [5:15:54<18:28:30, 82.72s/it]"
     ]
    },
    {
     "name": "stdout",
     "output_type": "stream",
     "text": [
      "\n",
      "\t ----- tradeoff_buffer: 8 ----- \n",
      "\t ----- reward: 0.577170960483907 for f_star and f_minus: 32.97580362120989 , 42.2829039516093\n",
      "[INFO] [2022-12-16 23:26:10,704] [OpenBox-SPO] Iteration 197, objective value: [37.39708108141902].\n"
     ]
    },
    {
     "name": "stderr",
     "output_type": "stream",
     "text": [
      "\r",
      " 20%|█████████████████████████████████▉                                                                                                                                          | 197/1000 [5:17:20<18:42:18, 83.86s/it]"
     ]
    },
    {
     "name": "stdout",
     "output_type": "stream",
     "text": [
      "\n",
      "\t ----- tradeoff_buffer: 8 ----- \n",
      "\t ----- reward: 0.6260291891858099 for f_star and f_minus: 32.97580362120989 , 37.39708108141902\n",
      "[INFO] [2022-12-16 23:27:28,200] [OpenBox-SPO] Iteration 198, objective value: [34.613257136616866].\n"
     ]
    },
    {
     "name": "stderr",
     "output_type": "stream",
     "text": [
      "\r",
      " 20%|██████████████████████████████████                                                                                                                                          | 198/1000 [5:18:38<18:15:24, 81.95s/it]"
     ]
    },
    {
     "name": "stdout",
     "output_type": "stream",
     "text": [
      "\n",
      "\t ----- tradeoff_buffer: 8 ----- \n",
      "\t ----- reward: 0.6538674286338313 for f_star and f_minus: 32.97580362120989 , 34.613257136616866\n",
      "[INFO] [2022-12-16 23:28:40,279] [OpenBox-SPO] Iteration 199, objective value: [49.51055975667931].\n"
     ]
    },
    {
     "name": "stderr",
     "output_type": "stream",
     "text": [
      "\r",
      " 20%|██████████████████████████████████▏                                                                                                                                         | 199/1000 [5:19:50<17:34:30, 78.99s/it]"
     ]
    },
    {
     "name": "stdout",
     "output_type": "stream",
     "text": [
      "\n",
      "\t ----- tradeoff_buffer: 12 ----- \n",
      "\t ----- reward: 0.5048944024332069 for f_star and f_minus: 32.97580362120989 , 49.51055975667931\n",
      "[INFO] [2022-12-16 23:30:03,790] [OpenBox-SPO] Iteration 200, objective value: [35.64345899954003].\n"
     ]
    },
    {
     "name": "stderr",
     "output_type": "stream",
     "text": [
      "\r",
      " 20%|██████████████████████████████████▍                                                                                                                                         | 200/1000 [5:21:13<17:51:16, 80.35s/it]"
     ]
    },
    {
     "name": "stdout",
     "output_type": "stream",
     "text": [
      "\n",
      "\t ----- tradeoff_buffer: 17 ----- \n",
      "\t ----- reward: 0.6435654100045998 for f_star and f_minus: 32.97580362120989 , 35.64345899954003\n",
      "[INFO] [2022-12-16 23:31:22,950] [OpenBox-SPO] Iteration 201, objective value: [38.18974345957605].\n"
     ]
    },
    {
     "name": "stderr",
     "output_type": "stream",
     "text": [
      "\r",
      " 20%|██████████████████████████████████▌                                                                                                                                         | 201/1000 [5:22:33<17:45:11, 79.99s/it]"
     ]
    },
    {
     "name": "stdout",
     "output_type": "stream",
     "text": [
      "\n",
      "\t ----- tradeoff_buffer: 14 ----- \n",
      "\t ----- reward: 0.6181025654042396 for f_star and f_minus: 32.97580362120989 , 38.18974345957605\n",
      "[INFO] [2022-12-16 23:32:44,236] [OpenBox-SPO] Iteration 202, objective value: [37.31835669995105].\n"
     ]
    },
    {
     "name": "stderr",
     "output_type": "stream",
     "text": [
      "\r",
      " 20%|██████████████████████████████████▋                                                                                                                                         | 202/1000 [5:23:54<17:49:02, 80.38s/it]"
     ]
    },
    {
     "name": "stdout",
     "output_type": "stream",
     "text": [
      "\n",
      "\t ----- tradeoff_buffer: 10 ----- \n",
      "\t ----- reward: 0.6268164330004895 for f_star and f_minus: 32.97580362120989 , 37.31835669995105\n",
      "[INFO] [2022-12-16 23:34:17,580] [OpenBox-SPO] Iteration 203, objective value: [36.29635904148538].\n"
     ]
    },
    {
     "name": "stderr",
     "output_type": "stream",
     "text": [
      "\r",
      " 20%|██████████████████████████████████▉                                                                                                                                         | 203/1000 [5:25:27<18:39:21, 84.27s/it]"
     ]
    },
    {
     "name": "stdout",
     "output_type": "stream",
     "text": [
      "\n",
      "\t ----- tradeoff_buffer: 7 ----- \n",
      "\t ----- reward: 0.6370364095851462 for f_star and f_minus: 32.97580362120989 , 36.29635904148538\n",
      "[INFO] [2022-12-16 23:35:40,092] [OpenBox-SPO] Iteration 204, objective value: [34.06266293615052].\n"
     ]
    },
    {
     "name": "stderr",
     "output_type": "stream",
     "text": [
      "\r",
      " 20%|███████████████████████████████████                                                                                                                                         | 204/1000 [5:26:50<18:30:58, 83.74s/it]"
     ]
    },
    {
     "name": "stdout",
     "output_type": "stream",
     "text": [
      "\n",
      "\t ----- tradeoff_buffer: 7 ----- \n",
      "\t ----- reward: 0.6593733706384948 for f_star and f_minus: 32.97580362120989 , 34.06266293615052\n",
      "[INFO] [2022-12-16 23:36:52,049] [OpenBox-SPO] Iteration 205, objective value: [44.771006193235905].\n"
     ]
    },
    {
     "name": "stderr",
     "output_type": "stream",
     "text": [
      "\r",
      " 20%|███████████████████████████████████▎                                                                                                                                        | 205/1000 [5:28:02<17:42:43, 80.21s/it]"
     ]
    },
    {
     "name": "stdout",
     "output_type": "stream",
     "text": [
      "\n",
      "\t ----- tradeoff_buffer: 7 ----- \n",
      "\t ----- reward: 0.5522899380676409 for f_star and f_minus: 32.97580362120989 , 44.771006193235905\n",
      "[INFO] [2022-12-16 23:38:17,210] [OpenBox-SPO] Iteration 206, objective value: [40.40723800346733].\n"
     ]
    },
    {
     "name": "stderr",
     "output_type": "stream",
     "text": [
      "\r",
      " 21%|███████████████████████████████████▍                                                                                                                                        | 206/1000 [5:29:27<18:01:03, 81.69s/it]"
     ]
    },
    {
     "name": "stdout",
     "output_type": "stream",
     "text": [
      "\n",
      "\t ----- tradeoff_buffer: 10 ----- \n",
      "\t ----- reward: 0.5959276199653267 for f_star and f_minus: 32.97580362120989 , 40.40723800346733\n",
      "[INFO] [2022-12-16 23:39:42,672] [OpenBox-SPO] Iteration 207, objective value: [35.70899004133712].\n"
     ]
    },
    {
     "name": "stderr",
     "output_type": "stream",
     "text": [
      "\r",
      " 21%|███████████████████████████████████▌                                                                                                                                        | 207/1000 [5:30:52<18:14:38, 82.82s/it]"
     ]
    },
    {
     "name": "stdout",
     "output_type": "stream",
     "text": [
      "\n",
      "\t ----- tradeoff_buffer: 8 ----- \n",
      "\t ----- reward: 0.6429100995866288 for f_star and f_minus: 32.97580362120989 , 35.70899004133712\n",
      "[INFO] [2022-12-16 23:41:00,759] [OpenBox-SPO] Iteration 208, objective value: [47.042373802983306].\n"
     ]
    },
    {
     "name": "stderr",
     "output_type": "stream",
     "text": [
      "\r",
      " 21%|███████████████████████████████████▊                                                                                                                                        | 208/1000 [5:32:10<17:54:30, 81.40s/it]"
     ]
    },
    {
     "name": "stdout",
     "output_type": "stream",
     "text": [
      "\n",
      "\t ----- tradeoff_buffer: 8 ----- \n",
      "\t ----- reward: 0.5295762619701669 for f_star and f_minus: 32.97580362120989 , 47.042373802983306\n",
      "[INFO] [2022-12-16 23:42:23,974] [OpenBox-SPO] Iteration 209, objective value: [37.83899623878247].\n"
     ]
    },
    {
     "name": "stderr",
     "output_type": "stream",
     "text": [
      "\r",
      " 21%|███████████████████████████████████▉                                                                                                                                        | 209/1000 [5:33:34<18:00:19, 81.95s/it]"
     ]
    },
    {
     "name": "stdout",
     "output_type": "stream",
     "text": [
      "\n",
      "\t ----- tradeoff_buffer: 10 ----- \n",
      "\t ----- reward: 0.6216100376121754 for f_star and f_minus: 32.97580362120989 , 37.83899623878247\n",
      "[INFO] [2022-12-16 23:43:48,579] [OpenBox-SPO] Iteration 210, objective value: [39.39137235495449].\n"
     ]
    },
    {
     "name": "stderr",
     "output_type": "stream",
     "text": [
      "\r",
      " 21%|████████████████████████████████████                                                                                                                                        | 210/1000 [5:34:58<18:09:27, 82.74s/it]"
     ]
    },
    {
     "name": "stdout",
     "output_type": "stream",
     "text": [
      "\n",
      "\t ----- tradeoff_buffer: 8 ----- \n",
      "\t ----- reward: 0.6060862764504551 for f_star and f_minus: 32.97580362120989 , 39.39137235495449\n",
      "[INFO] [2022-12-16 23:45:03,550] [OpenBox-SPO] Iteration 211, objective value: [34.92767150521165].\n"
     ]
    },
    {
     "name": "stderr",
     "output_type": "stream",
     "text": [
      "\r",
      " 21%|████████████████████████████████████▎                                                                                                                                       | 211/1000 [5:36:13<17:37:25, 80.41s/it]"
     ]
    },
    {
     "name": "stdout",
     "output_type": "stream",
     "text": [
      "\n",
      "\t ----- tradeoff_buffer: 8 ----- \n",
      "\t ----- reward: 0.6507232849478835 for f_star and f_minus: 32.97580362120989 , 34.92767150521165\n",
      "[INFO] [2022-12-16 23:46:25,399] [OpenBox-SPO] Iteration 212, objective value: [32.853183552166854].\n"
     ]
    },
    {
     "name": "stderr",
     "output_type": "stream",
     "text": [
      "\r",
      " 21%|████████████████████████████████████▍                                                                                                                                       | 212/1000 [5:37:35<17:41:44, 80.84s/it]"
     ]
    },
    {
     "name": "stdout",
     "output_type": "stream",
     "text": [
      "\n",
      "\t ----- tradeoff_buffer: 8 ----- \n",
      "\t ----- reward: 0.6714681644783315 for f_star and f_minus: 32.97580362120989 , 32.853183552166854\n",
      "[INFO] [2022-12-16 23:47:40,401] [OpenBox-SPO] Iteration 213, objective value: [38.27515268287463].\n"
     ]
    },
    {
     "name": "stderr",
     "output_type": "stream",
     "text": [
      "\r",
      " 21%|████████████████████████████████████▋                                                                                                                                       | 213/1000 [5:38:50<17:17:24, 79.09s/it]"
     ]
    },
    {
     "name": "stdout",
     "output_type": "stream",
     "text": [
      "\n",
      "\t ----- tradeoff_buffer: 8 ----- \n",
      "\t ----- reward: 0.6172484731712538 for f_star and f_minus: 32.97580362120989 , 38.27515268287463\n",
      "[INFO] [2022-12-16 23:49:04,044] [OpenBox-SPO] Iteration 214, objective value: [42.07716198082927].\n"
     ]
    },
    {
     "name": "stderr",
     "output_type": "stream",
     "text": [
      "\r",
      " 21%|████████████████████████████████████▊                                                                                                                                       | 214/1000 [5:40:14<17:33:58, 80.46s/it]"
     ]
    },
    {
     "name": "stdout",
     "output_type": "stream",
     "text": [
      "\n",
      "\t ----- tradeoff_buffer: 7 ----- \n",
      "\t ----- reward: 0.5792283801917073 for f_star and f_minus: 32.853183552166854 , 42.07716198082927\n",
      "[INFO] [2022-12-16 23:50:27,669] [OpenBox-SPO] Iteration 215, objective value: [36.15149432351566].\n"
     ]
    },
    {
     "name": "stderr",
     "output_type": "stream",
     "text": [
      "\r",
      " 22%|████████████████████████████████████▉                                                                                                                                       | 215/1000 [5:41:37<17:45:04, 81.41s/it]"
     ]
    },
    {
     "name": "stdout",
     "output_type": "stream",
     "text": [
      "\n",
      "\t ----- tradeoff_buffer: 7 ----- \n",
      "\t ----- reward: 0.6384850567648435 for f_star and f_minus: 32.853183552166854 , 36.15149432351566\n",
      "[INFO] [2022-12-16 23:51:51,291] [OpenBox-SPO] Iteration 216, objective value: [40.419986631228056].\n"
     ]
    },
    {
     "name": "stderr",
     "output_type": "stream",
     "text": [
      "\r",
      " 22%|█████████████████████████████████████▏                                                                                                                                      | 216/1000 [5:43:01<17:52:24, 82.07s/it]"
     ]
    },
    {
     "name": "stdout",
     "output_type": "stream",
     "text": [
      "\n",
      "\t ----- tradeoff_buffer: 4 ----- \n",
      "\t ----- reward: 0.5958001336877194 for f_star and f_minus: 32.853183552166854 , 40.419986631228056\n",
      "[INFO] [2022-12-16 23:53:18,220] [OpenBox-SPO] Iteration 217, objective value: [43.45246038752801].\n"
     ]
    },
    {
     "name": "stderr",
     "output_type": "stream",
     "text": [
      "\r",
      " 22%|█████████████████████████████████████▎                                                                                                                                      | 217/1000 [5:44:28<18:10:02, 83.53s/it]"
     ]
    },
    {
     "name": "stdout",
     "output_type": "stream",
     "text": [
      "\n",
      "\t ----- tradeoff_buffer: 7 ----- \n",
      "\t ----- reward: 0.5654753961247199 for f_star and f_minus: 32.853183552166854 , 43.45246038752801\n",
      "[INFO] [2022-12-16 23:54:42,268] [OpenBox-SPO] Iteration 218, objective value: [37.632870918823336].\n"
     ]
    },
    {
     "name": "stderr",
     "output_type": "stream",
     "text": [
      "\r",
      " 22%|█████████████████████████████████████▍                                                                                                                                      | 218/1000 [5:45:52<18:10:41, 83.68s/it]"
     ]
    },
    {
     "name": "stdout",
     "output_type": "stream",
     "text": [
      "\n",
      "\t ----- tradeoff_buffer: 7 ----- \n",
      "\t ----- reward: 0.6236712908117666 for f_star and f_minus: 32.853183552166854 , 37.632870918823336\n",
      "[INFO] [2022-12-16 23:56:04,802] [OpenBox-SPO] Iteration 219, objective value: [38.15899145637529].\n"
     ]
    },
    {
     "name": "stderr",
     "output_type": "stream",
     "text": [
      "\r",
      " 22%|█████████████████████████████████████▋                                                                                                                                      | 219/1000 [5:47:14<18:04:47, 83.34s/it]"
     ]
    },
    {
     "name": "stdout",
     "output_type": "stream",
     "text": [
      "\n",
      "\t ----- tradeoff_buffer: 7 ----- \n",
      "\t ----- reward: 0.6184100854362471 for f_star and f_minus: 32.853183552166854 , 38.15899145637529\n",
      "[INFO] [2022-12-16 23:57:30,890] [OpenBox-SPO] Iteration 220, objective value: [38.86472206653282].\n"
     ]
    },
    {
     "name": "stderr",
     "output_type": "stream",
     "text": [
      "\r",
      " 22%|█████████████████████████████████████▊                                                                                                                                      | 220/1000 [5:48:40<18:14:07, 84.16s/it]"
     ]
    },
    {
     "name": "stdout",
     "output_type": "stream",
     "text": [
      "\n",
      "\t ----- tradeoff_buffer: 7 ----- \n",
      "\t ----- reward: 0.6113527793346718 for f_star and f_minus: 32.853183552166854 , 38.86472206653282\n",
      "[INFO] [2022-12-16 23:58:47,095] [OpenBox-SPO] Iteration 221, objective value: [40.752730016910974].\n"
     ]
    },
    {
     "name": "stderr",
     "output_type": "stream",
     "text": [
      "\r",
      " 22%|██████████████████████████████████████                                                                                                                                      | 221/1000 [5:49:57<17:41:43, 81.78s/it]"
     ]
    },
    {
     "name": "stdout",
     "output_type": "stream",
     "text": [
      "\n",
      "\t ----- tradeoff_buffer: 7 ----- \n",
      "\t ----- reward: 0.5924726998308902 for f_star and f_minus: 32.853183552166854 , 40.752730016910974\n",
      "[INFO] [2022-12-17 00:00:19,034] [OpenBox-SPO] Iteration 222, objective value: [39.19305333126746].\n"
     ]
    },
    {
     "name": "stderr",
     "output_type": "stream",
     "text": [
      "\r",
      " 22%|██████████████████████████████████████▏                                                                                                                                     | 222/1000 [5:51:29<18:19:53, 84.83s/it]"
     ]
    },
    {
     "name": "stdout",
     "output_type": "stream",
     "text": [
      "\n",
      "\t ----- tradeoff_buffer: 7 ----- \n",
      "\t ----- reward: 0.6080694666873254 for f_star and f_minus: 32.853183552166854 , 39.19305333126746\n",
      "[INFO] [2022-12-17 00:01:43,598] [OpenBox-SPO] Iteration 223, objective value: [32.31743601852001].\n"
     ]
    },
    {
     "name": "stderr",
     "output_type": "stream",
     "text": [
      "\r",
      " 22%|██████████████████████████████████████▎                                                                                                                                     | 223/1000 [5:52:53<18:17:28, 84.75s/it]"
     ]
    },
    {
     "name": "stdout",
     "output_type": "stream",
     "text": [
      "\n",
      "\t ----- tradeoff_buffer: 6 ----- \n",
      "\t ----- reward: 0.6768256398147998 for f_star and f_minus: 32.853183552166854 , 32.31743601852001\n",
      "[INFO] [2022-12-17 00:03:15,118] [OpenBox-SPO] Iteration 224, objective value: [38.361865396025884].\n"
     ]
    },
    {
     "name": "stderr",
     "output_type": "stream",
     "text": [
      "\r",
      " 22%|██████████████████████████████████████▌                                                                                                                                     | 224/1000 [5:54:25<18:42:20, 86.78s/it]"
     ]
    },
    {
     "name": "stdout",
     "output_type": "stream",
     "text": [
      "\n",
      "\t ----- tradeoff_buffer: 6 ----- \n",
      "\t ----- reward: 0.6163813460397412 for f_star and f_minus: 32.853183552166854 , 38.361865396025884\n",
      "[INFO] [2022-12-17 00:04:34,016] [OpenBox-SPO] Iteration 225, objective value: [40.98834741197488].\n"
     ]
    },
    {
     "name": "stderr",
     "output_type": "stream",
     "text": [
      "\r",
      " 22%|██████████████████████████████████████▋                                                                                                                                     | 225/1000 [5:55:44<18:10:21, 84.41s/it]"
     ]
    },
    {
     "name": "stdout",
     "output_type": "stream",
     "text": [
      "\n",
      "\t ----- tradeoff_buffer: 3 ----- \n",
      "\t ----- reward: 0.5901165258802512 for f_star and f_minus: 32.31743601852001 , 40.98834741197488\n",
      "[INFO] [2022-12-17 00:05:55,080] [OpenBox-SPO] Iteration 226, objective value: [40.06534053680898].\n"
     ]
    },
    {
     "name": "stderr",
     "output_type": "stream",
     "text": [
      "\r",
      " 23%|██████████████████████████████████████▊                                                                                                                                     | 226/1000 [5:57:05<17:55:58, 83.41s/it]"
     ]
    },
    {
     "name": "stdout",
     "output_type": "stream",
     "text": [
      "\n",
      "\t ----- tradeoff_buffer: 5 ----- \n",
      "\t ----- reward: 0.5993465946319102 for f_star and f_minus: 32.31743601852001 , 40.06534053680898\n",
      "[INFO] [2022-12-17 00:07:12,207] [OpenBox-SPO] Iteration 227, objective value: [41.057180386224736].\n"
     ]
    },
    {
     "name": "stderr",
     "output_type": "stream",
     "text": [
      "\r",
      " 23%|███████████████████████████████████████                                                                                                                                     | 227/1000 [5:58:22<17:30:18, 81.52s/it]"
     ]
    },
    {
     "name": "stdout",
     "output_type": "stream",
     "text": [
      "\n",
      "\t ----- tradeoff_buffer: 1 ----- \n",
      "\t ----- reward: 0.5894281961377527 for f_star and f_minus: 32.31743601852001 , 41.057180386224736\n",
      "[INFO] [2022-12-17 00:08:42,368] [OpenBox-SPO] Iteration 228, objective value: [34.58609995213345].\n"
     ]
    },
    {
     "name": "stderr",
     "output_type": "stream",
     "text": [
      "\r",
      " 23%|███████████████████████████████████████▏                                                                                                                                    | 228/1000 [5:59:52<18:02:17, 84.12s/it]"
     ]
    },
    {
     "name": "stdout",
     "output_type": "stream",
     "text": [
      "\n",
      "\t ----- tradeoff_buffer: 1 ----- \n",
      "\t ----- reward: 0.6541390004786655 for f_star and f_minus: 32.31743601852001 , 34.58609995213345\n",
      "[INFO] [2022-12-17 00:10:03,136] [OpenBox-SPO] Iteration 229, objective value: [29.776850830082836].\n"
     ]
    },
    {
     "name": "stderr",
     "output_type": "stream",
     "text": [
      "\r",
      " 23%|███████████████████████████████████████▍                                                                                                                                    | 229/1000 [6:01:13<17:47:58, 83.11s/it]"
     ]
    },
    {
     "name": "stdout",
     "output_type": "stream",
     "text": [
      "\n",
      "\t ----- tradeoff_buffer: 0 ----- \n",
      "\t ----- reward: 0.7022314916991717 for f_star and f_minus: 32.31743601852001 , 29.776850830082836\n",
      "[INFO] [2022-12-17 00:11:31,688] [OpenBox-SPO] Iteration 230, objective value: [50.40201357455071].\n"
     ]
    },
    {
     "name": "stderr",
     "output_type": "stream",
     "text": [
      "\r",
      " 23%|███████████████████████████████████████▌                                                                                                                                    | 230/1000 [6:02:41<18:07:32, 84.74s/it]"
     ]
    },
    {
     "name": "stdout",
     "output_type": "stream",
     "text": [
      "\n",
      "\t ----- tradeoff_buffer: 5 ----- \n",
      "\t ----- reward: -1 for f_star and f_minus: 32.31743601852001 , 50.40201357455071\n",
      "[INFO] [2022-12-17 00:12:59,001] [OpenBox-SPO] Iteration 231, objective value: [39.19851811248005].\n"
     ]
    },
    {
     "name": "stderr",
     "output_type": "stream",
     "text": [
      "\r",
      " 23%|███████████████████████████████████████▋                                                                                                                                    | 231/1000 [6:04:09<18:16:00, 85.51s/it]"
     ]
    },
    {
     "name": "stdout",
     "output_type": "stream",
     "text": [
      "\n",
      "\t ----- tradeoff_buffer: 1 ----- \n",
      "\t ----- reward: 0.6080148188751995 for f_star and f_minus: 29.776850830082836 , 39.19851811248005\n",
      "[INFO] [2022-12-17 00:14:31,868] [OpenBox-SPO] Iteration 232, objective value: [35.416874889380566].\n"
     ]
    },
    {
     "name": "stderr",
     "output_type": "stream",
     "text": [
      "\r",
      " 23%|███████████████████████████████████████▉                                                                                                                                    | 232/1000 [6:05:41<18:42:48, 87.72s/it]"
     ]
    },
    {
     "name": "stdout",
     "output_type": "stream",
     "text": [
      "\n",
      "\t ----- tradeoff_buffer: 0 ----- \n",
      "\t ----- reward: 0.6458312511061943 for f_star and f_minus: 29.776850830082836 , 35.416874889380566\n",
      "[INFO] [2022-12-17 00:15:47,395] [OpenBox-SPO] Iteration 233, objective value: [43.14342552865755].\n"
     ]
    },
    {
     "name": "stderr",
     "output_type": "stream",
     "text": [
      "\r",
      " 23%|████████████████████████████████████████                                                                                                                                    | 233/1000 [6:06:57<17:54:35, 84.06s/it]"
     ]
    },
    {
     "name": "stdout",
     "output_type": "stream",
     "text": [
      "\n",
      "\t ----- tradeoff_buffer: 2 ----- \n",
      "\t ----- reward: 0.5685657447134245 for f_star and f_minus: 29.776850830082836 , 43.14342552865755\n",
      "[INFO] [2022-12-17 00:17:24,963] [OpenBox-SPO] Iteration 234, objective value: [40.696357753755244].\n"
     ]
    },
    {
     "name": "stderr",
     "output_type": "stream",
     "text": [
      "\r",
      " 23%|████████████████████████████████████████▏                                                                                                                                   | 234/1000 [6:08:35<18:44:55, 88.11s/it]"
     ]
    },
    {
     "name": "stdout",
     "output_type": "stream",
     "text": [
      "\n",
      "\t ----- tradeoff_buffer: 7 ----- \n",
      "\t ----- reward: 0.5930364224624476 for f_star and f_minus: 29.776850830082836 , 40.696357753755244\n",
      "[INFO] [2022-12-17 00:18:54,127] [OpenBox-SPO] Iteration 235, objective value: [47.693702213289704].\n"
     ]
    },
    {
     "name": "stderr",
     "output_type": "stream",
     "text": [
      "\r",
      " 24%|████████████████████████████████████████▍                                                                                                                                   | 235/1000 [6:10:04<18:47:28, 88.43s/it]"
     ]
    },
    {
     "name": "stdout",
     "output_type": "stream",
     "text": [
      "\n",
      "\t ----- tradeoff_buffer: 4 ----- \n",
      "\t ----- reward: 0.523062977867103 for f_star and f_minus: 29.776850830082836 , 47.693702213289704\n",
      "[INFO] [2022-12-17 00:20:14,847] [OpenBox-SPO] Iteration 236, objective value: [31.949343087678443].\n"
     ]
    },
    {
     "name": "stderr",
     "output_type": "stream",
     "text": [
      "\r",
      " 24%|████████████████████████████████████████▌                                                                                                                                   | 236/1000 [6:11:24<18:16:32, 86.12s/it]"
     ]
    },
    {
     "name": "stdout",
     "output_type": "stream",
     "text": [
      "\n",
      "\t ----- tradeoff_buffer: 1 ----- \n",
      "\t ----- reward: 0.6805065691232155 for f_star and f_minus: 29.776850830082836 , 31.949343087678443\n",
      "[INFO] [2022-12-17 00:21:43,407] [OpenBox-SPO] Iteration 237, objective value: [35.95675337806725].\n"
     ]
    },
    {
     "name": "stderr",
     "output_type": "stream",
     "text": [
      "\r",
      " 24%|████████████████████████████████████████▊                                                                                                                                   | 237/1000 [6:12:53<18:24:26, 86.85s/it]"
     ]
    },
    {
     "name": "stdout",
     "output_type": "stream",
     "text": [
      "\n",
      "\t ----- tradeoff_buffer: 0 ----- \n",
      "\t ----- reward: 0.6404324662193275 for f_star and f_minus: 29.776850830082836 , 35.95675337806725\n",
      "[INFO] [2022-12-17 00:23:17,426] [OpenBox-SPO] Iteration 238, objective value: [45.247851673115626].\n"
     ]
    },
    {
     "name": "stderr",
     "output_type": "stream",
     "text": [
      "\r",
      " 24%|████████████████████████████████████████▉                                                                                                                                   | 238/1000 [6:14:27<18:50:18, 89.00s/it]"
     ]
    },
    {
     "name": "stdout",
     "output_type": "stream",
     "text": [
      "\n",
      "\t ----- tradeoff_buffer: 0 ----- \n",
      "\t ----- reward: 0.5475214832688438 for f_star and f_minus: 29.776850830082836 , 45.247851673115626\n",
      "[INFO] [2022-12-17 00:24:34,929] [OpenBox-SPO] Iteration 239, objective value: [43.21705996219551].\n"
     ]
    },
    {
     "name": "stderr",
     "output_type": "stream",
     "text": [
      "\r",
      " 24%|█████████████████████████████████████████                                                                                                                                   | 239/1000 [6:15:44<18:05:04, 85.55s/it]"
     ]
    },
    {
     "name": "stdout",
     "output_type": "stream",
     "text": [
      "\n",
      "\t ----- tradeoff_buffer: 1 ----- \n",
      "\t ----- reward: 0.5678294003780449 for f_star and f_minus: 29.776850830082836 , 43.21705996219551\n",
      "[INFO] [2022-12-17 00:25:59,576] [OpenBox-SPO] Iteration 240, objective value: [47.12234320047371].\n"
     ]
    },
    {
     "name": "stderr",
     "output_type": "stream",
     "text": [
      "\r",
      " 24%|█████████████████████████████████████████▎                                                                                                                                  | 240/1000 [6:17:09<18:00:12, 85.28s/it]"
     ]
    },
    {
     "name": "stdout",
     "output_type": "stream",
     "text": [
      "\n",
      "\t ----- tradeoff_buffer: 0 ----- \n",
      "\t ----- reward: 0.528776567995263 for f_star and f_minus: 29.776850830082836 , 47.12234320047371\n",
      "[INFO] [2022-12-17 00:27:18,018] [OpenBox-SPO] Iteration 241, objective value: [44.14455804853933].\n"
     ]
    },
    {
     "name": "stderr",
     "output_type": "stream",
     "text": [
      "\r",
      " 24%|█████████████████████████████████████████▍                                                                                                                                  | 241/1000 [6:18:28<17:32:50, 83.23s/it]"
     ]
    },
    {
     "name": "stdout",
     "output_type": "stream",
     "text": [
      "\n",
      "\t ----- tradeoff_buffer: 0 ----- \n",
      "\t ----- reward: 0.5585544195146067 for f_star and f_minus: 29.776850830082836 , 44.14455804853933\n",
      "[INFO] [2022-12-17 00:27:18,019] [Advisor] Sample random config. rand_prob=0.100000.\n",
      "[INFO] [2022-12-17 00:27:53,139] [OpenBox-SPO] Iteration 242, objective value: [59.59254760324956].\n"
     ]
    },
    {
     "name": "stderr",
     "output_type": "stream",
     "text": [
      "\r",
      " 24%|█████████████████████████████████████████▌                                                                                                                                  | 242/1000 [6:19:03<14:29:07, 68.80s/it]"
     ]
    },
    {
     "name": "stdout",
     "output_type": "stream",
     "text": [
      "\n",
      "\t ----- tradeoff_buffer: 2 ----- \n",
      "\t ----- reward: -1 for f_star and f_minus: 29.776850830082836 , 59.59254760324956\n",
      "[INFO] [2022-12-17 00:29:17,582] [OpenBox-SPO] Iteration 243, objective value: [38.65373960956469].\n"
     ]
    },
    {
     "name": "stderr",
     "output_type": "stream",
     "text": [
      "\r",
      " 24%|█████████████████████████████████████████▊                                                                                                                                  | 243/1000 [6:20:27<15:27:12, 73.49s/it]"
     ]
    },
    {
     "name": "stdout",
     "output_type": "stream",
     "text": [
      "\n",
      "\t ----- tradeoff_buffer: 7 ----- \n",
      "\t ----- reward: 0.6134626039043531 for f_star and f_minus: 29.776850830082836 , 38.65373960956469\n",
      "[INFO] [2022-12-17 00:30:37,554] [OpenBox-SPO] Iteration 244, objective value: [34.43001423595608].\n"
     ]
    },
    {
     "name": "stderr",
     "output_type": "stream",
     "text": [
      "\r",
      " 24%|█████████████████████████████████████████▉                                                                                                                                  | 244/1000 [6:21:47<15:50:28, 75.43s/it]"
     ]
    },
    {
     "name": "stdout",
     "output_type": "stream",
     "text": [
      "\n",
      "\t ----- tradeoff_buffer: 4 ----- \n",
      "\t ----- reward: 0.6556998576404391 for f_star and f_minus: 29.776850830082836 , 34.43001423595608\n",
      "[INFO] [2022-12-17 00:32:04,285] [OpenBox-SPO] Iteration 245, objective value: [34.13787068597405].\n"
     ]
    },
    {
     "name": "stderr",
     "output_type": "stream",
     "text": [
      "\r",
      " 24%|██████████████████████████████████████████▏                                                                                                                                 | 245/1000 [6:23:14<16:31:51, 78.82s/it]"
     ]
    },
    {
     "name": "stdout",
     "output_type": "stream",
     "text": [
      "\n",
      "\t ----- tradeoff_buffer: 2 ----- \n",
      "\t ----- reward: 0.6586212931402595 for f_star and f_minus: 29.776850830082836 , 34.13787068597405\n",
      "[INFO] [2022-12-17 00:33:17,181] [OpenBox-SPO] Iteration 246, objective value: [39.07222897972353].\n"
     ]
    },
    {
     "name": "stderr",
     "output_type": "stream",
     "text": [
      "\r",
      " 25%|██████████████████████████████████████████▎                                                                                                                                 | 246/1000 [6:24:27<16:08:12, 77.05s/it]"
     ]
    },
    {
     "name": "stdout",
     "output_type": "stream",
     "text": [
      "\n",
      "\t ----- tradeoff_buffer: 7 ----- \n",
      "\t ----- reward: 0.6092777102027647 for f_star and f_minus: 29.776850830082836 , 39.07222897972353\n",
      "[INFO] [2022-12-17 00:34:39,757] [OpenBox-SPO] Iteration 247, objective value: [43.2680382061045].\n"
     ]
    },
    {
     "name": "stderr",
     "output_type": "stream",
     "text": [
      "\r",
      " 25%|██████████████████████████████████████████▍                                                                                                                                 | 247/1000 [6:25:49<16:27:44, 78.70s/it]"
     ]
    },
    {
     "name": "stdout",
     "output_type": "stream",
     "text": [
      "\n",
      "\t ----- tradeoff_buffer: 4 ----- \n",
      "\t ----- reward: 0.567319617938955 for f_star and f_minus: 29.776850830082836 , 43.2680382061045\n",
      "[INFO] [2022-12-17 00:34:39,759] [Advisor] Sample random config. rand_prob=0.100000.\n",
      "[INFO] [2022-12-17 00:35:19,728] [OpenBox-SPO] Iteration 248, objective value: [52.2020029620755].\n"
     ]
    },
    {
     "name": "stderr",
     "output_type": "stream",
     "text": [
      "\r",
      " 25%|██████████████████████████████████████████▋                                                                                                                                 | 248/1000 [6:26:29<14:00:47, 67.08s/it]"
     ]
    },
    {
     "name": "stdout",
     "output_type": "stream",
     "text": [
      "\n",
      "\t ----- tradeoff_buffer: 4 ----- \n",
      "\t ----- reward: -1 for f_star and f_minus: 29.776850830082836 , 52.2020029620755\n",
      "[INFO] [2022-12-17 00:36:44,454] [OpenBox-SPO] Iteration 249, objective value: [42.997685828802275].\n"
     ]
    },
    {
     "name": "stderr",
     "output_type": "stream",
     "text": [
      "\r",
      " 25%|██████████████████████████████████████████▊                                                                                                                                 | 249/1000 [6:27:54<15:05:55, 72.38s/it]"
     ]
    },
    {
     "name": "stdout",
     "output_type": "stream",
     "text": [
      "\n",
      "\t ----- tradeoff_buffer: 2 ----- \n",
      "\t ----- reward: 0.5700231417119772 for f_star and f_minus: 29.776850830082836 , 42.997685828802275\n",
      "[INFO] [2022-12-17 00:38:00,822] [OpenBox-SPO] Iteration 250, objective value: [39.607128614471854].\n"
     ]
    },
    {
     "name": "stderr",
     "output_type": "stream",
     "text": [
      "\r",
      " 25%|███████████████████████████████████████████                                                                                                                                 | 250/1000 [6:29:10<15:19:40, 73.57s/it]"
     ]
    },
    {
     "name": "stdout",
     "output_type": "stream",
     "text": [
      "\n",
      "\t ----- tradeoff_buffer: 0 ----- \n",
      "\t ----- reward: 0.6039287138552815 for f_star and f_minus: 29.776850830082836 , 39.607128614471854\n",
      "[INFO] [2022-12-17 00:39:30,576] [OpenBox-SPO] Iteration 251, objective value: [36.534818000109645].\n"
     ]
    },
    {
     "name": "stderr",
     "output_type": "stream",
     "text": [
      "\r",
      " 25%|███████████████████████████████████████████▏                                                                                                                                | 251/1000 [6:30:40<16:19:02, 78.43s/it]"
     ]
    },
    {
     "name": "stdout",
     "output_type": "stream",
     "text": [
      "\n",
      "\t ----- tradeoff_buffer: 0 ----- \n",
      "\t ----- reward: 0.6346518199989035 for f_star and f_minus: 29.776850830082836 , 36.534818000109645\n",
      "[INFO] [2022-12-17 00:41:16,585] [OpenBox-SPO] Iteration 252, objective value: [47.770601118415776].\n"
     ]
    },
    {
     "name": "stderr",
     "output_type": "stream",
     "text": [
      "\r",
      " 25%|███████████████████████████████████████████▎                                                                                                                                | 252/1000 [6:32:26<18:00:53, 86.70s/it]"
     ]
    },
    {
     "name": "stdout",
     "output_type": "stream",
     "text": [
      "\n",
      "\t ----- tradeoff_buffer: 0 ----- \n",
      "\t ----- reward: 0.5222939888158422 for f_star and f_minus: 29.776850830082836 , 47.770601118415776\n",
      "[INFO] [2022-12-17 00:42:42,913] [OpenBox-SPO] Iteration 253, objective value: [35.939220764647544].\n"
     ]
    },
    {
     "name": "stderr",
     "output_type": "stream",
     "text": [
      "\r",
      " 25%|███████████████████████████████████████████▌                                                                                                                                | 253/1000 [6:33:52<17:58:02, 86.59s/it]"
     ]
    },
    {
     "name": "stdout",
     "output_type": "stream",
     "text": [
      "\n",
      "\t ----- tradeoff_buffer: 0 ----- \n",
      "\t ----- reward: 0.6406077923535245 for f_star and f_minus: 29.776850830082836 , 35.939220764647544\n",
      "[INFO] [2022-12-17 00:44:19,504] [OpenBox-SPO] Iteration 254, objective value: [37.128287590707224].\n"
     ]
    },
    {
     "name": "stderr",
     "output_type": "stream",
     "text": [
      "\r",
      " 25%|███████████████████████████████████████████▋                                                                                                                                | 254/1000 [6:35:29<18:33:54, 89.59s/it]"
     ]
    },
    {
     "name": "stdout",
     "output_type": "stream",
     "text": [
      "\n",
      "\t ----- tradeoff_buffer: 0 ----- \n",
      "\t ----- reward: 0.6287171240929277 for f_star and f_minus: 29.776850830082836 , 37.128287590707224\n",
      "[INFO] [2022-12-17 00:45:42,930] [OpenBox-SPO] Iteration 255, objective value: [29.75602277474094].\n"
     ]
    },
    {
     "name": "stderr",
     "output_type": "stream",
     "text": [
      "\r",
      " 26%|███████████████████████████████████████████▊                                                                                                                                | 255/1000 [6:36:52<18:09:26, 87.74s/it]"
     ]
    },
    {
     "name": "stdout",
     "output_type": "stream",
     "text": [
      "\n",
      "\t ----- tradeoff_buffer: 0 ----- \n",
      "\t ----- reward: 0.7024397722525906 for f_star and f_minus: 29.776850830082836 , 29.75602277474094\n",
      "[INFO] [2022-12-17 00:47:02,617] [OpenBox-SPO] Iteration 256, objective value: [43.608890585566094].\n"
     ]
    },
    {
     "name": "stderr",
     "output_type": "stream",
     "text": [
      "\r",
      " 26%|████████████████████████████████████████████                                                                                                                                | 256/1000 [6:38:12<17:38:01, 85.32s/it]"
     ]
    },
    {
     "name": "stdout",
     "output_type": "stream",
     "text": [
      "\n",
      "\t ----- tradeoff_buffer: 0 ----- \n",
      "\t ----- reward: 0.563911094144339 for f_star and f_minus: 29.776850830082836 , 43.608890585566094\n",
      "[INFO] [2022-12-17 00:48:24,757] [OpenBox-SPO] Iteration 257, objective value: [34.548183507847256].\n"
     ]
    },
    {
     "name": "stderr",
     "output_type": "stream",
     "text": [
      "\r",
      " 26%|████████████████████████████████████████████▏                                                                                                                               | 257/1000 [6:39:34<17:24:46, 84.37s/it]"
     ]
    },
    {
     "name": "stdout",
     "output_type": "stream",
     "text": [
      "\n",
      "\t ----- tradeoff_buffer: 0 ----- \n",
      "\t ----- reward: 0.6545181649215275 for f_star and f_minus: 29.75602277474094 , 34.548183507847256\n",
      "[INFO] [2022-12-17 00:49:45,488] [OpenBox-SPO] Iteration 258, objective value: [35.85583258032062].\n"
     ]
    },
    {
     "name": "stderr",
     "output_type": "stream",
     "text": [
      "\r",
      " 26%|████████████████████████████████████████████▍                                                                                                                               | 258/1000 [6:40:55<17:09:52, 83.28s/it]"
     ]
    },
    {
     "name": "stdout",
     "output_type": "stream",
     "text": [
      "\n",
      "\t ----- tradeoff_buffer: 0 ----- \n",
      "\t ----- reward: 0.6414416741967938 for f_star and f_minus: 29.75602277474094 , 35.85583258032062\n",
      "[INFO] [2022-12-17 00:51:21,883] [OpenBox-SPO] Iteration 259, objective value: [38.34774863765651].\n"
     ]
    },
    {
     "name": "stderr",
     "output_type": "stream",
     "text": [
      "\r",
      " 26%|████████████████████████████████████████████▌                                                                                                                               | 259/1000 [6:42:31<17:57:04, 87.21s/it]"
     ]
    },
    {
     "name": "stdout",
     "output_type": "stream",
     "text": [
      "\n",
      "\t ----- tradeoff_buffer: 0 ----- \n",
      "\t ----- reward: 0.6165225136234349 for f_star and f_minus: 29.75602277474094 , 38.34774863765651\n",
      "[INFO] [2022-12-17 00:52:46,269] [OpenBox-SPO] Iteration 260, objective value: [34.505810629767126].\n"
     ]
    },
    {
     "name": "stderr",
     "output_type": "stream",
     "text": [
      "\r",
      " 26%|████████████████████████████████████████████▋                                                                                                                               | 260/1000 [6:43:56<17:45:10, 86.36s/it]"
     ]
    },
    {
     "name": "stdout",
     "output_type": "stream",
     "text": [
      "\n",
      "\t ----- tradeoff_buffer: 0 ----- \n",
      "\t ----- reward: 0.6549418937023288 for f_star and f_minus: 29.75602277474094 , 34.505810629767126\n",
      "[INFO] [2022-12-17 00:54:16,133] [OpenBox-SPO] Iteration 261, objective value: [46.75235563257982].\n"
     ]
    },
    {
     "name": "stderr",
     "output_type": "stream",
     "text": [
      "\r",
      " 26%|████████████████████████████████████████████▉                                                                                                                               | 261/1000 [6:45:26<17:56:39, 87.41s/it]"
     ]
    },
    {
     "name": "stdout",
     "output_type": "stream",
     "text": [
      "\n",
      "\t ----- tradeoff_buffer: 0 ----- \n",
      "\t ----- reward: 0.5324764436742018 for f_star and f_minus: 29.75602277474094 , 46.75235563257982\n",
      "[INFO] [2022-12-17 00:55:50,306] [OpenBox-SPO] Iteration 262, objective value: [39.335560525664405].\n"
     ]
    },
    {
     "name": "stderr",
     "output_type": "stream",
     "text": [
      "\r",
      " 26%|█████████████████████████████████████████████                                                                                                                               | 262/1000 [6:47:00<18:20:08, 89.44s/it]"
     ]
    },
    {
     "name": "stdout",
     "output_type": "stream",
     "text": [
      "\n",
      "\t ----- tradeoff_buffer: 5 ----- \n",
      "\t ----- reward: 0.606644394743356 for f_star and f_minus: 29.75602277474094 , 39.335560525664405\n",
      "[INFO] [2022-12-17 00:57:08,681] [OpenBox-SPO] Iteration 263, objective value: [37.48030073869687].\n"
     ]
    },
    {
     "name": "stderr",
     "output_type": "stream",
     "text": [
      "\r",
      " 26%|█████████████████████████████████████████████▏                                                                                                                              | 263/1000 [6:48:18<17:37:51, 86.12s/it]"
     ]
    },
    {
     "name": "stdout",
     "output_type": "stream",
     "text": [
      "\n",
      "\t ----- tradeoff_buffer: 5 ----- \n",
      "\t ----- reward: 0.6251969926130313 for f_star and f_minus: 29.75602277474094 , 37.48030073869687\n",
      "[INFO] [2022-12-17 00:58:38,446] [OpenBox-SPO] Iteration 264, objective value: [30.144336653458566].\n"
     ]
    },
    {
     "name": "stderr",
     "output_type": "stream",
     "text": [
      "\r",
      " 26%|█████████████████████████████████████████████▍                                                                                                                              | 264/1000 [6:49:48<17:49:50, 87.22s/it]"
     ]
    },
    {
     "name": "stdout",
     "output_type": "stream",
     "text": [
      "\n",
      "\t ----- tradeoff_buffer: 5 ----- \n",
      "\t ----- reward: 0.6985566334654143 for f_star and f_minus: 29.75602277474094 , 30.144336653458566\n",
      "[INFO] [2022-12-17 01:00:02,564] [OpenBox-SPO] Iteration 265, objective value: [42.80232385620247].\n"
     ]
    },
    {
     "name": "stderr",
     "output_type": "stream",
     "text": [
      "\r",
      " 26%|█████████████████████████████████████████████▌                                                                                                                              | 265/1000 [6:51:12<17:37:00, 86.29s/it]"
     ]
    },
    {
     "name": "stdout",
     "output_type": "stream",
     "text": [
      "\n",
      "\t ----- tradeoff_buffer: 5 ----- \n",
      "\t ----- reward: 0.5719767614379754 for f_star and f_minus: 29.75602277474094 , 42.80232385620247\n",
      "[INFO] [2022-12-17 01:01:16,267] [OpenBox-SPO] Iteration 266, objective value: [39.871431406330096].\n"
     ]
    },
    {
     "name": "stderr",
     "output_type": "stream",
     "text": [
      "\r",
      " 27%|█████████████████████████████████████████████▊                                                                                                                              | 266/1000 [6:52:26<16:49:22, 82.51s/it]"
     ]
    },
    {
     "name": "stdout",
     "output_type": "stream",
     "text": [
      "\n",
      "\t ----- tradeoff_buffer: 5 ----- \n",
      "\t ----- reward: 0.6012856859366991 for f_star and f_minus: 29.75602277474094 , 39.871431406330096\n",
      "[INFO] [2022-12-17 01:01:16,268] [Advisor] Sample random config. rand_prob=0.100000.\n",
      "[INFO] [2022-12-17 01:01:56,868] [OpenBox-SPO] Iteration 267, objective value: [39.567368100185604].\n"
     ]
    },
    {
     "name": "stderr",
     "output_type": "stream",
     "text": [
      "\r",
      " 27%|█████████████████████████████████████████████▉                                                                                                                              | 267/1000 [6:53:06<14:14:24, 69.94s/it]"
     ]
    },
    {
     "name": "stdout",
     "output_type": "stream",
     "text": [
      "\n",
      "\t ----- tradeoff_buffer: 5 ----- \n",
      "\t ----- reward: 0.604326318998144 for f_star and f_minus: 29.75602277474094 , 39.567368100185604\n",
      "[INFO] [2022-12-17 01:03:19,739] [OpenBox-SPO] Iteration 268, objective value: [43.85945429314655].\n"
     ]
    },
    {
     "name": "stderr",
     "output_type": "stream",
     "text": [
      "\r",
      " 27%|██████████████████████████████████████████████                                                                                                                              | 268/1000 [6:54:29<15:00:34, 73.82s/it]"
     ]
    },
    {
     "name": "stdout",
     "output_type": "stream",
     "text": [
      "\n",
      "\t ----- tradeoff_buffer: 5 ----- \n",
      "\t ----- reward: 0.5614054570685345 for f_star and f_minus: 29.75602277474094 , 43.85945429314655\n",
      "[INFO] [2022-12-17 01:04:38,931] [OpenBox-SPO] Iteration 269, objective value: [38.640626569749415].\n"
     ]
    },
    {
     "name": "stderr",
     "output_type": "stream",
     "text": [
      "\r",
      " 27%|██████████████████████████████████████████████▎                                                                                                                             | 269/1000 [6:55:48<15:18:59, 75.43s/it]"
     ]
    },
    {
     "name": "stdout",
     "output_type": "stream",
     "text": [
      "\n",
      "\t ----- tradeoff_buffer: 9 ----- \n",
      "\t ----- reward: 0.6135937343025059 for f_star and f_minus: 29.75602277474094 , 38.640626569749415\n",
      "[INFO] [2022-12-17 01:06:09,538] [OpenBox-SPO] Iteration 270, objective value: [43.49022869416746].\n"
     ]
    },
    {
     "name": "stderr",
     "output_type": "stream",
     "text": [
      "\r",
      " 27%|██████████████████████████████████████████████▍                                                                                                                             | 270/1000 [6:57:19<16:13:07, 79.98s/it]"
     ]
    },
    {
     "name": "stdout",
     "output_type": "stream",
     "text": [
      "\n",
      "\t ----- tradeoff_buffer: 10 ----- \n",
      "\t ----- reward: 0.5650977130583253 for f_star and f_minus: 29.75602277474094 , 43.49022869416746\n",
      "[INFO] [2022-12-17 01:07:30,378] [OpenBox-SPO] Iteration 271, objective value: [43.74818591879234].\n"
     ]
    },
    {
     "name": "stderr",
     "output_type": "stream",
     "text": [
      "\r",
      " 27%|██████████████████████████████████████████████▌                                                                                                                             | 271/1000 [6:58:40<16:14:55, 80.24s/it]"
     ]
    },
    {
     "name": "stdout",
     "output_type": "stream",
     "text": [
      "\n",
      "\t ----- tradeoff_buffer: 6 ----- \n",
      "\t ----- reward: 0.5625181408120766 for f_star and f_minus: 29.75602277474094 , 43.74818591879234\n",
      "[INFO] [2022-12-17 01:08:54,239] [OpenBox-SPO] Iteration 272, objective value: [40.1378845777477].\n"
     ]
    },
    {
     "name": "stderr",
     "output_type": "stream",
     "text": [
      "\r",
      " 27%|██████████████████████████████████████████████▊                                                                                                                             | 272/1000 [7:00:04<16:26:45, 81.33s/it]"
     ]
    },
    {
     "name": "stdout",
     "output_type": "stream",
     "text": [
      "\n",
      "\t ----- tradeoff_buffer: 6 ----- \n",
      "\t ----- reward: 0.598621154222523 for f_star and f_minus: 29.75602277474094 , 40.1378845777477\n",
      "[INFO] [2022-12-17 01:10:19,399] [OpenBox-SPO] Iteration 273, objective value: [39.654213251033795].\n"
     ]
    },
    {
     "name": "stderr",
     "output_type": "stream",
     "text": [
      "\r",
      " 27%|██████████████████████████████████████████████▉                                                                                                                             | 273/1000 [7:01:29<16:39:20, 82.48s/it]"
     ]
    },
    {
     "name": "stdout",
     "output_type": "stream",
     "text": [
      "\n",
      "\t ----- tradeoff_buffer: 9 ----- \n",
      "\t ----- reward: 0.603457867489662 for f_star and f_minus: 29.75602277474094 , 39.654213251033795\n",
      "[INFO] [2022-12-17 01:12:01,478] [OpenBox-SPO] Iteration 274, objective value: [40.50650917509447].\n"
     ]
    },
    {
     "name": "stderr",
     "output_type": "stream",
     "text": [
      "\r",
      " 27%|███████████████████████████████████████████████▏                                                                                                                            | 274/1000 [7:03:11<17:49:07, 88.36s/it]"
     ]
    },
    {
     "name": "stdout",
     "output_type": "stream",
     "text": [
      "\n",
      "\t ----- tradeoff_buffer: 10 ----- \n",
      "\t ----- reward: 0.5949349082490553 for f_star and f_minus: 29.75602277474094 , 40.50650917509447\n",
      "[INFO] [2022-12-17 01:13:27,015] [OpenBox-SPO] Iteration 275, objective value: [38.05116481712264].\n"
     ]
    },
    {
     "name": "stderr",
     "output_type": "stream",
     "text": [
      "\r",
      " 28%|███████████████████████████████████████████████▎                                                                                                                            | 275/1000 [7:04:37<17:37:25, 87.51s/it]"
     ]
    },
    {
     "name": "stdout",
     "output_type": "stream",
     "text": [
      "\n",
      "\t ----- tradeoff_buffer: 12 ----- \n",
      "\t ----- reward: 0.6194883518287736 for f_star and f_minus: 29.75602277474094 , 38.05116481712264\n",
      "[INFO] [2022-12-17 01:13:27,016] [Advisor] Sample random config. rand_prob=0.100000.\n",
      "[INFO] [2022-12-17 01:14:08,277] [OpenBox-SPO] Iteration 276, objective value: [48.59988284946633].\n"
     ]
    },
    {
     "name": "stderr",
     "output_type": "stream",
     "text": [
      "\r",
      " 28%|███████████████████████████████████████████████▍                                                                                                                            | 276/1000 [7:05:18<14:48:32, 73.64s/it]"
     ]
    },
    {
     "name": "stdout",
     "output_type": "stream",
     "text": [
      "\n",
      "\t ----- tradeoff_buffer: 15 ----- \n",
      "\t ----- reward: 0.5140011715053368 for f_star and f_minus: 29.75602277474094 , 48.59988284946633\n",
      "[INFO] [2022-12-17 01:15:25,580] [OpenBox-SPO] Iteration 277, objective value: [33.44822848095518].\n"
     ]
    },
    {
     "name": "stderr",
     "output_type": "stream",
     "text": [
      "\r",
      " 28%|███████████████████████████████████████████████▋                                                                                                                            | 277/1000 [7:06:35<15:00:34, 74.74s/it]"
     ]
    },
    {
     "name": "stdout",
     "output_type": "stream",
     "text": [
      "\n",
      "\t ----- tradeoff_buffer: 13 ----- \n",
      "\t ----- reward: 0.6655177151904482 for f_star and f_minus: 29.75602277474094 , 33.44822848095518\n",
      "[INFO] [2022-12-17 01:17:04,609] [OpenBox-SPO] Iteration 278, objective value: [37.60551738619154].\n"
     ]
    },
    {
     "name": "stderr",
     "output_type": "stream",
     "text": [
      "\r",
      " 28%|███████████████████████████████████████████████▊                                                                                                                            | 278/1000 [7:08:14<16:27:01, 82.02s/it]"
     ]
    },
    {
     "name": "stdout",
     "output_type": "stream",
     "text": [
      "\n",
      "\t ----- tradeoff_buffer: 10 ----- \n",
      "\t ----- reward: 0.6239448261380846 for f_star and f_minus: 29.75602277474094 , 37.60551738619154\n",
      "[INFO] [2022-12-17 01:18:32,268] [OpenBox-SPO] Iteration 279, objective value: [33.78820192413782].\n"
     ]
    },
    {
     "name": "stderr",
     "output_type": "stream",
     "text": [
      "\r",
      " 28%|███████████████████████████████████████████████▉                                                                                                                            | 279/1000 [7:09:42<16:45:58, 83.71s/it]"
     ]
    },
    {
     "name": "stdout",
     "output_type": "stream",
     "text": [
      "\n",
      "\t ----- tradeoff_buffer: 5 ----- \n",
      "\t ----- reward: 0.6621179807586217 for f_star and f_minus: 29.75602277474094 , 33.78820192413782\n",
      "[INFO] [2022-12-17 01:20:00,013] [OpenBox-SPO] Iteration 280, objective value: [33.077072163211355].\n"
     ]
    },
    {
     "name": "stderr",
     "output_type": "stream",
     "text": [
      "\r",
      " 28%|████████████████████████████████████████████████▏                                                                                                                           | 280/1000 [7:11:10<16:59:05, 84.92s/it]"
     ]
    },
    {
     "name": "stdout",
     "output_type": "stream",
     "text": [
      "\n",
      "\t ----- tradeoff_buffer: 5 ----- \n",
      "\t ----- reward: 0.6692292783678864 for f_star and f_minus: 29.75602277474094 , 33.077072163211355\n",
      "[INFO] [2022-12-17 01:21:17,034] [OpenBox-SPO] Iteration 281, objective value: [40.96407823519791].\n"
     ]
    },
    {
     "name": "stderr",
     "output_type": "stream",
     "text": [
      "\r",
      " 28%|████████████████████████████████████████████████▎                                                                                                                           | 281/1000 [7:12:27<16:29:15, 82.55s/it]"
     ]
    },
    {
     "name": "stdout",
     "output_type": "stream",
     "text": [
      "\n",
      "\t ----- tradeoff_buffer: 5 ----- \n",
      "\t ----- reward: 0.5903592176480209 for f_star and f_minus: 29.75602277474094 , 40.96407823519791\n",
      "[INFO] [2022-12-17 01:22:47,017] [OpenBox-SPO] Iteration 282, objective value: [35.38260541948699].\n"
     ]
    },
    {
     "name": "stderr",
     "output_type": "stream",
     "text": [
      "\r",
      " 28%|████████████████████████████████████████████████▌                                                                                                                           | 282/1000 [7:13:57<16:54:33, 84.78s/it]"
     ]
    },
    {
     "name": "stdout",
     "output_type": "stream",
     "text": [
      "\n",
      "\t ----- tradeoff_buffer: 5 ----- \n",
      "\t ----- reward: 0.6461739458051301 for f_star and f_minus: 29.75602277474094 , 35.38260541948699\n",
      "[INFO] [2022-12-17 01:24:03,927] [OpenBox-SPO] Iteration 283, objective value: [34.61039862326297].\n"
     ]
    },
    {
     "name": "stderr",
     "output_type": "stream",
     "text": [
      "\r",
      " 28%|████████████████████████████████████████████████▋                                                                                                                           | 283/1000 [7:15:13<16:24:55, 82.42s/it]"
     ]
    },
    {
     "name": "stdout",
     "output_type": "stream",
     "text": [
      "\n",
      "\t ----- tradeoff_buffer: 5 ----- \n",
      "\t ----- reward: 0.6538960137673704 for f_star and f_minus: 29.75602277474094 , 34.61039862326297\n",
      "[INFO] [2022-12-17 01:25:32,498] [OpenBox-SPO] Iteration 284, objective value: [43.57351073558665].\n"
     ]
    },
    {
     "name": "stderr",
     "output_type": "stream",
     "text": [
      "\r",
      " 28%|████████████████████████████████████████████████▊                                                                                                                           | 284/1000 [7:16:42<16:45:34, 84.27s/it]"
     ]
    },
    {
     "name": "stdout",
     "output_type": "stream",
     "text": [
      "\n",
      "\t ----- tradeoff_buffer: 5 ----- \n",
      "\t ----- reward: 0.5642648926441335 for f_star and f_minus: 29.75602277474094 , 43.57351073558665\n",
      "[INFO] [2022-12-17 01:27:02,070] [OpenBox-SPO] Iteration 285, objective value: [37.23318811598565].\n"
     ]
    },
    {
     "name": "stderr",
     "output_type": "stream",
     "text": [
      "\r",
      " 28%|█████████████████████████████████████████████████                                                                                                                           | 285/1000 [7:18:12<17:03:08, 85.86s/it]"
     ]
    },
    {
     "name": "stdout",
     "output_type": "stream",
     "text": [
      "\n",
      "\t ----- tradeoff_buffer: 5 ----- \n",
      "\t ----- reward: 0.6276681188401435 for f_star and f_minus: 29.75602277474094 , 37.23318811598565\n",
      "[INFO] [2022-12-17 01:28:24,289] [OpenBox-SPO] Iteration 286, objective value: [34.311266641021234].\n"
     ]
    },
    {
     "name": "stderr",
     "output_type": "stream",
     "text": [
      "\r",
      " 29%|█████████████████████████████████████████████████▏                                                                                                                          | 286/1000 [7:19:34<16:48:42, 84.77s/it]"
     ]
    },
    {
     "name": "stdout",
     "output_type": "stream",
     "text": [
      "\n",
      "\t ----- tradeoff_buffer: 5 ----- \n",
      "\t ----- reward: 0.6568873335897877 for f_star and f_minus: 29.75602277474094 , 34.311266641021234\n",
      "[INFO] [2022-12-17 01:30:01,483] [OpenBox-SPO] Iteration 287, objective value: [32.598096705235704].\n"
     ]
    },
    {
     "name": "stderr",
     "output_type": "stream",
     "text": [
      "\r",
      " 29%|█████████████████████████████████████████████████▎                                                                                                                          | 287/1000 [7:21:11<17:31:36, 88.49s/it]"
     ]
    },
    {
     "name": "stdout",
     "output_type": "stream",
     "text": [
      "\n",
      "\t ----- tradeoff_buffer: 7 ----- \n",
      "\t ----- reward: 0.674019032947643 for f_star and f_minus: 29.75602277474094 , 32.598096705235704\n",
      "[INFO] [2022-12-17 01:31:30,960] [OpenBox-SPO] Iteration 288, objective value: [30.098383209634207].\n"
     ]
    },
    {
     "name": "stderr",
     "output_type": "stream",
     "text": [
      "\r",
      " 29%|█████████████████████████████████████████████████▌                                                                                                                          | 288/1000 [7:22:41<17:33:37, 88.79s/it]"
     ]
    },
    {
     "name": "stdout",
     "output_type": "stream",
     "text": [
      "\n",
      "\t ----- tradeoff_buffer: 4 ----- \n",
      "\t ----- reward: 0.699016167903658 for f_star and f_minus: 29.75602277474094 , 30.098383209634207\n",
      "[INFO] [2022-12-17 01:32:49,758] [OpenBox-SPO] Iteration 289, objective value: [31.383407184196173].\n"
     ]
    },
    {
     "name": "stderr",
     "output_type": "stream",
     "text": [
      "\r",
      " 29%|█████████████████████████████████████████████████▋                                                                                                                          | 289/1000 [7:23:59<16:56:38, 85.79s/it]"
     ]
    },
    {
     "name": "stdout",
     "output_type": "stream",
     "text": [
      "\n",
      "\t ----- tradeoff_buffer: 2 ----- \n",
      "\t ----- reward: 0.6861659281580383 for f_star and f_minus: 29.75602277474094 , 31.383407184196173\n",
      "[INFO] [2022-12-17 01:32:49,761] [Advisor] Sample random config. rand_prob=0.100000.\n",
      "[INFO] [2022-12-17 01:33:30,099] [OpenBox-SPO] Iteration 290, objective value: [55.31741142922614].\n"
     ]
    },
    {
     "name": "stderr",
     "output_type": "stream",
     "text": [
      "\r",
      " 29%|█████████████████████████████████████████████████▉                                                                                                                          | 290/1000 [7:24:40<14:13:51, 72.16s/it]"
     ]
    },
    {
     "name": "stdout",
     "output_type": "stream",
     "text": [
      "\n",
      "\t ----- tradeoff_buffer: 7 ----- \n",
      "\t ----- reward: -1 for f_star and f_minus: 29.75602277474094 , 55.31741142922614\n",
      "[INFO] [2022-12-17 01:35:00,200] [OpenBox-SPO] Iteration 291, objective value: [36.864208255896116].\n"
     ]
    },
    {
     "name": "stderr",
     "output_type": "stream",
     "text": [
      "\r",
      " 29%|██████████████████████████████████████████████████                                                                                                                          | 291/1000 [7:26:10<15:16:15, 77.54s/it]"
     ]
    },
    {
     "name": "stdout",
     "output_type": "stream",
     "text": [
      "\n",
      "\t ----- tradeoff_buffer: 4 ----- \n",
      "\t ----- reward: 0.6313579174410389 for f_star and f_minus: 29.75602277474094 , 36.864208255896116\n",
      "[INFO] [2022-12-17 01:36:18,100] [OpenBox-SPO] Iteration 292, objective value: [44.6757985468584].\n"
     ]
    },
    {
     "name": "stderr",
     "output_type": "stream",
     "text": [
      "\r",
      " 29%|██████████████████████████████████████████████████▏                                                                                                                         | 292/1000 [7:27:28<15:16:14, 77.65s/it]"
     ]
    },
    {
     "name": "stdout",
     "output_type": "stream",
     "text": [
      "\n",
      "\t ----- tradeoff_buffer: 2 ----- \n",
      "\t ----- reward: 0.553242014531416 for f_star and f_minus: 29.75602277474094 , 44.6757985468584\n",
      "[INFO] [2022-12-17 01:38:02,562] [OpenBox-SPO] Iteration 293, objective value: [41.71908100538223].\n"
     ]
    },
    {
     "name": "stderr",
     "output_type": "stream",
     "text": [
      "\r",
      " 29%|██████████████████████████████████████████████████▍                                                                                                                         | 293/1000 [7:29:12<16:49:44, 85.69s/it]"
     ]
    },
    {
     "name": "stdout",
     "output_type": "stream",
     "text": [
      "\n",
      "\t ----- tradeoff_buffer: 5 ----- \n",
      "\t ----- reward: 0.5828091899461777 for f_star and f_minus: 29.75602277474094 , 41.71908100538223\n",
      "[INFO] [2022-12-17 01:39:25,705] [OpenBox-SPO] Iteration 294, objective value: [39.41932549269029].\n"
     ]
    },
    {
     "name": "stderr",
     "output_type": "stream",
     "text": [
      "\r",
      " 29%|██████████████████████████████████████████████████▌                                                                                                                         | 294/1000 [7:30:35<16:39:18, 84.93s/it]"
     ]
    },
    {
     "name": "stdout",
     "output_type": "stream",
     "text": [
      "\n",
      "\t ----- tradeoff_buffer: 5 ----- \n",
      "\t ----- reward: 0.6058067450730971 for f_star and f_minus: 29.75602277474094 , 39.41932549269029\n",
      "[INFO] [2022-12-17 01:40:55,434] [OpenBox-SPO] Iteration 295, objective value: [25.71735633872605].\n"
     ]
    },
    {
     "name": "stderr",
     "output_type": "stream",
     "text": [
      "\r",
      " 30%|██████████████████████████████████████████████████▋                                                                                                                         | 295/1000 [7:32:05<16:54:49, 86.37s/it]"
     ]
    },
    {
     "name": "stdout",
     "output_type": "stream",
     "text": [
      "\n",
      "\t ----- tradeoff_buffer: 5 ----- \n",
      "\t ----- reward: 0.7428264366127395 for f_star and f_minus: 29.75602277474094 , 25.71735633872605\n",
      "[INFO] [2022-12-17 01:42:19,608] [OpenBox-SPO] Iteration 296, objective value: [30.230699605930113].\n"
     ]
    },
    {
     "name": "stderr",
     "output_type": "stream",
     "text": [
      "\r",
      " 30%|██████████████████████████████████████████████████▉                                                                                                                         | 296/1000 [7:33:29<16:45:39, 85.71s/it]"
     ]
    },
    {
     "name": "stdout",
     "output_type": "stream",
     "text": [
      "\n",
      "\t ----- tradeoff_buffer: 5 ----- \n",
      "\t ----- reward: 0.6976930039406989 for f_star and f_minus: 29.75602277474094 , 30.230699605930113\n",
      "[INFO] [2022-12-17 01:43:36,180] [OpenBox-SPO] Iteration 297, objective value: [38.29218538191513].\n"
     ]
    },
    {
     "name": "stderr",
     "output_type": "stream",
     "text": [
      "\r",
      " 30%|███████████████████████████████████████████████████                                                                                                                         | 297/1000 [7:34:46<16:12:06, 82.97s/it]"
     ]
    },
    {
     "name": "stdout",
     "output_type": "stream",
     "text": [
      "\n",
      "\t ----- tradeoff_buffer: 8 ----- \n",
      "\t ----- reward: 0.6170781461808487 for f_star and f_minus: 25.71735633872605 , 38.29218538191513\n",
      "[INFO] [2022-12-17 01:44:55,404] [OpenBox-SPO] Iteration 298, objective value: [42.116172521831615].\n"
     ]
    },
    {
     "name": "stderr",
     "output_type": "stream",
     "text": [
      "\r",
      " 30%|███████████████████████████████████████████████████▎                                                                                                                        | 298/1000 [7:36:05<15:57:35, 81.85s/it]"
     ]
    },
    {
     "name": "stdout",
     "output_type": "stream",
     "text": [
      "\n",
      "\t ----- tradeoff_buffer: 5 ----- \n",
      "\t ----- reward: 0.5788382747816838 for f_star and f_minus: 25.71735633872605 , 42.116172521831615\n",
      "[INFO] [2022-12-17 01:46:21,409] [OpenBox-SPO] Iteration 299, objective value: [33.39014087060693].\n"
     ]
    },
    {
     "name": "stderr",
     "output_type": "stream",
     "text": [
      "\r",
      " 30%|███████████████████████████████████████████████████▍                                                                                                                        | 299/1000 [7:37:31<16:10:48, 83.09s/it]"
     ]
    },
    {
     "name": "stdout",
     "output_type": "stream",
     "text": [
      "\n",
      "\t ----- tradeoff_buffer: 10 ----- \n",
      "\t ----- reward: 0.6660985912939308 for f_star and f_minus: 25.71735633872605 , 33.39014087060693\n",
      "[INFO] [2022-12-17 01:47:35,186] [OpenBox-SPO] Iteration 300, objective value: [40.90770449866884].\n"
     ]
    },
    {
     "name": "stderr",
     "output_type": "stream",
     "text": [
      "\r",
      " 30%|███████████████████████████████████████████████████▌                                                                                                                        | 300/1000 [7:38:45<15:36:48, 80.30s/it]"
     ]
    },
    {
     "name": "stdout",
     "output_type": "stream",
     "text": [
      "\n",
      "\t ----- tradeoff_buffer: 7 ----- \n",
      "\t ----- reward: 0.5909229550133116 for f_star and f_minus: 25.71735633872605 , 40.90770449866884\n",
      "[INFO] [2022-12-17 01:48:51,794] [OpenBox-SPO] Iteration 301, objective value: [41.889528983211946].\n"
     ]
    },
    {
     "name": "stderr",
     "output_type": "stream",
     "text": [
      "\r",
      " 30%|███████████████████████████████████████████████████▊                                                                                                                        | 301/1000 [7:40:01<15:22:34, 79.19s/it]"
     ]
    },
    {
     "name": "stdout",
     "output_type": "stream",
     "text": [
      "\n",
      "\t ----- tradeoff_buffer: 6 ----- \n",
      "\t ----- reward: 0.5811047101678806 for f_star and f_minus: 25.71735633872605 , 41.889528983211946\n",
      "[INFO] [2022-12-17 01:50:26,472] [OpenBox-SPO] Iteration 302, objective value: [34.55897482823205].\n"
     ]
    },
    {
     "name": "stderr",
     "output_type": "stream",
     "text": [
      "\r",
      " 30%|███████████████████████████████████████████████████▉                                                                                                                        | 302/1000 [7:41:36<16:15:18, 83.84s/it]"
     ]
    },
    {
     "name": "stdout",
     "output_type": "stream",
     "text": [
      "\n",
      "\t ----- tradeoff_buffer: 5 ----- \n",
      "\t ----- reward: 0.6544102517176795 for f_star and f_minus: 25.71735633872605 , 34.55897482823205\n",
      "[INFO] [2022-12-17 01:51:52,852] [OpenBox-SPO] Iteration 303, objective value: [34.52568874604127].\n"
     ]
    },
    {
     "name": "stderr",
     "output_type": "stream",
     "text": [
      "\r",
      " 30%|████████████████████████████████████████████████████                                                                                                                        | 303/1000 [7:43:02<16:22:46, 84.60s/it]"
     ]
    },
    {
     "name": "stdout",
     "output_type": "stream",
     "text": [
      "\n",
      "\t ----- tradeoff_buffer: 4 ----- \n",
      "\t ----- reward: 0.6547431125395873 for f_star and f_minus: 25.71735633872605 , 34.52568874604127\n",
      "[INFO] [2022-12-17 01:53:22,737] [OpenBox-SPO] Iteration 304, objective value: [40.01446112190508].\n"
     ]
    },
    {
     "name": "stderr",
     "output_type": "stream",
     "text": [
      "\r",
      " 30%|████████████████████████████████████████████████████▎                                                                                                                       | 304/1000 [7:44:32<16:39:45, 86.19s/it]"
     ]
    },
    {
     "name": "stdout",
     "output_type": "stream",
     "text": [
      "\n",
      "\t ----- tradeoff_buffer: 0 ----- \n",
      "\t ----- reward: 0.5998553887809492 for f_star and f_minus: 25.71735633872605 , 40.01446112190508\n",
      "[INFO] [2022-12-17 01:54:55,231] [OpenBox-SPO] Iteration 305, objective value: [37.1766303046851].\n"
     ]
    },
    {
     "name": "stderr",
     "output_type": "stream",
     "text": [
      "\r",
      " 30%|████████████████████████████████████████████████████▍                                                                                                                       | 305/1000 [7:46:05<17:00:14, 88.08s/it]"
     ]
    },
    {
     "name": "stdout",
     "output_type": "stream",
     "text": [
      "\n",
      "\t ----- tradeoff_buffer: 0 ----- \n",
      "\t ----- reward: 0.628233696953149 for f_star and f_minus: 25.71735633872605 , 37.1766303046851\n",
      "[INFO] [2022-12-17 01:54:55,233] [Advisor] Sample random config. rand_prob=0.100000.\n",
      "[INFO] [2022-12-17 01:55:39,214] [OpenBox-SPO] Iteration 306, objective value: [44.667784874630925].\n"
     ]
    },
    {
     "name": "stderr",
     "output_type": "stream",
     "text": [
      "\r",
      " 31%|████████████████████████████████████████████████████▋                                                                                                                       | 306/1000 [7:46:49<14:25:45, 74.85s/it]"
     ]
    },
    {
     "name": "stdout",
     "output_type": "stream",
     "text": [
      "\n",
      "\t ----- tradeoff_buffer: 3 ----- \n",
      "\t ----- reward: 0.5533221512536908 for f_star and f_minus: 25.71735633872605 , 44.667784874630925\n",
      "[INFO] [2022-12-17 01:55:39,216] [Advisor] Sample random config. rand_prob=0.100000.\n",
      "[INFO] [2022-12-17 01:56:12,131] [OpenBox-SPO] Iteration 307, objective value: [49.996762097348736].\n"
     ]
    },
    {
     "name": "stderr",
     "output_type": "stream",
     "text": [
      "\r",
      " 31%|████████████████████████████████████████████████████▊                                                                                                                       | 307/1000 [7:47:22<11:59:12, 62.27s/it]"
     ]
    },
    {
     "name": "stdout",
     "output_type": "stream",
     "text": [
      "\n",
      "\t ----- tradeoff_buffer: 3 ----- \n",
      "\t ----- reward: 0.5000323790265127 for f_star and f_minus: 25.71735633872605 , 49.996762097348736\n",
      "[INFO] [2022-12-17 01:57:31,659] [OpenBox-SPO] Iteration 308, objective value: [33.63326401031446].\n"
     ]
    },
    {
     "name": "stderr",
     "output_type": "stream",
     "text": [
      "\r",
      " 31%|████████████████████████████████████████████████████▉                                                                                                                       | 308/1000 [7:48:41<12:57:53, 67.45s/it]"
     ]
    },
    {
     "name": "stdout",
     "output_type": "stream",
     "text": [
      "\n",
      "\t ----- tradeoff_buffer: 4 ----- \n",
      "\t ----- reward: 0.6636673598968554 for f_star and f_minus: 25.71735633872605 , 33.63326401031446\n",
      "[INFO] [2022-12-17 01:58:57,314] [OpenBox-SPO] Iteration 309, objective value: [38.28884172596685].\n"
     ]
    },
    {
     "name": "stderr",
     "output_type": "stream",
     "text": [
      "\r",
      " 31%|█████████████████████████████████████████████████████▏                                                                                                                      | 309/1000 [7:50:07<13:59:40, 72.91s/it]"
     ]
    },
    {
     "name": "stdout",
     "output_type": "stream",
     "text": [
      "\n",
      "\t ----- tradeoff_buffer: 1 ----- \n",
      "\t ----- reward: 0.6171115827403315 for f_star and f_minus: 25.71735633872605 , 38.28884172596685\n",
      "[INFO] [2022-12-17 02:00:25,189] [OpenBox-SPO] Iteration 310, objective value: [34.06263014885688].\n"
     ]
    },
    {
     "name": "stderr",
     "output_type": "stream",
     "text": [
      "\r",
      " 31%|█████████████████████████████████████████████████████▎                                                                                                                      | 310/1000 [7:51:35<14:50:05, 77.40s/it]"
     ]
    },
    {
     "name": "stdout",
     "output_type": "stream",
     "text": [
      "\n",
      "\t ----- tradeoff_buffer: 4 ----- \n",
      "\t ----- reward: 0.6593736985114311 for f_star and f_minus: 25.71735633872605 , 34.06263014885688\n",
      "[INFO] [2022-12-17 02:01:49,882] [OpenBox-SPO] Iteration 311, objective value: [30.563010649096327].\n"
     ]
    },
    {
     "name": "stderr",
     "output_type": "stream",
     "text": [
      "\r",
      " 31%|█████████████████████████████████████████████████████▍                                                                                                                      | 311/1000 [7:52:59<15:13:55, 79.59s/it]"
     ]
    },
    {
     "name": "stdout",
     "output_type": "stream",
     "text": [
      "\n",
      "\t ----- tradeoff_buffer: 1 ----- \n",
      "\t ----- reward: 0.6943698935090368 for f_star and f_minus: 25.71735633872605 , 30.563010649096327\n",
      "[INFO] [2022-12-17 02:03:24,557] [OpenBox-SPO] Iteration 312, objective value: [36.716911343459415].\n"
     ]
    },
    {
     "name": "stderr",
     "output_type": "stream",
     "text": [
      "\r",
      " 31%|█████████████████████████████████████████████████████▋                                                                                                                      | 312/1000 [7:54:34<16:04:30, 84.11s/it]"
     ]
    },
    {
     "name": "stdout",
     "output_type": "stream",
     "text": [
      "\n",
      "\t ----- tradeoff_buffer: 4 ----- \n",
      "\t ----- reward: 0.6328308865654059 for f_star and f_minus: 25.71735633872605 , 36.716911343459415\n",
      "[INFO] [2022-12-17 02:04:52,336] [OpenBox-SPO] Iteration 313, objective value: [32.33764686440007].\n"
     ]
    },
    {
     "name": "stderr",
     "output_type": "stream",
     "text": [
      "\r",
      " 31%|█████████████████████████████████████████████████████▊                                                                                                                      | 313/1000 [7:56:02<16:15:41, 85.21s/it]"
     ]
    },
    {
     "name": "stdout",
     "output_type": "stream",
     "text": [
      "\n",
      "\t ----- tradeoff_buffer: 1 ----- \n",
      "\t ----- reward: 0.6766235313559993 for f_star and f_minus: 25.71735633872605 , 32.33764686440007\n",
      "[INFO] [2022-12-17 02:06:16,857] [OpenBox-SPO] Iteration 314, objective value: [38.39872531323413].\n"
     ]
    },
    {
     "name": "stderr",
     "output_type": "stream",
     "text": [
      "\r",
      " 31%|██████████████████████████████████████████████████████                                                                                                                      | 314/1000 [7:57:26<16:11:53, 85.01s/it]"
     ]
    },
    {
     "name": "stdout",
     "output_type": "stream",
     "text": [
      "\n",
      "\t ----- tradeoff_buffer: 4 ----- \n",
      "\t ----- reward: 0.6160127468676586 for f_star and f_minus: 25.71735633872605 , 38.39872531323413\n",
      "[INFO] [2022-12-17 02:07:46,035] [OpenBox-SPO] Iteration 315, objective value: [41.261428408791566].\n"
     ]
    },
    {
     "name": "stderr",
     "output_type": "stream",
     "text": [
      "\r",
      " 32%|██████████████████████████████████████████████████████▏                                                                                                                     | 315/1000 [7:58:56<16:24:46, 86.26s/it]"
     ]
    },
    {
     "name": "stdout",
     "output_type": "stream",
     "text": [
      "\n",
      "\t ----- tradeoff_buffer: 6 ----- \n",
      "\t ----- reward: 0.5873857159120843 for f_star and f_minus: 25.71735633872605 , 41.261428408791566\n",
      "[INFO] [2022-12-17 02:09:13,952] [OpenBox-SPO] Iteration 316, objective value: [46.519172040163085].\n"
     ]
    },
    {
     "name": "stderr",
     "output_type": "stream",
     "text": [
      "\r",
      " 32%|██████████████████████████████████████████████████████▎                                                                                                                     | 316/1000 [8:00:24<16:29:00, 86.76s/it]"
     ]
    },
    {
     "name": "stdout",
     "output_type": "stream",
     "text": [
      "\n",
      "\t ----- tradeoff_buffer: 7 ----- \n",
      "\t ----- reward: 0.5348082795983691 for f_star and f_minus: 25.71735633872605 , 46.519172040163085\n",
      "[INFO] [2022-12-17 02:10:36,651] [OpenBox-SPO] Iteration 317, objective value: [29.749811740829756].\n"
     ]
    },
    {
     "name": "stderr",
     "output_type": "stream",
     "text": [
      "\r",
      " 32%|██████████████████████████████████████████████████████▌                                                                                                                     | 317/1000 [8:01:46<16:13:42, 85.54s/it]"
     ]
    },
    {
     "name": "stdout",
     "output_type": "stream",
     "text": [
      "\n",
      "\t ----- tradeoff_buffer: 6 ----- \n",
      "\t ----- reward: 0.7025018825917024 for f_star and f_minus: 25.71735633872605 , 29.749811740829756\n",
      "[INFO] [2022-12-17 02:11:56,977] [OpenBox-SPO] Iteration 318, objective value: [56.52993166856029].\n"
     ]
    },
    {
     "name": "stderr",
     "output_type": "stream",
     "text": [
      "\r",
      " 32%|██████████████████████████████████████████████████████▋                                                                                                                     | 318/1000 [8:03:07<15:54:30, 83.97s/it]"
     ]
    },
    {
     "name": "stdout",
     "output_type": "stream",
     "text": [
      "\n",
      "\t ----- tradeoff_buffer: 5 ----- \n",
      "\t ----- reward: -1 for f_star and f_minus: 25.71735633872605 , 56.52993166856029\n",
      "[INFO] [2022-12-17 02:13:22,460] [OpenBox-SPO] Iteration 319, objective value: [37.286799600163114].\n"
     ]
    },
    {
     "name": "stderr",
     "output_type": "stream",
     "text": [
      "\r",
      " 32%|██████████████████████████████████████████████████████▊                                                                                                                     | 319/1000 [8:04:32<15:58:14, 84.43s/it]"
     ]
    },
    {
     "name": "stdout",
     "output_type": "stream",
     "text": [
      "\n",
      "\t ----- tradeoff_buffer: 4 ----- \n",
      "\t ----- reward: 0.6271320039983689 for f_star and f_minus: 25.71735633872605 , 37.286799600163114\n",
      "[INFO] [2022-12-17 02:14:49,961] [OpenBox-SPO] Iteration 320, objective value: [34.81316840418751].\n"
     ]
    },
    {
     "name": "stderr",
     "output_type": "stream",
     "text": [
      "\r",
      " 32%|███████████████████████████████████████████████████████                                                                                                                     | 320/1000 [8:06:00<16:07:17, 85.35s/it]"
     ]
    },
    {
     "name": "stdout",
     "output_type": "stream",
     "text": [
      "\n",
      "\t ----- tradeoff_buffer: 1 ----- \n",
      "\t ----- reward: 0.6518683159581249 for f_star and f_minus: 25.71735633872605 , 34.81316840418751\n",
      "[INFO] [2022-12-17 02:16:13,191] [OpenBox-SPO] Iteration 321, objective value: [42.467774841362505].\n"
     ]
    },
    {
     "name": "stderr",
     "output_type": "stream",
     "text": [
      "\r",
      " 32%|███████████████████████████████████████████████████████▏                                                                                                                    | 321/1000 [8:07:23<15:58:40, 84.71s/it]"
     ]
    },
    {
     "name": "stdout",
     "output_type": "stream",
     "text": [
      "\n",
      "\t ----- tradeoff_buffer: 2 ----- \n",
      "\t ----- reward: 0.575322251586375 for f_star and f_minus: 25.71735633872605 , 42.467774841362505\n",
      "[INFO] [2022-12-17 02:17:42,331] [OpenBox-SPO] Iteration 322, objective value: [32.25721975132146].\n"
     ]
    },
    {
     "name": "stderr",
     "output_type": "stream",
     "text": [
      "\r",
      " 32%|███████████████████████████████████████████████████████▍                                                                                                                    | 322/1000 [8:08:52<16:12:16, 86.04s/it]"
     ]
    },
    {
     "name": "stdout",
     "output_type": "stream",
     "text": [
      "\n",
      "\t ----- tradeoff_buffer: 0 ----- \n",
      "\t ----- reward: 0.6774278024867855 for f_star and f_minus: 25.71735633872605 , 32.25721975132146\n",
      "[INFO] [2022-12-17 02:19:13,758] [OpenBox-SPO] Iteration 323, objective value: [35.00918404608913].\n"
     ]
    },
    {
     "name": "stderr",
     "output_type": "stream",
     "text": [
      "\r",
      " 32%|███████████████████████████████████████████████████████▌                                                                                                                    | 323/1000 [8:10:23<16:29:03, 87.66s/it]"
     ]
    },
    {
     "name": "stdout",
     "output_type": "stream",
     "text": [
      "\n",
      "\t ----- tradeoff_buffer: 0 ----- \n",
      "\t ----- reward: 0.6499081595391087 for f_star and f_minus: 25.71735633872605 , 35.00918404608913\n",
      "[INFO] [2022-12-17 02:20:29,053] [OpenBox-SPO] Iteration 324, objective value: [43.994167002924].\n"
     ]
    },
    {
     "name": "stderr",
     "output_type": "stream",
     "text": [
      "\r",
      " 32%|███████████████████████████████████████████████████████▋                                                                                                                    | 324/1000 [8:11:39<15:45:49, 83.95s/it]"
     ]
    },
    {
     "name": "stdout",
     "output_type": "stream",
     "text": [
      "\n",
      "\t ----- tradeoff_buffer: 0 ----- \n",
      "\t ----- reward: 0.56005832997076 for f_star and f_minus: 25.71735633872605 , 43.994167002924\n",
      "[INFO] [2022-12-17 02:21:47,964] [OpenBox-SPO] Iteration 325, objective value: [40.54839854945256].\n"
     ]
    },
    {
     "name": "stderr",
     "output_type": "stream",
     "text": [
      "\r",
      " 32%|███████████████████████████████████████████████████████▉                                                                                                                    | 325/1000 [8:12:58<15:27:25, 82.44s/it]"
     ]
    },
    {
     "name": "stdout",
     "output_type": "stream",
     "text": [
      "\n",
      "\t ----- tradeoff_buffer: 4 ----- \n",
      "\t ----- reward: 0.5945160145054744 for f_star and f_minus: 25.71735633872605 , 40.54839854945256\n",
      "[INFO] [2022-12-17 02:23:21,854] [OpenBox-SPO] Iteration 326, objective value: [43.97023042181745].\n"
     ]
    },
    {
     "name": "stderr",
     "output_type": "stream",
     "text": [
      "\r",
      " 33%|████████████████████████████████████████████████████████                                                                                                                    | 326/1000 [8:14:31<16:04:38, 85.87s/it]"
     ]
    },
    {
     "name": "stdout",
     "output_type": "stream",
     "text": [
      "\n",
      "\t ----- tradeoff_buffer: 1 ----- \n",
      "\t ----- reward: 0.5602976957818255 for f_star and f_minus: 25.71735633872605 , 43.97023042181745\n",
      "[INFO] [2022-12-17 02:23:21,855] [Advisor] Sample random config. rand_prob=0.100000.\n",
      "[INFO] [2022-12-17 02:24:05,593] [OpenBox-SPO] Iteration 327, objective value: [53.13857273190241].\n"
     ]
    },
    {
     "name": "stderr",
     "output_type": "stream",
     "text": [
      "\r",
      " 33%|████████████████████████████████████████████████████████▏                                                                                                                   | 327/1000 [8:15:15<13:41:25, 73.23s/it]"
     ]
    },
    {
     "name": "stdout",
     "output_type": "stream",
     "text": [
      "\n",
      "\t ----- tradeoff_buffer: 4 ----- \n",
      "\t ----- reward: -1 for f_star and f_minus: 25.71735633872605 , 53.13857273190241\n",
      "[INFO] [2022-12-17 02:25:27,063] [OpenBox-SPO] Iteration 328, objective value: [37.99718645962693].\n"
     ]
    },
    {
     "name": "stderr",
     "output_type": "stream",
     "text": [
      "\r",
      " 33%|████████████████████████████████████████████████████████▍                                                                                                                   | 328/1000 [8:16:37<14:07:53, 75.70s/it]"
     ]
    },
    {
     "name": "stdout",
     "output_type": "stream",
     "text": [
      "\n",
      "\t ----- tradeoff_buffer: 1 ----- \n",
      "\t ----- reward: 0.6200281354037307 for f_star and f_minus: 25.71735633872605 , 37.99718645962693\n",
      "[INFO] [2022-12-17 02:27:01,983] [OpenBox-SPO] Iteration 329, objective value: [35.479293910786836].\n"
     ]
    },
    {
     "name": "stderr",
     "output_type": "stream",
     "text": [
      "\r",
      " 33%|████████████████████████████████████████████████████████▌                                                                                                                   | 329/1000 [8:18:12<15:11:05, 81.47s/it]"
     ]
    },
    {
     "name": "stdout",
     "output_type": "stream",
     "text": [
      "\n",
      "\t ----- tradeoff_buffer: 6 ----- \n",
      "\t ----- reward: 0.6452070608921316 for f_star and f_minus: 25.71735633872605 , 35.479293910786836\n",
      "[INFO] [2022-12-17 02:28:26,736] [OpenBox-SPO] Iteration 330, objective value: [35.86396281438243].\n"
     ]
    },
    {
     "name": "stderr",
     "output_type": "stream",
     "text": [
      "\r",
      " 33%|████████████████████████████████████████████████████████▊                                                                                                                   | 330/1000 [8:19:36<15:20:44, 82.45s/it]"
     ]
    },
    {
     "name": "stdout",
     "output_type": "stream",
     "text": [
      "\n",
      "\t ----- tradeoff_buffer: 5 ----- \n",
      "\t ----- reward: 0.6413603718561757 for f_star and f_minus: 25.71735633872605 , 35.86396281438243\n",
      "[INFO] [2022-12-17 02:29:47,276] [OpenBox-SPO] Iteration 331, objective value: [42.20050273975389].\n"
     ]
    },
    {
     "name": "stderr",
     "output_type": "stream",
     "text": [
      "\r",
      " 33%|████████████████████████████████████████████████████████▉                                                                                                                   | 331/1000 [8:20:57<15:12:57, 81.88s/it]"
     ]
    },
    {
     "name": "stdout",
     "output_type": "stream",
     "text": [
      "\n",
      "\t ----- tradeoff_buffer: 4 ----- \n",
      "\t ----- reward: 0.5779949726024611 for f_star and f_minus: 25.71735633872605 , 42.20050273975389\n",
      "[INFO] [2022-12-17 02:31:13,538] [OpenBox-SPO] Iteration 332, objective value: [37.37065952558607].\n"
     ]
    },
    {
     "name": "stderr",
     "output_type": "stream",
     "text": [
      "\r",
      " 33%|█████████████████████████████████████████████████████████                                                                                                                   | 332/1000 [8:22:23<15:26:13, 83.19s/it]"
     ]
    },
    {
     "name": "stdout",
     "output_type": "stream",
     "text": [
      "\n",
      "\t ----- tradeoff_buffer: 1 ----- \n",
      "\t ----- reward: 0.6262934047441393 for f_star and f_minus: 25.71735633872605 , 37.37065952558607\n",
      "[INFO] [2022-12-17 02:32:37,466] [OpenBox-SPO] Iteration 333, objective value: [39.56373498129485].\n"
     ]
    },
    {
     "name": "stderr",
     "output_type": "stream",
     "text": [
      "\r",
      " 33%|█████████████████████████████████████████████████████████▎                                                                                                                  | 333/1000 [8:23:47<15:27:17, 83.41s/it]"
     ]
    },
    {
     "name": "stdout",
     "output_type": "stream",
     "text": [
      "\n",
      "\t ----- tradeoff_buffer: 4 ----- \n",
      "\t ----- reward: 0.6043626501870515 for f_star and f_minus: 25.71735633872605 , 39.56373498129485\n",
      "[INFO] [2022-12-17 02:32:37,468] [Advisor] Sample random config. rand_prob=0.100000.\n",
      "[INFO] [2022-12-17 02:33:14,771] [OpenBox-SPO] Iteration 334, objective value: [49.67607181101101].\n"
     ]
    },
    {
     "name": "stderr",
     "output_type": "stream",
     "text": [
      "\r",
      " 33%|█████████████████████████████████████████████████████████▍                                                                                                                  | 334/1000 [8:24:24<12:52:21, 69.58s/it]"
     ]
    },
    {
     "name": "stdout",
     "output_type": "stream",
     "text": [
      "\n",
      "\t ----- tradeoff_buffer: 2 ----- \n",
      "\t ----- reward: 0.5032392818898899 for f_star and f_minus: 25.71735633872605 , 49.67607181101101\n",
      "[INFO] [2022-12-17 02:34:42,747] [OpenBox-SPO] Iteration 335, objective value: [33.336931898281904].\n"
     ]
    },
    {
     "name": "stderr",
     "output_type": "stream",
     "text": [
      "\r",
      " 34%|█████████████████████████████████████████████████████████▌                                                                                                                  | 335/1000 [8:25:52<13:52:21, 75.10s/it]"
     ]
    },
    {
     "name": "stdout",
     "output_type": "stream",
     "text": [
      "\n",
      "\t ----- tradeoff_buffer: 0 ----- \n",
      "\t ----- reward: 0.6666306810171809 for f_star and f_minus: 25.71735633872605 , 33.336931898281904\n",
      "[INFO] [2022-12-17 02:36:07,062] [OpenBox-SPO] Iteration 336, objective value: [31.9960607200874].\n"
     ]
    },
    {
     "name": "stderr",
     "output_type": "stream",
     "text": [
      "\r",
      " 34%|█████████████████████████████████████████████████████████▊                                                                                                                  | 336/1000 [8:27:17<14:21:42, 77.86s/it]"
     ]
    },
    {
     "name": "stdout",
     "output_type": "stream",
     "text": [
      "\n",
      "\t ----- tradeoff_buffer: 0 ----- \n",
      "\t ----- reward: 0.680039392799126 for f_star and f_minus: 25.71735633872605 , 31.9960607200874\n",
      "[INFO] [2022-12-17 02:37:29,313] [OpenBox-SPO] Iteration 337, objective value: [36.23368666588252].\n"
     ]
    },
    {
     "name": "stderr",
     "output_type": "stream",
     "text": [
      "\r",
      " 34%|█████████████████████████████████████████████████████████▉                                                                                                                  | 337/1000 [8:28:39<14:34:56, 79.18s/it]"
     ]
    },
    {
     "name": "stdout",
     "output_type": "stream",
     "text": [
      "\n",
      "\t ----- tradeoff_buffer: 0 ----- \n",
      "\t ----- reward: 0.6376631333411747 for f_star and f_minus: 25.71735633872605 , 36.23368666588252\n",
      "[INFO] [2022-12-17 02:38:50,023] [OpenBox-SPO] Iteration 338, objective value: [39.654066521225204].\n"
     ]
    },
    {
     "name": "stderr",
     "output_type": "stream",
     "text": [
      "\r",
      " 34%|██████████████████████████████████████████████████████████▏                                                                                                                 | 338/1000 [8:30:00<14:38:41, 79.64s/it]"
     ]
    },
    {
     "name": "stdout",
     "output_type": "stream",
     "text": [
      "\n",
      "\t ----- tradeoff_buffer: 0 ----- \n",
      "\t ----- reward: 0.6034593347877479 for f_star and f_minus: 25.71735633872605 , 39.654066521225204\n",
      "[INFO] [2022-12-17 02:40:27,391] [OpenBox-SPO] Iteration 339, objective value: [34.57417594616636].\n"
     ]
    },
    {
     "name": "stderr",
     "output_type": "stream",
     "text": [
      "\r",
      " 34%|██████████████████████████████████████████████████████████▎                                                                                                                 | 339/1000 [8:31:37<15:35:57, 84.96s/it]"
     ]
    },
    {
     "name": "stdout",
     "output_type": "stream",
     "text": [
      "\n",
      "\t ----- tradeoff_buffer: 0 ----- \n",
      "\t ----- reward: 0.6542582405383364 for f_star and f_minus: 25.71735633872605 , 34.57417594616636\n",
      "[INFO] [2022-12-17 02:41:52,917] [OpenBox-SPO] Iteration 340, objective value: [33.08551184710004].\n"
     ]
    },
    {
     "name": "stderr",
     "output_type": "stream",
     "text": [
      "\r",
      " 34%|██████████████████████████████████████████████████████████▍                                                                                                                 | 340/1000 [8:33:02<15:36:24, 85.13s/it]"
     ]
    },
    {
     "name": "stdout",
     "output_type": "stream",
     "text": [
      "\n",
      "\t ----- tradeoff_buffer: 0 ----- \n",
      "\t ----- reward: 0.6691448815289996 for f_star and f_minus: 25.71735633872605 , 33.08551184710004\n",
      "[INFO] [2022-12-17 02:43:18,254] [OpenBox-SPO] Iteration 341, objective value: [31.955462031969475].\n"
     ]
    },
    {
     "name": "stderr",
     "output_type": "stream",
     "text": [
      "\r",
      " 34%|██████████████████████████████████████████████████████████▋                                                                                                                 | 341/1000 [8:34:28<15:35:40, 85.19s/it]"
     ]
    },
    {
     "name": "stdout",
     "output_type": "stream",
     "text": [
      "\n",
      "\t ----- tradeoff_buffer: 0 ----- \n",
      "\t ----- reward: 0.6804453796803053 for f_star and f_minus: 25.71735633872605 , 31.955462031969475\n",
      "[INFO] [2022-12-17 02:44:49,822] [OpenBox-SPO] Iteration 342, objective value: [39.21835342583086].\n"
     ]
    },
    {
     "name": "stderr",
     "output_type": "stream",
     "text": [
      "\r",
      " 34%|██████████████████████████████████████████████████████████▊                                                                                                                 | 342/1000 [8:35:59<15:55:14, 87.10s/it]"
     ]
    },
    {
     "name": "stdout",
     "output_type": "stream",
     "text": [
      "\n",
      "\t ----- tradeoff_buffer: 0 ----- \n",
      "\t ----- reward: 0.6078164657416913 for f_star and f_minus: 25.71735633872605 , 39.21835342583086\n",
      "[INFO] [2022-12-17 02:46:26,796] [OpenBox-SPO] Iteration 343, objective value: [43.06584019853854].\n"
     ]
    },
    {
     "name": "stderr",
     "output_type": "stream",
     "text": [
      "\r",
      " 34%|██████████████████████████████████████████████████████████▉                                                                                                                 | 343/1000 [8:37:36<16:26:12, 90.06s/it]"
     ]
    },
    {
     "name": "stdout",
     "output_type": "stream",
     "text": [
      "\n",
      "\t ----- tradeoff_buffer: 0 ----- \n",
      "\t ----- reward: 0.5693415980146146 for f_star and f_minus: 25.71735633872605 , 43.06584019853854\n",
      "[INFO] [2022-12-17 02:47:48,964] [OpenBox-SPO] Iteration 344, objective value: [45.714510707785685].\n"
     ]
    },
    {
     "name": "stderr",
     "output_type": "stream",
     "text": [
      "\r",
      " 34%|███████████████████████████████████████████████████████████▏                                                                                                                | 344/1000 [8:38:59<15:58:48, 87.70s/it]"
     ]
    },
    {
     "name": "stdout",
     "output_type": "stream",
     "text": [
      "\n",
      "\t ----- tradeoff_buffer: 0 ----- \n",
      "\t ----- reward: 0.5428548929221432 for f_star and f_minus: 25.71735633872605 , 45.714510707785685\n",
      "[INFO] [2022-12-17 02:49:13,353] [OpenBox-SPO] Iteration 345, objective value: [36.88458695301298].\n"
     ]
    },
    {
     "name": "stderr",
     "output_type": "stream",
     "text": [
      "\r",
      " 34%|███████████████████████████████████████████████████████████▎                                                                                                                | 345/1000 [8:40:23<15:46:31, 86.70s/it]"
     ]
    },
    {
     "name": "stdout",
     "output_type": "stream",
     "text": [
      "\n",
      "\t ----- tradeoff_buffer: 0 ----- \n",
      "\t ----- reward: 0.6311541304698702 for f_star and f_minus: 25.71735633872605 , 36.88458695301298\n",
      "[INFO] [2022-12-17 02:50:45,617] [OpenBox-SPO] Iteration 346, objective value: [27.106934158264977].\n"
     ]
    },
    {
     "name": "stderr",
     "output_type": "stream",
     "text": [
      "\r",
      " 35%|███████████████████████████████████████████████████████████▌                                                                                                                | 346/1000 [8:41:55<16:03:15, 88.37s/it]"
     ]
    },
    {
     "name": "stdout",
     "output_type": "stream",
     "text": [
      "\n",
      "\t ----- tradeoff_buffer: 0 ----- \n",
      "\t ----- reward: 0.7289306584173503 for f_star and f_minus: 25.71735633872605 , 27.106934158264977\n",
      "[INFO] [2022-12-17 02:51:59,901] [OpenBox-SPO] Iteration 347, objective value: [39.36337886566186].\n"
     ]
    },
    {
     "name": "stderr",
     "output_type": "stream",
     "text": [
      "\r",
      " 35%|███████████████████████████████████████████████████████████▋                                                                                                                | 347/1000 [8:43:09<15:15:46, 84.15s/it]"
     ]
    },
    {
     "name": "stdout",
     "output_type": "stream",
     "text": [
      "\n",
      "\t ----- tradeoff_buffer: 0 ----- \n",
      "\t ----- reward: 0.6063662113433814 for f_star and f_minus: 25.71735633872605 , 39.36337886566186\n",
      "[INFO] [2022-12-17 02:53:18,165] [OpenBox-SPO] Iteration 348, objective value: [37.688177761810614].\n"
     ]
    },
    {
     "name": "stderr",
     "output_type": "stream",
     "text": [
      "\r",
      " 35%|███████████████████████████████████████████████████████████▊                                                                                                                | 348/1000 [8:44:28<14:55:12, 82.38s/it]"
     ]
    },
    {
     "name": "stdout",
     "output_type": "stream",
     "text": [
      "\n",
      "\t ----- tradeoff_buffer: 5 ----- \n",
      "\t ----- reward: 0.6231182223818938 for f_star and f_minus: 25.71735633872605 , 37.688177761810614\n",
      "[INFO] [2022-12-17 02:54:44,245] [OpenBox-SPO] Iteration 349, objective value: [35.28409968915378].\n"
     ]
    },
    {
     "name": "stderr",
     "output_type": "stream",
     "text": [
      "\r",
      " 35%|████████████████████████████████████████████████████████████                                                                                                                | 349/1000 [8:45:54<15:05:52, 83.49s/it]"
     ]
    },
    {
     "name": "stdout",
     "output_type": "stream",
     "text": [
      "\n",
      "\t ----- tradeoff_buffer: 4 ----- \n",
      "\t ----- reward: 0.6471590031084622 for f_star and f_minus: 25.71735633872605 , 35.28409968915378\n",
      "[INFO] [2022-12-17 02:56:12,724] [OpenBox-SPO] Iteration 350, objective value: [39.75914778322643].\n"
     ]
    },
    {
     "name": "stderr",
     "output_type": "stream",
     "text": [
      "\r",
      " 35%|████████████████████████████████████████████████████████████▏                                                                                                               | 350/1000 [8:47:22<15:20:41, 84.99s/it]"
     ]
    },
    {
     "name": "stdout",
     "output_type": "stream",
     "text": [
      "\n",
      "\t ----- tradeoff_buffer: 1 ----- \n",
      "\t ----- reward: 0.6024085221677357 for f_star and f_minus: 25.71735633872605 , 39.75914778322643\n",
      "[INFO] [2022-12-17 02:57:34,741] [OpenBox-SPO] Iteration 351, objective value: [42.02109954706557].\n"
     ]
    },
    {
     "name": "stderr",
     "output_type": "stream",
     "text": [
      "\r",
      " 35%|████████████████████████████████████████████████████████████▎                                                                                                               | 351/1000 [8:48:44<15:09:38, 84.10s/it]"
     ]
    },
    {
     "name": "stdout",
     "output_type": "stream",
     "text": [
      "\n",
      "\t ----- tradeoff_buffer: 4 ----- \n",
      "\t ----- reward: 0.5797890045293443 for f_star and f_minus: 25.71735633872605 , 42.02109954706557\n",
      "[INFO] [2022-12-17 02:58:55,105] [OpenBox-SPO] Iteration 352, objective value: [31.547729550409272].\n"
     ]
    },
    {
     "name": "stderr",
     "output_type": "stream",
     "text": [
      "\r",
      " 35%|████████████████████████████████████████████████████████████▌                                                                                                               | 352/1000 [8:50:05<14:56:08, 82.98s/it]"
     ]
    },
    {
     "name": "stdout",
     "output_type": "stream",
     "text": [
      "\n",
      "\t ----- tradeoff_buffer: 7 ----- \n",
      "\t ----- reward: 0.6845227044959072 for f_star and f_minus: 25.71735633872605 , 31.547729550409272\n",
      "[INFO] [2022-12-17 03:00:02,475] [OpenBox-SPO] Iteration 353, objective value: [31.616817936369102].\n"
     ]
    },
    {
     "name": "stderr",
     "output_type": "stream",
     "text": [
      "\r",
      " 35%|████████████████████████████████████████████████████████████▋                                                                                                               | 353/1000 [8:51:12<14:04:16, 78.29s/it]"
     ]
    },
    {
     "name": "stdout",
     "output_type": "stream",
     "text": [
      "\n",
      "\t ----- tradeoff_buffer: 6 ----- \n",
      "\t ----- reward: 0.683831820636309 for f_star and f_minus: 25.71735633872605 , 31.616817936369102\n",
      "[INFO] [2022-12-17 03:01:17,339] [OpenBox-SPO] Iteration 354, objective value: [32.98231502601935].\n"
     ]
    },
    {
     "name": "stderr",
     "output_type": "stream",
     "text": [
      "\r",
      " 35%|████████████████████████████████████████████████████████████▉                                                                                                               | 354/1000 [8:52:27<13:51:53, 77.27s/it]"
     ]
    },
    {
     "name": "stdout",
     "output_type": "stream",
     "text": [
      "\n",
      "\t ----- tradeoff_buffer: 5 ----- \n",
      "\t ----- reward: 0.6701768497398065 for f_star and f_minus: 25.71735633872605 , 32.98231502601935\n",
      "[INFO] [2022-12-17 03:02:36,409] [OpenBox-SPO] Iteration 355, objective value: [32.90758478772915].\n"
     ]
    },
    {
     "name": "stderr",
     "output_type": "stream",
     "text": [
      "\r",
      " 36%|█████████████████████████████████████████████████████████████                                                                                                               | 355/1000 [8:53:46<13:56:25, 77.81s/it]"
     ]
    },
    {
     "name": "stdout",
     "output_type": "stream",
     "text": [
      "\n",
      "\t ----- tradeoff_buffer: 4 ----- \n",
      "\t ----- reward: 0.6709241521227085 for f_star and f_minus: 25.71735633872605 , 32.90758478772915\n",
      "[INFO] [2022-12-17 03:03:57,543] [OpenBox-SPO] Iteration 356, objective value: [34.165580022719666].\n"
     ]
    },
    {
     "name": "stderr",
     "output_type": "stream",
     "text": [
      "\r",
      " 36%|█████████████████████████████████████████████████████████████▏                                                                                                              | 356/1000 [8:55:07<14:05:50, 78.80s/it]"
     ]
    },
    {
     "name": "stdout",
     "output_type": "stream",
     "text": [
      "\n",
      "\t ----- tradeoff_buffer: 1 ----- \n",
      "\t ----- reward: 0.6583441997728033 for f_star and f_minus: 25.71735633872605 , 34.165580022719666\n",
      "[INFO] [2022-12-17 03:05:29,225] [OpenBox-SPO] Iteration 357, objective value: [32.46530880362933].\n"
     ]
    },
    {
     "name": "stderr",
     "output_type": "stream",
     "text": [
      "\r",
      " 36%|█████████████████████████████████████████████████████████████▍                                                                                                              | 357/1000 [8:56:39<14:45:55, 82.67s/it]"
     ]
    },
    {
     "name": "stdout",
     "output_type": "stream",
     "text": [
      "\n",
      "\t ----- tradeoff_buffer: 0 ----- \n",
      "\t ----- reward: 0.6753469119637068 for f_star and f_minus: 25.71735633872605 , 32.46530880362933\n",
      "[INFO] [2022-12-17 03:06:41,735] [OpenBox-SPO] Iteration 358, objective value: [36.681838975722044].\n"
     ]
    },
    {
     "name": "stderr",
     "output_type": "stream",
     "text": [
      "\r",
      " 36%|█████████████████████████████████████████████████████████████▌                                                                                                              | 358/1000 [8:57:51<14:11:56, 79.62s/it]"
     ]
    },
    {
     "name": "stdout",
     "output_type": "stream",
     "text": [
      "\n",
      "\t ----- tradeoff_buffer: 0 ----- \n",
      "\t ----- reward: 0.6331816102427796 for f_star and f_minus: 25.71735633872605 , 36.681838975722044\n",
      "[INFO] [2022-12-17 03:07:57,809] [OpenBox-SPO] Iteration 359, objective value: [38.23261345183809].\n"
     ]
    },
    {
     "name": "stderr",
     "output_type": "stream",
     "text": [
      "\r",
      " 36%|█████████████████████████████████████████████████████████████▋                                                                                                              | 359/1000 [8:59:07<13:59:14, 78.56s/it]"
     ]
    },
    {
     "name": "stdout",
     "output_type": "stream",
     "text": [
      "\n",
      "\t ----- tradeoff_buffer: 0 ----- \n",
      "\t ----- reward: 0.6176738654816191 for f_star and f_minus: 25.71735633872605 , 38.23261345183809\n",
      "[INFO] [2022-12-17 03:09:11,200] [OpenBox-SPO] Iteration 360, objective value: [37.12664598850173].\n"
     ]
    },
    {
     "name": "stderr",
     "output_type": "stream",
     "text": [
      "\r",
      " 36%|█████████████████████████████████████████████████████████████▉                                                                                                              | 360/1000 [9:00:21<13:41:24, 77.01s/it]"
     ]
    },
    {
     "name": "stdout",
     "output_type": "stream",
     "text": [
      "\n",
      "\t ----- tradeoff_buffer: 0 ----- \n",
      "\t ----- reward: 0.6287335401149827 for f_star and f_minus: 25.71735633872605 , 37.12664598850173\n",
      "[INFO] [2022-12-17 03:10:27,165] [OpenBox-SPO] Iteration 361, objective value: [37.247700543346006].\n"
     ]
    },
    {
     "name": "stderr",
     "output_type": "stream",
     "text": [
      "\r",
      " 36%|██████████████████████████████████████████████████████████████                                                                                                              | 361/1000 [9:01:37<13:36:47, 76.69s/it]"
     ]
    },
    {
     "name": "stdout",
     "output_type": "stream",
     "text": [
      "\n",
      "\t ----- tradeoff_buffer: 0 ----- \n",
      "\t ----- reward: 0.6275229945665399 for f_star and f_minus: 25.71735633872605 , 37.247700543346006\n",
      "[INFO] [2022-12-17 03:11:41,812] [OpenBox-SPO] Iteration 362, objective value: [28.202857587944067].\n"
     ]
    },
    {
     "name": "stderr",
     "output_type": "stream",
     "text": [
      "\r",
      " 36%|██████████████████████████████████████████████████████████████▎                                                                                                             | 362/1000 [9:02:51<13:28:59, 76.08s/it]"
     ]
    },
    {
     "name": "stdout",
     "output_type": "stream",
     "text": [
      "\n",
      "\t ----- tradeoff_buffer: 0 ----- \n",
      "\t ----- reward: 0.7179714241205593 for f_star and f_minus: 25.71735633872605 , 28.202857587944067\n",
      "[INFO] [2022-12-17 03:12:58,837] [OpenBox-SPO] Iteration 363, objective value: [36.032479998952915].\n"
     ]
    },
    {
     "name": "stderr",
     "output_type": "stream",
     "text": [
      "\r",
      " 36%|██████████████████████████████████████████████████████████████▍                                                                                                             | 363/1000 [9:04:08<13:30:43, 76.36s/it]"
     ]
    },
    {
     "name": "stdout",
     "output_type": "stream",
     "text": [
      "\n",
      "\t ----- tradeoff_buffer: 0 ----- \n",
      "\t ----- reward: 0.6396752000104708 for f_star and f_minus: 25.71735633872605 , 36.032479998952915\n",
      "[INFO] [2022-12-17 03:14:11,806] [OpenBox-SPO] Iteration 364, objective value: [34.39299740312869].\n"
     ]
    },
    {
     "name": "stderr",
     "output_type": "stream",
     "text": [
      "\r",
      " 36%|██████████████████████████████████████████████████████████████▌                                                                                                             | 364/1000 [9:05:21<13:18:39, 75.35s/it]"
     ]
    },
    {
     "name": "stdout",
     "output_type": "stream",
     "text": [
      "\n",
      "\t ----- tradeoff_buffer: 0 ----- \n",
      "\t ----- reward: 0.6560700259687131 for f_star and f_minus: 25.71735633872605 , 34.39299740312869\n",
      "[INFO] [2022-12-17 03:15:26,483] [OpenBox-SPO] Iteration 365, objective value: [47.07993926958143].\n"
     ]
    },
    {
     "name": "stderr",
     "output_type": "stream",
     "text": [
      "\r",
      " 36%|██████████████████████████████████████████████████████████████▊                                                                                                             | 365/1000 [9:06:36<13:15:17, 75.14s/it]"
     ]
    },
    {
     "name": "stdout",
     "output_type": "stream",
     "text": [
      "\n",
      "\t ----- tradeoff_buffer: 0 ----- \n",
      "\t ----- reward: 0.5292006073041857 for f_star and f_minus: 25.71735633872605 , 47.07993926958143\n",
      "[INFO] [2022-12-17 03:16:54,033] [OpenBox-SPO] Iteration 366, objective value: [34.8008739396592].\n"
     ]
    },
    {
     "name": "stderr",
     "output_type": "stream",
     "text": [
      "\r",
      " 37%|██████████████████████████████████████████████████████████████▉                                                                                                             | 366/1000 [9:08:04<13:53:21, 78.87s/it]"
     ]
    },
    {
     "name": "stdout",
     "output_type": "stream",
     "text": [
      "\n",
      "\t ----- tradeoff_buffer: 0 ----- \n",
      "\t ----- reward: 0.651991260603408 for f_star and f_minus: 25.71735633872605 , 34.8008739396592\n",
      "[INFO] [2022-12-17 03:18:11,336] [OpenBox-SPO] Iteration 367, objective value: [41.1325894490026].\n"
     ]
    },
    {
     "name": "stderr",
     "output_type": "stream",
     "text": [
      "\r",
      " 37%|███████████████████████████████████████████████████████████████                                                                                                             | 367/1000 [9:09:21<13:47:05, 78.40s/it]"
     ]
    },
    {
     "name": "stdout",
     "output_type": "stream",
     "text": [
      "\n",
      "\t ----- tradeoff_buffer: 1 ----- \n",
      "\t ----- reward: 0.588674105509974 for f_star and f_minus: 25.71735633872605 , 41.1325894490026\n",
      "[INFO] [2022-12-17 03:19:26,641] [OpenBox-SPO] Iteration 368, objective value: [44.40718343799329].\n"
     ]
    },
    {
     "name": "stderr",
     "output_type": "stream",
     "text": [
      "\r",
      " 37%|███████████████████████████████████████████████████████████████▎                                                                                                            | 368/1000 [9:10:36<13:36:00, 77.47s/it]"
     ]
    },
    {
     "name": "stdout",
     "output_type": "stream",
     "text": [
      "\n",
      "\t ----- tradeoff_buffer: 0 ----- \n",
      "\t ----- reward: 0.5559281656200671 for f_star and f_minus: 25.71735633872605 , 44.40718343799329\n",
      "[INFO] [2022-12-17 03:20:50,616] [OpenBox-SPO] Iteration 369, objective value: [33.71334337385305].\n"
     ]
    },
    {
     "name": "stderr",
     "output_type": "stream",
     "text": [
      "\r",
      " 37%|███████████████████████████████████████████████████████████████▍                                                                                                            | 369/1000 [9:12:00<13:55:14, 79.42s/it]"
     ]
    },
    {
     "name": "stdout",
     "output_type": "stream",
     "text": [
      "\n",
      "\t ----- tradeoff_buffer: 0 ----- \n",
      "\t ----- reward: 0.6628665662614694 for f_star and f_minus: 25.71735633872605 , 33.71334337385305\n",
      "[INFO] [2022-12-17 03:22:04,187] [OpenBox-SPO] Iteration 370, objective value: [36.98023757245028].\n"
     ]
    },
    {
     "name": "stderr",
     "output_type": "stream",
     "text": [
      "\r",
      " 37%|███████████████████████████████████████████████████████████████▋                                                                                                            | 370/1000 [9:13:14<13:35:29, 77.67s/it]"
     ]
    },
    {
     "name": "stdout",
     "output_type": "stream",
     "text": [
      "\n",
      "\t ----- tradeoff_buffer: 0 ----- \n",
      "\t ----- reward: 0.6301976242754972 for f_star and f_minus: 25.71735633872605 , 36.98023757245028\n",
      "[INFO] [2022-12-17 03:23:21,409] [OpenBox-SPO] Iteration 371, objective value: [46.40802723815594].\n"
     ]
    },
    {
     "name": "stderr",
     "output_type": "stream",
     "text": [
      "\r",
      " 37%|███████████████████████████████████████████████████████████████▊                                                                                                            | 371/1000 [9:14:31<13:32:48, 77.53s/it]"
     ]
    },
    {
     "name": "stdout",
     "output_type": "stream",
     "text": [
      "\n",
      "\t ----- tradeoff_buffer: 0 ----- \n",
      "\t ----- reward: 0.5359197276184406 for f_star and f_minus: 25.71735633872605 , 46.40802723815594\n",
      "[INFO] [2022-12-17 03:24:49,368] [OpenBox-SPO] Iteration 372, objective value: [34.11137581522293].\n"
     ]
    },
    {
     "name": "stderr",
     "output_type": "stream",
     "text": [
      "\r",
      " 37%|███████████████████████████████████████████████████████████████▉                                                                                                            | 372/1000 [9:15:59<14:04:15, 80.66s/it]"
     ]
    },
    {
     "name": "stdout",
     "output_type": "stream",
     "text": [
      "\n",
      "\t ----- tradeoff_buffer: 0 ----- \n",
      "\t ----- reward: 0.6588862418477708 for f_star and f_minus: 25.71735633872605 , 34.11137581522293\n",
      "[INFO] [2022-12-17 03:26:07,731] [OpenBox-SPO] Iteration 373, objective value: [41.94271102255585].\n"
     ]
    },
    {
     "name": "stderr",
     "output_type": "stream",
     "text": [
      "\r",
      " 37%|████████████████████████████████████████████████████████████████▏                                                                                                           | 373/1000 [9:17:17<13:55:41, 79.97s/it]"
     ]
    },
    {
     "name": "stdout",
     "output_type": "stream",
     "text": [
      "\n",
      "\t ----- tradeoff_buffer: 0 ----- \n",
      "\t ----- reward: 0.5805728897744415 for f_star and f_minus: 25.71735633872605 , 41.94271102255585\n",
      "[INFO] [2022-12-17 03:26:07,732] [Advisor] Sample random config. rand_prob=0.100000.\n",
      "[INFO] [2022-12-17 03:26:42,524] [OpenBox-SPO] Iteration 374, objective value: [49.18965553472562].\n"
     ]
    },
    {
     "name": "stderr",
     "output_type": "stream",
     "text": [
      "\r",
      " 37%|████████████████████████████████████████████████████████████████▎                                                                                                           | 374/1000 [9:17:52<11:32:57, 66.42s/it]"
     ]
    },
    {
     "name": "stdout",
     "output_type": "stream",
     "text": [
      "\n",
      "\t ----- tradeoff_buffer: 0 ----- \n",
      "\t ----- reward: 0.5081034446527438 for f_star and f_minus: 25.71735633872605 , 49.18965553472562\n",
      "[INFO] [2022-12-17 03:27:54,409] [OpenBox-SPO] Iteration 375, objective value: [38.19802551339506].\n"
     ]
    },
    {
     "name": "stderr",
     "output_type": "stream",
     "text": [
      "\r",
      " 38%|████████████████████████████████████████████████████████████████▌                                                                                                           | 375/1000 [9:19:04<11:48:56, 68.06s/it]"
     ]
    },
    {
     "name": "stdout",
     "output_type": "stream",
     "text": [
      "\n",
      "\t ----- tradeoff_buffer: 1 ----- \n",
      "\t ----- reward: 0.6180197448660494 for f_star and f_minus: 25.71735633872605 , 38.19802551339506\n",
      "[INFO] [2022-12-17 03:29:07,598] [OpenBox-SPO] Iteration 376, objective value: [38.145138254928824].\n"
     ]
    },
    {
     "name": "stderr",
     "output_type": "stream",
     "text": [
      "\r",
      " 38%|████████████████████████████████████████████████████████████████▋                                                                                                           | 376/1000 [9:20:17<12:03:48, 69.60s/it]"
     ]
    },
    {
     "name": "stdout",
     "output_type": "stream",
     "text": [
      "\n",
      "\t ----- tradeoff_buffer: 4 ----- \n",
      "\t ----- reward: 0.6185486174507118 for f_star and f_minus: 25.71735633872605 , 38.145138254928824\n",
      "[INFO] [2022-12-17 03:30:19,386] [OpenBox-SPO] Iteration 377, objective value: [32.942454564462125].\n"
     ]
    },
    {
     "name": "stderr",
     "output_type": "stream",
     "text": [
      "\r",
      " 38%|████████████████████████████████████████████████████████████████▊                                                                                                           | 377/1000 [9:21:29<12:09:28, 70.25s/it]"
     ]
    },
    {
     "name": "stdout",
     "output_type": "stream",
     "text": [
      "\n",
      "\t ----- tradeoff_buffer: 1 ----- \n",
      "\t ----- reward: 0.6705754543553788 for f_star and f_minus: 25.71735633872605 , 32.942454564462125\n",
      "[INFO] [2022-12-17 03:31:36,420] [OpenBox-SPO] Iteration 378, objective value: [52.97487653406549].\n"
     ]
    },
    {
     "name": "stderr",
     "output_type": "stream",
     "text": [
      "\r",
      " 38%|█████████████████████████████████████████████████████████████████                                                                                                           | 378/1000 [9:22:46<12:29:23, 72.29s/it]"
     ]
    },
    {
     "name": "stdout",
     "output_type": "stream",
     "text": [
      "\n",
      "\t ----- tradeoff_buffer: 4 ----- \n",
      "\t ----- reward: -1 for f_star and f_minus: 25.71735633872605 , 52.97487653406549\n",
      "[INFO] [2022-12-17 03:32:56,330] [OpenBox-SPO] Iteration 379, objective value: [36.99446552338912].\n"
     ]
    },
    {
     "name": "stderr",
     "output_type": "stream",
     "text": [
      "\r",
      " 38%|█████████████████████████████████████████████████████████████████▏                                                                                                          | 379/1000 [9:24:06<12:51:50, 74.57s/it]"
     ]
    },
    {
     "name": "stdout",
     "output_type": "stream",
     "text": [
      "\n",
      "\t ----- tradeoff_buffer: 1 ----- \n",
      "\t ----- reward: 0.6300553447661088 for f_star and f_minus: 25.71735633872605 , 36.99446552338912\n",
      "[INFO] [2022-12-17 03:34:09,087] [OpenBox-SPO] Iteration 380, objective value: [39.66263695621163].\n"
     ]
    },
    {
     "name": "stderr",
     "output_type": "stream",
     "text": [
      "\r",
      " 38%|█████████████████████████████████████████████████████████████████▎                                                                                                          | 380/1000 [9:25:19<12:44:58, 74.03s/it]"
     ]
    },
    {
     "name": "stdout",
     "output_type": "stream",
     "text": [
      "\n",
      "\t ----- tradeoff_buffer: 2 ----- \n",
      "\t ----- reward: 0.6033736304378837 for f_star and f_minus: 25.71735633872605 , 39.66263695621163\n",
      "[INFO] [2022-12-17 03:35:30,347] [OpenBox-SPO] Iteration 381, objective value: [38.562043347807005].\n"
     ]
    },
    {
     "name": "stderr",
     "output_type": "stream",
     "text": [
      "\r",
      " 38%|█████████████████████████████████████████████████████████████████▌                                                                                                          | 381/1000 [9:26:40<13:06:07, 76.20s/it]"
     ]
    },
    {
     "name": "stdout",
     "output_type": "stream",
     "text": [
      "\n",
      "\t ----- tradeoff_buffer: 0 ----- \n",
      "\t ----- reward: 0.6143795665219299 for f_star and f_minus: 25.71735633872605 , 38.562043347807005\n",
      "[INFO] [2022-12-17 03:37:02,412] [OpenBox-SPO] Iteration 382, objective value: [32.059087956134064].\n"
     ]
    },
    {
     "name": "stderr",
     "output_type": "stream",
     "text": [
      "\r",
      " 38%|█████████████████████████████████████████████████████████████████▋                                                                                                          | 382/1000 [9:28:12<13:53:52, 80.96s/it]"
     ]
    },
    {
     "name": "stdout",
     "output_type": "stream",
     "text": [
      "\n",
      "\t ----- tradeoff_buffer: 0 ----- \n",
      "\t ----- reward: 0.6794091204386594 for f_star and f_minus: 25.71735633872605 , 32.059087956134064\n",
      "[INFO] [2022-12-17 03:38:19,085] [OpenBox-SPO] Iteration 383, objective value: [39.011885008627736].\n"
     ]
    },
    {
     "name": "stderr",
     "output_type": "stream",
     "text": [
      "\r",
      " 38%|█████████████████████████████████████████████████████████████████▉                                                                                                          | 383/1000 [9:29:29<13:39:18, 79.67s/it]"
     ]
    },
    {
     "name": "stdout",
     "output_type": "stream",
     "text": [
      "\n",
      "\t ----- tradeoff_buffer: 0 ----- \n",
      "\t ----- reward: 0.6098811499137227 for f_star and f_minus: 25.71735633872605 , 39.011885008627736\n",
      "[INFO] [2022-12-17 03:39:45,146] [OpenBox-SPO] Iteration 384, objective value: [34.66206652811243].\n"
     ]
    },
    {
     "name": "stderr",
     "output_type": "stream",
     "text": [
      "\r",
      " 38%|██████████████████████████████████████████████████████████████████                                                                                                          | 384/1000 [9:30:55<13:57:38, 81.59s/it]"
     ]
    },
    {
     "name": "stdout",
     "output_type": "stream",
     "text": [
      "\n",
      "\t ----- tradeoff_buffer: 0 ----- \n",
      "\t ----- reward: 0.6533793347188757 for f_star and f_minus: 25.71735633872605 , 34.66206652811243\n",
      "[INFO] [2022-12-17 03:41:06,928] [OpenBox-SPO] Iteration 385, objective value: [32.03318989609511].\n"
     ]
    },
    {
     "name": "stderr",
     "output_type": "stream",
     "text": [
      "\r",
      " 38%|██████████████████████████████████████████████████████████████████▏                                                                                                         | 385/1000 [9:32:16<13:56:53, 81.65s/it]"
     ]
    },
    {
     "name": "stdout",
     "output_type": "stream",
     "text": [
      "\n",
      "\t ----- tradeoff_buffer: 0 ----- \n",
      "\t ----- reward: 0.6796681010390488 for f_star and f_minus: 25.71735633872605 , 32.03318989609511\n",
      "[INFO] [2022-12-17 03:42:22,850] [OpenBox-SPO] Iteration 386, objective value: [40.675020011910924].\n"
     ]
    },
    {
     "name": "stderr",
     "output_type": "stream",
     "text": [
      "\r",
      " 39%|██████████████████████████████████████████████████████████████████▍                                                                                                         | 386/1000 [9:33:32<13:37:56, 79.93s/it]"
     ]
    },
    {
     "name": "stdout",
     "output_type": "stream",
     "text": [
      "\n",
      "\t ----- tradeoff_buffer: 0 ----- \n",
      "\t ----- reward: 0.5932497998808908 for f_star and f_minus: 25.71735633872605 , 40.675020011910924\n",
      "[INFO] [2022-12-17 03:43:42,819] [OpenBox-SPO] Iteration 387, objective value: [46.66744934800236].\n"
     ]
    },
    {
     "name": "stderr",
     "output_type": "stream",
     "text": [
      "\r",
      " 39%|██████████████████████████████████████████████████████████████████▌                                                                                                         | 387/1000 [9:34:52<13:36:44, 79.94s/it]"
     ]
    },
    {
     "name": "stdout",
     "output_type": "stream",
     "text": [
      "\n",
      "\t ----- tradeoff_buffer: 0 ----- \n",
      "\t ----- reward: 0.5333255065199765 for f_star and f_minus: 25.71735633872605 , 46.66744934800236\n",
      "[INFO] [2022-12-17 03:45:11,188] [OpenBox-SPO] Iteration 388, objective value: [37.24596345105995].\n"
     ]
    },
    {
     "name": "stderr",
     "output_type": "stream",
     "text": [
      "\r",
      " 39%|██████████████████████████████████████████████████████████████████▋                                                                                                         | 388/1000 [9:36:21<14:01:11, 82.47s/it]"
     ]
    },
    {
     "name": "stdout",
     "output_type": "stream",
     "text": [
      "\n",
      "\t ----- tradeoff_buffer: 0 ----- \n",
      "\t ----- reward: 0.6275403654894005 for f_star and f_minus: 25.71735633872605 , 37.24596345105995\n",
      "[INFO] [2022-12-17 03:45:11,191] [Advisor] Sample random config. rand_prob=0.100000.\n",
      "[INFO] [2022-12-17 03:45:45,896] [OpenBox-SPO] Iteration 389, objective value: [49.66996775720533].\n"
     ]
    },
    {
     "name": "stderr",
     "output_type": "stream",
     "text": [
      "\r",
      " 39%|██████████████████████████████████████████████████████████████████▉                                                                                                         | 389/1000 [9:36:55<11:33:54, 68.14s/it]"
     ]
    },
    {
     "name": "stdout",
     "output_type": "stream",
     "text": [
      "\n",
      "\t ----- tradeoff_buffer: 0 ----- \n",
      "\t ----- reward: 0.5033003224279466 for f_star and f_minus: 25.71735633872605 , 49.66996775720533\n",
      "[INFO] [2022-12-17 03:47:16,133] [OpenBox-SPO] Iteration 390, objective value: [37.62592908503459].\n"
     ]
    },
    {
     "name": "stderr",
     "output_type": "stream",
     "text": [
      "\r",
      " 39%|███████████████████████████████████████████████████████████████████                                                                                                         | 390/1000 [9:38:26<12:40:09, 74.77s/it]"
     ]
    },
    {
     "name": "stdout",
     "output_type": "stream",
     "text": [
      "\n",
      "\t ----- tradeoff_buffer: 0 ----- \n",
      "\t ----- reward: 0.6237407091496541 for f_star and f_minus: 25.71735633872605 , 37.62592908503459\n",
      "[INFO] [2022-12-17 03:48:35,545] [OpenBox-SPO] Iteration 391, objective value: [39.37863214868793].\n"
     ]
    },
    {
     "name": "stderr",
     "output_type": "stream",
     "text": [
      "\r",
      " 39%|███████████████████████████████████████████████████████████████████▎                                                                                                        | 391/1000 [9:39:45<12:53:02, 76.16s/it]"
     ]
    },
    {
     "name": "stdout",
     "output_type": "stream",
     "text": [
      "\n",
      "\t ----- tradeoff_buffer: 0 ----- \n",
      "\t ----- reward: 0.6062136785131207 for f_star and f_minus: 25.71735633872605 , 39.37863214868793\n",
      "[INFO] [2022-12-17 03:49:54,298] [OpenBox-SPO] Iteration 392, objective value: [39.96209331301094].\n"
     ]
    },
    {
     "name": "stderr",
     "output_type": "stream",
     "text": [
      "\r",
      " 39%|███████████████████████████████████████████████████████████████████▍                                                                                                        | 392/1000 [9:41:04<12:59:39, 76.94s/it]"
     ]
    },
    {
     "name": "stdout",
     "output_type": "stream",
     "text": [
      "\n",
      "\t ----- tradeoff_buffer: 0 ----- \n",
      "\t ----- reward: 0.6003790668698906 for f_star and f_minus: 25.71735633872605 , 39.96209331301094\n",
      "[INFO] [2022-12-17 03:51:22,358] [OpenBox-SPO] Iteration 393, objective value: [39.221943088161495].\n"
     ]
    },
    {
     "name": "stderr",
     "output_type": "stream",
     "text": [
      "\r",
      " 39%|███████████████████████████████████████████████████████████████████▌                                                                                                        | 393/1000 [9:42:32<13:32:07, 80.28s/it]"
     ]
    },
    {
     "name": "stdout",
     "output_type": "stream",
     "text": [
      "\n",
      "\t ----- tradeoff_buffer: 0 ----- \n",
      "\t ----- reward: 0.6077805691183851 for f_star and f_minus: 25.71735633872605 , 39.221943088161495\n",
      "[INFO] [2022-12-17 03:52:38,194] [OpenBox-SPO] Iteration 394, objective value: [36.05426359682584].\n"
     ]
    },
    {
     "name": "stderr",
     "output_type": "stream",
     "text": [
      "\r",
      " 39%|███████████████████████████████████████████████████████████████████▊                                                                                                        | 394/1000 [9:43:48<13:17:20, 78.94s/it]"
     ]
    },
    {
     "name": "stdout",
     "output_type": "stream",
     "text": [
      "\n",
      "\t ----- tradeoff_buffer: 0 ----- \n",
      "\t ----- reward: 0.6394573640317416 for f_star and f_minus: 25.71735633872605 , 36.05426359682584\n",
      "[INFO] [2022-12-17 03:53:53,775] [OpenBox-SPO] Iteration 395, objective value: [39.26414322965138].\n"
     ]
    },
    {
     "name": "stderr",
     "output_type": "stream",
     "text": [
      "\r",
      " 40%|███████████████████████████████████████████████████████████████████▉                                                                                                        | 395/1000 [9:45:03<13:05:50, 77.93s/it]"
     ]
    },
    {
     "name": "stdout",
     "output_type": "stream",
     "text": [
      "\n",
      "\t ----- tradeoff_buffer: 0 ----- \n",
      "\t ----- reward: 0.6073585677034862 for f_star and f_minus: 25.71735633872605 , 39.26414322965138\n",
      "[INFO] [2022-12-17 03:55:10,609] [OpenBox-SPO] Iteration 396, objective value: [32.62898493305063].\n"
     ]
    },
    {
     "name": "stderr",
     "output_type": "stream",
     "text": [
      "\r",
      " 40%|████████████████████████████████████████████████████████████████████                                                                                                        | 396/1000 [9:46:20<13:01:13, 77.60s/it]"
     ]
    },
    {
     "name": "stdout",
     "output_type": "stream",
     "text": [
      "\n",
      "\t ----- tradeoff_buffer: 0 ----- \n",
      "\t ----- reward: 0.6737101506694937 for f_star and f_minus: 25.71735633872605 , 32.62898493305063\n",
      "[INFO] [2022-12-17 03:56:25,673] [OpenBox-SPO] Iteration 397, objective value: [32.93257613551192].\n"
     ]
    },
    {
     "name": "stderr",
     "output_type": "stream",
     "text": [
      "\r",
      " 40%|████████████████████████████████████████████████████████████████████▎                                                                                                       | 397/1000 [9:47:35<12:52:16, 76.84s/it]"
     ]
    },
    {
     "name": "stdout",
     "output_type": "stream",
     "text": [
      "\n",
      "\t ----- tradeoff_buffer: 0 ----- \n",
      "\t ----- reward: 0.6706742386448807 for f_star and f_minus: 25.71735633872605 , 32.93257613551192\n",
      "[INFO] [2022-12-17 03:57:34,277] [OpenBox-SPO] Iteration 398, objective value: [33.93550800321749].\n"
     ]
    },
    {
     "name": "stderr",
     "output_type": "stream",
     "text": [
      "\r",
      " 40%|████████████████████████████████████████████████████████████████████▍                                                                                                       | 398/1000 [9:48:44<12:26:11, 74.37s/it]"
     ]
    },
    {
     "name": "stdout",
     "output_type": "stream",
     "text": [
      "\n",
      "\t ----- tradeoff_buffer: 0 ----- \n",
      "\t ----- reward: 0.660644919967825 for f_star and f_minus: 25.71735633872605 , 33.93550800321749\n",
      "[INFO] [2022-12-17 03:58:47,419] [OpenBox-SPO] Iteration 399, objective value: [33.31037030121186].\n"
     ]
    },
    {
     "name": "stderr",
     "output_type": "stream",
     "text": [
      "\r",
      " 40%|████████████████████████████████████████████████████████████████████▋                                                                                                       | 399/1000 [9:49:57<12:21:15, 74.00s/it]"
     ]
    },
    {
     "name": "stdout",
     "output_type": "stream",
     "text": [
      "\n",
      "\t ----- tradeoff_buffer: 0 ----- \n",
      "\t ----- reward: 0.6668962969878813 for f_star and f_minus: 25.71735633872605 , 33.31037030121186\n",
      "[INFO] [2022-12-17 04:00:04,847] [OpenBox-SPO] Iteration 400, objective value: [36.962260346908295].\n"
     ]
    },
    {
     "name": "stderr",
     "output_type": "stream",
     "text": [
      "\r",
      " 40%|████████████████████████████████████████████████████████████████████▊                                                                                                       | 400/1000 [9:51:14<12:30:17, 75.03s/it]"
     ]
    },
    {
     "name": "stdout",
     "output_type": "stream",
     "text": [
      "\n",
      "\t ----- tradeoff_buffer: 0 ----- \n",
      "\t ----- reward: 0.6303773965309171 for f_star and f_minus: 25.71735633872605 , 36.962260346908295\n",
      "[INFO] [2022-12-17 04:01:31,805] [OpenBox-SPO] Iteration 401, objective value: [34.61701391324425].\n"
     ]
    },
    {
     "name": "stderr",
     "output_type": "stream",
     "text": [
      "\r",
      " 40%|████████████████████████████████████████████████████████████████████▉                                                                                                       | 401/1000 [9:52:41<13:04:46, 78.61s/it]"
     ]
    },
    {
     "name": "stdout",
     "output_type": "stream",
     "text": [
      "\n",
      "\t ----- tradeoff_buffer: 0 ----- \n",
      "\t ----- reward: 0.6538298608675575 for f_star and f_minus: 25.71735633872605 , 34.61701391324425\n",
      "[INFO] [2022-12-17 04:01:31,806] [Advisor] Sample random config. rand_prob=0.100000.\n",
      "[INFO] [2022-12-17 04:02:05,590] [OpenBox-SPO] Iteration 402, objective value: [46.64645202016984].\n"
     ]
    },
    {
     "name": "stderr",
     "output_type": "stream",
     "text": [
      "\r",
      " 40%|█████████████████████████████████████████████████████████████████████▏                                                                                                      | 402/1000 [9:53:15<10:49:26, 65.16s/it]"
     ]
    },
    {
     "name": "stdout",
     "output_type": "stream",
     "text": [
      "\n",
      "\t ----- tradeoff_buffer: 0 ----- \n",
      "\t ----- reward: 0.5335354797983016 for f_star and f_minus: 25.71735633872605 , 46.64645202016984\n",
      "[INFO] [2022-12-17 04:03:19,050] [OpenBox-SPO] Iteration 403, objective value: [38.29470457418317].\n"
     ]
    },
    {
     "name": "stderr",
     "output_type": "stream",
     "text": [
      "\r",
      " 40%|█████████████████████████████████████████████████████████████████████▎                                                                                                      | 403/1000 [9:54:29<11:13:07, 67.65s/it]"
     ]
    },
    {
     "name": "stdout",
     "output_type": "stream",
     "text": [
      "\n",
      "\t ----- tradeoff_buffer: 0 ----- \n",
      "\t ----- reward: 0.6170529542581683 for f_star and f_minus: 25.71735633872605 , 38.29470457418317\n",
      "[INFO] [2022-12-17 04:04:39,735] [OpenBox-SPO] Iteration 404, objective value: [28.27758566295074].\n"
     ]
    },
    {
     "name": "stderr",
     "output_type": "stream",
     "text": [
      "\r",
      " 40%|█████████████████████████████████████████████████████████████████████▍                                                                                                      | 404/1000 [9:55:49<11:50:50, 71.56s/it]"
     ]
    },
    {
     "name": "stdout",
     "output_type": "stream",
     "text": [
      "\n",
      "\t ----- tradeoff_buffer: 0 ----- \n",
      "\t ----- reward: 0.7172241433704926 for f_star and f_minus: 25.71735633872605 , 28.27758566295074\n",
      "[INFO] [2022-12-17 04:06:03,599] [OpenBox-SPO] Iteration 405, objective value: [34.25932425440405].\n"
     ]
    },
    {
     "name": "stderr",
     "output_type": "stream",
     "text": [
      "\r",
      " 40%|█████████████████████████████████████████████████████████████████████▋                                                                                                      | 405/1000 [9:57:13<12:26:15, 75.25s/it]"
     ]
    },
    {
     "name": "stdout",
     "output_type": "stream",
     "text": [
      "\n",
      "\t ----- tradeoff_buffer: 0 ----- \n",
      "\t ----- reward: 0.6574067574559594 for f_star and f_minus: 25.71735633872605 , 34.25932425440405\n",
      "[INFO] [2022-12-17 04:07:28,050] [OpenBox-SPO] Iteration 406, objective value: [31.678907036760563].\n"
     ]
    },
    {
     "name": "stderr",
     "output_type": "stream",
     "text": [
      "\r",
      " 41%|█████████████████████████████████████████████████████████████████████▊                                                                                                      | 406/1000 [9:58:38<12:52:18, 78.01s/it]"
     ]
    },
    {
     "name": "stdout",
     "output_type": "stream",
     "text": [
      "\n",
      "\t ----- tradeoff_buffer: 0 ----- \n",
      "\t ----- reward: 0.6832109296323944 for f_star and f_minus: 25.71735633872605 , 31.678907036760563\n",
      "[INFO] [2022-12-17 04:08:50,941] [OpenBox-SPO] Iteration 407, objective value: [41.733160596653995].\n"
     ]
    },
    {
     "name": "stderr",
     "output_type": "stream",
     "text": [
      "\r",
      " 41%|█████████████████████████████████████████████████████████████████████▌                                                                                                     | 407/1000 [10:00:00<13:05:29, 79.48s/it]"
     ]
    },
    {
     "name": "stdout",
     "output_type": "stream",
     "text": [
      "\n",
      "\t ----- tradeoff_buffer: 2 ----- \n",
      "\t ----- reward: 0.58266839403346 for f_star and f_minus: 25.71735633872605 , 41.733160596653995\n",
      "[INFO] [2022-12-17 04:08:50,943] [Advisor] Sample random config. rand_prob=0.100000.\n",
      "[INFO] [2022-12-17 04:09:27,366] [OpenBox-SPO] Iteration 408, objective value: [54.36167882816177].\n"
     ]
    },
    {
     "name": "stderr",
     "output_type": "stream",
     "text": [
      "\r",
      " 41%|█████████████████████████████████████████████████████████████████████▊                                                                                                     | 408/1000 [10:00:37<10:56:43, 66.56s/it]"
     ]
    },
    {
     "name": "stdout",
     "output_type": "stream",
     "text": [
      "\n",
      "\t ----- tradeoff_buffer: 0 ----- \n",
      "\t ----- reward: -1 for f_star and f_minus: 25.71735633872605 , 54.36167882816177\n",
      "[INFO] [2022-12-17 04:10:55,704] [OpenBox-SPO] Iteration 409, objective value: [39.79926850145643].\n"
     ]
    },
    {
     "name": "stderr",
     "output_type": "stream",
     "text": [
      "\r",
      " 41%|█████████████████████████████████████████████████████████████████████▉                                                                                                     | 409/1000 [10:02:05<11:59:58, 73.09s/it]"
     ]
    },
    {
     "name": "stdout",
     "output_type": "stream",
     "text": [
      "\n",
      "\t ----- tradeoff_buffer: 0 ----- \n",
      "\t ----- reward: 0.6020073149854357 for f_star and f_minus: 25.71735633872605 , 39.79926850145643\n",
      "[INFO] [2022-12-17 04:12:13,316] [OpenBox-SPO] Iteration 410, objective value: [34.1191162813883].\n"
     ]
    },
    {
     "name": "stderr",
     "output_type": "stream",
     "text": [
      "\r",
      " 41%|██████████████████████████████████████████████████████████████████████                                                                                                     | 410/1000 [10:03:23<12:12:04, 74.45s/it]"
     ]
    },
    {
     "name": "stdout",
     "output_type": "stream",
     "text": [
      "\n",
      "\t ----- tradeoff_buffer: 0 ----- \n",
      "\t ----- reward: 0.6588088371861169 for f_star and f_minus: 25.71735633872605 , 34.1191162813883\n",
      "[INFO] [2022-12-17 04:12:13,317] [Advisor] Sample random config. rand_prob=0.100000.\n",
      "[INFO] [2022-12-17 04:12:50,484] [OpenBox-SPO] Iteration 411, objective value: [57.9180296711317].\n"
     ]
    },
    {
     "name": "stderr",
     "output_type": "stream",
     "text": [
      "\r",
      " 41%|██████████████████████████████████████████████████████████████████████▎                                                                                                    | 411/1000 [10:04:00<10:21:02, 63.26s/it]"
     ]
    },
    {
     "name": "stdout",
     "output_type": "stream",
     "text": [
      "\n",
      "\t ----- tradeoff_buffer: 0 ----- \n",
      "\t ----- reward: -1 for f_star and f_minus: 25.71735633872605 , 57.9180296711317\n",
      "[INFO] [2022-12-17 04:14:15,066] [OpenBox-SPO] Iteration 412, objective value: [32.07185986679009].\n"
     ]
    },
    {
     "name": "stderr",
     "output_type": "stream",
     "text": [
      "\r",
      " 41%|██████████████████████████████████████████████████████████████████████▍                                                                                                    | 412/1000 [10:05:25<11:22:40, 69.66s/it]"
     ]
    },
    {
     "name": "stdout",
     "output_type": "stream",
     "text": [
      "\n",
      "\t ----- tradeoff_buffer: 2 ----- \n",
      "\t ----- reward: 0.6792814013320991 for f_star and f_minus: 25.71735633872605 , 32.07185986679009\n",
      "[INFO] [2022-12-17 04:15:41,832] [OpenBox-SPO] Iteration 413, objective value: [30.550765420981122].\n"
     ]
    },
    {
     "name": "stderr",
     "output_type": "stream",
     "text": [
      "\r",
      " 41%|██████████████████████████████████████████████████████████████████████▌                                                                                                    | 413/1000 [10:06:51<12:11:42, 74.79s/it]"
     ]
    },
    {
     "name": "stdout",
     "output_type": "stream",
     "text": [
      "\n",
      "\t ----- tradeoff_buffer: 0 ----- \n",
      "\t ----- reward: 0.6944923457901888 for f_star and f_minus: 25.71735633872605 , 30.550765420981122\n",
      "[INFO] [2022-12-17 04:16:54,166] [OpenBox-SPO] Iteration 414, objective value: [40.88963113537025].\n"
     ]
    },
    {
     "name": "stderr",
     "output_type": "stream",
     "text": [
      "\r",
      " 41%|██████████████████████████████████████████████████████████████████████▊                                                                                                    | 414/1000 [10:08:04<12:03:15, 74.05s/it]"
     ]
    },
    {
     "name": "stdout",
     "output_type": "stream",
     "text": [
      "\n",
      "\t ----- tradeoff_buffer: 0 ----- \n",
      "\t ----- reward: 0.5911036886462975 for f_star and f_minus: 25.71735633872605 , 40.88963113537025\n",
      "[INFO] [2022-12-17 04:18:16,682] [OpenBox-SPO] Iteration 415, objective value: [31.673603623733484].\n"
     ]
    },
    {
     "name": "stderr",
     "output_type": "stream",
     "text": [
      "\r",
      " 42%|██████████████████████████████████████████████████████████████████████▉                                                                                                    | 415/1000 [10:09:26<12:26:46, 76.59s/it]"
     ]
    },
    {
     "name": "stdout",
     "output_type": "stream",
     "text": [
      "\n",
      "\t ----- tradeoff_buffer: 0 ----- \n",
      "\t ----- reward: 0.6832639637626652 for f_star and f_minus: 25.71735633872605 , 31.673603623733484\n",
      "[INFO] [2022-12-17 04:19:51,553] [OpenBox-SPO] Iteration 416, objective value: [33.18446572320701].\n"
     ]
    },
    {
     "name": "stderr",
     "output_type": "stream",
     "text": [
      "\r",
      " 42%|███████████████████████████████████████████████████████████████████████▏                                                                                                   | 416/1000 [10:11:01<13:18:52, 82.08s/it]"
     ]
    },
    {
     "name": "stdout",
     "output_type": "stream",
     "text": [
      "\n",
      "\t ----- tradeoff_buffer: 0 ----- \n",
      "\t ----- reward: 0.6681553427679299 for f_star and f_minus: 25.71735633872605 , 33.18446572320701\n",
      "[INFO] [2022-12-17 04:21:12,258] [OpenBox-SPO] Iteration 417, objective value: [34.391799423382224].\n"
     ]
    },
    {
     "name": "stderr",
     "output_type": "stream",
     "text": [
      "\r",
      " 42%|███████████████████████████████████████████████████████████████████████▎                                                                                                   | 417/1000 [10:12:22<13:13:30, 81.66s/it]"
     ]
    },
    {
     "name": "stdout",
     "output_type": "stream",
     "text": [
      "\n",
      "\t ----- tradeoff_buffer: 0 ----- \n",
      "\t ----- reward: 0.6560820057661778 for f_star and f_minus: 25.71735633872605 , 34.391799423382224\n",
      "[INFO] [2022-12-17 04:22:25,977] [OpenBox-SPO] Iteration 418, objective value: [30.84448848551679].\n"
     ]
    },
    {
     "name": "stderr",
     "output_type": "stream",
     "text": [
      "\r",
      " 42%|███████████████████████████████████████████████████████████████████████▍                                                                                                   | 418/1000 [10:13:36<12:49:01, 79.28s/it]"
     ]
    },
    {
     "name": "stdout",
     "output_type": "stream",
     "text": [
      "\n",
      "\t ----- tradeoff_buffer: 0 ----- \n",
      "\t ----- reward: 0.691555115144832 for f_star and f_minus: 25.71735633872605 , 30.84448848551679\n",
      "[INFO] [2022-12-17 04:23:39,576] [OpenBox-SPO] Iteration 419, objective value: [33.96746453554759].\n"
     ]
    },
    {
     "name": "stderr",
     "output_type": "stream",
     "text": [
      "\r",
      " 42%|███████████████████████████████████████████████████████████████████████▋                                                                                                   | 419/1000 [10:14:49<12:31:11, 77.58s/it]"
     ]
    },
    {
     "name": "stdout",
     "output_type": "stream",
     "text": [
      "\n",
      "\t ----- tradeoff_buffer: 0 ----- \n",
      "\t ----- reward: 0.660325354644524 for f_star and f_minus: 25.71735633872605 , 33.96746453554759\n",
      "[INFO] [2022-12-17 04:24:59,884] [OpenBox-SPO] Iteration 420, objective value: [38.749757408814055].\n"
     ]
    },
    {
     "name": "stderr",
     "output_type": "stream",
     "text": [
      "\r",
      " 42%|███████████████████████████████████████████████████████████████████████▊                                                                                                   | 420/1000 [10:16:09<12:37:49, 78.40s/it]"
     ]
    },
    {
     "name": "stdout",
     "output_type": "stream",
     "text": [
      "\n",
      "\t ----- tradeoff_buffer: 0 ----- \n",
      "\t ----- reward: 0.6125024259118594 for f_star and f_minus: 25.71735633872605 , 38.749757408814055\n",
      "[INFO] [2022-12-17 04:26:19,738] [OpenBox-SPO] Iteration 421, objective value: [44.59534198379039].\n"
     ]
    },
    {
     "name": "stderr",
     "output_type": "stream",
     "text": [
      "\r",
      " 42%|███████████████████████████████████████████████████████████████████████▉                                                                                                   | 421/1000 [10:17:29<12:40:44, 78.83s/it]"
     ]
    },
    {
     "name": "stdout",
     "output_type": "stream",
     "text": [
      "\n",
      "\t ----- tradeoff_buffer: 0 ----- \n",
      "\t ----- reward: 0.5540465801620961 for f_star and f_minus: 25.71735633872605 , 44.59534198379039\n",
      "[INFO] [2022-12-17 04:27:46,614] [OpenBox-SPO] Iteration 422, objective value: [41.61196181046532].\n"
     ]
    },
    {
     "name": "stderr",
     "output_type": "stream",
     "text": [
      "\r",
      " 42%|████████████████████████████████████████████████████████████████████████▏                                                                                                  | 422/1000 [10:18:56<13:02:40, 81.25s/it]"
     ]
    },
    {
     "name": "stdout",
     "output_type": "stream",
     "text": [
      "\n",
      "\t ----- tradeoff_buffer: 0 ----- \n",
      "\t ----- reward: 0.5838803818953469 for f_star and f_minus: 25.71735633872605 , 41.61196181046532\n",
      "[INFO] [2022-12-17 04:27:46,616] [Advisor] Sample random config. rand_prob=0.100000.\n",
      "[INFO] [2022-12-17 04:28:25,087] [OpenBox-SPO] Iteration 423, objective value: [52.38682353804284].\n"
     ]
    },
    {
     "name": "stderr",
     "output_type": "stream",
     "text": [
      "\r",
      " 42%|████████████████████████████████████████████████████████████████████████▎                                                                                                  | 423/1000 [10:19:35<10:57:54, 68.41s/it]"
     ]
    },
    {
     "name": "stdout",
     "output_type": "stream",
     "text": [
      "\n",
      "\t ----- tradeoff_buffer: 0 ----- \n",
      "\t ----- reward: -1 for f_star and f_minus: 25.71735633872605 , 52.38682353804284\n",
      "[INFO] [2022-12-17 04:29:38,013] [OpenBox-SPO] Iteration 424, objective value: [44.29627199082644].\n"
     ]
    },
    {
     "name": "stderr",
     "output_type": "stream",
     "text": [
      "\r",
      " 42%|████████████████████████████████████████████████████████████████████████▌                                                                                                  | 424/1000 [10:20:48<11:09:46, 69.77s/it]"
     ]
    },
    {
     "name": "stdout",
     "output_type": "stream",
     "text": [
      "\n",
      "\t ----- tradeoff_buffer: 0 ----- \n",
      "\t ----- reward: 0.5570372800917356 for f_star and f_minus: 25.71735633872605 , 44.29627199082644\n",
      "[INFO] [2022-12-17 04:30:51,961] [OpenBox-SPO] Iteration 425, objective value: [41.34901475120279].\n"
     ]
    },
    {
     "name": "stderr",
     "output_type": "stream",
     "text": [
      "\r",
      " 42%|████████████████████████████████████████████████████████████████████████▋                                                                                                  | 425/1000 [10:22:02<11:20:37, 71.02s/it]"
     ]
    },
    {
     "name": "stdout",
     "output_type": "stream",
     "text": [
      "\n",
      "\t ----- tradeoff_buffer: 0 ----- \n",
      "\t ----- reward: 0.5865098524879722 for f_star and f_minus: 25.71735633872605 , 41.34901475120279\n",
      "[INFO] [2022-12-17 04:32:08,116] [OpenBox-SPO] Iteration 426, objective value: [51.506107595694104].\n"
     ]
    },
    {
     "name": "stderr",
     "output_type": "stream",
     "text": [
      "\r",
      " 43%|████████████████████████████████████████████████████████████████████████▊                                                                                                  | 426/1000 [10:23:18<11:34:10, 72.56s/it]"
     ]
    },
    {
     "name": "stdout",
     "output_type": "stream",
     "text": [
      "\n",
      "\t ----- tradeoff_buffer: 5 ----- \n",
      "\t ----- reward: -1 for f_star and f_minus: 25.71735633872605 , 51.506107595694104\n",
      "[INFO] [2022-12-17 04:33:33,231] [OpenBox-SPO] Iteration 427, objective value: [44.030325530841374].\n"
     ]
    },
    {
     "name": "stderr",
     "output_type": "stream",
     "text": [
      "\r",
      " 43%|█████████████████████████████████████████████████████████████████████████                                                                                                  | 427/1000 [10:24:43<12:08:56, 76.33s/it]"
     ]
    },
    {
     "name": "stdout",
     "output_type": "stream",
     "text": [
      "\n",
      "\t ----- tradeoff_buffer: 4 ----- \n",
      "\t ----- reward: 0.5596967446915863 for f_star and f_minus: 25.71735633872605 , 44.030325530841374\n",
      "[INFO] [2022-12-17 04:34:54,817] [OpenBox-SPO] Iteration 428, objective value: [37.164165576196865].\n"
     ]
    },
    {
     "name": "stderr",
     "output_type": "stream",
     "text": [
      "\r",
      " 43%|█████████████████████████████████████████████████████████████████████████▏                                                                                                 | 428/1000 [10:26:04<12:22:41, 77.91s/it]"
     ]
    },
    {
     "name": "stdout",
     "output_type": "stream",
     "text": [
      "\n",
      "\t ----- tradeoff_buffer: 1 ----- \n",
      "\t ----- reward: 0.6283583442380314 for f_star and f_minus: 25.71735633872605 , 37.164165576196865\n",
      "[INFO] [2022-12-17 04:36:19,345] [OpenBox-SPO] Iteration 429, objective value: [32.27548244690965].\n"
     ]
    },
    {
     "name": "stderr",
     "output_type": "stream",
     "text": [
      "\r",
      " 43%|█████████████████████████████████████████████████████████████████████████▎                                                                                                 | 429/1000 [10:27:29<12:40:18, 79.89s/it]"
     ]
    },
    {
     "name": "stdout",
     "output_type": "stream",
     "text": [
      "\n",
      "\t ----- tradeoff_buffer: 2 ----- \n",
      "\t ----- reward: 0.6772451755309035 for f_star and f_minus: 25.71735633872605 , 32.27548244690965\n",
      "[INFO] [2022-12-17 04:36:19,346] [Advisor] Sample random config. rand_prob=0.100000.\n",
      "[INFO] [2022-12-17 04:36:50,421] [OpenBox-SPO] Iteration 430, objective value: [57.95894869203309].\n"
     ]
    },
    {
     "name": "stderr",
     "output_type": "stream",
     "text": [
      "\r",
      " 43%|█████████████████████████████████████████████████████████████████████████▌                                                                                                 | 430/1000 [10:28:00<10:19:50, 65.25s/it]"
     ]
    },
    {
     "name": "stdout",
     "output_type": "stream",
     "text": [
      "\n",
      "\t ----- tradeoff_buffer: 0 ----- \n",
      "\t ----- reward: -1 for f_star and f_minus: 25.71735633872605 , 57.95894869203309\n",
      "[INFO] [2022-12-17 04:38:22,128] [OpenBox-SPO] Iteration 431, objective value: [39.23004978619308].\n"
     ]
    },
    {
     "name": "stderr",
     "output_type": "stream",
     "text": [
      "\r",
      " 43%|█████████████████████████████████████████████████████████████████████████▋                                                                                                 | 431/1000 [10:29:32<11:34:02, 73.19s/it]"
     ]
    },
    {
     "name": "stdout",
     "output_type": "stream",
     "text": [
      "\n",
      "\t ----- tradeoff_buffer: 0 ----- \n",
      "\t ----- reward: 0.6076995021380692 for f_star and f_minus: 25.71735633872605 , 39.23004978619308\n",
      "[INFO] [2022-12-17 04:39:36,427] [OpenBox-SPO] Iteration 432, objective value: [34.00820529189015].\n"
     ]
    },
    {
     "name": "stderr",
     "output_type": "stream",
     "text": [
      "\r",
      " 43%|█████████████████████████████████████████████████████████████████████████▊                                                                                                 | 432/1000 [10:30:46<11:35:58, 73.52s/it]"
     ]
    },
    {
     "name": "stdout",
     "output_type": "stream",
     "text": [
      "\n",
      "\t ----- tradeoff_buffer: 0 ----- \n",
      "\t ----- reward: 0.6599179470810985 for f_star and f_minus: 25.71735633872605 , 34.00820529189015\n",
      "[INFO] [2022-12-17 04:41:04,804] [OpenBox-SPO] Iteration 433, objective value: [38.64221705493508].\n"
     ]
    },
    {
     "name": "stderr",
     "output_type": "stream",
     "text": [
      "\r",
      " 43%|██████████████████████████████████████████████████████████████████████████                                                                                                 | 433/1000 [10:32:14<12:16:52, 77.98s/it]"
     ]
    },
    {
     "name": "stdout",
     "output_type": "stream",
     "text": [
      "\n",
      "\t ----- tradeoff_buffer: 0 ----- \n",
      "\t ----- reward: 0.6135778294506492 for f_star and f_minus: 25.71735633872605 , 38.64221705493508\n",
      "[INFO] [2022-12-17 04:41:04,806] [Advisor] Sample random config. rand_prob=0.100000.\n",
      "[INFO] [2022-12-17 04:41:43,102] [OpenBox-SPO] Iteration 434, objective value: [48.203630652222614].\n"
     ]
    },
    {
     "name": "stderr",
     "output_type": "stream",
     "text": [
      "\r",
      " 43%|██████████████████████████████████████████████████████████████████████████▏                                                                                                | 434/1000 [10:32:53<10:23:17, 66.07s/it]"
     ]
    },
    {
     "name": "stdout",
     "output_type": "stream",
     "text": [
      "\n",
      "\t ----- tradeoff_buffer: 0 ----- \n",
      "\t ----- reward: 0.5179636934777738 for f_star and f_minus: 25.71735633872605 , 48.203630652222614\n",
      "[INFO] [2022-12-17 04:43:01,923] [OpenBox-SPO] Iteration 435, objective value: [40.798410999977875].\n"
     ]
    },
    {
     "name": "stderr",
     "output_type": "stream",
     "text": [
      "\r",
      " 44%|██████████████████████████████████████████████████████████████████████████▍                                                                                                | 435/1000 [10:34:11<10:58:12, 69.90s/it]"
     ]
    },
    {
     "name": "stdout",
     "output_type": "stream",
     "text": [
      "\n",
      "\t ----- tradeoff_buffer: 0 ----- \n",
      "\t ----- reward: 0.5920158900002213 for f_star and f_minus: 25.71735633872605 , 40.798410999977875\n",
      "[INFO] [2022-12-17 04:44:30,478] [OpenBox-SPO] Iteration 436, objective value: [34.82181465325557].\n"
     ]
    },
    {
     "name": "stderr",
     "output_type": "stream",
     "text": [
      "\r",
      " 44%|██████████████████████████████████████████████████████████████████████████▌                                                                                                | 436/1000 [10:35:40<11:49:38, 75.49s/it]"
     ]
    },
    {
     "name": "stdout",
     "output_type": "stream",
     "text": [
      "\n",
      "\t ----- tradeoff_buffer: 0 ----- \n",
      "\t ----- reward: 0.6517818534674442 for f_star and f_minus: 25.71735633872605 , 34.82181465325557\n",
      "[INFO] [2022-12-17 04:45:59,661] [OpenBox-SPO] Iteration 437, objective value: [32.36302991964813].\n"
     ]
    },
    {
     "name": "stderr",
     "output_type": "stream",
     "text": [
      "\r",
      " 44%|██████████████████████████████████████████████████████████████████████████▋                                                                                                | 437/1000 [10:37:09<12:26:55, 79.60s/it]"
     ]
    },
    {
     "name": "stdout",
     "output_type": "stream",
     "text": [
      "\n",
      "\t ----- tradeoff_buffer: 0 ----- \n",
      "\t ----- reward: 0.6763697008035188 for f_star and f_minus: 25.71735633872605 , 32.36302991964813\n",
      "[INFO] [2022-12-17 04:47:27,429] [OpenBox-SPO] Iteration 438, objective value: [35.41239472628892].\n"
     ]
    },
    {
     "name": "stderr",
     "output_type": "stream",
     "text": [
      "\r",
      " 44%|██████████████████████████████████████████████████████████████████████████▉                                                                                                | 438/1000 [10:38:37<12:48:32, 82.05s/it]"
     ]
    },
    {
     "name": "stdout",
     "output_type": "stream",
     "text": [
      "\n",
      "\t ----- tradeoff_buffer: 5 ----- \n",
      "\t ----- reward: 0.6458760527371108 for f_star and f_minus: 25.71735633872605 , 35.41239472628892\n",
      "[INFO] [2022-12-17 04:48:37,869] [OpenBox-SPO] Iteration 439, objective value: [30.335936723662343].\n"
     ]
    },
    {
     "name": "stderr",
     "output_type": "stream",
     "text": [
      "\r",
      " 44%|███████████████████████████████████████████████████████████████████████████                                                                                                | 439/1000 [10:39:47<12:14:36, 78.57s/it]"
     ]
    },
    {
     "name": "stdout",
     "output_type": "stream",
     "text": [
      "\n",
      "\t ----- tradeoff_buffer: 4 ----- \n",
      "\t ----- reward: 0.6966406327633765 for f_star and f_minus: 25.71735633872605 , 30.335936723662343\n",
      "[INFO] [2022-12-17 04:49:56,273] [OpenBox-SPO] Iteration 440, objective value: [39.58122642319878].\n"
     ]
    },
    {
     "name": "stderr",
     "output_type": "stream",
     "text": [
      "\r",
      " 44%|███████████████████████████████████████████████████████████████████████████▏                                                                                               | 440/1000 [10:41:06<12:12:50, 78.52s/it]"
     ]
    },
    {
     "name": "stdout",
     "output_type": "stream",
     "text": [
      "\n",
      "\t ----- tradeoff_buffer: 1 ----- \n",
      "\t ----- reward: 0.6041877357680122 for f_star and f_minus: 25.71735633872605 , 39.58122642319878\n",
      "[INFO] [2022-12-17 04:51:19,019] [OpenBox-SPO] Iteration 441, objective value: [37.453940230495675].\n"
     ]
    },
    {
     "name": "stderr",
     "output_type": "stream",
     "text": [
      "\r",
      " 44%|███████████████████████████████████████████████████████████████████████████▍                                                                                               | 441/1000 [10:42:29<12:23:20, 79.79s/it]"
     ]
    },
    {
     "name": "stdout",
     "output_type": "stream",
     "text": [
      "\n",
      "\t ----- tradeoff_buffer: 0 ----- \n",
      "\t ----- reward: 0.6254605976950433 for f_star and f_minus: 25.71735633872605 , 37.453940230495675\n",
      "[INFO] [2022-12-17 04:52:37,599] [OpenBox-SPO] Iteration 442, objective value: [41.46792446580909].\n"
     ]
    },
    {
     "name": "stderr",
     "output_type": "stream",
     "text": [
      "\r",
      " 44%|███████████████████████████████████████████████████████████████████████████▌                                                                                               | 442/1000 [10:43:47<12:18:38, 79.42s/it]"
     ]
    },
    {
     "name": "stdout",
     "output_type": "stream",
     "text": [
      "\n",
      "\t ----- tradeoff_buffer: 0 ----- \n",
      "\t ----- reward: 0.5853207553419091 for f_star and f_minus: 25.71735633872605 , 41.46792446580909\n",
      "[INFO] [2022-12-17 04:52:37,600] [Advisor] Sample random config. rand_prob=0.100000.\n",
      "[INFO] [2022-12-17 04:53:14,732] [OpenBox-SPO] Iteration 443, objective value: [49.20173639509243].\n"
     ]
    },
    {
     "name": "stderr",
     "output_type": "stream",
     "text": [
      "\r",
      " 44%|███████████████████████████████████████████████████████████████████████████▊                                                                                               | 443/1000 [10:44:24<10:19:32, 66.74s/it]"
     ]
    },
    {
     "name": "stdout",
     "output_type": "stream",
     "text": [
      "\n",
      "\t ----- tradeoff_buffer: 0 ----- \n",
      "\t ----- reward: 0.5079826360490757 for f_star and f_minus: 25.71735633872605 , 49.20173639509243\n",
      "[INFO] [2022-12-17 04:54:29,075] [OpenBox-SPO] Iteration 444, objective value: [38.42952740565868].\n"
     ]
    },
    {
     "name": "stderr",
     "output_type": "stream",
     "text": [
      "\r",
      " 44%|███████████████████████████████████████████████████████████████████████████▉                                                                                               | 444/1000 [10:45:39<10:39:34, 69.02s/it]"
     ]
    },
    {
     "name": "stdout",
     "output_type": "stream",
     "text": [
      "\n",
      "\t ----- tradeoff_buffer: 0 ----- \n",
      "\t ----- reward: 0.6157047259434132 for f_star and f_minus: 25.71735633872605 , 38.42952740565868\n",
      "[INFO] [2022-12-17 04:54:29,076] [Advisor] Sample random config. rand_prob=0.100000.\n",
      "[INFO] [2022-12-17 04:55:00,303] [OpenBox-SPO] Iteration 445, objective value: [50.21861837655231].\n"
     ]
    },
    {
     "name": "stderr",
     "output_type": "stream",
     "text": [
      "\r",
      " 44%|████████████████████████████████████████████████████████████████████████████▌                                                                                               | 445/1000 [10:46:10<8:53:33, 57.68s/it]"
     ]
    },
    {
     "name": "stdout",
     "output_type": "stream",
     "text": [
      "\n",
      "\t ----- tradeoff_buffer: 0 ----- \n",
      "\t ----- reward: -1 for f_star and f_minus: 25.71735633872605 , 50.21861837655231\n",
      "[INFO] [2022-12-17 04:56:18,473] [OpenBox-SPO] Iteration 446, objective value: [34.83924802506556].\n"
     ]
    },
    {
     "name": "stderr",
     "output_type": "stream",
     "text": [
      "\r",
      " 45%|████████████████████████████████████████████████████████████████████████████▋                                                                                               | 446/1000 [10:47:28<9:49:20, 63.83s/it]"
     ]
    },
    {
     "name": "stdout",
     "output_type": "stream",
     "text": [
      "\n",
      "\t ----- tradeoff_buffer: 0 ----- \n",
      "\t ----- reward: 0.6516075197493445 for f_star and f_minus: 25.71735633872605 , 34.83924802506556\n",
      "[INFO] [2022-12-17 04:57:41,715] [OpenBox-SPO] Iteration 447, objective value: [35.016071200598844].\n"
     ]
    },
    {
     "name": "stderr",
     "output_type": "stream",
     "text": [
      "\r",
      " 45%|████████████████████████████████████████████████████████████████████████████▍                                                                                              | 447/1000 [10:48:51<10:41:57, 69.65s/it]"
     ]
    },
    {
     "name": "stdout",
     "output_type": "stream",
     "text": [
      "\n",
      "\t ----- tradeoff_buffer: 0 ----- \n",
      "\t ----- reward: 0.6498392879940116 for f_star and f_minus: 25.71735633872605 , 35.016071200598844\n",
      "[INFO] [2022-12-17 04:58:58,295] [OpenBox-SPO] Iteration 448, objective value: [36.75491427661331].\n"
     ]
    },
    {
     "name": "stderr",
     "output_type": "stream",
     "text": [
      "\r",
      " 45%|████████████████████████████████████████████████████████████████████████████▌                                                                                              | 448/1000 [10:50:08<10:59:55, 71.73s/it]"
     ]
    },
    {
     "name": "stdout",
     "output_type": "stream",
     "text": [
      "\n",
      "\t ----- tradeoff_buffer: 2 ----- \n",
      "\t ----- reward: 0.6324508572338668 for f_star and f_minus: 25.71735633872605 , 36.75491427661331\n",
      "[INFO] [2022-12-17 05:00:26,174] [OpenBox-SPO] Iteration 449, objective value: [39.95112775016996].\n"
     ]
    },
    {
     "name": "stderr",
     "output_type": "stream",
     "text": [
      "\r",
      " 45%|████████████████████████████████████████████████████████████████████████████▊                                                                                              | 449/1000 [10:51:36<11:43:12, 76.58s/it]"
     ]
    },
    {
     "name": "stdout",
     "output_type": "stream",
     "text": [
      "\n",
      "\t ----- tradeoff_buffer: 0 ----- \n",
      "\t ----- reward: 0.6004887224983004 for f_star and f_minus: 25.71735633872605 , 39.95112775016996\n",
      "[INFO] [2022-12-17 05:01:46,401] [OpenBox-SPO] Iteration 450, objective value: [32.324002153756].\n"
     ]
    },
    {
     "name": "stderr",
     "output_type": "stream",
     "text": [
      "\r",
      " 45%|████████████████████████████████████████████████████████████████████████████▉                                                                                              | 450/1000 [10:52:56<11:51:58, 77.67s/it]"
     ]
    },
    {
     "name": "stdout",
     "output_type": "stream",
     "text": [
      "\n",
      "\t ----- tradeoff_buffer: 0 ----- \n",
      "\t ----- reward: 0.6767599784624401 for f_star and f_minus: 25.71735633872605 , 32.324002153756\n",
      "[INFO] [2022-12-17 05:01:46,403] [Advisor] Sample random config. rand_prob=0.100000.\n",
      "[INFO] [2022-12-17 05:02:16,953] [OpenBox-SPO] Iteration 451, objective value: [50.10083509243303].\n"
     ]
    },
    {
     "name": "stderr",
     "output_type": "stream",
     "text": [
      "\r",
      " 45%|█████████████████████████████████████████████████████████████████████████████▌                                                                                              | 451/1000 [10:53:27<9:41:20, 63.53s/it]"
     ]
    },
    {
     "name": "stdout",
     "output_type": "stream",
     "text": [
      "\n",
      "\t ----- tradeoff_buffer: 0 ----- \n",
      "\t ----- reward: -1 for f_star and f_minus: 25.71735633872605 , 50.10083509243303\n",
      "[INFO] [2022-12-17 05:03:38,482] [OpenBox-SPO] Iteration 452, objective value: [31.632957648361455].\n"
     ]
    },
    {
     "name": "stderr",
     "output_type": "stream",
     "text": [
      "\r",
      " 45%|█████████████████████████████████████████████████████████████████████████████▎                                                                                             | 452/1000 [10:54:48<10:29:35, 68.93s/it]"
     ]
    },
    {
     "name": "stdout",
     "output_type": "stream",
     "text": [
      "\n",
      "\t ----- tradeoff_buffer: 0 ----- \n",
      "\t ----- reward: 0.6836704235163855 for f_star and f_minus: 25.71735633872605 , 31.632957648361455\n",
      "[INFO] [2022-12-17 05:05:09,309] [OpenBox-SPO] Iteration 453, objective value: [30.14198022664904].\n"
     ]
    },
    {
     "name": "stderr",
     "output_type": "stream",
     "text": [
      "\r",
      " 45%|█████████████████████████████████████████████████████████████████████████████▍                                                                                             | 453/1000 [10:56:19<11:28:19, 75.50s/it]"
     ]
    },
    {
     "name": "stdout",
     "output_type": "stream",
     "text": [
      "\n",
      "\t ----- tradeoff_buffer: 0 ----- \n",
      "\t ----- reward: 0.6985801977335095 for f_star and f_minus: 25.71735633872605 , 30.14198022664904\n",
      "[INFO] [2022-12-17 05:06:26,803] [OpenBox-SPO] Iteration 454, objective value: [41.83311028418197].\n"
     ]
    },
    {
     "name": "stderr",
     "output_type": "stream",
     "text": [
      "\r",
      " 45%|█████████████████████████████████████████████████████████████████████████████▋                                                                                             | 454/1000 [10:57:36<11:32:30, 76.10s/it]"
     ]
    },
    {
     "name": "stdout",
     "output_type": "stream",
     "text": [
      "\n",
      "\t ----- tradeoff_buffer: 0 ----- \n",
      "\t ----- reward: 0.5816688971581803 for f_star and f_minus: 25.71735633872605 , 41.83311028418197\n",
      "[INFO] [2022-12-17 05:07:43,641] [OpenBox-SPO] Iteration 455, objective value: [36.138222180767585].\n"
     ]
    },
    {
     "name": "stderr",
     "output_type": "stream",
     "text": [
      "\r",
      " 46%|█████████████████████████████████████████████████████████████████████████████▊                                                                                             | 455/1000 [10:58:53<11:33:14, 76.32s/it]"
     ]
    },
    {
     "name": "stdout",
     "output_type": "stream",
     "text": [
      "\n",
      "\t ----- tradeoff_buffer: 0 ----- \n",
      "\t ----- reward: 0.6386177781923241 for f_star and f_minus: 25.71735633872605 , 36.138222180767585\n",
      "[INFO] [2022-12-17 05:09:08,088] [OpenBox-SPO] Iteration 456, objective value: [34.70137157731452].\n"
     ]
    },
    {
     "name": "stderr",
     "output_type": "stream",
     "text": [
      "\r",
      " 46%|█████████████████████████████████████████████████████████████████████████████▉                                                                                             | 456/1000 [11:00:18<11:54:04, 78.76s/it]"
     ]
    },
    {
     "name": "stdout",
     "output_type": "stream",
     "text": [
      "\n",
      "\t ----- tradeoff_buffer: 0 ----- \n",
      "\t ----- reward: 0.6529862842268548 for f_star and f_minus: 25.71735633872605 , 34.70137157731452\n",
      "[INFO] [2022-12-17 05:10:37,626] [OpenBox-SPO] Iteration 457, objective value: [36.34850893460306].\n"
     ]
    },
    {
     "name": "stderr",
     "output_type": "stream",
     "text": [
      "\r",
      " 46%|██████████████████████████████████████████████████████████████████████████████▏                                                                                            | 457/1000 [11:01:47<12:22:01, 81.99s/it]"
     ]
    },
    {
     "name": "stdout",
     "output_type": "stream",
     "text": [
      "\n",
      "\t ----- tradeoff_buffer: 0 ----- \n",
      "\t ----- reward: 0.6365149106539694 for f_star and f_minus: 25.71735633872605 , 36.34850893460306\n",
      "[INFO] [2022-12-17 05:11:58,340] [OpenBox-SPO] Iteration 458, objective value: [37.07752257384255].\n"
     ]
    },
    {
     "name": "stderr",
     "output_type": "stream",
     "text": [
      "\r",
      " 46%|██████████████████████████████████████████████████████████████████████████████▎                                                                                            | 458/1000 [11:03:08<12:17:12, 81.61s/it]"
     ]
    },
    {
     "name": "stdout",
     "output_type": "stream",
     "text": [
      "\n",
      "\t ----- tradeoff_buffer: 0 ----- \n",
      "\t ----- reward: 0.6292247742615744 for f_star and f_minus: 25.71735633872605 , 37.07752257384255\n",
      "[INFO] [2022-12-17 05:13:13,034] [OpenBox-SPO] Iteration 459, objective value: [35.40642016367835].\n"
     ]
    },
    {
     "name": "stderr",
     "output_type": "stream",
     "text": [
      "\r",
      " 46%|██████████████████████████████████████████████████████████████████████████████▍                                                                                            | 459/1000 [11:04:23<11:57:08, 79.53s/it]"
     ]
    },
    {
     "name": "stdout",
     "output_type": "stream",
     "text": [
      "\n",
      "\t ----- tradeoff_buffer: 0 ----- \n",
      "\t ----- reward: 0.6459357983632166 for f_star and f_minus: 25.71735633872605 , 35.40642016367835\n",
      "[INFO] [2022-12-17 05:14:35,030] [OpenBox-SPO] Iteration 460, objective value: [37.104727299371966].\n"
     ]
    },
    {
     "name": "stderr",
     "output_type": "stream",
     "text": [
      "\r",
      " 46%|██████████████████████████████████████████████████████████████████████████████▋                                                                                            | 460/1000 [11:05:45<12:02:27, 80.27s/it]"
     ]
    },
    {
     "name": "stdout",
     "output_type": "stream",
     "text": [
      "\n",
      "\t ----- tradeoff_buffer: 0 ----- \n",
      "\t ----- reward: 0.6289527270062804 for f_star and f_minus: 25.71735633872605 , 37.104727299371966\n",
      "[INFO] [2022-12-17 05:15:53,254] [OpenBox-SPO] Iteration 461, objective value: [38.29237163033723].\n"
     ]
    },
    {
     "name": "stderr",
     "output_type": "stream",
     "text": [
      "\r",
      " 46%|██████████████████████████████████████████████████████████████████████████████▊                                                                                            | 461/1000 [11:07:03<11:55:35, 79.66s/it]"
     ]
    },
    {
     "name": "stdout",
     "output_type": "stream",
     "text": [
      "\n",
      "\t ----- tradeoff_buffer: 0 ----- \n",
      "\t ----- reward: 0.6170762836966277 for f_star and f_minus: 25.71735633872605 , 38.29237163033723\n",
      "[INFO] [2022-12-17 05:17:18,111] [OpenBox-SPO] Iteration 462, objective value: [34.95013100092824].\n"
     ]
    },
    {
     "name": "stderr",
     "output_type": "stream",
     "text": [
      "\r",
      " 46%|███████████████████████████████████████████████████████████████████████████████                                                                                            | 462/1000 [11:08:28<12:08:15, 81.22s/it]"
     ]
    },
    {
     "name": "stdout",
     "output_type": "stream",
     "text": [
      "\n",
      "\t ----- tradeoff_buffer: 0 ----- \n",
      "\t ----- reward: 0.6504986899907177 for f_star and f_minus: 25.71735633872605 , 34.95013100092824\n",
      "[INFO] [2022-12-17 05:18:38,091] [OpenBox-SPO] Iteration 463, objective value: [29.11300005971769].\n"
     ]
    },
    {
     "name": "stderr",
     "output_type": "stream",
     "text": [
      "\r",
      " 46%|███████████████████████████████████████████████████████████████████████████████▏                                                                                           | 463/1000 [11:09:48<12:03:34, 80.85s/it]"
     ]
    },
    {
     "name": "stdout",
     "output_type": "stream",
     "text": [
      "\n",
      "\t ----- tradeoff_buffer: 0 ----- \n",
      "\t ----- reward: 0.7088699994028231 for f_star and f_minus: 25.71735633872605 , 29.11300005971769\n",
      "[INFO] [2022-12-17 05:19:53,545] [OpenBox-SPO] Iteration 464, objective value: [34.139184152232914].\n"
     ]
    },
    {
     "name": "stderr",
     "output_type": "stream",
     "text": [
      "\r",
      " 46%|███████████████████████████████████████████████████████████████████████████████▎                                                                                           | 464/1000 [11:11:03<11:47:46, 79.23s/it]"
     ]
    },
    {
     "name": "stdout",
     "output_type": "stream",
     "text": [
      "\n",
      "\t ----- tradeoff_buffer: 0 ----- \n",
      "\t ----- reward: 0.6586081584776708 for f_star and f_minus: 25.71735633872605 , 34.139184152232914\n",
      "[INFO] [2022-12-17 05:21:11,576] [OpenBox-SPO] Iteration 465, objective value: [32.40134577131336].\n"
     ]
    },
    {
     "name": "stderr",
     "output_type": "stream",
     "text": [
      "\r",
      " 46%|███████████████████████████████████████████████████████████████████████████████▌                                                                                           | 465/1000 [11:12:21<11:43:15, 78.87s/it]"
     ]
    },
    {
     "name": "stdout",
     "output_type": "stream",
     "text": [
      "\n",
      "\t ----- tradeoff_buffer: 0 ----- \n",
      "\t ----- reward: 0.6759865422868664 for f_star and f_minus: 25.71735633872605 , 32.40134577131336\n",
      "[INFO] [2022-12-17 05:21:11,578] [Advisor] Sample random config. rand_prob=0.100000.\n",
      "[INFO] [2022-12-17 05:21:47,441] [OpenBox-SPO] Iteration 466, objective value: [51.59394095430011].\n"
     ]
    },
    {
     "name": "stderr",
     "output_type": "stream",
     "text": [
      "\r",
      " 47%|████████████████████████████████████████████████████████████████████████████████▏                                                                                           | 466/1000 [11:12:57<9:47:06, 65.97s/it]"
     ]
    },
    {
     "name": "stdout",
     "output_type": "stream",
     "text": [
      "\n",
      "\t ----- tradeoff_buffer: 0 ----- \n",
      "\t ----- reward: -1 for f_star and f_minus: 25.71735633872605 , 51.59394095430011\n",
      "[INFO] [2022-12-17 05:23:09,711] [OpenBox-SPO] Iteration 467, objective value: [36.92982275895158].\n"
     ]
    },
    {
     "name": "stderr",
     "output_type": "stream",
     "text": [
      "\r",
      " 47%|███████████████████████████████████████████████████████████████████████████████▊                                                                                           | 467/1000 [11:14:19<10:29:27, 70.86s/it]"
     ]
    },
    {
     "name": "stdout",
     "output_type": "stream",
     "text": [
      "\n",
      "\t ----- tradeoff_buffer: 0 ----- \n",
      "\t ----- reward: 0.6307017724104842 for f_star and f_minus: 25.71735633872605 , 36.92982275895158\n",
      "[INFO] [2022-12-17 05:24:28,695] [OpenBox-SPO] Iteration 468, objective value: [41.33203864432399].\n"
     ]
    },
    {
     "name": "stderr",
     "output_type": "stream",
     "text": [
      "\r",
      " 47%|████████████████████████████████████████████████████████████████████████████████                                                                                           | 468/1000 [11:15:38<10:49:53, 73.30s/it]"
     ]
    },
    {
     "name": "stdout",
     "output_type": "stream",
     "text": [
      "\n",
      "\t ----- tradeoff_buffer: 0 ----- \n",
      "\t ----- reward: 0.5866796135567601 for f_star and f_minus: 25.71735633872605 , 41.33203864432399\n",
      "[INFO] [2022-12-17 05:25:46,350] [OpenBox-SPO] Iteration 469, objective value: [31.302131098342187].\n"
     ]
    },
    {
     "name": "stderr",
     "output_type": "stream",
     "text": [
      "\r",
      " 47%|████████████████████████████████████████████████████████████████████████████████▏                                                                                          | 469/1000 [11:16:56<11:00:14, 74.60s/it]"
     ]
    },
    {
     "name": "stdout",
     "output_type": "stream",
     "text": [
      "\n",
      "\t ----- tradeoff_buffer: 0 ----- \n",
      "\t ----- reward: 0.6869786890165781 for f_star and f_minus: 25.71735633872605 , 31.302131098342187\n",
      "[INFO] [2022-12-17 05:27:04,837] [OpenBox-SPO] Iteration 470, objective value: [29.112419682851126].\n"
     ]
    },
    {
     "name": "stderr",
     "output_type": "stream",
     "text": [
      "\r",
      " 47%|████████████████████████████████████████████████████████████████████████████████▎                                                                                          | 470/1000 [11:18:14<11:09:17, 75.77s/it]"
     ]
    },
    {
     "name": "stdout",
     "output_type": "stream",
     "text": [
      "\n",
      "\t ----- tradeoff_buffer: 0 ----- \n",
      "\t ----- reward: 0.7088758031714888 for f_star and f_minus: 25.71735633872605 , 29.112419682851126\n",
      "[INFO] [2022-12-17 05:28:21,324] [OpenBox-SPO] Iteration 471, objective value: [29.563820708302202].\n"
     ]
    },
    {
     "name": "stderr",
     "output_type": "stream",
     "text": [
      "\r",
      " 47%|████████████████████████████████████████████████████████████████████████████████▌                                                                                          | 471/1000 [11:19:31<11:09:55, 75.98s/it]"
     ]
    },
    {
     "name": "stdout",
     "output_type": "stream",
     "text": [
      "\n",
      "\t ----- tradeoff_buffer: 0 ----- \n",
      "\t ----- reward: 0.704361792916978 for f_star and f_minus: 25.71735633872605 , 29.563820708302202\n",
      "[INFO] [2022-12-17 05:29:33,560] [OpenBox-SPO] Iteration 472, objective value: [33.97144224523399].\n"
     ]
    },
    {
     "name": "stderr",
     "output_type": "stream",
     "text": [
      "\r",
      " 47%|████████████████████████████████████████████████████████████████████████████████▋                                                                                          | 472/1000 [11:20:43<10:58:45, 74.86s/it]"
     ]
    },
    {
     "name": "stdout",
     "output_type": "stream",
     "text": [
      "\n",
      "\t ----- tradeoff_buffer: 0 ----- \n",
      "\t ----- reward: 0.6602855775476602 for f_star and f_minus: 25.71735633872605 , 33.97144224523399\n",
      "[INFO] [2022-12-17 05:30:51,330] [OpenBox-SPO] Iteration 473, objective value: [34.61058424945212].\n"
     ]
    },
    {
     "name": "stderr",
     "output_type": "stream",
     "text": [
      "\r",
      " 47%|████████████████████████████████████████████████████████████████████████████████▉                                                                                          | 473/1000 [11:22:01<11:05:11, 75.73s/it]"
     ]
    },
    {
     "name": "stdout",
     "output_type": "stream",
     "text": [
      "\n",
      "\t ----- tradeoff_buffer: 2 ----- \n",
      "\t ----- reward: 0.6538941575054789 for f_star and f_minus: 25.71735633872605 , 34.61058424945212\n",
      "[INFO] [2022-12-17 05:32:09,131] [OpenBox-SPO] Iteration 474, objective value: [31.19581509078884].\n"
     ]
    },
    {
     "name": "stderr",
     "output_type": "stream",
     "text": [
      "\r",
      " 47%|█████████████████████████████████████████████████████████████████████████████████                                                                                          | 474/1000 [11:23:19<11:09:21, 76.35s/it]"
     ]
    },
    {
     "name": "stdout",
     "output_type": "stream",
     "text": [
      "\n",
      "\t ----- tradeoff_buffer: 0 ----- \n",
      "\t ----- reward: 0.6880418490921116 for f_star and f_minus: 25.71735633872605 , 31.19581509078884\n",
      "[INFO] [2022-12-17 05:33:32,435] [OpenBox-SPO] Iteration 475, objective value: [35.20538924984541].\n"
     ]
    },
    {
     "name": "stderr",
     "output_type": "stream",
     "text": [
      "\r",
      " 48%|█████████████████████████████████████████████████████████████████████████████████▏                                                                                         | 475/1000 [11:24:42<11:26:20, 78.44s/it]"
     ]
    },
    {
     "name": "stdout",
     "output_type": "stream",
     "text": [
      "\n",
      "\t ----- tradeoff_buffer: 0 ----- \n",
      "\t ----- reward: 0.6479461075015459 for f_star and f_minus: 25.71735633872605 , 35.20538924984541\n",
      "[INFO] [2022-12-17 05:34:50,084] [OpenBox-SPO] Iteration 476, objective value: [33.27483769464837].\n"
     ]
    },
    {
     "name": "stderr",
     "output_type": "stream",
     "text": [
      "\r",
      " 48%|█████████████████████████████████████████████████████████████████████████████████▍                                                                                         | 476/1000 [11:26:00<11:22:57, 78.20s/it]"
     ]
    },
    {
     "name": "stdout",
     "output_type": "stream",
     "text": [
      "\n",
      "\t ----- tradeoff_buffer: 0 ----- \n",
      "\t ----- reward: 0.6672516230535164 for f_star and f_minus: 25.71735633872605 , 33.27483769464837\n",
      "[INFO] [2022-12-17 05:36:15,255] [OpenBox-SPO] Iteration 477, objective value: [30.673914125928036].\n"
     ]
    },
    {
     "name": "stderr",
     "output_type": "stream",
     "text": [
      "\r",
      " 48%|█████████████████████████████████████████████████████████████████████████████████▌                                                                                         | 477/1000 [11:27:25<11:39:52, 80.29s/it]"
     ]
    },
    {
     "name": "stdout",
     "output_type": "stream",
     "text": [
      "\n",
      "\t ----- tradeoff_buffer: 2 ----- \n",
      "\t ----- reward: 0.6932608587407196 for f_star and f_minus: 25.71735633872605 , 30.673914125928036\n",
      "[INFO] [2022-12-17 05:37:32,954] [OpenBox-SPO] Iteration 478, objective value: [37.51919014410156].\n"
     ]
    },
    {
     "name": "stderr",
     "output_type": "stream",
     "text": [
      "\r",
      " 48%|█████████████████████████████████████████████████████████████████████████████████▋                                                                                         | 478/1000 [11:28:43<11:31:46, 79.51s/it]"
     ]
    },
    {
     "name": "stdout",
     "output_type": "stream",
     "text": [
      "\n",
      "\t ----- tradeoff_buffer: 0 ----- \n",
      "\t ----- reward: 0.6248080985589844 for f_star and f_minus: 25.71735633872605 , 37.51919014410156\n",
      "[INFO] [2022-12-17 05:39:00,394] [OpenBox-SPO] Iteration 479, objective value: [34.69083962983534].\n"
     ]
    },
    {
     "name": "stderr",
     "output_type": "stream",
     "text": [
      "\r",
      " 48%|█████████████████████████████████████████████████████████████████████████████████▉                                                                                         | 479/1000 [11:30:10<11:51:05, 81.89s/it]"
     ]
    },
    {
     "name": "stdout",
     "output_type": "stream",
     "text": [
      "\n",
      "\t ----- tradeoff_buffer: 0 ----- \n",
      "\t ----- reward: 0.6530916037016465 for f_star and f_minus: 25.71735633872605 , 34.69083962983534\n",
      "[INFO] [2022-12-17 05:40:16,018] [OpenBox-SPO] Iteration 480, objective value: [33.48623540817795].\n"
     ]
    },
    {
     "name": "stderr",
     "output_type": "stream",
     "text": [
      "\r",
      " 48%|██████████████████████████████████████████████████████████████████████████████████                                                                                         | 480/1000 [11:31:26<11:33:25, 80.01s/it]"
     ]
    },
    {
     "name": "stdout",
     "output_type": "stream",
     "text": [
      "\n",
      "\t ----- tradeoff_buffer: 0 ----- \n",
      "\t ----- reward: 0.6651376459182206 for f_star and f_minus: 25.71735633872605 , 33.48623540817795\n",
      "[INFO] [2022-12-17 05:41:32,218] [OpenBox-SPO] Iteration 481, objective value: [35.636706149358645].\n"
     ]
    },
    {
     "name": "stderr",
     "output_type": "stream",
     "text": [
      "\r",
      " 48%|██████████████████████████████████████████████████████████████████████████████████▎                                                                                        | 481/1000 [11:32:42<11:22:12, 78.87s/it]"
     ]
    },
    {
     "name": "stdout",
     "output_type": "stream",
     "text": [
      "\n",
      "\t ----- tradeoff_buffer: 0 ----- \n",
      "\t ----- reward: 0.6436329385064136 for f_star and f_minus: 25.71735633872605 , 35.636706149358645\n",
      "[INFO] [2022-12-17 05:42:51,699] [OpenBox-SPO] Iteration 482, objective value: [35.15369303247316].\n"
     ]
    },
    {
     "name": "stderr",
     "output_type": "stream",
     "text": [
      "\r",
      " 48%|██████████████████████████████████████████████████████████████████████████████████▍                                                                                        | 482/1000 [11:34:01<11:22:28, 79.05s/it]"
     ]
    },
    {
     "name": "stdout",
     "output_type": "stream",
     "text": [
      "\n",
      "\t ----- tradeoff_buffer: 0 ----- \n",
      "\t ----- reward: 0.6484630696752685 for f_star and f_minus: 25.71735633872605 , 35.15369303247316\n",
      "[INFO] [2022-12-17 05:44:10,737] [OpenBox-SPO] Iteration 483, objective value: [29.373515340146895].\n"
     ]
    },
    {
     "name": "stderr",
     "output_type": "stream",
     "text": [
      "\r",
      " 48%|██████████████████████████████████████████████████████████████████████████████████▌                                                                                        | 483/1000 [11:35:20<11:21:07, 79.05s/it]"
     ]
    },
    {
     "name": "stdout",
     "output_type": "stream",
     "text": [
      "\n",
      "\t ----- tradeoff_buffer: 0 ----- \n",
      "\t ----- reward: 0.7062648465985311 for f_star and f_minus: 25.71735633872605 , 29.373515340146895\n",
      "[INFO] [2022-12-17 05:44:10,738] [Advisor] Sample random config. rand_prob=0.100000.\n",
      "[INFO] [2022-12-17 05:44:42,119] [OpenBox-SPO] Iteration 484, objective value: [51.657874927064185].\n"
     ]
    },
    {
     "name": "stderr",
     "output_type": "stream",
     "text": [
      "\r",
      " 48%|███████████████████████████████████████████████████████████████████████████████████▏                                                                                        | 484/1000 [11:35:52<9:16:50, 64.75s/it]"
     ]
    },
    {
     "name": "stdout",
     "output_type": "stream",
     "text": [
      "\n",
      "\t ----- tradeoff_buffer: 0 ----- \n",
      "\t ----- reward: -1 for f_star and f_minus: 25.71735633872605 , 51.657874927064185\n",
      "[INFO] [2022-12-17 05:45:55,623] [OpenBox-SPO] Iteration 485, objective value: [34.52113096866178].\n"
     ]
    },
    {
     "name": "stderr",
     "output_type": "stream",
     "text": [
      "\r",
      " 48%|███████████████████████████████████████████████████████████████████████████████████▍                                                                                        | 485/1000 [11:37:05<9:38:18, 67.37s/it]"
     ]
    },
    {
     "name": "stdout",
     "output_type": "stream",
     "text": [
      "\n",
      "\t ----- tradeoff_buffer: 0 ----- \n",
      "\t ----- reward: 0.6547886903133822 for f_star and f_minus: 25.71735633872605 , 34.52113096866178\n",
      "[INFO] [2022-12-17 05:47:16,805] [OpenBox-SPO] Iteration 486, objective value: [40.40499178253854].\n"
     ]
    },
    {
     "name": "stderr",
     "output_type": "stream",
     "text": [
      "\r",
      " 49%|███████████████████████████████████████████████████████████████████████████████████                                                                                        | 486/1000 [11:38:26<10:12:39, 71.52s/it]"
     ]
    },
    {
     "name": "stdout",
     "output_type": "stream",
     "text": [
      "\n",
      "\t ----- tradeoff_buffer: 0 ----- \n",
      "\t ----- reward: 0.5959500821746146 for f_star and f_minus: 25.71735633872605 , 40.40499178253854\n",
      "[INFO] [2022-12-17 05:48:38,688] [OpenBox-SPO] Iteration 487, objective value: [40.17441310704558].\n"
     ]
    },
    {
     "name": "stderr",
     "output_type": "stream",
     "text": [
      "\r",
      " 49%|███████████████████████████████████████████████████████████████████████████████████▎                                                                                       | 487/1000 [11:39:48<10:38:03, 74.63s/it]"
     ]
    },
    {
     "name": "stdout",
     "output_type": "stream",
     "text": [
      "\n",
      "\t ----- tradeoff_buffer: 0 ----- \n",
      "\t ----- reward: 0.5982558689295442 for f_star and f_minus: 25.71735633872605 , 40.17441310704558\n",
      "[INFO] [2022-12-17 05:49:57,506] [OpenBox-SPO] Iteration 488, objective value: [35.8595804158856].\n"
     ]
    },
    {
     "name": "stderr",
     "output_type": "stream",
     "text": [
      "\r",
      " 49%|███████████████████████████████████████████████████████████████████████████████████▍                                                                                       | 488/1000 [11:41:07<10:47:32, 75.88s/it]"
     ]
    },
    {
     "name": "stdout",
     "output_type": "stream",
     "text": [
      "\n",
      "\t ----- tradeoff_buffer: 0 ----- \n",
      "\t ----- reward: 0.641404195841144 for f_star and f_minus: 25.71735633872605 , 35.8595804158856\n",
      "[INFO] [2022-12-17 05:51:17,623] [OpenBox-SPO] Iteration 489, objective value: [37.2044400352119].\n"
     ]
    },
    {
     "name": "stderr",
     "output_type": "stream",
     "text": [
      "\r",
      " 49%|███████████████████████████████████████████████████████████████████████████████████▌                                                                                       | 489/1000 [11:42:27<10:57:05, 77.15s/it]"
     ]
    },
    {
     "name": "stdout",
     "output_type": "stream",
     "text": [
      "\n",
      "\t ----- tradeoff_buffer: 0 ----- \n",
      "\t ----- reward: 0.627955599647881 for f_star and f_minus: 25.71735633872605 , 37.2044400352119\n",
      "[INFO] [2022-12-17 05:52:33,276] [OpenBox-SPO] Iteration 490, objective value: [34.634929251547234].\n"
     ]
    },
    {
     "name": "stderr",
     "output_type": "stream",
     "text": [
      "\r",
      " 49%|███████████████████████████████████████████████████████████████████████████████████▊                                                                                       | 490/1000 [11:43:43<10:51:58, 76.70s/it]"
     ]
    },
    {
     "name": "stdout",
     "output_type": "stream",
     "text": [
      "\n",
      "\t ----- tradeoff_buffer: 3 ----- \n",
      "\t ----- reward: 0.6536507074845277 for f_star and f_minus: 25.71735633872605 , 34.634929251547234\n",
      "[INFO] [2022-12-17 05:53:50,645] [OpenBox-SPO] Iteration 491, objective value: [34.367823528346094].\n"
     ]
    },
    {
     "name": "stderr",
     "output_type": "stream",
     "text": [
      "\r",
      " 49%|███████████████████████████████████████████████████████████████████████████████████▉                                                                                       | 491/1000 [11:45:00<10:52:23, 76.90s/it]"
     ]
    },
    {
     "name": "stdout",
     "output_type": "stream",
     "text": [
      "\n",
      "\t ----- tradeoff_buffer: 0 ----- \n",
      "\t ----- reward: 0.6563217647165391 for f_star and f_minus: 25.71735633872605 , 34.367823528346094\n",
      "[INFO] [2022-12-17 05:55:05,263] [OpenBox-SPO] Iteration 492, objective value: [30.54005089186613].\n"
     ]
    },
    {
     "name": "stderr",
     "output_type": "stream",
     "text": [
      "\r",
      " 49%|████████████████████████████████████████████████████████████████████████████████████▏                                                                                      | 492/1000 [11:46:15<10:45:18, 76.22s/it]"
     ]
    },
    {
     "name": "stdout",
     "output_type": "stream",
     "text": [
      "\n",
      "\t ----- tradeoff_buffer: 0 ----- \n",
      "\t ----- reward: 0.6945994910813387 for f_star and f_minus: 25.71735633872605 , 30.54005089186613\n",
      "[INFO] [2022-12-17 05:56:32,425] [OpenBox-SPO] Iteration 493, objective value: [28.75267237141381].\n"
     ]
    },
    {
     "name": "stderr",
     "output_type": "stream",
     "text": [
      "\r",
      " 49%|████████████████████████████████████████████████████████████████████████████████████▎                                                                                      | 493/1000 [11:47:42<11:11:47, 79.50s/it]"
     ]
    },
    {
     "name": "stdout",
     "output_type": "stream",
     "text": [
      "\n",
      "\t ----- tradeoff_buffer: 0 ----- \n",
      "\t ----- reward: 0.7124732762858619 for f_star and f_minus: 25.71735633872605 , 28.75267237141381\n",
      "[INFO] [2022-12-17 05:57:53,094] [OpenBox-SPO] Iteration 494, objective value: [34.755456661333085].\n"
     ]
    },
    {
     "name": "stderr",
     "output_type": "stream",
     "text": [
      "\r",
      " 49%|████████████████████████████████████████████████████████████████████████████████████▍                                                                                      | 494/1000 [11:49:03<11:13:24, 79.85s/it]"
     ]
    },
    {
     "name": "stdout",
     "output_type": "stream",
     "text": [
      "\n",
      "\t ----- tradeoff_buffer: 0 ----- \n",
      "\t ----- reward: 0.6524454333866692 for f_star and f_minus: 25.71735633872605 , 34.755456661333085\n",
      "[INFO] [2022-12-17 05:59:13,122] [OpenBox-SPO] Iteration 495, objective value: [31.36511962790165].\n"
     ]
    },
    {
     "name": "stderr",
     "output_type": "stream",
     "text": [
      "\r",
      " 50%|████████████████████████████████████████████████████████████████████████████████████▋                                                                                      | 495/1000 [11:50:23<11:12:31, 79.90s/it]"
     ]
    },
    {
     "name": "stdout",
     "output_type": "stream",
     "text": [
      "\n",
      "\t ----- tradeoff_buffer: 0 ----- \n",
      "\t ----- reward: 0.6863488037209835 for f_star and f_minus: 25.71735633872605 , 31.36511962790165\n",
      "[INFO] [2022-12-17 06:00:38,896] [OpenBox-SPO] Iteration 496, objective value: [31.956332521512252].\n"
     ]
    },
    {
     "name": "stderr",
     "output_type": "stream",
     "text": [
      "\r",
      " 50%|████████████████████████████████████████████████████████████████████████████████████▊                                                                                      | 496/1000 [11:51:48<11:25:59, 81.67s/it]"
     ]
    },
    {
     "name": "stdout",
     "output_type": "stream",
     "text": [
      "\n",
      "\t ----- tradeoff_buffer: 0 ----- \n",
      "\t ----- reward: 0.6804366747848775 for f_star and f_minus: 25.71735633872605 , 31.956332521512252\n",
      "[INFO] [2022-12-17 06:02:04,313] [OpenBox-SPO] Iteration 497, objective value: [35.71543171852056].\n"
     ]
    },
    {
     "name": "stderr",
     "output_type": "stream",
     "text": [
      "\r",
      " 50%|████████████████████████████████████████████████████████████████████████████████████▉                                                                                      | 497/1000 [11:53:14<11:34:03, 82.79s/it]"
     ]
    },
    {
     "name": "stdout",
     "output_type": "stream",
     "text": [
      "\n",
      "\t ----- tradeoff_buffer: 0 ----- \n",
      "\t ----- reward: 0.6428456828147944 for f_star and f_minus: 25.71735633872605 , 35.71543171852056\n",
      "[INFO] [2022-12-17 06:03:20,883] [OpenBox-SPO] Iteration 498, objective value: [41.34834378783585].\n"
     ]
    },
    {
     "name": "stderr",
     "output_type": "stream",
     "text": [
      "\r",
      " 50%|█████████████████████████████████████████████████████████████████████████████████████▏                                                                                     | 498/1000 [11:54:30<11:17:04, 80.92s/it]"
     ]
    },
    {
     "name": "stdout",
     "output_type": "stream",
     "text": [
      "\n",
      "\t ----- tradeoff_buffer: 0 ----- \n",
      "\t ----- reward: 0.5865165621216415 for f_star and f_minus: 25.71735633872605 , 41.34834378783585\n",
      "[INFO] [2022-12-17 06:04:45,628] [OpenBox-SPO] Iteration 499, objective value: [31.63314175138069].\n"
     ]
    },
    {
     "name": "stderr",
     "output_type": "stream",
     "text": [
      "\r",
      " 50%|█████████████████████████████████████████████████████████████████████████████████████▎                                                                                     | 499/1000 [11:55:55<11:25:17, 82.07s/it]"
     ]
    },
    {
     "name": "stdout",
     "output_type": "stream",
     "text": [
      "\n",
      "\t ----- tradeoff_buffer: 0 ----- \n",
      "\t ----- reward: 0.6836685824861931 for f_star and f_minus: 25.71735633872605 , 31.63314175138069\n",
      "[INFO] [2022-12-17 06:06:04,514] [OpenBox-SPO] Iteration 500, objective value: [33.75503363594852].\n"
     ]
    },
    {
     "name": "stderr",
     "output_type": "stream",
     "text": [
      "\r",
      " 50%|█████████████████████████████████████████████████████████████████████████████████████▌                                                                                     | 500/1000 [11:57:14<11:15:57, 81.12s/it]"
     ]
    },
    {
     "name": "stdout",
     "output_type": "stream",
     "text": [
      "\n",
      "\t ----- tradeoff_buffer: 0 ----- \n",
      "\t ----- reward: 0.6624496636405148 for f_star and f_minus: 25.71735633872605 , 33.75503363594852\n",
      "[INFO] [2022-12-17 06:07:26,136] [OpenBox-SPO] Iteration 501, objective value: [34.764155851076566].\n"
     ]
    },
    {
     "name": "stderr",
     "output_type": "stream",
     "text": [
      "\r",
      " 50%|█████████████████████████████████████████████████████████████████████████████████████▋                                                                                     | 501/1000 [11:58:36<11:15:52, 81.27s/it]"
     ]
    },
    {
     "name": "stdout",
     "output_type": "stream",
     "text": [
      "\n",
      "\t ----- tradeoff_buffer: 0 ----- \n",
      "\t ----- reward: 0.6523584414892343 for f_star and f_minus: 25.71735633872605 , 34.764155851076566\n",
      "[INFO] [2022-12-17 06:08:49,237] [OpenBox-SPO] Iteration 502, objective value: [33.18288290273739].\n"
     ]
    },
    {
     "name": "stderr",
     "output_type": "stream",
     "text": [
      "\r",
      " 50%|█████████████████████████████████████████████████████████████████████████████████████▊                                                                                     | 502/1000 [11:59:59<11:19:05, 81.82s/it]"
     ]
    },
    {
     "name": "stdout",
     "output_type": "stream",
     "text": [
      "\n",
      "\t ----- tradeoff_buffer: 0 ----- \n",
      "\t ----- reward: 0.6681711709726261 for f_star and f_minus: 25.71735633872605 , 33.18288290273739\n",
      "[INFO] [2022-12-17 06:10:05,649] [OpenBox-SPO] Iteration 503, objective value: [36.64947598273145].\n"
     ]
    },
    {
     "name": "stderr",
     "output_type": "stream",
     "text": [
      "\r",
      " 50%|██████████████████████████████████████████████████████████████████████████████████████                                                                                     | 503/1000 [12:01:15<11:04:17, 80.20s/it]"
     ]
    },
    {
     "name": "stdout",
     "output_type": "stream",
     "text": [
      "\n",
      "\t ----- tradeoff_buffer: 0 ----- \n",
      "\t ----- reward: 0.6335052401726855 for f_star and f_minus: 25.71735633872605 , 36.64947598273145\n",
      "[INFO] [2022-12-17 06:11:20,361] [OpenBox-SPO] Iteration 504, objective value: [33.732586596125074].\n"
     ]
    },
    {
     "name": "stderr",
     "output_type": "stream",
     "text": [
      "\r",
      " 50%|██████████████████████████████████████████████████████████████████████████████████████▏                                                                                    | 504/1000 [12:02:30<10:49:21, 78.55s/it]"
     ]
    },
    {
     "name": "stdout",
     "output_type": "stream",
     "text": [
      "\n",
      "\t ----- tradeoff_buffer: 0 ----- \n",
      "\t ----- reward: 0.6626741340387492 for f_star and f_minus: 25.71735633872605 , 33.732586596125074\n",
      "[INFO] [2022-12-17 06:12:39,886] [OpenBox-SPO] Iteration 505, objective value: [47.60310663438935].\n"
     ]
    },
    {
     "name": "stderr",
     "output_type": "stream",
     "text": [
      "\r",
      " 50%|██████████████████████████████████████████████████████████████████████████████████████▎                                                                                    | 505/1000 [12:03:49<10:50:27, 78.84s/it]"
     ]
    },
    {
     "name": "stdout",
     "output_type": "stream",
     "text": [
      "\n",
      "\t ----- tradeoff_buffer: 0 ----- \n",
      "\t ----- reward: 0.5239689336561065 for f_star and f_minus: 25.71735633872605 , 47.60310663438935\n",
      "[INFO] [2022-12-17 06:13:59,515] [OpenBox-SPO] Iteration 506, objective value: [40.17261268059571].\n"
     ]
    },
    {
     "name": "stderr",
     "output_type": "stream",
     "text": [
      "\r",
      " 51%|██████████████████████████████████████████████████████████████████████████████████████▌                                                                                    | 506/1000 [12:05:09<10:51:04, 79.08s/it]"
     ]
    },
    {
     "name": "stdout",
     "output_type": "stream",
     "text": [
      "\n",
      "\t ----- tradeoff_buffer: 3 ----- \n",
      "\t ----- reward: 0.5982738731940429 for f_star and f_minus: 25.71735633872605 , 40.17261268059571\n",
      "[INFO] [2022-12-17 06:13:59,516] [Advisor] Sample random config. rand_prob=0.100000.\n",
      "[INFO] [2022-12-17 06:14:36,864] [OpenBox-SPO] Iteration 507, objective value: [44.49165606147805].\n"
     ]
    },
    {
     "name": "stderr",
     "output_type": "stream",
     "text": [
      "\r",
      " 51%|███████████████████████████████████████████████████████████████████████████████████████▏                                                                                    | 507/1000 [12:05:46<9:06:53, 66.56s/it]"
     ]
    },
    {
     "name": "stdout",
     "output_type": "stream",
     "text": [
      "\n",
      "\t ----- tradeoff_buffer: 0 ----- \n",
      "\t ----- reward: 0.5550834393852195 for f_star and f_minus: 25.71735633872605 , 44.49165606147805\n",
      "[INFO] [2022-12-17 06:15:51,938] [OpenBox-SPO] Iteration 508, objective value: [42.60189242782633].\n"
     ]
    },
    {
     "name": "stderr",
     "output_type": "stream",
     "text": [
      "\r",
      " 51%|███████████████████████████████████████████████████████████████████████████████████████▍                                                                                    | 508/1000 [12:07:01<9:26:44, 69.11s/it]"
     ]
    },
    {
     "name": "stdout",
     "output_type": "stream",
     "text": [
      "\n",
      "\t ----- tradeoff_buffer: 0 ----- \n",
      "\t ----- reward: 0.5739810757217367 for f_star and f_minus: 25.71735633872605 , 42.60189242782633\n",
      "[INFO] [2022-12-17 06:17:09,072] [OpenBox-SPO] Iteration 509, objective value: [42.540321657760046].\n"
     ]
    },
    {
     "name": "stderr",
     "output_type": "stream",
     "text": [
      "\r",
      " 51%|███████████████████████████████████████████████████████████████████████████████████████▌                                                                                    | 509/1000 [12:08:19<9:45:16, 71.52s/it]"
     ]
    },
    {
     "name": "stdout",
     "output_type": "stream",
     "text": [
      "\n",
      "\t ----- tradeoff_buffer: 0 ----- \n",
      "\t ----- reward: 0.5745967834223995 for f_star and f_minus: 25.71735633872605 , 42.540321657760046\n",
      "[INFO] [2022-12-17 06:18:27,809] [OpenBox-SPO] Iteration 510, objective value: [43.0419742279625].\n"
     ]
    },
    {
     "name": "stderr",
     "output_type": "stream",
     "text": [
      "\r",
      " 51%|███████████████████████████████████████████████████████████████████████████████████████▏                                                                                   | 510/1000 [12:09:37<10:01:45, 73.69s/it]"
     ]
    },
    {
     "name": "stdout",
     "output_type": "stream",
     "text": [
      "\n",
      "\t ----- tradeoff_buffer: 0 ----- \n",
      "\t ----- reward: 0.569580257720375 for f_star and f_minus: 25.71735633872605 , 43.0419742279625\n",
      "[INFO] [2022-12-17 06:19:57,275] [OpenBox-SPO] Iteration 511, objective value: [33.9286213718741].\n"
     ]
    },
    {
     "name": "stderr",
     "output_type": "stream",
     "text": [
      "\r",
      " 51%|███████████████████████████████████████████████████████████████████████████████████████▍                                                                                   | 511/1000 [12:11:07<10:39:06, 78.42s/it]"
     ]
    },
    {
     "name": "stdout",
     "output_type": "stream",
     "text": [
      "\n",
      "\t ----- tradeoff_buffer: 0 ----- \n",
      "\t ----- reward: 0.660713786281259 for f_star and f_minus: 25.71735633872605 , 33.9286213718741\n",
      "[INFO] [2022-12-17 06:21:12,508] [OpenBox-SPO] Iteration 512, objective value: [32.350695118331004].\n"
     ]
    },
    {
     "name": "stderr",
     "output_type": "stream",
     "text": [
      "\r",
      " 51%|███████████████████████████████████████████████████████████████████████████████████████▌                                                                                   | 512/1000 [12:12:22<10:30:02, 77.46s/it]"
     ]
    },
    {
     "name": "stdout",
     "output_type": "stream",
     "text": [
      "\n",
      "\t ----- tradeoff_buffer: 0 ----- \n",
      "\t ----- reward: 0.67649304881669 for f_star and f_minus: 25.71735633872605 , 32.350695118331004\n",
      "[INFO] [2022-12-17 06:22:28,648] [OpenBox-SPO] Iteration 513, objective value: [30.69366130015797].\n"
     ]
    },
    {
     "name": "stderr",
     "output_type": "stream",
     "text": [
      "\r",
      " 51%|███████████████████████████████████████████████████████████████████████████████████████▋                                                                                   | 513/1000 [12:13:38<10:25:31, 77.07s/it]"
     ]
    },
    {
     "name": "stdout",
     "output_type": "stream",
     "text": [
      "\n",
      "\t ----- tradeoff_buffer: 0 ----- \n",
      "\t ----- reward: 0.6930633869984203 for f_star and f_minus: 25.71735633872605 , 30.69366130015797\n",
      "[INFO] [2022-12-17 06:23:44,065] [OpenBox-SPO] Iteration 514, objective value: [45.084009998588655].\n"
     ]
    },
    {
     "name": "stderr",
     "output_type": "stream",
     "text": [
      "\r",
      " 51%|███████████████████████████████████████████████████████████████████████████████████████▉                                                                                   | 514/1000 [12:14:54<10:20:13, 76.57s/it]"
     ]
    },
    {
     "name": "stdout",
     "output_type": "stream",
     "text": [
      "\n",
      "\t ----- tradeoff_buffer: 4 ----- \n",
      "\t ----- reward: 0.5491599000141134 for f_star and f_minus: 25.71735633872605 , 45.084009998588655\n",
      "[INFO] [2022-12-17 06:23:44,067] [Advisor] Sample random config. rand_prob=0.100000.\n",
      "[INFO] [2022-12-17 06:24:20,463] [OpenBox-SPO] Iteration 515, objective value: [58.00947314357263].\n"
     ]
    },
    {
     "name": "stderr",
     "output_type": "stream",
     "text": [
      "\r",
      " 52%|████████████████████████████████████████████████████████████████████████████████████████▌                                                                                   | 515/1000 [12:15:30<8:41:31, 64.52s/it]"
     ]
    },
    {
     "name": "stdout",
     "output_type": "stream",
     "text": [
      "\n",
      "\t ----- tradeoff_buffer: 4 ----- \n",
      "\t ----- reward: -1 for f_star and f_minus: 25.71735633872605 , 58.00947314357263\n",
      "[INFO] [2022-12-17 06:25:30,270] [OpenBox-SPO] Iteration 516, objective value: [41.50907251308939].\n"
     ]
    },
    {
     "name": "stderr",
     "output_type": "stream",
     "text": [
      "\r",
      " 52%|████████████████████████████████████████████████████████████████████████████████████████▊                                                                                   | 516/1000 [12:16:40<8:53:15, 66.11s/it]"
     ]
    },
    {
     "name": "stdout",
     "output_type": "stream",
     "text": [
      "\n",
      "\t ----- tradeoff_buffer: 1 ----- \n",
      "\t ----- reward: 0.584909274869106 for f_star and f_minus: 25.71735633872605 , 41.50907251308939\n",
      "[INFO] [2022-12-17 06:26:48,638] [OpenBox-SPO] Iteration 517, objective value: [33.90815042852111].\n"
     ]
    },
    {
     "name": "stderr",
     "output_type": "stream",
     "text": [
      "\r",
      " 52%|████████████████████████████████████████████████████████████████████████████████████████▉                                                                                   | 517/1000 [12:17:58<9:21:45, 69.78s/it]"
     ]
    },
    {
     "name": "stdout",
     "output_type": "stream",
     "text": [
      "\n",
      "\t ----- tradeoff_buffer: 2 ----- \n",
      "\t ----- reward: 0.6609184957147889 for f_star and f_minus: 25.71735633872605 , 33.90815042852111\n",
      "[INFO] [2022-12-17 06:26:48,639] [Advisor] Sample random config. rand_prob=0.100000.\n",
      "[INFO] [2022-12-17 06:27:23,021] [OpenBox-SPO] Iteration 518, objective value: [55.11706205823203].\n"
     ]
    },
    {
     "name": "stderr",
     "output_type": "stream",
     "text": [
      "\r",
      " 52%|█████████████████████████████████████████████████████████████████████████████████████████                                                                                   | 518/1000 [12:18:33<7:55:17, 59.16s/it]"
     ]
    },
    {
     "name": "stdout",
     "output_type": "stream",
     "text": [
      "\n",
      "\t ----- tradeoff_buffer: 0 ----- \n",
      "\t ----- reward: -1 for f_star and f_minus: 25.71735633872605 , 55.11706205823203\n",
      "[INFO] [2022-12-17 06:28:42,598] [OpenBox-SPO] Iteration 519, objective value: [40.75027764886412].\n"
     ]
    },
    {
     "name": "stderr",
     "output_type": "stream",
     "text": [
      "\r",
      " 52%|█████████████████████████████████████████████████████████████████████████████████████████▎                                                                                  | 519/1000 [12:19:52<8:43:23, 65.29s/it]"
     ]
    },
    {
     "name": "stdout",
     "output_type": "stream",
     "text": [
      "\n",
      "\t ----- tradeoff_buffer: 0 ----- \n",
      "\t ----- reward: 0.5924972235113588 for f_star and f_minus: 25.71735633872605 , 40.75027764886412\n",
      "[INFO] [2022-12-17 06:30:02,749] [OpenBox-SPO] Iteration 520, objective value: [45.26630987815696].\n"
     ]
    },
    {
     "name": "stderr",
     "output_type": "stream",
     "text": [
      "\r",
      " 52%|█████████████████████████████████████████████████████████████████████████████████████████▍                                                                                  | 520/1000 [12:21:12<9:17:58, 69.75s/it]"
     ]
    },
    {
     "name": "stdout",
     "output_type": "stream",
     "text": [
      "\n",
      "\t ----- tradeoff_buffer: 0 ----- \n",
      "\t ----- reward: 0.5473369012184304 for f_star and f_minus: 25.71735633872605 , 45.26630987815696\n",
      "[INFO] [2022-12-17 06:31:24,801] [OpenBox-SPO] Iteration 521, objective value: [34.77848716789792].\n"
     ]
    },
    {
     "name": "stderr",
     "output_type": "stream",
     "text": [
      "\r",
      " 52%|█████████████████████████████████████████████████████████████████████████████████████████▌                                                                                  | 521/1000 [12:22:34<9:46:16, 73.44s/it]"
     ]
    },
    {
     "name": "stdout",
     "output_type": "stream",
     "text": [
      "\n",
      "\t ----- tradeoff_buffer: 0 ----- \n",
      "\t ----- reward: 0.6522151283210208 for f_star and f_minus: 25.71735633872605 , 34.77848716789792\n",
      "[INFO] [2022-12-17 06:32:45,249] [OpenBox-SPO] Iteration 522, objective value: [34.97881426117621].\n"
     ]
    },
    {
     "name": "stderr",
     "output_type": "stream",
     "text": [
      "\r",
      " 52%|█████████████████████████████████████████████████████████████████████████████████████████▎                                                                                 | 522/1000 [12:23:55<10:01:48, 75.54s/it]"
     ]
    },
    {
     "name": "stdout",
     "output_type": "stream",
     "text": [
      "\n",
      "\t ----- tradeoff_buffer: 0 ----- \n",
      "\t ----- reward: 0.6502118573882378 for f_star and f_minus: 25.71735633872605 , 34.97881426117621\n",
      "[INFO] [2022-12-17 06:34:01,378] [OpenBox-SPO] Iteration 523, objective value: [38.12983325829629].\n"
     ]
    },
    {
     "name": "stderr",
     "output_type": "stream",
     "text": [
      "\r",
      " 52%|█████████████████████████████████████████████████████████████████████████████████████████▍                                                                                 | 523/1000 [12:25:11<10:01:57, 75.72s/it]"
     ]
    },
    {
     "name": "stdout",
     "output_type": "stream",
     "text": [
      "\n",
      "\t ----- tradeoff_buffer: 0 ----- \n",
      "\t ----- reward: 0.6187016674170371 for f_star and f_minus: 25.71735633872605 , 38.12983325829629\n",
      "[INFO] [2022-12-17 06:35:26,145] [OpenBox-SPO] Iteration 524, objective value: [29.381216681915674].\n"
     ]
    },
    {
     "name": "stderr",
     "output_type": "stream",
     "text": [
      "\r",
      " 52%|█████████████████████████████████████████████████████████████████████████████████████████▌                                                                                 | 524/1000 [12:26:36<10:22:13, 78.43s/it]"
     ]
    },
    {
     "name": "stdout",
     "output_type": "stream",
     "text": [
      "\n",
      "\t ----- tradeoff_buffer: 0 ----- \n",
      "\t ----- reward: 0.7061878331808433 for f_star and f_minus: 25.71735633872605 , 29.381216681915674\n",
      "[INFO] [2022-12-17 06:36:35,481] [OpenBox-SPO] Iteration 525, objective value: [39.597827007329045].\n"
     ]
    },
    {
     "name": "stderr",
     "output_type": "stream",
     "text": [
      "\r",
      " 52%|██████████████████████████████████████████████████████████████████████████████████████████▎                                                                                 | 525/1000 [12:27:45<9:59:19, 75.70s/it]"
     ]
    },
    {
     "name": "stdout",
     "output_type": "stream",
     "text": [
      "\n",
      "\t ----- tradeoff_buffer: 0 ----- \n",
      "\t ----- reward: 0.6040217299267095 for f_star and f_minus: 25.71735633872605 , 39.597827007329045\n",
      "[INFO] [2022-12-17 06:37:54,580] [OpenBox-SPO] Iteration 526, objective value: [28.797103797687].\n"
     ]
    },
    {
     "name": "stderr",
     "output_type": "stream",
     "text": [
      "\r",
      " 53%|█████████████████████████████████████████████████████████████████████████████████████████▉                                                                                 | 526/1000 [12:29:04<10:06:06, 76.72s/it]"
     ]
    },
    {
     "name": "stdout",
     "output_type": "stream",
     "text": [
      "\n",
      "\t ----- tradeoff_buffer: 0 ----- \n",
      "\t ----- reward: 0.7120289620231299 for f_star and f_minus: 25.71735633872605 , 28.797103797687\n",
      "[INFO] [2022-12-17 06:39:08,843] [OpenBox-SPO] Iteration 527, objective value: [35.96498917165485].\n"
     ]
    },
    {
     "name": "stderr",
     "output_type": "stream",
     "text": [
      "\r",
      " 53%|██████████████████████████████████████████████████████████████████████████████████████████▋                                                                                 | 527/1000 [12:30:18<9:59:00, 75.98s/it]"
     ]
    },
    {
     "name": "stdout",
     "output_type": "stream",
     "text": [
      "\n",
      "\t ----- tradeoff_buffer: 0 ----- \n",
      "\t ----- reward: 0.6403501082834515 for f_star and f_minus: 25.71735633872605 , 35.96498917165485\n",
      "[INFO] [2022-12-17 06:40:37,521] [OpenBox-SPO] Iteration 528, objective value: [35.04763926364156].\n"
     ]
    },
    {
     "name": "stderr",
     "output_type": "stream",
     "text": [
      "\r",
      " 53%|██████████████████████████████████████████████████████████████████████████████████████████▎                                                                                | 528/1000 [12:31:47<10:27:42, 79.79s/it]"
     ]
    },
    {
     "name": "stdout",
     "output_type": "stream",
     "text": [
      "\n",
      "\t ----- tradeoff_buffer: 0 ----- \n",
      "\t ----- reward: 0.6495236073635844 for f_star and f_minus: 25.71735633872605 , 35.04763926364156\n",
      "[INFO] [2022-12-17 06:41:51,993] [OpenBox-SPO] Iteration 529, objective value: [41.538187872132305].\n"
     ]
    },
    {
     "name": "stderr",
     "output_type": "stream",
     "text": [
      "\r",
      " 53%|██████████████████████████████████████████████████████████████████████████████████████████▍                                                                                | 529/1000 [12:33:02<10:13:50, 78.20s/it]"
     ]
    },
    {
     "name": "stdout",
     "output_type": "stream",
     "text": [
      "\n",
      "\t ----- tradeoff_buffer: 0 ----- \n",
      "\t ----- reward: 0.584618121278677 for f_star and f_minus: 25.71735633872605 , 41.538187872132305\n",
      "[INFO] [2022-12-17 06:43:11,544] [OpenBox-SPO] Iteration 530, objective value: [44.80562534677935].\n"
     ]
    },
    {
     "name": "stderr",
     "output_type": "stream",
     "text": [
      "\r",
      " 53%|██████████████████████████████████████████████████████████████████████████████████████████▋                                                                                | 530/1000 [12:34:21<10:15:43, 78.60s/it]"
     ]
    },
    {
     "name": "stdout",
     "output_type": "stream",
     "text": [
      "\n",
      "\t ----- tradeoff_buffer: 0 ----- \n",
      "\t ----- reward: 0.5519437465322066 for f_star and f_minus: 25.71735633872605 , 44.80562534677935\n",
      "[INFO] [2022-12-17 06:44:22,749] [OpenBox-SPO] Iteration 531, objective value: [34.484443845838314].\n"
     ]
    },
    {
     "name": "stderr",
     "output_type": "stream",
     "text": [
      "\r",
      " 53%|███████████████████████████████████████████████████████████████████████████████████████████▎                                                                                | 531/1000 [12:35:32<9:57:03, 76.38s/it]"
     ]
    },
    {
     "name": "stdout",
     "output_type": "stream",
     "text": [
      "\n",
      "\t ----- tradeoff_buffer: 0 ----- \n",
      "\t ----- reward: 0.6551555615416169 for f_star and f_minus: 25.71735633872605 , 34.484443845838314\n",
      "[INFO] [2022-12-17 06:45:50,626] [OpenBox-SPO] Iteration 532, objective value: [34.693642151122816].\n"
     ]
    },
    {
     "name": "stderr",
     "output_type": "stream",
     "text": [
      "\r",
      " 53%|██████████████████████████████████████████████████████████████████████████████████████████▉                                                                                | 532/1000 [12:37:00<10:22:41, 79.83s/it]"
     ]
    },
    {
     "name": "stdout",
     "output_type": "stream",
     "text": [
      "\n",
      "\t ----- tradeoff_buffer: 0 ----- \n",
      "\t ----- reward: 0.6530635784887718 for f_star and f_minus: 25.71735633872605 , 34.693642151122816\n",
      "[INFO] [2022-12-17 06:47:07,375] [OpenBox-SPO] Iteration 533, objective value: [30.026344467035074].\n"
     ]
    },
    {
     "name": "stderr",
     "output_type": "stream",
     "text": [
      "\r",
      " 53%|███████████████████████████████████████████████████████████████████████████████████████████▏                                                                               | 533/1000 [12:38:17<10:14:09, 78.91s/it]"
     ]
    },
    {
     "name": "stdout",
     "output_type": "stream",
     "text": [
      "\n",
      "\t ----- tradeoff_buffer: 0 ----- \n",
      "\t ----- reward: 0.6997365553296493 for f_star and f_minus: 25.71735633872605 , 30.026344467035074\n",
      "[INFO] [2022-12-17 06:48:25,417] [OpenBox-SPO] Iteration 534, objective value: [28.809483095554825].\n"
     ]
    },
    {
     "name": "stderr",
     "output_type": "stream",
     "text": [
      "\r",
      " 53%|███████████████████████████████████████████████████████████████████████████████████████████▎                                                                               | 534/1000 [12:39:35<10:10:49, 78.65s/it]"
     ]
    },
    {
     "name": "stdout",
     "output_type": "stream",
     "text": [
      "\n",
      "\t ----- tradeoff_buffer: 0 ----- \n",
      "\t ----- reward: 0.7119051690444518 for f_star and f_minus: 25.71735633872605 , 28.809483095554825\n",
      "[INFO] [2022-12-17 06:49:51,341] [OpenBox-SPO] Iteration 535, objective value: [36.63303312118842].\n"
     ]
    },
    {
     "name": "stderr",
     "output_type": "stream",
     "text": [
      "\r",
      " 54%|███████████████████████████████████████████████████████████████████████████████████████████▍                                                                               | 535/1000 [12:41:01<10:26:26, 80.83s/it]"
     ]
    },
    {
     "name": "stdout",
     "output_type": "stream",
     "text": [
      "\n",
      "\t ----- tradeoff_buffer: 0 ----- \n",
      "\t ----- reward: 0.6336696687881158 for f_star and f_minus: 25.71735633872605 , 36.63303312118842\n",
      "[INFO] [2022-12-17 06:51:04,803] [OpenBox-SPO] Iteration 536, objective value: [32.767030796753644].\n"
     ]
    },
    {
     "name": "stderr",
     "output_type": "stream",
     "text": [
      "\r",
      " 54%|███████████████████████████████████████████████████████████████████████████████████████████▋                                                                               | 536/1000 [12:42:14<10:07:59, 78.62s/it]"
     ]
    },
    {
     "name": "stdout",
     "output_type": "stream",
     "text": [
      "\n",
      "\t ----- tradeoff_buffer: 0 ----- \n",
      "\t ----- reward: 0.6723296920324635 for f_star and f_minus: 25.71735633872605 , 32.767030796753644\n",
      "[INFO] [2022-12-17 06:52:26,678] [OpenBox-SPO] Iteration 537, objective value: [32.802877385891804].\n"
     ]
    },
    {
     "name": "stderr",
     "output_type": "stream",
     "text": [
      "\r",
      " 54%|███████████████████████████████████████████████████████████████████████████████████████████▊                                                                               | 537/1000 [12:43:36<10:14:13, 79.60s/it]"
     ]
    },
    {
     "name": "stdout",
     "output_type": "stream",
     "text": [
      "\n",
      "\t ----- tradeoff_buffer: 0 ----- \n",
      "\t ----- reward: 0.671971226141082 for f_star and f_minus: 25.71735633872605 , 32.802877385891804\n",
      "[INFO] [2022-12-17 06:54:00,149] [OpenBox-SPO] Iteration 538, objective value: [29.53275148967937].\n"
     ]
    },
    {
     "name": "stderr",
     "output_type": "stream",
     "text": [
      "\r",
      " 54%|███████████████████████████████████████████████████████████████████████████████████████████▉                                                                               | 538/1000 [12:45:10<10:44:56, 83.76s/it]"
     ]
    },
    {
     "name": "stdout",
     "output_type": "stream",
     "text": [
      "\n",
      "\t ----- tradeoff_buffer: 3 ----- \n",
      "\t ----- reward: 0.7046724851032062 for f_star and f_minus: 25.71735633872605 , 29.53275148967937\n",
      "[INFO] [2022-12-17 06:55:14,361] [OpenBox-SPO] Iteration 539, objective value: [34.90512369590979].\n"
     ]
    },
    {
     "name": "stderr",
     "output_type": "stream",
     "text": [
      "\r",
      " 54%|████████████████████████████████████████████████████████████████████████████████████████████▏                                                                              | 539/1000 [12:46:24<10:21:32, 80.89s/it]"
     ]
    },
    {
     "name": "stdout",
     "output_type": "stream",
     "text": [
      "\n",
      "\t ----- tradeoff_buffer: 0 ----- \n",
      "\t ----- reward: 0.6509487630409021 for f_star and f_minus: 25.71735633872605 , 34.90512369590979\n",
      "[INFO] [2022-12-17 06:56:28,050] [OpenBox-SPO] Iteration 540, objective value: [39.10470294154508].\n"
     ]
    },
    {
     "name": "stderr",
     "output_type": "stream",
     "text": [
      "\r",
      " 54%|████████████████████████████████████████████████████████████████████████████████████████████▎                                                                              | 540/1000 [12:47:38<10:03:37, 78.73s/it]"
     ]
    },
    {
     "name": "stdout",
     "output_type": "stream",
     "text": [
      "\n",
      "\t ----- tradeoff_buffer: 0 ----- \n",
      "\t ----- reward: 0.6089529705845492 for f_star and f_minus: 25.71735633872605 , 39.10470294154508\n",
      "[INFO] [2022-12-17 06:57:49,929] [OpenBox-SPO] Iteration 541, objective value: [31.831333608401224].\n"
     ]
    },
    {
     "name": "stderr",
     "output_type": "stream",
     "text": [
      "\r",
      " 54%|████████████████████████████████████████████████████████████████████████████████████████████▌                                                                              | 541/1000 [12:48:59<10:09:31, 79.68s/it]"
     ]
    },
    {
     "name": "stdout",
     "output_type": "stream",
     "text": [
      "\n",
      "\t ----- tradeoff_buffer: 0 ----- \n",
      "\t ----- reward: 0.6816866639159878 for f_star and f_minus: 25.71735633872605 , 31.831333608401224\n",
      "[INFO] [2022-12-17 06:59:17,022] [OpenBox-SPO] Iteration 542, objective value: [29.28567422251149].\n"
     ]
    },
    {
     "name": "stderr",
     "output_type": "stream",
     "text": [
      "\r",
      " 54%|████████████████████████████████████████████████████████████████████████████████████████████▋                                                                              | 542/1000 [12:50:27<10:25:10, 81.90s/it]"
     ]
    },
    {
     "name": "stdout",
     "output_type": "stream",
     "text": [
      "\n",
      "\t ----- tradeoff_buffer: 0 ----- \n",
      "\t ----- reward: 0.7071432577748851 for f_star and f_minus: 25.71735633872605 , 29.28567422251149\n",
      "[INFO] [2022-12-17 07:00:32,648] [OpenBox-SPO] Iteration 543, objective value: [39.794109062307584].\n"
     ]
    },
    {
     "name": "stderr",
     "output_type": "stream",
     "text": [
      "\r",
      " 54%|████████████████████████████████████████████████████████████████████████████████████████████▊                                                                              | 543/1000 [12:51:42<10:09:28, 80.02s/it]"
     ]
    },
    {
     "name": "stdout",
     "output_type": "stream",
     "text": [
      "\n",
      "\t ----- tradeoff_buffer: 0 ----- \n",
      "\t ----- reward: 0.6020589093769242 for f_star and f_minus: 25.71735633872605 , 39.794109062307584\n",
      "[INFO] [2022-12-17 07:02:03,634] [OpenBox-SPO] Iteration 544, objective value: [32.26226436002564].\n"
     ]
    },
    {
     "name": "stderr",
     "output_type": "stream",
     "text": [
      "\r",
      " 54%|█████████████████████████████████████████████████████████████████████████████████████████████                                                                              | 544/1000 [12:53:13<10:33:08, 83.31s/it]"
     ]
    },
    {
     "name": "stdout",
     "output_type": "stream",
     "text": [
      "\n",
      "\t ----- tradeoff_buffer: 0 ----- \n",
      "\t ----- reward: 0.6773773563997436 for f_star and f_minus: 25.71735633872605 , 32.26226436002564\n",
      "[INFO] [2022-12-17 07:02:03,635] [Advisor] Sample random config. rand_prob=0.100000.\n",
      "[INFO] [2022-12-17 07:02:40,750] [OpenBox-SPO] Iteration 545, objective value: [49.274921356399204].\n"
     ]
    },
    {
     "name": "stderr",
     "output_type": "stream",
     "text": [
      "\r",
      " 55%|█████████████████████████████████████████████████████████████████████████████████████████████▋                                                                              | 545/1000 [12:53:50<8:46:40, 69.45s/it]"
     ]
    },
    {
     "name": "stdout",
     "output_type": "stream",
     "text": [
      "\n",
      "\t ----- tradeoff_buffer: 0 ----- \n",
      "\t ----- reward: 0.507250786436008 for f_star and f_minus: 25.71735633872605 , 49.274921356399204\n",
      "[INFO] [2022-12-17 07:04:00,015] [OpenBox-SPO] Iteration 546, objective value: [37.24477576259984].\n"
     ]
    },
    {
     "name": "stderr",
     "output_type": "stream",
     "text": [
      "\r",
      " 55%|█████████████████████████████████████████████████████████████████████████████████████████████▉                                                                              | 546/1000 [12:55:10<9:07:47, 72.40s/it]"
     ]
    },
    {
     "name": "stdout",
     "output_type": "stream",
     "text": [
      "\n",
      "\t ----- tradeoff_buffer: 0 ----- \n",
      "\t ----- reward: 0.6275522423740016 for f_star and f_minus: 25.71735633872605 , 37.24477576259984\n",
      "[INFO] [2022-12-17 07:05:14,342] [OpenBox-SPO] Iteration 547, objective value: [35.08705256011872].\n"
     ]
    },
    {
     "name": "stderr",
     "output_type": "stream",
     "text": [
      "\r",
      " 55%|██████████████████████████████████████████████████████████████████████████████████████████████                                                                              | 547/1000 [12:56:24<9:10:57, 72.97s/it]"
     ]
    },
    {
     "name": "stdout",
     "output_type": "stream",
     "text": [
      "\n",
      "\t ----- tradeoff_buffer: 0 ----- \n",
      "\t ----- reward: 0.6491294743988127 for f_star and f_minus: 25.71735633872605 , 35.08705256011872\n",
      "[INFO] [2022-12-17 07:05:14,344] [Advisor] Sample random config. rand_prob=0.100000.\n",
      "[INFO] [2022-12-17 07:05:49,559] [OpenBox-SPO] Iteration 548, objective value: [55.344379245348755].\n"
     ]
    },
    {
     "name": "stderr",
     "output_type": "stream",
     "text": [
      "\r",
      " 55%|██████████████████████████████████████████████████████████████████████████████████████████████▎                                                                             | 548/1000 [12:56:59<7:44:24, 61.65s/it]"
     ]
    },
    {
     "name": "stdout",
     "output_type": "stream",
     "text": [
      "\n",
      "\t ----- tradeoff_buffer: 0 ----- \n",
      "\t ----- reward: -1 for f_star and f_minus: 25.71735633872605 , 55.344379245348755\n",
      "[INFO] [2022-12-17 07:05:49,560] [Advisor] Sample random config. rand_prob=0.100000.\n",
      "[INFO] [2022-12-17 07:06:28,228] [OpenBox-SPO] Iteration 549, objective value: [60.47543350838126].\n"
     ]
    },
    {
     "name": "stderr",
     "output_type": "stream",
     "text": [
      "\r",
      " 55%|██████████████████████████████████████████████████████████████████████████████████████████████▍                                                                             | 549/1000 [12:57:38<6:51:34, 54.75s/it]"
     ]
    },
    {
     "name": "stdout",
     "output_type": "stream",
     "text": [
      "\n",
      "\t ----- tradeoff_buffer: 0 ----- \n",
      "\t ----- reward: -1 for f_star and f_minus: 25.71735633872605 , 60.47543350838126\n",
      "[INFO] [2022-12-17 07:07:45,583] [OpenBox-SPO] Iteration 550, objective value: [35.26519458986263].\n"
     ]
    },
    {
     "name": "stderr",
     "output_type": "stream",
     "text": [
      "\r",
      " 55%|██████████████████████████████████████████████████████████████████████████████████████████████▌                                                                             | 550/1000 [12:58:55<7:41:30, 61.53s/it]"
     ]
    },
    {
     "name": "stdout",
     "output_type": "stream",
     "text": [
      "\n",
      "\t ----- tradeoff_buffer: 2 ----- \n",
      "\t ----- reward: 0.6473480541013736 for f_star and f_minus: 25.71735633872605 , 35.26519458986263\n",
      "[INFO] [2022-12-17 07:09:18,308] [OpenBox-SPO] Iteration 551, objective value: [35.63120125681945].\n"
     ]
    },
    {
     "name": "stderr",
     "output_type": "stream",
     "text": [
      "\r",
      " 55%|██████████████████████████████████████████████████████████████████████████████████████████████▊                                                                             | 551/1000 [13:00:28<8:50:30, 70.89s/it]"
     ]
    },
    {
     "name": "stdout",
     "output_type": "stream",
     "text": [
      "\n",
      "\t ----- tradeoff_buffer: 0 ----- \n",
      "\t ----- reward: 0.6436879874318056 for f_star and f_minus: 25.71735633872605 , 35.63120125681945\n",
      "[INFO] [2022-12-17 07:10:40,314] [OpenBox-SPO] Iteration 552, objective value: [35.80777594345996].\n"
     ]
    },
    {
     "name": "stderr",
     "output_type": "stream",
     "text": [
      "\r",
      " 55%|██████████████████████████████████████████████████████████████████████████████████████████████▉                                                                             | 552/1000 [13:01:50<9:14:13, 74.23s/it]"
     ]
    },
    {
     "name": "stdout",
     "output_type": "stream",
     "text": [
      "\n",
      "\t ----- tradeoff_buffer: 0 ----- \n",
      "\t ----- reward: 0.6419222405654004 for f_star and f_minus: 25.71735633872605 , 35.80777594345996\n",
      "[INFO] [2022-12-17 07:10:40,315] [Advisor] Sample random config. rand_prob=0.100000.\n",
      "[INFO] [2022-12-17 07:11:12,885] [OpenBox-SPO] Iteration 553, objective value: [52.34492767869728].\n"
     ]
    },
    {
     "name": "stderr",
     "output_type": "stream",
     "text": [
      "\r",
      " 55%|███████████████████████████████████████████████████████████████████████████████████████████████                                                                             | 553/1000 [13:02:22<7:39:53, 61.73s/it]"
     ]
    },
    {
     "name": "stdout",
     "output_type": "stream",
     "text": [
      "\n",
      "\t ----- tradeoff_buffer: 0 ----- \n",
      "\t ----- reward: -1 for f_star and f_minus: 25.71735633872605 , 52.34492767869728\n",
      "[INFO] [2022-12-17 07:11:12,886] [Advisor] Sample random config. rand_prob=0.100000.\n",
      "[INFO] [2022-12-17 07:11:51,910] [OpenBox-SPO] Iteration 554, objective value: [49.23158917417797].\n"
     ]
    },
    {
     "name": "stderr",
     "output_type": "stream",
     "text": [
      "\r",
      " 55%|███████████████████████████████████████████████████████████████████████████████████████████████▎                                                                            | 554/1000 [13:03:01<6:48:13, 54.92s/it]"
     ]
    },
    {
     "name": "stdout",
     "output_type": "stream",
     "text": [
      "\n",
      "\t ----- tradeoff_buffer: 2 ----- \n",
      "\t ----- reward: 0.5076841082582203 for f_star and f_minus: 25.71735633872605 , 49.23158917417797\n",
      "[INFO] [2022-12-17 07:13:06,597] [OpenBox-SPO] Iteration 555, objective value: [39.62842122356416].\n"
     ]
    },
    {
     "name": "stderr",
     "output_type": "stream",
     "text": [
      "\r",
      " 56%|███████████████████████████████████████████████████████████████████████████████████████████████▍                                                                            | 555/1000 [13:04:16<7:31:17, 60.85s/it]"
     ]
    },
    {
     "name": "stdout",
     "output_type": "stream",
     "text": [
      "\n",
      "\t ----- tradeoff_buffer: 0 ----- \n",
      "\t ----- reward: 0.6037157877643584 for f_star and f_minus: 25.71735633872605 , 39.62842122356416\n",
      "[INFO] [2022-12-17 07:14:21,536] [OpenBox-SPO] Iteration 556, objective value: [33.03940936591795].\n"
     ]
    },
    {
     "name": "stderr",
     "output_type": "stream",
     "text": [
      "\r",
      " 56%|███████████████████████████████████████████████████████████████████████████████████████████████▋                                                                            | 556/1000 [13:05:31<8:01:33, 65.08s/it]"
     ]
    },
    {
     "name": "stdout",
     "output_type": "stream",
     "text": [
      "\n",
      "\t ----- tradeoff_buffer: 2 ----- \n",
      "\t ----- reward: 0.6696059063408205 for f_star and f_minus: 25.71735633872605 , 33.03940936591795\n",
      "[INFO] [2022-12-17 07:15:35,807] [OpenBox-SPO] Iteration 557, objective value: [28.95432304090353].\n"
     ]
    },
    {
     "name": "stderr",
     "output_type": "stream",
     "text": [
      "\r",
      " 56%|███████████████████████████████████████████████████████████████████████████████████████████████▊                                                                            | 557/1000 [13:06:45<8:20:50, 67.83s/it]"
     ]
    },
    {
     "name": "stdout",
     "output_type": "stream",
     "text": [
      "\n",
      "\t ----- tradeoff_buffer: 0 ----- \n",
      "\t ----- reward: 0.7104567695909647 for f_star and f_minus: 25.71735633872605 , 28.95432304090353\n",
      "[INFO] [2022-12-17 07:15:35,809] [Advisor] Sample random config. rand_prob=0.100000.\n",
      "[INFO] [2022-12-17 07:16:11,601] [OpenBox-SPO] Iteration 558, objective value: [45.22427700716067].\n"
     ]
    },
    {
     "name": "stderr",
     "output_type": "stream",
     "text": [
      "\r",
      " 56%|███████████████████████████████████████████████████████████████████████████████████████████████▉                                                                            | 558/1000 [13:07:21<7:08:54, 58.22s/it]"
     ]
    },
    {
     "name": "stdout",
     "output_type": "stream",
     "text": [
      "\n",
      "\t ----- tradeoff_buffer: 2 ----- \n",
      "\t ----- reward: 0.5477572299283933 for f_star and f_minus: 25.71735633872605 , 45.22427700716067\n",
      "[INFO] [2022-12-17 07:17:28,263] [OpenBox-SPO] Iteration 559, objective value: [45.07368609364707].\n"
     ]
    },
    {
     "name": "stderr",
     "output_type": "stream",
     "text": [
      "\r",
      " 56%|████████████████████████████████████████████████████████████████████████████████████████████████▏                                                                           | 559/1000 [13:08:38<7:48:35, 63.75s/it]"
     ]
    },
    {
     "name": "stdout",
     "output_type": "stream",
     "text": [
      "\n",
      "\t ----- tradeoff_buffer: 0 ----- \n",
      "\t ----- reward: 0.5492631390635293 for f_star and f_minus: 25.71735633872605 , 45.07368609364707\n",
      "[INFO] [2022-12-17 07:18:47,168] [OpenBox-SPO] Iteration 560, objective value: [35.15860146356491].\n"
     ]
    },
    {
     "name": "stderr",
     "output_type": "stream",
     "text": [
      "\r",
      " 56%|████████████████████████████████████████████████████████████████████████████████████████████████▎                                                                           | 560/1000 [13:09:57<8:20:51, 68.30s/it]"
     ]
    },
    {
     "name": "stdout",
     "output_type": "stream",
     "text": [
      "\n",
      "\t ----- tradeoff_buffer: 2 ----- \n",
      "\t ----- reward: 0.6484139853643509 for f_star and f_minus: 25.71735633872605 , 35.15860146356491\n",
      "[INFO] [2022-12-17 07:20:06,853] [OpenBox-SPO] Iteration 561, objective value: [41.89766652909792].\n"
     ]
    },
    {
     "name": "stderr",
     "output_type": "stream",
     "text": [
      "\r",
      " 56%|████████████████████████████████████████████████████████████████████████████████████████████████▍                                                                           | 561/1000 [13:11:16<8:44:42, 71.71s/it]"
     ]
    },
    {
     "name": "stdout",
     "output_type": "stream",
     "text": [
      "\n",
      "\t ----- tradeoff_buffer: 0 ----- \n",
      "\t ----- reward: 0.5810233347090208 for f_star and f_minus: 25.71735633872605 , 41.89766652909792\n",
      "[INFO] [2022-12-17 07:21:34,599] [OpenBox-SPO] Iteration 562, objective value: [30.915869966575187].\n"
     ]
    },
    {
     "name": "stderr",
     "output_type": "stream",
     "text": [
      "\r",
      " 56%|████████████████████████████████████████████████████████████████████████████████████████████████▋                                                                           | 562/1000 [13:12:44<9:18:37, 76.52s/it]"
     ]
    },
    {
     "name": "stdout",
     "output_type": "stream",
     "text": [
      "\n",
      "\t ----- tradeoff_buffer: 2 ----- \n",
      "\t ----- reward: 0.6908413003342482 for f_star and f_minus: 25.71735633872605 , 30.915869966575187\n",
      "[INFO] [2022-12-17 07:22:53,848] [OpenBox-SPO] Iteration 563, objective value: [29.89885419413079].\n"
     ]
    },
    {
     "name": "stderr",
     "output_type": "stream",
     "text": [
      "\r",
      " 56%|████████████████████████████████████████████████████████████████████████████████████████████████▊                                                                           | 563/1000 [13:14:03<9:23:18, 77.34s/it]"
     ]
    },
    {
     "name": "stdout",
     "output_type": "stream",
     "text": [
      "\n",
      "\t ----- tradeoff_buffer: 0 ----- \n",
      "\t ----- reward: 0.7010114580586921 for f_star and f_minus: 25.71735633872605 , 29.89885419413079\n",
      "[INFO] [2022-12-17 07:24:10,943] [OpenBox-SPO] Iteration 564, objective value: [41.602319691129374].\n"
     ]
    },
    {
     "name": "stderr",
     "output_type": "stream",
     "text": [
      "\r",
      " 56%|█████████████████████████████████████████████████████████████████████████████████████████████████                                                                           | 564/1000 [13:15:20<9:21:28, 77.27s/it]"
     ]
    },
    {
     "name": "stdout",
     "output_type": "stream",
     "text": [
      "\n",
      "\t ----- tradeoff_buffer: 2 ----- \n",
      "\t ----- reward: 0.5839768030887063 for f_star and f_minus: 25.71735633872605 , 41.602319691129374\n",
      "[INFO] [2022-12-17 07:24:10,944] [Advisor] Sample random config. rand_prob=0.100000.\n",
      "[INFO] [2022-12-17 07:24:54,204] [OpenBox-SPO] Iteration 565, objective value: [46.522515042342235].\n"
     ]
    },
    {
     "name": "stderr",
     "output_type": "stream",
     "text": [
      "\r",
      " 56%|█████████████████████████████████████████████████████████████████████████████████████████████████▏                                                                          | 565/1000 [13:16:04<8:06:13, 67.07s/it]"
     ]
    },
    {
     "name": "stdout",
     "output_type": "stream",
     "text": [
      "\n",
      "\t ----- tradeoff_buffer: 0 ----- \n",
      "\t ----- reward: 0.5347748495765776 for f_star and f_minus: 25.71735633872605 , 46.522515042342235\n",
      "[INFO] [2022-12-17 07:26:10,872] [OpenBox-SPO] Iteration 566, objective value: [41.86082620193707].\n"
     ]
    },
    {
     "name": "stderr",
     "output_type": "stream",
     "text": [
      "\r",
      " 57%|█████████████████████████████████████████████████████████████████████████████████████████████████▎                                                                          | 566/1000 [13:17:20<8:25:56, 69.95s/it]"
     ]
    },
    {
     "name": "stdout",
     "output_type": "stream",
     "text": [
      "\n",
      "\t ----- tradeoff_buffer: 2 ----- \n",
      "\t ----- reward: 0.5813917379806293 for f_star and f_minus: 25.71735633872605 , 41.86082620193707\n",
      "[INFO] [2022-12-17 07:27:36,128] [OpenBox-SPO] Iteration 567, objective value: [31.538152167338666].\n"
     ]
    },
    {
     "name": "stderr",
     "output_type": "stream",
     "text": [
      "\r",
      " 57%|█████████████████████████████████████████████████████████████████████████████████████████████████▌                                                                          | 567/1000 [13:18:46<8:57:55, 74.54s/it]"
     ]
    },
    {
     "name": "stdout",
     "output_type": "stream",
     "text": [
      "\n",
      "\t ----- tradeoff_buffer: 0 ----- \n",
      "\t ----- reward: 0.6846184783266134 for f_star and f_minus: 25.71735633872605 , 31.538152167338666\n",
      "[INFO] [2022-12-17 07:29:00,038] [OpenBox-SPO] Iteration 568, objective value: [34.35655956408125].\n"
     ]
    },
    {
     "name": "stderr",
     "output_type": "stream",
     "text": [
      "\r",
      " 57%|█████████████████████████████████████████████████████████████████████████████████████████████████▋                                                                          | 568/1000 [13:20:10<9:16:55, 77.35s/it]"
     ]
    },
    {
     "name": "stdout",
     "output_type": "stream",
     "text": [
      "\n",
      "\t ----- tradeoff_buffer: 4 ----- \n",
      "\t ----- reward: 0.6564344043591874 for f_star and f_minus: 25.71735633872605 , 34.35655956408125\n",
      "[INFO] [2022-12-17 07:30:14,579] [OpenBox-SPO] Iteration 569, objective value: [34.819844769327716].\n"
     ]
    },
    {
     "name": "stderr",
     "output_type": "stream",
     "text": [
      "\r",
      " 57%|█████████████████████████████████████████████████████████████████████████████████████████████████▊                                                                          | 569/1000 [13:21:24<9:09:34, 76.51s/it]"
     ]
    },
    {
     "name": "stdout",
     "output_type": "stream",
     "text": [
      "\n",
      "\t ----- tradeoff_buffer: 1 ----- \n",
      "\t ----- reward: 0.6518015523067229 for f_star and f_minus: 25.71735633872605 , 34.819844769327716\n",
      "[INFO] [2022-12-17 07:31:44,877] [OpenBox-SPO] Iteration 570, objective value: [34.548127901950195].\n"
     ]
    },
    {
     "name": "stderr",
     "output_type": "stream",
     "text": [
      "\r",
      " 57%|██████████████████████████████████████████████████████████████████████████████████████████████████                                                                          | 570/1000 [13:22:54<9:37:57, 80.64s/it]"
     ]
    },
    {
     "name": "stdout",
     "output_type": "stream",
     "text": [
      "\n",
      "\t ----- tradeoff_buffer: 2 ----- \n",
      "\t ----- reward: 0.6545187209804981 for f_star and f_minus: 25.71735633872605 , 34.548127901950195\n",
      "[INFO] [2022-12-17 07:31:44,879] [Advisor] Sample random config. rand_prob=0.100000.\n",
      "[INFO] [2022-12-17 07:32:25,252] [OpenBox-SPO] Iteration 571, objective value: [44.91517412361762].\n"
     ]
    },
    {
     "name": "stderr",
     "output_type": "stream",
     "text": [
      "\r",
      " 57%|██████████████████████████████████████████████████████████████████████████████████████████████████▏                                                                         | 571/1000 [13:23:35<8:10:13, 68.56s/it]"
     ]
    },
    {
     "name": "stdout",
     "output_type": "stream",
     "text": [
      "\n",
      "\t ----- tradeoff_buffer: 0 ----- \n",
      "\t ----- reward: 0.5508482587638238 for f_star and f_minus: 25.71735633872605 , 44.91517412361762\n",
      "[INFO] [2022-12-17 07:33:47,041] [OpenBox-SPO] Iteration 572, objective value: [40.65317297230757].\n"
     ]
    },
    {
     "name": "stderr",
     "output_type": "stream",
     "text": [
      "\r",
      " 57%|██████████████████████████████████████████████████████████████████████████████████████████████████▍                                                                         | 572/1000 [13:24:57<8:37:23, 72.53s/it]"
     ]
    },
    {
     "name": "stdout",
     "output_type": "stream",
     "text": [
      "\n",
      "\t ----- tradeoff_buffer: 2 ----- \n",
      "\t ----- reward: 0.5934682702769243 for f_star and f_minus: 25.71735633872605 , 40.65317297230757\n",
      "[INFO] [2022-12-17 07:35:07,326] [OpenBox-SPO] Iteration 573, objective value: [38.15509748639319].\n"
     ]
    },
    {
     "name": "stderr",
     "output_type": "stream",
     "text": [
      "\r",
      " 57%|██████████████████████████████████████████████████████████████████████████████████████████████████▌                                                                         | 573/1000 [13:26:17<8:52:44, 74.86s/it]"
     ]
    },
    {
     "name": "stdout",
     "output_type": "stream",
     "text": [
      "\n",
      "\t ----- tradeoff_buffer: 5 ----- \n",
      "\t ----- reward: 0.6184490251360681 for f_star and f_minus: 25.71735633872605 , 38.15509748639319\n",
      "[INFO] [2022-12-17 07:36:23,692] [OpenBox-SPO] Iteration 574, objective value: [31.771514220424663].\n"
     ]
    },
    {
     "name": "stderr",
     "output_type": "stream",
     "text": [
      "\r",
      " 57%|██████████████████████████████████████████████████████████████████████████████████████████████████▋                                                                         | 574/1000 [13:27:33<8:54:42, 75.31s/it]"
     ]
    },
    {
     "name": "stdout",
     "output_type": "stream",
     "text": [
      "\n",
      "\t ----- tradeoff_buffer: 4 ----- \n",
      "\t ----- reward: 0.6822848577957534 for f_star and f_minus: 25.71735633872605 , 31.771514220424663\n",
      "[INFO] [2022-12-17 07:37:42,104] [OpenBox-SPO] Iteration 575, objective value: [29.231493369994837].\n"
     ]
    },
    {
     "name": "stderr",
     "output_type": "stream",
     "text": [
      "\r",
      " 57%|██████████████████████████████████████████████████████████████████████████████████████████████████▉                                                                         | 575/1000 [13:28:52<9:00:02, 76.24s/it]"
     ]
    },
    {
     "name": "stdout",
     "output_type": "stream",
     "text": [
      "\n",
      "\t ----- tradeoff_buffer: 1 ----- \n",
      "\t ----- reward: 0.7076850663000516 for f_star and f_minus: 25.71735633872605 , 29.231493369994837\n",
      "[INFO] [2022-12-17 07:38:58,610] [OpenBox-SPO] Iteration 576, objective value: [38.621975382057386].\n"
     ]
    },
    {
     "name": "stderr",
     "output_type": "stream",
     "text": [
      "\r",
      " 58%|███████████████████████████████████████████████████████████████████████████████████████████████████                                                                         | 576/1000 [13:30:08<8:59:19, 76.32s/it]"
     ]
    },
    {
     "name": "stdout",
     "output_type": "stream",
     "text": [
      "\n",
      "\t ----- tradeoff_buffer: 2 ----- \n",
      "\t ----- reward: 0.6137802461794262 for f_star and f_minus: 25.71735633872605 , 38.621975382057386\n",
      "[INFO] [2022-12-17 07:40:16,465] [OpenBox-SPO] Iteration 577, objective value: [32.33875890468822].\n"
     ]
    },
    {
     "name": "stderr",
     "output_type": "stream",
     "text": [
      "\r",
      " 58%|███████████████████████████████████████████████████████████████████████████████████████████████████▏                                                                        | 577/1000 [13:31:26<9:01:18, 76.78s/it]"
     ]
    },
    {
     "name": "stdout",
     "output_type": "stream",
     "text": [
      "\n",
      "\t ----- tradeoff_buffer: 0 ----- \n",
      "\t ----- reward: 0.6766124109531177 for f_star and f_minus: 25.71735633872605 , 32.33875890468822\n",
      "[INFO] [2022-12-17 07:41:34,351] [OpenBox-SPO] Iteration 578, objective value: [41.08534998120651].\n"
     ]
    },
    {
     "name": "stderr",
     "output_type": "stream",
     "text": [
      "\r",
      " 58%|███████████████████████████████████████████████████████████████████████████████████████████████████▍                                                                        | 578/1000 [13:32:44<9:02:21, 77.11s/it]"
     ]
    },
    {
     "name": "stdout",
     "output_type": "stream",
     "text": [
      "\n",
      "\t ----- tradeoff_buffer: 2 ----- \n",
      "\t ----- reward: 0.5891465001879348 for f_star and f_minus: 25.71735633872605 , 41.08534998120651\n",
      "[INFO] [2022-12-17 07:43:02,555] [OpenBox-SPO] Iteration 579, objective value: [36.62087701499043].\n"
     ]
    },
    {
     "name": "stderr",
     "output_type": "stream",
     "text": [
      "\r",
      " 58%|███████████████████████████████████████████████████████████████████████████████████████████████████▌                                                                        | 579/1000 [13:34:12<9:24:25, 80.44s/it]"
     ]
    },
    {
     "name": "stdout",
     "output_type": "stream",
     "text": [
      "\n",
      "\t ----- tradeoff_buffer: 0 ----- \n",
      "\t ----- reward: 0.6337912298500957 for f_star and f_minus: 25.71735633872605 , 36.62087701499043\n",
      "[INFO] [2022-12-17 07:43:02,557] [Advisor] Sample random config. rand_prob=0.100000.\n",
      "[INFO] [2022-12-17 07:43:41,731] [OpenBox-SPO] Iteration 580, objective value: [55.559477941365685].\n"
     ]
    },
    {
     "name": "stderr",
     "output_type": "stream",
     "text": [
      "\r",
      " 58%|███████████████████████████████████████████████████████████████████████████████████████████████████▊                                                                        | 580/1000 [13:34:51<7:56:25, 68.06s/it]"
     ]
    },
    {
     "name": "stdout",
     "output_type": "stream",
     "text": [
      "\n",
      "\t ----- tradeoff_buffer: 2 ----- \n",
      "\t ----- reward: -1 for f_star and f_minus: 25.71735633872605 , 55.559477941365685\n",
      "[INFO] [2022-12-17 07:45:06,009] [OpenBox-SPO] Iteration 581, objective value: [39.565442156458154].\n"
     ]
    },
    {
     "name": "stderr",
     "output_type": "stream",
     "text": [
      "\r",
      " 58%|███████████████████████████████████████████████████████████████████████████████████████████████████▉                                                                        | 581/1000 [13:36:16<8:29:15, 72.93s/it]"
     ]
    },
    {
     "name": "stdout",
     "output_type": "stream",
     "text": [
      "\n",
      "\t ----- tradeoff_buffer: 0 ----- \n",
      "\t ----- reward: 0.6043455784354185 for f_star and f_minus: 25.71735633872605 , 39.565442156458154\n",
      "[INFO] [2022-12-17 07:46:23,837] [OpenBox-SPO] Iteration 582, objective value: [29.241274662905653].\n"
     ]
    },
    {
     "name": "stderr",
     "output_type": "stream",
     "text": [
      "\r",
      " 58%|████████████████████████████████████████████████████████████████████████████████████████████████████                                                                        | 582/1000 [13:37:33<8:38:17, 74.40s/it]"
     ]
    },
    {
     "name": "stdout",
     "output_type": "stream",
     "text": [
      "\n",
      "\t ----- tradeoff_buffer: 0 ----- \n",
      "\t ----- reward: 0.7075872533709435 for f_star and f_minus: 25.71735633872605 , 29.241274662905653\n",
      "[INFO] [2022-12-17 07:47:49,215] [OpenBox-SPO] Iteration 583, objective value: [29.724991474758212].\n"
     ]
    },
    {
     "name": "stderr",
     "output_type": "stream",
     "text": [
      "\r",
      " 58%|████████████████████████████████████████████████████████████████████████████████████████████████████▎                                                                       | 583/1000 [13:38:59<8:59:57, 77.69s/it]"
     ]
    },
    {
     "name": "stdout",
     "output_type": "stream",
     "text": [
      "\n",
      "\t ----- tradeoff_buffer: 0 ----- \n",
      "\t ----- reward: 0.7027500852524179 for f_star and f_minus: 25.71735633872605 , 29.724991474758212\n",
      "[INFO] [2022-12-17 07:49:09,119] [OpenBox-SPO] Iteration 584, objective value: [30.364634390200877].\n"
     ]
    },
    {
     "name": "stderr",
     "output_type": "stream",
     "text": [
      "\r",
      " 58%|████████████████████████████████████████████████████████████████████████████████████████████████████▍                                                                       | 584/1000 [13:40:19<9:03:15, 78.35s/it]"
     ]
    },
    {
     "name": "stdout",
     "output_type": "stream",
     "text": [
      "\n",
      "\t ----- tradeoff_buffer: 0 ----- \n",
      "\t ----- reward: 0.6963536560979913 for f_star and f_minus: 25.71735633872605 , 30.364634390200877\n",
      "[INFO] [2022-12-17 07:50:27,236] [OpenBox-SPO] Iteration 585, objective value: [29.823093280820117].\n"
     ]
    },
    {
     "name": "stderr",
     "output_type": "stream",
     "text": [
      "\r",
      " 58%|████████████████████████████████████████████████████████████████████████████████████████████████████▌                                                                       | 585/1000 [13:41:37<9:01:27, 78.28s/it]"
     ]
    },
    {
     "name": "stdout",
     "output_type": "stream",
     "text": [
      "\n",
      "\t ----- tradeoff_buffer: 0 ----- \n",
      "\t ----- reward: 0.7017690671917989 for f_star and f_minus: 25.71735633872605 , 29.823093280820117\n",
      "[INFO] [2022-12-17 07:51:39,586] [OpenBox-SPO] Iteration 586, objective value: [27.324071775924153].\n"
     ]
    },
    {
     "name": "stderr",
     "output_type": "stream",
     "text": [
      "\r",
      " 59%|████████████████████████████████████████████████████████████████████████████████████████████████████▊                                                                       | 586/1000 [13:42:49<8:47:52, 76.50s/it]"
     ]
    },
    {
     "name": "stdout",
     "output_type": "stream",
     "text": [
      "\n",
      "\t ----- tradeoff_buffer: 0 ----- \n",
      "\t ----- reward: 0.7267592822407585 for f_star and f_minus: 25.71735633872605 , 27.324071775924153\n",
      "[INFO] [2022-12-17 07:52:52,408] [OpenBox-SPO] Iteration 587, objective value: [26.159705829183594].\n"
     ]
    },
    {
     "name": "stderr",
     "output_type": "stream",
     "text": [
      "\r",
      " 59%|████████████████████████████████████████████████████████████████████████████████████████████████████▉                                                                       | 587/1000 [13:44:02<8:38:59, 75.40s/it]"
     ]
    },
    {
     "name": "stdout",
     "output_type": "stream",
     "text": [
      "\n",
      "\t ----- tradeoff_buffer: 0 ----- \n",
      "\t ----- reward: 0.7384029417081641 for f_star and f_minus: 25.71735633872605 , 26.159705829183594\n",
      "[INFO] [2022-12-17 07:54:12,601] [OpenBox-SPO] Iteration 588, objective value: [30.4072077903363].\n"
     ]
    },
    {
     "name": "stderr",
     "output_type": "stream",
     "text": [
      "\r",
      " 59%|█████████████████████████████████████████████████████████████████████████████████████████████████████▏                                                                      | 588/1000 [13:45:22<8:47:36, 76.84s/it]"
     ]
    },
    {
     "name": "stdout",
     "output_type": "stream",
     "text": [
      "\n",
      "\t ----- tradeoff_buffer: 0 ----- \n",
      "\t ----- reward: 0.695927922096637 for f_star and f_minus: 25.71735633872605 , 30.4072077903363\n",
      "[INFO] [2022-12-17 07:55:28,045] [OpenBox-SPO] Iteration 589, objective value: [32.31946772955918].\n"
     ]
    },
    {
     "name": "stderr",
     "output_type": "stream",
     "text": [
      "\r",
      " 59%|█████████████████████████████████████████████████████████████████████████████████████████████████████▎                                                                      | 589/1000 [13:46:38<8:43:28, 76.42s/it]"
     ]
    },
    {
     "name": "stdout",
     "output_type": "stream",
     "text": [
      "\n",
      "\t ----- tradeoff_buffer: 0 ----- \n",
      "\t ----- reward: 0.6768053227044082 for f_star and f_minus: 25.71735633872605 , 32.31946772955918\n",
      "[INFO] [2022-12-17 07:56:44,710] [OpenBox-SPO] Iteration 590, objective value: [39.323037813776004].\n"
     ]
    },
    {
     "name": "stderr",
     "output_type": "stream",
     "text": [
      "\r",
      " 59%|█████████████████████████████████████████████████████████████████████████████████████████████████████▍                                                                      | 590/1000 [13:47:54<8:42:42, 76.49s/it]"
     ]
    },
    {
     "name": "stdout",
     "output_type": "stream",
     "text": [
      "\n",
      "\t ----- tradeoff_buffer: 0 ----- \n",
      "\t ----- reward: 0.60676962186224 for f_star and f_minus: 25.71735633872605 , 39.323037813776004\n",
      "[INFO] [2022-12-17 07:56:44,712] [Advisor] Sample random config. rand_prob=0.100000.\n",
      "[INFO] [2022-12-17 07:57:20,086] [OpenBox-SPO] Iteration 591, objective value: [49.166269834427304].\n"
     ]
    },
    {
     "name": "stderr",
     "output_type": "stream",
     "text": [
      "\r",
      " 59%|█████████████████████████████████████████████████████████████████████████████████████████████████████▋                                                                      | 591/1000 [13:48:30<7:17:20, 64.16s/it]"
     ]
    },
    {
     "name": "stdout",
     "output_type": "stream",
     "text": [
      "\n",
      "\t ----- tradeoff_buffer: 0 ----- \n",
      "\t ----- reward: 0.5083373016557269 for f_star and f_minus: 25.71735633872605 , 49.166269834427304\n",
      "[INFO] [2022-12-17 07:58:35,679] [OpenBox-SPO] Iteration 592, objective value: [32.6765827013306].\n"
     ]
    },
    {
     "name": "stderr",
     "output_type": "stream",
     "text": [
      "\r",
      " 59%|█████████████████████████████████████████████████████████████████████████████████████████████████████▊                                                                      | 592/1000 [13:49:45<7:39:36, 67.59s/it]"
     ]
    },
    {
     "name": "stdout",
     "output_type": "stream",
     "text": [
      "\n",
      "\t ----- tradeoff_buffer: 0 ----- \n",
      "\t ----- reward: 0.673234172986694 for f_star and f_minus: 25.71735633872605 , 32.6765827013306\n",
      "[INFO] [2022-12-17 07:58:35,681] [Advisor] Sample random config. rand_prob=0.100000.\n",
      "[INFO] [2022-12-17 07:59:21,383] [OpenBox-SPO] Iteration 593, objective value: [56.19786008164665].\n"
     ]
    },
    {
     "name": "stderr",
     "output_type": "stream",
     "text": [
      "\r",
      " 59%|█████████████████████████████████████████████████████████████████████████████████████████████████████▉                                                                      | 593/1000 [13:50:31<6:53:56, 61.02s/it]"
     ]
    },
    {
     "name": "stdout",
     "output_type": "stream",
     "text": [
      "\n",
      "\t ----- tradeoff_buffer: 0 ----- \n",
      "\t ----- reward: -1 for f_star and f_minus: 25.71735633872605 , 56.19786008164665\n",
      "[INFO] [2022-12-17 08:00:39,573] [OpenBox-SPO] Iteration 594, objective value: [39.127790885113434].\n"
     ]
    },
    {
     "name": "stderr",
     "output_type": "stream",
     "text": [
      "\r",
      " 59%|██████████████████████████████████████████████████████████████████████████████████████████████████████▏                                                                     | 594/1000 [13:51:49<7:27:46, 66.17s/it]"
     ]
    },
    {
     "name": "stdout",
     "output_type": "stream",
     "text": [
      "\n",
      "\t ----- tradeoff_buffer: 0 ----- \n",
      "\t ----- reward: 0.6087220911488657 for f_star and f_minus: 25.71735633872605 , 39.127790885113434\n",
      "[INFO] [2022-12-17 08:01:51,964] [OpenBox-SPO] Iteration 595, objective value: [33.642959662997626].\n"
     ]
    },
    {
     "name": "stderr",
     "output_type": "stream",
     "text": [
      "\r",
      " 60%|██████████████████████████████████████████████████████████████████████████████████████████████████████▎                                                                     | 595/1000 [13:53:02<7:39:15, 68.04s/it]"
     ]
    },
    {
     "name": "stdout",
     "output_type": "stream",
     "text": [
      "\n",
      "\t ----- tradeoff_buffer: 0 ----- \n",
      "\t ----- reward: 0.6635704033700238 for f_star and f_minus: 25.71735633872605 , 33.642959662997626\n",
      "[INFO] [2022-12-17 08:03:11,459] [OpenBox-SPO] Iteration 596, objective value: [36.881208405510556].\n"
     ]
    },
    {
     "name": "stderr",
     "output_type": "stream",
     "text": [
      "\r",
      " 60%|██████████████████████████████████████████████████████████████████████████████████████████████████████▌                                                                     | 596/1000 [13:54:21<8:01:16, 71.48s/it]"
     ]
    },
    {
     "name": "stdout",
     "output_type": "stream",
     "text": [
      "\n",
      "\t ----- tradeoff_buffer: 0 ----- \n",
      "\t ----- reward: 0.6311879159448944 for f_star and f_minus: 25.71735633872605 , 36.881208405510556\n",
      "[INFO] [2022-12-17 08:04:22,542] [OpenBox-SPO] Iteration 597, objective value: [32.732053898928044].\n"
     ]
    },
    {
     "name": "stderr",
     "output_type": "stream",
     "text": [
      "\r",
      " 60%|██████████████████████████████████████████████████████████████████████████████████████████████████████▋                                                                     | 597/1000 [13:55:32<7:59:17, 71.36s/it]"
     ]
    },
    {
     "name": "stdout",
     "output_type": "stream",
     "text": [
      "\n",
      "\t ----- tradeoff_buffer: 0 ----- \n",
      "\t ----- reward: 0.6726794610107196 for f_star and f_minus: 25.71735633872605 , 32.732053898928044\n",
      "[INFO] [2022-12-17 08:06:00,267] [OpenBox-SPO] Iteration 598, objective value: [34.51613377573226].\n"
     ]
    },
    {
     "name": "stderr",
     "output_type": "stream",
     "text": [
      "\r",
      " 60%|██████████████████████████████████████████████████████████████████████████████████████████████████████▊                                                                     | 598/1000 [13:57:10<8:51:05, 79.27s/it]"
     ]
    },
    {
     "name": "stdout",
     "output_type": "stream",
     "text": [
      "\n",
      "\t ----- tradeoff_buffer: 0 ----- \n",
      "\t ----- reward: 0.6548386622426774 for f_star and f_minus: 25.71735633872605 , 34.51613377573226\n",
      "[INFO] [2022-12-17 08:07:23,909] [OpenBox-SPO] Iteration 599, objective value: [32.32144667869103].\n"
     ]
    },
    {
     "name": "stderr",
     "output_type": "stream",
     "text": [
      "\r",
      " 60%|███████████████████████████████████████████████████████████████████████████████████████████████████████                                                                     | 599/1000 [13:58:33<8:58:32, 80.58s/it]"
     ]
    },
    {
     "name": "stdout",
     "output_type": "stream",
     "text": [
      "\n",
      "\t ----- tradeoff_buffer: 0 ----- \n",
      "\t ----- reward: 0.6767855332130897 for f_star and f_minus: 25.71735633872605 , 32.32144667869103\n",
      "[INFO] [2022-12-17 08:08:45,561] [OpenBox-SPO] Iteration 600, objective value: [30.616608146964182].\n"
     ]
    },
    {
     "name": "stderr",
     "output_type": "stream",
     "text": [
      "\r",
      " 60%|███████████████████████████████████████████████████████████████████████████████████████████████████████▏                                                                    | 600/1000 [13:59:55<8:59:20, 80.90s/it]"
     ]
    },
    {
     "name": "stdout",
     "output_type": "stream",
     "text": [
      "\n",
      "\t ----- tradeoff_buffer: 0 ----- \n",
      "\t ----- reward: 0.6938339185303581 for f_star and f_minus: 25.71735633872605 , 30.616608146964182\n",
      "[INFO] [2022-12-17 08:09:57,272] [OpenBox-SPO] Iteration 601, objective value: [29.7761557075021].\n"
     ]
    },
    {
     "name": "stderr",
     "output_type": "stream",
     "text": [
      "\r",
      " 60%|███████████████████████████████████████████████████████████████████████████████████████████████████████▎                                                                    | 601/1000 [14:01:07<8:39:39, 78.14s/it]"
     ]
    },
    {
     "name": "stdout",
     "output_type": "stream",
     "text": [
      "\n",
      "\t ----- tradeoff_buffer: 0 ----- \n",
      "\t ----- reward: 0.7022384429249791 for f_star and f_minus: 25.71735633872605 , 29.7761557075021\n",
      "[INFO] [2022-12-17 08:11:11,155] [OpenBox-SPO] Iteration 602, objective value: [43.11173424964212].\n"
     ]
    },
    {
     "name": "stderr",
     "output_type": "stream",
     "text": [
      "\r",
      " 60%|███████████████████████████████████████████████████████████████████████████████████████████████████████▌                                                                    | 602/1000 [14:02:21<8:29:52, 76.87s/it]"
     ]
    },
    {
     "name": "stdout",
     "output_type": "stream",
     "text": [
      "\n",
      "\t ----- tradeoff_buffer: 0 ----- \n",
      "\t ----- reward: 0.5688826575035788 for f_star and f_minus: 25.71735633872605 , 43.11173424964212\n",
      "[INFO] [2022-12-17 08:12:41,593] [OpenBox-SPO] Iteration 603, objective value: [32.96794218897074].\n"
     ]
    },
    {
     "name": "stderr",
     "output_type": "stream",
     "text": [
      "\r",
      " 60%|███████████████████████████████████████████████████████████████████████████████████████████████████████▋                                                                    | 603/1000 [14:03:51<8:55:32, 80.94s/it]"
     ]
    },
    {
     "name": "stdout",
     "output_type": "stream",
     "text": [
      "\n",
      "\t ----- tradeoff_buffer: 0 ----- \n",
      "\t ----- reward: 0.6703205781102926 for f_star and f_minus: 25.71735633872605 , 32.96794218897074\n",
      "[INFO] [2022-12-17 08:13:49,672] [OpenBox-SPO] Iteration 604, objective value: [33.51745739131535].\n"
     ]
    },
    {
     "name": "stderr",
     "output_type": "stream",
     "text": [
      "\r",
      " 60%|███████████████████████████████████████████████████████████████████████████████████████████████████████▉                                                                    | 604/1000 [14:04:59<8:28:43, 77.08s/it]"
     ]
    },
    {
     "name": "stdout",
     "output_type": "stream",
     "text": [
      "\n",
      "\t ----- tradeoff_buffer: 0 ----- \n",
      "\t ----- reward: 0.6648254260868465 for f_star and f_minus: 25.71735633872605 , 33.51745739131535\n",
      "[INFO] [2022-12-17 08:15:19,245] [OpenBox-SPO] Iteration 605, objective value: [35.267741660893975].\n"
     ]
    },
    {
     "name": "stderr",
     "output_type": "stream",
     "text": [
      "\r",
      " 60%|████████████████████████████████████████████████████████████████████████████████████████████████████████                                                                    | 605/1000 [14:06:29<8:52:07, 80.83s/it]"
     ]
    },
    {
     "name": "stdout",
     "output_type": "stream",
     "text": [
      "\n",
      "\t ----- tradeoff_buffer: 0 ----- \n",
      "\t ----- reward: 0.6473225833910603 for f_star and f_minus: 25.71735633872605 , 35.267741660893975\n",
      "[INFO] [2022-12-17 08:16:44,915] [OpenBox-SPO] Iteration 606, objective value: [34.57361002075481].\n"
     ]
    },
    {
     "name": "stderr",
     "output_type": "stream",
     "text": [
      "\r",
      " 61%|████████████████████████████████████████████████████████████████████████████████████████████████████████▏                                                                   | 606/1000 [14:07:54<9:00:18, 82.28s/it]"
     ]
    },
    {
     "name": "stdout",
     "output_type": "stream",
     "text": [
      "\n",
      "\t ----- tradeoff_buffer: 0 ----- \n",
      "\t ----- reward: 0.6542638997924519 for f_star and f_minus: 25.71735633872605 , 34.57361002075481\n",
      "[INFO] [2022-12-17 08:18:01,607] [OpenBox-SPO] Iteration 607, objective value: [40.790246418211694].\n"
     ]
    },
    {
     "name": "stderr",
     "output_type": "stream",
     "text": [
      "\r",
      " 61%|████████████████████████████████████████████████████████████████████████████████████████████████████████▍                                                                   | 607/1000 [14:09:11<8:47:57, 80.60s/it]"
     ]
    },
    {
     "name": "stdout",
     "output_type": "stream",
     "text": [
      "\n",
      "\t ----- tradeoff_buffer: 0 ----- \n",
      "\t ----- reward: 0.592097535817883 for f_star and f_minus: 25.71735633872605 , 40.790246418211694\n",
      "[INFO] [2022-12-17 08:19:25,574] [OpenBox-SPO] Iteration 608, objective value: [32.560570273885176].\n"
     ]
    },
    {
     "name": "stderr",
     "output_type": "stream",
     "text": [
      "\r",
      " 61%|████████████████████████████████████████████████████████████████████████████████████████████████████████▌                                                                   | 608/1000 [14:10:35<8:53:12, 81.61s/it]"
     ]
    },
    {
     "name": "stdout",
     "output_type": "stream",
     "text": [
      "\n",
      "\t ----- tradeoff_buffer: 0 ----- \n",
      "\t ----- reward: 0.6743942972611483 for f_star and f_minus: 25.71735633872605 , 32.560570273885176\n",
      "[INFO] [2022-12-17 08:20:52,902] [OpenBox-SPO] Iteration 609, objective value: [36.89031978348045].\n"
     ]
    },
    {
     "name": "stderr",
     "output_type": "stream",
     "text": [
      "\r",
      " 61%|████████████████████████████████████████████████████████████████████████████████████████████████████████▋                                                                   | 609/1000 [14:12:02<9:03:01, 83.33s/it]"
     ]
    },
    {
     "name": "stdout",
     "output_type": "stream",
     "text": [
      "\n",
      "\t ----- tradeoff_buffer: 0 ----- \n",
      "\t ----- reward: 0.6310968021651955 for f_star and f_minus: 25.71735633872605 , 36.89031978348045\n",
      "[INFO] [2022-12-17 08:22:12,839] [OpenBox-SPO] Iteration 610, objective value: [34.62504400802425].\n"
     ]
    },
    {
     "name": "stderr",
     "output_type": "stream",
     "text": [
      "\r",
      " 61%|████████████████████████████████████████████████████████████████████████████████████████████████████████▉                                                                   | 610/1000 [14:13:22<8:55:01, 82.31s/it]"
     ]
    },
    {
     "name": "stdout",
     "output_type": "stream",
     "text": [
      "\n",
      "\t ----- tradeoff_buffer: 0 ----- \n",
      "\t ----- reward: 0.6537495599197576 for f_star and f_minus: 25.71735633872605 , 34.62504400802425\n",
      "[INFO] [2022-12-17 08:23:17,398] [OpenBox-SPO] Iteration 611, objective value: [31.127323797086177].\n"
     ]
    },
    {
     "name": "stderr",
     "output_type": "stream",
     "text": [
      "\r",
      " 61%|█████████████████████████████████████████████████████████████████████████████████████████████████████████                                                                   | 611/1000 [14:14:27<8:19:07, 76.98s/it]"
     ]
    },
    {
     "name": "stdout",
     "output_type": "stream",
     "text": [
      "\n",
      "\t ----- tradeoff_buffer: 0 ----- \n",
      "\t ----- reward: 0.6887267620291382 for f_star and f_minus: 25.71735633872605 , 31.127323797086177\n",
      "[INFO] [2022-12-17 08:24:41,930] [OpenBox-SPO] Iteration 612, objective value: [31.490322336381738].\n"
     ]
    },
    {
     "name": "stderr",
     "output_type": "stream",
     "text": [
      "\r",
      " 61%|█████████████████████████████████████████████████████████████████████████████████████████████████████████▎                                                                  | 612/1000 [14:15:51<8:32:28, 79.25s/it]"
     ]
    },
    {
     "name": "stdout",
     "output_type": "stream",
     "text": [
      "\n",
      "\t ----- tradeoff_buffer: 0 ----- \n",
      "\t ----- reward: 0.6850967766361826 for f_star and f_minus: 25.71735633872605 , 31.490322336381738\n",
      "[INFO] [2022-12-17 08:25:59,230] [OpenBox-SPO] Iteration 613, objective value: [32.154303543544785].\n"
     ]
    },
    {
     "name": "stderr",
     "output_type": "stream",
     "text": [
      "\r",
      " 61%|█████████████████████████████████████████████████████████████████████████████████████████████████████████▍                                                                  | 613/1000 [14:17:09<8:27:23, 78.66s/it]"
     ]
    },
    {
     "name": "stdout",
     "output_type": "stream",
     "text": [
      "\n",
      "\t ----- tradeoff_buffer: 0 ----- \n",
      "\t ----- reward: 0.6784569645645522 for f_star and f_minus: 25.71735633872605 , 32.154303543544785\n",
      "[INFO] [2022-12-17 08:27:24,933] [OpenBox-SPO] Iteration 614, objective value: [35.06828826613658].\n"
     ]
    },
    {
     "name": "stderr",
     "output_type": "stream",
     "text": [
      "\r",
      " 61%|█████████████████████████████████████████████████████████████████████████████████████████████████████████▌                                                                  | 614/1000 [14:18:34<8:39:39, 80.78s/it]"
     ]
    },
    {
     "name": "stdout",
     "output_type": "stream",
     "text": [
      "\n",
      "\t ----- tradeoff_buffer: 0 ----- \n",
      "\t ----- reward: 0.6493171173386343 for f_star and f_minus: 25.71735633872605 , 35.06828826613658\n",
      "[INFO] [2022-12-17 08:28:44,082] [OpenBox-SPO] Iteration 615, objective value: [33.72673003875293].\n"
     ]
    },
    {
     "name": "stderr",
     "output_type": "stream",
     "text": [
      "\r",
      " 62%|█████████████████████████████████████████████████████████████████████████████████████████████████████████▊                                                                  | 615/1000 [14:19:54<8:35:10, 80.29s/it]"
     ]
    },
    {
     "name": "stdout",
     "output_type": "stream",
     "text": [
      "\n",
      "\t ----- tradeoff_buffer: 0 ----- \n",
      "\t ----- reward: 0.6627326996124707 for f_star and f_minus: 25.71735633872605 , 33.72673003875293\n",
      "[INFO] [2022-12-17 08:30:10,492] [OpenBox-SPO] Iteration 616, objective value: [34.96266065188462].\n"
     ]
    },
    {
     "name": "stderr",
     "output_type": "stream",
     "text": [
      "\r",
      " 62%|█████████████████████████████████████████████████████████████████████████████████████████████████████████▉                                                                  | 616/1000 [14:21:20<8:45:35, 82.12s/it]"
     ]
    },
    {
     "name": "stdout",
     "output_type": "stream",
     "text": [
      "\n",
      "\t ----- tradeoff_buffer: 0 ----- \n",
      "\t ----- reward: 0.6503733934811537 for f_star and f_minus: 25.71735633872605 , 34.96266065188462\n",
      "[INFO] [2022-12-17 08:31:22,546] [OpenBox-SPO] Iteration 617, objective value: [34.23693991324053].\n"
     ]
    },
    {
     "name": "stderr",
     "output_type": "stream",
     "text": [
      "\r",
      " 62%|██████████████████████████████████████████████████████████████████████████████████████████████████████████                                                                  | 617/1000 [14:22:32<8:24:56, 79.10s/it]"
     ]
    },
    {
     "name": "stdout",
     "output_type": "stream",
     "text": [
      "\n",
      "\t ----- tradeoff_buffer: 0 ----- \n",
      "\t ----- reward: 0.6576306008675947 for f_star and f_minus: 25.71735633872605 , 34.23693991324053\n",
      "[INFO] [2022-12-17 08:32:37,398] [OpenBox-SPO] Iteration 618, objective value: [39.78798532129907].\n"
     ]
    },
    {
     "name": "stderr",
     "output_type": "stream",
     "text": [
      "\r",
      " 62%|██████████████████████████████████████████████████████████████████████████████████████████████████████████▎                                                                 | 618/1000 [14:23:47<8:15:30, 77.83s/it]"
     ]
    },
    {
     "name": "stdout",
     "output_type": "stream",
     "text": [
      "\n",
      "\t ----- tradeoff_buffer: 1 ----- \n",
      "\t ----- reward: 0.6021201467870093 for f_star and f_minus: 25.71735633872605 , 39.78798532129907\n",
      "[INFO] [2022-12-17 08:32:37,400] [Advisor] Sample random config. rand_prob=0.100000.\n",
      "[INFO] [2022-12-17 08:33:11,420] [OpenBox-SPO] Iteration 619, objective value: [49.44005465625413].\n"
     ]
    },
    {
     "name": "stderr",
     "output_type": "stream",
     "text": [
      "\r",
      " 62%|██████████████████████████████████████████████████████████████████████████████████████████████████████████▍                                                                 | 619/1000 [14:24:21<6:50:45, 64.69s/it]"
     ]
    },
    {
     "name": "stdout",
     "output_type": "stream",
     "text": [
      "\n",
      "\t ----- tradeoff_buffer: 2 ----- \n",
      "\t ----- reward: 0.5055994534374587 for f_star and f_minus: 25.71735633872605 , 49.44005465625413\n",
      "[INFO] [2022-12-17 08:34:31,173] [OpenBox-SPO] Iteration 620, objective value: [35.05467655114397].\n"
     ]
    },
    {
     "name": "stderr",
     "output_type": "stream",
     "text": [
      "\r",
      " 62%|██████████████████████████████████████████████████████████████████████████████████████████████████████████▋                                                                 | 620/1000 [14:25:41<7:18:18, 69.21s/it]"
     ]
    },
    {
     "name": "stdout",
     "output_type": "stream",
     "text": [
      "\n",
      "\t ----- tradeoff_buffer: 0 ----- \n",
      "\t ----- reward: 0.6494532344885603 for f_star and f_minus: 25.71735633872605 , 35.05467655114397\n",
      "[INFO] [2022-12-17 08:35:58,378] [OpenBox-SPO] Iteration 621, objective value: [35.18663644015008].\n"
     ]
    },
    {
     "name": "stderr",
     "output_type": "stream",
     "text": [
      "\r",
      " 62%|██████████████████████████████████████████████████████████████████████████████████████████████████████████▊                                                                 | 621/1000 [14:27:08<7:51:15, 74.61s/it]"
     ]
    },
    {
     "name": "stdout",
     "output_type": "stream",
     "text": [
      "\n",
      "\t ----- tradeoff_buffer: 0 ----- \n",
      "\t ----- reward: 0.6481336355984992 for f_star and f_minus: 25.71735633872605 , 35.18663644015008\n",
      "[INFO] [2022-12-17 08:37:13,894] [OpenBox-SPO] Iteration 622, objective value: [23.838144021021748].\n"
     ]
    },
    {
     "name": "stderr",
     "output_type": "stream",
     "text": [
      "\r",
      " 62%|██████████████████████████████████████████████████████████████████████████████████████████████████████████▉                                                                 | 622/1000 [14:28:23<7:51:44, 74.88s/it]"
     ]
    },
    {
     "name": "stdout",
     "output_type": "stream",
     "text": [
      "\n",
      "\t ----- tradeoff_buffer: 0 ----- \n",
      "\t ----- reward: 0.7616185597897825 for f_star and f_minus: 25.71735633872605 , 23.838144021021748\n",
      "[INFO] [2022-12-17 08:38:26,078] [OpenBox-SPO] Iteration 623, objective value: [29.494546166069057].\n"
     ]
    },
    {
     "name": "stderr",
     "output_type": "stream",
     "text": [
      "\r",
      " 62%|███████████████████████████████████████████████████████████████████████████████████████████████████████████▏                                                                | 623/1000 [14:29:36<7:45:24, 74.07s/it]"
     ]
    },
    {
     "name": "stdout",
     "output_type": "stream",
     "text": [
      "\n",
      "\t ----- tradeoff_buffer: 0 ----- \n",
      "\t ----- reward: 0.7050545383393094 for f_star and f_minus: 25.71735633872605 , 29.494546166069057\n",
      "[INFO] [2022-12-17 08:39:53,986] [OpenBox-SPO] Iteration 624, objective value: [29.217492156849445].\n"
     ]
    },
    {
     "name": "stderr",
     "output_type": "stream",
     "text": [
      "\r",
      " 62%|███████████████████████████████████████████████████████████████████████████████████████████████████████████▎                                                                | 624/1000 [14:31:04<8:10:11, 78.22s/it]"
     ]
    },
    {
     "name": "stdout",
     "output_type": "stream",
     "text": [
      "\n",
      "\t ----- tradeoff_buffer: 0 ----- \n",
      "\t ----- reward: 0.7078250784315055 for f_star and f_minus: 23.838144021021748 , 29.217492156849445\n",
      "[INFO] [2022-12-17 08:41:02,918] [OpenBox-SPO] Iteration 625, objective value: [38.659299905938816].\n"
     ]
    },
    {
     "name": "stderr",
     "output_type": "stream",
     "text": [
      "\r",
      " 62%|███████████████████████████████████████████████████████████████████████████████████████████████████████████▌                                                                | 625/1000 [14:32:12<7:51:27, 75.43s/it]"
     ]
    },
    {
     "name": "stdout",
     "output_type": "stream",
     "text": [
      "\n",
      "\t ----- tradeoff_buffer: 0 ----- \n",
      "\t ----- reward: 0.6134070009406118 for f_star and f_minus: 23.838144021021748 , 38.659299905938816\n",
      "[INFO] [2022-12-17 08:42:16,308] [OpenBox-SPO] Iteration 626, objective value: [36.88480666903013].\n"
     ]
    },
    {
     "name": "stderr",
     "output_type": "stream",
     "text": [
      "\r",
      " 63%|███████████████████████████████████████████████████████████████████████████████████████████████████████████▋                                                                | 626/1000 [14:33:26<7:46:23, 74.82s/it]"
     ]
    },
    {
     "name": "stdout",
     "output_type": "stream",
     "text": [
      "\n",
      "\t ----- tradeoff_buffer: 0 ----- \n",
      "\t ----- reward: 0.6311519333096987 for f_star and f_minus: 23.838144021021748 , 36.88480666903013\n",
      "[INFO] [2022-12-17 08:43:49,562] [OpenBox-SPO] Iteration 627, objective value: [26.799485182929743].\n"
     ]
    },
    {
     "name": "stderr",
     "output_type": "stream",
     "text": [
      "\r",
      " 63%|███████████████████████████████████████████████████████████████████████████████████████████████████████████▊                                                                | 627/1000 [14:34:59<8:19:30, 80.35s/it]"
     ]
    },
    {
     "name": "stdout",
     "output_type": "stream",
     "text": [
      "\n",
      "\t ----- tradeoff_buffer: 0 ----- \n",
      "\t ----- reward: 0.7320051481707026 for f_star and f_minus: 23.838144021021748 , 26.799485182929743\n",
      "[INFO] [2022-12-17 08:45:14,540] [OpenBox-SPO] Iteration 628, objective value: [33.76054771179736].\n"
     ]
    },
    {
     "name": "stderr",
     "output_type": "stream",
     "text": [
      "\r",
      " 63%|████████████████████████████████████████████████████████████████████████████████████████████████████████████                                                                | 628/1000 [14:36:24<8:26:46, 81.74s/it]"
     ]
    },
    {
     "name": "stdout",
     "output_type": "stream",
     "text": [
      "\n",
      "\t ----- tradeoff_buffer: 0 ----- \n",
      "\t ----- reward: 0.6623945228820265 for f_star and f_minus: 23.838144021021748 , 33.76054771179736\n",
      "[INFO] [2022-12-17 08:46:34,214] [OpenBox-SPO] Iteration 629, objective value: [30.94325683360198].\n"
     ]
    },
    {
     "name": "stderr",
     "output_type": "stream",
     "text": [
      "\r",
      " 63%|████████████████████████████████████████████████████████████████████████████████████████████████████████████▏                                                               | 629/1000 [14:37:44<8:21:35, 81.12s/it]"
     ]
    },
    {
     "name": "stdout",
     "output_type": "stream",
     "text": [
      "\n",
      "\t ----- tradeoff_buffer: 0 ----- \n",
      "\t ----- reward: 0.6905674316639803 for f_star and f_minus: 23.838144021021748 , 30.94325683360198\n",
      "[INFO] [2022-12-17 08:47:46,728] [OpenBox-SPO] Iteration 630, objective value: [45.429429565256264].\n"
     ]
    },
    {
     "name": "stderr",
     "output_type": "stream",
     "text": [
      "\r",
      " 63%|████████████████████████████████████████████████████████████████████████████████████████████████████████████▎                                                               | 630/1000 [14:38:56<8:04:19, 78.54s/it]"
     ]
    },
    {
     "name": "stdout",
     "output_type": "stream",
     "text": [
      "\n",
      "\t ----- tradeoff_buffer: 0 ----- \n",
      "\t ----- reward: 0.5457057043474374 for f_star and f_minus: 23.838144021021748 , 45.429429565256264\n",
      "[INFO] [2022-12-17 08:49:16,112] [OpenBox-SPO] Iteration 631, objective value: [46.82834982481594].\n"
     ]
    },
    {
     "name": "stderr",
     "output_type": "stream",
     "text": [
      "\r",
      " 63%|████████████████████████████████████████████████████████████████████████████████████████████████████████████▌                                                               | 631/1000 [14:40:26<8:23:01, 81.79s/it]"
     ]
    },
    {
     "name": "stdout",
     "output_type": "stream",
     "text": [
      "\n",
      "\t ----- tradeoff_buffer: 0 ----- \n",
      "\t ----- reward: 0.5317165017518406 for f_star and f_minus: 23.838144021021748 , 46.82834982481594\n",
      "[INFO] [2022-12-17 08:50:43,654] [OpenBox-SPO] Iteration 632, objective value: [39.52295665727188].\n"
     ]
    },
    {
     "name": "stderr",
     "output_type": "stream",
     "text": [
      "\r",
      " 63%|████████████████████████████████████████████████████████████████████████████████████████████████████████████▋                                                               | 632/1000 [14:41:53<8:32:14, 83.52s/it]"
     ]
    },
    {
     "name": "stdout",
     "output_type": "stream",
     "text": [
      "\n",
      "\t ----- tradeoff_buffer: 0 ----- \n",
      "\t ----- reward: 0.6047704334272812 for f_star and f_minus: 23.838144021021748 , 39.52295665727188\n",
      "[INFO] [2022-12-17 08:52:04,478] [OpenBox-SPO] Iteration 633, objective value: [33.80603121692374].\n"
     ]
    },
    {
     "name": "stderr",
     "output_type": "stream",
     "text": [
      "\r",
      " 63%|████████████████████████████████████████████████████████████████████████████████████████████████████████████▉                                                               | 633/1000 [14:43:14<8:25:54, 82.71s/it]"
     ]
    },
    {
     "name": "stdout",
     "output_type": "stream",
     "text": [
      "\n",
      "\t ----- tradeoff_buffer: 5 ----- \n",
      "\t ----- reward: 0.6619396878307626 for f_star and f_minus: 23.838144021021748 , 33.80603121692374\n",
      "[INFO] [2022-12-17 08:53:18,384] [OpenBox-SPO] Iteration 634, objective value: [30.849250685015022].\n"
     ]
    },
    {
     "name": "stderr",
     "output_type": "stream",
     "text": [
      "\r",
      " 63%|█████████████████████████████████████████████████████████████████████████████████████████████████████████████                                                               | 634/1000 [14:44:28<8:08:24, 80.07s/it]"
     ]
    },
    {
     "name": "stdout",
     "output_type": "stream",
     "text": [
      "\n",
      "\t ----- tradeoff_buffer: 3 ----- \n",
      "\t ----- reward: 0.6915074931498497 for f_star and f_minus: 23.838144021021748 , 30.849250685015022\n",
      "[INFO] [2022-12-17 08:54:37,338] [OpenBox-SPO] Iteration 635, objective value: [30.944590065609987].\n"
     ]
    },
    {
     "name": "stderr",
     "output_type": "stream",
     "text": [
      "\r",
      " 64%|█████████████████████████████████████████████████████████████████████████████████████████████████████████████▏                                                              | 635/1000 [14:45:47<8:05:02, 79.73s/it]"
     ]
    },
    {
     "name": "stdout",
     "output_type": "stream",
     "text": [
      "\n",
      "\t ----- tradeoff_buffer: 7 ----- \n",
      "\t ----- reward: 0.6905540993439001 for f_star and f_minus: 23.838144021021748 , 30.944590065609987\n",
      "[INFO] [2022-12-17 08:55:58,891] [OpenBox-SPO] Iteration 636, objective value: [28.940516415305268].\n"
     ]
    },
    {
     "name": "stderr",
     "output_type": "stream",
     "text": [
      "\r",
      " 64%|█████████████████████████████████████████████████████████████████████████████████████████████████████████████▍                                                              | 636/1000 [14:47:08<8:07:01, 80.28s/it]"
     ]
    },
    {
     "name": "stdout",
     "output_type": "stream",
     "text": [
      "\n",
      "\t ----- tradeoff_buffer: 2 ----- \n",
      "\t ----- reward: 0.7105948358469474 for f_star and f_minus: 23.838144021021748 , 28.940516415305268\n",
      "[INFO] [2022-12-17 08:57:12,448] [OpenBox-SPO] Iteration 637, objective value: [28.958046055358352].\n"
     ]
    },
    {
     "name": "stderr",
     "output_type": "stream",
     "text": [
      "\r",
      " 64%|█████████████████████████████████████████████████████████████████████████████████████████████████████████████▌                                                              | 637/1000 [14:48:22<7:53:29, 78.26s/it]"
     ]
    },
    {
     "name": "stdout",
     "output_type": "stream",
     "text": [
      "\n",
      "\t ----- tradeoff_buffer: 6 ----- \n",
      "\t ----- reward: 0.7104195394464166 for f_star and f_minus: 23.838144021021748 , 28.958046055358352\n",
      "[INFO] [2022-12-17 08:58:44,536] [OpenBox-SPO] Iteration 638, objective value: [30.292776037233352].\n"
     ]
    },
    {
     "name": "stderr",
     "output_type": "stream",
     "text": [
      "\r",
      " 64%|█████████████████████████████████████████████████████████████████████████████████████████████████████████████▋                                                              | 638/1000 [14:49:54<8:17:12, 82.41s/it]"
     ]
    },
    {
     "name": "stdout",
     "output_type": "stream",
     "text": [
      "\n",
      "\t ----- tradeoff_buffer: 7 ----- \n",
      "\t ----- reward: 0.6970722396276665 for f_star and f_minus: 23.838144021021748 , 30.292776037233352\n",
      "[INFO] [2022-12-17 09:00:02,422] [OpenBox-SPO] Iteration 639, objective value: [33.5870804666646].\n"
     ]
    },
    {
     "name": "stderr",
     "output_type": "stream",
     "text": [
      "\r",
      " 64%|█████████████████████████████████████████████████████████████████████████████████████████████████████████████▉                                                              | 639/1000 [14:51:12<8:07:40, 81.05s/it]"
     ]
    },
    {
     "name": "stdout",
     "output_type": "stream",
     "text": [
      "\n",
      "\t ----- tradeoff_buffer: 2 ----- \n",
      "\t ----- reward: 0.6641291953333539 for f_star and f_minus: 23.838144021021748 , 33.5870804666646\n",
      "[INFO] [2022-12-17 09:00:02,424] [Advisor] Sample random config. rand_prob=0.100000.\n",
      "[INFO] [2022-12-17 09:00:39,434] [OpenBox-SPO] Iteration 640, objective value: [51.10515905649488].\n"
     ]
    },
    {
     "name": "stderr",
     "output_type": "stream",
     "text": [
      "\r",
      " 64%|██████████████████████████████████████████████████████████████████████████████████████████████████████████████                                                              | 640/1000 [14:51:49<6:47:02, 67.84s/it]"
     ]
    },
    {
     "name": "stdout",
     "output_type": "stream",
     "text": [
      "\n",
      "\t ----- tradeoff_buffer: 0 ----- \n",
      "\t ----- reward: -1 for f_star and f_minus: 23.838144021021748 , 51.10515905649488\n",
      "[INFO] [2022-12-17 09:02:08,468] [OpenBox-SPO] Iteration 641, objective value: [32.67415276633136].\n"
     ]
    },
    {
     "name": "stderr",
     "output_type": "stream",
     "text": [
      "\r",
      " 64%|██████████████████████████████████████████████████████████████████████████████████████████████████████████████▎                                                             | 641/1000 [14:53:18<7:23:57, 74.20s/it]"
     ]
    },
    {
     "name": "stdout",
     "output_type": "stream",
     "text": [
      "\n",
      "\t ----- tradeoff_buffer: 0 ----- \n",
      "\t ----- reward: 0.6732584723366863 for f_star and f_minus: 23.838144021021748 , 32.67415276633136\n",
      "[INFO] [2022-12-17 09:03:30,041] [OpenBox-SPO] Iteration 642, objective value: [33.8574255503261].\n"
     ]
    },
    {
     "name": "stderr",
     "output_type": "stream",
     "text": [
      "\r",
      " 64%|██████████████████████████████████████████████████████████████████████████████████████████████████████████████▍                                                             | 642/1000 [14:54:40<7:35:55, 76.41s/it]"
     ]
    },
    {
     "name": "stdout",
     "output_type": "stream",
     "text": [
      "\n",
      "\t ----- tradeoff_buffer: 0 ----- \n",
      "\t ----- reward: 0.6614257444967391 for f_star and f_minus: 23.838144021021748 , 33.8574255503261\n",
      "[INFO] [2022-12-17 09:04:45,206] [OpenBox-SPO] Iteration 643, objective value: [29.694203630738826].\n"
     ]
    },
    {
     "name": "stderr",
     "output_type": "stream",
     "text": [
      "\r",
      " 64%|██████████████████████████████████████████████████████████████████████████████████████████████████████████████▌                                                             | 643/1000 [14:55:55<7:32:25, 76.04s/it]"
     ]
    },
    {
     "name": "stdout",
     "output_type": "stream",
     "text": [
      "\n",
      "\t ----- tradeoff_buffer: 0 ----- \n",
      "\t ----- reward: 0.7030579636926118 for f_star and f_minus: 23.838144021021748 , 29.694203630738826\n",
      "[INFO] [2022-12-17 09:05:58,006] [OpenBox-SPO] Iteration 644, objective value: [31.95595924753637].\n"
     ]
    },
    {
     "name": "stderr",
     "output_type": "stream",
     "text": [
      "\r",
      " 64%|██████████████████████████████████████████████████████████████████████████████████████████████████████████████▊                                                             | 644/1000 [14:57:08<7:25:23, 75.07s/it]"
     ]
    },
    {
     "name": "stdout",
     "output_type": "stream",
     "text": [
      "\n",
      "\t ----- tradeoff_buffer: 0 ----- \n",
      "\t ----- reward: 0.6804404075246363 for f_star and f_minus: 23.838144021021748 , 31.95595924753637\n",
      "[INFO] [2022-12-17 09:05:58,007] [Advisor] Sample random config. rand_prob=0.100000.\n",
      "[INFO] [2022-12-17 09:06:36,381] [OpenBox-SPO] Iteration 645, objective value: [46.27283354870191].\n"
     ]
    },
    {
     "name": "stderr",
     "output_type": "stream",
     "text": [
      "\r",
      " 64%|██████████████████████████████████████████████████████████████████████████████████████████████████████████████▉                                                             | 645/1000 [14:57:46<6:19:00, 64.06s/it]"
     ]
    },
    {
     "name": "stdout",
     "output_type": "stream",
     "text": [
      "\n",
      "\t ----- tradeoff_buffer: 0 ----- \n",
      "\t ----- reward: 0.5372716645129809 for f_star and f_minus: 23.838144021021748 , 46.27283354870191\n",
      "[INFO] [2022-12-17 09:08:00,661] [OpenBox-SPO] Iteration 646, objective value: [32.55980370047672].\n"
     ]
    },
    {
     "name": "stderr",
     "output_type": "stream",
     "text": [
      "\r",
      " 65%|███████████████████████████████████████████████████████████████████████████████████████████████████████████████                                                             | 646/1000 [14:59:10<6:53:44, 70.13s/it]"
     ]
    },
    {
     "name": "stdout",
     "output_type": "stream",
     "text": [
      "\n",
      "\t ----- tradeoff_buffer: 0 ----- \n",
      "\t ----- reward: 0.6744019629952328 for f_star and f_minus: 23.838144021021748 , 32.55980370047672\n",
      "[INFO] [2022-12-17 09:09:18,895] [OpenBox-SPO] Iteration 647, objective value: [27.938995212222622].\n"
     ]
    },
    {
     "name": "stderr",
     "output_type": "stream",
     "text": [
      "\r",
      " 65%|███████████████████████████████████████████████████████████████████████████████████████████████████████████████▎                                                            | 647/1000 [15:00:28<7:06:52, 72.56s/it]"
     ]
    },
    {
     "name": "stdout",
     "output_type": "stream",
     "text": [
      "\n",
      "\t ----- tradeoff_buffer: 0 ----- \n",
      "\t ----- reward: 0.7206100478777737 for f_star and f_minus: 23.838144021021748 , 27.938995212222622\n",
      "[INFO] [2022-12-17 09:10:36,580] [OpenBox-SPO] Iteration 648, objective value: [33.207162203733105].\n"
     ]
    },
    {
     "name": "stderr",
     "output_type": "stream",
     "text": [
      "\r",
      " 65%|███████████████████████████████████████████████████████████████████████████████████████████████████████████████▍                                                            | 648/1000 [15:01:46<7:14:41, 74.10s/it]"
     ]
    },
    {
     "name": "stdout",
     "output_type": "stream",
     "text": [
      "\n",
      "\t ----- tradeoff_buffer: 0 ----- \n",
      "\t ----- reward: 0.667928377962669 for f_star and f_minus: 23.838144021021748 , 33.207162203733105\n",
      "[INFO] [2022-12-17 09:12:00,131] [OpenBox-SPO] Iteration 649, objective value: [30.591834814480507].\n"
     ]
    },
    {
     "name": "stderr",
     "output_type": "stream",
     "text": [
      "\r",
      " 65%|███████████████████████████████████████████████████████████████████████████████████████████████████████████████▋                                                            | 649/1000 [15:03:10<7:30:03, 76.93s/it]"
     ]
    },
    {
     "name": "stdout",
     "output_type": "stream",
     "text": [
      "\n",
      "\t ----- tradeoff_buffer: 0 ----- \n",
      "\t ----- reward: 0.6940816518551949 for f_star and f_minus: 23.838144021021748 , 30.591834814480507\n",
      "[INFO] [2022-12-17 09:13:16,408] [OpenBox-SPO] Iteration 650, objective value: [36.425254732889435].\n"
     ]
    },
    {
     "name": "stderr",
     "output_type": "stream",
     "text": [
      "\r",
      " 65%|███████████████████████████████████████████████████████████████████████████████████████████████████████████████▊                                                            | 650/1000 [15:04:26<7:27:37, 76.74s/it]"
     ]
    },
    {
     "name": "stdout",
     "output_type": "stream",
     "text": [
      "\n",
      "\t ----- tradeoff_buffer: 0 ----- \n",
      "\t ----- reward: 0.6357474526711057 for f_star and f_minus: 23.838144021021748 , 36.425254732889435\n",
      "[INFO] [2022-12-17 09:14:35,463] [OpenBox-SPO] Iteration 651, objective value: [32.96793087125968].\n"
     ]
    },
    {
     "name": "stderr",
     "output_type": "stream",
     "text": [
      "\r",
      " 65%|███████████████████████████████████████████████████████████████████████████████████████████████████████████████▉                                                            | 651/1000 [15:05:45<7:30:23, 77.43s/it]"
     ]
    },
    {
     "name": "stdout",
     "output_type": "stream",
     "text": [
      "\n",
      "\t ----- tradeoff_buffer: 0 ----- \n",
      "\t ----- reward: 0.6703206912874031 for f_star and f_minus: 23.838144021021748 , 32.96793087125968\n",
      "[INFO] [2022-12-17 09:15:51,679] [OpenBox-SPO] Iteration 652, objective value: [31.053776581185915].\n"
     ]
    },
    {
     "name": "stderr",
     "output_type": "stream",
     "text": [
      "\r",
      " 65%|████████████████████████████████████████████████████████████████████████████████████████████████████████████████▏                                                           | 652/1000 [15:07:01<7:26:59, 77.07s/it]"
     ]
    },
    {
     "name": "stdout",
     "output_type": "stream",
     "text": [
      "\n",
      "\t ----- tradeoff_buffer: 0 ----- \n",
      "\t ----- reward: 0.6894622341881409 for f_star and f_minus: 23.838144021021748 , 31.053776581185915\n",
      "[INFO] [2022-12-17 09:17:05,692] [OpenBox-SPO] Iteration 653, objective value: [35.249621971351104].\n"
     ]
    },
    {
     "name": "stderr",
     "output_type": "stream",
     "text": [
      "\r",
      " 65%|████████████████████████████████████████████████████████████████████████████████████████████████████████████████▎                                                           | 653/1000 [15:08:15<7:20:24, 76.15s/it]"
     ]
    },
    {
     "name": "stdout",
     "output_type": "stream",
     "text": [
      "\n",
      "\t ----- tradeoff_buffer: 0 ----- \n",
      "\t ----- reward: 0.6475037802864889 for f_star and f_minus: 23.838144021021748 , 35.249621971351104\n",
      "[INFO] [2022-12-17 09:18:33,049] [OpenBox-SPO] Iteration 654, objective value: [37.76636425638241].\n"
     ]
    },
    {
     "name": "stderr",
     "output_type": "stream",
     "text": [
      "\r",
      " 65%|████████████████████████████████████████████████████████████████████████████████████████████████████████████████▍                                                           | 654/1000 [15:09:43<7:38:31, 79.51s/it]"
     ]
    },
    {
     "name": "stdout",
     "output_type": "stream",
     "text": [
      "\n",
      "\t ----- tradeoff_buffer: 0 ----- \n",
      "\t ----- reward: 0.6223363574361759 for f_star and f_minus: 23.838144021021748 , 37.76636425638241\n",
      "[INFO] [2022-12-17 09:19:52,803] [OpenBox-SPO] Iteration 655, objective value: [28.337944527494955].\n"
     ]
    },
    {
     "name": "stderr",
     "output_type": "stream",
     "text": [
      "\r",
      " 66%|████████████████████████████████████████████████████████████████████████████████████████████████████████████████▋                                                           | 655/1000 [15:11:02<7:37:36, 79.58s/it]"
     ]
    },
    {
     "name": "stdout",
     "output_type": "stream",
     "text": [
      "\n",
      "\t ----- tradeoff_buffer: 0 ----- \n",
      "\t ----- reward: 0.7166205547250504 for f_star and f_minus: 23.838144021021748 , 28.337944527494955\n",
      "[INFO] [2022-12-17 09:21:14,831] [OpenBox-SPO] Iteration 656, objective value: [33.04987337097252].\n"
     ]
    },
    {
     "name": "stderr",
     "output_type": "stream",
     "text": [
      "\r",
      " 66%|████████████████████████████████████████████████████████████████████████████████████████████████████████████████▊                                                           | 656/1000 [15:12:24<7:40:29, 80.32s/it]"
     ]
    },
    {
     "name": "stdout",
     "output_type": "stream",
     "text": [
      "\n",
      "\t ----- tradeoff_buffer: 0 ----- \n",
      "\t ----- reward: 0.6695012662902748 for f_star and f_minus: 23.838144021021748 , 33.04987337097252\n",
      "[INFO] [2022-12-17 09:22:22,563] [OpenBox-SPO] Iteration 657, objective value: [36.451579648999065].\n"
     ]
    },
    {
     "name": "stderr",
     "output_type": "stream",
     "text": [
      "\r",
      " 66%|█████████████████████████████████████████████████████████████████████████████████████████████████████████████████                                                           | 657/1000 [15:13:32<7:17:33, 76.54s/it]"
     ]
    },
    {
     "name": "stdout",
     "output_type": "stream",
     "text": [
      "\n",
      "\t ----- tradeoff_buffer: 0 ----- \n",
      "\t ----- reward: 0.6354842035100093 for f_star and f_minus: 23.838144021021748 , 36.451579648999065\n",
      "[INFO] [2022-12-17 09:23:42,593] [OpenBox-SPO] Iteration 658, objective value: [29.177694386015517].\n"
     ]
    },
    {
     "name": "stderr",
     "output_type": "stream",
     "text": [
      "\r",
      " 66%|█████████████████████████████████████████████████████████████████████████████████████████████████████████████████▏                                                          | 658/1000 [15:14:52<7:22:15, 77.59s/it]"
     ]
    },
    {
     "name": "stdout",
     "output_type": "stream",
     "text": [
      "\n",
      "\t ----- tradeoff_buffer: 0 ----- \n",
      "\t ----- reward: 0.7082230561398448 for f_star and f_minus: 23.838144021021748 , 29.177694386015517\n",
      "[INFO] [2022-12-17 09:25:00,292] [OpenBox-SPO] Iteration 659, objective value: [30.781417272370604].\n"
     ]
    },
    {
     "name": "stderr",
     "output_type": "stream",
     "text": [
      "\r",
      " 66%|█████████████████████████████████████████████████████████████████████████████████████████████████████████████████▎                                                          | 659/1000 [15:16:10<7:21:08, 77.62s/it]"
     ]
    },
    {
     "name": "stdout",
     "output_type": "stream",
     "text": [
      "\n",
      "\t ----- tradeoff_buffer: 0 ----- \n",
      "\t ----- reward: 0.692185827276294 for f_star and f_minus: 23.838144021021748 , 30.781417272370604\n",
      "[INFO] [2022-12-17 09:26:19,883] [OpenBox-SPO] Iteration 660, objective value: [30.165621756259696].\n"
     ]
    },
    {
     "name": "stderr",
     "output_type": "stream",
     "text": [
      "\r",
      " 66%|█████████████████████████████████████████████████████████████████████████████████████████████████████████████████▌                                                          | 660/1000 [15:17:29<7:23:12, 78.21s/it]"
     ]
    },
    {
     "name": "stdout",
     "output_type": "stream",
     "text": [
      "\n",
      "\t ----- tradeoff_buffer: 0 ----- \n",
      "\t ----- reward: 0.698343782437403 for f_star and f_minus: 23.838144021021748 , 30.165621756259696\n",
      "[INFO] [2022-12-17 09:27:40,738] [OpenBox-SPO] Iteration 661, objective value: [32.75145057122316].\n"
     ]
    },
    {
     "name": "stderr",
     "output_type": "stream",
     "text": [
      "\r",
      " 66%|█████████████████████████████████████████████████████████████████████████████████████████████████████████████████▋                                                          | 661/1000 [15:18:50<7:26:22, 79.01s/it]"
     ]
    },
    {
     "name": "stdout",
     "output_type": "stream",
     "text": [
      "\n",
      "\t ----- tradeoff_buffer: 0 ----- \n",
      "\t ----- reward: 0.6724854942877684 for f_star and f_minus: 23.838144021021748 , 32.75145057122316\n",
      "[INFO] [2022-12-17 09:28:56,533] [OpenBox-SPO] Iteration 662, objective value: [36.32961783955415].\n"
     ]
    },
    {
     "name": "stderr",
     "output_type": "stream",
     "text": [
      "\r",
      " 66%|█████████████████████████████████████████████████████████████████████████████████████████████████████████████████▊                                                          | 662/1000 [15:20:06<7:19:38, 78.04s/it]"
     ]
    },
    {
     "name": "stdout",
     "output_type": "stream",
     "text": [
      "\n",
      "\t ----- tradeoff_buffer: 0 ----- \n",
      "\t ----- reward: 0.6367038216044585 for f_star and f_minus: 23.838144021021748 , 36.32961783955415\n",
      "[INFO] [2022-12-17 09:30:09,886] [OpenBox-SPO] Iteration 663, objective value: [29.579261526703817].\n"
     ]
    },
    {
     "name": "stderr",
     "output_type": "stream",
     "text": [
      "\r",
      " 66%|██████████████████████████████████████████████████████████████████████████████████████████████████████████████████                                                          | 663/1000 [15:21:19<7:10:26, 76.64s/it]"
     ]
    },
    {
     "name": "stdout",
     "output_type": "stream",
     "text": [
      "\n",
      "\t ----- tradeoff_buffer: 0 ----- \n",
      "\t ----- reward: 0.7042073847329618 for f_star and f_minus: 23.838144021021748 , 29.579261526703817\n",
      "[INFO] [2022-12-17 09:31:26,656] [OpenBox-SPO] Iteration 664, objective value: [27.48490243293709].\n"
     ]
    },
    {
     "name": "stderr",
     "output_type": "stream",
     "text": [
      "\r",
      " 66%|██████████████████████████████████████████████████████████████████████████████████████████████████████████████████▏                                                         | 664/1000 [15:22:36<7:09:23, 76.68s/it]"
     ]
    },
    {
     "name": "stdout",
     "output_type": "stream",
     "text": [
      "\n",
      "\t ----- tradeoff_buffer: 0 ----- \n",
      "\t ----- reward: 0.7251509756706291 for f_star and f_minus: 23.838144021021748 , 27.48490243293709\n",
      "[INFO] [2022-12-17 09:32:47,199] [OpenBox-SPO] Iteration 665, objective value: [30.489020433719787].\n"
     ]
    },
    {
     "name": "stderr",
     "output_type": "stream",
     "text": [
      "\r",
      " 66%|██████████████████████████████████████████████████████████████████████████████████████████████████████████████████▍                                                         | 665/1000 [15:23:57<7:14:35, 77.84s/it]"
     ]
    },
    {
     "name": "stdout",
     "output_type": "stream",
     "text": [
      "\n",
      "\t ----- tradeoff_buffer: 0 ----- \n",
      "\t ----- reward: 0.6951097956628021 for f_star and f_minus: 23.838144021021748 , 30.489020433719787\n",
      "[INFO] [2022-12-17 09:34:10,967] [OpenBox-SPO] Iteration 666, objective value: [32.40115957967454].\n"
     ]
    },
    {
     "name": "stderr",
     "output_type": "stream",
     "text": [
      "\r",
      " 67%|██████████████████████████████████████████████████████████████████████████████████████████████████████████████████▌                                                         | 666/1000 [15:25:21<7:23:11, 79.62s/it]"
     ]
    },
    {
     "name": "stdout",
     "output_type": "stream",
     "text": [
      "\n",
      "\t ----- tradeoff_buffer: 0 ----- \n",
      "\t ----- reward: 0.6759884042032546 for f_star and f_minus: 23.838144021021748 , 32.40115957967454\n",
      "[INFO] [2022-12-17 09:35:23,345] [OpenBox-SPO] Iteration 667, objective value: [31.655350434858676].\n"
     ]
    },
    {
     "name": "stderr",
     "output_type": "stream",
     "text": [
      "\r",
      " 67%|██████████████████████████████████████████████████████████████████████████████████████████████████████████████████▋                                                         | 667/1000 [15:26:33<7:09:48, 77.44s/it]"
     ]
    },
    {
     "name": "stdout",
     "output_type": "stream",
     "text": [
      "\n",
      "\t ----- tradeoff_buffer: 0 ----- \n",
      "\t ----- reward: 0.6834464956514132 for f_star and f_minus: 23.838144021021748 , 31.655350434858676\n",
      "[INFO] [2022-12-17 09:36:41,842] [OpenBox-SPO] Iteration 668, objective value: [29.333724930463518].\n"
     ]
    },
    {
     "name": "stderr",
     "output_type": "stream",
     "text": [
      "\r",
      " 67%|██████████████████████████████████████████████████████████████████████████████████████████████████████████████████▉                                                         | 668/1000 [15:27:51<7:10:16, 77.76s/it]"
     ]
    },
    {
     "name": "stdout",
     "output_type": "stream",
     "text": [
      "\n",
      "\t ----- tradeoff_buffer: 0 ----- \n",
      "\t ----- reward: 0.7066627506953649 for f_star and f_minus: 23.838144021021748 , 29.333724930463518\n",
      "[INFO] [2022-12-17 09:36:41,846] [Advisor] Sample random config. rand_prob=0.100000.\n",
      "[INFO] [2022-12-17 09:37:16,373] [OpenBox-SPO] Iteration 669, objective value: [50.72285692110937].\n"
     ]
    },
    {
     "name": "stderr",
     "output_type": "stream",
     "text": [
      "\r",
      " 67%|███████████████████████████████████████████████████████████████████████████████████████████████████████████████████                                                         | 669/1000 [15:28:26<5:57:25, 64.79s/it]"
     ]
    },
    {
     "name": "stdout",
     "output_type": "stream",
     "text": [
      "\n",
      "\t ----- tradeoff_buffer: 0 ----- \n",
      "\t ----- reward: -1 for f_star and f_minus: 23.838144021021748 , 50.72285692110937\n",
      "[INFO] [2022-12-17 09:38:38,371] [OpenBox-SPO] Iteration 670, objective value: [31.65397424668113].\n"
     ]
    },
    {
     "name": "stderr",
     "output_type": "stream",
     "text": [
      "\r",
      " 67%|███████████████████████████████████████████████████████████████████████████████████████████████████████████████████▏                                                        | 670/1000 [15:29:48<6:24:44, 69.95s/it]"
     ]
    },
    {
     "name": "stdout",
     "output_type": "stream",
     "text": [
      "\n",
      "\t ----- tradeoff_buffer: 0 ----- \n",
      "\t ----- reward: 0.6834602575331887 for f_star and f_minus: 23.838144021021748 , 31.65397424668113\n",
      "[INFO] [2022-12-17 09:39:54,144] [OpenBox-SPO] Iteration 671, objective value: [33.10464202356003].\n"
     ]
    },
    {
     "name": "stderr",
     "output_type": "stream",
     "text": [
      "\r",
      " 67%|███████████████████████████████████████████████████████████████████████████████████████████████████████████████████▍                                                        | 671/1000 [15:31:04<6:33:08, 71.70s/it]"
     ]
    },
    {
     "name": "stdout",
     "output_type": "stream",
     "text": [
      "\n",
      "\t ----- tradeoff_buffer: 0 ----- \n",
      "\t ----- reward: 0.6689535797643997 for f_star and f_minus: 23.838144021021748 , 33.10464202356003\n",
      "[INFO] [2022-12-17 09:41:12,121] [OpenBox-SPO] Iteration 672, objective value: [32.733723976511314].\n"
     ]
    },
    {
     "name": "stderr",
     "output_type": "stream",
     "text": [
      "\r",
      " 67%|███████████████████████████████████████████████████████████████████████████████████████████████████████████████████▌                                                        | 672/1000 [15:32:22<6:42:15, 73.58s/it]"
     ]
    },
    {
     "name": "stdout",
     "output_type": "stream",
     "text": [
      "\n",
      "\t ----- tradeoff_buffer: 0 ----- \n",
      "\t ----- reward: 0.6726627602348869 for f_star and f_minus: 23.838144021021748 , 32.733723976511314\n",
      "[INFO] [2022-12-17 09:42:31,143] [OpenBox-SPO] Iteration 673, objective value: [30.43856523352295].\n"
     ]
    },
    {
     "name": "stderr",
     "output_type": "stream",
     "text": [
      "\r",
      " 67%|███████████████████████████████████████████████████████████████████████████████████████████████████████████████████▊                                                        | 673/1000 [15:33:41<6:49:55, 75.21s/it]"
     ]
    },
    {
     "name": "stdout",
     "output_type": "stream",
     "text": [
      "\n",
      "\t ----- tradeoff_buffer: 0 ----- \n",
      "\t ----- reward: 0.6956143476647705 for f_star and f_minus: 23.838144021021748 , 30.43856523352295\n",
      "[INFO] [2022-12-17 09:43:46,909] [OpenBox-SPO] Iteration 674, objective value: [28.725343902586303].\n"
     ]
    },
    {
     "name": "stderr",
     "output_type": "stream",
     "text": [
      "\r",
      " 67%|███████████████████████████████████████████████████████████████████████████████████████████████████████████████████▉                                                        | 674/1000 [15:34:56<6:49:33, 75.38s/it]"
     ]
    },
    {
     "name": "stdout",
     "output_type": "stream",
     "text": [
      "\n",
      "\t ----- tradeoff_buffer: 0 ----- \n",
      "\t ----- reward: 0.712746560974137 for f_star and f_minus: 23.838144021021748 , 28.725343902586303\n",
      "[INFO] [2022-12-17 09:45:09,008] [OpenBox-SPO] Iteration 675, objective value: [31.52806202793313].\n"
     ]
    },
    {
     "name": "stderr",
     "output_type": "stream",
     "text": [
      "\r",
      " 68%|████████████████████████████████████████████████████████████████████████████████████████████████████████████████████                                                        | 675/1000 [15:36:19<6:59:13, 77.40s/it]"
     ]
    },
    {
     "name": "stdout",
     "output_type": "stream",
     "text": [
      "\n",
      "\t ----- tradeoff_buffer: 0 ----- \n",
      "\t ----- reward: 0.6847193797206688 for f_star and f_minus: 23.838144021021748 , 31.52806202793313\n",
      "[INFO] [2022-12-17 09:46:28,279] [OpenBox-SPO] Iteration 676, objective value: [37.843625616650755].\n"
     ]
    },
    {
     "name": "stderr",
     "output_type": "stream",
     "text": [
      "\r",
      " 68%|████████████████████████████████████████████████████████████████████████████████████████████████████████████████████▎                                                       | 676/1000 [15:37:38<7:00:58, 77.96s/it]"
     ]
    },
    {
     "name": "stdout",
     "output_type": "stream",
     "text": [
      "\n",
      "\t ----- tradeoff_buffer: 0 ----- \n",
      "\t ----- reward: 0.6215637438334924 for f_star and f_minus: 23.838144021021748 , 37.843625616650755\n",
      "[INFO] [2022-12-17 09:47:52,837] [OpenBox-SPO] Iteration 677, objective value: [30.826397625213602].\n"
     ]
    },
    {
     "name": "stderr",
     "output_type": "stream",
     "text": [
      "\r",
      " 68%|████████████████████████████████████████████████████████████████████████████████████████████████████████████████████▍                                                       | 677/1000 [15:39:02<7:10:20, 79.94s/it]"
     ]
    },
    {
     "name": "stdout",
     "output_type": "stream",
     "text": [
      "\n",
      "\t ----- tradeoff_buffer: 0 ----- \n",
      "\t ----- reward: 0.691736023747864 for f_star and f_minus: 23.838144021021748 , 30.826397625213602\n",
      "[INFO] [2022-12-17 09:49:16,830] [OpenBox-SPO] Iteration 678, objective value: [31.54459667448215].\n"
     ]
    },
    {
     "name": "stderr",
     "output_type": "stream",
     "text": [
      "\r",
      " 68%|████████████████████████████████████████████████████████████████████████████████████████████████████████████████████▌                                                       | 678/1000 [15:40:26<7:15:31, 81.15s/it]"
     ]
    },
    {
     "name": "stdout",
     "output_type": "stream",
     "text": [
      "\n",
      "\t ----- tradeoff_buffer: 0 ----- \n",
      "\t ----- reward: 0.6845540332551785 for f_star and f_minus: 23.838144021021748 , 31.54459667448215\n",
      "[INFO] [2022-12-17 09:50:24,986] [OpenBox-SPO] Iteration 679, objective value: [28.765054765279686].\n"
     ]
    },
    {
     "name": "stderr",
     "output_type": "stream",
     "text": [
      "\r",
      " 68%|████████████████████████████████████████████████████████████████████████████████████████████████████████████████████▊                                                       | 679/1000 [15:41:35<6:53:18, 77.25s/it]"
     ]
    },
    {
     "name": "stdout",
     "output_type": "stream",
     "text": [
      "\n",
      "\t ----- tradeoff_buffer: 0 ----- \n",
      "\t ----- reward: 0.7123494523472031 for f_star and f_minus: 23.838144021021748 , 28.765054765279686\n",
      "[INFO] [2022-12-17 09:51:37,675] [OpenBox-SPO] Iteration 680, objective value: [34.25556740682282].\n"
     ]
    },
    {
     "name": "stderr",
     "output_type": "stream",
     "text": [
      "\r",
      " 68%|████████████████████████████████████████████████████████████████████████████████████████████████████████████████████▉                                                       | 680/1000 [15:42:47<6:44:43, 75.89s/it]"
     ]
    },
    {
     "name": "stdout",
     "output_type": "stream",
     "text": [
      "\n",
      "\t ----- tradeoff_buffer: 0 ----- \n",
      "\t ----- reward: 0.6574443259317718 for f_star and f_minus: 23.838144021021748 , 34.25556740682282\n",
      "[INFO] [2022-12-17 09:52:56,583] [OpenBox-SPO] Iteration 681, objective value: [30.240246210194513].\n"
     ]
    },
    {
     "name": "stderr",
     "output_type": "stream",
     "text": [
      "\r",
      " 68%|█████████████████████████████████████████████████████████████████████████████████████████████████████████████████████▏                                                      | 681/1000 [15:44:06<6:48:16, 76.79s/it]"
     ]
    },
    {
     "name": "stdout",
     "output_type": "stream",
     "text": [
      "\n",
      "\t ----- tradeoff_buffer: 0 ----- \n",
      "\t ----- reward: 0.6975975378980548 for f_star and f_minus: 23.838144021021748 , 30.240246210194513\n",
      "[INFO] [2022-12-17 09:54:13,730] [OpenBox-SPO] Iteration 682, objective value: [30.249572276537663].\n"
     ]
    },
    {
     "name": "stderr",
     "output_type": "stream",
     "text": [
      "\r",
      " 68%|█████████████████████████████████████████████████████████████████████████████████████████████████████████████████████▎                                                      | 682/1000 [15:45:23<6:47:33, 76.90s/it]"
     ]
    },
    {
     "name": "stdout",
     "output_type": "stream",
     "text": [
      "\n",
      "\t ----- tradeoff_buffer: 0 ----- \n",
      "\t ----- reward: 0.6975042772346234 for f_star and f_minus: 23.838144021021748 , 30.249572276537663\n",
      "[INFO] [2022-12-17 09:55:28,977] [OpenBox-SPO] Iteration 683, objective value: [32.804485725543955].\n"
     ]
    },
    {
     "name": "stderr",
     "output_type": "stream",
     "text": [
      "\r",
      " 68%|█████████████████████████████████████████████████████████████████████████████████████████████████████████████████████▍                                                      | 683/1000 [15:46:39<6:43:39, 76.40s/it]"
     ]
    },
    {
     "name": "stdout",
     "output_type": "stream",
     "text": [
      "\n",
      "\t ----- tradeoff_buffer: 0 ----- \n",
      "\t ----- reward: 0.6719551427445605 for f_star and f_minus: 23.838144021021748 , 32.804485725543955\n",
      "[INFO] [2022-12-17 09:56:43,733] [OpenBox-SPO] Iteration 684, objective value: [34.02017876062813].\n"
     ]
    },
    {
     "name": "stderr",
     "output_type": "stream",
     "text": [
      "\r",
      " 68%|█████████████████████████████████████████████████████████████████████████████████████████████████████████████████████▋                                                      | 684/1000 [15:47:53<6:39:47, 75.91s/it]"
     ]
    },
    {
     "name": "stdout",
     "output_type": "stream",
     "text": [
      "\n",
      "\t ----- tradeoff_buffer: 0 ----- \n",
      "\t ----- reward: 0.6597982123937187 for f_star and f_minus: 23.838144021021748 , 34.02017876062813\n",
      "[INFO] [2022-12-17 09:58:07,201] [OpenBox-SPO] Iteration 685, objective value: [31.917823730735066].\n"
     ]
    },
    {
     "name": "stderr",
     "output_type": "stream",
     "text": [
      "\r",
      " 68%|█████████████████████████████████████████████████████████████████████████████████████████████████████████████████████▊                                                      | 685/1000 [15:49:17<6:50:25, 78.18s/it]"
     ]
    },
    {
     "name": "stdout",
     "output_type": "stream",
     "text": [
      "\n",
      "\t ----- tradeoff_buffer: 0 ----- \n",
      "\t ----- reward: 0.6808217626926494 for f_star and f_minus: 23.838144021021748 , 31.917823730735066\n",
      "[INFO] [2022-12-17 09:58:07,203] [Advisor] Sample random config. rand_prob=0.100000.\n",
      "[INFO] [2022-12-17 09:58:49,359] [OpenBox-SPO] Iteration 686, objective value: [54.04333287448739].\n"
     ]
    },
    {
     "name": "stderr",
     "output_type": "stream",
     "text": [
      "\r",
      " 69%|█████████████████████████████████████████████████████████████████████████████████████████████████████████████████████▉                                                      | 686/1000 [15:49:59<5:52:34, 67.37s/it]"
     ]
    },
    {
     "name": "stdout",
     "output_type": "stream",
     "text": [
      "\n",
      "\t ----- tradeoff_buffer: 0 ----- \n",
      "\t ----- reward: -1 for f_star and f_minus: 23.838144021021748 , 54.04333287448739\n",
      "[INFO] [2022-12-17 10:00:07,601] [OpenBox-SPO] Iteration 687, objective value: [37.0775419037807].\n"
     ]
    },
    {
     "name": "stderr",
     "output_type": "stream",
     "text": [
      "\r",
      " 69%|██████████████████████████████████████████████████████████████████████████████████████████████████████████████████████▏                                                     | 687/1000 [15:51:17<6:08:27, 70.63s/it]"
     ]
    },
    {
     "name": "stdout",
     "output_type": "stream",
     "text": [
      "\n",
      "\t ----- tradeoff_buffer: 0 ----- \n",
      "\t ----- reward: 0.629224580962193 for f_star and f_minus: 23.838144021021748 , 37.0775419037807\n",
      "[INFO] [2022-12-17 10:01:30,761] [OpenBox-SPO] Iteration 688, objective value: [36.5073239555131].\n"
     ]
    },
    {
     "name": "stderr",
     "output_type": "stream",
     "text": [
      "\r",
      " 69%|██████████████████████████████████████████████████████████████████████████████████████████████████████████████████████▎                                                     | 688/1000 [15:52:40<6:26:49, 74.39s/it]"
     ]
    },
    {
     "name": "stdout",
     "output_type": "stream",
     "text": [
      "\n",
      "\t ----- tradeoff_buffer: 0 ----- \n",
      "\t ----- reward: 0.634926760444869 for f_star and f_minus: 23.838144021021748 , 36.5073239555131\n",
      "[INFO] [2022-12-17 10:02:52,853] [OpenBox-SPO] Iteration 689, objective value: [33.30159954168475].\n"
     ]
    },
    {
     "name": "stderr",
     "output_type": "stream",
     "text": [
      "\r",
      " 69%|██████████████████████████████████████████████████████████████████████████████████████████████████████████████████████▌                                                     | 689/1000 [15:54:02<6:37:34, 76.70s/it]"
     ]
    },
    {
     "name": "stdout",
     "output_type": "stream",
     "text": [
      "\n",
      "\t ----- tradeoff_buffer: 0 ----- \n",
      "\t ----- reward: 0.6669840045831525 for f_star and f_minus: 23.838144021021748 , 33.30159954168475\n",
      "[INFO] [2022-12-17 10:04:21,469] [OpenBox-SPO] Iteration 690, objective value: [32.17927795190698].\n"
     ]
    },
    {
     "name": "stderr",
     "output_type": "stream",
     "text": [
      "\r",
      " 69%|██████████████████████████████████████████████████████████████████████████████████████████████████████████████████████▋                                                     | 690/1000 [15:55:31<6:54:45, 80.28s/it]"
     ]
    },
    {
     "name": "stdout",
     "output_type": "stream",
     "text": [
      "\n",
      "\t ----- tradeoff_buffer: 0 ----- \n",
      "\t ----- reward: 0.6782072204809302 for f_star and f_minus: 23.838144021021748 , 32.17927795190698\n",
      "[INFO] [2022-12-17 10:05:38,867] [OpenBox-SPO] Iteration 691, objective value: [31.487973806253777].\n"
     ]
    },
    {
     "name": "stderr",
     "output_type": "stream",
     "text": [
      "\r",
      " 69%|██████████████████████████████████████████████████████████████████████████████████████████████████████████████████████▊                                                     | 691/1000 [15:56:48<6:48:58, 79.41s/it]"
     ]
    },
    {
     "name": "stdout",
     "output_type": "stream",
     "text": [
      "\n",
      "\t ----- tradeoff_buffer: 0 ----- \n",
      "\t ----- reward: 0.6851202619374622 for f_star and f_minus: 23.838144021021748 , 31.487973806253777\n",
      "[INFO] [2022-12-17 10:07:03,602] [OpenBox-SPO] Iteration 692, objective value: [34.45802878428488].\n"
     ]
    },
    {
     "name": "stderr",
     "output_type": "stream",
     "text": [
      "\r",
      " 69%|███████████████████████████████████████████████████████████████████████████████████████████████████████████████████████                                                     | 692/1000 [15:58:13<6:55:50, 81.01s/it]"
     ]
    },
    {
     "name": "stdout",
     "output_type": "stream",
     "text": [
      "\n",
      "\t ----- tradeoff_buffer: 0 ----- \n",
      "\t ----- reward: 0.6554197121571512 for f_star and f_minus: 23.838144021021748 , 34.45802878428488\n",
      "[INFO] [2022-12-17 10:08:24,598] [OpenBox-SPO] Iteration 693, objective value: [34.73003250330379].\n"
     ]
    },
    {
     "name": "stderr",
     "output_type": "stream",
     "text": [
      "\r",
      " 69%|███████████████████████████████████████████████████████████████████████████████████████████████████████████████████████▏                                                    | 693/1000 [15:59:34<6:54:28, 81.01s/it]"
     ]
    },
    {
     "name": "stdout",
     "output_type": "stream",
     "text": [
      "\n",
      "\t ----- tradeoff_buffer: 0 ----- \n",
      "\t ----- reward: 0.6526996749669621 for f_star and f_minus: 23.838144021021748 , 34.73003250330379\n",
      "[INFO] [2022-12-17 10:09:44,642] [OpenBox-SPO] Iteration 694, objective value: [36.030879882580756].\n"
     ]
    },
    {
     "name": "stderr",
     "output_type": "stream",
     "text": [
      "\r",
      " 69%|███████████████████████████████████████████████████████████████████████████████████████████████████████████████████████▎                                                    | 694/1000 [16:00:54<6:51:39, 80.72s/it]"
     ]
    },
    {
     "name": "stdout",
     "output_type": "stream",
     "text": [
      "\n",
      "\t ----- tradeoff_buffer: 0 ----- \n",
      "\t ----- reward: 0.6396912011741924 for f_star and f_minus: 23.838144021021748 , 36.030879882580756\n",
      "[INFO] [2022-12-17 10:11:10,990] [OpenBox-SPO] Iteration 695, objective value: [38.18797733597778].\n"
     ]
    },
    {
     "name": "stderr",
     "output_type": "stream",
     "text": [
      "\r",
      " 70%|███████████████████████████████████████████████████████████████████████████████████████████████████████████████████████▌                                                    | 695/1000 [16:02:21<6:58:53, 82.41s/it]"
     ]
    },
    {
     "name": "stdout",
     "output_type": "stream",
     "text": [
      "\n",
      "\t ----- tradeoff_buffer: 0 ----- \n",
      "\t ----- reward: 0.6181202266402221 for f_star and f_minus: 23.838144021021748 , 38.18797733597778\n",
      "[INFO] [2022-12-17 10:12:18,473] [OpenBox-SPO] Iteration 696, objective value: [33.54824500933648].\n"
     ]
    },
    {
     "name": "stderr",
     "output_type": "stream",
     "text": [
      "\r",
      " 70%|███████████████████████████████████████████████████████████████████████████████████████████████████████████████████████▋                                                    | 696/1000 [16:03:28<6:34:50, 77.93s/it]"
     ]
    },
    {
     "name": "stdout",
     "output_type": "stream",
     "text": [
      "\n",
      "\t ----- tradeoff_buffer: 0 ----- \n",
      "\t ----- reward: 0.6645175499066351 for f_star and f_minus: 23.838144021021748 , 33.54824500933648\n",
      "[INFO] [2022-12-17 10:13:44,437] [OpenBox-SPO] Iteration 697, objective value: [35.47745570489154].\n"
     ]
    },
    {
     "name": "stderr",
     "output_type": "stream",
     "text": [
      "\r",
      " 70%|███████████████████████████████████████████████████████████████████████████████████████████████████████████████████████▉                                                    | 697/1000 [16:04:54<6:45:42, 80.34s/it]"
     ]
    },
    {
     "name": "stdout",
     "output_type": "stream",
     "text": [
      "\n",
      "\t ----- tradeoff_buffer: 0 ----- \n",
      "\t ----- reward: 0.6452254429510846 for f_star and f_minus: 23.838144021021748 , 35.47745570489154\n",
      "[INFO] [2022-12-17 10:14:55,589] [OpenBox-SPO] Iteration 698, objective value: [41.59541115824541].\n"
     ]
    },
    {
     "name": "stderr",
     "output_type": "stream",
     "text": [
      "\r",
      " 70%|████████████████████████████████████████████████████████████████████████████████████████████████████████████████████████                                                    | 698/1000 [16:06:05<6:30:30, 77.58s/it]"
     ]
    },
    {
     "name": "stdout",
     "output_type": "stream",
     "text": [
      "\n",
      "\t ----- tradeoff_buffer: 0 ----- \n",
      "\t ----- reward: 0.5840458884175459 for f_star and f_minus: 23.838144021021748 , 41.59541115824541\n",
      "[INFO] [2022-12-17 10:14:55,591] [Advisor] Sample random config. rand_prob=0.100000.\n",
      "[INFO] [2022-12-17 10:15:29,799] [OpenBox-SPO] Iteration 699, objective value: [46.494944335048686].\n"
     ]
    },
    {
     "name": "stderr",
     "output_type": "stream",
     "text": [
      "\r",
      " 70%|████████████████████████████████████████████████████████████████████████████████████████████████████████████████████████▏                                                   | 699/1000 [16:06:39<5:23:55, 64.57s/it]"
     ]
    },
    {
     "name": "stdout",
     "output_type": "stream",
     "text": [
      "\n",
      "\t ----- tradeoff_buffer: 0 ----- \n",
      "\t ----- reward: 0.5350505566495132 for f_star and f_minus: 23.838144021021748 , 46.494944335048686\n",
      "[INFO] [2022-12-17 10:16:59,541] [OpenBox-SPO] Iteration 700, objective value: [38.72638706864391].\n"
     ]
    },
    {
     "name": "stderr",
     "output_type": "stream",
     "text": [
      "\r",
      " 70%|████████████████████████████████████████████████████████████████████████████████████████████████████████████████████████▍                                                   | 700/1000 [16:08:09<6:00:36, 72.12s/it]"
     ]
    },
    {
     "name": "stdout",
     "output_type": "stream",
     "text": [
      "\n",
      "\t ----- tradeoff_buffer: 0 ----- \n",
      "\t ----- reward: 0.6127361293135609 for f_star and f_minus: 23.838144021021748 , 38.72638706864391\n",
      "[INFO] [2022-12-17 10:18:11,345] [OpenBox-SPO] Iteration 701, objective value: [42.21352975812393].\n"
     ]
    },
    {
     "name": "stderr",
     "output_type": "stream",
     "text": [
      "\r",
      " 70%|████████████████████████████████████████████████████████████████████████████████████████████████████████████████████████▌                                                   | 701/1000 [16:09:21<5:58:56, 72.03s/it]"
     ]
    },
    {
     "name": "stdout",
     "output_type": "stream",
     "text": [
      "\n",
      "\t ----- tradeoff_buffer: 0 ----- \n",
      "\t ----- reward: 0.5778647024187606 for f_star and f_minus: 23.838144021021748 , 42.21352975812393\n",
      "[INFO] [2022-12-17 10:18:11,347] [Advisor] Sample random config. rand_prob=0.100000.\n",
      "[INFO] [2022-12-17 10:18:54,952] [OpenBox-SPO] Iteration 702, objective value: [43.16701612382082].\n"
     ]
    },
    {
     "name": "stderr",
     "output_type": "stream",
     "text": [
      "\r",
      " 70%|████████████████████████████████████████████████████████████████████████████████████████████████████████████████████████▋                                                   | 702/1000 [16:10:05<5:15:23, 63.50s/it]"
     ]
    },
    {
     "name": "stdout",
     "output_type": "stream",
     "text": [
      "\n",
      "\t ----- tradeoff_buffer: 0 ----- \n",
      "\t ----- reward: 0.5683298387617918 for f_star and f_minus: 23.838144021021748 , 43.16701612382082\n",
      "[INFO] [2022-12-17 10:20:04,182] [OpenBox-SPO] Iteration 703, objective value: [38.362369351492454].\n"
     ]
    },
    {
     "name": "stderr",
     "output_type": "stream",
     "text": [
      "\r",
      " 70%|████████████████████████████████████████████████████████████████████████████████████████████████████████████████████████▉                                                   | 703/1000 [16:11:14<5:22:50, 65.22s/it]"
     ]
    },
    {
     "name": "stdout",
     "output_type": "stream",
     "text": [
      "\n",
      "\t ----- tradeoff_buffer: 0 ----- \n",
      "\t ----- reward: 0.6163763064850755 for f_star and f_minus: 23.838144021021748 , 38.362369351492454\n",
      "[INFO] [2022-12-17 10:21:23,968] [OpenBox-SPO] Iteration 704, objective value: [34.192664017650415].\n"
     ]
    },
    {
     "name": "stderr",
     "output_type": "stream",
     "text": [
      "\r",
      " 70%|█████████████████████████████████████████████████████████████████████████████████████████████████████████████████████████                                                   | 704/1000 [16:12:34<5:43:18, 69.59s/it]"
     ]
    },
    {
     "name": "stdout",
     "output_type": "stream",
     "text": [
      "\n",
      "\t ----- tradeoff_buffer: 0 ----- \n",
      "\t ----- reward: 0.6580733598234958 for f_star and f_minus: 23.838144021021748 , 34.192664017650415\n",
      "[INFO] [2022-12-17 10:22:45,160] [OpenBox-SPO] Iteration 705, objective value: [34.21001890078695].\n"
     ]
    },
    {
     "name": "stderr",
     "output_type": "stream",
     "text": [
      "\r",
      " 70%|█████████████████████████████████████████████████████████████████████████████████████████████████████████████████████████▎                                                  | 705/1000 [16:13:55<5:59:15, 73.07s/it]"
     ]
    },
    {
     "name": "stdout",
     "output_type": "stream",
     "text": [
      "\n",
      "\t ----- tradeoff_buffer: 0 ----- \n",
      "\t ----- reward: 0.6578998109921306 for f_star and f_minus: 23.838144021021748 , 34.21001890078695\n",
      "[INFO] [2022-12-17 10:24:04,924] [OpenBox-SPO] Iteration 706, objective value: [36.650285275996055].\n"
     ]
    },
    {
     "name": "stderr",
     "output_type": "stream",
     "text": [
      "\r",
      " 71%|█████████████████████████████████████████████████████████████████████████████████████████████████████████████████████████▍                                                  | 706/1000 [16:15:14<6:07:53, 75.08s/it]"
     ]
    },
    {
     "name": "stdout",
     "output_type": "stream",
     "text": [
      "\n",
      "\t ----- tradeoff_buffer: 0 ----- \n",
      "\t ----- reward: 0.6334971472400395 for f_star and f_minus: 23.838144021021748 , 36.650285275996055\n",
      "[INFO] [2022-12-17 10:24:04,926] [Advisor] Sample random config. rand_prob=0.100000.\n",
      "[INFO] [2022-12-17 10:24:48,612] [OpenBox-SPO] Iteration 707, objective value: [48.5495941493354].\n"
     ]
    },
    {
     "name": "stderr",
     "output_type": "stream",
     "text": [
      "\r",
      " 71%|█████████████████████████████████████████████████████████████████████████████████████████████████████████████████████████▌                                                  | 707/1000 [16:15:58<5:20:38, 65.66s/it]"
     ]
    },
    {
     "name": "stdout",
     "output_type": "stream",
     "text": [
      "\n",
      "\t ----- tradeoff_buffer: 0 ----- \n",
      "\t ----- reward: 0.514504058506646 for f_star and f_minus: 23.838144021021748 , 48.5495941493354\n",
      "[INFO] [2022-12-17 10:26:04,633] [OpenBox-SPO] Iteration 708, objective value: [38.20071368943624].\n"
     ]
    },
    {
     "name": "stderr",
     "output_type": "stream",
     "text": [
      "\r",
      " 71%|█████████████████████████████████████████████████████████████████████████████████████████████████████████████████████████▊                                                  | 708/1000 [16:17:14<5:34:40, 68.77s/it]"
     ]
    },
    {
     "name": "stdout",
     "output_type": "stream",
     "text": [
      "\n",
      "\t ----- tradeoff_buffer: 0 ----- \n",
      "\t ----- reward: 0.6179928631056375 for f_star and f_minus: 23.838144021021748 , 38.20071368943624\n",
      "[INFO] [2022-12-17 10:27:21,889] [OpenBox-SPO] Iteration 709, objective value: [32.970539204098216].\n"
     ]
    },
    {
     "name": "stderr",
     "output_type": "stream",
     "text": [
      "\r",
      " 71%|█████████████████████████████████████████████████████████████████████████████████████████████████████████████████████████▉                                                  | 709/1000 [16:18:31<5:45:52, 71.32s/it]"
     ]
    },
    {
     "name": "stdout",
     "output_type": "stream",
     "text": [
      "\n",
      "\t ----- tradeoff_buffer: 0 ----- \n",
      "\t ----- reward: 0.6702946079590179 for f_star and f_minus: 23.838144021021748 , 32.970539204098216\n",
      "[INFO] [2022-12-17 10:28:44,602] [OpenBox-SPO] Iteration 710, objective value: [28.62708402077962].\n"
     ]
    },
    {
     "name": "stderr",
     "output_type": "stream",
     "text": [
      "\r",
      " 71%|██████████████████████████████████████████████████████████████████████████████████████████████████████████████████████████                                                  | 710/1000 [16:19:54<6:01:13, 74.73s/it]"
     ]
    },
    {
     "name": "stdout",
     "output_type": "stream",
     "text": [
      "\n",
      "\t ----- tradeoff_buffer: 0 ----- \n",
      "\t ----- reward: 0.7137291597922037 for f_star and f_minus: 23.838144021021748 , 28.62708402077962\n",
      "[INFO] [2022-12-17 10:28:44,604] [Advisor] Sample random config. rand_prob=0.100000.\n",
      "[INFO] [2022-12-17 10:29:25,515] [OpenBox-SPO] Iteration 711, objective value: [54.53239333755075].\n"
     ]
    },
    {
     "name": "stderr",
     "output_type": "stream",
     "text": [
      "\r",
      " 71%|██████████████████████████████████████████████████████████████████████████████████████████████████████████████████████████▎                                                 | 711/1000 [16:20:35<5:11:05, 64.59s/it]"
     ]
    },
    {
     "name": "stdout",
     "output_type": "stream",
     "text": [
      "\n",
      "\t ----- tradeoff_buffer: 0 ----- \n",
      "\t ----- reward: -1 for f_star and f_minus: 23.838144021021748 , 54.53239333755075\n",
      "[INFO] [2022-12-17 10:30:49,457] [OpenBox-SPO] Iteration 712, objective value: [32.311726927425326].\n"
     ]
    },
    {
     "name": "stderr",
     "output_type": "stream",
     "text": [
      "\r",
      " 71%|██████████████████████████████████████████████████████████████████████████████████████████████████████████████████████████▍                                                 | 712/1000 [16:21:59<5:37:53, 70.39s/it]"
     ]
    },
    {
     "name": "stdout",
     "output_type": "stream",
     "text": [
      "\n",
      "\t ----- tradeoff_buffer: 0 ----- \n",
      "\t ----- reward: 0.6768827307257468 for f_star and f_minus: 23.838144021021748 , 32.311726927425326\n",
      "[INFO] [2022-12-17 10:32:00,502] [OpenBox-SPO] Iteration 713, objective value: [39.277037546550076].\n"
     ]
    },
    {
     "name": "stderr",
     "output_type": "stream",
     "text": [
      "\r",
      " 71%|██████████████████████████████████████████████████████████████████████████████████████████████████████████████████████████▋                                                 | 713/1000 [16:23:10<5:37:39, 70.59s/it]"
     ]
    },
    {
     "name": "stdout",
     "output_type": "stream",
     "text": [
      "\n",
      "\t ----- tradeoff_buffer: 0 ----- \n",
      "\t ----- reward: 0.6072296245344992 for f_star and f_minus: 23.838144021021748 , 39.277037546550076\n",
      "[INFO] [2022-12-17 10:33:11,524] [OpenBox-SPO] Iteration 714, objective value: [48.58459563164477].\n"
     ]
    },
    {
     "name": "stderr",
     "output_type": "stream",
     "text": [
      "\r",
      " 71%|██████████████████████████████████████████████████████████████████████████████████████████████████████████████████████████▊                                                 | 714/1000 [16:24:21<5:37:05, 70.72s/it]"
     ]
    },
    {
     "name": "stdout",
     "output_type": "stream",
     "text": [
      "\n",
      "\t ----- tradeoff_buffer: 0 ----- \n",
      "\t ----- reward: 0.5141540436835523 for f_star and f_minus: 23.838144021021748 , 48.58459563164477\n",
      "[INFO] [2022-12-17 10:33:11,525] [Advisor] Sample random config. rand_prob=0.100000.\n",
      "[INFO] [2022-12-17 10:34:00,264] [OpenBox-SPO] Iteration 715, objective value: [47.23382462120854].\n"
     ]
    },
    {
     "name": "stderr",
     "output_type": "stream",
     "text": [
      "\r",
      " 72%|██████████████████████████████████████████████████████████████████████████████████████████████████████████████████████████▉                                                 | 715/1000 [16:25:10<5:04:35, 64.13s/it]"
     ]
    },
    {
     "name": "stdout",
     "output_type": "stream",
     "text": [
      "\n",
      "\t ----- tradeoff_buffer: 0 ----- \n",
      "\t ----- reward: 0.5276617537879146 for f_star and f_minus: 23.838144021021748 , 47.23382462120854\n",
      "[INFO] [2022-12-17 10:35:22,344] [OpenBox-SPO] Iteration 716, objective value: [37.19175714096811].\n"
     ]
    },
    {
     "name": "stderr",
     "output_type": "stream",
     "text": [
      "\r",
      " 72%|███████████████████████████████████████████████████████████████████████████████████████████████████████████████████████████▏                                                | 716/1000 [16:26:32<5:29:01, 69.51s/it]"
     ]
    },
    {
     "name": "stdout",
     "output_type": "stream",
     "text": [
      "\n",
      "\t ----- tradeoff_buffer: 0 ----- \n",
      "\t ----- reward: 0.6280824285903189 for f_star and f_minus: 23.838144021021748 , 37.19175714096811\n",
      "[INFO] [2022-12-17 10:36:38,080] [OpenBox-SPO] Iteration 717, objective value: [36.238302477586146].\n"
     ]
    },
    {
     "name": "stderr",
     "output_type": "stream",
     "text": [
      "\r",
      " 72%|███████████████████████████████████████████████████████████████████████████████████████████████████████████████████████████▎                                                | 717/1000 [16:27:48<5:36:40, 71.38s/it]"
     ]
    },
    {
     "name": "stdout",
     "output_type": "stream",
     "text": [
      "\n",
      "\t ----- tradeoff_buffer: 0 ----- \n",
      "\t ----- reward: 0.6376169752241385 for f_star and f_minus: 23.838144021021748 , 36.238302477586146\n",
      "[INFO] [2022-12-17 10:37:58,115] [OpenBox-SPO] Iteration 718, objective value: [26.91802385014668].\n"
     ]
    },
    {
     "name": "stderr",
     "output_type": "stream",
     "text": [
      "\r",
      " 72%|███████████████████████████████████████████████████████████████████████████████████████████████████████████████████████████▍                                                | 718/1000 [16:29:08<5:47:41, 73.98s/it]"
     ]
    },
    {
     "name": "stdout",
     "output_type": "stream",
     "text": [
      "\n",
      "\t ----- tradeoff_buffer: 0 ----- \n",
      "\t ----- reward: 0.7308197614985332 for f_star and f_minus: 23.838144021021748 , 26.91802385014668\n",
      "[INFO] [2022-12-17 10:39:18,298] [OpenBox-SPO] Iteration 719, objective value: [33.88585708284586].\n"
     ]
    },
    {
     "name": "stderr",
     "output_type": "stream",
     "text": [
      "\r",
      " 72%|███████████████████████████████████████████████████████████████████████████████████████████████████████████████████████████▋                                                | 719/1000 [16:30:28<5:55:10, 75.84s/it]"
     ]
    },
    {
     "name": "stdout",
     "output_type": "stream",
     "text": [
      "\n",
      "\t ----- tradeoff_buffer: 0 ----- \n",
      "\t ----- reward: 0.6611414291715414 for f_star and f_minus: 23.838144021021748 , 33.88585708284586\n",
      "[INFO] [2022-12-17 10:40:33,394] [OpenBox-SPO] Iteration 720, objective value: [32.36860377929473].\n"
     ]
    },
    {
     "name": "stderr",
     "output_type": "stream",
     "text": [
      "\r",
      " 72%|███████████████████████████████████████████████████████████████████████████████████████████████████████████████████████████▊                                                | 720/1000 [16:31:43<5:52:52, 75.62s/it]"
     ]
    },
    {
     "name": "stdout",
     "output_type": "stream",
     "text": [
      "\n",
      "\t ----- tradeoff_buffer: 0 ----- \n",
      "\t ----- reward: 0.6763139622070526 for f_star and f_minus: 23.838144021021748 , 32.36860377929473\n",
      "[INFO] [2022-12-17 10:41:55,603] [OpenBox-SPO] Iteration 721, objective value: [39.01182180281675].\n"
     ]
    },
    {
     "name": "stderr",
     "output_type": "stream",
     "text": [
      "\r",
      " 72%|████████████████████████████████████████████████████████████████████████████████████████████████████████████████████████████                                                | 721/1000 [16:33:05<6:00:48, 77.59s/it]"
     ]
    },
    {
     "name": "stdout",
     "output_type": "stream",
     "text": [
      "\n",
      "\t ----- tradeoff_buffer: 0 ----- \n",
      "\t ----- reward: 0.6098817819718325 for f_star and f_minus: 23.838144021021748 , 39.01182180281675\n",
      "[INFO] [2022-12-17 10:41:55,605] [Advisor] Sample random config. rand_prob=0.100000.\n",
      "[INFO] [2022-12-17 10:42:36,732] [OpenBox-SPO] Iteration 722, objective value: [53.21485310883746].\n"
     ]
    },
    {
     "name": "stderr",
     "output_type": "stream",
     "text": [
      "\r",
      " 72%|████████████████████████████████████████████████████████████████████████████████████████████████████████████████████████████▏                                               | 722/1000 [16:33:46<5:08:49, 66.65s/it]"
     ]
    },
    {
     "name": "stdout",
     "output_type": "stream",
     "text": [
      "\n",
      "\t ----- tradeoff_buffer: 0 ----- \n",
      "\t ----- reward: -1 for f_star and f_minus: 23.838144021021748 , 53.21485310883746\n",
      "[INFO] [2022-12-17 10:43:53,947] [OpenBox-SPO] Iteration 723, objective value: [53.98027978031427].\n"
     ]
    },
    {
     "name": "stderr",
     "output_type": "stream",
     "text": [
      "\r",
      " 72%|████████████████████████████████████████████████████████████████████████████████████████████████████████████████████████████▎                                               | 723/1000 [16:35:03<5:22:20, 69.82s/it]"
     ]
    },
    {
     "name": "stdout",
     "output_type": "stream",
     "text": [
      "\n",
      "\t ----- tradeoff_buffer: 2 ----- \n",
      "\t ----- reward: -1 for f_star and f_minus: 23.838144021021748 , 53.98027978031427\n",
      "[INFO] [2022-12-17 10:45:14,960] [OpenBox-SPO] Iteration 724, objective value: [40.31887679891973].\n"
     ]
    },
    {
     "name": "stderr",
     "output_type": "stream",
     "text": [
      "\r",
      " 72%|████████████████████████████████████████████████████████████████████████████████████████████████████████████████████████████▌                                               | 724/1000 [16:36:25<5:36:37, 73.18s/it]"
     ]
    },
    {
     "name": "stdout",
     "output_type": "stream",
     "text": [
      "\n",
      "\t ----- tradeoff_buffer: 0 ----- \n",
      "\t ----- reward: 0.5968112320108027 for f_star and f_minus: 23.838144021021748 , 40.31887679891973\n",
      "[INFO] [2022-12-17 10:46:31,316] [OpenBox-SPO] Iteration 725, objective value: [35.0658801521664].\n"
     ]
    },
    {
     "name": "stderr",
     "output_type": "stream",
     "text": [
      "\r",
      " 72%|████████████████████████████████████████████████████████████████████████████████████████████████████████████████████████████▋                                               | 725/1000 [16:37:41<5:39:46, 74.13s/it]"
     ]
    },
    {
     "name": "stdout",
     "output_type": "stream",
     "text": [
      "\n",
      "\t ----- tradeoff_buffer: 0 ----- \n",
      "\t ----- reward: 0.6493411984783359 for f_star and f_minus: 23.838144021021748 , 35.0658801521664\n",
      "[INFO] [2022-12-17 10:47:49,930] [OpenBox-SPO] Iteration 726, objective value: [39.41931317919435].\n"
     ]
    },
    {
     "name": "stderr",
     "output_type": "stream",
     "text": [
      "\r",
      " 73%|████████████████████████████████████████████████████████████████████████████████████████████████████████████████████████████▊                                               | 726/1000 [16:38:59<5:44:40, 75.48s/it]"
     ]
    },
    {
     "name": "stdout",
     "output_type": "stream",
     "text": [
      "\n",
      "\t ----- tradeoff_buffer: 0 ----- \n",
      "\t ----- reward: 0.6058068682080565 for f_star and f_minus: 23.838144021021748 , 39.41931317919435\n",
      "[INFO] [2022-12-17 10:49:04,822] [OpenBox-SPO] Iteration 727, objective value: [36.93477756676382].\n"
     ]
    },
    {
     "name": "stderr",
     "output_type": "stream",
     "text": [
      "\r",
      " 73%|█████████████████████████████████████████████████████████████████████████████████████████████████████████████████████████████                                               | 727/1000 [16:40:14<5:42:37, 75.30s/it]"
     ]
    },
    {
     "name": "stdout",
     "output_type": "stream",
     "text": [
      "\n",
      "\t ----- tradeoff_buffer: 0 ----- \n",
      "\t ----- reward: 0.6306522243323618 for f_star and f_minus: 23.838144021021748 , 36.93477756676382\n",
      "[INFO] [2022-12-17 10:50:28,206] [OpenBox-SPO] Iteration 728, objective value: [32.538550712337155].\n"
     ]
    },
    {
     "name": "stderr",
     "output_type": "stream",
     "text": [
      "\r",
      " 73%|█████████████████████████████████████████████████████████████████████████████████████████████████████████████████████████████▏                                              | 728/1000 [16:41:38<5:52:21, 77.73s/it]"
     ]
    },
    {
     "name": "stdout",
     "output_type": "stream",
     "text": [
      "\n",
      "\t ----- tradeoff_buffer: 0 ----- \n",
      "\t ----- reward: 0.6746144928766284 for f_star and f_minus: 23.838144021021748 , 32.538550712337155\n",
      "[INFO] [2022-12-17 10:51:56,869] [OpenBox-SPO] Iteration 729, objective value: [33.171344438101784].\n"
     ]
    },
    {
     "name": "stderr",
     "output_type": "stream",
     "text": [
      "\r",
      " 73%|█████████████████████████████████████████████████████████████████████████████████████████████████████████████████████████████▍                                              | 729/1000 [16:43:06<6:05:53, 81.01s/it]"
     ]
    },
    {
     "name": "stdout",
     "output_type": "stream",
     "text": [
      "\n",
      "\t ----- tradeoff_buffer: 0 ----- \n",
      "\t ----- reward: 0.6682865556189821 for f_star and f_minus: 23.838144021021748 , 33.171344438101784\n",
      "[INFO] [2022-12-17 10:53:12,101] [OpenBox-SPO] Iteration 730, objective value: [39.61153071134549].\n"
     ]
    },
    {
     "name": "stderr",
     "output_type": "stream",
     "text": [
      "\r",
      " 73%|█████████████████████████████████████████████████████████████████████████████████████████████████████████████████████████████▌                                              | 730/1000 [16:44:22<5:56:44, 79.27s/it]"
     ]
    },
    {
     "name": "stdout",
     "output_type": "stream",
     "text": [
      "\n",
      "\t ----- tradeoff_buffer: 0 ----- \n",
      "\t ----- reward: 0.6038846928865451 for f_star and f_minus: 23.838144021021748 , 39.61153071134549\n",
      "[INFO] [2022-12-17 10:54:26,286] [OpenBox-SPO] Iteration 731, objective value: [36.57266119966055].\n"
     ]
    },
    {
     "name": "stderr",
     "output_type": "stream",
     "text": [
      "\r",
      " 73%|█████████████████████████████████████████████████████████████████████████████████████████████████████████████████████████████▋                                              | 731/1000 [16:45:36<5:48:34, 77.75s/it]"
     ]
    },
    {
     "name": "stdout",
     "output_type": "stream",
     "text": [
      "\n",
      "\t ----- tradeoff_buffer: 0 ----- \n",
      "\t ----- reward: 0.6342733880033945 for f_star and f_minus: 23.838144021021748 , 36.57266119966055\n",
      "[INFO] [2022-12-17 10:55:45,849] [OpenBox-SPO] Iteration 732, objective value: [34.45159197598335].\n"
     ]
    },
    {
     "name": "stderr",
     "output_type": "stream",
     "text": [
      "\r",
      " 73%|█████████████████████████████████████████████████████████████████████████████████████████████████████████████████████████████▉                                              | 732/1000 [16:46:55<5:49:42, 78.29s/it]"
     ]
    },
    {
     "name": "stdout",
     "output_type": "stream",
     "text": [
      "\n",
      "\t ----- tradeoff_buffer: 0 ----- \n",
      "\t ----- reward: 0.6554840802401665 for f_star and f_minus: 23.838144021021748 , 34.45159197598335\n",
      "[INFO] [2022-12-17 10:57:00,030] [OpenBox-SPO] Iteration 733, objective value: [35.13014478754958].\n"
     ]
    },
    {
     "name": "stderr",
     "output_type": "stream",
     "text": [
      "\r",
      " 73%|██████████████████████████████████████████████████████████████████████████████████████████████████████████████████████████████                                              | 733/1000 [16:48:10<5:42:54, 77.06s/it]"
     ]
    },
    {
     "name": "stdout",
     "output_type": "stream",
     "text": [
      "\n",
      "\t ----- tradeoff_buffer: 0 ----- \n",
      "\t ----- reward: 0.6486985521245041 for f_star and f_minus: 23.838144021021748 , 35.13014478754958\n",
      "[INFO] [2022-12-17 10:58:12,528] [OpenBox-SPO] Iteration 734, objective value: [33.77723104243792].\n"
     ]
    },
    {
     "name": "stderr",
     "output_type": "stream",
     "text": [
      "\r",
      " 73%|██████████████████████████████████████████████████████████████████████████████████████████████████████████████████████████████▏                                             | 734/1000 [16:49:22<5:35:33, 75.69s/it]"
     ]
    },
    {
     "name": "stdout",
     "output_type": "stream",
     "text": [
      "\n",
      "\t ----- tradeoff_buffer: 3 ----- \n",
      "\t ----- reward: 0.6622276895756208 for f_star and f_minus: 23.838144021021748 , 33.77723104243792\n",
      "[INFO] [2022-12-17 10:59:29,681] [OpenBox-SPO] Iteration 735, objective value: [39.54767485601831].\n"
     ]
    },
    {
     "name": "stderr",
     "output_type": "stream",
     "text": [
      "\r",
      " 74%|██████████████████████████████████████████████████████████████████████████████████████████████████████████████████████████████▍                                             | 735/1000 [16:50:39<5:36:14, 76.13s/it]"
     ]
    },
    {
     "name": "stdout",
     "output_type": "stream",
     "text": [
      "\n",
      "\t ----- tradeoff_buffer: 7 ----- \n",
      "\t ----- reward: 0.6045232514398169 for f_star and f_minus: 23.838144021021748 , 39.54767485601831\n",
      "[INFO] [2022-12-17 11:00:52,433] [OpenBox-SPO] Iteration 736, objective value: [32.72197316936992].\n"
     ]
    },
    {
     "name": "stderr",
     "output_type": "stream",
     "text": [
      "\r",
      " 74%|██████████████████████████████████████████████████████████████████████████████████████████████████████████████████████████████▌                                             | 736/1000 [16:52:02<5:43:42, 78.12s/it]"
     ]
    },
    {
     "name": "stdout",
     "output_type": "stream",
     "text": [
      "\n",
      "\t ----- tradeoff_buffer: 2 ----- \n",
      "\t ----- reward: 0.6727802683063009 for f_star and f_minus: 23.838144021021748 , 32.72197316936992\n",
      "[INFO] [2022-12-17 11:02:04,211] [OpenBox-SPO] Iteration 737, objective value: [31.13647580959767].\n"
     ]
    },
    {
     "name": "stderr",
     "output_type": "stream",
     "text": [
      "\r",
      " 74%|██████████████████████████████████████████████████████████████████████████████████████████████████████████████████████████████▊                                             | 737/1000 [16:53:14<5:34:04, 76.21s/it]"
     ]
    },
    {
     "name": "stdout",
     "output_type": "stream",
     "text": [
      "\n",
      "\t ----- tradeoff_buffer: 0 ----- \n",
      "\t ----- reward: 0.6886352419040234 for f_star and f_minus: 23.838144021021748 , 31.13647580959767\n",
      "[INFO] [2022-12-17 11:03:17,873] [OpenBox-SPO] Iteration 738, objective value: [30.98026666156548].\n"
     ]
    },
    {
     "name": "stderr",
     "output_type": "stream",
     "text": [
      "\r",
      " 74%|██████████████████████████████████████████████████████████████████████████████████████████████████████████████████████████████▉                                             | 738/1000 [16:54:27<5:29:27, 75.45s/it]"
     ]
    },
    {
     "name": "stdout",
     "output_type": "stream",
     "text": [
      "\n",
      "\t ----- tradeoff_buffer: 0 ----- \n",
      "\t ----- reward: 0.6901973333843452 for f_star and f_minus: 23.838144021021748 , 30.98026666156548\n",
      "[INFO] [2022-12-17 11:04:25,593] [OpenBox-SPO] Iteration 739, objective value: [28.713606842060486].\n"
     ]
    },
    {
     "name": "stderr",
     "output_type": "stream",
     "text": [
      "\r",
      " 74%|███████████████████████████████████████████████████████████████████████████████████████████████████████████████████████████████                                             | 739/1000 [16:55:35<5:18:06, 73.13s/it]"
     ]
    },
    {
     "name": "stdout",
     "output_type": "stream",
     "text": [
      "\n",
      "\t ----- tradeoff_buffer: 0 ----- \n",
      "\t ----- reward: 0.7128639315793952 for f_star and f_minus: 23.838144021021748 , 28.713606842060486\n",
      "[INFO] [2022-12-17 11:05:44,598] [OpenBox-SPO] Iteration 740, objective value: [32.727906658224114].\n"
     ]
    },
    {
     "name": "stderr",
     "output_type": "stream",
     "text": [
      "\r",
      " 74%|███████████████████████████████████████████████████████████████████████████████████████████████████████████████████████████████▎                                            | 740/1000 [16:56:54<5:24:32, 74.89s/it]"
     ]
    },
    {
     "name": "stdout",
     "output_type": "stream",
     "text": [
      "\n",
      "\t ----- tradeoff_buffer: 0 ----- \n",
      "\t ----- reward: 0.6727209334177588 for f_star and f_minus: 23.838144021021748 , 32.727906658224114\n",
      "[INFO] [2022-12-17 11:07:01,927] [OpenBox-SPO] Iteration 741, objective value: [27.09499555444728].\n"
     ]
    },
    {
     "name": "stderr",
     "output_type": "stream",
     "text": [
      "\r",
      " 74%|███████████████████████████████████████████████████████████████████████████████████████████████████████████████████████████████▍                                            | 741/1000 [16:58:11<5:26:26, 75.62s/it]"
     ]
    },
    {
     "name": "stdout",
     "output_type": "stream",
     "text": [
      "\n",
      "\t ----- tradeoff_buffer: 0 ----- \n",
      "\t ----- reward: 0.7290500444555272 for f_star and f_minus: 23.838144021021748 , 27.09499555444728\n",
      "[INFO] [2022-12-17 11:08:23,129] [OpenBox-SPO] Iteration 742, objective value: [29.381748401671956].\n"
     ]
    },
    {
     "name": "stderr",
     "output_type": "stream",
     "text": [
      "\r",
      " 74%|███████████████████████████████████████████████████████████████████████████████████████████████████████████████████████████████▌                                            | 742/1000 [16:59:33<5:32:22, 77.30s/it]"
     ]
    },
    {
     "name": "stdout",
     "output_type": "stream",
     "text": [
      "\n",
      "\t ----- tradeoff_buffer: 0 ----- \n",
      "\t ----- reward: 0.7061825159832804 for f_star and f_minus: 23.838144021021748 , 29.381748401671956\n",
      "[INFO] [2022-12-17 11:08:23,131] [Advisor] Sample random config. rand_prob=0.100000.\n",
      "[INFO] [2022-12-17 11:09:02,044] [OpenBox-SPO] Iteration 743, objective value: [38.77612722798786].\n"
     ]
    },
    {
     "name": "stderr",
     "output_type": "stream",
     "text": [
      "\r",
      " 74%|███████████████████████████████████████████████████████████████████████████████████████████████████████████████████████████████▊                                            | 743/1000 [17:00:12<4:41:46, 65.78s/it]"
     ]
    },
    {
     "name": "stdout",
     "output_type": "stream",
     "text": [
      "\n",
      "\t ----- tradeoff_buffer: 0 ----- \n",
      "\t ----- reward: 0.6122387277201214 for f_star and f_minus: 23.838144021021748 , 38.77612722798786\n",
      "[INFO] [2022-12-17 11:10:16,796] [OpenBox-SPO] Iteration 744, objective value: [38.54514918844312].\n"
     ]
    },
    {
     "name": "stderr",
     "output_type": "stream",
     "text": [
      "\r",
      " 74%|███████████████████████████████████████████████████████████████████████████████████████████████████████████████████████████████▉                                            | 744/1000 [17:01:26<4:52:09, 68.47s/it]"
     ]
    },
    {
     "name": "stdout",
     "output_type": "stream",
     "text": [
      "\n",
      "\t ----- tradeoff_buffer: 0 ----- \n",
      "\t ----- reward: 0.6145485081155688 for f_star and f_minus: 23.838144021021748 , 38.54514918844312\n",
      "[INFO] [2022-12-17 11:11:29,340] [OpenBox-SPO] Iteration 745, objective value: [43.87490421562962].\n"
     ]
    },
    {
     "name": "stderr",
     "output_type": "stream",
     "text": [
      "\r",
      " 74%|████████████████████████████████████████████████████████████████████████████████████████████████████████████████████████████████▏                                           | 745/1000 [17:02:39<4:56:12, 69.69s/it]"
     ]
    },
    {
     "name": "stdout",
     "output_type": "stream",
     "text": [
      "\n",
      "\t ----- tradeoff_buffer: 0 ----- \n",
      "\t ----- reward: 0.5612509578437038 for f_star and f_minus: 23.838144021021748 , 43.87490421562962\n",
      "[INFO] [2022-12-17 11:11:29,341] [Advisor] Sample random config. rand_prob=0.100000.\n",
      "[INFO] [2022-12-17 11:12:14,632] [OpenBox-SPO] Iteration 746, objective value: [36.63440022389983].\n"
     ]
    },
    {
     "name": "stderr",
     "output_type": "stream",
     "text": [
      "\r",
      " 75%|████████████████████████████████████████████████████████████████████████████████████████████████████████████████████████████████▎                                           | 746/1000 [17:03:24<4:24:02, 62.37s/it]"
     ]
    },
    {
     "name": "stdout",
     "output_type": "stream",
     "text": [
      "\n",
      "\t ----- tradeoff_buffer: 0 ----- \n",
      "\t ----- reward: 0.6336559977610017 for f_star and f_minus: 23.838144021021748 , 36.63440022389983\n",
      "[INFO] [2022-12-17 11:13:39,010] [OpenBox-SPO] Iteration 747, objective value: [40.172724064002495].\n"
     ]
    },
    {
     "name": "stderr",
     "output_type": "stream",
     "text": [
      "\r",
      " 75%|████████████████████████████████████████████████████████████████████████████████████████████████████████████████████████████████▍                                           | 747/1000 [17:04:49<4:50:50, 68.98s/it]"
     ]
    },
    {
     "name": "stdout",
     "output_type": "stream",
     "text": [
      "\n",
      "\t ----- tradeoff_buffer: 0 ----- \n",
      "\t ----- reward: 0.598272759359975 for f_star and f_minus: 23.838144021021748 , 40.172724064002495\n",
      "[INFO] [2022-12-17 11:14:58,155] [OpenBox-SPO] Iteration 748, objective value: [30.662476494129052].\n"
     ]
    },
    {
     "name": "stderr",
     "output_type": "stream",
     "text": [
      "\r",
      " 75%|████████████████████████████████████████████████████████████████████████████████████████████████████████████████████████████████▋                                           | 748/1000 [17:06:08<5:02:30, 72.03s/it]"
     ]
    },
    {
     "name": "stdout",
     "output_type": "stream",
     "text": [
      "\n",
      "\t ----- tradeoff_buffer: 0 ----- \n",
      "\t ----- reward: 0.6933752350587095 for f_star and f_minus: 23.838144021021748 , 30.662476494129052\n",
      "[INFO] [2022-12-17 11:16:13,215] [OpenBox-SPO] Iteration 749, objective value: [28.511096128717583].\n"
     ]
    },
    {
     "name": "stderr",
     "output_type": "stream",
     "text": [
      "\r",
      " 75%|████████████████████████████████████████████████████████████████████████████████████████████████████████████████████████████████▊                                           | 749/1000 [17:07:23<5:05:06, 72.94s/it]"
     ]
    },
    {
     "name": "stdout",
     "output_type": "stream",
     "text": [
      "\n",
      "\t ----- tradeoff_buffer: 0 ----- \n",
      "\t ----- reward: 0.7148890387128242 for f_star and f_minus: 23.838144021021748 , 28.511096128717583\n",
      "[INFO] [2022-12-17 11:17:30,608] [OpenBox-SPO] Iteration 750, objective value: [42.48003026763683].\n"
     ]
    },
    {
     "name": "stderr",
     "output_type": "stream",
     "text": [
      "\r",
      " 75%|█████████████████████████████████████████████████████████████████████████████████████████████████████████████████████████████████                                           | 750/1000 [17:08:40<5:09:28, 74.27s/it]"
     ]
    },
    {
     "name": "stdout",
     "output_type": "stream",
     "text": [
      "\n",
      "\t ----- tradeoff_buffer: 0 ----- \n",
      "\t ----- reward: 0.5751996973236317 for f_star and f_minus: 23.838144021021748 , 42.48003026763683\n",
      "[INFO] [2022-12-17 11:18:42,842] [OpenBox-SPO] Iteration 751, objective value: [30.12257615228846].\n"
     ]
    },
    {
     "name": "stderr",
     "output_type": "stream",
     "text": [
      "\r",
      " 75%|█████████████████████████████████████████████████████████████████████████████████████████████████████████████████████████████████▏                                          | 751/1000 [17:09:52<5:05:41, 73.66s/it]"
     ]
    },
    {
     "name": "stdout",
     "output_type": "stream",
     "text": [
      "\n",
      "\t ----- tradeoff_buffer: 0 ----- \n",
      "\t ----- reward: 0.6987742384771154 for f_star and f_minus: 23.838144021021748 , 30.12257615228846\n",
      "[INFO] [2022-12-17 11:19:58,541] [OpenBox-SPO] Iteration 752, objective value: [33.219814882480875].\n"
     ]
    },
    {
     "name": "stderr",
     "output_type": "stream",
     "text": [
      "\r",
      " 75%|█████████████████████████████████████████████████████████████████████████████████████████████████████████████████████████████████▎                                          | 752/1000 [17:11:08<5:06:59, 74.27s/it]"
     ]
    },
    {
     "name": "stdout",
     "output_type": "stream",
     "text": [
      "\n",
      "\t ----- tradeoff_buffer: 0 ----- \n",
      "\t ----- reward: 0.6678018511751913 for f_star and f_minus: 23.838144021021748 , 33.219814882480875\n",
      "[INFO] [2022-12-17 11:21:14,042] [OpenBox-SPO] Iteration 753, objective value: [33.741824871635544].\n"
     ]
    },
    {
     "name": "stderr",
     "output_type": "stream",
     "text": [
      "\r",
      " 75%|█████████████████████████████████████████████████████████████████████████████████████████████████████████████████████████████████▌                                          | 753/1000 [17:12:24<5:07:16, 74.64s/it]"
     ]
    },
    {
     "name": "stdout",
     "output_type": "stream",
     "text": [
      "\n",
      "\t ----- tradeoff_buffer: 0 ----- \n",
      "\t ----- reward: 0.6625817512836445 for f_star and f_minus: 23.838144021021748 , 33.741824871635544\n",
      "[INFO] [2022-12-17 11:22:31,080] [OpenBox-SPO] Iteration 754, objective value: [34.135056019015636].\n"
     ]
    },
    {
     "name": "stderr",
     "output_type": "stream",
     "text": [
      "\r",
      " 75%|█████████████████████████████████████████████████████████████████████████████████████████████████████████████████████████████████▋                                          | 754/1000 [17:13:41<5:08:58, 75.36s/it]"
     ]
    },
    {
     "name": "stdout",
     "output_type": "stream",
     "text": [
      "\n",
      "\t ----- tradeoff_buffer: 0 ----- \n",
      "\t ----- reward: 0.6586494398098437 for f_star and f_minus: 23.838144021021748 , 34.135056019015636\n",
      "[INFO] [2022-12-17 11:23:46,326] [OpenBox-SPO] Iteration 755, objective value: [28.125988247302118].\n"
     ]
    },
    {
     "name": "stderr",
     "output_type": "stream",
     "text": [
      "\r",
      " 76%|█████████████████████████████████████████████████████████████████████████████████████████████████████████████████████████████████▊                                          | 755/1000 [17:14:56<5:07:34, 75.33s/it]"
     ]
    },
    {
     "name": "stdout",
     "output_type": "stream",
     "text": [
      "\n",
      "\t ----- tradeoff_buffer: 0 ----- \n",
      "\t ----- reward: 0.7187401175269788 for f_star and f_minus: 23.838144021021748 , 28.125988247302118\n",
      "[INFO] [2022-12-17 11:24:58,164] [OpenBox-SPO] Iteration 756, objective value: [29.994550602404075].\n"
     ]
    },
    {
     "name": "stderr",
     "output_type": "stream",
     "text": [
      "\r",
      " 76%|██████████████████████████████████████████████████████████████████████████████████████████████████████████████████████████████████                                          | 756/1000 [17:16:08<5:02:04, 74.28s/it]"
     ]
    },
    {
     "name": "stdout",
     "output_type": "stream",
     "text": [
      "\n",
      "\t ----- tradeoff_buffer: 0 ----- \n",
      "\t ----- reward: 0.7000544939759592 for f_star and f_minus: 23.838144021021748 , 29.994550602404075\n",
      "[INFO] [2022-12-17 11:26:14,546] [OpenBox-SPO] Iteration 757, objective value: [31.87775161085419].\n"
     ]
    },
    {
     "name": "stderr",
     "output_type": "stream",
     "text": [
      "\r",
      " 76%|██████████████████████████████████████████████████████████████████████████████████████████████████████████████████████████████████▏                                         | 757/1000 [17:17:24<5:03:23, 74.91s/it]"
     ]
    },
    {
     "name": "stdout",
     "output_type": "stream",
     "text": [
      "\n",
      "\t ----- tradeoff_buffer: 0 ----- \n",
      "\t ----- reward: 0.6812224838914581 for f_star and f_minus: 23.838144021021748 , 31.87775161085419\n",
      "[INFO] [2022-12-17 11:26:14,548] [Advisor] Sample random config. rand_prob=0.100000.\n",
      "[INFO] [2022-12-17 11:26:48,540] [OpenBox-SPO] Iteration 758, objective value: [47.298819962027025].\n"
     ]
    },
    {
     "name": "stderr",
     "output_type": "stream",
     "text": [
      "\r",
      " 76%|██████████████████████████████████████████████████████████████████████████████████████████████████████████████████████████████████▍                                         | 758/1000 [17:17:58<4:12:37, 62.64s/it]"
     ]
    },
    {
     "name": "stdout",
     "output_type": "stream",
     "text": [
      "\n",
      "\t ----- tradeoff_buffer: 0 ----- \n",
      "\t ----- reward: 0.5270118003797297 for f_star and f_minus: 23.838144021021748 , 47.298819962027025\n",
      "[INFO] [2022-12-17 11:28:05,437] [OpenBox-SPO] Iteration 759, objective value: [37.815358559292875].\n"
     ]
    },
    {
     "name": "stderr",
     "output_type": "stream",
     "text": [
      "\r",
      " 76%|██████████████████████████████████████████████████████████████████████████████████████████████████████████████████████████████████▌                                         | 759/1000 [17:19:15<4:28:46, 66.91s/it]"
     ]
    },
    {
     "name": "stdout",
     "output_type": "stream",
     "text": [
      "\n",
      "\t ----- tradeoff_buffer: 0 ----- \n",
      "\t ----- reward: 0.6218464144070712 for f_star and f_minus: 23.838144021021748 , 37.815358559292875\n",
      "[INFO] [2022-12-17 11:29:28,717] [OpenBox-SPO] Iteration 760, objective value: [32.796599754262274].\n"
     ]
    },
    {
     "name": "stderr",
     "output_type": "stream",
     "text": [
      "\r",
      " 76%|██████████████████████████████████████████████████████████████████████████████████████████████████████████████████████████████████▋                                         | 760/1000 [17:20:38<4:47:17, 71.82s/it]"
     ]
    },
    {
     "name": "stdout",
     "output_type": "stream",
     "text": [
      "\n",
      "\t ----- tradeoff_buffer: 0 ----- \n",
      "\t ----- reward: 0.6720340024573772 for f_star and f_minus: 23.838144021021748 , 32.796599754262274\n",
      "[INFO] [2022-12-17 11:30:46,554] [OpenBox-SPO] Iteration 761, objective value: [37.577140155577126].\n"
     ]
    },
    {
     "name": "stderr",
     "output_type": "stream",
     "text": [
      "\r",
      " 76%|██████████████████████████████████████████████████████████████████████████████████████████████████████████████████████████████████▉                                         | 761/1000 [17:21:56<4:53:16, 73.63s/it]"
     ]
    },
    {
     "name": "stdout",
     "output_type": "stream",
     "text": [
      "\n",
      "\t ----- tradeoff_buffer: 0 ----- \n",
      "\t ----- reward: 0.6242285984442287 for f_star and f_minus: 23.838144021021748 , 37.577140155577126\n",
      "[INFO] [2022-12-17 11:30:46,555] [Advisor] Sample random config. rand_prob=0.100000.\n",
      "[INFO] [2022-12-17 11:31:26,362] [OpenBox-SPO] Iteration 762, objective value: [39.583388872215366].\n"
     ]
    },
    {
     "name": "stderr",
     "output_type": "stream",
     "text": [
      "\r",
      " 76%|███████████████████████████████████████████████████████████████████████████████████████████████████████████████████████████████████                                         | 762/1000 [17:22:36<4:11:48, 63.48s/it]"
     ]
    },
    {
     "name": "stdout",
     "output_type": "stream",
     "text": [
      "\n",
      "\t ----- tradeoff_buffer: 0 ----- \n",
      "\t ----- reward: 0.6041661112778464 for f_star and f_minus: 23.838144021021748 , 39.583388872215366\n",
      "[INFO] [2022-12-17 11:32:44,186] [OpenBox-SPO] Iteration 763, objective value: [33.30500413180246].\n"
     ]
    },
    {
     "name": "stderr",
     "output_type": "stream",
     "text": [
      "\r",
      " 76%|███████████████████████████████████████████████████████████████████████████████████████████████████████████████████████████████████▏                                        | 763/1000 [17:23:54<4:27:44, 67.78s/it]"
     ]
    },
    {
     "name": "stdout",
     "output_type": "stream",
     "text": [
      "\n",
      "\t ----- tradeoff_buffer: 0 ----- \n",
      "\t ----- reward: 0.6669499586819754 for f_star and f_minus: 23.838144021021748 , 33.30500413180246\n",
      "[INFO] [2022-12-17 11:32:44,188] [Advisor] Sample random config. rand_prob=0.100000.\n",
      "[INFO] [2022-12-17 11:33:20,141] [OpenBox-SPO] Iteration 764, objective value: [50.900890672714326].\n"
     ]
    },
    {
     "name": "stderr",
     "output_type": "stream",
     "text": [
      "\r",
      " 76%|███████████████████████████████████████████████████████████████████████████████████████████████████████████████████████████████████▍                                        | 764/1000 [17:24:30<3:49:03, 58.24s/it]"
     ]
    },
    {
     "name": "stdout",
     "output_type": "stream",
     "text": [
      "\n",
      "\t ----- tradeoff_buffer: 0 ----- \n",
      "\t ----- reward: -1 for f_star and f_minus: 23.838144021021748 , 50.900890672714326\n",
      "[INFO] [2022-12-17 11:34:45,284] [OpenBox-SPO] Iteration 765, objective value: [35.2235420533392].\n"
     ]
    },
    {
     "name": "stderr",
     "output_type": "stream",
     "text": [
      "\r",
      " 76%|███████████████████████████████████████████████████████████████████████████████████████████████████████████████████████████████████▌                                        | 765/1000 [17:25:55<4:19:42, 66.31s/it]"
     ]
    },
    {
     "name": "stdout",
     "output_type": "stream",
     "text": [
      "\n",
      "\t ----- tradeoff_buffer: 0 ----- \n",
      "\t ----- reward: 0.647764579466608 for f_star and f_minus: 23.838144021021748 , 35.2235420533392\n",
      "[INFO] [2022-12-17 11:35:58,685] [OpenBox-SPO] Iteration 766, objective value: [40.19132646932293].\n"
     ]
    },
    {
     "name": "stderr",
     "output_type": "stream",
     "text": [
      "\r",
      " 77%|███████████████████████████████████████████████████████████████████████████████████████████████████████████████████████████████████▊                                        | 766/1000 [17:27:08<4:26:53, 68.44s/it]"
     ]
    },
    {
     "name": "stdout",
     "output_type": "stream",
     "text": [
      "\n",
      "\t ----- tradeoff_buffer: 0 ----- \n",
      "\t ----- reward: 0.5980867353067707 for f_star and f_minus: 23.838144021021748 , 40.19132646932293\n",
      "[INFO] [2022-12-17 11:37:15,892] [OpenBox-SPO] Iteration 767, objective value: [34.616196166055275].\n"
     ]
    },
    {
     "name": "stderr",
     "output_type": "stream",
     "text": [
      "\r",
      " 77%|███████████████████████████████████████████████████████████████████████████████████████████████████████████████████████████████████▉                                        | 767/1000 [17:28:25<4:35:58, 71.07s/it]"
     ]
    },
    {
     "name": "stdout",
     "output_type": "stream",
     "text": [
      "\n",
      "\t ----- tradeoff_buffer: 0 ----- \n",
      "\t ----- reward: 0.6538380383394473 for f_star and f_minus: 23.838144021021748 , 34.616196166055275\n"
     ]
    }
   ],
   "source": [
    "import SensorOptimizers.BayesianOptimization as bo\n",
    "import numpy as np\n",
    "import pickle\n",
    "\n",
    "acquisition_function = 'kg'\n",
    "acq_optimizer_type = 'auto'\n",
    "ROS = True\n",
    "epsilon = 0.5\n",
    "error = 0.0\n",
    "multi_objective = False\n",
    "LSsensorsNum = 11\n",
    "ISsensorsNum = 0\n",
    "initial_state = 'random'\n",
    "RLBO = True\n",
    "\n",
    "sensor_types = {\n",
    "    'model_motion_sensor': True,\n",
    "    'model_beacon_sensor': False,\n",
    "    'model_pressure_sensor': False,\n",
    "    'model_accelerometer': False,\n",
    "    'model_electricity_sensor': False\n",
    "}\n",
    "\n",
    "\n",
    "# testbed = 'Testbed2/'\n",
    "# maxSensorNum = int(np.min([(5.3 / epsilon) * (8 / epsilon), LSsensorsNum]))\n",
    "\n",
    "testbed = 'Testbed1/'\n",
    "maxSensorNum = int(np.min([(8 / epsilon) * (8 / epsilon), LSsensorsNum]))\n",
    "\n",
    "print('----- Running BO with: \\n \\t - epsilon: ', epsilon, \n",
    "      '\\n \\t - LS sensors #:', LSsensorsNum, \n",
    "      '\\n \\t - IS sensors #:', ISsensorsNum, \n",
    "      ' \\n \\t - initial state: ', initial_state)\n",
    "\n",
    "for i in range(0, 1):\n",
    "    BO = bo.BayesianOptimization(testbed = testbed,\n",
    "                                 iteration = 1000, \n",
    "                                 epsilon = epsilon, \n",
    "                                 error = error,\n",
    "                                 ROS = True, \n",
    "                                 LSmaxSensorNum = maxSensorNum,\n",
    "                                 ISmaxSensorNum = ISsensorsNum, \n",
    "                                 initial_state = initial_state,\n",
    "                                 input_sensor_types = sensor_types,\n",
    "                                 acquisition_function = acquisition_function,\n",
    "                                 acq_optimizer_type = acq_optimizer_type)\n",
    "\n",
    "    history, states, actions, rewards = BO.run(RLBO = RLBO)\n",
    "\n",
    "    with open('Results_BO/history(LS' + str(LSsensorsNum) +  'IS' + str(ISsensorsNum) + ')_' + str(i), 'wb') as handle:\n",
    "        pickle.dump(history, handle, protocol=pickle.HIGHEST_PROTOCOL)\n",
    "            \n",
    "    print(history)"
   ]
  },
  {
   "cell_type": "code",
   "execution_count": null,
   "metadata": {},
   "outputs": [],
   "source": []
  }
 ],
 "metadata": {
  "kernelspec": {
   "display_name": "Python 3 (ipykernel)",
   "language": "python",
   "name": "python3"
  },
  "language_info": {
   "codemirror_mode": {
    "name": "ipython",
    "version": 3
   },
   "file_extension": ".py",
   "mimetype": "text/x-python",
   "name": "python",
   "nbconvert_exporter": "python",
   "pygments_lexer": "ipython3",
   "version": "3.10.7"
  },
  "vscode": {
   "interpreter": {
    "hash": "aee8b7b246df8f9039afb4144a1f6fd8d2ca17a180786b69acc140d282b71a49"
   }
  }
 },
 "nbformat": 4,
 "nbformat_minor": 4
}
