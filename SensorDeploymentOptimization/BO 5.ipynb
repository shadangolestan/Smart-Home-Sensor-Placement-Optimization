{
 "cells": [
  {
   "cell_type": "code",
   "execution_count": 1,
   "metadata": {
    "scrolled": true
   },
   "outputs": [
    {
     "name": "stdout",
     "output_type": "stream",
     "text": [
      "----- Running BO with: \n",
      " \t - epsilon:  2 \n",
      " \t - LS sensors #: 11 \n",
      " \t - IS sensors #: 0  \n",
      " \t - initial state:  random\n",
      "Processing Region of Similarity... [COMPLETED]\n",
      "[INFO] [2022-08-24 15:06:07,953] [Advisor] === [BO auto selection] === surrogate_type: prf. acq_optimizer_type: local_random.\n",
      "**************************************************\n",
      "self.acq_type  ei\n",
      "acq_optimizer_type  local_random\n",
      "self.num_objs  1\n",
      "self.surrogate_model  None\n",
      "self.num_constraints  0\n",
      "**************************************************\n",
      "[Build Surrogate] Use probabilistic random forest based on scikit-learn. For better performance, please install pyrfr: https://open-box.readthedocs.io/en/latest/installation/install_pyrfr.html\n"
     ]
    },
    {
     "name": "stderr",
     "output_type": "stream",
     "text": [
      "  0%|          | 0/1000 [00:00<?, ?it/s]"
     ]
    },
    {
     "name": "stdout",
     "output_type": "stream",
     "text": [
      "[INFO] [2022-08-24 15:09:01,130] [OpenBox-SPO] Iteration 1, objective value: [49.51791003735172].\n"
     ]
    },
    {
     "name": "stderr",
     "output_type": "stream",
     "text": [
      "  0%|          | 1/1000 [02:53<48:02:52, 173.15s/it]"
     ]
    },
    {
     "name": "stdout",
     "output_type": "stream",
     "text": [
      "[INFO] [2022-08-24 15:11:07,733] [OpenBox-SPO] Iteration 2, objective value: [56.42041636173997].\n"
     ]
    },
    {
     "name": "stderr",
     "output_type": "stream",
     "text": [
      "  0%|          | 2/1000 [04:59<40:24:35, 145.77s/it]"
     ]
    },
    {
     "name": "stdout",
     "output_type": "stream",
     "text": [
      "[INFO] [2022-08-24 15:13:20,517] [OpenBox-SPO] Iteration 3, objective value: [48.15250651560924].\n"
     ]
    },
    {
     "name": "stderr",
     "output_type": "stream",
     "text": [
      "  0%|          | 3/1000 [07:12<38:43:39, 139.84s/it]"
     ]
    },
    {
     "name": "stdout",
     "output_type": "stream",
     "text": [
      "[INFO] [2022-08-24 15:15:33,540] [OpenBox-SPO] Iteration 4, objective value: [48.38439300790753].\n"
     ]
    },
    {
     "name": "stderr",
     "output_type": "stream",
     "text": [
      "  0%|          | 4/1000 [09:25<37:56:39, 137.15s/it]"
     ]
    },
    {
     "name": "stdout",
     "output_type": "stream",
     "text": [
      "[INFO] [2022-08-24 15:17:45,113] [OpenBox-SPO] Iteration 5, objective value: [57.452159566561775].\n"
     ]
    },
    {
     "name": "stderr",
     "output_type": "stream",
     "text": [
      "  0%|          | 5/1000 [11:37<37:21:01, 135.14s/it]"
     ]
    },
    {
     "name": "stdout",
     "output_type": "stream",
     "text": [
      "[INFO] [2022-08-24 15:19:57,721] [OpenBox-SPO] Iteration 6, objective value: [47.723717467039876].\n"
     ]
    },
    {
     "name": "stderr",
     "output_type": "stream",
     "text": [
      "  1%|          | 6/1000 [13:49<37:04:31, 134.28s/it]"
     ]
    },
    {
     "name": "stdout",
     "output_type": "stream",
     "text": [
      "[INFO] [2022-08-24 15:19:57,723] [Advisor] Sample random config. rand_prob=0.100000.\n",
      "[INFO] [2022-08-24 15:22:08,616] [OpenBox-SPO] Iteration 7, objective value: [55.932140053810876].\n"
     ]
    },
    {
     "name": "stderr",
     "output_type": "stream",
     "text": [
      "  1%|          | 7/1000 [16:00<36:44:00, 133.17s/it]"
     ]
    },
    {
     "name": "stdout",
     "output_type": "stream",
     "text": [
      "[INFO] [2022-08-24 15:24:32,871] [OpenBox-SPO] Iteration 8, objective value: [50.26652656867988].\n"
     ]
    },
    {
     "name": "stderr",
     "output_type": "stream",
     "text": [
      "  1%|          | 8/1000 [18:24<37:40:06, 136.70s/it]"
     ]
    },
    {
     "name": "stdout",
     "output_type": "stream",
     "text": [
      "[INFO] [2022-08-24 15:27:31,722] [OpenBox-SPO] Iteration 9, objective value: [52.43846642052031].\n"
     ]
    },
    {
     "name": "stderr",
     "output_type": "stream",
     "text": [
      "  1%|          | 9/1000 [21:23<41:15:27, 149.88s/it]"
     ]
    },
    {
     "name": "stdout",
     "output_type": "stream",
     "text": [
      "[INFO] [2022-08-24 15:29:52,731] [OpenBox-SPO] Iteration 10, objective value: [56.13189205051551].\n"
     ]
    },
    {
     "name": "stderr",
     "output_type": "stream",
     "text": [
      "  1%|          | 10/1000 [23:44<40:27:48, 147.14s/it]"
     ]
    },
    {
     "name": "stdout",
     "output_type": "stream",
     "text": [
      "[INFO] [2022-08-24 15:32:26,161] [OpenBox-SPO] Iteration 11, objective value: [49.70236743302993].\n"
     ]
    },
    {
     "name": "stderr",
     "output_type": "stream",
     "text": [
      "  1%|          | 11/1000 [26:18<40:57:05, 149.06s/it]"
     ]
    },
    {
     "name": "stdout",
     "output_type": "stream",
     "text": [
      "[INFO] [2022-08-24 15:35:06,841] [OpenBox-SPO] Iteration 12, objective value: [64.27074317580818].\n"
     ]
    },
    {
     "name": "stderr",
     "output_type": "stream",
     "text": [
      "  1%|          | 12/1000 [28:58<41:52:46, 152.60s/it]"
     ]
    },
    {
     "name": "stdout",
     "output_type": "stream",
     "text": [
      "[INFO] [2022-08-24 15:39:30,969] [OpenBox-SPO] Iteration 13, objective value: [50.18716227560169].\n"
     ]
    },
    {
     "name": "stderr",
     "output_type": "stream",
     "text": [
      "  1%|▏         | 13/1000 [33:22<51:06:01, 186.38s/it]"
     ]
    },
    {
     "name": "stdout",
     "output_type": "stream",
     "text": [
      "[INFO] [2022-08-24 15:43:09,544] [OpenBox-SPO] Iteration 14, objective value: [47.882186691099605].\n"
     ]
    },
    {
     "name": "stderr",
     "output_type": "stream",
     "text": [
      "  1%|▏         | 14/1000 [37:01<53:42:41, 196.11s/it]"
     ]
    },
    {
     "name": "stdout",
     "output_type": "stream",
     "text": [
      "[INFO] [2022-08-24 15:45:41,571] [OpenBox-SPO] Iteration 15, objective value: [46.99569378022018].\n"
     ]
    },
    {
     "name": "stderr",
     "output_type": "stream",
     "text": [
      "  2%|▏         | 15/1000 [39:33<50:01:17, 182.82s/it]"
     ]
    },
    {
     "name": "stdout",
     "output_type": "stream",
     "text": [
      "[INFO] [2022-08-24 15:48:16,120] [OpenBox-SPO] Iteration 16, objective value: [56.32456463560007].\n"
     ]
    },
    {
     "name": "stderr",
     "output_type": "stream",
     "text": [
      "  2%|▏         | 16/1000 [42:08<47:38:41, 174.31s/it]"
     ]
    },
    {
     "name": "stdout",
     "output_type": "stream",
     "text": [
      "[INFO] [2022-08-24 15:51:16,223] [OpenBox-SPO] Iteration 17, objective value: [46.364207162571105].\n"
     ]
    },
    {
     "name": "stderr",
     "output_type": "stream",
     "text": [
      "  2%|▏         | 17/1000 [45:08<48:04:20, 176.05s/it]"
     ]
    },
    {
     "name": "stdout",
     "output_type": "stream",
     "text": [
      "[INFO] [2022-08-24 15:53:20,798] [OpenBox-SPO] Iteration 18, objective value: [57.51523660879675].\n"
     ]
    },
    {
     "name": "stderr",
     "output_type": "stream",
     "text": [
      "  2%|▏         | 18/1000 [47:12<43:48:13, 160.58s/it]"
     ]
    },
    {
     "name": "stdout",
     "output_type": "stream",
     "text": [
      "[INFO] [2022-08-24 15:55:29,657] [OpenBox-SPO] Iteration 19, objective value: [50.172989672603876].\n"
     ]
    },
    {
     "name": "stderr",
     "output_type": "stream",
     "text": [
      "  2%|▏         | 19/1000 [49:21<41:09:45, 151.06s/it]"
     ]
    },
    {
     "name": "stdout",
     "output_type": "stream",
     "text": [
      "[INFO] [2022-08-24 15:57:32,263] [OpenBox-SPO] Iteration 20, objective value: [49.86994593991307].\n"
     ]
    },
    {
     "name": "stderr",
     "output_type": "stream",
     "text": [
      "  2%|▏         | 20/1000 [51:24<38:47:43, 142.51s/it]"
     ]
    },
    {
     "name": "stdout",
     "output_type": "stream",
     "text": [
      "[INFO] [2022-08-24 16:00:01,121] [OpenBox-SPO] Iteration 21, objective value: [54.03667459842069].\n"
     ]
    },
    {
     "name": "stderr",
     "output_type": "stream",
     "text": [
      "  2%|▏         | 21/1000 [53:53<39:16:25, 144.42s/it]"
     ]
    },
    {
     "name": "stdout",
     "output_type": "stream",
     "text": [
      "[INFO] [2022-08-24 16:02:17,782] [OpenBox-SPO] Iteration 22, objective value: [45.30978129115827].\n"
     ]
    },
    {
     "name": "stderr",
     "output_type": "stream",
     "text": [
      "  2%|▏         | 22/1000 [56:09<38:36:04, 142.09s/it]"
     ]
    },
    {
     "name": "stdout",
     "output_type": "stream",
     "text": [
      "[INFO] [2022-08-24 16:04:46,312] [OpenBox-SPO] Iteration 23, objective value: [55.81594917998268].\n"
     ]
    },
    {
     "name": "stderr",
     "output_type": "stream",
     "text": [
      "  2%|▏         | 23/1000 [58:38<39:05:09, 144.02s/it]"
     ]
    },
    {
     "name": "stdout",
     "output_type": "stream",
     "text": [
      "[INFO] [2022-08-24 16:07:12,021] [OpenBox-SPO] Iteration 24, objective value: [47.03497269792693].\n"
     ]
    },
    {
     "name": "stderr",
     "output_type": "stream",
     "text": [
      "  2%|▏         | 24/1000 [1:01:04<39:10:59, 144.53s/it]"
     ]
    },
    {
     "name": "stdout",
     "output_type": "stream",
     "text": [
      "[INFO] [2022-08-24 16:08:56,046] [OpenBox-SPO] Iteration 25, objective value: [60.35407775431752].\n"
     ]
    },
    {
     "name": "stderr",
     "output_type": "stream",
     "text": [
      "  2%|▎         | 25/1000 [1:02:48<35:51:06, 132.38s/it]"
     ]
    },
    {
     "name": "stdout",
     "output_type": "stream",
     "text": [
      "[INFO] [2022-08-24 16:10:28,357] [OpenBox-SPO] Iteration 26, objective value: [49.95089918652991].\n"
     ]
    },
    {
     "name": "stderr",
     "output_type": "stream",
     "text": [
      "  3%|▎         | 26/1000 [1:04:20<32:33:46, 120.36s/it]"
     ]
    },
    {
     "name": "stdout",
     "output_type": "stream",
     "text": [
      "[INFO] [2022-08-24 16:10:28,359] [Advisor] Sample random config. rand_prob=0.100000.\n",
      "[INFO] [2022-08-24 16:12:19,858] [OpenBox-SPO] Iteration 27, objective value: [48.202199119842895].\n"
     ]
    },
    {
     "name": "stderr",
     "output_type": "stream",
     "text": [
      "  3%|▎         | 27/1000 [1:06:11<31:48:41, 117.70s/it]"
     ]
    },
    {
     "name": "stdout",
     "output_type": "stream",
     "text": [
      "[INFO] [2022-08-24 16:13:56,278] [OpenBox-SPO] Iteration 28, objective value: [47.55762606332146].\n"
     ]
    },
    {
     "name": "stderr",
     "output_type": "stream",
     "text": [
      "  3%|▎         | 28/1000 [1:07:48<30:03:17, 111.31s/it]"
     ]
    },
    {
     "name": "stdout",
     "output_type": "stream",
     "text": [
      "[INFO] [2022-08-24 16:14:58,257] [OpenBox-SPO] Iteration 29, objective value: [61.463378984151184].\n"
     ]
    },
    {
     "name": "stderr",
     "output_type": "stream",
     "text": [
      "  3%|▎         | 29/1000 [1:08:50<26:01:54, 96.51s/it] "
     ]
    },
    {
     "name": "stdout",
     "output_type": "stream",
     "text": [
      "[INFO] [2022-08-24 16:16:22,168] [OpenBox-SPO] Iteration 30, objective value: [50.045314528605296].\n"
     ]
    },
    {
     "name": "stderr",
     "output_type": "stream",
     "text": [
      "  3%|▎         | 30/1000 [1:10:14<24:59:11, 92.73s/it]"
     ]
    },
    {
     "name": "stdout",
     "output_type": "stream",
     "text": [
      "[INFO] [2022-08-24 16:16:22,172] [Advisor] Sample random config. rand_prob=0.100000.\n",
      "[INFO] [2022-08-24 16:17:50,758] [OpenBox-SPO] Iteration 31, objective value: [49.27580491483769].\n"
     ]
    },
    {
     "name": "stderr",
     "output_type": "stream",
     "text": [
      "  3%|▎         | 31/1000 [1:11:42<24:37:33, 91.49s/it]"
     ]
    },
    {
     "name": "stdout",
     "output_type": "stream",
     "text": [
      "[INFO] [2022-08-24 16:19:35,485] [OpenBox-SPO] Iteration 32, objective value: [53.603284170733104].\n"
     ]
    },
    {
     "name": "stderr",
     "output_type": "stream",
     "text": [
      "  3%|▎         | 32/1000 [1:13:27<25:40:06, 95.46s/it]"
     ]
    },
    {
     "name": "stdout",
     "output_type": "stream",
     "text": [
      "[INFO] [2022-08-24 16:21:44,915] [OpenBox-SPO] Iteration 33, objective value: [53.70872508351379].\n"
     ]
    },
    {
     "name": "stderr",
     "output_type": "stream",
     "text": [
      "  3%|▎         | 33/1000 [1:15:36<28:22:45, 105.65s/it]"
     ]
    },
    {
     "name": "stdout",
     "output_type": "stream",
     "text": [
      "[INFO] [2022-08-24 16:23:34,203] [OpenBox-SPO] Iteration 34, objective value: [53.0645011173443].\n"
     ]
    },
    {
     "name": "stderr",
     "output_type": "stream",
     "text": [
      "  3%|▎         | 34/1000 [1:17:26<28:38:33, 106.74s/it]"
     ]
    },
    {
     "name": "stdout",
     "output_type": "stream",
     "text": [
      "[INFO] [2022-08-24 16:23:34,204] [Advisor] Sample random config. rand_prob=0.100000.\n",
      "[INFO] [2022-08-24 16:25:09,749] [OpenBox-SPO] Iteration 35, objective value: [53.78340738762864].\n"
     ]
    },
    {
     "name": "stderr",
     "output_type": "stream",
     "text": [
      "  4%|▎         | 35/1000 [1:19:01<27:42:45, 103.38s/it]"
     ]
    },
    {
     "name": "stdout",
     "output_type": "stream",
     "text": [
      "[INFO] [2022-08-24 16:27:12,048] [OpenBox-SPO] Iteration 36, objective value: [48.9695210103327].\n"
     ]
    },
    {
     "name": "stderr",
     "output_type": "stream",
     "text": [
      "  4%|▎         | 36/1000 [1:21:04<29:12:12, 109.06s/it]"
     ]
    },
    {
     "name": "stdout",
     "output_type": "stream",
     "text": [
      "[INFO] [2022-08-24 16:29:30,489] [OpenBox-SPO] Iteration 37, objective value: [47.89788648856843].\n"
     ]
    },
    {
     "name": "stderr",
     "output_type": "stream",
     "text": [
      "  4%|▎         | 37/1000 [1:23:22<31:31:51, 117.87s/it]"
     ]
    },
    {
     "name": "stdout",
     "output_type": "stream",
     "text": [
      "[INFO] [2022-08-24 16:31:19,152] [OpenBox-SPO] Iteration 38, objective value: [50.99988604849142].\n"
     ]
    },
    {
     "name": "stderr",
     "output_type": "stream",
     "text": [
      "  4%|▍         | 38/1000 [1:25:11<30:45:37, 115.11s/it]"
     ]
    },
    {
     "name": "stdout",
     "output_type": "stream",
     "text": [
      "[INFO] [2022-08-24 16:34:04,218] [OpenBox-SPO] Iteration 39, objective value: [53.1658167699814].\n"
     ]
    },
    {
     "name": "stderr",
     "output_type": "stream",
     "text": [
      "  4%|▍         | 39/1000 [1:27:56<34:43:42, 130.10s/it]"
     ]
    },
    {
     "name": "stdout",
     "output_type": "stream",
     "text": [
      "[INFO] [2022-08-24 16:36:35,487] [OpenBox-SPO] Iteration 40, objective value: [52.30575873387678].\n"
     ]
    },
    {
     "name": "stderr",
     "output_type": "stream",
     "text": [
      "  4%|▍         | 40/1000 [1:30:27<36:23:10, 136.45s/it]"
     ]
    },
    {
     "name": "stdout",
     "output_type": "stream",
     "text": [
      "[INFO] [2022-08-24 16:38:22,858] [OpenBox-SPO] Iteration 41, objective value: [50.365437175041194].\n"
     ]
    },
    {
     "name": "stderr",
     "output_type": "stream",
     "text": [
      "  4%|▍         | 41/1000 [1:32:14<34:01:28, 127.73s/it]"
     ]
    },
    {
     "name": "stdout",
     "output_type": "stream",
     "text": [
      "[INFO] [2022-08-24 16:38:22,872] [Advisor] Sample random config. rand_prob=0.100000.\n",
      "[INFO] [2022-08-24 16:41:29,927] [OpenBox-SPO] Iteration 42, objective value: [59.855219123082364].\n"
     ]
    },
    {
     "name": "stderr",
     "output_type": "stream",
     "text": [
      "  4%|▍         | 42/1000 [1:35:21<38:43:36, 145.53s/it]"
     ]
    },
    {
     "name": "stdout",
     "output_type": "stream",
     "text": [
      "[INFO] [2022-08-24 16:43:43,884] [OpenBox-SPO] Iteration 43, objective value: [51.137245081969965].\n"
     ]
    },
    {
     "name": "stderr",
     "output_type": "stream",
     "text": [
      "  4%|▍         | 43/1000 [1:37:35<37:45:48, 142.06s/it]"
     ]
    },
    {
     "name": "stdout",
     "output_type": "stream",
     "text": [
      "[INFO] [2022-08-24 16:45:36,818] [OpenBox-SPO] Iteration 44, objective value: [56.617265264568246].\n"
     ]
    },
    {
     "name": "stderr",
     "output_type": "stream",
     "text": [
      "  4%|▍         | 44/1000 [1:39:28<35:24:14, 133.32s/it]"
     ]
    },
    {
     "name": "stdout",
     "output_type": "stream",
     "text": [
      "[INFO] [2022-08-24 16:47:42,549] [OpenBox-SPO] Iteration 45, objective value: [54.98853442051622].\n"
     ]
    },
    {
     "name": "stderr",
     "output_type": "stream",
     "text": [
      "  4%|▍         | 45/1000 [1:41:34<34:45:45, 131.04s/it]"
     ]
    },
    {
     "name": "stdout",
     "output_type": "stream",
     "text": [
      "[INFO] [2022-08-24 16:49:39,220] [OpenBox-SPO] Iteration 46, objective value: [52.49386119352293].\n"
     ]
    },
    {
     "name": "stderr",
     "output_type": "stream",
     "text": [
      "  5%|▍         | 46/1000 [1:43:31<33:35:01, 126.73s/it]"
     ]
    },
    {
     "name": "stdout",
     "output_type": "stream",
     "text": [
      "[INFO] [2022-08-24 16:52:27,721] [OpenBox-SPO] Iteration 47, objective value: [48.22835801699975].\n"
     ]
    },
    {
     "name": "stderr",
     "output_type": "stream",
     "text": [
      "  5%|▍         | 47/1000 [1:46:19<36:51:56, 139.26s/it]"
     ]
    },
    {
     "name": "stdout",
     "output_type": "stream",
     "text": [
      "[INFO] [2022-08-24 16:54:25,009] [OpenBox-SPO] Iteration 48, objective value: [49.86950587821999].\n"
     ]
    },
    {
     "name": "stderr",
     "output_type": "stream",
     "text": [
      "  5%|▍         | 48/1000 [1:48:17<35:05:01, 132.67s/it]"
     ]
    },
    {
     "name": "stdout",
     "output_type": "stream",
     "text": [
      "[INFO] [2022-08-24 16:56:30,395] [OpenBox-SPO] Iteration 49, objective value: [50.39395985253001].\n"
     ]
    },
    {
     "name": "stderr",
     "output_type": "stream",
     "text": [
      "  5%|▍         | 49/1000 [1:50:22<34:28:10, 130.48s/it]"
     ]
    },
    {
     "name": "stdout",
     "output_type": "stream",
     "text": [
      "[INFO] [2022-08-24 16:58:13,972] [OpenBox-SPO] Iteration 50, objective value: [52.60555751357576].\n"
     ]
    },
    {
     "name": "stderr",
     "output_type": "stream",
     "text": [
      "  5%|▌         | 50/1000 [1:52:05<32:18:11, 122.41s/it]"
     ]
    },
    {
     "name": "stdout",
     "output_type": "stream",
     "text": [
      "[INFO] [2022-08-24 17:01:04,244] [OpenBox-SPO] Iteration 51, objective value: [54.843074223573915].\n"
     ]
    },
    {
     "name": "stderr",
     "output_type": "stream",
     "text": [
      "  5%|▌         | 51/1000 [1:54:56<36:03:15, 136.77s/it]"
     ]
    },
    {
     "name": "stdout",
     "output_type": "stream",
     "text": [
      "[INFO] [2022-08-24 17:04:08,159] [OpenBox-SPO] Iteration 52, objective value: [45.043538977965156].\n"
     ]
    },
    {
     "name": "stderr",
     "output_type": "stream",
     "text": [
      "  5%|▌         | 52/1000 [1:58:00<39:44:26, 150.91s/it]"
     ]
    },
    {
     "name": "stdout",
     "output_type": "stream",
     "text": [
      "[INFO] [2022-08-24 17:04:08,161] [Advisor] Sample random config. rand_prob=0.100000.\n",
      "[INFO] [2022-08-24 17:06:22,021] [OpenBox-SPO] Iteration 53, objective value: [50.221140062561815].\n"
     ]
    },
    {
     "name": "stderr",
     "output_type": "stream",
     "text": [
      "  5%|▌         | 53/1000 [2:00:14<38:21:11, 145.80s/it]"
     ]
    },
    {
     "name": "stdout",
     "output_type": "stream",
     "text": [
      "[INFO] [2022-08-24 17:07:58,830] [OpenBox-SPO] Iteration 54, objective value: [50.09212028386283].\n"
     ]
    },
    {
     "name": "stderr",
     "output_type": "stream",
     "text": [
      "  5%|▌         | 54/1000 [2:01:50<34:27:02, 131.10s/it]"
     ]
    },
    {
     "name": "stdout",
     "output_type": "stream",
     "text": [
      "[INFO] [2022-08-24 17:10:02,108] [OpenBox-SPO] Iteration 55, objective value: [48.10771020127718].\n"
     ]
    },
    {
     "name": "stderr",
     "output_type": "stream",
     "text": [
      "  6%|▌         | 55/1000 [2:03:54<33:47:52, 128.75s/it]"
     ]
    },
    {
     "name": "stdout",
     "output_type": "stream",
     "text": [
      "[INFO] [2022-08-24 17:11:55,505] [OpenBox-SPO] Iteration 56, objective value: [45.88641942934038].\n"
     ]
    },
    {
     "name": "stderr",
     "output_type": "stream",
     "text": [
      "  6%|▌         | 56/1000 [2:05:47<32:33:14, 124.15s/it]"
     ]
    },
    {
     "name": "stdout",
     "output_type": "stream",
     "text": [
      "[INFO] [2022-08-24 17:14:36,113] [OpenBox-SPO] Iteration 57, objective value: [43.53959605470129].\n"
     ]
    },
    {
     "name": "stderr",
     "output_type": "stream",
     "text": [
      "  6%|▌         | 57/1000 [2:08:28<35:23:05, 135.09s/it]"
     ]
    },
    {
     "name": "stdout",
     "output_type": "stream",
     "text": [
      "[INFO] [2022-08-24 17:17:17,945] [OpenBox-SPO] Iteration 58, objective value: [41.429032930426565].\n"
     ]
    },
    {
     "name": "stderr",
     "output_type": "stream",
     "text": [
      "  6%|▌         | 58/1000 [2:11:09<37:26:49, 143.11s/it]"
     ]
    },
    {
     "name": "stdout",
     "output_type": "stream",
     "text": [
      "[INFO] [2022-08-24 17:20:09,348] [OpenBox-SPO] Iteration 59, objective value: [42.9814721289382].\n"
     ]
    },
    {
     "name": "stderr",
     "output_type": "stream",
     "text": [
      "  6%|▌         | 59/1000 [2:14:01<39:37:33, 151.60s/it]"
     ]
    },
    {
     "name": "stdout",
     "output_type": "stream",
     "text": [
      "[INFO] [2022-08-24 17:22:30,374] [OpenBox-SPO] Iteration 60, objective value: [56.82119471105436].\n"
     ]
    },
    {
     "name": "stderr",
     "output_type": "stream",
     "text": [
      "  6%|▌         | 60/1000 [2:16:22<38:45:20, 148.43s/it]"
     ]
    },
    {
     "name": "stdout",
     "output_type": "stream",
     "text": [
      "[INFO] [2022-08-24 17:24:50,579] [OpenBox-SPO] Iteration 61, objective value: [51.86514213721094].\n"
     ]
    },
    {
     "name": "stderr",
     "output_type": "stream",
     "text": [
      "  6%|▌         | 61/1000 [2:18:42<38:04:17, 145.96s/it]"
     ]
    },
    {
     "name": "stdout",
     "output_type": "stream",
     "text": [
      "[INFO] [2022-08-24 17:26:59,899] [OpenBox-SPO] Iteration 62, objective value: [50.667052258196215].\n"
     ]
    },
    {
     "name": "stderr",
     "output_type": "stream",
     "text": [
      "  6%|▌         | 62/1000 [2:20:51<36:43:47, 140.97s/it]"
     ]
    },
    {
     "name": "stdout",
     "output_type": "stream",
     "text": [
      "[INFO] [2022-08-24 17:29:12,463] [OpenBox-SPO] Iteration 63, objective value: [47.049990006964904].\n"
     ]
    },
    {
     "name": "stderr",
     "output_type": "stream",
     "text": [
      "  6%|▋         | 63/1000 [2:23:04<36:02:04, 138.45s/it]"
     ]
    },
    {
     "name": "stdout",
     "output_type": "stream",
     "text": [
      "[INFO] [2022-08-24 17:31:08,335] [OpenBox-SPO] Iteration 64, objective value: [42.244947606526665].\n"
     ]
    },
    {
     "name": "stderr",
     "output_type": "stream",
     "text": [
      "  6%|▋         | 64/1000 [2:25:00<34:14:06, 131.67s/it]"
     ]
    },
    {
     "name": "stdout",
     "output_type": "stream",
     "text": [
      "[INFO] [2022-08-24 17:33:09,145] [OpenBox-SPO] Iteration 65, objective value: [62.59546564912489].\n"
     ]
    },
    {
     "name": "stderr",
     "output_type": "stream",
     "text": [
      "  6%|▋         | 65/1000 [2:27:01<33:21:07, 128.41s/it]"
     ]
    },
    {
     "name": "stdout",
     "output_type": "stream",
     "text": [
      "[INFO] [2022-08-24 17:35:14,462] [OpenBox-SPO] Iteration 66, objective value: [43.656852719085194].\n"
     ]
    },
    {
     "name": "stderr",
     "output_type": "stream",
     "text": [
      "  7%|▋         | 66/1000 [2:29:06<33:04:31, 127.49s/it]"
     ]
    },
    {
     "name": "stdout",
     "output_type": "stream",
     "text": [
      "[INFO] [2022-08-24 17:37:25,629] [OpenBox-SPO] Iteration 67, objective value: [49.471330849840975].\n"
     ]
    },
    {
     "name": "stderr",
     "output_type": "stream",
     "text": [
      "  7%|▋         | 67/1000 [2:31:17<33:19:34, 128.59s/it]"
     ]
    },
    {
     "name": "stdout",
     "output_type": "stream",
     "text": [
      "[INFO] [2022-08-24 17:39:53,463] [OpenBox-SPO] Iteration 68, objective value: [49.51970354789045].\n"
     ]
    },
    {
     "name": "stderr",
     "output_type": "stream",
     "text": [
      "  7%|▋         | 68/1000 [2:33:45<34:47:06, 134.36s/it]"
     ]
    },
    {
     "name": "stdout",
     "output_type": "stream",
     "text": [
      "[INFO] [2022-08-24 17:42:32,784] [OpenBox-SPO] Iteration 69, objective value: [42.75051516613944].\n"
     ]
    },
    {
     "name": "stderr",
     "output_type": "stream",
     "text": [
      "  7%|▋         | 69/1000 [2:36:24<36:41:02, 141.85s/it]"
     ]
    },
    {
     "name": "stdout",
     "output_type": "stream",
     "text": [
      "[INFO] [2022-08-24 17:42:32,791] [Advisor] Sample random config. rand_prob=0.100000.\n",
      "[INFO] [2022-08-24 17:44:10,115] [OpenBox-SPO] Iteration 70, objective value: [53.5675207007163].\n"
     ]
    },
    {
     "name": "stderr",
     "output_type": "stream",
     "text": [
      "  7%|▋         | 70/1000 [2:38:02<33:11:40, 128.49s/it]"
     ]
    }
   ],
   "source": [
    "import SensorOptimizers.BayesianOptimization as bo\n",
    "import numpy as np\n",
    "import pickle\n",
    "\n",
    "acquisition_function = 'ei'\n",
    "acq_optimizer_type = 'auto'\n",
    "ROS = True\n",
    "epsilon = 2\n",
    "error = 0.0\n",
    "multi_objective = False\n",
    "LSsensorsNum = 11\n",
    "ISsensorsNum = 0\n",
    "initial_state = 'random'\n",
    "\n",
    "sensor_types = {\n",
    "    'model_motion_sensor': True,\n",
    "    'model_beacon_sensor': False,\n",
    "    'model_pressure_sensor': False,\n",
    "    'model_accelerometer': False,\n",
    "    'model_electricity_sensor': False\n",
    "}\n",
    "\n",
    "\n",
    "testbed = 'Testbed2/'\n",
    "maxSensorNum = int(np.min([(5.3 / epsilon) * (8 / epsilon), LSsensorsNum]))\n",
    "\n",
    "print('----- Running BO with: \\n \\t - epsilon: ', epsilon, \n",
    "      '\\n \\t - LS sensors #:', LSsensorsNum, \n",
    "      '\\n \\t - IS sensors #:', ISsensorsNum, \n",
    "      ' \\n \\t - initial state: ', initial_state)\n",
    "\n",
    "for i in range(4, 5):\n",
    "    BO = bo.BayesianOptimization(testbed = testbed,\n",
    "                                 iteration = 1000, \n",
    "                                 epsilon = epsilon, \n",
    "                                 error = error,\n",
    "                                 ROS = True, \n",
    "                                 LSmaxSensorNum = maxSensorNum,\n",
    "                                 ISmaxSensorNum = ISsensorsNum, \n",
    "                                 initial_state = initial_state,\n",
    "                                 input_sensor_types = sensor_types,\n",
    "                                 acquisition_function = acquisition_function,\n",
    "                                 acq_optimizer_type = acq_optimizer_type)\n",
    "\n",
    "    history = BO.run()\n",
    "\n",
    "    with open('Results_BO/history(LS' + str(LSsensorsNum) +  'IS' + str(ISsensorsNum) + ')_' + str(i), 'wb') as handle:\n",
    "        pickle.dump(history, handle, protocol=pickle.HIGHEST_PROTOCOL)\n",
    "            \n",
    "    print(history)"
   ]
  },
  {
   "cell_type": "code",
   "execution_count": null,
   "metadata": {},
   "outputs": [],
   "source": []
  }
 ],
 "metadata": {
  "kernelspec": {
   "display_name": "Python 3.9.7 ('base')",
   "language": "python",
   "name": "python3"
  },
  "language_info": {
   "codemirror_mode": {
    "name": "ipython",
    "version": 3
   },
   "file_extension": ".py",
   "mimetype": "text/x-python",
   "name": "python",
   "nbconvert_exporter": "python",
   "pygments_lexer": "ipython3",
   "version": "3.9.7"
  },
  "vscode": {
   "interpreter": {
    "hash": "40d3a090f54c6569ab1632332b64b2c03c39dcf918b08424e98f38b5ae0af88f"
   }
  }
 },
 "nbformat": 4,
 "nbformat_minor": 4
}
