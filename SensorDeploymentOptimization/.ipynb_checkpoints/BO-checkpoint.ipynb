{
 "cells": [
  {
   "cell_type": "code",
   "execution_count": 1,
   "metadata": {
    "scrolled": true
   },
   "outputs": [
    {
     "name": "stdout",
     "output_type": "stream",
     "text": [
      "----- Running BO with: \n",
      " \t - epsilon:  1 \n",
      " \t - LS sensors #: 10 \n",
      " \t - IS sensors #: 3  \n",
      " \t - initial state:  random\n",
      "[INFO] [2022-04-19 19:00:34,284] [Advisor] === [BO auto selection] === acq_type: ei.\n",
      "[Build Surrogate] Use probabilistic random forest based on scikit-learn. For better performance, please install pyrfr: https://open-box.readthedocs.io/en/latest/installation/install_pyrfr.html\n"
     ]
    },
    {
     "name": "stderr",
     "output_type": "stream",
     "text": [
      "\r",
      "  0%|                                                                                                             | 0/1 [00:00<?, ?it/s]"
     ]
    },
    {
     "name": "stdout",
     "output_type": "stream",
     "text": [
      "[INFO] [2022-04-19 19:01:30,255] [OpenBox-SPO] Iteration 1, objective value: [34.93505949051212].\n"
     ]
    },
    {
     "name": "stderr",
     "output_type": "stream",
     "text": [
      "100%|█████████████████████████████████████████████████████████████████████████████████████████████████████| 1/1 [00:55<00:00, 55.95s/it]"
     ]
    },
    {
     "name": "stdout",
     "output_type": "stream",
     "text": [
      "+---------------------------------------------+\n",
      "| Parameters              | Optimal Value     |\n",
      "+-------------------------+-------------------+\n",
      "| object_location1        | 6.0, 3.6          |\n",
      "| object_location2        | 0.5, 7.1          |\n",
      "| object_location3        | 0.5, 7.1          |\n",
      "| t1                      | 1                 |\n",
      "| t10                     | 1                 |\n",
      "| t2                      | 1                 |\n",
      "| t3                      | 1                 |\n",
      "| t4                      | 1                 |\n",
      "| t5                      | 1                 |\n",
      "| t6                      | 1                 |\n",
      "| t7                      | 1                 |\n",
      "| t8                      | 1                 |\n",
      "| t9                      | 1                 |\n",
      "| t_o1                    | 3                 |\n",
      "| t_o2                    | 5                 |\n",
      "| t_o3                    | 4                 |\n",
      "| x1                      | 3                 |\n",
      "| x10                     | 7                 |\n",
      "| x2                      | 5                 |\n",
      "| x3                      | 4                 |\n",
      "| x4                      | 5                 |\n",
      "| x5                      | 2                 |\n",
      "| x6                      | 6                 |\n",
      "| x7                      | 4                 |\n",
      "| x8                      | 1                 |\n",
      "| x9                      | 3                 |\n",
      "| y1                      | 6                 |\n",
      "| y10                     | 4                 |\n",
      "| y2                      | 3                 |\n",
      "| y3                      | 2                 |\n",
      "| y4                      | 7                 |\n",
      "| y5                      | 6                 |\n",
      "| y6                      | 5                 |\n",
      "| y7                      | 6                 |\n",
      "| y8                      | 7                 |\n",
      "| y9                      | 5                 |\n",
      "+-------------------------+-------------------+\n",
      "| Optimal Objective Value | 34.93505949051212 |\n",
      "+-------------------------+-------------------+\n",
      "| Num Configs             | 1                 |\n",
      "+-------------------------+-------------------+\n",
      "\n",
      "[INFO] [2022-04-19 19:01:30,363] [Advisor] === [BO auto selection] === acq_type: ei.\n"
     ]
    },
    {
     "name": "stderr",
     "output_type": "stream",
     "text": [
      "\n"
     ]
    },
    {
     "name": "stdout",
     "output_type": "stream",
     "text": [
      "[Build Surrogate] Use probabilistic random forest based on scikit-learn. For better performance, please install pyrfr: https://open-box.readthedocs.io/en/latest/installation/install_pyrfr.html\n"
     ]
    },
    {
     "name": "stderr",
     "output_type": "stream",
     "text": [
      "\r",
      "  0%|                                                                                                             | 0/1 [00:00<?, ?it/s]"
     ]
    },
    {
     "name": "stdout",
     "output_type": "stream",
     "text": [
      "[INFO] [2022-04-19 19:02:11,170] [OpenBox-SPO] Iteration 1, objective value: [52.2534587239545].\n"
     ]
    },
    {
     "name": "stderr",
     "output_type": "stream",
     "text": [
      "100%|█████████████████████████████████████████████████████████████████████████████████████████████████████| 1/1 [00:40<00:00, 40.80s/it]"
     ]
    },
    {
     "name": "stdout",
     "output_type": "stream",
     "text": [
      "+--------------------------------------------+\n",
      "| Parameters              | Optimal Value    |\n",
      "+-------------------------+------------------+\n",
      "| object_location1        | 6.7, 1.4         |\n",
      "| object_location2        | 6.7, 1.4         |\n",
      "| object_location3        | 3.5, 2.7         |\n",
      "| t1                      | 1                |\n",
      "| t10                     | 1                |\n",
      "| t2                      | 1                |\n",
      "| t3                      | 1                |\n",
      "| t4                      | 1                |\n",
      "| t5                      | 1                |\n",
      "| t6                      | 1                |\n",
      "| t7                      | 1                |\n",
      "| t8                      | 1                |\n",
      "| t9                      | 1                |\n",
      "| t_o1                    | 4                |\n",
      "| t_o2                    | 3                |\n",
      "| t_o3                    | 5                |\n",
      "| x1                      | 7                |\n",
      "| x10                     | 4                |\n",
      "| x2                      | 1                |\n",
      "| x3                      | 7                |\n",
      "| x4                      | 7                |\n",
      "| x5                      | 3                |\n",
      "| x6                      | 5                |\n",
      "| x7                      | 4                |\n",
      "| x8                      | 6                |\n",
      "| x9                      | 6                |\n",
      "| y1                      | 4                |\n",
      "| y10                     | 2                |\n",
      "| y2                      | 6                |\n",
      "| y3                      | 7                |\n",
      "| y4                      | 7                |\n",
      "| y5                      | 2                |\n",
      "| y6                      | 2                |\n",
      "| y7                      | 2                |\n",
      "| y8                      | 7                |\n",
      "| y9                      | 7                |\n",
      "+-------------------------+------------------+\n",
      "| Optimal Objective Value | 52.2534587239545 |\n",
      "+-------------------------+------------------+\n",
      "| Num Configs             | 1                |\n",
      "+-------------------------+------------------+\n",
      "\n",
      "[INFO] [2022-04-19 19:02:11,269] [Advisor] === [BO auto selection] === acq_type: ei.\n"
     ]
    },
    {
     "name": "stderr",
     "output_type": "stream",
     "text": [
      "\n"
     ]
    },
    {
     "name": "stdout",
     "output_type": "stream",
     "text": [
      "[Build Surrogate] Use probabilistic random forest based on scikit-learn. For better performance, please install pyrfr: https://open-box.readthedocs.io/en/latest/installation/install_pyrfr.html\n"
     ]
    },
    {
     "name": "stderr",
     "output_type": "stream",
     "text": [
      "\r",
      "  0%|                                                                                                             | 0/1 [00:00<?, ?it/s]"
     ]
    },
    {
     "name": "stdout",
     "output_type": "stream",
     "text": [
      "[INFO] [2022-04-19 19:03:14,349] [OpenBox-SPO] Iteration 1, objective value: [56.41957012735709].\n"
     ]
    },
    {
     "name": "stderr",
     "output_type": "stream",
     "text": [
      "100%|█████████████████████████████████████████████████████████████████████████████████████████████████████| 1/1 [01:03<00:00, 63.08s/it]"
     ]
    },
    {
     "name": "stdout",
     "output_type": "stream",
     "text": [
      "+---------------------------------------------+\n",
      "| Parameters              | Optimal Value     |\n",
      "+-------------------------+-------------------+\n",
      "| object_location1        | 0.5, 7.1          |\n",
      "| object_location2        | 2.2, 7.1          |\n",
      "| object_location3        | 1.7, 6.0          |\n",
      "| t1                      | 1                 |\n",
      "| t10                     | 1                 |\n",
      "| t2                      | 1                 |\n",
      "| t3                      | 1                 |\n",
      "| t4                      | 1                 |\n",
      "| t5                      | 1                 |\n",
      "| t6                      | 1                 |\n",
      "| t7                      | 1                 |\n",
      "| t8                      | 1                 |\n",
      "| t9                      | 1                 |\n",
      "| t_o1                    | 4                 |\n",
      "| t_o2                    | 5                 |\n",
      "| t_o3                    | 5                 |\n",
      "| x1                      | 5                 |\n",
      "| x10                     | 5                 |\n",
      "| x2                      | 3                 |\n",
      "| x3                      | 2                 |\n",
      "| x4                      | 7                 |\n",
      "| x5                      | 5                 |\n",
      "| x6                      | 6                 |\n",
      "| x7                      | 3                 |\n",
      "| x8                      | 3                 |\n",
      "| x9                      | 2                 |\n",
      "| y1                      | 7                 |\n",
      "| y10                     | 4                 |\n",
      "| y2                      | 5                 |\n",
      "| y3                      | 2                 |\n",
      "| y4                      | 2                 |\n",
      "| y5                      | 2                 |\n",
      "| y6                      | 3                 |\n",
      "| y7                      | 3                 |\n",
      "| y8                      | 5                 |\n",
      "| y9                      | 6                 |\n",
      "+-------------------------+-------------------+\n",
      "| Optimal Objective Value | 56.41957012735709 |\n",
      "+-------------------------+-------------------+\n",
      "| Num Configs             | 1                 |\n",
      "+-------------------------+-------------------+\n",
      "\n"
     ]
    },
    {
     "name": "stderr",
     "output_type": "stream",
     "text": [
      "\n"
     ]
    }
   ],
   "source": [
    "import SensorOptimizers.BayesianOptimization as bo\n",
    "import numpy as np\n",
    "import pickle\n",
    "\n",
    "ROS = True\n",
    "epsilon = 2\n",
    "multi_objective = False\n",
    "LSsensorsNum = 7\n",
    "ISsensorsNum = 0\n",
    "initial_state = 'random'\n",
    "\n",
    "sensor_types = {\n",
    "    'model_motion_sensor': True,\n",
    "    'model_beacon_sensor': False,\n",
    "    'model_pressure_sensor': False,\n",
    "    'model_accelerometer': False,\n",
    "    'model_electricity_sensor': False\n",
    "}\n",
    "\n",
    "\n",
    "maxSensorNum = int(np.min([(8 / epsilon) * (8 / epsilon), LSsensorsNum]))\n",
    "\n",
    "print('----- Running BO with: \\n \\t - epsilon: ', epsilon, \n",
    "      '\\n \\t - LS sensors #:', LSsensorsNum, \n",
    "      '\\n \\t - IS sensors #:', ISsensorsNum, \n",
    "      ' \\n \\t - initial state: ', initial_state)\n",
    "\n",
    "for i in range(0, 3):\n",
    "    history = bo.run(iteration = 1, \n",
    "                     epsilon = epsilon, \n",
    "                     ROS = True, \n",
    "                     multi_objective = multi_objective, \n",
    "                     LSmaxSensorNum = maxSensorNum,\n",
    "                     ISmaxSensorNum = ISsensorsNum, \n",
    "                     initial_state = initial_state,\n",
    "                     input_sensor_types = sensor_types)\n",
    "\n",
    "    with open('Results_BO/history(IS' + str(ISsensorsNum) + ')_' + str(i), 'wb') as handle:\n",
    "        pickle.dump(history, handle, protocol=pickle.HIGHEST_PROTOCOL)\n",
    "            \n",
    "    print(history)"
   ]
  },
  {
   "cell_type": "code",
   "execution_count": null,
   "metadata": {},
   "outputs": [],
   "source": []
  }
 ],
 "metadata": {
  "kernelspec": {
   "display_name": "Python 3 (ipykernel)",
   "language": "python",
   "name": "python3"
  },
  "language_info": {
   "codemirror_mode": {
    "name": "ipython",
    "version": 3
   },
   "file_extension": ".py",
   "mimetype": "text/x-python",
   "name": "python",
   "nbconvert_exporter": "python",
   "pygments_lexer": "ipython3",
   "version": "3.9.7"
  }
 },
 "nbformat": 4,
 "nbformat_minor": 4
}
