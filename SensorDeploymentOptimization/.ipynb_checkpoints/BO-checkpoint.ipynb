{
 "cells": [
  {
   "cell_type": "code",
   "execution_count": null,
   "metadata": {},
   "outputs": [],
   "source": [
    "import SensorOptimizers.BayesianOptimization as bo\n",
    "import numpy as np\n",
    "import pickle\n",
    "\n",
    "ROS = True\n",
    "epsilon = 0.5\n",
    "multi_objective = False\n",
    "sensorNum = 7\n",
    "initial_state = 'fixed'\n",
    "\n",
    "maxSensorNum = int(np.min([(8 / epsilon) * (8 / epsilon), sensorNum]))\n",
    "\n",
    "print('----- Running BO with: \\n \\t - epsilon: ', epsilon, \n",
    "      '\\n \\t - sensor #:', sensorNum, \n",
    "      ' \\n \\t - initial state: ', initial_state)\n",
    "\n",
    "for i in range(0, 3):\n",
    "    history = bo.run(iteration = 1000, \n",
    "                     epsilon = epsilon, \n",
    "                     ROS = True, \n",
    "                     multi_objective = multi_objective, \n",
    "                     maxSensorNum = maxSensorNum,\n",
    "                     initial_state = 'random'\n",
    "                    )\n",
    "\n",
    "    if ROS == True:\n",
    "        with open('Results_BO/history(7-0.5)_' + str(i), 'wb') as handle:\n",
    "            pickle.dump(history, handle, protocol=pickle.HIGHEST_PROTOCOL)\n",
    "\n",
    "    else:\n",
    "        with open('Results_BO(without ROS)/history(7-0.5)_' + str(i), 'wb') as handle:\n",
    "            pickle.dump(history, handle, protocol=pickle.HIGHEST_PROTOCOL)\n",
    "            \n",
    "    print(history)"
   ]
  },
  {
   "cell_type": "code",
   "execution_count": null,
   "metadata": {},
   "outputs": [],
   "source": []
  }
 ],
 "metadata": {
  "kernelspec": {
   "display_name": "Python 3",
   "language": "python",
   "name": "python3"
  },
  "language_info": {
   "codemirror_mode": {
    "name": "ipython",
    "version": 3
   },
   "file_extension": ".py",
   "mimetype": "text/x-python",
   "name": "python",
   "nbconvert_exporter": "python",
   "pygments_lexer": "ipython3",
   "version": "3.9.0"
  }
 },
 "nbformat": 4,
 "nbformat_minor": 4
}
