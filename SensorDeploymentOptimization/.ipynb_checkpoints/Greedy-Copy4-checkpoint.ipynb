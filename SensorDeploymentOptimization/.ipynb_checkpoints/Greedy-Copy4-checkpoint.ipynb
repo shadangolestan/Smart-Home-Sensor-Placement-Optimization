{
 "cells": [
  {
   "cell_type": "code",
   "execution_count": null,
   "metadata": {
    "scrolled": false
   },
   "outputs": [
    {
     "name": "stdout",
     "output_type": "stream",
     "text": [
      "----- Running BO with: \n",
      " \t - epsilon:  1 \n",
      " \t - LS sensors #: 5 \n",
      " \t - IS sensors #: 0  \n",
      " \t - initial state:  random\n",
      "----- Running SimulatedAnnealing for epsilon = 1\n",
      "0\n",
      "getting the next generation\n"
     ]
    }
   ],
   "source": [
    "\n",
    "import SensorOptimizers.SimulatedAnnealing as sa\n",
    "import numpy as np\n",
    "import pickle\n",
    "\n",
    "ROS = True\n",
    "epsilon = 1\n",
    "multi_objective = False\n",
    "LSsensorsNum = 5\n",
    "ISsensorsNum = 0\n",
    "initial_state = 'random'\n",
    "\n",
    "sensor_types = {\n",
    "    'model_motion_sensor': True,\n",
    "    'model_beacon_sensor': False,\n",
    "    'model_pressure_sensor': False,\n",
    "    'model_accelerometer': False,\n",
    "    'model_electricity_sensor': False\n",
    "}\n",
    "\n",
    "\n",
    "maxSensorNum = int(np.min([(8 / epsilon) * (8 / epsilon), LSsensorsNum]))\n",
    "\n",
    "print('----- Running BO with: \\n \\t - epsilon: ', epsilon, \n",
    "      '\\n \\t - LS sensors #:', LSsensorsNum, \n",
    "      '\\n \\t - IS sensors #:', ISsensorsNum, \n",
    "      ' \\n \\t - initial state: ', initial_state)\n",
    "\n",
    "for i in range(2, 3):\n",
    "    history = sa.run(iteration = 1000, \n",
    "                     epsilon = epsilon, \n",
    "                     ROS = True, \n",
    "                     multi_objective = multi_objective, \n",
    "                     LSmaxSensorNum = maxSensorNum,\n",
    "                     ISmaxSensorNum = ISsensorsNum, \n",
    "                     initial_state = initial_state,\n",
    "                     input_sensor_types = sensor_types)\n",
    "\n",
    "    with open('Results_SA/history(LS' + str(LSsensorsNum) + ')_' + str(i), 'wb') as handle:\n",
    "        pickle.dump(history, handle, protocol=pickle.HIGHEST_PROTOCOL)"
   ]
  },
  {
   "cell_type": "code",
   "execution_count": null,
   "metadata": {},
   "outputs": [],
   "source": []
  }
 ],
 "metadata": {
  "kernelspec": {
   "display_name": "Python 3 (ipykernel)",
   "language": "python",
   "name": "python3"
  },
  "language_info": {
   "codemirror_mode": {
    "name": "ipython",
    "version": 3
   },
   "file_extension": ".py",
   "mimetype": "text/x-python",
   "name": "python",
   "nbconvert_exporter": "python",
   "pygments_lexer": "ipython3",
   "version": "3.9.7"
  }
 },
 "nbformat": 4,
 "nbformat_minor": 4
}
