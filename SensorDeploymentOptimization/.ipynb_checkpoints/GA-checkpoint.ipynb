{
 "cells": [
  {
   "cell_type": "code",
   "execution_count": 1,
   "metadata": {},
   "outputs": [
    {
     "name": "stdout",
     "output_type": "stream",
     "text": [
      "Requirement already satisfied: shapely in c:\\users\\shada\\anaconda3\\lib\\site-packages (1.8.0)\n"
     ]
    }
   ],
   "source": [
    "!pip install shapely"
   ]
  },
  {
   "cell_type": "code",
   "execution_count": 2,
   "metadata": {},
   "outputs": [],
   "source": [
    "import SensorOptimizers.GeneticAlgorithm as ga\n",
    "import numpy as np"
   ]
  },
  {
   "cell_type": "code",
   "execution_count": 4,
   "metadata": {
    "executionInfo": {
     "elapsed": 2228,
     "status": "ok",
     "timestamp": 1635471051205,
     "user": {
      "displayName": "Shadan Golestan-Irani",
      "photoUrl": "https://lh3.googleusercontent.com/a-/AOh14GjzIpBx-tX-xncT2d8sC4323jdDLC4K-HcuzJgpIA=s64",
      "userId": "05022969837639573312"
     },
     "user_tz": 360
    },
    "id": "j9zzrlSIv5tq"
   },
   "outputs": [
    {
     "name": "stdout",
     "output_type": "stream",
     "text": [
      "-----  Running Genetic Algorithm # 0 :\n",
      "----- Running GA for epsilon = 1\n"
     ]
    },
    {
     "data": {
      "application/vnd.jupyter.widget-view+json": {
       "model_id": "72449e856ee74c32937e8d3adfb68e3f",
       "version_major": 2,
       "version_minor": 0
      },
      "text/plain": [
       "IntProgress(value=0)"
      ]
     },
     "metadata": {},
     "output_type": "display_data"
    },
    {
     "name": "stdout",
     "output_type": "stream",
     "text": [
      "(epoch 1) ----- The best answer: {29.417512} with (12) number of sensors (average fitness is: 14.987045)\n",
      "(epoch 2) ----- The best answer: {31.757580} with (11) number of sensors (average fitness is: 17.939879)\n",
      "(epoch 3) ----- The best answer: {31.794495} with (11) number of sensors (average fitness is: 18.080894)\n",
      "(epoch 4) ----- The best answer: {32.380448} with (10) number of sensors (average fitness is: 19.522123)\n",
      "(epoch 5) ----- The best answer: {34.286366} with (10) number of sensors (average fitness is: 21.552096)\n",
      "(epoch 6) ----- The best answer: {35.340070} with (10) number of sensors (average fitness is: 22.678978)\n",
      "(epoch 7) ----- The best answer: {36.439591} with (11) number of sensors (average fitness is: 23.149598)\n",
      "(epoch 8) ----- The best answer: {36.439591} with (11) number of sensors (average fitness is: 22.718071)\n",
      "(epoch 9) ----- The best answer: {36.439591} with (11) number of sensors (average fitness is: 21.266792)\n",
      "(epoch 10) ----- The best answer: {36.569041} with (11) number of sensors (average fitness is: 22.577999)\n",
      "(epoch 11) ----- The best answer: {36.569041} with (11) number of sensors (average fitness is: 22.008904)\n",
      "(epoch 12) ----- The best answer: {36.569041} with (11) number of sensors (average fitness is: 22.399013)\n",
      "(epoch 13) ----- The best answer: {36.569041} with (11) number of sensors (average fitness is: 21.731526)\n",
      "(epoch 14) ----- The best answer: {36.569041} with (11) number of sensors (average fitness is: 21.565103)\n",
      "(epoch 15) ----- The best answer: {36.569041} with (11) number of sensors (average fitness is: 21.558465)\n",
      "(epoch 16) ----- The best answer: {36.569041} with (11) number of sensors (average fitness is: 21.757288)\n",
      "(epoch 17) ----- The best answer: {36.569041} with (11) number of sensors (average fitness is: 20.065740)\n",
      "(epoch 18) ----- The best answer: {36.569041} with (11) number of sensors (average fitness is: 21.841061)\n",
      "(epoch 19) ----- The best answer: {36.569041} with (11) number of sensors (average fitness is: 21.438823)\n",
      "(epoch 20) ----- The best answer: {36.569041} with (11) number of sensors (average fitness is: 22.208709)\n",
      "(epoch 21) ----- The best answer: {36.569041} with (11) number of sensors (average fitness is: 21.292808)\n",
      "(epoch 22) ----- The best answer: {36.569041} with (11) number of sensors (average fitness is: 22.124571)\n",
      "(epoch 23) ----- The best answer: {36.212353} with (10) number of sensors (average fitness is: 22.255456)\n",
      "(epoch 24) ----- The best answer: {36.212353} with (10) number of sensors (average fitness is: 21.650258)\n",
      "(epoch 25) ----- The best answer: {36.212353} with (10) number of sensors (average fitness is: 22.794995)\n",
      "(epoch 26) ----- The best answer: {36.212353} with (10) number of sensors (average fitness is: 23.508079)\n",
      "(epoch 27) ----- The best answer: {36.212353} with (10) number of sensors (average fitness is: 22.326092)\n",
      "(epoch 28) ----- The best answer: {36.212353} with (10) number of sensors (average fitness is: 23.078621)\n",
      "(epoch 29) ----- The best answer: {36.212353} with (10) number of sensors (average fitness is: 22.489060)\n",
      "(epoch 30) ----- The best answer: {36.212353} with (10) number of sensors (average fitness is: 21.934565)\n",
      "(epoch 31) ----- The best answer: {36.212353} with (10) number of sensors (average fitness is: 22.889553)\n",
      "(epoch 32) ----- The best answer: {36.212353} with (10) number of sensors (average fitness is: 22.207562)\n",
      "(epoch 33) ----- The best answer: {36.212353} with (10) number of sensors (average fitness is: 21.889613)\n",
      "(epoch 34) ----- The best answer: {36.212353} with (10) number of sensors (average fitness is: 22.406383)\n",
      "(epoch 35) ----- The best answer: {36.212353} with (10) number of sensors (average fitness is: 22.829507)\n",
      "(epoch 36) ----- The best answer: {36.212353} with (10) number of sensors (average fitness is: 23.083215)\n",
      "(epoch 37) ----- The best answer: {36.212353} with (10) number of sensors (average fitness is: 22.439321)\n",
      "(epoch 38) ----- The best answer: {36.212353} with (10) number of sensors (average fitness is: 22.867353)\n",
      "(epoch 39) ----- The best answer: {36.212353} with (10) number of sensors (average fitness is: 22.561889)\n",
      "(epoch 40) ----- The best answer: {36.212353} with (10) number of sensors (average fitness is: 21.712336)\n",
      "(epoch 41) ----- The best answer: {36.212353} with (10) number of sensors (average fitness is: 22.647538)\n",
      "(epoch 42) ----- The best answer: {36.212353} with (10) number of sensors (average fitness is: 20.006097)\n",
      "(epoch 43) ----- The best answer: {36.212353} with (10) number of sensors (average fitness is: 22.035608)\n",
      "(epoch 44) ----- The best answer: {36.212353} with (10) number of sensors (average fitness is: 21.682362)\n",
      "(epoch 45) ----- The best answer: {36.212353} with (10) number of sensors (average fitness is: 22.654088)\n",
      "(epoch 46) ----- The best answer: {36.212353} with (10) number of sensors (average fitness is: 22.344534)\n",
      "(epoch 47) ----- The best answer: {36.212353} with (10) number of sensors (average fitness is: 22.482863)\n",
      "(epoch 48) ----- The best answer: {36.212353} with (10) number of sensors (average fitness is: 22.255074)\n",
      "(epoch 49) ----- The best answer: {36.212353} with (10) number of sensors (average fitness is: 21.459728)\n",
      "(epoch 50) ----- The best answer: {36.212353} with (10) number of sensors (average fitness is: 21.712103)\n",
      "(epoch 51) ----- The best answer: {36.212353} with (10) number of sensors (average fitness is: 21.467694)\n",
      "(epoch 52) ----- The best answer: {36.212353} with (10) number of sensors (average fitness is: 21.581821)\n",
      "(epoch 53) ----- The best answer: {36.212353} with (10) number of sensors (average fitness is: 22.328189)\n",
      "(epoch 54) ----- The best answer: {36.212353} with (10) number of sensors (average fitness is: 22.093632)\n",
      "(epoch 55) ----- The best answer: {36.212353} with (10) number of sensors (average fitness is: 21.737483)\n",
      "(epoch 56) ----- The best answer: {36.212353} with (10) number of sensors (average fitness is: 22.939806)\n",
      "(epoch 57) ----- The best answer: {38.061772} with (10) number of sensors (average fitness is: 24.011889)\n",
      "(epoch 58) ----- The best answer: {38.061772} with (10) number of sensors (average fitness is: 22.922682)\n",
      "(epoch 59) ----- The best answer: {38.061772} with (10) number of sensors (average fitness is: 23.143297)\n",
      "(epoch 60) ----- The best answer: {38.061772} with (10) number of sensors (average fitness is: 22.664183)\n",
      "(epoch 61) ----- The best answer: {38.061772} with (10) number of sensors (average fitness is: 22.513946)\n",
      "(epoch 62) ----- The best answer: {38.061772} with (10) number of sensors (average fitness is: 23.344940)\n",
      "(epoch 63) ----- The best answer: {38.061772} with (10) number of sensors (average fitness is: 22.281228)\n",
      "(epoch 64) ----- The best answer: {38.061772} with (10) number of sensors (average fitness is: 22.832424)\n",
      "(epoch 65) ----- The best answer: {38.061772} with (10) number of sensors (average fitness is: 24.645798)\n",
      "(epoch 66) ----- The best answer: {38.061772} with (10) number of sensors (average fitness is: 24.447093)\n",
      "(epoch 67) ----- The best answer: {38.061772} with (10) number of sensors (average fitness is: 23.395597)\n",
      "(epoch 68) ----- The best answer: {38.061772} with (10) number of sensors (average fitness is: 23.987096)\n",
      "(epoch 69) ----- The best answer: {38.061772} with (10) number of sensors (average fitness is: 21.899019)\n",
      "(epoch 70) ----- The best answer: {38.061772} with (10) number of sensors (average fitness is: 22.931279)\n",
      "(epoch 71) ----- The best answer: {38.061772} with (10) number of sensors (average fitness is: 22.512923)\n",
      "(epoch 72) ----- The best answer: {38.061772} with (10) number of sensors (average fitness is: 23.085255)\n",
      "(epoch 73) ----- The best answer: {38.061772} with (10) number of sensors (average fitness is: 23.404148)\n",
      "(epoch 74) ----- The best answer: {38.061772} with (10) number of sensors (average fitness is: 23.677686)\n",
      "(epoch 75) ----- The best answer: {38.061772} with (10) number of sensors (average fitness is: 22.291794)\n",
      "(epoch 76) ----- The best answer: {38.061772} with (10) number of sensors (average fitness is: 23.944191)\n",
      "(epoch 77) ----- The best answer: {38.061772} with (10) number of sensors (average fitness is: 23.851339)\n",
      "(epoch 78) ----- The best answer: {38.061772} with (10) number of sensors (average fitness is: 23.615341)\n"
     ]
    },
    {
     "name": "stdout",
     "output_type": "stream",
     "text": [
      "(epoch 79) ----- The best answer: {37.627015} with (9) number of sensors (average fitness is: 24.003247)\n",
      "(epoch 80) ----- The best answer: {37.627015} with (9) number of sensors (average fitness is: 23.103544)\n",
      "(epoch 81) ----- The best answer: {37.627015} with (9) number of sensors (average fitness is: 24.579323)\n",
      "(epoch 82) ----- The best answer: {37.627015} with (9) number of sensors (average fitness is: 23.296377)\n",
      "(epoch 83) ----- The best answer: {37.627015} with (9) number of sensors (average fitness is: 23.561930)\n",
      "(epoch 84) ----- The best answer: {37.898360} with (9) number of sensors (average fitness is: 24.524257)\n",
      "(epoch 85) ----- The best answer: {37.898360} with (9) number of sensors (average fitness is: 23.633720)\n",
      "(epoch 86) ----- The best answer: {37.898360} with (9) number of sensors (average fitness is: 23.745022)\n",
      "(epoch 87) ----- The best answer: {37.898360} with (9) number of sensors (average fitness is: 23.371221)\n",
      "(epoch 88) ----- The best answer: {37.898360} with (9) number of sensors (average fitness is: 23.927998)\n",
      "(epoch 89) ----- The best answer: {37.898360} with (9) number of sensors (average fitness is: 23.834827)\n",
      "(epoch 90) ----- The best answer: {37.898360} with (9) number of sensors (average fitness is: 23.279634)\n",
      "(epoch 91) ----- The best answer: {37.898360} with (9) number of sensors (average fitness is: 23.458442)\n",
      "(epoch 92) ----- The best answer: {37.898360} with (9) number of sensors (average fitness is: 23.674965)\n"
     ]
    },
    {
     "ename": "KeyboardInterrupt",
     "evalue": "",
     "output_type": "error",
     "traceback": [
      "\u001b[1;31m---------------------------------------------------------------------------\u001b[0m",
      "\u001b[1;31mKeyboardInterrupt\u001b[0m                         Traceback (most recent call last)",
      "\u001b[1;32m<ipython-input-4-80ea1b185289>\u001b[0m in \u001b[0;36m<module>\u001b[1;34m\u001b[0m\n\u001b[0;32m      2\u001b[0m \u001b[1;32mfor\u001b[0m \u001b[0mi\u001b[0m \u001b[1;32min\u001b[0m \u001b[0mrange\u001b[0m\u001b[1;33m(\u001b[0m\u001b[1;36m10\u001b[0m\u001b[1;33m)\u001b[0m\u001b[1;33m:\u001b[0m\u001b[1;33m\u001b[0m\u001b[1;33m\u001b[0m\u001b[0m\n\u001b[0;32m      3\u001b[0m     \u001b[0mprint\u001b[0m\u001b[1;33m(\u001b[0m\u001b[1;34m'----- '\u001b[0m\u001b[1;33m,\u001b[0m \u001b[1;34m'Running Genetic Algorithm #'\u001b[0m\u001b[1;33m,\u001b[0m \u001b[0mi\u001b[0m\u001b[1;33m,\u001b[0m \u001b[1;34m':'\u001b[0m\u001b[1;33m)\u001b[0m\u001b[1;33m\u001b[0m\u001b[1;33m\u001b[0m\u001b[0m\n\u001b[1;32m----> 4\u001b[1;33m     \u001b[0mresult\u001b[0m \u001b[1;33m=\u001b[0m \u001b[0mga\u001b[0m\u001b[1;33m.\u001b[0m\u001b[0mrun\u001b[0m\u001b[1;33m(\u001b[0m\u001b[0mprint_epochs\u001b[0m \u001b[1;33m=\u001b[0m \u001b[1;32mTrue\u001b[0m\u001b[1;33m)\u001b[0m\u001b[1;33m\u001b[0m\u001b[1;33m\u001b[0m\u001b[0m\n\u001b[0m\u001b[0;32m      5\u001b[0m     \u001b[0mresults\u001b[0m\u001b[1;33m.\u001b[0m\u001b[0mappend\u001b[0m\u001b[1;33m(\u001b[0m\u001b[0mresult\u001b[0m\u001b[1;33m)\u001b[0m\u001b[1;33m\u001b[0m\u001b[1;33m\u001b[0m\u001b[0m\n\u001b[0;32m      6\u001b[0m \u001b[1;33m\u001b[0m\u001b[0m\n",
      "\u001b[1;32m~\\Desktop\\Codes\\SensorDeploymentOptimization\\SensorOptimizers\\GeneticAlgorithm.py\u001b[0m in \u001b[0;36mrun\u001b[1;34m(run_on_google_colab, iteration, population, epsilon, initSensorNum, maxSensorNum, radius, mutation_rate, crossover, survival_rate, reproduction_rate, print_epochs)\u001b[0m\n\u001b[0;32m    638\u001b[0m             \u001b[0mf\u001b[0m\u001b[1;33m.\u001b[0m\u001b[0mvalue\u001b[0m \u001b[1;33m+=\u001b[0m \u001b[1;36m1\u001b[0m\u001b[1;33m\u001b[0m\u001b[1;33m\u001b[0m\u001b[0m\n\u001b[0;32m    639\u001b[0m             \u001b[0mga\u001b[0m\u001b[1;33m.\u001b[0m\u001b[0mGetNextGeneration\u001b[0m\u001b[1;33m(\u001b[0m\u001b[1;33m)\u001b[0m\u001b[1;33m\u001b[0m\u001b[1;33m\u001b[0m\u001b[0m\n\u001b[1;32m--> 640\u001b[1;33m             \u001b[0mga\u001b[0m\u001b[1;33m.\u001b[0m\u001b[0mRunFitnessFunction\u001b[0m\u001b[1;33m(\u001b[0m\u001b[1;32mTrue\u001b[0m\u001b[1;33m,\u001b[0m \u001b[1;32mFalse\u001b[0m\u001b[1;33m,\u001b[0m \u001b[1;32mFalse\u001b[0m\u001b[1;33m,\u001b[0m \u001b[1;36m1\u001b[0m\u001b[1;33m)\u001b[0m\u001b[1;33m\u001b[0m\u001b[1;33m\u001b[0m\u001b[0m\n\u001b[0m\u001b[0;32m    641\u001b[0m             \u001b[0mga\u001b[0m\u001b[1;33m.\u001b[0m\u001b[0mSelection\u001b[0m\u001b[1;33m(\u001b[0m\u001b[1;33m)\u001b[0m\u001b[1;33m\u001b[0m\u001b[1;33m\u001b[0m\u001b[0m\n\u001b[0;32m    642\u001b[0m \u001b[1;33m\u001b[0m\u001b[0m\n",
      "\u001b[1;32m~\\Desktop\\Codes\\SensorDeploymentOptimization\\SensorOptimizers\\GeneticAlgorithm.py\u001b[0m in \u001b[0;36mRunFitnessFunction\u001b[1;34m(self, simulateMotionSensors, simulateEstimotes, Plotting, iteration)\u001b[0m\n\u001b[0;32m    284\u001b[0m                 \u001b[1;32mfor\u001b[0m \u001b[0magentTrace\u001b[0m \u001b[1;32min\u001b[0m \u001b[0mself\u001b[0m\u001b[1;33m.\u001b[0m\u001b[0magentTraces\u001b[0m\u001b[1;33m:\u001b[0m\u001b[1;33m\u001b[0m\u001b[1;33m\u001b[0m\u001b[0m\n\u001b[0;32m    285\u001b[0m                     \u001b[0mfilecoding\u001b[0m \u001b[1;33m=\u001b[0m \u001b[1;34m' '\u001b[0m\u001b[1;31m#\"_\" + str(iteration) + \"_c\" + str(index + 1) + '(' + self.mode + ')'\u001b[0m\u001b[1;33m\u001b[0m\u001b[1;33m\u001b[0m\u001b[0m\n\u001b[1;32m--> 286\u001b[1;33m                     \u001b[0mdf_\u001b[0m \u001b[1;33m=\u001b[0m \u001b[0mSIM_SIS_Simulator\u001b[0m\u001b[1;33m.\u001b[0m\u001b[0mRunSimulator\u001b[0m\u001b[1;33m(\u001b[0m\u001b[0mself\u001b[0m\u001b[1;33m.\u001b[0m\u001b[0mspace\u001b[0m\u001b[1;33m,\u001b[0m \u001b[0mself\u001b[0m\u001b[1;33m.\u001b[0m\u001b[0mrooms\u001b[0m\u001b[1;33m,\u001b[0m \u001b[0magentTrace\u001b[0m\u001b[1;33m,\u001b[0m \u001b[0mchromosome\u001b[0m\u001b[1;33m.\u001b[0m\u001b[0mGetSensorConfiguration\u001b[0m\u001b[1;33m(\u001b[0m\u001b[1;33m)\u001b[0m \u001b[1;33m,\u001b[0m \u001b[0msimulateMotionSensors\u001b[0m\u001b[1;33m,\u001b[0m \u001b[0msimulateEstimotes\u001b[0m\u001b[1;33m,\u001b[0m \u001b[0mPlotting\u001b[0m \u001b[1;33m,\u001b[0m \u001b[0mself\u001b[0m\u001b[1;33m.\u001b[0m\u001b[0mData_path\u001b[0m\u001b[1;33m)\u001b[0m\u001b[1;33m\u001b[0m\u001b[1;33m\u001b[0m\u001b[0m\n\u001b[0m\u001b[0;32m    287\u001b[0m                     \u001b[0mdataFile\u001b[0m\u001b[1;33m,\u001b[0m \u001b[0msensors\u001b[0m \u001b[1;33m=\u001b[0m \u001b[0mself\u001b[0m\u001b[1;33m.\u001b[0m\u001b[0mPreProcessor\u001b[0m\u001b[1;33m(\u001b[0m\u001b[0mdf_\u001b[0m\u001b[1;33m)\u001b[0m\u001b[1;33m\u001b[0m\u001b[1;33m\u001b[0m\u001b[0m\n\u001b[0;32m    288\u001b[0m                     \u001b[0mall_sensors\u001b[0m\u001b[1;33m.\u001b[0m\u001b[0mupdate\u001b[0m\u001b[1;33m(\u001b[0m\u001b[0msensors\u001b[0m\u001b[1;33m)\u001b[0m\u001b[1;33m\u001b[0m\u001b[1;33m\u001b[0m\u001b[0m\n",
      "\u001b[1;32m~\\Desktop\\Codes\\SensorDeploymentOptimization\\SIM_SIS_Libraries\\SIM_SIS_Simulator.py\u001b[0m in \u001b[0;36mRunSimulator\u001b[1;34m(space, Rooms, agentTrace, sensorsConfiguration, simulateMotionSensorsflag, simulateEstimotesflag, plottingflag, Data_path)\u001b[0m\n\u001b[0;32m    362\u001b[0m \u001b[1;33m\u001b[0m\u001b[0m\n\u001b[0;32m    363\u001b[0m         \u001b[1;31m# print('RunSimulation')\u001b[0m\u001b[1;33m\u001b[0m\u001b[1;33m\u001b[0m\u001b[1;33m\u001b[0m\u001b[0m\n\u001b[1;32m--> 364\u001b[1;33m         \u001b[0mRunSimulation\u001b[0m\u001b[1;33m(\u001b[0m\u001b[0mFDN\u001b[0m\u001b[1;33m,\u001b[0m \u001b[0msimulateMotionSensors\u001b[0m\u001b[1;33m,\u001b[0m \u001b[0msimulateEstimotes\u001b[0m\u001b[1;33m)\u001b[0m\u001b[1;33m\u001b[0m\u001b[1;33m\u001b[0m\u001b[0m\n\u001b[0m\u001b[0;32m    365\u001b[0m         \u001b[1;31m# print('RunSimulation done')\u001b[0m\u001b[1;33m\u001b[0m\u001b[1;33m\u001b[0m\u001b[1;33m\u001b[0m\u001b[0m\n\u001b[0;32m    366\u001b[0m \u001b[1;33m\u001b[0m\u001b[0m\n",
      "\u001b[1;32m~\\Desktop\\Codes\\SensorDeploymentOptimization\\SIM_SIS_Libraries\\SIM_SIS_Simulator.py\u001b[0m in \u001b[0;36mRunSimulation\u001b[1;34m(FDN, simulateMotionSensors, simulateEstimotes)\u001b[0m\n\u001b[0;32m    297\u001b[0m         \u001b[0mtimetoadd\u001b[0m \u001b[1;33m=\u001b[0m \u001b[0mdf_\u001b[0m\u001b[1;33m.\u001b[0m\u001b[0mtime\u001b[0m\u001b[1;33m[\u001b[0m\u001b[0mi\u001b[0m\u001b[1;33m]\u001b[0m\u001b[1;33m\u001b[0m\u001b[1;33m\u001b[0m\u001b[0m\n\u001b[0;32m    298\u001b[0m \u001b[1;33m\u001b[0m\u001b[0m\n\u001b[1;32m--> 299\u001b[1;33m         \u001b[0mSimulateSensorReadings\u001b[0m\u001b[1;33m(\u001b[0m\u001b[0msimulateMotionSensors\u001b[0m\u001b[1;33m,\u001b[0m \u001b[0msimulateEstimotes\u001b[0m\u001b[1;33m,\u001b[0m \u001b[0mtimetoadd\u001b[0m\u001b[1;33m,\u001b[0m \u001b[0mi\u001b[0m\u001b[1;33m,\u001b[0m \u001b[0magent1Loc_rnd\u001b[0m\u001b[1;33m,\u001b[0m \u001b[0maction\u001b[0m\u001b[1;33m,\u001b[0m  \u001b[1;32mNone\u001b[0m\u001b[1;33m)\u001b[0m\u001b[1;33m\u001b[0m\u001b[1;33m\u001b[0m\u001b[0m\n\u001b[0m\u001b[0;32m    300\u001b[0m \u001b[1;33m\u001b[0m\u001b[0m\n\u001b[0;32m    301\u001b[0m \u001b[1;32mdef\u001b[0m \u001b[0mCreateUltimateDataset\u001b[0m\u001b[1;33m(\u001b[0m\u001b[0mUDN\u001b[0m\u001b[1;33m,\u001b[0m \u001b[0mepoch\u001b[0m\u001b[1;33m)\u001b[0m\u001b[1;33m:\u001b[0m\u001b[1;33m\u001b[0m\u001b[1;33m\u001b[0m\u001b[0m\n",
      "\u001b[1;32m~\\Desktop\\Codes\\SensorDeploymentOptimization\\SIM_SIS_Libraries\\SIM_SIS_Simulator.py\u001b[0m in \u001b[0;36mSimulateSensorReadings\u001b[1;34m(simulateMotionSensors, simulateEstimotes, t, i, agent1Loc, action, agent2Loc)\u001b[0m\n\u001b[0;32m    211\u001b[0m         \u001b[0mcirc\u001b[0m \u001b[1;33m=\u001b[0m \u001b[0mCircle\u001b[0m\u001b[1;33m(\u001b[0m\u001b[1;33m(\u001b[0m\u001b[0mfloat\u001b[0m\u001b[1;33m(\u001b[0m\u001b[0mfloat\u001b[0m\u001b[1;33m(\u001b[0m\u001b[0msensor\u001b[0m\u001b[1;33m.\u001b[0m\u001b[0mx\u001b[0m\u001b[1;33m)\u001b[0m \u001b[1;33m/\u001b[0m \u001b[1;36m100\u001b[0m\u001b[1;33m)\u001b[0m\u001b[1;33m,\u001b[0m \u001b[0mfloat\u001b[0m\u001b[1;33m(\u001b[0m\u001b[0mfloat\u001b[0m\u001b[1;33m(\u001b[0m\u001b[0msensor\u001b[0m\u001b[1;33m.\u001b[0m\u001b[0my\u001b[0m\u001b[1;33m)\u001b[0m \u001b[1;33m/\u001b[0m \u001b[1;36m100\u001b[0m\u001b[1;33m)\u001b[0m\u001b[1;33m)\u001b[0m\u001b[1;33m,\u001b[0m \u001b[0mfloat\u001b[0m\u001b[1;33m(\u001b[0m\u001b[0mfloat\u001b[0m\u001b[1;33m(\u001b[0m\u001b[0msensor\u001b[0m\u001b[1;33m.\u001b[0m\u001b[0msensing_area\u001b[0m\u001b[1;33m)\u001b[0m \u001b[1;33m/\u001b[0m \u001b[1;36m100\u001b[0m\u001b[1;33m)\u001b[0m\u001b[1;33m)\u001b[0m\u001b[1;33m\u001b[0m\u001b[1;33m\u001b[0m\u001b[0m\n\u001b[0;32m    212\u001b[0m \u001b[1;33m\u001b[0m\u001b[0m\n\u001b[1;32m--> 213\u001b[1;33m         \u001b[1;32mif\u001b[0m \u001b[1;33m(\u001b[0m\u001b[0mcirc\u001b[0m\u001b[1;33m.\u001b[0m\u001b[0mcontains_point\u001b[0m\u001b[1;33m(\u001b[0m\u001b[1;33m[\u001b[0m\u001b[0magent1Loc\u001b[0m\u001b[1;33m[\u001b[0m\u001b[1;36m0\u001b[0m\u001b[1;33m]\u001b[0m\u001b[1;33m,\u001b[0m \u001b[0magent1Loc\u001b[0m\u001b[1;33m[\u001b[0m\u001b[1;36m1\u001b[0m\u001b[1;33m]\u001b[0m\u001b[1;33m]\u001b[0m\u001b[1;33m)\u001b[0m \u001b[1;32mand\u001b[0m \u001b[1;33m(\u001b[0m\u001b[0mRecContains\u001b[0m\u001b[1;33m(\u001b[0m\u001b[0magent1Loc\u001b[0m\u001b[1;33m[\u001b[0m\u001b[1;36m0\u001b[0m\u001b[1;33m]\u001b[0m\u001b[1;33m,\u001b[0m \u001b[0magent1Loc\u001b[0m\u001b[1;33m[\u001b[0m\u001b[1;36m1\u001b[0m\u001b[1;33m]\u001b[0m\u001b[1;33m,\u001b[0m \u001b[0msensor\u001b[0m\u001b[1;33m.\u001b[0m\u001b[0mroom\u001b[0m\u001b[1;33m)\u001b[0m \u001b[1;32mor\u001b[0m \u001b[0msensor\u001b[0m\u001b[1;33m.\u001b[0m\u001b[0msensor_type\u001b[0m \u001b[1;33m==\u001b[0m \u001b[1;34m\"beacon_sensor\"\u001b[0m\u001b[1;33m)\u001b[0m\u001b[1;33m)\u001b[0m\u001b[1;33m:\u001b[0m\u001b[1;33m\u001b[0m\u001b[1;33m\u001b[0m\u001b[0m\n\u001b[0m\u001b[0;32m    214\u001b[0m             \u001b[0mno_event_flag\u001b[0m \u001b[1;33m=\u001b[0m \u001b[1;36m0\u001b[0m\u001b[1;33m\u001b[0m\u001b[1;33m\u001b[0m\u001b[0m\n\u001b[0;32m    215\u001b[0m             \u001b[0mevent\u001b[0m \u001b[1;33m=\u001b[0m \u001b[0mec\u001b[0m\u001b[1;33m.\u001b[0m\u001b[0mEvent\u001b[0m\u001b[1;33m(\u001b[0m\u001b[1;33m)\u001b[0m\u001b[1;33m\u001b[0m\u001b[1;33m\u001b[0m\u001b[0m\n",
      "\u001b[1;32m~\\anaconda3\\lib\\site-packages\\matplotlib\\patches.py\u001b[0m in \u001b[0;36mcontains_point\u001b[1;34m(self, point, radius)\u001b[0m\n\u001b[0;32m    198\u001b[0m         \u001b[0mradius\u001b[0m \u001b[1;33m=\u001b[0m \u001b[0mself\u001b[0m\u001b[1;33m.\u001b[0m\u001b[0m_process_radius\u001b[0m\u001b[1;33m(\u001b[0m\u001b[0mradius\u001b[0m\u001b[1;33m)\u001b[0m\u001b[1;33m\u001b[0m\u001b[1;33m\u001b[0m\u001b[0m\n\u001b[0;32m    199\u001b[0m         return self.get_path().contains_point(point,\n\u001b[1;32m--> 200\u001b[1;33m                                               \u001b[0mself\u001b[0m\u001b[1;33m.\u001b[0m\u001b[0mget_transform\u001b[0m\u001b[1;33m(\u001b[0m\u001b[1;33m)\u001b[0m\u001b[1;33m,\u001b[0m\u001b[1;33m\u001b[0m\u001b[1;33m\u001b[0m\u001b[0m\n\u001b[0m\u001b[0;32m    201\u001b[0m                                               radius)\n\u001b[0;32m    202\u001b[0m \u001b[1;33m\u001b[0m\u001b[0m\n",
      "\u001b[1;32m~\\anaconda3\\lib\\site-packages\\matplotlib\\patches.py\u001b[0m in \u001b[0;36mget_transform\u001b[1;34m(self)\u001b[0m\n\u001b[0;32m    258\u001b[0m     \u001b[1;32mdef\u001b[0m \u001b[0mget_transform\u001b[0m\u001b[1;33m(\u001b[0m\u001b[0mself\u001b[0m\u001b[1;33m)\u001b[0m\u001b[1;33m:\u001b[0m\u001b[1;33m\u001b[0m\u001b[1;33m\u001b[0m\u001b[0m\n\u001b[0;32m    259\u001b[0m         \u001b[1;34m\"\"\"Return the `~.transforms.Transform` applied to the `Patch`.\"\"\"\u001b[0m\u001b[1;33m\u001b[0m\u001b[1;33m\u001b[0m\u001b[0m\n\u001b[1;32m--> 260\u001b[1;33m         \u001b[1;32mreturn\u001b[0m \u001b[0mself\u001b[0m\u001b[1;33m.\u001b[0m\u001b[0mget_patch_transform\u001b[0m\u001b[1;33m(\u001b[0m\u001b[1;33m)\u001b[0m \u001b[1;33m+\u001b[0m \u001b[0martist\u001b[0m\u001b[1;33m.\u001b[0m\u001b[0mArtist\u001b[0m\u001b[1;33m.\u001b[0m\u001b[0mget_transform\u001b[0m\u001b[1;33m(\u001b[0m\u001b[0mself\u001b[0m\u001b[1;33m)\u001b[0m\u001b[1;33m\u001b[0m\u001b[1;33m\u001b[0m\u001b[0m\n\u001b[0m\u001b[0;32m    261\u001b[0m \u001b[1;33m\u001b[0m\u001b[0m\n\u001b[0;32m    262\u001b[0m     \u001b[1;32mdef\u001b[0m \u001b[0mget_data_transform\u001b[0m\u001b[1;33m(\u001b[0m\u001b[0mself\u001b[0m\u001b[1;33m)\u001b[0m\u001b[1;33m:\u001b[0m\u001b[1;33m\u001b[0m\u001b[1;33m\u001b[0m\u001b[0m\n",
      "\u001b[1;32m~\\anaconda3\\lib\\site-packages\\matplotlib\\patches.py\u001b[0m in \u001b[0;36mget_patch_transform\u001b[1;34m(self)\u001b[0m\n\u001b[0;32m   1434\u001b[0m \u001b[1;33m\u001b[0m\u001b[0m\n\u001b[0;32m   1435\u001b[0m     \u001b[1;32mdef\u001b[0m \u001b[0mget_patch_transform\u001b[0m\u001b[1;33m(\u001b[0m\u001b[0mself\u001b[0m\u001b[1;33m)\u001b[0m\u001b[1;33m:\u001b[0m\u001b[1;33m\u001b[0m\u001b[1;33m\u001b[0m\u001b[0m\n\u001b[1;32m-> 1436\u001b[1;33m         \u001b[0mself\u001b[0m\u001b[1;33m.\u001b[0m\u001b[0m_recompute_transform\u001b[0m\u001b[1;33m(\u001b[0m\u001b[1;33m)\u001b[0m\u001b[1;33m\u001b[0m\u001b[1;33m\u001b[0m\u001b[0m\n\u001b[0m\u001b[0;32m   1437\u001b[0m         \u001b[1;32mreturn\u001b[0m \u001b[0mself\u001b[0m\u001b[1;33m.\u001b[0m\u001b[0m_patch_transform\u001b[0m\u001b[1;33m\u001b[0m\u001b[1;33m\u001b[0m\u001b[0m\n\u001b[0;32m   1438\u001b[0m \u001b[1;33m\u001b[0m\u001b[0m\n",
      "\u001b[1;32m~\\anaconda3\\lib\\site-packages\\matplotlib\\patches.py\u001b[0m in \u001b[0;36m_recompute_transform\u001b[1;34m(self)\u001b[0m\n\u001b[0;32m   1424\u001b[0m         \u001b[0mwidth\u001b[0m \u001b[1;33m=\u001b[0m \u001b[0mself\u001b[0m\u001b[1;33m.\u001b[0m\u001b[0mconvert_xunits\u001b[0m\u001b[1;33m(\u001b[0m\u001b[0mself\u001b[0m\u001b[1;33m.\u001b[0m\u001b[0m_width\u001b[0m\u001b[1;33m)\u001b[0m\u001b[1;33m\u001b[0m\u001b[1;33m\u001b[0m\u001b[0m\n\u001b[0;32m   1425\u001b[0m         \u001b[0mheight\u001b[0m \u001b[1;33m=\u001b[0m \u001b[0mself\u001b[0m\u001b[1;33m.\u001b[0m\u001b[0mconvert_yunits\u001b[0m\u001b[1;33m(\u001b[0m\u001b[0mself\u001b[0m\u001b[1;33m.\u001b[0m\u001b[0m_height\u001b[0m\u001b[1;33m)\u001b[0m\u001b[1;33m\u001b[0m\u001b[1;33m\u001b[0m\u001b[0m\n\u001b[1;32m-> 1426\u001b[1;33m         \u001b[0mself\u001b[0m\u001b[1;33m.\u001b[0m\u001b[0m_patch_transform\u001b[0m \u001b[1;33m=\u001b[0m \u001b[0mtransforms\u001b[0m\u001b[1;33m.\u001b[0m\u001b[0mAffine2D\u001b[0m\u001b[1;33m(\u001b[0m\u001b[1;33m)\u001b[0m\u001b[0;31m \u001b[0m\u001b[0;31m\\\u001b[0m\u001b[1;33m\u001b[0m\u001b[1;33m\u001b[0m\u001b[0m\n\u001b[0m\u001b[0;32m   1427\u001b[0m             \u001b[1;33m.\u001b[0m\u001b[0mscale\u001b[0m\u001b[1;33m(\u001b[0m\u001b[0mwidth\u001b[0m \u001b[1;33m*\u001b[0m \u001b[1;36m0.5\u001b[0m\u001b[1;33m,\u001b[0m \u001b[0mheight\u001b[0m \u001b[1;33m*\u001b[0m \u001b[1;36m0.5\u001b[0m\u001b[1;33m)\u001b[0m\u001b[0;31m \u001b[0m\u001b[0;31m\\\u001b[0m\u001b[1;33m\u001b[0m\u001b[1;33m\u001b[0m\u001b[0m\n\u001b[0;32m   1428\u001b[0m             \u001b[1;33m.\u001b[0m\u001b[0mrotate_deg\u001b[0m\u001b[1;33m(\u001b[0m\u001b[0mself\u001b[0m\u001b[1;33m.\u001b[0m\u001b[0mangle\u001b[0m\u001b[1;33m)\u001b[0m\u001b[0;31m \u001b[0m\u001b[0;31m\\\u001b[0m\u001b[1;33m\u001b[0m\u001b[1;33m\u001b[0m\u001b[0m\n",
      "\u001b[1;32m~\\anaconda3\\lib\\site-packages\\matplotlib\\transforms.py\u001b[0m in \u001b[0;36mrotate_deg\u001b[1;34m(self, degrees)\u001b[0m\n\u001b[0;32m   1943\u001b[0m         \u001b[1;32mand\u001b[0m \u001b[1;33m:\u001b[0m\u001b[0mmeth\u001b[0m\u001b[1;33m:\u001b[0m\u001b[0;31m`\u001b[0m\u001b[0mscale\u001b[0m\u001b[0;31m`\u001b[0m\u001b[1;33m.\u001b[0m\u001b[1;33m\u001b[0m\u001b[1;33m\u001b[0m\u001b[0m\n\u001b[0;32m   1944\u001b[0m         \"\"\"\n\u001b[1;32m-> 1945\u001b[1;33m         \u001b[1;32mreturn\u001b[0m \u001b[0mself\u001b[0m\u001b[1;33m.\u001b[0m\u001b[0mrotate\u001b[0m\u001b[1;33m(\u001b[0m\u001b[0mmath\u001b[0m\u001b[1;33m.\u001b[0m\u001b[0mradians\u001b[0m\u001b[1;33m(\u001b[0m\u001b[0mdegrees\u001b[0m\u001b[1;33m)\u001b[0m\u001b[1;33m)\u001b[0m\u001b[1;33m\u001b[0m\u001b[1;33m\u001b[0m\u001b[0m\n\u001b[0m\u001b[0;32m   1946\u001b[0m \u001b[1;33m\u001b[0m\u001b[0m\n\u001b[0;32m   1947\u001b[0m     \u001b[1;32mdef\u001b[0m \u001b[0mrotate_around\u001b[0m\u001b[1;33m(\u001b[0m\u001b[0mself\u001b[0m\u001b[1;33m,\u001b[0m \u001b[0mx\u001b[0m\u001b[1;33m,\u001b[0m \u001b[0my\u001b[0m\u001b[1;33m,\u001b[0m \u001b[0mtheta\u001b[0m\u001b[1;33m)\u001b[0m\u001b[1;33m:\u001b[0m\u001b[1;33m\u001b[0m\u001b[1;33m\u001b[0m\u001b[0m\n",
      "\u001b[1;32m~\\anaconda3\\lib\\site-packages\\matplotlib\\transforms.py\u001b[0m in \u001b[0;36mrotate\u001b[1;34m(self, theta)\u001b[0m\n\u001b[0;32m   1931\u001b[0m         rotate_mtx = np.array([[a, -b, 0.0], [b, a, 0.0], [0.0, 0.0, 1.0]],\n\u001b[0;32m   1932\u001b[0m                               float)\n\u001b[1;32m-> 1933\u001b[1;33m         \u001b[0mself\u001b[0m\u001b[1;33m.\u001b[0m\u001b[0m_mtx\u001b[0m \u001b[1;33m=\u001b[0m \u001b[0mnp\u001b[0m\u001b[1;33m.\u001b[0m\u001b[0mdot\u001b[0m\u001b[1;33m(\u001b[0m\u001b[0mrotate_mtx\u001b[0m\u001b[1;33m,\u001b[0m \u001b[0mself\u001b[0m\u001b[1;33m.\u001b[0m\u001b[0m_mtx\u001b[0m\u001b[1;33m)\u001b[0m\u001b[1;33m\u001b[0m\u001b[1;33m\u001b[0m\u001b[0m\n\u001b[0m\u001b[0;32m   1934\u001b[0m         \u001b[0mself\u001b[0m\u001b[1;33m.\u001b[0m\u001b[0minvalidate\u001b[0m\u001b[1;33m(\u001b[0m\u001b[1;33m)\u001b[0m\u001b[1;33m\u001b[0m\u001b[1;33m\u001b[0m\u001b[0m\n\u001b[0;32m   1935\u001b[0m         \u001b[1;32mreturn\u001b[0m \u001b[0mself\u001b[0m\u001b[1;33m\u001b[0m\u001b[1;33m\u001b[0m\u001b[0m\n",
      "\u001b[1;32m<__array_function__ internals>\u001b[0m in \u001b[0;36mdot\u001b[1;34m(*args, **kwargs)\u001b[0m\n",
      "\u001b[1;31mKeyboardInterrupt\u001b[0m: "
     ]
    }
   ],
   "source": [
    "results = []\n",
    "for i in range(10):\n",
    "    print('----- ', 'Running Genetic Algorithm #', i, ':')\n",
    "    result = ga.run(iteration = 50, \n",
    "                       population = 10,\n",
    "                       epsilon = 1, \n",
    "                       initSensorNum = 15, \n",
    "                       maxSensorNum = 15,  \n",
    "                       radius = 1, \n",
    "                       mutation_rate = 0.005, \n",
    "                       crossover = 2,\n",
    "                       survival_rate = 0.1, \n",
    "                       reproduction_rate = 0.2,\n",
    "                       print_epochs = True\n",
    "                   )\n",
    "    results.append(result)\n",
    "    \n",
    "    print('\\t', 'Best accuracy found:', max(result[len(result) - 1])[0], ' sensors num used:', max(result[len(result) - 1])[1])"
   ]
  },
  {
   "cell_type": "code",
   "execution_count": null,
   "metadata": {},
   "outputs": [],
   "source": [
    "results[0]"
   ]
  },
  {
   "cell_type": "code",
   "execution_count": null,
   "metadata": {},
   "outputs": [],
   "source": [
    "def my_plot_convergence(\n",
    "            results,\n",
    "            xlabel=\"Number of iterations $n$\",\n",
    "            ylabel=r\"Min objective value after $n$ iterations\",\n",
    "            ax=None, name=None, alpha=0.2, yscale=None,\n",
    "            color=None, true_minimum=None,\n",
    "            **kwargs):\n",
    "        \n",
    "        losses = list(results)\n",
    "\n",
    "        n_calls = len(losses)\n",
    "        iterations = range(1, n_calls + 1)\n",
    "        maxs = [np.max(losses[:i]) for i in iterations]\n",
    "        min_maxs = min(maxs)\n",
    "        cliped_losses = np.clip(losses, min_maxs, None)\n",
    "        return plot_convergence(iterations, maxs, cliped_losses, xlabel, ylabel, ax, name, alpha, yscale, color,\n",
    "                                true_minimum, **kwargs)\n",
    "    \n",
    "def plot_convergence(\n",
    "        x, y1, y2,\n",
    "        xlabel=\"Number of iterations $n$\",\n",
    "        ylabel=r\"Min objective value after $n$ iterations\",\n",
    "        ax=None, name=None, alpha=0.2, yscale=None,\n",
    "        color=None, true_minimum=None,\n",
    "        **kwargs):\n",
    "    import matplotlib.pyplot as plt\n",
    "    \n",
    "    if ax is None:\n",
    "        ax = plt.gca()\n",
    "\n",
    "    ax.set_title(\"Convergence plot\")\n",
    "    ax.set_xlabel(xlabel)\n",
    "    ax.set_ylabel(ylabel)\n",
    "    ax.grid()\n",
    "\n",
    "    if yscale is not None:\n",
    "        ax.set_yscale(yscale)\n",
    "\n",
    "    ax.plot(x, y1, c=color, label=name, **kwargs)\n",
    "    ax.scatter(x, y2, c=color, alpha=alpha)\n",
    "\n",
    "    if true_minimum is not None:\n",
    "        ax.axhline(true_minimum, linestyle=\"--\",\n",
    "                   color=\"r\", lw=1,\n",
    "                   label=\"True minimum\")\n",
    "\n",
    "    if true_minimum is not None or name is not None:\n",
    "        ax.legend(loc=\"upper right\")\n",
    "    return ax"
   ]
  },
  {
   "cell_type": "code",
   "execution_count": null,
   "metadata": {},
   "outputs": [],
   "source": [
    "for run in results:\n",
    "    acc = []\n",
    "    for generation in run:\n",
    "        for chromosome in generation:\n",
    "            acc.append(chromosome[0])\n",
    "            \n",
    "    my_plot_convergence(acc)"
   ]
  },
  {
   "cell_type": "code",
   "execution_count": null,
   "metadata": {},
   "outputs": [],
   "source": []
  },
  {
   "cell_type": "code",
   "execution_count": null,
   "metadata": {
    "executionInfo": {
     "elapsed": 352,
     "status": "ok",
     "timestamp": 1635471051545,
     "user": {
      "displayName": "Shadan Golestan-Irani",
      "photoUrl": "https://lh3.googleusercontent.com/a-/AOh14GjzIpBx-tX-xncT2d8sC4323jdDLC4K-HcuzJgpIA=s64",
      "userId": "05022969837639573312"
     },
     "user_tz": 360
    },
    "id": "FVXdRDeskbcF"
   },
   "outputs": [],
   "source": [
    "\n",
    "# SENSORS VISUALIZATION\n",
    "\n",
    "'''\n",
    "x = []\n",
    "y = []\n",
    "for i, g in enumerate(ga.chromosomes[0].grid):\n",
    "    # print(g)\n",
    "    if g == 1:\n",
    "        x.append(ga.chromosomes[0].placeHolders[i][0])\n",
    "        y.append(ga.chromosomes[0].placeHolders[i][1])\n",
    "\n",
    "import matplotlib.pyplot as plt\n",
    "plt.figure(figsize=(6.6, 10))\n",
    "plt.scatter(y, x)\n",
    "'''"
   ]
  }
 ],
 "metadata": {
  "colab": {
   "collapsed_sections": [],
   "name": "GA.ipynb",
   "provenance": [],
   "toc_visible": true
  },
  "kernelspec": {
   "display_name": "Python 3",
   "language": "python",
   "name": "python3"
  },
  "language_info": {
   "codemirror_mode": {
    "name": "ipython",
    "version": 3
   },
   "file_extension": ".py",
   "mimetype": "text/x-python",
   "name": "python",
   "nbconvert_exporter": "python",
   "pygments_lexer": "ipython3",
   "version": "3.8.8"
  },
  "widgets": {
   "application/vnd.jupyter.widget-state+json": {
    "208ae3a7e6b84f90ad9e6b284aa3721c": {
     "model_module": "@jupyter-widgets/controls",
     "model_module_version": "1.5.0",
     "model_name": "ProgressStyleModel",
     "state": {
      "_model_module": "@jupyter-widgets/controls",
      "_model_module_version": "1.5.0",
      "_model_name": "ProgressStyleModel",
      "_view_count": null,
      "_view_module": "@jupyter-widgets/base",
      "_view_module_version": "1.2.0",
      "_view_name": "StyleView",
      "bar_color": null,
      "description_width": ""
     }
    },
    "441b254622df4958a7d151ad59bb4624": {
     "model_module": "@jupyter-widgets/base",
     "model_module_version": "1.2.0",
     "model_name": "LayoutModel",
     "state": {
      "_model_module": "@jupyter-widgets/base",
      "_model_module_version": "1.2.0",
      "_model_name": "LayoutModel",
      "_view_count": null,
      "_view_module": "@jupyter-widgets/base",
      "_view_module_version": "1.2.0",
      "_view_name": "LayoutView",
      "align_content": null,
      "align_items": null,
      "align_self": null,
      "border": null,
      "bottom": null,
      "display": null,
      "flex": null,
      "flex_flow": null,
      "grid_area": null,
      "grid_auto_columns": null,
      "grid_auto_flow": null,
      "grid_auto_rows": null,
      "grid_column": null,
      "grid_gap": null,
      "grid_row": null,
      "grid_template_areas": null,
      "grid_template_columns": null,
      "grid_template_rows": null,
      "height": null,
      "justify_content": null,
      "justify_items": null,
      "left": null,
      "margin": null,
      "max_height": null,
      "max_width": null,
      "min_height": null,
      "min_width": null,
      "object_fit": null,
      "object_position": null,
      "order": null,
      "overflow": null,
      "overflow_x": null,
      "overflow_y": null,
      "padding": null,
      "right": null,
      "top": null,
      "visibility": null,
      "width": null
     }
    },
    "650f914388934a949db3e622810c6f6e": {
     "model_module": "@jupyter-widgets/controls",
     "model_module_version": "1.5.0",
     "model_name": "IntProgressModel",
     "state": {
      "_dom_classes": [],
      "_model_module": "@jupyter-widgets/controls",
      "_model_module_version": "1.5.0",
      "_model_name": "IntProgressModel",
      "_view_count": null,
      "_view_module": "@jupyter-widgets/controls",
      "_view_module_version": "1.5.0",
      "_view_name": "ProgressView",
      "bar_style": "",
      "description": "",
      "description_tooltip": null,
      "layout": "IPY_MODEL_441b254622df4958a7d151ad59bb4624",
      "max": 100,
      "min": 0,
      "orientation": "horizontal",
      "style": "IPY_MODEL_208ae3a7e6b84f90ad9e6b284aa3721c",
      "value": 41
     }
    }
   }
  }
 },
 "nbformat": 4,
 "nbformat_minor": 1
}
