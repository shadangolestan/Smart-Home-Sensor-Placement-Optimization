{
 "cells": [
  {
   "cell_type": "code",
   "execution_count": 2,
   "metadata": {
    "executionInfo": {
     "elapsed": 2228,
     "status": "ok",
     "timestamp": 1635471051205,
     "user": {
      "displayName": "Shadan Golestan-Irani",
      "photoUrl": "https://lh3.googleusercontent.com/a-/AOh14GjzIpBx-tX-xncT2d8sC4323jdDLC4K-HcuzJgpIA=s64",
      "userId": "05022969837639573312"
     },
     "user_tz": 360
    },
    "id": "j9zzrlSIv5tq",
    "scrolled": false
   },
   "outputs": [
    {
     "name": "stdout",
     "output_type": "stream",
     "text": [
      "-----  Running Genetic Algorithm # 2 :\n",
      "----- Running GA for epsilon = 0.5\n"
     ]
    },
    {
     "data": {
      "application/vnd.jupyter.widget-view+json": {
       "model_id": "64efffefd2614075bc56b908ec2bc5a5",
       "version_major": 2,
       "version_minor": 0
      },
      "text/plain": [
       "IntProgress(value=0)"
      ]
     },
     "metadata": {},
     "output_type": "display_data"
    },
    {
     "name": "stdout",
     "output_type": "stream",
     "text": [
      "(epoch 1) ----- The best answer: {55.123185} with (15) number of sensors (average fitness is: 37.490407)\n",
      "(epoch 2) ----- The best answer: {55.406764} with (15) number of sensors (average fitness is: 38.546902)\n",
      "(epoch 3) ----- The best answer: {55.406764} with (15) number of sensors (average fitness is: 38.511624)\n",
      "(epoch 4) ----- The best answer: {55.406764} with (15) number of sensors (average fitness is: 37.911722)\n",
      "(epoch 5) ----- The best answer: {55.406764} with (15) number of sensors (average fitness is: 36.725895)\n",
      "(epoch 6) ----- The best answer: {55.833907} with (15) number of sensors (average fitness is: 37.174551)\n",
      "(epoch 7) ----- The best answer: {55.833907} with (15) number of sensors (average fitness is: 36.670472)\n",
      "(epoch 8) ----- The best answer: {55.833907} with (15) number of sensors (average fitness is: 36.440990)\n",
      "(epoch 9) ----- The best answer: {55.833907} with (15) number of sensors (average fitness is: 36.534642)\n",
      "(epoch 10) ----- The best answer: {55.833907} with (15) number of sensors (average fitness is: 37.385978)\n",
      "(epoch 11) ----- The best answer: {55.833907} with (15) number of sensors (average fitness is: 37.206689)\n",
      "(epoch 12) ----- The best answer: {55.833907} with (15) number of sensors (average fitness is: 36.602762)\n",
      "(epoch 13) ----- The best answer: {55.833907} with (15) number of sensors (average fitness is: 37.220697)\n",
      "(epoch 14) ----- The best answer: {55.833907} with (15) number of sensors (average fitness is: 36.873635)\n",
      "(epoch 15) ----- The best answer: {55.833907} with (15) number of sensors (average fitness is: 38.618355)\n",
      "(epoch 16) ----- The best answer: {55.833907} with (15) number of sensors (average fitness is: 37.481934)\n",
      "(epoch 17) ----- The best answer: {55.833907} with (15) number of sensors (average fitness is: 37.761297)\n",
      "(epoch 18) ----- The best answer: {55.833907} with (15) number of sensors (average fitness is: 38.943200)\n",
      "(epoch 19) ----- The best answer: {55.833907} with (15) number of sensors (average fitness is: 37.392612)\n",
      "(epoch 20) ----- The best answer: {55.903344} with (15) number of sensors (average fitness is: 37.984697)\n",
      "(epoch 21) ----- The best answer: {55.903344} with (15) number of sensors (average fitness is: 37.138316)\n",
      "(epoch 22) ----- The best answer: {55.903344} with (15) number of sensors (average fitness is: 37.604315)\n",
      "(epoch 23) ----- The best answer: {56.088956} with (15) number of sensors (average fitness is: 37.744291)\n",
      "(epoch 24) ----- The best answer: {56.088956} with (15) number of sensors (average fitness is: 37.420301)\n",
      "(epoch 25) ----- The best answer: {56.088956} with (15) number of sensors (average fitness is: 37.700953)\n",
      "(epoch 26) ----- The best answer: {56.088956} with (15) number of sensors (average fitness is: 36.608250)\n",
      "(epoch 27) ----- The best answer: {56.473617} with (15) number of sensors (average fitness is: 38.002166)\n",
      "(epoch 28) ----- The best answer: {56.473617} with (15) number of sensors (average fitness is: 37.984596)\n",
      "(epoch 29) ----- The best answer: {56.473617} with (15) number of sensors (average fitness is: 38.772273)\n",
      "(epoch 30) ----- The best answer: {56.473617} with (15) number of sensors (average fitness is: 37.744469)\n",
      "(epoch 31) ----- The best answer: {56.473617} with (15) number of sensors (average fitness is: 38.013388)\n",
      "(epoch 32) ----- The best answer: {56.473617} with (15) number of sensors (average fitness is: 38.456553)\n",
      "(epoch 33) ----- The best answer: {56.473617} with (15) number of sensors (average fitness is: 37.677504)\n",
      "(epoch 34) ----- The best answer: {56.473617} with (15) number of sensors (average fitness is: 39.506259)\n",
      "(epoch 35) ----- The best answer: {56.473617} with (15) number of sensors (average fitness is: 39.517093)\n",
      "(epoch 36) ----- The best answer: {56.473617} with (15) number of sensors (average fitness is: 38.962386)\n",
      "(epoch 37) ----- The best answer: {57.107162} with (15) number of sensors (average fitness is: 39.352331)\n",
      "(epoch 38) ----- The best answer: {57.107162} with (15) number of sensors (average fitness is: 38.739283)\n",
      "(epoch 39) ----- The best answer: {57.107162} with (15) number of sensors (average fitness is: 38.031499)\n",
      "(epoch 40) ----- The best answer: {57.107162} with (15) number of sensors (average fitness is: 38.669424)\n",
      "(epoch 41) ----- The best answer: {57.107162} with (15) number of sensors (average fitness is: 39.214436)\n",
      "(epoch 42) ----- The best answer: {57.107162} with (15) number of sensors (average fitness is: 38.290103)\n",
      "(epoch 43) ----- The best answer: {57.107162} with (15) number of sensors (average fitness is: 38.012649)\n",
      "(epoch 44) ----- The best answer: {57.107162} with (15) number of sensors (average fitness is: 38.756715)\n",
      "(epoch 45) ----- The best answer: {57.107162} with (15) number of sensors (average fitness is: 38.495660)\n",
      "(epoch 46) ----- The best answer: {57.107162} with (15) number of sensors (average fitness is: 38.364191)\n",
      "(epoch 47) ----- The best answer: {57.107162} with (15) number of sensors (average fitness is: 38.077252)\n",
      "(epoch 48) ----- The best answer: {57.107162} with (15) number of sensors (average fitness is: 39.060332)\n",
      "(epoch 49) ----- The best answer: {57.107162} with (15) number of sensors (average fitness is: 38.984077)\n",
      "(epoch 50) ----- The best answer: {57.107162} with (15) number of sensors (average fitness is: 37.907489)\n",
      "(epoch 51) ----- The best answer: {57.107162} with (15) number of sensors (average fitness is: 38.508750)\n",
      "(epoch 52) ----- The best answer: {57.107162} with (15) number of sensors (average fitness is: 38.903453)\n",
      "(epoch 53) ----- The best answer: {57.107162} with (15) number of sensors (average fitness is: 38.459827)\n",
      "(epoch 54) ----- The best answer: {57.107162} with (15) number of sensors (average fitness is: 38.307677)\n",
      "(epoch 55) ----- The best answer: {57.107162} with (15) number of sensors (average fitness is: 38.389069)\n",
      "(epoch 56) ----- The best answer: {57.107162} with (15) number of sensors (average fitness is: 38.266386)\n",
      "(epoch 57) ----- The best answer: {57.107162} with (15) number of sensors (average fitness is: 38.417072)\n",
      "(epoch 58) ----- The best answer: {57.107162} with (15) number of sensors (average fitness is: 38.327422)\n",
      "(epoch 59) ----- The best answer: {57.107162} with (15) number of sensors (average fitness is: 38.267017)\n",
      "(epoch 60) ----- The best answer: {57.107162} with (15) number of sensors (average fitness is: 38.875139)\n",
      "(epoch 61) ----- The best answer: {58.917726} with (15) number of sensors (average fitness is: 38.809868)\n",
      "(epoch 62) ----- The best answer: {58.917726} with (15) number of sensors (average fitness is: 39.377884)\n",
      "(epoch 63) ----- The best answer: {58.917726} with (15) number of sensors (average fitness is: 38.853151)\n",
      "(epoch 64) ----- The best answer: {58.917726} with (15) number of sensors (average fitness is: 38.108397)\n",
      "(epoch 65) ----- The best answer: {58.917726} with (15) number of sensors (average fitness is: 38.357070)\n",
      "(epoch 66) ----- The best answer: {58.917726} with (15) number of sensors (average fitness is: 39.222088)\n",
      "(epoch 67) ----- The best answer: {58.917726} with (15) number of sensors (average fitness is: 38.735661)\n",
      "(epoch 68) ----- The best answer: {58.917726} with (15) number of sensors (average fitness is: 38.633696)\n",
      "(epoch 69) ----- The best answer: {58.917726} with (15) number of sensors (average fitness is: 38.532094)\n",
      "(epoch 70) ----- The best answer: {58.917726} with (15) number of sensors (average fitness is: 39.996783)\n",
      "(epoch 71) ----- The best answer: {58.917726} with (15) number of sensors (average fitness is: 39.275268)\n",
      "(epoch 72) ----- The best answer: {58.917726} with (15) number of sensors (average fitness is: 39.597290)\n",
      "(epoch 73) ----- The best answer: {58.917726} with (15) number of sensors (average fitness is: 39.365761)\n",
      "(epoch 74) ----- The best answer: {58.917726} with (15) number of sensors (average fitness is: 38.690995)\n",
      "(epoch 75) ----- The best answer: {58.917726} with (15) number of sensors (average fitness is: 39.083770)\n",
      "(epoch 76) ----- The best answer: {58.917726} with (15) number of sensors (average fitness is: 38.605255)\n",
      "(epoch 77) ----- The best answer: {58.917726} with (15) number of sensors (average fitness is: 38.834343)\n",
      "(epoch 78) ----- The best answer: {58.917726} with (15) number of sensors (average fitness is: 38.464499)\n"
     ]
    },
    {
     "name": "stdout",
     "output_type": "stream",
     "text": [
      "(epoch 79) ----- The best answer: {58.917726} with (15) number of sensors (average fitness is: 38.091223)\n",
      "(epoch 80) ----- The best answer: {58.917726} with (15) number of sensors (average fitness is: 38.483695)\n",
      "(epoch 81) ----- The best answer: {58.917726} with (15) number of sensors (average fitness is: 38.661856)\n",
      "(epoch 82) ----- The best answer: {58.917726} with (15) number of sensors (average fitness is: 38.465070)\n",
      "(epoch 83) ----- The best answer: {58.917726} with (15) number of sensors (average fitness is: 37.999512)\n",
      "(epoch 84) ----- The best answer: {58.917726} with (15) number of sensors (average fitness is: 38.261079)\n",
      "(epoch 85) ----- The best answer: {58.917726} with (15) number of sensors (average fitness is: 38.911701)\n",
      "(epoch 86) ----- The best answer: {58.917726} with (15) number of sensors (average fitness is: 38.720111)\n",
      "(epoch 87) ----- The best answer: {58.917726} with (15) number of sensors (average fitness is: 39.036136)\n",
      "(epoch 88) ----- The best answer: {58.917726} with (15) number of sensors (average fitness is: 39.750597)\n",
      "(epoch 89) ----- The best answer: {58.917726} with (15) number of sensors (average fitness is: 38.857560)\n",
      "(epoch 90) ----- The best answer: {58.917726} with (15) number of sensors (average fitness is: 38.699343)\n",
      "(epoch 91) ----- The best answer: {58.917726} with (15) number of sensors (average fitness is: 38.777784)\n",
      "(epoch 92) ----- The best answer: {58.917726} with (15) number of sensors (average fitness is: 38.917960)\n",
      "(epoch 93) ----- The best answer: {58.917726} with (15) number of sensors (average fitness is: 38.747366)\n",
      "(epoch 94) ----- The best answer: {58.917726} with (15) number of sensors (average fitness is: 39.891345)\n",
      "(epoch 95) ----- The best answer: {58.917726} with (15) number of sensors (average fitness is: 38.404981)\n",
      "(epoch 96) ----- The best answer: {58.917726} with (15) number of sensors (average fitness is: 39.146414)\n",
      "(epoch 97) ----- The best answer: {58.917726} with (15) number of sensors (average fitness is: 38.288642)\n",
      "(epoch 98) ----- The best answer: {58.917726} with (15) number of sensors (average fitness is: 38.972638)\n",
      "(epoch 99) ----- The best answer: {58.917726} with (15) number of sensors (average fitness is: 39.014354)\n",
      "(epoch 100) ----- The best answer: {58.917726} with (15) number of sensors (average fitness is: 39.032134)\n",
      "\t Best accuracy found: 58.91772599890365  sensors num used: 15.0\n"
     ]
    }
   ],
   "source": [
    "import SensorOptimizers.GeneticAlgorithm as ga\n",
    "import numpy as np\n",
    "import pickle\n",
    "\n",
    "for i in range(2, 3):\n",
    "    print('----- ', 'Running Genetic Algorithm #', i, ':')\n",
    "    result, best_configuration_history = ga.run(iteration = 100, \n",
    "                                                population = 10,\n",
    "                                                epsilon = 0.5, \n",
    "                                                initSensorNum = 15, \n",
    "                                                maxSensorNum = 15,  \n",
    "                                                radius = 1, \n",
    "                                                mutation_rate = 0.005, \n",
    "                                                crossover = 2,\n",
    "                                                survival_rate = 0.1, \n",
    "                                                reproduction_rate = 0.2,\n",
    "                                                print_epochs = True,\n",
    "                                                ROS = True\n",
    "                                               )\n",
    "\n",
    "    with open('GA_results/history' + str(i + 1), 'wb') as handle:\n",
    "        pickle.dump([result, best_configuration_history], handle, protocol=pickle.HIGHEST_PROTOCOL)\n",
    "    \n",
    "    print('\\t', 'Best accuracy found:', max(result[len(result) - 1])[0], ' sensors num used:', max(result[len(result) - 1])[1])\n",
    "\n"
   ]
  },
  {
   "cell_type": "code",
   "execution_count": null,
   "metadata": {},
   "outputs": [],
   "source": []
  }
 ],
 "metadata": {
  "colab": {
   "collapsed_sections": [],
   "name": "GA.ipynb",
   "provenance": [],
   "toc_visible": true
  },
  "kernelspec": {
   "display_name": "Python 3 (ipykernel)",
   "language": "python",
   "name": "python3"
  },
  "language_info": {
   "codemirror_mode": {
    "name": "ipython",
    "version": 3
   },
   "file_extension": ".py",
   "mimetype": "text/x-python",
   "name": "python",
   "nbconvert_exporter": "python",
   "pygments_lexer": "ipython3",
   "version": "3.9.7"
  },
  "widgets": {
   "application/vnd.jupyter.widget-state+json": {
    "208ae3a7e6b84f90ad9e6b284aa3721c": {
     "model_module": "@jupyter-widgets/controls",
     "model_module_version": "1.5.0",
     "model_name": "ProgressStyleModel",
     "state": {
      "_model_module": "@jupyter-widgets/controls",
      "_model_module_version": "1.5.0",
      "_model_name": "ProgressStyleModel",
      "_view_count": null,
      "_view_module": "@jupyter-widgets/base",
      "_view_module_version": "1.2.0",
      "_view_name": "StyleView",
      "bar_color": null,
      "description_width": ""
     }
    },
    "441b254622df4958a7d151ad59bb4624": {
     "model_module": "@jupyter-widgets/base",
     "model_module_version": "1.2.0",
     "model_name": "LayoutModel",
     "state": {
      "_model_module": "@jupyter-widgets/base",
      "_model_module_version": "1.2.0",
      "_model_name": "LayoutModel",
      "_view_count": null,
      "_view_module": "@jupyter-widgets/base",
      "_view_module_version": "1.2.0",
      "_view_name": "LayoutView",
      "align_content": null,
      "align_items": null,
      "align_self": null,
      "border": null,
      "bottom": null,
      "display": null,
      "flex": null,
      "flex_flow": null,
      "grid_area": null,
      "grid_auto_columns": null,
      "grid_auto_flow": null,
      "grid_auto_rows": null,
      "grid_column": null,
      "grid_gap": null,
      "grid_row": null,
      "grid_template_areas": null,
      "grid_template_columns": null,
      "grid_template_rows": null,
      "height": null,
      "justify_content": null,
      "justify_items": null,
      "left": null,
      "margin": null,
      "max_height": null,
      "max_width": null,
      "min_height": null,
      "min_width": null,
      "object_fit": null,
      "object_position": null,
      "order": null,
      "overflow": null,
      "overflow_x": null,
      "overflow_y": null,
      "padding": null,
      "right": null,
      "top": null,
      "visibility": null,
      "width": null
     }
    },
    "650f914388934a949db3e622810c6f6e": {
     "model_module": "@jupyter-widgets/controls",
     "model_module_version": "1.5.0",
     "model_name": "IntProgressModel",
     "state": {
      "_dom_classes": [],
      "_model_module": "@jupyter-widgets/controls",
      "_model_module_version": "1.5.0",
      "_model_name": "IntProgressModel",
      "_view_count": null,
      "_view_module": "@jupyter-widgets/controls",
      "_view_module_version": "1.5.0",
      "_view_name": "ProgressView",
      "bar_style": "",
      "description": "",
      "description_tooltip": null,
      "layout": "IPY_MODEL_441b254622df4958a7d151ad59bb4624",
      "max": 100,
      "min": 0,
      "orientation": "horizontal",
      "style": "IPY_MODEL_208ae3a7e6b84f90ad9e6b284aa3721c",
      "value": 41
     }
    }
   }
  }
 },
 "nbformat": 4,
 "nbformat_minor": 1
}
