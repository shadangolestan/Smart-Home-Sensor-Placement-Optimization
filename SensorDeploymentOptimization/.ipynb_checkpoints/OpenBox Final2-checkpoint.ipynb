{
 "cells": [
  {
   "cell_type": "code",
   "execution_count": 1,
   "metadata": {
    "colab": {
     "base_uri": "https://localhost:8080/"
    },
    "executionInfo": {
     "elapsed": 10091,
     "status": "ok",
     "timestamp": 1635790032180,
     "user": {
      "displayName": "Shadan Golestan-Irani",
      "photoUrl": "https://lh3.googleusercontent.com/a-/AOh14GjzIpBx-tX-xncT2d8sC4323jdDLC4K-HcuzJgpIA=s64",
      "userId": "05022969837639573312"
     },
     "user_tz": 360
    },
    "id": "PPw6X0y6ck1o",
    "outputId": "8bd03981-99f3-4aef-ac7a-5175e5d136f1"
   },
   "outputs": [
    {
     "name": "stdout",
     "output_type": "stream",
     "text": [
      "Requirement already satisfied: openbox in c:\\users\\shada\\anaconda3\\lib\\site-packages (0.7.14)\n",
      "Requirement already satisfied: platypus-opt==1.0.4 in c:\\users\\shada\\anaconda3\\lib\\site-packages (from openbox) (1.0.4)\n",
      "Requirement already satisfied: tqdm in c:\\users\\shada\\anaconda3\\lib\\site-packages (from openbox) (4.59.0)\n",
      "Requirement already satisfied: terminaltables in c:\\users\\shada\\anaconda3\\lib\\site-packages (from openbox) (3.1.0)\n",
      "Requirement already satisfied: emcee in c:\\users\\shada\\anaconda3\\lib\\site-packages (from openbox) (3.1.1)\n",
      "Requirement already satisfied: setuptools in c:\\users\\shada\\anaconda3\\lib\\site-packages (from openbox) (52.0.0.post20210125)\n",
      "Requirement already satisfied: numpy>=1.7.1 in c:\\users\\shada\\anaconda3\\lib\\site-packages (from openbox) (1.20.1)\n",
      "Requirement already satisfied: cython in c:\\users\\shada\\anaconda3\\lib\\site-packages (from openbox) (0.29.23)\n",
      "Requirement already satisfied: pandas in c:\\users\\shada\\anaconda3\\lib\\site-packages (from openbox) (1.2.4)\n",
      "Requirement already satisfied: scipy>=0.18.1 in c:\\users\\shada\\anaconda3\\lib\\site-packages (from openbox) (1.6.2)\n",
      "Requirement already satisfied: django>=2.2.17 in c:\\users\\shada\\anaconda3\\lib\\site-packages (from openbox) (3.2.9)\n",
      "Requirement already satisfied: requests in c:\\users\\shada\\anaconda3\\lib\\site-packages (from openbox) (2.25.1)\n",
      "Requirement already satisfied: scikit-optimize>=0.8 in c:\\users\\shada\\anaconda3\\lib\\site-packages (from openbox) (0.9.0)\n",
      "Requirement already satisfied: statsmodels in c:\\users\\shada\\anaconda3\\lib\\site-packages (from openbox) (0.12.2)\n",
      "Requirement already satisfied: scikit-learn>=0.21.3 in c:\\users\\shada\\anaconda3\\lib\\site-packages (from openbox) (0.24.1)\n",
      "Requirement already satisfied: ConfigSpace<0.5,>=0.4.12 in c:\\users\\shada\\anaconda3\\lib\\site-packages (from openbox) (0.4.20)\n",
      "Requirement already satisfied: psutil in c:\\users\\shada\\anaconda3\\lib\\site-packages (from openbox) (5.8.0)\n",
      "Requirement already satisfied: dill in c:\\users\\shada\\anaconda3\\lib\\site-packages (from openbox) (0.3.4)\n",
      "Requirement already satisfied: matplotlib in c:\\users\\shada\\anaconda3\\lib\\site-packages (from openbox) (3.3.4)\n",
      "Requirement already satisfied: pyyaml in c:\\users\\shada\\anaconda3\\lib\\site-packages (from openbox) (5.4.1)\n",
      "Requirement already satisfied: six in c:\\users\\shada\\anaconda3\\lib\\site-packages (from platypus-opt==1.0.4->openbox) (1.15.0)\n",
      "Requirement already satisfied: pyparsing in c:\\users\\shada\\anaconda3\\lib\\site-packages (from ConfigSpace<0.5,>=0.4.12->openbox) (2.4.7)\n",
      "Requirement already satisfied: sqlparse>=0.2.2 in c:\\users\\shada\\anaconda3\\lib\\site-packages (from django>=2.2.17->openbox) (0.4.2)\n",
      "Requirement already satisfied: asgiref<4,>=3.3.2 in c:\\users\\shada\\anaconda3\\lib\\site-packages (from django>=2.2.17->openbox) (3.4.1)\n",
      "Requirement already satisfied: pytz in c:\\users\\shada\\anaconda3\\lib\\site-packages (from django>=2.2.17->openbox) (2021.1)\n",
      "Requirement already satisfied: joblib>=0.11 in c:\\users\\shada\\anaconda3\\lib\\site-packages (from scikit-learn>=0.21.3->openbox) (1.0.1)\n",
      "Requirement already satisfied: threadpoolctl>=2.0.0 in c:\\users\\shada\\anaconda3\\lib\\site-packages (from scikit-learn>=0.21.3->openbox) (2.1.0)\n",
      "Requirement already satisfied: pyaml>=16.9 in c:\\users\\shada\\anaconda3\\lib\\site-packages (from scikit-optimize>=0.8->openbox) (21.10.1)\n",
      "Requirement already satisfied: kiwisolver>=1.0.1 in c:\\users\\shada\\anaconda3\\lib\\site-packages (from matplotlib->openbox) (1.3.1)\n",
      "Requirement already satisfied: cycler>=0.10 in c:\\users\\shada\\anaconda3\\lib\\site-packages (from matplotlib->openbox) (0.10.0)\n",
      "Requirement already satisfied: pillow>=6.2.0 in c:\\users\\shada\\anaconda3\\lib\\site-packages (from matplotlib->openbox) (8.2.0)\n",
      "Requirement already satisfied: python-dateutil>=2.1 in c:\\users\\shada\\anaconda3\\lib\\site-packages (from matplotlib->openbox) (2.8.1)\n",
      "Requirement already satisfied: idna<3,>=2.5 in c:\\users\\shada\\anaconda3\\lib\\site-packages (from requests->openbox) (2.10)\n",
      "Requirement already satisfied: urllib3<1.27,>=1.21.1 in c:\\users\\shada\\anaconda3\\lib\\site-packages (from requests->openbox) (1.26.4)\n",
      "Requirement already satisfied: chardet<5,>=3.0.2 in c:\\users\\shada\\anaconda3\\lib\\site-packages (from requests->openbox) (4.0.0)\n",
      "Requirement already satisfied: certifi>=2017.4.17 in c:\\users\\shada\\anaconda3\\lib\\site-packages (from requests->openbox) (2020.12.5)\n",
      "Requirement already satisfied: patsy>=0.5 in c:\\users\\shada\\anaconda3\\lib\\site-packages (from statsmodels->openbox) (0.5.1)\n",
      "Requirement already satisfied: shapely in c:\\users\\shada\\anaconda3\\lib\\site-packages (1.8.0)\n",
      "Requirement already satisfied: plotly in c:\\users\\shada\\anaconda3\\lib\\site-packages (5.3.1)\n",
      "Requirement already satisfied: tenacity>=6.2.0 in c:\\users\\shada\\anaconda3\\lib\\site-packages (from plotly) (8.0.1)\n",
      "Requirement already satisfied: six in c:\\users\\shada\\anaconda3\\lib\\site-packages (from plotly) (1.15.0)\n",
      "Requirement already satisfied: torch in c:\\users\\shada\\anaconda3\\lib\\site-packages (1.10.0)\n",
      "Requirement already satisfied: typing-extensions in c:\\users\\shada\\anaconda3\\lib\\site-packages (from torch) (3.7.4.3)\n"
     ]
    }
   ],
   "source": [
    "!pip install openbox\n",
    "!pip install shapely\n",
    "!pip install plotly\n",
    "!pip install torch"
   ]
  },
  {
   "cell_type": "code",
   "execution_count": 2,
   "metadata": {
    "executionInfo": {
     "elapsed": 755,
     "status": "ok",
     "timestamp": 1635790032929,
     "user": {
      "displayName": "Shadan Golestan-Irani",
      "photoUrl": "https://lh3.googleusercontent.com/a-/AOh14GjzIpBx-tX-xncT2d8sC4323jdDLC4K-HcuzJgpIA=s64",
      "userId": "05022969837639573312"
     },
     "user_tz": 360
    },
    "id": "VWSmt5dJxKDk"
   },
   "outputs": [],
   "source": [
    "class Data:\n",
    "    def __init__(self, sensorPositions, space, epsilon):\n",
    "        self.radius = 1\n",
    "        self.placeHolders = sensorPositions\n",
    "        self.epsilon = epsilon\n",
    "        self.space = space\n",
    "        # self.SensorPlaceHolderSetup()\n",
    "        \n",
    "    def frange(self, start, stop, step):\n",
    "        steps = []\n",
    "        while start <= stop:\n",
    "            steps.append(start)\n",
    "            start +=step\n",
    "            \n",
    "        return steps\n",
    "\n",
    "    # def SensorPlaceHolderSetup(self):\n",
    "    #     Xs = self.frange(0, self.space[0], self.epsilon)\n",
    "    #     Ys = self.frange(0, self.space[1], self.epsilon)\n",
    "            \n",
    "    #     for x in Xs:\n",
    "    #       for y in Ys:\n",
    "    #         self.placeHolders.append([x, y])\n",
    "\n",
    "    def GetSensorConfiguration(self):\n",
    "        from collections import Counter\n",
    "        sensorLocations, sensorTypes = self.GetSensorLocations()\n",
    "        \n",
    "        _, rooms = pf.ParseWorld(simworldname = '')\n",
    "        \n",
    "        summaryDict = Counter(sensorTypes)\n",
    "\n",
    "        # TODO: DIFFERENT SENSOR TYPE DEFINITIONS SHOULD BE ADDED HERE:\n",
    "        configurationSummary = []\n",
    "        for key in summaryDict:\n",
    "            if (key == 1):\n",
    "                configurationSummary.append(['motion sensors', summaryDict[key]])\n",
    "\n",
    "            elif (key == 2):\n",
    "                configurationSummary.append(['beacon sensors', summaryDict[key]])\n",
    "\n",
    "        configurationDetails = []\n",
    "        for index, loc in enumerate(sensorLocations):\n",
    "            room = \"\"\n",
    "            for r in rooms:\n",
    "                if loc[0] >= rooms[r][0][0] and loc[0] <= rooms[r][1][0] and loc[1] >= rooms[r][0][1] and loc[1] <= rooms[r][1][1]:\n",
    "                    room = r\n",
    "                    break\n",
    "\n",
    "            if (sensorTypes[index] == 1):\n",
    "                configurationDetails.append(tuple([loc, room, 'motion sensors']))\n",
    "\n",
    "            elif (sensorTypes[index] == 2):\n",
    "                configurationDetails.append(tuple([loc, room, 'beacon sensors']))\n",
    "\n",
    "        return [[configurationSummary, [tuple(configurationDetails)]], self.radius]\n",
    "\n",
    "\n",
    "    def GetSensorLocations(self):\n",
    "        sensorLocations = []\n",
    "        sensorTypes = []\n",
    "        for index, sensorIndicator in enumerate(self.placeHolders):\n",
    "            sensorLocations.append(self.placeHolders[index])\n",
    "\n",
    "            # TODO: DIFFERENT SENSOR TYPE DEFINITIONS SHOULD BE ADDED HERE:\n",
    "            sensorTypes.append(1)\n",
    "\n",
    "\n",
    "        return sensorLocations, sensorTypes\n",
    "\n",
    "\n",
    "class BOVariables:\n",
    "    def __init__(self, Data_path, epsilon, initSensorNum, maxSensorNum, radius, sampleSize):\n",
    "        self.epsilon = epsilon\n",
    "        self.Data_path = Data_path\n",
    "        self.initSensorNum = initSensorNum\n",
    "        self.maxSensorNum = maxSensorNum\n",
    "        self.radius = radius\n",
    "        self.sensor_distribution, self.types, self.space, self.rooms, self.agentTraces = self.ModelsInitializations()\n",
    "\n",
    "    def ModelsInitializations(self):\n",
    "        #----- Space and agent models -----: \n",
    "        # simworldname = self.Data_path + '/Configuration Files/simulationWorld2.xml'\n",
    "        simworldname = ''\n",
    "        agentTraces = []\n",
    "        directory = os.fsencode(self.Data_path + 'Agent Trace Files/')\n",
    "            \n",
    "        for file in os.listdir(directory):\n",
    "            filename = os.fsdecode(file)\n",
    "            if filename.endswith(\".csv\"): \n",
    "                agentTraces.append(self.Data_path + 'Agent Trace Files/' + filename)\n",
    "\n",
    "        # Parsing the space model: \n",
    "        space, rooms = pf.ParseWorld(simworldname)\n",
    "\n",
    "        xs = []\n",
    "        for i in space:\n",
    "          for j in i:\n",
    "            xs.append(j)\n",
    "        A = list(set(xs))\n",
    "        A.sort()\n",
    "        space = [A[-1], A[-2]]\n",
    "\n",
    "        # User parameters \n",
    "        types, sensor_distribution = pf.GetUsersParameters()\n",
    "\n",
    "        roomsList = []\n",
    "        for room in sensor_distribution:\n",
    "            roomsList.append(room)\n",
    "              \n",
    "        return sensor_distribution, types, space, rooms, agentTraces\n",
    "\n",
    "\n",
    "def frange(start, stop, step):\n",
    "    steps = []\n",
    "    while start <= stop:\n",
    "        steps.append(start)\n",
    "        start +=step\n",
    "        \n",
    "    return steps\n",
    "\n",
    "def MakeSensorCombinations(start, end, epsilon, sensorType, room):\n",
    "    a1, b1 = makeBoundaries(epsilon, start[0], end[0])\n",
    "    a2, b2 = makeBoundaries(epsilon, start[1], end[1])    \n",
    "    Xs = frange(a1, b1, epsilon)\n",
    "    Ys = frange(a2, b2, epsilon)\n",
    "    \n",
    "    points = list(itertools.product(list(itertools.product(Xs, Ys)), [room], [sensorType[0]])) \n",
    "    C = itertools.combinations(points, distribution[room][types.index(sensorType)])\n",
    "\n",
    "    return C\n",
    "\n",
    "def PreProcessor(df):\n",
    "    # df['motion sensors'] = df['motion sensors'].apply(ast.literal_eval)\n",
    "    df['motion sensors'] = df['motion sensors'].apply(lambda s: list(map(int, s)))\n",
    "    # df['beacon sensors'] = df['beacon sensors'].apply(ast.literal_eval)\n",
    "    try:\n",
    "      df['beacon sensors'] = df['beacon sensors'].apply(lambda s: list(map(int, s)))\n",
    "    except:\n",
    "      pass\n",
    "\n",
    "    sensors = set([])\n",
    "\n",
    "    previous_M = None\n",
    "    previous_B = None\n",
    "    output_file = []\n",
    "\n",
    "    for index, row in df.iterrows():\n",
    "      T = row['time']\n",
    "      M = row['motion sensors']\n",
    "      try:\n",
    "        B = row['beacon sensors']\n",
    "      except:\n",
    "        pass\n",
    "\n",
    "      Activity = row['activity']\n",
    "      Activity = Activity.replace(' ', '_')\n",
    "      MotionSensor_Names = []\n",
    "      sensorNames = []\n",
    "      MotionSensor_Message = []\n",
    "      BeaconSensor_Names = []\n",
    "      BeaconSensor_Message = []\n",
    "      \n",
    "\n",
    "      # time = convertTime(T)\n",
    "      time = \"2020-06-16 \" + T + \".00\"\n",
    "\n",
    "      # Motion Sensor\n",
    "      for i in range(len(M)):\n",
    "        sensorNames.append(Name(i, 'M'))\n",
    "        if M[i] == 1:\n",
    "          if (previous_M != None):\n",
    "            if (previous_M[i] == 0):\n",
    "              MotionSensor_Names.append(Name(i,'M'))\n",
    "              MotionSensor_Message.append('ON')\n",
    "\n",
    "          else:\n",
    "            MotionSensor_Names.append(Name(i,'M'))\n",
    "            MotionSensor_Message.append('ON')\n",
    "\n",
    "        if previous_M != None:\n",
    "          if M[i] == 0 and previous_M[i] == 1:\n",
    "            MotionSensor_Names.append(Name(i,'M'))\n",
    "            MotionSensor_Message.append('OFF')\n",
    "\n",
    "      previous_M = M\n",
    "      # Beacon Sensor\n",
    "\n",
    "      try:\n",
    "        for i in range(len(B)):\n",
    "          sensorNames.append(Name(i, 'B'))\n",
    "          if B[i] == 1:\n",
    "            BeaconSensor_Names.append(Name(i,'B'))\n",
    "            BeaconSensor_Message.append('ON')\n",
    "          if previous_B != None:\n",
    "            if B[i] == 0 and previous_B[i] == 1: \n",
    "              BeaconSensor_Names.append(Name(i,'B'))\n",
    "              BeaconSensor_Message.append('OFF')\n",
    "        previous_B = B\n",
    "\n",
    "      except:\n",
    "        pass\n",
    "\n",
    "      for m in range(len(MotionSensor_Names)):\n",
    "        output_file.append(time +' '+ MotionSensor_Names[m] + ' ' + MotionSensor_Names[m] + ' ' + MotionSensor_Message[m] + ' ' + Activity)\n",
    "        \n",
    "      for s in sensorNames:\n",
    "          sensors.add(s)\n",
    "\n",
    "    return output_file, list(sensors)\n",
    "\n",
    "#returns the name of the sensor\n",
    "def Name(number, typeSensor):\n",
    "    if number < 10:\n",
    "      return typeSensor + str(0) + str(number)\n",
    "    else:\n",
    "      return typeSensor + str(number)\n",
    "\n",
    "#converts epoch time to human readable\n",
    "def convertTime(posix_timestamp):\n",
    "    tz = pytz.timezone('MST')\n",
    "    dt = datetime.fromtimestamp(posix_timestamp, tz)\n",
    "    time = dt.strftime('%Y-%m-%d %H:%M:%S.%f')[:-3]\n",
    "    return time\n",
    "\n",
    "def MakeDataBoundaries(height = 10.5, width = 6.6, MaxSensors = 15):\n",
    "    from collections import defaultdict, OrderedDict\n",
    "\n",
    "    d = dict()\n",
    "\n",
    "    for idx in range(MaxSensors):\n",
    "            d['x' + str(idx)] = (0.5, width - 0.5)\n",
    "            d['y' + str(idx)] = (0.5, height - 0.5)\n",
    "\n",
    "    return d\n",
    "\n",
    "def black_box_function(sample, simulateMotionSensors = True, simulateEstimotes = False, Plotting = False):       \n",
    "    files = []\n",
    "\n",
    "    import sys\n",
    "    if (runningOnGoogleColab == True):\n",
    "        sys.path.append('gdrive/My Drive/PhD/Thesis/Ideas/Codes/SensorDeploymentOptimization/')\n",
    "        Data_path = 'gdrive/My Drive/PhD/Thesis/Ideas/Codes/SensorDeploymentOptimization/'\n",
    "\n",
    "    else:\n",
    "        # sys.path.append('../../Codes/SensorDeploymentOptimization/')\n",
    "        sys.path.append('..')\n",
    "        Data_path = '../../Codes/SensorDeploymentOptimization/'\n",
    "\n",
    "    all_sensors = set([])\n",
    "\n",
    "    for agentTrace in BOV.agentTraces:\n",
    "        df_ = sim_sis.RunSimulator(BOV.space, BOV.rooms, agentTrace, sample.GetSensorConfiguration(), simulateMotionSensors, simulateEstimotes, Plotting, BOV.Data_path)\n",
    "        dataFile, sensors = PreProcessor(df_)\n",
    "        all_sensors.update(sensors)\n",
    "        files.append(dataFile)\n",
    "        \n",
    "    \n",
    "    if (runningOnGoogleColab == True):\n",
    "        sys.path.append('gdrive/My Drive/PhD/Thesis/Ideas/Codes/CASAS/AL-Smarthome')\n",
    "\n",
    "    else:\n",
    "        sys.path.append('../../Codes/CASAS/AL-Smarthome')\n",
    "\n",
    "    import al\n",
    "    import imp\n",
    "    imp.reload(al)\n",
    "    all_sensors = list(all_sensors)\n",
    "\n",
    "    # print('files are')\n",
    "    # print(files)\n",
    "    accuracy = (al.leave_one_out(files, all_sensors)[0]) * 100\n",
    "\n",
    "    if accuracy < 0:\n",
    "        accuracy = 0\n",
    "\n",
    "    return 100 - accuracy\n",
    "\n",
    "def function_to_be_optimized(config):\n",
    "    sensorPositions = []\n",
    "    sensor_xy = []\n",
    "\n",
    "    for i in range(1, CONSTANTS['max_sensors'] + 1):\n",
    "        if (config['x' + str(i)] > 0):\n",
    "            sensor_xy.append(config['x' + str(i)])\n",
    "            sensor_xy.append(config['y' + str(i)])\n",
    "            sensorPositions.append(sensor_xy)\n",
    "            sensor_xy = []\n",
    "        \n",
    "            \n",
    "    # print(sensorPositions)\n",
    "    data = Data(sensorPositions, BOV.space, CONSTANTS['epsilon'])\n",
    "    \n",
    "    result = dict()\n",
    "\n",
    "    result['objs'] = np.stack([black_box_function(data), len(sensorPositions)], axis=-1)\n",
    "    \n",
    "    return result"
   ]
  },
  {
   "cell_type": "code",
   "execution_count": 4,
   "metadata": {
    "colab": {
     "background_save": true,
     "base_uri": "https://localhost:8080/"
    },
    "id": "UZjfE2cPwhkE",
    "scrolled": true
   },
   "outputs": [
    {
     "name": "stderr",
     "output_type": "stream",
     "text": [
      "\r",
      "  0%|                                                                                          | 0/500 [00:00<?, ?it/s]"
     ]
    },
    {
     "name": "stdout",
     "output_type": "stream",
     "text": [
      "[Build Surrogate] Use probabilistic random forest based on scikit-learn. For better performance, please install pyrfr: https://open-box.readthedocs.io/en/latest/installation/install_pyrfr.html\n",
      "[Build Surrogate] Use probabilistic random forest based on scikit-learn. For better performance, please install pyrfr: https://open-box.readthedocs.io/en/latest/installation/install_pyrfr.html\n",
      "[INFO] [2021-11-18 16:00:41,437] [MOHistoryContainer] Update pareto: config=Configuration:\n",
      "  x1, Value: 1\n",
      "  x10, Value: 1\n",
      "  x11, Value: 1\n",
      "  x12, Value: 1\n",
      "  x13, Value: 1\n",
      "  x14, Value: 1\n",
      "  x15, Value: 1\n",
      "  x2, Value: 1\n",
      "  x3, Value: 1\n",
      "  x4, Value: 1\n",
      "  x5, Value: 1\n",
      "  x6, Value: 1\n",
      "  x7, Value: 1\n",
      "  x8, Value: 1\n",
      "  x9, Value: 1\n",
      "  y1, Value: 1\n",
      "  y10, Value: 1\n",
      "  y11, Value: 1\n",
      "  y12, Value: 1\n",
      "  y13, Value: 1\n",
      "  y14, Value: 1\n",
      "  y15, Value: 1\n",
      "  y2, Value: 1\n",
      "  y3, Value: 1\n",
      "  y4, Value: 1\n",
      "  y5, Value: 1\n",
      "  y6, Value: 1\n",
      "  y7, Value: 1\n",
      "  y8, Value: 1\n",
      "  y9, Value: 1\n",
      ", objs=[100.   8.].\n",
      "[INFO] [2021-11-18 16:00:41,439] [OpenBox-Shadan] Iteration 1, objective value: [100.   8.].\n"
     ]
    },
    {
     "name": "stderr",
     "output_type": "stream",
     "text": [
      "\r",
      "  0%|▏                                                                               | 1/500 [00:20<2:47:48, 20.18s/it]"
     ]
    },
    {
     "name": "stdout",
     "output_type": "stream",
     "text": [
      "[INFO] [2021-11-18 16:01:09,026] [MOHistoryContainer] Update pareto: config=Configuration:\n",
      "  x1, Value: 5\n",
      "  x10, Value: 2\n",
      "  x11, Value: 3\n",
      "  x12, Value: 4\n",
      "  x13, Value: 7\n",
      "  x14, Value: 6\n",
      "  x15, Value: 6\n",
      "  x2, Value: 2\n",
      "  x3, Value: 5\n",
      "  x4, Value: 1\n",
      "  x5, Value: 0\n",
      "  x6, Value: 4\n",
      "  x7, Value: 1\n",
      "  x8, Value: 7\n",
      "  x9, Value: 3\n",
      "  y1, Value: 2\n",
      "  y10, Value: 6\n",
      "  y11, Value: 6\n",
      "  y12, Value: 8\n",
      "  y13, Value: 6\n",
      "  y14, Value: 2\n",
      "  y15, Value: 5\n",
      "  y2, Value: 2\n",
      "  y3, Value: 4\n",
      "  y4, Value: 2\n",
      "  y5, Value: 1\n",
      "  y6, Value: 3\n",
      "  y7, Value: 6\n",
      "  y8, Value: 5\n",
      "  y9, Value: 3\n",
      ", objs=[48.47826283  7.        ].\n",
      "[INFO] [2021-11-18 16:01:09,027] [MOHistoryContainer] Remove from pareto: config=Configuration:\n",
      "  x1, Value: 1\n",
      "  x10, Value: 1\n",
      "  x11, Value: 1\n",
      "  x12, Value: 1\n",
      "  x13, Value: 1\n",
      "  x14, Value: 1\n",
      "  x15, Value: 1\n",
      "  x2, Value: 1\n",
      "  x3, Value: 1\n",
      "  x4, Value: 1\n",
      "  x5, Value: 1\n",
      "  x6, Value: 1\n",
      "  x7, Value: 1\n",
      "  x8, Value: 1\n",
      "  x9, Value: 1\n",
      "  y1, Value: 1\n",
      "  y10, Value: 1\n",
      "  y11, Value: 1\n",
      "  y12, Value: 1\n",
      "  y13, Value: 1\n",
      "  y14, Value: 1\n",
      "  y15, Value: 1\n",
      "  y2, Value: 1\n",
      "  y3, Value: 1\n",
      "  y4, Value: 1\n",
      "  y5, Value: 1\n",
      "  y6, Value: 1\n",
      "  y7, Value: 1\n",
      "  y8, Value: 1\n",
      "  y9, Value: 1\n",
      ", objs=[100.   8.].\n",
      "[INFO] [2021-11-18 16:01:09,028] [OpenBox-Shadan] Iteration 2, objective value: [48.47826283  7.        ].\n"
     ]
    },
    {
     "name": "stderr",
     "output_type": "stream",
     "text": [
      "\r",
      "  0%|▎                                                                               | 2/500 [00:47<3:23:39, 24.54s/it]"
     ]
    },
    {
     "name": "stdout",
     "output_type": "stream",
     "text": [
      "[INFO] [2021-11-18 16:01:46,682] [MOHistoryContainer] Update pareto: config=Configuration:\n",
      "  x1, Value: 3\n",
      "  x10, Value: 5\n",
      "  x11, Value: 8\n",
      "  x12, Value: 4\n",
      "  x13, Value: 3\n",
      "  x14, Value: 1\n",
      "  x15, Value: 3\n",
      "  x2, Value: 8\n",
      "  x3, Value: 1\n",
      "  x4, Value: 4\n",
      "  x5, Value: 5\n",
      "  x6, Value: 8\n",
      "  x7, Value: 6\n",
      "  x8, Value: 3\n",
      "  x9, Value: 8\n",
      "  y1, Value: 5\n",
      "  y10, Value: 3\n",
      "  y11, Value: 1\n",
      "  y12, Value: 2\n",
      "  y13, Value: 4\n",
      "  y14, Value: 6\n",
      "  y15, Value: 3\n",
      "  y2, Value: 6\n",
      "  y3, Value: 7\n",
      "  y4, Value: 5\n",
      "  y5, Value: 6\n",
      "  y6, Value: 6\n",
      "  y7, Value: 2\n",
      "  y8, Value: 3\n",
      "  y9, Value: 8\n",
      ", objs=[44.8909557  8.       ].\n",
      "[INFO] [2021-11-18 16:01:46,683] [OpenBox-Shadan] Iteration 3, objective value: [44.8909557  8.       ].\n"
     ]
    },
    {
     "name": "stderr",
     "output_type": "stream",
     "text": [
      "\r",
      "  1%|▍                                                                               | 3/500 [01:25<4:12:52, 30.53s/it]"
     ]
    },
    {
     "name": "stdout",
     "output_type": "stream",
     "text": [
      "[INFO] [2021-11-18 16:02:34,176] [OpenBox-Shadan] Iteration 4, objective value: [51.07382419  8.        ].\n"
     ]
    },
    {
     "name": "stderr",
     "output_type": "stream",
     "text": [
      "\r",
      "  1%|▋                                                                               | 4/500 [02:12<5:07:43, 37.23s/it]"
     ]
    },
    {
     "name": "stdout",
     "output_type": "stream",
     "text": [
      "[INFO] [2021-11-18 16:03:06,021] [OpenBox-Shadan] Iteration 5, objective value: [49.72850692  8.        ].\n"
     ]
    },
    {
     "name": "stderr",
     "output_type": "stream",
     "text": [
      "\r",
      "  1%|▊                                                                               | 5/500 [02:44<4:51:05, 35.28s/it]"
     ]
    },
    {
     "name": "stdout",
     "output_type": "stream",
     "text": [
      "[INFO] [2021-11-18 16:03:42,272] [MOHistoryContainer] Update pareto: config=Configuration:\n",
      "  x1, Value: 3\n",
      "  x10, Value: 6\n",
      "  x11, Value: 8\n",
      "  x12, Value: 2\n",
      "  x13, Value: 5\n",
      "  x14, Value: 1\n",
      "  x15, Value: 4\n",
      "  x2, Value: 2\n",
      "  x3, Value: 5\n",
      "  x4, Value: 8\n",
      "  x5, Value: 8\n",
      "  x6, Value: 8\n",
      "  x7, Value: 0\n",
      "  x8, Value: 6\n",
      "  x9, Value: 3\n",
      "  y1, Value: 3\n",
      "  y10, Value: 7\n",
      "  y11, Value: 8\n",
      "  y12, Value: 5\n",
      "  y13, Value: 2\n",
      "  y14, Value: 2\n",
      "  y15, Value: 4\n",
      "  y2, Value: 7\n",
      "  y3, Value: 3\n",
      "  y4, Value: 4\n",
      "  y5, Value: 8\n",
      "  y6, Value: 5\n",
      "  y7, Value: 4\n",
      "  y8, Value: 8\n",
      "  y9, Value: 1\n",
      ", objs=[39.40411687  7.        ].\n",
      "[INFO] [2021-11-18 16:03:42,273] [MOHistoryContainer] Remove from pareto: config=Configuration:\n",
      "  x1, Value: 5\n",
      "  x10, Value: 2\n",
      "  x11, Value: 3\n",
      "  x12, Value: 4\n",
      "  x13, Value: 7\n",
      "  x14, Value: 6\n",
      "  x15, Value: 6\n",
      "  x2, Value: 2\n",
      "  x3, Value: 5\n",
      "  x4, Value: 1\n",
      "  x5, Value: 0\n",
      "  x6, Value: 4\n",
      "  x7, Value: 1\n",
      "  x8, Value: 7\n",
      "  x9, Value: 3\n",
      "  y1, Value: 2\n",
      "  y10, Value: 6\n",
      "  y11, Value: 6\n",
      "  y12, Value: 8\n",
      "  y13, Value: 6\n",
      "  y14, Value: 2\n",
      "  y15, Value: 5\n",
      "  y2, Value: 2\n",
      "  y3, Value: 4\n",
      "  y4, Value: 2\n",
      "  y5, Value: 1\n",
      "  y6, Value: 3\n",
      "  y7, Value: 6\n",
      "  y8, Value: 5\n",
      "  y9, Value: 3\n",
      ", objs=[48.47826283  7.        ].\n",
      "[INFO] [2021-11-18 16:03:42,273] [MOHistoryContainer] Remove from pareto: config=Configuration:\n",
      "  x1, Value: 3\n",
      "  x10, Value: 5\n",
      "  x11, Value: 8\n",
      "  x12, Value: 4\n",
      "  x13, Value: 3\n",
      "  x14, Value: 1\n",
      "  x15, Value: 3\n",
      "  x2, Value: 8\n",
      "  x3, Value: 1\n",
      "  x4, Value: 4\n",
      "  x5, Value: 5\n",
      "  x6, Value: 8\n",
      "  x7, Value: 6\n",
      "  x8, Value: 3\n",
      "  x9, Value: 8\n",
      "  y1, Value: 5\n",
      "  y10, Value: 3\n",
      "  y11, Value: 1\n",
      "  y12, Value: 2\n",
      "  y13, Value: 4\n",
      "  y14, Value: 6\n",
      "  y15, Value: 3\n",
      "  y2, Value: 6\n",
      "  y3, Value: 7\n",
      "  y4, Value: 5\n",
      "  y5, Value: 6\n",
      "  y6, Value: 6\n",
      "  y7, Value: 2\n",
      "  y8, Value: 3\n",
      "  y9, Value: 8\n",
      ", objs=[44.8909557  8.       ].\n",
      "[INFO] [2021-11-18 16:03:42,275] [OpenBox-Shadan] Iteration 6, objective value: [39.40411687  7.        ].\n"
     ]
    },
    {
     "name": "stderr",
     "output_type": "stream",
     "text": [
      "\r",
      "  1%|▉                                                                               | 6/500 [03:21<4:53:13, 35.61s/it]"
     ]
    },
    {
     "name": "stdout",
     "output_type": "stream",
     "text": [
      "[INFO] [2021-11-18 16:04:09,217] [OpenBox-Shadan] Iteration 7, objective value: [62.62662828  8.        ].\n"
     ]
    },
    {
     "name": "stderr",
     "output_type": "stream",
     "text": [
      "\r",
      "  1%|█                                                                               | 7/500 [03:47<4:29:20, 32.78s/it]"
     ]
    },
    {
     "name": "stdout",
     "output_type": "stream",
     "text": [
      "[INFO] [2021-11-18 16:04:48,453] [MOHistoryContainer] Update pareto: config=Configuration:\n",
      "  x1, Value: 7\n",
      "  x10, Value: 5\n",
      "  x11, Value: 5\n",
      "  x12, Value: 5\n",
      "  x13, Value: 4\n",
      "  x14, Value: 0\n",
      "  x15, Value: 8\n",
      "  x2, Value: 5\n",
      "  x3, Value: 2\n",
      "  x4, Value: 7\n",
      "  x5, Value: 2\n",
      "  x6, Value: 8\n",
      "  x7, Value: 3\n",
      "  x8, Value: 3\n",
      "  x9, Value: 2\n",
      "  y1, Value: 2\n",
      "  y10, Value: 2\n",
      "  y11, Value: 2\n",
      "  y12, Value: 5\n",
      "  y13, Value: 3\n",
      "  y14, Value: 8\n",
      "  y15, Value: 8\n",
      "  y2, Value: 6\n",
      "  y3, Value: 6\n",
      "  y4, Value: 8\n",
      "  y5, Value: 3\n",
      "  y6, Value: 3\n",
      "  y7, Value: 8\n",
      "  y8, Value: 1\n",
      "  y9, Value: 3\n",
      ", objs=[37.39671339  8.        ].\n",
      "[INFO] [2021-11-18 16:04:48,454] [OpenBox-Shadan] Iteration 8, objective value: [37.39671339  8.        ].\n"
     ]
    },
    {
     "name": "stderr",
     "output_type": "stream",
     "text": [
      "\r",
      "  2%|█▎                                                                              | 8/500 [04:27<4:45:38, 34.84s/it]"
     ]
    },
    {
     "name": "stdout",
     "output_type": "stream",
     "text": [
      "[INFO] [2021-11-18 16:05:22,616] [OpenBox-Shadan] Iteration 9, objective value: [47.30711937  7.        ].\n"
     ]
    },
    {
     "name": "stderr",
     "output_type": "stream",
     "text": [
      "\r",
      "  2%|█▍                                                                              | 9/500 [05:01<4:43:20, 34.62s/it]"
     ]
    },
    {
     "name": "stdout",
     "output_type": "stream",
     "text": [
      "[INFO] [2021-11-18 16:05:58,382] [OpenBox-Shadan] Iteration 10, objective value: [46.75752412  7.        ].\n"
     ]
    },
    {
     "name": "stderr",
     "output_type": "stream",
     "text": [
      "\r",
      "  2%|█▌                                                                             | 10/500 [05:37<4:45:38, 34.98s/it]"
     ]
    },
    {
     "name": "stdout",
     "output_type": "stream",
     "text": [
      "[INFO] [2021-11-18 16:06:51,380] [OpenBox-Shadan] Iteration 11, objective value: [46.23972625  8.        ].\n"
     ]
    },
    {
     "name": "stderr",
     "output_type": "stream",
     "text": [
      "\r",
      "  2%|█▋                                                                             | 11/500 [06:30<5:30:00, 40.49s/it]"
     ]
    },
    {
     "name": "stdout",
     "output_type": "stream",
     "text": [
      "[INFO] [2021-11-18 16:07:33,299] [OpenBox-Shadan] Iteration 12, objective value: [38.10350987  8.        ].\n"
     ]
    },
    {
     "name": "stderr",
     "output_type": "stream",
     "text": [
      "\r",
      "  2%|█▉                                                                             | 12/500 [07:12<5:32:52, 40.93s/it]"
     ]
    },
    {
     "name": "stdout",
     "output_type": "stream",
     "text": [
      "[INFO] [2021-11-18 16:08:03,406] [MOHistoryContainer] Update pareto: config=Configuration:\n",
      "  x1, Value: 0\n",
      "  x10, Value: 6\n",
      "  x11, Value: 4\n",
      "  x12, Value: 6\n",
      "  x13, Value: 2\n",
      "  x14, Value: 2\n",
      "  x15, Value: 7\n",
      "  x2, Value: 6\n",
      "  x3, Value: 2\n",
      "  x4, Value: 1\n",
      "  x5, Value: 6\n",
      "  x6, Value: 8\n",
      "  x7, Value: 6\n",
      "  x8, Value: 7\n",
      "  x9, Value: 6\n",
      "  y1, Value: 8\n",
      "  y10, Value: 7\n",
      "  y11, Value: 7\n",
      "  y12, Value: 4\n",
      "  y13, Value: 7\n",
      "  y14, Value: 4\n",
      "  y15, Value: 7\n",
      "  y2, Value: 6\n",
      "  y3, Value: 1\n",
      "  y4, Value: 6\n",
      "  y5, Value: 5\n",
      "  y6, Value: 4\n",
      "  y7, Value: 7\n",
      "  y8, Value: 5\n",
      "  y9, Value: 4\n",
      ", objs=[21.99543811  7.        ].\n",
      "[INFO] [2021-11-18 16:08:03,407] [MOHistoryContainer] Remove from pareto: config=Configuration:\n",
      "  x1, Value: 3\n",
      "  x10, Value: 6\n",
      "  x11, Value: 8\n",
      "  x12, Value: 2\n",
      "  x13, Value: 5\n",
      "  x14, Value: 1\n",
      "  x15, Value: 4\n",
      "  x2, Value: 2\n",
      "  x3, Value: 5\n",
      "  x4, Value: 8\n",
      "  x5, Value: 8\n",
      "  x6, Value: 8\n",
      "  x7, Value: 0\n",
      "  x8, Value: 6\n",
      "  x9, Value: 3\n",
      "  y1, Value: 3\n",
      "  y10, Value: 7\n",
      "  y11, Value: 8\n",
      "  y12, Value: 5\n",
      "  y13, Value: 2\n",
      "  y14, Value: 2\n",
      "  y15, Value: 4\n",
      "  y2, Value: 7\n",
      "  y3, Value: 3\n",
      "  y4, Value: 4\n",
      "  y5, Value: 8\n",
      "  y6, Value: 5\n",
      "  y7, Value: 4\n",
      "  y8, Value: 8\n",
      "  y9, Value: 1\n",
      ", objs=[39.40411687  7.        ].\n",
      "[INFO] [2021-11-18 16:08:03,407] [MOHistoryContainer] Remove from pareto: config=Configuration:\n",
      "  x1, Value: 7\n",
      "  x10, Value: 5\n",
      "  x11, Value: 5\n",
      "  x12, Value: 5\n",
      "  x13, Value: 4\n",
      "  x14, Value: 0\n",
      "  x15, Value: 8\n",
      "  x2, Value: 5\n",
      "  x3, Value: 2\n",
      "  x4, Value: 7\n",
      "  x5, Value: 2\n",
      "  x6, Value: 8\n",
      "  x7, Value: 3\n",
      "  x8, Value: 3\n",
      "  x9, Value: 2\n",
      "  y1, Value: 2\n",
      "  y10, Value: 2\n",
      "  y11, Value: 2\n",
      "  y12, Value: 5\n",
      "  y13, Value: 3\n",
      "  y14, Value: 8\n",
      "  y15, Value: 8\n",
      "  y2, Value: 6\n",
      "  y3, Value: 6\n",
      "  y4, Value: 8\n",
      "  y5, Value: 3\n",
      "  y6, Value: 3\n",
      "  y7, Value: 8\n",
      "  y8, Value: 1\n",
      "  y9, Value: 3\n",
      ", objs=[37.39671339  8.        ].\n",
      "[INFO] [2021-11-18 16:08:03,408] [OpenBox-Shadan] Iteration 13, objective value: [21.99543811  7.        ].\n"
     ]
    },
    {
     "name": "stderr",
     "output_type": "stream",
     "text": [
      "\r",
      "  3%|██                                                                             | 13/500 [07:42<5:05:35, 37.65s/it]"
     ]
    },
    {
     "name": "stdout",
     "output_type": "stream",
     "text": [
      "[INFO] [2021-11-18 16:08:44,797] [OpenBox-Shadan] Iteration 14, objective value: [44.35088168  8.        ].\n"
     ]
    },
    {
     "name": "stderr",
     "output_type": "stream",
     "text": [
      "\r",
      "  3%|██▏                                                                            | 14/500 [08:23<5:14:06, 38.78s/it]"
     ]
    },
    {
     "name": "stdout",
     "output_type": "stream",
     "text": [
      "[INFO] [2021-11-18 16:09:24,744] [OpenBox-Shadan] Iteration 15, objective value: [48.42327778  7.        ].\n"
     ]
    },
    {
     "name": "stderr",
     "output_type": "stream",
     "text": [
      "\r",
      "  3%|██▎                                                                            | 15/500 [09:03<5:16:18, 39.13s/it]"
     ]
    },
    {
     "name": "stdout",
     "output_type": "stream",
     "text": [
      "[INFO] [2021-11-18 16:10:07,928] [OpenBox-Shadan] Iteration 16, objective value: [44.50543769  8.        ].\n"
     ]
    },
    {
     "name": "stderr",
     "output_type": "stream",
     "text": [
      "\r",
      "  3%|██▌                                                                            | 16/500 [09:46<5:25:29, 40.35s/it]"
     ]
    },
    {
     "name": "stdout",
     "output_type": "stream",
     "text": [
      "[INFO] [2021-11-18 16:10:47,218] [OpenBox-Shadan] Iteration 17, objective value: [32.81204528  8.        ].\n"
     ]
    },
    {
     "name": "stderr",
     "output_type": "stream",
     "text": [
      "\r",
      "  3%|██▋                                                                            | 17/500 [10:25<5:22:15, 40.03s/it]"
     ]
    },
    {
     "name": "stdout",
     "output_type": "stream",
     "text": [
      "[INFO] [2021-11-18 16:11:28,585] [OpenBox-Shadan] Iteration 18, objective value: [35.91840164  8.        ].\n"
     ]
    },
    {
     "name": "stderr",
     "output_type": "stream",
     "text": [
      "\r",
      "  4%|██▊                                                                            | 18/500 [11:07<5:24:48, 40.43s/it]"
     ]
    },
    {
     "name": "stdout",
     "output_type": "stream",
     "text": [
      "[INFO] [2021-11-18 16:12:05,626] [OpenBox-Shadan] Iteration 19, objective value: [45.65899492  7.        ].\n"
     ]
    },
    {
     "name": "stderr",
     "output_type": "stream",
     "text": [
      "\r",
      "  4%|███                                                                            | 19/500 [11:44<5:15:58, 39.41s/it]"
     ]
    },
    {
     "name": "stdout",
     "output_type": "stream",
     "text": [
      "[INFO] [2021-11-18 16:12:42,611] [OpenBox-Shadan] Iteration 20, objective value: [45.21102737  7.        ].\n"
     ]
    },
    {
     "name": "stderr",
     "output_type": "stream",
     "text": [
      "\r",
      "  4%|███▏                                                                           | 20/500 [12:21<5:09:28, 38.69s/it]"
     ]
    },
    {
     "name": "stdout",
     "output_type": "stream",
     "text": [
      "[INFO] [2021-11-18 16:13:20,394] [OpenBox-Shadan] Iteration 21, objective value: [39.48432301  7.        ].\n"
     ]
    },
    {
     "name": "stderr",
     "output_type": "stream",
     "text": [
      "\r",
      "  4%|███▎                                                                           | 21/500 [12:59<5:06:40, 38.41s/it]"
     ]
    },
    {
     "name": "stdout",
     "output_type": "stream",
     "text": [
      "[INFO] [2021-11-18 16:13:59,818] [OpenBox-Shadan] Iteration 22, objective value: [47.28357094  7.        ].\n"
     ]
    },
    {
     "name": "stderr",
     "output_type": "stream",
     "text": [
      "\r",
      "  4%|███▍                                                                           | 22/500 [13:38<5:08:26, 38.72s/it]"
     ]
    },
    {
     "name": "stdout",
     "output_type": "stream",
     "text": [
      "[INFO] [2021-11-18 16:14:40,648] [OpenBox-Shadan] Iteration 23, objective value: [31.76733341  8.        ].\n"
     ]
    },
    {
     "name": "stderr",
     "output_type": "stream",
     "text": [
      "\r",
      "  5%|███▋                                                                           | 23/500 [14:19<5:12:50, 39.35s/it]"
     ]
    },
    {
     "name": "stdout",
     "output_type": "stream",
     "text": [
      "[INFO] [2021-11-18 16:15:19,279] [OpenBox-Shadan] Iteration 24, objective value: [26.90342779  8.        ].\n"
     ]
    },
    {
     "name": "stderr",
     "output_type": "stream",
     "text": [
      "\r",
      "  5%|███▊                                                                           | 24/500 [14:58<5:10:28, 39.13s/it]"
     ]
    },
    {
     "name": "stdout",
     "output_type": "stream",
     "text": [
      "[INFO] [2021-11-18 16:15:59,529] [OpenBox-Shadan] Iteration 25, objective value: [29.0546203  7.       ].\n"
     ]
    },
    {
     "name": "stderr",
     "output_type": "stream",
     "text": [
      "\r",
      "  5%|███▉                                                                           | 25/500 [15:38<5:12:28, 39.47s/it]"
     ]
    },
    {
     "name": "stdout",
     "output_type": "stream",
     "text": [
      "[INFO] [2021-11-18 16:16:38,074] [OpenBox-Shadan] Iteration 26, objective value: [39.56518079  8.        ].\n"
     ]
    },
    {
     "name": "stderr",
     "output_type": "stream",
     "text": [
      "\r",
      "  5%|████                                                                           | 26/500 [16:16<5:09:37, 39.19s/it]"
     ]
    },
    {
     "name": "stdout",
     "output_type": "stream",
     "text": [
      "[INFO] [2021-11-18 16:17:08,999] [MOHistoryContainer] Update pareto: config=Configuration:\n",
      "  x1, Value: 0\n",
      "  x10, Value: 6\n",
      "  x11, Value: 4\n",
      "  x12, Value: 6\n",
      "  x13, Value: 2\n",
      "  x14, Value: 2\n",
      "  x15, Value: 7\n",
      "  x2, Value: 6\n",
      "  x3, Value: 0\n",
      "  x4, Value: 1\n",
      "  x5, Value: 6\n",
      "  x6, Value: 8\n",
      "  x7, Value: 6\n",
      "  x8, Value: 7\n",
      "  x9, Value: 6\n",
      "  y1, Value: 8\n",
      "  y10, Value: 7\n",
      "  y11, Value: 4\n",
      "  y12, Value: 6\n",
      "  y13, Value: 7\n",
      "  y14, Value: 4\n",
      "  y15, Value: 7\n",
      "  y2, Value: 7\n",
      "  y3, Value: 1\n",
      "  y4, Value: 6\n",
      "  y5, Value: 5\n",
      "  y6, Value: 4\n",
      "  y7, Value: 4\n",
      "  y8, Value: 5\n",
      "  y9, Value: 4\n",
      ", objs=[27.90255539  6.        ].\n",
      "[INFO] [2021-11-18 16:17:09,000] [OpenBox-Shadan] Iteration 27, objective value: [27.90255539  6.        ].\n"
     ]
    },
    {
     "name": "stderr",
     "output_type": "stream",
     "text": [
      "\r",
      "  5%|████▎                                                                          | 27/500 [16:47<4:49:24, 36.71s/it]"
     ]
    },
    {
     "name": "stdout",
     "output_type": "stream",
     "text": [
      "[INFO] [2021-11-18 16:17:42,298] [OpenBox-Shadan] Iteration 28, objective value: [25.91132999  7.        ].\n"
     ]
    },
    {
     "name": "stderr",
     "output_type": "stream",
     "text": [
      "\r",
      "  6%|████▍                                                                          | 28/500 [17:21<4:40:44, 35.69s/it]"
     ]
    },
    {
     "name": "stdout",
     "output_type": "stream",
     "text": [
      "[INFO] [2021-11-18 16:18:21,133] [OpenBox-Shadan] Iteration 29, objective value: [48.12545579  8.        ].\n"
     ]
    },
    {
     "name": "stderr",
     "output_type": "stream",
     "text": [
      "\r",
      "  6%|████▌                                                                          | 29/500 [17:59<4:47:33, 36.63s/it]"
     ]
    },
    {
     "name": "stdout",
     "output_type": "stream",
     "text": [
      "[INFO] [2021-11-18 16:18:55,334] [OpenBox-Shadan] Iteration 30, objective value: [34.32794952  7.        ].\n"
     ]
    },
    {
     "name": "stderr",
     "output_type": "stream",
     "text": [
      "\r",
      "  6%|████▋                                                                          | 30/500 [18:34<4:41:14, 35.90s/it]"
     ]
    },
    {
     "name": "stdout",
     "output_type": "stream",
     "text": [
      "[INFO] [2021-11-18 16:19:33,781] [OpenBox-Shadan] Iteration 31, objective value: [50.04925083  7.        ].\n"
     ]
    },
    {
     "name": "stderr",
     "output_type": "stream",
     "text": [
      "\r",
      "  6%|████▉                                                                          | 31/500 [19:12<4:46:36, 36.67s/it]"
     ]
    },
    {
     "name": "stdout",
     "output_type": "stream",
     "text": [
      "[INFO] [2021-11-18 16:20:09,736] [OpenBox-Shadan] Iteration 32, objective value: [43.29159518  7.        ].\n"
     ]
    },
    {
     "name": "stderr",
     "output_type": "stream",
     "text": [
      "\r",
      "  6%|█████                                                                          | 32/500 [19:48<4:44:19, 36.45s/it]"
     ]
    },
    {
     "name": "stdout",
     "output_type": "stream",
     "text": [
      "[INFO] [2021-11-18 16:20:42,615] [OpenBox-Shadan] Iteration 33, objective value: [26.87620839  7.        ].\n"
     ]
    },
    {
     "name": "stderr",
     "output_type": "stream",
     "text": [
      "\r",
      "  7%|█████▏                                                                         | 33/500 [20:21<4:35:22, 35.38s/it]"
     ]
    },
    {
     "name": "stdout",
     "output_type": "stream",
     "text": [
      "[INFO] [2021-11-18 16:21:15,974] [OpenBox-Shadan] Iteration 34, objective value: [45.36151409  6.        ].\n"
     ]
    },
    {
     "name": "stderr",
     "output_type": "stream",
     "text": [
      "\r",
      "  7%|█████▎                                                                         | 34/500 [20:54<4:30:04, 34.77s/it]"
     ]
    },
    {
     "name": "stdout",
     "output_type": "stream",
     "text": [
      "[INFO] [2021-11-18 16:21:51,090] [OpenBox-Shadan] Iteration 35, objective value: [38.87466945  7.        ].\n"
     ]
    },
    {
     "name": "stderr",
     "output_type": "stream",
     "text": [
      "\r",
      "  7%|█████▌                                                                         | 35/500 [21:29<4:30:17, 34.88s/it]"
     ]
    },
    {
     "name": "stdout",
     "output_type": "stream",
     "text": [
      "[INFO] [2021-11-18 16:22:27,760] [OpenBox-Shadan] Iteration 36, objective value: [33.05435252  7.        ].\n"
     ]
    },
    {
     "name": "stderr",
     "output_type": "stream",
     "text": [
      "\r",
      "  7%|█████▋                                                                         | 36/500 [22:06<4:33:52, 35.41s/it]"
     ]
    },
    {
     "name": "stdout",
     "output_type": "stream",
     "text": [
      "[INFO] [2021-11-18 16:23:02,695] [OpenBox-Shadan] Iteration 37, objective value: [30.41725998  7.        ].\n"
     ]
    },
    {
     "name": "stderr",
     "output_type": "stream",
     "text": [
      "\r",
      "  7%|█████▊                                                                         | 37/500 [22:41<4:32:10, 35.27s/it]"
     ]
    },
    {
     "name": "stdout",
     "output_type": "stream",
     "text": [
      "[INFO] [2021-11-18 16:23:34,973] [OpenBox-Shadan] Iteration 38, objective value: [22.78958818  7.        ].\n"
     ]
    },
    {
     "name": "stderr",
     "output_type": "stream",
     "text": [
      "\r",
      "  8%|██████                                                                         | 38/500 [23:13<4:24:40, 34.37s/it]"
     ]
    },
    {
     "name": "stdout",
     "output_type": "stream",
     "text": [
      "[INFO] [2021-11-18 16:24:06,776] [OpenBox-Shadan] Iteration 39, objective value: [33.80126928  6.        ].\n"
     ]
    },
    {
     "name": "stderr",
     "output_type": "stream",
     "text": [
      "\r",
      "  8%|██████▏                                                                        | 39/500 [23:45<4:18:10, 33.60s/it]"
     ]
    },
    {
     "name": "stdout",
     "output_type": "stream",
     "text": [
      "[INFO] [2021-11-18 16:24:41,108] [OpenBox-Shadan] Iteration 40, objective value: [36.30876274  6.        ].\n"
     ]
    },
    {
     "name": "stderr",
     "output_type": "stream",
     "text": [
      "\r",
      "  8%|██████▎                                                                        | 40/500 [24:19<4:19:17, 33.82s/it]"
     ]
    },
    {
     "name": "stdout",
     "output_type": "stream",
     "text": [
      "[INFO] [2021-11-18 16:25:15,028] [OpenBox-Shadan] Iteration 41, objective value: [37.33536549  6.        ].\n"
     ]
    },
    {
     "name": "stderr",
     "output_type": "stream",
     "text": [
      "\r",
      "  8%|██████▍                                                                        | 41/500 [24:53<4:18:57, 33.85s/it]"
     ]
    },
    {
     "name": "stdout",
     "output_type": "stream",
     "text": [
      "[INFO] [2021-11-18 16:25:49,411] [MOHistoryContainer] Update pareto: config=Configuration:\n",
      "  x1, Value: 0\n",
      "  x10, Value: 6\n",
      "  x11, Value: 2\n",
      "  x12, Value: 6\n",
      "  x13, Value: 2\n",
      "  x14, Value: 8\n",
      "  x15, Value: 2\n",
      "  x2, Value: 6\n",
      "  x3, Value: 0\n",
      "  x4, Value: 5\n",
      "  x5, Value: 8\n",
      "  x6, Value: 7\n",
      "  x7, Value: 6\n",
      "  x8, Value: 7\n",
      "  x9, Value: 6\n",
      "  y1, Value: 8\n",
      "  y10, Value: 8\n",
      "  y11, Value: 6\n",
      "  y12, Value: 4\n",
      "  y13, Value: 7\n",
      "  y14, Value: 4\n",
      "  y15, Value: 7\n",
      "  y2, Value: 2\n",
      "  y3, Value: 1\n",
      "  y4, Value: 3\n",
      "  y5, Value: 3\n",
      "  y6, Value: 2\n",
      "  y7, Value: 3\n",
      "  y8, Value: 5\n",
      "  y9, Value: 2\n",
      ", objs=[16.93289688  6.        ].\n",
      "[INFO] [2021-11-18 16:25:49,411] [MOHistoryContainer] Remove from pareto: config=Configuration:\n",
      "  x1, Value: 0\n",
      "  x10, Value: 6\n",
      "  x11, Value: 4\n",
      "  x12, Value: 6\n",
      "  x13, Value: 2\n",
      "  x14, Value: 2\n",
      "  x15, Value: 7\n",
      "  x2, Value: 6\n",
      "  x3, Value: 2\n",
      "  x4, Value: 1\n",
      "  x5, Value: 6\n",
      "  x6, Value: 8\n",
      "  x7, Value: 6\n",
      "  x8, Value: 7\n",
      "  x9, Value: 6\n",
      "  y1, Value: 8\n",
      "  y10, Value: 7\n",
      "  y11, Value: 7\n",
      "  y12, Value: 4\n",
      "  y13, Value: 7\n",
      "  y14, Value: 4\n",
      "  y15, Value: 7\n",
      "  y2, Value: 6\n",
      "  y3, Value: 1\n",
      "  y4, Value: 6\n",
      "  y5, Value: 5\n",
      "  y6, Value: 4\n",
      "  y7, Value: 7\n",
      "  y8, Value: 5\n",
      "  y9, Value: 4\n",
      ", objs=[21.99543811  7.        ].\n",
      "[INFO] [2021-11-18 16:25:49,412] [MOHistoryContainer] Remove from pareto: config=Configuration:\n",
      "  x1, Value: 0\n",
      "  x10, Value: 6\n",
      "  x11, Value: 4\n",
      "  x12, Value: 6\n",
      "  x13, Value: 2\n",
      "  x14, Value: 2\n",
      "  x15, Value: 7\n",
      "  x2, Value: 6\n",
      "  x3, Value: 0\n",
      "  x4, Value: 1\n",
      "  x5, Value: 6\n",
      "  x6, Value: 8\n",
      "  x7, Value: 6\n",
      "  x8, Value: 7\n",
      "  x9, Value: 6\n",
      "  y1, Value: 8\n",
      "  y10, Value: 7\n",
      "  y11, Value: 4\n",
      "  y12, Value: 6\n",
      "  y13, Value: 7\n",
      "  y14, Value: 4\n",
      "  y15, Value: 7\n",
      "  y2, Value: 7\n",
      "  y3, Value: 1\n",
      "  y4, Value: 6\n",
      "  y5, Value: 5\n",
      "  y6, Value: 4\n",
      "  y7, Value: 4\n",
      "  y8, Value: 5\n",
      "  y9, Value: 4\n",
      ", objs=[27.90255539  6.        ].\n",
      "[INFO] [2021-11-18 16:25:49,414] [OpenBox-Shadan] Iteration 42, objective value: [16.93289688  6.        ].\n"
     ]
    },
    {
     "name": "stderr",
     "output_type": "stream",
     "text": [
      "\r",
      "  8%|██████▋                                                                        | 42/500 [25:28<4:19:37, 34.01s/it]"
     ]
    },
    {
     "name": "stdout",
     "output_type": "stream",
     "text": [
      "[INFO] [2021-11-18 16:26:44,970] [OpenBox-Shadan] Iteration 43, objective value: [47.11068935  7.        ].\n"
     ]
    },
    {
     "name": "stderr",
     "output_type": "stream",
     "text": [
      "\r",
      "  9%|██████▊                                                                        | 43/500 [26:23<5:08:16, 40.47s/it]"
     ]
    },
    {
     "name": "stdout",
     "output_type": "stream",
     "text": [
      "[INFO] [2021-11-18 16:27:23,151] [OpenBox-Shadan] Iteration 44, objective value: [30.41200993  6.        ].\n"
     ]
    },
    {
     "name": "stderr",
     "output_type": "stream",
     "text": [
      "\r",
      "  9%|██████▉                                                                        | 44/500 [27:01<5:02:22, 39.79s/it]"
     ]
    },
    {
     "name": "stdout",
     "output_type": "stream",
     "text": [
      "[INFO] [2021-11-18 16:28:03,028] [OpenBox-Shadan] Iteration 45, objective value: [36.70239898  6.        ].\n"
     ]
    },
    {
     "name": "stderr",
     "output_type": "stream",
     "text": [
      "\r",
      "  9%|███████                                                                        | 45/500 [27:41<5:01:55, 39.81s/it]"
     ]
    },
    {
     "name": "stdout",
     "output_type": "stream",
     "text": [
      "[INFO] [2021-11-18 16:28:45,168] [OpenBox-Shadan] Iteration 46, objective value: [27.81694968  7.        ].\n"
     ]
    },
    {
     "name": "stderr",
     "output_type": "stream",
     "text": [
      "\r",
      "  9%|███████▎                                                                       | 46/500 [28:23<5:06:32, 40.51s/it]"
     ]
    },
    {
     "name": "stdout",
     "output_type": "stream",
     "text": [
      "[INFO] [2021-11-18 16:29:27,262] [OpenBox-Shadan] Iteration 47, objective value: [46.08870074  7.        ].\n"
     ]
    },
    {
     "name": "stderr",
     "output_type": "stream",
     "text": [
      "\r",
      "  9%|███████▍                                                                       | 47/500 [29:05<5:09:26, 40.99s/it]"
     ]
    },
    {
     "name": "stdout",
     "output_type": "stream",
     "text": [
      "[INFO] [2021-11-18 16:30:06,284] [OpenBox-Shadan] Iteration 48, objective value: [36.32948643  6.        ].\n"
     ]
    },
    {
     "name": "stderr",
     "output_type": "stream",
     "text": [
      "\r",
      " 10%|███████▌                                                                       | 48/500 [29:45<5:04:19, 40.40s/it]"
     ]
    },
    {
     "name": "stdout",
     "output_type": "stream",
     "text": [
      "[INFO] [2021-11-18 16:30:40,587] [OpenBox-Shadan] Iteration 49, objective value: [36.69561741  6.        ].\n"
     ]
    },
    {
     "name": "stderr",
     "output_type": "stream",
     "text": [
      "\r",
      " 10%|███████▋                                                                       | 49/500 [30:19<4:49:54, 38.57s/it]"
     ]
    },
    {
     "name": "stdout",
     "output_type": "stream",
     "text": [
      "[INFO] [2021-11-18 16:31:13,625] [OpenBox-Shadan] Iteration 50, objective value: [43.95101073  6.        ].\n"
     ]
    },
    {
     "name": "stderr",
     "output_type": "stream",
     "text": [
      "\r",
      " 10%|███████▉                                                                       | 50/500 [30:52<4:36:49, 36.91s/it]"
     ]
    },
    {
     "name": "stdout",
     "output_type": "stream",
     "text": [
      "[INFO] [2021-11-18 16:31:54,109] [OpenBox-Shadan] Iteration 51, objective value: [41.70010154  7.        ].\n"
     ]
    },
    {
     "name": "stderr",
     "output_type": "stream",
     "text": [
      "\r",
      " 10%|████████                                                                       | 51/500 [31:32<4:44:13, 37.98s/it]"
     ]
    },
    {
     "name": "stdout",
     "output_type": "stream",
     "text": [
      "[INFO] [2021-11-18 16:32:32,611] [OpenBox-Shadan] Iteration 52, objective value: [38.04275099  7.        ].\n"
     ]
    },
    {
     "name": "stderr",
     "output_type": "stream",
     "text": [
      "\r",
      " 10%|████████▏                                                                      | 52/500 [32:11<4:44:45, 38.14s/it]"
     ]
    },
    {
     "name": "stdout",
     "output_type": "stream",
     "text": [
      "[INFO] [2021-11-18 16:33:05,954] [OpenBox-Shadan] Iteration 53, objective value: [47.74916938  6.        ].\n"
     ]
    },
    {
     "name": "stderr",
     "output_type": "stream",
     "text": [
      "\r",
      " 11%|████████▎                                                                      | 53/500 [32:44<4:33:24, 36.70s/it]"
     ]
    },
    {
     "name": "stdout",
     "output_type": "stream",
     "text": [
      "[INFO] [2021-11-18 16:33:39,183] [OpenBox-Shadan] Iteration 54, objective value: [27.09597079  6.        ].\n"
     ]
    },
    {
     "name": "stderr",
     "output_type": "stream",
     "text": [
      "\r",
      " 11%|████████▌                                                                      | 54/500 [33:17<4:25:03, 35.66s/it]"
     ]
    },
    {
     "name": "stdout",
     "output_type": "stream",
     "text": [
      "[INFO] [2021-11-18 16:34:09,202] [OpenBox-Shadan] Iteration 55, objective value: [35.80914718  6.        ].\n"
     ]
    },
    {
     "name": "stderr",
     "output_type": "stream",
     "text": [
      "\r",
      " 11%|████████▋                                                                      | 55/500 [33:47<4:11:55, 33.97s/it]"
     ]
    },
    {
     "name": "stdout",
     "output_type": "stream",
     "text": [
      "[INFO] [2021-11-18 16:34:41,641] [OpenBox-Shadan] Iteration 56, objective value: [34.86916957  6.        ].\n"
     ]
    },
    {
     "name": "stderr",
     "output_type": "stream",
     "text": [
      "\r",
      " 11%|████████▊                                                                      | 56/500 [34:20<4:07:57, 33.51s/it]"
     ]
    },
    {
     "name": "stdout",
     "output_type": "stream",
     "text": [
      "[INFO] [2021-11-18 16:35:15,778] [OpenBox-Shadan] Iteration 57, objective value: [43.97427212  6.        ].\n"
     ]
    },
    {
     "name": "stderr",
     "output_type": "stream",
     "text": [
      "\r",
      " 11%|█████████                                                                      | 57/500 [34:54<4:08:47, 33.70s/it]"
     ]
    },
    {
     "name": "stdout",
     "output_type": "stream",
     "text": [
      "[INFO] [2021-11-18 16:35:59,019] [OpenBox-Shadan] Iteration 58, objective value: [26.59535731  7.        ].\n"
     ]
    },
    {
     "name": "stderr",
     "output_type": "stream",
     "text": [
      "\r",
      " 12%|█████████▏                                                                     | 58/500 [35:37<4:29:19, 36.56s/it]"
     ]
    },
    {
     "name": "stdout",
     "output_type": "stream",
     "text": [
      "[INFO] [2021-11-18 16:36:33,659] [OpenBox-Shadan] Iteration 59, objective value: [18.61956007  6.        ].\n"
     ]
    },
    {
     "name": "stderr",
     "output_type": "stream",
     "text": [
      "\r",
      " 12%|█████████▎                                                                     | 59/500 [36:12<4:24:28, 35.98s/it]"
     ]
    },
    {
     "name": "stdout",
     "output_type": "stream",
     "text": [
      "[INFO] [2021-11-18 16:37:12,532] [OpenBox-Shadan] Iteration 60, objective value: [30.67667752  6.        ].\n"
     ]
    },
    {
     "name": "stderr",
     "output_type": "stream",
     "text": [
      "\r",
      " 12%|█████████▍                                                                     | 60/500 [36:51<4:30:14, 36.85s/it]"
     ]
    },
    {
     "name": "stdout",
     "output_type": "stream",
     "text": [
      "[INFO] [2021-11-18 16:37:38,436] [MOHistoryContainer] Update pareto: config=Configuration:\n",
      "  x1, Value: 0\n",
      "  x10, Value: 7\n",
      "  x11, Value: 3\n",
      "  x12, Value: 3\n",
      "  x13, Value: 1\n",
      "  x14, Value: 2\n",
      "  x15, Value: 7\n",
      "  x2, Value: 6\n",
      "  x3, Value: 0\n",
      "  x4, Value: 5\n",
      "  x5, Value: 8\n",
      "  x6, Value: 7\n",
      "  x7, Value: 0\n",
      "  x8, Value: 7\n",
      "  x9, Value: 3\n",
      "  y1, Value: 8\n",
      "  y10, Value: 7\n",
      "  y11, Value: 7\n",
      "  y12, Value: 4\n",
      "  y13, Value: 7\n",
      "  y14, Value: 4\n",
      "  y15, Value: 7\n",
      "  y2, Value: 2\n",
      "  y3, Value: 1\n",
      "  y4, Value: 1\n",
      "  y5, Value: 1\n",
      "  y6, Value: 3\n",
      "  y7, Value: 7\n",
      "  y8, Value: 5\n",
      "  y9, Value: 4\n",
      ", objs=[16.99709931  5.        ].\n",
      "[INFO] [2021-11-18 16:37:38,437] [OpenBox-Shadan] Iteration 61, objective value: [16.99709931  5.        ].\n"
     ]
    },
    {
     "name": "stderr",
     "output_type": "stream",
     "text": [
      "\r",
      " 12%|█████████▋                                                                     | 61/500 [37:17<4:05:35, 33.57s/it]"
     ]
    },
    {
     "name": "stdout",
     "output_type": "stream",
     "text": [
      "[INFO] [2021-11-18 16:38:08,259] [MOHistoryContainer] Update pareto: config=Configuration:\n",
      "  x1, Value: 0\n",
      "  x10, Value: 7\n",
      "  x11, Value: 3\n",
      "  x12, Value: 1\n",
      "  x13, Value: 1\n",
      "  x14, Value: 2\n",
      "  x15, Value: 7\n",
      "  x2, Value: 6\n",
      "  x3, Value: 0\n",
      "  x4, Value: 5\n",
      "  x5, Value: 8\n",
      "  x6, Value: 7\n",
      "  x7, Value: 0\n",
      "  x8, Value: 7\n",
      "  x9, Value: 5\n",
      "  y1, Value: 8\n",
      "  y10, Value: 7\n",
      "  y11, Value: 7\n",
      "  y12, Value: 4\n",
      "  y13, Value: 7\n",
      "  y14, Value: 4\n",
      "  y15, Value: 4\n",
      "  y2, Value: 2\n",
      "  y3, Value: 1\n",
      "  y4, Value: 1\n",
      "  y5, Value: 1\n",
      "  y6, Value: 3\n",
      "  y7, Value: 7\n",
      "  y8, Value: 5\n",
      "  y9, Value: 4\n",
      ", objs=[15.05582162  5.        ].\n",
      "[INFO] [2021-11-18 16:38:08,260] [MOHistoryContainer] Remove from pareto: config=Configuration:\n",
      "  x1, Value: 0\n",
      "  x10, Value: 6\n",
      "  x11, Value: 2\n",
      "  x12, Value: 6\n",
      "  x13, Value: 2\n",
      "  x14, Value: 8\n",
      "  x15, Value: 2\n",
      "  x2, Value: 6\n",
      "  x3, Value: 0\n",
      "  x4, Value: 5\n",
      "  x5, Value: 8\n",
      "  x6, Value: 7\n",
      "  x7, Value: 6\n",
      "  x8, Value: 7\n",
      "  x9, Value: 6\n",
      "  y1, Value: 8\n",
      "  y10, Value: 8\n",
      "  y11, Value: 6\n",
      "  y12, Value: 4\n",
      "  y13, Value: 7\n",
      "  y14, Value: 4\n",
      "  y15, Value: 7\n",
      "  y2, Value: 2\n",
      "  y3, Value: 1\n",
      "  y4, Value: 3\n",
      "  y5, Value: 3\n",
      "  y6, Value: 2\n",
      "  y7, Value: 3\n",
      "  y8, Value: 5\n",
      "  y9, Value: 2\n",
      ", objs=[16.93289688  6.        ].\n",
      "[INFO] [2021-11-18 16:38:08,261] [MOHistoryContainer] Remove from pareto: config=Configuration:\n",
      "  x1, Value: 0\n",
      "  x10, Value: 7\n",
      "  x11, Value: 3\n",
      "  x12, Value: 3\n",
      "  x13, Value: 1\n",
      "  x14, Value: 2\n",
      "  x15, Value: 7\n",
      "  x2, Value: 6\n",
      "  x3, Value: 0\n",
      "  x4, Value: 5\n",
      "  x5, Value: 8\n",
      "  x6, Value: 7\n",
      "  x7, Value: 0\n",
      "  x8, Value: 7\n",
      "  x9, Value: 3\n",
      "  y1, Value: 8\n",
      "  y10, Value: 7\n",
      "  y11, Value: 7\n",
      "  y12, Value: 4\n",
      "  y13, Value: 7\n",
      "  y14, Value: 4\n",
      "  y15, Value: 7\n",
      "  y2, Value: 2\n",
      "  y3, Value: 1\n",
      "  y4, Value: 1\n",
      "  y5, Value: 1\n",
      "  y6, Value: 3\n",
      "  y7, Value: 7\n",
      "  y8, Value: 5\n",
      "  y9, Value: 4\n",
      ", objs=[16.99709931  5.        ].\n",
      "[INFO] [2021-11-18 16:38:08,262] [OpenBox-Shadan] Iteration 62, objective value: [15.05582162  5.        ].\n"
     ]
    },
    {
     "name": "stderr",
     "output_type": "stream",
     "text": [
      "\r",
      " 12%|█████████▊                                                                     | 62/500 [37:47<3:56:50, 32.44s/it]"
     ]
    },
    {
     "name": "stdout",
     "output_type": "stream",
     "text": [
      "[INFO] [2021-11-18 16:38:38,619] [MOHistoryContainer] Update pareto: config=Configuration:\n",
      "  x1, Value: 0\n",
      "  x10, Value: 7\n",
      "  x11, Value: 4\n",
      "  x12, Value: 3\n",
      "  x13, Value: 1\n",
      "  x14, Value: 2\n",
      "  x15, Value: 7\n",
      "  x2, Value: 6\n",
      "  x3, Value: 0\n",
      "  x4, Value: 5\n",
      "  x5, Value: 8\n",
      "  x6, Value: 8\n",
      "  x7, Value: 0\n",
      "  x8, Value: 7\n",
      "  x9, Value: 3\n",
      "  y1, Value: 8\n",
      "  y10, Value: 5\n",
      "  y11, Value: 6\n",
      "  y12, Value: 4\n",
      "  y13, Value: 2\n",
      "  y14, Value: 4\n",
      "  y15, Value: 7\n",
      "  y2, Value: 7\n",
      "  y3, Value: 1\n",
      "  y4, Value: 1\n",
      "  y5, Value: 1\n",
      "  y6, Value: 3\n",
      "  y7, Value: 7\n",
      "  y8, Value: 5\n",
      "  y9, Value: 4\n",
      ", objs=[12.27995661  5.        ].\n",
      "[INFO] [2021-11-18 16:38:38,620] [MOHistoryContainer] Remove from pareto: config=Configuration:\n",
      "  x1, Value: 0\n",
      "  x10, Value: 7\n",
      "  x11, Value: 3\n",
      "  x12, Value: 1\n",
      "  x13, Value: 1\n",
      "  x14, Value: 2\n",
      "  x15, Value: 7\n",
      "  x2, Value: 6\n",
      "  x3, Value: 0\n",
      "  x4, Value: 5\n",
      "  x5, Value: 8\n",
      "  x6, Value: 7\n",
      "  x7, Value: 0\n",
      "  x8, Value: 7\n",
      "  x9, Value: 5\n",
      "  y1, Value: 8\n",
      "  y10, Value: 7\n",
      "  y11, Value: 7\n",
      "  y12, Value: 4\n",
      "  y13, Value: 7\n",
      "  y14, Value: 4\n",
      "  y15, Value: 4\n",
      "  y2, Value: 2\n",
      "  y3, Value: 1\n",
      "  y4, Value: 1\n",
      "  y5, Value: 1\n",
      "  y6, Value: 3\n",
      "  y7, Value: 7\n",
      "  y8, Value: 5\n",
      "  y9, Value: 4\n",
      ", objs=[15.05582162  5.        ].\n",
      "[INFO] [2021-11-18 16:38:38,621] [OpenBox-Shadan] Iteration 63, objective value: [12.27995661  5.        ].\n"
     ]
    },
    {
     "name": "stderr",
     "output_type": "stream",
     "text": [
      "\r",
      " 13%|█████████▉                                                                     | 63/500 [38:17<3:51:44, 31.82s/it]"
     ]
    },
    {
     "name": "stdout",
     "output_type": "stream",
     "text": [
      "[INFO] [2021-11-18 16:39:07,954] [OpenBox-Shadan] Iteration 64, objective value: [27.54925138  5.        ].\n"
     ]
    },
    {
     "name": "stderr",
     "output_type": "stream",
     "text": [
      "\r",
      " 13%|██████████                                                                     | 64/500 [38:46<3:45:47, 31.07s/it]"
     ]
    },
    {
     "name": "stdout",
     "output_type": "stream",
     "text": [
      "[INFO] [2021-11-18 16:39:37,305] [MOHistoryContainer] Update pareto: config=Configuration:\n",
      "  x1, Value: 0\n",
      "  x10, Value: 7\n",
      "  x11, Value: 3\n",
      "  x12, Value: 3\n",
      "  x13, Value: 1\n",
      "  x14, Value: 2\n",
      "  x15, Value: 7\n",
      "  x2, Value: 6\n",
      "  x3, Value: 0\n",
      "  x4, Value: 5\n",
      "  x5, Value: 8\n",
      "  x6, Value: 8\n",
      "  x7, Value: 0\n",
      "  x8, Value: 7\n",
      "  x9, Value: 2\n",
      "  y1, Value: 8\n",
      "  y10, Value: 4\n",
      "  y11, Value: 8\n",
      "  y12, Value: 4\n",
      "  y13, Value: 7\n",
      "  y14, Value: 4\n",
      "  y15, Value: 7\n",
      "  y2, Value: 2\n",
      "  y3, Value: 1\n",
      "  y4, Value: 1\n",
      "  y5, Value: 4\n",
      "  y6, Value: 3\n",
      "  y7, Value: 7\n",
      "  y8, Value: 5\n",
      "  y9, Value: 2\n",
      ", objs=[10.15628844  5.        ].\n",
      "[INFO] [2021-11-18 16:39:37,305] [MOHistoryContainer] Remove from pareto: config=Configuration:\n",
      "  x1, Value: 0\n",
      "  x10, Value: 7\n",
      "  x11, Value: 4\n",
      "  x12, Value: 3\n",
      "  x13, Value: 1\n",
      "  x14, Value: 2\n",
      "  x15, Value: 7\n",
      "  x2, Value: 6\n",
      "  x3, Value: 0\n",
      "  x4, Value: 5\n",
      "  x5, Value: 8\n",
      "  x6, Value: 8\n",
      "  x7, Value: 0\n",
      "  x8, Value: 7\n",
      "  x9, Value: 3\n",
      "  y1, Value: 8\n",
      "  y10, Value: 5\n",
      "  y11, Value: 6\n",
      "  y12, Value: 4\n",
      "  y13, Value: 2\n",
      "  y14, Value: 4\n",
      "  y15, Value: 7\n",
      "  y2, Value: 7\n",
      "  y3, Value: 1\n",
      "  y4, Value: 1\n",
      "  y5, Value: 1\n",
      "  y6, Value: 3\n",
      "  y7, Value: 7\n",
      "  y8, Value: 5\n",
      "  y9, Value: 4\n",
      ", objs=[12.27995661  5.        ].\n",
      "[INFO] [2021-11-18 16:39:37,307] [OpenBox-Shadan] Iteration 65, objective value: [10.15628844  5.        ].\n"
     ]
    },
    {
     "name": "stderr",
     "output_type": "stream",
     "text": [
      "\r",
      " 13%|██████████▎                                                                    | 65/500 [39:16<3:41:32, 30.56s/it]"
     ]
    },
    {
     "name": "stdout",
     "output_type": "stream",
     "text": [
      "[INFO] [2021-11-18 16:40:03,704] [OpenBox-Shadan] Iteration 66, objective value: [29.30604547  5.        ].\n"
     ]
    },
    {
     "name": "stderr",
     "output_type": "stream",
     "text": [
      "\r",
      " 13%|██████████▍                                                                    | 66/500 [39:42<3:32:00, 29.31s/it]"
     ]
    },
    {
     "name": "stdout",
     "output_type": "stream",
     "text": [
      "[INFO] [2021-11-18 16:40:36,193] [OpenBox-Shadan] Iteration 67, objective value: [15.0639241  5.       ].\n"
     ]
    },
    {
     "name": "stderr",
     "output_type": "stream",
     "text": [
      "\r",
      " 13%|██████████▌                                                                    | 67/500 [40:14<3:38:23, 30.26s/it]"
     ]
    },
    {
     "name": "stdout",
     "output_type": "stream",
     "text": [
      "[INFO] [2021-11-18 16:41:04,111] [OpenBox-Shadan] Iteration 68, objective value: [21.59425852  6.        ].\n"
     ]
    },
    {
     "name": "stderr",
     "output_type": "stream",
     "text": [
      "\r",
      " 14%|██████████▋                                                                    | 68/500 [40:42<3:32:49, 29.56s/it]"
     ]
    },
    {
     "name": "stdout",
     "output_type": "stream",
     "text": [
      "[INFO] [2021-11-18 16:41:41,020] [OpenBox-Shadan] Iteration 69, objective value: [38.45444882  6.        ].\n"
     ]
    },
    {
     "name": "stderr",
     "output_type": "stream",
     "text": [
      "\r",
      " 14%|██████████▉                                                                    | 69/500 [41:19<3:48:10, 31.76s/it]"
     ]
    },
    {
     "name": "stdout",
     "output_type": "stream",
     "text": [
      "[INFO] [2021-11-18 16:42:09,092] [OpenBox-Shadan] Iteration 70, objective value: [27.93700047  6.        ].\n"
     ]
    },
    {
     "name": "stderr",
     "output_type": "stream",
     "text": [
      "\r",
      " 14%|███████████                                                                    | 70/500 [41:47<3:39:42, 30.66s/it]"
     ]
    },
    {
     "name": "stdout",
     "output_type": "stream",
     "text": [
      "[INFO] [2021-11-18 16:42:35,981] [OpenBox-Shadan] Iteration 71, objective value: [20.20843171  5.        ].\n"
     ]
    },
    {
     "name": "stderr",
     "output_type": "stream",
     "text": [
      "\r",
      " 14%|███████████▏                                                                   | 71/500 [42:14<3:31:06, 29.53s/it]"
     ]
    },
    {
     "name": "stdout",
     "output_type": "stream",
     "text": [
      "[INFO] [2021-11-18 16:43:02,254] [OpenBox-Shadan] Iteration 72, objective value: [21.86398137  5.        ].\n"
     ]
    },
    {
     "name": "stderr",
     "output_type": "stream",
     "text": [
      "\r",
      " 14%|███████████▍                                                                   | 72/500 [42:40<3:23:39, 28.55s/it]"
     ]
    },
    {
     "name": "stdout",
     "output_type": "stream",
     "text": [
      "[INFO] [2021-11-18 16:43:30,165] [OpenBox-Shadan] Iteration 73, objective value: [22.37150648  5.        ].\n"
     ]
    },
    {
     "name": "stderr",
     "output_type": "stream",
     "text": [
      "\r",
      " 15%|███████████▌                                                                   | 73/500 [43:08<3:21:49, 28.36s/it]"
     ]
    },
    {
     "name": "stdout",
     "output_type": "stream",
     "text": [
      "[INFO] [2021-11-18 16:43:58,910] [OpenBox-Shadan] Iteration 74, objective value: [38.70269562  5.        ].\n"
     ]
    },
    {
     "name": "stderr",
     "output_type": "stream",
     "text": [
      "\r",
      " 15%|███████████▋                                                                   | 74/500 [43:37<3:22:10, 28.47s/it]"
     ]
    },
    {
     "name": "stdout",
     "output_type": "stream",
     "text": [
      "[INFO] [2021-11-18 16:44:29,480] [OpenBox-Shadan] Iteration 75, objective value: [35.84869753  5.        ].\n"
     ]
    },
    {
     "name": "stderr",
     "output_type": "stream",
     "text": [
      "\r",
      " 15%|███████████▊                                                                   | 75/500 [44:08<3:26:08, 29.10s/it]"
     ]
    },
    {
     "name": "stdout",
     "output_type": "stream",
     "text": [
      "[INFO] [2021-11-18 16:44:55,310] [OpenBox-Shadan] Iteration 76, objective value: [26.28414403  5.        ].\n"
     ]
    },
    {
     "name": "stderr",
     "output_type": "stream",
     "text": [
      "\r",
      " 15%|████████████                                                                   | 76/500 [44:34<3:18:43, 28.12s/it]"
     ]
    },
    {
     "name": "stdout",
     "output_type": "stream",
     "text": [
      "[INFO] [2021-11-18 16:45:25,353] [OpenBox-Shadan] Iteration 77, objective value: [18.23522448  5.        ].\n"
     ]
    },
    {
     "name": "stderr",
     "output_type": "stream",
     "text": [
      "\r",
      " 15%|████████████▏                                                                  | 77/500 [45:04<3:22:19, 28.70s/it]"
     ]
    },
    {
     "name": "stdout",
     "output_type": "stream",
     "text": [
      "[INFO] [2021-11-18 16:45:54,619] [OpenBox-Shadan] Iteration 78, objective value: [17.23797953  5.        ].\n"
     ]
    },
    {
     "name": "stderr",
     "output_type": "stream",
     "text": [
      "\r",
      " 16%|████████████▎                                                                  | 78/500 [45:33<3:23:02, 28.87s/it]"
     ]
    },
    {
     "name": "stdout",
     "output_type": "stream",
     "text": [
      "[INFO] [2021-11-18 16:46:36,935] [OpenBox-Shadan] Iteration 79, objective value: [26.10326553  6.        ].\n"
     ]
    },
    {
     "name": "stderr",
     "output_type": "stream",
     "text": [
      "\r",
      " 16%|████████████▍                                                                  | 79/500 [46:15<3:50:51, 32.90s/it]"
     ]
    },
    {
     "name": "stdout",
     "output_type": "stream",
     "text": [
      "[INFO] [2021-11-18 16:47:11,464] [MOHistoryContainer] Update pareto: config=Configuration:\n",
      "  x1, Value: 0\n",
      "  x10, Value: 7\n",
      "  x11, Value: 1\n",
      "  x12, Value: 2\n",
      "  x13, Value: 1\n",
      "  x14, Value: 2\n",
      "  x15, Value: 7\n",
      "  x2, Value: 6\n",
      "  x3, Value: 0\n",
      "  x4, Value: 5\n",
      "  x5, Value: 8\n",
      "  x6, Value: 8\n",
      "  x7, Value: 0\n",
      "  x8, Value: 7\n",
      "  x9, Value: 2\n",
      "  y1, Value: 8\n",
      "  y10, Value: 6\n",
      "  y11, Value: 1\n",
      "  y12, Value: 4\n",
      "  y13, Value: 7\n",
      "  y14, Value: 4\n",
      "  y15, Value: 7\n",
      "  y2, Value: 2\n",
      "  y3, Value: 1\n",
      "  y4, Value: 1\n",
      "  y5, Value: 4\n",
      "  y6, Value: 3\n",
      "  y7, Value: 7\n",
      "  y8, Value: 5\n",
      "  y9, Value: 2\n",
      ", objs=[9.39594652 5.        ].\n",
      "[INFO] [2021-11-18 16:47:11,464] [MOHistoryContainer] Remove from pareto: config=Configuration:\n",
      "  x1, Value: 0\n",
      "  x10, Value: 7\n",
      "  x11, Value: 3\n",
      "  x12, Value: 3\n",
      "  x13, Value: 1\n",
      "  x14, Value: 2\n",
      "  x15, Value: 7\n",
      "  x2, Value: 6\n",
      "  x3, Value: 0\n",
      "  x4, Value: 5\n",
      "  x5, Value: 8\n",
      "  x6, Value: 8\n",
      "  x7, Value: 0\n",
      "  x8, Value: 7\n",
      "  x9, Value: 2\n",
      "  y1, Value: 8\n",
      "  y10, Value: 4\n",
      "  y11, Value: 8\n",
      "  y12, Value: 4\n",
      "  y13, Value: 7\n",
      "  y14, Value: 4\n",
      "  y15, Value: 7\n",
      "  y2, Value: 2\n",
      "  y3, Value: 1\n",
      "  y4, Value: 1\n",
      "  y5, Value: 4\n",
      "  y6, Value: 3\n",
      "  y7, Value: 7\n",
      "  y8, Value: 5\n",
      "  y9, Value: 2\n",
      ", objs=[10.15628844  5.        ].\n",
      "[INFO] [2021-11-18 16:47:11,466] [OpenBox-Shadan] Iteration 80, objective value: [9.39594652 5.        ].\n"
     ]
    },
    {
     "name": "stderr",
     "output_type": "stream",
     "text": [
      "\r",
      " 16%|████████████▋                                                                  | 80/500 [46:50<3:53:44, 33.39s/it]"
     ]
    },
    {
     "name": "stdout",
     "output_type": "stream",
     "text": [
      "[INFO] [2021-11-18 16:47:39,544] [OpenBox-Shadan] Iteration 81, objective value: [9.42924149 6.        ].\n"
     ]
    },
    {
     "name": "stderr",
     "output_type": "stream",
     "text": [
      "\r",
      " 16%|████████████▊                                                                  | 81/500 [47:18<3:42:02, 31.80s/it]"
     ]
    },
    {
     "name": "stdout",
     "output_type": "stream",
     "text": [
      "[INFO] [2021-11-18 16:48:14,879] [OpenBox-Shadan] Iteration 82, objective value: [38.06145784  5.        ].\n"
     ]
    },
    {
     "name": "stderr",
     "output_type": "stream",
     "text": [
      "\r",
      " 16%|████████████▉                                                                  | 82/500 [47:53<3:48:54, 32.86s/it]"
     ]
    },
    {
     "name": "stdout",
     "output_type": "stream",
     "text": [
      "[INFO] [2021-11-18 16:48:42,906] [OpenBox-Shadan] Iteration 83, objective value: [24.23069611  5.        ].\n"
     ]
    },
    {
     "name": "stderr",
     "output_type": "stream",
     "text": [
      "\r",
      " 17%|█████████████                                                                  | 83/500 [48:21<3:38:17, 31.41s/it]"
     ]
    },
    {
     "name": "stdout",
     "output_type": "stream",
     "text": [
      "[INFO] [2021-11-18 16:49:15,591] [OpenBox-Shadan] Iteration 84, objective value: [31.05984502  5.        ].\n"
     ]
    },
    {
     "name": "stderr",
     "output_type": "stream",
     "text": [
      "\r",
      " 17%|█████████████▎                                                                 | 84/500 [48:54<3:40:25, 31.79s/it]"
     ]
    },
    {
     "name": "stdout",
     "output_type": "stream",
     "text": [
      "[INFO] [2021-11-18 16:49:44,916] [OpenBox-Shadan] Iteration 85, objective value: [14.3867257  5.       ].\n"
     ]
    },
    {
     "name": "stderr",
     "output_type": "stream",
     "text": [
      "\r",
      " 17%|█████████████▍                                                                 | 85/500 [49:23<3:34:46, 31.05s/it]"
     ]
    },
    {
     "name": "stdout",
     "output_type": "stream",
     "text": [
      "[INFO] [2021-11-18 16:50:17,273] [OpenBox-Shadan] Iteration 86, objective value: [12.98575356  6.        ].\n"
     ]
    },
    {
     "name": "stderr",
     "output_type": "stream",
     "text": [
      "\r",
      " 17%|█████████████▌                                                                 | 86/500 [49:56<3:36:57, 31.44s/it]"
     ]
    },
    {
     "name": "stdout",
     "output_type": "stream",
     "text": [
      "[INFO] [2021-11-18 16:50:44,610] [OpenBox-Shadan] Iteration 87, objective value: [15.46604318  5.        ].\n"
     ]
    },
    {
     "name": "stderr",
     "output_type": "stream",
     "text": [
      "\r",
      " 17%|█████████████▋                                                                 | 87/500 [50:23<3:27:57, 30.21s/it]"
     ]
    },
    {
     "name": "stdout",
     "output_type": "stream",
     "text": [
      "[INFO] [2021-11-18 16:51:15,735] [OpenBox-Shadan] Iteration 88, objective value: [20.76380874  5.        ].\n"
     ]
    },
    {
     "name": "stderr",
     "output_type": "stream",
     "text": [
      "\r",
      " 18%|█████████████▉                                                                 | 88/500 [50:54<3:29:20, 30.49s/it]"
     ]
    },
    {
     "name": "stdout",
     "output_type": "stream",
     "text": [
      "[INFO] [2021-11-18 16:51:45,470] [OpenBox-Shadan] Iteration 89, objective value: [28.9095061  5.       ].\n"
     ]
    },
    {
     "name": "stderr",
     "output_type": "stream",
     "text": [
      "\r",
      " 18%|██████████████                                                                 | 89/500 [51:24<3:27:17, 30.26s/it]"
     ]
    },
    {
     "name": "stdout",
     "output_type": "stream",
     "text": [
      "[INFO] [2021-11-18 16:52:16,173] [OpenBox-Shadan] Iteration 90, objective value: [12.52369666  6.        ].\n"
     ]
    },
    {
     "name": "stderr",
     "output_type": "stream",
     "text": [
      "\r",
      " 18%|██████████████▏                                                                | 90/500 [51:54<3:27:41, 30.39s/it]"
     ]
    },
    {
     "name": "stdout",
     "output_type": "stream",
     "text": [
      "[INFO] [2021-11-18 16:52:42,768] [OpenBox-Shadan] Iteration 91, objective value: [11.77190332  5.        ].\n"
     ]
    },
    {
     "name": "stderr",
     "output_type": "stream",
     "text": [
      "\r",
      " 18%|██████████████▍                                                                | 91/500 [52:21<3:19:24, 29.25s/it]"
     ]
    },
    {
     "name": "stdout",
     "output_type": "stream",
     "text": [
      "[INFO] [2021-11-18 16:53:11,984] [OpenBox-Shadan] Iteration 92, objective value: [10.59742142  5.        ].\n"
     ]
    },
    {
     "name": "stderr",
     "output_type": "stream",
     "text": [
      "\r",
      " 18%|██████████████▌                                                                | 92/500 [52:50<3:18:50, 29.24s/it]"
     ]
    },
    {
     "name": "stdout",
     "output_type": "stream",
     "text": [
      "[INFO] [2021-11-18 16:53:44,986] [OpenBox-Shadan] Iteration 93, objective value: [41.38346537  6.        ].\n"
     ]
    },
    {
     "name": "stderr",
     "output_type": "stream",
     "text": [
      "\r",
      " 19%|██████████████▋                                                                | 93/500 [53:23<3:26:00, 30.37s/it]"
     ]
    },
    {
     "name": "stdout",
     "output_type": "stream",
     "text": [
      "[INFO] [2021-11-18 16:54:11,934] [OpenBox-Shadan] Iteration 94, objective value: [38.90687628  5.        ].\n"
     ]
    },
    {
     "name": "stderr",
     "output_type": "stream",
     "text": [
      "\r",
      " 19%|██████████████▊                                                                | 94/500 [53:50<3:18:33, 29.34s/it]"
     ]
    },
    {
     "name": "stdout",
     "output_type": "stream",
     "text": [
      "[INFO] [2021-11-18 16:54:47,040] [OpenBox-Shadan] Iteration 95, objective value: [25.15004358  6.        ].\n"
     ]
    },
    {
     "name": "stderr",
     "output_type": "stream",
     "text": [
      "\r",
      " 19%|███████████████                                                                | 95/500 [54:25<3:29:44, 31.07s/it]"
     ]
    },
    {
     "name": "stdout",
     "output_type": "stream",
     "text": [
      "[INFO] [2021-11-18 16:55:16,112] [MOHistoryContainer] Update pareto: config=Configuration:\n",
      "  x1, Value: 0\n",
      "  x10, Value: 7\n",
      "  x11, Value: 4\n",
      "  x12, Value: 4\n",
      "  x13, Value: 1\n",
      "  x14, Value: 2\n",
      "  x15, Value: 4\n",
      "  x2, Value: 6\n",
      "  x3, Value: 0\n",
      "  x4, Value: 5\n",
      "  x5, Value: 8\n",
      "  x6, Value: 8\n",
      "  x7, Value: 0\n",
      "  x8, Value: 7\n",
      "  x9, Value: 3\n",
      "  y1, Value: 7\n",
      "  y10, Value: 5\n",
      "  y11, Value: 5\n",
      "  y12, Value: 8\n",
      "  y13, Value: 1\n",
      "  y14, Value: 4\n",
      "  y15, Value: 7\n",
      "  y2, Value: 2\n",
      "  y3, Value: 1\n",
      "  y4, Value: 1\n",
      "  y5, Value: 3\n",
      "  y6, Value: 2\n",
      "  y7, Value: 7\n",
      "  y8, Value: 5\n",
      "  y9, Value: 2\n",
      ", objs=[8.66609902 5.        ].\n",
      "[INFO] [2021-11-18 16:55:16,113] [MOHistoryContainer] Remove from pareto: config=Configuration:\n",
      "  x1, Value: 0\n",
      "  x10, Value: 7\n",
      "  x11, Value: 1\n",
      "  x12, Value: 2\n",
      "  x13, Value: 1\n",
      "  x14, Value: 2\n",
      "  x15, Value: 7\n",
      "  x2, Value: 6\n",
      "  x3, Value: 0\n",
      "  x4, Value: 5\n",
      "  x5, Value: 8\n",
      "  x6, Value: 8\n",
      "  x7, Value: 0\n",
      "  x8, Value: 7\n",
      "  x9, Value: 2\n",
      "  y1, Value: 8\n",
      "  y10, Value: 6\n",
      "  y11, Value: 1\n",
      "  y12, Value: 4\n",
      "  y13, Value: 7\n",
      "  y14, Value: 4\n",
      "  y15, Value: 7\n",
      "  y2, Value: 2\n",
      "  y3, Value: 1\n",
      "  y4, Value: 1\n",
      "  y5, Value: 4\n",
      "  y6, Value: 3\n",
      "  y7, Value: 7\n",
      "  y8, Value: 5\n",
      "  y9, Value: 2\n",
      ", objs=[9.39594652 5.        ].\n",
      "[INFO] [2021-11-18 16:55:16,114] [OpenBox-Shadan] Iteration 96, objective value: [8.66609902 5.        ].\n"
     ]
    },
    {
     "name": "stderr",
     "output_type": "stream",
     "text": [
      "\r",
      " 19%|███████████████▏                                                               | 96/500 [54:54<3:25:11, 30.47s/it]"
     ]
    },
    {
     "name": "stdout",
     "output_type": "stream",
     "text": [
      "[INFO] [2021-11-18 16:55:51,563] [OpenBox-Shadan] Iteration 97, objective value: [39.28359386  5.        ].\n"
     ]
    },
    {
     "name": "stderr",
     "output_type": "stream",
     "text": [
      "\r",
      " 19%|███████████████▎                                                               | 97/500 [55:30<3:34:42, 31.97s/it]"
     ]
    },
    {
     "name": "stdout",
     "output_type": "stream",
     "text": [
      "[INFO] [2021-11-18 16:56:22,017] [OpenBox-Shadan] Iteration 98, objective value: [45.07501611  5.        ].\n"
     ]
    },
    {
     "name": "stderr",
     "output_type": "stream",
     "text": [
      "\r",
      " 20%|███████████████▍                                                               | 98/500 [56:00<3:31:07, 31.51s/it]"
     ]
    },
    {
     "name": "stdout",
     "output_type": "stream",
     "text": [
      "[INFO] [2021-11-18 16:56:51,029] [OpenBox-Shadan] Iteration 99, objective value: [9.57723017 5.        ].\n"
     ]
    },
    {
     "name": "stderr",
     "output_type": "stream",
     "text": [
      "\r",
      " 20%|███████████████▋                                                               | 99/500 [56:29<3:25:35, 30.76s/it]"
     ]
    },
    {
     "name": "stdout",
     "output_type": "stream",
     "text": [
      "[INFO] [2021-11-18 16:57:21,171] [OpenBox-Shadan] Iteration 100, objective value: [13.32082114  6.        ].\n"
     ]
    },
    {
     "name": "stderr",
     "output_type": "stream",
     "text": [
      "\r",
      " 20%|███████████████▌                                                              | 100/500 [56:59<3:23:50, 30.58s/it]"
     ]
    },
    {
     "name": "stdout",
     "output_type": "stream",
     "text": [
      "[INFO] [2021-11-18 16:57:54,391] [OpenBox-Shadan] Iteration 101, objective value: [25.32452508  5.        ].\n"
     ]
    },
    {
     "name": "stderr",
     "output_type": "stream",
     "text": [
      "\r",
      " 20%|███████████████▊                                                              | 101/500 [57:33<3:28:36, 31.37s/it]"
     ]
    },
    {
     "name": "stdout",
     "output_type": "stream",
     "text": [
      "[INFO] [2021-11-18 16:58:26,700] [OpenBox-Shadan] Iteration 102, objective value: [20.93192936  5.        ].\n"
     ]
    },
    {
     "name": "stderr",
     "output_type": "stream",
     "text": [
      "\r",
      " 20%|███████████████▉                                                              | 102/500 [58:05<3:29:57, 31.65s/it]"
     ]
    },
    {
     "name": "stdout",
     "output_type": "stream",
     "text": [
      "[INFO] [2021-11-18 16:58:59,079] [OpenBox-Shadan] Iteration 103, objective value: [9.39828096 6.        ].\n"
     ]
    },
    {
     "name": "stderr",
     "output_type": "stream",
     "text": [
      "\r",
      " 21%|████████████████                                                              | 103/500 [58:37<3:30:52, 31.87s/it]"
     ]
    },
    {
     "name": "stdout",
     "output_type": "stream",
     "text": [
      "[INFO] [2021-11-18 16:59:31,796] [OpenBox-Shadan] Iteration 104, objective value: [20.93293236  5.        ].\n"
     ]
    },
    {
     "name": "stderr",
     "output_type": "stream",
     "text": [
      "\r",
      " 21%|████████████████▏                                                             | 104/500 [59:10<3:32:01, 32.12s/it]"
     ]
    },
    {
     "name": "stdout",
     "output_type": "stream",
     "text": [
      "[INFO] [2021-11-18 17:00:06,165] [OpenBox-Shadan] Iteration 105, objective value: [11.83071994  5.        ].\n"
     ]
    },
    {
     "name": "stderr",
     "output_type": "stream",
     "text": [
      "\r",
      " 21%|████████████████▍                                                             | 105/500 [59:44<3:35:54, 32.80s/it]"
     ]
    },
    {
     "name": "stdout",
     "output_type": "stream",
     "text": [
      "[INFO] [2021-11-18 17:00:34,481] [OpenBox-Shadan] Iteration 106, objective value: [12.81370345  5.        ].\n"
     ]
    },
    {
     "name": "stderr",
     "output_type": "stream",
     "text": [
      "\r",
      " 21%|████████████████                                                            | 106/500 [1:00:13<3:26:32, 31.45s/it]"
     ]
    },
    {
     "name": "stdout",
     "output_type": "stream",
     "text": [
      "[INFO] [2021-11-18 17:01:14,170] [OpenBox-Shadan] Iteration 107, objective value: [28.58553755  6.        ].\n"
     ]
    },
    {
     "name": "stderr",
     "output_type": "stream",
     "text": [
      "\r",
      " 21%|████████████████▎                                                           | 107/500 [1:00:52<3:42:12, 33.92s/it]"
     ]
    },
    {
     "name": "stdout",
     "output_type": "stream",
     "text": [
      "[INFO] [2021-11-18 17:01:44,154] [OpenBox-Shadan] Iteration 108, objective value: [17.95824501  5.        ].\n"
     ]
    },
    {
     "name": "stderr",
     "output_type": "stream",
     "text": [
      "\r",
      " 22%|████████████████▍                                                           | 108/500 [1:01:22<3:33:54, 32.74s/it]"
     ]
    },
    {
     "name": "stdout",
     "output_type": "stream",
     "text": [
      "[INFO] [2021-11-18 17:02:16,147] [OpenBox-Shadan] Iteration 109, objective value: [30.03249903  5.        ].\n"
     ]
    },
    {
     "name": "stderr",
     "output_type": "stream",
     "text": [
      "\r",
      " 22%|████████████████▌                                                           | 109/500 [1:01:54<3:31:54, 32.52s/it]"
     ]
    },
    {
     "name": "stdout",
     "output_type": "stream",
     "text": [
      "[INFO] [2021-11-18 17:02:42,244] [OpenBox-Shadan] Iteration 110, objective value: [15.31971574  5.        ].\n"
     ]
    },
    {
     "name": "stderr",
     "output_type": "stream",
     "text": [
      "\r",
      " 22%|████████████████▋                                                           | 110/500 [1:02:20<3:18:50, 30.59s/it]"
     ]
    },
    {
     "name": "stdout",
     "output_type": "stream",
     "text": [
      "[INFO] [2021-11-18 17:03:12,943] [OpenBox-Shadan] Iteration 111, objective value: [20.73103836  5.        ].\n"
     ]
    },
    {
     "name": "stderr",
     "output_type": "stream",
     "text": [
      "\r",
      " 22%|████████████████▊                                                           | 111/500 [1:02:51<3:18:32, 30.62s/it]"
     ]
    },
    {
     "name": "stdout",
     "output_type": "stream",
     "text": [
      "[INFO] [2021-11-18 17:03:45,749] [OpenBox-Shadan] Iteration 112, objective value: [27.87757157  6.        ].\n"
     ]
    },
    {
     "name": "stderr",
     "output_type": "stream",
     "text": [
      "\r",
      " 22%|█████████████████                                                           | 112/500 [1:03:24<3:22:16, 31.28s/it]"
     ]
    },
    {
     "name": "stdout",
     "output_type": "stream",
     "text": [
      "[INFO] [2021-11-18 17:04:15,341] [OpenBox-Shadan] Iteration 113, objective value: [19.71193157  5.        ].\n"
     ]
    },
    {
     "name": "stderr",
     "output_type": "stream",
     "text": [
      "\r",
      " 23%|█████████████████▏                                                          | 113/500 [1:03:54<3:18:28, 30.77s/it]"
     ]
    },
    {
     "name": "stdout",
     "output_type": "stream",
     "text": [
      "[INFO] [2021-11-18 17:04:45,907] [OpenBox-Shadan] Iteration 114, objective value: [19.97368961  5.        ].\n"
     ]
    },
    {
     "name": "stderr",
     "output_type": "stream",
     "text": [
      "\r",
      " 23%|█████████████████▎                                                          | 114/500 [1:04:24<3:17:34, 30.71s/it]"
     ]
    },
    {
     "name": "stdout",
     "output_type": "stream",
     "text": [
      "[INFO] [2021-11-18 17:05:19,029] [OpenBox-Shadan] Iteration 115, objective value: [26.67325495  5.        ].\n"
     ]
    },
    {
     "name": "stderr",
     "output_type": "stream",
     "text": [
      "\r",
      " 23%|█████████████████▍                                                          | 115/500 [1:04:57<3:21:42, 31.43s/it]"
     ]
    },
    {
     "name": "stdout",
     "output_type": "stream",
     "text": [
      "[INFO] [2021-11-18 17:05:47,755] [OpenBox-Shadan] Iteration 116, objective value: [23.08154927  5.        ].\n"
     ]
    },
    {
     "name": "stderr",
     "output_type": "stream",
     "text": [
      "\r",
      " 23%|█████████████████▋                                                          | 116/500 [1:05:26<3:15:58, 30.62s/it]"
     ]
    },
    {
     "name": "stdout",
     "output_type": "stream",
     "text": [
      "[INFO] [2021-11-18 17:06:16,809] [OpenBox-Shadan] Iteration 117, objective value: [17.30393208  5.        ].\n"
     ]
    },
    {
     "name": "stderr",
     "output_type": "stream",
     "text": [
      "\r",
      " 23%|█████████████████▊                                                          | 117/500 [1:05:55<3:12:27, 30.15s/it]"
     ]
    },
    {
     "name": "stdout",
     "output_type": "stream",
     "text": [
      "[INFO] [2021-11-18 17:06:43,863] [MOHistoryContainer] Update pareto: config=Configuration:\n",
      "  x1, Value: 0\n",
      "  x10, Value: 7\n",
      "  x11, Value: 3\n",
      "  x12, Value: 3\n",
      "  x13, Value: 1\n",
      "  x14, Value: 2\n",
      "  x15, Value: 7\n",
      "  x2, Value: 6\n",
      "  x3, Value: 0\n",
      "  x4, Value: 5\n",
      "  x5, Value: 7\n",
      "  x6, Value: 0\n",
      "  x7, Value: 0\n",
      "  x8, Value: 7\n",
      "  x9, Value: 4\n",
      "  y1, Value: 8\n",
      "  y10, Value: 4\n",
      "  y11, Value: 3\n",
      "  y12, Value: 4\n",
      "  y13, Value: 7\n",
      "  y14, Value: 4\n",
      "  y15, Value: 7\n",
      "  y2, Value: 4\n",
      "  y3, Value: 1\n",
      "  y4, Value: 4\n",
      "  y5, Value: 1\n",
      "  y6, Value: 3\n",
      "  y7, Value: 7\n",
      "  y8, Value: 5\n",
      "  y9, Value: 5\n",
      ", objs=[38.09930185  4.        ].\n",
      "[INFO] [2021-11-18 17:06:43,864] [OpenBox-Shadan] Iteration 118, objective value: [38.09930185  4.        ].\n"
     ]
    },
    {
     "name": "stderr",
     "output_type": "stream",
     "text": [
      "\r",
      " 24%|█████████████████▉                                                          | 118/500 [1:06:22<3:06:02, 29.22s/it]"
     ]
    },
    {
     "name": "stdout",
     "output_type": "stream",
     "text": [
      "[INFO] [2021-11-18 17:07:19,740] [OpenBox-Shadan] Iteration 119, objective value: [29.92376054  6.        ].\n"
     ]
    },
    {
     "name": "stderr",
     "output_type": "stream",
     "text": [
      "\r",
      " 24%|██████████████████                                                          | 119/500 [1:06:58<3:18:14, 31.22s/it]"
     ]
    },
    {
     "name": "stdout",
     "output_type": "stream",
     "text": [
      "[INFO] [2021-11-18 17:07:51,249] [OpenBox-Shadan] Iteration 120, objective value: [34.74034747  5.        ].\n"
     ]
    },
    {
     "name": "stderr",
     "output_type": "stream",
     "text": [
      "\r",
      " 24%|██████████████████▏                                                         | 120/500 [1:07:29<3:18:16, 31.31s/it]"
     ]
    },
    {
     "name": "stdout",
     "output_type": "stream",
     "text": [
      "[INFO] [2021-11-18 17:08:23,324] [OpenBox-Shadan] Iteration 121, objective value: [19.7259888  6.       ].\n"
     ]
    },
    {
     "name": "stderr",
     "output_type": "stream",
     "text": [
      "\r",
      " 24%|██████████████████▍                                                         | 121/500 [1:08:02<3:19:12, 31.54s/it]"
     ]
    },
    {
     "name": "stdout",
     "output_type": "stream",
     "text": [
      "[INFO] [2021-11-18 17:09:00,286] [OpenBox-Shadan] Iteration 122, objective value: [21.47861034  5.        ].\n"
     ]
    },
    {
     "name": "stderr",
     "output_type": "stream",
     "text": [
      "\r",
      " 24%|██████████████████▌                                                         | 122/500 [1:08:39<3:28:56, 33.16s/it]"
     ]
    },
    {
     "name": "stdout",
     "output_type": "stream",
     "text": [
      "[INFO] [2021-11-18 17:09:31,042] [OpenBox-Shadan] Iteration 123, objective value: [18.56046482  6.        ].\n"
     ]
    },
    {
     "name": "stderr",
     "output_type": "stream",
     "text": [
      "\r",
      " 25%|██████████████████▋                                                         | 123/500 [1:09:09<3:23:50, 32.44s/it]"
     ]
    },
    {
     "name": "stdout",
     "output_type": "stream",
     "text": [
      "[INFO] [2021-11-18 17:10:03,308] [OpenBox-Shadan] Iteration 124, objective value: [12.92710294  5.        ].\n"
     ]
    },
    {
     "name": "stderr",
     "output_type": "stream",
     "text": [
      "\r",
      " 25%|██████████████████▊                                                         | 124/500 [1:09:42<3:22:58, 32.39s/it]"
     ]
    },
    {
     "name": "stdout",
     "output_type": "stream",
     "text": [
      "[INFO] [2021-11-18 17:10:35,155] [OpenBox-Shadan] Iteration 125, objective value: [11.58096246  5.        ].\n"
     ]
    },
    {
     "name": "stderr",
     "output_type": "stream",
     "text": [
      "\r",
      " 25%|███████████████████                                                         | 125/500 [1:10:13<3:21:24, 32.23s/it]"
     ]
    },
    {
     "name": "stdout",
     "output_type": "stream",
     "text": [
      "[INFO] [2021-11-18 17:11:07,948] [OpenBox-Shadan] Iteration 126, objective value: [17.12159631  6.        ].\n"
     ]
    },
    {
     "name": "stderr",
     "output_type": "stream",
     "text": [
      "\r",
      " 25%|███████████████████▏                                                        | 126/500 [1:10:46<3:21:56, 32.40s/it]"
     ]
    },
    {
     "name": "stdout",
     "output_type": "stream",
     "text": [
      "[INFO] [2021-11-18 17:11:35,959] [OpenBox-Shadan] Iteration 127, objective value: [10.69854121  5.        ].\n"
     ]
    },
    {
     "name": "stderr",
     "output_type": "stream",
     "text": [
      "\r",
      " 25%|███████████████████▎                                                        | 127/500 [1:11:14<3:13:13, 31.08s/it]"
     ]
    },
    {
     "name": "stdout",
     "output_type": "stream",
     "text": [
      "[INFO] [2021-11-18 17:12:04,451] [OpenBox-Shadan] Iteration 128, objective value: [35.5100403  5.       ].\n"
     ]
    },
    {
     "name": "stderr",
     "output_type": "stream",
     "text": [
      "\r",
      " 26%|███████████████████▍                                                        | 128/500 [1:11:43<3:07:53, 30.30s/it]"
     ]
    },
    {
     "name": "stdout",
     "output_type": "stream",
     "text": [
      "[INFO] [2021-11-18 17:12:30,479] [OpenBox-Shadan] Iteration 129, objective value: [24.80036879  5.        ].\n"
     ]
    },
    {
     "name": "stderr",
     "output_type": "stream",
     "text": [
      "\r",
      " 26%|███████████████████▌                                                        | 129/500 [1:12:09<2:59:26, 29.02s/it]"
     ]
    },
    {
     "name": "stdout",
     "output_type": "stream",
     "text": [
      "[INFO] [2021-11-18 17:12:57,344] [OpenBox-Shadan] Iteration 130, objective value: [11.80401397  5.        ].\n"
     ]
    },
    {
     "name": "stderr",
     "output_type": "stream",
     "text": [
      "\r",
      " 26%|███████████████████▊                                                        | 130/500 [1:12:36<2:54:58, 28.37s/it]"
     ]
    },
    {
     "name": "stdout",
     "output_type": "stream",
     "text": [
      "[INFO] [2021-11-18 17:13:28,052] [MOHistoryContainer] Update pareto: config=Configuration:\n",
      "  x1, Value: 0\n",
      "  x10, Value: 7\n",
      "  x11, Value: 3\n",
      "  x12, Value: 3\n",
      "  x13, Value: 1\n",
      "  x14, Value: 0\n",
      "  x15, Value: 7\n",
      "  x2, Value: 6\n",
      "  x3, Value: 0\n",
      "  x4, Value: 5\n",
      "  x5, Value: 8\n",
      "  x6, Value: 8\n",
      "  x7, Value: 0\n",
      "  x8, Value: 7\n",
      "  x9, Value: 3\n",
      "  y1, Value: 8\n",
      "  y10, Value: 5\n",
      "  y11, Value: 5\n",
      "  y12, Value: 4\n",
      "  y13, Value: 7\n",
      "  y14, Value: 4\n",
      "  y15, Value: 8\n",
      "  y2, Value: 2\n",
      "  y3, Value: 1\n",
      "  y4, Value: 1\n",
      "  y5, Value: 3\n",
      "  y6, Value: 3\n",
      "  y7, Value: 8\n",
      "  y8, Value: 2\n",
      "  y9, Value: 5\n",
      ", objs=[4.05878102 5.        ].\n",
      "[INFO] [2021-11-18 17:13:28,053] [MOHistoryContainer] Remove from pareto: config=Configuration:\n",
      "  x1, Value: 0\n",
      "  x10, Value: 7\n",
      "  x11, Value: 4\n",
      "  x12, Value: 4\n",
      "  x13, Value: 1\n",
      "  x14, Value: 2\n",
      "  x15, Value: 4\n",
      "  x2, Value: 6\n",
      "  x3, Value: 0\n",
      "  x4, Value: 5\n",
      "  x5, Value: 8\n",
      "  x6, Value: 8\n",
      "  x7, Value: 0\n",
      "  x8, Value: 7\n",
      "  x9, Value: 3\n",
      "  y1, Value: 7\n",
      "  y10, Value: 5\n",
      "  y11, Value: 5\n",
      "  y12, Value: 8\n",
      "  y13, Value: 1\n",
      "  y14, Value: 4\n",
      "  y15, Value: 7\n",
      "  y2, Value: 2\n",
      "  y3, Value: 1\n",
      "  y4, Value: 1\n",
      "  y5, Value: 3\n",
      "  y6, Value: 2\n",
      "  y7, Value: 7\n",
      "  y8, Value: 5\n",
      "  y9, Value: 2\n",
      ", objs=[8.66609902 5.        ].\n",
      "[INFO] [2021-11-18 17:13:28,054] [OpenBox-Shadan] Iteration 131, objective value: [4.05878102 5.        ].\n"
     ]
    },
    {
     "name": "stderr",
     "output_type": "stream",
     "text": [
      "\r",
      " 26%|███████████████████▉                                                        | 131/500 [1:13:06<2:58:48, 29.08s/it]"
     ]
    },
    {
     "name": "stdout",
     "output_type": "stream",
     "text": [
      "[INFO] [2021-11-18 17:13:56,303] [OpenBox-Shadan] Iteration 132, objective value: [32.30526312  6.        ].\n"
     ]
    },
    {
     "name": "stderr",
     "output_type": "stream",
     "text": [
      "\r",
      " 26%|████████████████████                                                        | 132/500 [1:13:35<2:56:48, 28.83s/it]"
     ]
    },
    {
     "name": "stdout",
     "output_type": "stream",
     "text": [
      "[INFO] [2021-11-18 17:14:34,841] [OpenBox-Shadan] Iteration 133, objective value: [22.49599727  6.        ].\n"
     ]
    },
    {
     "name": "stderr",
     "output_type": "stream",
     "text": [
      "\r",
      " 27%|████████████████████▏                                                       | 133/500 [1:14:13<3:14:08, 31.74s/it]"
     ]
    },
    {
     "name": "stdout",
     "output_type": "stream",
     "text": [
      "[INFO] [2021-11-18 17:15:07,775] [OpenBox-Shadan] Iteration 134, objective value: [38.74600225  5.        ].\n"
     ]
    },
    {
     "name": "stderr",
     "output_type": "stream",
     "text": [
      "\r",
      " 27%|████████████████████▎                                                       | 134/500 [1:14:46<3:15:48, 32.10s/it]"
     ]
    },
    {
     "name": "stdout",
     "output_type": "stream",
     "text": [
      "[INFO] [2021-11-18 17:15:38,264] [OpenBox-Shadan] Iteration 135, objective value: [9.79358219 6.        ].\n"
     ]
    },
    {
     "name": "stderr",
     "output_type": "stream",
     "text": [
      "\r",
      " 27%|████████████████████▌                                                       | 135/500 [1:15:17<3:12:19, 31.62s/it]"
     ]
    },
    {
     "name": "stdout",
     "output_type": "stream",
     "text": [
      "[INFO] [2021-11-18 17:16:08,236] [OpenBox-Shadan] Iteration 136, objective value: [19.9486333  6.       ].\n"
     ]
    },
    {
     "name": "stderr",
     "output_type": "stream",
     "text": [
      "\r",
      " 27%|████████████████████▋                                                       | 136/500 [1:15:46<3:08:48, 31.12s/it]"
     ]
    },
    {
     "name": "stdout",
     "output_type": "stream",
     "text": [
      "[INFO] [2021-11-18 17:16:36,903] [OpenBox-Shadan] Iteration 137, objective value: [14.45672518  5.        ].\n"
     ]
    },
    {
     "name": "stderr",
     "output_type": "stream",
     "text": [
      "\r",
      " 27%|████████████████████▊                                                       | 137/500 [1:16:15<3:03:50, 30.39s/it]"
     ]
    },
    {
     "name": "stdout",
     "output_type": "stream",
     "text": [
      "[INFO] [2021-11-18 17:17:09,156] [OpenBox-Shadan] Iteration 138, objective value: [7.50811029 7.        ].\n"
     ]
    },
    {
     "name": "stderr",
     "output_type": "stream",
     "text": [
      "\r",
      " 28%|████████████████████▉                                                       | 138/500 [1:16:47<3:06:42, 30.95s/it]"
     ]
    },
    {
     "name": "stdout",
     "output_type": "stream",
     "text": [
      "[INFO] [2021-11-18 17:17:43,890] [OpenBox-Shadan] Iteration 139, objective value: [39.64232271  7.        ].\n"
     ]
    },
    {
     "name": "stderr",
     "output_type": "stream",
     "text": [
      "\r",
      " 28%|█████████████████████▏                                                      | 139/500 [1:17:22<3:13:01, 32.08s/it]"
     ]
    },
    {
     "name": "stdout",
     "output_type": "stream",
     "text": [
      "[INFO] [2021-11-18 17:18:10,519] [OpenBox-Shadan] Iteration 140, objective value: [11.40721988  5.        ].\n"
     ]
    },
    {
     "name": "stderr",
     "output_type": "stream",
     "text": [
      "\r",
      " 28%|█████████████████████▎                                                      | 140/500 [1:17:49<3:02:40, 30.45s/it]"
     ]
    },
    {
     "name": "stdout",
     "output_type": "stream",
     "text": [
      "[INFO] [2021-11-18 17:18:37,292] [OpenBox-Shadan] Iteration 141, objective value: [6.20736772 5.        ].\n"
     ]
    },
    {
     "name": "stderr",
     "output_type": "stream",
     "text": [
      "\r",
      " 28%|█████████████████████▍                                                      | 141/500 [1:18:16<2:55:34, 29.34s/it]"
     ]
    },
    {
     "name": "stdout",
     "output_type": "stream",
     "text": [
      "[INFO] [2021-11-18 17:19:09,796] [OpenBox-Shadan] Iteration 142, objective value: [18.69504855  6.        ].\n"
     ]
    },
    {
     "name": "stderr",
     "output_type": "stream",
     "text": [
      "\r",
      " 28%|█████████████████████▌                                                      | 142/500 [1:18:48<3:00:44, 30.29s/it]"
     ]
    },
    {
     "name": "stdout",
     "output_type": "stream",
     "text": [
      "[INFO] [2021-11-18 17:19:36,710] [OpenBox-Shadan] Iteration 143, objective value: [24.92025159  5.        ].\n"
     ]
    },
    {
     "name": "stderr",
     "output_type": "stream",
     "text": [
      "\r",
      " 29%|█████████████████████▋                                                      | 143/500 [1:19:15<2:54:12, 29.28s/it]"
     ]
    },
    {
     "name": "stdout",
     "output_type": "stream",
     "text": [
      "[INFO] [2021-11-18 17:20:05,084] [OpenBox-Shadan] Iteration 144, objective value: [20.11447305  5.        ].\n"
     ]
    },
    {
     "name": "stderr",
     "output_type": "stream",
     "text": [
      "\r",
      " 29%|█████████████████████▉                                                      | 144/500 [1:19:43<2:52:06, 29.01s/it]"
     ]
    },
    {
     "name": "stdout",
     "output_type": "stream",
     "text": [
      "[INFO] [2021-11-18 17:20:42,282] [OpenBox-Shadan] Iteration 145, objective value: [31.20036302  7.        ].\n"
     ]
    },
    {
     "name": "stderr",
     "output_type": "stream",
     "text": [
      "\r",
      " 29%|██████████████████████                                                      | 145/500 [1:20:21<3:06:09, 31.46s/it]"
     ]
    },
    {
     "name": "stdout",
     "output_type": "stream",
     "text": [
      "[INFO] [2021-11-18 17:21:10,420] [OpenBox-Shadan] Iteration 146, objective value: [15.26607297  5.        ].\n"
     ]
    },
    {
     "name": "stderr",
     "output_type": "stream",
     "text": [
      "\r",
      " 29%|██████████████████████▏                                                     | 146/500 [1:20:49<2:59:45, 30.47s/it]"
     ]
    },
    {
     "name": "stdout",
     "output_type": "stream",
     "text": [
      "[INFO] [2021-11-18 17:21:50,079] [OpenBox-Shadan] Iteration 147, objective value: [18.50294062  5.        ].\n"
     ]
    },
    {
     "name": "stderr",
     "output_type": "stream",
     "text": [
      "\r",
      " 29%|██████████████████████▎                                                     | 147/500 [1:21:28<3:15:28, 33.22s/it]"
     ]
    },
    {
     "name": "stdout",
     "output_type": "stream",
     "text": [
      "[INFO] [2021-11-18 17:22:19,983] [OpenBox-Shadan] Iteration 148, objective value: [21.36249473  5.        ].\n"
     ]
    },
    {
     "name": "stderr",
     "output_type": "stream",
     "text": [
      "\r",
      " 30%|██████████████████████▍                                                     | 148/500 [1:21:58<3:09:04, 32.23s/it]"
     ]
    },
    {
     "name": "stdout",
     "output_type": "stream",
     "text": [
      "[INFO] [2021-11-18 17:22:46,688] [OpenBox-Shadan] Iteration 149, objective value: [12.87867874  5.        ].\n"
     ]
    },
    {
     "name": "stderr",
     "output_type": "stream",
     "text": [
      "\r",
      " 30%|██████████████████████▋                                                     | 149/500 [1:22:25<2:58:50, 30.57s/it]"
     ]
    },
    {
     "name": "stdout",
     "output_type": "stream",
     "text": [
      "[INFO] [2021-11-18 17:23:15,039] [OpenBox-Shadan] Iteration 150, objective value: [10.18006706  5.        ].\n"
     ]
    },
    {
     "name": "stderr",
     "output_type": "stream",
     "text": [
      "\r",
      " 30%|██████████████████████▊                                                     | 150/500 [1:22:53<2:54:26, 29.91s/it]"
     ]
    },
    {
     "name": "stdout",
     "output_type": "stream",
     "text": [
      "[INFO] [2021-11-18 17:23:49,586] [OpenBox-Shadan] Iteration 151, objective value: [27.28118347  5.        ].\n"
     ]
    },
    {
     "name": "stderr",
     "output_type": "stream",
     "text": [
      "\r",
      " 30%|██████████████████████▉                                                     | 151/500 [1:23:28<3:02:02, 31.30s/it]"
     ]
    },
    {
     "name": "stdout",
     "output_type": "stream",
     "text": [
      "[INFO] [2021-11-18 17:24:20,712] [OpenBox-Shadan] Iteration 152, objective value: [41.08847726  5.        ].\n"
     ]
    },
    {
     "name": "stderr",
     "output_type": "stream",
     "text": [
      "\r",
      " 30%|███████████████████████                                                     | 152/500 [1:23:59<3:01:13, 31.25s/it]"
     ]
    },
    {
     "name": "stdout",
     "output_type": "stream",
     "text": [
      "[INFO] [2021-11-18 17:24:57,380] [OpenBox-Shadan] Iteration 153, objective value: [37.15429151  6.        ].\n"
     ]
    },
    {
     "name": "stderr",
     "output_type": "stream",
     "text": [
      "\r",
      " 31%|███████████████████████▎                                                    | 153/500 [1:24:36<3:10:06, 32.87s/it]"
     ]
    },
    {
     "name": "stdout",
     "output_type": "stream",
     "text": [
      "[INFO] [2021-11-18 17:25:22,634] [OpenBox-Shadan] Iteration 154, objective value: [15.36151253  5.        ].\n"
     ]
    },
    {
     "name": "stderr",
     "output_type": "stream",
     "text": [
      "\r",
      " 31%|███████████████████████▍                                                    | 154/500 [1:25:01<2:56:23, 30.59s/it]"
     ]
    },
    {
     "name": "stdout",
     "output_type": "stream",
     "text": [
      "[INFO] [2021-11-18 17:26:03,782] [OpenBox-Shadan] Iteration 155, objective value: [38.78203856  6.        ].\n"
     ]
    },
    {
     "name": "stderr",
     "output_type": "stream",
     "text": [
      "\r",
      " 31%|███████████████████████▌                                                    | 155/500 [1:25:42<3:14:05, 33.76s/it]"
     ]
    },
    {
     "name": "stdout",
     "output_type": "stream",
     "text": [
      "[INFO] [2021-11-18 17:26:32,869] [OpenBox-Shadan] Iteration 156, objective value: [13.5284205  5.       ].\n"
     ]
    },
    {
     "name": "stderr",
     "output_type": "stream",
     "text": [
      "\r",
      " 31%|███████████████████████▋                                                    | 156/500 [1:26:11<3:05:30, 32.36s/it]"
     ]
    },
    {
     "name": "stdout",
     "output_type": "stream",
     "text": [
      "[INFO] [2021-11-18 17:26:59,782] [OpenBox-Shadan] Iteration 157, objective value: [24.18372613  5.        ].\n"
     ]
    },
    {
     "name": "stderr",
     "output_type": "stream",
     "text": [
      "\r",
      " 31%|███████████████████████▊                                                    | 157/500 [1:26:38<2:55:37, 30.72s/it]"
     ]
    },
    {
     "name": "stdout",
     "output_type": "stream",
     "text": [
      "[INFO] [2021-11-18 17:27:24,447] [MOHistoryContainer] Update pareto: config=Configuration:\n",
      "  x1, Value: 0\n",
      "  x10, Value: 7\n",
      "  x11, Value: 3\n",
      "  x12, Value: 3\n",
      "  x13, Value: 0\n",
      "  x14, Value: 1\n",
      "  x15, Value: 7\n",
      "  x2, Value: 7\n",
      "  x3, Value: 0\n",
      "  x4, Value: 0\n",
      "  x5, Value: 6\n",
      "  x6, Value: 8\n",
      "  x7, Value: 0\n",
      "  x8, Value: 7\n",
      "  x9, Value: 4\n",
      "  y1, Value: 6\n",
      "  y10, Value: 4\n",
      "  y11, Value: 1\n",
      "  y12, Value: 4\n",
      "  y13, Value: 7\n",
      "  y14, Value: 3\n",
      "  y15, Value: 7\n",
      "  y2, Value: 4\n",
      "  y3, Value: 5\n",
      "  y4, Value: 1\n",
      "  y5, Value: 1\n",
      "  y6, Value: 3\n",
      "  y7, Value: 6\n",
      "  y8, Value: 8\n",
      "  y9, Value: 5\n",
      ", objs=[16.26407892  4.        ].\n",
      "[INFO] [2021-11-18 17:27:24,447] [MOHistoryContainer] Remove from pareto: config=Configuration:\n",
      "  x1, Value: 0\n",
      "  x10, Value: 7\n",
      "  x11, Value: 3\n",
      "  x12, Value: 3\n",
      "  x13, Value: 1\n",
      "  x14, Value: 2\n",
      "  x15, Value: 7\n",
      "  x2, Value: 6\n",
      "  x3, Value: 0\n",
      "  x4, Value: 5\n",
      "  x5, Value: 7\n",
      "  x6, Value: 0\n",
      "  x7, Value: 0\n",
      "  x8, Value: 7\n",
      "  x9, Value: 4\n",
      "  y1, Value: 8\n",
      "  y10, Value: 4\n",
      "  y11, Value: 3\n",
      "  y12, Value: 4\n",
      "  y13, Value: 7\n",
      "  y14, Value: 4\n",
      "  y15, Value: 7\n",
      "  y2, Value: 4\n",
      "  y3, Value: 1\n",
      "  y4, Value: 4\n",
      "  y5, Value: 1\n",
      "  y6, Value: 3\n",
      "  y7, Value: 7\n",
      "  y8, Value: 5\n",
      "  y9, Value: 5\n",
      ", objs=[38.09930185  4.        ].\n",
      "[INFO] [2021-11-18 17:27:24,449] [OpenBox-Shadan] Iteration 158, objective value: [16.26407892  4.        ].\n"
     ]
    },
    {
     "name": "stderr",
     "output_type": "stream",
     "text": [
      "\r",
      " 32%|████████████████████████                                                    | 158/500 [1:27:03<2:44:45, 28.91s/it]"
     ]
    },
    {
     "name": "stdout",
     "output_type": "stream",
     "text": [
      "[INFO] [2021-11-18 17:27:54,035] [OpenBox-Shadan] Iteration 159, objective value: [9.43855191 5.        ].\n"
     ]
    },
    {
     "name": "stderr",
     "output_type": "stream",
     "text": [
      "\r",
      " 32%|████████████████████████▏                                                   | 159/500 [1:27:32<2:45:26, 29.11s/it]"
     ]
    },
    {
     "name": "stdout",
     "output_type": "stream",
     "text": [
      "[INFO] [2021-11-18 17:28:21,452] [OpenBox-Shadan] Iteration 160, objective value: [16.36059405  5.        ].\n"
     ]
    },
    {
     "name": "stderr",
     "output_type": "stream",
     "text": [
      "\r",
      " 32%|████████████████████████▎                                                   | 160/500 [1:28:00<2:42:04, 28.60s/it]"
     ]
    },
    {
     "name": "stdout",
     "output_type": "stream",
     "text": [
      "[INFO] [2021-11-18 17:28:52,601] [OpenBox-Shadan] Iteration 161, objective value: [23.28348907  5.        ].\n"
     ]
    },
    {
     "name": "stderr",
     "output_type": "stream",
     "text": [
      "\r",
      " 32%|████████████████████████▍                                                   | 161/500 [1:28:31<2:45:55, 29.37s/it]"
     ]
    },
    {
     "name": "stdout",
     "output_type": "stream",
     "text": [
      "[INFO] [2021-11-18 17:29:23,230] [OpenBox-Shadan] Iteration 162, objective value: [11.22650719  6.        ].\n"
     ]
    },
    {
     "name": "stderr",
     "output_type": "stream",
     "text": [
      "\r",
      " 32%|████████████████████████▌                                                   | 162/500 [1:29:01<2:47:33, 29.75s/it]"
     ]
    },
    {
     "name": "stdout",
     "output_type": "stream",
     "text": [
      "[INFO] [2021-11-18 17:29:51,930] [OpenBox-Shadan] Iteration 163, objective value: [24.32708936  5.        ].\n"
     ]
    },
    {
     "name": "stderr",
     "output_type": "stream",
     "text": [
      "\r",
      " 33%|████████████████████████▊                                                   | 163/500 [1:29:30<2:45:18, 29.43s/it]"
     ]
    },
    {
     "name": "stdout",
     "output_type": "stream",
     "text": [
      "[INFO] [2021-11-18 17:30:21,158] [OpenBox-Shadan] Iteration 164, objective value: [38.80486273  5.        ].\n"
     ]
    },
    {
     "name": "stderr",
     "output_type": "stream",
     "text": [
      "\r",
      " 33%|████████████████████████▉                                                   | 164/500 [1:29:59<2:44:28, 29.37s/it]"
     ]
    },
    {
     "name": "stdout",
     "output_type": "stream",
     "text": [
      "[INFO] [2021-11-18 17:30:57,031] [OpenBox-Shadan] Iteration 165, objective value: [30.98653832  7.        ].\n"
     ]
    },
    {
     "name": "stderr",
     "output_type": "stream",
     "text": [
      "\r",
      " 33%|█████████████████████████                                                   | 165/500 [1:30:35<2:54:52, 31.32s/it]"
     ]
    },
    {
     "name": "stdout",
     "output_type": "stream",
     "text": [
      "[INFO] [2021-11-18 17:31:25,741] [OpenBox-Shadan] Iteration 166, objective value: [13.36550022  6.        ].\n"
     ]
    },
    {
     "name": "stderr",
     "output_type": "stream",
     "text": [
      "\r",
      " 33%|█████████████████████████▏                                                  | 166/500 [1:31:04<2:49:59, 30.54s/it]"
     ]
    },
    {
     "name": "stdout",
     "output_type": "stream",
     "text": [
      "[INFO] [2021-11-18 17:31:50,659] [OpenBox-Shadan] Iteration 167, objective value: [6.05219273 5.        ].\n"
     ]
    },
    {
     "name": "stderr",
     "output_type": "stream",
     "text": [
      "\r",
      " 33%|█████████████████████████▍                                                  | 167/500 [1:31:29<2:40:07, 28.85s/it]"
     ]
    },
    {
     "name": "stdout",
     "output_type": "stream",
     "text": [
      "[INFO] [2021-11-18 17:32:16,796] [OpenBox-Shadan] Iteration 168, objective value: [20.29583456  4.        ].\n"
     ]
    },
    {
     "name": "stderr",
     "output_type": "stream",
     "text": [
      "\r",
      " 34%|█████████████████████████▌                                                  | 168/500 [1:31:55<2:35:08, 28.04s/it]"
     ]
    },
    {
     "name": "stdout",
     "output_type": "stream",
     "text": [
      "[INFO] [2021-11-18 17:32:45,400] [OpenBox-Shadan] Iteration 169, objective value: [29.6366228  5.       ].\n"
     ]
    },
    {
     "name": "stderr",
     "output_type": "stream",
     "text": [
      "\r",
      " 34%|█████████████████████████▋                                                  | 169/500 [1:32:24<2:35:36, 28.21s/it]"
     ]
    },
    {
     "name": "stdout",
     "output_type": "stream",
     "text": [
      "[INFO] [2021-11-18 17:33:11,114] [OpenBox-Shadan] Iteration 170, objective value: [7.15416798 5.        ].\n"
     ]
    },
    {
     "name": "stderr",
     "output_type": "stream",
     "text": [
      "\r",
      " 34%|█████████████████████████▊                                                  | 170/500 [1:32:49<2:31:01, 27.46s/it]"
     ]
    },
    {
     "name": "stdout",
     "output_type": "stream",
     "text": [
      "[INFO] [2021-11-18 17:33:40,016] [OpenBox-Shadan] Iteration 171, objective value: [7.1705101 5.       ].\n"
     ]
    },
    {
     "name": "stderr",
     "output_type": "stream",
     "text": [
      "\r",
      " 34%|█████████████████████████▉                                                  | 171/500 [1:33:18<2:32:56, 27.89s/it]"
     ]
    },
    {
     "name": "stdout",
     "output_type": "stream",
     "text": [
      "[INFO] [2021-11-18 17:34:08,906] [OpenBox-Shadan] Iteration 172, objective value: [9.06774956 5.        ].\n"
     ]
    },
    {
     "name": "stderr",
     "output_type": "stream",
     "text": [
      "\r",
      " 34%|██████████████████████████▏                                                 | 172/500 [1:33:47<2:34:06, 28.19s/it]"
     ]
    },
    {
     "name": "stdout",
     "output_type": "stream",
     "text": [
      "[INFO] [2021-11-18 17:34:44,376] [OpenBox-Shadan] Iteration 173, objective value: [23.22707596  5.        ].\n"
     ]
    },
    {
     "name": "stderr",
     "output_type": "stream",
     "text": [
      "\r",
      " 35%|██████████████████████████▎                                                 | 173/500 [1:34:23<2:45:32, 30.37s/it]"
     ]
    },
    {
     "name": "stdout",
     "output_type": "stream",
     "text": [
      "[INFO] [2021-11-18 17:35:12,836] [OpenBox-Shadan] Iteration 174, objective value: [7.07223946 5.        ].\n"
     ]
    },
    {
     "name": "stderr",
     "output_type": "stream",
     "text": [
      "\r",
      " 35%|██████████████████████████▍                                                 | 174/500 [1:34:51<2:41:55, 29.80s/it]"
     ]
    },
    {
     "name": "stdout",
     "output_type": "stream",
     "text": [
      "[INFO] [2021-11-18 17:35:39,418] [OpenBox-Shadan] Iteration 175, objective value: [9.91951099 5.        ].\n"
     ]
    },
    {
     "name": "stderr",
     "output_type": "stream",
     "text": [
      "\r",
      " 35%|██████████████████████████▌                                                 | 175/500 [1:35:18<2:36:11, 28.84s/it]"
     ]
    },
    {
     "name": "stdout",
     "output_type": "stream",
     "text": [
      "[INFO] [2021-11-18 17:36:08,837] [OpenBox-Shadan] Iteration 176, objective value: [15.08021543  5.        ].\n"
     ]
    },
    {
     "name": "stderr",
     "output_type": "stream",
     "text": [
      "\r",
      " 35%|██████████████████████████▊                                                 | 176/500 [1:35:47<2:36:39, 29.01s/it]"
     ]
    },
    {
     "name": "stdout",
     "output_type": "stream",
     "text": [
      "[INFO] [2021-11-18 17:36:42,068] [OpenBox-Shadan] Iteration 177, objective value: [13.36032723  6.        ].\n"
     ]
    },
    {
     "name": "stderr",
     "output_type": "stream",
     "text": [
      "\r",
      " 35%|██████████████████████████▉                                                 | 177/500 [1:36:20<2:42:59, 30.28s/it]"
     ]
    },
    {
     "name": "stdout",
     "output_type": "stream",
     "text": [
      "[INFO] [2021-11-18 17:37:14,826] [OpenBox-Shadan] Iteration 178, objective value: [17.29163105  5.        ].\n"
     ]
    },
    {
     "name": "stderr",
     "output_type": "stream",
     "text": [
      "\r",
      " 36%|███████████████████████████                                                 | 178/500 [1:36:53<2:46:28, 31.02s/it]"
     ]
    },
    {
     "name": "stdout",
     "output_type": "stream",
     "text": [
      "[INFO] [2021-11-18 17:37:42,417] [OpenBox-Shadan] Iteration 179, objective value: [11.32166511  5.        ].\n"
     ]
    },
    {
     "name": "stderr",
     "output_type": "stream",
     "text": [
      "\r",
      " 36%|███████████████████████████▏                                                | 179/500 [1:37:21<2:40:27, 29.99s/it]"
     ]
    },
    {
     "name": "stdout",
     "output_type": "stream",
     "text": [
      "[INFO] [2021-11-18 17:38:11,408] [OpenBox-Shadan] Iteration 180, objective value: [17.63276336  5.        ].\n"
     ]
    },
    {
     "name": "stderr",
     "output_type": "stream",
     "text": [
      "\r",
      " 36%|███████████████████████████▎                                                | 180/500 [1:37:50<2:38:21, 29.69s/it]"
     ]
    },
    {
     "name": "stdout",
     "output_type": "stream",
     "text": [
      "[INFO] [2021-11-18 17:38:44,653] [MOHistoryContainer] Update pareto: config=Configuration:\n",
      "  x1, Value: 0\n",
      "  x10, Value: 2\n",
      "  x11, Value: 4\n",
      "  x12, Value: 4\n",
      "  x13, Value: 1\n",
      "  x14, Value: 0\n",
      "  x15, Value: 7\n",
      "  x2, Value: 6\n",
      "  x3, Value: 2\n",
      "  x4, Value: 5\n",
      "  x5, Value: 7\n",
      "  x6, Value: 8\n",
      "  x7, Value: 0\n",
      "  x8, Value: 7\n",
      "  x9, Value: 3\n",
      "  y1, Value: 3\n",
      "  y10, Value: 4\n",
      "  y11, Value: 3\n",
      "  y12, Value: 6\n",
      "  y13, Value: 7\n",
      "  y14, Value: 4\n",
      "  y15, Value: 7\n",
      "  y2, Value: 2\n",
      "  y3, Value: 1\n",
      "  y4, Value: 1\n",
      "  y5, Value: 2\n",
      "  y6, Value: 3\n",
      "  y7, Value: 7\n",
      "  y8, Value: 7\n",
      "  y9, Value: 5\n",
      ", objs=[3.87980535 6.        ].\n",
      "[INFO] [2021-11-18 17:38:44,654] [OpenBox-Shadan] Iteration 181, objective value: [3.87980535 6.        ].\n"
     ]
    },
    {
     "name": "stderr",
     "output_type": "stream",
     "text": [
      "\r",
      " 36%|███████████████████████████▌                                                | 181/500 [1:38:23<2:43:31, 30.76s/it]"
     ]
    },
    {
     "name": "stdout",
     "output_type": "stream",
     "text": [
      "[INFO] [2021-11-18 17:39:12,668] [OpenBox-Shadan] Iteration 182, objective value: [14.81249865  5.        ].\n"
     ]
    },
    {
     "name": "stderr",
     "output_type": "stream",
     "text": [
      "\r",
      " 36%|███████████████████████████▋                                                | 182/500 [1:38:51<2:38:39, 29.93s/it]"
     ]
    },
    {
     "name": "stdout",
     "output_type": "stream",
     "text": [
      "[INFO] [2021-11-18 17:39:46,132] [OpenBox-Shadan] Iteration 183, objective value: [20.59207212  6.        ].\n"
     ]
    },
    {
     "name": "stderr",
     "output_type": "stream",
     "text": [
      "\r",
      " 37%|███████████████████████████▊                                                | 183/500 [1:39:24<2:43:44, 30.99s/it]"
     ]
    },
    {
     "name": "stdout",
     "output_type": "stream",
     "text": [
      "[INFO] [2021-11-18 17:40:23,537] [OpenBox-Shadan] Iteration 184, objective value: [32.75479392  6.        ].\n"
     ]
    },
    {
     "name": "stderr",
     "output_type": "stream",
     "text": [
      "\r",
      " 37%|███████████████████████████▉                                                | 184/500 [1:40:02<2:53:21, 32.92s/it]"
     ]
    },
    {
     "name": "stdout",
     "output_type": "stream",
     "text": [
      "[INFO] [2021-11-18 17:40:55,575] [OpenBox-Shadan] Iteration 185, objective value: [16.95728748  5.        ].\n"
     ]
    },
    {
     "name": "stderr",
     "output_type": "stream",
     "text": [
      "\r",
      " 37%|████████████████████████████                                                | 185/500 [1:40:34<2:51:25, 32.65s/it]"
     ]
    },
    {
     "name": "stdout",
     "output_type": "stream",
     "text": [
      "[INFO] [2021-11-18 17:41:25,418] [OpenBox-Shadan] Iteration 186, objective value: [40.94480387  4.        ].\n"
     ]
    },
    {
     "name": "stderr",
     "output_type": "stream",
     "text": [
      "\r",
      " 37%|████████████████████████████▎                                               | 186/500 [1:41:04<2:46:28, 31.81s/it]"
     ]
    },
    {
     "name": "stdout",
     "output_type": "stream",
     "text": [
      "[INFO] [2021-11-18 17:41:54,072] [OpenBox-Shadan] Iteration 187, objective value: [27.76093016  5.        ].\n"
     ]
    },
    {
     "name": "stderr",
     "output_type": "stream",
     "text": [
      " 37%|████████████████████████████▍                                               | 187/500 [1:41:43<2:50:15, 32.64s/it]\n"
     ]
    },
    {
     "ename": "KeyboardInterrupt",
     "evalue": "",
     "output_type": "error",
     "traceback": [
      "\u001b[1;31m---------------------------------------------------------------------------\u001b[0m",
      "\u001b[1;31mKeyboardInterrupt\u001b[0m                         Traceback (most recent call last)",
      "\u001b[1;32m<ipython-input-4-4a82a0483b9e>\u001b[0m in \u001b[0;36m<module>\u001b[1;34m\u001b[0m\n\u001b[0;32m    109\u001b[0m             \u001b[0mref_point\u001b[0m\u001b[1;33m=\u001b[0m\u001b[1;33m[\u001b[0m\u001b[1;36m100\u001b[0m\u001b[1;33m,\u001b[0m \u001b[1;36m15\u001b[0m\u001b[1;33m]\u001b[0m\u001b[1;33m\u001b[0m\u001b[1;33m\u001b[0m\u001b[0m\n\u001b[0;32m    110\u001b[0m         )\n\u001b[1;32m--> 111\u001b[1;33m         \u001b[0mhistory\u001b[0m \u001b[1;33m=\u001b[0m \u001b[0mopt\u001b[0m\u001b[1;33m.\u001b[0m\u001b[0mrun\u001b[0m\u001b[1;33m(\u001b[0m\u001b[1;33m)\u001b[0m\u001b[1;33m\u001b[0m\u001b[1;33m\u001b[0m\u001b[0m\n\u001b[0m\u001b[0;32m    112\u001b[0m         \u001b[0mhistory_list\u001b[0m\u001b[1;33m.\u001b[0m\u001b[0mappend\u001b[0m\u001b[1;33m(\u001b[0m\u001b[0mhistory\u001b[0m\u001b[1;33m)\u001b[0m\u001b[1;33m\u001b[0m\u001b[1;33m\u001b[0m\u001b[0m\n",
      "\u001b[1;32m~\\anaconda3\\lib\\site-packages\\openbox\\optimizer\\generic_smbo.py\u001b[0m in \u001b[0;36mrun\u001b[1;34m(self)\u001b[0m\n\u001b[0;32m    198\u001b[0m                 \u001b[1;32mbreak\u001b[0m\u001b[1;33m\u001b[0m\u001b[1;33m\u001b[0m\u001b[0m\n\u001b[0;32m    199\u001b[0m             \u001b[0mstart_time\u001b[0m \u001b[1;33m=\u001b[0m \u001b[0mtime\u001b[0m\u001b[1;33m.\u001b[0m\u001b[0mtime\u001b[0m\u001b[1;33m(\u001b[0m\u001b[1;33m)\u001b[0m\u001b[1;33m\u001b[0m\u001b[1;33m\u001b[0m\u001b[0m\n\u001b[1;32m--> 200\u001b[1;33m             \u001b[0mself\u001b[0m\u001b[1;33m.\u001b[0m\u001b[0miterate\u001b[0m\u001b[1;33m(\u001b[0m\u001b[0mbudget_left\u001b[0m\u001b[1;33m=\u001b[0m\u001b[0mself\u001b[0m\u001b[1;33m.\u001b[0m\u001b[0mbudget_left\u001b[0m\u001b[1;33m)\u001b[0m\u001b[1;33m\u001b[0m\u001b[1;33m\u001b[0m\u001b[0m\n\u001b[0m\u001b[0;32m    201\u001b[0m             \u001b[0mruntime\u001b[0m \u001b[1;33m=\u001b[0m \u001b[0mtime\u001b[0m\u001b[1;33m.\u001b[0m\u001b[0mtime\u001b[0m\u001b[1;33m(\u001b[0m\u001b[1;33m)\u001b[0m \u001b[1;33m-\u001b[0m \u001b[0mstart_time\u001b[0m\u001b[1;33m\u001b[0m\u001b[1;33m\u001b[0m\u001b[0m\n\u001b[0;32m    202\u001b[0m             \u001b[0mself\u001b[0m\u001b[1;33m.\u001b[0m\u001b[0mbudget_left\u001b[0m \u001b[1;33m-=\u001b[0m \u001b[0mruntime\u001b[0m\u001b[1;33m\u001b[0m\u001b[1;33m\u001b[0m\u001b[0m\n",
      "\u001b[1;32m~\\anaconda3\\lib\\site-packages\\openbox\\optimizer\\generic_smbo.py\u001b[0m in \u001b[0;36miterate\u001b[1;34m(self, budget_left)\u001b[0m\n\u001b[0;32m    214\u001b[0m             \u001b[1;32mtry\u001b[0m\u001b[1;33m:\u001b[0m\u001b[1;33m\u001b[0m\u001b[1;33m\u001b[0m\u001b[0m\n\u001b[0;32m    215\u001b[0m                 \u001b[0margs\u001b[0m\u001b[1;33m,\u001b[0m \u001b[0mkwargs\u001b[0m \u001b[1;33m=\u001b[0m \u001b[1;33m(\u001b[0m\u001b[0mconfig\u001b[0m\u001b[1;33m,\u001b[0m\u001b[1;33m)\u001b[0m\u001b[1;33m,\u001b[0m \u001b[0mdict\u001b[0m\u001b[1;33m(\u001b[0m\u001b[1;33m)\u001b[0m\u001b[1;33m\u001b[0m\u001b[1;33m\u001b[0m\u001b[0m\n\u001b[1;32m--> 216\u001b[1;33m                 timeout_status, _result = time_limit(self.objective_function,\n\u001b[0m\u001b[0;32m    217\u001b[0m                                                      \u001b[0m_time_limit_per_trial\u001b[0m\u001b[1;33m,\u001b[0m\u001b[1;33m\u001b[0m\u001b[1;33m\u001b[0m\u001b[0m\n\u001b[0;32m    218\u001b[0m                                                      args=args, kwargs=kwargs)\n",
      "\u001b[1;32m~\\anaconda3\\lib\\site-packages\\openbox\\utils\\limit.py\u001b[0m in \u001b[0;36mtime_limit\u001b[1;34m(func, time, *args, **kwargs)\u001b[0m\n\u001b[0;32m     79\u001b[0m \u001b[1;33m\u001b[0m\u001b[0m\n\u001b[0;32m     80\u001b[0m     \u001b[1;32mif\u001b[0m \u001b[0m_platform\u001b[0m \u001b[1;33m==\u001b[0m \u001b[1;34m'Windows'\u001b[0m\u001b[1;33m:\u001b[0m\u001b[1;33m\u001b[0m\u001b[1;33m\u001b[0m\u001b[0m\n\u001b[1;32m---> 81\u001b[1;33m         \u001b[1;32mreturn\u001b[0m \u001b[0mno_time_limit_func\u001b[0m\u001b[1;33m(\u001b[0m\u001b[0mfunc\u001b[0m\u001b[1;33m,\u001b[0m \u001b[0mtime\u001b[0m\u001b[1;33m,\u001b[0m \u001b[1;33m*\u001b[0m\u001b[0margs\u001b[0m\u001b[1;33m,\u001b[0m \u001b[1;33m**\u001b[0m\u001b[0mkwargs\u001b[0m\u001b[1;33m)\u001b[0m\u001b[1;33m\u001b[0m\u001b[1;33m\u001b[0m\u001b[0m\n\u001b[0m\u001b[0;32m     82\u001b[0m \u001b[1;33m\u001b[0m\u001b[0m\n\u001b[0;32m     83\u001b[0m     \u001b[1;32mif\u001b[0m \u001b[0m_platform\u001b[0m \u001b[1;33m==\u001b[0m \u001b[1;34m'OSX'\u001b[0m \u001b[1;32mand\u001b[0m \u001b[0msys\u001b[0m\u001b[1;33m.\u001b[0m\u001b[0mversion_info\u001b[0m \u001b[1;33m>=\u001b[0m \u001b[1;33m(\u001b[0m\u001b[1;36m3\u001b[0m\u001b[1;33m,\u001b[0m \u001b[1;36m8\u001b[0m\u001b[1;33m)\u001b[0m\u001b[1;33m:\u001b[0m\u001b[1;33m\u001b[0m\u001b[1;33m\u001b[0m\u001b[0m\n",
      "\u001b[1;32m~\\anaconda3\\lib\\site-packages\\openbox\\utils\\limit.py\u001b[0m in \u001b[0;36mno_time_limit_func\u001b[1;34m(objective_function, time, *args, **kwargs)\u001b[0m\n\u001b[0;32m     68\u001b[0m \u001b[1;33m\u001b[0m\u001b[0m\n\u001b[0;32m     69\u001b[0m \u001b[1;32mdef\u001b[0m \u001b[0mno_time_limit_func\u001b[0m\u001b[1;33m(\u001b[0m\u001b[0mobjective_function\u001b[0m\u001b[1;33m,\u001b[0m \u001b[0mtime\u001b[0m\u001b[1;33m,\u001b[0m \u001b[1;33m*\u001b[0m\u001b[0margs\u001b[0m\u001b[1;33m,\u001b[0m \u001b[1;33m**\u001b[0m\u001b[0mkwargs\u001b[0m\u001b[1;33m)\u001b[0m\u001b[1;33m:\u001b[0m\u001b[1;33m\u001b[0m\u001b[1;33m\u001b[0m\u001b[0m\n\u001b[1;32m---> 70\u001b[1;33m     \u001b[0mret\u001b[0m \u001b[1;33m=\u001b[0m \u001b[0mobjective_function\u001b[0m\u001b[1;33m(\u001b[0m\u001b[1;33m*\u001b[0m\u001b[0margs\u001b[0m\u001b[1;33m,\u001b[0m \u001b[1;33m**\u001b[0m\u001b[0mkwargs\u001b[0m\u001b[1;33m)\u001b[0m\u001b[1;33m\u001b[0m\u001b[1;33m\u001b[0m\u001b[0m\n\u001b[0m\u001b[0;32m     71\u001b[0m     \u001b[1;32mreturn\u001b[0m \u001b[0mReturns\u001b[0m\u001b[1;33m(\u001b[0m\u001b[0mtimeout_status\u001b[0m\u001b[1;33m=\u001b[0m\u001b[1;32mFalse\u001b[0m\u001b[1;33m,\u001b[0m \u001b[0mresults\u001b[0m\u001b[1;33m=\u001b[0m\u001b[0mret\u001b[0m\u001b[1;33m)\u001b[0m\u001b[1;33m\u001b[0m\u001b[1;33m\u001b[0m\u001b[0m\n\u001b[0;32m     72\u001b[0m \u001b[1;33m\u001b[0m\u001b[0m\n",
      "\u001b[1;32m<ipython-input-2-f1ca3c38e77b>\u001b[0m in \u001b[0;36mfunction_to_be_optimized\u001b[1;34m(config)\u001b[0m\n\u001b[0;32m    294\u001b[0m     \u001b[0mresult\u001b[0m \u001b[1;33m=\u001b[0m \u001b[0mdict\u001b[0m\u001b[1;33m(\u001b[0m\u001b[1;33m)\u001b[0m\u001b[1;33m\u001b[0m\u001b[1;33m\u001b[0m\u001b[0m\n\u001b[0;32m    295\u001b[0m \u001b[1;33m\u001b[0m\u001b[0m\n\u001b[1;32m--> 296\u001b[1;33m     \u001b[0mresult\u001b[0m\u001b[1;33m[\u001b[0m\u001b[1;34m'objs'\u001b[0m\u001b[1;33m]\u001b[0m \u001b[1;33m=\u001b[0m \u001b[0mnp\u001b[0m\u001b[1;33m.\u001b[0m\u001b[0mstack\u001b[0m\u001b[1;33m(\u001b[0m\u001b[1;33m[\u001b[0m\u001b[0mblack_box_function\u001b[0m\u001b[1;33m(\u001b[0m\u001b[0mdata\u001b[0m\u001b[1;33m)\u001b[0m\u001b[1;33m,\u001b[0m \u001b[0mlen\u001b[0m\u001b[1;33m(\u001b[0m\u001b[0msensorPositions\u001b[0m\u001b[1;33m)\u001b[0m\u001b[1;33m]\u001b[0m\u001b[1;33m,\u001b[0m \u001b[0maxis\u001b[0m\u001b[1;33m=\u001b[0m\u001b[1;33m-\u001b[0m\u001b[1;36m1\u001b[0m\u001b[1;33m)\u001b[0m\u001b[1;33m\u001b[0m\u001b[1;33m\u001b[0m\u001b[0m\n\u001b[0m\u001b[0;32m    297\u001b[0m \u001b[1;33m\u001b[0m\u001b[0m\n\u001b[0;32m    298\u001b[0m     \u001b[1;32mreturn\u001b[0m \u001b[0mresult\u001b[0m\u001b[1;33m\u001b[0m\u001b[1;33m\u001b[0m\u001b[0m\n",
      "\u001b[1;32m<ipython-input-2-f1ca3c38e77b>\u001b[0m in \u001b[0;36mblack_box_function\u001b[1;34m(sample, simulateMotionSensors, simulateEstimotes, Plotting)\u001b[0m\n\u001b[0;32m    251\u001b[0m \u001b[1;33m\u001b[0m\u001b[0m\n\u001b[0;32m    252\u001b[0m     \u001b[1;32mfor\u001b[0m \u001b[0magentTrace\u001b[0m \u001b[1;32min\u001b[0m \u001b[0mBOV\u001b[0m\u001b[1;33m.\u001b[0m\u001b[0magentTraces\u001b[0m\u001b[1;33m:\u001b[0m\u001b[1;33m\u001b[0m\u001b[1;33m\u001b[0m\u001b[0m\n\u001b[1;32m--> 253\u001b[1;33m         \u001b[0mdf_\u001b[0m \u001b[1;33m=\u001b[0m \u001b[0msim_sis\u001b[0m\u001b[1;33m.\u001b[0m\u001b[0mRunSimulator\u001b[0m\u001b[1;33m(\u001b[0m\u001b[0mBOV\u001b[0m\u001b[1;33m.\u001b[0m\u001b[0mspace\u001b[0m\u001b[1;33m,\u001b[0m \u001b[0mBOV\u001b[0m\u001b[1;33m.\u001b[0m\u001b[0mrooms\u001b[0m\u001b[1;33m,\u001b[0m \u001b[0magentTrace\u001b[0m\u001b[1;33m,\u001b[0m \u001b[0msample\u001b[0m\u001b[1;33m.\u001b[0m\u001b[0mGetSensorConfiguration\u001b[0m\u001b[1;33m(\u001b[0m\u001b[1;33m)\u001b[0m\u001b[1;33m,\u001b[0m \u001b[0msimulateMotionSensors\u001b[0m\u001b[1;33m,\u001b[0m \u001b[0msimulateEstimotes\u001b[0m\u001b[1;33m,\u001b[0m \u001b[0mPlotting\u001b[0m\u001b[1;33m,\u001b[0m \u001b[0mBOV\u001b[0m\u001b[1;33m.\u001b[0m\u001b[0mData_path\u001b[0m\u001b[1;33m)\u001b[0m\u001b[1;33m\u001b[0m\u001b[1;33m\u001b[0m\u001b[0m\n\u001b[0m\u001b[0;32m    254\u001b[0m         \u001b[0mdataFile\u001b[0m\u001b[1;33m,\u001b[0m \u001b[0msensors\u001b[0m \u001b[1;33m=\u001b[0m \u001b[0mPreProcessor\u001b[0m\u001b[1;33m(\u001b[0m\u001b[0mdf_\u001b[0m\u001b[1;33m)\u001b[0m\u001b[1;33m\u001b[0m\u001b[1;33m\u001b[0m\u001b[0m\n\u001b[0;32m    255\u001b[0m         \u001b[0mall_sensors\u001b[0m\u001b[1;33m.\u001b[0m\u001b[0mupdate\u001b[0m\u001b[1;33m(\u001b[0m\u001b[0msensors\u001b[0m\u001b[1;33m)\u001b[0m\u001b[1;33m\u001b[0m\u001b[1;33m\u001b[0m\u001b[0m\n",
      "\u001b[1;32m~\\Desktop\\Codes\\SensorDeploymentOptimization\\SIM_SIS_Libraries\\SIM_SIS_Simulator.py\u001b[0m in \u001b[0;36mRunSimulator\u001b[1;34m(space, Rooms, agentTrace, sensorsConfiguration, simulateMotionSensorsflag, simulateEstimotesflag, plottingflag, Data_path)\u001b[0m\n\u001b[0;32m    355\u001b[0m \u001b[1;33m\u001b[0m\u001b[0m\n\u001b[0;32m    356\u001b[0m         \u001b[1;31m# print('RunSimulation')\u001b[0m\u001b[1;33m\u001b[0m\u001b[1;33m\u001b[0m\u001b[1;33m\u001b[0m\u001b[0m\n\u001b[1;32m--> 357\u001b[1;33m         \u001b[0mRunSimulation\u001b[0m\u001b[1;33m(\u001b[0m\u001b[0mFDN\u001b[0m\u001b[1;33m,\u001b[0m \u001b[0msimulateMotionSensors\u001b[0m\u001b[1;33m,\u001b[0m \u001b[0msimulateEstimotes\u001b[0m\u001b[1;33m)\u001b[0m\u001b[1;33m\u001b[0m\u001b[1;33m\u001b[0m\u001b[0m\n\u001b[0m\u001b[0;32m    358\u001b[0m         \u001b[1;31m# print('RunSimulation done')\u001b[0m\u001b[1;33m\u001b[0m\u001b[1;33m\u001b[0m\u001b[1;33m\u001b[0m\u001b[0m\n\u001b[0;32m    359\u001b[0m \u001b[1;33m\u001b[0m\u001b[0m\n",
      "\u001b[1;32m~\\Desktop\\Codes\\SensorDeploymentOptimization\\SIM_SIS_Libraries\\SIM_SIS_Simulator.py\u001b[0m in \u001b[0;36mRunSimulation\u001b[1;34m(FDN, simulateMotionSensors, simulateEstimotes)\u001b[0m\n\u001b[0;32m    290\u001b[0m         \u001b[0mtimetoadd\u001b[0m \u001b[1;33m=\u001b[0m \u001b[0mdf_\u001b[0m\u001b[1;33m.\u001b[0m\u001b[0mtime\u001b[0m\u001b[1;33m[\u001b[0m\u001b[0mi\u001b[0m\u001b[1;33m]\u001b[0m\u001b[1;33m\u001b[0m\u001b[1;33m\u001b[0m\u001b[0m\n\u001b[0;32m    291\u001b[0m \u001b[1;33m\u001b[0m\u001b[0m\n\u001b[1;32m--> 292\u001b[1;33m         \u001b[0mSimulateSensorReadings\u001b[0m\u001b[1;33m(\u001b[0m\u001b[0msimulateMotionSensors\u001b[0m\u001b[1;33m,\u001b[0m \u001b[0msimulateEstimotes\u001b[0m\u001b[1;33m,\u001b[0m \u001b[0mtimetoadd\u001b[0m\u001b[1;33m,\u001b[0m \u001b[0mi\u001b[0m\u001b[1;33m,\u001b[0m \u001b[0magent1Loc_rnd\u001b[0m\u001b[1;33m,\u001b[0m \u001b[1;32mNone\u001b[0m\u001b[1;33m)\u001b[0m\u001b[1;33m\u001b[0m\u001b[1;33m\u001b[0m\u001b[0m\n\u001b[0m\u001b[0;32m    293\u001b[0m \u001b[1;33m\u001b[0m\u001b[0m\n\u001b[0;32m    294\u001b[0m \u001b[1;32mdef\u001b[0m \u001b[0mCreateUltimateDataset\u001b[0m\u001b[1;33m(\u001b[0m\u001b[0mUDN\u001b[0m\u001b[1;33m,\u001b[0m \u001b[0mepoch\u001b[0m\u001b[1;33m)\u001b[0m\u001b[1;33m:\u001b[0m\u001b[1;33m\u001b[0m\u001b[1;33m\u001b[0m\u001b[0m\n",
      "\u001b[1;32m~\\Desktop\\Codes\\SensorDeploymentOptimization\\SIM_SIS_Libraries\\SIM_SIS_Simulator.py\u001b[0m in \u001b[0;36mSimulateSensorReadings\u001b[1;34m(simulateMotionSensors, simulateEstimotes, t, i, agent1Loc, agent2Loc)\u001b[0m\n\u001b[0;32m    211\u001b[0m         \u001b[0mcirc\u001b[0m \u001b[1;33m=\u001b[0m \u001b[0mCircle\u001b[0m\u001b[1;33m(\u001b[0m\u001b[1;33m(\u001b[0m\u001b[0mfloat\u001b[0m\u001b[1;33m(\u001b[0m\u001b[0mfloat\u001b[0m\u001b[1;33m(\u001b[0m\u001b[0msensor\u001b[0m\u001b[1;33m.\u001b[0m\u001b[0mx\u001b[0m\u001b[1;33m)\u001b[0m \u001b[1;33m/\u001b[0m \u001b[1;36m100\u001b[0m\u001b[1;33m)\u001b[0m\u001b[1;33m,\u001b[0m \u001b[0mfloat\u001b[0m\u001b[1;33m(\u001b[0m\u001b[0mfloat\u001b[0m\u001b[1;33m(\u001b[0m\u001b[0msensor\u001b[0m\u001b[1;33m.\u001b[0m\u001b[0my\u001b[0m\u001b[1;33m)\u001b[0m \u001b[1;33m/\u001b[0m \u001b[1;36m100\u001b[0m\u001b[1;33m)\u001b[0m\u001b[1;33m)\u001b[0m\u001b[1;33m,\u001b[0m \u001b[0mfloat\u001b[0m\u001b[1;33m(\u001b[0m\u001b[0mfloat\u001b[0m\u001b[1;33m(\u001b[0m\u001b[0msensor\u001b[0m\u001b[1;33m.\u001b[0m\u001b[0msensing_area\u001b[0m\u001b[1;33m)\u001b[0m \u001b[1;33m/\u001b[0m \u001b[1;36m100\u001b[0m\u001b[1;33m)\u001b[0m\u001b[1;33m)\u001b[0m\u001b[1;33m\u001b[0m\u001b[1;33m\u001b[0m\u001b[0m\n\u001b[0;32m    212\u001b[0m \u001b[1;33m\u001b[0m\u001b[0m\n\u001b[1;32m--> 213\u001b[1;33m         \u001b[1;32mif\u001b[0m \u001b[1;33m(\u001b[0m\u001b[0mcirc\u001b[0m\u001b[1;33m.\u001b[0m\u001b[0mcontains_point\u001b[0m\u001b[1;33m(\u001b[0m\u001b[1;33m[\u001b[0m\u001b[0magent1Loc\u001b[0m\u001b[1;33m[\u001b[0m\u001b[1;36m0\u001b[0m\u001b[1;33m]\u001b[0m\u001b[1;33m,\u001b[0m \u001b[0magent1Loc\u001b[0m\u001b[1;33m[\u001b[0m\u001b[1;36m1\u001b[0m\u001b[1;33m]\u001b[0m\u001b[1;33m]\u001b[0m\u001b[1;33m)\u001b[0m \u001b[1;32mand\u001b[0m \u001b[1;33m(\u001b[0m\u001b[0mRecContains\u001b[0m\u001b[1;33m(\u001b[0m\u001b[0magent1Loc\u001b[0m\u001b[1;33m[\u001b[0m\u001b[1;36m0\u001b[0m\u001b[1;33m]\u001b[0m\u001b[1;33m,\u001b[0m \u001b[0magent1Loc\u001b[0m\u001b[1;33m[\u001b[0m\u001b[1;36m1\u001b[0m\u001b[1;33m]\u001b[0m\u001b[1;33m,\u001b[0m \u001b[0msensor\u001b[0m\u001b[1;33m.\u001b[0m\u001b[0mroom\u001b[0m\u001b[1;33m)\u001b[0m \u001b[1;32mor\u001b[0m \u001b[0msensor\u001b[0m\u001b[1;33m.\u001b[0m\u001b[0msensor_type\u001b[0m \u001b[1;33m==\u001b[0m \u001b[1;34m\"beacon_sensor\"\u001b[0m\u001b[1;33m)\u001b[0m\u001b[1;33m)\u001b[0m\u001b[1;33m:\u001b[0m\u001b[1;33m\u001b[0m\u001b[1;33m\u001b[0m\u001b[0m\n\u001b[0m\u001b[0;32m    214\u001b[0m             \u001b[0mno_event_flag\u001b[0m \u001b[1;33m=\u001b[0m \u001b[1;36m0\u001b[0m\u001b[1;33m\u001b[0m\u001b[1;33m\u001b[0m\u001b[0m\n\u001b[0;32m    215\u001b[0m             \u001b[0mevent\u001b[0m \u001b[1;33m=\u001b[0m \u001b[0mec\u001b[0m\u001b[1;33m.\u001b[0m\u001b[0mEvent\u001b[0m\u001b[1;33m(\u001b[0m\u001b[1;33m)\u001b[0m\u001b[1;33m\u001b[0m\u001b[1;33m\u001b[0m\u001b[0m\n",
      "\u001b[1;32m~\\anaconda3\\lib\\site-packages\\matplotlib\\patches.py\u001b[0m in \u001b[0;36mcontains_point\u001b[1;34m(self, point, radius)\u001b[0m\n\u001b[0;32m    198\u001b[0m         \u001b[0mradius\u001b[0m \u001b[1;33m=\u001b[0m \u001b[0mself\u001b[0m\u001b[1;33m.\u001b[0m\u001b[0m_process_radius\u001b[0m\u001b[1;33m(\u001b[0m\u001b[0mradius\u001b[0m\u001b[1;33m)\u001b[0m\u001b[1;33m\u001b[0m\u001b[1;33m\u001b[0m\u001b[0m\n\u001b[0;32m    199\u001b[0m         return self.get_path().contains_point(point,\n\u001b[1;32m--> 200\u001b[1;33m                                               \u001b[0mself\u001b[0m\u001b[1;33m.\u001b[0m\u001b[0mget_transform\u001b[0m\u001b[1;33m(\u001b[0m\u001b[1;33m)\u001b[0m\u001b[1;33m,\u001b[0m\u001b[1;33m\u001b[0m\u001b[1;33m\u001b[0m\u001b[0m\n\u001b[0m\u001b[0;32m    201\u001b[0m                                               radius)\n\u001b[0;32m    202\u001b[0m \u001b[1;33m\u001b[0m\u001b[0m\n",
      "\u001b[1;32m~\\anaconda3\\lib\\site-packages\\matplotlib\\patches.py\u001b[0m in \u001b[0;36mget_transform\u001b[1;34m(self)\u001b[0m\n\u001b[0;32m    258\u001b[0m     \u001b[1;32mdef\u001b[0m \u001b[0mget_transform\u001b[0m\u001b[1;33m(\u001b[0m\u001b[0mself\u001b[0m\u001b[1;33m)\u001b[0m\u001b[1;33m:\u001b[0m\u001b[1;33m\u001b[0m\u001b[1;33m\u001b[0m\u001b[0m\n\u001b[0;32m    259\u001b[0m         \u001b[1;34m\"\"\"Return the `~.transforms.Transform` applied to the `Patch`.\"\"\"\u001b[0m\u001b[1;33m\u001b[0m\u001b[1;33m\u001b[0m\u001b[0m\n\u001b[1;32m--> 260\u001b[1;33m         \u001b[1;32mreturn\u001b[0m \u001b[0mself\u001b[0m\u001b[1;33m.\u001b[0m\u001b[0mget_patch_transform\u001b[0m\u001b[1;33m(\u001b[0m\u001b[1;33m)\u001b[0m \u001b[1;33m+\u001b[0m \u001b[0martist\u001b[0m\u001b[1;33m.\u001b[0m\u001b[0mArtist\u001b[0m\u001b[1;33m.\u001b[0m\u001b[0mget_transform\u001b[0m\u001b[1;33m(\u001b[0m\u001b[0mself\u001b[0m\u001b[1;33m)\u001b[0m\u001b[1;33m\u001b[0m\u001b[1;33m\u001b[0m\u001b[0m\n\u001b[0m\u001b[0;32m    261\u001b[0m \u001b[1;33m\u001b[0m\u001b[0m\n\u001b[0;32m    262\u001b[0m     \u001b[1;32mdef\u001b[0m \u001b[0mget_data_transform\u001b[0m\u001b[1;33m(\u001b[0m\u001b[0mself\u001b[0m\u001b[1;33m)\u001b[0m\u001b[1;33m:\u001b[0m\u001b[1;33m\u001b[0m\u001b[1;33m\u001b[0m\u001b[0m\n",
      "\u001b[1;32m~\\anaconda3\\lib\\site-packages\\matplotlib\\patches.py\u001b[0m in \u001b[0;36mget_patch_transform\u001b[1;34m(self)\u001b[0m\n\u001b[0;32m   1434\u001b[0m \u001b[1;33m\u001b[0m\u001b[0m\n\u001b[0;32m   1435\u001b[0m     \u001b[1;32mdef\u001b[0m \u001b[0mget_patch_transform\u001b[0m\u001b[1;33m(\u001b[0m\u001b[0mself\u001b[0m\u001b[1;33m)\u001b[0m\u001b[1;33m:\u001b[0m\u001b[1;33m\u001b[0m\u001b[1;33m\u001b[0m\u001b[0m\n\u001b[1;32m-> 1436\u001b[1;33m         \u001b[0mself\u001b[0m\u001b[1;33m.\u001b[0m\u001b[0m_recompute_transform\u001b[0m\u001b[1;33m(\u001b[0m\u001b[1;33m)\u001b[0m\u001b[1;33m\u001b[0m\u001b[1;33m\u001b[0m\u001b[0m\n\u001b[0m\u001b[0;32m   1437\u001b[0m         \u001b[1;32mreturn\u001b[0m \u001b[0mself\u001b[0m\u001b[1;33m.\u001b[0m\u001b[0m_patch_transform\u001b[0m\u001b[1;33m\u001b[0m\u001b[1;33m\u001b[0m\u001b[0m\n\u001b[0;32m   1438\u001b[0m \u001b[1;33m\u001b[0m\u001b[0m\n",
      "\u001b[1;32m~\\anaconda3\\lib\\site-packages\\matplotlib\\patches.py\u001b[0m in \u001b[0;36m_recompute_transform\u001b[1;34m(self)\u001b[0m\n\u001b[0;32m   1424\u001b[0m         \u001b[0mwidth\u001b[0m \u001b[1;33m=\u001b[0m \u001b[0mself\u001b[0m\u001b[1;33m.\u001b[0m\u001b[0mconvert_xunits\u001b[0m\u001b[1;33m(\u001b[0m\u001b[0mself\u001b[0m\u001b[1;33m.\u001b[0m\u001b[0m_width\u001b[0m\u001b[1;33m)\u001b[0m\u001b[1;33m\u001b[0m\u001b[1;33m\u001b[0m\u001b[0m\n\u001b[0;32m   1425\u001b[0m         \u001b[0mheight\u001b[0m \u001b[1;33m=\u001b[0m \u001b[0mself\u001b[0m\u001b[1;33m.\u001b[0m\u001b[0mconvert_yunits\u001b[0m\u001b[1;33m(\u001b[0m\u001b[0mself\u001b[0m\u001b[1;33m.\u001b[0m\u001b[0m_height\u001b[0m\u001b[1;33m)\u001b[0m\u001b[1;33m\u001b[0m\u001b[1;33m\u001b[0m\u001b[0m\n\u001b[1;32m-> 1426\u001b[1;33m         \u001b[0mself\u001b[0m\u001b[1;33m.\u001b[0m\u001b[0m_patch_transform\u001b[0m \u001b[1;33m=\u001b[0m \u001b[0mtransforms\u001b[0m\u001b[1;33m.\u001b[0m\u001b[0mAffine2D\u001b[0m\u001b[1;33m(\u001b[0m\u001b[1;33m)\u001b[0m\u001b[0;31m \u001b[0m\u001b[0;31m\\\u001b[0m\u001b[1;33m\u001b[0m\u001b[1;33m\u001b[0m\u001b[0m\n\u001b[0m\u001b[0;32m   1427\u001b[0m             \u001b[1;33m.\u001b[0m\u001b[0mscale\u001b[0m\u001b[1;33m(\u001b[0m\u001b[0mwidth\u001b[0m \u001b[1;33m*\u001b[0m \u001b[1;36m0.5\u001b[0m\u001b[1;33m,\u001b[0m \u001b[0mheight\u001b[0m \u001b[1;33m*\u001b[0m \u001b[1;36m0.5\u001b[0m\u001b[1;33m)\u001b[0m\u001b[0;31m \u001b[0m\u001b[0;31m\\\u001b[0m\u001b[1;33m\u001b[0m\u001b[1;33m\u001b[0m\u001b[0m\n\u001b[0;32m   1428\u001b[0m             \u001b[1;33m.\u001b[0m\u001b[0mrotate_deg\u001b[0m\u001b[1;33m(\u001b[0m\u001b[0mself\u001b[0m\u001b[1;33m.\u001b[0m\u001b[0mangle\u001b[0m\u001b[1;33m)\u001b[0m\u001b[0;31m \u001b[0m\u001b[0;31m\\\u001b[0m\u001b[1;33m\u001b[0m\u001b[1;33m\u001b[0m\u001b[0m\n",
      "\u001b[1;32m~\\anaconda3\\lib\\site-packages\\matplotlib\\transforms.py\u001b[0m in \u001b[0;36mrotate_deg\u001b[1;34m(self, degrees)\u001b[0m\n\u001b[0;32m   1943\u001b[0m         \u001b[1;32mand\u001b[0m \u001b[1;33m:\u001b[0m\u001b[0mmeth\u001b[0m\u001b[1;33m:\u001b[0m\u001b[0;31m`\u001b[0m\u001b[0mscale\u001b[0m\u001b[0;31m`\u001b[0m\u001b[1;33m.\u001b[0m\u001b[1;33m\u001b[0m\u001b[1;33m\u001b[0m\u001b[0m\n\u001b[0;32m   1944\u001b[0m         \"\"\"\n\u001b[1;32m-> 1945\u001b[1;33m         \u001b[1;32mreturn\u001b[0m \u001b[0mself\u001b[0m\u001b[1;33m.\u001b[0m\u001b[0mrotate\u001b[0m\u001b[1;33m(\u001b[0m\u001b[0mmath\u001b[0m\u001b[1;33m.\u001b[0m\u001b[0mradians\u001b[0m\u001b[1;33m(\u001b[0m\u001b[0mdegrees\u001b[0m\u001b[1;33m)\u001b[0m\u001b[1;33m)\u001b[0m\u001b[1;33m\u001b[0m\u001b[1;33m\u001b[0m\u001b[0m\n\u001b[0m\u001b[0;32m   1946\u001b[0m \u001b[1;33m\u001b[0m\u001b[0m\n\u001b[0;32m   1947\u001b[0m     \u001b[1;32mdef\u001b[0m \u001b[0mrotate_around\u001b[0m\u001b[1;33m(\u001b[0m\u001b[0mself\u001b[0m\u001b[1;33m,\u001b[0m \u001b[0mx\u001b[0m\u001b[1;33m,\u001b[0m \u001b[0my\u001b[0m\u001b[1;33m,\u001b[0m \u001b[0mtheta\u001b[0m\u001b[1;33m)\u001b[0m\u001b[1;33m:\u001b[0m\u001b[1;33m\u001b[0m\u001b[1;33m\u001b[0m\u001b[0m\n",
      "\u001b[1;32m~\\anaconda3\\lib\\site-packages\\matplotlib\\transforms.py\u001b[0m in \u001b[0;36mrotate\u001b[1;34m(self, theta)\u001b[0m\n\u001b[0;32m   1931\u001b[0m         rotate_mtx = np.array([[a, -b, 0.0], [b, a, 0.0], [0.0, 0.0, 1.0]],\n\u001b[0;32m   1932\u001b[0m                               float)\n\u001b[1;32m-> 1933\u001b[1;33m         \u001b[0mself\u001b[0m\u001b[1;33m.\u001b[0m\u001b[0m_mtx\u001b[0m \u001b[1;33m=\u001b[0m \u001b[0mnp\u001b[0m\u001b[1;33m.\u001b[0m\u001b[0mdot\u001b[0m\u001b[1;33m(\u001b[0m\u001b[0mrotate_mtx\u001b[0m\u001b[1;33m,\u001b[0m \u001b[0mself\u001b[0m\u001b[1;33m.\u001b[0m\u001b[0m_mtx\u001b[0m\u001b[1;33m)\u001b[0m\u001b[1;33m\u001b[0m\u001b[1;33m\u001b[0m\u001b[0m\n\u001b[0m\u001b[0;32m   1934\u001b[0m         \u001b[0mself\u001b[0m\u001b[1;33m.\u001b[0m\u001b[0minvalidate\u001b[0m\u001b[1;33m(\u001b[0m\u001b[1;33m)\u001b[0m\u001b[1;33m\u001b[0m\u001b[1;33m\u001b[0m\u001b[0m\n\u001b[0;32m   1935\u001b[0m         \u001b[1;32mreturn\u001b[0m \u001b[0mself\u001b[0m\u001b[1;33m\u001b[0m\u001b[1;33m\u001b[0m\u001b[0m\n",
      "\u001b[1;32m<__array_function__ internals>\u001b[0m in \u001b[0;36mdot\u001b[1;34m(*args, **kwargs)\u001b[0m\n",
      "\u001b[1;31mKeyboardInterrupt\u001b[0m: "
     ]
    }
   ],
   "source": [
    "CONSTANTS = {\n",
    "    'iterations': 100,\n",
    "    'initial_samples': 10,\n",
    "    'restarts_number': 10,\n",
    "    'raw_samples': 10,\n",
    "    'candidates_num': 1,\n",
    "    'sequential': True,\n",
    "    'epsilon': 1,\n",
    "    'radius': 1,\n",
    "    'height': 8.0,\n",
    "    'width': 8.0,\n",
    "    'max_sensors': 15  \n",
    "}\n",
    "\n",
    "runningOnGoogleColab = False\n",
    "    \n",
    "if __name__ ==  '__main__':\n",
    "    import sys\n",
    "\n",
    "    # if (runningOnGoogleColab == True):\n",
    "    #     from google.colab import drive    \n",
    "    #     drive.mount('/content/gdrive', force_remount=True)\n",
    "    #     Data_path = 'gdrive/My Drive/PhD/Thesis/Ideas/Codes/Sensor Simulator/'\n",
    "    #     sys.path.append('gdrive/My Drive/PhD/Thesis/Ideas/Codes/Sensor Simulator/')\n",
    "        \n",
    "    # else:\n",
    "    #     Data_path = '../../Codes/Sensor Simulator/'\n",
    "    #     sys.path.append('../../Codes/Sensor Simulator/')\n",
    "\n",
    "    if (runningOnGoogleColab == True):\n",
    "        from google.colab import drive    \n",
    "        drive.mount('/content/gdrive', force_remount=True)\n",
    "        Data_path = 'gdrive/My Drive/PhD/Thesis/Ideas/Codes/SensorDeploymentOptimization/'\n",
    "        sys.path.append('gdrive/My Drive/PhD/Thesis/Ideas/Codes/SensorDeploymentOptimization/')\n",
    "\n",
    "    else:\n",
    "        Data_path = '../../Codes/SensorDeploymentOptimization/'\n",
    "        # sys.path.append('../../Codes/SensorDeploymentOptimization/')\n",
    "        sys.path.append('..')\n",
    "    \n",
    "    # from ax import optimize, ChoiceParameter\n",
    "    from scipy.stats import norm\n",
    "    from numpy import argmax\n",
    "    import SIM_SIS_Libraries.SensorsClass\n",
    "    import SIM_SIS_Libraries.SIM_SIS_Simulator as sim_sis\n",
    "    import SIM_SIS_Libraries.ParseFunctions as pf\n",
    "    import itertools\n",
    "    import numpy as np\n",
    "    import pandas as pd\n",
    "    import SIM_SIS_Libraries.PreDeploymentEvaluation as pde\n",
    "    import copy\n",
    "    from datetime import datetime\n",
    "    import pytz\n",
    "    import ast\n",
    "    import os\n",
    "    import random\n",
    "    import plotly\n",
    "    import torch\n",
    "\n",
    "    finalResults = []\n",
    "    w = CONSTANTS['width'] - 0.5\n",
    "    h = CONSTANTS['height'] - 0.5\n",
    "\n",
    "    dataBoundaries = MakeDataBoundaries(\n",
    "                                        height = CONSTANTS['height'], \n",
    "                                        width = CONSTANTS['width'], \n",
    "                                        MaxSensors = CONSTANTS['max_sensors']\n",
    "                                       )\n",
    "\n",
    "    BOV =  BOVariables(\n",
    "                       Data_path, \n",
    "                       CONSTANTS['epsilon'], \n",
    "                       CONSTANTS['max_sensors'], \n",
    "                       CONSTANTS['max_sensors'], \n",
    "                       CONSTANTS['radius'],\n",
    "                       CONSTANTS['initial_samples']\n",
    "                      )\n",
    "\n",
    "    from openbox import sp\n",
    "    \n",
    "\n",
    "    # Define Search Space\n",
    "    space = sp.Space()\n",
    "\n",
    "    list_of_variables = []\n",
    "    for i in range(1, 16):\n",
    "        x = sp.Int(\"x\" + str(i), 0, CONSTANTS['width'], default_value=1)\n",
    "        y = sp.Int(\"y\" + str(i), 1, CONSTANTS['height'], default_value=1)\n",
    "        list_of_variables.append(x)\n",
    "        list_of_variables.append(y)\n",
    "    \n",
    "    space.add_variables(list_of_variables)\n",
    "\n",
    "    from openbox import Optimizer\n",
    "\n",
    "    history_list = []\n",
    "    for _ in range(10):\n",
    "        opt = Optimizer(\n",
    "            function_to_be_optimized,\n",
    "            space,\n",
    "            num_objs=2,\n",
    "            max_runs=500,\n",
    "            surrogate_type='prf',\n",
    "            acq_type = 'ehvi',\n",
    "            acq_optimizer_type='random_scipy',\n",
    "            time_limit_per_trial=31000,\n",
    "            task_id='Shadan',\n",
    "            init_strategy='sobol',\n",
    "            ref_point=[100, 15]\n",
    "        )\n",
    "        history = opt.run()\n",
    "        history_list.append(history)"
   ]
  },
  {
   "cell_type": "code",
   "execution_count": null,
   "metadata": {},
   "outputs": [],
   "source": [
    "import numpy as np\n",
    "import matplotlib.pyplot as plt\n",
    "\n",
    "# plot pareto front\n",
    "pareto_front = np.asarray(opt.get_history().get_pareto_front())\n",
    "if pareto_front.shape[-1] in (2, 3):\n",
    "    if pareto_front.shape[-1] == 2:\n",
    "        plt.scatter(pareto_front[:, 0], pareto_front[:, 1])\n",
    "        plt.xlabel('Objective 1')\n",
    "        plt.ylabel('Objective 2')\n",
    "    elif pareto_front.shape[-1] == 3:\n",
    "        ax = plt.axes(projection='3d')\n",
    "        ax.scatter3D(pareto_front[:, 0], pareto_front[:, 1], pareto_front[:, 2])\n",
    "        ax.set_xlabel('Objective 1')\n",
    "        ax.set_ylabel('Objective 2')\n",
    "        ax.set_zlabel('Objective 3')\n",
    "    plt.title('Pareto Front')\n",
    "    plt.show()"
   ]
  },
  {
   "cell_type": "code",
   "execution_count": null,
   "metadata": {
    "scrolled": true
   },
   "outputs": [],
   "source": [
    "# plot hypervolume\n",
    "data = opt.get_history().data\n",
    "\n",
    "sensors_num = []\n",
    "accuracies = []\n",
    "\n",
    "print(data)\n",
    "\n",
    "for _ in range(len(data)):\n",
    "    d = data.popitem(last=True)\n",
    "    print(d)\n",
    "    accuracies.append(d[0])\n",
    "    sensors_num.append(d[1])\n",
    "\n",
    "print(accuracies)\n",
    "    \n",
    "plt.plot(accuracies)\n",
    "    \n",
    "# for item in hypervolume:\n",
    "    # print(item.get_array())\n",
    "    # print(item)\n",
    "\n",
    "# log_hv_diff = 100 - np.asarray(hypervolume)\n",
    "# plt.plot(log_hv_diff)\n",
    "# plt.xlabel('Iteration')\n",
    "# plt.ylabel('Log Hypervolume Difference')\n",
    "# plt.show()"
   ]
  },
  {
   "cell_type": "code",
   "execution_count": null,
   "metadata": {},
   "outputs": [],
   "source": [
    "opt.get_history()"
   ]
  },
  {
   "cell_type": "code",
   "execution_count": null,
   "metadata": {},
   "outputs": [],
   "source": [
    "for index, history in enumerate(history_list):\n",
    "    history.save_json(fn = '.\\openbox_results\\history' + str(index) + '.json')"
   ]
  },
  {
   "cell_type": "code",
   "execution_count": null,
   "metadata": {},
   "outputs": [],
   "source": [
    "def my_plot_convergence(\n",
    "            results,\n",
    "            xlabel=\"Number of iterations $n$\",\n",
    "            ylabel=r\"Min objective value after $n$ iterations\",\n",
    "            ax=None, name=None, alpha=0.2, yscale=None,\n",
    "            color=None, true_minimum=None,\n",
    "            **kwargs):\n",
    "        \"\"\"Plot one or several convergence traces.\n",
    "        Parameters\n",
    "        ----------\n",
    "        args[i] :  `OptimizeResult`, list of `OptimizeResult`, or tuple\n",
    "            The result(s) for which to plot the convergence trace.\n",
    "            - if `OptimizeResult`, then draw the corresponding single trace;\n",
    "            - if list of `OptimizeResult`, then draw the corresponding convergence\n",
    "              traces in transparency, along with the average convergence trace;\n",
    "            - if tuple, then `args[i][0]` should be a string label and `args[i][1]`\n",
    "              an `OptimizeResult` or a list of `OptimizeResult`.\n",
    "        ax : `Axes`, optional\n",
    "            The matplotlib axes on which to draw the plot, or `None` to create\n",
    "            a new one.\n",
    "        true_minimum : float, optional\n",
    "            The true minimum value of the function, if known.\n",
    "        yscale : None or string, optional\n",
    "            The scale for the y-axis.\n",
    "        Returns\n",
    "        -------\n",
    "        ax : `Axes`\n",
    "            The matplotlib axes.\n",
    "        \"\"\"\n",
    "        losses = list(results)\n",
    "\n",
    "        n_calls = len(losses)\n",
    "        iterations = range(1, n_calls + 1)\n",
    "        maxs = [np.max(losses[:i]) for i in iterations]\n",
    "        min_maxs = min(maxs)\n",
    "        cliped_losses = np.clip(losses, min_maxs, None)\n",
    "        return plot_convergence(iterations, maxs, cliped_losses, xlabel, ylabel, ax, name, alpha, yscale, color,\n",
    "                                true_minimum, **kwargs)\n",
    "    \n",
    "def plot_convergence(\n",
    "        x, y1, y2,\n",
    "        xlabel=\"Number of iterations $n$\",\n",
    "        ylabel=r\"Min objective value after $n$ iterations\",\n",
    "        ax=None, name=None, alpha=0.2, yscale=None,\n",
    "        color=None, true_minimum=None,\n",
    "        **kwargs):\n",
    "    \"\"\"Plot one or several convergence traces.\n",
    "    Parameters\n",
    "    ----------\n",
    "    args[i] :  `OptimizeResult`, list of `OptimizeResult`, or tuple\n",
    "        The result(s) for which to plot the convergence trace.\n",
    "        - if `OptimizeResult`, then draw the corresponding single trace;\n",
    "        - if list of `OptimizeResult`, then draw the corresponding convergence\n",
    "          traces in transparency, along with the average convergence trace;\n",
    "        - if tuple, then `args[i][0]` should be a string label and `args[i][1]`\n",
    "          an `OptimizeResult` or a list of `OptimizeResult`.\n",
    "    ax : `Axes`, optional\n",
    "        The matplotlib axes on which to draw the plot, or `None` to create\n",
    "        a new one.\n",
    "    true_minimum : float, optional\n",
    "        The true minimum value of the function, if known.\n",
    "    yscale : None or string, optional\n",
    "        The scale for the y-axis.\n",
    "    Returns\n",
    "    -------\n",
    "    ax : `Axes`\n",
    "        The matplotlib axes.\n",
    "    \"\"\"\n",
    "    if ax is None:\n",
    "        ax = plt.gca()\n",
    "\n",
    "    ax.set_title(\"Convergence plot\")\n",
    "    ax.set_xlabel(xlabel)\n",
    "    ax.set_ylabel(ylabel)\n",
    "    ax.grid()\n",
    "\n",
    "    if yscale is not None:\n",
    "        ax.set_yscale(yscale)\n",
    "\n",
    "    ax.plot(x, y1, c=color, label=name, **kwargs)\n",
    "    ax.scatter(x, y2, c=color, alpha=alpha)\n",
    "\n",
    "    if true_minimum is not None:\n",
    "        ax.axhline(true_minimum, linestyle=\"--\",\n",
    "                   color=\"r\", lw=1,\n",
    "                   label=\"True minimum\")\n",
    "\n",
    "    if true_minimum is not None or name is not None:\n",
    "        ax.legend(loc=\"upper right\")\n",
    "    return ax"
   ]
  },
  {
   "cell_type": "code",
   "execution_count": null,
   "metadata": {},
   "outputs": [],
   "source": [
    "import os\n",
    "from openbox.utils import history_container\n",
    "\n",
    "history_list = []\n",
    "\n",
    "\n",
    "for filename in os.listdir('.\\openbox_results'):\n",
    "    history = history_container.HistoryContainer(task_id = 'SPO')\n",
    "    hist = history.load_history_from_json(cs = space, fn = '.\\openbox_results\\\\' + filename)\n",
    "    history_list.append(hist)"
   ]
  },
  {
   "cell_type": "code",
   "execution_count": null,
   "metadata": {},
   "outputs": [],
   "source": [
    "for c in history_list[0].items():\n",
    "    print(c[1])"
   ]
  },
  {
   "cell_type": "code",
   "execution_count": null,
   "metadata": {},
   "outputs": [],
   "source": []
  },
  {
   "cell_type": "code",
   "execution_count": null,
   "metadata": {
    "id": "uzoAtQ3G0Hcs",
    "scrolled": true
   },
   "outputs": [],
   "source": [
    "import matplotlib.pyplot as plt\n",
    "from matplotlib.pyplot import figure\n",
    "\n",
    "for i in range(len(history_list)):\n",
    "    # print(hist)\n",
    "    # for c in history_list[0].items():\n",
    "    # print(c[1])\n",
    "    # hist.plot_convergence()\n",
    "    # l = [100 - p for p in hist.perfs]\n",
    "    # figure(figsize=(8, 6), dpi=80)\n",
    "    # print(max(l))\n",
    "    # print(min(l))\n",
    "    # data = history_list[i].items()\n",
    "    # print(data[1])\n",
    "    # my_plot_convergence(results = data) \n",
    "    # plt.show()\n",
    "    data = []\n",
    "    for c in history_list[i].items():\n",
    "        data.append(100 - c[1])\n",
    "    \n",
    "    # print(data)\n",
    "    my_plot_convergence(results = data)\n",
    "    plt.show()\n"
   ]
  },
  {
   "cell_type": "code",
   "execution_count": null,
   "metadata": {},
   "outputs": [],
   "source": [
    "history_list"
   ]
  },
  {
   "cell_type": "code",
   "execution_count": null,
   "metadata": {
    "scrolled": true
   },
   "outputs": [],
   "source": [
    "    \n",
    "for index, history in enumerate(history_list):\n",
    "    # print(history.perfs)\n",
    "    figure(figsize=(8, 6), dpi=80)\n",
    "    history.plot_convergence()\n",
    "    print(history.min_y)\n",
    "    plt.show()"
   ]
  },
  {
   "cell_type": "code",
   "execution_count": null,
   "metadata": {},
   "outputs": [],
   "source": [
    "rooms = {'bedroom': [(3.9, 0.0), (8.0, 4.1)],\n",
    "         'livingroom': [(0.0, 1.9), (6.3, 4.3)],\n",
    "         'diningroom': [(0.0, 3.0), (2.6, 8.0)],\n",
    "         'kitchen': [(0.0, 3.0), (2.6, 8.0)],\n",
    "         'bathroom': [(6.1, 3.3), (8.0, 6.4)],\n",
    "\t\t 'storage': [(2.8, 6.7), (8.0, 8.0)]} "
   ]
  },
  {
   "cell_type": "code",
   "execution_count": null,
   "metadata": {},
   "outputs": [],
   "source": [
    "A = [(([4, 8], 'storage', 'motion sensors'), ([6, 4], 'bedroom', 'motion sensors'), ([7, 5], 'bathroom', 'motion sensors'), ([3, 8], 'storage', 'motion sensors'), ([4, 8], 'storage', 'motion sensors'), ([8, 6], 'bathroom', 'motion sensors'), ([8, 0], 'bedroom', 'motion sensors'), ([8, 5], 'bathroom', 'motion sensors'), ([8, 4], 'bedroom', 'motion sensors'), ([3, 3], 'livingroom', 'motion sensors'), ([8, 4], 'bedroom', 'motion sensors'), ([3, 3], 'livingroom', 'motion sensors'), ([5, 6], 'livingroom', 'motion sensors'), ([1, 8], 'diningroom', 'motion sensors'), ([1, 8], 'diningroom', 'motion sensors'))]"
   ]
  },
  {
   "cell_type": "code",
   "execution_count": null,
   "metadata": {},
   "outputs": [],
   "source": [
    "A"
   ]
  },
  {
   "cell_type": "code",
   "execution_count": null,
   "metadata": {},
   "outputs": [],
   "source": [
    "for a in A:\n",
    "    for aa in a:\n",
    "        print(aa)\n",
    "        print('----')"
   ]
  },
  {
   "cell_type": "code",
   "execution_count": null,
   "metadata": {},
   "outputs": [],
   "source": []
  }
 ],
 "metadata": {
  "colab": {
   "authorship_tag": "ABX9TyMfsagwc2RmakidRJtptGPX",
   "collapsed_sections": [],
   "machine_shape": "hm",
   "name": "Copy of OpenBox.ipynb",
   "provenance": [
    {
     "file_id": "1swbtZSRLMPhKLusMYl4JguoWZEapxz9K",
     "timestamp": 1635560559445
    }
   ],
   "version": ""
  },
  "kernelspec": {
   "display_name": "Python 3",
   "language": "python",
   "name": "python3"
  },
  "language_info": {
   "codemirror_mode": {
    "name": "ipython",
    "version": 3
   },
   "file_extension": ".py",
   "mimetype": "text/x-python",
   "name": "python",
   "nbconvert_exporter": "python",
   "pygments_lexer": "ipython3",
   "version": "3.8.8"
  }
 },
 "nbformat": 4,
 "nbformat_minor": 1
}
