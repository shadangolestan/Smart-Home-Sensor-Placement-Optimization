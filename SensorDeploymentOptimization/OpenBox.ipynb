{
 "cells": [
  {
   "cell_type": "code",
   "execution_count": 1,
   "metadata": {
    "colab": {
     "base_uri": "https://localhost:8080/"
    },
    "executionInfo": {
     "elapsed": 3987,
     "status": "ok",
     "timestamp": 1635613843328,
     "user": {
      "displayName": "Shadan Golestan-Irani",
      "photoUrl": "https://lh3.googleusercontent.com/a-/AOh14GjzIpBx-tX-xncT2d8sC4323jdDLC4K-HcuzJgpIA=s64",
      "userId": "05022969837639573312"
     },
     "user_tz": 360
    },
    "id": "PPw6X0y6ck1o",
    "outputId": "68d3fcf2-baa9-406a-84a6-b8ba40d6a159"
   },
   "outputs": [
    {
     "name": "stdout",
     "output_type": "stream",
     "text": [
      "Collecting openbox\n",
      "  Downloading openbox-0.7.14-py3-none-any.whl (254 kB)\n",
      "\u001b[K     |████████████████████████████████| 254 kB 584 kB/s eta 0:00:01\n",
      "\u001b[?25hRequirement already satisfied: scikit-learn>=0.21.3 in /usr/local/lib/python3.9/site-packages (from openbox) (0.23.2)\n",
      "Requirement already satisfied: matplotlib in /usr/local/lib/python3.9/site-packages (from openbox) (3.3.3)\n",
      "Requirement already satisfied: numpy>=1.7.1 in /usr/local/lib/python3.9/site-packages (from openbox) (1.19.4)\n",
      "Requirement already satisfied: setuptools in /usr/local/lib/python3.9/site-packages (from openbox) (50.3.2)\n",
      "Requirement already satisfied: pandas in /usr/local/lib/python3.9/site-packages (from openbox) (1.1.4)\n",
      "Requirement already satisfied: scipy>=0.18.1 in /usr/local/lib/python3.9/site-packages (from openbox) (1.5.4)\n",
      "Collecting ConfigSpace<0.5,>=0.4.12\n",
      "  Downloading ConfigSpace-0.4.20.tar.gz (103 kB)\n",
      "\u001b[K     |████████████████████████████████| 103 kB 419 kB/s eta 0:00:01\n",
      "\u001b[?25h  Installing build dependencies ... \u001b[?25ldone\n",
      "\u001b[?25h  Getting requirements to build wheel ... \u001b[?25ldone\n",
      "\u001b[?25h    Preparing wheel metadata ... \u001b[?25ldone\n",
      "\u001b[?25hRequirement already satisfied: pyparsing in /usr/local/lib/python3.9/site-packages (from ConfigSpace<0.5,>=0.4.12->openbox) (2.4.7)\n",
      "Requirement already satisfied: numpy>=1.7.1 in /usr/local/lib/python3.9/site-packages (from openbox) (1.19.4)\n",
      "Collecting cython\n",
      "  Using cached Cython-0.29.24-cp39-cp39-macosx_10_9_x86_64.whl (1.9 MB)\n",
      "Collecting dill\n",
      "  Downloading dill-0.3.4-py2.py3-none-any.whl (86 kB)\n",
      "\u001b[K     |████████████████████████████████| 86 kB 3.3 MB/s eta 0:00:011\n",
      "\u001b[?25hCollecting django>=2.2.17\n",
      "  Downloading Django-3.2.8-py3-none-any.whl (7.9 MB)\n",
      "\u001b[K     |████████████████████████████████| 7.9 MB 4.8 MB/s eta 0:00:01\n",
      "\u001b[?25hRequirement already satisfied: pytz in /usr/local/lib/python3.9/site-packages (from django>=2.2.17->openbox) (2020.4)\n",
      "Collecting asgiref<4,>=3.3.2\n",
      "  Downloading asgiref-3.4.1-py3-none-any.whl (25 kB)\n",
      "Collecting emcee\n",
      "  Downloading emcee-3.1.1-py2.py3-none-any.whl (45 kB)\n",
      "\u001b[K     |████████████████████████████████| 45 kB 8.4 MB/s  eta 0:00:01\n",
      "\u001b[?25hRequirement already satisfied: numpy>=1.7.1 in /usr/local/lib/python3.9/site-packages (from openbox) (1.19.4)\n",
      "Requirement already satisfied: pyparsing in /usr/local/lib/python3.9/site-packages (from ConfigSpace<0.5,>=0.4.12->openbox) (2.4.7)\n",
      "Requirement already satisfied: numpy>=1.7.1 in /usr/local/lib/python3.9/site-packages (from openbox) (1.19.4)\n",
      "Requirement already satisfied: pillow>=6.2.0 in /usr/local/lib/python3.9/site-packages (from matplotlib->openbox) (8.0.1)\n",
      "Requirement already satisfied: python-dateutil>=2.1 in /usr/local/lib/python3.9/site-packages (from matplotlib->openbox) (2.8.1)\n",
      "Requirement already satisfied: cycler>=0.10 in /usr/local/lib/python3.9/site-packages (from matplotlib->openbox) (0.10.0)\n",
      "Requirement already satisfied: kiwisolver>=1.0.1 in /usr/local/lib/python3.9/site-packages (from matplotlib->openbox) (1.3.1)\n",
      "Requirement already satisfied: six in /usr/local/Cellar/protobuf/3.14.0/libexec/lib/python3.9/site-packages (from cycler>=0.10->matplotlib->openbox) (1.15.0)\n",
      "Requirement already satisfied: numpy>=1.7.1 in /usr/local/lib/python3.9/site-packages (from openbox) (1.19.4)\n",
      "Requirement already satisfied: python-dateutil>=2.1 in /usr/local/lib/python3.9/site-packages (from matplotlib->openbox) (2.8.1)\n",
      "Requirement already satisfied: pytz in /usr/local/lib/python3.9/site-packages (from django>=2.2.17->openbox) (2020.4)\n",
      "Collecting platypus-opt==1.0.4\n",
      "  Downloading Platypus_Opt-1.0.4-py3-none-any.whl (70 kB)\n",
      "\u001b[K     |████████████████████████████████| 70 kB 2.8 MB/s eta 0:00:011\n",
      "\u001b[?25hRequirement already satisfied: six in /usr/local/Cellar/protobuf/3.14.0/libexec/lib/python3.9/site-packages (from cycler>=0.10->matplotlib->openbox) (1.15.0)\n",
      "Collecting psutil\n",
      "  Downloading psutil-5.8.0-cp39-cp39-macosx_10_9_x86_64.whl (236 kB)\n",
      "\u001b[K     |████████████████████████████████| 236 kB 50.2 MB/s eta 0:00:01\n",
      "\u001b[?25hRequirement already satisfied: six in /usr/local/Cellar/protobuf/3.14.0/libexec/lib/python3.9/site-packages (from cycler>=0.10->matplotlib->openbox) (1.15.0)\n",
      "Collecting pyyaml\n",
      "  Downloading PyYAML-6.0-cp39-cp39-macosx_10_9_x86_64.whl (197 kB)\n",
      "\u001b[K     |████████████████████████████████| 197 kB 28.8 MB/s eta 0:00:01\n",
      "\u001b[?25hCollecting requests\n",
      "  Downloading requests-2.26.0-py2.py3-none-any.whl (62 kB)\n",
      "\u001b[K     |████████████████████████████████| 62 kB 1.9 MB/s eta 0:00:011\n",
      "\u001b[?25hRequirement already satisfied: idna<4,>=2.5 in /usr/local/lib/python3.9/site-packages (from requests->openbox) (3.2)\n",
      "Collecting certifi>=2017.4.17\n",
      "  Downloading certifi-2021.10.8-py2.py3-none-any.whl (149 kB)\n",
      "\u001b[K     |████████████████████████████████| 149 kB 32.0 MB/s eta 0:00:01\n",
      "\u001b[?25hCollecting charset-normalizer~=2.0.0\n",
      "  Downloading charset_normalizer-2.0.7-py3-none-any.whl (38 kB)\n",
      "Requirement already satisfied: joblib>=0.11 in /usr/local/lib/python3.9/site-packages (from scikit-learn>=0.21.3->openbox) (0.17.0)\n",
      "Requirement already satisfied: scipy>=0.18.1 in /usr/local/lib/python3.9/site-packages (from openbox) (1.5.4)\n",
      "Requirement already satisfied: numpy>=1.7.1 in /usr/local/lib/python3.9/site-packages (from openbox) (1.19.4)\n",
      "Requirement already satisfied: threadpoolctl>=2.0.0 in /usr/local/lib/python3.9/site-packages (from scikit-learn>=0.21.3->openbox) (2.1.0)\n",
      "Collecting scikit-optimize>=0.8\n",
      "  Downloading scikit_optimize-0.9.0-py2.py3-none-any.whl (100 kB)\n",
      "\u001b[K     |████████████████████████████████| 100 kB 21.0 MB/s ta 0:00:01\n",
      "\u001b[?25hRequirement already satisfied: scikit-learn>=0.21.3 in /usr/local/lib/python3.9/site-packages (from openbox) (0.23.2)\n",
      "Requirement already satisfied: numpy>=1.7.1 in /usr/local/lib/python3.9/site-packages (from openbox) (1.19.4)\n",
      "Requirement already satisfied: scipy>=0.18.1 in /usr/local/lib/python3.9/site-packages (from openbox) (1.5.4)\n",
      "Requirement already satisfied: joblib>=0.11 in /usr/local/lib/python3.9/site-packages (from scikit-learn>=0.21.3->openbox) (0.17.0)\n",
      "Collecting pyaml>=16.9\n",
      "  Downloading pyaml-21.10.1-py2.py3-none-any.whl (24 kB)\n",
      "Requirement already satisfied: numpy>=1.7.1 in /usr/local/lib/python3.9/site-packages (from openbox) (1.19.4)\n",
      "Collecting sqlparse>=0.2.2\n",
      "  Downloading sqlparse-0.4.2-py3-none-any.whl (42 kB)\n",
      "\u001b[K     |████████████████████████████████| 42 kB 1.9 MB/s  eta 0:00:01\n",
      "\u001b[?25hCollecting statsmodels\n",
      "  Downloading statsmodels-0.13.0-cp39-cp39-macosx_10_15_x86_64.whl (9.6 MB)\n",
      "\u001b[K     |████████████████████████████████| 9.6 MB 29.6 MB/s eta 0:00:01\n",
      "\u001b[?25hRequirement already satisfied: scipy>=0.18.1 in /usr/local/lib/python3.9/site-packages (from openbox) (1.5.4)\n",
      "Requirement already satisfied: pandas in /usr/local/lib/python3.9/site-packages (from openbox) (1.1.4)\n",
      "Requirement already satisfied: numpy>=1.7.1 in /usr/local/lib/python3.9/site-packages (from openbox) (1.19.4)\n",
      "Collecting patsy>=0.5.2\n",
      "  Downloading patsy-0.5.2-py2.py3-none-any.whl (233 kB)\n",
      "\u001b[K     |████████████████████████████████| 233 kB 52.1 MB/s eta 0:00:01\n",
      "\u001b[?25hRequirement already satisfied: numpy>=1.7.1 in /usr/local/lib/python3.9/site-packages (from openbox) (1.19.4)\n",
      "Requirement already satisfied: six in /usr/local/Cellar/protobuf/3.14.0/libexec/lib/python3.9/site-packages (from cycler>=0.10->matplotlib->openbox) (1.15.0)\n",
      "Collecting terminaltables\n",
      "  Downloading terminaltables-3.1.0.tar.gz (12 kB)\n",
      "Collecting tqdm\n",
      "  Downloading tqdm-4.62.3-py2.py3-none-any.whl (76 kB)\n",
      "\u001b[K     |████████████████████████████████| 76 kB 9.7 MB/s  eta 0:00:01\n",
      "\u001b[?25hCollecting urllib3<1.27,>=1.21.1\n",
      "  Downloading urllib3-1.26.7-py2.py3-none-any.whl (138 kB)\n",
      "\u001b[K     |████████████████████████████████| 138 kB 40.2 MB/s eta 0:00:01\n",
      "\u001b[?25hBuilding wheels for collected packages: ConfigSpace, terminaltables\n",
      "  Building wheel for ConfigSpace (PEP 517) ... \u001b[?25ldone\n",
      "\u001b[?25h  Created wheel for ConfigSpace: filename=ConfigSpace-0.4.20-cp39-cp39-macosx_11_0_x86_64.whl size=867678 sha256=bc7d302de7a01579b138835308d65e9dcc364c5f8559e9c39bbb7e37d88c61c1\n",
      "  Stored in directory: /Users/shadangolestan/Library/Caches/pip/wheels/15/d5/43/fc6fe722533cd0ee074333e72d0e0444926cc092098d0ac791\n",
      "  Building wheel for terminaltables (setup.py) ... \u001b[?25ldone\n",
      "\u001b[?25h  Created wheel for terminaltables: filename=terminaltables-3.1.0-py3-none-any.whl size=15355 sha256=de7856bf5c6c695f3ce85899609de7fa85ebc77ab7d429cb37e6e8a121a7dea4\n",
      "  Stored in directory: /Users/shadangolestan/Library/Caches/pip/wheels/d6/42/1c/ac35bb80b4d95dd2bbf7aa111392fe7eb4095952c66cc4d619\n",
      "Successfully built ConfigSpace terminaltables\n"
     ]
    },
    {
     "name": "stdout",
     "output_type": "stream",
     "text": [
      "Installing collected packages: pyyaml, urllib3, sqlparse, pyaml, patsy, cython, charset-normalizer, certifi, asgiref, tqdm, terminaltables, statsmodels, scikit-optimize, requests, psutil, platypus-opt, emcee, django, dill, ConfigSpace, openbox\n",
      "Successfully installed ConfigSpace-0.4.20 asgiref-3.4.1 certifi-2021.10.8 charset-normalizer-2.0.7 cython-0.29.24 dill-0.3.4 django-3.2.8 emcee-3.1.1 openbox-0.7.14 patsy-0.5.2 platypus-opt-1.0.4 psutil-5.8.0 pyaml-21.10.1 pyyaml-6.0 requests-2.26.0 scikit-optimize-0.9.0 sqlparse-0.4.2 statsmodels-0.13.0 terminaltables-3.1.0 tqdm-4.62.3 urllib3-1.26.7\n"
     ]
    }
   ],
   "source": [
    "!pip3 install openbox"
   ]
  },
  {
   "cell_type": "code",
   "execution_count": 2,
   "metadata": {
    "executionInfo": {
     "elapsed": 655,
     "status": "ok",
     "timestamp": 1635613843970,
     "user": {
      "displayName": "Shadan Golestan-Irani",
      "photoUrl": "https://lh3.googleusercontent.com/a-/AOh14GjzIpBx-tX-xncT2d8sC4323jdDLC4K-HcuzJgpIA=s64",
      "userId": "05022969837639573312"
     },
     "user_tz": 360
    },
    "id": "VWSmt5dJxKDk"
   },
   "outputs": [],
   "source": [
    "class Data:\n",
    "    def __init__(self, sensorPositions, space, epsilon):\n",
    "        self.radius = 1\n",
    "        self.placeHolders = sensorPositions\n",
    "        self.epsilon = epsilon\n",
    "        self.space = space\n",
    "        # self.SensorPlaceHolderSetup()\n",
    "        \n",
    "    def frange(self, start, stop, step):\n",
    "        steps = []\n",
    "        while start <= stop:\n",
    "            steps.append(start)\n",
    "            start +=step\n",
    "            \n",
    "        return steps\n",
    "\n",
    "    # def SensorPlaceHolderSetup(self):\n",
    "    #     Xs = self.frange(0, self.space[0], self.epsilon)\n",
    "    #     Ys = self.frange(0, self.space[1], self.epsilon)\n",
    "            \n",
    "    #     for x in Xs:\n",
    "    #       for y in Ys:\n",
    "    #         self.placeHolders.append([x, y])\n",
    "\n",
    "    def GetSensorConfiguration(self):\n",
    "        from collections import Counter\n",
    "        sensorLocations, sensorTypes = self.GetSensorLocations()\n",
    "\n",
    "        summaryDict = Counter(sensorTypes)\n",
    "\n",
    "        # TODO: DIFFERENT SENSOR TYPE DEFINITIONS SHOULD BE ADDED HERE:\n",
    "        configurationSummary = []\n",
    "        for key in summaryDict:\n",
    "            if (key == 1):\n",
    "                configurationSummary.append(['motion sensors', summaryDict[key]])\n",
    "\n",
    "            elif (key == 2):\n",
    "                configurationSummary.append(['beacon sensors', summaryDict[key]])\n",
    "\n",
    "        configurationDetails = []\n",
    "        for index, loc in enumerate(sensorLocations):\n",
    "            if (sensorTypes[index] == 1):\n",
    "                configurationDetails.append(tuple([loc, 'kitchen', 'motion sensors']))\n",
    "\n",
    "            elif (sensorTypes[index] == 2):\n",
    "                configurationDetails.append(tuple([loc, 'kitchen', 'beacon sensors']))\n",
    "\n",
    "        return [[configurationSummary, [tuple(configurationDetails)]], self.radius]\n",
    "\n",
    "\n",
    "    def GetSensorLocations(self):\n",
    "        sensorLocations = []\n",
    "        sensorTypes = []\n",
    "        for index, sensorIndicator in enumerate(self.placeHolders):\n",
    "            sensorLocations.append(self.placeHolders[index])\n",
    "\n",
    "            # TODO: DIFFERENT SENSOR TYPE DEFINITIONS SHOULD BE ADDED HERE:\n",
    "            sensorTypes.append(1)\n",
    "\n",
    "\n",
    "        return sensorLocations, sensorTypes\n",
    "\n",
    "\n",
    "class BOVariables:\n",
    "    def __init__(self, Data_path, epsilon, initSensorNum, maxSensorNum, radius, sampleSize):\n",
    "        self.epsilon = epsilon\n",
    "        self.Data_path = Data_path\n",
    "        self.initSensorNum = initSensorNum\n",
    "        self.maxSensorNum = maxSensorNum\n",
    "        self.radius = radius\n",
    "        self.sensor_distribution, self.types, self.space, self.rooms, self.agentTraces = self.ModelsInitializations()\n",
    "\n",
    "    def ModelsInitializations(self):\n",
    "        #----- Space and agent models -----: \n",
    "        simworldname = self.Data_path + '/Configuration Files/simulationWorld2.xml'\n",
    "        agentTraces = []\n",
    "        directory = os.fsencode(self.Data_path + 'Agent Trace Files/')\n",
    "            \n",
    "        for file in os.listdir(directory):\n",
    "            filename = os.fsdecode(file)\n",
    "            if filename.endswith(\".csv\"): \n",
    "                agentTraces.append(self.Data_path + 'Agent Trace Files/' + filename)\n",
    "\n",
    "        # Parsing the space model: \n",
    "        space, rooms = pf.ParseWorld(simworldname)\n",
    "\n",
    "        xs = []\n",
    "        for i in space:\n",
    "          for j in i:\n",
    "            xs.append(j)\n",
    "        A = list(set(xs))\n",
    "        A.sort()\n",
    "        space = [A[-1], A[-2]]\n",
    "\n",
    "        # User parameters \n",
    "        types, sensor_distribution = pf.GetUsersParameters()\n",
    "\n",
    "        roomsList = []\n",
    "        for room in sensor_distribution:\n",
    "            roomsList.append(room)\n",
    "              \n",
    "        return sensor_distribution, types, space, rooms, agentTraces\n",
    "\n",
    "\n",
    "def frange(start, stop, step):\n",
    "    steps = []\n",
    "    while start <= stop:\n",
    "        steps.append(start)\n",
    "        start +=step\n",
    "        \n",
    "    return steps\n",
    "\n",
    "def MakeSensorCombinations(start, end, epsilon, sensorType, room):\n",
    "    a1, b1 = makeBoundaries(epsilon, start[0], end[0])\n",
    "    a2, b2 = makeBoundaries(epsilon, start[1], end[1])    \n",
    "    Xs = frange(a1, b1, epsilon)\n",
    "    Ys = frange(a2, b2, epsilon)\n",
    "    \n",
    "    points = list(itertools.product(list(itertools.product(Xs, Ys)), [room], [sensorType[0]])) \n",
    "    C = itertools.combinations(points, distribution[room][types.index(sensorType)])\n",
    "\n",
    "    return C\n",
    "\n",
    "def PreProcessor(df):\n",
    "    # df['motion sensors'] = df['motion sensors'].apply(ast.literal_eval)\n",
    "    df['motion sensors'] = df['motion sensors'].apply(lambda s: list(map(int, s)))\n",
    "    # df['beacon sensors'] = df['beacon sensors'].apply(ast.literal_eval)\n",
    "    try:\n",
    "      df['beacon sensors'] = df['beacon sensors'].apply(lambda s: list(map(int, s)))\n",
    "    except:\n",
    "      pass\n",
    "\n",
    "    sensors = set([])\n",
    "\n",
    "    previous_M = None\n",
    "    previous_B = None\n",
    "    output_file = []\n",
    "\n",
    "    for index, row in df.iterrows():\n",
    "      T = row['time']\n",
    "      M = row['motion sensors']\n",
    "      try:\n",
    "        B = row['beacon sensors']\n",
    "      except:\n",
    "        pass\n",
    "\n",
    "      Activity = row['activity']\n",
    "      Activity = Activity.replace(' ', '_')\n",
    "      MotionSensor_Names = []\n",
    "      sensorNames = []\n",
    "      MotionSensor_Message = []\n",
    "      BeaconSensor_Names = []\n",
    "      BeaconSensor_Message = []\n",
    "      \n",
    "\n",
    "      # time = convertTime(T)\n",
    "      time = \"2020-06-16 \" + T + \".00\"\n",
    "\n",
    "      # Motion Sensor\n",
    "      for i in range(len(M)):\n",
    "        sensorNames.append(Name(i, 'M'))\n",
    "        if M[i] == 1:\n",
    "          if (previous_M != None):\n",
    "            if (previous_M[i] == 0):\n",
    "              MotionSensor_Names.append(Name(i,'M'))\n",
    "              MotionSensor_Message.append('ON')\n",
    "\n",
    "          else:\n",
    "            MotionSensor_Names.append(Name(i,'M'))\n",
    "            MotionSensor_Message.append('ON')\n",
    "\n",
    "        if previous_M != None:\n",
    "          if M[i] == 0 and previous_M[i] == 1:\n",
    "            MotionSensor_Names.append(Name(i,'M'))\n",
    "            MotionSensor_Message.append('OFF')\n",
    "\n",
    "      previous_M = M\n",
    "      # Beacon Sensor\n",
    "\n",
    "      try:\n",
    "        for i in range(len(B)):\n",
    "          sensorNames.append(Name(i, 'B'))\n",
    "          if B[i] == 1:\n",
    "            BeaconSensor_Names.append(Name(i,'B'))\n",
    "            BeaconSensor_Message.append('ON')\n",
    "          if previous_B != None:\n",
    "            if B[i] == 0 and previous_B[i] == 1: \n",
    "              BeaconSensor_Names.append(Name(i,'B'))\n",
    "              BeaconSensor_Message.append('OFF')\n",
    "        previous_B = B\n",
    "\n",
    "      except:\n",
    "        pass\n",
    "\n",
    "      for m in range(len(MotionSensor_Names)):\n",
    "        output_file.append(time +' '+ MotionSensor_Names[m] + ' ' + MotionSensor_Names[m] + ' ' + MotionSensor_Message[m] + ' ' + Activity)\n",
    "        \n",
    "      for s in sensorNames:\n",
    "          sensors.add(s)\n",
    "\n",
    "    return output_file, list(sensors)\n",
    "\n",
    "#returns the name of the sensor\n",
    "def Name(number, typeSensor):\n",
    "    if number < 10:\n",
    "      return typeSensor + str(0) + str(number)\n",
    "    else:\n",
    "      return typeSensor + str(number)\n",
    "\n",
    "#converts epoch time to human readable\n",
    "def convertTime(posix_timestamp):\n",
    "    tz = pytz.timezone('MST')\n",
    "    dt = datetime.fromtimestamp(posix_timestamp, tz)\n",
    "    time = dt.strftime('%Y-%m-%d %H:%M:%S.%f')[:-3]\n",
    "    return time\n",
    "\n",
    "def MakeDataBoundaries(height = 10.5, width = 6.6, MaxSensors = 15):\n",
    "    from collections import defaultdict, OrderedDict\n",
    "\n",
    "    d = dict()\n",
    "\n",
    "    for idx in range(MaxSensors):\n",
    "            d['x' + str(idx)] = (0.5, width - 0.5)\n",
    "            d['y' + str(idx)] = (0.5, height - 0.5)\n",
    "\n",
    "    return d\n",
    "\n",
    "def black_box_function(sample, simulateMotionSensors = True, simulateEstimotes = False, Plotting = False):       \n",
    "    files = []\n",
    "\n",
    "    if (runningOnGoogleColab == True):\n",
    "        sys.path.append('gdrive/My Drive/PhD/Thesis/Ideas/Codes/Sensor Simulator/')\n",
    "        Data_path = 'gdrive/My Drive/PhD/Thesis/Ideas/Codes/Sensor Simulator/'\n",
    "        \n",
    "    else:\n",
    "        sys.path.append('../../Codes/Sensor Simulator/')\n",
    "        Data_path = '../../Codes/Sensor Simulator/'\n",
    "\n",
    "    all_sensors = set([])\n",
    "\n",
    "    for agentTrace in BOV.agentTraces:\n",
    "        df_ = sim_sis.RunSimulator(BOV.space, BOV.rooms, agentTrace, sample.GetSensorConfiguration(), simulateMotionSensors, simulateEstimotes, Plotting, BOV.Data_path)\n",
    "        dataFile, sensors = PreProcessor(df_)\n",
    "        all_sensors.update(sensors)\n",
    "        files.append(dataFile)\n",
    "        \n",
    "    \n",
    "    if (runningOnGoogleColab == True):\n",
    "        sys.path.append('gdrive/My Drive/PhD/Thesis/Ideas/Codes/CASAS/AL-Smarthome')\n",
    "\n",
    "    else:\n",
    "        sys.path.append('../../Codes/CASAS/AL-Smarthome')\n",
    "\n",
    "    import al\n",
    "    import imp\n",
    "    imp.reload(al)\n",
    "    all_sensors = list(all_sensors)\n",
    "\n",
    "    accuracy = (al.leave_one_out(files, all_sensors)[0]) * 100\n",
    "\n",
    "    if accuracy < 0:\n",
    "        accuracy = 0\n",
    "\n",
    "    return 100 - accuracy\n",
    "\n",
    "def function_to_be_optimized(config):\n",
    "    sensorPositions = []\n",
    "    sensor_xy = []\n",
    "    for i in range(1, 16):\n",
    "      # print(config['x' + str(i)])\n",
    "      # print(config['y' + str(i)])\n",
    "      \n",
    "      sensor_xy.append(config['x' + str(i)])\n",
    "      sensor_xy.append(config['y' + str(i)])\n",
    "      sensorPositions.append(sensor_xy)\n",
    "      sensor_xy = []\n",
    "\n",
    "    data = Data(sensorPositions, BOV.space, CONSTANTS['epsilon'])\n",
    "    return black_box_function(data)"
   ]
  },
  {
   "cell_type": "code",
   "execution_count": 3,
   "metadata": {
    "colab": {
     "base_uri": "https://localhost:8080/"
    },
    "id": "UZjfE2cPwhkE",
    "outputId": "024bf443-0d70-4052-a7f3-e43c1fbdabf9"
   },
   "outputs": [
    {
     "name": "stderr",
     "output_type": "stream",
     "text": [
      "\r",
      "  0%|          | 0/1000 [00:00<?, ?it/s]"
     ]
    },
    {
     "name": "stdout",
     "output_type": "stream",
     "text": [
      "[INFO] [2021-10-31 14:23:34,510] [OpenBox-Shadan] Iteration 1, objective value: [100.0].\n"
     ]
    },
    {
     "name": "stderr",
     "output_type": "stream",
     "text": [
      "\r",
      "  0%|          | 1/1000 [00:23<6:28:39, 23.34s/it]"
     ]
    },
    {
     "name": "stdout",
     "output_type": "stream",
     "text": [
      "[INFO] [2021-10-31 14:24:09,581] [OpenBox-Shadan] Iteration 2, objective value: [49.7625155784561].\n"
     ]
    },
    {
     "name": "stderr",
     "output_type": "stream",
     "text": [
      "\r",
      "  0%|          | 2/1000 [00:58<8:23:00, 30.24s/it]"
     ]
    },
    {
     "name": "stdout",
     "output_type": "stream",
     "text": [
      "[INFO] [2021-10-31 14:24:49,818] [OpenBox-Shadan] Iteration 3, objective value: [49.45431545435073].\n"
     ]
    },
    {
     "name": "stderr",
     "output_type": "stream",
     "text": [
      "\r",
      "  0%|          | 3/1000 [01:38<9:38:20, 34.81s/it]"
     ]
    },
    {
     "name": "stdout",
     "output_type": "stream",
     "text": [
      "[INFO] [2021-10-31 14:25:29,362] [OpenBox-Shadan] Iteration 4, objective value: [47.063041143683606].\n"
     ]
    },
    {
     "name": "stderr",
     "output_type": "stream",
     "text": [
      "\r",
      "  0%|          | 4/1000 [02:18<10:08:49, 36.68s/it]"
     ]
    },
    {
     "name": "stdout",
     "output_type": "stream",
     "text": [
      "[INFO] [2021-10-31 14:26:08,804] [OpenBox-Shadan] Iteration 5, objective value: [50.11568891894763].\n"
     ]
    },
    {
     "name": "stderr",
     "output_type": "stream",
     "text": [
      "\r",
      "  0%|          | 5/1000 [02:57<10:24:45, 37.67s/it]"
     ]
    },
    {
     "name": "stdout",
     "output_type": "stream",
     "text": [
      "[INFO] [2021-10-31 14:27:04,322] [OpenBox-Shadan] Iteration 6, objective value: [52.83807743619223].\n"
     ]
    },
    {
     "name": "stderr",
     "output_type": "stream",
     "text": [
      "\r",
      "  1%|          | 6/1000 [03:53<12:04:38, 43.74s/it]"
     ]
    },
    {
     "name": "stdout",
     "output_type": "stream",
     "text": [
      "[INFO] [2021-10-31 14:27:56,040] [OpenBox-Shadan] Iteration 7, objective value: [47.67282305733034].\n"
     ]
    },
    {
     "name": "stderr",
     "output_type": "stream",
     "text": [
      "\r",
      "  1%|          | 7/1000 [04:44<12:47:04, 46.35s/it]"
     ]
    },
    {
     "name": "stdout",
     "output_type": "stream",
     "text": [
      "[INFO] [2021-10-31 14:28:50,626] [OpenBox-Shadan] Iteration 8, objective value: [47.857400706384844].\n"
     ]
    },
    {
     "name": "stderr",
     "output_type": "stream",
     "text": [
      "\r",
      "  1%|          | 8/1000 [05:39<13:29:39, 48.97s/it]"
     ]
    },
    {
     "name": "stdout",
     "output_type": "stream",
     "text": [
      "[INFO] [2021-10-31 14:29:37,614] [OpenBox-Shadan] Iteration 9, objective value: [53.592209539193945].\n"
     ]
    },
    {
     "name": "stderr",
     "output_type": "stream",
     "text": [
      "\r",
      "  1%|          | 9/1000 [06:26<13:18:35, 48.35s/it]"
     ]
    },
    {
     "name": "stdout",
     "output_type": "stream",
     "text": [
      "[INFO] [2021-10-31 14:30:21,283] [OpenBox-Shadan] Iteration 10, objective value: [43.56730325466679].\n"
     ]
    },
    {
     "name": "stderr",
     "output_type": "stream",
     "text": [
      "\r",
      "  1%|          | 10/1000 [07:10<12:53:56, 46.91s/it]"
     ]
    },
    {
     "name": "stdout",
     "output_type": "stream",
     "text": [
      "[INFO] [2021-10-31 14:31:00,522] [OpenBox-Shadan] Iteration 11, objective value: [50.420001637553675].\n"
     ]
    },
    {
     "name": "stderr",
     "output_type": "stream",
     "text": [
      "\r",
      "  1%|          | 11/1000 [07:49<12:14:29, 44.56s/it]"
     ]
    },
    {
     "name": "stdout",
     "output_type": "stream",
     "text": [
      "[INFO] [2021-10-31 14:31:40,253] [OpenBox-Shadan] Iteration 12, objective value: [49.56468376108406].\n"
     ]
    },
    {
     "name": "stderr",
     "output_type": "stream",
     "text": [
      "\r",
      "  1%|          | 12/1000 [08:29<11:49:33, 43.09s/it]"
     ]
    },
    {
     "name": "stdout",
     "output_type": "stream",
     "text": [
      "[INFO] [2021-10-31 14:32:32,499] [OpenBox-Shadan] Iteration 13, objective value: [48.10673730326054].\n"
     ]
    },
    {
     "name": "stderr",
     "output_type": "stream",
     "text": [
      "\r",
      "  1%|▏         | 13/1000 [09:21<12:34:27, 45.86s/it]"
     ]
    },
    {
     "name": "stdout",
     "output_type": "stream",
     "text": [
      "[INFO] [2021-10-31 14:33:17,375] [OpenBox-Shadan] Iteration 14, objective value: [51.44084102487048].\n"
     ]
    },
    {
     "name": "stderr",
     "output_type": "stream",
     "text": [
      "\r",
      "  1%|▏         | 14/1000 [10:06<12:28:47, 45.57s/it]"
     ]
    },
    {
     "name": "stdout",
     "output_type": "stream",
     "text": [
      "[INFO] [2021-10-31 14:34:00,279] [OpenBox-Shadan] Iteration 15, objective value: [57.069569908600734].\n"
     ]
    },
    {
     "name": "stderr",
     "output_type": "stream",
     "text": [
      "\r",
      "  2%|▏         | 15/1000 [10:49<12:14:51, 44.76s/it]"
     ]
    },
    {
     "name": "stdout",
     "output_type": "stream",
     "text": [
      "[INFO] [2021-10-31 14:34:41,290] [OpenBox-Shadan] Iteration 16, objective value: [43.26284511755979].\n"
     ]
    },
    {
     "name": "stderr",
     "output_type": "stream",
     "text": [
      "\r",
      "  2%|▏         | 16/1000 [11:30<11:55:35, 43.63s/it]"
     ]
    },
    {
     "name": "stdout",
     "output_type": "stream",
     "text": [
      "[INFO] [2021-10-31 14:35:23,201] [OpenBox-Shadan] Iteration 17, objective value: [42.74751214275362].\n"
     ]
    },
    {
     "name": "stderr",
     "output_type": "stream",
     "text": [
      "\r",
      "  2%|▏         | 17/1000 [12:12<11:46:22, 43.12s/it]"
     ]
    },
    {
     "name": "stdout",
     "output_type": "stream",
     "text": [
      "[INFO] [2021-10-31 14:36:02,739] [OpenBox-Shadan] Iteration 18, objective value: [50.89544843741196].\n"
     ]
    },
    {
     "name": "stderr",
     "output_type": "stream",
     "text": [
      "\r",
      "  2%|▏         | 18/1000 [12:51<11:28:04, 42.04s/it]"
     ]
    },
    {
     "name": "stdout",
     "output_type": "stream",
     "text": [
      "[INFO] [2021-10-31 14:36:48,744] [OpenBox-Shadan] Iteration 19, objective value: [49.70294241245094].\n"
     ]
    },
    {
     "name": "stderr",
     "output_type": "stream",
     "text": [
      "\r",
      "  2%|▏         | 19/1000 [13:37<11:46:49, 43.23s/it]"
     ]
    },
    {
     "name": "stdout",
     "output_type": "stream",
     "text": [
      "[INFO] [2021-10-31 14:37:32,734] [OpenBox-Shadan] Iteration 20, objective value: [41.58004517816918].\n"
     ]
    },
    {
     "name": "stderr",
     "output_type": "stream",
     "text": [
      "\r",
      "  2%|▏         | 20/1000 [14:21<11:49:50, 43.46s/it]"
     ]
    },
    {
     "name": "stdout",
     "output_type": "stream",
     "text": [
      "[INFO] [2021-10-31 14:38:13,153] [OpenBox-Shadan] Iteration 21, objective value: [50.05046871953687].\n"
     ]
    },
    {
     "name": "stderr",
     "output_type": "stream",
     "text": [
      "\r",
      "  2%|▏         | 21/1000 [15:01<11:34:13, 42.55s/it]"
     ]
    },
    {
     "name": "stdout",
     "output_type": "stream",
     "text": [
      "[INFO] [2021-10-31 14:38:53,905] [OpenBox-Shadan] Iteration 22, objective value: [51.07986467527084].\n"
     ]
    },
    {
     "name": "stderr",
     "output_type": "stream",
     "text": [
      "\r",
      "  2%|▏         | 22/1000 [15:42<11:24:43, 42.01s/it]"
     ]
    },
    {
     "name": "stdout",
     "output_type": "stream",
     "text": [
      "[INFO] [2021-10-31 14:39:32,139] [OpenBox-Shadan] Iteration 23, objective value: [39.897294390459315].\n"
     ]
    },
    {
     "name": "stderr",
     "output_type": "stream",
     "text": [
      "\r",
      "  2%|▏         | 23/1000 [16:20<11:05:35, 40.88s/it]"
     ]
    },
    {
     "name": "stdout",
     "output_type": "stream",
     "text": [
      "[INFO] [2021-10-31 14:40:15,438] [OpenBox-Shadan] Iteration 24, objective value: [52.18369500886859].\n"
     ]
    },
    {
     "name": "stderr",
     "output_type": "stream",
     "text": [
      "\r",
      "  2%|▏         | 24/1000 [17:04<11:16:44, 41.60s/it]"
     ]
    },
    {
     "name": "stdout",
     "output_type": "stream",
     "text": [
      "[INFO] [2021-10-31 14:40:50,570] [OpenBox-Shadan] Iteration 25, objective value: [52.56080952285798].\n"
     ]
    },
    {
     "name": "stderr",
     "output_type": "stream",
     "text": [
      "\r",
      "  2%|▎         | 25/1000 [17:39<10:44:29, 39.66s/it]"
     ]
    },
    {
     "name": "stdout",
     "output_type": "stream",
     "text": [
      "[INFO] [2021-10-31 14:41:35,544] [OpenBox-Shadan] Iteration 26, objective value: [39.93949929886676].\n"
     ]
    },
    {
     "name": "stderr",
     "output_type": "stream",
     "text": [
      "\r",
      "  3%|▎         | 26/1000 [18:24<11:09:42, 41.26s/it]"
     ]
    },
    {
     "name": "stdout",
     "output_type": "stream",
     "text": [
      "[INFO] [2021-10-31 14:42:29,757] [OpenBox-Shadan] Iteration 27, objective value: [55.22189140875587].\n"
     ]
    },
    {
     "name": "stderr",
     "output_type": "stream",
     "text": [
      "\r",
      "  3%|▎         | 27/1000 [19:18<12:12:03, 45.14s/it]"
     ]
    },
    {
     "name": "stdout",
     "output_type": "stream",
     "text": [
      "[INFO] [2021-10-31 14:43:13,385] [OpenBox-Shadan] Iteration 28, objective value: [44.838162092529245].\n"
     ]
    },
    {
     "name": "stderr",
     "output_type": "stream",
     "text": [
      "\r",
      "  3%|▎         | 28/1000 [20:02<12:03:57, 44.69s/it]"
     ]
    },
    {
     "name": "stdout",
     "output_type": "stream",
     "text": [
      "[INFO] [2021-10-31 14:43:56,241] [OpenBox-Shadan] Iteration 29, objective value: [51.10538721576713].\n"
     ]
    },
    {
     "name": "stderr",
     "output_type": "stream",
     "text": [
      "\r",
      "  3%|▎         | 29/1000 [20:45<11:54:18, 44.14s/it]"
     ]
    },
    {
     "name": "stdout",
     "output_type": "stream",
     "text": [
      "[INFO] [2021-10-31 14:44:40,002] [OpenBox-Shadan] Iteration 30, objective value: [48.040423688382226].\n"
     ]
    },
    {
     "name": "stderr",
     "output_type": "stream",
     "text": [
      "\r",
      "  3%|▎         | 30/1000 [21:28<11:51:44, 44.03s/it]"
     ]
    },
    {
     "name": "stdout",
     "output_type": "stream",
     "text": [
      "[INFO] [2021-10-31 14:45:25,328] [OpenBox-Shadan] Iteration 31, objective value: [53.475066998512396].\n"
     ]
    },
    {
     "name": "stderr",
     "output_type": "stream",
     "text": [
      "\r",
      "  3%|▎         | 31/1000 [22:14<11:57:18, 44.42s/it]"
     ]
    },
    {
     "name": "stdout",
     "output_type": "stream",
     "text": [
      "[INFO] [2021-10-31 14:46:06,165] [OpenBox-Shadan] Iteration 32, objective value: [50.10351705757322].\n"
     ]
    },
    {
     "name": "stderr",
     "output_type": "stream",
     "text": [
      "\r",
      "  3%|▎         | 32/1000 [22:54<11:39:15, 43.34s/it]"
     ]
    },
    {
     "name": "stdout",
     "output_type": "stream",
     "text": [
      "[INFO] [2021-10-31 14:46:47,373] [OpenBox-Shadan] Iteration 33, objective value: [36.25300221092711].\n"
     ]
    },
    {
     "name": "stderr",
     "output_type": "stream",
     "text": [
      "\r",
      "  3%|▎         | 33/1000 [23:36<11:28:12, 42.70s/it]"
     ]
    },
    {
     "name": "stdout",
     "output_type": "stream",
     "text": [
      "[INFO] [2021-10-31 14:47:34,705] [OpenBox-Shadan] Iteration 34, objective value: [49.40468483286175].\n"
     ]
    },
    {
     "name": "stderr",
     "output_type": "stream",
     "text": [
      "\r",
      "  3%|▎         | 34/1000 [24:23<11:49:51, 44.09s/it]"
     ]
    },
    {
     "name": "stdout",
     "output_type": "stream",
     "text": [
      "[INFO] [2021-10-31 14:48:18,308] [OpenBox-Shadan] Iteration 35, objective value: [53.991727759855095].\n"
     ]
    },
    {
     "name": "stderr",
     "output_type": "stream",
     "text": [
      "\r",
      "  4%|▎         | 35/1000 [25:07<11:46:46, 43.94s/it]"
     ]
    },
    {
     "name": "stdout",
     "output_type": "stream",
     "text": [
      "[INFO] [2021-10-31 14:48:58,885] [OpenBox-Shadan] Iteration 36, objective value: [34.92046689157226].\n"
     ]
    },
    {
     "name": "stderr",
     "output_type": "stream",
     "text": [
      "\r",
      "  4%|▎         | 36/1000 [25:47<11:29:48, 42.93s/it]"
     ]
    },
    {
     "name": "stdout",
     "output_type": "stream",
     "text": [
      "[INFO] [2021-10-31 14:49:40,773] [OpenBox-Shadan] Iteration 37, objective value: [36.41408653063759].\n"
     ]
    },
    {
     "name": "stderr",
     "output_type": "stream",
     "text": [
      "\r",
      "  4%|▎         | 37/1000 [26:29<11:24:03, 42.62s/it]"
     ]
    },
    {
     "name": "stdout",
     "output_type": "stream",
     "text": [
      "[INFO] [2021-10-31 14:50:42,383] [OpenBox-Shadan] Iteration 38, objective value: [46.06211339422097].\n"
     ]
    },
    {
     "name": "stderr",
     "output_type": "stream",
     "text": [
      "\r",
      "  4%|▍         | 38/1000 [27:31<12:54:41, 48.32s/it]"
     ]
    },
    {
     "name": "stdout",
     "output_type": "stream",
     "text": [
      "[INFO] [2021-10-31 14:51:24,407] [OpenBox-Shadan] Iteration 39, objective value: [30.23046442709544].\n"
     ]
    },
    {
     "name": "stderr",
     "output_type": "stream",
     "text": [
      "\r",
      "  4%|▍         | 39/1000 [28:13<12:23:38, 46.43s/it]"
     ]
    },
    {
     "name": "stdout",
     "output_type": "stream",
     "text": [
      "[INFO] [2021-10-31 14:52:13,638] [OpenBox-Shadan] Iteration 40, objective value: [35.20612674711889].\n"
     ]
    },
    {
     "name": "stderr",
     "output_type": "stream",
     "text": [
      "\r",
      "  4%|▍         | 40/1000 [29:02<12:36:19, 47.27s/it]"
     ]
    },
    {
     "name": "stdout",
     "output_type": "stream",
     "text": [
      "[INFO] [2021-10-31 14:53:02,912] [OpenBox-Shadan] Iteration 41, objective value: [46.384042313567186].\n"
     ]
    },
    {
     "name": "stderr",
     "output_type": "stream",
     "text": [
      "\r",
      "  4%|▍         | 41/1000 [29:51<12:45:08, 47.87s/it]"
     ]
    },
    {
     "name": "stdout",
     "output_type": "stream",
     "text": [
      "[INFO] [2021-10-31 14:53:41,103] [OpenBox-Shadan] Iteration 42, objective value: [34.098857100022556].\n"
     ]
    },
    {
     "name": "stderr",
     "output_type": "stream",
     "text": [
      "\r",
      "  4%|▍         | 42/1000 [30:29<11:57:58, 44.97s/it]"
     ]
    },
    {
     "name": "stdout",
     "output_type": "stream",
     "text": [
      "[INFO] [2021-10-31 14:54:22,211] [OpenBox-Shadan] Iteration 43, objective value: [49.48933647900991].\n"
     ]
    },
    {
     "name": "stderr",
     "output_type": "stream",
     "text": [
      "\r",
      "  4%|▍         | 43/1000 [31:11<11:38:45, 43.81s/it]"
     ]
    },
    {
     "name": "stdout",
     "output_type": "stream",
     "text": [
      "[INFO] [2021-10-31 14:55:04,898] [OpenBox-Shadan] Iteration 44, objective value: [47.52076444022239].\n"
     ]
    },
    {
     "name": "stderr",
     "output_type": "stream",
     "text": [
      "\r",
      "  4%|▍         | 44/1000 [31:53<11:32:39, 43.47s/it]"
     ]
    },
    {
     "name": "stdout",
     "output_type": "stream",
     "text": [
      "[INFO] [2021-10-31 14:55:47,294] [OpenBox-Shadan] Iteration 45, objective value: [34.8534552809957].\n"
     ]
    },
    {
     "name": "stderr",
     "output_type": "stream",
     "text": [
      "\r",
      "  4%|▍         | 45/1000 [32:36<11:26:47, 43.15s/it]"
     ]
    },
    {
     "name": "stdout",
     "output_type": "stream",
     "text": [
      "[INFO] [2021-10-31 14:56:33,922] [OpenBox-Shadan] Iteration 46, objective value: [44.1570962520734].\n"
     ]
    },
    {
     "name": "stderr",
     "output_type": "stream",
     "text": [
      "\r",
      "  5%|▍         | 46/1000 [33:22<11:42:40, 44.19s/it]"
     ]
    },
    {
     "name": "stdout",
     "output_type": "stream",
     "text": [
      "[INFO] [2021-10-31 14:57:16,536] [OpenBox-Shadan] Iteration 47, objective value: [47.00476863020473].\n"
     ]
    },
    {
     "name": "stderr",
     "output_type": "stream",
     "text": [
      "\r",
      "  5%|▍         | 47/1000 [34:05<11:34:24, 43.72s/it]"
     ]
    },
    {
     "name": "stdout",
     "output_type": "stream",
     "text": [
      "[INFO] [2021-10-31 14:58:04,918] [OpenBox-Shadan] Iteration 48, objective value: [46.985851250231704].\n"
     ]
    },
    {
     "name": "stderr",
     "output_type": "stream",
     "text": [
      "\r",
      "  5%|▍         | 48/1000 [34:53<11:55:52, 45.12s/it]"
     ]
    },
    {
     "name": "stdout",
     "output_type": "stream",
     "text": [
      "[INFO] [2021-10-31 14:58:51,228] [OpenBox-Shadan] Iteration 49, objective value: [36.3701883192497].\n"
     ]
    },
    {
     "name": "stderr",
     "output_type": "stream",
     "text": [
      "\r",
      "  5%|▍         | 49/1000 [35:40<12:00:47, 45.48s/it]"
     ]
    },
    {
     "name": "stdout",
     "output_type": "stream",
     "text": [
      "[INFO] [2021-10-31 14:59:47,790] [OpenBox-Shadan] Iteration 50, objective value: [37.41665912405867].\n"
     ]
    },
    {
     "name": "stderr",
     "output_type": "stream",
     "text": [
      "\r",
      "  5%|▌         | 50/1000 [36:36<12:52:41, 48.80s/it]"
     ]
    },
    {
     "name": "stdout",
     "output_type": "stream",
     "text": [
      "[INFO] [2021-10-31 15:00:40,969] [OpenBox-Shadan] Iteration 51, objective value: [54.69393322701518].\n"
     ]
    },
    {
     "name": "stderr",
     "output_type": "stream",
     "text": [
      "\r",
      "  5%|▌         | 51/1000 [37:29<13:12:38, 50.11s/it]"
     ]
    },
    {
     "name": "stdout",
     "output_type": "stream",
     "text": [
      "[INFO] [2021-10-31 15:01:25,206] [OpenBox-Shadan] Iteration 52, objective value: [57.41930842472578].\n"
     ]
    },
    {
     "name": "stderr",
     "output_type": "stream",
     "text": [
      "\r",
      "  5%|▌         | 52/1000 [38:14<12:43:57, 48.35s/it]"
     ]
    },
    {
     "name": "stdout",
     "output_type": "stream",
     "text": [
      "[INFO] [2021-10-31 15:02:12,828] [OpenBox-Shadan] Iteration 53, objective value: [40.857435306136324].\n"
     ]
    },
    {
     "name": "stderr",
     "output_type": "stream",
     "text": [
      "\r",
      "  5%|▌         | 53/1000 [39:01<12:39:41, 48.13s/it]"
     ]
    },
    {
     "name": "stdout",
     "output_type": "stream",
     "text": [
      "[INFO] [2021-10-31 15:03:00,175] [OpenBox-Shadan] Iteration 54, objective value: [35.83113540808549].\n"
     ]
    },
    {
     "name": "stderr",
     "output_type": "stream",
     "text": [
      "\r",
      "  5%|▌         | 54/1000 [39:49<12:35:10, 47.90s/it]"
     ]
    },
    {
     "name": "stdout",
     "output_type": "stream",
     "text": [
      "[INFO] [2021-10-31 15:03:49,945] [OpenBox-Shadan] Iteration 55, objective value: [32.077804309018205].\n"
     ]
    },
    {
     "name": "stderr",
     "output_type": "stream",
     "text": [
      "\r",
      "  6%|▌         | 55/1000 [40:38<12:43:13, 48.46s/it]"
     ]
    },
    {
     "name": "stdout",
     "output_type": "stream",
     "text": [
      "[INFO] [2021-10-31 15:04:34,277] [OpenBox-Shadan] Iteration 56, objective value: [41.50536250189701].\n"
     ]
    },
    {
     "name": "stderr",
     "output_type": "stream",
     "text": [
      "\r",
      "  6%|▌         | 56/1000 [41:23<12:22:56, 47.22s/it]"
     ]
    },
    {
     "name": "stdout",
     "output_type": "stream",
     "text": [
      "[INFO] [2021-10-31 15:05:22,900] [OpenBox-Shadan] Iteration 57, objective value: [46.29917793475562].\n"
     ]
    },
    {
     "name": "stderr",
     "output_type": "stream",
     "text": [
      "\r",
      "  6%|▌         | 57/1000 [42:11<12:28:46, 47.64s/it]"
     ]
    },
    {
     "name": "stdout",
     "output_type": "stream",
     "text": [
      "[INFO] [2021-10-31 15:06:09,572] [OpenBox-Shadan] Iteration 58, objective value: [38.2348567017482].\n"
     ]
    },
    {
     "name": "stderr",
     "output_type": "stream",
     "text": [
      "\r",
      "  6%|▌         | 58/1000 [42:58<12:23:24, 47.35s/it]"
     ]
    },
    {
     "name": "stdout",
     "output_type": "stream",
     "text": [
      "[INFO] [2021-10-31 15:06:48,905] [OpenBox-Shadan] Iteration 59, objective value: [55.82313281414192].\n"
     ]
    },
    {
     "name": "stderr",
     "output_type": "stream",
     "text": [
      "\r",
      "  6%|▌         | 59/1000 [43:37<11:44:53, 44.95s/it]"
     ]
    },
    {
     "name": "stdout",
     "output_type": "stream",
     "text": [
      "[INFO] [2021-10-31 15:07:31,828] [OpenBox-Shadan] Iteration 60, objective value: [56.51595428595272].\n"
     ]
    },
    {
     "name": "stderr",
     "output_type": "stream",
     "text": [
      "\r",
      "  6%|▌         | 60/1000 [44:20<11:34:38, 44.34s/it]"
     ]
    },
    {
     "name": "stdout",
     "output_type": "stream",
     "text": [
      "[INFO] [2021-10-31 15:08:14,570] [OpenBox-Shadan] Iteration 61, objective value: [53.50054724689819].\n"
     ]
    },
    {
     "name": "stderr",
     "output_type": "stream",
     "text": [
      "\r",
      "  6%|▌         | 61/1000 [45:03<11:26:24, 43.86s/it]"
     ]
    },
    {
     "name": "stdout",
     "output_type": "stream",
     "text": [
      "[INFO] [2021-10-31 15:08:51,083] [OpenBox-Shadan] Iteration 62, objective value: [32.02876311405892].\n"
     ]
    },
    {
     "name": "stderr",
     "output_type": "stream",
     "text": [
      "\r",
      "  6%|▌         | 62/1000 [45:39<10:51:12, 41.66s/it]"
     ]
    },
    {
     "name": "stdout",
     "output_type": "stream",
     "text": [
      "[INFO] [2021-10-31 15:09:46,965] [OpenBox-Shadan] Iteration 63, objective value: [47.744221601097856].\n"
     ]
    },
    {
     "name": "stderr",
     "output_type": "stream",
     "text": [
      "\r",
      "  6%|▋         | 63/1000 [46:35<11:57:10, 45.92s/it]"
     ]
    },
    {
     "name": "stdout",
     "output_type": "stream",
     "text": [
      "[INFO] [2021-10-31 15:10:41,760] [OpenBox-Shadan] Iteration 64, objective value: [34.547670910746916].\n"
     ]
    },
    {
     "name": "stderr",
     "output_type": "stream",
     "text": [
      "\r",
      "  6%|▋         | 64/1000 [47:30<12:37:55, 48.58s/it]"
     ]
    },
    {
     "name": "stdout",
     "output_type": "stream",
     "text": [
      "[INFO] [2021-10-31 15:11:33,943] [OpenBox-Shadan] Iteration 65, objective value: [59.87470312807376].\n"
     ]
    },
    {
     "name": "stderr",
     "output_type": "stream",
     "text": [
      "\r",
      "  6%|▋         | 65/1000 [48:22<12:53:56, 49.66s/it]"
     ]
    },
    {
     "name": "stdout",
     "output_type": "stream",
     "text": [
      "[INFO] [2021-10-31 15:12:25,359] [OpenBox-Shadan] Iteration 66, objective value: [39.334515857052196].\n"
     ]
    },
    {
     "name": "stderr",
     "output_type": "stream",
     "text": [
      "\r",
      "  7%|▋         | 66/1000 [49:14<13:01:17, 50.19s/it]"
     ]
    },
    {
     "name": "stdout",
     "output_type": "stream",
     "text": [
      "[INFO] [2021-10-31 15:13:09,803] [OpenBox-Shadan] Iteration 67, objective value: [34.17714965352701].\n"
     ]
    },
    {
     "name": "stderr",
     "output_type": "stream",
     "text": [
      "\r",
      "  7%|▋         | 67/1000 [49:58<12:33:38, 48.47s/it]"
     ]
    },
    {
     "name": "stdout",
     "output_type": "stream",
     "text": [
      "[INFO] [2021-10-31 15:14:01,937] [OpenBox-Shadan] Iteration 68, objective value: [48.96197396140198].\n"
     ]
    },
    {
     "name": "stderr",
     "output_type": "stream",
     "text": [
      "\r",
      "  7%|▋         | 68/1000 [50:50<12:49:56, 49.57s/it]"
     ]
    },
    {
     "name": "stdout",
     "output_type": "stream",
     "text": [
      "[INFO] [2021-10-31 15:14:53,689] [OpenBox-Shadan] Iteration 69, objective value: [40.80556388830651].\n"
     ]
    },
    {
     "name": "stderr",
     "output_type": "stream",
     "text": [
      "\r",
      "  7%|▋         | 69/1000 [51:42<12:59:16, 50.22s/it]"
     ]
    },
    {
     "name": "stdout",
     "output_type": "stream",
     "text": [
      "[INFO] [2021-10-31 15:15:43,882] [OpenBox-Shadan] Iteration 70, objective value: [31.356360708406527].\n"
     ]
    },
    {
     "name": "stderr",
     "output_type": "stream",
     "text": [
      "\r",
      "  7%|▋         | 70/1000 [52:32<12:58:18, 50.21s/it]"
     ]
    },
    {
     "name": "stdout",
     "output_type": "stream",
     "text": [
      "[INFO] [2021-10-31 15:16:33,895] [OpenBox-Shadan] Iteration 71, objective value: [37.61721168091896].\n"
     ]
    },
    {
     "name": "stderr",
     "output_type": "stream",
     "text": [
      "\r",
      "  7%|▋         | 71/1000 [53:22<12:56:32, 50.15s/it]"
     ]
    },
    {
     "name": "stdout",
     "output_type": "stream",
     "text": [
      "[INFO] [2021-10-31 15:17:22,259] [OpenBox-Shadan] Iteration 72, objective value: [36.326120663017214].\n"
     ]
    },
    {
     "name": "stderr",
     "output_type": "stream",
     "text": [
      "\r",
      "  7%|▋         | 72/1000 [54:11<12:47:24, 49.62s/it]"
     ]
    },
    {
     "name": "stdout",
     "output_type": "stream",
     "text": [
      "[INFO] [2021-10-31 15:18:23,809] [OpenBox-Shadan] Iteration 73, objective value: [66.70588202317902].\n"
     ]
    },
    {
     "name": "stderr",
     "output_type": "stream",
     "text": [
      "\r",
      "  7%|▋         | 73/1000 [55:12<13:41:53, 53.20s/it]"
     ]
    },
    {
     "name": "stdout",
     "output_type": "stream",
     "text": [
      "[INFO] [2021-10-31 15:19:14,992] [OpenBox-Shadan] Iteration 74, objective value: [31.70006025432086].\n"
     ]
    },
    {
     "name": "stderr",
     "output_type": "stream",
     "text": [
      "\r",
      "  7%|▋         | 74/1000 [56:03<13:31:40, 52.59s/it]"
     ]
    },
    {
     "name": "stdout",
     "output_type": "stream",
     "text": [
      "[INFO] [2021-10-31 15:20:04,253] [OpenBox-Shadan] Iteration 75, objective value: [38.96694258264183].\n"
     ]
    },
    {
     "name": "stderr",
     "output_type": "stream",
     "text": [
      "\r",
      "  8%|▊         | 75/1000 [56:53<13:15:23, 51.59s/it]"
     ]
    },
    {
     "name": "stdout",
     "output_type": "stream",
     "text": [
      "[INFO] [2021-10-31 15:20:57,777] [OpenBox-Shadan] Iteration 76, objective value: [50.054340638486394].\n"
     ]
    },
    {
     "name": "stderr",
     "output_type": "stream",
     "text": [
      "\r",
      "  8%|▊         | 76/1000 [57:46<13:23:27, 52.17s/it]"
     ]
    },
    {
     "name": "stdout",
     "output_type": "stream",
     "text": [
      "[INFO] [2021-10-31 15:21:49,102] [OpenBox-Shadan] Iteration 77, objective value: [31.342528207287515].\n"
     ]
    },
    {
     "name": "stderr",
     "output_type": "stream",
     "text": [
      "\r",
      "  8%|▊         | 77/1000 [58:37<13:18:40, 51.92s/it]"
     ]
    },
    {
     "name": "stdout",
     "output_type": "stream",
     "text": [
      "[INFO] [2021-10-31 15:22:46,421] [OpenBox-Shadan] Iteration 78, objective value: [39.75943347937202].\n"
     ]
    },
    {
     "name": "stderr",
     "output_type": "stream",
     "text": [
      "\r",
      "  8%|▊         | 78/1000 [59:35<13:42:42, 53.54s/it]"
     ]
    },
    {
     "name": "stdout",
     "output_type": "stream",
     "text": [
      "[INFO] [2021-10-31 15:23:36,581] [OpenBox-Shadan] Iteration 79, objective value: [44.96522755105602].\n"
     ]
    },
    {
     "name": "stderr",
     "output_type": "stream",
     "text": [
      "\r",
      "  8%|▊         | 79/1000 [1:00:25<13:26:15, 52.52s/it]"
     ]
    },
    {
     "name": "stdout",
     "output_type": "stream",
     "text": [
      "[INFO] [2021-10-31 15:24:21,156] [OpenBox-Shadan] Iteration 80, objective value: [45.76337054530353].\n"
     ]
    },
    {
     "name": "stderr",
     "output_type": "stream",
     "text": [
      "\r",
      "  8%|▊         | 80/1000 [1:01:09<12:48:48, 50.14s/it]"
     ]
    },
    {
     "name": "stdout",
     "output_type": "stream",
     "text": [
      "[INFO] [2021-10-31 15:25:29,571] [OpenBox-Shadan] Iteration 81, objective value: [49.815214223158655].\n"
     ]
    },
    {
     "name": "stderr",
     "output_type": "stream",
     "text": [
      "\r",
      "  8%|▊         | 81/1000 [1:02:18<14:11:57, 55.62s/it]"
     ]
    },
    {
     "name": "stdout",
     "output_type": "stream",
     "text": [
      "[INFO] [2021-10-31 15:26:16,267] [OpenBox-Shadan] Iteration 82, objective value: [38.8526852496735].\n"
     ]
    },
    {
     "name": "stderr",
     "output_type": "stream",
     "text": [
      "\r",
      "  8%|▊         | 82/1000 [1:03:05<13:30:03, 52.94s/it]"
     ]
    },
    {
     "name": "stdout",
     "output_type": "stream",
     "text": [
      "[INFO] [2021-10-31 15:27:02,361] [OpenBox-Shadan] Iteration 83, objective value: [45.975315830103014].\n"
     ]
    },
    {
     "name": "stderr",
     "output_type": "stream",
     "text": [
      "\r",
      "  8%|▊         | 83/1000 [1:03:51<12:57:45, 50.89s/it]"
     ]
    },
    {
     "name": "stdout",
     "output_type": "stream",
     "text": [
      "[INFO] [2021-10-31 15:27:43,762] [OpenBox-Shadan] Iteration 84, objective value: [45.42363586694853].\n"
     ]
    },
    {
     "name": "stderr",
     "output_type": "stream",
     "text": [
      "\r",
      "  8%|▊         | 84/1000 [1:04:32<12:13:27, 48.04s/it]"
     ]
    },
    {
     "name": "stdout",
     "output_type": "stream",
     "text": [
      "[INFO] [2021-10-31 15:28:37,141] [OpenBox-Shadan] Iteration 85, objective value: [32.73847226577945].\n"
     ]
    },
    {
     "name": "stderr",
     "output_type": "stream",
     "text": [
      "\r",
      "  8%|▊         | 85/1000 [1:05:25<12:37:03, 49.64s/it]"
     ]
    },
    {
     "name": "stdout",
     "output_type": "stream",
     "text": [
      "[INFO] [2021-10-31 15:29:26,697] [OpenBox-Shadan] Iteration 86, objective value: [33.9377495973647].\n"
     ]
    },
    {
     "name": "stderr",
     "output_type": "stream",
     "text": [
      "\r",
      "  9%|▊         | 86/1000 [1:06:15<12:35:50, 49.62s/it]"
     ]
    },
    {
     "name": "stdout",
     "output_type": "stream",
     "text": [
      "[INFO] [2021-10-31 15:30:11,825] [OpenBox-Shadan] Iteration 87, objective value: [51.649851455608534].\n"
     ]
    },
    {
     "name": "stderr",
     "output_type": "stream",
     "text": [
      "\r",
      "  9%|▊         | 87/1000 [1:07:00<12:14:31, 48.27s/it]"
     ]
    },
    {
     "name": "stdout",
     "output_type": "stream",
     "text": [
      "[INFO] [2021-10-31 15:31:05,146] [OpenBox-Shadan] Iteration 88, objective value: [32.54946268168608].\n"
     ]
    },
    {
     "name": "stderr",
     "output_type": "stream",
     "text": [
      "\r",
      "  9%|▉         | 88/1000 [1:07:53<12:36:44, 49.79s/it]"
     ]
    },
    {
     "name": "stdout",
     "output_type": "stream",
     "text": [
      "[INFO] [2021-10-31 15:32:09,155] [OpenBox-Shadan] Iteration 89, objective value: [52.48765957957964].\n"
     ]
    },
    {
     "name": "stderr",
     "output_type": "stream",
     "text": [
      "\r",
      "  9%|▉         | 89/1000 [1:08:57<13:40:42, 54.05s/it]"
     ]
    },
    {
     "name": "stdout",
     "output_type": "stream",
     "text": [
      "[INFO] [2021-10-31 15:33:07,957] [OpenBox-Shadan] Iteration 90, objective value: [37.540748616837384].\n"
     ]
    },
    {
     "name": "stderr",
     "output_type": "stream",
     "text": [
      "\r",
      "  9%|▉         | 90/1000 [1:09:56<14:01:24, 55.48s/it]"
     ]
    },
    {
     "name": "stdout",
     "output_type": "stream",
     "text": [
      "[INFO] [2021-10-31 15:33:56,455] [OpenBox-Shadan] Iteration 91, objective value: [43.153562184954055].\n"
     ]
    },
    {
     "name": "stderr",
     "output_type": "stream",
     "text": [
      "\r",
      "  9%|▉         | 91/1000 [1:10:45<13:28:45, 53.38s/it]"
     ]
    },
    {
     "name": "stdout",
     "output_type": "stream",
     "text": [
      "[INFO] [2021-10-31 15:34:43,731] [OpenBox-Shadan] Iteration 92, objective value: [51.32841495108962].\n"
     ]
    },
    {
     "name": "stderr",
     "output_type": "stream",
     "text": [
      "\r",
      "  9%|▉         | 92/1000 [1:11:32<13:00:08, 51.55s/it]"
     ]
    },
    {
     "name": "stdout",
     "output_type": "stream",
     "text": [
      "[INFO] [2021-10-31 15:35:34,587] [OpenBox-Shadan] Iteration 93, objective value: [46.53880742826454].\n"
     ]
    },
    {
     "name": "stderr",
     "output_type": "stream",
     "text": [
      "\r",
      "  9%|▉         | 93/1000 [1:12:23<12:56:07, 51.34s/it]"
     ]
    },
    {
     "name": "stdout",
     "output_type": "stream",
     "text": [
      "[INFO] [2021-10-31 15:36:17,908] [OpenBox-Shadan] Iteration 94, objective value: [42.54428895182585].\n"
     ]
    },
    {
     "name": "stderr",
     "output_type": "stream",
     "text": [
      "\r",
      "  9%|▉         | 94/1000 [1:13:06<12:18:56, 48.94s/it]"
     ]
    },
    {
     "name": "stdout",
     "output_type": "stream",
     "text": [
      "[INFO] [2021-10-31 15:37:15,584] [OpenBox-Shadan] Iteration 95, objective value: [33.38087864170572].\n"
     ]
    },
    {
     "name": "stderr",
     "output_type": "stream",
     "text": [
      "\r",
      " 10%|▉         | 95/1000 [1:14:04<12:57:40, 51.56s/it]"
     ]
    },
    {
     "name": "stdout",
     "output_type": "stream",
     "text": [
      "[INFO] [2021-10-31 15:38:36,370] [OpenBox-Shadan] Iteration 96, objective value: [48.069734452086756].\n"
     ]
    },
    {
     "name": "stderr",
     "output_type": "stream",
     "text": [
      "\r",
      " 10%|▉         | 96/1000 [1:15:25<15:08:55, 60.33s/it]"
     ]
    },
    {
     "name": "stdout",
     "output_type": "stream",
     "text": [
      "[INFO] [2021-10-31 15:39:24,459] [OpenBox-Shadan] Iteration 97, objective value: [41.91085737017786].\n"
     ]
    },
    {
     "name": "stderr",
     "output_type": "stream",
     "text": [
      "\r",
      " 10%|▉         | 97/1000 [1:16:13<14:12:39, 56.66s/it]"
     ]
    },
    {
     "name": "stdout",
     "output_type": "stream",
     "text": [
      "[INFO] [2021-10-31 15:40:22,710] [OpenBox-Shadan] Iteration 98, objective value: [48.27628606997825].\n"
     ]
    },
    {
     "name": "stderr",
     "output_type": "stream",
     "text": [
      "\r",
      " 10%|▉         | 98/1000 [1:17:11<14:18:54, 57.13s/it]"
     ]
    },
    {
     "name": "stdout",
     "output_type": "stream",
     "text": [
      "[INFO] [2021-10-31 15:41:22,911] [OpenBox-Shadan] Iteration 99, objective value: [34.44258876400963].\n"
     ]
    },
    {
     "name": "stderr",
     "output_type": "stream",
     "text": [
      "\r",
      " 10%|▉         | 99/1000 [1:18:11<14:31:46, 58.05s/it]"
     ]
    },
    {
     "name": "stdout",
     "output_type": "stream",
     "text": [
      "[INFO] [2021-10-31 15:42:20,173] [OpenBox-Shadan] Iteration 100, objective value: [43.01622557824582].\n"
     ]
    },
    {
     "name": "stderr",
     "output_type": "stream",
     "text": [
      "\r",
      " 10%|█         | 100/1000 [1:19:09<14:27:14, 57.82s/it]"
     ]
    },
    {
     "name": "stdout",
     "output_type": "stream",
     "text": [
      "[INFO] [2021-10-31 15:43:12,090] [OpenBox-Shadan] Iteration 101, objective value: [49.960755872478344].\n"
     ]
    },
    {
     "name": "stderr",
     "output_type": "stream",
     "text": [
      "\r",
      " 10%|█         | 101/1000 [1:20:00<13:59:45, 56.05s/it]"
     ]
    },
    {
     "name": "stdout",
     "output_type": "stream",
     "text": [
      "[INFO] [2021-10-31 15:44:12,878] [OpenBox-Shadan] Iteration 102, objective value: [39.69629729482922].\n"
     ]
    },
    {
     "name": "stderr",
     "output_type": "stream",
     "text": [
      "\r",
      " 10%|█         | 102/1000 [1:21:01<14:20:07, 57.47s/it]"
     ]
    },
    {
     "name": "stdout",
     "output_type": "stream",
     "text": [
      "[INFO] [2021-10-31 15:45:06,986] [OpenBox-Shadan] Iteration 103, objective value: [37.63152033090537].\n"
     ]
    },
    {
     "name": "stderr",
     "output_type": "stream",
     "text": [
      "\r",
      " 10%|█         | 103/1000 [1:21:55<14:04:05, 56.46s/it]"
     ]
    },
    {
     "name": "stdout",
     "output_type": "stream",
     "text": [
      "[INFO] [2021-10-31 15:46:02,010] [OpenBox-Shadan] Iteration 104, objective value: [42.40276848341741].\n"
     ]
    },
    {
     "name": "stderr",
     "output_type": "stream",
     "text": [
      "\r",
      " 10%|█         | 104/1000 [1:22:50<13:56:42, 56.03s/it]"
     ]
    },
    {
     "name": "stdout",
     "output_type": "stream",
     "text": [
      "[INFO] [2021-10-31 15:47:16,748] [OpenBox-Shadan] Iteration 105, objective value: [50.41488665578579].\n"
     ]
    },
    {
     "name": "stderr",
     "output_type": "stream",
     "text": [
      "\r",
      " 10%|█         | 105/1000 [1:24:05<15:19:29, 61.64s/it]"
     ]
    },
    {
     "name": "stdout",
     "output_type": "stream",
     "text": [
      "[INFO] [2021-10-31 15:48:26,557] [OpenBox-Shadan] Iteration 106, objective value: [31.93142407331348].\n"
     ]
    },
    {
     "name": "stderr",
     "output_type": "stream",
     "text": [
      "\r",
      " 11%|█         | 106/1000 [1:25:15<15:54:58, 64.09s/it]"
     ]
    },
    {
     "name": "stdout",
     "output_type": "stream",
     "text": [
      "[INFO] [2021-10-31 15:49:29,861] [OpenBox-Shadan] Iteration 107, objective value: [41.4667668880551].\n"
     ]
    },
    {
     "name": "stderr",
     "output_type": "stream",
     "text": [
      "\r",
      " 11%|█         | 107/1000 [1:26:18<15:50:23, 63.86s/it]"
     ]
    },
    {
     "name": "stdout",
     "output_type": "stream",
     "text": [
      "[INFO] [2021-10-31 15:50:29,828] [OpenBox-Shadan] Iteration 108, objective value: [30.320960754512228].\n"
     ]
    },
    {
     "name": "stderr",
     "output_type": "stream",
     "text": [
      "\r",
      " 11%|█         | 108/1000 [1:27:18<15:31:58, 62.69s/it]"
     ]
    },
    {
     "name": "stdout",
     "output_type": "stream",
     "text": [
      "[INFO] [2021-10-31 15:51:23,239] [OpenBox-Shadan] Iteration 109, objective value: [37.56348854739151].\n"
     ]
    },
    {
     "name": "stderr",
     "output_type": "stream",
     "text": [
      "\r",
      " 11%|█         | 109/1000 [1:28:12<14:49:36, 59.91s/it]"
     ]
    },
    {
     "name": "stdout",
     "output_type": "stream",
     "text": [
      "[INFO] [2021-10-31 15:52:30,078] [OpenBox-Shadan] Iteration 110, objective value: [33.96389050918755].\n"
     ]
    },
    {
     "name": "stderr",
     "output_type": "stream",
     "text": [
      "\r",
      " 11%|█         | 110/1000 [1:29:18<15:19:27, 61.99s/it]"
     ]
    },
    {
     "name": "stdout",
     "output_type": "stream",
     "text": [
      "[INFO] [2021-10-31 15:53:28,171] [OpenBox-Shadan] Iteration 111, objective value: [38.311254560728145].\n"
     ]
    },
    {
     "name": "stderr",
     "output_type": "stream",
     "text": [
      "\r",
      " 11%|█         | 111/1000 [1:30:17<15:01:07, 60.82s/it]"
     ]
    },
    {
     "name": "stdout",
     "output_type": "stream",
     "text": [
      "[INFO] [2021-10-31 15:54:29,028] [OpenBox-Shadan] Iteration 112, objective value: [49.959678712936864].\n"
     ]
    },
    {
     "name": "stderr",
     "output_type": "stream",
     "text": [
      "\r",
      " 11%|█         | 112/1000 [1:31:17<15:00:16, 60.83s/it]"
     ]
    },
    {
     "name": "stdout",
     "output_type": "stream",
     "text": [
      "[INFO] [2021-10-31 15:55:28,206] [OpenBox-Shadan] Iteration 113, objective value: [41.90230652911083].\n"
     ]
    },
    {
     "name": "stderr",
     "output_type": "stream",
     "text": [
      "\r",
      " 11%|█▏        | 113/1000 [1:32:17<14:51:56, 60.33s/it]"
     ]
    },
    {
     "name": "stdout",
     "output_type": "stream",
     "text": [
      "[INFO] [2021-10-31 15:56:23,121] [OpenBox-Shadan] Iteration 114, objective value: [34.199572683907334].\n"
     ]
    },
    {
     "name": "stderr",
     "output_type": "stream",
     "text": [
      "\r",
      " 11%|█▏        | 114/1000 [1:33:11<14:26:55, 58.71s/it]"
     ]
    },
    {
     "name": "stdout",
     "output_type": "stream",
     "text": [
      "[INFO] [2021-10-31 15:57:31,514] [OpenBox-Shadan] Iteration 115, objective value: [33.54621495121398].\n"
     ]
    },
    {
     "name": "stderr",
     "output_type": "stream",
     "text": [
      "\r",
      " 12%|█▏        | 115/1000 [1:34:20<15:08:48, 61.61s/it]"
     ]
    },
    {
     "name": "stdout",
     "output_type": "stream",
     "text": [
      "[INFO] [2021-10-31 15:58:33,035] [OpenBox-Shadan] Iteration 116, objective value: [50.966705973911786].\n"
     ]
    },
    {
     "name": "stderr",
     "output_type": "stream",
     "text": [
      "\r",
      " 12%|█▏        | 116/1000 [1:35:21<15:07:21, 61.59s/it]"
     ]
    },
    {
     "name": "stdout",
     "output_type": "stream",
     "text": [
      "[INFO] [2021-10-31 15:59:28,828] [OpenBox-Shadan] Iteration 117, objective value: [38.54097237708205].\n"
     ]
    },
    {
     "name": "stderr",
     "output_type": "stream",
     "text": [
      "\r",
      " 12%|█▏        | 117/1000 [1:36:17<14:40:45, 59.85s/it]"
     ]
    },
    {
     "name": "stdout",
     "output_type": "stream",
     "text": [
      "[INFO] [2021-10-31 16:00:23,141] [OpenBox-Shadan] Iteration 118, objective value: [34.41761770083822].\n"
     ]
    },
    {
     "name": "stderr",
     "output_type": "stream",
     "text": [
      "\r",
      " 12%|█▏        | 118/1000 [1:37:11<14:15:21, 58.19s/it]"
     ]
    },
    {
     "name": "stdout",
     "output_type": "stream",
     "text": [
      "[INFO] [2021-10-31 16:01:29,330] [OpenBox-Shadan] Iteration 119, objective value: [47.05296481511336].\n"
     ]
    },
    {
     "name": "stderr",
     "output_type": "stream",
     "text": [
      "\r",
      " 12%|█▏        | 119/1000 [1:38:18<14:49:38, 60.59s/it]"
     ]
    },
    {
     "name": "stdout",
     "output_type": "stream",
     "text": [
      "[INFO] [2021-10-31 16:02:33,207] [OpenBox-Shadan] Iteration 120, objective value: [39.56534612690263].\n"
     ]
    },
    {
     "name": "stderr",
     "output_type": "stream",
     "text": [
      "\r",
      " 12%|█▏        | 120/1000 [1:39:22<15:03:05, 61.57s/it]"
     ]
    },
    {
     "name": "stdout",
     "output_type": "stream",
     "text": [
      "[INFO] [2021-10-31 16:03:34,817] [OpenBox-Shadan] Iteration 121, objective value: [38.62780521856591].\n"
     ]
    },
    {
     "name": "stderr",
     "output_type": "stream",
     "text": [
      "\r",
      " 12%|█▏        | 121/1000 [1:40:23<15:02:13, 61.59s/it]"
     ]
    },
    {
     "name": "stdout",
     "output_type": "stream",
     "text": [
      "[INFO] [2021-10-31 16:04:33,762] [OpenBox-Shadan] Iteration 122, objective value: [35.70392701663798].\n"
     ]
    },
    {
     "name": "stderr",
     "output_type": "stream",
     "text": [
      "\r",
      " 12%|█▏        | 122/1000 [1:41:22<14:49:36, 60.79s/it]"
     ]
    },
    {
     "name": "stdout",
     "output_type": "stream",
     "text": [
      "[INFO] [2021-10-31 16:05:44,397] [OpenBox-Shadan] Iteration 123, objective value: [35.64358379214039].\n"
     ]
    },
    {
     "name": "stderr",
     "output_type": "stream",
     "text": [
      "\r",
      " 12%|█▏        | 123/1000 [1:42:33<15:31:45, 63.75s/it]"
     ]
    },
    {
     "name": "stdout",
     "output_type": "stream",
     "text": [
      "[INFO] [2021-10-31 16:06:51,775] [OpenBox-Shadan] Iteration 124, objective value: [30.893539428265882].\n"
     ]
    },
    {
     "name": "stderr",
     "output_type": "stream",
     "text": [
      "\r",
      " 12%|█▏        | 124/1000 [1:43:40<15:46:35, 64.84s/it]"
     ]
    },
    {
     "name": "stdout",
     "output_type": "stream",
     "text": [
      "[INFO] [2021-10-31 16:07:46,197] [OpenBox-Shadan] Iteration 125, objective value: [49.24062065927919].\n"
     ]
    },
    {
     "name": "stderr",
     "output_type": "stream",
     "text": [
      "\r",
      " 12%|█▎        | 125/1000 [1:44:35<14:59:57, 61.71s/it]"
     ]
    },
    {
     "name": "stdout",
     "output_type": "stream",
     "text": [
      "[INFO] [2021-10-31 16:08:36,396] [OpenBox-Shadan] Iteration 126, objective value: [36.45966816447975].\n"
     ]
    },
    {
     "name": "stderr",
     "output_type": "stream",
     "text": [
      "\r",
      " 13%|█▎        | 126/1000 [1:45:25<14:08:37, 58.26s/it]"
     ]
    },
    {
     "name": "stdout",
     "output_type": "stream",
     "text": [
      "[INFO] [2021-10-31 16:09:27,113] [OpenBox-Shadan] Iteration 127, objective value: [40.87086327400969].\n"
     ]
    },
    {
     "name": "stderr",
     "output_type": "stream",
     "text": [
      "\r",
      " 13%|█▎        | 127/1000 [1:46:15<13:34:44, 56.00s/it]"
     ]
    },
    {
     "name": "stdout",
     "output_type": "stream",
     "text": [
      "[INFO] [2021-10-31 16:10:45,669] [OpenBox-Shadan] Iteration 128, objective value: [37.834442908024755].\n"
     ]
    },
    {
     "name": "stderr",
     "output_type": "stream",
     "text": [
      "\r",
      " 13%|█▎        | 128/1000 [1:47:34<15:12:09, 62.76s/it]"
     ]
    },
    {
     "name": "stdout",
     "output_type": "stream",
     "text": [
      "[INFO] [2021-10-31 16:11:52,918] [OpenBox-Shadan] Iteration 129, objective value: [37.04410979549808].\n"
     ]
    },
    {
     "name": "stderr",
     "output_type": "stream",
     "text": [
      "\r",
      " 13%|█▎        | 129/1000 [1:48:41<15:30:39, 64.11s/it]"
     ]
    },
    {
     "name": "stdout",
     "output_type": "stream",
     "text": [
      "[INFO] [2021-10-31 16:12:48,302] [OpenBox-Shadan] Iteration 130, objective value: [34.95970826726017].\n"
     ]
    },
    {
     "name": "stderr",
     "output_type": "stream",
     "text": [
      "\r",
      " 13%|█▎        | 130/1000 [1:49:37<14:51:37, 61.49s/it]"
     ]
    },
    {
     "name": "stdout",
     "output_type": "stream",
     "text": [
      "[INFO] [2021-10-31 16:13:53,804] [OpenBox-Shadan] Iteration 131, objective value: [37.525456479248135].\n"
     ]
    },
    {
     "name": "stderr",
     "output_type": "stream",
     "text": [
      "\r",
      " 13%|█▎        | 131/1000 [1:50:42<15:08:01, 62.69s/it]"
     ]
    },
    {
     "name": "stdout",
     "output_type": "stream",
     "text": [
      "[INFO] [2021-10-31 16:14:58,184] [OpenBox-Shadan] Iteration 132, objective value: [33.647823484679435].\n"
     ]
    },
    {
     "name": "stderr",
     "output_type": "stream",
     "text": [
      "\r",
      " 13%|█▎        | 132/1000 [1:51:47<15:14:17, 63.20s/it]"
     ]
    },
    {
     "name": "stdout",
     "output_type": "stream",
     "text": [
      "[INFO] [2021-10-31 16:16:07,110] [OpenBox-Shadan] Iteration 133, objective value: [55.67341799208842].\n"
     ]
    },
    {
     "name": "stderr",
     "output_type": "stream",
     "text": [
      "\r",
      " 13%|█▎        | 133/1000 [1:52:55<15:38:04, 64.92s/it]"
     ]
    },
    {
     "name": "stdout",
     "output_type": "stream",
     "text": [
      "[INFO] [2021-10-31 16:17:09,499] [OpenBox-Shadan] Iteration 134, objective value: [39.68914547062595].\n"
     ]
    },
    {
     "name": "stderr",
     "output_type": "stream",
     "text": [
      "\r",
      " 13%|█▎        | 134/1000 [1:53:58<15:26:01, 64.16s/it]"
     ]
    },
    {
     "name": "stdout",
     "output_type": "stream",
     "text": [
      "[INFO] [2021-10-31 16:18:13,295] [OpenBox-Shadan] Iteration 135, objective value: [35.189095529658516].\n"
     ]
    },
    {
     "name": "stderr",
     "output_type": "stream",
     "text": [
      "\r",
      " 14%|█▎        | 135/1000 [1:55:02<15:23:23, 64.05s/it]"
     ]
    },
    {
     "name": "stdout",
     "output_type": "stream",
     "text": [
      "[INFO] [2021-10-31 16:19:35,203] [OpenBox-Shadan] Iteration 136, objective value: [40.05480777479126].\n"
     ]
    },
    {
     "name": "stderr",
     "output_type": "stream",
     "text": [
      "\r",
      " 14%|█▎        | 136/1000 [1:56:24<16:39:28, 69.41s/it]"
     ]
    },
    {
     "name": "stdout",
     "output_type": "stream",
     "text": [
      "[INFO] [2021-10-31 16:20:41,854] [OpenBox-Shadan] Iteration 137, objective value: [39.034851634117885].\n"
     ]
    },
    {
     "name": "stderr",
     "output_type": "stream",
     "text": [
      "\r",
      " 14%|█▎        | 137/1000 [1:57:30<16:26:24, 68.58s/it]"
     ]
    },
    {
     "name": "stdout",
     "output_type": "stream",
     "text": [
      "[INFO] [2021-10-31 16:21:50,269] [OpenBox-Shadan] Iteration 138, objective value: [37.92731659586034].\n"
     ]
    },
    {
     "name": "stderr",
     "output_type": "stream",
     "text": [
      "\r",
      " 14%|█▍        | 138/1000 [1:58:39<16:24:33, 68.53s/it]"
     ]
    },
    {
     "name": "stdout",
     "output_type": "stream",
     "text": [
      "[INFO] [2021-10-31 16:22:50,844] [OpenBox-Shadan] Iteration 139, objective value: [37.45075119409174].\n"
     ]
    },
    {
     "name": "stderr",
     "output_type": "stream",
     "text": [
      "\r",
      " 14%|█▍        | 139/1000 [1:59:39<15:49:10, 66.14s/it]"
     ]
    },
    {
     "name": "stdout",
     "output_type": "stream",
     "text": [
      "[INFO] [2021-10-31 16:24:03,280] [OpenBox-Shadan] Iteration 140, objective value: [38.89835960187783].\n"
     ]
    },
    {
     "name": "stderr",
     "output_type": "stream",
     "text": [
      "\r",
      " 14%|█▍        | 140/1000 [2:00:52<16:15:07, 68.03s/it]"
     ]
    },
    {
     "name": "stdout",
     "output_type": "stream",
     "text": [
      "[INFO] [2021-10-31 16:25:10,069] [OpenBox-Shadan] Iteration 141, objective value: [48.22557624108057].\n"
     ]
    },
    {
     "name": "stderr",
     "output_type": "stream",
     "text": [
      "\r",
      " 14%|█▍        | 141/1000 [2:01:58<16:08:38, 67.66s/it]"
     ]
    },
    {
     "name": "stdout",
     "output_type": "stream",
     "text": [
      "[INFO] [2021-10-31 16:26:21,775] [OpenBox-Shadan] Iteration 142, objective value: [36.290321103856385].\n"
     ]
    },
    {
     "name": "stderr",
     "output_type": "stream",
     "text": [
      "\r",
      " 14%|█▍        | 142/1000 [2:03:10<16:24:53, 68.87s/it]"
     ]
    },
    {
     "name": "stdout",
     "output_type": "stream",
     "text": [
      "[INFO] [2021-10-31 16:27:42,645] [OpenBox-Shadan] Iteration 143, objective value: [32.44231428494702].\n"
     ]
    },
    {
     "name": "stderr",
     "output_type": "stream",
     "text": [
      "\r",
      " 14%|█▍        | 143/1000 [2:04:31<17:15:08, 72.47s/it]"
     ]
    },
    {
     "name": "stdout",
     "output_type": "stream",
     "text": [
      "[INFO] [2021-10-31 16:29:13,573] [OpenBox-Shadan] Iteration 144, objective value: [37.09301199009452].\n"
     ]
    },
    {
     "name": "stderr",
     "output_type": "stream",
     "text": [
      "\r",
      " 14%|█▍        | 144/1000 [2:06:02<18:32:55, 78.01s/it]"
     ]
    },
    {
     "name": "stdout",
     "output_type": "stream",
     "text": [
      "[INFO] [2021-10-31 16:30:36,540] [OpenBox-Shadan] Iteration 145, objective value: [32.999063860113154].\n"
     ]
    },
    {
     "name": "stderr",
     "output_type": "stream",
     "text": [
      "\r",
      " 14%|█▍        | 145/1000 [2:07:25<18:52:49, 79.50s/it]"
     ]
    },
    {
     "name": "stdout",
     "output_type": "stream",
     "text": [
      "[INFO] [2021-10-31 16:31:32,872] [OpenBox-Shadan] Iteration 146, objective value: [30.912996284442258].\n"
     ]
    },
    {
     "name": "stderr",
     "output_type": "stream",
     "text": [
      "\r",
      " 15%|█▍        | 146/1000 [2:08:21<17:12:35, 72.55s/it]"
     ]
    },
    {
     "name": "stdout",
     "output_type": "stream",
     "text": [
      "[INFO] [2021-10-31 16:32:31,825] [OpenBox-Shadan] Iteration 147, objective value: [35.95574550975836].\n"
     ]
    },
    {
     "name": "stderr",
     "output_type": "stream",
     "text": [
      "\r",
      " 15%|█▍        | 147/1000 [2:09:20<16:13:23, 68.47s/it]"
     ]
    },
    {
     "name": "stdout",
     "output_type": "stream",
     "text": [
      "[INFO] [2021-10-31 16:33:47,642] [OpenBox-Shadan] Iteration 148, objective value: [45.13505351367157].\n"
     ]
    },
    {
     "name": "stderr",
     "output_type": "stream",
     "text": [
      "\r",
      " 15%|█▍        | 148/1000 [2:10:36<16:43:33, 70.67s/it]"
     ]
    },
    {
     "name": "stdout",
     "output_type": "stream",
     "text": [
      "[INFO] [2021-10-31 16:34:59,546] [OpenBox-Shadan] Iteration 149, objective value: [56.19948257058328].\n"
     ]
    },
    {
     "name": "stderr",
     "output_type": "stream",
     "text": [
      "\r",
      " 15%|█▍        | 149/1000 [2:11:48<16:47:37, 71.04s/it]"
     ]
    },
    {
     "name": "stdout",
     "output_type": "stream",
     "text": [
      "[INFO] [2021-10-31 16:35:52,224] [OpenBox-Shadan] Iteration 150, objective value: [37.73927683637417].\n"
     ]
    },
    {
     "name": "stderr",
     "output_type": "stream",
     "text": [
      "\r",
      " 15%|█▌        | 150/1000 [2:12:41<15:28:23, 65.53s/it]"
     ]
    },
    {
     "name": "stdout",
     "output_type": "stream",
     "text": [
      "[INFO] [2021-10-31 16:37:18,438] [OpenBox-Shadan] Iteration 151, objective value: [35.412791537631776].\n"
     ]
    },
    {
     "name": "stderr",
     "output_type": "stream",
     "text": [
      "\r",
      " 15%|█▌        | 151/1000 [2:14:07<16:55:05, 71.74s/it]"
     ]
    },
    {
     "name": "stdout",
     "output_type": "stream",
     "text": [
      "[INFO] [2021-10-31 16:38:39,820] [OpenBox-Shadan] Iteration 152, objective value: [36.65855539345452].\n"
     ]
    },
    {
     "name": "stderr",
     "output_type": "stream",
     "text": [
      "\r",
      " 15%|█▌        | 152/1000 [2:15:28<17:34:46, 74.63s/it]"
     ]
    },
    {
     "name": "stdout",
     "output_type": "stream",
     "text": [
      "[INFO] [2021-10-31 16:39:59,538] [OpenBox-Shadan] Iteration 153, objective value: [38.7709102902584].\n"
     ]
    },
    {
     "name": "stderr",
     "output_type": "stream",
     "text": [
      "\r",
      " 15%|█▌        | 153/1000 [2:16:48<17:55:04, 76.16s/it]"
     ]
    },
    {
     "name": "stdout",
     "output_type": "stream",
     "text": [
      "[INFO] [2021-10-31 16:41:18,171] [OpenBox-Shadan] Iteration 154, objective value: [38.43454344256273].\n"
     ]
    },
    {
     "name": "stderr",
     "output_type": "stream",
     "text": [
      "\r",
      " 15%|█▌        | 154/1000 [2:18:07<18:04:16, 76.90s/it]"
     ]
    },
    {
     "name": "stdout",
     "output_type": "stream",
     "text": [
      "[INFO] [2021-10-31 16:42:38,557] [OpenBox-Shadan] Iteration 155, objective value: [33.249415493070515].\n"
     ]
    },
    {
     "name": "stderr",
     "output_type": "stream",
     "text": [
      "\r",
      " 16%|█▌        | 155/1000 [2:19:27<18:17:44, 77.95s/it]"
     ]
    },
    {
     "name": "stdout",
     "output_type": "stream",
     "text": [
      "[INFO] [2021-10-31 16:43:46,271] [OpenBox-Shadan] Iteration 156, objective value: [46.05089711817249].\n"
     ]
    },
    {
     "name": "stderr",
     "output_type": "stream",
     "text": [
      "\r",
      " 16%|█▌        | 156/1000 [2:20:35<17:33:15, 74.88s/it]"
     ]
    },
    {
     "name": "stdout",
     "output_type": "stream",
     "text": [
      "[INFO] [2021-10-31 16:44:47,921] [OpenBox-Shadan] Iteration 157, objective value: [34.47384496016048].\n"
     ]
    },
    {
     "name": "stderr",
     "output_type": "stream",
     "text": [
      "\r",
      " 16%|█▌        | 157/1000 [2:21:36<16:36:15, 70.91s/it]"
     ]
    },
    {
     "name": "stdout",
     "output_type": "stream",
     "text": [
      "[INFO] [2021-10-31 16:46:07,708] [OpenBox-Shadan] Iteration 158, objective value: [31.74495197933392].\n"
     ]
    },
    {
     "name": "stderr",
     "output_type": "stream",
     "text": [
      "\r",
      " 16%|█▌        | 158/1000 [2:22:56<17:12:27, 73.57s/it]"
     ]
    },
    {
     "name": "stdout",
     "output_type": "stream",
     "text": [
      "[INFO] [2021-10-31 16:47:19,796] [OpenBox-Shadan] Iteration 159, objective value: [51.923463900287565].\n"
     ]
    },
    {
     "name": "stderr",
     "output_type": "stream",
     "text": [
      "\r",
      " 16%|█▌        | 159/1000 [2:24:08<17:04:59, 73.13s/it]"
     ]
    },
    {
     "name": "stdout",
     "output_type": "stream",
     "text": [
      "[INFO] [2021-10-31 16:48:43,841] [OpenBox-Shadan] Iteration 160, objective value: [55.72354880187822].\n"
     ]
    },
    {
     "name": "stderr",
     "output_type": "stream",
     "text": [
      "\r",
      " 16%|█▌        | 160/1000 [2:25:32<17:49:37, 76.40s/it]"
     ]
    },
    {
     "name": "stdout",
     "output_type": "stream",
     "text": [
      "[INFO] [2021-10-31 16:49:49,631] [OpenBox-Shadan] Iteration 161, objective value: [30.23160465514681].\n"
     ]
    },
    {
     "name": "stderr",
     "output_type": "stream",
     "text": [
      "\r",
      " 16%|█▌        | 161/1000 [2:26:38<17:03:50, 73.22s/it]"
     ]
    },
    {
     "name": "stdout",
     "output_type": "stream",
     "text": [
      "[INFO] [2021-10-31 16:51:14,388] [OpenBox-Shadan] Iteration 162, objective value: [44.63599583289144].\n"
     ]
    },
    {
     "name": "stderr",
     "output_type": "stream",
     "text": [
      "\r",
      " 16%|█▌        | 162/1000 [2:28:03<17:50:57, 76.68s/it]"
     ]
    },
    {
     "name": "stdout",
     "output_type": "stream",
     "text": [
      "[INFO] [2021-10-31 16:52:37,621] [OpenBox-Shadan] Iteration 163, objective value: [38.37236076443212].\n"
     ]
    },
    {
     "name": "stderr",
     "output_type": "stream",
     "text": [
      "\r",
      " 16%|█▋        | 163/1000 [2:29:26<18:17:06, 78.65s/it]"
     ]
    },
    {
     "name": "stdout",
     "output_type": "stream",
     "text": [
      "[INFO] [2021-10-31 16:53:43,294] [OpenBox-Shadan] Iteration 164, objective value: [32.926981419325784].\n"
     ]
    },
    {
     "name": "stderr",
     "output_type": "stream",
     "text": [
      "\r",
      " 16%|█▋        | 164/1000 [2:30:32<17:21:34, 74.75s/it]"
     ]
    },
    {
     "name": "stdout",
     "output_type": "stream",
     "text": [
      "[INFO] [2021-10-31 16:55:07,345] [OpenBox-Shadan] Iteration 165, objective value: [36.829670717337514].\n"
     ]
    },
    {
     "name": "stderr",
     "output_type": "stream",
     "text": [
      "\r",
      " 16%|█▋        | 165/1000 [2:31:56<17:59:08, 77.54s/it]"
     ]
    },
    {
     "name": "stdout",
     "output_type": "stream",
     "text": [
      "[INFO] [2021-10-31 16:56:49,541] [OpenBox-Shadan] Iteration 166, objective value: [49.82521304839079].\n"
     ]
    },
    {
     "name": "stderr",
     "output_type": "stream",
     "text": [
      "\r",
      " 17%|█▋        | 166/1000 [2:33:38<19:40:39, 84.94s/it]"
     ]
    },
    {
     "name": "stdout",
     "output_type": "stream",
     "text": [
      "[INFO] [2021-10-31 16:58:01,201] [OpenBox-Shadan] Iteration 167, objective value: [37.984137131453465].\n"
     ]
    },
    {
     "name": "stderr",
     "output_type": "stream",
     "text": [
      "\r",
      " 17%|█▋        | 167/1000 [2:34:50<18:43:55, 80.96s/it]"
     ]
    },
    {
     "name": "stdout",
     "output_type": "stream",
     "text": [
      "[INFO] [2021-10-31 16:59:14,514] [OpenBox-Shadan] Iteration 168, objective value: [42.984982954365435].\n"
     ]
    },
    {
     "name": "stderr",
     "output_type": "stream",
     "text": [
      "\r",
      " 17%|█▋        | 168/1000 [2:36:03<18:10:47, 78.66s/it]"
     ]
    },
    {
     "name": "stdout",
     "output_type": "stream",
     "text": [
      "[INFO] [2021-10-31 17:00:17,147] [OpenBox-Shadan] Iteration 169, objective value: [45.944426254660684].\n"
     ]
    },
    {
     "name": "stderr",
     "output_type": "stream",
     "text": [
      "\r",
      " 17%|█▋        | 169/1000 [2:37:05<17:02:52, 73.85s/it]"
     ]
    },
    {
     "name": "stdout",
     "output_type": "stream",
     "text": [
      "[INFO] [2021-10-31 17:01:29,045] [OpenBox-Shadan] Iteration 170, objective value: [33.77650297392172].\n"
     ]
    },
    {
     "name": "stderr",
     "output_type": "stream",
     "text": [
      "\r",
      " 17%|█▋        | 170/1000 [2:38:17<16:53:31, 73.27s/it]"
     ]
    },
    {
     "name": "stdout",
     "output_type": "stream",
     "text": [
      "[INFO] [2021-10-31 17:02:40,493] [OpenBox-Shadan] Iteration 171, objective value: [46.41123668097977].\n"
     ]
    },
    {
     "name": "stderr",
     "output_type": "stream",
     "text": [
      "\r",
      " 17%|█▋        | 171/1000 [2:39:29<16:44:46, 72.72s/it]"
     ]
    },
    {
     "name": "stdout",
     "output_type": "stream",
     "text": [
      "[INFO] [2021-10-31 17:03:55,146] [OpenBox-Shadan] Iteration 172, objective value: [53.043460307118764].\n"
     ]
    },
    {
     "name": "stderr",
     "output_type": "stream",
     "text": [
      "\r",
      " 17%|█▋        | 172/1000 [2:40:43<16:51:33, 73.30s/it]"
     ]
    },
    {
     "name": "stdout",
     "output_type": "stream",
     "text": [
      "[INFO] [2021-10-31 17:05:00,667] [OpenBox-Shadan] Iteration 173, objective value: [38.370131618889644].\n"
     ]
    },
    {
     "name": "stderr",
     "output_type": "stream",
     "text": [
      "\r",
      " 17%|█▋        | 173/1000 [2:41:49<16:18:09, 70.97s/it]"
     ]
    },
    {
     "name": "stdout",
     "output_type": "stream",
     "text": [
      "[INFO] [2021-10-31 17:06:39,165] [OpenBox-Shadan] Iteration 174, objective value: [36.600310001402256].\n"
     ]
    },
    {
     "name": "stderr",
     "output_type": "stream",
     "text": [
      "\r",
      " 17%|█▋        | 174/1000 [2:43:27<18:10:40, 79.23s/it]"
     ]
    },
    {
     "name": "stdout",
     "output_type": "stream",
     "text": [
      "[INFO] [2021-10-31 17:07:59,578] [OpenBox-Shadan] Iteration 175, objective value: [39.23344372560245].\n"
     ]
    },
    {
     "name": "stderr",
     "output_type": "stream",
     "text": [
      "\r",
      " 18%|█▊        | 175/1000 [2:44:48<18:14:15, 79.58s/it]"
     ]
    },
    {
     "name": "stdout",
     "output_type": "stream",
     "text": [
      "[INFO] [2021-10-31 17:09:20,357] [OpenBox-Shadan] Iteration 176, objective value: [38.30442289995071].\n"
     ]
    },
    {
     "name": "stderr",
     "output_type": "stream",
     "text": [
      "\r",
      " 18%|█▊        | 176/1000 [2:46:09<18:17:51, 79.94s/it]"
     ]
    },
    {
     "name": "stdout",
     "output_type": "stream",
     "text": [
      "[INFO] [2021-10-31 17:10:41,595] [OpenBox-Shadan] Iteration 177, objective value: [38.82838526306885].\n"
     ]
    },
    {
     "name": "stderr",
     "output_type": "stream",
     "text": [
      "\r",
      " 18%|█▊        | 177/1000 [2:47:30<18:21:51, 80.33s/it]"
     ]
    },
    {
     "name": "stdout",
     "output_type": "stream",
     "text": [
      "[INFO] [2021-10-31 17:11:54,806] [OpenBox-Shadan] Iteration 178, objective value: [38.85882707865066].\n"
     ]
    },
    {
     "name": "stderr",
     "output_type": "stream",
     "text": [
      "\r",
      " 18%|█▊        | 178/1000 [2:48:43<17:51:15, 78.19s/it]"
     ]
    },
    {
     "name": "stdout",
     "output_type": "stream",
     "text": [
      "[INFO] [2021-10-31 17:13:04,811] [OpenBox-Shadan] Iteration 179, objective value: [52.13948169532004].\n"
     ]
    },
    {
     "name": "stderr",
     "output_type": "stream",
     "text": [
      "\r",
      " 18%|█▊        | 179/1000 [2:49:53<17:16:20, 75.74s/it]"
     ]
    },
    {
     "name": "stdout",
     "output_type": "stream",
     "text": [
      "[INFO] [2021-10-31 17:14:34,167] [OpenBox-Shadan] Iteration 180, objective value: [41.26948318204048].\n"
     ]
    },
    {
     "name": "stderr",
     "output_type": "stream",
     "text": [
      "\r",
      " 18%|█▊        | 180/1000 [2:51:22<18:10:55, 79.82s/it]"
     ]
    },
    {
     "name": "stdout",
     "output_type": "stream",
     "text": [
      "[INFO] [2021-10-31 17:15:48,113] [OpenBox-Shadan] Iteration 181, objective value: [40.386794866849925].\n"
     ]
    },
    {
     "name": "stderr",
     "output_type": "stream",
     "text": [
      "\r",
      " 18%|█▊        | 181/1000 [2:52:36<17:45:31, 78.06s/it]"
     ]
    },
    {
     "name": "stdout",
     "output_type": "stream",
     "text": [
      "[INFO] [2021-10-31 17:17:17,649] [OpenBox-Shadan] Iteration 182, objective value: [40.82090358178153].\n"
     ]
    },
    {
     "name": "stderr",
     "output_type": "stream",
     "text": [
      "\r",
      " 18%|█▊        | 182/1000 [2:54:06<18:31:09, 81.50s/it]"
     ]
    },
    {
     "name": "stdout",
     "output_type": "stream",
     "text": [
      "[INFO] [2021-10-31 17:18:23,725] [OpenBox-Shadan] Iteration 183, objective value: [54.031628825703784].\n"
     ]
    },
    {
     "name": "stderr",
     "output_type": "stream",
     "text": [
      "\r",
      " 18%|█▊        | 183/1000 [2:55:12<17:26:46, 76.87s/it]"
     ]
    },
    {
     "name": "stdout",
     "output_type": "stream",
     "text": [
      "[INFO] [2021-10-31 17:20:22,200] [OpenBox-Shadan] Iteration 184, objective value: [40.88829812645245].\n"
     ]
    },
    {
     "name": "stderr",
     "output_type": "stream",
     "text": [
      "\r",
      " 18%|█▊        | 184/1000 [2:57:11<20:15:13, 89.35s/it]"
     ]
    },
    {
     "name": "stdout",
     "output_type": "stream",
     "text": [
      "[INFO] [2021-10-31 17:21:40,813] [OpenBox-Shadan] Iteration 185, objective value: [41.016812132467706].\n"
     ]
    },
    {
     "name": "stderr",
     "output_type": "stream",
     "text": [
      "\r",
      " 18%|█▊        | 185/1000 [2:58:29<19:29:57, 86.13s/it]"
     ]
    },
    {
     "name": "stdout",
     "output_type": "stream",
     "text": [
      "[INFO] [2021-10-31 17:22:42,205] [OpenBox-Shadan] Iteration 186, objective value: [37.27888640801423].\n"
     ]
    },
    {
     "name": "stderr",
     "output_type": "stream",
     "text": [
      "\r",
      " 19%|█▊        | 186/1000 [2:59:31<17:47:50, 78.71s/it]"
     ]
    },
    {
     "name": "stdout",
     "output_type": "stream",
     "text": [
      "[INFO] [2021-10-31 17:23:53,579] [OpenBox-Shadan] Iteration 187, objective value: [40.67930131044839].\n"
     ]
    },
    {
     "name": "stderr",
     "output_type": "stream",
     "text": [
      "\r",
      " 19%|█▊        | 187/1000 [3:00:42<17:16:41, 76.51s/it]"
     ]
    },
    {
     "name": "stdout",
     "output_type": "stream",
     "text": [
      "[INFO] [2021-10-31 17:24:51,859] [OpenBox-Shadan] Iteration 188, objective value: [41.42294016158705].\n"
     ]
    },
    {
     "name": "stderr",
     "output_type": "stream",
     "text": [
      "\r",
      " 19%|█▉        | 188/1000 [3:01:40<16:01:24, 71.04s/it]"
     ]
    },
    {
     "name": "stdout",
     "output_type": "stream",
     "text": [
      "[INFO] [2021-10-31 17:25:49,983] [OpenBox-Shadan] Iteration 189, objective value: [32.950062081506246].\n"
     ]
    },
    {
     "name": "stderr",
     "output_type": "stream",
     "text": [
      "\r",
      " 19%|█▉        | 189/1000 [3:02:38<15:07:51, 67.17s/it]"
     ]
    },
    {
     "name": "stdout",
     "output_type": "stream",
     "text": [
      "[INFO] [2021-10-31 17:26:49,033] [OpenBox-Shadan] Iteration 190, objective value: [35.69813371605969].\n"
     ]
    },
    {
     "name": "stderr",
     "output_type": "stream",
     "text": [
      "\r",
      " 19%|█▉        | 190/1000 [3:03:37<14:33:51, 64.73s/it]"
     ]
    },
    {
     "name": "stdout",
     "output_type": "stream",
     "text": [
      "[INFO] [2021-10-31 17:28:20,235] [OpenBox-Shadan] Iteration 191, objective value: [39.176136810098924].\n"
     ]
    },
    {
     "name": "stderr",
     "output_type": "stream",
     "text": [
      "\r",
      " 19%|█▉        | 191/1000 [3:05:09<16:19:51, 72.67s/it]"
     ]
    },
    {
     "name": "stdout",
     "output_type": "stream",
     "text": [
      "[INFO] [2021-10-31 17:30:14,645] [OpenBox-Shadan] Iteration 192, objective value: [40.322314474795085].\n"
     ]
    },
    {
     "name": "stderr",
     "output_type": "stream",
     "text": [
      "\r",
      " 19%|█▉        | 192/1000 [3:07:03<19:07:16, 85.19s/it]"
     ]
    },
    {
     "name": "stdout",
     "output_type": "stream",
     "text": [
      "[INFO] [2021-10-31 17:31:21,265] [OpenBox-Shadan] Iteration 193, objective value: [41.04855256494536].\n"
     ]
    },
    {
     "name": "stderr",
     "output_type": "stream",
     "text": [
      "\r",
      " 19%|█▉        | 193/1000 [3:08:10<17:50:54, 79.62s/it]"
     ]
    },
    {
     "name": "stdout",
     "output_type": "stream",
     "text": [
      "[INFO] [2021-10-31 17:32:20,503] [OpenBox-Shadan] Iteration 194, objective value: [47.96734246246036].\n"
     ]
    },
    {
     "name": "stderr",
     "output_type": "stream",
     "text": [
      "\r",
      " 19%|█▉        | 194/1000 [3:09:09<16:27:26, 73.51s/it]"
     ]
    },
    {
     "name": "stdout",
     "output_type": "stream",
     "text": [
      "[INFO] [2021-10-31 17:33:26,092] [OpenBox-Shadan] Iteration 195, objective value: [33.36629302049256].\n"
     ]
    },
    {
     "name": "stderr",
     "output_type": "stream",
     "text": [
      "\r",
      " 20%|█▉        | 195/1000 [3:10:14<15:54:20, 71.13s/it]"
     ]
    },
    {
     "name": "stdout",
     "output_type": "stream",
     "text": [
      "[INFO] [2021-10-31 17:35:03,254] [OpenBox-Shadan] Iteration 196, objective value: [56.848789045217586].\n"
     ]
    },
    {
     "name": "stderr",
     "output_type": "stream",
     "text": [
      "\r",
      " 20%|█▉        | 196/1000 [3:11:52<17:37:47, 78.94s/it]"
     ]
    },
    {
     "name": "stdout",
     "output_type": "stream",
     "text": [
      "[INFO] [2021-10-31 17:36:16,065] [OpenBox-Shadan] Iteration 197, objective value: [36.71910973208246].\n"
     ]
    },
    {
     "name": "stderr",
     "output_type": "stream",
     "text": [
      "\r",
      " 20%|█▉        | 197/1000 [3:13:04<17:11:52, 77.10s/it]"
     ]
    },
    {
     "name": "stdout",
     "output_type": "stream",
     "text": [
      "[INFO] [2021-10-31 17:37:35,687] [OpenBox-Shadan] Iteration 198, objective value: [38.37355139588789].\n"
     ]
    },
    {
     "name": "stderr",
     "output_type": "stream",
     "text": [
      "\r",
      " 20%|█▉        | 198/1000 [3:14:24<17:20:41, 77.86s/it]"
     ]
    },
    {
     "name": "stdout",
     "output_type": "stream",
     "text": [
      "[INFO] [2021-10-31 17:39:01,998] [OpenBox-Shadan] Iteration 199, objective value: [44.10282166208059].\n"
     ]
    },
    {
     "name": "stderr",
     "output_type": "stream",
     "text": [
      "\r",
      " 20%|█▉        | 199/1000 [3:15:50<17:53:15, 80.39s/it]"
     ]
    },
    {
     "name": "stdout",
     "output_type": "stream",
     "text": [
      "[INFO] [2021-10-31 17:40:21,055] [OpenBox-Shadan] Iteration 200, objective value: [38.82228215715657].\n"
     ]
    },
    {
     "name": "stderr",
     "output_type": "stream",
     "text": [
      "\r",
      " 20%|██        | 200/1000 [3:17:09<17:46:34, 79.99s/it]"
     ]
    },
    {
     "name": "stdout",
     "output_type": "stream",
     "text": [
      "[INFO] [2021-10-31 17:41:36,487] [OpenBox-Shadan] Iteration 201, objective value: [30.166183478514256].\n"
     ]
    },
    {
     "name": "stderr",
     "output_type": "stream",
     "text": [
      "\r",
      " 20%|██        | 201/1000 [3:18:25<17:27:01, 78.62s/it]"
     ]
    },
    {
     "name": "stdout",
     "output_type": "stream",
     "text": [
      "[INFO] [2021-10-31 17:42:36,849] [OpenBox-Shadan] Iteration 202, objective value: [42.631065393318515].\n"
     ]
    },
    {
     "name": "stderr",
     "output_type": "stream",
     "text": [
      "\r",
      " 20%|██        | 202/1000 [3:19:25<16:12:50, 73.15s/it]"
     ]
    },
    {
     "name": "stdout",
     "output_type": "stream",
     "text": [
      "[INFO] [2021-10-31 17:44:00,330] [OpenBox-Shadan] Iteration 203, objective value: [41.80245008288415].\n"
     ]
    },
    {
     "name": "stderr",
     "output_type": "stream",
     "text": [
      "\r",
      " 20%|██        | 203/1000 [3:20:49<16:52:48, 76.25s/it]"
     ]
    },
    {
     "name": "stdout",
     "output_type": "stream",
     "text": [
      "[INFO] [2021-10-31 17:45:20,653] [OpenBox-Shadan] Iteration 204, objective value: [32.18470938603663].\n"
     ]
    },
    {
     "name": "stderr",
     "output_type": "stream",
     "text": [
      "\r",
      " 20%|██        | 204/1000 [3:22:09<17:07:45, 77.47s/it]"
     ]
    },
    {
     "name": "stdout",
     "output_type": "stream",
     "text": [
      "[INFO] [2021-10-31 17:46:16,587] [OpenBox-Shadan] Iteration 205, objective value: [29.611165549009826].\n"
     ]
    },
    {
     "name": "stderr",
     "output_type": "stream",
     "text": [
      "\r",
      " 20%|██        | 205/1000 [3:23:05<15:40:51, 71.01s/it]"
     ]
    },
    {
     "name": "stdout",
     "output_type": "stream",
     "text": [
      "[INFO] [2021-10-31 17:47:16,039] [OpenBox-Shadan] Iteration 206, objective value: [43.113084687238846].\n"
     ]
    },
    {
     "name": "stderr",
     "output_type": "stream",
     "text": [
      "\r",
      " 21%|██        | 206/1000 [3:24:04<14:53:48, 67.54s/it]"
     ]
    },
    {
     "name": "stdout",
     "output_type": "stream",
     "text": [
      "[INFO] [2021-10-31 17:48:32,719] [OpenBox-Shadan] Iteration 207, objective value: [50.53809125018824].\n"
     ]
    },
    {
     "name": "stderr",
     "output_type": "stream",
     "text": [
      "\r",
      " 21%|██        | 207/1000 [3:25:21<15:28:54, 70.28s/it]"
     ]
    },
    {
     "name": "stdout",
     "output_type": "stream",
     "text": [
      "[INFO] [2021-10-31 17:49:38,448] [OpenBox-Shadan] Iteration 208, objective value: [41.37994698259202].\n"
     ]
    },
    {
     "name": "stderr",
     "output_type": "stream",
     "text": [
      "\r",
      " 21%|██        | 208/1000 [3:26:27<15:09:42, 68.92s/it]"
     ]
    },
    {
     "name": "stdout",
     "output_type": "stream",
     "text": [
      "[INFO] [2021-10-31 17:50:50,843] [OpenBox-Shadan] Iteration 209, objective value: [35.23569840420946].\n"
     ]
    },
    {
     "name": "stderr",
     "output_type": "stream",
     "text": [
      "\r",
      " 21%|██        | 209/1000 [3:27:39<15:22:18, 69.96s/it]"
     ]
    },
    {
     "name": "stdout",
     "output_type": "stream",
     "text": [
      "[INFO] [2021-10-31 17:52:00,759] [OpenBox-Shadan] Iteration 210, objective value: [41.283271602237534].\n"
     ]
    },
    {
     "name": "stderr",
     "output_type": "stream",
     "text": [
      "\r",
      " 21%|██        | 210/1000 [3:28:49<15:20:58, 69.95s/it]"
     ]
    },
    {
     "name": "stdout",
     "output_type": "stream",
     "text": [
      "[INFO] [2021-10-31 17:53:34,126] [OpenBox-Shadan] Iteration 211, objective value: [32.074969401330364].\n"
     ]
    },
    {
     "name": "stderr",
     "output_type": "stream",
     "text": [
      "\r",
      " 21%|██        | 211/1000 [3:30:22<16:52:11, 76.97s/it]"
     ]
    },
    {
     "name": "stdout",
     "output_type": "stream",
     "text": [
      "[INFO] [2021-10-31 17:54:52,182] [OpenBox-Shadan] Iteration 212, objective value: [45.262603947792556].\n"
     ]
    },
    {
     "name": "stderr",
     "output_type": "stream",
     "text": [
      "\r",
      " 21%|██        | 212/1000 [3:31:41<16:55:10, 77.30s/it]"
     ]
    },
    {
     "name": "stdout",
     "output_type": "stream",
     "text": [
      "[INFO] [2021-10-31 17:56:21,793] [OpenBox-Shadan] Iteration 213, objective value: [51.37775789075009].\n"
     ]
    },
    {
     "name": "stderr",
     "output_type": "stream",
     "text": [
      "\r",
      " 21%|██▏       | 213/1000 [3:33:10<17:42:20, 80.99s/it]"
     ]
    },
    {
     "name": "stdout",
     "output_type": "stream",
     "text": [
      "[INFO] [2021-10-31 17:57:34,954] [OpenBox-Shadan] Iteration 214, objective value: [28.860752531111444].\n"
     ]
    },
    {
     "name": "stderr",
     "output_type": "stream",
     "text": [
      "\r",
      " 21%|██▏       | 214/1000 [3:34:23<17:10:13, 78.64s/it]"
     ]
    },
    {
     "name": "stdout",
     "output_type": "stream",
     "text": [
      "[INFO] [2021-10-31 17:59:00,584] [OpenBox-Shadan] Iteration 215, objective value: [31.80135108839707].\n"
     ]
    },
    {
     "name": "stderr",
     "output_type": "stream",
     "text": [
      "\r",
      " 22%|██▏       | 215/1000 [3:35:49<17:36:19, 80.74s/it]"
     ]
    },
    {
     "name": "stdout",
     "output_type": "stream",
     "text": [
      "[INFO] [2021-10-31 18:00:36,852] [OpenBox-Shadan] Iteration 216, objective value: [33.538122627839485].\n"
     ]
    },
    {
     "name": "stderr",
     "output_type": "stream",
     "text": [
      "\r",
      " 22%|██▏       | 216/1000 [3:37:25<18:35:51, 85.40s/it]"
     ]
    },
    {
     "name": "stdout",
     "output_type": "stream",
     "text": [
      "[INFO] [2021-10-31 18:01:45,908] [OpenBox-Shadan] Iteration 217, objective value: [32.7714379912364].\n"
     ]
    },
    {
     "name": "stderr",
     "output_type": "stream",
     "text": [
      "\r",
      " 22%|██▏       | 217/1000 [3:38:34<17:30:27, 80.50s/it]"
     ]
    },
    {
     "name": "stdout",
     "output_type": "stream",
     "text": [
      "[INFO] [2021-10-31 18:03:16,690] [OpenBox-Shadan] Iteration 218, objective value: [39.02547446425567].\n"
     ]
    },
    {
     "name": "stderr",
     "output_type": "stream",
     "text": [
      "\r",
      " 22%|██▏       | 218/1000 [3:40:05<18:09:20, 83.58s/it]"
     ]
    },
    {
     "name": "stdout",
     "output_type": "stream",
     "text": [
      "[INFO] [2021-10-31 18:04:41,137] [OpenBox-Shadan] Iteration 219, objective value: [31.117725383551473].\n"
     ]
    },
    {
     "name": "stderr",
     "output_type": "stream",
     "text": [
      "\r",
      " 22%|██▏       | 219/1000 [3:41:29<18:11:19, 83.84s/it]"
     ]
    },
    {
     "name": "stdout",
     "output_type": "stream",
     "text": [
      "[INFO] [2021-10-31 18:05:39,401] [OpenBox-Shadan] Iteration 220, objective value: [31.92680162955702].\n"
     ]
    },
    {
     "name": "stderr",
     "output_type": "stream",
     "text": [
      "\r",
      " 22%|██▏       | 220/1000 [3:42:28<16:30:10, 76.17s/it]"
     ]
    },
    {
     "name": "stdout",
     "output_type": "stream",
     "text": [
      "[INFO] [2021-10-31 18:07:36,094] [OpenBox-Shadan] Iteration 221, objective value: [38.95289343713587].\n"
     ]
    },
    {
     "name": "stderr",
     "output_type": "stream",
     "text": [
      "\r",
      " 22%|██▏       | 221/1000 [3:44:24<19:06:45, 88.33s/it]"
     ]
    },
    {
     "name": "stdout",
     "output_type": "stream",
     "text": [
      "[INFO] [2021-10-31 18:09:08,864] [OpenBox-Shadan] Iteration 222, objective value: [32.142497848521444].\n"
     ]
    },
    {
     "name": "stderr",
     "output_type": "stream",
     "text": [
      "\r",
      " 22%|██▏       | 222/1000 [3:45:57<19:22:34, 89.66s/it]"
     ]
    },
    {
     "name": "stdout",
     "output_type": "stream",
     "text": [
      "[INFO] [2021-10-31 18:10:25,071] [OpenBox-Shadan] Iteration 223, objective value: [45.14026520192924].\n"
     ]
    },
    {
     "name": "stderr",
     "output_type": "stream",
     "text": [
      "\r",
      " 22%|██▏       | 223/1000 [3:47:13<18:28:49, 85.62s/it]"
     ]
    },
    {
     "name": "stdout",
     "output_type": "stream",
     "text": [
      "[INFO] [2021-10-31 18:12:19,725] [OpenBox-Shadan] Iteration 224, objective value: [34.93641321660057].\n"
     ]
    },
    {
     "name": "stderr",
     "output_type": "stream",
     "text": [
      "\r",
      " 22%|██▏       | 224/1000 [3:49:08<20:20:02, 94.33s/it]"
     ]
    },
    {
     "name": "stdout",
     "output_type": "stream",
     "text": [
      "[INFO] [2021-10-31 18:13:49,370] [OpenBox-Shadan] Iteration 225, objective value: [34.513652367727346].\n"
     ]
    },
    {
     "name": "stderr",
     "output_type": "stream",
     "text": [
      "\r",
      " 22%|██▎       | 225/1000 [3:50:38<20:00:17, 92.93s/it]"
     ]
    },
    {
     "name": "stdout",
     "output_type": "stream",
     "text": [
      "[INFO] [2021-10-31 18:15:06,988] [OpenBox-Shadan] Iteration 226, objective value: [45.58594887074739].\n"
     ]
    },
    {
     "name": "stderr",
     "output_type": "stream",
     "text": [
      "\r",
      " 23%|██▎       | 226/1000 [3:51:55<18:59:30, 88.33s/it]"
     ]
    },
    {
     "name": "stdout",
     "output_type": "stream",
     "text": [
      "[INFO] [2021-10-31 18:16:16,103] [OpenBox-Shadan] Iteration 227, objective value: [40.577132539202374].\n"
     ]
    },
    {
     "name": "stderr",
     "output_type": "stream",
     "text": [
      "\r",
      " 23%|██▎       | 227/1000 [3:53:04<17:43:45, 82.57s/it]"
     ]
    },
    {
     "name": "stdout",
     "output_type": "stream",
     "text": [
      "[INFO] [2021-10-31 18:17:15,621] [OpenBox-Shadan] Iteration 228, objective value: [53.15449148164396].\n"
     ]
    },
    {
     "name": "stderr",
     "output_type": "stream",
     "text": [
      "\r",
      " 23%|██▎       | 228/1000 [3:54:04<16:13:23, 75.65s/it]"
     ]
    },
    {
     "name": "stdout",
     "output_type": "stream",
     "text": [
      "[INFO] [2021-10-31 18:18:10,568] [OpenBox-Shadan] Iteration 229, objective value: [100.0].\n"
     ]
    },
    {
     "name": "stderr",
     "output_type": "stream",
     "text": [
      "\r",
      " 23%|██▎       | 229/1000 [3:54:59<14:52:19, 69.44s/it]"
     ]
    },
    {
     "name": "stdout",
     "output_type": "stream",
     "text": [
      "[INFO] [2021-10-31 18:19:42,455] [OpenBox-Shadan] Iteration 230, objective value: [51.40252657464111].\n"
     ]
    },
    {
     "name": "stderr",
     "output_type": "stream",
     "text": [
      "\r",
      " 23%|██▎       | 230/1000 [3:56:31<16:17:34, 76.18s/it]"
     ]
    },
    {
     "name": "stdout",
     "output_type": "stream",
     "text": [
      "[INFO] [2021-10-31 18:20:40,954] [OpenBox-Shadan] Iteration 231, objective value: [100.0].\n"
     ]
    },
    {
     "name": "stderr",
     "output_type": "stream",
     "text": [
      "\r",
      " 23%|██▎       | 231/1000 [3:57:29<15:08:20, 70.87s/it]"
     ]
    },
    {
     "name": "stdout",
     "output_type": "stream",
     "text": [
      "[INFO] [2021-10-31 18:21:45,489] [OpenBox-Shadan] Iteration 232, objective value: [38.35287030288688].\n"
     ]
    },
    {
     "name": "stderr",
     "output_type": "stream",
     "text": [
      "\r",
      " 23%|██▎       | 232/1000 [3:58:34<14:42:49, 68.97s/it]"
     ]
    },
    {
     "name": "stdout",
     "output_type": "stream",
     "text": [
      "[INFO] [2021-10-31 18:22:55,577] [OpenBox-Shadan] Iteration 233, objective value: [32.00529401195172].\n"
     ]
    },
    {
     "name": "stderr",
     "output_type": "stream",
     "text": [
      "\r",
      " 23%|██▎       | 233/1000 [3:59:44<14:45:57, 69.31s/it]"
     ]
    },
    {
     "name": "stdout",
     "output_type": "stream",
     "text": [
      "[INFO] [2021-10-31 18:24:13,772] [OpenBox-Shadan] Iteration 234, objective value: [51.73296689462406].\n"
     ]
    },
    {
     "name": "stderr",
     "output_type": "stream",
     "text": [
      "\r",
      " 23%|██▎       | 234/1000 [4:01:02<15:18:51, 71.97s/it]"
     ]
    },
    {
     "name": "stdout",
     "output_type": "stream",
     "text": [
      "[INFO] [2021-10-31 18:25:17,119] [OpenBox-Shadan] Iteration 235, objective value: [50.71985431882669].\n"
     ]
    },
    {
     "name": "stderr",
     "output_type": "stream",
     "text": [
      "\r",
      " 24%|██▎       | 235/1000 [4:02:05<14:44:39, 69.38s/it]"
     ]
    },
    {
     "name": "stdout",
     "output_type": "stream",
     "text": [
      "[INFO] [2021-10-31 18:26:38,395] [OpenBox-Shadan] Iteration 236, objective value: [46.79281986464494].\n"
     ]
    },
    {
     "name": "stderr",
     "output_type": "stream",
     "text": [
      "\r",
      " 24%|██▎       | 236/1000 [4:03:27<15:28:55, 72.95s/it]"
     ]
    },
    {
     "name": "stdout",
     "output_type": "stream",
     "text": [
      "[INFO] [2021-10-31 18:28:01,620] [OpenBox-Shadan] Iteration 237, objective value: [45.78248079479248].\n"
     ]
    },
    {
     "name": "stderr",
     "output_type": "stream",
     "text": [
      "\r",
      " 24%|██▎       | 237/1000 [4:04:50<16:06:53, 76.03s/it]"
     ]
    },
    {
     "name": "stdout",
     "output_type": "stream",
     "text": [
      "[INFO] [2021-10-31 18:29:24,700] [OpenBox-Shadan] Iteration 238, objective value: [46.11627700765211].\n"
     ]
    },
    {
     "name": "stderr",
     "output_type": "stream",
     "text": [
      "\r",
      " 24%|██▍       | 238/1000 [4:06:13<16:32:28, 78.15s/it]"
     ]
    },
    {
     "name": "stdout",
     "output_type": "stream",
     "text": [
      "[INFO] [2021-10-31 18:30:48,952] [OpenBox-Shadan] Iteration 239, objective value: [51.89268126763775].\n"
     ]
    },
    {
     "name": "stderr",
     "output_type": "stream",
     "text": [
      "\r",
      " 24%|██▍       | 239/1000 [4:07:37<16:54:24, 79.98s/it]"
     ]
    },
    {
     "name": "stdout",
     "output_type": "stream",
     "text": [
      "[INFO] [2021-10-31 18:31:54,045] [OpenBox-Shadan] Iteration 240, objective value: [100.0].\n"
     ]
    },
    {
     "name": "stderr",
     "output_type": "stream",
     "text": [
      "\r",
      " 24%|██▍       | 240/1000 [4:08:42<15:56:30, 75.51s/it]"
     ]
    },
    {
     "name": "stdout",
     "output_type": "stream",
     "text": [
      "[INFO] [2021-10-31 18:33:22,034] [OpenBox-Shadan] Iteration 241, objective value: [37.73912491465068].\n"
     ]
    },
    {
     "name": "stderr",
     "output_type": "stream",
     "text": [
      "\r",
      " 24%|██▍       | 241/1000 [4:10:10<16:42:35, 79.26s/it]"
     ]
    },
    {
     "name": "stdout",
     "output_type": "stream",
     "text": [
      "[INFO] [2021-10-31 18:34:52,442] [OpenBox-Shadan] Iteration 242, objective value: [56.41670069417895].\n"
     ]
    },
    {
     "name": "stderr",
     "output_type": "stream",
     "text": [
      "\r",
      " 24%|██▍       | 242/1000 [4:11:41<17:23:31, 82.60s/it]"
     ]
    },
    {
     "name": "stdout",
     "output_type": "stream",
     "text": [
      "[INFO] [2021-10-31 18:36:18,374] [OpenBox-Shadan] Iteration 243, objective value: [35.783833926101664].\n"
     ]
    },
    {
     "name": "stderr",
     "output_type": "stream",
     "text": [
      "\r",
      " 24%|██▍       | 243/1000 [4:13:07<17:34:45, 83.60s/it]"
     ]
    },
    {
     "name": "stdout",
     "output_type": "stream",
     "text": [
      "[INFO] [2021-10-31 18:37:28,067] [OpenBox-Shadan] Iteration 244, objective value: [42.58496180945011].\n"
     ]
    },
    {
     "name": "stderr",
     "output_type": "stream",
     "text": [
      "\r",
      " 24%|██▍       | 244/1000 [4:14:16<16:40:47, 79.43s/it]"
     ]
    },
    {
     "name": "stdout",
     "output_type": "stream",
     "text": [
      "[INFO] [2021-10-31 18:38:54,171] [OpenBox-Shadan] Iteration 245, objective value: [55.36080618027434].\n"
     ]
    },
    {
     "name": "stderr",
     "output_type": "stream",
     "text": [
      "\r",
      " 24%|██▍       | 245/1000 [4:15:43<17:04:40, 81.43s/it]"
     ]
    },
    {
     "name": "stdout",
     "output_type": "stream",
     "text": [
      "[INFO] [2021-10-31 18:40:37,458] [OpenBox-Shadan] Iteration 246, objective value: [45.23710458245712].\n"
     ]
    },
    {
     "name": "stderr",
     "output_type": "stream",
     "text": [
      "\r",
      " 25%|██▍       | 246/1000 [4:17:26<18:25:42, 87.99s/it]"
     ]
    },
    {
     "name": "stdout",
     "output_type": "stream",
     "text": [
      "[INFO] [2021-10-31 18:41:29,185] [OpenBox-Shadan] Iteration 247, objective value: [37.218282985426264].\n"
     ]
    },
    {
     "name": "stderr",
     "output_type": "stream",
     "text": [
      "\r",
      " 25%|██▍       | 247/1000 [4:18:18<16:07:43, 77.11s/it]"
     ]
    },
    {
     "name": "stdout",
     "output_type": "stream",
     "text": [
      "[INFO] [2021-10-31 18:43:11,019] [OpenBox-Shadan] Iteration 248, objective value: [50.17247804300191].\n"
     ]
    },
    {
     "name": "stderr",
     "output_type": "stream",
     "text": [
      "\r",
      " 25%|██▍       | 248/1000 [4:19:59<17:39:24, 84.53s/it]"
     ]
    },
    {
     "name": "stdout",
     "output_type": "stream",
     "text": [
      "[INFO] [2021-10-31 18:44:29,712] [OpenBox-Shadan] Iteration 249, objective value: [100.0].\n"
     ]
    },
    {
     "name": "stderr",
     "output_type": "stream",
     "text": [
      "\r",
      " 25%|██▍       | 249/1000 [4:21:18<17:16:05, 82.78s/it]"
     ]
    },
    {
     "name": "stdout",
     "output_type": "stream",
     "text": [
      "[INFO] [2021-10-31 18:45:54,781] [OpenBox-Shadan] Iteration 250, objective value: [33.67021614354458].\n"
     ]
    },
    {
     "name": "stderr",
     "output_type": "stream",
     "text": [
      "\r",
      " 25%|██▌       | 250/1000 [4:22:43<17:23:18, 83.46s/it]"
     ]
    },
    {
     "name": "stdout",
     "output_type": "stream",
     "text": [
      "[INFO] [2021-10-31 18:47:05,121] [OpenBox-Shadan] Iteration 251, objective value: [70.484856522805].\n"
     ]
    },
    {
     "name": "stderr",
     "output_type": "stream",
     "text": [
      "\r",
      " 25%|██▌       | 251/1000 [4:23:53<16:32:45, 79.53s/it]"
     ]
    },
    {
     "name": "stdout",
     "output_type": "stream",
     "text": [
      "[INFO] [2021-10-31 18:48:32,554] [OpenBox-Shadan] Iteration 252, objective value: [41.6276390355884].\n"
     ]
    },
    {
     "name": "stderr",
     "output_type": "stream",
     "text": [
      "\r",
      " 25%|██▌       | 252/1000 [4:25:21<17:01:00, 81.90s/it]"
     ]
    },
    {
     "name": "stdout",
     "output_type": "stream",
     "text": [
      "[INFO] [2021-10-31 18:50:18,166] [OpenBox-Shadan] Iteration 253, objective value: [100.0].\n"
     ]
    },
    {
     "name": "stderr",
     "output_type": "stream",
     "text": [
      "\r",
      " 25%|██▌       | 253/1000 [4:27:06<18:28:12, 89.01s/it]"
     ]
    },
    {
     "name": "stdout",
     "output_type": "stream",
     "text": [
      "[INFO] [2021-10-31 18:51:51,934] [OpenBox-Shadan] Iteration 254, objective value: [39.76937338614748].\n"
     ]
    },
    {
     "name": "stderr",
     "output_type": "stream",
     "text": [
      "\r",
      " 25%|██▌       | 254/1000 [4:28:40<18:44:27, 90.44s/it]"
     ]
    },
    {
     "name": "stdout",
     "output_type": "stream",
     "text": [
      "[INFO] [2021-10-31 18:53:16,871] [OpenBox-Shadan] Iteration 255, objective value: [38.02127416274688].\n"
     ]
    },
    {
     "name": "stderr",
     "output_type": "stream",
     "text": [
      "\r",
      " 26%|██▌       | 255/1000 [4:30:05<18:22:27, 88.79s/it]"
     ]
    },
    {
     "name": "stdout",
     "output_type": "stream",
     "text": [
      "[INFO] [2021-10-31 18:55:07,078] [OpenBox-Shadan] Iteration 256, objective value: [100.0].\n"
     ]
    },
    {
     "name": "stderr",
     "output_type": "stream",
     "text": [
      "\r",
      " 26%|██▌       | 256/1000 [4:31:55<19:40:39, 95.21s/it]"
     ]
    },
    {
     "name": "stdout",
     "output_type": "stream",
     "text": [
      "[INFO] [2021-10-31 18:56:56,704] [OpenBox-Shadan] Iteration 257, objective value: [43.96795920763618].\n"
     ]
    },
    {
     "name": "stderr",
     "output_type": "stream",
     "text": [
      "\r",
      " 26%|██▌       | 257/1000 [4:33:45<20:32:36, 99.54s/it]"
     ]
    },
    {
     "name": "stdout",
     "output_type": "stream",
     "text": [
      "[INFO] [2021-10-31 18:58:18,216] [OpenBox-Shadan] Iteration 258, objective value: [36.86146395069565].\n"
     ]
    },
    {
     "name": "stderr",
     "output_type": "stream",
     "text": [
      "\r",
      " 26%|██▌       | 258/1000 [4:35:07<19:24:04, 94.13s/it]"
     ]
    },
    {
     "name": "stdout",
     "output_type": "stream",
     "text": [
      "[INFO] [2021-10-31 18:59:55,352] [OpenBox-Shadan] Iteration 259, objective value: [100.0].\n"
     ]
    },
    {
     "name": "stderr",
     "output_type": "stream",
     "text": [
      "\r",
      " 26%|██▌       | 259/1000 [4:36:44<19:33:38, 95.03s/it]"
     ]
    },
    {
     "name": "stdout",
     "output_type": "stream",
     "text": [
      "[INFO] [2021-10-31 19:01:32,685] [OpenBox-Shadan] Iteration 260, objective value: [33.871602867288516].\n"
     ]
    },
    {
     "name": "stderr",
     "output_type": "stream",
     "text": [
      "\r",
      " 26%|██▌       | 260/1000 [4:38:21<19:40:34, 95.72s/it]"
     ]
    },
    {
     "name": "stdout",
     "output_type": "stream",
     "text": [
      "[INFO] [2021-10-31 19:02:54,257] [OpenBox-Shadan] Iteration 261, objective value: [51.91597688487197].\n"
     ]
    },
    {
     "name": "stderr",
     "output_type": "stream",
     "text": [
      "\r",
      " 26%|██▌       | 261/1000 [4:39:43<18:46:41, 91.48s/it]"
     ]
    },
    {
     "name": "stdout",
     "output_type": "stream",
     "text": [
      "[INFO] [2021-10-31 19:04:15,799] [OpenBox-Shadan] Iteration 262, objective value: [38.56907713426174].\n"
     ]
    },
    {
     "name": "stderr",
     "output_type": "stream",
     "text": [
      "\r",
      " 26%|██▌       | 262/1000 [4:41:04<18:08:30, 88.50s/it]"
     ]
    },
    {
     "name": "stdout",
     "output_type": "stream",
     "text": [
      "[INFO] [2021-10-31 19:05:17,217] [OpenBox-Shadan] Iteration 263, objective value: [44.53128914733552].\n"
     ]
    },
    {
     "name": "stderr",
     "output_type": "stream",
     "text": [
      "\r",
      " 26%|██▋       | 263/1000 [4:42:06<16:27:15, 80.37s/it]"
     ]
    },
    {
     "name": "stdout",
     "output_type": "stream",
     "text": [
      "[INFO] [2021-10-31 19:06:49,589] [OpenBox-Shadan] Iteration 264, objective value: [100.0].\n"
     ]
    },
    {
     "name": "stderr",
     "output_type": "stream",
     "text": [
      "\r",
      " 26%|██▋       | 264/1000 [4:43:38<17:10:03, 83.97s/it]"
     ]
    },
    {
     "name": "stdout",
     "output_type": "stream",
     "text": [
      "[INFO] [2021-10-31 19:08:31,243] [OpenBox-Shadan] Iteration 265, objective value: [100.0].\n"
     ]
    },
    {
     "name": "stderr",
     "output_type": "stream",
     "text": [
      "\r",
      " 26%|██▋       | 265/1000 [4:45:20<18:13:38, 89.28s/it]"
     ]
    },
    {
     "name": "stdout",
     "output_type": "stream",
     "text": [
      "[INFO] [2021-10-31 19:09:48,190] [OpenBox-Shadan] Iteration 266, objective value: [35.9385870896391].\n"
     ]
    },
    {
     "name": "stderr",
     "output_type": "stream",
     "text": [
      "\r",
      " 27%|██▋       | 266/1000 [4:46:37<17:26:54, 85.58s/it]"
     ]
    },
    {
     "name": "stdout",
     "output_type": "stream",
     "text": [
      "[INFO] [2021-10-31 19:11:17,941] [OpenBox-Shadan] Iteration 267, objective value: [41.218490549095286].\n"
     ]
    },
    {
     "name": "stderr",
     "output_type": "stream",
     "text": [
      "\r",
      " 27%|██▋       | 267/1000 [4:48:06<17:40:46, 86.83s/it]"
     ]
    },
    {
     "name": "stdout",
     "output_type": "stream",
     "text": [
      "[INFO] [2021-10-31 19:12:09,353] [OpenBox-Shadan] Iteration 268, objective value: [38.587513615030275].\n"
     ]
    },
    {
     "name": "stderr",
     "output_type": "stream",
     "text": [
      "\r",
      " 27%|██▋       | 268/1000 [4:48:58<15:29:41, 76.20s/it]"
     ]
    },
    {
     "name": "stdout",
     "output_type": "stream",
     "text": [
      "[INFO] [2021-10-31 19:13:17,087] [OpenBox-Shadan] Iteration 269, objective value: [45.360926950756244].\n"
     ]
    },
    {
     "name": "stderr",
     "output_type": "stream",
     "text": [
      "\r",
      " 27%|██▋       | 269/1000 [4:50:05<14:57:27, 73.66s/it]"
     ]
    },
    {
     "name": "stdout",
     "output_type": "stream",
     "text": [
      "[INFO] [2021-10-31 19:14:42,866] [OpenBox-Shadan] Iteration 270, objective value: [44.847478411567174].\n"
     ]
    },
    {
     "name": "stderr",
     "output_type": "stream",
     "text": [
      "\r",
      " 27%|██▋       | 270/1000 [4:51:31<15:40:27, 77.30s/it]"
     ]
    },
    {
     "name": "stdout",
     "output_type": "stream",
     "text": [
      "[INFO] [2021-10-31 19:15:58,994] [OpenBox-Shadan] Iteration 271, objective value: [41.363988768382875].\n"
     ]
    },
    {
     "name": "stderr",
     "output_type": "stream",
     "text": [
      "\r",
      " 27%|██▋       | 271/1000 [4:52:47<15:34:54, 76.95s/it]"
     ]
    },
    {
     "name": "stdout",
     "output_type": "stream",
     "text": [
      "[INFO] [2021-10-31 19:17:38,932] [OpenBox-Shadan] Iteration 272, objective value: [56.093607450808996].\n"
     ]
    },
    {
     "name": "stderr",
     "output_type": "stream",
     "text": [
      "\r",
      " 27%|██▋       | 272/1000 [4:54:27<16:57:18, 83.84s/it]"
     ]
    },
    {
     "name": "stdout",
     "output_type": "stream",
     "text": [
      "[INFO] [2021-10-31 19:19:08,526] [OpenBox-Shadan] Iteration 273, objective value: [39.455635775690865].\n"
     ]
    },
    {
     "name": "stderr",
     "output_type": "stream",
     "text": [
      "\r",
      " 27%|██▋       | 273/1000 [4:55:57<17:16:48, 85.57s/it]"
     ]
    },
    {
     "name": "stdout",
     "output_type": "stream",
     "text": [
      "[INFO] [2021-10-31 19:20:16,191] [OpenBox-Shadan] Iteration 274, objective value: [45.24454582966961].\n"
     ]
    },
    {
     "name": "stderr",
     "output_type": "stream",
     "text": [
      "\r",
      " 27%|██▋       | 274/1000 [4:57:05<16:10:23, 80.20s/it]"
     ]
    },
    {
     "name": "stdout",
     "output_type": "stream",
     "text": [
      "[INFO] [2021-10-31 19:21:47,347] [OpenBox-Shadan] Iteration 275, objective value: [100.0].\n"
     ]
    },
    {
     "name": "stderr",
     "output_type": "stream",
     "text": [
      "\r",
      " 28%|██▊       | 275/1000 [4:58:36<16:48:46, 83.49s/it]"
     ]
    },
    {
     "name": "stdout",
     "output_type": "stream",
     "text": [
      "[INFO] [2021-10-31 19:23:09,960] [OpenBox-Shadan] Iteration 276, objective value: [43.3601264540545].\n"
     ]
    },
    {
     "name": "stderr",
     "output_type": "stream",
     "text": [
      "\r",
      " 28%|██▊       | 276/1000 [4:59:58<16:44:13, 83.22s/it]"
     ]
    },
    {
     "name": "stdout",
     "output_type": "stream",
     "text": [
      "[INFO] [2021-10-31 19:24:26,430] [OpenBox-Shadan] Iteration 277, objective value: [44.74471082987208].\n"
     ]
    },
    {
     "name": "stderr",
     "output_type": "stream",
     "text": [
      "\r",
      " 28%|██▊       | 277/1000 [5:01:15<16:18:25, 81.20s/it]"
     ]
    },
    {
     "name": "stdout",
     "output_type": "stream",
     "text": [
      "[INFO] [2021-10-31 19:26:23,988] [OpenBox-Shadan] Iteration 278, objective value: [37.852356229930706].\n"
     ]
    },
    {
     "name": "stderr",
     "output_type": "stream",
     "text": [
      "\r",
      " 28%|██▊       | 278/1000 [5:03:12<18:28:20, 92.11s/it]"
     ]
    },
    {
     "name": "stdout",
     "output_type": "stream",
     "text": [
      "[INFO] [2021-10-31 19:27:58,184] [OpenBox-Shadan] Iteration 279, objective value: [51.15585087495186].\n"
     ]
    },
    {
     "name": "stderr",
     "output_type": "stream",
     "text": [
      "\r",
      " 28%|██▊       | 279/1000 [5:04:47<18:34:20, 92.73s/it]"
     ]
    },
    {
     "name": "stdout",
     "output_type": "stream",
     "text": [
      "[INFO] [2021-10-31 19:29:39,947] [OpenBox-Shadan] Iteration 280, objective value: [43.36617587012687].\n"
     ]
    },
    {
     "name": "stderr",
     "output_type": "stream",
     "text": [
      "\r",
      " 28%|██▊       | 280/1000 [5:06:28<19:05:18, 95.44s/it]"
     ]
    },
    {
     "name": "stdout",
     "output_type": "stream",
     "text": [
      "[INFO] [2021-10-31 19:30:48,262] [OpenBox-Shadan] Iteration 281, objective value: [45.25503937110712].\n"
     ]
    },
    {
     "name": "stderr",
     "output_type": "stream",
     "text": [
      "\r",
      " 28%|██▊       | 281/1000 [5:07:37<17:26:11, 87.30s/it]"
     ]
    },
    {
     "name": "stdout",
     "output_type": "stream",
     "text": [
      "[INFO] [2021-10-31 19:32:10,371] [OpenBox-Shadan] Iteration 282, objective value: [46.3946745110817].\n"
     ]
    },
    {
     "name": "stderr",
     "output_type": "stream",
     "text": [
      "\r",
      " 28%|██▊       | 282/1000 [5:08:59<17:06:05, 85.75s/it]"
     ]
    },
    {
     "name": "stdout",
     "output_type": "stream",
     "text": [
      "[INFO] [2021-10-31 19:33:23,288] [OpenBox-Shadan] Iteration 283, objective value: [52.87935310459428].\n"
     ]
    },
    {
     "name": "stderr",
     "output_type": "stream",
     "text": [
      "\r",
      " 28%|██▊       | 283/1000 [5:10:12<16:18:40, 81.90s/it]"
     ]
    },
    {
     "name": "stdout",
     "output_type": "stream",
     "text": [
      "[INFO] [2021-10-31 19:34:53,181] [OpenBox-Shadan] Iteration 284, objective value: [48.85262971763132].\n"
     ]
    },
    {
     "name": "stderr",
     "output_type": "stream",
     "text": [
      "\r",
      " 28%|██▊       | 284/1000 [5:11:42<16:45:55, 84.30s/it]"
     ]
    },
    {
     "name": "stdout",
     "output_type": "stream",
     "text": [
      "[INFO] [2021-10-31 19:36:36,557] [OpenBox-Shadan] Iteration 285, objective value: [39.21104090146854].\n"
     ]
    },
    {
     "name": "stderr",
     "output_type": "stream",
     "text": [
      "\r",
      " 28%|██▊       | 285/1000 [5:13:25<17:52:44, 90.02s/it]"
     ]
    },
    {
     "name": "stdout",
     "output_type": "stream",
     "text": [
      "[INFO] [2021-10-31 19:38:08,007] [OpenBox-Shadan] Iteration 286, objective value: [39.438620052484254].\n"
     ]
    },
    {
     "name": "stderr",
     "output_type": "stream",
     "text": [
      "\r",
      " 29%|██▊       | 286/1000 [5:14:56<17:56:20, 90.45s/it]"
     ]
    },
    {
     "name": "stdout",
     "output_type": "stream",
     "text": [
      "[INFO] [2021-10-31 19:39:54,235] [OpenBox-Shadan] Iteration 287, objective value: [48.33353667650714].\n"
     ]
    },
    {
     "name": "stderr",
     "output_type": "stream",
     "text": [
      "\r",
      " 29%|██▊       | 287/1000 [5:16:43<18:51:05, 95.18s/it]"
     ]
    },
    {
     "name": "stdout",
     "output_type": "stream",
     "text": [
      "[INFO] [2021-10-31 19:41:34,755] [OpenBox-Shadan] Iteration 288, objective value: [39.378114846057].\n"
     ]
    },
    {
     "name": "stderr",
     "output_type": "stream",
     "text": [
      "\r",
      " 29%|██▉       | 288/1000 [5:18:23<19:08:30, 96.78s/it]"
     ]
    },
    {
     "name": "stdout",
     "output_type": "stream",
     "text": [
      "[INFO] [2021-10-31 19:43:14,920] [OpenBox-Shadan] Iteration 289, objective value: [33.86411193959444].\n"
     ]
    },
    {
     "name": "stderr",
     "output_type": "stream",
     "text": [
      "\r",
      " 29%|██▉       | 289/1000 [5:20:03<19:18:54, 97.80s/it]"
     ]
    },
    {
     "name": "stdout",
     "output_type": "stream",
     "text": [
      "[INFO] [2021-10-31 19:45:24,751] [OpenBox-Shadan] Iteration 290, objective value: [51.61335846218563].\n"
     ]
    },
    {
     "name": "stderr",
     "output_type": "stream",
     "text": [
      "\r",
      " 29%|██▉       | 290/1000 [5:22:13<21:10:59, 107.41s/it]"
     ]
    },
    {
     "name": "stdout",
     "output_type": "stream",
     "text": [
      "[INFO] [2021-10-31 19:47:03,613] [OpenBox-Shadan] Iteration 291, objective value: [100.0].\n"
     ]
    },
    {
     "name": "stderr",
     "output_type": "stream",
     "text": [
      "\r",
      " 29%|██▉       | 291/1000 [5:23:52<20:38:54, 104.84s/it]"
     ]
    },
    {
     "name": "stdout",
     "output_type": "stream",
     "text": [
      "[INFO] [2021-10-31 19:49:02,319] [OpenBox-Shadan] Iteration 292, objective value: [56.081211269972684].\n"
     ]
    },
    {
     "name": "stderr",
     "output_type": "stream",
     "text": [
      "\r",
      " 29%|██▉       | 292/1000 [5:25:51<21:26:13, 109.00s/it]"
     ]
    },
    {
     "name": "stdout",
     "output_type": "stream",
     "text": [
      "[INFO] [2021-10-31 19:51:14,674] [OpenBox-Shadan] Iteration 293, objective value: [100.0].\n"
     ]
    },
    {
     "name": "stderr",
     "output_type": "stream",
     "text": [
      "\r",
      " 29%|██▉       | 293/1000 [5:28:03<22:46:57, 116.01s/it]"
     ]
    },
    {
     "name": "stdout",
     "output_type": "stream",
     "text": [
      "[INFO] [2021-10-31 19:52:48,743] [OpenBox-Shadan] Iteration 294, objective value: [46.36252803821584].\n"
     ]
    },
    {
     "name": "stderr",
     "output_type": "stream",
     "text": [
      "\r",
      " 29%|██▉       | 294/1000 [5:29:37<21:27:35, 109.43s/it]"
     ]
    },
    {
     "name": "stdout",
     "output_type": "stream",
     "text": [
      "[INFO] [2021-10-31 19:54:23,717] [OpenBox-Shadan] Iteration 295, objective value: [47.07358016599843].\n"
     ]
    },
    {
     "name": "stderr",
     "output_type": "stream",
     "text": [
      "\r",
      " 30%|██▉       | 295/1000 [5:31:12<20:34:49, 105.09s/it]"
     ]
    },
    {
     "name": "stdout",
     "output_type": "stream",
     "text": [
      "[INFO] [2021-10-31 19:55:59,790] [OpenBox-Shadan] Iteration 296, objective value: [51.10260889471053].\n"
     ]
    },
    {
     "name": "stderr",
     "output_type": "stream",
     "text": [
      "\r",
      " 30%|██▉       | 296/1000 [5:32:48<20:01:19, 102.39s/it]"
     ]
    },
    {
     "name": "stdout",
     "output_type": "stream",
     "text": [
      "[INFO] [2021-10-31 19:57:31,088] [OpenBox-Shadan] Iteration 297, objective value: [45.85710345719074].\n"
     ]
    },
    {
     "name": "stderr",
     "output_type": "stream",
     "text": [
      "\r",
      " 30%|██▉       | 297/1000 [5:34:19<19:20:38, 99.06s/it] "
     ]
    },
    {
     "name": "stdout",
     "output_type": "stream",
     "text": [
      "[INFO] [2021-10-31 19:59:02,796] [OpenBox-Shadan] Iteration 298, objective value: [50.86647344331254].\n"
     ]
    },
    {
     "name": "stderr",
     "output_type": "stream",
     "text": [
      "\r",
      " 30%|██▉       | 298/1000 [5:35:51<18:53:11, 96.85s/it]"
     ]
    },
    {
     "name": "stdout",
     "output_type": "stream",
     "text": [
      "[INFO] [2021-10-31 20:00:26,827] [OpenBox-Shadan] Iteration 299, objective value: [39.65501142251886].\n"
     ]
    },
    {
     "name": "stderr",
     "output_type": "stream",
     "text": [
      "\r",
      " 30%|██▉       | 299/1000 [5:37:15<18:06:37, 93.01s/it]"
     ]
    },
    {
     "name": "stdout",
     "output_type": "stream",
     "text": [
      "[INFO] [2021-10-31 20:01:56,100] [OpenBox-Shadan] Iteration 300, objective value: [36.85925429214214].\n"
     ]
    },
    {
     "name": "stderr",
     "output_type": "stream",
     "text": [
      "\r",
      " 30%|███       | 300/1000 [5:38:44<17:52:00, 91.89s/it]"
     ]
    },
    {
     "name": "stdout",
     "output_type": "stream",
     "text": [
      "[INFO] [2021-10-31 20:03:21,223] [OpenBox-Shadan] Iteration 301, objective value: [49.78040926730299].\n"
     ]
    },
    {
     "name": "stderr",
     "output_type": "stream",
     "text": [
      "\r",
      " 30%|███       | 301/1000 [5:40:10<17:26:50, 89.86s/it]"
     ]
    },
    {
     "name": "stdout",
     "output_type": "stream",
     "text": [
      "[INFO] [2021-10-31 20:05:07,353] [OpenBox-Shadan] Iteration 302, objective value: [31.467333640787288].\n"
     ]
    },
    {
     "name": "stderr",
     "output_type": "stream",
     "text": [
      "\r",
      " 30%|███       | 302/1000 [5:41:56<18:22:08, 94.74s/it]"
     ]
    },
    {
     "name": "stdout",
     "output_type": "stream",
     "text": [
      "[INFO] [2021-10-31 20:06:37,580] [OpenBox-Shadan] Iteration 303, objective value: [45.1369918156788].\n"
     ]
    },
    {
     "name": "stderr",
     "output_type": "stream",
     "text": [
      "\r",
      " 30%|███       | 303/1000 [5:43:26<18:04:49, 93.39s/it]"
     ]
    },
    {
     "name": "stdout",
     "output_type": "stream",
     "text": [
      "[INFO] [2021-10-31 20:08:47,269] [OpenBox-Shadan] Iteration 304, objective value: [50.00986562834528].\n"
     ]
    },
    {
     "name": "stderr",
     "output_type": "stream",
     "text": [
      "\r",
      " 30%|███       | 304/1000 [5:45:36<20:09:36, 104.28s/it]"
     ]
    },
    {
     "name": "stdout",
     "output_type": "stream",
     "text": [
      "[INFO] [2021-10-31 20:10:59,529] [OpenBox-Shadan] Iteration 305, objective value: [44.2380256216104].\n"
     ]
    },
    {
     "name": "stderr",
     "output_type": "stream",
     "text": [
      "\r",
      " 30%|███       | 305/1000 [5:47:48<21:45:06, 112.67s/it]"
     ]
    },
    {
     "name": "stdout",
     "output_type": "stream",
     "text": [
      "[INFO] [2021-10-31 20:12:22,316] [OpenBox-Shadan] Iteration 306, objective value: [38.64762237131373].\n"
     ]
    },
    {
     "name": "stderr",
     "output_type": "stream",
     "text": [
      "\r",
      " 31%|███       | 306/1000 [5:49:11<19:59:32, 103.71s/it]"
     ]
    },
    {
     "name": "stdout",
     "output_type": "stream",
     "text": [
      "[INFO] [2021-10-31 20:14:10,245] [OpenBox-Shadan] Iteration 307, objective value: [40.603538378356795].\n"
     ]
    },
    {
     "name": "stderr",
     "output_type": "stream",
     "text": [
      "\r",
      " 31%|███       | 307/1000 [5:50:59<20:12:26, 104.97s/it]"
     ]
    },
    {
     "name": "stdout",
     "output_type": "stream",
     "text": [
      "[INFO] [2021-10-31 20:16:38,805] [OpenBox-Shadan] Iteration 308, objective value: [47.057107696340616].\n"
     ]
    },
    {
     "name": "stderr",
     "output_type": "stream",
     "text": [
      "\r",
      " 31%|███       | 308/1000 [5:53:27<22:41:30, 118.05s/it]"
     ]
    },
    {
     "name": "stdout",
     "output_type": "stream",
     "text": [
      "[INFO] [2021-10-31 20:18:42,134] [OpenBox-Shadan] Iteration 309, objective value: [41.474702171967174].\n"
     ]
    },
    {
     "name": "stderr",
     "output_type": "stream",
     "text": [
      "\r",
      " 31%|███       | 309/1000 [5:55:30<22:57:46, 119.63s/it]"
     ]
    },
    {
     "name": "stdout",
     "output_type": "stream",
     "text": [
      "[INFO] [2021-10-31 20:20:54,757] [OpenBox-Shadan] Iteration 310, objective value: [40.97372520648512].\n"
     ]
    },
    {
     "name": "stderr",
     "output_type": "stream",
     "text": [
      "\r",
      " 31%|███       | 310/1000 [5:57:43<23:40:35, 123.53s/it]"
     ]
    },
    {
     "name": "stdout",
     "output_type": "stream",
     "text": [
      "[INFO] [2021-10-31 20:23:23,273] [OpenBox-Shadan] Iteration 311, objective value: [35.78734215435789].\n"
     ]
    },
    {
     "name": "stderr",
     "output_type": "stream",
     "text": [
      "\r",
      " 31%|███       | 311/1000 [6:00:12<25:04:36, 131.03s/it]"
     ]
    },
    {
     "name": "stdout",
     "output_type": "stream",
     "text": [
      "[INFO] [2021-10-31 20:25:16,915] [OpenBox-Shadan] Iteration 312, objective value: [100.0].\n"
     ]
    },
    {
     "name": "stderr",
     "output_type": "stream",
     "text": [
      "\r",
      " 31%|███       | 312/1000 [6:02:05<24:02:37, 125.81s/it]"
     ]
    },
    {
     "name": "stdout",
     "output_type": "stream",
     "text": [
      "[INFO] [2021-10-31 20:27:18,431] [OpenBox-Shadan] Iteration 313, objective value: [40.191881298644226].\n"
     ]
    },
    {
     "name": "stderr",
     "output_type": "stream",
     "text": [
      "\r",
      " 31%|███▏      | 313/1000 [6:04:07<23:45:46, 124.52s/it]"
     ]
    },
    {
     "name": "stdout",
     "output_type": "stream",
     "text": [
      "[INFO] [2021-10-31 20:29:11,635] [OpenBox-Shadan] Iteration 314, objective value: [41.42206180804852].\n"
     ]
    },
    {
     "name": "stderr",
     "output_type": "stream",
     "text": [
      "\r",
      " 31%|███▏      | 314/1000 [6:06:00<23:04:52, 121.13s/it]"
     ]
    },
    {
     "name": "stdout",
     "output_type": "stream",
     "text": [
      "[INFO] [2021-10-31 20:31:23,959] [OpenBox-Shadan] Iteration 315, objective value: [51.68138840755073].\n"
     ]
    },
    {
     "name": "stderr",
     "output_type": "stream",
     "text": [
      "\r",
      " 32%|███▏      | 315/1000 [6:08:12<23:41:12, 124.49s/it]"
     ]
    },
    {
     "name": "stdout",
     "output_type": "stream",
     "text": [
      "[INFO] [2021-10-31 20:33:02,783] [OpenBox-Shadan] Iteration 316, objective value: [51.16999804401541].\n"
     ]
    },
    {
     "name": "stderr",
     "output_type": "stream",
     "text": [
      "\r",
      " 32%|███▏      | 316/1000 [6:09:51<22:11:22, 116.79s/it]"
     ]
    },
    {
     "name": "stdout",
     "output_type": "stream",
     "text": [
      "[INFO] [2021-10-31 20:34:55,951] [OpenBox-Shadan] Iteration 317, objective value: [30.844160807618564].\n"
     ]
    },
    {
     "name": "stderr",
     "output_type": "stream",
     "text": [
      "\r",
      " 32%|███▏      | 317/1000 [6:11:44<21:57:04, 115.70s/it]"
     ]
    },
    {
     "name": "stdout",
     "output_type": "stream",
     "text": [
      "[INFO] [2021-10-31 20:36:29,539] [OpenBox-Shadan] Iteration 318, objective value: [47.673576055080126].\n"
     ]
    },
    {
     "name": "stderr",
     "output_type": "stream",
     "text": [
      "\r",
      " 32%|███▏      | 318/1000 [6:13:18<20:39:44, 109.07s/it]"
     ]
    },
    {
     "name": "stdout",
     "output_type": "stream",
     "text": [
      "[INFO] [2021-10-31 20:38:08,422] [OpenBox-Shadan] Iteration 319, objective value: [35.12559147615474].\n"
     ]
    },
    {
     "name": "stderr",
     "output_type": "stream",
     "text": [
      "\r",
      " 32%|███▏      | 319/1000 [6:14:57<20:03:14, 106.01s/it]"
     ]
    },
    {
     "name": "stdout",
     "output_type": "stream",
     "text": [
      "[INFO] [2021-10-31 20:40:22,976] [OpenBox-Shadan] Iteration 320, objective value: [31.075238945050558].\n"
     ]
    },
    {
     "name": "stderr",
     "output_type": "stream",
     "text": [
      "\r",
      " 32%|███▏      | 320/1000 [6:17:11<21:38:30, 114.57s/it]"
     ]
    },
    {
     "name": "stdout",
     "output_type": "stream",
     "text": [
      "[INFO] [2021-10-31 20:42:12,286] [OpenBox-Shadan] Iteration 321, objective value: [32.33944731029939].\n"
     ]
    },
    {
     "name": "stderr",
     "output_type": "stream",
     "text": [
      "\r",
      " 32%|███▏      | 321/1000 [6:19:01<21:18:43, 113.00s/it]"
     ]
    },
    {
     "name": "stdout",
     "output_type": "stream",
     "text": [
      "[INFO] [2021-10-31 20:44:26,237] [OpenBox-Shadan] Iteration 322, objective value: [26.898893554795052].\n"
     ]
    },
    {
     "name": "stderr",
     "output_type": "stream",
     "text": [
      "\r",
      " 32%|███▏      | 322/1000 [6:21:15<22:27:53, 119.28s/it]"
     ]
    },
    {
     "name": "stdout",
     "output_type": "stream",
     "text": [
      "[INFO] [2021-10-31 20:46:46,991] [OpenBox-Shadan] Iteration 323, objective value: [100.0].\n"
     ]
    },
    {
     "name": "stderr",
     "output_type": "stream",
     "text": [
      "\r",
      " 32%|███▏      | 323/1000 [6:23:35<23:38:35, 125.72s/it]"
     ]
    },
    {
     "name": "stdout",
     "output_type": "stream",
     "text": [
      "[INFO] [2021-10-31 20:49:44,177] [OpenBox-Shadan] Iteration 324, objective value: [46.96396999050532].\n"
     ]
    },
    {
     "name": "stderr",
     "output_type": "stream",
     "text": [
      "\r",
      " 32%|███▏      | 324/1000 [6:26:33<26:30:25, 141.16s/it]"
     ]
    },
    {
     "name": "stdout",
     "output_type": "stream",
     "text": [
      "[INFO] [2021-10-31 20:51:42,476] [OpenBox-Shadan] Iteration 325, objective value: [38.40452699702992].\n"
     ]
    },
    {
     "name": "stderr",
     "output_type": "stream",
     "text": [
      "\r",
      " 32%|███▎      | 325/1000 [6:28:31<25:10:54, 134.30s/it]"
     ]
    },
    {
     "name": "stdout",
     "output_type": "stream",
     "text": [
      "[INFO] [2021-10-31 20:54:10,870] [OpenBox-Shadan] Iteration 326, objective value: [49.8817227941675].\n"
     ]
    },
    {
     "name": "stderr",
     "output_type": "stream",
     "text": [
      "\r",
      " 33%|███▎      | 326/1000 [6:30:59<25:56:09, 138.53s/it]"
     ]
    },
    {
     "name": "stdout",
     "output_type": "stream",
     "text": [
      "[INFO] [2021-10-31 20:55:17,384] [OpenBox-Shadan] Iteration 327, objective value: [100.0].\n"
     ]
    },
    {
     "name": "stderr",
     "output_type": "stream",
     "text": [
      "\r",
      " 33%|███▎      | 327/1000 [6:32:06<21:51:30, 116.93s/it]"
     ]
    },
    {
     "name": "stdout",
     "output_type": "stream",
     "text": [
      "[INFO] [2021-10-31 20:58:05,819] [OpenBox-Shadan] Iteration 328, objective value: [52.24428208791466].\n"
     ]
    },
    {
     "name": "stderr",
     "output_type": "stream",
     "text": [
      "\r",
      " 33%|███▎      | 328/1000 [6:34:54<24:42:38, 132.38s/it]"
     ]
    },
    {
     "name": "stdout",
     "output_type": "stream",
     "text": [
      "[INFO] [2021-10-31 21:00:24,024] [OpenBox-Shadan] Iteration 329, objective value: [40.84781228064684].\n"
     ]
    },
    {
     "name": "stderr",
     "output_type": "stream",
     "text": [
      "\r",
      " 33%|███▎      | 329/1000 [6:37:12<24:59:58, 134.13s/it]"
     ]
    },
    {
     "name": "stdout",
     "output_type": "stream",
     "text": [
      "[INFO] [2021-10-31 21:02:26,209] [OpenBox-Shadan] Iteration 330, objective value: [34.49751585078485].\n"
     ]
    },
    {
     "name": "stderr",
     "output_type": "stream",
     "text": [
      "\r",
      " 33%|███▎      | 330/1000 [6:39:15<24:17:44, 130.54s/it]"
     ]
    },
    {
     "name": "stdout",
     "output_type": "stream",
     "text": [
      "[INFO] [2021-10-31 21:04:28,614] [OpenBox-Shadan] Iteration 331, objective value: [39.16290152785068].\n"
     ]
    },
    {
     "name": "stderr",
     "output_type": "stream",
     "text": [
      "\r",
      " 33%|███▎      | 331/1000 [6:41:17<23:48:20, 128.10s/it]"
     ]
    },
    {
     "name": "stdout",
     "output_type": "stream",
     "text": [
      "[INFO] [2021-10-31 21:07:10,850] [OpenBox-Shadan] Iteration 332, objective value: [41.357376535009585].\n"
     ]
    },
    {
     "name": "stderr",
     "output_type": "stream",
     "text": [
      "\r",
      " 33%|███▎      | 332/1000 [6:43:59<25:40:12, 138.34s/it]"
     ]
    },
    {
     "name": "stdout",
     "output_type": "stream",
     "text": [
      "[INFO] [2021-10-31 21:09:33,535] [OpenBox-Shadan] Iteration 333, objective value: [100.0].\n"
     ]
    },
    {
     "name": "stderr",
     "output_type": "stream",
     "text": [
      "\r",
      " 33%|███▎      | 333/1000 [6:46:22<25:52:23, 139.65s/it]"
     ]
    },
    {
     "name": "stdout",
     "output_type": "stream",
     "text": [
      "[INFO] [2021-10-31 21:11:23,343] [OpenBox-Shadan] Iteration 334, objective value: [44.275792983450145].\n"
     ]
    },
    {
     "name": "stderr",
     "output_type": "stream",
     "text": [
      "\r",
      " 33%|███▎      | 334/1000 [6:48:12<24:10:42, 130.69s/it]"
     ]
    },
    {
     "name": "stdout",
     "output_type": "stream",
     "text": [
      "[INFO] [2021-10-31 21:14:07,169] [OpenBox-Shadan] Iteration 335, objective value: [34.299245284545265].\n"
     ]
    },
    {
     "name": "stderr",
     "output_type": "stream",
     "text": [
      "\r",
      " 34%|███▎      | 335/1000 [6:50:56<25:58:41, 140.63s/it]"
     ]
    },
    {
     "name": "stdout",
     "output_type": "stream",
     "text": [
      "[INFO] [2021-10-31 21:16:49,749] [OpenBox-Shadan] Iteration 336, objective value: [47.24722153739791].\n"
     ]
    },
    {
     "name": "stderr",
     "output_type": "stream",
     "text": [
      "\r",
      " 34%|███▎      | 336/1000 [6:53:38<27:09:12, 147.22s/it]"
     ]
    },
    {
     "name": "stdout",
     "output_type": "stream",
     "text": [
      "[INFO] [2021-10-31 21:18:54,414] [OpenBox-Shadan] Iteration 337, objective value: [42.84235117524572].\n"
     ]
    },
    {
     "name": "stderr",
     "output_type": "stream",
     "text": [
      "\r",
      " 34%|███▎      | 337/1000 [6:55:43<25:51:59, 140.45s/it]"
     ]
    },
    {
     "name": "stdout",
     "output_type": "stream",
     "text": [
      "[INFO] [2021-10-31 21:21:45,396] [OpenBox-Shadan] Iteration 338, objective value: [56.97447468484562].\n"
     ]
    },
    {
     "name": "stderr",
     "output_type": "stream",
     "text": [
      "\r",
      " 34%|███▍      | 338/1000 [6:58:34<27:30:42, 149.61s/it]"
     ]
    },
    {
     "name": "stdout",
     "output_type": "stream",
     "text": [
      "[INFO] [2021-10-31 21:24:38,914] [OpenBox-Shadan] Iteration 339, objective value: [39.60289087550963].\n"
     ]
    },
    {
     "name": "stderr",
     "output_type": "stream",
     "text": [
      "\r",
      " 34%|███▍      | 339/1000 [7:01:27<28:47:13, 156.78s/it]"
     ]
    },
    {
     "name": "stdout",
     "output_type": "stream",
     "text": [
      "[INFO] [2021-10-31 21:26:24,985] [OpenBox-Shadan] Iteration 340, objective value: [41.00116719816225].\n"
     ]
    },
    {
     "name": "stderr",
     "output_type": "stream",
     "text": [
      "\r",
      " 34%|███▍      | 340/1000 [7:03:13<25:57:15, 141.57s/it]"
     ]
    },
    {
     "name": "stdout",
     "output_type": "stream",
     "text": [
      "[INFO] [2021-10-31 21:29:28,493] [OpenBox-Shadan] Iteration 341, objective value: [52.81454169893816].\n"
     ]
    },
    {
     "name": "stderr",
     "output_type": "stream",
     "text": [
      "\r",
      " 34%|███▍      | 341/1000 [7:06:17<28:13:05, 154.15s/it]"
     ]
    },
    {
     "name": "stdout",
     "output_type": "stream",
     "text": [
      "[INFO] [2021-10-31 21:31:59,233] [OpenBox-Shadan] Iteration 342, objective value: [100.0].\n"
     ]
    },
    {
     "name": "stderr",
     "output_type": "stream",
     "text": [
      "\r",
      " 34%|███▍      | 342/1000 [7:08:48<27:59:18, 153.13s/it]"
     ]
    },
    {
     "name": "stdout",
     "output_type": "stream",
     "text": [
      "[INFO] [2021-10-31 21:34:06,291] [OpenBox-Shadan] Iteration 343, objective value: [36.290839901568475].\n"
     ]
    },
    {
     "name": "stderr",
     "output_type": "stream",
     "text": [
      "\r",
      " 34%|███▍      | 343/1000 [7:10:55<26:31:06, 145.31s/it]"
     ]
    },
    {
     "name": "stdout",
     "output_type": "stream",
     "text": [
      "[INFO] [2021-10-31 21:36:40,273] [OpenBox-Shadan] Iteration 344, objective value: [51.75948646681271].\n"
     ]
    },
    {
     "name": "stderr",
     "output_type": "stream",
     "text": [
      "\r",
      " 34%|███▍      | 344/1000 [7:13:29<26:57:08, 147.91s/it]"
     ]
    },
    {
     "name": "stdout",
     "output_type": "stream",
     "text": [
      "[INFO] [2021-10-31 21:38:52,767] [OpenBox-Shadan] Iteration 345, objective value: [44.14410471666754].\n"
     ]
    },
    {
     "name": "stderr",
     "output_type": "stream",
     "text": [
      "\r",
      " 34%|███▍      | 345/1000 [7:15:41<26:04:11, 143.28s/it]"
     ]
    },
    {
     "name": "stdout",
     "output_type": "stream",
     "text": [
      "[INFO] [2021-10-31 21:42:04,927] [OpenBox-Shadan] Iteration 346, objective value: [37.99458811992756].\n"
     ]
    },
    {
     "name": "stderr",
     "output_type": "stream",
     "text": [
      "\r",
      " 35%|███▍      | 346/1000 [7:18:53<28:41:37, 157.95s/it]"
     ]
    },
    {
     "name": "stdout",
     "output_type": "stream",
     "text": [
      "[INFO] [2021-10-31 21:44:45,100] [OpenBox-Shadan] Iteration 347, objective value: [46.63118298864936].\n"
     ]
    },
    {
     "name": "stderr",
     "output_type": "stream",
     "text": [
      "\r",
      " 35%|███▍      | 347/1000 [7:21:33<28:46:15, 158.62s/it]"
     ]
    },
    {
     "name": "stdout",
     "output_type": "stream",
     "text": [
      "[INFO] [2021-10-31 21:47:15,470] [OpenBox-Shadan] Iteration 348, objective value: [50.353654847299964].\n"
     ]
    },
    {
     "name": "stderr",
     "output_type": "stream",
     "text": [
      "\r",
      " 35%|███▍      | 348/1000 [7:24:04<28:16:44, 156.14s/it]"
     ]
    },
    {
     "name": "stdout",
     "output_type": "stream",
     "text": [
      "[INFO] [2021-10-31 21:49:36,537] [OpenBox-Shadan] Iteration 349, objective value: [29.98033066313708].\n"
     ]
    },
    {
     "name": "stderr",
     "output_type": "stream",
     "text": [
      "\r",
      " 35%|███▍      | 349/1000 [7:26:25<27:25:03, 151.62s/it]"
     ]
    },
    {
     "name": "stdout",
     "output_type": "stream",
     "text": [
      "[INFO] [2021-10-31 21:52:18,477] [OpenBox-Shadan] Iteration 350, objective value: [43.006787303060435].\n"
     ]
    },
    {
     "name": "stderr",
     "output_type": "stream",
     "text": [
      "\r",
      " 35%|███▌      | 350/1000 [7:29:07<27:56:05, 154.72s/it]"
     ]
    },
    {
     "name": "stdout",
     "output_type": "stream",
     "text": [
      "[INFO] [2021-10-31 21:54:55,841] [OpenBox-Shadan] Iteration 351, objective value: [45.241702490502846].\n"
     ]
    },
    {
     "name": "stderr",
     "output_type": "stream",
     "text": [
      "\r",
      " 35%|███▌      | 351/1000 [7:31:44<28:02:06, 155.51s/it]"
     ]
    },
    {
     "name": "stdout",
     "output_type": "stream",
     "text": [
      "[INFO] [2021-10-31 21:56:59,381] [OpenBox-Shadan] Iteration 352, objective value: [44.82832165293462].\n"
     ]
    },
    {
     "name": "stderr",
     "output_type": "stream",
     "text": [
      "\r",
      " 35%|███▌      | 352/1000 [7:33:48<26:15:55, 145.92s/it]"
     ]
    },
    {
     "name": "stdout",
     "output_type": "stream",
     "text": [
      "[INFO] [2021-10-31 21:59:10,198] [OpenBox-Shadan] Iteration 353, objective value: [51.40877177218236].\n"
     ]
    },
    {
     "name": "stderr",
     "output_type": "stream",
     "text": [
      "\r",
      " 35%|███▌      | 353/1000 [7:35:59<25:24:38, 141.39s/it]"
     ]
    },
    {
     "name": "stdout",
     "output_type": "stream",
     "text": [
      "[INFO] [2021-10-31 22:01:29,890] [OpenBox-Shadan] Iteration 354, objective value: [41.24599105097697].\n"
     ]
    },
    {
     "name": "stderr",
     "output_type": "stream",
     "text": [
      "\r",
      " 35%|███▌      | 354/1000 [7:38:18<25:16:48, 140.88s/it]"
     ]
    },
    {
     "name": "stdout",
     "output_type": "stream",
     "text": [
      "[INFO] [2021-10-31 22:03:37,412] [OpenBox-Shadan] Iteration 355, objective value: [51.850401608848095].\n"
     ]
    },
    {
     "name": "stderr",
     "output_type": "stream",
     "text": [
      "\r",
      " 36%|███▌      | 355/1000 [7:40:26<24:31:22, 136.87s/it]"
     ]
    },
    {
     "name": "stdout",
     "output_type": "stream",
     "text": [
      "[INFO] [2021-10-31 22:05:25,189] [OpenBox-Shadan] Iteration 356, objective value: [51.640155739840885].\n"
     ]
    },
    {
     "name": "stderr",
     "output_type": "stream",
     "text": [
      "\r",
      " 36%|███▌      | 356/1000 [7:42:14<22:55:24, 128.14s/it]"
     ]
    },
    {
     "name": "stdout",
     "output_type": "stream",
     "text": [
      "[INFO] [2021-10-31 22:07:58,350] [OpenBox-Shadan] Iteration 357, objective value: [100.0].\n"
     ]
    },
    {
     "name": "stderr",
     "output_type": "stream",
     "text": [
      "\r",
      " 36%|███▌      | 357/1000 [7:44:47<24:13:42, 135.65s/it]"
     ]
    },
    {
     "name": "stdout",
     "output_type": "stream",
     "text": [
      "[INFO] [2021-10-31 22:10:51,872] [OpenBox-Shadan] Iteration 358, objective value: [42.37429493815892].\n"
     ]
    },
    {
     "name": "stderr",
     "output_type": "stream",
     "text": [
      "\r",
      " 36%|███▌      | 358/1000 [7:47:40<26:13:00, 147.01s/it]"
     ]
    },
    {
     "name": "stdout",
     "output_type": "stream",
     "text": [
      "[INFO] [2021-10-31 22:12:56,333] [OpenBox-Shadan] Iteration 359, objective value: [46.45690020237879].\n"
     ]
    },
    {
     "name": "stderr",
     "output_type": "stream",
     "text": [
      "\r",
      " 36%|███▌      | 359/1000 [7:49:45<24:58:17, 140.25s/it]"
     ]
    },
    {
     "name": "stdout",
     "output_type": "stream",
     "text": [
      "[INFO] [2021-10-31 22:15:13,952] [OpenBox-Shadan] Iteration 360, objective value: [52.86675742931308].\n"
     ]
    },
    {
     "name": "stderr",
     "output_type": "stream",
     "text": [
      "\r",
      " 36%|███▌      | 360/1000 [7:52:02<24:47:32, 139.46s/it]"
     ]
    },
    {
     "name": "stdout",
     "output_type": "stream",
     "text": [
      "[INFO] [2021-10-31 22:17:26,994] [OpenBox-Shadan] Iteration 361, objective value: [100.0].\n"
     ]
    },
    {
     "name": "stderr",
     "output_type": "stream",
     "text": [
      "\r",
      " 36%|███▌      | 361/1000 [7:54:15<24:24:43, 137.53s/it]"
     ]
    },
    {
     "name": "stdout",
     "output_type": "stream",
     "text": [
      "[INFO] [2021-10-31 22:20:30,853] [OpenBox-Shadan] Iteration 362, objective value: [45.23907521494574].\n"
     ]
    },
    {
     "name": "stderr",
     "output_type": "stream",
     "text": [
      "\r",
      " 36%|███▌      | 362/1000 [7:57:19<26:50:12, 151.43s/it]"
     ]
    },
    {
     "name": "stdout",
     "output_type": "stream",
     "text": [
      "[INFO] [2021-10-31 22:22:22,725] [OpenBox-Shadan] Iteration 363, objective value: [50.06672212787963].\n"
     ]
    },
    {
     "name": "stderr",
     "output_type": "stream",
     "text": [
      "\r",
      " 36%|███▋      | 363/1000 [7:59:11<24:41:41, 139.56s/it]"
     ]
    },
    {
     "name": "stdout",
     "output_type": "stream",
     "text": [
      "[INFO] [2021-10-31 22:23:58,259] [OpenBox-Shadan] Iteration 364, objective value: [35.195352895784055].\n"
     ]
    },
    {
     "name": "stderr",
     "output_type": "stream",
     "text": [
      "\r",
      " 36%|███▋      | 364/1000 [8:00:47<22:19:21, 126.35s/it]"
     ]
    },
    {
     "name": "stdout",
     "output_type": "stream",
     "text": [
      "[INFO] [2021-10-31 22:26:06,528] [OpenBox-Shadan] Iteration 365, objective value: [50.27074287035161].\n"
     ]
    },
    {
     "name": "stderr",
     "output_type": "stream",
     "text": [
      "\r",
      " 36%|███▋      | 365/1000 [8:02:55<22:23:19, 126.93s/it]"
     ]
    },
    {
     "name": "stdout",
     "output_type": "stream",
     "text": [
      "[INFO] [2021-10-31 22:28:43,103] [OpenBox-Shadan] Iteration 366, objective value: [54.10956440680959].\n"
     ]
    },
    {
     "name": "stderr",
     "output_type": "stream",
     "text": [
      "\r",
      " 37%|███▋      | 366/1000 [8:05:31<23:55:11, 135.82s/it]"
     ]
    },
    {
     "name": "stdout",
     "output_type": "stream",
     "text": [
      "[INFO] [2021-10-31 22:30:50,042] [OpenBox-Shadan] Iteration 367, objective value: [40.64578952552608].\n"
     ]
    },
    {
     "name": "stderr",
     "output_type": "stream",
     "text": [
      "\r",
      " 37%|███▋      | 367/1000 [8:07:38<23:24:48, 133.16s/it]"
     ]
    },
    {
     "name": "stdout",
     "output_type": "stream",
     "text": [
      "[INFO] [2021-10-31 22:33:17,397] [OpenBox-Shadan] Iteration 368, objective value: [40.4661570933804].\n"
     ]
    },
    {
     "name": "stderr",
     "output_type": "stream",
     "text": [
      "\r",
      " 37%|███▋      | 368/1000 [8:10:06<24:07:27, 137.42s/it]"
     ]
    },
    {
     "name": "stdout",
     "output_type": "stream",
     "text": [
      "[INFO] [2021-10-31 22:36:09,051] [OpenBox-Shadan] Iteration 369, objective value: [100.0].\n"
     ]
    },
    {
     "name": "stderr",
     "output_type": "stream",
     "text": [
      "\r",
      " 37%|███▋      | 369/1000 [8:12:57<25:53:11, 147.69s/it]"
     ]
    },
    {
     "name": "stdout",
     "output_type": "stream",
     "text": [
      "[INFO] [2021-10-31 22:38:25,920] [OpenBox-Shadan] Iteration 370, objective value: [34.31534335420291].\n"
     ]
    },
    {
     "name": "stderr",
     "output_type": "stream",
     "text": [
      "\r",
      " 37%|███▋      | 370/1000 [8:15:14<25:16:38, 144.44s/it]"
     ]
    },
    {
     "name": "stdout",
     "output_type": "stream",
     "text": [
      "[INFO] [2021-10-31 22:41:07,598] [OpenBox-Shadan] Iteration 371, objective value: [53.495025403532196].\n"
     ]
    },
    {
     "name": "stderr",
     "output_type": "stream",
     "text": [
      "\r",
      " 37%|███▋      | 371/1000 [8:17:56<26:08:26, 149.61s/it]"
     ]
    },
    {
     "name": "stdout",
     "output_type": "stream",
     "text": [
      "[INFO] [2021-10-31 22:44:10,277] [OpenBox-Shadan] Iteration 372, objective value: [47.70413113461185].\n"
     ]
    },
    {
     "name": "stderr",
     "output_type": "stream",
     "text": [
      "\r",
      " 37%|███▋      | 372/1000 [8:20:59<27:49:46, 159.53s/it]"
     ]
    },
    {
     "name": "stdout",
     "output_type": "stream",
     "text": [
      "[INFO] [2021-10-31 22:46:48,308] [OpenBox-Shadan] Iteration 373, objective value: [51.09420505473832].\n"
     ]
    },
    {
     "name": "stderr",
     "output_type": "stream",
     "text": [
      "\r",
      " 37%|███▋      | 373/1000 [8:23:37<27:42:24, 159.08s/it]"
     ]
    },
    {
     "name": "stdout",
     "output_type": "stream",
     "text": [
      "[INFO] [2021-10-31 22:49:01,813] [OpenBox-Shadan] Iteration 374, objective value: [38.04253377815213].\n"
     ]
    },
    {
     "name": "stderr",
     "output_type": "stream",
     "text": [
      "\r",
      " 37%|███▋      | 374/1000 [8:25:50<26:19:42, 151.41s/it]"
     ]
    },
    {
     "name": "stdout",
     "output_type": "stream",
     "text": [
      "[INFO] [2021-10-31 22:51:41,535] [OpenBox-Shadan] Iteration 375, objective value: [43.62655644204434].\n"
     ]
    },
    {
     "name": "stderr",
     "output_type": "stream",
     "text": [
      "\r",
      " 38%|███▊      | 375/1000 [8:28:30<26:43:09, 153.90s/it]"
     ]
    },
    {
     "name": "stdout",
     "output_type": "stream",
     "text": [
      "[INFO] [2021-10-31 22:54:38,333] [OpenBox-Shadan] Iteration 376, objective value: [55.952214389796886].\n"
     ]
    },
    {
     "name": "stderr",
     "output_type": "stream",
     "text": [
      "\r",
      " 38%|███▊      | 376/1000 [8:31:27<27:52:01, 160.77s/it]"
     ]
    },
    {
     "name": "stdout",
     "output_type": "stream",
     "text": [
      "[INFO] [2021-10-31 22:57:13,098] [OpenBox-Shadan] Iteration 377, objective value: [41.72757443020279].\n"
     ]
    },
    {
     "name": "stderr",
     "output_type": "stream",
     "text": [
      "\r",
      " 38%|███▊      | 377/1000 [8:34:01<27:30:37, 158.97s/it]"
     ]
    },
    {
     "name": "stdout",
     "output_type": "stream",
     "text": [
      "[INFO] [2021-10-31 22:59:50,900] [OpenBox-Shadan] Iteration 378, objective value: [43.83336345240079].\n"
     ]
    },
    {
     "name": "stderr",
     "output_type": "stream",
     "text": [
      "\r",
      " 38%|███▊      | 378/1000 [8:36:39<27:24:21, 158.62s/it]"
     ]
    },
    {
     "name": "stdout",
     "output_type": "stream",
     "text": [
      "[INFO] [2021-10-31 23:02:59,895] [OpenBox-Shadan] Iteration 379, objective value: [47.36680269023985].\n"
     ]
    },
    {
     "name": "stderr",
     "output_type": "stream",
     "text": [
      "\r",
      " 38%|███▊      | 379/1000 [8:39:48<28:56:01, 167.73s/it]"
     ]
    },
    {
     "name": "stdout",
     "output_type": "stream",
     "text": [
      "[INFO] [2021-10-31 23:06:35,890] [OpenBox-Shadan] Iteration 380, objective value: [47.74101336499588].\n"
     ]
    },
    {
     "name": "stderr",
     "output_type": "stream",
     "text": [
      "\r",
      " 38%|███▊      | 380/1000 [8:43:24<31:22:50, 182.21s/it]"
     ]
    },
    {
     "name": "stdout",
     "output_type": "stream",
     "text": [
      "[INFO] [2021-10-31 23:09:26,778] [OpenBox-Shadan] Iteration 381, objective value: [39.18953753517411].\n"
     ]
    },
    {
     "name": "stderr",
     "output_type": "stream",
     "text": [
      "\r",
      " 38%|███▊      | 381/1000 [8:46:15<30:44:45, 178.81s/it]"
     ]
    },
    {
     "name": "stdout",
     "output_type": "stream",
     "text": [
      "[INFO] [2021-10-31 23:12:07,174] [OpenBox-Shadan] Iteration 382, objective value: [47.241826941616836].\n"
     ]
    },
    {
     "name": "stderr",
     "output_type": "stream",
     "text": [
      "\r",
      " 38%|███▊      | 382/1000 [8:48:56<29:44:52, 173.29s/it]"
     ]
    },
    {
     "name": "stdout",
     "output_type": "stream",
     "text": [
      "[INFO] [2021-10-31 23:14:43,756] [OpenBox-Shadan] Iteration 383, objective value: [37.736941114027665].\n"
     ]
    },
    {
     "name": "stderr",
     "output_type": "stream",
     "text": [
      "\r",
      " 38%|███▊      | 383/1000 [8:51:32<28:50:26, 168.28s/it]"
     ]
    },
    {
     "name": "stdout",
     "output_type": "stream",
     "text": [
      "[INFO] [2021-10-31 23:17:25,672] [OpenBox-Shadan] Iteration 384, objective value: [51.14078202600901].\n"
     ]
    },
    {
     "name": "stderr",
     "output_type": "stream",
     "text": [
      "\r",
      " 38%|███▊      | 384/1000 [8:54:14<28:28:02, 166.37s/it]"
     ]
    },
    {
     "name": "stdout",
     "output_type": "stream",
     "text": [
      "[INFO] [2021-10-31 23:20:23,673] [OpenBox-Shadan] Iteration 385, objective value: [46.082949832461914].\n"
     ]
    },
    {
     "name": "stderr",
     "output_type": "stream",
     "text": [
      "\r",
      " 38%|███▊      | 385/1000 [8:57:12<29:01:02, 169.86s/it]"
     ]
    },
    {
     "name": "stdout",
     "output_type": "stream",
     "text": [
      "[INFO] [2021-10-31 23:22:47,084] [OpenBox-Shadan] Iteration 386, objective value: [39.43462438418847].\n"
     ]
    },
    {
     "name": "stderr",
     "output_type": "stream",
     "text": [
      "\r",
      " 39%|███▊      | 386/1000 [8:59:35<27:37:01, 161.92s/it]"
     ]
    },
    {
     "name": "stdout",
     "output_type": "stream",
     "text": [
      "[INFO] [2021-10-31 23:25:43,972] [OpenBox-Shadan] Iteration 387, objective value: [59.35854747653381].\n"
     ]
    },
    {
     "name": "stderr",
     "output_type": "stream",
     "text": [
      "\r",
      " 39%|███▊      | 387/1000 [9:02:32<28:20:11, 166.41s/it]"
     ]
    },
    {
     "name": "stdout",
     "output_type": "stream",
     "text": [
      "[INFO] [2021-10-31 23:28:31,447] [OpenBox-Shadan] Iteration 388, objective value: [46.97023326748282].\n"
     ]
    },
    {
     "name": "stderr",
     "output_type": "stream",
     "text": [
      "\r",
      " 39%|███▉      | 388/1000 [9:05:20<28:20:39, 166.73s/it]"
     ]
    },
    {
     "name": "stdout",
     "output_type": "stream",
     "text": [
      "[INFO] [2021-10-31 23:31:03,479] [OpenBox-Shadan] Iteration 389, objective value: [29.64555356923229].\n"
     ]
    },
    {
     "name": "stderr",
     "output_type": "stream",
     "text": [
      "\r",
      " 39%|███▉      | 389/1000 [9:07:52<27:32:58, 162.32s/it]"
     ]
    },
    {
     "name": "stdout",
     "output_type": "stream",
     "text": [
      "[INFO] [2021-10-31 23:34:35,414] [OpenBox-Shadan] Iteration 390, objective value: [50.04688784251667].\n"
     ]
    },
    {
     "name": "stderr",
     "output_type": "stream",
     "text": [
      "\r",
      " 39%|███▉      | 390/1000 [9:11:24<30:01:35, 177.21s/it]"
     ]
    },
    {
     "name": "stdout",
     "output_type": "stream",
     "text": [
      "[INFO] [2021-10-31 23:37:24,223] [OpenBox-Shadan] Iteration 391, objective value: [35.46803179185372].\n"
     ]
    },
    {
     "name": "stderr",
     "output_type": "stream",
     "text": [
      "\r",
      " 39%|███▉      | 391/1000 [9:14:13<29:33:04, 174.69s/it]"
     ]
    },
    {
     "name": "stdout",
     "output_type": "stream",
     "text": [
      "[INFO] [2021-10-31 23:40:20,398] [OpenBox-Shadan] Iteration 392, objective value: [28.549498789643806].\n"
     ]
    },
    {
     "name": "stderr",
     "output_type": "stream",
     "text": [
      "\r",
      " 39%|███▉      | 392/1000 [9:17:09<29:34:40, 175.13s/it]"
     ]
    },
    {
     "name": "stdout",
     "output_type": "stream",
     "text": [
      "[INFO] [2021-10-31 23:43:28,090] [OpenBox-Shadan] Iteration 393, objective value: [41.654893271737784].\n"
     ]
    },
    {
     "name": "stderr",
     "output_type": "stream",
     "text": [
      "\r",
      " 39%|███▉      | 393/1000 [9:20:16<30:09:52, 178.90s/it]"
     ]
    },
    {
     "name": "stdout",
     "output_type": "stream",
     "text": [
      "[INFO] [2021-10-31 23:46:29,206] [OpenBox-Shadan] Iteration 394, objective value: [46.88770801866696].\n"
     ]
    },
    {
     "name": "stderr",
     "output_type": "stream",
     "text": [
      "\r",
      " 39%|███▉      | 394/1000 [9:23:18<30:13:36, 179.57s/it]"
     ]
    },
    {
     "name": "stdout",
     "output_type": "stream",
     "text": [
      "[INFO] [2021-10-31 23:49:11,079] [OpenBox-Shadan] Iteration 395, objective value: [100.0].\n"
     ]
    },
    {
     "name": "stderr",
     "output_type": "stream",
     "text": [
      "\r",
      " 40%|███▉      | 395/1000 [9:25:59<29:17:05, 174.26s/it]"
     ]
    },
    {
     "name": "stdout",
     "output_type": "stream",
     "text": [
      "[INFO] [2021-10-31 23:52:29,413] [OpenBox-Shadan] Iteration 396, objective value: [33.33524472138333].\n"
     ]
    },
    {
     "name": "stderr",
     "output_type": "stream",
     "text": [
      "\r",
      " 40%|███▉      | 396/1000 [9:29:18<30:26:54, 181.48s/it]"
     ]
    },
    {
     "name": "stdout",
     "output_type": "stream",
     "text": [
      "[INFO] [2021-10-31 23:55:49,127] [OpenBox-Shadan] Iteration 397, objective value: [100.0].\n"
     ]
    },
    {
     "name": "stderr",
     "output_type": "stream",
     "text": [
      "\r",
      " 40%|███▉      | 397/1000 [9:32:37<31:18:51, 186.95s/it]"
     ]
    },
    {
     "name": "stdout",
     "output_type": "stream",
     "text": [
      "[INFO] [2021-10-31 23:59:06,231] [OpenBox-Shadan] Iteration 398, objective value: [100.0].\n"
     ]
    },
    {
     "name": "stderr",
     "output_type": "stream",
     "text": [
      "\r",
      " 40%|███▉      | 398/1000 [9:35:55<31:46:17, 190.00s/it]"
     ]
    },
    {
     "name": "stdout",
     "output_type": "stream",
     "text": [
      "[INFO] [2021-11-01 00:02:07,641] [OpenBox-Shadan] Iteration 399, objective value: [48.36122066339467].\n"
     ]
    },
    {
     "name": "stderr",
     "output_type": "stream",
     "text": [
      "\r",
      " 40%|███▉      | 399/1000 [9:38:56<31:17:20, 187.42s/it]"
     ]
    },
    {
     "name": "stdout",
     "output_type": "stream",
     "text": [
      "[INFO] [2021-11-01 00:05:20,247] [OpenBox-Shadan] Iteration 400, objective value: [49.078251580649024].\n"
     ]
    },
    {
     "name": "stderr",
     "output_type": "stream",
     "text": [
      "\r",
      " 40%|████      | 400/1000 [9:42:09<31:29:45, 188.98s/it]"
     ]
    },
    {
     "name": "stdout",
     "output_type": "stream",
     "text": [
      "[INFO] [2021-11-01 00:08:08,776] [OpenBox-Shadan] Iteration 401, objective value: [55.106111171990584].\n"
     ]
    },
    {
     "name": "stderr",
     "output_type": "stream",
     "text": [
      "\r",
      " 40%|████      | 401/1000 [9:44:57<30:25:22, 182.84s/it]"
     ]
    },
    {
     "name": "stdout",
     "output_type": "stream",
     "text": [
      "[INFO] [2021-11-01 00:12:14,132] [OpenBox-Shadan] Iteration 402, objective value: [46.62420077314597].\n"
     ]
    },
    {
     "name": "stderr",
     "output_type": "stream",
     "text": [
      "\r",
      " 40%|████      | 402/1000 [9:49:02<33:29:14, 201.60s/it]"
     ]
    },
    {
     "name": "stdout",
     "output_type": "stream",
     "text": [
      "[INFO] [2021-11-01 00:15:09,742] [OpenBox-Shadan] Iteration 403, objective value: [100.0].\n"
     ]
    },
    {
     "name": "stderr",
     "output_type": "stream",
     "text": [
      "\r",
      " 40%|████      | 403/1000 [9:51:58<32:08:18, 193.80s/it]"
     ]
    },
    {
     "name": "stdout",
     "output_type": "stream",
     "text": [
      "[INFO] [2021-11-01 00:18:15,051] [OpenBox-Shadan] Iteration 404, objective value: [59.887515790495655].\n"
     ]
    },
    {
     "name": "stderr",
     "output_type": "stream",
     "text": [
      "\r",
      " 40%|████      | 404/1000 [9:55:03<31:39:46, 191.25s/it]"
     ]
    },
    {
     "name": "stdout",
     "output_type": "stream",
     "text": [
      "[INFO] [2021-11-01 00:20:45,783] [OpenBox-Shadan] Iteration 405, objective value: [48.13261755802881].\n"
     ]
    },
    {
     "name": "stderr",
     "output_type": "stream",
     "text": [
      "\r",
      " 40%|████      | 405/1000 [9:57:34<29:36:02, 179.10s/it]"
     ]
    },
    {
     "name": "stdout",
     "output_type": "stream",
     "text": [
      "[INFO] [2021-11-01 00:23:26,933] [OpenBox-Shadan] Iteration 406, objective value: [40.59218861864543].\n"
     ]
    },
    {
     "name": "stderr",
     "output_type": "stream",
     "text": [
      "\r",
      " 41%|████      | 406/1000 [10:00:15<28:39:45, 173.71s/it]"
     ]
    },
    {
     "name": "stdout",
     "output_type": "stream",
     "text": [
      "[INFO] [2021-11-01 00:25:33,261] [OpenBox-Shadan] Iteration 407, objective value: [49.703388382284274].\n"
     ]
    },
    {
     "name": "stderr",
     "output_type": "stream",
     "text": [
      "\r",
      " 41%|████      | 407/1000 [10:02:22<26:16:21, 159.50s/it]"
     ]
    },
    {
     "name": "stdout",
     "output_type": "stream",
     "text": [
      "[INFO] [2021-11-01 00:28:38,756] [OpenBox-Shadan] Iteration 408, objective value: [38.1043575752024].\n"
     ]
    },
    {
     "name": "stderr",
     "output_type": "stream",
     "text": [
      "\r",
      " 41%|████      | 408/1000 [10:05:27<27:30:39, 167.30s/it]"
     ]
    },
    {
     "name": "stdout",
     "output_type": "stream",
     "text": [
      "[INFO] [2021-11-01 00:31:51,729] [OpenBox-Shadan] Iteration 409, objective value: [50.54021241258294].\n"
     ]
    },
    {
     "name": "stderr",
     "output_type": "stream",
     "text": [
      "\r",
      " 41%|████      | 409/1000 [10:08:40<28:43:44, 175.00s/it]"
     ]
    },
    {
     "name": "stdout",
     "output_type": "stream",
     "text": [
      "[INFO] [2021-11-01 00:34:36,717] [OpenBox-Shadan] Iteration 410, objective value: [45.78806358710291].\n"
     ]
    },
    {
     "name": "stderr",
     "output_type": "stream",
     "text": [
      "\r",
      " 41%|████      | 410/1000 [10:11:25<28:11:17, 172.00s/it]"
     ]
    },
    {
     "name": "stdout",
     "output_type": "stream",
     "text": [
      "[INFO] [2021-11-01 00:37:54,658] [OpenBox-Shadan] Iteration 411, objective value: [45.41060578008752].\n"
     ]
    },
    {
     "name": "stderr",
     "output_type": "stream",
     "text": [
      "\r",
      " 41%|████      | 411/1000 [10:14:43<29:24:50, 179.78s/it]"
     ]
    },
    {
     "name": "stdout",
     "output_type": "stream",
     "text": [
      "[INFO] [2021-11-01 00:41:14,197] [OpenBox-Shadan] Iteration 412, objective value: [36.90512912669438].\n"
     ]
    },
    {
     "name": "stderr",
     "output_type": "stream",
     "text": [
      " 41%|████      | 412/1000 [10:20:34<14:45:40, 90.37s/it] \n"
     ]
    },
    {
     "ename": "KeyboardInterrupt",
     "evalue": "",
     "output_type": "error",
     "traceback": [
      "\u001b[0;31m---------------------------------------------------------------------------\u001b[0m",
      "\u001b[0;31mKeyboardInterrupt\u001b[0m                         Traceback (most recent call last)",
      "\u001b[0;32m<ipython-input-3-47c88d32cae7>\u001b[0m in \u001b[0;36m<module>\u001b[0;34m\u001b[0m\n\u001b[1;32m     92\u001b[0m         \u001b[0mtask_id\u001b[0m\u001b[0;34m=\u001b[0m\u001b[0;34m'Shadan'\u001b[0m\u001b[0;34m,\u001b[0m\u001b[0;34m\u001b[0m\u001b[0;34m\u001b[0m\u001b[0m\n\u001b[1;32m     93\u001b[0m     )\n\u001b[0;32m---> 94\u001b[0;31m     \u001b[0mhistory\u001b[0m \u001b[0;34m=\u001b[0m \u001b[0mopt\u001b[0m\u001b[0;34m.\u001b[0m\u001b[0mrun\u001b[0m\u001b[0;34m(\u001b[0m\u001b[0;34m)\u001b[0m\u001b[0;34m\u001b[0m\u001b[0;34m\u001b[0m\u001b[0m\n\u001b[0m",
      "\u001b[0;32m/usr/local/lib/python3.9/site-packages/openbox/optimizer/generic_smbo.py\u001b[0m in \u001b[0;36mrun\u001b[0;34m(self)\u001b[0m\n\u001b[1;32m    198\u001b[0m                 \u001b[0;32mbreak\u001b[0m\u001b[0;34m\u001b[0m\u001b[0;34m\u001b[0m\u001b[0m\n\u001b[1;32m    199\u001b[0m             \u001b[0mstart_time\u001b[0m \u001b[0;34m=\u001b[0m \u001b[0mtime\u001b[0m\u001b[0;34m.\u001b[0m\u001b[0mtime\u001b[0m\u001b[0;34m(\u001b[0m\u001b[0;34m)\u001b[0m\u001b[0;34m\u001b[0m\u001b[0;34m\u001b[0m\u001b[0m\n\u001b[0;32m--> 200\u001b[0;31m             \u001b[0mself\u001b[0m\u001b[0;34m.\u001b[0m\u001b[0miterate\u001b[0m\u001b[0;34m(\u001b[0m\u001b[0mbudget_left\u001b[0m\u001b[0;34m=\u001b[0m\u001b[0mself\u001b[0m\u001b[0;34m.\u001b[0m\u001b[0mbudget_left\u001b[0m\u001b[0;34m)\u001b[0m\u001b[0;34m\u001b[0m\u001b[0;34m\u001b[0m\u001b[0m\n\u001b[0m\u001b[1;32m    201\u001b[0m             \u001b[0mruntime\u001b[0m \u001b[0;34m=\u001b[0m \u001b[0mtime\u001b[0m\u001b[0;34m.\u001b[0m\u001b[0mtime\u001b[0m\u001b[0;34m(\u001b[0m\u001b[0;34m)\u001b[0m \u001b[0;34m-\u001b[0m \u001b[0mstart_time\u001b[0m\u001b[0;34m\u001b[0m\u001b[0;34m\u001b[0m\u001b[0m\n\u001b[1;32m    202\u001b[0m             \u001b[0mself\u001b[0m\u001b[0;34m.\u001b[0m\u001b[0mbudget_left\u001b[0m \u001b[0;34m-=\u001b[0m \u001b[0mruntime\u001b[0m\u001b[0;34m\u001b[0m\u001b[0;34m\u001b[0m\u001b[0m\n",
      "\u001b[0;32m/usr/local/lib/python3.9/site-packages/openbox/optimizer/generic_smbo.py\u001b[0m in \u001b[0;36miterate\u001b[0;34m(self, budget_left)\u001b[0m\n\u001b[1;32m    204\u001b[0m \u001b[0;34m\u001b[0m\u001b[0m\n\u001b[1;32m    205\u001b[0m     \u001b[0;32mdef\u001b[0m \u001b[0miterate\u001b[0m\u001b[0;34m(\u001b[0m\u001b[0mself\u001b[0m\u001b[0;34m,\u001b[0m \u001b[0mbudget_left\u001b[0m\u001b[0;34m=\u001b[0m\u001b[0;32mNone\u001b[0m\u001b[0;34m)\u001b[0m\u001b[0;34m:\u001b[0m\u001b[0;34m\u001b[0m\u001b[0;34m\u001b[0m\u001b[0m\n\u001b[0;32m--> 206\u001b[0;31m         \u001b[0mconfig\u001b[0m \u001b[0;34m=\u001b[0m \u001b[0mself\u001b[0m\u001b[0;34m.\u001b[0m\u001b[0mconfig_advisor\u001b[0m\u001b[0;34m.\u001b[0m\u001b[0mget_suggestion\u001b[0m\u001b[0;34m(\u001b[0m\u001b[0;34m)\u001b[0m\u001b[0;34m\u001b[0m\u001b[0;34m\u001b[0m\u001b[0m\n\u001b[0m\u001b[1;32m    207\u001b[0m \u001b[0;34m\u001b[0m\u001b[0m\n\u001b[1;32m    208\u001b[0m         \u001b[0mtrial_state\u001b[0m \u001b[0;34m=\u001b[0m \u001b[0mSUCCESS\u001b[0m\u001b[0;34m\u001b[0m\u001b[0;34m\u001b[0m\u001b[0m\n",
      "\u001b[0;32m/usr/local/lib/python3.9/site-packages/openbox/core/generic_advisor.py\u001b[0m in \u001b[0;36mget_suggestion\u001b[0;34m(self, history_container, return_list)\u001b[0m\n\u001b[1;32m    329\u001b[0m \u001b[0;34m\u001b[0m\u001b[0m\n\u001b[1;32m    330\u001b[0m             \u001b[0;31m# optimize acquisition function\u001b[0m\u001b[0;34m\u001b[0m\u001b[0;34m\u001b[0m\u001b[0;34m\u001b[0m\u001b[0m\n\u001b[0;32m--> 331\u001b[0;31m             challengers = self.optimizer.maximize(runhistory=history_container,\n\u001b[0m\u001b[1;32m    332\u001b[0m                                                   num_points=5000)\n\u001b[1;32m    333\u001b[0m             \u001b[0;32mif\u001b[0m \u001b[0mreturn_list\u001b[0m\u001b[0;34m:\u001b[0m\u001b[0;34m\u001b[0m\u001b[0;34m\u001b[0m\u001b[0m\n",
      "\u001b[0;32m/usr/local/lib/python3.9/site-packages/openbox/acq_maximizer/ei_optimization.py\u001b[0m in \u001b[0;36mmaximize\u001b[0;34m(self, runhistory, num_points, num_trials, **kwargs)\u001b[0m\n\u001b[1;32m    679\u001b[0m         \u001b[0macq_configs\u001b[0m \u001b[0;34m=\u001b[0m \u001b[0;34m[\u001b[0m\u001b[0;34m]\u001b[0m\u001b[0;34m\u001b[0m\u001b[0;34m\u001b[0m\u001b[0m\n\u001b[1;32m    680\u001b[0m \u001b[0;34m\u001b[0m\u001b[0m\n\u001b[0;32m--> 681\u001b[0;31m         \u001b[0minitial_configs\u001b[0m \u001b[0;34m=\u001b[0m \u001b[0mself\u001b[0m\u001b[0;34m.\u001b[0m\u001b[0mrandom_search\u001b[0m\u001b[0;34m.\u001b[0m\u001b[0mmaximize\u001b[0m\u001b[0;34m(\u001b[0m\u001b[0mrunhistory\u001b[0m\u001b[0;34m,\u001b[0m \u001b[0mnum_points\u001b[0m\u001b[0;34m,\u001b[0m \u001b[0;34m**\u001b[0m\u001b[0mkwargs\u001b[0m\u001b[0;34m)\u001b[0m\u001b[0;34m.\u001b[0m\u001b[0mchallengers\u001b[0m\u001b[0;34m\u001b[0m\u001b[0;34m\u001b[0m\u001b[0m\n\u001b[0m\u001b[1;32m    682\u001b[0m         \u001b[0minitial_acqs\u001b[0m \u001b[0;34m=\u001b[0m \u001b[0mself\u001b[0m\u001b[0;34m.\u001b[0m\u001b[0macquisition_function\u001b[0m\u001b[0;34m(\u001b[0m\u001b[0minitial_configs\u001b[0m\u001b[0;34m)\u001b[0m\u001b[0;34m\u001b[0m\u001b[0;34m\u001b[0m\u001b[0m\n\u001b[1;32m    683\u001b[0m         \u001b[0macq_configs\u001b[0m\u001b[0;34m.\u001b[0m\u001b[0mextend\u001b[0m\u001b[0;34m(\u001b[0m\u001b[0mzip\u001b[0m\u001b[0;34m(\u001b[0m\u001b[0minitial_acqs\u001b[0m\u001b[0;34m,\u001b[0m \u001b[0minitial_configs\u001b[0m\u001b[0;34m)\u001b[0m\u001b[0;34m)\u001b[0m\u001b[0;34m\u001b[0m\u001b[0;34m\u001b[0m\u001b[0m\n",
      "\u001b[0;32m/usr/local/lib/python3.9/site-packages/openbox/acq_maximizer/ei_optimization.py\u001b[0m in \u001b[0;36mmaximize\u001b[0;34m(self, runhistory, num_points, random_configuration_chooser, **kwargs)\u001b[0m\n\u001b[1;32m    516\u001b[0m \u001b[0;34m\u001b[0m\u001b[0m\n\u001b[1;32m    517\u001b[0m         \u001b[0;31m# Get configurations sorted by EI\u001b[0m\u001b[0;34m\u001b[0m\u001b[0;34m\u001b[0m\u001b[0;34m\u001b[0m\u001b[0m\n\u001b[0;32m--> 518\u001b[0;31m         next_configs_by_random_search_sorted = self.random_search._maximize(\n\u001b[0m\u001b[1;32m    519\u001b[0m             \u001b[0mrunhistory\u001b[0m\u001b[0;34m,\u001b[0m\u001b[0;34m\u001b[0m\u001b[0;34m\u001b[0m\u001b[0m\n\u001b[1;32m    520\u001b[0m             \u001b[0mnum_points\u001b[0m \u001b[0;34m-\u001b[0m \u001b[0mlen\u001b[0m\u001b[0;34m(\u001b[0m\u001b[0mnext_configs_by_local_search\u001b[0m\u001b[0;34m)\u001b[0m\u001b[0;34m,\u001b[0m\u001b[0;34m\u001b[0m\u001b[0;34m\u001b[0m\u001b[0m\n",
      "\u001b[0;32m/usr/local/lib/python3.9/site-packages/openbox/acq_maximizer/ei_optimization.py\u001b[0m in \u001b[0;36m_maximize\u001b[0;34m(self, runhistory, num_points, _sorted, **kwargs)\u001b[0m\n\u001b[1;32m    413\u001b[0m             \u001b[0;32mfor\u001b[0m \u001b[0mi\u001b[0m \u001b[0;32min\u001b[0m \u001b[0mrange\u001b[0m\u001b[0;34m(\u001b[0m\u001b[0mlen\u001b[0m\u001b[0;34m(\u001b[0m\u001b[0mrand_configs\u001b[0m\u001b[0;34m)\u001b[0m\u001b[0;34m)\u001b[0m\u001b[0;34m:\u001b[0m\u001b[0;34m\u001b[0m\u001b[0;34m\u001b[0m\u001b[0m\n\u001b[1;32m    414\u001b[0m                 \u001b[0mrand_configs\u001b[0m\u001b[0;34m[\u001b[0m\u001b[0mi\u001b[0m\u001b[0;34m]\u001b[0m\u001b[0;34m.\u001b[0m\u001b[0morigin\u001b[0m \u001b[0;34m=\u001b[0m \u001b[0;34m'Random Search (sorted)'\u001b[0m\u001b[0;34m\u001b[0m\u001b[0;34m\u001b[0m\u001b[0m\n\u001b[0;32m--> 415\u001b[0;31m             \u001b[0;32mreturn\u001b[0m \u001b[0mself\u001b[0m\u001b[0;34m.\u001b[0m\u001b[0m_sort_configs_by_acq_value\u001b[0m\u001b[0;34m(\u001b[0m\u001b[0mrand_configs\u001b[0m\u001b[0;34m)\u001b[0m\u001b[0;34m\u001b[0m\u001b[0;34m\u001b[0m\u001b[0m\n\u001b[0m\u001b[1;32m    416\u001b[0m         \u001b[0;32melse\u001b[0m\u001b[0;34m:\u001b[0m\u001b[0;34m\u001b[0m\u001b[0;34m\u001b[0m\u001b[0m\n\u001b[1;32m    417\u001b[0m             \u001b[0;32mfor\u001b[0m \u001b[0mi\u001b[0m \u001b[0;32min\u001b[0m \u001b[0mrange\u001b[0m\u001b[0;34m(\u001b[0m\u001b[0mlen\u001b[0m\u001b[0;34m(\u001b[0m\u001b[0mrand_configs\u001b[0m\u001b[0;34m)\u001b[0m\u001b[0;34m)\u001b[0m\u001b[0;34m:\u001b[0m\u001b[0;34m\u001b[0m\u001b[0;34m\u001b[0m\u001b[0m\n",
      "\u001b[0;32m/usr/local/lib/python3.9/site-packages/openbox/acq_maximizer/ei_optimization.py\u001b[0m in \u001b[0;36m_sort_configs_by_acq_value\u001b[0;34m(self, configs)\u001b[0m\n\u001b[1;32m    123\u001b[0m         \"\"\"\n\u001b[1;32m    124\u001b[0m \u001b[0;34m\u001b[0m\u001b[0m\n\u001b[0;32m--> 125\u001b[0;31m         \u001b[0macq_values\u001b[0m \u001b[0;34m=\u001b[0m \u001b[0mself\u001b[0m\u001b[0;34m.\u001b[0m\u001b[0macquisition_function\u001b[0m\u001b[0;34m(\u001b[0m\u001b[0mconfigs\u001b[0m\u001b[0;34m)\u001b[0m\u001b[0;34m\u001b[0m\u001b[0;34m\u001b[0m\u001b[0m\n\u001b[0m\u001b[1;32m    126\u001b[0m \u001b[0;34m\u001b[0m\u001b[0m\n\u001b[1;32m    127\u001b[0m         \u001b[0;31m# From here\u001b[0m\u001b[0;34m\u001b[0m\u001b[0;34m\u001b[0m\u001b[0;34m\u001b[0m\u001b[0m\n",
      "\u001b[0;32m/usr/local/lib/python3.9/site-packages/openbox/acquisition_function/acquisition.py\u001b[0m in \u001b[0;36m__call__\u001b[0;34m(self, configurations, convert, **kwargs)\u001b[0m\n\u001b[1;32m     79\u001b[0m             \u001b[0mX\u001b[0m \u001b[0;34m=\u001b[0m \u001b[0mX\u001b[0m\u001b[0;34m[\u001b[0m\u001b[0mnp\u001b[0m\u001b[0;34m.\u001b[0m\u001b[0mnewaxis\u001b[0m\u001b[0;34m,\u001b[0m \u001b[0;34m:\u001b[0m\u001b[0;34m]\u001b[0m\u001b[0;34m\u001b[0m\u001b[0;34m\u001b[0m\u001b[0m\n\u001b[1;32m     80\u001b[0m \u001b[0;34m\u001b[0m\u001b[0m\n\u001b[0;32m---> 81\u001b[0;31m         \u001b[0macq\u001b[0m \u001b[0;34m=\u001b[0m \u001b[0mself\u001b[0m\u001b[0;34m.\u001b[0m\u001b[0m_compute\u001b[0m\u001b[0;34m(\u001b[0m\u001b[0mX\u001b[0m\u001b[0;34m,\u001b[0m \u001b[0;34m**\u001b[0m\u001b[0mkwargs\u001b[0m\u001b[0;34m)\u001b[0m\u001b[0;34m\u001b[0m\u001b[0;34m\u001b[0m\u001b[0m\n\u001b[0m\u001b[1;32m     82\u001b[0m         \u001b[0;32mif\u001b[0m \u001b[0mnp\u001b[0m\u001b[0;34m.\u001b[0m\u001b[0many\u001b[0m\u001b[0;34m(\u001b[0m\u001b[0mnp\u001b[0m\u001b[0;34m.\u001b[0m\u001b[0misnan\u001b[0m\u001b[0;34m(\u001b[0m\u001b[0macq\u001b[0m\u001b[0;34m)\u001b[0m\u001b[0;34m)\u001b[0m\u001b[0;34m:\u001b[0m\u001b[0;34m\u001b[0m\u001b[0;34m\u001b[0m\u001b[0m\n\u001b[1;32m     83\u001b[0m             \u001b[0midx\u001b[0m \u001b[0;34m=\u001b[0m \u001b[0mnp\u001b[0m\u001b[0;34m.\u001b[0m\u001b[0mwhere\u001b[0m\u001b[0;34m(\u001b[0m\u001b[0mnp\u001b[0m\u001b[0;34m.\u001b[0m\u001b[0misnan\u001b[0m\u001b[0;34m(\u001b[0m\u001b[0macq\u001b[0m\u001b[0;34m)\u001b[0m\u001b[0;34m)\u001b[0m\u001b[0;34m[\u001b[0m\u001b[0;36m0\u001b[0m\u001b[0;34m]\u001b[0m\u001b[0;34m\u001b[0m\u001b[0;34m\u001b[0m\u001b[0m\n",
      "\u001b[0;32m/usr/local/lib/python3.9/site-packages/openbox/acquisition_function/acquisition.py\u001b[0m in \u001b[0;36m_compute\u001b[0;34m(self, X, **kwargs)\u001b[0m\n\u001b[1;32m    153\u001b[0m             \u001b[0mX\u001b[0m \u001b[0;34m=\u001b[0m \u001b[0mX\u001b[0m\u001b[0;34m[\u001b[0m\u001b[0;34m:\u001b[0m\u001b[0;34m,\u001b[0m \u001b[0mnp\u001b[0m\u001b[0;34m.\u001b[0m\u001b[0mnewaxis\u001b[0m\u001b[0;34m]\u001b[0m\u001b[0;34m\u001b[0m\u001b[0;34m\u001b[0m\u001b[0m\n\u001b[1;32m    154\u001b[0m \u001b[0;34m\u001b[0m\u001b[0m\n\u001b[0;32m--> 155\u001b[0;31m         \u001b[0mm\u001b[0m\u001b[0;34m,\u001b[0m \u001b[0mv\u001b[0m \u001b[0;34m=\u001b[0m \u001b[0mself\u001b[0m\u001b[0;34m.\u001b[0m\u001b[0mmodel\u001b[0m\u001b[0;34m.\u001b[0m\u001b[0mpredict_marginalized_over_instances\u001b[0m\u001b[0;34m(\u001b[0m\u001b[0mX\u001b[0m\u001b[0;34m)\u001b[0m\u001b[0;34m\u001b[0m\u001b[0;34m\u001b[0m\u001b[0m\n\u001b[0m\u001b[1;32m    156\u001b[0m         \u001b[0ms\u001b[0m \u001b[0;34m=\u001b[0m \u001b[0mnp\u001b[0m\u001b[0;34m.\u001b[0m\u001b[0msqrt\u001b[0m\u001b[0;34m(\u001b[0m\u001b[0mv\u001b[0m\u001b[0;34m)\u001b[0m\u001b[0;34m\u001b[0m\u001b[0;34m\u001b[0m\u001b[0m\n\u001b[1;32m    157\u001b[0m \u001b[0;34m\u001b[0m\u001b[0m\n",
      "\u001b[0;32m/usr/local/lib/python3.9/site-packages/openbox/surrogate/base/base_model.py\u001b[0m in \u001b[0;36mpredict_marginalized_over_instances\u001b[0;34m(self, X)\u001b[0m\n\u001b[1;32m    243\u001b[0m         \u001b[0;32mif\u001b[0m \u001b[0mself\u001b[0m\u001b[0;34m.\u001b[0m\u001b[0minstance_features\u001b[0m \u001b[0;32mis\u001b[0m \u001b[0;32mNone\u001b[0m \u001b[0;32mor\u001b[0m\u001b[0;31m \u001b[0m\u001b[0;31m\\\u001b[0m\u001b[0;34m\u001b[0m\u001b[0;34m\u001b[0m\u001b[0m\n\u001b[1;32m    244\u001b[0m                 \u001b[0mlen\u001b[0m\u001b[0;34m(\u001b[0m\u001b[0mself\u001b[0m\u001b[0;34m.\u001b[0m\u001b[0minstance_features\u001b[0m\u001b[0;34m)\u001b[0m \u001b[0;34m==\u001b[0m \u001b[0;36m0\u001b[0m\u001b[0;34m:\u001b[0m\u001b[0;34m\u001b[0m\u001b[0;34m\u001b[0m\u001b[0m\n\u001b[0;32m--> 245\u001b[0;31m             \u001b[0mmean\u001b[0m\u001b[0;34m,\u001b[0m \u001b[0mvar\u001b[0m \u001b[0;34m=\u001b[0m \u001b[0mself\u001b[0m\u001b[0;34m.\u001b[0m\u001b[0mpredict\u001b[0m\u001b[0;34m(\u001b[0m\u001b[0mX\u001b[0m\u001b[0;34m)\u001b[0m\u001b[0;34m\u001b[0m\u001b[0;34m\u001b[0m\u001b[0m\n\u001b[0m\u001b[1;32m    246\u001b[0m             \u001b[0mvar\u001b[0m\u001b[0;34m[\u001b[0m\u001b[0mvar\u001b[0m \u001b[0;34m<\u001b[0m \u001b[0mself\u001b[0m\u001b[0;34m.\u001b[0m\u001b[0mvar_threshold\u001b[0m\u001b[0;34m]\u001b[0m \u001b[0;34m=\u001b[0m \u001b[0mself\u001b[0m\u001b[0;34m.\u001b[0m\u001b[0mvar_threshold\u001b[0m\u001b[0;34m\u001b[0m\u001b[0;34m\u001b[0m\u001b[0m\n\u001b[1;32m    247\u001b[0m             \u001b[0mvar\u001b[0m\u001b[0;34m[\u001b[0m\u001b[0mnp\u001b[0m\u001b[0;34m.\u001b[0m\u001b[0misnan\u001b[0m\u001b[0;34m(\u001b[0m\u001b[0mvar\u001b[0m\u001b[0;34m)\u001b[0m\u001b[0;34m]\u001b[0m \u001b[0;34m=\u001b[0m \u001b[0mself\u001b[0m\u001b[0;34m.\u001b[0m\u001b[0mvar_threshold\u001b[0m\u001b[0;34m\u001b[0m\u001b[0;34m\u001b[0m\u001b[0m\n",
      "\u001b[0;32m/usr/local/lib/python3.9/site-packages/openbox/surrogate/base/base_model.py\u001b[0m in \u001b[0;36mpredict\u001b[0;34m(self, X)\u001b[0m\n\u001b[1;32m    190\u001b[0m                 \u001b[0;32mraise\u001b[0m \u001b[0mValueError\u001b[0m\u001b[0;34m(\u001b[0m\u001b[0;34m'Rows in X should have %d entries but have %d!'\u001b[0m \u001b[0;34m%\u001b[0m \u001b[0;34m(\u001b[0m\u001b[0mlen\u001b[0m\u001b[0;34m(\u001b[0m\u001b[0mself\u001b[0m\u001b[0;34m.\u001b[0m\u001b[0mtypes\u001b[0m\u001b[0;34m)\u001b[0m\u001b[0;34m,\u001b[0m \u001b[0mX\u001b[0m\u001b[0;34m.\u001b[0m\u001b[0mshape\u001b[0m\u001b[0;34m[\u001b[0m\u001b[0;36m1\u001b[0m\u001b[0;34m]\u001b[0m\u001b[0;34m)\u001b[0m\u001b[0;34m)\u001b[0m\u001b[0;34m\u001b[0m\u001b[0;34m\u001b[0m\u001b[0m\n\u001b[1;32m    191\u001b[0m \u001b[0;34m\u001b[0m\u001b[0m\n\u001b[0;32m--> 192\u001b[0;31m             \u001b[0mmean\u001b[0m\u001b[0;34m,\u001b[0m \u001b[0mvar\u001b[0m \u001b[0;34m=\u001b[0m \u001b[0mself\u001b[0m\u001b[0;34m.\u001b[0m\u001b[0m_predict\u001b[0m\u001b[0;34m(\u001b[0m\u001b[0mX\u001b[0m\u001b[0;34m)\u001b[0m\u001b[0;34m\u001b[0m\u001b[0;34m\u001b[0m\u001b[0m\n\u001b[0m\u001b[1;32m    193\u001b[0m \u001b[0;34m\u001b[0m\u001b[0m\n\u001b[1;32m    194\u001b[0m             \u001b[0;32mif\u001b[0m \u001b[0mlen\u001b[0m\u001b[0;34m(\u001b[0m\u001b[0mmean\u001b[0m\u001b[0;34m.\u001b[0m\u001b[0mshape\u001b[0m\u001b[0;34m)\u001b[0m \u001b[0;34m==\u001b[0m \u001b[0;36m1\u001b[0m\u001b[0;34m:\u001b[0m\u001b[0;34m\u001b[0m\u001b[0;34m\u001b[0m\u001b[0m\n",
      "\u001b[0;32m/usr/local/lib/python3.9/site-packages/openbox/surrogate/base/gp.py\u001b[0m in \u001b[0;36m_predict\u001b[0;34m(self, X_test, cov_return_type)\u001b[0m\n\u001b[1;32m    286\u001b[0m                 \u001b[0mpredict_kwargs\u001b[0m \u001b[0;34m=\u001b[0m \u001b[0;34m{\u001b[0m\u001b[0;34m'return_cov'\u001b[0m\u001b[0;34m:\u001b[0m \u001b[0;32mTrue\u001b[0m\u001b[0;34m,\u001b[0m \u001b[0;34m'return_std'\u001b[0m\u001b[0;34m:\u001b[0m \u001b[0;32mFalse\u001b[0m\u001b[0;34m}\u001b[0m\u001b[0;34m\u001b[0m\u001b[0;34m\u001b[0m\u001b[0m\n\u001b[1;32m    287\u001b[0m \u001b[0;34m\u001b[0m\u001b[0m\n\u001b[0;32m--> 288\u001b[0;31m             \u001b[0mmu\u001b[0m\u001b[0;34m,\u001b[0m \u001b[0mvar\u001b[0m \u001b[0;34m=\u001b[0m \u001b[0mself\u001b[0m\u001b[0;34m.\u001b[0m\u001b[0mgp\u001b[0m\u001b[0;34m.\u001b[0m\u001b[0mpredict\u001b[0m\u001b[0;34m(\u001b[0m\u001b[0mX_test\u001b[0m\u001b[0;34m,\u001b[0m \u001b[0;34m**\u001b[0m\u001b[0mpredict_kwargs\u001b[0m\u001b[0;34m)\u001b[0m\u001b[0;34m\u001b[0m\u001b[0;34m\u001b[0m\u001b[0m\n\u001b[0m\u001b[1;32m    289\u001b[0m \u001b[0;34m\u001b[0m\u001b[0m\n\u001b[1;32m    290\u001b[0m             \u001b[0;32mif\u001b[0m \u001b[0mcov_return_type\u001b[0m \u001b[0;34m!=\u001b[0m \u001b[0;34m'full_cov'\u001b[0m\u001b[0;34m:\u001b[0m\u001b[0;34m\u001b[0m\u001b[0;34m\u001b[0m\u001b[0m\n",
      "\u001b[0;32m/usr/local/lib/python3.9/site-packages/skopt/learning/gaussian_process/gpr.py\u001b[0m in \u001b[0;36mpredict\u001b[0;34m(self, X, return_std, return_cov, return_mean_grad, return_std_grad)\u001b[0m\n\u001b[1;32m    330\u001b[0m                 \u001b[0;31m# Compute variance of predictive distribution\u001b[0m\u001b[0;34m\u001b[0m\u001b[0;34m\u001b[0m\u001b[0;34m\u001b[0m\u001b[0m\n\u001b[1;32m    331\u001b[0m                 \u001b[0my_var\u001b[0m \u001b[0;34m=\u001b[0m \u001b[0mself\u001b[0m\u001b[0;34m.\u001b[0m\u001b[0mkernel_\u001b[0m\u001b[0;34m.\u001b[0m\u001b[0mdiag\u001b[0m\u001b[0;34m(\u001b[0m\u001b[0mX\u001b[0m\u001b[0;34m)\u001b[0m\u001b[0;34m\u001b[0m\u001b[0;34m\u001b[0m\u001b[0m\n\u001b[0;32m--> 332\u001b[0;31m                 \u001b[0my_var\u001b[0m \u001b[0;34m-=\u001b[0m \u001b[0mnp\u001b[0m\u001b[0;34m.\u001b[0m\u001b[0meinsum\u001b[0m\u001b[0;34m(\u001b[0m\u001b[0;34m\"ki,kj,ij->k\"\u001b[0m\u001b[0;34m,\u001b[0m \u001b[0mK_trans\u001b[0m\u001b[0;34m,\u001b[0m \u001b[0mK_trans\u001b[0m\u001b[0;34m,\u001b[0m \u001b[0mK_inv\u001b[0m\u001b[0;34m)\u001b[0m\u001b[0;34m\u001b[0m\u001b[0;34m\u001b[0m\u001b[0m\n\u001b[0m\u001b[1;32m    333\u001b[0m \u001b[0;34m\u001b[0m\u001b[0m\n\u001b[1;32m    334\u001b[0m                 \u001b[0;31m# Check if any of the variances is negative because of\u001b[0m\u001b[0;34m\u001b[0m\u001b[0;34m\u001b[0m\u001b[0;34m\u001b[0m\u001b[0m\n",
      "\u001b[0;32m<__array_function__ internals>\u001b[0m in \u001b[0;36meinsum\u001b[0;34m(*args, **kwargs)\u001b[0m\n",
      "\u001b[0;32m/usr/local/lib/python3.9/site-packages/numpy/core/einsumfunc.py\u001b[0m in \u001b[0;36meinsum\u001b[0;34m(out, optimize, *operands, **kwargs)\u001b[0m\n\u001b[1;32m   1348\u001b[0m         \u001b[0;32mif\u001b[0m \u001b[0mspecified_out\u001b[0m\u001b[0;34m:\u001b[0m\u001b[0;34m\u001b[0m\u001b[0;34m\u001b[0m\u001b[0m\n\u001b[1;32m   1349\u001b[0m             \u001b[0mkwargs\u001b[0m\u001b[0;34m[\u001b[0m\u001b[0;34m'out'\u001b[0m\u001b[0;34m]\u001b[0m \u001b[0;34m=\u001b[0m \u001b[0mout\u001b[0m\u001b[0;34m\u001b[0m\u001b[0;34m\u001b[0m\u001b[0m\n\u001b[0;32m-> 1350\u001b[0;31m         \u001b[0;32mreturn\u001b[0m \u001b[0mc_einsum\u001b[0m\u001b[0;34m(\u001b[0m\u001b[0;34m*\u001b[0m\u001b[0moperands\u001b[0m\u001b[0;34m,\u001b[0m \u001b[0;34m**\u001b[0m\u001b[0mkwargs\u001b[0m\u001b[0;34m)\u001b[0m\u001b[0;34m\u001b[0m\u001b[0;34m\u001b[0m\u001b[0m\n\u001b[0m\u001b[1;32m   1351\u001b[0m \u001b[0;34m\u001b[0m\u001b[0m\n\u001b[1;32m   1352\u001b[0m     \u001b[0;31m# Check the kwargs to avoid a more cryptic error later, without having to\u001b[0m\u001b[0;34m\u001b[0m\u001b[0;34m\u001b[0m\u001b[0;34m\u001b[0m\u001b[0m\n",
      "\u001b[0;31mKeyboardInterrupt\u001b[0m: "
     ]
    }
   ],
   "source": [
    "CONSTANTS = {\n",
    "    'iterations': 100,\n",
    "    'initial_samples': 10,\n",
    "    'restarts_number': 10,\n",
    "    'raw_samples': 10,\n",
    "    'candidates_num': 1,\n",
    "    'sequential': True,\n",
    "    'epsilon': 1,\n",
    "    'radius': 1,\n",
    "    'height': 10.5,\n",
    "    'width': 6.6,\n",
    "    'max_sensors': 15  \n",
    "}\n",
    "\n",
    "runningOnGoogleColab = False\n",
    "    \n",
    "if __name__ ==  '__main__':\n",
    "    import sys\n",
    "\n",
    "    if (runningOnGoogleColab == True):\n",
    "        from google.colab import drive    \n",
    "        drive.mount('/content/gdrive', force_remount=True)\n",
    "        Data_path = 'gdrive/My Drive/PhD/Thesis/Ideas/Codes/Sensor Simulator/'\n",
    "        sys.path.append('gdrive/My Drive/PhD/Thesis/Ideas/Codes/Sensor Simulator/')\n",
    "        \n",
    "    else:\n",
    "        Data_path = '../../Codes/Sensor Simulator/'\n",
    "        sys.path.append('../../Codes/Sensor Simulator/')\n",
    "\n",
    "    # from ax import optimize, ChoiceParameter\n",
    "    from scipy.stats import norm\n",
    "    from numpy import argmax\n",
    "    import SIM_SIS_Libraries.SensorsClass\n",
    "    import SIM_SIS_Libraries.SIM_SIS_Simulator as sim_sis\n",
    "    import SIM_SIS_Libraries.ParseFunctions as pf\n",
    "    import itertools\n",
    "    import numpy as np\n",
    "    import pandas as pd\n",
    "    import SIM_SIS_Libraries.PreDeploymentEvaluation as pde\n",
    "    import copy\n",
    "    from datetime import datetime\n",
    "    import pytz\n",
    "    import ast\n",
    "    import os\n",
    "    import random\n",
    "    import plotly\n",
    "    import torch\n",
    "\n",
    "    finalResults = []\n",
    "    w = CONSTANTS['width'] - 0.5\n",
    "    h = CONSTANTS['height'] - 0.5\n",
    "\n",
    "    dataBoundaries = MakeDataBoundaries(\n",
    "                                        height = CONSTANTS['height'], \n",
    "                                        width = CONSTANTS['width'], \n",
    "                                        MaxSensors = CONSTANTS['max_sensors']\n",
    "                                       )\n",
    "\n",
    "    BOV =  BOVariables(\n",
    "                       Data_path, \n",
    "                       CONSTANTS['epsilon'], \n",
    "                       CONSTANTS['max_sensors'], \n",
    "                       CONSTANTS['max_sensors'], \n",
    "                       CONSTANTS['radius'],\n",
    "                       CONSTANTS['initial_samples']\n",
    "                      )\n",
    "\n",
    "    from openbox import sp\n",
    "\n",
    "    # Define Search Space\n",
    "    space = sp.Space()\n",
    "\n",
    "    list_of_variables = []\n",
    "    for i in range(1, 16):\n",
    "        x = sp.Int(\"x\" + str(i), 0, 6, default_value=0)\n",
    "        y = sp.Int(\"y\" + str(i), 0, 10, default_value=0)\n",
    "        list_of_variables.append(x)\n",
    "        list_of_variables.append(y)\n",
    "    \n",
    "    space.add_variables(list_of_variables)\n",
    "\n",
    "    from openbox import Optimizer\n",
    "\n",
    "    # Run\n",
    "    opt = Optimizer(\n",
    "        function_to_be_optimized,\n",
    "        space,\n",
    "        max_runs=1000,\n",
    "        surrogate_type='gp',\n",
    "        acq_optimizer_type='random_scipy',\n",
    "        time_limit_per_trial=31000,\n",
    "        task_id='Shadan',\n",
    "    )\n",
    "    history = opt.run()"
   ]
  },
  {
   "cell_type": "code",
   "execution_count": null,
   "metadata": {
    "id": "rc1DFnpgyVCs"
   },
   "outputs": [],
   "source": [
    "print(history)"
   ]
  },
  {
   "cell_type": "code",
   "execution_count": null,
   "metadata": {
    "id": "uzoAtQ3G0Hcs"
   },
   "outputs": [],
   "source": []
  }
 ],
 "metadata": {
  "colab": {
   "authorship_tag": "ABX9TyOBkfX9vRRGu+TOsWDKDfMs",
   "collapsed_sections": [],
   "machine_shape": "hm",
   "name": "OpenBox.ipynb",
   "provenance": []
  },
  "kernelspec": {
   "display_name": "Python 3",
   "language": "python",
   "name": "python3"
  },
  "language_info": {
   "codemirror_mode": {
    "name": "ipython",
    "version": 3
   },
   "file_extension": ".py",
   "mimetype": "text/x-python",
   "name": "python",
   "nbconvert_exporter": "python",
   "pygments_lexer": "ipython3",
   "version": "3.8.8"
  }
 },
 "nbformat": 4,
 "nbformat_minor": 1
}
