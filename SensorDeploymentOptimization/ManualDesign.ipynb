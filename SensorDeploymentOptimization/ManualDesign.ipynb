{
 "cells": [
  {
   "cell_type": "code",
   "execution_count": 4,
   "metadata": {},
   "outputs": [
    {
     "name": "stdout",
     "output_type": "stream",
     "text": [
      "75.38515615000601\n",
      "74.2206843107829\n",
      "74.69696569276516\n",
      "76.67203118116215\n",
      "75.92088150284937\n",
      "75.37914376751311\n",
      "0.8686160285830655\n"
     ]
    }
   ],
   "source": [
    "import SensorOptimizers.ManualDesign as MD\n",
    "import numpy as np\n",
    "import pickle\n",
    "\n",
    "ROS = True\n",
    "epsilon = 0.5\n",
    "multi_objective = False\n",
    "sensorNum = 5\n",
    "initial_state = 'random'\n",
    "\n",
    "# maxSensorNum = int(np.min([(8 / epsilon) * (8 / epsilon), sensorNum]))\n",
    "\n",
    "# print('----- Running BO with: \\n \\t - epsilon: ', epsilon, \n",
    "#       '\\n \\t - sensor #:', sensorNum, \n",
    "#       ' \\n \\t - initial state: ', initial_state)\n",
    "\n",
    "\n",
    "config = {'x1': 1.5 / epsilon,\n",
    "          'y1': 2.5 / epsilon,\n",
    "          \n",
    "          'x2': 2 / epsilon,\n",
    "          'y2': 4.5 / epsilon,\n",
    "          \n",
    "          'x3': 1 / epsilon,\n",
    "          'y3': 6 / epsilon,\n",
    "          \n",
    "          'x4': 2.5 / epsilon,\n",
    "          'y4': 7 / epsilon,\n",
    "          \n",
    "          'x5': 0.5 / epsilon,\n",
    "          'y5': 7 / epsilon,\n",
    "          \n",
    "          'x6': 7 / epsilon,\n",
    "          'y6': 1.5 / epsilon,\n",
    "          \n",
    "          'x7': 4.5 / epsilon,\n",
    "          'y7': 3 / epsilon,\n",
    "          \n",
    "          'x8': 6.5 / epsilon,\n",
    "          'y8': 4 / epsilon,\n",
    "          \n",
    "          'x9': 7.5 / epsilon,\n",
    "          'y9': 4 / epsilon,\n",
    "          \n",
    "          'x10': 7 / epsilon,\n",
    "          'y10': 6 / epsilon,\n",
    "          \n",
    "          'x11': 7.5 / epsilon,\n",
    "          'y11': 7 / epsilon,\n",
    "        \n",
    "         }\n",
    "\n",
    "histories = []\n",
    "\n",
    "for _ in range(5):\n",
    "    history = MD.run(config,\n",
    "                     epsilon = epsilon, \n",
    "                     ROS = True, \n",
    "                     maxSensorNum = 11\n",
    "                    )\n",
    "\n",
    "    # print(history)\n",
    "    histories.append(history)\n",
    "    \n",
    "print(np.mean(histories))\n",
    "print(np.std(histories))"
   ]
  },
  {
   "cell_type": "code",
   "execution_count": null,
   "metadata": {},
   "outputs": [],
   "source": []
  }
 ],
 "metadata": {
  "kernelspec": {
   "display_name": "Python 3",
   "language": "python",
   "name": "python3"
  },
  "language_info": {
   "codemirror_mode": {
    "name": "ipython",
    "version": 3
   },
   "file_extension": ".py",
   "mimetype": "text/x-python",
   "name": "python",
   "nbconvert_exporter": "python",
   "pygments_lexer": "ipython3",
   "version": "3.9.0"
  }
 },
 "nbformat": 4,
 "nbformat_minor": 4
}
