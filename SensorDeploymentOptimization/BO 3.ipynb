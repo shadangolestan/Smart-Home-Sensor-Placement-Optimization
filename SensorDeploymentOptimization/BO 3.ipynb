{
 "cells": [
  {
   "cell_type": "code",
   "execution_count": 4,
   "metadata": {
    "scrolled": true
   },
   "outputs": [
    {
     "name": "stdout",
     "output_type": "stream",
     "text": [
      "----- Running BO with: \n",
      " \t - epsilon:  0.5 \n",
      " \t - LS sensors #: 11 \n",
      " \t - IS sensors #: 3  \n",
      " \t - initial state:  random\n",
      "Processing Region of Similarity... [COMPLETED]\n",
      "here 1\n",
      "[INFO] [2022-11-14 11:27:38,686] [Advisor] === [BO auto selection] === surrogate_type: prf. acq_optimizer_type: local_random.\n",
      "**************************************************\n",
      "self.acq_type  ei\n",
      "acq_optimizer_type  local_random\n",
      "self.num_objs  1\n",
      "self.surrogate_model  None\n",
      "self.num_constraints  0\n",
      "**************************************************\n",
      "[Build Surrogate] Use probabilistic random forest based on scikit-learn. For better performance, please install pyrfr: https://open-box.readthedocs.io/en/latest/installation/install_pyrfr.html\n",
      "<class 'openbox.core.generic_advisor.Advisor'>\n"
     ]
    },
    {
     "name": "stderr",
     "output_type": "stream",
     "text": [
      "  0%|          | 0/1000 [00:00<?, ?it/s]"
     ]
    },
    {
     "name": "stdout",
     "output_type": "stream",
     "text": [
      "[INFO] [2022-11-14 11:30:59,253] [OpenBox-SPO] Iteration 1, objective value: [47.08272425905032].\n"
     ]
    },
    {
     "name": "stderr",
     "output_type": "stream",
     "text": [
      "  0%|          | 1/1000 [03:20<55:39:14, 200.55s/it]"
     ]
    },
    {
     "name": "stdout",
     "output_type": "stream",
     "text": [
      "[INFO] [2022-11-14 11:34:41,694] [OpenBox-SPO] Iteration 2, objective value: [54.98663880748465].\n"
     ]
    },
    {
     "name": "stderr",
     "output_type": "stream",
     "text": [
      "  0%|          | 2/1000 [07:02<59:10:02, 213.43s/it]"
     ]
    },
    {
     "name": "stdout",
     "output_type": "stream",
     "text": [
      "[INFO] [2022-11-14 11:39:09,766] [OpenBox-SPO] Iteration 3, objective value: [58.25794107983835].\n"
     ]
    },
    {
     "name": "stderr",
     "output_type": "stream",
     "text": [
      "  0%|          | 3/1000 [11:31<66:01:05, 238.38s/it]"
     ]
    },
    {
     "name": "stdout",
     "output_type": "stream",
     "text": [
      "[INFO] [2022-11-14 11:43:56,787] [OpenBox-SPO] Iteration 4, objective value: [50.151379088361345].\n"
     ]
    },
    {
     "name": "stderr",
     "output_type": "stream",
     "text": [
      "  0%|          | 4/1000 [16:18<71:15:52, 257.58s/it]"
     ]
    },
    {
     "name": "stdout",
     "output_type": "stream",
     "text": [
      "[INFO] [2022-11-14 11:47:15,271] [OpenBox-SPO] Iteration 5, objective value: [43.36239325783245].\n"
     ]
    },
    {
     "name": "stderr",
     "output_type": "stream",
     "text": [
      "  0%|          | 5/1000 [19:36<65:18:09, 236.27s/it]"
     ]
    },
    {
     "name": "stdout",
     "output_type": "stream",
     "text": [
      "[INFO] [2022-11-14 11:47:15,274] [Advisor] Sample random config. rand_prob=0.100000.\n",
      "[INFO] [2022-11-14 11:50:11,580] [OpenBox-SPO] Iteration 6, objective value: [45.74291543144311].\n"
     ]
    },
    {
     "name": "stderr",
     "output_type": "stream",
     "text": [
      "  1%|          | 6/1000 [22:32<59:36:30, 215.89s/it]"
     ]
    },
    {
     "name": "stdout",
     "output_type": "stream",
     "text": [
      "[INFO] [2022-11-14 11:53:06,915] [OpenBox-SPO] Iteration 7, objective value: [50.18246849352327].\n"
     ]
    },
    {
     "name": "stderr",
     "output_type": "stream",
     "text": [
      "  1%|          | 7/1000 [25:28<55:53:28, 202.63s/it]"
     ]
    },
    {
     "name": "stdout",
     "output_type": "stream",
     "text": [
      "[INFO] [2022-11-14 11:56:58,661] [OpenBox-SPO] Iteration 8, objective value: [48.30139560833846].\n"
     ]
    },
    {
     "name": "stderr",
     "output_type": "stream",
     "text": [
      "  1%|          | 8/1000 [29:19<58:23:22, 211.90s/it]"
     ]
    },
    {
     "name": "stdout",
     "output_type": "stream",
     "text": [
      "[INFO] [2022-11-14 12:00:32,709] [OpenBox-SPO] Iteration 9, objective value: [49.67345644576613].\n"
     ]
    },
    {
     "name": "stderr",
     "output_type": "stream",
     "text": [
      "  1%|          | 9/1000 [32:54<58:30:56, 212.57s/it]"
     ]
    },
    {
     "name": "stdout",
     "output_type": "stream",
     "text": [
      "[INFO] [2022-11-14 12:00:32,711] [Advisor] Sample random config. rand_prob=0.100000.\n",
      "[INFO] [2022-11-14 12:03:38,597] [OpenBox-SPO] Iteration 10, objective value: [47.19701830310494].\n"
     ]
    },
    {
     "name": "stderr",
     "output_type": "stream",
     "text": [
      "  1%|          | 10/1000 [35:59<56:11:29, 204.33s/it]"
     ]
    },
    {
     "name": "stdout",
     "output_type": "stream",
     "text": [
      "[INFO] [2022-11-14 12:07:32,049] [OpenBox-SPO] Iteration 11, objective value: [53.341106543799036].\n"
     ]
    },
    {
     "name": "stderr",
     "output_type": "stream",
     "text": [
      "  1%|          | 11/1000 [39:53<58:34:59, 213.24s/it]"
     ]
    },
    {
     "name": "stdout",
     "output_type": "stream",
     "text": [
      "[INFO] [2022-11-14 12:12:11,258] [OpenBox-SPO] Iteration 12, objective value: [47.36539657923704].\n"
     ]
    },
    {
     "name": "stderr",
     "output_type": "stream",
     "text": [
      "  1%|          | 12/1000 [44:32<64:01:51, 233.31s/it]"
     ]
    },
    {
     "name": "stdout",
     "output_type": "stream",
     "text": [
      "[INFO] [2022-11-14 12:16:13,306] [OpenBox-SPO] Iteration 13, objective value: [47.734503676513725].\n"
     ]
    },
    {
     "name": "stderr",
     "output_type": "stream",
     "text": [
      "  1%|▏         | 13/1000 [48:34<64:41:30, 235.96s/it]"
     ]
    },
    {
     "name": "stdout",
     "output_type": "stream",
     "text": [
      "[INFO] [2022-11-14 12:19:45,418] [OpenBox-SPO] Iteration 14, objective value: [45.339934985913686].\n"
     ]
    },
    {
     "name": "stderr",
     "output_type": "stream",
     "text": [
      "  1%|▏         | 14/1000 [52:06<62:39:12, 228.76s/it]"
     ]
    },
    {
     "name": "stdout",
     "output_type": "stream",
     "text": [
      "[INFO] [2022-11-14 12:24:15,398] [OpenBox-SPO] Iteration 15, objective value: [51.55034007006207].\n"
     ]
    },
    {
     "name": "stderr",
     "output_type": "stream",
     "text": [
      "  2%|▏         | 15/1000 [56:36<65:59:23, 241.18s/it]"
     ]
    },
    {
     "name": "stdout",
     "output_type": "stream",
     "text": [
      "[INFO] [2022-11-14 12:28:49,128] [OpenBox-SPO] Iteration 16, objective value: [41.88835165743302].\n"
     ]
    },
    {
     "name": "stderr",
     "output_type": "stream",
     "text": [
      "  2%|▏         | 16/1000 [1:01:10<68:36:03, 250.98s/it]"
     ]
    },
    {
     "name": "stdout",
     "output_type": "stream",
     "text": [
      "[INFO] [2022-11-14 12:33:13,087] [OpenBox-SPO] Iteration 17, objective value: [53.62804803512674].\n"
     ]
    },
    {
     "name": "stderr",
     "output_type": "stream",
     "text": [
      "  2%|▏         | 17/1000 [1:05:34<69:35:49, 254.88s/it]"
     ]
    },
    {
     "name": "stdout",
     "output_type": "stream",
     "text": [
      "[INFO] [2022-11-14 12:38:29,049] [OpenBox-SPO] Iteration 18, objective value: [54.24025012204698].\n"
     ]
    },
    {
     "name": "stderr",
     "output_type": "stream",
     "text": [
      "  2%|▏         | 18/1000 [1:10:50<74:31:57, 273.24s/it]"
     ]
    },
    {
     "name": "stdout",
     "output_type": "stream",
     "text": [
      "[INFO] [2022-11-14 12:42:08,458] [OpenBox-SPO] Iteration 19, objective value: [43.384181271392606].\n"
     ]
    },
    {
     "name": "stderr",
     "output_type": "stream",
     "text": [
      "  2%|▏         | 19/1000 [1:14:29<70:03:05, 257.07s/it]"
     ]
    },
    {
     "name": "stdout",
     "output_type": "stream",
     "text": [
      "[INFO] [2022-11-14 12:46:13,951] [OpenBox-SPO] Iteration 20, objective value: [47.165277451316335].\n"
     ]
    },
    {
     "name": "stderr",
     "output_type": "stream",
     "text": [
      "  2%|▏         | 20/1000 [1:18:35<69:02:01, 253.59s/it]"
     ]
    },
    {
     "name": "stdout",
     "output_type": "stream",
     "text": [
      "[INFO] [2022-11-14 12:51:24,070] [OpenBox-SPO] Iteration 21, objective value: [54.70021741456811].\n"
     ]
    },
    {
     "name": "stderr",
     "output_type": "stream",
     "text": [
      "  2%|▏         | 21/1000 [1:23:45<73:34:38, 270.56s/it]"
     ]
    },
    {
     "name": "stdout",
     "output_type": "stream",
     "text": [
      "[INFO] [2022-11-14 12:56:29,151] [OpenBox-SPO] Iteration 22, objective value: [56.423547285047896].\n"
     ]
    },
    {
     "name": "stderr",
     "output_type": "stream",
     "text": [
      "  2%|▏         | 22/1000 [1:28:50<76:19:00, 280.92s/it]"
     ]
    },
    {
     "name": "stdout",
     "output_type": "stream",
     "text": [
      "[INFO] [2022-11-14 13:00:45,477] [OpenBox-SPO] Iteration 23, objective value: [47.92188437782965].\n"
     ]
    },
    {
     "name": "stderr",
     "output_type": "stream",
     "text": [
      "  2%|▏         | 23/1000 [1:33:06<74:14:09, 273.54s/it]"
     ]
    },
    {
     "name": "stdout",
     "output_type": "stream",
     "text": [
      "[INFO] [2022-11-14 13:04:57,566] [OpenBox-SPO] Iteration 24, objective value: [41.99880717165729].\n"
     ]
    },
    {
     "name": "stderr",
     "output_type": "stream",
     "text": [
      "  2%|▏         | 24/1000 [1:37:18<72:24:53, 267.10s/it]"
     ]
    },
    {
     "name": "stdout",
     "output_type": "stream",
     "text": [
      "[INFO] [2022-11-14 13:11:41,050] [OpenBox-SPO] Iteration 25, objective value: [49.556576982392265].\n"
     ]
    },
    {
     "name": "stderr",
     "output_type": "stream",
     "text": [
      "  2%|▎         | 25/1000 [1:44:02<83:25:22, 308.02s/it]"
     ]
    },
    {
     "name": "stdout",
     "output_type": "stream",
     "text": [
      "[INFO] [2022-11-14 13:19:27,514] [OpenBox-SPO] Iteration 26, objective value: [47.11882370926068].\n"
     ]
    },
    {
     "name": "stderr",
     "output_type": "stream",
     "text": [
      "  3%|▎         | 26/1000 [1:51:48<96:11:55, 355.56s/it]"
     ]
    },
    {
     "name": "stdout",
     "output_type": "stream",
     "text": [
      "[INFO] [2022-11-14 13:25:04,610] [OpenBox-SPO] Iteration 27, objective value: [45.80315695045197].\n"
     ]
    },
    {
     "name": "stderr",
     "output_type": "stream",
     "text": [
      "  3%|▎         | 27/1000 [1:57:25<94:36:10, 350.02s/it]"
     ]
    },
    {
     "name": "stdout",
     "output_type": "stream",
     "text": [
      "[INFO] [2022-11-14 13:29:02,133] [OpenBox-SPO] Iteration 28, objective value: [44.75251092124915].\n"
     ]
    },
    {
     "name": "stderr",
     "output_type": "stream",
     "text": [
      "  3%|▎         | 28/1000 [2:01:23<85:23:34, 316.27s/it]"
     ]
    },
    {
     "name": "stdout",
     "output_type": "stream",
     "text": [
      "[INFO] [2022-11-14 13:33:46,479] [OpenBox-SPO] Iteration 29, objective value: [40.826569449619775].\n"
     ]
    },
    {
     "name": "stderr",
     "output_type": "stream",
     "text": [
      "  3%|▎         | 29/1000 [2:06:07<82:43:17, 306.69s/it]"
     ]
    },
    {
     "name": "stdout",
     "output_type": "stream",
     "text": [
      "[INFO] [2022-11-14 13:35:57,810] [OpenBox-SPO] Iteration 30, objective value: [46.43128192262047].\n"
     ]
    },
    {
     "name": "stderr",
     "output_type": "stream",
     "text": [
      "  3%|▎         | 30/1000 [2:08:19<68:27:40, 254.08s/it]"
     ]
    },
    {
     "name": "stdout",
     "output_type": "stream",
     "text": [
      "[INFO] [2022-11-14 13:37:59,798] [OpenBox-SPO] Iteration 31, objective value: [40.145665765284754].\n"
     ]
    },
    {
     "name": "stderr",
     "output_type": "stream",
     "text": [
      "  3%|▎         | 31/1000 [2:10:21<57:43:24, 214.45s/it]"
     ]
    },
    {
     "name": "stdout",
     "output_type": "stream",
     "text": [
      "[INFO] [2022-11-14 13:40:02,589] [OpenBox-SPO] Iteration 32, objective value: [45.47685033862579].\n"
     ]
    },
    {
     "name": "stderr",
     "output_type": "stream",
     "text": [
      "  3%|▎         | 32/1000 [2:12:23<50:16:11, 186.95s/it]"
     ]
    },
    {
     "name": "stdout",
     "output_type": "stream",
     "text": [
      "[INFO] [2022-11-14 13:42:15,238] [OpenBox-SPO] Iteration 33, objective value: [47.501413423357].\n"
     ]
    },
    {
     "name": "stderr",
     "output_type": "stream",
     "text": [
      "  3%|▎         | 33/1000 [2:14:36<45:50:30, 170.66s/it]"
     ]
    },
    {
     "name": "stdout",
     "output_type": "stream",
     "text": [
      "[INFO] [2022-11-14 13:44:11,391] [OpenBox-SPO] Iteration 34, objective value: [47.4599047579171].\n"
     ]
    },
    {
     "name": "stderr",
     "output_type": "stream",
     "text": [
      "  3%|▎         | 34/1000 [2:16:32<41:24:22, 154.31s/it]"
     ]
    },
    {
     "name": "stdout",
     "output_type": "stream",
     "text": [
      "[INFO] [2022-11-14 13:45:51,101] [OpenBox-SPO] Iteration 35, objective value: [43.36445553092128].\n"
     ]
    },
    {
     "name": "stderr",
     "output_type": "stream",
     "text": [
      "  4%|▎         | 35/1000 [2:18:12<36:58:21, 137.93s/it]"
     ]
    },
    {
     "name": "stdout",
     "output_type": "stream",
     "text": [
      "[INFO] [2022-11-14 13:47:38,761] [OpenBox-SPO] Iteration 36, objective value: [46.05470955957613].\n"
     ]
    },
    {
     "name": "stderr",
     "output_type": "stream",
     "text": [
      "  4%|▎         | 36/1000 [2:20:00<34:30:10, 128.85s/it]"
     ]
    },
    {
     "name": "stdout",
     "output_type": "stream",
     "text": [
      "[INFO] [2022-11-14 13:49:47,504] [OpenBox-SPO] Iteration 37, objective value: [49.63791603805283].\n"
     ]
    },
    {
     "name": "stderr",
     "output_type": "stream",
     "text": [
      "  4%|▎         | 37/1000 [2:22:08<34:27:30, 128.82s/it]"
     ]
    },
    {
     "name": "stdout",
     "output_type": "stream",
     "text": [
      "[INFO] [2022-11-14 13:53:00,250] [OpenBox-SPO] Iteration 38, objective value: [48.13610348782553].\n"
     ]
    },
    {
     "name": "stderr",
     "output_type": "stream",
     "text": [
      "  4%|▍         | 38/1000 [2:25:21<39:32:52, 148.00s/it]"
     ]
    },
    {
     "name": "stdout",
     "output_type": "stream",
     "text": [
      "[INFO] [2022-11-14 13:56:38,767] [OpenBox-SPO] Iteration 39, objective value: [44.10197667967364].\n"
     ]
    },
    {
     "name": "stderr",
     "output_type": "stream",
     "text": [
      "  4%|▍         | 39/1000 [2:29:00<45:09:15, 169.15s/it]"
     ]
    },
    {
     "name": "stdout",
     "output_type": "stream",
     "text": [
      "[INFO] [2022-11-14 14:00:08,481] [OpenBox-SPO] Iteration 40, objective value: [49.84774524044005].\n"
     ]
    },
    {
     "name": "stderr",
     "output_type": "stream",
     "text": [
      "  4%|▍         | 40/1000 [2:32:29<48:21:08, 181.32s/it]"
     ]
    },
    {
     "name": "stdout",
     "output_type": "stream",
     "text": [
      "[INFO] [2022-11-14 14:02:57,083] [OpenBox-SPO] Iteration 41, objective value: [41.849914505330965].\n"
     ]
    },
    {
     "name": "stderr",
     "output_type": "stream",
     "text": [
      "  4%|▍         | 41/1000 [2:35:18<47:17:07, 177.51s/it]"
     ]
    },
    {
     "name": "stdout",
     "output_type": "stream",
     "text": [
      "[INFO] [2022-11-14 14:04:56,203] [OpenBox-SPO] Iteration 42, objective value: [45.19071551699976].\n"
     ]
    },
    {
     "name": "stderr",
     "output_type": "stream",
     "text": [
      "  4%|▍         | 42/1000 [2:37:17<42:34:29, 159.99s/it]"
     ]
    },
    {
     "name": "stdout",
     "output_type": "stream",
     "text": [
      "[INFO] [2022-11-14 14:04:56,205] [Advisor] Sample random config. rand_prob=0.100000.\n",
      "[INFO] [2022-11-14 14:06:18,163] [OpenBox-SPO] Iteration 43, objective value: [51.35770589488794].\n"
     ]
    },
    {
     "name": "stderr",
     "output_type": "stream",
     "text": [
      "  4%|▍         | 43/1000 [2:38:39<36:18:27, 136.58s/it]"
     ]
    },
    {
     "name": "stdout",
     "output_type": "stream",
     "text": [
      "[INFO] [2022-11-14 14:08:06,564] [OpenBox-SPO] Iteration 44, objective value: [47.02780116871674].\n"
     ]
    },
    {
     "name": "stderr",
     "output_type": "stream",
     "text": [
      "  4%|▍         | 44/1000 [2:40:27<34:01:28, 128.13s/it]"
     ]
    },
    {
     "name": "stdout",
     "output_type": "stream",
     "text": [
      "[INFO] [2022-11-14 14:10:03,005] [OpenBox-SPO] Iteration 45, objective value: [46.747592002837415].\n"
     ]
    },
    {
     "name": "stderr",
     "output_type": "stream",
     "text": [
      "  4%|▍         | 45/1000 [2:42:24<33:03:32, 124.62s/it]"
     ]
    },
    {
     "name": "stdout",
     "output_type": "stream",
     "text": [
      "[INFO] [2022-11-14 14:11:49,669] [OpenBox-SPO] Iteration 46, objective value: [42.24777732202658].\n"
     ]
    },
    {
     "name": "stderr",
     "output_type": "stream",
     "text": [
      "  5%|▍         | 46/1000 [2:44:10<31:35:49, 119.23s/it]"
     ]
    },
    {
     "name": "stdout",
     "output_type": "stream",
     "text": [
      "[INFO] [2022-11-14 14:13:17,951] [OpenBox-SPO] Iteration 47, objective value: [57.1151353122735].\n"
     ]
    },
    {
     "name": "stderr",
     "output_type": "stream",
     "text": [
      "  5%|▍         | 47/1000 [2:45:39<29:06:21, 109.95s/it]"
     ]
    },
    {
     "name": "stdout",
     "output_type": "stream",
     "text": [
      "[INFO] [2022-11-14 14:15:53,842] [OpenBox-SPO] Iteration 48, objective value: [46.83763752446498].\n"
     ]
    },
    {
     "name": "stderr",
     "output_type": "stream",
     "text": [
      "  5%|▍         | 48/1000 [2:48:15<32:43:12, 123.73s/it]"
     ]
    },
    {
     "name": "stdout",
     "output_type": "stream",
     "text": [
      "[INFO] [2022-11-14 14:17:37,561] [OpenBox-SPO] Iteration 49, objective value: [44.48231624824713].\n"
     ]
    },
    {
     "name": "stderr",
     "output_type": "stream",
     "text": [
      "  5%|▍         | 49/1000 [2:49:58<31:05:58, 117.73s/it]"
     ]
    },
    {
     "name": "stdout",
     "output_type": "stream",
     "text": [
      "[INFO] [2022-11-14 14:17:37,563] [Advisor] Sample random config. rand_prob=0.100000.\n",
      "[INFO] [2022-11-14 14:19:05,016] [OpenBox-SPO] Iteration 50, objective value: [50.13207428016979].\n"
     ]
    },
    {
     "name": "stderr",
     "output_type": "stream",
     "text": [
      "  5%|▌         | 50/1000 [2:51:26<28:40:13, 108.65s/it]"
     ]
    },
    {
     "name": "stdout",
     "output_type": "stream",
     "text": [
      "[INFO] [2022-11-14 14:20:43,463] [OpenBox-SPO] Iteration 51, objective value: [49.691909275830135].\n"
     ]
    },
    {
     "name": "stderr",
     "output_type": "stream",
     "text": [
      "  5%|▌         | 51/1000 [2:53:04<27:50:01, 105.59s/it]"
     ]
    },
    {
     "name": "stdout",
     "output_type": "stream",
     "text": [
      "[INFO] [2022-11-14 14:22:43,519] [OpenBox-SPO] Iteration 52, objective value: [44.16180760661537].\n"
     ]
    },
    {
     "name": "stderr",
     "output_type": "stream",
     "text": [
      "  5%|▌         | 52/1000 [2:55:04<28:56:50, 109.93s/it]"
     ]
    },
    {
     "name": "stdout",
     "output_type": "stream",
     "text": [
      "[INFO] [2022-11-14 14:24:31,274] [OpenBox-SPO] Iteration 53, objective value: [44.887321223943246].\n"
     ]
    },
    {
     "name": "stderr",
     "output_type": "stream",
     "text": [
      "  5%|▌         | 53/1000 [2:56:52<28:44:44, 109.28s/it]"
     ]
    },
    {
     "name": "stdout",
     "output_type": "stream",
     "text": [
      "[INFO] [2022-11-14 14:26:53,366] [OpenBox-SPO] Iteration 54, objective value: [54.14351473146796].\n"
     ]
    },
    {
     "name": "stderr",
     "output_type": "stream",
     "text": [
      "  5%|▌         | 54/1000 [2:59:14<31:18:07, 119.12s/it]"
     ]
    },
    {
     "name": "stdout",
     "output_type": "stream",
     "text": [
      "[INFO] [2022-11-14 14:28:50,270] [OpenBox-SPO] Iteration 55, objective value: [43.21998612253408].\n"
     ]
    },
    {
     "name": "stderr",
     "output_type": "stream",
     "text": [
      "  6%|▌         | 55/1000 [3:01:11<31:05:40, 118.46s/it]"
     ]
    },
    {
     "name": "stdout",
     "output_type": "stream",
     "text": [
      "[INFO] [2022-11-14 14:31:11,294] [OpenBox-SPO] Iteration 56, objective value: [48.73516954491712].\n"
     ]
    },
    {
     "name": "stderr",
     "output_type": "stream",
     "text": [
      "  6%|▌         | 56/1000 [3:03:32<32:50:13, 125.23s/it]"
     ]
    },
    {
     "name": "stdout",
     "output_type": "stream",
     "text": [
      "[INFO] [2022-11-14 14:33:21,485] [OpenBox-SPO] Iteration 57, objective value: [40.59605682773718].\n"
     ]
    },
    {
     "name": "stderr",
     "output_type": "stream",
     "text": [
      "  6%|▌         | 57/1000 [3:05:42<33:11:32, 126.72s/it]"
     ]
    },
    {
     "name": "stdout",
     "output_type": "stream",
     "text": [
      "[INFO] [2022-11-14 14:35:20,854] [OpenBox-SPO] Iteration 58, objective value: [42.4369385711496].\n"
     ]
    },
    {
     "name": "stderr",
     "output_type": "stream",
     "text": [
      "  6%|▌         | 58/1000 [3:07:42<32:34:49, 124.51s/it]"
     ]
    },
    {
     "name": "stdout",
     "output_type": "stream",
     "text": [
      "[INFO] [2022-11-14 14:37:01,836] [OpenBox-SPO] Iteration 59, objective value: [46.07944188166915].\n"
     ]
    },
    {
     "name": "stderr",
     "output_type": "stream",
     "text": [
      "  6%|▌         | 59/1000 [3:09:23<30:42:03, 117.45s/it]"
     ]
    },
    {
     "name": "stdout",
     "output_type": "stream",
     "text": [
      "[INFO] [2022-11-14 14:37:01,839] [Advisor] Sample random config. rand_prob=0.100000.\n",
      "[INFO] [2022-11-14 14:38:25,554] [OpenBox-SPO] Iteration 60, objective value: [50.798175427855945].\n"
     ]
    },
    {
     "name": "stderr",
     "output_type": "stream",
     "text": [
      "  6%|▌         | 60/1000 [3:10:46<28:01:32, 107.33s/it]"
     ]
    },
    {
     "name": "stdout",
     "output_type": "stream",
     "text": [
      "[INFO] [2022-11-14 14:40:30,829] [OpenBox-SPO] Iteration 61, objective value: [43.93546720381999].\n"
     ]
    },
    {
     "name": "stderr",
     "output_type": "stream",
     "text": [
      "  6%|▌         | 61/1000 [3:12:52<29:23:59, 112.71s/it]"
     ]
    },
    {
     "name": "stdout",
     "output_type": "stream",
     "text": [
      "[INFO] [2022-11-14 14:40:30,831] [Advisor] Sample random config. rand_prob=0.100000.\n",
      "[INFO] [2022-11-14 14:42:07,661] [OpenBox-SPO] Iteration 62, objective value: [45.578861283633174].\n"
     ]
    },
    {
     "name": "stderr",
     "output_type": "stream",
     "text": [
      "  6%|▌         | 62/1000 [3:14:28<28:07:37, 107.95s/it]"
     ]
    },
    {
     "name": "stdout",
     "output_type": "stream",
     "text": [
      "[INFO] [2022-11-14 14:44:17,345] [OpenBox-SPO] Iteration 63, objective value: [46.387062272476534].\n"
     ]
    },
    {
     "name": "stderr",
     "output_type": "stream",
     "text": [
      "  6%|▋         | 63/1000 [3:16:38<29:47:38, 114.47s/it]"
     ]
    },
    {
     "name": "stdout",
     "output_type": "stream",
     "text": [
      "[INFO] [2022-11-14 14:47:02,778] [OpenBox-SPO] Iteration 64, objective value: [46.250803736860505].\n"
     ]
    },
    {
     "name": "stderr",
     "output_type": "stream",
     "text": [
      "  6%|▋         | 64/1000 [3:19:24<33:44:14, 129.76s/it]"
     ]
    },
    {
     "name": "stdout",
     "output_type": "stream",
     "text": [
      "[INFO] [2022-11-14 14:49:50,489] [OpenBox-SPO] Iteration 65, objective value: [52.185855791184366].\n"
     ]
    },
    {
     "name": "stderr",
     "output_type": "stream",
     "text": [
      "  6%|▋         | 65/1000 [3:22:11<36:39:30, 141.14s/it]"
     ]
    },
    {
     "name": "stdout",
     "output_type": "stream",
     "text": [
      "[INFO] [2022-11-14 14:53:43,507] [OpenBox-SPO] Iteration 66, objective value: [45.888955258057315].\n"
     ]
    },
    {
     "name": "stderr",
     "output_type": "stream",
     "text": [
      "  7%|▋         | 66/1000 [3:26:04<43:46:12, 168.71s/it]"
     ]
    },
    {
     "name": "stdout",
     "output_type": "stream",
     "text": [
      "[INFO] [2022-11-14 14:58:08,553] [OpenBox-SPO] Iteration 67, objective value: [44.82196647778959].\n"
     ]
    },
    {
     "name": "stderr",
     "output_type": "stream",
     "text": [
      "  7%|▋         | 67/1000 [3:33:23<49:31:39, 191.10s/it]\n"
     ]
    },
    {
     "ename": "KeyboardInterrupt",
     "evalue": "",
     "output_type": "error",
     "traceback": [
      "\u001b[0;31m---------------------------------------------------------------------------\u001b[0m",
      "\u001b[0;31mKeyboardInterrupt\u001b[0m                         Traceback (most recent call last)",
      "Cell \u001b[0;32mIn [4], line 45\u001b[0m\n\u001b[1;32m     32\u001b[0m \u001b[39mfor\u001b[39;00m i \u001b[39min\u001b[39;00m \u001b[39mrange\u001b[39m(\u001b[39m2\u001b[39m, \u001b[39m3\u001b[39m):\n\u001b[1;32m     33\u001b[0m     BO \u001b[39m=\u001b[39m bo\u001b[39m.\u001b[39mBayesianOptimization(testbed \u001b[39m=\u001b[39m testbed,\n\u001b[1;32m     34\u001b[0m                                  iteration \u001b[39m=\u001b[39m \u001b[39m1000\u001b[39m, \n\u001b[1;32m     35\u001b[0m                                  epsilon \u001b[39m=\u001b[39m epsilon, \n\u001b[0;32m   (...)\u001b[0m\n\u001b[1;32m     42\u001b[0m                                  acquisition_function \u001b[39m=\u001b[39m acquisition_function,\n\u001b[1;32m     43\u001b[0m                                  acq_optimizer_type \u001b[39m=\u001b[39m acq_optimizer_type)\n\u001b[0;32m---> 45\u001b[0m     history \u001b[39m=\u001b[39m BO\u001b[39m.\u001b[39;49mrun()\n\u001b[1;32m     47\u001b[0m     \u001b[39mwith\u001b[39;00m \u001b[39mopen\u001b[39m(\u001b[39m'\u001b[39m\u001b[39mResults_BO/history(LS\u001b[39m\u001b[39m'\u001b[39m \u001b[39m+\u001b[39m \u001b[39mstr\u001b[39m(LSsensorsNum) \u001b[39m+\u001b[39m  \u001b[39m'\u001b[39m\u001b[39mIS\u001b[39m\u001b[39m'\u001b[39m \u001b[39m+\u001b[39m \u001b[39mstr\u001b[39m(ISsensorsNum) \u001b[39m+\u001b[39m \u001b[39m'\u001b[39m\u001b[39m)_\u001b[39m\u001b[39m'\u001b[39m \u001b[39m+\u001b[39m \u001b[39mstr\u001b[39m(i), \u001b[39m'\u001b[39m\u001b[39mwb\u001b[39m\u001b[39m'\u001b[39m) \u001b[39mas\u001b[39;00m handle:\n\u001b[1;32m     48\u001b[0m         pickle\u001b[39m.\u001b[39mdump(history, handle, protocol\u001b[39m=\u001b[39mpickle\u001b[39m.\u001b[39mHIGHEST_PROTOCOL)\n",
      "File \u001b[0;32m~/Library/CloudStorage/GoogleDrive-golestan@ualberta.ca/My Drive/PhD/Thesis/GreyBox Optimization Project/Codes/Smart-Home-Sensor-Placement-Optimization/SensorDeploymentOptimization/SensorOptimizers/BayesianOptimization.py:723\u001b[0m, in \u001b[0;36mBayesianOptimization.run\u001b[0;34m(self)\u001b[0m\n\u001b[1;32m    710\u001b[0m history_list \u001b[39m=\u001b[39m []\n\u001b[1;32m    712\u001b[0m opt \u001b[39m=\u001b[39m Optimizer(\n\u001b[1;32m    713\u001b[0m     \u001b[39mself\u001b[39m\u001b[39m.\u001b[39mfunction_to_be_optimized,\n\u001b[1;32m    714\u001b[0m     \u001b[39mself\u001b[39m\u001b[39m.\u001b[39mspace,\n\u001b[0;32m   (...)\u001b[0m\n\u001b[1;32m    721\u001b[0m     error \u001b[39m=\u001b[39m \u001b[39mself\u001b[39m\u001b[39m.\u001b[39mCONSTANTS[\u001b[39m'\u001b[39m\u001b[39merror\u001b[39m\u001b[39m'\u001b[39m]\n\u001b[1;32m    722\u001b[0m )\n\u001b[0;32m--> 723\u001b[0m history \u001b[39m=\u001b[39m opt\u001b[39m.\u001b[39;49mrun()\n\u001b[1;32m    726\u001b[0m \u001b[39mreturn\u001b[39;00m history\n",
      "File \u001b[0;32m~/Library/CloudStorage/GoogleDrive-golestan@ualberta.ca/My Drive/PhD/Thesis/GreyBox Optimization Project/Codes/Smart-Home-Sensor-Placement-Optimization/SensorDeploymentOptimization/openbox/optimizer/generic_smbo.py:221\u001b[0m, in \u001b[0;36mSMBO.run\u001b[0;34m(self)\u001b[0m\n\u001b[1;32m    219\u001b[0m     \u001b[39mbreak\u001b[39;00m\n\u001b[1;32m    220\u001b[0m start_time \u001b[39m=\u001b[39m time\u001b[39m.\u001b[39mtime()\n\u001b[0;32m--> 221\u001b[0m \u001b[39mself\u001b[39;49m\u001b[39m.\u001b[39;49miterate(budget_left\u001b[39m=\u001b[39;49m\u001b[39mself\u001b[39;49m\u001b[39m.\u001b[39;49mbudget_left)\n\u001b[1;32m    222\u001b[0m runtime \u001b[39m=\u001b[39m time\u001b[39m.\u001b[39mtime() \u001b[39m-\u001b[39m start_time\n\u001b[1;32m    223\u001b[0m \u001b[39mself\u001b[39m\u001b[39m.\u001b[39mbudget_left \u001b[39m-\u001b[39m\u001b[39m=\u001b[39m runtime\n",
      "File \u001b[0;32m~/Library/CloudStorage/GoogleDrive-golestan@ualberta.ca/My Drive/PhD/Thesis/GreyBox Optimization Project/Codes/Smart-Home-Sensor-Placement-Optimization/SensorDeploymentOptimization/openbox/optimizer/generic_smbo.py:240\u001b[0m, in \u001b[0;36mSMBO.iterate\u001b[0;34m(self, budget_left)\u001b[0m\n\u001b[1;32m    237\u001b[0m \u001b[39mtry\u001b[39;00m:\n\u001b[1;32m    238\u001b[0m     \u001b[39m# evaluate configuration on objective_function within time_limit_per_trial\u001b[39;00m\n\u001b[1;32m    239\u001b[0m     args, kwargs \u001b[39m=\u001b[39m (config,), \u001b[39mdict\u001b[39m()\n\u001b[0;32m--> 240\u001b[0m     timeout_status, _result \u001b[39m=\u001b[39m time_limit(\u001b[39mself\u001b[39;49m\u001b[39m.\u001b[39;49mobjective_function,\n\u001b[1;32m    241\u001b[0m                                          _time_limit_per_trial,\n\u001b[1;32m    242\u001b[0m                                          args\u001b[39m=\u001b[39;49margs, kwargs\u001b[39m=\u001b[39;49mkwargs)\n\u001b[1;32m    243\u001b[0m     \u001b[39mif\u001b[39;00m timeout_status:\n\u001b[1;32m    244\u001b[0m         \u001b[39mraise\u001b[39;00m TimeoutException(\n\u001b[1;32m    245\u001b[0m             \u001b[39m'\u001b[39m\u001b[39mTimeout: time limit for this evaluation is \u001b[39m\u001b[39m%.1f\u001b[39;00m\u001b[39ms\u001b[39m\u001b[39m'\u001b[39m \u001b[39m%\u001b[39m _time_limit_per_trial)\n",
      "File \u001b[0;32m~/Library/CloudStorage/GoogleDrive-golestan@ualberta.ca/My Drive/PhD/Thesis/GreyBox Optimization Project/Codes/Smart-Home-Sensor-Placement-Optimization/SensorDeploymentOptimization/openbox/utils/limit.py:84\u001b[0m, in \u001b[0;36mtime_limit\u001b[0;34m(func, time, *args, **kwargs)\u001b[0m\n\u001b[1;32m     81\u001b[0m     \u001b[39mreturn\u001b[39;00m no_time_limit_func(func, time, \u001b[39m*\u001b[39margs, \u001b[39m*\u001b[39m\u001b[39m*\u001b[39mkwargs)\n\u001b[1;32m     83\u001b[0m \u001b[39mif\u001b[39;00m _platform \u001b[39m==\u001b[39m \u001b[39m'\u001b[39m\u001b[39mOSX\u001b[39m\u001b[39m'\u001b[39m \u001b[39mand\u001b[39;00m sys\u001b[39m.\u001b[39mversion_info \u001b[39m>\u001b[39m\u001b[39m=\u001b[39m (\u001b[39m3\u001b[39m, \u001b[39m8\u001b[39m):\n\u001b[0;32m---> 84\u001b[0m     \u001b[39mreturn\u001b[39;00m no_time_limit_func(func, time, \u001b[39m*\u001b[39;49margs, \u001b[39m*\u001b[39;49m\u001b[39m*\u001b[39;49mkwargs)\n\u001b[1;32m     86\u001b[0m parent_conn, child_conn \u001b[39m=\u001b[39m Pipe(\u001b[39mFalse\u001b[39;00m)\n\u001b[1;32m     88\u001b[0m func \u001b[39m=\u001b[39m dill\u001b[39m.\u001b[39mdumps(func)\n",
      "File \u001b[0;32m~/Library/CloudStorage/GoogleDrive-golestan@ualberta.ca/My Drive/PhD/Thesis/GreyBox Optimization Project/Codes/Smart-Home-Sensor-Placement-Optimization/SensorDeploymentOptimization/openbox/utils/limit.py:70\u001b[0m, in \u001b[0;36mno_time_limit_func\u001b[0;34m(objective_function, time, *args, **kwargs)\u001b[0m\n\u001b[1;32m     69\u001b[0m \u001b[39mdef\u001b[39;00m \u001b[39mno_time_limit_func\u001b[39m(objective_function, time, \u001b[39m*\u001b[39margs, \u001b[39m*\u001b[39m\u001b[39m*\u001b[39mkwargs):\n\u001b[0;32m---> 70\u001b[0m     ret \u001b[39m=\u001b[39m objective_function(\u001b[39m*\u001b[39;49margs, \u001b[39m*\u001b[39;49m\u001b[39m*\u001b[39;49mkwargs)\n\u001b[1;32m     71\u001b[0m     \u001b[39mreturn\u001b[39;00m Returns(timeout_status\u001b[39m=\u001b[39m\u001b[39mFalse\u001b[39;00m, results\u001b[39m=\u001b[39mret)\n",
      "File \u001b[0;32m~/Library/CloudStorage/GoogleDrive-golestan@ualberta.ca/My Drive/PhD/Thesis/GreyBox Optimization Project/Codes/Smart-Home-Sensor-Placement-Optimization/SensorDeploymentOptimization/SensorOptimizers/BayesianOptimization.py:513\u001b[0m, in \u001b[0;36mBayesianOptimization.function_to_be_optimized\u001b[0;34m(self, config)\u001b[0m\n\u001b[1;32m    509\u001b[0m         sensorTypes\u001b[39m.\u001b[39mappend(\u001b[39m1\u001b[39m)\n\u001b[1;32m    511\u001b[0m data \u001b[39m=\u001b[39m Data(sensorPositions, sensorTypes, \u001b[39mself\u001b[39m\u001b[39m.\u001b[39mBOV\u001b[39m.\u001b[39mspace, \u001b[39mself\u001b[39m\u001b[39m.\u001b[39mCONSTANTS[\u001b[39m'\u001b[39m\u001b[39mepsilon\u001b[39m\u001b[39m'\u001b[39m])\n\u001b[0;32m--> 513\u001b[0m \u001b[39mreturn\u001b[39;00m \u001b[39m100\u001b[39m \u001b[39m-\u001b[39m \u001b[39mself\u001b[39;49m\u001b[39m.\u001b[39;49mblack_box_function(data, \n\u001b[1;32m    514\u001b[0m                                      simulateMotionSensors \u001b[39m=\u001b[39;49m \u001b[39mself\u001b[39;49m\u001b[39m.\u001b[39;49msensor_types[\u001b[39m'\u001b[39;49m\u001b[39mmodel_motion_sensor\u001b[39;49m\u001b[39m'\u001b[39;49m],\n\u001b[1;32m    515\u001b[0m                                      simulateEstimotes \u001b[39m=\u001b[39;49m \u001b[39mself\u001b[39;49m\u001b[39m.\u001b[39;49msensor_types[\u001b[39m'\u001b[39;49m\u001b[39mmodel_beacon_sensor\u001b[39;49m\u001b[39m'\u001b[39;49m],\n\u001b[1;32m    516\u001b[0m                                      simulateIS \u001b[39m=\u001b[39;49m (\u001b[39mself\u001b[39;49m\u001b[39m.\u001b[39;49msensor_types[\u001b[39m'\u001b[39;49m\u001b[39mmodel_pressure_sensor\u001b[39;49m\u001b[39m'\u001b[39;49m] \u001b[39mand\u001b[39;49;00m\n\u001b[1;32m    517\u001b[0m                                                    \u001b[39mself\u001b[39;49m\u001b[39m.\u001b[39;49msensor_types[\u001b[39m'\u001b[39;49m\u001b[39mmodel_accelerometer\u001b[39;49m\u001b[39m'\u001b[39;49m] \u001b[39mand\u001b[39;49;00m\n\u001b[1;32m    518\u001b[0m                                                    \u001b[39mself\u001b[39;49m\u001b[39m.\u001b[39;49msensor_types[\u001b[39m'\u001b[39;49m\u001b[39mmodel_electricity_sensor\u001b[39;49m\u001b[39m'\u001b[39;49m]))\n\u001b[1;32m    520\u001b[0m \u001b[39m'''\u001b[39;00m\n\u001b[1;32m    521\u001b[0m \u001b[39msensorPositions = []\u001b[39;00m\n\u001b[1;32m    522\u001b[0m \u001b[39msensorTypes = []\u001b[39;00m\n\u001b[0;32m   (...)\u001b[0m\n\u001b[1;32m    553\u001b[0m \u001b[39m                                                   self.sensor_types['model_electricity_sensor']))\u001b[39;00m\n\u001b[1;32m    554\u001b[0m \u001b[39m'''\u001b[39;00m\n",
      "File \u001b[0;32m~/Library/CloudStorage/GoogleDrive-golestan@ualberta.ca/My Drive/PhD/Thesis/GreyBox Optimization Project/Codes/Smart-Home-Sensor-Placement-Optimization/SensorDeploymentOptimization/SensorOptimizers/BayesianOptimization.py:277\u001b[0m, in \u001b[0;36mBayesianOptimization.black_box_function\u001b[0;34m(self, sample, simulateMotionSensors, simulateEstimotes, simulateIS, Plotting)\u001b[0m\n\u001b[1;32m    274\u001b[0m all_sensors \u001b[39m=\u001b[39m \u001b[39mset\u001b[39m([])\n\u001b[1;32m    276\u001b[0m \u001b[39mfor\u001b[39;00m agentTrace \u001b[39min\u001b[39;00m \u001b[39mself\u001b[39m\u001b[39m.\u001b[39mBOV\u001b[39m.\u001b[39magentTraces:\n\u001b[0;32m--> 277\u001b[0m     df_ \u001b[39m=\u001b[39m sim_sis\u001b[39m.\u001b[39;49mRunSimulator(\u001b[39mself\u001b[39;49m\u001b[39m.\u001b[39;49mBOV\u001b[39m.\u001b[39;49mspace, \n\u001b[1;32m    278\u001b[0m                                \u001b[39mself\u001b[39;49m\u001b[39m.\u001b[39;49mBOV\u001b[39m.\u001b[39;49mrooms, \n\u001b[1;32m    279\u001b[0m                                agentTrace,\n\u001b[1;32m    280\u001b[0m                                sample\u001b[39m.\u001b[39;49mGetSensorConfiguration(), \n\u001b[1;32m    281\u001b[0m                                simulateMotionSensors, \n\u001b[1;32m    282\u001b[0m                                simulateEstimotes,\n\u001b[1;32m    283\u001b[0m                                simulateIS,\n\u001b[1;32m    284\u001b[0m                                Plotting, \n\u001b[1;32m    285\u001b[0m                                \u001b[39mself\u001b[39;49m\u001b[39m.\u001b[39;49mBOV\u001b[39m.\u001b[39;49mData_path)\n\u001b[1;32m    287\u001b[0m     dataFile, sensors \u001b[39m=\u001b[39m \u001b[39mself\u001b[39m\u001b[39m.\u001b[39mPreProcessor(df_)\n\u001b[1;32m    288\u001b[0m     all_sensors\u001b[39m.\u001b[39mupdate(sensors)\n",
      "File \u001b[0;32m~/Library/CloudStorage/GoogleDrive-golestan@ualberta.ca/My Drive/PhD/Thesis/GreyBox Optimization Project/Codes/Smart-Home-Sensor-Placement-Optimization/SensorDeploymentOptimization/SIM_SIS_Libraries/SIM_SIS_Simulator.py:537\u001b[0m, in \u001b[0;36mRunSimulator\u001b[0;34m(space, Rooms, agentTrace, sensorsConfiguration, simulateMotionSensorsflag, simulateEstimotesflag, simulateIS, plottingflag, Data_path)\u001b[0m\n\u001b[1;32m    534\u001b[0m     \u001b[39mif\u001b[39;00m (plotflag):\n\u001b[1;32m    535\u001b[0m         fig, ax \u001b[39m=\u001b[39m plt\u001b[39m.\u001b[39msubplots(figsize \u001b[39m=\u001b[39m (\u001b[39m8.5\u001b[39m, \u001b[39m8.5\u001b[39m))\n\u001b[0;32m--> 537\u001b[0m     RunSimulation(FDN, simulateMotionSensors, simulateEstimotes, simulateISSensors)\n\u001b[1;32m    539\u001b[0m CreateUltimateDataset(UDN, Epoch)\n\u001b[1;32m    541\u001b[0m \u001b[39mreturn\u001b[39;00m df_\n",
      "File \u001b[0;32m~/Library/CloudStorage/GoogleDrive-golestan@ualberta.ca/My Drive/PhD/Thesis/GreyBox Optimization Project/Codes/Smart-Home-Sensor-Placement-Optimization/SensorDeploymentOptimization/SIM_SIS_Libraries/SIM_SIS_Simulator.py:422\u001b[0m, in \u001b[0;36mRunSimulation\u001b[0;34m(FDN, simulateMotionSensors, simulateEstimotes, simulateISSensors)\u001b[0m\n\u001b[1;32m    418\u001b[0m agent1Loc_previous \u001b[39m=\u001b[39m [\u001b[39m0\u001b[39m, \u001b[39m0\u001b[39m]\n\u001b[1;32m    420\u001b[0m timetoadd \u001b[39m=\u001b[39m df_\u001b[39m.\u001b[39mtime[i]\n\u001b[0;32m--> 422\u001b[0m SimulateSensorReadings(simulateMotionSensors, simulateEstimotes, simulateISSensors, timetoadd, i, agent1Loc, action,  \u001b[39mNone\u001b[39;49;00m)\n",
      "File \u001b[0;32m~/Library/CloudStorage/GoogleDrive-golestan@ualberta.ca/My Drive/PhD/Thesis/GreyBox Optimization Project/Codes/Smart-Home-Sensor-Placement-Optimization/SensorDeploymentOptimization/SIM_SIS_Libraries/SIM_SIS_Simulator.py:310\u001b[0m, in \u001b[0;36mSimulateSensorReadings\u001b[0;34m(simulateMotionSensors, simulateEstimotes, simulateISSensors, t, i, agent1Loc, action, agent2Loc)\u001b[0m\n\u001b[1;32m    307\u001b[0m \u001b[39mif\u001b[39;00m (plotflag):\n\u001b[1;32m    308\u001b[0m     pp \u001b[39m=\u001b[39m ax\u001b[39m.\u001b[39mplot(\u001b[39mfloat\u001b[39m(sensor\u001b[39m.\u001b[39mx) \u001b[39m/\u001b[39m \u001b[39m100\u001b[39m, \u001b[39mfloat\u001b[39m(sensor\u001b[39m.\u001b[39my) \u001b[39m/\u001b[39m \u001b[39m100\u001b[39m , marker\u001b[39m=\u001b[39m\u001b[39m'\u001b[39m\u001b[39m.\u001b[39m\u001b[39m'\u001b[39m, color\u001b[39m=\u001b[39m\u001b[39m'\u001b[39m\u001b[39mk\u001b[39m\u001b[39m'\u001b[39m, lw\u001b[39m=\u001b[39m\u001b[39m5\u001b[39m)\n\u001b[0;32m--> 310\u001b[0m circ \u001b[39m=\u001b[39m Circle((\u001b[39mfloat\u001b[39;49m(\u001b[39mfloat\u001b[39;49m(sensor\u001b[39m.\u001b[39;49mx) \u001b[39m/\u001b[39;49m \u001b[39m100\u001b[39;49m), \u001b[39mfloat\u001b[39;49m(\u001b[39mfloat\u001b[39;49m(sensor\u001b[39m.\u001b[39;49my) \u001b[39m/\u001b[39;49m \u001b[39m100\u001b[39;49m)), \u001b[39mfloat\u001b[39;49m(\u001b[39mfloat\u001b[39;49m(sensor\u001b[39m.\u001b[39;49msensing_area) \u001b[39m/\u001b[39;49m \u001b[39m100\u001b[39;49m))\n\u001b[1;32m    312\u001b[0m \u001b[39mif\u001b[39;00m (circ\u001b[39m.\u001b[39mcontains_point([agent1Loc[\u001b[39m0\u001b[39m], agent1Loc[\u001b[39m1\u001b[39m]]) \u001b[39mand\u001b[39;00m (RecContains(agent1Loc[\u001b[39m0\u001b[39m], agent1Loc[\u001b[39m1\u001b[39m], sensor\u001b[39m.\u001b[39mroom))):\n\u001b[1;32m    313\u001b[0m     no_event_flag \u001b[39m=\u001b[39m \u001b[39m0\u001b[39m\n",
      "File \u001b[0;32m/usr/local/lib/python3.10/site-packages/matplotlib/patches.py:1877\u001b[0m, in \u001b[0;36mCircle.__init__\u001b[0;34m(self, xy, radius, **kwargs)\u001b[0m\n\u001b[1;32m   1865\u001b[0m \u001b[39m@_docstring\u001b[39m\u001b[39m.\u001b[39mdedent_interpd\n\u001b[1;32m   1866\u001b[0m \u001b[39mdef\u001b[39;00m \u001b[39m__init__\u001b[39m(\u001b[39mself\u001b[39m, xy, radius\u001b[39m=\u001b[39m\u001b[39m5\u001b[39m, \u001b[39m*\u001b[39m\u001b[39m*\u001b[39mkwargs):\n\u001b[1;32m   1867\u001b[0m     \u001b[39m\"\"\"\u001b[39;00m\n\u001b[1;32m   1868\u001b[0m \u001b[39m    Create a true circle at center *xy* = (*x*, *y*) with given *radius*.\u001b[39;00m\n\u001b[1;32m   1869\u001b[0m \n\u001b[0;32m   (...)\u001b[0m\n\u001b[1;32m   1875\u001b[0m \u001b[39m    %(Patch:kwdoc)s\u001b[39;00m\n\u001b[1;32m   1876\u001b[0m \u001b[39m    \"\"\"\u001b[39;00m\n\u001b[0;32m-> 1877\u001b[0m     \u001b[39msuper\u001b[39;49m()\u001b[39m.\u001b[39;49m\u001b[39m__init__\u001b[39;49m(xy, radius \u001b[39m*\u001b[39;49m \u001b[39m2\u001b[39;49m, radius \u001b[39m*\u001b[39;49m \u001b[39m2\u001b[39;49m, \u001b[39m*\u001b[39;49m\u001b[39m*\u001b[39;49mkwargs)\n\u001b[1;32m   1878\u001b[0m     \u001b[39mself\u001b[39m\u001b[39m.\u001b[39mradius \u001b[39m=\u001b[39m radius\n",
      "File \u001b[0;32m/usr/local/lib/python3.10/site-packages/matplotlib/_api/deprecation.py:454\u001b[0m, in \u001b[0;36mmake_keyword_only.<locals>.wrapper\u001b[0;34m(*args, **kwargs)\u001b[0m\n\u001b[1;32m    448\u001b[0m \u001b[39mif\u001b[39;00m \u001b[39mlen\u001b[39m(args) \u001b[39m>\u001b[39m name_idx:\n\u001b[1;32m    449\u001b[0m     warn_deprecated(\n\u001b[1;32m    450\u001b[0m         since, message\u001b[39m=\u001b[39m\u001b[39m\"\u001b[39m\u001b[39mPassing the \u001b[39m\u001b[39m%(name)s\u001b[39;00m\u001b[39m \u001b[39m\u001b[39m%(obj_type)s\u001b[39;00m\u001b[39m \u001b[39m\u001b[39m\"\u001b[39m\n\u001b[1;32m    451\u001b[0m         \u001b[39m\"\u001b[39m\u001b[39mpositionally is deprecated since Matplotlib \u001b[39m\u001b[39m%(since)s\u001b[39;00m\u001b[39m; the \u001b[39m\u001b[39m\"\u001b[39m\n\u001b[1;32m    452\u001b[0m         \u001b[39m\"\u001b[39m\u001b[39mparameter will become keyword-only \u001b[39m\u001b[39m%(removal)s\u001b[39;00m\u001b[39m.\u001b[39m\u001b[39m\"\u001b[39m,\n\u001b[1;32m    453\u001b[0m         name\u001b[39m=\u001b[39mname, obj_type\u001b[39m=\u001b[39m\u001b[39mf\u001b[39m\u001b[39m\"\u001b[39m\u001b[39mparameter of \u001b[39m\u001b[39m{\u001b[39;00mfunc\u001b[39m.\u001b[39m\u001b[39m__name__\u001b[39m\u001b[39m}\u001b[39;00m\u001b[39m()\u001b[39m\u001b[39m\"\u001b[39m)\n\u001b[0;32m--> 454\u001b[0m \u001b[39mreturn\u001b[39;00m func(\u001b[39m*\u001b[39;49margs, \u001b[39m*\u001b[39;49m\u001b[39m*\u001b[39;49mkwargs)\n",
      "File \u001b[0;32m/usr/local/lib/python3.10/site-packages/matplotlib/patches.py:1546\u001b[0m, in \u001b[0;36mEllipse.__init__\u001b[0;34m(self, xy, width, height, angle, **kwargs)\u001b[0m\n\u001b[1;32m   1525\u001b[0m \u001b[39m@_docstring\u001b[39m\u001b[39m.\u001b[39mdedent_interpd\n\u001b[1;32m   1526\u001b[0m \u001b[39m@_api\u001b[39m\u001b[39m.\u001b[39mmake_keyword_only(\u001b[39m\"\u001b[39m\u001b[39m3.6\u001b[39m\u001b[39m\"\u001b[39m, name\u001b[39m=\u001b[39m\u001b[39m\"\u001b[39m\u001b[39mangle\u001b[39m\u001b[39m\"\u001b[39m)\n\u001b[1;32m   1527\u001b[0m \u001b[39mdef\u001b[39;00m \u001b[39m__init__\u001b[39m(\u001b[39mself\u001b[39m, xy, width, height, angle\u001b[39m=\u001b[39m\u001b[39m0\u001b[39m, \u001b[39m*\u001b[39m\u001b[39m*\u001b[39mkwargs):\n\u001b[1;32m   1528\u001b[0m     \u001b[39m\"\"\"\u001b[39;00m\n\u001b[1;32m   1529\u001b[0m \u001b[39m    Parameters\u001b[39;00m\n\u001b[1;32m   1530\u001b[0m \u001b[39m    ----------\u001b[39;00m\n\u001b[0;32m   (...)\u001b[0m\n\u001b[1;32m   1544\u001b[0m \u001b[39m    %(Patch:kwdoc)s\u001b[39;00m\n\u001b[1;32m   1545\u001b[0m \u001b[39m    \"\"\"\u001b[39;00m\n\u001b[0;32m-> 1546\u001b[0m     \u001b[39msuper\u001b[39;49m()\u001b[39m.\u001b[39;49m\u001b[39m__init__\u001b[39;49m(\u001b[39m*\u001b[39;49m\u001b[39m*\u001b[39;49mkwargs)\n\u001b[1;32m   1548\u001b[0m     \u001b[39mself\u001b[39m\u001b[39m.\u001b[39m_center \u001b[39m=\u001b[39m xy\n\u001b[1;32m   1549\u001b[0m     \u001b[39mself\u001b[39m\u001b[39m.\u001b[39m_width, \u001b[39mself\u001b[39m\u001b[39m.\u001b[39m_height \u001b[39m=\u001b[39m width, height\n",
      "File \u001b[0;32m/usr/local/lib/python3.10/site-packages/matplotlib/_api/deprecation.py:454\u001b[0m, in \u001b[0;36mmake_keyword_only.<locals>.wrapper\u001b[0;34m(*args, **kwargs)\u001b[0m\n\u001b[1;32m    448\u001b[0m \u001b[39mif\u001b[39;00m \u001b[39mlen\u001b[39m(args) \u001b[39m>\u001b[39m name_idx:\n\u001b[1;32m    449\u001b[0m     warn_deprecated(\n\u001b[1;32m    450\u001b[0m         since, message\u001b[39m=\u001b[39m\u001b[39m\"\u001b[39m\u001b[39mPassing the \u001b[39m\u001b[39m%(name)s\u001b[39;00m\u001b[39m \u001b[39m\u001b[39m%(obj_type)s\u001b[39;00m\u001b[39m \u001b[39m\u001b[39m\"\u001b[39m\n\u001b[1;32m    451\u001b[0m         \u001b[39m\"\u001b[39m\u001b[39mpositionally is deprecated since Matplotlib \u001b[39m\u001b[39m%(since)s\u001b[39;00m\u001b[39m; the \u001b[39m\u001b[39m\"\u001b[39m\n\u001b[1;32m    452\u001b[0m         \u001b[39m\"\u001b[39m\u001b[39mparameter will become keyword-only \u001b[39m\u001b[39m%(removal)s\u001b[39;00m\u001b[39m.\u001b[39m\u001b[39m\"\u001b[39m,\n\u001b[1;32m    453\u001b[0m         name\u001b[39m=\u001b[39mname, obj_type\u001b[39m=\u001b[39m\u001b[39mf\u001b[39m\u001b[39m\"\u001b[39m\u001b[39mparameter of \u001b[39m\u001b[39m{\u001b[39;00mfunc\u001b[39m.\u001b[39m\u001b[39m__name__\u001b[39m\u001b[39m}\u001b[39;00m\u001b[39m()\u001b[39m\u001b[39m\"\u001b[39m)\n\u001b[0;32m--> 454\u001b[0m \u001b[39mreturn\u001b[39;00m func(\u001b[39m*\u001b[39;49margs, \u001b[39m*\u001b[39;49m\u001b[39m*\u001b[39;49mkwargs)\n",
      "File \u001b[0;32m/usr/local/lib/python3.10/site-packages/matplotlib/patches.py:82\u001b[0m, in \u001b[0;36mPatch.__init__\u001b[0;34m(self, edgecolor, facecolor, color, linewidth, linestyle, antialiased, hatch, fill, capstyle, joinstyle, **kwargs)\u001b[0m\n\u001b[1;32m     80\u001b[0m     \u001b[39mself\u001b[39m\u001b[39m.\u001b[39mset_color(color)\n\u001b[1;32m     81\u001b[0m \u001b[39melse\u001b[39;00m:\n\u001b[0;32m---> 82\u001b[0m     \u001b[39mself\u001b[39;49m\u001b[39m.\u001b[39;49mset_edgecolor(edgecolor)\n\u001b[1;32m     83\u001b[0m     \u001b[39mself\u001b[39m\u001b[39m.\u001b[39mset_facecolor(facecolor)\n\u001b[1;32m     85\u001b[0m \u001b[39mself\u001b[39m\u001b[39m.\u001b[39m_linewidth \u001b[39m=\u001b[39m \u001b[39m0\u001b[39m\n",
      "File \u001b[0;32m/usr/local/lib/python3.10/site-packages/matplotlib/patches.py:339\u001b[0m, in \u001b[0;36mPatch.set_edgecolor\u001b[0;34m(self, color)\u001b[0m\n\u001b[1;32m    331\u001b[0m \u001b[39m\"\"\"\u001b[39;00m\n\u001b[1;32m    332\u001b[0m \u001b[39mSet the patch edge color.\u001b[39;00m\n\u001b[1;32m    333\u001b[0m \n\u001b[0;32m   (...)\u001b[0m\n\u001b[1;32m    336\u001b[0m \u001b[39mcolor : color or None\u001b[39;00m\n\u001b[1;32m    337\u001b[0m \u001b[39m\"\"\"\u001b[39;00m\n\u001b[1;32m    338\u001b[0m \u001b[39mself\u001b[39m\u001b[39m.\u001b[39m_original_edgecolor \u001b[39m=\u001b[39m color\n\u001b[0;32m--> 339\u001b[0m \u001b[39mself\u001b[39;49m\u001b[39m.\u001b[39;49m_set_edgecolor(color)\n",
      "File \u001b[0;32m/usr/local/lib/python3.10/site-packages/matplotlib/patches.py:325\u001b[0m, in \u001b[0;36mPatch._set_edgecolor\u001b[0;34m(self, color)\u001b[0m\n\u001b[1;32m    322\u001b[0m         color \u001b[39m=\u001b[39m \u001b[39m'\u001b[39m\u001b[39mnone\u001b[39m\u001b[39m'\u001b[39m\n\u001b[1;32m    323\u001b[0m         set_hatch_color \u001b[39m=\u001b[39m \u001b[39mFalse\u001b[39;00m\n\u001b[0;32m--> 325\u001b[0m \u001b[39mself\u001b[39m\u001b[39m.\u001b[39m_edgecolor \u001b[39m=\u001b[39m colors\u001b[39m.\u001b[39;49mto_rgba(color, \u001b[39mself\u001b[39;49m\u001b[39m.\u001b[39;49m_alpha)\n\u001b[1;32m    326\u001b[0m \u001b[39mif\u001b[39;00m set_hatch_color:\n\u001b[1;32m    327\u001b[0m     \u001b[39mself\u001b[39m\u001b[39m.\u001b[39m_hatch_color \u001b[39m=\u001b[39m \u001b[39mself\u001b[39m\u001b[39m.\u001b[39m_edgecolor\n",
      "File \u001b[0;32m/usr/local/lib/python3.10/site-packages/matplotlib/colors.py:265\u001b[0m, in \u001b[0;36mto_rgba\u001b[0;34m(c, alpha)\u001b[0m\n\u001b[1;32m    259\u001b[0m     \u001b[39m# The following shape test is needed to correctly handle comparisons with\u001b[39;00m\n\u001b[1;32m    260\u001b[0m     \u001b[39m# 'none', which results in a shape (0, 4) array and thus cannot be tested\u001b[39;00m\n\u001b[1;32m    261\u001b[0m     \u001b[39m# via value comparison.\u001b[39;00m\n\u001b[1;32m    262\u001b[0m     \u001b[39mreturn\u001b[39;00m c1\u001b[39m.\u001b[39mshape \u001b[39m==\u001b[39m c2\u001b[39m.\u001b[39mshape \u001b[39mand\u001b[39;00m (c1 \u001b[39m==\u001b[39m c2)\u001b[39m.\u001b[39mall()\n\u001b[0;32m--> 265\u001b[0m \u001b[39mdef\u001b[39;00m \u001b[39mto_rgba\u001b[39m(c, alpha\u001b[39m=\u001b[39m\u001b[39mNone\u001b[39;00m):\n\u001b[1;32m    266\u001b[0m     \u001b[39m\"\"\"\u001b[39;00m\n\u001b[1;32m    267\u001b[0m \u001b[39m    Convert *c* to an RGBA color.\u001b[39;00m\n\u001b[1;32m    268\u001b[0m \n\u001b[0;32m   (...)\u001b[0m\n\u001b[1;32m    287\u001b[0m \u001b[39m        alpha) can assume values between 0 and 1.\u001b[39;00m\n\u001b[1;32m    288\u001b[0m \u001b[39m    \"\"\"\u001b[39;00m\n\u001b[1;32m    289\u001b[0m     \u001b[39m# Special-case nth color syntax because it should not be cached.\u001b[39;00m\n",
      "\u001b[0;31mKeyboardInterrupt\u001b[0m: "
     ]
    }
   ],
   "source": [
    "import SensorOptimizers.BayesianOptimization as bo\n",
    "import numpy as np\n",
    "import pickle\n",
    "\n",
    "acquisition_function = 'ei'\n",
    "acq_optimizer_type = 'auto'\n",
    "ROS = True\n",
    "epsilon = 0.5\n",
    "error = 0.0\n",
    "multi_objective = False\n",
    "LSsensorsNum = 11\n",
    "ISsensorsNum = 3\n",
    "initial_state = 'random'\n",
    "\n",
    "sensor_types = {\n",
    "    'model_motion_sensor': True,\n",
    "    'model_beacon_sensor': False,\n",
    "    'model_pressure_sensor': True,\n",
    "    'model_accelerometer': False,\n",
    "    'model_electricity_sensor': True\n",
    "}\n",
    "\n",
    "\n",
    "# testbed = 'Testbed2/'\n",
    "# maxSensorNum = int(np.min([(8 / epsilon) * (8 / epsilon), LSsensorsNum]))\n",
    "\n",
    "testbed = 'Testbed1/'\n",
    "maxSensorNum = int(np.min([(5.3 / epsilon) * (8 / epsilon), LSsensorsNum]))\n",
    "\n",
    "print('----- Running BO with: \\n \\t - epsilon: ', epsilon, \n",
    "      '\\n \\t - LS sensors #:', LSsensorsNum, \n",
    "      '\\n \\t - IS sensors #:', ISsensorsNum, \n",
    "      ' \\n \\t - initial state: ', initial_state)\n",
    "\n",
    "for i in range(2, 3):\n",
    "    BO = bo.BayesianOptimization(testbed = testbed,\n",
    "                                 iteration = 1000, \n",
    "                                 epsilon = epsilon, \n",
    "                                 error = error,\n",
    "                                 ROS = True, \n",
    "                                 LSmaxSensorNum = maxSensorNum,\n",
    "                                 ISmaxSensorNum = ISsensorsNum, \n",
    "                                 initial_state = initial_state,\n",
    "                                 input_sensor_types = sensor_types,\n",
    "                                 acquisition_function = acquisition_function,\n",
    "                                 acq_optimizer_type = acq_optimizer_type)\n",
    "\n",
    "    history = BO.run()\n",
    "\n",
    "    with open('Results_BO/history(LS' + str(LSsensorsNum) +  'IS' + str(ISsensorsNum) + ')_' + str(i), 'wb') as handle:\n",
    "        pickle.dump(history, handle, protocol=pickle.HIGHEST_PROTOCOL)\n",
    "            \n",
    "    print(history)"
   ]
  },
  {
   "cell_type": "code",
   "execution_count": null,
   "metadata": {},
   "outputs": [],
   "source": []
  }
 ],
 "metadata": {
  "kernelspec": {
   "display_name": "Python 3.10.7 64-bit",
   "language": "python",
   "name": "python3"
  },
  "language_info": {
   "codemirror_mode": {
    "name": "ipython",
    "version": 3
   },
   "file_extension": ".py",
   "mimetype": "text/x-python",
   "name": "python",
   "nbconvert_exporter": "python",
   "pygments_lexer": "ipython3",
   "version": "3.10.7"
  },
  "vscode": {
   "interpreter": {
    "hash": "aee8b7b246df8f9039afb4144a1f6fd8d2ca17a180786b69acc140d282b71a49"
   }
  }
 },
 "nbformat": 4,
 "nbformat_minor": 4
}
