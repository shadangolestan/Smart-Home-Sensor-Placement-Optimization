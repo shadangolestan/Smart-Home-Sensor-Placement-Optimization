{
 "cells": [
  {
   "cell_type": "code",
   "execution_count": 1,
   "metadata": {
    "colab": {
     "base_uri": "https://localhost:8080/"
    },
    "executionInfo": {
     "elapsed": 3987,
     "status": "ok",
     "timestamp": 1635613843328,
     "user": {
      "displayName": "Shadan Golestan-Irani",
      "photoUrl": "https://lh3.googleusercontent.com/a-/AOh14GjzIpBx-tX-xncT2d8sC4323jdDLC4K-HcuzJgpIA=s64",
      "userId": "05022969837639573312"
     },
     "user_tz": 360
    },
    "id": "PPw6X0y6ck1o",
    "outputId": "68d3fcf2-baa9-406a-84a6-b8ba40d6a159"
   },
   "outputs": [
    {
     "name": "stdout",
     "output_type": "stream",
     "text": [
      "Requirement already satisfied: openbox in /usr/local/lib/python3.9/site-packages (0.7.14)\n",
      "Requirement already satisfied: platypus-opt==1.0.4 in /usr/local/lib/python3.9/site-packages (from openbox) (1.0.4)\n",
      "Requirement already satisfied: pyyaml in /usr/local/lib/python3.9/site-packages (from openbox) (6.0)\n",
      "Requirement already satisfied: psutil in /usr/local/lib/python3.9/site-packages (from openbox) (5.8.0)\n",
      "Requirement already satisfied: emcee in /usr/local/lib/python3.9/site-packages (from openbox) (3.1.1)\n",
      "Requirement already satisfied: requests in /usr/local/lib/python3.9/site-packages (from openbox) (2.26.0)\n",
      "Requirement already satisfied: scipy>=0.18.1 in /usr/local/lib/python3.9/site-packages (from openbox) (1.5.4)\n",
      "Requirement already satisfied: tqdm in /usr/local/lib/python3.9/site-packages (from openbox) (4.62.3)\n",
      "Requirement already satisfied: ConfigSpace<0.5,>=0.4.12 in /usr/local/lib/python3.9/site-packages (from openbox) (0.4.20)\n",
      "Requirement already satisfied: pandas in /usr/local/lib/python3.9/site-packages (from openbox) (1.1.4)\n",
      "Requirement already satisfied: django>=2.2.17 in /usr/local/lib/python3.9/site-packages (from openbox) (3.2.8)\n",
      "Requirement already satisfied: numpy>=1.7.1 in /usr/local/lib/python3.9/site-packages (from openbox) (1.19.4)\n",
      "Requirement already satisfied: setuptools in /usr/local/lib/python3.9/site-packages (from openbox) (50.3.2)\n",
      "Requirement already satisfied: terminaltables in /usr/local/lib/python3.9/site-packages (from openbox) (3.1.0)\n",
      "Requirement already satisfied: scikit-optimize>=0.8 in /usr/local/lib/python3.9/site-packages (from openbox) (0.9.0)\n",
      "Requirement already satisfied: statsmodels in /usr/local/lib/python3.9/site-packages (from openbox) (0.13.0)\n",
      "Requirement already satisfied: scikit-learn>=0.21.3 in /usr/local/lib/python3.9/site-packages (from openbox) (0.23.2)\n",
      "Requirement already satisfied: matplotlib in /usr/local/lib/python3.9/site-packages (from openbox) (3.3.3)\n",
      "Requirement already satisfied: cython in /usr/local/lib/python3.9/site-packages (from openbox) (0.29.24)\n",
      "Requirement already satisfied: dill in /usr/local/lib/python3.9/site-packages (from openbox) (0.3.4)\n",
      "Requirement already satisfied: pyparsing in /usr/local/lib/python3.9/site-packages (from ConfigSpace<0.5,>=0.4.12->openbox) (2.4.7)\n",
      "Requirement already satisfied: numpy>=1.7.1 in /usr/local/lib/python3.9/site-packages (from openbox) (1.19.4)\n",
      "Requirement already satisfied: cython in /usr/local/lib/python3.9/site-packages (from openbox) (0.29.24)\n",
      "Requirement already satisfied: sqlparse>=0.2.2 in /usr/local/lib/python3.9/site-packages (from django>=2.2.17->openbox) (0.4.2)\n",
      "Requirement already satisfied: pytz in /usr/local/lib/python3.9/site-packages (from django>=2.2.17->openbox) (2020.4)\n",
      "Requirement already satisfied: asgiref<4,>=3.3.2 in /usr/local/lib/python3.9/site-packages (from django>=2.2.17->openbox) (3.4.1)\n",
      "Requirement already satisfied: numpy>=1.7.1 in /usr/local/lib/python3.9/site-packages (from openbox) (1.19.4)\n",
      "Requirement already satisfied: cycler>=0.10 in /usr/local/lib/python3.9/site-packages (from matplotlib->openbox) (0.10.0)\n",
      "Requirement already satisfied: kiwisolver>=1.0.1 in /usr/local/lib/python3.9/site-packages (from matplotlib->openbox) (1.3.1)\n",
      "Requirement already satisfied: numpy>=1.7.1 in /usr/local/lib/python3.9/site-packages (from openbox) (1.19.4)\n",
      "Requirement already satisfied: pillow>=6.2.0 in /usr/local/lib/python3.9/site-packages (from matplotlib->openbox) (8.0.1)\n",
      "Requirement already satisfied: python-dateutil>=2.1 in /usr/local/lib/python3.9/site-packages (from matplotlib->openbox) (2.8.1)\n",
      "Requirement already satisfied: pyparsing in /usr/local/lib/python3.9/site-packages (from ConfigSpace<0.5,>=0.4.12->openbox) (2.4.7)\n",
      "Requirement already satisfied: six in /usr/local/Cellar/protobuf/3.14.0/libexec/lib/python3.9/site-packages (from cycler>=0.10->matplotlib->openbox) (1.15.0)\n",
      "Requirement already satisfied: pytz in /usr/local/lib/python3.9/site-packages (from django>=2.2.17->openbox) (2020.4)\n",
      "Requirement already satisfied: numpy>=1.7.1 in /usr/local/lib/python3.9/site-packages (from openbox) (1.19.4)\n",
      "Requirement already satisfied: python-dateutil>=2.1 in /usr/local/lib/python3.9/site-packages (from matplotlib->openbox) (2.8.1)\n",
      "Requirement already satisfied: six in /usr/local/Cellar/protobuf/3.14.0/libexec/lib/python3.9/site-packages (from cycler>=0.10->matplotlib->openbox) (1.15.0)\n",
      "Requirement already satisfied: six in /usr/local/Cellar/protobuf/3.14.0/libexec/lib/python3.9/site-packages (from cycler>=0.10->matplotlib->openbox) (1.15.0)\n",
      "Requirement already satisfied: charset-normalizer~=2.0.0 in /usr/local/lib/python3.9/site-packages (from requests->openbox) (2.0.7)\n",
      "Requirement already satisfied: idna<4,>=2.5 in /usr/local/lib/python3.9/site-packages (from requests->openbox) (3.2)\n",
      "Requirement already satisfied: urllib3<1.27,>=1.21.1 in /usr/local/lib/python3.9/site-packages (from requests->openbox) (1.26.7)\n",
      "Requirement already satisfied: certifi>=2017.4.17 in /usr/local/lib/python3.9/site-packages (from requests->openbox) (2021.10.8)\n",
      "Requirement already satisfied: scipy>=0.18.1 in /usr/local/lib/python3.9/site-packages (from openbox) (1.5.4)\n",
      "Requirement already satisfied: threadpoolctl>=2.0.0 in /usr/local/lib/python3.9/site-packages (from scikit-learn>=0.21.3->openbox) (2.1.0)\n",
      "Requirement already satisfied: joblib>=0.11 in /usr/local/lib/python3.9/site-packages (from scikit-learn>=0.21.3->openbox) (0.17.0)\n",
      "Requirement already satisfied: numpy>=1.7.1 in /usr/local/lib/python3.9/site-packages (from openbox) (1.19.4)\n",
      "Requirement already satisfied: joblib>=0.11 in /usr/local/lib/python3.9/site-packages (from scikit-learn>=0.21.3->openbox) (0.17.0)\n",
      "Requirement already satisfied: scipy>=0.18.1 in /usr/local/lib/python3.9/site-packages (from openbox) (1.5.4)\n",
      "Requirement already satisfied: pyaml>=16.9 in /usr/local/lib/python3.9/site-packages (from scikit-optimize>=0.8->openbox) (21.10.1)\n",
      "Requirement already satisfied: numpy>=1.7.1 in /usr/local/lib/python3.9/site-packages (from openbox) (1.19.4)\n",
      "Requirement already satisfied: scikit-learn>=0.21.3 in /usr/local/lib/python3.9/site-packages (from openbox) (0.23.2)\n",
      "Requirement already satisfied: pyyaml in /usr/local/lib/python3.9/site-packages (from openbox) (6.0)\n",
      "Requirement already satisfied: numpy>=1.7.1 in /usr/local/lib/python3.9/site-packages (from openbox) (1.19.4)\n",
      "Requirement already satisfied: scipy>=0.18.1 in /usr/local/lib/python3.9/site-packages (from openbox) (1.5.4)\n",
      "Requirement already satisfied: numpy>=1.7.1 in /usr/local/lib/python3.9/site-packages (from openbox) (1.19.4)\n",
      "Requirement already satisfied: patsy>=0.5.2 in /usr/local/lib/python3.9/site-packages (from statsmodels->openbox) (0.5.2)\n",
      "Requirement already satisfied: pandas in /usr/local/lib/python3.9/site-packages (from openbox) (1.1.4)\n",
      "Requirement already satisfied: numpy>=1.7.1 in /usr/local/lib/python3.9/site-packages (from openbox) (1.19.4)\n",
      "Requirement already satisfied: six in /usr/local/Cellar/protobuf/3.14.0/libexec/lib/python3.9/site-packages (from cycler>=0.10->matplotlib->openbox) (1.15.0)\n"
     ]
    }
   ],
   "source": [
    "!pip3 install openbox"
   ]
  },
  {
   "cell_type": "code",
   "execution_count": 2,
   "metadata": {
    "executionInfo": {
     "elapsed": 655,
     "status": "ok",
     "timestamp": 1635613843970,
     "user": {
      "displayName": "Shadan Golestan-Irani",
      "photoUrl": "https://lh3.googleusercontent.com/a-/AOh14GjzIpBx-tX-xncT2d8sC4323jdDLC4K-HcuzJgpIA=s64",
      "userId": "05022969837639573312"
     },
     "user_tz": 360
    },
    "id": "VWSmt5dJxKDk"
   },
   "outputs": [],
   "source": [
    "class Data:\n",
    "    def __init__(self, sensorPositions, space, epsilon):\n",
    "        self.radius = 1\n",
    "        self.placeHolders = sensorPositions\n",
    "        self.epsilon = epsilon\n",
    "        self.space = space\n",
    "        # self.SensorPlaceHolderSetup()\n",
    "        \n",
    "    def frange(self, start, stop, step):\n",
    "        steps = []\n",
    "        while start <= stop:\n",
    "            steps.append(start)\n",
    "            start +=step\n",
    "            \n",
    "        return steps\n",
    "\n",
    "    # def SensorPlaceHolderSetup(self):\n",
    "    #     Xs = self.frange(0, self.space[0], self.epsilon)\n",
    "    #     Ys = self.frange(0, self.space[1], self.epsilon)\n",
    "            \n",
    "    #     for x in Xs:\n",
    "    #       for y in Ys:\n",
    "    #         self.placeHolders.append([x, y])\n",
    "\n",
    "    def GetSensorConfiguration(self):\n",
    "        from collections import Counter\n",
    "        sensorLocations, sensorTypes = self.GetSensorLocations()\n",
    "\n",
    "        summaryDict = Counter(sensorTypes)\n",
    "\n",
    "        # TODO: DIFFERENT SENSOR TYPE DEFINITIONS SHOULD BE ADDED HERE:\n",
    "        configurationSummary = []\n",
    "        for key in summaryDict:\n",
    "            if (key == 1):\n",
    "                configurationSummary.append(['motion sensors', summaryDict[key]])\n",
    "\n",
    "            elif (key == 2):\n",
    "                configurationSummary.append(['beacon sensors', summaryDict[key]])\n",
    "\n",
    "        configurationDetails = []\n",
    "        for index, loc in enumerate(sensorLocations):\n",
    "            if (sensorTypes[index] == 1):\n",
    "                configurationDetails.append(tuple([loc, 'kitchen', 'motion sensors']))\n",
    "\n",
    "            elif (sensorTypes[index] == 2):\n",
    "                configurationDetails.append(tuple([loc, 'kitchen', 'beacon sensors']))\n",
    "\n",
    "        return [[configurationSummary, [tuple(configurationDetails)]], self.radius]\n",
    "\n",
    "\n",
    "    def GetSensorLocations(self):\n",
    "        sensorLocations = []\n",
    "        sensorTypes = []\n",
    "        for index, sensorIndicator in enumerate(self.placeHolders):\n",
    "            sensorLocations.append(self.placeHolders[index])\n",
    "\n",
    "            # TODO: DIFFERENT SENSOR TYPE DEFINITIONS SHOULD BE ADDED HERE:\n",
    "            sensorTypes.append(1)\n",
    "\n",
    "\n",
    "        return sensorLocations, sensorTypes\n",
    "\n",
    "\n",
    "class BOVariables:\n",
    "    def __init__(self, Data_path, epsilon, initSensorNum, maxSensorNum, radius, sampleSize):\n",
    "        self.epsilon = epsilon\n",
    "        self.Data_path = Data_path\n",
    "        self.initSensorNum = initSensorNum\n",
    "        self.maxSensorNum = maxSensorNum\n",
    "        self.radius = radius\n",
    "        self.sensor_distribution, self.types, self.space, self.rooms, self.agentTraces = self.ModelsInitializations()\n",
    "\n",
    "    def ModelsInitializations(self):\n",
    "        #----- Space and agent models -----: \n",
    "        simworldname = self.Data_path + '/Configuration Files/simulationWorld2.xml'\n",
    "        agentTraces = []\n",
    "        directory = os.fsencode(self.Data_path + 'Agent Trace Files/')\n",
    "            \n",
    "        for file in os.listdir(directory):\n",
    "            filename = os.fsdecode(file)\n",
    "            if filename.endswith(\".csv\"): \n",
    "                agentTraces.append(self.Data_path + 'Agent Trace Files/' + filename)\n",
    "\n",
    "        # Parsing the space model: \n",
    "        space, rooms = pf.ParseWorld(simworldname)\n",
    "\n",
    "        xs = []\n",
    "        for i in space:\n",
    "          for j in i:\n",
    "            xs.append(j)\n",
    "        A = list(set(xs))\n",
    "        A.sort()\n",
    "        space = [A[-1], A[-2]]\n",
    "\n",
    "        # User parameters \n",
    "        types, sensor_distribution = pf.GetUsersParameters()\n",
    "\n",
    "        roomsList = []\n",
    "        for room in sensor_distribution:\n",
    "            roomsList.append(room)\n",
    "              \n",
    "        return sensor_distribution, types, space, rooms, agentTraces\n",
    "\n",
    "\n",
    "def frange(start, stop, step):\n",
    "    steps = []\n",
    "    while start <= stop:\n",
    "        steps.append(start)\n",
    "        start +=step\n",
    "        \n",
    "    return steps\n",
    "\n",
    "def MakeSensorCombinations(start, end, epsilon, sensorType, room):\n",
    "    a1, b1 = makeBoundaries(epsilon, start[0], end[0])\n",
    "    a2, b2 = makeBoundaries(epsilon, start[1], end[1])    \n",
    "    Xs = frange(a1, b1, epsilon)\n",
    "    Ys = frange(a2, b2, epsilon)\n",
    "    \n",
    "    points = list(itertools.product(list(itertools.product(Xs, Ys)), [room], [sensorType[0]])) \n",
    "    C = itertools.combinations(points, distribution[room][types.index(sensorType)])\n",
    "\n",
    "    return C\n",
    "\n",
    "def PreProcessor(df):\n",
    "    # df['motion sensors'] = df['motion sensors'].apply(ast.literal_eval)\n",
    "    df['motion sensors'] = df['motion sensors'].apply(lambda s: list(map(int, s)))\n",
    "    # df['beacon sensors'] = df['beacon sensors'].apply(ast.literal_eval)\n",
    "    try:\n",
    "      df['beacon sensors'] = df['beacon sensors'].apply(lambda s: list(map(int, s)))\n",
    "    except:\n",
    "      pass\n",
    "\n",
    "    sensors = set([])\n",
    "\n",
    "    previous_M = None\n",
    "    previous_B = None\n",
    "    output_file = []\n",
    "\n",
    "    for index, row in df.iterrows():\n",
    "      T = row['time']\n",
    "      M = row['motion sensors']\n",
    "      try:\n",
    "        B = row['beacon sensors']\n",
    "      except:\n",
    "        pass\n",
    "\n",
    "      Activity = row['activity']\n",
    "      Activity = Activity.replace(' ', '_')\n",
    "      MotionSensor_Names = []\n",
    "      sensorNames = []\n",
    "      MotionSensor_Message = []\n",
    "      BeaconSensor_Names = []\n",
    "      BeaconSensor_Message = []\n",
    "      \n",
    "\n",
    "      # time = convertTime(T)\n",
    "      time = \"2020-06-16 \" + T + \".00\"\n",
    "\n",
    "      # Motion Sensor\n",
    "      for i in range(len(M)):\n",
    "        sensorNames.append(Name(i, 'M'))\n",
    "        if M[i] == 1:\n",
    "          if (previous_M != None):\n",
    "            if (previous_M[i] == 0):\n",
    "              MotionSensor_Names.append(Name(i,'M'))\n",
    "              MotionSensor_Message.append('ON')\n",
    "\n",
    "          else:\n",
    "            MotionSensor_Names.append(Name(i,'M'))\n",
    "            MotionSensor_Message.append('ON')\n",
    "\n",
    "        if previous_M != None:\n",
    "          if M[i] == 0 and previous_M[i] == 1:\n",
    "            MotionSensor_Names.append(Name(i,'M'))\n",
    "            MotionSensor_Message.append('OFF')\n",
    "\n",
    "      previous_M = M\n",
    "      # Beacon Sensor\n",
    "\n",
    "      try:\n",
    "        for i in range(len(B)):\n",
    "          sensorNames.append(Name(i, 'B'))\n",
    "          if B[i] == 1:\n",
    "            BeaconSensor_Names.append(Name(i,'B'))\n",
    "            BeaconSensor_Message.append('ON')\n",
    "          if previous_B != None:\n",
    "            if B[i] == 0 and previous_B[i] == 1: \n",
    "              BeaconSensor_Names.append(Name(i,'B'))\n",
    "              BeaconSensor_Message.append('OFF')\n",
    "        previous_B = B\n",
    "\n",
    "      except:\n",
    "        pass\n",
    "\n",
    "      for m in range(len(MotionSensor_Names)):\n",
    "        output_file.append(time +' '+ MotionSensor_Names[m] + ' ' + MotionSensor_Names[m] + ' ' + MotionSensor_Message[m] + ' ' + Activity)\n",
    "        \n",
    "      for s in sensorNames:\n",
    "          sensors.add(s)\n",
    "\n",
    "    return output_file, list(sensors)\n",
    "\n",
    "#returns the name of the sensor\n",
    "def Name(number, typeSensor):\n",
    "    if number < 10:\n",
    "      return typeSensor + str(0) + str(number)\n",
    "    else:\n",
    "      return typeSensor + str(number)\n",
    "\n",
    "#converts epoch time to human readable\n",
    "def convertTime(posix_timestamp):\n",
    "    tz = pytz.timezone('MST')\n",
    "    dt = datetime.fromtimestamp(posix_timestamp, tz)\n",
    "    time = dt.strftime('%Y-%m-%d %H:%M:%S.%f')[:-3]\n",
    "    return time\n",
    "\n",
    "def MakeDataBoundaries(height = 10.5, width = 6.6, MaxSensors = 15):\n",
    "    from collections import defaultdict, OrderedDict\n",
    "\n",
    "    d = dict()\n",
    "\n",
    "    for idx in range(MaxSensors):\n",
    "            d['x' + str(idx)] = (0.5, width - 0.5)\n",
    "            d['y' + str(idx)] = (0.5, height - 0.5)\n",
    "\n",
    "    return d\n",
    "\n",
    "def black_box_function(sample, simulateMotionSensors = True, simulateEstimotes = False, Plotting = False):       \n",
    "    files = []\n",
    "\n",
    "    if (runningOnGoogleColab == True):\n",
    "        sys.path.append('gdrive/My Drive/PhD/Thesis/Ideas/Codes/Sensor Simulator/')\n",
    "        Data_path = 'gdrive/My Drive/PhD/Thesis/Ideas/Codes/Sensor Simulator/'\n",
    "        \n",
    "    else:\n",
    "        sys.path.append('../../Codes/Sensor Simulator/')\n",
    "        Data_path = '../../Codes/Sensor Simulator/'\n",
    "\n",
    "    all_sensors = set([])\n",
    "\n",
    "    for agentTrace in BOV.agentTraces:\n",
    "        df_ = sim_sis.RunSimulator(BOV.space, BOV.rooms, agentTrace, sample.GetSensorConfiguration(), simulateMotionSensors, simulateEstimotes, Plotting, BOV.Data_path)\n",
    "        dataFile, sensors = PreProcessor(df_)\n",
    "        all_sensors.update(sensors)\n",
    "        files.append(dataFile)\n",
    "        \n",
    "    \n",
    "    if (runningOnGoogleColab == True):\n",
    "        sys.path.append('gdrive/My Drive/PhD/Thesis/Ideas/Codes/CASAS/AL-Smarthome')\n",
    "\n",
    "    else:\n",
    "        sys.path.append('../../Codes/CASAS/AL-Smarthome')\n",
    "\n",
    "    import al\n",
    "    import imp\n",
    "    imp.reload(al)\n",
    "    all_sensors = list(all_sensors)\n",
    "\n",
    "    accuracy = (al.leave_one_out(files, all_sensors)[0]) * 100\n",
    "\n",
    "    if accuracy < 0:\n",
    "        accuracy = 0\n",
    "\n",
    "    return 100 - accuracy\n",
    "\n",
    "def function_to_be_optimized(config):\n",
    "    sensorPositions = []\n",
    "    sensor_xy = []\n",
    "    for i in range(1, 16):\n",
    "      # print(config['x' + str(i)])\n",
    "      # print(config['y' + str(i)])\n",
    "      \n",
    "      sensor_xy.append(config['x' + str(i)])\n",
    "      sensor_xy.append(config['y' + str(i)])\n",
    "      sensorPositions.append(sensor_xy)\n",
    "      sensor_xy = []\n",
    "\n",
    "    data = Data(sensorPositions, BOV.space, CONSTANTS['epsilon'])\n",
    "    return black_box_function(data)"
   ]
  },
  {
   "cell_type": "code",
   "execution_count": 3,
   "metadata": {
    "colab": {
     "base_uri": "https://localhost:8080/"
    },
    "id": "UZjfE2cPwhkE",
    "outputId": "024bf443-0d70-4052-a7f3-e43c1fbdabf9"
   },
   "outputs": [
    {
     "name": "stderr",
     "output_type": "stream",
     "text": [
      "/usr/local/lib/python3.9/site-packages/sklearn/utils/deprecation.py:143: FutureWarning: The sklearn.ensemble.base module is  deprecated in version 0.22 and will be removed in version 0.24. The corresponding classes / functions should instead be imported from sklearn.ensemble. Anything that cannot be imported from sklearn.ensemble is now part of the private API.\n",
      "  warnings.warn(message, FutureWarning)\n"
     ]
    },
    {
     "name": "stdout",
     "output_type": "stream",
     "text": [
      "[Build Surrogate] Use probabilistic random forest based on scikit-learn. For better performance, please install pyrfr: https://open-box.readthedocs.io/en/latest/installation/install_pyrfr.html\n"
     ]
    },
    {
     "name": "stderr",
     "output_type": "stream",
     "text": [
      "\r",
      "  0%|          | 0/1000 [00:00<?, ?it/s]"
     ]
    },
    {
     "name": "stdout",
     "output_type": "stream",
     "text": [
      "[INFO] [2021-10-31 14:24:06,699] [OpenBox-Shadan] Iteration 1, objective value: [100.0].\n"
     ]
    },
    {
     "name": "stderr",
     "output_type": "stream",
     "text": [
      "\r",
      "  0%|          | 1/1000 [00:20<5:40:10, 20.43s/it]"
     ]
    },
    {
     "name": "stdout",
     "output_type": "stream",
     "text": [
      "[INFO] [2021-10-31 14:24:44,061] [OpenBox-Shadan] Iteration 2, objective value: [45.76076245876142].\n"
     ]
    },
    {
     "name": "stderr",
     "output_type": "stream",
     "text": [
      "\r",
      "  0%|          | 2/1000 [00:57<8:25:29, 30.39s/it]"
     ]
    },
    {
     "name": "stdout",
     "output_type": "stream",
     "text": [
      "[INFO] [2021-10-31 14:25:18,862] [OpenBox-Shadan] Iteration 3, objective value: [52.530233979112865].\n"
     ]
    },
    {
     "name": "stderr",
     "output_type": "stream",
     "text": [
      "\r",
      "  0%|          | 3/1000 [01:32<8:58:26, 32.40s/it]"
     ]
    },
    {
     "name": "stdout",
     "output_type": "stream",
     "text": [
      "[INFO] [2021-10-31 14:25:52,563] [OpenBox-Shadan] Iteration 4, objective value: [38.887735470869224].\n"
     ]
    },
    {
     "name": "stderr",
     "output_type": "stream",
     "text": [
      "\r",
      "  0%|          | 4/1000 [02:06<9:06:24, 32.92s/it]"
     ]
    },
    {
     "name": "stdout",
     "output_type": "stream",
     "text": [
      "[INFO] [2021-10-31 14:26:27,362] [OpenBox-Shadan] Iteration 5, objective value: [52.15978065735967].\n"
     ]
    },
    {
     "name": "stderr",
     "output_type": "stream",
     "text": [
      "\r",
      "  0%|          | 5/1000 [02:41<9:17:07, 33.60s/it]"
     ]
    },
    {
     "name": "stdout",
     "output_type": "stream",
     "text": [
      "[INFO] [2021-10-31 14:27:00,247] [OpenBox-Shadan] Iteration 6, objective value: [53.169338787306295].\n"
     ]
    },
    {
     "name": "stderr",
     "output_type": "stream",
     "text": [
      "\r",
      "  1%|          | 6/1000 [03:13<9:12:33, 33.35s/it]"
     ]
    },
    {
     "name": "stdout",
     "output_type": "stream",
     "text": [
      "[INFO] [2021-10-31 14:27:33,551] [OpenBox-Shadan] Iteration 7, objective value: [57.57663092195978].\n"
     ]
    },
    {
     "name": "stderr",
     "output_type": "stream",
     "text": [
      "\r",
      "  1%|          | 7/1000 [03:47<9:11:44, 33.34s/it]"
     ]
    },
    {
     "name": "stdout",
     "output_type": "stream",
     "text": [
      "[INFO] [2021-10-31 14:28:05,831] [OpenBox-Shadan] Iteration 8, objective value: [52.03647936271632].\n"
     ]
    },
    {
     "name": "stderr",
     "output_type": "stream",
     "text": [
      "\r",
      "  1%|          | 8/1000 [04:19<9:05:36, 33.00s/it]"
     ]
    },
    {
     "name": "stdout",
     "output_type": "stream",
     "text": [
      "[INFO] [2021-10-31 14:28:40,863] [OpenBox-Shadan] Iteration 9, objective value: [47.647844708155674].\n"
     ]
    },
    {
     "name": "stderr",
     "output_type": "stream",
     "text": [
      "\r",
      "  1%|          | 9/1000 [04:54<9:15:33, 33.64s/it]"
     ]
    },
    {
     "name": "stdout",
     "output_type": "stream",
     "text": [
      "[INFO] [2021-10-31 14:29:05,977] [OpenBox-Shadan] Iteration 10, objective value: [57.06893981240969].\n"
     ]
    },
    {
     "name": "stderr",
     "output_type": "stream",
     "text": [
      "\r",
      "  1%|          | 10/1000 [05:19<8:31:34, 31.00s/it]"
     ]
    },
    {
     "name": "stdout",
     "output_type": "stream",
     "text": [
      "[INFO] [2021-10-31 14:29:37,454] [OpenBox-Shadan] Iteration 11, objective value: [51.41389415417962].\n"
     ]
    },
    {
     "name": "stderr",
     "output_type": "stream",
     "text": [
      "\r",
      "  1%|          | 11/1000 [05:51<8:33:26, 31.15s/it]"
     ]
    },
    {
     "name": "stdout",
     "output_type": "stream",
     "text": [
      "[INFO] [2021-10-31 14:30:14,125] [OpenBox-Shadan] Iteration 12, objective value: [53.79768209052499].\n"
     ]
    },
    {
     "name": "stderr",
     "output_type": "stream",
     "text": [
      "\r",
      "  1%|          | 12/1000 [06:27<9:00:35, 32.83s/it]"
     ]
    },
    {
     "name": "stdout",
     "output_type": "stream",
     "text": [
      "[INFO] [2021-10-31 14:30:46,146] [OpenBox-Shadan] Iteration 13, objective value: [52.60183756406111].\n"
     ]
    },
    {
     "name": "stderr",
     "output_type": "stream",
     "text": [
      "\r",
      "  1%|▏         | 13/1000 [06:59<8:56:00, 32.58s/it]"
     ]
    },
    {
     "name": "stdout",
     "output_type": "stream",
     "text": [
      "[INFO] [2021-10-31 14:31:27,792] [OpenBox-Shadan] Iteration 14, objective value: [46.02936988470503].\n"
     ]
    },
    {
     "name": "stderr",
     "output_type": "stream",
     "text": [
      "\r",
      "  1%|▏         | 14/1000 [07:41<9:40:26, 35.32s/it]"
     ]
    },
    {
     "name": "stdout",
     "output_type": "stream",
     "text": [
      "[INFO] [2021-10-31 14:32:05,350] [OpenBox-Shadan] Iteration 15, objective value: [54.74619653314776].\n"
     ]
    },
    {
     "name": "stderr",
     "output_type": "stream",
     "text": [
      "\r",
      "  2%|▏         | 15/1000 [08:19<9:50:55, 36.00s/it]"
     ]
    },
    {
     "name": "stdout",
     "output_type": "stream",
     "text": [
      "[INFO] [2021-10-31 14:32:47,877] [OpenBox-Shadan] Iteration 16, objective value: [46.15917594896995].\n"
     ]
    },
    {
     "name": "stderr",
     "output_type": "stream",
     "text": [
      "\r",
      "  2%|▏         | 16/1000 [09:01<10:22:34, 37.96s/it]"
     ]
    },
    {
     "name": "stdout",
     "output_type": "stream",
     "text": [
      "[INFO] [2021-10-31 14:33:26,634] [OpenBox-Shadan] Iteration 17, objective value: [49.70786907711775].\n"
     ]
    },
    {
     "name": "stderr",
     "output_type": "stream",
     "text": [
      "\r",
      "  2%|▏         | 17/1000 [09:40<10:25:51, 38.20s/it]"
     ]
    },
    {
     "name": "stdout",
     "output_type": "stream",
     "text": [
      "[INFO] [2021-10-31 14:33:59,445] [OpenBox-Shadan] Iteration 18, objective value: [51.28477848438342].\n"
     ]
    },
    {
     "name": "stderr",
     "output_type": "stream",
     "text": [
      "\r",
      "  2%|▏         | 18/1000 [10:13<9:58:42, 36.58s/it] "
     ]
    },
    {
     "name": "stdout",
     "output_type": "stream",
     "text": [
      "[INFO] [2021-10-31 14:34:37,030] [OpenBox-Shadan] Iteration 19, objective value: [47.8522990666268].\n"
     ]
    },
    {
     "name": "stderr",
     "output_type": "stream",
     "text": [
      "\r",
      "  2%|▏         | 19/1000 [10:50<10:03:01, 36.88s/it]"
     ]
    },
    {
     "name": "stdout",
     "output_type": "stream",
     "text": [
      "[INFO] [2021-10-31 14:35:17,705] [OpenBox-Shadan] Iteration 20, objective value: [45.08181609550568].\n"
     ]
    },
    {
     "name": "stderr",
     "output_type": "stream",
     "text": [
      "\r",
      "  2%|▏         | 20/1000 [11:31<10:21:00, 38.02s/it]"
     ]
    },
    {
     "name": "stdout",
     "output_type": "stream",
     "text": [
      "[INFO] [2021-10-31 14:35:56,799] [OpenBox-Shadan] Iteration 21, objective value: [50.37773845116173].\n"
     ]
    },
    {
     "name": "stderr",
     "output_type": "stream",
     "text": [
      "\r",
      "  2%|▏         | 21/1000 [12:10<10:25:38, 38.34s/it]"
     ]
    },
    {
     "name": "stdout",
     "output_type": "stream",
     "text": [
      "[INFO] [2021-10-31 14:36:40,007] [OpenBox-Shadan] Iteration 22, objective value: [58.977766170385635].\n"
     ]
    },
    {
     "name": "stderr",
     "output_type": "stream",
     "text": [
      "\r",
      "  2%|▏         | 22/1000 [12:53<10:48:47, 39.80s/it]"
     ]
    },
    {
     "name": "stdout",
     "output_type": "stream",
     "text": [
      "[INFO] [2021-10-31 14:37:15,470] [OpenBox-Shadan] Iteration 23, objective value: [49.97094661987037].\n"
     ]
    },
    {
     "name": "stderr",
     "output_type": "stream",
     "text": [
      "\r",
      "  2%|▏         | 23/1000 [13:29<10:26:55, 38.50s/it]"
     ]
    },
    {
     "name": "stdout",
     "output_type": "stream",
     "text": [
      "[INFO] [2021-10-31 14:37:45,780] [OpenBox-Shadan] Iteration 24, objective value: [60.561010964600726].\n"
     ]
    },
    {
     "name": "stderr",
     "output_type": "stream",
     "text": [
      "\r",
      "  2%|▏         | 24/1000 [13:59<9:46:18, 36.04s/it] "
     ]
    },
    {
     "name": "stdout",
     "output_type": "stream",
     "text": [
      "[INFO] [2021-10-31 14:38:26,653] [OpenBox-Shadan] Iteration 25, objective value: [54.83316339374619].\n"
     ]
    },
    {
     "name": "stderr",
     "output_type": "stream",
     "text": [
      "\r",
      "  2%|▎         | 25/1000 [14:40<10:09:14, 37.49s/it]"
     ]
    },
    {
     "name": "stdout",
     "output_type": "stream",
     "text": [
      "[INFO] [2021-10-31 14:39:06,921] [OpenBox-Shadan] Iteration 26, objective value: [44.453748142357405].\n"
     ]
    },
    {
     "name": "stderr",
     "output_type": "stream",
     "text": [
      "\r",
      "  3%|▎         | 26/1000 [15:20<10:22:08, 38.33s/it]"
     ]
    },
    {
     "name": "stdout",
     "output_type": "stream",
     "text": [
      "[INFO] [2021-10-31 14:39:48,249] [OpenBox-Shadan] Iteration 27, objective value: [52.132074075236645].\n"
     ]
    },
    {
     "name": "stderr",
     "output_type": "stream",
     "text": [
      "\r",
      "  3%|▎         | 27/1000 [16:01<10:36:07, 39.23s/it]"
     ]
    },
    {
     "name": "stdout",
     "output_type": "stream",
     "text": [
      "[INFO] [2021-10-31 14:40:29,939] [OpenBox-Shadan] Iteration 28, objective value: [57.04114564517065].\n"
     ]
    },
    {
     "name": "stderr",
     "output_type": "stream",
     "text": [
      "\r",
      "  3%|▎         | 28/1000 [16:43<10:47:26, 39.97s/it]"
     ]
    },
    {
     "name": "stdout",
     "output_type": "stream",
     "text": [
      "[INFO] [2021-10-31 14:41:05,172] [OpenBox-Shadan] Iteration 29, objective value: [48.57991078150094].\n"
     ]
    },
    {
     "name": "stderr",
     "output_type": "stream",
     "text": [
      "\r",
      "  3%|▎         | 29/1000 [17:18<10:23:47, 38.55s/it]"
     ]
    },
    {
     "name": "stdout",
     "output_type": "stream",
     "text": [
      "[INFO] [2021-10-31 14:41:51,721] [OpenBox-Shadan] Iteration 30, objective value: [50.04382675222797].\n"
     ]
    },
    {
     "name": "stderr",
     "output_type": "stream",
     "text": [
      "\r",
      "  3%|▎         | 30/1000 [18:05<11:01:58, 40.95s/it]"
     ]
    },
    {
     "name": "stdout",
     "output_type": "stream",
     "text": [
      "[INFO] [2021-10-31 14:42:26,977] [OpenBox-Shadan] Iteration 31, objective value: [52.81432111137551].\n"
     ]
    },
    {
     "name": "stderr",
     "output_type": "stream",
     "text": [
      "\r",
      "  3%|▎         | 31/1000 [18:40<10:33:42, 39.24s/it]"
     ]
    },
    {
     "name": "stdout",
     "output_type": "stream",
     "text": [
      "[INFO] [2021-10-31 14:43:00,861] [OpenBox-Shadan] Iteration 32, objective value: [52.41088141277515].\n"
     ]
    },
    {
     "name": "stderr",
     "output_type": "stream",
     "text": [
      "\r",
      "  3%|▎         | 32/1000 [19:14<10:07:08, 37.63s/it]"
     ]
    },
    {
     "name": "stdout",
     "output_type": "stream",
     "text": [
      "[INFO] [2021-10-31 14:43:38,252] [OpenBox-Shadan] Iteration 33, objective value: [52.8380165187631].\n"
     ]
    },
    {
     "name": "stderr",
     "output_type": "stream",
     "text": [
      "\r",
      "  3%|▎         | 33/1000 [19:51<10:05:20, 37.56s/it]"
     ]
    },
    {
     "name": "stdout",
     "output_type": "stream",
     "text": [
      "[INFO] [2021-10-31 14:44:14,821] [OpenBox-Shadan] Iteration 34, objective value: [40.56098277124056].\n"
     ]
    },
    {
     "name": "stderr",
     "output_type": "stream",
     "text": [
      "\r",
      "  3%|▎         | 34/1000 [20:28<9:59:56, 37.26s/it] "
     ]
    },
    {
     "name": "stdout",
     "output_type": "stream",
     "text": [
      "[INFO] [2021-10-31 14:45:01,892] [OpenBox-Shadan] Iteration 35, objective value: [48.78229323907718].\n"
     ]
    },
    {
     "name": "stderr",
     "output_type": "stream",
     "text": [
      "\r",
      "  4%|▎         | 35/1000 [21:15<10:46:38, 40.21s/it]"
     ]
    },
    {
     "name": "stdout",
     "output_type": "stream",
     "text": [
      "[INFO] [2021-10-31 14:45:43,217] [OpenBox-Shadan] Iteration 36, objective value: [58.02735922775899].\n"
     ]
    },
    {
     "name": "stderr",
     "output_type": "stream",
     "text": [
      "\r",
      "  4%|▎         | 36/1000 [21:56<10:51:21, 40.54s/it]"
     ]
    },
    {
     "name": "stdout",
     "output_type": "stream",
     "text": [
      "[INFO] [2021-10-31 14:46:19,561] [OpenBox-Shadan] Iteration 37, objective value: [52.62113753541726].\n"
     ]
    },
    {
     "name": "stderr",
     "output_type": "stream",
     "text": [
      "\r",
      "  4%|▎         | 37/1000 [22:33<10:30:28, 39.28s/it]"
     ]
    },
    {
     "name": "stdout",
     "output_type": "stream",
     "text": [
      "[INFO] [2021-10-31 14:46:56,587] [OpenBox-Shadan] Iteration 38, objective value: [45.28258428989174].\n"
     ]
    },
    {
     "name": "stderr",
     "output_type": "stream",
     "text": [
      "\r",
      "  4%|▍         | 38/1000 [23:10<10:18:58, 38.61s/it]"
     ]
    },
    {
     "name": "stdout",
     "output_type": "stream",
     "text": [
      "[INFO] [2021-10-31 14:47:39,330] [OpenBox-Shadan] Iteration 39, objective value: [49.17025853907633].\n"
     ]
    },
    {
     "name": "stderr",
     "output_type": "stream",
     "text": [
      "\r",
      "  4%|▍         | 39/1000 [23:53<10:38:12, 39.85s/it]"
     ]
    },
    {
     "name": "stdout",
     "output_type": "stream",
     "text": [
      "[INFO] [2021-10-31 14:48:14,968] [OpenBox-Shadan] Iteration 40, objective value: [42.362188840826406].\n"
     ]
    },
    {
     "name": "stderr",
     "output_type": "stream",
     "text": [
      "\r",
      "  4%|▍         | 40/1000 [24:28<10:17:20, 38.58s/it]"
     ]
    },
    {
     "name": "stdout",
     "output_type": "stream",
     "text": [
      "[INFO] [2021-10-31 14:48:59,692] [OpenBox-Shadan] Iteration 41, objective value: [49.20789952322436].\n"
     ]
    },
    {
     "name": "stderr",
     "output_type": "stream",
     "text": [
      "\r",
      "  4%|▍         | 41/1000 [25:13<10:46:08, 40.43s/it]"
     ]
    },
    {
     "name": "stdout",
     "output_type": "stream",
     "text": [
      "[INFO] [2021-10-31 14:49:35,953] [OpenBox-Shadan] Iteration 42, objective value: [53.106567071157286].\n"
     ]
    },
    {
     "name": "stderr",
     "output_type": "stream",
     "text": [
      "\r",
      "  4%|▍         | 42/1000 [25:49<10:25:30, 39.18s/it]"
     ]
    },
    {
     "name": "stdout",
     "output_type": "stream",
     "text": [
      "[INFO] [2021-10-31 14:50:16,845] [OpenBox-Shadan] Iteration 43, objective value: [45.559683786240036].\n"
     ]
    },
    {
     "name": "stderr",
     "output_type": "stream",
     "text": [
      "\r",
      "  4%|▍         | 43/1000 [26:30<10:33:04, 39.69s/it]"
     ]
    },
    {
     "name": "stdout",
     "output_type": "stream",
     "text": [
      "[INFO] [2021-10-31 14:50:51,740] [OpenBox-Shadan] Iteration 44, objective value: [38.15036201764451].\n"
     ]
    },
    {
     "name": "stderr",
     "output_type": "stream",
     "text": [
      "\r",
      "  4%|▍         | 44/1000 [27:05<10:09:29, 38.25s/it]"
     ]
    },
    {
     "name": "stdout",
     "output_type": "stream",
     "text": [
      "[INFO] [2021-10-31 14:51:34,976] [OpenBox-Shadan] Iteration 45, objective value: [56.32651031342859].\n"
     ]
    },
    {
     "name": "stderr",
     "output_type": "stream",
     "text": [
      "\r",
      "  4%|▍         | 45/1000 [27:48<10:32:38, 39.75s/it]"
     ]
    },
    {
     "name": "stdout",
     "output_type": "stream",
     "text": [
      "[INFO] [2021-10-31 14:52:13,843] [OpenBox-Shadan] Iteration 46, objective value: [42.73841656763926].\n"
     ]
    },
    {
     "name": "stderr",
     "output_type": "stream",
     "text": [
      "\r",
      "  5%|▍         | 46/1000 [28:27<10:27:46, 39.48s/it]"
     ]
    },
    {
     "name": "stdout",
     "output_type": "stream",
     "text": [
      "[INFO] [2021-10-31 14:52:52,132] [OpenBox-Shadan] Iteration 47, objective value: [45.331439010831765].\n"
     ]
    },
    {
     "name": "stderr",
     "output_type": "stream",
     "text": [
      "\r",
      "  5%|▍         | 47/1000 [29:05<10:21:25, 39.12s/it]"
     ]
    },
    {
     "name": "stdout",
     "output_type": "stream",
     "text": [
      "[INFO] [2021-10-31 14:53:30,624] [OpenBox-Shadan] Iteration 48, objective value: [56.71056219530711].\n"
     ]
    },
    {
     "name": "stderr",
     "output_type": "stream",
     "text": [
      "\r",
      "  5%|▍         | 48/1000 [29:44<10:17:46, 38.94s/it]"
     ]
    },
    {
     "name": "stdout",
     "output_type": "stream",
     "text": [
      "[INFO] [2021-10-31 14:54:04,663] [OpenBox-Shadan] Iteration 49, objective value: [43.026392614443154].\n"
     ]
    },
    {
     "name": "stderr",
     "output_type": "stream",
     "text": [
      "\r",
      "  5%|▍         | 49/1000 [30:18<9:53:50, 37.47s/it] "
     ]
    },
    {
     "name": "stdout",
     "output_type": "stream",
     "text": [
      "[INFO] [2021-10-31 14:54:40,095] [OpenBox-Shadan] Iteration 50, objective value: [55.227862680214095].\n"
     ]
    },
    {
     "name": "stderr",
     "output_type": "stream",
     "text": [
      "\r",
      "  5%|▌         | 50/1000 [30:53<9:43:33, 36.86s/it]"
     ]
    },
    {
     "name": "stdout",
     "output_type": "stream",
     "text": [
      "[INFO] [2021-10-31 14:55:19,485] [OpenBox-Shadan] Iteration 51, objective value: [40.24524875866913].\n"
     ]
    },
    {
     "name": "stderr",
     "output_type": "stream",
     "text": [
      "\r",
      "  5%|▌         | 51/1000 [31:33<9:54:57, 37.62s/it]"
     ]
    },
    {
     "name": "stdout",
     "output_type": "stream",
     "text": [
      "[INFO] [2021-10-31 14:55:57,845] [OpenBox-Shadan] Iteration 52, objective value: [47.3342625600093].\n"
     ]
    },
    {
     "name": "stderr",
     "output_type": "stream",
     "text": [
      "\r",
      "  5%|▌         | 52/1000 [32:11<9:57:51, 37.84s/it]"
     ]
    },
    {
     "name": "stdout",
     "output_type": "stream",
     "text": [
      "[INFO] [2021-10-31 14:56:35,531] [OpenBox-Shadan] Iteration 53, objective value: [54.308391281346694].\n"
     ]
    },
    {
     "name": "stderr",
     "output_type": "stream",
     "text": [
      "\r",
      "  5%|▌         | 53/1000 [32:49<9:56:30, 37.79s/it]"
     ]
    },
    {
     "name": "stdout",
     "output_type": "stream",
     "text": [
      "[INFO] [2021-10-31 14:57:10,256] [OpenBox-Shadan] Iteration 54, objective value: [47.75939044701876].\n"
     ]
    },
    {
     "name": "stderr",
     "output_type": "stream",
     "text": [
      "\r",
      "  5%|▌         | 54/1000 [33:23<9:41:21, 36.87s/it]"
     ]
    },
    {
     "name": "stdout",
     "output_type": "stream",
     "text": [
      "[INFO] [2021-10-31 14:57:45,938] [OpenBox-Shadan] Iteration 55, objective value: [55.716548814729585].\n"
     ]
    },
    {
     "name": "stderr",
     "output_type": "stream",
     "text": [
      "\r",
      "  6%|▌         | 55/1000 [33:59<9:35:07, 36.52s/it]"
     ]
    },
    {
     "name": "stdout",
     "output_type": "stream",
     "text": [
      "[INFO] [2021-10-31 14:58:23,140] [OpenBox-Shadan] Iteration 56, objective value: [53.0093774620043].\n"
     ]
    },
    {
     "name": "stderr",
     "output_type": "stream",
     "text": [
      "\r",
      "  6%|▌         | 56/1000 [34:36<9:37:45, 36.72s/it]"
     ]
    },
    {
     "name": "stdout",
     "output_type": "stream",
     "text": [
      "[INFO] [2021-10-31 14:58:58,479] [OpenBox-Shadan] Iteration 57, objective value: [48.83600907400126].\n"
     ]
    },
    {
     "name": "stderr",
     "output_type": "stream",
     "text": [
      "\r",
      "  6%|▌         | 57/1000 [35:12<9:30:37, 36.31s/it]"
     ]
    },
    {
     "name": "stdout",
     "output_type": "stream",
     "text": [
      "[INFO] [2021-10-31 14:59:41,849] [OpenBox-Shadan] Iteration 58, objective value: [49.301060107014315].\n"
     ]
    },
    {
     "name": "stderr",
     "output_type": "stream",
     "text": [
      "\r",
      "  6%|▌         | 58/1000 [35:55<10:03:17, 38.43s/it]"
     ]
    },
    {
     "name": "stdout",
     "output_type": "stream",
     "text": [
      "[INFO] [2021-10-31 15:00:20,387] [OpenBox-Shadan] Iteration 59, objective value: [40.776031959979285].\n"
     ]
    },
    {
     "name": "stderr",
     "output_type": "stream",
     "text": [
      "\r",
      "  6%|▌         | 59/1000 [36:34<10:03:10, 38.46s/it]"
     ]
    },
    {
     "name": "stdout",
     "output_type": "stream",
     "text": [
      "[INFO] [2021-10-31 15:00:52,530] [OpenBox-Shadan] Iteration 60, objective value: [38.96820515908244].\n"
     ]
    },
    {
     "name": "stderr",
     "output_type": "stream",
     "text": [
      "\r",
      "  6%|▌         | 60/1000 [37:06<9:32:50, 36.56s/it] "
     ]
    },
    {
     "name": "stdout",
     "output_type": "stream",
     "text": [
      "[INFO] [2021-10-31 15:01:24,401] [OpenBox-Shadan] Iteration 61, objective value: [60.51952685991891].\n"
     ]
    },
    {
     "name": "stderr",
     "output_type": "stream",
     "text": [
      "\r",
      "  6%|▌         | 61/1000 [37:38<9:10:11, 35.16s/it]"
     ]
    },
    {
     "name": "stdout",
     "output_type": "stream",
     "text": [
      "[INFO] [2021-10-31 15:02:03,635] [OpenBox-Shadan] Iteration 62, objective value: [56.437511545309604].\n"
     ]
    },
    {
     "name": "stderr",
     "output_type": "stream",
     "text": [
      "\r",
      "  6%|▌         | 62/1000 [38:17<9:28:44, 36.38s/it]"
     ]
    },
    {
     "name": "stdout",
     "output_type": "stream",
     "text": [
      "[INFO] [2021-10-31 15:02:35,862] [OpenBox-Shadan] Iteration 63, objective value: [51.595090757159724].\n"
     ]
    },
    {
     "name": "stderr",
     "output_type": "stream",
     "text": [
      "\r",
      "  6%|▋         | 63/1000 [38:49<9:08:40, 35.13s/it]"
     ]
    },
    {
     "name": "stdout",
     "output_type": "stream",
     "text": [
      "[INFO] [2021-10-31 15:03:08,294] [OpenBox-Shadan] Iteration 64, objective value: [43.503899031629786].\n"
     ]
    },
    {
     "name": "stderr",
     "output_type": "stream",
     "text": [
      "\r",
      "  6%|▋         | 64/1000 [39:22<8:55:26, 34.32s/it]"
     ]
    },
    {
     "name": "stdout",
     "output_type": "stream",
     "text": [
      "[INFO] [2021-10-31 15:03:44,173] [OpenBox-Shadan] Iteration 65, objective value: [57.08866478305197].\n"
     ]
    },
    {
     "name": "stderr",
     "output_type": "stream",
     "text": [
      "\r",
      "  6%|▋         | 65/1000 [39:57<9:02:08, 34.79s/it]"
     ]
    },
    {
     "name": "stdout",
     "output_type": "stream",
     "text": [
      "[INFO] [2021-10-31 15:04:18,400] [OpenBox-Shadan] Iteration 66, objective value: [56.37973736773431].\n"
     ]
    },
    {
     "name": "stderr",
     "output_type": "stream",
     "text": [
      "\r",
      "  7%|▋         | 66/1000 [40:32<8:58:56, 34.62s/it]"
     ]
    },
    {
     "name": "stdout",
     "output_type": "stream",
     "text": [
      "[INFO] [2021-10-31 15:04:55,790] [OpenBox-Shadan] Iteration 67, objective value: [50.276952361728].\n"
     ]
    },
    {
     "name": "stderr",
     "output_type": "stream",
     "text": [
      "\r",
      "  7%|▋         | 67/1000 [41:09<9:11:16, 35.45s/it]"
     ]
    },
    {
     "name": "stdout",
     "output_type": "stream",
     "text": [
      "[INFO] [2021-10-31 15:05:41,112] [OpenBox-Shadan] Iteration 68, objective value: [56.75015506575359].\n"
     ]
    },
    {
     "name": "stderr",
     "output_type": "stream",
     "text": [
      "\r",
      "  7%|▋         | 68/1000 [41:54<9:56:40, 38.41s/it]"
     ]
    },
    {
     "name": "stdout",
     "output_type": "stream",
     "text": [
      "[INFO] [2021-10-31 15:06:21,505] [OpenBox-Shadan] Iteration 69, objective value: [48.34199018937325].\n"
     ]
    },
    {
     "name": "stderr",
     "output_type": "stream",
     "text": [
      "\r",
      "  7%|▋         | 69/1000 [42:35<10:05:15, 39.01s/it]"
     ]
    },
    {
     "name": "stdout",
     "output_type": "stream",
     "text": [
      "[INFO] [2021-10-31 15:06:55,072] [OpenBox-Shadan] Iteration 70, objective value: [42.87516103621167].\n"
     ]
    },
    {
     "name": "stderr",
     "output_type": "stream",
     "text": [
      "\r",
      "  7%|▋         | 70/1000 [43:08<9:39:18, 37.37s/it] "
     ]
    },
    {
     "name": "stdout",
     "output_type": "stream",
     "text": [
      "[INFO] [2021-10-31 15:07:34,865] [OpenBox-Shadan] Iteration 71, objective value: [50.37278990920308].\n"
     ]
    },
    {
     "name": "stderr",
     "output_type": "stream",
     "text": [
      "\r",
      "  7%|▋         | 71/1000 [43:48<9:49:55, 38.10s/it]"
     ]
    },
    {
     "name": "stdout",
     "output_type": "stream",
     "text": [
      "[INFO] [2021-10-31 15:08:11,473] [OpenBox-Shadan] Iteration 72, objective value: [37.94221016088637].\n"
     ]
    },
    {
     "name": "stderr",
     "output_type": "stream",
     "text": [
      "\r",
      "  7%|▋         | 72/1000 [44:25<9:42:21, 37.65s/it]"
     ]
    },
    {
     "name": "stdout",
     "output_type": "stream",
     "text": [
      "[INFO] [2021-10-31 15:08:43,588] [OpenBox-Shadan] Iteration 73, objective value: [52.17528819200077].\n"
     ]
    },
    {
     "name": "stderr",
     "output_type": "stream",
     "text": [
      "\r",
      "  7%|▋         | 73/1000 [44:57<9:16:03, 35.99s/it]"
     ]
    },
    {
     "name": "stdout",
     "output_type": "stream",
     "text": [
      "[INFO] [2021-10-31 15:09:25,591] [OpenBox-Shadan] Iteration 74, objective value: [50.29206044041799].\n"
     ]
    },
    {
     "name": "stderr",
     "output_type": "stream",
     "text": [
      "\r",
      "  7%|▋         | 74/1000 [45:39<9:43:17, 37.79s/it]"
     ]
    },
    {
     "name": "stdout",
     "output_type": "stream",
     "text": [
      "[INFO] [2021-10-31 15:10:01,995] [OpenBox-Shadan] Iteration 75, objective value: [48.43885369910588].\n"
     ]
    },
    {
     "name": "stderr",
     "output_type": "stream",
     "text": [
      "\r",
      "  8%|▊         | 75/1000 [46:15<9:36:14, 37.38s/it]"
     ]
    },
    {
     "name": "stdout",
     "output_type": "stream",
     "text": [
      "[INFO] [2021-10-31 15:10:40,530] [OpenBox-Shadan] Iteration 76, objective value: [38.63519340905904].\n"
     ]
    },
    {
     "name": "stderr",
     "output_type": "stream",
     "text": [
      "\r",
      "  8%|▊         | 76/1000 [46:54<9:41:00, 37.73s/it]"
     ]
    },
    {
     "name": "stdout",
     "output_type": "stream",
     "text": [
      "[INFO] [2021-10-31 15:11:26,429] [OpenBox-Shadan] Iteration 77, objective value: [50.47126832148962].\n"
     ]
    },
    {
     "name": "stderr",
     "output_type": "stream",
     "text": [
      "\r",
      "  8%|▊         | 77/1000 [47:40<10:18:02, 40.18s/it]"
     ]
    },
    {
     "name": "stdout",
     "output_type": "stream",
     "text": [
      "[INFO] [2021-10-31 15:12:03,625] [OpenBox-Shadan] Iteration 78, objective value: [46.288775029227246].\n"
     ]
    },
    {
     "name": "stderr",
     "output_type": "stream",
     "text": [
      "\r",
      "  8%|▊         | 78/1000 [48:17<10:03:37, 39.28s/it]"
     ]
    },
    {
     "name": "stdout",
     "output_type": "stream",
     "text": [
      "[INFO] [2021-10-31 15:12:41,927] [OpenBox-Shadan] Iteration 79, objective value: [54.53546292895766].\n"
     ]
    },
    {
     "name": "stderr",
     "output_type": "stream",
     "text": [
      "\r",
      "  8%|▊         | 79/1000 [48:55<9:58:27, 38.99s/it] "
     ]
    },
    {
     "name": "stdout",
     "output_type": "stream",
     "text": [
      "[INFO] [2021-10-31 15:13:23,310] [OpenBox-Shadan] Iteration 80, objective value: [58.0586419185116].\n"
     ]
    },
    {
     "name": "stderr",
     "output_type": "stream",
     "text": [
      "\r",
      "  8%|▊         | 80/1000 [49:37<10:08:49, 39.71s/it]"
     ]
    },
    {
     "name": "stdout",
     "output_type": "stream",
     "text": [
      "[INFO] [2021-10-31 15:14:02,091] [OpenBox-Shadan] Iteration 81, objective value: [50.689693493116394].\n"
     ]
    },
    {
     "name": "stderr",
     "output_type": "stream",
     "text": [
      "\r",
      "  8%|▊         | 81/1000 [50:15<10:03:55, 39.43s/it]"
     ]
    },
    {
     "name": "stdout",
     "output_type": "stream",
     "text": [
      "[INFO] [2021-10-31 15:14:38,926] [OpenBox-Shadan] Iteration 82, objective value: [40.56142857971776].\n"
     ]
    },
    {
     "name": "stderr",
     "output_type": "stream",
     "text": [
      "\r",
      "  8%|▊         | 82/1000 [50:52<9:51:21, 38.65s/it] "
     ]
    },
    {
     "name": "stdout",
     "output_type": "stream",
     "text": [
      "[INFO] [2021-10-31 15:15:12,780] [OpenBox-Shadan] Iteration 83, objective value: [50.854578472074266].\n"
     ]
    },
    {
     "name": "stderr",
     "output_type": "stream",
     "text": [
      "\r",
      "  8%|▊         | 83/1000 [51:26<9:28:43, 37.21s/it]"
     ]
    },
    {
     "name": "stdout",
     "output_type": "stream",
     "text": [
      "[INFO] [2021-10-31 15:15:48,798] [OpenBox-Shadan] Iteration 84, objective value: [43.41133334851667].\n"
     ]
    },
    {
     "name": "stderr",
     "output_type": "stream",
     "text": [
      "\r",
      "  8%|▊         | 84/1000 [52:02<9:22:37, 36.85s/it]"
     ]
    },
    {
     "name": "stdout",
     "output_type": "stream",
     "text": [
      "[INFO] [2021-10-31 15:16:21,172] [OpenBox-Shadan] Iteration 85, objective value: [56.144478473389].\n"
     ]
    },
    {
     "name": "stderr",
     "output_type": "stream",
     "text": [
      "\r",
      "  8%|▊         | 85/1000 [52:34<9:01:31, 35.51s/it]"
     ]
    },
    {
     "name": "stdout",
     "output_type": "stream",
     "text": [
      "[INFO] [2021-10-31 15:16:57,868] [OpenBox-Shadan] Iteration 86, objective value: [33.74345725032943].\n"
     ]
    },
    {
     "name": "stderr",
     "output_type": "stream",
     "text": [
      "\r",
      "  9%|▊         | 86/1000 [53:11<9:06:21, 35.87s/it]"
     ]
    },
    {
     "name": "stdout",
     "output_type": "stream",
     "text": [
      "[INFO] [2021-10-31 15:17:36,305] [OpenBox-Shadan] Iteration 87, objective value: [36.04582073454312].\n"
     ]
    },
    {
     "name": "stderr",
     "output_type": "stream",
     "text": [
      "\r",
      "  9%|▊         | 87/1000 [53:50<9:17:29, 36.64s/it]"
     ]
    },
    {
     "name": "stdout",
     "output_type": "stream",
     "text": [
      "[INFO] [2021-10-31 15:18:12,467] [OpenBox-Shadan] Iteration 88, objective value: [44.13193489621704].\n"
     ]
    },
    {
     "name": "stderr",
     "output_type": "stream",
     "text": [
      "\r",
      "  9%|▉         | 88/1000 [54:26<9:14:43, 36.49s/it]"
     ]
    },
    {
     "name": "stdout",
     "output_type": "stream",
     "text": [
      "[INFO] [2021-10-31 15:18:48,699] [OpenBox-Shadan] Iteration 89, objective value: [43.859899659514646].\n"
     ]
    },
    {
     "name": "stderr",
     "output_type": "stream",
     "text": [
      "\r",
      "  9%|▉         | 89/1000 [55:02<9:12:54, 36.42s/it]"
     ]
    },
    {
     "name": "stdout",
     "output_type": "stream",
     "text": [
      "[INFO] [2021-10-31 15:19:26,582] [OpenBox-Shadan] Iteration 90, objective value: [49.91607709015923].\n"
     ]
    },
    {
     "name": "stderr",
     "output_type": "stream",
     "text": [
      "\r",
      "  9%|▉         | 90/1000 [55:40<9:18:58, 36.86s/it]"
     ]
    },
    {
     "name": "stdout",
     "output_type": "stream",
     "text": [
      "[INFO] [2021-10-31 15:20:01,101] [OpenBox-Shadan] Iteration 91, objective value: [41.620248899838685].\n"
     ]
    },
    {
     "name": "stderr",
     "output_type": "stream",
     "text": [
      "\r",
      "  9%|▉         | 91/1000 [56:14<9:07:44, 36.15s/it]"
     ]
    },
    {
     "name": "stdout",
     "output_type": "stream",
     "text": [
      "[INFO] [2021-10-31 15:20:41,683] [OpenBox-Shadan] Iteration 92, objective value: [37.176769460598294].\n"
     ]
    },
    {
     "name": "stderr",
     "output_type": "stream",
     "text": [
      "\r",
      "  9%|▉         | 92/1000 [56:55<9:27:14, 37.48s/it]"
     ]
    },
    {
     "name": "stdout",
     "output_type": "stream",
     "text": [
      "[INFO] [2021-10-31 15:21:17,432] [OpenBox-Shadan] Iteration 93, objective value: [45.43225849329725].\n"
     ]
    },
    {
     "name": "stderr",
     "output_type": "stream",
     "text": [
      "\r",
      "  9%|▉         | 93/1000 [57:31<9:18:45, 36.96s/it]"
     ]
    },
    {
     "name": "stdout",
     "output_type": "stream",
     "text": [
      "[INFO] [2021-10-31 15:21:52,136] [OpenBox-Shadan] Iteration 94, objective value: [37.911219629539325].\n"
     ]
    },
    {
     "name": "stderr",
     "output_type": "stream",
     "text": [
      "\r",
      "  9%|▉         | 94/1000 [58:05<9:07:54, 36.29s/it]"
     ]
    },
    {
     "name": "stdout",
     "output_type": "stream",
     "text": [
      "[INFO] [2021-10-31 15:22:26,986] [OpenBox-Shadan] Iteration 95, objective value: [52.554922205288065].\n"
     ]
    },
    {
     "name": "stderr",
     "output_type": "stream",
     "text": [
      "\r",
      " 10%|▉         | 95/1000 [58:40<9:00:48, 35.85s/it]"
     ]
    },
    {
     "name": "stdout",
     "output_type": "stream",
     "text": [
      "[INFO] [2021-10-31 15:23:05,397] [OpenBox-Shadan] Iteration 96, objective value: [51.59822012627656].\n"
     ]
    },
    {
     "name": "stderr",
     "output_type": "stream",
     "text": [
      "\r",
      " 10%|▉         | 96/1000 [59:19<9:11:45, 36.62s/it]"
     ]
    },
    {
     "name": "stdout",
     "output_type": "stream",
     "text": [
      "[INFO] [2021-10-31 15:23:44,970] [OpenBox-Shadan] Iteration 97, objective value: [61.743033774900894].\n"
     ]
    },
    {
     "name": "stderr",
     "output_type": "stream",
     "text": [
      "\r",
      " 10%|▉         | 97/1000 [59:58<9:24:28, 37.51s/it]"
     ]
    },
    {
     "name": "stdout",
     "output_type": "stream",
     "text": [
      "[INFO] [2021-10-31 15:24:25,220] [OpenBox-Shadan] Iteration 98, objective value: [50.53714999704527].\n"
     ]
    },
    {
     "name": "stderr",
     "output_type": "stream",
     "text": [
      "\r",
      " 10%|▉         | 98/1000 [1:00:38<9:36:13, 38.33s/it]"
     ]
    },
    {
     "name": "stdout",
     "output_type": "stream",
     "text": [
      "[INFO] [2021-10-31 15:25:02,836] [OpenBox-Shadan] Iteration 99, objective value: [46.66851049951302].\n"
     ]
    },
    {
     "name": "stderr",
     "output_type": "stream",
     "text": [
      "\r",
      " 10%|▉         | 99/1000 [1:01:16<9:32:22, 38.12s/it]"
     ]
    },
    {
     "name": "stdout",
     "output_type": "stream",
     "text": [
      "[INFO] [2021-10-31 15:25:37,104] [OpenBox-Shadan] Iteration 100, objective value: [48.20984466789364].\n"
     ]
    },
    {
     "name": "stderr",
     "output_type": "stream",
     "text": [
      "\r",
      " 10%|█         | 100/1000 [1:01:50<9:14:25, 36.96s/it]"
     ]
    },
    {
     "name": "stdout",
     "output_type": "stream",
     "text": [
      "[INFO] [2021-10-31 15:26:14,286] [OpenBox-Shadan] Iteration 101, objective value: [54.940444887553376].\n"
     ]
    },
    {
     "name": "stderr",
     "output_type": "stream",
     "text": [
      "\r",
      " 10%|█         | 101/1000 [1:02:28<9:14:47, 37.03s/it]"
     ]
    },
    {
     "name": "stdout",
     "output_type": "stream",
     "text": [
      "[INFO] [2021-10-31 15:26:50,404] [OpenBox-Shadan] Iteration 102, objective value: [51.02270948514278].\n"
     ]
    },
    {
     "name": "stderr",
     "output_type": "stream",
     "text": [
      "\r",
      " 10%|█         | 102/1000 [1:03:04<9:10:05, 36.75s/it]"
     ]
    },
    {
     "name": "stdout",
     "output_type": "stream",
     "text": [
      "[INFO] [2021-10-31 15:27:22,482] [OpenBox-Shadan] Iteration 103, objective value: [59.54298263493989].\n"
     ]
    },
    {
     "name": "stderr",
     "output_type": "stream",
     "text": [
      "\r",
      " 10%|█         | 103/1000 [1:03:36<8:48:30, 35.35s/it]"
     ]
    },
    {
     "name": "stdout",
     "output_type": "stream",
     "text": [
      "[INFO] [2021-10-31 15:27:58,837] [OpenBox-Shadan] Iteration 104, objective value: [46.3648355831854].\n"
     ]
    },
    {
     "name": "stderr",
     "output_type": "stream",
     "text": [
      "\r",
      " 10%|█         | 104/1000 [1:04:12<8:52:24, 35.65s/it]"
     ]
    },
    {
     "name": "stdout",
     "output_type": "stream",
     "text": [
      "[INFO] [2021-10-31 15:28:36,591] [OpenBox-Shadan] Iteration 105, objective value: [31.581477968584323].\n"
     ]
    },
    {
     "name": "stderr",
     "output_type": "stream",
     "text": [
      "\r",
      " 10%|█         | 105/1000 [1:04:50<9:01:13, 36.28s/it]"
     ]
    },
    {
     "name": "stdout",
     "output_type": "stream",
     "text": [
      "[INFO] [2021-10-31 15:29:11,606] [OpenBox-Shadan] Iteration 106, objective value: [43.50490561692394].\n"
     ]
    },
    {
     "name": "stderr",
     "output_type": "stream",
     "text": [
      "\r",
      " 11%|█         | 106/1000 [1:05:25<8:54:57, 35.90s/it]"
     ]
    },
    {
     "name": "stdout",
     "output_type": "stream",
     "text": [
      "[INFO] [2021-10-31 15:29:43,966] [OpenBox-Shadan] Iteration 107, objective value: [58.568448790819424].\n"
     ]
    },
    {
     "name": "stderr",
     "output_type": "stream",
     "text": [
      "\r",
      " 11%|█         | 107/1000 [1:05:57<8:38:32, 34.84s/it]"
     ]
    },
    {
     "name": "stdout",
     "output_type": "stream",
     "text": [
      "[INFO] [2021-10-31 15:30:22,019] [OpenBox-Shadan] Iteration 108, objective value: [43.44254124122001].\n"
     ]
    },
    {
     "name": "stderr",
     "output_type": "stream",
     "text": [
      "\r",
      " 11%|█         | 108/1000 [1:06:35<8:52:16, 35.80s/it]"
     ]
    },
    {
     "name": "stdout",
     "output_type": "stream",
     "text": [
      "[INFO] [2021-10-31 15:30:55,597] [OpenBox-Shadan] Iteration 109, objective value: [37.32234736670724].\n"
     ]
    },
    {
     "name": "stderr",
     "output_type": "stream",
     "text": [
      "\r",
      " 11%|█         | 109/1000 [1:07:09<8:41:46, 35.14s/it]"
     ]
    },
    {
     "name": "stdout",
     "output_type": "stream",
     "text": [
      "[INFO] [2021-10-31 15:31:32,963] [OpenBox-Shadan] Iteration 110, objective value: [50.5768142192972].\n"
     ]
    },
    {
     "name": "stderr",
     "output_type": "stream",
     "text": [
      "\r",
      " 11%|█         | 110/1000 [1:07:46<8:51:06, 35.81s/it]"
     ]
    },
    {
     "name": "stdout",
     "output_type": "stream",
     "text": [
      "[INFO] [2021-10-31 15:32:08,383] [OpenBox-Shadan] Iteration 111, objective value: [52.478380358688604].\n"
     ]
    },
    {
     "name": "stderr",
     "output_type": "stream",
     "text": [
      "\r",
      " 11%|█         | 111/1000 [1:08:22<8:48:47, 35.69s/it]"
     ]
    },
    {
     "name": "stdout",
     "output_type": "stream",
     "text": [
      "[INFO] [2021-10-31 15:32:45,180] [OpenBox-Shadan] Iteration 112, objective value: [52.2277948146405].\n"
     ]
    },
    {
     "name": "stderr",
     "output_type": "stream",
     "text": [
      "\r",
      " 11%|█         | 112/1000 [1:08:58<8:53:07, 36.02s/it]"
     ]
    },
    {
     "name": "stdout",
     "output_type": "stream",
     "text": [
      "[INFO] [2021-10-31 15:33:24,891] [OpenBox-Shadan] Iteration 113, objective value: [53.73283735547016].\n"
     ]
    },
    {
     "name": "stderr",
     "output_type": "stream",
     "text": [
      "\r",
      " 11%|█▏        | 113/1000 [1:09:38<9:08:53, 37.13s/it]"
     ]
    },
    {
     "name": "stdout",
     "output_type": "stream",
     "text": [
      "[INFO] [2021-10-31 15:34:02,087] [OpenBox-Shadan] Iteration 114, objective value: [51.85054048517848].\n"
     ]
    },
    {
     "name": "stderr",
     "output_type": "stream",
     "text": [
      "\r",
      " 11%|█▏        | 114/1000 [1:10:15<9:08:33, 37.15s/it]"
     ]
    },
    {
     "name": "stdout",
     "output_type": "stream",
     "text": [
      "[INFO] [2021-10-31 15:34:34,391] [OpenBox-Shadan] Iteration 115, objective value: [38.766681644595536].\n"
     ]
    },
    {
     "name": "stderr",
     "output_type": "stream",
     "text": [
      "\r",
      " 12%|█▏        | 115/1000 [1:10:48<8:46:30, 35.70s/it]"
     ]
    },
    {
     "name": "stdout",
     "output_type": "stream",
     "text": [
      "[INFO] [2021-10-31 15:35:10,129] [OpenBox-Shadan] Iteration 116, objective value: [38.32233312114355].\n"
     ]
    },
    {
     "name": "stderr",
     "output_type": "stream",
     "text": [
      "\r",
      " 12%|█▏        | 116/1000 [1:11:23<8:46:06, 35.71s/it]"
     ]
    },
    {
     "name": "stdout",
     "output_type": "stream",
     "text": [
      "[INFO] [2021-10-31 15:35:42,978] [OpenBox-Shadan] Iteration 117, objective value: [33.98681479982095].\n"
     ]
    },
    {
     "name": "stderr",
     "output_type": "stream",
     "text": [
      "\r",
      " 12%|█▏        | 117/1000 [1:11:56<8:32:52, 34.85s/it]"
     ]
    },
    {
     "name": "stdout",
     "output_type": "stream",
     "text": [
      "[INFO] [2021-10-31 15:36:15,087] [OpenBox-Shadan] Iteration 118, objective value: [52.585937373626614].\n"
     ]
    },
    {
     "name": "stderr",
     "output_type": "stream",
     "text": [
      "\r",
      " 12%|█▏        | 118/1000 [1:12:28<8:20:12, 34.03s/it]"
     ]
    },
    {
     "name": "stdout",
     "output_type": "stream",
     "text": [
      "[INFO] [2021-10-31 15:36:56,632] [OpenBox-Shadan] Iteration 119, objective value: [55.49780795507793].\n"
     ]
    },
    {
     "name": "stderr",
     "output_type": "stream",
     "text": [
      "\r",
      " 12%|█▏        | 119/1000 [1:13:10<8:52:45, 36.28s/it]"
     ]
    },
    {
     "name": "stdout",
     "output_type": "stream",
     "text": [
      "[INFO] [2021-10-31 15:37:26,794] [OpenBox-Shadan] Iteration 120, objective value: [43.759646986720504].\n"
     ]
    },
    {
     "name": "stderr",
     "output_type": "stream",
     "text": [
      "\r",
      " 12%|█▏        | 120/1000 [1:13:40<8:25:13, 34.45s/it]"
     ]
    },
    {
     "name": "stdout",
     "output_type": "stream",
     "text": [
      "[INFO] [2021-10-31 15:38:01,248] [OpenBox-Shadan] Iteration 121, objective value: [46.96936642094811].\n"
     ]
    },
    {
     "name": "stderr",
     "output_type": "stream",
     "text": [
      "\r",
      " 12%|█▏        | 121/1000 [1:14:14<8:24:40, 34.45s/it]"
     ]
    },
    {
     "name": "stdout",
     "output_type": "stream",
     "text": [
      "[INFO] [2021-10-31 15:38:35,789] [OpenBox-Shadan] Iteration 122, objective value: [39.25494081085675].\n"
     ]
    },
    {
     "name": "stderr",
     "output_type": "stream",
     "text": [
      "\r",
      " 12%|█▏        | 122/1000 [1:14:49<8:24:30, 34.48s/it]"
     ]
    },
    {
     "name": "stdout",
     "output_type": "stream",
     "text": [
      "[INFO] [2021-10-31 15:39:08,409] [OpenBox-Shadan] Iteration 123, objective value: [44.17085849608865].\n"
     ]
    },
    {
     "name": "stderr",
     "output_type": "stream",
     "text": [
      "\r",
      " 12%|█▏        | 123/1000 [1:15:22<8:15:47, 33.92s/it]"
     ]
    },
    {
     "name": "stdout",
     "output_type": "stream",
     "text": [
      "[INFO] [2021-10-31 15:39:46,510] [OpenBox-Shadan] Iteration 124, objective value: [52.81457541885682].\n"
     ]
    },
    {
     "name": "stderr",
     "output_type": "stream",
     "text": [
      "\r",
      " 12%|█▏        | 124/1000 [1:16:00<8:33:32, 35.17s/it]"
     ]
    },
    {
     "name": "stdout",
     "output_type": "stream",
     "text": [
      "[INFO] [2021-10-31 15:40:26,349] [OpenBox-Shadan] Iteration 125, objective value: [49.53884569066588].\n"
     ]
    },
    {
     "name": "stderr",
     "output_type": "stream",
     "text": [
      "\r",
      " 12%|█▎        | 125/1000 [1:16:40<8:53:21, 36.57s/it]"
     ]
    },
    {
     "name": "stdout",
     "output_type": "stream",
     "text": [
      "[INFO] [2021-10-31 15:41:03,017] [OpenBox-Shadan] Iteration 126, objective value: [46.804865702674114].\n"
     ]
    },
    {
     "name": "stderr",
     "output_type": "stream",
     "text": [
      "\r",
      " 13%|█▎        | 126/1000 [1:17:16<8:53:10, 36.60s/it]"
     ]
    },
    {
     "name": "stdout",
     "output_type": "stream",
     "text": [
      "[INFO] [2021-10-31 15:41:37,351] [OpenBox-Shadan] Iteration 127, objective value: [56.502329549539205].\n"
     ]
    },
    {
     "name": "stderr",
     "output_type": "stream",
     "text": [
      "\r",
      " 13%|█▎        | 127/1000 [1:17:51<8:42:39, 35.92s/it]"
     ]
    },
    {
     "name": "stdout",
     "output_type": "stream",
     "text": [
      "[INFO] [2021-10-31 15:42:12,143] [OpenBox-Shadan] Iteration 128, objective value: [50.38611692921442].\n"
     ]
    },
    {
     "name": "stderr",
     "output_type": "stream",
     "text": [
      "\r",
      " 13%|█▎        | 128/1000 [1:18:25<8:37:07, 35.58s/it]"
     ]
    },
    {
     "name": "stdout",
     "output_type": "stream",
     "text": [
      "[INFO] [2021-10-31 15:42:44,739] [OpenBox-Shadan] Iteration 129, objective value: [43.721415547443534].\n"
     ]
    },
    {
     "name": "stderr",
     "output_type": "stream",
     "text": [
      "\r",
      " 13%|█▎        | 129/1000 [1:18:58<8:23:32, 34.69s/it]"
     ]
    },
    {
     "name": "stdout",
     "output_type": "stream",
     "text": [
      "[INFO] [2021-10-31 15:43:25,085] [OpenBox-Shadan] Iteration 130, objective value: [48.46032595882603].\n"
     ]
    },
    {
     "name": "stderr",
     "output_type": "stream",
     "text": [
      "\r",
      " 13%|█▎        | 130/1000 [1:19:38<8:47:34, 36.38s/it]"
     ]
    },
    {
     "name": "stdout",
     "output_type": "stream",
     "text": [
      "[INFO] [2021-10-31 15:44:00,403] [OpenBox-Shadan] Iteration 131, objective value: [54.83547381299602].\n"
     ]
    },
    {
     "name": "stderr",
     "output_type": "stream",
     "text": [
      "\r",
      " 13%|█▎        | 131/1000 [1:20:14<8:42:20, 36.06s/it]"
     ]
    },
    {
     "name": "stdout",
     "output_type": "stream",
     "text": [
      "[INFO] [2021-10-31 15:44:39,810] [OpenBox-Shadan] Iteration 132, objective value: [48.56101543962173].\n"
     ]
    },
    {
     "name": "stderr",
     "output_type": "stream",
     "text": [
      "\r",
      " 13%|█▎        | 132/1000 [1:20:53<8:56:14, 37.07s/it]"
     ]
    },
    {
     "name": "stdout",
     "output_type": "stream",
     "text": [
      "[INFO] [2021-10-31 15:45:15,630] [OpenBox-Shadan] Iteration 133, objective value: [41.102225013663855].\n"
     ]
    },
    {
     "name": "stderr",
     "output_type": "stream",
     "text": [
      "\r",
      " 13%|█▎        | 133/1000 [1:21:29<8:50:12, 36.69s/it]"
     ]
    },
    {
     "name": "stdout",
     "output_type": "stream",
     "text": [
      "[INFO] [2021-10-31 15:45:53,090] [OpenBox-Shadan] Iteration 134, objective value: [51.5297503887886].\n"
     ]
    },
    {
     "name": "stderr",
     "output_type": "stream",
     "text": [
      "\r",
      " 13%|█▎        | 134/1000 [1:22:06<8:52:55, 36.92s/it]"
     ]
    },
    {
     "name": "stdout",
     "output_type": "stream",
     "text": [
      "[INFO] [2021-10-31 15:46:30,064] [OpenBox-Shadan] Iteration 135, objective value: [50.63957749343187].\n"
     ]
    },
    {
     "name": "stderr",
     "output_type": "stream",
     "text": [
      "\r",
      " 14%|█▎        | 135/1000 [1:22:43<8:52:31, 36.94s/it]"
     ]
    },
    {
     "name": "stdout",
     "output_type": "stream",
     "text": [
      "[INFO] [2021-10-31 15:47:07,257] [OpenBox-Shadan] Iteration 136, objective value: [43.257992670480874].\n"
     ]
    },
    {
     "name": "stderr",
     "output_type": "stream",
     "text": [
      "\r",
      " 14%|█▎        | 136/1000 [1:23:20<8:53:00, 37.01s/it]"
     ]
    },
    {
     "name": "stdout",
     "output_type": "stream",
     "text": [
      "[INFO] [2021-10-31 15:47:43,814] [OpenBox-Shadan] Iteration 137, objective value: [44.60732820994957].\n"
     ]
    },
    {
     "name": "stderr",
     "output_type": "stream",
     "text": [
      "\r",
      " 14%|█▎        | 137/1000 [1:23:57<8:50:25, 36.88s/it]"
     ]
    },
    {
     "name": "stdout",
     "output_type": "stream",
     "text": [
      "[INFO] [2021-10-31 15:48:17,063] [OpenBox-Shadan] Iteration 138, objective value: [53.82419838102657].\n"
     ]
    },
    {
     "name": "stderr",
     "output_type": "stream",
     "text": [
      "\r",
      " 14%|█▍        | 138/1000 [1:24:30<8:34:09, 35.79s/it]"
     ]
    },
    {
     "name": "stdout",
     "output_type": "stream",
     "text": [
      "[INFO] [2021-10-31 15:48:52,291] [OpenBox-Shadan] Iteration 139, objective value: [45.8485774722116].\n"
     ]
    },
    {
     "name": "stderr",
     "output_type": "stream",
     "text": [
      "\r",
      " 14%|█▍        | 139/1000 [1:25:06<8:31:09, 35.62s/it]"
     ]
    },
    {
     "name": "stdout",
     "output_type": "stream",
     "text": [
      "[INFO] [2021-10-31 15:49:27,828] [OpenBox-Shadan] Iteration 140, objective value: [45.190379511111885].\n"
     ]
    },
    {
     "name": "stderr",
     "output_type": "stream",
     "text": [
      "\r",
      " 14%|█▍        | 140/1000 [1:25:41<8:30:12, 35.60s/it]"
     ]
    },
    {
     "name": "stdout",
     "output_type": "stream",
     "text": [
      "[INFO] [2021-10-31 15:50:05,032] [OpenBox-Shadan] Iteration 141, objective value: [46.50682533907119].\n"
     ]
    },
    {
     "name": "stderr",
     "output_type": "stream",
     "text": [
      "\r",
      " 14%|█▍        | 141/1000 [1:26:18<8:36:31, 36.08s/it]"
     ]
    },
    {
     "name": "stdout",
     "output_type": "stream",
     "text": [
      "[INFO] [2021-10-31 15:50:42,947] [OpenBox-Shadan] Iteration 142, objective value: [58.652126604229885].\n"
     ]
    },
    {
     "name": "stderr",
     "output_type": "stream",
     "text": [
      "\r",
      " 14%|█▍        | 142/1000 [1:26:56<8:43:47, 36.63s/it]"
     ]
    },
    {
     "name": "stdout",
     "output_type": "stream",
     "text": [
      "[INFO] [2021-10-31 15:51:15,737] [OpenBox-Shadan] Iteration 143, objective value: [42.614430893055896].\n"
     ]
    },
    {
     "name": "stderr",
     "output_type": "stream",
     "text": [
      "\r",
      " 14%|█▍        | 143/1000 [1:27:29<8:26:44, 35.48s/it]"
     ]
    },
    {
     "name": "stdout",
     "output_type": "stream",
     "text": [
      "[INFO] [2021-10-31 15:51:54,404] [OpenBox-Shadan] Iteration 144, objective value: [48.05683119007605].\n"
     ]
    },
    {
     "name": "stderr",
     "output_type": "stream",
     "text": [
      "\r",
      " 14%|█▍        | 144/1000 [1:28:08<8:39:47, 36.43s/it]"
     ]
    },
    {
     "name": "stdout",
     "output_type": "stream",
     "text": [
      "[INFO] [2021-10-31 15:52:29,081] [OpenBox-Shadan] Iteration 145, objective value: [29.379111095047577].\n"
     ]
    },
    {
     "name": "stderr",
     "output_type": "stream",
     "text": [
      "\r",
      " 14%|█▍        | 145/1000 [1:28:42<8:31:40, 35.91s/it]"
     ]
    },
    {
     "name": "stdout",
     "output_type": "stream",
     "text": [
      "[INFO] [2021-10-31 15:53:07,327] [OpenBox-Shadan] Iteration 146, objective value: [52.6366647857026].\n"
     ]
    },
    {
     "name": "stderr",
     "output_type": "stream",
     "text": [
      "\r",
      " 15%|█▍        | 146/1000 [1:29:21<8:41:03, 36.61s/it]"
     ]
    },
    {
     "name": "stdout",
     "output_type": "stream",
     "text": [
      "[INFO] [2021-10-31 15:53:49,907] [OpenBox-Shadan] Iteration 147, objective value: [50.79015884694001].\n"
     ]
    },
    {
     "name": "stderr",
     "output_type": "stream",
     "text": [
      "\r",
      " 15%|█▍        | 147/1000 [1:30:03<9:05:55, 38.40s/it]"
     ]
    },
    {
     "name": "stdout",
     "output_type": "stream",
     "text": [
      "[INFO] [2021-10-31 15:54:22,209] [OpenBox-Shadan] Iteration 148, objective value: [47.587545762831375].\n"
     ]
    },
    {
     "name": "stderr",
     "output_type": "stream",
     "text": [
      "\r",
      " 15%|█▍        | 148/1000 [1:30:35<8:39:18, 36.57s/it]"
     ]
    },
    {
     "name": "stdout",
     "output_type": "stream",
     "text": [
      "[INFO] [2021-10-31 15:54:59,915] [OpenBox-Shadan] Iteration 149, objective value: [43.150209670945].\n"
     ]
    },
    {
     "name": "stderr",
     "output_type": "stream",
     "text": [
      "\r",
      " 15%|█▍        | 149/1000 [1:31:13<8:43:31, 36.91s/it]"
     ]
    },
    {
     "name": "stdout",
     "output_type": "stream",
     "text": [
      "[INFO] [2021-10-31 15:55:35,149] [OpenBox-Shadan] Iteration 150, objective value: [37.41869659218177].\n"
     ]
    },
    {
     "name": "stderr",
     "output_type": "stream",
     "text": [
      "\r",
      " 15%|█▌        | 150/1000 [1:31:48<8:35:46, 36.41s/it]"
     ]
    },
    {
     "name": "stdout",
     "output_type": "stream",
     "text": [
      "[INFO] [2021-10-31 15:56:09,936] [OpenBox-Shadan] Iteration 151, objective value: [49.64123898678425].\n"
     ]
    },
    {
     "name": "stderr",
     "output_type": "stream",
     "text": [
      "\r",
      " 15%|█▌        | 151/1000 [1:32:23<8:28:17, 35.92s/it]"
     ]
    },
    {
     "name": "stdout",
     "output_type": "stream",
     "text": [
      "[INFO] [2021-10-31 15:56:45,573] [OpenBox-Shadan] Iteration 152, objective value: [42.11863957148163].\n"
     ]
    },
    {
     "name": "stderr",
     "output_type": "stream",
     "text": [
      "\r",
      " 15%|█▌        | 152/1000 [1:32:59<8:26:29, 35.84s/it]"
     ]
    },
    {
     "name": "stdout",
     "output_type": "stream",
     "text": [
      "[INFO] [2021-10-31 15:57:21,813] [OpenBox-Shadan] Iteration 153, objective value: [40.25920186399634].\n"
     ]
    },
    {
     "name": "stderr",
     "output_type": "stream",
     "text": [
      "\r",
      " 15%|█▌        | 153/1000 [1:33:35<8:27:36, 35.96s/it]"
     ]
    },
    {
     "name": "stdout",
     "output_type": "stream",
     "text": [
      "[INFO] [2021-10-31 15:57:57,604] [OpenBox-Shadan] Iteration 154, objective value: [52.62815643440034].\n"
     ]
    },
    {
     "name": "stderr",
     "output_type": "stream",
     "text": [
      "\r",
      " 15%|█▌        | 154/1000 [1:34:11<8:26:17, 35.91s/it]"
     ]
    },
    {
     "name": "stdout",
     "output_type": "stream",
     "text": [
      "[INFO] [2021-10-31 15:58:30,043] [OpenBox-Shadan] Iteration 155, objective value: [57.65972816014422].\n"
     ]
    },
    {
     "name": "stderr",
     "output_type": "stream",
     "text": [
      "\r",
      " 16%|█▌        | 155/1000 [1:34:43<8:11:02, 34.87s/it]"
     ]
    },
    {
     "name": "stdout",
     "output_type": "stream",
     "text": [
      "[INFO] [2021-10-31 15:59:06,087] [OpenBox-Shadan] Iteration 156, objective value: [58.88517801676918].\n"
     ]
    },
    {
     "name": "stderr",
     "output_type": "stream",
     "text": [
      "\r",
      " 16%|█▌        | 156/1000 [1:35:19<8:15:25, 35.22s/it]"
     ]
    },
    {
     "name": "stdout",
     "output_type": "stream",
     "text": [
      "[INFO] [2021-10-31 15:59:39,003] [OpenBox-Shadan] Iteration 157, objective value: [40.043711345261826].\n"
     ]
    },
    {
     "name": "stderr",
     "output_type": "stream",
     "text": [
      "\r",
      " 16%|█▌        | 157/1000 [1:35:52<8:05:07, 34.53s/it]"
     ]
    },
    {
     "name": "stdout",
     "output_type": "stream",
     "text": [
      "[INFO] [2021-10-31 16:00:09,005] [OpenBox-Shadan] Iteration 158, objective value: [61.61167724049399].\n"
     ]
    },
    {
     "name": "stderr",
     "output_type": "stream",
     "text": [
      "\r",
      " 16%|█▌        | 158/1000 [1:36:22<7:45:29, 33.17s/it]"
     ]
    },
    {
     "name": "stdout",
     "output_type": "stream",
     "text": [
      "[INFO] [2021-10-31 16:00:42,801] [OpenBox-Shadan] Iteration 159, objective value: [40.73550829064472].\n"
     ]
    },
    {
     "name": "stderr",
     "output_type": "stream",
     "text": [
      "\r",
      " 16%|█▌        | 159/1000 [1:36:56<7:47:34, 33.36s/it]"
     ]
    },
    {
     "name": "stdout",
     "output_type": "stream",
     "text": [
      "[INFO] [2021-10-31 16:01:22,038] [OpenBox-Shadan] Iteration 160, objective value: [44.917448576021044].\n"
     ]
    },
    {
     "name": "stderr",
     "output_type": "stream",
     "text": [
      "\r",
      " 16%|█▌        | 160/1000 [1:37:35<8:11:42, 35.12s/it]"
     ]
    },
    {
     "name": "stdout",
     "output_type": "stream",
     "text": [
      "[INFO] [2021-10-31 16:01:54,635] [OpenBox-Shadan] Iteration 161, objective value: [55.518707414249356].\n"
     ]
    },
    {
     "name": "stderr",
     "output_type": "stream",
     "text": [
      "\r",
      " 16%|█▌        | 161/1000 [1:38:08<8:00:31, 34.36s/it]"
     ]
    },
    {
     "name": "stdout",
     "output_type": "stream",
     "text": [
      "[INFO] [2021-10-31 16:02:31,856] [OpenBox-Shadan] Iteration 162, objective value: [45.16759599322946].\n"
     ]
    },
    {
     "name": "stderr",
     "output_type": "stream",
     "text": [
      "\r",
      " 16%|█▌        | 162/1000 [1:38:45<8:11:55, 35.22s/it]"
     ]
    },
    {
     "name": "stdout",
     "output_type": "stream",
     "text": [
      "[INFO] [2021-10-31 16:03:12,426] [OpenBox-Shadan] Iteration 163, objective value: [49.53244207927996].\n"
     ]
    },
    {
     "name": "stderr",
     "output_type": "stream",
     "text": [
      "\r",
      " 16%|█▋        | 163/1000 [1:39:26<8:33:43, 36.83s/it]"
     ]
    },
    {
     "name": "stdout",
     "output_type": "stream",
     "text": [
      "[INFO] [2021-10-31 16:03:52,000] [OpenBox-Shadan] Iteration 164, objective value: [41.74218836345528].\n"
     ]
    },
    {
     "name": "stderr",
     "output_type": "stream",
     "text": [
      "\r",
      " 16%|█▋        | 164/1000 [1:40:05<8:44:35, 37.65s/it]"
     ]
    },
    {
     "name": "stdout",
     "output_type": "stream",
     "text": [
      "[INFO] [2021-10-31 16:04:26,552] [OpenBox-Shadan] Iteration 165, objective value: [54.09161868495834].\n"
     ]
    },
    {
     "name": "stderr",
     "output_type": "stream",
     "text": [
      "\r",
      " 16%|█▋        | 165/1000 [1:40:40<8:31:01, 36.72s/it]"
     ]
    },
    {
     "name": "stdout",
     "output_type": "stream",
     "text": [
      "[INFO] [2021-10-31 16:05:05,187] [OpenBox-Shadan] Iteration 166, objective value: [46.87337675643668].\n"
     ]
    },
    {
     "name": "stderr",
     "output_type": "stream",
     "text": [
      "\r",
      " 17%|█▋        | 166/1000 [1:41:18<8:38:24, 37.29s/it]"
     ]
    },
    {
     "name": "stdout",
     "output_type": "stream",
     "text": [
      "[INFO] [2021-10-31 16:05:38,727] [OpenBox-Shadan] Iteration 167, objective value: [42.2540396321043].\n"
     ]
    },
    {
     "name": "stderr",
     "output_type": "stream",
     "text": [
      "\r",
      " 17%|█▋        | 167/1000 [1:41:52<8:22:08, 36.17s/it]"
     ]
    },
    {
     "name": "stdout",
     "output_type": "stream",
     "text": [
      "[INFO] [2021-10-31 16:06:10,861] [OpenBox-Shadan] Iteration 168, objective value: [41.71248507463997].\n"
     ]
    },
    {
     "name": "stderr",
     "output_type": "stream",
     "text": [
      "\r",
      " 17%|█▋        | 168/1000 [1:42:24<8:04:45, 34.96s/it]"
     ]
    },
    {
     "name": "stdout",
     "output_type": "stream",
     "text": [
      "[INFO] [2021-10-31 16:06:43,560] [OpenBox-Shadan] Iteration 169, objective value: [48.346478792805556].\n"
     ]
    },
    {
     "name": "stderr",
     "output_type": "stream",
     "text": [
      "\r",
      " 17%|█▋        | 169/1000 [1:42:57<7:54:47, 34.28s/it]"
     ]
    },
    {
     "name": "stdout",
     "output_type": "stream",
     "text": [
      "[INFO] [2021-10-31 16:07:24,516] [OpenBox-Shadan] Iteration 170, objective value: [52.02185010278518].\n"
     ]
    },
    {
     "name": "stderr",
     "output_type": "stream",
     "text": [
      "\r",
      " 17%|█▋        | 170/1000 [1:43:38<8:21:54, 36.28s/it]"
     ]
    },
    {
     "name": "stdout",
     "output_type": "stream",
     "text": [
      "[INFO] [2021-10-31 16:07:59,829] [OpenBox-Shadan] Iteration 171, objective value: [33.419404762850505].\n"
     ]
    },
    {
     "name": "stderr",
     "output_type": "stream",
     "text": [
      "\r",
      " 17%|█▋        | 171/1000 [1:44:13<8:17:17, 35.99s/it]"
     ]
    },
    {
     "name": "stdout",
     "output_type": "stream",
     "text": [
      "[INFO] [2021-10-31 16:08:32,263] [OpenBox-Shadan] Iteration 172, objective value: [39.600439059269].\n"
     ]
    },
    {
     "name": "stderr",
     "output_type": "stream",
     "text": [
      "\r",
      " 17%|█▋        | 172/1000 [1:44:45<8:01:57, 34.92s/it]"
     ]
    },
    {
     "name": "stdout",
     "output_type": "stream",
     "text": [
      "[INFO] [2021-10-31 16:09:06,520] [OpenBox-Shadan] Iteration 173, objective value: [28.40965705666474].\n"
     ]
    },
    {
     "name": "stderr",
     "output_type": "stream",
     "text": [
      "\r",
      " 17%|█▋        | 173/1000 [1:45:20<7:58:37, 34.72s/it]"
     ]
    },
    {
     "name": "stdout",
     "output_type": "stream",
     "text": [
      "[INFO] [2021-10-31 16:09:40,285] [OpenBox-Shadan] Iteration 174, objective value: [48.38445497135502].\n"
     ]
    },
    {
     "name": "stderr",
     "output_type": "stream",
     "text": [
      "\r",
      " 17%|█▋        | 174/1000 [1:45:54<7:54:04, 34.44s/it]"
     ]
    },
    {
     "name": "stdout",
     "output_type": "stream",
     "text": [
      "[INFO] [2021-10-31 16:10:13,057] [OpenBox-Shadan] Iteration 175, objective value: [35.45401342758964].\n"
     ]
    },
    {
     "name": "stderr",
     "output_type": "stream",
     "text": [
      "\r",
      " 18%|█▊        | 175/1000 [1:46:26<7:46:38, 33.94s/it]"
     ]
    },
    {
     "name": "stdout",
     "output_type": "stream",
     "text": [
      "[INFO] [2021-10-31 16:10:49,951] [OpenBox-Shadan] Iteration 176, objective value: [56.22163069797049].\n"
     ]
    },
    {
     "name": "stderr",
     "output_type": "stream",
     "text": [
      "\r",
      " 18%|█▊        | 176/1000 [1:47:03<7:58:15, 34.82s/it]"
     ]
    },
    {
     "name": "stdout",
     "output_type": "stream",
     "text": [
      "[INFO] [2021-10-31 16:11:21,966] [OpenBox-Shadan] Iteration 177, objective value: [45.20694926734474].\n"
     ]
    },
    {
     "name": "stderr",
     "output_type": "stream",
     "text": [
      "\r",
      " 18%|█▊        | 177/1000 [1:47:35<7:46:06, 33.98s/it]"
     ]
    },
    {
     "name": "stdout",
     "output_type": "stream",
     "text": [
      "[INFO] [2021-10-31 16:11:55,060] [OpenBox-Shadan] Iteration 178, objective value: [32.64293391345612].\n"
     ]
    },
    {
     "name": "stderr",
     "output_type": "stream",
     "text": [
      "\r",
      " 18%|█▊        | 178/1000 [1:48:08<7:41:54, 33.72s/it]"
     ]
    },
    {
     "name": "stdout",
     "output_type": "stream",
     "text": [
      "[INFO] [2021-10-31 16:12:31,936] [OpenBox-Shadan] Iteration 179, objective value: [43.2937965498972].\n"
     ]
    },
    {
     "name": "stderr",
     "output_type": "stream",
     "text": [
      "\r",
      " 18%|█▊        | 179/1000 [1:48:45<7:54:18, 34.66s/it]"
     ]
    },
    {
     "name": "stdout",
     "output_type": "stream",
     "text": [
      "[INFO] [2021-10-31 16:13:11,746] [OpenBox-Shadan] Iteration 180, objective value: [43.925239642516686].\n"
     ]
    },
    {
     "name": "stderr",
     "output_type": "stream",
     "text": [
      "\r",
      " 18%|█▊        | 180/1000 [1:49:25<8:14:50, 36.21s/it]"
     ]
    },
    {
     "name": "stdout",
     "output_type": "stream",
     "text": [
      "[INFO] [2021-10-31 16:13:46,613] [OpenBox-Shadan] Iteration 181, objective value: [29.891856722368544].\n"
     ]
    },
    {
     "name": "stderr",
     "output_type": "stream",
     "text": [
      "\r",
      " 18%|█▊        | 181/1000 [1:50:00<8:08:44, 35.81s/it]"
     ]
    },
    {
     "name": "stdout",
     "output_type": "stream",
     "text": [
      "[INFO] [2021-10-31 16:14:22,486] [OpenBox-Shadan] Iteration 182, objective value: [35.3376678828613].\n"
     ]
    },
    {
     "name": "stderr",
     "output_type": "stream",
     "text": [
      "\r",
      " 18%|█▊        | 182/1000 [1:50:36<8:08:25, 35.83s/it]"
     ]
    },
    {
     "name": "stdout",
     "output_type": "stream",
     "text": [
      "[INFO] [2021-10-31 16:14:57,849] [OpenBox-Shadan] Iteration 183, objective value: [48.0583761794033].\n"
     ]
    },
    {
     "name": "stderr",
     "output_type": "stream",
     "text": [
      "\r",
      " 18%|█▊        | 183/1000 [1:51:11<8:05:56, 35.69s/it]"
     ]
    },
    {
     "name": "stdout",
     "output_type": "stream",
     "text": [
      "[INFO] [2021-10-31 16:15:33,736] [OpenBox-Shadan] Iteration 184, objective value: [53.05187991608227].\n"
     ]
    },
    {
     "name": "stderr",
     "output_type": "stream",
     "text": [
      "\r",
      " 18%|█▊        | 184/1000 [1:51:47<8:06:09, 35.75s/it]"
     ]
    },
    {
     "name": "stdout",
     "output_type": "stream",
     "text": [
      "[INFO] [2021-10-31 16:16:05,762] [OpenBox-Shadan] Iteration 185, objective value: [32.316039899294].\n"
     ]
    },
    {
     "name": "stderr",
     "output_type": "stream",
     "text": [
      "\r",
      " 18%|█▊        | 185/1000 [1:52:19<7:50:24, 34.63s/it]"
     ]
    },
    {
     "name": "stdout",
     "output_type": "stream",
     "text": [
      "[INFO] [2021-10-31 16:16:40,552] [OpenBox-Shadan] Iteration 186, objective value: [49.8334066203017].\n"
     ]
    },
    {
     "name": "stderr",
     "output_type": "stream",
     "text": [
      "\r",
      " 19%|█▊        | 186/1000 [1:52:54<7:50:28, 34.68s/it]"
     ]
    },
    {
     "name": "stdout",
     "output_type": "stream",
     "text": [
      "[INFO] [2021-10-31 16:17:14,270] [OpenBox-Shadan] Iteration 187, objective value: [56.90706051777663].\n"
     ]
    },
    {
     "name": "stderr",
     "output_type": "stream",
     "text": [
      "\r",
      " 19%|█▊        | 187/1000 [1:53:28<7:45:59, 34.39s/it]"
     ]
    },
    {
     "name": "stdout",
     "output_type": "stream",
     "text": [
      "[INFO] [2021-10-31 16:17:51,916] [OpenBox-Shadan] Iteration 188, objective value: [47.900839093395156].\n"
     ]
    },
    {
     "name": "stderr",
     "output_type": "stream",
     "text": [
      "\r",
      " 19%|█▉        | 188/1000 [1:54:05<7:58:37, 35.37s/it]"
     ]
    },
    {
     "name": "stdout",
     "output_type": "stream",
     "text": [
      "[INFO] [2021-10-31 16:18:28,777] [OpenBox-Shadan] Iteration 189, objective value: [46.869988127865824].\n"
     ]
    },
    {
     "name": "stderr",
     "output_type": "stream",
     "text": [
      "\r",
      " 19%|█▉        | 189/1000 [1:54:42<8:04:05, 35.82s/it]"
     ]
    },
    {
     "name": "stdout",
     "output_type": "stream",
     "text": [
      "[INFO] [2021-10-31 16:19:03,306] [OpenBox-Shadan] Iteration 190, objective value: [39.29878967470106].\n"
     ]
    },
    {
     "name": "stderr",
     "output_type": "stream",
     "text": [
      "\r",
      " 19%|█▉        | 190/1000 [1:55:17<7:58:17, 35.43s/it]"
     ]
    },
    {
     "name": "stdout",
     "output_type": "stream",
     "text": [
      "[INFO] [2021-10-31 16:19:39,359] [OpenBox-Shadan] Iteration 191, objective value: [39.62812889162577].\n"
     ]
    },
    {
     "name": "stderr",
     "output_type": "stream",
     "text": [
      "\r",
      " 19%|█▉        | 191/1000 [1:55:53<8:00:13, 35.62s/it]"
     ]
    },
    {
     "name": "stdout",
     "output_type": "stream",
     "text": [
      "[INFO] [2021-10-31 16:20:15,486] [OpenBox-Shadan] Iteration 192, objective value: [27.26439366274343].\n"
     ]
    },
    {
     "name": "stderr",
     "output_type": "stream",
     "text": [
      "\r",
      " 19%|█▉        | 192/1000 [1:56:29<8:01:41, 35.77s/it]"
     ]
    },
    {
     "name": "stdout",
     "output_type": "stream",
     "text": [
      "[INFO] [2021-10-31 16:20:54,666] [OpenBox-Shadan] Iteration 193, objective value: [31.835364148975728].\n"
     ]
    },
    {
     "name": "stderr",
     "output_type": "stream",
     "text": [
      "\r",
      " 19%|█▉        | 193/1000 [1:57:08<8:14:51, 36.79s/it]"
     ]
    },
    {
     "name": "stdout",
     "output_type": "stream",
     "text": [
      "[INFO] [2021-10-31 16:21:26,863] [OpenBox-Shadan] Iteration 194, objective value: [51.240915150614455].\n"
     ]
    },
    {
     "name": "stderr",
     "output_type": "stream",
     "text": [
      "\r",
      " 19%|█▉        | 194/1000 [1:57:40<7:55:43, 35.41s/it]"
     ]
    },
    {
     "name": "stdout",
     "output_type": "stream",
     "text": [
      "[INFO] [2021-10-31 16:22:02,863] [OpenBox-Shadan] Iteration 195, objective value: [22.71777696243305].\n"
     ]
    },
    {
     "name": "stderr",
     "output_type": "stream",
     "text": [
      "\r",
      " 20%|█▉        | 195/1000 [1:58:16<7:57:29, 35.59s/it]"
     ]
    },
    {
     "name": "stdout",
     "output_type": "stream",
     "text": [
      "[INFO] [2021-10-31 16:22:38,295] [OpenBox-Shadan] Iteration 196, objective value: [36.85043425811612].\n"
     ]
    },
    {
     "name": "stderr",
     "output_type": "stream",
     "text": [
      "\r",
      " 20%|█▉        | 196/1000 [1:58:52<7:56:16, 35.54s/it]"
     ]
    },
    {
     "name": "stdout",
     "output_type": "stream",
     "text": [
      "[INFO] [2021-10-31 16:23:14,677] [OpenBox-Shadan] Iteration 197, objective value: [32.42904544822822].\n"
     ]
    },
    {
     "name": "stderr",
     "output_type": "stream",
     "text": [
      "\r",
      " 20%|█▉        | 197/1000 [1:59:28<7:59:02, 35.79s/it]"
     ]
    },
    {
     "name": "stdout",
     "output_type": "stream",
     "text": [
      "[INFO] [2021-10-31 16:23:49,151] [OpenBox-Shadan] Iteration 198, objective value: [33.9340770476433].\n"
     ]
    },
    {
     "name": "stderr",
     "output_type": "stream",
     "text": [
      "\r",
      " 20%|█▉        | 198/1000 [2:00:02<7:53:09, 35.40s/it]"
     ]
    },
    {
     "name": "stdout",
     "output_type": "stream",
     "text": [
      "[INFO] [2021-10-31 16:24:26,283] [OpenBox-Shadan] Iteration 199, objective value: [28.26648560465803].\n"
     ]
    },
    {
     "name": "stderr",
     "output_type": "stream",
     "text": [
      "\r",
      " 20%|█▉        | 199/1000 [2:00:40<7:59:30, 35.92s/it]"
     ]
    },
    {
     "name": "stdout",
     "output_type": "stream",
     "text": [
      "[INFO] [2021-10-31 16:24:58,411] [OpenBox-Shadan] Iteration 200, objective value: [42.619651184732696].\n"
     ]
    },
    {
     "name": "stderr",
     "output_type": "stream",
     "text": [
      "\r",
      " 20%|██        | 200/1000 [2:01:12<7:43:44, 34.78s/it]"
     ]
    },
    {
     "name": "stdout",
     "output_type": "stream",
     "text": [
      "[INFO] [2021-10-31 16:25:32,581] [OpenBox-Shadan] Iteration 201, objective value: [38.346774236290045].\n"
     ]
    },
    {
     "name": "stderr",
     "output_type": "stream",
     "text": [
      "\r",
      " 20%|██        | 201/1000 [2:01:46<7:40:43, 34.60s/it]"
     ]
    },
    {
     "name": "stdout",
     "output_type": "stream",
     "text": [
      "[INFO] [2021-10-31 16:26:04,226] [OpenBox-Shadan] Iteration 202, objective value: [39.157969110513335].\n"
     ]
    },
    {
     "name": "stderr",
     "output_type": "stream",
     "text": [
      "\r",
      " 20%|██        | 202/1000 [2:02:17<7:28:22, 33.71s/it]"
     ]
    },
    {
     "name": "stdout",
     "output_type": "stream",
     "text": [
      "[INFO] [2021-10-31 16:26:44,413] [OpenBox-Shadan] Iteration 203, objective value: [35.43663446021482].\n"
     ]
    },
    {
     "name": "stderr",
     "output_type": "stream",
     "text": [
      "\r",
      " 20%|██        | 203/1000 [2:02:58<7:53:36, 35.65s/it]"
     ]
    },
    {
     "name": "stdout",
     "output_type": "stream",
     "text": [
      "[INFO] [2021-10-31 16:27:20,532] [OpenBox-Shadan] Iteration 204, objective value: [55.62504430293585].\n"
     ]
    },
    {
     "name": "stderr",
     "output_type": "stream",
     "text": [
      "\r",
      " 20%|██        | 204/1000 [2:03:34<7:54:51, 35.79s/it]"
     ]
    },
    {
     "name": "stdout",
     "output_type": "stream",
     "text": [
      "[INFO] [2021-10-31 16:27:52,772] [OpenBox-Shadan] Iteration 205, objective value: [41.72476738835823].\n"
     ]
    },
    {
     "name": "stderr",
     "output_type": "stream",
     "text": [
      "\r",
      " 20%|██        | 205/1000 [2:04:06<7:40:08, 34.73s/it]"
     ]
    },
    {
     "name": "stdout",
     "output_type": "stream",
     "text": [
      "[INFO] [2021-10-31 16:28:26,961] [OpenBox-Shadan] Iteration 206, objective value: [52.11326414234471].\n"
     ]
    },
    {
     "name": "stderr",
     "output_type": "stream",
     "text": [
      "\r",
      " 21%|██        | 206/1000 [2:04:40<7:37:25, 34.57s/it]"
     ]
    },
    {
     "name": "stdout",
     "output_type": "stream",
     "text": [
      "[INFO] [2021-10-31 16:29:03,696] [OpenBox-Shadan] Iteration 207, objective value: [47.332327817289666].\n"
     ]
    },
    {
     "name": "stderr",
     "output_type": "stream",
     "text": [
      "\r",
      " 21%|██        | 207/1000 [2:05:17<7:45:26, 35.22s/it]"
     ]
    },
    {
     "name": "stdout",
     "output_type": "stream",
     "text": [
      "[INFO] [2021-10-31 16:29:41,380] [OpenBox-Shadan] Iteration 208, objective value: [53.29597333198607].\n"
     ]
    },
    {
     "name": "stderr",
     "output_type": "stream",
     "text": [
      "\r",
      " 21%|██        | 208/1000 [2:05:55<7:54:37, 35.96s/it]"
     ]
    },
    {
     "name": "stdout",
     "output_type": "stream",
     "text": [
      "[INFO] [2021-10-31 16:30:16,730] [OpenBox-Shadan] Iteration 209, objective value: [30.779417030853907].\n"
     ]
    },
    {
     "name": "stderr",
     "output_type": "stream",
     "text": [
      "\r",
      " 21%|██        | 209/1000 [2:06:30<7:51:37, 35.77s/it]"
     ]
    },
    {
     "name": "stdout",
     "output_type": "stream",
     "text": [
      "[INFO] [2021-10-31 16:30:48,751] [OpenBox-Shadan] Iteration 210, objective value: [38.52417285292077].\n"
     ]
    },
    {
     "name": "stderr",
     "output_type": "stream",
     "text": [
      "\r",
      " 21%|██        | 210/1000 [2:07:02<7:36:12, 34.65s/it]"
     ]
    },
    {
     "name": "stdout",
     "output_type": "stream",
     "text": [
      "[INFO] [2021-10-31 16:31:24,199] [OpenBox-Shadan] Iteration 211, objective value: [40.389542240362].\n"
     ]
    },
    {
     "name": "stderr",
     "output_type": "stream",
     "text": [
      "\r",
      " 21%|██        | 211/1000 [2:07:37<7:38:47, 34.89s/it]"
     ]
    },
    {
     "name": "stdout",
     "output_type": "stream",
     "text": [
      "[INFO] [2021-10-31 16:32:00,792] [OpenBox-Shadan] Iteration 212, objective value: [29.766963072975713].\n"
     ]
    },
    {
     "name": "stderr",
     "output_type": "stream",
     "text": [
      "\r",
      " 21%|██        | 212/1000 [2:08:14<7:44:55, 35.40s/it]"
     ]
    },
    {
     "name": "stdout",
     "output_type": "stream",
     "text": [
      "[INFO] [2021-10-31 16:32:38,345] [OpenBox-Shadan] Iteration 213, objective value: [48.19574559182618].\n"
     ]
    },
    {
     "name": "stderr",
     "output_type": "stream",
     "text": [
      "\r",
      " 21%|██▏       | 213/1000 [2:08:52<7:52:48, 36.05s/it]"
     ]
    },
    {
     "name": "stdout",
     "output_type": "stream",
     "text": [
      "[INFO] [2021-10-31 16:33:17,977] [OpenBox-Shadan] Iteration 214, objective value: [53.96379504096818].\n"
     ]
    },
    {
     "name": "stderr",
     "output_type": "stream",
     "text": [
      "\r",
      " 21%|██▏       | 214/1000 [2:09:31<8:06:17, 37.12s/it]"
     ]
    },
    {
     "name": "stdout",
     "output_type": "stream",
     "text": [
      "[INFO] [2021-10-31 16:33:58,247] [OpenBox-Shadan] Iteration 215, objective value: [38.45801180432332].\n"
     ]
    },
    {
     "name": "stderr",
     "output_type": "stream",
     "text": [
      "\r",
      " 22%|██▏       | 215/1000 [2:10:11<8:18:02, 38.07s/it]"
     ]
    },
    {
     "name": "stdout",
     "output_type": "stream",
     "text": [
      "[INFO] [2021-10-31 16:34:36,481] [OpenBox-Shadan] Iteration 216, objective value: [48.124060052573356].\n"
     ]
    },
    {
     "name": "stderr",
     "output_type": "stream",
     "text": [
      "\r",
      " 22%|██▏       | 216/1000 [2:10:50<8:18:03, 38.12s/it]"
     ]
    },
    {
     "name": "stdout",
     "output_type": "stream",
     "text": [
      "[INFO] [2021-10-31 16:35:13,140] [OpenBox-Shadan] Iteration 217, objective value: [40.122614366067054].\n"
     ]
    },
    {
     "name": "stderr",
     "output_type": "stream",
     "text": [
      "\r",
      " 22%|██▏       | 217/1000 [2:11:26<8:11:42, 37.68s/it]"
     ]
    },
    {
     "name": "stdout",
     "output_type": "stream",
     "text": [
      "[INFO] [2021-10-31 16:35:47,408] [OpenBox-Shadan] Iteration 218, objective value: [40.90778962676305].\n"
     ]
    },
    {
     "name": "stderr",
     "output_type": "stream",
     "text": [
      "\r",
      " 22%|██▏       | 218/1000 [2:12:01<7:57:44, 36.66s/it]"
     ]
    },
    {
     "name": "stdout",
     "output_type": "stream",
     "text": [
      "[INFO] [2021-10-31 16:36:24,444] [OpenBox-Shadan] Iteration 219, objective value: [53.81248017380963].\n"
     ]
    },
    {
     "name": "stderr",
     "output_type": "stream",
     "text": [
      "\r",
      " 22%|██▏       | 219/1000 [2:12:38<7:58:37, 36.77s/it]"
     ]
    },
    {
     "name": "stdout",
     "output_type": "stream",
     "text": [
      "[INFO] [2021-10-31 16:36:56,578] [OpenBox-Shadan] Iteration 220, objective value: [32.77678504572248].\n"
     ]
    },
    {
     "name": "stderr",
     "output_type": "stream",
     "text": [
      "\r",
      " 22%|██▏       | 220/1000 [2:13:10<7:39:55, 35.38s/it]"
     ]
    },
    {
     "name": "stdout",
     "output_type": "stream",
     "text": [
      "[INFO] [2021-10-31 16:37:33,814] [OpenBox-Shadan] Iteration 221, objective value: [45.936605209081605].\n"
     ]
    },
    {
     "name": "stderr",
     "output_type": "stream",
     "text": [
      "\r",
      " 22%|██▏       | 221/1000 [2:13:47<7:46:34, 35.94s/it]"
     ]
    },
    {
     "name": "stdout",
     "output_type": "stream",
     "text": [
      "[INFO] [2021-10-31 16:38:07,682] [OpenBox-Shadan] Iteration 222, objective value: [47.326346685016006].\n"
     ]
    },
    {
     "name": "stderr",
     "output_type": "stream",
     "text": [
      "\r",
      " 22%|██▏       | 222/1000 [2:14:21<7:37:55, 35.32s/it]"
     ]
    },
    {
     "name": "stdout",
     "output_type": "stream",
     "text": [
      "[INFO] [2021-10-31 16:38:45,855] [OpenBox-Shadan] Iteration 223, objective value: [52.729552133920876].\n"
     ]
    },
    {
     "name": "stderr",
     "output_type": "stream",
     "text": [
      "\r",
      " 22%|██▏       | 223/1000 [2:14:59<7:48:29, 36.18s/it]"
     ]
    },
    {
     "name": "stdout",
     "output_type": "stream",
     "text": [
      "[INFO] [2021-10-31 16:39:23,682] [OpenBox-Shadan] Iteration 224, objective value: [39.96486679598799].\n"
     ]
    },
    {
     "name": "stderr",
     "output_type": "stream",
     "text": [
      "\r",
      " 22%|██▏       | 224/1000 [2:15:37<7:54:14, 36.67s/it]"
     ]
    },
    {
     "name": "stdout",
     "output_type": "stream",
     "text": [
      "[INFO] [2021-10-31 16:40:03,816] [OpenBox-Shadan] Iteration 225, objective value: [43.12502669195485].\n"
     ]
    },
    {
     "name": "stderr",
     "output_type": "stream",
     "text": [
      "\r",
      " 22%|██▎       | 225/1000 [2:16:17<8:07:03, 37.71s/it]"
     ]
    },
    {
     "name": "stdout",
     "output_type": "stream",
     "text": [
      "[INFO] [2021-10-31 16:40:34,349] [OpenBox-Shadan] Iteration 226, objective value: [52.00463527775636].\n"
     ]
    },
    {
     "name": "stderr",
     "output_type": "stream",
     "text": [
      "\r",
      " 23%|██▎       | 226/1000 [2:16:48<7:38:39, 35.56s/it]"
     ]
    },
    {
     "name": "stdout",
     "output_type": "stream",
     "text": [
      "[INFO] [2021-10-31 16:41:08,426] [OpenBox-Shadan] Iteration 227, objective value: [48.423522048216206].\n"
     ]
    },
    {
     "name": "stderr",
     "output_type": "stream",
     "text": [
      "\r",
      " 23%|██▎       | 227/1000 [2:17:22<7:32:21, 35.11s/it]"
     ]
    },
    {
     "name": "stdout",
     "output_type": "stream",
     "text": [
      "[INFO] [2021-10-31 16:41:47,028] [OpenBox-Shadan] Iteration 228, objective value: [31.34428294925587].\n"
     ]
    },
    {
     "name": "stderr",
     "output_type": "stream",
     "text": [
      "\r",
      " 23%|██▎       | 228/1000 [2:18:00<7:45:14, 36.16s/it]"
     ]
    },
    {
     "name": "stdout",
     "output_type": "stream",
     "text": [
      "[INFO] [2021-10-31 16:42:24,800] [OpenBox-Shadan] Iteration 229, objective value: [48.85010909450968].\n"
     ]
    },
    {
     "name": "stderr",
     "output_type": "stream",
     "text": [
      "\r",
      " 23%|██▎       | 229/1000 [2:18:38<7:50:51, 36.64s/it]"
     ]
    },
    {
     "name": "stdout",
     "output_type": "stream",
     "text": [
      "[INFO] [2021-10-31 16:43:07,080] [OpenBox-Shadan] Iteration 230, objective value: [49.628205024336225].\n"
     ]
    },
    {
     "name": "stderr",
     "output_type": "stream",
     "text": [
      "\r",
      " 23%|██▎       | 230/1000 [2:19:20<8:11:57, 38.33s/it]"
     ]
    },
    {
     "name": "stdout",
     "output_type": "stream",
     "text": [
      "[INFO] [2021-10-31 16:43:47,062] [OpenBox-Shadan] Iteration 231, objective value: [39.25243615874759].\n"
     ]
    },
    {
     "name": "stderr",
     "output_type": "stream",
     "text": [
      "\r",
      " 23%|██▎       | 231/1000 [2:20:00<8:17:39, 38.83s/it]"
     ]
    },
    {
     "name": "stdout",
     "output_type": "stream",
     "text": [
      "[INFO] [2021-10-31 16:44:22,278] [OpenBox-Shadan] Iteration 232, objective value: [27.712226107648902].\n"
     ]
    },
    {
     "name": "stderr",
     "output_type": "stream",
     "text": [
      "\r",
      " 23%|██▎       | 232/1000 [2:20:36<8:03:07, 37.74s/it]"
     ]
    },
    {
     "name": "stdout",
     "output_type": "stream",
     "text": [
      "[INFO] [2021-10-31 16:44:56,203] [OpenBox-Shadan] Iteration 233, objective value: [38.7374890984176].\n"
     ]
    },
    {
     "name": "stderr",
     "output_type": "stream",
     "text": [
      "\r",
      " 23%|██▎       | 233/1000 [2:21:09<7:47:51, 36.60s/it]"
     ]
    },
    {
     "name": "stdout",
     "output_type": "stream",
     "text": [
      "[INFO] [2021-10-31 16:45:31,545] [OpenBox-Shadan] Iteration 234, objective value: [48.66258826326965].\n"
     ]
    },
    {
     "name": "stderr",
     "output_type": "stream",
     "text": [
      "\r",
      " 23%|██▎       | 234/1000 [2:21:45<7:42:25, 36.22s/it]"
     ]
    },
    {
     "name": "stdout",
     "output_type": "stream",
     "text": [
      "[INFO] [2021-10-31 16:46:06,498] [OpenBox-Shadan] Iteration 235, objective value: [28.986290439230416].\n"
     ]
    },
    {
     "name": "stderr",
     "output_type": "stream",
     "text": [
      "\r",
      " 24%|██▎       | 235/1000 [2:22:20<7:36:58, 35.84s/it]"
     ]
    },
    {
     "name": "stdout",
     "output_type": "stream",
     "text": [
      "[INFO] [2021-10-31 16:46:43,815] [OpenBox-Shadan] Iteration 236, objective value: [45.647069011771414].\n"
     ]
    },
    {
     "name": "stderr",
     "output_type": "stream",
     "text": [
      "\r",
      " 24%|██▎       | 236/1000 [2:22:57<7:42:01, 36.28s/it]"
     ]
    },
    {
     "name": "stdout",
     "output_type": "stream",
     "text": [
      "[INFO] [2021-10-31 16:47:18,626] [OpenBox-Shadan] Iteration 237, objective value: [31.4137220695727].\n"
     ]
    },
    {
     "name": "stderr",
     "output_type": "stream",
     "text": [
      "\r",
      " 24%|██▎       | 237/1000 [2:23:32<7:35:47, 35.84s/it]"
     ]
    },
    {
     "name": "stdout",
     "output_type": "stream",
     "text": [
      "[INFO] [2021-10-31 16:47:54,315] [OpenBox-Shadan] Iteration 238, objective value: [27.144449658955608].\n"
     ]
    },
    {
     "name": "stderr",
     "output_type": "stream",
     "text": [
      "\r",
      " 24%|██▍       | 238/1000 [2:24:08<7:34:36, 35.80s/it]"
     ]
    },
    {
     "name": "stdout",
     "output_type": "stream",
     "text": [
      "[INFO] [2021-10-31 16:48:25,542] [OpenBox-Shadan] Iteration 239, objective value: [32.0311921828518].\n"
     ]
    },
    {
     "name": "stderr",
     "output_type": "stream",
     "text": [
      "\r",
      " 24%|██▍       | 239/1000 [2:24:39<7:16:37, 34.43s/it]"
     ]
    },
    {
     "name": "stdout",
     "output_type": "stream",
     "text": [
      "[INFO] [2021-10-31 16:49:02,633] [OpenBox-Shadan] Iteration 240, objective value: [51.481818019112005].\n"
     ]
    },
    {
     "name": "stderr",
     "output_type": "stream",
     "text": [
      "\r",
      " 24%|██▍       | 240/1000 [2:25:16<7:26:11, 35.23s/it]"
     ]
    },
    {
     "name": "stdout",
     "output_type": "stream",
     "text": [
      "[INFO] [2021-10-31 16:49:39,478] [OpenBox-Shadan] Iteration 241, objective value: [38.10372854956397].\n"
     ]
    },
    {
     "name": "stderr",
     "output_type": "stream",
     "text": [
      "\r",
      " 24%|██▍       | 241/1000 [2:25:53<7:31:44, 35.71s/it]"
     ]
    },
    {
     "name": "stdout",
     "output_type": "stream",
     "text": [
      "[INFO] [2021-10-31 16:50:11,572] [OpenBox-Shadan] Iteration 242, objective value: [20.486999793795718].\n"
     ]
    },
    {
     "name": "stderr",
     "output_type": "stream",
     "text": [
      "\r",
      " 24%|██▍       | 242/1000 [2:26:25<7:17:26, 34.63s/it]"
     ]
    },
    {
     "name": "stdout",
     "output_type": "stream",
     "text": [
      "[INFO] [2021-10-31 16:50:49,307] [OpenBox-Shadan] Iteration 243, objective value: [48.616186504593074].\n"
     ]
    },
    {
     "name": "stderr",
     "output_type": "stream",
     "text": [
      "\r",
      " 24%|██▍       | 243/1000 [2:27:03<7:28:37, 35.56s/it]"
     ]
    },
    {
     "name": "stdout",
     "output_type": "stream",
     "text": [
      "[INFO] [2021-10-31 16:51:24,601] [OpenBox-Shadan] Iteration 244, objective value: [47.44793721730316].\n"
     ]
    },
    {
     "name": "stderr",
     "output_type": "stream",
     "text": [
      "\r",
      " 24%|██▍       | 244/1000 [2:27:38<7:27:02, 35.48s/it]"
     ]
    },
    {
     "name": "stdout",
     "output_type": "stream",
     "text": [
      "[INFO] [2021-10-31 16:51:59,603] [OpenBox-Shadan] Iteration 245, objective value: [54.25376903235297].\n"
     ]
    },
    {
     "name": "stderr",
     "output_type": "stream",
     "text": [
      "\r",
      " 24%|██▍       | 245/1000 [2:28:13<7:24:39, 35.34s/it]"
     ]
    },
    {
     "name": "stdout",
     "output_type": "stream",
     "text": [
      "[INFO] [2021-10-31 16:52:31,027] [OpenBox-Shadan] Iteration 246, objective value: [34.808594342115086].\n"
     ]
    },
    {
     "name": "stderr",
     "output_type": "stream",
     "text": [
      "\r",
      " 25%|██▍       | 246/1000 [2:28:44<7:09:18, 34.16s/it]"
     ]
    },
    {
     "name": "stdout",
     "output_type": "stream",
     "text": [
      "[INFO] [2021-10-31 16:53:08,900] [OpenBox-Shadan] Iteration 247, objective value: [41.99246964047394].\n"
     ]
    },
    {
     "name": "stderr",
     "output_type": "stream",
     "text": [
      "\r",
      " 25%|██▍       | 247/1000 [2:29:22<7:22:42, 35.28s/it]"
     ]
    },
    {
     "name": "stdout",
     "output_type": "stream",
     "text": [
      "[INFO] [2021-10-31 16:53:44,834] [OpenBox-Shadan] Iteration 248, objective value: [31.754241206079058].\n"
     ]
    },
    {
     "name": "stderr",
     "output_type": "stream",
     "text": [
      "\r",
      " 25%|██▍       | 248/1000 [2:29:58<7:24:35, 35.47s/it]"
     ]
    },
    {
     "name": "stdout",
     "output_type": "stream",
     "text": [
      "[INFO] [2021-10-31 16:54:17,149] [OpenBox-Shadan] Iteration 249, objective value: [51.81719050426433].\n"
     ]
    },
    {
     "name": "stderr",
     "output_type": "stream",
     "text": [
      "\r",
      " 25%|██▍       | 249/1000 [2:30:30<7:12:08, 34.53s/it]"
     ]
    },
    {
     "name": "stdout",
     "output_type": "stream",
     "text": [
      "[INFO] [2021-10-31 16:54:51,709] [OpenBox-Shadan] Iteration 250, objective value: [34.1490439933699].\n"
     ]
    },
    {
     "name": "stderr",
     "output_type": "stream",
     "text": [
      "\r",
      " 25%|██▌       | 250/1000 [2:31:05<7:11:42, 34.54s/it]"
     ]
    },
    {
     "name": "stdout",
     "output_type": "stream",
     "text": [
      "[INFO] [2021-10-31 16:55:28,268] [OpenBox-Shadan] Iteration 251, objective value: [35.10629156878039].\n"
     ]
    },
    {
     "name": "stderr",
     "output_type": "stream",
     "text": [
      "\r",
      " 25%|██▌       | 251/1000 [2:31:41<7:18:42, 35.14s/it]"
     ]
    },
    {
     "name": "stdout",
     "output_type": "stream",
     "text": [
      "[INFO] [2021-10-31 16:56:00,507] [OpenBox-Shadan] Iteration 252, objective value: [43.58211608678361].\n"
     ]
    },
    {
     "name": "stderr",
     "output_type": "stream",
     "text": [
      "\r",
      " 25%|██▌       | 252/1000 [2:32:14<7:07:15, 34.27s/it]"
     ]
    },
    {
     "name": "stdout",
     "output_type": "stream",
     "text": [
      "[INFO] [2021-10-31 16:56:34,937] [OpenBox-Shadan] Iteration 253, objective value: [36.69580876632161].\n"
     ]
    },
    {
     "name": "stderr",
     "output_type": "stream",
     "text": [
      "\r",
      " 25%|██▌       | 253/1000 [2:32:48<7:07:16, 34.32s/it]"
     ]
    },
    {
     "name": "stdout",
     "output_type": "stream",
     "text": [
      "[INFO] [2021-10-31 16:57:12,462] [OpenBox-Shadan] Iteration 254, objective value: [34.149426621513385].\n"
     ]
    },
    {
     "name": "stderr",
     "output_type": "stream",
     "text": [
      "\r",
      " 25%|██▌       | 254/1000 [2:33:26<7:18:39, 35.28s/it]"
     ]
    },
    {
     "name": "stdout",
     "output_type": "stream",
     "text": [
      "[INFO] [2021-10-31 16:57:44,433] [OpenBox-Shadan] Iteration 255, objective value: [32.02811876365644].\n"
     ]
    },
    {
     "name": "stderr",
     "output_type": "stream",
     "text": [
      "\r",
      " 26%|██▌       | 255/1000 [2:33:58<7:05:44, 34.29s/it]"
     ]
    },
    {
     "name": "stdout",
     "output_type": "stream",
     "text": [
      "[INFO] [2021-10-31 16:58:20,992] [OpenBox-Shadan] Iteration 256, objective value: [33.41467430813651].\n"
     ]
    },
    {
     "name": "stderr",
     "output_type": "stream",
     "text": [
      "\r",
      " 26%|██▌       | 256/1000 [2:34:34<7:13:37, 34.97s/it]"
     ]
    },
    {
     "name": "stdout",
     "output_type": "stream",
     "text": [
      "[INFO] [2021-10-31 16:58:54,764] [OpenBox-Shadan] Iteration 257, objective value: [44.96678976287838].\n"
     ]
    },
    {
     "name": "stderr",
     "output_type": "stream",
     "text": [
      "\r",
      " 26%|██▌       | 257/1000 [2:35:08<7:08:35, 34.61s/it]"
     ]
    },
    {
     "name": "stdout",
     "output_type": "stream",
     "text": [
      "[INFO] [2021-10-31 16:59:28,837] [OpenBox-Shadan] Iteration 258, objective value: [44.38341775523107].\n"
     ]
    },
    {
     "name": "stderr",
     "output_type": "stream",
     "text": [
      "\r",
      " 26%|██▌       | 258/1000 [2:35:42<7:06:01, 34.45s/it]"
     ]
    },
    {
     "name": "stdout",
     "output_type": "stream",
     "text": [
      "[INFO] [2021-10-31 17:00:06,833] [OpenBox-Shadan] Iteration 259, objective value: [53.907672762392025].\n"
     ]
    },
    {
     "name": "stderr",
     "output_type": "stream",
     "text": [
      "\r",
      " 26%|██▌       | 259/1000 [2:36:20<7:18:35, 35.51s/it]"
     ]
    },
    {
     "name": "stdout",
     "output_type": "stream",
     "text": [
      "[INFO] [2021-10-31 17:00:44,284] [OpenBox-Shadan] Iteration 260, objective value: [49.00313915245009].\n"
     ]
    },
    {
     "name": "stderr",
     "output_type": "stream",
     "text": [
      "\r",
      " 26%|██▌       | 260/1000 [2:36:58<7:25:09, 36.09s/it]"
     ]
    },
    {
     "name": "stdout",
     "output_type": "stream",
     "text": [
      "[INFO] [2021-10-31 17:01:19,411] [OpenBox-Shadan] Iteration 261, objective value: [30.17538435967306].\n"
     ]
    },
    {
     "name": "stderr",
     "output_type": "stream",
     "text": [
      "\r",
      " 26%|██▌       | 261/1000 [2:37:33<7:20:59, 35.80s/it]"
     ]
    },
    {
     "name": "stdout",
     "output_type": "stream",
     "text": [
      "[INFO] [2021-10-31 17:01:54,475] [OpenBox-Shadan] Iteration 262, objective value: [38.56630672805913].\n"
     ]
    },
    {
     "name": "stderr",
     "output_type": "stream",
     "text": [
      "\r",
      " 26%|██▌       | 262/1000 [2:38:08<7:17:39, 35.58s/it]"
     ]
    },
    {
     "name": "stdout",
     "output_type": "stream",
     "text": [
      "[INFO] [2021-10-31 17:02:32,316] [OpenBox-Shadan] Iteration 263, objective value: [40.65299416456052].\n"
     ]
    },
    {
     "name": "stderr",
     "output_type": "stream",
     "text": [
      "\r",
      " 26%|██▋       | 263/1000 [2:38:46<7:25:23, 36.26s/it]"
     ]
    },
    {
     "name": "stdout",
     "output_type": "stream",
     "text": [
      "[INFO] [2021-10-31 17:03:10,650] [OpenBox-Shadan] Iteration 264, objective value: [53.841647699638024].\n"
     ]
    },
    {
     "name": "stderr",
     "output_type": "stream",
     "text": [
      "\r",
      " 26%|██▋       | 264/1000 [2:39:24<7:32:25, 36.88s/it]"
     ]
    },
    {
     "name": "stdout",
     "output_type": "stream",
     "text": [
      "[INFO] [2021-10-31 17:03:39,956] [OpenBox-Shadan] Iteration 265, objective value: [49.41552442418139].\n"
     ]
    },
    {
     "name": "stderr",
     "output_type": "stream",
     "text": [
      "\r",
      " 26%|██▋       | 265/1000 [2:39:53<7:03:57, 34.61s/it]"
     ]
    },
    {
     "name": "stdout",
     "output_type": "stream",
     "text": [
      "[INFO] [2021-10-31 17:04:14,246] [OpenBox-Shadan] Iteration 266, objective value: [25.47121958387855].\n"
     ]
    },
    {
     "name": "stderr",
     "output_type": "stream",
     "text": [
      "\r",
      " 27%|██▋       | 266/1000 [2:40:27<7:02:12, 34.51s/it]"
     ]
    },
    {
     "name": "stdout",
     "output_type": "stream",
     "text": [
      "[INFO] [2021-10-31 17:04:50,372] [OpenBox-Shadan] Iteration 267, objective value: [37.86535467113523].\n"
     ]
    },
    {
     "name": "stderr",
     "output_type": "stream",
     "text": [
      "\r",
      " 27%|██▋       | 267/1000 [2:41:04<7:07:32, 35.00s/it]"
     ]
    },
    {
     "name": "stdout",
     "output_type": "stream",
     "text": [
      "[INFO] [2021-10-31 17:05:31,082] [OpenBox-Shadan] Iteration 268, objective value: [52.2792738085591].\n"
     ]
    },
    {
     "name": "stderr",
     "output_type": "stream",
     "text": [
      "\r",
      " 27%|██▋       | 268/1000 [2:41:44<7:27:52, 36.71s/it]"
     ]
    },
    {
     "name": "stdout",
     "output_type": "stream",
     "text": [
      "[INFO] [2021-10-31 17:06:09,895] [OpenBox-Shadan] Iteration 269, objective value: [51.20485104014995].\n"
     ]
    },
    {
     "name": "stderr",
     "output_type": "stream",
     "text": [
      "\r",
      " 27%|██▋       | 269/1000 [2:42:23<7:34:56, 37.34s/it]"
     ]
    },
    {
     "name": "stdout",
     "output_type": "stream",
     "text": [
      "[INFO] [2021-10-31 17:06:42,612] [OpenBox-Shadan] Iteration 270, objective value: [29.21098192420928].\n"
     ]
    },
    {
     "name": "stderr",
     "output_type": "stream",
     "text": [
      "\r",
      " 27%|██▋       | 270/1000 [2:42:56<7:17:26, 35.95s/it]"
     ]
    },
    {
     "name": "stdout",
     "output_type": "stream",
     "text": [
      "[INFO] [2021-10-31 17:07:17,074] [OpenBox-Shadan] Iteration 271, objective value: [32.690781353333406].\n"
     ]
    },
    {
     "name": "stderr",
     "output_type": "stream",
     "text": [
      "\r",
      " 27%|██▋       | 271/1000 [2:43:30<7:11:24, 35.51s/it]"
     ]
    },
    {
     "name": "stdout",
     "output_type": "stream",
     "text": [
      "[INFO] [2021-10-31 17:07:47,404] [OpenBox-Shadan] Iteration 272, objective value: [28.997476046125783].\n"
     ]
    },
    {
     "name": "stderr",
     "output_type": "stream",
     "text": [
      "\r",
      " 27%|██▋       | 272/1000 [2:44:01<6:51:58, 33.95s/it]"
     ]
    },
    {
     "name": "stdout",
     "output_type": "stream",
     "text": [
      "[INFO] [2021-10-31 17:08:23,150] [OpenBox-Shadan] Iteration 273, objective value: [35.54090664489431].\n"
     ]
    },
    {
     "name": "stderr",
     "output_type": "stream",
     "text": [
      "\r",
      " 27%|██▋       | 273/1000 [2:44:36<6:57:55, 34.49s/it]"
     ]
    },
    {
     "name": "stdout",
     "output_type": "stream",
     "text": [
      "[INFO] [2021-10-31 17:09:02,029] [OpenBox-Shadan] Iteration 274, objective value: [42.91400385807413].\n"
     ]
    },
    {
     "name": "stderr",
     "output_type": "stream",
     "text": [
      "\r",
      " 27%|██▋       | 274/1000 [2:45:15<7:13:16, 35.81s/it]"
     ]
    },
    {
     "name": "stdout",
     "output_type": "stream",
     "text": [
      "[INFO] [2021-10-31 17:09:41,787] [OpenBox-Shadan] Iteration 275, objective value: [41.70701128022801].\n"
     ]
    },
    {
     "name": "stderr",
     "output_type": "stream",
     "text": [
      "\r",
      " 28%|██▊       | 275/1000 [2:45:55<7:26:59, 36.99s/it]"
     ]
    },
    {
     "name": "stdout",
     "output_type": "stream",
     "text": [
      "[INFO] [2021-10-31 17:10:15,270] [OpenBox-Shadan] Iteration 276, objective value: [39.33834665855655].\n"
     ]
    },
    {
     "name": "stderr",
     "output_type": "stream",
     "text": [
      "\r",
      " 28%|██▊       | 276/1000 [2:46:29<7:13:40, 35.94s/it]"
     ]
    },
    {
     "name": "stdout",
     "output_type": "stream",
     "text": [
      "[INFO] [2021-10-31 17:10:53,331] [OpenBox-Shadan] Iteration 277, objective value: [36.273735488585636].\n"
     ]
    },
    {
     "name": "stderr",
     "output_type": "stream",
     "text": [
      "\r",
      " 28%|██▊       | 277/1000 [2:47:07<7:20:44, 36.58s/it]"
     ]
    },
    {
     "name": "stdout",
     "output_type": "stream",
     "text": [
      "[INFO] [2021-10-31 17:11:25,853] [OpenBox-Shadan] Iteration 278, objective value: [32.34944500614867].\n"
     ]
    },
    {
     "name": "stderr",
     "output_type": "stream",
     "text": [
      "\r",
      " 28%|██▊       | 278/1000 [2:47:39<7:05:29, 35.36s/it]"
     ]
    },
    {
     "name": "stdout",
     "output_type": "stream",
     "text": [
      "[INFO] [2021-10-31 17:11:59,218] [OpenBox-Shadan] Iteration 279, objective value: [52.091906820434055].\n"
     ]
    },
    {
     "name": "stderr",
     "output_type": "stream",
     "text": [
      "\r",
      " 28%|██▊       | 279/1000 [2:48:12<6:57:42, 34.76s/it]"
     ]
    },
    {
     "name": "stdout",
     "output_type": "stream",
     "text": [
      "[INFO] [2021-10-31 17:12:36,189] [OpenBox-Shadan] Iteration 280, objective value: [33.904937031413766].\n"
     ]
    },
    {
     "name": "stderr",
     "output_type": "stream",
     "text": [
      "\r",
      " 28%|██▊       | 280/1000 [2:48:49<7:05:05, 35.42s/it]"
     ]
    },
    {
     "name": "stdout",
     "output_type": "stream",
     "text": [
      "[INFO] [2021-10-31 17:13:11,862] [OpenBox-Shadan] Iteration 281, objective value: [47.65712240496923].\n"
     ]
    },
    {
     "name": "stderr",
     "output_type": "stream",
     "text": [
      "\r",
      " 28%|██▊       | 281/1000 [2:49:25<7:05:23, 35.50s/it]"
     ]
    },
    {
     "name": "stdout",
     "output_type": "stream",
     "text": [
      "[INFO] [2021-10-31 17:13:53,868] [OpenBox-Shadan] Iteration 282, objective value: [30.968103959349065].\n"
     ]
    },
    {
     "name": "stderr",
     "output_type": "stream",
     "text": [
      "\r",
      " 28%|██▊       | 282/1000 [2:50:07<7:28:09, 37.45s/it]"
     ]
    },
    {
     "name": "stdout",
     "output_type": "stream",
     "text": [
      "[INFO] [2021-10-31 17:14:26,966] [OpenBox-Shadan] Iteration 283, objective value: [42.31561188687457].\n"
     ]
    },
    {
     "name": "stderr",
     "output_type": "stream",
     "text": [
      "\r",
      " 28%|██▊       | 283/1000 [2:50:40<7:11:55, 36.14s/it]"
     ]
    },
    {
     "name": "stdout",
     "output_type": "stream",
     "text": [
      "[INFO] [2021-10-31 17:15:05,617] [OpenBox-Shadan] Iteration 284, objective value: [46.98727304068397].\n"
     ]
    },
    {
     "name": "stderr",
     "output_type": "stream",
     "text": [
      "\r",
      " 28%|██▊       | 284/1000 [2:51:19<7:20:18, 36.90s/it]"
     ]
    },
    {
     "name": "stdout",
     "output_type": "stream",
     "text": [
      "[INFO] [2021-10-31 17:15:39,462] [OpenBox-Shadan] Iteration 285, objective value: [47.24210528787045].\n"
     ]
    },
    {
     "name": "stderr",
     "output_type": "stream",
     "text": [
      "\r",
      " 28%|██▊       | 285/1000 [2:51:53<7:08:46, 35.98s/it]"
     ]
    },
    {
     "name": "stdout",
     "output_type": "stream",
     "text": [
      "[INFO] [2021-10-31 17:16:12,994] [OpenBox-Shadan] Iteration 286, objective value: [38.045935029041125].\n"
     ]
    },
    {
     "name": "stderr",
     "output_type": "stream",
     "text": [
      "\r",
      " 29%|██▊       | 286/1000 [2:52:26<6:59:25, 35.25s/it]"
     ]
    },
    {
     "name": "stdout",
     "output_type": "stream",
     "text": [
      "[INFO] [2021-10-31 17:16:50,364] [OpenBox-Shadan] Iteration 287, objective value: [33.05767277123606].\n"
     ]
    },
    {
     "name": "stderr",
     "output_type": "stream",
     "text": [
      "\r",
      " 29%|██▊       | 287/1000 [2:53:04<7:06:24, 35.88s/it]"
     ]
    },
    {
     "name": "stdout",
     "output_type": "stream",
     "text": [
      "[INFO] [2021-10-31 17:17:25,875] [OpenBox-Shadan] Iteration 288, objective value: [44.84787106418795].\n"
     ]
    },
    {
     "name": "stderr",
     "output_type": "stream",
     "text": [
      "\r",
      " 29%|██▉       | 288/1000 [2:53:39<7:04:29, 35.77s/it]"
     ]
    },
    {
     "name": "stdout",
     "output_type": "stream",
     "text": [
      "[INFO] [2021-10-31 17:17:58,829] [OpenBox-Shadan] Iteration 289, objective value: [50.030355443155976].\n"
     ]
    },
    {
     "name": "stderr",
     "output_type": "stream",
     "text": [
      "\r",
      " 29%|██▉       | 289/1000 [2:54:12<6:53:52, 34.93s/it]"
     ]
    },
    {
     "name": "stdout",
     "output_type": "stream",
     "text": [
      "[INFO] [2021-10-31 17:18:36,402] [OpenBox-Shadan] Iteration 290, objective value: [42.755616771062265].\n"
     ]
    },
    {
     "name": "stderr",
     "output_type": "stream",
     "text": [
      "\r",
      " 29%|██▉       | 290/1000 [2:54:50<7:02:41, 35.72s/it]"
     ]
    },
    {
     "name": "stdout",
     "output_type": "stream",
     "text": [
      "[INFO] [2021-10-31 17:19:14,947] [OpenBox-Shadan] Iteration 291, objective value: [32.97359346244468].\n"
     ]
    },
    {
     "name": "stderr",
     "output_type": "stream",
     "text": [
      "\r",
      " 29%|██▉       | 291/1000 [2:55:28<7:12:06, 36.57s/it]"
     ]
    },
    {
     "name": "stdout",
     "output_type": "stream",
     "text": [
      "[INFO] [2021-10-31 17:19:50,613] [OpenBox-Shadan] Iteration 292, objective value: [32.82937826164023].\n"
     ]
    },
    {
     "name": "stderr",
     "output_type": "stream",
     "text": [
      "\r",
      " 29%|██▉       | 292/1000 [2:56:04<7:08:18, 36.30s/it]"
     ]
    },
    {
     "name": "stdout",
     "output_type": "stream",
     "text": [
      "[INFO] [2021-10-31 17:20:22,172] [OpenBox-Shadan] Iteration 293, objective value: [31.03973264291882].\n"
     ]
    },
    {
     "name": "stderr",
     "output_type": "stream",
     "text": [
      "\r",
      " 29%|██▉       | 293/1000 [2:56:35<6:50:57, 34.88s/it]"
     ]
    },
    {
     "name": "stdout",
     "output_type": "stream",
     "text": [
      "[INFO] [2021-10-31 17:20:57,691] [OpenBox-Shadan] Iteration 294, objective value: [41.23747334536255].\n"
     ]
    },
    {
     "name": "stderr",
     "output_type": "stream",
     "text": [
      "\r",
      " 29%|██▉       | 294/1000 [2:57:11<6:52:38, 35.07s/it]"
     ]
    },
    {
     "name": "stdout",
     "output_type": "stream",
     "text": [
      "[INFO] [2021-10-31 17:21:35,342] [OpenBox-Shadan] Iteration 295, objective value: [49.249215404224564].\n"
     ]
    },
    {
     "name": "stderr",
     "output_type": "stream",
     "text": [
      "\r",
      " 30%|██▉       | 295/1000 [2:57:49<7:01:09, 35.84s/it]"
     ]
    },
    {
     "name": "stdout",
     "output_type": "stream",
     "text": [
      "[INFO] [2021-10-31 17:22:14,675] [OpenBox-Shadan] Iteration 296, objective value: [45.40661187037698].\n"
     ]
    },
    {
     "name": "stderr",
     "output_type": "stream",
     "text": [
      "\r",
      " 30%|██▉       | 296/1000 [2:58:28<7:12:50, 36.89s/it]"
     ]
    },
    {
     "name": "stdout",
     "output_type": "stream",
     "text": [
      "[INFO] [2021-10-31 17:22:52,910] [OpenBox-Shadan] Iteration 297, objective value: [51.79297315815721].\n"
     ]
    },
    {
     "name": "stderr",
     "output_type": "stream",
     "text": [
      "\r",
      " 30%|██▉       | 297/1000 [2:59:06<7:16:57, 37.29s/it]"
     ]
    },
    {
     "name": "stdout",
     "output_type": "stream",
     "text": [
      "[INFO] [2021-10-31 17:23:27,993] [OpenBox-Shadan] Iteration 298, objective value: [60.44769681849558].\n"
     ]
    },
    {
     "name": "stderr",
     "output_type": "stream",
     "text": [
      "\r",
      " 30%|██▉       | 298/1000 [2:59:41<7:08:34, 36.63s/it]"
     ]
    },
    {
     "name": "stdout",
     "output_type": "stream",
     "text": [
      "[INFO] [2021-10-31 17:23:56,634] [OpenBox-Shadan] Iteration 299, objective value: [49.509254535345534].\n"
     ]
    },
    {
     "name": "stderr",
     "output_type": "stream",
     "text": [
      "\r",
      " 30%|██▉       | 299/1000 [3:00:10<6:39:57, 34.23s/it]"
     ]
    },
    {
     "name": "stdout",
     "output_type": "stream",
     "text": [
      "[INFO] [2021-10-31 17:24:32,454] [OpenBox-Shadan] Iteration 300, objective value: [40.012517696536975].\n"
     ]
    },
    {
     "name": "stderr",
     "output_type": "stream",
     "text": [
      "\r",
      " 30%|███       | 300/1000 [3:00:46<6:44:56, 34.71s/it]"
     ]
    },
    {
     "name": "stdout",
     "output_type": "stream",
     "text": [
      "[INFO] [2021-10-31 17:25:09,497] [OpenBox-Shadan] Iteration 301, objective value: [37.31860893533126].\n"
     ]
    },
    {
     "name": "stderr",
     "output_type": "stream",
     "text": [
      "\r",
      " 30%|███       | 301/1000 [3:01:23<6:52:31, 35.41s/it]"
     ]
    },
    {
     "name": "stdout",
     "output_type": "stream",
     "text": [
      "[INFO] [2021-10-31 17:25:40,612] [OpenBox-Shadan] Iteration 302, objective value: [37.34477338640316].\n"
     ]
    },
    {
     "name": "stderr",
     "output_type": "stream",
     "text": [
      "\r",
      " 30%|███       | 302/1000 [3:01:54<6:36:56, 34.12s/it]"
     ]
    },
    {
     "name": "stdout",
     "output_type": "stream",
     "text": [
      "[INFO] [2021-10-31 17:26:17,670] [OpenBox-Shadan] Iteration 303, objective value: [40.04546932015556].\n"
     ]
    },
    {
     "name": "stderr",
     "output_type": "stream",
     "text": [
      "\r",
      " 30%|███       | 303/1000 [3:02:31<6:46:36, 35.00s/it]"
     ]
    },
    {
     "name": "stdout",
     "output_type": "stream",
     "text": [
      "[INFO] [2021-10-31 17:26:51,386] [OpenBox-Shadan] Iteration 304, objective value: [27.49542878544392].\n"
     ]
    },
    {
     "name": "stderr",
     "output_type": "stream",
     "text": [
      "\r",
      " 30%|███       | 304/1000 [3:03:05<6:41:32, 34.62s/it]"
     ]
    },
    {
     "name": "stdout",
     "output_type": "stream",
     "text": [
      "[INFO] [2021-10-31 17:27:26,131] [OpenBox-Shadan] Iteration 305, objective value: [21.411507693251366].\n"
     ]
    },
    {
     "name": "stderr",
     "output_type": "stream",
     "text": [
      "\r",
      " 30%|███       | 305/1000 [3:03:39<6:41:25, 34.65s/it]"
     ]
    },
    {
     "name": "stdout",
     "output_type": "stream",
     "text": [
      "[INFO] [2021-10-31 17:27:56,189] [OpenBox-Shadan] Iteration 306, objective value: [37.95339612790377].\n"
     ]
    },
    {
     "name": "stderr",
     "output_type": "stream",
     "text": [
      "\r",
      " 31%|███       | 306/1000 [3:04:09<6:24:53, 33.28s/it]"
     ]
    },
    {
     "name": "stdout",
     "output_type": "stream",
     "text": [
      "[INFO] [2021-10-31 17:28:32,606] [OpenBox-Shadan] Iteration 307, objective value: [39.467056005519275].\n"
     ]
    },
    {
     "name": "stderr",
     "output_type": "stream",
     "text": [
      "\r",
      " 31%|███       | 307/1000 [3:04:46<6:35:13, 34.22s/it]"
     ]
    },
    {
     "name": "stdout",
     "output_type": "stream",
     "text": [
      "[INFO] [2021-10-31 17:29:06,259] [OpenBox-Shadan] Iteration 308, objective value: [37.329176182856884].\n"
     ]
    },
    {
     "name": "stderr",
     "output_type": "stream",
     "text": [
      "\r",
      " 31%|███       | 308/1000 [3:05:19<6:32:41, 34.05s/it]"
     ]
    },
    {
     "name": "stdout",
     "output_type": "stream",
     "text": [
      "[INFO] [2021-10-31 17:29:39,220] [OpenBox-Shadan] Iteration 309, objective value: [30.058544011472392].\n"
     ]
    },
    {
     "name": "stderr",
     "output_type": "stream",
     "text": [
      "\r",
      " 31%|███       | 309/1000 [3:05:52<6:28:22, 33.72s/it]"
     ]
    },
    {
     "name": "stdout",
     "output_type": "stream",
     "text": [
      "[INFO] [2021-10-31 17:30:16,046] [OpenBox-Shadan] Iteration 310, objective value: [41.72951980174449].\n"
     ]
    },
    {
     "name": "stderr",
     "output_type": "stream",
     "text": [
      "\r",
      " 31%|███       | 310/1000 [3:06:29<6:38:30, 34.65s/it]"
     ]
    },
    {
     "name": "stdout",
     "output_type": "stream",
     "text": [
      "[INFO] [2021-10-31 17:30:56,376] [OpenBox-Shadan] Iteration 311, objective value: [49.16891700653269].\n"
     ]
    },
    {
     "name": "stderr",
     "output_type": "stream",
     "text": [
      "\r",
      " 31%|███       | 311/1000 [3:07:10<6:57:29, 36.36s/it]"
     ]
    },
    {
     "name": "stdout",
     "output_type": "stream",
     "text": [
      "[INFO] [2021-10-31 17:31:27,954] [OpenBox-Shadan] Iteration 312, objective value: [44.398663785885475].\n"
     ]
    },
    {
     "name": "stderr",
     "output_type": "stream",
     "text": [
      "\r",
      " 31%|███       | 312/1000 [3:07:41<6:40:27, 34.92s/it]"
     ]
    },
    {
     "name": "stdout",
     "output_type": "stream",
     "text": [
      "[INFO] [2021-10-31 17:31:58,068] [OpenBox-Shadan] Iteration 313, objective value: [36.950681973729736].\n"
     ]
    },
    {
     "name": "stderr",
     "output_type": "stream",
     "text": [
      "\r",
      " 31%|███▏      | 313/1000 [3:08:11<6:23:20, 33.48s/it]"
     ]
    },
    {
     "name": "stdout",
     "output_type": "stream",
     "text": [
      "[INFO] [2021-10-31 17:32:31,051] [OpenBox-Shadan] Iteration 314, objective value: [51.25479541847866].\n"
     ]
    },
    {
     "name": "stderr",
     "output_type": "stream",
     "text": [
      "\r",
      " 31%|███▏      | 314/1000 [3:08:44<6:21:05, 33.33s/it]"
     ]
    },
    {
     "name": "stdout",
     "output_type": "stream",
     "text": [
      "[INFO] [2021-10-31 17:33:06,484] [OpenBox-Shadan] Iteration 315, objective value: [36.36227218472513].\n"
     ]
    },
    {
     "name": "stderr",
     "output_type": "stream",
     "text": [
      "\r",
      " 32%|███▏      | 315/1000 [3:09:20<6:27:43, 33.96s/it]"
     ]
    },
    {
     "name": "stdout",
     "output_type": "stream",
     "text": [
      "[INFO] [2021-10-31 17:33:43,096] [OpenBox-Shadan] Iteration 316, objective value: [41.02400784121303].\n"
     ]
    },
    {
     "name": "stderr",
     "output_type": "stream",
     "text": [
      "\r",
      " 32%|███▏      | 316/1000 [3:09:56<6:36:13, 34.76s/it]"
     ]
    },
    {
     "name": "stdout",
     "output_type": "stream",
     "text": [
      "[INFO] [2021-10-31 17:34:16,428] [OpenBox-Shadan] Iteration 317, objective value: [28.02166862683883].\n"
     ]
    },
    {
     "name": "stderr",
     "output_type": "stream",
     "text": [
      "\r",
      " 32%|███▏      | 317/1000 [3:10:30<6:30:46, 34.33s/it]"
     ]
    },
    {
     "name": "stdout",
     "output_type": "stream",
     "text": [
      "[INFO] [2021-10-31 17:34:48,161] [OpenBox-Shadan] Iteration 318, objective value: [36.149825034213215].\n"
     ]
    },
    {
     "name": "stderr",
     "output_type": "stream",
     "text": [
      "\r",
      " 32%|███▏      | 318/1000 [3:11:01<6:21:21, 33.55s/it]"
     ]
    },
    {
     "name": "stdout",
     "output_type": "stream",
     "text": [
      "[INFO] [2021-10-31 17:35:20,823] [OpenBox-Shadan] Iteration 319, objective value: [26.560081321809278].\n"
     ]
    },
    {
     "name": "stderr",
     "output_type": "stream",
     "text": [
      "\r",
      " 32%|███▏      | 319/1000 [3:11:34<6:17:46, 33.28s/it]"
     ]
    },
    {
     "name": "stdout",
     "output_type": "stream",
     "text": [
      "[INFO] [2021-10-31 17:35:53,173] [OpenBox-Shadan] Iteration 320, objective value: [39.127179340769466].\n"
     ]
    },
    {
     "name": "stderr",
     "output_type": "stream",
     "text": [
      "\r",
      " 32%|███▏      | 320/1000 [3:12:06<6:14:02, 33.00s/it]"
     ]
    },
    {
     "name": "stdout",
     "output_type": "stream",
     "text": [
      "[INFO] [2021-10-31 17:36:26,842] [OpenBox-Shadan] Iteration 321, objective value: [28.257275140253967].\n"
     ]
    },
    {
     "name": "stderr",
     "output_type": "stream",
     "text": [
      "\r",
      " 32%|███▏      | 321/1000 [3:12:40<6:15:45, 33.20s/it]"
     ]
    },
    {
     "name": "stdout",
     "output_type": "stream",
     "text": [
      "[INFO] [2021-10-31 17:37:07,541] [OpenBox-Shadan] Iteration 322, objective value: [47.584855159954365].\n"
     ]
    },
    {
     "name": "stderr",
     "output_type": "stream",
     "text": [
      "\r",
      " 32%|███▏      | 322/1000 [3:13:21<6:40:36, 35.45s/it]"
     ]
    },
    {
     "name": "stdout",
     "output_type": "stream",
     "text": [
      "[INFO] [2021-10-31 17:37:38,929] [OpenBox-Shadan] Iteration 323, objective value: [36.50120711900035].\n"
     ]
    },
    {
     "name": "stderr",
     "output_type": "stream",
     "text": [
      "\r",
      " 32%|███▏      | 323/1000 [3:13:52<6:26:15, 34.23s/it]"
     ]
    },
    {
     "name": "stdout",
     "output_type": "stream",
     "text": [
      "[INFO] [2021-10-31 17:38:11,439] [OpenBox-Shadan] Iteration 324, objective value: [45.46131713226173].\n"
     ]
    },
    {
     "name": "stderr",
     "output_type": "stream",
     "text": [
      "\r",
      " 32%|███▏      | 324/1000 [3:14:25<6:19:51, 33.72s/it]"
     ]
    },
    {
     "name": "stdout",
     "output_type": "stream",
     "text": [
      "[INFO] [2021-10-31 17:38:45,976] [OpenBox-Shadan] Iteration 325, objective value: [37.72267653146797].\n"
     ]
    },
    {
     "name": "stderr",
     "output_type": "stream",
     "text": [
      "\r",
      " 32%|███▎      | 325/1000 [3:14:59<6:22:04, 33.96s/it]"
     ]
    },
    {
     "name": "stdout",
     "output_type": "stream",
     "text": [
      "[INFO] [2021-10-31 17:39:23,604] [OpenBox-Shadan] Iteration 326, objective value: [40.67068111433798].\n"
     ]
    },
    {
     "name": "stderr",
     "output_type": "stream",
     "text": [
      "\r",
      " 33%|███▎      | 326/1000 [3:15:37<6:33:51, 35.06s/it]"
     ]
    },
    {
     "name": "stdout",
     "output_type": "stream",
     "text": [
      "[INFO] [2021-10-31 17:40:02,560] [OpenBox-Shadan] Iteration 327, objective value: [43.18919113286287].\n"
     ]
    },
    {
     "name": "stderr",
     "output_type": "stream",
     "text": [
      "\r",
      " 33%|███▎      | 327/1000 [3:16:16<6:46:22, 36.23s/it]"
     ]
    },
    {
     "name": "stdout",
     "output_type": "stream",
     "text": [
      "[INFO] [2021-10-31 17:40:43,076] [OpenBox-Shadan] Iteration 328, objective value: [49.4920297327588].\n"
     ]
    },
    {
     "name": "stderr",
     "output_type": "stream",
     "text": [
      "\r",
      " 33%|███▎      | 328/1000 [3:16:56<7:00:10, 37.52s/it]"
     ]
    },
    {
     "name": "stdout",
     "output_type": "stream",
     "text": [
      "[INFO] [2021-10-31 17:41:20,505] [OpenBox-Shadan] Iteration 329, objective value: [35.08108382715942].\n"
     ]
    },
    {
     "name": "stderr",
     "output_type": "stream",
     "text": [
      "\r",
      " 33%|███▎      | 329/1000 [3:17:34<6:59:15, 37.49s/it]"
     ]
    },
    {
     "name": "stdout",
     "output_type": "stream",
     "text": [
      "[INFO] [2021-10-31 17:41:56,245] [OpenBox-Shadan] Iteration 330, objective value: [46.61401889231331].\n"
     ]
    },
    {
     "name": "stderr",
     "output_type": "stream",
     "text": [
      "\r",
      " 33%|███▎      | 330/1000 [3:18:09<6:52:46, 36.96s/it]"
     ]
    },
    {
     "name": "stdout",
     "output_type": "stream",
     "text": [
      "[INFO] [2021-10-31 17:42:27,946] [OpenBox-Shadan] Iteration 331, objective value: [42.29061363558688].\n"
     ]
    },
    {
     "name": "stderr",
     "output_type": "stream",
     "text": [
      "\r",
      " 33%|███▎      | 331/1000 [3:18:41<6:34:33, 35.39s/it]"
     ]
    },
    {
     "name": "stdout",
     "output_type": "stream",
     "text": [
      "[INFO] [2021-10-31 17:43:05,299] [OpenBox-Shadan] Iteration 332, objective value: [31.58321843387081].\n"
     ]
    },
    {
     "name": "stderr",
     "output_type": "stream",
     "text": [
      "\r",
      " 33%|███▎      | 332/1000 [3:19:19<6:40:31, 35.98s/it]"
     ]
    },
    {
     "name": "stdout",
     "output_type": "stream",
     "text": [
      "[INFO] [2021-10-31 17:43:40,525] [OpenBox-Shadan] Iteration 333, objective value: [38.280957082149534].\n"
     ]
    },
    {
     "name": "stderr",
     "output_type": "stream",
     "text": [
      "\r",
      " 33%|███▎      | 333/1000 [3:19:54<6:37:25, 35.75s/it]"
     ]
    },
    {
     "name": "stdout",
     "output_type": "stream",
     "text": [
      "[INFO] [2021-10-31 17:44:15,348] [OpenBox-Shadan] Iteration 334, objective value: [40.840805145645795].\n"
     ]
    },
    {
     "name": "stderr",
     "output_type": "stream",
     "text": [
      "\r",
      " 33%|███▎      | 334/1000 [3:20:29<6:33:44, 35.47s/it]"
     ]
    },
    {
     "name": "stdout",
     "output_type": "stream",
     "text": [
      "[INFO] [2021-10-31 17:44:52,072] [OpenBox-Shadan] Iteration 335, objective value: [39.4771974875989].\n"
     ]
    },
    {
     "name": "stderr",
     "output_type": "stream",
     "text": [
      "\r",
      " 34%|███▎      | 335/1000 [3:21:05<6:37:18, 35.85s/it]"
     ]
    },
    {
     "name": "stdout",
     "output_type": "stream",
     "text": [
      "[INFO] [2021-10-31 17:45:26,501] [OpenBox-Shadan] Iteration 336, objective value: [49.462309351505965].\n"
     ]
    },
    {
     "name": "stderr",
     "output_type": "stream",
     "text": [
      "\r",
      " 34%|███▎      | 336/1000 [3:21:40<6:32:00, 35.42s/it]"
     ]
    },
    {
     "name": "stdout",
     "output_type": "stream",
     "text": [
      "[INFO] [2021-10-31 17:45:57,965] [OpenBox-Shadan] Iteration 337, objective value: [38.6394273606758].\n"
     ]
    },
    {
     "name": "stderr",
     "output_type": "stream",
     "text": [
      "\r",
      " 34%|███▎      | 337/1000 [3:22:11<6:18:17, 34.23s/it]"
     ]
    },
    {
     "name": "stdout",
     "output_type": "stream",
     "text": [
      "[INFO] [2021-10-31 17:46:32,709] [OpenBox-Shadan] Iteration 338, objective value: [45.50097834943213].\n"
     ]
    },
    {
     "name": "stderr",
     "output_type": "stream",
     "text": [
      "\r",
      " 34%|███▍      | 338/1000 [3:22:46<6:19:24, 34.39s/it]"
     ]
    },
    {
     "name": "stdout",
     "output_type": "stream",
     "text": [
      "[INFO] [2021-10-31 17:47:08,294] [OpenBox-Shadan] Iteration 339, objective value: [52.132182759288135].\n"
     ]
    },
    {
     "name": "stderr",
     "output_type": "stream",
     "text": [
      "\r",
      " 34%|███▍      | 339/1000 [3:23:22<6:22:47, 34.75s/it]"
     ]
    },
    {
     "name": "stdout",
     "output_type": "stream",
     "text": [
      "[INFO] [2021-10-31 17:47:42,809] [OpenBox-Shadan] Iteration 340, objective value: [38.46751717940282].\n"
     ]
    },
    {
     "name": "stderr",
     "output_type": "stream",
     "text": [
      "\r",
      " 34%|███▍      | 340/1000 [3:23:56<6:21:26, 34.68s/it]"
     ]
    },
    {
     "name": "stdout",
     "output_type": "stream",
     "text": [
      "[INFO] [2021-10-31 17:48:17,187] [OpenBox-Shadan] Iteration 341, objective value: [37.31324051049617].\n"
     ]
    },
    {
     "name": "stderr",
     "output_type": "stream",
     "text": [
      "\r",
      " 34%|███▍      | 341/1000 [3:24:30<6:19:53, 34.59s/it]"
     ]
    },
    {
     "name": "stdout",
     "output_type": "stream",
     "text": [
      "[INFO] [2021-10-31 17:48:54,775] [OpenBox-Shadan] Iteration 342, objective value: [34.69151077634149].\n"
     ]
    },
    {
     "name": "stderr",
     "output_type": "stream",
     "text": [
      "\r",
      " 34%|███▍      | 342/1000 [3:25:08<6:29:10, 35.49s/it]"
     ]
    },
    {
     "name": "stdout",
     "output_type": "stream",
     "text": [
      "[INFO] [2021-10-31 17:49:30,023] [OpenBox-Shadan] Iteration 343, objective value: [51.70259394913099].\n"
     ]
    },
    {
     "name": "stderr",
     "output_type": "stream",
     "text": [
      "\r",
      " 34%|███▍      | 343/1000 [3:25:43<6:27:48, 35.42s/it]"
     ]
    },
    {
     "name": "stdout",
     "output_type": "stream",
     "text": [
      "[INFO] [2021-10-31 17:50:03,984] [OpenBox-Shadan] Iteration 344, objective value: [44.67779389004718].\n"
     ]
    },
    {
     "name": "stderr",
     "output_type": "stream",
     "text": [
      "\r",
      " 34%|███▍      | 344/1000 [3:26:17<6:22:26, 34.98s/it]"
     ]
    },
    {
     "name": "stdout",
     "output_type": "stream",
     "text": [
      "[INFO] [2021-10-31 17:50:32,884] [OpenBox-Shadan] Iteration 345, objective value: [30.392247339213498].\n"
     ]
    },
    {
     "name": "stderr",
     "output_type": "stream",
     "text": [
      "\r",
      " 34%|███▍      | 345/1000 [3:26:46<6:01:56, 33.16s/it]"
     ]
    },
    {
     "name": "stdout",
     "output_type": "stream",
     "text": [
      "[INFO] [2021-10-31 17:51:09,483] [OpenBox-Shadan] Iteration 346, objective value: [44.47719099721132].\n"
     ]
    },
    {
     "name": "stderr",
     "output_type": "stream",
     "text": [
      "\r",
      " 35%|███▍      | 346/1000 [3:27:23<6:12:39, 34.19s/it]"
     ]
    },
    {
     "name": "stdout",
     "output_type": "stream",
     "text": [
      "[INFO] [2021-10-31 17:51:39,484] [OpenBox-Shadan] Iteration 347, objective value: [43.02809791373184].\n"
     ]
    },
    {
     "name": "stderr",
     "output_type": "stream",
     "text": [
      "\r",
      " 35%|███▍      | 347/1000 [3:27:53<5:58:24, 32.93s/it]"
     ]
    },
    {
     "name": "stdout",
     "output_type": "stream",
     "text": [
      "[INFO] [2021-10-31 17:52:16,629] [OpenBox-Shadan] Iteration 348, objective value: [30.787259228605663].\n"
     ]
    },
    {
     "name": "stderr",
     "output_type": "stream",
     "text": [
      "\r",
      " 35%|███▍      | 348/1000 [3:28:30<6:11:35, 34.20s/it]"
     ]
    },
    {
     "name": "stdout",
     "output_type": "stream",
     "text": [
      "[INFO] [2021-10-31 17:52:52,185] [OpenBox-Shadan] Iteration 349, objective value: [33.7568700286849].\n"
     ]
    },
    {
     "name": "stderr",
     "output_type": "stream",
     "text": [
      "\r",
      " 35%|███▍      | 349/1000 [3:29:05<6:15:27, 34.60s/it]"
     ]
    },
    {
     "name": "stdout",
     "output_type": "stream",
     "text": [
      "[INFO] [2021-10-31 17:53:29,489] [OpenBox-Shadan] Iteration 350, objective value: [38.30203360947711].\n"
     ]
    },
    {
     "name": "stderr",
     "output_type": "stream",
     "text": [
      "\r",
      " 35%|███▌      | 350/1000 [3:29:43<6:23:39, 35.41s/it]"
     ]
    },
    {
     "name": "stdout",
     "output_type": "stream",
     "text": [
      "[INFO] [2021-10-31 17:54:03,995] [OpenBox-Shadan] Iteration 351, objective value: [32.3172324673898].\n"
     ]
    },
    {
     "name": "stderr",
     "output_type": "stream",
     "text": [
      "\r",
      " 35%|███▌      | 351/1000 [3:30:17<6:20:06, 35.14s/it]"
     ]
    },
    {
     "name": "stdout",
     "output_type": "stream",
     "text": [
      "[INFO] [2021-10-31 17:54:37,911] [OpenBox-Shadan] Iteration 352, objective value: [32.468678287926934].\n"
     ]
    },
    {
     "name": "stderr",
     "output_type": "stream",
     "text": [
      "\r",
      " 35%|███▌      | 352/1000 [3:30:51<6:15:33, 34.77s/it]"
     ]
    },
    {
     "name": "stdout",
     "output_type": "stream",
     "text": [
      "[INFO] [2021-10-31 17:55:14,261] [OpenBox-Shadan] Iteration 353, objective value: [32.12338421743152].\n"
     ]
    },
    {
     "name": "stderr",
     "output_type": "stream",
     "text": [
      "\r",
      " 35%|███▌      | 353/1000 [3:31:27<6:20:04, 35.25s/it]"
     ]
    },
    {
     "name": "stdout",
     "output_type": "stream",
     "text": [
      "[INFO] [2021-10-31 17:55:49,931] [OpenBox-Shadan] Iteration 354, objective value: [43.01387193747491].\n"
     ]
    },
    {
     "name": "stderr",
     "output_type": "stream",
     "text": [
      "\r",
      " 35%|███▌      | 354/1000 [3:32:03<6:20:51, 35.37s/it]"
     ]
    },
    {
     "name": "stdout",
     "output_type": "stream",
     "text": [
      "[INFO] [2021-10-31 17:56:23,111] [OpenBox-Shadan] Iteration 355, objective value: [36.257701654698536].\n"
     ]
    },
    {
     "name": "stderr",
     "output_type": "stream",
     "text": [
      "\r",
      " 36%|███▌      | 355/1000 [3:32:36<6:13:11, 34.72s/it]"
     ]
    },
    {
     "name": "stdout",
     "output_type": "stream",
     "text": [
      "[INFO] [2021-10-31 17:56:56,490] [OpenBox-Shadan] Iteration 356, objective value: [25.55333475961514].\n"
     ]
    },
    {
     "name": "stderr",
     "output_type": "stream",
     "text": [
      "\r",
      " 36%|███▌      | 356/1000 [3:33:10<6:08:18, 34.31s/it]"
     ]
    },
    {
     "name": "stdout",
     "output_type": "stream",
     "text": [
      "[INFO] [2021-10-31 17:57:31,799] [OpenBox-Shadan] Iteration 357, objective value: [44.12321071368102].\n"
     ]
    },
    {
     "name": "stderr",
     "output_type": "stream",
     "text": [
      "\r",
      " 36%|███▌      | 357/1000 [3:33:45<6:10:56, 34.61s/it]"
     ]
    },
    {
     "name": "stdout",
     "output_type": "stream",
     "text": [
      "[INFO] [2021-10-31 17:58:12,334] [OpenBox-Shadan] Iteration 358, objective value: [55.02535129115421].\n"
     ]
    },
    {
     "name": "stderr",
     "output_type": "stream",
     "text": [
      "\r",
      " 36%|███▌      | 358/1000 [3:34:26<6:29:22, 36.39s/it]"
     ]
    },
    {
     "name": "stdout",
     "output_type": "stream",
     "text": [
      "[INFO] [2021-10-31 17:58:45,557] [OpenBox-Shadan] Iteration 359, objective value: [39.6670716790456].\n"
     ]
    },
    {
     "name": "stderr",
     "output_type": "stream",
     "text": [
      "\r",
      " 36%|███▌      | 359/1000 [3:34:59<6:18:36, 35.44s/it]"
     ]
    },
    {
     "name": "stdout",
     "output_type": "stream",
     "text": [
      "[INFO] [2021-10-31 17:59:27,079] [OpenBox-Shadan] Iteration 360, objective value: [45.03668681965287].\n"
     ]
    },
    {
     "name": "stderr",
     "output_type": "stream",
     "text": [
      "\r",
      " 36%|███▌      | 360/1000 [3:35:40<6:37:29, 37.26s/it]"
     ]
    },
    {
     "name": "stdout",
     "output_type": "stream",
     "text": [
      "[INFO] [2021-10-31 18:00:05,067] [OpenBox-Shadan] Iteration 361, objective value: [35.676740028109606].\n"
     ]
    },
    {
     "name": "stderr",
     "output_type": "stream",
     "text": [
      "\r",
      " 36%|███▌      | 361/1000 [3:36:18<6:39:10, 37.48s/it]"
     ]
    },
    {
     "name": "stdout",
     "output_type": "stream",
     "text": [
      "[INFO] [2021-10-31 18:00:36,811] [OpenBox-Shadan] Iteration 362, objective value: [45.771597724960685].\n"
     ]
    },
    {
     "name": "stderr",
     "output_type": "stream",
     "text": [
      "\r",
      " 36%|███▌      | 362/1000 [3:36:50<6:20:14, 35.76s/it]"
     ]
    },
    {
     "name": "stdout",
     "output_type": "stream",
     "text": [
      "[INFO] [2021-10-31 18:01:04,137] [OpenBox-Shadan] Iteration 363, objective value: [100.0].\n"
     ]
    },
    {
     "name": "stderr",
     "output_type": "stream",
     "text": [
      "\r",
      " 36%|███▋      | 363/1000 [3:37:17<5:52:47, 33.23s/it]"
     ]
    },
    {
     "name": "stdout",
     "output_type": "stream",
     "text": [
      "[INFO] [2021-10-31 18:01:39,980] [OpenBox-Shadan] Iteration 364, objective value: [53.63411072959915].\n"
     ]
    },
    {
     "name": "stderr",
     "output_type": "stream",
     "text": [
      "\r",
      " 36%|███▋      | 364/1000 [3:37:53<6:00:32, 34.01s/it]"
     ]
    },
    {
     "name": "stdout",
     "output_type": "stream",
     "text": [
      "[INFO] [2021-10-31 18:02:14,933] [OpenBox-Shadan] Iteration 365, objective value: [47.906773574776636].\n"
     ]
    },
    {
     "name": "stderr",
     "output_type": "stream",
     "text": [
      "\r",
      " 36%|███▋      | 365/1000 [3:38:28<6:02:57, 34.30s/it]"
     ]
    },
    {
     "name": "stdout",
     "output_type": "stream",
     "text": [
      "[INFO] [2021-10-31 18:02:48,713] [OpenBox-Shadan] Iteration 366, objective value: [40.494268935284715].\n"
     ]
    },
    {
     "name": "stderr",
     "output_type": "stream",
     "text": [
      "\r",
      " 37%|███▋      | 366/1000 [3:39:02<6:00:45, 34.14s/it]"
     ]
    },
    {
     "name": "stdout",
     "output_type": "stream",
     "text": [
      "[INFO] [2021-10-31 18:03:20,071] [OpenBox-Shadan] Iteration 367, objective value: [30.852340046953472].\n"
     ]
    },
    {
     "name": "stderr",
     "output_type": "stream",
     "text": [
      "\r",
      " 37%|███▋      | 367/1000 [3:39:33<5:51:22, 33.31s/it]"
     ]
    },
    {
     "name": "stdout",
     "output_type": "stream",
     "text": [
      "[INFO] [2021-10-31 18:03:58,216] [OpenBox-Shadan] Iteration 368, objective value: [56.29684543875085].\n"
     ]
    },
    {
     "name": "stderr",
     "output_type": "stream",
     "text": [
      "\r",
      " 37%|███▋      | 368/1000 [3:40:11<6:06:06, 34.76s/it]"
     ]
    },
    {
     "name": "stdout",
     "output_type": "stream",
     "text": [
      "[INFO] [2021-10-31 18:04:31,639] [OpenBox-Shadan] Iteration 369, objective value: [35.733021649457925].\n"
     ]
    },
    {
     "name": "stderr",
     "output_type": "stream",
     "text": [
      "\r",
      " 37%|███▋      | 369/1000 [3:40:45<6:01:19, 34.36s/it]"
     ]
    },
    {
     "name": "stdout",
     "output_type": "stream",
     "text": [
      "[INFO] [2021-10-31 18:05:04,278] [OpenBox-Shadan] Iteration 370, objective value: [38.7165264782653].\n"
     ]
    },
    {
     "name": "stderr",
     "output_type": "stream",
     "text": [
      "\r",
      " 37%|███▋      | 370/1000 [3:41:18<5:55:20, 33.84s/it]"
     ]
    },
    {
     "name": "stdout",
     "output_type": "stream",
     "text": [
      "[INFO] [2021-10-31 18:05:37,403] [OpenBox-Shadan] Iteration 371, objective value: [63.14501313152454].\n"
     ]
    },
    {
     "name": "stderr",
     "output_type": "stream",
     "text": [
      "\r",
      " 37%|███▋      | 371/1000 [3:41:51<5:52:31, 33.63s/it]"
     ]
    },
    {
     "name": "stdout",
     "output_type": "stream",
     "text": [
      "[INFO] [2021-10-31 18:06:18,093] [OpenBox-Shadan] Iteration 372, objective value: [43.3614806928419].\n"
     ]
    },
    {
     "name": "stderr",
     "output_type": "stream",
     "text": [
      "\r",
      " 37%|███▋      | 372/1000 [3:42:31<6:14:08, 35.75s/it]"
     ]
    },
    {
     "name": "stdout",
     "output_type": "stream",
     "text": [
      "[INFO] [2021-10-31 18:06:50,998] [OpenBox-Shadan] Iteration 373, objective value: [49.9802818585809].\n"
     ]
    },
    {
     "name": "stderr",
     "output_type": "stream",
     "text": [
      "\r",
      " 37%|███▋      | 373/1000 [3:43:04<6:04:38, 34.89s/it]"
     ]
    },
    {
     "name": "stdout",
     "output_type": "stream",
     "text": [
      "[INFO] [2021-10-31 18:07:27,921] [OpenBox-Shadan] Iteration 374, objective value: [30.575527620727115].\n"
     ]
    },
    {
     "name": "stderr",
     "output_type": "stream",
     "text": [
      "\r",
      " 37%|███▋      | 374/1000 [3:43:41<6:10:24, 35.50s/it]"
     ]
    },
    {
     "name": "stdout",
     "output_type": "stream",
     "text": [
      "[INFO] [2021-10-31 18:08:10,771] [OpenBox-Shadan] Iteration 375, objective value: [42.25037121652312].\n"
     ]
    },
    {
     "name": "stderr",
     "output_type": "stream",
     "text": [
      "\r",
      " 38%|███▊      | 375/1000 [3:44:24<6:32:46, 37.71s/it]"
     ]
    },
    {
     "name": "stdout",
     "output_type": "stream",
     "text": [
      "[INFO] [2021-10-31 18:08:42,716] [OpenBox-Shadan] Iteration 376, objective value: [21.105358689647815].\n"
     ]
    },
    {
     "name": "stderr",
     "output_type": "stream",
     "text": [
      "\r",
      " 38%|███▊      | 376/1000 [3:44:56<6:14:10, 35.98s/it]"
     ]
    },
    {
     "name": "stdout",
     "output_type": "stream",
     "text": [
      "[INFO] [2021-10-31 18:09:19,186] [OpenBox-Shadan] Iteration 377, objective value: [41.737993585022615].\n"
     ]
    },
    {
     "name": "stderr",
     "output_type": "stream",
     "text": [
      "\r",
      " 38%|███▊      | 377/1000 [3:45:32<6:15:06, 36.13s/it]"
     ]
    },
    {
     "name": "stdout",
     "output_type": "stream",
     "text": [
      "[INFO] [2021-10-31 18:09:52,767] [OpenBox-Shadan] Iteration 378, objective value: [36.9668593129735].\n"
     ]
    },
    {
     "name": "stderr",
     "output_type": "stream",
     "text": [
      "\r",
      " 38%|███▊      | 378/1000 [3:46:06<6:06:35, 35.36s/it]"
     ]
    },
    {
     "name": "stdout",
     "output_type": "stream",
     "text": [
      "[INFO] [2021-10-31 18:10:30,480] [OpenBox-Shadan] Iteration 379, objective value: [60.49717959982486].\n"
     ]
    },
    {
     "name": "stderr",
     "output_type": "stream",
     "text": [
      "\r",
      " 38%|███▊      | 379/1000 [3:46:44<6:13:17, 36.07s/it]"
     ]
    },
    {
     "name": "stdout",
     "output_type": "stream",
     "text": [
      "[INFO] [2021-10-31 18:11:12,578] [OpenBox-Shadan] Iteration 380, objective value: [37.501905723685944].\n"
     ]
    },
    {
     "name": "stderr",
     "output_type": "stream",
     "text": [
      "\r",
      " 38%|███▊      | 380/1000 [3:47:26<6:31:23, 37.88s/it]"
     ]
    },
    {
     "name": "stdout",
     "output_type": "stream",
     "text": [
      "[INFO] [2021-10-31 18:11:48,242] [OpenBox-Shadan] Iteration 381, objective value: [33.006121725931976].\n"
     ]
    },
    {
     "name": "stderr",
     "output_type": "stream",
     "text": [
      "\r",
      " 38%|███▊      | 381/1000 [3:48:01<6:23:54, 37.21s/it]"
     ]
    },
    {
     "name": "stdout",
     "output_type": "stream",
     "text": [
      "[INFO] [2021-10-31 18:12:24,424] [OpenBox-Shadan] Iteration 382, objective value: [47.68774262018602].\n"
     ]
    },
    {
     "name": "stderr",
     "output_type": "stream",
     "text": [
      "\r",
      " 38%|███▊      | 382/1000 [3:48:38<6:20:06, 36.90s/it]"
     ]
    },
    {
     "name": "stdout",
     "output_type": "stream",
     "text": [
      "[INFO] [2021-10-31 18:13:04,516] [OpenBox-Shadan] Iteration 383, objective value: [48.58620733580803].\n"
     ]
    },
    {
     "name": "stderr",
     "output_type": "stream",
     "text": [
      "\r",
      " 38%|███▊      | 383/1000 [3:49:18<6:29:19, 37.86s/it]"
     ]
    },
    {
     "name": "stdout",
     "output_type": "stream",
     "text": [
      "[INFO] [2021-10-31 18:13:37,163] [OpenBox-Shadan] Iteration 384, objective value: [53.91370731864621].\n"
     ]
    },
    {
     "name": "stderr",
     "output_type": "stream",
     "text": [
      "\r",
      " 38%|███▊      | 384/1000 [3:49:50<6:12:38, 36.30s/it]"
     ]
    },
    {
     "name": "stdout",
     "output_type": "stream",
     "text": [
      "[INFO] [2021-10-31 18:14:19,963] [OpenBox-Shadan] Iteration 385, objective value: [38.26426580624046].\n"
     ]
    },
    {
     "name": "stderr",
     "output_type": "stream",
     "text": [
      "\r",
      " 38%|███▊      | 385/1000 [3:50:33<6:32:02, 38.25s/it]"
     ]
    },
    {
     "name": "stdout",
     "output_type": "stream",
     "text": [
      "[INFO] [2021-10-31 18:14:51,849] [OpenBox-Shadan] Iteration 386, objective value: [47.80972477267697].\n"
     ]
    },
    {
     "name": "stderr",
     "output_type": "stream",
     "text": [
      "\r",
      " 39%|███▊      | 386/1000 [3:51:05<6:11:52, 36.34s/it]"
     ]
    },
    {
     "name": "stdout",
     "output_type": "stream",
     "text": [
      "[INFO] [2021-10-31 18:15:22,263] [OpenBox-Shadan] Iteration 387, objective value: [32.20578391522824].\n"
     ]
    },
    {
     "name": "stderr",
     "output_type": "stream",
     "text": [
      "\r",
      " 39%|███▊      | 387/1000 [3:51:35<5:53:06, 34.56s/it]"
     ]
    },
    {
     "name": "stdout",
     "output_type": "stream",
     "text": [
      "[INFO] [2021-10-31 18:15:56,311] [OpenBox-Shadan] Iteration 388, objective value: [36.284138983722904].\n"
     ]
    },
    {
     "name": "stderr",
     "output_type": "stream",
     "text": [
      "\r",
      " 39%|███▉      | 388/1000 [3:52:10<5:50:57, 34.41s/it]"
     ]
    },
    {
     "name": "stdout",
     "output_type": "stream",
     "text": [
      "[INFO] [2021-10-31 18:16:37,700] [OpenBox-Shadan] Iteration 389, objective value: [47.18885273818984].\n"
     ]
    },
    {
     "name": "stderr",
     "output_type": "stream",
     "text": [
      "\r",
      " 39%|███▉      | 389/1000 [3:52:51<6:11:42, 36.50s/it]"
     ]
    },
    {
     "name": "stdout",
     "output_type": "stream",
     "text": [
      "[INFO] [2021-10-31 18:17:11,351] [OpenBox-Shadan] Iteration 390, objective value: [49.84436197961227].\n"
     ]
    },
    {
     "name": "stderr",
     "output_type": "stream",
     "text": [
      "\r",
      " 39%|███▉      | 390/1000 [3:53:25<6:02:24, 35.65s/it]"
     ]
    },
    {
     "name": "stdout",
     "output_type": "stream",
     "text": [
      "[INFO] [2021-10-31 18:17:49,593] [OpenBox-Shadan] Iteration 391, objective value: [41.90060007093466].\n"
     ]
    },
    {
     "name": "stderr",
     "output_type": "stream",
     "text": [
      "\r",
      " 39%|███▉      | 391/1000 [3:54:03<6:09:42, 36.43s/it]"
     ]
    },
    {
     "name": "stdout",
     "output_type": "stream",
     "text": [
      "[INFO] [2021-10-31 18:18:23,948] [OpenBox-Shadan] Iteration 392, objective value: [44.34871938906302].\n"
     ]
    },
    {
     "name": "stderr",
     "output_type": "stream",
     "text": [
      "\r",
      " 39%|███▉      | 392/1000 [3:54:37<6:02:48, 35.80s/it]"
     ]
    },
    {
     "name": "stdout",
     "output_type": "stream",
     "text": [
      "[INFO] [2021-10-31 18:19:02,424] [OpenBox-Shadan] Iteration 393, objective value: [48.283814330327445].\n"
     ]
    },
    {
     "name": "stderr",
     "output_type": "stream",
     "text": [
      "\r",
      " 39%|███▉      | 393/1000 [3:55:16<6:10:19, 36.61s/it]"
     ]
    },
    {
     "name": "stdout",
     "output_type": "stream",
     "text": [
      "[INFO] [2021-10-31 18:19:34,032] [OpenBox-Shadan] Iteration 394, objective value: [44.54239217287766].\n"
     ]
    },
    {
     "name": "stderr",
     "output_type": "stream",
     "text": [
      "\r",
      " 39%|███▉      | 394/1000 [3:55:47<5:54:34, 35.11s/it]"
     ]
    },
    {
     "name": "stdout",
     "output_type": "stream",
     "text": [
      "[INFO] [2021-10-31 18:20:04,005] [OpenBox-Shadan] Iteration 395, objective value: [100.0].\n"
     ]
    },
    {
     "name": "stderr",
     "output_type": "stream",
     "text": [
      "\r",
      " 40%|███▉      | 395/1000 [3:56:17<5:38:27, 33.57s/it]"
     ]
    },
    {
     "name": "stdout",
     "output_type": "stream",
     "text": [
      "[INFO] [2021-10-31 18:20:35,108] [OpenBox-Shadan] Iteration 396, objective value: [31.636546618888474].\n"
     ]
    },
    {
     "name": "stderr",
     "output_type": "stream",
     "text": [
      "\r",
      " 40%|███▉      | 396/1000 [3:56:48<5:30:27, 32.83s/it]"
     ]
    },
    {
     "name": "stdout",
     "output_type": "stream",
     "text": [
      "[INFO] [2021-10-31 18:21:13,209] [OpenBox-Shadan] Iteration 397, objective value: [34.80232619084774].\n"
     ]
    },
    {
     "name": "stderr",
     "output_type": "stream",
     "text": [
      "\r",
      " 40%|███▉      | 397/1000 [3:57:26<5:45:48, 34.41s/it]"
     ]
    },
    {
     "name": "stdout",
     "output_type": "stream",
     "text": [
      "[INFO] [2021-10-31 18:21:48,724] [OpenBox-Shadan] Iteration 398, objective value: [44.87579506391034].\n"
     ]
    },
    {
     "name": "stderr",
     "output_type": "stream",
     "text": [
      "\r",
      " 40%|███▉      | 398/1000 [3:58:02<5:48:34, 34.74s/it]"
     ]
    },
    {
     "name": "stdout",
     "output_type": "stream",
     "text": [
      "[INFO] [2021-10-31 18:22:25,759] [OpenBox-Shadan] Iteration 399, objective value: [45.141626444486604].\n"
     ]
    },
    {
     "name": "stderr",
     "output_type": "stream",
     "text": [
      "\r",
      " 40%|███▉      | 399/1000 [3:58:39<5:54:53, 35.43s/it]"
     ]
    },
    {
     "name": "stdout",
     "output_type": "stream",
     "text": [
      "[INFO] [2021-10-31 18:23:03,798] [OpenBox-Shadan] Iteration 400, objective value: [36.09527519110911].\n"
     ]
    },
    {
     "name": "stderr",
     "output_type": "stream",
     "text": [
      "\r",
      " 40%|████      | 400/1000 [3:59:17<6:02:07, 36.21s/it]"
     ]
    },
    {
     "name": "stdout",
     "output_type": "stream",
     "text": [
      "[INFO] [2021-10-31 18:23:40,622] [OpenBox-Shadan] Iteration 401, objective value: [35.85745947510112].\n"
     ]
    },
    {
     "name": "stderr",
     "output_type": "stream",
     "text": [
      "\r",
      " 40%|████      | 401/1000 [3:59:54<6:03:20, 36.40s/it]"
     ]
    },
    {
     "name": "stdout",
     "output_type": "stream",
     "text": [
      "[INFO] [2021-10-31 18:24:10,489] [OpenBox-Shadan] Iteration 402, objective value: [32.16066861503532].\n"
     ]
    },
    {
     "name": "stderr",
     "output_type": "stream",
     "text": [
      "\r",
      " 40%|████      | 402/1000 [4:00:24<5:43:13, 34.44s/it]"
     ]
    },
    {
     "name": "stdout",
     "output_type": "stream",
     "text": [
      "[INFO] [2021-10-31 18:24:48,067] [OpenBox-Shadan] Iteration 403, objective value: [45.45938148763052].\n"
     ]
    },
    {
     "name": "stderr",
     "output_type": "stream",
     "text": [
      "\r",
      " 40%|████      | 403/1000 [4:01:01<5:52:01, 35.38s/it]"
     ]
    },
    {
     "name": "stdout",
     "output_type": "stream",
     "text": [
      "[INFO] [2021-10-31 18:25:17,975] [OpenBox-Shadan] Iteration 404, objective value: [42.62661459025525].\n"
     ]
    },
    {
     "name": "stderr",
     "output_type": "stream",
     "text": [
      "\r",
      " 40%|████      | 404/1000 [4:01:31<5:35:07, 33.74s/it]"
     ]
    },
    {
     "name": "stdout",
     "output_type": "stream",
     "text": [
      "[INFO] [2021-10-31 18:25:55,839] [OpenBox-Shadan] Iteration 405, objective value: [53.28200316616834].\n"
     ]
    },
    {
     "name": "stderr",
     "output_type": "stream",
     "text": [
      "\r",
      " 40%|████      | 405/1000 [4:02:09<5:46:50, 34.98s/it]"
     ]
    },
    {
     "name": "stdout",
     "output_type": "stream",
     "text": [
      "[INFO] [2021-10-31 18:26:23,883] [OpenBox-Shadan] Iteration 406, objective value: [44.704622774151325].\n"
     ]
    },
    {
     "name": "stderr",
     "output_type": "stream",
     "text": [
      "\r",
      " 41%|████      | 406/1000 [4:02:37<5:25:40, 32.90s/it]"
     ]
    },
    {
     "name": "stdout",
     "output_type": "stream",
     "text": [
      "[INFO] [2021-10-31 18:26:55,780] [OpenBox-Shadan] Iteration 407, objective value: [20.01563975516781].\n"
     ]
    },
    {
     "name": "stderr",
     "output_type": "stream",
     "text": [
      "\r",
      " 41%|████      | 407/1000 [4:03:09<5:22:09, 32.60s/it]"
     ]
    },
    {
     "name": "stdout",
     "output_type": "stream",
     "text": [
      "[INFO] [2021-10-31 18:27:31,093] [OpenBox-Shadan] Iteration 408, objective value: [51.64531458607393].\n"
     ]
    },
    {
     "name": "stderr",
     "output_type": "stream",
     "text": [
      "\r",
      " 41%|████      | 408/1000 [4:03:44<5:29:39, 33.41s/it]"
     ]
    },
    {
     "name": "stdout",
     "output_type": "stream",
     "text": [
      "[INFO] [2021-10-31 18:28:03,399] [OpenBox-Shadan] Iteration 409, objective value: [39.71561103432381].\n"
     ]
    },
    {
     "name": "stderr",
     "output_type": "stream",
     "text": [
      "\r",
      " 41%|████      | 409/1000 [4:04:17<5:25:50, 33.08s/it]"
     ]
    },
    {
     "name": "stdout",
     "output_type": "stream",
     "text": [
      "[INFO] [2021-10-31 18:28:44,852] [OpenBox-Shadan] Iteration 410, objective value: [40.17256573921848].\n"
     ]
    },
    {
     "name": "stderr",
     "output_type": "stream",
     "text": [
      "\r",
      " 41%|████      | 410/1000 [4:04:58<5:49:59, 35.59s/it]"
     ]
    },
    {
     "name": "stdout",
     "output_type": "stream",
     "text": [
      "[INFO] [2021-10-31 18:29:14,479] [OpenBox-Shadan] Iteration 411, objective value: [35.857503566074556].\n"
     ]
    },
    {
     "name": "stderr",
     "output_type": "stream",
     "text": [
      "\r",
      " 41%|████      | 411/1000 [4:05:28<5:31:51, 33.81s/it]"
     ]
    },
    {
     "name": "stdout",
     "output_type": "stream",
     "text": [
      "[INFO] [2021-10-31 18:29:52,297] [OpenBox-Shadan] Iteration 412, objective value: [50.02173691737511].\n"
     ]
    },
    {
     "name": "stderr",
     "output_type": "stream",
     "text": [
      "\r",
      " 41%|████      | 412/1000 [4:06:06<5:43:03, 35.01s/it]"
     ]
    },
    {
     "name": "stdout",
     "output_type": "stream",
     "text": [
      "[INFO] [2021-10-31 18:30:29,303] [OpenBox-Shadan] Iteration 413, objective value: [31.822345147555865].\n"
     ]
    },
    {
     "name": "stderr",
     "output_type": "stream",
     "text": [
      "\r",
      " 41%|████▏     | 413/1000 [4:06:43<5:48:20, 35.61s/it]"
     ]
    },
    {
     "name": "stdout",
     "output_type": "stream",
     "text": [
      "[INFO] [2021-10-31 18:31:04,113] [OpenBox-Shadan] Iteration 414, objective value: [56.23268393748396].\n"
     ]
    },
    {
     "name": "stderr",
     "output_type": "stream",
     "text": [
      "\r",
      " 41%|████▏     | 414/1000 [4:07:17<5:45:25, 35.37s/it]"
     ]
    },
    {
     "name": "stdout",
     "output_type": "stream",
     "text": [
      "[INFO] [2021-10-31 18:31:35,111] [OpenBox-Shadan] Iteration 415, objective value: [30.97090604868268].\n"
     ]
    },
    {
     "name": "stderr",
     "output_type": "stream",
     "text": [
      "\r",
      " 42%|████▏     | 415/1000 [4:07:48<5:32:03, 34.06s/it]"
     ]
    },
    {
     "name": "stdout",
     "output_type": "stream",
     "text": [
      "[INFO] [2021-10-31 18:32:10,481] [OpenBox-Shadan] Iteration 416, objective value: [47.22538396288489].\n"
     ]
    },
    {
     "name": "stderr",
     "output_type": "stream",
     "text": [
      "\r",
      " 42%|████▏     | 416/1000 [4:08:24<5:35:19, 34.45s/it]"
     ]
    },
    {
     "name": "stdout",
     "output_type": "stream",
     "text": [
      "[INFO] [2021-10-31 18:32:46,267] [OpenBox-Shadan] Iteration 417, objective value: [31.12644692770988].\n"
     ]
    },
    {
     "name": "stderr",
     "output_type": "stream",
     "text": [
      "\r",
      " 42%|████▏     | 417/1000 [4:08:59<5:38:38, 34.85s/it]"
     ]
    },
    {
     "name": "stdout",
     "output_type": "stream",
     "text": [
      "[INFO] [2021-10-31 18:33:21,513] [OpenBox-Shadan] Iteration 418, objective value: [42.727806681544344].\n"
     ]
    },
    {
     "name": "stderr",
     "output_type": "stream",
     "text": [
      "\r",
      " 42%|████▏     | 418/1000 [4:09:35<5:39:12, 34.97s/it]"
     ]
    },
    {
     "name": "stdout",
     "output_type": "stream",
     "text": [
      "[INFO] [2021-10-31 18:34:00,203] [OpenBox-Shadan] Iteration 419, objective value: [46.82604073655444].\n"
     ]
    },
    {
     "name": "stderr",
     "output_type": "stream",
     "text": [
      "\r",
      " 42%|████▏     | 419/1000 [4:10:13<5:49:25, 36.09s/it]"
     ]
    },
    {
     "name": "stdout",
     "output_type": "stream",
     "text": [
      "[INFO] [2021-10-31 18:34:36,473] [OpenBox-Shadan] Iteration 420, objective value: [56.39232422007999].\n"
     ]
    },
    {
     "name": "stderr",
     "output_type": "stream",
     "text": [
      "\r",
      " 42%|████▏     | 420/1000 [4:10:50<5:49:21, 36.14s/it]"
     ]
    },
    {
     "name": "stdout",
     "output_type": "stream",
     "text": [
      "[INFO] [2021-10-31 18:35:08,956] [OpenBox-Shadan] Iteration 421, objective value: [47.43413610478113].\n"
     ]
    },
    {
     "name": "stderr",
     "output_type": "stream",
     "text": [
      "\r",
      " 42%|████▏     | 421/1000 [4:11:22<5:38:10, 35.04s/it]"
     ]
    },
    {
     "name": "stdout",
     "output_type": "stream",
     "text": [
      "[INFO] [2021-10-31 18:35:47,024] [OpenBox-Shadan] Iteration 422, objective value: [33.1295849031159].\n"
     ]
    },
    {
     "name": "stderr",
     "output_type": "stream",
     "text": [
      "\r",
      " 42%|████▏     | 422/1000 [4:12:00<5:46:19, 35.95s/it]"
     ]
    },
    {
     "name": "stdout",
     "output_type": "stream",
     "text": [
      "[INFO] [2021-10-31 18:36:18,048] [OpenBox-Shadan] Iteration 423, objective value: [39.89086612018442].\n"
     ]
    },
    {
     "name": "stderr",
     "output_type": "stream",
     "text": [
      "\r",
      " 42%|████▏     | 423/1000 [4:12:31<5:31:30, 34.47s/it]"
     ]
    },
    {
     "name": "stdout",
     "output_type": "stream",
     "text": [
      "[INFO] [2021-10-31 18:36:51,761] [OpenBox-Shadan] Iteration 424, objective value: [40.979448048636904].\n"
     ]
    },
    {
     "name": "stderr",
     "output_type": "stream",
     "text": [
      "\r",
      " 42%|████▏     | 424/1000 [4:13:05<5:28:44, 34.24s/it]"
     ]
    },
    {
     "name": "stdout",
     "output_type": "stream",
     "text": [
      "[INFO] [2021-10-31 18:37:24,589] [OpenBox-Shadan] Iteration 425, objective value: [42.05020207434282].\n"
     ]
    },
    {
     "name": "stderr",
     "output_type": "stream",
     "text": [
      "\r",
      " 42%|████▎     | 425/1000 [4:13:38<5:24:06, 33.82s/it]"
     ]
    },
    {
     "name": "stdout",
     "output_type": "stream",
     "text": [
      "[INFO] [2021-10-31 18:38:00,553] [OpenBox-Shadan] Iteration 426, objective value: [42.40130561703509].\n"
     ]
    },
    {
     "name": "stderr",
     "output_type": "stream",
     "text": [
      "\r",
      " 43%|████▎     | 426/1000 [4:14:14<5:29:41, 34.46s/it]"
     ]
    },
    {
     "name": "stdout",
     "output_type": "stream",
     "text": [
      "[INFO] [2021-10-31 18:38:36,644] [OpenBox-Shadan] Iteration 427, objective value: [30.588469825241376].\n"
     ]
    },
    {
     "name": "stderr",
     "output_type": "stream",
     "text": [
      "\r",
      " 43%|████▎     | 427/1000 [4:14:50<5:33:47, 34.95s/it]"
     ]
    },
    {
     "name": "stdout",
     "output_type": "stream",
     "text": [
      "[INFO] [2021-10-31 18:39:05,772] [OpenBox-Shadan] Iteration 428, objective value: [44.33033286159176].\n"
     ]
    },
    {
     "name": "stderr",
     "output_type": "stream",
     "text": [
      "\r",
      " 43%|████▎     | 428/1000 [4:15:19<5:16:32, 33.20s/it]"
     ]
    },
    {
     "name": "stdout",
     "output_type": "stream",
     "text": [
      "[INFO] [2021-10-31 18:39:41,169] [OpenBox-Shadan] Iteration 429, objective value: [40.515499763071595].\n"
     ]
    },
    {
     "name": "stderr",
     "output_type": "stream",
     "text": [
      "\r",
      " 43%|████▎     | 429/1000 [4:15:54<5:22:15, 33.86s/it]"
     ]
    },
    {
     "name": "stdout",
     "output_type": "stream",
     "text": [
      "[INFO] [2021-10-31 18:40:15,432] [OpenBox-Shadan] Iteration 430, objective value: [40.9428505353455].\n"
     ]
    },
    {
     "name": "stderr",
     "output_type": "stream",
     "text": [
      "\r",
      " 43%|████▎     | 430/1000 [4:16:29<5:22:49, 33.98s/it]"
     ]
    },
    {
     "name": "stdout",
     "output_type": "stream",
     "text": [
      "[INFO] [2021-10-31 18:40:48,424] [OpenBox-Shadan] Iteration 431, objective value: [17.684432882078312].\n"
     ]
    },
    {
     "name": "stderr",
     "output_type": "stream",
     "text": [
      "\r",
      " 43%|████▎     | 431/1000 [4:17:02<5:19:26, 33.69s/it]"
     ]
    },
    {
     "name": "stdout",
     "output_type": "stream",
     "text": [
      "[INFO] [2021-10-31 18:41:20,967] [OpenBox-Shadan] Iteration 432, objective value: [60.52505669403937].\n"
     ]
    },
    {
     "name": "stderr",
     "output_type": "stream",
     "text": [
      "\r",
      " 43%|████▎     | 432/1000 [4:17:34<5:15:38, 33.34s/it]"
     ]
    },
    {
     "name": "stdout",
     "output_type": "stream",
     "text": [
      "[INFO] [2021-10-31 18:41:56,631] [OpenBox-Shadan] Iteration 433, objective value: [46.67813524844162].\n"
     ]
    },
    {
     "name": "stderr",
     "output_type": "stream",
     "text": [
      "\r",
      " 43%|████▎     | 433/1000 [4:18:10<5:21:40, 34.04s/it]"
     ]
    },
    {
     "name": "stdout",
     "output_type": "stream",
     "text": [
      "[INFO] [2021-10-31 18:42:27,250] [OpenBox-Shadan] Iteration 434, objective value: [100.0].\n"
     ]
    },
    {
     "name": "stderr",
     "output_type": "stream",
     "text": [
      "\r",
      " 43%|████▎     | 434/1000 [4:18:40<5:11:25, 33.01s/it]"
     ]
    },
    {
     "name": "stdout",
     "output_type": "stream",
     "text": [
      "[INFO] [2021-10-31 18:42:59,520] [OpenBox-Shadan] Iteration 435, objective value: [31.448059274463333].\n"
     ]
    },
    {
     "name": "stderr",
     "output_type": "stream",
     "text": [
      "\r",
      " 44%|████▎     | 435/1000 [4:19:13<5:08:46, 32.79s/it]"
     ]
    },
    {
     "name": "stdout",
     "output_type": "stream",
     "text": [
      "[INFO] [2021-10-31 18:43:36,268] [OpenBox-Shadan] Iteration 436, objective value: [38.90255408008139].\n"
     ]
    },
    {
     "name": "stderr",
     "output_type": "stream",
     "text": [
      "\r",
      " 44%|████▎     | 436/1000 [4:19:50<5:19:23, 33.98s/it]"
     ]
    },
    {
     "name": "stdout",
     "output_type": "stream",
     "text": [
      "[INFO] [2021-10-31 18:44:13,906] [OpenBox-Shadan] Iteration 437, objective value: [39.31020011880171].\n"
     ]
    },
    {
     "name": "stderr",
     "output_type": "stream",
     "text": [
      "\r",
      " 44%|████▎     | 437/1000 [4:20:27<5:29:07, 35.08s/it]"
     ]
    },
    {
     "name": "stdout",
     "output_type": "stream",
     "text": [
      "[INFO] [2021-10-31 18:44:50,216] [OpenBox-Shadan] Iteration 438, objective value: [41.980879930401215].\n"
     ]
    },
    {
     "name": "stderr",
     "output_type": "stream",
     "text": [
      "\r",
      " 44%|████▍     | 438/1000 [4:21:03<5:32:00, 35.45s/it]"
     ]
    },
    {
     "name": "stdout",
     "output_type": "stream",
     "text": [
      "[INFO] [2021-10-31 18:45:24,580] [OpenBox-Shadan] Iteration 439, objective value: [14.125327509023109].\n"
     ]
    },
    {
     "name": "stderr",
     "output_type": "stream",
     "text": [
      "\r",
      " 44%|████▍     | 439/1000 [4:21:38<5:28:23, 35.12s/it]"
     ]
    },
    {
     "name": "stdout",
     "output_type": "stream",
     "text": [
      "[INFO] [2021-10-31 18:46:00,411] [OpenBox-Shadan] Iteration 440, objective value: [45.616231887375825].\n"
     ]
    },
    {
     "name": "stderr",
     "output_type": "stream",
     "text": [
      "\r",
      " 44%|████▍     | 440/1000 [4:22:14<5:29:47, 35.33s/it]"
     ]
    },
    {
     "name": "stdout",
     "output_type": "stream",
     "text": [
      "[INFO] [2021-10-31 18:46:36,795] [OpenBox-Shadan] Iteration 441, objective value: [37.36828943421596].\n"
     ]
    },
    {
     "name": "stderr",
     "output_type": "stream",
     "text": [
      "\r",
      " 44%|████▍     | 441/1000 [4:22:50<5:32:07, 35.65s/it]"
     ]
    },
    {
     "name": "stdout",
     "output_type": "stream",
     "text": [
      "[INFO] [2021-10-31 18:47:07,439] [OpenBox-Shadan] Iteration 442, objective value: [23.33707281024168].\n"
     ]
    },
    {
     "name": "stderr",
     "output_type": "stream",
     "text": [
      "\r",
      " 44%|████▍     | 442/1000 [4:23:21<5:17:34, 34.15s/it]"
     ]
    },
    {
     "name": "stdout",
     "output_type": "stream",
     "text": [
      "[INFO] [2021-10-31 18:47:41,785] [OpenBox-Shadan] Iteration 443, objective value: [41.29612399151655].\n"
     ]
    },
    {
     "name": "stderr",
     "output_type": "stream",
     "text": [
      "\r",
      " 44%|████▍     | 443/1000 [4:23:55<5:17:33, 34.21s/it]"
     ]
    },
    {
     "name": "stdout",
     "output_type": "stream",
     "text": [
      "[INFO] [2021-10-31 18:48:16,229] [OpenBox-Shadan] Iteration 444, objective value: [35.90431601114048].\n"
     ]
    },
    {
     "name": "stderr",
     "output_type": "stream",
     "text": [
      "\r",
      " 44%|████▍     | 444/1000 [4:24:29<5:17:38, 34.28s/it]"
     ]
    },
    {
     "name": "stdout",
     "output_type": "stream",
     "text": [
      "[INFO] [2021-10-31 18:48:46,576] [OpenBox-Shadan] Iteration 445, objective value: [35.47903702672575].\n"
     ]
    },
    {
     "name": "stderr",
     "output_type": "stream",
     "text": [
      "\r",
      " 44%|████▍     | 445/1000 [4:25:00<5:06:09, 33.10s/it]"
     ]
    },
    {
     "name": "stdout",
     "output_type": "stream",
     "text": [
      "[INFO] [2021-10-31 18:49:23,469] [OpenBox-Shadan] Iteration 446, objective value: [40.16753873542217].\n"
     ]
    },
    {
     "name": "stderr",
     "output_type": "stream",
     "text": [
      "\r",
      " 45%|████▍     | 446/1000 [4:25:37<5:16:07, 34.24s/it]"
     ]
    },
    {
     "name": "stdout",
     "output_type": "stream",
     "text": [
      "[INFO] [2021-10-31 18:49:58,925] [OpenBox-Shadan] Iteration 447, objective value: [36.56736985812176].\n"
     ]
    },
    {
     "name": "stderr",
     "output_type": "stream",
     "text": [
      "\r",
      " 45%|████▍     | 447/1000 [4:26:12<5:18:55, 34.60s/it]"
     ]
    },
    {
     "name": "stdout",
     "output_type": "stream",
     "text": [
      "[INFO] [2021-10-31 18:50:29,537] [OpenBox-Shadan] Iteration 448, objective value: [27.564389459690872].\n"
     ]
    },
    {
     "name": "stderr",
     "output_type": "stream",
     "text": [
      "\r",
      " 45%|████▍     | 448/1000 [4:26:43<5:07:19, 33.41s/it]"
     ]
    },
    {
     "name": "stdout",
     "output_type": "stream",
     "text": [
      "[INFO] [2021-10-31 18:51:04,808] [OpenBox-Shadan] Iteration 449, objective value: [48.12061458445994].\n"
     ]
    },
    {
     "name": "stderr",
     "output_type": "stream",
     "text": [
      "\r",
      " 45%|████▍     | 449/1000 [4:27:18<5:11:54, 33.97s/it]"
     ]
    },
    {
     "name": "stdout",
     "output_type": "stream",
     "text": [
      "[INFO] [2021-10-31 18:51:36,085] [OpenBox-Shadan] Iteration 450, objective value: [38.40208130318123].\n"
     ]
    },
    {
     "name": "stderr",
     "output_type": "stream",
     "text": [
      "\r",
      " 45%|████▌     | 450/1000 [4:27:49<5:03:57, 33.16s/it]"
     ]
    },
    {
     "name": "stdout",
     "output_type": "stream",
     "text": [
      "[INFO] [2021-10-31 18:52:10,988] [OpenBox-Shadan] Iteration 451, objective value: [47.143818875892904].\n"
     ]
    },
    {
     "name": "stderr",
     "output_type": "stream",
     "text": [
      "\r",
      " 45%|████▌     | 451/1000 [4:28:24<5:08:11, 33.68s/it]"
     ]
    },
    {
     "name": "stdout",
     "output_type": "stream",
     "text": [
      "[INFO] [2021-10-31 18:52:47,077] [OpenBox-Shadan] Iteration 452, objective value: [33.83169798852707].\n"
     ]
    },
    {
     "name": "stderr",
     "output_type": "stream",
     "text": [
      "\r",
      " 45%|████▌     | 452/1000 [4:29:00<5:14:13, 34.40s/it]"
     ]
    },
    {
     "name": "stdout",
     "output_type": "stream",
     "text": [
      "[INFO] [2021-10-31 18:53:16,242] [OpenBox-Shadan] Iteration 453, objective value: [100.0].\n"
     ]
    },
    {
     "name": "stderr",
     "output_type": "stream",
     "text": [
      "\r",
      " 45%|████▌     | 453/1000 [4:29:29<4:59:19, 32.83s/it]"
     ]
    },
    {
     "name": "stdout",
     "output_type": "stream",
     "text": [
      "[INFO] [2021-10-31 18:53:53,371] [OpenBox-Shadan] Iteration 454, objective value: [58.61809319163097].\n"
     ]
    },
    {
     "name": "stderr",
     "output_type": "stream",
     "text": [
      "\r",
      " 45%|████▌     | 454/1000 [4:30:07<5:10:30, 34.12s/it]"
     ]
    },
    {
     "name": "stdout",
     "output_type": "stream",
     "text": [
      "[INFO] [2021-10-31 18:54:30,742] [OpenBox-Shadan] Iteration 455, objective value: [42.796315078333926].\n"
     ]
    },
    {
     "name": "stderr",
     "output_type": "stream",
     "text": [
      "\r",
      " 46%|████▌     | 455/1000 [4:30:44<5:18:47, 35.10s/it]"
     ]
    },
    {
     "name": "stdout",
     "output_type": "stream",
     "text": [
      "[INFO] [2021-10-31 18:55:04,084] [OpenBox-Shadan] Iteration 456, objective value: [51.451436636748966].\n"
     ]
    },
    {
     "name": "stderr",
     "output_type": "stream",
     "text": [
      "\r",
      " 46%|████▌     | 456/1000 [4:31:17<5:13:25, 34.57s/it]"
     ]
    },
    {
     "name": "stdout",
     "output_type": "stream",
     "text": [
      "[INFO] [2021-10-31 18:55:41,354] [OpenBox-Shadan] Iteration 457, objective value: [26.000723815693902].\n"
     ]
    },
    {
     "name": "stderr",
     "output_type": "stream",
     "text": [
      "\r",
      " 46%|████▌     | 457/1000 [4:31:55<5:20:11, 35.38s/it]"
     ]
    },
    {
     "name": "stdout",
     "output_type": "stream",
     "text": [
      "[INFO] [2021-10-31 18:56:16,472] [OpenBox-Shadan] Iteration 458, objective value: [38.72093266604419].\n"
     ]
    },
    {
     "name": "stderr",
     "output_type": "stream",
     "text": [
      "\r",
      " 46%|████▌     | 458/1000 [4:32:30<5:18:53, 35.30s/it]"
     ]
    },
    {
     "name": "stdout",
     "output_type": "stream",
     "text": [
      "[INFO] [2021-10-31 18:56:50,584] [OpenBox-Shadan] Iteration 459, objective value: [39.029794448622866].\n"
     ]
    },
    {
     "name": "stderr",
     "output_type": "stream",
     "text": [
      "\r",
      " 46%|████▌     | 459/1000 [4:33:04<5:15:04, 34.94s/it]"
     ]
    },
    {
     "name": "stdout",
     "output_type": "stream",
     "text": [
      "[INFO] [2021-10-31 18:57:27,955] [OpenBox-Shadan] Iteration 460, objective value: [35.745486391941995].\n"
     ]
    },
    {
     "name": "stderr",
     "output_type": "stream",
     "text": [
      "\r",
      " 46%|████▌     | 460/1000 [4:33:41<5:21:03, 35.67s/it]"
     ]
    },
    {
     "name": "stdout",
     "output_type": "stream",
     "text": [
      "[INFO] [2021-10-31 18:58:01,493] [OpenBox-Shadan] Iteration 461, objective value: [40.55421658115084].\n"
     ]
    },
    {
     "name": "stderr",
     "output_type": "stream",
     "text": [
      "\r",
      " 46%|████▌     | 461/1000 [4:34:15<5:14:42, 35.03s/it]"
     ]
    },
    {
     "name": "stdout",
     "output_type": "stream",
     "text": [
      "[INFO] [2021-10-31 18:58:37,765] [OpenBox-Shadan] Iteration 462, objective value: [53.072383966291376].\n"
     ]
    },
    {
     "name": "stderr",
     "output_type": "stream",
     "text": [
      "\r",
      " 46%|████▌     | 462/1000 [4:34:51<5:17:27, 35.40s/it]"
     ]
    },
    {
     "name": "stdout",
     "output_type": "stream",
     "text": [
      "[INFO] [2021-10-31 18:59:15,080] [OpenBox-Shadan] Iteration 463, objective value: [41.37672992732833].\n"
     ]
    },
    {
     "name": "stderr",
     "output_type": "stream",
     "text": [
      "\r",
      " 46%|████▋     | 463/1000 [4:35:28<5:21:59, 35.98s/it]"
     ]
    },
    {
     "name": "stdout",
     "output_type": "stream",
     "text": [
      "[INFO] [2021-10-31 18:59:48,531] [OpenBox-Shadan] Iteration 464, objective value: [30.51733466011099].\n"
     ]
    },
    {
     "name": "stderr",
     "output_type": "stream",
     "text": [
      "\r",
      " 46%|████▋     | 464/1000 [4:36:02<5:14:37, 35.22s/it]"
     ]
    },
    {
     "name": "stdout",
     "output_type": "stream",
     "text": [
      "[INFO] [2021-10-31 19:00:28,583] [OpenBox-Shadan] Iteration 465, objective value: [45.66429829609289].\n"
     ]
    },
    {
     "name": "stderr",
     "output_type": "stream",
     "text": [
      "\r",
      " 46%|████▋     | 465/1000 [4:36:42<5:26:58, 36.67s/it]"
     ]
    },
    {
     "name": "stdout",
     "output_type": "stream",
     "text": [
      "[INFO] [2021-10-31 19:01:04,822] [OpenBox-Shadan] Iteration 466, objective value: [34.90324114891803].\n"
     ]
    },
    {
     "name": "stderr",
     "output_type": "stream",
     "text": [
      "\r",
      " 47%|████▋     | 466/1000 [4:37:18<5:25:12, 36.54s/it]"
     ]
    },
    {
     "name": "stdout",
     "output_type": "stream",
     "text": [
      "[INFO] [2021-10-31 19:01:40,293] [OpenBox-Shadan] Iteration 467, objective value: [36.936387065479245].\n"
     ]
    },
    {
     "name": "stderr",
     "output_type": "stream",
     "text": [
      "\r",
      " 47%|████▋     | 467/1000 [4:37:54<5:21:44, 36.22s/it]"
     ]
    },
    {
     "name": "stdout",
     "output_type": "stream",
     "text": [
      "[INFO] [2021-10-31 19:02:14,667] [OpenBox-Shadan] Iteration 468, objective value: [31.067336986577956].\n"
     ]
    },
    {
     "name": "stderr",
     "output_type": "stream",
     "text": [
      "\r",
      " 47%|████▋     | 468/1000 [4:38:28<5:16:14, 35.67s/it]"
     ]
    },
    {
     "name": "stdout",
     "output_type": "stream",
     "text": [
      "[INFO] [2021-10-31 19:02:45,492] [OpenBox-Shadan] Iteration 469, objective value: [35.6906606609716].\n"
     ]
    },
    {
     "name": "stderr",
     "output_type": "stream",
     "text": [
      "\r",
      " 47%|████▋     | 469/1000 [4:38:59<5:02:47, 34.21s/it]"
     ]
    },
    {
     "name": "stdout",
     "output_type": "stream",
     "text": [
      "[INFO] [2021-10-31 19:03:17,428] [OpenBox-Shadan] Iteration 470, objective value: [41.80157822298746].\n"
     ]
    },
    {
     "name": "stderr",
     "output_type": "stream",
     "text": [
      "\r",
      " 47%|████▋     | 470/1000 [4:39:31<4:56:11, 33.53s/it]"
     ]
    },
    {
     "name": "stdout",
     "output_type": "stream",
     "text": [
      "[INFO] [2021-10-31 19:03:52,551] [OpenBox-Shadan] Iteration 471, objective value: [35.14648379797748].\n"
     ]
    },
    {
     "name": "stderr",
     "output_type": "stream",
     "text": [
      "\r",
      " 47%|████▋     | 471/1000 [4:40:06<4:59:50, 34.01s/it]"
     ]
    },
    {
     "name": "stdout",
     "output_type": "stream",
     "text": [
      "[INFO] [2021-10-31 19:04:22,220] [OpenBox-Shadan] Iteration 472, objective value: [39.20460907802861].\n"
     ]
    },
    {
     "name": "stderr",
     "output_type": "stream",
     "text": [
      "\r",
      " 47%|████▋     | 472/1000 [4:40:35<4:47:48, 32.71s/it]"
     ]
    },
    {
     "name": "stdout",
     "output_type": "stream",
     "text": [
      "[INFO] [2021-10-31 19:04:59,930] [OpenBox-Shadan] Iteration 473, objective value: [37.717375495727076].\n"
     ]
    },
    {
     "name": "stderr",
     "output_type": "stream",
     "text": [
      "\r",
      " 47%|████▋     | 473/1000 [4:41:13<5:00:27, 34.21s/it]"
     ]
    },
    {
     "name": "stdout",
     "output_type": "stream",
     "text": [
      "[INFO] [2021-10-31 19:05:30,293] [OpenBox-Shadan] Iteration 474, objective value: [36.149605652482784].\n"
     ]
    },
    {
     "name": "stderr",
     "output_type": "stream",
     "text": [
      "\r",
      " 47%|████▋     | 474/1000 [4:41:44<4:49:46, 33.05s/it]"
     ]
    },
    {
     "name": "stdout",
     "output_type": "stream",
     "text": [
      "[INFO] [2021-10-31 19:06:06,614] [OpenBox-Shadan] Iteration 475, objective value: [34.70928440986714].\n"
     ]
    },
    {
     "name": "stderr",
     "output_type": "stream",
     "text": [
      "\r",
      " 48%|████▊     | 475/1000 [4:42:20<4:57:47, 34.03s/it]"
     ]
    },
    {
     "name": "stdout",
     "output_type": "stream",
     "text": [
      "[INFO] [2021-10-31 19:06:37,271] [OpenBox-Shadan] Iteration 476, objective value: [34.41123588383188].\n"
     ]
    },
    {
     "name": "stderr",
     "output_type": "stream",
     "text": [
      "\r",
      " 48%|████▊     | 476/1000 [4:42:51<4:48:22, 33.02s/it]"
     ]
    },
    {
     "name": "stdout",
     "output_type": "stream",
     "text": [
      "[INFO] [2021-10-31 19:07:09,081] [OpenBox-Shadan] Iteration 477, objective value: [42.62099799766388].\n"
     ]
    },
    {
     "name": "stderr",
     "output_type": "stream",
     "text": [
      "\r",
      " 48%|████▊     | 477/1000 [4:43:22<4:44:39, 32.66s/it]"
     ]
    },
    {
     "name": "stdout",
     "output_type": "stream",
     "text": [
      "[INFO] [2021-10-31 19:07:45,216] [OpenBox-Shadan] Iteration 478, objective value: [33.6795508696724].\n"
     ]
    },
    {
     "name": "stderr",
     "output_type": "stream",
     "text": [
      "\r",
      " 48%|████▊     | 478/1000 [4:43:58<4:53:11, 33.70s/it]"
     ]
    },
    {
     "name": "stdout",
     "output_type": "stream",
     "text": [
      "[INFO] [2021-10-31 19:08:20,828] [OpenBox-Shadan] Iteration 479, objective value: [46.057068274512346].\n"
     ]
    },
    {
     "name": "stderr",
     "output_type": "stream",
     "text": [
      "\r",
      " 48%|████▊     | 479/1000 [4:44:34<4:57:36, 34.27s/it]"
     ]
    },
    {
     "name": "stdout",
     "output_type": "stream",
     "text": [
      "[INFO] [2021-10-31 19:08:51,904] [OpenBox-Shadan] Iteration 480, objective value: [49.08695714634273].\n"
     ]
    },
    {
     "name": "stderr",
     "output_type": "stream",
     "text": [
      "\r",
      " 48%|████▊     | 480/1000 [4:45:05<4:48:43, 33.31s/it]"
     ]
    },
    {
     "name": "stdout",
     "output_type": "stream",
     "text": [
      "[INFO] [2021-10-31 19:09:24,702] [OpenBox-Shadan] Iteration 481, objective value: [12.38181732227801].\n"
     ]
    },
    {
     "name": "stderr",
     "output_type": "stream",
     "text": [
      "\r",
      " 48%|████▊     | 481/1000 [4:45:38<4:46:49, 33.16s/it]"
     ]
    },
    {
     "name": "stdout",
     "output_type": "stream",
     "text": [
      "[INFO] [2021-10-31 19:09:51,142] [OpenBox-Shadan] Iteration 482, objective value: [30.40902104591379].\n"
     ]
    },
    {
     "name": "stderr",
     "output_type": "stream",
     "text": [
      "\r",
      " 48%|████▊     | 482/1000 [4:46:04<4:28:52, 31.14s/it]"
     ]
    },
    {
     "name": "stdout",
     "output_type": "stream",
     "text": [
      "[INFO] [2021-10-31 19:10:26,675] [OpenBox-Shadan] Iteration 483, objective value: [44.80692604893004].\n"
     ]
    },
    {
     "name": "stderr",
     "output_type": "stream",
     "text": [
      "\r",
      " 48%|████▊     | 483/1000 [4:46:40<4:39:42, 32.46s/it]"
     ]
    },
    {
     "name": "stdout",
     "output_type": "stream",
     "text": [
      "[INFO] [2021-10-31 19:10:58,719] [OpenBox-Shadan] Iteration 484, objective value: [40.03707069259418].\n"
     ]
    },
    {
     "name": "stderr",
     "output_type": "stream",
     "text": [
      "\r",
      " 48%|████▊     | 484/1000 [4:47:12<4:38:05, 32.34s/it]"
     ]
    },
    {
     "name": "stdout",
     "output_type": "stream",
     "text": [
      "[INFO] [2021-10-31 19:11:30,975] [OpenBox-Shadan] Iteration 485, objective value: [35.555809228594796].\n"
     ]
    },
    {
     "name": "stderr",
     "output_type": "stream",
     "text": [
      "\r",
      " 48%|████▊     | 485/1000 [4:47:44<4:37:20, 32.31s/it]"
     ]
    },
    {
     "name": "stdout",
     "output_type": "stream",
     "text": [
      "[INFO] [2021-10-31 19:12:02,493] [OpenBox-Shadan] Iteration 486, objective value: [40.270994025329244].\n"
     ]
    },
    {
     "name": "stderr",
     "output_type": "stream",
     "text": [
      "\r",
      " 49%|████▊     | 486/1000 [4:48:16<4:34:45, 32.07s/it]"
     ]
    },
    {
     "name": "stdout",
     "output_type": "stream",
     "text": [
      "[INFO] [2021-10-31 19:12:33,866] [OpenBox-Shadan] Iteration 487, objective value: [28.306771167462273].\n"
     ]
    },
    {
     "name": "stderr",
     "output_type": "stream",
     "text": [
      "\r",
      " 49%|████▊     | 487/1000 [4:48:47<4:32:25, 31.86s/it]"
     ]
    },
    {
     "name": "stdout",
     "output_type": "stream",
     "text": [
      "[INFO] [2021-10-31 19:13:07,378] [OpenBox-Shadan] Iteration 488, objective value: [32.16069739315192].\n"
     ]
    },
    {
     "name": "stderr",
     "output_type": "stream",
     "text": [
      "\r",
      " 49%|████▉     | 488/1000 [4:49:21<4:36:07, 32.36s/it]"
     ]
    },
    {
     "name": "stdout",
     "output_type": "stream",
     "text": [
      "[INFO] [2021-10-31 19:13:38,951] [OpenBox-Shadan] Iteration 489, objective value: [35.01462777986313].\n"
     ]
    },
    {
     "name": "stderr",
     "output_type": "stream",
     "text": [
      "\r",
      " 49%|████▉     | 489/1000 [4:49:52<4:33:34, 32.12s/it]"
     ]
    },
    {
     "name": "stdout",
     "output_type": "stream",
     "text": [
      "[INFO] [2021-10-31 19:14:15,023] [OpenBox-Shadan] Iteration 490, objective value: [39.224993256196626].\n"
     ]
    },
    {
     "name": "stderr",
     "output_type": "stream",
     "text": [
      "\r",
      " 49%|████▉     | 490/1000 [4:50:28<4:43:06, 33.31s/it]"
     ]
    },
    {
     "name": "stdout",
     "output_type": "stream",
     "text": [
      "[INFO] [2021-10-31 19:14:52,003] [OpenBox-Shadan] Iteration 491, objective value: [38.46282581693242].\n"
     ]
    },
    {
     "name": "stderr",
     "output_type": "stream",
     "text": [
      "\r",
      " 49%|████▉     | 491/1000 [4:51:05<4:51:54, 34.41s/it]"
     ]
    },
    {
     "name": "stdout",
     "output_type": "stream",
     "text": [
      "[INFO] [2021-10-31 19:15:29,729] [OpenBox-Shadan] Iteration 492, objective value: [36.583693091346035].\n"
     ]
    },
    {
     "name": "stderr",
     "output_type": "stream",
     "text": [
      "\r",
      " 49%|████▉     | 492/1000 [4:51:43<4:59:45, 35.40s/it]"
     ]
    },
    {
     "name": "stdout",
     "output_type": "stream",
     "text": [
      "[INFO] [2021-10-31 19:16:07,190] [OpenBox-Shadan] Iteration 493, objective value: [35.1368830540104].\n"
     ]
    },
    {
     "name": "stderr",
     "output_type": "stream",
     "text": [
      "\r",
      " 49%|████▉     | 493/1000 [4:52:20<5:04:22, 36.02s/it]"
     ]
    },
    {
     "name": "stdout",
     "output_type": "stream",
     "text": [
      "[INFO] [2021-10-31 19:16:44,362] [OpenBox-Shadan] Iteration 494, objective value: [35.31954621449215].\n"
     ]
    },
    {
     "name": "stderr",
     "output_type": "stream",
     "text": [
      "\r",
      " 49%|████▉     | 494/1000 [4:52:58<5:06:41, 36.37s/it]"
     ]
    },
    {
     "name": "stdout",
     "output_type": "stream",
     "text": [
      "[INFO] [2021-10-31 19:17:18,612] [OpenBox-Shadan] Iteration 495, objective value: [35.1055734844109].\n"
     ]
    },
    {
     "name": "stderr",
     "output_type": "stream",
     "text": [
      "\r",
      " 50%|████▉     | 495/1000 [4:53:32<5:00:44, 35.73s/it]"
     ]
    },
    {
     "name": "stdout",
     "output_type": "stream",
     "text": [
      "[INFO] [2021-10-31 19:17:47,087] [OpenBox-Shadan] Iteration 496, objective value: [100.0].\n"
     ]
    },
    {
     "name": "stderr",
     "output_type": "stream",
     "text": [
      "\r",
      " 50%|████▉     | 496/1000 [4:54:00<4:41:51, 33.55s/it]"
     ]
    },
    {
     "name": "stdout",
     "output_type": "stream",
     "text": [
      "[INFO] [2021-10-31 19:18:22,084] [OpenBox-Shadan] Iteration 497, objective value: [34.41813071287852].\n"
     ]
    },
    {
     "name": "stderr",
     "output_type": "stream",
     "text": [
      "\r",
      " 50%|████▉     | 497/1000 [4:54:35<4:44:55, 33.99s/it]"
     ]
    },
    {
     "name": "stdout",
     "output_type": "stream",
     "text": [
      "[INFO] [2021-10-31 19:18:57,127] [OpenBox-Shadan] Iteration 498, objective value: [33.078837630708975].\n"
     ]
    },
    {
     "name": "stderr",
     "output_type": "stream",
     "text": [
      "\r",
      " 50%|████▉     | 498/1000 [4:55:10<4:47:00, 34.30s/it]"
     ]
    },
    {
     "name": "stdout",
     "output_type": "stream",
     "text": [
      "[INFO] [2021-10-31 19:19:27,522] [OpenBox-Shadan] Iteration 499, objective value: [30.41301639983783].\n"
     ]
    },
    {
     "name": "stderr",
     "output_type": "stream",
     "text": [
      "\r",
      " 50%|████▉     | 499/1000 [4:55:41<4:36:38, 33.13s/it]"
     ]
    },
    {
     "name": "stdout",
     "output_type": "stream",
     "text": [
      "[INFO] [2021-10-31 19:20:04,016] [OpenBox-Shadan] Iteration 500, objective value: [36.257905794172174].\n"
     ]
    },
    {
     "name": "stderr",
     "output_type": "stream",
     "text": [
      "\r",
      " 50%|█████     | 500/1000 [4:56:17<4:44:30, 34.14s/it]"
     ]
    },
    {
     "name": "stdout",
     "output_type": "stream",
     "text": [
      "[INFO] [2021-10-31 19:20:36,846] [OpenBox-Shadan] Iteration 501, objective value: [27.903184934168863].\n"
     ]
    },
    {
     "name": "stderr",
     "output_type": "stream",
     "text": [
      "\r",
      " 50%|█████     | 501/1000 [4:56:50<4:40:39, 33.75s/it]"
     ]
    },
    {
     "name": "stdout",
     "output_type": "stream",
     "text": [
      "[INFO] [2021-10-31 19:21:16,063] [OpenBox-Shadan] Iteration 502, objective value: [30.737065093475493].\n"
     ]
    },
    {
     "name": "stderr",
     "output_type": "stream",
     "text": [
      "\r",
      " 50%|█████     | 502/1000 [4:57:29<4:53:43, 35.39s/it]"
     ]
    },
    {
     "name": "stdout",
     "output_type": "stream",
     "text": [
      "[INFO] [2021-10-31 19:21:49,774] [OpenBox-Shadan] Iteration 503, objective value: [41.851351988559514].\n"
     ]
    },
    {
     "name": "stderr",
     "output_type": "stream",
     "text": [
      "\r",
      " 50%|█████     | 503/1000 [4:58:03<4:48:57, 34.88s/it]"
     ]
    },
    {
     "name": "stdout",
     "output_type": "stream",
     "text": [
      "[INFO] [2021-10-31 19:22:29,910] [OpenBox-Shadan] Iteration 504, objective value: [49.987307905734525].\n"
     ]
    },
    {
     "name": "stderr",
     "output_type": "stream",
     "text": [
      "\r",
      " 50%|█████     | 504/1000 [4:58:43<5:01:24, 36.46s/it]"
     ]
    },
    {
     "name": "stdout",
     "output_type": "stream",
     "text": [
      "[INFO] [2021-10-31 19:23:01,526] [OpenBox-Shadan] Iteration 505, objective value: [50.392445061487535].\n"
     ]
    },
    {
     "name": "stderr",
     "output_type": "stream",
     "text": [
      "\r",
      " 50%|█████     | 505/1000 [4:59:15<4:48:48, 35.01s/it]"
     ]
    },
    {
     "name": "stdout",
     "output_type": "stream",
     "text": [
      "[INFO] [2021-10-31 19:23:34,684] [OpenBox-Shadan] Iteration 506, objective value: [40.367815083022805].\n"
     ]
    },
    {
     "name": "stderr",
     "output_type": "stream",
     "text": [
      "\r",
      " 51%|█████     | 506/1000 [4:59:48<4:43:39, 34.45s/it]"
     ]
    },
    {
     "name": "stdout",
     "output_type": "stream",
     "text": [
      "[INFO] [2021-10-31 19:24:05,967] [OpenBox-Shadan] Iteration 507, objective value: [26.99943451687507].\n"
     ]
    },
    {
     "name": "stderr",
     "output_type": "stream",
     "text": [
      "\r",
      " 51%|█████     | 507/1000 [5:00:19<4:35:16, 33.50s/it]"
     ]
    },
    {
     "name": "stdout",
     "output_type": "stream",
     "text": [
      "[INFO] [2021-10-31 19:24:37,288] [OpenBox-Shadan] Iteration 508, objective value: [39.95381158844771].\n"
     ]
    },
    {
     "name": "stderr",
     "output_type": "stream",
     "text": [
      "\r",
      " 51%|█████     | 508/1000 [5:00:51<4:29:20, 32.85s/it]"
     ]
    },
    {
     "name": "stdout",
     "output_type": "stream",
     "text": [
      "[INFO] [2021-10-31 19:25:11,038] [OpenBox-Shadan] Iteration 509, objective value: [31.916707587700472].\n"
     ]
    },
    {
     "name": "stderr",
     "output_type": "stream",
     "text": [
      "\r",
      " 51%|█████     | 509/1000 [5:01:24<4:31:01, 33.12s/it]"
     ]
    },
    {
     "name": "stdout",
     "output_type": "stream",
     "text": [
      "[INFO] [2021-10-31 19:25:49,220] [OpenBox-Shadan] Iteration 510, objective value: [46.757967292260204].\n"
     ]
    },
    {
     "name": "stderr",
     "output_type": "stream",
     "text": [
      "\r",
      " 51%|█████     | 510/1000 [5:02:02<4:42:52, 34.64s/it]"
     ]
    },
    {
     "name": "stdout",
     "output_type": "stream",
     "text": [
      "[INFO] [2021-10-31 19:26:17,116] [OpenBox-Shadan] Iteration 511, objective value: [100.0].\n"
     ]
    },
    {
     "name": "stderr",
     "output_type": "stream",
     "text": [
      "\r",
      " 51%|█████     | 511/1000 [5:02:30<4:25:48, 32.62s/it]"
     ]
    },
    {
     "name": "stdout",
     "output_type": "stream",
     "text": [
      "[INFO] [2021-10-31 19:26:50,048] [OpenBox-Shadan] Iteration 512, objective value: [14.075466301498523].\n"
     ]
    },
    {
     "name": "stderr",
     "output_type": "stream",
     "text": [
      "\r",
      " 51%|█████     | 512/1000 [5:03:03<4:26:02, 32.71s/it]"
     ]
    },
    {
     "name": "stdout",
     "output_type": "stream",
     "text": [
      "[INFO] [2021-10-31 19:27:23,530] [OpenBox-Shadan] Iteration 513, objective value: [31.04373788738117].\n"
     ]
    },
    {
     "name": "stderr",
     "output_type": "stream",
     "text": [
      "\r",
      " 51%|█████▏    | 513/1000 [5:03:37<4:27:22, 32.94s/it]"
     ]
    },
    {
     "name": "stdout",
     "output_type": "stream",
     "text": [
      "[INFO] [2021-10-31 19:27:57,666] [OpenBox-Shadan] Iteration 514, objective value: [42.13336986932148].\n"
     ]
    },
    {
     "name": "stderr",
     "output_type": "stream",
     "text": [
      "\r",
      " 51%|█████▏    | 514/1000 [5:04:11<4:29:43, 33.30s/it]"
     ]
    },
    {
     "name": "stdout",
     "output_type": "stream",
     "text": [
      "[INFO] [2021-10-31 19:28:37,706] [OpenBox-Shadan] Iteration 515, objective value: [31.706662832808263].\n"
     ]
    },
    {
     "name": "stderr",
     "output_type": "stream",
     "text": [
      "\r",
      " 52%|█████▏    | 515/1000 [5:04:51<4:45:31, 35.32s/it]"
     ]
    },
    {
     "name": "stdout",
     "output_type": "stream",
     "text": [
      "[INFO] [2021-10-31 19:29:13,423] [OpenBox-Shadan] Iteration 516, objective value: [37.97026598662685].\n"
     ]
    },
    {
     "name": "stderr",
     "output_type": "stream",
     "text": [
      "\r",
      " 52%|█████▏    | 516/1000 [5:05:27<4:45:53, 35.44s/it]"
     ]
    },
    {
     "name": "stdout",
     "output_type": "stream",
     "text": [
      "[INFO] [2021-10-31 19:29:44,856] [OpenBox-Shadan] Iteration 517, objective value: [30.981147673844035].\n"
     ]
    },
    {
     "name": "stderr",
     "output_type": "stream",
     "text": [
      "\r",
      " 52%|█████▏    | 517/1000 [5:05:58<4:35:37, 34.24s/it]"
     ]
    },
    {
     "name": "stdout",
     "output_type": "stream",
     "text": [
      "[INFO] [2021-10-31 19:30:20,242] [OpenBox-Shadan] Iteration 518, objective value: [24.560083763996516].\n"
     ]
    },
    {
     "name": "stderr",
     "output_type": "stream",
     "text": [
      "\r",
      " 52%|█████▏    | 518/1000 [5:06:33<4:37:48, 34.58s/it]"
     ]
    },
    {
     "name": "stdout",
     "output_type": "stream",
     "text": [
      "[INFO] [2021-10-31 19:30:47,631] [OpenBox-Shadan] Iteration 519, objective value: [40.97167652304681].\n"
     ]
    },
    {
     "name": "stderr",
     "output_type": "stream",
     "text": [
      "\r",
      " 52%|█████▏    | 519/1000 [5:07:01<4:19:56, 32.42s/it]"
     ]
    },
    {
     "name": "stdout",
     "output_type": "stream",
     "text": [
      "[INFO] [2021-10-31 19:31:21,118] [OpenBox-Shadan] Iteration 520, objective value: [44.97972442618825].\n"
     ]
    },
    {
     "name": "stderr",
     "output_type": "stream",
     "text": [
      "\r",
      " 52%|█████▏    | 520/1000 [5:07:34<4:21:56, 32.74s/it]"
     ]
    },
    {
     "name": "stdout",
     "output_type": "stream",
     "text": [
      "[INFO] [2021-10-31 19:31:50,748] [OpenBox-Shadan] Iteration 521, objective value: [100.0].\n"
     ]
    },
    {
     "name": "stderr",
     "output_type": "stream",
     "text": [
      "\r",
      " 52%|█████▏    | 521/1000 [5:08:04<4:13:56, 31.81s/it]"
     ]
    },
    {
     "name": "stdout",
     "output_type": "stream",
     "text": [
      "[INFO] [2021-10-31 19:32:20,689] [OpenBox-Shadan] Iteration 522, objective value: [40.015655128407076].\n"
     ]
    },
    {
     "name": "stderr",
     "output_type": "stream",
     "text": [
      "\r",
      " 52%|█████▏    | 522/1000 [5:08:34<4:08:56, 31.25s/it]"
     ]
    },
    {
     "name": "stdout",
     "output_type": "stream",
     "text": [
      "[INFO] [2021-10-31 19:32:54,131] [OpenBox-Shadan] Iteration 523, objective value: [46.503040492333156].\n"
     ]
    },
    {
     "name": "stderr",
     "output_type": "stream",
     "text": [
      "\r",
      " 52%|█████▏    | 523/1000 [5:09:07<4:13:39, 31.91s/it]"
     ]
    },
    {
     "name": "stdout",
     "output_type": "stream",
     "text": [
      "[INFO] [2021-10-31 19:33:23,537] [OpenBox-Shadan] Iteration 524, objective value: [26.210252311695186].\n"
     ]
    },
    {
     "name": "stderr",
     "output_type": "stream",
     "text": [
      "\r",
      " 52%|█████▏    | 524/1000 [5:09:37<4:07:10, 31.16s/it]"
     ]
    },
    {
     "name": "stdout",
     "output_type": "stream",
     "text": [
      "[INFO] [2021-10-31 19:33:57,361] [OpenBox-Shadan] Iteration 525, objective value: [33.77473518047502].\n"
     ]
    },
    {
     "name": "stderr",
     "output_type": "stream",
     "text": [
      "\r",
      " 52%|█████▎    | 525/1000 [5:10:11<4:12:59, 31.96s/it]"
     ]
    },
    {
     "name": "stdout",
     "output_type": "stream",
     "text": [
      "[INFO] [2021-10-31 19:34:35,072] [OpenBox-Shadan] Iteration 526, objective value: [44.006630358288824].\n"
     ]
    },
    {
     "name": "stderr",
     "output_type": "stream",
     "text": [
      "\r",
      " 53%|█████▎    | 526/1000 [5:10:48<4:26:05, 33.68s/it]"
     ]
    },
    {
     "name": "stdout",
     "output_type": "stream",
     "text": [
      "[INFO] [2021-10-31 19:35:05,624] [OpenBox-Shadan] Iteration 527, objective value: [26.9696306864233].\n"
     ]
    },
    {
     "name": "stderr",
     "output_type": "stream",
     "text": [
      "\r",
      " 53%|█████▎    | 527/1000 [5:11:19<4:18:07, 32.74s/it]"
     ]
    },
    {
     "name": "stdout",
     "output_type": "stream",
     "text": [
      "[INFO] [2021-10-31 19:35:39,725] [OpenBox-Shadan] Iteration 528, objective value: [9.721801233434007].\n"
     ]
    },
    {
     "name": "stderr",
     "output_type": "stream",
     "text": [
      "\r",
      " 53%|█████▎    | 528/1000 [5:11:53<4:20:47, 33.15s/it]"
     ]
    },
    {
     "name": "stdout",
     "output_type": "stream",
     "text": [
      "[INFO] [2021-10-31 19:36:14,124] [OpenBox-Shadan] Iteration 529, objective value: [13.921322768348361].\n"
     ]
    },
    {
     "name": "stderr",
     "output_type": "stream",
     "text": [
      "\r",
      " 53%|█████▎    | 529/1000 [5:12:27<4:23:10, 33.53s/it]"
     ]
    },
    {
     "name": "stdout",
     "output_type": "stream",
     "text": [
      "[INFO] [2021-10-31 19:36:45,643] [OpenBox-Shadan] Iteration 530, objective value: [47.595098424640526].\n"
     ]
    },
    {
     "name": "stderr",
     "output_type": "stream",
     "text": [
      "\r",
      " 53%|█████▎    | 530/1000 [5:12:59<4:17:54, 32.92s/it]"
     ]
    },
    {
     "name": "stdout",
     "output_type": "stream",
     "text": [
      "[INFO] [2021-10-31 19:37:21,349] [OpenBox-Shadan] Iteration 531, objective value: [22.609808874176025].\n"
     ]
    },
    {
     "name": "stderr",
     "output_type": "stream",
     "text": [
      "\r",
      " 53%|█████▎    | 531/1000 [5:13:35<4:23:52, 33.76s/it]"
     ]
    },
    {
     "name": "stdout",
     "output_type": "stream",
     "text": [
      "[INFO] [2021-10-31 19:37:54,977] [OpenBox-Shadan] Iteration 532, objective value: [37.487795214320876].\n"
     ]
    },
    {
     "name": "stderr",
     "output_type": "stream",
     "text": [
      "\r",
      " 53%|█████▎    | 532/1000 [5:14:08<4:23:00, 33.72s/it]"
     ]
    },
    {
     "name": "stdout",
     "output_type": "stream",
     "text": [
      "[INFO] [2021-10-31 19:38:31,143] [OpenBox-Shadan] Iteration 533, objective value: [38.84832308157462].\n"
     ]
    },
    {
     "name": "stderr",
     "output_type": "stream",
     "text": [
      "\r",
      " 53%|█████▎    | 533/1000 [5:14:44<4:28:09, 34.45s/it]"
     ]
    },
    {
     "name": "stdout",
     "output_type": "stream",
     "text": [
      "[INFO] [2021-10-31 19:39:09,897] [OpenBox-Shadan] Iteration 534, objective value: [40.52481463011277].\n"
     ]
    },
    {
     "name": "stderr",
     "output_type": "stream",
     "text": [
      "\r",
      " 53%|█████▎    | 534/1000 [5:15:23<4:37:36, 35.74s/it]"
     ]
    },
    {
     "name": "stdout",
     "output_type": "stream",
     "text": [
      "[INFO] [2021-10-31 19:39:42,969] [OpenBox-Shadan] Iteration 535, objective value: [44.17472447331598].\n"
     ]
    },
    {
     "name": "stderr",
     "output_type": "stream",
     "text": [
      "\r",
      " 54%|█████▎    | 535/1000 [5:15:56<4:30:48, 34.94s/it]"
     ]
    },
    {
     "name": "stdout",
     "output_type": "stream",
     "text": [
      "[INFO] [2021-10-31 19:40:16,938] [OpenBox-Shadan] Iteration 536, objective value: [40.54531943107793].\n"
     ]
    },
    {
     "name": "stderr",
     "output_type": "stream",
     "text": [
      "\r",
      " 54%|█████▎    | 536/1000 [5:16:30<4:27:57, 34.65s/it]"
     ]
    },
    {
     "name": "stdout",
     "output_type": "stream",
     "text": [
      "[INFO] [2021-10-31 19:40:55,209] [OpenBox-Shadan] Iteration 537, objective value: [25.860959839099678].\n"
     ]
    },
    {
     "name": "stderr",
     "output_type": "stream",
     "text": [
      "\r",
      " 54%|█████▎    | 537/1000 [5:17:08<4:35:45, 35.74s/it]"
     ]
    },
    {
     "name": "stdout",
     "output_type": "stream",
     "text": [
      "[INFO] [2021-10-31 19:41:26,822] [OpenBox-Shadan] Iteration 538, objective value: [14.423952665556868].\n"
     ]
    },
    {
     "name": "stderr",
     "output_type": "stream",
     "text": [
      "\r",
      " 54%|█████▍    | 538/1000 [5:17:40<4:25:38, 34.50s/it]"
     ]
    },
    {
     "name": "stdout",
     "output_type": "stream",
     "text": [
      "[INFO] [2021-10-31 19:42:03,691] [OpenBox-Shadan] Iteration 539, objective value: [40.192563691789886].\n"
     ]
    },
    {
     "name": "stderr",
     "output_type": "stream",
     "text": [
      "\r",
      " 54%|█████▍    | 539/1000 [5:18:17<4:30:32, 35.21s/it]"
     ]
    },
    {
     "name": "stdout",
     "output_type": "stream",
     "text": [
      "[INFO] [2021-10-31 19:42:37,380] [OpenBox-Shadan] Iteration 540, objective value: [26.415952931275527].\n"
     ]
    },
    {
     "name": "stderr",
     "output_type": "stream",
     "text": [
      "\r",
      " 54%|█████▍    | 540/1000 [5:18:51<4:26:26, 34.75s/it]"
     ]
    },
    {
     "name": "stdout",
     "output_type": "stream",
     "text": [
      "[INFO] [2021-10-31 19:43:05,394] [OpenBox-Shadan] Iteration 541, objective value: [40.405791038904695].\n"
     ]
    },
    {
     "name": "stderr",
     "output_type": "stream",
     "text": [
      "\r",
      " 54%|█████▍    | 541/1000 [5:19:19<4:10:23, 32.73s/it]"
     ]
    },
    {
     "name": "stdout",
     "output_type": "stream",
     "text": [
      "[INFO] [2021-10-31 19:43:36,408] [OpenBox-Shadan] Iteration 542, objective value: [43.044293427691294].\n"
     ]
    },
    {
     "name": "stderr",
     "output_type": "stream",
     "text": [
      "\r",
      " 54%|█████▍    | 542/1000 [5:19:50<4:05:55, 32.22s/it]"
     ]
    },
    {
     "name": "stdout",
     "output_type": "stream",
     "text": [
      "[INFO] [2021-10-31 19:44:11,825] [OpenBox-Shadan] Iteration 543, objective value: [45.40578005728505].\n"
     ]
    },
    {
     "name": "stderr",
     "output_type": "stream",
     "text": [
      "\r",
      " 54%|█████▍    | 543/1000 [5:20:25<4:12:41, 33.18s/it]"
     ]
    },
    {
     "name": "stdout",
     "output_type": "stream",
     "text": [
      "[INFO] [2021-10-31 19:44:47,762] [OpenBox-Shadan] Iteration 544, objective value: [36.61105938557537].\n"
     ]
    },
    {
     "name": "stderr",
     "output_type": "stream",
     "text": [
      "\r",
      " 54%|█████▍    | 544/1000 [5:21:01<4:18:26, 34.00s/it]"
     ]
    },
    {
     "name": "stdout",
     "output_type": "stream",
     "text": [
      "[INFO] [2021-10-31 19:45:17,212] [OpenBox-Shadan] Iteration 545, objective value: [31.264555004601206].\n"
     ]
    },
    {
     "name": "stderr",
     "output_type": "stream",
     "text": [
      "\r",
      " 55%|█████▍    | 545/1000 [5:21:30<4:07:30, 32.64s/it]"
     ]
    },
    {
     "name": "stdout",
     "output_type": "stream",
     "text": [
      "[INFO] [2021-10-31 19:45:51,360] [OpenBox-Shadan] Iteration 546, objective value: [20.33172006765153].\n"
     ]
    },
    {
     "name": "stderr",
     "output_type": "stream",
     "text": [
      "\r",
      " 55%|█████▍    | 546/1000 [5:22:05<4:10:23, 33.09s/it]"
     ]
    },
    {
     "name": "stdout",
     "output_type": "stream",
     "text": [
      "[INFO] [2021-10-31 19:46:25,357] [OpenBox-Shadan] Iteration 547, objective value: [28.311260713081722].\n"
     ]
    },
    {
     "name": "stderr",
     "output_type": "stream",
     "text": [
      "\r",
      " 55%|█████▍    | 547/1000 [5:22:39<4:11:53, 33.36s/it]"
     ]
    },
    {
     "name": "stdout",
     "output_type": "stream",
     "text": [
      "[INFO] [2021-10-31 19:46:53,396] [OpenBox-Shadan] Iteration 548, objective value: [100.0].\n"
     ]
    },
    {
     "name": "stderr",
     "output_type": "stream",
     "text": [
      "\r",
      " 55%|█████▍    | 548/1000 [5:23:07<3:59:18, 31.77s/it]"
     ]
    },
    {
     "name": "stdout",
     "output_type": "stream",
     "text": [
      "[INFO] [2021-10-31 19:47:27,047] [OpenBox-Shadan] Iteration 549, objective value: [25.349583239981698].\n"
     ]
    },
    {
     "name": "stderr",
     "output_type": "stream",
     "text": [
      "\r",
      " 55%|█████▍    | 549/1000 [5:23:40<4:03:01, 32.33s/it]"
     ]
    },
    {
     "name": "stdout",
     "output_type": "stream",
     "text": [
      "[INFO] [2021-10-31 19:48:00,454] [OpenBox-Shadan] Iteration 550, objective value: [18.487123157935088].\n"
     ]
    },
    {
     "name": "stderr",
     "output_type": "stream",
     "text": [
      "\r",
      " 55%|█████▌    | 550/1000 [5:24:14<4:04:54, 32.65s/it]"
     ]
    },
    {
     "name": "stdout",
     "output_type": "stream",
     "text": [
      "[INFO] [2021-10-31 19:48:33,815] [OpenBox-Shadan] Iteration 551, objective value: [28.79310037988091].\n"
     ]
    },
    {
     "name": "stderr",
     "output_type": "stream",
     "text": [
      "\r",
      " 55%|█████▌    | 551/1000 [5:24:47<4:05:56, 32.87s/it]"
     ]
    },
    {
     "name": "stdout",
     "output_type": "stream",
     "text": [
      "[INFO] [2021-10-31 19:49:01,271] [OpenBox-Shadan] Iteration 552, objective value: [100.0].\n"
     ]
    },
    {
     "name": "stderr",
     "output_type": "stream",
     "text": [
      "\r",
      " 55%|█████▌    | 552/1000 [5:25:15<3:53:16, 31.24s/it]"
     ]
    },
    {
     "name": "stdout",
     "output_type": "stream",
     "text": [
      "[INFO] [2021-10-31 19:49:37,378] [OpenBox-Shadan] Iteration 553, objective value: [29.582661522242475].\n"
     ]
    },
    {
     "name": "stderr",
     "output_type": "stream",
     "text": [
      "\r",
      " 55%|█████▌    | 553/1000 [5:25:51<4:03:38, 32.70s/it]"
     ]
    },
    {
     "name": "stdout",
     "output_type": "stream",
     "text": [
      "[INFO] [2021-10-31 19:50:11,789] [OpenBox-Shadan] Iteration 554, objective value: [32.86299945911783].\n"
     ]
    },
    {
     "name": "stderr",
     "output_type": "stream",
     "text": [
      "\r",
      " 55%|█████▌    | 554/1000 [5:26:25<4:06:53, 33.21s/it]"
     ]
    },
    {
     "name": "stdout",
     "output_type": "stream",
     "text": [
      "[INFO] [2021-10-31 19:50:47,435] [OpenBox-Shadan] Iteration 555, objective value: [44.950413549422706].\n"
     ]
    },
    {
     "name": "stderr",
     "output_type": "stream",
     "text": [
      "\r",
      " 56%|█████▌    | 555/1000 [5:27:01<4:11:45, 33.94s/it]"
     ]
    },
    {
     "name": "stdout",
     "output_type": "stream",
     "text": [
      "[INFO] [2021-10-31 19:51:16,717] [OpenBox-Shadan] Iteration 556, objective value: [45.3811297092203].\n"
     ]
    },
    {
     "name": "stderr",
     "output_type": "stream",
     "text": [
      "\r",
      " 56%|█████▌    | 556/1000 [5:27:30<4:00:50, 32.55s/it]"
     ]
    },
    {
     "name": "stdout",
     "output_type": "stream",
     "text": [
      "[INFO] [2021-10-31 19:51:49,703] [OpenBox-Shadan] Iteration 557, objective value: [10.85865163467794].\n"
     ]
    },
    {
     "name": "stderr",
     "output_type": "stream",
     "text": [
      "\r",
      " 56%|█████▌    | 557/1000 [5:28:03<4:01:16, 32.68s/it]"
     ]
    },
    {
     "name": "stdout",
     "output_type": "stream",
     "text": [
      "[INFO] [2021-10-31 19:52:24,224] [OpenBox-Shadan] Iteration 558, objective value: [38.07294048633511].\n"
     ]
    },
    {
     "name": "stderr",
     "output_type": "stream",
     "text": [
      "\r",
      " 56%|█████▌    | 558/1000 [5:28:37<4:04:47, 33.23s/it]"
     ]
    },
    {
     "name": "stdout",
     "output_type": "stream",
     "text": [
      "[INFO] [2021-10-31 19:52:56,555] [OpenBox-Shadan] Iteration 559, objective value: [25.059169111636947].\n"
     ]
    },
    {
     "name": "stderr",
     "output_type": "stream",
     "text": [
      "\r",
      " 56%|█████▌    | 559/1000 [5:29:10<4:02:15, 32.96s/it]"
     ]
    },
    {
     "name": "stdout",
     "output_type": "stream",
     "text": [
      "[INFO] [2021-10-31 19:53:32,909] [OpenBox-Shadan] Iteration 560, objective value: [43.28802505992071].\n"
     ]
    },
    {
     "name": "stderr",
     "output_type": "stream",
     "text": [
      "\r",
      " 56%|█████▌    | 560/1000 [5:29:46<4:09:10, 33.98s/it]"
     ]
    },
    {
     "name": "stdout",
     "output_type": "stream",
     "text": [
      "[INFO] [2021-10-31 19:54:05,074] [OpenBox-Shadan] Iteration 561, objective value: [30.351967444324544].\n"
     ]
    },
    {
     "name": "stderr",
     "output_type": "stream",
     "text": [
      "\r",
      " 56%|█████▌    | 561/1000 [5:30:18<4:04:37, 33.43s/it]"
     ]
    },
    {
     "name": "stdout",
     "output_type": "stream",
     "text": [
      "[INFO] [2021-10-31 19:54:35,921] [OpenBox-Shadan] Iteration 562, objective value: [22.28077919051354].\n"
     ]
    },
    {
     "name": "stderr",
     "output_type": "stream",
     "text": [
      "\r",
      " 56%|█████▌    | 562/1000 [5:30:49<3:58:24, 32.66s/it]"
     ]
    },
    {
     "name": "stdout",
     "output_type": "stream",
     "text": [
      "[INFO] [2021-10-31 19:55:07,614] [OpenBox-Shadan] Iteration 563, objective value: [24.080791890520615].\n"
     ]
    },
    {
     "name": "stderr",
     "output_type": "stream",
     "text": [
      "\r",
      " 56%|█████▋    | 563/1000 [5:31:21<3:55:45, 32.37s/it]"
     ]
    },
    {
     "name": "stdout",
     "output_type": "stream",
     "text": [
      "[INFO] [2021-10-31 19:55:41,164] [OpenBox-Shadan] Iteration 564, objective value: [34.3553395315579].\n"
     ]
    },
    {
     "name": "stderr",
     "output_type": "stream",
     "text": [
      "\r",
      " 56%|█████▋    | 564/1000 [5:31:54<3:57:47, 32.72s/it]"
     ]
    },
    {
     "name": "stdout",
     "output_type": "stream",
     "text": [
      "[INFO] [2021-10-31 19:56:12,080] [OpenBox-Shadan] Iteration 565, objective value: [39.727760952573796].\n"
     ]
    },
    {
     "name": "stderr",
     "output_type": "stream",
     "text": [
      "\r",
      " 56%|█████▋    | 565/1000 [5:32:25<3:53:18, 32.18s/it]"
     ]
    },
    {
     "name": "stdout",
     "output_type": "stream",
     "text": [
      "[INFO] [2021-10-31 19:56:45,662] [OpenBox-Shadan] Iteration 566, objective value: [33.01131394433034].\n"
     ]
    },
    {
     "name": "stderr",
     "output_type": "stream",
     "text": [
      "\r",
      " 57%|█████▋    | 566/1000 [5:32:59<3:55:48, 32.60s/it]"
     ]
    },
    {
     "name": "stdout",
     "output_type": "stream",
     "text": [
      "[INFO] [2021-10-31 19:57:16,166] [OpenBox-Shadan] Iteration 567, objective value: [23.016293807810243].\n"
     ]
    },
    {
     "name": "stderr",
     "output_type": "stream",
     "text": [
      "\r",
      " 57%|█████▋    | 567/1000 [5:33:29<3:50:43, 31.97s/it]"
     ]
    },
    {
     "name": "stdout",
     "output_type": "stream",
     "text": [
      "[INFO] [2021-10-31 19:57:47,076] [OpenBox-Shadan] Iteration 568, objective value: [10.102034844125797].\n"
     ]
    },
    {
     "name": "stderr",
     "output_type": "stream",
     "text": [
      "\r",
      " 57%|█████▋    | 568/1000 [5:34:00<3:47:54, 31.65s/it]"
     ]
    },
    {
     "name": "stdout",
     "output_type": "stream",
     "text": [
      "[INFO] [2021-10-31 19:58:22,409] [OpenBox-Shadan] Iteration 569, objective value: [25.8017622397349].\n"
     ]
    },
    {
     "name": "stderr",
     "output_type": "stream",
     "text": [
      "\r",
      " 57%|█████▋    | 569/1000 [5:34:36<3:55:18, 32.76s/it]"
     ]
    },
    {
     "name": "stdout",
     "output_type": "stream",
     "text": [
      "[INFO] [2021-10-31 19:58:53,913] [OpenBox-Shadan] Iteration 570, objective value: [22.746521377512607].\n"
     ]
    },
    {
     "name": "stderr",
     "output_type": "stream",
     "text": [
      "\r",
      " 57%|█████▋    | 570/1000 [5:35:07<3:52:03, 32.38s/it]"
     ]
    },
    {
     "name": "stdout",
     "output_type": "stream",
     "text": [
      "[INFO] [2021-10-31 19:59:24,663] [OpenBox-Shadan] Iteration 571, objective value: [25.85909631334546].\n"
     ]
    },
    {
     "name": "stderr",
     "output_type": "stream",
     "text": [
      "\r",
      " 57%|█████▋    | 571/1000 [5:35:38<3:48:01, 31.89s/it]"
     ]
    },
    {
     "name": "stdout",
     "output_type": "stream",
     "text": [
      "[INFO] [2021-10-31 19:59:56,575] [OpenBox-Shadan] Iteration 572, objective value: [100.0].\n"
     ]
    },
    {
     "name": "stderr",
     "output_type": "stream",
     "text": [
      "\r",
      " 57%|█████▋    | 572/1000 [5:36:10<3:47:32, 31.90s/it]"
     ]
    },
    {
     "name": "stdout",
     "output_type": "stream",
     "text": [
      "[INFO] [2021-10-31 20:00:27,016] [OpenBox-Shadan] Iteration 573, objective value: [31.447438360295067].\n"
     ]
    },
    {
     "name": "stderr",
     "output_type": "stream",
     "text": [
      "\r",
      " 57%|█████▋    | 573/1000 [5:36:40<3:43:53, 31.46s/it]"
     ]
    },
    {
     "name": "stdout",
     "output_type": "stream",
     "text": [
      "[INFO] [2021-10-31 20:01:03,265] [OpenBox-Shadan] Iteration 574, objective value: [29.59971608498452].\n"
     ]
    },
    {
     "name": "stderr",
     "output_type": "stream",
     "text": [
      "\r",
      " 57%|█████▋    | 574/1000 [5:37:16<3:53:34, 32.90s/it]"
     ]
    },
    {
     "name": "stdout",
     "output_type": "stream",
     "text": [
      "[INFO] [2021-10-31 20:01:34,808] [OpenBox-Shadan] Iteration 575, objective value: [31.829608820434856].\n"
     ]
    },
    {
     "name": "stderr",
     "output_type": "stream",
     "text": [
      "\r",
      " 57%|█████▊    | 575/1000 [5:37:48<3:50:08, 32.49s/it]"
     ]
    },
    {
     "name": "stdout",
     "output_type": "stream",
     "text": [
      "[INFO] [2021-10-31 20:02:07,140] [OpenBox-Shadan] Iteration 576, objective value: [21.933525828587065].\n"
     ]
    },
    {
     "name": "stderr",
     "output_type": "stream",
     "text": [
      "\r",
      " 58%|█████▊    | 576/1000 [5:38:20<3:49:15, 32.44s/it]"
     ]
    },
    {
     "name": "stdout",
     "output_type": "stream",
     "text": [
      "[INFO] [2021-10-31 20:02:44,198] [OpenBox-Shadan] Iteration 577, objective value: [40.92314154148974].\n"
     ]
    },
    {
     "name": "stderr",
     "output_type": "stream",
     "text": [
      "\r",
      " 58%|█████▊    | 577/1000 [5:38:57<3:58:29, 33.83s/it]"
     ]
    },
    {
     "name": "stdout",
     "output_type": "stream",
     "text": [
      "[INFO] [2021-10-31 20:03:15,609] [OpenBox-Shadan] Iteration 578, objective value: [32.58546712776308].\n"
     ]
    },
    {
     "name": "stderr",
     "output_type": "stream",
     "text": [
      "\r",
      " 58%|█████▊    | 578/1000 [5:39:29<3:52:49, 33.10s/it]"
     ]
    },
    {
     "name": "stdout",
     "output_type": "stream",
     "text": [
      "[INFO] [2021-10-31 20:03:50,777] [OpenBox-Shadan] Iteration 579, objective value: [32.51690847228909].\n"
     ]
    },
    {
     "name": "stderr",
     "output_type": "stream",
     "text": [
      "\r",
      " 58%|█████▊    | 579/1000 [5:40:04<3:56:37, 33.72s/it]"
     ]
    },
    {
     "name": "stdout",
     "output_type": "stream",
     "text": [
      "[INFO] [2021-10-31 20:04:24,540] [OpenBox-Shadan] Iteration 580, objective value: [23.035126614737734].\n"
     ]
    },
    {
     "name": "stderr",
     "output_type": "stream",
     "text": [
      "\r",
      " 58%|█████▊    | 580/1000 [5:40:38<3:56:08, 33.73s/it]"
     ]
    },
    {
     "name": "stdout",
     "output_type": "stream",
     "text": [
      "[INFO] [2021-10-31 20:04:55,567] [OpenBox-Shadan] Iteration 581, objective value: [21.962126945424203].\n"
     ]
    },
    {
     "name": "stderr",
     "output_type": "stream",
     "text": [
      "\r",
      " 58%|█████▊    | 581/1000 [5:41:09<3:49:54, 32.92s/it]"
     ]
    },
    {
     "name": "stdout",
     "output_type": "stream",
     "text": [
      "[INFO] [2021-10-31 20:05:29,426] [OpenBox-Shadan] Iteration 582, objective value: [28.582434373300444].\n"
     ]
    },
    {
     "name": "stderr",
     "output_type": "stream",
     "text": [
      "\r",
      " 58%|█████▊    | 582/1000 [5:41:43<3:51:18, 33.20s/it]"
     ]
    },
    {
     "name": "stdout",
     "output_type": "stream",
     "text": [
      "[INFO] [2021-10-31 20:06:06,729] [OpenBox-Shadan] Iteration 583, objective value: [26.210679516632567].\n"
     ]
    },
    {
     "name": "stderr",
     "output_type": "stream",
     "text": [
      "\r",
      " 58%|█████▊    | 583/1000 [5:42:20<3:59:18, 34.43s/it]"
     ]
    },
    {
     "name": "stdout",
     "output_type": "stream",
     "text": [
      "[INFO] [2021-10-31 20:06:37,030] [OpenBox-Shadan] Iteration 584, objective value: [23.71727208551559].\n"
     ]
    },
    {
     "name": "stderr",
     "output_type": "stream",
     "text": [
      "\r",
      " 58%|█████▊    | 584/1000 [5:42:50<3:50:08, 33.19s/it]"
     ]
    },
    {
     "name": "stdout",
     "output_type": "stream",
     "text": [
      "[INFO] [2021-10-31 20:07:07,599] [OpenBox-Shadan] Iteration 585, objective value: [100.0].\n"
     ]
    },
    {
     "name": "stderr",
     "output_type": "stream",
     "text": [
      "\r",
      " 58%|█████▊    | 585/1000 [5:43:21<3:44:08, 32.41s/it]"
     ]
    },
    {
     "name": "stdout",
     "output_type": "stream",
     "text": [
      "[INFO] [2021-10-31 20:07:42,691] [OpenBox-Shadan] Iteration 586, objective value: [42.284578045612].\n"
     ]
    },
    {
     "name": "stderr",
     "output_type": "stream",
     "text": [
      "\r",
      " 59%|█████▊    | 586/1000 [5:43:56<3:49:09, 33.21s/it]"
     ]
    },
    {
     "name": "stdout",
     "output_type": "stream",
     "text": [
      "[INFO] [2021-10-31 20:08:17,010] [OpenBox-Shadan] Iteration 587, objective value: [30.776205522276285].\n"
     ]
    },
    {
     "name": "stderr",
     "output_type": "stream",
     "text": [
      "\r",
      " 59%|█████▊    | 587/1000 [5:44:30<3:50:53, 33.54s/it]"
     ]
    },
    {
     "name": "stdout",
     "output_type": "stream",
     "text": [
      "[INFO] [2021-10-31 20:08:48,448] [OpenBox-Shadan] Iteration 588, objective value: [46.54576065313203].\n"
     ]
    },
    {
     "name": "stderr",
     "output_type": "stream",
     "text": [
      "\r",
      " 59%|█████▉    | 588/1000 [5:45:02<3:45:59, 32.91s/it]"
     ]
    },
    {
     "name": "stdout",
     "output_type": "stream",
     "text": [
      "[INFO] [2021-10-31 20:09:22,645] [OpenBox-Shadan] Iteration 589, objective value: [21.593894822773876].\n"
     ]
    },
    {
     "name": "stderr",
     "output_type": "stream",
     "text": [
      "\r",
      " 59%|█████▉    | 589/1000 [5:45:36<3:48:05, 33.30s/it]"
     ]
    },
    {
     "name": "stdout",
     "output_type": "stream",
     "text": [
      "[INFO] [2021-10-31 20:09:58,516] [OpenBox-Shadan] Iteration 590, objective value: [24.918707774775072].\n"
     ]
    },
    {
     "name": "stderr",
     "output_type": "stream",
     "text": [
      "\r",
      " 59%|█████▉    | 590/1000 [5:46:12<3:52:48, 34.07s/it]"
     ]
    },
    {
     "name": "stdout",
     "output_type": "stream",
     "text": [
      "[INFO] [2021-10-31 20:10:33,476] [OpenBox-Shadan] Iteration 591, objective value: [32.315012817670095].\n"
     ]
    },
    {
     "name": "stderr",
     "output_type": "stream",
     "text": [
      "\r",
      " 59%|█████▉    | 591/1000 [5:46:47<3:54:03, 34.34s/it]"
     ]
    },
    {
     "name": "stdout",
     "output_type": "stream",
     "text": [
      "[INFO] [2021-10-31 20:11:08,887] [OpenBox-Shadan] Iteration 592, objective value: [46.00569067618429].\n"
     ]
    },
    {
     "name": "stderr",
     "output_type": "stream",
     "text": [
      "\r",
      " 59%|█████▉    | 592/1000 [5:47:22<3:55:40, 34.66s/it]"
     ]
    },
    {
     "name": "stdout",
     "output_type": "stream",
     "text": [
      "[INFO] [2021-10-31 20:11:44,268] [OpenBox-Shadan] Iteration 593, objective value: [32.24026895567832].\n"
     ]
    },
    {
     "name": "stderr",
     "output_type": "stream",
     "text": [
      "\r",
      " 59%|█████▉    | 593/1000 [5:47:57<3:56:34, 34.88s/it]"
     ]
    },
    {
     "name": "stdout",
     "output_type": "stream",
     "text": [
      "[INFO] [2021-10-31 20:12:15,912] [OpenBox-Shadan] Iteration 594, objective value: [31.49163663881673].\n"
     ]
    },
    {
     "name": "stderr",
     "output_type": "stream",
     "text": [
      "\r",
      " 59%|█████▉    | 594/1000 [5:48:29<3:49:25, 33.91s/it]"
     ]
    },
    {
     "name": "stdout",
     "output_type": "stream",
     "text": [
      "[INFO] [2021-10-31 20:12:50,487] [OpenBox-Shadan] Iteration 595, objective value: [42.47249257109156].\n"
     ]
    },
    {
     "name": "stderr",
     "output_type": "stream",
     "text": [
      "\r",
      " 60%|█████▉    | 595/1000 [5:49:04<3:50:13, 34.11s/it]"
     ]
    },
    {
     "name": "stdout",
     "output_type": "stream",
     "text": [
      "[INFO] [2021-10-31 20:13:27,666] [OpenBox-Shadan] Iteration 596, objective value: [22.378197506144616].\n"
     ]
    },
    {
     "name": "stderr",
     "output_type": "stream",
     "text": [
      "\r",
      " 60%|█████▉    | 596/1000 [5:49:41<3:55:51, 35.03s/it]"
     ]
    },
    {
     "name": "stdout",
     "output_type": "stream",
     "text": [
      "[INFO] [2021-10-31 20:13:58,561] [OpenBox-Shadan] Iteration 597, objective value: [8.635360567750539].\n"
     ]
    },
    {
     "name": "stderr",
     "output_type": "stream",
     "text": [
      "\r",
      " 60%|█████▉    | 597/1000 [5:50:12<3:46:56, 33.79s/it]"
     ]
    },
    {
     "name": "stdout",
     "output_type": "stream",
     "text": [
      "[INFO] [2021-10-31 20:14:31,196] [OpenBox-Shadan] Iteration 598, objective value: [23.632489345481588].\n"
     ]
    },
    {
     "name": "stderr",
     "output_type": "stream",
     "text": [
      "\r",
      " 60%|█████▉    | 598/1000 [5:50:44<3:44:03, 33.44s/it]"
     ]
    },
    {
     "name": "stdout",
     "output_type": "stream",
     "text": [
      "[INFO] [2021-10-31 20:15:03,447] [OpenBox-Shadan] Iteration 599, objective value: [23.462799720679158].\n"
     ]
    },
    {
     "name": "stderr",
     "output_type": "stream",
     "text": [
      "\r",
      " 60%|█████▉    | 599/1000 [5:51:17<3:41:06, 33.08s/it]"
     ]
    },
    {
     "name": "stdout",
     "output_type": "stream",
     "text": [
      "[INFO] [2021-10-31 20:15:34,695] [OpenBox-Shadan] Iteration 600, objective value: [25.99420320925772].\n"
     ]
    },
    {
     "name": "stderr",
     "output_type": "stream",
     "text": [
      "\r",
      " 60%|██████    | 600/1000 [5:51:48<3:36:53, 32.53s/it]"
     ]
    },
    {
     "name": "stdout",
     "output_type": "stream",
     "text": [
      "[INFO] [2021-10-31 20:16:09,580] [OpenBox-Shadan] Iteration 601, objective value: [26.582609304677334].\n"
     ]
    },
    {
     "name": "stderr",
     "output_type": "stream",
     "text": [
      "\r",
      " 60%|██████    | 601/1000 [5:52:23<3:41:02, 33.24s/it]"
     ]
    },
    {
     "name": "stdout",
     "output_type": "stream",
     "text": [
      "[INFO] [2021-10-31 20:16:40,162] [OpenBox-Shadan] Iteration 602, objective value: [13.94999978762577].\n"
     ]
    },
    {
     "name": "stderr",
     "output_type": "stream",
     "text": [
      "\r",
      " 60%|██████    | 602/1000 [5:52:53<3:35:11, 32.44s/it]"
     ]
    },
    {
     "name": "stdout",
     "output_type": "stream",
     "text": [
      "[INFO] [2021-10-31 20:17:15,744] [OpenBox-Shadan] Iteration 603, objective value: [20.216372743851053].\n"
     ]
    },
    {
     "name": "stderr",
     "output_type": "stream",
     "text": [
      "\r",
      " 60%|██████    | 603/1000 [5:53:29<3:40:53, 33.38s/it]"
     ]
    },
    {
     "name": "stdout",
     "output_type": "stream",
     "text": [
      "[INFO] [2021-10-31 20:17:51,674] [OpenBox-Shadan] Iteration 604, objective value: [28.815117676549733].\n"
     ]
    },
    {
     "name": "stderr",
     "output_type": "stream",
     "text": [
      "\r",
      " 60%|██████    | 604/1000 [5:54:05<3:45:22, 34.15s/it]"
     ]
    },
    {
     "name": "stdout",
     "output_type": "stream",
     "text": [
      "[INFO] [2021-10-31 20:18:23,650] [OpenBox-Shadan] Iteration 605, objective value: [38.258248920938556].\n"
     ]
    },
    {
     "name": "stderr",
     "output_type": "stream",
     "text": [
      "\r",
      " 60%|██████    | 605/1000 [5:54:37<3:40:30, 33.50s/it]"
     ]
    },
    {
     "name": "stdout",
     "output_type": "stream",
     "text": [
      "[INFO] [2021-10-31 20:18:54,379] [OpenBox-Shadan] Iteration 606, objective value: [7.302385194416743].\n"
     ]
    },
    {
     "name": "stderr",
     "output_type": "stream",
     "text": [
      "\r",
      " 61%|██████    | 606/1000 [5:55:08<3:34:30, 32.67s/it]"
     ]
    },
    {
     "name": "stdout",
     "output_type": "stream",
     "text": [
      "[INFO] [2021-10-31 20:19:29,433] [OpenBox-Shadan] Iteration 607, objective value: [35.03434140929308].\n"
     ]
    },
    {
     "name": "stderr",
     "output_type": "stream",
     "text": [
      "\r",
      " 61%|██████    | 607/1000 [5:55:43<3:38:39, 33.38s/it]"
     ]
    },
    {
     "name": "stdout",
     "output_type": "stream",
     "text": [
      "[INFO] [2021-10-31 20:20:07,013] [OpenBox-Shadan] Iteration 608, objective value: [21.808936153042737].\n"
     ]
    },
    {
     "name": "stderr",
     "output_type": "stream",
     "text": [
      "\r",
      " 61%|██████    | 608/1000 [5:56:20<3:46:19, 34.64s/it]"
     ]
    },
    {
     "name": "stdout",
     "output_type": "stream",
     "text": [
      "[INFO] [2021-10-31 20:20:38,790] [OpenBox-Shadan] Iteration 609, objective value: [46.650882208729016].\n"
     ]
    },
    {
     "name": "stderr",
     "output_type": "stream",
     "text": [
      "\r",
      " 61%|██████    | 609/1000 [5:56:52<3:40:08, 33.78s/it]"
     ]
    },
    {
     "name": "stdout",
     "output_type": "stream",
     "text": [
      "[INFO] [2021-10-31 20:21:11,530] [OpenBox-Shadan] Iteration 610, objective value: [41.330348126921265].\n"
     ]
    },
    {
     "name": "stderr",
     "output_type": "stream",
     "text": [
      "\r",
      " 61%|██████    | 610/1000 [5:57:25<3:37:33, 33.47s/it]"
     ]
    },
    {
     "name": "stdout",
     "output_type": "stream",
     "text": [
      "[INFO] [2021-10-31 20:21:48,706] [OpenBox-Shadan] Iteration 611, objective value: [47.18886101338911].\n"
     ]
    },
    {
     "name": "stderr",
     "output_type": "stream",
     "text": [
      "\r",
      " 61%|██████    | 611/1000 [5:58:02<3:44:12, 34.58s/it]"
     ]
    },
    {
     "name": "stdout",
     "output_type": "stream",
     "text": [
      "[INFO] [2021-10-31 20:22:20,207] [OpenBox-Shadan] Iteration 612, objective value: [20.3187167426332].\n"
     ]
    },
    {
     "name": "stderr",
     "output_type": "stream",
     "text": [
      "\r",
      " 61%|██████    | 612/1000 [5:58:33<3:37:39, 33.66s/it]"
     ]
    },
    {
     "name": "stdout",
     "output_type": "stream",
     "text": [
      "[INFO] [2021-10-31 20:22:56,336] [OpenBox-Shadan] Iteration 613, objective value: [37.692273281686575].\n"
     ]
    },
    {
     "name": "stderr",
     "output_type": "stream",
     "text": [
      "\r",
      " 61%|██████▏   | 613/1000 [5:59:10<3:41:52, 34.40s/it]"
     ]
    },
    {
     "name": "stdout",
     "output_type": "stream",
     "text": [
      "[INFO] [2021-10-31 20:23:24,307] [OpenBox-Shadan] Iteration 614, objective value: [23.790910913296898].\n"
     ]
    },
    {
     "name": "stderr",
     "output_type": "stream",
     "text": [
      "\r",
      " 61%|██████▏   | 614/1000 [5:59:38<3:28:53, 32.47s/it]"
     ]
    },
    {
     "name": "stdout",
     "output_type": "stream",
     "text": [
      "[INFO] [2021-10-31 20:24:08,046] [OpenBox-Shadan] Iteration 615, objective value: [31.713469793244187].\n"
     ]
    },
    {
     "name": "stderr",
     "output_type": "stream",
     "text": [
      "\r",
      " 62%|██████▏   | 615/1000 [6:00:21<3:50:02, 35.85s/it]"
     ]
    },
    {
     "name": "stdout",
     "output_type": "stream",
     "text": [
      "[INFO] [2021-10-31 20:24:41,890] [OpenBox-Shadan] Iteration 616, objective value: [22.07039573100235].\n"
     ]
    },
    {
     "name": "stderr",
     "output_type": "stream",
     "text": [
      "\r",
      " 62%|██████▏   | 616/1000 [6:00:55<3:45:35, 35.25s/it]"
     ]
    },
    {
     "name": "stdout",
     "output_type": "stream",
     "text": [
      "[INFO] [2021-10-31 20:25:14,288] [OpenBox-Shadan] Iteration 617, objective value: [32.395152038061].\n"
     ]
    },
    {
     "name": "stderr",
     "output_type": "stream",
     "text": [
      "\r",
      " 62%|██████▏   | 617/1000 [6:01:28<3:39:32, 34.39s/it]"
     ]
    },
    {
     "name": "stdout",
     "output_type": "stream",
     "text": [
      "[INFO] [2021-10-31 20:25:48,760] [OpenBox-Shadan] Iteration 618, objective value: [12.262522171688062].\n"
     ]
    },
    {
     "name": "stderr",
     "output_type": "stream",
     "text": [
      "\r",
      " 62%|██████▏   | 618/1000 [6:02:02<3:39:07, 34.42s/it]"
     ]
    },
    {
     "name": "stdout",
     "output_type": "stream",
     "text": [
      "[INFO] [2021-10-31 20:26:20,822] [OpenBox-Shadan] Iteration 619, objective value: [32.36385022148214].\n"
     ]
    },
    {
     "name": "stderr",
     "output_type": "stream",
     "text": [
      "\r",
      " 62%|██████▏   | 619/1000 [6:02:34<3:34:03, 33.71s/it]"
     ]
    },
    {
     "name": "stdout",
     "output_type": "stream",
     "text": [
      "[INFO] [2021-10-31 20:26:54,516] [OpenBox-Shadan] Iteration 620, objective value: [26.77787478843021].\n"
     ]
    },
    {
     "name": "stderr",
     "output_type": "stream",
     "text": [
      "\r",
      " 62%|██████▏   | 620/1000 [6:03:08<3:33:28, 33.71s/it]"
     ]
    },
    {
     "name": "stdout",
     "output_type": "stream",
     "text": [
      "[INFO] [2021-10-31 20:27:22,426] [OpenBox-Shadan] Iteration 621, objective value: [24.445477277414582].\n"
     ]
    },
    {
     "name": "stderr",
     "output_type": "stream",
     "text": [
      "\r",
      " 62%|██████▏   | 621/1000 [6:03:36<3:21:55, 31.97s/it]"
     ]
    },
    {
     "name": "stdout",
     "output_type": "stream",
     "text": [
      "[INFO] [2021-10-31 20:27:56,080] [OpenBox-Shadan] Iteration 622, objective value: [8.644062967149893].\n"
     ]
    },
    {
     "name": "stderr",
     "output_type": "stream",
     "text": [
      "\r",
      " 62%|██████▏   | 622/1000 [6:04:09<3:24:34, 32.47s/it]"
     ]
    },
    {
     "name": "stdout",
     "output_type": "stream",
     "text": [
      "[INFO] [2021-10-31 20:28:28,312] [OpenBox-Shadan] Iteration 623, objective value: [30.954787629752573].\n"
     ]
    },
    {
     "name": "stderr",
     "output_type": "stream",
     "text": [
      "\r",
      " 62%|██████▏   | 623/1000 [6:04:42<3:23:35, 32.40s/it]"
     ]
    },
    {
     "name": "stdout",
     "output_type": "stream",
     "text": [
      "[INFO] [2021-10-31 20:29:00,735] [OpenBox-Shadan] Iteration 624, objective value: [45.30419348510058].\n"
     ]
    },
    {
     "name": "stderr",
     "output_type": "stream",
     "text": [
      "\r",
      " 62%|██████▏   | 624/1000 [6:05:14<3:23:05, 32.41s/it]"
     ]
    },
    {
     "name": "stdout",
     "output_type": "stream",
     "text": [
      "[INFO] [2021-10-31 20:29:30,977] [OpenBox-Shadan] Iteration 625, objective value: [28.688291788481706].\n"
     ]
    },
    {
     "name": "stderr",
     "output_type": "stream",
     "text": [
      "\r",
      " 62%|██████▎   | 625/1000 [6:05:44<3:18:29, 31.76s/it]"
     ]
    },
    {
     "name": "stdout",
     "output_type": "stream",
     "text": [
      "[INFO] [2021-10-31 20:30:06,391] [OpenBox-Shadan] Iteration 626, objective value: [100.0].\n"
     ]
    },
    {
     "name": "stderr",
     "output_type": "stream",
     "text": [
      "\r",
      " 63%|██████▎   | 626/1000 [6:06:20<3:24:47, 32.85s/it]"
     ]
    },
    {
     "name": "stdout",
     "output_type": "stream",
     "text": [
      "[INFO] [2021-10-31 20:30:39,634] [OpenBox-Shadan] Iteration 627, objective value: [31.547121973249787].\n"
     ]
    },
    {
     "name": "stderr",
     "output_type": "stream",
     "text": [
      "\r",
      " 63%|██████▎   | 627/1000 [6:06:53<3:24:58, 32.97s/it]"
     ]
    },
    {
     "name": "stdout",
     "output_type": "stream",
     "text": [
      "[INFO] [2021-10-31 20:31:11,531] [OpenBox-Shadan] Iteration 628, objective value: [23.582035748224285].\n"
     ]
    },
    {
     "name": "stderr",
     "output_type": "stream",
     "text": [
      "\r",
      " 63%|██████▎   | 628/1000 [6:07:25<3:22:25, 32.65s/it]"
     ]
    },
    {
     "name": "stdout",
     "output_type": "stream",
     "text": [
      "[INFO] [2021-10-31 20:31:39,035] [OpenBox-Shadan] Iteration 629, objective value: [100.0].\n"
     ]
    },
    {
     "name": "stderr",
     "output_type": "stream",
     "text": [
      "\r",
      " 63%|██████▎   | 629/1000 [6:07:52<3:12:20, 31.11s/it]"
     ]
    },
    {
     "name": "stdout",
     "output_type": "stream",
     "text": [
      "[INFO] [2021-10-31 20:32:10,805] [OpenBox-Shadan] Iteration 630, objective value: [23.41552386447981].\n"
     ]
    },
    {
     "name": "stderr",
     "output_type": "stream",
     "text": [
      "\r",
      " 63%|██████▎   | 630/1000 [6:08:24<3:13:02, 31.30s/it]"
     ]
    },
    {
     "name": "stdout",
     "output_type": "stream",
     "text": [
      "[INFO] [2021-10-31 20:32:45,340] [OpenBox-Shadan] Iteration 631, objective value: [23.462876946160762].\n"
     ]
    },
    {
     "name": "stderr",
     "output_type": "stream",
     "text": [
      "\r",
      " 63%|██████▎   | 631/1000 [6:08:59<3:18:28, 32.27s/it]"
     ]
    },
    {
     "name": "stdout",
     "output_type": "stream",
     "text": [
      "[INFO] [2021-10-31 20:33:16,608] [OpenBox-Shadan] Iteration 632, objective value: [22.688012167745086].\n"
     ]
    },
    {
     "name": "stderr",
     "output_type": "stream",
     "text": [
      "\r",
      " 63%|██████▎   | 632/1000 [6:09:30<3:16:05, 31.97s/it]"
     ]
    },
    {
     "name": "stdout",
     "output_type": "stream",
     "text": [
      "[INFO] [2021-10-31 20:33:52,754] [OpenBox-Shadan] Iteration 633, objective value: [38.69168703013727].\n"
     ]
    },
    {
     "name": "stderr",
     "output_type": "stream",
     "text": [
      "\r",
      " 63%|██████▎   | 633/1000 [6:10:06<3:23:13, 33.22s/it]"
     ]
    },
    {
     "name": "stdout",
     "output_type": "stream",
     "text": [
      "[INFO] [2021-10-31 20:34:30,916] [OpenBox-Shadan] Iteration 634, objective value: [41.5475046874483].\n"
     ]
    },
    {
     "name": "stderr",
     "output_type": "stream",
     "text": [
      "\r",
      " 63%|██████▎   | 634/1000 [6:10:44<3:31:42, 34.71s/it]"
     ]
    },
    {
     "name": "stdout",
     "output_type": "stream",
     "text": [
      "[INFO] [2021-10-31 20:35:03,500] [OpenBox-Shadan] Iteration 635, objective value: [20.7025404687126].\n"
     ]
    },
    {
     "name": "stderr",
     "output_type": "stream",
     "text": [
      "\r",
      " 64%|██████▎   | 635/1000 [6:11:17<3:27:15, 34.07s/it]"
     ]
    },
    {
     "name": "stdout",
     "output_type": "stream",
     "text": [
      "[INFO] [2021-10-31 20:35:39,034] [OpenBox-Shadan] Iteration 636, objective value: [33.99378974351531].\n"
     ]
    },
    {
     "name": "stderr",
     "output_type": "stream",
     "text": [
      "\r",
      " 64%|██████▎   | 636/1000 [6:11:52<3:29:21, 34.51s/it]"
     ]
    },
    {
     "name": "stdout",
     "output_type": "stream",
     "text": [
      "[INFO] [2021-10-31 20:36:11,542] [OpenBox-Shadan] Iteration 637, objective value: [23.024947199103963].\n"
     ]
    },
    {
     "name": "stderr",
     "output_type": "stream",
     "text": [
      "\r",
      " 64%|██████▎   | 637/1000 [6:12:25<3:25:08, 33.91s/it]"
     ]
    },
    {
     "name": "stdout",
     "output_type": "stream",
     "text": [
      "[INFO] [2021-10-31 20:36:41,885] [OpenBox-Shadan] Iteration 638, objective value: [29.264841952347652].\n"
     ]
    },
    {
     "name": "stderr",
     "output_type": "stream",
     "text": [
      "\r",
      " 64%|██████▍   | 638/1000 [6:12:55<3:18:07, 32.84s/it]"
     ]
    },
    {
     "name": "stdout",
     "output_type": "stream",
     "text": [
      "[INFO] [2021-10-31 20:37:15,386] [OpenBox-Shadan] Iteration 639, objective value: [31.32206747912153].\n"
     ]
    },
    {
     "name": "stderr",
     "output_type": "stream",
     "text": [
      "\r",
      " 64%|██████▍   | 639/1000 [6:13:29<3:18:46, 33.04s/it]"
     ]
    },
    {
     "name": "stdout",
     "output_type": "stream",
     "text": [
      "[INFO] [2021-10-31 20:37:50,505] [OpenBox-Shadan] Iteration 640, objective value: [31.98277544068125].\n"
     ]
    },
    {
     "name": "stderr",
     "output_type": "stream",
     "text": [
      "\r",
      " 64%|██████▍   | 640/1000 [6:14:04<3:21:58, 33.66s/it]"
     ]
    },
    {
     "name": "stdout",
     "output_type": "stream",
     "text": [
      "[INFO] [2021-10-31 20:38:19,306] [OpenBox-Shadan] Iteration 641, objective value: [23.286321758137277].\n"
     ]
    },
    {
     "name": "stderr",
     "output_type": "stream",
     "text": [
      "\r",
      " 64%|██████▍   | 641/1000 [6:14:33<3:12:41, 32.20s/it]"
     ]
    },
    {
     "name": "stdout",
     "output_type": "stream",
     "text": [
      "[INFO] [2021-10-31 20:38:53,942] [OpenBox-Shadan] Iteration 642, objective value: [30.481212970050137].\n"
     ]
    },
    {
     "name": "stderr",
     "output_type": "stream",
     "text": [
      "\r",
      " 64%|██████▍   | 642/1000 [6:15:07<3:16:30, 32.93s/it]"
     ]
    },
    {
     "name": "stdout",
     "output_type": "stream",
     "text": [
      "[INFO] [2021-10-31 20:39:29,804] [OpenBox-Shadan] Iteration 643, objective value: [30.614165401307673].\n"
     ]
    },
    {
     "name": "stderr",
     "output_type": "stream",
     "text": [
      "\r",
      " 64%|██████▍   | 643/1000 [6:15:43<3:21:10, 33.81s/it]"
     ]
    },
    {
     "name": "stdout",
     "output_type": "stream",
     "text": [
      "[INFO] [2021-10-31 20:39:58,159] [OpenBox-Shadan] Iteration 644, objective value: [100.0].\n"
     ]
    },
    {
     "name": "stderr",
     "output_type": "stream",
     "text": [
      "\r",
      " 64%|██████▍   | 644/1000 [6:16:11<3:10:54, 32.17s/it]"
     ]
    },
    {
     "name": "stdout",
     "output_type": "stream",
     "text": [
      "[INFO] [2021-10-31 20:40:31,504] [OpenBox-Shadan] Iteration 645, objective value: [14.042847556531456].\n"
     ]
    },
    {
     "name": "stderr",
     "output_type": "stream",
     "text": [
      "\r",
      " 64%|██████▍   | 645/1000 [6:16:45<3:12:26, 32.53s/it]"
     ]
    },
    {
     "name": "stdout",
     "output_type": "stream",
     "text": [
      "[INFO] [2021-10-31 20:41:05,642] [OpenBox-Shadan] Iteration 646, objective value: [25.361213490407565].\n"
     ]
    },
    {
     "name": "stderr",
     "output_type": "stream",
     "text": [
      "\r",
      " 65%|██████▍   | 646/1000 [6:17:19<3:14:45, 33.01s/it]"
     ]
    },
    {
     "name": "stdout",
     "output_type": "stream",
     "text": [
      "[INFO] [2021-10-31 20:41:40,686] [OpenBox-Shadan] Iteration 647, objective value: [26.996038709403436].\n"
     ]
    },
    {
     "name": "stderr",
     "output_type": "stream",
     "text": [
      "\r",
      " 65%|██████▍   | 647/1000 [6:17:54<3:17:47, 33.62s/it]"
     ]
    },
    {
     "name": "stdout",
     "output_type": "stream",
     "text": [
      "[INFO] [2021-10-31 20:42:09,276] [OpenBox-Shadan] Iteration 648, objective value: [27.8856410287528].\n"
     ]
    },
    {
     "name": "stderr",
     "output_type": "stream",
     "text": [
      "\r",
      " 65%|██████▍   | 648/1000 [6:18:23<3:08:22, 32.11s/it]"
     ]
    },
    {
     "name": "stdout",
     "output_type": "stream",
     "text": [
      "[INFO] [2021-10-31 20:42:41,368] [OpenBox-Shadan] Iteration 649, objective value: [100.0].\n"
     ]
    },
    {
     "name": "stderr",
     "output_type": "stream",
     "text": [
      "\r",
      " 65%|██████▍   | 649/1000 [6:18:55<3:07:48, 32.11s/it]"
     ]
    },
    {
     "name": "stdout",
     "output_type": "stream",
     "text": [
      "[INFO] [2021-10-31 20:43:22,319] [OpenBox-Shadan] Iteration 650, objective value: [33.22835362280621].\n"
     ]
    },
    {
     "name": "stderr",
     "output_type": "stream",
     "text": [
      "\r",
      " 65%|██████▌   | 650/1000 [6:19:36<3:22:45, 34.76s/it]"
     ]
    },
    {
     "name": "stdout",
     "output_type": "stream",
     "text": [
      "[INFO] [2021-10-31 20:43:56,295] [OpenBox-Shadan] Iteration 651, objective value: [26.49475270605211].\n"
     ]
    },
    {
     "name": "stderr",
     "output_type": "stream",
     "text": [
      "\r",
      " 65%|██████▌   | 651/1000 [6:20:10<3:20:48, 34.52s/it]"
     ]
    },
    {
     "name": "stdout",
     "output_type": "stream",
     "text": [
      "[INFO] [2021-10-31 20:44:25,462] [OpenBox-Shadan] Iteration 652, objective value: [23.962890284412296].\n"
     ]
    },
    {
     "name": "stderr",
     "output_type": "stream",
     "text": [
      "\r",
      " 65%|██████▌   | 652/1000 [6:20:39<3:10:55, 32.92s/it]"
     ]
    },
    {
     "name": "stdout",
     "output_type": "stream",
     "text": [
      "[INFO] [2021-10-31 20:45:00,584] [OpenBox-Shadan] Iteration 653, objective value: [8.212551133094465].\n"
     ]
    },
    {
     "name": "stderr",
     "output_type": "stream",
     "text": [
      "\r",
      " 65%|██████▌   | 653/1000 [6:21:14<3:14:11, 33.58s/it]"
     ]
    },
    {
     "name": "stdout",
     "output_type": "stream",
     "text": [
      "[INFO] [2021-10-31 20:45:33,746] [OpenBox-Shadan] Iteration 654, objective value: [27.047843862493025].\n"
     ]
    },
    {
     "name": "stderr",
     "output_type": "stream",
     "text": [
      "\r",
      " 65%|██████▌   | 654/1000 [6:21:47<3:12:54, 33.45s/it]"
     ]
    },
    {
     "name": "stdout",
     "output_type": "stream",
     "text": [
      "[INFO] [2021-10-31 20:46:09,107] [OpenBox-Shadan] Iteration 655, objective value: [28.10012627127871].\n"
     ]
    },
    {
     "name": "stderr",
     "output_type": "stream",
     "text": [
      "\r",
      " 66%|██████▌   | 655/1000 [6:22:22<3:15:38, 34.03s/it]"
     ]
    },
    {
     "name": "stdout",
     "output_type": "stream",
     "text": [
      "[INFO] [2021-10-31 20:46:41,676] [OpenBox-Shadan] Iteration 656, objective value: [23.384161494871563].\n"
     ]
    },
    {
     "name": "stderr",
     "output_type": "stream",
     "text": [
      "\r",
      " 66%|██████▌   | 656/1000 [6:22:55<3:12:34, 33.59s/it]"
     ]
    },
    {
     "name": "stdout",
     "output_type": "stream",
     "text": [
      "[INFO] [2021-10-31 20:47:12,757] [OpenBox-Shadan] Iteration 657, objective value: [7.772004697007631].\n"
     ]
    },
    {
     "name": "stderr",
     "output_type": "stream",
     "text": [
      "\r",
      " 66%|██████▌   | 657/1000 [6:23:26<3:07:42, 32.84s/it]"
     ]
    },
    {
     "name": "stdout",
     "output_type": "stream",
     "text": [
      "[INFO] [2021-10-31 20:47:49,079] [OpenBox-Shadan] Iteration 658, objective value: [28.239000344111687].\n"
     ]
    },
    {
     "name": "stderr",
     "output_type": "stream",
     "text": [
      "\r",
      " 66%|██████▌   | 658/1000 [6:24:02<3:13:07, 33.88s/it]"
     ]
    },
    {
     "name": "stdout",
     "output_type": "stream",
     "text": [
      "[INFO] [2021-10-31 20:48:28,429] [OpenBox-Shadan] Iteration 659, objective value: [42.932888890509744].\n"
     ]
    },
    {
     "name": "stderr",
     "output_type": "stream",
     "text": [
      "\r",
      " 66%|██████▌   | 659/1000 [6:24:42<3:21:53, 35.52s/it]"
     ]
    },
    {
     "name": "stdout",
     "output_type": "stream",
     "text": [
      "[INFO] [2021-10-31 20:49:04,030] [OpenBox-Shadan] Iteration 660, objective value: [100.0].\n"
     ]
    },
    {
     "name": "stderr",
     "output_type": "stream",
     "text": [
      "\r",
      " 66%|██████▌   | 660/1000 [6:25:17<3:21:25, 35.55s/it]"
     ]
    },
    {
     "name": "stdout",
     "output_type": "stream",
     "text": [
      "[INFO] [2021-10-31 20:49:31,059] [OpenBox-Shadan] Iteration 661, objective value: [100.0].\n"
     ]
    },
    {
     "name": "stderr",
     "output_type": "stream",
     "text": [
      "\r",
      " 66%|██████▌   | 661/1000 [6:25:44<3:06:23, 32.99s/it]"
     ]
    },
    {
     "name": "stdout",
     "output_type": "stream",
     "text": [
      "[INFO] [2021-10-31 20:50:02,932] [OpenBox-Shadan] Iteration 662, objective value: [22.81958014138378].\n"
     ]
    },
    {
     "name": "stderr",
     "output_type": "stream",
     "text": [
      "\r",
      " 66%|██████▌   | 662/1000 [6:26:16<3:03:57, 32.66s/it]"
     ]
    },
    {
     "name": "stdout",
     "output_type": "stream",
     "text": [
      "[INFO] [2021-10-31 20:50:36,198] [OpenBox-Shadan] Iteration 663, objective value: [26.120691324316198].\n"
     ]
    },
    {
     "name": "stderr",
     "output_type": "stream",
     "text": [
      "\r",
      " 66%|██████▋   | 663/1000 [6:26:49<3:04:26, 32.84s/it]"
     ]
    },
    {
     "name": "stdout",
     "output_type": "stream",
     "text": [
      "[INFO] [2021-10-31 20:51:10,700] [OpenBox-Shadan] Iteration 664, objective value: [24.39774497368407].\n"
     ]
    },
    {
     "name": "stderr",
     "output_type": "stream",
     "text": [
      "\r",
      " 66%|██████▋   | 664/1000 [6:27:24<3:06:41, 33.34s/it]"
     ]
    },
    {
     "name": "stdout",
     "output_type": "stream",
     "text": [
      "[INFO] [2021-10-31 20:51:41,331] [OpenBox-Shadan] Iteration 665, objective value: [34.37107699737011].\n"
     ]
    },
    {
     "name": "stderr",
     "output_type": "stream",
     "text": [
      "\r",
      " 66%|██████▋   | 665/1000 [6:27:55<3:01:36, 32.53s/it]"
     ]
    },
    {
     "name": "stdout",
     "output_type": "stream",
     "text": [
      "[INFO] [2021-10-31 20:52:14,953] [OpenBox-Shadan] Iteration 666, objective value: [28.70120229636639].\n"
     ]
    },
    {
     "name": "stderr",
     "output_type": "stream",
     "text": [
      "\r",
      " 67%|██████▋   | 666/1000 [6:28:28<3:02:53, 32.85s/it]"
     ]
    },
    {
     "name": "stdout",
     "output_type": "stream",
     "text": [
      "[INFO] [2021-10-31 20:52:50,467] [OpenBox-Shadan] Iteration 667, objective value: [35.070320004148044].\n"
     ]
    },
    {
     "name": "stderr",
     "output_type": "stream",
     "text": [
      "\r",
      " 67%|██████▋   | 667/1000 [6:29:04<3:06:46, 33.65s/it]"
     ]
    },
    {
     "name": "stdout",
     "output_type": "stream",
     "text": [
      "[INFO] [2021-10-31 20:53:24,453] [OpenBox-Shadan] Iteration 668, objective value: [24.02799603726993].\n"
     ]
    },
    {
     "name": "stderr",
     "output_type": "stream",
     "text": [
      "\r",
      " 67%|██████▋   | 668/1000 [6:29:38<3:06:45, 33.75s/it]"
     ]
    },
    {
     "name": "stdout",
     "output_type": "stream",
     "text": [
      "[INFO] [2021-10-31 20:53:56,600] [OpenBox-Shadan] Iteration 669, objective value: [31.977196986559377].\n"
     ]
    },
    {
     "name": "stderr",
     "output_type": "stream",
     "text": [
      "\r",
      " 67%|██████▋   | 669/1000 [6:30:10<3:03:32, 33.27s/it]"
     ]
    },
    {
     "name": "stdout",
     "output_type": "stream",
     "text": [
      "[INFO] [2021-10-31 20:54:28,067] [OpenBox-Shadan] Iteration 670, objective value: [32.440338239713014].\n"
     ]
    },
    {
     "name": "stderr",
     "output_type": "stream",
     "text": [
      "\r",
      " 67%|██████▋   | 670/1000 [6:30:41<3:00:00, 32.73s/it]"
     ]
    },
    {
     "name": "stdout",
     "output_type": "stream",
     "text": [
      "[INFO] [2021-10-31 20:55:03,852] [OpenBox-Shadan] Iteration 671, objective value: [31.27622149602351].\n"
     ]
    },
    {
     "name": "stderr",
     "output_type": "stream",
     "text": [
      "\r",
      " 67%|██████▋   | 671/1000 [6:31:17<3:04:29, 33.65s/it]"
     ]
    },
    {
     "name": "stdout",
     "output_type": "stream",
     "text": [
      "[INFO] [2021-10-31 20:55:31,161] [OpenBox-Shadan] Iteration 672, objective value: [100.0].\n"
     ]
    },
    {
     "name": "stderr",
     "output_type": "stream",
     "text": [
      "\r",
      " 67%|██████▋   | 672/1000 [6:31:44<2:53:32, 31.75s/it]"
     ]
    },
    {
     "name": "stdout",
     "output_type": "stream",
     "text": [
      "[INFO] [2021-10-31 20:56:09,328] [OpenBox-Shadan] Iteration 673, objective value: [24.154410619116064].\n"
     ]
    },
    {
     "name": "stderr",
     "output_type": "stream",
     "text": [
      "\r",
      " 67%|██████▋   | 673/1000 [6:32:23<3:03:30, 33.67s/it]"
     ]
    },
    {
     "name": "stdout",
     "output_type": "stream",
     "text": [
      "[INFO] [2021-10-31 20:56:42,740] [OpenBox-Shadan] Iteration 674, objective value: [100.0].\n"
     ]
    },
    {
     "name": "stderr",
     "output_type": "stream",
     "text": [
      "\r",
      " 67%|██████▋   | 674/1000 [6:32:56<3:02:31, 33.59s/it]"
     ]
    },
    {
     "name": "stdout",
     "output_type": "stream",
     "text": [
      "[INFO] [2021-10-31 20:57:13,000] [OpenBox-Shadan] Iteration 675, objective value: [100.0].\n"
     ]
    },
    {
     "name": "stderr",
     "output_type": "stream",
     "text": [
      "\r",
      " 68%|██████▊   | 675/1000 [6:33:26<2:56:32, 32.59s/it]"
     ]
    },
    {
     "name": "stdout",
     "output_type": "stream",
     "text": [
      "[INFO] [2021-10-31 20:57:45,604] [OpenBox-Shadan] Iteration 676, objective value: [28.581976208839592].\n"
     ]
    },
    {
     "name": "stderr",
     "output_type": "stream",
     "text": [
      "\r",
      " 68%|██████▊   | 676/1000 [6:33:59<2:56:01, 32.60s/it]"
     ]
    },
    {
     "name": "stdout",
     "output_type": "stream",
     "text": [
      "[INFO] [2021-10-31 20:58:14,007] [OpenBox-Shadan] Iteration 677, objective value: [29.17648964501251].\n"
     ]
    },
    {
     "name": "stderr",
     "output_type": "stream",
     "text": [
      "\r",
      " 68%|██████▊   | 677/1000 [6:34:27<2:48:42, 31.34s/it]"
     ]
    },
    {
     "name": "stdout",
     "output_type": "stream",
     "text": [
      "[INFO] [2021-10-31 20:58:49,595] [OpenBox-Shadan] Iteration 678, objective value: [6.001233899529765].\n"
     ]
    },
    {
     "name": "stderr",
     "output_type": "stream",
     "text": [
      "\r",
      " 68%|██████▊   | 678/1000 [6:35:03<2:55:01, 32.61s/it]"
     ]
    },
    {
     "name": "stdout",
     "output_type": "stream",
     "text": [
      "[INFO] [2021-10-31 20:59:26,189] [OpenBox-Shadan] Iteration 679, objective value: [23.75047269769064].\n"
     ]
    },
    {
     "name": "stderr",
     "output_type": "stream",
     "text": [
      "\r",
      " 68%|██████▊   | 679/1000 [6:35:39<3:00:52, 33.81s/it]"
     ]
    },
    {
     "name": "stdout",
     "output_type": "stream",
     "text": [
      "[INFO] [2021-10-31 20:59:58,257] [OpenBox-Shadan] Iteration 680, objective value: [23.9726206372669].\n"
     ]
    },
    {
     "name": "stderr",
     "output_type": "stream",
     "text": [
      "\r",
      " 68%|██████▊   | 680/1000 [6:36:11<2:57:31, 33.29s/it]"
     ]
    },
    {
     "name": "stdout",
     "output_type": "stream",
     "text": [
      "[INFO] [2021-10-31 21:00:30,399] [OpenBox-Shadan] Iteration 681, objective value: [11.88600064015948].\n"
     ]
    },
    {
     "name": "stderr",
     "output_type": "stream",
     "text": [
      "\r",
      " 68%|██████▊   | 681/1000 [6:36:44<2:55:08, 32.94s/it]"
     ]
    },
    {
     "name": "stdout",
     "output_type": "stream",
     "text": [
      "[INFO] [2021-10-31 21:01:06,950] [OpenBox-Shadan] Iteration 682, objective value: [23.79552092136305].\n"
     ]
    },
    {
     "name": "stderr",
     "output_type": "stream",
     "text": [
      "\r",
      " 68%|██████▊   | 682/1000 [6:37:20<3:00:19, 34.03s/it]"
     ]
    },
    {
     "name": "stdout",
     "output_type": "stream",
     "text": [
      "[INFO] [2021-10-31 21:01:42,043] [OpenBox-Shadan] Iteration 683, objective value: [28.64570279248167].\n"
     ]
    },
    {
     "name": "stderr",
     "output_type": "stream",
     "text": [
      "\r",
      " 68%|██████▊   | 683/1000 [6:37:55<3:01:27, 34.35s/it]"
     ]
    },
    {
     "name": "stdout",
     "output_type": "stream",
     "text": [
      "[INFO] [2021-10-31 21:02:13,619] [OpenBox-Shadan] Iteration 684, objective value: [23.15012697981622].\n"
     ]
    },
    {
     "name": "stderr",
     "output_type": "stream",
     "text": [
      "\r",
      " 68%|██████▊   | 684/1000 [6:38:27<2:56:30, 33.51s/it]"
     ]
    },
    {
     "name": "stdout",
     "output_type": "stream",
     "text": [
      "[INFO] [2021-10-31 21:02:43,660] [OpenBox-Shadan] Iteration 685, objective value: [48.61109667558144].\n"
     ]
    },
    {
     "name": "stderr",
     "output_type": "stream",
     "text": [
      "\r",
      " 68%|██████▊   | 685/1000 [6:38:57<2:50:28, 32.47s/it]"
     ]
    },
    {
     "name": "stdout",
     "output_type": "stream",
     "text": [
      "[INFO] [2021-10-31 21:03:15,691] [OpenBox-Shadan] Iteration 686, objective value: [24.974917532031].\n"
     ]
    },
    {
     "name": "stderr",
     "output_type": "stream",
     "text": [
      "\r",
      " 69%|██████▊   | 686/1000 [6:39:29<2:49:14, 32.34s/it]"
     ]
    },
    {
     "name": "stdout",
     "output_type": "stream",
     "text": [
      "[INFO] [2021-10-31 21:03:49,801] [OpenBox-Shadan] Iteration 687, objective value: [31.41262580989664].\n"
     ]
    },
    {
     "name": "stderr",
     "output_type": "stream",
     "text": [
      "\r",
      " 69%|██████▊   | 687/1000 [6:40:03<2:51:28, 32.87s/it]"
     ]
    },
    {
     "name": "stdout",
     "output_type": "stream",
     "text": [
      "[INFO] [2021-10-31 21:04:16,302] [OpenBox-Shadan] Iteration 688, objective value: [100.0].\n"
     ]
    },
    {
     "name": "stderr",
     "output_type": "stream",
     "text": [
      "\r",
      " 69%|██████▉   | 688/1000 [6:40:30<2:40:59, 30.96s/it]"
     ]
    },
    {
     "name": "stdout",
     "output_type": "stream",
     "text": [
      "[INFO] [2021-10-31 21:04:48,082] [OpenBox-Shadan] Iteration 689, objective value: [29.84206345889919].\n"
     ]
    },
    {
     "name": "stderr",
     "output_type": "stream",
     "text": [
      "\r",
      " 69%|██████▉   | 689/1000 [6:41:01<2:41:45, 31.21s/it]"
     ]
    },
    {
     "name": "stdout",
     "output_type": "stream",
     "text": [
      "[INFO] [2021-10-31 21:05:24,791] [OpenBox-Shadan] Iteration 690, objective value: [27.866002490059785].\n"
     ]
    },
    {
     "name": "stderr",
     "output_type": "stream",
     "text": [
      "\r",
      " 69%|██████▉   | 690/1000 [6:41:38<2:49:45, 32.86s/it]"
     ]
    },
    {
     "name": "stdout",
     "output_type": "stream",
     "text": [
      "[INFO] [2021-10-31 21:05:56,617] [OpenBox-Shadan] Iteration 691, objective value: [24.68728742895057].\n"
     ]
    },
    {
     "name": "stderr",
     "output_type": "stream",
     "text": [
      "\r",
      " 69%|██████▉   | 691/1000 [6:42:10<2:47:37, 32.55s/it]"
     ]
    },
    {
     "name": "stdout",
     "output_type": "stream",
     "text": [
      "[INFO] [2021-10-31 21:06:28,908] [OpenBox-Shadan] Iteration 692, objective value: [26.935526329099105].\n"
     ]
    },
    {
     "name": "stderr",
     "output_type": "stream",
     "text": [
      "\r",
      " 69%|██████▉   | 692/1000 [6:42:42<2:46:40, 32.47s/it]"
     ]
    },
    {
     "name": "stdout",
     "output_type": "stream",
     "text": [
      "[INFO] [2021-10-31 21:06:57,241] [OpenBox-Shadan] Iteration 693, objective value: [21.9400287388181].\n"
     ]
    },
    {
     "name": "stderr",
     "output_type": "stream",
     "text": [
      "\r",
      " 69%|██████▉   | 693/1000 [6:43:10<2:39:47, 31.23s/it]"
     ]
    },
    {
     "name": "stdout",
     "output_type": "stream",
     "text": [
      "[INFO] [2021-10-31 21:07:28,366] [OpenBox-Shadan] Iteration 694, objective value: [19.66730554372249].\n"
     ]
    },
    {
     "name": "stderr",
     "output_type": "stream",
     "text": [
      "\r",
      " 69%|██████▉   | 694/1000 [6:43:42<2:39:06, 31.20s/it]"
     ]
    },
    {
     "name": "stdout",
     "output_type": "stream",
     "text": [
      "[INFO] [2021-10-31 21:08:04,744] [OpenBox-Shadan] Iteration 695, objective value: [27.950035202180473].\n"
     ]
    },
    {
     "name": "stderr",
     "output_type": "stream",
     "text": [
      "\r",
      " 70%|██████▉   | 695/1000 [6:44:18<2:46:29, 32.75s/it]"
     ]
    },
    {
     "name": "stdout",
     "output_type": "stream",
     "text": [
      "[INFO] [2021-10-31 21:08:41,451] [OpenBox-Shadan] Iteration 696, objective value: [31.8213686999201].\n"
     ]
    },
    {
     "name": "stderr",
     "output_type": "stream",
     "text": [
      "\r",
      " 70%|██████▉   | 696/1000 [6:44:55<2:51:57, 33.94s/it]"
     ]
    },
    {
     "name": "stdout",
     "output_type": "stream",
     "text": [
      "[INFO] [2021-10-31 21:09:13,029] [OpenBox-Shadan] Iteration 697, objective value: [28.737509792767113].\n"
     ]
    },
    {
     "name": "stderr",
     "output_type": "stream",
     "text": [
      "\r",
      " 70%|██████▉   | 697/1000 [6:45:26<2:47:48, 33.23s/it]"
     ]
    },
    {
     "name": "stdout",
     "output_type": "stream",
     "text": [
      "[INFO] [2021-10-31 21:09:43,206] [OpenBox-Shadan] Iteration 698, objective value: [22.998793419942658].\n"
     ]
    },
    {
     "name": "stderr",
     "output_type": "stream",
     "text": [
      "\r",
      " 70%|██████▉   | 698/1000 [6:45:56<2:42:38, 32.31s/it]"
     ]
    },
    {
     "name": "stdout",
     "output_type": "stream",
     "text": [
      "[INFO] [2021-10-31 21:10:17,351] [OpenBox-Shadan] Iteration 699, objective value: [33.46756516878003].\n"
     ]
    },
    {
     "name": "stderr",
     "output_type": "stream",
     "text": [
      "\r",
      " 70%|██████▉   | 699/1000 [6:46:31<2:44:51, 32.86s/it]"
     ]
    },
    {
     "name": "stdout",
     "output_type": "stream",
     "text": [
      "[INFO] [2021-10-31 21:10:55,932] [OpenBox-Shadan] Iteration 700, objective value: [28.408755978426967].\n"
     ]
    },
    {
     "name": "stderr",
     "output_type": "stream",
     "text": [
      "\r",
      " 70%|███████   | 700/1000 [6:47:09<2:52:53, 34.58s/it]"
     ]
    },
    {
     "name": "stdout",
     "output_type": "stream",
     "text": [
      "[INFO] [2021-10-31 21:11:23,882] [OpenBox-Shadan] Iteration 701, objective value: [4.174051742054857].\n"
     ]
    },
    {
     "name": "stderr",
     "output_type": "stream",
     "text": [
      "\r",
      " 70%|███████   | 701/1000 [6:47:37<2:42:24, 32.59s/it]"
     ]
    },
    {
     "name": "stdout",
     "output_type": "stream",
     "text": [
      "[INFO] [2021-10-31 21:11:58,446] [OpenBox-Shadan] Iteration 702, objective value: [10.25042972678601].\n"
     ]
    },
    {
     "name": "stderr",
     "output_type": "stream",
     "text": [
      "\r",
      " 70%|███████   | 702/1000 [6:48:12<2:44:48, 33.18s/it]"
     ]
    },
    {
     "name": "stdout",
     "output_type": "stream",
     "text": [
      "[INFO] [2021-10-31 21:12:30,009] [OpenBox-Shadan] Iteration 703, objective value: [26.53630906817493].\n"
     ]
    },
    {
     "name": "stderr",
     "output_type": "stream",
     "text": [
      "\r",
      " 70%|███████   | 703/1000 [6:48:43<2:41:50, 32.70s/it]"
     ]
    },
    {
     "name": "stdout",
     "output_type": "stream",
     "text": [
      "[INFO] [2021-10-31 21:13:09,070] [OpenBox-Shadan] Iteration 704, objective value: [28.99677492733315].\n"
     ]
    },
    {
     "name": "stderr",
     "output_type": "stream",
     "text": [
      "\r",
      " 70%|███████   | 704/1000 [6:49:22<2:50:43, 34.61s/it]"
     ]
    },
    {
     "name": "stdout",
     "output_type": "stream",
     "text": [
      "[INFO] [2021-10-31 21:13:42,476] [OpenBox-Shadan] Iteration 705, objective value: [22.534315524485606].\n"
     ]
    },
    {
     "name": "stderr",
     "output_type": "stream",
     "text": [
      "\r",
      " 70%|███████   | 705/1000 [6:49:56<2:48:22, 34.25s/it]"
     ]
    },
    {
     "name": "stdout",
     "output_type": "stream",
     "text": [
      "[INFO] [2021-10-31 21:14:11,252] [OpenBox-Shadan] Iteration 706, objective value: [22.19432432893059].\n"
     ]
    },
    {
     "name": "stderr",
     "output_type": "stream",
     "text": [
      "\r",
      " 71%|███████   | 706/1000 [6:50:24<2:39:45, 32.60s/it]"
     ]
    },
    {
     "name": "stdout",
     "output_type": "stream",
     "text": [
      "[INFO] [2021-10-31 21:14:45,910] [OpenBox-Shadan] Iteration 707, objective value: [34.80022387224568].\n"
     ]
    },
    {
     "name": "stderr",
     "output_type": "stream",
     "text": [
      "\r",
      " 71%|███████   | 707/1000 [6:50:59<2:42:13, 33.22s/it]"
     ]
    },
    {
     "name": "stdout",
     "output_type": "stream",
     "text": [
      "[INFO] [2021-10-31 21:15:20,036] [OpenBox-Shadan] Iteration 708, objective value: [7.1255415206550055].\n"
     ]
    },
    {
     "name": "stderr",
     "output_type": "stream",
     "text": [
      "\r",
      " 71%|███████   | 708/1000 [6:51:33<2:42:59, 33.49s/it]"
     ]
    },
    {
     "name": "stdout",
     "output_type": "stream",
     "text": [
      "[INFO] [2021-10-31 21:15:53,106] [OpenBox-Shadan] Iteration 709, objective value: [37.229657855934306].\n"
     ]
    },
    {
     "name": "stderr",
     "output_type": "stream",
     "text": [
      "\r",
      " 71%|███████   | 709/1000 [6:52:06<2:41:49, 33.37s/it]"
     ]
    },
    {
     "name": "stdout",
     "output_type": "stream",
     "text": [
      "[INFO] [2021-10-31 21:16:27,502] [OpenBox-Shadan] Iteration 710, objective value: [33.835377299115095].\n"
     ]
    },
    {
     "name": "stderr",
     "output_type": "stream",
     "text": [
      "\r",
      " 71%|███████   | 710/1000 [6:52:41<2:42:45, 33.67s/it]"
     ]
    },
    {
     "name": "stdout",
     "output_type": "stream",
     "text": [
      "[INFO] [2021-10-31 21:16:56,587] [OpenBox-Shadan] Iteration 711, objective value: [22.521661767760875].\n"
     ]
    },
    {
     "name": "stderr",
     "output_type": "stream",
     "text": [
      "\r",
      " 71%|███████   | 711/1000 [6:53:10<2:35:34, 32.30s/it]"
     ]
    },
    {
     "name": "stdout",
     "output_type": "stream",
     "text": [
      "[INFO] [2021-10-31 21:17:33,718] [OpenBox-Shadan] Iteration 712, objective value: [25.599380400747847].\n"
     ]
    },
    {
     "name": "stderr",
     "output_type": "stream",
     "text": [
      "\r",
      " 71%|███████   | 712/1000 [6:53:47<2:41:59, 33.75s/it]"
     ]
    },
    {
     "name": "stdout",
     "output_type": "stream",
     "text": [
      "[INFO] [2021-10-31 21:18:02,806] [OpenBox-Shadan] Iteration 713, objective value: [100.0].\n"
     ]
    },
    {
     "name": "stderr",
     "output_type": "stream",
     "text": [
      "\r",
      " 71%|███████▏  | 713/1000 [6:54:16<2:34:44, 32.35s/it]"
     ]
    },
    {
     "name": "stdout",
     "output_type": "stream",
     "text": [
      "[INFO] [2021-10-31 21:18:36,325] [OpenBox-Shadan] Iteration 714, objective value: [28.695854916563917].\n"
     ]
    },
    {
     "name": "stderr",
     "output_type": "stream",
     "text": [
      "\r",
      " 71%|███████▏  | 714/1000 [6:54:50<2:35:52, 32.70s/it]"
     ]
    },
    {
     "name": "stdout",
     "output_type": "stream",
     "text": [
      "[INFO] [2021-10-31 21:19:10,430] [OpenBox-Shadan] Iteration 715, objective value: [25.901299683724616].\n"
     ]
    },
    {
     "name": "stderr",
     "output_type": "stream",
     "text": [
      "\r",
      " 72%|███████▏  | 715/1000 [6:55:24<2:37:19, 33.12s/it]"
     ]
    },
    {
     "name": "stdout",
     "output_type": "stream",
     "text": [
      "[INFO] [2021-10-31 21:19:42,483] [OpenBox-Shadan] Iteration 716, objective value: [25.499893085570193].\n"
     ]
    },
    {
     "name": "stderr",
     "output_type": "stream",
     "text": [
      "\r",
      " 72%|███████▏  | 716/1000 [6:55:56<2:35:15, 32.80s/it]"
     ]
    },
    {
     "name": "stdout",
     "output_type": "stream",
     "text": [
      "[INFO] [2021-10-31 21:20:21,262] [OpenBox-Shadan] Iteration 717, objective value: [28.702446127063837].\n"
     ]
    },
    {
     "name": "stderr",
     "output_type": "stream",
     "text": [
      "\r",
      " 72%|███████▏  | 717/1000 [6:56:34<2:43:10, 34.59s/it]"
     ]
    },
    {
     "name": "stdout",
     "output_type": "stream",
     "text": [
      "[INFO] [2021-10-31 21:20:58,429] [OpenBox-Shadan] Iteration 718, objective value: [36.157006925145616].\n"
     ]
    },
    {
     "name": "stderr",
     "output_type": "stream",
     "text": [
      "\r",
      " 72%|███████▏  | 718/1000 [6:57:12<2:46:13, 35.37s/it]"
     ]
    },
    {
     "name": "stdout",
     "output_type": "stream",
     "text": [
      "[INFO] [2021-10-31 21:21:32,012] [OpenBox-Shadan] Iteration 719, objective value: [26.866644783154698].\n"
     ]
    },
    {
     "name": "stderr",
     "output_type": "stream",
     "text": [
      "\r",
      " 72%|███████▏  | 719/1000 [6:57:45<2:43:07, 34.83s/it]"
     ]
    },
    {
     "name": "stdout",
     "output_type": "stream",
     "text": [
      "[INFO] [2021-10-31 21:22:09,795] [OpenBox-Shadan] Iteration 720, objective value: [20.911166911910982].\n"
     ]
    },
    {
     "name": "stderr",
     "output_type": "stream",
     "text": [
      "\r",
      " 72%|███████▏  | 720/1000 [6:58:23<2:46:40, 35.72s/it]"
     ]
    },
    {
     "name": "stdout",
     "output_type": "stream",
     "text": [
      "[INFO] [2021-10-31 21:22:45,315] [OpenBox-Shadan] Iteration 721, objective value: [19.20978666486357].\n"
     ]
    },
    {
     "name": "stderr",
     "output_type": "stream",
     "text": [
      "\r",
      " 72%|███████▏  | 721/1000 [6:58:59<2:45:48, 35.66s/it]"
     ]
    },
    {
     "name": "stdout",
     "output_type": "stream",
     "text": [
      "[INFO] [2021-10-31 21:23:24,622] [OpenBox-Shadan] Iteration 722, objective value: [26.24606962079507].\n"
     ]
    },
    {
     "name": "stderr",
     "output_type": "stream",
     "text": [
      "\r",
      " 72%|███████▏  | 722/1000 [6:59:38<2:50:17, 36.75s/it]"
     ]
    },
    {
     "name": "stdout",
     "output_type": "stream",
     "text": [
      "[INFO] [2021-10-31 21:24:00,513] [OpenBox-Shadan] Iteration 723, objective value: [29.49473914734672].\n"
     ]
    },
    {
     "name": "stderr",
     "output_type": "stream",
     "text": [
      "\r",
      " 72%|███████▏  | 723/1000 [7:00:14<2:48:28, 36.49s/it]"
     ]
    },
    {
     "name": "stdout",
     "output_type": "stream",
     "text": [
      "[INFO] [2021-10-31 21:24:31,507] [OpenBox-Shadan] Iteration 724, objective value: [6.828538476176121].\n"
     ]
    },
    {
     "name": "stderr",
     "output_type": "stream",
     "text": [
      "\r",
      " 72%|███████▏  | 724/1000 [7:00:45<2:40:16, 34.84s/it]"
     ]
    },
    {
     "name": "stdout",
     "output_type": "stream",
     "text": [
      "[INFO] [2021-10-31 21:25:03,807] [OpenBox-Shadan] Iteration 725, objective value: [20.114816784353778].\n"
     ]
    },
    {
     "name": "stderr",
     "output_type": "stream",
     "text": [
      "\r",
      " 72%|███████▎  | 725/1000 [7:01:17<2:36:12, 34.08s/it]"
     ]
    },
    {
     "name": "stdout",
     "output_type": "stream",
     "text": [
      "[INFO] [2021-10-31 21:25:37,509] [OpenBox-Shadan] Iteration 726, objective value: [8.278405717988818].\n"
     ]
    },
    {
     "name": "stderr",
     "output_type": "stream",
     "text": [
      "\r",
      " 73%|███████▎  | 726/1000 [7:01:51<2:35:07, 33.97s/it]"
     ]
    },
    {
     "name": "stdout",
     "output_type": "stream",
     "text": [
      "[INFO] [2021-10-31 21:26:09,110] [OpenBox-Shadan] Iteration 727, objective value: [22.57225245634629].\n"
     ]
    },
    {
     "name": "stderr",
     "output_type": "stream",
     "text": [
      "\r",
      " 73%|███████▎  | 727/1000 [7:02:22<2:31:19, 33.26s/it]"
     ]
    },
    {
     "name": "stdout",
     "output_type": "stream",
     "text": [
      "[INFO] [2021-10-31 21:26:40,675] [OpenBox-Shadan] Iteration 728, objective value: [25.488132122173937].\n"
     ]
    },
    {
     "name": "stderr",
     "output_type": "stream",
     "text": [
      "\r",
      " 73%|███████▎  | 728/1000 [7:02:54<2:28:27, 32.75s/it]"
     ]
    },
    {
     "name": "stdout",
     "output_type": "stream",
     "text": [
      "[INFO] [2021-10-31 21:27:12,610] [OpenBox-Shadan] Iteration 729, objective value: [6.65454035051205].\n"
     ]
    },
    {
     "name": "stderr",
     "output_type": "stream",
     "text": [
      "\r",
      " 73%|███████▎  | 729/1000 [7:03:26<2:26:48, 32.51s/it]"
     ]
    },
    {
     "name": "stdout",
     "output_type": "stream",
     "text": [
      "[INFO] [2021-10-31 21:27:46,914] [OpenBox-Shadan] Iteration 730, objective value: [13.517659381395546].\n"
     ]
    },
    {
     "name": "stderr",
     "output_type": "stream",
     "text": [
      "\r",
      " 73%|███████▎  | 730/1000 [7:04:00<2:28:42, 33.04s/it]"
     ]
    },
    {
     "name": "stdout",
     "output_type": "stream",
     "text": [
      "[INFO] [2021-10-31 21:28:18,162] [OpenBox-Shadan] Iteration 731, objective value: [2.1381031966869557].\n"
     ]
    },
    {
     "name": "stderr",
     "output_type": "stream",
     "text": [
      "\r",
      " 73%|███████▎  | 731/1000 [7:04:31<2:25:44, 32.51s/it]"
     ]
    },
    {
     "name": "stdout",
     "output_type": "stream",
     "text": [
      "[INFO] [2021-10-31 21:28:51,039] [OpenBox-Shadan] Iteration 732, objective value: [6.31568601522568].\n"
     ]
    },
    {
     "name": "stderr",
     "output_type": "stream",
     "text": [
      "\r",
      " 73%|███████▎  | 732/1000 [7:05:04<2:25:41, 32.62s/it]"
     ]
    },
    {
     "name": "stdout",
     "output_type": "stream",
     "text": [
      "[INFO] [2021-10-31 21:29:24,914] [OpenBox-Shadan] Iteration 733, objective value: [41.856080384835714].\n"
     ]
    },
    {
     "name": "stderr",
     "output_type": "stream",
     "text": [
      "\r",
      " 73%|███████▎  | 733/1000 [7:05:38<2:26:49, 32.99s/it]"
     ]
    },
    {
     "name": "stdout",
     "output_type": "stream",
     "text": [
      "[INFO] [2021-10-31 21:29:59,380] [OpenBox-Shadan] Iteration 734, objective value: [31.730180949768823].\n"
     ]
    },
    {
     "name": "stderr",
     "output_type": "stream",
     "text": [
      "\r",
      " 73%|███████▎  | 734/1000 [7:06:13<2:28:13, 33.44s/it]"
     ]
    },
    {
     "name": "stdout",
     "output_type": "stream",
     "text": [
      "[INFO] [2021-10-31 21:30:34,877] [OpenBox-Shadan] Iteration 735, objective value: [34.67508765529537].\n"
     ]
    },
    {
     "name": "stderr",
     "output_type": "stream",
     "text": [
      "\r",
      " 74%|███████▎  | 735/1000 [7:06:48<2:30:24, 34.05s/it]"
     ]
    },
    {
     "name": "stdout",
     "output_type": "stream",
     "text": [
      "[INFO] [2021-10-31 21:31:12,320] [OpenBox-Shadan] Iteration 736, objective value: [33.84610088231955].\n"
     ]
    },
    {
     "name": "stderr",
     "output_type": "stream",
     "text": [
      "\r",
      " 74%|███████▎  | 736/1000 [7:07:26<2:34:18, 35.07s/it]"
     ]
    },
    {
     "name": "stdout",
     "output_type": "stream",
     "text": [
      "[INFO] [2021-10-31 21:31:46,619] [OpenBox-Shadan] Iteration 737, objective value: [40.540536559757356].\n"
     ]
    },
    {
     "name": "stderr",
     "output_type": "stream",
     "text": [
      "\r",
      " 74%|███████▎  | 737/1000 [7:08:00<2:32:42, 34.84s/it]"
     ]
    },
    {
     "name": "stdout",
     "output_type": "stream",
     "text": [
      "[INFO] [2021-10-31 21:32:16,786] [OpenBox-Shadan] Iteration 738, objective value: [3.9416293058386174].\n"
     ]
    },
    {
     "name": "stderr",
     "output_type": "stream",
     "text": [
      "\r",
      " 74%|███████▍  | 738/1000 [7:08:30<2:26:00, 33.44s/it]"
     ]
    },
    {
     "name": "stdout",
     "output_type": "stream",
     "text": [
      "[INFO] [2021-10-31 21:32:55,486] [OpenBox-Shadan] Iteration 739, objective value: [46.94049641987935].\n"
     ]
    },
    {
     "name": "stderr",
     "output_type": "stream",
     "text": [
      "\r",
      " 74%|███████▍  | 739/1000 [7:09:09<2:32:19, 35.02s/it]"
     ]
    },
    {
     "name": "stdout",
     "output_type": "stream",
     "text": [
      "[INFO] [2021-10-31 21:33:31,322] [OpenBox-Shadan] Iteration 740, objective value: [22.742957675804902].\n"
     ]
    },
    {
     "name": "stderr",
     "output_type": "stream",
     "text": [
      "\r",
      " 74%|███████▍  | 740/1000 [7:09:45<2:32:48, 35.26s/it]"
     ]
    },
    {
     "name": "stdout",
     "output_type": "stream",
     "text": [
      "[INFO] [2021-10-31 21:33:59,039] [OpenBox-Shadan] Iteration 741, objective value: [2.313469049208635].\n"
     ]
    },
    {
     "name": "stderr",
     "output_type": "stream",
     "text": [
      "\r",
      " 74%|███████▍  | 741/1000 [7:10:12<2:22:26, 33.00s/it]"
     ]
    },
    {
     "name": "stdout",
     "output_type": "stream",
     "text": [
      "[INFO] [2021-10-31 21:34:31,238] [OpenBox-Shadan] Iteration 742, objective value: [37.996763761780116].\n"
     ]
    },
    {
     "name": "stderr",
     "output_type": "stream",
     "text": [
      "\r",
      " 74%|███████▍  | 742/1000 [7:10:44<2:20:51, 32.76s/it]"
     ]
    },
    {
     "name": "stdout",
     "output_type": "stream",
     "text": [
      "[INFO] [2021-10-31 21:35:04,712] [OpenBox-Shadan] Iteration 743, objective value: [36.430696179668146].\n"
     ]
    },
    {
     "name": "stderr",
     "output_type": "stream",
     "text": [
      "\r",
      " 74%|███████▍  | 743/1000 [7:11:18<2:21:14, 32.97s/it]"
     ]
    },
    {
     "name": "stdout",
     "output_type": "stream",
     "text": [
      "[INFO] [2021-10-31 21:35:34,889] [OpenBox-Shadan] Iteration 744, objective value: [13.570699167760978].\n"
     ]
    },
    {
     "name": "stderr",
     "output_type": "stream",
     "text": [
      "\r",
      " 74%|███████▍  | 744/1000 [7:11:48<2:17:06, 32.13s/it]"
     ]
    },
    {
     "name": "stdout",
     "output_type": "stream",
     "text": [
      "[INFO] [2021-10-31 21:36:08,423] [OpenBox-Shadan] Iteration 745, objective value: [39.857474950147775].\n"
     ]
    },
    {
     "name": "stderr",
     "output_type": "stream",
     "text": [
      "\r",
      " 74%|███████▍  | 745/1000 [7:12:22<2:18:21, 32.55s/it]"
     ]
    },
    {
     "name": "stdout",
     "output_type": "stream",
     "text": [
      "[INFO] [2021-10-31 21:36:36,359] [OpenBox-Shadan] Iteration 746, objective value: [31.76821938154967].\n"
     ]
    },
    {
     "name": "stderr",
     "output_type": "stream",
     "text": [
      "\r",
      " 75%|███████▍  | 746/1000 [7:12:50<2:11:56, 31.17s/it]"
     ]
    },
    {
     "name": "stdout",
     "output_type": "stream",
     "text": [
      "[INFO] [2021-10-31 21:37:09,969] [OpenBox-Shadan] Iteration 747, objective value: [27.196172474615338].\n"
     ]
    },
    {
     "name": "stderr",
     "output_type": "stream",
     "text": [
      "\r",
      " 75%|███████▍  | 747/1000 [7:13:23<2:14:30, 31.90s/it]"
     ]
    },
    {
     "name": "stdout",
     "output_type": "stream",
     "text": [
      "[INFO] [2021-10-31 21:37:46,360] [OpenBox-Shadan] Iteration 748, objective value: [41.188196993536486].\n"
     ]
    },
    {
     "name": "stderr",
     "output_type": "stream",
     "text": [
      "\r",
      " 75%|███████▍  | 748/1000 [7:14:00<2:19:38, 33.25s/it]"
     ]
    },
    {
     "name": "stdout",
     "output_type": "stream",
     "text": [
      "[INFO] [2021-10-31 21:38:20,973] [OpenBox-Shadan] Iteration 749, objective value: [34.20725994598715].\n"
     ]
    },
    {
     "name": "stderr",
     "output_type": "stream",
     "text": [
      "\r",
      " 75%|███████▍  | 749/1000 [7:14:34<2:20:48, 33.66s/it]"
     ]
    },
    {
     "name": "stdout",
     "output_type": "stream",
     "text": [
      "[INFO] [2021-10-31 21:38:49,838] [OpenBox-Shadan] Iteration 750, objective value: [21.930684797098877].\n"
     ]
    },
    {
     "name": "stderr",
     "output_type": "stream",
     "text": [
      "\r",
      " 75%|███████▌  | 750/1000 [7:15:03<2:14:14, 32.22s/it]"
     ]
    },
    {
     "name": "stdout",
     "output_type": "stream",
     "text": [
      "[INFO] [2021-10-31 21:39:26,141] [OpenBox-Shadan] Iteration 751, objective value: [42.44856741972478].\n"
     ]
    },
    {
     "name": "stderr",
     "output_type": "stream",
     "text": [
      "\r",
      " 75%|███████▌  | 751/1000 [7:15:39<2:18:47, 33.44s/it]"
     ]
    },
    {
     "name": "stdout",
     "output_type": "stream",
     "text": [
      "[INFO] [2021-10-31 21:40:00,469] [OpenBox-Shadan] Iteration 752, objective value: [26.869504895527157].\n"
     ]
    },
    {
     "name": "stderr",
     "output_type": "stream",
     "text": [
      "\r",
      " 75%|███████▌  | 752/1000 [7:16:14<2:19:20, 33.71s/it]"
     ]
    },
    {
     "name": "stdout",
     "output_type": "stream",
     "text": [
      "[INFO] [2021-10-31 21:40:35,702] [OpenBox-Shadan] Iteration 753, objective value: [23.729802968782494].\n"
     ]
    },
    {
     "name": "stderr",
     "output_type": "stream",
     "text": [
      "\r",
      " 75%|███████▌  | 753/1000 [7:16:49<2:20:39, 34.17s/it]"
     ]
    },
    {
     "name": "stdout",
     "output_type": "stream",
     "text": [
      "[INFO] [2021-10-31 21:41:11,589] [OpenBox-Shadan] Iteration 754, objective value: [24.681997375584103].\n"
     ]
    },
    {
     "name": "stderr",
     "output_type": "stream",
     "text": [
      "\r",
      " 75%|███████▌  | 754/1000 [7:17:25<2:22:11, 34.68s/it]"
     ]
    },
    {
     "name": "stdout",
     "output_type": "stream",
     "text": [
      "[INFO] [2021-10-31 21:41:42,927] [OpenBox-Shadan] Iteration 755, objective value: [29.25781600185509].\n"
     ]
    },
    {
     "name": "stderr",
     "output_type": "stream",
     "text": [
      "\r",
      " 76%|███████▌  | 755/1000 [7:17:56<2:17:31, 33.68s/it]"
     ]
    },
    {
     "name": "stdout",
     "output_type": "stream",
     "text": [
      "[INFO] [2021-10-31 21:42:09,334] [OpenBox-Shadan] Iteration 756, objective value: [23.344856554061053].\n"
     ]
    },
    {
     "name": "stderr",
     "output_type": "stream",
     "text": [
      "\r",
      " 76%|███████▌  | 756/1000 [7:18:23<2:08:05, 31.50s/it]"
     ]
    },
    {
     "name": "stdout",
     "output_type": "stream",
     "text": [
      "[INFO] [2021-10-31 21:42:41,295] [OpenBox-Shadan] Iteration 757, objective value: [33.33892100825608].\n"
     ]
    },
    {
     "name": "stderr",
     "output_type": "stream",
     "text": [
      "\r",
      " 76%|███████▌  | 757/1000 [7:18:55<2:08:07, 31.64s/it]"
     ]
    },
    {
     "name": "stdout",
     "output_type": "stream",
     "text": [
      "[INFO] [2021-10-31 21:43:19,518] [OpenBox-Shadan] Iteration 758, objective value: [45.13161272889583].\n"
     ]
    },
    {
     "name": "stderr",
     "output_type": "stream",
     "text": [
      "\r",
      " 76%|███████▌  | 758/1000 [7:19:33<2:15:34, 33.61s/it]"
     ]
    },
    {
     "name": "stdout",
     "output_type": "stream",
     "text": [
      "[INFO] [2021-10-31 21:43:50,984] [OpenBox-Shadan] Iteration 759, objective value: [25.023904611282575].\n"
     ]
    },
    {
     "name": "stderr",
     "output_type": "stream",
     "text": [
      "\r",
      " 76%|███████▌  | 759/1000 [7:20:04<2:12:25, 32.97s/it]"
     ]
    },
    {
     "name": "stdout",
     "output_type": "stream",
     "text": [
      "[INFO] [2021-10-31 21:44:23,463] [OpenBox-Shadan] Iteration 760, objective value: [38.25079189821439].\n"
     ]
    },
    {
     "name": "stderr",
     "output_type": "stream",
     "text": [
      "\r",
      " 76%|███████▌  | 760/1000 [7:20:37<2:11:17, 32.82s/it]"
     ]
    },
    {
     "name": "stdout",
     "output_type": "stream",
     "text": [
      "[INFO] [2021-10-31 21:44:53,477] [OpenBox-Shadan] Iteration 761, objective value: [27.38843979928889].\n"
     ]
    },
    {
     "name": "stderr",
     "output_type": "stream",
     "text": [
      "\r",
      " 76%|███████▌  | 761/1000 [7:21:07<2:07:23, 31.98s/it]"
     ]
    },
    {
     "name": "stdout",
     "output_type": "stream",
     "text": [
      "[INFO] [2021-10-31 21:45:26,195] [OpenBox-Shadan] Iteration 762, objective value: [3.711160798953486].\n"
     ]
    },
    {
     "name": "stderr",
     "output_type": "stream",
     "text": [
      "\r",
      " 76%|███████▌  | 762/1000 [7:21:39<2:07:43, 32.20s/it]"
     ]
    },
    {
     "name": "stdout",
     "output_type": "stream",
     "text": [
      "[INFO] [2021-10-31 21:45:58,226] [OpenBox-Shadan] Iteration 763, objective value: [8.815901269096443].\n"
     ]
    },
    {
     "name": "stderr",
     "output_type": "stream",
     "text": [
      "\r",
      " 76%|███████▋  | 763/1000 [7:22:11<2:06:59, 32.15s/it]"
     ]
    },
    {
     "name": "stdout",
     "output_type": "stream",
     "text": [
      "[INFO] [2021-10-31 21:46:32,252] [OpenBox-Shadan] Iteration 764, objective value: [20.048966172103576].\n"
     ]
    },
    {
     "name": "stderr",
     "output_type": "stream",
     "text": [
      "\r",
      " 76%|███████▋  | 764/1000 [7:22:45<2:08:40, 32.71s/it]"
     ]
    },
    {
     "name": "stdout",
     "output_type": "stream",
     "text": [
      "[INFO] [2021-10-31 21:47:00,696] [OpenBox-Shadan] Iteration 765, objective value: [11.153188834672306].\n"
     ]
    },
    {
     "name": "stderr",
     "output_type": "stream",
     "text": [
      "\r",
      " 76%|███████▋  | 765/1000 [7:23:14<2:03:06, 31.43s/it]"
     ]
    },
    {
     "name": "stdout",
     "output_type": "stream",
     "text": [
      "[INFO] [2021-10-31 21:47:31,984] [OpenBox-Shadan] Iteration 766, objective value: [16.71620500057095].\n"
     ]
    },
    {
     "name": "stderr",
     "output_type": "stream",
     "text": [
      "\r",
      " 77%|███████▋  | 766/1000 [7:23:45<2:02:25, 31.39s/it]"
     ]
    },
    {
     "name": "stdout",
     "output_type": "stream",
     "text": [
      "[INFO] [2021-10-31 21:48:05,395] [OpenBox-Shadan] Iteration 767, objective value: [34.39779794638808].\n"
     ]
    },
    {
     "name": "stderr",
     "output_type": "stream",
     "text": [
      "\r",
      " 77%|███████▋  | 767/1000 [7:24:19<2:04:14, 32.00s/it]"
     ]
    },
    {
     "name": "stdout",
     "output_type": "stream",
     "text": [
      "[INFO] [2021-10-31 21:48:39,845] [OpenBox-Shadan] Iteration 768, objective value: [30.96972044671891].\n"
     ]
    },
    {
     "name": "stderr",
     "output_type": "stream",
     "text": [
      "\r",
      " 77%|███████▋  | 768/1000 [7:24:53<2:06:33, 32.73s/it]"
     ]
    },
    {
     "name": "stdout",
     "output_type": "stream",
     "text": [
      "[INFO] [2021-10-31 21:49:12,311] [OpenBox-Shadan] Iteration 769, objective value: [32.31235790183629].\n"
     ]
    },
    {
     "name": "stderr",
     "output_type": "stream",
     "text": [
      "\r",
      " 77%|███████▋  | 769/1000 [7:25:26<2:05:42, 32.65s/it]"
     ]
    },
    {
     "name": "stdout",
     "output_type": "stream",
     "text": [
      "[INFO] [2021-10-31 21:49:40,813] [OpenBox-Shadan] Iteration 770, objective value: [21.082594613262984].\n"
     ]
    },
    {
     "name": "stderr",
     "output_type": "stream",
     "text": [
      "\r",
      " 77%|███████▋  | 770/1000 [7:25:54<2:00:23, 31.41s/it]"
     ]
    },
    {
     "name": "stdout",
     "output_type": "stream",
     "text": [
      "[INFO] [2021-10-31 21:50:14,668] [OpenBox-Shadan] Iteration 771, objective value: [33.33439084507721].\n"
     ]
    },
    {
     "name": "stderr",
     "output_type": "stream",
     "text": [
      "\r",
      " 77%|███████▋  | 771/1000 [7:26:28<2:02:40, 32.14s/it]"
     ]
    },
    {
     "name": "stdout",
     "output_type": "stream",
     "text": [
      "[INFO] [2021-10-31 21:50:46,543] [OpenBox-Shadan] Iteration 772, objective value: [27.509115403811663].\n"
     ]
    },
    {
     "name": "stderr",
     "output_type": "stream",
     "text": [
      "\r",
      " 77%|███████▋  | 772/1000 [7:27:00<2:01:50, 32.06s/it]"
     ]
    },
    {
     "name": "stdout",
     "output_type": "stream",
     "text": [
      "[INFO] [2021-10-31 21:51:23,497] [OpenBox-Shadan] Iteration 773, objective value: [25.57556449927354].\n"
     ]
    },
    {
     "name": "stderr",
     "output_type": "stream",
     "text": [
      "\r",
      " 77%|███████▋  | 773/1000 [7:27:37<2:06:51, 33.53s/it]"
     ]
    },
    {
     "name": "stdout",
     "output_type": "stream",
     "text": [
      "[INFO] [2021-10-31 21:51:55,772] [OpenBox-Shadan] Iteration 774, objective value: [18.21480923588105].\n"
     ]
    },
    {
     "name": "stderr",
     "output_type": "stream",
     "text": [
      "\r",
      " 77%|███████▋  | 774/1000 [7:28:09<2:04:52, 33.15s/it]"
     ]
    },
    {
     "name": "stdout",
     "output_type": "stream",
     "text": [
      "[INFO] [2021-10-31 21:52:27,374] [OpenBox-Shadan] Iteration 775, objective value: [30.08531124079822].\n"
     ]
    },
    {
     "name": "stderr",
     "output_type": "stream",
     "text": [
      "\r",
      " 78%|███████▊  | 775/1000 [7:28:41<2:02:34, 32.69s/it]"
     ]
    },
    {
     "name": "stdout",
     "output_type": "stream",
     "text": [
      "[INFO] [2021-10-31 21:52:59,806] [OpenBox-Shadan] Iteration 776, objective value: [100.0].\n"
     ]
    },
    {
     "name": "stderr",
     "output_type": "stream",
     "text": [
      "\r",
      " 78%|███████▊  | 776/1000 [7:29:13<2:01:44, 32.61s/it]"
     ]
    },
    {
     "name": "stdout",
     "output_type": "stream",
     "text": [
      "[INFO] [2021-10-31 21:53:34,045] [OpenBox-Shadan] Iteration 777, objective value: [21.4343543574918].\n"
     ]
    },
    {
     "name": "stderr",
     "output_type": "stream",
     "text": [
      "\r",
      " 78%|███████▊  | 777/1000 [7:29:47<2:03:01, 33.10s/it]"
     ]
    },
    {
     "name": "stdout",
     "output_type": "stream",
     "text": [
      "[INFO] [2021-10-31 21:54:10,450] [OpenBox-Shadan] Iteration 778, objective value: [14.282965743386313].\n"
     ]
    },
    {
     "name": "stderr",
     "output_type": "stream",
     "text": [
      "\r",
      " 78%|███████▊  | 778/1000 [7:30:24<2:06:08, 34.09s/it]"
     ]
    },
    {
     "name": "stdout",
     "output_type": "stream",
     "text": [
      "[INFO] [2021-10-31 21:54:41,226] [OpenBox-Shadan] Iteration 779, objective value: [4.1996391032532046].\n"
     ]
    },
    {
     "name": "stderr",
     "output_type": "stream",
     "text": [
      "\r",
      " 78%|███████▊  | 779/1000 [7:30:54<2:01:54, 33.10s/it]"
     ]
    },
    {
     "name": "stdout",
     "output_type": "stream",
     "text": [
      "[INFO] [2021-10-31 21:55:12,576] [OpenBox-Shadan] Iteration 780, objective value: [23.65158359521719].\n"
     ]
    },
    {
     "name": "stderr",
     "output_type": "stream",
     "text": [
      "\r",
      " 78%|███████▊  | 780/1000 [7:31:26<1:59:25, 32.57s/it]"
     ]
    },
    {
     "name": "stdout",
     "output_type": "stream",
     "text": [
      "[INFO] [2021-10-31 21:55:47,373] [OpenBox-Shadan] Iteration 781, objective value: [31.662571836620387].\n"
     ]
    },
    {
     "name": "stderr",
     "output_type": "stream",
     "text": [
      "\r",
      " 78%|███████▊  | 781/1000 [7:32:01<2:01:19, 33.24s/it]"
     ]
    },
    {
     "name": "stdout",
     "output_type": "stream",
     "text": [
      "[INFO] [2021-10-31 21:56:18,898] [OpenBox-Shadan] Iteration 782, objective value: [34.505680750519446].\n"
     ]
    },
    {
     "name": "stderr",
     "output_type": "stream",
     "text": [
      "\r",
      " 78%|███████▊  | 782/1000 [7:32:32<1:58:54, 32.73s/it]"
     ]
    },
    {
     "name": "stdout",
     "output_type": "stream",
     "text": [
      "[INFO] [2021-10-31 21:56:49,169] [OpenBox-Shadan] Iteration 783, objective value: [24.516873522992398].\n"
     ]
    },
    {
     "name": "stderr",
     "output_type": "stream",
     "text": [
      "\r",
      " 78%|███████▊  | 783/1000 [7:33:02<1:55:41, 31.99s/it]"
     ]
    },
    {
     "name": "stdout",
     "output_type": "stream",
     "text": [
      "[INFO] [2021-10-31 21:57:21,360] [OpenBox-Shadan] Iteration 784, objective value: [37.44913269295147].\n"
     ]
    },
    {
     "name": "stderr",
     "output_type": "stream",
     "text": [
      "\r",
      " 78%|███████▊  | 784/1000 [7:33:35<1:55:22, 32.05s/it]"
     ]
    },
    {
     "name": "stdout",
     "output_type": "stream",
     "text": [
      "[INFO] [2021-10-31 21:57:55,528] [OpenBox-Shadan] Iteration 785, objective value: [26.34486453473386].\n"
     ]
    },
    {
     "name": "stderr",
     "output_type": "stream",
     "text": [
      "\r",
      " 78%|███████▊  | 785/1000 [7:34:09<1:57:07, 32.69s/it]"
     ]
    },
    {
     "name": "stdout",
     "output_type": "stream",
     "text": [
      "[INFO] [2021-10-31 21:58:32,315] [OpenBox-Shadan] Iteration 786, objective value: [25.5333636588077].\n"
     ]
    },
    {
     "name": "stderr",
     "output_type": "stream",
     "text": [
      "\r",
      " 79%|███████▊  | 786/1000 [7:34:46<2:00:57, 33.92s/it]"
     ]
    },
    {
     "name": "stdout",
     "output_type": "stream",
     "text": [
      "[INFO] [2021-10-31 21:59:00,741] [OpenBox-Shadan] Iteration 787, objective value: [31.224554995009456].\n"
     ]
    },
    {
     "name": "stderr",
     "output_type": "stream",
     "text": [
      "\r",
      " 79%|███████▊  | 787/1000 [7:35:14<1:54:33, 32.27s/it]"
     ]
    },
    {
     "name": "stdout",
     "output_type": "stream",
     "text": [
      "[INFO] [2021-10-31 21:59:30,653] [OpenBox-Shadan] Iteration 788, objective value: [21.620507353523834].\n"
     ]
    },
    {
     "name": "stderr",
     "output_type": "stream",
     "text": [
      "\r",
      " 79%|███████▉  | 788/1000 [7:35:44<1:51:31, 31.56s/it]"
     ]
    },
    {
     "name": "stdout",
     "output_type": "stream",
     "text": [
      "[INFO] [2021-10-31 22:00:05,596] [OpenBox-Shadan] Iteration 789, objective value: [9.832322228278983].\n"
     ]
    },
    {
     "name": "stderr",
     "output_type": "stream",
     "text": [
      "\r",
      " 79%|███████▉  | 789/1000 [7:36:19<1:54:33, 32.58s/it]"
     ]
    },
    {
     "name": "stdout",
     "output_type": "stream",
     "text": [
      "[INFO] [2021-10-31 22:00:39,834] [OpenBox-Shadan] Iteration 790, objective value: [22.940973624820344].\n"
     ]
    },
    {
     "name": "stderr",
     "output_type": "stream",
     "text": [
      "\r",
      " 79%|███████▉  | 790/1000 [7:36:53<1:55:45, 33.07s/it]"
     ]
    },
    {
     "name": "stdout",
     "output_type": "stream",
     "text": [
      "[INFO] [2021-10-31 22:01:12,995] [OpenBox-Shadan] Iteration 791, objective value: [23.139973738846393].\n"
     ]
    },
    {
     "name": "stderr",
     "output_type": "stream",
     "text": [
      "\r",
      " 79%|███████▉  | 791/1000 [7:37:26<1:55:18, 33.10s/it]"
     ]
    },
    {
     "name": "stdout",
     "output_type": "stream",
     "text": [
      "[INFO] [2021-10-31 22:01:43,308] [OpenBox-Shadan] Iteration 792, objective value: [4.208364613410424].\n"
     ]
    },
    {
     "name": "stderr",
     "output_type": "stream",
     "text": [
      "\r",
      " 79%|███████▉  | 792/1000 [7:37:57<1:51:50, 32.26s/it]"
     ]
    },
    {
     "name": "stdout",
     "output_type": "stream",
     "text": [
      "[INFO] [2021-10-31 22:02:15,805] [OpenBox-Shadan] Iteration 793, objective value: [6.421395270622227].\n"
     ]
    },
    {
     "name": "stderr",
     "output_type": "stream",
     "text": [
      "\r",
      " 79%|███████▉  | 793/1000 [7:38:29<1:51:33, 32.33s/it]"
     ]
    },
    {
     "name": "stdout",
     "output_type": "stream",
     "text": [
      "[INFO] [2021-10-31 22:02:54,115] [OpenBox-Shadan] Iteration 794, objective value: [28.421088036573437].\n"
     ]
    },
    {
     "name": "stderr",
     "output_type": "stream",
     "text": [
      "\r",
      " 79%|███████▉  | 794/1000 [7:39:07<1:57:10, 34.13s/it]"
     ]
    },
    {
     "name": "stdout",
     "output_type": "stream",
     "text": [
      "[INFO] [2021-10-31 22:03:26,059] [OpenBox-Shadan] Iteration 795, objective value: [31.539861706218403].\n"
     ]
    },
    {
     "name": "stderr",
     "output_type": "stream",
     "text": [
      "\r",
      " 80%|███████▉  | 795/1000 [7:39:39<1:54:21, 33.47s/it]"
     ]
    },
    {
     "name": "stdout",
     "output_type": "stream",
     "text": [
      "[INFO] [2021-10-31 22:03:59,142] [OpenBox-Shadan] Iteration 796, objective value: [16.472537747090115].\n"
     ]
    },
    {
     "name": "stderr",
     "output_type": "stream",
     "text": [
      "\r",
      " 80%|███████▉  | 796/1000 [7:40:12<1:53:24, 33.36s/it]"
     ]
    },
    {
     "name": "stdout",
     "output_type": "stream",
     "text": [
      "[INFO] [2021-10-31 22:04:33,012] [OpenBox-Shadan] Iteration 797, objective value: [29.7610741496719].\n"
     ]
    },
    {
     "name": "stderr",
     "output_type": "stream",
     "text": [
      "\r",
      " 80%|███████▉  | 797/1000 [7:40:46<1:53:22, 33.51s/it]"
     ]
    },
    {
     "name": "stdout",
     "output_type": "stream",
     "text": [
      "[INFO] [2021-10-31 22:05:03,144] [OpenBox-Shadan] Iteration 798, objective value: [20.013223243255567].\n"
     ]
    },
    {
     "name": "stderr",
     "output_type": "stream",
     "text": [
      "\r",
      " 80%|███████▉  | 798/1000 [7:41:16<1:49:24, 32.50s/it]"
     ]
    },
    {
     "name": "stdout",
     "output_type": "stream",
     "text": [
      "[INFO] [2021-10-31 22:05:31,701] [OpenBox-Shadan] Iteration 799, objective value: [3.7835171042260356].\n"
     ]
    },
    {
     "name": "stderr",
     "output_type": "stream",
     "text": [
      "\r",
      " 80%|███████▉  | 799/1000 [7:41:45<1:44:54, 31.31s/it]"
     ]
    },
    {
     "name": "stdout",
     "output_type": "stream",
     "text": [
      "[INFO] [2021-10-31 22:06:01,015] [OpenBox-Shadan] Iteration 800, objective value: [100.0].\n"
     ]
    },
    {
     "name": "stderr",
     "output_type": "stream",
     "text": [
      "\r",
      " 80%|████████  | 800/1000 [7:42:14<1:42:22, 30.71s/it]"
     ]
    },
    {
     "name": "stdout",
     "output_type": "stream",
     "text": [
      "[INFO] [2021-10-31 22:06:36,187] [OpenBox-Shadan] Iteration 801, objective value: [5.870111857011082].\n"
     ]
    },
    {
     "name": "stderr",
     "output_type": "stream",
     "text": [
      "\r",
      " 80%|████████  | 801/1000 [7:42:49<1:46:18, 32.05s/it]"
     ]
    },
    {
     "name": "stdout",
     "output_type": "stream",
     "text": [
      "[INFO] [2021-10-31 22:07:13,740] [OpenBox-Shadan] Iteration 802, objective value: [46.043131218697496].\n"
     ]
    },
    {
     "name": "stderr",
     "output_type": "stream",
     "text": [
      "\r",
      " 80%|████████  | 802/1000 [7:43:27<1:51:12, 33.70s/it]"
     ]
    },
    {
     "name": "stdout",
     "output_type": "stream",
     "text": [
      "[INFO] [2021-10-31 22:07:45,130] [OpenBox-Shadan] Iteration 803, objective value: [23.405584842661185].\n"
     ]
    },
    {
     "name": "stderr",
     "output_type": "stream",
     "text": [
      "\r",
      " 80%|████████  | 803/1000 [7:43:58<1:48:23, 33.01s/it]"
     ]
    },
    {
     "name": "stdout",
     "output_type": "stream",
     "text": [
      "[INFO] [2021-10-31 22:08:16,325] [OpenBox-Shadan] Iteration 804, objective value: [42.92470103452].\n"
     ]
    },
    {
     "name": "stderr",
     "output_type": "stream",
     "text": [
      "\r",
      " 80%|████████  | 804/1000 [7:44:30<1:46:02, 32.46s/it]"
     ]
    },
    {
     "name": "stdout",
     "output_type": "stream",
     "text": [
      "[INFO] [2021-10-31 22:08:52,266] [OpenBox-Shadan] Iteration 805, objective value: [14.612519502947535].\n"
     ]
    },
    {
     "name": "stderr",
     "output_type": "stream",
     "text": [
      "\r",
      " 80%|████████  | 805/1000 [7:45:05<1:48:53, 33.51s/it]"
     ]
    },
    {
     "name": "stdout",
     "output_type": "stream",
     "text": [
      "[INFO] [2021-10-31 22:09:28,878] [OpenBox-Shadan] Iteration 806, objective value: [14.54359321713288].\n"
     ]
    },
    {
     "name": "stderr",
     "output_type": "stream",
     "text": [
      "\r",
      " 81%|████████  | 806/1000 [7:45:42<1:51:20, 34.44s/it]"
     ]
    },
    {
     "name": "stdout",
     "output_type": "stream",
     "text": [
      "[INFO] [2021-10-31 22:10:03,828] [OpenBox-Shadan] Iteration 807, objective value: [22.58777821000902].\n"
     ]
    },
    {
     "name": "stderr",
     "output_type": "stream",
     "text": [
      "\r",
      " 81%|████████  | 807/1000 [7:46:17<1:51:16, 34.59s/it]"
     ]
    },
    {
     "name": "stdout",
     "output_type": "stream",
     "text": [
      "[INFO] [2021-10-31 22:10:35,601] [OpenBox-Shadan] Iteration 808, objective value: [6.313985323296279].\n"
     ]
    },
    {
     "name": "stderr",
     "output_type": "stream",
     "text": [
      "\r",
      " 81%|████████  | 808/1000 [7:46:49<1:47:59, 33.75s/it]"
     ]
    },
    {
     "name": "stdout",
     "output_type": "stream",
     "text": [
      "[INFO] [2021-10-31 22:11:08,603] [OpenBox-Shadan] Iteration 809, objective value: [27.41324713617621].\n"
     ]
    },
    {
     "name": "stderr",
     "output_type": "stream",
     "text": [
      "\r",
      " 81%|████████  | 809/1000 [7:47:22<1:46:42, 33.52s/it]"
     ]
    },
    {
     "name": "stdout",
     "output_type": "stream",
     "text": [
      "[INFO] [2021-10-31 22:11:42,063] [OpenBox-Shadan] Iteration 810, objective value: [21.743715188818967].\n"
     ]
    },
    {
     "name": "stderr",
     "output_type": "stream",
     "text": [
      "\r",
      " 81%|████████  | 810/1000 [7:47:55<1:46:05, 33.50s/it]"
     ]
    },
    {
     "name": "stdout",
     "output_type": "stream",
     "text": [
      "[INFO] [2021-10-31 22:12:14,655] [OpenBox-Shadan] Iteration 811, objective value: [19.121902040709017].\n"
     ]
    },
    {
     "name": "stderr",
     "output_type": "stream",
     "text": [
      "\r",
      " 81%|████████  | 811/1000 [7:48:28<1:44:40, 33.23s/it]"
     ]
    },
    {
     "name": "stdout",
     "output_type": "stream",
     "text": [
      "[INFO] [2021-10-31 22:12:46,195] [OpenBox-Shadan] Iteration 812, objective value: [36.31803432250388].\n"
     ]
    },
    {
     "name": "stderr",
     "output_type": "stream",
     "text": [
      "\r",
      " 81%|████████  | 812/1000 [7:48:59<1:42:31, 32.72s/it]"
     ]
    },
    {
     "name": "stdout",
     "output_type": "stream",
     "text": [
      "[INFO] [2021-10-31 22:13:21,720] [OpenBox-Shadan] Iteration 813, objective value: [25.391696309296577].\n"
     ]
    },
    {
     "name": "stderr",
     "output_type": "stream",
     "text": [
      "\r",
      " 81%|████████▏ | 813/1000 [7:49:35<1:44:36, 33.56s/it]"
     ]
    },
    {
     "name": "stdout",
     "output_type": "stream",
     "text": [
      "[INFO] [2021-10-31 22:13:54,760] [OpenBox-Shadan] Iteration 814, objective value: [29.26085614204446].\n"
     ]
    },
    {
     "name": "stderr",
     "output_type": "stream",
     "text": [
      "\r",
      " 81%|████████▏ | 814/1000 [7:50:08<1:43:33, 33.41s/it]"
     ]
    },
    {
     "name": "stdout",
     "output_type": "stream",
     "text": [
      "[INFO] [2021-10-31 22:14:30,638] [OpenBox-Shadan] Iteration 815, objective value: [37.63511663133834].\n"
     ]
    },
    {
     "name": "stderr",
     "output_type": "stream",
     "text": [
      "\r",
      " 82%|████████▏ | 815/1000 [7:50:44<1:45:17, 34.15s/it]"
     ]
    },
    {
     "name": "stdout",
     "output_type": "stream",
     "text": [
      "[INFO] [2021-10-31 22:15:01,983] [OpenBox-Shadan] Iteration 816, objective value: [29.200533005239464].\n"
     ]
    },
    {
     "name": "stderr",
     "output_type": "stream",
     "text": [
      "\r",
      " 82%|████████▏ | 816/1000 [7:51:15<1:42:08, 33.31s/it]"
     ]
    },
    {
     "name": "stdout",
     "output_type": "stream",
     "text": [
      "[INFO] [2021-10-31 22:15:34,773] [OpenBox-Shadan] Iteration 817, objective value: [30.401671139472313].\n"
     ]
    },
    {
     "name": "stderr",
     "output_type": "stream",
     "text": [
      "\r",
      " 82%|████████▏ | 817/1000 [7:51:48<1:41:06, 33.15s/it]"
     ]
    },
    {
     "name": "stdout",
     "output_type": "stream",
     "text": [
      "[INFO] [2021-10-31 22:16:10,885] [OpenBox-Shadan] Iteration 818, objective value: [6.536090751793083].\n"
     ]
    },
    {
     "name": "stderr",
     "output_type": "stream",
     "text": [
      "\r",
      " 82%|████████▏ | 818/1000 [7:52:24<1:43:15, 34.04s/it]"
     ]
    },
    {
     "name": "stdout",
     "output_type": "stream",
     "text": [
      "[INFO] [2021-10-31 22:16:48,909] [OpenBox-Shadan] Iteration 819, objective value: [21.87675480844058].\n"
     ]
    },
    {
     "name": "stderr",
     "output_type": "stream",
     "text": [
      "\r",
      " 82%|████████▏ | 819/1000 [7:53:02<1:46:17, 35.24s/it]"
     ]
    },
    {
     "name": "stdout",
     "output_type": "stream",
     "text": [
      "[INFO] [2021-10-31 22:17:21,751] [OpenBox-Shadan] Iteration 820, objective value: [30.09775718224708].\n"
     ]
    },
    {
     "name": "stderr",
     "output_type": "stream",
     "text": [
      "\r",
      " 82%|████████▏ | 820/1000 [7:53:35<1:43:33, 34.52s/it]"
     ]
    },
    {
     "name": "stdout",
     "output_type": "stream",
     "text": [
      "[INFO] [2021-10-31 22:17:56,540] [OpenBox-Shadan] Iteration 821, objective value: [15.312395253430282].\n"
     ]
    },
    {
     "name": "stderr",
     "output_type": "stream",
     "text": [
      "\r",
      " 82%|████████▏ | 821/1000 [7:54:10<1:43:13, 34.60s/it]"
     ]
    },
    {
     "name": "stdout",
     "output_type": "stream",
     "text": [
      "[INFO] [2021-10-31 22:18:31,455] [OpenBox-Shadan] Iteration 822, objective value: [2.158039415021179].\n"
     ]
    },
    {
     "name": "stderr",
     "output_type": "stream",
     "text": [
      "\r",
      " 82%|████████▏ | 822/1000 [7:54:45<1:42:55, 34.69s/it]"
     ]
    },
    {
     "name": "stdout",
     "output_type": "stream",
     "text": [
      "[INFO] [2021-10-31 22:19:07,737] [OpenBox-Shadan] Iteration 823, objective value: [42.81752691528439].\n"
     ]
    },
    {
     "name": "stderr",
     "output_type": "stream",
     "text": [
      "\r",
      " 82%|████████▏ | 823/1000 [7:55:21<1:43:45, 35.17s/it]"
     ]
    },
    {
     "name": "stdout",
     "output_type": "stream",
     "text": [
      "[INFO] [2021-10-31 22:19:43,157] [OpenBox-Shadan] Iteration 824, objective value: [15.50066753337363].\n"
     ]
    },
    {
     "name": "stderr",
     "output_type": "stream",
     "text": [
      "\r",
      " 82%|████████▏ | 824/1000 [7:55:56<1:43:23, 35.25s/it]"
     ]
    },
    {
     "name": "stdout",
     "output_type": "stream",
     "text": [
      "[INFO] [2021-10-31 22:20:15,384] [OpenBox-Shadan] Iteration 825, objective value: [30.344413353811746].\n"
     ]
    },
    {
     "name": "stderr",
     "output_type": "stream",
     "text": [
      "\r",
      " 82%|████████▎ | 825/1000 [7:56:29<1:40:09, 34.34s/it]"
     ]
    },
    {
     "name": "stdout",
     "output_type": "stream",
     "text": [
      "[INFO] [2021-10-31 22:20:45,964] [OpenBox-Shadan] Iteration 826, objective value: [29.033836719938904].\n"
     ]
    },
    {
     "name": "stderr",
     "output_type": "stream",
     "text": [
      "\r",
      " 83%|████████▎ | 826/1000 [7:56:59<1:36:18, 33.21s/it]"
     ]
    },
    {
     "name": "stdout",
     "output_type": "stream",
     "text": [
      "[INFO] [2021-10-31 22:21:19,599] [OpenBox-Shadan] Iteration 827, objective value: [17.567589636019207].\n"
     ]
    },
    {
     "name": "stderr",
     "output_type": "stream",
     "text": [
      "\r",
      " 83%|████████▎ | 827/1000 [7:57:33<1:36:07, 33.34s/it]"
     ]
    },
    {
     "name": "stdout",
     "output_type": "stream",
     "text": [
      "[INFO] [2021-10-31 22:21:54,081] [OpenBox-Shadan] Iteration 828, objective value: [7.238388320833849].\n"
     ]
    },
    {
     "name": "stderr",
     "output_type": "stream",
     "text": [
      "\r",
      " 83%|████████▎ | 828/1000 [7:58:07<1:36:33, 33.68s/it]"
     ]
    },
    {
     "name": "stdout",
     "output_type": "stream",
     "text": [
      "[INFO] [2021-10-31 22:22:21,762] [OpenBox-Shadan] Iteration 829, objective value: [20.58921269775567].\n"
     ]
    },
    {
     "name": "stderr",
     "output_type": "stream",
     "text": [
      "\r",
      " 83%|████████▎ | 829/1000 [7:58:35<1:30:51, 31.88s/it]"
     ]
    },
    {
     "name": "stdout",
     "output_type": "stream",
     "text": [
      "[INFO] [2021-10-31 22:22:56,263] [OpenBox-Shadan] Iteration 830, objective value: [25.316684609933787].\n"
     ]
    },
    {
     "name": "stderr",
     "output_type": "stream",
     "text": [
      "\r",
      " 83%|████████▎ | 830/1000 [7:59:09<1:32:33, 32.67s/it]"
     ]
    },
    {
     "name": "stdout",
     "output_type": "stream",
     "text": [
      "[INFO] [2021-10-31 22:23:27,996] [OpenBox-Shadan] Iteration 831, objective value: [3.017043728335125].\n"
     ]
    },
    {
     "name": "stderr",
     "output_type": "stream",
     "text": [
      "\r",
      " 83%|████████▎ | 831/1000 [7:59:41<1:31:13, 32.39s/it]"
     ]
    },
    {
     "name": "stdout",
     "output_type": "stream",
     "text": [
      "[INFO] [2021-10-31 22:23:54,980] [OpenBox-Shadan] Iteration 832, objective value: [18.383665334016342].\n"
     ]
    },
    {
     "name": "stderr",
     "output_type": "stream",
     "text": [
      "\r",
      " 83%|████████▎ | 832/1000 [8:00:08<1:26:08, 30.77s/it]"
     ]
    },
    {
     "name": "stdout",
     "output_type": "stream",
     "text": [
      "[INFO] [2021-10-31 22:24:26,684] [OpenBox-Shadan] Iteration 833, objective value: [6.49326605300277].\n"
     ]
    },
    {
     "name": "stderr",
     "output_type": "stream",
     "text": [
      "\r",
      " 83%|████████▎ | 833/1000 [8:00:40<1:26:24, 31.05s/it]"
     ]
    },
    {
     "name": "stdout",
     "output_type": "stream",
     "text": [
      "[INFO] [2021-10-31 22:25:06,670] [OpenBox-Shadan] Iteration 834, objective value: [33.3281778259835].\n"
     ]
    },
    {
     "name": "stderr",
     "output_type": "stream",
     "text": [
      "\r",
      " 83%|████████▎ | 834/1000 [8:01:20<1:33:19, 33.73s/it]"
     ]
    },
    {
     "name": "stdout",
     "output_type": "stream",
     "text": [
      "[INFO] [2021-10-31 22:25:39,622] [OpenBox-Shadan] Iteration 835, objective value: [23.743526232079475].\n"
     ]
    },
    {
     "name": "stderr",
     "output_type": "stream",
     "text": [
      "\r",
      " 84%|████████▎ | 835/1000 [8:01:53<1:32:06, 33.50s/it]"
     ]
    },
    {
     "name": "stdout",
     "output_type": "stream",
     "text": [
      "[INFO] [2021-10-31 22:26:05,282] [OpenBox-Shadan] Iteration 836, objective value: [100.0].\n"
     ]
    },
    {
     "name": "stderr",
     "output_type": "stream",
     "text": [
      "\r",
      " 84%|████████▎ | 836/1000 [8:02:19<1:25:07, 31.15s/it]"
     ]
    },
    {
     "name": "stdout",
     "output_type": "stream",
     "text": [
      "[INFO] [2021-10-31 22:26:37,630] [OpenBox-Shadan] Iteration 837, objective value: [10.95751554863213].\n"
     ]
    },
    {
     "name": "stderr",
     "output_type": "stream",
     "text": [
      "\r",
      " 84%|████████▎ | 837/1000 [8:02:51<1:25:36, 31.51s/it]"
     ]
    },
    {
     "name": "stdout",
     "output_type": "stream",
     "text": [
      "[INFO] [2021-10-31 22:27:11,787] [OpenBox-Shadan] Iteration 838, objective value: [18.931879260708726].\n"
     ]
    },
    {
     "name": "stderr",
     "output_type": "stream",
     "text": [
      "\r",
      " 84%|████████▍ | 838/1000 [8:03:25<1:27:12, 32.30s/it]"
     ]
    },
    {
     "name": "stdout",
     "output_type": "stream",
     "text": [
      "[INFO] [2021-10-31 22:27:48,364] [OpenBox-Shadan] Iteration 839, objective value: [33.332904585200254].\n"
     ]
    },
    {
     "name": "stderr",
     "output_type": "stream",
     "text": [
      "\r",
      " 84%|████████▍ | 839/1000 [8:04:02<1:30:06, 33.58s/it]"
     ]
    },
    {
     "name": "stdout",
     "output_type": "stream",
     "text": [
      "[INFO] [2021-10-31 22:28:20,234] [OpenBox-Shadan] Iteration 840, objective value: [5.433622802127047].\n"
     ]
    },
    {
     "name": "stderr",
     "output_type": "stream",
     "text": [
      "\r",
      " 84%|████████▍ | 840/1000 [8:04:33<1:28:11, 33.07s/it]"
     ]
    },
    {
     "name": "stdout",
     "output_type": "stream",
     "text": [
      "[INFO] [2021-10-31 22:28:48,956] [OpenBox-Shadan] Iteration 841, objective value: [30.682221642476023].\n"
     ]
    },
    {
     "name": "stderr",
     "output_type": "stream",
     "text": [
      "\r",
      " 84%|████████▍ | 841/1000 [8:05:02<1:24:10, 31.76s/it]"
     ]
    },
    {
     "name": "stdout",
     "output_type": "stream",
     "text": [
      "[INFO] [2021-10-31 22:29:26,117] [OpenBox-Shadan] Iteration 842, objective value: [23.917469959170916].\n"
     ]
    },
    {
     "name": "stderr",
     "output_type": "stream",
     "text": [
      "\r",
      " 84%|████████▍ | 842/1000 [8:05:39<1:27:54, 33.38s/it]"
     ]
    },
    {
     "name": "stdout",
     "output_type": "stream",
     "text": [
      "[INFO] [2021-10-31 22:30:01,888] [OpenBox-Shadan] Iteration 843, objective value: [22.028330419288864].\n"
     ]
    },
    {
     "name": "stderr",
     "output_type": "stream",
     "text": [
      "\r",
      " 84%|████████▍ | 843/1000 [8:06:15<1:29:13, 34.10s/it]"
     ]
    },
    {
     "name": "stdout",
     "output_type": "stream",
     "text": [
      "[INFO] [2021-10-31 22:30:34,882] [OpenBox-Shadan] Iteration 844, objective value: [20.73991592796709].\n"
     ]
    },
    {
     "name": "stderr",
     "output_type": "stream",
     "text": [
      "\r",
      " 84%|████████▍ | 844/1000 [8:06:48<1:27:47, 33.77s/it]"
     ]
    },
    {
     "name": "stdout",
     "output_type": "stream",
     "text": [
      "[INFO] [2021-10-31 22:31:01,378] [OpenBox-Shadan] Iteration 845, objective value: [100.0].\n"
     ]
    },
    {
     "name": "stderr",
     "output_type": "stream",
     "text": [
      "\r",
      " 84%|████████▍ | 845/1000 [8:07:15<1:21:35, 31.59s/it]"
     ]
    },
    {
     "name": "stdout",
     "output_type": "stream",
     "text": [
      "[INFO] [2021-10-31 22:31:40,074] [OpenBox-Shadan] Iteration 846, objective value: [7.572703982976051].\n"
     ]
    },
    {
     "name": "stderr",
     "output_type": "stream",
     "text": [
      "\r",
      " 85%|████████▍ | 846/1000 [8:07:53<1:26:32, 33.72s/it]"
     ]
    },
    {
     "name": "stdout",
     "output_type": "stream",
     "text": [
      "[INFO] [2021-10-31 22:32:12,583] [OpenBox-Shadan] Iteration 847, objective value: [100.0].\n"
     ]
    },
    {
     "name": "stderr",
     "output_type": "stream",
     "text": [
      "\r",
      " 85%|████████▍ | 847/1000 [8:08:26<1:25:03, 33.36s/it]"
     ]
    },
    {
     "name": "stdout",
     "output_type": "stream",
     "text": [
      "[INFO] [2021-10-31 22:32:48,703] [OpenBox-Shadan] Iteration 848, objective value: [15.156509676407765].\n"
     ]
    },
    {
     "name": "stderr",
     "output_type": "stream",
     "text": [
      "\r",
      " 85%|████████▍ | 848/1000 [8:09:02<1:26:36, 34.19s/it]"
     ]
    },
    {
     "name": "stdout",
     "output_type": "stream",
     "text": [
      "[INFO] [2021-10-31 22:33:15,888] [OpenBox-Shadan] Iteration 849, objective value: [22.849455939422086].\n"
     ]
    },
    {
     "name": "stderr",
     "output_type": "stream",
     "text": [
      "\r",
      " 85%|████████▍ | 849/1000 [8:09:29<1:20:44, 32.09s/it]"
     ]
    },
    {
     "name": "stdout",
     "output_type": "stream",
     "text": [
      "[INFO] [2021-10-31 22:33:52,050] [OpenBox-Shadan] Iteration 850, objective value: [29.557477062181533].\n"
     ]
    },
    {
     "name": "stderr",
     "output_type": "stream",
     "text": [
      "\r",
      " 85%|████████▌ | 850/1000 [8:10:05<1:23:16, 33.31s/it]"
     ]
    },
    {
     "name": "stdout",
     "output_type": "stream",
     "text": [
      "[INFO] [2021-10-31 22:34:27,549] [OpenBox-Shadan] Iteration 851, objective value: [28.936208579769527].\n"
     ]
    },
    {
     "name": "stderr",
     "output_type": "stream",
     "text": [
      "\r",
      " 85%|████████▌ | 851/1000 [8:10:41<1:24:20, 33.97s/it]"
     ]
    },
    {
     "name": "stdout",
     "output_type": "stream",
     "text": [
      "[INFO] [2021-10-31 22:35:06,063] [OpenBox-Shadan] Iteration 852, objective value: [33.31992418975092].\n"
     ]
    },
    {
     "name": "stderr",
     "output_type": "stream",
     "text": [
      "\r",
      " 85%|████████▌ | 852/1000 [8:11:19<1:27:08, 35.33s/it]"
     ]
    },
    {
     "name": "stdout",
     "output_type": "stream",
     "text": [
      "[INFO] [2021-10-31 22:35:36,609] [OpenBox-Shadan] Iteration 853, objective value: [5.56769338187685].\n"
     ]
    },
    {
     "name": "stderr",
     "output_type": "stream",
     "text": [
      "\r",
      " 85%|████████▌ | 853/1000 [8:11:50<1:23:02, 33.89s/it]"
     ]
    },
    {
     "name": "stdout",
     "output_type": "stream",
     "text": [
      "[INFO] [2021-10-31 22:36:07,355] [OpenBox-Shadan] Iteration 854, objective value: [32.65753786463388].\n"
     ]
    },
    {
     "name": "stderr",
     "output_type": "stream",
     "text": [
      "\r",
      " 85%|████████▌ | 854/1000 [8:12:21<1:20:10, 32.95s/it]"
     ]
    },
    {
     "name": "stdout",
     "output_type": "stream",
     "text": [
      "[INFO] [2021-10-31 22:36:39,292] [OpenBox-Shadan] Iteration 855, objective value: [4.545710710413104].\n"
     ]
    },
    {
     "name": "stderr",
     "output_type": "stream",
     "text": [
      "\r",
      " 86%|████████▌ | 855/1000 [8:12:53<1:18:53, 32.65s/it]"
     ]
    },
    {
     "name": "stdout",
     "output_type": "stream",
     "text": [
      "[INFO] [2021-10-31 22:37:10,856] [OpenBox-Shadan] Iteration 856, objective value: [13.46435107936938].\n"
     ]
    },
    {
     "name": "stderr",
     "output_type": "stream",
     "text": [
      "\r",
      " 86%|████████▌ | 856/1000 [8:13:24<1:17:34, 32.32s/it]"
     ]
    },
    {
     "name": "stdout",
     "output_type": "stream",
     "text": [
      "[INFO] [2021-10-31 22:37:44,316] [OpenBox-Shadan] Iteration 857, objective value: [32.21554434534981].\n"
     ]
    },
    {
     "name": "stderr",
     "output_type": "stream",
     "text": [
      "\r",
      " 86%|████████▌ | 857/1000 [8:13:58<1:17:50, 32.66s/it]"
     ]
    },
    {
     "name": "stdout",
     "output_type": "stream",
     "text": [
      "[INFO] [2021-10-31 22:38:13,793] [OpenBox-Shadan] Iteration 858, objective value: [14.606335762270263].\n"
     ]
    },
    {
     "name": "stderr",
     "output_type": "stream",
     "text": [
      "\r",
      " 86%|████████▌ | 858/1000 [8:14:27<1:15:02, 31.71s/it]"
     ]
    },
    {
     "name": "stdout",
     "output_type": "stream",
     "text": [
      "[INFO] [2021-10-31 22:38:46,409] [OpenBox-Shadan] Iteration 859, objective value: [18.604119421540076].\n"
     ]
    },
    {
     "name": "stderr",
     "output_type": "stream",
     "text": [
      "\r",
      " 86%|████████▌ | 859/1000 [8:15:00<1:15:09, 31.98s/it]"
     ]
    },
    {
     "name": "stdout",
     "output_type": "stream",
     "text": [
      "[INFO] [2021-10-31 22:39:19,751] [OpenBox-Shadan] Iteration 860, objective value: [18.76350144164067].\n"
     ]
    },
    {
     "name": "stderr",
     "output_type": "stream",
     "text": [
      "\r",
      " 86%|████████▌ | 860/1000 [8:15:33<1:15:34, 32.39s/it]"
     ]
    },
    {
     "name": "stdout",
     "output_type": "stream",
     "text": [
      "[INFO] [2021-10-31 22:39:53,897] [OpenBox-Shadan] Iteration 861, objective value: [36.0588670775801].\n"
     ]
    },
    {
     "name": "stderr",
     "output_type": "stream",
     "text": [
      "\r",
      " 86%|████████▌ | 861/1000 [8:16:07<1:16:15, 32.92s/it]"
     ]
    },
    {
     "name": "stdout",
     "output_type": "stream",
     "text": [
      "[INFO] [2021-10-31 22:40:31,271] [OpenBox-Shadan] Iteration 862, objective value: [39.94745959235901].\n"
     ]
    },
    {
     "name": "stderr",
     "output_type": "stream",
     "text": [
      "\r",
      " 86%|████████▌ | 862/1000 [8:16:45<1:18:46, 34.25s/it]"
     ]
    },
    {
     "name": "stdout",
     "output_type": "stream",
     "text": [
      "[INFO] [2021-10-31 22:40:59,816] [OpenBox-Shadan] Iteration 863, objective value: [14.38784387124447].\n"
     ]
    },
    {
     "name": "stderr",
     "output_type": "stream",
     "text": [
      "\r",
      " 86%|████████▋ | 863/1000 [8:17:13<1:14:18, 32.54s/it]"
     ]
    },
    {
     "name": "stdout",
     "output_type": "stream",
     "text": [
      "[INFO] [2021-10-31 22:41:35,002] [OpenBox-Shadan] Iteration 864, objective value: [36.11570540143404].\n"
     ]
    },
    {
     "name": "stderr",
     "output_type": "stream",
     "text": [
      "\r",
      " 86%|████████▋ | 864/1000 [8:17:48<1:15:33, 33.33s/it]"
     ]
    },
    {
     "name": "stdout",
     "output_type": "stream",
     "text": [
      "[INFO] [2021-10-31 22:42:09,184] [OpenBox-Shadan] Iteration 865, objective value: [32.50787219455785].\n"
     ]
    },
    {
     "name": "stderr",
     "output_type": "stream",
     "text": [
      "\r",
      " 86%|████████▋ | 865/1000 [8:18:22<1:15:34, 33.59s/it]"
     ]
    },
    {
     "name": "stdout",
     "output_type": "stream",
     "text": [
      "[INFO] [2021-10-31 22:42:43,825] [OpenBox-Shadan] Iteration 866, objective value: [6.5038668746088035].\n"
     ]
    },
    {
     "name": "stderr",
     "output_type": "stream",
     "text": [
      "\r",
      " 87%|████████▋ | 866/1000 [8:18:57<1:15:43, 33.90s/it]"
     ]
    },
    {
     "name": "stdout",
     "output_type": "stream",
     "text": [
      "[INFO] [2021-10-31 22:43:17,346] [OpenBox-Shadan] Iteration 867, objective value: [6.673909005134419].\n"
     ]
    },
    {
     "name": "stderr",
     "output_type": "stream",
     "text": [
      "\r",
      " 87%|████████▋ | 867/1000 [8:19:31<1:14:53, 33.79s/it]"
     ]
    },
    {
     "name": "stdout",
     "output_type": "stream",
     "text": [
      "[INFO] [2021-10-31 22:43:50,309] [OpenBox-Shadan] Iteration 868, objective value: [21.115500446087182].\n"
     ]
    },
    {
     "name": "stderr",
     "output_type": "stream",
     "text": [
      "\r",
      " 87%|████████▋ | 868/1000 [8:20:04<1:13:47, 33.54s/it]"
     ]
    },
    {
     "name": "stdout",
     "output_type": "stream",
     "text": [
      "[INFO] [2021-10-31 22:44:20,409] [OpenBox-Shadan] Iteration 869, objective value: [17.776508384769514].\n"
     ]
    },
    {
     "name": "stderr",
     "output_type": "stream",
     "text": [
      "\r",
      " 87%|████████▋ | 869/1000 [8:20:34<1:10:58, 32.51s/it]"
     ]
    },
    {
     "name": "stdout",
     "output_type": "stream",
     "text": [
      "[INFO] [2021-10-31 22:44:53,026] [OpenBox-Shadan] Iteration 870, objective value: [2.802802017567643].\n"
     ]
    },
    {
     "name": "stderr",
     "output_type": "stream",
     "text": [
      "\r",
      " 87%|████████▋ | 870/1000 [8:21:06<1:10:30, 32.54s/it]"
     ]
    },
    {
     "name": "stdout",
     "output_type": "stream",
     "text": [
      "[INFO] [2021-10-31 22:45:26,619] [OpenBox-Shadan] Iteration 871, objective value: [4.122043731569718].\n"
     ]
    },
    {
     "name": "stderr",
     "output_type": "stream",
     "text": [
      "\r",
      " 87%|████████▋ | 871/1000 [8:21:40<1:10:38, 32.86s/it]"
     ]
    },
    {
     "name": "stdout",
     "output_type": "stream",
     "text": [
      "[INFO] [2021-10-31 22:45:57,892] [OpenBox-Shadan] Iteration 872, objective value: [24.95019317817203].\n"
     ]
    },
    {
     "name": "stderr",
     "output_type": "stream",
     "text": [
      "\r",
      " 87%|████████▋ | 872/1000 [8:22:11<1:09:04, 32.38s/it]"
     ]
    },
    {
     "name": "stdout",
     "output_type": "stream",
     "text": [
      "[INFO] [2021-10-31 22:46:31,942] [OpenBox-Shadan] Iteration 873, objective value: [49.81189933749446].\n"
     ]
    },
    {
     "name": "stderr",
     "output_type": "stream",
     "text": [
      "\r",
      " 87%|████████▋ | 873/1000 [8:22:45<1:09:36, 32.88s/it]"
     ]
    },
    {
     "name": "stdout",
     "output_type": "stream",
     "text": [
      "[INFO] [2021-10-31 22:47:03,122] [OpenBox-Shadan] Iteration 874, objective value: [34.07907670763939].\n"
     ]
    },
    {
     "name": "stderr",
     "output_type": "stream",
     "text": [
      "\r",
      " 87%|████████▋ | 874/1000 [8:23:16<1:07:58, 32.37s/it]"
     ]
    },
    {
     "name": "stdout",
     "output_type": "stream",
     "text": [
      "[INFO] [2021-10-31 22:47:35,440] [OpenBox-Shadan] Iteration 875, objective value: [11.32741453664039].\n"
     ]
    },
    {
     "name": "stderr",
     "output_type": "stream",
     "text": [
      "\r",
      " 88%|████████▊ | 875/1000 [8:23:49<1:07:24, 32.36s/it]"
     ]
    },
    {
     "name": "stdout",
     "output_type": "stream",
     "text": [
      "[INFO] [2021-10-31 22:48:09,776] [OpenBox-Shadan] Iteration 876, objective value: [25.949675825413166].\n"
     ]
    },
    {
     "name": "stderr",
     "output_type": "stream",
     "text": [
      "\r",
      " 88%|████████▊ | 876/1000 [8:24:23<1:08:05, 32.95s/it]"
     ]
    },
    {
     "name": "stdout",
     "output_type": "stream",
     "text": [
      "[INFO] [2021-10-31 22:48:43,743] [OpenBox-Shadan] Iteration 877, objective value: [44.682187468907564].\n"
     ]
    },
    {
     "name": "stderr",
     "output_type": "stream",
     "text": [
      "\r",
      " 88%|████████▊ | 877/1000 [8:24:57<1:08:10, 33.25s/it]"
     ]
    },
    {
     "name": "stdout",
     "output_type": "stream",
     "text": [
      "[INFO] [2021-10-31 22:49:14,473] [OpenBox-Shadan] Iteration 878, objective value: [6.806507322417147].\n"
     ]
    },
    {
     "name": "stderr",
     "output_type": "stream",
     "text": [
      "\r",
      " 88%|████████▊ | 878/1000 [8:25:28<1:06:04, 32.50s/it]"
     ]
    },
    {
     "name": "stdout",
     "output_type": "stream",
     "text": [
      "[INFO] [2021-10-31 22:49:46,415] [OpenBox-Shadan] Iteration 879, objective value: [23.38413459667133].\n"
     ]
    },
    {
     "name": "stderr",
     "output_type": "stream",
     "text": [
      "\r",
      " 88%|████████▊ | 879/1000 [8:26:00<1:05:12, 32.33s/it]"
     ]
    },
    {
     "name": "stdout",
     "output_type": "stream",
     "text": [
      "[INFO] [2021-10-31 22:50:23,165] [OpenBox-Shadan] Iteration 880, objective value: [6.007611604807266].\n"
     ]
    },
    {
     "name": "stderr",
     "output_type": "stream",
     "text": [
      "\r",
      " 88%|████████▊ | 880/1000 [8:26:36<1:07:18, 33.66s/it]"
     ]
    },
    {
     "name": "stdout",
     "output_type": "stream",
     "text": [
      "[INFO] [2021-10-31 22:50:56,548] [OpenBox-Shadan] Iteration 881, objective value: [4.058852616332473].\n"
     ]
    },
    {
     "name": "stderr",
     "output_type": "stream",
     "text": [
      "\r",
      " 88%|████████▊ | 881/1000 [8:27:10<1:06:35, 33.57s/it]"
     ]
    },
    {
     "name": "stdout",
     "output_type": "stream",
     "text": [
      "[INFO] [2021-10-31 22:51:24,884] [OpenBox-Shadan] Iteration 882, objective value: [5.133046708840595].\n"
     ]
    },
    {
     "name": "stderr",
     "output_type": "stream",
     "text": [
      "\r",
      " 88%|████████▊ | 882/1000 [8:27:38<1:02:56, 32.00s/it]"
     ]
    },
    {
     "name": "stdout",
     "output_type": "stream",
     "text": [
      "[INFO] [2021-10-31 22:51:52,622] [OpenBox-Shadan] Iteration 883, objective value: [4.275527111525506].\n"
     ]
    },
    {
     "name": "stderr",
     "output_type": "stream",
     "text": [
      "\r",
      " 88%|████████▊ | 883/1000 [8:28:06<59:54, 30.72s/it]  "
     ]
    },
    {
     "name": "stdout",
     "output_type": "stream",
     "text": [
      "[INFO] [2021-10-31 22:52:23,969] [OpenBox-Shadan] Iteration 884, objective value: [28.97793871768397].\n"
     ]
    },
    {
     "name": "stderr",
     "output_type": "stream",
     "text": [
      "\r",
      " 88%|████████▊ | 884/1000 [8:28:37<59:45, 30.91s/it]"
     ]
    },
    {
     "name": "stdout",
     "output_type": "stream",
     "text": [
      "[INFO] [2021-10-31 22:52:57,989] [OpenBox-Shadan] Iteration 885, objective value: [30.536935055893295].\n"
     ]
    },
    {
     "name": "stderr",
     "output_type": "stream",
     "text": [
      "\r",
      " 88%|████████▊ | 885/1000 [8:29:11<1:01:01, 31.84s/it]"
     ]
    },
    {
     "name": "stdout",
     "output_type": "stream",
     "text": [
      "[INFO] [2021-10-31 22:53:30,499] [OpenBox-Shadan] Iteration 886, objective value: [21.686679686810976].\n"
     ]
    },
    {
     "name": "stderr",
     "output_type": "stream",
     "text": [
      "\r",
      " 89%|████████▊ | 886/1000 [8:29:44<1:00:52, 32.04s/it]"
     ]
    },
    {
     "name": "stdout",
     "output_type": "stream",
     "text": [
      "[INFO] [2021-10-31 22:54:04,410] [OpenBox-Shadan] Iteration 887, objective value: [7.0431753714172345].\n"
     ]
    },
    {
     "name": "stderr",
     "output_type": "stream",
     "text": [
      "\r",
      " 89%|████████▊ | 887/1000 [8:30:18<1:01:24, 32.60s/it]"
     ]
    },
    {
     "name": "stdout",
     "output_type": "stream",
     "text": [
      "[INFO] [2021-10-31 22:54:33,628] [OpenBox-Shadan] Iteration 888, objective value: [33.89218169972547].\n"
     ]
    },
    {
     "name": "stderr",
     "output_type": "stream",
     "text": [
      "\r",
      " 89%|████████▉ | 888/1000 [8:30:47<58:57, 31.59s/it]  "
     ]
    },
    {
     "name": "stdout",
     "output_type": "stream",
     "text": [
      "[INFO] [2021-10-31 22:55:03,591] [OpenBox-Shadan] Iteration 889, objective value: [100.0].\n"
     ]
    },
    {
     "name": "stderr",
     "output_type": "stream",
     "text": [
      "\r",
      " 89%|████████▉ | 889/1000 [8:31:17<57:32, 31.10s/it]"
     ]
    },
    {
     "name": "stdout",
     "output_type": "stream",
     "text": [
      "[INFO] [2021-10-31 22:55:43,093] [OpenBox-Shadan] Iteration 890, objective value: [25.98881206493988].\n"
     ]
    },
    {
     "name": "stderr",
     "output_type": "stream",
     "text": [
      "\r",
      " 89%|████████▉ | 890/1000 [8:31:56<1:01:38, 33.62s/it]"
     ]
    },
    {
     "name": "stdout",
     "output_type": "stream",
     "text": [
      "[INFO] [2021-10-31 22:56:14,994] [OpenBox-Shadan] Iteration 891, objective value: [24.4670702854159].\n"
     ]
    },
    {
     "name": "stderr",
     "output_type": "stream",
     "text": [
      "\r",
      " 89%|████████▉ | 891/1000 [8:32:28<1:00:08, 33.10s/it]"
     ]
    },
    {
     "name": "stdout",
     "output_type": "stream",
     "text": [
      "[INFO] [2021-10-31 22:56:45,414] [OpenBox-Shadan] Iteration 892, objective value: [6.787075986781744].\n"
     ]
    },
    {
     "name": "stderr",
     "output_type": "stream",
     "text": [
      "\r",
      " 89%|████████▉ | 892/1000 [8:32:59<58:08, 32.30s/it]  "
     ]
    },
    {
     "name": "stdout",
     "output_type": "stream",
     "text": [
      "[INFO] [2021-10-31 22:57:12,317] [OpenBox-Shadan] Iteration 893, objective value: [34.60311704562616].\n"
     ]
    },
    {
     "name": "stderr",
     "output_type": "stream",
     "text": [
      "\r",
      " 89%|████████▉ | 893/1000 [8:33:26<54:42, 30.68s/it]"
     ]
    },
    {
     "name": "stdout",
     "output_type": "stream",
     "text": [
      "[INFO] [2021-10-31 22:57:44,088] [OpenBox-Shadan] Iteration 894, objective value: [27.844930957990698].\n"
     ]
    },
    {
     "name": "stderr",
     "output_type": "stream",
     "text": [
      "\r",
      " 89%|████████▉ | 894/1000 [8:33:57<54:46, 31.01s/it]"
     ]
    },
    {
     "name": "stdout",
     "output_type": "stream",
     "text": [
      "[INFO] [2021-10-31 22:58:16,081] [OpenBox-Shadan] Iteration 895, objective value: [8.071200473837976].\n"
     ]
    },
    {
     "name": "stderr",
     "output_type": "stream",
     "text": [
      "\r",
      " 90%|████████▉ | 895/1000 [8:34:29<54:46, 31.30s/it]"
     ]
    },
    {
     "name": "stdout",
     "output_type": "stream",
     "text": [
      "[INFO] [2021-10-31 22:58:47,635] [OpenBox-Shadan] Iteration 896, objective value: [6.132092907810474].\n"
     ]
    },
    {
     "name": "stderr",
     "output_type": "stream",
     "text": [
      "\r",
      " 90%|████████▉ | 896/1000 [8:35:01<54:23, 31.38s/it]"
     ]
    },
    {
     "name": "stdout",
     "output_type": "stream",
     "text": [
      "[INFO] [2021-10-31 22:59:20,669] [OpenBox-Shadan] Iteration 897, objective value: [20.8266363457342].\n"
     ]
    },
    {
     "name": "stderr",
     "output_type": "stream",
     "text": [
      "\r",
      " 90%|████████▉ | 897/1000 [8:35:34<54:43, 31.88s/it]"
     ]
    },
    {
     "name": "stdout",
     "output_type": "stream",
     "text": [
      "[INFO] [2021-10-31 22:59:50,450] [OpenBox-Shadan] Iteration 898, objective value: [6.239788174465488].\n"
     ]
    },
    {
     "name": "stderr",
     "output_type": "stream",
     "text": [
      "\r",
      " 90%|████████▉ | 898/1000 [8:36:04<53:07, 31.25s/it]"
     ]
    },
    {
     "name": "stdout",
     "output_type": "stream",
     "text": [
      "[INFO] [2021-10-31 23:00:21,162] [OpenBox-Shadan] Iteration 899, objective value: [4.458342395873771].\n"
     ]
    },
    {
     "name": "stderr",
     "output_type": "stream",
     "text": [
      "\r",
      " 90%|████████▉ | 899/1000 [8:36:34<52:19, 31.09s/it]"
     ]
    },
    {
     "name": "stdout",
     "output_type": "stream",
     "text": [
      "[INFO] [2021-10-31 23:00:55,317] [OpenBox-Shadan] Iteration 900, objective value: [50.82020185058423].\n"
     ]
    },
    {
     "name": "stderr",
     "output_type": "stream",
     "text": [
      "\r",
      " 90%|█████████ | 900/1000 [8:37:09<53:20, 32.01s/it]"
     ]
    },
    {
     "name": "stdout",
     "output_type": "stream",
     "text": [
      "[INFO] [2021-10-31 23:01:28,390] [OpenBox-Shadan] Iteration 901, objective value: [25.479579183857254].\n"
     ]
    },
    {
     "name": "stderr",
     "output_type": "stream",
     "text": [
      "\r",
      " 90%|█████████ | 901/1000 [8:37:42<53:20, 32.33s/it]"
     ]
    },
    {
     "name": "stdout",
     "output_type": "stream",
     "text": [
      "[INFO] [2021-10-31 23:02:01,920] [OpenBox-Shadan] Iteration 902, objective value: [30.125776338590853].\n"
     ]
    },
    {
     "name": "stderr",
     "output_type": "stream",
     "text": [
      "\r",
      " 90%|█████████ | 902/1000 [8:38:15<53:23, 32.69s/it]"
     ]
    },
    {
     "name": "stdout",
     "output_type": "stream",
     "text": [
      "[INFO] [2021-10-31 23:02:33,641] [OpenBox-Shadan] Iteration 903, objective value: [27.826281538070475].\n"
     ]
    },
    {
     "name": "stderr",
     "output_type": "stream",
     "text": [
      "\r",
      " 90%|█████████ | 903/1000 [8:38:47<52:22, 32.40s/it]"
     ]
    },
    {
     "name": "stdout",
     "output_type": "stream",
     "text": [
      "[INFO] [2021-10-31 23:03:03,518] [OpenBox-Shadan] Iteration 904, objective value: [25.601865041316557].\n"
     ]
    },
    {
     "name": "stderr",
     "output_type": "stream",
     "text": [
      "\r",
      " 90%|█████████ | 904/1000 [8:39:17<50:37, 31.64s/it]"
     ]
    },
    {
     "name": "stdout",
     "output_type": "stream",
     "text": [
      "[INFO] [2021-10-31 23:03:39,308] [OpenBox-Shadan] Iteration 905, objective value: [6.088004193624869].\n"
     ]
    },
    {
     "name": "stderr",
     "output_type": "stream",
     "text": [
      "\r",
      " 90%|█████████ | 905/1000 [8:39:53<52:04, 32.89s/it]"
     ]
    },
    {
     "name": "stdout",
     "output_type": "stream",
     "text": [
      "[INFO] [2021-10-31 23:04:14,953] [OpenBox-Shadan] Iteration 906, objective value: [5.533415534259504].\n"
     ]
    },
    {
     "name": "stderr",
     "output_type": "stream",
     "text": [
      "\r",
      " 91%|█████████ | 906/1000 [8:40:28<52:49, 33.71s/it]"
     ]
    },
    {
     "name": "stdout",
     "output_type": "stream",
     "text": [
      "[INFO] [2021-10-31 23:04:49,970] [OpenBox-Shadan] Iteration 907, objective value: [27.173718687193414].\n"
     ]
    },
    {
     "name": "stderr",
     "output_type": "stream",
     "text": [
      "\r",
      " 91%|█████████ | 907/1000 [8:41:03<52:51, 34.10s/it]"
     ]
    },
    {
     "name": "stdout",
     "output_type": "stream",
     "text": [
      "[INFO] [2021-10-31 23:05:25,194] [OpenBox-Shadan] Iteration 908, objective value: [3.722458198885846].\n"
     ]
    },
    {
     "name": "stderr",
     "output_type": "stream",
     "text": [
      "\r",
      " 91%|█████████ | 908/1000 [8:41:38<52:48, 34.44s/it]"
     ]
    },
    {
     "name": "stdout",
     "output_type": "stream",
     "text": [
      "[INFO] [2021-10-31 23:05:55,677] [OpenBox-Shadan] Iteration 909, objective value: [7.03106360858699].\n"
     ]
    },
    {
     "name": "stderr",
     "output_type": "stream",
     "text": [
      "\r",
      " 91%|█████████ | 909/1000 [8:42:09<50:26, 33.25s/it]"
     ]
    },
    {
     "name": "stdout",
     "output_type": "stream",
     "text": [
      "[INFO] [2021-10-31 23:06:24,256] [OpenBox-Shadan] Iteration 910, objective value: [3.975805468599944].\n"
     ]
    },
    {
     "name": "stderr",
     "output_type": "stream",
     "text": [
      "\r",
      " 91%|█████████ | 910/1000 [8:42:37<47:46, 31.85s/it]"
     ]
    },
    {
     "name": "stdout",
     "output_type": "stream",
     "text": [
      "[INFO] [2021-10-31 23:06:57,260] [OpenBox-Shadan] Iteration 911, objective value: [26.85462214422374].\n"
     ]
    },
    {
     "name": "stderr",
     "output_type": "stream",
     "text": [
      "\r",
      " 91%|█████████ | 911/1000 [8:43:10<47:45, 32.20s/it]"
     ]
    },
    {
     "name": "stdout",
     "output_type": "stream",
     "text": [
      "[INFO] [2021-10-31 23:07:27,243] [OpenBox-Shadan] Iteration 912, objective value: [28.766936820762197].\n"
     ]
    },
    {
     "name": "stderr",
     "output_type": "stream",
     "text": [
      "\r",
      " 91%|█████████ | 912/1000 [8:43:40<46:14, 31.53s/it]"
     ]
    },
    {
     "name": "stdout",
     "output_type": "stream",
     "text": [
      "[INFO] [2021-10-31 23:07:59,051] [OpenBox-Shadan] Iteration 913, objective value: [20.405015893422146].\n"
     ]
    },
    {
     "name": "stderr",
     "output_type": "stream",
     "text": [
      "\r",
      " 91%|█████████▏| 913/1000 [8:44:12<45:50, 31.62s/it]"
     ]
    },
    {
     "name": "stdout",
     "output_type": "stream",
     "text": [
      "[INFO] [2021-10-31 23:08:33,841] [OpenBox-Shadan] Iteration 914, objective value: [44.07950028694619].\n"
     ]
    },
    {
     "name": "stderr",
     "output_type": "stream",
     "text": [
      "\r",
      " 91%|█████████▏| 914/1000 [8:44:47<46:40, 32.57s/it]"
     ]
    },
    {
     "name": "stdout",
     "output_type": "stream",
     "text": [
      "[INFO] [2021-10-31 23:09:04,319] [OpenBox-Shadan] Iteration 915, objective value: [100.0].\n"
     ]
    },
    {
     "name": "stderr",
     "output_type": "stream",
     "text": [
      "\r",
      " 92%|█████████▏| 915/1000 [8:45:18<45:14, 31.94s/it]"
     ]
    },
    {
     "name": "stdout",
     "output_type": "stream",
     "text": [
      "[INFO] [2021-10-31 23:09:34,158] [OpenBox-Shadan] Iteration 916, objective value: [23.8288071685259].\n"
     ]
    },
    {
     "name": "stderr",
     "output_type": "stream",
     "text": [
      "\r",
      " 92%|█████████▏| 916/1000 [8:45:47<43:50, 31.31s/it]"
     ]
    },
    {
     "name": "stdout",
     "output_type": "stream",
     "text": [
      "[INFO] [2021-10-31 23:10:07,994] [OpenBox-Shadan] Iteration 917, objective value: [43.19408119522989].\n"
     ]
    },
    {
     "name": "stderr",
     "output_type": "stream",
     "text": [
      "\r",
      " 92%|█████████▏| 917/1000 [8:46:21<44:21, 32.07s/it]"
     ]
    },
    {
     "name": "stdout",
     "output_type": "stream",
     "text": [
      "[INFO] [2021-10-31 23:10:46,603] [OpenBox-Shadan] Iteration 918, objective value: [22.502055064116192].\n"
     ]
    },
    {
     "name": "stderr",
     "output_type": "stream",
     "text": [
      "\r",
      " 92%|█████████▏| 918/1000 [8:47:00<46:30, 34.03s/it]"
     ]
    },
    {
     "name": "stdout",
     "output_type": "stream",
     "text": [
      "[INFO] [2021-10-31 23:11:25,801] [OpenBox-Shadan] Iteration 919, objective value: [38.55012490610197].\n"
     ]
    },
    {
     "name": "stderr",
     "output_type": "stream",
     "text": [
      "\r",
      " 92%|█████████▏| 919/1000 [8:47:39<48:02, 35.58s/it]"
     ]
    },
    {
     "name": "stdout",
     "output_type": "stream",
     "text": [
      "[INFO] [2021-10-31 23:11:56,508] [OpenBox-Shadan] Iteration 920, objective value: [23.509676410400687].\n"
     ]
    },
    {
     "name": "stderr",
     "output_type": "stream",
     "text": [
      "\r",
      " 92%|█████████▏| 920/1000 [8:48:10<45:29, 34.12s/it]"
     ]
    },
    {
     "name": "stdout",
     "output_type": "stream",
     "text": [
      "[INFO] [2021-10-31 23:12:28,286] [OpenBox-Shadan] Iteration 921, objective value: [7.621057507769478].\n"
     ]
    },
    {
     "name": "stderr",
     "output_type": "stream",
     "text": [
      "\r",
      " 92%|█████████▏| 921/1000 [8:48:42<43:59, 33.42s/it]"
     ]
    },
    {
     "name": "stdout",
     "output_type": "stream",
     "text": [
      "[INFO] [2021-10-31 23:13:07,859] [OpenBox-Shadan] Iteration 922, objective value: [8.998022872257877].\n"
     ]
    },
    {
     "name": "stderr",
     "output_type": "stream",
     "text": [
      "\r",
      " 92%|█████████▏| 922/1000 [8:49:21<45:50, 35.26s/it]"
     ]
    },
    {
     "name": "stdout",
     "output_type": "stream",
     "text": [
      "[INFO] [2021-10-31 23:13:41,983] [OpenBox-Shadan] Iteration 923, objective value: [5.368514316543539].\n"
     ]
    },
    {
     "name": "stderr",
     "output_type": "stream",
     "text": [
      "\r",
      " 92%|█████████▏| 923/1000 [8:49:55<44:48, 34.92s/it]"
     ]
    },
    {
     "name": "stdout",
     "output_type": "stream",
     "text": [
      "[INFO] [2021-10-31 23:14:13,662] [OpenBox-Shadan] Iteration 924, objective value: [9.542208448175998].\n"
     ]
    },
    {
     "name": "stderr",
     "output_type": "stream",
     "text": [
      "\r",
      " 92%|█████████▏| 924/1000 [8:50:27<43:00, 33.95s/it]"
     ]
    },
    {
     "name": "stdout",
     "output_type": "stream",
     "text": [
      "[INFO] [2021-10-31 23:14:40,510] [OpenBox-Shadan] Iteration 925, objective value: [22.974576829974353].\n"
     ]
    },
    {
     "name": "stderr",
     "output_type": "stream",
     "text": [
      "\r",
      " 92%|█████████▎| 925/1000 [8:50:54<39:46, 31.82s/it]"
     ]
    },
    {
     "name": "stdout",
     "output_type": "stream",
     "text": [
      "[INFO] [2021-10-31 23:15:15,075] [OpenBox-Shadan] Iteration 926, objective value: [46.60592579981181].\n"
     ]
    },
    {
     "name": "stderr",
     "output_type": "stream",
     "text": [
      "\r",
      " 93%|█████████▎| 926/1000 [8:51:28<40:15, 32.64s/it]"
     ]
    },
    {
     "name": "stdout",
     "output_type": "stream",
     "text": [
      "[INFO] [2021-10-31 23:15:48,123] [OpenBox-Shadan] Iteration 927, objective value: [8.062975125529988].\n"
     ]
    },
    {
     "name": "stderr",
     "output_type": "stream",
     "text": [
      "\r",
      " 93%|█████████▎| 927/1000 [8:52:01<39:51, 32.76s/it]"
     ]
    },
    {
     "name": "stdout",
     "output_type": "stream",
     "text": [
      "[INFO] [2021-10-31 23:16:22,334] [OpenBox-Shadan] Iteration 928, objective value: [3.956081891640437].\n"
     ]
    },
    {
     "name": "stderr",
     "output_type": "stream",
     "text": [
      "\r",
      " 93%|█████████▎| 928/1000 [8:52:36<39:50, 33.20s/it]"
     ]
    },
    {
     "name": "stdout",
     "output_type": "stream",
     "text": [
      "[INFO] [2021-10-31 23:16:56,518] [OpenBox-Shadan] Iteration 929, objective value: [21.147274153029485].\n"
     ]
    },
    {
     "name": "stderr",
     "output_type": "stream",
     "text": [
      "\r",
      " 93%|█████████▎| 929/1000 [8:53:10<39:38, 33.49s/it]"
     ]
    },
    {
     "name": "stdout",
     "output_type": "stream",
     "text": [
      "[INFO] [2021-10-31 23:17:26,883] [OpenBox-Shadan] Iteration 930, objective value: [29.51960840070751].\n"
     ]
    },
    {
     "name": "stderr",
     "output_type": "stream",
     "text": [
      "\r",
      " 93%|█████████▎| 930/1000 [8:53:40<37:58, 32.56s/it]"
     ]
    },
    {
     "name": "stdout",
     "output_type": "stream",
     "text": [
      "[INFO] [2021-10-31 23:18:02,313] [OpenBox-Shadan] Iteration 931, objective value: [29.377661154701954].\n"
     ]
    },
    {
     "name": "stderr",
     "output_type": "stream",
     "text": [
      "\r",
      " 93%|█████████▎| 931/1000 [8:54:16<38:25, 33.42s/it]"
     ]
    },
    {
     "name": "stdout",
     "output_type": "stream",
     "text": [
      "[INFO] [2021-10-31 23:18:35,533] [OpenBox-Shadan] Iteration 932, objective value: [2.5074925145788285].\n"
     ]
    },
    {
     "name": "stderr",
     "output_type": "stream",
     "text": [
      "\r",
      " 93%|█████████▎| 932/1000 [8:54:49<37:48, 33.36s/it]"
     ]
    },
    {
     "name": "stdout",
     "output_type": "stream",
     "text": [
      "[INFO] [2021-10-31 23:19:10,144] [OpenBox-Shadan] Iteration 933, objective value: [17.27259465585132].\n"
     ]
    },
    {
     "name": "stderr",
     "output_type": "stream",
     "text": [
      "\r",
      " 93%|█████████▎| 933/1000 [8:55:23<37:40, 33.73s/it]"
     ]
    },
    {
     "name": "stdout",
     "output_type": "stream",
     "text": [
      "[INFO] [2021-10-31 23:19:42,782] [OpenBox-Shadan] Iteration 934, objective value: [17.95587829482261].\n"
     ]
    },
    {
     "name": "stderr",
     "output_type": "stream",
     "text": [
      "\r",
      " 93%|█████████▎| 934/1000 [8:55:56<36:44, 33.41s/it]"
     ]
    },
    {
     "name": "stdout",
     "output_type": "stream",
     "text": [
      "[INFO] [2021-10-31 23:20:10,341] [OpenBox-Shadan] Iteration 935, objective value: [3.536748114904171].\n"
     ]
    },
    {
     "name": "stderr",
     "output_type": "stream",
     "text": [
      "\r",
      " 94%|█████████▎| 935/1000 [8:56:24<34:17, 31.65s/it]"
     ]
    },
    {
     "name": "stdout",
     "output_type": "stream",
     "text": [
      "[INFO] [2021-10-31 23:20:39,971] [OpenBox-Shadan] Iteration 936, objective value: [3.3615404161764957].\n"
     ]
    },
    {
     "name": "stderr",
     "output_type": "stream",
     "text": [
      "\r",
      " 94%|█████████▎| 936/1000 [8:56:53<33:06, 31.05s/it]"
     ]
    },
    {
     "name": "stdout",
     "output_type": "stream",
     "text": [
      "[INFO] [2021-10-31 23:21:13,308] [OpenBox-Shadan] Iteration 937, objective value: [40.071527297630524].\n"
     ]
    },
    {
     "name": "stderr",
     "output_type": "stream",
     "text": [
      "\r",
      " 94%|█████████▎| 937/1000 [8:57:27<33:19, 31.73s/it]"
     ]
    },
    {
     "name": "stdout",
     "output_type": "stream",
     "text": [
      "[INFO] [2021-10-31 23:21:43,971] [OpenBox-Shadan] Iteration 938, objective value: [4.080269632287937].\n"
     ]
    },
    {
     "name": "stderr",
     "output_type": "stream",
     "text": [
      "\r",
      " 94%|█████████▍| 938/1000 [8:57:57<32:27, 31.41s/it]"
     ]
    },
    {
     "name": "stdout",
     "output_type": "stream",
     "text": [
      "[INFO] [2021-10-31 23:22:15,991] [OpenBox-Shadan] Iteration 939, objective value: [1.8895374701715326].\n"
     ]
    },
    {
     "name": "stderr",
     "output_type": "stream",
     "text": [
      "\r",
      " 94%|█████████▍| 939/1000 [8:58:29<32:07, 31.59s/it]"
     ]
    },
    {
     "name": "stdout",
     "output_type": "stream",
     "text": [
      "[INFO] [2021-10-31 23:22:47,429] [OpenBox-Shadan] Iteration 940, objective value: [34.20779376567309].\n"
     ]
    },
    {
     "name": "stderr",
     "output_type": "stream",
     "text": [
      "\r",
      " 94%|█████████▍| 940/1000 [8:59:01<31:32, 31.55s/it]"
     ]
    },
    {
     "name": "stdout",
     "output_type": "stream",
     "text": [
      "[INFO] [2021-10-31 23:23:20,323] [OpenBox-Shadan] Iteration 941, objective value: [2.817981528218013].\n"
     ]
    },
    {
     "name": "stderr",
     "output_type": "stream",
     "text": [
      "\r",
      " 94%|█████████▍| 941/1000 [8:59:34<31:25, 31.95s/it]"
     ]
    },
    {
     "name": "stdout",
     "output_type": "stream",
     "text": [
      "[INFO] [2021-10-31 23:23:53,319] [OpenBox-Shadan] Iteration 942, objective value: [24.42939793835349].\n"
     ]
    },
    {
     "name": "stderr",
     "output_type": "stream",
     "text": [
      "\r",
      " 94%|█████████▍| 942/1000 [9:00:07<31:11, 32.26s/it]"
     ]
    },
    {
     "name": "stdout",
     "output_type": "stream",
     "text": [
      "[INFO] [2021-10-31 23:24:25,061] [OpenBox-Shadan] Iteration 943, objective value: [27.42844375549592].\n"
     ]
    },
    {
     "name": "stderr",
     "output_type": "stream",
     "text": [
      "\r",
      " 94%|█████████▍| 943/1000 [9:00:38<30:30, 32.11s/it]"
     ]
    },
    {
     "name": "stdout",
     "output_type": "stream",
     "text": [
      "[INFO] [2021-10-31 23:25:03,743] [OpenBox-Shadan] Iteration 944, objective value: [29.0420199427531].\n"
     ]
    },
    {
     "name": "stderr",
     "output_type": "stream",
     "text": [
      "\r",
      " 94%|█████████▍| 944/1000 [9:01:17<31:48, 34.08s/it]"
     ]
    },
    {
     "name": "stdout",
     "output_type": "stream",
     "text": [
      "[INFO] [2021-10-31 23:25:29,236] [OpenBox-Shadan] Iteration 945, objective value: [100.0].\n"
     ]
    },
    {
     "name": "stderr",
     "output_type": "stream",
     "text": [
      "\r",
      " 94%|█████████▍| 945/1000 [9:01:42<28:52, 31.50s/it]"
     ]
    },
    {
     "name": "stdout",
     "output_type": "stream",
     "text": [
      "[INFO] [2021-10-31 23:25:59,305] [OpenBox-Shadan] Iteration 946, objective value: [2.025461337577809].\n"
     ]
    },
    {
     "name": "stderr",
     "output_type": "stream",
     "text": [
      "\r",
      " 95%|█████████▍| 946/1000 [9:02:13<27:57, 31.07s/it]"
     ]
    },
    {
     "name": "stdout",
     "output_type": "stream",
     "text": [
      "[INFO] [2021-10-31 23:26:32,192] [OpenBox-Shadan] Iteration 947, objective value: [2.0712992790640214].\n"
     ]
    },
    {
     "name": "stderr",
     "output_type": "stream",
     "text": [
      "\r",
      " 95%|█████████▍| 947/1000 [9:02:45<27:55, 31.62s/it]"
     ]
    },
    {
     "name": "stdout",
     "output_type": "stream",
     "text": [
      "[INFO] [2021-10-31 23:27:03,891] [OpenBox-Shadan] Iteration 948, objective value: [15.43436290369543].\n"
     ]
    },
    {
     "name": "stderr",
     "output_type": "stream",
     "text": [
      "\r",
      " 95%|█████████▍| 948/1000 [9:03:17<27:25, 31.64s/it]"
     ]
    },
    {
     "name": "stdout",
     "output_type": "stream",
     "text": [
      "[INFO] [2021-10-31 23:27:34,659] [OpenBox-Shadan] Iteration 949, objective value: [2.9789609895736646].\n"
     ]
    },
    {
     "name": "stderr",
     "output_type": "stream",
     "text": [
      "\r",
      " 95%|█████████▍| 949/1000 [9:03:48<26:40, 31.38s/it]"
     ]
    },
    {
     "name": "stdout",
     "output_type": "stream",
     "text": [
      "[INFO] [2021-10-31 23:28:05,032] [OpenBox-Shadan] Iteration 950, objective value: [20.65239484297227].\n"
     ]
    },
    {
     "name": "stderr",
     "output_type": "stream",
     "text": [
      "\r",
      " 95%|█████████▌| 950/1000 [9:04:18<25:53, 31.08s/it]"
     ]
    },
    {
     "name": "stdout",
     "output_type": "stream",
     "text": [
      "[INFO] [2021-10-31 23:28:33,869] [OpenBox-Shadan] Iteration 951, objective value: [5.881730889765677].\n"
     ]
    },
    {
     "name": "stderr",
     "output_type": "stream",
     "text": [
      "\r",
      " 95%|█████████▌| 951/1000 [9:04:47<24:49, 30.41s/it]"
     ]
    },
    {
     "name": "stdout",
     "output_type": "stream",
     "text": [
      "[INFO] [2021-10-31 23:29:09,368] [OpenBox-Shadan] Iteration 952, objective value: [12.582323507447214].\n"
     ]
    },
    {
     "name": "stderr",
     "output_type": "stream",
     "text": [
      "\r",
      " 95%|█████████▌| 952/1000 [9:05:23<25:32, 31.93s/it]"
     ]
    },
    {
     "name": "stdout",
     "output_type": "stream",
     "text": [
      "[INFO] [2021-10-31 23:29:43,001] [OpenBox-Shadan] Iteration 953, objective value: [36.19653845268386].\n"
     ]
    },
    {
     "name": "stderr",
     "output_type": "stream",
     "text": [
      "\r",
      " 95%|█████████▌| 953/1000 [9:05:56<25:24, 32.44s/it]"
     ]
    },
    {
     "name": "stdout",
     "output_type": "stream",
     "text": [
      "[INFO] [2021-10-31 23:30:16,575] [OpenBox-Shadan] Iteration 954, objective value: [15.796984569016644].\n"
     ]
    },
    {
     "name": "stderr",
     "output_type": "stream",
     "text": [
      "\r",
      " 95%|█████████▌| 954/1000 [9:06:30<25:08, 32.78s/it]"
     ]
    },
    {
     "name": "stdout",
     "output_type": "stream",
     "text": [
      "[INFO] [2021-10-31 23:30:46,448] [OpenBox-Shadan] Iteration 955, objective value: [17.903080324023946].\n"
     ]
    },
    {
     "name": "stderr",
     "output_type": "stream",
     "text": [
      "\r",
      " 96%|█████████▌| 955/1000 [9:07:00<23:55, 31.91s/it]"
     ]
    },
    {
     "name": "stdout",
     "output_type": "stream",
     "text": [
      "[INFO] [2021-10-31 23:31:15,777] [OpenBox-Shadan] Iteration 956, objective value: [24.36482495955559].\n"
     ]
    },
    {
     "name": "stderr",
     "output_type": "stream",
     "text": [
      "\r",
      " 96%|█████████▌| 956/1000 [9:07:29<22:49, 31.14s/it]"
     ]
    },
    {
     "name": "stdout",
     "output_type": "stream",
     "text": [
      "[INFO] [2021-10-31 23:31:48,107] [OpenBox-Shadan] Iteration 957, objective value: [38.45628601206387].\n"
     ]
    },
    {
     "name": "stderr",
     "output_type": "stream",
     "text": [
      "\r",
      " 96%|█████████▌| 957/1000 [9:08:01<22:34, 31.49s/it]"
     ]
    },
    {
     "name": "stdout",
     "output_type": "stream",
     "text": [
      "[INFO] [2021-10-31 23:32:26,371] [OpenBox-Shadan] Iteration 958, objective value: [32.35972735673582].\n"
     ]
    },
    {
     "name": "stderr",
     "output_type": "stream",
     "text": [
      "\r",
      " 96%|█████████▌| 958/1000 [9:08:40<23:28, 33.52s/it]"
     ]
    },
    {
     "name": "stdout",
     "output_type": "stream",
     "text": [
      "[INFO] [2021-10-31 23:33:00,528] [OpenBox-Shadan] Iteration 959, objective value: [22.82757402336921].\n"
     ]
    },
    {
     "name": "stderr",
     "output_type": "stream",
     "text": [
      "\r",
      " 96%|█████████▌| 959/1000 [9:09:14<23:02, 33.71s/it]"
     ]
    },
    {
     "name": "stdout",
     "output_type": "stream",
     "text": [
      "[INFO] [2021-10-31 23:33:34,909] [OpenBox-Shadan] Iteration 960, objective value: [14.7668165494741].\n"
     ]
    },
    {
     "name": "stderr",
     "output_type": "stream",
     "text": [
      "\r",
      " 96%|█████████▌| 960/1000 [9:09:48<22:36, 33.91s/it]"
     ]
    },
    {
     "name": "stdout",
     "output_type": "stream",
     "text": [
      "[INFO] [2021-10-31 23:34:11,018] [OpenBox-Shadan] Iteration 961, objective value: [26.83119136198883].\n"
     ]
    },
    {
     "name": "stderr",
     "output_type": "stream",
     "text": [
      "\r",
      " 96%|█████████▌| 961/1000 [9:10:24<22:28, 34.57s/it]"
     ]
    },
    {
     "name": "stdout",
     "output_type": "stream",
     "text": [
      "[INFO] [2021-10-31 23:34:41,746] [OpenBox-Shadan] Iteration 962, objective value: [24.015550878155906].\n"
     ]
    },
    {
     "name": "stderr",
     "output_type": "stream",
     "text": [
      "\r",
      " 96%|█████████▌| 962/1000 [9:10:55<21:09, 33.42s/it]"
     ]
    },
    {
     "name": "stdout",
     "output_type": "stream",
     "text": [
      "[INFO] [2021-10-31 23:35:13,246] [OpenBox-Shadan] Iteration 963, objective value: [3.3812077268272276].\n"
     ]
    },
    {
     "name": "stderr",
     "output_type": "stream",
     "text": [
      "\r",
      " 96%|█████████▋| 963/1000 [9:11:26<20:15, 32.84s/it]"
     ]
    },
    {
     "name": "stdout",
     "output_type": "stream",
     "text": [
      "[INFO] [2021-10-31 23:35:46,004] [OpenBox-Shadan] Iteration 964, objective value: [38.69619314978541].\n"
     ]
    },
    {
     "name": "stderr",
     "output_type": "stream",
     "text": [
      "\r",
      " 96%|█████████▋| 964/1000 [9:11:59<19:41, 32.82s/it]"
     ]
    },
    {
     "name": "stdout",
     "output_type": "stream",
     "text": [
      "[INFO] [2021-10-31 23:36:19,550] [OpenBox-Shadan] Iteration 965, objective value: [28.07651122478522].\n"
     ]
    },
    {
     "name": "stderr",
     "output_type": "stream",
     "text": [
      "\r",
      " 96%|█████████▋| 965/1000 [9:12:33<19:16, 33.04s/it]"
     ]
    },
    {
     "name": "stdout",
     "output_type": "stream",
     "text": [
      "[INFO] [2021-10-31 23:36:52,460] [OpenBox-Shadan] Iteration 966, objective value: [28.140767243189316].\n"
     ]
    },
    {
     "name": "stderr",
     "output_type": "stream",
     "text": [
      "\r",
      " 97%|█████████▋| 966/1000 [9:13:06<18:41, 33.00s/it]"
     ]
    },
    {
     "name": "stdout",
     "output_type": "stream",
     "text": [
      "[INFO] [2021-10-31 23:37:18,253] [OpenBox-Shadan] Iteration 967, objective value: [33.99264391823678].\n"
     ]
    },
    {
     "name": "stderr",
     "output_type": "stream",
     "text": [
      "\r",
      " 97%|█████████▋| 967/1000 [9:13:31<16:57, 30.84s/it]"
     ]
    },
    {
     "name": "stdout",
     "output_type": "stream",
     "text": [
      "[INFO] [2021-10-31 23:37:49,462] [OpenBox-Shadan] Iteration 968, objective value: [12.379090451047574].\n"
     ]
    },
    {
     "name": "stderr",
     "output_type": "stream",
     "text": [
      "\r",
      " 97%|█████████▋| 968/1000 [9:14:03<16:30, 30.95s/it]"
     ]
    },
    {
     "name": "stdout",
     "output_type": "stream",
     "text": [
      "[INFO] [2021-10-31 23:38:20,930] [OpenBox-Shadan] Iteration 969, objective value: [22.021538622614486].\n"
     ]
    },
    {
     "name": "stderr",
     "output_type": "stream",
     "text": [
      "\r",
      " 97%|█████████▋| 969/1000 [9:14:34<16:04, 31.10s/it]"
     ]
    },
    {
     "name": "stdout",
     "output_type": "stream",
     "text": [
      "[INFO] [2021-10-31 23:38:56,809] [OpenBox-Shadan] Iteration 970, objective value: [24.59187120596779].\n"
     ]
    },
    {
     "name": "stderr",
     "output_type": "stream",
     "text": [
      "\r",
      " 97%|█████████▋| 970/1000 [9:15:10<16:16, 32.54s/it]"
     ]
    },
    {
     "name": "stdout",
     "output_type": "stream",
     "text": [
      "[INFO] [2021-10-31 23:39:30,244] [OpenBox-Shadan] Iteration 971, objective value: [28.233152519262788].\n"
     ]
    },
    {
     "name": "stderr",
     "output_type": "stream",
     "text": [
      "\r",
      " 97%|█████████▋| 971/1000 [9:15:43<15:51, 32.81s/it]"
     ]
    },
    {
     "name": "stdout",
     "output_type": "stream",
     "text": [
      "[INFO] [2021-10-31 23:40:01,365] [OpenBox-Shadan] Iteration 972, objective value: [2.196680430457164].\n"
     ]
    },
    {
     "name": "stderr",
     "output_type": "stream",
     "text": [
      "\r",
      " 97%|█████████▋| 972/1000 [9:16:15<15:04, 32.30s/it]"
     ]
    },
    {
     "name": "stdout",
     "output_type": "stream",
     "text": [
      "[INFO] [2021-10-31 23:40:31,884] [OpenBox-Shadan] Iteration 973, objective value: [13.956537236452988].\n"
     ]
    },
    {
     "name": "stderr",
     "output_type": "stream",
     "text": [
      "\r",
      " 97%|█████████▋| 973/1000 [9:16:45<14:17, 31.77s/it]"
     ]
    },
    {
     "name": "stdout",
     "output_type": "stream",
     "text": [
      "[INFO] [2021-10-31 23:41:08,115] [OpenBox-Shadan] Iteration 974, objective value: [7.492323680655915].\n"
     ]
    },
    {
     "name": "stderr",
     "output_type": "stream",
     "text": [
      "\r",
      " 97%|█████████▋| 974/1000 [9:17:21<14:20, 33.11s/it]"
     ]
    },
    {
     "name": "stdout",
     "output_type": "stream",
     "text": [
      "[INFO] [2021-10-31 23:41:39,243] [OpenBox-Shadan] Iteration 975, objective value: [22.374406180663257].\n"
     ]
    },
    {
     "name": "stderr",
     "output_type": "stream",
     "text": [
      "\r",
      " 98%|█████████▊| 975/1000 [9:17:52<13:32, 32.51s/it]"
     ]
    },
    {
     "name": "stdout",
     "output_type": "stream",
     "text": [
      "[INFO] [2021-10-31 23:42:10,090] [OpenBox-Shadan] Iteration 976, objective value: [5.154950639639679].\n"
     ]
    },
    {
     "name": "stderr",
     "output_type": "stream",
     "text": [
      "\r",
      " 98%|█████████▊| 976/1000 [9:18:23<12:48, 32.01s/it]"
     ]
    },
    {
     "name": "stdout",
     "output_type": "stream",
     "text": [
      "[INFO] [2021-10-31 23:42:44,295] [OpenBox-Shadan] Iteration 977, objective value: [14.640188584794501].\n"
     ]
    },
    {
     "name": "stderr",
     "output_type": "stream",
     "text": [
      "\r",
      " 98%|█████████▊| 977/1000 [9:18:58<12:31, 32.67s/it]"
     ]
    },
    {
     "name": "stdout",
     "output_type": "stream",
     "text": [
      "[INFO] [2021-10-31 23:43:12,965] [OpenBox-Shadan] Iteration 978, objective value: [20.937038687143996].\n"
     ]
    },
    {
     "name": "stderr",
     "output_type": "stream",
     "text": [
      "\r",
      " 98%|█████████▊| 978/1000 [9:19:26<11:32, 31.47s/it]"
     ]
    },
    {
     "name": "stdout",
     "output_type": "stream",
     "text": [
      "[INFO] [2021-10-31 23:43:40,144] [OpenBox-Shadan] Iteration 979, objective value: [11.433658697896448].\n"
     ]
    },
    {
     "name": "stderr",
     "output_type": "stream",
     "text": [
      "\r",
      " 98%|█████████▊| 979/1000 [9:19:53<10:33, 30.18s/it]"
     ]
    },
    {
     "name": "stdout",
     "output_type": "stream",
     "text": [
      "[INFO] [2021-10-31 23:44:15,205] [OpenBox-Shadan] Iteration 980, objective value: [8.513368493517575].\n"
     ]
    },
    {
     "name": "stderr",
     "output_type": "stream",
     "text": [
      "\r",
      " 98%|█████████▊| 980/1000 [9:20:28<10:32, 31.65s/it]"
     ]
    },
    {
     "name": "stdout",
     "output_type": "stream",
     "text": [
      "[INFO] [2021-10-31 23:44:50,541] [OpenBox-Shadan] Iteration 981, objective value: [21.745950229913177].\n"
     ]
    },
    {
     "name": "stderr",
     "output_type": "stream",
     "text": [
      "\r",
      " 98%|█████████▊| 981/1000 [9:21:04<10:22, 32.75s/it]"
     ]
    },
    {
     "name": "stdout",
     "output_type": "stream",
     "text": [
      "[INFO] [2021-10-31 23:45:23,796] [OpenBox-Shadan] Iteration 982, objective value: [2.5268447645796215].\n"
     ]
    },
    {
     "name": "stderr",
     "output_type": "stream",
     "text": [
      "\r",
      " 98%|█████████▊| 982/1000 [9:21:37<09:52, 32.90s/it]"
     ]
    },
    {
     "name": "stdout",
     "output_type": "stream",
     "text": [
      "[INFO] [2021-10-31 23:45:53,856] [OpenBox-Shadan] Iteration 983, objective value: [9.070779014573588].\n"
     ]
    },
    {
     "name": "stderr",
     "output_type": "stream",
     "text": [
      "\r",
      " 98%|█████████▊| 983/1000 [9:22:07<09:04, 32.05s/it]"
     ]
    },
    {
     "name": "stdout",
     "output_type": "stream",
     "text": [
      "[INFO] [2021-10-31 23:46:25,628] [OpenBox-Shadan] Iteration 984, objective value: [1.9941216325414075].\n"
     ]
    },
    {
     "name": "stderr",
     "output_type": "stream",
     "text": [
      "\r",
      " 98%|█████████▊| 984/1000 [9:22:39<08:31, 31.97s/it]"
     ]
    },
    {
     "name": "stdout",
     "output_type": "stream",
     "text": [
      "[INFO] [2021-10-31 23:46:58,588] [OpenBox-Shadan] Iteration 985, objective value: [2.993813946623078].\n"
     ]
    },
    {
     "name": "stderr",
     "output_type": "stream",
     "text": [
      "\r",
      " 98%|█████████▊| 985/1000 [9:23:12<08:03, 32.26s/it]"
     ]
    },
    {
     "name": "stdout",
     "output_type": "stream",
     "text": [
      "[INFO] [2021-10-31 23:47:30,216] [OpenBox-Shadan] Iteration 986, objective value: [3.78718023656954].\n"
     ]
    },
    {
     "name": "stderr",
     "output_type": "stream",
     "text": [
      "\r",
      " 99%|█████████▊| 986/1000 [9:23:43<07:29, 32.07s/it]"
     ]
    },
    {
     "name": "stdout",
     "output_type": "stream",
     "text": [
      "[INFO] [2021-10-31 23:48:04,368] [OpenBox-Shadan] Iteration 987, objective value: [33.981721226743915].\n"
     ]
    },
    {
     "name": "stderr",
     "output_type": "stream",
     "text": [
      "\r",
      " 99%|█████████▊| 987/1000 [9:24:18<07:05, 32.70s/it]"
     ]
    },
    {
     "name": "stdout",
     "output_type": "stream",
     "text": [
      "[INFO] [2021-10-31 23:48:36,089] [OpenBox-Shadan] Iteration 988, objective value: [22.59085562949437].\n"
     ]
    },
    {
     "name": "stderr",
     "output_type": "stream",
     "text": [
      "\r",
      " 99%|█████████▉| 988/1000 [9:24:49<06:28, 32.40s/it]"
     ]
    },
    {
     "name": "stdout",
     "output_type": "stream",
     "text": [
      "[INFO] [2021-10-31 23:49:02,832] [OpenBox-Shadan] Iteration 989, objective value: [20.98281169383951].\n"
     ]
    },
    {
     "name": "stderr",
     "output_type": "stream",
     "text": [
      "\r",
      " 99%|█████████▉| 989/1000 [9:25:16<05:37, 30.71s/it]"
     ]
    },
    {
     "name": "stdout",
     "output_type": "stream",
     "text": [
      "[INFO] [2021-10-31 23:49:33,937] [OpenBox-Shadan] Iteration 990, objective value: [6.731144728278366].\n"
     ]
    },
    {
     "name": "stderr",
     "output_type": "stream",
     "text": [
      "\r",
      " 99%|█████████▉| 990/1000 [9:25:47<05:08, 30.83s/it]"
     ]
    },
    {
     "name": "stdout",
     "output_type": "stream",
     "text": [
      "[INFO] [2021-10-31 23:50:05,335] [OpenBox-Shadan] Iteration 991, objective value: [6.327958879098475].\n"
     ]
    },
    {
     "name": "stderr",
     "output_type": "stream",
     "text": [
      "\r",
      " 99%|█████████▉| 991/1000 [9:26:19<04:38, 31.00s/it]"
     ]
    },
    {
     "name": "stdout",
     "output_type": "stream",
     "text": [
      "[INFO] [2021-10-31 23:50:39,266] [OpenBox-Shadan] Iteration 992, objective value: [25.648051744903483].\n"
     ]
    },
    {
     "name": "stderr",
     "output_type": "stream",
     "text": [
      "\r",
      " 99%|█████████▉| 992/1000 [9:26:52<04:15, 31.88s/it]"
     ]
    },
    {
     "name": "stdout",
     "output_type": "stream",
     "text": [
      "[INFO] [2021-10-31 23:51:11,143] [OpenBox-Shadan] Iteration 993, objective value: [5.820508683166494].\n"
     ]
    },
    {
     "name": "stderr",
     "output_type": "stream",
     "text": [
      "\r",
      " 99%|█████████▉| 993/1000 [9:27:24<03:43, 31.88s/it]"
     ]
    },
    {
     "name": "stdout",
     "output_type": "stream",
     "text": [
      "[INFO] [2021-10-31 23:51:44,915] [OpenBox-Shadan] Iteration 994, objective value: [5.310657558144555].\n"
     ]
    },
    {
     "name": "stderr",
     "output_type": "stream",
     "text": [
      "\r",
      " 99%|█████████▉| 994/1000 [9:27:58<03:14, 32.45s/it]"
     ]
    },
    {
     "name": "stdout",
     "output_type": "stream",
     "text": [
      "[INFO] [2021-10-31 23:52:15,147] [OpenBox-Shadan] Iteration 995, objective value: [3.8564116386776988].\n"
     ]
    },
    {
     "name": "stderr",
     "output_type": "stream",
     "text": [
      "\r",
      "100%|█████████▉| 995/1000 [9:28:28<02:38, 31.78s/it]"
     ]
    },
    {
     "name": "stdout",
     "output_type": "stream",
     "text": [
      "[INFO] [2021-10-31 23:52:46,616] [OpenBox-Shadan] Iteration 996, objective value: [23.474093060449093].\n"
     ]
    },
    {
     "name": "stderr",
     "output_type": "stream",
     "text": [
      "\r",
      "100%|█████████▉| 996/1000 [9:29:00<02:06, 31.69s/it]"
     ]
    },
    {
     "name": "stdout",
     "output_type": "stream",
     "text": [
      "[INFO] [2021-10-31 23:53:21,933] [OpenBox-Shadan] Iteration 997, objective value: [21.27437167183824].\n"
     ]
    },
    {
     "name": "stderr",
     "output_type": "stream",
     "text": [
      "\r",
      "100%|█████████▉| 997/1000 [9:29:35<01:38, 32.78s/it]"
     ]
    },
    {
     "name": "stdout",
     "output_type": "stream",
     "text": [
      "[INFO] [2021-10-31 23:53:55,391] [OpenBox-Shadan] Iteration 998, objective value: [37.5060288086797].\n"
     ]
    },
    {
     "name": "stderr",
     "output_type": "stream",
     "text": [
      "\r",
      "100%|█████████▉| 998/1000 [9:30:09<01:05, 32.98s/it]"
     ]
    },
    {
     "name": "stdout",
     "output_type": "stream",
     "text": [
      "[INFO] [2021-10-31 23:54:26,610] [OpenBox-Shadan] Iteration 999, objective value: [2.8889697588240892].\n"
     ]
    },
    {
     "name": "stderr",
     "output_type": "stream",
     "text": [
      "\r",
      "100%|█████████▉| 999/1000 [9:30:40<00:32, 32.45s/it]"
     ]
    },
    {
     "name": "stdout",
     "output_type": "stream",
     "text": [
      "[INFO] [2021-10-31 23:54:57,988] [OpenBox-Shadan] Iteration 1000, objective value: [5.409429566400931].\n"
     ]
    },
    {
     "name": "stderr",
     "output_type": "stream",
     "text": [
      "100%|██████████| 1000/1000 [9:31:11<00:00, 34.27s/it]\n"
     ]
    }
   ],
   "source": [
    "CONSTANTS = {\n",
    "    'iterations': 100,\n",
    "    'initial_samples': 10,\n",
    "    'restarts_number': 10,\n",
    "    'raw_samples': 10,\n",
    "    'candidates_num': 1,\n",
    "    'sequential': True,\n",
    "    'epsilon': 1,\n",
    "    'radius': 1,\n",
    "    'height': 10.5,\n",
    "    'width': 6.6,\n",
    "    'max_sensors': 15  \n",
    "}\n",
    "\n",
    "runningOnGoogleColab = False\n",
    "    \n",
    "if __name__ ==  '__main__':\n",
    "    import sys\n",
    "\n",
    "    if (runningOnGoogleColab == True):\n",
    "        from google.colab import drive    \n",
    "        drive.mount('/content/gdrive', force_remount=True)\n",
    "        Data_path = 'gdrive/My Drive/PhD/Thesis/Ideas/Codes/Sensor Simulator/'\n",
    "        sys.path.append('gdrive/My Drive/PhD/Thesis/Ideas/Codes/Sensor Simulator/')\n",
    "        \n",
    "    else:\n",
    "        Data_path = '../../Codes/Sensor Simulator/'\n",
    "        sys.path.append('../../Codes/Sensor Simulator/')\n",
    "\n",
    "    # from ax import optimize, ChoiceParameter\n",
    "    from scipy.stats import norm\n",
    "    from numpy import argmax\n",
    "    import SIM_SIS_Libraries.SensorsClass\n",
    "    import SIM_SIS_Libraries.SIM_SIS_Simulator as sim_sis\n",
    "    import SIM_SIS_Libraries.ParseFunctions as pf\n",
    "    import itertools\n",
    "    import numpy as np\n",
    "    import pandas as pd\n",
    "    import SIM_SIS_Libraries.PreDeploymentEvaluation as pde\n",
    "    import copy\n",
    "    from datetime import datetime\n",
    "    import pytz\n",
    "    import ast\n",
    "    import os\n",
    "    import random\n",
    "    import plotly\n",
    "    import torch\n",
    "\n",
    "    finalResults = []\n",
    "    w = CONSTANTS['width'] - 0.5\n",
    "    h = CONSTANTS['height'] - 0.5\n",
    "\n",
    "    dataBoundaries = MakeDataBoundaries(\n",
    "                                        height = CONSTANTS['height'], \n",
    "                                        width = CONSTANTS['width'], \n",
    "                                        MaxSensors = CONSTANTS['max_sensors']\n",
    "                                       )\n",
    "\n",
    "    BOV =  BOVariables(\n",
    "                       Data_path, \n",
    "                       CONSTANTS['epsilon'], \n",
    "                       CONSTANTS['max_sensors'], \n",
    "                       CONSTANTS['max_sensors'], \n",
    "                       CONSTANTS['radius'],\n",
    "                       CONSTANTS['initial_samples']\n",
    "                      )\n",
    "\n",
    "    from openbox import sp\n",
    "\n",
    "    # Define Search Space\n",
    "    space = sp.Space()\n",
    "\n",
    "    list_of_variables = []\n",
    "    for i in range(1, 16):\n",
    "        x = sp.Int(\"x\" + str(i), 0, 6, default_value=0)\n",
    "        y = sp.Int(\"y\" + str(i), 0, 10, default_value=0)\n",
    "        list_of_variables.append(x)\n",
    "        list_of_variables.append(y)\n",
    "    \n",
    "    space.add_variables(list_of_variables)\n",
    "\n",
    "    from openbox import Optimizer\n",
    "\n",
    "    # Run\n",
    "    opt = Optimizer(\n",
    "        function_to_be_optimized,\n",
    "        space,\n",
    "        max_runs=1000,\n",
    "        surrogate_type='prf',\n",
    "        acq_optimizer_type='random_scipy',\n",
    "        time_limit_per_trial=31000,\n",
    "        task_id='Shadan',\n",
    "    )\n",
    "    history = opt.run()"
   ]
  },
  {
   "cell_type": "code",
   "execution_count": 4,
   "metadata": {
    "id": "rc1DFnpgyVCs"
   },
   "outputs": [
    {
     "name": "stdout",
     "output_type": "stream",
     "text": [
      "+----------------------------------------------+\n",
      "| Parameters              | Optimal Value      |\n",
      "+-------------------------+--------------------+\n",
      "| x1                      | 6                  |\n",
      "| x10                     | 0                  |\n",
      "| x11                     | 0                  |\n",
      "| x12                     | 6                  |\n",
      "| x13                     | 6                  |\n",
      "| x14                     | 6                  |\n",
      "| x15                     | 6                  |\n",
      "| x2                      | 3                  |\n",
      "| x3                      | 6                  |\n",
      "| x4                      | 0                  |\n",
      "| x5                      | 2                  |\n",
      "| x6                      | 6                  |\n",
      "| x7                      | 5                  |\n",
      "| x8                      | 0                  |\n",
      "| x9                      | 5                  |\n",
      "| y1                      | 0                  |\n",
      "| y10                     | 1                  |\n",
      "| y11                     | 0                  |\n",
      "| y12                     | 2                  |\n",
      "| y13                     | 1                  |\n",
      "| y14                     | 0                  |\n",
      "| y15                     | 1                  |\n",
      "| y2                      | 0                  |\n",
      "| y3                      | 0                  |\n",
      "| y4                      | 0                  |\n",
      "| y5                      | 0                  |\n",
      "| y6                      | 0                  |\n",
      "| y7                      | 2                  |\n",
      "| y8                      | 6                  |\n",
      "| y9                      | 0                  |\n",
      "+-------------------------+--------------------+\n",
      "| Optimal Objective Value | 1.8895374701715326 |\n",
      "+-------------------------+--------------------+\n",
      "| Num Configs             | 1000               |\n",
      "+-------------------------+--------------------+\n",
      "\n"
     ]
    }
   ],
   "source": [
    "print(history)"
   ]
  },
  {
   "cell_type": "code",
   "execution_count": null,
   "metadata": {
    "id": "uzoAtQ3G0Hcs"
   },
   "outputs": [],
   "source": []
  }
 ],
 "metadata": {
  "colab": {
   "authorship_tag": "ABX9TyOBkfX9vRRGu+TOsWDKDfMs",
   "collapsed_sections": [],
   "machine_shape": "hm",
   "name": "OpenBox.ipynb",
   "provenance": []
  },
  "kernelspec": {
   "display_name": "Python 3",
   "language": "python",
   "name": "python3"
  },
  "language_info": {
   "codemirror_mode": {
    "name": "ipython",
    "version": 3
   },
   "file_extension": ".py",
   "mimetype": "text/x-python",
   "name": "python",
   "nbconvert_exporter": "python",
   "pygments_lexer": "ipython3",
   "version": "3.9.0"
  }
 },
 "nbformat": 4,
 "nbformat_minor": 1
}
