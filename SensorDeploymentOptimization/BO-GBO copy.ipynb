{
 "cells": [
  {
   "cell_type": "code",
   "execution_count": 1,
   "metadata": {
    "scrolled": true
   },
   "outputs": [
    {
     "name": "stdout",
     "output_type": "stream",
     "text": [
      "----- Running BO with: \n",
      " \t - epsilon:  0.5 \n",
      " \t - LS sensors #: 5 \n",
      " \t - IS sensors #: 0  \n",
      " \t - initial state:  random\n",
      "Processing Region of Similarity... [COMPLETED]\n",
      "here 1\n",
      "[INFO] [2022-09-17 14:55:55,916] [Advisor] === [BO auto selection] === surrogate_type: prf. acq_optimizer_type: local_random.\n",
      "**************************************************\n",
      "self.acq_type  kg\n",
      "acq_optimizer_type  local_random\n",
      "self.num_objs  1\n",
      "self.surrogate_model  None\n",
      "self.num_constraints  0\n",
      "**************************************************\n",
      "[Build Surrogate] Use probabilistic random forest based on scikit-learn. For better performance, please install pyrfr: https://open-box.readthedocs.io/en/latest/installation/install_pyrfr.html\n",
      "<class 'openbox.core.generic_advisor.Advisor'>\n"
     ]
    },
    {
     "name": "stderr",
     "output_type": "stream",
     "text": [
      "  0%|          | 0/1000 [00:00<?, ?it/s]"
     ]
    },
    {
     "name": "stdout",
     "output_type": "stream",
     "text": [
      "[INFO] [2022-09-17 14:56:13,223] [OpenBox-SPO] Iteration 1, objective value: [70.89301111386773].\n"
     ]
    },
    {
     "name": "stderr",
     "output_type": "stream",
     "text": [
      "  0%|          | 1/1000 [00:17<4:46:59, 17.24s/it]"
     ]
    },
    {
     "name": "stdout",
     "output_type": "stream",
     "text": [
      "[INFO] [2022-09-17 14:56:38,933] [OpenBox-SPO] Iteration 2, objective value: [52.900175433344835].\n"
     ]
    },
    {
     "name": "stderr",
     "output_type": "stream",
     "text": [
      "  0%|          | 2/1000 [00:42<6:09:36, 22.22s/it]"
     ]
    },
    {
     "name": "stdout",
     "output_type": "stream",
     "text": [
      "[INFO] [2022-09-17 14:56:56,139] [OpenBox-SPO] Iteration 3, objective value: [63.741602186133235].\n"
     ]
    },
    {
     "name": "stderr",
     "output_type": "stream",
     "text": [
      "  0%|          | 3/1000 [01:00<5:31:10, 19.93s/it]"
     ]
    },
    {
     "name": "stdout",
     "output_type": "stream",
     "text": [
      "*** self.acquisition_function.update ***\n",
      "*** INSIDE THE ACQUISITION FUNCTION UPDATE ***\n",
      "*** ei_optimization local search _maximize function ***\n",
      "[INFO] [2022-09-17 14:57:50,827] [OpenBox-SPO] Iteration 4, objective value: [56.98771459119303].\n"
     ]
    },
    {
     "name": "stderr",
     "output_type": "stream",
     "text": [
      "  0%|          | 4/1000 [01:54<9:18:37, 33.65s/it]"
     ]
    },
    {
     "name": "stdout",
     "output_type": "stream",
     "text": [
      "*** self.acquisition_function.update ***\n",
      "*** INSIDE THE ACQUISITION FUNCTION UPDATE ***\n",
      "*** ei_optimization local search _maximize function ***\n",
      "[INFO] [2022-09-17 14:58:48,526] [OpenBox-SPO] Iteration 5, objective value: [57.220474642088206].\n"
     ]
    },
    {
     "name": "stderr",
     "output_type": "stream",
     "text": [
      "  0%|          | 5/1000 [02:52<11:41:52, 42.32s/it]"
     ]
    },
    {
     "name": "stdout",
     "output_type": "stream",
     "text": [
      "*** self.acquisition_function.update ***\n",
      "*** INSIDE THE ACQUISITION FUNCTION UPDATE ***\n",
      "*** ei_optimization local search _maximize function ***\n",
      "[INFO] [2022-09-17 14:59:48,370] [OpenBox-SPO] Iteration 6, objective value: [63.84372745006499].\n"
     ]
    },
    {
     "name": "stderr",
     "output_type": "stream",
     "text": [
      "  1%|          | 6/1000 [03:52<13:19:50, 48.28s/it]"
     ]
    },
    {
     "name": "stdout",
     "output_type": "stream",
     "text": [
      "*** self.acquisition_function.update ***\n",
      "*** INSIDE THE ACQUISITION FUNCTION UPDATE ***\n",
      "*** ei_optimization local search _maximize function ***\n",
      "[INFO] [2022-09-17 15:00:44,614] [OpenBox-SPO] Iteration 7, objective value: [62.636747093220016].\n"
     ]
    },
    {
     "name": "stderr",
     "output_type": "stream",
     "text": [
      "  1%|          | 7/1000 [04:48<14:02:07, 50.88s/it]"
     ]
    },
    {
     "name": "stdout",
     "output_type": "stream",
     "text": [
      "*** self.acquisition_function.update ***\n",
      "*** INSIDE THE ACQUISITION FUNCTION UPDATE ***\n",
      "*** ei_optimization local search _maximize function ***\n",
      "[INFO] [2022-09-17 15:01:45,002] [OpenBox-SPO] Iteration 8, objective value: [63.164542094744235].\n"
     ]
    },
    {
     "name": "stderr",
     "output_type": "stream",
     "text": [
      "  1%|          | 8/1000 [05:49<14:51:18, 53.91s/it]"
     ]
    },
    {
     "name": "stdout",
     "output_type": "stream",
     "text": [
      "[INFO] [2022-09-17 15:01:45,005] [Advisor] Sample random config. rand_prob=0.100000.\n",
      "[INFO] [2022-09-17 15:02:09,132] [OpenBox-SPO] Iteration 9, objective value: [69.88751558515284].\n"
     ]
    },
    {
     "name": "stderr",
     "output_type": "stream",
     "text": [
      "  1%|          | 9/1000 [06:13<12:16:38, 44.60s/it]"
     ]
    },
    {
     "name": "stdout",
     "output_type": "stream",
     "text": [
      "[INFO] [2022-09-17 15:02:09,133] [Advisor] Sample random config. rand_prob=0.100000.\n",
      "[INFO] [2022-09-17 15:02:36,724] [OpenBox-SPO] Iteration 10, objective value: [68.66530613772778].\n"
     ]
    },
    {
     "name": "stderr",
     "output_type": "stream",
     "text": [
      "  1%|          | 10/1000 [06:40<10:49:15, 39.35s/it]"
     ]
    },
    {
     "name": "stdout",
     "output_type": "stream",
     "text": [
      "*** self.acquisition_function.update ***\n",
      "*** INSIDE THE ACQUISITION FUNCTION UPDATE ***\n",
      "*** ei_optimization local search _maximize function ***\n",
      "[INFO] [2022-09-17 15:04:08,020] [OpenBox-SPO] Iteration 11, objective value: [55.5188419233793].\n"
     ]
    },
    {
     "name": "stderr",
     "output_type": "stream",
     "text": [
      "  1%|          | 11/1000 [08:12<15:10:39, 55.25s/it]"
     ]
    },
    {
     "name": "stdout",
     "output_type": "stream",
     "text": [
      "[INFO] [2022-09-17 15:04:08,021] [Advisor] Sample random config. rand_prob=0.100000.\n",
      "[INFO] [2022-09-17 15:04:29,543] [OpenBox-SPO] Iteration 12, objective value: [61.89773552228778].\n"
     ]
    },
    {
     "name": "stderr",
     "output_type": "stream",
     "text": [
      "  1%|          | 12/1000 [08:33<12:20:48, 44.99s/it]"
     ]
    },
    {
     "name": "stdout",
     "output_type": "stream",
     "text": [
      "*** self.acquisition_function.update ***\n",
      "*** INSIDE THE ACQUISITION FUNCTION UPDATE ***\n",
      "*** ei_optimization local search _maximize function ***\n",
      "[INFO] [2022-09-17 15:05:52,089] [OpenBox-SPO] Iteration 13, objective value: [68.2191832263087].\n"
     ]
    },
    {
     "name": "stderr",
     "output_type": "stream",
     "text": [
      "  1%|▏         | 13/1000 [09:56<15:27:13, 56.37s/it]"
     ]
    },
    {
     "name": "stdout",
     "output_type": "stream",
     "text": [
      "*** self.acquisition_function.update ***\n",
      "*** INSIDE THE ACQUISITION FUNCTION UPDATE ***\n",
      "*** ei_optimization local search _maximize function ***\n"
     ]
    }
   ],
   "source": [
    "import SensorOptimizers.BayesianOptimization as bo\n",
    "import numpy as np\n",
    "import pickle\n",
    "\n",
    "acquisition_function = 'kg'\n",
    "acq_optimizer_type = 'auto'\n",
    "ROS = True\n",
    "epsilon = 0.5\n",
    "error = 0.0\n",
    "multi_objective = False\n",
    "LSsensorsNum = 5\n",
    "ISsensorsNum = 0\n",
    "initial_state = 'random'\n",
    "\n",
    "sensor_types = {\n",
    "    'model_motion_sensor': True,\n",
    "    'model_beacon_sensor': False,\n",
    "    'model_pressure_sensor': False,\n",
    "    'model_accelerometer': False,\n",
    "    'model_electricity_sensor': False\n",
    "}\n",
    "\n",
    "\n",
    "testbed = 'Testbed1/'\n",
    "maxSensorNum = int(np.min([(8 / epsilon) * (8 / epsilon), LSsensorsNum]))\n",
    "\n",
    "print('----- Running BO with: \\n \\t - epsilon: ', epsilon, \n",
    "      '\\n \\t - LS sensors #:', LSsensorsNum, \n",
    "      '\\n \\t - IS sensors #:', ISsensorsNum, \n",
    "      ' \\n \\t - initial state: ', initial_state)\n",
    "\n",
    "for i in range(0, 1):\n",
    "    BO = bo.BayesianOptimization(testbed = testbed,\n",
    "                                 iteration = 1000, \n",
    "                                 epsilon = epsilon, \n",
    "                                 error = error,\n",
    "                                 ROS = True, \n",
    "                                 LSmaxSensorNum = maxSensorNum,\n",
    "                                 ISmaxSensorNum = ISsensorsNum, \n",
    "                                 initial_state = initial_state,\n",
    "                                 input_sensor_types = sensor_types,\n",
    "                                 acquisition_function = acquisition_function,\n",
    "                                 acq_optimizer_type = acq_optimizer_type)\n",
    "\n",
    "    history = BO.run()\n",
    "\n",
    "    with open('Results_BO/history(LS' + str(LSsensorsNum) +  'IS' + str(ISsensorsNum) + ')_' + str(i), 'wb') as handle:\n",
    "        pickle.dump(history, handle, protocol=pickle.HIGHEST_PROTOCOL)\n",
    "            \n",
    "    print(history)"
   ]
  },
  {
   "cell_type": "code",
   "execution_count": null,
   "metadata": {},
   "outputs": [],
   "source": []
  }
 ],
 "metadata": {
  "kernelspec": {
   "display_name": "Python 3.9.7 ('base')",
   "language": "python",
   "name": "python3"
  },
  "language_info": {
   "codemirror_mode": {
    "name": "ipython",
    "version": 3
   },
   "file_extension": ".py",
   "mimetype": "text/x-python",
   "name": "python",
   "nbconvert_exporter": "python",
   "pygments_lexer": "ipython3",
   "version": "3.9.7"
  },
  "vscode": {
   "interpreter": {
    "hash": "40d3a090f54c6569ab1632332b64b2c03c39dcf918b08424e98f38b5ae0af88f"
   }
  }
 },
 "nbformat": 4,
 "nbformat_minor": 4
}
