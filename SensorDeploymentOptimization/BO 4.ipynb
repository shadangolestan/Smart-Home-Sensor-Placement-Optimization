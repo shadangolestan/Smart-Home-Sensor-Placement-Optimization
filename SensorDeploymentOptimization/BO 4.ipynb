{
 "cells": [
  {
   "cell_type": "code",
   "execution_count": 4,
   "metadata": {
    "scrolled": true
   },
   "outputs": [
    {
     "name": "stdout",
     "output_type": "stream",
     "text": [
      "----- Running BO with: \n",
      " \t - epsilon:  0.5 \n",
      " \t - LS sensors #: 11 \n",
      " \t - IS sensors #: 3  \n",
      " \t - initial state:  random\n",
      "Processing Region of Similarity... [COMPLETED]\n",
      "here 1\n",
      "[INFO] [2022-11-14 11:27:44,607] [Advisor] === [BO auto selection] === surrogate_type: prf. acq_optimizer_type: local_random.\n",
      "**************************************************\n",
      "self.acq_type  ei\n",
      "acq_optimizer_type  local_random\n",
      "self.num_objs  1\n",
      "self.surrogate_model  None\n",
      "self.num_constraints  0\n",
      "**************************************************\n",
      "[Build Surrogate] Use probabilistic random forest based on scikit-learn. For better performance, please install pyrfr: https://open-box.readthedocs.io/en/latest/installation/install_pyrfr.html\n",
      "<class 'openbox.core.generic_advisor.Advisor'>\n"
     ]
    },
    {
     "name": "stderr",
     "output_type": "stream",
     "text": [
      "  0%|          | 0/1000 [00:00<?, ?it/s]"
     ]
    },
    {
     "name": "stdout",
     "output_type": "stream",
     "text": [
      "[INFO] [2022-11-14 11:30:54,733] [OpenBox-SPO] Iteration 1, objective value: [52.0358402985035].\n"
     ]
    },
    {
     "name": "stderr",
     "output_type": "stream",
     "text": [
      "  0%|          | 1/1000 [03:10<52:45:09, 190.10s/it]"
     ]
    },
    {
     "name": "stdout",
     "output_type": "stream",
     "text": [
      "[INFO] [2022-11-14 11:34:36,975] [OpenBox-SPO] Iteration 2, objective value: [52.74890847662645].\n"
     ]
    },
    {
     "name": "stderr",
     "output_type": "stream",
     "text": [
      "  0%|          | 2/1000 [06:52<57:56:29, 209.01s/it]"
     ]
    },
    {
     "name": "stdout",
     "output_type": "stream",
     "text": [
      "[INFO] [2022-11-14 11:38:54,310] [OpenBox-SPO] Iteration 3, objective value: [50.433376268574335].\n"
     ]
    },
    {
     "name": "stderr",
     "output_type": "stream",
     "text": [
      "  0%|          | 3/1000 [11:09<63:59:41, 231.08s/it]"
     ]
    },
    {
     "name": "stdout",
     "output_type": "stream",
     "text": [
      "[INFO] [2022-11-14 11:42:21,605] [OpenBox-SPO] Iteration 4, objective value: [56.927637306272196].\n"
     ]
    },
    {
     "name": "stderr",
     "output_type": "stream",
     "text": [
      "  0%|          | 4/1000 [14:36<61:19:59, 221.69s/it]"
     ]
    },
    {
     "name": "stdout",
     "output_type": "stream",
     "text": [
      "[INFO] [2022-11-14 11:46:13,863] [OpenBox-SPO] Iteration 5, objective value: [59.76912921436438].\n"
     ]
    },
    {
     "name": "stderr",
     "output_type": "stream",
     "text": [
      "  0%|          | 5/1000 [18:29<62:19:30, 225.50s/it]"
     ]
    },
    {
     "name": "stdout",
     "output_type": "stream",
     "text": [
      "[INFO] [2022-11-14 11:49:04,519] [OpenBox-SPO] Iteration 6, objective value: [50.67548555572598].\n"
     ]
    },
    {
     "name": "stderr",
     "output_type": "stream",
     "text": [
      "  1%|          | 6/1000 [21:19<57:06:50, 206.85s/it]"
     ]
    },
    {
     "name": "stdout",
     "output_type": "stream",
     "text": [
      "[INFO] [2022-11-14 11:52:43,771] [OpenBox-SPO] Iteration 7, objective value: [52.63999982203135].\n"
     ]
    },
    {
     "name": "stderr",
     "output_type": "stream",
     "text": [
      "  1%|          | 7/1000 [24:59<58:10:29, 210.91s/it]"
     ]
    },
    {
     "name": "stdout",
     "output_type": "stream",
     "text": [
      "[INFO] [2022-11-14 11:56:55,738] [OpenBox-SPO] Iteration 8, objective value: [43.13852778299465].\n"
     ]
    },
    {
     "name": "stderr",
     "output_type": "stream",
     "text": [
      "  1%|          | 8/1000 [29:11<61:43:05, 223.98s/it]"
     ]
    },
    {
     "name": "stdout",
     "output_type": "stream",
     "text": [
      "[INFO] [2022-11-14 12:02:18,017] [OpenBox-SPO] Iteration 9, objective value: [48.899807029921206].\n"
     ]
    },
    {
     "name": "stderr",
     "output_type": "stream",
     "text": [
      "  1%|          | 9/1000 [34:33<70:06:55, 254.71s/it]"
     ]
    },
    {
     "name": "stdout",
     "output_type": "stream",
     "text": [
      "[INFO] [2022-11-14 12:06:50,322] [OpenBox-SPO] Iteration 10, objective value: [52.94046576876818].\n"
     ]
    },
    {
     "name": "stderr",
     "output_type": "stream",
     "text": [
      "  1%|          | 10/1000 [39:05<71:32:19, 260.14s/it]"
     ]
    },
    {
     "name": "stdout",
     "output_type": "stream",
     "text": [
      "[INFO] [2022-11-14 12:06:50,326] [Advisor] Sample random config. rand_prob=0.100000.\n",
      "[INFO] [2022-11-14 12:09:47,882] [OpenBox-SPO] Iteration 11, objective value: [52.370383526244986].\n"
     ]
    },
    {
     "name": "stderr",
     "output_type": "stream",
     "text": [
      "  1%|          | 11/1000 [42:03<64:31:23, 234.87s/it]"
     ]
    },
    {
     "name": "stdout",
     "output_type": "stream",
     "text": [
      "[INFO] [2022-11-14 12:13:55,158] [OpenBox-SPO] Iteration 12, objective value: [52.75652349120062].\n"
     ]
    },
    {
     "name": "stderr",
     "output_type": "stream",
     "text": [
      "  1%|          | 12/1000 [46:10<65:29:37, 238.64s/it]"
     ]
    },
    {
     "name": "stdout",
     "output_type": "stream",
     "text": [
      "[INFO] [2022-11-14 12:17:00,968] [OpenBox-SPO] Iteration 13, objective value: [50.80009426422373].\n"
     ]
    },
    {
     "name": "stderr",
     "output_type": "stream",
     "text": [
      "  1%|▏         | 13/1000 [49:16<61:02:22, 222.64s/it]"
     ]
    },
    {
     "name": "stdout",
     "output_type": "stream",
     "text": [
      "[INFO] [2022-11-14 12:21:30,088] [OpenBox-SPO] Iteration 14, objective value: [52.972448796068946].\n"
     ]
    },
    {
     "name": "stderr",
     "output_type": "stream",
     "text": [
      "  1%|▏         | 14/1000 [53:45<64:49:24, 236.68s/it]"
     ]
    },
    {
     "name": "stdout",
     "output_type": "stream",
     "text": [
      "[INFO] [2022-11-14 12:24:35,375] [OpenBox-SPO] Iteration 15, objective value: [46.20233378348222].\n"
     ]
    },
    {
     "name": "stderr",
     "output_type": "stream",
     "text": [
      "  2%|▏         | 15/1000 [56:50<60:31:08, 221.19s/it]"
     ]
    },
    {
     "name": "stdout",
     "output_type": "stream",
     "text": [
      "[INFO] [2022-11-14 12:27:34,980] [OpenBox-SPO] Iteration 16, objective value: [50.13623175285031].\n"
     ]
    },
    {
     "name": "stderr",
     "output_type": "stream",
     "text": [
      "  2%|▏         | 16/1000 [59:50<57:02:11, 208.67s/it]"
     ]
    },
    {
     "name": "stdout",
     "output_type": "stream",
     "text": [
      "[INFO] [2022-11-14 12:31:20,649] [OpenBox-SPO] Iteration 17, objective value: [47.678620131022].\n"
     ]
    },
    {
     "name": "stderr",
     "output_type": "stream",
     "text": [
      "  2%|▏         | 17/1000 [1:03:36<58:22:27, 213.78s/it]"
     ]
    },
    {
     "name": "stdout",
     "output_type": "stream",
     "text": [
      "[INFO] [2022-11-14 12:35:26,595] [OpenBox-SPO] Iteration 18, objective value: [48.693305146097984].\n"
     ]
    },
    {
     "name": "stderr",
     "output_type": "stream",
     "text": [
      "  2%|▏         | 18/1000 [1:07:41<60:57:04, 223.45s/it]"
     ]
    },
    {
     "name": "stdout",
     "output_type": "stream",
     "text": [
      "[INFO] [2022-11-14 12:39:13,767] [OpenBox-SPO] Iteration 19, objective value: [46.04115771003728].\n"
     ]
    },
    {
     "name": "stderr",
     "output_type": "stream",
     "text": [
      "  2%|▏         | 19/1000 [1:11:29<61:11:38, 224.57s/it]"
     ]
    },
    {
     "name": "stdout",
     "output_type": "stream",
     "text": [
      "[INFO] [2022-11-14 12:43:09,990] [OpenBox-SPO] Iteration 20, objective value: [55.573656441570904].\n"
     ]
    },
    {
     "name": "stderr",
     "output_type": "stream",
     "text": [
      "  2%|▏         | 20/1000 [1:15:25<62:05:04, 228.07s/it]"
     ]
    },
    {
     "name": "stdout",
     "output_type": "stream",
     "text": [
      "[INFO] [2022-11-14 12:47:26,352] [OpenBox-SPO] Iteration 21, objective value: [44.872845934822415].\n"
     ]
    },
    {
     "name": "stderr",
     "output_type": "stream",
     "text": [
      "  2%|▏         | 21/1000 [1:19:41<64:19:52, 236.56s/it]"
     ]
    },
    {
     "name": "stdout",
     "output_type": "stream",
     "text": [
      "[INFO] [2022-11-14 12:51:31,911] [OpenBox-SPO] Iteration 22, objective value: [49.21878721077263].\n"
     ]
    },
    {
     "name": "stderr",
     "output_type": "stream",
     "text": [
      "  2%|▏         | 22/1000 [1:23:47<64:59:57, 239.26s/it]"
     ]
    },
    {
     "name": "stdout",
     "output_type": "stream",
     "text": [
      "[INFO] [2022-11-14 12:55:57,963] [OpenBox-SPO] Iteration 23, objective value: [56.629590058546704].\n"
     ]
    },
    {
     "name": "stderr",
     "output_type": "stream",
     "text": [
      "  2%|▏         | 23/1000 [1:28:13<67:06:51, 247.30s/it]"
     ]
    },
    {
     "name": "stdout",
     "output_type": "stream",
     "text": [
      "[INFO] [2022-11-14 13:00:51,004] [OpenBox-SPO] Iteration 24, objective value: [51.3128313099108].\n"
     ]
    },
    {
     "name": "stderr",
     "output_type": "stream",
     "text": [
      "  2%|▏         | 24/1000 [1:33:06<70:46:00, 261.03s/it]"
     ]
    },
    {
     "name": "stdout",
     "output_type": "stream",
     "text": [
      "[INFO] [2022-11-14 13:05:20,390] [OpenBox-SPO] Iteration 25, objective value: [55.029972699069255].\n"
     ]
    },
    {
     "name": "stderr",
     "output_type": "stream",
     "text": [
      "  2%|▎         | 25/1000 [1:37:35<71:22:25, 263.53s/it]"
     ]
    },
    {
     "name": "stdout",
     "output_type": "stream",
     "text": [
      "[INFO] [2022-11-14 13:11:26,189] [OpenBox-SPO] Iteration 26, objective value: [48.755606476085035].\n"
     ]
    },
    {
     "name": "stderr",
     "output_type": "stream",
     "text": [
      "  3%|▎         | 26/1000 [1:43:41<79:36:06, 294.22s/it]"
     ]
    },
    {
     "name": "stdout",
     "output_type": "stream",
     "text": [
      "[INFO] [2022-11-14 13:17:11,737] [OpenBox-SPO] Iteration 27, objective value: [49.77754455072164].\n"
     ]
    },
    {
     "name": "stderr",
     "output_type": "stream",
     "text": [
      "  3%|▎         | 27/1000 [1:49:27<83:40:57, 309.62s/it]"
     ]
    },
    {
     "name": "stdout",
     "output_type": "stream",
     "text": [
      "[INFO] [2022-11-14 13:23:22,291] [OpenBox-SPO] Iteration 28, objective value: [45.09314970617403].\n"
     ]
    },
    {
     "name": "stderr",
     "output_type": "stream",
     "text": [
      "  3%|▎         | 28/1000 [1:55:37<88:31:57, 327.90s/it]"
     ]
    },
    {
     "name": "stdout",
     "output_type": "stream",
     "text": [
      "[INFO] [2022-11-14 13:27:59,269] [OpenBox-SPO] Iteration 29, objective value: [47.7550387682262].\n"
     ]
    },
    {
     "name": "stderr",
     "output_type": "stream",
     "text": [
      "  3%|▎         | 29/1000 [2:00:14<84:19:16, 312.62s/it]"
     ]
    },
    {
     "name": "stdout",
     "output_type": "stream",
     "text": [
      "[INFO] [2022-11-14 13:32:54,225] [OpenBox-SPO] Iteration 30, objective value: [50.39943693534348].\n"
     ]
    },
    {
     "name": "stderr",
     "output_type": "stream",
     "text": [
      "  3%|▎         | 30/1000 [2:05:09<82:48:22, 307.32s/it]"
     ]
    },
    {
     "name": "stdout",
     "output_type": "stream",
     "text": [
      "[INFO] [2022-11-14 13:35:28,776] [OpenBox-SPO] Iteration 31, objective value: [41.24671028438357].\n"
     ]
    },
    {
     "name": "stderr",
     "output_type": "stream",
     "text": [
      "  3%|▎         | 31/1000 [2:07:44<70:23:03, 261.49s/it]"
     ]
    },
    {
     "name": "stdout",
     "output_type": "stream",
     "text": [
      "[INFO] [2022-11-14 13:37:30,344] [OpenBox-SPO] Iteration 32, objective value: [44.76070138937155].\n"
     ]
    },
    {
     "name": "stderr",
     "output_type": "stream",
     "text": [
      "  3%|▎         | 32/1000 [2:09:45<59:01:29, 219.51s/it]"
     ]
    },
    {
     "name": "stdout",
     "output_type": "stream",
     "text": [
      "[INFO] [2022-11-14 13:39:49,889] [OpenBox-SPO] Iteration 33, objective value: [49.35751765100963].\n"
     ]
    },
    {
     "name": "stderr",
     "output_type": "stream",
     "text": [
      "  3%|▎         | 33/1000 [2:12:05<52:31:10, 195.52s/it]"
     ]
    },
    {
     "name": "stdout",
     "output_type": "stream",
     "text": [
      "[INFO] [2022-11-14 13:41:44,920] [OpenBox-SPO] Iteration 34, objective value: [47.443611194443726].\n"
     ]
    },
    {
     "name": "stderr",
     "output_type": "stream",
     "text": [
      "  3%|▎         | 34/1000 [2:14:00<45:59:07, 171.37s/it]"
     ]
    },
    {
     "name": "stdout",
     "output_type": "stream",
     "text": [
      "[INFO] [2022-11-14 13:43:42,517] [OpenBox-SPO] Iteration 35, objective value: [46.356387064683645].\n"
     ]
    },
    {
     "name": "stderr",
     "output_type": "stream",
     "text": [
      "  4%|▎         | 35/1000 [2:15:57<41:36:48, 155.24s/it]"
     ]
    },
    {
     "name": "stdout",
     "output_type": "stream",
     "text": [
      "[INFO] [2022-11-14 13:45:38,922] [OpenBox-SPO] Iteration 36, objective value: [46.85989924651339].\n"
     ]
    },
    {
     "name": "stderr",
     "output_type": "stream",
     "text": [
      "  4%|▎         | 36/1000 [2:17:54<38:27:00, 143.59s/it]"
     ]
    },
    {
     "name": "stdout",
     "output_type": "stream",
     "text": [
      "[INFO] [2022-11-14 13:47:19,531] [OpenBox-SPO] Iteration 37, objective value: [44.17556639577567].\n"
     ]
    },
    {
     "name": "stderr",
     "output_type": "stream",
     "text": [
      "  4%|▎         | 37/1000 [2:19:34<34:57:39, 130.70s/it]"
     ]
    },
    {
     "name": "stdout",
     "output_type": "stream",
     "text": [
      "[INFO] [2022-11-14 13:49:05,158] [OpenBox-SPO] Iteration 38, objective value: [46.4194445450781].\n"
     ]
    },
    {
     "name": "stderr",
     "output_type": "stream",
     "text": [
      "  4%|▍         | 38/1000 [2:21:20<32:54:54, 123.17s/it]"
     ]
    },
    {
     "name": "stdout",
     "output_type": "stream",
     "text": [
      "[INFO] [2022-11-14 13:51:55,981] [OpenBox-SPO] Iteration 39, objective value: [49.949668255170785].\n"
     ]
    },
    {
     "name": "stderr",
     "output_type": "stream",
     "text": [
      "  4%|▍         | 39/1000 [2:24:11<36:41:48, 137.47s/it]"
     ]
    },
    {
     "name": "stdout",
     "output_type": "stream",
     "text": [
      "[INFO] [2022-11-14 13:51:55,985] [Advisor] Sample random config. rand_prob=0.100000.\n",
      "[INFO] [2022-11-14 13:54:43,702] [OpenBox-SPO] Iteration 40, objective value: [46.87346309679998].\n"
     ]
    },
    {
     "name": "stderr",
     "output_type": "stream",
     "text": [
      "  4%|▍         | 40/1000 [2:26:59<39:04:43, 146.55s/it]"
     ]
    },
    {
     "name": "stdout",
     "output_type": "stream",
     "text": [
      "[INFO] [2022-11-14 13:58:02,879] [OpenBox-SPO] Iteration 41, objective value: [47.138497592615835].\n"
     ]
    },
    {
     "name": "stderr",
     "output_type": "stream",
     "text": [
      "  4%|▍         | 41/1000 [2:30:18<43:14:39, 162.34s/it]"
     ]
    },
    {
     "name": "stdout",
     "output_type": "stream",
     "text": [
      "[INFO] [2022-11-14 14:01:35,373] [OpenBox-SPO] Iteration 42, objective value: [50.66005860450565].\n"
     ]
    },
    {
     "name": "stderr",
     "output_type": "stream",
     "text": [
      "  4%|▍         | 42/1000 [2:33:50<47:12:12, 177.38s/it]"
     ]
    },
    {
     "name": "stdout",
     "output_type": "stream",
     "text": [
      "[INFO] [2022-11-14 14:03:33,847] [OpenBox-SPO] Iteration 43, objective value: [43.57531440289053].\n"
     ]
    },
    {
     "name": "stderr",
     "output_type": "stream",
     "text": [
      "  4%|▍         | 43/1000 [2:35:49<42:27:21, 159.71s/it]"
     ]
    },
    {
     "name": "stdout",
     "output_type": "stream",
     "text": [
      "[INFO] [2022-11-14 14:05:40,551] [OpenBox-SPO] Iteration 44, objective value: [51.5805439754163].\n"
     ]
    },
    {
     "name": "stderr",
     "output_type": "stream",
     "text": [
      "  4%|▍         | 44/1000 [2:37:55<39:46:56, 149.81s/it]"
     ]
    },
    {
     "name": "stdout",
     "output_type": "stream",
     "text": [
      "[INFO] [2022-11-14 14:07:32,252] [OpenBox-SPO] Iteration 45, objective value: [46.22170866343055].\n"
     ]
    },
    {
     "name": "stderr",
     "output_type": "stream",
     "text": [
      "  4%|▍         | 45/1000 [2:39:47<36:42:28, 138.38s/it]"
     ]
    },
    {
     "name": "stdout",
     "output_type": "stream",
     "text": [
      "[INFO] [2022-11-14 14:09:45,276] [OpenBox-SPO] Iteration 46, objective value: [45.1787557904327].\n"
     ]
    },
    {
     "name": "stderr",
     "output_type": "stream",
     "text": [
      "  5%|▍         | 46/1000 [2:42:00<36:14:38, 136.77s/it]"
     ]
    },
    {
     "name": "stdout",
     "output_type": "stream",
     "text": [
      "[INFO] [2022-11-14 14:11:35,670] [OpenBox-SPO] Iteration 47, objective value: [46.578258912886575].\n"
     ]
    },
    {
     "name": "stderr",
     "output_type": "stream",
     "text": [
      "  5%|▍         | 47/1000 [2:43:51<34:06:41, 128.86s/it]"
     ]
    },
    {
     "name": "stdout",
     "output_type": "stream",
     "text": [
      "[INFO] [2022-11-14 14:11:35,672] [Advisor] Sample random config. rand_prob=0.100000.\n",
      "[INFO] [2022-11-14 14:12:51,911] [OpenBox-SPO] Iteration 48, objective value: [55.30642752684727].\n"
     ]
    },
    {
     "name": "stderr",
     "output_type": "stream",
     "text": [
      "  5%|▍         | 48/1000 [2:45:07<29:54:04, 113.07s/it]"
     ]
    },
    {
     "name": "stdout",
     "output_type": "stream",
     "text": [
      "[INFO] [2022-11-14 14:14:40,535] [OpenBox-SPO] Iteration 49, objective value: [43.70639254809967].\n"
     ]
    },
    {
     "name": "stderr",
     "output_type": "stream",
     "text": [
      "  5%|▍         | 49/1000 [2:46:55<29:31:02, 111.74s/it]"
     ]
    },
    {
     "name": "stdout",
     "output_type": "stream",
     "text": [
      "[INFO] [2022-11-14 14:16:32,543] [OpenBox-SPO] Iteration 50, objective value: [45.74499744147281].\n"
     ]
    },
    {
     "name": "stderr",
     "output_type": "stream",
     "text": [
      "  5%|▌         | 50/1000 [2:48:47<29:30:28, 111.82s/it]"
     ]
    },
    {
     "name": "stdout",
     "output_type": "stream",
     "text": [
      "[INFO] [2022-11-14 14:18:40,880] [OpenBox-SPO] Iteration 51, objective value: [50.11679893295101].\n"
     ]
    },
    {
     "name": "stderr",
     "output_type": "stream",
     "text": [
      "  5%|▌         | 51/1000 [2:50:56<30:46:58, 116.77s/it]"
     ]
    },
    {
     "name": "stdout",
     "output_type": "stream",
     "text": [
      "[INFO] [2022-11-14 14:20:42,593] [OpenBox-SPO] Iteration 52, objective value: [42.951862517436226].\n"
     ]
    },
    {
     "name": "stderr",
     "output_type": "stream",
     "text": [
      "  5%|▌         | 52/1000 [2:52:57<31:08:26, 118.26s/it]"
     ]
    },
    {
     "name": "stdout",
     "output_type": "stream",
     "text": [
      "[INFO] [2022-11-14 14:22:10,304] [OpenBox-SPO] Iteration 53, objective value: [50.38314895373218].\n"
     ]
    },
    {
     "name": "stderr",
     "output_type": "stream",
     "text": [
      "  5%|▌         | 53/1000 [2:54:25<28:41:50, 109.09s/it]"
     ]
    },
    {
     "name": "stdout",
     "output_type": "stream",
     "text": [
      "[INFO] [2022-11-14 14:24:04,959] [OpenBox-SPO] Iteration 54, objective value: [48.03199833763549].\n"
     ]
    },
    {
     "name": "stderr",
     "output_type": "stream",
     "text": [
      "  5%|▌         | 54/1000 [2:56:20<29:06:19, 110.76s/it]"
     ]
    },
    {
     "name": "stdout",
     "output_type": "stream",
     "text": [
      "[INFO] [2022-11-14 14:25:47,553] [OpenBox-SPO] Iteration 55, objective value: [42.490119830122055].\n"
     ]
    },
    {
     "name": "stderr",
     "output_type": "stream",
     "text": [
      "  6%|▌         | 55/1000 [2:58:02<28:25:54, 108.31s/it]"
     ]
    },
    {
     "name": "stdout",
     "output_type": "stream",
     "text": [
      "[INFO] [2022-11-14 14:27:49,431] [OpenBox-SPO] Iteration 56, objective value: [43.07695923902054].\n"
     ]
    },
    {
     "name": "stderr",
     "output_type": "stream",
     "text": [
      "  6%|▌         | 56/1000 [3:00:04<29:28:07, 112.38s/it]"
     ]
    },
    {
     "name": "stdout",
     "output_type": "stream",
     "text": [
      "[INFO] [2022-11-14 14:29:46,213] [OpenBox-SPO] Iteration 57, objective value: [48.530944892423754].\n"
     ]
    },
    {
     "name": "stderr",
     "output_type": "stream",
     "text": [
      "  6%|▌         | 57/1000 [3:02:01<29:47:00, 113.70s/it]"
     ]
    },
    {
     "name": "stdout",
     "output_type": "stream",
     "text": [
      "[INFO] [2022-11-14 14:31:43,259] [OpenBox-SPO] Iteration 58, objective value: [42.541795382728445].\n"
     ]
    },
    {
     "name": "stderr",
     "output_type": "stream",
     "text": [
      "  6%|▌         | 58/1000 [3:03:58<30:00:52, 114.70s/it]"
     ]
    },
    {
     "name": "stdout",
     "output_type": "stream",
     "text": [
      "[INFO] [2022-11-14 14:33:51,136] [OpenBox-SPO] Iteration 59, objective value: [50.521526742083324].\n"
     ]
    },
    {
     "name": "stderr",
     "output_type": "stream",
     "text": [
      "  6%|▌         | 59/1000 [3:06:06<31:00:55, 118.66s/it]"
     ]
    },
    {
     "name": "stdout",
     "output_type": "stream",
     "text": [
      "[INFO] [2022-11-14 14:33:51,138] [Advisor] Sample random config. rand_prob=0.100000.\n",
      "[INFO] [2022-11-14 14:35:26,816] [OpenBox-SPO] Iteration 60, objective value: [46.79381993563278].\n"
     ]
    },
    {
     "name": "stderr",
     "output_type": "stream",
     "text": [
      "  6%|▌         | 60/1000 [3:07:42<29:10:57, 111.76s/it]"
     ]
    },
    {
     "name": "stdout",
     "output_type": "stream",
     "text": [
      "[INFO] [2022-11-14 14:37:21,644] [OpenBox-SPO] Iteration 61, objective value: [46.460271154016674].\n"
     ]
    },
    {
     "name": "stderr",
     "output_type": "stream",
     "text": [
      "  6%|▌         | 61/1000 [3:09:37<29:23:29, 112.68s/it]"
     ]
    },
    {
     "name": "stdout",
     "output_type": "stream",
     "text": [
      "[INFO] [2022-11-14 14:39:14,590] [OpenBox-SPO] Iteration 62, objective value: [44.518951269841914].\n"
     ]
    },
    {
     "name": "stderr",
     "output_type": "stream",
     "text": [
      "  6%|▌         | 62/1000 [3:11:29<29:22:50, 112.76s/it]"
     ]
    },
    {
     "name": "stdout",
     "output_type": "stream",
     "text": [
      "[INFO] [2022-11-14 14:41:28,399] [OpenBox-SPO] Iteration 63, objective value: [45.31205970955136].\n"
     ]
    },
    {
     "name": "stderr",
     "output_type": "stream",
     "text": [
      "  6%|▋         | 63/1000 [3:13:43<30:59:34, 119.08s/it]"
     ]
    },
    {
     "name": "stdout",
     "output_type": "stream",
     "text": [
      "[INFO] [2022-11-14 14:43:22,504] [OpenBox-SPO] Iteration 64, objective value: [43.62691865466742].\n"
     ]
    },
    {
     "name": "stderr",
     "output_type": "stream",
     "text": [
      "  6%|▋         | 64/1000 [3:15:37<30:34:19, 117.59s/it]"
     ]
    },
    {
     "name": "stdout",
     "output_type": "stream",
     "text": [
      "[INFO] [2022-11-14 14:45:16,738] [OpenBox-SPO] Iteration 65, objective value: [40.354363888321444].\n"
     ]
    },
    {
     "name": "stderr",
     "output_type": "stream",
     "text": [
      "  6%|▋         | 65/1000 [3:17:32<30:16:41, 116.58s/it]"
     ]
    },
    {
     "name": "stdout",
     "output_type": "stream",
     "text": [
      "[INFO] [2022-11-14 14:48:20,007] [OpenBox-SPO] Iteration 66, objective value: [44.04180419454864].\n"
     ]
    },
    {
     "name": "stderr",
     "output_type": "stream",
     "text": [
      "  7%|▋         | 66/1000 [3:20:35<35:26:11, 136.59s/it]"
     ]
    },
    {
     "name": "stdout",
     "output_type": "stream",
     "text": [
      "[INFO] [2022-11-14 14:51:32,099] [OpenBox-SPO] Iteration 67, objective value: [41.57359587633652].\n"
     ]
    },
    {
     "name": "stderr",
     "output_type": "stream",
     "text": [
      "  7%|▋         | 67/1000 [3:23:47<39:42:51, 153.24s/it]"
     ]
    },
    {
     "name": "stdout",
     "output_type": "stream",
     "text": [
      "[INFO] [2022-11-14 14:54:17,025] [OpenBox-SPO] Iteration 68, objective value: [47.477517034250674].\n"
     ]
    },
    {
     "name": "stderr",
     "output_type": "stream",
     "text": [
      "  7%|▋         | 68/1000 [3:26:32<40:34:46, 156.74s/it]"
     ]
    },
    {
     "name": "stdout",
     "output_type": "stream",
     "text": [
      "[INFO] [2022-11-14 14:58:38,662] [OpenBox-SPO] Iteration 69, objective value: [48.8764675295719].\n"
     ]
    },
    {
     "name": "stderr",
     "output_type": "stream",
     "text": [
      "  7%|▋         | 69/1000 [3:33:20<47:58:35, 185.52s/it]\n"
     ]
    },
    {
     "ename": "KeyboardInterrupt",
     "evalue": "",
     "output_type": "error",
     "traceback": [
      "\u001b[0;31m---------------------------------------------------------------------------\u001b[0m",
      "\u001b[0;31mKeyboardInterrupt\u001b[0m                         Traceback (most recent call last)",
      "Cell \u001b[0;32mIn [4], line 45\u001b[0m\n\u001b[1;32m     32\u001b[0m \u001b[39mfor\u001b[39;00m i \u001b[39min\u001b[39;00m \u001b[39mrange\u001b[39m(\u001b[39m3\u001b[39m, \u001b[39m4\u001b[39m):\n\u001b[1;32m     33\u001b[0m     BO \u001b[39m=\u001b[39m bo\u001b[39m.\u001b[39mBayesianOptimization(testbed \u001b[39m=\u001b[39m testbed,\n\u001b[1;32m     34\u001b[0m                                  iteration \u001b[39m=\u001b[39m \u001b[39m1000\u001b[39m, \n\u001b[1;32m     35\u001b[0m                                  epsilon \u001b[39m=\u001b[39m epsilon, \n\u001b[0;32m   (...)\u001b[0m\n\u001b[1;32m     42\u001b[0m                                  acquisition_function \u001b[39m=\u001b[39m acquisition_function,\n\u001b[1;32m     43\u001b[0m                                  acq_optimizer_type \u001b[39m=\u001b[39m acq_optimizer_type)\n\u001b[0;32m---> 45\u001b[0m     history \u001b[39m=\u001b[39m BO\u001b[39m.\u001b[39;49mrun()\n\u001b[1;32m     47\u001b[0m     \u001b[39mwith\u001b[39;00m \u001b[39mopen\u001b[39m(\u001b[39m'\u001b[39m\u001b[39mResults_BO/history(LS\u001b[39m\u001b[39m'\u001b[39m \u001b[39m+\u001b[39m \u001b[39mstr\u001b[39m(LSsensorsNum) \u001b[39m+\u001b[39m  \u001b[39m'\u001b[39m\u001b[39mIS\u001b[39m\u001b[39m'\u001b[39m \u001b[39m+\u001b[39m \u001b[39mstr\u001b[39m(ISsensorsNum) \u001b[39m+\u001b[39m \u001b[39m'\u001b[39m\u001b[39m)_\u001b[39m\u001b[39m'\u001b[39m \u001b[39m+\u001b[39m \u001b[39mstr\u001b[39m(i), \u001b[39m'\u001b[39m\u001b[39mwb\u001b[39m\u001b[39m'\u001b[39m) \u001b[39mas\u001b[39;00m handle:\n\u001b[1;32m     48\u001b[0m         pickle\u001b[39m.\u001b[39mdump(history, handle, protocol\u001b[39m=\u001b[39mpickle\u001b[39m.\u001b[39mHIGHEST_PROTOCOL)\n",
      "File \u001b[0;32m~/Library/CloudStorage/GoogleDrive-golestan@ualberta.ca/My Drive/PhD/Thesis/GreyBox Optimization Project/Codes/Smart-Home-Sensor-Placement-Optimization/SensorDeploymentOptimization/SensorOptimizers/BayesianOptimization.py:723\u001b[0m, in \u001b[0;36mBayesianOptimization.run\u001b[0;34m(self)\u001b[0m\n\u001b[1;32m    710\u001b[0m history_list \u001b[39m=\u001b[39m []\n\u001b[1;32m    712\u001b[0m opt \u001b[39m=\u001b[39m Optimizer(\n\u001b[1;32m    713\u001b[0m     \u001b[39mself\u001b[39m\u001b[39m.\u001b[39mfunction_to_be_optimized,\n\u001b[1;32m    714\u001b[0m     \u001b[39mself\u001b[39m\u001b[39m.\u001b[39mspace,\n\u001b[0;32m   (...)\u001b[0m\n\u001b[1;32m    721\u001b[0m     error \u001b[39m=\u001b[39m \u001b[39mself\u001b[39m\u001b[39m.\u001b[39mCONSTANTS[\u001b[39m'\u001b[39m\u001b[39merror\u001b[39m\u001b[39m'\u001b[39m]\n\u001b[1;32m    722\u001b[0m )\n\u001b[0;32m--> 723\u001b[0m history \u001b[39m=\u001b[39m opt\u001b[39m.\u001b[39;49mrun()\n\u001b[1;32m    726\u001b[0m \u001b[39mreturn\u001b[39;00m history\n",
      "File \u001b[0;32m~/Library/CloudStorage/GoogleDrive-golestan@ualberta.ca/My Drive/PhD/Thesis/GreyBox Optimization Project/Codes/Smart-Home-Sensor-Placement-Optimization/SensorDeploymentOptimization/openbox/optimizer/generic_smbo.py:221\u001b[0m, in \u001b[0;36mSMBO.run\u001b[0;34m(self)\u001b[0m\n\u001b[1;32m    219\u001b[0m     \u001b[39mbreak\u001b[39;00m\n\u001b[1;32m    220\u001b[0m start_time \u001b[39m=\u001b[39m time\u001b[39m.\u001b[39mtime()\n\u001b[0;32m--> 221\u001b[0m \u001b[39mself\u001b[39;49m\u001b[39m.\u001b[39;49miterate(budget_left\u001b[39m=\u001b[39;49m\u001b[39mself\u001b[39;49m\u001b[39m.\u001b[39;49mbudget_left)\n\u001b[1;32m    222\u001b[0m runtime \u001b[39m=\u001b[39m time\u001b[39m.\u001b[39mtime() \u001b[39m-\u001b[39m start_time\n\u001b[1;32m    223\u001b[0m \u001b[39mself\u001b[39m\u001b[39m.\u001b[39mbudget_left \u001b[39m-\u001b[39m\u001b[39m=\u001b[39m runtime\n",
      "File \u001b[0;32m~/Library/CloudStorage/GoogleDrive-golestan@ualberta.ca/My Drive/PhD/Thesis/GreyBox Optimization Project/Codes/Smart-Home-Sensor-Placement-Optimization/SensorDeploymentOptimization/openbox/optimizer/generic_smbo.py:240\u001b[0m, in \u001b[0;36mSMBO.iterate\u001b[0;34m(self, budget_left)\u001b[0m\n\u001b[1;32m    237\u001b[0m \u001b[39mtry\u001b[39;00m:\n\u001b[1;32m    238\u001b[0m     \u001b[39m# evaluate configuration on objective_function within time_limit_per_trial\u001b[39;00m\n\u001b[1;32m    239\u001b[0m     args, kwargs \u001b[39m=\u001b[39m (config,), \u001b[39mdict\u001b[39m()\n\u001b[0;32m--> 240\u001b[0m     timeout_status, _result \u001b[39m=\u001b[39m time_limit(\u001b[39mself\u001b[39;49m\u001b[39m.\u001b[39;49mobjective_function,\n\u001b[1;32m    241\u001b[0m                                          _time_limit_per_trial,\n\u001b[1;32m    242\u001b[0m                                          args\u001b[39m=\u001b[39;49margs, kwargs\u001b[39m=\u001b[39;49mkwargs)\n\u001b[1;32m    243\u001b[0m     \u001b[39mif\u001b[39;00m timeout_status:\n\u001b[1;32m    244\u001b[0m         \u001b[39mraise\u001b[39;00m TimeoutException(\n\u001b[1;32m    245\u001b[0m             \u001b[39m'\u001b[39m\u001b[39mTimeout: time limit for this evaluation is \u001b[39m\u001b[39m%.1f\u001b[39;00m\u001b[39ms\u001b[39m\u001b[39m'\u001b[39m \u001b[39m%\u001b[39m _time_limit_per_trial)\n",
      "File \u001b[0;32m~/Library/CloudStorage/GoogleDrive-golestan@ualberta.ca/My Drive/PhD/Thesis/GreyBox Optimization Project/Codes/Smart-Home-Sensor-Placement-Optimization/SensorDeploymentOptimization/openbox/utils/limit.py:84\u001b[0m, in \u001b[0;36mtime_limit\u001b[0;34m(func, time, *args, **kwargs)\u001b[0m\n\u001b[1;32m     81\u001b[0m     \u001b[39mreturn\u001b[39;00m no_time_limit_func(func, time, \u001b[39m*\u001b[39margs, \u001b[39m*\u001b[39m\u001b[39m*\u001b[39mkwargs)\n\u001b[1;32m     83\u001b[0m \u001b[39mif\u001b[39;00m _platform \u001b[39m==\u001b[39m \u001b[39m'\u001b[39m\u001b[39mOSX\u001b[39m\u001b[39m'\u001b[39m \u001b[39mand\u001b[39;00m sys\u001b[39m.\u001b[39mversion_info \u001b[39m>\u001b[39m\u001b[39m=\u001b[39m (\u001b[39m3\u001b[39m, \u001b[39m8\u001b[39m):\n\u001b[0;32m---> 84\u001b[0m     \u001b[39mreturn\u001b[39;00m no_time_limit_func(func, time, \u001b[39m*\u001b[39;49margs, \u001b[39m*\u001b[39;49m\u001b[39m*\u001b[39;49mkwargs)\n\u001b[1;32m     86\u001b[0m parent_conn, child_conn \u001b[39m=\u001b[39m Pipe(\u001b[39mFalse\u001b[39;00m)\n\u001b[1;32m     88\u001b[0m func \u001b[39m=\u001b[39m dill\u001b[39m.\u001b[39mdumps(func)\n",
      "File \u001b[0;32m~/Library/CloudStorage/GoogleDrive-golestan@ualberta.ca/My Drive/PhD/Thesis/GreyBox Optimization Project/Codes/Smart-Home-Sensor-Placement-Optimization/SensorDeploymentOptimization/openbox/utils/limit.py:70\u001b[0m, in \u001b[0;36mno_time_limit_func\u001b[0;34m(objective_function, time, *args, **kwargs)\u001b[0m\n\u001b[1;32m     69\u001b[0m \u001b[39mdef\u001b[39;00m \u001b[39mno_time_limit_func\u001b[39m(objective_function, time, \u001b[39m*\u001b[39margs, \u001b[39m*\u001b[39m\u001b[39m*\u001b[39mkwargs):\n\u001b[0;32m---> 70\u001b[0m     ret \u001b[39m=\u001b[39m objective_function(\u001b[39m*\u001b[39;49margs, \u001b[39m*\u001b[39;49m\u001b[39m*\u001b[39;49mkwargs)\n\u001b[1;32m     71\u001b[0m     \u001b[39mreturn\u001b[39;00m Returns(timeout_status\u001b[39m=\u001b[39m\u001b[39mFalse\u001b[39;00m, results\u001b[39m=\u001b[39mret)\n",
      "File \u001b[0;32m~/Library/CloudStorage/GoogleDrive-golestan@ualberta.ca/My Drive/PhD/Thesis/GreyBox Optimization Project/Codes/Smart-Home-Sensor-Placement-Optimization/SensorDeploymentOptimization/SensorOptimizers/BayesianOptimization.py:513\u001b[0m, in \u001b[0;36mBayesianOptimization.function_to_be_optimized\u001b[0;34m(self, config)\u001b[0m\n\u001b[1;32m    509\u001b[0m         sensorTypes\u001b[39m.\u001b[39mappend(\u001b[39m1\u001b[39m)\n\u001b[1;32m    511\u001b[0m data \u001b[39m=\u001b[39m Data(sensorPositions, sensorTypes, \u001b[39mself\u001b[39m\u001b[39m.\u001b[39mBOV\u001b[39m.\u001b[39mspace, \u001b[39mself\u001b[39m\u001b[39m.\u001b[39mCONSTANTS[\u001b[39m'\u001b[39m\u001b[39mepsilon\u001b[39m\u001b[39m'\u001b[39m])\n\u001b[0;32m--> 513\u001b[0m \u001b[39mreturn\u001b[39;00m \u001b[39m100\u001b[39m \u001b[39m-\u001b[39m \u001b[39mself\u001b[39;49m\u001b[39m.\u001b[39;49mblack_box_function(data, \n\u001b[1;32m    514\u001b[0m                                      simulateMotionSensors \u001b[39m=\u001b[39;49m \u001b[39mself\u001b[39;49m\u001b[39m.\u001b[39;49msensor_types[\u001b[39m'\u001b[39;49m\u001b[39mmodel_motion_sensor\u001b[39;49m\u001b[39m'\u001b[39;49m],\n\u001b[1;32m    515\u001b[0m                                      simulateEstimotes \u001b[39m=\u001b[39;49m \u001b[39mself\u001b[39;49m\u001b[39m.\u001b[39;49msensor_types[\u001b[39m'\u001b[39;49m\u001b[39mmodel_beacon_sensor\u001b[39;49m\u001b[39m'\u001b[39;49m],\n\u001b[1;32m    516\u001b[0m                                      simulateIS \u001b[39m=\u001b[39;49m (\u001b[39mself\u001b[39;49m\u001b[39m.\u001b[39;49msensor_types[\u001b[39m'\u001b[39;49m\u001b[39mmodel_pressure_sensor\u001b[39;49m\u001b[39m'\u001b[39;49m] \u001b[39mand\u001b[39;49;00m\n\u001b[1;32m    517\u001b[0m                                                    \u001b[39mself\u001b[39;49m\u001b[39m.\u001b[39;49msensor_types[\u001b[39m'\u001b[39;49m\u001b[39mmodel_accelerometer\u001b[39;49m\u001b[39m'\u001b[39;49m] \u001b[39mand\u001b[39;49;00m\n\u001b[1;32m    518\u001b[0m                                                    \u001b[39mself\u001b[39;49m\u001b[39m.\u001b[39;49msensor_types[\u001b[39m'\u001b[39;49m\u001b[39mmodel_electricity_sensor\u001b[39;49m\u001b[39m'\u001b[39;49m]))\n\u001b[1;32m    520\u001b[0m \u001b[39m'''\u001b[39;00m\n\u001b[1;32m    521\u001b[0m \u001b[39msensorPositions = []\u001b[39;00m\n\u001b[1;32m    522\u001b[0m \u001b[39msensorTypes = []\u001b[39;00m\n\u001b[0;32m   (...)\u001b[0m\n\u001b[1;32m    553\u001b[0m \u001b[39m                                                   self.sensor_types['model_electricity_sensor']))\u001b[39;00m\n\u001b[1;32m    554\u001b[0m \u001b[39m'''\u001b[39;00m\n",
      "File \u001b[0;32m~/Library/CloudStorage/GoogleDrive-golestan@ualberta.ca/My Drive/PhD/Thesis/GreyBox Optimization Project/Codes/Smart-Home-Sensor-Placement-Optimization/SensorDeploymentOptimization/SensorOptimizers/BayesianOptimization.py:277\u001b[0m, in \u001b[0;36mBayesianOptimization.black_box_function\u001b[0;34m(self, sample, simulateMotionSensors, simulateEstimotes, simulateIS, Plotting)\u001b[0m\n\u001b[1;32m    274\u001b[0m all_sensors \u001b[39m=\u001b[39m \u001b[39mset\u001b[39m([])\n\u001b[1;32m    276\u001b[0m \u001b[39mfor\u001b[39;00m agentTrace \u001b[39min\u001b[39;00m \u001b[39mself\u001b[39m\u001b[39m.\u001b[39mBOV\u001b[39m.\u001b[39magentTraces:\n\u001b[0;32m--> 277\u001b[0m     df_ \u001b[39m=\u001b[39m sim_sis\u001b[39m.\u001b[39;49mRunSimulator(\u001b[39mself\u001b[39;49m\u001b[39m.\u001b[39;49mBOV\u001b[39m.\u001b[39;49mspace, \n\u001b[1;32m    278\u001b[0m                                \u001b[39mself\u001b[39;49m\u001b[39m.\u001b[39;49mBOV\u001b[39m.\u001b[39;49mrooms, \n\u001b[1;32m    279\u001b[0m                                agentTrace,\n\u001b[1;32m    280\u001b[0m                                sample\u001b[39m.\u001b[39;49mGetSensorConfiguration(), \n\u001b[1;32m    281\u001b[0m                                simulateMotionSensors, \n\u001b[1;32m    282\u001b[0m                                simulateEstimotes,\n\u001b[1;32m    283\u001b[0m                                simulateIS,\n\u001b[1;32m    284\u001b[0m                                Plotting, \n\u001b[1;32m    285\u001b[0m                                \u001b[39mself\u001b[39;49m\u001b[39m.\u001b[39;49mBOV\u001b[39m.\u001b[39;49mData_path)\n\u001b[1;32m    287\u001b[0m     dataFile, sensors \u001b[39m=\u001b[39m \u001b[39mself\u001b[39m\u001b[39m.\u001b[39mPreProcessor(df_)\n\u001b[1;32m    288\u001b[0m     all_sensors\u001b[39m.\u001b[39mupdate(sensors)\n",
      "File \u001b[0;32m~/Library/CloudStorage/GoogleDrive-golestan@ualberta.ca/My Drive/PhD/Thesis/GreyBox Optimization Project/Codes/Smart-Home-Sensor-Placement-Optimization/SensorDeploymentOptimization/SIM_SIS_Libraries/SIM_SIS_Simulator.py:537\u001b[0m, in \u001b[0;36mRunSimulator\u001b[0;34m(space, Rooms, agentTrace, sensorsConfiguration, simulateMotionSensorsflag, simulateEstimotesflag, simulateIS, plottingflag, Data_path)\u001b[0m\n\u001b[1;32m    534\u001b[0m     \u001b[39mif\u001b[39;00m (plotflag):\n\u001b[1;32m    535\u001b[0m         fig, ax \u001b[39m=\u001b[39m plt\u001b[39m.\u001b[39msubplots(figsize \u001b[39m=\u001b[39m (\u001b[39m8.5\u001b[39m, \u001b[39m8.5\u001b[39m))\n\u001b[0;32m--> 537\u001b[0m     RunSimulation(FDN, simulateMotionSensors, simulateEstimotes, simulateISSensors)\n\u001b[1;32m    539\u001b[0m CreateUltimateDataset(UDN, Epoch)\n\u001b[1;32m    541\u001b[0m \u001b[39mreturn\u001b[39;00m df_\n",
      "File \u001b[0;32m~/Library/CloudStorage/GoogleDrive-golestan@ualberta.ca/My Drive/PhD/Thesis/GreyBox Optimization Project/Codes/Smart-Home-Sensor-Placement-Optimization/SensorDeploymentOptimization/SIM_SIS_Libraries/SIM_SIS_Simulator.py:422\u001b[0m, in \u001b[0;36mRunSimulation\u001b[0;34m(FDN, simulateMotionSensors, simulateEstimotes, simulateISSensors)\u001b[0m\n\u001b[1;32m    418\u001b[0m agent1Loc_previous \u001b[39m=\u001b[39m [\u001b[39m0\u001b[39m, \u001b[39m0\u001b[39m]\n\u001b[1;32m    420\u001b[0m timetoadd \u001b[39m=\u001b[39m df_\u001b[39m.\u001b[39mtime[i]\n\u001b[0;32m--> 422\u001b[0m SimulateSensorReadings(simulateMotionSensors, simulateEstimotes, simulateISSensors, timetoadd, i, agent1Loc, action,  \u001b[39mNone\u001b[39;49;00m)\n",
      "File \u001b[0;32m~/Library/CloudStorage/GoogleDrive-golestan@ualberta.ca/My Drive/PhD/Thesis/GreyBox Optimization Project/Codes/Smart-Home-Sensor-Placement-Optimization/SensorDeploymentOptimization/SIM_SIS_Libraries/SIM_SIS_Simulator.py:322\u001b[0m, in \u001b[0;36mSimulateSensorReadings\u001b[0;34m(simulateMotionSensors, simulateEstimotes, simulateISSensors, t, i, agent1Loc, action, agent2Loc)\u001b[0m\n\u001b[1;32m    319\u001b[0m event\u001b[39m.\u001b[39mtimestamp \u001b[39m=\u001b[39m t\n\u001b[1;32m    320\u001b[0m event\u001b[39m.\u001b[39msensorType \u001b[39m=\u001b[39m sensor\u001b[39m.\u001b[39msensor_type \u001b[39m#type of sensor\u001b[39;00m\n\u001b[0;32m--> 322\u001b[0m \u001b[39mif\u001b[39;00m (\u001b[39mfloat\u001b[39m(FiringProbability(sensor, agent1Loc)) \u001b[39m>\u001b[39m random\u001b[39m.\u001b[39muniform(\u001b[39m0\u001b[39m, \u001b[39m1\u001b[39m)):\n\u001b[1;32m    323\u001b[0m     myfs\u001b[39m.\u001b[39mappend(sensor)\n\u001b[1;32m    325\u001b[0m \u001b[39mif\u001b[39;00m (\u001b[39m0.1\u001b[39m \u001b[39m>\u001b[39m random\u001b[39m.\u001b[39muniform(\u001b[39m0\u001b[39m, \u001b[39m1\u001b[39m)):\n",
      "File \u001b[0;32m~/Library/CloudStorage/GoogleDrive-golestan@ualberta.ca/My Drive/PhD/Thesis/GreyBox Optimization Project/Codes/Smart-Home-Sensor-Placement-Optimization/SensorDeploymentOptimization/SIM_SIS_Libraries/SIM_SIS_Simulator.py:398\u001b[0m, in \u001b[0;36mFiringProbability\u001b[0;34m(sensor, agentLocation)\u001b[0m\n\u001b[1;32m    395\u001b[0m sensor_location \u001b[39m=\u001b[39m [\u001b[39mfloat\u001b[39m(sensor\u001b[39m.\u001b[39mx)\u001b[39m/\u001b[39m\u001b[39m100\u001b[39m, \u001b[39mfloat\u001b[39m(sensor\u001b[39m.\u001b[39my)\u001b[39m/\u001b[39m\u001b[39m100\u001b[39m]\n\u001b[1;32m    396\u001b[0m cov \u001b[39m=\u001b[39m [[\u001b[39mfloat\u001b[39m(\u001b[39mfloat\u001b[39m(sensor\u001b[39m.\u001b[39msensing_area) \u001b[39m/\u001b[39m \u001b[39m100\u001b[39m), \u001b[39m0\u001b[39m],[\u001b[39m0\u001b[39m, \u001b[39mfloat\u001b[39m(\u001b[39mfloat\u001b[39m(sensor\u001b[39m.\u001b[39msensing_area) \u001b[39m/\u001b[39m \u001b[39m100\u001b[39m)]]        \n\u001b[0;32m--> 398\u001b[0m prob \u001b[39m=\u001b[39m multivariate_normal(agentLocation, cov)\n\u001b[1;32m    399\u001b[0m probCdf \u001b[39m=\u001b[39m prob\u001b[39m.\u001b[39mcdf(sensor_location)\n\u001b[1;32m    401\u001b[0m prob \u001b[39m=\u001b[39m multivariate_normal(sensor_location, cov)\n",
      "File \u001b[0;32m/usr/local/lib/python3.10/site-packages/scipy/stats/_multivariate.py:364\u001b[0m, in \u001b[0;36mmultivariate_normal_gen.__call__\u001b[0;34m(self, mean, cov, allow_singular, seed)\u001b[0m\n\u001b[1;32m    359\u001b[0m \u001b[39mdef\u001b[39;00m \u001b[39m__call__\u001b[39m(\u001b[39mself\u001b[39m, mean\u001b[39m=\u001b[39m\u001b[39mNone\u001b[39;00m, cov\u001b[39m=\u001b[39m\u001b[39m1\u001b[39m, allow_singular\u001b[39m=\u001b[39m\u001b[39mFalse\u001b[39;00m, seed\u001b[39m=\u001b[39m\u001b[39mNone\u001b[39;00m):\n\u001b[1;32m    360\u001b[0m     \u001b[39m\"\"\"Create a frozen multivariate normal distribution.\u001b[39;00m\n\u001b[1;32m    361\u001b[0m \n\u001b[1;32m    362\u001b[0m \u001b[39m    See `multivariate_normal_frozen` for more information.\u001b[39;00m\n\u001b[1;32m    363\u001b[0m \u001b[39m    \"\"\"\u001b[39;00m\n\u001b[0;32m--> 364\u001b[0m     \u001b[39mreturn\u001b[39;00m multivariate_normal_frozen(mean, cov,\n\u001b[1;32m    365\u001b[0m                                       allow_singular\u001b[39m=\u001b[39;49mallow_singular,\n\u001b[1;32m    366\u001b[0m                                       seed\u001b[39m=\u001b[39;49mseed)\n",
      "File \u001b[0;32m/usr/local/lib/python3.10/site-packages/scipy/stats/_multivariate.py:734\u001b[0m, in \u001b[0;36mmultivariate_normal_frozen.__init__\u001b[0;34m(self, mean, cov, allow_singular, seed, maxpts, abseps, releps)\u001b[0m\n\u001b[1;32m    731\u001b[0m \u001b[39mself\u001b[39m\u001b[39m.\u001b[39m_dist \u001b[39m=\u001b[39m multivariate_normal_gen(seed)\n\u001b[1;32m    732\u001b[0m \u001b[39mself\u001b[39m\u001b[39m.\u001b[39mdim, \u001b[39mself\u001b[39m\u001b[39m.\u001b[39mmean, \u001b[39mself\u001b[39m\u001b[39m.\u001b[39mcov \u001b[39m=\u001b[39m \u001b[39mself\u001b[39m\u001b[39m.\u001b[39m_dist\u001b[39m.\u001b[39m_process_parameters(\n\u001b[1;32m    733\u001b[0m                                                     \u001b[39mNone\u001b[39;00m, mean, cov)\n\u001b[0;32m--> 734\u001b[0m \u001b[39mself\u001b[39m\u001b[39m.\u001b[39mcov_info \u001b[39m=\u001b[39m _PSD(\u001b[39mself\u001b[39;49m\u001b[39m.\u001b[39;49mcov, allow_singular\u001b[39m=\u001b[39;49mallow_singular)\n\u001b[1;32m    735\u001b[0m \u001b[39mif\u001b[39;00m \u001b[39mnot\u001b[39;00m maxpts:\n\u001b[1;32m    736\u001b[0m     maxpts \u001b[39m=\u001b[39m \u001b[39m1000000\u001b[39m \u001b[39m*\u001b[39m \u001b[39mself\u001b[39m\u001b[39m.\u001b[39mdim\n",
      "File \u001b[0;32m/usr/local/lib/python3.10/site-packages/scipy/stats/_multivariate.py:159\u001b[0m, in \u001b[0;36m_PSD.__init__\u001b[0;34m(self, M, cond, rcond, lower, check_finite, allow_singular)\u001b[0m\n\u001b[1;32m    152\u001b[0m \u001b[39mdef\u001b[39;00m \u001b[39m__init__\u001b[39m(\u001b[39mself\u001b[39m, M, cond\u001b[39m=\u001b[39m\u001b[39mNone\u001b[39;00m, rcond\u001b[39m=\u001b[39m\u001b[39mNone\u001b[39;00m, lower\u001b[39m=\u001b[39m\u001b[39mTrue\u001b[39;00m,\n\u001b[1;32m    153\u001b[0m              check_finite\u001b[39m=\u001b[39m\u001b[39mTrue\u001b[39;00m, allow_singular\u001b[39m=\u001b[39m\u001b[39mTrue\u001b[39;00m):\n\u001b[1;32m    154\u001b[0m     \u001b[39m# Compute the symmetric eigendecomposition.\u001b[39;00m\n\u001b[1;32m    155\u001b[0m     \u001b[39m# Note that eigh takes care of array conversion, chkfinite,\u001b[39;00m\n\u001b[1;32m    156\u001b[0m     \u001b[39m# and assertion that the matrix is square.\u001b[39;00m\n\u001b[1;32m    157\u001b[0m     s, u \u001b[39m=\u001b[39m scipy\u001b[39m.\u001b[39mlinalg\u001b[39m.\u001b[39meigh(M, lower\u001b[39m=\u001b[39mlower, check_finite\u001b[39m=\u001b[39mcheck_finite)\n\u001b[0;32m--> 159\u001b[0m     eps \u001b[39m=\u001b[39m _eigvalsh_to_eps(s, cond, rcond)\n\u001b[1;32m    160\u001b[0m     \u001b[39mif\u001b[39;00m np\u001b[39m.\u001b[39mmin(s) \u001b[39m<\u001b[39m \u001b[39m-\u001b[39meps:\n\u001b[1;32m    161\u001b[0m         msg \u001b[39m=\u001b[39m \u001b[39m\"\u001b[39m\u001b[39mThe input matrix must be symmetric positive semidefinite.\u001b[39m\u001b[39m\"\u001b[39m\n",
      "File \u001b[0;32m/usr/local/lib/python3.10/site-packages/scipy/stats/_multivariate.py:89\u001b[0m, in \u001b[0;36m_eigvalsh_to_eps\u001b[0;34m(spectrum, cond, rcond)\u001b[0m\n\u001b[1;32m     87\u001b[0m     factor \u001b[39m=\u001b[39m {\u001b[39m'\u001b[39m\u001b[39mf\u001b[39m\u001b[39m'\u001b[39m: \u001b[39m1E3\u001b[39m, \u001b[39m'\u001b[39m\u001b[39md\u001b[39m\u001b[39m'\u001b[39m: \u001b[39m1E6\u001b[39m}\n\u001b[1;32m     88\u001b[0m     cond \u001b[39m=\u001b[39m factor[t] \u001b[39m*\u001b[39m np\u001b[39m.\u001b[39mfinfo(t)\u001b[39m.\u001b[39meps\n\u001b[0;32m---> 89\u001b[0m eps \u001b[39m=\u001b[39m cond \u001b[39m*\u001b[39m np\u001b[39m.\u001b[39;49mmax(\u001b[39mabs\u001b[39;49m(spectrum))\n\u001b[1;32m     90\u001b[0m \u001b[39mreturn\u001b[39;00m eps\n",
      "File \u001b[0;32m<__array_function__ internals>:180\u001b[0m, in \u001b[0;36mamax\u001b[0;34m(*args, **kwargs)\u001b[0m\n",
      "File \u001b[0;32m/usr/local/lib/python3.10/site-packages/numpy/core/fromnumeric.py:2793\u001b[0m, in \u001b[0;36mamax\u001b[0;34m(a, axis, out, keepdims, initial, where)\u001b[0m\n\u001b[1;32m   2677\u001b[0m \u001b[39m@array_function_dispatch\u001b[39m(_amax_dispatcher)\n\u001b[1;32m   2678\u001b[0m \u001b[39mdef\u001b[39;00m \u001b[39mamax\u001b[39m(a, axis\u001b[39m=\u001b[39m\u001b[39mNone\u001b[39;00m, out\u001b[39m=\u001b[39m\u001b[39mNone\u001b[39;00m, keepdims\u001b[39m=\u001b[39mnp\u001b[39m.\u001b[39m_NoValue, initial\u001b[39m=\u001b[39mnp\u001b[39m.\u001b[39m_NoValue,\n\u001b[1;32m   2679\u001b[0m          where\u001b[39m=\u001b[39mnp\u001b[39m.\u001b[39m_NoValue):\n\u001b[1;32m   2680\u001b[0m     \u001b[39m\"\"\"\u001b[39;00m\n\u001b[1;32m   2681\u001b[0m \u001b[39m    Return the maximum of an array or maximum along an axis.\u001b[39;00m\n\u001b[1;32m   2682\u001b[0m \n\u001b[0;32m   (...)\u001b[0m\n\u001b[1;32m   2791\u001b[0m \u001b[39m    5\u001b[39;00m\n\u001b[1;32m   2792\u001b[0m \u001b[39m    \"\"\"\u001b[39;00m\n\u001b[0;32m-> 2793\u001b[0m     \u001b[39mreturn\u001b[39;00m _wrapreduction(a, np\u001b[39m.\u001b[39;49mmaximum, \u001b[39m'\u001b[39;49m\u001b[39mmax\u001b[39;49m\u001b[39m'\u001b[39;49m, axis, \u001b[39mNone\u001b[39;49;00m, out,\n\u001b[1;32m   2794\u001b[0m                           keepdims\u001b[39m=\u001b[39;49mkeepdims, initial\u001b[39m=\u001b[39;49minitial, where\u001b[39m=\u001b[39;49mwhere)\n",
      "File \u001b[0;32m/usr/local/lib/python3.10/site-packages/numpy/core/fromnumeric.py:70\u001b[0m, in \u001b[0;36m_wrapreduction\u001b[0;34m(obj, ufunc, method, axis, dtype, out, **kwargs)\u001b[0m\n\u001b[1;32m     69\u001b[0m \u001b[39mdef\u001b[39;00m \u001b[39m_wrapreduction\u001b[39m(obj, ufunc, method, axis, dtype, out, \u001b[39m*\u001b[39m\u001b[39m*\u001b[39mkwargs):\n\u001b[0;32m---> 70\u001b[0m     passkwargs \u001b[39m=\u001b[39m {k: v \u001b[39mfor\u001b[39;00m k, v \u001b[39min\u001b[39;00m kwargs\u001b[39m.\u001b[39mitems()\n\u001b[1;32m     71\u001b[0m                   \u001b[39mif\u001b[39;00m v \u001b[39mis\u001b[39;00m \u001b[39mnot\u001b[39;00m np\u001b[39m.\u001b[39m_NoValue}\n\u001b[1;32m     73\u001b[0m     \u001b[39mif\u001b[39;00m \u001b[39mtype\u001b[39m(obj) \u001b[39mis\u001b[39;00m \u001b[39mnot\u001b[39;00m mu\u001b[39m.\u001b[39mndarray:\n\u001b[1;32m     74\u001b[0m         \u001b[39mtry\u001b[39;00m:\n",
      "File \u001b[0;32m/usr/local/lib/python3.10/site-packages/numpy/core/fromnumeric.py:70\u001b[0m, in \u001b[0;36m<dictcomp>\u001b[0;34m(.0)\u001b[0m\n\u001b[1;32m     69\u001b[0m \u001b[39mdef\u001b[39;00m \u001b[39m_wrapreduction\u001b[39m(obj, ufunc, method, axis, dtype, out, \u001b[39m*\u001b[39m\u001b[39m*\u001b[39mkwargs):\n\u001b[0;32m---> 70\u001b[0m     passkwargs \u001b[39m=\u001b[39m {k: v \u001b[39mfor\u001b[39;00m k, v \u001b[39min\u001b[39;00m kwargs\u001b[39m.\u001b[39mitems()\n\u001b[1;32m     71\u001b[0m                   \u001b[39mif\u001b[39;00m v \u001b[39mis\u001b[39;00m \u001b[39mnot\u001b[39;00m np\u001b[39m.\u001b[39m_NoValue}\n\u001b[1;32m     73\u001b[0m     \u001b[39mif\u001b[39;00m \u001b[39mtype\u001b[39m(obj) \u001b[39mis\u001b[39;00m \u001b[39mnot\u001b[39;00m mu\u001b[39m.\u001b[39mndarray:\n\u001b[1;32m     74\u001b[0m         \u001b[39mtry\u001b[39;00m:\n",
      "\u001b[0;31mKeyboardInterrupt\u001b[0m: "
     ]
    }
   ],
   "source": [
    "import SensorOptimizers.BayesianOptimization as bo\n",
    "import numpy as np\n",
    "import pickle\n",
    "\n",
    "acquisition_function = 'ei'\n",
    "acq_optimizer_type = 'auto'\n",
    "ROS = True\n",
    "epsilon = 0.5\n",
    "error = 0.0\n",
    "multi_objective = False\n",
    "LSsensorsNum = 11\n",
    "ISsensorsNum = 3\n",
    "initial_state = 'random'\n",
    "\n",
    "sensor_types = {\n",
    "    'model_motion_sensor': True,\n",
    "    'model_beacon_sensor': False,\n",
    "    'model_pressure_sensor': True,\n",
    "    'model_accelerometer': False,\n",
    "    'model_electricity_sensor': True\n",
    "}\n",
    "\n",
    "\n",
    "# testbed = 'Testbed2/'\n",
    "# maxSensorNum = int(np.min([(8 / epsilon) * (8 / epsilon), LSsensorsNum]))\n",
    "\n",
    "testbed = 'Testbed1/'\n",
    "maxSensorNum = int(np.min([(5.3 / epsilon) * (8 / epsilon), LSsensorsNum]))\n",
    "\n",
    "print('----- Running BO with: \\n \\t - epsilon: ', epsilon, \n",
    "      '\\n \\t - LS sensors #:', LSsensorsNum, \n",
    "      '\\n \\t - IS sensors #:', ISsensorsNum, \n",
    "      ' \\n \\t - initial state: ', initial_state)\n",
    "\n",
    "for i in range(3, 4):\n",
    "    BO = bo.BayesianOptimization(testbed = testbed,\n",
    "                                 iteration = 1000, \n",
    "                                 epsilon = epsilon, \n",
    "                                 error = error,\n",
    "                                 ROS = True, \n",
    "                                 LSmaxSensorNum = maxSensorNum,\n",
    "                                 ISmaxSensorNum = ISsensorsNum, \n",
    "                                 initial_state = initial_state,\n",
    "                                 input_sensor_types = sensor_types,\n",
    "                                 acquisition_function = acquisition_function,\n",
    "                                 acq_optimizer_type = acq_optimizer_type)\n",
    "\n",
    "    history = BO.run()\n",
    "\n",
    "    with open('Results_BO/history(LS' + str(LSsensorsNum) +  'IS' + str(ISsensorsNum) + ')_' + str(i), 'wb') as handle:\n",
    "        pickle.dump(history, handle, protocol=pickle.HIGHEST_PROTOCOL)\n",
    "            \n",
    "    print(history)"
   ]
  },
  {
   "cell_type": "code",
   "execution_count": null,
   "metadata": {},
   "outputs": [],
   "source": []
  }
 ],
 "metadata": {
  "kernelspec": {
   "display_name": "Python 3.10.7 64-bit",
   "language": "python",
   "name": "python3"
  },
  "language_info": {
   "codemirror_mode": {
    "name": "ipython",
    "version": 3
   },
   "file_extension": ".py",
   "mimetype": "text/x-python",
   "name": "python",
   "nbconvert_exporter": "python",
   "pygments_lexer": "ipython3",
   "version": "3.10.7"
  },
  "vscode": {
   "interpreter": {
    "hash": "aee8b7b246df8f9039afb4144a1f6fd8d2ca17a180786b69acc140d282b71a49"
   }
  }
 },
 "nbformat": 4,
 "nbformat_minor": 4
}
