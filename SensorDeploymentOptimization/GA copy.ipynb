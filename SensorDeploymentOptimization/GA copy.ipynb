{
 "cells": [
  {
   "cell_type": "code",
   "execution_count": 1,
   "metadata": {
    "executionInfo": {
     "elapsed": 2228,
     "status": "ok",
     "timestamp": 1635471051205,
     "user": {
      "displayName": "Shadan Golestan-Irani",
      "photoUrl": "https://lh3.googleusercontent.com/a-/AOh14GjzIpBx-tX-xncT2d8sC4323jdDLC4K-HcuzJgpIA=s64",
      "userId": "05022969837639573312"
     },
     "user_tz": 360
    },
    "id": "j9zzrlSIv5tq",
    "scrolled": false
   },
   "outputs": [
    {
     "name": "stdout",
     "output_type": "stream",
     "text": [
      "-----  Running Genetic Algorithm # 1 :\n",
      "----- Running GA for epsilon = 0.5\n"
     ]
    },
    {
     "data": {
      "application/vnd.jupyter.widget-view+json": {
       "model_id": "9da63479d2fb4c2c9af2df8c800b4541",
       "version_major": 2,
       "version_minor": 0
      },
      "text/plain": [
       "IntProgress(value=0)"
      ]
     },
     "metadata": {},
     "output_type": "display_data"
    },
    {
     "name": "stdout",
     "output_type": "stream",
     "text": [
      "Processing Region of Similarity... [COMPLETED]\n",
      "(epoch 1) ----- The best answer: {41.108281} with (15) number of sensors (average fitness is: 22.733291)\n",
      "(epoch 2) ----- The best answer: {41.108281} with (15) number of sensors (average fitness is: 22.700978)\n",
      "(epoch 3) ----- The best answer: {41.111424} with (14) number of sensors (average fitness is: 23.447622)\n",
      "(epoch 4) ----- The best answer: {41.111424} with (14) number of sensors (average fitness is: 24.814830)\n",
      "(epoch 5) ----- The best answer: {44.549527} with (15) number of sensors (average fitness is: 25.176191)\n",
      "(epoch 6) ----- The best answer: {44.549527} with (15) number of sensors (average fitness is: 24.709853)\n",
      "(epoch 7) ----- The best answer: {45.239203} with (14) number of sensors (average fitness is: 26.124387)\n",
      "(epoch 8) ----- The best answer: {45.239203} with (14) number of sensors (average fitness is: 26.616887)\n",
      "(epoch 9) ----- The best answer: {45.239203} with (14) number of sensors (average fitness is: 25.791357)\n",
      "(epoch 10) ----- The best answer: {45.239203} with (14) number of sensors (average fitness is: 24.615984)\n",
      "(epoch 11) ----- The best answer: {45.239203} with (14) number of sensors (average fitness is: 25.920030)\n",
      "(epoch 12) ----- The best answer: {45.239203} with (14) number of sensors (average fitness is: 25.471623)\n",
      "(epoch 13) ----- The best answer: {45.239203} with (14) number of sensors (average fitness is: 24.779699)\n",
      "(epoch 14) ----- The best answer: {45.239203} with (14) number of sensors (average fitness is: 25.119609)\n",
      "(epoch 15) ----- The best answer: {45.239203} with (14) number of sensors (average fitness is: 24.871645)\n",
      "(epoch 16) ----- The best answer: {45.239203} with (14) number of sensors (average fitness is: 26.173328)\n",
      "(epoch 17) ----- The best answer: {45.239203} with (14) number of sensors (average fitness is: 25.447449)\n",
      "(epoch 18) ----- The best answer: {45.239203} with (14) number of sensors (average fitness is: 26.271823)\n",
      "(epoch 19) ----- The best answer: {45.239203} with (14) number of sensors (average fitness is: 26.172141)\n",
      "(epoch 20) ----- The best answer: {45.239203} with (14) number of sensors (average fitness is: 25.843902)\n",
      "(epoch 21) ----- The best answer: {45.239203} with (14) number of sensors (average fitness is: 25.076062)\n",
      "(epoch 22) ----- The best answer: {47.408351} with (15) number of sensors (average fitness is: 26.268393)\n",
      "(epoch 23) ----- The best answer: {47.408351} with (15) number of sensors (average fitness is: 25.769139)\n",
      "(epoch 24) ----- The best answer: {47.408351} with (15) number of sensors (average fitness is: 27.279657)\n",
      "(epoch 25) ----- The best answer: {47.408351} with (15) number of sensors (average fitness is: 27.056709)\n",
      "(epoch 26) ----- The best answer: {47.408351} with (15) number of sensors (average fitness is: 25.682796)\n",
      "(epoch 27) ----- The best answer: {47.408351} with (15) number of sensors (average fitness is: 25.276724)\n",
      "(epoch 28) ----- The best answer: {47.408351} with (15) number of sensors (average fitness is: 26.111380)\n",
      "(epoch 29) ----- The best answer: {47.408351} with (15) number of sensors (average fitness is: 25.910746)\n",
      "(epoch 30) ----- The best answer: {47.408351} with (15) number of sensors (average fitness is: 27.205125)\n",
      "(epoch 31) ----- The best answer: {47.408351} with (15) number of sensors (average fitness is: 26.669110)\n",
      "(epoch 32) ----- The best answer: {47.408351} with (15) number of sensors (average fitness is: 26.264157)\n",
      "(epoch 33) ----- The best answer: {47.408351} with (15) number of sensors (average fitness is: 25.770967)\n",
      "(epoch 34) ----- The best answer: {47.408351} with (15) number of sensors (average fitness is: 25.645049)\n",
      "(epoch 35) ----- The best answer: {47.408351} with (15) number of sensors (average fitness is: 24.996397)\n",
      "(epoch 36) ----- The best answer: {47.408351} with (15) number of sensors (average fitness is: 25.575451)\n",
      "(epoch 37) ----- The best answer: {47.408351} with (15) number of sensors (average fitness is: 25.605128)\n",
      "(epoch 38) ----- The best answer: {47.408351} with (15) number of sensors (average fitness is: 25.267343)\n",
      "(epoch 39) ----- The best answer: {47.408351} with (15) number of sensors (average fitness is: 25.888547)\n",
      "(epoch 40) ----- The best answer: {47.408351} with (15) number of sensors (average fitness is: 26.555719)\n",
      "(epoch 41) ----- The best answer: {47.408351} with (15) number of sensors (average fitness is: 26.072872)\n",
      "(epoch 42) ----- The best answer: {47.408351} with (15) number of sensors (average fitness is: 26.394157)\n",
      "(epoch 43) ----- The best answer: {47.408351} with (15) number of sensors (average fitness is: 25.103897)\n",
      "(epoch 44) ----- The best answer: {47.408351} with (15) number of sensors (average fitness is: 26.442446)\n",
      "(epoch 45) ----- The best answer: {47.408351} with (15) number of sensors (average fitness is: 26.409615)\n",
      "(epoch 46) ----- The best answer: {47.408351} with (15) number of sensors (average fitness is: 26.325117)\n",
      "(epoch 47) ----- The best answer: {47.408351} with (15) number of sensors (average fitness is: 24.306808)\n",
      "(epoch 48) ----- The best answer: {47.408351} with (15) number of sensors (average fitness is: 25.912904)\n",
      "(epoch 49) ----- The best answer: {47.408351} with (15) number of sensors (average fitness is: 26.279128)\n",
      "(epoch 50) ----- The best answer: {47.408351} with (15) number of sensors (average fitness is: 25.400501)\n",
      "(epoch 51) ----- The best answer: {47.408351} with (15) number of sensors (average fitness is: 25.816229)\n",
      "(epoch 52) ----- The best answer: {47.408351} with (15) number of sensors (average fitness is: 26.189708)\n",
      "(epoch 53) ----- The best answer: {47.408351} with (15) number of sensors (average fitness is: 27.429011)\n",
      "(epoch 54) ----- The best answer: {47.408351} with (15) number of sensors (average fitness is: 26.620511)\n",
      "(epoch 55) ----- The best answer: {47.408351} with (15) number of sensors (average fitness is: 26.595214)\n",
      "(epoch 56) ----- The best answer: {47.408351} with (15) number of sensors (average fitness is: 27.080375)\n",
      "(epoch 57) ----- The best answer: {47.408351} with (15) number of sensors (average fitness is: 26.667655)\n",
      "(epoch 58) ----- The best answer: {47.408351} with (15) number of sensors (average fitness is: 27.431952)\n",
      "(epoch 59) ----- The best answer: {47.408351} with (15) number of sensors (average fitness is: 26.936335)\n",
      "(epoch 60) ----- The best answer: {47.408351} with (15) number of sensors (average fitness is: 25.735351)\n",
      "(epoch 61) ----- The best answer: {47.408351} with (15) number of sensors (average fitness is: 25.943378)\n",
      "(epoch 62) ----- The best answer: {47.408351} with (15) number of sensors (average fitness is: 25.875797)\n",
      "(epoch 63) ----- The best answer: {47.408351} with (15) number of sensors (average fitness is: 25.602034)\n",
      "(epoch 64) ----- The best answer: {47.408351} with (15) number of sensors (average fitness is: 25.251359)\n",
      "(epoch 65) ----- The best answer: {47.408351} with (15) number of sensors (average fitness is: 26.482105)\n",
      "(epoch 66) ----- The best answer: {47.408351} with (15) number of sensors (average fitness is: 25.066585)\n",
      "(epoch 67) ----- The best answer: {47.408351} with (15) number of sensors (average fitness is: 26.188967)\n",
      "(epoch 68) ----- The best answer: {47.408351} with (15) number of sensors (average fitness is: 26.182214)\n",
      "(epoch 69) ----- The best answer: {47.408351} with (15) number of sensors (average fitness is: 26.847523)\n",
      "(epoch 70) ----- The best answer: {47.408351} with (15) number of sensors (average fitness is: 26.963891)\n",
      "(epoch 71) ----- The best answer: {47.408351} with (15) number of sensors (average fitness is: 26.331438)\n",
      "(epoch 72) ----- The best answer: {47.408351} with (15) number of sensors (average fitness is: 27.147740)\n",
      "(epoch 73) ----- The best answer: {47.408351} with (15) number of sensors (average fitness is: 25.714200)\n",
      "(epoch 74) ----- The best answer: {47.408351} with (15) number of sensors (average fitness is: 26.630816)\n",
      "(epoch 75) ----- The best answer: {47.408351} with (15) number of sensors (average fitness is: 25.375194)\n",
      "(epoch 76) ----- The best answer: {47.408351} with (15) number of sensors (average fitness is: 25.598323)\n",
      "(epoch 77) ----- The best answer: {47.408351} with (15) number of sensors (average fitness is: 25.648784)\n",
      "(epoch 78) ----- The best answer: {47.408351} with (15) number of sensors (average fitness is: 26.023836)\n",
      "(epoch 79) ----- The best answer: {47.408351} with (15) number of sensors (average fitness is: 25.453512)\n",
      "(epoch 80) ----- The best answer: {47.408351} with (15) number of sensors (average fitness is: 26.866055)\n",
      "(epoch 81) ----- The best answer: {47.408351} with (15) number of sensors (average fitness is: 26.072110)\n",
      "(epoch 82) ----- The best answer: {47.408351} with (15) number of sensors (average fitness is: 27.119145)\n",
      "(epoch 83) ----- The best answer: {47.408351} with (15) number of sensors (average fitness is: 24.955719)\n",
      "(epoch 84) ----- The best answer: {47.408351} with (15) number of sensors (average fitness is: 25.429361)\n",
      "(epoch 85) ----- The best answer: {47.408351} with (15) number of sensors (average fitness is: 25.632148)\n",
      "(epoch 86) ----- The best answer: {47.408351} with (15) number of sensors (average fitness is: 25.344746)\n",
      "(epoch 87) ----- The best answer: {47.408351} with (15) number of sensors (average fitness is: 26.407927)\n",
      "(epoch 88) ----- The best answer: {47.408351} with (15) number of sensors (average fitness is: 26.335316)\n",
      "(epoch 89) ----- The best answer: {47.408351} with (15) number of sensors (average fitness is: 26.321702)\n",
      "(epoch 90) ----- The best answer: {47.408351} with (15) number of sensors (average fitness is: 25.519097)\n",
      "(epoch 91) ----- The best answer: {47.408351} with (15) number of sensors (average fitness is: 26.211880)\n",
      "(epoch 92) ----- The best answer: {47.408351} with (15) number of sensors (average fitness is: 25.816787)\n",
      "(epoch 93) ----- The best answer: {47.408351} with (15) number of sensors (average fitness is: 26.098678)\n",
      "(epoch 94) ----- The best answer: {47.408351} with (15) number of sensors (average fitness is: 25.495601)\n",
      "(epoch 95) ----- The best answer: {47.408351} with (15) number of sensors (average fitness is: 25.962578)\n",
      "(epoch 96) ----- The best answer: {47.408351} with (15) number of sensors (average fitness is: 25.180292)\n",
      "(epoch 97) ----- The best answer: {47.408351} with (15) number of sensors (average fitness is: 25.737247)\n",
      "(epoch 98) ----- The best answer: {47.408351} with (15) number of sensors (average fitness is: 26.510406)\n",
      "(epoch 99) ----- The best answer: {47.408351} with (15) number of sensors (average fitness is: 26.248791)\n",
      "(epoch 100) ----- The best answer: {47.408351} with (15) number of sensors (average fitness is: 26.446153)\n",
      "\t Best accuracy found: 47.408351249369915  sensors num used: 15.0\n"
     ]
    }
   ],
   "source": [
    "import SensorOptimizers.GeneticAlgorithm as ga\n",
    "import numpy as np\n",
    "import pickle\n",
    "\n",
    "sensor_types = {\n",
    "    'model_motion_sensor': True,\n",
    "    'model_beacon_sensor': False,\n",
    "    'model_pressure_sensor': False,\n",
    "    'model_accelerometer': False,\n",
    "    'model_electricity_sensor': False\n",
    "}\n",
    "testbed = 'Testbed2/'\n",
    "\n",
    "\n",
    "for i in range(1, 2):\n",
    "    print('----- ', 'Running Genetic Algorithm #', i, ':')\n",
    "    result, best_configuration_history = ga.run(testbed = testbed,\n",
    "                                                input_sensor_types = sensor_types,\n",
    "                                                iteration = 100, \n",
    "                                                population = 10,\n",
    "                                                epsilon = 0.5, \n",
    "                                                initSensorNum = 15, \n",
    "                                                maxSensorNum = 15,  \n",
    "                                                radius = 1, \n",
    "                                                mutation_rate = 0.005, \n",
    "                                                crossover = 2,\n",
    "                                                survival_rate = 0.1, \n",
    "                                                reproduction_rate = 0.2,\n",
    "                                                print_epochs = True,\n",
    "                                                ROS = True\n",
    "                                               )\n",
    "\n",
    "    with open('GA_results/history' + str(i + 1), 'wb') as handle:\n",
    "        pickle.dump([result, best_configuration_history], handle, protocol=pickle.HIGHEST_PROTOCOL)\n",
    "    \n",
    "    print('\\t', 'Best accuracy found:', max(result[len(result) - 1])[0], ' sensors num used:', max(result[len(result) - 1])[1])\n",
    "\n"
   ]
  },
  {
   "cell_type": "code",
   "execution_count": null,
   "metadata": {},
   "outputs": [],
   "source": []
  }
 ],
 "metadata": {
  "colab": {
   "collapsed_sections": [],
   "name": "GA.ipynb",
   "provenance": [],
   "toc_visible": true
  },
  "kernelspec": {
   "display_name": "Python 3.9.7 ('base')",
   "language": "python",
   "name": "python3"
  },
  "language_info": {
   "codemirror_mode": {
    "name": "ipython",
    "version": 3
   },
   "file_extension": ".py",
   "mimetype": "text/x-python",
   "name": "python",
   "nbconvert_exporter": "python",
   "pygments_lexer": "ipython3",
   "version": "3.9.7"
  },
  "vscode": {
   "interpreter": {
    "hash": "40d3a090f54c6569ab1632332b64b2c03c39dcf918b08424e98f38b5ae0af88f"
   }
  },
  "widgets": {
   "application/vnd.jupyter.widget-state+json": {
    "208ae3a7e6b84f90ad9e6b284aa3721c": {
     "model_module": "@jupyter-widgets/controls",
     "model_module_version": "1.5.0",
     "model_name": "ProgressStyleModel",
     "state": {
      "_model_module": "@jupyter-widgets/controls",
      "_model_module_version": "1.5.0",
      "_model_name": "ProgressStyleModel",
      "_view_count": null,
      "_view_module": "@jupyter-widgets/base",
      "_view_module_version": "1.2.0",
      "_view_name": "StyleView",
      "bar_color": null,
      "description_width": ""
     }
    },
    "441b254622df4958a7d151ad59bb4624": {
     "model_module": "@jupyter-widgets/base",
     "model_module_version": "1.2.0",
     "model_name": "LayoutModel",
     "state": {
      "_model_module": "@jupyter-widgets/base",
      "_model_module_version": "1.2.0",
      "_model_name": "LayoutModel",
      "_view_count": null,
      "_view_module": "@jupyter-widgets/base",
      "_view_module_version": "1.2.0",
      "_view_name": "LayoutView",
      "align_content": null,
      "align_items": null,
      "align_self": null,
      "border": null,
      "bottom": null,
      "display": null,
      "flex": null,
      "flex_flow": null,
      "grid_area": null,
      "grid_auto_columns": null,
      "grid_auto_flow": null,
      "grid_auto_rows": null,
      "grid_column": null,
      "grid_gap": null,
      "grid_row": null,
      "grid_template_areas": null,
      "grid_template_columns": null,
      "grid_template_rows": null,
      "height": null,
      "justify_content": null,
      "justify_items": null,
      "left": null,
      "margin": null,
      "max_height": null,
      "max_width": null,
      "min_height": null,
      "min_width": null,
      "object_fit": null,
      "object_position": null,
      "order": null,
      "overflow": null,
      "overflow_x": null,
      "overflow_y": null,
      "padding": null,
      "right": null,
      "top": null,
      "visibility": null,
      "width": null
     }
    },
    "650f914388934a949db3e622810c6f6e": {
     "model_module": "@jupyter-widgets/controls",
     "model_module_version": "1.5.0",
     "model_name": "IntProgressModel",
     "state": {
      "_dom_classes": [],
      "_model_module": "@jupyter-widgets/controls",
      "_model_module_version": "1.5.0",
      "_model_name": "IntProgressModel",
      "_view_count": null,
      "_view_module": "@jupyter-widgets/controls",
      "_view_module_version": "1.5.0",
      "_view_name": "ProgressView",
      "bar_style": "",
      "description": "",
      "description_tooltip": null,
      "layout": "IPY_MODEL_441b254622df4958a7d151ad59bb4624",
      "max": 100,
      "min": 0,
      "orientation": "horizontal",
      "style": "IPY_MODEL_208ae3a7e6b84f90ad9e6b284aa3721c",
      "value": 41
     }
    }
   }
  }
 },
 "nbformat": 4,
 "nbformat_minor": 1
}
