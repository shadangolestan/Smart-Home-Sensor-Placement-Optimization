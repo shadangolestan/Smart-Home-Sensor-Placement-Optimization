{
 "cells": [
  {
   "cell_type": "code",
   "execution_count": null,
   "metadata": {
    "scrolled": true
   },
   "outputs": [
    {
     "name": "stdout",
     "output_type": "stream",
     "text": [
      "----- Running BO with: \n",
      " \t - epsilon:  1 \n",
      " \t - LS sensors #: 7 \n",
      " \t - IS sensors #: 0  \n",
      " \t - initial state:  random\n",
      "8.0\n",
      "8.0\n",
      "[INFO] [2022-06-29 14:34:41,217] [Advisor] === [BO auto selection] === acq_optimizer_type: local_random.\n",
      "**************************************************\n",
      "self.acq_type  kg\n",
      "acq_optimizer_type  local_random\n",
      "self.num_objs  1\n",
      "self.surrogate_model  None\n",
      "self.num_constraints  0\n",
      "**************************************************\n",
      "[Build Surrogate] Use probabilistic random forest based on scikit-learn. For better performance, please install pyrfr: https://open-box.readthedocs.io/en/latest/installation/install_pyrfr.html\n"
     ]
    },
    {
     "name": "stderr",
     "output_type": "stream",
     "text": [
      "\r",
      "  0%|                                                                                          | 0/1000 [00:00<?, ?it/s]"
     ]
    },
    {
     "name": "stdout",
     "output_type": "stream",
     "text": [
      "[INFO] [2022-06-29 14:35:02,545] [OpenBox-SPO] Iteration 1, objective value: [58.64644099046073].\n"
     ]
    },
    {
     "name": "stderr",
     "output_type": "stream",
     "text": [
      "\r",
      "  0%|                                                                                | 1/1000 [00:21<5:54:47, 21.31s/it]"
     ]
    },
    {
     "name": "stdout",
     "output_type": "stream",
     "text": [
      "[INFO] [2022-06-29 14:35:35,282] [OpenBox-SPO] Iteration 2, objective value: [56.471954251137745].\n"
     ]
    },
    {
     "name": "stderr",
     "output_type": "stream",
     "text": [
      "\r",
      "  0%|▏                                                                               | 2/1000 [00:54<7:46:15, 28.03s/it]"
     ]
    },
    {
     "name": "stdout",
     "output_type": "stream",
     "text": [
      "[INFO] [2022-06-29 14:35:58,771] [OpenBox-SPO] Iteration 3, objective value: [61.46876821687599].\n"
     ]
    },
    {
     "name": "stderr",
     "output_type": "stream",
     "text": [
      "\r",
      "  0%|▏                                                                               | 3/1000 [01:17<7:11:19, 25.96s/it]"
     ]
    },
    {
     "name": "stdout",
     "output_type": "stream",
     "text": [
      "[INFO] [2022-06-29 14:36:54,480] [OpenBox-SPO] Iteration 4, objective value: [52.82437903975985].\n"
     ]
    },
    {
     "name": "stderr",
     "output_type": "stream",
     "text": [
      "\r",
      "  0%|▎                                                                              | 4/1000 [02:13<10:25:52, 37.70s/it]"
     ]
    },
    {
     "name": "stdout",
     "output_type": "stream",
     "text": [
      "[INFO] [2022-06-29 14:36:54,482] [Advisor] Sample random config. rand_prob=0.100000.\n",
      "[INFO] [2022-06-29 14:37:20,411] [OpenBox-SPO] Iteration 5, objective value: [56.724804883299704].\n"
     ]
    },
    {
     "name": "stderr",
     "output_type": "stream",
     "text": [
      "\r",
      "  0%|▍                                                                               | 5/1000 [02:39<9:14:50, 33.46s/it]"
     ]
    },
    {
     "name": "stdout",
     "output_type": "stream",
     "text": [
      "[INFO] [2022-06-29 14:38:14,965] [OpenBox-SPO] Iteration 6, objective value: [48.93912455383603].\n"
     ]
    },
    {
     "name": "stderr",
     "output_type": "stream",
     "text": [
      "\r",
      "  1%|▍                                                                              | 6/1000 [03:33<11:13:06, 40.63s/it]"
     ]
    },
    {
     "name": "stdout",
     "output_type": "stream",
     "text": [
      "[INFO] [2022-06-29 14:39:00,639] [OpenBox-SPO] Iteration 7, objective value: [64.54376749496612].\n"
     ]
    },
    {
     "name": "stderr",
     "output_type": "stream",
     "text": [
      "\r",
      "  1%|▌                                                                              | 7/1000 [04:19<11:39:43, 42.28s/it]"
     ]
    },
    {
     "name": "stdout",
     "output_type": "stream",
     "text": [
      "[INFO] [2022-06-29 14:39:57,436] [OpenBox-SPO] Iteration 8, objective value: [55.12039419957526].\n"
     ]
    },
    {
     "name": "stderr",
     "output_type": "stream",
     "text": [
      "\r",
      "  1%|▋                                                                              | 8/1000 [05:16<12:55:25, 46.90s/it]"
     ]
    },
    {
     "name": "stdout",
     "output_type": "stream",
     "text": [
      "[INFO] [2022-06-29 14:40:49,360] [OpenBox-SPO] Iteration 9, objective value: [48.693338269428644].\n"
     ]
    },
    {
     "name": "stderr",
     "output_type": "stream",
     "text": [
      "\r",
      "  1%|▋                                                                              | 9/1000 [06:08<13:20:34, 48.47s/it]"
     ]
    },
    {
     "name": "stdout",
     "output_type": "stream",
     "text": [
      "[INFO] [2022-06-29 14:40:49,361] [Advisor] Sample random config. rand_prob=0.100000.\n",
      "[INFO] [2022-06-29 14:41:21,052] [OpenBox-SPO] Iteration 10, objective value: [56.35998576281879].\n"
     ]
    },
    {
     "name": "stderr",
     "output_type": "stream",
     "text": [
      "\r",
      "  1%|▊                                                                             | 10/1000 [06:39<11:54:18, 43.29s/it]"
     ]
    },
    {
     "name": "stdout",
     "output_type": "stream",
     "text": [
      "[INFO] [2022-06-29 14:42:16,221] [OpenBox-SPO] Iteration 11, objective value: [60.73859564961872].\n"
     ]
    },
    {
     "name": "stderr",
     "output_type": "stream",
     "text": [
      "\r",
      "  1%|▊                                                                             | 11/1000 [07:34<12:53:30, 46.93s/it]"
     ]
    },
    {
     "name": "stdout",
     "output_type": "stream",
     "text": [
      "[INFO] [2022-06-29 14:43:13,999] [OpenBox-SPO] Iteration 12, objective value: [53.86857952888743].\n"
     ]
    },
    {
     "name": "stderr",
     "output_type": "stream",
     "text": [
      "\r",
      "  1%|▉                                                                             | 12/1000 [08:32<13:47:04, 50.23s/it]"
     ]
    },
    {
     "name": "stdout",
     "output_type": "stream",
     "text": [
      "[INFO] [2022-06-29 14:44:09,975] [OpenBox-SPO] Iteration 13, objective value: [51.60616722793211].\n"
     ]
    },
    {
     "name": "stderr",
     "output_type": "stream",
     "text": [
      "\r",
      "  1%|█                                                                             | 13/1000 [09:28<14:14:53, 51.97s/it]"
     ]
    },
    {
     "name": "stdout",
     "output_type": "stream",
     "text": [
      "[INFO] [2022-06-29 14:45:07,983] [OpenBox-SPO] Iteration 14, objective value: [57.37894836294393].\n"
     ]
    },
    {
     "name": "stderr",
     "output_type": "stream",
     "text": [
      "\r",
      "  1%|█                                                                             | 14/1000 [10:26<14:43:59, 53.79s/it]"
     ]
    },
    {
     "name": "stdout",
     "output_type": "stream",
     "text": [
      "[INFO] [2022-06-29 14:45:56,079] [OpenBox-SPO] Iteration 15, objective value: [54.86416858415444].\n"
     ]
    },
    {
     "name": "stderr",
     "output_type": "stream",
     "text": [
      "\r",
      "  2%|█▏                                                                            | 15/1000 [11:14<14:14:54, 52.08s/it]"
     ]
    },
    {
     "name": "stdout",
     "output_type": "stream",
     "text": [
      "[INFO] [2022-06-29 14:46:41,886] [OpenBox-SPO] Iteration 16, objective value: [60.28009016987926].\n"
     ]
    },
    {
     "name": "stderr",
     "output_type": "stream",
     "text": [
      "\r",
      "  2%|█▏                                                                            | 16/1000 [12:00<13:43:05, 50.19s/it]"
     ]
    },
    {
     "name": "stdout",
     "output_type": "stream",
     "text": [
      "[INFO] [2022-06-29 14:47:31,574] [OpenBox-SPO] Iteration 17, objective value: [57.82711521667825].\n"
     ]
    },
    {
     "name": "stderr",
     "output_type": "stream",
     "text": [
      "\r",
      "  2%|█▎                                                                            | 17/1000 [12:50<13:39:47, 50.04s/it]"
     ]
    },
    {
     "name": "stdout",
     "output_type": "stream",
     "text": [
      "[INFO] [2022-06-29 14:48:21,237] [OpenBox-SPO] Iteration 18, objective value: [52.407901893808294].\n"
     ]
    },
    {
     "name": "stderr",
     "output_type": "stream",
     "text": [
      "\r",
      "  2%|█▍                                                                            | 18/1000 [13:40<13:37:06, 49.93s/it]"
     ]
    },
    {
     "name": "stdout",
     "output_type": "stream",
     "text": [
      "[INFO] [2022-06-29 14:48:21,238] [Advisor] Sample random config. rand_prob=0.100000.\n",
      "[INFO] [2022-06-29 14:48:50,045] [OpenBox-SPO] Iteration 19, objective value: [48.31203199101509].\n"
     ]
    },
    {
     "name": "stderr",
     "output_type": "stream",
     "text": [
      "\r",
      "  2%|█▍                                                                            | 19/1000 [14:08<11:52:35, 43.58s/it]"
     ]
    },
    {
     "name": "stdout",
     "output_type": "stream",
     "text": [
      "[INFO] [2022-06-29 14:48:50,047] [Advisor] Sample random config. rand_prob=0.100000.\n",
      "[INFO] [2022-06-29 14:49:16,350] [OpenBox-SPO] Iteration 20, objective value: [51.50569376241377].\n"
     ]
    },
    {
     "name": "stderr",
     "output_type": "stream",
     "text": [
      "\r",
      "  2%|█▌                                                                            | 20/1000 [14:35<10:27:07, 38.40s/it]"
     ]
    },
    {
     "name": "stdout",
     "output_type": "stream",
     "text": [
      "[INFO] [2022-06-29 14:50:10,977] [OpenBox-SPO] Iteration 21, objective value: [49.604539032294745].\n"
     ]
    },
    {
     "name": "stderr",
     "output_type": "stream",
     "text": [
      "\r",
      "  2%|█▋                                                                            | 21/1000 [15:29<11:45:59, 43.27s/it]"
     ]
    },
    {
     "name": "stdout",
     "output_type": "stream",
     "text": [
      "[INFO] [2022-06-29 14:51:07,527] [OpenBox-SPO] Iteration 22, objective value: [51.59065335323931].\n"
     ]
    },
    {
     "name": "stderr",
     "output_type": "stream",
     "text": [
      "\r",
      "  2%|█▋                                                                            | 22/1000 [16:26<12:50:14, 47.25s/it]"
     ]
    },
    {
     "name": "stdout",
     "output_type": "stream",
     "text": [
      "[INFO] [2022-06-29 14:51:59,145] [OpenBox-SPO] Iteration 23, objective value: [57.623111053535844].\n"
     ]
    },
    {
     "name": "stderr",
     "output_type": "stream",
     "text": [
      "\r",
      "  2%|█▊                                                                            | 23/1000 [17:17<13:10:46, 48.56s/it]"
     ]
    },
    {
     "name": "stdout",
     "output_type": "stream",
     "text": [
      "[INFO] [2022-06-29 14:52:53,929] [OpenBox-SPO] Iteration 24, objective value: [53.33398611195029].\n"
     ]
    },
    {
     "name": "stderr",
     "output_type": "stream",
     "text": [
      "\r",
      "  2%|█▊                                                                            | 24/1000 [18:12<13:40:19, 50.43s/it]"
     ]
    },
    {
     "name": "stdout",
     "output_type": "stream",
     "text": [
      "[INFO] [2022-06-29 14:53:45,185] [OpenBox-SPO] Iteration 25, objective value: [49.83601221883387].\n"
     ]
    },
    {
     "name": "stderr",
     "output_type": "stream",
     "text": [
      "\r",
      "  2%|█▉                                                                            | 25/1000 [19:03<13:43:30, 50.68s/it]"
     ]
    },
    {
     "name": "stdout",
     "output_type": "stream",
     "text": [
      "[INFO] [2022-06-29 14:54:42,490] [OpenBox-SPO] Iteration 26, objective value: [53.25681668147065].\n"
     ]
    },
    {
     "name": "stderr",
     "output_type": "stream",
     "text": [
      "\r",
      "  3%|██                                                                            | 26/1000 [20:01<14:14:56, 52.67s/it]"
     ]
    },
    {
     "name": "stdout",
     "output_type": "stream",
     "text": [
      "[INFO] [2022-06-29 14:54:42,491] [Advisor] Sample random config. rand_prob=0.100000.\n",
      "[INFO] [2022-06-29 14:55:06,064] [OpenBox-SPO] Iteration 27, objective value: [56.43288482807858].\n"
     ]
    },
    {
     "name": "stderr",
     "output_type": "stream",
     "text": [
      "\r",
      "  3%|██                                                                            | 27/1000 [20:24<11:52:31, 43.94s/it]"
     ]
    },
    {
     "name": "stdout",
     "output_type": "stream",
     "text": [
      "[INFO] [2022-06-29 14:56:05,519] [OpenBox-SPO] Iteration 28, objective value: [56.12139572420604].\n"
     ]
    },
    {
     "name": "stderr",
     "output_type": "stream",
     "text": [
      "\r",
      "  3%|██▏                                                                           | 28/1000 [21:24<13:07:12, 48.59s/it]"
     ]
    },
    {
     "name": "stdout",
     "output_type": "stream",
     "text": [
      "[INFO] [2022-06-29 14:57:04,044] [OpenBox-SPO] Iteration 29, objective value: [55.043467677063994].\n"
     ]
    },
    {
     "name": "stderr",
     "output_type": "stream",
     "text": [
      "\r",
      "  3%|██▎                                                                           | 29/1000 [22:22<13:54:37, 51.57s/it]"
     ]
    },
    {
     "name": "stdout",
     "output_type": "stream",
     "text": [
      "[INFO] [2022-06-29 14:57:58,445] [OpenBox-SPO] Iteration 30, objective value: [52.4534262013824].\n"
     ]
    },
    {
     "name": "stderr",
     "output_type": "stream",
     "text": [
      "\r",
      "  3%|██▎                                                                           | 30/1000 [23:17<14:07:28, 52.42s/it]"
     ]
    },
    {
     "name": "stdout",
     "output_type": "stream",
     "text": [
      "[INFO] [2022-06-29 14:57:58,446] [Advisor] Sample random config. rand_prob=0.100000.\n",
      "[INFO] [2022-06-29 14:58:21,702] [OpenBox-SPO] Iteration 31, objective value: [58.03198261173157].\n"
     ]
    },
    {
     "name": "stderr",
     "output_type": "stream",
     "text": [
      "\r",
      "  3%|██▍                                                                           | 31/1000 [23:40<11:45:17, 43.67s/it]"
     ]
    },
    {
     "name": "stdout",
     "output_type": "stream",
     "text": [
      "[INFO] [2022-06-29 14:59:15,769] [OpenBox-SPO] Iteration 32, objective value: [48.86210360519059].\n"
     ]
    },
    {
     "name": "stderr",
     "output_type": "stream",
     "text": [
      "\r",
      "  3%|██▍                                                                           | 32/1000 [24:34<12:34:53, 46.79s/it]"
     ]
    },
    {
     "name": "stdout",
     "output_type": "stream",
     "text": [
      "[INFO] [2022-06-29 15:00:06,034] [OpenBox-SPO] Iteration 33, objective value: [52.948237638762066].\n"
     ]
    },
    {
     "name": "stderr",
     "output_type": "stream",
     "text": [
      "\r",
      "  3%|██▌                                                                           | 33/1000 [25:24<12:50:54, 47.83s/it]"
     ]
    },
    {
     "name": "stdout",
     "output_type": "stream",
     "text": [
      "[INFO] [2022-06-29 15:00:57,737] [OpenBox-SPO] Iteration 34, objective value: [46.56818571955051].\n"
     ]
    },
    {
     "name": "stderr",
     "output_type": "stream",
     "text": [
      "\r",
      "  3%|██▋                                                                           | 34/1000 [26:16<13:08:48, 48.99s/it]"
     ]
    },
    {
     "name": "stdout",
     "output_type": "stream",
     "text": [
      "[INFO] [2022-06-29 15:01:44,119] [OpenBox-SPO] Iteration 35, objective value: [47.60965303229765].\n"
     ]
    },
    {
     "name": "stderr",
     "output_type": "stream",
     "text": [
      "\r",
      "  4%|██▋                                                                           | 35/1000 [27:02<12:55:22, 48.21s/it]"
     ]
    },
    {
     "name": "stdout",
     "output_type": "stream",
     "text": [
      "[INFO] [2022-06-29 15:02:38,656] [OpenBox-SPO] Iteration 36, objective value: [54.68912197023834].\n"
     ]
    },
    {
     "name": "stderr",
     "output_type": "stream",
     "text": [
      "\r",
      "  4%|██▊                                                                           | 36/1000 [27:57<13:25:04, 50.11s/it]"
     ]
    },
    {
     "name": "stdout",
     "output_type": "stream",
     "text": [
      "[INFO] [2022-06-29 15:03:38,689] [OpenBox-SPO] Iteration 37, objective value: [50.29896690340742].\n"
     ]
    },
    {
     "name": "stderr",
     "output_type": "stream",
     "text": [
      "\r",
      "  4%|██▉                                                                           | 37/1000 [28:57<14:12:01, 53.09s/it]"
     ]
    },
    {
     "name": "stdout",
     "output_type": "stream",
     "text": [
      "[INFO] [2022-06-29 15:04:51,224] [OpenBox-SPO] Iteration 38, objective value: [52.08632307556881].\n"
     ]
    },
    {
     "name": "stderr",
     "output_type": "stream",
     "text": [
      "\r",
      "  4%|██▉                                                                           | 38/1000 [30:09<15:44:41, 58.92s/it]"
     ]
    },
    {
     "name": "stdout",
     "output_type": "stream",
     "text": [
      "[INFO] [2022-06-29 15:05:58,373] [OpenBox-SPO] Iteration 39, objective value: [52.42987070632735].\n"
     ]
    },
    {
     "name": "stderr",
     "output_type": "stream",
     "text": [
      "\r",
      "  4%|███                                                                           | 39/1000 [31:17<16:23:14, 61.39s/it]"
     ]
    },
    {
     "name": "stdout",
     "output_type": "stream",
     "text": [
      "[INFO] [2022-06-29 15:07:10,728] [OpenBox-SPO] Iteration 40, objective value: [55.21429048279988].\n"
     ]
    },
    {
     "name": "stderr",
     "output_type": "stream",
     "text": [
      "\r",
      "  4%|███                                                                           | 40/1000 [32:29<17:14:51, 64.68s/it]"
     ]
    },
    {
     "name": "stdout",
     "output_type": "stream",
     "text": [
      "[INFO] [2022-06-29 15:08:33,310] [OpenBox-SPO] Iteration 41, objective value: [51.67435193073738].\n"
     ]
    },
    {
     "name": "stderr",
     "output_type": "stream",
     "text": [
      "\r",
      "  4%|███▏                                                                          | 41/1000 [33:52<18:39:37, 70.05s/it]"
     ]
    },
    {
     "name": "stdout",
     "output_type": "stream",
     "text": [
      "[INFO] [2022-06-29 15:08:33,312] [Advisor] Sample random config. rand_prob=0.100000.\n",
      "[INFO] [2022-06-29 15:09:23,619] [OpenBox-SPO] Iteration 42, objective value: [66.3287156544624].\n"
     ]
    },
    {
     "name": "stderr",
     "output_type": "stream",
     "text": [
      "\r",
      "  4%|███▎                                                                          | 42/1000 [34:42<17:03:54, 64.13s/it]"
     ]
    },
    {
     "name": "stdout",
     "output_type": "stream",
     "text": [
      "[INFO] [2022-06-29 15:11:20,405] [OpenBox-SPO] Iteration 43, objective value: [54.132177866200976].\n"
     ]
    },
    {
     "name": "stderr",
     "output_type": "stream",
     "text": [
      "\r",
      "  4%|███▎                                                                          | 43/1000 [36:39<21:14:48, 79.93s/it]"
     ]
    },
    {
     "name": "stdout",
     "output_type": "stream",
     "text": [
      "[INFO] [2022-06-29 15:12:58,302] [OpenBox-SPO] Iteration 44, objective value: [51.23412275202016].\n"
     ]
    },
    {
     "name": "stderr",
     "output_type": "stream",
     "text": [
      "\r",
      "  4%|███▍                                                                          | 44/1000 [38:17<22:39:22, 85.32s/it]"
     ]
    },
    {
     "name": "stdout",
     "output_type": "stream",
     "text": [
      "[INFO] [2022-06-29 15:14:39,352] [OpenBox-SPO] Iteration 45, objective value: [48.713657634045546].\n"
     ]
    },
    {
     "name": "stderr",
     "output_type": "stream",
     "text": [
      "\r",
      "  4%|███▌                                                                          | 45/1000 [39:58<23:53:04, 90.04s/it]"
     ]
    },
    {
     "name": "stdout",
     "output_type": "stream",
     "text": [
      "[INFO] [2022-06-29 15:15:50,634] [OpenBox-SPO] Iteration 46, objective value: [46.642303059345494].\n"
     ]
    },
    {
     "name": "stderr",
     "output_type": "stream",
     "text": [
      "\r",
      "  5%|███▌                                                                          | 46/1000 [41:09<22:22:07, 84.41s/it]"
     ]
    },
    {
     "name": "stdout",
     "output_type": "stream",
     "text": [
      "[INFO] [2022-06-29 15:17:51,333] [OpenBox-SPO] Iteration 47, objective value: [48.797579708515094].\n"
     ]
    },
    {
     "name": "stderr",
     "output_type": "stream",
     "text": [
      "\r",
      "  5%|███▋                                                                          | 47/1000 [43:10<25:13:38, 95.30s/it]"
     ]
    },
    {
     "name": "stdout",
     "output_type": "stream",
     "text": [
      "[INFO] [2022-06-29 15:19:30,891] [OpenBox-SPO] Iteration 48, objective value: [54.36021370596908].\n"
     ]
    },
    {
     "name": "stderr",
     "output_type": "stream",
     "text": [
      "\r",
      "  5%|███▋                                                                          | 48/1000 [44:49<25:32:19, 96.58s/it]"
     ]
    },
    {
     "name": "stdout",
     "output_type": "stream",
     "text": [
      "[INFO] [2022-06-29 15:20:50,765] [OpenBox-SPO] Iteration 49, objective value: [57.144725061281335].\n"
     ]
    },
    {
     "name": "stderr",
     "output_type": "stream",
     "text": [
      "\r",
      "  5%|███▊                                                                          | 49/1000 [46:09<24:11:18, 91.56s/it]"
     ]
    },
    {
     "name": "stdout",
     "output_type": "stream",
     "text": [
      "[INFO] [2022-06-29 15:22:09,383] [OpenBox-SPO] Iteration 50, objective value: [58.30397024864865].\n"
     ]
    },
    {
     "name": "stderr",
     "output_type": "stream",
     "text": [
      "\r",
      "  5%|███▉                                                                          | 50/1000 [47:28<23:08:16, 87.68s/it]"
     ]
    },
    {
     "name": "stdout",
     "output_type": "stream",
     "text": [
      "[INFO] [2022-06-29 15:23:25,816] [OpenBox-SPO] Iteration 51, objective value: [57.13746804204979].\n"
     ]
    },
    {
     "name": "stderr",
     "output_type": "stream",
     "text": [
      "\r",
      "  5%|███▉                                                                          | 51/1000 [48:44<22:13:26, 84.31s/it]"
     ]
    },
    {
     "name": "stdout",
     "output_type": "stream",
     "text": [
      "[INFO] [2022-06-29 15:24:34,925] [OpenBox-SPO] Iteration 52, objective value: [51.12285021254472].\n"
     ]
    },
    {
     "name": "stderr",
     "output_type": "stream",
     "text": [
      "\r",
      "  5%|████                                                                          | 52/1000 [49:53<21:00:00, 79.75s/it]"
     ]
    },
    {
     "name": "stdout",
     "output_type": "stream",
     "text": [
      "[INFO] [2022-06-29 15:25:54,970] [OpenBox-SPO] Iteration 53, objective value: [50.31780156150399].\n"
     ]
    },
    {
     "name": "stderr",
     "output_type": "stream",
     "text": [
      "\r",
      "  5%|████▏                                                                         | 53/1000 [51:13<21:00:05, 79.84s/it]"
     ]
    },
    {
     "name": "stdout",
     "output_type": "stream",
     "text": [
      "[INFO] [2022-06-29 15:27:13,935] [OpenBox-SPO] Iteration 54, objective value: [48.63462112246106].\n"
     ]
    },
    {
     "name": "stderr",
     "output_type": "stream",
     "text": [
      "\r",
      "  5%|████▏                                                                         | 54/1000 [52:32<20:54:38, 79.58s/it]"
     ]
    },
    {
     "name": "stdout",
     "output_type": "stream",
     "text": [
      "[INFO] [2022-06-29 15:28:31,191] [OpenBox-SPO] Iteration 55, objective value: [59.294792244909104].\n"
     ]
    },
    {
     "name": "stderr",
     "output_type": "stream",
     "text": [
      "\r",
      "  6%|████▎                                                                         | 55/1000 [53:49<20:42:21, 78.88s/it]"
     ]
    },
    {
     "name": "stdout",
     "output_type": "stream",
     "text": [
      "[INFO] [2022-06-29 15:29:42,442] [OpenBox-SPO] Iteration 56, objective value: [50.407108035735035].\n"
     ]
    },
    {
     "name": "stderr",
     "output_type": "stream",
     "text": [
      "\r",
      "  6%|████▎                                                                         | 56/1000 [55:01<20:05:01, 76.59s/it]"
     ]
    },
    {
     "name": "stdout",
     "output_type": "stream",
     "text": [
      "[INFO] [2022-06-29 15:31:08,188] [OpenBox-SPO] Iteration 57, objective value: [41.721031998245415].\n"
     ]
    },
    {
     "name": "stderr",
     "output_type": "stream",
     "text": [
      "\r",
      "  6%|████▍                                                                         | 57/1000 [56:26<20:46:55, 79.34s/it]"
     ]
    },
    {
     "name": "stdout",
     "output_type": "stream",
     "text": [
      "[INFO] [2022-06-29 15:32:21,416] [OpenBox-SPO] Iteration 58, objective value: [50.36679341412145].\n"
     ]
    },
    {
     "name": "stderr",
     "output_type": "stream",
     "text": [
      "\r",
      "  6%|████▌                                                                         | 58/1000 [57:40<20:16:49, 77.50s/it]"
     ]
    },
    {
     "name": "stdout",
     "output_type": "stream",
     "text": [
      "[INFO] [2022-06-29 15:32:21,417] [Advisor] Sample random config. rand_prob=0.100000.\n",
      "[INFO] [2022-06-29 15:32:55,020] [OpenBox-SPO] Iteration 59, objective value: [50.22486955645372].\n"
     ]
    },
    {
     "name": "stderr",
     "output_type": "stream",
     "text": [
      "\r",
      "  6%|████▌                                                                         | 59/1000 [58:13<16:48:58, 64.33s/it]"
     ]
    },
    {
     "name": "stdout",
     "output_type": "stream",
     "text": [
      "[INFO] [2022-06-29 15:34:13,099] [OpenBox-SPO] Iteration 60, objective value: [45.49177032670768].\n"
     ]
    },
    {
     "name": "stderr",
     "output_type": "stream",
     "text": [
      "\r",
      "  6%|████▋                                                                         | 60/1000 [59:31<17:52:30, 68.46s/it]"
     ]
    },
    {
     "name": "stdout",
     "output_type": "stream",
     "text": [
      "[INFO] [2022-06-29 15:35:34,571] [OpenBox-SPO] Iteration 61, objective value: [44.10718421661033].\n"
     ]
    },
    {
     "name": "stderr",
     "output_type": "stream",
     "text": [
      "\r",
      "  6%|████▋                                                                       | 61/1000 [1:00:53<18:52:28, 72.36s/it]"
     ]
    },
    {
     "name": "stdout",
     "output_type": "stream",
     "text": [
      "[INFO] [2022-06-29 15:36:48,145] [OpenBox-SPO] Iteration 62, objective value: [45.048490335490165].\n"
     ]
    },
    {
     "name": "stderr",
     "output_type": "stream",
     "text": [
      "\r",
      "  6%|████▋                                                                       | 62/1000 [1:02:06<18:56:57, 72.73s/it]"
     ]
    },
    {
     "name": "stdout",
     "output_type": "stream",
     "text": [
      "[INFO] [2022-06-29 15:38:03,581] [OpenBox-SPO] Iteration 63, objective value: [44.047144809554815].\n"
     ]
    },
    {
     "name": "stderr",
     "output_type": "stream",
     "text": [
      "\r",
      "  6%|████▊                                                                       | 63/1000 [1:03:22<19:08:25, 73.54s/it]"
     ]
    },
    {
     "name": "stdout",
     "output_type": "stream",
     "text": [
      "[INFO] [2022-06-29 15:39:14,603] [OpenBox-SPO] Iteration 64, objective value: [47.97960202770607].\n"
     ]
    },
    {
     "name": "stderr",
     "output_type": "stream",
     "text": [
      "\r",
      "  6%|████▊                                                                       | 64/1000 [1:04:33<18:55:25, 72.78s/it]"
     ]
    },
    {
     "name": "stdout",
     "output_type": "stream",
     "text": [
      "[INFO] [2022-06-29 15:40:35,461] [OpenBox-SPO] Iteration 65, objective value: [57.140279461406415].\n"
     ]
    },
    {
     "name": "stderr",
     "output_type": "stream",
     "text": [
      "\r",
      "  6%|████▉                                                                       | 65/1000 [1:05:54<19:31:57, 75.21s/it]"
     ]
    },
    {
     "name": "stdout",
     "output_type": "stream",
     "text": [
      "[INFO] [2022-06-29 15:42:01,283] [OpenBox-SPO] Iteration 66, objective value: [51.1029165857402].\n"
     ]
    },
    {
     "name": "stderr",
     "output_type": "stream",
     "text": [
      "\r",
      "  7%|█████                                                                       | 66/1000 [1:07:20<20:20:16, 78.39s/it]"
     ]
    },
    {
     "name": "stdout",
     "output_type": "stream",
     "text": [
      "[INFO] [2022-06-29 15:43:25,713] [OpenBox-SPO] Iteration 67, objective value: [52.066457291842994].\n"
     ]
    },
    {
     "name": "stderr",
     "output_type": "stream",
     "text": [
      "\r",
      "  7%|█████                                                                       | 67/1000 [1:08:44<20:47:08, 80.20s/it]"
     ]
    },
    {
     "name": "stdout",
     "output_type": "stream",
     "text": [
      "[INFO] [2022-06-29 15:44:41,448] [OpenBox-SPO] Iteration 68, objective value: [55.72751593424873].\n"
     ]
    },
    {
     "name": "stderr",
     "output_type": "stream",
     "text": [
      "\r",
      "  7%|█████▏                                                                      | 68/1000 [1:10:00<20:24:59, 78.86s/it]"
     ]
    },
    {
     "name": "stdout",
     "output_type": "stream",
     "text": [
      "[INFO] [2022-06-29 15:46:03,609] [OpenBox-SPO] Iteration 69, objective value: [43.394561703564435].\n"
     ]
    },
    {
     "name": "stderr",
     "output_type": "stream",
     "text": [
      "\r",
      "  7%|█████▏                                                                      | 69/1000 [1:11:22<20:39:02, 79.85s/it]"
     ]
    },
    {
     "name": "stdout",
     "output_type": "stream",
     "text": [
      "[INFO] [2022-06-29 15:46:03,610] [Advisor] Sample random config. rand_prob=0.100000.\n",
      "[INFO] [2022-06-29 15:46:45,429] [OpenBox-SPO] Iteration 70, objective value: [59.42721656917829].\n"
     ]
    },
    {
     "name": "stderr",
     "output_type": "stream",
     "text": [
      "\r",
      "  7%|█████▎                                                                      | 70/1000 [1:12:04<17:40:51, 68.44s/it]"
     ]
    },
    {
     "name": "stdout",
     "output_type": "stream",
     "text": [
      "[INFO] [2022-06-29 15:46:45,431] [Advisor] Sample random config. rand_prob=0.100000.\n",
      "[INFO] [2022-06-29 15:47:25,464] [OpenBox-SPO] Iteration 71, objective value: [55.67094688178906].\n"
     ]
    },
    {
     "name": "stderr",
     "output_type": "stream",
     "text": [
      "\r",
      "  7%|█████▍                                                                      | 71/1000 [1:12:44<15:27:45, 59.92s/it]"
     ]
    },
    {
     "name": "stdout",
     "output_type": "stream",
     "text": [
      "[INFO] [2022-06-29 15:48:44,829] [OpenBox-SPO] Iteration 72, objective value: [49.56584959553021].\n"
     ]
    },
    {
     "name": "stderr",
     "output_type": "stream",
     "text": [
      "\r",
      "  7%|█████▍                                                                      | 72/1000 [1:14:03<16:56:59, 65.75s/it]"
     ]
    },
    {
     "name": "stdout",
     "output_type": "stream",
     "text": [
      "[INFO] [2022-06-29 15:49:59,567] [OpenBox-SPO] Iteration 73, objective value: [48.90778928065445].\n"
     ]
    },
    {
     "name": "stderr",
     "output_type": "stream",
     "text": [
      "\r",
      "  7%|█████▌                                                                      | 73/1000 [1:15:18<17:37:31, 68.45s/it]"
     ]
    },
    {
     "name": "stdout",
     "output_type": "stream",
     "text": [
      "[INFO] [2022-06-29 15:51:11,335] [OpenBox-SPO] Iteration 74, objective value: [47.74651662786702].\n"
     ]
    },
    {
     "name": "stderr",
     "output_type": "stream",
     "text": [
      "\r",
      "  7%|█████▌                                                                      | 74/1000 [1:16:30<17:51:45, 69.44s/it]"
     ]
    },
    {
     "name": "stdout",
     "output_type": "stream",
     "text": [
      "[INFO] [2022-06-29 15:52:37,030] [OpenBox-SPO] Iteration 75, objective value: [50.51655290966607].\n"
     ]
    },
    {
     "name": "stderr",
     "output_type": "stream",
     "text": [
      "\r",
      "  8%|█████▋                                                                      | 75/1000 [1:17:55<19:05:45, 74.32s/it]"
     ]
    },
    {
     "name": "stdout",
     "output_type": "stream",
     "text": [
      "[INFO] [2022-06-29 15:53:55,684] [OpenBox-SPO] Iteration 76, objective value: [43.7787418177888].\n"
     ]
    },
    {
     "name": "stderr",
     "output_type": "stream",
     "text": [
      "\r",
      "  8%|█████▊                                                                      | 76/1000 [1:19:14<19:24:32, 75.62s/it]"
     ]
    },
    {
     "name": "stdout",
     "output_type": "stream",
     "text": [
      "[INFO] [2022-06-29 15:55:12,286] [OpenBox-SPO] Iteration 77, objective value: [43.43544669560855].\n"
     ]
    },
    {
     "name": "stderr",
     "output_type": "stream",
     "text": [
      "\r",
      "  8%|█████▊                                                                      | 77/1000 [1:20:31<19:27:49, 75.91s/it]"
     ]
    },
    {
     "name": "stdout",
     "output_type": "stream",
     "text": [
      "[INFO] [2022-06-29 15:56:17,672] [OpenBox-SPO] Iteration 78, objective value: [52.688007630945336].\n"
     ]
    },
    {
     "name": "stderr",
     "output_type": "stream",
     "text": [
      "\r",
      "  8%|█████▉                                                                      | 78/1000 [1:21:36<18:38:01, 72.76s/it]"
     ]
    },
    {
     "name": "stdout",
     "output_type": "stream",
     "text": [
      "[INFO] [2022-06-29 15:56:17,674] [Advisor] Sample random config. rand_prob=0.100000.\n",
      "[INFO] [2022-06-29 15:56:50,752] [OpenBox-SPO] Iteration 79, objective value: [63.561740507492445].\n"
     ]
    },
    {
     "name": "stderr",
     "output_type": "stream",
     "text": [
      "\r",
      "  8%|██████                                                                      | 79/1000 [1:22:09<15:34:05, 60.85s/it]"
     ]
    },
    {
     "name": "stdout",
     "output_type": "stream",
     "text": [
      "[INFO] [2022-06-29 15:58:10,141] [OpenBox-SPO] Iteration 80, objective value: [45.01578099621268].\n"
     ]
    },
    {
     "name": "stderr",
     "output_type": "stream",
     "text": [
      "\r",
      "  8%|██████                                                                      | 80/1000 [1:23:28<16:58:20, 66.41s/it]"
     ]
    },
    {
     "name": "stdout",
     "output_type": "stream",
     "text": [
      "[INFO] [2022-06-29 15:59:26,890] [OpenBox-SPO] Iteration 81, objective value: [49.58180386311907].\n"
     ]
    },
    {
     "name": "stderr",
     "output_type": "stream",
     "text": [
      "\r",
      "  8%|██████▏                                                                     | 81/1000 [1:24:45<17:44:43, 69.51s/it]"
     ]
    },
    {
     "name": "stdout",
     "output_type": "stream",
     "text": [
      "[INFO] [2022-06-29 16:00:44,294] [OpenBox-SPO] Iteration 82, objective value: [41.75833983893199].\n"
     ]
    },
    {
     "name": "stderr",
     "output_type": "stream",
     "text": [
      "\r",
      "  8%|██████▏                                                                     | 82/1000 [1:26:03<18:19:46, 71.88s/it]"
     ]
    },
    {
     "name": "stdout",
     "output_type": "stream",
     "text": [
      "[INFO] [2022-06-29 16:02:04,238] [OpenBox-SPO] Iteration 83, objective value: [53.13928427030118].\n"
     ]
    },
    {
     "name": "stderr",
     "output_type": "stream",
     "text": [
      "\r",
      "  8%|██████▎                                                                     | 83/1000 [1:27:23<18:55:33, 74.30s/it]"
     ]
    },
    {
     "name": "stdout",
     "output_type": "stream",
     "text": [
      "[INFO] [2022-06-29 16:03:23,627] [OpenBox-SPO] Iteration 84, objective value: [45.69978599493023].\n"
     ]
    },
    {
     "name": "stderr",
     "output_type": "stream",
     "text": [
      "\r",
      "  8%|██████▍                                                                     | 84/1000 [1:28:42<19:17:37, 75.83s/it]"
     ]
    },
    {
     "name": "stdout",
     "output_type": "stream",
     "text": [
      "[INFO] [2022-06-29 16:03:23,629] [Advisor] Sample random config. rand_prob=0.100000.\n",
      "[INFO] [2022-06-29 16:04:14,307] [OpenBox-SPO] Iteration 85, objective value: [46.706242944911565].\n"
     ]
    },
    {
     "name": "stderr",
     "output_type": "stream",
     "text": [
      "\r",
      "  8%|██████▍                                                                     | 85/1000 [1:29:33<17:21:18, 68.28s/it]"
     ]
    },
    {
     "name": "stdout",
     "output_type": "stream",
     "text": [
      "[INFO] [2022-06-29 16:05:30,646] [OpenBox-SPO] Iteration 86, objective value: [48.953745963124796].\n"
     ]
    },
    {
     "name": "stderr",
     "output_type": "stream",
     "text": [
      "\r",
      "  9%|██████▌                                                                     | 86/1000 [1:30:49<17:56:59, 70.70s/it]"
     ]
    },
    {
     "name": "stdout",
     "output_type": "stream",
     "text": [
      "[INFO] [2022-06-29 16:06:24,293] [OpenBox-SPO] Iteration 87, objective value: [44.08896792968745].\n"
     ]
    },
    {
     "name": "stderr",
     "output_type": "stream",
     "text": [
      "\r",
      "  9%|██████▌                                                                     | 87/1000 [1:31:43<16:37:57, 65.58s/it]"
     ]
    },
    {
     "name": "stdout",
     "output_type": "stream",
     "text": [
      "[INFO] [2022-06-29 16:07:16,331] [OpenBox-SPO] Iteration 88, objective value: [38.79801320616784].\n"
     ]
    },
    {
     "name": "stderr",
     "output_type": "stream",
     "text": [
      "\r",
      "  9%|██████▋                                                                     | 88/1000 [1:32:35<15:35:06, 61.52s/it]"
     ]
    },
    {
     "name": "stdout",
     "output_type": "stream",
     "text": [
      "[INFO] [2022-06-29 16:08:09,060] [OpenBox-SPO] Iteration 89, objective value: [44.04427588482092].\n"
     ]
    },
    {
     "name": "stderr",
     "output_type": "stream",
     "text": [
      "\r",
      "  9%|██████▊                                                                     | 89/1000 [1:33:27<14:54:02, 58.88s/it]"
     ]
    },
    {
     "name": "stdout",
     "output_type": "stream",
     "text": [
      "[INFO] [2022-06-29 16:09:01,461] [OpenBox-SPO] Iteration 90, objective value: [44.296744500054366].\n"
     ]
    },
    {
     "name": "stderr",
     "output_type": "stream",
     "text": [
      "\r",
      "  9%|██████▊                                                                     | 90/1000 [1:34:20<14:23:33, 56.94s/it]"
     ]
    },
    {
     "name": "stdout",
     "output_type": "stream",
     "text": [
      "[INFO] [2022-06-29 16:09:51,325] [OpenBox-SPO] Iteration 91, objective value: [52.33031088168289].\n"
     ]
    },
    {
     "name": "stderr",
     "output_type": "stream",
     "text": [
      "\r",
      "  9%|██████▉                                                                     | 91/1000 [1:35:10<13:50:27, 54.82s/it]"
     ]
    },
    {
     "name": "stdout",
     "output_type": "stream",
     "text": [
      "[INFO] [2022-06-29 16:10:44,816] [OpenBox-SPO] Iteration 92, objective value: [47.07938452071782].\n"
     ]
    },
    {
     "name": "stderr",
     "output_type": "stream",
     "text": [
      "\r",
      "  9%|██████▉                                                                     | 92/1000 [1:36:03<13:43:31, 54.42s/it]"
     ]
    },
    {
     "name": "stdout",
     "output_type": "stream",
     "text": [
      "[INFO] [2022-06-29 16:11:37,569] [OpenBox-SPO] Iteration 93, objective value: [39.6805362681482].\n"
     ]
    },
    {
     "name": "stderr",
     "output_type": "stream",
     "text": [
      "\r",
      "  9%|███████                                                                     | 93/1000 [1:36:56<13:35:04, 53.92s/it]"
     ]
    },
    {
     "name": "stdout",
     "output_type": "stream",
     "text": [
      "[INFO] [2022-06-29 16:12:30,612] [OpenBox-SPO] Iteration 94, objective value: [34.148654575008635].\n"
     ]
    },
    {
     "name": "stderr",
     "output_type": "stream",
     "text": [
      "\r",
      "  9%|███████▏                                                                    | 94/1000 [1:37:49<13:30:12, 53.66s/it]"
     ]
    },
    {
     "name": "stdout",
     "output_type": "stream",
     "text": [
      "[INFO] [2022-06-29 16:12:30,614] [Advisor] Sample random config. rand_prob=0.100000.\n",
      "[INFO] [2022-06-29 16:12:57,208] [OpenBox-SPO] Iteration 95, objective value: [55.68705381338631].\n"
     ]
    },
    {
     "name": "stderr",
     "output_type": "stream",
     "text": [
      "\r",
      " 10%|███████▏                                                                    | 95/1000 [1:38:15<11:26:51, 45.54s/it]"
     ]
    },
    {
     "name": "stdout",
     "output_type": "stream",
     "text": [
      "[INFO] [2022-06-29 16:13:52,740] [OpenBox-SPO] Iteration 96, objective value: [48.5017938608761].\n"
     ]
    },
    {
     "name": "stderr",
     "output_type": "stream",
     "text": [
      "\r",
      " 10%|███████▎                                                                    | 96/1000 [1:39:11<12:11:16, 48.54s/it]"
     ]
    },
    {
     "name": "stdout",
     "output_type": "stream",
     "text": [
      "[INFO] [2022-06-29 16:14:45,143] [OpenBox-SPO] Iteration 97, objective value: [45.75089428552719].\n"
     ]
    },
    {
     "name": "stderr",
     "output_type": "stream",
     "text": [
      "\r",
      " 10%|███████▎                                                                    | 97/1000 [1:40:03<12:27:55, 49.70s/it]"
     ]
    },
    {
     "name": "stdout",
     "output_type": "stream",
     "text": [
      "[INFO] [2022-06-29 16:15:42,023] [OpenBox-SPO] Iteration 98, objective value: [53.80400939410047].\n"
     ]
    },
    {
     "name": "stderr",
     "output_type": "stream",
     "text": [
      "\r",
      " 10%|███████▍                                                                    | 98/1000 [1:41:00<12:59:30, 51.85s/it]"
     ]
    },
    {
     "name": "stdout",
     "output_type": "stream",
     "text": [
      "[INFO] [2022-06-29 16:15:42,025] [Advisor] Sample random config. rand_prob=0.100000.\n",
      "[INFO] [2022-06-29 16:16:06,917] [OpenBox-SPO] Iteration 99, objective value: [62.52995213905981].\n"
     ]
    },
    {
     "name": "stderr",
     "output_type": "stream",
     "text": [
      "\r",
      " 10%|███████▌                                                                    | 99/1000 [1:41:25<10:57:11, 43.76s/it]"
     ]
    },
    {
     "name": "stdout",
     "output_type": "stream",
     "text": [
      "[INFO] [2022-06-29 16:17:06,895] [OpenBox-SPO] Iteration 100, objective value: [50.071368762558244].\n"
     ]
    },
    {
     "name": "stderr",
     "output_type": "stream",
     "text": [
      "\r",
      " 10%|███████▌                                                                   | 100/1000 [1:42:25<12:09:25, 48.63s/it]"
     ]
    },
    {
     "name": "stdout",
     "output_type": "stream",
     "text": [
      "[INFO] [2022-06-29 16:18:03,122] [OpenBox-SPO] Iteration 101, objective value: [45.28153159512838].\n"
     ]
    },
    {
     "name": "stderr",
     "output_type": "stream",
     "text": [
      "\r",
      " 10%|███████▌                                                                   | 101/1000 [1:43:21<12:42:46, 50.91s/it]"
     ]
    },
    {
     "name": "stdout",
     "output_type": "stream",
     "text": [
      "[INFO] [2022-06-29 16:18:56,530] [OpenBox-SPO] Iteration 102, objective value: [43.782065509657244].\n"
     ]
    },
    {
     "name": "stderr",
     "output_type": "stream",
     "text": [
      "\r",
      " 10%|███████▋                                                                   | 102/1000 [1:44:15<12:53:08, 51.66s/it]"
     ]
    },
    {
     "name": "stdout",
     "output_type": "stream",
     "text": [
      "[INFO] [2022-06-29 16:19:49,417] [OpenBox-SPO] Iteration 103, objective value: [39.02258122207607].\n"
     ]
    },
    {
     "name": "stderr",
     "output_type": "stream",
     "text": [
      "\r",
      " 10%|███████▋                                                                   | 103/1000 [1:45:08<12:57:47, 52.03s/it]"
     ]
    },
    {
     "name": "stdout",
     "output_type": "stream",
     "text": [
      "[INFO] [2022-06-29 16:20:48,035] [OpenBox-SPO] Iteration 104, objective value: [39.7123712339601].\n"
     ]
    },
    {
     "name": "stderr",
     "output_type": "stream",
     "text": [
      "\r",
      " 10%|███████▊                                                                   | 104/1000 [1:46:06<13:26:27, 54.00s/it]"
     ]
    },
    {
     "name": "stdout",
     "output_type": "stream",
     "text": [
      "[INFO] [2022-06-29 16:21:39,965] [OpenBox-SPO] Iteration 105, objective value: [48.25372609924731].\n"
     ]
    },
    {
     "name": "stderr",
     "output_type": "stream",
     "text": [
      "\r",
      " 10%|███████▉                                                                   | 105/1000 [1:46:58<13:16:16, 53.38s/it]"
     ]
    },
    {
     "name": "stdout",
     "output_type": "stream",
     "text": [
      "[INFO] [2022-06-29 16:22:33,941] [OpenBox-SPO] Iteration 106, objective value: [36.53923468510667].\n"
     ]
    },
    {
     "name": "stderr",
     "output_type": "stream",
     "text": [
      "\r",
      " 11%|███████▉                                                                   | 106/1000 [1:47:52<13:18:02, 53.56s/it]"
     ]
    },
    {
     "name": "stdout",
     "output_type": "stream",
     "text": [
      "[INFO] [2022-06-29 16:23:29,626] [OpenBox-SPO] Iteration 107, objective value: [46.64635568507326].\n"
     ]
    },
    {
     "name": "stderr",
     "output_type": "stream",
     "text": [
      "\r",
      " 11%|████████                                                                   | 107/1000 [1:48:48<13:26:38, 54.20s/it]"
     ]
    },
    {
     "name": "stdout",
     "output_type": "stream",
     "text": [
      "[INFO] [2022-06-29 16:24:21,380] [OpenBox-SPO] Iteration 108, objective value: [41.194445858764816].\n"
     ]
    },
    {
     "name": "stderr",
     "output_type": "stream",
     "text": [
      "\r",
      " 11%|████████                                                                   | 108/1000 [1:49:40<13:14:50, 53.46s/it]"
     ]
    },
    {
     "name": "stdout",
     "output_type": "stream",
     "text": [
      "[INFO] [2022-06-29 16:25:11,257] [OpenBox-SPO] Iteration 109, objective value: [46.68467688653275].\n"
     ]
    },
    {
     "name": "stderr",
     "output_type": "stream",
     "text": [
      "\r",
      " 11%|████████▏                                                                  | 109/1000 [1:50:30<12:57:57, 52.39s/it]"
     ]
    },
    {
     "name": "stdout",
     "output_type": "stream",
     "text": [
      "[INFO] [2022-06-29 16:26:02,619] [OpenBox-SPO] Iteration 110, objective value: [42.689642441203944].\n"
     ]
    },
    {
     "name": "stderr",
     "output_type": "stream",
     "text": [
      "\r",
      " 11%|████████▎                                                                  | 110/1000 [1:51:21<12:52:31, 52.08s/it]"
     ]
    },
    {
     "name": "stdout",
     "output_type": "stream",
     "text": [
      "[INFO] [2022-06-29 16:26:55,180] [OpenBox-SPO] Iteration 111, objective value: [42.89624171808518].\n"
     ]
    },
    {
     "name": "stderr",
     "output_type": "stream",
     "text": [
      "\r",
      " 11%|████████▎                                                                  | 111/1000 [1:52:13<12:53:47, 52.22s/it]"
     ]
    },
    {
     "name": "stdout",
     "output_type": "stream",
     "text": [
      "[INFO] [2022-06-29 16:26:55,181] [Advisor] Sample random config. rand_prob=0.100000.\n",
      "[INFO] [2022-06-29 16:27:20,097] [OpenBox-SPO] Iteration 112, objective value: [48.60965678241938].\n"
     ]
    },
    {
     "name": "stderr",
     "output_type": "stream",
     "text": [
      "\r",
      " 11%|████████▍                                                                  | 112/1000 [1:52:38<10:51:40, 44.03s/it]"
     ]
    },
    {
     "name": "stdout",
     "output_type": "stream",
     "text": [
      "[INFO] [2022-06-29 16:28:12,972] [OpenBox-SPO] Iteration 113, objective value: [45.72946467618696].\n"
     ]
    },
    {
     "name": "stderr",
     "output_type": "stream",
     "text": [
      "\r",
      " 11%|████████▍                                                                  | 113/1000 [1:53:31<11:30:09, 46.69s/it]"
     ]
    },
    {
     "name": "stdout",
     "output_type": "stream",
     "text": [
      "[INFO] [2022-06-29 16:29:05,755] [OpenBox-SPO] Iteration 114, objective value: [40.289455545909384].\n"
     ]
    },
    {
     "name": "stderr",
     "output_type": "stream",
     "text": [
      "\r",
      " 11%|████████▌                                                                  | 114/1000 [1:54:24<11:56:23, 48.51s/it]"
     ]
    },
    {
     "name": "stdout",
     "output_type": "stream",
     "text": [
      "[INFO] [2022-06-29 16:29:58,587] [OpenBox-SPO] Iteration 115, objective value: [38.74987294584976].\n"
     ]
    },
    {
     "name": "stderr",
     "output_type": "stream",
     "text": [
      "\r",
      " 12%|████████▋                                                                  | 115/1000 [1:55:17<12:14:41, 49.81s/it]"
     ]
    },
    {
     "name": "stdout",
     "output_type": "stream",
     "text": [
      "[INFO] [2022-06-29 16:30:47,339] [OpenBox-SPO] Iteration 116, objective value: [49.61995955175754].\n"
     ]
    },
    {
     "name": "stderr",
     "output_type": "stream",
     "text": [
      "\r",
      " 12%|████████▋                                                                  | 116/1000 [1:56:06<12:09:11, 49.49s/it]"
     ]
    },
    {
     "name": "stdout",
     "output_type": "stream",
     "text": [
      "[INFO] [2022-06-29 16:31:38,208] [OpenBox-SPO] Iteration 117, objective value: [41.021707559941504].\n"
     ]
    },
    {
     "name": "stderr",
     "output_type": "stream",
     "text": [
      "\r",
      " 12%|████████▊                                                                  | 117/1000 [1:56:56<12:14:26, 49.91s/it]"
     ]
    },
    {
     "name": "stdout",
     "output_type": "stream",
     "text": [
      "[INFO] [2022-06-29 16:32:28,714] [OpenBox-SPO] Iteration 118, objective value: [38.29867036068133].\n"
     ]
    },
    {
     "name": "stderr",
     "output_type": "stream",
     "text": [
      "\r",
      " 12%|████████▊                                                                  | 118/1000 [1:57:47<12:16:15, 50.09s/it]"
     ]
    },
    {
     "name": "stdout",
     "output_type": "stream",
     "text": [
      "[INFO] [2022-06-29 16:33:20,594] [OpenBox-SPO] Iteration 119, objective value: [39.63153419527829].\n"
     ]
    },
    {
     "name": "stderr",
     "output_type": "stream",
     "text": [
      "\r",
      " 12%|████████▉                                                                  | 119/1000 [1:58:39<12:23:19, 50.62s/it]"
     ]
    },
    {
     "name": "stdout",
     "output_type": "stream",
     "text": [
      "[INFO] [2022-06-29 16:34:10,333] [OpenBox-SPO] Iteration 120, objective value: [42.0105585960036].\n"
     ]
    },
    {
     "name": "stderr",
     "output_type": "stream",
     "text": [
      "\r",
      " 12%|█████████                                                                  | 120/1000 [1:59:29<12:18:35, 50.36s/it]"
     ]
    },
    {
     "name": "stdout",
     "output_type": "stream",
     "text": [
      "[INFO] [2022-06-29 16:35:04,088] [OpenBox-SPO] Iteration 121, objective value: [40.09354590369794].\n"
     ]
    },
    {
     "name": "stderr",
     "output_type": "stream",
     "text": [
      "\r",
      " 12%|█████████                                                                  | 121/1000 [2:00:22<12:32:40, 51.38s/it]"
     ]
    },
    {
     "name": "stdout",
     "output_type": "stream",
     "text": [
      "[INFO] [2022-06-29 16:36:00,479] [OpenBox-SPO] Iteration 122, objective value: [42.87579175701899].\n"
     ]
    },
    {
     "name": "stderr",
     "output_type": "stream",
     "text": [
      "\r",
      " 12%|█████████▏                                                                 | 122/1000 [2:01:19<12:53:49, 52.88s/it]"
     ]
    },
    {
     "name": "stdout",
     "output_type": "stream",
     "text": [
      "[INFO] [2022-06-29 16:36:51,289] [OpenBox-SPO] Iteration 123, objective value: [47.62972197760433].\n"
     ]
    },
    {
     "name": "stderr",
     "output_type": "stream",
     "text": [
      "\r",
      " 12%|█████████▏                                                                 | 123/1000 [2:02:10<12:43:52, 52.26s/it]"
     ]
    },
    {
     "name": "stdout",
     "output_type": "stream",
     "text": [
      "[INFO] [2022-06-29 16:37:47,169] [OpenBox-SPO] Iteration 124, objective value: [43.68274686593098].\n"
     ]
    },
    {
     "name": "stderr",
     "output_type": "stream",
     "text": [
      "\r",
      " 12%|█████████▎                                                                 | 124/1000 [2:03:05<12:58:51, 53.35s/it]"
     ]
    },
    {
     "name": "stdout",
     "output_type": "stream",
     "text": [
      "[INFO] [2022-06-29 16:38:42,502] [OpenBox-SPO] Iteration 125, objective value: [39.80263429486].\n"
     ]
    },
    {
     "name": "stderr",
     "output_type": "stream",
     "text": [
      "\r",
      " 12%|█████████▍                                                                 | 125/1000 [2:04:01<13:06:39, 53.94s/it]"
     ]
    },
    {
     "name": "stdout",
     "output_type": "stream",
     "text": [
      "[INFO] [2022-06-29 16:39:39,824] [OpenBox-SPO] Iteration 126, objective value: [38.26848539594438].\n"
     ]
    },
    {
     "name": "stderr",
     "output_type": "stream",
     "text": [
      "\r",
      " 13%|█████████▍                                                                 | 126/1000 [2:04:58<13:20:31, 54.96s/it]"
     ]
    },
    {
     "name": "stdout",
     "output_type": "stream",
     "text": [
      "[INFO] [2022-06-29 16:40:33,144] [OpenBox-SPO] Iteration 127, objective value: [46.294217889213506].\n"
     ]
    },
    {
     "name": "stderr",
     "output_type": "stream",
     "text": [
      "\r",
      " 13%|█████████▌                                                                 | 127/1000 [2:05:51<13:12:28, 54.47s/it]"
     ]
    },
    {
     "name": "stdout",
     "output_type": "stream",
     "text": [
      "[INFO] [2022-06-29 16:41:35,092] [OpenBox-SPO] Iteration 128, objective value: [42.26686709548828].\n"
     ]
    },
    {
     "name": "stderr",
     "output_type": "stream",
     "text": [
      "\r",
      " 13%|█████████▌                                                                 | 128/1000 [2:06:53<13:44:11, 56.71s/it]"
     ]
    },
    {
     "name": "stdout",
     "output_type": "stream",
     "text": [
      "[INFO] [2022-06-29 16:42:38,399] [OpenBox-SPO] Iteration 129, objective value: [41.12674060949576].\n"
     ]
    },
    {
     "name": "stderr",
     "output_type": "stream",
     "text": [
      "\r",
      " 13%|█████████▋                                                                 | 129/1000 [2:07:57<14:11:58, 58.69s/it]"
     ]
    },
    {
     "name": "stdout",
     "output_type": "stream",
     "text": [
      "[INFO] [2022-06-29 16:43:39,300] [OpenBox-SPO] Iteration 130, objective value: [52.78240894873677].\n"
     ]
    },
    {
     "name": "stderr",
     "output_type": "stream",
     "text": [
      "\r",
      " 13%|█████████▊                                                                 | 130/1000 [2:08:58<14:20:36, 59.35s/it]"
     ]
    },
    {
     "name": "stdout",
     "output_type": "stream",
     "text": [
      "[INFO] [2022-06-29 16:44:36,326] [OpenBox-SPO] Iteration 131, objective value: [50.57791053146437].\n"
     ]
    },
    {
     "name": "stderr",
     "output_type": "stream",
     "text": [
      "\r",
      " 13%|█████████▊                                                                 | 131/1000 [2:09:55<14:09:30, 58.65s/it]"
     ]
    },
    {
     "name": "stdout",
     "output_type": "stream",
     "text": [
      "[INFO] [2022-06-29 16:45:36,907] [OpenBox-SPO] Iteration 132, objective value: [41.78520243517239].\n"
     ]
    },
    {
     "name": "stderr",
     "output_type": "stream",
     "text": [
      "\r",
      " 13%|█████████▉                                                                 | 132/1000 [2:10:55<14:16:53, 59.23s/it]"
     ]
    },
    {
     "name": "stdout",
     "output_type": "stream",
     "text": [
      "[INFO] [2022-06-29 16:45:36,908] [Advisor] Sample random config. rand_prob=0.100000.\n",
      "[INFO] [2022-06-29 16:46:06,946] [OpenBox-SPO] Iteration 133, objective value: [56.71148687097348].\n"
     ]
    },
    {
     "name": "stderr",
     "output_type": "stream",
     "text": [
      "\r",
      " 13%|█████████▉                                                                 | 133/1000 [2:11:25<12:09:21, 50.47s/it]"
     ]
    },
    {
     "name": "stdout",
     "output_type": "stream",
     "text": [
      "[INFO] [2022-06-29 16:47:06,652] [OpenBox-SPO] Iteration 134, objective value: [49.432314414143505].\n"
     ]
    },
    {
     "name": "stderr",
     "output_type": "stream",
     "text": [
      "\r",
      " 13%|██████████                                                                 | 134/1000 [2:12:25<12:48:29, 53.24s/it]"
     ]
    },
    {
     "name": "stdout",
     "output_type": "stream",
     "text": [
      "[INFO] [2022-06-29 16:48:06,012] [OpenBox-SPO] Iteration 135, objective value: [40.647335760105264].\n"
     ]
    },
    {
     "name": "stderr",
     "output_type": "stream",
     "text": [
      "\r",
      " 14%|██████████▏                                                                | 135/1000 [2:13:24<13:14:03, 55.08s/it]"
     ]
    },
    {
     "name": "stdout",
     "output_type": "stream",
     "text": [
      "[INFO] [2022-06-29 16:49:05,565] [OpenBox-SPO] Iteration 136, objective value: [39.56332199896686].\n"
     ]
    },
    {
     "name": "stderr",
     "output_type": "stream",
     "text": [
      "\r",
      " 14%|██████████▏                                                                | 136/1000 [2:14:24<13:32:27, 56.42s/it]"
     ]
    },
    {
     "name": "stdout",
     "output_type": "stream",
     "text": [
      "[INFO] [2022-06-29 16:50:00,818] [OpenBox-SPO] Iteration 137, objective value: [43.09096288039606].\n"
     ]
    },
    {
     "name": "stderr",
     "output_type": "stream",
     "text": [
      "\r",
      " 14%|██████████▎                                                                | 137/1000 [2:15:19<13:26:28, 56.07s/it]"
     ]
    },
    {
     "name": "stdout",
     "output_type": "stream",
     "text": [
      "[INFO] [2022-06-29 16:51:02,990] [OpenBox-SPO] Iteration 138, objective value: [35.984392976874204].\n"
     ]
    },
    {
     "name": "stderr",
     "output_type": "stream",
     "text": [
      "\r",
      " 14%|██████████▎                                                                | 138/1000 [2:16:21<13:51:50, 57.90s/it]"
     ]
    },
    {
     "name": "stdout",
     "output_type": "stream",
     "text": [
      "[INFO] [2022-06-29 16:51:54,500] [OpenBox-SPO] Iteration 139, objective value: [38.55767879654722].\n"
     ]
    },
    {
     "name": "stderr",
     "output_type": "stream",
     "text": [
      "\r",
      " 14%|██████████▍                                                                | 139/1000 [2:17:13<13:23:22, 55.98s/it]"
     ]
    },
    {
     "name": "stdout",
     "output_type": "stream",
     "text": [
      "[INFO] [2022-06-29 16:52:47,064] [OpenBox-SPO] Iteration 140, objective value: [45.881292363664194].\n"
     ]
    },
    {
     "name": "stderr",
     "output_type": "stream",
     "text": [
      "\r",
      " 14%|██████████▌                                                                | 140/1000 [2:18:05<13:07:43, 54.96s/it]"
     ]
    },
    {
     "name": "stdout",
     "output_type": "stream",
     "text": [
      "[INFO] [2022-06-29 16:53:43,003] [OpenBox-SPO] Iteration 141, objective value: [38.50859473801185].\n"
     ]
    },
    {
     "name": "stderr",
     "output_type": "stream",
     "text": [
      "\r",
      " 14%|██████████▌                                                                | 141/1000 [2:19:01<13:11:01, 55.25s/it]"
     ]
    },
    {
     "name": "stdout",
     "output_type": "stream",
     "text": [
      "[INFO] [2022-06-29 16:54:37,044] [OpenBox-SPO] Iteration 142, objective value: [37.08335596578858].\n"
     ]
    },
    {
     "name": "stderr",
     "output_type": "stream",
     "text": [
      "\r",
      " 14%|██████████▋                                                                | 142/1000 [2:19:55<13:04:54, 54.89s/it]"
     ]
    },
    {
     "name": "stdout",
     "output_type": "stream",
     "text": [
      "[INFO] [2022-06-29 16:54:37,045] [Advisor] Sample random config. rand_prob=0.100000.\n",
      "[INFO] [2022-06-29 16:55:05,217] [OpenBox-SPO] Iteration 143, objective value: [53.4804208210971].\n"
     ]
    },
    {
     "name": "stderr",
     "output_type": "stream",
     "text": [
      "\r",
      " 14%|██████████▋                                                                | 143/1000 [2:20:23<11:09:31, 46.87s/it]"
     ]
    },
    {
     "name": "stdout",
     "output_type": "stream",
     "text": [
      "[INFO] [2022-06-29 16:55:57,311] [OpenBox-SPO] Iteration 144, objective value: [42.59581805876034].\n"
     ]
    },
    {
     "name": "stderr",
     "output_type": "stream",
     "text": [
      "\r",
      " 14%|██████████▊                                                                | 144/1000 [2:21:16<11:31:04, 48.44s/it]"
     ]
    },
    {
     "name": "stdout",
     "output_type": "stream",
     "text": [
      "[INFO] [2022-06-29 16:56:50,497] [OpenBox-SPO] Iteration 145, objective value: [40.15708070989261].\n"
     ]
    },
    {
     "name": "stderr",
     "output_type": "stream",
     "text": [
      "\r",
      " 14%|██████████▉                                                                | 145/1000 [2:22:09<11:50:33, 49.86s/it]"
     ]
    },
    {
     "name": "stdout",
     "output_type": "stream",
     "text": [
      "[INFO] [2022-06-29 16:57:43,412] [OpenBox-SPO] Iteration 146, objective value: [38.63972853636034].\n"
     ]
    },
    {
     "name": "stderr",
     "output_type": "stream",
     "text": [
      "\r",
      " 15%|██████████▉                                                                | 146/1000 [2:23:02<12:02:45, 50.78s/it]"
     ]
    },
    {
     "name": "stdout",
     "output_type": "stream",
     "text": [
      "[INFO] [2022-06-29 16:58:39,627] [OpenBox-SPO] Iteration 147, objective value: [37.41283966567781].\n"
     ]
    },
    {
     "name": "stderr",
     "output_type": "stream",
     "text": [
      "\r",
      " 15%|███████████                                                                | 147/1000 [2:23:58<12:25:05, 52.41s/it]"
     ]
    },
    {
     "name": "stdout",
     "output_type": "stream",
     "text": [
      "[INFO] [2022-06-29 16:59:32,190] [OpenBox-SPO] Iteration 148, objective value: [38.0336674132436].\n"
     ]
    },
    {
     "name": "stderr",
     "output_type": "stream",
     "text": [
      "\r",
      " 15%|███████████                                                                | 148/1000 [2:24:50<12:24:52, 52.46s/it]"
     ]
    },
    {
     "name": "stdout",
     "output_type": "stream",
     "text": [
      "[INFO] [2022-06-29 16:59:32,192] [Advisor] Sample random config. rand_prob=0.100000.\n",
      "[INFO] [2022-06-29 17:00:04,567] [OpenBox-SPO] Iteration 149, objective value: [56.01694964900608].\n"
     ]
    },
    {
     "name": "stderr",
     "output_type": "stream",
     "text": [
      "\r",
      " 15%|███████████▏                                                               | 149/1000 [2:25:23<10:58:33, 46.43s/it]"
     ]
    },
    {
     "name": "stdout",
     "output_type": "stream",
     "text": [
      "[INFO] [2022-06-29 17:00:53,136] [OpenBox-SPO] Iteration 150, objective value: [46.22466758674448].\n"
     ]
    },
    {
     "name": "stderr",
     "output_type": "stream",
     "text": [
      "\r",
      " 15%|███████████▎                                                               | 150/1000 [2:26:11<11:06:52, 47.07s/it]"
     ]
    },
    {
     "name": "stdout",
     "output_type": "stream",
     "text": [
      "[INFO] [2022-06-29 17:01:50,156] [OpenBox-SPO] Iteration 151, objective value: [40.58751862938112].\n"
     ]
    },
    {
     "name": "stderr",
     "output_type": "stream",
     "text": [
      "\r",
      " 15%|███████████▎                                                               | 151/1000 [2:27:08<11:48:18, 50.06s/it]"
     ]
    },
    {
     "name": "stdout",
     "output_type": "stream",
     "text": [
      "[INFO] [2022-06-29 17:02:44,693] [OpenBox-SPO] Iteration 152, objective value: [41.81843020014643].\n"
     ]
    },
    {
     "name": "stderr",
     "output_type": "stream",
     "text": [
      "\r",
      " 15%|███████████▍                                                               | 152/1000 [2:28:03<12:06:28, 51.40s/it]"
     ]
    },
    {
     "name": "stdout",
     "output_type": "stream",
     "text": [
      "[INFO] [2022-06-29 17:03:43,947] [OpenBox-SPO] Iteration 153, objective value: [38.70522715806695].\n"
     ]
    },
    {
     "name": "stderr",
     "output_type": "stream",
     "text": [
      "\r",
      " 15%|███████████▍                                                               | 153/1000 [2:29:02<12:38:52, 53.76s/it]"
     ]
    },
    {
     "name": "stdout",
     "output_type": "stream",
     "text": [
      "[INFO] [2022-06-29 17:04:44,596] [OpenBox-SPO] Iteration 154, objective value: [40.90373978297104].\n"
     ]
    },
    {
     "name": "stderr",
     "output_type": "stream",
     "text": [
      "\r",
      " 15%|███████████▌                                                               | 154/1000 [2:30:03<13:07:07, 55.82s/it]"
     ]
    },
    {
     "name": "stdout",
     "output_type": "stream",
     "text": [
      "[INFO] [2022-06-29 17:05:37,988] [OpenBox-SPO] Iteration 155, objective value: [48.13411462921674].\n"
     ]
    },
    {
     "name": "stderr",
     "output_type": "stream",
     "text": [
      "\r",
      " 16%|███████████▋                                                               | 155/1000 [2:30:56<12:55:55, 55.09s/it]"
     ]
    },
    {
     "name": "stdout",
     "output_type": "stream",
     "text": [
      "[INFO] [2022-06-29 17:06:33,384] [OpenBox-SPO] Iteration 156, objective value: [43.620481706381064].\n"
     ]
    },
    {
     "name": "stderr",
     "output_type": "stream",
     "text": [
      "\r",
      " 16%|███████████▋                                                               | 156/1000 [2:31:52<12:56:16, 55.19s/it]"
     ]
    },
    {
     "name": "stdout",
     "output_type": "stream",
     "text": [
      "[INFO] [2022-06-29 17:07:33,361] [OpenBox-SPO] Iteration 157, objective value: [44.713881320949596].\n"
     ]
    },
    {
     "name": "stderr",
     "output_type": "stream",
     "text": [
      "\r",
      " 16%|███████████▊                                                               | 157/1000 [2:32:52<13:15:33, 56.62s/it]"
     ]
    },
    {
     "name": "stdout",
     "output_type": "stream",
     "text": [
      "[INFO] [2022-06-29 17:08:30,670] [OpenBox-SPO] Iteration 158, objective value: [39.98818621806183].\n"
     ]
    },
    {
     "name": "stderr",
     "output_type": "stream",
     "text": [
      "\r",
      " 16%|███████████▊                                                               | 158/1000 [2:33:49<13:17:29, 56.83s/it]"
     ]
    },
    {
     "name": "stdout",
     "output_type": "stream",
     "text": [
      "[INFO] [2022-06-29 17:09:28,876] [OpenBox-SPO] Iteration 159, objective value: [41.37355005615857].\n"
     ]
    },
    {
     "name": "stderr",
     "output_type": "stream",
     "text": [
      "\r",
      " 16%|███████████▉                                                               | 159/1000 [2:34:47<13:22:20, 57.24s/it]"
     ]
    },
    {
     "name": "stdout",
     "output_type": "stream",
     "text": [
      "[INFO] [2022-06-29 17:10:26,780] [OpenBox-SPO] Iteration 160, objective value: [38.472139211942626].\n"
     ]
    },
    {
     "name": "stderr",
     "output_type": "stream",
     "text": [
      "\r",
      " 16%|████████████                                                               | 160/1000 [2:35:45<13:24:09, 57.44s/it]"
     ]
    },
    {
     "name": "stdout",
     "output_type": "stream",
     "text": [
      "[INFO] [2022-06-29 17:11:26,418] [OpenBox-SPO] Iteration 161, objective value: [36.97728161526965].\n"
     ]
    },
    {
     "name": "stderr",
     "output_type": "stream",
     "text": [
      "\r",
      " 16%|████████████                                                               | 161/1000 [2:36:45<13:32:25, 58.10s/it]"
     ]
    },
    {
     "name": "stdout",
     "output_type": "stream",
     "text": [
      "[INFO] [2022-06-29 17:12:22,218] [OpenBox-SPO] Iteration 162, objective value: [47.24144022936228].\n"
     ]
    },
    {
     "name": "stderr",
     "output_type": "stream",
     "text": [
      "\r",
      " 16%|████████████▏                                                              | 162/1000 [2:37:40<13:21:49, 57.41s/it]"
     ]
    },
    {
     "name": "stdout",
     "output_type": "stream",
     "text": [
      "[INFO] [2022-06-29 17:13:30,304] [OpenBox-SPO] Iteration 163, objective value: [38.43264627054433].\n"
     ]
    },
    {
     "name": "stderr",
     "output_type": "stream",
     "text": [
      "\r",
      " 16%|████████████▏                                                              | 163/1000 [2:38:49<14:05:32, 60.61s/it]"
     ]
    },
    {
     "name": "stdout",
     "output_type": "stream",
     "text": [
      "[INFO] [2022-06-29 17:14:31,677] [OpenBox-SPO] Iteration 164, objective value: [37.211536546762716].\n"
     ]
    },
    {
     "name": "stderr",
     "output_type": "stream",
     "text": [
      "\r",
      " 16%|████████████▎                                                              | 164/1000 [2:39:50<14:07:42, 60.84s/it]"
     ]
    },
    {
     "name": "stdout",
     "output_type": "stream",
     "text": [
      "[INFO] [2022-06-29 17:15:36,062] [OpenBox-SPO] Iteration 165, objective value: [37.5004097401997].\n"
     ]
    },
    {
     "name": "stderr",
     "output_type": "stream",
     "text": [
      "\r",
      " 16%|████████████▍                                                              | 165/1000 [2:40:54<14:21:29, 61.90s/it]"
     ]
    },
    {
     "name": "stdout",
     "output_type": "stream",
     "text": [
      "[INFO] [2022-06-29 17:16:42,796] [OpenBox-SPO] Iteration 166, objective value: [41.77135867348748].\n"
     ]
    },
    {
     "name": "stderr",
     "output_type": "stream",
     "text": [
      "\r",
      " 17%|████████████▍                                                              | 166/1000 [2:42:01<14:40:36, 63.35s/it]"
     ]
    },
    {
     "name": "stdout",
     "output_type": "stream",
     "text": [
      "[INFO] [2022-06-29 17:16:42,797] [Advisor] Sample random config. rand_prob=0.100000.\n",
      "[INFO] [2022-06-29 17:17:10,015] [OpenBox-SPO] Iteration 167, objective value: [48.94022272860183].\n"
     ]
    },
    {
     "name": "stderr",
     "output_type": "stream",
     "text": [
      "\r",
      " 17%|████████████▌                                                              | 167/1000 [2:42:28<12:09:03, 52.51s/it]"
     ]
    },
    {
     "name": "stdout",
     "output_type": "stream",
     "text": [
      "[INFO] [2022-06-29 17:18:20,833] [OpenBox-SPO] Iteration 168, objective value: [43.447992297392176].\n"
     ]
    },
    {
     "name": "stderr",
     "output_type": "stream",
     "text": [
      "\r",
      " 17%|████████████▌                                                              | 168/1000 [2:43:39<13:24:19, 58.00s/it]"
     ]
    },
    {
     "name": "stdout",
     "output_type": "stream",
     "text": [
      "[INFO] [2022-06-29 17:19:27,855] [OpenBox-SPO] Iteration 169, objective value: [42.22254106950062].\n"
     ]
    },
    {
     "name": "stderr",
     "output_type": "stream",
     "text": [
      "\r",
      " 17%|████████████▋                                                              | 169/1000 [2:44:46<14:00:49, 60.71s/it]"
     ]
    },
    {
     "name": "stdout",
     "output_type": "stream",
     "text": [
      "[INFO] [2022-06-29 17:20:33,011] [OpenBox-SPO] Iteration 170, objective value: [51.880582655171146].\n"
     ]
    },
    {
     "name": "stderr",
     "output_type": "stream",
     "text": [
      "\r",
      " 17%|████████████▊                                                              | 170/1000 [2:45:51<14:18:16, 62.04s/it]"
     ]
    },
    {
     "name": "stdout",
     "output_type": "stream",
     "text": [
      "[INFO] [2022-06-29 17:20:33,014] [Advisor] Sample random config. rand_prob=0.100000.\n",
      "[INFO] [2022-06-29 17:21:03,752] [OpenBox-SPO] Iteration 171, objective value: [60.02193588976351].\n"
     ]
    },
    {
     "name": "stderr",
     "output_type": "stream",
     "text": [
      "\r",
      " 17%|████████████▊                                                              | 171/1000 [2:46:22<12:07:28, 52.65s/it]"
     ]
    },
    {
     "name": "stdout",
     "output_type": "stream",
     "text": [
      "[INFO] [2022-06-29 17:21:03,753] [Advisor] Sample random config. rand_prob=0.100000.\n",
      "[INFO] [2022-06-29 17:21:34,379] [OpenBox-SPO] Iteration 172, objective value: [54.5120432722316].\n"
     ]
    },
    {
     "name": "stderr",
     "output_type": "stream",
     "text": [
      "\r",
      " 17%|████████████▉                                                              | 172/1000 [2:46:53<10:35:25, 46.04s/it]"
     ]
    },
    {
     "name": "stdout",
     "output_type": "stream",
     "text": [
      "[INFO] [2022-06-29 17:22:37,646] [OpenBox-SPO] Iteration 173, objective value: [39.788813836797765].\n"
     ]
    },
    {
     "name": "stderr",
     "output_type": "stream",
     "text": [
      "\r",
      " 17%|████████████▉                                                              | 173/1000 [2:47:56<11:45:52, 51.21s/it]"
     ]
    },
    {
     "name": "stdout",
     "output_type": "stream",
     "text": [
      "[INFO] [2022-06-29 17:23:40,216] [OpenBox-SPO] Iteration 174, objective value: [37.11427319872813].\n"
     ]
    },
    {
     "name": "stderr",
     "output_type": "stream",
     "text": [
      "\r",
      " 17%|█████████████                                                              | 174/1000 [2:48:58<12:31:55, 54.62s/it]"
     ]
    },
    {
     "name": "stdout",
     "output_type": "stream",
     "text": [
      "[INFO] [2022-06-29 17:24:48,673] [OpenBox-SPO] Iteration 175, objective value: [38.66615911909184].\n"
     ]
    },
    {
     "name": "stderr",
     "output_type": "stream",
     "text": [
      "\r",
      " 18%|█████████████▏                                                             | 175/1000 [2:50:07<13:28:05, 58.77s/it]"
     ]
    },
    {
     "name": "stdout",
     "output_type": "stream",
     "text": [
      "[INFO] [2022-06-29 17:25:58,920] [OpenBox-SPO] Iteration 176, objective value: [38.837609620973].\n"
     ]
    },
    {
     "name": "stderr",
     "output_type": "stream",
     "text": [
      "\r",
      " 18%|█████████████▏                                                             | 176/1000 [2:51:17<14:14:23, 62.21s/it]"
     ]
    },
    {
     "name": "stdout",
     "output_type": "stream",
     "text": [
      "[INFO] [2022-06-29 17:27:10,176] [OpenBox-SPO] Iteration 177, objective value: [43.62168372552213].\n"
     ]
    },
    {
     "name": "stderr",
     "output_type": "stream",
     "text": [
      "\r",
      " 18%|█████████████▎                                                             | 177/1000 [2:52:28<14:50:34, 64.93s/it]"
     ]
    },
    {
     "name": "stdout",
     "output_type": "stream",
     "text": [
      "[INFO] [2022-06-29 17:27:10,178] [Advisor] Sample random config. rand_prob=0.100000.\n",
      "[INFO] [2022-06-29 17:27:39,416] [OpenBox-SPO] Iteration 178, objective value: [63.59086462800934].\n"
     ]
    },
    {
     "name": "stderr",
     "output_type": "stream",
     "text": [
      "\r",
      " 18%|█████████████▎                                                             | 178/1000 [2:52:58<12:22:49, 54.22s/it]"
     ]
    },
    {
     "name": "stdout",
     "output_type": "stream",
     "text": [
      "[INFO] [2022-06-29 17:28:43,664] [OpenBox-SPO] Iteration 179, objective value: [40.53472880030065].\n"
     ]
    },
    {
     "name": "stderr",
     "output_type": "stream",
     "text": [
      "\r",
      " 18%|█████████████▍                                                             | 179/1000 [2:54:02<13:03:04, 57.23s/it]"
     ]
    },
    {
     "name": "stdout",
     "output_type": "stream",
     "text": [
      "[INFO] [2022-06-29 17:29:46,740] [OpenBox-SPO] Iteration 180, objective value: [42.544268632529224].\n"
     ]
    },
    {
     "name": "stderr",
     "output_type": "stream",
     "text": [
      "\r",
      " 18%|█████████████▌                                                             | 180/1000 [2:55:05<13:26:06, 58.98s/it]"
     ]
    },
    {
     "name": "stdout",
     "output_type": "stream",
     "text": [
      "[INFO] [2022-06-29 17:30:53,918] [OpenBox-SPO] Iteration 181, objective value: [36.261972801156375].\n"
     ]
    },
    {
     "name": "stderr",
     "output_type": "stream",
     "text": [
      "\r",
      " 18%|█████████████▌                                                             | 181/1000 [2:56:12<13:58:40, 61.44s/it]"
     ]
    },
    {
     "name": "stdout",
     "output_type": "stream",
     "text": [
      "[INFO] [2022-06-29 17:31:59,398] [OpenBox-SPO] Iteration 182, objective value: [35.79791575425037].\n"
     ]
    },
    {
     "name": "stderr",
     "output_type": "stream",
     "text": [
      "\r",
      " 18%|█████████████▋                                                             | 182/1000 [2:57:18<14:14:10, 62.65s/it]"
     ]
    },
    {
     "name": "stdout",
     "output_type": "stream",
     "text": [
      "[INFO] [2022-06-29 17:31:59,400] [Advisor] Sample random config. rand_prob=0.100000.\n",
      "[INFO] [2022-06-29 17:32:23,526] [OpenBox-SPO] Iteration 183, objective value: [58.577371307819156].\n"
     ]
    },
    {
     "name": "stderr",
     "output_type": "stream",
     "text": [
      "\r",
      " 18%|█████████████▋                                                             | 183/1000 [2:57:42<11:35:44, 51.10s/it]"
     ]
    },
    {
     "name": "stdout",
     "output_type": "stream",
     "text": [
      "[INFO] [2022-06-29 17:33:26,141] [OpenBox-SPO] Iteration 184, objective value: [40.32598385806187].\n"
     ]
    },
    {
     "name": "stderr",
     "output_type": "stream",
     "text": [
      "\r",
      " 18%|█████████████▊                                                             | 184/1000 [2:58:44<12:21:54, 54.55s/it]"
     ]
    },
    {
     "name": "stdout",
     "output_type": "stream",
     "text": [
      "[INFO] [2022-06-29 17:34:32,676] [OpenBox-SPO] Iteration 185, objective value: [38.0131557878247].\n"
     ]
    },
    {
     "name": "stderr",
     "output_type": "stream",
     "text": [
      "\r",
      " 18%|█████████████▉                                                             | 185/1000 [2:59:51<13:09:49, 58.15s/it]"
     ]
    },
    {
     "name": "stdout",
     "output_type": "stream",
     "text": [
      "[INFO] [2022-06-29 17:35:41,399] [OpenBox-SPO] Iteration 186, objective value: [40.18921315883684].\n"
     ]
    },
    {
     "name": "stderr",
     "output_type": "stream",
     "text": [
      "\r",
      " 19%|█████████████▉                                                             | 186/1000 [3:01:00<13:51:53, 61.32s/it]"
     ]
    },
    {
     "name": "stdout",
     "output_type": "stream",
     "text": [
      "[INFO] [2022-06-29 17:36:45,693] [OpenBox-SPO] Iteration 187, objective value: [48.954499351703554].\n"
     ]
    },
    {
     "name": "stderr",
     "output_type": "stream",
     "text": [
      "\r",
      " 19%|██████████████                                                             | 187/1000 [3:02:04<14:02:58, 62.21s/it]"
     ]
    },
    {
     "name": "stdout",
     "output_type": "stream",
     "text": [
      "[INFO] [2022-06-29 17:37:57,435] [OpenBox-SPO] Iteration 188, objective value: [42.069197771645776].\n"
     ]
    },
    {
     "name": "stderr",
     "output_type": "stream",
     "text": [
      "\r",
      " 19%|██████████████                                                             | 188/1000 [3:03:16<14:40:37, 65.07s/it]"
     ]
    },
    {
     "name": "stdout",
     "output_type": "stream",
     "text": [
      "[INFO] [2022-06-29 17:39:10,806] [OpenBox-SPO] Iteration 189, objective value: [38.82985880417126].\n"
     ]
    },
    {
     "name": "stderr",
     "output_type": "stream",
     "text": [
      "\r",
      " 19%|██████████████▏                                                            | 189/1000 [3:04:29<15:13:11, 67.56s/it]"
     ]
    },
    {
     "name": "stdout",
     "output_type": "stream",
     "text": [
      "[INFO] [2022-06-29 17:40:26,288] [OpenBox-SPO] Iteration 190, objective value: [37.129575966772656].\n"
     ]
    },
    {
     "name": "stderr",
     "output_type": "stream",
     "text": [
      "\r",
      " 19%|██████████████▎                                                            | 190/1000 [3:05:45<15:44:09, 69.94s/it]"
     ]
    },
    {
     "name": "stdout",
     "output_type": "stream",
     "text": [
      "[INFO] [2022-06-29 17:40:26,291] [Advisor] Sample random config. rand_prob=0.100000.\n",
      "[INFO] [2022-06-29 17:40:59,338] [OpenBox-SPO] Iteration 191, objective value: [63.60816639812056].\n"
     ]
    },
    {
     "name": "stderr",
     "output_type": "stream",
     "text": [
      "\r",
      " 19%|██████████████▎                                                            | 191/1000 [3:06:18<13:13:46, 58.87s/it]"
     ]
    },
    {
     "name": "stdout",
     "output_type": "stream",
     "text": [
      "[INFO] [2022-06-29 17:42:10,703] [OpenBox-SPO] Iteration 192, objective value: [40.59033565231252].\n"
     ]
    },
    {
     "name": "stderr",
     "output_type": "stream",
     "text": [
      "\r",
      " 19%|██████████████▍                                                            | 192/1000 [3:07:29<14:03:16, 62.62s/it]"
     ]
    },
    {
     "name": "stdout",
     "output_type": "stream",
     "text": [
      "[INFO] [2022-06-29 17:43:20,395] [OpenBox-SPO] Iteration 193, objective value: [35.645966989139794].\n"
     ]
    },
    {
     "name": "stderr",
     "output_type": "stream",
     "text": [
      "\r",
      " 19%|██████████████▍                                                            | 193/1000 [3:08:39<14:30:46, 64.74s/it]"
     ]
    },
    {
     "name": "stdout",
     "output_type": "stream",
     "text": [
      "[INFO] [2022-06-29 17:43:20,397] [Advisor] Sample random config. rand_prob=0.100000.\n",
      "[INFO] [2022-06-29 17:43:55,275] [OpenBox-SPO] Iteration 194, objective value: [42.4694888520202].\n"
     ]
    },
    {
     "name": "stderr",
     "output_type": "stream",
     "text": [
      "\r",
      " 19%|██████████████▌                                                            | 194/1000 [3:09:14<12:29:20, 55.78s/it]"
     ]
    }
   ],
   "source": [
    "import SensorOptimizers.BayesianOptimization as bo\n",
    "import numpy as np\n",
    "import pickle\n",
    "\n",
    "acquisition_function = 'kg'\n",
    "acq_optimizer_type = 'auto'\n",
    "ROS = True\n",
    "epsilon = 1\n",
    "error = 0.25\n",
    "multi_objective = False\n",
    "LSsensorsNum = 7\n",
    "ISsensorsNum = 0\n",
    "initial_state = 'random'\n",
    "\n",
    "sensor_types = {\n",
    "    'model_motion_sensor': True,\n",
    "    'model_beacon_sensor': False,\n",
    "    'model_pressure_sensor': False,\n",
    "    'model_accelerometer': False,\n",
    "    'model_electricity_sensor': False\n",
    "}\n",
    "\n",
    "maxSensorNum = int(np.min([(8 / epsilon) * (8 / epsilon), LSsensorsNum]))\n",
    "\n",
    "print('----- Running BO with: \\n \\t - epsilon: ', epsilon, \n",
    "      '\\n \\t - LS sensors #:', LSsensorsNum, \n",
    "      '\\n \\t - IS sensors #:', ISsensorsNum, \n",
    "      ' \\n \\t - initial state: ', initial_state)\n",
    "\n",
    "for i in range(0, 3):\n",
    "    history = bo.run(iteration = 1000, \n",
    "                     epsilon = epsilon, \n",
    "                     error = error,\n",
    "                     ROS = True, \n",
    "                     multi_objective = multi_objective, \n",
    "                     LSmaxSensorNum = maxSensorNum,\n",
    "                     ISmaxSensorNum = ISsensorsNum, \n",
    "                     initial_state = initial_state,\n",
    "                     input_sensor_types = sensor_types,\n",
    "                     acquisition_function = acquisition_function,\n",
    "                     acq_optimizer_type = acq_optimizer_type)\n",
    "\n",
    "    with open('Results_BO/history(IS' + str(ISsensorsNum) + ')_' + str(i), 'wb') as handle:\n",
    "        pickle.dump(history, handle, protocol=pickle.HIGHEST_PROTOCOL)\n",
    "            \n",
    "    print(history)"
   ]
  },
  {
   "cell_type": "code",
   "execution_count": null,
   "metadata": {},
   "outputs": [],
   "source": []
  }
 ],
 "metadata": {
  "kernelspec": {
   "display_name": "Python 3 (ipykernel)",
   "language": "python",
   "name": "python3"
  },
  "language_info": {
   "codemirror_mode": {
    "name": "ipython",
    "version": 3
   },
   "file_extension": ".py",
   "mimetype": "text/x-python",
   "name": "python",
   "nbconvert_exporter": "python",
   "pygments_lexer": "ipython3",
   "version": "3.9.7"
  }
 },
 "nbformat": 4,
 "nbformat_minor": 4
}
