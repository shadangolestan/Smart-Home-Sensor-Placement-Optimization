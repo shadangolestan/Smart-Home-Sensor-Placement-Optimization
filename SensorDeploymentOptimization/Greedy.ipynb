{
 "cells": [
  {
   "cell_type": "code",
   "execution_count": 1,
   "metadata": {
    "scrolled": true
   },
   "outputs": [
    {
     "name": "stdout",
     "output_type": "stream",
     "text": [
      "----- Running BO with: \n",
      " \t - epsilon:  1 \n",
      " \t - LS sensors #: 15 \n",
      " \t - IS sensors #: 0  \n",
      " \t - initial state:  random\n",
      "----- Running SimulatedAnnealing for epsilon = 1\n",
      "Processing Region of Similarity... [COMPLETED]\n",
      "Running Greedy Algorithm...Greedy Performance is:  [(51.69072610027219, 15), (51.65568218904426, 15), (51.65295338635695, 15), (51.31984786160999, 15), (51.094749298901476, 15), (50.81536163262632, 15), (49.07522966599235, 15), (48.806901419434304, 15), (48.7606961719786, 15), (48.28373514757322, 15), (47.654010613238476, 15), (47.53851109910636, 15), (46.94913015737366, 15), (46.89990039502569, 15), (46.53026304785525, 15), (46.3887358796571, 15), (46.268560693501634, 15), (46.05674257284498, 15), (45.984602508507805, 15), (45.71212985301506, 15), (44.20059792502128, 15), (44.12273942195496, 15), (43.539854032150146, 15), (43.33534772354438, 15), (43.221671709595356, 15), (43.20745628131049, 15), (43.123315481579034, 15), (42.66534636348959, 15), (42.460953496153806, 15), (41.49290872946681, 15), (40.75800385419086, 15), (39.367722341788536, 15), (38.59151238042225, 15), (33.91605466800039, 15)]\n",
      "[Done!]\n",
      "number of sensors: 15\n",
      "remaining queries: 384\n"
     ]
    }
   ],
   "source": [
    "\n",
    "import SensorOptimizers.Greedy as gr\n",
    "import numpy as np\n",
    "import pickle\n",
    "\n",
    "ROS = True\n",
    "epsilon = 1\n",
    "multi_objective = False\n",
    "LSsensorsNum = 15\n",
    "ISsensorsNum = 0\n",
    "initial_state = 'random'\n",
    "\n",
    "sensor_types = {\n",
    "    'model_motion_sensor': True,\n",
    "    'model_beacon_sensor': False,\n",
    "    'model_pressure_sensor': False,\n",
    "    'model_accelerometer': False,\n",
    "    'model_electricity_sensor': False\n",
    "}\n",
    "\n",
    "testbed = 'Testbed1/'\n",
    "maxSensorNum = int(np.min([(8 / epsilon) * (8 / epsilon), LSsensorsNum]))\n",
    "\n",
    "# testbed = 'Testbed2/'\n",
    "# maxSensorNum = int(np.min([(5.3 / epsilon) * (8 / epsilon), LSsensorsNum]))\n",
    "\n",
    "print('----- Running BO with: \\n \\t - epsilon: ', epsilon, \n",
    "      '\\n \\t - LS sensors #:', LSsensorsNum, \n",
    "      '\\n \\t - IS sensors #:', ISsensorsNum, \n",
    "      ' \\n \\t - initial state: ', initial_state)\n",
    "\n",
    "for i in range(1, 2):\n",
    "    history = gr.run(testbed = testbed,\n",
    "                     iteration = 1000, \n",
    "                     epsilon = epsilon, \n",
    "                     ROS = True, \n",
    "                     multi_objective = multi_objective, \n",
    "                     LSmaxSensorNum = maxSensorNum, \n",
    "                     ISmaxSensorNum = ISsensorsNum, \n",
    "                     initial_state = initial_state, \n",
    "                     input_sensor_types = sensor_types)\n",
    "\n",
    "    with open('Results_SA/history(LS' + str(LSsensorsNum) + ')_' + str(i), 'wb') as handle:\n",
    "        pickle.dump(history, handle, protocol=pickle.HIGHEST_PROTOCOL)"
   ]
  },
  {
   "cell_type": "code",
   "execution_count": null,
   "metadata": {},
   "outputs": [],
   "source": []
  }
 ],
 "metadata": {
  "kernelspec": {
   "display_name": "Python 3.10.7 64-bit",
   "language": "python",
   "name": "python3"
  },
  "language_info": {
   "codemirror_mode": {
    "name": "ipython",
    "version": 3
   },
   "file_extension": ".py",
   "mimetype": "text/x-python",
   "name": "python",
   "nbconvert_exporter": "python",
   "pygments_lexer": "ipython3",
   "version": "3.10.7"
  },
  "vscode": {
   "interpreter": {
    "hash": "aee8b7b246df8f9039afb4144a1f6fd8d2ca17a180786b69acc140d282b71a49"
   }
  }
 },
 "nbformat": 4,
 "nbformat_minor": 4
}
