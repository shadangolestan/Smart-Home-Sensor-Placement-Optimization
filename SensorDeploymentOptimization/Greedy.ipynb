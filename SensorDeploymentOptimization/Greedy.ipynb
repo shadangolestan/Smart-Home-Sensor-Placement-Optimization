{
 "cells": [
  {
   "cell_type": "code",
   "execution_count": 2,
   "metadata": {
    "scrolled": false
   },
   "outputs": [
    {
     "name": "stdout",
     "output_type": "stream",
     "text": [
      "----- Running BO with: \n",
      " \t - epsilon:  0.5 \n",
      " \t - LS sensors #: 10 \n",
      " \t - IS sensors #: 0  \n",
      " \t - initial state:  random\n",
      "----- Running SimulatedAnnealing for epsilon = 0.5\n",
      "0\n",
      "getting the next generation\n",
      "(epoch 1) ----- The best answer: {53.702414} with (10) number of sensors\n",
      "1\n",
      "getting the next generation\n",
      "(epoch 2) ----- The best answer: {52.743567} with (10) number of sensors\n",
      "2\n",
      "getting the next generation\n",
      "(epoch 3) ----- The best answer: {46.957677} with (10) number of sensors\n",
      "3\n",
      "getting the next generation\n",
      "(epoch 4) ----- The best answer: {46.598103} with (10) number of sensors\n",
      "4\n",
      "getting the next generation\n",
      "(epoch 5) ----- The best answer: {47.911634} with (10) number of sensors\n",
      "5\n",
      "getting the next generation\n",
      "(epoch 6) ----- The best answer: {47.959477} with (10) number of sensors\n",
      "6\n",
      "getting the next generation\n",
      "(epoch 7) ----- The best answer: {49.994818} with (10) number of sensors\n",
      "7\n",
      "getting the next generation\n",
      "(epoch 8) ----- The best answer: {49.695874} with (10) number of sensors\n",
      "8\n",
      "getting the next generation\n",
      "(epoch 9) ----- The best answer: {51.334392} with (10) number of sensors\n",
      "9\n",
      "getting the next generation\n",
      "(epoch 10) ----- The best answer: {53.300733} with (10) number of sensors\n"
     ]
    }
   ],
   "source": [
    "\n",
    "import SensorOptimizers.SimulatedAnnealing as sa\n",
    "import numpy as np\n",
    "import pickle\n",
    "\n",
    "ROS = True\n",
    "epsilon = 0.5\n",
    "multi_objective = False\n",
    "LSsensorsNum = 10\n",
    "ISsensorsNum = 0\n",
    "initial_state = 'random'\n",
    "\n",
    "sensor_types = {\n",
    "    'model_motion_sensor': True,\n",
    "    'model_beacon_sensor': False,\n",
    "    'model_pressure_sensor': False,\n",
    "    'model_accelerometer': False,\n",
    "    'model_electricity_sensor': False\n",
    "}\n",
    "\n",
    "\n",
    "maxSensorNum = int(np.min([(8 / epsilon) * (8 / epsilon), LSsensorsNum]))\n",
    "\n",
    "print('----- Running BO with: \\n \\t - epsilon: ', epsilon, \n",
    "      '\\n \\t - LS sensors #:', LSsensorsNum, \n",
    "      '\\n \\t - IS sensors #:', ISsensorsNum, \n",
    "      ' \\n \\t - initial state: ', initial_state)\n",
    "\n",
    "for i in range(0, 1):\n",
    "    history = sa.run(iteration = 10, \n",
    "                     epsilon = epsilon, \n",
    "                     ROS = True, \n",
    "                     multi_objective = multi_objective, \n",
    "                     LSmaxSensorNum = maxSensorNum,\n",
    "                     ISmaxSensorNum = ISsensorsNum, \n",
    "                     initial_state = initial_state,\n",
    "                     input_sensor_types = sensor_types)\n",
    "\n",
    "    with open('Results_SA/history(IS' + str(ISsensorsNum) + ')_' + str(i), 'wb') as handle:\n",
    "        pickle.dump(history, handle, protocol=pickle.HIGHEST_PROTOCOL)"
   ]
  },
  {
   "cell_type": "code",
   "execution_count": null,
   "metadata": {},
   "outputs": [],
   "source": []
  }
 ],
 "metadata": {
  "kernelspec": {
   "display_name": "Python 3 (ipykernel)",
   "language": "python",
   "name": "python3"
  },
  "language_info": {
   "codemirror_mode": {
    "name": "ipython",
    "version": 3
   },
   "file_extension": ".py",
   "mimetype": "text/x-python",
   "name": "python",
   "nbconvert_exporter": "python",
   "pygments_lexer": "ipython3",
   "version": "3.9.7"
  }
 },
 "nbformat": 4,
 "nbformat_minor": 4
}
