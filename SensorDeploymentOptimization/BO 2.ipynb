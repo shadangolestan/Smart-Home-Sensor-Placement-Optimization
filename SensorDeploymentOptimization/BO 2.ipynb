{
 "cells": [
  {
   "cell_type": "code",
   "execution_count": 4,
   "metadata": {
    "scrolled": true
   },
   "outputs": [
    {
     "name": "stdout",
     "output_type": "stream",
     "text": [
      "----- Running BO with: \n",
      " \t - epsilon:  0.5 \n",
      " \t - LS sensors #: 11 \n",
      " \t - IS sensors #: 3  \n",
      " \t - initial state:  random\n",
      "Processing Region of Similarity... [COMPLETED]\n",
      "here 1\n",
      "[INFO] [2022-11-14 11:27:25,668] [Advisor] === [BO auto selection] === surrogate_type: prf. acq_optimizer_type: local_random.\n",
      "**************************************************\n",
      "self.acq_type  ei\n",
      "acq_optimizer_type  local_random\n",
      "self.num_objs  1\n",
      "self.surrogate_model  None\n",
      "self.num_constraints  0\n",
      "**************************************************\n",
      "[Build Surrogate] Use probabilistic random forest based on scikit-learn. For better performance, please install pyrfr: https://open-box.readthedocs.io/en/latest/installation/install_pyrfr.html\n",
      "<class 'openbox.core.generic_advisor.Advisor'>\n"
     ]
    },
    {
     "name": "stderr",
     "output_type": "stream",
     "text": [
      "  0%|          | 0/1000 [00:00<?, ?it/s]"
     ]
    },
    {
     "name": "stdout",
     "output_type": "stream",
     "text": [
      "[INFO] [2022-11-14 11:30:52,155] [OpenBox-SPO] Iteration 1, objective value: [52.201898086041965].\n"
     ]
    },
    {
     "name": "stderr",
     "output_type": "stream",
     "text": [
      "  0%|          | 1/1000 [03:26<57:17:42, 206.47s/it]"
     ]
    },
    {
     "name": "stdout",
     "output_type": "stream",
     "text": [
      "[INFO] [2022-11-14 11:35:26,173] [OpenBox-SPO] Iteration 2, objective value: [46.607743906199].\n"
     ]
    },
    {
     "name": "stderr",
     "output_type": "stream",
     "text": [
      "  0%|          | 2/1000 [08:00<68:15:11, 246.20s/it]"
     ]
    },
    {
     "name": "stdout",
     "output_type": "stream",
     "text": [
      "[INFO] [2022-11-14 11:39:24,561] [OpenBox-SPO] Iteration 3, objective value: [41.833592997346194].\n"
     ]
    },
    {
     "name": "stderr",
     "output_type": "stream",
     "text": [
      "  0%|          | 3/1000 [11:58<67:11:47, 242.64s/it]"
     ]
    },
    {
     "name": "stdout",
     "output_type": "stream",
     "text": [
      "[INFO] [2022-11-14 11:42:48,086] [OpenBox-SPO] Iteration 4, objective value: [45.13224057757404].\n"
     ]
    },
    {
     "name": "stderr",
     "output_type": "stream",
     "text": [
      "  0%|          | 4/1000 [15:22<62:51:25, 227.19s/it]"
     ]
    },
    {
     "name": "stdout",
     "output_type": "stream",
     "text": [
      "[INFO] [2022-11-14 11:46:39,481] [OpenBox-SPO] Iteration 5, objective value: [45.540810474298695].\n"
     ]
    },
    {
     "name": "stderr",
     "output_type": "stream",
     "text": [
      "  0%|          | 5/1000 [19:13<63:12:45, 228.71s/it]"
     ]
    },
    {
     "name": "stdout",
     "output_type": "stream",
     "text": [
      "[INFO] [2022-11-14 11:50:59,126] [OpenBox-SPO] Iteration 6, objective value: [43.43168148368287].\n"
     ]
    },
    {
     "name": "stderr",
     "output_type": "stream",
     "text": [
      "  1%|          | 6/1000 [23:33<66:03:11, 239.23s/it]"
     ]
    },
    {
     "name": "stdout",
     "output_type": "stream",
     "text": [
      "[INFO] [2022-11-14 11:55:17,849] [OpenBox-SPO] Iteration 7, objective value: [48.757748932045054].\n"
     ]
    },
    {
     "name": "stderr",
     "output_type": "stream",
     "text": [
      "  1%|          | 7/1000 [27:52<67:44:41, 245.60s/it]"
     ]
    },
    {
     "name": "stdout",
     "output_type": "stream",
     "text": [
      "[INFO] [2022-11-14 11:55:17,853] [Advisor] Sample random config. rand_prob=0.100000.\n",
      "[INFO] [2022-11-14 11:58:23,873] [OpenBox-SPO] Iteration 8, objective value: [44.226674263413436].\n"
     ]
    },
    {
     "name": "stderr",
     "output_type": "stream",
     "text": [
      "  1%|          | 8/1000 [30:58<62:27:01, 226.63s/it]"
     ]
    },
    {
     "name": "stdout",
     "output_type": "stream",
     "text": [
      "[INFO] [2022-11-14 12:02:07,058] [OpenBox-SPO] Iteration 9, objective value: [57.0324162396406].\n"
     ]
    },
    {
     "name": "stderr",
     "output_type": "stream",
     "text": [
      "  1%|          | 9/1000 [34:41<62:05:27, 225.56s/it]"
     ]
    },
    {
     "name": "stdout",
     "output_type": "stream",
     "text": [
      "[INFO] [2022-11-14 12:06:06,306] [OpenBox-SPO] Iteration 10, objective value: [48.99504053993846].\n"
     ]
    },
    {
     "name": "stderr",
     "output_type": "stream",
     "text": [
      "  1%|          | 10/1000 [38:40<63:11:24, 229.78s/it]"
     ]
    },
    {
     "name": "stdout",
     "output_type": "stream",
     "text": [
      "[INFO] [2022-11-14 12:09:50,907] [OpenBox-SPO] Iteration 11, objective value: [49.524338260459764].\n"
     ]
    },
    {
     "name": "stderr",
     "output_type": "stream",
     "text": [
      "  1%|          | 11/1000 [42:25<62:41:26, 228.20s/it]"
     ]
    },
    {
     "name": "stdout",
     "output_type": "stream",
     "text": [
      "[INFO] [2022-11-14 12:14:17,845] [OpenBox-SPO] Iteration 12, objective value: [50.055961697011334].\n"
     ]
    },
    {
     "name": "stderr",
     "output_type": "stream",
     "text": [
      "  1%|          | 12/1000 [46:52<65:51:42, 239.98s/it]"
     ]
    },
    {
     "name": "stdout",
     "output_type": "stream",
     "text": [
      "[INFO] [2022-11-14 12:18:05,123] [OpenBox-SPO] Iteration 13, objective value: [48.90378422643587].\n"
     ]
    },
    {
     "name": "stderr",
     "output_type": "stream",
     "text": [
      "  1%|▏         | 13/1000 [50:39<64:44:25, 236.13s/it]"
     ]
    },
    {
     "name": "stdout",
     "output_type": "stream",
     "text": [
      "[INFO] [2022-11-14 12:18:05,134] [Advisor] Sample random config. rand_prob=0.100000.\n",
      "[INFO] [2022-11-14 12:20:42,879] [OpenBox-SPO] Iteration 14, objective value: [45.93638553940772].\n"
     ]
    },
    {
     "name": "stderr",
     "output_type": "stream",
     "text": [
      "  1%|▏         | 14/1000 [53:17<58:11:25, 212.46s/it]"
     ]
    },
    {
     "name": "stdout",
     "output_type": "stream",
     "text": [
      "[INFO] [2022-11-14 12:20:42,883] [Advisor] Sample random config. rand_prob=0.100000.\n",
      "[INFO] [2022-11-14 12:23:38,844] [OpenBox-SPO] Iteration 15, objective value: [46.63964068271724].\n"
     ]
    },
    {
     "name": "stderr",
     "output_type": "stream",
     "text": [
      "  2%|▏         | 15/1000 [56:13<55:07:17, 201.46s/it]"
     ]
    },
    {
     "name": "stdout",
     "output_type": "stream",
     "text": [
      "[INFO] [2022-11-14 12:27:37,631] [OpenBox-SPO] Iteration 16, objective value: [45.23118530450599].\n"
     ]
    },
    {
     "name": "stderr",
     "output_type": "stream",
     "text": [
      "  2%|▏         | 16/1000 [1:00:11<58:08:11, 212.69s/it]"
     ]
    },
    {
     "name": "stdout",
     "output_type": "stream",
     "text": [
      "[INFO] [2022-11-14 12:31:59,669] [OpenBox-SPO] Iteration 17, objective value: [46.20635613210913].\n"
     ]
    },
    {
     "name": "stderr",
     "output_type": "stream",
     "text": [
      "  2%|▏         | 17/1000 [1:04:33<62:07:43, 227.53s/it]"
     ]
    },
    {
     "name": "stdout",
     "output_type": "stream",
     "text": [
      "[INFO] [2022-11-14 12:36:00,158] [OpenBox-SPO] Iteration 18, objective value: [46.7435460710099].\n"
     ]
    },
    {
     "name": "stderr",
     "output_type": "stream",
     "text": [
      "  2%|▏         | 18/1000 [1:08:34<63:07:39, 231.43s/it]"
     ]
    },
    {
     "name": "stdout",
     "output_type": "stream",
     "text": [
      "[INFO] [2022-11-14 12:39:35,590] [OpenBox-SPO] Iteration 19, objective value: [44.187372403280214].\n"
     ]
    },
    {
     "name": "stderr",
     "output_type": "stream",
     "text": [
      "  2%|▏         | 19/1000 [1:12:09<61:45:16, 226.62s/it]"
     ]
    },
    {
     "name": "stdout",
     "output_type": "stream",
     "text": [
      "[INFO] [2022-11-14 12:43:34,095] [OpenBox-SPO] Iteration 20, objective value: [54.07223044713751].\n"
     ]
    },
    {
     "name": "stderr",
     "output_type": "stream",
     "text": [
      "  2%|▏         | 20/1000 [1:16:08<62:39:46, 230.19s/it]"
     ]
    },
    {
     "name": "stdout",
     "output_type": "stream",
     "text": [
      "[INFO] [2022-11-14 12:47:45,508] [OpenBox-SPO] Iteration 21, objective value: [45.85323485555226].\n"
     ]
    },
    {
     "name": "stderr",
     "output_type": "stream",
     "text": [
      "  2%|▏         | 21/1000 [1:20:19<64:19:52, 236.56s/it]"
     ]
    },
    {
     "name": "stdout",
     "output_type": "stream",
     "text": [
      "[INFO] [2022-11-14 12:47:45,511] [Advisor] Sample random config. rand_prob=0.100000.\n",
      "[INFO] [2022-11-14 12:51:01,055] [OpenBox-SPO] Iteration 22, objective value: [49.298153875943285].\n"
     ]
    },
    {
     "name": "stderr",
     "output_type": "stream",
     "text": [
      "  2%|▏         | 22/1000 [1:23:35<60:55:18, 224.25s/it]"
     ]
    },
    {
     "name": "stdout",
     "output_type": "stream",
     "text": [
      "[INFO] [2022-11-14 12:51:01,061] [Advisor] Sample random config. rand_prob=0.100000.\n",
      "[INFO] [2022-11-14 12:55:27,993] [OpenBox-SPO] Iteration 23, objective value: [47.284003813942135].\n"
     ]
    },
    {
     "name": "stderr",
     "output_type": "stream",
     "text": [
      "  2%|▏         | 23/1000 [1:28:02<64:20:08, 237.06s/it]"
     ]
    },
    {
     "name": "stdout",
     "output_type": "stream",
     "text": [
      "[INFO] [2022-11-14 13:01:31,699] [OpenBox-SPO] Iteration 24, objective value: [42.87040876119477].\n"
     ]
    },
    {
     "name": "stderr",
     "output_type": "stream",
     "text": [
      "  2%|▏         | 24/1000 [1:34:06<74:34:20, 275.06s/it]"
     ]
    },
    {
     "name": "stdout",
     "output_type": "stream",
     "text": [
      "[INFO] [2022-11-14 13:08:22,264] [OpenBox-SPO] Iteration 25, objective value: [48.77044062805555].\n"
     ]
    },
    {
     "name": "stderr",
     "output_type": "stream",
     "text": [
      "  2%|▎         | 25/1000 [1:40:56<85:30:25, 315.72s/it]"
     ]
    },
    {
     "name": "stdout",
     "output_type": "stream",
     "text": [
      "[INFO] [2022-11-14 13:14:29,260] [OpenBox-SPO] Iteration 26, objective value: [48.73405232840968].\n"
     ]
    },
    {
     "name": "stderr",
     "output_type": "stream",
     "text": [
      "  3%|▎         | 26/1000 [1:47:03<89:34:55, 331.10s/it]"
     ]
    },
    {
     "name": "stdout",
     "output_type": "stream",
     "text": [
      "[INFO] [2022-11-14 13:19:46,570] [OpenBox-SPO] Iteration 27, objective value: [46.82353822215213].\n"
     ]
    },
    {
     "name": "stderr",
     "output_type": "stream",
     "text": [
      "  3%|▎         | 27/1000 [1:52:20<88:22:15, 326.96s/it]"
     ]
    },
    {
     "name": "stdout",
     "output_type": "stream",
     "text": [
      "[INFO] [2022-11-14 13:25:45,358] [OpenBox-SPO] Iteration 28, objective value: [49.70907537943996].\n"
     ]
    },
    {
     "name": "stderr",
     "output_type": "stream",
     "text": [
      "  3%|▎         | 28/1000 [1:58:19<90:51:29, 336.51s/it]"
     ]
    },
    {
     "name": "stdout",
     "output_type": "stream",
     "text": [
      "[INFO] [2022-11-14 13:29:56,165] [OpenBox-SPO] Iteration 29, objective value: [50.15199715293428].\n"
     ]
    },
    {
     "name": "stderr",
     "output_type": "stream",
     "text": [
      "  3%|▎         | 29/1000 [2:02:30<83:49:46, 310.80s/it]"
     ]
    },
    {
     "name": "stdout",
     "output_type": "stream",
     "text": [
      "[INFO] [2022-11-14 13:34:16,080] [OpenBox-SPO] Iteration 30, objective value: [50.964011677603736].\n"
     ]
    },
    {
     "name": "stderr",
     "output_type": "stream",
     "text": [
      "  3%|▎         | 30/1000 [2:06:50<79:37:47, 295.53s/it]"
     ]
    },
    {
     "name": "stdout",
     "output_type": "stream",
     "text": [
      "[INFO] [2022-11-14 13:36:37,386] [OpenBox-SPO] Iteration 31, objective value: [45.00368813081679].\n"
     ]
    },
    {
     "name": "stderr",
     "output_type": "stream",
     "text": [
      "  3%|▎         | 31/1000 [2:09:11<67:05:37, 249.26s/it]"
     ]
    },
    {
     "name": "stdout",
     "output_type": "stream",
     "text": [
      "[INFO] [2022-11-14 13:36:37,389] [Advisor] Sample random config. rand_prob=0.100000.\n",
      "[INFO] [2022-11-14 13:37:56,352] [OpenBox-SPO] Iteration 32, objective value: [46.06411784827926].\n"
     ]
    },
    {
     "name": "stderr",
     "output_type": "stream",
     "text": [
      "  3%|▎         | 32/1000 [2:10:30<53:17:12, 198.17s/it]"
     ]
    },
    {
     "name": "stdout",
     "output_type": "stream",
     "text": [
      "[INFO] [2022-11-14 13:40:20,953] [OpenBox-SPO] Iteration 33, objective value: [44.261727841112496].\n"
     ]
    },
    {
     "name": "stderr",
     "output_type": "stream",
     "text": [
      "  3%|▎         | 33/1000 [2:12:55<48:54:52, 182.10s/it]"
     ]
    },
    {
     "name": "stdout",
     "output_type": "stream",
     "text": [
      "[INFO] [2022-11-14 13:40:20,955] [Advisor] Sample random config. rand_prob=0.100000.\n",
      "[INFO] [2022-11-14 13:41:23,747] [OpenBox-SPO] Iteration 34, objective value: [51.77277690094632].\n"
     ]
    },
    {
     "name": "stderr",
     "output_type": "stream",
     "text": [
      "  3%|▎         | 34/1000 [2:13:58<39:15:35, 146.31s/it]"
     ]
    },
    {
     "name": "stdout",
     "output_type": "stream",
     "text": [
      "[INFO] [2022-11-14 13:41:23,750] [Advisor] Sample random config. rand_prob=0.100000.\n",
      "[INFO] [2022-11-14 13:42:41,212] [OpenBox-SPO] Iteration 35, objective value: [52.02262495079595].\n"
     ]
    },
    {
     "name": "stderr",
     "output_type": "stream",
     "text": [
      "  4%|▎         | 35/1000 [2:15:15<33:40:58, 125.66s/it]"
     ]
    },
    {
     "name": "stdout",
     "output_type": "stream",
     "text": [
      "[INFO] [2022-11-14 13:44:38,002] [OpenBox-SPO] Iteration 36, objective value: [54.6346182333829].\n"
     ]
    },
    {
     "name": "stderr",
     "output_type": "stream",
     "text": [
      "  4%|▎         | 36/1000 [2:17:12<32:56:08, 123.00s/it]"
     ]
    },
    {
     "name": "stdout",
     "output_type": "stream",
     "text": [
      "[INFO] [2022-11-14 13:46:24,401] [OpenBox-SPO] Iteration 37, objective value: [46.43339738456523].\n"
     ]
    },
    {
     "name": "stderr",
     "output_type": "stream",
     "text": [
      "  4%|▎         | 37/1000 [2:18:58<31:34:10, 118.02s/it]"
     ]
    },
    {
     "name": "stdout",
     "output_type": "stream",
     "text": [
      "[INFO] [2022-11-14 13:48:22,487] [OpenBox-SPO] Iteration 38, objective value: [48.694514963346315].\n"
     ]
    },
    {
     "name": "stderr",
     "output_type": "stream",
     "text": [
      "  4%|▍         | 38/1000 [2:20:56<31:32:32, 118.04s/it]"
     ]
    },
    {
     "name": "stdout",
     "output_type": "stream",
     "text": [
      "[INFO] [2022-11-14 13:48:22,489] [Advisor] Sample random config. rand_prob=0.100000.\n",
      "[INFO] [2022-11-14 13:49:46,257] [OpenBox-SPO] Iteration 39, objective value: [47.96473710969049].\n"
     ]
    },
    {
     "name": "stderr",
     "output_type": "stream",
     "text": [
      "  4%|▍         | 39/1000 [2:22:20<28:45:54, 107.76s/it]"
     ]
    },
    {
     "name": "stdout",
     "output_type": "stream",
     "text": [
      "[INFO] [2022-11-14 13:53:05,025] [OpenBox-SPO] Iteration 40, objective value: [54.130336830205174].\n"
     ]
    },
    {
     "name": "stderr",
     "output_type": "stream",
     "text": [
      "  4%|▍         | 40/1000 [2:25:39<36:00:58, 135.06s/it]"
     ]
    },
    {
     "name": "stdout",
     "output_type": "stream",
     "text": [
      "[INFO] [2022-11-14 13:56:54,239] [OpenBox-SPO] Iteration 41, objective value: [44.70750218296104].\n"
     ]
    },
    {
     "name": "stderr",
     "output_type": "stream",
     "text": [
      "  4%|▍         | 41/1000 [2:29:28<43:30:11, 163.31s/it]"
     ]
    },
    {
     "name": "stdout",
     "output_type": "stream",
     "text": [
      "[INFO] [2022-11-14 14:00:39,768] [OpenBox-SPO] Iteration 42, objective value: [45.713026519921065].\n"
     ]
    },
    {
     "name": "stderr",
     "output_type": "stream",
     "text": [
      "  4%|▍         | 42/1000 [2:33:14<48:25:30, 181.97s/it]"
     ]
    },
    {
     "name": "stdout",
     "output_type": "stream",
     "text": [
      "[INFO] [2022-11-14 14:00:39,771] [Advisor] Sample random config. rand_prob=0.100000.\n",
      "[INFO] [2022-11-14 14:02:23,581] [OpenBox-SPO] Iteration 43, objective value: [44.18289200177902].\n"
     ]
    },
    {
     "name": "stderr",
     "output_type": "stream",
     "text": [
      "  4%|▍         | 43/1000 [2:34:57<42:08:28, 158.53s/it]"
     ]
    },
    {
     "name": "stdout",
     "output_type": "stream",
     "text": [
      "[INFO] [2022-11-14 14:04:30,327] [OpenBox-SPO] Iteration 44, objective value: [46.36657122852672].\n"
     ]
    },
    {
     "name": "stderr",
     "output_type": "stream",
     "text": [
      "  4%|▍         | 44/1000 [2:37:04<39:33:55, 148.99s/it]"
     ]
    },
    {
     "name": "stdout",
     "output_type": "stream",
     "text": [
      "[INFO] [2022-11-14 14:06:33,532] [OpenBox-SPO] Iteration 45, objective value: [46.46452541325742].\n"
     ]
    },
    {
     "name": "stderr",
     "output_type": "stream",
     "text": [
      "  4%|▍         | 45/1000 [2:39:07<37:28:18, 141.26s/it]"
     ]
    },
    {
     "name": "stdout",
     "output_type": "stream",
     "text": [
      "[INFO] [2022-11-14 14:08:37,452] [OpenBox-SPO] Iteration 46, objective value: [49.345286595223726].\n"
     ]
    },
    {
     "name": "stderr",
     "output_type": "stream",
     "text": [
      "  5%|▍         | 46/1000 [2:41:11<36:03:16, 136.05s/it]"
     ]
    },
    {
     "name": "stdout",
     "output_type": "stream",
     "text": [
      "[INFO] [2022-11-14 14:10:35,323] [OpenBox-SPO] Iteration 47, objective value: [46.84189937536264].\n"
     ]
    },
    {
     "name": "stderr",
     "output_type": "stream",
     "text": [
      "  5%|▍         | 47/1000 [2:43:09<34:34:21, 130.60s/it]"
     ]
    },
    {
     "name": "stdout",
     "output_type": "stream",
     "text": [
      "[INFO] [2022-11-14 14:12:24,635] [OpenBox-SPO] Iteration 48, objective value: [44.90904787434975].\n"
     ]
    },
    {
     "name": "stderr",
     "output_type": "stream",
     "text": [
      "  5%|▍         | 48/1000 [2:44:58<32:50:51, 124.21s/it]"
     ]
    },
    {
     "name": "stdout",
     "output_type": "stream",
     "text": [
      "[INFO] [2022-11-14 14:12:24,637] [Advisor] Sample random config. rand_prob=0.100000.\n",
      "[INFO] [2022-11-14 14:13:56,042] [OpenBox-SPO] Iteration 49, objective value: [45.86622780259111].\n"
     ]
    },
    {
     "name": "stderr",
     "output_type": "stream",
     "text": [
      "  5%|▍         | 49/1000 [2:46:30<30:12:47, 114.37s/it]"
     ]
    },
    {
     "name": "stdout",
     "output_type": "stream",
     "text": [
      "[INFO] [2022-11-14 14:13:56,044] [Advisor] Sample random config. rand_prob=0.100000.\n",
      "[INFO] [2022-11-14 14:15:01,672] [OpenBox-SPO] Iteration 50, objective value: [50.780389169445314].\n"
     ]
    },
    {
     "name": "stderr",
     "output_type": "stream",
     "text": [
      "  5%|▌         | 50/1000 [2:47:35<26:19:21, 99.75s/it] "
     ]
    },
    {
     "name": "stdout",
     "output_type": "stream",
     "text": [
      "[INFO] [2022-11-14 14:17:10,315] [OpenBox-SPO] Iteration 51, objective value: [46.9378191219651].\n"
     ]
    },
    {
     "name": "stderr",
     "output_type": "stream",
     "text": [
      "  5%|▌         | 51/1000 [2:49:44<28:34:47, 108.42s/it]"
     ]
    },
    {
     "name": "stdout",
     "output_type": "stream",
     "text": [
      "[INFO] [2022-11-14 14:19:47,172] [OpenBox-SPO] Iteration 52, objective value: [50.492395244485024].\n"
     ]
    },
    {
     "name": "stderr",
     "output_type": "stream",
     "text": [
      "  5%|▌         | 52/1000 [2:52:21<32:22:35, 122.95s/it]"
     ]
    },
    {
     "name": "stdout",
     "output_type": "stream",
     "text": [
      "[INFO] [2022-11-14 14:21:49,627] [OpenBox-SPO] Iteration 53, objective value: [46.39389705927704].\n"
     ]
    },
    {
     "name": "stderr",
     "output_type": "stream",
     "text": [
      "  5%|▌         | 53/1000 [2:54:23<32:18:12, 122.80s/it]"
     ]
    },
    {
     "name": "stdout",
     "output_type": "stream",
     "text": [
      "[INFO] [2022-11-14 14:23:47,245] [OpenBox-SPO] Iteration 54, objective value: [42.54662049566551].\n"
     ]
    },
    {
     "name": "stderr",
     "output_type": "stream",
     "text": [
      "  5%|▌         | 54/1000 [2:56:21<31:51:38, 121.25s/it]"
     ]
    },
    {
     "name": "stdout",
     "output_type": "stream",
     "text": [
      "[INFO] [2022-11-14 14:25:30,370] [OpenBox-SPO] Iteration 55, objective value: [53.652568695167915].\n"
     ]
    },
    {
     "name": "stderr",
     "output_type": "stream",
     "text": [
      "  6%|▌         | 55/1000 [2:58:04<30:24:00, 115.81s/it]"
     ]
    },
    {
     "name": "stdout",
     "output_type": "stream",
     "text": [
      "[INFO] [2022-11-14 14:25:30,375] [Advisor] Sample random config. rand_prob=0.100000.\n",
      "[INFO] [2022-11-14 14:26:52,596] [OpenBox-SPO] Iteration 56, objective value: [57.78899259304315].\n"
     ]
    },
    {
     "name": "stderr",
     "output_type": "stream",
     "text": [
      "  6%|▌         | 56/1000 [2:59:26<27:43:33, 105.73s/it]"
     ]
    },
    {
     "name": "stdout",
     "output_type": "stream",
     "text": [
      "[INFO] [2022-11-14 14:28:33,982] [OpenBox-SPO] Iteration 57, objective value: [47.2821378343964].\n"
     ]
    },
    {
     "name": "stderr",
     "output_type": "stream",
     "text": [
      "  6%|▌         | 57/1000 [3:01:08<27:21:17, 104.43s/it]"
     ]
    },
    {
     "name": "stdout",
     "output_type": "stream",
     "text": [
      "[INFO] [2022-11-14 14:30:40,746] [OpenBox-SPO] Iteration 58, objective value: [40.214529867592205].\n"
     ]
    },
    {
     "name": "stderr",
     "output_type": "stream",
     "text": [
      "  6%|▌         | 58/1000 [3:03:15<29:04:44, 111.13s/it]"
     ]
    },
    {
     "name": "stdout",
     "output_type": "stream",
     "text": [
      "[INFO] [2022-11-14 14:32:31,874] [OpenBox-SPO] Iteration 59, objective value: [46.686496636761376].\n"
     ]
    },
    {
     "name": "stderr",
     "output_type": "stream",
     "text": [
      "  6%|▌         | 59/1000 [3:05:06<29:02:52, 111.13s/it]"
     ]
    },
    {
     "name": "stdout",
     "output_type": "stream",
     "text": [
      "[INFO] [2022-11-14 14:32:31,877] [Advisor] Sample random config. rand_prob=0.100000.\n",
      "[INFO] [2022-11-14 14:33:52,940] [OpenBox-SPO] Iteration 60, objective value: [56.43474203997382].\n"
     ]
    },
    {
     "name": "stderr",
     "output_type": "stream",
     "text": [
      "  6%|▌         | 60/1000 [3:06:27<26:39:43, 102.11s/it]"
     ]
    },
    {
     "name": "stdout",
     "output_type": "stream",
     "text": [
      "[INFO] [2022-11-14 14:35:41,523] [OpenBox-SPO] Iteration 61, objective value: [45.21426788003728].\n"
     ]
    },
    {
     "name": "stderr",
     "output_type": "stream",
     "text": [
      "  6%|▌         | 61/1000 [3:08:15<27:08:25, 104.05s/it]"
     ]
    },
    {
     "name": "stdout",
     "output_type": "stream",
     "text": [
      "[INFO] [2022-11-14 14:37:33,316] [OpenBox-SPO] Iteration 62, objective value: [55.83903918588794].\n"
     ]
    },
    {
     "name": "stderr",
     "output_type": "stream",
     "text": [
      "  6%|▌         | 62/1000 [3:10:07<27:42:59, 106.37s/it]"
     ]
    },
    {
     "name": "stdout",
     "output_type": "stream",
     "text": [
      "[INFO] [2022-11-14 14:39:37,507] [OpenBox-SPO] Iteration 63, objective value: [48.76555513067547].\n"
     ]
    },
    {
     "name": "stderr",
     "output_type": "stream",
     "text": [
      "  6%|▋         | 63/1000 [3:12:11<29:04:41, 111.72s/it]"
     ]
    },
    {
     "name": "stdout",
     "output_type": "stream",
     "text": [
      "[INFO] [2022-11-14 14:41:44,724] [OpenBox-SPO] Iteration 64, objective value: [54.04044520994768].\n"
     ]
    },
    {
     "name": "stderr",
     "output_type": "stream",
     "text": [
      "  6%|▋         | 64/1000 [3:14:19<30:15:20, 116.37s/it]"
     ]
    },
    {
     "name": "stdout",
     "output_type": "stream",
     "text": [
      "[INFO] [2022-11-14 14:43:34,423] [OpenBox-SPO] Iteration 65, objective value: [46.20333481180189].\n"
     ]
    },
    {
     "name": "stderr",
     "output_type": "stream",
     "text": [
      "  6%|▋         | 65/1000 [3:16:08<29:42:14, 114.37s/it]"
     ]
    },
    {
     "name": "stdout",
     "output_type": "stream",
     "text": [
      "[INFO] [2022-11-14 14:45:29,669] [OpenBox-SPO] Iteration 66, objective value: [51.341360215373165].\n"
     ]
    },
    {
     "name": "stderr",
     "output_type": "stream",
     "text": [
      "  7%|▋         | 66/1000 [3:18:03<29:44:25, 114.63s/it]"
     ]
    },
    {
     "name": "stdout",
     "output_type": "stream",
     "text": [
      "[INFO] [2022-11-14 14:48:44,546] [OpenBox-SPO] Iteration 67, objective value: [43.062257310447414].\n"
     ]
    },
    {
     "name": "stderr",
     "output_type": "stream",
     "text": [
      "  7%|▋         | 67/1000 [3:21:18<35:56:51, 138.70s/it]"
     ]
    },
    {
     "name": "stdout",
     "output_type": "stream",
     "text": [
      "[INFO] [2022-11-14 14:48:44,549] [Advisor] Sample random config. rand_prob=0.100000.\n",
      "[INFO] [2022-11-14 14:50:29,634] [OpenBox-SPO] Iteration 68, objective value: [42.42149111557557].\n"
     ]
    },
    {
     "name": "stderr",
     "output_type": "stream",
     "text": [
      "  7%|▋         | 68/1000 [3:23:03<33:17:54, 128.62s/it]"
     ]
    },
    {
     "name": "stdout",
     "output_type": "stream",
     "text": [
      "[INFO] [2022-11-14 14:53:18,432] [OpenBox-SPO] Iteration 69, objective value: [47.05123533949154].\n"
     ]
    },
    {
     "name": "stderr",
     "output_type": "stream",
     "text": [
      "  7%|▋         | 69/1000 [3:25:52<36:22:46, 140.67s/it]"
     ]
    },
    {
     "name": "stdout",
     "output_type": "stream",
     "text": [
      "[INFO] [2022-11-14 14:57:04,242] [OpenBox-SPO] Iteration 70, objective value: [40.892751338973966].\n"
     ]
    },
    {
     "name": "stderr",
     "output_type": "stream",
     "text": [
      "  7%|▋         | 70/1000 [3:29:38<42:56:19, 166.21s/it]"
     ]
    },
    {
     "name": "stdout",
     "output_type": "stream",
     "text": [
      "[INFO] [2022-11-14 15:01:08,768] [OpenBox-SPO] Iteration 71, objective value: [66.74823193155653].\n"
     ]
    },
    {
     "name": "stderr",
     "output_type": "stream",
     "text": [
      "  7%|▋         | 71/1000 [3:33:43<48:57:18, 189.71s/it]"
     ]
    }
   ],
   "source": [
    "import SensorOptimizers.BayesianOptimization as bo\n",
    "import numpy as np\n",
    "import pickle\n",
    "\n",
    "acquisition_function = 'ei'\n",
    "acq_optimizer_type = 'auto'\n",
    "ROS = True\n",
    "epsilon = 0.5\n",
    "error = 0.0\n",
    "multi_objective = False\n",
    "LSsensorsNum = 7\n",
    "ISsensorsNum = 3\n",
    "initial_state = 'random'\n",
    "\n",
    "sensor_types = {\n",
    "    'model_motion_sensor': True,\n",
    "    'model_beacon_sensor': False,\n",
    "    'model_pressure_sensor': True,\n",
    "    'model_accelerometer': False,\n",
    "    'model_electricity_sensor': False\n",
    "}\n",
    "\n",
    "\n",
    "# testbed = 'Testbed2/'\n",
    "# maxSensorNum = int(np.min([(8 / epsilon) * (8 / epsilon), LSsensorsNum]))\n",
    "\n",
    "testbed = 'Testbed1/'\n",
    "maxSensorNum = int(np.min([(8 / epsilon) * (8 / epsilon), LSsensorsNum]))\n",
    "\n",
    "print('----- Running BO with: \\n \\t - epsilon: ', epsilon, \n",
    "      '\\n \\t - LS sensors #:', LSsensorsNum, \n",
    "      '\\n \\t - IS sensors #:', ISsensorsNum, \n",
    "      ' \\n \\t - initial state: ', initial_state)\n",
    "\n",
    "for i in range(1, 2):\n",
    "    BO = bo.BayesianOptimization(testbed = testbed,\n",
    "                                 iteration = 1000, \n",
    "                                 epsilon = epsilon, \n",
    "                                 error = error,\n",
    "                                 ROS = True, \n",
    "                                 LSmaxSensorNum = maxSensorNum,\n",
    "                                 ISmaxSensorNum = ISsensorsNum, \n",
    "                                 initial_state = initial_state,\n",
    "                                 input_sensor_types = sensor_types,\n",
    "                                 acquisition_function = acquisition_function,\n",
    "                                 acq_optimizer_type = acq_optimizer_type)\n",
    "\n",
    "    history = BO.run()\n",
    "\n",
    "    with open('Results_BO/history(LS' + str(LSsensorsNum) +  'IS' + str(ISsensorsNum) + ')_' + str(i), 'wb') as handle:\n",
    "        pickle.dump(history, handle, protocol=pickle.HIGHEST_PROTOCOL)\n",
    "            \n",
    "    print(history)"
   ]
  },
  {
   "cell_type": "code",
   "execution_count": null,
   "metadata": {},
   "outputs": [],
   "source": []
  }
 ],
 "metadata": {
  "kernelspec": {
   "display_name": "Python 3.10.7 64-bit",
   "language": "python",
   "name": "python3"
  },
  "language_info": {
   "codemirror_mode": {
    "name": "ipython",
    "version": 3
   },
   "file_extension": ".py",
   "mimetype": "text/x-python",
   "name": "python",
   "nbconvert_exporter": "python",
   "pygments_lexer": "ipython3",
   "version": "3.10.7"
  },
  "vscode": {
   "interpreter": {
    "hash": "aee8b7b246df8f9039afb4144a1f6fd8d2ca17a180786b69acc140d282b71a49"
   }
  }
 },
 "nbformat": 4,
 "nbformat_minor": 4
}
