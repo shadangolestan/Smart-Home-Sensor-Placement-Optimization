{
 "cells": [
  {
   "cell_type": "code",
   "execution_count": 1,
   "metadata": {
    "executionInfo": {
     "elapsed": 2228,
     "status": "ok",
     "timestamp": 1635471051205,
     "user": {
      "displayName": "Shadan Golestan-Irani",
      "photoUrl": "https://lh3.googleusercontent.com/a-/AOh14GjzIpBx-tX-xncT2d8sC4323jdDLC4K-HcuzJgpIA=s64",
      "userId": "05022969837639573312"
     },
     "user_tz": 360
    },
    "id": "j9zzrlSIv5tq",
    "scrolled": false
   },
   "outputs": [
    {
     "name": "stdout",
     "output_type": "stream",
     "text": [
      "-----  Running Genetic Algorithm # 0 :\n",
      "----- Running GA for epsilon = 0.5\n"
     ]
    },
    {
     "data": {
      "application/vnd.jupyter.widget-view+json": {
       "model_id": "5741433dcb5a4a119c64f9df8be26ae5",
       "version_major": 2,
       "version_minor": 0
      },
      "text/plain": [
       "IntProgress(value=0)"
      ]
     },
     "metadata": {},
     "output_type": "display_data"
    },
    {
     "name": "stdout",
     "output_type": "stream",
     "text": [
      "Processing Region of Similarity... [COMPLETED]\n",
      "(epoch 1) ----- The best answer: {40.350200} with (15) number of sensors (average fitness is: 22.380767)\n",
      "(epoch 2) ----- The best answer: {40.350200} with (15) number of sensors (average fitness is: 22.574220)\n",
      "(epoch 3) ----- The best answer: {40.350200} with (15) number of sensors (average fitness is: 22.712774)\n",
      "(epoch 4) ----- The best answer: {40.666891} with (15) number of sensors (average fitness is: 22.917138)\n",
      "(epoch 5) ----- The best answer: {40.666891} with (15) number of sensors (average fitness is: 23.546880)\n",
      "(epoch 6) ----- The best answer: {40.666891} with (15) number of sensors (average fitness is: 22.251706)\n",
      "(epoch 7) ----- The best answer: {40.666891} with (15) number of sensors (average fitness is: 21.579171)\n",
      "(epoch 8) ----- The best answer: {40.666891} with (15) number of sensors (average fitness is: 22.305904)\n",
      "(epoch 9) ----- The best answer: {40.666891} with (15) number of sensors (average fitness is: 22.534262)\n",
      "(epoch 10) ----- The best answer: {40.236883} with (14) number of sensors (average fitness is: 22.407314)\n",
      "(epoch 11) ----- The best answer: {40.236883} with (14) number of sensors (average fitness is: 22.032616)\n",
      "(epoch 12) ----- The best answer: {40.236883} with (14) number of sensors (average fitness is: 23.790893)\n",
      "(epoch 13) ----- The best answer: {42.097543} with (15) number of sensors (average fitness is: 23.610818)\n",
      "(epoch 14) ----- The best answer: {42.097543} with (15) number of sensors (average fitness is: 22.556342)\n",
      "(epoch 15) ----- The best answer: {42.097543} with (15) number of sensors (average fitness is: 22.638737)\n",
      "(epoch 16) ----- The best answer: {42.097543} with (15) number of sensors (average fitness is: 22.368409)\n",
      "(epoch 17) ----- The best answer: {42.097543} with (15) number of sensors (average fitness is: 21.093425)\n",
      "(epoch 18) ----- The best answer: {42.097543} with (15) number of sensors (average fitness is: 22.695971)\n",
      "(epoch 19) ----- The best answer: {42.097543} with (15) number of sensors (average fitness is: 22.646943)\n",
      "(epoch 20) ----- The best answer: {42.097543} with (15) number of sensors (average fitness is: 22.167624)\n",
      "(epoch 21) ----- The best answer: {42.097543} with (15) number of sensors (average fitness is: 21.363344)\n",
      "(epoch 22) ----- The best answer: {42.097543} with (15) number of sensors (average fitness is: 21.940772)\n",
      "(epoch 23) ----- The best answer: {42.097543} with (15) number of sensors (average fitness is: 21.495975)\n",
      "(epoch 24) ----- The best answer: {42.097543} with (15) number of sensors (average fitness is: 22.281462)\n",
      "(epoch 25) ----- The best answer: {42.097543} with (15) number of sensors (average fitness is: 21.614037)\n",
      "(epoch 26) ----- The best answer: {42.097543} with (15) number of sensors (average fitness is: 22.444056)\n",
      "(epoch 27) ----- The best answer: {42.097543} with (15) number of sensors (average fitness is: 21.224022)\n",
      "(epoch 28) ----- The best answer: {42.097543} with (15) number of sensors (average fitness is: 22.409771)\n",
      "(epoch 29) ----- The best answer: {42.097543} with (15) number of sensors (average fitness is: 21.688266)\n",
      "(epoch 30) ----- The best answer: {42.097543} with (15) number of sensors (average fitness is: 21.996177)\n",
      "(epoch 31) ----- The best answer: {42.097543} with (15) number of sensors (average fitness is: 22.960534)\n",
      "(epoch 32) ----- The best answer: {42.097543} with (15) number of sensors (average fitness is: 23.506575)\n",
      "(epoch 33) ----- The best answer: {41.647460} with (14) number of sensors (average fitness is: 21.974147)\n",
      "(epoch 34) ----- The best answer: {41.647460} with (14) number of sensors (average fitness is: 23.430829)\n",
      "(epoch 35) ----- The best answer: {42.313886} with (14) number of sensors (average fitness is: 23.658366)\n",
      "(epoch 36) ----- The best answer: {42.313886} with (14) number of sensors (average fitness is: 23.152806)\n",
      "(epoch 37) ----- The best answer: {42.313886} with (14) number of sensors (average fitness is: 23.596659)\n",
      "(epoch 38) ----- The best answer: {42.313886} with (14) number of sensors (average fitness is: 23.747025)\n",
      "(epoch 39) ----- The best answer: {42.700861} with (14) number of sensors (average fitness is: 24.271577)\n",
      "(epoch 40) ----- The best answer: {42.700861} with (14) number of sensors (average fitness is: 23.544761)\n",
      "(epoch 41) ----- The best answer: {42.700861} with (14) number of sensors (average fitness is: 23.852962)\n",
      "(epoch 42) ----- The best answer: {42.700861} with (14) number of sensors (average fitness is: 23.843461)\n",
      "(epoch 43) ----- The best answer: {42.700861} with (14) number of sensors (average fitness is: 22.825497)\n",
      "(epoch 44) ----- The best answer: {42.700861} with (14) number of sensors (average fitness is: 23.730781)\n",
      "(epoch 45) ----- The best answer: {42.700861} with (14) number of sensors (average fitness is: 24.454964)\n",
      "(epoch 46) ----- The best answer: {42.700861} with (14) number of sensors (average fitness is: 25.108011)\n",
      "(epoch 47) ----- The best answer: {42.700861} with (14) number of sensors (average fitness is: 24.402063)\n",
      "(epoch 48) ----- The best answer: {42.700861} with (14) number of sensors (average fitness is: 23.992375)\n",
      "(epoch 49) ----- The best answer: {42.700861} with (14) number of sensors (average fitness is: 24.355790)\n",
      "(epoch 50) ----- The best answer: {42.700861} with (14) number of sensors (average fitness is: 23.789890)\n",
      "(epoch 51) ----- The best answer: {42.700861} with (14) number of sensors (average fitness is: 24.213722)\n",
      "(epoch 52) ----- The best answer: {42.700861} with (14) number of sensors (average fitness is: 24.642410)\n",
      "(epoch 53) ----- The best answer: {42.700861} with (14) number of sensors (average fitness is: 23.517007)\n",
      "(epoch 54) ----- The best answer: {42.700861} with (14) number of sensors (average fitness is: 26.013506)\n",
      "(epoch 55) ----- The best answer: {42.700861} with (14) number of sensors (average fitness is: 25.010325)\n",
      "(epoch 56) ----- The best answer: {43.664375} with (13) number of sensors (average fitness is: 26.555481)\n",
      "(epoch 57) ----- The best answer: {43.664375} with (13) number of sensors (average fitness is: 26.305954)\n",
      "(epoch 58) ----- The best answer: {43.664375} with (13) number of sensors (average fitness is: 25.714256)\n",
      "(epoch 59) ----- The best answer: {43.664375} with (13) number of sensors (average fitness is: 25.154101)\n",
      "(epoch 60) ----- The best answer: {43.664375} with (13) number of sensors (average fitness is: 26.814526)\n",
      "(epoch 61) ----- The best answer: {43.664375} with (13) number of sensors (average fitness is: 25.856531)\n",
      "(epoch 62) ----- The best answer: {43.664375} with (13) number of sensors (average fitness is: 24.870571)\n",
      "(epoch 63) ----- The best answer: {43.664375} with (13) number of sensors (average fitness is: 25.952888)\n",
      "(epoch 64) ----- The best answer: {43.664375} with (13) number of sensors (average fitness is: 26.614142)\n",
      "(epoch 65) ----- The best answer: {43.664375} with (13) number of sensors (average fitness is: 26.134399)\n",
      "(epoch 66) ----- The best answer: {43.664375} with (13) number of sensors (average fitness is: 25.763955)\n",
      "(epoch 67) ----- The best answer: {43.664375} with (13) number of sensors (average fitness is: 26.388358)\n",
      "(epoch 68) ----- The best answer: {43.664375} with (13) number of sensors (average fitness is: 24.859748)\n",
      "(epoch 69) ----- The best answer: {43.664375} with (13) number of sensors (average fitness is: 25.759626)\n",
      "(epoch 70) ----- The best answer: {43.664375} with (13) number of sensors (average fitness is: 25.722595)\n",
      "(epoch 71) ----- The best answer: {43.664375} with (13) number of sensors (average fitness is: 25.954661)\n",
      "(epoch 72) ----- The best answer: {43.664375} with (13) number of sensors (average fitness is: 25.851337)\n",
      "(epoch 73) ----- The best answer: {43.664375} with (13) number of sensors (average fitness is: 25.518283)\n",
      "(epoch 74) ----- The best answer: {43.664375} with (13) number of sensors (average fitness is: 25.334543)\n",
      "(epoch 75) ----- The best answer: {43.664375} with (13) number of sensors (average fitness is: 25.118754)\n",
      "(epoch 76) ----- The best answer: {43.664375} with (13) number of sensors (average fitness is: 24.071230)\n",
      "(epoch 77) ----- The best answer: {43.664375} with (13) number of sensors (average fitness is: 26.296096)\n",
      "(epoch 78) ----- The best answer: {43.664375} with (13) number of sensors (average fitness is: 25.976677)\n",
      "(epoch 79) ----- The best answer: {43.664375} with (13) number of sensors (average fitness is: 24.453008)\n",
      "(epoch 80) ----- The best answer: {43.664375} with (13) number of sensors (average fitness is: 24.459271)\n",
      "(epoch 81) ----- The best answer: {43.664375} with (13) number of sensors (average fitness is: 25.555058)\n",
      "(epoch 82) ----- The best answer: {43.664375} with (13) number of sensors (average fitness is: 27.251194)\n",
      "(epoch 83) ----- The best answer: {43.664375} with (13) number of sensors (average fitness is: 26.223608)\n",
      "(epoch 84) ----- The best answer: {43.664375} with (13) number of sensors (average fitness is: 25.984437)\n",
      "(epoch 85) ----- The best answer: {43.664375} with (13) number of sensors (average fitness is: 24.239143)\n",
      "(epoch 86) ----- The best answer: {43.664375} with (13) number of sensors (average fitness is: 25.254432)\n",
      "(epoch 87) ----- The best answer: {43.664375} with (13) number of sensors (average fitness is: 24.277047)\n",
      "(epoch 88) ----- The best answer: {43.664375} with (13) number of sensors (average fitness is: 25.908602)\n",
      "(epoch 89) ----- The best answer: {43.664375} with (13) number of sensors (average fitness is: 25.183240)\n",
      "(epoch 90) ----- The best answer: {43.664375} with (13) number of sensors (average fitness is: 25.301631)\n",
      "(epoch 91) ----- The best answer: {43.664375} with (13) number of sensors (average fitness is: 25.624191)\n",
      "(epoch 92) ----- The best answer: {43.664375} with (13) number of sensors (average fitness is: 24.682221)\n",
      "(epoch 93) ----- The best answer: {43.664375} with (13) number of sensors (average fitness is: 24.168929)\n",
      "(epoch 94) ----- The best answer: {43.664375} with (13) number of sensors (average fitness is: 23.518854)\n",
      "(epoch 95) ----- The best answer: {43.664375} with (13) number of sensors (average fitness is: 24.289963)\n",
      "(epoch 96) ----- The best answer: {43.664375} with (13) number of sensors (average fitness is: 25.919409)\n",
      "(epoch 97) ----- The best answer: {43.664375} with (13) number of sensors (average fitness is: 25.873390)\n",
      "(epoch 98) ----- The best answer: {43.664375} with (13) number of sensors (average fitness is: 26.551283)\n",
      "(epoch 99) ----- The best answer: {43.664375} with (13) number of sensors (average fitness is: 26.949261)\n",
      "(epoch 100) ----- The best answer: {43.664375} with (13) number of sensors (average fitness is: 25.679473)\n",
      "\t Best accuracy found: 43.66437484479776  sensors num used: 13.0\n"
     ]
    }
   ],
   "source": [
    "import SensorOptimizers.GeneticAlgorithm as ga\n",
    "import numpy as np\n",
    "import pickle\n",
    "\n",
    "sensor_types = {\n",
    "    'model_motion_sensor': True,\n",
    "    'model_beacon_sensor': False,\n",
    "    'model_pressure_sensor': False,\n",
    "    'model_accelerometer': False,\n",
    "    'model_electricity_sensor': False\n",
    "}\n",
    "testbed = 'Testbed2/'\n",
    "\n",
    "\n",
    "for i in range(0, 1):\n",
    "    print('----- ', 'Running Genetic Algorithm #', i, ':')\n",
    "    result, best_configuration_history = ga.run(testbed = testbed,\n",
    "                                                input_sensor_types = sensor_types,\n",
    "                                                iteration = 100, \n",
    "                                                population = 10,\n",
    "                                                epsilon = 0.5, \n",
    "                                                initSensorNum = 7, \n",
    "                                                maxSensorNum = 15,  \n",
    "                                                radius = 1, \n",
    "                                                mutation_rate = 0.005, \n",
    "                                                crossover = 2,\n",
    "                                                survival_rate = 0.1, \n",
    "                                                reproduction_rate = 0.2,\n",
    "                                                print_epochs = True,\n",
    "                                                ROS = True\n",
    "                                               )\n",
    "\n",
    "    with open('GA_results/history' + str(i + 1), 'wb') as handle:\n",
    "        pickle.dump([result, best_configuration_history], handle, protocol=pickle.HIGHEST_PROTOCOL)\n",
    "    \n",
    "    print('\\t', 'Best accuracy found:', max(result[len(result) - 1])[0], ' sensors num used:', max(result[len(result) - 1])[1])\n",
    "\n"
   ]
  },
  {
   "cell_type": "code",
   "execution_count": null,
   "metadata": {},
   "outputs": [],
   "source": []
  }
 ],
 "metadata": {
  "colab": {
   "collapsed_sections": [],
   "name": "GA.ipynb",
   "provenance": [],
   "toc_visible": true
  },
  "kernelspec": {
   "display_name": "Python 3.9.7 ('base')",
   "language": "python",
   "name": "python3"
  },
  "language_info": {
   "codemirror_mode": {
    "name": "ipython",
    "version": 3
   },
   "file_extension": ".py",
   "mimetype": "text/x-python",
   "name": "python",
   "nbconvert_exporter": "python",
   "pygments_lexer": "ipython3",
   "version": "3.9.7"
  },
  "vscode": {
   "interpreter": {
    "hash": "40d3a090f54c6569ab1632332b64b2c03c39dcf918b08424e98f38b5ae0af88f"
   }
  },
  "widgets": {
   "application/vnd.jupyter.widget-state+json": {
    "208ae3a7e6b84f90ad9e6b284aa3721c": {
     "model_module": "@jupyter-widgets/controls",
     "model_module_version": "1.5.0",
     "model_name": "ProgressStyleModel",
     "state": {
      "_model_module": "@jupyter-widgets/controls",
      "_model_module_version": "1.5.0",
      "_model_name": "ProgressStyleModel",
      "_view_count": null,
      "_view_module": "@jupyter-widgets/base",
      "_view_module_version": "1.2.0",
      "_view_name": "StyleView",
      "bar_color": null,
      "description_width": ""
     }
    },
    "441b254622df4958a7d151ad59bb4624": {
     "model_module": "@jupyter-widgets/base",
     "model_module_version": "1.2.0",
     "model_name": "LayoutModel",
     "state": {
      "_model_module": "@jupyter-widgets/base",
      "_model_module_version": "1.2.0",
      "_model_name": "LayoutModel",
      "_view_count": null,
      "_view_module": "@jupyter-widgets/base",
      "_view_module_version": "1.2.0",
      "_view_name": "LayoutView",
      "align_content": null,
      "align_items": null,
      "align_self": null,
      "border": null,
      "bottom": null,
      "display": null,
      "flex": null,
      "flex_flow": null,
      "grid_area": null,
      "grid_auto_columns": null,
      "grid_auto_flow": null,
      "grid_auto_rows": null,
      "grid_column": null,
      "grid_gap": null,
      "grid_row": null,
      "grid_template_areas": null,
      "grid_template_columns": null,
      "grid_template_rows": null,
      "height": null,
      "justify_content": null,
      "justify_items": null,
      "left": null,
      "margin": null,
      "max_height": null,
      "max_width": null,
      "min_height": null,
      "min_width": null,
      "object_fit": null,
      "object_position": null,
      "order": null,
      "overflow": null,
      "overflow_x": null,
      "overflow_y": null,
      "padding": null,
      "right": null,
      "top": null,
      "visibility": null,
      "width": null
     }
    },
    "650f914388934a949db3e622810c6f6e": {
     "model_module": "@jupyter-widgets/controls",
     "model_module_version": "1.5.0",
     "model_name": "IntProgressModel",
     "state": {
      "_dom_classes": [],
      "_model_module": "@jupyter-widgets/controls",
      "_model_module_version": "1.5.0",
      "_model_name": "IntProgressModel",
      "_view_count": null,
      "_view_module": "@jupyter-widgets/controls",
      "_view_module_version": "1.5.0",
      "_view_name": "ProgressView",
      "bar_style": "",
      "description": "",
      "description_tooltip": null,
      "layout": "IPY_MODEL_441b254622df4958a7d151ad59bb4624",
      "max": 100,
      "min": 0,
      "orientation": "horizontal",
      "style": "IPY_MODEL_208ae3a7e6b84f90ad9e6b284aa3721c",
      "value": 41
     }
    }
   }
  }
 },
 "nbformat": 4,
 "nbformat_minor": 1
}
