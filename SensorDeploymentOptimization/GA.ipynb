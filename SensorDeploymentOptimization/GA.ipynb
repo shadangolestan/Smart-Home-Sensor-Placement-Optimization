{
 "cells": [
  {
   "cell_type": "code",
   "execution_count": 1,
   "metadata": {
    "executionInfo": {
     "elapsed": 2228,
     "status": "ok",
     "timestamp": 1635471051205,
     "user": {
      "displayName": "Shadan Golestan-Irani",
      "photoUrl": "https://lh3.googleusercontent.com/a-/AOh14GjzIpBx-tX-xncT2d8sC4323jdDLC4K-HcuzJgpIA=s64",
      "userId": "05022969837639573312"
     },
     "user_tz": 360
    },
    "id": "j9zzrlSIv5tq",
    "scrolled": false
   },
   "outputs": [
    {
     "name": "stdout",
     "output_type": "stream",
     "text": [
      "-----  Running Genetic Algorithm # 0 :\n",
      "----- Running GA for epsilon = 0.5\n"
     ]
    },
    {
     "data": {
      "application/vnd.jupyter.widget-view+json": {
       "model_id": "8c02cc8d59124ab3982decb4ee2298ca",
       "version_major": 2,
       "version_minor": 0
      },
      "text/plain": [
       "IntProgress(value=0)"
      ]
     },
     "metadata": {},
     "output_type": "display_data"
    },
    {
     "name": "stdout",
     "output_type": "stream",
     "text": [
      "(epoch 1) ----- The best answer: {53.469931} with (15) number of sensors (average fitness is: 35.015289)\n",
      "(epoch 2) ----- The best answer: {54.181323} with (15) number of sensors (average fitness is: 36.398782)\n",
      "(epoch 3) ----- The best answer: {56.304148} with (15) number of sensors (average fitness is: 38.554910)\n",
      "(epoch 4) ----- The best answer: {57.157632} with (14) number of sensors (average fitness is: 39.776770)\n",
      "(epoch 5) ----- The best answer: {57.157632} with (14) number of sensors (average fitness is: 39.408417)\n",
      "(epoch 6) ----- The best answer: {57.157632} with (14) number of sensors (average fitness is: 40.178921)\n",
      "(epoch 7) ----- The best answer: {57.157632} with (14) number of sensors (average fitness is: 39.697285)\n",
      "(epoch 8) ----- The best answer: {57.157632} with (14) number of sensors (average fitness is: 40.117082)\n",
      "(epoch 9) ----- The best answer: {57.157632} with (14) number of sensors (average fitness is: 39.623326)\n",
      "(epoch 10) ----- The best answer: {57.157632} with (14) number of sensors (average fitness is: 40.508873)\n",
      "(epoch 11) ----- The best answer: {57.157632} with (14) number of sensors (average fitness is: 40.397597)\n",
      "(epoch 12) ----- The best answer: {57.157632} with (14) number of sensors (average fitness is: 39.018153)\n",
      "(epoch 13) ----- The best answer: {57.157632} with (14) number of sensors (average fitness is: 40.466550)\n",
      "(epoch 14) ----- The best answer: {57.329508} with (14) number of sensors (average fitness is: 41.066959)\n",
      "(epoch 15) ----- The best answer: {57.329508} with (14) number of sensors (average fitness is: 39.711233)\n",
      "(epoch 16) ----- The best answer: {57.329508} with (14) number of sensors (average fitness is: 40.725936)\n",
      "(epoch 17) ----- The best answer: {56.825082} with (13) number of sensors (average fitness is: 41.342666)\n",
      "(epoch 18) ----- The best answer: {56.825082} with (13) number of sensors (average fitness is: 40.124403)\n",
      "(epoch 19) ----- The best answer: {58.538183} with (14) number of sensors (average fitness is: 40.959084)\n",
      "(epoch 20) ----- The best answer: {58.538183} with (14) number of sensors (average fitness is: 40.711503)\n",
      "(epoch 21) ----- The best answer: {58.538183} with (14) number of sensors (average fitness is: 40.483984)\n",
      "(epoch 22) ----- The best answer: {58.538183} with (14) number of sensors (average fitness is: 40.452315)\n",
      "(epoch 23) ----- The best answer: {58.538183} with (14) number of sensors (average fitness is: 39.569332)\n",
      "(epoch 24) ----- The best answer: {58.538183} with (14) number of sensors (average fitness is: 41.048983)\n",
      "(epoch 25) ----- The best answer: {58.538183} with (14) number of sensors (average fitness is: 40.945863)\n",
      "(epoch 26) ----- The best answer: {58.538183} with (14) number of sensors (average fitness is: 40.164080)\n",
      "(epoch 27) ----- The best answer: {58.538183} with (14) number of sensors (average fitness is: 40.421714)\n",
      "(epoch 28) ----- The best answer: {58.538183} with (14) number of sensors (average fitness is: 39.582366)\n",
      "(epoch 29) ----- The best answer: {58.538183} with (14) number of sensors (average fitness is: 39.701847)\n",
      "(epoch 30) ----- The best answer: {58.538183} with (14) number of sensors (average fitness is: 40.394389)\n",
      "(epoch 31) ----- The best answer: {58.538183} with (14) number of sensors (average fitness is: 40.898448)\n",
      "(epoch 32) ----- The best answer: {58.538183} with (14) number of sensors (average fitness is: 41.168572)\n",
      "(epoch 33) ----- The best answer: {58.538183} with (14) number of sensors (average fitness is: 41.026562)\n",
      "(epoch 34) ----- The best answer: {58.538183} with (14) number of sensors (average fitness is: 40.509701)\n",
      "(epoch 35) ----- The best answer: {58.538183} with (14) number of sensors (average fitness is: 40.036852)\n",
      "(epoch 36) ----- The best answer: {58.538183} with (14) number of sensors (average fitness is: 40.119946)\n",
      "(epoch 37) ----- The best answer: {58.538183} with (14) number of sensors (average fitness is: 40.070786)\n",
      "(epoch 38) ----- The best answer: {58.538183} with (14) number of sensors (average fitness is: 39.776223)\n",
      "(epoch 39) ----- The best answer: {58.538183} with (14) number of sensors (average fitness is: 40.479342)\n",
      "(epoch 40) ----- The best answer: {58.538183} with (14) number of sensors (average fitness is: 39.740441)\n",
      "(epoch 41) ----- The best answer: {58.538183} with (14) number of sensors (average fitness is: 39.999940)\n",
      "(epoch 42) ----- The best answer: {58.538183} with (14) number of sensors (average fitness is: 40.471383)\n",
      "(epoch 43) ----- The best answer: {58.538183} with (14) number of sensors (average fitness is: 41.150348)\n",
      "(epoch 44) ----- The best answer: {58.538183} with (14) number of sensors (average fitness is: 40.034345)\n",
      "(epoch 45) ----- The best answer: {58.538183} with (14) number of sensors (average fitness is: 40.837077)\n",
      "(epoch 46) ----- The best answer: {58.538183} with (14) number of sensors (average fitness is: 39.662872)\n",
      "(epoch 47) ----- The best answer: {58.538183} with (14) number of sensors (average fitness is: 39.805374)\n",
      "(epoch 48) ----- The best answer: {58.538183} with (14) number of sensors (average fitness is: 40.563355)\n",
      "(epoch 49) ----- The best answer: {58.538183} with (14) number of sensors (average fitness is: 40.868508)\n",
      "(epoch 50) ----- The best answer: {58.538183} with (14) number of sensors (average fitness is: 41.159180)\n",
      "(epoch 51) ----- The best answer: {58.538183} with (14) number of sensors (average fitness is: 40.542141)\n",
      "(epoch 52) ----- The best answer: {58.538183} with (14) number of sensors (average fitness is: 39.997150)\n",
      "(epoch 53) ----- The best answer: {58.538183} with (14) number of sensors (average fitness is: 40.508107)\n",
      "(epoch 54) ----- The best answer: {58.538183} with (14) number of sensors (average fitness is: 39.990487)\n",
      "(epoch 55) ----- The best answer: {58.538183} with (14) number of sensors (average fitness is: 41.086861)\n",
      "(epoch 56) ----- The best answer: {58.538183} with (14) number of sensors (average fitness is: 40.572107)\n",
      "(epoch 57) ----- The best answer: {58.538183} with (14) number of sensors (average fitness is: 40.414988)\n",
      "(epoch 58) ----- The best answer: {58.538183} with (14) number of sensors (average fitness is: 41.086019)\n",
      "(epoch 59) ----- The best answer: {58.538183} with (14) number of sensors (average fitness is: 40.515509)\n",
      "(epoch 60) ----- The best answer: {58.538183} with (14) number of sensors (average fitness is: 40.742821)\n",
      "(epoch 61) ----- The best answer: {57.989867} with (13) number of sensors (average fitness is: 41.121964)\n",
      "(epoch 62) ----- The best answer: {57.989867} with (13) number of sensors (average fitness is: 41.251992)\n",
      "(epoch 63) ----- The best answer: {57.989867} with (13) number of sensors (average fitness is: 42.225725)\n",
      "(epoch 64) ----- The best answer: {57.989867} with (13) number of sensors (average fitness is: 40.757118)\n",
      "(epoch 65) ----- The best answer: {57.989867} with (13) number of sensors (average fitness is: 40.909571)\n",
      "(epoch 66) ----- The best answer: {57.989867} with (13) number of sensors (average fitness is: 41.695903)\n",
      "(epoch 67) ----- The best answer: {57.989867} with (13) number of sensors (average fitness is: 41.714910)\n",
      "(epoch 68) ----- The best answer: {57.989867} with (13) number of sensors (average fitness is: 41.113476)\n",
      "(epoch 69) ----- The best answer: {57.989867} with (13) number of sensors (average fitness is: 40.872731)\n",
      "(epoch 70) ----- The best answer: {57.989867} with (13) number of sensors (average fitness is: 41.261143)\n",
      "(epoch 71) ----- The best answer: {57.989867} with (13) number of sensors (average fitness is: 41.875729)\n",
      "(epoch 72) ----- The best answer: {57.989867} with (13) number of sensors (average fitness is: 41.292574)\n",
      "(epoch 73) ----- The best answer: {57.989867} with (13) number of sensors (average fitness is: 41.723053)\n",
      "(epoch 74) ----- The best answer: {57.989867} with (13) number of sensors (average fitness is: 42.155034)\n",
      "(epoch 75) ----- The best answer: {57.989867} with (13) number of sensors (average fitness is: 41.156216)\n",
      "(epoch 76) ----- The best answer: {57.989867} with (13) number of sensors (average fitness is: 41.672820)\n",
      "(epoch 77) ----- The best answer: {57.989867} with (13) number of sensors (average fitness is: 42.156809)\n",
      "(epoch 78) ----- The best answer: {57.989867} with (13) number of sensors (average fitness is: 41.277141)\n"
     ]
    },
    {
     "name": "stdout",
     "output_type": "stream",
     "text": [
      "(epoch 79) ----- The best answer: {57.989867} with (13) number of sensors (average fitness is: 41.161557)\n",
      "(epoch 80) ----- The best answer: {57.989867} with (13) number of sensors (average fitness is: 40.675483)\n",
      "(epoch 81) ----- The best answer: {57.989867} with (13) number of sensors (average fitness is: 41.496188)\n",
      "(epoch 82) ----- The best answer: {57.989867} with (13) number of sensors (average fitness is: 42.138477)\n",
      "(epoch 83) ----- The best answer: {57.989867} with (13) number of sensors (average fitness is: 41.509639)\n",
      "(epoch 84) ----- The best answer: {57.989867} with (13) number of sensors (average fitness is: 41.735053)\n",
      "(epoch 85) ----- The best answer: {57.989867} with (13) number of sensors (average fitness is: 41.902830)\n",
      "(epoch 86) ----- The best answer: {57.989867} with (13) number of sensors (average fitness is: 41.999578)\n",
      "(epoch 87) ----- The best answer: {57.989867} with (13) number of sensors (average fitness is: 41.893948)\n",
      "(epoch 88) ----- The best answer: {57.989867} with (13) number of sensors (average fitness is: 40.809726)\n",
      "(epoch 89) ----- The best answer: {57.989867} with (13) number of sensors (average fitness is: 41.600774)\n",
      "(epoch 90) ----- The best answer: {57.989867} with (13) number of sensors (average fitness is: 42.328688)\n",
      "(epoch 91) ----- The best answer: {57.989867} with (13) number of sensors (average fitness is: 41.094623)\n",
      "(epoch 92) ----- The best answer: {57.989867} with (13) number of sensors (average fitness is: 41.882386)\n",
      "(epoch 93) ----- The best answer: {57.989867} with (13) number of sensors (average fitness is: 41.103119)\n",
      "(epoch 94) ----- The best answer: {57.989867} with (13) number of sensors (average fitness is: 42.246243)\n",
      "(epoch 95) ----- The best answer: {57.989867} with (13) number of sensors (average fitness is: 40.924644)\n",
      "(epoch 96) ----- The best answer: {57.989867} with (13) number of sensors (average fitness is: 41.521289)\n",
      "(epoch 97) ----- The best answer: {57.989867} with (13) number of sensors (average fitness is: 41.942492)\n",
      "(epoch 98) ----- The best answer: {57.989867} with (13) number of sensors (average fitness is: 41.525941)\n",
      "(epoch 99) ----- The best answer: {57.989867} with (13) number of sensors (average fitness is: 41.753448)\n",
      "(epoch 100) ----- The best answer: {57.989867} with (13) number of sensors (average fitness is: 41.875979)\n",
      "\t Best accuracy found: 57.98986740918524  sensors num used: 13.0\n"
     ]
    }
   ],
   "source": [
    "import SensorOptimizers.GeneticAlgorithm as ga\n",
    "import numpy as np\n",
    "import pickle\n",
    "\n",
    "for i in range(0, 1):\n",
    "    print('----- ', 'Running Genetic Algorithm #', i, ':')\n",
    "    result, best_configuration_history = ga.run(iteration = 100, \n",
    "                                                population = 10,\n",
    "                                                epsilon = 0.5, \n",
    "                                                initSensorNum = 15, \n",
    "                                                maxSensorNum = 15,  \n",
    "                                                radius = 1, \n",
    "                                                mutation_rate = 0.005, \n",
    "                                                crossover = 2,\n",
    "                                                survival_rate = 0.1, \n",
    "                                                reproduction_rate = 0.2,\n",
    "                                                print_epochs = True,\n",
    "                                                ROS = True\n",
    "                                               )\n",
    "\n",
    "    with open('GA_results/history' + str(i + 1), 'wb') as handle:\n",
    "        pickle.dump([result, best_configuration_history], handle, protocol=pickle.HIGHEST_PROTOCOL)\n",
    "    \n",
    "    print('\\t', 'Best accuracy found:', max(result[len(result) - 1])[0], ' sensors num used:', max(result[len(result) - 1])[1])\n",
    "\n"
   ]
  },
  {
   "cell_type": "code",
   "execution_count": null,
   "metadata": {},
   "outputs": [],
   "source": []
  }
 ],
 "metadata": {
  "colab": {
   "collapsed_sections": [],
   "name": "GA.ipynb",
   "provenance": [],
   "toc_visible": true
  },
  "kernelspec": {
   "display_name": "Python 3",
   "language": "python",
   "name": "python3"
  },
  "language_info": {
   "codemirror_mode": {
    "name": "ipython",
    "version": 3
   },
   "file_extension": ".py",
   "mimetype": "text/x-python",
   "name": "python",
   "nbconvert_exporter": "python",
   "pygments_lexer": "ipython3",
   "version": "3.9.0"
  },
  "widgets": {
   "application/vnd.jupyter.widget-state+json": {
    "208ae3a7e6b84f90ad9e6b284aa3721c": {
     "model_module": "@jupyter-widgets/controls",
     "model_module_version": "1.5.0",
     "model_name": "ProgressStyleModel",
     "state": {
      "_model_module": "@jupyter-widgets/controls",
      "_model_module_version": "1.5.0",
      "_model_name": "ProgressStyleModel",
      "_view_count": null,
      "_view_module": "@jupyter-widgets/base",
      "_view_module_version": "1.2.0",
      "_view_name": "StyleView",
      "bar_color": null,
      "description_width": ""
     }
    },
    "441b254622df4958a7d151ad59bb4624": {
     "model_module": "@jupyter-widgets/base",
     "model_module_version": "1.2.0",
     "model_name": "LayoutModel",
     "state": {
      "_model_module": "@jupyter-widgets/base",
      "_model_module_version": "1.2.0",
      "_model_name": "LayoutModel",
      "_view_count": null,
      "_view_module": "@jupyter-widgets/base",
      "_view_module_version": "1.2.0",
      "_view_name": "LayoutView",
      "align_content": null,
      "align_items": null,
      "align_self": null,
      "border": null,
      "bottom": null,
      "display": null,
      "flex": null,
      "flex_flow": null,
      "grid_area": null,
      "grid_auto_columns": null,
      "grid_auto_flow": null,
      "grid_auto_rows": null,
      "grid_column": null,
      "grid_gap": null,
      "grid_row": null,
      "grid_template_areas": null,
      "grid_template_columns": null,
      "grid_template_rows": null,
      "height": null,
      "justify_content": null,
      "justify_items": null,
      "left": null,
      "margin": null,
      "max_height": null,
      "max_width": null,
      "min_height": null,
      "min_width": null,
      "object_fit": null,
      "object_position": null,
      "order": null,
      "overflow": null,
      "overflow_x": null,
      "overflow_y": null,
      "padding": null,
      "right": null,
      "top": null,
      "visibility": null,
      "width": null
     }
    },
    "650f914388934a949db3e622810c6f6e": {
     "model_module": "@jupyter-widgets/controls",
     "model_module_version": "1.5.0",
     "model_name": "IntProgressModel",
     "state": {
      "_dom_classes": [],
      "_model_module": "@jupyter-widgets/controls",
      "_model_module_version": "1.5.0",
      "_model_name": "IntProgressModel",
      "_view_count": null,
      "_view_module": "@jupyter-widgets/controls",
      "_view_module_version": "1.5.0",
      "_view_name": "ProgressView",
      "bar_style": "",
      "description": "",
      "description_tooltip": null,
      "layout": "IPY_MODEL_441b254622df4958a7d151ad59bb4624",
      "max": 100,
      "min": 0,
      "orientation": "horizontal",
      "style": "IPY_MODEL_208ae3a7e6b84f90ad9e6b284aa3721c",
      "value": 41
     }
    }
   }
  }
 },
 "nbformat": 4,
 "nbformat_minor": 1
}
