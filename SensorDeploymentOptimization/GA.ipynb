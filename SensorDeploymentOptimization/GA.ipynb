{
 "cells": [
  {
   "cell_type": "code",
   "execution_count": 2,
   "metadata": {
    "executionInfo": {
     "elapsed": 2228,
     "status": "ok",
     "timestamp": 1635471051205,
     "user": {
      "displayName": "Shadan Golestan-Irani",
      "photoUrl": "https://lh3.googleusercontent.com/a-/AOh14GjzIpBx-tX-xncT2d8sC4323jdDLC4K-HcuzJgpIA=s64",
      "userId": "05022969837639573312"
     },
     "user_tz": 360
    },
    "id": "j9zzrlSIv5tq",
    "scrolled": false
   },
   "outputs": [
    {
     "name": "stdout",
     "output_type": "stream",
     "text": [
      "-----  Running Genetic Algorithm # 0 :\n",
      "----- Running GA for epsilon = 0.5\n"
     ]
    },
    {
     "data": {
      "application/vnd.jupyter.widget-view+json": {
       "model_id": "2caaa512a0794aa08fe69ded1787cd17",
       "version_major": 2,
       "version_minor": 0
      },
      "text/plain": [
       "IntProgress(value=0)"
      ]
     },
     "metadata": {},
     "output_type": "display_data"
    },
    {
     "name": "stdout",
     "output_type": "stream",
     "text": [
      "(epoch 1) ----- The best answer: {53.357321} with (15) number of sensors (average fitness is: 34.882137)\n",
      "(epoch 2) ----- The best answer: {52.681572} with (14) number of sensors (average fitness is: 36.641305)\n",
      "(epoch 3) ----- The best answer: {54.710370} with (14) number of sensors (average fitness is: 37.947235)\n",
      "(epoch 4) ----- The best answer: {54.710370} with (14) number of sensors (average fitness is: 39.205278)\n",
      "(epoch 5) ----- The best answer: {54.710370} with (14) number of sensors (average fitness is: 38.434576)\n",
      "(epoch 6) ----- The best answer: {54.710370} with (14) number of sensors (average fitness is: 38.762877)\n",
      "(epoch 7) ----- The best answer: {54.710370} with (14) number of sensors (average fitness is: 38.479247)\n",
      "(epoch 8) ----- The best answer: {54.760544} with (14) number of sensors (average fitness is: 38.716929)\n",
      "(epoch 9) ----- The best answer: {54.760544} with (14) number of sensors (average fitness is: 37.738124)\n",
      "(epoch 10) ----- The best answer: {58.509638} with (16) number of sensors (average fitness is: 38.176261)\n",
      "(epoch 11) ----- The best answer: {57.055900} with (14) number of sensors (average fitness is: 39.185667)\n",
      "(epoch 12) ----- The best answer: {57.055900} with (14) number of sensors (average fitness is: 39.838369)\n",
      "(epoch 13) ----- The best answer: {57.055900} with (14) number of sensors (average fitness is: 38.740516)\n",
      "(epoch 14) ----- The best answer: {57.055900} with (14) number of sensors (average fitness is: 39.439362)\n",
      "(epoch 15) ----- The best answer: {57.055900} with (14) number of sensors (average fitness is: 38.537260)\n",
      "(epoch 16) ----- The best answer: {57.055900} with (14) number of sensors (average fitness is: 38.006518)\n",
      "(epoch 17) ----- The best answer: {57.055900} with (14) number of sensors (average fitness is: 38.918079)\n",
      "(epoch 18) ----- The best answer: {57.055900} with (14) number of sensors (average fitness is: 39.193545)\n",
      "(epoch 19) ----- The best answer: {57.055900} with (14) number of sensors (average fitness is: 39.731435)\n",
      "(epoch 20) ----- The best answer: {57.055900} with (14) number of sensors (average fitness is: 39.269554)\n",
      "(epoch 21) ----- The best answer: {57.055900} with (14) number of sensors (average fitness is: 38.533350)\n",
      "(epoch 22) ----- The best answer: {57.055900} with (14) number of sensors (average fitness is: 38.739875)\n",
      "(epoch 23) ----- The best answer: {57.055900} with (14) number of sensors (average fitness is: 39.407517)\n",
      "(epoch 24) ----- The best answer: {57.055900} with (14) number of sensors (average fitness is: 38.702135)\n",
      "(epoch 25) ----- The best answer: {57.055900} with (14) number of sensors (average fitness is: 38.500131)\n",
      "(epoch 26) ----- The best answer: {57.055900} with (14) number of sensors (average fitness is: 38.859611)\n",
      "(epoch 27) ----- The best answer: {57.055900} with (14) number of sensors (average fitness is: 39.271353)\n",
      "(epoch 28) ----- The best answer: {57.055900} with (14) number of sensors (average fitness is: 38.583144)\n",
      "(epoch 29) ----- The best answer: {57.055900} with (14) number of sensors (average fitness is: 39.496345)\n",
      "(epoch 30) ----- The best answer: {57.055900} with (14) number of sensors (average fitness is: 39.586534)\n",
      "(epoch 31) ----- The best answer: {57.055900} with (14) number of sensors (average fitness is: 39.095704)\n",
      "(epoch 32) ----- The best answer: {57.055900} with (14) number of sensors (average fitness is: 39.373447)\n",
      "(epoch 33) ----- The best answer: {57.055900} with (14) number of sensors (average fitness is: 40.504603)\n",
      "(epoch 34) ----- The best answer: {57.055900} with (14) number of sensors (average fitness is: 40.652369)\n",
      "(epoch 35) ----- The best answer: {57.055900} with (14) number of sensors (average fitness is: 39.618821)\n",
      "(epoch 36) ----- The best answer: {57.055900} with (14) number of sensors (average fitness is: 38.381239)\n",
      "(epoch 37) ----- The best answer: {57.055900} with (14) number of sensors (average fitness is: 39.239096)\n",
      "(epoch 38) ----- The best answer: {57.055900} with (14) number of sensors (average fitness is: 39.372771)\n",
      "(epoch 39) ----- The best answer: {57.055900} with (14) number of sensors (average fitness is: 39.003724)\n",
      "(epoch 40) ----- The best answer: {57.055900} with (14) number of sensors (average fitness is: 39.453477)\n",
      "(epoch 41) ----- The best answer: {57.055900} with (14) number of sensors (average fitness is: 38.437866)\n",
      "(epoch 42) ----- The best answer: {57.055900} with (14) number of sensors (average fitness is: 38.990973)\n",
      "(epoch 43) ----- The best answer: {57.055900} with (14) number of sensors (average fitness is: 38.870615)\n",
      "(epoch 44) ----- The best answer: {57.055900} with (14) number of sensors (average fitness is: 39.210228)\n",
      "(epoch 45) ----- The best answer: {57.055900} with (14) number of sensors (average fitness is: 38.164523)\n",
      "(epoch 46) ----- The best answer: {57.055900} with (14) number of sensors (average fitness is: 39.051921)\n",
      "(epoch 47) ----- The best answer: {57.055900} with (14) number of sensors (average fitness is: 38.292048)\n",
      "(epoch 48) ----- The best answer: {57.055900} with (14) number of sensors (average fitness is: 38.329941)\n",
      "(epoch 49) ----- The best answer: {57.055900} with (14) number of sensors (average fitness is: 39.057486)\n",
      "(epoch 50) ----- The best answer: {57.055900} with (14) number of sensors (average fitness is: 38.018425)\n",
      "(epoch 51) ----- The best answer: {57.055900} with (14) number of sensors (average fitness is: 38.517702)\n",
      "(epoch 52) ----- The best answer: {57.055900} with (14) number of sensors (average fitness is: 38.538695)\n",
      "(epoch 53) ----- The best answer: {57.055900} with (14) number of sensors (average fitness is: 39.079001)\n",
      "(epoch 54) ----- The best answer: {57.055900} with (14) number of sensors (average fitness is: 38.837233)\n",
      "(epoch 55) ----- The best answer: {57.055900} with (14) number of sensors (average fitness is: 38.663027)\n",
      "(epoch 56) ----- The best answer: {57.055900} with (14) number of sensors (average fitness is: 39.161596)\n",
      "(epoch 57) ----- The best answer: {57.055900} with (14) number of sensors (average fitness is: 39.406767)\n",
      "(epoch 58) ----- The best answer: {57.055900} with (14) number of sensors (average fitness is: 40.006788)\n",
      "(epoch 59) ----- The best answer: {57.055900} with (14) number of sensors (average fitness is: 39.710141)\n",
      "(epoch 60) ----- The best answer: {57.055900} with (14) number of sensors (average fitness is: 39.354919)\n",
      "(epoch 61) ----- The best answer: {57.055900} with (14) number of sensors (average fitness is: 38.869428)\n",
      "(epoch 62) ----- The best answer: {57.055900} with (14) number of sensors (average fitness is: 38.055450)\n",
      "(epoch 63) ----- The best answer: {57.055900} with (14) number of sensors (average fitness is: 38.129364)\n",
      "(epoch 64) ----- The best answer: {57.055900} with (14) number of sensors (average fitness is: 38.890766)\n",
      "(epoch 65) ----- The best answer: {59.014288} with (15) number of sensors (average fitness is: 40.651638)\n",
      "(epoch 66) ----- The best answer: {59.014288} with (15) number of sensors (average fitness is: 39.765100)\n",
      "(epoch 67) ----- The best answer: {59.014288} with (15) number of sensors (average fitness is: 40.788909)\n",
      "(epoch 68) ----- The best answer: {59.014288} with (15) number of sensors (average fitness is: 41.238252)\n",
      "(epoch 69) ----- The best answer: {59.014288} with (15) number of sensors (average fitness is: 41.051064)\n",
      "(epoch 70) ----- The best answer: {59.014288} with (15) number of sensors (average fitness is: 40.700053)\n",
      "(epoch 71) ----- The best answer: {59.014288} with (15) number of sensors (average fitness is: 41.543104)\n",
      "(epoch 72) ----- The best answer: {59.014288} with (15) number of sensors (average fitness is: 39.970012)\n",
      "(epoch 73) ----- The best answer: {59.014288} with (15) number of sensors (average fitness is: 40.491090)\n",
      "(epoch 74) ----- The best answer: {59.014288} with (15) number of sensors (average fitness is: 39.992491)\n",
      "(epoch 75) ----- The best answer: {59.014288} with (15) number of sensors (average fitness is: 41.443522)\n",
      "(epoch 76) ----- The best answer: {59.014288} with (15) number of sensors (average fitness is: 41.539992)\n",
      "(epoch 77) ----- The best answer: {59.014288} with (15) number of sensors (average fitness is: 40.125851)\n",
      "(epoch 78) ----- The best answer: {59.014288} with (15) number of sensors (average fitness is: 39.946505)\n"
     ]
    },
    {
     "name": "stdout",
     "output_type": "stream",
     "text": [
      "(epoch 79) ----- The best answer: {59.014288} with (15) number of sensors (average fitness is: 39.690825)\n",
      "(epoch 80) ----- The best answer: {59.014288} with (15) number of sensors (average fitness is: 40.055416)\n",
      "(epoch 81) ----- The best answer: {59.014288} with (15) number of sensors (average fitness is: 41.302480)\n",
      "(epoch 82) ----- The best answer: {59.014288} with (15) number of sensors (average fitness is: 40.523843)\n",
      "(epoch 83) ----- The best answer: {59.014288} with (15) number of sensors (average fitness is: 40.921321)\n",
      "(epoch 84) ----- The best answer: {60.202393} with (16) number of sensors (average fitness is: 41.507184)\n",
      "(epoch 85) ----- The best answer: {60.202393} with (16) number of sensors (average fitness is: 40.876461)\n",
      "(epoch 86) ----- The best answer: {58.457531} with (14) number of sensors (average fitness is: 40.765066)\n",
      "(epoch 87) ----- The best answer: {58.457531} with (14) number of sensors (average fitness is: 41.274572)\n",
      "(epoch 88) ----- The best answer: {58.457531} with (14) number of sensors (average fitness is: 42.391140)\n",
      "(epoch 89) ----- The best answer: {59.627337} with (15) number of sensors (average fitness is: 42.550207)\n",
      "(epoch 90) ----- The best answer: {59.627337} with (15) number of sensors (average fitness is: 42.056637)\n",
      "(epoch 91) ----- The best answer: {59.627337} with (15) number of sensors (average fitness is: 42.266006)\n",
      "(epoch 92) ----- The best answer: {59.627337} with (15) number of sensors (average fitness is: 41.632349)\n",
      "(epoch 93) ----- The best answer: {59.627337} with (15) number of sensors (average fitness is: 41.913102)\n",
      "(epoch 94) ----- The best answer: {59.627337} with (15) number of sensors (average fitness is: 42.339849)\n",
      "(epoch 95) ----- The best answer: {59.627337} with (15) number of sensors (average fitness is: 41.585237)\n",
      "(epoch 96) ----- The best answer: {59.627337} with (15) number of sensors (average fitness is: 41.727758)\n",
      "(epoch 97) ----- The best answer: {61.526277} with (16) number of sensors (average fitness is: 42.279520)\n",
      "(epoch 98) ----- The best answer: {61.526277} with (16) number of sensors (average fitness is: 41.379448)\n",
      "(epoch 99) ----- The best answer: {61.526277} with (16) number of sensors (average fitness is: 42.507383)\n",
      "(epoch 100) ----- The best answer: {61.526277} with (16) number of sensors (average fitness is: 41.714085)\n",
      "\t Best accuracy found: 61.526277204100104  sensors num used: 16.0\n"
     ]
    }
   ],
   "source": [
    "import SensorOptimizers.GeneticAlgorithm as ga\n",
    "import numpy as np\n",
    "import pickle\n",
    "\n",
    "for i in range(0, 1):\n",
    "    print('----- ', 'Running Genetic Algorithm #', i, ':')\n",
    "    result, best_configuration_history = ga.run(iteration = 100, \n",
    "                                                population = 10,\n",
    "                                                epsilon = 0.5, \n",
    "                                                initSensorNum = 15, \n",
    "                                                maxSensorNum = 15,  \n",
    "                                                radius = 1, \n",
    "                                                mutation_rate = 0.005, \n",
    "                                                crossover = 2,\n",
    "                                                survival_rate = 0.1, \n",
    "                                                reproduction_rate = 0.2,\n",
    "                                                print_epochs = True,\n",
    "                                                ROS = True\n",
    "                                               )\n",
    "\n",
    "    with open('GA_results/history' + str(i + 1), 'wb') as handle:\n",
    "        pickle.dump([result, best_configuration_history], handle, protocol=pickle.HIGHEST_PROTOCOL)\n",
    "    \n",
    "    print('\\t', 'Best accuracy found:', max(result[len(result) - 1])[0], ' sensors num used:', max(result[len(result) - 1])[1])\n",
    "\n"
   ]
  },
  {
   "cell_type": "code",
   "execution_count": null,
   "metadata": {},
   "outputs": [],
   "source": []
  }
 ],
 "metadata": {
  "colab": {
   "collapsed_sections": [],
   "name": "GA.ipynb",
   "provenance": [],
   "toc_visible": true
  },
  "kernelspec": {
   "display_name": "Python 3",
   "language": "python",
   "name": "python3"
  },
  "language_info": {
   "codemirror_mode": {
    "name": "ipython",
    "version": 3
   },
   "file_extension": ".py",
   "mimetype": "text/x-python",
   "name": "python",
   "nbconvert_exporter": "python",
   "pygments_lexer": "ipython3",
   "version": "3.9.0"
  },
  "widgets": {
   "application/vnd.jupyter.widget-state+json": {
    "208ae3a7e6b84f90ad9e6b284aa3721c": {
     "model_module": "@jupyter-widgets/controls",
     "model_module_version": "1.5.0",
     "model_name": "ProgressStyleModel",
     "state": {
      "_model_module": "@jupyter-widgets/controls",
      "_model_module_version": "1.5.0",
      "_model_name": "ProgressStyleModel",
      "_view_count": null,
      "_view_module": "@jupyter-widgets/base",
      "_view_module_version": "1.2.0",
      "_view_name": "StyleView",
      "bar_color": null,
      "description_width": ""
     }
    },
    "441b254622df4958a7d151ad59bb4624": {
     "model_module": "@jupyter-widgets/base",
     "model_module_version": "1.2.0",
     "model_name": "LayoutModel",
     "state": {
      "_model_module": "@jupyter-widgets/base",
      "_model_module_version": "1.2.0",
      "_model_name": "LayoutModel",
      "_view_count": null,
      "_view_module": "@jupyter-widgets/base",
      "_view_module_version": "1.2.0",
      "_view_name": "LayoutView",
      "align_content": null,
      "align_items": null,
      "align_self": null,
      "border": null,
      "bottom": null,
      "display": null,
      "flex": null,
      "flex_flow": null,
      "grid_area": null,
      "grid_auto_columns": null,
      "grid_auto_flow": null,
      "grid_auto_rows": null,
      "grid_column": null,
      "grid_gap": null,
      "grid_row": null,
      "grid_template_areas": null,
      "grid_template_columns": null,
      "grid_template_rows": null,
      "height": null,
      "justify_content": null,
      "justify_items": null,
      "left": null,
      "margin": null,
      "max_height": null,
      "max_width": null,
      "min_height": null,
      "min_width": null,
      "object_fit": null,
      "object_position": null,
      "order": null,
      "overflow": null,
      "overflow_x": null,
      "overflow_y": null,
      "padding": null,
      "right": null,
      "top": null,
      "visibility": null,
      "width": null
     }
    },
    "650f914388934a949db3e622810c6f6e": {
     "model_module": "@jupyter-widgets/controls",
     "model_module_version": "1.5.0",
     "model_name": "IntProgressModel",
     "state": {
      "_dom_classes": [],
      "_model_module": "@jupyter-widgets/controls",
      "_model_module_version": "1.5.0",
      "_model_name": "IntProgressModel",
      "_view_count": null,
      "_view_module": "@jupyter-widgets/controls",
      "_view_module_version": "1.5.0",
      "_view_name": "ProgressView",
      "bar_style": "",
      "description": "",
      "description_tooltip": null,
      "layout": "IPY_MODEL_441b254622df4958a7d151ad59bb4624",
      "max": 100,
      "min": 0,
      "orientation": "horizontal",
      "style": "IPY_MODEL_208ae3a7e6b84f90ad9e6b284aa3721c",
      "value": 41
     }
    }
   }
  }
 },
 "nbformat": 4,
 "nbformat_minor": 1
}
