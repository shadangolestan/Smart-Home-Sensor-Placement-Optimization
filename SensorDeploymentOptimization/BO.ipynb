{
 "cells": [
  {
   "cell_type": "code",
   "execution_count": null,
   "metadata": {
    "scrolled": false
   },
   "outputs": [
    {
     "name": "stdout",
     "output_type": "stream",
     "text": [
      "----- Running BO with: \n",
      " \t - epsilon:  1 \n",
      " \t - sensor #: 10  \n",
      " \t - initial state:  random\n",
      "[Build Surrogate] Use probabilistic random forest based on scikit-learn. For better performance, please install pyrfr: https://open-box.readthedocs.io/en/latest/installation/install_pyrfr.html\n"
     ]
    },
    {
     "name": "stderr",
     "output_type": "stream",
     "text": [
      "\r",
      "  0%|          | 0/1000 [00:00<?, ?it/s]"
     ]
    },
    {
     "name": "stdout",
     "output_type": "stream",
     "text": [
      "[2, 2, 2, 1, 1, 1, 2, 1, 1, 2]\n",
      "[INFO] [2022-02-03 11:51:03,077] [OpenBox-SPO] Iteration 1, objective value: [49.27512013865704].\n"
     ]
    },
    {
     "name": "stderr",
     "output_type": "stream",
     "text": [
      "\r",
      "  0%|          | 1/1000 [00:58<16:17:16, 58.69s/it]"
     ]
    },
    {
     "name": "stdout",
     "output_type": "stream",
     "text": [
      "[2, 1, 1, 2, 2, 2, 2, 1, 2, 2]\n",
      "[INFO] [2022-02-03 11:52:34,080] [OpenBox-SPO] Iteration 2, objective value: [43.18695707917679].\n"
     ]
    },
    {
     "name": "stderr",
     "output_type": "stream",
     "text": [
      "\r",
      "  0%|          | 2/1000 [02:29<21:32:24, 77.70s/it]"
     ]
    },
    {
     "name": "stdout",
     "output_type": "stream",
     "text": [
      "[1, 1, 1, 1, 1, 2, 1, 1, 1, 1]\n",
      "[INFO] [2022-02-03 11:53:17,864] [OpenBox-SPO] Iteration 3, objective value: [52.27394441699615].\n"
     ]
    },
    {
     "name": "stderr",
     "output_type": "stream",
     "text": [
      "\r",
      "  0%|          | 3/1000 [03:13<17:13:46, 62.21s/it]"
     ]
    },
    {
     "name": "stdout",
     "output_type": "stream",
     "text": [
      "[2, 2, 2, 1, 2, 1, 2, 2, 2, 1]\n",
      "[INFO] [2022-02-03 11:54:36,277] [OpenBox-SPO] Iteration 4, objective value: [38.136443786738084].\n"
     ]
    },
    {
     "name": "stderr",
     "output_type": "stream",
     "text": [
      "\r",
      "  0%|          | 4/1000 [04:31<18:58:54, 68.61s/it]"
     ]
    },
    {
     "name": "stdout",
     "output_type": "stream",
     "text": [
      "[2, 1, 2, 2, 1, 1, 1, 2, 1, 1]\n",
      "[INFO] [2022-02-03 11:55:29,563] [OpenBox-SPO] Iteration 5, objective value: [45.71008521232643].\n"
     ]
    },
    {
     "name": "stderr",
     "output_type": "stream",
     "text": [
      "\r",
      "  0%|          | 5/1000 [05:25<17:26:07, 63.08s/it]"
     ]
    },
    {
     "name": "stdout",
     "output_type": "stream",
     "text": [
      "[1, 2, 1, 1, 2, 2, 1, 2, 1, 1]\n",
      "[INFO] [2022-02-03 11:56:29,421] [OpenBox-SPO] Iteration 6, objective value: [44.66081925261452].\n"
     ]
    },
    {
     "name": "stderr",
     "output_type": "stream",
     "text": [
      "\r",
      "  1%|          | 6/1000 [06:25<17:06:54, 61.99s/it]"
     ]
    },
    {
     "name": "stdout",
     "output_type": "stream",
     "text": [
      "[2, 1, 1, 2, 1, 1, 2, 1, 1, 1]\n",
      "[INFO] [2022-02-03 11:57:31,465] [OpenBox-SPO] Iteration 7, objective value: [46.934805132455296].\n"
     ]
    },
    {
     "name": "stderr",
     "output_type": "stream",
     "text": [
      "\r",
      "  1%|          | 7/1000 [07:27<17:06:11, 62.01s/it]"
     ]
    },
    {
     "name": "stdout",
     "output_type": "stream",
     "text": [
      "[1, 2, 2, 2, 2, 1, 1, 2, 2, 2]\n",
      "[INFO] [2022-02-03 11:59:19,056] [OpenBox-SPO] Iteration 8, objective value: [43.238771953576936].\n"
     ]
    },
    {
     "name": "stderr",
     "output_type": "stream",
     "text": [
      "\r",
      "  1%|          | 8/1000 [09:14<21:05:05, 76.52s/it]"
     ]
    },
    {
     "name": "stdout",
     "output_type": "stream",
     "text": [
      "[1, 2, 1, 2, 2, 1, 2, 1, 2, 2]\n",
      "[INFO] [2022-02-03 12:00:56,913] [OpenBox-SPO] Iteration 9, objective value: [44.3174997953415].\n"
     ]
    },
    {
     "name": "stderr",
     "output_type": "stream",
     "text": [
      "\r",
      "  1%|          | 9/1000 [10:52<22:53:59, 83.19s/it]"
     ]
    },
    {
     "name": "stdout",
     "output_type": "stream",
     "text": [
      "[2, 1, 1, 2, 1, 1, 2, 1, 1, 1]\n",
      "[INFO] [2022-02-03 12:02:19,517] [OpenBox-SPO] Iteration 10, objective value: [33.387315928794976].\n"
     ]
    },
    {
     "name": "stderr",
     "output_type": "stream",
     "text": [
      "\r",
      "  1%|          | 10/1000 [12:15<22:49:37, 83.01s/it]"
     ]
    },
    {
     "name": "stdout",
     "output_type": "stream",
     "text": [
      "[1, 2, 1, 1, 1, 2, 1, 1, 1, 2]\n",
      "[INFO] [2022-02-03 12:02:59,340] [OpenBox-SPO] Iteration 11, objective value: [50.40485993213858].\n"
     ]
    },
    {
     "name": "stderr",
     "output_type": "stream",
     "text": [
      "\r",
      "  1%|          | 11/1000 [12:54<19:10:23, 69.79s/it]"
     ]
    },
    {
     "name": "stdout",
     "output_type": "stream",
     "text": [
      "[2, 1, 2, 2, 2, 1, 2, 2, 2, 1]\n",
      "[INFO] [2022-02-03 12:04:26,089] [OpenBox-SPO] Iteration 12, objective value: [41.40957677908531].\n"
     ]
    },
    {
     "name": "stderr",
     "output_type": "stream",
     "text": [
      "\r",
      "  1%|          | 12/1000 [14:21<20:34:12, 74.95s/it]"
     ]
    },
    {
     "name": "stdout",
     "output_type": "stream",
     "text": [
      "[1, 1, 1, 1, 1, 1, 2, 2, 2, 1]\n",
      "[INFO] [2022-02-03 12:05:07,168] [OpenBox-SPO] Iteration 13, objective value: [50.48969862279259].\n"
     ]
    },
    {
     "name": "stderr",
     "output_type": "stream",
     "text": [
      "\r",
      "  1%|▏         | 13/1000 [15:02<17:44:07, 64.69s/it]"
     ]
    },
    {
     "name": "stdout",
     "output_type": "stream",
     "text": [
      "[1, 2, 2, 2, 1, 1, 2, 2, 2, 1]\n",
      "[INFO] [2022-02-03 12:07:04,750] [OpenBox-SPO] Iteration 14, objective value: [45.632853958436314].\n"
     ]
    },
    {
     "name": "stderr",
     "output_type": "stream",
     "text": [
      "\r",
      "  1%|▏         | 14/1000 [17:00<22:05:35, 80.67s/it]"
     ]
    },
    {
     "name": "stdout",
     "output_type": "stream",
     "text": [
      "[1, 2, 1, 2, 1, 1, 1, 2, 2, 2]\n",
      "[INFO] [2022-02-03 12:08:29,356] [OpenBox-SPO] Iteration 15, objective value: [42.7602128658766].\n"
     ]
    },
    {
     "name": "stderr",
     "output_type": "stream",
     "text": [
      "\r",
      "  2%|▏         | 15/1000 [18:24<22:23:45, 81.85s/it]"
     ]
    },
    {
     "name": "stdout",
     "output_type": "stream",
     "text": [
      "[2, 2, 1, 1, 2, 2, 2, 1, 2, 1]\n",
      "[INFO] [2022-02-03 12:09:56,444] [OpenBox-SPO] Iteration 16, objective value: [39.11472910867122].\n"
     ]
    },
    {
     "name": "stderr",
     "output_type": "stream",
     "text": [
      "\r",
      "  2%|▏         | 16/1000 [19:52<22:48:14, 83.43s/it]"
     ]
    },
    {
     "name": "stdout",
     "output_type": "stream",
     "text": [
      "[2, 1, 2, 1, 2, 1, 2, 1, 1, 1]\n",
      "[INFO] [2022-02-03 12:11:10,002] [OpenBox-SPO] Iteration 17, objective value: [36.847115906950734].\n"
     ]
    },
    {
     "name": "stderr",
     "output_type": "stream",
     "text": [
      "\r",
      "  2%|▏         | 17/1000 [21:05<21:58:12, 80.46s/it]"
     ]
    },
    {
     "name": "stdout",
     "output_type": "stream",
     "text": [
      "[2, 1, 1, 1, 1, 1, 2, 1, 1, 1]\n",
      "[INFO] [2022-02-03 12:12:15,328] [OpenBox-SPO] Iteration 18, objective value: [34.33112974285976].\n"
     ]
    },
    {
     "name": "stderr",
     "output_type": "stream",
     "text": [
      "\r",
      "  2%|▏         | 18/1000 [22:10<20:42:26, 75.91s/it]"
     ]
    },
    {
     "name": "stdout",
     "output_type": "stream",
     "text": [
      "[1, 2, 1, 1, 1, 2, 1, 2, 2, 1]\n",
      "[INFO] [2022-02-03 12:13:20,559] [OpenBox-SPO] Iteration 19, objective value: [43.38819594892506].\n"
     ]
    },
    {
     "name": "stderr",
     "output_type": "stream",
     "text": [
      "\r",
      "  2%|▏         | 19/1000 [23:16<19:48:43, 72.70s/it]"
     ]
    },
    {
     "name": "stdout",
     "output_type": "stream",
     "text": [
      "[2, 1, 1, 1, 1, 1, 2, 1, 1, 1]\n",
      "[INFO] [2022-02-03 12:14:15,579] [OpenBox-SPO] Iteration 20, objective value: [44.444324060864915].\n"
     ]
    },
    {
     "name": "stderr",
     "output_type": "stream",
     "text": [
      "\r",
      "  2%|▏         | 20/1000 [24:11<18:20:47, 67.39s/it]"
     ]
    },
    {
     "name": "stdout",
     "output_type": "stream",
     "text": [
      "[2, 1, 2, 1, 2, 1, 2, 1, 1, 1]\n",
      "[INFO] [2022-02-03 12:15:37,072] [OpenBox-SPO] Iteration 21, objective value: [35.86493291237001].\n"
     ]
    },
    {
     "name": "stderr",
     "output_type": "stream",
     "text": [
      "\r",
      "  2%|▏         | 21/1000 [25:32<19:28:42, 71.63s/it]"
     ]
    },
    {
     "name": "stdout",
     "output_type": "stream",
     "text": [
      "[2, 1, 1, 1, 1, 1, 2, 1, 1, 1]\n",
      "[INFO] [2022-02-03 12:16:54,635] [OpenBox-SPO] Iteration 22, objective value: [36.49281196234588].\n"
     ]
    },
    {
     "name": "stderr",
     "output_type": "stream",
     "text": [
      "\r",
      "  2%|▏         | 22/1000 [26:50<19:56:33, 73.41s/it]"
     ]
    },
    {
     "name": "stdout",
     "output_type": "stream",
     "text": [
      "[1, 1, 1, 2, 1, 1, 2, 1, 1, 1]\n",
      "[INFO] [2022-02-03 12:18:11,666] [OpenBox-SPO] Iteration 23, objective value: [39.128441830787665].\n"
     ]
    },
    {
     "name": "stderr",
     "output_type": "stream",
     "text": [
      "\r",
      "  2%|▏         | 23/1000 [28:07<20:13:02, 74.50s/it]"
     ]
    },
    {
     "name": "stdout",
     "output_type": "stream",
     "text": [
      "[2, 1, 2, 1, 1, 1, 2, 1, 1, 2]\n",
      "[INFO] [2022-02-03 12:19:29,918] [OpenBox-SPO] Iteration 24, objective value: [38.17098759411229].\n"
     ]
    },
    {
     "name": "stderr",
     "output_type": "stream",
     "text": [
      "\r",
      "  2%|▏         | 24/1000 [29:25<20:30:07, 75.62s/it]"
     ]
    },
    {
     "name": "stdout",
     "output_type": "stream",
     "text": [
      "[1, 1, 1, 1, 1, 2, 1, 2, 2, 1]\n",
      "[INFO] [2022-02-03 12:20:05,441] [OpenBox-SPO] Iteration 25, objective value: [51.59792720675149].\n"
     ]
    },
    {
     "name": "stderr",
     "output_type": "stream",
     "text": [
      "\r",
      "  2%|▎         | 25/1000 [30:01<17:13:21, 63.59s/it]"
     ]
    },
    {
     "name": "stdout",
     "output_type": "stream",
     "text": [
      "[2, 1, 2, 1, 2, 1, 2, 1, 1, 1]\n",
      "[INFO] [2022-02-03 12:21:53,655] [OpenBox-SPO] Iteration 26, objective value: [43.795185242112176].\n"
     ]
    },
    {
     "name": "stderr",
     "output_type": "stream",
     "text": [
      "\r",
      "  3%|▎         | 26/1000 [31:49<20:49:37, 76.98s/it]"
     ]
    },
    {
     "name": "stdout",
     "output_type": "stream",
     "text": [
      "[2, 1, 1, 1, 2, 2, 2, 2, 2, 1]\n",
      "[INFO] [2022-02-03 12:23:15,950] [OpenBox-SPO] Iteration 27, objective value: [35.9679795394585].\n"
     ]
    },
    {
     "name": "stderr",
     "output_type": "stream",
     "text": [
      "\r",
      "  3%|▎         | 27/1000 [33:11<21:14:12, 78.57s/it]"
     ]
    },
    {
     "name": "stdout",
     "output_type": "stream",
     "text": [
      "[2, 1, 1, 2, 2, 1, 2, 1, 1, 1]\n",
      "[INFO] [2022-02-03 12:24:57,681] [OpenBox-SPO] Iteration 28, objective value: [30.912163667858422].\n"
     ]
    },
    {
     "name": "stderr",
     "output_type": "stream",
     "text": [
      "\r",
      "  3%|▎         | 28/1000 [34:53<23:05:26, 85.52s/it]"
     ]
    },
    {
     "name": "stdout",
     "output_type": "stream",
     "text": [
      "[2, 1, 1, 1, 1, 2, 2, 2, 2, 1]\n",
      "[INFO] [2022-02-03 12:26:33,097] [OpenBox-SPO] Iteration 29, objective value: [43.49380656201124].\n"
     ]
    },
    {
     "name": "stderr",
     "output_type": "stream",
     "text": [
      "\r",
      "  3%|▎         | 29/1000 [36:28<23:52:03, 88.49s/it]"
     ]
    },
    {
     "name": "stdout",
     "output_type": "stream",
     "text": [
      "[2, 1, 1, 1, 1, 1, 2, 1, 1, 1]\n",
      "[INFO] [2022-02-03 12:27:56,470] [OpenBox-SPO] Iteration 30, objective value: [43.35810981533139].\n"
     ]
    },
    {
     "name": "stderr",
     "output_type": "stream",
     "text": [
      "\r",
      "  3%|▎         | 30/1000 [37:52<23:25:46, 86.96s/it]"
     ]
    },
    {
     "name": "stdout",
     "output_type": "stream",
     "text": [
      "[2, 1, 1, 2, 1, 1, 2, 1, 1, 1]\n",
      "[INFO] [2022-02-03 12:29:25,266] [OpenBox-SPO] Iteration 31, objective value: [39.89567317176085].\n"
     ]
    },
    {
     "name": "stderr",
     "output_type": "stream",
     "text": [
      "\r",
      "  3%|▎         | 31/1000 [39:20<23:33:14, 87.51s/it]"
     ]
    },
    {
     "name": "stdout",
     "output_type": "stream",
     "text": [
      "[2, 1, 1, 2, 2, 1, 2, 1, 1, 1]\n",
      "[INFO] [2022-02-03 12:31:01,587] [OpenBox-SPO] Iteration 32, objective value: [32.29028413399702].\n"
     ]
    },
    {
     "name": "stderr",
     "output_type": "stream",
     "text": [
      "\r",
      "  3%|▎         | 32/1000 [40:57<24:14:26, 90.15s/it]"
     ]
    },
    {
     "name": "stdout",
     "output_type": "stream",
     "text": [
      "[2, 1, 1, 2, 2, 1, 2, 1, 1, 1]\n",
      "[INFO] [2022-02-03 12:32:36,731] [OpenBox-SPO] Iteration 33, objective value: [25.364453657315806].\n"
     ]
    },
    {
     "name": "stderr",
     "output_type": "stream",
     "text": [
      "\r",
      "  3%|▎         | 33/1000 [42:32<24:37:04, 91.65s/it]"
     ]
    },
    {
     "name": "stdout",
     "output_type": "stream",
     "text": [
      "[2, 2, 1, 2, 2, 2, 1, 2, 1, 1]\n",
      "[INFO] [2022-02-03 12:34:08,417] [OpenBox-SPO] Iteration 34, objective value: [46.1495846996975].\n"
     ]
    },
    {
     "name": "stderr",
     "output_type": "stream",
     "text": [
      "\r",
      "  3%|▎         | 34/1000 [44:04<24:35:43, 91.66s/it]"
     ]
    },
    {
     "name": "stdout",
     "output_type": "stream",
     "text": [
      "[2, 1, 1, 2, 2, 1, 2, 1, 1, 1]\n",
      "[INFO] [2022-02-03 12:35:38,588] [OpenBox-SPO] Iteration 35, objective value: [44.137169468593854].\n"
     ]
    },
    {
     "name": "stderr",
     "output_type": "stream",
     "text": [
      "\r",
      "  4%|▎         | 35/1000 [45:34<24:27:00, 91.21s/it]"
     ]
    },
    {
     "name": "stdout",
     "output_type": "stream",
     "text": [
      "[1, 1, 2, 2, 2, 1, 2, 1, 1, 1]\n",
      "[INFO] [2022-02-03 12:37:02,878] [OpenBox-SPO] Iteration 36, objective value: [34.989887256915495].\n"
     ]
    },
    {
     "name": "stderr",
     "output_type": "stream",
     "text": [
      "\r",
      "  4%|▎         | 36/1000 [46:58<23:52:07, 89.14s/it]"
     ]
    },
    {
     "name": "stdout",
     "output_type": "stream",
     "text": [
      "[2, 1, 1, 2, 2, 2, 2, 1, 1, 1]\n",
      "[INFO] [2022-02-03 12:38:47,628] [OpenBox-SPO] Iteration 37, objective value: [33.74285349648011].\n"
     ]
    },
    {
     "name": "stderr",
     "output_type": "stream",
     "text": [
      "\r",
      "  4%|▎         | 37/1000 [48:43<25:05:49, 93.82s/it]"
     ]
    },
    {
     "name": "stdout",
     "output_type": "stream",
     "text": [
      "[1, 1, 1, 1, 2, 1, 2, 1, 1, 1]\n",
      "[INFO] [2022-02-03 12:40:00,632] [OpenBox-SPO] Iteration 38, objective value: [35.08308271703953].\n"
     ]
    },
    {
     "name": "stderr",
     "output_type": "stream",
     "text": [
      "\r",
      "  4%|▍         | 38/1000 [49:56<23:24:07, 87.58s/it]"
     ]
    },
    {
     "name": "stdout",
     "output_type": "stream",
     "text": [
      "[2, 1, 1, 1, 2, 2, 2, 2, 2, 2]\n",
      "[INFO] [2022-02-03 12:41:45,169] [OpenBox-SPO] Iteration 39, objective value: [36.84863088116814].\n"
     ]
    },
    {
     "name": "stderr",
     "output_type": "stream",
     "text": [
      "\r",
      "  4%|▍         | 39/1000 [51:40<24:44:10, 92.66s/it]"
     ]
    },
    {
     "name": "stdout",
     "output_type": "stream",
     "text": [
      "[1, 2, 1, 1, 1, 2, 2, 2, 1, 1]\n",
      "[INFO] [2022-02-03 12:42:35,805] [OpenBox-SPO] Iteration 40, objective value: [42.914171327258785].\n"
     ]
    },
    {
     "name": "stderr",
     "output_type": "stream",
     "text": [
      "\r",
      "  4%|▍         | 40/1000 [52:31<21:20:53, 80.06s/it]"
     ]
    },
    {
     "name": "stdout",
     "output_type": "stream",
     "text": [
      "[1, 2, 1, 2, 2, 2, 2, 2, 1, 1]\n",
      "[INFO] [2022-02-03 12:43:28,653] [OpenBox-SPO] Iteration 41, objective value: [41.42352482166955].\n"
     ]
    },
    {
     "name": "stderr",
     "output_type": "stream",
     "text": [
      "\r",
      "  4%|▍         | 41/1000 [53:24<19:09:05, 71.89s/it]"
     ]
    },
    {
     "name": "stdout",
     "output_type": "stream",
     "text": [
      "[1, 1, 1, 2, 2, 2, 2, 1, 1, 1]\n",
      "[INFO] [2022-02-03 12:44:50,927] [OpenBox-SPO] Iteration 42, objective value: [32.19577729243903].\n"
     ]
    },
    {
     "name": "stderr",
     "output_type": "stream",
     "text": [
      "\r",
      "  4%|▍         | 42/1000 [54:46<19:57:37, 75.01s/it]"
     ]
    },
    {
     "name": "stdout",
     "output_type": "stream",
     "text": [
      "[2, 1, 1, 2, 1, 1, 2, 1, 1, 1]\n",
      "[INFO] [2022-02-03 12:46:05,901] [OpenBox-SPO] Iteration 43, objective value: [37.832297146416785].\n"
     ]
    },
    {
     "name": "stderr",
     "output_type": "stream",
     "text": [
      "\r",
      "  4%|▍         | 43/1000 [56:01<19:56:12, 75.00s/it]"
     ]
    },
    {
     "name": "stdout",
     "output_type": "stream",
     "text": [
      "[2, 1, 1, 2, 1, 1, 2, 1, 1, 1]\n",
      "[INFO] [2022-02-03 12:47:24,940] [OpenBox-SPO] Iteration 44, objective value: [27.371691842099693].\n"
     ]
    },
    {
     "name": "stderr",
     "output_type": "stream",
     "text": [
      "\r",
      "  4%|▍         | 44/1000 [57:20<20:14:16, 76.21s/it]"
     ]
    },
    {
     "name": "stdout",
     "output_type": "stream",
     "text": [
      "[2, 1, 1, 2, 1, 1, 2, 1, 1, 1]\n",
      "[INFO] [2022-02-03 12:48:24,175] [OpenBox-SPO] Iteration 45, objective value: [41.20835022482798].\n"
     ]
    },
    {
     "name": "stderr",
     "output_type": "stream",
     "text": [
      "\r",
      "  4%|▍         | 45/1000 [58:19<18:51:57, 71.12s/it]"
     ]
    },
    {
     "name": "stdout",
     "output_type": "stream",
     "text": [
      "[2, 1, 1, 2, 2, 2, 2, 1, 1, 1]\n",
      "[INFO] [2022-02-03 12:49:57,164] [OpenBox-SPO] Iteration 46, objective value: [30.154737777528013].\n"
     ]
    },
    {
     "name": "stderr",
     "output_type": "stream",
     "text": [
      "\r",
      "  5%|▍         | 46/1000 [59:52<20:35:05, 77.68s/it]"
     ]
    },
    {
     "name": "stdout",
     "output_type": "stream",
     "text": [
      "[2, 1, 1, 1, 1, 1, 1, 1, 1, 1]\n",
      "[INFO] [2022-02-03 12:51:04,035] [OpenBox-SPO] Iteration 47, objective value: [48.23796272140657].\n"
     ]
    },
    {
     "name": "stderr",
     "output_type": "stream",
     "text": [
      "\r",
      "  5%|▍         | 47/1000 [1:00:59<19:42:17, 74.44s/it]"
     ]
    },
    {
     "name": "stdout",
     "output_type": "stream",
     "text": [
      "[2, 1, 1, 2, 1, 2, 2, 1, 1, 1]\n",
      "[INFO] [2022-02-03 12:52:21,450] [OpenBox-SPO] Iteration 48, objective value: [33.734788174164905].\n"
     ]
    },
    {
     "name": "stderr",
     "output_type": "stream",
     "text": [
      "\r",
      "  5%|▍         | 48/1000 [1:02:17<19:55:14, 75.33s/it]"
     ]
    },
    {
     "name": "stdout",
     "output_type": "stream",
     "text": [
      "[1, 1, 1, 1, 2, 1, 1, 1, 1, 1]\n",
      "[INFO] [2022-02-03 12:53:29,573] [OpenBox-SPO] Iteration 49, objective value: [37.71855786675983].\n"
     ]
    },
    {
     "name": "stderr",
     "output_type": "stream",
     "text": [
      "\r",
      "  5%|▍         | 49/1000 [1:03:25<19:19:42, 73.17s/it]"
     ]
    },
    {
     "name": "stdout",
     "output_type": "stream",
     "text": [
      "[2, 1, 1, 2, 2, 1, 1, 1, 1, 1]\n",
      "[INFO] [2022-02-03 12:54:46,528] [OpenBox-SPO] Iteration 50, objective value: [32.56439809812363].\n"
     ]
    },
    {
     "name": "stderr",
     "output_type": "stream",
     "text": [
      "\r",
      "  5%|▌         | 50/1000 [1:04:42<19:36:29, 74.30s/it]"
     ]
    },
    {
     "name": "stdout",
     "output_type": "stream",
     "text": [
      "[2, 1, 1, 1, 1, 2, 2, 1, 1, 1]\n",
      "[INFO] [2022-02-03 12:56:01,564] [OpenBox-SPO] Iteration 51, objective value: [40.46079833007763].\n"
     ]
    },
    {
     "name": "stderr",
     "output_type": "stream",
     "text": [
      "\r",
      "  5%|▌         | 51/1000 [1:05:57<19:38:42, 74.52s/it]"
     ]
    },
    {
     "name": "stdout",
     "output_type": "stream",
     "text": [
      "[2, 1, 1, 2, 2, 1, 1, 1, 1, 1]\n",
      "[INFO] [2022-02-03 12:57:43,920] [OpenBox-SPO] Iteration 52, objective value: [36.25476547514867].\n"
     ]
    },
    {
     "name": "stderr",
     "output_type": "stream",
     "text": [
      "\r",
      "  5%|▌         | 52/1000 [1:07:39<21:49:24, 82.87s/it]"
     ]
    },
    {
     "name": "stdout",
     "output_type": "stream",
     "text": [
      "[1, 1, 1, 2, 2, 1, 1, 1, 1, 1]\n",
      "[INFO] [2022-02-03 12:59:04,989] [OpenBox-SPO] Iteration 53, objective value: [44.80791017979612].\n"
     ]
    },
    {
     "name": "stderr",
     "output_type": "stream",
     "text": [
      "\r",
      "  5%|▌         | 53/1000 [1:09:00<21:39:28, 82.33s/it]"
     ]
    },
    {
     "name": "stdout",
     "output_type": "stream",
     "text": [
      "[2, 1, 1, 2, 2, 1, 2, 1, 1, 1]\n",
      "[INFO] [2022-02-03 13:00:24,784] [OpenBox-SPO] Iteration 54, objective value: [39.89388136997704].\n"
     ]
    },
    {
     "name": "stderr",
     "output_type": "stream",
     "text": [
      "\r",
      "  5%|▌         | 54/1000 [1:10:20<21:26:06, 81.57s/it]"
     ]
    },
    {
     "name": "stdout",
     "output_type": "stream",
     "text": [
      "[2, 1, 1, 2, 2, 1, 1, 1, 1, 1]\n",
      "[INFO] [2022-02-03 13:01:36,530] [OpenBox-SPO] Iteration 55, objective value: [43.19540879465988].\n"
     ]
    },
    {
     "name": "stderr",
     "output_type": "stream",
     "text": [
      "\r",
      "  6%|▌         | 55/1000 [1:11:32<20:38:19, 78.62s/it]"
     ]
    },
    {
     "name": "stdout",
     "output_type": "stream",
     "text": [
      "[2, 1, 1, 2, 1, 2, 2, 1, 1, 1]\n",
      "[INFO] [2022-02-03 13:03:03,557] [OpenBox-SPO] Iteration 56, objective value: [38.27437671599908].\n"
     ]
    },
    {
     "name": "stderr",
     "output_type": "stream",
     "text": [
      "\r",
      "  6%|▌         | 56/1000 [1:12:59<21:16:40, 81.14s/it]"
     ]
    },
    {
     "name": "stdout",
     "output_type": "stream",
     "text": [
      "[2, 1, 1, 2, 1, 1, 2, 1, 1, 1]\n",
      "[INFO] [2022-02-03 13:04:28,576] [OpenBox-SPO] Iteration 57, objective value: [39.61640958154552].\n"
     ]
    },
    {
     "name": "stderr",
     "output_type": "stream",
     "text": [
      "\r",
      "  6%|▌         | 57/1000 [1:14:24<21:33:34, 82.31s/it]"
     ]
    },
    {
     "name": "stdout",
     "output_type": "stream",
     "text": [
      "[2, 2, 1, 2, 2, 1, 2, 1, 1, 1]\n",
      "[INFO] [2022-02-03 13:06:15,566] [OpenBox-SPO] Iteration 58, objective value: [37.62468877676376].\n"
     ]
    },
    {
     "name": "stderr",
     "output_type": "stream",
     "text": [
      "\r",
      "  6%|▌         | 58/1000 [1:16:11<23:28:28, 89.71s/it]"
     ]
    },
    {
     "name": "stdout",
     "output_type": "stream",
     "text": [
      "[2, 1, 1, 2, 1, 1, 2, 1, 1, 1]\n",
      "[INFO] [2022-02-03 13:08:08,810] [OpenBox-SPO] Iteration 59, objective value: [38.38607822216644].\n"
     ]
    },
    {
     "name": "stderr",
     "output_type": "stream",
     "text": [
      "\r",
      "  6%|▌         | 59/1000 [1:18:04<25:17:41, 96.77s/it]"
     ]
    },
    {
     "name": "stdout",
     "output_type": "stream",
     "text": [
      "[2, 1, 1, 2, 2, 2, 2, 1, 1, 1]\n",
      "[INFO] [2022-02-03 13:10:13,053] [OpenBox-SPO] Iteration 60, objective value: [35.419981754428335].\n"
     ]
    },
    {
     "name": "stderr",
     "output_type": "stream",
     "text": [
      "\r",
      "  6%|▌         | 60/1000 [1:20:08<27:25:12, 105.01s/it]"
     ]
    },
    {
     "name": "stdout",
     "output_type": "stream",
     "text": [
      "[2, 1, 1, 2, 2, 1, 2, 1, 1, 1]\n",
      "[INFO] [2022-02-03 13:11:49,149] [OpenBox-SPO] Iteration 61, objective value: [44.57611728241171].\n"
     ]
    },
    {
     "name": "stderr",
     "output_type": "stream",
     "text": [
      "\r",
      "  6%|▌         | 61/1000 [1:21:44<26:41:35, 102.34s/it]"
     ]
    },
    {
     "name": "stdout",
     "output_type": "stream",
     "text": [
      "[2, 1, 1, 2, 2, 1, 1, 1, 1, 1]\n",
      "[INFO] [2022-02-03 13:13:12,025] [OpenBox-SPO] Iteration 62, objective value: [33.24461170099653].\n"
     ]
    },
    {
     "name": "stderr",
     "output_type": "stream",
     "text": [
      "\r",
      "  6%|▌         | 62/1000 [1:23:07<25:08:36, 96.50s/it] "
     ]
    },
    {
     "name": "stdout",
     "output_type": "stream",
     "text": [
      "[2, 1, 1, 2, 2, 1, 2, 1, 1, 1]\n",
      "[INFO] [2022-02-03 13:14:33,426] [OpenBox-SPO] Iteration 63, objective value: [34.69553465152893].\n"
     ]
    },
    {
     "name": "stderr",
     "output_type": "stream",
     "text": [
      "\r",
      "  6%|▋         | 63/1000 [1:24:29<23:56:15, 91.97s/it]"
     ]
    },
    {
     "name": "stdout",
     "output_type": "stream",
     "text": [
      "[1, 1, 1, 2, 2, 2, 1, 1, 1, 1]\n",
      "[INFO] [2022-02-03 13:15:50,111] [OpenBox-SPO] Iteration 64, objective value: [33.38925471666332].\n"
     ]
    },
    {
     "name": "stderr",
     "output_type": "stream",
     "text": [
      "\r",
      "  6%|▋         | 64/1000 [1:25:45<22:43:11, 87.38s/it]"
     ]
    },
    {
     "name": "stdout",
     "output_type": "stream",
     "text": [
      "[1, 1, 1, 2, 2, 2, 2, 1, 1, 1]\n",
      "[INFO] [2022-02-03 13:17:04,192] [OpenBox-SPO] Iteration 65, objective value: [31.383198433619455].\n"
     ]
    },
    {
     "name": "stderr",
     "output_type": "stream",
     "text": [
      "\r",
      "  6%|▋         | 65/1000 [1:26:59<21:39:32, 83.39s/it]"
     ]
    },
    {
     "name": "stdout",
     "output_type": "stream",
     "text": [
      "[2, 2, 1, 2, 2, 2, 1, 1, 1, 1]\n",
      "[INFO] [2022-02-03 13:18:26,123] [OpenBox-SPO] Iteration 66, objective value: [40.69025450240105].\n"
     ]
    },
    {
     "name": "stderr",
     "output_type": "stream",
     "text": [
      "\r",
      "  7%|▋         | 66/1000 [1:28:21<21:31:19, 82.95s/it]"
     ]
    },
    {
     "name": "stdout",
     "output_type": "stream",
     "text": [
      "[2, 1, 2, 2, 2, 2, 2, 1, 1, 1]\n",
      "[INFO] [2022-02-03 13:20:09,681] [OpenBox-SPO] Iteration 67, objective value: [38.64811253242966].\n"
     ]
    },
    {
     "name": "stderr",
     "output_type": "stream",
     "text": [
      "\r",
      "  7%|▋         | 67/1000 [1:30:05<23:06:03, 89.14s/it]"
     ]
    },
    {
     "name": "stdout",
     "output_type": "stream",
     "text": [
      "[2, 2, 1, 2, 2, 2, 2, 2, 1, 1]\n",
      "[INFO] [2022-02-03 13:21:56,126] [OpenBox-SPO] Iteration 68, objective value: [37.355763595652746].\n"
     ]
    },
    {
     "name": "stderr",
     "output_type": "stream",
     "text": [
      "\r",
      "  7%|▋         | 68/1000 [1:31:51<24:25:14, 94.33s/it]"
     ]
    },
    {
     "name": "stdout",
     "output_type": "stream",
     "text": [
      "[2, 1, 1, 2, 2, 2, 2, 1, 1, 1]\n",
      "[INFO] [2022-02-03 13:23:29,949] [OpenBox-SPO] Iteration 69, objective value: [32.586910463971535].\n"
     ]
    },
    {
     "name": "stderr",
     "output_type": "stream",
     "text": [
      "\r",
      "  7%|▋         | 69/1000 [1:33:25<24:21:18, 94.18s/it]"
     ]
    },
    {
     "name": "stdout",
     "output_type": "stream",
     "text": [
      "[2, 1, 1, 1, 2, 1, 2, 1, 1, 1]\n",
      "[INFO] [2022-02-03 13:24:56,390] [OpenBox-SPO] Iteration 70, objective value: [33.79560752143638].\n"
     ]
    },
    {
     "name": "stderr",
     "output_type": "stream",
     "text": [
      "\r",
      "  7%|▋         | 70/1000 [1:34:52<23:43:45, 91.86s/it]"
     ]
    },
    {
     "name": "stdout",
     "output_type": "stream",
     "text": [
      "[1, 1, 1, 2, 2, 2, 2, 2, 1, 1]\n",
      "[INFO] [2022-02-03 13:26:21,597] [OpenBox-SPO] Iteration 71, objective value: [36.318603962228416].\n"
     ]
    },
    {
     "name": "stderr",
     "output_type": "stream",
     "text": [
      "\r",
      "  7%|▋         | 71/1000 [1:36:17<23:11:21, 89.86s/it]"
     ]
    },
    {
     "name": "stdout",
     "output_type": "stream",
     "text": [
      "[2, 2, 1, 2, 2, 1, 1, 1, 2, 1]\n",
      "[INFO] [2022-02-03 13:28:08,045] [OpenBox-SPO] Iteration 72, objective value: [39.016819517976245].\n"
     ]
    },
    {
     "name": "stderr",
     "output_type": "stream",
     "text": [
      "\r",
      "  7%|▋         | 72/1000 [1:38:03<24:26:48, 94.84s/it]"
     ]
    },
    {
     "name": "stdout",
     "output_type": "stream",
     "text": [
      "[1, 1, 1, 2, 2, 1, 1, 1, 1, 1]\n",
      "[INFO] [2022-02-03 13:29:11,952] [OpenBox-SPO] Iteration 73, objective value: [38.47726891510332].\n"
     ]
    },
    {
     "name": "stderr",
     "output_type": "stream",
     "text": [
      "\r",
      "  7%|▋         | 73/1000 [1:39:07<22:01:52, 85.56s/it]"
     ]
    },
    {
     "name": "stdout",
     "output_type": "stream",
     "text": [
      "[2, 1, 1, 2, 2, 1, 2, 1, 2, 1]\n",
      "[INFO] [2022-02-03 13:30:41,351] [OpenBox-SPO] Iteration 74, objective value: [39.762768808904525].\n"
     ]
    },
    {
     "name": "stderr",
     "output_type": "stream",
     "text": [
      "\r",
      "  7%|▋         | 74/1000 [1:40:36<22:18:13, 86.71s/it]"
     ]
    },
    {
     "name": "stdout",
     "output_type": "stream",
     "text": [
      "[2, 1, 1, 2, 2, 1, 2, 1, 1, 1]\n",
      "[INFO] [2022-02-03 13:32:10,093] [OpenBox-SPO] Iteration 75, objective value: [34.39071505383471].\n"
     ]
    },
    {
     "name": "stderr",
     "output_type": "stream",
     "text": [
      "\r",
      "  8%|▊         | 75/1000 [1:42:05<22:26:10, 87.32s/it]"
     ]
    },
    {
     "name": "stdout",
     "output_type": "stream",
     "text": [
      "[2, 1, 1, 2, 2, 2, 2, 1, 1, 2]\n",
      "[INFO] [2022-02-03 13:33:41,647] [OpenBox-SPO] Iteration 76, objective value: [35.36013105233515].\n"
     ]
    },
    {
     "name": "stderr",
     "output_type": "stream",
     "text": [
      "\r",
      "  8%|▊         | 76/1000 [1:43:37<22:44:17, 88.59s/it]"
     ]
    },
    {
     "name": "stdout",
     "output_type": "stream",
     "text": [
      "[2, 2, 1, 1, 1, 1, 2, 1, 1, 1]\n",
      "[INFO] [2022-02-03 13:34:57,980] [OpenBox-SPO] Iteration 77, objective value: [32.33193843013824].\n"
     ]
    },
    {
     "name": "stderr",
     "output_type": "stream",
     "text": [
      "\r",
      "  8%|▊         | 77/1000 [1:44:53<21:46:14, 84.91s/it]"
     ]
    },
    {
     "name": "stdout",
     "output_type": "stream",
     "text": [
      "[2, 1, 1, 2, 2, 1, 2, 1, 1, 1]\n",
      "[INFO] [2022-02-03 13:36:22,161] [OpenBox-SPO] Iteration 78, objective value: [34.91156797162441].\n"
     ]
    },
    {
     "name": "stderr",
     "output_type": "stream",
     "text": [
      "\r",
      "  8%|▊         | 78/1000 [1:46:17<21:41:27, 84.69s/it]"
     ]
    },
    {
     "name": "stdout",
     "output_type": "stream",
     "text": [
      "[2, 1, 1, 2, 1, 1, 2, 2, 1, 2]\n",
      "[INFO] [2022-02-03 13:37:43,496] [OpenBox-SPO] Iteration 79, objective value: [32.49625532830895].\n"
     ]
    },
    {
     "name": "stderr",
     "output_type": "stream",
     "text": [
      "\r",
      "  8%|▊         | 79/1000 [1:47:39<21:24:34, 83.69s/it]"
     ]
    },
    {
     "name": "stdout",
     "output_type": "stream",
     "text": [
      "[1, 1, 1, 2, 1, 1, 2, 1, 2, 1]\n",
      "[INFO] [2022-02-03 13:38:56,204] [OpenBox-SPO] Iteration 80, objective value: [45.03484102204028].\n"
     ]
    },
    {
     "name": "stderr",
     "output_type": "stream",
     "text": [
      "\r",
      "  8%|▊         | 80/1000 [1:48:51<20:32:41, 80.39s/it]"
     ]
    },
    {
     "name": "stdout",
     "output_type": "stream",
     "text": [
      "[2, 1, 1, 2, 2, 1, 2, 2, 1, 2]\n",
      "[INFO] [2022-02-03 13:40:29,879] [OpenBox-SPO] Iteration 81, objective value: [34.31464746555643].\n"
     ]
    },
    {
     "name": "stderr",
     "output_type": "stream",
     "text": [
      "\r",
      "  8%|▊         | 81/1000 [1:50:25<21:32:22, 84.38s/it]"
     ]
    },
    {
     "name": "stdout",
     "output_type": "stream",
     "text": [
      "[2, 1, 1, 1, 1, 2, 1, 1, 1, 1]\n",
      "[INFO] [2022-02-03 13:41:35,586] [OpenBox-SPO] Iteration 82, objective value: [40.079183151777876].\n"
     ]
    },
    {
     "name": "stderr",
     "output_type": "stream",
     "text": [
      "\r",
      "  8%|▊         | 82/1000 [1:51:31<20:05:16, 78.78s/it]"
     ]
    },
    {
     "name": "stdout",
     "output_type": "stream",
     "text": [
      "[1, 1, 1, 2, 1, 1, 2, 1, 1, 1]\n",
      "[INFO] [2022-02-03 13:42:24,063] [OpenBox-SPO] Iteration 83, objective value: [37.355651157890875].\n"
     ]
    },
    {
     "name": "stderr",
     "output_type": "stream",
     "text": [
      "\r",
      "  8%|▊         | 83/1000 [1:52:19<17:45:02, 69.69s/it]"
     ]
    },
    {
     "name": "stdout",
     "output_type": "stream",
     "text": [
      "[2, 2, 1, 1, 2, 1, 2, 1, 1, 1]\n",
      "[INFO] [2022-02-03 13:43:49,977] [OpenBox-SPO] Iteration 84, objective value: [32.77687456979723].\n"
     ]
    },
    {
     "name": "stderr",
     "output_type": "stream",
     "text": [
      "\r",
      "  8%|▊         | 84/1000 [1:53:45<18:58:12, 74.55s/it]"
     ]
    },
    {
     "name": "stdout",
     "output_type": "stream",
     "text": [
      "[2, 1, 1, 1, 1, 1, 2, 2, 1, 2]\n",
      "[INFO] [2022-02-03 13:45:01,050] [OpenBox-SPO] Iteration 85, objective value: [31.431627877856187].\n"
     ]
    },
    {
     "name": "stderr",
     "output_type": "stream",
     "text": [
      "\r",
      "  8%|▊         | 85/1000 [1:54:56<18:41:01, 73.51s/it]"
     ]
    },
    {
     "name": "stdout",
     "output_type": "stream",
     "text": [
      "[2, 1, 1, 2, 1, 1, 2, 1, 1, 1]\n",
      "[INFO] [2022-02-03 13:46:03,148] [OpenBox-SPO] Iteration 86, objective value: [38.04442823674915].\n"
     ]
    },
    {
     "name": "stderr",
     "output_type": "stream",
     "text": [
      "\r",
      "  9%|▊         | 86/1000 [1:55:58<17:47:39, 70.09s/it]"
     ]
    },
    {
     "name": "stdout",
     "output_type": "stream",
     "text": [
      "[2, 2, 1, 1, 1, 1, 2, 1, 1, 1]\n",
      "[INFO] [2022-02-03 13:47:06,604] [OpenBox-SPO] Iteration 87, objective value: [36.64984147024653].\n"
     ]
    },
    {
     "name": "stderr",
     "output_type": "stream",
     "text": [
      "\r",
      "  9%|▊         | 87/1000 [1:57:02<17:16:12, 68.10s/it]"
     ]
    },
    {
     "name": "stdout",
     "output_type": "stream",
     "text": [
      "[2, 1, 1, 1, 1, 1, 2, 1, 1, 1]\n"
     ]
    }
   ],
   "source": [
    "import SensorOptimizers.BayesianOptimization as bo\n",
    "import numpy as np\n",
    "import pickle\n",
    "\n",
    "ROS = True\n",
    "epsilon = 1\n",
    "multi_objective = False\n",
    "sensorNum = 10\n",
    "initial_state = 'random'\n",
    "\n",
    "sensor_types = {\n",
    "    'model_motion_sensor': True,\n",
    "    'model_beacon_sensor': True\n",
    "}\n",
    "\n",
    "maxSensorNum = int(np.min([(8 / epsilon) * (8 / epsilon), sensorNum]))\n",
    "\n",
    "print('----- Running BO with: \\n \\t - epsilon: ', epsilon, \n",
    "      '\\n \\t - sensor #:', sensorNum, \n",
    "      ' \\n \\t - initial state: ', initial_state)\n",
    "\n",
    "for i in range(0, 3):\n",
    "    history = bo.run(iteration = 1000, \n",
    "                     epsilon = epsilon, \n",
    "                     ROS = True, \n",
    "                     multi_objective = multi_objective, \n",
    "                     maxSensorNum = maxSensorNum,\n",
    "                     initial_state = initial_state,\n",
    "                     input_sensor_types = sensor_types)\n",
    "\n",
    "    if ROS == True:\n",
    "        with open('Results_BO/history(5-0.5)_' + str(i), 'wb') as handle:\n",
    "            pickle.dump(history, handle, protocol=pickle.HIGHEST_PROTOCOL)\n",
    "\n",
    "    else:\n",
    "        with open('Results_BO(without ROS)/history(5-0.5)_' + str(i), 'wb') as handle:\n",
    "            pickle.dump(history, handle, protocol=pickle.HIGHEST_PROTOCOL)\n",
    "            \n",
    "    print(history)"
   ]
  },
  {
   "cell_type": "raw",
   "metadata": {},
   "source": [
    "import numpy as np\n",
    "A = np.arange(0.1,10,0.01)\n",
    "import math\n",
    "\n",
    "rssi = []\n",
    "\n",
    "for a in A:\n",
    "    rawValue = -69 - 10*2*math.log(a, 10)\n",
    "    noise = np.random.normal(0, a, 1)\n",
    "    rssi.append(rawValue + noise)\n",
    "    \n",
    "\n",
    "    \n",
    "import matplotlib.pyplot as plt\n",
    "\n",
    "plt.scatter(A, rssi)"
   ]
  },
  {
   "cell_type": "code",
   "execution_count": null,
   "metadata": {},
   "outputs": [],
   "source": []
  }
 ],
 "metadata": {
  "kernelspec": {
   "display_name": "Python 3",
   "language": "python",
   "name": "python3"
  },
  "language_info": {
   "codemirror_mode": {
    "name": "ipython",
    "version": 3
   },
   "file_extension": ".py",
   "mimetype": "text/x-python",
   "name": "python",
   "nbconvert_exporter": "python",
   "pygments_lexer": "ipython3",
   "version": "3.9.0"
  }
 },
 "nbformat": 4,
 "nbformat_minor": 4
}
