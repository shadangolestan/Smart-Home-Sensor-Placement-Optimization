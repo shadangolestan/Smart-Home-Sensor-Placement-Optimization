{
 "cells": [
  {
   "cell_type": "code",
   "execution_count": null,
   "metadata": {
    "scrolled": true
   },
   "outputs": [
    {
     "name": "stdout",
     "output_type": "stream",
     "text": [
      "----- Running BO with: \n",
      " \t - epsilon:  1 \n",
      " \t - LS sensors #: 7 \n",
      " \t - IS sensors #: 0  \n",
      " \t - initial state:  random\n",
      "8.0\n",
      "8.0\n",
      "[INFO] [2022-06-27 14:47:54,452] [Advisor] === [BO auto selection] === acq_optimizer_type: local_random.\n",
      "**************************************************\n",
      "self.acq_type  kg\n",
      "acq_optimizer_type  local_random\n",
      "self.num_objs  1\n",
      "self.surrogate_model  None\n",
      "self.num_constraints  0\n",
      "**************************************************\n",
      "[Build Surrogate] Use probabilistic random forest based on scikit-learn. For better performance, please install pyrfr: https://open-box.readthedocs.io/en/latest/installation/install_pyrfr.html\n"
     ]
    },
    {
     "name": "stderr",
     "output_type": "stream",
     "text": [
      "\r",
      "  0%|                                                                                          | 0/1000 [00:00<?, ?it/s]"
     ]
    },
    {
     "name": "stdout",
     "output_type": "stream",
     "text": [
      "[INFO] [2022-06-27 14:48:24,114] [OpenBox-SPO] Iteration 1, objective value: [59.75785221782067].\n"
     ]
    },
    {
     "name": "stderr",
     "output_type": "stream",
     "text": [
      "\r",
      "  0%|                                                                                | 1/1000 [00:29<8:13:34, 29.64s/it]"
     ]
    },
    {
     "name": "stdout",
     "output_type": "stream",
     "text": [
      "[INFO] [2022-06-27 14:49:04,030] [OpenBox-SPO] Iteration 2, objective value: [42.86682473631052].\n"
     ]
    },
    {
     "name": "stderr",
     "output_type": "stream",
     "text": [
      "\r",
      "  0%|▏                                                                               | 2/1000 [01:09<9:53:35, 35.69s/it]"
     ]
    },
    {
     "name": "stdout",
     "output_type": "stream",
     "text": [
      "[INFO] [2022-06-27 14:49:34,547] [OpenBox-SPO] Iteration 3, objective value: [55.597778442413464].\n"
     ]
    },
    {
     "name": "stderr",
     "output_type": "stream",
     "text": [
      "\r",
      "  0%|▏                                                                               | 3/1000 [01:40<9:13:45, 33.33s/it]"
     ]
    },
    {
     "name": "stdout",
     "output_type": "stream",
     "text": [
      "[INFO] [2022-06-27 14:49:34,548] [Advisor] Sample random config. rand_prob=0.100000.\n",
      "[INFO] [2022-06-27 14:50:17,665] [OpenBox-SPO] Iteration 4, objective value: [44.77616479525922].\n"
     ]
    },
    {
     "name": "stderr",
     "output_type": "stream",
     "text": [
      "\r",
      "  0%|▎                                                                              | 4/1000 [02:23<10:17:23, 37.19s/it]"
     ]
    },
    {
     "name": "stdout",
     "output_type": "stream",
     "text": [
      "[INFO] [2022-06-27 14:51:27,673] [OpenBox-SPO] Iteration 5, objective value: [53.98266518174951].\n"
     ]
    },
    {
     "name": "stderr",
     "output_type": "stream",
     "text": [
      "\r",
      "  0%|▍                                                                              | 5/1000 [03:33<13:33:00, 49.03s/it]"
     ]
    },
    {
     "name": "stdout",
     "output_type": "stream",
     "text": [
      "[INFO] [2022-06-27 14:52:29,611] [OpenBox-SPO] Iteration 6, objective value: [50.92101645486814].\n"
     ]
    },
    {
     "name": "stderr",
     "output_type": "stream",
     "text": [
      "\r",
      "  1%|▍                                                                              | 6/1000 [04:35<14:44:55, 53.42s/it]"
     ]
    },
    {
     "name": "stdout",
     "output_type": "stream",
     "text": [
      "[INFO] [2022-06-27 14:53:29,413] [OpenBox-SPO] Iteration 7, objective value: [55.10017916271889].\n"
     ]
    },
    {
     "name": "stderr",
     "output_type": "stream",
     "text": [
      "\r",
      "  1%|▌                                                                              | 7/1000 [05:34<15:18:35, 55.50s/it]"
     ]
    },
    {
     "name": "stdout",
     "output_type": "stream",
     "text": [
      "[INFO] [2022-06-27 14:54:23,850] [OpenBox-SPO] Iteration 8, objective value: [52.13754482890909].\n"
     ]
    },
    {
     "name": "stderr",
     "output_type": "stream",
     "text": [
      "\r",
      "  1%|▋                                                                              | 8/1000 [06:29<15:12:02, 55.16s/it]"
     ]
    },
    {
     "name": "stdout",
     "output_type": "stream",
     "text": [
      "[INFO] [2022-06-27 14:55:24,449] [OpenBox-SPO] Iteration 9, objective value: [51.4314804927612].\n"
     ]
    },
    {
     "name": "stderr",
     "output_type": "stream",
     "text": [
      "\r",
      "  1%|▋                                                                              | 9/1000 [07:29<15:39:11, 56.86s/it]"
     ]
    },
    {
     "name": "stdout",
     "output_type": "stream",
     "text": [
      "[INFO] [2022-06-27 14:56:33,642] [OpenBox-SPO] Iteration 10, objective value: [62.216247381231625].\n"
     ]
    },
    {
     "name": "stderr",
     "output_type": "stream",
     "text": [
      "\r",
      "  1%|▊                                                                             | 10/1000 [08:39<16:41:02, 60.67s/it]"
     ]
    },
    {
     "name": "stdout",
     "output_type": "stream",
     "text": [
      "[INFO] [2022-06-27 14:57:31,813] [OpenBox-SPO] Iteration 11, objective value: [53.584503054107365].\n"
     ]
    },
    {
     "name": "stderr",
     "output_type": "stream",
     "text": [
      "\r",
      "  1%|▊                                                                             | 11/1000 [09:37<16:27:25, 59.90s/it]"
     ]
    },
    {
     "name": "stdout",
     "output_type": "stream",
     "text": [
      "[INFO] [2022-06-27 14:58:31,091] [OpenBox-SPO] Iteration 12, objective value: [54.11902950753979].\n"
     ]
    },
    {
     "name": "stderr",
     "output_type": "stream",
     "text": [
      "\r",
      "  1%|▉                                                                             | 12/1000 [10:36<16:23:17, 59.71s/it]"
     ]
    },
    {
     "name": "stdout",
     "output_type": "stream",
     "text": [
      "[INFO] [2022-06-27 14:59:27,934] [OpenBox-SPO] Iteration 13, objective value: [57.99456851806347].\n"
     ]
    },
    {
     "name": "stderr",
     "output_type": "stream",
     "text": [
      "\r",
      "  1%|█                                                                             | 13/1000 [11:33<16:07:59, 58.84s/it]"
     ]
    },
    {
     "name": "stdout",
     "output_type": "stream",
     "text": [
      "[INFO] [2022-06-27 14:59:27,935] [Advisor] Sample random config. rand_prob=0.100000.\n",
      "[INFO] [2022-06-27 14:59:52,487] [OpenBox-SPO] Iteration 14, objective value: [51.19984414781628].\n"
     ]
    },
    {
     "name": "stderr",
     "output_type": "stream",
     "text": [
      "\r",
      "  1%|█                                                                             | 14/1000 [11:58<13:16:47, 48.49s/it]"
     ]
    },
    {
     "name": "stdout",
     "output_type": "stream",
     "text": [
      "[INFO] [2022-06-27 15:00:42,282] [OpenBox-SPO] Iteration 15, objective value: [57.671498961937786].\n"
     ]
    },
    {
     "name": "stderr",
     "output_type": "stream",
     "text": [
      "\r",
      "  2%|█▏                                                                            | 15/1000 [12:47<13:22:27, 48.88s/it]"
     ]
    },
    {
     "name": "stdout",
     "output_type": "stream",
     "text": [
      "[INFO] [2022-06-27 15:01:36,737] [OpenBox-SPO] Iteration 16, objective value: [56.50423512911692].\n"
     ]
    },
    {
     "name": "stderr",
     "output_type": "stream",
     "text": [
      "\r",
      "  2%|█▏                                                                            | 16/1000 [13:42<13:49:09, 50.56s/it]"
     ]
    },
    {
     "name": "stdout",
     "output_type": "stream",
     "text": [
      "[INFO] [2022-06-27 15:01:36,738] [Advisor] Sample random config. rand_prob=0.100000.\n",
      "[INFO] [2022-06-27 15:02:07,875] [OpenBox-SPO] Iteration 17, objective value: [53.91257953811543].\n"
     ]
    },
    {
     "name": "stderr",
     "output_type": "stream",
     "text": [
      "\r",
      "  2%|█▎                                                                            | 17/1000 [14:13<12:12:38, 44.72s/it]"
     ]
    },
    {
     "name": "stdout",
     "output_type": "stream",
     "text": [
      "[INFO] [2022-06-27 15:03:00,317] [OpenBox-SPO] Iteration 18, objective value: [56.401086870796554].\n"
     ]
    },
    {
     "name": "stderr",
     "output_type": "stream",
     "text": [
      "\r",
      "  2%|█▍                                                                            | 18/1000 [15:05<12:49:53, 47.04s/it]"
     ]
    },
    {
     "name": "stdout",
     "output_type": "stream",
     "text": [
      "[INFO] [2022-06-27 15:03:59,650] [OpenBox-SPO] Iteration 19, objective value: [54.4449326594224].\n"
     ]
    },
    {
     "name": "stderr",
     "output_type": "stream",
     "text": [
      "\r",
      "  2%|█▍                                                                            | 19/1000 [16:05<13:49:28, 50.73s/it]"
     ]
    },
    {
     "name": "stdout",
     "output_type": "stream",
     "text": [
      "[INFO] [2022-06-27 15:04:59,049] [OpenBox-SPO] Iteration 20, objective value: [43.64305622412717].\n"
     ]
    },
    {
     "name": "stderr",
     "output_type": "stream",
     "text": [
      "\r",
      "  2%|█▌                                                                            | 20/1000 [17:04<14:31:07, 53.33s/it]"
     ]
    },
    {
     "name": "stdout",
     "output_type": "stream",
     "text": [
      "[INFO] [2022-06-27 15:06:00,380] [OpenBox-SPO] Iteration 21, objective value: [53.5498669632144].\n"
     ]
    },
    {
     "name": "stderr",
     "output_type": "stream",
     "text": [
      "\r",
      "  2%|█▋                                                                            | 21/1000 [18:05<15:09:24, 55.73s/it]"
     ]
    },
    {
     "name": "stdout",
     "output_type": "stream",
     "text": [
      "[INFO] [2022-06-27 15:06:51,654] [OpenBox-SPO] Iteration 22, objective value: [49.412491151892304].\n"
     ]
    },
    {
     "name": "stderr",
     "output_type": "stream",
     "text": [
      "\r",
      "  2%|█▋                                                                            | 22/1000 [18:57<14:46:39, 54.40s/it]"
     ]
    },
    {
     "name": "stdout",
     "output_type": "stream",
     "text": [
      "[INFO] [2022-06-27 15:07:48,424] [OpenBox-SPO] Iteration 23, objective value: [49.87404535714083].\n"
     ]
    },
    {
     "name": "stderr",
     "output_type": "stream",
     "text": [
      "\r",
      "  2%|█▊                                                                            | 23/1000 [19:53<14:57:20, 55.11s/it]"
     ]
    },
    {
     "name": "stdout",
     "output_type": "stream",
     "text": [
      "[INFO] [2022-06-27 15:08:48,365] [OpenBox-SPO] Iteration 24, objective value: [57.57893266997278].\n"
     ]
    },
    {
     "name": "stderr",
     "output_type": "stream",
     "text": [
      "\r",
      "  2%|█▊                                                                            | 24/1000 [20:53<15:20:01, 56.56s/it]"
     ]
    },
    {
     "name": "stdout",
     "output_type": "stream",
     "text": [
      "[INFO] [2022-06-27 15:09:43,901] [OpenBox-SPO] Iteration 25, objective value: [63.02098768166854].\n"
     ]
    },
    {
     "name": "stderr",
     "output_type": "stream",
     "text": [
      "\r",
      "  2%|█▉                                                                            | 25/1000 [21:49<15:14:05, 56.25s/it]"
     ]
    },
    {
     "name": "stdout",
     "output_type": "stream",
     "text": [
      "[INFO] [2022-06-27 15:10:40,126] [OpenBox-SPO] Iteration 26, objective value: [53.901287286459606].\n"
     ]
    },
    {
     "name": "stderr",
     "output_type": "stream",
     "text": [
      "\r",
      "  3%|██                                                                            | 26/1000 [22:45<15:13:01, 56.24s/it]"
     ]
    },
    {
     "name": "stdout",
     "output_type": "stream",
     "text": [
      "[INFO] [2022-06-27 15:11:35,373] [OpenBox-SPO] Iteration 27, objective value: [43.76918340728275].\n"
     ]
    },
    {
     "name": "stderr",
     "output_type": "stream",
     "text": [
      "\r",
      "  3%|██                                                                            | 27/1000 [23:40<15:07:13, 55.94s/it]"
     ]
    },
    {
     "name": "stdout",
     "output_type": "stream",
     "text": [
      "[INFO] [2022-06-27 15:12:33,055] [OpenBox-SPO] Iteration 28, objective value: [38.57994073551886].\n"
     ]
    },
    {
     "name": "stderr",
     "output_type": "stream",
     "text": [
      "\r",
      "  3%|██▏                                                                           | 28/1000 [24:38<15:14:44, 56.47s/it]"
     ]
    },
    {
     "name": "stdout",
     "output_type": "stream",
     "text": [
      "[INFO] [2022-06-27 15:13:28,115] [OpenBox-SPO] Iteration 29, objective value: [60.541109293284315].\n"
     ]
    },
    {
     "name": "stderr",
     "output_type": "stream",
     "text": [
      "\r",
      "  3%|██▎                                                                           | 29/1000 [25:33<15:06:58, 56.04s/it]"
     ]
    },
    {
     "name": "stdout",
     "output_type": "stream",
     "text": [
      "[INFO] [2022-06-27 15:14:26,474] [OpenBox-SPO] Iteration 30, objective value: [47.6505793171072].\n"
     ]
    },
    {
     "name": "stderr",
     "output_type": "stream",
     "text": [
      "\r",
      "  3%|██▎                                                                           | 30/1000 [26:32<15:17:16, 56.74s/it]"
     ]
    },
    {
     "name": "stdout",
     "output_type": "stream",
     "text": [
      "[INFO] [2022-06-27 15:15:22,120] [OpenBox-SPO] Iteration 31, objective value: [50.76898054132782].\n"
     ]
    },
    {
     "name": "stderr",
     "output_type": "stream",
     "text": [
      "\r",
      "  3%|██▍                                                                           | 31/1000 [27:27<15:11:02, 56.41s/it]"
     ]
    },
    {
     "name": "stdout",
     "output_type": "stream",
     "text": [
      "[INFO] [2022-06-27 15:16:20,101] [OpenBox-SPO] Iteration 32, objective value: [52.03242500827627].\n"
     ]
    },
    {
     "name": "stderr",
     "output_type": "stream",
     "text": [
      "\r",
      "  3%|██▍                                                                           | 32/1000 [28:25<15:17:41, 56.88s/it]"
     ]
    },
    {
     "name": "stdout",
     "output_type": "stream",
     "text": [
      "[INFO] [2022-06-27 15:17:27,873] [OpenBox-SPO] Iteration 33, objective value: [57.9102194465902].\n"
     ]
    },
    {
     "name": "stderr",
     "output_type": "stream",
     "text": [
      "\r",
      "  3%|██▌                                                                           | 33/1000 [29:33<16:09:23, 60.15s/it]"
     ]
    },
    {
     "name": "stdout",
     "output_type": "stream",
     "text": [
      "[INFO] [2022-06-27 15:18:19,272] [OpenBox-SPO] Iteration 34, objective value: [50.64210936682416].\n"
     ]
    },
    {
     "name": "stderr",
     "output_type": "stream",
     "text": [
      "\r",
      "  3%|██▋                                                                           | 34/1000 [30:24<15:26:08, 57.52s/it]"
     ]
    },
    {
     "name": "stdout",
     "output_type": "stream",
     "text": [
      "[INFO] [2022-06-27 15:19:19,247] [OpenBox-SPO] Iteration 35, objective value: [54.031242391814885].\n"
     ]
    },
    {
     "name": "stderr",
     "output_type": "stream",
     "text": [
      "\r",
      "  4%|██▋                                                                           | 35/1000 [31:24<15:37:00, 58.26s/it]"
     ]
    },
    {
     "name": "stdout",
     "output_type": "stream",
     "text": [
      "[INFO] [2022-06-27 15:20:14,708] [OpenBox-SPO] Iteration 36, objective value: [49.340123168344206].\n"
     ]
    },
    {
     "name": "stderr",
     "output_type": "stream",
     "text": [
      "\r",
      "  4%|██▊                                                                           | 36/1000 [32:20<15:22:32, 57.42s/it]"
     ]
    },
    {
     "name": "stdout",
     "output_type": "stream",
     "text": [
      "[INFO] [2022-06-27 15:21:10,256] [OpenBox-SPO] Iteration 37, objective value: [50.44859510246303].\n"
     ]
    },
    {
     "name": "stderr",
     "output_type": "stream",
     "text": [
      "\r",
      "  4%|██▉                                                                           | 37/1000 [33:15<15:12:34, 56.86s/it]"
     ]
    },
    {
     "name": "stdout",
     "output_type": "stream",
     "text": [
      "[INFO] [2022-06-27 15:21:59,459] [OpenBox-SPO] Iteration 38, objective value: [57.87642920504504].\n"
     ]
    },
    {
     "name": "stderr",
     "output_type": "stream",
     "text": [
      "\r",
      "  4%|██▉                                                                           | 38/1000 [34:04<14:34:48, 54.56s/it]"
     ]
    },
    {
     "name": "stdout",
     "output_type": "stream",
     "text": [
      "[INFO] [2022-06-27 15:21:59,460] [Advisor] Sample random config. rand_prob=0.100000.\n",
      "[INFO] [2022-06-27 15:22:30,950] [OpenBox-SPO] Iteration 39, objective value: [49.16388832898595].\n"
     ]
    },
    {
     "name": "stderr",
     "output_type": "stream",
     "text": [
      "\r",
      "  4%|███                                                                           | 39/1000 [34:36<12:43:02, 47.64s/it]"
     ]
    },
    {
     "name": "stdout",
     "output_type": "stream",
     "text": [
      "[INFO] [2022-06-27 15:23:30,664] [OpenBox-SPO] Iteration 40, objective value: [48.65553046599498].\n"
     ]
    },
    {
     "name": "stderr",
     "output_type": "stream",
     "text": [
      "\r",
      "  4%|███                                                                           | 40/1000 [35:36<13:40:12, 51.26s/it]"
     ]
    },
    {
     "name": "stdout",
     "output_type": "stream",
     "text": [
      "[INFO] [2022-06-27 15:24:26,515] [OpenBox-SPO] Iteration 41, objective value: [59.7043446816033].\n"
     ]
    },
    {
     "name": "stderr",
     "output_type": "stream",
     "text": [
      "\r",
      "  4%|███▏                                                                          | 41/1000 [36:32<14:01:20, 52.64s/it]"
     ]
    },
    {
     "name": "stdout",
     "output_type": "stream",
     "text": [
      "[INFO] [2022-06-27 15:25:25,877] [OpenBox-SPO] Iteration 42, objective value: [48.978354726593274].\n"
     ]
    },
    {
     "name": "stderr",
     "output_type": "stream",
     "text": [
      "\r",
      "  4%|███▎                                                                          | 42/1000 [37:31<14:32:40, 54.66s/it]"
     ]
    },
    {
     "name": "stdout",
     "output_type": "stream",
     "text": [
      "[INFO] [2022-06-27 15:26:16,484] [OpenBox-SPO] Iteration 43, objective value: [54.70833312993001].\n"
     ]
    },
    {
     "name": "stderr",
     "output_type": "stream",
     "text": [
      "\r",
      "  4%|███▎                                                                          | 43/1000 [38:22<14:12:23, 53.44s/it]"
     ]
    },
    {
     "name": "stdout",
     "output_type": "stream",
     "text": [
      "[INFO] [2022-06-27 15:27:07,830] [OpenBox-SPO] Iteration 44, objective value: [58.439078359167524].\n"
     ]
    },
    {
     "name": "stderr",
     "output_type": "stream",
     "text": [
      "\r",
      "  4%|███▍                                                                          | 44/1000 [39:13<14:01:29, 52.81s/it]"
     ]
    },
    {
     "name": "stdout",
     "output_type": "stream",
     "text": [
      "[INFO] [2022-06-27 15:27:07,832] [Advisor] Sample random config. rand_prob=0.100000.\n",
      "[INFO] [2022-06-27 15:27:40,805] [OpenBox-SPO] Iteration 45, objective value: [41.93534758259426].\n"
     ]
    },
    {
     "name": "stderr",
     "output_type": "stream",
     "text": [
      "\r",
      "  4%|███▌                                                                          | 45/1000 [39:46<12:25:52, 46.86s/it]"
     ]
    },
    {
     "name": "stdout",
     "output_type": "stream",
     "text": [
      "[INFO] [2022-06-27 15:28:36,688] [OpenBox-SPO] Iteration 46, objective value: [55.55587476950442].\n"
     ]
    },
    {
     "name": "stderr",
     "output_type": "stream",
     "text": [
      "\r",
      "  5%|███▌                                                                          | 46/1000 [40:42<13:08:07, 49.57s/it]"
     ]
    },
    {
     "name": "stdout",
     "output_type": "stream",
     "text": [
      "[INFO] [2022-06-27 15:29:27,230] [OpenBox-SPO] Iteration 47, objective value: [58.4986722137815].\n"
     ]
    },
    {
     "name": "stderr",
     "output_type": "stream",
     "text": [
      "\r",
      "  5%|███▋                                                                          | 47/1000 [41:32<13:11:56, 49.86s/it]"
     ]
    },
    {
     "name": "stdout",
     "output_type": "stream",
     "text": [
      "[INFO] [2022-06-27 15:30:21,791] [OpenBox-SPO] Iteration 48, objective value: [57.084116464891274].\n"
     ]
    },
    {
     "name": "stderr",
     "output_type": "stream",
     "text": [
      "\r",
      "  5%|███▋                                                                          | 48/1000 [42:27<13:33:29, 51.27s/it]"
     ]
    },
    {
     "name": "stdout",
     "output_type": "stream",
     "text": [
      "[INFO] [2022-06-27 15:31:19,780] [OpenBox-SPO] Iteration 49, objective value: [38.70864823543925].\n"
     ]
    },
    {
     "name": "stderr",
     "output_type": "stream",
     "text": [
      "\r",
      "  5%|███▊                                                                          | 49/1000 [43:25<14:04:35, 53.29s/it]"
     ]
    },
    {
     "name": "stdout",
     "output_type": "stream",
     "text": [
      "[INFO] [2022-06-27 15:32:17,153] [OpenBox-SPO] Iteration 50, objective value: [50.048639375511605].\n"
     ]
    },
    {
     "name": "stderr",
     "output_type": "stream",
     "text": [
      "\r",
      "  5%|███▉                                                                          | 50/1000 [44:22<14:23:06, 54.51s/it]"
     ]
    },
    {
     "name": "stdout",
     "output_type": "stream",
     "text": [
      "[INFO] [2022-06-27 15:33:10,722] [OpenBox-SPO] Iteration 51, objective value: [58.500087205912635].\n"
     ]
    },
    {
     "name": "stderr",
     "output_type": "stream",
     "text": [
      "\r",
      "  5%|███▉                                                                          | 51/1000 [45:16<14:17:43, 54.23s/it]"
     ]
    },
    {
     "name": "stdout",
     "output_type": "stream",
     "text": [
      "[INFO] [2022-06-27 15:34:08,954] [OpenBox-SPO] Iteration 52, objective value: [54.59717177187836].\n"
     ]
    },
    {
     "name": "stderr",
     "output_type": "stream",
     "text": [
      "\r",
      "  5%|████                                                                          | 52/1000 [46:14<14:35:47, 55.43s/it]"
     ]
    },
    {
     "name": "stdout",
     "output_type": "stream",
     "text": [
      "[INFO] [2022-06-27 15:34:59,243] [OpenBox-SPO] Iteration 53, objective value: [57.7045094708668].\n"
     ]
    },
    {
     "name": "stderr",
     "output_type": "stream",
     "text": [
      "\r",
      "  5%|████▏                                                                         | 53/1000 [47:04<14:10:31, 53.89s/it]"
     ]
    },
    {
     "name": "stdout",
     "output_type": "stream",
     "text": [
      "[INFO] [2022-06-27 15:35:56,543] [OpenBox-SPO] Iteration 54, objective value: [48.13529896989921].\n"
     ]
    },
    {
     "name": "stderr",
     "output_type": "stream",
     "text": [
      "\r",
      "  5%|████▏                                                                         | 54/1000 [48:02<14:25:46, 54.91s/it]"
     ]
    },
    {
     "name": "stdout",
     "output_type": "stream",
     "text": [
      "[INFO] [2022-06-27 15:36:49,678] [OpenBox-SPO] Iteration 55, objective value: [58.540028997050605].\n"
     ]
    },
    {
     "name": "stderr",
     "output_type": "stream",
     "text": [
      "\r",
      "  6%|████▎                                                                         | 55/1000 [48:55<14:16:27, 54.38s/it]"
     ]
    },
    {
     "name": "stdout",
     "output_type": "stream",
     "text": [
      "[INFO] [2022-06-27 15:37:40,238] [OpenBox-SPO] Iteration 56, objective value: [52.58223813146454].\n"
     ]
    },
    {
     "name": "stderr",
     "output_type": "stream",
     "text": [
      "\r",
      "  6%|████▎                                                                         | 56/1000 [49:45<13:57:31, 53.23s/it]"
     ]
    },
    {
     "name": "stdout",
     "output_type": "stream",
     "text": [
      "[INFO] [2022-06-27 15:38:36,260] [OpenBox-SPO] Iteration 57, objective value: [54.00889526040649].\n"
     ]
    },
    {
     "name": "stderr",
     "output_type": "stream",
     "text": [
      "\r",
      "  6%|████▍                                                                         | 57/1000 [50:41<14:09:47, 54.07s/it]"
     ]
    },
    {
     "name": "stdout",
     "output_type": "stream",
     "text": [
      "[INFO] [2022-06-27 15:39:25,925] [OpenBox-SPO] Iteration 58, objective value: [60.207144524772936].\n"
     ]
    },
    {
     "name": "stderr",
     "output_type": "stream",
     "text": [
      "\r",
      "  6%|████▌                                                                         | 58/1000 [51:31<13:48:08, 52.75s/it]"
     ]
    },
    {
     "name": "stdout",
     "output_type": "stream",
     "text": [
      "[INFO] [2022-06-27 15:40:21,549] [OpenBox-SPO] Iteration 59, objective value: [47.636111530522825].\n"
     ]
    },
    {
     "name": "stderr",
     "output_type": "stream",
     "text": [
      "\r",
      "  6%|████▌                                                                         | 59/1000 [52:27<14:00:47, 53.61s/it]"
     ]
    },
    {
     "name": "stdout",
     "output_type": "stream",
     "text": [
      "[INFO] [2022-06-27 15:41:19,652] [OpenBox-SPO] Iteration 60, objective value: [41.19753111781588].\n"
     ]
    },
    {
     "name": "stderr",
     "output_type": "stream",
     "text": [
      "\r",
      "  6%|████▋                                                                         | 60/1000 [53:25<14:21:01, 54.96s/it]"
     ]
    },
    {
     "name": "stdout",
     "output_type": "stream",
     "text": [
      "[INFO] [2022-06-27 15:42:13,129] [OpenBox-SPO] Iteration 61, objective value: [54.33827675568724].\n"
     ]
    },
    {
     "name": "stderr",
     "output_type": "stream",
     "text": [
      "\r",
      "  6%|████▊                                                                         | 61/1000 [54:18<14:13:08, 54.51s/it]"
     ]
    },
    {
     "name": "stdout",
     "output_type": "stream",
     "text": [
      "[INFO] [2022-06-27 15:43:10,748] [OpenBox-SPO] Iteration 62, objective value: [56.6662082240822].\n"
     ]
    },
    {
     "name": "stderr",
     "output_type": "stream",
     "text": [
      "\r",
      "  6%|████▊                                                                         | 62/1000 [55:16<14:26:47, 55.45s/it]"
     ]
    },
    {
     "name": "stdout",
     "output_type": "stream",
     "text": [
      "[INFO] [2022-06-27 15:44:09,663] [OpenBox-SPO] Iteration 63, objective value: [45.386744457425635].\n"
     ]
    },
    {
     "name": "stderr",
     "output_type": "stream",
     "text": [
      "\r",
      "  6%|████▉                                                                         | 63/1000 [56:15<14:42:07, 56.49s/it]"
     ]
    },
    {
     "name": "stdout",
     "output_type": "stream",
     "text": [
      "[INFO] [2022-06-27 15:45:13,332] [OpenBox-SPO] Iteration 64, objective value: [49.849152692514934].\n"
     ]
    },
    {
     "name": "stderr",
     "output_type": "stream",
     "text": [
      "\r",
      "  6%|████▉                                                                         | 64/1000 [57:18<15:14:48, 58.64s/it]"
     ]
    },
    {
     "name": "stdout",
     "output_type": "stream",
     "text": [
      "[INFO] [2022-06-27 15:46:05,181] [OpenBox-SPO] Iteration 65, objective value: [46.597187543325525].\n"
     ]
    },
    {
     "name": "stderr",
     "output_type": "stream",
     "text": [
      "\r",
      "  6%|█████                                                                         | 65/1000 [58:10<14:42:04, 56.60s/it]"
     ]
    },
    {
     "name": "stdout",
     "output_type": "stream",
     "text": [
      "[INFO] [2022-06-27 15:47:01,261] [OpenBox-SPO] Iteration 66, objective value: [48.78530169544535].\n"
     ]
    },
    {
     "name": "stderr",
     "output_type": "stream",
     "text": [
      "\r",
      "  7%|█████▏                                                                        | 66/1000 [59:06<14:38:40, 56.45s/it]"
     ]
    },
    {
     "name": "stdout",
     "output_type": "stream",
     "text": [
      "[INFO] [2022-06-27 15:48:04,109] [OpenBox-SPO] Iteration 67, objective value: [49.277639082796355].\n"
     ]
    },
    {
     "name": "stderr",
     "output_type": "stream",
     "text": [
      "\r",
      "  7%|█████                                                                       | 67/1000 [1:00:09<15:07:36, 58.37s/it]"
     ]
    },
    {
     "name": "stdout",
     "output_type": "stream",
     "text": [
      "[INFO] [2022-06-27 15:49:17,087] [OpenBox-SPO] Iteration 68, objective value: [52.357620739251246].\n"
     ]
    },
    {
     "name": "stderr",
     "output_type": "stream",
     "text": [
      "\r",
      "  7%|█████▏                                                                      | 68/1000 [1:01:22<16:14:43, 62.75s/it]"
     ]
    },
    {
     "name": "stdout",
     "output_type": "stream",
     "text": [
      "[INFO] [2022-06-27 15:50:27,931] [OpenBox-SPO] Iteration 69, objective value: [60.8341384180025].\n"
     ]
    },
    {
     "name": "stderr",
     "output_type": "stream",
     "text": [
      "\r",
      "  7%|█████▏                                                                      | 69/1000 [1:02:33<16:51:20, 65.18s/it]"
     ]
    },
    {
     "name": "stdout",
     "output_type": "stream",
     "text": [
      "[INFO] [2022-06-27 15:51:23,631] [OpenBox-SPO] Iteration 70, objective value: [57.53425116612691].\n"
     ]
    },
    {
     "name": "stderr",
     "output_type": "stream",
     "text": [
      "\r",
      "  7%|█████▎                                                                      | 70/1000 [1:03:29<16:06:11, 62.33s/it]"
     ]
    },
    {
     "name": "stdout",
     "output_type": "stream",
     "text": [
      "[INFO] [2022-06-27 15:52:28,492] [OpenBox-SPO] Iteration 71, objective value: [52.85423757519534].\n"
     ]
    },
    {
     "name": "stderr",
     "output_type": "stream",
     "text": [
      "\r",
      "  7%|█████▍                                                                      | 71/1000 [1:04:34<16:16:53, 63.09s/it]"
     ]
    },
    {
     "name": "stdout",
     "output_type": "stream",
     "text": [
      "[INFO] [2022-06-27 15:52:28,494] [Advisor] Sample random config. rand_prob=0.100000.\n",
      "[INFO] [2022-06-27 15:53:04,748] [OpenBox-SPO] Iteration 72, objective value: [56.47930706316346].\n"
     ]
    },
    {
     "name": "stderr",
     "output_type": "stream",
     "text": [
      "\r",
      "  7%|█████▍                                                                      | 72/1000 [1:05:10<14:11:18, 55.04s/it]"
     ]
    },
    {
     "name": "stdout",
     "output_type": "stream",
     "text": [
      "[INFO] [2022-06-27 15:54:04,384] [OpenBox-SPO] Iteration 73, objective value: [44.927087687830166].\n"
     ]
    },
    {
     "name": "stderr",
     "output_type": "stream",
     "text": [
      "\r",
      "  7%|█████▌                                                                      | 73/1000 [1:06:09<14:31:41, 56.42s/it]"
     ]
    },
    {
     "name": "stdout",
     "output_type": "stream",
     "text": [
      "[INFO] [2022-06-27 15:55:09,652] [OpenBox-SPO] Iteration 74, objective value: [47.74709670163371].\n"
     ]
    },
    {
     "name": "stderr",
     "output_type": "stream",
     "text": [
      "\r",
      "  7%|█████▌                                                                      | 74/1000 [1:07:15<15:11:42, 59.07s/it]"
     ]
    },
    {
     "name": "stdout",
     "output_type": "stream",
     "text": [
      "[INFO] [2022-06-27 15:56:16,514] [OpenBox-SPO] Iteration 75, objective value: [53.54081468476928].\n"
     ]
    },
    {
     "name": "stderr",
     "output_type": "stream",
     "text": [
      "\r",
      "  8%|█████▋                                                                      | 75/1000 [1:08:22<15:46:44, 61.41s/it]"
     ]
    },
    {
     "name": "stdout",
     "output_type": "stream",
     "text": [
      "[INFO] [2022-06-27 15:57:24,381] [OpenBox-SPO] Iteration 76, objective value: [51.87678245222102].\n"
     ]
    },
    {
     "name": "stderr",
     "output_type": "stream",
     "text": [
      "\r",
      "  8%|█████▊                                                                      | 76/1000 [1:09:29<16:15:33, 63.35s/it]"
     ]
    },
    {
     "name": "stdout",
     "output_type": "stream",
     "text": [
      "[INFO] [2022-06-27 15:58:24,365] [OpenBox-SPO] Iteration 77, objective value: [52.647201885589155].\n"
     ]
    },
    {
     "name": "stderr",
     "output_type": "stream",
     "text": [
      "\r",
      "  8%|█████▊                                                                      | 77/1000 [1:10:29<15:58:58, 62.34s/it]"
     ]
    }
   ],
   "source": [
    "import SensorOptimizers.BayesianOptimization as bo\n",
    "import numpy as np\n",
    "import pickle\n",
    "\n",
    "acquisition_function = 'kg'\n",
    "acq_optimizer_type = 'auto'\n",
    "ROS = True\n",
    "epsilon = 1\n",
    "error = 0.25\n",
    "multi_objective = False\n",
    "LSsensorsNum = 7\n",
    "ISsensorsNum = 0\n",
    "initial_state = 'random'\n",
    "\n",
    "sensor_types = {\n",
    "    'model_motion_sensor': True,\n",
    "    'model_beacon_sensor': False,\n",
    "    'model_pressure_sensor': False,\n",
    "    'model_accelerometer': False,\n",
    "    'model_electricity_sensor': False\n",
    "}\n",
    "\n",
    "maxSensorNum = int(np.min([(8 / epsilon) * (8 / epsilon), LSsensorsNum]))\n",
    "\n",
    "print('----- Running BO with: \\n \\t - epsilon: ', epsilon, \n",
    "      '\\n \\t - LS sensors #:', LSsensorsNum, \n",
    "      '\\n \\t - IS sensors #:', ISsensorsNum, \n",
    "      ' \\n \\t - initial state: ', initial_state)\n",
    "\n",
    "for i in range(0, 3):\n",
    "    history = bo.run(iteration = 1000, \n",
    "                     epsilon = epsilon, \n",
    "                     error = error,\n",
    "                     ROS = True, \n",
    "                     multi_objective = multi_objective, \n",
    "                     LSmaxSensorNum = maxSensorNum,\n",
    "                     ISmaxSensorNum = ISsensorsNum, \n",
    "                     initial_state = initial_state,\n",
    "                     input_sensor_types = sensor_types,\n",
    "                     acquisition_function = acquisition_function,\n",
    "                     acq_optimizer_type = acq_optimizer_type)\n",
    "\n",
    "    with open('Results_BO/history(IS' + str(ISsensorsNum) + ')_' + str(i), 'wb') as handle:\n",
    "        pickle.dump(history, handle, protocol=pickle.HIGHEST_PROTOCOL)\n",
    "            \n",
    "    print(history)"
   ]
  },
  {
   "cell_type": "code",
   "execution_count": null,
   "metadata": {},
   "outputs": [],
   "source": []
  }
 ],
 "metadata": {
  "kernelspec": {
   "display_name": "Python 3 (ipykernel)",
   "language": "python",
   "name": "python3"
  },
  "language_info": {
   "codemirror_mode": {
    "name": "ipython",
    "version": 3
   },
   "file_extension": ".py",
   "mimetype": "text/x-python",
   "name": "python",
   "nbconvert_exporter": "python",
   "pygments_lexer": "ipython3",
   "version": "3.9.7"
  }
 },
 "nbformat": 4,
 "nbformat_minor": 4
}
