{
 "cells": [
  {
   "cell_type": "code",
   "execution_count": null,
   "metadata": {
    "scrolled": false
   },
   "outputs": [
    {
     "name": "stdout",
     "output_type": "stream",
     "text": [
      "----- Running BO with: \n",
      " \t - epsilon:  1 \n",
      " \t - sensor #: 3  \n",
      " \t - initial state:  random\n",
      "[Build Surrogate] Use probabilistic random forest based on scikit-learn. For better performance, please install pyrfr: https://open-box.readthedocs.io/en/latest/installation/install_pyrfr.html\n"
     ]
    },
    {
     "name": "stderr",
     "output_type": "stream",
     "text": [
      "\r",
      "  0%|          | 0/1000 [00:00<?, ?it/s]"
     ]
    },
    {
     "name": "stdout",
     "output_type": "stream",
     "text": [
      "[2, 1, 1]\n",
      "[INFO] [2022-02-01 13:31:07,452] [OpenBox-SPO] Iteration 1, objective value: [53.38145751704051].\n"
     ]
    },
    {
     "name": "stderr",
     "output_type": "stream",
     "text": [
      "\r",
      "  0%|          | 1/1000 [00:45<12:41:37, 45.74s/it]"
     ]
    },
    {
     "name": "stdout",
     "output_type": "stream",
     "text": [
      "[1, 2, 2]\n",
      "[INFO] [2022-02-01 13:32:11,668] [OpenBox-SPO] Iteration 2, objective value: [58.551647419955145].\n"
     ]
    },
    {
     "name": "stderr",
     "output_type": "stream",
     "text": [
      "\r",
      "  0%|          | 2/1000 [01:49<15:41:36, 56.61s/it]"
     ]
    },
    {
     "name": "stdout",
     "output_type": "stream",
     "text": [
      "[2, 2, 2]\n",
      "[INFO] [2022-02-01 13:33:42,337] [OpenBox-SPO] Iteration 3, objective value: [60.742033626649494].\n"
     ]
    },
    {
     "name": "stderr",
     "output_type": "stream",
     "text": [
      "\r",
      "  0%|          | 3/1000 [03:20<19:59:05, 72.16s/it]"
     ]
    },
    {
     "name": "stdout",
     "output_type": "stream",
     "text": [
      "[1, 2, 2]\n",
      "[INFO] [2022-02-01 13:34:48,510] [OpenBox-SPO] Iteration 4, objective value: [59.536005396669935].\n"
     ]
    },
    {
     "name": "stderr",
     "output_type": "stream",
     "text": [
      "\r",
      "  0%|          | 4/1000 [04:26<19:18:38, 69.80s/it]"
     ]
    },
    {
     "name": "stdout",
     "output_type": "stream",
     "text": [
      "[1, 2, 1]\n",
      "[INFO] [2022-02-01 13:35:31,924] [OpenBox-SPO] Iteration 5, objective value: [58.37324486398352].\n"
     ]
    },
    {
     "name": "stderr",
     "output_type": "stream",
     "text": [
      "\r",
      "  0%|          | 5/1000 [05:10<16:39:41, 60.28s/it]"
     ]
    },
    {
     "name": "stdout",
     "output_type": "stream",
     "text": [
      "[2, 1, 2]\n",
      "[INFO] [2022-02-01 13:36:38,315] [OpenBox-SPO] Iteration 6, objective value: [58.93810887031356].\n"
     ]
    },
    {
     "name": "stderr",
     "output_type": "stream",
     "text": [
      "\r",
      "  1%|          | 6/1000 [06:16<17:13:05, 62.36s/it]"
     ]
    },
    {
     "name": "stdout",
     "output_type": "stream",
     "text": [
      "[1, 2, 1]\n",
      "[INFO] [2022-02-01 13:37:22,482] [OpenBox-SPO] Iteration 7, objective value: [53.438662119468496].\n"
     ]
    },
    {
     "name": "stderr",
     "output_type": "stream",
     "text": [
      "\r",
      "  1%|          | 7/1000 [07:00<15:33:37, 56.41s/it]"
     ]
    },
    {
     "name": "stdout",
     "output_type": "stream",
     "text": [
      "[2, 2, 1]\n",
      "[INFO] [2022-02-01 13:38:31,706] [OpenBox-SPO] Iteration 8, objective value: [57.345052041410696].\n"
     ]
    },
    {
     "name": "stderr",
     "output_type": "stream",
     "text": [
      "\r",
      "  1%|          | 8/1000 [08:09<16:40:06, 60.49s/it]"
     ]
    },
    {
     "name": "stdout",
     "output_type": "stream",
     "text": [
      "[2, 2, 1]\n",
      "[INFO] [2022-02-01 13:39:36,170] [OpenBox-SPO] Iteration 9, objective value: [54.26722912921843].\n"
     ]
    },
    {
     "name": "stderr",
     "output_type": "stream",
     "text": [
      "\r",
      "  1%|          | 9/1000 [09:14<16:59:37, 61.73s/it]"
     ]
    },
    {
     "name": "stdout",
     "output_type": "stream",
     "text": [
      "[2, 2, 1]\n",
      "[INFO] [2022-02-01 13:40:41,733] [OpenBox-SPO] Iteration 10, objective value: [55.060438728683].\n"
     ]
    },
    {
     "name": "stderr",
     "output_type": "stream",
     "text": [
      "\r",
      "  1%|          | 10/1000 [10:20<17:18:06, 62.92s/it]"
     ]
    },
    {
     "name": "stdout",
     "output_type": "stream",
     "text": [
      "[2, 1, 1]\n",
      "[INFO] [2022-02-01 13:41:25,711] [OpenBox-SPO] Iteration 11, objective value: [53.78176360652782].\n"
     ]
    },
    {
     "name": "stderr",
     "output_type": "stream",
     "text": [
      "\r",
      "  1%|          | 11/1000 [11:04<15:41:31, 57.12s/it]"
     ]
    },
    {
     "name": "stdout",
     "output_type": "stream",
     "text": [
      "[2, 2, 1]\n",
      "[INFO] [2022-02-01 13:42:31,105] [OpenBox-SPO] Iteration 12, objective value: [60.15593148046899].\n"
     ]
    },
    {
     "name": "stderr",
     "output_type": "stream",
     "text": [
      "\r",
      "  1%|          | 12/1000 [12:09<16:22:01, 59.64s/it]"
     ]
    },
    {
     "name": "stdout",
     "output_type": "stream",
     "text": [
      "[1, 2, 1]\n",
      "[INFO] [2022-02-01 13:43:13,908] [OpenBox-SPO] Iteration 13, objective value: [57.19892404920183].\n"
     ]
    },
    {
     "name": "stderr",
     "output_type": "stream",
     "text": [
      "\r",
      "  1%|▏         | 13/1000 [12:52<14:57:08, 54.54s/it]"
     ]
    },
    {
     "name": "stdout",
     "output_type": "stream",
     "text": [
      "[1, 2, 2]\n",
      "[INFO] [2022-02-01 13:44:25,779] [OpenBox-SPO] Iteration 14, objective value: [60.10971833174961].\n"
     ]
    },
    {
     "name": "stderr",
     "output_type": "stream",
     "text": [
      "\r",
      "  1%|▏         | 14/1000 [14:04<16:22:16, 59.77s/it]"
     ]
    },
    {
     "name": "stdout",
     "output_type": "stream",
     "text": [
      "[2, 2, 2]\n",
      "[INFO] [2022-02-01 13:45:56,301] [OpenBox-SPO] Iteration 15, objective value: [61.35717867994517].\n"
     ]
    },
    {
     "name": "stderr",
     "output_type": "stream",
     "text": [
      "\r",
      "  2%|▏         | 15/1000 [15:34<18:53:25, 69.04s/it]"
     ]
    },
    {
     "name": "stdout",
     "output_type": "stream",
     "text": [
      "[2, 2, 1]\n",
      "[INFO] [2022-02-01 13:47:02,246] [OpenBox-SPO] Iteration 16, objective value: [57.47334857541052].\n"
     ]
    },
    {
     "name": "stderr",
     "output_type": "stream",
     "text": [
      "\r",
      "  2%|▏         | 16/1000 [16:40<18:36:59, 68.11s/it]"
     ]
    },
    {
     "name": "stdout",
     "output_type": "stream",
     "text": [
      "[1, 2, 1]\n",
      "[INFO] [2022-02-01 13:47:48,638] [OpenBox-SPO] Iteration 17, objective value: [54.629556508605226].\n"
     ]
    },
    {
     "name": "stderr",
     "output_type": "stream",
     "text": [
      "\r",
      "  2%|▏         | 17/1000 [17:26<16:48:52, 61.58s/it]"
     ]
    },
    {
     "name": "stdout",
     "output_type": "stream",
     "text": [
      "[1, 2, 2]\n",
      "[INFO] [2022-02-01 13:48:54,435] [OpenBox-SPO] Iteration 18, objective value: [54.3459679574816].\n"
     ]
    },
    {
     "name": "stderr",
     "output_type": "stream",
     "text": [
      "\r",
      "  2%|▏         | 18/1000 [18:32<17:08:35, 62.85s/it]"
     ]
    },
    {
     "name": "stdout",
     "output_type": "stream",
     "text": [
      "[2, 2, 1]\n",
      "[INFO] [2022-02-01 13:50:04,729] [OpenBox-SPO] Iteration 19, objective value: [53.420388248688376].\n"
     ]
    },
    {
     "name": "stderr",
     "output_type": "stream",
     "text": [
      "\r",
      "  2%|▏         | 19/1000 [19:43<17:44:06, 65.08s/it]"
     ]
    },
    {
     "name": "stdout",
     "output_type": "stream",
     "text": [
      "[2, 2, 1]\n",
      "[INFO] [2022-02-01 13:51:08,071] [OpenBox-SPO] Iteration 20, objective value: [74.7720830976445].\n"
     ]
    },
    {
     "name": "stderr",
     "output_type": "stream",
     "text": [
      "\r",
      "  2%|▏         | 20/1000 [20:46<17:34:29, 64.56s/it]"
     ]
    },
    {
     "name": "stdout",
     "output_type": "stream",
     "text": [
      "[2, 2, 1]\n"
     ]
    }
   ],
   "source": [
    "import SensorOptimizers.BayesianOptimization as bo\n",
    "import numpy as np\n",
    "import pickle\n",
    "\n",
    "ROS = True\n",
    "epsilon = 1\n",
    "multi_objective = False\n",
    "sensorNum = 3\n",
    "initial_state = 'random'\n",
    "\n",
    "sensor_types = {\n",
    "    'model_motion_sensor': True,\n",
    "    'model_beacon_sensor': True\n",
    "}\n",
    "\n",
    "maxSensorNum = int(np.min([(8 / epsilon) * (8 / epsilon), sensorNum]))\n",
    "\n",
    "print('----- Running BO with: \\n \\t - epsilon: ', epsilon, \n",
    "      '\\n \\t - sensor #:', sensorNum, \n",
    "      ' \\n \\t - initial state: ', initial_state)\n",
    "\n",
    "for i in range(0, 3):\n",
    "    history = bo.run(iteration = 1000, \n",
    "                     epsilon = epsilon, \n",
    "                     ROS = True, \n",
    "                     multi_objective = multi_objective, \n",
    "                     maxSensorNum = maxSensorNum,\n",
    "                     initial_state = initial_state,\n",
    "                     input_sensor_types = sensor_types)\n",
    "\n",
    "    if ROS == True:\n",
    "        with open('Results_BO/history(5-0.5)_' + str(i), 'wb') as handle:\n",
    "            pickle.dump(history, handle, protocol=pickle.HIGHEST_PROTOCOL)\n",
    "\n",
    "    else:\n",
    "        with open('Results_BO(without ROS)/history(5-0.5)_' + str(i), 'wb') as handle:\n",
    "            pickle.dump(history, handle, protocol=pickle.HIGHEST_PROTOCOL)\n",
    "            \n",
    "    print(history)"
   ]
  },
  {
   "cell_type": "code",
   "execution_count": null,
   "metadata": {},
   "outputs": [],
   "source": [
    "input_sensor_types = {'model_motion_sensor': True, 'model_beacon_sensor': True}"
   ]
  },
  {
   "cell_type": "code",
   "execution_count": null,
   "metadata": {},
   "outputs": [],
   "source": [
    "[0] * 0"
   ]
  },
  {
   "cell_type": "code",
   "execution_count": null,
   "metadata": {},
   "outputs": [],
   "source": [
    "A = [['beacon sensors', 2], ['motion sensors', 1]]"
   ]
  },
  {
   "cell_type": "code",
   "execution_count": null,
   "metadata": {},
   "outputs": [],
   "source": [
    "A[[a[0] for a in A].index('beacon sensors')]"
   ]
  },
  {
   "cell_type": "code",
   "execution_count": null,
   "metadata": {},
   "outputs": [],
   "source": [
    "[a[0] == 'beacon sensors' for a in A]"
   ]
  },
  {
   "cell_type": "code",
   "execution_count": null,
   "metadata": {},
   "outputs": [],
   "source": [
    "A[[a[0] for a in A].index('motion sensors')][1]"
   ]
  },
  {
   "cell_type": "code",
   "execution_count": null,
   "metadata": {},
   "outputs": [],
   "source": []
  }
 ],
 "metadata": {
  "kernelspec": {
   "display_name": "Python 3",
   "language": "python",
   "name": "python3"
  },
  "language_info": {
   "codemirror_mode": {
    "name": "ipython",
    "version": 3
   },
   "file_extension": ".py",
   "mimetype": "text/x-python",
   "name": "python",
   "nbconvert_exporter": "python",
   "pygments_lexer": "ipython3",
   "version": "3.9.0"
  }
 },
 "nbformat": 4,
 "nbformat_minor": 4
}
