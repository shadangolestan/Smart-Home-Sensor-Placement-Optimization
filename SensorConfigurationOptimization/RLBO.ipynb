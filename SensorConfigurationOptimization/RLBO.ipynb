{
 "cells": [
  {
   "cell_type": "code",
   "execution_count": 1,
   "metadata": {},
   "outputs": [
    {
     "name": "stdout",
     "output_type": "stream",
     "text": [
      "----- Running BO with: \n",
      " \t - epsilon:  1 \n",
      " \t - LS sensors #: 9 \n",
      " \t - IS sensors #: 0  \n",
      " \t - initial state:  random\n",
      "Processing Region of Similarity... [COMPLETED]\n",
      "adviser type is default...\n",
      "[INFO] [2023-01-24 00:06:07,975] [Advisor] === [BO auto selection] === surrogate_type: prf. acq_optimizer_type: local_random.\n",
      "--------------------------------------------------\n",
      "self.acq_type  kg\n",
      "acq_optimizer_type  local_random\n",
      "self.num_objs  1\n",
      "self.surrogate_model  None\n",
      "self.num_constraints  0\n",
      "--------------------------------------------------\n",
      "[Build Surrogate] Use probabilistic random forest based on scikit-learn. For better performance, please install pyrfr: https://open-box.readthedocs.io/en/latest/installation/install_pyrfr.html\n"
     ]
    },
    {
     "name": "stderr",
     "output_type": "stream",
     "text": [
      "  0%|          | 0/1000 [00:00<?, ?it/s]"
     ]
    },
    {
     "name": "stdout",
     "output_type": "stream",
     "text": [
      "[INFO] [2023-01-24 00:06:58,175] [OpenBox-SPO] Iteration 1, objective value: [49.26168503890723].\n"
     ]
    },
    {
     "name": "stderr",
     "output_type": "stream",
     "text": [
      "  0%|          | 1/1000 [00:50<13:55:29, 50.18s/it]"
     ]
    },
    {
     "name": "stdout",
     "output_type": "stream",
     "text": [
      "\t self.next_action: -1\n",
      "\n",
      "\t ----- tradeoff_buffer: 0 ----- \n",
      "\t ----- reward: 0.5073831496109277 for f_star and f_minus: 100 , 49.26168503890723\n",
      "[INFO] [2023-01-24 00:07:43,022] [OpenBox-SPO] Iteration 2, objective value: [52.34560946154354].\n"
     ]
    },
    {
     "name": "stderr",
     "output_type": "stream",
     "text": [
      "  0%|          | 2/1000 [01:35<13:02:28, 47.04s/it]"
     ]
    },
    {
     "name": "stdout",
     "output_type": "stream",
     "text": [
      "\t self.next_action: 0\n",
      "\n",
      "\t ----- tradeoff_buffer: 0 ----- \n",
      "\t ----- reward: -1 for f_star and f_minus: 100 , 52.34560946154354\n",
      "[INFO] [2023-01-24 00:08:25,722] [OpenBox-SPO] Iteration 3, objective value: [53.353757154547296].\n"
     ]
    },
    {
     "name": "stderr",
     "output_type": "stream",
     "text": [
      "  0%|          | 3/1000 [02:17<12:28:44, 45.06s/it]"
     ]
    },
    {
     "name": "stdout",
     "output_type": "stream",
     "text": [
      "\t self.next_action: -1\n",
      "\n",
      "\t ----- tradeoff_buffer: 1 ----- \n",
      "\t ----- reward: -1 for f_star and f_minus: 100 , 53.353757154547296\n",
      "[INFO] [2023-01-24 00:09:02,560] [OpenBox-SPO] Iteration 4, objective value: [54.4109220941714].\n"
     ]
    },
    {
     "name": "stderr",
     "output_type": "stream",
     "text": [
      "  0%|          | 4/1000 [02:54<11:34:06, 41.81s/it]"
     ]
    },
    {
     "name": "stdout",
     "output_type": "stream",
     "text": [
      "\t self.next_action: 1\n",
      "\n",
      "\t ----- tradeoff_buffer: 2 ----- \n",
      "\t ----- reward: -1 for f_star and f_minus: 100 , 54.4109220941714\n",
      "[INFO] [2023-01-24 00:09:43,292] [OpenBox-SPO] Iteration 5, objective value: [52.99768091912339].\n"
     ]
    },
    {
     "name": "stderr",
     "output_type": "stream",
     "text": [
      "  0%|          | 5/1000 [03:35<11:26:56, 41.42s/it]"
     ]
    },
    {
     "name": "stdout",
     "output_type": "stream",
     "text": [
      "\t self.next_action: 1\n",
      "\n",
      "\t ----- tradeoff_buffer: 2 ----- \n",
      "\t ----- reward: -1 for f_star and f_minus: 49.26168503890723 , 52.99768091912339\n",
      "[INFO] [2023-01-24 00:10:24,354] [OpenBox-SPO] Iteration 6, objective value: [45.672855854329995].\n"
     ]
    },
    {
     "name": "stderr",
     "output_type": "stream",
     "text": [
      "  1%|          | 6/1000 [04:16<11:24:12, 41.30s/it]"
     ]
    },
    {
     "name": "stdout",
     "output_type": "stream",
     "text": [
      "\t self.next_action: 0\n",
      "\n",
      "\t ----- tradeoff_buffer: 3 ----- \n",
      "\t ----- reward: 0.5432714414567 for f_star and f_minus: 49.26168503890723 , 45.672855854329995\n",
      "[INFO] [2023-01-24 00:11:03,066] [OpenBox-SPO] Iteration 7, objective value: [59.32731961800211].\n"
     ]
    },
    {
     "name": "stderr",
     "output_type": "stream",
     "text": [
      "  1%|          | 7/1000 [04:55<11:09:31, 40.45s/it]"
     ]
    },
    {
     "name": "stdout",
     "output_type": "stream",
     "text": [
      "\t self.next_action: 1\n",
      "\n",
      "\t ----- tradeoff_buffer: 2 ----- \n",
      "\t ----- reward: -1 for f_star and f_minus: 49.26168503890723 , 59.32731961800211\n",
      "[INFO] [2023-01-24 00:11:49,748] [OpenBox-SPO] Iteration 8, objective value: [51.159799826632494].\n"
     ]
    },
    {
     "name": "stderr",
     "output_type": "stream",
     "text": [
      "  1%|          | 8/1000 [05:41<11:41:37, 42.44s/it]"
     ]
    },
    {
     "name": "stdout",
     "output_type": "stream",
     "text": [
      "\t self.next_action: -1\n",
      "\n",
      "\t ----- tradeoff_buffer: 2 ----- \n",
      "\t ----- reward: -1 for f_star and f_minus: 45.672855854329995 , 51.159799826632494\n",
      "[INFO] [2023-01-24 00:12:28,663] [OpenBox-SPO] Iteration 9, objective value: [52.99089593644647].\n"
     ]
    },
    {
     "name": "stderr",
     "output_type": "stream",
     "text": [
      "  1%|          | 9/1000 [06:20<11:22:43, 41.34s/it]"
     ]
    },
    {
     "name": "stdout",
     "output_type": "stream",
     "text": [
      "\t self.next_action: 0\n",
      "\n",
      "\t ----- tradeoff_buffer: 3 ----- \n",
      "\t ----- reward: -1 for f_star and f_minus: 45.672855854329995 , 52.99089593644647\n",
      "[INFO] [2023-01-24 00:13:04,421] [OpenBox-SPO] Iteration 10, objective value: [53.0968828793025].\n"
     ]
    },
    {
     "name": "stderr",
     "output_type": "stream",
     "text": [
      "  1%|          | 10/1000 [06:56<10:53:37, 39.61s/it]"
     ]
    },
    {
     "name": "stdout",
     "output_type": "stream",
     "text": [
      "\t self.next_action: 1\n",
      "\n",
      "\t ----- tradeoff_buffer: 3 ----- \n",
      "\t ----- reward: -1 for f_star and f_minus: 45.672855854329995 , 53.0968828793025\n",
      "[INFO] [2023-01-24 00:13:43,176] [OpenBox-SPO] Iteration 11, objective value: [54.4855236057224].\n"
     ]
    },
    {
     "name": "stderr",
     "output_type": "stream",
     "text": [
      "  1%|          | 11/1000 [07:35<10:48:38, 39.35s/it]"
     ]
    },
    {
     "name": "stdout",
     "output_type": "stream",
     "text": [
      "\t self.next_action: 0\n",
      "\n",
      "\t ----- tradeoff_buffer: 4 ----- \n",
      "\t ----- reward: -1 for f_star and f_minus: 45.672855854329995 , 54.4855236057224\n",
      "[INFO] [2023-01-24 00:14:26,240] [OpenBox-SPO] Iteration 12, objective value: [53.46188839300673].\n"
     ]
    },
    {
     "name": "stderr",
     "output_type": "stream",
     "text": [
      "  1%|          | 12/1000 [08:18<11:06:34, 40.48s/it]"
     ]
    },
    {
     "name": "stdout",
     "output_type": "stream",
     "text": [
      "\t self.next_action: 1\n",
      "\n",
      "\t ----- tradeoff_buffer: 3 ----- \n",
      "\t ----- reward: -1 for f_star and f_minus: 45.672855854329995 , 53.46188839300673\n",
      "[INFO] [2023-01-24 00:15:01,899] [OpenBox-SPO] Iteration 13, objective value: [55.14847463195217].\n"
     ]
    },
    {
     "name": "stderr",
     "output_type": "stream",
     "text": [
      "  1%|▏         | 13/1000 [08:53<10:41:52, 39.02s/it]"
     ]
    },
    {
     "name": "stdout",
     "output_type": "stream",
     "text": [
      "\t self.next_action: -1\n",
      "\n",
      "\t ----- tradeoff_buffer: 4 ----- \n",
      "\t ----- reward: -1 for f_star and f_minus: 45.672855854329995 , 55.14847463195217\n",
      "[INFO] [2023-01-24 00:15:47,809] [OpenBox-SPO] Iteration 14, objective value: [47.9116441240587].\n"
     ]
    },
    {
     "name": "stderr",
     "output_type": "stream",
     "text": [
      "  1%|▏         | 14/1000 [09:39<11:15:25, 41.10s/it]"
     ]
    },
    {
     "name": "stdout",
     "output_type": "stream",
     "text": [
      "\t self.next_action: 1\n",
      "\n",
      "\t ----- tradeoff_buffer: 4 ----- \n",
      "\t ----- reward: -0.022387882697286976 for f_star and f_minus: 45.672855854329995 , 47.9116441240587\n",
      "[INFO] [2023-01-24 00:16:34,825] [OpenBox-SPO] Iteration 15, objective value: [49.805200051021494].\n"
     ]
    },
    {
     "name": "stderr",
     "output_type": "stream",
     "text": [
      "  2%|▏         | 15/1000 [10:26<11:44:00, 42.88s/it]"
     ]
    },
    {
     "name": "stdout",
     "output_type": "stream",
     "text": [
      "\t self.next_action: 0\n",
      "\n",
      "\t ----- tradeoff_buffer: 4 ----- \n",
      "\t ----- reward: -0.04132344196691495 for f_star and f_minus: 45.672855854329995 , 49.805200051021494\n",
      "[INFO] [2023-01-24 00:17:14,887] [OpenBox-SPO] Iteration 16, objective value: [54.13313565402218].\n"
     ]
    },
    {
     "name": "stderr",
     "output_type": "stream",
     "text": [
      "  2%|▏         | 16/1000 [11:06<11:29:22, 42.03s/it]"
     ]
    },
    {
     "name": "stdout",
     "output_type": "stream",
     "text": [
      "\t self.next_action: 0\n",
      "\n",
      "\t ----- tradeoff_buffer: 3 ----- \n",
      "\t ----- reward: -1 for f_star and f_minus: 45.672855854329995 , 54.13313565402218\n",
      "[INFO] [2023-01-24 00:18:01,339] [OpenBox-SPO] Iteration 17, objective value: [47.37260582467088].\n"
     ]
    },
    {
     "name": "stderr",
     "output_type": "stream",
     "text": [
      "  2%|▏         | 17/1000 [11:53<11:50:25, 43.36s/it]"
     ]
    },
    {
     "name": "stdout",
     "output_type": "stream",
     "text": [
      "\t self.next_action: -1\n",
      "\n",
      "\t ----- tradeoff_buffer: 4 ----- \n",
      "\t ----- reward: -0.016997499703408803 for f_star and f_minus: 45.672855854329995 , 47.37260582467088\n",
      "[INFO] [2023-01-24 00:18:45,015] [OpenBox-SPO] Iteration 18, objective value: [48.52188848118472].\n"
     ]
    },
    {
     "name": "stderr",
     "output_type": "stream",
     "text": [
      "  2%|▏         | 18/1000 [12:37<11:51:14, 43.46s/it]"
     ]
    },
    {
     "name": "stdout",
     "output_type": "stream",
     "text": [
      "\t self.next_action: 1\n",
      "\n",
      "\t ----- tradeoff_buffer: 4 ----- \n",
      "\t ----- reward: -0.028490326268547195 for f_star and f_minus: 45.672855854329995 , 48.52188848118472\n",
      "[INFO] [2023-01-24 00:19:26,005] [OpenBox-SPO] Iteration 19, objective value: [49.526153468663615].\n"
     ]
    },
    {
     "name": "stderr",
     "output_type": "stream",
     "text": [
      "  2%|▏         | 19/1000 [13:18<11:38:24, 42.72s/it]"
     ]
    },
    {
     "name": "stdout",
     "output_type": "stream",
     "text": [
      "\t self.next_action: 0\n",
      "\n",
      "\t ----- tradeoff_buffer: 5 ----- \n",
      "\t ----- reward: -0.03853297614333617 for f_star and f_minus: 45.672855854329995 , 49.526153468663615\n",
      "[INFO] [2023-01-24 00:20:08,343] [OpenBox-SPO] Iteration 20, objective value: [49.12568368399995].\n"
     ]
    },
    {
     "name": "stderr",
     "output_type": "stream",
     "text": [
      "  2%|▏         | 20/1000 [14:00<11:35:50, 42.60s/it]"
     ]
    },
    {
     "name": "stdout",
     "output_type": "stream",
     "text": [
      "\t self.next_action: 1\n",
      "\n",
      "\t ----- tradeoff_buffer: 5 ----- \n",
      "\t ----- reward: -0.03452827829669958 for f_star and f_minus: 45.672855854329995 , 49.12568368399995\n",
      "[INFO] [2023-01-24 00:20:49,614] [OpenBox-SPO] Iteration 21, objective value: [48.75952497709708].\n"
     ]
    },
    {
     "name": "stderr",
     "output_type": "stream",
     "text": [
      "  2%|▏         | 21/1000 [14:41<11:28:36, 42.20s/it]"
     ]
    },
    {
     "name": "stdout",
     "output_type": "stream",
     "text": [
      "\t self.next_action: 0\n",
      "\n",
      "\t ----- tradeoff_buffer: 4 ----- \n",
      "\t ----- reward: -0.03086669122767083 for f_star and f_minus: 45.672855854329995 , 48.75952497709708\n",
      "[INFO] [2023-01-24 00:21:25,174] [OpenBox-SPO] Iteration 22, objective value: [50.11555598172769].\n"
     ]
    },
    {
     "name": "stderr",
     "output_type": "stream",
     "text": [
      "  2%|▏         | 22/1000 [15:17<10:55:24, 40.21s/it]"
     ]
    },
    {
     "name": "stdout",
     "output_type": "stream",
     "text": [
      "\t self.next_action: -1\n",
      "\n",
      "\t ----- tradeoff_buffer: 5 ----- \n",
      "\t ----- reward: -1 for f_star and f_minus: 45.672855854329995 , 50.11555598172769\n",
      "[INFO] [2023-01-24 00:22:05,840] [OpenBox-SPO] Iteration 23, objective value: [48.34673982351726].\n"
     ]
    },
    {
     "name": "stderr",
     "output_type": "stream",
     "text": [
      "  2%|▏         | 23/1000 [15:57<10:56:58, 40.35s/it]"
     ]
    },
    {
     "name": "stdout",
     "output_type": "stream",
     "text": [
      "\t self.next_action: 1\n",
      "\n",
      "\t ----- tradeoff_buffer: 5 ----- \n",
      "\t ----- reward: -0.02673883969187263 for f_star and f_minus: 45.672855854329995 , 48.34673982351726\n",
      "[INFO] [2023-01-24 00:22:43,421] [OpenBox-SPO] Iteration 24, objective value: [54.90330424427617].\n"
     ]
    },
    {
     "name": "stderr",
     "output_type": "stream",
     "text": [
      "  2%|▏         | 24/1000 [16:35<10:42:48, 39.52s/it]"
     ]
    },
    {
     "name": "stdout",
     "output_type": "stream",
     "text": [
      "\t self.next_action: 0\n",
      "\n",
      "\t ----- tradeoff_buffer: 4 ----- \n",
      "\t ----- reward: -1 for f_star and f_minus: 45.672855854329995 , 54.90330424427617\n",
      "[INFO] [2023-01-24 00:23:32,014] [OpenBox-SPO] Iteration 25, objective value: [57.27878479389731].\n"
     ]
    },
    {
     "name": "stderr",
     "output_type": "stream",
     "text": [
      "  2%|▎         | 25/1000 [17:24<11:26:23, 42.24s/it]"
     ]
    },
    {
     "name": "stdout",
     "output_type": "stream",
     "text": [
      "\t self.next_action: -1\n",
      "\n",
      "\t ----- tradeoff_buffer: 3 ----- \n",
      "\t ----- reward: -1 for f_star and f_minus: 45.672855854329995 , 57.27878479389731\n",
      "[INFO] [2023-01-24 00:24:17,433] [OpenBox-SPO] Iteration 26, objective value: [44.25466243616465].\n"
     ]
    },
    {
     "name": "stderr",
     "output_type": "stream",
     "text": [
      "  3%|▎         | 26/1000 [18:09<11:41:10, 43.19s/it]"
     ]
    },
    {
     "name": "stdout",
     "output_type": "stream",
     "text": [
      "\t self.next_action: -1\n",
      "\n",
      "\t ----- tradeoff_buffer: 3 ----- \n",
      "\t ----- reward: 0.5574533756383535 for f_star and f_minus: 45.672855854329995 , 44.25466243616465\n",
      "[INFO] [2023-01-24 00:25:00,722] [OpenBox-SPO] Iteration 27, objective value: [50.31781501174728].\n"
     ]
    },
    {
     "name": "stderr",
     "output_type": "stream",
     "text": [
      "  3%|▎         | 27/1000 [18:52<11:40:55, 43.22s/it]"
     ]
    },
    {
     "name": "stdout",
     "output_type": "stream",
     "text": [
      "\t self.next_action: 0\n",
      "\n",
      "\t ----- tradeoff_buffer: 4 ----- \n",
      "\t ----- reward: -1 for f_star and f_minus: 45.672855854329995 , 50.31781501174728\n",
      "[INFO] [2023-01-24 00:25:47,518] [OpenBox-SPO] Iteration 28, objective value: [53.08834840172494].\n"
     ]
    },
    {
     "name": "stderr",
     "output_type": "stream",
     "text": [
      "  3%|▎         | 28/1000 [19:39<11:57:34, 44.29s/it]"
     ]
    },
    {
     "name": "stdout",
     "output_type": "stream",
     "text": [
      "\t self.next_action: 1\n",
      "\n",
      "\t ----- tradeoff_buffer: 4 ----- \n",
      "\t ----- reward: -1 for f_star and f_minus: 44.25466243616465 , 53.08834840172494\n",
      "[INFO] [2023-01-24 00:26:27,735] [OpenBox-SPO] Iteration 29, objective value: [48.10485739722458].\n"
     ]
    },
    {
     "name": "stderr",
     "output_type": "stream",
     "text": [
      "  3%|▎         | 29/1000 [20:19<11:37:02, 43.07s/it]"
     ]
    },
    {
     "name": "stdout",
     "output_type": "stream",
     "text": [
      "\t self.next_action: 0\n",
      "\n",
      "\t ----- tradeoff_buffer: 4 ----- \n",
      "\t ----- reward: -0.03850194961059927 for f_star and f_minus: 44.25466243616465 , 48.10485739722458\n",
      "[INFO] [2023-01-24 00:26:27,737] [Advisor] Sample random config. rand_prob=0.100000.\n",
      "[INFO] [2023-01-24 00:26:55,939] [OpenBox-SPO] Iteration 30, objective value: [60.93672410157911].\n"
     ]
    },
    {
     "name": "stderr",
     "output_type": "stream",
     "text": [
      "  3%|▎         | 30/1000 [20:47<10:24:12, 38.61s/it]"
     ]
    },
    {
     "name": "stdout",
     "output_type": "stream",
     "text": [
      "\t self.next_action: 0\n",
      "\n",
      "\t ----- tradeoff_buffer: 4 ----- \n",
      "\t ----- reward: -1 for f_star and f_minus: 44.25466243616465 , 60.93672410157911\n",
      "[INFO] [2023-01-24 00:26:55,940] [Advisor] Sample random config. rand_prob=0.100000.\n",
      "[INFO] [2023-01-24 00:27:30,798] [OpenBox-SPO] Iteration 31, objective value: [56.5062828172011].\n"
     ]
    },
    {
     "name": "stderr",
     "output_type": "stream",
     "text": [
      "  3%|▎         | 31/1000 [21:22<10:05:23, 37.49s/it]"
     ]
    },
    {
     "name": "stdout",
     "output_type": "stream",
     "text": [
      "\t self.next_action: 0\n",
      "\n",
      "\t ----- tradeoff_buffer: 5 ----- \n",
      "\t ----- reward: -1 for f_star and f_minus: 44.25466243616465 , 56.5062828172011\n",
      "[INFO] [2023-01-24 00:28:21,101] [OpenBox-SPO] Iteration 32, objective value: [41.41747829620598].\n"
     ]
    },
    {
     "name": "stderr",
     "output_type": "stream",
     "text": [
      "  3%|▎         | 32/1000 [22:13<11:06:48, 41.33s/it]"
     ]
    },
    {
     "name": "stdout",
     "output_type": "stream",
     "text": [
      "\t self.next_action: 1\n",
      "\n",
      "\t ----- tradeoff_buffer: 4 ----- \n",
      "\t ----- reward: 0.5858252170379402 for f_star and f_minus: 44.25466243616465 , 41.41747829620598\n",
      "[INFO] [2023-01-24 00:29:02,124] [OpenBox-SPO] Iteration 33, objective value: [50.266321981543115].\n"
     ]
    },
    {
     "name": "stderr",
     "output_type": "stream",
     "text": [
      "  3%|▎         | 33/1000 [22:54<11:04:37, 41.24s/it]"
     ]
    },
    {
     "name": "stdout",
     "output_type": "stream",
     "text": [
      "\t self.next_action: -1\n",
      "\n",
      "\t ----- tradeoff_buffer: 3 ----- \n",
      "\t ----- reward: -1 for f_star and f_minus: 44.25466243616465 , 50.266321981543115\n",
      "[INFO] [2023-01-24 00:29:39,080] [OpenBox-SPO] Iteration 34, objective value: [46.979227861933204].\n"
     ]
    },
    {
     "name": "stderr",
     "output_type": "stream",
     "text": [
      "  3%|▎         | 34/1000 [23:31<10:43:15, 39.95s/it]"
     ]
    },
    {
     "name": "stdout",
     "output_type": "stream",
     "text": [
      "\t self.next_action: -1\n",
      "\n",
      "\t ----- tradeoff_buffer: 4 ----- \n",
      "\t ----- reward: -0.05561749565727225 for f_star and f_minus: 41.41747829620598 , 46.979227861933204\n",
      "[INFO] [2023-01-24 00:30:25,460] [OpenBox-SPO] Iteration 35, objective value: [47.42791288316863].\n"
     ]
    },
    {
     "name": "stderr",
     "output_type": "stream",
     "text": [
      "  4%|▎         | 35/1000 [24:17<11:13:35, 41.88s/it]"
     ]
    },
    {
     "name": "stdout",
     "output_type": "stream",
     "text": [
      "\t self.next_action: 1\n",
      "\n",
      "\t ----- tradeoff_buffer: 5 ----- \n",
      "\t ----- reward: -0.06010434586962654 for f_star and f_minus: 41.41747829620598 , 47.42791288316863\n",
      "[INFO] [2023-01-24 00:31:11,353] [OpenBox-SPO] Iteration 36, objective value: [41.84208368636347].\n"
     ]
    },
    {
     "name": "stderr",
     "output_type": "stream",
     "text": [
      "  4%|▎         | 36/1000 [25:03<11:32:13, 43.08s/it]"
     ]
    },
    {
     "name": "stdout",
     "output_type": "stream",
     "text": [
      "\t self.next_action: 1\n",
      "\n",
      "\t ----- tradeoff_buffer: 4 ----- \n",
      "\t ----- reward: -0.004246053901574953 for f_star and f_minus: 41.41747829620598 , 41.84208368636347\n",
      "[INFO] [2023-01-24 00:31:58,981] [OpenBox-SPO] Iteration 37, objective value: [50.281782124224904].\n"
     ]
    },
    {
     "name": "stderr",
     "output_type": "stream",
     "text": [
      "  4%|▎         | 37/1000 [25:50<11:53:23, 44.45s/it]"
     ]
    },
    {
     "name": "stdout",
     "output_type": "stream",
     "text": [
      "\t self.next_action: -1\n",
      "\n",
      "\t ----- tradeoff_buffer: 3 ----- \n",
      "\t ----- reward: -1 for f_star and f_minus: 41.41747829620598 , 50.281782124224904\n",
      "[INFO] [2023-01-24 00:32:54,283] [OpenBox-SPO] Iteration 38, objective value: [41.65607089669481].\n"
     ]
    },
    {
     "name": "stderr",
     "output_type": "stream",
     "text": [
      "  4%|▍         | 38/1000 [26:46<12:44:51, 47.70s/it]"
     ]
    },
    {
     "name": "stdout",
     "output_type": "stream",
     "text": [
      "\t self.next_action: -1\n",
      "\n",
      "\t ----- tradeoff_buffer: 3 ----- \n",
      "\t ----- reward: -0.0023859260048882946 for f_star and f_minus: 41.41747829620598 , 41.65607089669481\n",
      "[INFO] [2023-01-24 00:33:43,281] [OpenBox-SPO] Iteration 39, objective value: [53.0548021932022].\n"
     ]
    },
    {
     "name": "stderr",
     "output_type": "stream",
     "text": [
      "  4%|▍         | 39/1000 [27:35<12:50:16, 48.09s/it]"
     ]
    },
    {
     "name": "stdout",
     "output_type": "stream",
     "text": [
      "\t self.next_action: 0\n",
      "\n",
      "\t ----- tradeoff_buffer: 2 ----- \n",
      "\t ----- reward: -1 for f_star and f_minus: 41.41747829620598 , 53.0548021932022\n",
      "[INFO] [2023-01-24 00:34:33,651] [OpenBox-SPO] Iteration 40, objective value: [53.48942380844058].\n"
     ]
    },
    {
     "name": "stderr",
     "output_type": "stream",
     "text": [
      "  4%|▍         | 40/1000 [28:25<13:00:24, 48.78s/it]"
     ]
    },
    {
     "name": "stdout",
     "output_type": "stream",
     "text": [
      "\t self.next_action: -1\n",
      "\n",
      "\t ----- tradeoff_buffer: 3 ----- \n",
      "\t ----- reward: -1 for f_star and f_minus: 41.41747829620598 , 53.48942380844058\n",
      "[INFO] [2023-01-24 00:35:24,901] [OpenBox-SPO] Iteration 41, objective value: [40.19960655490424].\n"
     ]
    },
    {
     "name": "stderr",
     "output_type": "stream",
     "text": [
      "  4%|▍         | 41/1000 [29:16<13:11:27, 49.52s/it]"
     ]
    },
    {
     "name": "stdout",
     "output_type": "stream",
     "text": [
      "\t self.next_action: 1\n",
      "\n",
      "\t ----- tradeoff_buffer: 4 ----- \n",
      "\t ----- reward: 0.5980039344509576 for f_star and f_minus: 41.41747829620598 , 40.19960655490424\n",
      "[INFO] [2023-01-24 00:36:12,436] [OpenBox-SPO] Iteration 42, objective value: [50.58059604349913].\n"
     ]
    },
    {
     "name": "stderr",
     "output_type": "stream",
     "text": [
      "  4%|▍         | 42/1000 [30:04<13:01:08, 48.92s/it]"
     ]
    },
    {
     "name": "stdout",
     "output_type": "stream",
     "text": [
      "\t self.next_action: 1\n",
      "\n",
      "\t ----- tradeoff_buffer: 5 ----- \n",
      "\t ----- reward: -1 for f_star and f_minus: 41.41747829620598 , 50.58059604349913\n",
      "[INFO] [2023-01-24 00:36:57,130] [OpenBox-SPO] Iteration 43, objective value: [57.68865892326579].\n"
     ]
    },
    {
     "name": "stderr",
     "output_type": "stream",
     "text": [
      "  4%|▍         | 43/1000 [30:49<12:40:05, 47.65s/it]"
     ]
    },
    {
     "name": "stdout",
     "output_type": "stream",
     "text": [
      "\t self.next_action: 1\n",
      "\n",
      "\t ----- tradeoff_buffer: 5 ----- \n",
      "\t ----- reward: -1 for f_star and f_minus: 40.19960655490424 , 57.68865892326579\n",
      "[INFO] [2023-01-24 00:37:51,328] [OpenBox-SPO] Iteration 44, objective value: [56.013609118214134].\n"
     ]
    },
    {
     "name": "stderr",
     "output_type": "stream",
     "text": [
      "  4%|▍         | 44/1000 [31:43<13:10:34, 49.62s/it]"
     ]
    },
    {
     "name": "stdout",
     "output_type": "stream",
     "text": [
      "\t self.next_action: 0\n",
      "\n",
      "\t ----- tradeoff_buffer: 4 ----- \n",
      "\t ----- reward: -1 for f_star and f_minus: 40.19960655490424 , 56.013609118214134\n",
      "[INFO] [2023-01-24 00:38:39,298] [OpenBox-SPO] Iteration 45, objective value: [50.13315587742233].\n"
     ]
    },
    {
     "name": "stderr",
     "output_type": "stream",
     "text": [
      "  4%|▍         | 45/1000 [32:31<13:01:52, 49.12s/it]"
     ]
    },
    {
     "name": "stdout",
     "output_type": "stream",
     "text": [
      "\t self.next_action: -1\n",
      "\n",
      "\t ----- tradeoff_buffer: 3 ----- \n",
      "\t ----- reward: -1 for f_star and f_minus: 40.19960655490424 , 50.13315587742233\n",
      "[INFO] [2023-01-24 00:39:27,095] [OpenBox-SPO] Iteration 46, objective value: [42.558225336791786].\n"
     ]
    },
    {
     "name": "stderr",
     "output_type": "stream",
     "text": [
      "  5%|▍         | 46/1000 [33:19<12:54:43, 48.73s/it]"
     ]
    },
    {
     "name": "stdout",
     "output_type": "stream",
     "text": [
      "\t self.next_action: -1\n",
      "\n",
      "\t ----- tradeoff_buffer: 4 ----- \n",
      "\t ----- reward: -0.023586187818875448 for f_star and f_minus: 40.19960655490424 , 42.558225336791786\n",
      "[INFO] [2023-01-24 00:40:19,771] [OpenBox-SPO] Iteration 47, objective value: [37.596459800637874].\n"
     ]
    },
    {
     "name": "stderr",
     "output_type": "stream",
     "text": [
      "  5%|▍         | 47/1000 [34:11<13:12:44, 49.91s/it]"
     ]
    },
    {
     "name": "stdout",
     "output_type": "stream",
     "text": [
      "\t self.next_action: 1\n",
      "\n",
      "\t ----- tradeoff_buffer: 3 ----- \n",
      "\t ----- reward: 0.6240354019936213 for f_star and f_minus: 40.19960655490424 , 37.596459800637874\n",
      "[INFO] [2023-01-24 00:41:03,957] [OpenBox-SPO] Iteration 48, objective value: [41.95698765953031].\n"
     ]
    },
    {
     "name": "stderr",
     "output_type": "stream",
     "text": [
      "  5%|▍         | 48/1000 [34:55<12:44:39, 48.19s/it]"
     ]
    },
    {
     "name": "stdout",
     "output_type": "stream",
     "text": [
      "\t self.next_action: -1\n",
      "\n",
      "\t ----- tradeoff_buffer: 4 ----- \n",
      "\t ----- reward: -0.017573811046260712 for f_star and f_minus: 40.19960655490424 , 41.95698765953031\n",
      "[INFO] [2023-01-24 00:41:50,130] [OpenBox-SPO] Iteration 49, objective value: [36.234833477462146].\n"
     ]
    },
    {
     "name": "stderr",
     "output_type": "stream",
     "text": [
      "  5%|▍         | 49/1000 [35:42<12:34:15, 47.59s/it]"
     ]
    },
    {
     "name": "stdout",
     "output_type": "stream",
     "text": [
      "\t self.next_action: 1\n",
      "\n",
      "\t ----- tradeoff_buffer: 5 ----- \n",
      "\t ----- reward: 0.6376516652253785 for f_star and f_minus: 37.596459800637874 , 36.234833477462146\n",
      "[INFO] [2023-01-24 00:42:32,247] [OpenBox-SPO] Iteration 50, objective value: [51.44539092284245].\n"
     ]
    },
    {
     "name": "stderr",
     "output_type": "stream",
     "text": [
      "  5%|▌         | 50/1000 [36:24<12:07:28, 45.95s/it]"
     ]
    },
    {
     "name": "stdout",
     "output_type": "stream",
     "text": [
      "\t self.next_action: 1\n",
      "\n",
      "\t ----- tradeoff_buffer: 5 ----- \n",
      "\t ----- reward: -1 for f_star and f_minus: 37.596459800637874 , 51.44539092284245\n",
      "[INFO] [2023-01-24 00:43:27,297] [OpenBox-SPO] Iteration 51, objective value: [46.204691261275514].\n"
     ]
    },
    {
     "name": "stderr",
     "output_type": "stream",
     "text": [
      "  5%|▌         | 51/1000 [37:19<12:49:54, 48.68s/it]"
     ]
    },
    {
     "name": "stdout",
     "output_type": "stream",
     "text": [
      "\t self.next_action: 0\n",
      "\n",
      "\t ----- tradeoff_buffer: 5 ----- \n",
      "\t ----- reward: -0.09969857783813368 for f_star and f_minus: 36.234833477462146 , 46.204691261275514\n",
      "[INFO] [2023-01-24 00:44:12,184] [OpenBox-SPO] Iteration 52, objective value: [47.49698338080164].\n"
     ]
    },
    {
     "name": "stderr",
     "output_type": "stream",
     "text": [
      "  5%|▌         | 52/1000 [38:04<12:31:08, 47.54s/it]"
     ]
    },
    {
     "name": "stdout",
     "output_type": "stream",
     "text": [
      "\t self.next_action: 0\n",
      "\n",
      "\t ----- tradeoff_buffer: 6 ----- \n",
      "\t ----- reward: -0.11262149903339491 for f_star and f_minus: 36.234833477462146 , 47.49698338080164\n",
      "[INFO] [2023-01-24 00:44:12,186] [Advisor] Sample random config. rand_prob=0.100000.\n",
      "[INFO] [2023-01-24 00:44:52,814] [OpenBox-SPO] Iteration 53, objective value: [53.86388487811914].\n"
     ]
    },
    {
     "name": "stderr",
     "output_type": "stream",
     "text": [
      "  5%|▌         | 53/1000 [38:44<11:57:37, 45.47s/it]"
     ]
    },
    {
     "name": "stdout",
     "output_type": "stream",
     "text": [
      "\t self.next_action: 1\n",
      "\n",
      "\t ----- tradeoff_buffer: 7 ----- \n",
      "\t ----- reward: -1 for f_star and f_minus: 36.234833477462146 , 53.86388487811914\n",
      "[INFO] [2023-01-24 00:44:52,815] [Advisor] Sample random config. rand_prob=0.100000.\n",
      "[INFO] [2023-01-24 00:45:30,077] [OpenBox-SPO] Iteration 54, objective value: [44.89813529446012].\n"
     ]
    },
    {
     "name": "stderr",
     "output_type": "stream",
     "text": [
      "  5%|▌         | 54/1000 [39:22<11:18:03, 43.01s/it]"
     ]
    },
    {
     "name": "stdout",
     "output_type": "stream",
     "text": [
      "\t self.next_action: 1\n",
      "\n",
      "\t ----- tradeoff_buffer: 8 ----- \n",
      "\t ----- reward: -0.0866330181699797 for f_star and f_minus: 36.234833477462146 , 44.89813529446012\n",
      "[INFO] [2023-01-24 00:46:19,918] [OpenBox-SPO] Iteration 55, objective value: [49.55406722020454].\n"
     ]
    },
    {
     "name": "stderr",
     "output_type": "stream",
     "text": [
      "  6%|▌         | 55/1000 [40:11<11:49:38, 45.06s/it]"
     ]
    },
    {
     "name": "stdout",
     "output_type": "stream",
     "text": [
      "\t self.next_action: 1\n",
      "\n",
      "\t ----- tradeoff_buffer: 7 ----- \n",
      "\t ----- reward: -0.13319233742742392 for f_star and f_minus: 36.234833477462146 , 49.55406722020454\n",
      "[INFO] [2023-01-24 00:47:13,118] [OpenBox-SPO] Iteration 56, objective value: [46.553738608975].\n"
     ]
    },
    {
     "name": "stderr",
     "output_type": "stream",
     "text": [
      "  6%|▌         | 56/1000 [41:05<12:27:19, 47.50s/it]"
     ]
    },
    {
     "name": "stdout",
     "output_type": "stream",
     "text": [
      "\t self.next_action: -1\n",
      "\n",
      "\t ----- tradeoff_buffer: 8 ----- \n",
      "\t ----- reward: -0.10318905131512857 for f_star and f_minus: 36.234833477462146 , 46.553738608975\n",
      "[INFO] [2023-01-24 00:48:03,563] [OpenBox-SPO] Iteration 57, objective value: [49.04776712367329].\n"
     ]
    },
    {
     "name": "stderr",
     "output_type": "stream",
     "text": [
      "  6%|▌         | 57/1000 [41:55<12:40:25, 48.38s/it]"
     ]
    },
    {
     "name": "stdout",
     "output_type": "stream",
     "text": [
      "\t self.next_action: 1\n",
      "\n",
      "\t ----- tradeoff_buffer: 7 ----- \n",
      "\t ----- reward: -0.12812933646211144 for f_star and f_minus: 36.234833477462146 , 49.04776712367329\n",
      "[INFO] [2023-01-24 00:48:52,213] [OpenBox-SPO] Iteration 58, objective value: [39.060276219036105].\n"
     ]
    },
    {
     "name": "stderr",
     "output_type": "stream",
     "text": [
      "  6%|▌         | 58/1000 [42:44<12:40:52, 48.46s/it]"
     ]
    },
    {
     "name": "stdout",
     "output_type": "stream",
     "text": [
      "\t self.next_action: -1\n",
      "\n",
      "\t ----- tradeoff_buffer: 8 ----- \n",
      "\t ----- reward: -0.02825442741573958 for f_star and f_minus: 36.234833477462146 , 39.060276219036105\n",
      "[INFO] [2023-01-24 00:49:37,979] [OpenBox-SPO] Iteration 59, objective value: [41.56794242307789].\n"
     ]
    },
    {
     "name": "stderr",
     "output_type": "stream",
     "text": [
      "  6%|▌         | 59/1000 [43:29<12:27:22, 47.65s/it]"
     ]
    },
    {
     "name": "stdout",
     "output_type": "stream",
     "text": [
      "\t self.next_action: 1\n",
      "\n",
      "\t ----- tradeoff_buffer: 7 ----- \n",
      "\t ----- reward: -0.05333108945615739 for f_star and f_minus: 36.234833477462146 , 41.56794242307789\n",
      "[INFO] [2023-01-24 00:50:22,866] [OpenBox-SPO] Iteration 60, objective value: [55.833792330255214].\n"
     ]
    },
    {
     "name": "stderr",
     "output_type": "stream",
     "text": [
      "  6%|▌         | 60/1000 [44:14<12:13:34, 46.82s/it]"
     ]
    },
    {
     "name": "stdout",
     "output_type": "stream",
     "text": [
      "\t self.next_action: -1\n",
      "\n",
      "\t ----- tradeoff_buffer: 7 ----- \n",
      "\t ----- reward: -1 for f_star and f_minus: 36.234833477462146 , 55.833792330255214\n",
      "[INFO] [2023-01-24 00:51:13,114] [OpenBox-SPO] Iteration 61, objective value: [46.21676470417834].\n"
     ]
    },
    {
     "name": "stderr",
     "output_type": "stream",
     "text": [
      "  6%|▌         | 61/1000 [45:05<12:28:52, 47.85s/it]"
     ]
    },
    {
     "name": "stdout",
     "output_type": "stream",
     "text": [
      "\t self.next_action: 0\n",
      "\n",
      "\t ----- tradeoff_buffer: 8 ----- \n",
      "\t ----- reward: -0.0998193122671619 for f_star and f_minus: 36.234833477462146 , 46.21676470417834\n",
      "[INFO] [2023-01-24 00:51:58,943] [OpenBox-SPO] Iteration 62, objective value: [50.29850927955717].\n"
     ]
    },
    {
     "name": "stderr",
     "output_type": "stream",
     "text": [
      "  6%|▌         | 62/1000 [45:50<12:18:35, 47.24s/it]"
     ]
    },
    {
     "name": "stdout",
     "output_type": "stream",
     "text": [
      "\t self.next_action: 1\n",
      "\n",
      "\t ----- tradeoff_buffer: 7 ----- \n",
      "\t ----- reward: -1 for f_star and f_minus: 36.234833477462146 , 50.29850927955717\n",
      "[INFO] [2023-01-24 00:52:52,118] [OpenBox-SPO] Iteration 63, objective value: [39.44194997627015].\n"
     ]
    },
    {
     "name": "stderr",
     "output_type": "stream",
     "text": [
      "  6%|▋         | 63/1000 [46:44<12:45:35, 49.02s/it]"
     ]
    },
    {
     "name": "stdout",
     "output_type": "stream",
     "text": [
      "\t self.next_action: -1\n",
      "\n",
      "\t ----- tradeoff_buffer: 7 ----- \n",
      "\t ----- reward: -0.03207116498808005 for f_star and f_minus: 36.234833477462146 , 39.44194997627015\n",
      "[INFO] [2023-01-24 00:53:36,520] [OpenBox-SPO] Iteration 64, objective value: [48.45075717201712].\n"
     ]
    },
    {
     "name": "stderr",
     "output_type": "stream",
     "text": [
      "  6%|▋         | 64/1000 [47:28<12:23:08, 47.64s/it]"
     ]
    },
    {
     "name": "stdout",
     "output_type": "stream",
     "text": [
      "\t self.next_action: 0\n",
      "\n",
      "\t ----- tradeoff_buffer: 8 ----- \n",
      "\t ----- reward: -0.12215923694554975 for f_star and f_minus: 36.234833477462146 , 48.45075717201712\n",
      "[INFO] [2023-01-24 00:54:20,282] [OpenBox-SPO] Iteration 65, objective value: [44.24262880378341].\n"
     ]
    },
    {
     "name": "stderr",
     "output_type": "stream",
     "text": [
      "  6%|▋         | 65/1000 [48:12<12:04:13, 46.47s/it]"
     ]
    },
    {
     "name": "stdout",
     "output_type": "stream",
     "text": [
      "\t self.next_action: 1\n",
      "\n",
      "\t ----- tradeoff_buffer: 8 ----- \n",
      "\t ----- reward: -0.08007795326321265 for f_star and f_minus: 36.234833477462146 , 44.24262880378341\n",
      "[INFO] [2023-01-24 00:55:11,342] [OpenBox-SPO] Iteration 66, objective value: [31.691369907447793].\n"
     ]
    },
    {
     "name": "stderr",
     "output_type": "stream",
     "text": [
      "  7%|▋         | 66/1000 [49:03<12:24:51, 47.85s/it]"
     ]
    },
    {
     "name": "stdout",
     "output_type": "stream",
     "text": [
      "\t self.next_action: 0\n",
      "\n",
      "\t ----- tradeoff_buffer: 8 ----- \n",
      "\t ----- reward: 0.6830863009255221 for f_star and f_minus: 36.234833477462146 , 31.691369907447793\n",
      "[INFO] [2023-01-24 00:56:02,816] [OpenBox-SPO] Iteration 67, objective value: [39.27588240415621].\n"
     ]
    },
    {
     "name": "stderr",
     "output_type": "stream",
     "text": [
      "  7%|▋         | 67/1000 [49:54<12:40:58, 48.94s/it]"
     ]
    },
    {
     "name": "stdout",
     "output_type": "stream",
     "text": [
      "\t self.next_action: 0\n",
      "\n",
      "\t ----- tradeoff_buffer: 8 ----- \n",
      "\t ----- reward: -0.030410489266940566 for f_star and f_minus: 36.234833477462146 , 39.27588240415621\n",
      "[INFO] [2023-01-24 00:56:02,817] [Advisor] Sample random config. rand_prob=0.100000.\n",
      "[INFO] [2023-01-24 00:56:39,325] [OpenBox-SPO] Iteration 68, objective value: [54.238281994811494].\n"
     ]
    },
    {
     "name": "stderr",
     "output_type": "stream",
     "text": [
      "  7%|▋         | 68/1000 [50:31<11:42:14, 45.21s/it]"
     ]
    },
    {
     "name": "stdout",
     "output_type": "stream",
     "text": [
      "\t self.next_action: 0\n",
      "\n",
      "\t ----- tradeoff_buffer: 9 ----- \n",
      "\t ----- reward: -1 for f_star and f_minus: 31.691369907447793 , 54.238281994811494\n",
      "[INFO] [2023-01-24 00:57:27,686] [OpenBox-SPO] Iteration 69, objective value: [47.027539993391684].\n"
     ]
    },
    {
     "name": "stderr",
     "output_type": "stream",
     "text": [
      "  7%|▋         | 69/1000 [51:19<11:56:09, 46.15s/it]"
     ]
    },
    {
     "name": "stdout",
     "output_type": "stream",
     "text": [
      "\t self.next_action: 1\n",
      "\n",
      "\t ----- tradeoff_buffer: 8 ----- \n",
      "\t ----- reward: -0.15336170085943895 for f_star and f_minus: 31.691369907447793 , 47.027539993391684\n",
      "[INFO] [2023-01-24 00:58:21,583] [OpenBox-SPO] Iteration 70, objective value: [45.78920117382565].\n"
     ]
    },
    {
     "name": "stderr",
     "output_type": "stream",
     "text": [
      "  7%|▋         | 70/1000 [52:13<12:31:23, 48.48s/it]"
     ]
    },
    {
     "name": "stdout",
     "output_type": "stream",
     "text": [
      "\t self.next_action: -1\n",
      "\n",
      "\t ----- tradeoff_buffer: 9 ----- \n",
      "\t ----- reward: -0.14097831266377864 for f_star and f_minus: 31.691369907447793 , 45.78920117382565\n",
      "[INFO] [2023-01-24 00:59:11,121] [OpenBox-SPO] Iteration 71, objective value: [46.71065789152945].\n"
     ]
    },
    {
     "name": "stderr",
     "output_type": "stream",
     "text": [
      "  7%|▋         | 71/1000 [53:03<12:35:31, 48.80s/it]"
     ]
    },
    {
     "name": "stdout",
     "output_type": "stream",
     "text": [
      "\t self.next_action: 1\n",
      "\n",
      "\t ----- tradeoff_buffer: 8 ----- \n",
      "\t ----- reward: -0.15019287984081658 for f_star and f_minus: 31.691369907447793 , 46.71065789152945\n",
      "[INFO] [2023-01-24 01:00:00,227] [OpenBox-SPO] Iteration 72, objective value: [47.137313326440335].\n"
     ]
    },
    {
     "name": "stderr",
     "output_type": "stream",
     "text": [
      "  7%|▋         | 72/1000 [53:52<12:36:08, 48.89s/it]"
     ]
    },
    {
     "name": "stdout",
     "output_type": "stream",
     "text": [
      "\t self.next_action: -1\n",
      "\n",
      "\t ----- tradeoff_buffer: 9 ----- \n",
      "\t ----- reward: -0.15445943418992542 for f_star and f_minus: 31.691369907447793 , 47.137313326440335\n",
      "[INFO] [2023-01-24 01:00:52,798] [OpenBox-SPO] Iteration 73, objective value: [38.197096196979274].\n"
     ]
    },
    {
     "name": "stderr",
     "output_type": "stream",
     "text": [
      "  7%|▋         | 73/1000 [54:44<12:52:23, 49.99s/it]"
     ]
    },
    {
     "name": "stdout",
     "output_type": "stream",
     "text": [
      "\t self.next_action: 1\n",
      "\n",
      "\t ----- tradeoff_buffer: 10 ----- \n",
      "\t ----- reward: -0.06505726289531483 for f_star and f_minus: 31.691369907447793 , 38.197096196979274\n",
      "[INFO] [2023-01-24 01:01:31,901] [OpenBox-SPO] Iteration 74, objective value: [49.2304961116985].\n"
     ]
    },
    {
     "name": "stderr",
     "output_type": "stream",
     "text": [
      "  7%|▋         | 74/1000 [55:23<12:01:08, 46.73s/it]"
     ]
    },
    {
     "name": "stdout",
     "output_type": "stream",
     "text": [
      "\t self.next_action: 1\n",
      "\n",
      "\t ----- tradeoff_buffer: 10 ----- \n",
      "\t ----- reward: -0.1753912620425071 for f_star and f_minus: 31.691369907447793 , 49.2304961116985\n",
      "[INFO] [2023-01-24 01:02:24,265] [OpenBox-SPO] Iteration 75, objective value: [34.25286683056191].\n"
     ]
    },
    {
     "name": "stderr",
     "output_type": "stream",
     "text": [
      "  8%|▊         | 75/1000 [56:16<12:26:26, 48.42s/it]"
     ]
    },
    {
     "name": "stdout",
     "output_type": "stream",
     "text": [
      "\t self.next_action: 1\n",
      "\n",
      "\t ----- tradeoff_buffer: 10 ----- \n",
      "\t ----- reward: -0.025614969231141205 for f_star and f_minus: 31.691369907447793 , 34.25286683056191\n",
      "[INFO] [2023-01-24 01:03:15,967] [OpenBox-SPO] Iteration 76, objective value: [44.509233688619275].\n"
     ]
    },
    {
     "name": "stderr",
     "output_type": "stream",
     "text": [
      "  8%|▊         | 76/1000 [57:07<12:40:48, 49.40s/it]"
     ]
    },
    {
     "name": "stdout",
     "output_type": "stream",
     "text": [
      "\t self.next_action: 1\n",
      "\n",
      "\t ----- tradeoff_buffer: 9 ----- \n",
      "\t ----- reward: -0.12817863781171485 for f_star and f_minus: 31.691369907447793 , 44.509233688619275\n",
      "[INFO] [2023-01-24 01:04:04,367] [OpenBox-SPO] Iteration 77, objective value: [44.53703988305111].\n"
     ]
    },
    {
     "name": "stderr",
     "output_type": "stream",
     "text": [
      "  8%|▊         | 77/1000 [57:56<12:35:21, 49.10s/it]"
     ]
    },
    {
     "name": "stdout",
     "output_type": "stream",
     "text": [
      "\t self.next_action: -1\n",
      "\n",
      "\t ----- tradeoff_buffer: 10 ----- \n",
      "\t ----- reward: -0.1284566997560332 for f_star and f_minus: 31.691369907447793 , 44.53703988305111\n",
      "[INFO] [2023-01-24 01:04:53,944] [OpenBox-SPO] Iteration 78, objective value: [48.14785097792764].\n"
     ]
    },
    {
     "name": "stderr",
     "output_type": "stream",
     "text": [
      "  8%|▊         | 78/1000 [58:45<12:36:43, 49.24s/it]"
     ]
    },
    {
     "name": "stdout",
     "output_type": "stream",
     "text": [
      "\t self.next_action: 1\n",
      "\n",
      "\t ----- tradeoff_buffer: 9 ----- \n",
      "\t ----- reward: -0.1645648107047985 for f_star and f_minus: 31.691369907447793 , 48.14785097792764\n",
      "[INFO] [2023-01-24 01:05:36,779] [OpenBox-SPO] Iteration 79, objective value: [40.304700241213745].\n"
     ]
    },
    {
     "name": "stderr",
     "output_type": "stream",
     "text": [
      "  8%|▊         | 79/1000 [59:28<12:06:23, 47.32s/it]"
     ]
    },
    {
     "name": "stdout",
     "output_type": "stream",
     "text": [
      "\t self.next_action: -1\n",
      "\n",
      "\t ----- tradeoff_buffer: 8 ----- \n",
      "\t ----- reward: -0.0861333033376595 for f_star and f_minus: 31.691369907447793 , 40.304700241213745\n",
      "[INFO] [2023-01-24 01:06:23,129] [OpenBox-SPO] Iteration 80, objective value: [40.89736330614181].\n"
     ]
    },
    {
     "name": "stderr",
     "output_type": "stream",
     "text": [
      "  8%|▊         | 80/1000 [1:00:15<12:01:07, 47.03s/it]"
     ]
    },
    {
     "name": "stdout",
     "output_type": "stream",
     "text": [
      "\t self.next_action: -1\n",
      "\n",
      "\t ----- tradeoff_buffer: 9 ----- \n",
      "\t ----- reward: -0.09205993398694023 for f_star and f_minus: 31.691369907447793 , 40.89736330614181\n",
      "[INFO] [2023-01-24 01:07:14,898] [OpenBox-SPO] Iteration 81, objective value: [40.862870442831955].\n"
     ]
    },
    {
     "name": "stderr",
     "output_type": "stream",
     "text": [
      "  8%|▊         | 81/1000 [1:01:06<12:22:07, 48.45s/it]"
     ]
    },
    {
     "name": "stdout",
     "output_type": "stream",
     "text": [
      "\t self.next_action: 1\n",
      "\n",
      "\t ----- tradeoff_buffer: 8 ----- \n",
      "\t ----- reward: -0.09171500535384164 for f_star and f_minus: 31.691369907447793 , 40.862870442831955\n",
      "[INFO] [2023-01-24 01:08:13,827] [OpenBox-SPO] Iteration 82, objective value: [33.26238110310857].\n"
     ]
    },
    {
     "name": "stderr",
     "output_type": "stream",
     "text": [
      "  8%|▊         | 82/1000 [1:02:05<13:09:24, 51.60s/it]"
     ]
    },
    {
     "name": "stdout",
     "output_type": "stream",
     "text": [
      "\t self.next_action: -1\n",
      "\n",
      "\t ----- tradeoff_buffer: 7 ----- \n",
      "\t ----- reward: -0.015710111956607764 for f_star and f_minus: 31.691369907447793 , 33.26238110310857\n",
      "[INFO] [2023-01-24 01:09:03,699] [OpenBox-SPO] Iteration 83, objective value: [41.19900306675313].\n"
     ]
    },
    {
     "name": "stderr",
     "output_type": "stream",
     "text": [
      "  8%|▊         | 83/1000 [1:02:55<13:00:38, 51.08s/it]"
     ]
    },
    {
     "name": "stdout",
     "output_type": "stream",
     "text": [
      "\t self.next_action: -1\n",
      "\n",
      "\t ----- tradeoff_buffer: 8 ----- \n",
      "\t ----- reward: -0.09507633159305334 for f_star and f_minus: 31.691369907447793 , 41.19900306675313\n",
      "[INFO] [2023-01-24 01:09:54,768] [OpenBox-SPO] Iteration 84, objective value: [50.263847971204505].\n"
     ]
    },
    {
     "name": "stderr",
     "output_type": "stream",
     "text": [
      "  8%|▊         | 84/1000 [1:03:46<12:59:44, 51.08s/it]"
     ]
    },
    {
     "name": "stdout",
     "output_type": "stream",
     "text": [
      "\t self.next_action: 1\n",
      "\n",
      "\t ----- tradeoff_buffer: 8 ----- \n",
      "\t ----- reward: -1 for f_star and f_minus: 31.691369907447793 , 50.263847971204505\n",
      "[INFO] [2023-01-24 01:09:54,770] [Advisor] Sample random config. rand_prob=0.100000.\n",
      "[INFO] [2023-01-24 01:10:23,078] [OpenBox-SPO] Iteration 85, objective value: [49.74667700542692].\n"
     ]
    },
    {
     "name": "stderr",
     "output_type": "stream",
     "text": [
      "  8%|▊         | 85/1000 [1:04:15<11:14:44, 44.25s/it]"
     ]
    },
    {
     "name": "stdout",
     "output_type": "stream",
     "text": [
      "\t self.next_action: 0\n",
      "\n",
      "\t ----- tradeoff_buffer: 8 ----- \n",
      "\t ----- reward: -0.18055307097979129 for f_star and f_minus: 31.691369907447793 , 49.74667700542692\n",
      "[INFO] [2023-01-24 01:11:12,280] [OpenBox-SPO] Iteration 86, objective value: [33.7546640948338].\n"
     ]
    },
    {
     "name": "stderr",
     "output_type": "stream",
     "text": [
      "  9%|▊         | 86/1000 [1:05:04<11:36:39, 45.73s/it]"
     ]
    },
    {
     "name": "stdout",
     "output_type": "stream",
     "text": [
      "\t self.next_action: 0\n",
      "\n",
      "\t ----- tradeoff_buffer: 7 ----- \n",
      "\t ----- reward: -0.020632941873860056 for f_star and f_minus: 31.691369907447793 , 33.7546640948338\n",
      "[INFO] [2023-01-24 01:12:03,215] [OpenBox-SPO] Iteration 87, objective value: [41.5695268008278].\n"
     ]
    },
    {
     "name": "stderr",
     "output_type": "stream",
     "text": [
      "  9%|▊         | 87/1000 [1:05:55<11:59:38, 47.29s/it]"
     ]
    },
    {
     "name": "stdout",
     "output_type": "stream",
     "text": [
      "\t self.next_action: -1\n",
      "\n",
      "\t ----- tradeoff_buffer: 7 ----- \n",
      "\t ----- reward: -0.09878156893380008 for f_star and f_minus: 31.691369907447793 , 41.5695268008278\n",
      "[INFO] [2023-01-24 01:12:59,704] [OpenBox-SPO] Iteration 88, objective value: [45.044319498425466].\n"
     ]
    },
    {
     "name": "stderr",
     "output_type": "stream",
     "text": [
      "  9%|▉         | 88/1000 [1:06:51<12:40:47, 50.05s/it]"
     ]
    },
    {
     "name": "stdout",
     "output_type": "stream",
     "text": [
      "\t self.next_action: 0\n",
      "\n",
      "\t ----- tradeoff_buffer: 6 ----- \n",
      "\t ----- reward: -0.13352949590977675 for f_star and f_minus: 31.691369907447793 , 45.044319498425466\n",
      "[INFO] [2023-01-24 01:13:49,705] [OpenBox-SPO] Iteration 89, objective value: [42.257604781331636].\n"
     ]
    },
    {
     "name": "stderr",
     "output_type": "stream",
     "text": [
      "  9%|▉         | 89/1000 [1:07:41<12:39:43, 50.04s/it]"
     ]
    },
    {
     "name": "stdout",
     "output_type": "stream",
     "text": [
      "\t self.next_action: -1\n",
      "\n",
      "\t ----- tradeoff_buffer: 6 ----- \n",
      "\t ----- reward: -0.10566234873883845 for f_star and f_minus: 31.691369907447793 , 42.257604781331636\n",
      "[INFO] [2023-01-24 01:14:46,154] [OpenBox-SPO] Iteration 90, objective value: [36.42959009484138].\n"
     ]
    },
    {
     "name": "stderr",
     "output_type": "stream",
     "text": [
      "  9%|▉         | 90/1000 [1:08:38<13:08:03, 51.96s/it]"
     ]
    },
    {
     "name": "stdout",
     "output_type": "stream",
     "text": [
      "\t self.next_action: 0\n",
      "\n",
      "\t ----- tradeoff_buffer: 6 ----- \n",
      "\t ----- reward: -0.04738220187393588 for f_star and f_minus: 31.691369907447793 , 36.42959009484138\n",
      "[INFO] [2023-01-24 01:15:44,046] [OpenBox-SPO] Iteration 91, objective value: [41.44023418525886].\n"
     ]
    },
    {
     "name": "stderr",
     "output_type": "stream",
     "text": [
      "  9%|▉         | 91/1000 [1:09:36<13:34:09, 53.74s/it]"
     ]
    },
    {
     "name": "stdout",
     "output_type": "stream",
     "text": [
      "\t self.next_action: 0\n",
      "\n",
      "\t ----- tradeoff_buffer: 5 ----- \n",
      "\t ----- reward: -0.0974886427781107 for f_star and f_minus: 31.691369907447793 , 41.44023418525886\n",
      "[INFO] [2023-01-24 01:16:32,674] [OpenBox-SPO] Iteration 92, objective value: [44.77182583322973].\n"
     ]
    },
    {
     "name": "stderr",
     "output_type": "stream",
     "text": [
      "  9%|▉         | 92/1000 [1:10:24<13:10:03, 52.21s/it]"
     ]
    },
    {
     "name": "stdout",
     "output_type": "stream",
     "text": [
      "\t self.next_action: -1\n",
      "\n",
      "\t ----- tradeoff_buffer: 4 ----- \n",
      "\t ----- reward: -0.13080455925781936 for f_star and f_minus: 31.691369907447793 , 44.77182583322973\n",
      "[INFO] [2023-01-24 01:17:21,272] [OpenBox-SPO] Iteration 93, objective value: [31.285459751338337].\n"
     ]
    },
    {
     "name": "stderr",
     "output_type": "stream",
     "text": [
      "  9%|▉         | 93/1000 [1:11:13<12:52:49, 51.12s/it]"
     ]
    },
    {
     "name": "stdout",
     "output_type": "stream",
     "text": [
      "\t self.next_action: -1\n",
      "\n",
      "\t ----- tradeoff_buffer: 5 ----- \n",
      "\t ----- reward: 0.6871454024866166 for f_star and f_minus: 31.691369907447793 , 31.285459751338337\n",
      "[INFO] [2023-01-24 01:18:10,472] [OpenBox-SPO] Iteration 94, objective value: [39.168151882882654].\n"
     ]
    },
    {
     "name": "stderr",
     "output_type": "stream",
     "text": [
      "  9%|▉         | 94/1000 [1:12:02<12:43:15, 50.55s/it]"
     ]
    },
    {
     "name": "stdout",
     "output_type": "stream",
     "text": [
      "\t self.next_action: 1\n",
      "\n",
      "\t ----- tradeoff_buffer: 6 ----- \n",
      "\t ----- reward: -0.0747678197543486 for f_star and f_minus: 31.691369907447793 , 39.168151882882654\n",
      "[INFO] [2023-01-24 01:18:10,473] [Advisor] Sample random config. rand_prob=0.100000.\n",
      "[INFO] [2023-01-24 01:18:49,517] [OpenBox-SPO] Iteration 95, objective value: [51.531331955641754].\n"
     ]
    },
    {
     "name": "stderr",
     "output_type": "stream",
     "text": [
      " 10%|▉         | 95/1000 [1:12:41<11:50:21, 47.10s/it]"
     ]
    },
    {
     "name": "stdout",
     "output_type": "stream",
     "text": [
      "\t self.next_action: 1\n",
      "\n",
      "\t ----- tradeoff_buffer: 5 ----- \n",
      "\t ----- reward: -1 for f_star and f_minus: 31.285459751338337 , 51.531331955641754\n",
      "[INFO] [2023-01-24 01:18:49,518] [Advisor] Sample random config. rand_prob=0.100000.\n",
      "[INFO] [2023-01-24 01:19:29,599] [OpenBox-SPO] Iteration 96, objective value: [53.83483962220518].\n"
     ]
    },
    {
     "name": "stderr",
     "output_type": "stream",
     "text": [
      " 10%|▉         | 96/1000 [1:13:21<11:17:52, 44.99s/it]"
     ]
    },
    {
     "name": "stdout",
     "output_type": "stream",
     "text": [
      "\t self.next_action: -1\n",
      "\n",
      "\t ----- tradeoff_buffer: 4 ----- \n",
      "\t ----- reward: -1 for f_star and f_minus: 31.285459751338337 , 53.83483962220518\n",
      "[INFO] [2023-01-24 01:20:10,009] [OpenBox-SPO] Iteration 97, objective value: [44.507159992263446].\n"
     ]
    },
    {
     "name": "stderr",
     "output_type": "stream",
     "text": [
      " 10%|▉         | 97/1000 [1:14:02<10:56:26, 43.62s/it]"
     ]
    },
    {
     "name": "stdout",
     "output_type": "stream",
     "text": [
      "\t self.next_action: -1\n",
      "\n",
      "\t ----- tradeoff_buffer: 4 ----- \n",
      "\t ----- reward: -0.1322170024092511 for f_star and f_minus: 31.285459751338337 , 44.507159992263446\n",
      "[INFO] [2023-01-24 01:20:10,011] [Advisor] Sample random config. rand_prob=0.100000.\n",
      "[INFO] [2023-01-24 01:20:40,628] [OpenBox-SPO] Iteration 98, objective value: [58.24101844378551].\n"
     ]
    },
    {
     "name": "stderr",
     "output_type": "stream",
     "text": [
      " 10%|▉         | 98/1000 [1:14:32<9:57:05, 39.72s/it] "
     ]
    },
    {
     "name": "stdout",
     "output_type": "stream",
     "text": [
      "\t self.next_action: 0\n",
      "\n",
      "\t ----- tradeoff_buffer: 3 ----- \n",
      "\t ----- reward: -1 for f_star and f_minus: 31.285459751338337 , 58.24101844378551\n",
      "[INFO] [2023-01-24 01:21:31,112] [OpenBox-SPO] Iteration 99, objective value: [46.91501878890001].\n"
     ]
    },
    {
     "name": "stderr",
     "output_type": "stream",
     "text": [
      " 10%|▉         | 99/1000 [1:15:23<10:44:55, 42.95s/it]"
     ]
    },
    {
     "name": "stdout",
     "output_type": "stream",
     "text": [
      "\t self.next_action: -1\n",
      "\n",
      "\t ----- tradeoff_buffer: 2 ----- \n",
      "\t ----- reward: -0.15629559037561674 for f_star and f_minus: 31.285459751338337 , 46.91501878890001\n",
      "[INFO] [2023-01-24 01:22:20,442] [OpenBox-SPO] Iteration 100, objective value: [41.60053914819951].\n"
     ]
    },
    {
     "name": "stderr",
     "output_type": "stream",
     "text": [
      " 10%|█         | 100/1000 [1:16:12<11:12:56, 44.86s/it]"
     ]
    },
    {
     "name": "stdout",
     "output_type": "stream",
     "text": [
      "\t self.next_action: -1\n",
      "\n",
      "\t ----- tradeoff_buffer: 1 ----- \n",
      "\t ----- reward: -0.10315079396861176 for f_star and f_minus: 31.285459751338337 , 41.60053914819951\n",
      "[INFO] [2023-01-24 01:23:06,884] [OpenBox-SPO] Iteration 101, objective value: [46.4544080010217].\n"
     ]
    },
    {
     "name": "stderr",
     "output_type": "stream",
     "text": [
      " 10%|█         | 101/1000 [1:16:58<11:19:17, 45.34s/it]"
     ]
    },
    {
     "name": "stdout",
     "output_type": "stream",
     "text": [
      "\t self.next_action: -1\n",
      "\n",
      "\t ----- tradeoff_buffer: 2 ----- \n",
      "\t ----- reward: -0.15168948249683362 for f_star and f_minus: 31.285459751338337 , 46.4544080010217\n",
      "[INFO] [2023-01-24 01:23:54,956] [OpenBox-SPO] Iteration 102, objective value: [33.57882189713585].\n"
     ]
    },
    {
     "name": "stderr",
     "output_type": "stream",
     "text": [
      " 10%|█         | 102/1000 [1:17:46<11:30:48, 46.16s/it]"
     ]
    },
    {
     "name": "stdout",
     "output_type": "stream",
     "text": [
      "\t self.next_action: 1\n",
      "\n",
      "\t ----- tradeoff_buffer: 2 ----- \n",
      "\t ----- reward: -0.022933621457975173 for f_star and f_minus: 31.285459751338337 , 33.57882189713585\n",
      "[INFO] [2023-01-24 01:24:46,345] [OpenBox-SPO] Iteration 103, objective value: [48.73734029211786].\n"
     ]
    },
    {
     "name": "stderr",
     "output_type": "stream",
     "text": [
      " 10%|█         | 103/1000 [1:18:38<11:53:30, 47.73s/it]"
     ]
    },
    {
     "name": "stdout",
     "output_type": "stream",
     "text": [
      "\t self.next_action: 0\n",
      "\n",
      "\t ----- tradeoff_buffer: 1 ----- \n",
      "\t ----- reward: -0.17451880540779524 for f_star and f_minus: 31.285459751338337 , 48.73734029211786\n",
      "[INFO] [2023-01-24 01:25:36,679] [OpenBox-SPO] Iteration 104, objective value: [52.64377620487124].\n"
     ]
    },
    {
     "name": "stderr",
     "output_type": "stream",
     "text": [
      " 10%|█         | 104/1000 [1:19:28<12:04:23, 48.51s/it]"
     ]
    },
    {
     "name": "stdout",
     "output_type": "stream",
     "text": [
      "\t self.next_action: -1\n",
      "\n",
      "\t ----- tradeoff_buffer: 2 ----- \n",
      "\t ----- reward: -1 for f_star and f_minus: 31.285459751338337 , 52.64377620487124\n",
      "[INFO] [2023-01-24 01:26:26,818] [OpenBox-SPO] Iteration 105, objective value: [40.398521010436475].\n"
     ]
    },
    {
     "name": "stderr",
     "output_type": "stream",
     "text": [
      " 10%|█         | 105/1000 [1:20:18<12:10:52, 49.00s/it]"
     ]
    },
    {
     "name": "stdout",
     "output_type": "stream",
     "text": [
      "\t self.next_action: 1\n",
      "\n",
      "\t ----- tradeoff_buffer: 3 ----- \n",
      "\t ----- reward: -0.09113061259098143 for f_star and f_minus: 31.285459751338337 , 40.398521010436475\n",
      "[INFO] [2023-01-24 01:27:22,334] [OpenBox-SPO] Iteration 106, objective value: [45.66444982037904].\n"
     ]
    },
    {
     "name": "stderr",
     "output_type": "stream",
     "text": [
      " 11%|█         | 106/1000 [1:21:14<12:39:12, 50.95s/it]"
     ]
    },
    {
     "name": "stdout",
     "output_type": "stream",
     "text": [
      "\t self.next_action: 1\n",
      "\n",
      "\t ----- tradeoff_buffer: 4 ----- \n",
      "\t ----- reward: -0.14378990069040704 for f_star and f_minus: 31.285459751338337 , 45.66444982037904\n",
      "[INFO] [2023-01-24 01:28:14,199] [OpenBox-SPO] Iteration 107, objective value: [38.14138200154].\n"
     ]
    },
    {
     "name": "stderr",
     "output_type": "stream",
     "text": [
      " 11%|█         | 107/1000 [1:22:06<12:42:25, 51.23s/it]"
     ]
    },
    {
     "name": "stdout",
     "output_type": "stream",
     "text": [
      "\t self.next_action: 1\n",
      "\n",
      "\t ----- tradeoff_buffer: 5 ----- \n",
      "\t ----- reward: -0.06855922250201668 for f_star and f_minus: 31.285459751338337 , 38.14138200154\n",
      "[INFO] [2023-01-24 01:29:07,859] [OpenBox-SPO] Iteration 108, objective value: [33.564076904299085].\n"
     ]
    },
    {
     "name": "stderr",
     "output_type": "stream",
     "text": [
      " 11%|█         | 108/1000 [1:22:59<12:52:25, 51.96s/it]"
     ]
    },
    {
     "name": "stdout",
     "output_type": "stream",
     "text": [
      "\t self.next_action: 1\n",
      "\n",
      "\t ----- tradeoff_buffer: 6 ----- \n",
      "\t ----- reward: -0.02278617152960749 for f_star and f_minus: 31.285459751338337 , 33.564076904299085\n",
      "[INFO] [2023-01-24 01:29:52,692] [OpenBox-SPO] Iteration 109, objective value: [35.37302110876766].\n"
     ]
    },
    {
     "name": "stderr",
     "output_type": "stream",
     "text": [
      " 11%|█         | 109/1000 [1:23:44<12:19:49, 49.82s/it]"
     ]
    },
    {
     "name": "stdout",
     "output_type": "stream",
     "text": [
      "\t self.next_action: 1\n",
      "\n",
      "\t ----- tradeoff_buffer: 5 ----- \n",
      "\t ----- reward: -0.04087561357429326 for f_star and f_minus: 31.285459751338337 , 35.37302110876766\n",
      "[INFO] [2023-01-24 01:30:45,962] [OpenBox-SPO] Iteration 110, objective value: [34.40723768791055].\n"
     ]
    },
    {
     "name": "stderr",
     "output_type": "stream",
     "text": [
      " 11%|█         | 110/1000 [1:24:37<12:34:20, 50.85s/it]"
     ]
    },
    {
     "name": "stdout",
     "output_type": "stream",
     "text": [
      "\t self.next_action: -1\n",
      "\n",
      "\t ----- tradeoff_buffer: 6 ----- \n",
      "\t ----- reward: -0.031217779365722176 for f_star and f_minus: 31.285459751338337 , 34.40723768791055\n",
      "[INFO] [2023-01-24 01:31:32,138] [OpenBox-SPO] Iteration 111, objective value: [37.56307363475288].\n"
     ]
    },
    {
     "name": "stderr",
     "output_type": "stream",
     "text": [
      " 11%|█         | 111/1000 [1:25:24<12:12:41, 49.45s/it]"
     ]
    },
    {
     "name": "stdout",
     "output_type": "stream",
     "text": [
      "\t self.next_action: 1\n",
      "\n",
      "\t ----- tradeoff_buffer: 7 ----- \n",
      "\t ----- reward: -0.06277613883414546 for f_star and f_minus: 31.285459751338337 , 37.56307363475288\n",
      "[INFO] [2023-01-24 01:32:23,763] [OpenBox-SPO] Iteration 112, objective value: [35.6210193340427].\n"
     ]
    },
    {
     "name": "stderr",
     "output_type": "stream",
     "text": [
      " 11%|█         | 112/1000 [1:26:15<12:21:31, 50.10s/it]"
     ]
    },
    {
     "name": "stdout",
     "output_type": "stream",
     "text": [
      "\t self.next_action: 1\n",
      "\n",
      "\t ----- tradeoff_buffer: 6 ----- \n",
      "\t ----- reward: -0.043355595827043625 for f_star and f_minus: 31.285459751338337 , 35.6210193340427\n",
      "[INFO] [2023-01-24 01:33:09,126] [OpenBox-SPO] Iteration 113, objective value: [39.9425593770801].\n"
     ]
    },
    {
     "name": "stderr",
     "output_type": "stream",
     "text": [
      " 11%|█▏        | 113/1000 [1:27:01<11:59:40, 48.68s/it]"
     ]
    },
    {
     "name": "stdout",
     "output_type": "stream",
     "text": [
      "\t self.next_action: -1\n",
      "\n",
      "\t ----- tradeoff_buffer: 5 ----- \n",
      "\t ----- reward: -0.08657099625741765 for f_star and f_minus: 31.285459751338337 , 39.9425593770801\n",
      "[INFO] [2023-01-24 01:33:09,127] [Advisor] Sample random config. rand_prob=0.100000.\n",
      "[INFO] [2023-01-24 01:33:37,197] [OpenBox-SPO] Iteration 114, objective value: [58.76533429475533].\n"
     ]
    },
    {
     "name": "stderr",
     "output_type": "stream",
     "text": [
      " 11%|█▏        | 114/1000 [1:27:29<10:27:33, 42.50s/it]"
     ]
    },
    {
     "name": "stdout",
     "output_type": "stream",
     "text": [
      "\t self.next_action: -1\n",
      "\n",
      "\t ----- tradeoff_buffer: 4 ----- \n",
      "\t ----- reward: -1 for f_star and f_minus: 31.285459751338337 , 58.76533429475533\n",
      "[INFO] [2023-01-24 01:33:37,198] [Advisor] Sample random config. rand_prob=0.100000.\n",
      "[INFO] [2023-01-24 01:34:16,939] [OpenBox-SPO] Iteration 115, objective value: [50.9503675602905].\n"
     ]
    },
    {
     "name": "stderr",
     "output_type": "stream",
     "text": [
      " 12%|█▏        | 115/1000 [1:28:08<10:14:39, 41.67s/it]"
     ]
    },
    {
     "name": "stdout",
     "output_type": "stream",
     "text": [
      "\t self.next_action: -1\n",
      "\n",
      "\t ----- tradeoff_buffer: 3 ----- \n",
      "\t ----- reward: -1 for f_star and f_minus: 31.285459751338337 , 50.9503675602905\n",
      "[INFO] [2023-01-24 01:34:59,707] [OpenBox-SPO] Iteration 116, objective value: [38.40816133802619].\n"
     ]
    },
    {
     "name": "stderr",
     "output_type": "stream",
     "text": [
      " 12%|█▏        | 116/1000 [1:28:51<10:18:48, 42.00s/it]"
     ]
    },
    {
     "name": "stdout",
     "output_type": "stream",
     "text": [
      "\t self.next_action: -1\n",
      "\n",
      "\t ----- tradeoff_buffer: 2 ----- \n",
      "\t ----- reward: -0.07122701586687857 for f_star and f_minus: 31.285459751338337 , 38.40816133802619\n",
      "[INFO] [2023-01-24 01:35:47,241] [OpenBox-SPO] Iteration 117, objective value: [41.022691106434905].\n"
     ]
    },
    {
     "name": "stderr",
     "output_type": "stream",
     "text": [
      " 12%|█▏        | 117/1000 [1:29:39<10:42:32, 43.66s/it]"
     ]
    },
    {
     "name": "stdout",
     "output_type": "stream",
     "text": [
      "\t self.next_action: -1\n",
      "\n",
      "\t ----- tradeoff_buffer: 1 ----- \n",
      "\t ----- reward: -0.0973723135509657 for f_star and f_minus: 31.285459751338337 , 41.022691106434905\n",
      "[INFO] [2023-01-24 01:36:28,951] [OpenBox-SPO] Iteration 118, objective value: [42.47880226210865].\n"
     ]
    },
    {
     "name": "stderr",
     "output_type": "stream",
     "text": [
      " 12%|█▏        | 118/1000 [1:30:20<10:33:12, 43.08s/it]"
     ]
    },
    {
     "name": "stdout",
     "output_type": "stream",
     "text": [
      "\t self.next_action: -1\n",
      "\n",
      "\t ----- tradeoff_buffer: 0 ----- \n",
      "\t ----- reward: -0.11193342510770316 for f_star and f_minus: 31.285459751338337 , 42.47880226210865\n",
      "[INFO] [2023-01-24 01:37:14,810] [OpenBox-SPO] Iteration 119, objective value: [48.46671764914656].\n"
     ]
    },
    {
     "name": "stderr",
     "output_type": "stream",
     "text": [
      " 12%|█▏        | 119/1000 [1:31:06<10:44:45, 43.91s/it]"
     ]
    },
    {
     "name": "stdout",
     "output_type": "stream",
     "text": [
      "\t self.next_action: -1\n",
      "\n",
      "\t ----- tradeoff_buffer: 1 ----- \n",
      "\t ----- reward: -0.17181257897808228 for f_star and f_minus: 31.285459751338337 , 48.46671764914656\n",
      "[INFO] [2023-01-24 01:38:11,580] [OpenBox-SPO] Iteration 120, objective value: [42.08868243086863].\n"
     ]
    },
    {
     "name": "stderr",
     "output_type": "stream",
     "text": [
      " 12%|█▏        | 120/1000 [1:32:03<11:40:36, 47.77s/it]"
     ]
    },
    {
     "name": "stdout",
     "output_type": "stream",
     "text": [
      "\t self.next_action: 1\n",
      "\n",
      "\t ----- tradeoff_buffer: 2 ----- \n",
      "\t ----- reward: -0.10803222679530294 for f_star and f_minus: 31.285459751338337 , 42.08868243086863\n",
      "[INFO] [2023-01-24 01:39:03,423] [OpenBox-SPO] Iteration 121, objective value: [40.45368331895054].\n"
     ]
    },
    {
     "name": "stderr",
     "output_type": "stream",
     "text": [
      " 12%|█▏        | 121/1000 [1:32:55<11:57:42, 48.99s/it]"
     ]
    },
    {
     "name": "stdout",
     "output_type": "stream",
     "text": [
      "\t self.next_action: 1\n",
      "\n",
      "\t ----- tradeoff_buffer: 2 ----- \n",
      "\t ----- reward: -0.09168223567612205 for f_star and f_minus: 31.285459751338337 , 40.45368331895054\n",
      "[INFO] [2023-01-24 01:39:54,647] [OpenBox-SPO] Iteration 122, objective value: [34.49050346695849].\n"
     ]
    },
    {
     "name": "stderr",
     "output_type": "stream",
     "text": [
      " 12%|█▏        | 122/1000 [1:33:46<12:06:42, 49.66s/it]"
     ]
    },
    {
     "name": "stdout",
     "output_type": "stream",
     "text": [
      "\t self.next_action: 0\n",
      "\n",
      "\t ----- tradeoff_buffer: 3 ----- \n",
      "\t ----- reward: -0.03205043715620154 for f_star and f_minus: 31.285459751338337 , 34.49050346695849\n",
      "[INFO] [2023-01-24 01:40:49,113] [OpenBox-SPO] Iteration 123, objective value: [44.765871968125445].\n"
     ]
    },
    {
     "name": "stderr",
     "output_type": "stream",
     "text": [
      " 12%|█▏        | 123/1000 [1:34:41<12:26:56, 51.10s/it]"
     ]
    },
    {
     "name": "stdout",
     "output_type": "stream",
     "text": [
      "\t self.next_action: 1\n",
      "\n",
      "\t ----- tradeoff_buffer: 4 ----- \n",
      "\t ----- reward: -0.13480412216787113 for f_star and f_minus: 31.285459751338337 , 44.765871968125445\n",
      "[INFO] [2023-01-24 01:41:35,248] [OpenBox-SPO] Iteration 124, objective value: [45.52573127739841].\n"
     ]
    },
    {
     "name": "stderr",
     "output_type": "stream",
     "text": [
      " 12%|█▏        | 124/1000 [1:35:27<12:04:20, 49.61s/it]"
     ]
    },
    {
     "name": "stdout",
     "output_type": "stream",
     "text": [
      "\t self.next_action: 1\n",
      "\n",
      "\t ----- tradeoff_buffer: 4 ----- \n",
      "\t ----- reward: -0.14240271526060072 for f_star and f_minus: 31.285459751338337 , 45.52573127739841\n",
      "[INFO] [2023-01-24 01:42:25,339] [OpenBox-SPO] Iteration 125, objective value: [39.81372003022528].\n"
     ]
    },
    {
     "name": "stderr",
     "output_type": "stream",
     "text": [
      " 12%|█▎        | 125/1000 [1:36:17<12:05:36, 49.76s/it]"
     ]
    },
    {
     "name": "stdout",
     "output_type": "stream",
     "text": [
      "\t self.next_action: 0\n",
      "\n",
      "\t ----- tradeoff_buffer: 3 ----- \n",
      "\t ----- reward: -0.0852826027888694 for f_star and f_minus: 31.285459751338337 , 39.81372003022528\n",
      "[INFO] [2023-01-24 01:43:14,435] [OpenBox-SPO] Iteration 126, objective value: [42.30063951692051].\n"
     ]
    },
    {
     "name": "stderr",
     "output_type": "stream",
     "text": [
      " 13%|█▎        | 126/1000 [1:37:06<12:01:53, 49.56s/it]"
     ]
    },
    {
     "name": "stdout",
     "output_type": "stream",
     "text": [
      "\t self.next_action: -1\n",
      "\n",
      "\t ----- tradeoff_buffer: 2 ----- \n",
      "\t ----- reward: -0.11015179765582178 for f_star and f_minus: 31.285459751338337 , 42.30063951692051\n",
      "[INFO] [2023-01-24 01:43:59,063] [OpenBox-SPO] Iteration 127, objective value: [54.371474042630446].\n"
     ]
    },
    {
     "name": "stderr",
     "output_type": "stream",
     "text": [
      " 13%|█▎        | 127/1000 [1:37:51<11:39:32, 48.08s/it]"
     ]
    },
    {
     "name": "stdout",
     "output_type": "stream",
     "text": [
      "\t self.next_action: -1\n",
      "\n",
      "\t ----- tradeoff_buffer: 3 ----- \n",
      "\t ----- reward: -1 for f_star and f_minus: 31.285459751338337 , 54.371474042630446\n",
      "[INFO] [2023-01-24 01:43:59,064] [Advisor] Sample random config. rand_prob=0.100000.\n",
      "[INFO] [2023-01-24 01:44:37,057] [OpenBox-SPO] Iteration 128, objective value: [49.808564282262026].\n"
     ]
    },
    {
     "name": "stderr",
     "output_type": "stream",
     "text": [
      " 13%|█▎        | 128/1000 [1:38:29<10:54:46, 45.05s/it]"
     ]
    },
    {
     "name": "stdout",
     "output_type": "stream",
     "text": [
      "\t self.next_action: 1\n",
      "\n",
      "\t ----- tradeoff_buffer: 2 ----- \n",
      "\t ----- reward: -0.1852310453092369 for f_star and f_minus: 31.285459751338337 , 49.808564282262026\n",
      "[INFO] [2023-01-24 01:45:29,657] [OpenBox-SPO] Iteration 129, objective value: [34.023425270406676].\n"
     ]
    },
    {
     "name": "stderr",
     "output_type": "stream",
     "text": [
      " 13%|█▎        | 129/1000 [1:39:21<11:26:53, 47.32s/it]"
     ]
    },
    {
     "name": "stdout",
     "output_type": "stream",
     "text": [
      "\t self.next_action: -1\n",
      "\n",
      "\t ----- tradeoff_buffer: 1 ----- \n",
      "\t ----- reward: -0.027379655190683416 for f_star and f_minus: 31.285459751338337 , 34.023425270406676\n",
      "[INFO] [2023-01-24 01:46:24,155] [OpenBox-SPO] Iteration 130, objective value: [44.750886989546345].\n"
     ]
    },
    {
     "name": "stderr",
     "output_type": "stream",
     "text": [
      " 13%|█▎        | 130/1000 [1:40:16<11:57:20, 49.47s/it]"
     ]
    },
    {
     "name": "stdout",
     "output_type": "stream",
     "text": [
      "\t self.next_action: -1\n",
      "\n",
      "\t ----- tradeoff_buffer: 0 ----- \n",
      "\t ----- reward: -0.1346542723820801 for f_star and f_minus: 31.285459751338337 , 44.750886989546345\n",
      "[INFO] [2023-01-24 01:47:18,604] [OpenBox-SPO] Iteration 131, objective value: [31.090566038750225].\n"
     ]
    },
    {
     "name": "stderr",
     "output_type": "stream",
     "text": [
      " 13%|█▎        | 131/1000 [1:41:10<12:18:08, 50.96s/it]"
     ]
    },
    {
     "name": "stdout",
     "output_type": "stream",
     "text": [
      "\t self.next_action: -1\n",
      "\n",
      "\t ----- tradeoff_buffer: 1 ----- \n",
      "\t ----- reward: 0.6890943396124978 for f_star and f_minus: 31.285459751338337 , 31.090566038750225\n",
      "[INFO] [2023-01-24 01:48:00,806] [OpenBox-SPO] Iteration 132, objective value: [47.66165369611055].\n"
     ]
    },
    {
     "name": "stderr",
     "output_type": "stream",
     "text": [
      " 13%|█▎        | 132/1000 [1:41:52<11:39:15, 48.34s/it]"
     ]
    },
    {
     "name": "stdout",
     "output_type": "stream",
     "text": [
      "\t self.next_action: 1\n",
      "\n",
      "\t ----- tradeoff_buffer: 2 ----- \n",
      "\t ----- reward: -0.16376193944772216 for f_star and f_minus: 31.285459751338337 , 47.66165369611055\n",
      "[INFO] [2023-01-24 01:48:49,066] [OpenBox-SPO] Iteration 133, objective value: [39.37902903977311].\n"
     ]
    },
    {
     "name": "stderr",
     "output_type": "stream",
     "text": [
      " 13%|█▎        | 133/1000 [1:42:41<11:38:07, 48.31s/it]"
     ]
    },
    {
     "name": "stdout",
     "output_type": "stream",
     "text": [
      "\t self.next_action: 1\n",
      "\n",
      "\t ----- tradeoff_buffer: 2 ----- \n",
      "\t ----- reward: -0.08288463001022883 for f_star and f_minus: 31.090566038750225 , 39.37902903977311\n",
      "[INFO] [2023-01-24 01:49:43,204] [OpenBox-SPO] Iteration 134, objective value: [41.112170797084715].\n"
     ]
    },
    {
     "name": "stderr",
     "output_type": "stream",
     "text": [
      " 13%|█▎        | 134/1000 [1:43:35<12:02:32, 50.06s/it]"
     ]
    },
    {
     "name": "stdout",
     "output_type": "stream",
     "text": [
      "\t self.next_action: 0\n",
      "\n",
      "\t ----- tradeoff_buffer: 2 ----- \n",
      "\t ----- reward: -0.1002160475833449 for f_star and f_minus: 31.090566038750225 , 41.112170797084715\n",
      "[INFO] [2023-01-24 01:50:37,324] [OpenBox-SPO] Iteration 135, objective value: [32.37255616033275].\n"
     ]
    },
    {
     "name": "stderr",
     "output_type": "stream",
     "text": [
      " 14%|█▎        | 135/1000 [1:44:29<12:19:15, 51.28s/it]"
     ]
    },
    {
     "name": "stdout",
     "output_type": "stream",
     "text": [
      "\t self.next_action: 0\n",
      "\n",
      "\t ----- tradeoff_buffer: 2 ----- \n",
      "\t ----- reward: -0.012819901215825269 for f_star and f_minus: 31.090566038750225 , 32.37255616033275\n",
      "[INFO] [2023-01-24 01:51:27,765] [OpenBox-SPO] Iteration 136, objective value: [39.07532899416224].\n"
     ]
    },
    {
     "name": "stderr",
     "output_type": "stream",
     "text": [
      " 14%|█▎        | 136/1000 [1:45:19<12:14:47, 51.03s/it]"
     ]
    },
    {
     "name": "stdout",
     "output_type": "stream",
     "text": [
      "\t self.next_action: 0\n",
      "\n",
      "\t ----- tradeoff_buffer: 2 ----- \n",
      "\t ----- reward: -0.07984762955412017 for f_star and f_minus: 31.090566038750225 , 39.07532899416224\n",
      "[INFO] [2023-01-24 01:52:13,667] [OpenBox-SPO] Iteration 137, objective value: [29.33566227494852].\n"
     ]
    },
    {
     "name": "stderr",
     "output_type": "stream",
     "text": [
      " 14%|█▎        | 137/1000 [1:46:05<11:51:49, 49.49s/it]"
     ]
    },
    {
     "name": "stdout",
     "output_type": "stream",
     "text": [
      "\t self.next_action: 0\n",
      "\n",
      "\t ----- tradeoff_buffer: 3 ----- \n",
      "\t ----- reward: 0.7066433772505147 for f_star and f_minus: 31.090566038750225 , 29.33566227494852\n",
      "[INFO] [2023-01-24 01:53:07,057] [OpenBox-SPO] Iteration 138, objective value: [42.43975677793438].\n"
     ]
    },
    {
     "name": "stderr",
     "output_type": "stream",
     "text": [
      " 14%|█▍        | 138/1000 [1:46:59<12:07:48, 50.66s/it]"
     ]
    },
    {
     "name": "stdout",
     "output_type": "stream",
     "text": [
      "\t self.next_action: 1\n",
      "\n",
      "\t ----- tradeoff_buffer: 4 ----- \n",
      "\t ----- reward: -0.11349190739184156 for f_star and f_minus: 31.090566038750225 , 42.43975677793438\n",
      "[INFO] [2023-01-24 01:53:51,072] [OpenBox-SPO] Iteration 139, objective value: [27.98720724382983].\n"
     ]
    },
    {
     "name": "stderr",
     "output_type": "stream",
     "text": [
      " 14%|█▍        | 139/1000 [1:47:43<11:38:21, 48.67s/it]"
     ]
    },
    {
     "name": "stdout",
     "output_type": "stream",
     "text": [
      "\t self.next_action: 1\n",
      "\n",
      "\t ----- tradeoff_buffer: 4 ----- \n",
      "\t ----- reward: 0.7201279275617016 for f_star and f_minus: 29.33566227494852 , 27.98720724382983\n",
      "[INFO] [2023-01-24 01:54:35,555] [OpenBox-SPO] Iteration 140, objective value: [42.59157991213149].\n"
     ]
    },
    {
     "name": "stderr",
     "output_type": "stream",
     "text": [
      " 14%|█▍        | 140/1000 [1:48:27<11:19:33, 47.41s/it]"
     ]
    },
    {
     "name": "stdout",
     "output_type": "stream",
     "text": [
      "\t self.next_action: 0\n",
      "\n",
      "\t ----- tradeoff_buffer: 4 ----- \n",
      "\t ----- reward: -0.13255917637182973 for f_star and f_minus: 29.33566227494852 , 42.59157991213149\n",
      "[INFO] [2023-01-24 01:55:15,120] [OpenBox-SPO] Iteration 141, objective value: [40.533974127137675].\n"
     ]
    },
    {
     "name": "stderr",
     "output_type": "stream",
     "text": [
      " 14%|█▍        | 141/1000 [1:49:07<10:45:04, 45.06s/it]"
     ]
    },
    {
     "name": "stdout",
     "output_type": "stream",
     "text": [
      "\t self.next_action: 0\n",
      "\n",
      "\t ----- tradeoff_buffer: 4 ----- \n",
      "\t ----- reward: -0.12546766883307842 for f_star and f_minus: 27.98720724382983 , 40.533974127137675\n",
      "[INFO] [2023-01-24 01:56:02,945] [OpenBox-SPO] Iteration 142, objective value: [35.97387529381807].\n"
     ]
    },
    {
     "name": "stderr",
     "output_type": "stream",
     "text": [
      " 14%|█▍        | 142/1000 [1:49:54<10:56:11, 45.89s/it]"
     ]
    },
    {
     "name": "stdout",
     "output_type": "stream",
     "text": [
      "\t self.next_action: 0\n",
      "\n",
      "\t ----- tradeoff_buffer: 4 ----- \n",
      "\t ----- reward: -0.07986668049988238 for f_star and f_minus: 27.98720724382983 , 35.97387529381807\n",
      "[INFO] [2023-01-24 01:56:45,657] [OpenBox-SPO] Iteration 143, objective value: [44.32675757207425].\n"
     ]
    },
    {
     "name": "stderr",
     "output_type": "stream",
     "text": [
      " 14%|█▍        | 143/1000 [1:50:37<10:41:49, 44.93s/it]"
     ]
    },
    {
     "name": "stdout",
     "output_type": "stream",
     "text": [
      "\t self.next_action: 0\n",
      "\n",
      "\t ----- tradeoff_buffer: 3 ----- \n",
      "\t ----- reward: -0.16339550328244418 for f_star and f_minus: 27.98720724382983 , 44.32675757207425\n",
      "[INFO] [2023-01-24 01:57:37,355] [OpenBox-SPO] Iteration 144, objective value: [43.26554481039475].\n"
     ]
    },
    {
     "name": "stderr",
     "output_type": "stream",
     "text": [
      " 14%|█▍        | 144/1000 [1:51:29<11:10:01, 46.96s/it]"
     ]
    },
    {
     "name": "stdout",
     "output_type": "stream",
     "text": [
      "\t self.next_action: -1\n",
      "\n",
      "\t ----- tradeoff_buffer: 3 ----- \n",
      "\t ----- reward: -0.1527833756656492 for f_star and f_minus: 27.98720724382983 , 43.26554481039475\n",
      "[INFO] [2023-01-24 01:58:21,919] [OpenBox-SPO] Iteration 145, objective value: [27.70898415375548].\n"
     ]
    },
    {
     "name": "stderr",
     "output_type": "stream",
     "text": [
      " 14%|█▍        | 145/1000 [1:52:13<10:58:58, 46.24s/it]"
     ]
    },
    {
     "name": "stdout",
     "output_type": "stream",
     "text": [
      "\t self.next_action: 0\n",
      "\n",
      "\t ----- tradeoff_buffer: 2 ----- \n",
      "\t ----- reward: 0.7229101584624452 for f_star and f_minus: 27.98720724382983 , 27.70898415375548\n",
      "[INFO] [2023-01-24 01:59:08,804] [OpenBox-SPO] Iteration 146, objective value: [28.497803640358526].\n"
     ]
    },
    {
     "name": "stderr",
     "output_type": "stream",
     "text": [
      " 15%|█▍        | 146/1000 [1:53:00<11:00:56, 46.44s/it]"
     ]
    },
    {
     "name": "stdout",
     "output_type": "stream",
     "text": [
      "\t self.next_action: -1\n",
      "\n",
      "\t ----- tradeoff_buffer: 3 ----- \n",
      "\t ----- reward: -0.005105963965286953 for f_star and f_minus: 27.98720724382983 , 28.497803640358526\n",
      "[INFO] [2023-01-24 01:59:58,863] [OpenBox-SPO] Iteration 147, objective value: [30.99978286815181].\n"
     ]
    },
    {
     "name": "stderr",
     "output_type": "stream",
     "text": [
      " 15%|█▍        | 147/1000 [1:53:50<11:15:37, 47.52s/it]"
     ]
    },
    {
     "name": "stdout",
     "output_type": "stream",
     "text": [
      "\t self.next_action: 1\n",
      "\n",
      "\t ----- tradeoff_buffer: 3 ----- \n",
      "\t ----- reward: -0.03290798714396331 for f_star and f_minus: 27.70898415375548 , 30.99978286815181\n",
      "[INFO] [2023-01-24 02:00:44,207] [OpenBox-SPO] Iteration 148, objective value: [41.66701216937584].\n"
     ]
    },
    {
     "name": "stderr",
     "output_type": "stream",
     "text": [
      " 15%|█▍        | 148/1000 [1:54:36<11:05:32, 46.87s/it]"
     ]
    },
    {
     "name": "stdout",
     "output_type": "stream",
     "text": [
      "\t self.next_action: 0\n",
      "\n",
      "\t ----- tradeoff_buffer: 2 ----- \n",
      "\t ----- reward: -0.1395802801562036 for f_star and f_minus: 27.70898415375548 , 41.66701216937584\n",
      "[INFO] [2023-01-24 02:01:25,225] [OpenBox-SPO] Iteration 149, objective value: [36.12308847534879].\n"
     ]
    },
    {
     "name": "stderr",
     "output_type": "stream",
     "text": [
      " 15%|█▍        | 149/1000 [1:55:17<10:39:52, 45.11s/it]"
     ]
    },
    {
     "name": "stdout",
     "output_type": "stream",
     "text": [
      "\t self.next_action: -1\n",
      "\n",
      "\t ----- tradeoff_buffer: 3 ----- \n",
      "\t ----- reward: -0.08414104321593308 for f_star and f_minus: 27.70898415375548 , 36.12308847534879\n",
      "[INFO] [2023-01-24 02:01:25,227] [Advisor] Sample random config. rand_prob=0.100000.\n",
      "[INFO] [2023-01-24 02:02:00,730] [OpenBox-SPO] Iteration 150, objective value: [51.882411861003376].\n"
     ]
    },
    {
     "name": "stderr",
     "output_type": "stream",
     "text": [
      " 15%|█▌        | 150/1000 [1:55:52<9:58:16, 42.23s/it] "
     ]
    },
    {
     "name": "stdout",
     "output_type": "stream",
     "text": [
      "\t self.next_action: 1\n",
      "\n",
      "\t ----- tradeoff_buffer: 2 ----- \n",
      "\t ----- reward: -1 for f_star and f_minus: 27.70898415375548 , 51.882411861003376\n",
      "[INFO] [2023-01-24 02:02:41,105] [OpenBox-SPO] Iteration 151, objective value: [42.99450332576613].\n"
     ]
    },
    {
     "name": "stderr",
     "output_type": "stream",
     "text": [
      " 15%|█▌        | 151/1000 [1:56:33<9:49:41, 41.67s/it]"
     ]
    },
    {
     "name": "stdout",
     "output_type": "stream",
     "text": [
      "\t self.next_action: -1\n",
      "\n",
      "\t ----- tradeoff_buffer: 3 ----- \n",
      "\t ----- reward: -0.15285519172010653 for f_star and f_minus: 27.70898415375548 , 42.99450332576613\n",
      "[INFO] [2023-01-24 02:03:25,561] [OpenBox-SPO] Iteration 152, objective value: [47.226130450794265].\n"
     ]
    },
    {
     "name": "stderr",
     "output_type": "stream",
     "text": [
      " 15%|█▌        | 152/1000 [1:57:17<10:00:47, 42.51s/it]"
     ]
    },
    {
     "name": "stdout",
     "output_type": "stream",
     "text": [
      "\t self.next_action: 1\n",
      "\n",
      "\t ----- tradeoff_buffer: 3 ----- \n",
      "\t ----- reward: -0.1951714629703879 for f_star and f_minus: 27.70898415375548 , 47.226130450794265\n",
      "[INFO] [2023-01-24 02:04:09,225] [OpenBox-SPO] Iteration 153, objective value: [42.84962403124967].\n"
     ]
    },
    {
     "name": "stderr",
     "output_type": "stream",
     "text": [
      " 15%|█▌        | 153/1000 [1:58:01<10:04:58, 42.86s/it]"
     ]
    },
    {
     "name": "stdout",
     "output_type": "stream",
     "text": [
      "\t self.next_action: 0\n",
      "\n",
      "\t ----- tradeoff_buffer: 3 ----- \n",
      "\t ----- reward: -0.15140639877494189 for f_star and f_minus: 27.70898415375548 , 42.84962403124967\n",
      "[INFO] [2023-01-24 02:04:59,552] [OpenBox-SPO] Iteration 154, objective value: [48.76508657513969].\n"
     ]
    },
    {
     "name": "stderr",
     "output_type": "stream",
     "text": [
      " 15%|█▌        | 154/1000 [1:58:51<10:35:51, 45.10s/it]"
     ]
    },
    {
     "name": "stdout",
     "output_type": "stream",
     "text": [
      "\t self.next_action: 0\n",
      "\n",
      "\t ----- tradeoff_buffer: 3 ----- \n",
      "\t ----- reward: -0.21056102421384215 for f_star and f_minus: 27.70898415375548 , 48.76508657513969\n",
      "[INFO] [2023-01-24 02:04:59,553] [Advisor] Sample random config. rand_prob=0.100000.\n",
      "[INFO] [2023-01-24 02:05:35,061] [OpenBox-SPO] Iteration 155, objective value: [46.71340390747828].\n"
     ]
    },
    {
     "name": "stderr",
     "output_type": "stream",
     "text": [
      " 16%|█▌        | 155/1000 [1:59:27<9:54:36, 42.22s/it] "
     ]
    },
    {
     "name": "stdout",
     "output_type": "stream",
     "text": [
      "\t self.next_action: 0\n",
      "\n",
      "\t ----- tradeoff_buffer: 2 ----- \n",
      "\t ----- reward: -0.190044197537228 for f_star and f_minus: 27.70898415375548 , 46.71340390747828\n",
      "[INFO] [2023-01-24 02:06:21,002] [OpenBox-SPO] Iteration 156, objective value: [32.73100232565439].\n"
     ]
    },
    {
     "name": "stderr",
     "output_type": "stream",
     "text": [
      " 16%|█▌        | 156/1000 [2:00:13<10:09:36, 43.34s/it]"
     ]
    },
    {
     "name": "stdout",
     "output_type": "stream",
     "text": [
      "\t self.next_action: -1\n",
      "\n",
      "\t ----- tradeoff_buffer: 1 ----- \n",
      "\t ----- reward: -0.050220181718989065 for f_star and f_minus: 27.70898415375548 , 32.73100232565439\n",
      "[INFO] [2023-01-24 02:06:21,003] [Advisor] Sample random config. rand_prob=0.100000.\n",
      "[INFO] [2023-01-24 02:06:55,862] [OpenBox-SPO] Iteration 157, objective value: [49.81810367617435].\n"
     ]
    },
    {
     "name": "stderr",
     "output_type": "stream",
     "text": [
      " 16%|█▌        | 157/1000 [2:00:47<9:33:09, 40.79s/it] "
     ]
    },
    {
     "name": "stdout",
     "output_type": "stream",
     "text": [
      "\t self.next_action: -1\n",
      "\n",
      "\t ----- tradeoff_buffer: 2 ----- \n",
      "\t ----- reward: -0.22109119522418874 for f_star and f_minus: 27.70898415375548 , 49.81810367617435\n",
      "[INFO] [2023-01-24 02:06:55,864] [Advisor] Sample random config. rand_prob=0.100000.\n",
      "[INFO] [2023-01-24 02:07:28,030] [OpenBox-SPO] Iteration 158, objective value: [53.2697039315607].\n"
     ]
    },
    {
     "name": "stderr",
     "output_type": "stream",
     "text": [
      " 16%|█▌        | 158/1000 [2:01:20<8:56:09, 38.21s/it]"
     ]
    },
    {
     "name": "stdout",
     "output_type": "stream",
     "text": [
      "\t self.next_action: 1\n",
      "\n",
      "\t ----- tradeoff_buffer: 3 ----- \n",
      "\t ----- reward: -1 for f_star and f_minus: 27.70898415375548 , 53.2697039315607\n",
      "[INFO] [2023-01-24 02:08:14,714] [OpenBox-SPO] Iteration 159, objective value: [46.425946060823534].\n"
     ]
    },
    {
     "name": "stderr",
     "output_type": "stream",
     "text": [
      " 16%|█▌        | 159/1000 [2:02:06<9:31:10, 40.75s/it]"
     ]
    },
    {
     "name": "stdout",
     "output_type": "stream",
     "text": [
      "\t self.next_action: 1\n",
      "\n",
      "\t ----- tradeoff_buffer: 3 ----- \n",
      "\t ----- reward: -0.18716961907068058 for f_star and f_minus: 27.70898415375548 , 46.425946060823534\n",
      "[INFO] [2023-01-24 02:09:03,139] [OpenBox-SPO] Iteration 160, objective value: [50.05404365865046].\n"
     ]
    },
    {
     "name": "stderr",
     "output_type": "stream",
     "text": [
      " 16%|█▌        | 160/1000 [2:02:55<10:02:43, 43.05s/it]"
     ]
    },
    {
     "name": "stdout",
     "output_type": "stream",
     "text": [
      "\t self.next_action: 0\n",
      "\n",
      "\t ----- tradeoff_buffer: 4 ----- \n",
      "\t ----- reward: -1 for f_star and f_minus: 27.70898415375548 , 50.05404365865046\n",
      "[INFO] [2023-01-24 02:09:47,973] [OpenBox-SPO] Iteration 161, objective value: [37.31896932486407].\n"
     ]
    },
    {
     "name": "stderr",
     "output_type": "stream",
     "text": [
      " 16%|█▌        | 161/1000 [2:03:39<10:09:29, 43.59s/it]"
     ]
    },
    {
     "name": "stdout",
     "output_type": "stream",
     "text": [
      "\t self.next_action: 1\n",
      "\n",
      "\t ----- tradeoff_buffer: 4 ----- \n",
      "\t ----- reward: -0.09609985171108593 for f_star and f_minus: 27.70898415375548 , 37.31896932486407\n",
      "[INFO] [2023-01-24 02:10:31,399] [OpenBox-SPO] Iteration 162, objective value: [28.33079510911783].\n"
     ]
    },
    {
     "name": "stderr",
     "output_type": "stream",
     "text": [
      " 16%|█▌        | 162/1000 [2:04:23<10:08:05, 43.54s/it]"
     ]
    },
    {
     "name": "stdout",
     "output_type": "stream",
     "text": [
      "\t self.next_action: 0\n",
      "\n",
      "\t ----- tradeoff_buffer: 4 ----- \n",
      "\t ----- reward: -0.006218109553623508 for f_star and f_minus: 27.70898415375548 , 28.33079510911783\n",
      "[INFO] [2023-01-24 02:11:15,636] [OpenBox-SPO] Iteration 163, objective value: [36.133908915122994].\n"
     ]
    },
    {
     "name": "stderr",
     "output_type": "stream",
     "text": [
      " 16%|█▋        | 163/1000 [2:05:07<10:10:16, 43.75s/it]"
     ]
    },
    {
     "name": "stdout",
     "output_type": "stream",
     "text": [
      "\t self.next_action: 0\n",
      "\n",
      "\t ----- tradeoff_buffer: 3 ----- \n",
      "\t ----- reward: -0.08424924761367514 for f_star and f_minus: 27.70898415375548 , 36.133908915122994\n",
      "[INFO] [2023-01-24 02:12:06,250] [OpenBox-SPO] Iteration 164, objective value: [31.990467063902756].\n"
     ]
    },
    {
     "name": "stderr",
     "output_type": "stream",
     "text": [
      " 16%|█▋        | 164/1000 [2:05:58<10:38:15, 45.81s/it]"
     ]
    },
    {
     "name": "stdout",
     "output_type": "stream",
     "text": [
      "\t self.next_action: -1\n",
      "\n",
      "\t ----- tradeoff_buffer: 2 ----- \n",
      "\t ----- reward: -0.04281482910147277 for f_star and f_minus: 27.70898415375548 , 31.990467063902756\n",
      "[INFO] [2023-01-24 02:12:51,896] [OpenBox-SPO] Iteration 165, objective value: [51.55122436084264].\n"
     ]
    },
    {
     "name": "stderr",
     "output_type": "stream",
     "text": [
      " 16%|█▋        | 165/1000 [2:06:43<10:36:49, 45.76s/it]"
     ]
    },
    {
     "name": "stdout",
     "output_type": "stream",
     "text": [
      "\t self.next_action: -1\n",
      "\n",
      "\t ----- tradeoff_buffer: 2 ----- \n",
      "\t ----- reward: -1 for f_star and f_minus: 27.70898415375548 , 51.55122436084264\n",
      "[INFO] [2023-01-24 02:13:35,257] [OpenBox-SPO] Iteration 166, objective value: [33.52712926845432].\n"
     ]
    },
    {
     "name": "stderr",
     "output_type": "stream",
     "text": [
      " 17%|█▋        | 166/1000 [2:07:27<10:26:03, 45.04s/it]"
     ]
    },
    {
     "name": "stdout",
     "output_type": "stream",
     "text": [
      "\t self.next_action: 0\n",
      "\n",
      "\t ----- tradeoff_buffer: 3 ----- \n",
      "\t ----- reward: -0.05818145114698836 for f_star and f_minus: 27.70898415375548 , 33.52712926845432\n",
      "[INFO] [2023-01-24 02:14:23,070] [OpenBox-SPO] Iteration 167, objective value: [35.80369516528046].\n"
     ]
    },
    {
     "name": "stderr",
     "output_type": "stream",
     "text": [
      " 17%|█▋        | 167/1000 [2:08:15<10:36:50, 45.87s/it]"
     ]
    },
    {
     "name": "stdout",
     "output_type": "stream",
     "text": [
      "\t self.next_action: 1\n",
      "\n",
      "\t ----- tradeoff_buffer: 2 ----- \n",
      "\t ----- reward: -0.0809471101152498 for f_star and f_minus: 27.70898415375548 , 35.80369516528046\n",
      "[INFO] [2023-01-24 02:15:12,125] [OpenBox-SPO] Iteration 168, objective value: [28.24801187297288].\n"
     ]
    },
    {
     "name": "stderr",
     "output_type": "stream",
     "text": [
      " 17%|█▋        | 168/1000 [2:09:04<10:49:19, 46.83s/it]"
     ]
    },
    {
     "name": "stdout",
     "output_type": "stream",
     "text": [
      "\t self.next_action: -1\n",
      "\n",
      "\t ----- tradeoff_buffer: 2 ----- \n",
      "\t ----- reward: -0.005390277192174053 for f_star and f_minus: 27.70898415375548 , 28.24801187297288\n",
      "[INFO] [2023-01-24 02:16:02,525] [OpenBox-SPO] Iteration 169, objective value: [37.36254359678459].\n"
     ]
    },
    {
     "name": "stderr",
     "output_type": "stream",
     "text": [
      " 17%|█▋        | 169/1000 [2:09:54<11:03:23, 47.90s/it]"
     ]
    },
    {
     "name": "stdout",
     "output_type": "stream",
     "text": [
      "\t self.next_action: 0\n",
      "\n",
      "\t ----- tradeoff_buffer: 3 ----- \n",
      "\t ----- reward: -0.09653559443029114 for f_star and f_minus: 27.70898415375548 , 37.36254359678459\n",
      "[INFO] [2023-01-24 02:16:47,376] [OpenBox-SPO] Iteration 170, objective value: [37.20407616425286].\n"
     ]
    },
    {
     "name": "stderr",
     "output_type": "stream",
     "text": [
      " 17%|█▋        | 170/1000 [2:10:39<10:49:57, 46.98s/it]"
     ]
    },
    {
     "name": "stdout",
     "output_type": "stream",
     "text": [
      "\t self.next_action: 1\n",
      "\n",
      "\t ----- tradeoff_buffer: 2 ----- \n",
      "\t ----- reward: -0.0949509201049738 for f_star and f_minus: 27.70898415375548 , 37.20407616425286\n",
      "[INFO] [2023-01-24 02:17:31,602] [OpenBox-SPO] Iteration 171, objective value: [41.9599240269243].\n"
     ]
    },
    {
     "name": "stderr",
     "output_type": "stream",
     "text": [
      " 17%|█▋        | 171/1000 [2:11:23<10:37:44, 46.16s/it]"
     ]
    },
    {
     "name": "stdout",
     "output_type": "stream",
     "text": [
      "\t self.next_action: -1\n",
      "\n",
      "\t ----- tradeoff_buffer: 3 ----- \n",
      "\t ----- reward: -0.14250939873168822 for f_star and f_minus: 27.70898415375548 , 41.9599240269243\n",
      "[INFO] [2023-01-24 02:17:31,603] [Advisor] Sample random config. rand_prob=0.100000.\n",
      "[INFO] [2023-01-24 02:18:07,208] [OpenBox-SPO] Iteration 172, objective value: [51.30023106855449].\n"
     ]
    },
    {
     "name": "stderr",
     "output_type": "stream",
     "text": [
      " 17%|█▋        | 172/1000 [2:11:59<9:53:17, 42.99s/it] "
     ]
    },
    {
     "name": "stdout",
     "output_type": "stream",
     "text": [
      "\t self.next_action: 1\n",
      "\n",
      "\t ----- tradeoff_buffer: 2 ----- \n",
      "\t ----- reward: -1 for f_star and f_minus: 27.70898415375548 , 51.30023106855449\n",
      "[INFO] [2023-01-24 02:18:51,793] [OpenBox-SPO] Iteration 173, objective value: [35.44200969990332].\n"
     ]
    },
    {
     "name": "stderr",
     "output_type": "stream",
     "text": [
      " 17%|█▋        | 173/1000 [2:12:43<9:59:09, 43.47s/it]"
     ]
    },
    {
     "name": "stdout",
     "output_type": "stream",
     "text": [
      "\t self.next_action: -1\n",
      "\n",
      "\t ----- tradeoff_buffer: 1 ----- \n",
      "\t ----- reward: -0.07733025546147843 for f_star and f_minus: 27.70898415375548 , 35.44200969990332\n",
      "[INFO] [2023-01-24 02:19:32,843] [OpenBox-SPO] Iteration 174, objective value: [36.184220942750954].\n"
     ]
    },
    {
     "name": "stderr",
     "output_type": "stream",
     "text": [
      " 17%|█▋        | 174/1000 [2:13:24<9:48:26, 42.74s/it]"
     ]
    },
    {
     "name": "stdout",
     "output_type": "stream",
     "text": [
      "\t self.next_action: -1\n",
      "\n",
      "\t ----- tradeoff_buffer: 0 ----- \n",
      "\t ----- reward: -0.08475236788995477 for f_star and f_minus: 27.70898415375548 , 36.184220942750954\n",
      "[INFO] [2023-01-24 02:20:14,144] [OpenBox-SPO] Iteration 175, objective value: [33.76759456340734].\n"
     ]
    },
    {
     "name": "stderr",
     "output_type": "stream",
     "text": [
      " 18%|█▊        | 175/1000 [2:14:06<9:41:46, 42.31s/it]"
     ]
    },
    {
     "name": "stdout",
     "output_type": "stream",
     "text": [
      "\t self.next_action: -1\n",
      "\n",
      "\t ----- tradeoff_buffer: 1 ----- \n",
      "\t ----- reward: -0.060586104096518656 for f_star and f_minus: 27.70898415375548 , 33.76759456340734\n",
      "[INFO] [2023-01-24 02:20:59,648] [OpenBox-SPO] Iteration 176, objective value: [43.183178033594416].\n"
     ]
    },
    {
     "name": "stderr",
     "output_type": "stream",
     "text": [
      " 18%|█▊        | 176/1000 [2:14:51<9:54:13, 43.27s/it]"
     ]
    },
    {
     "name": "stdout",
     "output_type": "stream",
     "text": [
      "\t self.next_action: 1\n",
      "\n",
      "\t ----- tradeoff_buffer: 2 ----- \n",
      "\t ----- reward: -0.15474193879838938 for f_star and f_minus: 27.70898415375548 , 43.183178033594416\n",
      "[INFO] [2023-01-24 02:21:51,242] [OpenBox-SPO] Iteration 177, objective value: [31.66626117376859].\n"
     ]
    },
    {
     "name": "stderr",
     "output_type": "stream",
     "text": [
      " 18%|█▊        | 177/1000 [2:15:43<10:27:45, 45.77s/it]"
     ]
    },
    {
     "name": "stdout",
     "output_type": "stream",
     "text": [
      "\t self.next_action: 1\n",
      "\n",
      "\t ----- tradeoff_buffer: 3 ----- \n",
      "\t ----- reward: -0.03957277020013111 for f_star and f_minus: 27.70898415375548 , 31.66626117376859\n",
      "[INFO] [2023-01-24 02:22:36,935] [OpenBox-SPO] Iteration 178, objective value: [33.15409301446208].\n"
     ]
    },
    {
     "name": "stderr",
     "output_type": "stream",
     "text": [
      " 18%|█▊        | 178/1000 [2:16:28<10:26:41, 45.74s/it]"
     ]
    },
    {
     "name": "stdout",
     "output_type": "stream",
     "text": [
      "\t self.next_action: 1\n",
      "\n",
      "\t ----- tradeoff_buffer: 2 ----- \n",
      "\t ----- reward: -0.05445108860706599 for f_star and f_minus: 27.70898415375548 , 33.15409301446208\n",
      "[INFO] [2023-01-24 02:23:18,784] [OpenBox-SPO] Iteration 179, objective value: [37.02351335189129].\n"
     ]
    },
    {
     "name": "stderr",
     "output_type": "stream",
     "text": [
      " 18%|█▊        | 179/1000 [2:17:10<10:09:56, 44.58s/it]"
     ]
    },
    {
     "name": "stdout",
     "output_type": "stream",
     "text": [
      "\t self.next_action: -1\n",
      "\n",
      "\t ----- tradeoff_buffer: 3 ----- \n",
      "\t ----- reward: -0.09314529198135812 for f_star and f_minus: 27.70898415375548 , 37.02351335189129\n",
      "[INFO] [2023-01-24 02:23:58,555] [OpenBox-SPO] Iteration 180, objective value: [36.56896682856521].\n"
     ]
    },
    {
     "name": "stderr",
     "output_type": "stream",
     "text": [
      " 18%|█▊        | 180/1000 [2:17:50<9:49:30, 43.13s/it] "
     ]
    },
    {
     "name": "stdout",
     "output_type": "stream",
     "text": [
      "\t self.next_action: 1\n",
      "\n",
      "\t ----- tradeoff_buffer: 2 ----- \n",
      "\t ----- reward: -0.0885998267480973 for f_star and f_minus: 27.70898415375548 , 36.56896682856521\n",
      "[INFO] [2023-01-24 02:24:44,185] [OpenBox-SPO] Iteration 181, objective value: [35.02559129730864].\n"
     ]
    },
    {
     "name": "stderr",
     "output_type": "stream",
     "text": [
      " 18%|█▊        | 181/1000 [2:18:36<9:59:00, 43.88s/it]"
     ]
    },
    {
     "name": "stdout",
     "output_type": "stream",
     "text": [
      "\t self.next_action: -1\n",
      "\n",
      "\t ----- tradeoff_buffer: 1 ----- \n",
      "\t ----- reward: -0.07316607143553161 for f_star and f_minus: 27.70898415375548 , 35.02559129730864\n",
      "[INFO] [2023-01-24 02:25:37,981] [OpenBox-SPO] Iteration 182, objective value: [30.10626861957853].\n"
     ]
    },
    {
     "name": "stderr",
     "output_type": "stream",
     "text": [
      " 18%|█▊        | 182/1000 [2:19:29<10:38:48, 46.86s/it]"
     ]
    },
    {
     "name": "stdout",
     "output_type": "stream",
     "text": [
      "\t self.next_action: -1\n",
      "\n",
      "\t ----- tradeoff_buffer: 0 ----- \n",
      "\t ----- reward: -0.02397284465823052 for f_star and f_minus: 27.70898415375548 , 30.10626861957853\n",
      "[INFO] [2023-01-24 02:26:21,102] [OpenBox-SPO] Iteration 183, objective value: [32.15748837450434].\n"
     ]
    },
    {
     "name": "stderr",
     "output_type": "stream",
     "text": [
      " 18%|█▊        | 183/1000 [2:20:13<10:22:46, 45.74s/it]"
     ]
    },
    {
     "name": "stdout",
     "output_type": "stream",
     "text": [
      "\t self.next_action: -1\n",
      "\n",
      "\t ----- tradeoff_buffer: 1 ----- \n",
      "\t ----- reward: -0.04448504220748861 for f_star and f_minus: 27.70898415375548 , 32.15748837450434\n",
      "[INFO] [2023-01-24 02:27:06,030] [OpenBox-SPO] Iteration 184, objective value: [33.00225451137999].\n"
     ]
    },
    {
     "name": "stderr",
     "output_type": "stream",
     "text": [
      " 18%|█▊        | 184/1000 [2:20:58<10:18:42, 45.49s/it]"
     ]
    },
    {
     "name": "stdout",
     "output_type": "stream",
     "text": [
      "\t self.next_action: 1\n",
      "\n",
      "\t ----- tradeoff_buffer: 0 ----- \n",
      "\t ----- reward: -0.05293270357624508 for f_star and f_minus: 27.70898415375548 , 33.00225451137999\n",
      "[INFO] [2023-01-24 02:27:51,147] [OpenBox-SPO] Iteration 185, objective value: [27.851752032023185].\n"
     ]
    },
    {
     "name": "stderr",
     "output_type": "stream",
     "text": [
      " 18%|█▊        | 185/1000 [2:21:43<10:16:25, 45.38s/it]"
     ]
    },
    {
     "name": "stdout",
     "output_type": "stream",
     "text": [
      "\t self.next_action: -1\n",
      "\n",
      "\t ----- tradeoff_buffer: 1 ----- \n",
      "\t ----- reward: -0.0014276787826770776 for f_star and f_minus: 27.70898415375548 , 27.851752032023185\n",
      "[INFO] [2023-01-24 02:27:51,149] [Advisor] Sample random config. rand_prob=0.100000.\n",
      "[INFO] [2023-01-24 02:28:23,623] [OpenBox-SPO] Iteration 186, objective value: [56.624823511238084].\n"
     ]
    },
    {
     "name": "stderr",
     "output_type": "stream",
     "text": [
      " 19%|█▊        | 186/1000 [2:22:15<9:23:08, 41.51s/it] "
     ]
    },
    {
     "name": "stdout",
     "output_type": "stream",
     "text": [
      "\t self.next_action: 1\n",
      "\n",
      "\t ----- tradeoff_buffer: 0 ----- \n",
      "\t ----- reward: -1 for f_star and f_minus: 27.70898415375548 , 56.624823511238084\n",
      "[INFO] [2023-01-24 02:29:12,622] [OpenBox-SPO] Iteration 187, objective value: [35.29294586450558].\n"
     ]
    },
    {
     "name": "stderr",
     "output_type": "stream",
     "text": [
      " 19%|█▊        | 187/1000 [2:23:04<9:52:53, 43.76s/it]"
     ]
    },
    {
     "name": "stdout",
     "output_type": "stream",
     "text": [
      "\t self.next_action: -1\n",
      "\n",
      "\t ----- tradeoff_buffer: 1 ----- \n",
      "\t ----- reward: -0.07583961710750103 for f_star and f_minus: 27.70898415375548 , 35.29294586450558\n",
      "[INFO] [2023-01-24 02:30:00,889] [OpenBox-SPO] Iteration 188, objective value: [33.26066925149911].\n"
     ]
    },
    {
     "name": "stderr",
     "output_type": "stream",
     "text": [
      " 19%|█▉        | 188/1000 [2:23:52<10:10:28, 45.11s/it]"
     ]
    },
    {
     "name": "stdout",
     "output_type": "stream",
     "text": [
      "\t self.next_action: 1\n",
      "\n",
      "\t ----- tradeoff_buffer: 2 ----- \n",
      "\t ----- reward: -0.055516850977436305 for f_star and f_minus: 27.70898415375548 , 33.26066925149911\n",
      "[INFO] [2023-01-24 02:30:00,891] [Advisor] Sample random config. rand_prob=0.100000.\n",
      "[INFO] [2023-01-24 02:30:34,466] [OpenBox-SPO] Iteration 189, objective value: [57.78349733706273].\n"
     ]
    },
    {
     "name": "stderr",
     "output_type": "stream",
     "text": [
      " 19%|█▉        | 189/1000 [2:24:26<9:22:57, 41.65s/it] "
     ]
    },
    {
     "name": "stdout",
     "output_type": "stream",
     "text": [
      "\t self.next_action: 1\n",
      "\n",
      "\t ----- tradeoff_buffer: 3 ----- \n",
      "\t ----- reward: -1 for f_star and f_minus: 27.70898415375548 , 57.78349733706273\n",
      "[INFO] [2023-01-24 02:31:23,443] [OpenBox-SPO] Iteration 190, objective value: [41.00242461826793].\n"
     ]
    },
    {
     "name": "stderr",
     "output_type": "stream",
     "text": [
      " 19%|█▉        | 190/1000 [2:25:15<9:51:56, 43.85s/it]"
     ]
    },
    {
     "name": "stdout",
     "output_type": "stream",
     "text": [
      "\t self.next_action: 1\n",
      "\n",
      "\t ----- tradeoff_buffer: 2 ----- \n",
      "\t ----- reward: -0.13293440464512452 for f_star and f_minus: 27.70898415375548 , 41.00242461826793\n",
      "[INFO] [2023-01-24 02:32:12,553] [OpenBox-SPO] Iteration 191, objective value: [34.70867688882906].\n"
     ]
    },
    {
     "name": "stderr",
     "output_type": "stream",
     "text": [
      " 19%|█▉        | 191/1000 [2:26:04<10:12:29, 45.43s/it]"
     ]
    },
    {
     "name": "stdout",
     "output_type": "stream",
     "text": [
      "\t self.next_action: -1\n",
      "\n",
      "\t ----- tradeoff_buffer: 1 ----- \n",
      "\t ----- reward: -0.06999692735073582 for f_star and f_minus: 27.70898415375548 , 34.70867688882906\n",
      "[INFO] [2023-01-24 02:33:00,281] [OpenBox-SPO] Iteration 192, objective value: [43.163560662325864].\n"
     ]
    },
    {
     "name": "stderr",
     "output_type": "stream",
     "text": [
      " 19%|█▉        | 192/1000 [2:26:52<10:21:02, 46.12s/it]"
     ]
    },
    {
     "name": "stdout",
     "output_type": "stream",
     "text": [
      "\t self.next_action: -1\n",
      "\n",
      "\t ----- tradeoff_buffer: 0 ----- \n",
      "\t ----- reward: -0.15454576508570383 for f_star and f_minus: 27.70898415375548 , 43.163560662325864\n",
      "[INFO] [2023-01-24 02:33:39,216] [OpenBox-SPO] Iteration 193, objective value: [48.58124299170179].\n"
     ]
    },
    {
     "name": "stderr",
     "output_type": "stream",
     "text": [
      " 19%|█▉        | 193/1000 [2:27:31<9:51:17, 43.96s/it] "
     ]
    },
    {
     "name": "stdout",
     "output_type": "stream",
     "text": [
      "\t self.next_action: -1\n",
      "\n",
      "\t ----- tradeoff_buffer: 0 ----- \n",
      "\t ----- reward: -0.20872258837946311 for f_star and f_minus: 27.70898415375548 , 48.58124299170179\n",
      "[INFO] [2023-01-24 02:34:33,085] [OpenBox-SPO] Iteration 194, objective value: [39.75715365916105].\n"
     ]
    },
    {
     "name": "stderr",
     "output_type": "stream",
     "text": [
      " 19%|█▉        | 194/1000 [2:28:25<10:30:29, 46.93s/it]"
     ]
    },
    {
     "name": "stdout",
     "output_type": "stream",
     "text": [
      "\t self.next_action: -1\n",
      "\n",
      "\t ----- tradeoff_buffer: 1 ----- \n",
      "\t ----- reward: -0.1204816950540557 for f_star and f_minus: 27.70898415375548 , 39.75715365916105\n",
      "[INFO] [2023-01-24 02:35:28,921] [OpenBox-SPO] Iteration 195, objective value: [30.92179638161565].\n"
     ]
    },
    {
     "name": "stderr",
     "output_type": "stream",
     "text": [
      " 20%|█▉        | 195/1000 [2:29:20<11:05:31, 49.60s/it]"
     ]
    },
    {
     "name": "stdout",
     "output_type": "stream",
     "text": [
      "\t self.next_action: 1\n",
      "\n",
      "\t ----- tradeoff_buffer: 0 ----- \n",
      "\t ----- reward: -0.032128122278601734 for f_star and f_minus: 27.70898415375548 , 30.92179638161565\n",
      "[INFO] [2023-01-24 02:36:13,714] [OpenBox-SPO] Iteration 196, objective value: [25.760520672865766].\n"
     ]
    },
    {
     "name": "stderr",
     "output_type": "stream",
     "text": [
      " 20%|█▉        | 196/1000 [2:30:05<10:45:21, 48.16s/it]"
     ]
    },
    {
     "name": "stdout",
     "output_type": "stream",
     "text": [
      "\t self.next_action: -1\n",
      "\n",
      "\t ----- tradeoff_buffer: 0 ----- \n",
      "\t ----- reward: 0.7423947932713424 for f_star and f_minus: 27.70898415375548 , 25.760520672865766\n",
      "[INFO] [2023-01-24 02:36:59,664] [OpenBox-SPO] Iteration 197, objective value: [21.53226638298395].\n"
     ]
    },
    {
     "name": "stderr",
     "output_type": "stream",
     "text": [
      " 20%|█▉        | 197/1000 [2:30:51<10:35:40, 47.50s/it]"
     ]
    },
    {
     "name": "stdout",
     "output_type": "stream",
     "text": [
      "\t self.next_action: 0\n",
      "\n",
      "\t ----- tradeoff_buffer: 0 ----- \n",
      "\t ----- reward: 0.7846773361701606 for f_star and f_minus: 27.70898415375548 , 21.53226638298395\n",
      "[INFO] [2023-01-24 02:37:47,062] [OpenBox-SPO] Iteration 198, objective value: [28.089347606668596].\n"
     ]
    },
    {
     "name": "stderr",
     "output_type": "stream",
     "text": [
      " 20%|█▉        | 198/1000 [2:31:39<10:34:29, 47.47s/it]"
     ]
    },
    {
     "name": "stdout",
     "output_type": "stream",
     "text": [
      "\t self.next_action: -1\n",
      "\n",
      "\t ----- tradeoff_buffer: 0 ----- \n",
      "\t ----- reward: -0.0232882693380283 for f_star and f_minus: 25.760520672865766 , 28.089347606668596\n",
      "[INFO] [2023-01-24 02:37:47,063] [Advisor] Sample random config. rand_prob=0.100000.\n",
      "[INFO] [2023-01-24 02:38:26,393] [OpenBox-SPO] Iteration 199, objective value: [51.4307819179434].\n"
     ]
    },
    {
     "name": "stderr",
     "output_type": "stream",
     "text": [
      " 20%|█▉        | 199/1000 [2:32:18<10:01:06, 45.03s/it]"
     ]
    },
    {
     "name": "stdout",
     "output_type": "stream",
     "text": [
      "\t self.next_action: -1\n",
      "\n",
      "\t ----- tradeoff_buffer: 0 ----- \n",
      "\t ----- reward: -1 for f_star and f_minus: 21.53226638298395 , 51.4307819179434\n",
      "[INFO] [2023-01-24 02:39:14,767] [OpenBox-SPO] Iteration 200, objective value: [35.31718630891619].\n"
     ]
    },
    {
     "name": "stderr",
     "output_type": "stream",
     "text": [
      " 20%|██        | 200/1000 [2:33:06<10:13:44, 46.03s/it]"
     ]
    },
    {
     "name": "stdout",
     "output_type": "stream",
     "text": [
      "\t self.next_action: -1\n",
      "\n",
      "\t ----- tradeoff_buffer: 0 ----- \n",
      "\t ----- reward: -0.13784919925932246 for f_star and f_minus: 21.53226638298395 , 35.31718630891619\n",
      "[INFO] [2023-01-24 02:39:56,507] [OpenBox-SPO] Iteration 201, objective value: [34.25974812448074].\n"
     ]
    },
    {
     "name": "stderr",
     "output_type": "stream",
     "text": [
      " 20%|██        | 201/1000 [2:33:48<9:55:50, 44.74s/it] "
     ]
    },
    {
     "name": "stdout",
     "output_type": "stream",
     "text": [
      "\t self.next_action: 0\n",
      "\n",
      "\t ----- tradeoff_buffer: 0 ----- \n",
      "\t ----- reward: -0.1272748174149679 for f_star and f_minus: 21.53226638298395 , 34.25974812448074\n",
      "[INFO] [2023-01-24 02:40:44,554] [OpenBox-SPO] Iteration 202, objective value: [34.49570096458643].\n"
     ]
    },
    {
     "name": "stderr",
     "output_type": "stream",
     "text": [
      " 20%|██        | 202/1000 [2:34:36<10:08:16, 45.73s/it]"
     ]
    },
    {
     "name": "stdout",
     "output_type": "stream",
     "text": [
      "\t self.next_action: -1\n",
      "\n",
      "\t ----- tradeoff_buffer: 1 ----- \n",
      "\t ----- reward: -0.12963434581602487 for f_star and f_minus: 21.53226638298395 , 34.49570096458643\n",
      "[INFO] [2023-01-24 02:41:30,343] [OpenBox-SPO] Iteration 203, objective value: [33.6905877157882].\n"
     ]
    },
    {
     "name": "stderr",
     "output_type": "stream",
     "text": [
      " 20%|██        | 203/1000 [2:35:22<10:07:43, 45.75s/it]"
     ]
    },
    {
     "name": "stdout",
     "output_type": "stream",
     "text": [
      "\t self.next_action: 1\n",
      "\n",
      "\t ----- tradeoff_buffer: 1 ----- \n",
      "\t ----- reward: -0.12158321332804248 for f_star and f_minus: 21.53226638298395 , 33.6905877157882\n",
      "[INFO] [2023-01-24 02:42:19,020] [OpenBox-SPO] Iteration 204, objective value: [35.53268420506622].\n"
     ]
    },
    {
     "name": "stderr",
     "output_type": "stream",
     "text": [
      " 20%|██        | 204/1000 [2:36:11<10:18:36, 46.63s/it]"
     ]
    },
    {
     "name": "stdout",
     "output_type": "stream",
     "text": [
      "\t self.next_action: 0\n",
      "\n",
      "\t ----- tradeoff_buffer: 1 ----- \n",
      "\t ----- reward: -0.1400041782208227 for f_star and f_minus: 21.53226638298395 , 35.53268420506622\n",
      "[INFO] [2023-01-24 02:42:19,021] [Advisor] Sample random config. rand_prob=0.100000.\n",
      "[INFO] [2023-01-24 02:42:57,791] [OpenBox-SPO] Iteration 205, objective value: [56.66328186870741].\n"
     ]
    },
    {
     "name": "stderr",
     "output_type": "stream",
     "text": [
      " 20%|██        | 205/1000 [2:36:49<9:46:35, 44.27s/it] "
     ]
    },
    {
     "name": "stdout",
     "output_type": "stream",
     "text": [
      "\t self.next_action: 0\n",
      "\n",
      "\t ----- tradeoff_buffer: 1 ----- \n",
      "\t ----- reward: -1 for f_star and f_minus: 21.53226638298395 , 56.66328186870741\n",
      "[INFO] [2023-01-24 02:42:57,792] [Advisor] Sample random config. rand_prob=0.100000.\n",
      "[INFO] [2023-01-24 02:43:39,959] [OpenBox-SPO] Iteration 206, objective value: [54.837999863202675].\n"
     ]
    },
    {
     "name": "stderr",
     "output_type": "stream",
     "text": [
      " 21%|██        | 206/1000 [2:37:31<9:37:30, 43.64s/it]"
     ]
    },
    {
     "name": "stdout",
     "output_type": "stream",
     "text": [
      "\t self.next_action: 0\n",
      "\n",
      "\t ----- tradeoff_buffer: 2 ----- \n",
      "\t ----- reward: -1 for f_star and f_minus: 21.53226638298395 , 54.837999863202675\n",
      "[INFO] [2023-01-24 02:44:25,913] [OpenBox-SPO] Iteration 207, objective value: [41.82604129149059].\n"
     ]
    },
    {
     "name": "stderr",
     "output_type": "stream",
     "text": [
      " 21%|██        | 207/1000 [2:38:17<9:45:57, 44.33s/it]"
     ]
    },
    {
     "name": "stdout",
     "output_type": "stream",
     "text": [
      "\t self.next_action: 1\n",
      "\n",
      "\t ----- tradeoff_buffer: 2 ----- \n",
      "\t ----- reward: -0.20293774908506643 for f_star and f_minus: 21.53226638298395 , 41.82604129149059\n",
      "[INFO] [2023-01-24 02:45:13,631] [OpenBox-SPO] Iteration 208, objective value: [29.846628139967066].\n"
     ]
    },
    {
     "name": "stderr",
     "output_type": "stream",
     "text": [
      " 21%|██        | 208/1000 [2:39:05<9:58:36, 45.35s/it]"
     ]
    },
    {
     "name": "stdout",
     "output_type": "stream",
     "text": [
      "\t self.next_action: 0\n",
      "\n",
      "\t ----- tradeoff_buffer: 2 ----- \n",
      "\t ----- reward: -0.08314361756983121 for f_star and f_minus: 21.53226638298395 , 29.846628139967066\n",
      "[INFO] [2023-01-24 02:45:59,814] [OpenBox-SPO] Iteration 209, objective value: [35.54967753696346].\n"
     ]
    },
    {
     "name": "stderr",
     "output_type": "stream",
     "text": [
      " 21%|██        | 209/1000 [2:39:51<10:01:09, 45.60s/it]"
     ]
    },
    {
     "name": "stdout",
     "output_type": "stream",
     "text": [
      "\t self.next_action: 0\n",
      "\n",
      "\t ----- tradeoff_buffer: 2 ----- \n",
      "\t ----- reward: -0.14017411153979512 for f_star and f_minus: 21.53226638298395 , 35.54967753696346\n",
      "[INFO] [2023-01-24 02:46:48,160] [OpenBox-SPO] Iteration 210, objective value: [34.153802507104416].\n"
     ]
    },
    {
     "name": "stderr",
     "output_type": "stream",
     "text": [
      " 21%|██        | 210/1000 [2:40:40<10:11:14, 46.42s/it]"
     ]
    },
    {
     "name": "stdout",
     "output_type": "stream",
     "text": [
      "\t self.next_action: 0\n",
      "\n",
      "\t ----- tradeoff_buffer: 3 ----- \n",
      "\t ----- reward: -0.12621536124120467 for f_star and f_minus: 21.53226638298395 , 34.153802507104416\n",
      "[INFO] [2023-01-24 02:47:33,422] [OpenBox-SPO] Iteration 211, objective value: [43.93580135193533].\n"
     ]
    },
    {
     "name": "stderr",
     "output_type": "stream",
     "text": [
      " 21%|██        | 211/1000 [2:41:25<10:05:53, 46.07s/it]"
     ]
    },
    {
     "name": "stdout",
     "output_type": "stream",
     "text": [
      "\t self.next_action: 1\n",
      "\n",
      "\t ----- tradeoff_buffer: 4 ----- \n",
      "\t ----- reward: -0.22403534968951386 for f_star and f_minus: 21.53226638298395 , 43.93580135193533\n",
      "[INFO] [2023-01-24 02:48:21,434] [OpenBox-SPO] Iteration 212, objective value: [34.22017103542055].\n"
     ]
    },
    {
     "name": "stderr",
     "output_type": "stream",
     "text": [
      " 21%|██        | 212/1000 [2:42:13<10:12:44, 46.66s/it]"
     ]
    },
    {
     "name": "stdout",
     "output_type": "stream",
     "text": [
      "\t self.next_action: 1\n",
      "\n",
      "\t ----- tradeoff_buffer: 4 ----- \n",
      "\t ----- reward: -0.12687904652436602 for f_star and f_minus: 21.53226638298395 , 34.22017103542055\n",
      "[INFO] [2023-01-24 02:49:10,776] [OpenBox-SPO] Iteration 213, objective value: [36.60259406213654].\n"
     ]
    },
    {
     "name": "stderr",
     "output_type": "stream",
     "text": [
      " 21%|██▏       | 213/1000 [2:43:02<10:22:32, 47.46s/it]"
     ]
    },
    {
     "name": "stdout",
     "output_type": "stream",
     "text": [
      "\t self.next_action: 0\n",
      "\n",
      "\t ----- tradeoff_buffer: 3 ----- \n",
      "\t ----- reward: -0.15070327679152593 for f_star and f_minus: 21.53226638298395 , 36.60259406213654\n",
      "[INFO] [2023-01-24 02:50:03,635] [OpenBox-SPO] Iteration 214, objective value: [41.79122515957492].\n"
     ]
    },
    {
     "name": "stderr",
     "output_type": "stream",
     "text": [
      " 21%|██▏       | 214/1000 [2:43:55<10:42:57, 49.08s/it]"
     ]
    },
    {
     "name": "stdout",
     "output_type": "stream",
     "text": [
      "\t self.next_action: -1\n",
      "\n",
      "\t ----- tradeoff_buffer: 2 ----- \n",
      "\t ----- reward: -0.2025895877659097 for f_star and f_minus: 21.53226638298395 , 41.79122515957492\n",
      "[INFO] [2023-01-24 02:50:47,696] [OpenBox-SPO] Iteration 215, objective value: [34.746783644365536].\n"
     ]
    },
    {
     "name": "stderr",
     "output_type": "stream",
     "text": [
      " 22%|██▏       | 215/1000 [2:44:39<10:22:26, 47.58s/it]"
     ]
    },
    {
     "name": "stdout",
     "output_type": "stream",
     "text": [
      "\t self.next_action: -1\n",
      "\n",
      "\t ----- tradeoff_buffer: 2 ----- \n",
      "\t ----- reward: -0.1321451726138159 for f_star and f_minus: 21.53226638298395 , 34.746783644365536\n",
      "[INFO] [2023-01-24 02:51:37,803] [OpenBox-SPO] Iteration 216, objective value: [34.585481182846024].\n"
     ]
    },
    {
     "name": "stderr",
     "output_type": "stream",
     "text": [
      " 22%|██▏       | 216/1000 [2:45:29<10:31:34, 48.33s/it]"
     ]
    },
    {
     "name": "stdout",
     "output_type": "stream",
     "text": [
      "\t self.next_action: 0\n",
      "\n",
      "\t ----- tradeoff_buffer: 1 ----- \n",
      "\t ----- reward: -0.13053214799862076 for f_star and f_minus: 21.53226638298395 , 34.585481182846024\n",
      "[INFO] [2023-01-24 02:52:28,816] [OpenBox-SPO] Iteration 217, objective value: [33.89614720176482].\n"
     ]
    },
    {
     "name": "stderr",
     "output_type": "stream",
     "text": [
      " 22%|██▏       | 217/1000 [2:46:20<10:41:15, 49.14s/it]"
     ]
    },
    {
     "name": "stdout",
     "output_type": "stream",
     "text": [
      "\t self.next_action: -1\n",
      "\n",
      "\t ----- tradeoff_buffer: 1 ----- \n",
      "\t ----- reward: -0.12363880818780873 for f_star and f_minus: 21.53226638298395 , 33.89614720176482\n",
      "[INFO] [2023-01-24 02:53:18,459] [OpenBox-SPO] Iteration 218, objective value: [49.498945702254396].\n"
     ]
    },
    {
     "name": "stderr",
     "output_type": "stream",
     "text": [
      " 22%|██▏       | 218/1000 [2:47:10<10:42:24, 49.29s/it]"
     ]
    },
    {
     "name": "stdout",
     "output_type": "stream",
     "text": [
      "\t self.next_action: 0\n",
      "\n",
      "\t ----- tradeoff_buffer: 0 ----- \n",
      "\t ----- reward: -0.2796667931927045 for f_star and f_minus: 21.53226638298395 , 49.498945702254396\n",
      "[INFO] [2023-01-24 02:54:10,598] [OpenBox-SPO] Iteration 219, objective value: [34.22959287279251].\n"
     ]
    },
    {
     "name": "stderr",
     "output_type": "stream",
     "text": [
      " 22%|██▏       | 219/1000 [2:48:02<10:52:42, 50.14s/it]"
     ]
    },
    {
     "name": "stdout",
     "output_type": "stream",
     "text": [
      "\t self.next_action: -1\n",
      "\n",
      "\t ----- tradeoff_buffer: 0 ----- \n",
      "\t ----- reward: -0.1269732648980856 for f_star and f_minus: 21.53226638298395 , 34.22959287279251\n",
      "[INFO] [2023-01-24 02:54:10,600] [Advisor] Sample random config. rand_prob=0.100000.\n",
      "[INFO] [2023-01-24 02:54:52,455] [OpenBox-SPO] Iteration 220, objective value: [60.055008183047484].\n"
     ]
    },
    {
     "name": "stderr",
     "output_type": "stream",
     "text": [
      " 22%|██▏       | 220/1000 [2:48:44<10:19:33, 47.66s/it]"
     ]
    },
    {
     "name": "stdout",
     "output_type": "stream",
     "text": [
      "\t self.next_action: 0\n",
      "\n",
      "\t ----- tradeoff_buffer: 0 ----- \n",
      "\t ----- reward: -1 for f_star and f_minus: 21.53226638298395 , 60.055008183047484\n",
      "[INFO] [2023-01-24 02:55:38,806] [OpenBox-SPO] Iteration 221, objective value: [33.51912221659691].\n"
     ]
    },
    {
     "name": "stderr",
     "output_type": "stream",
     "text": [
      " 22%|██▏       | 221/1000 [2:49:30<10:13:40, 47.27s/it]"
     ]
    },
    {
     "name": "stdout",
     "output_type": "stream",
     "text": [
      "\t self.next_action: -1\n",
      "\n",
      "\t ----- tradeoff_buffer: 1 ----- \n",
      "\t ----- reward: -0.11986855833612967 for f_star and f_minus: 21.53226638298395 , 33.51912221659691\n",
      "[INFO] [2023-01-24 02:56:18,631] [OpenBox-SPO] Iteration 222, objective value: [40.408544604158415].\n"
     ]
    },
    {
     "name": "stderr",
     "output_type": "stream",
     "text": [
      " 22%|██▏       | 222/1000 [2:50:10<9:43:56, 45.03s/it] "
     ]
    },
    {
     "name": "stdout",
     "output_type": "stream",
     "text": [
      "\t self.next_action: 1\n",
      "\n",
      "\t ----- tradeoff_buffer: 1 ----- \n",
      "\t ----- reward: -0.18876278221174467 for f_star and f_minus: 21.53226638298395 , 40.408544604158415\n",
      "[INFO] [2023-01-24 02:57:01,983] [OpenBox-SPO] Iteration 223, objective value: [34.33328494247603].\n"
     ]
    },
    {
     "name": "stderr",
     "output_type": "stream",
     "text": [
      " 22%|██▏       | 223/1000 [2:50:53<9:36:39, 44.53s/it]"
     ]
    },
    {
     "name": "stdout",
     "output_type": "stream",
     "text": [
      "\t self.next_action: 0\n",
      "\n",
      "\t ----- tradeoff_buffer: 1 ----- \n",
      "\t ----- reward: -0.1280101855949208 for f_star and f_minus: 21.53226638298395 , 34.33328494247603\n",
      "[INFO] [2023-01-24 02:57:47,764] [OpenBox-SPO] Iteration 224, objective value: [27.047755239673677].\n"
     ]
    },
    {
     "name": "stderr",
     "output_type": "stream",
     "text": [
      " 22%|██▏       | 224/1000 [2:51:39<9:40:45, 44.90s/it]"
     ]
    },
    {
     "name": "stdout",
     "output_type": "stream",
     "text": [
      "\t self.next_action: 0\n",
      "\n",
      "\t ----- tradeoff_buffer: 0 ----- \n",
      "\t ----- reward: -0.05515488856689729 for f_star and f_minus: 21.53226638298395 , 27.047755239673677\n",
      "[INFO] [2023-01-24 02:58:31,321] [OpenBox-SPO] Iteration 225, objective value: [35.351384513198596].\n"
     ]
    },
    {
     "name": "stderr",
     "output_type": "stream",
     "text": [
      " 22%|██▎       | 225/1000 [2:52:23<9:34:47, 44.50s/it]"
     ]
    },
    {
     "name": "stdout",
     "output_type": "stream",
     "text": [
      "\t self.next_action: -1\n",
      "\n",
      "\t ----- tradeoff_buffer: 0 ----- \n",
      "\t ----- reward: -0.1381911813021465 for f_star and f_minus: 21.53226638298395 , 35.351384513198596\n",
      "[INFO] [2023-01-24 02:59:17,223] [OpenBox-SPO] Iteration 226, objective value: [27.777890853170817].\n"
     ]
    },
    {
     "name": "stderr",
     "output_type": "stream",
     "text": [
      " 23%|██▎       | 226/1000 [2:53:09<9:39:28, 44.92s/it]"
     ]
    },
    {
     "name": "stdout",
     "output_type": "stream",
     "text": [
      "\t self.next_action: -1\n",
      "\n",
      "\t ----- tradeoff_buffer: 0 ----- \n",
      "\t ----- reward: -0.062456244701868696 for f_star and f_minus: 21.53226638298395 , 27.777890853170817\n",
      "[INFO] [2023-01-24 02:59:17,224] [Advisor] Sample random config. rand_prob=0.100000.\n",
      "[INFO] [2023-01-24 02:59:56,343] [OpenBox-SPO] Iteration 227, objective value: [54.85670413117504].\n"
     ]
    },
    {
     "name": "stderr",
     "output_type": "stream",
     "text": [
      " 23%|██▎       | 227/1000 [2:53:48<9:16:18, 43.18s/it]"
     ]
    },
    {
     "name": "stdout",
     "output_type": "stream",
     "text": [
      "\t self.next_action: -1\n",
      "\n",
      "\t ----- tradeoff_buffer: 0 ----- \n",
      "\t ----- reward: -1 for f_star and f_minus: 21.53226638298395 , 54.85670413117504\n",
      "[INFO] [2023-01-24 03:00:41,419] [OpenBox-SPO] Iteration 228, objective value: [36.62431438728184].\n"
     ]
    },
    {
     "name": "stderr",
     "output_type": "stream",
     "text": [
      " 23%|██▎       | 228/1000 [2:54:33<9:22:54, 43.75s/it]"
     ]
    },
    {
     "name": "stdout",
     "output_type": "stream",
     "text": [
      "\t self.next_action: -1\n",
      "\n",
      "\t ----- tradeoff_buffer: 0 ----- \n",
      "\t ----- reward: -0.15092048004297895 for f_star and f_minus: 21.53226638298395 , 36.62431438728184\n",
      "[INFO] [2023-01-24 03:01:19,724] [OpenBox-SPO] Iteration 229, objective value: [32.05559161036274].\n"
     ]
    },
    {
     "name": "stderr",
     "output_type": "stream",
     "text": [
      " 23%|██▎       | 229/1000 [2:55:11<9:01:11, 42.12s/it]"
     ]
    },
    {
     "name": "stdout",
     "output_type": "stream",
     "text": [
      "\t self.next_action: -1\n",
      "\n",
      "\t ----- tradeoff_buffer: 0 ----- \n",
      "\t ----- reward: -0.10523325227378791 for f_star and f_minus: 21.53226638298395 , 32.05559161036274\n",
      "[INFO] [2023-01-24 03:02:03,508] [OpenBox-SPO] Iteration 230, objective value: [29.01799037749096].\n"
     ]
    },
    {
     "name": "stderr",
     "output_type": "stream",
     "text": [
      " 23%|██▎       | 230/1000 [2:55:55<9:06:54, 42.62s/it]"
     ]
    },
    {
     "name": "stdout",
     "output_type": "stream",
     "text": [
      "\t self.next_action: -1\n",
      "\n",
      "\t ----- tradeoff_buffer: 0 ----- \n",
      "\t ----- reward: -0.07485723994507013 for f_star and f_minus: 21.53226638298395 , 29.01799037749096\n",
      "[INFO] [2023-01-24 03:02:03,510] [Advisor] Sample random config. rand_prob=0.100000.\n",
      "[INFO] [2023-01-24 03:02:39,910] [OpenBox-SPO] Iteration 231, objective value: [52.71295196115401].\n"
     ]
    },
    {
     "name": "stderr",
     "output_type": "stream",
     "text": [
      " 23%|██▎       | 231/1000 [2:56:31<8:42:18, 40.75s/it]"
     ]
    },
    {
     "name": "stdout",
     "output_type": "stream",
     "text": [
      "\t self.next_action: -1\n",
      "\n",
      "\t ----- tradeoff_buffer: 0 ----- \n",
      "\t ----- reward: -1 for f_star and f_minus: 21.53226638298395 , 52.71295196115401\n",
      "[INFO] [2023-01-24 03:03:28,687] [OpenBox-SPO] Iteration 232, objective value: [40.820704728261404].\n"
     ]
    },
    {
     "name": "stderr",
     "output_type": "stream",
     "text": [
      " 23%|██▎       | 232/1000 [2:57:20<9:12:26, 43.16s/it]"
     ]
    },
    {
     "name": "stdout",
     "output_type": "stream",
     "text": [
      "\t self.next_action: -1\n",
      "\n",
      "\t ----- tradeoff_buffer: 1 ----- \n",
      "\t ----- reward: -0.19288438345277456 for f_star and f_minus: 21.53226638298395 , 40.820704728261404\n",
      "[INFO] [2023-01-24 03:04:15,751] [OpenBox-SPO] Iteration 233, objective value: [38.756669703412314].\n"
     ]
    },
    {
     "name": "stderr",
     "output_type": "stream",
     "text": [
      " 23%|██▎       | 233/1000 [2:58:07<9:26:41, 44.33s/it]"
     ]
    },
    {
     "name": "stdout",
     "output_type": "stream",
     "text": [
      "\t self.next_action: 1\n",
      "\n",
      "\t ----- tradeoff_buffer: 2 ----- \n",
      "\t ----- reward: -0.1722440332042837 for f_star and f_minus: 21.53226638298395 , 38.756669703412314\n",
      "[INFO] [2023-01-24 03:05:00,121] [OpenBox-SPO] Iteration 234, objective value: [30.652918201629973].\n"
     ]
    },
    {
     "name": "stderr",
     "output_type": "stream",
     "text": [
      " 23%|██▎       | 234/1000 [2:58:52<9:26:06, 44.34s/it]"
     ]
    },
    {
     "name": "stdout",
     "output_type": "stream",
     "text": [
      "\t self.next_action: 1\n",
      "\n",
      "\t ----- tradeoff_buffer: 1 ----- \n",
      "\t ----- reward: -0.09120651818646028 for f_star and f_minus: 21.53226638298395 , 30.652918201629973\n",
      "[INFO] [2023-01-24 03:05:47,853] [OpenBox-SPO] Iteration 235, objective value: [28.602439795339606].\n"
     ]
    },
    {
     "name": "stderr",
     "output_type": "stream",
     "text": [
      " 24%|██▎       | 235/1000 [2:59:39<9:38:19, 45.36s/it]"
     ]
    },
    {
     "name": "stdout",
     "output_type": "stream",
     "text": [
      "\t self.next_action: -1\n",
      "\n",
      "\t ----- tradeoff_buffer: 0 ----- \n",
      "\t ----- reward: -0.0707017341235566 for f_star and f_minus: 21.53226638298395 , 28.602439795339606\n",
      "[INFO] [2023-01-24 03:06:26,887] [OpenBox-SPO] Iteration 236, objective value: [40.931552499335666].\n"
     ]
    },
    {
     "name": "stderr",
     "output_type": "stream",
     "text": [
      " 24%|██▎       | 236/1000 [3:00:18<9:13:24, 43.46s/it]"
     ]
    },
    {
     "name": "stdout",
     "output_type": "stream",
     "text": [
      "\t self.next_action: -1\n",
      "\n",
      "\t ----- tradeoff_buffer: 1 ----- \n",
      "\t ----- reward: -0.1939928611635172 for f_star and f_minus: 21.53226638298395 , 40.931552499335666\n",
      "[INFO] [2023-01-24 03:07:09,509] [OpenBox-SPO] Iteration 237, objective value: [34.39650567700019].\n"
     ]
    },
    {
     "name": "stderr",
     "output_type": "stream",
     "text": [
      " 24%|██▎       | 237/1000 [3:01:01<9:09:29, 43.21s/it]"
     ]
    },
    {
     "name": "stdout",
     "output_type": "stream",
     "text": [
      "\t self.next_action: 1\n",
      "\n",
      "\t ----- tradeoff_buffer: 1 ----- \n",
      "\t ----- reward: -0.12864239294016247 for f_star and f_minus: 21.53226638298395 , 34.39650567700019\n",
      "[INFO] [2023-01-24 03:07:52,385] [OpenBox-SPO] Iteration 238, objective value: [28.751974034226293].\n"
     ]
    },
    {
     "name": "stderr",
     "output_type": "stream",
     "text": [
      " 24%|██▍       | 238/1000 [3:01:44<9:07:29, 43.11s/it]"
     ]
    },
    {
     "name": "stdout",
     "output_type": "stream",
     "text": [
      "\t self.next_action: 0\n",
      "\n",
      "\t ----- tradeoff_buffer: 2 ----- \n",
      "\t ----- reward: -0.07219707651242344 for f_star and f_minus: 21.53226638298395 , 28.751974034226293\n",
      "[INFO] [2023-01-24 03:07:52,386] [Advisor] Sample random config. rand_prob=0.100000.\n",
      "[INFO] [2023-01-24 03:08:33,589] [OpenBox-SPO] Iteration 239, objective value: [49.963337452426074].\n"
     ]
    },
    {
     "name": "stderr",
     "output_type": "stream",
     "text": [
      " 24%|██▍       | 239/1000 [3:02:25<8:59:31, 42.54s/it]"
     ]
    },
    {
     "name": "stdout",
     "output_type": "stream",
     "text": [
      "\t self.next_action: 1\n",
      "\n",
      "\t ----- tradeoff_buffer: 1 ----- \n",
      "\t ----- reward: -0.28431071069442126 for f_star and f_minus: 21.53226638298395 , 49.963337452426074\n",
      "[INFO] [2023-01-24 03:09:21,754] [OpenBox-SPO] Iteration 240, objective value: [38.076856924747595].\n"
     ]
    },
    {
     "name": "stderr",
     "output_type": "stream",
     "text": [
      " 24%|██▍       | 240/1000 [3:03:13<9:20:11, 44.23s/it]"
     ]
    },
    {
     "name": "stdout",
     "output_type": "stream",
     "text": [
      "\t self.next_action: -1\n",
      "\n",
      "\t ----- tradeoff_buffer: 2 ----- \n",
      "\t ----- reward: -0.16544590541763646 for f_star and f_minus: 21.53226638298395 , 38.076856924747595\n",
      "[INFO] [2023-01-24 03:09:21,756] [Advisor] Sample random config. rand_prob=0.100000.\n",
      "[INFO] [2023-01-24 03:10:03,041] [OpenBox-SPO] Iteration 241, objective value: [56.63846653268544].\n"
     ]
    },
    {
     "name": "stderr",
     "output_type": "stream",
     "text": [
      " 24%|██▍       | 241/1000 [3:03:55<9:08:18, 43.34s/it]"
     ]
    },
    {
     "name": "stdout",
     "output_type": "stream",
     "text": [
      "\t self.next_action: 1\n",
      "\n",
      "\t ----- tradeoff_buffer: 2 ----- \n",
      "\t ----- reward: -1 for f_star and f_minus: 21.53226638298395 , 56.63846653268544\n",
      "[INFO] [2023-01-24 03:10:48,121] [OpenBox-SPO] Iteration 242, objective value: [39.33201883289264].\n"
     ]
    },
    {
     "name": "stderr",
     "output_type": "stream",
     "text": [
      " 24%|██▍       | 242/1000 [3:04:40<9:14:09, 43.86s/it]"
     ]
    },
    {
     "name": "stdout",
     "output_type": "stream",
     "text": [
      "\t self.next_action: 0\n",
      "\n",
      "\t ----- tradeoff_buffer: 1 ----- \n",
      "\t ----- reward: -0.17799752449908698 for f_star and f_minus: 21.53226638298395 , 39.33201883289264\n",
      "[INFO] [2023-01-24 03:11:40,168] [OpenBox-SPO] Iteration 243, objective value: [38.449689923543296].\n"
     ]
    },
    {
     "name": "stderr",
     "output_type": "stream",
     "text": [
      " 24%|██▍       | 243/1000 [3:05:32<9:44:24, 46.32s/it]"
     ]
    },
    {
     "name": "stdout",
     "output_type": "stream",
     "text": [
      "\t self.next_action: -1\n",
      "\n",
      "\t ----- tradeoff_buffer: 2 ----- \n",
      "\t ----- reward: -0.16917423540559348 for f_star and f_minus: 21.53226638298395 , 38.449689923543296\n",
      "[INFO] [2023-01-24 03:12:23,646] [OpenBox-SPO] Iteration 244, objective value: [30.188925615017908].\n"
     ]
    },
    {
     "name": "stderr",
     "output_type": "stream",
     "text": [
      " 24%|██▍       | 244/1000 [3:06:15<9:32:53, 45.47s/it]"
     ]
    },
    {
     "name": "stdout",
     "output_type": "stream",
     "text": [
      "\t self.next_action: 1\n",
      "\n",
      "\t ----- tradeoff_buffer: 1 ----- \n",
      "\t ----- reward: -0.08656659232033961 for f_star and f_minus: 21.53226638298395 , 30.188925615017908\n",
      "[INFO] [2023-01-24 03:13:14,010] [OpenBox-SPO] Iteration 245, objective value: [37.19486571041909].\n"
     ]
    },
    {
     "name": "stderr",
     "output_type": "stream",
     "text": [
      " 24%|██▍       | 245/1000 [3:07:06<9:50:36, 46.94s/it]"
     ]
    },
    {
     "name": "stdout",
     "output_type": "stream",
     "text": [
      "\t self.next_action: -1\n",
      "\n",
      "\t ----- tradeoff_buffer: 0 ----- \n",
      "\t ----- reward: -0.15662599327435142 for f_star and f_minus: 21.53226638298395 , 37.19486571041909\n",
      "[INFO] [2023-01-24 03:13:56,956] [OpenBox-SPO] Iteration 246, objective value: [40.81450464212752].\n"
     ]
    },
    {
     "name": "stderr",
     "output_type": "stream",
     "text": [
      " 25%|██▍       | 246/1000 [3:07:48<9:34:47, 45.74s/it]"
     ]
    },
    {
     "name": "stdout",
     "output_type": "stream",
     "text": [
      "\t self.next_action: -1\n",
      "\n",
      "\t ----- tradeoff_buffer: 0 ----- \n",
      "\t ----- reward: -0.19282238259143572 for f_star and f_minus: 21.53226638298395 , 40.81450464212752\n",
      "[INFO] [2023-01-24 03:14:38,698] [OpenBox-SPO] Iteration 247, objective value: [26.314321338136338].\n"
     ]
    },
    {
     "name": "stderr",
     "output_type": "stream",
     "text": [
      " 25%|██▍       | 247/1000 [3:08:30<9:18:58, 44.54s/it]"
     ]
    },
    {
     "name": "stdout",
     "output_type": "stream",
     "text": [
      "\t self.next_action: 0\n",
      "\n",
      "\t ----- tradeoff_buffer: 1 ----- \n",
      "\t ----- reward: -0.0478205495515239 for f_star and f_minus: 21.53226638298395 , 26.314321338136338\n",
      "[INFO] [2023-01-24 03:15:26,845] [OpenBox-SPO] Iteration 248, objective value: [22.316501531136055].\n"
     ]
    },
    {
     "name": "stderr",
     "output_type": "stream",
     "text": [
      " 25%|██▍       | 248/1000 [3:09:18<9:31:47, 45.62s/it]"
     ]
    },
    {
     "name": "stdout",
     "output_type": "stream",
     "text": [
      "\t self.next_action: 1\n",
      "\n",
      "\t ----- tradeoff_buffer: 2 ----- \n",
      "\t ----- reward: -0.00784235148152107 for f_star and f_minus: 21.53226638298395 , 22.316501531136055\n",
      "[INFO] [2023-01-24 03:16:16,636] [OpenBox-SPO] Iteration 249, objective value: [26.895055041243012].\n"
     ]
    },
    {
     "name": "stderr",
     "output_type": "stream",
     "text": [
      " 25%|██▍       | 249/1000 [3:10:08<9:46:41, 46.87s/it]"
     ]
    },
    {
     "name": "stdout",
     "output_type": "stream",
     "text": [
      "\t self.next_action: 1\n",
      "\n",
      "\t ----- tradeoff_buffer: 1 ----- \n",
      "\t ----- reward: -0.05362788658259063 for f_star and f_minus: 21.53226638298395 , 26.895055041243012\n",
      "[INFO] [2023-01-24 03:16:56,986] [OpenBox-SPO] Iteration 250, objective value: [38.857559825586094].\n"
     ]
    },
    {
     "name": "stderr",
     "output_type": "stream",
     "text": [
      " 25%|██▌       | 250/1000 [3:10:48<9:21:26, 44.92s/it]"
     ]
    },
    {
     "name": "stdout",
     "output_type": "stream",
     "text": [
      "\t self.next_action: -1\n",
      "\n",
      "\t ----- tradeoff_buffer: 2 ----- \n",
      "\t ----- reward: -0.1732529344260215 for f_star and f_minus: 21.53226638298395 , 38.857559825586094\n",
      "[INFO] [2023-01-24 03:16:56,987] [Advisor] Sample random config. rand_prob=0.100000.\n",
      "[INFO] [2023-01-24 03:17:33,686] [OpenBox-SPO] Iteration 251, objective value: [48.01746613889344].\n"
     ]
    },
    {
     "name": "stderr",
     "output_type": "stream",
     "text": [
      " 25%|██▌       | 251/1000 [3:11:25<8:49:55, 42.45s/it]"
     ]
    },
    {
     "name": "stdout",
     "output_type": "stream",
     "text": [
      "\t self.next_action: 1\n",
      "\n",
      "\t ----- tradeoff_buffer: 2 ----- \n",
      "\t ----- reward: -0.26485199755909494 for f_star and f_minus: 21.53226638298395 , 48.01746613889344\n",
      "[INFO] [2023-01-24 03:18:19,802] [OpenBox-SPO] Iteration 252, objective value: [40.65921164168811].\n"
     ]
    },
    {
     "name": "stderr",
     "output_type": "stream",
     "text": [
      " 25%|██▌       | 252/1000 [3:12:11<9:02:55, 43.55s/it]"
     ]
    },
    {
     "name": "stdout",
     "output_type": "stream",
     "text": [
      "\t self.next_action: 0\n",
      "\n",
      "\t ----- tradeoff_buffer: 2 ----- \n",
      "\t ----- reward: -0.19126945258704162 for f_star and f_minus: 21.53226638298395 , 40.65921164168811\n",
      "[INFO] [2023-01-24 03:18:19,804] [Advisor] Sample random config. rand_prob=0.100000.\n",
      "[INFO] [2023-01-24 03:18:49,771] [OpenBox-SPO] Iteration 253, objective value: [55.33615721983875].\n"
     ]
    },
    {
     "name": "stderr",
     "output_type": "stream",
     "text": [
      " 25%|██▌       | 253/1000 [3:12:41<8:11:28, 39.48s/it]"
     ]
    },
    {
     "name": "stdout",
     "output_type": "stream",
     "text": [
      "\t self.next_action: 0\n",
      "\n",
      "\t ----- tradeoff_buffer: 1 ----- \n",
      "\t ----- reward: -1 for f_star and f_minus: 21.53226638298395 , 55.33615721983875\n",
      "[INFO] [2023-01-24 03:19:32,694] [OpenBox-SPO] Iteration 254, objective value: [30.78532499182691].\n"
     ]
    },
    {
     "name": "stderr",
     "output_type": "stream",
     "text": [
      " 25%|██▌       | 254/1000 [3:13:24<8:23:40, 40.51s/it]"
     ]
    },
    {
     "name": "stdout",
     "output_type": "stream",
     "text": [
      "\t self.next_action: -1\n",
      "\n",
      "\t ----- tradeoff_buffer: 1 ----- \n",
      "\t ----- reward: -0.09253058608842965 for f_star and f_minus: 21.53226638298395 , 30.78532499182691\n",
      "[INFO] [2023-01-24 03:19:32,695] [Advisor] Sample random config. rand_prob=0.100000.\n",
      "[INFO] [2023-01-24 03:20:15,238] [OpenBox-SPO] Iteration 255, objective value: [46.87384856615855].\n"
     ]
    },
    {
     "name": "stderr",
     "output_type": "stream",
     "text": [
      " 26%|██▌       | 255/1000 [3:14:07<8:30:34, 41.12s/it]"
     ]
    },
    {
     "name": "stdout",
     "output_type": "stream",
     "text": [
      "\t self.next_action: 0\n",
      "\n",
      "\t ----- tradeoff_buffer: 0 ----- \n",
      "\t ----- reward: -0.25341582183174605 for f_star and f_minus: 21.53226638298395 , 46.87384856615855\n",
      "[INFO] [2023-01-24 03:21:02,948] [OpenBox-SPO] Iteration 256, objective value: [29.948988378830876].\n"
     ]
    },
    {
     "name": "stderr",
     "output_type": "stream",
     "text": [
      " 26%|██▌       | 256/1000 [3:14:54<8:54:24, 43.10s/it]"
     ]
    },
    {
     "name": "stdout",
     "output_type": "stream",
     "text": [
      "\t self.next_action: -1\n",
      "\n",
      "\t ----- tradeoff_buffer: 1 ----- \n",
      "\t ----- reward: -0.08416721995846929 for f_star and f_minus: 21.53226638298395 , 29.948988378830876\n",
      "[INFO] [2023-01-24 03:21:49,063] [OpenBox-SPO] Iteration 257, objective value: [29.863761766133507].\n"
     ]
    },
    {
     "name": "stderr",
     "output_type": "stream",
     "text": [
      " 26%|██▌       | 257/1000 [3:15:41<9:04:53, 44.00s/it]"
     ]
    },
    {
     "name": "stdout",
     "output_type": "stream",
     "text": [
      "\t self.next_action: 1\n",
      "\n",
      "\t ----- tradeoff_buffer: 1 ----- \n",
      "\t ----- reward: -0.08331495383149559 for f_star and f_minus: 21.53226638298395 , 29.863761766133507\n",
      "[INFO] [2023-01-24 03:22:40,466] [OpenBox-SPO] Iteration 258, objective value: [33.54504684926877].\n"
     ]
    },
    {
     "name": "stderr",
     "output_type": "stream",
     "text": [
      " 26%|██▌       | 258/1000 [3:16:32<9:31:37, 46.22s/it]"
     ]
    },
    {
     "name": "stdout",
     "output_type": "stream",
     "text": [
      "\t self.next_action: 0\n",
      "\n",
      "\t ----- tradeoff_buffer: 1 ----- \n",
      "\t ----- reward: -0.12012780466284825 for f_star and f_minus: 21.53226638298395 , 33.54504684926877\n",
      "[INFO] [2023-01-24 03:23:24,381] [OpenBox-SPO] Iteration 259, objective value: [36.072719148087295].\n"
     ]
    },
    {
     "name": "stderr",
     "output_type": "stream",
     "text": [
      " 26%|██▌       | 259/1000 [3:17:16<9:22:18, 45.53s/it]"
     ]
    },
    {
     "name": "stdout",
     "output_type": "stream",
     "text": [
      "\t self.next_action: 0\n",
      "\n",
      "\t ----- tradeoff_buffer: 0 ----- \n",
      "\t ----- reward: -0.14540452765103348 for f_star and f_minus: 21.53226638298395 , 36.072719148087295\n",
      "[INFO] [2023-01-24 03:24:05,906] [OpenBox-SPO] Iteration 260, objective value: [27.326419453419064].\n"
     ]
    },
    {
     "name": "stderr",
     "output_type": "stream",
     "text": [
      " 26%|██▌       | 260/1000 [3:17:57<9:06:43, 44.33s/it]"
     ]
    },
    {
     "name": "stdout",
     "output_type": "stream",
     "text": [
      "\t self.next_action: -1\n",
      "\n",
      "\t ----- tradeoff_buffer: 0 ----- \n",
      "\t ----- reward: -0.05794153070435118 for f_star and f_minus: 21.53226638298395 , 27.326419453419064\n",
      "[INFO] [2023-01-24 03:24:50,888] [OpenBox-SPO] Iteration 261, objective value: [30.082765146859984].\n"
     ]
    },
    {
     "name": "stderr",
     "output_type": "stream",
     "text": [
      " 26%|██▌       | 261/1000 [3:18:42<9:08:23, 44.52s/it]"
     ]
    },
    {
     "name": "stdout",
     "output_type": "stream",
     "text": [
      "\t self.next_action: 0\n",
      "\n",
      "\t ----- tradeoff_buffer: 0 ----- \n",
      "\t ----- reward: -0.08550498763876038 for f_star and f_minus: 21.53226638298395 , 30.082765146859984\n",
      "[INFO] [2023-01-24 03:25:31,312] [OpenBox-SPO] Iteration 262, objective value: [46.22017783632778].\n"
     ]
    },
    {
     "name": "stderr",
     "output_type": "stream",
     "text": [
      " 26%|██▌       | 262/1000 [3:19:23<8:52:31, 43.29s/it]"
     ]
    },
    {
     "name": "stdout",
     "output_type": "stream",
     "text": [
      "\t self.next_action: -1\n",
      "\n",
      "\t ----- tradeoff_buffer: 0 ----- \n",
      "\t ----- reward: -0.24687911453343833 for f_star and f_minus: 21.53226638298395 , 46.22017783632778\n",
      "[INFO] [2023-01-24 03:26:13,895] [OpenBox-SPO] Iteration 263, objective value: [35.41293302809295].\n"
     ]
    },
    {
     "name": "stderr",
     "output_type": "stream",
     "text": [
      " 26%|██▋       | 263/1000 [3:20:05<8:49:10, 43.08s/it]"
     ]
    },
    {
     "name": "stdout",
     "output_type": "stream",
     "text": [
      "\t self.next_action: 0\n",
      "\n",
      "\t ----- tradeoff_buffer: 1 ----- \n",
      "\t ----- reward: -0.13880666645109005 for f_star and f_minus: 21.53226638298395 , 35.41293302809295\n",
      "[INFO] [2023-01-24 03:27:02,112] [OpenBox-SPO] Iteration 264, objective value: [31.722452176195176].\n"
     ]
    },
    {
     "name": "stderr",
     "output_type": "stream",
     "text": [
      " 26%|██▋       | 264/1000 [3:20:54<9:07:21, 44.62s/it]"
     ]
    },
    {
     "name": "stdout",
     "output_type": "stream",
     "text": [
      "\t self.next_action: 1\n",
      "\n",
      "\t ----- tradeoff_buffer: 1 ----- \n",
      "\t ----- reward: -0.10190185793211229 for f_star and f_minus: 21.53226638298395 , 31.722452176195176\n",
      "[INFO] [2023-01-24 03:27:54,996] [OpenBox-SPO] Iteration 265, objective value: [33.30150904976023].\n"
     ]
    },
    {
     "name": "stderr",
     "output_type": "stream",
     "text": [
      " 26%|██▋       | 265/1000 [3:21:47<9:36:58, 47.10s/it]"
     ]
    },
    {
     "name": "stdout",
     "output_type": "stream",
     "text": [
      "\t self.next_action: 0\n",
      "\n",
      "\t ----- tradeoff_buffer: 0 ----- \n",
      "\t ----- reward: -0.11769242666776278 for f_star and f_minus: 21.53226638298395 , 33.30150904976023\n",
      "[INFO] [2023-01-24 03:28:36,809] [OpenBox-SPO] Iteration 266, objective value: [36.00236935152484].\n"
     ]
    },
    {
     "name": "stderr",
     "output_type": "stream",
     "text": [
      " 27%|██▋       | 266/1000 [3:22:28<9:16:47, 45.51s/it]"
     ]
    },
    {
     "name": "stdout",
     "output_type": "stream",
     "text": [
      "\t self.next_action: -1\n",
      "\n",
      "\t ----- tradeoff_buffer: 0 ----- \n",
      "\t ----- reward: -0.14470102968540896 for f_star and f_minus: 21.53226638298395 , 36.00236935152484\n",
      "[INFO] [2023-01-24 03:29:23,182] [OpenBox-SPO] Iteration 267, objective value: [34.534068899197905].\n"
     ]
    },
    {
     "name": "stderr",
     "output_type": "stream",
     "text": [
      " 27%|██▋       | 267/1000 [3:23:15<9:19:10, 45.77s/it]"
     ]
    },
    {
     "name": "stdout",
     "output_type": "stream",
     "text": [
      "\t self.next_action: -1\n",
      "\n",
      "\t ----- tradeoff_buffer: 1 ----- \n",
      "\t ----- reward: -0.1300180251621396 for f_star and f_minus: 21.53226638298395 , 34.534068899197905\n",
      "[INFO] [2023-01-24 03:30:08,301] [OpenBox-SPO] Iteration 268, objective value: [30.40659791251518].\n"
     ]
    },
    {
     "name": "stderr",
     "output_type": "stream",
     "text": [
      " 27%|██▋       | 268/1000 [3:24:00<9:16:01, 45.58s/it]"
     ]
    },
    {
     "name": "stdout",
     "output_type": "stream",
     "text": [
      "\t self.next_action: 1\n",
      "\n",
      "\t ----- tradeoff_buffer: 1 ----- \n",
      "\t ----- reward: -0.08874331529531235 for f_star and f_minus: 21.53226638298395 , 30.40659791251518\n",
      "[INFO] [2023-01-24 03:30:51,585] [OpenBox-SPO] Iteration 269, objective value: [32.233317531937004].\n"
     ]
    },
    {
     "name": "stderr",
     "output_type": "stream",
     "text": [
      " 27%|██▋       | 269/1000 [3:24:43<9:06:53, 44.89s/it]"
     ]
    },
    {
     "name": "stdout",
     "output_type": "stream",
     "text": [
      "\t self.next_action: 0\n",
      "\n",
      "\t ----- tradeoff_buffer: 2 ----- \n",
      "\t ----- reward: -0.10701051148953059 for f_star and f_minus: 21.53226638298395 , 32.233317531937004\n",
      "[INFO] [2023-01-24 03:30:51,586] [Advisor] Sample random config. rand_prob=0.100000.\n",
      "[INFO] [2023-01-24 03:31:25,124] [OpenBox-SPO] Iteration 270, objective value: [57.765436325913804].\n"
     ]
    },
    {
     "name": "stderr",
     "output_type": "stream",
     "text": [
      " 27%|██▋       | 270/1000 [3:25:17<8:24:43, 41.48s/it]"
     ]
    },
    {
     "name": "stdout",
     "output_type": "stream",
     "text": [
      "\t self.next_action: 1\n",
      "\n",
      "\t ----- tradeoff_buffer: 3 ----- \n",
      "\t ----- reward: -1 for f_star and f_minus: 21.53226638298395 , 57.765436325913804\n",
      "[INFO] [2023-01-24 03:32:11,514] [OpenBox-SPO] Iteration 271, objective value: [35.350390004511596].\n"
     ]
    },
    {
     "name": "stderr",
     "output_type": "stream",
     "text": [
      " 27%|██▋       | 271/1000 [3:26:03<8:41:54, 42.96s/it]"
     ]
    },
    {
     "name": "stdout",
     "output_type": "stream",
     "text": [
      "\t self.next_action: 1\n",
      "\n",
      "\t ----- tradeoff_buffer: 2 ----- \n",
      "\t ----- reward: -0.13818123621527648 for f_star and f_minus: 21.53226638298395 , 35.350390004511596\n",
      "[INFO] [2023-01-24 03:32:58,668] [OpenBox-SPO] Iteration 272, objective value: [33.644884904227425].\n"
     ]
    },
    {
     "name": "stderr",
     "output_type": "stream",
     "text": [
      " 27%|██▋       | 272/1000 [3:26:50<8:56:28, 44.22s/it]"
     ]
    },
    {
     "name": "stdout",
     "output_type": "stream",
     "text": [
      "\t self.next_action: -1\n",
      "\n",
      "\t ----- tradeoff_buffer: 2 ----- \n",
      "\t ----- reward: -0.12112618521243476 for f_star and f_minus: 21.53226638298395 , 33.644884904227425\n",
      "[INFO] [2023-01-24 03:33:42,651] [OpenBox-SPO] Iteration 273, objective value: [37.51542955040541].\n"
     ]
    },
    {
     "name": "stderr",
     "output_type": "stream",
     "text": [
      " 27%|██▋       | 273/1000 [3:27:34<8:54:53, 44.15s/it]"
     ]
    },
    {
     "name": "stdout",
     "output_type": "stream",
     "text": [
      "\t self.next_action: 0\n",
      "\n",
      "\t ----- tradeoff_buffer: 2 ----- \n",
      "\t ----- reward: -0.15983163167421463 for f_star and f_minus: 21.53226638298395 , 37.51542955040541\n",
      "[INFO] [2023-01-24 03:34:29,823] [OpenBox-SPO] Iteration 274, objective value: [27.117954024503163].\n"
     ]
    },
    {
     "name": "stderr",
     "output_type": "stream",
     "text": [
      " 27%|██▋       | 274/1000 [3:28:21<9:05:08, 45.05s/it]"
     ]
    },
    {
     "name": "stdout",
     "output_type": "stream",
     "text": [
      "\t self.next_action: 0\n",
      "\n",
      "\t ----- tradeoff_buffer: 1 ----- \n",
      "\t ----- reward: -0.055856876415192186 for f_star and f_minus: 21.53226638298395 , 27.117954024503163\n",
      "[INFO] [2023-01-24 03:35:16,455] [OpenBox-SPO] Iteration 275, objective value: [39.31749347149681].\n"
     ]
    },
    {
     "name": "stderr",
     "output_type": "stream",
     "text": [
      " 28%|██▊       | 275/1000 [3:29:08<9:10:07, 45.53s/it]"
     ]
    },
    {
     "name": "stdout",
     "output_type": "stream",
     "text": [
      "\t self.next_action: -1\n",
      "\n",
      "\t ----- tradeoff_buffer: 1 ----- \n",
      "\t ----- reward: -0.17785227088512864 for f_star and f_minus: 21.53226638298395 , 39.31749347149681\n",
      "[INFO] [2023-01-24 03:35:58,532] [OpenBox-SPO] Iteration 276, objective value: [35.44218962563711].\n"
     ]
    },
    {
     "name": "stderr",
     "output_type": "stream",
     "text": [
      " 28%|██▊       | 276/1000 [3:29:50<8:56:52, 44.49s/it]"
     ]
    },
    {
     "name": "stdout",
     "output_type": "stream",
     "text": [
      "\t self.next_action: 0\n",
      "\n",
      "\t ----- tradeoff_buffer: 0 ----- \n",
      "\t ----- reward: -0.13909923242653163 for f_star and f_minus: 21.53226638298395 , 35.44218962563711\n",
      "[INFO] [2023-01-24 03:36:44,476] [OpenBox-SPO] Iteration 277, objective value: [29.00635072679117].\n"
     ]
    },
    {
     "name": "stderr",
     "output_type": "stream",
     "text": [
      " 28%|██▊       | 277/1000 [3:30:36<9:01:22, 44.93s/it]"
     ]
    },
    {
     "name": "stdout",
     "output_type": "stream",
     "text": [
      "\t self.next_action: -1\n",
      "\n",
      "\t ----- tradeoff_buffer: 0 ----- \n",
      "\t ----- reward: -0.07474084343807222 for f_star and f_minus: 21.53226638298395 , 29.00635072679117\n",
      "[INFO] [2023-01-24 03:37:27,147] [OpenBox-SPO] Iteration 278, objective value: [32.27739789326225].\n"
     ]
    },
    {
     "name": "stderr",
     "output_type": "stream",
     "text": [
      " 28%|██▊       | 278/1000 [3:31:19<8:52:28, 44.25s/it]"
     ]
    },
    {
     "name": "stdout",
     "output_type": "stream",
     "text": [
      "\t self.next_action: 0\n",
      "\n",
      "\t ----- tradeoff_buffer: 1 ----- \n",
      "\t ----- reward: -0.10745131510278302 for f_star and f_minus: 21.53226638298395 , 32.27739789326225\n",
      "[INFO] [2023-01-24 03:38:10,925] [OpenBox-SPO] Iteration 279, objective value: [32.063475892853646].\n"
     ]
    },
    {
     "name": "stderr",
     "output_type": "stream",
     "text": [
      " 28%|██▊       | 279/1000 [3:32:02<8:50:02, 44.11s/it]"
     ]
    },
    {
     "name": "stdout",
     "output_type": "stream",
     "text": [
      "\t self.next_action: 1\n",
      "\n",
      "\t ----- tradeoff_buffer: 2 ----- \n",
      "\t ----- reward: -0.10531209509869696 for f_star and f_minus: 21.53226638298395 , 32.063475892853646\n",
      "[INFO] [2023-01-24 03:39:00,071] [OpenBox-SPO] Iteration 280, objective value: [32.80230662523971].\n"
     ]
    },
    {
     "name": "stderr",
     "output_type": "stream",
     "text": [
      " 28%|██▊       | 280/1000 [3:32:52<9:07:26, 45.62s/it]"
     ]
    },
    {
     "name": "stdout",
     "output_type": "stream",
     "text": [
      "\t self.next_action: 1\n",
      "\n",
      "\t ----- tradeoff_buffer: 2 ----- \n",
      "\t ----- reward: -0.1127004024225576 for f_star and f_minus: 21.53226638298395 , 32.80230662523971\n",
      "[INFO] [2023-01-24 03:39:45,758] [OpenBox-SPO] Iteration 281, objective value: [34.90654066951225].\n"
     ]
    },
    {
     "name": "stderr",
     "output_type": "stream",
     "text": [
      " 28%|██▊       | 281/1000 [3:33:37<9:06:55, 45.64s/it]"
     ]
    },
    {
     "name": "stdout",
     "output_type": "stream",
     "text": [
      "\t self.next_action: 0\n",
      "\n",
      "\t ----- tradeoff_buffer: 1 ----- \n",
      "\t ----- reward: -0.13374274286528307 for f_star and f_minus: 21.53226638298395 , 34.90654066951225\n",
      "[INFO] [2023-01-24 03:40:37,125] [OpenBox-SPO] Iteration 282, objective value: [31.837289905550648].\n"
     ]
    },
    {
     "name": "stderr",
     "output_type": "stream",
     "text": [
      " 28%|██▊       | 282/1000 [3:34:29<9:26:43, 47.36s/it]"
     ]
    },
    {
     "name": "stdout",
     "output_type": "stream",
     "text": [
      "\t self.next_action: -1\n",
      "\n",
      "\t ----- tradeoff_buffer: 0 ----- \n",
      "\t ----- reward: -0.103050235225667 for f_star and f_minus: 21.53226638298395 , 31.837289905550648\n",
      "[INFO] [2023-01-24 03:41:22,065] [OpenBox-SPO] Iteration 283, objective value: [25.714544241386506].\n"
     ]
    },
    {
     "name": "stderr",
     "output_type": "stream",
     "text": [
      " 28%|██▊       | 283/1000 [3:35:14<9:17:15, 46.63s/it]"
     ]
    },
    {
     "name": "stdout",
     "output_type": "stream",
     "text": [
      "\t self.next_action: -1\n",
      "\n",
      "\t ----- tradeoff_buffer: 0 ----- \n",
      "\t ----- reward: -0.04182277858402558 for f_star and f_minus: 21.53226638298395 , 25.714544241386506\n",
      "[INFO] [2023-01-24 03:42:11,505] [OpenBox-SPO] Iteration 284, objective value: [27.51509529118256].\n"
     ]
    },
    {
     "name": "stderr",
     "output_type": "stream",
     "text": [
      " 28%|██▊       | 284/1000 [3:36:03<9:26:31, 47.47s/it]"
     ]
    },
    {
     "name": "stdout",
     "output_type": "stream",
     "text": [
      "\t self.next_action: 0\n",
      "\n",
      "\t ----- tradeoff_buffer: 0 ----- \n",
      "\t ----- reward: -0.05982828908198615 for f_star and f_minus: 21.53226638298395 , 27.51509529118256\n",
      "[INFO] [2023-01-24 03:43:07,573] [OpenBox-SPO] Iteration 285, objective value: [32.087054731618].\n"
     ]
    },
    {
     "name": "stderr",
     "output_type": "stream",
     "text": [
      " 28%|██▊       | 285/1000 [3:36:59<9:56:27, 50.05s/it]"
     ]
    },
    {
     "name": "stdout",
     "output_type": "stream",
     "text": [
      "\t self.next_action: -1\n",
      "\n",
      "\t ----- tradeoff_buffer: 0 ----- \n",
      "\t ----- reward: -0.1055478834863405 for f_star and f_minus: 21.53226638298395 , 32.087054731618\n",
      "[INFO] [2023-01-24 03:43:56,784] [OpenBox-SPO] Iteration 286, objective value: [24.76468304883653].\n"
     ]
    },
    {
     "name": "stderr",
     "output_type": "stream",
     "text": [
      " 29%|██▊       | 286/1000 [3:37:48<9:52:37, 49.80s/it]"
     ]
    },
    {
     "name": "stdout",
     "output_type": "stream",
     "text": [
      "\t self.next_action: -1\n",
      "\n",
      "\t ----- tradeoff_buffer: 0 ----- \n",
      "\t ----- reward: -0.03232416665852583 for f_star and f_minus: 21.53226638298395 , 24.76468304883653\n",
      "[INFO] [2023-01-24 03:44:49,525] [OpenBox-SPO] Iteration 287, objective value: [38.79980045734436].\n"
     ]
    },
    {
     "name": "stderr",
     "output_type": "stream",
     "text": [
      " 29%|██▊       | 287/1000 [3:38:41<10:02:16, 50.68s/it]"
     ]
    },
    {
     "name": "stdout",
     "output_type": "stream",
     "text": [
      "\t self.next_action: 0\n",
      "\n",
      "\t ----- tradeoff_buffer: 1 ----- \n",
      "\t ----- reward: -0.17267534074360416 for f_star and f_minus: 21.53226638298395 , 38.79980045734436\n",
      "[INFO] [2023-01-24 03:45:43,150] [OpenBox-SPO] Iteration 288, objective value: [29.693916917827394].\n"
     ]
    },
    {
     "name": "stderr",
     "output_type": "stream",
     "text": [
      " 29%|██▉       | 288/1000 [3:39:35<10:11:54, 51.57s/it]"
     ]
    },
    {
     "name": "stdout",
     "output_type": "stream",
     "text": [
      "\t self.next_action: 1\n",
      "\n",
      "\t ----- tradeoff_buffer: 1 ----- \n",
      "\t ----- reward: -0.08161650534843448 for f_star and f_minus: 21.53226638298395 , 29.693916917827394\n",
      "[INFO] [2023-01-24 03:46:30,682] [OpenBox-SPO] Iteration 289, objective value: [37.365936146773606].\n"
     ]
    },
    {
     "name": "stderr",
     "output_type": "stream",
     "text": [
      " 29%|██▉       | 289/1000 [3:40:22<9:56:42, 50.36s/it] "
     ]
    },
    {
     "name": "stdout",
     "output_type": "stream",
     "text": [
      "\t self.next_action: 0\n",
      "\n",
      "\t ----- tradeoff_buffer: 2 ----- \n",
      "\t ----- reward: -0.15833669763789657 for f_star and f_minus: 21.53226638298395 , 37.365936146773606\n",
      "[INFO] [2023-01-24 03:47:15,993] [OpenBox-SPO] Iteration 290, objective value: [39.33921049402359].\n"
     ]
    },
    {
     "name": "stderr",
     "output_type": "stream",
     "text": [
      " 29%|██▉       | 290/1000 [3:41:07<9:37:57, 48.84s/it]"
     ]
    },
    {
     "name": "stdout",
     "output_type": "stream",
     "text": [
      "\t self.next_action: 1\n",
      "\n",
      "\t ----- tradeoff_buffer: 2 ----- \n",
      "\t ----- reward: -0.17806944111039644 for f_star and f_minus: 21.53226638298395 , 39.33921049402359\n",
      "[INFO] [2023-01-24 03:48:02,375] [OpenBox-SPO] Iteration 291, objective value: [39.1807345469535].\n"
     ]
    },
    {
     "name": "stderr",
     "output_type": "stream",
     "text": [
      " 29%|██▉       | 291/1000 [3:41:54<9:28:25, 48.10s/it]"
     ]
    },
    {
     "name": "stdout",
     "output_type": "stream",
     "text": [
      "\t self.next_action: 0\n",
      "\n",
      "\t ----- tradeoff_buffer: 1 ----- \n",
      "\t ----- reward: -0.17648468163969552 for f_star and f_minus: 21.53226638298395 , 39.1807345469535\n",
      "[INFO] [2023-01-24 03:48:53,425] [OpenBox-SPO] Iteration 292, objective value: [35.914427438923084].\n"
     ]
    },
    {
     "name": "stderr",
     "output_type": "stream",
     "text": [
      " 29%|██▉       | 292/1000 [3:42:45<9:38:03, 48.99s/it]"
     ]
    },
    {
     "name": "stdout",
     "output_type": "stream",
     "text": [
      "\t self.next_action: -1\n",
      "\n",
      "\t ----- tradeoff_buffer: 0 ----- \n",
      "\t ----- reward: -0.14382161055939138 for f_star and f_minus: 21.53226638298395 , 35.914427438923084\n",
      "[INFO] [2023-01-24 03:49:39,888] [OpenBox-SPO] Iteration 293, objective value: [34.4897949866311].\n"
     ]
    },
    {
     "name": "stderr",
     "output_type": "stream",
     "text": [
      " 29%|██▉       | 293/1000 [3:43:31<9:28:18, 48.23s/it]"
     ]
    },
    {
     "name": "stdout",
     "output_type": "stream",
     "text": [
      "\t self.next_action: -1\n",
      "\n",
      "\t ----- tradeoff_buffer: 0 ----- \n",
      "\t ----- reward: -0.12957528603647148 for f_star and f_minus: 21.53226638298395 , 34.4897949866311\n",
      "[INFO] [2023-01-24 03:50:24,788] [OpenBox-SPO] Iteration 294, objective value: [27.720023350607036].\n"
     ]
    },
    {
     "name": "stderr",
     "output_type": "stream",
     "text": [
      " 29%|██▉       | 294/1000 [3:44:16<9:15:45, 47.23s/it]"
     ]
    },
    {
     "name": "stdout",
     "output_type": "stream",
     "text": [
      "\t self.next_action: 0\n",
      "\n",
      "\t ----- tradeoff_buffer: 0 ----- \n",
      "\t ----- reward: -0.0618775696762309 for f_star and f_minus: 21.53226638298395 , 27.720023350607036\n",
      "[INFO] [2023-01-24 03:50:24,790] [Advisor] Sample random config. rand_prob=0.100000.\n",
      "[INFO] [2023-01-24 03:51:02,892] [OpenBox-SPO] Iteration 295, objective value: [55.86409205778931].\n"
     ]
    },
    {
     "name": "stderr",
     "output_type": "stream",
     "text": [
      " 30%|██▉       | 295/1000 [3:44:54<8:42:47, 44.49s/it]"
     ]
    },
    {
     "name": "stdout",
     "output_type": "stream",
     "text": [
      "\t self.next_action: -1\n",
      "\n",
      "\t ----- tradeoff_buffer: 0 ----- \n",
      "\t ----- reward: -1 for f_star and f_minus: 21.53226638298395 , 55.86409205778931\n",
      "[INFO] [2023-01-24 03:51:47,759] [OpenBox-SPO] Iteration 296, objective value: [29.405398635735267].\n"
     ]
    },
    {
     "name": "stderr",
     "output_type": "stream",
     "text": [
      " 30%|██▉       | 296/1000 [3:45:39<8:43:22, 44.61s/it]"
     ]
    },
    {
     "name": "stdout",
     "output_type": "stream",
     "text": [
      "\t self.next_action: -1\n",
      "\n",
      "\t ----- tradeoff_buffer: 0 ----- \n",
      "\t ----- reward: -0.07873132252751322 for f_star and f_minus: 21.53226638298395 , 29.405398635735267\n",
      "[INFO] [2023-01-24 03:52:38,848] [OpenBox-SPO] Iteration 297, objective value: [28.710123977458238].\n"
     ]
    },
    {
     "name": "stderr",
     "output_type": "stream",
     "text": [
      " 30%|██▉       | 297/1000 [3:46:30<9:05:24, 46.55s/it]"
     ]
    },
    {
     "name": "stdout",
     "output_type": "stream",
     "text": [
      "\t self.next_action: 0\n",
      "\n",
      "\t ----- tradeoff_buffer: 0 ----- \n",
      "\t ----- reward: -0.07177857594474293 for f_star and f_minus: 21.53226638298395 , 28.710123977458238\n",
      "[INFO] [2023-01-24 03:53:28,473] [OpenBox-SPO] Iteration 298, objective value: [35.31423027515291].\n"
     ]
    },
    {
     "name": "stderr",
     "output_type": "stream",
     "text": [
      " 30%|██▉       | 298/1000 [3:47:20<9:15:25, 47.47s/it]"
     ]
    },
    {
     "name": "stdout",
     "output_type": "stream",
     "text": [
      "\t self.next_action: 0\n",
      "\n",
      "\t ----- tradeoff_buffer: 1 ----- \n",
      "\t ----- reward: -0.1378196389216896 for f_star and f_minus: 21.53226638298395 , 35.31423027515291\n",
      "[INFO] [2023-01-24 03:54:13,246] [OpenBox-SPO] Iteration 299, objective value: [27.52845904041361].\n"
     ]
    },
    {
     "name": "stderr",
     "output_type": "stream",
     "text": [
      " 30%|██▉       | 299/1000 [3:48:05<9:05:10, 46.66s/it]"
     ]
    },
    {
     "name": "stdout",
     "output_type": "stream",
     "text": [
      "\t self.next_action: 1\n",
      "\n",
      "\t ----- tradeoff_buffer: 1 ----- \n",
      "\t ----- reward: -0.05996192657429664 for f_star and f_minus: 21.53226638298395 , 27.52845904041361\n",
      "[INFO] [2023-01-24 03:55:03,657] [OpenBox-SPO] Iteration 300, objective value: [27.473297549344693].\n"
     ]
    },
    {
     "name": "stderr",
     "output_type": "stream",
     "text": [
      " 30%|███       | 300/1000 [3:48:55<9:17:31, 47.79s/it]"
     ]
    },
    {
     "name": "stdout",
     "output_type": "stream",
     "text": [
      "\t self.next_action: 0\n",
      "\n",
      "\t ----- tradeoff_buffer: 1 ----- \n",
      "\t ----- reward: -0.05941031166360747 for f_star and f_minus: 21.53226638298395 , 27.473297549344693\n",
      "[INFO] [2023-01-24 03:55:50,797] [OpenBox-SPO] Iteration 301, objective value: [30.56960471089168].\n"
     ]
    },
    {
     "name": "stderr",
     "output_type": "stream",
     "text": [
      " 30%|███       | 301/1000 [3:49:42<9:14:27, 47.59s/it]"
     ]
    },
    {
     "name": "stdout",
     "output_type": "stream",
     "text": [
      "\t self.next_action: 0\n",
      "\n",
      "\t ----- tradeoff_buffer: 2 ----- \n",
      "\t ----- reward: -0.09037338327907732 for f_star and f_minus: 21.53226638298395 , 30.56960471089168\n",
      "[INFO] [2023-01-24 03:56:42,715] [OpenBox-SPO] Iteration 302, objective value: [36.52166507019552].\n"
     ]
    },
    {
     "name": "stderr",
     "output_type": "stream",
     "text": [
      " 30%|███       | 302/1000 [3:50:34<9:28:45, 48.89s/it]"
     ]
    },
    {
     "name": "stdout",
     "output_type": "stream",
     "text": [
      "\t self.next_action: 1\n",
      "\n",
      "\t ----- tradeoff_buffer: 2 ----- \n",
      "\t ----- reward: -0.14989398687211572 for f_star and f_minus: 21.53226638298395 , 36.52166507019552\n",
      "[INFO] [2023-01-24 03:57:31,347] [OpenBox-SPO] Iteration 303, objective value: [26.247728649530174].\n"
     ]
    },
    {
     "name": "stderr",
     "output_type": "stream",
     "text": [
      " 30%|███       | 303/1000 [3:51:23<9:27:02, 48.81s/it]"
     ]
    },
    {
     "name": "stdout",
     "output_type": "stream",
     "text": [
      "\t self.next_action: 0\n",
      "\n",
      "\t ----- tradeoff_buffer: 1 ----- \n",
      "\t ----- reward: -0.04715462266546225 for f_star and f_minus: 21.53226638298395 , 26.247728649530174\n",
      "[INFO] [2023-01-24 03:58:19,956] [OpenBox-SPO] Iteration 304, objective value: [39.13170440746517].\n"
     ]
    },
    {
     "name": "stderr",
     "output_type": "stream",
     "text": [
      " 30%|███       | 304/1000 [3:52:11<9:25:31, 48.75s/it]"
     ]
    },
    {
     "name": "stdout",
     "output_type": "stream",
     "text": [
      "\t self.next_action: -1\n",
      "\n",
      "\t ----- tradeoff_buffer: 2 ----- \n",
      "\t ----- reward: -0.17599438024481226 for f_star and f_minus: 21.53226638298395 , 39.13170440746517\n",
      "[INFO] [2023-01-24 03:59:01,025] [OpenBox-SPO] Iteration 305, objective value: [40.000580557410274].\n"
     ]
    },
    {
     "name": "stderr",
     "output_type": "stream",
     "text": [
      " 30%|███       | 305/1000 [3:52:53<8:58:00, 46.45s/it]"
     ]
    },
    {
     "name": "stdout",
     "output_type": "stream",
     "text": [
      "\t self.next_action: 1\n",
      "\n",
      "\t ----- tradeoff_buffer: 2 ----- \n",
      "\t ----- reward: -0.18468314174426329 for f_star and f_minus: 21.53226638298395 , 40.000580557410274\n",
      "[INFO] [2023-01-24 03:59:44,810] [OpenBox-SPO] Iteration 306, objective value: [24.78474659828187].\n"
     ]
    },
    {
     "name": "stderr",
     "output_type": "stream",
     "text": [
      " 31%|███       | 306/1000 [3:53:36<8:48:00, 45.65s/it]"
     ]
    },
    {
     "name": "stdout",
     "output_type": "stream",
     "text": [
      "\t self.next_action: 0\n",
      "\n",
      "\t ----- tradeoff_buffer: 1 ----- \n",
      "\t ----- reward: -0.03252480215297923 for f_star and f_minus: 21.53226638298395 , 24.78474659828187\n",
      "[INFO] [2023-01-24 04:00:28,178] [OpenBox-SPO] Iteration 307, objective value: [37.758232680604955].\n"
     ]
    },
    {
     "name": "stderr",
     "output_type": "stream",
     "text": [
      " 31%|███       | 307/1000 [3:54:20<8:39:20, 44.96s/it]"
     ]
    },
    {
     "name": "stdout",
     "output_type": "stream",
     "text": [
      "\t self.next_action: -1\n",
      "\n",
      "\t ----- tradeoff_buffer: 0 ----- \n",
      "\t ----- reward: -0.16225966297621006 for f_star and f_minus: 21.53226638298395 , 37.758232680604955\n",
      "[INFO] [2023-01-24 04:01:21,575] [OpenBox-SPO] Iteration 308, objective value: [29.146922025260636].\n"
     ]
    },
    {
     "name": "stderr",
     "output_type": "stream",
     "text": [
      " 31%|███       | 308/1000 [3:55:13<9:07:45, 47.49s/it]"
     ]
    },
    {
     "name": "stdout",
     "output_type": "stream",
     "text": [
      "\t self.next_action: -1\n",
      "\n",
      "\t ----- tradeoff_buffer: 1 ----- \n",
      "\t ----- reward: -0.07614655642276688 for f_star and f_minus: 21.53226638298395 , 29.146922025260636\n",
      "[INFO] [2023-01-24 04:01:21,576] [Advisor] Sample random config. rand_prob=0.100000.\n",
      "[INFO] [2023-01-24 04:01:56,977] [OpenBox-SPO] Iteration 309, objective value: [57.94591041846129].\n"
     ]
    },
    {
     "name": "stderr",
     "output_type": "stream",
     "text": [
      " 31%|███       | 309/1000 [3:55:48<8:25:11, 43.87s/it]"
     ]
    },
    {
     "name": "stdout",
     "output_type": "stream",
     "text": [
      "\t self.next_action: 1\n",
      "\n",
      "\t ----- tradeoff_buffer: 1 ----- \n",
      "\t ----- reward: -1 for f_star and f_minus: 21.53226638298395 , 57.94591041846129\n",
      "[INFO] [2023-01-24 04:02:39,439] [OpenBox-SPO] Iteration 310, objective value: [38.421040966892676].\n"
     ]
    },
    {
     "name": "stderr",
     "output_type": "stream",
     "text": [
      " 31%|███       | 310/1000 [3:56:31<8:19:37, 43.45s/it]"
     ]
    },
    {
     "name": "stdout",
     "output_type": "stream",
     "text": [
      "\t self.next_action: 0\n",
      "\n",
      "\t ----- tradeoff_buffer: 0 ----- \n",
      "\t ----- reward: -0.1688877458390873 for f_star and f_minus: 21.53226638298395 , 38.421040966892676\n",
      "[INFO] [2023-01-24 04:03:22,647] [OpenBox-SPO] Iteration 311, objective value: [32.09580153921972].\n"
     ]
    },
    {
     "name": "stderr",
     "output_type": "stream",
     "text": [
      " 31%|███       | 311/1000 [3:57:14<8:18:04, 43.37s/it]"
     ]
    },
    {
     "name": "stdout",
     "output_type": "stream",
     "text": [
      "\t self.next_action: -1\n",
      "\n",
      "\t ----- tradeoff_buffer: 0 ----- \n",
      "\t ----- reward: -0.10563535156235773 for f_star and f_minus: 21.53226638298395 , 32.09580153921972\n",
      "[INFO] [2023-01-24 04:04:06,876] [OpenBox-SPO] Iteration 312, objective value: [38.69426698828043].\n"
     ]
    },
    {
     "name": "stderr",
     "output_type": "stream",
     "text": [
      " 31%|███       | 312/1000 [3:57:58<8:20:17, 43.63s/it]"
     ]
    },
    {
     "name": "stdout",
     "output_type": "stream",
     "text": [
      "\t self.next_action: 0\n",
      "\n",
      "\t ----- tradeoff_buffer: 0 ----- \n",
      "\t ----- reward: -0.17162000605296487 for f_star and f_minus: 21.53226638298395 , 38.69426698828043\n",
      "[INFO] [2023-01-24 04:04:49,733] [OpenBox-SPO] Iteration 313, objective value: [32.17355019131564].\n"
     ]
    },
    {
     "name": "stderr",
     "output_type": "stream",
     "text": [
      " 31%|███▏      | 313/1000 [3:58:41<8:16:54, 43.40s/it]"
     ]
    },
    {
     "name": "stdout",
     "output_type": "stream",
     "text": [
      "\t self.next_action: 0\n",
      "\n",
      "\t ----- tradeoff_buffer: 1 ----- \n",
      "\t ----- reward: -0.10641283808331695 for f_star and f_minus: 21.53226638298395 , 32.17355019131564\n",
      "[INFO] [2023-01-24 04:05:34,738] [OpenBox-SPO] Iteration 314, objective value: [26.142589988900227].\n"
     ]
    },
    {
     "name": "stderr",
     "output_type": "stream",
     "text": [
      " 31%|███▏      | 314/1000 [3:59:26<8:21:42, 43.88s/it]"
     ]
    },
    {
     "name": "stdout",
     "output_type": "stream",
     "text": [
      "\t self.next_action: 1\n",
      "\n",
      "\t ----- tradeoff_buffer: 2 ----- \n",
      "\t ----- reward: -0.046103236059162805 for f_star and f_minus: 21.53226638298395 , 26.142589988900227\n",
      "[INFO] [2023-01-24 04:06:21,856] [OpenBox-SPO] Iteration 315, objective value: [25.650341529634545].\n"
     ]
    },
    {
     "name": "stderr",
     "output_type": "stream",
     "text": [
      " 32%|███▏      | 315/1000 [4:00:13<8:32:03, 44.85s/it]"
     ]
    },
    {
     "name": "stdout",
     "output_type": "stream",
     "text": [
      "\t self.next_action: 1\n",
      "\n",
      "\t ----- tradeoff_buffer: 1 ----- \n",
      "\t ----- reward: -0.04118075146650599 for f_star and f_minus: 21.53226638298395 , 25.650341529634545\n",
      "[INFO] [2023-01-24 04:07:05,907] [OpenBox-SPO] Iteration 316, objective value: [28.98470632063328].\n"
     ]
    },
    {
     "name": "stderr",
     "output_type": "stream",
     "text": [
      " 32%|███▏      | 316/1000 [4:00:57<8:28:34, 44.61s/it]"
     ]
    },
    {
     "name": "stdout",
     "output_type": "stream",
     "text": [
      "\t self.next_action: -1\n",
      "\n",
      "\t ----- tradeoff_buffer: 2 ----- \n",
      "\t ----- reward: -0.07452439937649333 for f_star and f_minus: 21.53226638298395 , 28.98470632063328\n",
      "[INFO] [2023-01-24 04:07:52,938] [OpenBox-SPO] Iteration 317, objective value: [40.37385580535977].\n"
     ]
    },
    {
     "name": "stderr",
     "output_type": "stream",
     "text": [
      " 32%|███▏      | 317/1000 [4:01:44<8:36:05, 45.34s/it]"
     ]
    },
    {
     "name": "stdout",
     "output_type": "stream",
     "text": [
      "\t self.next_action: 1\n",
      "\n",
      "\t ----- tradeoff_buffer: 2 ----- \n",
      "\t ----- reward: -0.18841589422375818 for f_star and f_minus: 21.53226638298395 , 40.37385580535977\n",
      "[INFO] [2023-01-24 04:08:43,367] [OpenBox-SPO] Iteration 318, objective value: [34.17442951432764].\n"
     ]
    },
    {
     "name": "stderr",
     "output_type": "stream",
     "text": [
      " 32%|███▏      | 318/1000 [4:02:35<8:52:41, 46.86s/it]"
     ]
    },
    {
     "name": "stdout",
     "output_type": "stream",
     "text": [
      "\t self.next_action: 0\n",
      "\n",
      "\t ----- tradeoff_buffer: 1 ----- \n",
      "\t ----- reward: -0.12642163131343695 for f_star and f_minus: 21.53226638298395 , 34.17442951432764\n",
      "[INFO] [2023-01-24 04:09:30,247] [OpenBox-SPO] Iteration 319, objective value: [32.983589380423254].\n"
     ]
    },
    {
     "name": "stderr",
     "output_type": "stream",
     "text": [
      " 32%|███▏      | 319/1000 [4:03:22<8:51:58, 46.87s/it]"
     ]
    },
    {
     "name": "stdout",
     "output_type": "stream",
     "text": [
      "\t self.next_action: -1\n",
      "\n",
      "\t ----- tradeoff_buffer: 0 ----- \n",
      "\t ----- reward: -0.11451322997439309 for f_star and f_minus: 21.53226638298395 , 32.983589380423254\n",
      "[INFO] [2023-01-24 04:10:18,815] [OpenBox-SPO] Iteration 320, objective value: [35.31189336970051].\n"
     ]
    },
    {
     "name": "stderr",
     "output_type": "stream",
     "text": [
      " 32%|███▏      | 320/1000 [4:04:10<8:56:57, 47.38s/it]"
     ]
    },
    {
     "name": "stdout",
     "output_type": "stream",
     "text": [
      "\t self.next_action: -1\n",
      "\n",
      "\t ----- tradeoff_buffer: 0 ----- \n",
      "\t ----- reward: -0.13779626986716567 for f_star and f_minus: 21.53226638298395 , 35.31189336970051\n",
      "[INFO] [2023-01-24 04:11:04,093] [OpenBox-SPO] Iteration 321, objective value: [27.33463882517509].\n"
     ]
    },
    {
     "name": "stderr",
     "output_type": "stream",
     "text": [
      " 32%|███▏      | 321/1000 [4:04:56<8:49:02, 46.75s/it]"
     ]
    },
    {
     "name": "stdout",
     "output_type": "stream",
     "text": [
      "\t self.next_action: 0\n",
      "\n",
      "\t ----- tradeoff_buffer: 0 ----- \n",
      "\t ----- reward: -0.05802372442191142 for f_star and f_minus: 21.53226638298395 , 27.33463882517509\n",
      "[INFO] [2023-01-24 04:11:54,285] [OpenBox-SPO] Iteration 322, objective value: [25.18306637384245].\n"
     ]
    },
    {
     "name": "stderr",
     "output_type": "stream",
     "text": [
      " 32%|███▏      | 322/1000 [4:05:46<8:59:56, 47.78s/it]"
     ]
    },
    {
     "name": "stdout",
     "output_type": "stream",
     "text": [
      "\t self.next_action: -1\n",
      "\n",
      "\t ----- tradeoff_buffer: 0 ----- \n",
      "\t ----- reward: -0.036507999908585026 for f_star and f_minus: 21.53226638298395 , 25.18306637384245\n",
      "[INFO] [2023-01-24 04:12:37,620] [OpenBox-SPO] Iteration 323, objective value: [51.723499225664696].\n"
     ]
    },
    {
     "name": "stderr",
     "output_type": "stream",
     "text": [
      " 32%|███▏      | 323/1000 [4:06:29<8:44:05, 46.45s/it]"
     ]
    },
    {
     "name": "stdout",
     "output_type": "stream",
     "text": [
      "\t self.next_action: -1\n",
      "\n",
      "\t ----- tradeoff_buffer: 1 ----- \n",
      "\t ----- reward: -1 for f_star and f_minus: 21.53226638298395 , 51.723499225664696\n",
      "[INFO] [2023-01-24 04:13:25,950] [OpenBox-SPO] Iteration 324, objective value: [35.9881287721506].\n"
     ]
    },
    {
     "name": "stderr",
     "output_type": "stream",
     "text": [
      " 32%|███▏      | 324/1000 [4:07:17<8:49:40, 47.01s/it]"
     ]
    },
    {
     "name": "stdout",
     "output_type": "stream",
     "text": [
      "\t self.next_action: 1\n",
      "\n",
      "\t ----- tradeoff_buffer: 2 ----- \n",
      "\t ----- reward: -0.14455862389166654 for f_star and f_minus: 21.53226638298395 , 35.9881287721506\n",
      "[INFO] [2023-01-24 04:14:15,356] [OpenBox-SPO] Iteration 325, objective value: [23.58841132145389].\n"
     ]
    },
    {
     "name": "stderr",
     "output_type": "stream",
     "text": [
      " 32%|███▎      | 325/1000 [4:08:07<8:56:57, 47.73s/it]"
     ]
    },
    {
     "name": "stdout",
     "output_type": "stream",
     "text": [
      "\t self.next_action: 1\n",
      "\n",
      "\t ----- tradeoff_buffer: 2 ----- \n",
      "\t ----- reward: -0.02056144938469942 for f_star and f_minus: 21.53226638298395 , 23.58841132145389\n",
      "[INFO] [2023-01-24 04:14:54,980] [OpenBox-SPO] Iteration 326, objective value: [43.2458064746603].\n"
     ]
    },
    {
     "name": "stderr",
     "output_type": "stream",
     "text": [
      " 33%|███▎      | 326/1000 [4:08:46<8:28:51, 45.30s/it]"
     ]
    },
    {
     "name": "stdout",
     "output_type": "stream",
     "text": [
      "\t self.next_action: 0\n",
      "\n",
      "\t ----- tradeoff_buffer: 1 ----- \n",
      "\t ----- reward: -0.2171354009167635 for f_star and f_minus: 21.53226638298395 , 43.2458064746603\n",
      "[INFO] [2023-01-24 04:15:45,375] [OpenBox-SPO] Iteration 327, objective value: [31.30293363816945].\n"
     ]
    },
    {
     "name": "stderr",
     "output_type": "stream",
     "text": [
      " 33%|███▎      | 327/1000 [4:09:37<8:45:14, 46.83s/it]"
     ]
    },
    {
     "name": "stdout",
     "output_type": "stream",
     "text": [
      "\t self.next_action: -1\n",
      "\n",
      "\t ----- tradeoff_buffer: 0 ----- \n",
      "\t ----- reward: -0.09770667255185503 for f_star and f_minus: 21.53226638298395 , 31.30293363816945\n",
      "[INFO] [2023-01-24 04:16:30,787] [OpenBox-SPO] Iteration 328, objective value: [25.3637609183899].\n"
     ]
    },
    {
     "name": "stderr",
     "output_type": "stream",
     "text": [
      " 33%|███▎      | 328/1000 [4:10:22<8:39:42, 46.40s/it]"
     ]
    },
    {
     "name": "stdout",
     "output_type": "stream",
     "text": [
      "\t self.next_action: -1\n",
      "\n",
      "\t ----- tradeoff_buffer: 0 ----- \n",
      "\t ----- reward: -0.03831494535405952 for f_star and f_minus: 21.53226638298395 , 25.3637609183899\n",
      "[INFO] [2023-01-24 04:17:15,256] [OpenBox-SPO] Iteration 329, objective value: [26.760814474716526].\n"
     ]
    },
    {
     "name": "stderr",
     "output_type": "stream",
     "text": [
      " 33%|███▎      | 329/1000 [4:11:07<8:32:26, 45.82s/it]"
     ]
    },
    {
     "name": "stdout",
     "output_type": "stream",
     "text": [
      "\t self.next_action: 0\n",
      "\n",
      "\t ----- tradeoff_buffer: 0 ----- \n",
      "\t ----- reward: -0.052285480917325794 for f_star and f_minus: 21.53226638298395 , 26.760814474716526\n",
      "[INFO] [2023-01-24 04:18:06,145] [OpenBox-SPO] Iteration 330, objective value: [27.816782291530828].\n"
     ]
    },
    {
     "name": "stderr",
     "output_type": "stream",
     "text": [
      " 33%|███▎      | 330/1000 [4:11:58<8:48:39, 47.34s/it]"
     ]
    },
    {
     "name": "stdout",
     "output_type": "stream",
     "text": [
      "\t self.next_action: 0\n",
      "\n",
      "\t ----- tradeoff_buffer: 0 ----- \n",
      "\t ----- reward: -0.06284515908546881 for f_star and f_minus: 21.53226638298395 , 27.816782291530828\n",
      "[INFO] [2023-01-24 04:18:53,045] [OpenBox-SPO] Iteration 331, objective value: [41.92036357320163].\n"
     ]
    },
    {
     "name": "stderr",
     "output_type": "stream",
     "text": [
      " 33%|███▎      | 331/1000 [4:12:45<8:46:23, 47.21s/it]"
     ]
    },
    {
     "name": "stdout",
     "output_type": "stream",
     "text": [
      "\t self.next_action: 0\n",
      "\n",
      "\t ----- tradeoff_buffer: 0 ----- \n",
      "\t ----- reward: -0.20388097190217677 for f_star and f_minus: 21.53226638298395 , 41.92036357320163\n",
      "[INFO] [2023-01-24 04:19:44,422] [OpenBox-SPO] Iteration 332, objective value: [37.11023873704223].\n"
     ]
    },
    {
     "name": "stderr",
     "output_type": "stream",
     "text": [
      " 33%|███▎      | 332/1000 [4:13:36<8:59:31, 48.46s/it]"
     ]
    },
    {
     "name": "stdout",
     "output_type": "stream",
     "text": [
      "\t self.next_action: 0\n",
      "\n",
      "\t ----- tradeoff_buffer: 0 ----- \n",
      "\t ----- reward: -0.1557797235405828 for f_star and f_minus: 21.53226638298395 , 37.11023873704223\n",
      "[INFO] [2023-01-24 04:20:28,928] [OpenBox-SPO] Iteration 333, objective value: [26.516726023921976].\n"
     ]
    },
    {
     "name": "stderr",
     "output_type": "stream",
     "text": [
      " 33%|███▎      | 333/1000 [4:14:20<8:45:31, 47.27s/it]"
     ]
    },
    {
     "name": "stdout",
     "output_type": "stream",
     "text": [
      "\t self.next_action: -1\n",
      "\n",
      "\t ----- tradeoff_buffer: 0 ----- \n",
      "\t ----- reward: -0.0498445964093803 for f_star and f_minus: 21.53226638298395 , 26.516726023921976\n",
      "[INFO] [2023-01-24 04:21:18,959] [OpenBox-SPO] Iteration 334, objective value: [31.54358439841755].\n"
     ]
    },
    {
     "name": "stderr",
     "output_type": "stream",
     "text": [
      " 33%|███▎      | 334/1000 [4:15:10<8:53:55, 48.10s/it]"
     ]
    },
    {
     "name": "stdout",
     "output_type": "stream",
     "text": [
      "\t self.next_action: 0\n",
      "\n",
      "\t ----- tradeoff_buffer: 0 ----- \n",
      "\t ----- reward: -0.10011318015433604 for f_star and f_minus: 21.53226638298395 , 31.54358439841755\n",
      "[INFO] [2023-01-24 04:22:06,938] [OpenBox-SPO] Iteration 335, objective value: [26.802260287656665].\n"
     ]
    },
    {
     "name": "stderr",
     "output_type": "stream",
     "text": [
      " 34%|███▎      | 335/1000 [4:15:58<8:52:42, 48.06s/it]"
     ]
    },
    {
     "name": "stdout",
     "output_type": "stream",
     "text": [
      "\t self.next_action: 0\n",
      "\n",
      "\t ----- tradeoff_buffer: 0 ----- \n",
      "\t ----- reward: -0.05269993904672718 for f_star and f_minus: 21.53226638298395 , 26.802260287656665\n",
      "[INFO] [2023-01-24 04:22:53,676] [OpenBox-SPO] Iteration 336, objective value: [26.181784663418824].\n"
     ]
    },
    {
     "name": "stderr",
     "output_type": "stream",
     "text": [
      " 34%|███▎      | 336/1000 [4:16:45<8:47:30, 47.67s/it]"
     ]
    },
    {
     "name": "stdout",
     "output_type": "stream",
     "text": [
      "\t self.next_action: -1\n",
      "\n",
      "\t ----- tradeoff_buffer: 0 ----- \n",
      "\t ----- reward: -0.04649518280434875 for f_star and f_minus: 21.53226638298395 , 26.181784663418824\n",
      "[INFO] [2023-01-24 04:23:38,013] [OpenBox-SPO] Iteration 337, objective value: [44.43500477536517].\n"
     ]
    },
    {
     "name": "stderr",
     "output_type": "stream",
     "text": [
      " 34%|███▎      | 337/1000 [4:17:30<8:35:40, 46.67s/it]"
     ]
    },
    {
     "name": "stdout",
     "output_type": "stream",
     "text": [
      "\t self.next_action: -1\n",
      "\n",
      "\t ----- tradeoff_buffer: 1 ----- \n",
      "\t ----- reward: -0.22902738392381225 for f_star and f_minus: 21.53226638298395 , 44.43500477536517\n",
      "[INFO] [2023-01-24 04:24:21,162] [OpenBox-SPO] Iteration 338, objective value: [32.07873398982761].\n"
     ]
    },
    {
     "name": "stderr",
     "output_type": "stream",
     "text": [
      " 34%|███▍      | 338/1000 [4:18:13<8:23:15, 45.61s/it]"
     ]
    },
    {
     "name": "stdout",
     "output_type": "stream",
     "text": [
      "\t self.next_action: 1\n",
      "\n",
      "\t ----- tradeoff_buffer: 2 ----- \n",
      "\t ----- reward: -0.10546467606843665 for f_star and f_minus: 21.53226638298395 , 32.07873398982761\n",
      "[INFO] [2023-01-24 04:25:08,967] [OpenBox-SPO] Iteration 339, objective value: [31.981995785291375].\n"
     ]
    },
    {
     "name": "stderr",
     "output_type": "stream",
     "text": [
      " 34%|███▍      | 339/1000 [4:19:00<8:29:44, 46.27s/it]"
     ]
    },
    {
     "name": "stdout",
     "output_type": "stream",
     "text": [
      "\t self.next_action: 1\n",
      "\n",
      "\t ----- tradeoff_buffer: 2 ----- \n",
      "\t ----- reward: -0.10449729402307426 for f_star and f_minus: 21.53226638298395 , 31.981995785291375\n",
      "[INFO] [2023-01-24 04:25:56,321] [OpenBox-SPO] Iteration 340, objective value: [40.574835218858084].\n"
     ]
    },
    {
     "name": "stderr",
     "output_type": "stream",
     "text": [
      " 34%|███▍      | 340/1000 [4:19:48<8:32:32, 46.60s/it]"
     ]
    },
    {
     "name": "stdout",
     "output_type": "stream",
     "text": [
      "\t self.next_action: 0\n",
      "\n",
      "\t ----- tradeoff_buffer: 3 ----- \n",
      "\t ----- reward: -0.19042568835874138 for f_star and f_minus: 21.53226638298395 , 40.574835218858084\n",
      "[INFO] [2023-01-24 04:26:44,391] [OpenBox-SPO] Iteration 341, objective value: [31.05112734269764].\n"
     ]
    },
    {
     "name": "stderr",
     "output_type": "stream",
     "text": [
      " 34%|███▍      | 341/1000 [4:20:36<8:36:37, 47.04s/it]"
     ]
    },
    {
     "name": "stdout",
     "output_type": "stream",
     "text": [
      "\t self.next_action: 1\n",
      "\n",
      "\t ----- tradeoff_buffer: 4 ----- \n",
      "\t ----- reward: -0.0951886095971369 for f_star and f_minus: 21.53226638298395 , 31.05112734269764\n",
      "[INFO] [2023-01-24 04:26:44,393] [Advisor] Sample random config. rand_prob=0.100000.\n",
      "[INFO] [2023-01-24 04:27:23,709] [OpenBox-SPO] Iteration 342, objective value: [54.67802545360999].\n"
     ]
    },
    {
     "name": "stderr",
     "output_type": "stream",
     "text": [
      " 34%|███▍      | 342/1000 [4:21:15<8:10:26, 44.72s/it]"
     ]
    },
    {
     "name": "stdout",
     "output_type": "stream",
     "text": [
      "\t self.next_action: 1\n",
      "\n",
      "\t ----- tradeoff_buffer: 4 ----- \n",
      "\t ----- reward: -1 for f_star and f_minus: 21.53226638298395 , 54.67802545360999\n",
      "[INFO] [2023-01-24 04:28:14,958] [OpenBox-SPO] Iteration 343, objective value: [46.6551529112965].\n"
     ]
    },
    {
     "name": "stderr",
     "output_type": "stream",
     "text": [
      " 34%|███▍      | 343/1000 [4:22:06<8:31:08, 46.68s/it]"
     ]
    },
    {
     "name": "stdout",
     "output_type": "stream",
     "text": [
      "\t self.next_action: 0\n",
      "\n",
      "\t ----- tradeoff_buffer: 5 ----- \n",
      "\t ----- reward: -0.2512288652831255 for f_star and f_minus: 21.53226638298395 , 46.6551529112965\n",
      "[INFO] [2023-01-24 04:29:07,058] [OpenBox-SPO] Iteration 344, objective value: [36.78477822625125].\n"
     ]
    },
    {
     "name": "stderr",
     "output_type": "stream",
     "text": [
      " 34%|███▍      | 344/1000 [4:22:59<8:48:08, 48.31s/it]"
     ]
    },
    {
     "name": "stdout",
     "output_type": "stream",
     "text": [
      "\t self.next_action: 1\n",
      "\n",
      "\t ----- tradeoff_buffer: 6 ----- \n",
      "\t ----- reward: -0.152525118432673 for f_star and f_minus: 21.53226638298395 , 36.78477822625125\n",
      "[INFO] [2023-01-24 04:29:50,227] [OpenBox-SPO] Iteration 345, objective value: [32.90192581241972].\n"
     ]
    },
    {
     "name": "stderr",
     "output_type": "stream",
     "text": [
      " 34%|███▍      | 345/1000 [4:23:42<8:30:30, 46.76s/it]"
     ]
    },
    {
     "name": "stdout",
     "output_type": "stream",
     "text": [
      "\t self.next_action: 1\n",
      "\n",
      "\t ----- tradeoff_buffer: 7 ----- \n",
      "\t ----- reward: -0.11369659429435772 for f_star and f_minus: 21.53226638298395 , 32.90192581241972\n",
      "[INFO] [2023-01-24 04:30:40,846] [OpenBox-SPO] Iteration 346, objective value: [27.567816807552845].\n"
     ]
    },
    {
     "name": "stderr",
     "output_type": "stream",
     "text": [
      " 35%|███▍      | 346/1000 [4:24:32<8:42:20, 47.92s/it]"
     ]
    },
    {
     "name": "stdout",
     "output_type": "stream",
     "text": [
      "\t self.next_action: 1\n",
      "\n",
      "\t ----- tradeoff_buffer: 8 ----- \n",
      "\t ----- reward: -0.060355504245689 for f_star and f_minus: 21.53226638298395 , 27.567816807552845\n",
      "[INFO] [2023-01-24 04:30:40,848] [Advisor] Sample random config. rand_prob=0.100000.\n",
      "[INFO] [2023-01-24 04:31:24,507] [OpenBox-SPO] Iteration 347, objective value: [50.88060453146917].\n"
     ]
    },
    {
     "name": "stderr",
     "output_type": "stream",
     "text": [
      " 35%|███▍      | 347/1000 [4:25:16<8:27:37, 46.64s/it]"
     ]
    },
    {
     "name": "stdout",
     "output_type": "stream",
     "text": [
      "\t self.next_action: 1\n",
      "\n",
      "\t ----- tradeoff_buffer: 8 ----- \n",
      "\t ----- reward: -1 for f_star and f_minus: 21.53226638298395 , 50.88060453146917\n",
      "[INFO] [2023-01-24 04:32:09,954] [OpenBox-SPO] Iteration 348, objective value: [31.062420165271476].\n"
     ]
    },
    {
     "name": "stderr",
     "output_type": "stream",
     "text": [
      " 35%|███▍      | 348/1000 [4:26:01<8:22:57, 46.28s/it]"
     ]
    },
    {
     "name": "stdout",
     "output_type": "stream",
     "text": [
      "\t self.next_action: 0\n",
      "\n",
      "\t ----- tradeoff_buffer: 8 ----- \n",
      "\t ----- reward: -0.09530153782287529 for f_star and f_minus: 21.53226638298395 , 31.062420165271476\n",
      "[INFO] [2023-01-24 04:33:00,934] [OpenBox-SPO] Iteration 349, objective value: [26.75750311722547].\n"
     ]
    },
    {
     "name": "stderr",
     "output_type": "stream",
     "text": [
      " 35%|███▍      | 349/1000 [4:26:52<8:37:28, 47.69s/it]"
     ]
    },
    {
     "name": "stdout",
     "output_type": "stream",
     "text": [
      "\t self.next_action: 0\n",
      "\n",
      "\t ----- tradeoff_buffer: 7 ----- \n",
      "\t ----- reward: -0.0522523673424152 for f_star and f_minus: 21.53226638298395 , 26.75750311722547\n",
      "[INFO] [2023-01-24 04:33:00,936] [Advisor] Sample random config. rand_prob=0.100000.\n",
      "[INFO] [2023-01-24 04:33:41,590] [OpenBox-SPO] Iteration 350, objective value: [47.94013716560599].\n"
     ]
    },
    {
     "name": "stderr",
     "output_type": "stream",
     "text": [
      " 35%|███▌      | 350/1000 [4:27:33<8:13:48, 45.58s/it]"
     ]
    },
    {
     "name": "stdout",
     "output_type": "stream",
     "text": [
      "\t self.next_action: -1\n",
      "\n",
      "\t ----- tradeoff_buffer: 6 ----- \n",
      "\t ----- reward: -0.26407870782622045 for f_star and f_minus: 21.53226638298395 , 47.94013716560599\n",
      "[INFO] [2023-01-24 04:34:26,117] [OpenBox-SPO] Iteration 351, objective value: [34.79187429579275].\n"
     ]
    },
    {
     "name": "stderr",
     "output_type": "stream",
     "text": [
      " 35%|███▌      | 351/1000 [4:28:18<8:09:37, 45.27s/it]"
     ]
    },
    {
     "name": "stdout",
     "output_type": "stream",
     "text": [
      "\t self.next_action: -1\n",
      "\n",
      "\t ----- tradeoff_buffer: 7 ----- \n",
      "\t ----- reward: -0.13259607912808805 for f_star and f_minus: 21.53226638298395 , 34.79187429579275\n",
      "[INFO] [2023-01-24 04:35:13,193] [OpenBox-SPO] Iteration 352, objective value: [25.793645892314558].\n"
     ]
    },
    {
     "name": "stderr",
     "output_type": "stream",
     "text": [
      " 35%|███▌      | 352/1000 [4:29:05<8:14:44, 45.81s/it]"
     ]
    },
    {
     "name": "stdout",
     "output_type": "stream",
     "text": [
      "\t self.next_action: 1\n",
      "\n",
      "\t ----- tradeoff_buffer: 8 ----- \n",
      "\t ----- reward: -0.04261379509330612 for f_star and f_minus: 21.53226638298395 , 25.793645892314558\n",
      "[INFO] [2023-01-24 04:36:03,869] [OpenBox-SPO] Iteration 353, objective value: [38.259136753652534].\n"
     ]
    },
    {
     "name": "stderr",
     "output_type": "stream",
     "text": [
      " 35%|███▌      | 353/1000 [4:29:55<8:29:42, 47.27s/it]"
     ]
    },
    {
     "name": "stdout",
     "output_type": "stream",
     "text": [
      "\t self.next_action: 1\n",
      "\n",
      "\t ----- tradeoff_buffer: 8 ----- \n",
      "\t ----- reward: -0.16726870370668587 for f_star and f_minus: 21.53226638298395 , 38.259136753652534\n",
      "[INFO] [2023-01-24 04:37:00,396] [OpenBox-SPO] Iteration 354, objective value: [30.899254994391185].\n"
     ]
    },
    {
     "name": "stderr",
     "output_type": "stream",
     "text": [
      " 35%|███▌      | 354/1000 [4:30:52<8:58:49, 50.05s/it]"
     ]
    },
    {
     "name": "stdout",
     "output_type": "stream",
     "text": [
      "\t self.next_action: 0\n",
      "\n",
      "\t ----- tradeoff_buffer: 8 ----- \n",
      "\t ----- reward: -0.09366988611407237 for f_star and f_minus: 21.53226638298395 , 30.899254994391185\n",
      "[INFO] [2023-01-24 04:37:47,278] [OpenBox-SPO] Iteration 355, objective value: [27.74946007877371].\n"
     ]
    },
    {
     "name": "stderr",
     "output_type": "stream",
     "text": [
      " 36%|███▌      | 355/1000 [4:31:39<8:47:47, 49.10s/it]"
     ]
    },
    {
     "name": "stdout",
     "output_type": "stream",
     "text": [
      "\t self.next_action: 0\n",
      "\n",
      "\t ----- tradeoff_buffer: 7 ----- \n",
      "\t ----- reward: -0.062171936957897606 for f_star and f_minus: 21.53226638298395 , 27.74946007877371\n",
      "[INFO] [2023-01-24 04:38:35,267] [OpenBox-SPO] Iteration 356, objective value: [31.589872828582898].\n"
     ]
    },
    {
     "name": "stderr",
     "output_type": "stream",
     "text": [
      " 36%|███▌      | 356/1000 [4:32:27<8:43:24, 48.76s/it]"
     ]
    },
    {
     "name": "stdout",
     "output_type": "stream",
     "text": [
      "\t self.next_action: -1\n",
      "\n",
      "\t ----- tradeoff_buffer: 7 ----- \n",
      "\t ----- reward: -0.10057606445598952 for f_star and f_minus: 21.53226638298395 , 31.589872828582898\n",
      "[INFO] [2023-01-24 04:39:19,946] [OpenBox-SPO] Iteration 357, objective value: [30.604330626921936].\n"
     ]
    },
    {
     "name": "stderr",
     "output_type": "stream",
     "text": [
      " 36%|███▌      | 357/1000 [4:33:11<8:29:27, 47.54s/it]"
     ]
    },
    {
     "name": "stdout",
     "output_type": "stream",
     "text": [
      "\t self.next_action: 0\n",
      "\n",
      "\t ----- tradeoff_buffer: 6 ----- \n",
      "\t ----- reward: -0.09072064243937991 for f_star and f_minus: 21.53226638298395 , 30.604330626921936\n",
      "[INFO] [2023-01-24 04:40:07,064] [OpenBox-SPO] Iteration 358, objective value: [23.480931530795118].\n"
     ]
    },
    {
     "name": "stderr",
     "output_type": "stream",
     "text": [
      " 36%|███▌      | 358/1000 [4:33:59<8:27:18, 47.41s/it]"
     ]
    },
    {
     "name": "stdout",
     "output_type": "stream",
     "text": [
      "\t self.next_action: -1\n",
      "\n",
      "\t ----- tradeoff_buffer: 7 ----- \n",
      "\t ----- reward: -0.01948665147811171 for f_star and f_minus: 21.53226638298395 , 23.480931530795118\n",
      "[INFO] [2023-01-24 04:40:53,880] [OpenBox-SPO] Iteration 359, objective value: [24.72034417998661].\n"
     ]
    },
    {
     "name": "stderr",
     "output_type": "stream",
     "text": [
      " 36%|███▌      | 359/1000 [4:34:45<8:24:36, 47.23s/it]"
     ]
    },
    {
     "name": "stdout",
     "output_type": "stream",
     "text": [
      "\t self.next_action: 1\n",
      "\n",
      "\t ----- tradeoff_buffer: 7 ----- \n",
      "\t ----- reward: -0.03188077797002664 for f_star and f_minus: 21.53226638298395 , 24.72034417998661\n",
      "[INFO] [2023-01-24 04:41:35,625] [OpenBox-SPO] Iteration 360, objective value: [29.412338875690764].\n"
     ]
    },
    {
     "name": "stderr",
     "output_type": "stream",
     "text": [
      " 36%|███▌      | 360/1000 [4:35:27<8:06:15, 45.59s/it]"
     ]
    },
    {
     "name": "stdout",
     "output_type": "stream",
     "text": [
      "\t self.next_action: 0\n",
      "\n",
      "\t ----- tradeoff_buffer: 7 ----- \n",
      "\t ----- reward: -0.07880072492706816 for f_star and f_minus: 21.53226638298395 , 29.412338875690764\n",
      "[INFO] [2023-01-24 04:42:21,515] [OpenBox-SPO] Iteration 361, objective value: [23.60376576838854].\n"
     ]
    },
    {
     "name": "stderr",
     "output_type": "stream",
     "text": [
      " 36%|███▌      | 361/1000 [4:36:13<8:06:28, 45.68s/it]"
     ]
    },
    {
     "name": "stdout",
     "output_type": "stream",
     "text": [
      "\t self.next_action: 0\n",
      "\n",
      "\t ----- tradeoff_buffer: 6 ----- \n",
      "\t ----- reward: -0.020714993854045932 for f_star and f_minus: 21.53226638298395 , 23.60376576838854\n",
      "[INFO] [2023-01-24 04:43:05,217] [OpenBox-SPO] Iteration 362, objective value: [33.277474910419045].\n"
     ]
    },
    {
     "name": "stderr",
     "output_type": "stream",
     "text": [
      " 36%|███▌      | 362/1000 [4:36:57<7:59:24, 45.09s/it]"
     ]
    },
    {
     "name": "stdout",
     "output_type": "stream",
     "text": [
      "\t self.next_action: -1\n",
      "\n",
      "\t ----- tradeoff_buffer: 7 ----- \n",
      "\t ----- reward: -0.117452085274351 for f_star and f_minus: 21.53226638298395 , 33.277474910419045\n",
      "[INFO] [2023-01-24 04:43:05,219] [Advisor] Sample random config. rand_prob=0.100000.\n",
      "[INFO] [2023-01-24 04:43:55,339] [OpenBox-SPO] Iteration 363, objective value: [48.157894929279855].\n"
     ]
    },
    {
     "name": "stderr",
     "output_type": "stream",
     "text": [
      " 36%|███▋      | 363/1000 [4:37:47<8:14:41, 46.60s/it]"
     ]
    },
    {
     "name": "stdout",
     "output_type": "stream",
     "text": [
      "\t self.next_action: 1\n",
      "\n",
      "\t ----- tradeoff_buffer: 6 ----- \n",
      "\t ----- reward: -0.2662562854629591 for f_star and f_minus: 21.53226638298395 , 48.157894929279855\n",
      "[INFO] [2023-01-24 04:44:42,137] [OpenBox-SPO] Iteration 364, objective value: [29.470284835830242].\n"
     ]
    },
    {
     "name": "stderr",
     "output_type": "stream",
     "text": [
      " 36%|███▋      | 364/1000 [4:38:34<8:14:33, 46.66s/it]"
     ]
    },
    {
     "name": "stdout",
     "output_type": "stream",
     "text": [
      "\t self.next_action: -1\n",
      "\n",
      "\t ----- tradeoff_buffer: 7 ----- \n",
      "\t ----- reward: -0.07938018452846293 for f_star and f_minus: 21.53226638298395 , 29.470284835830242\n",
      "[INFO] [2023-01-24 04:45:24,932] [OpenBox-SPO] Iteration 365, objective value: [32.000072832523585].\n"
     ]
    },
    {
     "name": "stderr",
     "output_type": "stream",
     "text": [
      " 36%|███▋      | 365/1000 [4:39:16<8:01:31, 45.50s/it]"
     ]
    },
    {
     "name": "stdout",
     "output_type": "stream",
     "text": [
      "\t self.next_action: 1\n",
      "\n",
      "\t ----- tradeoff_buffer: 7 ----- \n",
      "\t ----- reward: -0.10467806449539638 for f_star and f_minus: 21.53226638298395 , 32.000072832523585\n",
      "[INFO] [2023-01-24 04:46:13,431] [OpenBox-SPO] Iteration 366, objective value: [25.591995534213964].\n"
     ]
    },
    {
     "name": "stderr",
     "output_type": "stream",
     "text": [
      " 37%|███▋      | 366/1000 [4:40:05<8:10:16, 46.40s/it]"
     ]
    },
    {
     "name": "stdout",
     "output_type": "stream",
     "text": [
      "\t self.next_action: 0\n",
      "\n",
      "\t ----- tradeoff_buffer: 7 ----- \n",
      "\t ----- reward: -0.040597291512300154 for f_star and f_minus: 21.53226638298395 , 25.591995534213964\n",
      "[INFO] [2023-01-24 04:46:58,046] [OpenBox-SPO] Iteration 367, objective value: [27.04059152430682].\n"
     ]
    },
    {
     "name": "stderr",
     "output_type": "stream",
     "text": [
      " 37%|███▋      | 367/1000 [4:40:50<8:03:51, 45.86s/it]"
     ]
    },
    {
     "name": "stdout",
     "output_type": "stream",
     "text": [
      "\t self.next_action: 0\n",
      "\n",
      "\t ----- tradeoff_buffer: 6 ----- \n",
      "\t ----- reward: -0.0550832514132287 for f_star and f_minus: 21.53226638298395 , 27.04059152430682\n",
      "[INFO] [2023-01-24 04:47:46,775] [OpenBox-SPO] Iteration 368, objective value: [26.433436832430843].\n"
     ]
    },
    {
     "name": "stderr",
     "output_type": "stream",
     "text": [
      " 37%|███▋      | 368/1000 [4:41:38<8:12:09, 46.72s/it]"
     ]
    },
    {
     "name": "stdout",
     "output_type": "stream",
     "text": [
      "\t self.next_action: -1\n",
      "\n",
      "\t ----- tradeoff_buffer: 7 ----- \n",
      "\t ----- reward: -0.04901170449446898 for f_star and f_minus: 21.53226638298395 , 26.433436832430843\n",
      "[INFO] [2023-01-24 04:48:38,130] [OpenBox-SPO] Iteration 369, objective value: [25.49880376286994].\n"
     ]
    },
    {
     "name": "stderr",
     "output_type": "stream",
     "text": [
      " 37%|███▋      | 369/1000 [4:42:30<8:25:59, 48.11s/it]"
     ]
    },
    {
     "name": "stdout",
     "output_type": "stream",
     "text": [
      "\t self.next_action: 1\n",
      "\n",
      "\t ----- tradeoff_buffer: 7 ----- \n",
      "\t ----- reward: -0.039665373798859954 for f_star and f_minus: 21.53226638298395 , 25.49880376286994\n",
      "[INFO] [2023-01-24 04:49:25,735] [OpenBox-SPO] Iteration 370, objective value: [28.953395472090406].\n"
     ]
    },
    {
     "name": "stderr",
     "output_type": "stream",
     "text": [
      " 37%|███▋      | 370/1000 [4:43:17<8:23:34, 47.96s/it]"
     ]
    },
    {
     "name": "stdout",
     "output_type": "stream",
     "text": [
      "\t self.next_action: 0\n",
      "\n",
      "\t ----- tradeoff_buffer: 8 ----- \n",
      "\t ----- reward: -0.07421129089106457 for f_star and f_minus: 21.53226638298395 , 28.953395472090406\n",
      "[INFO] [2023-01-24 04:50:12,213] [OpenBox-SPO] Iteration 371, objective value: [25.43410271530452].\n"
     ]
    },
    {
     "name": "stderr",
     "output_type": "stream",
     "text": [
      " 37%|███▋      | 371/1000 [4:44:04<8:18:07, 47.52s/it]"
     ]
    },
    {
     "name": "stdout",
     "output_type": "stream",
     "text": [
      "\t self.next_action: 1\n",
      "\n",
      "\t ----- tradeoff_buffer: 7 ----- \n",
      "\t ----- reward: -0.03901836332320571 for f_star and f_minus: 21.53226638298395 , 25.43410271530452\n",
      "[INFO] [2023-01-24 04:50:12,214] [Advisor] Sample random config. rand_prob=0.100000.\n",
      "[INFO] [2023-01-24 04:50:55,160] [OpenBox-SPO] Iteration 372, objective value: [46.692476952474884].\n"
     ]
    },
    {
     "name": "stderr",
     "output_type": "stream",
     "text": [
      " 37%|███▋      | 372/1000 [4:44:47<8:02:59, 46.15s/it]"
     ]
    },
    {
     "name": "stdout",
     "output_type": "stream",
     "text": [
      "\t self.next_action: -1\n",
      "\n",
      "\t ----- tradeoff_buffer: 6 ----- \n",
      "\t ----- reward: -0.2516021056949094 for f_star and f_minus: 21.53226638298395 , 46.692476952474884\n",
      "[INFO] [2023-01-24 04:51:41,717] [OpenBox-SPO] Iteration 373, objective value: [32.327552207245986].\n"
     ]
    },
    {
     "name": "stderr",
     "output_type": "stream",
     "text": [
      " 37%|███▋      | 373/1000 [4:45:33<8:03:30, 46.27s/it]"
     ]
    },
    {
     "name": "stdout",
     "output_type": "stream",
     "text": [
      "\t self.next_action: -1\n",
      "\n",
      "\t ----- tradeoff_buffer: 7 ----- \n",
      "\t ----- reward: -0.10795285824262038 for f_star and f_minus: 21.53226638298395 , 32.327552207245986\n",
      "[INFO] [2023-01-24 04:52:26,867] [OpenBox-SPO] Iteration 374, objective value: [32.51125370420776].\n"
     ]
    },
    {
     "name": "stderr",
     "output_type": "stream",
     "text": [
      " 37%|███▋      | 374/1000 [4:46:18<7:59:14, 45.93s/it]"
     ]
    },
    {
     "name": "stdout",
     "output_type": "stream",
     "text": [
      "\t self.next_action: 1\n",
      "\n",
      "\t ----- tradeoff_buffer: 7 ----- \n",
      "\t ----- reward: -0.10978987321223813 for f_star and f_minus: 21.53226638298395 , 32.51125370420776\n",
      "[INFO] [2023-01-24 04:53:12,974] [OpenBox-SPO] Iteration 375, objective value: [37.66078923917687].\n"
     ]
    },
    {
     "name": "stderr",
     "output_type": "stream",
     "text": [
      " 38%|███▊      | 375/1000 [4:47:04<7:59:00, 45.99s/it]"
     ]
    },
    {
     "name": "stdout",
     "output_type": "stream",
     "text": [
      "\t self.next_action: 0\n",
      "\n",
      "\t ----- tradeoff_buffer: 7 ----- \n",
      "\t ----- reward: -0.16128522856192926 for f_star and f_minus: 21.53226638298395 , 37.66078923917687\n",
      "[INFO] [2023-01-24 04:53:57,939] [OpenBox-SPO] Iteration 376, objective value: [27.79417453067647].\n"
     ]
    },
    {
     "name": "stderr",
     "output_type": "stream",
     "text": [
      " 38%|███▊      | 376/1000 [4:47:49<7:55:03, 45.68s/it]"
     ]
    },
    {
     "name": "stdout",
     "output_type": "stream",
     "text": [
      "\t self.next_action: 0\n",
      "\n",
      "\t ----- tradeoff_buffer: 6 ----- \n",
      "\t ----- reward: -0.06261908147692527 for f_star and f_minus: 21.53226638298395 , 27.79417453067647\n",
      "[INFO] [2023-01-24 04:54:42,969] [OpenBox-SPO] Iteration 377, objective value: [37.76102547750069].\n"
     ]
    },
    {
     "name": "stderr",
     "output_type": "stream",
     "text": [
      " 38%|███▊      | 377/1000 [4:48:34<7:52:16, 45.48s/it]"
     ]
    },
    {
     "name": "stdout",
     "output_type": "stream",
     "text": [
      "\t self.next_action: -1\n",
      "\n",
      "\t ----- tradeoff_buffer: 7 ----- \n",
      "\t ----- reward: -0.1622875909451674 for f_star and f_minus: 21.53226638298395 , 37.76102547750069\n",
      "[INFO] [2023-01-24 04:55:29,630] [OpenBox-SPO] Iteration 378, objective value: [30.054537733482505].\n"
     ]
    },
    {
     "name": "stderr",
     "output_type": "stream",
     "text": [
      " 38%|███▊      | 378/1000 [4:49:21<7:55:10, 45.84s/it]"
     ]
    },
    {
     "name": "stdout",
     "output_type": "stream",
     "text": [
      "\t self.next_action: 1\n",
      "\n",
      "\t ----- tradeoff_buffer: 7 ----- \n",
      "\t ----- reward: -0.08522271350498559 for f_star and f_minus: 21.53226638298395 , 30.054537733482505\n",
      "[INFO] [2023-01-24 04:56:19,293] [OpenBox-SPO] Iteration 379, objective value: [22.559767916679064].\n"
     ]
    },
    {
     "name": "stderr",
     "output_type": "stream",
     "text": [
      " 38%|███▊      | 379/1000 [4:50:11<8:06:17, 46.99s/it]"
     ]
    },
    {
     "name": "stdout",
     "output_type": "stream",
     "text": [
      "\t self.next_action: 0\n",
      "\n",
      "\t ----- tradeoff_buffer: 6 ----- \n",
      "\t ----- reward: -0.01027501533695116 for f_star and f_minus: 21.53226638298395 , 22.559767916679064\n",
      "[INFO] [2023-01-24 04:57:03,873] [OpenBox-SPO] Iteration 380, objective value: [26.444974400329116].\n"
     ]
    },
    {
     "name": "stderr",
     "output_type": "stream",
     "text": [
      " 38%|███▊      | 380/1000 [4:50:55<7:58:03, 46.26s/it]"
     ]
    },
    {
     "name": "stdout",
     "output_type": "stream",
     "text": [
      "\t self.next_action: -1\n",
      "\n",
      "\t ----- tradeoff_buffer: 7 ----- \n",
      "\t ----- reward: -0.04912708017345166 for f_star and f_minus: 21.53226638298395 , 26.444974400329116\n",
      "[INFO] [2023-01-24 04:57:53,041] [OpenBox-SPO] Iteration 381, objective value: [23.223297866919353].\n"
     ]
    },
    {
     "name": "stderr",
     "output_type": "stream",
     "text": [
      " 38%|███▊      | 381/1000 [4:51:45<8:06:16, 47.13s/it]"
     ]
    },
    {
     "name": "stdout",
     "output_type": "stream",
     "text": [
      "\t self.next_action: 1\n",
      "\n",
      "\t ----- tradeoff_buffer: 8 ----- \n",
      "\t ----- reward: -0.016910314839354068 for f_star and f_minus: 21.53226638298395 , 23.223297866919353\n",
      "[INFO] [2023-01-24 04:58:42,277] [OpenBox-SPO] Iteration 382, objective value: [26.049229059639302].\n"
     ]
    },
    {
     "name": "stderr",
     "output_type": "stream",
     "text": [
      " 38%|███▊      | 382/1000 [4:52:34<8:11:58, 47.77s/it]"
     ]
    },
    {
     "name": "stdout",
     "output_type": "stream",
     "text": [
      "\t self.next_action: 1\n",
      "\n",
      "\t ----- tradeoff_buffer: 8 ----- \n",
      "\t ----- reward: -0.04516962676655353 for f_star and f_minus: 21.53226638298395 , 26.049229059639302\n",
      "[INFO] [2023-01-24 04:59:28,204] [OpenBox-SPO] Iteration 383, objective value: [27.277139381923405].\n"
     ]
    },
    {
     "name": "stderr",
     "output_type": "stream",
     "text": [
      " 38%|███▊      | 383/1000 [4:53:20<8:05:30, 47.21s/it]"
     ]
    },
    {
     "name": "stdout",
     "output_type": "stream",
     "text": [
      "\t self.next_action: 0\n",
      "\n",
      "\t ----- tradeoff_buffer: 9 ----- \n",
      "\t ----- reward: -0.05744872998939457 for f_star and f_minus: 21.53226638298395 , 27.277139381923405\n",
      "[INFO] [2023-01-24 05:00:16,858] [OpenBox-SPO] Iteration 384, objective value: [27.95545438707731].\n"
     ]
    },
    {
     "name": "stderr",
     "output_type": "stream",
     "text": [
      " 38%|███▊      | 384/1000 [4:54:08<8:09:09, 47.65s/it]"
     ]
    },
    {
     "name": "stdout",
     "output_type": "stream",
     "text": [
      "\t self.next_action: 1\n",
      "\n",
      "\t ----- tradeoff_buffer: 10 ----- \n",
      "\t ----- reward: -0.06423188004093364 for f_star and f_minus: 21.53226638298395 , 27.95545438707731\n",
      "[INFO] [2023-01-24 05:01:07,281] [OpenBox-SPO] Iteration 385, objective value: [29.807044129236473].\n"
     ]
    },
    {
     "name": "stderr",
     "output_type": "stream",
     "text": [
      " 38%|███▊      | 385/1000 [4:54:59<8:16:54, 48.48s/it]"
     ]
    },
    {
     "name": "stdout",
     "output_type": "stream",
     "text": [
      "\t self.next_action: 1\n",
      "\n",
      "\t ----- tradeoff_buffer: 9 ----- \n",
      "\t ----- reward: -0.08274777746252523 for f_star and f_minus: 21.53226638298395 , 29.807044129236473\n",
      "[INFO] [2023-01-24 05:01:53,649] [OpenBox-SPO] Iteration 386, objective value: [29.879282201790602].\n"
     ]
    },
    {
     "name": "stderr",
     "output_type": "stream",
     "text": [
      " 39%|███▊      | 386/1000 [4:55:45<8:09:37, 47.85s/it]"
     ]
    },
    {
     "name": "stdout",
     "output_type": "stream",
     "text": [
      "\t self.next_action: -1\n",
      "\n",
      "\t ----- tradeoff_buffer: 10 ----- \n",
      "\t ----- reward: -0.08347015818806655 for f_star and f_minus: 21.53226638298395 , 29.879282201790602\n",
      "[INFO] [2023-01-24 05:02:36,262] [OpenBox-SPO] Iteration 387, objective value: [30.686787068386877].\n"
     ]
    },
    {
     "name": "stderr",
     "output_type": "stream",
     "text": [
      " 39%|███▊      | 387/1000 [4:56:28<7:52:47, 46.28s/it]"
     ]
    },
    {
     "name": "stdout",
     "output_type": "stream",
     "text": [
      "\t self.next_action: 1\n",
      "\n",
      "\t ----- tradeoff_buffer: 9 ----- \n",
      "\t ----- reward: -0.09154520685402931 for f_star and f_minus: 21.53226638298395 , 30.686787068386877\n",
      "[INFO] [2023-01-24 05:03:20,200] [OpenBox-SPO] Iteration 388, objective value: [35.90821072101721].\n"
     ]
    },
    {
     "name": "stderr",
     "output_type": "stream",
     "text": [
      " 39%|███▉      | 388/1000 [4:57:12<7:44:51, 45.57s/it]"
     ]
    },
    {
     "name": "stdout",
     "output_type": "stream",
     "text": [
      "\t self.next_action: -1\n",
      "\n",
      "\t ----- tradeoff_buffer: 10 ----- \n",
      "\t ----- reward: -0.14375944338033267 for f_star and f_minus: 21.53226638298395 , 35.90821072101721\n",
      "[INFO] [2023-01-24 05:04:07,419] [OpenBox-SPO] Iteration 389, objective value: [30.951424266912525].\n"
     ]
    },
    {
     "name": "stderr",
     "output_type": "stream",
     "text": [
      " 39%|███▉      | 389/1000 [4:57:59<7:49:07, 46.07s/it]"
     ]
    },
    {
     "name": "stdout",
     "output_type": "stream",
     "text": [
      "\t self.next_action: 1\n",
      "\n",
      "\t ----- tradeoff_buffer: 9 ----- \n",
      "\t ----- reward: -0.09419157883928578 for f_star and f_minus: 21.53226638298395 , 30.951424266912525\n",
      "[INFO] [2023-01-24 05:04:53,529] [OpenBox-SPO] Iteration 390, objective value: [24.91204917194416].\n"
     ]
    },
    {
     "name": "stderr",
     "output_type": "stream",
     "text": [
      " 39%|███▉      | 390/1000 [4:58:45<7:48:29, 46.08s/it]"
     ]
    },
    {
     "name": "stdout",
     "output_type": "stream",
     "text": [
      "\t self.next_action: -1\n",
      "\n",
      "\t ----- tradeoff_buffer: 10 ----- \n",
      "\t ----- reward: -0.033797827889602144 for f_star and f_minus: 21.53226638298395 , 24.91204917194416\n",
      "[INFO] [2023-01-24 05:05:39,050] [OpenBox-SPO] Iteration 391, objective value: [23.234770987457566].\n"
     ]
    },
    {
     "name": "stderr",
     "output_type": "stream",
     "text": [
      " 39%|███▉      | 391/1000 [4:59:31<7:46:00, 45.91s/it]"
     ]
    },
    {
     "name": "stdout",
     "output_type": "stream",
     "text": [
      "\t self.next_action: 1\n",
      "\n",
      "\t ----- tradeoff_buffer: 9 ----- \n",
      "\t ----- reward: -0.017025046044736175 for f_star and f_minus: 21.53226638298395 , 23.234770987457566\n",
      "[INFO] [2023-01-24 05:06:31,255] [OpenBox-SPO] Iteration 392, objective value: [43.047933468029754].\n"
     ]
    },
    {
     "name": "stderr",
     "output_type": "stream",
     "text": [
      " 39%|███▉      | 392/1000 [5:00:23<8:04:22, 47.80s/it]"
     ]
    },
    {
     "name": "stdout",
     "output_type": "stream",
     "text": [
      "\t self.next_action: -1\n",
      "\n",
      "\t ----- tradeoff_buffer: 10 ----- \n",
      "\t ----- reward: -0.21515667085045806 for f_star and f_minus: 21.53226638298395 , 43.047933468029754\n",
      "[INFO] [2023-01-24 05:07:16,146] [OpenBox-SPO] Iteration 393, objective value: [29.782338748127742].\n"
     ]
    },
    {
     "name": "stderr",
     "output_type": "stream",
     "text": [
      " 39%|███▉      | 393/1000 [5:01:08<7:54:45, 46.93s/it]"
     ]
    },
    {
     "name": "stdout",
     "output_type": "stream",
     "text": [
      "\t self.next_action: 1\n",
      "\n",
      "\t ----- tradeoff_buffer: 9 ----- \n",
      "\t ----- reward: -0.08250072365143793 for f_star and f_minus: 21.53226638298395 , 29.782338748127742\n",
      "[INFO] [2023-01-24 05:07:58,919] [OpenBox-SPO] Iteration 394, objective value: [29.782173819458777].\n"
     ]
    },
    {
     "name": "stderr",
     "output_type": "stream",
     "text": [
      " 39%|███▉      | 394/1000 [5:01:50<7:41:22, 45.68s/it]"
     ]
    },
    {
     "name": "stdout",
     "output_type": "stream",
     "text": [
      "\t self.next_action: -1\n",
      "\n",
      "\t ----- tradeoff_buffer: 10 ----- \n",
      "\t ----- reward: -0.08249907436474832 for f_star and f_minus: 21.53226638298395 , 29.782173819458777\n",
      "[INFO] [2023-01-24 05:07:58,920] [Advisor] Sample random config. rand_prob=0.100000.\n",
      "[INFO] [2023-01-24 05:08:29,375] [OpenBox-SPO] Iteration 395, objective value: [58.42873852547129].\n"
     ]
    },
    {
     "name": "stderr",
     "output_type": "stream",
     "text": [
      " 40%|███▉      | 395/1000 [5:02:21<6:54:33, 41.11s/it]"
     ]
    },
    {
     "name": "stdout",
     "output_type": "stream",
     "text": [
      "\t self.next_action: 1\n",
      "\n",
      "\t ----- tradeoff_buffer: 9 ----- \n",
      "\t ----- reward: -1 for f_star and f_minus: 21.53226638298395 , 58.42873852547129\n",
      "[INFO] [2023-01-24 05:08:29,377] [Advisor] Sample random config. rand_prob=0.100000.\n",
      "[INFO] [2023-01-24 05:09:12,280] [OpenBox-SPO] Iteration 396, objective value: [42.39501277781208].\n"
     ]
    },
    {
     "name": "stderr",
     "output_type": "stream",
     "text": [
      " 40%|███▉      | 396/1000 [5:03:04<6:59:17, 41.65s/it]"
     ]
    },
    {
     "name": "stdout",
     "output_type": "stream",
     "text": [
      "\t self.next_action: -1\n",
      "\n",
      "\t ----- tradeoff_buffer: 10 ----- \n",
      "\t ----- reward: -0.20862746394828133 for f_star and f_minus: 21.53226638298395 , 42.39501277781208\n",
      "[INFO] [2023-01-24 05:09:58,228] [OpenBox-SPO] Iteration 397, objective value: [33.838981441758534].\n"
     ]
    },
    {
     "name": "stderr",
     "output_type": "stream",
     "text": [
      " 40%|███▉      | 397/1000 [5:03:50<7:11:32, 42.94s/it]"
     ]
    },
    {
     "name": "stdout",
     "output_type": "stream",
     "text": [
      "\t self.next_action: 1\n",
      "\n",
      "\t ----- tradeoff_buffer: 10 ----- \n",
      "\t ----- reward: -0.1230671505877459 for f_star and f_minus: 21.53226638298395 , 33.838981441758534\n",
      "[INFO] [2023-01-24 05:10:45,998] [OpenBox-SPO] Iteration 398, objective value: [25.335747292904614].\n"
     ]
    },
    {
     "name": "stderr",
     "output_type": "stream",
     "text": [
      " 40%|███▉      | 398/1000 [5:04:38<7:25:22, 44.39s/it]"
     ]
    },
    {
     "name": "stdout",
     "output_type": "stream",
     "text": [
      "\t self.next_action: 0\n",
      "\n",
      "\t ----- tradeoff_buffer: 10 ----- \n",
      "\t ----- reward: -0.03803480909920667 for f_star and f_minus: 21.53226638298395 , 25.335747292904614\n",
      "[INFO] [2023-01-24 05:11:33,462] [OpenBox-SPO] Iteration 399, objective value: [24.740457710351137].\n"
     ]
    },
    {
     "name": "stderr",
     "output_type": "stream",
     "text": [
      " 40%|███▉      | 399/1000 [5:05:25<7:33:52, 45.31s/it]"
     ]
    },
    {
     "name": "stdout",
     "output_type": "stream",
     "text": [
      "\t self.next_action: 0\n",
      "\n",
      "\t ----- tradeoff_buffer: 10 ----- \n",
      "\t ----- reward: -0.03208191327367191 for f_star and f_minus: 21.53226638298395 , 24.740457710351137\n",
      "[INFO] [2023-01-24 05:12:18,522] [OpenBox-SPO] Iteration 400, objective value: [29.50803395554287].\n"
     ]
    },
    {
     "name": "stderr",
     "output_type": "stream",
     "text": [
      " 40%|████      | 400/1000 [5:06:10<7:32:21, 45.24s/it]"
     ]
    },
    {
     "name": "stdout",
     "output_type": "stream",
     "text": [
      "\t self.next_action: 0\n",
      "\n",
      "\t ----- tradeoff_buffer: 10 ----- \n",
      "\t ----- reward: -0.07975767572558926 for f_star and f_minus: 21.53226638298395 , 29.50803395554287\n",
      "[INFO] [2023-01-24 05:13:05,035] [OpenBox-SPO] Iteration 401, objective value: [36.45989763132162].\n"
     ]
    },
    {
     "name": "stderr",
     "output_type": "stream",
     "text": [
      " 40%|████      | 401/1000 [5:06:57<7:35:25, 45.62s/it]"
     ]
    },
    {
     "name": "stdout",
     "output_type": "stream",
     "text": [
      "\t self.next_action: 0\n",
      "\n",
      "\t ----- tradeoff_buffer: 10 ----- \n",
      "\t ----- reward: -0.14927631248337672 for f_star and f_minus: 21.53226638298395 , 36.45989763132162\n",
      "[INFO] [2023-01-24 05:13:56,848] [OpenBox-SPO] Iteration 402, objective value: [30.87723647818011].\n"
     ]
    },
    {
     "name": "stderr",
     "output_type": "stream",
     "text": [
      " 40%|████      | 402/1000 [5:07:48<7:53:11, 47.48s/it]"
     ]
    },
    {
     "name": "stdout",
     "output_type": "stream",
     "text": [
      "\t self.next_action: 1\n",
      "\n",
      "\t ----- tradeoff_buffer: 9 ----- \n",
      "\t ----- reward: -0.09344970095196162 for f_star and f_minus: 21.53226638298395 , 30.87723647818011\n",
      "[INFO] [2023-01-24 05:14:41,214] [OpenBox-SPO] Iteration 403, objective value: [37.33782852351031].\n"
     ]
    },
    {
     "name": "stderr",
     "output_type": "stream",
     "text": [
      " 40%|████      | 403/1000 [5:08:33<7:43:06, 46.54s/it]"
     ]
    },
    {
     "name": "stdout",
     "output_type": "stream",
     "text": [
      "\t self.next_action: -1\n",
      "\n",
      "\t ----- tradeoff_buffer: 10 ----- \n",
      "\t ----- reward: -0.1580556214052636 for f_star and f_minus: 21.53226638298395 , 37.33782852351031\n",
      "[INFO] [2023-01-24 05:15:31,332] [OpenBox-SPO] Iteration 404, objective value: [33.46840044442149].\n"
     ]
    },
    {
     "name": "stderr",
     "output_type": "stream",
     "text": [
      " 40%|████      | 404/1000 [5:09:23<7:52:59, 47.62s/it]"
     ]
    },
    {
     "name": "stdout",
     "output_type": "stream",
     "text": [
      "\t self.next_action: 1\n",
      "\n",
      "\t ----- tradeoff_buffer: 10 ----- \n",
      "\t ----- reward: -0.11936134061437545 for f_star and f_minus: 21.53226638298395 , 33.46840044442149\n",
      "[INFO] [2023-01-24 05:16:16,338] [OpenBox-SPO] Iteration 405, objective value: [27.044933023771733].\n"
     ]
    },
    {
     "name": "stderr",
     "output_type": "stream",
     "text": [
      " 40%|████      | 405/1000 [5:10:08<7:44:25, 46.83s/it]"
     ]
    },
    {
     "name": "stdout",
     "output_type": "stream",
     "text": [
      "\t self.next_action: 0\n",
      "\n",
      "\t ----- tradeoff_buffer: 9 ----- \n",
      "\t ----- reward: -0.05512666640787786 for f_star and f_minus: 21.53226638298395 , 27.044933023771733\n",
      "[INFO] [2023-01-24 05:17:01,871] [OpenBox-SPO] Iteration 406, objective value: [27.277512226755377].\n"
     ]
    },
    {
     "name": "stderr",
     "output_type": "stream",
     "text": [
      " 41%|████      | 406/1000 [5:10:53<7:39:47, 46.44s/it]"
     ]
    },
    {
     "name": "stdout",
     "output_type": "stream",
     "text": [
      "\t self.next_action: -1\n",
      "\n",
      "\t ----- tradeoff_buffer: 10 ----- \n",
      "\t ----- reward: -0.05745245843771432 for f_star and f_minus: 21.53226638298395 , 27.277512226755377\n",
      "[INFO] [2023-01-24 05:17:46,768] [OpenBox-SPO] Iteration 407, objective value: [27.74408662062683].\n"
     ]
    },
    {
     "name": "stderr",
     "output_type": "stream",
     "text": [
      " 41%|████      | 407/1000 [5:11:38<7:34:25, 45.98s/it]"
     ]
    },
    {
     "name": "stdout",
     "output_type": "stream",
     "text": [
      "\t self.next_action: 1\n",
      "\n",
      "\t ----- tradeoff_buffer: 10 ----- \n",
      "\t ----- reward: -0.062118202376428816 for f_star and f_minus: 21.53226638298395 , 27.74408662062683\n",
      "[INFO] [2023-01-24 05:18:29,653] [OpenBox-SPO] Iteration 408, objective value: [25.56382898849401].\n"
     ]
    },
    {
     "name": "stderr",
     "output_type": "stream",
     "text": [
      " 41%|████      | 408/1000 [5:12:21<7:24:30, 45.05s/it]"
     ]
    },
    {
     "name": "stdout",
     "output_type": "stream",
     "text": [
      "\t self.next_action: 0\n",
      "\n",
      "\t ----- tradeoff_buffer: 10 ----- \n",
      "\t ----- reward: -0.04031562605510061 for f_star and f_minus: 21.53226638298395 , 25.56382898849401\n",
      "[INFO] [2023-01-24 05:19:14,164] [OpenBox-SPO] Iteration 409, objective value: [27.047014971377735].\n"
     ]
    },
    {
     "name": "stderr",
     "output_type": "stream",
     "text": [
      " 41%|████      | 409/1000 [5:13:06<7:22:09, 44.89s/it]"
     ]
    },
    {
     "name": "stdout",
     "output_type": "stream",
     "text": [
      "\t self.next_action: 0\n",
      "\n",
      "\t ----- tradeoff_buffer: 9 ----- \n",
      "\t ----- reward: -0.05514748588393789 for f_star and f_minus: 21.53226638298395 , 27.047014971377735\n",
      "[INFO] [2023-01-24 05:19:57,903] [OpenBox-SPO] Iteration 410, objective value: [34.9067732976078].\n"
     ]
    },
    {
     "name": "stderr",
     "output_type": "stream",
     "text": [
      " 41%|████      | 410/1000 [5:13:49<7:18:00, 44.54s/it]"
     ]
    },
    {
     "name": "stdout",
     "output_type": "stream",
     "text": [
      "\t self.next_action: -1\n",
      "\n",
      "\t ----- tradeoff_buffer: 10 ----- \n",
      "\t ----- reward: -0.13374506914623854 for f_star and f_minus: 21.53226638298395 , 34.9067732976078\n",
      "[INFO] [2023-01-24 05:20:44,491] [OpenBox-SPO] Iteration 411, objective value: [25.225194581563983].\n"
     ]
    },
    {
     "name": "stderr",
     "output_type": "stream",
     "text": [
      " 41%|████      | 411/1000 [5:14:36<7:23:17, 45.16s/it]"
     ]
    },
    {
     "name": "stdout",
     "output_type": "stream",
     "text": [
      "\t self.next_action: 1\n",
      "\n",
      "\t ----- tradeoff_buffer: 9 ----- \n",
      "\t ----- reward: -0.03692928198580034 for f_star and f_minus: 21.53226638298395 , 25.225194581563983\n",
      "[INFO] [2023-01-24 05:20:44,493] [Advisor] Sample random config. rand_prob=0.100000.\n",
      "[INFO] [2023-01-24 05:21:22,868] [OpenBox-SPO] Iteration 412, objective value: [50.09159778659473].\n"
     ]
    },
    {
     "name": "stderr",
     "output_type": "stream",
     "text": [
      " 41%|████      | 412/1000 [5:15:14<7:02:36, 43.12s/it]"
     ]
    },
    {
     "name": "stdout",
     "output_type": "stream",
     "text": [
      "\t self.next_action: -1\n",
      "\n",
      "\t ----- tradeoff_buffer: 10 ----- \n",
      "\t ----- reward: -1 for f_star and f_minus: 21.53226638298395 , 50.09159778659473\n",
      "[INFO] [2023-01-24 05:21:22,870] [Advisor] Sample random config. rand_prob=0.100000.\n",
      "[INFO] [2023-01-24 05:22:04,339] [OpenBox-SPO] Iteration 413, objective value: [58.69539435126761].\n"
     ]
    },
    {
     "name": "stderr",
     "output_type": "stream",
     "text": [
      " 41%|████▏     | 413/1000 [5:15:56<6:57:02, 42.63s/it]"
     ]
    },
    {
     "name": "stdout",
     "output_type": "stream",
     "text": [
      "\t self.next_action: 1\n",
      "\n",
      "\t ----- tradeoff_buffer: 10 ----- \n",
      "\t ----- reward: -1 for f_star and f_minus: 21.53226638298395 , 58.69539435126761\n",
      "[INFO] [2023-01-24 05:22:46,146] [OpenBox-SPO] Iteration 414, objective value: [32.58035684398581].\n"
     ]
    },
    {
     "name": "stderr",
     "output_type": "stream",
     "text": [
      " 41%|████▏     | 414/1000 [5:16:38<6:53:55, 42.38s/it]"
     ]
    },
    {
     "name": "stdout",
     "output_type": "stream",
     "text": [
      "\t self.next_action: 0\n",
      "\n",
      "\t ----- tradeoff_buffer: 9 ----- \n",
      "\t ----- reward: -0.11048090461001867 for f_star and f_minus: 21.53226638298395 , 32.58035684398581\n",
      "[INFO] [2023-01-24 05:23:35,231] [OpenBox-SPO] Iteration 415, objective value: [23.041355010715776].\n"
     ]
    },
    {
     "name": "stderr",
     "output_type": "stream",
     "text": [
      " 42%|████▏     | 415/1000 [5:17:27<7:12:49, 44.39s/it]"
     ]
    },
    {
     "name": "stdout",
     "output_type": "stream",
     "text": [
      "\t self.next_action: -1\n",
      "\n",
      "\t ----- tradeoff_buffer: 8 ----- \n",
      "\t ----- reward: -0.015090886277318277 for f_star and f_minus: 21.53226638298395 , 23.041355010715776\n",
      "[INFO] [2023-01-24 05:24:22,750] [OpenBox-SPO] Iteration 416, objective value: [23.962936146874057].\n"
     ]
    },
    {
     "name": "stderr",
     "output_type": "stream",
     "text": [
      " 42%|████▏     | 416/1000 [5:18:14<7:21:12, 45.33s/it]"
     ]
    },
    {
     "name": "stdout",
     "output_type": "stream",
     "text": [
      "\t self.next_action: -1\n",
      "\n",
      "\t ----- tradeoff_buffer: 8 ----- \n",
      "\t ----- reward: -0.024306697638901087 for f_star and f_minus: 21.53226638298395 , 23.962936146874057\n",
      "[INFO] [2023-01-24 05:25:12,280] [OpenBox-SPO] Iteration 417, objective value: [27.088478781620694].\n"
     ]
    },
    {
     "name": "stderr",
     "output_type": "stream",
     "text": [
      " 42%|████▏     | 417/1000 [5:19:04<7:32:42, 46.59s/it]"
     ]
    },
    {
     "name": "stdout",
     "output_type": "stream",
     "text": [
      "\t self.next_action: 0\n",
      "\n",
      "\t ----- tradeoff_buffer: 8 ----- \n",
      "\t ----- reward: -0.05556212398636748 for f_star and f_minus: 21.53226638298395 , 27.088478781620694\n",
      "[INFO] [2023-01-24 05:25:53,272] [OpenBox-SPO] Iteration 418, objective value: [27.53697023268697].\n"
     ]
    },
    {
     "name": "stderr",
     "output_type": "stream",
     "text": [
      " 42%|████▏     | 418/1000 [5:19:45<7:15:38, 44.91s/it]"
     ]
    },
    {
     "name": "stdout",
     "output_type": "stream",
     "text": [
      "\t self.next_action: 0\n",
      "\n",
      "\t ----- tradeoff_buffer: 8 ----- \n",
      "\t ----- reward: -0.06004703849703022 for f_star and f_minus: 21.53226638298395 , 27.53697023268697\n",
      "[INFO] [2023-01-24 05:26:38,125] [OpenBox-SPO] Iteration 419, objective value: [30.30892834784889].\n"
     ]
    },
    {
     "name": "stderr",
     "output_type": "stream",
     "text": [
      " 42%|████▏     | 419/1000 [5:20:30<7:14:43, 44.89s/it]"
     ]
    },
    {
     "name": "stdout",
     "output_type": "stream",
     "text": [
      "\t self.next_action: 0\n",
      "\n",
      "\t ----- tradeoff_buffer: 8 ----- \n",
      "\t ----- reward: -0.08776661964864943 for f_star and f_minus: 21.53226638298395 , 30.30892834784889\n",
      "[INFO] [2023-01-24 05:27:25,453] [OpenBox-SPO] Iteration 420, objective value: [30.190443177071387].\n"
     ]
    },
    {
     "name": "stderr",
     "output_type": "stream",
     "text": [
      " 42%|████▏     | 420/1000 [5:21:17<7:21:01, 45.62s/it]"
     ]
    },
    {
     "name": "stdout",
     "output_type": "stream",
     "text": [
      "\t self.next_action: 0\n",
      "\n",
      "\t ----- tradeoff_buffer: 8 ----- \n",
      "\t ----- reward: -0.08658176794087438 for f_star and f_minus: 21.53226638298395 , 30.190443177071387\n",
      "[INFO] [2023-01-24 05:28:12,414] [OpenBox-SPO] Iteration 421, objective value: [23.64670491201025].\n"
     ]
    },
    {
     "name": "stderr",
     "output_type": "stream",
     "text": [
      " 42%|████▏     | 421/1000 [5:22:04<7:24:08, 46.02s/it]"
     ]
    },
    {
     "name": "stdout",
     "output_type": "stream",
     "text": [
      "\t self.next_action: 0\n",
      "\n",
      "\t ----- tradeoff_buffer: 9 ----- \n",
      "\t ----- reward: -0.021144385290263024 for f_star and f_minus: 21.53226638298395 , 23.64670491201025\n",
      "[INFO] [2023-01-24 05:28:57,437] [OpenBox-SPO] Iteration 422, objective value: [28.09468449268691].\n"
     ]
    },
    {
     "name": "stderr",
     "output_type": "stream",
     "text": [
      " 42%|████▏     | 422/1000 [5:22:49<7:20:28, 45.72s/it]"
     ]
    },
    {
     "name": "stdout",
     "output_type": "stream",
     "text": [
      "\t self.next_action: 1\n",
      "\n",
      "\t ----- tradeoff_buffer: 8 ----- \n",
      "\t ----- reward: -0.06562418109702964 for f_star and f_minus: 21.53226638298395 , 28.09468449268691\n",
      "[INFO] [2023-01-24 05:29:45,144] [OpenBox-SPO] Iteration 423, objective value: [24.649995951666853].\n"
     ]
    },
    {
     "name": "stderr",
     "output_type": "stream",
     "text": [
      " 42%|████▏     | 423/1000 [5:23:37<7:25:26, 46.32s/it]"
     ]
    },
    {
     "name": "stdout",
     "output_type": "stream",
     "text": [
      "\t self.next_action: -1\n",
      "\n",
      "\t ----- tradeoff_buffer: 8 ----- \n",
      "\t ----- reward: -0.03117729568682906 for f_star and f_minus: 21.53226638298395 , 24.649995951666853\n",
      "[INFO] [2023-01-24 05:30:30,264] [OpenBox-SPO] Iteration 424, objective value: [30.260501297670515].\n"
     ]
    },
    {
     "name": "stderr",
     "output_type": "stream",
     "text": [
      " 42%|████▏     | 424/1000 [5:24:22<7:21:12, 45.96s/it]"
     ]
    },
    {
     "name": "stdout",
     "output_type": "stream",
     "text": [
      "\t self.next_action: 0\n",
      "\n",
      "\t ----- tradeoff_buffer: 9 ----- \n",
      "\t ----- reward: -0.0872823491468657 for f_star and f_minus: 21.53226638298395 , 30.260501297670515\n",
      "[INFO] [2023-01-24 05:31:15,054] [OpenBox-SPO] Iteration 425, objective value: [27.809375553092494].\n"
     ]
    },
    {
     "name": "stderr",
     "output_type": "stream",
     "text": [
      " 42%|████▎     | 425/1000 [5:25:07<7:17:04, 45.61s/it]"
     ]
    },
    {
     "name": "stdout",
     "output_type": "stream",
     "text": [
      "\t self.next_action: 1\n",
      "\n",
      "\t ----- tradeoff_buffer: 10 ----- \n",
      "\t ----- reward: -0.06277109170108544 for f_star and f_minus: 21.53226638298395 , 27.809375553092494\n",
      "[INFO] [2023-01-24 05:32:06,444] [OpenBox-SPO] Iteration 426, objective value: [26.164243860074492].\n"
     ]
    },
    {
     "name": "stderr",
     "output_type": "stream",
     "text": [
      " 43%|████▎     | 426/1000 [5:25:58<7:32:54, 47.34s/it]"
     ]
    },
    {
     "name": "stdout",
     "output_type": "stream",
     "text": [
      "\t self.next_action: 1\n",
      "\n",
      "\t ----- tradeoff_buffer: 9 ----- \n",
      "\t ----- reward: -0.04631977477090546 for f_star and f_minus: 21.53226638298395 , 26.164243860074492\n",
      "[INFO] [2023-01-24 05:32:48,363] [OpenBox-SPO] Iteration 427, objective value: [31.144475479313414].\n"
     ]
    },
    {
     "name": "stderr",
     "output_type": "stream",
     "text": [
      " 43%|████▎     | 427/1000 [5:26:40<7:16:35, 45.72s/it]"
     ]
    },
    {
     "name": "stdout",
     "output_type": "stream",
     "text": [
      "\t self.next_action: -1\n",
      "\n",
      "\t ----- tradeoff_buffer: 10 ----- \n",
      "\t ----- reward: -0.09612209096329469 for f_star and f_minus: 21.53226638298395 , 31.144475479313414\n",
      "[INFO] [2023-01-24 05:33:33,110] [OpenBox-SPO] Iteration 428, objective value: [29.30816598039428].\n"
     ]
    },
    {
     "name": "stderr",
     "output_type": "stream",
     "text": [
      " 43%|████▎     | 428/1000 [5:27:25<7:13:03, 45.43s/it]"
     ]
    },
    {
     "name": "stdout",
     "output_type": "stream",
     "text": [
      "\t self.next_action: 1\n",
      "\n",
      "\t ----- tradeoff_buffer: 10 ----- \n",
      "\t ----- reward: -0.07775899597410332 for f_star and f_minus: 21.53226638298395 , 29.30816598039428\n",
      "[INFO] [2023-01-24 05:33:33,112] [Advisor] Sample random config. rand_prob=0.100000.\n",
      "[INFO] [2023-01-24 05:34:07,288] [OpenBox-SPO] Iteration 429, objective value: [52.69925579454153].\n"
     ]
    },
    {
     "name": "stderr",
     "output_type": "stream",
     "text": [
      " 43%|████▎     | 429/1000 [5:27:59<6:40:11, 42.05s/it]"
     ]
    },
    {
     "name": "stdout",
     "output_type": "stream",
     "text": [
      "\t self.next_action: 1\n",
      "\n",
      "\t ----- tradeoff_buffer: 9 ----- \n",
      "\t ----- reward: -1 for f_star and f_minus: 21.53226638298395 , 52.69925579454153\n",
      "[INFO] [2023-01-24 05:34:53,252] [OpenBox-SPO] Iteration 430, objective value: [35.99627774486059].\n"
     ]
    },
    {
     "name": "stderr",
     "output_type": "stream",
     "text": [
      " 43%|████▎     | 430/1000 [5:28:45<6:50:38, 43.22s/it]"
     ]
    },
    {
     "name": "stdout",
     "output_type": "stream",
     "text": [
      "\t self.next_action: -1\n",
      "\n",
      "\t ----- tradeoff_buffer: 8 ----- \n",
      "\t ----- reward: -0.14464011361876647 for f_star and f_minus: 21.53226638298395 , 35.99627774486059\n",
      "[INFO] [2023-01-24 05:35:41,444] [OpenBox-SPO] Iteration 431, objective value: [27.120024520762513].\n"
     ]
    },
    {
     "name": "stderr",
     "output_type": "stream",
     "text": [
      " 43%|████▎     | 431/1000 [5:29:33<7:04:02, 44.71s/it]"
     ]
    },
    {
     "name": "stdout",
     "output_type": "stream",
     "text": [
      "\t self.next_action: -1\n",
      "\n",
      "\t ----- tradeoff_buffer: 8 ----- \n",
      "\t ----- reward: -0.05587758137778567 for f_star and f_minus: 21.53226638298395 , 27.120024520762513\n",
      "[INFO] [2023-01-24 05:36:24,644] [OpenBox-SPO] Iteration 432, objective value: [26.048614857122956].\n"
     ]
    },
    {
     "name": "stderr",
     "output_type": "stream",
     "text": [
      " 43%|████▎     | 432/1000 [5:30:16<6:58:59, 44.26s/it]"
     ]
    },
    {
     "name": "stdout",
     "output_type": "stream",
     "text": [
      "\t self.next_action: 0\n",
      "\n",
      "\t ----- tradeoff_buffer: 8 ----- \n",
      "\t ----- reward: -0.045163484741390064 for f_star and f_minus: 21.53226638298395 , 26.048614857122956\n",
      "[INFO] [2023-01-24 05:37:10,099] [OpenBox-SPO] Iteration 433, objective value: [24.954965586781668].\n"
     ]
    },
    {
     "name": "stderr",
     "output_type": "stream",
     "text": [
      " 43%|████▎     | 433/1000 [5:31:02<7:01:38, 44.62s/it]"
     ]
    },
    {
     "name": "stdout",
     "output_type": "stream",
     "text": [
      "\t self.next_action: 0\n",
      "\n",
      "\t ----- tradeoff_buffer: 9 ----- \n",
      "\t ----- reward: -0.034226992037977216 for f_star and f_minus: 21.53226638298395 , 24.954965586781668\n",
      "[INFO] [2023-01-24 05:37:56,578] [OpenBox-SPO] Iteration 434, objective value: [29.896178332008176].\n"
     ]
    },
    {
     "name": "stderr",
     "output_type": "stream",
     "text": [
      " 43%|████▎     | 434/1000 [5:31:48<7:06:10, 45.18s/it]"
     ]
    },
    {
     "name": "stdout",
     "output_type": "stream",
     "text": [
      "\t self.next_action: 1\n",
      "\n",
      "\t ----- tradeoff_buffer: 8 ----- \n",
      "\t ----- reward: -0.0836391194902423 for f_star and f_minus: 21.53226638298395 , 29.896178332008176\n",
      "[INFO] [2023-01-24 05:37:56,580] [Advisor] Sample random config. rand_prob=0.100000.\n",
      "[INFO] [2023-01-24 05:38:35,121] [OpenBox-SPO] Iteration 435, objective value: [42.8670817969038].\n"
     ]
    },
    {
     "name": "stderr",
     "output_type": "stream",
     "text": [
      " 44%|████▎     | 435/1000 [5:32:27<6:46:40, 43.19s/it]"
     ]
    },
    {
     "name": "stdout",
     "output_type": "stream",
     "text": [
      "\t self.next_action: -1\n",
      "\n",
      "\t ----- tradeoff_buffer: 8 ----- \n",
      "\t ----- reward: -0.21334815413919847 for f_star and f_minus: 21.53226638298395 , 42.8670817969038\n",
      "[INFO] [2023-01-24 05:39:21,669] [OpenBox-SPO] Iteration 436, objective value: [34.10348400283594].\n"
     ]
    },
    {
     "name": "stderr",
     "output_type": "stream",
     "text": [
      " 44%|████▎     | 436/1000 [5:33:13<6:55:26, 44.20s/it]"
     ]
    },
    {
     "name": "stdout",
     "output_type": "stream",
     "text": [
      "\t self.next_action: 0\n",
      "\n",
      "\t ----- tradeoff_buffer: 8 ----- \n",
      "\t ----- reward: -0.12571217619851996 for f_star and f_minus: 21.53226638298395 , 34.10348400283594\n",
      "[INFO] [2023-01-24 05:40:11,410] [OpenBox-SPO] Iteration 437, objective value: [26.978211063624855].\n"
     ]
    },
    {
     "name": "stderr",
     "output_type": "stream",
     "text": [
      " 44%|████▎     | 437/1000 [5:34:03<7:10:18, 45.86s/it]"
     ]
    },
    {
     "name": "stdout",
     "output_type": "stream",
     "text": [
      "\t self.next_action: 0\n",
      "\n",
      "\t ----- tradeoff_buffer: 9 ----- \n",
      "\t ----- reward: -0.0544594468064091 for f_star and f_minus: 21.53226638298395 , 26.978211063624855\n",
      "[INFO] [2023-01-24 05:40:55,221] [OpenBox-SPO] Iteration 438, objective value: [27.642551752687552].\n"
     ]
    },
    {
     "name": "stderr",
     "output_type": "stream",
     "text": [
      " 44%|████▍     | 438/1000 [5:34:47<7:03:47, 45.24s/it]"
     ]
    },
    {
     "name": "stdout",
     "output_type": "stream",
     "text": [
      "\t self.next_action: 1\n",
      "\n",
      "\t ----- tradeoff_buffer: 10 ----- \n",
      "\t ----- reward: -0.061102853697036025 for f_star and f_minus: 21.53226638298395 , 27.642551752687552\n",
      "[INFO] [2023-01-24 05:41:46,385] [OpenBox-SPO] Iteration 439, objective value: [41.05674881307044].\n"
     ]
    },
    {
     "name": "stderr",
     "output_type": "stream",
     "text": [
      " 44%|████▍     | 439/1000 [5:35:38<7:19:38, 47.02s/it]"
     ]
    },
    {
     "name": "stdout",
     "output_type": "stream",
     "text": [
      "\t self.next_action: 1\n",
      "\n",
      "\t ----- tradeoff_buffer: 10 ----- \n",
      "\t ----- reward: -0.19524482430086496 for f_star and f_minus: 21.53226638298395 , 41.05674881307044\n",
      "[INFO] [2023-01-24 05:42:32,694] [OpenBox-SPO] Iteration 440, objective value: [33.51558661149353].\n"
     ]
    },
    {
     "name": "stderr",
     "output_type": "stream",
     "text": [
      " 44%|████▍     | 440/1000 [5:36:24<7:16:51, 46.81s/it]"
     ]
    },
    {
     "name": "stdout",
     "output_type": "stream",
     "text": [
      "\t self.next_action: 1\n",
      "\n",
      "\t ----- tradeoff_buffer: 10 ----- \n",
      "\t ----- reward: -0.11983320228509584 for f_star and f_minus: 21.53226638298395 , 33.51558661149353\n",
      "[INFO] [2023-01-24 05:42:32,695] [Advisor] Sample random config. rand_prob=0.100000.\n",
      "[INFO] [2023-01-24 05:43:10,111] [OpenBox-SPO] Iteration 441, objective value: [58.77580871623941].\n"
     ]
    },
    {
     "name": "stderr",
     "output_type": "stream",
     "text": [
      " 44%|████▍     | 441/1000 [5:37:02<6:49:50, 43.99s/it]"
     ]
    },
    {
     "name": "stdout",
     "output_type": "stream",
     "text": [
      "\t self.next_action: 1\n",
      "\n",
      "\t ----- tradeoff_buffer: 10 ----- \n",
      "\t ----- reward: -1 for f_star and f_minus: 21.53226638298395 , 58.77580871623941\n",
      "[INFO] [2023-01-24 05:43:59,390] [OpenBox-SPO] Iteration 442, objective value: [28.9660516976449].\n"
     ]
    },
    {
     "name": "stderr",
     "output_type": "stream",
     "text": [
      " 44%|████▍     | 442/1000 [5:37:51<7:03:51, 45.58s/it]"
     ]
    },
    {
     "name": "stdout",
     "output_type": "stream",
     "text": [
      "\t self.next_action: 0\n",
      "\n",
      "\t ----- tradeoff_buffer: 10 ----- \n",
      "\t ----- reward: -0.07433785314660954 for f_star and f_minus: 21.53226638298395 , 28.9660516976449\n",
      "[INFO] [2023-01-24 05:44:47,331] [OpenBox-SPO] Iteration 443, objective value: [30.765483960385907].\n"
     ]
    },
    {
     "name": "stderr",
     "output_type": "stream",
     "text": [
      " 44%|████▍     | 443/1000 [5:38:39<7:09:41, 46.29s/it]"
     ]
    },
    {
     "name": "stdout",
     "output_type": "stream",
     "text": [
      "\t self.next_action: 1\n",
      "\n",
      "\t ----- tradeoff_buffer: 10 ----- \n",
      "\t ----- reward: -0.09233217577401961 for f_star and f_minus: 21.53226638298395 , 30.765483960385907\n",
      "[INFO] [2023-01-24 05:45:37,093] [OpenBox-SPO] Iteration 444, objective value: [25.294285591594132].\n"
     ]
    },
    {
     "name": "stderr",
     "output_type": "stream",
     "text": [
      " 44%|████▍     | 444/1000 [5:39:29<7:18:34, 47.33s/it]"
     ]
    },
    {
     "name": "stdout",
     "output_type": "stream",
     "text": [
      "\t self.next_action: 1\n",
      "\n",
      "\t ----- tradeoff_buffer: 9 ----- \n",
      "\t ----- reward: -0.03762019208610187 for f_star and f_minus: 21.53226638298395 , 25.294285591594132\n",
      "[INFO] [2023-01-24 05:46:25,741] [OpenBox-SPO] Iteration 445, objective value: [26.417680820031094].\n"
     ]
    },
    {
     "name": "stderr",
     "output_type": "stream",
     "text": [
      " 44%|████▍     | 445/1000 [5:40:17<7:21:27, 47.72s/it]"
     ]
    },
    {
     "name": "stdout",
     "output_type": "stream",
     "text": [
      "\t self.next_action: -1\n",
      "\n",
      "\t ----- tradeoff_buffer: 8 ----- \n",
      "\t ----- reward: -0.04885414437047145 for f_star and f_minus: 21.53226638298395 , 26.417680820031094\n",
      "[INFO] [2023-01-24 05:47:14,550] [OpenBox-SPO] Iteration 446, objective value: [39.55743480839226].\n"
     ]
    },
    {
     "name": "stderr",
     "output_type": "stream",
     "text": [
      " 45%|████▍     | 446/1000 [5:41:06<7:23:39, 48.05s/it]"
     ]
    },
    {
     "name": "stdout",
     "output_type": "stream",
     "text": [
      "\t self.next_action: -1\n",
      "\n",
      "\t ----- tradeoff_buffer: 9 ----- \n",
      "\t ----- reward: -0.18025168425408314 for f_star and f_minus: 21.53226638298395 , 39.55743480839226\n",
      "[INFO] [2023-01-24 05:48:05,031] [OpenBox-SPO] Iteration 447, objective value: [30.634548689126873].\n"
     ]
    },
    {
     "name": "stderr",
     "output_type": "stream",
     "text": [
      " 45%|████▍     | 447/1000 [5:41:57<7:29:34, 48.78s/it]"
     ]
    },
    {
     "name": "stdout",
     "output_type": "stream",
     "text": [
      "\t self.next_action: 1\n",
      "\n",
      "\t ----- tradeoff_buffer: 10 ----- \n",
      "\t ----- reward: -0.09102282306142925 for f_star and f_minus: 21.53226638298395 , 30.634548689126873\n",
      "[INFO] [2023-01-24 05:48:55,858] [OpenBox-SPO] Iteration 448, objective value: [30.830392839827].\n"
     ]
    },
    {
     "name": "stderr",
     "output_type": "stream",
     "text": [
      " 45%|████▍     | 448/1000 [5:42:47<7:34:25, 49.39s/it]"
     ]
    },
    {
     "name": "stdout",
     "output_type": "stream",
     "text": [
      "\t self.next_action: 1\n",
      "\n",
      "\t ----- tradeoff_buffer: 10 ----- \n",
      "\t ----- reward: -0.0929812645684305 for f_star and f_minus: 21.53226638298395 , 30.830392839827\n",
      "[INFO] [2023-01-24 05:49:46,360] [OpenBox-SPO] Iteration 449, objective value: [27.115718840053276].\n"
     ]
    },
    {
     "name": "stderr",
     "output_type": "stream",
     "text": [
      " 45%|████▍     | 449/1000 [5:43:38<7:36:39, 49.73s/it]"
     ]
    },
    {
     "name": "stdout",
     "output_type": "stream",
     "text": [
      "\t self.next_action: 1\n",
      "\n",
      "\t ----- tradeoff_buffer: 9 ----- \n",
      "\t ----- reward: -0.055834524570693295 for f_star and f_minus: 21.53226638298395 , 27.115718840053276\n",
      "[INFO] [2023-01-24 05:50:33,553] [OpenBox-SPO] Iteration 450, objective value: [34.05995429268161].\n"
     ]
    },
    {
     "name": "stderr",
     "output_type": "stream",
     "text": [
      " 45%|████▌     | 450/1000 [5:44:25<7:28:51, 48.97s/it]"
     ]
    },
    {
     "name": "stdout",
     "output_type": "stream",
     "text": [
      "\t self.next_action: -1\n",
      "\n",
      "\t ----- tradeoff_buffer: 8 ----- \n",
      "\t ----- reward: -0.12527687909697663 for f_star and f_minus: 21.53226638298395 , 34.05995429268161\n",
      "[INFO] [2023-01-24 05:51:21,192] [OpenBox-SPO] Iteration 451, objective value: [27.569772953236225].\n"
     ]
    },
    {
     "name": "stderr",
     "output_type": "stream",
     "text": [
      " 45%|████▌     | 451/1000 [5:45:13<7:24:23, 48.57s/it]"
     ]
    },
    {
     "name": "stdout",
     "output_type": "stream",
     "text": [
      "\t self.next_action: -1\n",
      "\n",
      "\t ----- tradeoff_buffer: 7 ----- \n",
      "\t ----- reward: -0.060375065702522795 for f_star and f_minus: 21.53226638298395 , 27.569772953236225\n",
      "[INFO] [2023-01-24 05:52:08,386] [OpenBox-SPO] Iteration 452, objective value: [28.935179450424357].\n"
     ]
    },
    {
     "name": "stderr",
     "output_type": "stream",
     "text": [
      " 45%|████▌     | 452/1000 [5:46:00<7:19:49, 48.16s/it]"
     ]
    },
    {
     "name": "stdout",
     "output_type": "stream",
     "text": [
      "\t self.next_action: -1\n",
      "\n",
      "\t ----- tradeoff_buffer: 6 ----- \n",
      "\t ----- reward: -0.07402913067440411 for f_star and f_minus: 21.53226638298395 , 28.935179450424357\n",
      "[INFO] [2023-01-24 05:52:08,388] [Advisor] Sample random config. rand_prob=0.100000.\n",
      "[INFO] [2023-01-24 05:52:44,896] [OpenBox-SPO] Iteration 453, objective value: [47.767913756247474].\n"
     ]
    },
    {
     "name": "stderr",
     "output_type": "stream",
     "text": [
      " 45%|████▌     | 453/1000 [5:46:36<6:47:10, 44.66s/it]"
     ]
    },
    {
     "name": "stdout",
     "output_type": "stream",
     "text": [
      "\t self.next_action: -1\n",
      "\n",
      "\t ----- tradeoff_buffer: 7 ----- \n",
      "\t ----- reward: -0.26235647373263526 for f_star and f_minus: 21.53226638298395 , 47.767913756247474\n",
      "[INFO] [2023-01-24 05:53:36,821] [OpenBox-SPO] Iteration 454, objective value: [43.1394793735018].\n"
     ]
    },
    {
     "name": "stderr",
     "output_type": "stream",
     "text": [
      " 45%|████▌     | 454/1000 [5:47:28<7:06:15, 46.84s/it]"
     ]
    },
    {
     "name": "stdout",
     "output_type": "stream",
     "text": [
      "\t self.next_action: 1\n",
      "\n",
      "\t ----- tradeoff_buffer: 7 ----- \n",
      "\t ----- reward: -0.21607212990517852 for f_star and f_minus: 21.53226638298395 , 43.1394793735018\n",
      "[INFO] [2023-01-24 05:54:21,570] [OpenBox-SPO] Iteration 455, objective value: [35.23959377845951].\n"
     ]
    },
    {
     "name": "stderr",
     "output_type": "stream",
     "text": [
      " 46%|████▌     | 455/1000 [5:48:13<6:59:46, 46.21s/it]"
     ]
    },
    {
     "name": "stdout",
     "output_type": "stream",
     "text": [
      "\t self.next_action: 0\n",
      "\n",
      "\t ----- tradeoff_buffer: 8 ----- \n",
      "\t ----- reward: -0.13707327395475563 for f_star and f_minus: 21.53226638298395 , 35.23959377845951\n",
      "[INFO] [2023-01-24 05:55:11,364] [OpenBox-SPO] Iteration 456, objective value: [39.85467030439206].\n"
     ]
    },
    {
     "name": "stderr",
     "output_type": "stream",
     "text": [
      " 46%|████▌     | 456/1000 [5:49:03<7:08:44, 47.29s/it]"
     ]
    },
    {
     "name": "stdout",
     "output_type": "stream",
     "text": [
      "\t self.next_action: 1\n",
      "\n",
      "\t ----- tradeoff_buffer: 9 ----- \n",
      "\t ----- reward: -0.18322403921408112 for f_star and f_minus: 21.53226638298395 , 39.85467030439206\n",
      "[INFO] [2023-01-24 05:55:57,657] [OpenBox-SPO] Iteration 457, objective value: [30.79078806150835].\n"
     ]
    },
    {
     "name": "stderr",
     "output_type": "stream",
     "text": [
      " 46%|████▌     | 457/1000 [5:49:49<7:05:15, 46.99s/it]"
     ]
    },
    {
     "name": "stdout",
     "output_type": "stream",
     "text": [
      "\t self.next_action: 1\n",
      "\n",
      "\t ----- tradeoff_buffer: 8 ----- \n",
      "\t ----- reward: -0.09258521678524403 for f_star and f_minus: 21.53226638298395 , 30.79078806150835\n",
      "[INFO] [2023-01-24 05:56:49,258] [OpenBox-SPO] Iteration 458, objective value: [32.02134011276398].\n"
     ]
    },
    {
     "name": "stderr",
     "output_type": "stream",
     "text": [
      " 46%|████▌     | 458/1000 [5:50:41<7:16:57, 48.37s/it]"
     ]
    },
    {
     "name": "stdout",
     "output_type": "stream",
     "text": [
      "\t self.next_action: -1\n",
      "\n",
      "\t ----- tradeoff_buffer: 9 ----- \n",
      "\t ----- reward: -0.10489073729780032 for f_star and f_minus: 21.53226638298395 , 32.02134011276398\n",
      "[INFO] [2023-01-24 05:57:34,415] [OpenBox-SPO] Iteration 459, objective value: [28.350915024544648].\n"
     ]
    },
    {
     "name": "stderr",
     "output_type": "stream",
     "text": [
      " 46%|████▌     | 459/1000 [5:51:26<7:07:27, 47.41s/it]"
     ]
    },
    {
     "name": "stdout",
     "output_type": "stream",
     "text": [
      "\t self.next_action: 1\n",
      "\n",
      "\t ----- tradeoff_buffer: 10 ----- \n",
      "\t ----- reward: -0.06818648641560701 for f_star and f_minus: 21.53226638298395 , 28.350915024544648\n",
      "[INFO] [2023-01-24 05:58:18,854] [OpenBox-SPO] Iteration 460, objective value: [28.17304986601208].\n"
     ]
    },
    {
     "name": "stderr",
     "output_type": "stream",
     "text": [
      " 46%|████▌     | 460/1000 [5:52:10<6:58:39, 46.52s/it]"
     ]
    },
    {
     "name": "stdout",
     "output_type": "stream",
     "text": [
      "\t self.next_action: 1\n",
      "\n",
      "\t ----- tradeoff_buffer: 10 ----- \n",
      "\t ----- reward: -0.06640783483028131 for f_star and f_minus: 21.53226638298395 , 28.17304986601208\n",
      "[INFO] [2023-01-24 05:59:05,600] [OpenBox-SPO] Iteration 461, objective value: [26.749689360060685].\n"
     ]
    },
    {
     "name": "stderr",
     "output_type": "stream",
     "text": [
      " 46%|████▌     | 461/1000 [5:52:57<6:58:29, 46.59s/it]"
     ]
    },
    {
     "name": "stdout",
     "output_type": "stream",
     "text": [
      "\t self.next_action: 1\n",
      "\n",
      "\t ----- tradeoff_buffer: 9 ----- \n",
      "\t ----- reward: -0.05217422977076738 for f_star and f_minus: 21.53226638298395 , 26.749689360060685\n",
      "[INFO] [2023-01-24 05:59:51,168] [OpenBox-SPO] Iteration 462, objective value: [38.523447500673505].\n"
     ]
    },
    {
     "name": "stderr",
     "output_type": "stream",
     "text": [
      " 46%|████▌     | 462/1000 [5:53:43<6:54:58, 46.28s/it]"
     ]
    },
    {
     "name": "stdout",
     "output_type": "stream",
     "text": [
      "\t self.next_action: -1\n",
      "\n",
      "\t ----- tradeoff_buffer: 10 ----- \n",
      "\t ----- reward: -0.1699118111768956 for f_star and f_minus: 21.53226638298395 , 38.523447500673505\n",
      "[INFO] [2023-01-24 06:00:35,683] [OpenBox-SPO] Iteration 463, objective value: [28.571707488930613].\n"
     ]
    },
    {
     "name": "stderr",
     "output_type": "stream",
     "text": [
      " 46%|████▋     | 463/1000 [5:54:27<6:49:28, 45.75s/it]"
     ]
    },
    {
     "name": "stdout",
     "output_type": "stream",
     "text": [
      "\t self.next_action: 1\n",
      "\n",
      "\t ----- tradeoff_buffer: 10 ----- \n",
      "\t ----- reward: -0.07039441105946667 for f_star and f_minus: 21.53226638298395 , 28.571707488930613\n",
      "[INFO] [2023-01-24 06:01:29,118] [OpenBox-SPO] Iteration 464, objective value: [32.84127277877302].\n"
     ]
    },
    {
     "name": "stderr",
     "output_type": "stream",
     "text": [
      " 46%|████▋     | 464/1000 [5:55:21<7:09:18, 48.06s/it]"
     ]
    },
    {
     "name": "stdout",
     "output_type": "stream",
     "text": [
      "\t self.next_action: 1\n",
      "\n",
      "\t ----- tradeoff_buffer: 10 ----- \n",
      "\t ----- reward: -0.1130900639578907 for f_star and f_minus: 21.53226638298395 , 32.84127277877302\n",
      "[INFO] [2023-01-24 06:02:15,326] [OpenBox-SPO] Iteration 465, objective value: [27.919288600308946].\n"
     ]
    },
    {
     "name": "stderr",
     "output_type": "stream",
     "text": [
      " 46%|████▋     | 465/1000 [5:56:07<7:03:33, 47.50s/it]"
     ]
    },
    {
     "name": "stdout",
     "output_type": "stream",
     "text": [
      "\t self.next_action: 0\n",
      "\n",
      "\t ----- tradeoff_buffer: 9 ----- \n",
      "\t ----- reward: -0.06387022217324997 for f_star and f_minus: 21.53226638298395 , 27.919288600308946\n",
      "[INFO] [2023-01-24 06:02:15,328] [Advisor] Sample random config. rand_prob=0.100000.\n",
      "[INFO] [2023-01-24 06:02:46,560] [OpenBox-SPO] Iteration 466, objective value: [61.48738025261366].\n"
     ]
    },
    {
     "name": "stderr",
     "output_type": "stream",
     "text": [
      " 47%|████▋     | 466/1000 [5:56:38<6:19:19, 42.62s/it]"
     ]
    },
    {
     "name": "stdout",
     "output_type": "stream",
     "text": [
      "\t self.next_action: -1\n",
      "\n",
      "\t ----- tradeoff_buffer: 8 ----- \n",
      "\t ----- reward: -1 for f_star and f_minus: 21.53226638298395 , 61.48738025261366\n",
      "[INFO] [2023-01-24 06:03:34,501] [OpenBox-SPO] Iteration 467, objective value: [42.49890895127382].\n"
     ]
    },
    {
     "name": "stderr",
     "output_type": "stream",
     "text": [
      " 47%|████▋     | 467/1000 [5:57:26<6:32:47, 44.22s/it]"
     ]
    },
    {
     "name": "stdout",
     "output_type": "stream",
     "text": [
      "\t self.next_action: -1\n",
      "\n",
      "\t ----- tradeoff_buffer: 7 ----- \n",
      "\t ----- reward: -0.2096664256828987 for f_star and f_minus: 21.53226638298395 , 42.49890895127382\n",
      "[INFO] [2023-01-24 06:04:22,601] [OpenBox-SPO] Iteration 468, objective value: [29.606872504006816].\n"
     ]
    },
    {
     "name": "stderr",
     "output_type": "stream",
     "text": [
      " 47%|████▋     | 468/1000 [5:58:14<6:42:23, 45.38s/it]"
     ]
    },
    {
     "name": "stdout",
     "output_type": "stream",
     "text": [
      "\t self.next_action: -1\n",
      "\n",
      "\t ----- tradeoff_buffer: 6 ----- \n",
      "\t ----- reward: -0.08074606121022868 for f_star and f_minus: 21.53226638298395 , 29.606872504006816\n",
      "[INFO] [2023-01-24 06:05:11,944] [OpenBox-SPO] Iteration 469, objective value: [30.254372532089207].\n"
     ]
    },
    {
     "name": "stderr",
     "output_type": "stream",
     "text": [
      " 47%|████▋     | 469/1000 [5:59:03<6:52:08, 46.57s/it]"
     ]
    },
    {
     "name": "stdout",
     "output_type": "stream",
     "text": [
      "\t self.next_action: -1\n",
      "\n",
      "\t ----- tradeoff_buffer: 7 ----- \n",
      "\t ----- reward: -0.0872210614910526 for f_star and f_minus: 21.53226638298395 , 30.254372532089207\n",
      "[INFO] [2023-01-24 06:05:11,946] [Advisor] Sample random config. rand_prob=0.100000.\n",
      "[INFO] [2023-01-24 06:05:46,748] [OpenBox-SPO] Iteration 470, objective value: [49.41360966919388].\n"
     ]
    },
    {
     "name": "stderr",
     "output_type": "stream",
     "text": [
      " 47%|████▋     | 470/1000 [5:59:38<6:20:11, 43.04s/it]"
     ]
    },
    {
     "name": "stdout",
     "output_type": "stream",
     "text": [
      "\t self.next_action: 1\n",
      "\n",
      "\t ----- tradeoff_buffer: 8 ----- \n",
      "\t ----- reward: -0.27881343286209936 for f_star and f_minus: 21.53226638298395 , 49.41360966919388\n",
      "[INFO] [2023-01-24 06:06:36,118] [OpenBox-SPO] Iteration 471, objective value: [31.638169891190145].\n"
     ]
    },
    {
     "name": "stderr",
     "output_type": "stream",
     "text": [
      " 47%|████▋     | 471/1000 [6:00:28<6:36:12, 44.94s/it]"
     ]
    },
    {
     "name": "stdout",
     "output_type": "stream",
     "text": [
      "\t self.next_action: 1\n",
      "\n",
      "\t ----- tradeoff_buffer: 8 ----- \n",
      "\t ----- reward: -0.10105903508206196 for f_star and f_minus: 21.53226638298395 , 31.638169891190145\n",
      "[INFO] [2023-01-24 06:07:18,490] [OpenBox-SPO] Iteration 472, objective value: [27.93312041868525].\n"
     ]
    },
    {
     "name": "stderr",
     "output_type": "stream",
     "text": [
      " 47%|████▋     | 472/1000 [6:01:10<6:28:41, 44.17s/it]"
     ]
    },
    {
     "name": "stdout",
     "output_type": "stream",
     "text": [
      "\t self.next_action: 0\n",
      "\n",
      "\t ----- tradeoff_buffer: 8 ----- \n",
      "\t ----- reward: -0.064008540357013 for f_star and f_minus: 21.53226638298395 , 27.93312041868525\n",
      "[INFO] [2023-01-24 06:08:06,034] [OpenBox-SPO] Iteration 473, objective value: [25.504070657812065].\n"
     ]
    },
    {
     "name": "stderr",
     "output_type": "stream",
     "text": [
      " 47%|████▋     | 473/1000 [6:01:58<6:36:50, 45.18s/it]"
     ]
    },
    {
     "name": "stdout",
     "output_type": "stream",
     "text": [
      "\t self.next_action: 0\n",
      "\n",
      "\t ----- tradeoff_buffer: 7 ----- \n",
      "\t ----- reward: -0.039718042748281196 for f_star and f_minus: 21.53226638298395 , 25.504070657812065\n",
      "[INFO] [2023-01-24 06:08:50,264] [OpenBox-SPO] Iteration 474, objective value: [27.632197184229682].\n"
     ]
    },
    {
     "name": "stderr",
     "output_type": "stream",
     "text": [
      " 47%|████▋     | 474/1000 [6:02:42<6:33:35, 44.90s/it]"
     ]
    },
    {
     "name": "stdout",
     "output_type": "stream",
     "text": [
      "\t self.next_action: -1\n",
      "\n",
      "\t ----- tradeoff_buffer: 6 ----- \n",
      "\t ----- reward: -0.06099930801245737 for f_star and f_minus: 21.53226638298395 , 27.632197184229682\n",
      "[INFO] [2023-01-24 06:09:41,358] [OpenBox-SPO] Iteration 475, objective value: [36.874513602739114].\n"
     ]
    },
    {
     "name": "stderr",
     "output_type": "stream",
     "text": [
      " 48%|████▊     | 475/1000 [6:03:33<6:49:06, 46.76s/it]"
     ]
    },
    {
     "name": "stdout",
     "output_type": "stream",
     "text": [
      "\t self.next_action: -1\n",
      "\n",
      "\t ----- tradeoff_buffer: 7 ----- \n",
      "\t ----- reward: -0.15342247219755165 for f_star and f_minus: 21.53226638298395 , 36.874513602739114\n",
      "[INFO] [2023-01-24 06:10:28,365] [OpenBox-SPO] Iteration 476, objective value: [28.741791306502435].\n"
     ]
    },
    {
     "name": "stderr",
     "output_type": "stream",
     "text": [
      " 48%|████▊     | 476/1000 [6:04:20<6:48:59, 46.83s/it]"
     ]
    },
    {
     "name": "stdout",
     "output_type": "stream",
     "text": [
      "\t self.next_action: 1\n",
      "\n",
      "\t ----- tradeoff_buffer: 7 ----- \n",
      "\t ----- reward: -0.07209524923518487 for f_star and f_minus: 21.53226638298395 , 28.741791306502435\n",
      "[INFO] [2023-01-24 06:11:17,902] [OpenBox-SPO] Iteration 477, objective value: [26.216835769654097].\n"
     ]
    },
    {
     "name": "stderr",
     "output_type": "stream",
     "text": [
      " 48%|████▊     | 477/1000 [6:05:09<6:55:17, 47.64s/it]"
     ]
    },
    {
     "name": "stdout",
     "output_type": "stream",
     "text": [
      "\t self.next_action: 0\n",
      "\n",
      "\t ----- tradeoff_buffer: 6 ----- \n",
      "\t ----- reward: -0.04684569386670148 for f_star and f_minus: 21.53226638298395 , 26.216835769654097\n",
      "[INFO] [2023-01-24 06:12:06,194] [OpenBox-SPO] Iteration 478, objective value: [29.6344389439853].\n"
     ]
    },
    {
     "name": "stderr",
     "output_type": "stream",
     "text": [
      " 48%|████▊     | 478/1000 [6:05:58<6:56:11, 47.84s/it]"
     ]
    },
    {
     "name": "stdout",
     "output_type": "stream",
     "text": [
      "\t self.next_action: -1\n",
      "\n",
      "\t ----- tradeoff_buffer: 5 ----- \n",
      "\t ----- reward: -0.08102172561001356 for f_star and f_minus: 21.53226638298395 , 29.6344389439853\n",
      "[INFO] [2023-01-24 06:12:50,562] [OpenBox-SPO] Iteration 479, objective value: [34.05823855830184].\n"
     ]
    },
    {
     "name": "stderr",
     "output_type": "stream",
     "text": [
      " 48%|████▊     | 479/1000 [6:06:42<6:46:21, 46.80s/it]"
     ]
    },
    {
     "name": "stdout",
     "output_type": "stream",
     "text": [
      "\t self.next_action: -1\n",
      "\n",
      "\t ----- tradeoff_buffer: 6 ----- \n",
      "\t ----- reward: -0.12525972175317893 for f_star and f_minus: 21.53226638298395 , 34.05823855830184\n",
      "[INFO] [2023-01-24 06:13:44,460] [OpenBox-SPO] Iteration 480, objective value: [30.163932884263758].\n"
     ]
    },
    {
     "name": "stderr",
     "output_type": "stream",
     "text": [
      " 48%|████▊     | 480/1000 [6:07:36<7:04:02, 48.93s/it]"
     ]
    },
    {
     "name": "stdout",
     "output_type": "stream",
     "text": [
      "\t self.next_action: 1\n",
      "\n",
      "\t ----- tradeoff_buffer: 5 ----- \n",
      "\t ----- reward: -0.08631666501279808 for f_star and f_minus: 21.53226638298395 , 30.163932884263758\n",
      "[INFO] [2023-01-24 06:14:33,468] [OpenBox-SPO] Iteration 481, objective value: [29.341014959285232].\n"
     ]
    },
    {
     "name": "stderr",
     "output_type": "stream",
     "text": [
      " 48%|████▊     | 481/1000 [6:08:25<7:03:25, 48.95s/it]"
     ]
    },
    {
     "name": "stdout",
     "output_type": "stream",
     "text": [
      "\t self.next_action: -1\n",
      "\n",
      "\t ----- tradeoff_buffer: 6 ----- \n",
      "\t ----- reward: -0.07808748576301286 for f_star and f_minus: 21.53226638298395 , 29.341014959285232\n",
      "[INFO] [2023-01-24 06:15:16,396] [OpenBox-SPO] Iteration 482, objective value: [33.992484113754].\n"
     ]
    },
    {
     "name": "stderr",
     "output_type": "stream",
     "text": [
      " 48%|████▊     | 482/1000 [6:09:08<6:47:00, 47.14s/it]"
     ]
    },
    {
     "name": "stdout",
     "output_type": "stream",
     "text": [
      "\t self.next_action: 1\n",
      "\n",
      "\t ----- tradeoff_buffer: 7 ----- \n",
      "\t ----- reward: -0.12460217730770054 for f_star and f_minus: 21.53226638298395 , 33.992484113754\n",
      "[INFO] [2023-01-24 06:16:03,744] [OpenBox-SPO] Iteration 483, objective value: [26.695410506805857].\n"
     ]
    },
    {
     "name": "stderr",
     "output_type": "stream",
     "text": [
      " 48%|████▊     | 483/1000 [6:09:55<6:46:45, 47.21s/it]"
     ]
    },
    {
     "name": "stdout",
     "output_type": "stream",
     "text": [
      "\t self.next_action: 1\n",
      "\n",
      "\t ----- tradeoff_buffer: 7 ----- \n",
      "\t ----- reward: -0.051631441238219083 for f_star and f_minus: 21.53226638298395 , 26.695410506805857\n",
      "[INFO] [2023-01-24 06:16:48,889] [OpenBox-SPO] Iteration 484, objective value: [44.21879097892409].\n"
     ]
    },
    {
     "name": "stderr",
     "output_type": "stream",
     "text": [
      " 48%|████▊     | 484/1000 [6:10:40<6:40:39, 46.59s/it]"
     ]
    },
    {
     "name": "stdout",
     "output_type": "stream",
     "text": [
      "\t self.next_action: 0\n",
      "\n",
      "\t ----- tradeoff_buffer: 6 ----- \n",
      "\t ----- reward: -0.2268652459594014 for f_star and f_minus: 21.53226638298395 , 44.21879097892409\n",
      "[INFO] [2023-01-24 06:17:40,184] [OpenBox-SPO] Iteration 485, objective value: [34.59379601034411].\n"
     ]
    },
    {
     "name": "stderr",
     "output_type": "stream",
     "text": [
      " 48%|████▊     | 485/1000 [6:11:32<6:51:59, 48.00s/it]"
     ]
    },
    {
     "name": "stdout",
     "output_type": "stream",
     "text": [
      "\t self.next_action: -1\n",
      "\n",
      "\t ----- tradeoff_buffer: 5 ----- \n",
      "\t ----- reward: -0.1306152962736016 for f_star and f_minus: 21.53226638298395 , 34.59379601034411\n",
      "[INFO] [2023-01-24 06:18:25,667] [OpenBox-SPO] Iteration 486, objective value: [27.303251056659022].\n"
     ]
    },
    {
     "name": "stderr",
     "output_type": "stream",
     "text": [
      " 49%|████▊     | 486/1000 [6:12:17<6:44:43, 47.24s/it]"
     ]
    },
    {
     "name": "stdout",
     "output_type": "stream",
     "text": [
      "\t self.next_action: -1\n",
      "\n",
      "\t ----- tradeoff_buffer: 6 ----- \n",
      "\t ----- reward: -0.05770984673675075 for f_star and f_minus: 21.53226638298395 , 27.303251056659022\n",
      "[INFO] [2023-01-24 06:18:25,668] [Advisor] Sample random config. rand_prob=0.100000.\n",
      "[INFO] [2023-01-24 06:19:02,646] [OpenBox-SPO] Iteration 487, objective value: [50.4423063837882].\n"
     ]
    },
    {
     "name": "stderr",
     "output_type": "stream",
     "text": [
      " 49%|████▊     | 487/1000 [6:12:54<6:17:36, 44.17s/it]"
     ]
    },
    {
     "name": "stdout",
     "output_type": "stream",
     "text": [
      "\t self.next_action: 1\n",
      "\n",
      "\t ----- tradeoff_buffer: 7 ----- \n",
      "\t ----- reward: -1 for f_star and f_minus: 21.53226638298395 , 50.4423063837882\n",
      "[INFO] [2023-01-24 06:19:51,909] [OpenBox-SPO] Iteration 488, objective value: [34.50155463105504].\n"
     ]
    },
    {
     "name": "stderr",
     "output_type": "stream",
     "text": [
      " 49%|████▉     | 488/1000 [6:13:43<6:29:55, 45.69s/it]"
     ]
    },
    {
     "name": "stdout",
     "output_type": "stream",
     "text": [
      "\t self.next_action: 1\n",
      "\n",
      "\t ----- tradeoff_buffer: 7 ----- \n",
      "\t ----- reward: -0.12969288248071095 for f_star and f_minus: 21.53226638298395 , 34.50155463105504\n",
      "[INFO] [2023-01-24 06:20:45,510] [OpenBox-SPO] Iteration 489, objective value: [44.968609339322775].\n"
     ]
    },
    {
     "name": "stderr",
     "output_type": "stream",
     "text": [
      " 49%|████▉     | 489/1000 [6:14:37<6:49:21, 48.07s/it]"
     ]
    },
    {
     "name": "stdout",
     "output_type": "stream",
     "text": [
      "\t self.next_action: 0\n",
      "\n",
      "\t ----- tradeoff_buffer: 8 ----- \n",
      "\t ----- reward: -0.23436342956338826 for f_star and f_minus: 21.53226638298395 , 44.968609339322775\n",
      "[INFO] [2023-01-24 06:21:32,479] [OpenBox-SPO] Iteration 490, objective value: [29.415041588719433].\n"
     ]
    },
    {
     "name": "stderr",
     "output_type": "stream",
     "text": [
      " 49%|████▉     | 490/1000 [6:15:24<6:45:45, 47.74s/it]"
     ]
    },
    {
     "name": "stdout",
     "output_type": "stream",
     "text": [
      "\t self.next_action: 1\n",
      "\n",
      "\t ----- tradeoff_buffer: 8 ----- \n",
      "\t ----- reward: -0.07882775205735484 for f_star and f_minus: 21.53226638298395 , 29.415041588719433\n",
      "[INFO] [2023-01-24 06:22:21,144] [OpenBox-SPO] Iteration 491, objective value: [26.36690705254624].\n"
     ]
    },
    {
     "name": "stderr",
     "output_type": "stream",
     "text": [
      " 49%|████▉     | 491/1000 [6:16:13<6:47:19, 48.02s/it]"
     ]
    },
    {
     "name": "stdout",
     "output_type": "stream",
     "text": [
      "\t self.next_action: 0\n",
      "\n",
      "\t ----- tradeoff_buffer: 9 ----- \n",
      "\t ----- reward: -0.04834640669562293 for f_star and f_minus: 21.53226638298395 , 26.36690705254624\n",
      "[INFO] [2023-01-24 06:23:08,926] [OpenBox-SPO] Iteration 492, objective value: [24.499301051599346].\n"
     ]
    },
    {
     "name": "stderr",
     "output_type": "stream",
     "text": [
      " 49%|████▉     | 492/1000 [6:17:00<6:45:56, 47.95s/it]"
     ]
    },
    {
     "name": "stdout",
     "output_type": "stream",
     "text": [
      "\t self.next_action: 1\n",
      "\n",
      "\t ----- tradeoff_buffer: 10 ----- \n",
      "\t ----- reward: -0.02967034668615398 for f_star and f_minus: 21.53226638298395 , 24.499301051599346\n",
      "[INFO] [2023-01-24 06:23:08,928] [Advisor] Sample random config. rand_prob=0.100000.\n",
      "[INFO] [2023-01-24 06:23:50,736] [OpenBox-SPO] Iteration 493, objective value: [46.4023966479263].\n"
     ]
    },
    {
     "name": "stderr",
     "output_type": "stream",
     "text": [
      " 49%|████▉     | 493/1000 [6:17:42<6:29:35, 46.10s/it]"
     ]
    },
    {
     "name": "stdout",
     "output_type": "stream",
     "text": [
      "\t self.next_action: 1\n",
      "\n",
      "\t ----- tradeoff_buffer: 10 ----- \n",
      "\t ----- reward: -0.24870130264942356 for f_star and f_minus: 21.53226638298395 , 46.4023966479263\n",
      "[INFO] [2023-01-24 06:23:50,738] [Advisor] Sample random config. rand_prob=0.100000.\n",
      "[INFO] [2023-01-24 06:24:30,457] [OpenBox-SPO] Iteration 494, objective value: [52.575304681029124].\n"
     ]
    },
    {
     "name": "stderr",
     "output_type": "stream",
     "text": [
      " 49%|████▉     | 494/1000 [6:18:22<6:12:39, 44.19s/it]"
     ]
    },
    {
     "name": "stdout",
     "output_type": "stream",
     "text": [
      "\t self.next_action: 1\n",
      "\n",
      "\t ----- tradeoff_buffer: 9 ----- \n",
      "\t ----- reward: -1 for f_star and f_minus: 21.53226638298395 , 52.575304681029124\n",
      "[INFO] [2023-01-24 06:25:20,406] [OpenBox-SPO] Iteration 495, objective value: [33.471001697105166].\n"
     ]
    },
    {
     "name": "stderr",
     "output_type": "stream",
     "text": [
      " 50%|████▉     | 495/1000 [6:19:12<6:26:28, 45.92s/it]"
     ]
    },
    {
     "name": "stdout",
     "output_type": "stream",
     "text": [
      "\t self.next_action: -1\n",
      "\n",
      "\t ----- tradeoff_buffer: 10 ----- \n",
      "\t ----- reward: -0.11938735314121221 for f_star and f_minus: 21.53226638298395 , 33.471001697105166\n",
      "[INFO] [2023-01-24 06:26:05,060] [OpenBox-SPO] Iteration 496, objective value: [30.95518852941609].\n"
     ]
    },
    {
     "name": "stderr",
     "output_type": "stream",
     "text": [
      " 50%|████▉     | 496/1000 [6:19:57<6:22:31, 45.54s/it]"
     ]
    },
    {
     "name": "stdout",
     "output_type": "stream",
     "text": [
      "\t self.next_action: 1\n",
      "\n",
      "\t ----- tradeoff_buffer: 10 ----- \n",
      "\t ----- reward: -0.09422922146432142 for f_star and f_minus: 21.53226638298395 , 30.95518852941609\n",
      "[INFO] [2023-01-24 06:26:51,961] [OpenBox-SPO] Iteration 497, objective value: [25.21518875236376].\n"
     ]
    },
    {
     "name": "stderr",
     "output_type": "stream",
     "text": [
      " 50%|████▉     | 497/1000 [6:20:43<6:25:11, 45.95s/it]"
     ]
    },
    {
     "name": "stdout",
     "output_type": "stream",
     "text": [
      "\t self.next_action: 0\n",
      "\n",
      "\t ----- tradeoff_buffer: 10 ----- \n",
      "\t ----- reward: -0.036829223693798124 for f_star and f_minus: 21.53226638298395 , 25.21518875236376\n",
      "[INFO] [2023-01-24 06:26:51,963] [Advisor] Sample random config. rand_prob=0.100000.\n",
      "[INFO] [2023-01-24 06:27:36,403] [OpenBox-SPO] Iteration 498, objective value: [55.60931753630342].\n"
     ]
    },
    {
     "name": "stderr",
     "output_type": "stream",
     "text": [
      " 50%|████▉     | 498/1000 [6:21:28<6:20:38, 45.50s/it]"
     ]
    },
    {
     "name": "stdout",
     "output_type": "stream",
     "text": [
      "\t self.next_action: 0\n",
      "\n",
      "\t ----- tradeoff_buffer: 10 ----- \n",
      "\t ----- reward: -1 for f_star and f_minus: 21.53226638298395 , 55.60931753630342\n",
      "[INFO] [2023-01-24 06:28:24,634] [OpenBox-SPO] Iteration 499, objective value: [33.59494713796846].\n"
     ]
    },
    {
     "name": "stderr",
     "output_type": "stream",
     "text": [
      " 50%|████▉     | 499/1000 [6:22:16<6:26:44, 46.32s/it]"
     ]
    },
    {
     "name": "stdout",
     "output_type": "stream",
     "text": [
      "\t self.next_action: 1\n",
      "\n",
      "\t ----- tradeoff_buffer: 9 ----- \n",
      "\t ----- reward: -0.12062680754984514 for f_star and f_minus: 21.53226638298395 , 33.59494713796846\n",
      "[INFO] [2023-01-24 06:29:15,270] [OpenBox-SPO] Iteration 500, objective value: [27.868686939836977].\n"
     ]
    },
    {
     "name": "stderr",
     "output_type": "stream",
     "text": [
      " 50%|█████     | 500/1000 [6:23:07<6:36:46, 47.61s/it]"
     ]
    },
    {
     "name": "stdout",
     "output_type": "stream",
     "text": [
      "\t self.next_action: -1\n",
      "\n",
      "\t ----- tradeoff_buffer: 10 ----- \n",
      "\t ----- reward: -0.06336420556853031 for f_star and f_minus: 21.53226638298395 , 27.868686939836977\n",
      "[INFO] [2023-01-24 06:30:01,994] [OpenBox-SPO] Iteration 501, objective value: [30.555121739757965].\n"
     ]
    },
    {
     "name": "stderr",
     "output_type": "stream",
     "text": [
      " 50%|█████     | 501/1000 [6:23:53<6:33:45, 47.35s/it]"
     ]
    },
    {
     "name": "stdout",
     "output_type": "stream",
     "text": [
      "\t self.next_action: 1\n",
      "\n",
      "\t ----- tradeoff_buffer: 10 ----- \n",
      "\t ----- reward: -0.09022855356774015 for f_star and f_minus: 21.53226638298395 , 30.555121739757965\n",
      "[INFO] [2023-01-24 06:30:47,628] [OpenBox-SPO] Iteration 502, objective value: [24.558164762571664].\n"
     ]
    },
    {
     "name": "stderr",
     "output_type": "stream",
     "text": [
      " 50%|█████     | 502/1000 [6:24:39<6:28:42, 46.83s/it]"
     ]
    },
    {
     "name": "stdout",
     "output_type": "stream",
     "text": [
      "\t self.next_action: 0\n",
      "\n",
      "\t ----- tradeoff_buffer: 10 ----- \n",
      "\t ----- reward: -0.03025898379587716 for f_star and f_minus: 21.53226638298395 , 24.558164762571664\n",
      "[INFO] [2023-01-24 06:30:47,630] [Advisor] Sample random config. rand_prob=0.100000.\n",
      "[INFO] [2023-01-24 06:31:29,110] [OpenBox-SPO] Iteration 503, objective value: [58.75580605032825].\n"
     ]
    },
    {
     "name": "stderr",
     "output_type": "stream",
     "text": [
      " 50%|█████     | 503/1000 [6:25:21<6:14:37, 45.23s/it]"
     ]
    },
    {
     "name": "stdout",
     "output_type": "stream",
     "text": [
      "\t self.next_action: 0\n",
      "\n",
      "\t ----- tradeoff_buffer: 10 ----- \n",
      "\t ----- reward: -1 for f_star and f_minus: 21.53226638298395 , 58.75580605032825\n",
      "[INFO] [2023-01-24 06:32:14,708] [OpenBox-SPO] Iteration 504, objective value: [29.20909166868428].\n"
     ]
    },
    {
     "name": "stderr",
     "output_type": "stream",
     "text": [
      " 50%|█████     | 504/1000 [6:26:06<6:14:47, 45.34s/it]"
     ]
    },
    {
     "name": "stdout",
     "output_type": "stream",
     "text": [
      "\t self.next_action: 0\n",
      "\n",
      "\t ----- tradeoff_buffer: 9 ----- \n",
      "\t ----- reward: -0.07676825285700331 for f_star and f_minus: 21.53226638298395 , 29.20909166868428\n",
      "[INFO] [2023-01-24 06:32:59,315] [OpenBox-SPO] Iteration 505, objective value: [34.79906785677271].\n"
     ]
    },
    {
     "name": "stderr",
     "output_type": "stream",
     "text": [
      " 50%|█████     | 505/1000 [6:26:51<6:12:13, 45.12s/it]"
     ]
    },
    {
     "name": "stdout",
     "output_type": "stream",
     "text": [
      "\t self.next_action: -1\n",
      "\n",
      "\t ----- tradeoff_buffer: 10 ----- \n",
      "\t ----- reward: -0.1326680147378876 for f_star and f_minus: 21.53226638298395 , 34.79906785677271\n",
      "[INFO] [2023-01-24 06:33:40,172] [OpenBox-SPO] Iteration 506, objective value: [40.8437725241378].\n"
     ]
    },
    {
     "name": "stderr",
     "output_type": "stream",
     "text": [
      " 51%|█████     | 506/1000 [6:27:32<6:00:57, 43.84s/it]"
     ]
    },
    {
     "name": "stdout",
     "output_type": "stream",
     "text": [
      "\t self.next_action: 1\n",
      "\n",
      "\t ----- tradeoff_buffer: 9 ----- \n",
      "\t ----- reward: -0.19311506141153853 for f_star and f_minus: 21.53226638298395 , 40.8437725241378\n",
      "[INFO] [2023-01-24 06:33:40,173] [Advisor] Sample random config. rand_prob=0.100000.\n",
      "[INFO] [2023-01-24 06:34:20,474] [OpenBox-SPO] Iteration 507, objective value: [51.14599018647951].\n"
     ]
    },
    {
     "name": "stderr",
     "output_type": "stream",
     "text": [
      " 51%|█████     | 507/1000 [6:28:12<5:51:30, 42.78s/it]"
     ]
    },
    {
     "name": "stdout",
     "output_type": "stream",
     "text": [
      "\t self.next_action: -1\n",
      "\n",
      "\t ----- tradeoff_buffer: 10 ----- \n",
      "\t ----- reward: -1 for f_star and f_minus: 21.53226638298395 , 51.14599018647951\n",
      "[INFO] [2023-01-24 06:35:02,164] [OpenBox-SPO] Iteration 508, objective value: [35.711641264077].\n"
     ]
    },
    {
     "name": "stderr",
     "output_type": "stream",
     "text": [
      " 51%|█████     | 508/1000 [6:28:54<5:48:06, 42.45s/it]"
     ]
    },
    {
     "name": "stdout",
     "output_type": "stream",
     "text": [
      "\t self.next_action: 1\n",
      "\n",
      "\t ----- tradeoff_buffer: 10 ----- \n",
      "\t ----- reward: -0.14179374881093057 for f_star and f_minus: 21.53226638298395 , 35.711641264077\n",
      "[INFO] [2023-01-24 06:35:47,555] [OpenBox-SPO] Iteration 509, objective value: [40.03174113052482].\n"
     ]
    },
    {
     "name": "stderr",
     "output_type": "stream",
     "text": [
      " 51%|█████     | 509/1000 [6:29:39<5:54:36, 43.33s/it]"
     ]
    },
    {
     "name": "stdout",
     "output_type": "stream",
     "text": [
      "\t self.next_action: 1\n",
      "\n",
      "\t ----- tradeoff_buffer: 10 ----- \n",
      "\t ----- reward: -0.18499474747540876 for f_star and f_minus: 21.53226638298395 , 40.03174113052482\n",
      "[INFO] [2023-01-24 06:36:33,518] [OpenBox-SPO] Iteration 510, objective value: [26.808469129488913].\n"
     ]
    },
    {
     "name": "stderr",
     "output_type": "stream",
     "text": [
      " 51%|█████     | 510/1000 [6:30:25<6:00:20, 44.12s/it]"
     ]
    },
    {
     "name": "stdout",
     "output_type": "stream",
     "text": [
      "\t self.next_action: 1\n",
      "\n",
      "\t ----- tradeoff_buffer: 10 ----- \n",
      "\t ----- reward: -0.05276202746504963 for f_star and f_minus: 21.53226638298395 , 26.808469129488913\n",
      "[INFO] [2023-01-24 06:37:19,895] [OpenBox-SPO] Iteration 511, objective value: [23.793335074775044].\n"
     ]
    },
    {
     "name": "stderr",
     "output_type": "stream",
     "text": [
      " 51%|█████     | 511/1000 [6:31:11<6:05:06, 44.80s/it]"
     ]
    },
    {
     "name": "stdout",
     "output_type": "stream",
     "text": [
      "\t self.next_action: 0\n",
      "\n",
      "\t ----- tradeoff_buffer: 9 ----- \n",
      "\t ----- reward: -0.02261068691791096 for f_star and f_minus: 21.53226638298395 , 23.793335074775044\n",
      "[INFO] [2023-01-24 06:38:03,853] [OpenBox-SPO] Iteration 512, objective value: [26.810842081677407].\n"
     ]
    },
    {
     "name": "stderr",
     "output_type": "stream",
     "text": [
      " 51%|█████     | 512/1000 [6:31:55<6:02:18, 44.55s/it]"
     ]
    },
    {
     "name": "stdout",
     "output_type": "stream",
     "text": [
      "\t self.next_action: -1\n",
      "\n",
      "\t ----- tradeoff_buffer: 8 ----- \n",
      "\t ----- reward: -0.05278575698693458 for f_star and f_minus: 21.53226638298395 , 26.810842081677407\n",
      "[INFO] [2023-01-24 06:38:50,761] [OpenBox-SPO] Iteration 513, objective value: [23.028653651543934].\n"
     ]
    },
    {
     "name": "stderr",
     "output_type": "stream",
     "text": [
      " 51%|█████▏    | 513/1000 [6:32:42<6:07:19, 45.26s/it]"
     ]
    },
    {
     "name": "stdout",
     "output_type": "stream",
     "text": [
      "\t self.next_action: -1\n",
      "\n",
      "\t ----- tradeoff_buffer: 7 ----- \n",
      "\t ----- reward: -0.014963872685599872 for f_star and f_minus: 21.53226638298395 , 23.028653651543934\n",
      "[INFO] [2023-01-24 06:39:35,495] [OpenBox-SPO] Iteration 514, objective value: [23.277231969209794].\n"
     ]
    },
    {
     "name": "stderr",
     "output_type": "stream",
     "text": [
      " 51%|█████▏    | 514/1000 [6:33:27<6:05:17, 45.10s/it]"
     ]
    },
    {
     "name": "stdout",
     "output_type": "stream",
     "text": [
      "\t self.next_action: -1\n",
      "\n",
      "\t ----- tradeoff_buffer: 7 ----- \n",
      "\t ----- reward: -0.017449655862258467 for f_star and f_minus: 21.53226638298395 , 23.277231969209794\n",
      "[INFO] [2023-01-24 06:39:35,496] [Advisor] Sample random config. rand_prob=0.100000.\n",
      "[INFO] [2023-01-24 06:40:10,090] [OpenBox-SPO] Iteration 515, objective value: [59.56844114574372].\n"
     ]
    },
    {
     "name": "stderr",
     "output_type": "stream",
     "text": [
      " 52%|█████▏    | 515/1000 [6:34:02<5:39:04, 41.95s/it]"
     ]
    },
    {
     "name": "stdout",
     "output_type": "stream",
     "text": [
      "\t self.next_action: 0\n",
      "\n",
      "\t ----- tradeoff_buffer: 6 ----- \n",
      "\t ----- reward: -1 for f_star and f_minus: 21.53226638298395 , 59.56844114574372\n",
      "[INFO] [2023-01-24 06:40:54,393] [OpenBox-SPO] Iteration 516, objective value: [35.50826237426445].\n"
     ]
    },
    {
     "name": "stderr",
     "output_type": "stream",
     "text": [
      " 52%|█████▏    | 516/1000 [6:34:46<5:44:04, 42.65s/it]"
     ]
    },
    {
     "name": "stdout",
     "output_type": "stream",
     "text": [
      "\t self.next_action: -1\n",
      "\n",
      "\t ----- tradeoff_buffer: 5 ----- \n",
      "\t ----- reward: -0.13975995991280502 for f_star and f_minus: 21.53226638298395 , 35.50826237426445\n",
      "[INFO] [2023-01-24 06:41:37,288] [OpenBox-SPO] Iteration 517, objective value: [27.953458523547894].\n"
     ]
    },
    {
     "name": "stderr",
     "output_type": "stream",
     "text": [
      " 52%|█████▏    | 517/1000 [6:35:29<5:43:56, 42.73s/it]"
     ]
    },
    {
     "name": "stdout",
     "output_type": "stream",
     "text": [
      "\t self.next_action: -1\n",
      "\n",
      "\t ----- tradeoff_buffer: 6 ----- \n",
      "\t ----- reward: -0.06421192140563944 for f_star and f_minus: 21.53226638298395 , 27.953458523547894\n",
      "[INFO] [2023-01-24 06:42:30,081] [OpenBox-SPO] Iteration 518, objective value: [25.62516122510894].\n"
     ]
    },
    {
     "name": "stderr",
     "output_type": "stream",
     "text": [
      " 52%|█████▏    | 518/1000 [6:36:22<6:07:29, 45.75s/it]"
     ]
    },
    {
     "name": "stdout",
     "output_type": "stream",
     "text": [
      "\t self.next_action: 1\n",
      "\n",
      "\t ----- tradeoff_buffer: 5 ----- \n",
      "\t ----- reward: -0.04092894842124992 for f_star and f_minus: 21.53226638298395 , 25.62516122510894\n",
      "[INFO] [2023-01-24 06:43:15,042] [OpenBox-SPO] Iteration 519, objective value: [23.788207075547874].\n"
     ]
    },
    {
     "name": "stderr",
     "output_type": "stream",
     "text": [
      " 52%|█████▏    | 519/1000 [6:37:07<6:04:50, 45.51s/it]"
     ]
    },
    {
     "name": "stdout",
     "output_type": "stream",
     "text": [
      "\t self.next_action: -1\n",
      "\n",
      "\t ----- tradeoff_buffer: 6 ----- \n",
      "\t ----- reward: -0.022559406925639264 for f_star and f_minus: 21.53226638298395 , 23.788207075547874\n",
      "[INFO] [2023-01-24 06:44:09,025] [OpenBox-SPO] Iteration 520, objective value: [38.38506582392937].\n"
     ]
    },
    {
     "name": "stderr",
     "output_type": "stream",
     "text": [
      " 52%|█████▏    | 520/1000 [6:38:01<6:24:25, 48.05s/it]"
     ]
    },
    {
     "name": "stdout",
     "output_type": "stream",
     "text": [
      "\t self.next_action: 1\n",
      "\n",
      "\t ----- tradeoff_buffer: 5 ----- \n",
      "\t ----- reward: -0.16852799440945418 for f_star and f_minus: 21.53226638298395 , 38.38506582392937\n",
      "[INFO] [2023-01-24 06:44:57,547] [OpenBox-SPO] Iteration 521, objective value: [31.631158633375108].\n"
     ]
    },
    {
     "name": "stderr",
     "output_type": "stream",
     "text": [
      " 52%|█████▏    | 521/1000 [6:38:49<6:24:44, 48.19s/it]"
     ]
    },
    {
     "name": "stdout",
     "output_type": "stream",
     "text": [
      "\t self.next_action: -1\n",
      "\n",
      "\t ----- tradeoff_buffer: 5 ----- \n",
      "\t ----- reward: -0.10098892250391159 for f_star and f_minus: 21.53226638298395 , 31.631158633375108\n",
      "[INFO] [2023-01-24 06:45:43,233] [OpenBox-SPO] Iteration 522, objective value: [31.33187019652715].\n"
     ]
    },
    {
     "name": "stderr",
     "output_type": "stream",
     "text": [
      " 52%|█████▏    | 522/1000 [6:39:35<6:17:56, 47.44s/it]"
     ]
    },
    {
     "name": "stdout",
     "output_type": "stream",
     "text": [
      "\t self.next_action: 0\n",
      "\n",
      "\t ----- tradeoff_buffer: 6 ----- \n",
      "\t ----- reward: -0.09799603813543203 for f_star and f_minus: 21.53226638298395 , 31.33187019652715\n",
      "[INFO] [2023-01-24 06:46:29,555] [OpenBox-SPO] Iteration 523, objective value: [27.0674066589293].\n"
     ]
    },
    {
     "name": "stderr",
     "output_type": "stream",
     "text": [
      " 52%|█████▏    | 523/1000 [6:40:21<6:14:29, 47.11s/it]"
     ]
    },
    {
     "name": "stdout",
     "output_type": "stream",
     "text": [
      "\t self.next_action: 1\n",
      "\n",
      "\t ----- tradeoff_buffer: 5 ----- \n",
      "\t ----- reward: -0.05535140275945352 for f_star and f_minus: 21.53226638298395 , 27.0674066589293\n",
      "[INFO] [2023-01-24 06:47:24,117] [OpenBox-SPO] Iteration 524, objective value: [28.392006480336264].\n"
     ]
    },
    {
     "name": "stderr",
     "output_type": "stream",
     "text": [
      " 52%|█████▏    | 524/1000 [6:41:16<6:31:26, 49.34s/it]"
     ]
    },
    {
     "name": "stdout",
     "output_type": "stream",
     "text": [
      "\t self.next_action: -1\n",
      "\n",
      "\t ----- tradeoff_buffer: 5 ----- \n",
      "\t ----- reward: -0.06859740097352315 for f_star and f_minus: 21.53226638298395 , 28.392006480336264\n",
      "[INFO] [2023-01-24 06:48:08,876] [OpenBox-SPO] Iteration 525, objective value: [23.29896841349735].\n"
     ]
    },
    {
     "name": "stderr",
     "output_type": "stream",
     "text": [
      " 52%|█████▎    | 525/1000 [6:42:00<6:19:44, 47.97s/it]"
     ]
    },
    {
     "name": "stdout",
     "output_type": "stream",
     "text": [
      "\t self.next_action: 0\n",
      "\n",
      "\t ----- tradeoff_buffer: 6 ----- \n",
      "\t ----- reward: -0.017667020305134007 for f_star and f_minus: 21.53226638298395 , 23.29896841349735\n",
      "[INFO] [2023-01-24 06:48:56,942] [OpenBox-SPO] Iteration 526, objective value: [29.752462213847252].\n"
     ]
    },
    {
     "name": "stderr",
     "output_type": "stream",
     "text": [
      " 53%|█████▎    | 526/1000 [6:42:48<6:19:10, 48.00s/it]"
     ]
    },
    {
     "name": "stdout",
     "output_type": "stream",
     "text": [
      "\t self.next_action: 1\n",
      "\n",
      "\t ----- tradeoff_buffer: 7 ----- \n",
      "\t ----- reward: -0.08220195830863306 for f_star and f_minus: 21.53226638298395 , 29.752462213847252\n",
      "[INFO] [2023-01-24 06:49:42,153] [OpenBox-SPO] Iteration 527, objective value: [26.340493837026997].\n"
     ]
    },
    {
     "name": "stderr",
     "output_type": "stream",
     "text": [
      " 53%|█████▎    | 527/1000 [6:43:34<6:11:47, 47.16s/it]"
     ]
    },
    {
     "name": "stdout",
     "output_type": "stream",
     "text": [
      "\t self.next_action: 1\n",
      "\n",
      "\t ----- tradeoff_buffer: 7 ----- \n",
      "\t ----- reward: -0.048082274540430486 for f_star and f_minus: 21.53226638298395 , 26.340493837026997\n",
      "[INFO] [2023-01-24 06:50:31,463] [OpenBox-SPO] Iteration 528, objective value: [28.80016318278895].\n"
     ]
    },
    {
     "name": "stderr",
     "output_type": "stream",
     "text": [
      " 53%|█████▎    | 528/1000 [6:44:23<6:16:04, 47.81s/it]"
     ]
    },
    {
     "name": "stdout",
     "output_type": "stream",
     "text": [
      "\t self.next_action: 0\n",
      "\n",
      "\t ----- tradeoff_buffer: 8 ----- \n",
      "\t ----- reward: -0.07267896799805004 for f_star and f_minus: 21.53226638298395 , 28.80016318278895\n",
      "[INFO] [2023-01-24 06:51:17,889] [OpenBox-SPO] Iteration 529, objective value: [26.0982060642918].\n"
     ]
    },
    {
     "name": "stderr",
     "output_type": "stream",
     "text": [
      " 53%|█████▎    | 529/1000 [6:45:09<6:12:01, 47.39s/it]"
     ]
    },
    {
     "name": "stdout",
     "output_type": "stream",
     "text": [
      "\t self.next_action: 1\n",
      "\n",
      "\t ----- tradeoff_buffer: 7 ----- \n",
      "\t ----- reward: -0.04565939681307854 for f_star and f_minus: 21.53226638298395 , 26.0982060642918\n",
      "[INFO] [2023-01-24 06:52:04,519] [OpenBox-SPO] Iteration 530, objective value: [33.8862940037323].\n"
     ]
    },
    {
     "name": "stderr",
     "output_type": "stream",
     "text": [
      " 53%|█████▎    | 530/1000 [6:45:56<6:09:26, 47.16s/it]"
     ]
    },
    {
     "name": "stdout",
     "output_type": "stream",
     "text": [
      "\t self.next_action: -1\n",
      "\n",
      "\t ----- tradeoff_buffer: 7 ----- \n",
      "\t ----- reward: -0.12354027620748356 for f_star and f_minus: 21.53226638298395 , 33.8862940037323\n",
      "[INFO] [2023-01-24 06:52:48,351] [OpenBox-SPO] Iteration 531, objective value: [25.097161336848643].\n"
     ]
    },
    {
     "name": "stderr",
     "output_type": "stream",
     "text": [
      " 53%|█████▎    | 531/1000 [6:46:40<6:00:50, 46.16s/it]"
     ]
    },
    {
     "name": "stdout",
     "output_type": "stream",
     "text": [
      "\t self.next_action: 0\n",
      "\n",
      "\t ----- tradeoff_buffer: 8 ----- \n",
      "\t ----- reward: -0.03564894953864697 for f_star and f_minus: 21.53226638298395 , 25.097161336848643\n",
      "[INFO] [2023-01-24 06:53:30,838] [OpenBox-SPO] Iteration 532, objective value: [41.874831265659004].\n"
     ]
    },
    {
     "name": "stderr",
     "output_type": "stream",
     "text": [
      " 53%|█████▎    | 532/1000 [6:47:22<5:51:28, 45.06s/it]"
     ]
    },
    {
     "name": "stdout",
     "output_type": "stream",
     "text": [
      "\t self.next_action: 1\n",
      "\n",
      "\t ----- tradeoff_buffer: 8 ----- \n",
      "\t ----- reward: -0.2034256488267506 for f_star and f_minus: 21.53226638298395 , 41.874831265659004\n",
      "[INFO] [2023-01-24 06:54:19,481] [OpenBox-SPO] Iteration 533, objective value: [31.060776126232753].\n"
     ]
    },
    {
     "name": "stderr",
     "output_type": "stream",
     "text": [
      " 53%|█████▎    | 533/1000 [6:48:11<5:59:05, 46.14s/it]"
     ]
    },
    {
     "name": "stdout",
     "output_type": "stream",
     "text": [
      "\t self.next_action: 0\n",
      "\n",
      "\t ----- tradeoff_buffer: 9 ----- \n",
      "\t ----- reward: -0.09528509743248806 for f_star and f_minus: 21.53226638298395 , 31.060776126232753\n",
      "[INFO] [2023-01-24 06:55:05,132] [OpenBox-SPO] Iteration 534, objective value: [25.627982704425833].\n"
     ]
    },
    {
     "name": "stderr",
     "output_type": "stream",
     "text": [
      " 53%|█████▎    | 534/1000 [6:48:57<5:57:11, 45.99s/it]"
     ]
    },
    {
     "name": "stdout",
     "output_type": "stream",
     "text": [
      "\t self.next_action: 1\n",
      "\n",
      "\t ----- tradeoff_buffer: 8 ----- \n",
      "\t ----- reward: -0.04095716321441886 for f_star and f_minus: 21.53226638298395 , 25.627982704425833\n",
      "[INFO] [2023-01-24 06:55:55,493] [OpenBox-SPO] Iteration 535, objective value: [22.877638482138906].\n"
     ]
    },
    {
     "name": "stderr",
     "output_type": "stream",
     "text": [
      " 54%|█████▎    | 535/1000 [6:49:47<6:06:35, 47.30s/it]"
     ]
    },
    {
     "name": "stdout",
     "output_type": "stream",
     "text": [
      "\t self.next_action: -1\n",
      "\n",
      "\t ----- tradeoff_buffer: 7 ----- \n",
      "\t ----- reward: -0.013453720991549595 for f_star and f_minus: 21.53226638298395 , 22.877638482138906\n",
      "[INFO] [2023-01-24 06:56:39,709] [OpenBox-SPO] Iteration 536, objective value: [26.869812405987247].\n"
     ]
    },
    {
     "name": "stderr",
     "output_type": "stream",
     "text": [
      " 54%|█████▎    | 536/1000 [6:50:31<5:58:38, 46.38s/it]"
     ]
    },
    {
     "name": "stdout",
     "output_type": "stream",
     "text": [
      "\t self.next_action: -1\n",
      "\n",
      "\t ----- tradeoff_buffer: 8 ----- \n",
      "\t ----- reward: -0.053375460230033006 for f_star and f_minus: 21.53226638298395 , 26.869812405987247\n",
      "[INFO] [2023-01-24 06:56:39,711] [Advisor] Sample random config. rand_prob=0.100000.\n",
      "[INFO] [2023-01-24 06:57:08,394] [OpenBox-SPO] Iteration 537, objective value: [58.47411759820904].\n"
     ]
    },
    {
     "name": "stderr",
     "output_type": "stream",
     "text": [
      " 54%|█████▎    | 537/1000 [6:51:00<5:16:54, 41.07s/it]"
     ]
    },
    {
     "name": "stdout",
     "output_type": "stream",
     "text": [
      "\t self.next_action: 1\n",
      "\n",
      "\t ----- tradeoff_buffer: 7 ----- \n",
      "\t ----- reward: -1 for f_star and f_minus: 21.53226638298395 , 58.47411759820904\n",
      "[INFO] [2023-01-24 06:57:54,970] [OpenBox-SPO] Iteration 538, objective value: [29.42570976219686].\n"
     ]
    },
    {
     "name": "stderr",
     "output_type": "stream",
     "text": [
      " 54%|█████▍    | 538/1000 [6:51:46<5:28:57, 42.72s/it]"
     ]
    },
    {
     "name": "stdout",
     "output_type": "stream",
     "text": [
      "\t self.next_action: -1\n",
      "\n",
      "\t ----- tradeoff_buffer: 7 ----- \n",
      "\t ----- reward: -0.07893443379212914 for f_star and f_minus: 21.53226638298395 , 29.42570976219686\n",
      "[INFO] [2023-01-24 06:58:39,958] [OpenBox-SPO] Iteration 539, objective value: [27.442111806070486].\n"
     ]
    },
    {
     "name": "stderr",
     "output_type": "stream",
     "text": [
      " 54%|█████▍    | 539/1000 [6:52:31<5:33:27, 43.40s/it]"
     ]
    },
    {
     "name": "stdout",
     "output_type": "stream",
     "text": [
      "\t self.next_action: 0\n",
      "\n",
      "\t ----- tradeoff_buffer: 8 ----- \n",
      "\t ----- reward: -0.05909845423086538 for f_star and f_minus: 21.53226638298395 , 27.442111806070486\n",
      "[INFO] [2023-01-24 06:59:30,803] [OpenBox-SPO] Iteration 540, objective value: [29.10343441472594].\n"
     ]
    },
    {
     "name": "stderr",
     "output_type": "stream",
     "text": [
      " 54%|█████▍    | 540/1000 [6:53:22<5:49:51, 45.63s/it]"
     ]
    },
    {
     "name": "stdout",
     "output_type": "stream",
     "text": [
      "\t self.next_action: 1\n",
      "\n",
      "\t ----- tradeoff_buffer: 9 ----- \n",
      "\t ----- reward: -0.0757116803174199 for f_star and f_minus: 21.53226638298395 , 29.10343441472594\n",
      "[INFO] [2023-01-24 07:00:20,745] [OpenBox-SPO] Iteration 541, objective value: [35.26667333921429].\n"
     ]
    },
    {
     "name": "stderr",
     "output_type": "stream",
     "text": [
      " 54%|█████▍    | 541/1000 [6:54:12<5:58:59, 46.93s/it]"
     ]
    },
    {
     "name": "stdout",
     "output_type": "stream",
     "text": [
      "\t self.next_action: 1\n",
      "\n",
      "\t ----- tradeoff_buffer: 8 ----- \n",
      "\t ----- reward: -0.13734406956230347 for f_star and f_minus: 21.53226638298395 , 35.26667333921429\n",
      "[INFO] [2023-01-24 07:00:20,747] [Advisor] Sample random config. rand_prob=0.100000.\n",
      "[INFO] [2023-01-24 07:00:51,609] [OpenBox-SPO] Iteration 542, objective value: [51.98027706922986].\n"
     ]
    },
    {
     "name": "stderr",
     "output_type": "stream",
     "text": [
      " 54%|█████▍    | 542/1000 [6:54:43<5:21:25, 42.11s/it]"
     ]
    },
    {
     "name": "stdout",
     "output_type": "stream",
     "text": [
      "\t self.next_action: -1\n",
      "\n",
      "\t ----- tradeoff_buffer: 8 ----- \n",
      "\t ----- reward: -1 for f_star and f_minus: 21.53226638298395 , 51.98027706922986\n",
      "[INFO] [2023-01-24 07:01:34,704] [OpenBox-SPO] Iteration 543, objective value: [32.9653504610808].\n"
     ]
    },
    {
     "name": "stderr",
     "output_type": "stream",
     "text": [
      " 54%|█████▍    | 543/1000 [6:55:26<5:22:58, 42.40s/it]"
     ]
    },
    {
     "name": "stdout",
     "output_type": "stream",
     "text": [
      "\t self.next_action: 0\n",
      "\n",
      "\t ----- tradeoff_buffer: 9 ----- \n",
      "\t ----- reward: -0.11433084078096853 for f_star and f_minus: 21.53226638298395 , 32.9653504610808\n",
      "[INFO] [2023-01-24 07:02:22,505] [OpenBox-SPO] Iteration 544, objective value: [29.746462901011355].\n"
     ]
    },
    {
     "name": "stderr",
     "output_type": "stream",
     "text": [
      " 54%|█████▍    | 544/1000 [6:56:14<5:34:34, 44.02s/it]"
     ]
    },
    {
     "name": "stdout",
     "output_type": "stream",
     "text": [
      "\t self.next_action: 1\n",
      "\n",
      "\t ----- tradeoff_buffer: 9 ----- \n",
      "\t ----- reward: -0.08214196518027408 for f_star and f_minus: 21.53226638298395 , 29.746462901011355\n",
      "[INFO] [2023-01-24 07:03:11,387] [OpenBox-SPO] Iteration 545, objective value: [29.295874817802044].\n"
     ]
    },
    {
     "name": "stderr",
     "output_type": "stream",
     "text": [
      " 55%|█████▍    | 545/1000 [6:57:03<5:44:53, 45.48s/it]"
     ]
    },
    {
     "name": "stdout",
     "output_type": "stream",
     "text": [
      "\t self.next_action: 0\n",
      "\n",
      "\t ----- tradeoff_buffer: 8 ----- \n",
      "\t ----- reward: -0.07763608434818095 for f_star and f_minus: 21.53226638298395 , 29.295874817802044\n",
      "[INFO] [2023-01-24 07:04:00,630] [OpenBox-SPO] Iteration 546, objective value: [39.27864272601192].\n"
     ]
    },
    {
     "name": "stderr",
     "output_type": "stream",
     "text": [
      " 55%|█████▍    | 546/1000 [6:57:52<5:52:40, 46.61s/it]"
     ]
    },
    {
     "name": "stdout",
     "output_type": "stream",
     "text": [
      "\t self.next_action: -1\n",
      "\n",
      "\t ----- tradeoff_buffer: 9 ----- \n",
      "\t ----- reward: -0.17746376343027967 for f_star and f_minus: 21.53226638298395 , 39.27864272601192\n",
      "[INFO] [2023-01-24 07:04:44,851] [OpenBox-SPO] Iteration 547, objective value: [25.977426748949355].\n"
     ]
    },
    {
     "name": "stderr",
     "output_type": "stream",
     "text": [
      " 55%|█████▍    | 547/1000 [6:58:36<5:46:29, 45.89s/it]"
     ]
    },
    {
     "name": "stdout",
     "output_type": "stream",
     "text": [
      "\t self.next_action: 1\n",
      "\n",
      "\t ----- tradeoff_buffer: 9 ----- \n",
      "\t ----- reward: -0.04445160365965409 for f_star and f_minus: 21.53226638298395 , 25.977426748949355\n",
      "[INFO] [2023-01-24 07:05:28,466] [OpenBox-SPO] Iteration 548, objective value: [28.475850678751513].\n"
     ]
    },
    {
     "name": "stderr",
     "output_type": "stream",
     "text": [
      " 55%|█████▍    | 548/1000 [6:59:20<5:40:34, 45.21s/it]"
     ]
    },
    {
     "name": "stdout",
     "output_type": "stream",
     "text": [
      "\t self.next_action: 0\n",
      "\n",
      "\t ----- tradeoff_buffer: 8 ----- \n",
      "\t ----- reward: -0.06943584295767566 for f_star and f_minus: 21.53226638298395 , 28.475850678751513\n",
      "[INFO] [2023-01-24 07:06:09,359] [OpenBox-SPO] Iteration 549, objective value: [29.920448849786908].\n"
     ]
    },
    {
     "name": "stderr",
     "output_type": "stream",
     "text": [
      " 55%|█████▍    | 549/1000 [7:00:01<5:30:05, 43.91s/it]"
     ]
    },
    {
     "name": "stdout",
     "output_type": "stream",
     "text": [
      "\t self.next_action: -1\n",
      "\n",
      "\t ----- tradeoff_buffer: 8 ----- \n",
      "\t ----- reward: -0.0838818246680296 for f_star and f_minus: 21.53226638298395 , 29.920448849786908\n",
      "[INFO] [2023-01-24 07:06:53,067] [OpenBox-SPO] Iteration 550, objective value: [29.777032839468987].\n"
     ]
    },
    {
     "name": "stderr",
     "output_type": "stream",
     "text": [
      " 55%|█████▌    | 550/1000 [7:00:45<5:28:53, 43.85s/it]"
     ]
    },
    {
     "name": "stdout",
     "output_type": "stream",
     "text": [
      "\t self.next_action: 0\n",
      "\n",
      "\t ----- tradeoff_buffer: 9 ----- \n",
      "\t ----- reward: -0.08244766456485039 for f_star and f_minus: 21.53226638298395 , 29.777032839468987\n",
      "[INFO] [2023-01-24 07:07:43,688] [OpenBox-SPO] Iteration 551, objective value: [28.611870717690294].\n"
     ]
    },
    {
     "name": "stderr",
     "output_type": "stream",
     "text": [
      " 55%|█████▌    | 551/1000 [7:01:35<5:43:21, 45.88s/it]"
     ]
    },
    {
     "name": "stdout",
     "output_type": "stream",
     "text": [
      "\t self.next_action: 1\n",
      "\n",
      "\t ----- tradeoff_buffer: 9 ----- \n",
      "\t ----- reward: -0.07079604334706349 for f_star and f_minus: 21.53226638298395 , 28.611870717690294\n",
      "[INFO] [2023-01-24 07:08:31,973] [OpenBox-SPO] Iteration 552, objective value: [27.946418290688968].\n"
     ]
    },
    {
     "name": "stderr",
     "output_type": "stream",
     "text": [
      " 55%|█████▌    | 552/1000 [7:02:23<5:47:58, 46.60s/it]"
     ]
    },
    {
     "name": "stdout",
     "output_type": "stream",
     "text": [
      "\t self.next_action: 0\n",
      "\n",
      "\t ----- tradeoff_buffer: 8 ----- \n",
      "\t ----- reward: -0.06414151907705021 for f_star and f_minus: 21.53226638298395 , 27.946418290688968\n",
      "[INFO] [2023-01-24 07:09:16,459] [OpenBox-SPO] Iteration 553, objective value: [29.667241585359605].\n"
     ]
    },
    {
     "name": "stderr",
     "output_type": "stream",
     "text": [
      " 55%|█████▌    | 553/1000 [7:03:08<5:42:27, 45.97s/it]"
     ]
    },
    {
     "name": "stdout",
     "output_type": "stream",
     "text": [
      "\t self.next_action: -1\n",
      "\n",
      "\t ----- tradeoff_buffer: 9 ----- \n",
      "\t ----- reward: -0.08134975202375658 for f_star and f_minus: 21.53226638298395 , 29.667241585359605\n",
      "[INFO] [2023-01-24 07:10:05,820] [OpenBox-SPO] Iteration 554, objective value: [26.21706617614808].\n"
     ]
    },
    {
     "name": "stderr",
     "output_type": "stream",
     "text": [
      " 55%|█████▌    | 554/1000 [7:03:57<5:49:15, 46.99s/it]"
     ]
    },
    {
     "name": "stdout",
     "output_type": "stream",
     "text": [
      "\t self.next_action: 1\n",
      "\n",
      "\t ----- tradeoff_buffer: 9 ----- \n",
      "\t ----- reward: -0.04684799793164132 for f_star and f_minus: 21.53226638298395 , 26.21706617614808\n",
      "[INFO] [2023-01-24 07:10:51,703] [OpenBox-SPO] Iteration 555, objective value: [26.54289755083326].\n"
     ]
    },
    {
     "name": "stderr",
     "output_type": "stream",
     "text": [
      " 56%|█████▌    | 555/1000 [7:04:43<5:46:01, 46.66s/it]"
     ]
    },
    {
     "name": "stdout",
     "output_type": "stream",
     "text": [
      "\t self.next_action: 0\n",
      "\n",
      "\t ----- tradeoff_buffer: 9 ----- \n",
      "\t ----- reward: -0.05010631167849314 for f_star and f_minus: 21.53226638298395 , 26.54289755083326\n",
      "[INFO] [2023-01-24 07:11:38,441] [OpenBox-SPO] Iteration 556, objective value: [26.63228397621809].\n"
     ]
    },
    {
     "name": "stderr",
     "output_type": "stream",
     "text": [
      " 56%|█████▌    | 556/1000 [7:05:30<5:45:25, 46.68s/it]"
     ]
    },
    {
     "name": "stdout",
     "output_type": "stream",
     "text": [
      "\t self.next_action: 0\n",
      "\n",
      "\t ----- tradeoff_buffer: 8 ----- \n",
      "\t ----- reward: -0.051000175932341435 for f_star and f_minus: 21.53226638298395 , 26.63228397621809\n",
      "[INFO] [2023-01-24 07:12:20,042] [OpenBox-SPO] Iteration 557, objective value: [30.838027590850345].\n"
     ]
    },
    {
     "name": "stderr",
     "output_type": "stream",
     "text": [
      " 56%|█████▌    | 557/1000 [7:06:12<5:33:24, 45.16s/it]"
     ]
    },
    {
     "name": "stdout",
     "output_type": "stream",
     "text": [
      "\t self.next_action: -1\n",
      "\n",
      "\t ----- tradeoff_buffer: 9 ----- \n",
      "\t ----- reward: -0.093057612078664 for f_star and f_minus: 21.53226638298395 , 30.838027590850345\n",
      "[INFO] [2023-01-24 07:13:05,428] [OpenBox-SPO] Iteration 558, objective value: [29.017063380480693].\n"
     ]
    },
    {
     "name": "stderr",
     "output_type": "stream",
     "text": [
      " 56%|█████▌    | 558/1000 [7:06:57<5:33:09, 45.23s/it]"
     ]
    },
    {
     "name": "stdout",
     "output_type": "stream",
     "text": [
      "\t self.next_action: 1\n",
      "\n",
      "\t ----- tradeoff_buffer: 9 ----- \n",
      "\t ----- reward: -0.07484796997496743 for f_star and f_minus: 21.53226638298395 , 29.017063380480693\n",
      "[INFO] [2023-01-24 07:13:51,459] [OpenBox-SPO] Iteration 559, objective value: [26.149436404797356].\n"
     ]
    },
    {
     "name": "stderr",
     "output_type": "stream",
     "text": [
      " 56%|█████▌    | 559/1000 [7:07:43<5:34:10, 45.47s/it]"
     ]
    },
    {
     "name": "stdout",
     "output_type": "stream",
     "text": [
      "\t self.next_action: 0\n",
      "\n",
      "\t ----- tradeoff_buffer: 8 ----- \n",
      "\t ----- reward: -0.046171700218134076 for f_star and f_minus: 21.53226638298395 , 26.149436404797356\n",
      "[INFO] [2023-01-24 07:14:38,224] [OpenBox-SPO] Iteration 560, objective value: [30.11890594847685].\n"
     ]
    },
    {
     "name": "stderr",
     "output_type": "stream",
     "text": [
      " 56%|█████▌    | 560/1000 [7:08:30<5:36:16, 45.86s/it]"
     ]
    },
    {
     "name": "stdout",
     "output_type": "stream",
     "text": [
      "\t self.next_action: -1\n",
      "\n",
      "\t ----- tradeoff_buffer: 7 ----- \n",
      "\t ----- reward: -0.08586639565492901 for f_star and f_minus: 21.53226638298395 , 30.11890594847685\n",
      "[INFO] [2023-01-24 07:15:28,222] [OpenBox-SPO] Iteration 561, objective value: [35.8741614333907].\n"
     ]
    },
    {
     "name": "stderr",
     "output_type": "stream",
     "text": [
      " 56%|█████▌    | 561/1000 [7:09:20<5:44:36, 47.10s/it]"
     ]
    },
    {
     "name": "stdout",
     "output_type": "stream",
     "text": [
      "\t self.next_action: -1\n",
      "\n",
      "\t ----- tradeoff_buffer: 7 ----- \n",
      "\t ----- reward: -0.14341895050406747 for f_star and f_minus: 21.53226638298395 , 35.8741614333907\n",
      "[INFO] [2023-01-24 07:16:11,925] [OpenBox-SPO] Iteration 562, objective value: [32.39596319042491].\n"
     ]
    },
    {
     "name": "stderr",
     "output_type": "stream",
     "text": [
      " 56%|█████▌    | 562/1000 [7:10:03<5:36:23, 46.08s/it]"
     ]
    },
    {
     "name": "stdout",
     "output_type": "stream",
     "text": [
      "\t self.next_action: 0\n",
      "\n",
      "\t ----- tradeoff_buffer: 8 ----- \n",
      "\t ----- reward: -0.10863696807440962 for f_star and f_minus: 21.53226638298395 , 32.39596319042491\n",
      "[INFO] [2023-01-24 07:17:01,561] [OpenBox-SPO] Iteration 563, objective value: [32.52144126960593].\n"
     ]
    },
    {
     "name": "stderr",
     "output_type": "stream",
     "text": [
      " 56%|█████▋    | 563/1000 [7:10:53<5:43:23, 47.15s/it]"
     ]
    },
    {
     "name": "stdout",
     "output_type": "stream",
     "text": [
      "\t self.next_action: 1\n",
      "\n",
      "\t ----- tradeoff_buffer: 9 ----- \n",
      "\t ----- reward: -0.1098917488662198 for f_star and f_minus: 21.53226638298395 , 32.52144126960593\n",
      "[INFO] [2023-01-24 07:17:49,092] [OpenBox-SPO] Iteration 564, objective value: [33.49851596542311].\n"
     ]
    },
    {
     "name": "stderr",
     "output_type": "stream",
     "text": [
      " 56%|█████▋    | 564/1000 [7:11:41<5:43:26, 47.26s/it]"
     ]
    },
    {
     "name": "stdout",
     "output_type": "stream",
     "text": [
      "\t self.next_action: 1\n",
      "\n",
      "\t ----- tradeoff_buffer: 10 ----- \n",
      "\t ----- reward: -0.11966249582439162 for f_star and f_minus: 21.53226638298395 , 33.49851596542311\n",
      "[INFO] [2023-01-24 07:18:33,975] [OpenBox-SPO] Iteration 565, objective value: [25.92398973604226].\n"
     ]
    },
    {
     "name": "stderr",
     "output_type": "stream",
     "text": [
      " 56%|█████▋    | 565/1000 [7:12:25<5:37:28, 46.55s/it]"
     ]
    },
    {
     "name": "stdout",
     "output_type": "stream",
     "text": [
      "\t self.next_action: 1\n",
      "\n",
      "\t ----- tradeoff_buffer: 9 ----- \n",
      "\t ----- reward: -0.043917233530583105 for f_star and f_minus: 21.53226638298395 , 25.92398973604226\n",
      "[INFO] [2023-01-24 07:19:24,545] [OpenBox-SPO] Iteration 566, objective value: [25.748640019234927].\n"
     ]
    },
    {
     "name": "stderr",
     "output_type": "stream",
     "text": [
      " 57%|█████▋    | 566/1000 [7:13:16<5:45:25, 47.75s/it]"
     ]
    },
    {
     "name": "stdout",
     "output_type": "stream",
     "text": [
      "\t self.next_action: -1\n",
      "\n",
      "\t ----- tradeoff_buffer: 8 ----- \n",
      "\t ----- reward: -0.04216373636250978 for f_star and f_minus: 21.53226638298395 , 25.748640019234927\n",
      "[INFO] [2023-01-24 07:20:06,081] [OpenBox-SPO] Iteration 567, objective value: [33.14904631638056].\n"
     ]
    },
    {
     "name": "stderr",
     "output_type": "stream",
     "text": [
      " 57%|█████▋    | 567/1000 [7:13:58<5:31:10, 45.89s/it]"
     ]
    },
    {
     "name": "stdout",
     "output_type": "stream",
     "text": [
      "\t self.next_action: -1\n",
      "\n",
      "\t ----- tradeoff_buffer: 9 ----- \n",
      "\t ----- reward: -0.11616779933396618 for f_star and f_minus: 21.53226638298395 , 33.14904631638056\n",
      "[INFO] [2023-01-24 07:20:55,884] [OpenBox-SPO] Iteration 568, objective value: [25.274708547557296].\n"
     ]
    },
    {
     "name": "stderr",
     "output_type": "stream",
     "text": [
      " 57%|█████▋    | 568/1000 [7:14:47<5:38:51, 47.06s/it]"
     ]
    },
    {
     "name": "stdout",
     "output_type": "stream",
     "text": [
      "\t self.next_action: 1\n",
      "\n",
      "\t ----- tradeoff_buffer: 9 ----- \n",
      "\t ----- reward: -0.03742442164573348 for f_star and f_minus: 21.53226638298395 , 25.274708547557296\n",
      "[INFO] [2023-01-24 07:21:45,296] [OpenBox-SPO] Iteration 569, objective value: [26.379117800327563].\n"
     ]
    },
    {
     "name": "stderr",
     "output_type": "stream",
     "text": [
      " 57%|█████▋    | 569/1000 [7:15:37<5:43:07, 47.77s/it]"
     ]
    },
    {
     "name": "stdout",
     "output_type": "stream",
     "text": [
      "\t self.next_action: 0\n",
      "\n",
      "\t ----- tradeoff_buffer: 8 ----- \n",
      "\t ----- reward: -0.048468514173436145 for f_star and f_minus: 21.53226638298395 , 26.379117800327563\n",
      "[INFO] [2023-01-24 07:22:30,582] [OpenBox-SPO] Iteration 570, objective value: [40.77688327589388].\n"
     ]
    },
    {
     "name": "stderr",
     "output_type": "stream",
     "text": [
      " 57%|█████▋    | 570/1000 [7:16:22<5:37:00, 47.02s/it]"
     ]
    },
    {
     "name": "stdout",
     "output_type": "stream",
     "text": [
      "\t self.next_action: -1\n",
      "\n",
      "\t ----- tradeoff_buffer: 9 ----- \n",
      "\t ----- reward: -0.19244616892909935 for f_star and f_minus: 21.53226638298395 , 40.77688327589388\n",
      "[INFO] [2023-01-24 07:23:15,389] [OpenBox-SPO] Iteration 571, objective value: [26.47493071198801].\n"
     ]
    },
    {
     "name": "stderr",
     "output_type": "stream",
     "text": [
      " 57%|█████▋    | 571/1000 [7:17:07<5:31:27, 46.36s/it]"
     ]
    },
    {
     "name": "stdout",
     "output_type": "stream",
     "text": [
      "\t self.next_action: 1\n",
      "\n",
      "\t ----- tradeoff_buffer: 9 ----- \n",
      "\t ----- reward: -0.04942664329004062 for f_star and f_minus: 21.53226638298395 , 26.47493071198801\n",
      "[INFO] [2023-01-24 07:24:03,542] [OpenBox-SPO] Iteration 572, objective value: [25.102246728412155].\n"
     ]
    },
    {
     "name": "stderr",
     "output_type": "stream",
     "text": [
      " 57%|█████▋    | 572/1000 [7:17:55<5:34:31, 46.90s/it]"
     ]
    },
    {
     "name": "stdout",
     "output_type": "stream",
     "text": [
      "\t self.next_action: 0\n",
      "\n",
      "\t ----- tradeoff_buffer: 8 ----- \n",
      "\t ----- reward: -0.03569980345428206 for f_star and f_minus: 21.53226638298395 , 25.102246728412155\n",
      "[INFO] [2023-01-24 07:24:48,943] [OpenBox-SPO] Iteration 573, objective value: [29.165311042963054].\n"
     ]
    },
    {
     "name": "stderr",
     "output_type": "stream",
     "text": [
      " 57%|█████▋    | 573/1000 [7:18:40<5:30:33, 46.45s/it]"
     ]
    },
    {
     "name": "stdout",
     "output_type": "stream",
     "text": [
      "\t self.next_action: -1\n",
      "\n",
      "\t ----- tradeoff_buffer: 7 ----- \n",
      "\t ----- reward: -0.07633044659979107 for f_star and f_minus: 21.53226638298395 , 29.165311042963054\n",
      "[INFO] [2023-01-24 07:25:31,743] [OpenBox-SPO] Iteration 574, objective value: [27.231741442078828].\n"
     ]
    },
    {
     "name": "stderr",
     "output_type": "stream",
     "text": [
      " 57%|█████▋    | 574/1000 [7:19:23<5:22:00, 45.35s/it]"
     ]
    },
    {
     "name": "stdout",
     "output_type": "stream",
     "text": [
      "\t self.next_action: -1\n",
      "\n",
      "\t ----- tradeoff_buffer: 7 ----- \n",
      "\t ----- reward: -0.0569947505909488 for f_star and f_minus: 21.53226638298395 , 27.231741442078828\n",
      "[INFO] [2023-01-24 07:26:15,219] [OpenBox-SPO] Iteration 575, objective value: [29.03988158348571].\n"
     ]
    },
    {
     "name": "stderr",
     "output_type": "stream",
     "text": [
      " 57%|█████▊    | 575/1000 [7:20:07<5:17:15, 44.79s/it]"
     ]
    },
    {
     "name": "stdout",
     "output_type": "stream",
     "text": [
      "\t self.next_action: 0\n",
      "\n",
      "\t ----- tradeoff_buffer: 8 ----- \n",
      "\t ----- reward: -0.07507615200501763 for f_star and f_minus: 21.53226638298395 , 29.03988158348571\n",
      "[INFO] [2023-01-24 07:26:15,220] [Advisor] Sample random config. rand_prob=0.100000.\n",
      "[INFO] [2023-01-24 07:26:49,677] [OpenBox-SPO] Iteration 576, objective value: [59.999735643079624].\n"
     ]
    },
    {
     "name": "stderr",
     "output_type": "stream",
     "text": [
      " 58%|█████▊    | 576/1000 [7:20:41<4:54:36, 41.69s/it]"
     ]
    },
    {
     "name": "stdout",
     "output_type": "stream",
     "text": [
      "\t self.next_action: 1\n",
      "\n",
      "\t ----- tradeoff_buffer: 8 ----- \n",
      "\t ----- reward: -1 for f_star and f_minus: 21.53226638298395 , 59.999735643079624\n",
      "[INFO] [2023-01-24 07:27:41,843] [OpenBox-SPO] Iteration 577, objective value: [32.380681081496505].\n"
     ]
    },
    {
     "name": "stderr",
     "output_type": "stream",
     "text": [
      " 58%|█████▊    | 577/1000 [7:21:33<5:16:04, 44.83s/it]"
     ]
    },
    {
     "name": "stdout",
     "output_type": "stream",
     "text": [
      "\t self.next_action: 0\n",
      "\n",
      "\t ----- tradeoff_buffer: 7 ----- \n",
      "\t ----- reward: -0.10848414698512557 for f_star and f_minus: 21.53226638298395 , 32.380681081496505\n",
      "[INFO] [2023-01-24 07:28:26,789] [OpenBox-SPO] Iteration 578, objective value: [36.16565582913096].\n"
     ]
    },
    {
     "name": "stderr",
     "output_type": "stream",
     "text": [
      " 58%|█████▊    | 578/1000 [7:22:18<5:15:33, 44.87s/it]"
     ]
    },
    {
     "name": "stdout",
     "output_type": "stream",
     "text": [
      "\t self.next_action: -1\n",
      "\n",
      "\t ----- tradeoff_buffer: 7 ----- \n",
      "\t ----- reward: -0.14633389446147013 for f_star and f_minus: 21.53226638298395 , 36.16565582913096\n",
      "[INFO] [2023-01-24 07:29:10,292] [OpenBox-SPO] Iteration 579, objective value: [42.552944068807484].\n"
     ]
    },
    {
     "name": "stderr",
     "output_type": "stream",
     "text": [
      " 58%|█████▊    | 579/1000 [7:23:02<5:11:56, 44.46s/it]"
     ]
    },
    {
     "name": "stdout",
     "output_type": "stream",
     "text": [
      "\t self.next_action: 0\n",
      "\n",
      "\t ----- tradeoff_buffer: 8 ----- \n",
      "\t ----- reward: -0.21020677685823538 for f_star and f_minus: 21.53226638298395 , 42.552944068807484\n",
      "[INFO] [2023-01-24 07:29:59,197] [OpenBox-SPO] Iteration 580, objective value: [39.905189994141146].\n"
     ]
    },
    {
     "name": "stderr",
     "output_type": "stream",
     "text": [
      " 58%|█████▊    | 580/1000 [7:23:51<5:20:32, 45.79s/it]"
     ]
    },
    {
     "name": "stdout",
     "output_type": "stream",
     "text": [
      "\t self.next_action: 1\n",
      "\n",
      "\t ----- tradeoff_buffer: 9 ----- \n",
      "\t ----- reward: -0.18372923611157196 for f_star and f_minus: 21.53226638298395 , 39.905189994141146\n",
      "[INFO] [2023-01-24 07:29:59,199] [Advisor] Sample random config. rand_prob=0.100000.\n",
      "[INFO] [2023-01-24 07:30:37,528] [OpenBox-SPO] Iteration 581, objective value: [46.0927678468438].\n"
     ]
    },
    {
     "name": "stderr",
     "output_type": "stream",
     "text": [
      " 58%|█████▊    | 581/1000 [7:24:29<5:04:08, 43.55s/it]"
     ]
    },
    {
     "name": "stdout",
     "output_type": "stream",
     "text": [
      "\t self.next_action: 1\n",
      "\n",
      "\t ----- tradeoff_buffer: 10 ----- \n",
      "\t ----- reward: -0.2456050146385985 for f_star and f_minus: 21.53226638298395 , 46.0927678468438\n",
      "[INFO] [2023-01-24 07:31:21,375] [OpenBox-SPO] Iteration 582, objective value: [29.52607890367338].\n"
     ]
    },
    {
     "name": "stderr",
     "output_type": "stream",
     "text": [
      " 58%|█████▊    | 582/1000 [7:25:13<5:04:02, 43.64s/it]"
     ]
    },
    {
     "name": "stdout",
     "output_type": "stream",
     "text": [
      "\t self.next_action: 1\n",
      "\n",
      "\t ----- tradeoff_buffer: 9 ----- \n",
      "\t ----- reward: -0.07993812520689433 for f_star and f_minus: 21.53226638298395 , 29.52607890367338\n",
      "[INFO] [2023-01-24 07:32:17,550] [OpenBox-SPO] Iteration 583, objective value: [26.43914371312796].\n"
     ]
    },
    {
     "name": "stderr",
     "output_type": "stream",
     "text": [
      " 58%|█████▊    | 583/1000 [7:26:09<5:29:26, 47.40s/it]"
     ]
    },
    {
     "name": "stdout",
     "output_type": "stream",
     "text": [
      "\t self.next_action: -1\n",
      "\n",
      "\t ----- tradeoff_buffer: 9 ----- \n",
      "\t ----- reward: -0.04906877330144013 for f_star and f_minus: 21.53226638298395 , 26.43914371312796\n",
      "[INFO] [2023-01-24 07:33:05,003] [OpenBox-SPO] Iteration 584, objective value: [30.669187638429335].\n"
     ]
    },
    {
     "name": "stderr",
     "output_type": "stream",
     "text": [
      " 58%|█████▊    | 584/1000 [7:26:57<5:28:45, 47.42s/it]"
     ]
    },
    {
     "name": "stdout",
     "output_type": "stream",
     "text": [
      "\t self.next_action: 0\n",
      "\n",
      "\t ----- tradeoff_buffer: 8 ----- \n",
      "\t ----- reward: -0.09136921255445388 for f_star and f_minus: 21.53226638298395 , 30.669187638429335\n",
      "[INFO] [2023-01-24 07:33:53,073] [OpenBox-SPO] Iteration 585, objective value: [31.275926755191435].\n"
     ]
    },
    {
     "name": "stderr",
     "output_type": "stream",
     "text": [
      " 58%|█████▊    | 585/1000 [7:27:45<5:29:19, 47.61s/it]"
     ]
    },
    {
     "name": "stdout",
     "output_type": "stream",
     "text": [
      "\t self.next_action: -1\n",
      "\n",
      "\t ----- tradeoff_buffer: 7 ----- \n",
      "\t ----- reward: -0.09743660372207488 for f_star and f_minus: 21.53226638298395 , 31.275926755191435\n",
      "[INFO] [2023-01-24 07:34:41,003] [OpenBox-SPO] Iteration 586, objective value: [24.395753633668022].\n"
     ]
    },
    {
     "name": "stderr",
     "output_type": "stream",
     "text": [
      " 59%|█████▊    | 586/1000 [7:28:33<5:29:11, 47.71s/it]"
     ]
    },
    {
     "name": "stdout",
     "output_type": "stream",
     "text": [
      "\t self.next_action: -1\n",
      "\n",
      "\t ----- tradeoff_buffer: 7 ----- \n",
      "\t ----- reward: -0.02863487250684074 for f_star and f_minus: 21.53226638298395 , 24.395753633668022\n",
      "[INFO] [2023-01-24 07:35:30,783] [OpenBox-SPO] Iteration 587, objective value: [34.55301269681108].\n"
     ]
    },
    {
     "name": "stderr",
     "output_type": "stream",
     "text": [
      " 59%|█████▊    | 587/1000 [7:29:22<5:32:40, 48.33s/it]"
     ]
    },
    {
     "name": "stdout",
     "output_type": "stream",
     "text": [
      "\t self.next_action: 0\n",
      "\n",
      "\t ----- tradeoff_buffer: 7 ----- \n",
      "\t ----- reward: -0.13020746313827133 for f_star and f_minus: 21.53226638298395 , 34.55301269681108\n",
      "[INFO] [2023-01-24 07:35:30,784] [Advisor] Sample random config. rand_prob=0.100000.\n",
      "[INFO] [2023-01-24 07:36:03,282] [OpenBox-SPO] Iteration 588, objective value: [57.18922033407711].\n"
     ]
    },
    {
     "name": "stderr",
     "output_type": "stream",
     "text": [
      " 59%|█████▉    | 588/1000 [7:29:55<4:59:15, 43.58s/it]"
     ]
    },
    {
     "name": "stdout",
     "output_type": "stream",
     "text": [
      "\t self.next_action: 0\n",
      "\n",
      "\t ----- tradeoff_buffer: 8 ----- \n",
      "\t ----- reward: -1 for f_star and f_minus: 21.53226638298395 , 57.18922033407711\n",
      "[INFO] [2023-01-24 07:36:03,284] [Advisor] Sample random config. rand_prob=0.100000.\n",
      "[INFO] [2023-01-24 07:36:43,018] [OpenBox-SPO] Iteration 589, objective value: [55.604265445878404].\n"
     ]
    },
    {
     "name": "stderr",
     "output_type": "stream",
     "text": [
      " 59%|█████▉    | 589/1000 [7:30:35<4:50:37, 42.43s/it]"
     ]
    },
    {
     "name": "stdout",
     "output_type": "stream",
     "text": [
      "\t self.next_action: 1\n",
      "\n",
      "\t ----- tradeoff_buffer: 7 ----- \n",
      "\t ----- reward: -1 for f_star and f_minus: 21.53226638298395 , 55.604265445878404\n",
      "[INFO] [2023-01-24 07:37:27,318] [OpenBox-SPO] Iteration 590, objective value: [35.59485343203656].\n"
     ]
    },
    {
     "name": "stderr",
     "output_type": "stream",
     "text": [
      " 59%|█████▉    | 590/1000 [7:31:19<4:53:45, 42.99s/it]"
     ]
    },
    {
     "name": "stdout",
     "output_type": "stream",
     "text": [
      "\t self.next_action: -1\n",
      "\n",
      "\t ----- tradeoff_buffer: 6 ----- \n",
      "\t ----- reward: -0.14062587049052613 for f_star and f_minus: 21.53226638298395 , 35.59485343203656\n",
      "[INFO] [2023-01-24 07:38:15,987] [OpenBox-SPO] Iteration 591, objective value: [22.72682835337021].\n"
     ]
    },
    {
     "name": "stderr",
     "output_type": "stream",
     "text": [
      " 59%|█████▉    | 591/1000 [7:32:07<5:04:39, 44.69s/it]"
     ]
    },
    {
     "name": "stdout",
     "output_type": "stream",
     "text": [
      "\t self.next_action: -1\n",
      "\n",
      "\t ----- tradeoff_buffer: 5 ----- \n",
      "\t ----- reward: -0.011945619703862626 for f_star and f_minus: 21.53226638298395 , 22.72682835337021\n",
      "[INFO] [2023-01-24 07:39:06,194] [OpenBox-SPO] Iteration 592, objective value: [32.96848568938259].\n"
     ]
    },
    {
     "name": "stderr",
     "output_type": "stream",
     "text": [
      " 59%|█████▉    | 592/1000 [7:32:58<5:15:09, 46.35s/it]"
     ]
    },
    {
     "name": "stdout",
     "output_type": "stream",
     "text": [
      "\t self.next_action: -1\n",
      "\n",
      "\t ----- tradeoff_buffer: 6 ----- \n",
      "\t ----- reward: -0.1143621930639864 for f_star and f_minus: 21.53226638298395 , 32.96848568938259\n",
      "[INFO] [2023-01-24 07:39:47,372] [OpenBox-SPO] Iteration 593, objective value: [27.033413228436487].\n"
     ]
    },
    {
     "name": "stderr",
     "output_type": "stream",
     "text": [
      " 59%|█████▉    | 593/1000 [7:33:39<5:03:52, 44.80s/it]"
     ]
    },
    {
     "name": "stdout",
     "output_type": "stream",
     "text": [
      "\t self.next_action: 1\n",
      "\n",
      "\t ----- tradeoff_buffer: 5 ----- \n",
      "\t ----- reward: -0.0550114684545254 for f_star and f_minus: 21.53226638298395 , 27.033413228436487\n",
      "[INFO] [2023-01-24 07:40:32,590] [OpenBox-SPO] Iteration 594, objective value: [25.980773640107074].\n"
     ]
    },
    {
     "name": "stderr",
     "output_type": "stream",
     "text": [
      " 59%|█████▉    | 594/1000 [7:34:24<5:03:58, 44.92s/it]"
     ]
    },
    {
     "name": "stdout",
     "output_type": "stream",
     "text": [
      "\t self.next_action: -1\n",
      "\n",
      "\t ----- tradeoff_buffer: 5 ----- \n",
      "\t ----- reward: -0.04448507257123127 for f_star and f_minus: 21.53226638298395 , 25.980773640107074\n",
      "[INFO] [2023-01-24 07:41:21,671] [OpenBox-SPO] Iteration 595, objective value: [25.686568340192792].\n"
     ]
    },
    {
     "name": "stderr",
     "output_type": "stream",
     "text": [
      " 60%|█████▉    | 595/1000 [7:35:13<5:11:38, 46.17s/it]"
     ]
    },
    {
     "name": "stdout",
     "output_type": "stream",
     "text": [
      "\t self.next_action: 0\n",
      "\n",
      "\t ----- tradeoff_buffer: 5 ----- \n",
      "\t ----- reward: -0.041543019572088474 for f_star and f_minus: 21.53226638298395 , 25.686568340192792\n",
      "[INFO] [2023-01-24 07:42:05,403] [OpenBox-SPO] Iteration 596, objective value: [36.918559860900544].\n"
     ]
    },
    {
     "name": "stderr",
     "output_type": "stream",
     "text": [
      " 60%|█████▉    | 596/1000 [7:35:57<5:05:57, 45.44s/it]"
     ]
    },
    {
     "name": "stdout",
     "output_type": "stream",
     "text": [
      "\t self.next_action: 0\n",
      "\n",
      "\t ----- tradeoff_buffer: 6 ----- \n",
      "\t ----- reward: -0.153862934779166 for f_star and f_minus: 21.53226638298395 , 36.918559860900544\n",
      "[INFO] [2023-01-24 07:42:51,597] [OpenBox-SPO] Iteration 597, objective value: [28.103121971291472].\n"
     ]
    },
    {
     "name": "stderr",
     "output_type": "stream",
     "text": [
      " 60%|█████▉    | 597/1000 [7:36:43<5:06:43, 45.67s/it]"
     ]
    },
    {
     "name": "stdout",
     "output_type": "stream",
     "text": [
      "\t self.next_action: 1\n",
      "\n",
      "\t ----- tradeoff_buffer: 7 ----- \n",
      "\t ----- reward: -0.06570855588307525 for f_star and f_minus: 21.53226638298395 , 28.103121971291472\n",
      "[INFO] [2023-01-24 07:42:51,598] [Advisor] Sample random config. rand_prob=0.100000.\n",
      "[INFO] [2023-01-24 07:43:31,787] [OpenBox-SPO] Iteration 598, objective value: [46.14539268870621].\n"
     ]
    },
    {
     "name": "stderr",
     "output_type": "stream",
     "text": [
      " 60%|█████▉    | 598/1000 [7:37:23<4:54:57, 44.02s/it]"
     ]
    },
    {
     "name": "stdout",
     "output_type": "stream",
     "text": [
      "\t self.next_action: 1\n",
      "\n",
      "\t ----- tradeoff_buffer: 7 ----- \n",
      "\t ----- reward: -0.24613126305722263 for f_star and f_minus: 21.53226638298395 , 46.14539268870621\n",
      "[INFO] [2023-01-24 07:44:20,938] [OpenBox-SPO] Iteration 599, objective value: [38.4800113064382].\n"
     ]
    },
    {
     "name": "stderr",
     "output_type": "stream",
     "text": [
      " 60%|█████▉    | 599/1000 [7:38:12<5:04:30, 45.56s/it]"
     ]
    },
    {
     "name": "stdout",
     "output_type": "stream",
     "text": [
      "\t self.next_action: 0\n",
      "\n",
      "\t ----- tradeoff_buffer: 6 ----- \n",
      "\t ----- reward: -0.16947744923454253 for f_star and f_minus: 21.53226638298395 , 38.4800113064382\n",
      "[INFO] [2023-01-24 07:45:04,053] [OpenBox-SPO] Iteration 600, objective value: [26.65971890211543].\n"
     ]
    },
    {
     "name": "stderr",
     "output_type": "stream",
     "text": [
      " 60%|██████    | 600/1000 [7:38:56<4:58:50, 44.83s/it]"
     ]
    },
    {
     "name": "stdout",
     "output_type": "stream",
     "text": [
      "\t self.next_action: -1\n",
      "\n",
      "\t ----- tradeoff_buffer: 5 ----- \n",
      "\t ----- reward: -0.05127452519131484 for f_star and f_minus: 21.53226638298395 , 26.65971890211543\n",
      "[INFO] [2023-01-24 07:45:52,256] [OpenBox-SPO] Iteration 601, objective value: [30.31868481414432].\n"
     ]
    },
    {
     "name": "stderr",
     "output_type": "stream",
     "text": [
      " 60%|██████    | 601/1000 [7:39:44<5:04:50, 45.84s/it]"
     ]
    },
    {
     "name": "stdout",
     "output_type": "stream",
     "text": [
      "\t self.next_action: -1\n",
      "\n",
      "\t ----- tradeoff_buffer: 5 ----- \n",
      "\t ----- reward: -0.08786418431160373 for f_star and f_minus: 21.53226638298395 , 30.31868481414432\n",
      "[INFO] [2023-01-24 07:46:36,886] [OpenBox-SPO] Iteration 602, objective value: [25.476018515453234].\n"
     ]
    },
    {
     "name": "stderr",
     "output_type": "stream",
     "text": [
      " 60%|██████    | 602/1000 [7:40:28<5:01:39, 45.48s/it]"
     ]
    },
    {
     "name": "stdout",
     "output_type": "stream",
     "text": [
      "\t self.next_action: 0\n",
      "\n",
      "\t ----- tradeoff_buffer: 6 ----- \n",
      "\t ----- reward: -0.03943752132469289 for f_star and f_minus: 21.53226638298395 , 25.476018515453234\n",
      "[INFO] [2023-01-24 07:47:25,682] [OpenBox-SPO] Iteration 603, objective value: [28.632751819631892].\n"
     ]
    },
    {
     "name": "stderr",
     "output_type": "stream",
     "text": [
      " 60%|██████    | 603/1000 [7:41:17<5:07:29, 46.47s/it]"
     ]
    },
    {
     "name": "stdout",
     "output_type": "stream",
     "text": [
      "\t self.next_action: 1\n",
      "\n",
      "\t ----- tradeoff_buffer: 7 ----- \n",
      "\t ----- reward: -0.07100485436647944 for f_star and f_minus: 21.53226638298395 , 28.632751819631892\n",
      "[INFO] [2023-01-24 07:48:16,365] [OpenBox-SPO] Iteration 604, objective value: [26.119493884322083].\n"
     ]
    },
    {
     "name": "stderr",
     "output_type": "stream",
     "text": [
      " 60%|██████    | 604/1000 [7:42:08<5:15:03, 47.74s/it]"
     ]
    },
    {
     "name": "stdout",
     "output_type": "stream",
     "text": [
      "\t self.next_action: 1\n",
      "\n",
      "\t ----- tradeoff_buffer: 6 ----- \n",
      "\t ----- reward: -0.04587227501338134 for f_star and f_minus: 21.53226638298395 , 26.119493884322083\n",
      "[INFO] [2023-01-24 07:49:02,103] [OpenBox-SPO] Iteration 605, objective value: [26.562914121406422].\n"
     ]
    },
    {
     "name": "stderr",
     "output_type": "stream",
     "text": [
      " 60%|██████    | 605/1000 [7:42:54<5:10:18, 47.14s/it]"
     ]
    },
    {
     "name": "stdout",
     "output_type": "stream",
     "text": [
      "\t self.next_action: -1\n",
      "\n",
      "\t ----- tradeoff_buffer: 5 ----- \n",
      "\t ----- reward: -0.05030647738422475 for f_star and f_minus: 21.53226638298395 , 26.562914121406422\n",
      "[INFO] [2023-01-24 07:49:52,662] [OpenBox-SPO] Iteration 606, objective value: [34.89892146761967].\n"
     ]
    },
    {
     "name": "stderr",
     "output_type": "stream",
     "text": [
      " 61%|██████    | 606/1000 [7:43:44<5:16:16, 48.16s/it]"
     ]
    },
    {
     "name": "stdout",
     "output_type": "stream",
     "text": [
      "\t self.next_action: -1\n",
      "\n",
      "\t ----- tradeoff_buffer: 5 ----- \n",
      "\t ----- reward: -0.13366655084635723 for f_star and f_minus: 21.53226638298395 , 34.89892146761967\n",
      "[INFO] [2023-01-24 07:50:37,812] [OpenBox-SPO] Iteration 607, objective value: [37.85786175224285].\n"
     ]
    },
    {
     "name": "stderr",
     "output_type": "stream",
     "text": [
      " 61%|██████    | 607/1000 [7:44:29<5:09:32, 47.26s/it]"
     ]
    },
    {
     "name": "stdout",
     "output_type": "stream",
     "text": [
      "\t self.next_action: 0\n",
      "\n",
      "\t ----- tradeoff_buffer: 6 ----- \n",
      "\t ----- reward: -0.16325595369258902 for f_star and f_minus: 21.53226638298395 , 37.85786175224285\n",
      "[INFO] [2023-01-24 07:51:24,564] [OpenBox-SPO] Iteration 608, objective value: [37.76030379705837].\n"
     ]
    },
    {
     "name": "stderr",
     "output_type": "stream",
     "text": [
      " 61%|██████    | 608/1000 [7:45:16<5:07:45, 47.11s/it]"
     ]
    },
    {
     "name": "stdout",
     "output_type": "stream",
     "text": [
      "\t self.next_action: 1\n",
      "\n",
      "\t ----- tradeoff_buffer: 7 ----- \n",
      "\t ----- reward: -0.16228037414074423 for f_star and f_minus: 21.53226638298395 , 37.76030379705837\n",
      "[INFO] [2023-01-24 07:52:14,765] [OpenBox-SPO] Iteration 609, objective value: [43.85916134712077].\n"
     ]
    },
    {
     "name": "stderr",
     "output_type": "stream",
     "text": [
      " 61%|██████    | 609/1000 [7:46:06<5:13:01, 48.04s/it]"
     ]
    },
    {
     "name": "stdout",
     "output_type": "stream",
     "text": [
      "\t self.next_action: 1\n",
      "\n",
      "\t ----- tradeoff_buffer: 7 ----- \n",
      "\t ----- reward: -0.2232689496413682 for f_star and f_minus: 21.53226638298395 , 43.85916134712077\n",
      "[INFO] [2023-01-24 07:53:04,964] [OpenBox-SPO] Iteration 610, objective value: [28.53127713640096].\n"
     ]
    },
    {
     "name": "stderr",
     "output_type": "stream",
     "text": [
      " 61%|██████    | 610/1000 [7:46:56<5:16:26, 48.68s/it]"
     ]
    },
    {
     "name": "stdout",
     "output_type": "stream",
     "text": [
      "\t self.next_action: 0\n",
      "\n",
      "\t ----- tradeoff_buffer: 6 ----- \n",
      "\t ----- reward: -0.06999010753417009 for f_star and f_minus: 21.53226638298395 , 28.53127713640096\n",
      "[INFO] [2023-01-24 07:53:04,966] [Advisor] Sample random config. rand_prob=0.100000.\n",
      "[INFO] [2023-01-24 07:53:50,680] [OpenBox-SPO] Iteration 611, objective value: [49.75171327582504].\n"
     ]
    },
    {
     "name": "stderr",
     "output_type": "stream",
     "text": [
      " 61%|██████    | 611/1000 [7:47:42<5:09:51, 47.79s/it]"
     ]
    },
    {
     "name": "stdout",
     "output_type": "stream",
     "text": [
      "\t self.next_action: -1\n",
      "\n",
      "\t ----- tradeoff_buffer: 5 ----- \n",
      "\t ----- reward: -0.28219446892841094 for f_star and f_minus: 21.53226638298395 , 49.75171327582504\n",
      "[INFO] [2023-01-24 07:54:34,374] [OpenBox-SPO] Iteration 612, objective value: [36.68258425371628].\n"
     ]
    },
    {
     "name": "stderr",
     "output_type": "stream",
     "text": [
      " 61%|██████    | 612/1000 [7:48:26<5:01:06, 46.56s/it]"
     ]
    },
    {
     "name": "stdout",
     "output_type": "stream",
     "text": [
      "\t self.next_action: -1\n",
      "\n",
      "\t ----- tradeoff_buffer: 5 ----- \n",
      "\t ----- reward: -0.1515031787073233 for f_star and f_minus: 21.53226638298395 , 36.68258425371628\n",
      "[INFO] [2023-01-24 07:55:22,697] [OpenBox-SPO] Iteration 613, objective value: [27.90326129675553].\n"
     ]
    },
    {
     "name": "stderr",
     "output_type": "stream",
     "text": [
      " 61%|██████▏   | 613/1000 [7:49:14<5:03:44, 47.09s/it]"
     ]
    },
    {
     "name": "stdout",
     "output_type": "stream",
     "text": [
      "\t self.next_action: 0\n",
      "\n",
      "\t ----- tradeoff_buffer: 6 ----- \n",
      "\t ----- reward: -0.06370994913771585 for f_star and f_minus: 21.53226638298395 , 27.90326129675553\n",
      "[INFO] [2023-01-24 07:56:07,393] [OpenBox-SPO] Iteration 614, objective value: [26.567416678746653].\n"
     ]
    },
    {
     "name": "stderr",
     "output_type": "stream",
     "text": [
      " 61%|██████▏   | 614/1000 [7:49:59<4:58:19, 46.37s/it]"
     ]
    },
    {
     "name": "stdout",
     "output_type": "stream",
     "text": [
      "\t self.next_action: 1\n",
      "\n",
      "\t ----- tradeoff_buffer: 6 ----- \n",
      "\t ----- reward: -0.05035150295762705 for f_star and f_minus: 21.53226638298395 , 26.567416678746653\n",
      "[INFO] [2023-01-24 07:56:55,254] [OpenBox-SPO] Iteration 615, objective value: [31.61553022490324].\n"
     ]
    },
    {
     "name": "stderr",
     "output_type": "stream",
     "text": [
      " 62%|██████▏   | 615/1000 [7:50:47<5:00:25, 46.82s/it]"
     ]
    },
    {
     "name": "stdout",
     "output_type": "stream",
     "text": [
      "\t self.next_action: 0\n",
      "\n",
      "\t ----- tradeoff_buffer: 7 ----- \n",
      "\t ----- reward: -0.1008326384191929 for f_star and f_minus: 21.53226638298395 , 31.61553022490324\n",
      "[INFO] [2023-01-24 07:57:39,820] [OpenBox-SPO] Iteration 616, objective value: [24.84535112382858].\n"
     ]
    },
    {
     "name": "stderr",
     "output_type": "stream",
     "text": [
      " 62%|██████▏   | 616/1000 [7:51:31<4:55:19, 46.14s/it]"
     ]
    },
    {
     "name": "stdout",
     "output_type": "stream",
     "text": [
      "\t self.next_action: 1\n",
      "\n",
      "\t ----- tradeoff_buffer: 6 ----- \n",
      "\t ----- reward: -0.03313084740844632 for f_star and f_minus: 21.53226638298395 , 24.84535112382858\n",
      "[INFO] [2023-01-24 07:58:22,767] [OpenBox-SPO] Iteration 617, objective value: [25.743945749882542].\n"
     ]
    },
    {
     "name": "stderr",
     "output_type": "stream",
     "text": [
      " 62%|██████▏   | 617/1000 [7:52:14<4:48:25, 45.18s/it]"
     ]
    },
    {
     "name": "stdout",
     "output_type": "stream",
     "text": [
      "\t self.next_action: -1\n",
      "\n",
      "\t ----- tradeoff_buffer: 6 ----- \n",
      "\t ----- reward: -0.042116793668985936 for f_star and f_minus: 21.53226638298395 , 25.743945749882542\n",
      "[INFO] [2023-01-24 07:59:07,224] [OpenBox-SPO] Iteration 618, objective value: [27.276688297733614].\n"
     ]
    },
    {
     "name": "stderr",
     "output_type": "stream",
     "text": [
      " 62%|██████▏   | 618/1000 [7:52:59<4:46:17, 44.97s/it]"
     ]
    },
    {
     "name": "stdout",
     "output_type": "stream",
     "text": [
      "\t self.next_action: 0\n",
      "\n",
      "\t ----- tradeoff_buffer: 5 ----- \n",
      "\t ----- reward: -0.05744421914749667 for f_star and f_minus: 21.53226638298395 , 27.276688297733614\n",
      "[INFO] [2023-01-24 07:59:54,308] [OpenBox-SPO] Iteration 619, objective value: [25.63996833612812].\n"
     ]
    },
    {
     "name": "stderr",
     "output_type": "stream",
     "text": [
      " 62%|██████▏   | 619/1000 [7:53:46<4:49:34, 45.60s/it]"
     ]
    },
    {
     "name": "stdout",
     "output_type": "stream",
     "text": [
      "\t self.next_action: -1\n",
      "\n",
      "\t ----- tradeoff_buffer: 5 ----- \n",
      "\t ----- reward: -0.041077019531441744 for f_star and f_minus: 21.53226638298395 , 25.63996833612812\n",
      "[INFO] [2023-01-24 08:00:37,198] [OpenBox-SPO] Iteration 620, objective value: [27.8065469953859].\n"
     ]
    },
    {
     "name": "stderr",
     "output_type": "stream",
     "text": [
      " 62%|██████▏   | 620/1000 [7:54:29<4:43:39, 44.79s/it]"
     ]
    },
    {
     "name": "stdout",
     "output_type": "stream",
     "text": [
      "\t self.next_action: 0\n",
      "\n",
      "\t ----- tradeoff_buffer: 6 ----- \n",
      "\t ----- reward: -0.06274280612401953 for f_star and f_minus: 21.53226638298395 , 27.8065469953859\n",
      "[INFO] [2023-01-24 08:00:37,199] [Advisor] Sample random config. rand_prob=0.100000.\n",
      "[INFO] [2023-01-24 08:01:16,830] [OpenBox-SPO] Iteration 621, objective value: [51.96309276224846].\n"
     ]
    },
    {
     "name": "stderr",
     "output_type": "stream",
     "text": [
      " 62%|██████▏   | 621/1000 [7:55:08<4:33:08, 43.24s/it]"
     ]
    },
    {
     "name": "stdout",
     "output_type": "stream",
     "text": [
      "\t self.next_action: 1\n",
      "\n",
      "\t ----- tradeoff_buffer: 7 ----- \n",
      "\t ----- reward: -1 for f_star and f_minus: 21.53226638298395 , 51.96309276224846\n",
      "[INFO] [2023-01-24 08:02:05,623] [OpenBox-SPO] Iteration 622, objective value: [35.70432559652512].\n"
     ]
    },
    {
     "name": "stderr",
     "output_type": "stream",
     "text": [
      " 62%|██████▏   | 622/1000 [7:55:57<4:42:54, 44.91s/it]"
     ]
    },
    {
     "name": "stdout",
     "output_type": "stream",
     "text": [
      "\t self.next_action: 1\n",
      "\n",
      "\t ----- tradeoff_buffer: 6 ----- \n",
      "\t ----- reward: -0.14172059213541174 for f_star and f_minus: 21.53226638298395 , 35.70432559652512\n",
      "[INFO] [2023-01-24 08:02:53,651] [OpenBox-SPO] Iteration 623, objective value: [31.594272049774403].\n"
     ]
    },
    {
     "name": "stderr",
     "output_type": "stream",
     "text": [
      " 62%|██████▏   | 623/1000 [7:56:45<4:48:02, 45.84s/it]"
     ]
    },
    {
     "name": "stdout",
     "output_type": "stream",
     "text": [
      "\t self.next_action: -1\n",
      "\n",
      "\t ----- tradeoff_buffer: 6 ----- \n",
      "\t ----- reward: -0.10062005666790455 for f_star and f_minus: 21.53226638298395 , 31.594272049774403\n",
      "[INFO] [2023-01-24 08:03:37,804] [OpenBox-SPO] Iteration 624, objective value: [28.726027229945146].\n"
     ]
    },
    {
     "name": "stderr",
     "output_type": "stream",
     "text": [
      " 62%|██████▏   | 624/1000 [7:57:29<4:44:06, 45.34s/it]"
     ]
    },
    {
     "name": "stdout",
     "output_type": "stream",
     "text": [
      "\t self.next_action: 0\n",
      "\n",
      "\t ----- tradeoff_buffer: 6 ----- \n",
      "\t ----- reward: -0.07193760846961197 for f_star and f_minus: 21.53226638298395 , 28.726027229945146\n",
      "[INFO] [2023-01-24 08:04:22,166] [OpenBox-SPO] Iteration 625, objective value: [25.789326944753583].\n"
     ]
    },
    {
     "name": "stderr",
     "output_type": "stream",
     "text": [
      " 62%|██████▎   | 625/1000 [7:58:14<4:41:31, 45.04s/it]"
     ]
    },
    {
     "name": "stdout",
     "output_type": "stream",
     "text": [
      "\t self.next_action: 0\n",
      "\n",
      "\t ----- tradeoff_buffer: 5 ----- \n",
      "\t ----- reward: -0.04257060561769635 for f_star and f_minus: 21.53226638298395 , 25.789326944753583\n",
      "[INFO] [2023-01-24 08:05:10,396] [OpenBox-SPO] Iteration 626, objective value: [25.96593149048317].\n"
     ]
    },
    {
     "name": "stderr",
     "output_type": "stream",
     "text": [
      " 63%|██████▎   | 626/1000 [7:59:02<4:46:43, 46.00s/it]"
     ]
    },
    {
     "name": "stdout",
     "output_type": "stream",
     "text": [
      "\t self.next_action: -1\n",
      "\n",
      "\t ----- tradeoff_buffer: 5 ----- \n",
      "\t ----- reward: -0.04433665107499227 for f_star and f_minus: 21.53226638298395 , 25.96593149048317\n",
      "[INFO] [2023-01-24 08:05:57,249] [OpenBox-SPO] Iteration 627, objective value: [23.099920334713133].\n"
     ]
    },
    {
     "name": "stderr",
     "output_type": "stream",
     "text": [
      " 63%|██████▎   | 627/1000 [7:59:49<4:47:33, 46.26s/it]"
     ]
    },
    {
     "name": "stdout",
     "output_type": "stream",
     "text": [
      "\t self.next_action: 0\n",
      "\n",
      "\t ----- tradeoff_buffer: 6 ----- \n",
      "\t ----- reward: -0.015676539517291865 for f_star and f_minus: 21.53226638298395 , 23.099920334713133\n",
      "[INFO] [2023-01-24 08:06:40,271] [OpenBox-SPO] Iteration 628, objective value: [26.469146033640953].\n"
     ]
    },
    {
     "name": "stderr",
     "output_type": "stream",
     "text": [
      " 63%|██████▎   | 628/1000 [8:00:32<4:40:46, 45.29s/it]"
     ]
    },
    {
     "name": "stdout",
     "output_type": "stream",
     "text": [
      "\t self.next_action: 1\n",
      "\n",
      "\t ----- tradeoff_buffer: 5 ----- \n",
      "\t ----- reward: -0.049368796506570084 for f_star and f_minus: 21.53226638298395 , 26.469146033640953\n",
      "[INFO] [2023-01-24 08:07:22,966] [OpenBox-SPO] Iteration 629, objective value: [27.857808459158818].\n"
     ]
    },
    {
     "name": "stderr",
     "output_type": "stream",
     "text": [
      " 63%|██████▎   | 629/1000 [8:01:14<4:35:12, 44.51s/it]"
     ]
    },
    {
     "name": "stdout",
     "output_type": "stream",
     "text": [
      "\t self.next_action: -1\n",
      "\n",
      "\t ----- tradeoff_buffer: 5 ----- \n",
      "\t ----- reward: -0.0632554207617487 for f_star and f_minus: 21.53226638298395 , 27.857808459158818\n",
      "[INFO] [2023-01-24 08:07:22,968] [Advisor] Sample random config. rand_prob=0.100000.\n",
      "[INFO] [2023-01-24 08:07:52,331] [OpenBox-SPO] Iteration 630, objective value: [54.24354175766595].\n"
     ]
    },
    {
     "name": "stderr",
     "output_type": "stream",
     "text": [
      " 63%|██████▎   | 630/1000 [8:01:44<4:06:27, 39.97s/it]"
     ]
    },
    {
     "name": "stdout",
     "output_type": "stream",
     "text": [
      "\t self.next_action: 0\n",
      "\n",
      "\t ----- tradeoff_buffer: 6 ----- \n",
      "\t ----- reward: -1 for f_star and f_minus: 21.53226638298395 , 54.24354175766595\n",
      "[INFO] [2023-01-24 08:08:37,060] [OpenBox-SPO] Iteration 631, objective value: [32.42300091476659].\n"
     ]
    },
    {
     "name": "stderr",
     "output_type": "stream",
     "text": [
      " 63%|██████▎   | 631/1000 [8:02:29<4:14:34, 41.39s/it]"
     ]
    },
    {
     "name": "stdout",
     "output_type": "stream",
     "text": [
      "\t self.next_action: 1\n",
      "\n",
      "\t ----- tradeoff_buffer: 5 ----- \n",
      "\t ----- reward: -0.10890734531782645 for f_star and f_minus: 21.53226638298395 , 32.42300091476659\n",
      "[INFO] [2023-01-24 08:09:22,648] [OpenBox-SPO] Iteration 632, objective value: [24.445908345742225].\n"
     ]
    },
    {
     "name": "stderr",
     "output_type": "stream",
     "text": [
      " 63%|██████▎   | 632/1000 [8:03:14<4:21:36, 42.65s/it]"
     ]
    },
    {
     "name": "stdout",
     "output_type": "stream",
     "text": [
      "\t self.next_action: -1\n",
      "\n",
      "\t ----- tradeoff_buffer: 5 ----- \n",
      "\t ----- reward: -0.029136419627582788 for f_star and f_minus: 21.53226638298395 , 24.445908345742225\n",
      "[INFO] [2023-01-24 08:09:22,650] [Advisor] Sample random config. rand_prob=0.100000.\n",
      "[INFO] [2023-01-24 08:10:06,603] [OpenBox-SPO] Iteration 633, objective value: [54.67164799632635].\n"
     ]
    },
    {
     "name": "stderr",
     "output_type": "stream",
     "text": [
      " 63%|██████▎   | 633/1000 [8:03:58<4:23:16, 43.04s/it]"
     ]
    },
    {
     "name": "stdout",
     "output_type": "stream",
     "text": [
      "\t self.next_action: 0\n",
      "\n",
      "\t ----- tradeoff_buffer: 5 ----- \n",
      "\t ----- reward: -1 for f_star and f_minus: 21.53226638298395 , 54.67164799632635\n",
      "[INFO] [2023-01-24 08:10:52,597] [OpenBox-SPO] Iteration 634, objective value: [30.375380737857256].\n"
     ]
    },
    {
     "name": "stderr",
     "output_type": "stream",
     "text": [
      " 63%|██████▎   | 634/1000 [8:04:44<4:27:57, 43.93s/it]"
     ]
    },
    {
     "name": "stdout",
     "output_type": "stream",
     "text": [
      "\t self.next_action: 0\n",
      "\n",
      "\t ----- tradeoff_buffer: 4 ----- \n",
      "\t ----- reward: -0.08843114354873308 for f_star and f_minus: 21.53226638298395 , 30.375380737857256\n",
      "[INFO] [2023-01-24 08:11:37,816] [OpenBox-SPO] Iteration 635, objective value: [30.414326634824647].\n"
     ]
    },
    {
     "name": "stderr",
     "output_type": "stream",
     "text": [
      " 64%|██████▎   | 635/1000 [8:05:29<4:29:35, 44.32s/it]"
     ]
    },
    {
     "name": "stdout",
     "output_type": "stream",
     "text": [
      "\t self.next_action: -1\n",
      "\n",
      "\t ----- tradeoff_buffer: 4 ----- \n",
      "\t ----- reward: -0.08882060251840698 for f_star and f_minus: 21.53226638298395 , 30.414326634824647\n",
      "[INFO] [2023-01-24 08:12:25,352] [OpenBox-SPO] Iteration 636, objective value: [38.52893162711217].\n"
     ]
    },
    {
     "name": "stderr",
     "output_type": "stream",
     "text": [
      " 64%|██████▎   | 636/1000 [8:06:17<4:34:42, 45.28s/it]"
     ]
    },
    {
     "name": "stdout",
     "output_type": "stream",
     "text": [
      "\t self.next_action: 0\n",
      "\n",
      "\t ----- tradeoff_buffer: 4 ----- \n",
      "\t ----- reward: -0.16996665244128226 for f_star and f_minus: 21.53226638298395 , 38.52893162711217\n",
      "[INFO] [2023-01-24 08:13:08,117] [OpenBox-SPO] Iteration 637, objective value: [28.21655057149026].\n"
     ]
    },
    {
     "name": "stderr",
     "output_type": "stream",
     "text": [
      " 64%|██████▎   | 637/1000 [8:07:00<4:29:23, 44.53s/it]"
     ]
    },
    {
     "name": "stdout",
     "output_type": "stream",
     "text": [
      "\t self.next_action: 0\n",
      "\n",
      "\t ----- tradeoff_buffer: 5 ----- \n",
      "\t ----- reward: -0.06684284188506315 for f_star and f_minus: 21.53226638298395 , 28.21655057149026\n",
      "[INFO] [2023-01-24 08:13:50,732] [OpenBox-SPO] Iteration 638, objective value: [30.481752874444524].\n"
     ]
    },
    {
     "name": "stderr",
     "output_type": "stream",
     "text": [
      " 64%|██████▍   | 638/1000 [8:07:42<4:25:11, 43.95s/it]"
     ]
    },
    {
     "name": "stdout",
     "output_type": "stream",
     "text": [
      "\t self.next_action: 1\n",
      "\n",
      "\t ----- tradeoff_buffer: 4 ----- \n",
      "\t ----- reward: -0.08949486491460576 for f_star and f_minus: 21.53226638298395 , 30.481752874444524\n",
      "[INFO] [2023-01-24 08:14:40,298] [OpenBox-SPO] Iteration 639, objective value: [26.167197858776134].\n"
     ]
    },
    {
     "name": "stderr",
     "output_type": "stream",
     "text": [
      " 64%|██████▍   | 639/1000 [8:08:32<4:34:34, 45.64s/it]"
     ]
    },
    {
     "name": "stdout",
     "output_type": "stream",
     "text": [
      "\t self.next_action: -1\n",
      "\n",
      "\t ----- tradeoff_buffer: 5 ----- \n",
      "\t ----- reward: -0.046349314757921894 for f_star and f_minus: 21.53226638298395 , 26.167197858776134\n",
      "[INFO] [2023-01-24 08:15:27,152] [OpenBox-SPO] Iteration 640, objective value: [25.156762595630852].\n"
     ]
    },
    {
     "name": "stderr",
     "output_type": "stream",
     "text": [
      " 64%|██████▍   | 640/1000 [8:09:19<4:36:00, 46.00s/it]"
     ]
    },
    {
     "name": "stdout",
     "output_type": "stream",
     "text": [
      "\t self.next_action: 1\n",
      "\n",
      "\t ----- tradeoff_buffer: 4 ----- \n",
      "\t ----- reward: -0.03624496212646902 for f_star and f_minus: 21.53226638298395 , 25.156762595630852\n",
      "[INFO] [2023-01-24 08:16:13,056] [OpenBox-SPO] Iteration 641, objective value: [29.505953050848206].\n"
     ]
    },
    {
     "name": "stderr",
     "output_type": "stream",
     "text": [
      " 64%|██████▍   | 641/1000 [8:10:05<4:35:04, 45.97s/it]"
     ]
    },
    {
     "name": "stdout",
     "output_type": "stream",
     "text": [
      "\t self.next_action: -1\n",
      "\n",
      "\t ----- tradeoff_buffer: 5 ----- \n",
      "\t ----- reward: -0.07973686667864258 for f_star and f_minus: 21.53226638298395 , 29.505953050848206\n",
      "[INFO] [2023-01-24 08:16:57,389] [OpenBox-SPO] Iteration 642, objective value: [27.205057123363716].\n"
     ]
    },
    {
     "name": "stderr",
     "output_type": "stream",
     "text": [
      " 64%|██████▍   | 642/1000 [8:10:49<4:31:22, 45.48s/it]"
     ]
    },
    {
     "name": "stdout",
     "output_type": "stream",
     "text": [
      "\t self.next_action: 1\n",
      "\n",
      "\t ----- tradeoff_buffer: 6 ----- \n",
      "\t ----- reward: -0.05672790740379771 for f_star and f_minus: 21.53226638298395 , 27.205057123363716\n",
      "[INFO] [2023-01-24 08:17:47,627] [OpenBox-SPO] Iteration 643, objective value: [23.80743549116434].\n"
     ]
    },
    {
     "name": "stderr",
     "output_type": "stream",
     "text": [
      " 64%|██████▍   | 643/1000 [8:11:39<4:39:06, 46.91s/it]"
     ]
    },
    {
     "name": "stdout",
     "output_type": "stream",
     "text": [
      "\t self.next_action: 1\n",
      "\n",
      "\t ----- tradeoff_buffer: 7 ----- \n",
      "\t ----- reward: -0.022751691081803943 for f_star and f_minus: 21.53226638298395 , 23.80743549116434\n",
      "[INFO] [2023-01-24 08:17:47,629] [Advisor] Sample random config. rand_prob=0.100000.\n",
      "[INFO] [2023-01-24 08:18:27,729] [OpenBox-SPO] Iteration 644, objective value: [47.15385349023143].\n"
     ]
    },
    {
     "name": "stderr",
     "output_type": "stream",
     "text": [
      " 64%|██████▍   | 644/1000 [8:12:19<4:26:12, 44.87s/it]"
     ]
    },
    {
     "name": "stdout",
     "output_type": "stream",
     "text": [
      "\t self.next_action: 1\n",
      "\n",
      "\t ----- tradeoff_buffer: 7 ----- \n",
      "\t ----- reward: -0.2562158710724748 for f_star and f_minus: 21.53226638298395 , 47.15385349023143\n",
      "[INFO] [2023-01-24 08:19:17,401] [OpenBox-SPO] Iteration 645, objective value: [30.926186155248487].\n"
     ]
    },
    {
     "name": "stderr",
     "output_type": "stream",
     "text": [
      " 64%|██████▍   | 645/1000 [8:13:09<4:33:59, 46.31s/it]"
     ]
    },
    {
     "name": "stdout",
     "output_type": "stream",
     "text": [
      "\t self.next_action: 0\n",
      "\n",
      "\t ----- tradeoff_buffer: 6 ----- \n",
      "\t ----- reward: -0.09393919772264539 for f_star and f_minus: 21.53226638298395 , 30.926186155248487\n",
      "[INFO] [2023-01-24 08:19:17,403] [Advisor] Sample random config. rand_prob=0.100000.\n",
      "[INFO] [2023-01-24 08:19:55,002] [OpenBox-SPO] Iteration 646, objective value: [51.819623412649996].\n"
     ]
    },
    {
     "name": "stderr",
     "output_type": "stream",
     "text": [
      " 65%|██████▍   | 646/1000 [8:13:47<4:17:48, 43.70s/it]"
     ]
    },
    {
     "name": "stdout",
     "output_type": "stream",
     "text": [
      "\t self.next_action: -1\n",
      "\n",
      "\t ----- tradeoff_buffer: 6 ----- \n",
      "\t ----- reward: -1 for f_star and f_minus: 21.53226638298395 , 51.819623412649996\n",
      "[INFO] [2023-01-24 08:20:41,949] [OpenBox-SPO] Iteration 647, objective value: [31.728279388160658].\n"
     ]
    },
    {
     "name": "stderr",
     "output_type": "stream",
     "text": [
      " 65%|██████▍   | 647/1000 [8:14:33<4:22:48, 44.67s/it]"
     ]
    },
    {
     "name": "stdout",
     "output_type": "stream",
     "text": [
      "\t self.next_action: 0\n",
      "\n",
      "\t ----- tradeoff_buffer: 5 ----- \n",
      "\t ----- reward: -0.1019601300517671 for f_star and f_minus: 21.53226638298395 , 31.728279388160658\n",
      "[INFO] [2023-01-24 08:21:28,460] [OpenBox-SPO] Iteration 648, objective value: [30.55829147908355].\n"
     ]
    },
    {
     "name": "stderr",
     "output_type": "stream",
     "text": [
      " 65%|██████▍   | 648/1000 [8:15:20<4:25:18, 45.22s/it]"
     ]
    },
    {
     "name": "stdout",
     "output_type": "stream",
     "text": [
      "\t self.next_action: -1\n",
      "\n",
      "\t ----- tradeoff_buffer: 4 ----- \n",
      "\t ----- reward: -0.09026025096099602 for f_star and f_minus: 21.53226638298395 , 30.55829147908355\n",
      "[INFO] [2023-01-24 08:22:15,497] [OpenBox-SPO] Iteration 649, objective value: [30.16188265253149].\n"
     ]
    },
    {
     "name": "stderr",
     "output_type": "stream",
     "text": [
      " 65%|██████▍   | 649/1000 [8:16:07<4:27:44, 45.77s/it]"
     ]
    },
    {
     "name": "stdout",
     "output_type": "stream",
     "text": [
      "\t self.next_action: -1\n",
      "\n",
      "\t ----- tradeoff_buffer: 4 ----- \n",
      "\t ----- reward: -0.08629616269547544 for f_star and f_minus: 21.53226638298395 , 30.16188265253149\n",
      "[INFO] [2023-01-24 08:23:10,655] [OpenBox-SPO] Iteration 650, objective value: [30.864859183914135].\n"
     ]
    },
    {
     "name": "stderr",
     "output_type": "stream",
     "text": [
      " 65%|██████▌   | 650/1000 [8:17:02<4:43:24, 48.58s/it]"
     ]
    },
    {
     "name": "stdout",
     "output_type": "stream",
     "text": [
      "\t self.next_action: 0\n",
      "\n",
      "\t ----- tradeoff_buffer: 5 ----- \n",
      "\t ----- reward: -0.09332592800930187 for f_star and f_minus: 21.53226638298395 , 30.864859183914135\n",
      "[INFO] [2023-01-24 08:23:56,543] [OpenBox-SPO] Iteration 651, objective value: [28.603356392869287].\n"
     ]
    },
    {
     "name": "stderr",
     "output_type": "stream",
     "text": [
      " 65%|██████▌   | 651/1000 [8:17:48<4:37:53, 47.78s/it]"
     ]
    },
    {
     "name": "stdout",
     "output_type": "stream",
     "text": [
      "\t self.next_action: 1\n",
      "\n",
      "\t ----- tradeoff_buffer: 6 ----- \n",
      "\t ----- reward: -0.07071090009885342 for f_star and f_minus: 21.53226638298395 , 28.603356392869287\n",
      "[INFO] [2023-01-24 08:24:46,598] [OpenBox-SPO] Iteration 652, objective value: [33.678009468100896].\n"
     ]
    },
    {
     "name": "stderr",
     "output_type": "stream",
     "text": [
      " 65%|██████▌   | 652/1000 [8:18:38<4:41:03, 48.46s/it]"
     ]
    },
    {
     "name": "stdout",
     "output_type": "stream",
     "text": [
      "\t self.next_action: 1\n",
      "\n",
      "\t ----- tradeoff_buffer: 5 ----- \n",
      "\t ----- reward: -0.12145743085116947 for f_star and f_minus: 21.53226638298395 , 33.678009468100896\n",
      "[INFO] [2023-01-24 08:25:33,885] [OpenBox-SPO] Iteration 653, objective value: [29.767749153523255].\n"
     ]
    },
    {
     "name": "stderr",
     "output_type": "stream",
     "text": [
      " 65%|██████▌   | 653/1000 [8:19:25<4:38:13, 48.11s/it]"
     ]
    },
    {
     "name": "stdout",
     "output_type": "stream",
     "text": [
      "\t self.next_action: -1\n",
      "\n",
      "\t ----- tradeoff_buffer: 4 ----- \n",
      "\t ----- reward: -0.08235482770539307 for f_star and f_minus: 21.53226638298395 , 29.767749153523255\n",
      "[INFO] [2023-01-24 08:26:19,663] [OpenBox-SPO] Iteration 654, objective value: [31.649315633434597].\n"
     ]
    },
    {
     "name": "stderr",
     "output_type": "stream",
     "text": [
      " 65%|██████▌   | 654/1000 [8:20:11<4:33:23, 47.41s/it]"
     ]
    },
    {
     "name": "stdout",
     "output_type": "stream",
     "text": [
      "\t self.next_action: -1\n",
      "\n",
      "\t ----- tradeoff_buffer: 4 ----- \n",
      "\t ----- reward: -0.10117049250450652 for f_star and f_minus: 21.53226638298395 , 31.649315633434597\n",
      "[INFO] [2023-01-24 08:27:06,270] [OpenBox-SPO] Iteration 655, objective value: [28.030864218505698].\n"
     ]
    },
    {
     "name": "stderr",
     "output_type": "stream",
     "text": [
      " 66%|██████▌   | 655/1000 [8:20:58<4:31:13, 47.17s/it]"
     ]
    },
    {
     "name": "stdout",
     "output_type": "stream",
     "text": [
      "\t self.next_action: 0\n",
      "\n",
      "\t ----- tradeoff_buffer: 3 ----- \n",
      "\t ----- reward: -0.0649859783552175 for f_star and f_minus: 21.53226638298395 , 28.030864218505698\n",
      "[INFO] [2023-01-24 08:27:51,758] [OpenBox-SPO] Iteration 656, objective value: [29.433319115592155].\n"
     ]
    },
    {
     "name": "stderr",
     "output_type": "stream",
     "text": [
      " 66%|██████▌   | 656/1000 [8:21:43<4:27:32, 46.66s/it]"
     ]
    },
    {
     "name": "stdout",
     "output_type": "stream",
     "text": [
      "\t self.next_action: -1\n",
      "\n",
      "\t ----- tradeoff_buffer: 4 ----- \n",
      "\t ----- reward: -0.07901052732608208 for f_star and f_minus: 21.53226638298395 , 29.433319115592155\n",
      "[INFO] [2023-01-24 08:28:35,420] [OpenBox-SPO] Iteration 657, objective value: [26.496783416078287].\n"
     ]
    },
    {
     "name": "stderr",
     "output_type": "stream",
     "text": [
      " 66%|██████▌   | 657/1000 [8:22:27<4:21:36, 45.76s/it]"
     ]
    },
    {
     "name": "stdout",
     "output_type": "stream",
     "text": [
      "\t self.next_action: 1\n",
      "\n",
      "\t ----- tradeoff_buffer: 5 ----- \n",
      "\t ----- reward: -0.04964517033094337 for f_star and f_minus: 21.53226638298395 , 26.496783416078287\n",
      "[INFO] [2023-01-24 08:29:23,177] [OpenBox-SPO] Iteration 658, objective value: [35.164103577605204].\n"
     ]
    },
    {
     "name": "stderr",
     "output_type": "stream",
     "text": [
      " 66%|██████▌   | 658/1000 [8:23:15<4:24:15, 46.36s/it]"
     ]
    },
    {
     "name": "stdout",
     "output_type": "stream",
     "text": [
      "\t self.next_action: 1\n",
      "\n",
      "\t ----- tradeoff_buffer: 6 ----- \n",
      "\t ----- reward: -0.13631837194621257 for f_star and f_minus: 21.53226638298395 , 35.164103577605204\n",
      "[INFO] [2023-01-24 08:29:23,179] [Advisor] Sample random config. rand_prob=0.100000.\n",
      "[INFO] [2023-01-24 08:30:01,597] [OpenBox-SPO] Iteration 659, objective value: [54.938444057172994].\n"
     ]
    },
    {
     "name": "stderr",
     "output_type": "stream",
     "text": [
      " 66%|██████▌   | 659/1000 [8:23:53<4:09:56, 43.98s/it]"
     ]
    },
    {
     "name": "stdout",
     "output_type": "stream",
     "text": [
      "\t self.next_action: 1\n",
      "\n",
      "\t ----- tradeoff_buffer: 5 ----- \n",
      "\t ----- reward: -1 for f_star and f_minus: 21.53226638298395 , 54.938444057172994\n",
      "[INFO] [2023-01-24 08:30:46,383] [OpenBox-SPO] Iteration 660, objective value: [29.62550850601143].\n"
     ]
    },
    {
     "name": "stderr",
     "output_type": "stream",
     "text": [
      " 66%|██████▌   | 660/1000 [8:24:38<4:10:35, 44.22s/it]"
     ]
    },
    {
     "name": "stdout",
     "output_type": "stream",
     "text": [
      "\t self.next_action: -1\n",
      "\n",
      "\t ----- tradeoff_buffer: 5 ----- \n",
      "\t ----- reward: -0.0809324212302748 for f_star and f_minus: 21.53226638298395 , 29.62550850601143\n",
      "[INFO] [2023-01-24 08:31:32,409] [OpenBox-SPO] Iteration 661, objective value: [32.521038848669065].\n"
     ]
    },
    {
     "name": "stderr",
     "output_type": "stream",
     "text": [
      " 66%|██████▌   | 661/1000 [8:25:24<4:12:54, 44.76s/it]"
     ]
    },
    {
     "name": "stdout",
     "output_type": "stream",
     "text": [
      "\t self.next_action: 0\n",
      "\n",
      "\t ----- tradeoff_buffer: 4 ----- \n",
      "\t ----- reward: -0.10988772465685118 for f_star and f_minus: 21.53226638298395 , 32.521038848669065\n",
      "[INFO] [2023-01-24 08:32:21,125] [OpenBox-SPO] Iteration 662, objective value: [26.12633067870057].\n"
     ]
    },
    {
     "name": "stderr",
     "output_type": "stream",
     "text": [
      " 66%|██████▌   | 662/1000 [8:26:13<4:18:50, 45.95s/it]"
     ]
    },
    {
     "name": "stdout",
     "output_type": "stream",
     "text": [
      "\t self.next_action: -1\n",
      "\n",
      "\t ----- tradeoff_buffer: 4 ----- \n",
      "\t ----- reward: -0.04594064295716624 for f_star and f_minus: 21.53226638298395 , 26.12633067870057\n",
      "[INFO] [2023-01-24 08:33:03,625] [OpenBox-SPO] Iteration 663, objective value: [30.153804576728547].\n"
     ]
    },
    {
     "name": "stderr",
     "output_type": "stream",
     "text": [
      " 66%|██████▋   | 663/1000 [8:26:55<4:12:16, 44.91s/it]"
     ]
    },
    {
     "name": "stdout",
     "output_type": "stream",
     "text": [
      "\t self.next_action: 0\n",
      "\n",
      "\t ----- tradeoff_buffer: 3 ----- \n",
      "\t ----- reward: -0.08621538193744602 for f_star and f_minus: 21.53226638298395 , 30.153804576728547\n",
      "[INFO] [2023-01-24 08:33:03,626] [Advisor] Sample random config. rand_prob=0.100000.\n",
      "[INFO] [2023-01-24 08:33:35,988] [OpenBox-SPO] Iteration 664, objective value: [60.20208603171821].\n"
     ]
    },
    {
     "name": "stderr",
     "output_type": "stream",
     "text": [
      " 66%|██████▋   | 664/1000 [8:27:27<3:50:26, 41.15s/it]"
     ]
    },
    {
     "name": "stdout",
     "output_type": "stream",
     "text": [
      "\t self.next_action: -1\n",
      "\n",
      "\t ----- tradeoff_buffer: 4 ----- \n",
      "\t ----- reward: -1 for f_star and f_minus: 21.53226638298395 , 60.20208603171821\n",
      "[INFO] [2023-01-24 08:34:23,911] [OpenBox-SPO] Iteration 665, objective value: [39.53553975907235].\n"
     ]
    },
    {
     "name": "stderr",
     "output_type": "stream",
     "text": [
      " 66%|██████▋   | 665/1000 [8:28:15<4:01:05, 43.18s/it]"
     ]
    },
    {
     "name": "stdout",
     "output_type": "stream",
     "text": [
      "\t self.next_action: 1\n",
      "\n",
      "\t ----- tradeoff_buffer: 5 ----- \n",
      "\t ----- reward: -0.18003273376088405 for f_star and f_minus: 21.53226638298395 , 39.53553975907235\n",
      "[INFO] [2023-01-24 08:35:14,627] [OpenBox-SPO] Iteration 666, objective value: [32.16059035220226].\n"
     ]
    },
    {
     "name": "stderr",
     "output_type": "stream",
     "text": [
      " 67%|██████▋   | 666/1000 [8:29:06<4:12:57, 45.44s/it]"
     ]
    },
    {
     "name": "stdout",
     "output_type": "stream",
     "text": [
      "\t self.next_action: 1\n",
      "\n",
      "\t ----- tradeoff_buffer: 5 ----- \n",
      "\t ----- reward: -0.10628323969218315 for f_star and f_minus: 21.53226638298395 , 32.16059035220226\n",
      "[INFO] [2023-01-24 08:35:54,205] [OpenBox-SPO] Iteration 667, objective value: [48.21762344344992].\n"
     ]
    },
    {
     "name": "stderr",
     "output_type": "stream",
     "text": [
      " 67%|██████▋   | 667/1000 [8:29:46<4:02:26, 43.68s/it]"
     ]
    },
    {
     "name": "stdout",
     "output_type": "stream",
     "text": [
      "\t self.next_action: 0\n",
      "\n",
      "\t ----- tradeoff_buffer: 6 ----- \n",
      "\t ----- reward: -0.26685357060465964 for f_star and f_minus: 21.53226638298395 , 48.21762344344992\n",
      "[INFO] [2023-01-24 08:36:41,765] [OpenBox-SPO] Iteration 668, objective value: [38.29211686226367].\n"
     ]
    },
    {
     "name": "stderr",
     "output_type": "stream",
     "text": [
      " 67%|██████▋   | 668/1000 [8:30:33<4:08:08, 44.85s/it]"
     ]
    },
    {
     "name": "stdout",
     "output_type": "stream",
     "text": [
      "\t self.next_action: 1\n",
      "\n",
      "\t ----- tradeoff_buffer: 7 ----- \n",
      "\t ----- reward: -0.16759850479279723 for f_star and f_minus: 21.53226638298395 , 38.29211686226367\n",
      "[INFO] [2023-01-24 08:37:29,490] [OpenBox-SPO] Iteration 669, objective value: [27.55383923297248].\n"
     ]
    },
    {
     "name": "stderr",
     "output_type": "stream",
     "text": [
      " 67%|██████▋   | 669/1000 [8:31:21<4:12:09, 45.71s/it]"
     ]
    },
    {
     "name": "stdout",
     "output_type": "stream",
     "text": [
      "\t self.next_action: 1\n",
      "\n",
      "\t ----- tradeoff_buffer: 6 ----- \n",
      "\t ----- reward: -0.060215728499885296 for f_star and f_minus: 21.53226638298395 , 27.55383923297248\n",
      "[INFO] [2023-01-24 08:38:15,551] [OpenBox-SPO] Iteration 670, objective value: [26.50863704391797].\n"
     ]
    },
    {
     "name": "stderr",
     "output_type": "stream",
     "text": [
      " 67%|██████▋   | 670/1000 [8:32:07<4:11:58, 45.81s/it]"
     ]
    },
    {
     "name": "stdout",
     "output_type": "stream",
     "text": [
      "\t self.next_action: -1\n",
      "\n",
      "\t ----- tradeoff_buffer: 7 ----- \n",
      "\t ----- reward: -0.049763706609340236 for f_star and f_minus: 21.53226638298395 , 26.50863704391797\n",
      "[INFO] [2023-01-24 08:38:59,383] [OpenBox-SPO] Iteration 671, objective value: [28.324157025902082].\n"
     ]
    },
    {
     "name": "stderr",
     "output_type": "stream",
     "text": [
      " 67%|██████▋   | 671/1000 [8:32:51<4:07:57, 45.22s/it]"
     ]
    },
    {
     "name": "stdout",
     "output_type": "stream",
     "text": [
      "\t self.next_action: 1\n",
      "\n",
      "\t ----- tradeoff_buffer: 6 ----- \n",
      "\t ----- reward: -0.06791890642918133 for f_star and f_minus: 21.53226638298395 , 28.324157025902082\n",
      "[INFO] [2023-01-24 08:39:47,169] [OpenBox-SPO] Iteration 672, objective value: [40.82723815487841].\n"
     ]
    },
    {
     "name": "stderr",
     "output_type": "stream",
     "text": [
      " 67%|██████▋   | 672/1000 [8:33:39<4:11:24, 45.99s/it]"
     ]
    },
    {
     "name": "stdout",
     "output_type": "stream",
     "text": [
      "\t self.next_action: -1\n",
      "\n",
      "\t ----- tradeoff_buffer: 7 ----- \n",
      "\t ----- reward: -0.19294971771894462 for f_star and f_minus: 21.53226638298395 , 40.82723815487841\n",
      "[INFO] [2023-01-24 08:40:35,856] [OpenBox-SPO] Iteration 673, objective value: [30.49352087046006].\n"
     ]
    },
    {
     "name": "stderr",
     "output_type": "stream",
     "text": [
      " 67%|██████▋   | 673/1000 [8:34:27<4:15:03, 46.80s/it]"
     ]
    },
    {
     "name": "stdout",
     "output_type": "stream",
     "text": [
      "\t self.next_action: 1\n",
      "\n",
      "\t ----- tradeoff_buffer: 7 ----- \n",
      "\t ----- reward: -0.08961254487476114 for f_star and f_minus: 21.53226638298395 , 30.49352087046006\n",
      "[INFO] [2023-01-24 08:41:20,295] [OpenBox-SPO] Iteration 674, objective value: [23.77344884949146].\n"
     ]
    },
    {
     "name": "stderr",
     "output_type": "stream",
     "text": [
      " 67%|██████▋   | 674/1000 [8:35:12<4:10:25, 46.09s/it]"
     ]
    },
    {
     "name": "stdout",
     "output_type": "stream",
     "text": [
      "\t self.next_action: 0\n",
      "\n",
      "\t ----- tradeoff_buffer: 6 ----- \n",
      "\t ----- reward: -0.022411824665075103 for f_star and f_minus: 21.53226638298395 , 23.77344884949146\n",
      "[INFO] [2023-01-24 08:42:05,110] [OpenBox-SPO] Iteration 675, objective value: [27.03419526151795].\n"
     ]
    },
    {
     "name": "stderr",
     "output_type": "stream",
     "text": [
      " 68%|██████▊   | 675/1000 [8:35:57<4:07:35, 45.71s/it]"
     ]
    },
    {
     "name": "stdout",
     "output_type": "stream",
     "text": [
      "\t self.next_action: -1\n",
      "\n",
      "\t ----- tradeoff_buffer: 6 ----- \n",
      "\t ----- reward: -0.05501928878534004 for f_star and f_minus: 21.53226638298395 , 27.03419526151795\n",
      "[INFO] [2023-01-24 08:42:50,920] [OpenBox-SPO] Iteration 676, objective value: [26.16268309130014].\n"
     ]
    },
    {
     "name": "stderr",
     "output_type": "stream",
     "text": [
      " 68%|██████▊   | 676/1000 [8:36:42<4:06:59, 45.74s/it]"
     ]
    },
    {
     "name": "stdout",
     "output_type": "stream",
     "text": [
      "\t self.next_action: 0\n",
      "\n",
      "\t ----- tradeoff_buffer: 6 ----- \n",
      "\t ----- reward: -0.0463041670831619 for f_star and f_minus: 21.53226638298395 , 26.16268309130014\n",
      "[INFO] [2023-01-24 08:43:38,314] [OpenBox-SPO] Iteration 677, objective value: [25.404165289546867].\n"
     ]
    },
    {
     "name": "stderr",
     "output_type": "stream",
     "text": [
      " 68%|██████▊   | 677/1000 [8:37:30<4:08:54, 46.24s/it]"
     ]
    },
    {
     "name": "stdout",
     "output_type": "stream",
     "text": [
      "\t self.next_action: 0\n",
      "\n",
      "\t ----- tradeoff_buffer: 6 ----- \n",
      "\t ----- reward: -0.03871898906562918 for f_star and f_minus: 21.53226638298395 , 25.404165289546867\n",
      "[INFO] [2023-01-24 08:44:22,242] [OpenBox-SPO] Iteration 678, objective value: [27.62496122962166].\n"
     ]
    },
    {
     "name": "stderr",
     "output_type": "stream",
     "text": [
      " 68%|██████▊   | 678/1000 [8:38:14<4:04:24, 45.54s/it]"
     ]
    },
    {
     "name": "stdout",
     "output_type": "stream",
     "text": [
      "\t self.next_action: 0\n",
      "\n",
      "\t ----- tradeoff_buffer: 7 ----- \n",
      "\t ----- reward: -0.06092694846637711 for f_star and f_minus: 21.53226638298395 , 27.62496122962166\n",
      "[INFO] [2023-01-24 08:45:10,182] [OpenBox-SPO] Iteration 679, objective value: [25.605471990452628].\n"
     ]
    },
    {
     "name": "stderr",
     "output_type": "stream",
     "text": [
      " 68%|██████▊   | 679/1000 [8:39:02<4:07:30, 46.26s/it]"
     ]
    },
    {
     "name": "stdout",
     "output_type": "stream",
     "text": [
      "\t self.next_action: 1\n",
      "\n",
      "\t ----- tradeoff_buffer: 6 ----- \n",
      "\t ----- reward: -0.0407320560746868 for f_star and f_minus: 21.53226638298395 , 25.605471990452628\n",
      "[INFO] [2023-01-24 08:45:56,662] [OpenBox-SPO] Iteration 680, objective value: [28.971133045328244].\n"
     ]
    },
    {
     "name": "stderr",
     "output_type": "stream",
     "text": [
      " 68%|██████▊   | 680/1000 [8:39:48<4:07:04, 46.33s/it]"
     ]
    },
    {
     "name": "stdout",
     "output_type": "stream",
     "text": [
      "\t self.next_action: -1\n",
      "\n",
      "\t ----- tradeoff_buffer: 6 ----- \n",
      "\t ----- reward: -0.07438866662344298 for f_star and f_minus: 21.53226638298395 , 28.971133045328244\n",
      "[INFO] [2023-01-24 08:46:44,256] [OpenBox-SPO] Iteration 681, objective value: [32.56196427433784].\n"
     ]
    },
    {
     "name": "stderr",
     "output_type": "stream",
     "text": [
      " 68%|██████▊   | 681/1000 [8:40:36<4:08:19, 46.71s/it]"
     ]
    },
    {
     "name": "stdout",
     "output_type": "stream",
     "text": [
      "\t self.next_action: 0\n",
      "\n",
      "\t ----- tradeoff_buffer: 7 ----- \n",
      "\t ----- reward: -0.11029697891353893 for f_star and f_minus: 21.53226638298395 , 32.56196427433784\n",
      "[INFO] [2023-01-24 08:47:29,646] [OpenBox-SPO] Iteration 682, objective value: [26.764773018755918].\n"
     ]
    },
    {
     "name": "stderr",
     "output_type": "stream",
     "text": [
      " 68%|██████▊   | 682/1000 [8:41:21<4:05:27, 46.31s/it]"
     ]
    },
    {
     "name": "stdout",
     "output_type": "stream",
     "text": [
      "\t self.next_action: 1\n",
      "\n",
      "\t ----- tradeoff_buffer: 6 ----- \n",
      "\t ----- reward: -0.05232506635771969 for f_star and f_minus: 21.53226638298395 , 26.764773018755918\n",
      "[INFO] [2023-01-24 08:48:17,335] [OpenBox-SPO] Iteration 683, objective value: [26.693762426580747].\n"
     ]
    },
    {
     "name": "stderr",
     "output_type": "stream",
     "text": [
      " 68%|██████▊   | 683/1000 [8:42:09<4:06:51, 46.73s/it]"
     ]
    },
    {
     "name": "stdout",
     "output_type": "stream",
     "text": [
      "\t self.next_action: -1\n",
      "\n",
      "\t ----- tradeoff_buffer: 6 ----- \n",
      "\t ----- reward: -0.051614960435968 for f_star and f_minus: 21.53226638298395 , 26.693762426580747\n",
      "[INFO] [2023-01-24 08:49:02,117] [OpenBox-SPO] Iteration 684, objective value: [25.859258242987153].\n"
     ]
    },
    {
     "name": "stderr",
     "output_type": "stream",
     "text": [
      " 68%|██████▊   | 684/1000 [8:42:54<4:03:00, 46.14s/it]"
     ]
    },
    {
     "name": "stdout",
     "output_type": "stream",
     "text": [
      "\t self.next_action: 0\n",
      "\n",
      "\t ----- tradeoff_buffer: 6 ----- \n",
      "\t ----- reward: -0.04326991860003207 for f_star and f_minus: 21.53226638298395 , 25.859258242987153\n",
      "[INFO] [2023-01-24 08:49:43,732] [OpenBox-SPO] Iteration 685, objective value: [35.585366031145796].\n"
     ]
    },
    {
     "name": "stderr",
     "output_type": "stream",
     "text": [
      " 68%|██████▊   | 685/1000 [8:43:35<3:55:07, 44.78s/it]"
     ]
    },
    {
     "name": "stdout",
     "output_type": "stream",
     "text": [
      "\t self.next_action: 0\n",
      "\n",
      "\t ----- tradeoff_buffer: 7 ----- \n",
      "\t ----- reward: -0.14053099648161846 for f_star and f_minus: 21.53226638298395 , 35.585366031145796\n",
      "[INFO] [2023-01-24 08:50:34,946] [OpenBox-SPO] Iteration 686, objective value: [30.69381580912126].\n"
     ]
    },
    {
     "name": "stderr",
     "output_type": "stream",
     "text": [
      " 69%|██████▊   | 686/1000 [8:44:26<4:04:27, 46.71s/it]"
     ]
    },
    {
     "name": "stdout",
     "output_type": "stream",
     "text": [
      "\t self.next_action: 1\n",
      "\n",
      "\t ----- tradeoff_buffer: 7 ----- \n",
      "\t ----- reward: -0.09161549426137314 for f_star and f_minus: 21.53226638298395 , 30.69381580912126\n",
      "[INFO] [2023-01-24 08:51:19,661] [OpenBox-SPO] Iteration 687, objective value: [28.189172025106515].\n"
     ]
    },
    {
     "name": "stderr",
     "output_type": "stream",
     "text": [
      " 69%|██████▊   | 687/1000 [8:45:11<4:00:33, 46.11s/it]"
     ]
    },
    {
     "name": "stdout",
     "output_type": "stream",
     "text": [
      "\t self.next_action: 0\n",
      "\n",
      "\t ----- tradeoff_buffer: 6 ----- \n",
      "\t ----- reward: -0.06656905642122565 for f_star and f_minus: 21.53226638298395 , 28.189172025106515\n",
      "[INFO] [2023-01-24 08:52:03,802] [OpenBox-SPO] Iteration 688, objective value: [40.35143617199102].\n"
     ]
    },
    {
     "name": "stderr",
     "output_type": "stream",
     "text": [
      " 69%|██████▉   | 688/1000 [8:45:55<3:56:42, 45.52s/it]"
     ]
    },
    {
     "name": "stdout",
     "output_type": "stream",
     "text": [
      "\t self.next_action: -1\n",
      "\n",
      "\t ----- tradeoff_buffer: 6 ----- \n",
      "\t ----- reward: -0.1881916978900707 for f_star and f_minus: 21.53226638298395 , 40.35143617199102\n",
      "[INFO] [2023-01-24 08:52:49,572] [OpenBox-SPO] Iteration 689, objective value: [26.932094534002147].\n"
     ]
    },
    {
     "name": "stderr",
     "output_type": "stream",
     "text": [
      " 69%|██████▉   | 689/1000 [8:46:41<3:56:20, 45.60s/it]"
     ]
    },
    {
     "name": "stdout",
     "output_type": "stream",
     "text": [
      "\t self.next_action: 0\n",
      "\n",
      "\t ----- tradeoff_buffer: 5 ----- \n",
      "\t ----- reward: -0.05399828151018202 for f_star and f_minus: 21.53226638298395 , 26.932094534002147\n",
      "[INFO] [2023-01-24 08:53:42,805] [OpenBox-SPO] Iteration 690, objective value: [29.505305112446294].\n"
     ]
    },
    {
     "name": "stderr",
     "output_type": "stream",
     "text": [
      " 69%|██████▉   | 690/1000 [8:47:34<4:07:25, 47.89s/it]"
     ]
    },
    {
     "name": "stdout",
     "output_type": "stream",
     "text": [
      "\t self.next_action: -1\n",
      "\n",
      "\t ----- tradeoff_buffer: 4 ----- \n",
      "\t ----- reward: -0.07973038729462348 for f_star and f_minus: 21.53226638298395 , 29.505305112446294\n",
      "[INFO] [2023-01-24 08:54:27,877] [OpenBox-SPO] Iteration 691, objective value: [27.51180315085577].\n"
     ]
    },
    {
     "name": "stderr",
     "output_type": "stream",
     "text": [
      " 69%|██████▉   | 691/1000 [8:48:19<4:02:16, 47.04s/it]"
     ]
    },
    {
     "name": "stdout",
     "output_type": "stream",
     "text": [
      "\t self.next_action: -1\n",
      "\n",
      "\t ----- tradeoff_buffer: 4 ----- \n",
      "\t ----- reward: -0.05979536767871821 for f_star and f_minus: 21.53226638298395 , 27.51180315085577\n",
      "[INFO] [2023-01-24 08:55:16,312] [OpenBox-SPO] Iteration 692, objective value: [23.745437309037214].\n"
     ]
    },
    {
     "name": "stderr",
     "output_type": "stream",
     "text": [
      " 69%|██████▉   | 692/1000 [8:49:08<4:03:37, 47.46s/it]"
     ]
    },
    {
     "name": "stdout",
     "output_type": "stream",
     "text": [
      "\t self.next_action: 0\n",
      "\n",
      "\t ----- tradeoff_buffer: 3 ----- \n",
      "\t ----- reward: -0.022131709260532678 for f_star and f_minus: 21.53226638298395 , 23.745437309037214\n",
      "[INFO] [2023-01-24 08:56:02,903] [OpenBox-SPO] Iteration 693, objective value: [22.047160699119914].\n"
     ]
    },
    {
     "name": "stderr",
     "output_type": "stream",
     "text": [
      " 69%|██████▉   | 693/1000 [8:49:54<4:01:30, 47.20s/it]"
     ]
    },
    {
     "name": "stdout",
     "output_type": "stream",
     "text": [
      "\t self.next_action: -1\n",
      "\n",
      "\t ----- tradeoff_buffer: 2 ----- \n",
      "\t ----- reward: -0.005148943161359665 for f_star and f_minus: 21.53226638298395 , 22.047160699119914\n",
      "[INFO] [2023-01-24 08:56:48,890] [OpenBox-SPO] Iteration 694, objective value: [34.71962225339908].\n"
     ]
    },
    {
     "name": "stderr",
     "output_type": "stream",
     "text": [
      " 69%|██████▉   | 694/1000 [8:50:40<3:58:51, 46.84s/it]"
     ]
    },
    {
     "name": "stdout",
     "output_type": "stream",
     "text": [
      "\t self.next_action: -1\n",
      "\n",
      "\t ----- tradeoff_buffer: 2 ----- \n",
      "\t ----- reward: -0.13187355870415132 for f_star and f_minus: 21.53226638298395 , 34.71962225339908\n",
      "[INFO] [2023-01-24 08:57:36,517] [OpenBox-SPO] Iteration 695, objective value: [26.96774025041202].\n"
     ]
    },
    {
     "name": "stderr",
     "output_type": "stream",
     "text": [
      " 70%|██████▉   | 695/1000 [8:51:28<3:59:17, 47.07s/it]"
     ]
    },
    {
     "name": "stdout",
     "output_type": "stream",
     "text": [
      "\t self.next_action: 0\n",
      "\n",
      "\t ----- tradeoff_buffer: 1 ----- \n",
      "\t ----- reward: -0.05435473867428073 for f_star and f_minus: 21.53226638298395 , 26.96774025041202\n",
      "[INFO] [2023-01-24 08:58:24,816] [OpenBox-SPO] Iteration 696, objective value: [30.37468564841609].\n"
     ]
    },
    {
     "name": "stderr",
     "output_type": "stream",
     "text": [
      " 70%|██████▉   | 696/1000 [8:52:16<4:00:22, 47.44s/it]"
     ]
    },
    {
     "name": "stdout",
     "output_type": "stream",
     "text": [
      "\t self.next_action: -1\n",
      "\n",
      "\t ----- tradeoff_buffer: 0 ----- \n",
      "\t ----- reward: -0.08842419265432142 for f_star and f_minus: 21.53226638298395 , 30.37468564841609\n",
      "[INFO] [2023-01-24 08:59:11,824] [OpenBox-SPO] Iteration 697, objective value: [28.03287818546775].\n"
     ]
    },
    {
     "name": "stderr",
     "output_type": "stream",
     "text": [
      " 70%|██████▉   | 697/1000 [8:53:03<3:58:55, 47.31s/it]"
     ]
    },
    {
     "name": "stdout",
     "output_type": "stream",
     "text": [
      "\t self.next_action: -1\n",
      "\n",
      "\t ----- tradeoff_buffer: 0 ----- \n",
      "\t ----- reward: -0.06500611802483805 for f_star and f_minus: 21.53226638298395 , 28.03287818546775\n",
      "[INFO] [2023-01-24 08:59:56,502] [OpenBox-SPO] Iteration 698, objective value: [27.15811916991815].\n"
     ]
    },
    {
     "name": "stderr",
     "output_type": "stream",
     "text": [
      " 70%|██████▉   | 698/1000 [8:53:48<3:54:09, 46.52s/it]"
     ]
    },
    {
     "name": "stdout",
     "output_type": "stream",
     "text": [
      "\t self.next_action: 0\n",
      "\n",
      "\t ----- tradeoff_buffer: 0 ----- \n",
      "\t ----- reward: -0.05625852786934202 for f_star and f_minus: 21.53226638298395 , 27.15811916991815\n",
      "[INFO] [2023-01-24 09:00:41,819] [OpenBox-SPO] Iteration 699, objective value: [32.39329081433692].\n"
     ]
    },
    {
     "name": "stderr",
     "output_type": "stream",
     "text": [
      " 70%|██████▉   | 699/1000 [8:54:33<3:51:34, 46.16s/it]"
     ]
    },
    {
     "name": "stdout",
     "output_type": "stream",
     "text": [
      "\t self.next_action: -1\n",
      "\n",
      "\t ----- tradeoff_buffer: 0 ----- \n",
      "\t ----- reward: -0.10861024431352975 for f_star and f_minus: 21.53226638298395 , 32.39329081433692\n",
      "[INFO] [2023-01-24 09:01:24,710] [OpenBox-SPO] Iteration 700, objective value: [28.195643505710976].\n"
     ]
    },
    {
     "name": "stderr",
     "output_type": "stream",
     "text": [
      " 70%|███████   | 700/1000 [8:55:16<3:45:53, 45.18s/it]"
     ]
    },
    {
     "name": "stdout",
     "output_type": "stream",
     "text": [
      "\t self.next_action: 0\n",
      "\n",
      "\t ----- tradeoff_buffer: 0 ----- \n",
      "\t ----- reward: -0.0666337712272703 for f_star and f_minus: 21.53226638298395 , 28.195643505710976\n",
      "[INFO] [2023-01-24 09:02:11,920] [OpenBox-SPO] Iteration 701, objective value: [28.118223071995814].\n"
     ]
    },
    {
     "name": "stderr",
     "output_type": "stream",
     "text": [
      " 70%|███████   | 701/1000 [8:56:03<3:48:10, 45.79s/it]"
     ]
    },
    {
     "name": "stdout",
     "output_type": "stream",
     "text": [
      "\t self.next_action: -1\n",
      "\n",
      "\t ----- tradeoff_buffer: 0 ----- \n",
      "\t ----- reward: -0.06585956689011865 for f_star and f_minus: 21.53226638298395 , 28.118223071995814\n",
      "[INFO] [2023-01-24 09:03:01,159] [OpenBox-SPO] Iteration 702, objective value: [28.51322672185772].\n"
     ]
    },
    {
     "name": "stderr",
     "output_type": "stream",
     "text": [
      " 70%|███████   | 702/1000 [8:56:53<3:52:33, 46.82s/it]"
     ]
    },
    {
     "name": "stdout",
     "output_type": "stream",
     "text": [
      "\t self.next_action: -1\n",
      "\n",
      "\t ----- tradeoff_buffer: 0 ----- \n",
      "\t ----- reward: -0.06980960338873773 for f_star and f_minus: 21.53226638298395 , 28.51322672185772\n",
      "[INFO] [2023-01-24 09:03:48,675] [OpenBox-SPO] Iteration 703, objective value: [24.434242402286074].\n"
     ]
    },
    {
     "name": "stderr",
     "output_type": "stream",
     "text": [
      " 70%|███████   | 703/1000 [8:57:40<3:52:48, 47.03s/it]"
     ]
    },
    {
     "name": "stdout",
     "output_type": "stream",
     "text": [
      "\t self.next_action: 0\n",
      "\n",
      "\t ----- tradeoff_buffer: 0 ----- \n",
      "\t ----- reward: -0.02901976019302127 for f_star and f_minus: 21.53226638298395 , 24.434242402286074\n",
      "[INFO] [2023-01-24 09:04:35,590] [OpenBox-SPO] Iteration 704, objective value: [32.92128461473975].\n"
     ]
    },
    {
     "name": "stderr",
     "output_type": "stream",
     "text": [
      " 70%|███████   | 704/1000 [8:58:27<3:51:50, 47.00s/it]"
     ]
    },
    {
     "name": "stdout",
     "output_type": "stream",
     "text": [
      "\t self.next_action: -1\n",
      "\n",
      "\t ----- tradeoff_buffer: 0 ----- \n",
      "\t ----- reward: -0.11389018231755801 for f_star and f_minus: 21.53226638298395 , 32.92128461473975\n",
      "[INFO] [2023-01-24 09:05:23,131] [OpenBox-SPO] Iteration 705, objective value: [26.128090898311214].\n"
     ]
    },
    {
     "name": "stderr",
     "output_type": "stream",
     "text": [
      " 70%|███████   | 705/1000 [8:59:15<3:51:52, 47.16s/it]"
     ]
    },
    {
     "name": "stdout",
     "output_type": "stream",
     "text": [
      "\t self.next_action: -1\n",
      "\n",
      "\t ----- tradeoff_buffer: 0 ----- \n",
      "\t ----- reward: -0.04595824515327265 for f_star and f_minus: 21.53226638298395 , 26.128090898311214\n",
      "[INFO] [2023-01-24 09:06:08,821] [OpenBox-SPO] Iteration 706, objective value: [29.005721652168575].\n"
     ]
    },
    {
     "name": "stderr",
     "output_type": "stream",
     "text": [
      " 71%|███████   | 706/1000 [9:00:00<3:48:55, 46.72s/it]"
     ]
    },
    {
     "name": "stdout",
     "output_type": "stream",
     "text": [
      "\t self.next_action: 0\n",
      "\n",
      "\t ----- tradeoff_buffer: 0 ----- \n",
      "\t ----- reward: -0.07473455269184628 for f_star and f_minus: 21.53226638298395 , 29.005721652168575\n",
      "[INFO] [2023-01-24 09:06:55,040] [OpenBox-SPO] Iteration 707, objective value: [27.59132713378216].\n"
     ]
    },
    {
     "name": "stderr",
     "output_type": "stream",
     "text": [
      " 71%|███████   | 707/1000 [9:00:47<3:47:24, 46.57s/it]"
     ]
    },
    {
     "name": "stdout",
     "output_type": "stream",
     "text": [
      "\t self.next_action: 0\n",
      "\n",
      "\t ----- tradeoff_buffer: 0 ----- \n",
      "\t ----- reward: -0.06059060750798209 for f_star and f_minus: 21.53226638298395 , 27.59132713378216\n",
      "[INFO] [2023-01-24 09:06:55,042] [Advisor] Sample random config. rand_prob=0.100000.\n",
      "[INFO] [2023-01-24 09:07:29,831] [OpenBox-SPO] Iteration 708, objective value: [49.45766457766876].\n"
     ]
    },
    {
     "name": "stderr",
     "output_type": "stream",
     "text": [
      " 71%|███████   | 708/1000 [9:01:21<3:29:26, 43.04s/it]"
     ]
    },
    {
     "name": "stdout",
     "output_type": "stream",
     "text": [
      "\t self.next_action: -1\n",
      "\n",
      "\t ----- tradeoff_buffer: 0 ----- \n",
      "\t ----- reward: -0.27925398194684814 for f_star and f_minus: 21.53226638298395 , 49.45766457766876\n",
      "[INFO] [2023-01-24 09:08:13,596] [OpenBox-SPO] Iteration 709, objective value: [29.5920412489981].\n"
     ]
    },
    {
     "name": "stderr",
     "output_type": "stream",
     "text": [
      " 71%|███████   | 709/1000 [9:02:05<3:29:46, 43.25s/it]"
     ]
    },
    {
     "name": "stdout",
     "output_type": "stream",
     "text": [
      "\t self.next_action: 0\n",
      "\n",
      "\t ----- tradeoff_buffer: 0 ----- \n",
      "\t ----- reward: -0.08059774866014155 for f_star and f_minus: 21.53226638298395 , 29.5920412489981\n",
      "[INFO] [2023-01-24 09:08:55,706] [OpenBox-SPO] Iteration 710, objective value: [31.623731851626772].\n"
     ]
    },
    {
     "name": "stderr",
     "output_type": "stream",
     "text": [
      " 71%|███████   | 710/1000 [9:02:47<3:27:24, 42.91s/it]"
     ]
    },
    {
     "name": "stdout",
     "output_type": "stream",
     "text": [
      "\t self.next_action: -1\n",
      "\n",
      "\t ----- tradeoff_buffer: 0 ----- \n",
      "\t ----- reward: -0.10091465468642827 for f_star and f_minus: 21.53226638298395 , 31.623731851626772\n",
      "[INFO] [2023-01-24 09:09:38,550] [OpenBox-SPO] Iteration 711, objective value: [25.026267009212603].\n"
     ]
    },
    {
     "name": "stderr",
     "output_type": "stream",
     "text": [
      " 71%|███████   | 711/1000 [9:03:30<3:26:35, 42.89s/it]"
     ]
    },
    {
     "name": "stdout",
     "output_type": "stream",
     "text": [
      "\t self.next_action: -1\n",
      "\n",
      "\t ----- tradeoff_buffer: 1 ----- \n",
      "\t ----- reward: -0.03494000626228658 for f_star and f_minus: 21.53226638298395 , 25.026267009212603\n",
      "[INFO] [2023-01-24 09:10:20,816] [OpenBox-SPO] Iteration 712, objective value: [27.304113194077956].\n"
     ]
    },
    {
     "name": "stderr",
     "output_type": "stream",
     "text": [
      " 71%|███████   | 712/1000 [9:04:12<3:24:58, 42.70s/it]"
     ]
    },
    {
     "name": "stdout",
     "output_type": "stream",
     "text": [
      "\t self.next_action: 1\n",
      "\n",
      "\t ----- tradeoff_buffer: 2 ----- \n",
      "\t ----- reward: -0.057718468110940085 for f_star and f_minus: 21.53226638298395 , 27.304113194077956\n",
      "[INFO] [2023-01-24 09:11:07,168] [OpenBox-SPO] Iteration 713, objective value: [30.861208851861036].\n"
     ]
    },
    {
     "name": "stderr",
     "output_type": "stream",
     "text": [
      " 71%|███████▏  | 713/1000 [9:04:59<3:29:30, 43.80s/it]"
     ]
    },
    {
     "name": "stdout",
     "output_type": "stream",
     "text": [
      "\t self.next_action: 1\n",
      "\n",
      "\t ----- tradeoff_buffer: 1 ----- \n",
      "\t ----- reward: -0.09328942468877091 for f_star and f_minus: 21.53226638298395 , 30.861208851861036\n",
      "[INFO] [2023-01-24 09:11:54,057] [OpenBox-SPO] Iteration 714, objective value: [27.520334017180318].\n"
     ]
    },
    {
     "name": "stderr",
     "output_type": "stream",
     "text": [
      " 71%|███████▏  | 714/1000 [9:05:46<3:33:11, 44.73s/it]"
     ]
    },
    {
     "name": "stdout",
     "output_type": "stream",
     "text": [
      "\t self.next_action: -1\n",
      "\n",
      "\t ----- tradeoff_buffer: 0 ----- \n",
      "\t ----- reward: -0.05988067634196373 for f_star and f_minus: 21.53226638298395 , 27.520334017180318\n",
      "[INFO] [2023-01-24 09:12:42,618] [OpenBox-SPO] Iteration 715, objective value: [25.234728526967686].\n"
     ]
    },
    {
     "name": "stderr",
     "output_type": "stream",
     "text": [
      " 72%|███████▏  | 715/1000 [9:06:34<3:37:54, 45.88s/it]"
     ]
    },
    {
     "name": "stdout",
     "output_type": "stream",
     "text": [
      "\t self.next_action: -1\n",
      "\n",
      "\t ----- tradeoff_buffer: 1 ----- \n",
      "\t ----- reward: -0.037024621439837396 for f_star and f_minus: 21.53226638298395 , 25.234728526967686\n",
      "[INFO] [2023-01-24 09:13:31,726] [OpenBox-SPO] Iteration 716, objective value: [26.87385779338453].\n"
     ]
    },
    {
     "name": "stderr",
     "output_type": "stream",
     "text": [
      " 72%|███████▏  | 716/1000 [9:07:23<3:41:44, 46.85s/it]"
     ]
    },
    {
     "name": "stdout",
     "output_type": "stream",
     "text": [
      "\t self.next_action: 1\n",
      "\n",
      "\t ----- tradeoff_buffer: 2 ----- \n",
      "\t ----- reward: -0.05341591410400584 for f_star and f_minus: 21.53226638298395 , 26.87385779338453\n",
      "[INFO] [2023-01-24 09:14:21,891] [OpenBox-SPO] Iteration 717, objective value: [37.69492446071927].\n"
     ]
    },
    {
     "name": "stderr",
     "output_type": "stream",
     "text": [
      " 72%|███████▏  | 717/1000 [9:08:13<3:45:39, 47.84s/it]"
     ]
    },
    {
     "name": "stdout",
     "output_type": "stream",
     "text": [
      "\t self.next_action: 1\n",
      "\n",
      "\t ----- tradeoff_buffer: 3 ----- \n",
      "\t ----- reward: -0.16162658077735323 for f_star and f_minus: 21.53226638298395 , 37.69492446071927\n",
      "[INFO] [2023-01-24 09:15:09,463] [OpenBox-SPO] Iteration 718, objective value: [30.81943719861701].\n"
     ]
    },
    {
     "name": "stderr",
     "output_type": "stream",
     "text": [
      " 72%|███████▏  | 718/1000 [9:09:01<3:44:28, 47.76s/it]"
     ]
    },
    {
     "name": "stdout",
     "output_type": "stream",
     "text": [
      "\t self.next_action: 1\n",
      "\n",
      "\t ----- tradeoff_buffer: 2 ----- \n",
      "\t ----- reward: -0.09287170815633064 for f_star and f_minus: 21.53226638298395 , 30.81943719861701\n",
      "[INFO] [2023-01-24 09:15:53,973] [OpenBox-SPO] Iteration 719, objective value: [26.20562856430989].\n"
     ]
    },
    {
     "name": "stderr",
     "output_type": "stream",
     "text": [
      " 72%|███████▏  | 719/1000 [9:09:45<3:39:06, 46.79s/it]"
     ]
    },
    {
     "name": "stdout",
     "output_type": "stream",
     "text": [
      "\t self.next_action: -1\n",
      "\n",
      "\t ----- tradeoff_buffer: 2 ----- \n",
      "\t ----- reward: -0.046733621813259435 for f_star and f_minus: 21.53226638298395 , 26.20562856430989\n",
      "[INFO] [2023-01-24 09:16:43,331] [OpenBox-SPO] Iteration 720, objective value: [33.13981094390469].\n"
     ]
    },
    {
     "name": "stderr",
     "output_type": "stream",
     "text": [
      " 72%|███████▏  | 720/1000 [9:10:35<3:41:56, 47.56s/it]"
     ]
    },
    {
     "name": "stdout",
     "output_type": "stream",
     "text": [
      "\t self.next_action: 0\n",
      "\n",
      "\t ----- tradeoff_buffer: 1 ----- \n",
      "\t ----- reward: -0.11607544560920743 for f_star and f_minus: 21.53226638298395 , 33.13981094390469\n",
      "[INFO] [2023-01-24 09:17:32,192] [OpenBox-SPO] Iteration 721, objective value: [33.982980882903234].\n"
     ]
    },
    {
     "name": "stderr",
     "output_type": "stream",
     "text": [
      " 72%|███████▏  | 721/1000 [9:11:24<3:42:57, 47.95s/it]"
     ]
    },
    {
     "name": "stdout",
     "output_type": "stream",
     "text": [
      "\t self.next_action: -1\n",
      "\n",
      "\t ----- tradeoff_buffer: 0 ----- \n",
      "\t ----- reward: -0.12450714499919288 for f_star and f_minus: 21.53226638298395 , 33.982980882903234\n",
      "[INFO] [2023-01-24 09:18:17,468] [OpenBox-SPO] Iteration 722, objective value: [24.33588182101623].\n"
     ]
    },
    {
     "name": "stderr",
     "output_type": "stream",
     "text": [
      " 72%|███████▏  | 722/1000 [9:12:09<3:38:26, 47.15s/it]"
     ]
    },
    {
     "name": "stdout",
     "output_type": "stream",
     "text": [
      "\t self.next_action: -1\n",
      "\n",
      "\t ----- tradeoff_buffer: 1 ----- \n",
      "\t ----- reward: -0.028036154380322836 for f_star and f_minus: 21.53226638298395 , 24.33588182101623\n",
      "[INFO] [2023-01-24 09:18:17,470] [Advisor] Sample random config. rand_prob=0.100000.\n",
      "[INFO] [2023-01-24 09:18:55,834] [OpenBox-SPO] Iteration 723, objective value: [61.12195199647347].\n"
     ]
    },
    {
     "name": "stderr",
     "output_type": "stream",
     "text": [
      " 72%|███████▏  | 723/1000 [9:12:47<3:25:29, 44.51s/it]"
     ]
    },
    {
     "name": "stdout",
     "output_type": "stream",
     "text": [
      "\t self.next_action: 1\n",
      "\n",
      "\t ----- tradeoff_buffer: 2 ----- \n",
      "\t ----- reward: -1 for f_star and f_minus: 21.53226638298395 , 61.12195199647347\n",
      "[INFO] [2023-01-24 09:19:42,011] [OpenBox-SPO] Iteration 724, objective value: [30.46521194231066].\n"
     ]
    },
    {
     "name": "stderr",
     "output_type": "stream",
     "text": [
      " 72%|███████▏  | 724/1000 [9:13:34<3:27:03, 45.01s/it]"
     ]
    },
    {
     "name": "stdout",
     "output_type": "stream",
     "text": [
      "\t self.next_action: 1\n",
      "\n",
      "\t ----- tradeoff_buffer: 2 ----- \n",
      "\t ----- reward: -0.08932945559326713 for f_star and f_minus: 21.53226638298395 , 30.46521194231066\n",
      "[INFO] [2023-01-24 09:20:32,144] [OpenBox-SPO] Iteration 725, objective value: [27.619562516667614].\n"
     ]
    },
    {
     "name": "stderr",
     "output_type": "stream",
     "text": [
      " 72%|███████▎  | 725/1000 [9:14:24<3:33:20, 46.55s/it]"
     ]
    },
    {
     "name": "stdout",
     "output_type": "stream",
     "text": [
      "\t self.next_action: 0\n",
      "\n",
      "\t ----- tradeoff_buffer: 3 ----- \n",
      "\t ----- reward: -0.060872961336836645 for f_star and f_minus: 21.53226638298395 , 27.619562516667614\n",
      "[INFO] [2023-01-24 09:21:19,819] [OpenBox-SPO] Iteration 726, objective value: [25.46084566703776].\n"
     ]
    },
    {
     "name": "stderr",
     "output_type": "stream",
     "text": [
      " 73%|███████▎  | 726/1000 [9:15:11<3:34:06, 46.89s/it]"
     ]
    },
    {
     "name": "stdout",
     "output_type": "stream",
     "text": [
      "\t self.next_action: 1\n",
      "\n",
      "\t ----- tradeoff_buffer: 2 ----- \n",
      "\t ----- reward: -0.0392857928405381 for f_star and f_minus: 21.53226638298395 , 25.46084566703776\n",
      "[INFO] [2023-01-24 09:22:08,944] [OpenBox-SPO] Iteration 727, objective value: [23.015121147449577].\n"
     ]
    },
    {
     "name": "stderr",
     "output_type": "stream",
     "text": [
      " 73%|███████▎  | 727/1000 [9:16:00<3:36:23, 47.56s/it]"
     ]
    },
    {
     "name": "stdout",
     "output_type": "stream",
     "text": [
      "\t self.next_action: -1\n",
      "\n",
      "\t ----- tradeoff_buffer: 2 ----- \n",
      "\t ----- reward: -0.014828547644656298 for f_star and f_minus: 21.53226638298395 , 23.015121147449577\n",
      "[INFO] [2023-01-24 09:22:53,849] [OpenBox-SPO] Iteration 728, objective value: [25.44580414317757].\n"
     ]
    },
    {
     "name": "stderr",
     "output_type": "stream",
     "text": [
      " 73%|███████▎  | 728/1000 [9:16:45<3:31:59, 46.76s/it]"
     ]
    },
    {
     "name": "stdout",
     "output_type": "stream",
     "text": [
      "\t self.next_action: 0\n",
      "\n",
      "\t ----- tradeoff_buffer: 1 ----- \n",
      "\t ----- reward: -0.03913537760193622 for f_star and f_minus: 21.53226638298395 , 25.44580414317757\n",
      "[INFO] [2023-01-24 09:23:40,987] [OpenBox-SPO] Iteration 729, objective value: [25.460161209087744].\n"
     ]
    },
    {
     "name": "stderr",
     "output_type": "stream",
     "text": [
      " 73%|███████▎  | 729/1000 [9:17:32<3:31:43, 46.87s/it]"
     ]
    },
    {
     "name": "stdout",
     "output_type": "stream",
     "text": [
      "\t self.next_action: -1\n",
      "\n",
      "\t ----- tradeoff_buffer: 0 ----- \n",
      "\t ----- reward: -0.03927894826103798 for f_star and f_minus: 21.53226638298395 , 25.460161209087744\n",
      "[INFO] [2023-01-24 09:24:28,445] [OpenBox-SPO] Iteration 730, objective value: [23.366241639788967].\n"
     ]
    },
    {
     "name": "stderr",
     "output_type": "stream",
     "text": [
      " 73%|███████▎  | 730/1000 [9:18:20<3:31:43, 47.05s/it]"
     ]
    },
    {
     "name": "stdout",
     "output_type": "stream",
     "text": [
      "\t self.next_action: -1\n",
      "\n",
      "\t ----- tradeoff_buffer: 1 ----- \n",
      "\t ----- reward: -0.018339752568050205 for f_star and f_minus: 21.53226638298395 , 23.366241639788967\n",
      "[INFO] [2023-01-24 09:25:15,420] [OpenBox-SPO] Iteration 731, objective value: [24.278182596387936].\n"
     ]
    },
    {
     "name": "stderr",
     "output_type": "stream",
     "text": [
      " 73%|███████▎  | 731/1000 [9:19:07<3:30:50, 47.03s/it]"
     ]
    },
    {
     "name": "stdout",
     "output_type": "stream",
     "text": [
      "\t self.next_action: 1\n",
      "\n",
      "\t ----- tradeoff_buffer: 0 ----- \n",
      "\t ----- reward: -0.02745916213403987 for f_star and f_minus: 21.53226638298395 , 24.278182596387936\n",
      "[INFO] [2023-01-24 09:26:04,895] [OpenBox-SPO] Iteration 732, objective value: [27.246512601870222].\n"
     ]
    },
    {
     "name": "stderr",
     "output_type": "stream",
     "text": [
      " 73%|███████▎  | 732/1000 [9:19:56<3:33:20, 47.76s/it]"
     ]
    },
    {
     "name": "stdout",
     "output_type": "stream",
     "text": [
      "\t self.next_action: -1\n",
      "\n",
      "\t ----- tradeoff_buffer: 1 ----- \n",
      "\t ----- reward: -0.057142462188862736 for f_star and f_minus: 21.53226638298395 , 27.246512601870222\n",
      "[INFO] [2023-01-24 09:26:04,896] [Advisor] Sample random config. rand_prob=0.100000.\n",
      "[INFO] [2023-01-24 09:26:43,892] [OpenBox-SPO] Iteration 733, objective value: [45.020824585950045].\n"
     ]
    },
    {
     "name": "stderr",
     "output_type": "stream",
     "text": [
      " 73%|███████▎  | 733/1000 [9:20:35<3:20:50, 45.13s/it]"
     ]
    },
    {
     "name": "stdout",
     "output_type": "stream",
     "text": [
      "\t self.next_action: 1\n",
      "\n",
      "\t ----- tradeoff_buffer: 0 ----- \n",
      "\t ----- reward: -0.234885582029661 for f_star and f_minus: 21.53226638298395 , 45.020824585950045\n",
      "[INFO] [2023-01-24 09:27:30,502] [OpenBox-SPO] Iteration 734, objective value: [33.04182149025259].\n"
     ]
    },
    {
     "name": "stderr",
     "output_type": "stream",
     "text": [
      " 73%|███████▎  | 734/1000 [9:21:22<3:22:03, 45.58s/it]"
     ]
    },
    {
     "name": "stdout",
     "output_type": "stream",
     "text": [
      "\t self.next_action: -1\n",
      "\n",
      "\t ----- tradeoff_buffer: 0 ----- \n",
      "\t ----- reward: -0.1150955510726864 for f_star and f_minus: 21.53226638298395 , 33.04182149025259\n",
      "[INFO] [2023-01-24 09:28:18,468] [OpenBox-SPO] Iteration 735, objective value: [48.07359877327588].\n"
     ]
    },
    {
     "name": "stderr",
     "output_type": "stream",
     "text": [
      " 74%|███████▎  | 735/1000 [9:22:10<3:24:27, 46.29s/it]"
     ]
    },
    {
     "name": "stdout",
     "output_type": "stream",
     "text": [
      "\t self.next_action: -1\n",
      "\n",
      "\t ----- tradeoff_buffer: 1 ----- \n",
      "\t ----- reward: -0.2654133239029194 for f_star and f_minus: 21.53226638298395 , 48.07359877327588\n",
      "[INFO] [2023-01-24 09:29:10,498] [OpenBox-SPO] Iteration 736, objective value: [31.45780547689037].\n"
     ]
    },
    {
     "name": "stderr",
     "output_type": "stream",
     "text": [
      " 74%|███████▎  | 736/1000 [9:23:02<3:31:15, 48.01s/it]"
     ]
    },
    {
     "name": "stdout",
     "output_type": "stream",
     "text": [
      "\t self.next_action: 1\n",
      "\n",
      "\t ----- tradeoff_buffer: 1 ----- \n",
      "\t ----- reward: -0.09925539093906424 for f_star and f_minus: 21.53226638298395 , 31.45780547689037\n",
      "[INFO] [2023-01-24 09:30:03,212] [OpenBox-SPO] Iteration 737, objective value: [26.07346866403148].\n"
     ]
    },
    {
     "name": "stderr",
     "output_type": "stream",
     "text": [
      " 74%|███████▎  | 737/1000 [9:23:55<3:36:38, 49.42s/it]"
     ]
    },
    {
     "name": "stdout",
     "output_type": "stream",
     "text": [
      "\t self.next_action: 0\n",
      "\n",
      "\t ----- tradeoff_buffer: 1 ----- \n",
      "\t ----- reward: -0.04541202281047532 for f_star and f_minus: 21.53226638298395 , 26.07346866403148\n",
      "[INFO] [2023-01-24 09:30:03,214] [Advisor] Sample random config. rand_prob=0.100000.\n",
      "[INFO] [2023-01-24 09:30:40,069] [OpenBox-SPO] Iteration 738, objective value: [56.883714151035136].\n"
     ]
    },
    {
     "name": "stderr",
     "output_type": "stream",
     "text": [
      " 74%|███████▍  | 738/1000 [9:24:32<3:19:21, 45.65s/it]"
     ]
    },
    {
     "name": "stdout",
     "output_type": "stream",
     "text": [
      "\t self.next_action: 0\n",
      "\n",
      "\t ----- tradeoff_buffer: 1 ----- \n",
      "\t ----- reward: -1 for f_star and f_minus: 21.53226638298395 , 56.883714151035136\n",
      "[INFO] [2023-01-24 09:31:26,561] [OpenBox-SPO] Iteration 739, objective value: [30.263020150973503].\n"
     ]
    },
    {
     "name": "stderr",
     "output_type": "stream",
     "text": [
      " 74%|███████▍  | 739/1000 [9:25:18<3:19:41, 45.91s/it]"
     ]
    },
    {
     "name": "stdout",
     "output_type": "stream",
     "text": [
      "\t self.next_action: 0\n",
      "\n",
      "\t ----- tradeoff_buffer: 0 ----- \n",
      "\t ----- reward: -0.08730753767989555 for f_star and f_minus: 21.53226638298395 , 30.263020150973503\n",
      "[INFO] [2023-01-24 09:32:15,847] [OpenBox-SPO] Iteration 740, objective value: [26.88848908597467].\n"
     ]
    },
    {
     "name": "stderr",
     "output_type": "stream",
     "text": [
      " 74%|███████▍  | 740/1000 [9:26:07<3:23:19, 46.92s/it]"
     ]
    },
    {
     "name": "stdout",
     "output_type": "stream",
     "text": [
      "\t self.next_action: -1\n",
      "\n",
      "\t ----- tradeoff_buffer: 0 ----- \n",
      "\t ----- reward: -0.05356222702990723 for f_star and f_minus: 21.53226638298395 , 26.88848908597467\n",
      "[INFO] [2023-01-24 09:33:04,478] [OpenBox-SPO] Iteration 741, objective value: [23.586225860836606].\n"
     ]
    },
    {
     "name": "stderr",
     "output_type": "stream",
     "text": [
      " 74%|███████▍  | 741/1000 [9:26:56<3:24:45, 47.43s/it]"
     ]
    },
    {
     "name": "stdout",
     "output_type": "stream",
     "text": [
      "\t self.next_action: -1\n",
      "\n",
      "\t ----- tradeoff_buffer: 0 ----- \n",
      "\t ----- reward: -0.0205395947785266 for f_star and f_minus: 21.53226638298395 , 23.586225860836606\n",
      "[INFO] [2023-01-24 09:33:54,123] [OpenBox-SPO] Iteration 742, objective value: [23.71815111334513].\n"
     ]
    },
    {
     "name": "stderr",
     "output_type": "stream",
     "text": [
      " 74%|███████▍  | 742/1000 [9:27:46<3:26:48, 48.10s/it]"
     ]
    },
    {
     "name": "stdout",
     "output_type": "stream",
     "text": [
      "\t self.next_action: 0\n",
      "\n",
      "\t ----- tradeoff_buffer: 0 ----- \n",
      "\t ----- reward: -0.021858847303611817 for f_star and f_minus: 21.53226638298395 , 23.71815111334513\n",
      "[INFO] [2023-01-24 09:34:49,223] [OpenBox-SPO] Iteration 743, objective value: [42.30007175670353].\n"
     ]
    },
    {
     "name": "stderr",
     "output_type": "stream",
     "text": [
      " 74%|███████▍  | 743/1000 [9:28:41<3:35:00, 50.20s/it]"
     ]
    },
    {
     "name": "stdout",
     "output_type": "stream",
     "text": [
      "\t self.next_action: 0\n",
      "\n",
      "\t ----- tradeoff_buffer: 0 ----- \n",
      "\t ----- reward: -0.20767805373719586 for f_star and f_minus: 21.53226638298395 , 42.30007175670353\n",
      "[INFO] [2023-01-24 09:35:36,537] [OpenBox-SPO] Iteration 744, objective value: [30.967076574772022].\n"
     ]
    },
    {
     "name": "stderr",
     "output_type": "stream",
     "text": [
      " 74%|███████▍  | 744/1000 [9:29:28<3:30:29, 49.33s/it]"
     ]
    },
    {
     "name": "stdout",
     "output_type": "stream",
     "text": [
      "\t self.next_action: 0\n",
      "\n",
      "\t ----- tradeoff_buffer: 0 ----- \n",
      "\t ----- reward: -0.09434810191788076 for f_star and f_minus: 21.53226638298395 , 30.967076574772022\n",
      "[INFO] [2023-01-24 09:35:36,538] [Advisor] Sample random config. rand_prob=0.100000.\n",
      "[INFO] [2023-01-24 09:36:22,429] [OpenBox-SPO] Iteration 745, objective value: [48.904529667376174].\n"
     ]
    },
    {
     "name": "stderr",
     "output_type": "stream",
     "text": [
      " 74%|███████▍  | 745/1000 [9:30:14<3:25:16, 48.30s/it]"
     ]
    },
    {
     "name": "stdout",
     "output_type": "stream",
     "text": [
      "\t self.next_action: -1\n",
      "\n",
      "\t ----- tradeoff_buffer: 0 ----- \n",
      "\t ----- reward: -0.2737226328439223 for f_star and f_minus: 21.53226638298395 , 48.904529667376174\n",
      "[INFO] [2023-01-24 09:37:10,056] [OpenBox-SPO] Iteration 746, objective value: [36.70805316568124].\n"
     ]
    },
    {
     "name": "stderr",
     "output_type": "stream",
     "text": [
      " 75%|███████▍  | 746/1000 [9:31:02<3:23:36, 48.10s/it]"
     ]
    },
    {
     "name": "stdout",
     "output_type": "stream",
     "text": [
      "\t self.next_action: -1\n",
      "\n",
      "\t ----- tradeoff_buffer: 0 ----- \n",
      "\t ----- reward: -0.15175786782697295 for f_star and f_minus: 21.53226638298395 , 36.70805316568124\n",
      "[INFO] [2023-01-24 09:37:54,831] [OpenBox-SPO] Iteration 747, objective value: [25.66131120419297].\n"
     ]
    },
    {
     "name": "stderr",
     "output_type": "stream",
     "text": [
      " 75%|███████▍  | 747/1000 [9:31:46<3:18:36, 47.10s/it]"
     ]
    },
    {
     "name": "stdout",
     "output_type": "stream",
     "text": [
      "\t self.next_action: 0\n",
      "\n",
      "\t ----- tradeoff_buffer: 1 ----- \n",
      "\t ----- reward: -0.04129044821209024 for f_star and f_minus: 21.53226638298395 , 25.66131120419297\n",
      "[INFO] [2023-01-24 10:21:19,212] [OpenBox-SPO] Iteration 748, objective value: [21.53079161084422].\n"
     ]
    },
    {
     "name": "stderr",
     "output_type": "stream",
     "text": [
      " 75%|███████▍  | 748/1000 [10:15:11<56:59:59, 814.29s/it]"
     ]
    },
    {
     "name": "stdout",
     "output_type": "stream",
     "text": [
      "\t self.next_action: 1\n",
      "\n",
      "\t ----- tradeoff_buffer: 0 ----- \n",
      "\t ----- reward: 0.7846920838915579 for f_star and f_minus: 21.53226638298395 , 21.53079161084422\n",
      "[INFO] [2023-01-24 11:09:13,168] [OpenBox-SPO] Iteration 749, objective value: [27.374198706917184].\n"
     ]
    },
    {
     "name": "stderr",
     "output_type": "stream",
     "text": [
      " 75%|███████▍  | 749/1000 [11:03:05<99:51:18, 1432.19s/it]"
     ]
    },
    {
     "name": "stdout",
     "output_type": "stream",
     "text": [
      "\t self.next_action: -1\n",
      "\n",
      "\t ----- tradeoff_buffer: 1 ----- \n",
      "\t ----- reward: -0.05841932323933238 for f_star and f_minus: 21.53226638298395 , 27.374198706917184\n",
      "[INFO] [2023-01-24 12:29:51,412] [OpenBox-SPO] Iteration 750, objective value: [25.594774777042204].\n"
     ]
    },
    {
     "name": "stderr",
     "output_type": "stream",
     "text": [
      " 75%|███████▌  | 750/1000 [12:23:43<170:25:00, 2454.00s/it]"
     ]
    },
    {
     "name": "stdout",
     "output_type": "stream",
     "text": [
      "\t self.next_action: 1\n",
      "\n",
      "\t ----- tradeoff_buffer: 0 ----- \n",
      "\t ----- reward: -0.040639831661979875 for f_star and f_minus: 21.53079161084422 , 25.594774777042204\n",
      "[INFO] [2023-01-24 12:30:35,990] [OpenBox-SPO] Iteration 751, objective value: [26.110355099583614].\n"
     ]
    },
    {
     "name": "stderr",
     "output_type": "stream",
     "text": [
      " 75%|███████▌  | 751/1000 [12:24:27<119:44:22, 1731.18s/it]"
     ]
    },
    {
     "name": "stdout",
     "output_type": "stream",
     "text": [
      "\t self.next_action: -1\n",
      "\n",
      "\t ----- tradeoff_buffer: 1 ----- \n",
      "\t ----- reward: -0.045795634887393966 for f_star and f_minus: 21.53079161084422 , 26.110355099583614\n",
      "[INFO] [2023-01-24 12:31:23,647] [OpenBox-SPO] Iteration 752, objective value: [24.243637506248135].\n"
     ]
    },
    {
     "name": "stderr",
     "output_type": "stream",
     "text": [
      " 75%|███████▌  | 752/1000 [12:25:15<84:27:57, 1226.12s/it] "
     ]
    },
    {
     "name": "stdout",
     "output_type": "stream",
     "text": [
      "\t self.next_action: 1\n",
      "\n",
      "\t ----- tradeoff_buffer: 0 ----- \n",
      "\t ----- reward: -0.027128458954039147 for f_star and f_minus: 21.53079161084422 , 24.243637506248135\n",
      "[INFO] [2023-01-24 12:32:12,517] [OpenBox-SPO] Iteration 753, objective value: [27.095717260958992].\n"
     ]
    },
    {
     "name": "stderr",
     "output_type": "stream",
     "text": [
      " 75%|███████▌  | 753/1000 [12:26:04<59:53:37, 872.95s/it] "
     ]
    },
    {
     "name": "stdout",
     "output_type": "stream",
     "text": [
      "\t self.next_action: -1\n",
      "\n",
      "\t ----- tradeoff_buffer: 1 ----- \n",
      "\t ----- reward: -0.055649256501147715 for f_star and f_minus: 21.53079161084422 , 27.095717260958992\n",
      "[INFO] [2023-01-24 12:32:56,750] [OpenBox-SPO] Iteration 754, objective value: [26.198093010348074].\n"
     ]
    },
    {
     "name": "stderr",
     "output_type": "stream",
     "text": [
      " 75%|███████▌  | 754/1000 [12:26:48<42:39:45, 624.33s/it]"
     ]
    },
    {
     "name": "stdout",
     "output_type": "stream",
     "text": [
      "\t self.next_action: 1\n",
      "\n",
      "\t ----- tradeoff_buffer: 0 ----- \n",
      "\t ----- reward: -0.04667301399503854 for f_star and f_minus: 21.53079161084422 , 26.198093010348074\n",
      "[INFO] [2023-01-24 12:33:46,260] [OpenBox-SPO] Iteration 755, objective value: [22.943228344205266].\n"
     ]
    },
    {
     "name": "stderr",
     "output_type": "stream",
     "text": [
      " 76%|███████▌  | 755/1000 [12:27:38<30:45:11, 451.89s/it]"
     ]
    },
    {
     "name": "stdout",
     "output_type": "stream",
     "text": [
      "\t self.next_action: -1\n",
      "\n",
      "\t ----- tradeoff_buffer: 1 ----- \n",
      "\t ----- reward: -0.014124367333610471 for f_star and f_minus: 21.53079161084422 , 22.943228344205266\n",
      "[INFO] [2023-01-24 12:34:36,506] [OpenBox-SPO] Iteration 756, objective value: [28.577680308087807].\n"
     ]
    },
    {
     "name": "stderr",
     "output_type": "stream",
     "text": [
      " 76%|███████▌  | 756/1000 [12:28:28<22:27:40, 331.39s/it]"
     ]
    },
    {
     "name": "stdout",
     "output_type": "stream",
     "text": [
      "\t self.next_action: 1\n",
      "\n",
      "\t ----- tradeoff_buffer: 0 ----- \n",
      "\t ----- reward: -0.07046888697243586 for f_star and f_minus: 21.53079161084422 , 28.577680308087807\n",
      "[INFO] [2023-01-24 12:35:24,582] [OpenBox-SPO] Iteration 757, objective value: [24.77888348424939].\n"
     ]
    },
    {
     "name": "stderr",
     "output_type": "stream",
     "text": [
      " 76%|███████▌  | 757/1000 [12:29:16<16:37:54, 246.40s/it]"
     ]
    },
    {
     "name": "stdout",
     "output_type": "stream",
     "text": [
      "\t self.next_action: -1\n",
      "\n",
      "\t ----- tradeoff_buffer: 1 ----- \n",
      "\t ----- reward: -0.032480918734051734 for f_star and f_minus: 21.53079161084422 , 24.77888348424939\n",
      "[INFO] [2023-01-24 12:36:14,030] [OpenBox-SPO] Iteration 758, objective value: [24.782397372158215].\n"
     ]
    },
    {
     "name": "stderr",
     "output_type": "stream",
     "text": [
      " 76%|███████▌  | 758/1000 [12:30:06<12:35:29, 187.31s/it]"
     ]
    },
    {
     "name": "stdout",
     "output_type": "stream",
     "text": [
      "\t self.next_action: 1\n",
      "\n",
      "\t ----- tradeoff_buffer: 0 ----- \n",
      "\t ----- reward: -0.03251605761313997 for f_star and f_minus: 21.53079161084422 , 24.782397372158215\n",
      "[INFO] [2023-01-24 12:37:01,021] [OpenBox-SPO] Iteration 759, objective value: [35.35196049358828].\n"
     ]
    },
    {
     "name": "stderr",
     "output_type": "stream",
     "text": [
      " 76%|███████▌  | 759/1000 [12:30:53<9:43:17, 145.22s/it] "
     ]
    },
    {
     "name": "stdout",
     "output_type": "stream",
     "text": [
      "\t self.next_action: -1\n",
      "\n",
      "\t ----- tradeoff_buffer: 1 ----- \n",
      "\t ----- reward: -0.13821168882744062 for f_star and f_minus: 21.53079161084422 , 35.35196049358828\n",
      "[INFO] [2023-01-24 12:37:51,076] [OpenBox-SPO] Iteration 760, objective value: [28.420272261394274].\n"
     ]
    },
    {
     "name": "stderr",
     "output_type": "stream",
     "text": [
      " 76%|███████▌  | 760/1000 [12:31:43<7:46:40, 116.67s/it]"
     ]
    },
    {
     "name": "stdout",
     "output_type": "stream",
     "text": [
      "\t self.next_action: 1\n",
      "\n",
      "\t ----- tradeoff_buffer: 0 ----- \n",
      "\t ----- reward: -0.06889480650550056 for f_star and f_minus: 21.53079161084422 , 28.420272261394274\n",
      "[INFO] [2023-01-24 12:38:38,837] [OpenBox-SPO] Iteration 761, objective value: [25.53992142089065].\n"
     ]
    },
    {
     "name": "stderr",
     "output_type": "stream",
     "text": [
      " 76%|███████▌  | 761/1000 [12:32:30<6:22:23, 96.00s/it] "
     ]
    },
    {
     "name": "stdout",
     "output_type": "stream",
     "text": [
      "\t self.next_action: -1\n",
      "\n",
      "\t ----- tradeoff_buffer: 0 ----- \n",
      "\t ----- reward: -0.0400912981004643 for f_star and f_minus: 21.53079161084422 , 25.53992142089065\n",
      "[INFO] [2023-01-24 12:39:25,911] [OpenBox-SPO] Iteration 762, objective value: [28.71130630258608].\n"
     ]
    },
    {
     "name": "stderr",
     "output_type": "stream",
     "text": [
      " 76%|███████▌  | 762/1000 [12:33:17<5:22:33, 81.32s/it]"
     ]
    },
    {
     "name": "stdout",
     "output_type": "stream",
     "text": [
      "\t self.next_action: 0\n",
      "\n",
      "\t ----- tradeoff_buffer: 0 ----- \n",
      "\t ----- reward: -0.07180514691741863 for f_star and f_minus: 21.53079161084422 , 28.71130630258608\n",
      "[INFO] [2023-01-24 12:40:18,617] [OpenBox-SPO] Iteration 763, objective value: [23.979843412030576].\n"
     ]
    },
    {
     "name": "stderr",
     "output_type": "stream",
     "text": [
      " 76%|███████▋  | 763/1000 [12:34:10<4:47:18, 72.74s/it]"
     ]
    },
    {
     "name": "stdout",
     "output_type": "stream",
     "text": [
      "\t self.next_action: 0\n",
      "\n",
      "\t ----- tradeoff_buffer: 1 ----- \n",
      "\t ----- reward: -0.024490518011863582 for f_star and f_minus: 21.53079161084422 , 23.979843412030576\n",
      "[INFO] [2023-01-24 12:41:10,126] [OpenBox-SPO] Iteration 764, objective value: [25.006215000957894].\n"
     ]
    },
    {
     "name": "stderr",
     "output_type": "stream",
     "text": [
      " 76%|███████▋  | 764/1000 [12:35:02<4:21:02, 66.37s/it]"
     ]
    },
    {
     "name": "stdout",
     "output_type": "stream",
     "text": [
      "\t self.next_action: 1\n",
      "\n",
      "\t ----- tradeoff_buffer: 0 ----- \n",
      "\t ----- reward: -0.034754233901136744 for f_star and f_minus: 21.53079161084422 , 25.006215000957894\n",
      "[INFO] [2023-01-24 12:42:00,127] [OpenBox-SPO] Iteration 765, objective value: [34.421445942642876].\n"
     ]
    },
    {
     "name": "stderr",
     "output_type": "stream",
     "text": [
      " 76%|███████▋  | 765/1000 [12:35:52<4:00:42, 61.46s/it]"
     ]
    },
    {
     "name": "stdout",
     "output_type": "stream",
     "text": [
      "\t self.next_action: -1\n",
      "\n",
      "\t ----- tradeoff_buffer: 1 ----- \n",
      "\t ----- reward: -0.12890654331798657 for f_star and f_minus: 21.53079161084422 , 34.421445942642876\n",
      "[INFO] [2023-01-24 12:42:00,129] [Advisor] Sample random config. rand_prob=0.100000.\n",
      "[INFO] [2023-01-24 12:42:41,203] [OpenBox-SPO] Iteration 766, objective value: [56.246629154497654].\n"
     ]
    },
    {
     "name": "stderr",
     "output_type": "stream",
     "text": [
      " 77%|███████▋  | 766/1000 [12:36:33<3:35:50, 55.34s/it]"
     ]
    },
    {
     "name": "stdout",
     "output_type": "stream",
     "text": [
      "\t self.next_action: 1\n",
      "\n",
      "\t ----- tradeoff_buffer: 0 ----- \n",
      "\t ----- reward: -1 for f_star and f_minus: 21.53079161084422 , 56.246629154497654\n",
      "[INFO] [2023-01-24 12:43:31,738] [OpenBox-SPO] Iteration 767, objective value: [33.83652875789532].\n"
     ]
    },
    {
     "name": "stderr",
     "output_type": "stream",
     "text": [
      " 77%|███████▋  | 767/1000 [12:37:23<3:29:18, 53.90s/it]"
     ]
    },
    {
     "name": "stdout",
     "output_type": "stream",
     "text": [
      "\t self.next_action: -1\n",
      "\n",
      "\t ----- tradeoff_buffer: 0 ----- \n",
      "\t ----- reward: -0.12305737147051105 for f_star and f_minus: 21.53079161084422 , 33.83652875789532\n",
      "[INFO] [2023-01-24 12:44:26,996] [OpenBox-SPO] Iteration 768, objective value: [22.306970379985927].\n"
     ]
    },
    {
     "name": "stderr",
     "output_type": "stream",
     "text": [
      " 77%|███████▋  | 768/1000 [12:38:19<3:29:59, 54.31s/it]"
     ]
    },
    {
     "name": "stdout",
     "output_type": "stream",
     "text": [
      "\t self.next_action: 0\n",
      "\n",
      "\t ----- tradeoff_buffer: 0 ----- \n",
      "\t ----- reward: -0.0077617876914170825 for f_star and f_minus: 21.53079161084422 , 22.306970379985927\n",
      "[INFO] [2023-01-24 12:45:28,277] [OpenBox-SPO] Iteration 769, objective value: [30.034875684060736].\n"
     ]
    },
    {
     "name": "stderr",
     "output_type": "stream",
     "text": [
      " 77%|███████▋  | 769/1000 [12:39:20<3:37:08, 56.40s/it]"
     ]
    },
    {
     "name": "stdout",
     "output_type": "stream",
     "text": [
      "\t self.next_action: -1\n",
      "\n",
      "\t ----- tradeoff_buffer: 0 ----- \n",
      "\t ----- reward: -0.08504084073216517 for f_star and f_minus: 21.53079161084422 , 30.034875684060736\n",
      "[INFO] [2023-01-24 12:46:23,252] [OpenBox-SPO] Iteration 770, objective value: [29.359957947355767].\n"
     ]
    },
    {
     "name": "stderr",
     "output_type": "stream",
     "text": [
      " 77%|███████▋  | 770/1000 [12:40:15<3:34:33, 55.97s/it]"
     ]
    },
    {
     "name": "stdout",
     "output_type": "stream",
     "text": [
      "\t self.next_action: -1\n",
      "\n",
      "\t ----- tradeoff_buffer: 0 ----- \n",
      "\t ----- reward: -0.0782916633651155 for f_star and f_minus: 21.53079161084422 , 29.359957947355767\n",
      "[INFO] [2023-01-24 12:46:23,254] [Advisor] Sample random config. rand_prob=0.100000.\n",
      "[INFO] [2023-01-24 12:47:05,107] [OpenBox-SPO] Iteration 771, objective value: [46.913589618585696].\n"
     ]
    },
    {
     "name": "stderr",
     "output_type": "stream",
     "text": [
      " 77%|███████▋  | 771/1000 [12:40:57<3:17:27, 51.74s/it]"
     ]
    },
    {
     "name": "stdout",
     "output_type": "stream",
     "text": [
      "\t self.next_action: -1\n",
      "\n",
      "\t ----- tradeoff_buffer: 1 ----- \n",
      "\t ----- reward: -0.25382798007741475 for f_star and f_minus: 21.53079161084422 , 46.913589618585696\n",
      "[INFO] [2023-01-24 12:47:57,957] [OpenBox-SPO] Iteration 772, objective value: [29.727090745312097].\n"
     ]
    },
    {
     "name": "stderr",
     "output_type": "stream",
     "text": [
      " 77%|███████▋  | 772/1000 [12:41:49<3:17:52, 52.07s/it]"
     ]
    },
    {
     "name": "stdout",
     "output_type": "stream",
     "text": [
      "\t self.next_action: 1\n",
      "\n",
      "\t ----- tradeoff_buffer: 0 ----- \n",
      "\t ----- reward: -0.08196299134467877 for f_star and f_minus: 21.53079161084422 , 29.727090745312097\n",
      "[INFO] [2023-01-24 12:48:59,048] [OpenBox-SPO] Iteration 773, objective value: [24.856160668405252].\n"
     ]
    },
    {
     "name": "stderr",
     "output_type": "stream",
     "text": [
      " 77%|███████▋  | 773/1000 [12:42:51<3:27:14, 54.78s/it]"
     ]
    },
    {
     "name": "stdout",
     "output_type": "stream",
     "text": [
      "\t self.next_action: -1\n",
      "\n",
      "\t ----- tradeoff_buffer: 0 ----- \n",
      "\t ----- reward: -0.03325369057561034 for f_star and f_minus: 21.53079161084422 , 24.856160668405252\n",
      "[INFO] [2023-01-24 12:49:54,196] [OpenBox-SPO] Iteration 774, objective value: [36.1714188899762].\n"
     ]
    },
    {
     "name": "stderr",
     "output_type": "stream",
     "text": [
      " 77%|███████▋  | 774/1000 [12:43:46<3:26:44, 54.89s/it]"
     ]
    },
    {
     "name": "stdout",
     "output_type": "stream",
     "text": [
      "\t self.next_action: -1\n",
      "\n",
      "\t ----- tradeoff_buffer: 0 ----- \n",
      "\t ----- reward: -0.14640627279131985 for f_star and f_minus: 21.53079161084422 , 36.1714188899762\n",
      "[INFO] [2023-01-24 12:50:42,699] [OpenBox-SPO] Iteration 775, objective value: [31.656670541513662].\n"
     ]
    },
    {
     "name": "stderr",
     "output_type": "stream",
     "text": [
      " 78%|███████▊  | 775/1000 [12:44:34<3:18:38, 52.97s/it]"
     ]
    },
    {
     "name": "stdout",
     "output_type": "stream",
     "text": [
      "\t self.next_action: -1\n",
      "\n",
      "\t ----- tradeoff_buffer: 0 ----- \n",
      "\t ----- reward: -0.10125878930669446 for f_star and f_minus: 21.53079161084422 , 31.656670541513662\n",
      "[INFO] [2023-01-24 12:50:42,701] [Advisor] Sample random config. rand_prob=0.100000.\n",
      "[INFO] [2023-01-24 12:51:18,806] [OpenBox-SPO] Iteration 776, objective value: [55.726852345107424].\n"
     ]
    },
    {
     "name": "stderr",
     "output_type": "stream",
     "text": [
      " 78%|███████▊  | 776/1000 [12:45:10<2:58:52, 47.91s/it]"
     ]
    },
    {
     "name": "stdout",
     "output_type": "stream",
     "text": [
      "\t self.next_action: 0\n",
      "\n",
      "\t ----- tradeoff_buffer: 0 ----- \n",
      "\t ----- reward: -1 for f_star and f_minus: 21.53079161084422 , 55.726852345107424\n",
      "[INFO] [2023-01-24 12:52:17,479] [OpenBox-SPO] Iteration 777, objective value: [33.535310352123275].\n"
     ]
    },
    {
     "name": "stderr",
     "output_type": "stream",
     "text": [
      " 78%|███████▊  | 777/1000 [12:46:09<3:10:04, 51.14s/it]"
     ]
    },
    {
     "name": "stdout",
     "output_type": "stream",
     "text": [
      "\t self.next_action: 0\n",
      "\n",
      "\t ----- tradeoff_buffer: 0 ----- \n",
      "\t ----- reward: -0.12004518741279058 for f_star and f_minus: 21.53079161084422 , 33.535310352123275\n",
      "[INFO] [2023-01-24 12:53:11,756] [OpenBox-SPO] Iteration 778, objective value: [26.857372774181925].\n"
     ]
    },
    {
     "name": "stderr",
     "output_type": "stream",
     "text": [
      " 78%|███████▊  | 778/1000 [12:47:03<3:12:42, 52.08s/it]"
     ]
    },
    {
     "name": "stdout",
     "output_type": "stream",
     "text": [
      "\t self.next_action: -1\n",
      "\n",
      "\t ----- tradeoff_buffer: 0 ----- \n",
      "\t ----- reward: -0.05326581163337707 for f_star and f_minus: 21.53079161084422 , 26.857372774181925\n",
      "[INFO] [2023-01-24 12:54:02,120] [OpenBox-SPO] Iteration 779, objective value: [31.2282449589066].\n"
     ]
    },
    {
     "name": "stderr",
     "output_type": "stream",
     "text": [
      " 78%|███████▊  | 779/1000 [12:47:54<3:09:56, 51.57s/it]"
     ]
    },
    {
     "name": "stdout",
     "output_type": "stream",
     "text": [
      "\t self.next_action: -1\n",
      "\n",
      "\t ----- tradeoff_buffer: 0 ----- \n",
      "\t ----- reward: -0.09697453348062379 for f_star and f_minus: 21.53079161084422 , 31.2282449589066\n",
      "[INFO] [2023-01-24 12:55:04,825] [OpenBox-SPO] Iteration 780, objective value: [30.101889584420263].\n"
     ]
    },
    {
     "name": "stderr",
     "output_type": "stream",
     "text": [
      " 78%|███████▊  | 780/1000 [12:48:56<3:21:19, 54.91s/it]"
     ]
    },
    {
     "name": "stdout",
     "output_type": "stream",
     "text": [
      "\t self.next_action: -1\n",
      "\n",
      "\t ----- tradeoff_buffer: 1 ----- \n",
      "\t ----- reward: -0.08571097973576042 for f_star and f_minus: 21.53079161084422 , 30.101889584420263\n",
      "[INFO] [2023-01-24 12:56:02,207] [OpenBox-SPO] Iteration 781, objective value: [22.628523599147385].\n"
     ]
    },
    {
     "name": "stderr",
     "output_type": "stream",
     "text": [
      " 78%|███████▊  | 781/1000 [12:49:54<3:23:07, 55.65s/it]"
     ]
    },
    {
     "name": "stdout",
     "output_type": "stream",
     "text": [
      "\t self.next_action: 1\n",
      "\n",
      "\t ----- tradeoff_buffer: 2 ----- \n",
      "\t ----- reward: -0.010977319883031661 for f_star and f_minus: 21.53079161084422 , 22.628523599147385\n",
      "[INFO] [2023-01-24 12:57:04,771] [OpenBox-SPO] Iteration 782, objective value: [32.115214108933074].\n"
     ]
    },
    {
     "name": "stderr",
     "output_type": "stream",
     "text": [
      " 78%|███████▊  | 782/1000 [12:50:56<3:29:43, 57.72s/it]"
     ]
    },
    {
     "name": "stdout",
     "output_type": "stream",
     "text": [
      "\t self.next_action: 1\n",
      "\n",
      "\t ----- tradeoff_buffer: 3 ----- \n",
      "\t ----- reward: -0.10584422498088858 for f_star and f_minus: 21.53079161084422 , 32.115214108933074\n",
      "[INFO] [2023-01-24 12:58:00,750] [OpenBox-SPO] Iteration 783, objective value: [23.39224228119609].\n"
     ]
    },
    {
     "name": "stderr",
     "output_type": "stream",
     "text": [
      " 78%|███████▊  | 783/1000 [12:51:52<3:26:52, 57.20s/it]"
     ]
    },
    {
     "name": "stdout",
     "output_type": "stream",
     "text": [
      "\t self.next_action: 1\n",
      "\n",
      "\t ----- tradeoff_buffer: 2 ----- \n",
      "\t ----- reward: -0.01861450670351872 for f_star and f_minus: 21.53079161084422 , 23.39224228119609\n",
      "[INFO] [2023-01-24 12:58:00,753] [Advisor] Sample random config. rand_prob=0.100000.\n",
      "[INFO] [2023-01-24 12:58:35,039] [OpenBox-SPO] Iteration 784, objective value: [59.84663622088406].\n"
     ]
    },
    {
     "name": "stderr",
     "output_type": "stream",
     "text": [
      " 78%|███████▊  | 784/1000 [12:52:27<3:01:10, 50.33s/it]"
     ]
    },
    {
     "name": "stdout",
     "output_type": "stream",
     "text": [
      "\t self.next_action: -1\n",
      "\n",
      "\t ----- tradeoff_buffer: 2 ----- \n",
      "\t ----- reward: -1 for f_star and f_minus: 21.53079161084422 , 59.84663622088406\n",
      "[INFO] [2023-01-24 12:59:37,271] [OpenBox-SPO] Iteration 785, objective value: [32.025847179533756].\n"
     ]
    },
    {
     "name": "stderr",
     "output_type": "stream",
     "text": [
      " 78%|███████▊  | 785/1000 [12:53:29<3:13:08, 53.90s/it]"
     ]
    },
    {
     "name": "stdout",
     "output_type": "stream",
     "text": [
      "\t self.next_action: 0\n",
      "\n",
      "\t ----- tradeoff_buffer: 1 ----- \n",
      "\t ----- reward: -0.10495055568689537 for f_star and f_minus: 21.53079161084422 , 32.025847179533756\n",
      "[INFO] [2023-01-24 13:00:43,729] [OpenBox-SPO] Iteration 786, objective value: [26.45262941637914].\n"
     ]
    },
    {
     "name": "stderr",
     "output_type": "stream",
     "text": [
      " 79%|███████▊  | 786/1000 [12:54:35<3:25:40, 57.67s/it]"
     ]
    },
    {
     "name": "stdout",
     "output_type": "stream",
     "text": [
      "\t self.next_action: -1\n",
      "\n",
      "\t ----- tradeoff_buffer: 2 ----- \n",
      "\t ----- reward: -0.04921837805534918 for f_star and f_minus: 21.53079161084422 , 26.45262941637914\n",
      "[INFO] [2023-01-24 13:01:36,159] [OpenBox-SPO] Iteration 787, objective value: [24.894470306930188].\n"
     ]
    },
    {
     "name": "stderr",
     "output_type": "stream",
     "text": [
      " 79%|███████▊  | 787/1000 [12:55:28<3:19:08, 56.10s/it]"
     ]
    },
    {
     "name": "stdout",
     "output_type": "stream",
     "text": [
      "\t self.next_action: 1\n",
      "\n",
      "\t ----- tradeoff_buffer: 3 ----- \n",
      "\t ----- reward: -0.0336367869608597 for f_star and f_minus: 21.53079161084422 , 24.894470306930188\n",
      "[INFO] [2023-01-24 13:02:36,953] [OpenBox-SPO] Iteration 788, objective value: [24.59924626750461].\n"
     ]
    },
    {
     "name": "stderr",
     "output_type": "stream",
     "text": [
      " 79%|███████▉  | 788/1000 [12:56:28<3:23:11, 57.50s/it]"
     ]
    },
    {
     "name": "stdout",
     "output_type": "stream",
     "text": [
      "\t self.next_action: 1\n",
      "\n",
      "\t ----- tradeoff_buffer: 4 ----- \n",
      "\t ----- reward: -0.030684546566603937 for f_star and f_minus: 21.53079161084422 , 24.59924626750461\n",
      "[INFO] [2023-01-24 13:03:29,301] [OpenBox-SPO] Iteration 789, objective value: [27.925426363462307].\n"
     ]
    },
    {
     "name": "stderr",
     "output_type": "stream",
     "text": [
      " 79%|███████▉  | 789/1000 [12:57:21<3:16:47, 55.96s/it]"
     ]
    },
    {
     "name": "stdout",
     "output_type": "stream",
     "text": [
      "\t self.next_action: 1\n",
      "\n",
      "\t ----- tradeoff_buffer: 4 ----- \n",
      "\t ----- reward: -0.06394634752618089 for f_star and f_minus: 21.53079161084422 , 27.925426363462307\n",
      "[INFO] [2023-01-24 13:03:29,303] [Advisor] Sample random config. rand_prob=0.100000.\n",
      "[INFO] [2023-01-24 13:04:20,860] [OpenBox-SPO] Iteration 790, objective value: [58.343774683402735].\n"
     ]
    },
    {
     "name": "stderr",
     "output_type": "stream",
     "text": [
      " 79%|███████▉  | 790/1000 [12:58:12<3:11:14, 54.64s/it]"
     ]
    },
    {
     "name": "stdout",
     "output_type": "stream",
     "text": [
      "\t self.next_action: 0\n",
      "\n",
      "\t ----- tradeoff_buffer: 5 ----- \n",
      "\t ----- reward: -1 for f_star and f_minus: 21.53079161084422 , 58.343774683402735\n",
      "[INFO] [2023-01-24 13:05:14,899] [OpenBox-SPO] Iteration 791, objective value: [34.57505260565145].\n"
     ]
    },
    {
     "name": "stderr",
     "output_type": "stream",
     "text": [
      " 79%|███████▉  | 791/1000 [12:59:06<3:09:41, 54.46s/it]"
     ]
    },
    {
     "name": "stdout",
     "output_type": "stream",
     "text": [
      "\t self.next_action: 1\n",
      "\n",
      "\t ----- tradeoff_buffer: 5 ----- \n",
      "\t ----- reward: -0.13044260994807233 for f_star and f_minus: 21.53079161084422 , 34.57505260565145\n",
      "[INFO] [2023-01-24 13:06:08,586] [OpenBox-SPO] Iteration 792, objective value: [25.811891459832495].\n"
     ]
    },
    {
     "name": "stderr",
     "output_type": "stream",
     "text": [
      " 79%|███████▉  | 792/1000 [13:00:00<3:07:59, 54.23s/it]"
     ]
    },
    {
     "name": "stdout",
     "output_type": "stream",
     "text": [
      "\t self.next_action: 0\n",
      "\n",
      "\t ----- tradeoff_buffer: 4 ----- \n",
      "\t ----- reward: -0.042810998489882734 for f_star and f_minus: 21.53079161084422 , 25.811891459832495\n",
      "[INFO] [2023-01-24 13:07:06,391] [OpenBox-SPO] Iteration 793, objective value: [28.174196886576084].\n"
     ]
    },
    {
     "name": "stderr",
     "output_type": "stream",
     "text": [
      " 79%|███████▉  | 793/1000 [13:00:58<3:10:47, 55.30s/it]"
     ]
    },
    {
     "name": "stdout",
     "output_type": "stream",
     "text": [
      "\t self.next_action: -1\n",
      "\n",
      "\t ----- tradeoff_buffer: 3 ----- \n",
      "\t ----- reward: -0.06643405275731867 for f_star and f_minus: 21.53079161084422 , 28.174196886576084\n",
      "[INFO] [2023-01-24 13:08:06,056] [OpenBox-SPO] Iteration 794, objective value: [25.280879450872163].\n"
     ]
    },
    {
     "name": "stderr",
     "output_type": "stream",
     "text": [
      " 79%|███████▉  | 794/1000 [13:01:58<3:14:21, 56.61s/it]"
     ]
    },
    {
     "name": "stdout",
     "output_type": "stream",
     "text": [
      "\t self.next_action: -1\n",
      "\n",
      "\t ----- tradeoff_buffer: 2 ----- \n",
      "\t ----- reward: -0.037500878400279436 for f_star and f_minus: 21.53079161084422 , 25.280879450872163\n",
      "[INFO] [2023-01-24 13:08:59,695] [OpenBox-SPO] Iteration 795, objective value: [24.117127307945225].\n"
     ]
    },
    {
     "name": "stderr",
     "output_type": "stream",
     "text": [
      " 80%|███████▉  | 795/1000 [13:02:51<3:10:22, 55.72s/it]"
     ]
    },
    {
     "name": "stdout",
     "output_type": "stream",
     "text": [
      "\t self.next_action: -1\n",
      "\n",
      "\t ----- tradeoff_buffer: 1 ----- \n",
      "\t ----- reward: -0.025863356971010054 for f_star and f_minus: 21.53079161084422 , 24.117127307945225\n",
      "[INFO] [2023-01-24 13:09:58,385] [OpenBox-SPO] Iteration 796, objective value: [26.268925224276742].\n"
     ]
    },
    {
     "name": "stderr",
     "output_type": "stream",
     "text": [
      " 80%|███████▉  | 796/1000 [13:03:50<3:12:28, 56.61s/it]"
     ]
    },
    {
     "name": "stdout",
     "output_type": "stream",
     "text": [
      "\t self.next_action: -1\n",
      "\n",
      "\t ----- tradeoff_buffer: 2 ----- \n",
      "\t ----- reward: -0.047381336134325214 for f_star and f_minus: 21.53079161084422 , 26.268925224276742\n",
      "[INFO] [2023-01-24 13:10:51,390] [OpenBox-SPO] Iteration 797, objective value: [27.390944995146143].\n"
     ]
    },
    {
     "name": "stderr",
     "output_type": "stream",
     "text": [
      " 80%|███████▉  | 797/1000 [13:04:43<3:07:52, 55.53s/it]"
     ]
    },
    {
     "name": "stdout",
     "output_type": "stream",
     "text": [
      "\t self.next_action: 1\n",
      "\n",
      "\t ----- tradeoff_buffer: 3 ----- \n",
      "\t ----- reward: -0.05860153384301925 for f_star and f_minus: 21.53079161084422 , 27.390944995146143\n",
      "[INFO] [2023-01-24 13:11:49,924] [OpenBox-SPO] Iteration 798, objective value: [35.57194711835456].\n"
     ]
    },
    {
     "name": "stderr",
     "output_type": "stream",
     "text": [
      " 80%|███████▉  | 798/1000 [13:05:41<3:09:58, 56.43s/it]"
     ]
    },
    {
     "name": "stdout",
     "output_type": "stream",
     "text": [
      "\t self.next_action: 1\n",
      "\n",
      "\t ----- tradeoff_buffer: 4 ----- \n",
      "\t ----- reward: -0.1404115550751034 for f_star and f_minus: 21.53079161084422 , 35.57194711835456\n",
      "[INFO] [2023-01-24 13:12:46,651] [OpenBox-SPO] Iteration 799, objective value: [27.040993030934132].\n"
     ]
    },
    {
     "name": "stderr",
     "output_type": "stream",
     "text": [
      " 80%|███████▉  | 799/1000 [13:06:38<3:09:20, 56.52s/it]"
     ]
    },
    {
     "name": "stdout",
     "output_type": "stream",
     "text": [
      "\t self.next_action: 1\n",
      "\n",
      "\t ----- tradeoff_buffer: 4 ----- \n",
      "\t ----- reward: -0.05510201420089911 for f_star and f_minus: 21.53079161084422 , 27.040993030934132\n",
      "[INFO] [2023-01-24 13:13:41,748] [OpenBox-SPO] Iteration 800, objective value: [25.94234948848822].\n"
     ]
    },
    {
     "name": "stderr",
     "output_type": "stream",
     "text": [
      " 80%|████████  | 800/1000 [13:07:33<3:06:58, 56.09s/it]"
     ]
    },
    {
     "name": "stdout",
     "output_type": "stream",
     "text": [
      "\t self.next_action: 0\n",
      "\n",
      "\t ----- tradeoff_buffer: 3 ----- \n",
      "\t ----- reward: -0.04411557877644001 for f_star and f_minus: 21.53079161084422 , 25.94234948848822\n",
      "[INFO] [2023-01-24 13:14:45,131] [OpenBox-SPO] Iteration 801, objective value: [34.18687118845878].\n"
     ]
    },
    {
     "name": "stderr",
     "output_type": "stream",
     "text": [
      " 80%|████████  | 801/1000 [13:08:37<3:13:17, 58.28s/it]"
     ]
    },
    {
     "name": "stdout",
     "output_type": "stream",
     "text": [
      "\t self.next_action: -1\n",
      "\n",
      "\t ----- tradeoff_buffer: 2 ----- \n",
      "\t ----- reward: -0.1265607957761456 for f_star and f_minus: 21.53079161084422 , 34.18687118845878\n",
      "[INFO] [2023-01-24 13:15:42,183] [OpenBox-SPO] Iteration 802, objective value: [28.389883232413197].\n"
     ]
    },
    {
     "name": "stderr",
     "output_type": "stream",
     "text": [
      " 80%|████████  | 802/1000 [13:09:34<3:11:06, 57.91s/it]"
     ]
    },
    {
     "name": "stdout",
     "output_type": "stream",
     "text": [
      "\t self.next_action: -1\n",
      "\n",
      "\t ----- tradeoff_buffer: 1 ----- \n",
      "\t ----- reward: -0.0685909162156898 for f_star and f_minus: 21.53079161084422 , 28.389883232413197\n",
      "[INFO] [2023-01-24 13:16:43,509] [OpenBox-SPO] Iteration 803, objective value: [29.62475441299405].\n"
     ]
    },
    {
     "name": "stderr",
     "output_type": "stream",
     "text": [
      " 80%|████████  | 803/1000 [13:10:35<3:13:30, 58.94s/it]"
     ]
    },
    {
     "name": "stdout",
     "output_type": "stream",
     "text": [
      "\t self.next_action: -1\n",
      "\n",
      "\t ----- tradeoff_buffer: 2 ----- \n",
      "\t ----- reward: -0.08093962802149834 for f_star and f_minus: 21.53079161084422 , 29.62475441299405\n",
      "[INFO] [2023-01-24 13:16:43,512] [Advisor] Sample random config. rand_prob=0.100000.\n",
      "[INFO] [2023-01-24 13:17:22,102] [OpenBox-SPO] Iteration 804, objective value: [61.67996284075406].\n"
     ]
    },
    {
     "name": "stderr",
     "output_type": "stream",
     "text": [
      " 80%|████████  | 804/1000 [13:11:14<2:52:35, 52.83s/it]"
     ]
    },
    {
     "name": "stdout",
     "output_type": "stream",
     "text": [
      "\t self.next_action: 1\n",
      "\n",
      "\t ----- tradeoff_buffer: 3 ----- \n",
      "\t ----- reward: -1 for f_star and f_minus: 21.53079161084422 , 61.67996284075406\n",
      "[INFO] [2023-01-24 13:18:17,792] [OpenBox-SPO] Iteration 805, objective value: [24.9882918092584].\n"
     ]
    },
    {
     "name": "stderr",
     "output_type": "stream",
     "text": [
      " 80%|████████  | 805/1000 [13:12:09<2:54:29, 53.69s/it]"
     ]
    },
    {
     "name": "stdout",
     "output_type": "stream",
     "text": [
      "\t self.next_action: 1\n",
      "\n",
      "\t ----- tradeoff_buffer: 4 ----- \n",
      "\t ----- reward: -0.03457500198414182 for f_star and f_minus: 21.53079161084422 , 24.9882918092584\n",
      "[INFO] [2023-01-24 13:19:12,883] [OpenBox-SPO] Iteration 806, objective value: [26.253530638649877].\n"
     ]
    },
    {
     "name": "stderr",
     "output_type": "stream",
     "text": [
      " 81%|████████  | 806/1000 [13:13:04<2:54:57, 54.11s/it]"
     ]
    },
    {
     "name": "stdout",
     "output_type": "stream",
     "text": [
      "\t self.next_action: 1\n",
      "\n",
      "\t ----- tradeoff_buffer: 4 ----- \n",
      "\t ----- reward: -0.047227390278056613 for f_star and f_minus: 21.53079161084422 , 26.253530638649877\n",
      "[INFO] [2023-01-24 13:20:13,529] [OpenBox-SPO] Iteration 807, objective value: [28.811232288484177].\n"
     ]
    },
    {
     "name": "stderr",
     "output_type": "stream",
     "text": [
      " 81%|████████  | 807/1000 [13:14:05<3:00:21, 56.07s/it]"
     ]
    },
    {
     "name": "stdout",
     "output_type": "stream",
     "text": [
      "\t self.next_action: 0\n",
      "\n",
      "\t ----- tradeoff_buffer: 3 ----- \n",
      "\t ----- reward: -0.0728044067763996 for f_star and f_minus: 21.53079161084422 , 28.811232288484177\n",
      "[INFO] [2023-01-24 13:21:05,169] [OpenBox-SPO] Iteration 808, objective value: [24.89881216164936].\n"
     ]
    },
    {
     "name": "stderr",
     "output_type": "stream",
     "text": [
      " 81%|████████  | 808/1000 [13:14:57<2:55:10, 54.74s/it]"
     ]
    },
    {
     "name": "stdout",
     "output_type": "stream",
     "text": [
      "\t self.next_action: -1\n",
      "\n",
      "\t ----- tradeoff_buffer: 2 ----- \n",
      "\t ----- reward: -0.033680205508051425 for f_star and f_minus: 21.53079161084422 , 24.89881216164936\n",
      "[INFO] [2023-01-24 13:22:02,232] [OpenBox-SPO] Iteration 809, objective value: [27.087388143237973].\n"
     ]
    },
    {
     "name": "stderr",
     "output_type": "stream",
     "text": [
      " 81%|████████  | 809/1000 [13:15:54<2:56:28, 55.44s/it]"
     ]
    },
    {
     "name": "stdout",
     "output_type": "stream",
     "text": [
      "\t self.next_action: -1\n",
      "\n",
      "\t ----- tradeoff_buffer: 1 ----- \n",
      "\t ----- reward: -0.05556596532393754 for f_star and f_minus: 21.53079161084422 , 27.087388143237973\n",
      "[INFO] [2023-01-24 13:22:52,177] [OpenBox-SPO] Iteration 810, objective value: [28.47741221645404].\n"
     ]
    },
    {
     "name": "stderr",
     "output_type": "stream",
     "text": [
      " 81%|████████  | 810/1000 [13:16:44<2:50:20, 53.79s/it]"
     ]
    },
    {
     "name": "stdout",
     "output_type": "stream",
     "text": [
      "\t self.next_action: -1\n",
      "\n",
      "\t ----- tradeoff_buffer: 2 ----- \n",
      "\t ----- reward: -0.06946620605609821 for f_star and f_minus: 21.53079161084422 , 28.47741221645404\n",
      "[INFO] [2023-01-24 13:23:39,692] [OpenBox-SPO] Iteration 811, objective value: [28.66809398839841].\n"
     ]
    },
    {
     "name": "stderr",
     "output_type": "stream",
     "text": [
      " 81%|████████  | 811/1000 [13:17:31<2:43:30, 51.91s/it]"
     ]
    },
    {
     "name": "stdout",
     "output_type": "stream",
     "text": [
      "\t self.next_action: 1\n",
      "\n",
      "\t ----- tradeoff_buffer: 1 ----- \n",
      "\t ----- reward: -0.07137302377554194 for f_star and f_minus: 21.53079161084422 , 28.66809398839841\n",
      "[INFO] [2023-01-24 13:24:36,134] [OpenBox-SPO] Iteration 812, objective value: [22.427277962851264].\n"
     ]
    },
    {
     "name": "stderr",
     "output_type": "stream",
     "text": [
      " 81%|████████  | 812/1000 [13:18:28<2:46:54, 53.27s/it]"
     ]
    },
    {
     "name": "stdout",
     "output_type": "stream",
     "text": [
      "\t self.next_action: -1\n",
      "\n",
      "\t ----- tradeoff_buffer: 0 ----- \n",
      "\t ----- reward: -0.008964863520070449 for f_star and f_minus: 21.53079161084422 , 22.427277962851264\n",
      "[INFO] [2023-01-24 13:25:20,829] [OpenBox-SPO] Iteration 813, objective value: [36.83567615209237].\n"
     ]
    },
    {
     "name": "stderr",
     "output_type": "stream",
     "text": [
      " 81%|████████▏ | 813/1000 [13:19:12<2:38:00, 50.70s/it]"
     ]
    },
    {
     "name": "stdout",
     "output_type": "stream",
     "text": [
      "\t self.next_action: -1\n",
      "\n",
      "\t ----- tradeoff_buffer: 0 ----- \n",
      "\t ----- reward: -0.15304884541248148 for f_star and f_minus: 21.53079161084422 , 36.83567615209237\n",
      "[INFO] [2023-01-24 13:26:16,740] [OpenBox-SPO] Iteration 814, objective value: [24.485929616650793].\n"
     ]
    },
    {
     "name": "stderr",
     "output_type": "stream",
     "text": [
      " 81%|████████▏ | 814/1000 [13:20:08<2:42:00, 52.26s/it]"
     ]
    },
    {
     "name": "stdout",
     "output_type": "stream",
     "text": [
      "\t self.next_action: -1\n",
      "\n",
      "\t ----- tradeoff_buffer: 1 ----- \n",
      "\t ----- reward: -0.029551380058065735 for f_star and f_minus: 21.53079161084422 , 24.485929616650793\n",
      "[INFO] [2023-01-24 13:27:13,744] [OpenBox-SPO] Iteration 815, objective value: [43.578312090944735].\n"
     ]
    },
    {
     "name": "stderr",
     "output_type": "stream",
     "text": [
      " 82%|████████▏ | 815/1000 [13:21:05<2:45:31, 53.68s/it]"
     ]
    },
    {
     "name": "stdout",
     "output_type": "stream",
     "text": [
      "\t self.next_action: 1\n",
      "\n",
      "\t ----- tradeoff_buffer: 0 ----- \n",
      "\t ----- reward: -0.2204752048010052 for f_star and f_minus: 21.53079161084422 , 43.578312090944735\n",
      "[INFO] [2023-01-24 13:28:12,601] [OpenBox-SPO] Iteration 816, objective value: [45.616855986988625].\n"
     ]
    },
    {
     "name": "stderr",
     "output_type": "stream",
     "text": [
      " 82%|████████▏ | 816/1000 [13:22:04<2:49:23, 55.24s/it]"
     ]
    },
    {
     "name": "stdout",
     "output_type": "stream",
     "text": [
      "\t self.next_action: -1\n",
      "\n",
      "\t ----- tradeoff_buffer: 1 ----- \n",
      "\t ----- reward: -0.24086064376144406 for f_star and f_minus: 21.53079161084422 , 45.616855986988625\n",
      "[INFO] [2023-01-24 13:29:05,511] [OpenBox-SPO] Iteration 817, objective value: [30.921142686836106].\n"
     ]
    },
    {
     "name": "stderr",
     "output_type": "stream",
     "text": [
      " 82%|████████▏ | 817/1000 [13:22:57<2:46:20, 54.54s/it]"
     ]
    },
    {
     "name": "stdout",
     "output_type": "stream",
     "text": [
      "\t self.next_action: 1\n",
      "\n",
      "\t ----- tradeoff_buffer: 2 ----- \n",
      "\t ----- reward: -0.09390351075991887 for f_star and f_minus: 21.53079161084422 , 30.921142686836106\n",
      "[INFO] [2023-01-24 13:29:59,155] [OpenBox-SPO] Iteration 818, objective value: [24.506703039733836].\n"
     ]
    },
    {
     "name": "stderr",
     "output_type": "stream",
     "text": [
      " 82%|████████▏ | 818/1000 [13:23:51<2:44:37, 54.27s/it]"
     ]
    },
    {
     "name": "stdout",
     "output_type": "stream",
     "text": [
      "\t self.next_action: 1\n",
      "\n",
      "\t ----- tradeoff_buffer: 1 ----- \n",
      "\t ----- reward: -0.02975911428889616 for f_star and f_minus: 21.53079161084422 , 24.506703039733836\n",
      "[INFO] [2023-01-24 13:30:56,824] [OpenBox-SPO] Iteration 819, objective value: [24.244502226848155].\n"
     ]
    },
    {
     "name": "stderr",
     "output_type": "stream",
     "text": [
      " 82%|████████▏ | 819/1000 [13:24:48<2:46:47, 55.29s/it]"
     ]
    },
    {
     "name": "stdout",
     "output_type": "stream",
     "text": [
      "\t self.next_action: -1\n",
      "\n",
      "\t ----- tradeoff_buffer: 2 ----- \n",
      "\t ----- reward: -0.027137106160039365 for f_star and f_minus: 21.53079161084422 , 24.244502226848155\n",
      "[INFO] [2023-01-24 13:31:55,548] [OpenBox-SPO] Iteration 820, objective value: [23.029615398440512].\n"
     ]
    },
    {
     "name": "stderr",
     "output_type": "stream",
     "text": [
      " 82%|████████▏ | 820/1000 [13:25:47<2:48:57, 56.32s/it]"
     ]
    },
    {
     "name": "stdout",
     "output_type": "stream",
     "text": [
      "\t self.next_action: 1\n",
      "\n",
      "\t ----- tradeoff_buffer: 1 ----- \n",
      "\t ----- reward: -0.014988237875962929 for f_star and f_minus: 21.53079161084422 , 23.029615398440512\n",
      "[INFO] [2023-01-24 13:33:00,824] [OpenBox-SPO] Iteration 821, objective value: [26.498023339513338].\n"
     ]
    },
    {
     "name": "stderr",
     "output_type": "stream",
     "text": [
      " 82%|████████▏ | 821/1000 [13:26:52<2:56:02, 59.01s/it]"
     ]
    },
    {
     "name": "stdout",
     "output_type": "stream",
     "text": [
      "\t self.next_action: -1\n",
      "\n",
      "\t ----- tradeoff_buffer: 2 ----- \n",
      "\t ----- reward: -0.04967231728669119 for f_star and f_minus: 21.53079161084422 , 26.498023339513338\n",
      "[INFO] [2023-01-24 13:34:08,610] [OpenBox-SPO] Iteration 822, objective value: [22.777020870744778].\n"
     ]
    },
    {
     "name": "stderr",
     "output_type": "stream",
     "text": [
      " 82%|████████▏ | 822/1000 [13:28:00<3:02:52, 61.64s/it]"
     ]
    },
    {
     "name": "stdout",
     "output_type": "stream",
     "text": [
      "\t self.next_action: 1\n",
      "\n",
      "\t ----- tradeoff_buffer: 1 ----- \n",
      "\t ----- reward: -0.012462292599005581 for f_star and f_minus: 21.53079161084422 , 22.777020870744778\n",
      "[INFO] [2023-01-24 13:34:08,613] [Advisor] Sample random config. rand_prob=0.100000.\n",
      "[INFO] [2023-01-24 13:34:46,583] [OpenBox-SPO] Iteration 823, objective value: [54.281886142046645].\n"
     ]
    },
    {
     "name": "stderr",
     "output_type": "stream",
     "text": [
      " 82%|████████▏ | 823/1000 [13:28:38<2:40:53, 54.54s/it]"
     ]
    },
    {
     "name": "stdout",
     "output_type": "stream",
     "text": [
      "\t self.next_action: -1\n",
      "\n",
      "\t ----- tradeoff_buffer: 2 ----- \n",
      "\t ----- reward: -1 for f_star and f_minus: 21.53079161084422 , 54.281886142046645\n",
      "[INFO] [2023-01-24 13:35:42,665] [OpenBox-SPO] Iteration 824, objective value: [32.557837008622315].\n"
     ]
    },
    {
     "name": "stderr",
     "output_type": "stream",
     "text": [
      " 82%|████████▏ | 824/1000 [13:29:34<2:41:20, 55.00s/it]"
     ]
    },
    {
     "name": "stdout",
     "output_type": "stream",
     "text": [
      "\t self.next_action: 1\n",
      "\n",
      "\t ----- tradeoff_buffer: 1 ----- \n",
      "\t ----- reward: -0.11027045397778096 for f_star and f_minus: 21.53079161084422 , 32.557837008622315\n",
      "[INFO] [2023-01-24 13:36:39,752] [OpenBox-SPO] Iteration 825, objective value: [26.037513659947237].\n"
     ]
    },
    {
     "name": "stderr",
     "output_type": "stream",
     "text": [
      " 82%|████████▎ | 825/1000 [13:30:31<2:42:14, 55.63s/it]"
     ]
    },
    {
     "name": "stdout",
     "output_type": "stream",
     "text": [
      "\t self.next_action: -1\n",
      "\n",
      "\t ----- tradeoff_buffer: 0 ----- \n",
      "\t ----- reward: -0.04506722049103018 for f_star and f_minus: 21.53079161084422 , 26.037513659947237\n",
      "[INFO] [2023-01-24 13:37:31,159] [OpenBox-SPO] Iteration 826, objective value: [30.17376286252592].\n"
     ]
    },
    {
     "name": "stderr",
     "output_type": "stream",
     "text": [
      " 83%|████████▎ | 826/1000 [13:31:23<2:37:38, 54.36s/it]"
     ]
    },
    {
     "name": "stdout",
     "output_type": "stream",
     "text": [
      "\t self.next_action: -1\n",
      "\n",
      "\t ----- tradeoff_buffer: 0 ----- \n",
      "\t ----- reward: -0.08642971251681703 for f_star and f_minus: 21.53079161084422 , 30.17376286252592\n",
      "[INFO] [2023-01-24 13:38:24,247] [OpenBox-SPO] Iteration 827, objective value: [25.04974040919285].\n"
     ]
    },
    {
     "name": "stderr",
     "output_type": "stream",
     "text": [
      " 83%|████████▎ | 827/1000 [13:32:16<2:35:38, 53.98s/it]"
     ]
    },
    {
     "name": "stdout",
     "output_type": "stream",
     "text": [
      "\t self.next_action: -1\n",
      "\n",
      "\t ----- tradeoff_buffer: 0 ----- \n",
      "\t ----- reward: -0.03518948798348631 for f_star and f_minus: 21.53079161084422 , 25.04974040919285\n",
      "[INFO] [2023-01-24 13:39:21,101] [OpenBox-SPO] Iteration 828, objective value: [24.640598156145913].\n"
     ]
    },
    {
     "name": "stderr",
     "output_type": "stream",
     "text": [
      " 83%|████████▎ | 828/1000 [13:33:13<2:37:12, 54.84s/it]"
     ]
    },
    {
     "name": "stdout",
     "output_type": "stream",
     "text": [
      "\t self.next_action: -1\n",
      "\n",
      "\t ----- tradeoff_buffer: 0 ----- \n",
      "\t ----- reward: -0.031098065453016938 for f_star and f_minus: 21.53079161084422 , 24.640598156145913\n",
      "[INFO] [2023-01-24 13:40:17,447] [OpenBox-SPO] Iteration 829, objective value: [24.05560082563599].\n"
     ]
    },
    {
     "name": "stderr",
     "output_type": "stream",
     "text": [
      " 83%|████████▎ | 829/1000 [13:34:09<2:37:35, 55.29s/it]"
     ]
    },
    {
     "name": "stdout",
     "output_type": "stream",
     "text": [
      "\t self.next_action: -1\n",
      "\n",
      "\t ----- tradeoff_buffer: 0 ----- \n",
      "\t ----- reward: -0.025248092147917733 for f_star and f_minus: 21.53079161084422 , 24.05560082563599\n",
      "[INFO] [2023-01-24 13:41:09,123] [OpenBox-SPO] Iteration 830, objective value: [27.10532513320787].\n"
     ]
    },
    {
     "name": "stderr",
     "output_type": "stream",
     "text": [
      " 83%|████████▎ | 830/1000 [13:35:01<2:33:35, 54.21s/it]"
     ]
    },
    {
     "name": "stdout",
     "output_type": "stream",
     "text": [
      "\t self.next_action: -1\n",
      "\n",
      "\t ----- tradeoff_buffer: 0 ----- \n",
      "\t ----- reward: -0.055745335223636505 for f_star and f_minus: 21.53079161084422 , 27.10532513320787\n",
      "[INFO] [2023-01-24 13:41:58,874] [OpenBox-SPO] Iteration 831, objective value: [25.647185748934604].\n"
     ]
    },
    {
     "name": "stderr",
     "output_type": "stream",
     "text": [
      " 83%|████████▎ | 831/1000 [13:35:50<2:28:55, 52.87s/it]"
     ]
    },
    {
     "name": "stdout",
     "output_type": "stream",
     "text": [
      "\t self.next_action: -1\n",
      "\n",
      "\t ----- tradeoff_buffer: 0 ----- \n",
      "\t ----- reward: -0.041163941380903846 for f_star and f_minus: 21.53079161084422 , 25.647185748934604\n",
      "[INFO] [2023-01-24 13:42:54,615] [OpenBox-SPO] Iteration 832, objective value: [22.497333041064635].\n"
     ]
    },
    {
     "name": "stderr",
     "output_type": "stream",
     "text": [
      " 83%|████████▎ | 832/1000 [13:36:46<2:30:26, 53.73s/it]"
     ]
    },
    {
     "name": "stdout",
     "output_type": "stream",
     "text": [
      "\t self.next_action: -1\n",
      "\n",
      "\t ----- tradeoff_buffer: 0 ----- \n",
      "\t ----- reward: -0.009665414302204162 for f_star and f_minus: 21.53079161084422 , 22.497333041064635\n",
      "[INFO] [2023-01-24 13:43:51,234] [OpenBox-SPO] Iteration 833, objective value: [34.50229515030537].\n"
     ]
    },
    {
     "name": "stderr",
     "output_type": "stream",
     "text": [
      " 83%|████████▎ | 833/1000 [13:37:43<2:31:57, 54.60s/it]"
     ]
    },
    {
     "name": "stdout",
     "output_type": "stream",
     "text": [
      "\t self.next_action: -1\n",
      "\n",
      "\t ----- tradeoff_buffer: 0 ----- \n",
      "\t ----- reward: -0.12971503539461154 for f_star and f_minus: 21.53079161084422 , 34.50229515030537\n",
      "[INFO] [2023-01-24 13:44:45,027] [OpenBox-SPO] Iteration 834, objective value: [28.664417627333222].\n"
     ]
    },
    {
     "name": "stderr",
     "output_type": "stream",
     "text": [
      " 83%|████████▎ | 834/1000 [13:38:37<2:30:23, 54.36s/it]"
     ]
    },
    {
     "name": "stdout",
     "output_type": "stream",
     "text": [
      "\t self.next_action: -1\n",
      "\n",
      "\t ----- tradeoff_buffer: 0 ----- \n",
      "\t ----- reward: -0.07133626016489003 for f_star and f_minus: 21.53079161084422 , 28.664417627333222\n",
      "[INFO] [2023-01-24 13:45:48,732] [OpenBox-SPO] Iteration 835, objective value: [23.543922678813146].\n"
     ]
    },
    {
     "name": "stderr",
     "output_type": "stream",
     "text": [
      " 84%|████████▎ | 835/1000 [13:39:40<2:37:11, 57.16s/it]"
     ]
    },
    {
     "name": "stdout",
     "output_type": "stream",
     "text": [
      "\t self.next_action: -1\n",
      "\n",
      "\t ----- tradeoff_buffer: 0 ----- \n",
      "\t ----- reward: -0.020131310679689263 for f_star and f_minus: 21.53079161084422 , 23.543922678813146\n",
      "[INFO] [2023-01-24 13:45:48,734] [Advisor] Sample random config. rand_prob=0.100000.\n",
      "[INFO] [2023-01-24 13:46:28,203] [OpenBox-SPO] Iteration 836, objective value: [47.936935169886816].\n"
     ]
    },
    {
     "name": "stderr",
     "output_type": "stream",
     "text": [
      " 84%|████████▎ | 836/1000 [13:40:20<2:21:44, 51.85s/it]"
     ]
    },
    {
     "name": "stdout",
     "output_type": "stream",
     "text": [
      "\t self.next_action: -1\n",
      "\n",
      "\t ----- tradeoff_buffer: 0 ----- \n",
      "\t ----- reward: -0.264061435590426 for f_star and f_minus: 21.53079161084422 , 47.936935169886816\n",
      "[INFO] [2023-01-24 13:47:21,097] [OpenBox-SPO] Iteration 837, objective value: [33.14622867890431].\n"
     ]
    },
    {
     "name": "stderr",
     "output_type": "stream",
     "text": [
      " 84%|████████▎ | 837/1000 [13:41:13<2:21:43, 52.17s/it]"
     ]
    },
    {
     "name": "stdout",
     "output_type": "stream",
     "text": [
      "\t self.next_action: -1\n",
      "\n",
      "\t ----- tradeoff_buffer: 1 ----- \n",
      "\t ----- reward: -0.11615437068060092 for f_star and f_minus: 21.53079161084422 , 33.14622867890431\n",
      "[INFO] [2023-01-24 13:48:16,147] [OpenBox-SPO] Iteration 838, objective value: [23.73360463774759].\n"
     ]
    },
    {
     "name": "stderr",
     "output_type": "stream",
     "text": [
      " 84%|████████▍ | 838/1000 [13:42:08<2:23:11, 53.03s/it]"
     ]
    },
    {
     "name": "stdout",
     "output_type": "stream",
     "text": [
      "\t self.next_action: 1\n",
      "\n",
      "\t ----- tradeoff_buffer: 0 ----- \n",
      "\t ----- reward: -0.02202813026903372 for f_star and f_minus: 21.53079161084422 , 23.73360463774759\n",
      "[INFO] [2023-01-24 13:49:04,331] [OpenBox-SPO] Iteration 839, objective value: [33.057843545006676].\n"
     ]
    },
    {
     "name": "stderr",
     "output_type": "stream",
     "text": [
      " 84%|████████▍ | 839/1000 [13:42:56<2:18:23, 51.58s/it]"
     ]
    },
    {
     "name": "stdout",
     "output_type": "stream",
     "text": [
      "\t self.next_action: -1\n",
      "\n",
      "\t ----- tradeoff_buffer: 1 ----- \n",
      "\t ----- reward: -0.11527051934162458 for f_star and f_minus: 21.53079161084422 , 33.057843545006676\n",
      "[INFO] [2023-01-24 13:49:55,882] [OpenBox-SPO] Iteration 840, objective value: [27.294633585352443].\n"
     ]
    },
    {
     "name": "stderr",
     "output_type": "stream",
     "text": [
      " 84%|████████▍ | 840/1000 [13:43:47<2:17:31, 51.57s/it]"
     ]
    },
    {
     "name": "stdout",
     "output_type": "stream",
     "text": [
      "\t self.next_action: 1\n",
      "\n",
      "\t ----- tradeoff_buffer: 0 ----- \n",
      "\t ----- reward: -0.05763841974508227 for f_star and f_minus: 21.53079161084422 , 27.294633585352443\n",
      "[INFO] [2023-01-24 13:50:49,498] [OpenBox-SPO] Iteration 841, objective value: [24.224193620340344].\n"
     ]
    },
    {
     "name": "stderr",
     "output_type": "stream",
     "text": [
      " 84%|████████▍ | 841/1000 [13:44:41<2:18:17, 52.18s/it]"
     ]
    },
    {
     "name": "stdout",
     "output_type": "stream",
     "text": [
      "\t self.next_action: -1\n",
      "\n",
      "\t ----- tradeoff_buffer: 0 ----- \n",
      "\t ----- reward: -0.026934020094961264 for f_star and f_minus: 21.53079161084422 , 24.224193620340344\n",
      "[INFO] [2023-01-24 13:51:46,212] [OpenBox-SPO] Iteration 842, objective value: [26.40720990142526].\n"
     ]
    },
    {
     "name": "stderr",
     "output_type": "stream",
     "text": [
      " 84%|████████▍ | 842/1000 [13:45:38<2:20:59, 53.54s/it]"
     ]
    },
    {
     "name": "stdout",
     "output_type": "stream",
     "text": [
      "\t self.next_action: -1\n",
      "\n",
      "\t ----- tradeoff_buffer: 0 ----- \n",
      "\t ----- reward: -0.048764182905810416 for f_star and f_minus: 21.53079161084422 , 26.40720990142526\n",
      "[INFO] [2023-01-24 13:52:40,963] [OpenBox-SPO] Iteration 843, objective value: [22.169621236016084].\n"
     ]
    },
    {
     "name": "stderr",
     "output_type": "stream",
     "text": [
      " 84%|████████▍ | 843/1000 [13:46:32<2:21:03, 53.91s/it]"
     ]
    },
    {
     "name": "stdout",
     "output_type": "stream",
     "text": [
      "\t self.next_action: -1\n",
      "\n",
      "\t ----- tradeoff_buffer: 0 ----- \n",
      "\t ----- reward: -0.0063882962517186614 for f_star and f_minus: 21.53079161084422 , 22.169621236016084\n",
      "[INFO] [2023-01-24 13:53:35,604] [OpenBox-SPO] Iteration 844, objective value: [23.99111290166684].\n"
     ]
    },
    {
     "name": "stderr",
     "output_type": "stream",
     "text": [
      " 84%|████████▍ | 844/1000 [13:47:27<2:20:43, 54.13s/it]"
     ]
    },
    {
     "name": "stdout",
     "output_type": "stream",
     "text": [
      "\t self.next_action: -1\n",
      "\n",
      "\t ----- tradeoff_buffer: 0 ----- \n",
      "\t ----- reward: -0.024603212908226202 for f_star and f_minus: 21.53079161084422 , 23.99111290166684\n",
      "[INFO] [2023-01-24 13:54:34,862] [OpenBox-SPO] Iteration 845, objective value: [25.608669836392068].\n"
     ]
    },
    {
     "name": "stderr",
     "output_type": "stream",
     "text": [
      " 84%|████████▍ | 845/1000 [13:48:26<2:23:48, 55.67s/it]"
     ]
    },
    {
     "name": "stdout",
     "output_type": "stream",
     "text": [
      "\t self.next_action: -1\n",
      "\n",
      "\t ----- tradeoff_buffer: 0 ----- \n",
      "\t ----- reward: -0.040778782255478485 for f_star and f_minus: 21.53079161084422 , 25.608669836392068\n",
      "[INFO] [2023-01-24 13:55:41,496] [OpenBox-SPO] Iteration 846, objective value: [26.630875304594653].\n"
     ]
    },
    {
     "name": "stderr",
     "output_type": "stream",
     "text": [
      " 85%|████████▍ | 846/1000 [13:49:33<2:31:19, 58.96s/it]"
     ]
    },
    {
     "name": "stdout",
     "output_type": "stream",
     "text": [
      "\t self.next_action: -1\n",
      "\n",
      "\t ----- tradeoff_buffer: 0 ----- \n",
      "\t ----- reward: -0.051000836937504346 for f_star and f_minus: 21.53079161084422 , 26.630875304594653\n",
      "[INFO] [2023-01-24 13:55:41,499] [Advisor] Sample random config. rand_prob=0.100000.\n",
      "[INFO] [2023-01-24 13:56:34,094] [OpenBox-SPO] Iteration 847, objective value: [52.75172689471822].\n"
     ]
    },
    {
     "name": "stderr",
     "output_type": "stream",
     "text": [
      " 85%|████████▍ | 847/1000 [13:50:26<2:25:28, 57.05s/it]"
     ]
    },
    {
     "name": "stdout",
     "output_type": "stream",
     "text": [
      "\t self.next_action: -1\n",
      "\n",
      "\t ----- tradeoff_buffer: 0 ----- \n",
      "\t ----- reward: -1 for f_star and f_minus: 21.53079161084422 , 52.75172689471822\n",
      "[INFO] [2023-01-24 13:57:35,972] [OpenBox-SPO] Iteration 848, objective value: [35.656492144402534].\n"
     ]
    },
    {
     "name": "stderr",
     "output_type": "stream",
     "text": [
      " 85%|████████▍ | 848/1000 [13:51:27<2:28:11, 58.50s/it]"
     ]
    },
    {
     "name": "stdout",
     "output_type": "stream",
     "text": [
      "\t self.next_action: -1\n",
      "\n",
      "\t ----- tradeoff_buffer: 1 ----- \n",
      "\t ----- reward: -0.14125700533558316 for f_star and f_minus: 21.53079161084422 , 35.656492144402534\n",
      "[INFO] [2023-01-24 13:58:35,069] [OpenBox-SPO] Iteration 849, objective value: [27.303527657782055].\n"
     ]
    },
    {
     "name": "stderr",
     "output_type": "stream",
     "text": [
      " 85%|████████▍ | 849/1000 [13:52:27<2:27:40, 58.68s/it]"
     ]
    },
    {
     "name": "stdout",
     "output_type": "stream",
     "text": [
      "\t self.next_action: 1\n",
      "\n",
      "\t ----- tradeoff_buffer: 0 ----- \n",
      "\t ----- reward: -0.057727360469378375 for f_star and f_minus: 21.53079161084422 , 27.303527657782055\n",
      "[INFO] [2023-01-24 13:59:34,172] [OpenBox-SPO] Iteration 850, objective value: [30.17624473667378].\n"
     ]
    },
    {
     "name": "stderr",
     "output_type": "stream",
     "text": [
      " 85%|████████▌ | 850/1000 [13:53:26<2:27:00, 58.81s/it]"
     ]
    },
    {
     "name": "stdout",
     "output_type": "stream",
     "text": [
      "\t self.next_action: -1\n",
      "\n",
      "\t ----- tradeoff_buffer: 1 ----- \n",
      "\t ----- reward: -0.08645453125829561 for f_star and f_minus: 21.53079161084422 , 30.17624473667378\n",
      "[INFO] [2023-01-24 14:00:30,645] [OpenBox-SPO] Iteration 851, objective value: [26.228521505561204].\n"
     ]
    },
    {
     "name": "stderr",
     "output_type": "stream",
     "text": [
      " 85%|████████▌ | 851/1000 [13:54:22<2:24:17, 58.11s/it]"
     ]
    },
    {
     "name": "stdout",
     "output_type": "stream",
     "text": [
      "\t self.next_action: 1\n",
      "\n",
      "\t ----- tradeoff_buffer: 0 ----- \n",
      "\t ----- reward: -0.04697729894716984 for f_star and f_minus: 21.53079161084422 , 26.228521505561204\n",
      "[INFO] [2023-01-24 14:01:32,397] [OpenBox-SPO] Iteration 852, objective value: [27.15360553788034].\n"
     ]
    },
    {
     "name": "stderr",
     "output_type": "stream",
     "text": [
      " 85%|████████▌ | 852/1000 [13:55:24<2:26:01, 59.20s/it]"
     ]
    },
    {
     "name": "stdout",
     "output_type": "stream",
     "text": [
      "\t self.next_action: -1\n",
      "\n",
      "\t ----- tradeoff_buffer: 1 ----- \n",
      "\t ----- reward: -0.05622813927036119 for f_star and f_minus: 21.53079161084422 , 27.15360553788034\n",
      "[INFO] [2023-01-24 14:02:27,833] [OpenBox-SPO] Iteration 853, objective value: [28.70497923655752].\n"
     ]
    },
    {
     "name": "stderr",
     "output_type": "stream",
     "text": [
      " 85%|████████▌ | 853/1000 [13:56:19<2:22:16, 58.07s/it]"
     ]
    },
    {
     "name": "stdout",
     "output_type": "stream",
     "text": [
      "\t self.next_action: 1\n",
      "\n",
      "\t ----- tradeoff_buffer: 0 ----- \n",
      "\t ----- reward: -0.07174187625713302 for f_star and f_minus: 21.53079161084422 , 28.70497923655752\n",
      "[INFO] [2023-01-24 14:03:29,753] [OpenBox-SPO] Iteration 854, objective value: [26.830975304926923].\n"
     ]
    },
    {
     "name": "stderr",
     "output_type": "stream",
     "text": [
      " 85%|████████▌ | 854/1000 [13:57:21<2:24:06, 59.23s/it]"
     ]
    },
    {
     "name": "stdout",
     "output_type": "stream",
     "text": [
      "\t self.next_action: -1\n",
      "\n",
      "\t ----- tradeoff_buffer: 1 ----- \n",
      "\t ----- reward: -0.05300183694082705 for f_star and f_minus: 21.53079161084422 , 26.830975304926923\n",
      "[INFO] [2023-01-24 14:04:24,333] [OpenBox-SPO] Iteration 855, objective value: [25.46749279687502].\n"
     ]
    },
    {
     "name": "stderr",
     "output_type": "stream",
     "text": [
      " 86%|████████▌ | 855/1000 [13:58:16<2:19:45, 57.83s/it]"
     ]
    },
    {
     "name": "stdout",
     "output_type": "stream",
     "text": [
      "\t self.next_action: 1\n",
      "\n",
      "\t ----- tradeoff_buffer: 0 ----- \n",
      "\t ----- reward: -0.039367011860308 for f_star and f_minus: 21.53079161084422 , 25.46749279687502\n",
      "[INFO] [2023-01-24 14:05:29,194] [OpenBox-SPO] Iteration 856, objective value: [34.43623545782897].\n"
     ]
    },
    {
     "name": "stderr",
     "output_type": "stream",
     "text": [
      " 86%|████████▌ | 856/1000 [13:59:21<2:23:51, 59.94s/it]"
     ]
    },
    {
     "name": "stdout",
     "output_type": "stream",
     "text": [
      "\t self.next_action: -1\n",
      "\n",
      "\t ----- tradeoff_buffer: 1 ----- \n",
      "\t ----- reward: -0.12905443846984754 for f_star and f_minus: 21.53079161084422 , 34.43623545782897\n",
      "[INFO] [2023-01-24 14:06:20,158] [OpenBox-SPO] Iteration 857, objective value: [27.839605514018757].\n"
     ]
    },
    {
     "name": "stderr",
     "output_type": "stream",
     "text": [
      " 86%|████████▌ | 857/1000 [14:00:12<2:16:26, 57.25s/it]"
     ]
    },
    {
     "name": "stdout",
     "output_type": "stream",
     "text": [
      "\t self.next_action: 1\n",
      "\n",
      "\t ----- tradeoff_buffer: 0 ----- \n",
      "\t ----- reward: -0.06308813903174537 for f_star and f_minus: 21.53079161084422 , 27.839605514018757\n",
      "[INFO] [2023-01-24 14:07:14,580] [OpenBox-SPO] Iteration 858, objective value: [24.811858974713388].\n"
     ]
    },
    {
     "name": "stderr",
     "output_type": "stream",
     "text": [
      " 86%|████████▌ | 858/1000 [14:01:06<2:13:28, 56.40s/it]"
     ]
    },
    {
     "name": "stdout",
     "output_type": "stream",
     "text": [
      "\t self.next_action: -1\n",
      "\n",
      "\t ----- tradeoff_buffer: 0 ----- \n",
      "\t ----- reward: -0.032810673638691695 for f_star and f_minus: 21.53079161084422 , 24.811858974713388\n",
      "[INFO] [2023-01-24 14:08:10,958] [OpenBox-SPO] Iteration 859, objective value: [24.065093959369108].\n"
     ]
    },
    {
     "name": "stderr",
     "output_type": "stream",
     "text": [
      " 86%|████████▌ | 859/1000 [14:02:02<2:12:31, 56.39s/it]"
     ]
    },
    {
     "name": "stdout",
     "output_type": "stream",
     "text": [
      "\t self.next_action: -1\n",
      "\n",
      "\t ----- tradeoff_buffer: 1 ----- \n",
      "\t ----- reward: -0.02534302348524889 for f_star and f_minus: 21.53079161084422 , 24.065093959369108\n",
      "[INFO] [2023-01-24 14:09:02,049] [OpenBox-SPO] Iteration 860, objective value: [29.438871262116223].\n"
     ]
    },
    {
     "name": "stderr",
     "output_type": "stream",
     "text": [
      " 86%|████████▌ | 860/1000 [14:02:54<2:07:52, 54.80s/it]"
     ]
    },
    {
     "name": "stdout",
     "output_type": "stream",
     "text": [
      "\t self.next_action: 1\n",
      "\n",
      "\t ----- tradeoff_buffer: 0 ----- \n",
      "\t ----- reward: -0.07908079651272004 for f_star and f_minus: 21.53079161084422 , 29.438871262116223\n",
      "[INFO] [2023-01-24 14:09:56,808] [OpenBox-SPO] Iteration 861, objective value: [25.036220710689676].\n"
     ]
    },
    {
     "name": "stderr",
     "output_type": "stream",
     "text": [
      " 86%|████████▌ | 861/1000 [14:03:48<2:06:55, 54.79s/it]"
     ]
    },
    {
     "name": "stdout",
     "output_type": "stream",
     "text": [
      "\t self.next_action: -1\n",
      "\n",
      "\t ----- tradeoff_buffer: 1 ----- \n",
      "\t ----- reward: -0.035054290998454585 for f_star and f_minus: 21.53079161084422 , 25.036220710689676\n",
      "[INFO] [2023-01-24 14:10:50,729] [OpenBox-SPO] Iteration 862, objective value: [21.24491705579385].\n"
     ]
    },
    {
     "name": "stderr",
     "output_type": "stream",
     "text": [
      " 86%|████████▌ | 862/1000 [14:04:42<2:05:25, 54.53s/it]"
     ]
    },
    {
     "name": "stdout",
     "output_type": "stream",
     "text": [
      "\t self.next_action: 1\n",
      "\n",
      "\t ----- tradeoff_buffer: 0 ----- \n",
      "\t ----- reward: 0.7875508294420615 for f_star and f_minus: 21.53079161084422 , 21.24491705579385\n",
      "[INFO] [2023-01-24 14:11:44,066] [OpenBox-SPO] Iteration 863, objective value: [26.360204492951198].\n"
     ]
    },
    {
     "name": "stderr",
     "output_type": "stream",
     "text": [
      " 86%|████████▋ | 863/1000 [14:05:36<2:03:41, 54.17s/it]"
     ]
    },
    {
     "name": "stdout",
     "output_type": "stream",
     "text": [
      "\t self.next_action: -1\n",
      "\n",
      "\t ----- tradeoff_buffer: 1 ----- \n",
      "\t ----- reward: -0.048294128821069815 for f_star and f_minus: 21.53079161084422 , 26.360204492951198\n",
      "[INFO] [2023-01-24 14:12:46,173] [OpenBox-SPO] Iteration 864, objective value: [27.107148521425927].\n"
     ]
    },
    {
     "name": "stderr",
     "output_type": "stream",
     "text": [
      " 86%|████████▋ | 864/1000 [14:06:38<2:08:11, 56.55s/it]"
     ]
    },
    {
     "name": "stdout",
     "output_type": "stream",
     "text": [
      "\t self.next_action: 1\n",
      "\n",
      "\t ----- tradeoff_buffer: 0 ----- \n",
      "\t ----- reward: -0.058622314656320784 for f_star and f_minus: 21.24491705579385 , 27.107148521425927\n",
      "[INFO] [2023-01-24 14:12:46,175] [Advisor] Sample random config. rand_prob=0.100000.\n",
      "[INFO] [2023-01-24 14:13:25,478] [OpenBox-SPO] Iteration 865, objective value: [54.465023702930715].\n"
     ]
    },
    {
     "name": "stderr",
     "output_type": "stream",
     "text": [
      " 86%|████████▋ | 865/1000 [14:07:17<1:55:36, 51.38s/it]"
     ]
    },
    {
     "name": "stdout",
     "output_type": "stream",
     "text": [
      "\t self.next_action: -1\n",
      "\n",
      "\t ----- tradeoff_buffer: 1 ----- \n",
      "\t ----- reward: -1 for f_star and f_minus: 21.24491705579385 , 54.465023702930715\n",
      "[INFO] [2023-01-24 14:14:26,701] [OpenBox-SPO] Iteration 866, objective value: [29.038479432523076].\n"
     ]
    },
    {
     "name": "stderr",
     "output_type": "stream",
     "text": [
      " 87%|████████▋ | 866/1000 [14:08:18<2:01:20, 54.33s/it]"
     ]
    },
    {
     "name": "stdout",
     "output_type": "stream",
     "text": [
      "\t self.next_action: 1\n",
      "\n",
      "\t ----- tradeoff_buffer: 0 ----- \n",
      "\t ----- reward: -0.07793562376729224 for f_star and f_minus: 21.24491705579385 , 29.038479432523076\n",
      "[INFO] [2023-01-24 14:15:19,400] [OpenBox-SPO] Iteration 867, objective value: [26.769314945676044].\n"
     ]
    },
    {
     "name": "stderr",
     "output_type": "stream",
     "text": [
      " 87%|████████▋ | 867/1000 [14:09:11<1:59:20, 53.84s/it]"
     ]
    },
    {
     "name": "stdout",
     "output_type": "stream",
     "text": [
      "\t self.next_action: -1\n",
      "\n",
      "\t ----- tradeoff_buffer: 0 ----- \n",
      "\t ----- reward: -0.05524397889882193 for f_star and f_minus: 21.24491705579385 , 26.769314945676044\n",
      "[INFO] [2023-01-24 14:16:08,885] [OpenBox-SPO] Iteration 868, objective value: [24.24514452286941].\n"
     ]
    },
    {
     "name": "stderr",
     "output_type": "stream",
     "text": [
      " 87%|████████▋ | 868/1000 [14:10:00<1:55:34, 52.53s/it]"
     ]
    },
    {
     "name": "stdout",
     "output_type": "stream",
     "text": [
      "\t self.next_action: 0\n",
      "\n",
      "\t ----- tradeoff_buffer: 0 ----- \n",
      "\t ----- reward: -0.030002274670755613 for f_star and f_minus: 21.24491705579385 , 24.24514452286941\n",
      "[INFO] [2023-01-24 14:16:58,034] [OpenBox-SPO] Iteration 869, objective value: [29.190311997560656].\n"
     ]
    },
    {
     "name": "stderr",
     "output_type": "stream",
     "text": [
      " 87%|████████▋ | 869/1000 [14:10:50<1:52:28, 51.52s/it]"
     ]
    },
    {
     "name": "stdout",
     "output_type": "stream",
     "text": [
      "\t self.next_action: 0\n",
      "\n",
      "\t ----- tradeoff_buffer: 0 ----- \n",
      "\t ----- reward: -0.07945394941766809 for f_star and f_minus: 21.24491705579385 , 29.190311997560656\n",
      "[INFO] [2023-01-24 14:17:52,606] [OpenBox-SPO] Iteration 870, objective value: [28.49869343017214].\n"
     ]
    },
    {
     "name": "stderr",
     "output_type": "stream",
     "text": [
      " 87%|████████▋ | 870/1000 [14:11:44<1:53:36, 52.43s/it]"
     ]
    },
    {
     "name": "stdout",
     "output_type": "stream",
     "text": [
      "\t self.next_action: 0\n",
      "\n",
      "\t ----- tradeoff_buffer: 0 ----- \n",
      "\t ----- reward: -0.0725377637437829 for f_star and f_minus: 21.24491705579385 , 28.49869343017214\n",
      "[INFO] [2023-01-24 14:18:44,927] [OpenBox-SPO] Iteration 871, objective value: [23.667118664070642].\n"
     ]
    },
    {
     "name": "stderr",
     "output_type": "stream",
     "text": [
      " 87%|████████▋ | 871/1000 [14:12:36<1:52:39, 52.40s/it]"
     ]
    },
    {
     "name": "stdout",
     "output_type": "stream",
     "text": [
      "\t self.next_action: 0\n",
      "\n",
      "\t ----- tradeoff_buffer: 0 ----- \n",
      "\t ----- reward: -0.024222016082767917 for f_star and f_minus: 21.24491705579385 , 23.667118664070642\n",
      "[INFO] [2023-01-24 14:19:31,079] [OpenBox-SPO] Iteration 872, objective value: [32.650879608896474].\n"
     ]
    },
    {
     "name": "stderr",
     "output_type": "stream",
     "text": [
      " 87%|████████▋ | 872/1000 [14:13:23<1:47:47, 50.53s/it]"
     ]
    },
    {
     "name": "stdout",
     "output_type": "stream",
     "text": [
      "\t self.next_action: 0\n",
      "\n",
      "\t ----- tradeoff_buffer: 0 ----- \n",
      "\t ----- reward: -0.11405962553102628 for f_star and f_minus: 21.24491705579385 , 32.650879608896474\n",
      "[INFO] [2023-01-24 14:20:24,926] [OpenBox-SPO] Iteration 873, objective value: [26.786276471598896].\n"
     ]
    },
    {
     "name": "stderr",
     "output_type": "stream",
     "text": [
      " 87%|████████▋ | 873/1000 [14:14:16<1:49:03, 51.52s/it]"
     ]
    },
    {
     "name": "stdout",
     "output_type": "stream",
     "text": [
      "\t self.next_action: 0\n",
      "\n",
      "\t ----- tradeoff_buffer: 0 ----- \n",
      "\t ----- reward: -0.05541359415805047 for f_star and f_minus: 21.24491705579385 , 26.786276471598896\n",
      "[INFO] [2023-01-24 14:20:24,928] [Advisor] Sample random config. rand_prob=0.100000.\n",
      "[INFO] [2023-01-24 14:21:10,717] [OpenBox-SPO] Iteration 874, objective value: [57.035085774557835].\n"
     ]
    },
    {
     "name": "stderr",
     "output_type": "stream",
     "text": [
      " 87%|████████▋ | 874/1000 [14:15:02<1:44:35, 49.80s/it]"
     ]
    },
    {
     "name": "stdout",
     "output_type": "stream",
     "text": [
      "\t self.next_action: 0\n",
      "\n",
      "\t ----- tradeoff_buffer: 0 ----- \n",
      "\t ----- reward: -1 for f_star and f_minus: 21.24491705579385 , 57.035085774557835\n",
      "[INFO] [2023-01-24 14:22:01,556] [OpenBox-SPO] Iteration 875, objective value: [33.89611706495195].\n"
     ]
    },
    {
     "name": "stderr",
     "output_type": "stream",
     "text": [
      " 88%|████████▊ | 875/1000 [14:15:53<1:44:24, 50.11s/it]"
     ]
    },
    {
     "name": "stdout",
     "output_type": "stream",
     "text": [
      "\t self.next_action: 0\n",
      "\n",
      "\t ----- tradeoff_buffer: 0 ----- \n",
      "\t ----- reward: -0.12651200009158103 for f_star and f_minus: 21.24491705579385 , 33.89611706495195\n",
      "[INFO] [2023-01-24 14:22:52,724] [OpenBox-SPO] Iteration 876, objective value: [33.41098674472033].\n"
     ]
    },
    {
     "name": "stderr",
     "output_type": "stream",
     "text": [
      " 88%|████████▊ | 876/1000 [14:16:44<1:44:13, 50.43s/it]"
     ]
    },
    {
     "name": "stdout",
     "output_type": "stream",
     "text": [
      "\t self.next_action: -1\n",
      "\n",
      "\t ----- tradeoff_buffer: 0 ----- \n",
      "\t ----- reward: -0.12166069688926484 for f_star and f_minus: 21.24491705579385 , 33.41098674472033\n",
      "[INFO] [2023-01-24 14:23:43,513] [OpenBox-SPO] Iteration 877, objective value: [24.00898345848745].\n"
     ]
    },
    {
     "name": "stderr",
     "output_type": "stream",
     "text": [
      " 88%|████████▊ | 877/1000 [14:17:35<1:43:36, 50.54s/it]"
     ]
    },
    {
     "name": "stdout",
     "output_type": "stream",
     "text": [
      "\t self.next_action: -1\n",
      "\n",
      "\t ----- tradeoff_buffer: 0 ----- \n",
      "\t ----- reward: -0.02764066402693599 for f_star and f_minus: 21.24491705579385 , 24.00898345848745\n",
      "[INFO] [2023-01-24 14:24:31,915] [OpenBox-SPO] Iteration 878, objective value: [28.666692227106267].\n"
     ]
    },
    {
     "name": "stderr",
     "output_type": "stream",
     "text": [
      " 88%|████████▊ | 878/1000 [14:18:23<1:41:27, 49.90s/it]"
     ]
    },
    {
     "name": "stdout",
     "output_type": "stream",
     "text": [
      "\t self.next_action: -1\n",
      "\n",
      "\t ----- tradeoff_buffer: 0 ----- \n",
      "\t ----- reward: -0.07421775171312417 for f_star and f_minus: 21.24491705579385 , 28.666692227106267\n",
      "[INFO] [2023-01-24 14:25:25,742] [OpenBox-SPO] Iteration 879, objective value: [21.619651817887856].\n"
     ]
    },
    {
     "name": "stderr",
     "output_type": "stream",
     "text": [
      " 88%|████████▊ | 879/1000 [14:19:17<1:43:00, 51.08s/it]"
     ]
    },
    {
     "name": "stdout",
     "output_type": "stream",
     "text": [
      "\t self.next_action: -1\n",
      "\n",
      "\t ----- tradeoff_buffer: 0 ----- \n",
      "\t ----- reward: -0.0037473476209400614 for f_star and f_minus: 21.24491705579385 , 21.619651817887856\n",
      "[INFO] [2023-01-24 14:25:25,743] [Advisor] Sample random config. rand_prob=0.100000.\n",
      "[INFO] [2023-01-24 14:26:06,038] [OpenBox-SPO] Iteration 880, objective value: [65.12555510317338].\n"
     ]
    },
    {
     "name": "stderr",
     "output_type": "stream",
     "text": [
      " 88%|████████▊ | 880/1000 [14:19:58<1:35:41, 47.84s/it]"
     ]
    },
    {
     "name": "stdout",
     "output_type": "stream",
     "text": [
      "\t self.next_action: -1\n",
      "\n",
      "\t ----- tradeoff_buffer: 0 ----- \n",
      "\t ----- reward: -1 for f_star and f_minus: 21.24491705579385 , 65.12555510317338\n",
      "[INFO] [2023-01-24 14:27:00,324] [OpenBox-SPO] Iteration 881, objective value: [32.832238960792594].\n"
     ]
    },
    {
     "name": "stderr",
     "output_type": "stream",
     "text": [
      " 88%|████████▊ | 881/1000 [14:20:52<1:38:43, 49.78s/it]"
     ]
    },
    {
     "name": "stdout",
     "output_type": "stream",
     "text": [
      "\t self.next_action: -1\n",
      "\n",
      "\t ----- tradeoff_buffer: 1 ----- \n",
      "\t ----- reward: -0.11587321904998743 for f_star and f_minus: 21.24491705579385 , 32.832238960792594\n",
      "[INFO] [2023-01-24 14:27:51,113] [OpenBox-SPO] Iteration 882, objective value: [23.430666692276816].\n"
     ]
    },
    {
     "name": "stderr",
     "output_type": "stream",
     "text": [
      " 88%|████████▊ | 882/1000 [14:21:43<1:38:29, 50.08s/it]"
     ]
    },
    {
     "name": "stdout",
     "output_type": "stream",
     "text": [
      "\t self.next_action: 1\n",
      "\n",
      "\t ----- tradeoff_buffer: 0 ----- \n",
      "\t ----- reward: -0.02185749636482967 for f_star and f_minus: 21.24491705579385 , 23.430666692276816\n",
      "[INFO] [2023-01-24 14:28:41,415] [OpenBox-SPO] Iteration 883, objective value: [26.402477216729096].\n"
     ]
    },
    {
     "name": "stderr",
     "output_type": "stream",
     "text": [
      " 88%|████████▊ | 883/1000 [14:22:33<1:37:47, 50.15s/it]"
     ]
    },
    {
     "name": "stdout",
     "output_type": "stream",
     "text": [
      "\t self.next_action: -1\n",
      "\n",
      "\t ----- tradeoff_buffer: 1 ----- \n",
      "\t ----- reward: -0.051575601609352484 for f_star and f_minus: 21.24491705579385 , 26.402477216729096\n",
      "[INFO] [2023-01-24 14:29:36,682] [OpenBox-SPO] Iteration 884, objective value: [26.23878718833113].\n"
     ]
    },
    {
     "name": "stderr",
     "output_type": "stream",
     "text": [
      " 88%|████████▊ | 884/1000 [14:23:28<1:39:55, 51.68s/it]"
     ]
    },
    {
     "name": "stdout",
     "output_type": "stream",
     "text": [
      "\t self.next_action: 1\n",
      "\n",
      "\t ----- tradeoff_buffer: 0 ----- \n",
      "\t ----- reward: -0.049938701325372814 for f_star and f_minus: 21.24491705579385 , 26.23878718833113\n",
      "[INFO] [2023-01-24 14:30:27,207] [OpenBox-SPO] Iteration 885, objective value: [29.235046156950816].\n"
     ]
    },
    {
     "name": "stderr",
     "output_type": "stream",
     "text": [
      " 88%|████████▊ | 885/1000 [14:24:19<1:38:23, 51.34s/it]"
     ]
    },
    {
     "name": "stdout",
     "output_type": "stream",
     "text": [
      "\t self.next_action: -1\n",
      "\n",
      "\t ----- tradeoff_buffer: 1 ----- \n",
      "\t ----- reward: -0.07990129101156968 for f_star and f_minus: 21.24491705579385 , 29.235046156950816\n",
      "[INFO] [2023-01-24 14:31:21,848] [OpenBox-SPO] Iteration 886, objective value: [25.5850086155815].\n"
     ]
    },
    {
     "name": "stderr",
     "output_type": "stream",
     "text": [
      " 89%|████████▊ | 886/1000 [14:25:13<1:39:25, 52.33s/it]"
     ]
    },
    {
     "name": "stdout",
     "output_type": "stream",
     "text": [
      "\t self.next_action: 1\n",
      "\n",
      "\t ----- tradeoff_buffer: 0 ----- \n",
      "\t ----- reward: -0.04340091559787651 for f_star and f_minus: 21.24491705579385 , 25.5850086155815\n",
      "[INFO] [2023-01-24 14:32:15,105] [OpenBox-SPO] Iteration 887, objective value: [24.086554240480964].\n"
     ]
    },
    {
     "name": "stderr",
     "output_type": "stream",
     "text": [
      " 89%|████████▊ | 887/1000 [14:26:07<1:39:04, 52.61s/it]"
     ]
    },
    {
     "name": "stdout",
     "output_type": "stream",
     "text": [
      "\t self.next_action: -1\n",
      "\n",
      "\t ----- tradeoff_buffer: 1 ----- \n",
      "\t ----- reward: -0.028416371846871152 for f_star and f_minus: 21.24491705579385 , 24.086554240480964\n",
      "[INFO] [2023-01-24 14:33:16,101] [OpenBox-SPO] Iteration 888, objective value: [26.97926160137672].\n"
     ]
    },
    {
     "name": "stderr",
     "output_type": "stream",
     "text": [
      " 89%|████████▉ | 888/1000 [14:27:08<1:42:53, 55.12s/it]"
     ]
    },
    {
     "name": "stdout",
     "output_type": "stream",
     "text": [
      "\t self.next_action: 1\n",
      "\n",
      "\t ----- tradeoff_buffer: 0 ----- \n",
      "\t ----- reward: -0.0573434454558287 for f_star and f_minus: 21.24491705579385 , 26.97926160137672\n",
      "[INFO] [2023-01-24 14:34:06,940] [OpenBox-SPO] Iteration 889, objective value: [26.483895066373535].\n"
     ]
    },
    {
     "name": "stderr",
     "output_type": "stream",
     "text": [
      " 89%|████████▉ | 889/1000 [14:27:58<1:39:35, 53.84s/it]"
     ]
    },
    {
     "name": "stdout",
     "output_type": "stream",
     "text": [
      "\t self.next_action: -1\n",
      "\n",
      "\t ----- tradeoff_buffer: 1 ----- \n",
      "\t ----- reward: -0.05238978010579687 for f_star and f_minus: 21.24491705579385 , 26.483895066373535\n",
      "[INFO] [2023-01-24 14:34:57,973] [OpenBox-SPO] Iteration 890, objective value: [25.79046101157745].\n"
     ]
    },
    {
     "name": "stderr",
     "output_type": "stream",
     "text": [
      " 89%|████████▉ | 890/1000 [14:28:49<1:37:09, 53.00s/it]"
     ]
    },
    {
     "name": "stdout",
     "output_type": "stream",
     "text": [
      "\t self.next_action: 1\n",
      "\n",
      "\t ----- tradeoff_buffer: 0 ----- \n",
      "\t ----- reward: -0.045455439557835986 for f_star and f_minus: 21.24491705579385 , 25.79046101157745\n",
      "[INFO] [2023-01-24 14:35:52,981] [OpenBox-SPO] Iteration 891, objective value: [31.018585321027402].\n"
     ]
    },
    {
     "name": "stderr",
     "output_type": "stream",
     "text": [
      " 89%|████████▉ | 891/1000 [14:29:44<1:37:22, 53.60s/it]"
     ]
    },
    {
     "name": "stdout",
     "output_type": "stream",
     "text": [
      "\t self.next_action: -1\n",
      "\n",
      "\t ----- tradeoff_buffer: 1 ----- \n",
      "\t ----- reward: -0.09773668265233554 for f_star and f_minus: 21.24491705579385 , 31.018585321027402\n",
      "[INFO] [2023-01-24 14:36:47,937] [OpenBox-SPO] Iteration 892, objective value: [31.985574653861562].\n"
     ]
    },
    {
     "name": "stderr",
     "output_type": "stream",
     "text": [
      " 89%|████████▉ | 892/1000 [14:30:39<1:37:12, 54.01s/it]"
     ]
    },
    {
     "name": "stdout",
     "output_type": "stream",
     "text": [
      "\t self.next_action: 1\n",
      "\n",
      "\t ----- tradeoff_buffer: 0 ----- \n",
      "\t ----- reward: -0.1074065759806771 for f_star and f_minus: 21.24491705579385 , 31.985574653861562\n",
      "[INFO] [2023-01-24 14:37:36,948] [OpenBox-SPO] Iteration 893, objective value: [25.883562894955887].\n"
     ]
    },
    {
     "name": "stderr",
     "output_type": "stream",
     "text": [
      " 89%|████████▉ | 893/1000 [14:31:28<1:33:38, 52.51s/it]"
     ]
    },
    {
     "name": "stdout",
     "output_type": "stream",
     "text": [
      "\t self.next_action: -1\n",
      "\n",
      "\t ----- tradeoff_buffer: 1 ----- \n",
      "\t ----- reward: -0.04638645839162037 for f_star and f_minus: 21.24491705579385 , 25.883562894955887\n",
      "[INFO] [2023-01-24 14:38:22,637] [OpenBox-SPO] Iteration 894, objective value: [30.057034935802704].\n"
     ]
    },
    {
     "name": "stderr",
     "output_type": "stream",
     "text": [
      " 89%|████████▉ | 894/1000 [14:32:14<1:29:09, 50.46s/it]"
     ]
    },
    {
     "name": "stdout",
     "output_type": "stream",
     "text": [
      "\t self.next_action: 1\n",
      "\n",
      "\t ----- tradeoff_buffer: 0 ----- \n",
      "\t ----- reward: -0.08812117880008857 for f_star and f_minus: 21.24491705579385 , 30.057034935802704\n",
      "[INFO] [2023-01-24 14:39:14,047] [OpenBox-SPO] Iteration 895, objective value: [24.084388146066615].\n"
     ]
    },
    {
     "name": "stderr",
     "output_type": "stream",
     "text": [
      " 90%|████████▉ | 895/1000 [14:33:06<1:28:48, 50.75s/it]"
     ]
    },
    {
     "name": "stdout",
     "output_type": "stream",
     "text": [
      "\t self.next_action: -1\n",
      "\n",
      "\t ----- tradeoff_buffer: 1 ----- \n",
      "\t ----- reward: -0.02839471090272766 for f_star and f_minus: 21.24491705579385 , 24.084388146066615\n",
      "[INFO] [2023-01-24 14:39:58,192] [OpenBox-SPO] Iteration 896, objective value: [27.741445859051353].\n"
     ]
    },
    {
     "name": "stderr",
     "output_type": "stream",
     "text": [
      " 90%|████████▉ | 896/1000 [14:33:50<1:24:31, 48.77s/it]"
     ]
    },
    {
     "name": "stdout",
     "output_type": "stream",
     "text": [
      "\t self.next_action: 1\n",
      "\n",
      "\t ----- tradeoff_buffer: 0 ----- \n",
      "\t ----- reward: -0.06496528803257506 for f_star and f_minus: 21.24491705579385 , 27.741445859051353\n",
      "[INFO] [2023-01-24 14:40:53,099] [OpenBox-SPO] Iteration 897, objective value: [31.248394450319623].\n"
     ]
    },
    {
     "name": "stderr",
     "output_type": "stream",
     "text": [
      " 90%|████████▉ | 897/1000 [14:34:45<1:26:52, 50.61s/it]"
     ]
    },
    {
     "name": "stdout",
     "output_type": "stream",
     "text": [
      "\t self.next_action: -1\n",
      "\n",
      "\t ----- tradeoff_buffer: 1 ----- \n",
      "\t ----- reward: -0.10003477394525773 for f_star and f_minus: 21.24491705579385 , 31.248394450319623\n",
      "[INFO] [2023-01-24 14:41:48,537] [OpenBox-SPO] Iteration 898, objective value: [26.873013222489647].\n"
     ]
    },
    {
     "name": "stderr",
     "output_type": "stream",
     "text": [
      " 90%|████████▉ | 898/1000 [14:35:40<1:28:29, 52.06s/it]"
     ]
    },
    {
     "name": "stdout",
     "output_type": "stream",
     "text": [
      "\t self.next_action: 1\n",
      "\n",
      "\t ----- tradeoff_buffer: 0 ----- \n",
      "\t ----- reward: -0.05628096166695795 for f_star and f_minus: 21.24491705579385 , 26.873013222489647\n",
      "[INFO] [2023-01-24 14:42:44,704] [OpenBox-SPO] Iteration 899, objective value: [41.27569677019225].\n"
     ]
    },
    {
     "name": "stderr",
     "output_type": "stream",
     "text": [
      " 90%|████████▉ | 899/1000 [14:36:36<1:29:42, 53.29s/it]"
     ]
    },
    {
     "name": "stdout",
     "output_type": "stream",
     "text": [
      "\t self.next_action: -1\n",
      "\n",
      "\t ----- tradeoff_buffer: 1 ----- \n",
      "\t ----- reward: -0.200307797143984 for f_star and f_minus: 21.24491705579385 , 41.27569677019225\n",
      "[INFO] [2023-01-24 14:43:30,905] [OpenBox-SPO] Iteration 900, objective value: [27.05099243969859].\n"
     ]
    },
    {
     "name": "stderr",
     "output_type": "stream",
     "text": [
      " 90%|█████████ | 900/1000 [14:37:22<1:25:16, 51.16s/it]"
     ]
    },
    {
     "name": "stdout",
     "output_type": "stream",
     "text": [
      "\t self.next_action: 1\n",
      "\n",
      "\t ----- tradeoff_buffer: 0 ----- \n",
      "\t ----- reward: -0.05806075383904741 for f_star and f_minus: 21.24491705579385 , 27.05099243969859\n",
      "[INFO] [2023-01-24 14:44:19,912] [OpenBox-SPO] Iteration 901, objective value: [27.881722950197272].\n"
     ]
    },
    {
     "name": "stderr",
     "output_type": "stream",
     "text": [
      " 90%|█████████ | 901/1000 [14:38:11<1:23:21, 50.52s/it]"
     ]
    },
    {
     "name": "stdout",
     "output_type": "stream",
     "text": [
      "\t self.next_action: -1\n",
      "\n",
      "\t ----- tradeoff_buffer: 1 ----- \n",
      "\t ----- reward: -0.06636805894403425 for f_star and f_minus: 21.24491705579385 , 27.881722950197272\n",
      "[INFO] [2023-01-24 14:45:09,914] [OpenBox-SPO] Iteration 902, objective value: [26.141044112592866].\n"
     ]
    },
    {
     "name": "stderr",
     "output_type": "stream",
     "text": [
      " 90%|█████████ | 902/1000 [14:39:01<1:22:15, 50.36s/it]"
     ]
    },
    {
     "name": "stdout",
     "output_type": "stream",
     "text": [
      "\t self.next_action: 1\n",
      "\n",
      "\t ----- tradeoff_buffer: 0 ----- \n",
      "\t ----- reward: -0.048961270567990156 for f_star and f_minus: 21.24491705579385 , 26.141044112592866\n",
      "[INFO] [2023-01-24 14:46:01,874] [OpenBox-SPO] Iteration 903, objective value: [30.25787907158127].\n"
     ]
    },
    {
     "name": "stderr",
     "output_type": "stream",
     "text": [
      " 90%|█████████ | 903/1000 [14:39:53<1:22:11, 50.84s/it]"
     ]
    },
    {
     "name": "stdout",
     "output_type": "stream",
     "text": [
      "\t self.next_action: -1\n",
      "\n",
      "\t ----- tradeoff_buffer: 1 ----- \n",
      "\t ----- reward: -0.09012962015787424 for f_star and f_minus: 21.24491705579385 , 30.25787907158127\n",
      "[INFO] [2023-01-24 14:46:56,385] [OpenBox-SPO] Iteration 904, objective value: [25.531459810870658].\n"
     ]
    },
    {
     "name": "stderr",
     "output_type": "stream",
     "text": [
      " 90%|█████████ | 904/1000 [14:40:48<1:23:06, 51.94s/it]"
     ]
    },
    {
     "name": "stdout",
     "output_type": "stream",
     "text": [
      "\t self.next_action: 1\n",
      "\n",
      "\t ----- tradeoff_buffer: 0 ----- \n",
      "\t ----- reward: -0.04286542755076811 for f_star and f_minus: 21.24491705579385 , 25.531459810870658\n",
      "[INFO] [2023-01-24 14:47:44,639] [OpenBox-SPO] Iteration 905, objective value: [24.961015097649067].\n"
     ]
    },
    {
     "name": "stderr",
     "output_type": "stream",
     "text": [
      " 90%|█████████ | 905/1000 [14:41:36<1:20:29, 50.84s/it]"
     ]
    },
    {
     "name": "stdout",
     "output_type": "stream",
     "text": [
      "\t self.next_action: -1\n",
      "\n",
      "\t ----- tradeoff_buffer: 1 ----- \n",
      "\t ----- reward: -0.037160980418552175 for f_star and f_minus: 21.24491705579385 , 24.961015097649067\n",
      "[INFO] [2023-01-24 14:48:31,825] [OpenBox-SPO] Iteration 906, objective value: [23.84501884139756].\n"
     ]
    },
    {
     "name": "stderr",
     "output_type": "stream",
     "text": [
      " 91%|█████████ | 906/1000 [14:42:23<1:17:55, 49.74s/it]"
     ]
    },
    {
     "name": "stdout",
     "output_type": "stream",
     "text": [
      "\t self.next_action: 1\n",
      "\n",
      "\t ----- tradeoff_buffer: 0 ----- \n",
      "\t ----- reward: -0.026001017856037117 for f_star and f_minus: 21.24491705579385 , 23.84501884139756\n",
      "[INFO] [2023-01-24 14:49:29,730] [OpenBox-SPO] Iteration 907, objective value: [25.26217226082646].\n"
     ]
    },
    {
     "name": "stderr",
     "output_type": "stream",
     "text": [
      " 91%|█████████ | 907/1000 [14:43:21<1:20:53, 52.19s/it]"
     ]
    },
    {
     "name": "stdout",
     "output_type": "stream",
     "text": [
      "\t self.next_action: -1\n",
      "\n",
      "\t ----- tradeoff_buffer: 1 ----- \n",
      "\t ----- reward: -0.040172552050326105 for f_star and f_minus: 21.24491705579385 , 25.26217226082646\n",
      "[INFO] [2023-01-24 14:50:22,643] [OpenBox-SPO] Iteration 908, objective value: [24.39868870400879].\n"
     ]
    },
    {
     "name": "stderr",
     "output_type": "stream",
     "text": [
      " 91%|█████████ | 908/1000 [14:44:14<1:20:21, 52.41s/it]"
     ]
    },
    {
     "name": "stdout",
     "output_type": "stream",
     "text": [
      "\t self.next_action: 1\n",
      "\n",
      "\t ----- tradeoff_buffer: 0 ----- \n",
      "\t ----- reward: -0.031537716482149425 for f_star and f_minus: 21.24491705579385 , 24.39868870400879\n",
      "[INFO] [2023-01-24 14:51:19,010] [OpenBox-SPO] Iteration 909, objective value: [26.843679502993794].\n"
     ]
    },
    {
     "name": "stderr",
     "output_type": "stream",
     "text": [
      " 91%|█████████ | 909/1000 [14:45:11<1:21:17, 53.60s/it]"
     ]
    },
    {
     "name": "stdout",
     "output_type": "stream",
     "text": [
      "\t self.next_action: -1\n",
      "\n",
      "\t ----- tradeoff_buffer: 1 ----- \n",
      "\t ----- reward: -0.05598762447199945 for f_star and f_minus: 21.24491705579385 , 26.843679502993794\n",
      "[INFO] [2023-01-24 14:52:22,714] [OpenBox-SPO] Iteration 910, objective value: [26.53712179039198].\n"
     ]
    },
    {
     "name": "stderr",
     "output_type": "stream",
     "text": [
      " 91%|█████████ | 910/1000 [14:46:14<1:24:56, 56.63s/it]"
     ]
    },
    {
     "name": "stdout",
     "output_type": "stream",
     "text": [
      "\t self.next_action: 1\n",
      "\n",
      "\t ----- tradeoff_buffer: 0 ----- \n",
      "\t ----- reward: -0.05292204734598127 for f_star and f_minus: 21.24491705579385 , 26.53712179039198\n",
      "[INFO] [2023-01-24 14:53:23,803] [OpenBox-SPO] Iteration 911, objective value: [25.238794482752922].\n"
     ]
    },
    {
     "name": "stderr",
     "output_type": "stream",
     "text": [
      " 91%|█████████ | 911/1000 [14:47:15<1:25:59, 57.97s/it]"
     ]
    },
    {
     "name": "stdout",
     "output_type": "stream",
     "text": [
      "\t self.next_action: -1\n",
      "\n",
      "\t ----- tradeoff_buffer: 1 ----- \n",
      "\t ----- reward: -0.03993877426959075 for f_star and f_minus: 21.24491705579385 , 25.238794482752922\n",
      "[INFO] [2023-01-24 14:54:19,481] [OpenBox-SPO] Iteration 912, objective value: [26.276974022450688].\n"
     ]
    },
    {
     "name": "stderr",
     "output_type": "stream",
     "text": [
      " 91%|█████████ | 912/1000 [14:48:11<1:24:00, 57.28s/it]"
     ]
    },
    {
     "name": "stdout",
     "output_type": "stream",
     "text": [
      "\t self.next_action: 1\n",
      "\n",
      "\t ----- tradeoff_buffer: 0 ----- \n",
      "\t ----- reward: -0.05032056966656839 for f_star and f_minus: 21.24491705579385 , 26.276974022450688\n",
      "[INFO] [2023-01-24 14:55:07,872] [OpenBox-SPO] Iteration 913, objective value: [43.12160037851409].\n"
     ]
    },
    {
     "name": "stderr",
     "output_type": "stream",
     "text": [
      " 91%|█████████▏| 913/1000 [14:48:59<1:19:11, 54.61s/it]"
     ]
    },
    {
     "name": "stdout",
     "output_type": "stream",
     "text": [
      "\t self.next_action: -1\n",
      "\n",
      "\t ----- tradeoff_buffer: 1 ----- \n",
      "\t ----- reward: -0.21876683322720242 for f_star and f_minus: 21.24491705579385 , 43.12160037851409\n",
      "[INFO] [2023-01-24 14:55:52,412] [OpenBox-SPO] Iteration 914, objective value: [30.871414061372562].\n"
     ]
    },
    {
     "name": "stderr",
     "output_type": "stream",
     "text": [
      " 91%|█████████▏| 914/1000 [14:49:44<1:13:56, 51.59s/it]"
     ]
    },
    {
     "name": "stdout",
     "output_type": "stream",
     "text": [
      "\t self.next_action: 1\n",
      "\n",
      "\t ----- tradeoff_buffer: 0 ----- \n",
      "\t ----- reward: -0.0962649700557871 for f_star and f_minus: 21.24491705579385 , 30.871414061372562\n",
      "[INFO] [2023-01-24 14:56:34,535] [OpenBox-SPO] Iteration 915, objective value: [26.294141816370384].\n"
     ]
    },
    {
     "name": "stderr",
     "output_type": "stream",
     "text": [
      " 92%|█████████▏| 915/1000 [14:50:26<1:09:03, 48.75s/it]"
     ]
    },
    {
     "name": "stdout",
     "output_type": "stream",
     "text": [
      "\t self.next_action: -1\n",
      "\n",
      "\t ----- tradeoff_buffer: 1 ----- \n",
      "\t ----- reward: -0.05049224760576537 for f_star and f_minus: 21.24491705579385 , 26.294141816370384\n",
      "[INFO] [2023-01-24 14:57:18,137] [OpenBox-SPO] Iteration 916, objective value: [26.68452938568599].\n"
     ]
    },
    {
     "name": "stderr",
     "output_type": "stream",
     "text": [
      " 92%|█████████▏| 916/1000 [14:51:10<1:06:05, 47.21s/it]"
     ]
    },
    {
     "name": "stdout",
     "output_type": "stream",
     "text": [
      "\t self.next_action: 1\n",
      "\n",
      "\t ----- tradeoff_buffer: 0 ----- \n",
      "\t ----- reward: -0.054396123298921406 for f_star and f_minus: 21.24491705579385 , 26.68452938568599\n",
      "[INFO] [2023-01-24 14:57:18,139] [Advisor] Sample random config. rand_prob=0.100000.\n",
      "[INFO] [2023-01-24 14:58:00,842] [OpenBox-SPO] Iteration 917, objective value: [54.6857136842602].\n"
     ]
    },
    {
     "name": "stderr",
     "output_type": "stream",
     "text": [
      " 92%|█████████▏| 917/1000 [14:51:52<1:03:26, 45.86s/it]"
     ]
    },
    {
     "name": "stdout",
     "output_type": "stream",
     "text": [
      "\t self.next_action: -1\n",
      "\n",
      "\t ----- tradeoff_buffer: 1 ----- \n",
      "\t ----- reward: -1 for f_star and f_minus: 21.24491705579385 , 54.6857136842602\n",
      "[INFO] [2023-01-24 14:58:00,844] [Advisor] Sample random config. rand_prob=0.100000.\n",
      "[INFO] [2023-01-24 14:58:41,769] [OpenBox-SPO] Iteration 918, objective value: [49.158562707444695].\n"
     ]
    },
    {
     "name": "stderr",
     "output_type": "stream",
     "text": [
      " 92%|█████████▏| 918/1000 [14:52:33<1:00:38, 44.38s/it]"
     ]
    },
    {
     "name": "stdout",
     "output_type": "stream",
     "text": [
      "\t self.next_action: 1\n",
      "\n",
      "\t ----- tradeoff_buffer: 0 ----- \n",
      "\t ----- reward: -0.2791364565165085 for f_star and f_minus: 21.24491705579385 , 49.158562707444695\n",
      "[INFO] [2023-01-24 14:59:25,717] [OpenBox-SPO] Iteration 919, objective value: [29.15357620956182].\n"
     ]
    },
    {
     "name": "stderr",
     "output_type": "stream",
     "text": [
      " 92%|█████████▏| 919/1000 [14:53:17<59:44, 44.25s/it]  "
     ]
    },
    {
     "name": "stdout",
     "output_type": "stream",
     "text": [
      "\t self.next_action: -1\n",
      "\n",
      "\t ----- tradeoff_buffer: 0 ----- \n",
      "\t ----- reward: -0.07908659153767972 for f_star and f_minus: 21.24491705579385 , 29.15357620956182\n",
      "[INFO] [2023-01-24 15:00:07,329] [OpenBox-SPO] Iteration 920, objective value: [25.68577383413681].\n"
     ]
    },
    {
     "name": "stderr",
     "output_type": "stream",
     "text": [
      " 92%|█████████▏| 920/1000 [14:53:59<57:56, 43.46s/it]"
     ]
    },
    {
     "name": "stdout",
     "output_type": "stream",
     "text": [
      "\t self.next_action: 0\n",
      "\n",
      "\t ----- tradeoff_buffer: 0 ----- \n",
      "\t ----- reward: -0.04440856778342961 for f_star and f_minus: 21.24491705579385 , 25.68577383413681\n",
      "[INFO] [2023-01-24 15:00:55,952] [OpenBox-SPO] Iteration 921, objective value: [36.8204121781056].\n"
     ]
    },
    {
     "name": "stderr",
     "output_type": "stream",
     "text": [
      " 92%|█████████▏| 921/1000 [14:54:47<59:15, 45.01s/it]"
     ]
    },
    {
     "name": "stdout",
     "output_type": "stream",
     "text": [
      "\t self.next_action: 0\n",
      "\n",
      "\t ----- tradeoff_buffer: 0 ----- \n",
      "\t ----- reward: -0.1557549512231175 for f_star and f_minus: 21.24491705579385 , 36.8204121781056\n",
      "[INFO] [2023-01-24 15:01:41,998] [OpenBox-SPO] Iteration 922, objective value: [49.345420013497275].\n"
     ]
    },
    {
     "name": "stderr",
     "output_type": "stream",
     "text": [
      " 92%|█████████▏| 922/1000 [14:55:34<58:54, 45.32s/it]"
     ]
    },
    {
     "name": "stdout",
     "output_type": "stream",
     "text": [
      "\t self.next_action: 0\n",
      "\n",
      "\t ----- tradeoff_buffer: 0 ----- \n",
      "\t ----- reward: -0.28100502957703427 for f_star and f_minus: 21.24491705579385 , 49.345420013497275\n",
      "[INFO] [2023-01-24 15:02:26,039] [OpenBox-SPO] Iteration 923, objective value: [28.64891951804134].\n"
     ]
    },
    {
     "name": "stderr",
     "output_type": "stream",
     "text": [
      " 92%|█████████▏| 923/1000 [14:56:18<57:40, 44.94s/it]"
     ]
    },
    {
     "name": "stdout",
     "output_type": "stream",
     "text": [
      "\t self.next_action: 0\n",
      "\n",
      "\t ----- tradeoff_buffer: 0 ----- \n",
      "\t ----- reward: -0.07404002462247489 for f_star and f_minus: 21.24491705579385 , 28.64891951804134\n",
      "[INFO] [2023-01-24 15:03:10,957] [OpenBox-SPO] Iteration 924, objective value: [24.269479386273957].\n"
     ]
    },
    {
     "name": "stderr",
     "output_type": "stream",
     "text": [
      " 92%|█████████▏| 924/1000 [14:57:02<56:54, 44.93s/it]"
     ]
    },
    {
     "name": "stdout",
     "output_type": "stream",
     "text": [
      "\t self.next_action: 0\n",
      "\n",
      "\t ----- tradeoff_buffer: 0 ----- \n",
      "\t ----- reward: -0.030245623304801073 for f_star and f_minus: 21.24491705579385 , 24.269479386273957\n",
      "[INFO] [2023-01-24 15:03:54,346] [OpenBox-SPO] Iteration 925, objective value: [26.90714187277598].\n"
     ]
    },
    {
     "name": "stderr",
     "output_type": "stream",
     "text": [
      " 92%|█████████▎| 925/1000 [14:57:46<55:35, 44.47s/it]"
     ]
    },
    {
     "name": "stdout",
     "output_type": "stream",
     "text": [
      "\t self.next_action: 0\n",
      "\n",
      "\t ----- tradeoff_buffer: 0 ----- \n",
      "\t ----- reward: -0.05662224816982131 for f_star and f_minus: 21.24491705579385 , 26.90714187277598\n",
      "[INFO] [2023-01-24 15:04:39,598] [OpenBox-SPO] Iteration 926, objective value: [27.30947835301545].\n"
     ]
    },
    {
     "name": "stderr",
     "output_type": "stream",
     "text": [
      " 93%|█████████▎| 926/1000 [14:58:31<55:08, 44.70s/it]"
     ]
    },
    {
     "name": "stdout",
     "output_type": "stream",
     "text": [
      "\t self.next_action: 0\n",
      "\n",
      "\t ----- tradeoff_buffer: 0 ----- \n",
      "\t ----- reward: -0.06064561297221599 for f_star and f_minus: 21.24491705579385 , 27.30947835301545\n",
      "[INFO] [2023-01-24 15:05:27,341] [OpenBox-SPO] Iteration 927, objective value: [23.954056282566697].\n"
     ]
    },
    {
     "name": "stderr",
     "output_type": "stream",
     "text": [
      " 93%|█████████▎| 927/1000 [14:59:19<55:29, 45.61s/it]"
     ]
    },
    {
     "name": "stdout",
     "output_type": "stream",
     "text": [
      "\t self.next_action: 0\n",
      "\n",
      "\t ----- tradeoff_buffer: 0 ----- \n",
      "\t ----- reward: -0.02709139226772847 for f_star and f_minus: 21.24491705579385 , 23.954056282566697\n",
      "[INFO] [2023-01-24 15:06:12,202] [OpenBox-SPO] Iteration 928, objective value: [25.463855580194775].\n"
     ]
    },
    {
     "name": "stderr",
     "output_type": "stream",
     "text": [
      " 93%|█████████▎| 928/1000 [15:00:04<54:27, 45.39s/it]"
     ]
    },
    {
     "name": "stdout",
     "output_type": "stream",
     "text": [
      "\t self.next_action: 0\n",
      "\n",
      "\t ----- tradeoff_buffer: 0 ----- \n",
      "\t ----- reward: -0.042189385244009225 for f_star and f_minus: 21.24491705579385 , 25.463855580194775\n",
      "[INFO] [2023-01-24 15:07:02,160] [OpenBox-SPO] Iteration 929, objective value: [30.239004834434155].\n"
     ]
    },
    {
     "name": "stderr",
     "output_type": "stream",
     "text": [
      " 93%|█████████▎| 929/1000 [15:00:54<55:19, 46.76s/it]"
     ]
    },
    {
     "name": "stdout",
     "output_type": "stream",
     "text": [
      "\t self.next_action: 0\n",
      "\n",
      "\t ----- tradeoff_buffer: 0 ----- \n",
      "\t ----- reward: -0.08994087778640308 for f_star and f_minus: 21.24491705579385 , 30.239004834434155\n",
      "[INFO] [2023-01-24 15:07:45,025] [OpenBox-SPO] Iteration 930, objective value: [29.270135391117208].\n"
     ]
    },
    {
     "name": "stderr",
     "output_type": "stream",
     "text": [
      " 93%|█████████▎| 930/1000 [15:01:37<53:11, 45.59s/it]"
     ]
    },
    {
     "name": "stdout",
     "output_type": "stream",
     "text": [
      "\t self.next_action: 0\n",
      "\n",
      "\t ----- tradeoff_buffer: 0 ----- \n",
      "\t ----- reward: -0.08025218335323359 for f_star and f_minus: 21.24491705579385 , 29.270135391117208\n",
      "[INFO] [2023-01-24 15:08:30,106] [OpenBox-SPO] Iteration 931, objective value: [35.47488177624973].\n"
     ]
    },
    {
     "name": "stderr",
     "output_type": "stream",
     "text": [
      " 93%|█████████▎| 931/1000 [15:02:22<52:15, 45.44s/it]"
     ]
    },
    {
     "name": "stdout",
     "output_type": "stream",
     "text": [
      "\t self.next_action: 0\n",
      "\n",
      "\t ----- tradeoff_buffer: 0 ----- \n",
      "\t ----- reward: -0.14229964720455884 for f_star and f_minus: 21.24491705579385 , 35.47488177624973\n",
      "[INFO] [2023-01-24 15:09:13,553] [OpenBox-SPO] Iteration 932, objective value: [28.040391489254006].\n"
     ]
    },
    {
     "name": "stderr",
     "output_type": "stream",
     "text": [
      " 93%|█████████▎| 932/1000 [15:03:05<50:49, 44.84s/it]"
     ]
    },
    {
     "name": "stdout",
     "output_type": "stream",
     "text": [
      "\t self.next_action: 0\n",
      "\n",
      "\t ----- tradeoff_buffer: 0 ----- \n",
      "\t ----- reward: -0.06795474433460158 for f_star and f_minus: 21.24491705579385 , 28.040391489254006\n",
      "[INFO] [2023-01-24 15:10:00,379] [OpenBox-SPO] Iteration 933, objective value: [26.10521901069174].\n"
     ]
    },
    {
     "name": "stderr",
     "output_type": "stream",
     "text": [
      " 93%|█████████▎| 933/1000 [15:03:52<50:44, 45.44s/it]"
     ]
    },
    {
     "name": "stdout",
     "output_type": "stream",
     "text": [
      "\t self.next_action: 0\n",
      "\n",
      "\t ----- tradeoff_buffer: 0 ----- \n",
      "\t ----- reward: -0.04860301954897889 for f_star and f_minus: 21.24491705579385 , 26.10521901069174\n",
      "[INFO] [2023-01-24 15:10:45,399] [OpenBox-SPO] Iteration 934, objective value: [25.977216178507362].\n"
     ]
    },
    {
     "name": "stderr",
     "output_type": "stream",
     "text": [
      " 93%|█████████▎| 934/1000 [15:04:37<49:50, 45.31s/it]"
     ]
    },
    {
     "name": "stdout",
     "output_type": "stream",
     "text": [
      "\t self.next_action: 0\n",
      "\n",
      "\t ----- tradeoff_buffer: 0 ----- \n",
      "\t ----- reward: -0.047322991227135125 for f_star and f_minus: 21.24491705579385 , 25.977216178507362\n",
      "[INFO] [2023-01-24 15:10:45,401] [Advisor] Sample random config. rand_prob=0.100000.\n",
      "[INFO] [2023-01-24 15:11:23,882] [OpenBox-SPO] Iteration 935, objective value: [53.04531037451478].\n"
     ]
    },
    {
     "name": "stderr",
     "output_type": "stream",
     "text": [
      " 94%|█████████▎| 935/1000 [15:05:15<46:52, 43.26s/it]"
     ]
    },
    {
     "name": "stdout",
     "output_type": "stream",
     "text": [
      "\t self.next_action: 0\n",
      "\n",
      "\t ----- tradeoff_buffer: 0 ----- \n",
      "\t ----- reward: -1 for f_star and f_minus: 21.24491705579385 , 53.04531037451478\n",
      "[INFO] [2023-01-24 15:12:04,338] [OpenBox-SPO] Iteration 936, objective value: [27.60393061162621].\n"
     ]
    },
    {
     "name": "stderr",
     "output_type": "stream",
     "text": [
      " 94%|█████████▎| 936/1000 [15:05:56<45:14, 42.42s/it]"
     ]
    },
    {
     "name": "stdout",
     "output_type": "stream",
     "text": [
      "\t self.next_action: 0\n",
      "\n",
      "\t ----- tradeoff_buffer: 0 ----- \n",
      "\t ----- reward: -0.0635901355583236 for f_star and f_minus: 21.24491705579385 , 27.60393061162621\n",
      "[INFO] [2023-01-24 15:12:46,079] [OpenBox-SPO] Iteration 937, objective value: [28.069165998934295].\n"
     ]
    },
    {
     "name": "stderr",
     "output_type": "stream",
     "text": [
      " 94%|█████████▎| 937/1000 [15:06:38<44:19, 42.22s/it]"
     ]
    },
    {
     "name": "stdout",
     "output_type": "stream",
     "text": [
      "\t self.next_action: -1\n",
      "\n",
      "\t ----- tradeoff_buffer: 0 ----- \n",
      "\t ----- reward: -0.06824248943140448 for f_star and f_minus: 21.24491705579385 , 28.069165998934295\n",
      "[INFO] [2023-01-24 15:13:31,156] [OpenBox-SPO] Iteration 938, objective value: [25.25591189735708].\n"
     ]
    },
    {
     "name": "stderr",
     "output_type": "stream",
     "text": [
      " 94%|█████████▍| 938/1000 [15:07:23<44:30, 43.08s/it]"
     ]
    },
    {
     "name": "stdout",
     "output_type": "stream",
     "text": [
      "\t self.next_action: -1\n",
      "\n",
      "\t ----- tradeoff_buffer: 0 ----- \n",
      "\t ----- reward: -0.04010994841563231 for f_star and f_minus: 21.24491705579385 , 25.25591189735708\n",
      "[INFO] [2023-01-24 15:14:12,766] [OpenBox-SPO] Iteration 939, objective value: [27.624031509050823].\n"
     ]
    },
    {
     "name": "stderr",
     "output_type": "stream",
     "text": [
      " 94%|█████████▍| 939/1000 [15:08:04<43:20, 42.64s/it]"
     ]
    },
    {
     "name": "stdout",
     "output_type": "stream",
     "text": [
      "\t self.next_action: -1\n",
      "\n",
      "\t ----- tradeoff_buffer: 0 ----- \n",
      "\t ----- reward: -0.06379114453256973 for f_star and f_minus: 21.24491705579385 , 27.624031509050823\n",
      "[INFO] [2023-01-24 15:14:59,110] [OpenBox-SPO] Iteration 940, objective value: [26.379465682431487].\n"
     ]
    },
    {
     "name": "stderr",
     "output_type": "stream",
     "text": [
      " 94%|█████████▍| 940/1000 [15:08:51<43:44, 43.75s/it]"
     ]
    },
    {
     "name": "stdout",
     "output_type": "stream",
     "text": [
      "\t self.next_action: -1\n",
      "\n",
      "\t ----- tradeoff_buffer: 0 ----- \n",
      "\t ----- reward: -0.05134548626637636 for f_star and f_minus: 21.24491705579385 , 26.379465682431487\n",
      "[INFO] [2023-01-24 15:15:41,014] [OpenBox-SPO] Iteration 941, objective value: [24.674165487211383].\n"
     ]
    },
    {
     "name": "stderr",
     "output_type": "stream",
     "text": [
      " 94%|█████████▍| 941/1000 [15:09:33<42:28, 43.19s/it]"
     ]
    },
    {
     "name": "stdout",
     "output_type": "stream",
     "text": [
      "\t self.next_action: -1\n",
      "\n",
      "\t ----- tradeoff_buffer: 0 ----- \n",
      "\t ----- reward: -0.03429248431417534 for f_star and f_minus: 21.24491705579385 , 24.674165487211383\n",
      "[INFO] [2023-01-24 15:16:29,572] [OpenBox-SPO] Iteration 942, objective value: [24.780327584930745].\n"
     ]
    },
    {
     "name": "stderr",
     "output_type": "stream",
     "text": [
      " 94%|█████████▍| 942/1000 [15:10:21<43:18, 44.80s/it]"
     ]
    },
    {
     "name": "stdout",
     "output_type": "stream",
     "text": [
      "\t self.next_action: -1\n",
      "\n",
      "\t ----- tradeoff_buffer: 0 ----- \n",
      "\t ----- reward: -0.035354105291368954 for f_star and f_minus: 21.24491705579385 , 24.780327584930745\n",
      "[INFO] [2023-01-24 15:17:12,750] [OpenBox-SPO] Iteration 943, objective value: [25.63764270872207].\n"
     ]
    },
    {
     "name": "stderr",
     "output_type": "stream",
     "text": [
      " 94%|█████████▍| 943/1000 [15:11:04<42:06, 44.32s/it]"
     ]
    },
    {
     "name": "stdout",
     "output_type": "stream",
     "text": [
      "\t self.next_action: -1\n",
      "\n",
      "\t ----- tradeoff_buffer: 0 ----- \n",
      "\t ----- reward: -0.0439272565292822 for f_star and f_minus: 21.24491705579385 , 25.63764270872207\n",
      "[INFO] [2023-01-24 15:17:59,012] [OpenBox-SPO] Iteration 944, objective value: [24.62610369939044].\n"
     ]
    },
    {
     "name": "stderr",
     "output_type": "stream",
     "text": [
      " 94%|█████████▍| 944/1000 [15:11:51<41:54, 44.90s/it]"
     ]
    },
    {
     "name": "stdout",
     "output_type": "stream",
     "text": [
      "\t self.next_action: -1\n",
      "\n",
      "\t ----- tradeoff_buffer: 0 ----- \n",
      "\t ----- reward: -0.033811866435965926 for f_star and f_minus: 21.24491705579385 , 24.62610369939044\n",
      "[INFO] [2023-01-24 15:18:43,518] [OpenBox-SPO] Iteration 945, objective value: [26.863236619035362].\n"
     ]
    },
    {
     "name": "stderr",
     "output_type": "stream",
     "text": [
      " 94%|█████████▍| 945/1000 [15:12:35<41:02, 44.78s/it]"
     ]
    },
    {
     "name": "stdout",
     "output_type": "stream",
     "text": [
      "\t self.next_action: -1\n",
      "\n",
      "\t ----- tradeoff_buffer: 0 ----- \n",
      "\t ----- reward: -0.05618319563241514 for f_star and f_minus: 21.24491705579385 , 26.863236619035362\n",
      "[INFO] [2023-01-24 15:19:24,447] [OpenBox-SPO] Iteration 946, objective value: [27.04343416948572].\n"
     ]
    },
    {
     "name": "stderr",
     "output_type": "stream",
     "text": [
      " 95%|█████████▍| 946/1000 [15:13:16<39:15, 43.63s/it]"
     ]
    },
    {
     "name": "stdout",
     "output_type": "stream",
     "text": [
      "\t self.next_action: -1\n",
      "\n",
      "\t ----- tradeoff_buffer: 0 ----- \n",
      "\t ----- reward: -0.0579851711369187 for f_star and f_minus: 21.24491705579385 , 27.04343416948572\n",
      "[INFO] [2023-01-24 15:20:06,265] [OpenBox-SPO] Iteration 947, objective value: [28.324886774772096].\n"
     ]
    },
    {
     "name": "stderr",
     "output_type": "stream",
     "text": [
      " 95%|█████████▍| 947/1000 [15:13:58<38:03, 43.08s/it]"
     ]
    },
    {
     "name": "stdout",
     "output_type": "stream",
     "text": [
      "\t self.next_action: -1\n",
      "\n",
      "\t ----- tradeoff_buffer: 0 ----- \n",
      "\t ----- reward: -0.07079969718978246 for f_star and f_minus: 21.24491705579385 , 28.324886774772096\n",
      "[INFO] [2023-01-24 15:20:50,198] [OpenBox-SPO] Iteration 948, objective value: [26.142203939897556].\n"
     ]
    },
    {
     "name": "stderr",
     "output_type": "stream",
     "text": [
      " 95%|█████████▍| 948/1000 [15:14:42<37:33, 43.34s/it]"
     ]
    },
    {
     "name": "stdout",
     "output_type": "stream",
     "text": [
      "\t self.next_action: -1\n",
      "\n",
      "\t ----- tradeoff_buffer: 0 ----- \n",
      "\t ----- reward: -0.048972868841037076 for f_star and f_minus: 21.24491705579385 , 26.142203939897556\n",
      "[INFO] [2023-01-24 15:21:36,279] [OpenBox-SPO] Iteration 949, objective value: [25.093295414901334].\n"
     ]
    },
    {
     "name": "stderr",
     "output_type": "stream",
     "text": [
      " 95%|█████████▍| 949/1000 [15:15:28<37:32, 44.16s/it]"
     ]
    },
    {
     "name": "stdout",
     "output_type": "stream",
     "text": [
      "\t self.next_action: -1\n",
      "\n",
      "\t ----- tradeoff_buffer: 0 ----- \n",
      "\t ----- reward: -0.03848378359107485 for f_star and f_minus: 21.24491705579385 , 25.093295414901334\n",
      "[INFO] [2023-01-24 15:22:21,023] [OpenBox-SPO] Iteration 950, objective value: [28.04170237686627].\n"
     ]
    },
    {
     "name": "stderr",
     "output_type": "stream",
     "text": [
      " 95%|█████████▌| 950/1000 [15:16:13<36:56, 44.34s/it]"
     ]
    },
    {
     "name": "stdout",
     "output_type": "stream",
     "text": [
      "\t self.next_action: -1\n",
      "\n",
      "\t ----- tradeoff_buffer: 0 ----- \n",
      "\t ----- reward: -0.06796785321072418 for f_star and f_minus: 21.24491705579385 , 28.04170237686627\n",
      "[INFO] [2023-01-24 15:23:06,618] [OpenBox-SPO] Iteration 951, objective value: [31.649179020950868].\n"
     ]
    },
    {
     "name": "stderr",
     "output_type": "stream",
     "text": [
      " 95%|█████████▌| 951/1000 [15:16:58<36:30, 44.71s/it]"
     ]
    },
    {
     "name": "stdout",
     "output_type": "stream",
     "text": [
      "\t self.next_action: -1\n",
      "\n",
      "\t ----- tradeoff_buffer: 0 ----- \n",
      "\t ----- reward: -0.10404261965157019 for f_star and f_minus: 21.24491705579385 , 31.649179020950868\n",
      "[INFO] [2023-01-24 15:23:53,084] [OpenBox-SPO] Iteration 952, objective value: [28.466494661385752].\n"
     ]
    },
    {
     "name": "stderr",
     "output_type": "stream",
     "text": [
      " 95%|█████████▌| 952/1000 [15:17:45<36:11, 45.24s/it]"
     ]
    },
    {
     "name": "stdout",
     "output_type": "stream",
     "text": [
      "\t self.next_action: -1\n",
      "\n",
      "\t ----- tradeoff_buffer: 0 ----- \n",
      "\t ----- reward: -0.07221577605591906 for f_star and f_minus: 21.24491705579385 , 28.466494661385752\n",
      "[INFO] [2023-01-24 15:24:36,978] [OpenBox-SPO] Iteration 953, objective value: [24.209466972068284].\n"
     ]
    },
    {
     "name": "stderr",
     "output_type": "stream",
     "text": [
      " 95%|█████████▌| 953/1000 [15:18:28<35:07, 44.84s/it]"
     ]
    },
    {
     "name": "stdout",
     "output_type": "stream",
     "text": [
      "\t self.next_action: -1\n",
      "\n",
      "\t ----- tradeoff_buffer: 0 ----- \n",
      "\t ----- reward: -0.029645499162744338 for f_star and f_minus: 21.24491705579385 , 24.209466972068284\n",
      "[INFO] [2023-01-24 15:25:20,025] [OpenBox-SPO] Iteration 954, objective value: [24.513383148412032].\n"
     ]
    },
    {
     "name": "stderr",
     "output_type": "stream",
     "text": [
      " 95%|█████████▌| 954/1000 [15:19:12<33:57, 44.30s/it]"
     ]
    },
    {
     "name": "stdout",
     "output_type": "stream",
     "text": [
      "\t self.next_action: -1\n",
      "\n",
      "\t ----- tradeoff_buffer: 0 ----- \n",
      "\t ----- reward: -0.03268466092618183 for f_star and f_minus: 21.24491705579385 , 24.513383148412032\n",
      "[INFO] [2023-01-24 15:26:05,127] [OpenBox-SPO] Iteration 955, objective value: [22.605660842281537].\n"
     ]
    },
    {
     "name": "stderr",
     "output_type": "stream",
     "text": [
      " 96%|█████████▌| 955/1000 [15:19:57<33:24, 44.54s/it]"
     ]
    },
    {
     "name": "stdout",
     "output_type": "stream",
     "text": [
      "\t self.next_action: -1\n",
      "\n",
      "\t ----- tradeoff_buffer: 0 ----- \n",
      "\t ----- reward: -0.013607437864876892 for f_star and f_minus: 21.24491705579385 , 22.605660842281537\n",
      "[INFO] [2023-01-24 15:26:46,848] [OpenBox-SPO] Iteration 956, objective value: [26.400750372997706].\n"
     ]
    },
    {
     "name": "stderr",
     "output_type": "stream",
     "text": [
      " 96%|█████████▌| 956/1000 [15:20:38<32:02, 43.69s/it]"
     ]
    },
    {
     "name": "stdout",
     "output_type": "stream",
     "text": [
      "\t self.next_action: -1\n",
      "\n",
      "\t ----- tradeoff_buffer: 0 ----- \n",
      "\t ----- reward: -0.05155833317203856 for f_star and f_minus: 21.24491705579385 , 26.400750372997706\n",
      "[INFO] [2023-01-24 15:27:29,041] [OpenBox-SPO] Iteration 957, objective value: [28.581527642665378].\n"
     ]
    },
    {
     "name": "stderr",
     "output_type": "stream",
     "text": [
      " 96%|█████████▌| 957/1000 [15:21:21<30:59, 43.24s/it]"
     ]
    },
    {
     "name": "stdout",
     "output_type": "stream",
     "text": [
      "\t self.next_action: -1\n",
      "\n",
      "\t ----- tradeoff_buffer: 0 ----- \n",
      "\t ----- reward: -0.07336610586871528 for f_star and f_minus: 21.24491705579385 , 28.581527642665378\n",
      "[INFO] [2023-01-24 15:28:15,783] [OpenBox-SPO] Iteration 958, objective value: [30.47996179512225].\n"
     ]
    },
    {
     "name": "stderr",
     "output_type": "stream",
     "text": [
      " 96%|█████████▌| 958/1000 [15:22:07<31:00, 44.29s/it]"
     ]
    },
    {
     "name": "stdout",
     "output_type": "stream",
     "text": [
      "\t self.next_action: -1\n",
      "\n",
      "\t ----- tradeoff_buffer: 0 ----- \n",
      "\t ----- reward: -0.09235044739328402 for f_star and f_minus: 21.24491705579385 , 30.47996179512225\n",
      "[INFO] [2023-01-24 15:28:59,859] [OpenBox-SPO] Iteration 959, objective value: [26.174360065407214].\n"
     ]
    },
    {
     "name": "stderr",
     "output_type": "stream",
     "text": [
      " 96%|█████████▌| 959/1000 [15:22:51<30:13, 44.23s/it]"
     ]
    },
    {
     "name": "stdout",
     "output_type": "stream",
     "text": [
      "\t self.next_action: -1\n",
      "\n",
      "\t ----- tradeoff_buffer: 0 ----- \n",
      "\t ----- reward: -0.04929443009613366 for f_star and f_minus: 21.24491705579385 , 26.174360065407214\n",
      "[INFO] [2023-01-24 15:29:47,180] [OpenBox-SPO] Iteration 960, objective value: [28.752662989700198].\n"
     ]
    },
    {
     "name": "stderr",
     "output_type": "stream",
     "text": [
      " 96%|█████████▌| 960/1000 [15:23:39<30:06, 45.16s/it]"
     ]
    },
    {
     "name": "stdout",
     "output_type": "stream",
     "text": [
      "\t self.next_action: -1\n",
      "\n",
      "\t ----- tradeoff_buffer: 0 ----- \n",
      "\t ----- reward: -0.07507745933906351 for f_star and f_minus: 21.24491705579385 , 28.752662989700198\n",
      "[INFO] [2023-01-24 15:30:42,515] [OpenBox-SPO] Iteration 961, objective value: [27.85177677410664].\n"
     ]
    },
    {
     "name": "stderr",
     "output_type": "stream",
     "text": [
      " 96%|█████████▌| 961/1000 [15:24:34<31:20, 48.21s/it]"
     ]
    },
    {
     "name": "stdout",
     "output_type": "stream",
     "text": [
      "\t self.next_action: -1\n",
      "\n",
      "\t ----- tradeoff_buffer: 0 ----- \n",
      "\t ----- reward: -0.06606859718312791 for f_star and f_minus: 21.24491705579385 , 27.85177677410664\n",
      "[INFO] [2023-01-24 15:31:34,130] [OpenBox-SPO] Iteration 962, objective value: [26.881485590945758].\n"
     ]
    },
    {
     "name": "stderr",
     "output_type": "stream",
     "text": [
      " 96%|█████████▌| 962/1000 [15:25:26<31:10, 49.23s/it]"
     ]
    },
    {
     "name": "stdout",
     "output_type": "stream",
     "text": [
      "\t self.next_action: -1\n",
      "\n",
      "\t ----- tradeoff_buffer: 0 ----- \n",
      "\t ----- reward: -0.05636568535151909 for f_star and f_minus: 21.24491705579385 , 26.881485590945758\n",
      "[INFO] [2023-01-24 15:32:19,529] [OpenBox-SPO] Iteration 963, objective value: [31.069502635690682].\n"
     ]
    },
    {
     "name": "stderr",
     "output_type": "stream",
     "text": [
      " 96%|█████████▋| 963/1000 [15:26:11<29:39, 48.08s/it]"
     ]
    },
    {
     "name": "stdout",
     "output_type": "stream",
     "text": [
      "\t self.next_action: -1\n",
      "\n",
      "\t ----- tradeoff_buffer: 0 ----- \n",
      "\t ----- reward: -0.09824585579896833 for f_star and f_minus: 21.24491705579385 , 31.069502635690682\n",
      "[INFO] [2023-01-24 15:33:02,340] [OpenBox-SPO] Iteration 964, objective value: [29.357559101308155].\n"
     ]
    },
    {
     "name": "stderr",
     "output_type": "stream",
     "text": [
      " 96%|█████████▋| 964/1000 [15:26:54<27:54, 46.50s/it]"
     ]
    },
    {
     "name": "stdout",
     "output_type": "stream",
     "text": [
      "\t self.next_action: -1\n",
      "\n",
      "\t ----- tradeoff_buffer: 0 ----- \n",
      "\t ----- reward: -0.08112642045514307 for f_star and f_minus: 21.24491705579385 , 29.357559101308155\n",
      "[INFO] [2023-01-24 15:33:49,091] [OpenBox-SPO] Iteration 965, objective value: [25.47024128035214].\n"
     ]
    },
    {
     "name": "stderr",
     "output_type": "stream",
     "text": [
      " 96%|█████████▋| 965/1000 [15:27:41<27:10, 46.58s/it]"
     ]
    },
    {
     "name": "stdout",
     "output_type": "stream",
     "text": [
      "\t self.next_action: -1\n",
      "\n",
      "\t ----- tradeoff_buffer: 0 ----- \n",
      "\t ----- reward: -0.04225324224558291 for f_star and f_minus: 21.24491705579385 , 25.47024128035214\n",
      "[INFO] [2023-01-24 15:34:32,237] [OpenBox-SPO] Iteration 966, objective value: [27.57824232537955].\n"
     ]
    },
    {
     "name": "stderr",
     "output_type": "stream",
     "text": [
      " 97%|█████████▋| 966/1000 [15:28:24<25:48, 45.55s/it]"
     ]
    },
    {
     "name": "stdout",
     "output_type": "stream",
     "text": [
      "\t self.next_action: -1\n",
      "\n",
      "\t ----- tradeoff_buffer: 0 ----- \n",
      "\t ----- reward: -0.06333325269585699 for f_star and f_minus: 21.24491705579385 , 27.57824232537955\n",
      "[INFO] [2023-01-24 15:35:17,220] [OpenBox-SPO] Iteration 967, objective value: [25.341647267281658].\n"
     ]
    },
    {
     "name": "stderr",
     "output_type": "stream",
     "text": [
      " 97%|█████████▋| 967/1000 [15:29:09<24:57, 45.38s/it]"
     ]
    },
    {
     "name": "stdout",
     "output_type": "stream",
     "text": [
      "\t self.next_action: -1\n",
      "\n",
      "\t ----- tradeoff_buffer: 0 ----- \n",
      "\t ----- reward: -0.04096730211487809 for f_star and f_minus: 21.24491705579385 , 25.341647267281658\n",
      "[INFO] [2023-01-24 15:36:07,688] [OpenBox-SPO] Iteration 968, objective value: [25.716582507890678].\n"
     ]
    },
    {
     "name": "stderr",
     "output_type": "stream",
     "text": [
      " 97%|█████████▋| 968/1000 [15:29:59<25:00, 46.90s/it]"
     ]
    },
    {
     "name": "stdout",
     "output_type": "stream",
     "text": [
      "\t self.next_action: -1\n",
      "\n",
      "\t ----- tradeoff_buffer: 0 ----- \n",
      "\t ----- reward: -0.04471665452096829 for f_star and f_minus: 21.24491705579385 , 25.716582507890678\n",
      "[INFO] [2023-01-24 15:36:51,855] [OpenBox-SPO] Iteration 969, objective value: [27.088133111963046].\n"
     ]
    },
    {
     "name": "stderr",
     "output_type": "stream",
     "text": [
      " 97%|█████████▋| 969/1000 [15:30:43<23:48, 46.08s/it]"
     ]
    },
    {
     "name": "stdout",
     "output_type": "stream",
     "text": [
      "\t self.next_action: -1\n",
      "\n",
      "\t ----- tradeoff_buffer: 0 ----- \n",
      "\t ----- reward: -0.05843216056169198 for f_star and f_minus: 21.24491705579385 , 27.088133111963046\n",
      "[INFO] [2023-01-24 15:37:35,032] [OpenBox-SPO] Iteration 970, objective value: [26.89751598119217].\n"
     ]
    },
    {
     "name": "stderr",
     "output_type": "stream",
     "text": [
      " 97%|█████████▋| 970/1000 [15:31:27<22:36, 45.21s/it]"
     ]
    },
    {
     "name": "stdout",
     "output_type": "stream",
     "text": [
      "\t self.next_action: -1\n",
      "\n",
      "\t ----- tradeoff_buffer: 0 ----- \n",
      "\t ----- reward: -0.05652598925398322 for f_star and f_minus: 21.24491705579385 , 26.89751598119217\n",
      "[INFO] [2023-01-24 15:38:21,107] [OpenBox-SPO] Iteration 971, objective value: [28.039454794470203].\n"
     ]
    },
    {
     "name": "stderr",
     "output_type": "stream",
     "text": [
      " 97%|█████████▋| 971/1000 [15:32:13<21:58, 45.47s/it]"
     ]
    },
    {
     "name": "stdout",
     "output_type": "stream",
     "text": [
      "\t self.next_action: -1\n",
      "\n",
      "\t ----- tradeoff_buffer: 0 ----- \n",
      "\t ----- reward: -0.06794537738676354 for f_star and f_minus: 21.24491705579385 , 28.039454794470203\n",
      "[INFO] [2023-01-24 15:39:09,990] [OpenBox-SPO] Iteration 972, objective value: [28.434910583082612].\n"
     ]
    },
    {
     "name": "stderr",
     "output_type": "stream",
     "text": [
      " 97%|█████████▋| 972/1000 [15:33:01<21:41, 46.49s/it]"
     ]
    },
    {
     "name": "stdout",
     "output_type": "stream",
     "text": [
      "\t self.next_action: -1\n",
      "\n",
      "\t ----- tradeoff_buffer: 0 ----- \n",
      "\t ----- reward: -0.07189993527288763 for f_star and f_minus: 21.24491705579385 , 28.434910583082612\n",
      "[INFO] [2023-01-24 15:39:57,310] [OpenBox-SPO] Iteration 973, objective value: [29.6323995124161].\n"
     ]
    },
    {
     "name": "stderr",
     "output_type": "stream",
     "text": [
      " 97%|█████████▋| 973/1000 [15:33:49<21:02, 46.74s/it]"
     ]
    },
    {
     "name": "stdout",
     "output_type": "stream",
     "text": [
      "\t self.next_action: -1\n",
      "\n",
      "\t ----- tradeoff_buffer: 0 ----- \n",
      "\t ----- reward: -0.08387482456622253 for f_star and f_minus: 21.24491705579385 , 29.6323995124161\n",
      "[INFO] [2023-01-24 15:40:45,219] [OpenBox-SPO] Iteration 974, objective value: [25.415287294364546].\n"
     ]
    },
    {
     "name": "stderr",
     "output_type": "stream",
     "text": [
      " 97%|█████████▋| 974/1000 [15:34:37<20:24, 47.09s/it]"
     ]
    },
    {
     "name": "stdout",
     "output_type": "stream",
     "text": [
      "\t self.next_action: -1\n",
      "\n",
      "\t ----- tradeoff_buffer: 0 ----- \n",
      "\t ----- reward: -0.041703702385706976 for f_star and f_minus: 21.24491705579385 , 25.415287294364546\n",
      "[INFO] [2023-01-24 15:41:32,370] [OpenBox-SPO] Iteration 975, objective value: [30.206199889236913].\n"
     ]
    },
    {
     "name": "stderr",
     "output_type": "stream",
     "text": [
      " 98%|█████████▊| 975/1000 [15:35:24<19:37, 47.11s/it]"
     ]
    },
    {
     "name": "stdout",
     "output_type": "stream",
     "text": [
      "\t self.next_action: -1\n",
      "\n",
      "\t ----- tradeoff_buffer: 0 ----- \n",
      "\t ----- reward: -0.08961282833443063 for f_star and f_minus: 21.24491705579385 , 30.206199889236913\n",
      "[INFO] [2023-01-24 15:42:15,165] [OpenBox-SPO] Iteration 976, objective value: [25.014821277756283].\n"
     ]
    },
    {
     "name": "stderr",
     "output_type": "stream",
     "text": [
      " 98%|█████████▊| 976/1000 [15:36:07<18:19, 45.82s/it]"
     ]
    },
    {
     "name": "stdout",
     "output_type": "stream",
     "text": [
      "\t self.next_action: -1\n",
      "\n",
      "\t ----- tradeoff_buffer: 0 ----- \n",
      "\t ----- reward: -0.037699042219624335 for f_star and f_minus: 21.24491705579385 , 25.014821277756283\n",
      "[INFO] [2023-01-24 15:42:56,957] [OpenBox-SPO] Iteration 977, objective value: [23.31689135844306].\n"
     ]
    },
    {
     "name": "stderr",
     "output_type": "stream",
     "text": [
      " 98%|█████████▊| 977/1000 [15:36:48<17:05, 44.61s/it]"
     ]
    },
    {
     "name": "stdout",
     "output_type": "stream",
     "text": [
      "\t self.next_action: -1\n",
      "\n",
      "\t ----- tradeoff_buffer: 0 ----- \n",
      "\t ----- reward: -0.0207197430264921 for f_star and f_minus: 21.24491705579385 , 23.31689135844306\n",
      "[INFO] [2023-01-24 15:42:56,959] [Advisor] Sample random config. rand_prob=0.100000.\n",
      "[INFO] [2023-01-24 15:43:31,652] [OpenBox-SPO] Iteration 978, objective value: [48.969330540807064].\n"
     ]
    },
    {
     "name": "stderr",
     "output_type": "stream",
     "text": [
      " 98%|█████████▊| 978/1000 [15:37:23<15:15, 41.63s/it]"
     ]
    },
    {
     "name": "stdout",
     "output_type": "stream",
     "text": [
      "\t self.next_action: -1\n",
      "\n",
      "\t ----- tradeoff_buffer: 0 ----- \n",
      "\t ----- reward: -0.27724413485013216 for f_star and f_minus: 21.24491705579385 , 48.969330540807064\n",
      "[INFO] [2023-01-24 15:44:16,142] [OpenBox-SPO] Iteration 979, objective value: [31.666717859654952].\n"
     ]
    },
    {
     "name": "stderr",
     "output_type": "stream",
     "text": [
      " 98%|█████████▊| 979/1000 [15:38:08<14:52, 42.49s/it]"
     ]
    },
    {
     "name": "stdout",
     "output_type": "stream",
     "text": [
      "\t self.next_action: -1\n",
      "\n",
      "\t ----- tradeoff_buffer: 0 ----- \n",
      "\t ----- reward: -0.10421800803861103 for f_star and f_minus: 21.24491705579385 , 31.666717859654952\n",
      "[INFO] [2023-01-24 15:45:00,597] [OpenBox-SPO] Iteration 980, objective value: [23.51379245738042].\n"
     ]
    },
    {
     "name": "stderr",
     "output_type": "stream",
     "text": [
      " 98%|█████████▊| 980/1000 [15:38:52<14:21, 43.08s/it]"
     ]
    },
    {
     "name": "stdout",
     "output_type": "stream",
     "text": [
      "\t self.next_action: -1\n",
      "\n",
      "\t ----- tradeoff_buffer: 0 ----- \n",
      "\t ----- reward: -0.022688754015865703 for f_star and f_minus: 21.24491705579385 , 23.51379245738042\n",
      "[INFO] [2023-01-24 15:45:45,601] [OpenBox-SPO] Iteration 981, objective value: [22.157450399573918].\n"
     ]
    },
    {
     "name": "stderr",
     "output_type": "stream",
     "text": [
      " 98%|█████████▊| 981/1000 [15:39:37<13:49, 43.66s/it]"
     ]
    },
    {
     "name": "stdout",
     "output_type": "stream",
     "text": [
      "\t self.next_action: -1\n",
      "\n",
      "\t ----- tradeoff_buffer: 0 ----- \n",
      "\t ----- reward: -0.009125333437800698 for f_star and f_minus: 21.24491705579385 , 22.157450399573918\n",
      "[INFO] [2023-01-24 15:46:27,388] [OpenBox-SPO] Iteration 982, objective value: [28.975411306855463].\n"
     ]
    },
    {
     "name": "stderr",
     "output_type": "stream",
     "text": [
      " 98%|█████████▊| 982/1000 [15:40:19<12:55, 43.10s/it]"
     ]
    },
    {
     "name": "stdout",
     "output_type": "stream",
     "text": [
      "\t self.next_action: -1\n",
      "\n",
      "\t ----- tradeoff_buffer: 0 ----- \n",
      "\t ----- reward: -0.07730494251061615 for f_star and f_minus: 21.24491705579385 , 28.975411306855463\n",
      "[INFO] [2023-01-24 15:47:13,123] [OpenBox-SPO] Iteration 983, objective value: [24.68301167558664].\n"
     ]
    },
    {
     "name": "stderr",
     "output_type": "stream",
     "text": [
      " 98%|█████████▊| 983/1000 [15:41:05<12:26, 43.89s/it]"
     ]
    },
    {
     "name": "stdout",
     "output_type": "stream",
     "text": [
      "\t self.next_action: -1\n",
      "\n",
      "\t ----- tradeoff_buffer: 0 ----- \n",
      "\t ----- reward: -0.03438094619792792 for f_star and f_minus: 21.24491705579385 , 24.68301167558664\n",
      "[INFO] [2023-01-24 15:47:58,875] [OpenBox-SPO] Iteration 984, objective value: [26.898172235666962].\n"
     ]
    },
    {
     "name": "stderr",
     "output_type": "stream",
     "text": [
      " 98%|█████████▊| 984/1000 [15:41:50<11:51, 44.45s/it]"
     ]
    },
    {
     "name": "stdout",
     "output_type": "stream",
     "text": [
      "\t self.next_action: -1\n",
      "\n",
      "\t ----- tradeoff_buffer: 0 ----- \n",
      "\t ----- reward: -0.05653255179873112 for f_star and f_minus: 21.24491705579385 , 26.898172235666962\n",
      "[INFO] [2023-01-24 15:48:41,738] [OpenBox-SPO] Iteration 985, objective value: [27.2506394410797].\n"
     ]
    },
    {
     "name": "stderr",
     "output_type": "stream",
     "text": [
      " 98%|█████████▊| 985/1000 [15:42:33<10:59, 43.97s/it]"
     ]
    },
    {
     "name": "stdout",
     "output_type": "stream",
     "text": [
      "\t self.next_action: -1\n",
      "\n",
      "\t ----- tradeoff_buffer: 0 ----- \n",
      "\t ----- reward: -0.0600572238528585 for f_star and f_minus: 21.24491705579385 , 27.2506394410797\n",
      "[INFO] [2023-01-24 15:49:29,691] [OpenBox-SPO] Iteration 986, objective value: [27.150863693432214].\n"
     ]
    },
    {
     "name": "stderr",
     "output_type": "stream",
     "text": [
      " 99%|█████████▊| 986/1000 [15:43:21<10:32, 45.17s/it]"
     ]
    },
    {
     "name": "stdout",
     "output_type": "stream",
     "text": [
      "\t self.next_action: -1\n",
      "\n",
      "\t ----- tradeoff_buffer: 0 ----- \n",
      "\t ----- reward: -0.05905946637638365 for f_star and f_minus: 21.24491705579385 , 27.150863693432214\n",
      "[INFO] [2023-01-24 15:50:17,487] [OpenBox-SPO] Iteration 987, objective value: [25.470475480331785].\n"
     ]
    },
    {
     "name": "stderr",
     "output_type": "stream",
     "text": [
      " 99%|█████████▊| 987/1000 [15:44:09<09:57, 45.96s/it]"
     ]
    },
    {
     "name": "stdout",
     "output_type": "stream",
     "text": [
      "\t self.next_action: -1\n",
      "\n",
      "\t ----- tradeoff_buffer: 0 ----- \n",
      "\t ----- reward: -0.04225558424537934 for f_star and f_minus: 21.24491705579385 , 25.470475480331785\n",
      "[INFO] [2023-01-24 15:51:00,278] [OpenBox-SPO] Iteration 988, objective value: [25.925510633828836].\n"
     ]
    },
    {
     "name": "stderr",
     "output_type": "stream",
     "text": [
      " 99%|█████████▉| 988/1000 [15:44:52<09:00, 45.01s/it]"
     ]
    },
    {
     "name": "stdout",
     "output_type": "stream",
     "text": [
      "\t self.next_action: -1\n",
      "\n",
      "\t ----- tradeoff_buffer: 0 ----- \n",
      "\t ----- reward: -0.04680593578034986 for f_star and f_minus: 21.24491705579385 , 25.925510633828836\n",
      "[INFO] [2023-01-24 15:51:47,084] [OpenBox-SPO] Iteration 989, objective value: [24.437744082162453].\n"
     ]
    },
    {
     "name": "stderr",
     "output_type": "stream",
     "text": [
      " 99%|█████████▉| 989/1000 [15:45:39<08:21, 45.55s/it]"
     ]
    },
    {
     "name": "stdout",
     "output_type": "stream",
     "text": [
      "\t self.next_action: -1\n",
      "\n",
      "\t ----- tradeoff_buffer: 0 ----- \n",
      "\t ----- reward: -0.031928270263686026 for f_star and f_minus: 21.24491705579385 , 24.437744082162453\n",
      "[INFO] [2023-01-24 15:52:32,572] [OpenBox-SPO] Iteration 990, objective value: [26.045293937975018].\n"
     ]
    },
    {
     "name": "stderr",
     "output_type": "stream",
     "text": [
      " 99%|█████████▉| 990/1000 [15:46:24<07:35, 45.53s/it]"
     ]
    },
    {
     "name": "stdout",
     "output_type": "stream",
     "text": [
      "\t self.next_action: -1\n",
      "\n",
      "\t ----- tradeoff_buffer: 0 ----- \n",
      "\t ----- reward: -0.048003768821811676 for f_star and f_minus: 21.24491705579385 , 26.045293937975018\n",
      "[INFO] [2023-01-24 15:53:16,175] [OpenBox-SPO] Iteration 991, objective value: [25.026238137193687].\n"
     ]
    },
    {
     "name": "stderr",
     "output_type": "stream",
     "text": [
      " 99%|█████████▉| 991/1000 [15:47:08<06:44, 44.95s/it]"
     ]
    },
    {
     "name": "stdout",
     "output_type": "stream",
     "text": [
      "\t self.next_action: -1\n",
      "\n",
      "\t ----- tradeoff_buffer: 0 ----- \n",
      "\t ----- reward: -0.037813210813998355 for f_star and f_minus: 21.24491705579385 , 25.026238137193687\n",
      "[INFO] [2023-01-24 15:53:16,177] [Advisor] Sample random config. rand_prob=0.100000.\n",
      "[INFO] [2023-01-24 15:53:59,583] [OpenBox-SPO] Iteration 992, objective value: [44.621935135793244].\n"
     ]
    },
    {
     "name": "stderr",
     "output_type": "stream",
     "text": [
      " 99%|█████████▉| 992/1000 [15:47:51<05:55, 44.49s/it]"
     ]
    },
    {
     "name": "stdout",
     "output_type": "stream",
     "text": [
      "\t self.next_action: -1\n",
      "\n",
      "\t ----- tradeoff_buffer: 0 ----- \n",
      "\t ----- reward: -0.23377018079999395 for f_star and f_minus: 21.24491705579385 , 44.621935135793244\n",
      "[INFO] [2023-01-24 15:54:45,982] [OpenBox-SPO] Iteration 993, objective value: [40.179095161359804].\n"
     ]
    },
    {
     "name": "stderr",
     "output_type": "stream",
     "text": [
      " 99%|█████████▉| 993/1000 [15:48:37<05:15, 45.06s/it]"
     ]
    },
    {
     "name": "stdout",
     "output_type": "stream",
     "text": [
      "\t self.next_action: -1\n",
      "\n",
      "\t ----- tradeoff_buffer: 0 ----- \n",
      "\t ----- reward: -0.18934178105565952 for f_star and f_minus: 21.24491705579385 , 40.179095161359804\n",
      "[INFO] [2023-01-24 15:55:39,343] [OpenBox-SPO] Iteration 994, objective value: [23.37546745911385].\n"
     ]
    },
    {
     "name": "stderr",
     "output_type": "stream",
     "text": [
      " 99%|█████████▉| 994/1000 [15:49:31<04:45, 47.55s/it]"
     ]
    },
    {
     "name": "stdout",
     "output_type": "stream",
     "text": [
      "\t self.next_action: -1\n",
      "\n",
      "\t ----- tradeoff_buffer: 0 ----- \n",
      "\t ----- reward: -0.0213055040332 for f_star and f_minus: 21.24491705579385 , 23.37546745911385\n",
      "[INFO] [2023-01-24 15:56:23,097] [OpenBox-SPO] Iteration 995, objective value: [26.827310580307383].\n"
     ]
    },
    {
     "name": "stderr",
     "output_type": "stream",
     "text": [
      "100%|█████████▉| 995/1000 [15:50:15<03:52, 46.41s/it]"
     ]
    },
    {
     "name": "stdout",
     "output_type": "stream",
     "text": [
      "\t self.next_action: -1\n",
      "\n",
      "\t ----- tradeoff_buffer: 0 ----- \n",
      "\t ----- reward: -0.05582393524513535 for f_star and f_minus: 21.24491705579385 , 26.827310580307383\n",
      "[INFO] [2023-01-24 15:57:20,460] [OpenBox-SPO] Iteration 996, objective value: [25.78478049704198].\n"
     ]
    },
    {
     "name": "stderr",
     "output_type": "stream",
     "text": [
      "100%|█████████▉| 996/1000 [15:51:12<03:18, 49.70s/it]"
     ]
    },
    {
     "name": "stdout",
     "output_type": "stream",
     "text": [
      "\t self.next_action: -1\n",
      "\n",
      "\t ----- tradeoff_buffer: 0 ----- \n",
      "\t ----- reward: -0.04539863441248132 for f_star and f_minus: 21.24491705579385 , 25.78478049704198\n",
      "[INFO] [2023-01-24 15:58:13,711] [OpenBox-SPO] Iteration 997, objective value: [29.155566332196443].\n"
     ]
    },
    {
     "name": "stderr",
     "output_type": "stream",
     "text": [
      "100%|█████████▉| 997/1000 [15:52:05<02:32, 50.76s/it]"
     ]
    },
    {
     "name": "stdout",
     "output_type": "stream",
     "text": [
      "\t self.next_action: -1\n",
      "\n",
      "\t ----- tradeoff_buffer: 0 ----- \n",
      "\t ----- reward: -0.07910649276402593 for f_star and f_minus: 21.24491705579385 , 29.155566332196443\n",
      "[INFO] [2023-01-24 15:59:10,655] [OpenBox-SPO] Iteration 998, objective value: [23.53300909469887].\n"
     ]
    },
    {
     "name": "stderr",
     "output_type": "stream",
     "text": [
      "100%|█████████▉| 998/1000 [15:53:02<01:45, 52.62s/it]"
     ]
    },
    {
     "name": "stdout",
     "output_type": "stream",
     "text": [
      "\t self.next_action: -1\n",
      "\n",
      "\t ----- tradeoff_buffer: 0 ----- \n",
      "\t ----- reward: -0.022880920389050208 for f_star and f_minus: 21.24491705579385 , 23.53300909469887\n",
      "[INFO] [2023-01-24 16:00:06,458] [OpenBox-SPO] Iteration 999, objective value: [26.20010256316931].\n"
     ]
    },
    {
     "name": "stderr",
     "output_type": "stream",
     "text": [
      "100%|█████████▉| 999/1000 [15:53:58<00:53, 53.57s/it]"
     ]
    },
    {
     "name": "stdout",
     "output_type": "stream",
     "text": [
      "\t self.next_action: -1\n",
      "\n",
      "\t ----- tradeoff_buffer: 0 ----- \n",
      "\t ----- reward: -0.04955185507375459 for f_star and f_minus: 21.24491705579385 , 26.20010256316931\n",
      "[INFO] [2023-01-24 16:00:06,461] [Advisor] Sample random config. rand_prob=0.100000.\n",
      "[INFO] [2023-01-24 16:00:42,972] [OpenBox-SPO] Iteration 1000, objective value: [45.771527056844285].\n"
     ]
    },
    {
     "name": "stderr",
     "output_type": "stream",
     "text": [
      "100%|██████████| 1000/1000 [15:54:34<00:00, 57.27s/it]"
     ]
    },
    {
     "name": "stdout",
     "output_type": "stream",
     "text": [
      "\t self.next_action: -1\n",
      "\n",
      "\t ----- tradeoff_buffer: 0 ----- \n",
      "\t ----- reward: -0.24526610001050436 for f_star and f_minus: 21.24491705579385 , 45.771527056844285\n",
      "+---------------------------------------------+\n",
      "| Parameters              | Optimal Value     |\n",
      "+-------------------------+-------------------+\n",
      "| ls1                     | [7, 4]            |\n",
      "| ls2                     | [6, 4]            |\n",
      "| ls3                     | [7, 7]            |\n",
      "| ls4                     | [7, 2]            |\n",
      "| ls5                     | [7, 6]            |\n",
      "| ls6                     | [7, 5]            |\n",
      "| ls7                     | [1, 6]            |\n",
      "| ls8                     | [7, 5]            |\n",
      "| ls9                     | [1, 7]            |\n",
      "| ls_t1                   | 1                 |\n",
      "| ls_t2                   | 1                 |\n",
      "| ls_t3                   | 1                 |\n",
      "| ls_t4                   | 1                 |\n",
      "| ls_t5                   | 1                 |\n",
      "| ls_t6                   | 1                 |\n",
      "| ls_t7                   | 1                 |\n",
      "| ls_t8                   | 1                 |\n",
      "| ls_t9                   | 1                 |\n",
      "+-------------------------+-------------------+\n",
      "| Optimal Objective Value | 21.24491705579385 |\n",
      "+-------------------------+-------------------+\n",
      "| Num Configs             | 1000              |\n",
      "+-------------------------+-------------------+\n",
      "\n"
     ]
    },
    {
     "name": "stderr",
     "output_type": "stream",
     "text": [
      "\n"
     ]
    }
   ],
   "source": [
    "import SensorOptimizers.BayesianOptimization as bo\n",
    "import numpy as np\n",
    "import pickle\n",
    "import Config as cf\n",
    "\n",
    "maxSensorNum = int(np.min([(cf.space[2][0] / cf.epsilon) * (cf.space[2][1] / cf.epsilon), cf.LSsensorsNum]))\n",
    "\n",
    "print('----- Running BO with: \\n \\t - epsilon: ', cf.epsilon, \n",
    "      '\\n \\t - LS sensors #:', cf.LSsensorsNum, \n",
    "      '\\n \\t - IS sensors #:', cf.ISsensorsNum, \n",
    "      ' \\n \\t - initial state: ', cf.initial_state)\n",
    "\n",
    "for i in range(0, 1):\n",
    "    BO = bo.BayesianOptimization(testbed = cf.testbed,\n",
    "                                 iteration = cf.bo_iteration, \n",
    "                                 epsilon = cf.epsilon, \n",
    "                                 error = cf.error,\n",
    "                                 ROS = True, \n",
    "                                 LSmaxSensorNum = maxSensorNum,\n",
    "                                 ISmaxSensorNum = cf.ISsensorsNum, \n",
    "                                 initial_state = cf.initial_state,\n",
    "                                 input_sensor_types = cf.sensor_types,\n",
    "                                 acquisition_function = cf.acquisition_function,\n",
    "                                 acq_optimizer_type = cf.acq_optimizer_type)\n",
    "\n",
    "    history, states, actions, rewards = BO.run(RLBO = cf.RLBO)\n",
    "\n",
    "    with open('Results_BO/history(LS' + str(cf.LSsensorsNum) +  'IS' + str(cf.ISsensorsNum) + ')_' + str(i), 'wb') as handle:\n",
    "        pickle.dump(history, handle, protocol=pickle.HIGHEST_PROTOCOL)\n",
    "            \n",
    "    print(history)"
   ]
  }
 ],
 "metadata": {
  "kernelspec": {
   "display_name": "Python 3 (ipykernel)",
   "language": "python",
   "name": "python3"
  },
  "language_info": {
   "codemirror_mode": {
    "name": "ipython",
    "version": 3
   },
   "file_extension": ".py",
   "mimetype": "text/x-python",
   "name": "python",
   "nbconvert_exporter": "python",
   "pygments_lexer": "ipython3",
   "version": "3.10.7"
  },
  "vscode": {
   "interpreter": {
    "hash": "aee8b7b246df8f9039afb4144a1f6fd8d2ca17a180786b69acc140d282b71a49"
   }
  }
 },
 "nbformat": 4,
 "nbformat_minor": 4
}
