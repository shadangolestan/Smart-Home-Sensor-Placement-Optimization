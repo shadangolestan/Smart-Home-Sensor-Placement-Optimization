{
 "cells": [
  {
   "cell_type": "code",
   "execution_count": null,
   "metadata": {
    "scrolled": false
   },
   "outputs": [],
   "source": [
    "import SensorOptimizers.BayesianOptimization as bo\n",
    "import numpy as np\n",
    "import pickle\n",
    "import Config as cf\n",
    "\n",
    "maxSensorNum = int(np.min([(cf.space[2][0] / cf.epsilon) * (cf.space[2][1] / cf.epsilon), cf.LSsensorsNum]))\n",
    "\n",
    "print('----- Running BO with: \\n \\t - epsilon: ', cf.epsilon, \n",
    "      '\\n \\t - LS sensors #:', cf.LSsensorsNum, \n",
    "      '\\n \\t - IS sensors #:', cf.ISsensorsNum, \n",
    "      ' \\n \\t - initial state: ', cf.initial_state)\n",
    "\n",
    "for i in range(0, 1):\n",
    "    BO = bo.BayesianOptimization(testbed = cf.testbed,\n",
    "                                 iteration = cf.bo_iteration, \n",
    "                                 epsilon = cf.epsilon, \n",
    "                                 error = cf.error,\n",
    "                                 ROS = True, \n",
    "                                 LSmaxSensorNum = maxSensorNum,\n",
    "                                 ISmaxSensorNum = cf.ISsensorsNum, \n",
    "                                 initial_state = cf.initial_state,\n",
    "                                 input_sensor_types = cf.sensor_types,\n",
    "                                 acquisition_function = cf.acquisition_function,\n",
    "                                 acq_optimizer_type = cf.acq_optimizer_type)\n",
    "    history = BO.run()\n",
    "\n",
    "    with open('Results_BO/history(LS' + str(cf.LSsensorsNum) +  'IS' + str(cf.ISsensorsNum) + ')_' + str(i), 'wb') as handle:\n",
    "        pickle.dump(history, handle, protocol=pickle.HIGHEST_PROTOCOL)\n",
    "            \n",
    "    print(history)"
   ]
  }
 ],
 "metadata": {
  "kernelspec": {
   "display_name": "Python 3 (ipykernel)",
   "language": "python",
   "name": "python3"
  },
  "language_info": {
   "codemirror_mode": {
    "name": "ipython",
    "version": 3
   },
   "file_extension": ".py",
   "mimetype": "text/x-python",
   "name": "python",
   "nbconvert_exporter": "python",
   "pygments_lexer": "ipython3",
   "version": "3.10.7"
  },
  "vscode": {
   "interpreter": {
    "hash": "aee8b7b246df8f9039afb4144a1f6fd8d2ca17a180786b69acc140d282b71a49"
   }
  }
 },
 "nbformat": 4,
 "nbformat_minor": 4
}
