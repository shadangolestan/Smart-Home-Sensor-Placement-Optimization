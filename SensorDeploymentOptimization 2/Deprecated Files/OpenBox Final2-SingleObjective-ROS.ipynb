{
 "cells": [
  {
   "cell_type": "code",
   "execution_count": 8,
   "metadata": {
    "id": "VWSmt5dJxKDk"
   },
   "outputs": [
    {
     "name": "stdout",
     "output_type": "stream",
     "text": [
      "[Build Surrogate] Use probabilistic random forest based on scikit-learn. For better performance, please install pyrfr: https://open-box.readthedocs.io/en/latest/installation/install_pyrfr.html\n"
     ]
    },
    {
     "name": "stderr",
     "output_type": "stream",
     "text": [
      "\r",
      "  0%|          | 0/1 [00:00<?, ?it/s]"
     ]
    },
    {
     "name": "stdout",
     "output_type": "stream",
     "text": [
      "[INFO] [2021-11-25 16:14:02,926] [OpenBox-SPO] Iteration 1, objective value: [81.5413197913198].\n"
     ]
    },
    {
     "name": "stderr",
     "output_type": "stream",
     "text": [
      "100%|██████████| 1/1 [00:59<00:00, 59.44s/it]\n"
     ]
    }
   ],
   "source": [
    "import SensorOptimizers.BayesianOptimization as bo\n",
    "import numpy as np\n",
    "\n",
    "ROS = True\n",
    "\n",
    "history = bo.run(iteration = 1, ROS = True)"
   ]
  },
  {
   "cell_type": "code",
   "execution_count": null,
   "metadata": {
    "id": "UZjfE2cPwhkE",
    "scrolled": true
   },
   "outputs": [],
   "source": []
  },
  {
   "cell_type": "code",
   "execution_count": 7,
   "metadata": {},
   "outputs": [],
   "source": [
    "\n",
    "import pickle\n",
    "\n",
    "if ROS == True:\n",
    "    with open('openbox_results_single_objective_ROS/history_' + str(1), 'wb') as handle:\n",
    "        pickle.dump(history, handle, protocol=pickle.HIGHEST_PROTOCOL)\n",
    "\n",
    "else:\n",
    "    with open('openbox_results_single_objective_wo_ROS/history_' + str(1), 'wb') as handle:\n",
    "        pickle.dump(history, handle, protocol=pickle.HIGHEST_PROTOCOL)"
   ]
  },
  {
   "cell_type": "code",
   "execution_count": 1,
   "metadata": {},
   "outputs": [
    {
     "name": "stdout",
     "output_type": "stream",
     "text": [
      "[Build Surrogate] Use probabilistic random forest based on scikit-learn. For better performance, please install pyrfr: https://open-box.readthedocs.io/en/latest/installation/install_pyrfr.html\n"
     ]
    },
    {
     "name": "stderr",
     "output_type": "stream",
     "text": [
      "\r",
      "  0%|          | 0/1 [00:00<?, ?it/s]"
     ]
    },
    {
     "name": "stdout",
     "output_type": "stream",
     "text": [
      "[INFO] [2021-11-26 11:23:36,206] [OpenBox-SPO] Iteration 1, objective value: [89.8312049062049].\n"
     ]
    },
    {
     "name": "stderr",
     "output_type": "stream",
     "text": [
      "100%|██████████| 1/1 [00:58<00:00, 58.74s/it]"
     ]
    },
    {
     "name": "stdout",
     "output_type": "stream",
     "text": [
      "+--------------------------------------------+\n",
      "| Parameters              | Optimal Value    |\n",
      "+-------------------------+------------------+\n",
      "| x1                      | 1                |\n",
      "| x10                     | 1                |\n",
      "| x11                     | 1                |\n",
      "| x12                     | 1                |\n",
      "| x13                     | 1                |\n",
      "| x14                     | 1                |\n",
      "| x15                     | 1                |\n",
      "| x16                     | 1                |\n",
      "| x17                     | 1                |\n",
      "| x18                     | 1                |\n",
      "| x19                     | 1                |\n",
      "| x2                      | 1                |\n",
      "| x20                     | 1                |\n",
      "| x21                     | 1                |\n",
      "| x22                     | 1                |\n",
      "| x23                     | 1                |\n",
      "| x24                     | 1                |\n",
      "| x25                     | 1                |\n",
      "| x3                      | 1                |\n",
      "| x4                      | 1                |\n",
      "| x5                      | 1                |\n",
      "| x6                      | 1                |\n",
      "| x7                      | 1                |\n",
      "| x8                      | 1                |\n",
      "| x9                      | 1                |\n",
      "| y1                      | 1                |\n",
      "| y10                     | 1                |\n",
      "| y11                     | 1                |\n",
      "| y12                     | 1                |\n",
      "| y13                     | 1                |\n",
      "| y14                     | 1                |\n",
      "| y15                     | 1                |\n",
      "| y16                     | 1                |\n",
      "| y17                     | 1                |\n",
      "| y18                     | 1                |\n",
      "| y19                     | 1                |\n",
      "| y2                      | 1                |\n",
      "| y20                     | 1                |\n",
      "| y21                     | 1                |\n",
      "| y22                     | 1                |\n",
      "| y23                     | 1                |\n",
      "| y24                     | 1                |\n",
      "| y25                     | 1                |\n",
      "| y3                      | 1                |\n",
      "| y4                      | 1                |\n",
      "| y5                      | 1                |\n",
      "| y6                      | 1                |\n",
      "| y7                      | 1                |\n",
      "| y8                      | 1                |\n",
      "| y9                      | 1                |\n",
      "+-------------------------+------------------+\n",
      "| Optimal Objective Value | 89.8312049062049 |\n",
      "+-------------------------+------------------+\n",
      "| Num Configs             | 1                |\n",
      "+-------------------------+------------------+\n",
      "\n"
     ]
    },
    {
     "name": "stderr",
     "output_type": "stream",
     "text": [
      "\n"
     ]
    }
   ],
   "source": [
    "import SensorOptimizers.BayesianOptimization as bo\n",
    "import numpy as np\n",
    "import pickle\n",
    "\n",
    "ROS = True\n",
    "\n",
    "for i in range(0, 1):\n",
    "    history = bo.run(iteration = 1, epsilon = 0.5, ROS = True)\n",
    "\n",
    "    if ROS == True:\n",
    "        with open('openbox_results_single_objective_ROS/history_' + str(i), 'wb') as handle:\n",
    "            pickle.dump(history, handle, protocol=pickle.HIGHEST_PROTOCOL)\n",
    "\n",
    "    else:\n",
    "        with open('openbox_results_single_objective_wo_ROS/history_' + str(i), 'wb') as handle:\n",
    "            pickle.dump(history, handle, protocol=pickle.HIGHEST_PROTOCOL)\n",
    "            \n",
    "    print(history)"
   ]
  },
  {
   "cell_type": "code",
   "execution_count": null,
   "metadata": {},
   "outputs": [],
   "source": []
  }
 ],
 "metadata": {
  "colab": {
   "collapsed_sections": [],
   "machine_shape": "hm",
   "name": "OpenBox Final2.ipynb",
   "provenance": [
    {
     "file_id": "1swbtZSRLMPhKLusMYl4JguoWZEapxz9K",
     "timestamp": 1635560559445
    }
   ],
   "toc_visible": true
  },
  "kernelspec": {
   "display_name": "Python 3",
   "language": "python",
   "name": "python3"
  },
  "language_info": {
   "codemirror_mode": {
    "name": "ipython",
    "version": 3
   },
   "file_extension": ".py",
   "mimetype": "text/x-python",
   "name": "python",
   "nbconvert_exporter": "python",
   "pygments_lexer": "ipython3",
   "version": "3.9.0"
  }
 },
 "nbformat": 4,
 "nbformat_minor": 1
}
